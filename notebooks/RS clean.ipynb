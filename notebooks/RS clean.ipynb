{
 "cells": [
  {
   "cell_type": "code",
   "execution_count": 11,
   "metadata": {},
   "outputs": [],
   "source": [
    "include(\"../code/headers.jl\")"
   ]
  },
  {
   "cell_type": "markdown",
   "metadata": {},
   "source": [
    "# Checks for factor and variable updates"
   ]
  },
  {
   "cell_type": "code",
   "execution_count": 2,
   "metadata": {},
   "outputs": [
    {
     "data": {
      "text/plain": [
       "21×2 Array{Float64,2}:\n",
       " 0.0          0.0\n",
       " 0.0          0.0\n",
       " 0.0          0.0\n",
       " 1.63125e-23  1.63125e-23\n",
       " 3.62465e-22  3.62465e-22\n",
       " 6.96702e-11  6.96702e-11\n",
       " 1.86528e-7   1.86528e-7\n",
       " 0.00195959   0.00195959\n",
       " 0.0258637    0.0258637\n",
       " 0.314397     0.314397\n",
       " 0.315559     0.315559\n",
       " 0.314397     0.314397\n",
       " 0.0258637    0.0258637\n",
       " 0.00195959   0.00195959\n",
       " 1.86528e-7   1.86528e-7\n",
       " 6.96702e-11  6.96702e-11\n",
       " 3.62465e-22  3.62465e-22\n",
       " 1.63125e-23  1.63125e-23\n",
       " 0.0          0.0\n",
       " 0.0          0.0\n",
       " 0.0          0.0"
      ]
     },
     "execution_count": 2,
     "metadata": {},
     "output_type": "execute_result"
    }
   ],
   "source": [
    "N = 10\n",
    "p0 = fill(0.0, -N:N)\n",
    "p0[0:3] .= rand(4)\n",
    "p0[-1:-1:-3] .= p0[1:3]\n",
    "p0 ./= sum(p0)\n",
    "p1 = copy(p0)\n",
    "p2 = copy(p0)\n",
    "\n",
    "for i=1:4\n",
    "    p1 = iter_slow_factor(iter_slow_var(p1,2-1),3-1)\n",
    "    p2 = iter_factor(iter_var(p2,2-1),3-1)\n",
    "end\n",
    "[p1[-N:N] p2[-N:N]]"
   ]
  },
  {
   "cell_type": "markdown",
   "metadata": {},
   "source": [
    "# Results"
   ]
  },
  {
   "cell_type": "code",
   "execution_count": 14,
   "metadata": {},
   "outputs": [
    {
     "name": "stdout",
     "output_type": "stream",
     "text": [
      "r = 0.01\n",
      "err = 9.853229343548264e-16\n",
      "iter = 11661\n",
      "Fia = -10.411607770941435\n",
      "Fi = 7.523553085167532\n",
      "Fa = 2.797352059277709\n",
      "O = 0.09070262649619387\n"
     ]
    },
    {
     "data": {
      "text/plain": [
       "([0.01], [0.45464868675190306])"
      ]
     },
     "execution_count": 14,
     "metadata": {},
     "output_type": "execute_result"
    }
   ],
   "source": [
    "using Unzip\n",
    "\n",
    "# Rm = 0.2:0.1:0.8\n",
    "# for r in Rm\n",
    "#      α=1-r\n",
    "#     k=floor(Int, 2/α)\n",
    "#     s=k+1-2/α\n",
    "#     K=[fill(0,k-1); s; 1-s]\n",
    "#     @show r, K\n",
    "# end\n",
    "\n",
    "# k=mix of degrees l,l+1, d=2\n",
    "# Rm,Dm=map(0.01:0.01:0.99) do r\n",
    "Rm,Dm=map(0.01:0.01) do r\n",
    "    @show r\n",
    "    α=1-r\n",
    "    k=floor(Int, 2/α)\n",
    "    s=k+1-2/α\n",
    "    K=[fill(0,k-1); s; 1-s]\n",
    "    K .*= K .> 1e-10\n",
    "    K ./ sum(K)\n",
    "    r1,d,p = RS(K, [0,1]; N=200, tol=1e-15, maxiter=10^5)\n",
    "    @assert r ≈ r1\n",
    "    r,d\n",
    "end |>unzip "
   ]
  },
  {
   "cell_type": "code",
   "execution_count": 23,
   "metadata": {
    "scrolled": true
   },
   "outputs": [
    {
     "name": "stdout",
     "output_type": "stream",
     "text": [
      "err = 9.799649980379854e-11\n",
      "iter = 321\n",
      "err = 9.832717973168315e-11\n",
      "iter = 316\n",
      "err = 9.343753548662903e-11\n",
      "iter = 312\n",
      "err = 9.789741239885075e-11\n",
      "iter = 307\n",
      "err = 9.628009500772805e-11\n",
      "iter = 303\n",
      "err = 9.594142147406615e-11\n",
      "iter = 299\n",
      "err = 9.671508038877619e-11\n",
      "iter = 295\n",
      "err = 9.851192084298077e-11\n",
      "iter = 291\n",
      "err = 9.318612548270266e-11\n",
      "iter = 288\n",
      "err = 9.658385202726549e-11\n",
      "iter = 284\n",
      "err = 9.269279788171048e-11\n",
      "iter = 281\n",
      "err = 9.754175245291208e-11\n",
      "iter = 277\n",
      "err = 9.480610740908446e-11\n",
      "iter = 274\n",
      "err = 9.265027633986733e-11\n",
      "iter = 271\n",
      "err = 9.945688717039047e-11\n",
      "iter = 267\n",
      "err = 9.828432512293261e-11\n",
      "iter = 264\n",
      "err = 9.759976160594874e-11\n",
      "iter = 261\n",
      "err = 9.738010398052666e-11\n",
      "iter = 258\n",
      "err = 9.760842134554082e-11\n",
      "iter = 255\n",
      "err = 9.827472169376961e-11\n",
      "iter = 252\n",
      "err = 9.93732873766362e-11\n",
      "iter = 249\n",
      "err = 9.17650955223337e-11\n",
      "iter = 247\n",
      "err = 9.346484697303481e-11\n",
      "iter = 244\n",
      "err = 9.555589652876506e-11\n",
      "iter = 241\n",
      "err = 9.80465153510579e-11\n",
      "iter = 238\n",
      "err = 9.149603297231579e-11\n",
      "iter = 236\n",
      "err = 9.447553850350232e-11\n",
      "iter = 233\n",
      "err = 9.797321287585703e-11\n",
      "iter = 230\n",
      "err = 9.238804166145087e-11\n",
      "iter = 228\n",
      "err = 9.7200636428596e-11\n",
      "iter = 225\n",
      "err = 9.363093633751873e-11\n",
      "iter = 223\n",
      "err = 9.147800572595344e-11\n",
      "iter = 221\n",
      "err = 9.573687675956677e-11\n",
      "iter = 218\n",
      "err = 9.841676779087649e-11\n",
      "iter = 209\n"
     ]
    },
    {
     "data": {
      "text/plain": [
       "([0.3333333333333333, 0.3433333333333333, 0.35333333333333333, 0.36333333333333334, 0.37333333333333335, 0.38333333333333336, 0.3933333333333333, 0.4033333333333333, 0.41333333333333333, 0.42333333333333334  …  0.5733333333333334, 0.5833333333333334, 0.5933333333333334, 0.6033333333333334, 0.6133333333333333, 0.6233333333333333, 0.6333333333333333, 0.6433333333333333, 0.6533333333333333, 0.6633333333333333], [0.20962056095628745, 0.20735484854520947, 0.20510675972527204, 0.2028774314000234, 0.2006681095706887, 0.1984801629443529, 0.1963150986467942, 0.1941745804314955, 0.19206044986217263, 0.18997475105376183  …  0.1646778261813926, 0.16371804813895963, 0.16292944871509907, 0.1623407396438657, 0.16198761138123774, 0.1619150106824913, 0.16218037482422176, 0.16285832422512597, 0.1640476353615466, 0.16588187704481594])"
      ]
     },
     "execution_count": 23,
     "metadata": {},
     "output_type": "execute_result"
    }
   ],
   "source": [
    "#k=3 , d=mix of degrees 1,2\n",
    "R12,D12=map(1/3:0.01:2/3) do r\n",
    "    #2-t=t+2(1-t)=3(1-r) \n",
    "    t=3r-1\n",
    "    r1,d,p = RS([0,0,1], [t,1-t]; N=20, tol=1e-10, maxiter=10000)\n",
    "    @assert r ≈ r1\n",
    "    r,d\n",
    "end |> unzip"
   ]
  },
  {
   "cell_type": "code",
   "execution_count": 30,
   "metadata": {
    "scrolled": true
   },
   "outputs": [
    {
     "name": "stdout",
     "output_type": "stream",
     "text": [
      "err = 9.784095755804856e-11\n",
      "iter = 733\n",
      "Fia = -4.766194574093808\n",
      "Fi = 3.740738084052149\n",
      "Fa = 0.6301059775220258\n",
      "O = 0.3953505125196327\n",
      "err = 9.733180927895546e-11\n",
      "iter = 710\n",
      "Fia = -4.65472709054686\n",
      "Fi = 3.637989696691119\n",
      "Fa = 0.6151166085667421\n",
      "O = 0.4016207852889988\n",
      "err = 9.758499563972123e-11\n",
      "iter = 688\n",
      "Fia = -4.546677999931233\n",
      "Fi = 3.5381752110426135\n",
      "Fa = 0.6006716241363569\n",
      "O = 0.40783116475226244\n",
      "err = 9.833306391371366e-11\n",
      "iter = 667\n",
      "Fia = -4.441826611649474\n",
      "Fi = 3.4411081088824305\n",
      "Fa = 0.5867344713426033\n",
      "O = 0.4139840314244403\n",
      "err = 9.930467559371436e-11\n",
      "iter = 647\n",
      "Fia = -4.339972748682597\n",
      "Fi = 3.3466192020365875\n",
      "Fa = 0.5732719536708506\n",
      "O = 0.4200815929751591\n",
      "err = 9.635625630721734e-11\n",
      "iter = 629\n",
      "Fia = -4.240934371980117\n",
      "Fi = 3.254554622237103\n",
      "Fa = 0.5602538491400422\n",
      "O = 0.42612590060297206\n",
      "err = 9.676559553639663e-11\n",
      "iter = 611\n",
      "Fia = -4.144545529129482\n",
      "Fi = 3.1647740860550306\n",
      "Fa = 0.5476525795503778\n",
      "O = 0.4321188635240739\n",
      "err = 9.652528776271652e-11\n",
      "iter = 594\n",
      "Fia = -4.050654575328753\n",
      "Fi = 3.077149390663663\n",
      "Fa = 0.5354429228337254\n",
      "O = 0.43806226183136476\n",
      "err = 9.951983681588672e-11\n",
      "iter = 577\n",
      "Fia = -3.9591226272132074\n",
      "Fi = 2.9915631069360034\n",
      "Fa = 0.5236017623362722\n",
      "O = 0.44395775794093184\n",
      "err = 9.715572790724991e-11\n",
      "iter = 562\n",
      "Fia = -3.8698222128121205\n",
      "Fi = 2.9079074386233184\n",
      "Fa = 0.5121078673785477\n",
      "O = 0.44980690681025437\n",
      "err = 9.765249719961844e-11\n",
      "iter = 547\n",
      "Fia = -3.782636090961416\n",
      "Fi = 2.826083225010036\n",
      "Fa = 0.5009417008657646\n",
      "O = 0.45561116508561517\n",
      "err = 9.65035829025851e-11\n",
      "iter = 533\n",
      "Fia = -3.6974562135937674\n",
      "Fi = 2.7459990644204946\n",
      "Fa = 0.4900852498596178\n",
      "O = 0.461371899313655\n",
      "err = 9.803213796288901e-11\n",
      "iter = 519\n",
      "Fia = -3.6141828130554234\n",
      "Fi = 2.667570543493937\n",
      "Fa = 0.4795218762284174\n",
      "O = 0.46709039333306906\n",
      "err = 9.751133234203735e-11\n",
      "iter = 506\n",
      "Fia = -3.532723595452672\n",
      "Fi = 2.590719556063817\n",
      "Fa = 0.46923618444219517\n",
      "O = 0.4727678549466595\n",
      "err = 9.953599056089502e-11\n",
      "iter = 493\n",
      "Fia = -3.4529930270219964\n",
      "Fi = 2.515373700657477\n",
      "Fa = 0.45921390440399135\n",
      "O = 0.47840542196052827\n",
      "err = 9.906681031068842e-11\n",
      "iter = 481\n",
      "Fia = -3.3749116999042768\n",
      "Fi = 2.4414657450329775\n",
      "Fa = 0.44944178720530875\n",
      "O = 0.48400416766599047\n",
      "err = 9.580863880032098e-11\n",
      "iter = 470\n",
      "Fia = -3.298405768052293\n",
      "Fi = 2.368933149937158\n",
      "Fa = 0.4399075122850106\n",
      "O = 0.4895651058301245\n",
      "err = 9.997969119268646e-11\n",
      "iter = 458\n",
      "Fia = -3.223406443553957\n",
      "Fi = 2.297717643830181\n",
      "Fa = 0.43059960447084666\n",
      "O = 0.49508919525292905\n",
      "err = 9.573530856954449e-11\n",
      "iter = 448\n",
      "Fia = -3.1498495453255777\n",
      "Fi = 2.227764841747822\n",
      "Fa = 0.4215073596356736\n",
      "O = 0.500577343942082\n",
      "err = 9.898665220831049e-11\n",
      "iter = 437\n",
      "Fia = -3.077675095315091\n",
      "Fi = 2.1590239042522574\n",
      "Fa = 0.41262077811227876\n",
      "O = 0.5060304129505548\n",
      "err = 9.882078488843149e-11\n",
      "iter = 427\n",
      "Fia = -3.0068269537462973\n",
      "Fi = 2.0914472291969006\n",
      "Fa = 0.40393050463196906\n",
      "O = 0.5114492199174276\n",
      "err = 9.49084699719549e-11\n",
      "iter = 418\n",
      "Fia = -2.9372524911316624\n",
      "Fi = 2.0249901744819776\n",
      "Fa = 0.3954277743015847\n",
      "O = 0.5168345423481001\n",
      "err = 9.865647188078697e-11\n",
      "iter = 408\n",
      "Fia = -2.868902291013881\n",
      "Fi = 1.9596108066195692\n",
      "Fa = 0.3871043637276168\n",
      "O = 0.5221871206666948\n",
      "err = 9.845785298168153e-11\n",
      "iter = 399\n",
      "Fia = -2.8017298798179135\n",
      "Fi = 1.8952696720437392\n",
      "Fa = 0.3789525467036152\n",
      "O = 0.5275076610705591\n",
      "err = 9.398082312372935e-11\n",
      "iter = 391\n",
      "Fia = -2.73569148148027\n",
      "Fi = 1.8319295892270606\n",
      "Fa = 0.37096505403868674\n",
      "O = 0.5327968382145226\n",
      "err = 9.731893069186981e-11\n",
      "iter = 382\n",
      "Fia = -2.670745792833205\n",
      "Fi = 1.7695554581438302\n",
      "Fa = 0.36313503693864746\n",
      "O = 0.5380552977507274\n",
      "err = 9.61798418686044e-11\n",
      "iter = 374\n",
      "Fia = -2.6068537772125837\n",
      "Fi = 1.708114084926026\n",
      "Fa = 0.35545603353797184\n",
      "O = 0.543283658748586\n",
      "err = 9.669548495239155e-11\n",
      "iter = 366\n",
      "Fia = -2.5439784748461505\n",
      "Fi = 1.647574020517417\n",
      "Fa = 0.34792193831024515\n",
      "O = 0.5484825160184883\n",
      "err = 9.892109353870637e-11\n",
      "iter = 358\n",
      "Fia = -2.4820848266798414\n",
      "Fi = 1.5879054104200452\n",
      "Fa = 0.3405269738972936\n",
      "O = 0.5536524423625027\n",
      "err = 9.598422057166545e-11\n",
      "iter = 351\n",
      "Fia = -2.4211395104330693\n",
      "Fi = 1.5290798545189188\n",
      "Fa = 0.3332656651387592\n",
      "O = 0.5587939907753913\n",
      "err = 9.45481470893128e-11\n",
      "iter = 344\n",
      "Fia = -2.361110786958935\n",
      "Fi = 1.4710702753215579\n",
      "Fa = 0.3261328150176123\n",
      "O = 0.5639076966197647\n",
      "err = 9.456896377102453e-11\n",
      "iter = 337\n",
      "Fia = -2.3019683548028422\n",
      "Fi = 1.4138507927712023\n",
      "Fa = 0.3191234822312665\n",
      "O = 0.5689940798003734\n",
      "err = 9.607015183377143e-11\n",
      "iter = 330\n",
      "Fia = -2.2436832117172765\n",
      "Fi = 1.3573966045573405\n",
      "Fa = 0.31223296019572766\n",
      "O = 0.5740536469642084\n",
      "err = 9.914369325514372e-11\n",
      "iter = 323\n",
      "Fia = -2.1862275212562805\n",
      "Fi = 1.301683870266953\n",
      "Fa = 0.3054567572337231\n",
      "O = 0.5790868937556043\n"
     ]
    },
    {
     "data": {
      "text/plain": [
       "([0.0, 0.01, 0.02, 0.03, 0.04, 0.05, 0.06, 0.07, 0.08, 0.09  …  0.24, 0.25, 0.26, 0.27, 0.28, 0.29, 0.3, 0.31, 0.32, 0.33], [0.30232474374018364, 0.2991896073555006, 0.2960844176238688, 0.29300798428777985, 0.28995920351242044, 0.28693704969851397, 0.28394056823796304, 0.2809688690843176, 0.2780211210295341, 0.2750965465948728  …  0.2336015808927387, 0.23097235112463632, 0.228358170625707, 0.22575874199075585, 0.22317377881874867, 0.22060300461230437, 0.21804615169011765, 0.2155029600998133, 0.21297317651789582, 0.21045655312219785])"
      ]
     },
     "execution_count": 30,
     "metadata": {},
     "output_type": "execute_result"
    }
   ],
   "source": [
    "#k=3, d = mix of degrees 2,3\n",
    "R23,D23=map(0.0:0.01:1/3) do r\n",
    "    # 3-t=2t+3(1-t)=<d> = 3(1-r) -> t=3r\n",
    "    t=3r\n",
    "    r1,d,p,q = RS([0,0,1], [0,t,1-t]; N=20, tol=1e-10, maxiter=10000)\n",
    "    @assert r ≈ r1\n",
    "    r,d\n",
    "end |>unzip"
   ]
  },
  {
   "cell_type": "code",
   "execution_count": 12,
   "metadata": {},
   "outputs": [
    {
     "name": "stdout",
     "output_type": "stream",
     "text": [
      "err = 9.824513425016335e-11\n",
      "iter = 424\n",
      "Fia = -3.1072001554494135\n",
      "Fi = 2.1871566231636876\n",
      "Fa = 0.4162519617591314\n",
      "O = 0.5037915705265945\n"
     ]
    },
    {
     "data": {
      "text/plain": [
       "(0.18588652886439316, 0.24810421473670274, [6.539193810448665e-18, 6.34662677964226e-15, 3.2910939322005455e-12, 8.935540334190384e-10, 1.227338738008608e-7, 8.3506763004038e-6, 0.00029590923164253514, 0.005899824359813897, 0.057565748390582636, 0.23605422057332928  …  0.23605422057332928, 0.057565748390582636, 0.005899824359813897, 0.00029590923164253514, 8.3506763004038e-6, 1.227338738008608e-7, 8.935540334190384e-10, 3.2910939322005455e-12, 6.34662677964226e-15, 6.539193810448665e-18], [1.8075123088486724e-9, 5.455362048388985e-8, 1.227665134313688e-6, 1.989203863453286e-5, 0.0002274508871411418, 0.0018098077583892408, 0.01027816807148611, 0.04335993156871683, 0.12286711847717163, 0.20862117178007458  …  0.20862117178007458, 0.1228671184771716, 0.04335993156871683, 0.010278168071486111, 0.0018098077583892408, 0.00022745088714114177, 1.9892038634532858e-5, 1.2276651343136881e-6, 5.455362048388985e-8, 1.8075123088486724e-9])"
      ]
     },
     "execution_count": 12,
     "metadata": {},
     "output_type": "execute_result"
    }
   ],
   "source": [
    "#RS instability?\n",
    "a=0.54334\n",
    "Λ=[0,(1-a)/2,a/3]\n",
    "Λ ./= sum(Λ)\n",
    "rd,dd,p=RS([0,0,1],Λ; N=10, tol=1e-10, maxiter=10000)"
   ]
  },
  {
   "cell_type": "code",
   "execution_count": 16,
   "metadata": {},
   "outputs": [
    {
     "data": {
      "image/png": "[encoded data removed]",
      "text/plain": [
       "Figure(PyObject <Figure size 600x500 with 1 Axes>)"
      ]
     },
     "metadata": {},
     "output_type": "display_data"
    },
    {
     "name": "stderr",
     "output_type": "stream",
     "text": [
      "WARNING: using PyPlot.bar in module Main conflicts with an existing identifier.\n",
      "WARNING: using PyPlot.plot in module Main conflicts with an existing identifier.\n"
     ]
    },
    {
     "data": {
      "text/plain": [
       "1-element Array{PyCall.PyObject,1}:\n",
       " PyObject <matplotlib.lines.Line2D object at 0x7f5fd8842ba8>"
      ]
     },
     "execution_count": 16,
     "metadata": {},
     "output_type": "execute_result"
    }
   ],
   "source": [
    "using PyPlot\n",
    "H(p)=1+p*log2(p)+(1-p)*log2(1-p)\n",
    "fig, ax = PyPlot.subplots(figsize=(6,5))\n",
    "PyPlot.xlabel(\"Rate\")\n",
    "PyPlot.ylabel(\"Distortion\")\n",
    "PyPlot.plot((0,1),(0.5,0), label=\"trival\")\n",
    "PyPlot.plot(H.(0:0.001:0.5), 0:0.001:0.5, label=\"information bound\")\n",
    "# PyPlot.plot(Rm,Dm, \"--\", label=\"RS d ~ δ₂, k ~ rδₗ+(1-r)δₗ₊₁\", c=:gray)\n",
    "# PyPlot.plot((0.5, 0.174603333333333332)..., \"o\", label=\"MS d ~ ½(δ₁+δ₂), k ~ δ₃\") \n",
    "PyPlot.plot(R23,D23, \"-\", label=\"RS d ~ rδ₂+(1-r)δ₃, k ~ δ₃\") \n",
    "# PyPlot.plot(R12,D12, \"-\", label=\"RS d ~ rδ₁+(1-r)δ₂, k ~ δ₃\")\n",
    "# PyPlot.plot(0.267,0.23, \"*\", label=\"SP\")\n",
    "# PyPlot.plot(rd,dd, \"+\", label=\"instability\")\n",
    "# PyPlot.legend()"
   ]
  },
  {
   "cell_type": "code",
   "execution_count": null,
   "metadata": {},
   "outputs": [],
   "source": []
  }
 ],
 "metadata": {
  "kernelspec": {
   "display_name": "Julia 1.5.3",
   "language": "julia",
   "name": "julia-1.5"
  },
  "language_info": {
   "file_extension": ".jl",
   "mimetype": "application/julia",
   "name": "julia",
   "version": "1.5.3"
  }
 },
 "nbformat": 4,
 "nbformat_minor": 4
}
