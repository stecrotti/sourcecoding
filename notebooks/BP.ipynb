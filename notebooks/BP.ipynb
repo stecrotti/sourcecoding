{
 "cells": [
  {
   "cell_type": "markdown",
   "metadata": {},
   "source": [
    "# BP with decimation"
   ]
  },
  {
   "cell_type": "code",
   "execution_count": 122,
   "metadata": {},
   "outputs": [
    {
     "data": {
      "text/plain": [
       "findbasis_slow (generic function with 1 method)"
      ]
     },
     "execution_count": 122,
     "metadata": {},
     "output_type": "execute_result"
    }
   ],
   "source": [
    "using OffsetArrays, Statistics\n",
    "include(\"../code/bp.jl\")\n",
    "include(\"../code/slim_graphs.jl\")"
   ]
  },
  {
   "cell_type": "code",
   "execution_count": 123,
   "metadata": {},
   "outputs": [
    {
     "data": {
      "text/plain": [
       "(Bool[0 0 … 1 1; 0 1 … 1 0; … ; 0 0 … 1 0; 0 0 … 0 1], [535, 1039, 1060, 1085, 1089, 1100, 1122, 1147, 1152, 1153  …  1791, 1792, 1793, 1794, 1795, 1796, 1797, 1798, 1799, 1800])"
      ]
     },
     "execution_count": 123,
     "metadata": {},
     "output_type": "execute_result"
    }
   ],
   "source": [
    "m = factorial(5)*11\n",
    "R = 0.8/3\n",
    "r = 1 - 3R\n",
    "n = round(Int, 3m/(2+r))\n",
    "Λ = OffsetVector([0,0,1-r,r], 0:3)\n",
    "K = OffsetVector([0,0,0,1], 0:3)\n",
    "nedges = 3m\n",
    "H = 0.63\n",
    "s = rand((-1,1), n)\n",
    "efield = tanh.(H*copy(s))\n",
    "bp = belief_propagation(n, m, nedges, Λ, K, efield)\n",
    "B, freevars = findbasis_slow(permutedims(Array(bp.H)))"
   ]
  },
  {
   "cell_type": "code",
   "execution_count": 115,
   "metadata": {},
   "outputs": [],
   "source": [
    "efield[freevars] .= s[freevars]\n",
    "bp.efield .= efield;"
   ]
  },
  {
   "cell_type": "code",
   "execution_count": 116,
   "metadata": {},
   "outputs": [
    {
     "data": {
      "text/plain": [
       "(5.82076609134674e-11, 322)"
      ]
     },
     "execution_count": 116,
     "metadata": {},
     "output_type": "execute_result"
    }
   ],
   "source": [
    "iteration!(bp; maxiter=1000, tol=1e-10, damp=0.5) "
   ]
  },
  {
   "cell_type": "code",
   "execution_count": 118,
   "metadata": {},
   "outputs": [
    {
     "data": {
      "text/plain": [
       "true"
      ]
     },
     "execution_count": 118,
     "metadata": {},
     "output_type": "execute_result"
    }
   ],
   "source": [
    "all(abs.(bp.efield).==1)"
   ]
  },
  {
   "cell_type": "code",
   "execution_count": 119,
   "metadata": {},
   "outputs": [
    {
     "data": {
      "text/plain": [
       "(0, 0.33444444444444443, 0.3327777777777778)"
      ]
     },
     "execution_count": 119,
     "metadata": {},
     "output_type": "execute_result"
    }
   ],
   "source": [
    "performance(bp,s)"
   ]
  },
  {
   "cell_type": "code",
   "execution_count": 124,
   "metadata": {
    "scrolled": true
   },
   "outputs": [
    {
     "name": "stdout",
     "output_type": "stream",
     "text": [
      "Trial 1 of 1:  Step    0. Free = 480. ε = 9.05E-05. Unsat = 241. Ovl = 0.756. Iters 51\n",
      " Step    1. Free = 479. ε = 7.87E-05. Unsat = 241. Ovl = 0.756. Iters 15\n",
      " Step    2. Free = 478. ε = 8.32E-05. Unsat = 241. Ovl = 0.756. Iters 16\n",
      " Step    3. Free = 477. ε = 7.08E-05. Unsat = 241. Ovl = 0.756. Iters 18\n",
      " Step    4. Free = 476. ε = 5.14E-05. Unsat = 241. Ovl = 0.756. Iters 27\n",
      " Step    5. Free = 475. ε = 7.58E-05. Unsat = 241. Ovl = 0.756. Iters 18\n",
      " Step    6. Free = 474. ε = 7.49E-05. Unsat = 241. Ovl = 0.756. Iters 20\n",
      " Step    7. Free = 473. ε = 6.84E-05. Unsat = 241. Ovl = 0.756. Iters 21\n",
      " Step    8. Free = 472. ε = 6.96E-05. Unsat = 241. Ovl = 0.756. Iters 41\n",
      " Step    9. Free = 471. ε = 7.96E-05. Unsat = 241. Ovl = 0.756. Iters 21\n",
      " Step   10. Free = 470. ε = 8.88E-05. Unsat = 239. Ovl = 0.754. Iters 21\n",
      " Step   11. Free = 469. ε = 6.88E-05. Unsat = 239. Ovl = 0.754. Iters 46\n",
      " Step   12. Free = 468. ε = 9.35E-05. Unsat = 239. Ovl = 0.754. Iters 19\n",
      " Step   13. Free = 467. ε = 6.68E-05. Unsat = 239. Ovl = 0.754. Iters 67\n",
      " Step   14. Free = 466. ε = 9.01E-05. Unsat = 239. Ovl = 0.754. Iters 18\n",
      " Step   15. Free = 465. ε = 9.01E-05. Unsat = 239. Ovl = 0.754. Iters 22\n",
      " Step   16. Free = 464. ε = 6.43E-05. Unsat = 239. Ovl = 0.754. Iters 45\n",
      " Step   17. Free = 463. ε = 8.76E-05. Unsat = 239. Ovl = 0.754. Iters 25\n",
      " Step   18. Free = 462. ε = 7.60E-05. Unsat = 239. Ovl = 0.754. Iters 23\n",
      " Step   19. Free = 461. ε = 6.25E-05. Unsat = 239. Ovl = 0.754. Iters 66\n",
      " Step   20. Free = 460. ε = 7.37E-05. Unsat = 239. Ovl = 0.754. Iters 21\n",
      " Step   21. Free = 459. ε = 5.32E-05. Unsat = 239. Ovl = 0.754. Iters 39\n",
      " Step   22. Free = 458. ε = 9.83E-05. Unsat = 239. Ovl = 0.754. Iters 20\n",
      " Step   23. Free = 457. ε = 9.94E-05. Unsat = 239. Ovl = 0.754. Iters 40\n",
      " Step   24. Free = 456. ε = 8.65E-05. Unsat = 236. Ovl = 0.752. Iters 22\n",
      " Step   25. Free = 455. ε = 9.07E-05. Unsat = 236. Ovl = 0.752. Iters 24\n",
      " Step   26. Free = 454. ε = 5.33E-05. Unsat = 236. Ovl = 0.752. Iters 43\n",
      " Step   27. Free = 453. ε = 6.82E-05. Unsat = 236. Ovl = 0.752. Iters 25\n",
      " Step   28. Free = 452. ε = 7.83E-05. Unsat = 236. Ovl = 0.753. Iters 33\n",
      " Step   29. Free = 451. ε = 6.35E-05. Unsat = 236. Ovl = 0.753. Iters 34\n",
      " Step   30. Free = 450. ε = 9.57E-05. Unsat = 236. Ovl = 0.753. Iters 26\n",
      " Step   31. Free = 449. ε = 8.86E-05. Unsat = 235. Ovl = 0.752. Iters 23\n",
      " Step   32. Free = 448. ε = 7.06E-05. Unsat = 237. Ovl = 0.753. Iters 39\n",
      " Step   33. Free = 447. ε = 7.00E-05. Unsat = 238. Ovl = 0.754. Iters 25\n",
      " Step   34. Free = 446. ε = 8.93E-05. Unsat = 238. Ovl = 0.753. Iters 37\n",
      " Step   35. Free = 445. ε = 8.06E-05. Unsat = 238. Ovl = 0.754. Iters 25\n",
      " Step   36. Free = 444. ε = 8.79E-05. Unsat = 238. Ovl = 0.754. Iters 40\n",
      " Step   37. Free = 443. ε = 9.14E-05. Unsat = 238. Ovl = 0.753. Iters 29\n",
      " Step   38. Free = 442. ε = 5.04E-05. Unsat = 238. Ovl = 0.753. Iters 32\n",
      " Step   39. Free = 441. ε = 7.74E-05. Unsat = 239. Ovl = 0.752. Iters 27\n",
      " Step   40. Free = 440. ε = 5.30E-05. Unsat = 239. Ovl = 0.752. Iters 37\n",
      " Step   41. Free = 439. ε = 9.98E-05. Unsat = 237. Ovl = 0.751. Iters 24\n",
      " Step   42. Free = 438. ε = 8.00E-05. Unsat = 237. Ovl = 0.751. Iters 24\n",
      " Step   43. Free = 437. ε = 9.10E-05. Unsat = 239. Ovl = 0.752. Iters 26\n",
      " Step   44. Free = 436. ε = 6.74E-05. Unsat = 239. Ovl = 0.752. Iters 63\n",
      " Step   45. Free = 435. ε = 9.44E-05. Unsat = 239. Ovl = 0.752. Iters 22\n",
      " Step   46. Free = 434. ε = 8.58E-05. Unsat = 237. Ovl = 0.751. Iters 28\n",
      " Step   47. Free = 433. ε = 9.91E-05. Unsat = 237. Ovl = 0.751. Iters 16\n",
      " Step   48. Free = 432. ε = 9.01E-05. Unsat = 237. Ovl = 0.751. Iters 62\n",
      " Step   49. Free = 431. ε = 7.77E-05. Unsat = 235. Ovl = 0.751. Iters 25\n",
      " Step   50. Free = 430. ε = 7.88E-05. Unsat = 235. Ovl = 0.751. Iters 24\n",
      " Step   51. Free = 429. ε = 8.53E-05. Unsat = 235. Ovl = 0.751. Iters 64\n",
      " Step   52. Free = 428. ε = 8.49E-05. Unsat = 234. Ovl = 0.749. Iters 30\n",
      " Step   53. Free = 427. ε = 8.45E-05. Unsat = 234. Ovl = 0.749. Iters 28\n",
      " Step   54. Free = 426. ε = 9.92E-05. Unsat = 230. Ovl = 0.749. Iters 28\n",
      " Step   55. Free = 425. ε = 7.05E-05. Unsat = 230. Ovl = 0.749. Iters 31\n",
      " Step   56. Free = 424. ε = 9.83E-05. Unsat = 230. Ovl = 0.749. Iters 37\n",
      " Step   57. Free = 423. ε = 8.83E-05. Unsat = 231. Ovl = 0.748. Iters 28\n",
      " Step   58. Free = 422. ε = 5.30E-05. Unsat = 231. Ovl = 0.748. Iters 38\n",
      " Step   59. Free = 421. ε = 9.03E-05. Unsat = 232. Ovl = 0.750. Iters 25\n",
      " Step   60. Free = 420. ε = 7.62E-05. Unsat = 230. Ovl = 0.749. Iters 33\n",
      " Step   61. Free = 419. ε = 5.70E-05. Unsat = 230. Ovl = 0.748. Iters 31\n",
      " Step   62. Free = 418. ε = 8.07E-05. Unsat = 230. Ovl = 0.748. Iters 29\n",
      " Step   63. Free = 417. ε = 7.76E-05. Unsat = 230. Ovl = 0.748. Iters 22\n",
      " Step   64. Free = 416. ε = 8.86E-05. Unsat = 232. Ovl = 0.749. Iters 26\n",
      " Step   65. Free = 415. ε = 6.89E-05. Unsat = 231. Ovl = 0.748. Iters 32\n",
      " Step   66. Free = 414. ε = 9.33E-05. Unsat = 232. Ovl = 0.749. Iters 31\n",
      " Step   67. Free = 413. ε = 7.86E-05. Unsat = 230. Ovl = 0.747. Iters 30\n",
      " Step   68. Free = 412. ε = 8.81E-05. Unsat = 230. Ovl = 0.747. Iters 29\n",
      " Step   69. Free = 411. ε = 8.89E-05. Unsat = 230. Ovl = 0.747. Iters 24\n",
      " Step   70. Free = 410. ε = 9.39E-05. Unsat = 230. Ovl = 0.747. Iters 26\n",
      " Step   71. Free = 409. ε = 8.03E-05. Unsat = 229. Ovl = 0.746. Iters 67\n",
      " Step   72. Free = 408. ε = 9.39E-05. Unsat = 228. Ovl = 0.744. Iters 29\n",
      " Step   73. Free = 407. ε = 8.57E-05. Unsat = 228. Ovl = 0.744. Iters 26\n",
      " Step   74. Free = 406. ε = 6.87E-05. Unsat = 226. Ovl = 0.743. Iters 64\n",
      " Step   75. Free = 405. ε = 9.54E-05. Unsat = 224. Ovl = 0.742. Iters 28\n",
      " Step   76. Free = 404. ε = 8.28E-05. Unsat = 222. Ovl = 0.741. Iters 35\n",
      " Step   77. Free = 403. ε = 8.21E-05. Unsat = 223. Ovl = 0.743. Iters 30\n",
      " Step   78. Free = 402. ε = 8.14E-05. Unsat = 223. Ovl = 0.743. Iters 32\n",
      " Step   79. Free = 401. ε = 7.02E-05. Unsat = 224. Ovl = 0.742. Iters 32\n",
      " Step   80. Free = 400. ε = 9.33E-05. Unsat = 225. Ovl = 0.742. Iters 34\n",
      " Step   81. Free = 399. ε = 9.18E-05. Unsat = 223. Ovl = 0.742. Iters 33\n",
      " Step   82. Free = 398. ε = 6.79E-05. Unsat = 225. Ovl = 0.743. Iters 30\n",
      " Step   83. Free = 397. ε = 5.02E-05. Unsat = 226. Ovl = 0.743. Iters 36\n",
      " Step   84. Free = 396. ε = 5.18E-05. Unsat = 224. Ovl = 0.742. Iters 36\n",
      " Step   85. Free = 395. ε = 9.32E-05. Unsat = 223. Ovl = 0.741. Iters 31\n",
      " Step   86. Free = 394. ε = 6.08E-05. Unsat = 225. Ovl = 0.742. Iters 30\n",
      " Step   87. Free = 393. ε = 8.49E-05. Unsat = 225. Ovl = 0.741. Iters 25\n",
      " Step   88. Free = 392. ε = 7.46E-05. Unsat = 225. Ovl = 0.741. Iters 16\n",
      " Step   89. Free = 391. ε = 7.40E-05. Unsat = 225. Ovl = 0.741. Iters 68\n",
      " Step   90. Free = 390. ε = 7.89E-05. Unsat = 225. Ovl = 0.739. Iters 29\n",
      " Step   91. Free = 389. ε = 9.18E-05. Unsat = 227. Ovl = 0.741. Iters 35\n",
      " Step   92. Free = 388. ε = 9.60E-05. Unsat = 222. Ovl = 0.738. Iters 31\n",
      " Step   93. Free = 387. ε = 7.50E-05. Unsat = 220. Ovl = 0.738. Iters 30\n",
      " Step   94. Free = 386. ε = 5.99E-05. Unsat = 219. Ovl = 0.737. Iters 34\n",
      " Step   95. Free = 385. ε = 8.42E-05. Unsat = 221. Ovl = 0.738. Iters 28\n",
      " Step   96. Free = 384. ε = 9.84E-05. Unsat = 217. Ovl = 0.737. Iters 29\n",
      " Step   97. Free = 383. ε = 7.84E-05. Unsat = 217. Ovl = 0.737. Iters 24\n",
      " Step   98. Free = 382. ε = 9.14E-05. Unsat = 220. Ovl = 0.737. Iters 41\n",
      " Step   99. Free = 381. ε = 8.50E-05. Unsat = 223. Ovl = 0.737. Iters 29\n",
      " Step  100. Free = 380. ε = 7.04E-05. Unsat = 223. Ovl = 0.737. Iters 22\n",
      " Step  101. Free = 379. ε = 7.01E-05. Unsat = 223. Ovl = 0.737. Iters 38\n",
      " Step  102. Free = 378. ε = 7.01E-05. Unsat = 224. Ovl = 0.737. Iters 29\n",
      " Step  103. Free = 377. ε = 9.22E-05. Unsat = 221. Ovl = 0.737. Iters 31\n",
      " Step  104. Free = 376. ε = 9.98E-05. Unsat = 221. Ovl = 0.737. Iters 29\n",
      " Step  105. Free = 375. ε = 9.20E-05. Unsat = 219. Ovl = 0.734. Iters 40\n",
      " Step  106. Free = 374. ε = 9.60E-05. Unsat = 219. Ovl = 0.734. Iters 36\n",
      " Step  107. Free = 373. ε = 9.51E-05. Unsat = 216. Ovl = 0.736. Iters 34\n",
      " Step  108. Free = 372. ε = 9.60E-05. Unsat = 216. Ovl = 0.736. Iters 28\n",
      " Step  109. Free = 371. ε = 5.58E-05. Unsat = 212. Ovl = 0.733. Iters 64\n",
      " Step  110. Free = 370. ε = 9.35E-05. Unsat = 210. Ovl = 0.732. Iters 35\n",
      " Step  111. Free = 369. ε = 9.47E-05. Unsat = 207. Ovl = 0.730. Iters 36\n",
      " Step  112. Free = 368. ε = 6.47E-05. Unsat = 207. Ovl = 0.730. Iters 38\n",
      " Step  113. Free = 367. ε = 7.38E-05. Unsat = 207. Ovl = 0.730. Iters 27\n",
      " Step  114. Free = 366. ε = 7.91E-05. Unsat = 202. Ovl = 0.728. Iters 37\n",
      " Step  115. Free = 365. ε = 8.01E-05. Unsat = 200. Ovl = 0.727. Iters 30\n",
      " Step  116. Free = 364. ε = 6.21E-05. Unsat = 200. Ovl = 0.728. Iters 42\n"
     ]
    },
    {
     "name": "stdout",
     "output_type": "stream",
     "text": [
      " Step  117. Free = 363. ε = 6.79E-05. Unsat = 205. Ovl = 0.730. Iters 31\n",
      " Step  118. Free = 362. ε = 5.43E-05. Unsat = 201. Ovl = 0.727. Iters 37\n",
      " Step  119. Free = 361. ε = 9.18E-05. Unsat = 199. Ovl = 0.726. Iters 37\n",
      " Step  120. Free = 360. ε = 9.75E-05. Unsat = 194. Ovl = 0.723. Iters 32\n",
      " Step  121. Free = 359. ε = 5.69E-05. Unsat = 194. Ovl = 0.723. Iters 36\n",
      " Step  122. Free = 358. ε = 7.10E-05. Unsat = 194. Ovl = 0.723. Iters 31\n",
      " Step  123. Free = 357. ε = 8.12E-05. Unsat = 194. Ovl = 0.723. Iters 30\n",
      " Step  124. Free = 356. ε = 5.98E-05. Unsat = 200. Ovl = 0.726. Iters 64\n",
      " Step  125. Free = 355. ε = 6.99E-05. Unsat = 200. Ovl = 0.726. Iters 23\n",
      " Step  126. Free = 354. ε = 6.83E-05. Unsat = 198. Ovl = 0.724. Iters 43\n",
      " Step  127. Free = 353. ε = 6.29E-05. Unsat = 198. Ovl = 0.724. Iters 18\n",
      " Step  128. Free = 352. ε = 5.02E-05. Unsat = 197. Ovl = 0.726. Iters 70\n",
      " Step  129. Free = 351. ε = 8.67E-05. Unsat = 197. Ovl = 0.726. Iters 33\n",
      " Step  130. Free = 350. ε = 6.15E-05. Unsat = 191. Ovl = 0.722. Iters 42\n",
      " Step  131. Free = 349. ε = 9.80E-05. Unsat = 191. Ovl = 0.722. Iters 37\n",
      " Step  132. Free = 348. ε = 8.87E-05. Unsat = 194. Ovl = 0.722. Iters 33\n",
      " Step  133. Free = 347. ε = 9.83E-05. Unsat = 196. Ovl = 0.724. Iters 34\n",
      " Step  134. Free = 346. ε = 8.76E-05. Unsat = 196. Ovl = 0.724. Iters 35\n",
      " Step  135. Free = 345. ε = 9.92E-05. Unsat = 196. Ovl = 0.724. Iters 33\n",
      " Step  136. Free = 344. ε = 8.99E-05. Unsat = 196. Ovl = 0.723. Iters 36\n",
      " Step  137. Free = 343. ε = 7.92E-05. Unsat = 196. Ovl = 0.722. Iters 49\n",
      " Step  138. Free = 342. ε = 8.51E-05. Unsat = 196. Ovl = 0.722. Iters 26\n",
      " Step  139. Free = 341. ε = 8.99E-05. Unsat = 196. Ovl = 0.722. Iters 37\n",
      " Step  140. Free = 340. ε = 9.61E-05. Unsat = 196. Ovl = 0.722. Iters 34\n",
      " Step  141. Free = 339. ε = 7.74E-05. Unsat = 196. Ovl = 0.722. Iters 39\n",
      " Step  142. Free = 338. ε = 8.76E-05. Unsat = 196. Ovl = 0.722. Iters 31\n",
      " Step  143. Free = 337. ε = 5.97E-05. Unsat = 198. Ovl = 0.723. Iters 35\n",
      " Step  144. Free = 336. ε = 6.73E-05. Unsat = 198. Ovl = 0.723. Iters 35\n",
      " Step  145. Free = 335. ε = 9.63E-05. Unsat = 196. Ovl = 0.722. Iters 39\n",
      " Step  146. Free = 334. ε = 8.55E-05. Unsat = 196. Ovl = 0.722. Iters 19\n",
      " Step  147. Free = 333. ε = 5.87E-05. Unsat = 199. Ovl = 0.723. Iters 63\n",
      " Step  148. Free = 332. ε = 7.46E-05. Unsat = 199. Ovl = 0.723. Iters 35\n",
      " Step  149. Free = 331. ε = 8.90E-05. Unsat = 199. Ovl = 0.723. Iters 35\n",
      " Step  150. Free = 330. ε = 7.13E-05. Unsat = 199. Ovl = 0.723. Iters 37\n",
      " Step  151. Free = 329. ε = 9.38E-05. Unsat = 201. Ovl = 0.724. Iters 37\n",
      " Step  152. Free = 328. ε = 9.36E-05. Unsat = 203. Ovl = 0.724. Iters 63\n",
      " Step  153. Free = 327. ε = 8.37E-05. Unsat = 203. Ovl = 0.723. Iters 35\n",
      " Step  154. Free = 326. ε = 9.38E-05. Unsat = 203. Ovl = 0.722. Iters 34\n",
      " Step  155. Free = 325. ε = 6.65E-05. Unsat = 202. Ovl = 0.721. Iters 68\n",
      " Step  156. Free = 324. ε = 6.42E-05. Unsat = 202. Ovl = 0.721. Iters 38\n",
      " Step  157. Free = 323. ε = 7.56E-05. Unsat = 200. Ovl = 0.720. Iters 39\n",
      " Step  158. Free = 322. ε = 9.03E-05. Unsat = 200. Ovl = 0.720. Iters 38\n",
      " Step  159. Free = 321. ε = 9.65E-05. Unsat = 198. Ovl = 0.719. Iters 31\n",
      " Step  160. Free = 320. ε = 8.47E-05. Unsat = 198. Ovl = 0.719. Iters 28\n",
      " Step  161. Free = 319. ε = 8.12E-05. Unsat = 199. Ovl = 0.719. Iters 32\n",
      " Step  162. Free = 318. ε = 6.35E-05. Unsat = 197. Ovl = 0.718. Iters 36\n",
      " Step  163. Free = 317. ε = 9.54E-05. Unsat = 196. Ovl = 0.717. Iters 29\n",
      " Step  164. Free = 316. ε = 9.63E-05. Unsat = 196. Ovl = 0.717. Iters 32\n",
      " Step  165. Free = 315. ε = 9.17E-05. Unsat = 196. Ovl = 0.717. Iters 32\n",
      " Step  166. Free = 314. ε = 6.62E-05. Unsat = 198. Ovl = 0.718. Iters 41\n",
      " Step  167. Free = 313. ε = 9.57E-05. Unsat = 198. Ovl = 0.718. Iters 36\n",
      " Step  168. Free = 312. ε = 7.70E-05. Unsat = 198. Ovl = 0.718. Iters 21\n",
      " Step  169. Free = 311. ε = 6.96E-05. Unsat = 198. Ovl = 0.718. Iters 65\n",
      " Step  170. Free = 310. ε = 8.59E-05. Unsat = 198. Ovl = 0.718. Iters 30\n",
      " Step  171. Free = 309. ε = 9.51E-05. Unsat = 187. Ovl = 0.710. Iters 33\n",
      " Step  172. Free = 308. ε = 7.28E-05. Unsat = 187. Ovl = 0.710. Iters 35\n",
      " Step  173. Free = 307. ε = 5.17E-05. Unsat = 188. Ovl = 0.711. Iters 72\n",
      " Step  174. Free = 306. ε = 8.66E-05. Unsat = 192. Ovl = 0.714. Iters 40\n",
      " Step  175. Free = 305. ε = 8.33E-05. Unsat = 189. Ovl = 0.713. Iters 34\n",
      " Step  176. Free = 304. ε = 8.01E-05. Unsat = 185. Ovl = 0.710. Iters 36\n",
      " Step  177. Free = 303. ε = 7.14E-05. Unsat = 184. Ovl = 0.709. Iters 37\n",
      " Step  178. Free = 302. ε = 9.29E-05. Unsat = 178. Ovl = 0.706. Iters 39\n",
      " Step  179. Free = 301. ε = 8.46E-05. Unsat = 176. Ovl = 0.704. Iters 37\n",
      " Step  180. Free = 300. ε = 8.36E-05. Unsat = 176. Ovl = 0.704. Iters 39\n",
      " Step  181. Free = 299. ε = 9.07E-05. Unsat = 176. Ovl = 0.703. Iters 34\n",
      " Step  182. Free = 298. ε = 9.95E-05. Unsat = 178. Ovl = 0.706. Iters 35\n",
      " Step  183. Free = 297. ε = 9.93E-05. Unsat = 180. Ovl = 0.707. Iters 34\n",
      " Step  184. Free = 296. ε = 6.91E-05. Unsat = 178. Ovl = 0.706. Iters 37\n",
      " Step  185. Free = 295. ε = 9.72E-05. Unsat = 174. Ovl = 0.703. Iters 40\n",
      " Step  186. Free = 294. ε = 9.40E-05. Unsat = 174. Ovl = 0.703. Iters 32\n",
      " Step  187. Free = 293. ε = 7.72E-05. Unsat = 178. Ovl = 0.704. Iters 40\n",
      " Step  188. Free = 292. ε = 7.35E-05. Unsat = 178. Ovl = 0.704. Iters 24\n",
      " Step  189. Free = 291. ε = 5.03E-05. Unsat = 173. Ovl = 0.701. Iters 47\n",
      " Step  190. Free = 290. ε = 8.56E-05. Unsat = 173. Ovl = 0.701. Iters 35\n",
      " Step  191. Free = 289. ε = 9.82E-05. Unsat = 173. Ovl = 0.701. Iters 38\n",
      " Step  192. Free = 288. ε = 6.45E-05. Unsat = 175. Ovl = 0.702. Iters 38\n",
      " Step  193. Free = 287. ε = 9.01E-05. Unsat = 173. Ovl = 0.702. Iters 38\n",
      " Step  194. Free = 286. ε = 8.12E-05. Unsat = 170. Ovl = 0.700. Iters 37\n",
      " Step  195. Free = 285. ε = 8.47E-05. Unsat = 173. Ovl = 0.701. Iters 38\n",
      " Step  196. Free = 284. ε = 7.35E-05. Unsat = 168. Ovl = 0.701. Iters 35\n",
      " Step  197. Free = 283. ε = 9.68E-05. Unsat = 171. Ovl = 0.703. Iters 39\n",
      " Step  198. Free = 282. ε = 9.05E-05. Unsat = 171. Ovl = 0.702. Iters 31\n",
      " Step  199. Free = 281. ε = 9.10E-05. Unsat = 169. Ovl = 0.700. Iters 40\n",
      " Step  200. Free = 280. ε = 8.13E-05. Unsat = 169. Ovl = 0.700. Iters 37\n",
      " Step  201. Free = 279. ε = 8.92E-05. Unsat = 166. Ovl = 0.699. Iters 40\n",
      " Step  202. Free = 278. ε = 9.20E-05. Unsat = 166. Ovl = 0.699. Iters 36\n",
      " Step  203. Free = 277. ε = 9.20E-05. Unsat = 166. Ovl = 0.699. Iters 30\n",
      " Step  204. Free = 276. ε = 8.01E-05. Unsat = 165. Ovl = 0.696. Iters 42\n",
      " Step  205. Free = 275. ε = 5.42E-05. Unsat = 160. Ovl = 0.693. Iters 68\n",
      " Step  206. Free = 274. ε = 9.87E-05. Unsat = 161. Ovl = 0.693. Iters 41\n",
      " Step  207. Free = 273. ε = 9.01E-05. Unsat = 160. Ovl = 0.692. Iters 47\n",
      " Step  208. Free = 272. ε = 9.80E-05. Unsat = 160. Ovl = 0.692. Iters 37\n",
      " Step  209. Free = 271. ε = 9.49E-05. Unsat = 160. Ovl = 0.692. Iters 39\n",
      " Step  210. Free = 270. ε = 7.51E-05. Unsat = 160. Ovl = 0.693. Iters 38\n",
      " Step  211. Free = 269. ε = 8.64E-05. Unsat = 160. Ovl = 0.693. Iters 35\n",
      " Step  212. Free = 268. ε = 6.38E-05. Unsat = 157. Ovl = 0.690. Iters 69\n",
      " Step  213. Free = 267. ε = 9.05E-05. Unsat = 157. Ovl = 0.690. Iters 34\n",
      " Step  214. Free = 266. ε = 9.54E-05. Unsat = 159. Ovl = 0.690. Iters 47\n",
      " Step  215. Free = 265. ε = 9.90E-05. Unsat = 158. Ovl = 0.689. Iters 35\n",
      " Step  216. Free = 264. ε = 5.71E-05. Unsat = 161. Ovl = 0.690. Iters 67\n",
      " Step  217. Free = 263. ε = 9.07E-05. Unsat = 161. Ovl = 0.690. Iters 37\n",
      " Step  218. Free = 262. ε = 6.04E-05. Unsat = 161. Ovl = 0.689. Iters 61\n",
      " Step  219. Free = 261. ε = 8.74E-05. Unsat = 154. Ovl = 0.684. Iters 49\n",
      " Step  220. Free = 260. ε = 8.60E-05. Unsat = 154. Ovl = 0.684. Iters 19\n",
      " Step  221. Free = 259. ε = 6.00E-05. Unsat = 154. Ovl = 0.684. Iters 67\n",
      " Step  222. Free = 258. ε = 9.43E-05. Unsat = 151. Ovl = 0.683. Iters 62\n",
      " Step  223. Free = 257. ε = 5.45E-05. Unsat = 151. Ovl = 0.683. Iters 65\n",
      " Step  224. Free = 256. ε = 9.28E-05. Unsat = 151. Ovl = 0.683. Iters 32\n",
      " Step  225. Free = 255. ε = 6.69E-05. Unsat = 151. Ovl = 0.682. Iters 42\n",
      " Step  226. Free = 254. ε = 9.55E-05. Unsat = 144. Ovl = 0.679. Iters 41\n",
      " Step  227. Free = 253. ε = 9.78E-05. Unsat = 144. Ovl = 0.680. Iters 34\n",
      " Step  228. Free = 252. ε = 8.29E-05. Unsat = 149. Ovl = 0.682. Iters 68\n",
      " Step  229. Free = 251. ε = 7.28E-05. Unsat = 144. Ovl = 0.678. Iters 65\n",
      " Step  230. Free = 250. ε = 5.99E-05. Unsat = 146. Ovl = 0.679. Iters 73\n",
      " Step  231. Free = 249. ε = 7.02E-05. Unsat = 143. Ovl = 0.677. Iters 65\n",
      " Step  232. Free = 248. ε = 8.01E-05. Unsat = 141. Ovl = 0.674. Iters 39\n",
      " Step  233. Free = 247. ε = 9.17E-05. Unsat = 141. Ovl = 0.673. Iters 35\n",
      " Step  234. Free = 246. ε = 9.82E-05. Unsat = 143. Ovl = 0.674. Iters 38\n",
      " Step  235. Free = 245. ε = 7.50E-05. Unsat = 141. Ovl = 0.672. Iters 40\n",
      " Step  236. Free = 244. ε = 9.81E-05. Unsat = 142. Ovl = 0.673. Iters 44\n"
     ]
    },
    {
     "name": "stdout",
     "output_type": "stream",
     "text": [
      " Step  237. Free = 243. ε = 9.30E-05. Unsat = 146. Ovl = 0.678. Iters 38\n",
      " Step  238. Free = 242. ε = 6.96E-05. Unsat = 142. Ovl = 0.676. Iters 40\n",
      " Step  239. Free = 241. ε = 6.11E-05. Unsat = 136. Ovl = 0.671. Iters 65\n",
      " Step  240. Free = 240. ε = 8.13E-05. Unsat = 141. Ovl = 0.674. Iters 43\n",
      " Step  241. Free = 239. ε = 7.03E-05. Unsat = 136. Ovl = 0.672. Iters 72\n",
      " Step  242. Free = 238. ε = 6.81E-05. Unsat = 138. Ovl = 0.673. Iters 65\n",
      " Step  243. Free = 237. ε = 9.92E-05. Unsat = 137. Ovl = 0.672. Iters 41\n",
      " Step  244. Free = 236. ε = 9.41E-05. Unsat = 139. Ovl = 0.673. Iters 62\n",
      " Step  245. Free = 235. ε = 5.72E-05. Unsat = 140. Ovl = 0.673. Iters 64\n",
      " Step  246. Free = 234. ε = 8.05E-05. Unsat = 139. Ovl = 0.673. Iters 48\n",
      " Step  247. Free = 233. ε = 5.89E-05. Unsat = 141. Ovl = 0.676. Iters 67\n",
      " Step  248. Free = 232. ε = 7.17E-05. Unsat = 143. Ovl = 0.677. Iters 44\n",
      " Step  249. Free = 231. ε = 7.91E-05. Unsat = 143. Ovl = 0.677. Iters 64\n",
      " Step  250. Free = 230. ε = 5.04E-05. Unsat = 143. Ovl = 0.677. Iters 76\n",
      " Step  251. Free = 229. ε = 6.77E-05. Unsat = 142. Ovl = 0.676. Iters 70\n",
      " Step  252. Free = 228. ε = 8.11E-05. Unsat = 140. Ovl = 0.674. Iters 35\n",
      " Step  253. Free = 227. ε = 7.96E-05. Unsat = 140. Ovl = 0.673. Iters 49\n",
      " Step  254. Free = 226. ε = 9.10E-05. Unsat = 140. Ovl = 0.673. Iters 72\n",
      " Step  255. Free = 225. ε = 5.33E-05. Unsat = 139. Ovl = 0.671. Iters 66\n",
      " Step  256. Free = 224. ε = 6.85E-05. Unsat = 139. Ovl = 0.671. Iters 17\n",
      " Step  257. Free = 223. ε = 6.40E-05. Unsat = 141. Ovl = 0.672. Iters 74\n",
      " Step  258. Free = 222. ε = 9.14E-05. Unsat = 138. Ovl = 0.671. Iters 72\n",
      " Step  259. Free = 221. ε = 5.10E-05. Unsat = 136. Ovl = 0.669. Iters 64\n",
      " Step  260. Free = 220. ε = 6.98E-05. Unsat = 135. Ovl = 0.669. Iters 66\n",
      " Step  261. Free = 219. ε = 9.01E-05. Unsat = 132. Ovl = 0.666. Iters 69\n",
      " Step  262. Free = 218. ε = 8.69E-05. Unsat = 129. Ovl = 0.664. Iters 30\n",
      " Step  263. Free = 217. ε = 6.45E-05. Unsat = 131. Ovl = 0.662. Iters 69\n",
      " Step  264. Free = 216. ε = 8.26E-05. Unsat = 131. Ovl = 0.662. Iters 37\n",
      " Step  265. Free = 215. ε = 8.79E-05. Unsat = 127. Ovl = 0.659. Iters 48\n",
      " Step  266. Free = 214. ε = 6.58E-05. Unsat = 133. Ovl = 0.661. Iters 68\n",
      " Step  267. Free = 213. ε = 5.71E-05. Unsat = 135. Ovl = 0.662. Iters 77\n",
      " Step  268. Free = 212. ε = 6.59E-05. Unsat = 134. Ovl = 0.661. Iters 68\n",
      " Step  269. Free = 211. ε = 5.10E-05. Unsat = 134. Ovl = 0.661. Iters 81\n",
      " Step  270. Free = 210. ε = 5.56E-05. Unsat = 130. Ovl = 0.659. Iters 73\n",
      " Step  271. Free = 209. ε = 8.73E-05. Unsat = 129. Ovl = 0.660. Iters 49\n",
      " Step  272. Free = 208. ε = 7.90E-05. Unsat = 132. Ovl = 0.661. Iters 55\n",
      " Step  273. Free = 207. ε = 6.58E-05. Unsat = 132. Ovl = 0.661. Iters 74\n",
      " Step  274. Free = 206. ε = 8.46E-05. Unsat = 132. Ovl = 0.661. Iters 31\n",
      " Step  275. Free = 205. ε = 5.62E-05. Unsat = 123. Ovl = 0.657. Iters 70\n",
      " Step  276. Free = 204. ε = 8.15E-05. Unsat = 125. Ovl = 0.658. Iters 64\n",
      " Step  277. Free = 203. ε = 8.89E-05. Unsat = 125. Ovl = 0.656. Iters 60\n",
      " Step  278. Free = 202. ε = 6.80E-05. Unsat = 123. Ovl = 0.656. Iters 54\n",
      " Step  279. Free = 201. ε = 8.45E-05. Unsat = 121. Ovl = 0.654. Iters 63\n",
      " Step  280. Free = 200. ε = 6.06E-05. Unsat = 121. Ovl = 0.654. Iters 67\n",
      " Step  281. Free = 199. ε = 6.78E-05. Unsat = 121. Ovl = 0.653. Iters 67\n",
      " Step  282. Free = 198. ε = 9.50E-05. Unsat = 121. Ovl = 0.653. Iters 41\n",
      " Step  283. Free = 197. ε = 5.36E-05. Unsat = 121. Ovl = 0.653. Iters 64\n",
      " Step  284. Free = 196. ε = 8.26E-05. Unsat = 123. Ovl = 0.654. Iters 36\n",
      " Step  285. Free = 195. ε = 8.48E-05. Unsat = 119. Ovl = 0.652. Iters 68\n",
      " Step  286. Free = 194. ε = 7.58E-05. Unsat = 119. Ovl = 0.651. Iters 68\n",
      " Step  287. Free = 193. ε = 8.28E-05. Unsat = 120. Ovl = 0.651. Iters 68\n",
      " Step  288. Free = 192. ε = 6.55E-05. Unsat = 118. Ovl = 0.650. Iters 73\n",
      " Step  289. Free = 191. ε = 8.70E-05. Unsat = 118. Ovl = 0.650. Iters 67\n",
      " Step  290. Free = 190. ε = 6.98E-05. Unsat = 118. Ovl = 0.650. Iters 81\n",
      " Step  291. Free = 189. ε = 7.93E-05. Unsat = 122. Ovl = 0.652. Iters 52\n",
      " Step  292. Free = 188. ε = 8.36E-05. Unsat = 123. Ovl = 0.651. Iters 72\n",
      " Step  293. Free = 187. ε = 7.27E-05. Unsat = 123. Ovl = 0.651. Iters 73\n",
      " Step  294. Free = 186. ε = 8.90E-05. Unsat = 123. Ovl = 0.650. Iters 77\n",
      " Step  295. Free = 185. ε = 8.96E-05. Unsat = 120. Ovl = 0.649. Iters 64\n",
      " Step  296. Free = 184. ε = 8.70E-05. Unsat = 120. Ovl = 0.649. Iters 71\n",
      " Step  297. Free = 183. ε = 8.12E-05. Unsat = 120. Ovl = 0.649. Iters 67\n",
      " Step  298. Free = 182. ε = 7.27E-05. Unsat = 114. Ovl = 0.646. Iters 65\n",
      " Step  299. Free = 181. ε = 7.87E-05. Unsat = 114. Ovl = 0.646. Iters 65\n",
      " Step  300. Free = 180. ε = 5.82E-05. Unsat = 114. Ovl = 0.646. Iters 15\n",
      " Step  301. Free = 179. ε = 9.28E-05. Unsat = 114. Ovl = 0.646. Iters 63\n",
      " Step  302. Free = 178. ε = 5.04E-05. Unsat = 115. Ovl = 0.646. Iters 74\n",
      " Step  303. Free = 177. ε = 9.57E-05. Unsat = 116. Ovl = 0.644. Iters 69\n",
      " Step  304. Free = 176. ε = 5.45E-05. Unsat = 116. Ovl = 0.643. Iters 69\n",
      " Step  305. Free = 175. ε = 6.87E-05. Unsat = 114. Ovl = 0.642. Iters 74\n",
      " Step  306. Free = 174. ε = 7.05E-05. Unsat = 107. Ovl = 0.637. Iters 73\n",
      " Step  307. Free = 173. ε = 9.88E-05. Unsat = 108. Ovl = 0.638. Iters 63\n",
      " Step  308. Free = 172. ε = 5.45E-05. Unsat = 107. Ovl = 0.637. Iters 68\n",
      " Step  309. Free = 171. ε = 8.02E-05. Unsat = 113. Ovl = 0.640. Iters 67\n",
      " Step  310. Free = 170. ε = 7.82E-05. Unsat = 113. Ovl = 0.640. Iters 74\n",
      " Step  311. Free = 169. ε = 9.38E-05. Unsat = 109. Ovl = 0.636. Iters 80\n",
      " Step  312. Free = 168. ε = 9.55E-05. Unsat = 109. Ovl = 0.636. Iters 31\n",
      " Step  313. Free = 167. ε = 5.76E-05. Unsat = 107. Ovl = 0.634. Iters 72\n",
      " Step  314. Free = 166. ε = 8.92E-05. Unsat = 107. Ovl = 0.634. Iters 38\n",
      " Step  315. Free = 165. ε = 9.98E-05. Unsat = 107. Ovl = 0.634. Iters 29\n",
      " Step  316. Free = 164. ε = 7.36E-05. Unsat = 108. Ovl = 0.633. Iters 64\n",
      " Step  317. Free = 163. ε = 9.53E-05. Unsat = 106. Ovl = 0.632. Iters 48\n",
      " Step  318. Free = 162. ε = 9.22E-05. Unsat = 105. Ovl = 0.632. Iters 61\n",
      " Step  319. Free = 161. ε = 8.26E-05. Unsat = 101. Ovl = 0.630. Iters 70\n",
      " Step  320. Free = 160. ε = 6.67E-05. Unsat =  95. Ovl = 0.626. Iters 74\n",
      " Step  321. Free = 159. ε = 7.87E-05. Unsat =  95. Ovl = 0.626. Iters 67\n",
      " Step  322. Free = 158. ε = 6.65E-05. Unsat =  93. Ovl = 0.623. Iters 75\n",
      " Step  323. Free = 157. ε = 9.51E-05. Unsat =  93. Ovl = 0.622. Iters 65\n",
      " Step  324. Free = 156. ε = 8.65E-05. Unsat =  92. Ovl = 0.618. Iters 65\n",
      " Step  325. Free = 155. ε = 8.92E-05. Unsat =  93. Ovl = 0.616. Iters 64\n",
      " Step  326. Free = 154. ε = 8.33E-05. Unsat =  90. Ovl = 0.614. Iters 62\n",
      " Step  327. Free = 153. ε = 6.18E-05. Unsat =  90. Ovl = 0.614. Iters 23\n",
      " Step  328. Free = 152. ε = 8.09E-05. Unsat =  90. Ovl = 0.614. Iters 73\n",
      " Step  329. Free = 151. ε = 8.64E-05. Unsat =  90. Ovl = 0.618. Iters 66\n",
      " Step  330. Free = 150. ε = 7.99E-05. Unsat =  90. Ovl = 0.618. Iters 27\n",
      " Step  331. Free = 149. ε = 9.05E-05. Unsat =  86. Ovl = 0.612. Iters 73\n",
      " Step  332. Free = 148. ε = 7.92E-05. Unsat =  86. Ovl = 0.612. Iters 30\n",
      " Step  333. Free = 147. ε = 6.65E-05. Unsat =  85. Ovl = 0.613. Iters 76\n",
      " Step  334. Free = 146. ε = 9.18E-05. Unsat =  86. Ovl = 0.613. Iters 73\n",
      " Step  335. Free = 145. ε = 8.30E-05. Unsat =  86. Ovl = 0.613. Iters 70\n",
      " Step  336. Free = 144. ε = 5.68E-05. Unsat =  84. Ovl = 0.612. Iters 86\n",
      " Step  337. Free = 143. ε = 8.95E-05. Unsat =  82. Ovl = 0.609. Iters 63\n",
      " Step  338. Free = 142. ε = 9.23E-05. Unsat =  77. Ovl = 0.607. Iters 65\n",
      " Step  339. Free = 141. ε = 7.61E-05. Unsat =  77. Ovl = 0.604. Iters 66\n",
      " Step  340. Free = 140. ε = 8.49E-05. Unsat =  77. Ovl = 0.604. Iters 75\n",
      " Step  341. Free = 139. ε = 8.43E-05. Unsat =  77. Ovl = 0.603. Iters 71\n",
      " Step  342. Free = 138. ε = 6.09E-05. Unsat =  73. Ovl = 0.601. Iters 73\n",
      " Step  343. Free = 137. ε = 7.37E-05. Unsat =  74. Ovl = 0.603. Iters 77\n",
      " Step  344. Free = 136. ε = 5.56E-05. Unsat =  77. Ovl = 0.606. Iters 72\n",
      " Step  345. Free = 135. ε = 9.69E-05. Unsat =  67. Ovl = 0.599. Iters 65\n",
      " Step  346. Free = 134. ε = 6.37E-05. Unsat =  67. Ovl = 0.599. Iters 80\n",
      " Step  347. Free = 133. ε = 9.35E-05. Unsat =  67. Ovl = 0.600. Iters 85\n",
      " Step  348. Free = 132. ε = 5.71E-05. Unsat =  65. Ovl = 0.598. Iters 74\n",
      " Step  349. Free = 131. ε = 9.75E-05. Unsat =  65. Ovl = 0.599. Iters 69\n",
      " Step  350. Free = 130. ε = 6.88E-05. Unsat =  65. Ovl = 0.599. Iters 69\n",
      " Step  351. Free = 129. ε = 8.49E-05. Unsat =  67. Ovl = 0.599. Iters 72\n"
     ]
    },
    {
     "name": "stdout",
     "output_type": "stream",
     "text": [
      " Step  352. Free = 128. ε = 9.35E-05. Unsat =  69. Ovl = 0.600. Iters 69\n",
      " Step  353. Free = 127. ε = 5.63E-05. Unsat =  69. Ovl = 0.600. Iters 82\n",
      " Step  354. Free = 126. ε = 8.23E-05. Unsat =  66. Ovl = 0.597. Iters 78\n",
      " Step  355. Free = 125. ε = 8.27E-05. Unsat =  68. Ovl = 0.598. Iters 76\n",
      " Step  356. Free = 124. ε = 8.58E-05. Unsat =  68. Ovl = 0.598. Iters 26\n",
      " Step  357. Free = 123. ε = 6.88E-05. Unsat =  66. Ovl = 0.597. Iters 61\n",
      " Step  358. Free = 122. ε = 7.48E-05. Unsat =  70. Ovl = 0.599. Iters 76\n",
      " Step  359. Free = 121. ε = 8.03E-05. Unsat =  70. Ovl = 0.599. Iters 88\n",
      " Step  360. Free = 120. ε = 6.85E-05. Unsat =  66. Ovl = 0.596. Iters 72\n",
      " Step  361. Free = 119. ε = 6.97E-05. Unsat =  65. Ovl = 0.596. Iters 62\n",
      " Step  362. Free = 118. ε = 5.96E-05. Unsat =  64. Ovl = 0.596. Iters 66\n",
      " Step  363. Free = 117. ε = 8.77E-05. Unsat =  61. Ovl = 0.592. Iters 67\n",
      " Step  364. Free = 116. ε = 5.21E-05. Unsat =  61. Ovl = 0.592. Iters 28\n",
      " Step  365. Free = 115. ε = 8.24E-05. Unsat =  61. Ovl = 0.592. Iters 70\n",
      " Step  366. Free = 114. ε = 7.79E-05. Unsat =  61. Ovl = 0.592. Iters 75\n",
      " Step  367. Free = 113. ε = 9.14E-05. Unsat =  57. Ovl = 0.591. Iters 79\n",
      " Step  368. Free = 112. ε = 9.71E-05. Unsat =  57. Ovl = 0.591. Iters 67\n",
      " Step  369. Free = 111. ε = 5.71E-05. Unsat =  55. Ovl = 0.590. Iters 67\n",
      " Step  370. Free = 110. ε = 6.63E-05. Unsat =  55. Ovl = 0.590. Iters 26\n",
      " Step  371. Free = 109. ε = 8.53E-05. Unsat =  56. Ovl = 0.590. Iters 72\n",
      " Step  372. Free = 108. ε = 5.38E-05. Unsat =  56. Ovl = 0.590. Iters 74\n",
      " Step  373. Free = 107. ε = 9.36E-05. Unsat =  56. Ovl = 0.590. Iters 21\n",
      " Step  374. Free = 106. ε = 8.63E-05. Unsat =  54. Ovl = 0.589. Iters 68\n",
      " Step  375. Free = 105. ε = 7.63E-05. Unsat =  55. Ovl = 0.592. Iters 76\n",
      " Step  376. Free = 104. ε = 8.00E-05. Unsat =  54. Ovl = 0.590. Iters 76\n",
      " Step  377. Free = 103. ε = 8.28E-05. Unsat =  51. Ovl = 0.589. Iters 78\n",
      " Step  378. Free = 102. ε = 9.72E-05. Unsat =  51. Ovl = 0.588. Iters 82\n",
      " Step  379. Free = 101. ε = 8.24E-05. Unsat =  52. Ovl = 0.589. Iters 73\n",
      " Step  380. Free = 100. ε = 7.57E-05. Unsat =  52. Ovl = 0.589. Iters 26\n",
      " Step  381. Free =  99. ε = 9.86E-05. Unsat =  51. Ovl = 0.587. Iters 76\n",
      " Step  382. Free =  98. ε = 9.17E-05. Unsat =  51. Ovl = 0.587. Iters 81\n",
      " Step  383. Free =  97. ε = 9.40E-05. Unsat =  50. Ovl = 0.586. Iters 76\n",
      " Step  384. Free =  96. ε = 8.49E-05. Unsat =  53. Ovl = 0.589. Iters 84\n",
      " Step  385. Free =  95. ε = 8.16E-05. Unsat =  52. Ovl = 0.589. Iters 100\n",
      " Step  386. Free =  94. ε = 8.52E-05. Unsat =  52. Ovl = 0.589. Iters 79\n",
      " Step  387. Free =  93. ε = 9.06E-05. Unsat =  53. Ovl = 0.589. Iters 89\n",
      " Step  388. Free =  92. ε = 9.56E-05. Unsat =  52. Ovl = 0.589. Iters 83\n",
      " Step  389. Free =  91. ε = 9.92E-05. Unsat =  52. Ovl = 0.587. Iters 77\n",
      " Step  390. Free =  90. ε = 7.56E-05. Unsat =  50. Ovl = 0.588. Iters 90\n",
      " Step  391. Free =  89. ε = 9.87E-05. Unsat =  50. Ovl = 0.588. Iters 151\n",
      " Step  392. Free =  88. ε = 7.29E-05. Unsat =  54. Ovl = 0.588. Iters 64\n",
      " Step  393. Free =  87. ε = 9.98E-05. Unsat =  54. Ovl = 0.587. Iters 139\n",
      " Step  394. Free =  86. ε = 8.48E-05. Unsat =  54. Ovl = 0.587. Iters 20\n",
      " Step  395. Free =  85. ε = 8.34E-05. Unsat =  54. Ovl = 0.586. Iters 123\n",
      " Step  396. Free =  84. ε = 8.93E-05. Unsat =  54. Ovl = 0.584. Iters 147\n",
      " Step  397. Free =  83. ε = 8.52E-05. Unsat =  54. Ovl = 0.583. Iters 95\n",
      " Step  398. Free =  82. ε = 9.16E-05. Unsat =  54. Ovl = 0.583. Iters 114\n",
      " Step  399. Free =  81. ε = 9.78E-05. Unsat =  50. Ovl = 0.581. Iters 129\n",
      " Step  400. Free =  80. ε = 8.71E-05. Unsat =  50. Ovl = 0.581. Iters 62\n",
      " Step  401. Free =  79. ε = 8.53E-05. Unsat =  51. Ovl = 0.581. Iters 85\n",
      " Step  402. Free =  78. ε = 9.66E-05. Unsat =  53. Ovl = 0.582. Iters 87\n",
      " Step  403. Free =  77. ε = 9.58E-05. Unsat =  51. Ovl = 0.581. Iters 81\n",
      " Step  404. Free =  76. ε = 9.33E-05. Unsat =  50. Ovl = 0.580. Iters 122\n",
      " Step  405. Free =  75. ε = 9.66E-05. Unsat =  43. Ovl = 0.573. Iters 116\n",
      " Step  406. Free =  74. ε = 9.54E-05. Unsat =  45. Ovl = 0.574. Iters 84\n",
      " Step  407. Free =  73. ε = 7.31E-05. Unsat =  45. Ovl = 0.574. Iters 57\n",
      " Step  408. Free =  72. ε = 8.07E-05. Unsat =  43. Ovl = 0.573. Iters 124\n",
      " Step  409. Free =  71. ε = 6.69E-05. Unsat =  43. Ovl = 0.573. Iters 19\n",
      " Step  410. Free =  70. ε = 5.05E-05. Unsat =  43. Ovl = 0.573. Iters 94\n",
      " Step  411. Free =  69. ε = 8.49E-05. Unsat =  42. Ovl = 0.571. Iters 118\n",
      " Step  412. Free =  68. ε = 7.61E-05. Unsat =  33. Ovl = 0.567. Iters 227\n",
      " Step  413. Free =  67. ε = 9.24E-05. Unsat =  26. Ovl = 0.561. Iters 156\n",
      " Step  414. Free =  66. ε = 9.46E-05. Unsat =  26. Ovl = 0.561. Iters 21\n",
      " Step  415. Free =  65. ε = 6.14E-05. Unsat =  26. Ovl = 0.561. Iters 74\n",
      " Step  416. Free =  64. ε = 9.57E-05. Unsat =  26. Ovl = 0.561. Iters 19\n",
      " Step  417. Free =  63. ε = 9.03E-05. Unsat =  24. Ovl = 0.560. Iters 74\n",
      " Step  418. Free =  62. ε = 8.84E-05. Unsat =  22. Ovl = 0.559. Iters 112\n",
      " Step  419. Free =  61. ε = 9.14E-05. Unsat =  22. Ovl = 0.559. Iters 105\n",
      " Step  420. Free =  60. ε = 8.21E-05. Unsat =  22. Ovl = 0.559. Iters 73\n",
      " Step  421. Free =  59. ε = 7.32E-05. Unsat =  21. Ovl = 0.558. Iters 127\n",
      " Step  422. Free =  58. ε = 9.66E-05. Unsat =  18. Ovl = 0.556. Iters 103\n",
      " Step  423. Free =  57. ε = 8.91E-05. Unsat =  18. Ovl = 0.556. Iters 21\n",
      " Step  424. Free =  56. ε = 9.33E-05. Unsat =  18. Ovl = 0.556. Iters 73\n",
      " Step  425. Free =  55. ε = 8.49E-05. Unsat =  18. Ovl = 0.556. Iters 69\n",
      " Step  426. Free =  54. ε = 6.02E-05. Unsat =  18. Ovl = 0.556. Iters 67\n",
      " Step  427. Free =  53. ε = 7.41E-05. Unsat =  18. Ovl = 0.556. Iters 71\n",
      " Step  428. Free =  52. ε = 5.73E-05. Unsat =  18. Ovl = 0.556. Iters 70\n",
      " Step  429. Free =  51. ε = 9.54E-05. Unsat =  18. Ovl = 0.556. Iters 35\n",
      " Step  430. Free =  50. ε = 9.01E-05. Unsat =  18. Ovl = 0.556. Iters 103\n",
      " Step  431. Free =  49. ε = 9.97E-05. Unsat =  18. Ovl = 0.556. Iters 94\n",
      " Step  432. Free =  48. ε = 8.41E-05. Unsat =  18. Ovl = 0.556. Iters 99\n",
      " Step  433. Free =  47. ε = 5.85E-05. Unsat =  18. Ovl = 0.556. Iters 15\n",
      " Step  434. Free =  46. ε = 6.57E-05. Unsat =  18. Ovl = 0.556. Iters 72\n",
      " Step  435. Free =  45. ε = 7.81E-05. Unsat =  16. Ovl = 0.553. Iters 125\n",
      " Step  436. Free =  44. ε = 8.25E-05. Unsat =  16. Ovl = 0.553. Iters 29\n",
      " Step  437. Free =  43. ε = 9.87E-05. Unsat =  16. Ovl = 0.553. Iters 113\n",
      " Step  438. Free =  42. ε = 9.12E-05. Unsat =  16. Ovl = 0.553. Iters 46\n",
      " Step  439. Free =  41. ε = 9.97E-05. Unsat =  16. Ovl = 0.553. Iters 81\n",
      " Step  440. Free =  40. ε = 5.20E-05. Unsat =  16. Ovl = 0.553. Iters 71\n",
      " Step  441. Free =  39. ε = 9.13E-05. Unsat =  18. Ovl = 0.554. Iters 98\n",
      " Step  442. Free =  38. ε = 7.25E-05. Unsat =  13. Ovl = 0.550. Iters 82\n",
      " Step  443. Free =  37. ε = 9.52E-05. Unsat =  13. Ovl = 0.550. Iters 121\n",
      " Step  444. Free =  36. ε = 7.93E-05. Unsat =  13. Ovl = 0.550. Iters 47\n",
      " Step  445. Free =  35. ε = 9.76E-05. Unsat =  11. Ovl = 0.548. Iters 117\n",
      " Step  446. Free =  34. ε = 7.69E-05. Unsat =  13. Ovl = 0.549. Iters 162\n",
      " Step  447. Free =  33. ε = 9.31E-05. Unsat =  13. Ovl = 0.549. Iters 128\n",
      " Step  448. Free =  32. ε = 9.45E-05. Unsat =  11. Ovl = 0.547. Iters 261\n",
      " Step  449. Free =  31. ε = 9.03E-05. Unsat =  11. Ovl = 0.547. Iters 30\n",
      " Step  450. Free =  30. ε = 6.72E-05. Unsat =   1. Ovl = 0.541. Iters 583\n",
      " Step  451. Free =  29. ε = 8.95E-05. Unsat =   1. Ovl = 0.541. Iters 5\n",
      " Step  452. Free =  28. ε = 3.78E-05. Unsat =   1. Ovl = 0.541. Iters 1\n",
      " Step  453. Free =  27. ε = 3.73E-05. Unsat =   1. Ovl = 0.541. Iters 1\n",
      " Step  454. Free =  26. ε = 5.76E-05. Unsat =   1. Ovl = 0.541. Iters 1\n",
      " Step  455. Free =  25. ε = 5.76E-05. Unsat =   1. Ovl = 0.541. Iters 1\n",
      " Step  456. Free =  24. ε = 7.39E-05. Unsat =   1. Ovl = 0.541. Iters 3\n",
      " Step  457. Free =  23. ε = 3.69E-05. Unsat =   1. Ovl = 0.541. Iters 1\n",
      " Step  458. Free =  22. ε = 5.43E-05. Unsat =   1. Ovl = 0.541. Iters 37\n",
      " Step  459. Free =  21. ε = 6.04E-05. Unsat =   1. Ovl = 0.541. Iters 4\n",
      " Step  460. Free =  20. ε = 8.80E-05. Unsat =   1. Ovl = 0.541. Iters 2\n",
      " Step  461. Free =  19. ε = 6.60E-05. Unsat =   1. Ovl = 0.541. Iters 1\n",
      " Step  462. Free =  18. ε = 6.53E-05. Unsat =   1. Ovl = 0.541. Iters 1\n",
      " Step  463. Free =  17. ε = 6.13E-05. Unsat =   1. Ovl = 0.541. Iters 10\n",
      " Step  464. Free =  16. ε = 7.98E-05. Unsat =   1. Ovl = 0.541. Iters 26\n",
      " Step  465. Free =  15. ε = 6.23E-05. Unsat =   1. Ovl = 0.541. Iters 2\n",
      " Step  466. Free =  14. ε = 7.50E-05. Unsat =   1. Ovl = 0.541. Iters 7\n",
      " Step  467. Free =  13. ε = 5.97E-05. Unsat =   1. Ovl = 0.541. Iters 38\n",
      " Step  468. Free =  12. ε = 3.54E-05. Unsat =   1. Ovl = 0.541. Iters 1\n"
     ]
    },
    {
     "name": "stdout",
     "output_type": "stream",
     "text": [
      " Step  469. Free =  11. ε = 5.13E-05. Unsat =   1. Ovl = 0.541. Iters 38\n",
      " Step  470. Free =  10. ε = 9.35E-05. Unsat =   1. Ovl = 0.541. Iters 31\n",
      " Step  471. Free =   9. ε = 8.68E-05. Unsat =   1. Ovl = 0.541. Iters 55\n",
      " Step  472. Free =   8. ε = 8.54E-05. Unsat =   1. Ovl = 0.541. Iters 5\n",
      " Step  473. Free =   7. ε = 8.92E-05. Unsat =   1. Ovl = 0.541. Iters 8\n",
      " Step  474. Free =   6. ε = 8.97E-05. Unsat =   1. Ovl = 0.541. Iters 23\n",
      " Step  475. Free =   5. ε = 6.59E-05. Unsat =   1. Ovl = 0.541. Iters 127\n",
      " Step  476. Free =   4. ε = 3.29E-05. Unsat =   1. Ovl = 0.541. Iters 1\n",
      " Step  477. Free =   3. ε = 8.89E-05. Unsat =   1. Ovl = 0.541. Iters 24\n",
      " Step  478. Free =   2. ε = 9.47E-05. Unsat =   1. Ovl = 0.541. Iters 11\n",
      " Step  479. Free =   1. ε = 5.98E-05. Unsat =   1. Ovl = 0.541. Iters 15\n",
      " Step  480. Free =   0. ε = -1.00E+00. Unsat =   1. Ovl = 0.541. Iters 67\n",
      "contradiction found. 1 unsat\n"
     ]
    },
    {
     "data": {
      "text/plain": [
       "(-1, NaN, NaN)"
      ]
     },
     "execution_count": 124,
     "metadata": {},
     "output_type": "execute_result"
    }
   ],
   "source": [
    "decimate!(bp, efield, freevars, maxiter=1000, Tmax=1, tol=1e-4, callback=cb_decimation, damp=0.5) "
   ]
  },
  {
   "cell_type": "code",
   "execution_count": 129,
   "metadata": {},
   "outputs": [],
   "source": [
    "f = sign.(bp.efield[freevars]);"
   ]
  },
  {
   "cell_type": "code",
   "execution_count": 130,
   "metadata": {},
   "outputs": [],
   "source": [
    "bp.efield .= 0\n",
    "bp.efield[freevars] .= f\n",
    "bp.m .= 0;"
   ]
  },
  {
   "cell_type": "code",
   "execution_count": 131,
   "metadata": {},
   "outputs": [
    {
     "data": {
      "text/plain": [
       "(5.820766091346741e-11, 246)"
      ]
     },
     "execution_count": 131,
     "metadata": {},
     "output_type": "execute_result"
    }
   ],
   "source": [
    "iteration!(bp; maxiter=1000, tol=1e-10, damp=0.5) "
   ]
  },
  {
   "cell_type": "code",
   "execution_count": 132,
   "metadata": {},
   "outputs": [
    {
     "data": {
      "text/plain": [
       "(37, 0.4633333333333334, 0.2683333333333333)"
      ]
     },
     "execution_count": 132,
     "metadata": {},
     "output_type": "execute_result"
    }
   ],
   "source": [
    "performance(bp, s)"
   ]
  },
  {
   "cell_type": "code",
   "execution_count": 135,
   "metadata": {},
   "outputs": [
    {
     "data": {
      "text/plain": [
       "0"
      ]
     },
     "execution_count": 135,
     "metadata": {},
     "output_type": "execute_result"
    }
   ],
   "source": [
    "sum(bp.efield[freevars].==0)"
   ]
  },
  {
   "cell_type": "code",
   "execution_count": 136,
   "metadata": {},
   "outputs": [
    {
     "data": {
      "text/plain": [
       "true"
      ]
     },
     "execution_count": 136,
     "metadata": {},
     "output_type": "execute_result"
    }
   ],
   "source": [
    "y = sign.(bp.efield[freevars]) .==-1\n",
    "x = B*y .% 2\n",
    "length(x) == length(bp.efield)"
   ]
  },
  {
   "cell_type": "code",
   "execution_count": 139,
   "metadata": {},
   "outputs": [
    {
     "data": {
      "text/plain": [
       "0"
      ]
     },
     "execution_count": 139,
     "metadata": {},
     "output_type": "execute_result"
    }
   ],
   "source": [
    "sum(bp.H'*x .% 2)"
   ]
  },
  {
   "cell_type": "code",
   "execution_count": 141,
   "metadata": {},
   "outputs": [
    {
     "data": {
      "text/plain": [
       "0.25722222222222224"
      ]
     },
     "execution_count": 141,
     "metadata": {},
     "output_type": "execute_result"
    }
   ],
   "source": [
    "dist = mean(x .!= (s.==-1))"
   ]
  },
  {
   "cell_type": "code",
   "execution_count": 69,
   "metadata": {
    "scrolled": false
   },
   "outputs": [
    {
     "name": "stdout",
     "output_type": "stream",
     "text": [
      "(it, ε) = (50, 0.00016251586544159535)\n",
      "(it, ε) = (100, 4.1876997480816414e-8)\n",
      "(it, ε) = (150, 1.866329313315873e-11)\n",
      "(it, ε) = (200, 8.298917109073045e-15)\n",
      "(it, ε) = (250, 3.9968028886505635e-15)\n",
      "(it, ε) = (300, 3.219646771412954e-15)\n",
      "(it, ε) = (350, 2.3314683517128287e-15)\n",
      "(it, ε) = (400, 2.220446049250313e-15)\n",
      "(it, ε) = (450, 2.55351295663786e-15)\n",
      "(it, ε) = (500, 2.1094237467877974e-15)\n",
      "(it, ε) = (550, 2.9976021664879227e-15)\n",
      "(it, ε) = (600, 1.9984014443252818e-15)\n",
      "(it, ε) = (650, 3.9968028886505635e-15)\n",
      "(it, ε) = (700, 2.886579864025407e-15)\n",
      "(it, ε) = (750, 2.6645352591003757e-15)\n",
      "(it, ε) = (800, 2.7755575615628914e-15)\n",
      "(it, ε) = (850, 2.9976021664879227e-15)\n",
      "(it, ε) = (900, 1.9984014443252818e-15)\n",
      "(it, ε) = (950, 2.3314683517128287e-15)\n",
      "(it, ε) = (1000, 3.774758283725532e-15)\n"
     ]
    },
    {
     "data": {
      "text/plain": [
       "(3.774758283725532e-15, 1000)"
      ]
     },
     "execution_count": 69,
     "metadata": {},
     "output_type": "execute_result"
    }
   ],
   "source": [
    "cb(it, ε, bp) = (mod(it,50)==0 && @show it,ε; false)\n",
    "ε, iters = iteration!(bp, maxiter=10^3, tol=1e-18, callback=cb, damp=0.5)"
   ]
  },
  {
   "cell_type": "code",
   "execution_count": 84,
   "metadata": {},
   "outputs": [
    {
     "name": "stdout",
     "output_type": "stream",
     "text": [
      "H=1.40.   Converged after 1020 iters\n",
      "H=1.45.   Converged after 1225 iters\n",
      "H=1.50.   Converged after 1405 iters\n",
      "H=1.55.   Converged after 1627 iters\n",
      "H=1.60.   Converged after 2139 iters\n",
      "H=1.65.   Converged after 5233 iters\n",
      "H=1.70. Unconverged: ε=8.30E-02\n",
      "H=1.75. Unconverged: ε=5.49E-02\n",
      "H=1.80. Unconverged: ε=6.94E-02\n",
      "H=1.85. Unconverged: ε=9.30E-02\n",
      "H=1.90. Unconverged: ε=2.66E-01\n",
      "H=1.95. Unconverged: ε=2.50E-01\n",
      "H=2.00. Unconverged: ε=3.20E-01\n"
     ]
    }
   ],
   "source": [
    "Hs = 1.4:0.05:2.0\n",
    "maxiter = 10^4\n",
    "bp = belief_propagation(n, m, nedges, Λ, K)\n",
    "s = rand((-1,1), n)\n",
    "for H in Hs\n",
    "    efield = tanh.(H*copy(s))\n",
    "    bp.efield .= efield\n",
    "    bp.m .= 0\n",
    "    ε, iters = iteration!(bp, maxiter=maxiter, tol=1e-10, damp=0.5)\n",
    "    @printf(\"H=%.2f. \", H)\n",
    "    if iters==maxiter\n",
    "        @printf(\"Unconverged: ε=%1.2E\\n\", ε)\n",
    "    else\n",
    "       @printf(\"Converged after %d iters\\n\", iters) \n",
    "    end\n",
    "end"
   ]
  },
  {
   "cell_type": "markdown",
   "metadata": {},
   "source": [
    "## Average over more than one instance"
   ]
  },
  {
   "cell_type": "code",
   "execution_count": 108,
   "metadata": {
    "scrolled": true
   },
   "outputs": [
    {
     "name": "stdout",
     "output_type": "stream",
     "text": [
      "#### Round 1 of 20\n"
     ]
    },
    {
     "name": "stderr",
     "output_type": "stream",
     "text": [
      "\u001b[32mProgress: 100%|█████████████████████████████████████████| Time: 0:00:00\u001b[39m\n"
     ]
    },
    {
     "name": "stdout",
     "output_type": "stream",
     "text": [
      "------ H=0.4. 1 of 1 ------\n",
      "Trial 1 of 1: contradiction found. 7 unsat\n",
      "#### Round 2 of 20\n"
     ]
    },
    {
     "name": "stderr",
     "output_type": "stream",
     "text": [
      "\u001b[32mProgress: 100%|█████████████████████████████████████████| Time: 0:00:00\u001b[39m\n"
     ]
    },
    {
     "name": "stdout",
     "output_type": "stream",
     "text": [
      "------ H=0.4. 1 of 1 ------\n",
      "Trial 1 of 1: contradiction found. 10 unsat\n",
      "#### Round 3 of 20\n"
     ]
    },
    {
     "name": "stderr",
     "output_type": "stream",
     "text": [
      "\u001b[32mProgress: 100%|█████████████████████████████████████████| Time: 0:00:00\u001b[39m\n"
     ]
    },
    {
     "name": "stdout",
     "output_type": "stream",
     "text": [
      "------ H=0.4. 1 of 1 ------\n",
      "Trial 1 of 1: 0 unsat\n",
      "#### Round 4 of 20\n"
     ]
    },
    {
     "name": "stderr",
     "output_type": "stream",
     "text": [
      "\u001b[32mProgress: 100%|█████████████████████████████████████████| Time: 0:00:00\u001b[39m\n"
     ]
    },
    {
     "name": "stdout",
     "output_type": "stream",
     "text": [
      "------ H=0.4. 1 of 1 ------\n",
      "Trial 1 of 1: 0 unsat\n",
      "#### Round 5 of 20\n"
     ]
    },
    {
     "name": "stderr",
     "output_type": "stream",
     "text": [
      "\u001b[32mProgress: 100%|█████████████████████████████████████████| Time: 0:00:00\u001b[39m\n"
     ]
    },
    {
     "name": "stdout",
     "output_type": "stream",
     "text": [
      "------ H=0.4. 1 of 1 ------\n",
      "Trial 1 of 1: contradiction found. 11 unsat\n",
      "#### Round 6 of 20\n"
     ]
    },
    {
     "name": "stderr",
     "output_type": "stream",
     "text": [
      "\u001b[32mProgress: 100%|█████████████████████████████████████████| Time: 0:00:00\u001b[39m\n"
     ]
    },
    {
     "name": "stdout",
     "output_type": "stream",
     "text": [
      "------ H=0.4. 1 of 1 ------\n",
      "Trial 1 of 1: contradiction found. 18 unsat\n",
      "#### Round 7 of 20\n"
     ]
    },
    {
     "name": "stderr",
     "output_type": "stream",
     "text": [
      "\u001b[32mProgress: 100%|█████████████████████████████████████████| Time: 0:00:00\u001b[39m\n"
     ]
    },
    {
     "name": "stdout",
     "output_type": "stream",
     "text": [
      "------ H=0.4. 1 of 1 ------\n",
      "Trial 1 of 1: contradiction found. 39 unsat\n",
      "#### Round 8 of 20\n"
     ]
    },
    {
     "name": "stderr",
     "output_type": "stream",
     "text": [
      "\u001b[32mProgress: 100%|█████████████████████████████████████████| Time: 0:00:00\u001b[39m\n"
     ]
    },
    {
     "name": "stdout",
     "output_type": "stream",
     "text": [
      "------ H=0.4. 1 of 1 ------\n",
      "Trial 1 of 1: 2 unsat\n",
      "#### Round 9 of 20\n"
     ]
    },
    {
     "name": "stderr",
     "output_type": "stream",
     "text": [
      "\u001b[32mProgress: 100%|█████████████████████████████████████████| Time: 0:00:00\u001b[39m\n"
     ]
    },
    {
     "name": "stdout",
     "output_type": "stream",
     "text": [
      "------ H=0.4. 1 of 1 ------\n",
      "Trial 1 of 1: "
     ]
    },
    {
     "ename": "LoadError",
     "evalue": "InterruptException:",
     "output_type": "error",
     "traceback": [
      "InterruptException:",
      "",
      "Stacktrace:",
      " [1] iteration!(::BeliefPropagation{Bool,Float64}; factor_perm::Array{Int64,1}, maxiter::Int64, tol::Float64, damp::Float64, rein::Float64, callback::var\"#263#265\", update!::Function) at /home/crotti/sourcecoding/code/bp.jl:157",
      " [2] decimate1!(::BeliefPropagation{Bool,Float64}, ::Array{Float64,1}, ::BitArray{1}; callback::var\"#269#271\", kw::Base.Iterators.Pairs{Symbol,Real,Tuple{Symbol,Symbol},NamedTuple{(:maxiter, :tol),Tuple{Int64,Float64}}}) at /home/crotti/sourcecoding/code/bp.jl:239",
      " [3] decimate!(::BeliefPropagation{Bool,Float64}, ::Array{Float64,1}, ::Array{Int64,1}; Tmax::Int64, kw::Base.Iterators.Pairs{Symbol,Real,Tuple{Symbol,Symbol},NamedTuple{(:maxiter, :tol),Tuple{Int64,Float64}}}) at /home/crotti/sourcecoding/code/bp.jl:212",
      " [4] top-level scope at ./In[108]:20"
     ]
    }
   ],
   "source": [
    "m = factorial(5)*11*2\n",
    "R = 0.8/3\n",
    "r = 1 - 3R\n",
    "n = round(Int, 3m/(2+r))\n",
    "Λ = OffsetVector([0,0,1-r,r], 0:3)\n",
    "K = OffsetVector([0,0,0,1], 0:3)\n",
    "nedges = 3m\n",
    "Hs = 10.0 .^ (-0.2:0.25:-0.2)\n",
    "Hs = [0.4]\n",
    "navg = 20\n",
    "dist_f3 = [Float64[] for _ in eachindex(Hs)]\n",
    "for j in 1:navg\n",
    "    println(\"#### Round $j of $navg\")\n",
    "    bp = belief_propagation(n, m, nedges, Λ, K)\n",
    "    _, freevars = findbasis_slow(permutedims(Array(bp.H)))\n",
    "    s = rand((-1,1), n)\n",
    "    for (i,H) in enumerate(Hs)\n",
    "        println(\"------ H=\", round(H,digits=4), \". \", i, \" of \", length(Hs), \" ------\")\n",
    "        fields = tanh.(H*copy(s))\n",
    "        _,_,d = decimate!(bp, fields, freevars, maxiter=1000, Tmax=1, tol=1e-4) \n",
    "        isnan(d) || push!(dist_f3[i], d) \n",
    "    end\n",
    "end"
   ]
  },
  {
   "cell_type": "code",
   "execution_count": 143,
   "metadata": {
    "scrolled": false
   },
   "outputs": [
    {
     "name": "stdout",
     "output_type": "stream",
     "text": [
      "Avg over 20 instances\n"
     ]
    },
    {
     "data": {
      "image/svg+xml": [
       "<?xml version=\"1.0\" encoding=\"utf-8\"?>\n",
       "<svg xmlns=\"http://www.w3.org/2000/svg\" xmlns:xlink=\"http://www.w3.org/1999/xlink\" width=\"600\" height=\"400\" viewBox=\"0 0 2400 1600\">\n",
       "<defs>\n",
       "  <clipPath id=\"clip240\">\n",
       "    <rect x=\"0\" y=\"0\" width=\"2400\" height=\"1600\"/>\n",
       "  </clipPath>\n",
       "</defs>\n",
       "<path clip-path=\"url(#clip240)\" d=\"\n",
       "M0 1600 L2400 1600 L2400 0 L0 0  Z\n",
       "  \" fill=\"#ffffff\" fill-rule=\"evenodd\" fill-opacity=\"1\"/>\n",
       "<defs>\n",
       "  <clipPath id=\"clip241\">\n",
       "    <rect x=\"480\" y=\"0\" width=\"1681\" height=\"1600\"/>\n",
       "  </clipPath>\n",
       "</defs>\n",
       "<path clip-path=\"url(#clip240)\" d=\"\n",
       "M148.334 1486.45 L2352.76 1486.45 L2352.76 47.2441 L148.334 47.2441  Z\n",
       "  \" fill=\"#ffffff\" fill-rule=\"evenodd\" fill-opacity=\"1\"/>\n",
       "<defs>\n",
       "  <clipPath id=\"clip242\">\n",
       "    <rect x=\"148\" y=\"47\" width=\"2205\" height=\"1440\"/>\n",
       "  </clipPath>\n",
       "</defs>\n",
       "<polyline clip-path=\"url(#clip242)\" style=\"stroke:#000000; stroke-width:2; stroke-opacity:0.1; fill:none\" points=\"\n",
       "  210.724,1486.45 210.724,47.2441 \n",
       "  \"/>\n",
       "<polyline clip-path=\"url(#clip242)\" style=\"stroke:#000000; stroke-width:2; stroke-opacity:0.1; fill:none\" points=\"\n",
       "  735.886,1486.45 735.886,47.2441 \n",
       "  \"/>\n",
       "<polyline clip-path=\"url(#clip242)\" style=\"stroke:#000000; stroke-width:2; stroke-opacity:0.1; fill:none\" points=\"\n",
       "  1261.05,1486.45 1261.05,47.2441 \n",
       "  \"/>\n",
       "<polyline clip-path=\"url(#clip242)\" style=\"stroke:#000000; stroke-width:2; stroke-opacity:0.1; fill:none\" points=\"\n",
       "  1786.21,1486.45 1786.21,47.2441 \n",
       "  \"/>\n",
       "<polyline clip-path=\"url(#clip242)\" style=\"stroke:#000000; stroke-width:2; stroke-opacity:0.1; fill:none\" points=\"\n",
       "  2311.37,1486.45 2311.37,47.2441 \n",
       "  \"/>\n",
       "<polyline clip-path=\"url(#clip240)\" style=\"stroke:#000000; stroke-width:4; stroke-opacity:1; fill:none\" points=\"\n",
       "  148.334,1486.45 2352.76,1486.45 \n",
       "  \"/>\n",
       "<polyline clip-path=\"url(#clip240)\" style=\"stroke:#000000; stroke-width:4; stroke-opacity:1; fill:none\" points=\"\n",
       "  210.724,1486.45 210.724,1469.18 \n",
       "  \"/>\n",
       "<polyline clip-path=\"url(#clip240)\" style=\"stroke:#000000; stroke-width:4; stroke-opacity:1; fill:none\" points=\"\n",
       "  735.886,1486.45 735.886,1469.18 \n",
       "  \"/>\n",
       "<polyline clip-path=\"url(#clip240)\" style=\"stroke:#000000; stroke-width:4; stroke-opacity:1; fill:none\" points=\"\n",
       "  1261.05,1486.45 1261.05,1469.18 \n",
       "  \"/>\n",
       "<polyline clip-path=\"url(#clip240)\" style=\"stroke:#000000; stroke-width:4; stroke-opacity:1; fill:none\" points=\"\n",
       "  1786.21,1486.45 1786.21,1469.18 \n",
       "  \"/>\n",
       "<polyline clip-path=\"url(#clip240)\" style=\"stroke:#000000; stroke-width:4; stroke-opacity:1; fill:none\" points=\"\n",
       "  2311.37,1486.45 2311.37,1469.18 \n",
       "  \"/>\n",
       "<path clip-path=\"url(#clip240)\" d=\"M 0 0 M178.733 1515.64 Q175.122 1515.64 173.293 1519.2 Q171.488 1522.75 171.488 1529.87 Q171.488 1536.98 173.293 1540.55 Q175.122 1544.09 178.733 1544.09 Q182.367 1544.09 184.173 1540.55 Q186.002 1536.98 186.002 1529.87 Q186.002 1522.75 184.173 1519.2 Q182.367 1515.64 178.733 1515.64 M178.733 1511.93 Q184.543 1511.93 187.599 1516.54 Q190.677 1521.12 190.677 1529.87 Q190.677 1538.6 187.599 1543.21 Q184.543 1547.79 178.733 1547.79 Q172.923 1547.79 169.844 1543.21 Q166.789 1538.6 166.789 1529.87 Q166.789 1521.12 169.844 1516.54 Q172.923 1511.93 178.733 1511.93 Z\" fill=\"#000000\" fill-rule=\"evenodd\" fill-opacity=\"1\" /><path clip-path=\"url(#clip240)\" d=\"M 0 0 M195.747 1541.24 L200.631 1541.24 L200.631 1547.12 L195.747 1547.12 L195.747 1541.24 Z\" fill=\"#000000\" fill-rule=\"evenodd\" fill-opacity=\"1\" /><path clip-path=\"url(#clip240)\" d=\"M 0 0 M215.701 1515.64 Q212.089 1515.64 210.261 1519.2 Q208.455 1522.75 208.455 1529.87 Q208.455 1536.98 210.261 1540.55 Q212.089 1544.09 215.701 1544.09 Q219.335 1544.09 221.14 1540.55 Q222.969 1536.98 222.969 1529.87 Q222.969 1522.75 221.14 1519.2 Q219.335 1515.64 215.701 1515.64 M215.701 1511.93 Q221.511 1511.93 224.566 1516.54 Q227.645 1521.12 227.645 1529.87 Q227.645 1538.6 224.566 1543.21 Q221.511 1547.79 215.701 1547.79 Q209.89 1547.79 206.812 1543.21 Q203.756 1538.6 203.756 1529.87 Q203.756 1521.12 206.812 1516.54 Q209.89 1511.93 215.701 1511.93 Z\" fill=\"#000000\" fill-rule=\"evenodd\" fill-opacity=\"1\" /><path clip-path=\"url(#clip240)\" d=\"M 0 0 M242.714 1515.64 Q239.103 1515.64 237.274 1519.2 Q235.469 1522.75 235.469 1529.87 Q235.469 1536.98 237.274 1540.55 Q239.103 1544.09 242.714 1544.09 Q246.348 1544.09 248.154 1540.55 Q249.983 1536.98 249.983 1529.87 Q249.983 1522.75 248.154 1519.2 Q246.348 1515.64 242.714 1515.64 M242.714 1511.93 Q248.524 1511.93 251.58 1516.54 Q254.659 1521.12 254.659 1529.87 Q254.659 1538.6 251.58 1543.21 Q248.524 1547.79 242.714 1547.79 Q236.904 1547.79 233.825 1543.21 Q230.77 1538.6 230.77 1529.87 Q230.77 1521.12 233.825 1516.54 Q236.904 1511.93 242.714 1511.93 Z\" fill=\"#000000\" fill-rule=\"evenodd\" fill-opacity=\"1\" /><path clip-path=\"url(#clip240)\" d=\"M 0 0 M705.192 1515.64 Q701.581 1515.64 699.752 1519.2 Q697.946 1522.75 697.946 1529.87 Q697.946 1536.98 699.752 1540.55 Q701.581 1544.09 705.192 1544.09 Q708.826 1544.09 710.632 1540.55 Q712.46 1536.98 712.46 1529.87 Q712.46 1522.75 710.632 1519.2 Q708.826 1515.64 705.192 1515.64 M705.192 1511.93 Q711.002 1511.93 714.057 1516.54 Q717.136 1521.12 717.136 1529.87 Q717.136 1538.6 714.057 1543.21 Q711.002 1547.79 705.192 1547.79 Q699.382 1547.79 696.303 1543.21 Q693.247 1538.6 693.247 1529.87 Q693.247 1521.12 696.303 1516.54 Q699.382 1511.93 705.192 1511.93 Z\" fill=\"#000000\" fill-rule=\"evenodd\" fill-opacity=\"1\" /><path clip-path=\"url(#clip240)\" d=\"M 0 0 M722.206 1541.24 L727.09 1541.24 L727.09 1547.12 L722.206 1547.12 L722.206 1541.24 Z\" fill=\"#000000\" fill-rule=\"evenodd\" fill-opacity=\"1\" /><path clip-path=\"url(#clip240)\" d=\"M 0 0 M736.187 1543.18 L752.506 1543.18 L752.506 1547.12 L730.562 1547.12 L730.562 1543.18 Q733.224 1540.43 737.807 1535.8 Q742.414 1531.15 743.594 1529.81 Q745.84 1527.28 746.719 1525.55 Q747.622 1523.79 747.622 1522.1 Q747.622 1519.34 745.678 1517.61 Q743.756 1515.87 740.655 1515.87 Q738.455 1515.87 736.002 1516.63 Q733.571 1517.4 730.793 1518.95 L730.793 1514.23 Q733.618 1513.09 736.071 1512.51 Q738.525 1511.93 740.562 1511.93 Q745.932 1511.93 749.127 1514.62 Q752.321 1517.31 752.321 1521.8 Q752.321 1523.93 751.511 1525.85 Q750.724 1527.74 748.617 1530.34 Q748.039 1531.01 744.937 1534.23 Q741.835 1537.42 736.187 1543.18 Z\" fill=\"#000000\" fill-rule=\"evenodd\" fill-opacity=\"1\" /><path clip-path=\"url(#clip240)\" d=\"M 0 0 M757.622 1512.56 L775.978 1512.56 L775.978 1516.5 L761.904 1516.5 L761.904 1524.97 Q762.923 1524.62 763.941 1524.46 Q764.96 1524.27 765.978 1524.27 Q771.765 1524.27 775.145 1527.44 Q778.525 1530.62 778.525 1536.03 Q778.525 1541.61 775.052 1544.71 Q771.58 1547.79 765.261 1547.79 Q763.085 1547.79 760.816 1547.42 Q758.571 1547.05 756.164 1546.31 L756.164 1541.61 Q758.247 1542.74 760.469 1543.3 Q762.691 1543.86 765.168 1543.86 Q769.173 1543.86 771.511 1541.75 Q773.849 1539.64 773.849 1536.03 Q773.849 1532.42 771.511 1530.31 Q769.173 1528.21 765.168 1528.21 Q763.293 1528.21 761.418 1528.62 Q759.566 1529.04 757.622 1529.92 L757.622 1512.56 Z\" fill=\"#000000\" fill-rule=\"evenodd\" fill-opacity=\"1\" /><path clip-path=\"url(#clip240)\" d=\"M 0 0 M1229.56 1515.64 Q1225.94 1515.64 1224.12 1519.2 Q1222.31 1522.75 1222.31 1529.87 Q1222.31 1536.98 1224.12 1540.55 Q1225.94 1544.09 1229.56 1544.09 Q1233.19 1544.09 1235 1540.55 Q1236.82 1536.98 1236.82 1529.87 Q1236.82 1522.75 1235 1519.2 Q1233.19 1515.64 1229.56 1515.64 M1229.56 1511.93 Q1235.37 1511.93 1238.42 1516.54 Q1241.5 1521.12 1241.5 1529.87 Q1241.5 1538.6 1238.42 1543.21 Q1235.37 1547.79 1229.56 1547.79 Q1223.75 1547.79 1220.67 1543.21 Q1217.61 1538.6 1217.61 1529.87 Q1217.61 1521.12 1220.67 1516.54 Q1223.75 1511.93 1229.56 1511.93 Z\" fill=\"#000000\" fill-rule=\"evenodd\" fill-opacity=\"1\" /><path clip-path=\"url(#clip240)\" d=\"M 0 0 M1246.57 1541.24 L1251.45 1541.24 L1251.45 1547.12 L1246.57 1547.12 L1246.57 1541.24 Z\" fill=\"#000000\" fill-rule=\"evenodd\" fill-opacity=\"1\" /><path clip-path=\"url(#clip240)\" d=\"M 0 0 M1256.57 1512.56 L1274.93 1512.56 L1274.93 1516.5 L1260.85 1516.5 L1260.85 1524.97 Q1261.87 1524.62 1262.89 1524.46 Q1263.91 1524.27 1264.93 1524.27 Q1270.71 1524.27 1274.09 1527.44 Q1277.47 1530.62 1277.47 1536.03 Q1277.47 1541.61 1274 1544.71 Q1270.53 1547.79 1264.21 1547.79 Q1262.03 1547.79 1259.76 1547.42 Q1257.52 1547.05 1255.11 1546.31 L1255.11 1541.61 Q1257.19 1542.74 1259.42 1543.3 Q1261.64 1543.86 1264.12 1543.86 Q1268.12 1543.86 1270.46 1541.75 Q1272.8 1539.64 1272.8 1536.03 Q1272.8 1532.42 1270.46 1530.31 Q1268.12 1528.21 1264.12 1528.21 Q1262.24 1528.21 1260.37 1528.62 Q1258.51 1529.04 1256.57 1529.92 L1256.57 1512.56 Z\" fill=\"#000000\" fill-rule=\"evenodd\" fill-opacity=\"1\" /><path clip-path=\"url(#clip240)\" d=\"M 0 0 M1292.54 1515.64 Q1288.93 1515.64 1287.1 1519.2 Q1285.3 1522.75 1285.3 1529.87 Q1285.3 1536.98 1287.1 1540.55 Q1288.93 1544.09 1292.54 1544.09 Q1296.18 1544.09 1297.98 1540.55 Q1299.81 1536.98 1299.81 1529.87 Q1299.81 1522.75 1297.98 1519.2 Q1296.18 1515.64 1292.54 1515.64 M1292.54 1511.93 Q1298.35 1511.93 1301.41 1516.54 Q1304.49 1521.12 1304.49 1529.87 Q1304.49 1538.6 1301.41 1543.21 Q1298.35 1547.79 1292.54 1547.79 Q1286.73 1547.79 1283.65 1543.21 Q1280.6 1538.6 1280.6 1529.87 Q1280.6 1521.12 1283.65 1516.54 Q1286.73 1511.93 1292.54 1511.93 Z\" fill=\"#000000\" fill-rule=\"evenodd\" fill-opacity=\"1\" /><path clip-path=\"url(#clip240)\" d=\"M 0 0 M1755.17 1515.64 Q1751.56 1515.64 1749.73 1519.2 Q1747.92 1522.75 1747.92 1529.87 Q1747.92 1536.98 1749.73 1540.55 Q1751.56 1544.09 1755.17 1544.09 Q1758.8 1544.09 1760.61 1540.55 Q1762.44 1536.98 1762.44 1529.87 Q1762.44 1522.75 1760.61 1519.2 Q1758.8 1515.64 1755.17 1515.64 M1755.17 1511.93 Q1760.98 1511.93 1764.03 1516.54 Q1767.11 1521.12 1767.11 1529.87 Q1767.11 1538.6 1764.03 1543.21 Q1760.98 1547.79 1755.17 1547.79 Q1749.36 1547.79 1746.28 1543.21 Q1743.22 1538.6 1743.22 1529.87 Q1743.22 1521.12 1746.28 1516.54 Q1749.36 1511.93 1755.17 1511.93 Z\" fill=\"#000000\" fill-rule=\"evenodd\" fill-opacity=\"1\" /><path clip-path=\"url(#clip240)\" d=\"M 0 0 M1772.18 1541.24 L1777.07 1541.24 L1777.07 1547.12 L1772.18 1547.12 L1772.18 1541.24 Z\" fill=\"#000000\" fill-rule=\"evenodd\" fill-opacity=\"1\" /><path clip-path=\"url(#clip240)\" d=\"M 0 0 M1780.96 1512.56 L1803.18 1512.56 L1803.18 1514.55 L1790.63 1547.12 L1785.75 1547.12 L1797.55 1516.5 L1780.96 1516.5 L1780.96 1512.56 Z\" fill=\"#000000\" fill-rule=\"evenodd\" fill-opacity=\"1\" /><path clip-path=\"url(#clip240)\" d=\"M 0 0 M1808.29 1512.56 L1826.65 1512.56 L1826.65 1516.5 L1812.58 1516.5 L1812.58 1524.97 Q1813.59 1524.62 1814.61 1524.46 Q1815.63 1524.27 1816.65 1524.27 Q1822.44 1524.27 1825.82 1527.44 Q1829.2 1530.62 1829.2 1536.03 Q1829.2 1541.61 1825.72 1544.71 Q1822.25 1547.79 1815.93 1547.79 Q1813.76 1547.79 1811.49 1547.42 Q1809.24 1547.05 1806.84 1546.31 L1806.84 1541.61 Q1808.92 1542.74 1811.14 1543.3 Q1813.36 1543.86 1815.84 1543.86 Q1819.84 1543.86 1822.18 1541.75 Q1824.52 1539.64 1824.52 1536.03 Q1824.52 1532.42 1822.18 1530.31 Q1819.84 1528.21 1815.84 1528.21 Q1813.97 1528.21 1812.09 1528.62 Q1810.24 1529.04 1808.29 1529.92 L1808.29 1512.56 Z\" fill=\"#000000\" fill-rule=\"evenodd\" fill-opacity=\"1\" /><path clip-path=\"url(#clip240)\" d=\"M 0 0 M2269.76 1543.18 L2277.4 1543.18 L2277.4 1516.82 L2269.09 1518.49 L2269.09 1514.23 L2277.36 1512.56 L2282.03 1512.56 L2282.03 1543.18 L2289.67 1543.18 L2289.67 1547.12 L2269.76 1547.12 L2269.76 1543.18 Z\" fill=\"#000000\" fill-rule=\"evenodd\" fill-opacity=\"1\" /><path clip-path=\"url(#clip240)\" d=\"M 0 0 M2294.74 1541.24 L2299.63 1541.24 L2299.63 1547.12 L2294.74 1547.12 L2294.74 1541.24 Z\" fill=\"#000000\" fill-rule=\"evenodd\" fill-opacity=\"1\" /><path clip-path=\"url(#clip240)\" d=\"M 0 0 M2314.69 1515.64 Q2311.08 1515.64 2309.26 1519.2 Q2307.45 1522.75 2307.45 1529.87 Q2307.45 1536.98 2309.26 1540.55 Q2311.08 1544.09 2314.69 1544.09 Q2318.33 1544.09 2320.13 1540.55 Q2321.96 1536.98 2321.96 1529.87 Q2321.96 1522.75 2320.13 1519.2 Q2318.33 1515.64 2314.69 1515.64 M2314.69 1511.93 Q2320.51 1511.93 2323.56 1516.54 Q2326.64 1521.12 2326.64 1529.87 Q2326.64 1538.6 2323.56 1543.21 Q2320.51 1547.79 2314.69 1547.79 Q2308.88 1547.79 2305.81 1543.21 Q2302.75 1538.6 2302.75 1529.87 Q2302.75 1521.12 2305.81 1516.54 Q2308.88 1511.93 2314.69 1511.93 Z\" fill=\"#000000\" fill-rule=\"evenodd\" fill-opacity=\"1\" /><path clip-path=\"url(#clip240)\" d=\"M 0 0 M2341.71 1515.64 Q2338.1 1515.64 2336.27 1519.2 Q2334.46 1522.75 2334.46 1529.87 Q2334.46 1536.98 2336.27 1540.55 Q2338.1 1544.09 2341.71 1544.09 Q2345.34 1544.09 2347.15 1540.55 Q2348.98 1536.98 2348.98 1529.87 Q2348.98 1522.75 2347.15 1519.2 Q2345.34 1515.64 2341.71 1515.64 M2341.71 1511.93 Q2347.52 1511.93 2350.57 1516.54 Q2353.65 1521.12 2353.65 1529.87 Q2353.65 1538.6 2350.57 1543.21 Q2347.52 1547.79 2341.71 1547.79 Q2335.9 1547.79 2332.82 1543.21 Q2329.76 1538.6 2329.76 1529.87 Q2329.76 1521.12 2332.82 1516.54 Q2335.9 1511.93 2341.71 1511.93 Z\" fill=\"#000000\" fill-rule=\"evenodd\" fill-opacity=\"1\" /><polyline clip-path=\"url(#clip242)\" style=\"stroke:#000000; stroke-width:2; stroke-opacity:0.1; fill:none\" points=\"\n",
       "  148.334,1446.94 2352.76,1446.94 \n",
       "  \"/>\n",
       "<polyline clip-path=\"url(#clip242)\" style=\"stroke:#000000; stroke-width:2; stroke-opacity:0.1; fill:none\" points=\"\n",
       "  148.334,1175.09 2352.76,1175.09 \n",
       "  \"/>\n",
       "<polyline clip-path=\"url(#clip242)\" style=\"stroke:#000000; stroke-width:2; stroke-opacity:0.1; fill:none\" points=\"\n",
       "  148.334,903.228 2352.76,903.228 \n",
       "  \"/>\n",
       "<polyline clip-path=\"url(#clip242)\" style=\"stroke:#000000; stroke-width:2; stroke-opacity:0.1; fill:none\" points=\"\n",
       "  148.334,631.372 2352.76,631.372 \n",
       "  \"/>\n",
       "<polyline clip-path=\"url(#clip242)\" style=\"stroke:#000000; stroke-width:2; stroke-opacity:0.1; fill:none\" points=\"\n",
       "  148.334,359.515 2352.76,359.515 \n",
       "  \"/>\n",
       "<polyline clip-path=\"url(#clip242)\" style=\"stroke:#000000; stroke-width:2; stroke-opacity:0.1; fill:none\" points=\"\n",
       "  148.334,87.6586 2352.76,87.6586 \n",
       "  \"/>\n",
       "<polyline clip-path=\"url(#clip240)\" style=\"stroke:#000000; stroke-width:4; stroke-opacity:1; fill:none\" points=\"\n",
       "  148.334,1486.45 148.334,47.2441 \n",
       "  \"/>\n",
       "<polyline clip-path=\"url(#clip240)\" style=\"stroke:#000000; stroke-width:4; stroke-opacity:1; fill:none\" points=\"\n",
       "  148.334,1446.94 174.787,1446.94 \n",
       "  \"/>\n",
       "<polyline clip-path=\"url(#clip240)\" style=\"stroke:#000000; stroke-width:4; stroke-opacity:1; fill:none\" points=\"\n",
       "  148.334,1175.09 174.787,1175.09 \n",
       "  \"/>\n",
       "<polyline clip-path=\"url(#clip240)\" style=\"stroke:#000000; stroke-width:4; stroke-opacity:1; fill:none\" points=\"\n",
       "  148.334,903.228 174.787,903.228 \n",
       "  \"/>\n",
       "<polyline clip-path=\"url(#clip240)\" style=\"stroke:#000000; stroke-width:4; stroke-opacity:1; fill:none\" points=\"\n",
       "  148.334,631.372 174.787,631.372 \n",
       "  \"/>\n",
       "<polyline clip-path=\"url(#clip240)\" style=\"stroke:#000000; stroke-width:4; stroke-opacity:1; fill:none\" points=\"\n",
       "  148.334,359.515 174.787,359.515 \n",
       "  \"/>\n",
       "<polyline clip-path=\"url(#clip240)\" style=\"stroke:#000000; stroke-width:4; stroke-opacity:1; fill:none\" points=\"\n",
       "  148.334,87.6586 174.787,87.6586 \n",
       "  \"/>\n",
       "<path clip-path=\"url(#clip240)\" d=\"M 0 0 M63.4226 1432.74 Q59.8115 1432.74 57.9828 1436.31 Q56.1773 1439.85 56.1773 1446.98 Q56.1773 1454.08 57.9828 1457.65 Q59.8115 1461.19 63.4226 1461.19 Q67.0569 1461.19 68.8624 1457.65 Q70.6911 1454.08 70.6911 1446.98 Q70.6911 1439.85 68.8624 1436.31 Q67.0569 1432.74 63.4226 1432.74 M63.4226 1429.04 Q69.2328 1429.04 72.2883 1433.64 Q75.367 1438.23 75.367 1446.98 Q75.367 1455.7 72.2883 1460.31 Q69.2328 1464.89 63.4226 1464.89 Q57.6125 1464.89 54.5338 1460.31 Q51.4782 1455.7 51.4782 1446.98 Q51.4782 1438.23 54.5338 1433.64 Q57.6125 1429.04 63.4226 1429.04 Z\" fill=\"#000000\" fill-rule=\"evenodd\" fill-opacity=\"1\" /><path clip-path=\"url(#clip240)\" d=\"M 0 0 M80.4364 1458.34 L85.3206 1458.34 L85.3206 1464.22 L80.4364 1464.22 L80.4364 1458.34 Z\" fill=\"#000000\" fill-rule=\"evenodd\" fill-opacity=\"1\" /><path clip-path=\"url(#clip240)\" d=\"M 0 0 M100.39 1432.74 Q96.7789 1432.74 94.9502 1436.31 Q93.1447 1439.85 93.1447 1446.98 Q93.1447 1454.08 94.9502 1457.65 Q96.7789 1461.19 100.39 1461.19 Q104.024 1461.19 105.83 1457.65 Q107.658 1454.08 107.658 1446.98 Q107.658 1439.85 105.83 1436.31 Q104.024 1432.74 100.39 1432.74 M100.39 1429.04 Q106.2 1429.04 109.256 1433.64 Q112.334 1438.23 112.334 1446.98 Q112.334 1455.7 109.256 1460.31 Q106.2 1464.89 100.39 1464.89 Q94.5799 1464.89 91.5012 1460.31 Q88.4456 1455.7 88.4456 1446.98 Q88.4456 1438.23 91.5012 1433.64 Q94.5799 1429.04 100.39 1429.04 Z\" fill=\"#000000\" fill-rule=\"evenodd\" fill-opacity=\"1\" /><path clip-path=\"url(#clip240)\" d=\"M 0 0 M64.6495 1160.88 Q61.0384 1160.88 59.2097 1164.45 Q57.4041 1167.99 57.4041 1175.12 Q57.4041 1182.23 59.2097 1185.79 Q61.0384 1189.33 64.6495 1189.33 Q68.2837 1189.33 70.0892 1185.79 Q71.9179 1182.23 71.9179 1175.12 Q71.9179 1167.99 70.0892 1164.45 Q68.2837 1160.88 64.6495 1160.88 M64.6495 1157.18 Q70.4596 1157.18 73.5152 1161.79 Q76.5938 1166.37 76.5938 1175.12 Q76.5938 1183.85 73.5152 1188.45 Q70.4596 1193.04 64.6495 1193.04 Q58.8393 1193.04 55.7606 1188.45 Q52.7051 1183.85 52.7051 1175.12 Q52.7051 1166.37 55.7606 1161.79 Q58.8393 1157.18 64.6495 1157.18 Z\" fill=\"#000000\" fill-rule=\"evenodd\" fill-opacity=\"1\" /><path clip-path=\"url(#clip240)\" d=\"M 0 0 M81.6633 1186.49 L86.5475 1186.49 L86.5475 1192.37 L81.6633 1192.37 L81.6633 1186.49 Z\" fill=\"#000000\" fill-rule=\"evenodd\" fill-opacity=\"1\" /><path clip-path=\"url(#clip240)\" d=\"M 0 0 M92.4271 1188.43 L100.066 1188.43 L100.066 1162.06 L91.7558 1163.73 L91.7558 1159.47 L100.02 1157.81 L104.696 1157.81 L104.696 1188.43 L112.334 1188.43 L112.334 1192.37 L92.4271 1192.37 L92.4271 1188.43 Z\" fill=\"#000000\" fill-rule=\"evenodd\" fill-opacity=\"1\" /><path clip-path=\"url(#clip240)\" d=\"M 0 0 M65.0198 889.027 Q61.4087 889.027 59.58 892.592 Q57.7745 896.134 57.7745 903.263 Q57.7745 910.37 59.58 913.934 Q61.4087 917.476 65.0198 917.476 Q68.6541 917.476 70.4596 913.934 Q72.2883 910.37 72.2883 903.263 Q72.2883 896.134 70.4596 892.592 Q68.6541 889.027 65.0198 889.027 M65.0198 885.323 Q70.83 885.323 73.8855 889.93 Q76.9642 894.513 76.9642 903.263 Q76.9642 911.99 73.8855 916.596 Q70.83 921.18 65.0198 921.18 Q59.2097 921.18 56.131 916.596 Q53.0754 911.99 53.0754 903.263 Q53.0754 894.513 56.131 889.93 Q59.2097 885.323 65.0198 885.323 Z\" fill=\"#000000\" fill-rule=\"evenodd\" fill-opacity=\"1\" /><path clip-path=\"url(#clip240)\" d=\"M 0 0 M82.0336 914.629 L86.9179 914.629 L86.9179 920.508 L82.0336 920.508 L82.0336 914.629 Z\" fill=\"#000000\" fill-rule=\"evenodd\" fill-opacity=\"1\" /><path clip-path=\"url(#clip240)\" d=\"M 0 0 M96.015 916.573 L112.334 916.573 L112.334 920.508 L90.3901 920.508 L90.3901 916.573 Q93.0521 913.819 97.6354 909.189 Q102.242 904.536 103.422 903.194 Q105.668 900.671 106.547 898.935 Q107.45 897.175 107.45 895.485 Q107.45 892.731 105.506 890.995 Q103.584 889.259 100.483 889.259 Q98.2835 889.259 95.8298 890.023 Q93.3993 890.786 90.6215 892.337 L90.6215 887.615 Q93.4456 886.481 95.8993 885.902 Q98.353 885.323 100.39 885.323 Q105.76 885.323 108.955 888.009 Q112.149 890.694 112.149 895.185 Q112.149 897.314 111.339 899.235 Q110.552 901.134 108.446 903.726 Q107.867 904.397 104.765 907.615 Q101.663 910.809 96.015 916.573 Z\" fill=\"#000000\" fill-rule=\"evenodd\" fill-opacity=\"1\" /><path clip-path=\"url(#clip240)\" d=\"M 0 0 M64.0708 617.171 Q60.4597 617.171 58.631 620.735 Q56.8254 624.277 56.8254 631.407 Q56.8254 638.513 58.631 642.078 Q60.4597 645.619 64.0708 645.619 Q67.705 645.619 69.5105 642.078 Q71.3392 638.513 71.3392 631.407 Q71.3392 624.277 69.5105 620.735 Q67.705 617.171 64.0708 617.171 M64.0708 613.467 Q69.8809 613.467 72.9365 618.073 Q76.0151 622.657 76.0151 631.407 Q76.0151 640.133 72.9365 644.74 Q69.8809 649.323 64.0708 649.323 Q58.2606 649.323 55.1819 644.74 Q52.1264 640.133 52.1264 631.407 Q52.1264 622.657 55.1819 618.073 Q58.2606 613.467 64.0708 613.467 Z\" fill=\"#000000\" fill-rule=\"evenodd\" fill-opacity=\"1\" /><path clip-path=\"url(#clip240)\" d=\"M 0 0 M81.0846 642.772 L85.9688 642.772 L85.9688 648.652 L81.0846 648.652 L81.0846 642.772 Z\" fill=\"#000000\" fill-rule=\"evenodd\" fill-opacity=\"1\" /><path clip-path=\"url(#clip240)\" d=\"M 0 0 M105.205 630.018 Q108.561 630.735 110.436 633.004 Q112.334 635.272 112.334 638.606 Q112.334 643.721 108.816 646.522 Q105.297 649.323 98.8159 649.323 Q96.64 649.323 94.3252 648.883 Q92.0336 648.467 89.5799 647.61 L89.5799 643.096 Q91.5243 644.231 93.8391 644.809 Q96.1539 645.388 98.6771 645.388 Q103.075 645.388 105.367 643.652 Q107.682 641.916 107.682 638.606 Q107.682 635.55 105.529 633.837 Q103.399 632.101 99.5798 632.101 L95.5521 632.101 L95.5521 628.258 L99.765 628.258 Q103.214 628.258 105.043 626.893 Q106.871 625.504 106.871 622.911 Q106.871 620.249 104.973 618.837 Q103.098 617.402 99.5798 617.402 Q97.6585 617.402 95.4595 617.819 Q93.2604 618.235 90.6215 619.115 L90.6215 614.948 Q93.2836 614.208 95.5984 613.837 Q97.9363 613.467 99.9965 613.467 Q105.321 613.467 108.422 615.897 Q111.524 618.305 111.524 622.425 Q111.524 625.295 109.881 627.286 Q108.237 629.254 105.205 630.018 Z\" fill=\"#000000\" fill-rule=\"evenodd\" fill-opacity=\"1\" /><path clip-path=\"url(#clip240)\" d=\"M 0 0 M62.9365 345.314 Q59.3254 345.314 57.4967 348.879 Q55.6912 352.42 55.6912 359.55 Q55.6912 366.656 57.4967 370.221 Q59.3254 373.763 62.9365 373.763 Q66.5707 373.763 68.3763 370.221 Q70.205 366.656 70.205 359.55 Q70.205 352.42 68.3763 348.879 Q66.5707 345.314 62.9365 345.314 M62.9365 341.61 Q68.7467 341.61 71.8022 346.217 Q74.8809 350.8 74.8809 359.55 Q74.8809 368.277 71.8022 372.883 Q68.7467 377.467 62.9365 377.467 Q57.1264 377.467 54.0477 372.883 Q50.9921 368.277 50.9921 359.55 Q50.9921 350.8 54.0477 346.217 Q57.1264 341.61 62.9365 341.61 Z\" fill=\"#000000\" fill-rule=\"evenodd\" fill-opacity=\"1\" /><path clip-path=\"url(#clip240)\" d=\"M 0 0 M79.9503 370.916 L84.8345 370.916 L84.8345 376.795 L79.9503 376.795 L79.9503 370.916 Z\" fill=\"#000000\" fill-rule=\"evenodd\" fill-opacity=\"1\" /><path clip-path=\"url(#clip240)\" d=\"M 0 0 M102.751 346.309 L90.9456 364.758 L102.751 364.758 L102.751 346.309 M101.524 342.235 L107.404 342.235 L107.404 364.758 L112.334 364.758 L112.334 368.647 L107.404 368.647 L107.404 376.795 L102.751 376.795 L102.751 368.647 L87.1493 368.647 L87.1493 364.133 L101.524 342.235 Z\" fill=\"#000000\" fill-rule=\"evenodd\" fill-opacity=\"1\" /><path clip-path=\"url(#clip240)\" d=\"M 0 0 M64.418 73.4573 Q60.8069 73.4573 58.9782 77.0221 Q57.1726 80.5637 57.1726 87.6933 Q57.1726 94.7997 58.9782 98.3645 Q60.8069 101.906 64.418 101.906 Q68.0522 101.906 69.8578 98.3645 Q71.6865 94.7997 71.6865 87.6933 Q71.6865 80.5637 69.8578 77.0221 Q68.0522 73.4573 64.418 73.4573 M64.418 69.7536 Q70.2281 69.7536 73.2837 74.36 Q76.3624 78.9433 76.3624 87.6933 Q76.3624 96.4201 73.2837 101.027 Q70.2281 105.61 64.418 105.61 Q58.6078 105.61 55.5291 101.027 Q52.4736 96.4201 52.4736 87.6933 Q52.4736 78.9433 55.5291 74.36 Q58.6078 69.7536 64.418 69.7536 Z\" fill=\"#000000\" fill-rule=\"evenodd\" fill-opacity=\"1\" /><path clip-path=\"url(#clip240)\" d=\"M 0 0 M81.4318 99.059 L86.316 99.059 L86.316 104.939 L81.4318 104.939 L81.4318 99.059 Z\" fill=\"#000000\" fill-rule=\"evenodd\" fill-opacity=\"1\" /><path clip-path=\"url(#clip240)\" d=\"M 0 0 M91.4317 70.3786 L109.788 70.3786 L109.788 74.3137 L95.7141 74.3137 L95.7141 82.7859 Q96.7326 82.4387 97.7511 82.2767 Q98.7696 82.0915 99.7882 82.0915 Q105.575 82.0915 108.955 85.2628 Q112.334 88.434 112.334 93.8507 Q112.334 99.4293 108.862 102.531 Q105.39 105.61 99.0706 105.61 Q96.8947 105.61 94.6262 105.239 Q92.3808 104.869 89.9734 104.128 L89.9734 99.4293 Q92.0567 100.564 94.2789 101.119 Q96.5011 101.675 98.978 101.675 Q102.983 101.675 105.321 99.5682 Q107.658 97.4618 107.658 93.8507 Q107.658 90.2396 105.321 88.1331 Q102.983 86.0266 98.978 86.0266 Q97.103 86.0266 95.228 86.4433 Q93.3762 86.86 91.4317 87.7396 L91.4317 70.3786 Z\" fill=\"#000000\" fill-rule=\"evenodd\" fill-opacity=\"1\" /><polyline clip-path=\"url(#clip242)\" style=\"stroke:#009af9; stroke-width:4; stroke-opacity:1; fill:none\" points=\"\n",
       "  2287.41,1444.22 2127.88,1417.04 2002.54,1389.85 1892.54,1362.67 1792.81,1335.48 1700.86,1308.29 1615.21,1281.11 1534.88,1253.92 1459.15,1226.74 1387.51,1199.55 \n",
       "  1319.54,1172.37 1254.9,1145.18 1193.35,1118 1134.64,1090.81 1078.6,1063.62 1025.07,1036.44 973.897,1009.25 924.971,982.067 878.184,954.881 833.443,927.696 \n",
       "  790.663,900.51 749.772,873.324 710.701,846.139 673.391,818.953 637.787,791.767 603.841,764.582 571.507,737.396 540.744,710.21 511.516,683.025 483.788,655.839 \n",
       "  457.529,628.653 432.711,601.468 409.307,574.282 387.294,547.096 366.65,519.911 347.354,492.725 329.389,465.539 312.738,438.354 297.385,411.168 283.318,383.982 \n",
       "  270.524,356.797 258.991,329.611 248.711,302.425 239.673,275.24 231.872,248.054 225.3,220.868 219.952,193.683 215.824,166.497 212.912,139.311 211.215,112.126 \n",
       "  \n",
       "  \"/>\n",
       "<polyline clip-path=\"url(#clip242)\" style=\"stroke:#e26f46; stroke-width:4; stroke-opacity:1; fill:none\" points=\"\n",
       "  2287.41,1431.44 2127.88,1328.21 2002.54,1247.1 1892.54,1175.92 1792.81,1111.39 1700.86,1051.89 1615.21,996.473 1534.88,944.49 1459.15,895.49 1387.51,849.13 \n",
       "  1319.54,805.146 1254.9,763.324 1193.35,723.492 1134.64,685.506 1078.6,649.244 1025.07,614.602 973.897,581.491 924.971,549.832 878.184,519.557 833.443,490.606 \n",
       "  790.663,462.925 749.772,436.464 710.701,411.183 673.391,387.04 637.787,364.002 603.841,342.036 571.507,321.113 540.744,301.208 511.516,282.295 483.788,264.352 \n",
       "  457.529,247.361 432.711,231.302 409.307,216.158 387.294,201.913 366.65,188.555 347.354,176.069 329.389,164.444 312.738,153.67 297.385,143.735 283.318,134.633 \n",
       "  270.524,126.354 258.991,118.891 248.711,112.239 239.673,106.391 231.872,101.343 225.3,97.0906 219.952,93.6301 215.824,90.9589 212.912,89.0748 211.215,87.9763 \n",
       "  \n",
       "  \"/>\n",
       "<polyline clip-path=\"url(#clip242)\" style=\"stroke:#808080; stroke-width:4; stroke-opacity:1; fill:none\" stroke-dasharray=\"16, 10\" points=\"\n",
       "  231.73,210.953 252.737,262.597 273.743,302.622 294.75,336.694 315.756,367.003 336.763,394.666 357.769,420.345 378.776,444.472 399.782,467.343 420.789,489.175 \n",
       "  441.795,510.132 462.802,530.339 483.808,549.895 504.815,568.883 525.821,587.369 546.828,605.408 567.834,623.046 588.841,640.325 609.847,657.278 630.854,673.934 \n",
       "  651.86,690.321 672.867,706.462 693.873,722.375 714.88,738.081 735.886,753.595 756.893,768.931 777.899,784.103 798.906,799.123 819.912,814.002 840.919,828.75 \n",
       "  861.925,843.376 882.931,857.888 903.938,872.294 924.944,884.515 945.951,895.662 966.957,906.795 987.964,917.915 1008.97,929.026 1029.98,940.13 1050.98,951.228 \n",
       "  1071.99,962.323 1093,973.416 1114,984.51 1135.01,995.605 1156.02,1006.7 1177.02,1017.81 1198.03,1028.92 1219.04,1040.04 1240.04,1051.16 1261.05,1062.3 \n",
       "  1282.05,1071.78 1303.06,1081.33 1324.07,1090.93 1345.07,1100.6 1366.08,1110.33 1387.09,1120.12 1408.09,1129.96 1429.1,1139.88 1450.11,1149.85 1471.11,1159.88 \n",
       "  1492.12,1168.8 1513.13,1177.81 1534.13,1186.92 1555.14,1196.12 1576.15,1205.42 1597.15,1214.82 1618.16,1223.98 1639.17,1232.59 1660.17,1241.32 1681.18,1250.17 \n",
       "  1702.18,1259.15 1723.19,1267.75 1744.2,1276.12 1765.2,1284.63 1786.21,1293.3 1807.22,1301.33 1828.22,1309.53 1849.23,1317.75 1870.24,1325.59 1891.24,1333.64 \n",
       "  1912.25,1341.24 1933.26,1348.95 1954.26,1356.4 1975.27,1363.73 1996.28,1370.95 2017.28,1378 2038.29,1384.87 2059.3,1391.56 2080.3,1398.06 2101.31,1404.35 \n",
       "  2122.31,1410.38 2143.32,1416.17 2164.33,1421.65 2185.33,1426.83 2206.34,1431.65 2227.35,1436.04 2248.35,1439.94 2269.36,1443.22 2290.37,1445.72 \n",
       "  \"/>\n",
       "<polyline clip-path=\"url(#clip242)\" style=\"stroke:#ff00ff; stroke-width:4; stroke-opacity:1; fill:none\" points=\"\n",
       "  910.94,877.074 903.938,874.802 896.936,872.525 889.934,870.245 882.931,867.96 875.929,865.672 868.927,863.379 861.925,861.083 854.923,858.782 847.921,856.478 \n",
       "  840.919,854.169 833.916,851.856 826.914,849.539 819.912,847.218 812.91,844.892 805.908,842.563 798.906,840.229 791.903,837.891 784.901,835.548 777.899,833.202 \n",
       "  770.897,830.85 763.895,828.495 756.893,826.135 749.89,823.77 742.888,821.402 735.886,819.028 728.884,816.65 721.882,814.268 714.88,811.88 707.877,809.489 \n",
       "  700.875,807.092 693.873,804.691 686.871,802.285 679.869,799.874 672.867,797.459 665.864,795.038 658.862,792.613 651.86,790.183 644.858,787.748 637.856,785.308 \n",
       "  630.854,782.863 623.851,780.413 616.849,777.958 609.847,775.497 602.845,773.032 595.843,770.561 588.841,768.085 581.838,765.604 574.836,763.117 567.834,760.625 \n",
       "  560.832,758.128 553.83,755.625 546.828,753.116 539.825,750.602 532.823,748.083 525.821,745.557 518.819,743.026 511.817,740.49 504.815,737.947 497.812,735.399 \n",
       "  490.81,732.844 483.808,730.284 476.806,727.718 469.804,725.145 462.802,722.567 455.799,719.982 448.797,717.391 441.795,714.794 434.793,712.19 427.791,709.58 \n",
       "  420.789,706.963 413.786,704.34 406.784,701.71 399.782,699.074 392.78,696.43 385.778,693.78 378.776,691.123 371.773,688.459 364.771,685.788 357.769,683.109 \n",
       "  350.767,680.424 343.765,677.731 336.763,675.03 329.76,672.323 322.758,669.607 315.756,666.884 308.754,664.154 301.752,661.415 294.75,658.668 287.747,655.914 \n",
       "  280.745,653.151 273.743,650.38 266.741,647.601 259.739,644.813 252.737,642.017 245.735,639.212 238.732,636.398 231.73,633.575 224.728,630.743 217.726,627.902 \n",
       "  210.724,625.052 \n",
       "  \"/>\n",
       "<polyline clip-path=\"url(#clip242)\" style=\"stroke:#000000; stroke-width:4; stroke-opacity:1; fill:none\" points=\"\n",
       "  770.897,820.161 770.897,802.793 \n",
       "  \"/>\n",
       "<line clip-path=\"url(#clip242)\" x1=\"786.897\" y1=\"820.161\" x2=\"754.897\" y2=\"820.161\" style=\"stroke:#000000; stroke-width:3.2; stroke-opacity:1\"/>\n",
       "<line clip-path=\"url(#clip242)\" x1=\"786.897\" y1=\"802.793\" x2=\"754.897\" y2=\"802.793\" style=\"stroke:#000000; stroke-width:3.2; stroke-opacity:1\"/>\n",
       "<circle clip-path=\"url(#clip242)\" cx=\"770.897\" cy=\"811.477\" r=\"14\" fill=\"#ffffe0\" fill-rule=\"evenodd\" fill-opacity=\"1\" stroke=\"#000000\" stroke-opacity=\"1\" stroke-width=\"3.2\"/>\n",
       "<path clip-path=\"url(#clip240)\" d=\"\n",
       "M1492.79 458.098 L2279.28 458.098 L2279.28 95.2176 L1492.79 95.2176  Z\n",
       "  \" fill=\"#ffffff\" fill-rule=\"evenodd\" fill-opacity=\"1\"/>\n",
       "<polyline clip-path=\"url(#clip240)\" style=\"stroke:#000000; stroke-width:4; stroke-opacity:1; fill:none\" points=\"\n",
       "  1492.79,458.098 2279.28,458.098 2279.28,95.2176 1492.79,95.2176 1492.79,458.098 \n",
       "  \"/>\n",
       "<polyline clip-path=\"url(#clip240)\" style=\"stroke:#009af9; stroke-width:4; stroke-opacity:1; fill:none\" points=\"\n",
       "  1517.29,155.698 1664.25,155.698 \n",
       "  \"/>\n",
       "<path clip-path=\"url(#clip240)\" d=\"M 0 0 M1688.74 138.418 L1693.42 138.418 L1693.42 172.978 L1688.74 172.978 L1688.74 138.418 Z\" fill=\"#000000\" fill-rule=\"evenodd\" fill-opacity=\"1\" /><path clip-path=\"url(#clip240)\" d=\"M 0 0 M1719.43 157.329 L1719.43 172.978 L1715.18 172.978 L1715.18 157.468 Q1715.18 153.788 1713.74 151.959 Q1712.3 150.13 1709.43 150.13 Q1705.99 150.13 1703.99 152.33 Q1702 154.529 1702 158.325 L1702 172.978 L1697.72 172.978 L1697.72 147.052 L1702 147.052 L1702 151.08 Q1703.53 148.742 1705.59 147.584 Q1707.68 146.427 1710.38 146.427 Q1714.85 146.427 1717.14 149.205 Q1719.43 151.959 1719.43 157.329 Z\" fill=\"#000000\" fill-rule=\"evenodd\" fill-opacity=\"1\" /><path clip-path=\"url(#clip240)\" d=\"M 0 0 M1737.03 136.959 L1737.03 140.501 L1732.95 140.501 Q1730.66 140.501 1729.76 141.427 Q1728.88 142.353 1728.88 144.76 L1728.88 147.052 L1735.89 147.052 L1735.89 150.362 L1728.88 150.362 L1728.88 172.978 L1724.6 172.978 L1724.6 150.362 L1720.52 150.362 L1720.52 147.052 L1724.6 147.052 L1724.6 145.246 Q1724.6 140.918 1726.61 138.95 Q1728.62 136.959 1733 136.959 L1737.03 136.959 Z\" fill=\"#000000\" fill-rule=\"evenodd\" fill-opacity=\"1\" /><path clip-path=\"url(#clip240)\" d=\"M 0 0 M1751.54 150.038 Q1748.11 150.038 1746.12 152.723 Q1744.13 155.385 1744.13 160.038 Q1744.13 164.691 1746.1 167.376 Q1748.09 170.038 1751.54 170.038 Q1754.94 170.038 1756.93 167.353 Q1758.92 164.667 1758.92 160.038 Q1758.92 155.431 1756.93 152.746 Q1754.94 150.038 1751.54 150.038 M1751.54 146.427 Q1757.1 146.427 1760.27 150.038 Q1763.44 153.649 1763.44 160.038 Q1763.44 166.404 1760.27 170.038 Q1757.1 173.649 1751.54 173.649 Q1745.96 173.649 1742.79 170.038 Q1739.64 166.404 1739.64 160.038 Q1739.64 153.649 1742.79 150.038 Q1745.96 146.427 1751.54 146.427 Z\" fill=\"#000000\" fill-rule=\"evenodd\" fill-opacity=\"1\" /><path clip-path=\"url(#clip240)\" d=\"M 0 0 M1782.93 151.033 Q1782.21 150.617 1781.36 150.431 Q1780.52 150.223 1779.5 150.223 Q1775.89 150.223 1773.95 152.584 Q1772.03 154.922 1772.03 159.32 L1772.03 172.978 L1767.74 172.978 L1767.74 147.052 L1772.03 147.052 L1772.03 151.08 Q1773.37 148.718 1775.52 147.584 Q1777.67 146.427 1780.75 146.427 Q1781.19 146.427 1781.73 146.496 Q1782.26 146.543 1782.91 146.658 L1782.93 151.033 Z\" fill=\"#000000\" fill-rule=\"evenodd\" fill-opacity=\"1\" /><path clip-path=\"url(#clip240)\" d=\"M 0 0 M1806.75 152.029 Q1808.35 149.158 1810.57 147.793 Q1812.79 146.427 1815.8 146.427 Q1819.85 146.427 1822.05 149.274 Q1824.25 152.098 1824.25 157.329 L1824.25 172.978 L1819.97 172.978 L1819.97 157.468 Q1819.97 153.742 1818.65 151.936 Q1817.33 150.13 1814.62 150.13 Q1811.31 150.13 1809.39 152.33 Q1807.47 154.529 1807.47 158.325 L1807.47 172.978 L1803.18 172.978 L1803.18 157.468 Q1803.18 153.718 1801.86 151.936 Q1800.54 150.13 1797.79 150.13 Q1794.53 150.13 1792.61 152.353 Q1790.68 154.552 1790.68 158.325 L1790.68 172.978 L1786.4 172.978 L1786.4 147.052 L1790.68 147.052 L1790.68 151.08 Q1792.14 148.695 1794.18 147.561 Q1796.22 146.427 1799.02 146.427 Q1801.84 146.427 1803.81 147.862 Q1805.8 149.297 1806.75 152.029 Z\" fill=\"#000000\" fill-rule=\"evenodd\" fill-opacity=\"1\" /><path clip-path=\"url(#clip240)\" d=\"M 0 0 M1840.5 159.945 Q1835.34 159.945 1833.35 161.126 Q1831.35 162.306 1831.35 165.154 Q1831.35 167.422 1832.84 168.765 Q1834.34 170.084 1836.91 170.084 Q1840.45 170.084 1842.58 167.584 Q1844.73 165.061 1844.73 160.894 L1844.73 159.945 L1840.5 159.945 M1848.99 158.186 L1848.99 172.978 L1844.73 172.978 L1844.73 169.042 Q1843.28 171.403 1841.1 172.538 Q1838.92 173.649 1835.78 173.649 Q1831.79 173.649 1829.43 171.427 Q1827.1 169.181 1827.1 165.431 Q1827.1 161.056 1830.01 158.834 Q1832.95 156.612 1838.76 156.612 L1844.73 156.612 L1844.73 156.195 Q1844.73 153.255 1842.79 151.658 Q1840.87 150.038 1837.37 150.038 Q1835.15 150.038 1833.04 150.57 Q1830.94 151.103 1828.99 152.167 L1828.99 148.232 Q1831.33 147.33 1833.53 146.89 Q1835.73 146.427 1837.81 146.427 Q1843.44 146.427 1846.22 149.343 Q1848.99 152.26 1848.99 158.186 Z\" fill=\"#000000\" fill-rule=\"evenodd\" fill-opacity=\"1\" /><path clip-path=\"url(#clip240)\" d=\"M 0 0 M1857.67 139.691 L1857.67 147.052 L1866.45 147.052 L1866.45 150.362 L1857.67 150.362 L1857.67 164.436 Q1857.67 167.607 1858.53 168.51 Q1859.41 169.413 1862.07 169.413 L1866.45 169.413 L1866.45 172.978 L1862.07 172.978 Q1857.14 172.978 1855.27 171.149 Q1853.39 169.297 1853.39 164.436 L1853.39 150.362 L1850.27 150.362 L1850.27 147.052 L1853.39 147.052 L1853.39 139.691 L1857.67 139.691 Z\" fill=\"#000000\" fill-rule=\"evenodd\" fill-opacity=\"1\" /><path clip-path=\"url(#clip240)\" d=\"M 0 0 M1870.91 147.052 L1875.17 147.052 L1875.17 172.978 L1870.91 172.978 L1870.91 147.052 M1870.91 136.959 L1875.17 136.959 L1875.17 142.353 L1870.91 142.353 L1870.91 136.959 Z\" fill=\"#000000\" fill-rule=\"evenodd\" fill-opacity=\"1\" /><path clip-path=\"url(#clip240)\" d=\"M 0 0 M1889.69 150.038 Q1886.26 150.038 1884.27 152.723 Q1882.28 155.385 1882.28 160.038 Q1882.28 164.691 1884.25 167.376 Q1886.24 170.038 1889.69 170.038 Q1893.09 170.038 1895.08 167.353 Q1897.07 164.667 1897.07 160.038 Q1897.07 155.431 1895.08 152.746 Q1893.09 150.038 1889.69 150.038 M1889.69 146.427 Q1895.24 146.427 1898.41 150.038 Q1901.59 153.649 1901.59 160.038 Q1901.59 166.404 1898.41 170.038 Q1895.24 173.649 1889.69 173.649 Q1884.11 173.649 1880.94 170.038 Q1877.79 166.404 1877.79 160.038 Q1877.79 153.649 1880.94 150.038 Q1884.11 146.427 1889.69 146.427 Z\" fill=\"#000000\" fill-rule=\"evenodd\" fill-opacity=\"1\" /><path clip-path=\"url(#clip240)\" d=\"M 0 0 M1927.6 157.329 L1927.6 172.978 L1923.35 172.978 L1923.35 157.468 Q1923.35 153.788 1921.91 151.959 Q1920.47 150.13 1917.6 150.13 Q1914.16 150.13 1912.16 152.33 Q1910.17 154.529 1910.17 158.325 L1910.17 172.978 L1905.89 172.978 L1905.89 147.052 L1910.17 147.052 L1910.17 151.08 Q1911.7 148.742 1913.76 147.584 Q1915.85 146.427 1918.55 146.427 Q1923.02 146.427 1925.31 149.205 Q1927.6 151.959 1927.6 157.329 Z\" fill=\"#000000\" fill-rule=\"evenodd\" fill-opacity=\"1\" /><path clip-path=\"url(#clip240)\" d=\"M 0 0 M1965.75 160.038 Q1965.75 155.339 1963.81 152.677 Q1961.89 149.992 1958.51 149.992 Q1955.13 149.992 1953.18 152.677 Q1951.26 155.339 1951.26 160.038 Q1951.26 164.737 1953.18 167.422 Q1955.13 170.084 1958.51 170.084 Q1961.89 170.084 1963.81 167.422 Q1965.75 164.737 1965.75 160.038 M1951.26 150.987 Q1952.6 148.672 1954.64 147.561 Q1956.7 146.427 1959.55 146.427 Q1964.27 146.427 1967.21 150.177 Q1970.17 153.927 1970.17 160.038 Q1970.17 166.149 1967.21 169.899 Q1964.27 173.649 1959.55 173.649 Q1956.7 173.649 1954.64 172.538 Q1952.6 171.403 1951.26 169.089 L1951.26 172.978 L1946.98 172.978 L1946.98 136.959 L1951.26 136.959 L1951.26 150.987 Z\" fill=\"#000000\" fill-rule=\"evenodd\" fill-opacity=\"1\" /><path clip-path=\"url(#clip240)\" d=\"M 0 0 M1984.69 150.038 Q1981.26 150.038 1979.27 152.723 Q1977.28 155.385 1977.28 160.038 Q1977.28 164.691 1979.25 167.376 Q1981.24 170.038 1984.69 170.038 Q1988.09 170.038 1990.08 167.353 Q1992.07 164.667 1992.07 160.038 Q1992.07 155.431 1990.08 152.746 Q1988.09 150.038 1984.69 150.038 M1984.69 146.427 Q1990.24 146.427 1993.41 150.038 Q1996.59 153.649 1996.59 160.038 Q1996.59 166.404 1993.41 170.038 Q1990.24 173.649 1984.69 173.649 Q1979.11 173.649 1975.94 170.038 Q1972.79 166.404 1972.79 160.038 Q1972.79 153.649 1975.94 150.038 Q1979.11 146.427 1984.69 146.427 Z\" fill=\"#000000\" fill-rule=\"evenodd\" fill-opacity=\"1\" /><path clip-path=\"url(#clip240)\" d=\"M 0 0 M2000.61 162.746 L2000.61 147.052 L2004.87 147.052 L2004.87 162.584 Q2004.87 166.265 2006.31 168.116 Q2007.74 169.945 2010.61 169.945 Q2014.06 169.945 2016.05 167.746 Q2018.07 165.547 2018.07 161.751 L2018.07 147.052 L2022.33 147.052 L2022.33 172.978 L2018.07 172.978 L2018.07 168.996 Q2016.52 171.357 2014.46 172.515 Q2012.42 173.649 2009.71 173.649 Q2005.24 173.649 2002.93 170.871 Q2000.61 168.093 2000.61 162.746 M2011.33 146.427 L2011.33 146.427 Z\" fill=\"#000000\" fill-rule=\"evenodd\" fill-opacity=\"1\" /><path clip-path=\"url(#clip240)\" d=\"M 0 0 M2048.34 157.329 L2048.34 172.978 L2044.09 172.978 L2044.09 157.468 Q2044.09 153.788 2042.65 151.959 Q2041.21 150.13 2038.34 150.13 Q2034.9 150.13 2032.9 152.33 Q2030.91 154.529 2030.91 158.325 L2030.91 172.978 L2026.63 172.978 L2026.63 147.052 L2030.91 147.052 L2030.91 151.08 Q2032.44 148.742 2034.5 147.584 Q2036.59 146.427 2039.29 146.427 Q2043.76 146.427 2046.05 149.205 Q2048.34 151.959 2048.34 157.329 Z\" fill=\"#000000\" fill-rule=\"evenodd\" fill-opacity=\"1\" /><path clip-path=\"url(#clip240)\" d=\"M 0 0 M2069.87 150.987 L2069.87 136.959 L2074.13 136.959 L2074.13 172.978 L2069.87 172.978 L2069.87 169.089 Q2068.53 171.403 2066.47 172.538 Q2064.43 173.649 2061.56 173.649 Q2056.86 173.649 2053.9 169.899 Q2050.96 166.149 2050.96 160.038 Q2050.96 153.927 2053.9 150.177 Q2056.86 146.427 2061.56 146.427 Q2064.43 146.427 2066.47 147.561 Q2068.53 148.672 2069.87 150.987 M2055.36 160.038 Q2055.36 164.737 2057.28 167.422 Q2059.22 170.084 2062.6 170.084 Q2065.98 170.084 2067.93 167.422 Q2069.87 164.737 2069.87 160.038 Q2069.87 155.339 2067.93 152.677 Q2065.98 149.992 2062.6 149.992 Q2059.22 149.992 2057.28 152.677 Q2055.36 155.339 2055.36 160.038 Z\" fill=\"#000000\" fill-rule=\"evenodd\" fill-opacity=\"1\" /><polyline clip-path=\"url(#clip240)\" style=\"stroke:#e26f46; stroke-width:4; stroke-opacity:1; fill:none\" points=\"\n",
       "  1517.29,216.178 1664.25,216.178 \n",
       "  \"/>\n",
       "<path clip-path=\"url(#clip240)\" d=\"M 0 0 M1688.74 198.898 L1695.04 198.898 L1710.36 227.809 L1710.36 198.898 L1714.9 198.898 L1714.9 233.458 L1708.6 233.458 L1693.28 204.546 L1693.28 233.458 L1688.74 233.458 L1688.74 198.898 Z\" fill=\"#000000\" fill-rule=\"evenodd\" fill-opacity=\"1\" /><path clip-path=\"url(#clip240)\" d=\"M 0 0 M1731.15 220.425 Q1725.99 220.425 1723.99 221.606 Q1722 222.786 1722 225.634 Q1722 227.902 1723.49 229.245 Q1724.99 230.564 1727.56 230.564 Q1731.1 230.564 1733.23 228.064 Q1735.38 225.541 1735.38 221.374 L1735.38 220.425 L1731.15 220.425 M1739.64 218.666 L1739.64 233.458 L1735.38 233.458 L1735.38 229.522 Q1733.92 231.883 1731.75 233.018 Q1729.57 234.129 1726.43 234.129 Q1722.44 234.129 1720.08 231.907 Q1717.74 229.661 1717.74 225.911 Q1717.74 221.536 1720.66 219.314 Q1723.6 217.092 1729.41 217.092 L1735.38 217.092 L1735.38 216.675 Q1735.38 213.735 1733.44 212.138 Q1731.52 210.518 1728.02 210.518 Q1725.8 210.518 1723.69 211.05 Q1721.59 211.583 1719.64 212.647 L1719.64 208.712 Q1721.98 207.81 1724.18 207.37 Q1726.38 206.907 1728.46 206.907 Q1734.09 206.907 1736.86 209.823 Q1739.64 212.74 1739.64 218.666 Z\" fill=\"#000000\" fill-rule=\"evenodd\" fill-opacity=\"1\" /><path clip-path=\"url(#clip240)\" d=\"M 0 0 M1744.11 207.532 L1748.37 207.532 L1748.37 233.458 L1744.11 233.458 L1744.11 207.532 M1744.11 197.439 L1748.37 197.439 L1748.37 202.833 L1744.11 202.833 L1744.11 197.439 Z\" fill=\"#000000\" fill-rule=\"evenodd\" fill-opacity=\"1\" /><path clip-path=\"url(#clip240)\" d=\"M 0 0 M1749.78 207.532 L1754.3 207.532 L1762.4 229.291 L1770.5 207.532 L1775.01 207.532 L1765.29 233.458 L1759.5 233.458 L1749.78 207.532 Z\" fill=\"#000000\" fill-rule=\"evenodd\" fill-opacity=\"1\" /><path clip-path=\"url(#clip240)\" d=\"M 0 0 M1801.66 219.43 L1801.66 221.513 L1782.07 221.513 Q1782.35 225.911 1784.71 228.226 Q1787.1 230.518 1791.33 230.518 Q1793.79 230.518 1796.08 229.916 Q1798.39 229.314 1800.66 228.11 L1800.66 232.138 Q1798.37 233.11 1795.96 233.62 Q1793.55 234.129 1791.08 234.129 Q1784.87 234.129 1781.24 230.518 Q1777.63 226.907 1777.63 220.749 Q1777.63 214.384 1781.05 210.657 Q1784.5 206.907 1790.34 206.907 Q1795.57 206.907 1798.6 210.286 Q1801.66 213.643 1801.66 219.43 M1797.4 218.18 Q1797.35 214.685 1795.43 212.601 Q1793.53 210.518 1790.38 210.518 Q1786.82 210.518 1784.67 212.532 Q1782.54 214.546 1782.21 218.203 L1797.4 218.18 Z\" fill=\"#000000\" fill-rule=\"evenodd\" fill-opacity=\"1\" /><path clip-path=\"url(#clip240)\" d=\"M 0 0 M1839.85 208.527 L1839.85 212.509 Q1838.04 211.513 1836.22 211.027 Q1834.41 210.518 1832.56 210.518 Q1828.42 210.518 1826.12 213.157 Q1823.83 215.772 1823.83 220.518 Q1823.83 225.263 1826.12 227.902 Q1828.42 230.518 1832.56 230.518 Q1834.41 230.518 1836.22 230.032 Q1838.04 229.522 1839.85 228.527 L1839.85 232.462 Q1838.07 233.296 1836.15 233.712 Q1834.25 234.129 1832.1 234.129 Q1826.24 234.129 1822.79 230.448 Q1819.34 226.768 1819.34 220.518 Q1819.34 214.175 1822.81 210.541 Q1826.31 206.907 1832.37 206.907 Q1834.34 206.907 1836.22 207.323 Q1838.09 207.717 1839.85 208.527 Z\" fill=\"#000000\" fill-rule=\"evenodd\" fill-opacity=\"1\" /><path clip-path=\"url(#clip240)\" d=\"M 0 0 M1854.36 210.518 Q1850.94 210.518 1848.95 213.203 Q1846.96 215.865 1846.96 220.518 Q1846.96 225.171 1848.92 227.856 Q1850.92 230.518 1854.36 230.518 Q1857.77 230.518 1859.76 227.833 Q1861.75 225.147 1861.75 220.518 Q1861.75 215.911 1859.76 213.226 Q1857.77 210.518 1854.36 210.518 M1854.36 206.907 Q1859.92 206.907 1863.09 210.518 Q1866.26 214.129 1866.26 220.518 Q1866.26 226.884 1863.09 230.518 Q1859.92 234.129 1854.36 234.129 Q1848.79 234.129 1845.61 230.518 Q1842.47 226.884 1842.47 220.518 Q1842.47 214.129 1845.61 210.518 Q1848.79 206.907 1854.36 206.907 Z\" fill=\"#000000\" fill-rule=\"evenodd\" fill-opacity=\"1\" /><path clip-path=\"url(#clip240)\" d=\"M 0 0 M1890.91 212.509 Q1892.51 209.638 1894.73 208.273 Q1896.96 206.907 1899.97 206.907 Q1904.02 206.907 1906.22 209.754 Q1908.41 212.578 1908.41 217.809 L1908.41 233.458 L1904.13 233.458 L1904.13 217.948 Q1904.13 214.222 1902.81 212.416 Q1901.49 210.61 1898.79 210.61 Q1895.48 210.61 1893.55 212.81 Q1891.63 215.009 1891.63 218.805 L1891.63 233.458 L1887.35 233.458 L1887.35 217.948 Q1887.35 214.198 1886.03 212.416 Q1884.71 210.61 1881.96 210.61 Q1878.69 210.61 1876.77 212.833 Q1874.85 215.032 1874.85 218.805 L1874.85 233.458 L1870.57 233.458 L1870.57 207.532 L1874.85 207.532 L1874.85 211.56 Q1876.31 209.175 1878.35 208.041 Q1880.38 206.907 1883.18 206.907 Q1886.01 206.907 1887.98 208.342 Q1889.97 209.777 1890.91 212.509 Z\" fill=\"#000000\" fill-rule=\"evenodd\" fill-opacity=\"1\" /><path clip-path=\"url(#clip240)\" d=\"M 0 0 M1917 229.569 L1917 243.319 L1912.72 243.319 L1912.72 207.532 L1917 207.532 L1917 211.467 Q1918.35 209.152 1920.38 208.041 Q1922.44 206.907 1925.29 206.907 Q1930.01 206.907 1932.95 210.657 Q1935.91 214.407 1935.91 220.518 Q1935.91 226.629 1932.95 230.379 Q1930.01 234.129 1925.29 234.129 Q1922.44 234.129 1920.38 233.018 Q1918.35 231.883 1917 229.569 M1931.49 220.518 Q1931.49 215.819 1929.55 213.157 Q1927.63 210.472 1924.25 210.472 Q1920.87 210.472 1918.92 213.157 Q1917 215.819 1917 220.518 Q1917 225.217 1918.92 227.902 Q1920.87 230.564 1924.25 230.564 Q1927.63 230.564 1929.55 227.902 Q1931.49 225.217 1931.49 220.518 Z\" fill=\"#000000\" fill-rule=\"evenodd\" fill-opacity=\"1\" /><path clip-path=\"url(#clip240)\" d=\"M 0 0 M1955.41 211.513 Q1954.69 211.097 1953.83 210.911 Q1953 210.703 1951.98 210.703 Q1948.37 210.703 1946.42 213.064 Q1944.5 215.402 1944.5 219.8 L1944.5 233.458 L1940.22 233.458 L1940.22 207.532 L1944.5 207.532 L1944.5 211.56 Q1945.85 209.198 1948 208.064 Q1950.15 206.907 1953.23 206.907 Q1953.67 206.907 1954.2 206.976 Q1954.73 207.023 1955.38 207.138 L1955.41 211.513 Z\" fill=\"#000000\" fill-rule=\"evenodd\" fill-opacity=\"1\" /><path clip-path=\"url(#clip240)\" d=\"M 0 0 M1981.01 219.43 L1981.01 221.513 L1961.42 221.513 Q1961.7 225.911 1964.06 228.226 Q1966.45 230.518 1970.68 230.518 Q1973.14 230.518 1975.43 229.916 Q1977.74 229.314 1980.01 228.11 L1980.01 232.138 Q1977.72 233.11 1975.31 233.62 Q1972.91 234.129 1970.43 234.129 Q1964.22 234.129 1960.59 230.518 Q1956.98 226.907 1956.98 220.749 Q1956.98 214.384 1960.41 210.657 Q1963.85 206.907 1969.69 206.907 Q1974.92 206.907 1977.95 210.286 Q1981.01 213.643 1981.01 219.43 M1976.75 218.18 Q1976.7 214.685 1974.78 212.601 Q1972.88 210.518 1969.73 210.518 Q1966.17 210.518 1964.02 212.532 Q1961.89 214.546 1961.56 218.203 L1976.75 218.18 Z\" fill=\"#000000\" fill-rule=\"evenodd\" fill-opacity=\"1\" /><path clip-path=\"url(#clip240)\" d=\"M 0 0 M2002 208.296 L2002 212.323 Q2000.2 211.397 1998.25 210.935 Q1996.31 210.472 1994.22 210.472 Q1991.05 210.472 1989.46 211.444 Q1987.88 212.416 1987.88 214.36 Q1987.88 215.842 1989.02 216.698 Q1990.15 217.532 1993.58 218.296 L1995.03 218.62 Q1999.57 219.592 2001.47 221.374 Q2003.39 223.134 2003.39 226.305 Q2003.39 229.916 2000.52 232.022 Q1997.67 234.129 1992.67 234.129 Q1990.59 234.129 1988.32 233.712 Q1986.08 233.319 1983.58 232.508 L1983.58 228.11 Q1985.94 229.337 1988.23 229.962 Q1990.52 230.564 1992.77 230.564 Q1995.78 230.564 1997.4 229.546 Q1999.02 228.504 1999.02 226.629 Q1999.02 224.893 1997.84 223.967 Q1996.68 223.041 1992.72 222.184 L1991.24 221.837 Q1987.28 221.004 1985.52 219.291 Q1983.76 217.555 1983.76 214.546 Q1983.76 210.888 1986.35 208.898 Q1988.95 206.907 1993.72 206.907 Q1996.08 206.907 1998.16 207.254 Q2000.24 207.601 2002 208.296 Z\" fill=\"#000000\" fill-rule=\"evenodd\" fill-opacity=\"1\" /><path clip-path=\"url(#clip240)\" d=\"M 0 0 M2024.39 208.296 L2024.39 212.323 Q2022.58 211.397 2020.64 210.935 Q2018.69 210.472 2016.61 210.472 Q2013.44 210.472 2011.84 211.444 Q2010.27 212.416 2010.27 214.36 Q2010.27 215.842 2011.4 216.698 Q2012.53 217.532 2015.96 218.296 L2017.42 218.62 Q2021.96 219.592 2023.85 221.374 Q2025.78 223.134 2025.78 226.305 Q2025.78 229.916 2022.9 232.022 Q2020.06 234.129 2015.06 234.129 Q2012.97 234.129 2010.71 233.712 Q2008.46 233.319 2005.96 232.508 L2005.96 228.11 Q2008.32 229.337 2010.61 229.962 Q2012.9 230.564 2015.15 230.564 Q2018.16 230.564 2019.78 229.546 Q2021.4 228.504 2021.4 226.629 Q2021.4 224.893 2020.22 223.967 Q2019.06 223.041 2015.1 222.184 L2013.62 221.837 Q2009.66 221.004 2007.9 219.291 Q2006.15 217.555 2006.15 214.546 Q2006.15 210.888 2008.74 208.898 Q2011.33 206.907 2016.1 206.907 Q2018.46 206.907 2020.54 207.254 Q2022.63 207.601 2024.39 208.296 Z\" fill=\"#000000\" fill-rule=\"evenodd\" fill-opacity=\"1\" /><path clip-path=\"url(#clip240)\" d=\"M 0 0 M2030.24 207.532 L2034.5 207.532 L2034.5 233.458 L2030.24 233.458 L2030.24 207.532 M2030.24 197.439 L2034.5 197.439 L2034.5 202.833 L2030.24 202.833 L2030.24 197.439 Z\" fill=\"#000000\" fill-rule=\"evenodd\" fill-opacity=\"1\" /><path clip-path=\"url(#clip240)\" d=\"M 0 0 M2049.02 210.518 Q2045.59 210.518 2043.6 213.203 Q2041.61 215.865 2041.61 220.518 Q2041.61 225.171 2043.58 227.856 Q2045.57 230.518 2049.02 230.518 Q2052.42 230.518 2054.41 227.833 Q2056.4 225.147 2056.4 220.518 Q2056.4 215.911 2054.41 213.226 Q2052.42 210.518 2049.02 210.518 M2049.02 206.907 Q2054.57 206.907 2057.74 210.518 Q2060.91 214.129 2060.91 220.518 Q2060.91 226.884 2057.74 230.518 Q2054.57 234.129 2049.02 234.129 Q2043.44 234.129 2040.27 230.518 Q2037.12 226.884 2037.12 220.518 Q2037.12 214.129 2040.27 210.518 Q2043.44 206.907 2049.02 206.907 Z\" fill=\"#000000\" fill-rule=\"evenodd\" fill-opacity=\"1\" /><path clip-path=\"url(#clip240)\" d=\"M 0 0 M2086.93 217.809 L2086.93 233.458 L2082.67 233.458 L2082.67 217.948 Q2082.67 214.268 2081.24 212.439 Q2079.8 210.61 2076.93 210.61 Q2073.48 210.61 2071.49 212.81 Q2069.5 215.009 2069.5 218.805 L2069.5 233.458 L2065.22 233.458 L2065.22 207.532 L2069.5 207.532 L2069.5 211.56 Q2071.03 209.222 2073.09 208.064 Q2075.17 206.907 2077.88 206.907 Q2082.35 206.907 2084.64 209.685 Q2086.93 212.439 2086.93 217.809 Z\" fill=\"#000000\" fill-rule=\"evenodd\" fill-opacity=\"1\" /><polyline clip-path=\"url(#clip240)\" style=\"stroke:#808080; stroke-width:4; stroke-opacity:1; fill:none\" stroke-dasharray=\"16, 10\" points=\"\n",
       "  1517.29,276.658 1664.25,276.658 \n",
       "  \"/>\n",
       "<path clip-path=\"url(#clip240)\" d=\"M 0 0 M1705.13 277.734 Q1706.63 278.243 1708.05 279.91 Q1709.48 281.577 1710.92 284.493 L1715.66 293.938 L1710.64 293.938 L1706.22 285.072 Q1704.5 281.6 1702.88 280.465 Q1701.29 279.331 1698.51 279.331 L1693.42 279.331 L1693.42 293.938 L1688.74 293.938 L1688.74 259.378 L1699.3 259.378 Q1705.22 259.378 1708.14 261.854 Q1711.05 264.331 1711.05 269.331 Q1711.05 272.595 1709.53 274.748 Q1708.02 276.901 1705.13 277.734 M1693.42 263.22 L1693.42 275.489 L1699.3 275.489 Q1702.68 275.489 1704.39 273.938 Q1706.12 272.364 1706.12 269.331 Q1706.12 266.299 1704.39 264.771 Q1702.68 263.22 1699.3 263.22 L1693.42 263.22 Z\" fill=\"#000000\" fill-rule=\"evenodd\" fill-opacity=\"1\" /><path clip-path=\"url(#clip240)\" d=\"M 0 0 M1741.03 260.512 L1741.03 265.072 Q1738.37 263.799 1736.01 263.174 Q1733.65 262.549 1731.45 262.549 Q1727.63 262.549 1725.55 264.03 Q1723.49 265.512 1723.49 268.243 Q1723.49 270.535 1724.85 271.715 Q1726.24 272.873 1730.08 273.59 L1732.91 274.169 Q1738.14 275.165 1740.61 277.688 Q1743.11 280.188 1743.11 284.401 Q1743.11 289.424 1739.74 292.016 Q1736.38 294.609 1729.87 294.609 Q1727.42 294.609 1724.64 294.053 Q1721.89 293.498 1718.93 292.41 L1718.93 287.595 Q1721.77 289.192 1724.5 290.002 Q1727.24 290.813 1729.87 290.813 Q1733.88 290.813 1736.05 289.239 Q1738.23 287.664 1738.23 284.748 Q1738.23 282.202 1736.66 280.766 Q1735.11 279.331 1731.54 278.614 L1728.69 278.058 Q1723.46 277.016 1721.12 274.794 Q1718.79 272.572 1718.79 268.614 Q1718.79 264.03 1722 261.391 Q1725.24 258.753 1730.92 258.753 Q1733.35 258.753 1735.87 259.192 Q1738.39 259.632 1741.03 260.512 Z\" fill=\"#000000\" fill-rule=\"evenodd\" fill-opacity=\"1\" /><path clip-path=\"url(#clip240)\" d=\"M 0 0 M1760.5 279.053 L1772.98 279.053 L1772.98 282.85 L1760.5 282.85 L1760.5 279.053 Z\" fill=\"#000000\" fill-rule=\"evenodd\" fill-opacity=\"1\" /><path clip-path=\"url(#clip240)\" d=\"M 0 0 M1805.64 257.919 L1805.64 261.461 L1801.56 261.461 Q1799.27 261.461 1798.37 262.387 Q1797.49 263.313 1797.49 265.72 L1797.49 268.012 L1804.5 268.012 L1804.5 271.322 L1797.49 271.322 L1797.49 293.938 L1793.21 293.938 L1793.21 271.322 L1789.13 271.322 L1789.13 268.012 L1793.21 268.012 L1793.21 266.206 Q1793.21 261.878 1795.22 259.91 Q1797.23 257.919 1801.61 257.919 L1805.64 257.919 Z\" fill=\"#000000\" fill-rule=\"evenodd\" fill-opacity=\"1\" /><path clip-path=\"url(#clip240)\" d=\"M 0 0 M1824.87 275.303 Q1828.23 276.021 1830.11 278.289 Q1832 280.558 1832 283.891 Q1832 289.007 1828.48 291.808 Q1824.97 294.609 1818.48 294.609 Q1816.31 294.609 1813.99 294.169 Q1811.7 293.752 1809.25 292.896 L1809.25 288.382 Q1811.19 289.516 1813.51 290.095 Q1815.82 290.674 1818.35 290.674 Q1822.74 290.674 1825.04 288.938 Q1827.35 287.201 1827.35 283.891 Q1827.35 280.836 1825.2 279.123 Q1823.07 277.387 1819.25 277.387 L1815.22 277.387 L1815.22 273.544 L1819.43 273.544 Q1822.88 273.544 1824.71 272.178 Q1826.54 270.79 1826.54 268.197 Q1826.54 265.535 1824.64 264.123 Q1822.77 262.688 1819.25 262.688 Q1817.33 262.688 1815.13 263.104 Q1812.93 263.521 1810.29 264.401 L1810.29 260.234 Q1812.95 259.493 1815.27 259.123 Q1817.61 258.753 1819.67 258.753 Q1824.99 258.753 1828.09 261.183 Q1831.19 263.59 1831.19 267.711 Q1831.19 270.581 1829.55 272.572 Q1827.91 274.54 1824.87 275.303 Z\" fill=\"#000000\" fill-rule=\"evenodd\" fill-opacity=\"1\" /><path clip-path=\"url(#clip240)\" d=\"M 0 0 M1837.03 272.41 L1866.7 272.41 L1866.7 276.299 L1837.03 276.299 L1837.03 272.41 M1837.03 281.854 L1866.7 281.854 L1866.7 285.789 L1837.03 285.789 L1837.03 281.854 Z\" fill=\"#000000\" fill-rule=\"evenodd\" fill-opacity=\"1\" /><path clip-path=\"url(#clip240)\" d=\"M 0 0 M1881.77 262.456 Q1878.16 262.456 1876.33 266.021 Q1874.53 269.563 1874.53 276.692 Q1874.53 283.799 1876.33 287.364 Q1878.16 290.905 1881.77 290.905 Q1885.41 290.905 1887.21 287.364 Q1889.04 283.799 1889.04 276.692 Q1889.04 269.563 1887.21 266.021 Q1885.41 262.456 1881.77 262.456 M1881.77 258.753 Q1887.58 258.753 1890.64 263.359 Q1893.72 267.942 1893.72 276.692 Q1893.72 285.419 1890.64 290.026 Q1887.58 294.609 1881.77 294.609 Q1875.96 294.609 1872.88 290.026 Q1869.83 285.419 1869.83 276.692 Q1869.83 267.942 1872.88 263.359 Q1875.96 258.753 1881.77 258.753 Z\" fill=\"#000000\" fill-rule=\"evenodd\" fill-opacity=\"1\" /><polyline clip-path=\"url(#clip240)\" style=\"stroke:#ff00ff; stroke-width:4; stroke-opacity:1; fill:none\" points=\"\n",
       "  1517.29,337.138 1664.25,337.138 \n",
       "  \"/>\n",
       "<path clip-path=\"url(#clip240)\" d=\"M 0 0 M1705.13 338.214 Q1706.63 338.723 1708.05 340.39 Q1709.48 342.057 1710.92 344.973 L1715.66 354.418 L1710.64 354.418 L1706.22 345.552 Q1704.5 342.08 1702.88 340.945 Q1701.29 339.811 1698.51 339.811 L1693.42 339.811 L1693.42 354.418 L1688.74 354.418 L1688.74 319.858 L1699.3 319.858 Q1705.22 319.858 1708.14 322.334 Q1711.05 324.811 1711.05 329.811 Q1711.05 333.075 1709.53 335.228 Q1708.02 337.381 1705.13 338.214 M1693.42 323.7 L1693.42 335.969 L1699.3 335.969 Q1702.68 335.969 1704.39 334.418 Q1706.12 332.844 1706.12 329.811 Q1706.12 326.779 1704.39 325.251 Q1702.68 323.7 1699.3 323.7 L1693.42 323.7 Z\" fill=\"#000000\" fill-rule=\"evenodd\" fill-opacity=\"1\" /><path clip-path=\"url(#clip240)\" d=\"M 0 0 M1741.03 320.992 L1741.03 325.552 Q1738.37 324.279 1736.01 323.654 Q1733.65 323.029 1731.45 323.029 Q1727.63 323.029 1725.55 324.51 Q1723.49 325.992 1723.49 328.723 Q1723.49 331.015 1724.85 332.195 Q1726.24 333.353 1730.08 334.07 L1732.91 334.649 Q1738.14 335.645 1740.61 338.168 Q1743.11 340.668 1743.11 344.881 Q1743.11 349.904 1739.74 352.496 Q1736.38 355.089 1729.87 355.089 Q1727.42 355.089 1724.64 354.533 Q1721.89 353.978 1718.93 352.89 L1718.93 348.075 Q1721.77 349.672 1724.5 350.482 Q1727.24 351.293 1729.87 351.293 Q1733.88 351.293 1736.05 349.719 Q1738.23 348.144 1738.23 345.228 Q1738.23 342.682 1736.66 341.246 Q1735.11 339.811 1731.54 339.094 L1728.69 338.538 Q1723.46 337.496 1721.12 335.274 Q1718.79 333.052 1718.79 329.094 Q1718.79 324.51 1722 321.871 Q1725.24 319.233 1730.92 319.233 Q1733.35 319.233 1735.87 319.672 Q1738.39 320.112 1741.03 320.992 Z\" fill=\"#000000\" fill-rule=\"evenodd\" fill-opacity=\"1\" /><path clip-path=\"url(#clip240)\" d=\"M 0 0 M1762.84 319.858 L1767.51 319.858 L1767.51 334.464 L1783.02 319.858 L1789.04 319.858 L1771.89 335.969 L1790.27 354.418 L1784.11 354.418 L1767.51 337.774 L1767.51 354.418 L1762.84 354.418 L1762.84 319.858 Z\" fill=\"#000000\" fill-rule=\"evenodd\" fill-opacity=\"1\" /><path clip-path=\"url(#clip240)\" d=\"M 0 0 M1795.29 332.89 L1824.97 332.89 L1824.97 336.779 L1795.29 336.779 L1795.29 332.89 M1795.29 342.334 L1824.97 342.334 L1824.97 346.269 L1795.29 346.269 L1795.29 342.334 Z\" fill=\"#000000\" fill-rule=\"evenodd\" fill-opacity=\"1\" /><path clip-path=\"url(#clip240)\" d=\"M 0 0 M1848.21 324.395 Q1845.85 322.774 1840.31 322.774 Q1834.46 322.774 1834.46 325.483 Q1834.46 327.612 1840.57 328.723 Q1845.38 329.58 1848.09 332.172 Q1851.38 335.297 1851.38 341.709 Q1851.38 347.844 1848.21 351.455 Q1845.04 355.089 1839.48 355.089 Q1833.95 355.089 1830.75 351.455 Q1827.58 347.844 1827.58 341.478 Q1827.58 336.756 1830.75 332.936 Q1831.98 331.455 1833.72 330.621 Q1830.11 328.793 1830.11 325.529 Q1830.11 319.233 1840.31 319.233 Q1845.43 319.233 1848.21 320.853 L1848.21 324.395 M1836.91 331.779 Q1835.34 332.45 1834.06 334.14 Q1832.07 336.756 1832.07 341.478 Q1832.07 346.177 1834.04 348.816 Q1836.03 351.478 1839.48 351.478 Q1842.88 351.478 1844.87 348.793 Q1846.86 346.107 1846.86 341.709 Q1846.86 337.103 1844.76 334.881 Q1842.51 332.496 1839.6 332.242 Q1838.11 332.103 1836.91 331.779 Z\" fill=\"#000000\" fill-rule=\"evenodd\" fill-opacity=\"1\" /><path clip-path=\"url(#clip240)\" d=\"M 0 0 M1863.51 343.955 Q1865.64 344.371 1866.79 345.644 Q1867.98 346.894 1867.98 348.793 Q1867.98 351.663 1865.78 353.214 Q1863.58 354.765 1859.48 354.765 Q1858.16 354.765 1856.7 354.51 Q1855.27 354.279 1853.65 353.816 L1853.65 351.015 Q1854.85 351.64 1856.22 351.941 Q1857.6 352.242 1859.16 352.242 Q1861.68 352.242 1863.07 351.339 Q1864.46 350.413 1864.46 348.793 Q1864.46 347.08 1863.16 346.2 Q1861.89 345.32 1859.39 345.32 L1857.4 345.32 L1857.4 342.82 L1859.57 342.82 Q1861.75 342.82 1862.86 342.103 Q1863.99 341.362 1863.99 339.973 Q1863.99 338.631 1862.84 337.936 Q1861.68 337.219 1859.48 337.219 Q1858.55 337.219 1857.37 337.427 Q1856.19 337.635 1854.32 338.168 L1854.32 335.506 Q1856.01 335.112 1857.49 334.904 Q1858.97 334.695 1860.24 334.695 Q1863.58 334.695 1865.52 336.061 Q1867.49 337.427 1867.49 339.719 Q1867.49 341.316 1866.45 342.427 Q1865.41 343.538 1863.51 343.955 Z\" fill=\"#000000\" fill-rule=\"evenodd\" fill-opacity=\"1\" /><path clip-path=\"url(#clip240)\" d=\"M 0 0 M1888.35 354.418 L1883.41 354.418 L1896.61 319.858 L1901.91 319.858 L1915.08 354.418 L1910.22 354.418 L1899.25 324.464 L1888.35 354.418 Z\" fill=\"#000000\" fill-rule=\"evenodd\" fill-opacity=\"1\" /><path clip-path=\"url(#clip240)\" d=\"M 0 0 M1920.1 332.89 L1949.78 332.89 L1949.78 336.779 L1920.1 336.779 L1920.1 332.89 M1920.1 342.334 L1949.78 342.334 L1949.78 346.269 L1920.1 346.269 L1920.1 342.334 Z\" fill=\"#000000\" fill-rule=\"evenodd\" fill-opacity=\"1\" /><path clip-path=\"url(#clip240)\" d=\"M 0 0 M1964.48 318.446 Q1961.38 323.77 1959.87 328.978 Q1958.37 334.186 1958.37 339.533 Q1958.37 344.881 1959.87 350.135 Q1961.4 355.367 1964.48 360.668 L1960.78 360.668 Q1957.3 355.228 1955.57 349.973 Q1953.85 344.719 1953.85 339.533 Q1953.85 334.371 1955.57 329.14 Q1957.28 323.908 1960.78 318.446 L1964.48 318.446 Z\" fill=\"#000000\" fill-rule=\"evenodd\" fill-opacity=\"1\" /><path clip-path=\"url(#clip240)\" d=\"M 0 0 M1970.36 350.482 L1978 350.482 L1978 324.117 L1969.69 325.783 L1969.69 321.524 L1977.95 319.858 L1982.63 319.858 L1982.63 350.482 L1990.27 350.482 L1990.27 354.418 L1970.36 354.418 L1970.36 350.482 Z\" fill=\"#000000\" fill-rule=\"evenodd\" fill-opacity=\"1\" /><path clip-path=\"url(#clip240)\" d=\"M 0 0 M1992.58 339.533 L2005.06 339.533 L2005.06 343.33 L1992.58 343.33 L1992.58 339.533 Z\" fill=\"#000000\" fill-rule=\"evenodd\" fill-opacity=\"1\" /><path clip-path=\"url(#clip240)\" d=\"M 0 0 M2022.65 318.399 L2022.65 321.941 L2018.58 321.941 Q2016.28 321.941 2015.38 322.867 Q2014.5 323.793 2014.5 326.2 L2014.5 328.492 L2021.52 328.492 L2021.52 331.802 L2014.5 331.802 L2014.5 354.418 L2010.22 354.418 L2010.22 331.802 L2006.15 331.802 L2006.15 328.492 L2010.22 328.492 L2010.22 326.686 Q2010.22 322.358 2012.23 320.39 Q2014.25 318.399 2018.62 318.399 L2022.65 318.399 Z\" fill=\"#000000\" fill-rule=\"evenodd\" fill-opacity=\"1\" /><path clip-path=\"url(#clip240)\" d=\"M 0 0 M2034.78 343.955 Q2036.91 344.371 2038.07 345.644 Q2039.25 346.894 2039.25 348.793 Q2039.25 351.663 2037.05 353.214 Q2034.85 354.765 2030.75 354.765 Q2029.43 354.765 2027.97 354.51 Q2026.54 354.279 2024.92 353.816 L2024.92 351.015 Q2026.12 351.64 2027.49 351.941 Q2028.88 352.242 2030.43 352.242 Q2032.95 352.242 2034.34 351.339 Q2035.73 350.413 2035.73 348.793 Q2035.73 347.08 2034.43 346.2 Q2033.16 345.32 2030.66 345.32 L2028.67 345.32 L2028.67 342.82 L2030.84 342.82 Q2033.02 342.82 2034.13 342.103 Q2035.27 341.362 2035.27 339.973 Q2035.27 338.631 2034.11 337.936 Q2032.95 337.219 2030.75 337.219 Q2029.83 337.219 2028.65 337.427 Q2027.47 337.635 2025.59 338.168 L2025.59 335.506 Q2027.28 335.112 2028.76 334.904 Q2030.24 334.695 2031.52 334.695 Q2034.85 334.695 2036.79 336.061 Q2038.76 337.427 2038.76 339.719 Q2038.76 341.316 2037.72 342.427 Q2036.68 343.538 2034.78 343.955 Z\" fill=\"#000000\" fill-rule=\"evenodd\" fill-opacity=\"1\" /><path clip-path=\"url(#clip240)\" d=\"M 0 0 M2043.04 318.446 L2046.75 318.446 Q2050.22 323.908 2051.93 329.14 Q2053.67 334.371 2053.67 339.533 Q2053.67 344.719 2051.93 349.973 Q2050.22 355.228 2046.75 360.668 L2043.04 360.668 Q2046.12 355.367 2047.63 350.135 Q2049.15 344.881 2049.15 339.533 Q2049.15 334.186 2047.63 328.978 Q2046.12 323.77 2043.04 318.446 Z\" fill=\"#000000\" fill-rule=\"evenodd\" fill-opacity=\"1\" /><path clip-path=\"url(#clip240)\" d=\"M 0 0 M2076.91 324.395 Q2074.55 322.774 2069.02 322.774 Q2063.16 322.774 2063.16 325.483 Q2063.16 327.612 2069.27 328.723 Q2074.09 329.58 2076.79 332.172 Q2080.08 335.297 2080.08 341.709 Q2080.08 347.844 2076.91 351.455 Q2073.74 355.089 2068.18 355.089 Q2062.65 355.089 2059.46 351.455 Q2056.28 347.844 2056.28 341.478 Q2056.28 336.756 2059.46 332.936 Q2060.68 331.455 2062.42 330.621 Q2058.81 328.793 2058.81 325.529 Q2058.81 319.233 2069.02 319.233 Q2074.13 319.233 2076.91 320.853 L2076.91 324.395 M2065.61 331.779 Q2064.04 332.45 2062.77 334.14 Q2060.78 336.756 2060.78 341.478 Q2060.78 346.177 2062.74 348.816 Q2064.73 351.478 2068.18 351.478 Q2071.59 351.478 2073.58 348.793 Q2075.57 346.107 2075.57 341.709 Q2075.57 337.103 2073.46 334.881 Q2071.21 332.496 2068.3 332.242 Q2066.82 332.103 2065.61 331.779 Z\" fill=\"#000000\" fill-rule=\"evenodd\" fill-opacity=\"1\" /><path clip-path=\"url(#clip240)\" d=\"M 0 0 M2086.28 351.779 L2096.1 351.779 L2096.1 354.418 L2082.26 354.418 L2082.26 351.871 Q2083.04 351.154 2084.5 349.857 Q2092.46 342.797 2092.46 340.621 Q2092.46 339.094 2091.26 338.168 Q2090.06 337.219 2088.09 337.219 Q2086.89 337.219 2085.47 337.635 Q2084.06 338.029 2082.4 338.839 L2082.4 335.992 Q2084.18 335.344 2085.71 335.02 Q2087.26 334.695 2088.58 334.695 Q2091.93 334.695 2093.95 336.223 Q2095.96 337.751 2095.96 340.251 Q2095.96 343.469 2088.3 350.043 Q2087 351.154 2086.28 351.779 Z\" fill=\"#000000\" fill-rule=\"evenodd\" fill-opacity=\"1\" /><path clip-path=\"url(#clip240)\" d=\"M 0 0 M2117.9 324.695 L2117.9 337.589 L2130.8 337.589 L2130.8 341.524 L2117.9 341.524 L2117.9 354.418 L2114.02 354.418 L2114.02 341.524 L2101.12 341.524 L2101.12 337.589 L2114.02 337.589 L2114.02 324.695 L2117.9 324.695 Z\" fill=\"#000000\" fill-rule=\"evenodd\" fill-opacity=\"1\" /><path clip-path=\"url(#clip240)\" d=\"M 0 0 M2148.39 318.399 L2148.39 321.941 L2144.32 321.941 Q2142.02 321.941 2141.12 322.867 Q2140.24 323.793 2140.24 326.2 L2140.24 328.492 L2147.26 328.492 L2147.26 331.802 L2140.24 331.802 L2140.24 354.418 L2135.96 354.418 L2135.96 331.802 L2131.89 331.802 L2131.89 328.492 L2135.96 328.492 L2135.96 326.686 Q2135.96 322.358 2137.97 320.39 Q2139.99 318.399 2144.36 318.399 L2148.39 318.399 Z\" fill=\"#000000\" fill-rule=\"evenodd\" fill-opacity=\"1\" /><path clip-path=\"url(#clip240)\" d=\"M 0 0 M2160.52 343.955 Q2162.65 344.371 2163.81 345.644 Q2164.99 346.894 2164.99 348.793 Q2164.99 351.663 2162.79 353.214 Q2160.59 354.765 2156.49 354.765 Q2155.17 354.765 2153.71 354.51 Q2152.28 354.279 2150.66 353.816 L2150.66 351.015 Q2151.86 351.64 2153.23 351.941 Q2154.62 352.242 2156.17 352.242 Q2158.69 352.242 2160.08 351.339 Q2161.47 350.413 2161.47 348.793 Q2161.47 347.08 2160.17 346.2 Q2158.9 345.32 2156.4 345.32 L2154.41 345.32 L2154.41 342.82 L2156.58 342.82 Q2158.76 342.82 2159.87 342.103 Q2161.01 341.362 2161.01 339.973 Q2161.01 338.631 2159.85 337.936 Q2158.69 337.219 2156.49 337.219 Q2155.57 337.219 2154.39 337.427 Q2153.21 337.635 2151.33 338.168 L2151.33 335.506 Q2153.02 335.112 2154.5 334.904 Q2155.98 334.695 2157.26 334.695 Q2160.59 334.695 2162.53 336.061 Q2164.5 337.427 2164.5 339.719 Q2164.5 341.316 2163.46 342.427 Q2162.42 343.538 2160.52 343.955 Z\" fill=\"#000000\" fill-rule=\"evenodd\" fill-opacity=\"1\" /><path clip-path=\"url(#clip240)\" d=\"M 0 0 M2187.28 325.552 L2178.97 330.043 L2187.28 334.557 L2185.94 336.825 L2178.16 332.126 L2178.16 340.853 L2175.52 340.853 L2175.52 332.126 L2167.74 336.825 L2166.4 334.557 L2174.71 330.043 L2166.4 325.552 L2167.74 323.26 L2175.52 327.959 L2175.52 319.233 L2178.16 319.233 L2178.16 327.959 L2185.94 323.26 L2187.28 325.552 Z\" fill=\"#000000\" fill-rule=\"evenodd\" fill-opacity=\"1\" /><path clip-path=\"url(#clip240)\" d=\"M 0 0 M2210.52 324.395 Q2208.16 322.774 2202.63 322.774 Q2196.77 322.774 2196.77 325.483 Q2196.77 327.612 2202.88 328.723 Q2207.7 329.58 2210.4 332.172 Q2213.69 335.297 2213.69 341.709 Q2213.69 347.844 2210.52 351.455 Q2207.35 355.089 2201.79 355.089 Q2196.26 355.089 2193.07 351.455 Q2189.89 347.844 2189.89 341.478 Q2189.89 336.756 2193.07 332.936 Q2194.29 331.455 2196.03 330.621 Q2192.42 328.793 2192.42 325.529 Q2192.42 319.233 2202.63 319.233 Q2207.74 319.233 2210.52 320.853 L2210.52 324.395 M2199.22 331.779 Q2197.65 332.45 2196.38 334.14 Q2194.39 336.756 2194.39 341.478 Q2194.39 346.177 2196.35 348.816 Q2198.34 351.478 2201.79 351.478 Q2205.2 351.478 2207.19 348.793 Q2209.18 346.107 2209.18 341.709 Q2209.18 337.103 2207.07 334.881 Q2204.83 332.496 2201.91 332.242 Q2200.43 332.103 2199.22 331.779 Z\" fill=\"#000000\" fill-rule=\"evenodd\" fill-opacity=\"1\" /><path clip-path=\"url(#clip240)\" d=\"M 0 0 M2225.82 343.955 Q2227.95 344.371 2229.11 345.644 Q2230.29 346.894 2230.29 348.793 Q2230.29 351.663 2228.09 353.214 Q2225.89 354.765 2221.79 354.765 Q2220.47 354.765 2219.01 354.51 Q2217.58 354.279 2215.96 353.816 L2215.96 351.015 Q2217.16 351.64 2218.53 351.941 Q2219.92 352.242 2221.47 352.242 Q2223.99 352.242 2225.38 351.339 Q2226.77 350.413 2226.77 348.793 Q2226.77 347.08 2225.47 346.2 Q2224.2 345.32 2221.7 345.32 L2219.71 345.32 L2219.71 342.82 L2221.89 342.82 Q2224.06 342.82 2225.17 342.103 Q2226.31 341.362 2226.31 339.973 Q2226.31 338.631 2225.15 337.936 Q2223.99 337.219 2221.79 337.219 Q2220.87 337.219 2219.69 337.427 Q2218.51 337.635 2216.63 338.168 L2216.63 335.506 Q2218.32 335.112 2219.8 334.904 Q2221.28 334.695 2222.56 334.695 Q2225.89 334.695 2227.83 336.061 Q2229.8 337.427 2229.8 339.719 Q2229.8 341.316 2228.76 342.427 Q2227.72 343.538 2225.82 343.955 Z\" fill=\"#000000\" fill-rule=\"evenodd\" fill-opacity=\"1\" /><circle clip-path=\"url(#clip240)\" cx=\"1590.77\" cy=\"397.618\" r=\"23\" fill=\"#ffffe0\" fill-rule=\"evenodd\" fill-opacity=\"1\" stroke=\"#000000\" stroke-opacity=\"1\" stroke-width=\"5.12\"/>\n",
       "<path clip-path=\"url(#clip240)\" d=\"M 0 0 M1693.42 398.393 L1693.42 411.055 L1700.92 411.055 Q1704.69 411.055 1706.49 409.504 Q1708.32 407.93 1708.32 404.712 Q1708.32 401.472 1706.49 399.944 Q1704.69 398.393 1700.92 398.393 L1693.42 398.393 M1693.42 384.18 L1693.42 394.597 L1700.34 394.597 Q1703.76 394.597 1705.43 393.324 Q1707.12 392.027 1707.12 389.388 Q1707.12 386.773 1705.43 385.476 Q1703.76 384.18 1700.34 384.18 L1693.42 384.18 M1688.74 380.338 L1700.68 380.338 Q1706.03 380.338 1708.93 382.56 Q1711.82 384.782 1711.82 388.879 Q1711.82 392.05 1710.34 393.925 Q1708.86 395.8 1705.99 396.263 Q1709.43 397.004 1711.33 399.365 Q1713.25 401.703 1713.25 405.222 Q1713.25 409.851 1710.11 412.374 Q1706.96 414.898 1701.15 414.898 L1688.74 414.898 L1688.74 380.338 Z\" fill=\"#000000\" fill-rule=\"evenodd\" fill-opacity=\"1\" /><path clip-path=\"url(#clip240)\" d=\"M 0 0 M1722.58 384.18 L1722.58 397.166 L1728.46 397.166 Q1731.73 397.166 1733.51 395.476 Q1735.29 393.787 1735.29 390.662 Q1735.29 387.56 1733.51 385.87 Q1731.73 384.18 1728.46 384.18 L1722.58 384.18 M1717.91 380.338 L1728.46 380.338 Q1734.27 380.338 1737.24 382.976 Q1740.22 385.592 1740.22 390.662 Q1740.22 395.777 1737.24 398.393 Q1734.27 401.009 1728.46 401.009 L1722.58 401.009 L1722.58 414.898 L1717.91 414.898 L1717.91 380.338 Z\" fill=\"#000000\" fill-rule=\"evenodd\" fill-opacity=\"1\" /><path clip-path=\"url(#clip240)\" d=\"M 0 0 M1757.61 400.013 L1770.08 400.013 L1770.08 403.81 L1757.61 403.81 L1757.61 400.013 Z\" fill=\"#000000\" fill-rule=\"evenodd\" fill-opacity=\"1\" /><path clip-path=\"url(#clip240)\" d=\"M 0 0 M1802.74 378.879 L1802.74 382.421 L1798.67 382.421 Q1796.38 382.421 1795.48 383.347 Q1794.6 384.273 1794.6 386.68 L1794.6 388.972 L1801.61 388.972 L1801.61 392.282 L1794.6 392.282 L1794.6 414.898 L1790.31 414.898 L1790.31 392.282 L1786.24 392.282 L1786.24 388.972 L1790.31 388.972 L1790.31 387.166 Q1790.31 382.838 1792.33 380.87 Q1794.34 378.879 1798.72 378.879 L1802.74 378.879 Z\" fill=\"#000000\" fill-rule=\"evenodd\" fill-opacity=\"1\" /><path clip-path=\"url(#clip240)\" d=\"M 0 0 M1826.91 422.768 L1826.91 426.078 L1802.28 426.078 L1802.28 422.768 L1826.91 422.768 Z\" fill=\"#000000\" fill-rule=\"evenodd\" fill-opacity=\"1\" /><path clip-path=\"url(#clip240)\" d=\"M 0 0 M1846.15 396.263 Q1849.5 396.981 1851.38 399.249 Q1853.28 401.518 1853.28 404.851 Q1853.28 409.967 1849.76 412.768 Q1846.24 415.569 1839.76 415.569 Q1837.58 415.569 1835.27 415.129 Q1832.98 414.712 1830.52 413.856 L1830.52 409.342 Q1832.47 410.476 1834.78 411.055 Q1837.1 411.634 1839.62 411.634 Q1844.02 411.634 1846.31 409.898 Q1848.62 408.161 1848.62 404.851 Q1848.62 401.796 1846.47 400.083 Q1844.34 398.347 1840.52 398.347 L1836.49 398.347 L1836.49 394.504 L1840.71 394.504 Q1844.16 394.504 1845.98 393.138 Q1847.81 391.75 1847.81 389.157 Q1847.81 386.495 1845.92 385.083 Q1844.04 383.648 1840.52 383.648 Q1838.6 383.648 1836.4 384.064 Q1834.2 384.481 1831.56 385.361 L1831.56 381.194 Q1834.23 380.453 1836.54 380.083 Q1838.88 379.713 1840.94 379.713 Q1846.26 379.713 1849.36 382.143 Q1852.47 384.55 1852.47 388.671 Q1852.47 391.541 1850.82 393.532 Q1849.18 395.5 1846.15 396.263 Z\" fill=\"#000000\" fill-rule=\"evenodd\" fill-opacity=\"1\" /><path clip-path=\"url(#clip240)\" d=\"M 0 0 M1858.3 393.37 L1887.98 393.37 L1887.98 397.259 L1858.3 397.259 L1858.3 393.37 M1858.3 402.814 L1887.98 402.814 L1887.98 406.749 L1858.3 406.749 L1858.3 402.814 Z\" fill=\"#000000\" fill-rule=\"evenodd\" fill-opacity=\"1\" /><path clip-path=\"url(#clip240)\" d=\"M 0 0 M1903.04 383.416 Q1899.43 383.416 1897.6 386.981 Q1895.8 390.523 1895.8 397.652 Q1895.8 404.759 1897.6 408.324 Q1899.43 411.865 1903.04 411.865 Q1906.68 411.865 1908.48 408.324 Q1910.31 404.759 1910.31 397.652 Q1910.31 390.523 1908.48 386.981 Q1906.68 383.416 1903.04 383.416 M1903.04 379.713 Q1908.85 379.713 1911.91 384.319 Q1914.99 388.902 1914.99 397.652 Q1914.99 406.379 1911.91 410.986 Q1908.85 415.569 1903.04 415.569 Q1897.23 415.569 1894.16 410.986 Q1891.1 406.379 1891.1 397.652 Q1891.1 388.902 1894.16 384.319 Q1897.23 379.713 1903.04 379.713 Z\" fill=\"#000000\" fill-rule=\"evenodd\" fill-opacity=\"1\" /><path clip-path=\"url(#clip240)\" d=\"M 0 0 M1920.06 409.018 L1924.94 409.018 L1924.94 414.898 L1920.06 414.898 L1920.06 409.018 Z\" fill=\"#000000\" fill-rule=\"evenodd\" fill-opacity=\"1\" /><path clip-path=\"url(#clip240)\" d=\"M 0 0 M1934.04 410.962 L1950.36 410.962 L1950.36 414.898 L1928.41 414.898 L1928.41 410.962 Q1931.08 408.208 1935.66 403.578 Q1940.27 398.925 1941.45 397.583 Q1943.69 395.06 1944.57 393.324 Q1945.47 391.564 1945.47 389.875 Q1945.47 387.12 1943.53 385.384 Q1941.61 383.648 1938.51 383.648 Q1936.31 383.648 1933.85 384.412 Q1931.42 385.175 1928.65 386.726 L1928.65 382.004 Q1931.47 380.87 1933.92 380.291 Q1936.38 379.713 1938.41 379.713 Q1943.78 379.713 1946.98 382.398 Q1950.17 385.083 1950.17 389.574 Q1950.17 391.703 1949.36 393.625 Q1948.58 395.523 1946.47 398.115 Q1945.89 398.787 1942.79 402.004 Q1939.69 405.199 1934.04 410.962 Z\" fill=\"#000000\" fill-rule=\"evenodd\" fill-opacity=\"1\" /><path clip-path=\"url(#clip240)\" d=\"M 0 0 M1967.74 400.013 L1980.22 400.013 L1980.22 403.81 L1967.74 403.81 L1967.74 400.013 Z\" fill=\"#000000\" fill-rule=\"evenodd\" fill-opacity=\"1\" /><path clip-path=\"url(#clip240)\" d=\"M 0 0 M1999.94 380.338 L2004.62 380.338 L2004.62 394.504 L2021.61 394.504 L2021.61 380.338 L2026.28 380.338 L2026.28 414.898 L2021.61 414.898 L2021.61 398.439 L2004.62 398.439 L2004.62 414.898 L1999.94 414.898 L1999.94 380.338 Z\" fill=\"#000000\" fill-rule=\"evenodd\" fill-opacity=\"1\" /><path clip-path=\"url(#clip240)\" d=\"M 0 0 M2031.31 393.37 L2060.98 393.37 L2060.98 397.259 L2031.31 397.259 L2031.31 393.37 M2031.31 402.814 L2060.98 402.814 L2060.98 406.749 L2031.31 406.749 L2031.31 402.814 Z\" fill=\"#000000\" fill-rule=\"evenodd\" fill-opacity=\"1\" /><path clip-path=\"url(#clip240)\" d=\"M 0 0 M2076.05 383.416 Q2072.44 383.416 2070.61 386.981 Q2068.81 390.523 2068.81 397.652 Q2068.81 404.759 2070.61 408.324 Q2072.44 411.865 2076.05 411.865 Q2079.69 411.865 2081.49 408.324 Q2083.32 404.759 2083.32 397.652 Q2083.32 390.523 2081.49 386.981 Q2079.69 383.416 2076.05 383.416 M2076.05 379.713 Q2081.86 379.713 2084.92 384.319 Q2088 388.902 2088 397.652 Q2088 406.379 2084.92 410.986 Q2081.86 415.569 2076.05 415.569 Q2070.24 415.569 2067.16 410.986 Q2064.11 406.379 2064.11 397.652 Q2064.11 388.902 2067.16 384.319 Q2070.24 379.713 2076.05 379.713 Z\" fill=\"#000000\" fill-rule=\"evenodd\" fill-opacity=\"1\" /><path clip-path=\"url(#clip240)\" d=\"M 0 0 M2093.07 409.018 L2097.95 409.018 L2097.95 414.898 L2093.07 414.898 L2093.07 409.018 Z\" fill=\"#000000\" fill-rule=\"evenodd\" fill-opacity=\"1\" /><path clip-path=\"url(#clip240)\" d=\"M 0 0 M2115.87 384.412 L2104.06 402.861 L2115.87 402.861 L2115.87 384.412 M2114.64 380.338 L2120.52 380.338 L2120.52 402.861 L2125.45 402.861 L2125.45 406.749 L2120.52 406.749 L2120.52 414.898 L2115.87 414.898 L2115.87 406.749 L2100.27 406.749 L2100.27 402.236 L2114.64 380.338 Z\" fill=\"#000000\" fill-rule=\"evenodd\" fill-opacity=\"1\" /></svg>\n"
      ]
     },
     "execution_count": 143,
     "metadata": {},
     "output_type": "execute_result"
    }
   ],
   "source": [
    "println(\"Avg over $navg instances\")\n",
    "colors = cgrad(:heat, length(Hs)+1, categorical = true)\n",
    "pl_f3 = plot_rdb()\n",
    "for (i,H) in enumerate(Hs)\n",
    "    scatter!(pl_f3, [R], [mean(dist_f3[i])], \n",
    "        yerr = [std(dist_f3[i])/sqrt(length(dist_f3[i]))],\n",
    "        label=\"BP - f_3=$(round(r,digits=1)) - H=$(round(H,sigdigits=2))\", mc=colors[i], ms=4)\n",
    "end\n",
    "plot(pl_f3, size=(600,400), legend=:topright)\n",
    "# xlims!((0.24,0.30)); ylims!((0.22,0.26))"
   ]
  },
  {
   "cell_type": "code",
   "execution_count": 110,
   "metadata": {},
   "outputs": [
    {
     "data": {
      "text/plain": [
       "3600"
      ]
     },
     "execution_count": 110,
     "metadata": {},
     "output_type": "execute_result"
    }
   ],
   "source": [
    "n"
   ]
  },
  {
   "cell_type": "code",
   "execution_count": null,
   "metadata": {},
   "outputs": [],
   "source": []
  }
 ],
 "metadata": {
  "kernelspec": {
   "display_name": "Julia 1.5.3",
   "language": "julia",
   "name": "julia-1.5"
  },
  "language_info": {
   "file_extension": ".jl",
   "mimetype": "application/julia",
   "name": "julia",
   "version": "1.5.3"
  }
 },
 "nbformat": 4,
 "nbformat_minor": 4
}
