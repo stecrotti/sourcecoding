{
 "cells": [
  {
   "cell_type": "markdown",
   "metadata": {},
   "source": [
    "LDGM codes\n",
    "---\n"
   ]
  },
  {
   "cell_type": "markdown",
   "metadata": {},
   "source": [
    "Given a source $y\\in\\{0,1\\}^n$ and a so-called Low-Density Generator Matrix (LDGM) $G\\in\\{0,1\\}^{n,k}, k<n$, find $x\\in\\{0,1\\}^k$ such that $d_H(Gx,s)$ is minimal.\n",
    "Following the notation in \\cite{castanheira2010lossy}, we assign indices $i\\in 1,\\dots,k$ to variables and $a\\in 1,\\dots,n$ to factors.\n",
    "The compression rate is given by $R=k/n$.\n",
    "\n",
    "After the usual change of variables $\\sigma_i=(-1)^{x_i}$, $s_a=(-1)^{y_a}$, one has\n",
    "\\begin{equation}\n",
    "    \\begin{aligned}\n",
    "    \\min_x \\sum_{a=1}^n (Gx)_a\\oplus y_a =&\n",
    "    \\min_x \\sum_{a=1}^n \\left(\\bigoplus_{i\\in\\partial a}x_i\\right)\\oplus y_a \\\\\n",
    "    =& \\min_\\sigma \\left[-\\sum_{a=1}^ns_a\\prod_{i\\in\\partial a}\\sigma_i\\right]\\\\\n",
    "    =& \\min_\\sigma \\mathcal{H}(\\sigma)\n",
    "    \\end{aligned}\n",
    "\\end{equation}\n",
    "The corresponding Boltzmann distribution\n",
    "\\begin{equation}\n",
    "    P(\\sigma) = \\frac1Z \\prod_{a=1}^n e^{\\beta s_a \\prod\\limits_{i\\in\\partial a}\\sigma_i}\n",
    "\\end{equation}"
   ]
  },
  {
   "cell_type": "markdown",
   "metadata": {},
   "source": [
    "Max-Sum equations\n",
    "---"
   ]
  },
  {
   "cell_type": "markdown",
   "metadata": {},
   "source": [
    "\\begin{equation}\n",
    "\\boxed{\n",
    "    \\begin{aligned}\n",
    "    h_{ia} =& \\sum_{b\\in\\partial i \\setminus a} u_{bi}\\\\\n",
    "    u_{ai} =& {\\rm sign}\\left(s_a\\prod_{j\\in\\partial a \\setminus i}\\sigma_j\\right)\\min\\left\\{1,\\min_{j\\in\\partial a \\setminus i}|h_{ja}|\\right\\}\n",
    "    \\end{aligned}\n",
    "    }\n",
    "\\end{equation}\n",
    "Notice that the second equation implies $|u_{ai}|\\le1$ !\n"
   ]
  },
  {
   "cell_type": "code",
   "execution_count": 25,
   "metadata": {},
   "outputs": [
    {
     "data": {
      "text/plain": [
       "iter_factor (generic function with 1 method)"
      ]
     },
     "execution_count": 25,
     "metadata": {},
     "output_type": "execute_result"
    }
   ],
   "source": [
    "function iter_factor(q, k)\n",
    "    p[0] = 1-(1-q[0])^k\n",
    "    p[1] = p[-1] = 0.5*(1-p[0])\n",
    "    p\n",
    "end"
   ]
  },
  {
   "cell_type": "code",
   "execution_count": 33,
   "metadata": {},
   "outputs": [
    {
     "data": {
      "text/plain": [
       "iter_variable (generic function with 2 methods)"
      ]
     },
     "execution_count": 33,
     "metadata": {},
     "output_type": "execute_result"
    }
   ],
   "source": [
    "function convolve(p1, p2, maxd)\n",
    "    q = fill(0.0,-maxd:maxd)\n",
    "    for f1 ∈ eachindex(p1)\n",
    "        for f2 ∈ eachindex(p2)\n",
    "            q[clamp(f1+f2, -maxd, maxd)] += p1[f1]*p2[f2]\n",
    "        end\n",
    "    end\n",
    "    q\n",
    "end\n",
    "\n",
    "\n",
    "function iter_variable(p,d, maxd)\n",
    "    q = fill(0.0, -maxd:maxd); q[0]=1\n",
    "    for i in 1:d\n",
    "        q = convolve(q,p, maxd)\n",
    "    end\n",
    "    q ./= sum(q)\n",
    "    \n",
    "end"
   ]
  },
  {
   "cell_type": "code",
   "execution_count": 27,
   "metadata": {},
   "outputs": [
    {
     "data": {
      "text/plain": [
       "iter_slow_factor (generic function with 1 method)"
      ]
     },
     "execution_count": 27,
     "metadata": {},
     "output_type": "execute_result"
    }
   ],
   "source": [
    "function iter_slow_factor(q, k)\n",
    "    N = lastindex(q)\n",
    "    p = fill(0.0, -1:1)\n",
    "    for s in (-1,1)\n",
    "        for fs ∈ Iterators.product(fill(-N:N,k)...)\n",
    "            f = min(1, minimum(abs.(fs)))*sign(prod(fs)*s)\n",
    "            p[f] += prod(q[f1] for f1 ∈ fs)\n",
    "        end\n",
    "    end\n",
    "    p ./= sum(p)\n",
    "end\n"
   ]
  },
  {
   "cell_type": "code",
   "execution_count": 28,
   "metadata": {},
   "outputs": [
    {
     "data": {
      "text/plain": [
       "iter_slow_var (generic function with 1 method)"
      ]
     },
     "execution_count": 28,
     "metadata": {},
     "output_type": "execute_result"
    }
   ],
   "source": [
    "function iter_slow_var(p, d) \n",
    "    N = lastindex(p)\n",
    "    q = fill(0.0, -d:d)\n",
    "    for us in Iterators.product(fill(-1:1,d)...)\n",
    "        h = sum(us)\n",
    "        q[h] += Π(p[u] for u ∈ us)\n",
    "    end\n",
    "    q ./= sum(q)\n",
    "end"
   ]
  },
  {
   "cell_type": "code",
   "execution_count": 29,
   "metadata": {},
   "outputs": [
    {
     "data": {
      "text/plain": [
       "7-element OffsetArray(::Vector{Float64}, -3:3) with eltype Float64 with indices -3:3:\n",
       " 0.064\n",
       " 0.096\n",
       " 0.24\n",
       " 0.19999999999999998\n",
       " 0.24\n",
       " 0.096\n",
       " 0.064"
      ]
     },
     "execution_count": 29,
     "metadata": {},
     "output_type": "execute_result"
    }
   ],
   "source": [
    "using OffsetArrays\n",
    "p = OffsetArray([0.4, 0.2, 0.4], -1:1)\n",
    "iter_slow_var(p, 3)"
   ]
  },
  {
   "cell_type": "code",
   "execution_count": 36,
   "metadata": {},
   "outputs": [
    {
     "data": {
      "text/plain": [
       "11-element OffsetArray(::Vector{Float64}, -5:5) with eltype Float64 with indices -5:5:\n",
       " 0.0\n",
       " 0.0\n",
       " 0.06399999999999999\n",
       " 0.09599999999999999\n",
       " 0.23999999999999996\n",
       " 0.19999999999999998\n",
       " 0.23999999999999994\n",
       " 0.09599999999999999\n",
       " 0.06399999999999999\n",
       " 0.0\n",
       " 0.0"
      ]
     },
     "execution_count": 36,
     "metadata": {},
     "output_type": "execute_result"
    }
   ],
   "source": [
    "iter_variable(p,3, 5)"
   ]
  },
  {
   "cell_type": "code",
   "execution_count": 13,
   "metadata": {},
   "outputs": [
    {
     "data": {
      "text/plain": [
       "5-element OffsetArray(::Vector{Float64}, -2:2) with eltype Float64 with indices -2:2:\n",
       " 0.1\n",
       " 0.05\n",
       " 0.7\n",
       " 0.05\n",
       " 0.1"
      ]
     },
     "execution_count": 13,
     "metadata": {},
     "output_type": "execute_result"
    }
   ],
   "source": [
    "q = OffsetArray([0.1, 0.05, 0.7, 0.05, 0.1], -2:2)"
   ]
  },
  {
   "cell_type": "code",
   "execution_count": 19,
   "metadata": {},
   "outputs": [
    {
     "data": {
      "text/plain": [
       "3-element OffsetArray(::Vector{Float64}, -1:1) with eltype Float64 with indices -1:1:\n",
       " 0.013500000000000024\n",
       " 0.9730000000000001\n",
       " 0.013500000000000024"
      ]
     },
     "execution_count": 19,
     "metadata": {},
     "output_type": "execute_result"
    }
   ],
   "source": [
    "iter_slow_factor(q, 3)"
   ]
  },
  {
   "cell_type": "code",
   "execution_count": 20,
   "metadata": {},
   "outputs": [
    {
     "data": {
      "text/plain": [
       "3-element OffsetArray(::Vector{Float64}, -1:1) with eltype Float64 with indices -1:1:\n",
       " 0.013500000000000012\n",
       " 0.973\n",
       " 0.013500000000000012"
      ]
     },
     "execution_count": 20,
     "metadata": {},
     "output_type": "execute_result"
    }
   ],
   "source": [
    "iter_factor(q,3)"
   ]
  },
  {
   "cell_type": "markdown",
   "metadata": {},
   "source": [
    "RS over Max-Sum\n",
    "---\n",
    "We have, for fixed degrees\n",
    "\n",
    "\\begin{equation}\n",
    "    \\begin{aligned}\n",
    "p_k\\left(u\\right)= &\\sum_{h_{1},\\dots,h_{k}}\\sum_s\\frac12\\delta\\left(u,\\min\\left\\{1,\\min_{j=1,\\dots,k}\\left|h_{j}\\right|\\right\\}\\text{sign}\\left(s\\prod_{j=1}^{k}h_{j}\\right)\\right)\\prod_{j=1}^{k}q\\left(h_{j}\\right)\\\\\n",
    "q_d\\left(h\\right)=&\\sum_{u_{1},\\dots,u_{d}} \\delta\\left(h,\\sum_{a=1}^{d} u_a \\right)\\prod_{a=1}^{d} p(u_a)\n",
    "\\end{aligned}\n",
    "\\end{equation}\n",
    "and averaging over the degree profile,\n",
    "\\begin{equation}\n",
    " \\begin{aligned}\n",
    "    p(u) &\\propto \\sum_k k K_k p_{k-1}(u)\\\\\n",
    "q(h) &\\propto \\sum_d d \\Lambda_d q_{d-1}(h)\n",
    "\\end{aligned}\n",
    "\\end{equation}\n",
    "\n",
    "Following the same steps as in the case of LDPC codes and using the fact that $|u|\\le1$,\n",
    "\n",
    "\\begin{equation}\n",
    "   \\boxed{\n",
    "   \\begin{aligned}\n",
    "   p_k(u) =& p_0\\delta_0+(1-p_0)\\frac{\\delta_{+1}+\\delta_{-1}}{2},\\quad p_0=1-\\left(1-q(0)\\right)^k\n",
    "%   \\begin{cases}\n",
    "%   1 - \\left[1-q(0)\\right]^{k} & u=0\\\\\n",
    "%   \\frac{\\left[1-q(0)\\right]^{k}}{2} & u=1\n",
    "%   \\end{cases}\n",
    "   \\\\\n",
    "   q_d(h) =& p\\underbrace{ \\circledast\\dots\\circledast}_{d \\text{ times}}p\n",
    "   \\end{aligned}}\n",
    "\\end{equation}\n"
   ]
  },
  {
   "cell_type": "code",
   "execution_count": 60,
   "metadata": {},
   "outputs": [
    {
     "data": {
      "text/plain": [
       "RS (generic function with 1 method)"
      ]
     },
     "execution_count": 60,
     "metadata": {},
     "output_type": "execute_result"
    }
   ],
   "source": [
    "function RS(Pk, Λ; N=100, tol=1e-5, maxiter=100, damp=0.9, maxd=lastindex(Λ))\n",
    "    ks = [k for k in eachindex(Pk) if Pk[k] > tol]\n",
    "    ds = [d for d in eachindex(Λ) if Λ[d] > tol]\n",
    "    @assert sum(Pk[ks]) ≈ 1 && sum(Λ[ds]) ≈ 1\n",
    "    \n",
    "    R =  sum(k*Pk[k] for k=ks) / sum(d*Λ[d] for d=ds)\n",
    "\n",
    "    p = fill(1.0, -1:1); p ./= sum(p)\n",
    "    q = fill(0.0, -maxd:maxd) \n",
    "    for iter=1:maxiter\n",
    "        q1 = sum(d*Λ[d]*iter_variable(p, d-1, maxd) for d=ds)\n",
    "        q1 ./= sum(q)\n",
    "        @show q\n",
    "        p1 = sum(k*Pk[k]*iter_factor(q, k-1) for k=ks)\n",
    "        p1 ./= sum(p1)\n",
    "        @show p1\n",
    "        err = min(maximum(abs, p1 - p),maximum(abs, q1 - q)) ; err < tol && (@show err iter; break)\n",
    "        q .= q .* damp .+ q1 .* (1-damp)\n",
    "        p .= p .* damp .+ p1 .* (1-damp)\n",
    "    end\n",
    "    p, q, R\n",
    "end"
   ]
  },
  {
   "cell_type": "code",
   "execution_count": 58,
   "metadata": {},
   "outputs": [
    {
     "name": "stdout",
     "output_type": "stream",
     "text": [
      "q = [0.0, 0.04347826086956521, 0.28985507246376807, 0.3333333333333333, 0.28985507246376807, 0.04347826086956521, 0.0]\n",
      "p1 = [0.33333333333333337, 0.33333333333333326, 0.33333333333333337]\n",
      "err = 5.551115123125783e-17\n",
      "iter = 1\n"
     ]
    },
    {
     "data": {
      "text/plain": [
       "([0.3333333333333333, 0.3333333333333333, 0.3333333333333333], [0.0, 0.04347826086956521, 0.28985507246376807, 0.3333333333333333, 0.28985507246376807, 0.04347826086956521, 0.0], 0.8695652173913044)"
      ]
     },
     "execution_count": 58,
     "metadata": {},
     "output_type": "execute_result"
    }
   ],
   "source": [
    "Λ = OffsetArray([0, 0, 0.7, 0.3], 0:3)\n",
    "Pk = OffsetArray([0, 0, 1, 0], 0:3)\n",
    "RS(Pk, Λ) "
   ]
  },
  {
   "cell_type": "code",
   "execution_count": 59,
   "metadata": {},
   "outputs": [
    {
     "data": {
      "text/plain": [
       "3-element OffsetArray(::Vector{Float64}, -1:1) with eltype Float64 with indices -1:1:\n",
       " 0.6666666666666667\n",
       " 0.6666666666666665\n",
       " 0.6666666666666667"
      ]
     },
     "execution_count": 59,
     "metadata": {},
     "output_type": "execute_result"
    }
   ],
   "source": [
    "tol = 1e-5\n",
    "q = OffsetArray([0.0, 0.04347826086956521, 0.28985507246376807, 0.3333333333333333, 0.28985507246376807, 0.04347826086956521, 0.0], -3:3)\n",
    "ks = [k for k in eachindex(Pk) if Pk[k] > tol]\n",
    "sum(k*Pk[k]*iter_factor(q, k-1) for k in ks)"
   ]
  },
  {
   "cell_type": "code",
   "execution_count": null,
   "metadata": {},
   "outputs": [],
   "source": []
  }
 ],
 "metadata": {
  "kernelspec": {
   "display_name": "Julia 1.6.1-pre",
   "language": "julia",
   "name": "julia-1.6"
  },
  "language_info": {
   "file_extension": ".jl",
   "mimetype": "application/julia",
   "name": "julia",
   "version": "1.6.1"
  }
 },
 "nbformat": 4,
 "nbformat_minor": 4
}
