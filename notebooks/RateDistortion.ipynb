{
 "cells": [
  {
   "cell_type": "markdown",
   "metadata": {},
   "source": [
    "$$u_{ai}\\left(\\sigma_{i}\\right)=\\sigma_{i}f_{ai}+g_{ai}$$\n",
    "\n",
    "\\begin{align*}\n",
    "u_{ai}\\left(\\sigma_{i}\\right)= & \\max_{\\{\\sigma_{j}:j\\in\\partial a\\setminus i\\}:\\prod_{j}\\sigma_{j}=1}\\sum_{j\\in\\partial a\\setminus i}u_{ja}\\left(\\sigma_{j}\\right)+\\sigma_{j}s_{j}+const\\\\\n",
    "b_{i}\\left(\\sigma_{i}\\right)= & u_{ai}\\left(\\sigma_{i}\\right)+u_{bi}\\left(\\sigma_{i}\\right)+\\sigma_{i}s_{i}+const=b_{i}\\sigma_{i}+const\\\\\n",
    "b_{i}= & \\frac{1}{2}\\left[f_{ai}+f_{bi}+s_{i}-\\left(-f_{ai}-f_{bi}-s_{i}\\right)\\right]\\\\\n",
    "b_{i}= & f_{ai}+f_{bi}+s_{i}\\\\\n",
    "D= & \\max_{\\sigma_{i}}\\sigma_{i}\\left(b_{i}+s_{i}\\right)-\\max_{\\sigma_{i}}b_{i}\\sigma_{i}\\\\\n",
    "= & \\left|b_{i}+s_{i}\\right|-\\left|b_{i}\\right|\\\\\n",
    "= & s_{i}\\text{sign}\\left(b_{i}\\right)\\\\\n",
    "= & s_{i}\\text{sign}\\left(f_{ai}+f_{bi}+s_{i}\\right)\\\\\n",
    "= & \\max_{\\sigma_{i}}\\left(b\\left(\\sigma_{i}\\right)+\\sigma_{i}s_{i}\\right)-\\max_{\\sigma_{i}}b\\left(\\sigma_{i}\\right)\\\\\n",
    "= & \\text{sign}\\left(u_{ai}\\left(\\sigma_{i}\\right)+u_{bi}\\left(\\sigma_{i}\\right)+\\sigma_{i}s_{i}\\right)s_{i}\\\\\n",
    "\\sigma_{i}f_{ai}= & \\max_{\\{\\sigma_{j}:j\\in\\partial a\\setminus i\\}:\\prod_{j}\\sigma_{j}=1}\\sum_{j\\in\\partial a\\setminus i}f_{ja}\\sigma_{j}+\\sigma_{j}s_{j}+const\\\\\n",
    "f_{ai}= & \\frac{1}{2}\\left[\\max_{\\{\\sigma_{j}:j\\in\\partial a\\setminus i\\}:\\prod_{j\\neq i}\\sigma_{j}=1}\\left(\\sum_{j\\in\\partial a\\setminus i}\\left(f_{ja}+s_{j}\\right)\\sigma_{j}\\right)-\\max_{\\{\\sigma_{j}:j\\in\\partial a\\setminus i\\}:\\prod_{j\\neq i}\\sigma_{j}=-1}\\left(\\sum_{j\\in\\partial a\\setminus i}\\left(f_{ja}+s_{j}\\right)\\sigma_{j}\\right)\\right]\\\\\n",
    "= & \\frac{1}{2}\\begin{cases}\n",
    "\\sum_{j\\in\\partial a\\setminus i}\\left|f_{ja}+s_{j}\\right| & \\text{if }\\prod\\left(f_{ja}+s_{j}\\right)>0\\\\\n",
    "\\sum_{j\\in\\partial a\\setminus i}\\left|f_{ja}+s_{j}\\right|-2\\min_{j\\in\\partial a\\setminus i}\\left|f_{ja}+s_{j}\\right| & \\text{if }\\prod\\left(f_{ja}+s_{j}\\right)<0\n",
    "\\end{cases}-\\\\\n",
    " & -\\frac{1}{2}\\begin{cases}\n",
    "\\sum_{j\\in\\partial a\\setminus i}\\left|f_{ja}+s_{j}\\right| & \\text{if }\\prod\\left(f_{ja}+s_{j}\\right)<0\\\\\n",
    "\\sum_{j\\in\\partial a\\setminus i}\\left|f_{ja}+s_{j}\\right|-2\\min_{j\\in\\partial a\\setminus i}\\left|f_{ja}+s_{j}\\right| & \\text{if }\\prod\\left(f_{ja}+s_{j}\\right)>0\n",
    "\\end{cases}\\\\\n",
    "= & \\begin{cases}\n",
    "\\min_{j\\in\\partial a\\setminus i}\\left|f_{ja}+s_{j}\\right| & \\text{if }\\prod\\left(f_{ja}+s_{j}\\right)>0\\\\\n",
    "-\\min_{j\\in\\partial a\\setminus i}\\left|f_{ja}+s_{j}\\right| & \\text{if }\\prod\\left(f_{ja}+s_{j}\\right)<0\n",
    "\\end{cases}\\\\\n",
    "f_{ai}= & \\min_{j\\in\\partial a\\setminus i}\\left|f_{ja}+s_{j}\\right|\\prod_{j\\in\\partial a\\setminus i}\\text{sign}\\left(f_{ja}+s_{j}\\right)\\\\\n",
    "\\end{align*}"
   ]
  },
  {
   "cell_type": "markdown",
   "metadata": {},
   "source": [
    "\\begin{align*}\n",
    "p\\left(f\\right)= & \\frac{1}{2^{k}}\\sum_{f_{1},\\dots,f_{k}}\\sum_{s_{1},\\dots,s_{k}}\\delta\\left(f;\\min_{j=1,\\dots,k}\\left|f_{j}+s_{j}\\right|\\prod_{j=1}^{k}\\text{sign}\\left(f_{j}+s_{j}\\right)\\right)\\prod_{j=1}^{k}p\\left(f_{j}\\right)\\\\\n",
    "& \\frac{1}{2^{k}}\\sum_{f_{1},\\dots,f_{k}}\\delta\\left(f;\\min_{j=1,\\dots,k}\\left|f_{j}\\right|\\prod_{j=1}^{k}\\text{sign}\\left(f_{j}\\right)\\right)\\prod_{j=1}^{k}\\sum_{s_j}p\\left(f_{j}+s_j\\right)\\\\\n",
    "O= & \\frac{1}{2}\\sum_{f_{1},f_{2}}\\sum_{s\\in\\pm1}s\\text{sign}\\left(f_{1}+f_{2}+s\\right)p\\left(f_{1}\\right)p\\left(f_{2}\\right)\\\\\n",
    "=&\\frac{1}{2}\\sum_{f_{1},f_{2}}\\sum_{s\\in\\pm1}\\text{sign}\\left(s(f_{1}+f_{2})+1\\right)p\\left(f_{1}\\right)p\\left(f_{2}\\right)\n",
    "\\end{align*}"
   ]
  },
  {
   "cell_type": "code",
   "execution_count": 138,
   "metadata": {},
   "outputs": [
    {
     "data": {
      "text/plain": [
       "itergen (generic function with 1 method)"
      ]
     },
     "execution_count": 138,
     "metadata": {},
     "output_type": "execute_result"
    }
   ],
   "source": [
    "using OffsetArrays\n",
    "\n",
    "\n",
    "MS(f...) = minimum(abs.(f))*prod(sign.(f))\n",
    "\n",
    "function iter3(p)\n",
    "    p1 = copy(p)\n",
    "    p1 .= 0.0\n",
    "    for f1=-N:N\n",
    "        for f2=-N:N\n",
    "            for s1 = (-1,1)\n",
    "                for s2 = (-1,1)\n",
    "                    f = MS(f1+s1,f2+s2)\n",
    "                    p1[clamp(f, -N, N)] += p[f1]*p[f2]/4\n",
    "                end\n",
    "            end\n",
    "        end\n",
    "    end\n",
    "    p1 / sum(p1)\n",
    "end\n",
    "\n",
    "function iter4(p)\n",
    "    N = lastindex(p)\n",
    "    p1 = copy(p)\n",
    "    p1 .= 0.0\n",
    "    for f1=-N:N\n",
    "        for f2=-N:N\n",
    "            for f3=-N:N\n",
    "                for s1 = (-1,1)\n",
    "                    for s2 = (-1,1)\n",
    "                        for s3 = (-1,1)\n",
    "                            f = MS(f1+s1,f2+s2,f3+s3)\n",
    "                            p1[clamp(f, -N, N)] += p[f1]*p[f2]*p[f3]\n",
    "                        end\n",
    "                    end\n",
    "                end\n",
    "            end\n",
    "        end\n",
    "    end\n",
    "    p1 / sum(p1)\n",
    "end\n",
    "\n",
    "\n",
    "function itergen(p,K)\n",
    "    N = lastindex(p)\n",
    "    p1 = copy(p)\n",
    "    p1 .= 0\n",
    "    S = CartesianIndices(Tuple(fill(0:1,K-1)))\n",
    "    for F in CartesianIndices(Tuple(fill(-N:N,K-1)))\n",
    "        ff = Tuple(F)\n",
    "        P = prod(p[fi] for fi in ff)\n",
    "        for fs in map(s -> ff .+ (2 .* Tuple(s) .- 1), S)\n",
    "            f = minimum(abs.(fs))*sign(prod(fs))\n",
    "            #println(\"$ff $fs $f $P\")\n",
    "            p1[clamp(f, -N, N)] += P\n",
    "        end\n",
    "    end\n",
    "    p1 / sum(p1)\n",
    "end"
   ]
  },
  {
   "cell_type": "code",
   "execution_count": 156,
   "metadata": {},
   "outputs": [
    {
     "data": {
      "text/plain": [
       "15×2 Matrix{Float64}:\n",
       " 1.82615e-52  1.74776e-52\n",
       " 3.33866e-27  3.31785e-27\n",
       " 6.99126e-14  6.98397e-14\n",
       " 3.49772e-7   3.49759e-7\n",
       " 0.000847722  0.000847676\n",
       " 0.0399563    0.039957\n",
       " 0.245227     0.245223\n",
       " 0.427938     0.427943\n",
       " 0.245227     0.245223\n",
       " 0.0399563    0.039957\n",
       " 0.000847722  0.000847676\n",
       " 3.49772e-7   3.49759e-7\n",
       " 6.99126e-14  6.98397e-14\n",
       " 3.33866e-27  3.31785e-27\n",
       " 1.82615e-52  1.74776e-52"
      ]
     },
     "execution_count": 156,
     "metadata": {},
     "output_type": "execute_result"
    }
   ],
   "source": [
    "N= 7\n",
    "N1 = 8\n",
    "p=OffsetArray(zeros(2N1+1), -N1:N1);\n",
    "p[-N+1:N-1] .= 1/(2N-1)\n",
    "q1 = copy(p)\n",
    "q2 = copy(p)\n",
    "\n",
    "for i=1:10\n",
    "    q1 = itergen(q1,3)\n",
    "    q2 = iter(q2,3)\n",
    "end\n",
    "[q1[-N:N] q2[-N:N]]"
   ]
  },
  {
   "cell_type": "markdown",
   "metadata": {},
   "source": [
    "\\begin{align*}\n",
    "-F_{a} & =\\frac{1}{\\beta}\\log\\sum_{\\sigma:sat}\\prod_{i\\in\\partial a}\\frac{e^{\\beta\\left(f_{bi}+s_{i}\\right)\\sigma_{i}}}{2\\cosh\\left(\\beta f_{bi}\\right)}\\\\\n",
    " & =\\frac{1}{\\beta}\\log\\sum_{\\sigma:sat}e^{\\beta\\sum_{i\\in\\partial a}\\left(f_{bi}+s_{i}\\right)\\sigma_{i}}-\\frac{1}{\\beta}\\sum_{i\\in\\partial a}\\log2\\cosh\\left(\\beta f_{bi}\\right)\\\\\n",
    " & \\to\\max_{\\sigma:sat}\\sum_{i\\in\\partial a}\\left(f_{bi}+s_{i}\\right)\\sigma_{i}-\\sum_{i\\in\\partial a}\\left|f_{bi}\\right|\\\\\n",
    " & =\\sum_{i\\in\\partial a}\\left\\{ \\left|f_{bi}+s_{i}\\right|-\\left|f_{bi}\\right|\\right\\} -\\Theta\\left(-\\prod_{i\\in\\partial a}\\left(f_{bi}+s_{i}\\right)\\right)2\\min_{i\\in\\partial a}\\left|f_{bi}+s_{i}\\right|\\\\\n",
    " & =\\sum_{i\\in\\partial a}\\left\\{ \\left|f_{bi}+s_{i}\\right|-\\left|f_{bi}\\right|\\right\\} -\\Theta\\left(-\\prod_{i\\in\\partial a}\\left(f_{bi}+s_{i}\\right)\\right)2\\min_{i\\in\\partial a}\\left|f_{bi}+s_{i}\\right|\\\\\n",
    "-F_{i} & =\\frac{1}{\\beta}\\log\\sum_{\\sigma_{i}}\\frac{e^{\\beta\\sigma_{i}\\left(f_{ai}+f_{bi}+s_{i}\\right)}}{2\\cosh\\left(\\beta f_{ai}\\right)2\\cosh\\left(\\beta f_{bi}\\right)}\\\\\n",
    " & =\\frac{1}{\\beta}\\log\\sum_{\\sigma_{i}}e^{\\beta\\sigma_{i}\\left(f_{ai}+f_{bi}+s_{i}\\right)}-\\frac{1}{\\beta}\\log2\\cosh\\left(\\beta f_{ai}\\right)-\\frac{1}{\\beta}\\log2\\cosh\\left(\\beta f_{bi}\\right)\\\\\n",
    " & \\to\\left|f_{ai}+f_{bi}+s_{i}\\right|-\\left|f_{ai}\\right|-\\left|f_{bi}\\right|\\\\\n",
    "O=-F= & -\\sum_{a}F_{a}+\\sum_{i}F_{i}\n",
    "\\end{align*}"
   ]
  },
  {
   "cell_type": "code",
   "execution_count": 38,
   "metadata": {},
   "outputs": [],
   "source": [
    "function over3(p)\n",
    "    O = 0.0\n",
    "    N = lastindex(p)\n",
    "    for f1=-N:N\n",
    "        p1 = p[f1]\n",
    "        for f2=-N:N\n",
    "            p12 = p1*p[f2]\n",
    "            for f3=-N:N\n",
    "                p123 = p12*p[f3]\n",
    "                for s1 = (-1,1)\n",
    "                    for s2 = (-1,1)\n",
    "                        for s3 = (-1,1)\n",
    "                            P = p123/8\n",
    "                            f = (f1,f2,f3)\n",
    "                            s = (s1,s2,s3)\n",
    "                            fs = f .+ s\n",
    "                            O += P*sum(abs.(fs).-abs.(f))\n",
    "                            if prod(fs) < 0\n",
    "                                    O -= P*2*minimum(abs.(fs))\n",
    "                            end\n",
    "                        end\n",
    "                    end\n",
    "                end\n",
    "            end\n",
    "        end\n",
    "    end\n",
    "    O\n",
    "end\n",
    "function overlink(p)\n",
    "    O = 0.0\n",
    "    N = lastindex(p)\n",
    "    for f1=-N:N\n",
    "        for f2=-N:N\n",
    "            for s = (-1,1)\n",
    "                O += p[f1]*p[f2]*0.5*(abs(f1+f2+s)-abs(f1)-abs(f2))\n",
    "            end\n",
    "        end\n",
    "    end\n",
    "    O\n",
    "end"
   ]
  },
  {
   "cell_type": "markdown",
   "metadata": {},
   "source": [
    "Old stuff"
   ]
  },
  {
   "cell_type": "code",
   "execution_count": 38,
   "metadata": {},
   "outputs": [
    {
     "data": {
      "text/plain": [
       "distortion (generic function with 1 method)"
      ]
     },
     "execution_count": 38,
     "metadata": {},
     "output_type": "execute_result"
    }
   ],
   "source": [
    "\n",
    "function overlap(p)\n",
    "    O = 0.0\n",
    "    N = lastindex(p)\n",
    "    for f1=-N:N\n",
    "        for f2=-N:N\n",
    "            for s=(-1,1)\n",
    "                O += 0.5s*sign(f1+f2+s)*p[f1]*p[f2]\n",
    "            end\n",
    "        end\n",
    "    end\n",
    "    O\n",
    "end\n",
    "distortion(p)=0.5(1-overlap(p))"
   ]
  },
  {
   "cell_type": "markdown",
   "metadata": {},
   "source": [
    "$$f = \\min_{j=1,\\dots,k}\\left|f_{j}+s_{j}\\right|\\prod_{j=1}^k\\text{sign}\\left(f_{j}+s_{j}\\right)$$"
   ]
  },
  {
   "cell_type": "markdown",
   "metadata": {},
   "source": [
    "\\begin{align*}\n",
    "p\\left(f\\right)= & \\frac{1}{2^{k}}\\sum_{f_{1},\\dots,f_{k}}\\sum_{s_{1},\\dots,s_{k}}\\delta\\left(f;\\min_{j=1,\\dots,k}\\left|f_{j}+s_{j}\\right|\\prod_{j=1}^{k}\\text{sign}\\left(f_{j}+s_{j}\\right)\\right)\\prod_{j=1}^{k}p\\left(f_{j}\\right)\\\\\n",
    "= & \\sum_{f_{1},\\dots,f_{k}}\\delta\\left(f;\\min_{j=1,\\dots,k}\\left|f_{j}\\right|\\prod_{j=1}^{k}\\text{sign}\\left(f_{j}\\right)\\right)\\prod_{j=1}^{k}\\frac{1}{2}\\sum_{s_{j}}p\\left(f_{j}-s_{j}\\right)\\\\\n",
    "= & \\begin{cases}\n",
    "\\frac{1}{2}\\sum_{f_{1},\\dots,f_{k}>0}\\delta\\left(f;\\min_{j=1,\\dots,k}f_{j}\\right)\\prod_{j=1}^{k}\\sum_{s_{j}}p\\left(f_{j}-s_{j}\\right) & \\text{ for }f>0\\\\\n",
    "\\sum_{n=1}^{k}\\binom{k}{n}\\left(\\frac{1}{2}\\sum_{s_{j}}p\\left(s_{j}\\right)\\right)^{k-n}\\left(\\sum_{f'>0}\\sum_{s}p\\left(f'-s\\right)\\right)^{n} & \\text{ for }f=0\n",
    "\\end{cases}\\\\\n",
    "= & \\begin{cases}\n",
    "\\frac{1}{2}\\left\\{ \\left(\\sum_{f'\\geq f}\\sum_{s}p\\left(f'+s\\right)\\right)^{k}-\\left(\\sum_{f'>f}\\sum_{s}p\\left(f'+s\\right)\\right)^{k}\\right\\}  & \\text{ for }f>0\\\\\n",
    "\\sum_{n=1}^{k}\\binom{k}{n}\\left(\\frac{1}{2}\\sum_{s}p\\left(s\\right)\\right)^{k-n}\\left(\\sum_{f'>0}\\sum_{s}p\\left(f'+s\\right)\\right)^{n} & \\text{ for }f=0\n",
    "\\end{cases}\\\\\n",
    "= & \\begin{cases}\n",
    "\\frac{1}{2}\\left\\{ \\left(\\sum_{f'\\geq f}\\sum_{s\\in\\pm1}p\\left(f'+s\\right)\\right)^{k}-\\left(\\sum_{f'>f}\\sum_{s\\in\\pm1}p\\left(f'+s\\right)\\right)^{k}\\right\\}  & \\text{ for }f>0\\\\\n",
    "\\left(\\frac{1}{2}\\sum_{s\\in\\pm1}p\\left(s\\right)+\\sum_{f'>0}\\sum_{s\\in\\pm1}p\\left(f'+s\\right)\\right)^{k}-\\left(\\sum_{f'>0}\\sum_{s\\in\\pm1}p\\left(f'+s\\right)\\right)^{k} & \\text{ for }f=0\n",
    "\\end{cases}\n",
    "\\end{align*}\n"
   ]
  },
  {
   "cell_type": "code",
   "execution_count": 89,
   "metadata": {},
   "outputs": [
    {
     "data": {
      "text/plain": [
       "iter (generic function with 1 method)"
      ]
     },
     "execution_count": 89,
     "metadata": {},
     "output_type": "execute_result"
    }
   ],
   "source": [
    "function iter(p,K)\n",
    "    k = K - 1\n",
    "    p1 = copy(p)\n",
    "    p1 .= 0.0\n",
    "    N = lastindex(p1)-1\n",
    "    for f = 1:N\n",
    "        v1 = p[f+1]+p[f-1]\n",
    "        v2 = sum((p[f1+1]+p[f1-1] for f1=f+1:N), init=0.0)\n",
    "        v = (v1+v2)^k-v2^k\n",
    "        p1[+f] = v/2\n",
    "        p1[-f] = v/2\n",
    "    end\n",
    "    v1 = (p[1]+p[-1])/2\n",
    "    v2 = sum(p[f1+1]+p[f1-1] for f1=1:N)\n",
    "    p1[0] = (v1+v2)^k-v2^k\n",
    "    p1 ./ sum(p1)\n",
    "end"
   ]
  },
  {
   "cell_type": "code",
   "execution_count": 157,
   "metadata": {},
   "outputs": [
    {
     "data": {
      "text/plain": [
       "21×2 Matrix{Float64}:\n",
       " 0.0           0.0\n",
       " 1.48172e-216  1.48172e-216\n",
       " 1.72146e-108  1.72146e-108\n",
       " 1.85551e-54   1.85551e-54\n",
       " 1.9264e-27    1.9264e-27\n",
       " 6.2071e-14    6.2071e-14\n",
       " 3.52338e-7    3.52338e-7\n",
       " 0.000839097   0.000839097\n",
       " 0.0401346     0.0401346\n",
       " 0.244452      0.244452\n",
       " 0.429148      0.429148\n",
       " 0.244452      0.244452\n",
       " 0.0401346     0.0401346\n",
       " 0.000839097   0.000839097\n",
       " 3.52338e-7    3.52338e-7\n",
       " 6.2071e-14    6.2071e-14\n",
       " 1.9264e-27    1.9264e-27\n",
       " 1.85551e-54   1.85551e-54\n",
       " 1.72146e-108  1.72146e-108\n",
       " 1.48172e-216  1.48172e-216\n",
       " 0.0           0.0"
      ]
     },
     "execution_count": 157,
     "metadata": {},
     "output_type": "execute_result"
    }
   ],
   "source": [
    "N=10\n",
    "N1 = 20\n",
    "p=OffsetArray(zeros(2N1+1), -N1:N1);\n",
    "p[-N+1:N-1] .= rand(2N-1)\n",
    "q1 = copy(p)\n",
    "q2 = copy(p)\n",
    "\n",
    "for i=1:1000\n",
    "    q1 = itergen(q1,3)\n",
    "    q2 = iter(q2,3)\n",
    "end\n",
    "[q1[-N:N] q2[-N:N]]"
   ]
  },
  {
   "cell_type": "code",
   "execution_count": 29,
   "metadata": {},
   "outputs": [
    {
     "data": {
      "text/plain": [
       "0.5656193827200745"
      ]
     },
     "execution_count": 29,
     "metadata": {},
     "output_type": "execute_result"
    }
   ],
   "source": [
    "over3(q1)/2"
   ]
  },
  {
   "cell_type": "code",
   "execution_count": 30,
   "metadata": {},
   "outputs": [
    {
     "data": {
      "text/plain": [
       "23×2 Matrix{Float64}:\n",
       " 0.0         0.0\n",
       " 0.00138504  0.00138504\n",
       " 0.00415512  0.00415512\n",
       " 0.0166205   0.0166205\n",
       " 0.0277008   0.0277008\n",
       " 0.0387812   0.0387812\n",
       " 0.0498615   0.0498615\n",
       " 0.0609418   0.0609418\n",
       " 0.0720222   0.0720222\n",
       " 0.0831025   0.0831025\n",
       " 0.0941828   0.0941828\n",
       " 0.102493    0.102493\n",
       " 0.0941828   0.0941828\n",
       " 0.0831025   0.0831025\n",
       " 0.0720222   0.0720222\n",
       " 0.0609418   0.0609418\n",
       " 0.0498615   0.0498615\n",
       " 0.0387812   0.0387812\n",
       " 0.0277008   0.0277008\n",
       " 0.0166205   0.0166205\n",
       " 0.00415512  0.00415512\n",
       " 0.00138504  0.00138504\n",
       " 0.0         0.0"
      ]
     },
     "execution_count": 30,
     "metadata": {},
     "output_type": "execute_result"
    }
   ],
   "source": [
    "N=10\n",
    "p=OffsetArray(zeros(2N+3), -N-1:N+1);\n",
    "p[-N+1:N-1] .= 1/(2N+1)\n",
    "[iter3(p) iter(p,2)]"
   ]
  },
  {
   "cell_type": "code",
   "execution_count": 46,
   "metadata": {},
   "outputs": [
    {
     "data": {
      "text/plain": [
       "findsolution (generic function with 1 method)"
      ]
     },
     "execution_count": 46,
     "metadata": {},
     "output_type": "execute_result"
    }
   ],
   "source": [
    "function findsolution(k)\n",
    "    err = Inf\n",
    "    N=6\n",
    "    p=OffsetArray(zeros(2N+3), -N-1:N+1);\n",
    "    p[-N+1:N-1] .= 1/(2N+1)\n",
    "    #p=OffsetArray(zeros(2N+3), -N-1:N+1);\n",
    "    #p[0]=1\n",
    "    p ./ sum(p);\n",
    "    while err > 1e-15\n",
    "        q = iter(p,k-1)\n",
    "        err = maximum(abs.(q-p))\n",
    "        p = 0.1q + 0.9p\n",
    "        #println(err)\n",
    "    end\n",
    "    println(\"$k $err\")\n",
    "    #distortion(p)\n",
    "    p\n",
    "end"
   ]
  },
  {
   "cell_type": "code",
   "execution_count": 158,
   "metadata": {},
   "outputs": [
    {
     "name": "stdout",
     "output_type": "stream",
     "text": [
      "3 9.71445146547012e-16\n"
     ]
    },
    {
     "data": {
      "text/plain": [
       "15-element OffsetArray(::Vector{Float64}, -7:7) with eltype Float64 with indices -7:7:\n",
       " 0.0\n",
       " 0.025072087818178587\n",
       " 0.04888695646123141\n",
       " 0.07025042897316403\n",
       " 0.0880912516361358\n",
       " 0.10151481110503835\n",
       " 0.10984799405619905\n",
       " 0.11267293990010585\n",
       " 0.10984799405619905\n",
       " 0.10151481110503835\n",
       " 0.0880912516361358\n",
       " 0.07025042897316403\n",
       " 0.04888695646123141\n",
       " 0.025072087818178587\n",
       " 0.0"
      ]
     },
     "execution_count": 158,
     "metadata": {},
     "output_type": "execute_result"
    }
   ],
   "source": [
    "p = findsolution(3)"
   ]
  },
  {
   "cell_type": "code",
   "execution_count": 54,
   "metadata": {},
   "outputs": [
    {
     "data": {
      "text/plain": [
       "0.20962056095628406"
      ]
     },
     "execution_count": 54,
     "metadata": {},
     "output_type": "execute_result"
    }
   ],
   "source": [
    "O=over3(p)*2/3-overlink(p)\n",
    "(1-O)/2"
   ]
  },
  {
   "cell_type": "code",
   "execution_count": 55,
   "metadata": {},
   "outputs": [
    {
     "data": {
      "text/plain": [
       "0.23179709778534524"
      ]
     },
     "execution_count": 55,
     "metadata": {},
     "output_type": "execute_result"
    }
   ],
   "source": [
    "distortion(p)"
   ]
  },
  {
   "cell_type": "code",
   "execution_count": 11,
   "metadata": {},
   "outputs": [
    {
     "name": "stdout",
     "output_type": "stream",
     "text": [
      "3 9.43689570931383e-16\n",
      "4 9.992007221626409e-16\n",
      "5 8.881784197001252e-16\n",
      "6 8.881784197001252e-16\n",
      "7 9.992007221626409e-16\n",
      "8 8.881784197001252e-16\n",
      "9 9.992007221626409e-16\n",
      "10 9.992007221626409e-16\n"
     ]
    },
    {
     "data": {
      "text/plain": [
       "8×2 Matrix{Float64}:\n",
       " 0.333333  0.231797\n",
       " 0.5       0.182952\n",
       " 0.6       0.162348\n",
       " 0.666667  0.149329\n",
       " 0.714286  0.139138\n",
       " 0.75      0.130613\n",
       " 0.777778  0.123304\n",
       " 0.8       0.116943"
      ]
     },
     "execution_count": 11,
     "metadata": {},
     "output_type": "execute_result"
    }
   ],
   "source": [
    "Ks = 3:10\n",
    "D = distortion.(findsolution.(Ks))\n",
    "R = 1 .- 2 ./ Ks\n",
    "[R D]"
   ]
  },
  {
   "cell_type": "code",
   "execution_count": 20,
   "metadata": {},
   "outputs": [
    {
     "data": {
      "image/png": "[encoded data removed]",
      "text/plain": [
       "Figure(PyObject <Figure size 640x480 with 1 Axes>)"
      ]
     },
     "metadata": {},
     "output_type": "display_data"
    },
    {
     "data": {
      "text/plain": [
       "1-element Vector{PyCall.PyObject}:\n",
       " PyObject <matplotlib.lines.Line2D object at 0x7f7ab86ef7f0>"
      ]
     },
     "execution_count": 20,
     "metadata": {},
     "output_type": "execute_result"
    }
   ],
   "source": [
    "using PyPlot\n",
    "H(p)=1+p*log2(p)+(1-p)*log2(1-p)\n",
    "\n",
    "#xlim(0,1)\n",
    "#ylim(0,0.5)\n",
    "plot(R,D, \"+\")\n",
    "plot((0,1),(0.5,0))\n",
    "plot(H.(0:0.001:0.5), 0:0.001:0.5)"
   ]
  },
  {
   "cell_type": "code",
   "execution_count": 13,
   "metadata": {},
   "outputs": [],
   "source": [
    "#2N=kM; α=2/k; r=1-2/k"
   ]
  },
  {
   "cell_type": "code",
   "execution_count": 14,
   "metadata": {},
   "outputs": [],
   "source": [
    "using PyPlot"
   ]
  },
  {
   "cell_type": "code",
   "execution_count": 15,
   "metadata": {},
   "outputs": [
    {
     "data": {
      "image/png": "[encoded data removed]",
      "text/plain": [
       "Figure(PyObject <Figure size 640x480 with 1 Axes>)"
      ]
     },
     "metadata": {},
     "output_type": "display_data"
    }
   ],
   "source": [
    "N=20\n",
    "p = OffsetArray(zeros(2N+1), -N:N)\n",
    "p .= 1/length(p)\n",
    "#p .= 1/(2N+1)\n",
    "\n",
    "for i=1:100\n",
    "    p=iter(p,2)\n",
    "    plot(-N:N, p)\n",
    "end"
   ]
  },
  {
   "cell_type": "markdown",
   "metadata": {},
   "source": [
    "$$\\delta\\left(f;\\min_{j=1,\\dots,k}f_{j}\\right) = \\mathbb1[f\\leq f_j \\forall j]-\\mathbb1[f < f_j \\forall j]$$\n",
    "\n",
    "\n"
   ]
  },
  {
   "cell_type": "code",
   "execution_count": null,
   "metadata": {},
   "outputs": [],
   "source": []
  }
 ],
 "metadata": {
  "kernelspec": {
   "display_name": "Julia 1.6.0-DEV",
   "language": "julia",
   "name": "julia-1.6"
  },
  "language_info": {
   "file_extension": ".jl",
   "mimetype": "application/julia",
   "name": "julia",
   "version": "1.6.0"
  },
  "output_auto_scroll": true
 },
 "nbformat": 4,
 "nbformat_minor": 4
}
