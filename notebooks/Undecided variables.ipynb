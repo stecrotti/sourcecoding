{
 "cells": [
  {
   "cell_type": "markdown",
   "metadata": {},
   "source": [
    "# Undecided variables\n",
    "Check whether, with no symmetry-breaking noise, the decided variables of a max-sum fixed point correspond to those in the optimal solution"
   ]
  },
  {
   "cell_type": "code",
   "execution_count": 1,
   "metadata": {},
   "outputs": [],
   "source": [
    "include(\"../code/headers.jl\")"
   ]
  },
  {
   "cell_type": "code",
   "execution_count": 34,
   "metadata": {},
   "outputs": [],
   "source": [
    "bit2spin(x) = -2x+1\n",
    "spin2bit(σ) = 1/2*(1-σ);"
   ]
  },
  {
   "cell_type": "markdown",
   "metadata": {},
   "source": [
    "Build instance and duplicate it"
   ]
  },
  {
   "cell_type": "code",
   "execution_count": 33,
   "metadata": {},
   "outputs": [],
   "source": [
    "lm1 = LossyModel(Val(2), 10000, 5000)\n",
    "lm2 = deepcopy(lm1);"
   ]
  },
  {
   "cell_type": "markdown",
   "metadata": {},
   "source": [
    "Solve with optimal cycle"
   ]
  },
  {
   "cell_type": "code",
   "execution_count": 28,
   "metadata": {},
   "outputs": [
    {
     "name": "stdout",
     "output_type": "stream",
     "text": [
      "Iter 1. Distortion 0.182. Cycle weight -6430.0. Energy shift -3215.0\n",
      "Iter 2. Distortion 0.1416. Cycle weight -808.0. Energy shift -404.0\n",
      "Iter 3. Distortion 0.1416. Cycle weight 0.0. Energy shift 0.0\n"
     ]
    }
   ],
   "source": [
    "solve!(lm1, OptimalCycle())\n",
    "σ_optimal = bit2spin.(lm1.x);"
   ]
  },
  {
   "cell_type": "markdown",
   "metadata": {},
   "source": [
    "Solve with Max-Sum"
   ]
  },
  {
   "cell_type": "code",
   "execution_count": 29,
   "metadata": {},
   "outputs": [
    {
     "name": "stdout",
     "output_type": "stream",
     "text": [
      "solve!(lm2, ms) = BPResults{MS}\n",
      "  converged: Bool true\n",
      "  parity: Int64 1548\n",
      "  distortion: Float64 0.255\n",
      "  trials: Int64 1\n",
      "  iterations: Int64 8\n",
      "  maxdiff: Array{Float64}((0,)) Float64[]\n",
      "  codeword: BitArray{1}\n",
      "  maxchange: Array{Float64}((1000,)) [2.0, 2.0, 2.0, 2.0, 2.0, 1.0, 1.0, 0.0, NaN, NaN  …  NaN, NaN, NaN, NaN, NaN, NaN, NaN, NaN, NaN, NaN]\n",
      "\n"
     ]
    }
   ],
   "source": [
    "ms = MS(maxiter=1000, Tmax=1, convergence=:messages, tol=0.0, gamma=0.0, sigma=0.0)\n",
    "@show solve!(lm2, ms)\n",
    "σ_ms = sign.(lm2.fg.fields);"
   ]
  },
  {
   "cell_type": "markdown",
   "metadata": {},
   "source": [
    "Look only at decided variables and compare the two solutions"
   ]
  },
  {
   "cell_type": "code",
   "execution_count": 30,
   "metadata": {},
   "outputs": [
    {
     "data": {
      "text/plain": [
       "false"
      ]
     },
     "execution_count": 30,
     "metadata": {},
     "output_type": "execute_result"
    }
   ],
   "source": [
    "decided = σ_ms .!= 0\n",
    "all(σ_optimal[decided]==σ_ms[decided])"
   ]
  },
  {
   "cell_type": "code",
   "execution_count": 42,
   "metadata": {},
   "outputs": [
    {
     "name": "stdout",
     "output_type": "stream",
     "text": [
      "1. Distortion 0.6003\n",
      "2. Distortion 0.6932\n",
      "3. Distortion 0.6909\n",
      "4. Distortion 0.6908\n",
      "5. Distortion 0.6908\n",
      "6. Distortion 0.6908\n",
      "7. Distortion 0.6908\n",
      "8. Distortion 0.6908\n",
      "9. Distortion 0.6908\n",
      "10. Distortion 0.6908\n"
     ]
    }
   ],
   "source": [
    "lm1.x = zeros(Int, lm1.fg.n)\n",
    "lm1.x[decided] = spin2bit.(σ_ms[decided])\n",
    "\n",
    "for it = 1:10\n",
    "    H = full_adjmat(lm1.fg)\n",
    "    for v in 1:lm1.fg.n\n",
    "        if lm1.x[v] != lm1.y[v]\n",
    "            H[lm1.fg.m+v,:] .*= -1\n",
    "            H[:,lm1.fg.m+v] .*= -1\n",
    "        end      \n",
    "    end\n",
    "#     ms_decvars = guesses(lm2.fg)\n",
    "    for v in findall(decided)\n",
    "        H[lm1.fg.m+v,:] .*= -10000 \n",
    "        H[:,lm1.fg.m+v] .*= -10000\n",
    "    end\n",
    "    \n",
    "    op_, w = optimal_cycle(float.(H))\n",
    "    op = variables_from_cycle(op_, lm1.fg.m)\n",
    "    to_flip = unique!([tup[2] for tup in op])\n",
    "    lm1.x[to_flip] .⊻= 1\n",
    "    println(it, \". Distortion \", distortion(lm1))\n",
    "end"
   ]
  },
  {
   "cell_type": "code",
   "execution_count": 31,
   "metadata": {},
   "outputs": [
    {
     "data": {
      "text/plain": [
       "156"
      ]
     },
     "execution_count": 31,
     "metadata": {},
     "output_type": "execute_result"
    }
   ],
   "source": [
    "sum(σ_optimal[decided] .!= σ_ms[decided])"
   ]
  },
  {
   "cell_type": "code",
   "execution_count": null,
   "metadata": {},
   "outputs": [],
   "source": []
  }
 ],
 "metadata": {
  "kernelspec": {
   "display_name": "Julia 1.5.3",
   "language": "julia",
   "name": "julia-1.5"
  },
  "language_info": {
   "file_extension": ".jl",
   "mimetype": "application/julia",
   "name": "julia",
   "version": "1.5.3"
  },
  "toc-autonumbering": false,
  "toc-showcode": false
 },
 "nbformat": 4,
 "nbformat_minor": 4
}
