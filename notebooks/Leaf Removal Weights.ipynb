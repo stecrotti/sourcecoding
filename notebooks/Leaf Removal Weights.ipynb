{
 "cells": [
  {
   "cell_type": "code",
   "execution_count": 78,
   "metadata": {},
   "outputs": [
    {
     "data": {
      "text/plain": [
       "valid_degrees (generic function with 2 methods)"
      ]
     },
     "execution_count": 78,
     "metadata": {},
     "output_type": "execute_result"
    }
   ],
   "source": [
    "using StatsBase, Plots\n",
    "include(\"../code/slim_graphs.jl\")\n",
    "include(\"../code/matrix_generator.jl\")"
   ]
  },
  {
   "cell_type": "markdown",
   "metadata": {},
   "source": [
    "## 1. Monitor the performance of leaf removal as a strategy to build basis"
   ]
  },
  {
   "cell_type": "markdown",
   "metadata": {},
   "source": [
    "Build an instance with $f_2=1, f_1\\approx 0$"
   ]
  },
  {
   "cell_type": "code",
   "execution_count": 127,
   "metadata": {},
   "outputs": [
    {
     "data": {
      "text/plain": [
       "3-element Vector{Int64}:\n",
       " 0\n",
       " 0\n",
       " 1"
      ]
     },
     "execution_count": 127,
     "metadata": {},
     "output_type": "execute_result"
    }
   ],
   "source": [
    "f1 = 0.0\n",
    "N = 8*10^4\n",
    "N1 = Int(N*f1)\n",
    "Q = mod1(sum(digits(2N-N1)),3)\n",
    "N1 = N1 + Q\n",
    "N2 = N - N1\n",
    "nedges = (N1+2N2)\n",
    "M = Int(nedges/3)\n",
    "Lambda = [N1, N2] / N\n",
    "@assert sum(Lambda)==1\n",
    "Rho = [0,0,1]"
   ]
  },
  {
   "cell_type": "code",
   "execution_count": 128,
   "metadata": {},
   "outputs": [],
   "source": [
    "Ht = ldpc_matrix(N, M, nedges, Lambda, Rho, accept_multi_edges=false)\n",
    "H = sparse(Ht');\n",
    "using BenchmarkTools"
   ]
  },
  {
   "cell_type": "markdown",
   "metadata": {},
   "source": [
    "Break down `findbasis(H, Ht) in Main at /home/crotti/sourcecoding/code/slim_graphs.jl:97` and benchmark each line"
   ]
  },
  {
   "cell_type": "code",
   "execution_count": 129,
   "metadata": {},
   "outputs": [
    {
     "name": "stdout",
     "output_type": "stream",
     "text": [
      "  16.222 ms (106756 allocations: 16.57 MiB)\n"
     ]
    }
   ],
   "source": [
    "rowperm, colperm = leaf_removal(H, Ht)\n",
    "@btime rowperm, colperm = leaf_removal(H, Ht);"
   ]
  },
  {
   "cell_type": "code",
   "execution_count": 130,
   "metadata": {},
   "outputs": [
    {
     "name": "stdout",
     "output_type": "stream",
     "text": [
      "  12.715 ms (20 allocations: 4.07 MiB)\n"
     ]
    }
   ],
   "source": [
    "Hnew = H[rowperm, colperm]\n",
    "@btime Hnew = H[rowperm, colperm];"
   ]
  },
  {
   "cell_type": "code",
   "execution_count": 131,
   "metadata": {},
   "outputs": [
    {
     "name": "stdout",
     "output_type": "stream",
     "text": [
      "  1.017 ms (0 allocations: 0 bytes)\n"
     ]
    }
   ],
   "source": [
    "@btime ut2diagGF2!($(copy(Hnew)));"
   ]
  },
  {
   "cell_type": "code",
   "execution_count": 132,
   "metadata": {},
   "outputs": [],
   "source": [
    "ut2diagGF2!(Hnew);"
   ]
  },
  {
   "cell_type": "code",
   "execution_count": 133,
   "metadata": {},
   "outputs": [
    {
     "name": "stdout",
     "output_type": "stream",
     "text": [
      "  3.103 ms (31 allocations: 14.17 MiB)\n"
     ]
    }
   ],
   "source": [
    "B = [Hnew[:, size(Hnew, 1)+1:end]; I]\n",
    "@btime B = [Hnew[:, size(Hnew, 1)+1:end]; I];"
   ]
  },
  {
   "cell_type": "code",
   "execution_count": 134,
   "metadata": {},
   "outputs": [
    {
     "name": "stdout",
     "output_type": "stream",
     "text": [
      "  24.571 μs (6 allocations: 208.53 KiB)\n"
     ]
    }
   ],
   "source": [
    "indep = colperm[size(H,1)+1:end]\n",
    "@btime indep = colperm[size(H,1)+1:end];"
   ]
  },
  {
   "cell_type": "code",
   "execution_count": 135,
   "metadata": {},
   "outputs": [
    {
     "name": "stdout",
     "output_type": "stream",
     "text": [
      "  37.252 ms (23 allocations: 10.72 MiB)\n"
     ]
    }
   ],
   "source": [
    "@btime B[invperm(colperm),:], indep;"
   ]
  },
  {
   "cell_type": "markdown",
   "metadata": {},
   "source": [
    "### Scaling of the computation time"
   ]
  },
  {
   "cell_type": "code",
   "execution_count": null,
   "metadata": {
    "scrolled": true
   },
   "outputs": [
    {
     "name": "stdout",
     "output_type": "stream",
     "text": [
      "## Size 1 of 7\n",
      "## Size 2 of 7\n",
      "## Size 3 of 7\n",
      "## Size 4 of 7\n",
      "## Size 5 of 7\n",
      "## Size 6 of "
     ]
    }
   ],
   "source": [
    "f1 = 0.0\n",
    "Rho = [0,0,1]\n",
    "Ns = round.(Int,10 .^ (3:0.5:6))\n",
    "navg = 10\n",
    "times = zeros(length(Ns))\n",
    "memory = zeros(length(Ns))\n",
    "\n",
    "for (i,N) in pairs(Ns)\n",
    "    println(\"## Size $i of \", length(Ns))\n",
    "    N1 = Int(N*f1)\n",
    "    Q = mod1(sum(digits(2N-N1)),3)\n",
    "    N1 = N1 + Q\n",
    "    N2 = N - N1\n",
    "    nedges = (N1+2N2)\n",
    "    M = Int(nedges/3)\n",
    "    Lambda = [N1, N2] / N\n",
    "    @assert sum(Lambda)==1\n",
    "    Ht = ldpc_matrix(N, M, nedges, Lambda, Rho, accept_multi_edges=false)\n",
    "    H = sparse(Ht')\n",
    "    for j in 1:navg\n",
    "        t = @timed (B, indep = findbasis(H, Ht))\n",
    "        times[i] += t[2]/navg\n",
    "        memory[i] += t[3]/navg\n",
    "    end\n",
    "end"
   ]
  },
  {
   "cell_type": "code",
   "execution_count": null,
   "metadata": {},
   "outputs": [],
   "source": [
    "plot(Ns, times, marker=:circle, color=:blue, label=\"Time\", legend=:topleft, foreground_color_guide=:blue)\n",
    "plot!(twinx(), Ns, memory, marker=:circle, color=:red, label=\"Memory\", yforeground_color_guide=:red)\n",
    "plot!(xlabel=\"N\", right_margin=15Plots.mm)"
   ]
  },
  {
   "cell_type": "markdown",
   "metadata": {},
   "source": [
    "## 2. Observe horizontal and vertical weights"
   ]
  },
  {
   "cell_type": "code",
   "execution_count": null,
   "metadata": {},
   "outputs": [],
   "source": [
    "f1s = 0:0.1:0.9\n",
    "f1s = [0]\n",
    "N = 10^6\n",
    "horiz = []\n",
    "vert = []\n",
    "@showprogress for (i,f1) in enumerate(f1s)\n",
    "    N1 = Int(N*f1)\n",
    "    Q = mod1(sum(digits(2N-N1)),3)\n",
    "    N1 = N1 + Q\n",
    "    N2 = N - N1\n",
    "    nedges = (N1+2N2)\n",
    "    M = Int(nedges/3)\n",
    "    Lambda = [N1, N2] / N\n",
    "    @assert sum(Lambda)==1\n",
    "    Rho = [0,0,1]\n",
    "    Ht = ldpc_matrix(N, M, nedges, Lambda, Rho, accept_multi_edges=false)\n",
    "    H = sparse(Ht')\n",
    "    B = findbasis_partial(H, Ht)\n",
    "    push!(horiz, vec(sum(B,dims=2)))\n",
    "    push!(vert, vec(sum(B,dims=1)))\n",
    "end"
   ]
  },
  {
   "cell_type": "code",
   "execution_count": null,
   "metadata": {},
   "outputs": [],
   "source": [
    "colors = cgrad(:cool, length(f1s)+1, categorical = true)\n",
    "plv = plot()\n",
    "for i in eachindex(f1s)\n",
    "    hv = fit(Histogram, vert[i],nbins=20)\n",
    "    hv = normalize(hv)\n",
    "    plot!(plv, hv.edges[1][1:end-1], hv.weights, label=\"f1=$(f1s[i])\", color=colors[i])\n",
    "#     histogram!(plv, vert[i], yaxis=(:log10,(1e-5,Inf)), normalize=:pdf)\n",
    "end\n",
    "plot(plv, yaxis=(:log10,(1e-8,Inf)), xaxis=(:log10,(1,Inf)), title=\"Vertical weight\",\n",
    "    legend=:outertopright)"
   ]
  },
  {
   "cell_type": "code",
   "execution_count": null,
   "metadata": {
    "scrolled": false
   },
   "outputs": [],
   "source": [
    "colors = cgrad(:cool, length(f1s)+1, categorical = true)\n",
    "plh = plot()\n",
    "for i in 1:length(f1s)\n",
    "    hh = fit(Histogram,horiz[i],nbins=10^4)\n",
    "    hh = normalize(hh)\n",
    "    plot!(plh, hh.edges[1][1:end-1], hh.weights, label=\"f1=$(f1s[i])\", color=colors[i])\n",
    "#     histogram!(plv, vert[i], yaxis=(:log10,(1e-5,Inf)), normalize=:pdf)\n",
    "end\n",
    "plot(plh, yaxis=(:log10,(1e-8,Inf)), xaxis=(:log10,(1,Inf)), title=\"Horizontal weight\",\n",
    "    legend=:outertopright)"
   ]
  }
 ],
 "metadata": {
  "kernelspec": {
   "display_name": "Julia 1.6.1-pre",
   "language": "julia",
   "name": "julia-1.6"
  },
  "language_info": {
   "file_extension": ".jl",
   "mimetype": "application/julia",
   "name": "julia",
   "version": "1.6.1"
  }
 },
 "nbformat": 4,
 "nbformat_minor": 4
}
