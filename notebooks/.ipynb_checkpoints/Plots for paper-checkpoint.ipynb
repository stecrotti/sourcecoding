{
 "cells": [
  {
   "cell_type": "markdown",
   "metadata": {},
   "source": [
    "## 1. RS, MaxSum, Exact algo"
   ]
  },
  {
   "cell_type": "markdown",
   "metadata": {},
   "source": [
    "### RS"
   ]
  },
  {
   "cell_type": "code",
   "execution_count": 1,
   "metadata": {},
   "outputs": [],
   "source": [
    "R_rs = 0.01:0.01:0.99\n",
    "D_rs = [0.4546474073128681,0.43565049932361133,0.42092765046912317,0.40839439222208573,0.3972457420215144,0.3870702443196218,0.3776242651788484,0.36874955806591975,0.3603365352601175,0.3523056385673838,0.34459697668198624,0.33716414626734653,0.3299703418625086,0.3229857971761951,0.31618604029437997,0.30955066735206993,0.30306245811343413,0.2967067238049428,0.2904708168067388,0.2843437556958753,0.2783159341345032,0.27237889177802405,0.26652513178257226,0.2607479738209666,0.2550414345013817,0.24940012917780852,0.2438191906350483,0.2382942012118009,0.2328211357178961,0.22739631308980668,0.22201635516998064,0.21667815133009227,0.211378827914124,0.20688352899753953,0.20278317659003975,0.19868817793711935,0.1945975994415784,0.19051056552023182,0.18642625421128822,0.18234389327612,0.17826275673045133,0.17418216174918932,0.17010146589683228,0.16602006464188257,0.16193738911916555,0.15785290410864755,0.1537661062033548,0.14967652214243293,0.1455837072883871,0.14148724423013948,0.137998366107847,0.13448740638286893,0.13095421069018287,0.12739865696194796,0.12382065470933767,0.12022014422138577,0.11659709568295457,0.1129515082152911,0.10928340884389087,0.10559285139949881,0.10231362606715677,0.0989986151678956,0.09564794614910743,0.0922617930523803,0.0888403753926773,0.08538395674018595,0.0820151560863665,0.0788488704133426,0.07563678673548502,0.07237911796887381,0.06907615625262697,0.06591319349557895,0.06283584277258297,0.05970319879491964,0.056515457092013055,0.053562785457060835,0.05054512262289507,0.04752198628196386,0.04463641809759822,0.04167585667427448,0.0388827836051418,0.03604608454052277,0.033304960430999175,0.03060809220840449,0.027952952887639493,0.025359146185103376,0.022832861932172044,0.020370784947590925,0.017979055383501308,0.015666129177374533,0.013449978144655372,0.0113201258591068,0.009302254807509736,0.007397829094439923,0.0056264302423451595,0.004010648891537405,0.002577264143732827,0.0013672330158682189,0.0004509986577261871];"
   ]
  },
  {
   "cell_type": "code",
   "execution_count": 2,
   "metadata": {},
   "outputs": [
    {
     "data": {
      "text/plain": [
       "iter_slow_var (generic function with 1 method)"
      ]
     },
     "execution_count": 2,
     "metadata": {},
     "output_type": "execute_result"
    }
   ],
   "source": [
    "include(\"../code/bp_full.jl\")\n",
    "include(\"../code/optimal_cycle.jl\")\n",
    "include(\"../code/rs.jl\")"
   ]
  },
  {
   "cell_type": "code",
   "execution_count": 3,
   "metadata": {},
   "outputs": [],
   "source": [
    "Rs = 0.15:0.05:0.7\n",
    "Λ = [0, 1]\n",
    "Ks = [zeros(0) for _ in Rs]\n",
    "for (i,R) in enumerate(Rs)\n",
    "    α = 1-R\n",
    "    k = floor(Int, 2/α)\n",
    "    s = k+1-2/α\n",
    "    K = [fill(0,k-1); s; 1-s]\n",
    "    Ks[i] = K ./ sum(K)\n",
    "end"
   ]
  },
  {
   "cell_type": "markdown",
   "metadata": {},
   "source": [
    "### Exact algo"
   ]
  },
  {
   "cell_type": "code",
   "execution_count": null,
   "metadata": {},
   "outputs": [],
   "source": [
    "n = 900\n",
    "navg_exact = 500\n",
    "D_exact = [zeros(navg_exact) for _ in Rs]\n",
    "for i in eachindex(Rs)\n",
    "    m = round(Int,n*(1-Rs[i])); nedges = 2n\n",
    "    Threads.@threads for j in 1:navg_exact\n",
    "        H = permutedims(ldpc_matrix(n, m, nedges, Λ, Ks[i]))\n",
    "        s = rand((-1,1),n)\n",
    "        ovl, _, _ = findsol(H, s, verbose=false)\n",
    "        D_exact[i][j] = (1-ovl)/2\n",
    "    end\n",
    "    println(\"Rate $(Rs[i]) done\")\n",
    "    flush(stdout)\n",
    "end\n",
    "D_exact_avg = mean.(D_exact);"
   ]
  },
  {
   "cell_type": "markdown",
   "metadata": {},
   "source": [
    "### MaxSum"
   ]
  },
  {
   "cell_type": "code",
   "execution_count": null,
   "metadata": {},
   "outputs": [],
   "source": [
    "n = 900\n",
    "navg_ms = 500\n",
    "D_ms = [zeros(navg_ms) for _ in Rs]\n",
    "ntrials = 10^3\n",
    "for i in eachindex(Rs)\n",
    "    m = round(Int,n*(1-Rs[i])); nedges = 2n\n",
    "    Threads.@threads for j in 1:navg_ms\n",
    "        for t in 1:ntrials\n",
    "            H = permutedims(ldpc_matrix(n, m, nedges, Λ, Ks[i]))\n",
    "            s = rand((-1.,1.),n)\n",
    "            efield = [(si,-si).+ 1e-5.*(randn(),randn()) for si in s]\n",
    "            ms = BPFull(H, efield)\n",
    "            ε, iters = iteration_ms!(ms, maxiter=10^3, damp=0.0, tol=1e-12, rein=1e-4)\n",
    "            nunsat, ovl, dist = performance(ms, s)\n",
    "            if nunsat==0\n",
    "                D_ms[i][j] = dist\n",
    "#                 println(\"R=\", Rs[i], \". avg $j of $navg_ms. Converged after $t trials\")\n",
    "                break\n",
    "            elseif t==ntrials\n",
    "                error(\"R=\", Rs[i], \". avg $j of $navg_ms. UNCONVERGED after $t trials\")\n",
    "            end\n",
    "        end\n",
    "    end\n",
    "    println(\"Rate $(Rs[i]) done\")\n",
    "    flush(stdout)\n",
    "end\n",
    "D_ms_avg = mean.(D_ms);"
   ]
  },
  {
   "cell_type": "markdown",
   "metadata": {},
   "source": [
    "### Plot"
   ]
  },
  {
   "cell_type": "code",
   "execution_count": null,
   "metadata": {},
   "outputs": [],
   "source": [
    "pl = plot_rdb(; f30=false, f3=false)\n",
    "Plots.default(ms=3, msw=0, fontfamily=\"serif-roman\")\n",
    "plot!(pl, R_rs[1:end-3], D_rs[1:end-3], label=\"RS\", line=:dash, c=:gray)\n",
    "scatter!(pl, Rs, D_exact_avg, label=\"Exact\", m=:circle, msw=1.5, c=:white, msc=:red)\n",
    "scatter!(pl, Rs, D_ms_avg, label=\"MaxSum\", c=:green, m=:diamond)"
   ]
  },
  {
   "cell_type": "code",
   "execution_count": null,
   "metadata": {},
   "outputs": [],
   "source": []
  }
 ],
 "metadata": {
  "kernelspec": {
   "display_name": "Julia 1.6.1-pre",
   "language": "julia",
   "name": "julia-1.6"
  },
  "language_info": {
   "file_extension": ".jl",
   "mimetype": "application/julia",
   "name": "julia",
   "version": "1.6.1"
  }
 },
 "nbformat": 4,
 "nbformat_minor": 4
}
