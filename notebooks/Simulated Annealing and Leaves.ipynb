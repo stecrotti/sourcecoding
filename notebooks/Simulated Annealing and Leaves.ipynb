{
 "cells": [
  {
   "cell_type": "markdown",
   "metadata": {},
   "source": [
    "# Simulated Annealing and Leaves\n",
    "--------------\n",
    "\n",
    "Run Simulated Annealing with Monte Carlo move consisting of: \n",
    "* pick a random floppy variable\n",
    "* grow a seaweed\n",
    "* flip alla variables touched by the seaweed\n",
    "\n",
    "**Goal**: see whether we get better results with graphs with more leaves"
   ]
  },
  {
   "cell_type": "code",
   "execution_count": 9,
   "metadata": {},
   "outputs": [],
   "source": [
    "using Printf, Plots\n",
    "include(\"../code/headers.jl\")\n",
    "include(\"../code/SimulationNEW.jl\")"
   ]
  },
  {
   "cell_type": "markdown",
   "metadata": {},
   "source": [
    "With graph size $n=1000$, expose leaves via $b$-reduction with $b \\in [1, 3, 5, 10, 20, 50]$.\n",
    "\n",
    "_Note_ : the number of factors $m$ is always the same! If for example $b=4$, a graph with $m+4$ factors is built, then $4$ are removed.\n",
    "\n",
    "Run compression over `niter` random {graph, source vector} instances"
   ]
  },
  {
   "cell_type": "code",
   "execution_count": 12,
   "metadata": {
    "scrolled": true
   },
   "outputs": [],
   "source": [
    "q = 2\n",
    "n = 1000\n",
    "m = 400\n",
    "bvals = [1, 3, 5, 10, 20, 50]\n",
    "niter = 50\n",
    "randseed = 1234;"
   ]
  },
  {
   "cell_type": "markdown",
   "metadata": {},
   "source": [
    "Cooling schedule for Simulated Annealing: $\\beta_{overlap} \\in [10^{-1}, 10^0, 10^1]$"
   ]
  },
  {
   "cell_type": "code",
   "execution_count": 3,
   "metadata": {},
   "outputs": [],
   "source": [
    "sims = Vector{Simulation{SA}}(undef, length(bvals))\n",
    "sa = SA(mc_move=MetropSmallJumps(), nsamples=100, betas=[Inf 0.1; Inf 1.0; Inf 10.0;]);"
   ]
  },
  {
   "cell_type": "code",
   "execution_count": null,
   "metadata": {},
   "outputs": [
    {
     "name": "stdout",
     "output_type": "stream",
     "text": [
      "##### b=1. 1 of 6 #####\n",
      "\n"
     ]
    },
    {
     "name": "stderr",
     "output_type": "stream",
     "text": [
      "\u001b[32mMC running β₁=Inf, β₂=0.1 100%|█████████████████████████| Time: 0:00:03\u001b[39m\n"
     ]
    },
    {
     "name": "stdout",
     "output_type": "stream",
     "text": [
      "Temperature 1 of 3:(β₁=Inf,β₂=0.1). Distortion 0.473. Acceptance 29%\n"
     ]
    },
    {
     "name": "stderr",
     "output_type": "stream",
     "text": [
      "\u001b[32mMC running β₁=Inf, β₂=1.0 100%|█████████████████████████| Time: 0:00:02\u001b[39m\n"
     ]
    },
    {
     "name": "stdout",
     "output_type": "stream",
     "text": [
      "Temperature 2 of 3:(β₁=Inf,β₂=1.0). Distortion 0.434. Acceptance 44%\n"
     ]
    },
    {
     "name": "stderr",
     "output_type": "stream",
     "text": [
      "\u001b[32mMC running β₁=Inf, β₂=10.0 100%|████████████████████████| Time: 0:00:02\u001b[39m\n"
     ]
    },
    {
     "name": "stdout",
     "output_type": "stream",
     "text": [
      "Temperature 3 of 3:(β₁=Inf,β₂=10.0). Distortion 0.416. Acceptance 50%\n",
      "# Finished iter 1 of 50: Parity 0. Distortion 0.416 at β₁=Inf, β₂=10.0.\n",
      "\n"
     ]
    },
    {
     "name": "stderr",
     "output_type": "stream",
     "text": [
      "\u001b[32mMC running β₁=Inf, β₂=0.1 100%|█████████████████████████| Time: 0:00:02\u001b[39m\n"
     ]
    },
    {
     "name": "stdout",
     "output_type": "stream",
     "text": [
      "Temperature 1 of 3:(β₁=Inf,β₂=0.1). Distortion 0.488. Acceptance 29%\n"
     ]
    },
    {
     "name": "stderr",
     "output_type": "stream",
     "text": [
      "\u001b[32mMC running β₁=Inf, β₂=1.0 100%|█████████████████████████| Time: 0:00:02\u001b[39m\n"
     ]
    },
    {
     "name": "stdout",
     "output_type": "stream",
     "text": [
      "Temperature 2 of 3:(β₁=Inf,β₂=1.0). Distortion 0.446. Acceptance 43%\n"
     ]
    },
    {
     "name": "stderr",
     "output_type": "stream",
     "text": [
      "\u001b[32mMC running β₁=Inf, β₂=10.0 100%|████████████████████████| Time: 0:00:02\u001b[39m\n"
     ]
    },
    {
     "name": "stdout",
     "output_type": "stream",
     "text": [
      "Temperature 3 of 3:(β₁=Inf,β₂=10.0). Distortion 0.414. Acceptance 50%\n",
      "# Finished iter 2 of 50: Parity 0. Distortion 0.414 at β₁=Inf, β₂=10.0.\n",
      "\n"
     ]
    },
    {
     "name": "stderr",
     "output_type": "stream",
     "text": [
      "\u001b[32mMC running β₁=Inf, β₂=0.1 100%|█████████████████████████| Time: 0:00:02\u001b[39m\n"
     ]
    },
    {
     "name": "stdout",
     "output_type": "stream",
     "text": [
      "Temperature 1 of 3:(β₁=Inf,β₂=0.1). Distortion 0.461. Acceptance 29%\n"
     ]
    },
    {
     "name": "stderr",
     "output_type": "stream",
     "text": [
      "\u001b[32mMC running β₁=Inf, β₂=1.0 100%|█████████████████████████| Time: 0:00:02\u001b[39m\n"
     ]
    },
    {
     "name": "stdout",
     "output_type": "stream",
     "text": [
      "Temperature 2 of 3:(β₁=Inf,β₂=1.0). Distortion 0.448. Acceptance 37%\n"
     ]
    },
    {
     "name": "stderr",
     "output_type": "stream",
     "text": [
      "\u001b[32mMC running β₁=Inf, β₂=10.0 100%|████████████████████████| Time: 0:00:02\u001b[39m\n"
     ]
    },
    {
     "name": "stdout",
     "output_type": "stream",
     "text": [
      "Temperature 3 of 3:(β₁=Inf,β₂=10.0). Distortion 0.42. Acceptance 44%\n",
      "# Finished iter 3 of 50: Parity 0. Distortion 0.420 at β₁=Inf, β₂=10.0.\n",
      "\n"
     ]
    },
    {
     "name": "stderr",
     "output_type": "stream",
     "text": [
      "\u001b[32mMC running β₁=Inf, β₂=0.1 100%|█████████████████████████| Time: 0:00:02\u001b[39m\n"
     ]
    },
    {
     "name": "stdout",
     "output_type": "stream",
     "text": [
      "Temperature 1 of 3:(β₁=Inf,β₂=0.1). Distortion 0.441. Acceptance 29%\n"
     ]
    },
    {
     "name": "stderr",
     "output_type": "stream",
     "text": [
      "\u001b[32mMC running β₁=Inf, β₂=1.0 100%|█████████████████████████| Time: 0:00:02\u001b[39m\n"
     ]
    },
    {
     "name": "stdout",
     "output_type": "stream",
     "text": [
      "Temperature 2 of 3:(β₁=Inf,β₂=1.0). Distortion 0.406. Acceptance 41%\n"
     ]
    },
    {
     "name": "stderr",
     "output_type": "stream",
     "text": [
      "\u001b[32mMC running β₁=Inf, β₂=10.0 100%|████████████████████████| Time: 0:00:02\u001b[39m\n"
     ]
    },
    {
     "name": "stdout",
     "output_type": "stream",
     "text": [
      "Temperature 3 of 3:(β₁=Inf,β₂=10.0). Distortion 0.395. Acceptance 44%\n",
      "# Finished iter 4 of 50: Parity 0. Distortion 0.395 at β₁=Inf, β₂=10.0.\n",
      "\n"
     ]
    },
    {
     "name": "stderr",
     "output_type": "stream",
     "text": [
      "\u001b[32mMC running β₁=Inf, β₂=0.1 100%|█████████████████████████| Time: 0:00:02\u001b[39m\n"
     ]
    },
    {
     "name": "stdout",
     "output_type": "stream",
     "text": [
      "Temperature 1 of 3:(β₁=Inf,β₂=0.1). Distortion 0.455. Acceptance 29%\n"
     ]
    },
    {
     "name": "stderr",
     "output_type": "stream",
     "text": [
      "\u001b[32mMC running β₁=Inf, β₂=1.0 100%|█████████████████████████| Time: 0:00:02\u001b[39m\n"
     ]
    },
    {
     "name": "stdout",
     "output_type": "stream",
     "text": [
      "Temperature 2 of 3:(β₁=Inf,β₂=1.0). Distortion 0.433. Acceptance 46%\n"
     ]
    },
    {
     "name": "stderr",
     "output_type": "stream",
     "text": [
      "\u001b[32mMC running β₁=Inf, β₂=10.0 100%|████████████████████████| Time: 0:00:02\u001b[39m\n"
     ]
    },
    {
     "name": "stdout",
     "output_type": "stream",
     "text": [
      "Temperature 3 of 3:(β₁=Inf,β₂=10.0). Distortion 0.418. Acceptance 51%\n",
      "# Finished iter 5 of 50: Parity 0. Distortion 0.418 at β₁=Inf, β₂=10.0.\n",
      "\n"
     ]
    },
    {
     "name": "stderr",
     "output_type": "stream",
     "text": [
      "\u001b[32mMC running β₁=Inf, β₂=0.1 100%|█████████████████████████| Time: 0:00:02\u001b[39m\n"
     ]
    },
    {
     "name": "stdout",
     "output_type": "stream",
     "text": [
      "Temperature 1 of 3:(β₁=Inf,β₂=0.1). Distortion 0.464. Acceptance 28%\n"
     ]
    },
    {
     "name": "stderr",
     "output_type": "stream",
     "text": [
      "\u001b[32mMC running β₁=Inf, β₂=1.0 100%|█████████████████████████| Time: 0:00:02\u001b[39m\n"
     ]
    },
    {
     "name": "stdout",
     "output_type": "stream",
     "text": [
      "Temperature 2 of 3:(β₁=Inf,β₂=1.0). Distortion 0.419. Acceptance 45%\n"
     ]
    },
    {
     "name": "stderr",
     "output_type": "stream",
     "text": [
      "\u001b[32mMC running β₁=Inf, β₂=10.0 100%|████████████████████████| Time: 0:00:02\u001b[39m\n"
     ]
    },
    {
     "name": "stdout",
     "output_type": "stream",
     "text": [
      "Temperature 3 of 3:(β₁=Inf,β₂=10.0). Distortion 0.392. Acceptance 53%\n",
      "# Finished iter 6 of 50: Parity 0. Distortion 0.392 at β₁=Inf, β₂=10.0.\n",
      "\n"
     ]
    },
    {
     "name": "stderr",
     "output_type": "stream",
     "text": [
      "\u001b[32mMC running β₁=Inf, β₂=0.1 100%|█████████████████████████| Time: 0:00:02\u001b[39m\n"
     ]
    },
    {
     "name": "stdout",
     "output_type": "stream",
     "text": [
      "Temperature 1 of 3:(β₁=Inf,β₂=0.1). Distortion 0.492. Acceptance 30%\n"
     ]
    },
    {
     "name": "stderr",
     "output_type": "stream",
     "text": [
      "\u001b[32mMC running β₁=Inf, β₂=1.0 100%|█████████████████████████| Time: 0:00:02\u001b[39m\n"
     ]
    },
    {
     "name": "stdout",
     "output_type": "stream",
     "text": [
      "Temperature 2 of 3:(β₁=Inf,β₂=1.0). Distortion 0.461. Acceptance 40%\n"
     ]
    },
    {
     "name": "stderr",
     "output_type": "stream",
     "text": [
      "\u001b[32mMC running β₁=Inf, β₂=10.0 100%|████████████████████████| Time: 0:00:02\u001b[39m\n"
     ]
    },
    {
     "name": "stdout",
     "output_type": "stream",
     "text": [
      "Temperature 3 of 3:(β₁=Inf,β₂=10.0). Distortion 0.443. Acceptance 49%\n",
      "# Finished iter 7 of 50: Parity 0. Distortion 0.443 at β₁=Inf, β₂=10.0.\n",
      "\n"
     ]
    },
    {
     "name": "stderr",
     "output_type": "stream",
     "text": [
      "\u001b[32mMC running β₁=Inf, β₂=0.1 100%|█████████████████████████| Time: 0:00:02\u001b[39m\n"
     ]
    },
    {
     "name": "stdout",
     "output_type": "stream",
     "text": [
      "Temperature 1 of 3:(β₁=Inf,β₂=0.1). Distortion 0.48. Acceptance 31%\n"
     ]
    },
    {
     "name": "stderr",
     "output_type": "stream",
     "text": [
      "\u001b[32mMC running β₁=Inf, β₂=1.0 100%|█████████████████████████| Time: 0:00:02\u001b[39m\n"
     ]
    },
    {
     "name": "stdout",
     "output_type": "stream",
     "text": [
      "Temperature 2 of 3:(β₁=Inf,β₂=1.0). Distortion 0.444. Acceptance 48%\n"
     ]
    },
    {
     "name": "stderr",
     "output_type": "stream",
     "text": [
      "\u001b[32mMC running β₁=Inf, β₂=10.0 100%|████████████████████████| Time: 0:00:02\u001b[39m\n"
     ]
    },
    {
     "name": "stdout",
     "output_type": "stream",
     "text": [
      "Temperature 3 of 3:(β₁=Inf,β₂=10.0). Distortion 0.427. Acceptance 55%\n",
      "# Finished iter 8 of 50: Parity 0. Distortion 0.427 at β₁=Inf, β₂=10.0.\n",
      "\n"
     ]
    },
    {
     "name": "stderr",
     "output_type": "stream",
     "text": [
      "\u001b[32mMC running β₁=Inf, β₂=0.1 100%|█████████████████████████| Time: 0:00:02\u001b[39m\n"
     ]
    },
    {
     "name": "stdout",
     "output_type": "stream",
     "text": [
      "Temperature 1 of 3:(β₁=Inf,β₂=0.1). Distortion 0.47. Acceptance 30%\n"
     ]
    },
    {
     "name": "stderr",
     "output_type": "stream",
     "text": [
      "\u001b[32mMC running β₁=Inf, β₂=1.0 100%|█████████████████████████| Time: 0:00:02\u001b[39m\n"
     ]
    },
    {
     "name": "stdout",
     "output_type": "stream",
     "text": [
      "Temperature 2 of 3:(β₁=Inf,β₂=1.0). Distortion 0.459. Acceptance 40%\n"
     ]
    },
    {
     "name": "stderr",
     "output_type": "stream",
     "text": [
      "\u001b[32mMC running β₁=Inf, β₂=10.0 100%|████████████████████████| Time: 0:00:02\u001b[39m\n"
     ]
    },
    {
     "name": "stdout",
     "output_type": "stream",
     "text": [
      "Temperature 3 of 3:(β₁=Inf,β₂=10.0). Distortion 0.441. Acceptance 46%\n",
      "# Finished iter 9 of 50: Parity 0. Distortion 0.441 at β₁=Inf, β₂=10.0.\n",
      "\n"
     ]
    },
    {
     "name": "stderr",
     "output_type": "stream",
     "text": [
      "\u001b[32mMC running β₁=Inf, β₂=0.1 100%|█████████████████████████| Time: 0:00:02\u001b[39m\n"
     ]
    },
    {
     "name": "stdout",
     "output_type": "stream",
     "text": [
      "Temperature 1 of 3:(β₁=Inf,β₂=0.1). Distortion 0.497. Acceptance 28%\n"
     ]
    },
    {
     "name": "stderr",
     "output_type": "stream",
     "text": [
      "\u001b[32mMC running β₁=Inf, β₂=1.0 100%|█████████████████████████| Time: 0:00:02\u001b[39m\n"
     ]
    },
    {
     "name": "stdout",
     "output_type": "stream",
     "text": [
      "Temperature 2 of 3:(β₁=Inf,β₂=1.0). Distortion 0.453. Acceptance 40%\n"
     ]
    },
    {
     "name": "stderr",
     "output_type": "stream",
     "text": [
      "\u001b[32mMC running β₁=Inf, β₂=10.0 100%|████████████████████████| Time: 0:00:02\u001b[39m\n"
     ]
    },
    {
     "name": "stdout",
     "output_type": "stream",
     "text": [
      "Temperature 3 of 3:(β₁=Inf,β₂=10.0). Distortion 0.433. Acceptance 45%\n",
      "# Finished iter 10 of 50: Parity 0. Distortion 0.433 at β₁=Inf, β₂=10.0.\n",
      "\n"
     ]
    },
    {
     "name": "stderr",
     "output_type": "stream",
     "text": [
      "\u001b[32mMC running β₁=Inf, β₂=0.1 100%|█████████████████████████| Time: 0:00:02\u001b[39m\n"
     ]
    },
    {
     "name": "stdout",
     "output_type": "stream",
     "text": [
      "Temperature 1 of 3:(β₁=Inf,β₂=0.1). Distortion 0.494. Acceptance 30%\n"
     ]
    },
    {
     "name": "stderr",
     "output_type": "stream",
     "text": [
      "\u001b[32mMC running β₁=Inf, β₂=1.0 100%|█████████████████████████| Time: 0:00:02\u001b[39m\n"
     ]
    },
    {
     "name": "stdout",
     "output_type": "stream",
     "text": [
      "Temperature 2 of 3:(β₁=Inf,β₂=1.0). Distortion 0.459. Acceptance 47%\n"
     ]
    },
    {
     "name": "stderr",
     "output_type": "stream",
     "text": [
      "\u001b[32mMC running β₁=Inf, β₂=10.0 100%|████████████████████████| Time: 0:00:02\u001b[39m\n"
     ]
    },
    {
     "name": "stdout",
     "output_type": "stream",
     "text": [
      "Temperature 3 of 3:(β₁=Inf,β₂=10.0). Distortion 0.432. Acceptance 55%\n",
      "# Finished iter 11 of 50: Parity 0. Distortion 0.432 at β₁=Inf, β₂=10.0.\n",
      "\n"
     ]
    },
    {
     "name": "stderr",
     "output_type": "stream",
     "text": [
      "\u001b[32mMC running β₁=Inf, β₂=0.1 100%|█████████████████████████| Time: 0:00:02\u001b[39m\n"
     ]
    },
    {
     "name": "stdout",
     "output_type": "stream",
     "text": [
      "Temperature 1 of 3:(β₁=Inf,β₂=0.1). Distortion 0.488. Acceptance 30%\n"
     ]
    },
    {
     "name": "stderr",
     "output_type": "stream",
     "text": [
      "\u001b[32mMC running β₁=Inf, β₂=1.0 100%|█████████████████████████| Time: 0:00:02\u001b[39m\n"
     ]
    },
    {
     "name": "stdout",
     "output_type": "stream",
     "text": [
      "Temperature 2 of 3:(β₁=Inf,β₂=1.0). Distortion 0.473. Acceptance 44%\n"
     ]
    },
    {
     "name": "stderr",
     "output_type": "stream",
     "text": [
      "\u001b[32mMC running β₁=Inf, β₂=10.0 100%|████████████████████████| Time: 0:00:02\u001b[39m\n"
     ]
    },
    {
     "name": "stdout",
     "output_type": "stream",
     "text": [
      "Temperature 3 of 3:(β₁=Inf,β₂=10.0). Distortion 0.435. Acceptance 50%\n",
      "# Finished iter 12 of 50: Parity 0. Distortion 0.435 at β₁=Inf, β₂=10.0.\n",
      "\n"
     ]
    },
    {
     "name": "stderr",
     "output_type": "stream",
     "text": [
      "\u001b[32mMC running β₁=Inf, β₂=0.1 100%|█████████████████████████| Time: 0:00:02\u001b[39m\n"
     ]
    },
    {
     "name": "stdout",
     "output_type": "stream",
     "text": [
      "Temperature 1 of 3:(β₁=Inf,β₂=0.1). Distortion 0.492. Acceptance 30%\n"
     ]
    },
    {
     "name": "stderr",
     "output_type": "stream",
     "text": [
      "\u001b[32mMC running β₁=Inf, β₂=1.0 100%|█████████████████████████| Time: 0:00:02\u001b[39m\n"
     ]
    },
    {
     "name": "stdout",
     "output_type": "stream",
     "text": [
      "Temperature 2 of 3:(β₁=Inf,β₂=1.0). Distortion 0.464. Acceptance 48%\n"
     ]
    },
    {
     "name": "stderr",
     "output_type": "stream",
     "text": [
      "\u001b[32mMC running β₁=Inf, β₂=10.0 100%|████████████████████████| Time: 0:00:02\u001b[39m\n"
     ]
    },
    {
     "name": "stdout",
     "output_type": "stream",
     "text": [
      "Temperature 3 of 3:(β₁=Inf,β₂=10.0). Distortion 0.438. Acceptance 55%\n",
      "# Finished iter 13 of 50: Parity 0. Distortion 0.438 at β₁=Inf, β₂=10.0.\n",
      "\n"
     ]
    },
    {
     "name": "stderr",
     "output_type": "stream",
     "text": [
      "\u001b[32mMC running β₁=Inf, β₂=0.1 100%|█████████████████████████| Time: 0:00:02\u001b[39m\n"
     ]
    },
    {
     "name": "stdout",
     "output_type": "stream",
     "text": [
      "Temperature 1 of 3:(β₁=Inf,β₂=0.1). Distortion 0.481. Acceptance 29%\n"
     ]
    },
    {
     "name": "stderr",
     "output_type": "stream",
     "text": [
      "\u001b[32mMC running β₁=Inf, β₂=1.0 100%|█████████████████████████| Time: 0:00:02\u001b[39m\n"
     ]
    },
    {
     "name": "stdout",
     "output_type": "stream",
     "text": [
      "Temperature 2 of 3:(β₁=Inf,β₂=1.0). Distortion 0.44. Acceptance 44%\n"
     ]
    },
    {
     "name": "stderr",
     "output_type": "stream",
     "text": [
      "\u001b[32mMC running β₁=Inf, β₂=10.0 100%|████████████████████████| Time: 0:00:02\u001b[39m\n"
     ]
    },
    {
     "name": "stdout",
     "output_type": "stream",
     "text": [
      "Temperature 3 of 3:(β₁=Inf,β₂=10.0). Distortion 0.427. Acceptance 46%\n",
      "# Finished iter 14 of 50: Parity 0. Distortion 0.427 at β₁=Inf, β₂=10.0.\n",
      "\n"
     ]
    },
    {
     "name": "stderr",
     "output_type": "stream",
     "text": [
      "\u001b[32mMC running β₁=Inf, β₂=0.1 100%|█████████████████████████| Time: 0:00:02\u001b[39m\n"
     ]
    },
    {
     "name": "stdout",
     "output_type": "stream",
     "text": [
      "Temperature 1 of 3:(β₁=Inf,β₂=0.1). Distortion 0.479. Acceptance 31%\n"
     ]
    },
    {
     "name": "stderr",
     "output_type": "stream",
     "text": [
      "\u001b[32mMC running β₁=Inf, β₂=1.0 100%|█████████████████████████| Time: 0:00:02\u001b[39m\n"
     ]
    },
    {
     "name": "stdout",
     "output_type": "stream",
     "text": [
      "Temperature 2 of 3:(β₁=Inf,β₂=1.0). Distortion 0.446. Acceptance 44%\n"
     ]
    },
    {
     "name": "stderr",
     "output_type": "stream",
     "text": [
      "\u001b[32mMC running β₁=Inf, β₂=10.0 100%|████████████████████████| Time: 0:00:02\u001b[39m\n"
     ]
    },
    {
     "name": "stdout",
     "output_type": "stream",
     "text": [
      "Temperature 3 of 3:(β₁=Inf,β₂=10.0). Distortion 0.405. Acceptance 53%\n",
      "# Finished iter 15 of 50: Parity 0. Distortion 0.405 at β₁=Inf, β₂=10.0.\n",
      "\n"
     ]
    },
    {
     "name": "stderr",
     "output_type": "stream",
     "text": [
      "\u001b[32mMC running β₁=Inf, β₂=0.1 100%|█████████████████████████| Time: 0:00:02\u001b[39m\n"
     ]
    },
    {
     "name": "stdout",
     "output_type": "stream",
     "text": [
      "Temperature 1 of 3:(β₁=Inf,β₂=0.1). Distortion 0.48. Acceptance 29%\n"
     ]
    },
    {
     "name": "stderr",
     "output_type": "stream",
     "text": [
      "\u001b[32mMC running β₁=Inf, β₂=1.0 100%|█████████████████████████| Time: 0:00:02\u001b[39m\n"
     ]
    },
    {
     "name": "stdout",
     "output_type": "stream",
     "text": [
      "Temperature 2 of 3:(β₁=Inf,β₂=1.0). Distortion 0.429. Acceptance 43%\n"
     ]
    },
    {
     "name": "stderr",
     "output_type": "stream",
     "text": [
      "\u001b[32mMC running β₁=Inf, β₂=10.0 100%|████████████████████████| Time: 0:00:02\u001b[39m\n"
     ]
    },
    {
     "name": "stdout",
     "output_type": "stream",
     "text": [
      "Temperature 3 of 3:(β₁=Inf,β₂=10.0). Distortion 0.412. Acceptance 49%\n",
      "# Finished iter 16 of 50: Parity 0. Distortion 0.412 at β₁=Inf, β₂=10.0.\n",
      "\n"
     ]
    },
    {
     "name": "stderr",
     "output_type": "stream",
     "text": [
      "\u001b[32mMC running β₁=Inf, β₂=0.1 100%|█████████████████████████| Time: 0:00:02\u001b[39m\n"
     ]
    },
    {
     "name": "stdout",
     "output_type": "stream",
     "text": [
      "Temperature 1 of 3:(β₁=Inf,β₂=0.1). Distortion 0.452. Acceptance 29%\n"
     ]
    },
    {
     "name": "stderr",
     "output_type": "stream",
     "text": [
      "\u001b[32mMC running β₁=Inf, β₂=1.0 100%|█████████████████████████| Time: 0:00:02\u001b[39m\n"
     ]
    },
    {
     "name": "stdout",
     "output_type": "stream",
     "text": [
      "Temperature 2 of 3:(β₁=Inf,β₂=1.0). Distortion 0.441. Acceptance 44%\n"
     ]
    },
    {
     "name": "stderr",
     "output_type": "stream",
     "text": [
      "\u001b[32mMC running β₁=Inf, β₂=10.0 100%|████████████████████████| Time: 0:00:02\u001b[39m\n"
     ]
    },
    {
     "name": "stdout",
     "output_type": "stream",
     "text": [
      "Temperature 3 of 3:(β₁=Inf,β₂=10.0). Distortion 0.416. Acceptance 49%\n",
      "# Finished iter 17 of 50: Parity 0. Distortion 0.416 at β₁=Inf, β₂=10.0.\n",
      "\n"
     ]
    },
    {
     "name": "stderr",
     "output_type": "stream",
     "text": [
      "\u001b[32mMC running β₁=Inf, β₂=0.1 100%|█████████████████████████| Time: 0:00:02\u001b[39m\n"
     ]
    },
    {
     "name": "stdout",
     "output_type": "stream",
     "text": [
      "Temperature 1 of 3:(β₁=Inf,β₂=0.1). Distortion 0.49. Acceptance 30%\n"
     ]
    },
    {
     "name": "stderr",
     "output_type": "stream",
     "text": [
      "\u001b[32mMC running β₁=Inf, β₂=1.0 100%|█████████████████████████| Time: 0:00:02\u001b[39m\n"
     ]
    },
    {
     "name": "stdout",
     "output_type": "stream",
     "text": [
      "Temperature 2 of 3:(β₁=Inf,β₂=1.0). Distortion 0.451. Acceptance 44%\n"
     ]
    },
    {
     "name": "stderr",
     "output_type": "stream",
     "text": [
      "\u001b[32mMC running β₁=Inf, β₂=10.0 100%|████████████████████████| Time: 0:00:02\u001b[39m\n"
     ]
    },
    {
     "name": "stdout",
     "output_type": "stream",
     "text": [
      "Temperature 3 of 3:(β₁=Inf,β₂=10.0). Distortion 0.425. Acceptance 49%\n",
      "# Finished iter 18 of 50: Parity 0. Distortion 0.425 at β₁=Inf, β₂=10.0.\n",
      "\n"
     ]
    },
    {
     "name": "stderr",
     "output_type": "stream",
     "text": [
      "\u001b[32mMC running β₁=Inf, β₂=0.1 100%|█████████████████████████| Time: 0:00:02\u001b[39m\n"
     ]
    },
    {
     "name": "stdout",
     "output_type": "stream",
     "text": [
      "Temperature 1 of 3:(β₁=Inf,β₂=0.1). Distortion 0.474. Acceptance 30%\n"
     ]
    },
    {
     "name": "stderr",
     "output_type": "stream",
     "text": [
      "\u001b[32mMC running β₁=Inf, β₂=1.0 100%|█████████████████████████| Time: 0:00:02\u001b[39m\n"
     ]
    },
    {
     "name": "stdout",
     "output_type": "stream",
     "text": [
      "Temperature 2 of 3:(β₁=Inf,β₂=1.0). Distortion 0.438. Acceptance 42%\n"
     ]
    },
    {
     "name": "stderr",
     "output_type": "stream",
     "text": [
      "\u001b[32mMC running β₁=Inf, β₂=10.0 100%|████████████████████████| Time: 0:00:02\u001b[39m\n"
     ]
    },
    {
     "name": "stdout",
     "output_type": "stream",
     "text": [
      "Temperature 3 of 3:(β₁=Inf,β₂=10.0). Distortion 0.419. Acceptance 46%\n",
      "# Finished iter 19 of 50: Parity 0. Distortion 0.419 at β₁=Inf, β₂=10.0.\n",
      "\n"
     ]
    },
    {
     "name": "stderr",
     "output_type": "stream",
     "text": [
      "\u001b[32mMC running β₁=Inf, β₂=0.1 100%|█████████████████████████| Time: 0:00:02\u001b[39m\n"
     ]
    },
    {
     "name": "stdout",
     "output_type": "stream",
     "text": [
      "Temperature 1 of 3:(β₁=Inf,β₂=0.1). Distortion 0.469. Acceptance 30%\n"
     ]
    },
    {
     "name": "stderr",
     "output_type": "stream",
     "text": [
      "\u001b[32mMC running β₁=Inf, β₂=1.0 100%|█████████████████████████| Time: 0:00:02\u001b[39m\n"
     ]
    },
    {
     "name": "stdout",
     "output_type": "stream",
     "text": [
      "Temperature 2 of 3:(β₁=Inf,β₂=1.0). Distortion 0.432. Acceptance 44%\n"
     ]
    },
    {
     "name": "stderr",
     "output_type": "stream",
     "text": [
      "\u001b[32mMC running β₁=Inf, β₂=10.0 100%|████████████████████████| Time: 0:00:02\u001b[39m\n"
     ]
    },
    {
     "name": "stdout",
     "output_type": "stream",
     "text": [
      "Temperature 3 of 3:(β₁=Inf,β₂=10.0). Distortion 0.418. Acceptance 50%\n",
      "# Finished iter 20 of 50: Parity 0. Distortion 0.418 at β₁=Inf, β₂=10.0.\n",
      "\n"
     ]
    },
    {
     "name": "stderr",
     "output_type": "stream",
     "text": [
      "\u001b[32mMC running β₁=Inf, β₂=0.1 100%|█████████████████████████| Time: 0:00:02\u001b[39m\n"
     ]
    },
    {
     "name": "stdout",
     "output_type": "stream",
     "text": [
      "Temperature 1 of 3:(β₁=Inf,β₂=0.1). Distortion 0.478. Acceptance 30%\n"
     ]
    },
    {
     "name": "stderr",
     "output_type": "stream",
     "text": [
      "\u001b[32mMC running β₁=Inf, β₂=1.0 100%|█████████████████████████| Time: 0:00:02\u001b[39m\n"
     ]
    },
    {
     "name": "stdout",
     "output_type": "stream",
     "text": [
      "Temperature 2 of 3:(β₁=Inf,β₂=1.0). Distortion 0.44. Acceptance 46%\n"
     ]
    },
    {
     "name": "stderr",
     "output_type": "stream",
     "text": [
      "\u001b[32mMC running β₁=Inf, β₂=10.0 100%|████████████████████████| Time: 0:00:02\u001b[39m\n"
     ]
    },
    {
     "name": "stdout",
     "output_type": "stream",
     "text": [
      "Temperature 3 of 3:(β₁=Inf,β₂=10.0). Distortion 0.423. Acceptance 51%\n",
      "# Finished iter 21 of 50: Parity 0. Distortion 0.423 at β₁=Inf, β₂=10.0.\n",
      "\n"
     ]
    },
    {
     "name": "stderr",
     "output_type": "stream",
     "text": [
      "\u001b[32mMC running β₁=Inf, β₂=0.1 100%|█████████████████████████| Time: 0:00:02\u001b[39m\n"
     ]
    },
    {
     "name": "stdout",
     "output_type": "stream",
     "text": [
      "Temperature 1 of 3:(β₁=Inf,β₂=0.1). Distortion 0.476. Acceptance 31%\n"
     ]
    },
    {
     "name": "stderr",
     "output_type": "stream",
     "text": [
      "\u001b[32mMC running β₁=Inf, β₂=1.0 100%|█████████████████████████| Time: 0:00:02\u001b[39m\n"
     ]
    },
    {
     "name": "stdout",
     "output_type": "stream",
     "text": [
      "Temperature 2 of 3:(β₁=Inf,β₂=1.0). Distortion 0.43. Acceptance 41%\n"
     ]
    },
    {
     "name": "stderr",
     "output_type": "stream",
     "text": [
      "\u001b[32mMC running β₁=Inf, β₂=10.0 100%|████████████████████████| Time: 0:00:02\u001b[39m\n"
     ]
    },
    {
     "name": "stdout",
     "output_type": "stream",
     "text": [
      "Temperature 3 of 3:(β₁=Inf,β₂=10.0). Distortion 0.413. Acceptance 45%\n",
      "# Finished iter 22 of 50: Parity 0. Distortion 0.413 at β₁=Inf, β₂=10.0.\n",
      "\n"
     ]
    },
    {
     "name": "stderr",
     "output_type": "stream",
     "text": [
      "\u001b[32mMC running β₁=Inf, β₂=0.1 100%|█████████████████████████| Time: 0:00:02\u001b[39m\n"
     ]
    },
    {
     "name": "stdout",
     "output_type": "stream",
     "text": [
      "Temperature 1 of 3:(β₁=Inf,β₂=0.1). Distortion 0.502. Acceptance 30%\n"
     ]
    },
    {
     "name": "stderr",
     "output_type": "stream",
     "text": [
      "\u001b[32mMC running β₁=Inf, β₂=1.0 100%|█████████████████████████| Time: 0:00:02\u001b[39m\n"
     ]
    },
    {
     "name": "stdout",
     "output_type": "stream",
     "text": [
      "Temperature 2 of 3:(β₁=Inf,β₂=1.0). Distortion 0.473. Acceptance 40%\n"
     ]
    },
    {
     "name": "stderr",
     "output_type": "stream",
     "text": [
      "\u001b[32mMC running β₁=Inf, β₂=10.0 100%|████████████████████████| Time: 0:00:02\u001b[39m\n"
     ]
    },
    {
     "name": "stdout",
     "output_type": "stream",
     "text": [
      "Temperature 3 of 3:(β₁=Inf,β₂=10.0). Distortion 0.452. Acceptance 49%\n",
      "# Finished iter 23 of 50: Parity 0. Distortion 0.452 at β₁=Inf, β₂=10.0.\n",
      "\n"
     ]
    },
    {
     "name": "stderr",
     "output_type": "stream",
     "text": [
      "\u001b[32mMC running β₁=Inf, β₂=0.1 100%|█████████████████████████| Time: 0:00:02\u001b[39m\n"
     ]
    },
    {
     "name": "stdout",
     "output_type": "stream",
     "text": [
      "Temperature 1 of 3:(β₁=Inf,β₂=0.1). Distortion 0.483. Acceptance 28%\n"
     ]
    },
    {
     "name": "stderr",
     "output_type": "stream",
     "text": [
      "\u001b[32mMC running β₁=Inf, β₂=1.0 100%|█████████████████████████| Time: 0:00:02\u001b[39m\n"
     ]
    },
    {
     "name": "stdout",
     "output_type": "stream",
     "text": [
      "Temperature 2 of 3:(β₁=Inf,β₂=1.0). Distortion 0.454. Acceptance 42%\n"
     ]
    },
    {
     "name": "stderr",
     "output_type": "stream",
     "text": [
      "\u001b[32mMC running β₁=Inf, β₂=10.0 100%|████████████████████████| Time: 0:00:02\u001b[39m\n"
     ]
    },
    {
     "name": "stdout",
     "output_type": "stream",
     "text": [
      "Temperature 3 of 3:(β₁=Inf,β₂=10.0). Distortion 0.432. Acceptance 47%\n",
      "# Finished iter 24 of 50: Parity 0. Distortion 0.432 at β₁=Inf, β₂=10.0.\n",
      "\n"
     ]
    },
    {
     "name": "stderr",
     "output_type": "stream",
     "text": [
      "\u001b[32mMC running β₁=Inf, β₂=0.1 100%|█████████████████████████| Time: 0:00:02\u001b[39m\n"
     ]
    },
    {
     "name": "stdout",
     "output_type": "stream",
     "text": [
      "Temperature 1 of 3:(β₁=Inf,β₂=0.1). Distortion 0.444. Acceptance 29%\n"
     ]
    },
    {
     "name": "stderr",
     "output_type": "stream",
     "text": [
      "\u001b[32mMC running β₁=Inf, β₂=1.0 100%|█████████████████████████| Time: 0:00:02\u001b[39m\n"
     ]
    },
    {
     "name": "stdout",
     "output_type": "stream",
     "text": [
      "Temperature 2 of 3:(β₁=Inf,β₂=1.0). Distortion 0.419. Acceptance 39%\n"
     ]
    },
    {
     "name": "stderr",
     "output_type": "stream",
     "text": [
      "\u001b[32mMC running β₁=Inf, β₂=10.0 100%|████████████████████████| Time: 0:00:02\u001b[39m\n"
     ]
    },
    {
     "name": "stdout",
     "output_type": "stream",
     "text": [
      "Temperature 3 of 3:(β₁=Inf,β₂=10.0). Distortion 0.409. Acceptance 43%\n",
      "# Finished iter 25 of 50: Parity 0. Distortion 0.409 at β₁=Inf, β₂=10.0.\n",
      "\n"
     ]
    },
    {
     "name": "stderr",
     "output_type": "stream",
     "text": [
      "\u001b[32mMC running β₁=Inf, β₂=0.1 100%|█████████████████████████| Time: 0:00:02\u001b[39m\n"
     ]
    },
    {
     "name": "stdout",
     "output_type": "stream",
     "text": [
      "Temperature 1 of 3:(β₁=Inf,β₂=0.1). Distortion 0.482. Acceptance 30%\n"
     ]
    },
    {
     "name": "stderr",
     "output_type": "stream",
     "text": [
      "\u001b[32mMC running β₁=Inf, β₂=1.0 100%|█████████████████████████| Time: 0:00:02\u001b[39m\n"
     ]
    },
    {
     "name": "stdout",
     "output_type": "stream",
     "text": [
      "Temperature 2 of 3:(β₁=Inf,β₂=1.0). Distortion 0.451. Acceptance 45%\n"
     ]
    },
    {
     "name": "stderr",
     "output_type": "stream",
     "text": [
      "\u001b[32mMC running β₁=Inf, β₂=10.0 100%|████████████████████████| Time: 0:00:02\u001b[39m\n"
     ]
    },
    {
     "name": "stdout",
     "output_type": "stream",
     "text": [
      "Temperature 3 of 3:(β₁=Inf,β₂=10.0). Distortion 0.42. Acceptance 52%\n",
      "# Finished iter 26 of 50: Parity 0. Distortion 0.420 at β₁=Inf, β₂=10.0.\n",
      "\n"
     ]
    },
    {
     "name": "stderr",
     "output_type": "stream",
     "text": [
      "\u001b[32mMC running β₁=Inf, β₂=0.1 100%|█████████████████████████| Time: 0:00:02\u001b[39m\n"
     ]
    },
    {
     "name": "stdout",
     "output_type": "stream",
     "text": [
      "Temperature 1 of 3:(β₁=Inf,β₂=0.1). Distortion 0.476. Acceptance 30%\n"
     ]
    },
    {
     "name": "stderr",
     "output_type": "stream",
     "text": [
      "\u001b[32mMC running β₁=Inf, β₂=1.0 100%|█████████████████████████| Time: 0:00:02\u001b[39m\n"
     ]
    },
    {
     "name": "stdout",
     "output_type": "stream",
     "text": [
      "Temperature 2 of 3:(β₁=Inf,β₂=1.0). Distortion 0.451. Acceptance 44%\n"
     ]
    },
    {
     "name": "stderr",
     "output_type": "stream",
     "text": [
      "\u001b[32mMC running β₁=Inf, β₂=10.0 100%|████████████████████████| Time: 0:00:02\u001b[39m\n"
     ]
    },
    {
     "name": "stdout",
     "output_type": "stream",
     "text": [
      "Temperature 3 of 3:(β₁=Inf,β₂=10.0). Distortion 0.43. Acceptance 51%\n",
      "# Finished iter 27 of 50: Parity 0. Distortion 0.430 at β₁=Inf, β₂=10.0.\n",
      "\n"
     ]
    },
    {
     "name": "stderr",
     "output_type": "stream",
     "text": [
      "\u001b[32mMC running β₁=Inf, β₂=0.1 100%|█████████████████████████| Time: 0:00:02\u001b[39m\n"
     ]
    },
    {
     "name": "stdout",
     "output_type": "stream",
     "text": [
      "Temperature 1 of 3:(β₁=Inf,β₂=0.1). Distortion 0.473. Acceptance 28%\n"
     ]
    },
    {
     "name": "stderr",
     "output_type": "stream",
     "text": [
      "\u001b[32mMC running β₁=Inf, β₂=1.0 100%|█████████████████████████| Time: 0:00:02\u001b[39m\n"
     ]
    },
    {
     "name": "stdout",
     "output_type": "stream",
     "text": [
      "Temperature 2 of 3:(β₁=Inf,β₂=1.0). Distortion 0.439. Acceptance 41%\n"
     ]
    },
    {
     "name": "stderr",
     "output_type": "stream",
     "text": [
      "\u001b[32mMC running β₁=Inf, β₂=10.0 100%|████████████████████████| Time: 0:00:02\u001b[39m\n"
     ]
    },
    {
     "name": "stdout",
     "output_type": "stream",
     "text": [
      "Temperature 3 of 3:(β₁=Inf,β₂=10.0). Distortion 0.414. Acceptance 48%\n",
      "# Finished iter 28 of 50: Parity 0. Distortion 0.414 at β₁=Inf, β₂=10.0.\n",
      "\n"
     ]
    },
    {
     "name": "stderr",
     "output_type": "stream",
     "text": [
      "\u001b[32mMC running β₁=Inf, β₂=0.1 100%|█████████████████████████| Time: 0:00:02\u001b[39m\n"
     ]
    },
    {
     "name": "stdout",
     "output_type": "stream",
     "text": [
      "Temperature 1 of 3:(β₁=Inf,β₂=0.1). Distortion 0.481. Acceptance 30%\n"
     ]
    },
    {
     "name": "stderr",
     "output_type": "stream",
     "text": [
      "\u001b[32mMC running β₁=Inf, β₂=1.0 100%|█████████████████████████| Time: 0:00:02\u001b[39m\n"
     ]
    },
    {
     "name": "stdout",
     "output_type": "stream",
     "text": [
      "Temperature 2 of 3:(β₁=Inf,β₂=1.0). Distortion 0.447. Acceptance 47%\n"
     ]
    },
    {
     "name": "stderr",
     "output_type": "stream",
     "text": [
      "\u001b[32mMC running β₁=Inf, β₂=10.0 100%|████████████████████████| Time: 0:00:02\u001b[39m\n"
     ]
    },
    {
     "name": "stdout",
     "output_type": "stream",
     "text": [
      "Temperature 3 of 3:(β₁=Inf,β₂=10.0). Distortion 0.435. Acceptance 53%\n",
      "# Finished iter 29 of 50: Parity 0. Distortion 0.435 at β₁=Inf, β₂=10.0.\n",
      "\n"
     ]
    },
    {
     "name": "stderr",
     "output_type": "stream",
     "text": [
      "\u001b[32mMC running β₁=Inf, β₂=0.1 100%|█████████████████████████| Time: 0:00:02\u001b[39m\n"
     ]
    },
    {
     "name": "stdout",
     "output_type": "stream",
     "text": [
      "Temperature 1 of 3:(β₁=Inf,β₂=0.1). Distortion 0.465. Acceptance 30%\n"
     ]
    },
    {
     "name": "stderr",
     "output_type": "stream",
     "text": [
      "\u001b[32mMC running β₁=Inf, β₂=1.0 100%|█████████████████████████| Time: 0:00:02\u001b[39m\n"
     ]
    },
    {
     "name": "stdout",
     "output_type": "stream",
     "text": [
      "Temperature 2 of 3:(β₁=Inf,β₂=1.0). Distortion 0.423. Acceptance 44%\n"
     ]
    },
    {
     "name": "stderr",
     "output_type": "stream",
     "text": [
      "\u001b[32mMC running β₁=Inf, β₂=10.0 100%|████████████████████████| Time: 0:00:02\u001b[39m\n"
     ]
    },
    {
     "name": "stdout",
     "output_type": "stream",
     "text": [
      "Temperature 3 of 3:(β₁=Inf,β₂=10.0). Distortion 0.402. Acceptance 49%\n",
      "# Finished iter 30 of 50: Parity 0. Distortion 0.402 at β₁=Inf, β₂=10.0.\n",
      "\n"
     ]
    },
    {
     "name": "stderr",
     "output_type": "stream",
     "text": [
      "\u001b[32mMC running β₁=Inf, β₂=0.1 100%|█████████████████████████| Time: 0:00:02\u001b[39m\n"
     ]
    },
    {
     "name": "stdout",
     "output_type": "stream",
     "text": [
      "Temperature 1 of 3:(β₁=Inf,β₂=0.1). Distortion 0.473. Acceptance 30%\n"
     ]
    },
    {
     "name": "stderr",
     "output_type": "stream",
     "text": [
      "\u001b[32mMC running β₁=Inf, β₂=1.0 100%|█████████████████████████| Time: 0:00:02\u001b[39m\n"
     ]
    },
    {
     "name": "stdout",
     "output_type": "stream",
     "text": [
      "Temperature 2 of 3:(β₁=Inf,β₂=1.0). Distortion 0.457. Acceptance 44%\n"
     ]
    },
    {
     "name": "stderr",
     "output_type": "stream",
     "text": [
      "\u001b[32mMC running β₁=Inf, β₂=10.0 100%|████████████████████████| Time: 0:00:02\u001b[39m\n"
     ]
    },
    {
     "name": "stdout",
     "output_type": "stream",
     "text": [
      "Temperature 3 of 3:(β₁=Inf,β₂=10.0). Distortion 0.429. Acceptance 50%\n",
      "# Finished iter 31 of 50: Parity 0. Distortion 0.429 at β₁=Inf, β₂=10.0.\n",
      "\n"
     ]
    },
    {
     "name": "stderr",
     "output_type": "stream",
     "text": [
      "\u001b[32mMC running β₁=Inf, β₂=0.1 100%|█████████████████████████| Time: 0:00:02\u001b[39m\n"
     ]
    },
    {
     "name": "stdout",
     "output_type": "stream",
     "text": [
      "Temperature 1 of 3:(β₁=Inf,β₂=0.1). Distortion 0.475. Acceptance 29%\n"
     ]
    },
    {
     "name": "stderr",
     "output_type": "stream",
     "text": [
      "\u001b[32mMC running β₁=Inf, β₂=1.0 100%|█████████████████████████| Time: 0:00:02\u001b[39m\n"
     ]
    },
    {
     "name": "stdout",
     "output_type": "stream",
     "text": [
      "Temperature 2 of 3:(β₁=Inf,β₂=1.0). Distortion 0.432. Acceptance 43%\n"
     ]
    },
    {
     "name": "stderr",
     "output_type": "stream",
     "text": [
      "\u001b[32mMC running β₁=Inf, β₂=10.0 100%|████████████████████████| Time: 0:00:02\u001b[39m\n"
     ]
    },
    {
     "name": "stdout",
     "output_type": "stream",
     "text": [
      "Temperature 3 of 3:(β₁=Inf,β₂=10.0). Distortion 0.417. Acceptance 50%\n",
      "# Finished iter 32 of 50: Parity 0. Distortion 0.417 at β₁=Inf, β₂=10.0.\n",
      "\n"
     ]
    },
    {
     "name": "stderr",
     "output_type": "stream",
     "text": [
      "\u001b[32mMC running β₁=Inf, β₂=0.1 100%|█████████████████████████| Time: 0:00:02\u001b[39m\n"
     ]
    },
    {
     "name": "stdout",
     "output_type": "stream",
     "text": [
      "Temperature 1 of 3:(β₁=Inf,β₂=0.1). Distortion 0.476. Acceptance 30%\n"
     ]
    },
    {
     "name": "stderr",
     "output_type": "stream",
     "text": [
      "\u001b[32mMC running β₁=Inf, β₂=1.0 100%|█████████████████████████| Time: 0:00:02\u001b[39m\n"
     ]
    },
    {
     "name": "stdout",
     "output_type": "stream",
     "text": [
      "Temperature 2 of 3:(β₁=Inf,β₂=1.0). Distortion 0.446. Acceptance 41%\n"
     ]
    },
    {
     "name": "stderr",
     "output_type": "stream",
     "text": [
      "\u001b[32mMC running β₁=Inf, β₂=10.0 100%|████████████████████████| Time: 0:00:02\u001b[39m\n"
     ]
    },
    {
     "name": "stdout",
     "output_type": "stream",
     "text": [
      "Temperature 3 of 3:(β₁=Inf,β₂=10.0). Distortion 0.416. Acceptance 49%\n",
      "# Finished iter 33 of 50: Parity 0. Distortion 0.416 at β₁=Inf, β₂=10.0.\n",
      "\n"
     ]
    },
    {
     "name": "stderr",
     "output_type": "stream",
     "text": [
      "\u001b[32mMC running β₁=Inf, β₂=0.1 100%|█████████████████████████| Time: 0:00:02\u001b[39m\n"
     ]
    },
    {
     "name": "stdout",
     "output_type": "stream",
     "text": [
      "Temperature 1 of 3:(β₁=Inf,β₂=0.1). Distortion 0.478. Acceptance 30%\n"
     ]
    },
    {
     "name": "stderr",
     "output_type": "stream",
     "text": [
      "\u001b[32mMC running β₁=Inf, β₂=1.0 100%|█████████████████████████| Time: 0:00:02\u001b[39m\n"
     ]
    },
    {
     "name": "stdout",
     "output_type": "stream",
     "text": [
      "Temperature 2 of 3:(β₁=Inf,β₂=1.0). Distortion 0.443. Acceptance 48%\n"
     ]
    },
    {
     "name": "stderr",
     "output_type": "stream",
     "text": [
      "\u001b[32mMC running β₁=Inf, β₂=10.0 100%|████████████████████████| Time: 0:00:02\u001b[39m\n"
     ]
    },
    {
     "name": "stdout",
     "output_type": "stream",
     "text": [
      "Temperature 3 of 3:(β₁=Inf,β₂=10.0). Distortion 0.43. Acceptance 54%\n",
      "# Finished iter 34 of 50: Parity 0. Distortion 0.430 at β₁=Inf, β₂=10.0.\n",
      "\n"
     ]
    },
    {
     "name": "stderr",
     "output_type": "stream",
     "text": [
      "\u001b[32mMC running β₁=Inf, β₂=0.1 100%|█████████████████████████| Time: 0:00:02\u001b[39m\n"
     ]
    },
    {
     "name": "stdout",
     "output_type": "stream",
     "text": [
      "Temperature 1 of 3:(β₁=Inf,β₂=0.1). Distortion 0.485. Acceptance 28%\n"
     ]
    },
    {
     "name": "stderr",
     "output_type": "stream",
     "text": [
      "\u001b[32mMC running β₁=Inf, β₂=1.0 100%|█████████████████████████| Time: 0:00:02\u001b[39m\n"
     ]
    },
    {
     "name": "stdout",
     "output_type": "stream",
     "text": [
      "Temperature 2 of 3:(β₁=Inf,β₂=1.0). Distortion 0.453. Acceptance 43%\n"
     ]
    },
    {
     "name": "stderr",
     "output_type": "stream",
     "text": [
      "\u001b[32mMC running β₁=Inf, β₂=10.0 100%|████████████████████████| Time: 0:00:02\u001b[39m\n"
     ]
    },
    {
     "name": "stdout",
     "output_type": "stream",
     "text": [
      "Temperature 3 of 3:(β₁=Inf,β₂=10.0). Distortion 0.429. Acceptance 50%\n",
      "# Finished iter 35 of 50: Parity 0. Distortion 0.429 at β₁=Inf, β₂=10.0.\n",
      "\n"
     ]
    },
    {
     "name": "stderr",
     "output_type": "stream",
     "text": [
      "\u001b[32mMC running β₁=Inf, β₂=0.1 100%|█████████████████████████| Time: 0:00:02\u001b[39m\n"
     ]
    },
    {
     "name": "stdout",
     "output_type": "stream",
     "text": [
      "Temperature 1 of 3:(β₁=Inf,β₂=0.1). Distortion 0.469. Acceptance 29%\n"
     ]
    },
    {
     "name": "stderr",
     "output_type": "stream",
     "text": [
      "\u001b[32mMC running β₁=Inf, β₂=1.0 100%|█████████████████████████| Time: 0:00:02\u001b[39m\n"
     ]
    },
    {
     "name": "stdout",
     "output_type": "stream",
     "text": [
      "Temperature 2 of 3:(β₁=Inf,β₂=1.0). Distortion 0.438. Acceptance 39%\n"
     ]
    },
    {
     "name": "stderr",
     "output_type": "stream",
     "text": [
      "\u001b[32mMC running β₁=Inf, β₂=10.0 100%|████████████████████████| Time: 0:00:02\u001b[39m\n"
     ]
    },
    {
     "name": "stdout",
     "output_type": "stream",
     "text": [
      "Temperature 3 of 3:(β₁=Inf,β₂=10.0). Distortion 0.433. Acceptance 41%\n",
      "# Finished iter 36 of 50: Parity 0. Distortion 0.433 at β₁=Inf, β₂=10.0.\n",
      "\n"
     ]
    },
    {
     "name": "stderr",
     "output_type": "stream",
     "text": [
      "\u001b[32mMC running β₁=Inf, β₂=0.1 100%|█████████████████████████| Time: 0:00:02\u001b[39m\n"
     ]
    },
    {
     "name": "stdout",
     "output_type": "stream",
     "text": [
      "Temperature 1 of 3:(β₁=Inf,β₂=0.1). Distortion 0.484. Acceptance 28%\n"
     ]
    },
    {
     "name": "stderr",
     "output_type": "stream",
     "text": [
      "\u001b[32mMC running β₁=Inf, β₂=1.0 100%|█████████████████████████| Time: 0:00:02\u001b[39m\n"
     ]
    },
    {
     "name": "stdout",
     "output_type": "stream",
     "text": [
      "Temperature 2 of 3:(β₁=Inf,β₂=1.0). Distortion 0.443. Acceptance 42%\n"
     ]
    },
    {
     "name": "stderr",
     "output_type": "stream",
     "text": [
      "\u001b[32mMC running β₁=Inf, β₂=10.0 100%|████████████████████████| Time: 0:00:02\u001b[39m\n"
     ]
    },
    {
     "name": "stdout",
     "output_type": "stream",
     "text": [
      "Temperature 3 of 3:(β₁=Inf,β₂=10.0). Distortion 0.42. Acceptance 48%\n",
      "# Finished iter 37 of 50: Parity 0. Distortion 0.420 at β₁=Inf, β₂=10.0.\n",
      "\n"
     ]
    },
    {
     "name": "stderr",
     "output_type": "stream",
     "text": [
      "\u001b[32mMC running β₁=Inf, β₂=0.1 100%|█████████████████████████| Time: 0:00:02\u001b[39m\n"
     ]
    },
    {
     "name": "stdout",
     "output_type": "stream",
     "text": [
      "Temperature 1 of 3:(β₁=Inf,β₂=0.1). Distortion 0.456. Acceptance 30%\n"
     ]
    },
    {
     "name": "stderr",
     "output_type": "stream",
     "text": [
      "\u001b[32mMC running β₁=Inf, β₂=1.0 100%|█████████████████████████| Time: 0:00:02\u001b[39m\n"
     ]
    },
    {
     "name": "stdout",
     "output_type": "stream",
     "text": [
      "Temperature 2 of 3:(β₁=Inf,β₂=1.0). Distortion 0.429. Acceptance 45%\n"
     ]
    },
    {
     "name": "stderr",
     "output_type": "stream",
     "text": [
      "\u001b[32mMC running β₁=Inf, β₂=10.0 100%|████████████████████████| Time: 0:00:02\u001b[39m\n"
     ]
    },
    {
     "name": "stdout",
     "output_type": "stream",
     "text": [
      "Temperature 3 of 3:(β₁=Inf,β₂=10.0). Distortion 0.41. Acceptance 50%\n",
      "# Finished iter 38 of 50: Parity 0. Distortion 0.410 at β₁=Inf, β₂=10.0.\n",
      "\n"
     ]
    },
    {
     "name": "stderr",
     "output_type": "stream",
     "text": [
      "\u001b[32mMC running β₁=Inf, β₂=0.1 100%|█████████████████████████| Time: 0:00:02\u001b[39m\n"
     ]
    },
    {
     "name": "stdout",
     "output_type": "stream",
     "text": [
      "Temperature 1 of 3:(β₁=Inf,β₂=0.1). Distortion 0.445. Acceptance 28%\n"
     ]
    },
    {
     "name": "stderr",
     "output_type": "stream",
     "text": [
      "\u001b[32mMC running β₁=Inf, β₂=1.0 100%|█████████████████████████| Time: 0:00:02\u001b[39m\n"
     ]
    },
    {
     "name": "stdout",
     "output_type": "stream",
     "text": [
      "Temperature 2 of 3:(β₁=Inf,β₂=1.0). Distortion 0.426. Acceptance 43%\n"
     ]
    },
    {
     "name": "stderr",
     "output_type": "stream",
     "text": [
      "\u001b[32mMC running β₁=Inf, β₂=10.0 100%|████████████████████████| Time: 0:00:02\u001b[39m\n"
     ]
    },
    {
     "name": "stdout",
     "output_type": "stream",
     "text": [
      "Temperature 3 of 3:(β₁=Inf,β₂=10.0). Distortion 0.395. Acceptance 51%\n",
      "# Finished iter 39 of 50: Parity 0. Distortion 0.395 at β₁=Inf, β₂=10.0.\n",
      "\n"
     ]
    },
    {
     "name": "stderr",
     "output_type": "stream",
     "text": [
      "\u001b[32mMC running β₁=Inf, β₂=0.1 100%|█████████████████████████| Time: 0:00:02\u001b[39m\n"
     ]
    },
    {
     "name": "stdout",
     "output_type": "stream",
     "text": [
      "Temperature 1 of 3:(β₁=Inf,β₂=0.1). Distortion 0.483. Acceptance 30%\n"
     ]
    },
    {
     "name": "stderr",
     "output_type": "stream",
     "text": [
      "\u001b[32mMC running β₁=Inf, β₂=1.0 100%|█████████████████████████| Time: 0:00:02\u001b[39m\n"
     ]
    },
    {
     "name": "stdout",
     "output_type": "stream",
     "text": [
      "Temperature 2 of 3:(β₁=Inf,β₂=1.0). Distortion 0.451. Acceptance 40%\n"
     ]
    },
    {
     "name": "stderr",
     "output_type": "stream",
     "text": [
      "\u001b[32mMC running β₁=Inf, β₂=10.0 100%|████████████████████████| Time: 0:00:02\u001b[39m\n"
     ]
    },
    {
     "name": "stdout",
     "output_type": "stream",
     "text": [
      "Temperature 3 of 3:(β₁=Inf,β₂=10.0). Distortion 0.436. Acceptance 46%\n",
      "# Finished iter 40 of 50: Parity 0. Distortion 0.436 at β₁=Inf, β₂=10.0.\n",
      "\n"
     ]
    },
    {
     "name": "stderr",
     "output_type": "stream",
     "text": [
      "\u001b[32mMC running β₁=Inf, β₂=0.1 100%|█████████████████████████| Time: 0:00:02\u001b[39m\n"
     ]
    },
    {
     "name": "stdout",
     "output_type": "stream",
     "text": [
      "Temperature 1 of 3:(β₁=Inf,β₂=0.1). Distortion 0.456. Acceptance 30%\n"
     ]
    },
    {
     "name": "stderr",
     "output_type": "stream",
     "text": [
      "\u001b[32mMC running β₁=Inf, β₂=1.0 100%|█████████████████████████| Time: 0:00:02\u001b[39m\n"
     ]
    },
    {
     "name": "stdout",
     "output_type": "stream",
     "text": [
      "Temperature 2 of 3:(β₁=Inf,β₂=1.0). Distortion 0.416. Acceptance 44%\n"
     ]
    },
    {
     "name": "stderr",
     "output_type": "stream",
     "text": [
      "\u001b[32mMC running β₁=Inf, β₂=10.0 100%|████████████████████████| Time: 0:00:02\u001b[39m\n"
     ]
    },
    {
     "name": "stdout",
     "output_type": "stream",
     "text": [
      "Temperature 3 of 3:(β₁=Inf,β₂=10.0). Distortion 0.399. Acceptance 49%\n",
      "# Finished iter 41 of 50: Parity 0. Distortion 0.399 at β₁=Inf, β₂=10.0.\n",
      "\n"
     ]
    },
    {
     "name": "stderr",
     "output_type": "stream",
     "text": [
      "\u001b[32mMC running β₁=Inf, β₂=0.1 100%|█████████████████████████| Time: 0:00:02\u001b[39m\n"
     ]
    },
    {
     "name": "stdout",
     "output_type": "stream",
     "text": [
      "Temperature 1 of 3:(β₁=Inf,β₂=0.1). Distortion 0.498. Acceptance 30%\n"
     ]
    },
    {
     "name": "stderr",
     "output_type": "stream",
     "text": [
      "\u001b[32mMC running β₁=Inf, β₂=1.0 100%|█████████████████████████| Time: 0:00:02\u001b[39m\n"
     ]
    },
    {
     "name": "stdout",
     "output_type": "stream",
     "text": [
      "Temperature 2 of 3:(β₁=Inf,β₂=1.0). Distortion 0.456. Acceptance 46%\n"
     ]
    },
    {
     "name": "stderr",
     "output_type": "stream",
     "text": [
      "\u001b[32mMC running β₁=Inf, β₂=10.0 100%|████████████████████████| Time: 0:00:02\u001b[39m\n"
     ]
    },
    {
     "name": "stdout",
     "output_type": "stream",
     "text": [
      "Temperature 3 of 3:(β₁=Inf,β₂=10.0). Distortion 0.433. Acceptance 51%\n",
      "# Finished iter 42 of 50: Parity 0. Distortion 0.433 at β₁=Inf, β₂=10.0.\n",
      "\n"
     ]
    },
    {
     "name": "stderr",
     "output_type": "stream",
     "text": [
      "\u001b[32mMC running β₁=Inf, β₂=0.1 100%|█████████████████████████| Time: 0:00:02\u001b[39m\n"
     ]
    },
    {
     "name": "stdout",
     "output_type": "stream",
     "text": [
      "Temperature 1 of 3:(β₁=Inf,β₂=0.1). Distortion 0.458. Acceptance 30%\n"
     ]
    },
    {
     "name": "stderr",
     "output_type": "stream",
     "text": [
      "\u001b[32mMC running β₁=Inf, β₂=1.0 100%|█████████████████████████| Time: 0:00:02\u001b[39m\n"
     ]
    },
    {
     "name": "stdout",
     "output_type": "stream",
     "text": [
      "Temperature 2 of 3:(β₁=Inf,β₂=1.0). Distortion 0.417. Acceptance 44%\n"
     ]
    },
    {
     "name": "stderr",
     "output_type": "stream",
     "text": [
      "\u001b[32mMC running β₁=Inf, β₂=10.0 100%|████████████████████████| Time: 0:00:02\u001b[39m\n"
     ]
    },
    {
     "name": "stdout",
     "output_type": "stream",
     "text": [
      "Temperature 3 of 3:(β₁=Inf,β₂=10.0). Distortion 0.4. Acceptance 50%\n",
      "# Finished iter 43 of 50: Parity 0. Distortion 0.400 at β₁=Inf, β₂=10.0.\n",
      "\n"
     ]
    },
    {
     "name": "stderr",
     "output_type": "stream",
     "text": [
      "\u001b[32mMC running β₁=Inf, β₂=0.1 100%|█████████████████████████| Time: 0:00:02\u001b[39m\n"
     ]
    },
    {
     "name": "stdout",
     "output_type": "stream",
     "text": [
      "Temperature 1 of 3:(β₁=Inf,β₂=0.1). Distortion 0.482. Acceptance 30%\n"
     ]
    },
    {
     "name": "stderr",
     "output_type": "stream",
     "text": [
      "\u001b[32mMC running β₁=Inf, β₂=1.0 100%|█████████████████████████| Time: 0:00:02\u001b[39m\n"
     ]
    },
    {
     "name": "stdout",
     "output_type": "stream",
     "text": [
      "Temperature 2 of 3:(β₁=Inf,β₂=1.0). Distortion 0.462. Acceptance 46%\n"
     ]
    },
    {
     "name": "stderr",
     "output_type": "stream",
     "text": [
      "\u001b[32mMC running β₁=Inf, β₂=10.0 100%|████████████████████████| Time: 0:00:02\u001b[39m\n"
     ]
    },
    {
     "name": "stdout",
     "output_type": "stream",
     "text": [
      "Temperature 3 of 3:(β₁=Inf,β₂=10.0). Distortion 0.442. Acceptance 53%\n",
      "# Finished iter 44 of 50: Parity 0. Distortion 0.442 at β₁=Inf, β₂=10.0.\n",
      "\n"
     ]
    },
    {
     "name": "stderr",
     "output_type": "stream",
     "text": [
      "\u001b[32mMC running β₁=Inf, β₂=0.1 100%|█████████████████████████| Time: 0:00:02\u001b[39m\n"
     ]
    },
    {
     "name": "stdout",
     "output_type": "stream",
     "text": [
      "Temperature 1 of 3:(β₁=Inf,β₂=0.1). Distortion 0.466. Acceptance 29%\n"
     ]
    },
    {
     "name": "stderr",
     "output_type": "stream",
     "text": [
      "\r",
      "\u001b[32mMC running β₁=Inf, β₂=1.0  40%|██████████               |  ETA: 0:00:02\u001b[39m"
     ]
    }
   ],
   "source": [
    "time_SA = @timed for (i,b) in enumerate(bvals)\n",
    "    println(\"##### b=$b. $i of $(length(bvals)) #####\")\n",
    "    sims[i] = Simulation(q, n, m, sa, b=b, niter=niter, verbose=true, randseed=randseed+i, showprogress=true)\n",
    "end"
   ]
  },
  {
   "cell_type": "code",
   "execution_count": null,
   "metadata": {},
   "outputs": [],
   "source": [
    "println(\"Runtime for simulated annealing: \", round(time_SA,digits=0)), \"s\""
   ]
  },
  {
   "cell_type": "code",
   "execution_count": 5,
   "metadata": {},
   "outputs": [
    {
     "data": {
      "image/svg+xml": [
       "<?xml version=\"1.0\" encoding=\"utf-8\"?>\n",
       "<svg xmlns=\"http://www.w3.org/2000/svg\" xmlns:xlink=\"http://www.w3.org/1999/xlink\" width=\"600\" height=\"400\" viewBox=\"0 0 2400 1600\">\n",
       "<defs>\n",
       "  <clipPath id=\"clip2600\">\n",
       "    <rect x=\"0\" y=\"0\" width=\"2400\" height=\"1600\"/>\n",
       "  </clipPath>\n",
       "</defs>\n",
       "<path clip-path=\"url(#clip2600)\" d=\"\n",
       "M0 1600 L2400 1600 L2400 0 L0 0  Z\n",
       "  \" fill=\"#ffffff\" fill-rule=\"evenodd\" fill-opacity=\"1\"/>\n",
       "<defs>\n",
       "  <clipPath id=\"clip2601\">\n",
       "    <rect x=\"480\" y=\"0\" width=\"1681\" height=\"1600\"/>\n",
       "  </clipPath>\n",
       "</defs>\n",
       "<path clip-path=\"url(#clip2600)\" d=\"\n",
       "M269.279 1425.62 L2352.76 1425.62 L2352.76 121.675 L269.279 121.675  Z\n",
       "  \" fill=\"#ffffff\" fill-rule=\"evenodd\" fill-opacity=\"1\"/>\n",
       "<defs>\n",
       "  <clipPath id=\"clip2602\">\n",
       "    <rect x=\"269\" y=\"121\" width=\"2084\" height=\"1305\"/>\n",
       "  </clipPath>\n",
       "</defs>\n",
       "<polyline clip-path=\"url(#clip2602)\" style=\"stroke:#000000; stroke-width:2; stroke-opacity:0.1; fill:none\" points=\"\n",
       "  288.132,1425.62 288.132,121.675 \n",
       "  \"/>\n",
       "<polyline clip-path=\"url(#clip2602)\" style=\"stroke:#000000; stroke-width:2; stroke-opacity:0.1; fill:none\" points=\"\n",
       "  689.263,1425.62 689.263,121.675 \n",
       "  \"/>\n",
       "<polyline clip-path=\"url(#clip2602)\" style=\"stroke:#000000; stroke-width:2; stroke-opacity:0.1; fill:none\" points=\"\n",
       "  1090.39,1425.62 1090.39,121.675 \n",
       "  \"/>\n",
       "<polyline clip-path=\"url(#clip2602)\" style=\"stroke:#000000; stroke-width:2; stroke-opacity:0.1; fill:none\" points=\"\n",
       "  1491.53,1425.62 1491.53,121.675 \n",
       "  \"/>\n",
       "<polyline clip-path=\"url(#clip2602)\" style=\"stroke:#000000; stroke-width:2; stroke-opacity:0.1; fill:none\" points=\"\n",
       "  1892.66,1425.62 1892.66,121.675 \n",
       "  \"/>\n",
       "<polyline clip-path=\"url(#clip2602)\" style=\"stroke:#000000; stroke-width:2; stroke-opacity:0.1; fill:none\" points=\"\n",
       "  2293.79,1425.62 2293.79,121.675 \n",
       "  \"/>\n",
       "<polyline clip-path=\"url(#clip2602)\" style=\"stroke:#000000; stroke-width:2; stroke-opacity:0.1; fill:none\" points=\"\n",
       "  269.279,1223.78 2352.76,1223.78 \n",
       "  \"/>\n",
       "<polyline clip-path=\"url(#clip2602)\" style=\"stroke:#000000; stroke-width:2; stroke-opacity:0.1; fill:none\" points=\"\n",
       "  269.279,987.387 2352.76,987.387 \n",
       "  \"/>\n",
       "<polyline clip-path=\"url(#clip2602)\" style=\"stroke:#000000; stroke-width:2; stroke-opacity:0.1; fill:none\" points=\"\n",
       "  269.279,750.993 2352.76,750.993 \n",
       "  \"/>\n",
       "<polyline clip-path=\"url(#clip2602)\" style=\"stroke:#000000; stroke-width:2; stroke-opacity:0.1; fill:none\" points=\"\n",
       "  269.279,514.599 2352.76,514.599 \n",
       "  \"/>\n",
       "<polyline clip-path=\"url(#clip2602)\" style=\"stroke:#000000; stroke-width:2; stroke-opacity:0.1; fill:none\" points=\"\n",
       "  269.279,514.599 2352.76,514.599 \n",
       "  \"/>\n",
       "<polyline clip-path=\"url(#clip2600)\" style=\"stroke:#000000; stroke-width:4; stroke-opacity:1; fill:none\" points=\"\n",
       "  269.279,1425.62 2352.76,1425.62 \n",
       "  \"/>\n",
       "<polyline clip-path=\"url(#clip2600)\" style=\"stroke:#000000; stroke-width:4; stroke-opacity:1; fill:none\" points=\"\n",
       "  269.279,1425.62 269.279,121.675 \n",
       "  \"/>\n",
       "<polyline clip-path=\"url(#clip2600)\" style=\"stroke:#000000; stroke-width:4; stroke-opacity:1; fill:none\" points=\"\n",
       "  288.132,1425.62 288.132,1409.97 \n",
       "  \"/>\n",
       "<polyline clip-path=\"url(#clip2600)\" style=\"stroke:#000000; stroke-width:4; stroke-opacity:1; fill:none\" points=\"\n",
       "  689.263,1425.62 689.263,1409.97 \n",
       "  \"/>\n",
       "<polyline clip-path=\"url(#clip2600)\" style=\"stroke:#000000; stroke-width:4; stroke-opacity:1; fill:none\" points=\"\n",
       "  1090.39,1425.62 1090.39,1409.97 \n",
       "  \"/>\n",
       "<polyline clip-path=\"url(#clip2600)\" style=\"stroke:#000000; stroke-width:4; stroke-opacity:1; fill:none\" points=\"\n",
       "  1491.53,1425.62 1491.53,1409.97 \n",
       "  \"/>\n",
       "<polyline clip-path=\"url(#clip2600)\" style=\"stroke:#000000; stroke-width:4; stroke-opacity:1; fill:none\" points=\"\n",
       "  1892.66,1425.62 1892.66,1409.97 \n",
       "  \"/>\n",
       "<polyline clip-path=\"url(#clip2600)\" style=\"stroke:#000000; stroke-width:4; stroke-opacity:1; fill:none\" points=\"\n",
       "  2293.79,1425.62 2293.79,1409.97 \n",
       "  \"/>\n",
       "<polyline clip-path=\"url(#clip2600)\" style=\"stroke:#000000; stroke-width:4; stroke-opacity:1; fill:none\" points=\"\n",
       "  269.279,1223.78 294.28,1223.78 \n",
       "  \"/>\n",
       "<polyline clip-path=\"url(#clip2600)\" style=\"stroke:#000000; stroke-width:4; stroke-opacity:1; fill:none\" points=\"\n",
       "  269.279,987.387 294.28,987.387 \n",
       "  \"/>\n",
       "<polyline clip-path=\"url(#clip2600)\" style=\"stroke:#000000; stroke-width:4; stroke-opacity:1; fill:none\" points=\"\n",
       "  269.279,750.993 294.28,750.993 \n",
       "  \"/>\n",
       "<polyline clip-path=\"url(#clip2600)\" style=\"stroke:#000000; stroke-width:4; stroke-opacity:1; fill:none\" points=\"\n",
       "  269.279,514.599 294.28,514.599 \n",
       "  \"/>\n",
       "<polyline clip-path=\"url(#clip2600)\" style=\"stroke:#000000; stroke-width:4; stroke-opacity:1; fill:none\" points=\"\n",
       "  269.279,514.599 294.28,514.599 \n",
       "  \"/>\n",
       "<g clip-path=\"url(#clip2600)\">\n",
       "<text style=\"fill:#000000; fill-opacity:1; font-family:Arial,Helvetica Neue,Helvetica,sans-serif; font-size:48px; text-anchor:middle;\" transform=\"rotate(0, 288.132, 1479.62)\" x=\"288.132\" y=\"1479.62\">0</text>\n",
       "</g>\n",
       "<g clip-path=\"url(#clip2600)\">\n",
       "<text style=\"fill:#000000; fill-opacity:1; font-family:Arial,Helvetica Neue,Helvetica,sans-serif; font-size:48px; text-anchor:middle;\" transform=\"rotate(0, 689.263, 1479.62)\" x=\"689.263\" y=\"1479.62\">10</text>\n",
       "</g>\n",
       "<g clip-path=\"url(#clip2600)\">\n",
       "<text style=\"fill:#000000; fill-opacity:1; font-family:Arial,Helvetica Neue,Helvetica,sans-serif; font-size:48px; text-anchor:middle;\" transform=\"rotate(0, 1090.39, 1479.62)\" x=\"1090.39\" y=\"1479.62\">20</text>\n",
       "</g>\n",
       "<g clip-path=\"url(#clip2600)\">\n",
       "<text style=\"fill:#000000; fill-opacity:1; font-family:Arial,Helvetica Neue,Helvetica,sans-serif; font-size:48px; text-anchor:middle;\" transform=\"rotate(0, 1491.53, 1479.62)\" x=\"1491.53\" y=\"1479.62\">30</text>\n",
       "</g>\n",
       "<g clip-path=\"url(#clip2600)\">\n",
       "<text style=\"fill:#000000; fill-opacity:1; font-family:Arial,Helvetica Neue,Helvetica,sans-serif; font-size:48px; text-anchor:middle;\" transform=\"rotate(0, 1892.66, 1479.62)\" x=\"1892.66\" y=\"1479.62\">40</text>\n",
       "</g>\n",
       "<g clip-path=\"url(#clip2600)\">\n",
       "<text style=\"fill:#000000; fill-opacity:1; font-family:Arial,Helvetica Neue,Helvetica,sans-serif; font-size:48px; text-anchor:middle;\" transform=\"rotate(0, 2293.79, 1479.62)\" x=\"2293.79\" y=\"1479.62\">50</text>\n",
       "</g>\n",
       "<g clip-path=\"url(#clip2600)\">\n",
       "<text style=\"fill:#000000; fill-opacity:1; font-family:Arial,Helvetica Neue,Helvetica,sans-serif; font-size:48px; text-anchor:end;\" transform=\"rotate(0, 245.279, 1241.28)\" x=\"245.279\" y=\"1241.28\">0.434</text>\n",
       "</g>\n",
       "<g clip-path=\"url(#clip2600)\">\n",
       "<text style=\"fill:#000000; fill-opacity:1; font-family:Arial,Helvetica Neue,Helvetica,sans-serif; font-size:48px; text-anchor:end;\" transform=\"rotate(0, 245.279, 1004.89)\" x=\"245.279\" y=\"1004.89\">0.436</text>\n",
       "</g>\n",
       "<g clip-path=\"url(#clip2600)\">\n",
       "<text style=\"fill:#000000; fill-opacity:1; font-family:Arial,Helvetica Neue,Helvetica,sans-serif; font-size:48px; text-anchor:end;\" transform=\"rotate(0, 245.279, 768.493)\" x=\"245.279\" y=\"768.493\">0.438</text>\n",
       "</g>\n",
       "<g clip-path=\"url(#clip2600)\">\n",
       "<text style=\"fill:#000000; fill-opacity:1; font-family:Arial,Helvetica Neue,Helvetica,sans-serif; font-size:48px; text-anchor:end;\" transform=\"rotate(0, 245.279, 532.099)\" x=\"245.279\" y=\"532.099\">0.440</text>\n",
       "</g>\n",
       "<g clip-path=\"url(#clip2600)\">\n",
       "<text style=\"fill:#000000; fill-opacity:1; font-family:Arial,Helvetica Neue,Helvetica,sans-serif; font-size:48px; text-anchor:end;\" transform=\"rotate(0, 245.279, 532.099)\" x=\"245.279\" y=\"532.099\">0.440</text>\n",
       "</g>\n",
       "<g clip-path=\"url(#clip2600)\">\n",
       "<text style=\"fill:#000000; fill-opacity:1; font-family:Arial,Helvetica Neue,Helvetica,sans-serif; font-size:84px; text-anchor:middle;\" transform=\"rotate(0, 1311.02, 73.2)\" x=\"1311.02\" y=\"73.2\">Distortion vs number of removed factors - Simulated Annealing</text>\n",
       "</g>\n",
       "<g clip-path=\"url(#clip2600)\">\n",
       "<text style=\"fill:#000000; fill-opacity:1; font-family:Arial,Helvetica Neue,Helvetica,sans-serif; font-size:66px; text-anchor:middle;\" transform=\"rotate(0, 1311.02, 1559.48)\" x=\"1311.02\" y=\"1559.48\">b</text>\n",
       "</g>\n",
       "<g clip-path=\"url(#clip2600)\">\n",
       "<text style=\"fill:#000000; fill-opacity:1; font-family:Arial,Helvetica Neue,Helvetica,sans-serif; font-size:66px; text-anchor:middle;\" transform=\"rotate(-90, 89.2861, 773.647)\" x=\"89.2861\" y=\"773.647\">D</text>\n",
       "</g>\n",
       "<path clip-path=\"url(#clip2602)\" d=\"\n",
       "M328.245 366.312 L408.471 821.164 L488.698 901.805 L689.263 1267.27 L1090.39 1087.98 L2293.79 1388.71 L2293.79 1195.95 L1090.39 892.31 L689.263 1069.18 L488.698 707.345 \n",
       "  L408.471 629.603 L328.245 158.579  Z\n",
       "  \" fill=\"#009af9\" fill-rule=\"evenodd\" fill-opacity=\"0.5\"/>\n",
       "<polyline clip-path=\"url(#clip2602)\" style=\"stroke:#009af9; stroke-width:4; stroke-opacity:1; fill:none\" points=\"\n",
       "  328.245,262.446 408.471,725.383 488.698,804.575 689.263,1168.23 1090.39,990.144 2293.79,1292.33 \n",
       "  \"/>\n",
       "<circle clip-path=\"url(#clip2602)\" cx=\"328.245\" cy=\"262.446\" r=\"14\" fill=\"#009af9\" fill-rule=\"evenodd\" fill-opacity=\"1\" stroke=\"#000000\" stroke-opacity=\"1\" stroke-width=\"3.2\"/>\n",
       "<circle clip-path=\"url(#clip2602)\" cx=\"408.471\" cy=\"725.383\" r=\"14\" fill=\"#009af9\" fill-rule=\"evenodd\" fill-opacity=\"1\" stroke=\"#000000\" stroke-opacity=\"1\" stroke-width=\"3.2\"/>\n",
       "<circle clip-path=\"url(#clip2602)\" cx=\"488.698\" cy=\"804.575\" r=\"14\" fill=\"#009af9\" fill-rule=\"evenodd\" fill-opacity=\"1\" stroke=\"#000000\" stroke-opacity=\"1\" stroke-width=\"3.2\"/>\n",
       "<circle clip-path=\"url(#clip2602)\" cx=\"689.263\" cy=\"1168.23\" r=\"14\" fill=\"#009af9\" fill-rule=\"evenodd\" fill-opacity=\"1\" stroke=\"#000000\" stroke-opacity=\"1\" stroke-width=\"3.2\"/>\n",
       "<circle clip-path=\"url(#clip2602)\" cx=\"1090.39\" cy=\"990.144\" r=\"14\" fill=\"#009af9\" fill-rule=\"evenodd\" fill-opacity=\"1\" stroke=\"#000000\" stroke-opacity=\"1\" stroke-width=\"3.2\"/>\n",
       "<circle clip-path=\"url(#clip2602)\" cx=\"2293.79\" cy=\"1292.33\" r=\"14\" fill=\"#009af9\" fill-rule=\"evenodd\" fill-opacity=\"1\" stroke=\"#000000\" stroke-opacity=\"1\" stroke-width=\"3.2\"/>\n",
       "</svg>\n"
      ]
     },
     "execution_count": 5,
     "metadata": {},
     "output_type": "execute_result"
    }
   ],
   "source": [
    "dist = distortion.(sims)\n",
    "avg_dist = mean.(dist)\n",
    "sd_dist = std.(dist) ./ sqrt(niter)\n",
    "Plots.plot(bvals, avg_dist, xlabel=\"b\", ylabel=\"D\", label=\"\", ribbon=sd_dist, marker=:circle)\n",
    "title!(\"Distortion vs number of removed factors - Simulated Annealing\")"
   ]
  },
  {
   "cell_type": "markdown",
   "metadata": {},
   "source": [
    "$b$-reduction seems to indeed have some effect"
   ]
  },
  {
   "cell_type": "markdown",
   "metadata": {},
   "source": [
    "## Compare with Max-sum\n",
    "\n",
    "Run Max-sum on the same graphs and observe differences"
   ]
  },
  {
   "cell_type": "code",
   "execution_count": 6,
   "metadata": {},
   "outputs": [],
   "source": [
    "sims_ms = Vector{Simulation{MS}}(undef, length(bvals))\n",
    "ms = MS(maxiter=200, gamma=5e-3);"
   ]
  },
  {
   "cell_type": "code",
   "execution_count": 7,
   "metadata": {
    "scrolled": true
   },
   "outputs": [
    {
     "name": "stdout",
     "output_type": "stream",
     "text": [
      "##### b=1. 1 of 6 #####\n",
      "##### b=3. 2 of 6 #####\n"
     ]
    },
    {
     "ename": "LoadError",
     "evalue": "InterruptException:",
     "output_type": "error",
     "traceback": [
      "InterruptException:",
      "",
      "Stacktrace:",
      " [1] Array at ./boot.jl:406 [inlined]",
      " [2] Array at ./boot.jl:415 [inlined]",
      " [3] similar at ./array.jl:380 [inlined]",
      " [4] similar at ./abstractarray.jl:630 [inlined]",
      " [5] _unsafe_getindex(::IndexLinear, ::Array{Int64,2}, ::Base.Slice{Base.OneTo{Int64}}, ::Int64) at ./multidimensional.jl:755",
      " [6] _getindex at ./multidimensional.jl:743 [inlined]",
      " [7] getindex at ./abstractarray.jl:1060 [inlined]",
      " [8] gfmatrixmult(::Array{Int64,2}, ::Array{Int64,2}, ::Int64, ::OffsetArray{Int64,2,Array{Int64,2}}) at /home/crotti/sourcecoding/code/ldpc_graph.jl:195",
      " [9] paritycheck(::FactorGraph, ::Array{Int64,1}, ::Array{Int64,1}) at /home/crotti/sourcecoding/code/ldpc_graph.jl:215 (repeats 2 times)",
      " [10] bp!(::FactorGraph, ::MS, ::Array{Int64,1}, ::Array{Float64,1}, ::BitArray{1}, ::Array{Float64,1}; randseed::Int64, verbose::Bool, showprogress::Bool) at /home/crotti/sourcecoding/code/gfrbp.jl:231",
      " [11] #solve!#137 at /home/crotti/sourcecoding/code/gfrbp.jl:327 [inlined]",
      " [12] macro expansion at ./timing.jl:310 [inlined]",
      " [13] Simulation(::Int64, ::Int64, ::Int64, ::MS; b::Int64, niter::Int64, arbitrary_mult::Bool, samegraph::Bool, samevector::Bool, randseed::Int64, verbose::Bool, showprogress::Bool) at /home/crotti/sourcecoding/code/SimulationNEW.jl:44",
      " [14] top-level scope at ./In[7]:3"
     ]
    }
   ],
   "source": [
    "for (i,b) in enumerate(bvals)\n",
    "    println(\"##### b=$b. $i of $(length(bvals)) #####\")\n",
    "    sims_ms[i] = Simulation(q,n,m,ms,b=b, niter=niter, verbose=false, randseed=randseed+i, showprogress=false)\n",
    "end"
   ]
  },
  {
   "cell_type": "code",
   "execution_count": 8,
   "metadata": {},
   "outputs": [
    {
     "ename": "LoadError",
     "evalue": "UndefRefError: access to undefined reference",
     "output_type": "error",
     "traceback": [
      "UndefRefError: access to undefined reference",
      "",
      "Stacktrace:",
      " [1] getindex at ./array.jl:809 [inlined]",
      " [2] _broadcast_getindex at ./broadcast.jl:614 [inlined]",
      " [3] _getindex at ./broadcast.jl:645 [inlined]",
      " [4] _broadcast_getindex at ./broadcast.jl:620 [inlined]",
      " [5] getindex at ./broadcast.jl:575 [inlined]",
      " [6] copyto_nonleaf!(::Array{Array{Float64,1},1}, ::Base.Broadcast.Broadcasted{Base.Broadcast.DefaultArrayStyle{1},Tuple{Base.OneTo{Int64}},typeof(distortion),Tuple{Base.Broadcast.Extruded{Array{Simulation{MS},1},Tuple{Bool},Tuple{Int64}}}}, ::Base.OneTo{Int64}, ::Int64, ::Int64) at ./broadcast.jl:1026",
      " [7] copy at ./broadcast.jl:880 [inlined]",
      " [8] materialize(::Base.Broadcast.Broadcasted{Base.Broadcast.DefaultArrayStyle{1},Nothing,typeof(distortion),Tuple{Array{Simulation{MS},1}}}) at ./broadcast.jl:837",
      " [9] top-level scope at In[8]:1"
     ]
    }
   ],
   "source": [
    "dist_ms = distortion.(sims_ms)\n",
    "avg_dist_ms = mean.(dist_ms)\n",
    "sd_dist_ms = std.(dist_ms) ./ sqrt(niter)\n",
    "Plots.plot(bvals, avg_dist_ms, xlabel=\"b\", ylabel=\"D\", label=\"\", ribbon=sd_dist_ms, marker=:circle)\n",
    "title!(\"Distortion vs number of removed factors - Max-sum\")"
   ]
  }
 ],
 "metadata": {
  "kernelspec": {
   "display_name": "Julia 1.5.3",
   "language": "julia",
   "name": "julia-1.5"
  },
  "language_info": {
   "file_extension": ".jl",
   "mimetype": "application/julia",
   "name": "julia",
   "version": "1.5.3"
  }
 },
 "nbformat": 4,
 "nbformat_minor": 4
}
