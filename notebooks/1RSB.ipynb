{
 "cells": [
  {
   "cell_type": "markdown",
   "metadata": {},
   "source": [
    "1RSB\n",
    "===\n",
    "\n",
    "\\begin{align*}\n",
    "p\\left(f\\right)  &= \\sum_{f_{1},\\dots,f_{k}}\\delta\\left(f;\\min_{j=1,\\dots,k}\\left|f_{j}\\right|\\prod_{j=1}^{k}\\text{sign}\\left(f_{j}\\right)\\right)\\prod_{j=1}^{k}q_j\\left(f_{j}\\right)e^{-y F_{ai}}\\\\\n",
    "q(f) &= \\sum_{f_1,\\dots,f_d} \\prod_{b=1,\\dots,d} p_b(f_b) \\delta\\left(f-s-\\sum_{b=1,\\dots,d}f_b\\right)e^{-y F_{ia}}\\\\\n",
    "\\end{align*}\n",
    "\n",
    "where\n",
    "\\begin{align*}\n",
    "F_{ai} &= -2\\min_{j=1,\\dots,k}|f_{j}|\\Theta\\left(-\\prod_{j=1}^kf_{j}\\right)\\\\\n",
    " F_{ia} &=\\left|s + \\sum_{b=1}^d f_b\\right| - \\sum_{b=1}^d|f_b|\n",
    "\\end{align*}\n",
    "\n"
   ]
  },
  {
   "cell_type": "code",
   "execution_count": 1,
   "metadata": {},
   "outputs": [
    {
     "data": {
      "text/plain": [
       "sum (generic function with 14 methods)"
      ]
     },
     "execution_count": 1,
     "metadata": {},
     "output_type": "execute_result"
    }
   ],
   "source": [
    "using OffsetArrays\n",
    "\n",
    "const ∏ = prod\n",
    "const ∑ = sum"
   ]
  },
  {
   "cell_type": "code",
   "execution_count": 2,
   "metadata": {},
   "outputs": [
    {
     "data": {
      "text/plain": [
       "iter_slow_var (generic function with 2 methods)"
      ]
     },
     "execution_count": 2,
     "metadata": {},
     "output_type": "execute_result"
    }
   ],
   "source": [
    "using OffsetArrays\n",
    "\n",
    "const ∏ = prod\n",
    "const ∑ = sum\n",
    "\n",
    "\n",
    "function iter_slow_factor(Q, J, y=0.0)\n",
    "    k = length(Q)\n",
    "    p = fill(0.0, -J:J)\n",
    "    for fs in Iterators.product(fill(-J:J,k)...)\n",
    "        Fai = -2*minimum(abs.(fs))*(∏(fs) < 0)\n",
    "        w = ∏(q[f1] for (q,f1) ∈ zip(Q,fs)) * exp(-y*Fai)\n",
    "        f = minimum(abs.(fs))*sign(∏(fs))\n",
    "        p[clamp(f, -J, J)] += w\n",
    "    end\n",
    "    p ./ sum(p)\n",
    "end\n",
    "\n",
    "function iter_slow_var(P, s, J, y=0.0) \n",
    "    q = fill(0.0, -J:J)\n",
    "    for fs in Iterators.product(fill(-J:J, length(P))...)\n",
    "        f = sum(fs) + s\n",
    "        Fia = abs(f) - sum(abs.(fs)) \n",
    "        w = ∏(p[f1] for (p,f1) ∈ zip(P,fs)) * exp(-y*Fia)\n",
    "        q[clamp(f, -J, J)] += w \n",
    "    end\n",
    "    q ./ sum(q)\n",
    "end"
   ]
  },
  {
   "cell_type": "markdown",
   "metadata": {},
   "source": [
    "Simplifications\n",
    "--\n",
    "\n",
    "$F_{ai}$ can be simplified: \n",
    "\n",
    "\\begin{align}\n",
    "F_{ai} &= -2\\min_{j=1,\\dots,k}|f_{j}|\\Theta\\left(-\\prod_{j=1}^kf_{j}\\right)\\\\\n",
    "&= -2\\min_{j=1,\\dots,k}|f_{j}|\\Theta\\left(\\textrm{sign}\\left(-\\prod_{j=1}^kf_{j}\\right)\\right)\\\\\n",
    "&= -2\\min_{j=1,\\dots,k}|f_{j}|\\Theta\\left(-\\min_{j=1,\\dots,k}|f_{j}|\\textrm{sign}\\left(\\prod_{j=1}^kf_{j}\\right)\\right)\\\\\n",
    "&= -2\\left|\\min_{j=1,\\dots,k}|f_{j}|\\textrm{sign}\\left(-\\prod_{j=1}^kf_{j}\\right)\\right|\\Theta\\left(-\\min_{j=1,\\dots,k}|f_{j}|\\textrm{sign}\\left(\\prod_{j=1}^kf_{j}\\right)\\right)\\\\\n",
    "&= 2f\\Theta(-f)\n",
    "\\end{align}\n",
    "\n",
    "So"
   ]
  },
  {
   "cell_type": "markdown",
   "metadata": {},
   "source": [
    "\\begin{align*}\n",
    "p\\left(f\\right)= & \\sum_{f_{1},\\dots,f_{k}}\\delta\\left(f;\\min_{j=1,\\dots,k}\\left|f_{j}\\right|\\prod_{j=1}^{k}\\text{sign}\\left(f_{j}\\right)\\right)\\prod_{j=1}^{k}q_j\\left(f_{j}\\right)e^{-y 2 f \\Theta(-f)}\\\\\n",
    "\\end{align*}"
   ]
  },
  {
   "cell_type": "markdown",
   "metadata": {},
   "source": [
    "To compute $p$, define\n",
    "\n",
    "\\begin{align*}\n",
    "a_k(f) &= p\\left(\\textrm{sign}\\left(\\prod_{i=1}^k f_i\\right)=\\textrm{sign}(f) \\wedge |f_1|,\\dots,|f_k| \\ge |f|\\right)\\\\\n",
    "\\end{align*}\n",
    "\n",
    "$a_k$ satisfies the recursion\n",
    "\n",
    "\\begin{align*}\n",
    "a_0(f) &= \\delta(\\textrm{sign}(f)-1)\\\\\n",
    "a_k(f) &= a_{k-1}(f) \\sum_{f_k\\geq |f|}q_k(f_k) + a_{k-1}(-f) \\sum_{f_k \\leq -|f|} q_k(f_k)\\\\\n",
    "\\end{align*}\n",
    "\n",
    "Then we finally have\n",
    "\n",
    "$$p_k(f) = \\cases{(a_k(f)-a_k(f+\\textrm{sign}(f)))e^{-y2f\\Theta(-f)} & for $f\\neq0$\\\\\n",
    "           1-\\prod_{j=1}^k(1-q_j(0)) & for $f=0$}$$\n"
   ]
  },
  {
   "cell_type": "code",
   "execution_count": 3,
   "metadata": {},
   "outputs": [
    {
     "data": {
      "text/plain": [
       "iter_factor (generic function with 2 methods)"
      ]
     },
     "execution_count": 3,
     "metadata": {},
     "output_type": "execute_result"
    }
   ],
   "source": [
    "function iter_factor(Q, J, y=0)\n",
    "    a = fill(0.0, -J-1:J+1)\n",
    "    a[1:J] .= 1\n",
    "    for q ∈ Q\n",
    "        Σp, Σm = 0.0, 0.0\n",
    "        for f=J:-1:1\n",
    "            ap, am = a[f], a[-f]\n",
    "            Σp += q[f]; Σm += q[-f]\n",
    "            #Σp, Σm = ∑(q[f:N]), ∑(q[-N:-f])\n",
    "            a[+f] = ap*Σp + am*Σm\n",
    "            a[-f] = am*Σp + ap*Σm\n",
    "        end\n",
    "    end\n",
    "    \n",
    "    p = fill(0.0, -J:J)\n",
    "    for f = 1:J\n",
    "        p[+f] = (a[+f]-a[+f+1])\n",
    "        p[-f] = (a[-f]-a[-f-1])*exp(2y*f)\n",
    "    end\n",
    "    p[0] = 1-∏(1-q[0] for q ∈ Q)\n",
    "    p ./ sum(p)\n",
    "end\n"
   ]
  },
  {
   "cell_type": "markdown",
   "metadata": {},
   "source": [
    "Comparison\n",
    "--"
   ]
  },
  {
   "cell_type": "code",
   "execution_count": 73,
   "metadata": {},
   "outputs": [
    {
     "data": {
      "text/plain": [
       "21×2 Matrix{Float64}:\n",
       " 0.295408     0.295408\n",
       " 0.134096     0.134096\n",
       " 0.104974     0.104974\n",
       " 0.030023     0.030023\n",
       " 0.0146793    0.0146793\n",
       " 0.00933844   0.00933844\n",
       " 0.0897125    0.0897125\n",
       " 0.0704443    0.0704443\n",
       " 0.0185086    0.0185086\n",
       " 0.0475206    0.0475206\n",
       " 0.0147403    0.0147403\n",
       " 0.023977     0.023977\n",
       " 0.0198299    0.0198299\n",
       " 0.0416744    0.0416744\n",
       " 0.00275464   0.00275464\n",
       " 0.00432038   0.00432038\n",
       " 0.00765093   0.00765093\n",
       " 0.0107772    0.0107772\n",
       " 0.0132924    0.0132924\n",
       " 0.000301125  0.000301125\n",
       " 0.0459766    0.0459766"
      ]
     },
     "execution_count": 73,
     "metadata": {},
     "output_type": "execute_result"
    }
   ],
   "source": [
    "J=10\n",
    "y=0.1\n",
    "Q=[(p=fill(0.0,-J:J); p[-J:J] .= rand(2J+1); p ./=sum(p)) for i=1:1]\n",
    "[iter_factor(Q,J,y) iter_slow_factor(Q,J,y)]"
   ]
  },
  {
   "cell_type": "markdown",
   "metadata": {},
   "source": [
    "The expression for $F_{ia}$ is"
   ]
  },
  {
   "cell_type": "markdown",
   "metadata": {},
   "source": [
    "\\begin{align*}\n",
    "    F_{ia} &=\\left|s + \\sum_{b=1}^d f_b\\right| - \\sum_{b=1}^d|f_b|\n",
    "\\end{align*}\n",
    "and\n",
    "\n",
    "\\begin{align*}\n",
    "q(f) &= \\sum_{f_1,\\dots,f_d} \\prod_{b=1,\\dots,d} p_b(f_b) \\delta\\left(f-s-\\sum_{b=1}^df_b\\right)e^{-y F_{ia}}\\\\\n",
    "&= e^{-y |f|}\\sum_{f_1,\\dots,f_d} \\prod_{b=1,\\dots,d} p_b(f_b)e^{y|f_b|} \\delta\\left(f-s-\\sum_{b=1}^df_b\\right)\\\\\n",
    "\\end{align*}\n",
    "\n",
    "\n",
    "To compute $q_d$, note that"
   ]
  },
  {
   "cell_type": "markdown",
   "metadata": {},
   "source": [
    "\\begin{align}\n",
    "q(f) &= q_d(f)e^{-y|f|}\n",
    "\\end{align}\n",
    "\n",
    "where $q_d$ satisfies\n",
    "\\begin{align}\n",
    "q_0(f) & = \\delta(f-s)\\\\\n",
    "q_d(f) & = \\sum_{f_d} q_{d-1}(f-f_d) p_d(f_d)e^{y|f_d|} \n",
    "\\end{align}"
   ]
  },
  {
   "cell_type": "code",
   "execution_count": 5,
   "metadata": {},
   "outputs": [
    {
     "data": {
      "text/plain": [
       "iter_var (generic function with 2 methods)"
      ]
     },
     "execution_count": 5,
     "metadata": {},
     "output_type": "execute_result"
    }
   ],
   "source": [
    "function ⊛(p1, p2)\n",
    "    q = fill(0.0,firstindex(p1)+firstindex(p2):lastindex(p1)+lastindex(p2))\n",
    "    for f1 in eachindex(p1), f2 in eachindex(p2)\n",
    "        q[f1+f2] += p1[f1]*p2[f2]\n",
    "    end\n",
    "    q\n",
    "end\n",
    "\n",
    "function iter_var(P, s, J, y=0)\n",
    "    q = fill(1.0, s:s)\n",
    "    for p ∈ P\n",
    "        q = q ⊛ (p .* exp.(y .* abs.(eachindex(p))))\n",
    "    end\n",
    "    q .*= exp.(-y .* abs.(eachindex(q)))\n",
    "    q2 = fill(0.0, -J:J)\n",
    "    for f in eachindex(q)\n",
    "        q2[clamp(f,-J,J)] += q[f]\n",
    "    end\n",
    "    q2 ./= sum(q2)\n",
    "end"
   ]
  },
  {
   "cell_type": "markdown",
   "metadata": {},
   "source": [
    "Comparison\n",
    "--"
   ]
  },
  {
   "cell_type": "code",
   "execution_count": 7,
   "metadata": {},
   "outputs": [
    {
     "data": {
      "text/plain": [
       "27×2 Matrix{Float64}:\n",
       " 0.00250081  0.00250081\n",
       " 0.014876    0.014876\n",
       " 0.0175626   0.0175626\n",
       " 0.031333    0.031333\n",
       " 0.0419065   0.0419065\n",
       " 0.0430645   0.0430645\n",
       " 0.0526794   0.0526794\n",
       " 0.0609549   0.0609549\n",
       " 0.0738811   0.0738811\n",
       " 0.0772615   0.0772615\n",
       " 0.0911597   0.0911597\n",
       " 0.100313    0.100313\n",
       " 0.107176    0.107176\n",
       " ⋮           \n",
       " 0.020032    0.020032\n",
       " 0.017142    0.017142\n",
       " 0.0156958   0.0156958\n",
       " 0.0148698   0.0148698\n",
       " 0.0131219   0.0131219\n",
       " 0.0118257   0.0118257\n",
       " 0.00922829  0.00922829\n",
       " 0.00752562  0.00752562\n",
       " 0.00564056  0.00564056\n",
       " 0.00480792  0.00480792\n",
       " 0.00460333  0.00460333\n",
       " 0.00435273  0.00435273"
      ]
     },
     "execution_count": 7,
     "metadata": {},
     "output_type": "execute_result"
    }
   ],
   "source": [
    "J=13\n",
    "y=1.0\n",
    "s=1\n",
    "P=[(p=fill(0.0, -J:J); p[-J:J] .= rand(2J+1); p ./=sum(p)) for i=1:3]\n",
    "[iter_var(P,s,J,y) iter_slow_var(P,s,J,y)]"
   ]
  },
  {
   "cell_type": "code",
   "execution_count": 18,
   "metadata": {},
   "outputs": [
    {
     "data": {
      "text/plain": [
       "RSB (generic function with 1 method)"
      ]
     },
     "execution_count": 18,
     "metadata": {},
     "output_type": "execute_result"
    }
   ],
   "source": [
    "using StatsBase, ProgressMeter\n",
    "\n",
    "uni(J) = fill(1/(2J+1), -J:J)\n",
    "residual(x) = (p=OffsetVector((x .* eachindex(x))[1:end], 0:lastindex(x)-1); p./=sum(p))\n",
    "\n",
    "function RSB(Λ, K; \n",
    "        J=10, \n",
    "        maxiter=100, \n",
    "        popsize=1000, \n",
    "        popP = [uni(J) for i=1:popsize], \n",
    "        popQ = [uni(J) for i=1:popsize], \n",
    "        y=0)\n",
    "    Λ1 = residual(Λ)\n",
    "    K1 = residual(K)\n",
    "    wΛ1 = weights(Λ1)\n",
    "    wK1 = weights(K1)\n",
    "\n",
    "    @showprogress for t = 1:maxiter\n",
    "        for i = eachindex(popQ)\n",
    "            d = sample(eachindex(Λ1), wΛ1)\n",
    "            k = sample(eachindex(K1), wK1)\n",
    "            Q = rand(popQ, k)\n",
    "            P = rand(popP, d)\n",
    "            s = rand((-1,1))\n",
    "            popQ[i] = iter_var(P, s, J, y)\n",
    "            popP[i] = iter_factor(Q, J, y)\n",
    "        end\n",
    "    end\n",
    "    popP, popQ\n",
    "end"
   ]
  },
  {
   "cell_type": "code",
   "execution_count": 57,
   "metadata": {
    "scrolled": true
   },
   "outputs": [],
   "source": [
    "Λ = OffsetVector([0,0,1], 0:2)\n",
    "K = OffsetVector([0,0,0,1], 0:3)\n",
    "\n",
    "\n",
    "J=10\n",
    "popsize=10000\n",
    "popQ = [OffsetVector(ones(2J+1)/(2J+1),-J:J) for i=1:popsize];\n",
    "popP = [OffsetVector(ones(2J+1)/(2J+1),-J:J) for i=1:popsize];"
   ]
  },
  {
   "cell_type": "code",
   "execution_count": 59,
   "metadata": {
    "scrolled": true
   },
   "outputs": [
    {
     "name": "stderr",
     "output_type": "stream",
     "text": [
      "\u001b[32mProgress: 100%|█████████████████████████████████████████| Time: 0:00:31\u001b[39m\n"
     ]
    }
   ],
   "source": [
    "popP, popQ = RSB(Λ,K; J=6, maxiter=1000, popsize=popsize, popQ=popQ, popP=popP, y=1.0);"
   ]
  },
  {
   "cell_type": "code",
   "execution_count": 23,
   "metadata": {},
   "outputs": [
    {
     "data": {
      "text/plain": [
       "7-element Vector{Float64}:\n",
       " 0.0009000000000000001\n",
       " 0.0374\n",
       " 0.24130000000000001\n",
       " 0.4409\n",
       " 0.2381\n",
       " 0.0405\n",
       " 0.0009000000000000001"
      ]
     },
     "execution_count": 23,
     "metadata": {},
     "output_type": "execute_result"
    }
   ],
   "source": [
    "using StatsBase\n",
    "\n",
    "proportions(argmax.(popP))"
   ]
  },
  {
   "cell_type": "markdown",
   "metadata": {},
   "source": [
    "1RSB equations for Max-Sum (Survey Propagation) at finite parameter $y$\n",
    "---\n",
    "We consider the auxiliary statistical physics model\n",
    "\\begin{align}\n",
    "    \\mathbb{P}_y(\\{u_{ai},v_{ia}\\})=\\frac{1}{\\Theta(y)}\\mathbb{I}\\left(\\{u_{ai},v_{ia}\\}\\text{sat Max-Sum}\\right)e^{-yF(\\{u_{ai},v_{ia}\\})}\n",
    "\\end{align}\n",
    "in which the variables are the Max-Sum messages living on the edges, and the constraints (that can be put in a factorized form) enforces the Max-Sum equations to be satisfied. Each Max-Sum solution represents a cluster. The Max-Sum solutions are weighted according to their Bethe free energy, which corresponds to the minimal energy (inside the cluster). In the $y\\to\\infty$ limit one keeps only the clusters with minimal energy\n",
    "\n",
    "* The distributions $Q_{ia}(v_{ia})$, $P_{ai}(u_{ai})$ over Max-Sum messages obey the SP(y) equations :\n",
    "\\begin{align}\n",
    "    Q_{ia}(v_{ia})&=\\frac{1}{Z_{ia}}\\sum_{\\{u_{bi}\\}_{b\\in\\partial i\\setminus a}}\\delta(v_{ia}-f^{MS}_{ia}(\\{u_{bi}\\}_{b\\in\\partial i\\setminus a}; s_i))e^{-yC_{ia}}\\prod_{b\\in\\partial i\\setminus a}P_{bi}(u_{bi}) \\\\\n",
    "    P_{ai}(u_{ai})&=\\frac{1}{Z_{ai}}\\sum_{\\{v_{ja}\\}_{j\\in\\partial a\\setminus i}}\\delta(u_{ai}-f^{MS}_{ai}(\\{v_{ja}\\}_{j\\in\\partial a\\setminus i}))e^{-yC_{ai}}\\prod_{j\\in\\partial a\\setminus i}Q_{ja}(v_{ja})    \n",
    "\\end{align}\n",
    "where $v_{ia}-f^{MS}_{ia}(\\{u_{bi}\\}_{b\\in\\partial i\\setminus a}; s_i)$, and $u_{ai}-f^{MS}_{ai}(\\{v_{ja}\\}_{j\\in\\partial a\\setminus i})$ are shorthand notation for the Max-Sum equations\n",
    "\\begin{align}\n",
    "    v_{ia}(\\sigma_i)&=s_i\\sigma_i+ \\sum_{b\\in\\partial i\\setminus a}u_{bi}(\\sigma_i) - C_{ia}\\\\\n",
    "    u_{ai}(\\sigma_i)&=\\max_{\\{\\sigma_j\\}_{j\\in\\partial a\\setminus i}:{\\rm sat}}\\left(\\sum_{j\\in\\partial a\\setminus i}v_{ja}(\\sigma_j)\\right) - C_{ai}\n",
    "\\end{align}\n",
    "and $C_{ia}$, $C_{ai}$ are the constants in the Max-Sum equations\n",
    "\\begin{align}\n",
    "    C_{ia}&=\\max_{\\sigma_i}\\left(s_i\\sigma_i+ \\sum_{b\\in\\partial i\\setminus a}u_{bi}(\\sigma_i)\\right)\\\\\n",
    "    C_{ai}&=\\max_{\\{\\sigma_i\\}_{i\\in\\partial a}:{\\rm sat}}\\left(\\sum_{j\\in\\partial a\\setminus i}v_{ja}(\\sigma_j)\\right)\n",
    "\\end{align}\n",
    "the constants $Z_{ia}$, $Z_{ai}$ are normalizations of the distributions $Q_{ia}$, $Q_{ai}$ over the Max-Sum messages\n",
    "\n",
    "* With the parametrization $u_{ai}(\\sigma_i) = f_{ai}\\sigma_i+f_{0,ai}$ and $v_{ia}(\\sigma_i) = g_{ia}\\sigma_i + g_{0,ia}$ we get :\n",
    "\\begin{equation}\n",
    "    f_{0,ai} = -\\frac{1}{\\beta}\\log(2{\\rm cosh}(\\beta f_{ai})\\to-|f_{ai}|\n",
    "\\end{equation}\n",
    "(and the same for $g_{0,ia}$). Therefore :\n",
    "\\begin{align*}\n",
    "    C_{ia}&=\\max_{\\sigma_i}\\left(\\sigma_i\\left(s_i+ \\sum_{b\\in\\partial i\\setminus a}f_{bi}\\right)\\right) + \\sum_{b\\in\\partial i\\setminus a}f_{0,bi}\\\\\n",
    "    &=\\left|s_i+ \\sum_{b\\in\\partial i\\setminus a}f_{bi}\\right| - \\sum_{b\\in\\partial i\\setminus a}|f_{bi}|\n",
    "\\end{align*}\n",
    "and\n",
    "\\begin{align*}\n",
    "    C_{ai}&=\\max_{\\{\\sigma_i\\}_{i\\in\\partial a}:{\\rm sat}}\\left(\\sum_{j\\in\\partial a\\setminus i}g_{ja}\\sigma_j\\right)-\\sum_{j\\in\\partial a\\setminus i}|g_{ja}|\\\\\n",
    "    &= -2\\min_{j\\in\\partial a\\setminus i}|g_{ja}|\\Theta\\left(-\\prod_{j\\in\\partial a\\setminus j}g_{ja}\\right)\n",
    "\\end{align*}\n",
    "\n",
    "* We can then write the same 1RSB equations for the distributions $Q_{ia}(g_{ia})$, $P_{ai}(f_{ai})$ over the integer parameters $g_{ia}$, $f_{ai}$:\n",
    "\\begin{align}\n",
    "    P(f)&=\\frac{1}{Z_P(y)}\\sum_{g_1,\\dots g_k}\\delta\\left(f-\\min_{j=1\\dots,k}|g_j|\\prod_j{\\rm sgn}(g_j)\\right)e^{-yC_{ai}(g_1,\\dots,g_k)}\\prod_j Q_j(g_j) \\\\\n",
    "    Q(g)&=\\frac{1}{Z_Q(y)}\\sum_{f_1,\\dots f_d}\\delta(g-s-\\sum_{b=1}^df_b)e^{-yC_{ia}(f_1,\\dots,f_d)}\\prod_{b=1}^dP_b(f_b)\n",
    "\\end{align}\n",
    "\n",
    "* Random graph ensemble\n",
    "When the source and the factor graph are random variables the 1RSB messages $P_{ai}$, $(a,i)\\in E$ become random variables. Let $(a,i)$ be a uniformly chosen edge in a factor graph drawn from the random ensembl, and let $\\mathcal{P}$ be the distribution of the message $P_{ai}$ solution of the 1RSB equation written above. The distribution $\\mathcal{P}(p)$ obey consistency equation similar to the RS cavity equations:\n",
    "\\begin{align}\n",
    "    \\mathcal{P}^{1RSB}(P)&=\\sum_{k}\\tilde{P}_k \\int\\prod_{j=1}^k{\\rm d}\\mathcal{Q}^{1RSB}(Q_j)\\delta(P-F^{SP(y)}(Q_1,\\dots,Q_k)) \\\\\n",
    "    \\mathcal{Q}^{1RSB}(Q) &= \\sum_{s}\\frac{1}{2}\\sum_{d}\\tilde{\\Lambda_d}\\int\\prod_{b=1}^d{\\rm d}\\mathcal{P}^{1RSB}(P_b)\\delta(Q-G^{SP(y)}(P_1,\\dots,P_d;s))\n",
    "\\end{align}\n",
    "This equation always admits a trivial fixed point $\\mathcal{P}(P)=\\sum_f p^{RS}(f)\\delta[P-\\delta(\\cdot-f)]$, $\\mathcal{Q}(g)=\\sum_g q^{RS}(g)\\delta[Q-\\delta(\\cdot-g)]$, where $p^{RS}, q^{RS}$  is the solution of the RS cavity equation.\n",
    "In the RS phase, this trivial fixed-point is the unique solution, while in the 1RSB phase, the trivial solution becomes unstable and the above equation admits a non-trivial solution."
   ]
  },
  {
   "cell_type": "markdown",
   "metadata": {},
   "source": [
    "Average minimal energy : Free energy of the auxiliary model\n",
    "---\n",
    "We want to estimate the Free energy $\\mathcal{F}(y)=-\\frac{1}{yn}\\log\\Theta(y)$ of the auxiliary problem defined by the partition function $\\Theta(y)$ on a single instance. Then we can average over the random ensemble of instances. In the large $y\\to\\infty$ limit, we obtain the averaged minimal energy.\n",
    "\n",
    "On a single instance, once a fixed point of the SP(y) equations has been found on a single instance, one can compute the Bethe free energy of the auxiliary problem:\n",
    "\\begin{align}\n",
    "    \\mathcal{F}(y) = \\frac{1}{n}\\sum_{a}\\mathcal{F}_a(\\{Q_{ia}\\}_{i\\in\\partial a};y) + \\frac{1}{n}\\sum_i\\mathcal{F}_i(\\{P_{ai}\\}_{a\\in\\partial i};y) - \\frac{1}{n}\\sum_{(ia)}\\mathcal{F}_{(ia)}(P_{ai},Q_{ia};y)\n",
    "\\end{align}\n",
    "with:\n",
    "\\begin{align}\n",
    "    \\mathcal{F}_a(\\{Q_{ia}\\}_{i\\in\\partial a};y) &= -\\frac{1}{y}\\log\\left(\\sum_{\\{g_{ia}\\}_{i\\in\\partial a}}e^{-yF_a(\\{g_{ia}\\}_{i\\in\\partial a})}\\prod_{i\\in\\partial a}Q_{ia}(g_{ia})\\right)\\\\\n",
    "    \\mathcal{F}_i(\\{P_{ai}\\}_{a\\in\\partial i};y) &= -\\frac{1}{y}\\log\\left(\\sum_{\\{f_{ai}\\}_{a\\in\\partial i}}e^{-yF_i(\\{f_{ai}\\}_{a\\in\\partial i})}\\prod_{a\\in\\partial i}P_{ai}(f_{ai})\\right)\\\\\n",
    "    \\mathcal{F}_{(ia)}(P_{ai},Q_{ia};y) &= -\\frac{1}{y}\\log\\left(\\sum_{f_{ia}, g_{ia}}e^{-yF_{ia}(f_{ia}, g_{ia})}P_{ai}(f_{ai})Q_{ia}(g_{ia})\\right)\n",
    "\\end{align}\n",
    "where $F_a,F_i, F_{ia}$ are the factor, variable and edge terms of the Bethe free energy associated to one fixed point of the Max-Sum equation: \n",
    "\\begin{align}\n",
    "    F_a(\\{g_{ia}\\}_{i\\in\\partial a}) &= 2\\min_{i\\in\\partial a}|g_{ia}|\\Theta(-\\prod_i g_{ia})\\\\\n",
    "    F_i(\\{f_{ai}\\}_{a\\in\\partial i}) &= -|s_i + \\sum_{a\\in\\partial i}f_{ai}| + \\sum_a |f_{ai}|\\\\\n",
    "    F_{(ia)}(f_{ai},g_{ia}) &= -|f_{ai} + g_{ia}| + |f_{ai}| + |g_{ia}| \n",
    "\\end{align}\n",
    "Averaging over the random ensemble of instances:\n",
    "\\begin{align}\n",
    "    \\mathcal{F}^{1RSB}(y) &= \\alpha\\sum_{k}P_k\\int\\prod_{i=1}^k{\\rm d}\\mathcal{Q}^{1RSB}(Q_i)\\mathcal{F}_a(Q_1,\\dots,Q_k;y) + \\sum_d\\Lambda_d\\sum_s\\frac{1}{2}\\int\\prod_{i=1}^d\\mathcal{P}^{1RSB}(P_i)\\mathcal{F}_i(P_1,\\dots,P_d;s,y) \\\\\n",
    "    &- \\Lambda'(1)\\int\\mathcal{F}_{(ia)}\\mathcal{P}^{1RSB}(P)\\mathcal{Q}^{1RSB}(Q)(P,Q;y)\n",
    "\\end{align}\n"
   ]
  },
  {
   "cell_type": "code",
   "execution_count": 44,
   "metadata": {},
   "outputs": [
    {
     "data": {
      "text/plain": [
       "overlap_slow_edge (generic function with 2 methods)"
      ]
     },
     "execution_count": 44,
     "metadata": {},
     "output_type": "execute_result"
    }
   ],
   "source": [
    "function overlap_slow_factor(Q, J, y=0.0)\n",
    "    w = 0.0\n",
    "    k = length(Q)\n",
    "    for fs in Iterators.product(fill(-J:J,k)...)\n",
    "        Fa = 2*minimum(abs.(fs))*(∏(fs) < 0)\n",
    "        w += ∏(q[f1] for (q,f1) ∈ zip(Q,fs)) * exp(-y*Fa)\n",
    "    end\n",
    "    log(w)\n",
    "end\n",
    "\n",
    "function overlap_slow_var(P, s, J, y=0.0)\n",
    "    w = 0.0\n",
    "    d = length(P)\n",
    "    for fs in Iterators.product(fill(-J:J,d)...)\n",
    "        f = sum(fs) + s\n",
    "        Fi = -abs(f) + sum(abs.(fs)) \n",
    "        w += ∏(p[f1] for (p,f1) ∈ zip(P,fs)) * exp(-y*Fi)\n",
    "    end\n",
    "    log(w)\n",
    "end\n",
    "\n",
    "function overlap_slow_edge(p, q, J, y=0.0)\n",
    "    w = 0.0\n",
    "    for f in -J:J\n",
    "        for g in -J:J\n",
    "            Fia = abs(f)+abs(g)-abs(f+g)\n",
    "            w += p[f]*q[g]*exp(-y*Fia)\n",
    "        end\n",
    "    end\n",
    "    log(w)\n",
    "end"
   ]
  },
  {
   "cell_type": "code",
   "execution_count": 74,
   "metadata": {},
   "outputs": [
    {
     "data": {
      "text/plain": [
       "overlap1RSB (generic function with 1 method)"
      ]
     },
     "execution_count": 74,
     "metadata": {},
     "output_type": "execute_result"
    }
   ],
   "source": [
    "function overlap1RSB(Λ, K; \n",
    "        popP, \n",
    "        popQ, \n",
    "        samples=length(popP), \n",
    "        y=0.0)\n",
    "\n",
    "    J = lastindex(popQ[1])\n",
    "    wΛ = weights(Λ)\n",
    "    wK = weights(K)\n",
    "\n",
    "    O_factor = 0.0\n",
    "    O_var = 0.0\n",
    "    O_edge = 0.0\n",
    "    \n",
    "    @showprogress for t = 1:samples\n",
    "        k = sample(eachindex(K), wK)\n",
    "        Q = rand(popQ, k)\n",
    "        O_factor += overlap_slow_factor(Q, J, y)/samples\n",
    "\n",
    "        d = sample(eachindex(Λ), wΛ)\n",
    "        P = rand(popP, d)\n",
    "        s = rand((-1,1))\n",
    "        O_var += overlap_slow_var(P, s, J, y)/samples\n",
    "\n",
    "        p = rand(popP)\n",
    "        q = rand(popQ)\n",
    "        O_edge += overlap_slow_edge(p, q, J, y)/samples\n",
    "    end\n",
    "    mK = sum(k*K[k] for k=eachindex(K))\n",
    "    mΛ = sum(d*Λ[d] for d=eachindex(Λ))\n",
    "    α = mΛ/mK\n",
    "    -1/y*(-α*O_factor - O_var + mΛ*O_edge)\n",
    "end"
   ]
  },
  {
   "cell_type": "code",
   "execution_count": 75,
   "metadata": {},
   "outputs": [
    {
     "name": "stderr",
     "output_type": "stream",
     "text": [
      "\u001b[32mProgress: 100%|█████████████████████████████████████████| Time: 0:04:41\u001b[39m\n"
     ]
    }
   ],
   "source": [
    "Λ = OffsetVector([0,0,1], 0:2)\n",
    "K = OffsetVector([0,0,0,1], 0:3)\n",
    "popP, popQ = RSB(Λ,K; J=6, maxiter=10000, popsize=popsize, y=1.0);"
   ]
  },
  {
   "cell_type": "code",
   "execution_count": 76,
   "metadata": {},
   "outputs": [
    {
     "name": "stderr",
     "output_type": "stream",
     "text": [
      "\u001b[32mProgress: 100%|█████████████████████████████████████████| Time: 0:06:07\u001b[39mm\n"
     ]
    },
    {
     "data": {
      "text/plain": [
       "0.581780000000194"
      ]
     },
     "execution_count": 76,
     "metadata": {},
     "output_type": "execute_result"
    }
   ],
   "source": [
    "O = overlap1RSB(Λ,K; popP=popP, popQ=popQ, y=1.0, samples=10^5)"
   ]
  },
  {
   "cell_type": "code",
   "execution_count": 77,
   "metadata": {},
   "outputs": [
    {
     "data": {
      "text/plain": [
       "0.20910999999990298"
      ]
     },
     "execution_count": 77,
     "metadata": {},
     "output_type": "execute_result"
    }
   ],
   "source": [
    "D=(1-O)/2"
   ]
  },
  {
   "cell_type": "code",
   "execution_count": null,
   "metadata": {},
   "outputs": [],
   "source": []
  }
 ],
 "metadata": {
  "kernelspec": {
   "display_name": "Julia 1.5.0-DEV",
   "language": "julia",
   "name": "julia-1.5"
  },
  "language_info": {
   "file_extension": ".jl",
   "mimetype": "application/julia",
   "name": "julia",
   "version": "1.6.0"
  }
 },
 "nbformat": 4,
 "nbformat_minor": 4
}
