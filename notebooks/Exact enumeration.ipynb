{
 "cells": [
  {
   "cell_type": "code",
   "execution_count": 1,
   "metadata": {},
   "outputs": [
    {
     "data": {
      "text/plain": [
       "fix_indep! (generic function with 1 method)"
      ]
     },
     "execution_count": 1,
     "metadata": {},
     "output_type": "execute_result"
    }
   ],
   "source": [
    "include(\"../code/exact_enum.jl\")\n",
    "include(\"../code/matrix_generator.jl\")\n",
    "include(\"../code/bp_full.jl\")"
   ]
  },
  {
   "cell_type": "code",
   "execution_count": 4,
   "metadata": {},
   "outputs": [],
   "source": [
    "r = 0.2\n",
    "N = 100\n",
    "M = round(Int, N*(1-r))\n",
    "f = 1-3r\n",
    "AA = permutedims(ldpc_matrix(N,M,3M,[0,1-f,f],[0, 0, 1]; accept_multi_edges=false))\n",
    "src = bitrand(N)\n",
    "BB, ind = findbasis_slow(BitMatrix(AA));"
   ]
  },
  {
   "cell_type": "code",
   "execution_count": 8,
   "metadata": {},
   "outputs": [
    {
     "name": "stderr",
     "output_type": "stream",
     "text": [
      "\u001b[32mProgress: 100%|█████████████████████████████████████████| Time: 0:00:04\u001b[39m\n"
     ]
    },
    {
     "name": "stdout",
     "output_type": "stream",
     "text": [
      "  4.887247 seconds (906 allocations: 69.297 KiB)\n"
     ]
    }
   ],
   "source": [
    "@time exact_wef(BB, [src]);"
   ]
  },
  {
   "cell_type": "code",
   "execution_count": 2,
   "metadata": {},
   "outputs": [],
   "source": [
    "# plot_wef(h[1], size=(400,200))"
   ]
  },
  {
   "cell_type": "markdown",
   "metadata": {},
   "source": [
    "## Vary the rate"
   ]
  },
  {
   "cell_type": "code",
   "execution_count": 9,
   "metadata": {},
   "outputs": [
    {
     "data": {
      "text/plain": [
       "default_tg_text (generic function with 1 method)"
      ]
     },
     "execution_count": 9,
     "metadata": {},
     "output_type": "execute_result"
    }
   ],
   "source": [
    "include(\"../code/exact_enum.jl\")\n",
    "include(\"../code/matrix_generator.jl\")\n",
    "include(\"../code/bp_full.jl\")\n",
    "include(\"../../telegram/notifications.jl\")"
   ]
  },
  {
   "cell_type": "code",
   "execution_count": 16,
   "metadata": {},
   "outputs": [],
   "source": [
    "Rs = 0.04:0.04:0.34\n",
    "ns = [25, 50, 75]\n",
    "navg = [500, 200, 50]\n",
    "d = [[fill(NaN, navg[i]) for _ in Rs] for i in eachindex(ns)]\n",
    "d_ms = [[fill(NaN, navg[i]) for _ in Rs] for i in eachindex(ns)]\n",
    "nz = [[fill(NaN, navg[i]) for _ in Rs] for i in eachindex(ns)]\n",
    "wef_src = [[[zeros(Int, ns[i]) for _ in 1:navg[i]] for _ in Rs] for i in eachindex(ns)]\n",
    "wef_zero = [[[zeros(Int, ns[i]) for _ in 1:navg[i]] for _ in Rs] for i in eachindex(ns)]\n",
    "t = fill(NaN, length(ns));"
   ]
  },
  {
   "cell_type": "code",
   "execution_count": null,
   "metadata": {
    "scrolled": true
   },
   "outputs": [
    {
     "name": "stdout",
     "output_type": "stream",
     "text": [
      "### Size 1 of 3\n",
      "Rate 1 of 8\n",
      "Rate 2 of 8\n",
      "Rate 3 of 8\n",
      "Rate 4 of 8\n",
      "Rate 5 of 8\n",
      "Rate 6 of 8\n",
      "Rate 7 of 8\n",
      "Rate 8 of 8\n",
      "### Size 2 of 3\n",
      "Rate 1 of 8\n",
      "Rate 2 of 8\n",
      "Rate 3 of 8\n",
      "Rate 4 of 8\n",
      "Rate 5 of 8\n",
      "Rate 6 of 8\n",
      "Rate 7 of 8\n",
      "Rate 8 of 8\n",
      "### Size 3 of 3\n",
      "Rate 1 of 8\n",
      "Rate 2 of 8\n",
      "Rate 3 of 8\n",
      "Rate 4 of 8\n",
      "Rate 5 of 8\n",
      "Rate 6 of 8\n",
      "Rate 7 of 8\n"
     ]
    },
    {
     "name": "stderr",
     "output_type": "stream",
     "text": [
      "\u001b[32mProgress: 100%|█████████████████████████████████████████| Time: 0:00:07\u001b[39m\n",
      "\u001b[32mProgress: 100%|█████████████████████████████████████████| Time: 0:00:07\u001b[39m\n",
      "\u001b[32mProgress: 100%|█████████████████████████████████████████| Time: 0:00:07\u001b[39m\n",
      "\u001b[32mProgress: 100%|█████████████████████████████████████████| Time: 0:00:07\u001b[39m\n",
      "\u001b[32mProgress: 100%|█████████████████████████████████████████| Time: 0:00:07\u001b[39m\n",
      "\u001b[32mProgress: 100%|█████████████████████████████████████████| Time: 0:00:07\u001b[39m\n",
      "\u001b[32mProgress: 100%|█████████████████████████████████████████| Time: 0:00:07\u001b[39m\n",
      "\u001b[32mProgress: 100%|█████████████████████████████████████████| Time: 0:00:07\u001b[39m\n",
      "\u001b[32mProgress: 100%|█████████████████████████████████████████| Time: 0:00:07\u001b[39m\n",
      "\u001b[32mProgress: 100%|█████████████████████████████████████████| Time: 0:00:07\u001b[39m\n",
      "\u001b[32mProgress: 100%|█████████████████████████████████████████| Time: 0:00:07\u001b[39m\n",
      "\u001b[32mProgress: 100%|█████████████████████████████████████████| Time: 0:00:07\u001b[39m\n",
      "\u001b[32mProgress: 100%|█████████████████████████████████████████| Time: 0:00:07\u001b[39m\n",
      "\u001b[32mProgress: 100%|█████████████████████████████████████████| Time: 0:00:07\u001b[39m\n",
      "\u001b[32mProgress: 100%|█████████████████████████████████████████| Time: 0:00:07\u001b[39m\n",
      "\u001b[32mProgress: 100%|█████████████████████████████████████████| Time: 0:00:07\u001b[39m\n",
      "\u001b[32mProgress: 100%|█████████████████████████████████████████| Time: 0:00:07\u001b[39m\n",
      "\u001b[32mProgress: 100%|█████████████████████████████████████████| Time: 0:00:07\u001b[39m\n",
      "\u001b[32mProgress: 100%|█████████████████████████████████████████| Time: 0:00:07\u001b[39m\n",
      "\u001b[32mProgress: 100%|█████████████████████████████████████████| Time: 0:00:07\u001b[39m\n",
      "\u001b[32mProgress: 100%|█████████████████████████████████████████| Time: 0:00:07\u001b[39m\n",
      "\u001b[32mProgress: 100%|█████████████████████████████████████████| Time: 0:00:07\u001b[39m\n",
      "\u001b[32mProgress: 100%|█████████████████████████████████████████| Time: 0:00:07\u001b[39m\n",
      "\u001b[32mProgress: 100%|█████████████████████████████████████████| Time: 0:00:07\u001b[39m\n",
      "\u001b[32mProgress: 100%|█████████████████████████████████████████| Time: 0:00:07\u001b[39m\n",
      "\u001b[32mProgress: 100%|█████████████████████████████████████████| Time: 0:00:07\u001b[39m\n",
      "\u001b[32mProgress: 100%|█████████████████████████████████████████| Time: 0:00:07\u001b[39m\n",
      "\u001b[32mProgress: 100%|█████████████████████████████████████████| Time: 0:00:07\u001b[39m\n",
      "\u001b[32mProgress: 100%|█████████████████████████████████████████| Time: 0:00:07\u001b[39m\n",
      "\u001b[32mProgress: 100%|█████████████████████████████████████████| Time: 0:00:07\u001b[39m\n",
      "\u001b[32mProgress: 100%|█████████████████████████████████████████| Time: 0:00:07\u001b[39m\n",
      "\u001b[32mProgress: 100%|█████████████████████████████████████████| Time: 0:00:07\u001b[39m\n",
      "\u001b[32mProgress: 100%|█████████████████████████████████████████| Time: 0:00:07\u001b[39m\n",
      "\u001b[32mProgress: 100%|█████████████████████████████████████████| Time: 0:00:07\u001b[39m\n",
      "\u001b[32mProgress: 100%|█████████████████████████████████████████| Time: 0:00:07\u001b[39m\n",
      "\u001b[32mProgress: 100%|█████████████████████████████████████████| Time: 0:00:07\u001b[39m\n",
      "\u001b[32mProgress: 100%|█████████████████████████████████████████| Time: 0:00:07\u001b[39m\n",
      "\u001b[32mProgress: 100%|█████████████████████████████████████████| Time: 0:00:15\u001b[39m\n",
      "\u001b[32mProgress: 100%|█████████████████████████████████████████| Time: 0:00:07\u001b[39m\n",
      "\u001b[32mProgress: 100%|█████████████████████████████████████████| Time: 0:00:07\u001b[39m\n",
      "\u001b[32mProgress: 100%|█████████████████████████████████████████| Time: 0:00:07\u001b[39m\n",
      "\u001b[32mProgress: 100%|█████████████████████████████████████████| Time: 0:00:07\u001b[39m\n",
      "\u001b[32mProgress: 100%|█████████████████████████████████████████| Time: 0:00:07\u001b[39m\n",
      "\u001b[32mProgress: 100%|█████████████████████████████████████████| Time: 0:00:07\u001b[39m\n",
      "\u001b[32mProgress: 100%|█████████████████████████████████████████| Time: 0:00:07\u001b[39m\n",
      "\u001b[32mProgress: 100%|█████████████████████████████████████████| Time: 0:00:15\u001b[39m\n",
      "\u001b[32mProgress: 100%|█████████████████████████████████████████| Time: 0:00:07\u001b[39m\n",
      "\u001b[32mProgress: 100%|█████████████████████████████████████████| Time: 0:00:07\u001b[39m\n",
      "\u001b[32mProgress: 100%|█████████████████████████████████████████| Time: 0:00:07\u001b[39m\n",
      "\u001b[32mProgress: 100%|█████████████████████████████████████████| Time: 0:00:07\u001b[39m\n"
     ]
    },
    {
     "name": "stdout",
     "output_type": "stream",
     "text": [
      "Rate 8 of 8\n"
     ]
    },
    {
     "name": "stderr",
     "output_type": "stream",
     "text": [
      "\u001b[32mProgress: 100%|█████████████████████████████████████████| Time: 0:01:06\u001b[39m\n",
      "\u001b[32mProgress: 100%|█████████████████████████████████████████| Time: 0:01:05\u001b[39m\n",
      "\u001b[32mProgress: 100%|█████████████████████████████████████████| Time: 0:01:08\u001b[39m\n",
      "\u001b[32mProgress: 100%|█████████████████████████████████████████| Time: 0:01:12\u001b[39m\n",
      "\u001b[32mProgress: 100%|█████████████████████████████████████████| Time: 0:01:13\u001b[39m\n",
      "\u001b[32mProgress: 100%|█████████████████████████████████████████| Time: 0:01:11\u001b[39m\n",
      "\u001b[32mProgress: 100%|█████████████████████████████████████████| Time: 0:01:04\u001b[39m\n",
      "\u001b[32mProgress: 100%|█████████████████████████████████████████| Time: 0:01:04\u001b[39m\n",
      "\u001b[32mProgress: 100%|█████████████████████████████████████████| Time: 0:01:05\u001b[39m\n",
      "\u001b[32mProgress: 100%|█████████████████████████████████████████| Time: 0:01:05\u001b[39m\n",
      "\u001b[32mProgress: 100%|█████████████████████████████████████████| Time: 0:01:05\u001b[39m\n",
      "\u001b[32mProgress: 100%|█████████████████████████████████████████| Time: 0:01:06\u001b[39m\n",
      "\u001b[32mProgress: 100%|█████████████████████████████████████████| Time: 0:01:06\u001b[39m\n",
      "\u001b[32mProgress:  52%|█████████████████████▍                   |  ETA: 0:00:32\u001b[39m"
     ]
    }
   ],
   "source": [
    "@telegram \"Exact enumeration\" for (a,n) in enumerate(ns)\n",
    "    println(\"### Size $a of \", length(ns))\n",
    "    tt = @timed for (i,R) in enumerate(Rs)\n",
    "        println(\"Rate $i of \", length(Rs))\n",
    "        m = round(Int, n*(1-R))\n",
    "        f3 = 1-3R\n",
    "        Λ = [0,1-f3,f3]\n",
    "        K = [0, 0, 1]\n",
    "        nedges = 3m\n",
    "        for j in 1:navg[a]       \n",
    "            H = permutedims(ldpc_matrix(n,m,nedges,Λ,K; accept_multi_edges=false))\n",
    "            s = bitrand(n)\n",
    "            B, indep = findbasis_slow(BitMatrix(H))\n",
    "            nz[a][i][j] = sum(!iszero, B) / prod(size(B))\n",
    "            h0, h, mins = exact_wef(B, [s])\n",
    "            wef_zero[a][i][j] = h0\n",
    "            wef_src[a][i][j] = h[1]\n",
    "            d[a][i][j] = mins[1]\n",
    "            # maxsum\n",
    "            efield = [(float(!ss), float(ss)) .+ 1e-5.*(randn(),randn()) for ss in s]\n",
    "            ms = BPFull(H, efield)\n",
    "            iteration_ms!(ms, maxiter=10^3, rein=1e-3)\n",
    "            x = argmax.(ms.belief) .== 2\n",
    "            p = parity(H, x)\n",
    "            p != 0 && fix_indep!(x, B, indep)\n",
    "            d_ms[a][i][j] = distortion(x, s) / n\n",
    "        end\n",
    "    end\n",
    "    t[a] = tt.time\n",
    "    d\n",
    "end"
   ]
  },
  {
   "cell_type": "code",
   "execution_count": null,
   "metadata": {},
   "outputs": [],
   "source": [
    "d_avg = [mean.(d[i]) for i in eachindex(ns)]\n",
    "d_std = [std.(d[i]) ./ sqrt(navg[i]) for i in eachindex(ns)];"
   ]
  },
  {
   "cell_type": "code",
   "execution_count": null,
   "metadata": {},
   "outputs": [],
   "source": [
    "t_minutes = sum(t) / 60\n",
    "println(\"Runtime: \", round(t_minutes,digits=1), \" minutes\")\n",
    "pl = plot_rdb(f3=true)\n",
    "for (i,n) in enumerate(ns)\n",
    "    plot!(pl, Rs, d_avg[i], yerr=d_std[i], ms=3, label=\"n=$n, avg over $(navg[i])\", marker=:o)\n",
    "end\n",
    "plot!(pl, title=\"Exact enumeration\")"
   ]
  },
  {
   "cell_type": "code",
   "execution_count": null,
   "metadata": {},
   "outputs": [],
   "source": [
    "d_ms_avg = [mean.(d_ms[i]) for i in eachindex(ns)]\n",
    "d_ms_std = [std.(d_ms[i]) ./ sqrt(navg[i]) for i in eachindex(ns)];\n",
    "for (i,n) in enumerate(ns)\n",
    "    plot!(pl, Rs, d_ms_avg[i], yerr=d_ms_std[i], ms=3, label=\"maxsum n=$n, avg over $(navg[i])\", marker=:o)\n",
    "end\n",
    "pl"
   ]
  },
  {
   "cell_type": "code",
   "execution_count": null,
   "metadata": {},
   "outputs": [],
   "source": [
    "plot_wef(wef_zero[end][end][1])"
   ]
  },
  {
   "cell_type": "code",
   "execution_count": null,
   "metadata": {},
   "outputs": [],
   "source": []
  }
 ],
 "metadata": {
  "kernelspec": {
   "display_name": "Julia 1.6.1-pre",
   "language": "julia",
   "name": "julia-1.6"
  },
  "language_info": {
   "file_extension": ".jl",
   "mimetype": "application/julia",
   "name": "julia",
   "version": "1.6.1"
  }
 },
 "nbformat": 4,
 "nbformat_minor": 4
}
