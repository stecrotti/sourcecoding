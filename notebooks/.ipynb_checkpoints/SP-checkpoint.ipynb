{
 "cells": [
  {
   "cell_type": "code",
   "execution_count": null,
   "metadata": {},
   "outputs": [],
   "source": [
    "include(\"../code/sp.jl\")\n",
    "include(\"../code/matrix_generator.jl\")\n",
    "include(\"../code/slim_graphs.jl\")\n",
    "include(\"../code/bp_full.jl\")\n",
    "include(\"../code/bp.jl\")\n",
    "include(\"../../telegram/notifications.jl\")\n",
    "using ProgressMeter, StaticArrays, OffsetArrays, Statistics, Base.Threads"
   ]
  },
  {
   "cell_type": "code",
   "execution_count": 2,
   "metadata": {
    "scrolled": true
   },
   "outputs": [
    {
     "data": {
      "text/plain": [
       "decimate! (generic function with 3 methods)"
      ]
     },
     "execution_count": 2,
     "metadata": {},
     "output_type": "execute_result"
    }
   ],
   "source": [
    "callback(t, ε, sp) = (println(\"$t $ε\"); false)\n",
    "\n",
    "function decimate!(sp, indep; decsteps=1, callback=callback)\n",
    "    H = sp.H\n",
    "    freevars = copy(indep)\n",
    "    iteration!(sp, maxiter=700, tol=1e-5, damp=0.5)#, callback=callback)\n",
    "    while !isempty(freevars)\n",
    "        iteration!(sp, maxiter=150, tol=1e-3, damp=0.5, callback=callback)\n",
    "        mag = map(p->p'eachindex(p), sp.survey)\n",
    "        sort!(freevars, by=i->abs(mag[i]))\n",
    "        freevars, tofix = freevars[1:end-decsteps], freevars[max(1,end-decsteps+1):end]\n",
    "        sp.efield[tofix] .= sp.J.*sign.(mag[tofix])\n",
    "#         println(\"Free: \", length(freevars))\n",
    "    end\n",
    "end"
   ]
  },
  {
   "cell_type": "code",
   "execution_count": 3,
   "metadata": {},
   "outputs": [
    {
     "data": {
      "text/plain": [
       "sp_dec (generic function with 1 method)"
      ]
     },
     "execution_count": 3,
     "metadata": {},
     "output_type": "execute_result"
    }
   ],
   "source": [
    "function sp_dec(R, n; y=0.5, Tmax=1, J = 20, callback=(x...)->false)\n",
    "    m = round(Int, n*(1-R))\n",
    "    r = 1-3R\n",
    "    Λ = OffsetVector([0,0,1-r,r], 0:3)\n",
    "    K = OffsetVector([0,0,0,1], 0:3)\n",
    "    nedges = 3m\n",
    "    ds = fill(NaN, Tmax)\n",
    "    ps = fill(typemax(Int), Tmax)\n",
    "    for t in 1:Tmax\n",
    "        print(\"Trial $t of $Tmax: \")\n",
    "        H = permutedims(ldpc_matrix(n,m,nedges,Λ,K))\n",
    "        s = rand((-1,1), n)\n",
    "        B, indep = findbasis_slow(Array(H))\n",
    "        init=OffsetArray(MVector{2J+1}(rand(2J+1)), -J:J)\n",
    "        sp = survey_propagation(H; field=copy(s), init, y=y);\n",
    "        decimate!(sp, indep, callback=callback)\n",
    "        nunsat, ovl, dist = performance(sp, s)\n",
    "        ps[t] = nunsat\n",
    "        print(\"nunsat=$nunsat. dist=\", round(dist,digits=3))\n",
    "        x = sign.(argmax.(sp.survey)) .== -1\n",
    "        fix_indep!(x, B, indep)   \n",
    "#         @assert parity(H,x)==0\n",
    "        σ = (-1).^x\n",
    "        ds[t] = distortion(σ,s)\n",
    "        println(\". After fix indep, dist=\", round(ds[t], digits=3))\n",
    "        flush(stdout)\n",
    "    end\n",
    "    t = argmin(ps)\n",
    "    ds[t]\n",
    "end"
   ]
  },
  {
   "cell_type": "code",
   "execution_count": null,
   "metadata": {
    "scrolled": true
   },
   "outputs": [
    {
     "name": "stdout",
     "output_type": "stream",
     "text": [
      "Trial 1 of 2: "
     ]
    }
   ],
   "source": [
    "n = 600\n",
    "R = 0.25\n",
    "J = 20\n",
    "y = 0.5\n",
    "Tmax = 2\n",
    "dist = sp_dec(R, n, J=J, y=y, Tmax=Tmax, callback=x->false)"
   ]
  },
  {
   "cell_type": "code",
   "execution_count": null,
   "metadata": {},
   "outputs": [],
   "source": [
    "plot_rdb(;f3=true)\n",
    "scatter!([R], [dist], label=\"SP+dec, n=$n\")"
   ]
  },
  {
   "cell_type": "code",
   "execution_count": null,
   "metadata": {},
   "outputs": [],
   "source": [
    "function y_optimal(R::Real)\n",
    "    yopt_data = readdlm(\"yopt_data.txt\")\n",
    "    Rs_rsb = yopt_data[1,:]\n",
    "    y_rsb = yopt_data[2,:]\n",
    "    @assert issorted(Rs_rsb, rev=true)\n",
    "    i = findfirst(isequal(R), Rs_rsb)\n",
    "    if i === nothing\n",
    "        for j in eachindex(Rs_rsb)\n",
    "            if Rs_rsb[j] < R \n",
    "                j == 1 && return y_rsb[j]\n",
    "                xa, xb = Rs_rsb[j-1], Rs_rsb[j]\n",
    "                ya, yb = y_rsb[j-1], y_rsb[j]\n",
    "                m = (yb-ya)/(xb-xa)\n",
    "                return ya + m*(R - xa)\n",
    "#                 return (y_rsb[j]+y_rsb[j-1])/2\n",
    "            end\n",
    "        end\n",
    "    else\n",
    "        return y_rsb[i]\n",
    "    end\n",
    "end"
   ]
  },
  {
   "cell_type": "code",
   "execution_count": null,
   "metadata": {
    "scrolled": true
   },
   "outputs": [],
   "source": [
    "n = 600\n",
    "J = 20\n",
    "Tmax = 20\n",
    "f2s = [.4, .45, .5, .55, .6, .65, .7, .75, .8, .85, .9, .95]\n",
    "# f3s = 0.2:0.05:0.6\n",
    "f3s = 1 .- f2s\n",
    "navg = 20\n",
    "D_sid = [fill(NaN, navg) for _ in f3s]\n",
    "R_sid = (1 .- f3s)/3\n",
    "ys = y_optimal.(R_sid);"
   ]
  },
  {
   "cell_type": "code",
   "execution_count": null,
   "metadata": {},
   "outputs": [],
   "source": [
    "@telegram \"SP\" for i in eachindex(f3s)\n",
    "    println(\"Rate $i of \", length(f3s))\n",
    "    flush(stdout)\n",
    "    @threads for j in 1:navg\n",
    "        D_sid[i][j] = sp_dec(R_sid[i], n, J=J, y=ys[i], Tmax=Tmax)\n",
    "    end\n",
    "end"
   ]
  },
  {
   "cell_type": "code",
   "execution_count": null,
   "metadata": {},
   "outputs": [],
   "source": [
    "plot_rdb(; f3=true)\n",
    "ddd = [[minimum(d) for d in dd] for dd in D_sid]\n",
    "scatter!(R_sid, mean.(ddd), label=\"SP+decimation, optimal y\", c=:purple, ms=3,\n",
    "    yerr=std.(ddd)/sqrt(navg), size=(400,300), grid=false)"
   ]
  },
  {
   "cell_type": "code",
   "execution_count": 9,
   "metadata": {},
   "outputs": [],
   "source": [
    "using DelimitedFiles\n",
    "open(\"sp_dec_zeroleaves.txt\", \"w\") do f   \n",
    "   writedlm(f, [R_sid mean.(ddd) std.(ddd)/sqrt(navg)])\n",
    "end"
   ]
  },
  {
   "cell_type": "code",
   "execution_count": null,
   "metadata": {},
   "outputs": [],
   "source": [
    "mean.(ddd)"
   ]
  },
  {
   "cell_type": "code",
   "execution_count": null,
   "metadata": {},
   "outputs": [],
   "source": [
    "R_sid"
   ]
  },
  {
   "cell_type": "code",
   "execution_count": null,
   "metadata": {},
   "outputs": [],
   "source": [
    "savefig(\"sp_dec.pdf\")"
   ]
  }
 ],
 "metadata": {
  "kernelspec": {
   "display_name": "Julia 1.7.0",
   "language": "julia",
   "name": "julia-1.7"
  },
  "language_info": {
   "file_extension": ".jl",
   "mimetype": "application/julia",
   "name": "julia",
   "version": "1.7.0"
  },
  "output_auto_scroll": true
 },
 "nbformat": 4,
 "nbformat_minor": 4
}
