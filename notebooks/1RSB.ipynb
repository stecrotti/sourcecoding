{
 "cells": [
  {
   "cell_type": "markdown",
   "metadata": {},
   "source": [
    "1RSB\n",
    "===\n",
    "\n",
    "\\begin{align*}\n",
    "p\\left(u\\right)  &= \\sum_{h_{1},\\dots,h_{k}}\\delta\\left(u;\\min_{j=1,\\dots,k}\\left|h_{j}\\right|\\prod_{j=1}^{k}\\text{sign}\\left(h_{j}\\right)\\right)\\prod_{j=1}^{k}q_j\\left(h_{j}\\right)e^{y C_{ai}}\\\\\n",
    "q(h) &= \\sum_{u_1,\\dots,u_d} \\prod_{b=1,\\dots,d} p_b(u_b) \\delta\\left(h-s-\\sum_{b=1,\\dots,d}u_b\\right)e^{y C_{ia}}\\\\\n",
    "\\end{align*}\n",
    "\n",
    "where\n",
    "\\begin{align*}\n",
    "C_{ai} &= 0\\\\% -2\\min_{j=1,\\dots,k}|h_{j}|\\Theta\\left(-\\prod_{j=1}^kh_{j}\\right)\\\\\n",
    "C_{ia} &=\\left|s + \\sum_{b=1}^d u_b\\right| - \\sum_{b=1}^d|u_b| = |h| - \\sum_{b=1}^d|u_b|\n",
    "\\end{align*}\n",
    "\n"
   ]
  },
  {
   "cell_type": "code",
   "execution_count": 1,
   "metadata": {},
   "outputs": [
    {
     "data": {
      "text/plain": [
       "sum (generic function with 14 methods)"
      ]
     },
     "execution_count": 1,
     "metadata": {},
     "output_type": "execute_result"
    }
   ],
   "source": [
    "using OffsetArrays\n",
    "\n",
    "const ∏ = prod\n",
    "const ∑ = sum"
   ]
  },
  {
   "cell_type": "code",
   "execution_count": 251,
   "metadata": {},
   "outputs": [
    {
     "data": {
      "text/plain": [
       "iter_slow_var (generic function with 2 methods)"
      ]
     },
     "execution_count": 251,
     "metadata": {},
     "output_type": "execute_result"
    }
   ],
   "source": [
    "function iter_slow_factor(Q, J, y=0.0)\n",
    "    k = length(Q)\n",
    "    p = fill(0.0, -J:J)\n",
    "    for hs in Iterators.product(fill(-J:J,k)...)\n",
    "        w = ∏(q[h] for (q,h) ∈ zip(Q,hs))\n",
    "        u = minimum(abs.(hs))*sign(∏(hs))\n",
    "        p[clamp(u, -J, J)] += w\n",
    "    end\n",
    "    p ./= sum(p)\n",
    "end\n",
    "\n",
    "function iter_slow_var(P, s, J, y=0.0) \n",
    "    q = fill(0.0, -J:J)\n",
    "    for us in Iterators.product(fill(-J:J, length(P))...)\n",
    "        h = sum(us) + s\n",
    "        Cia = abs(h) - sum(abs.(us)) \n",
    "        w = ∏(p[u] for (p,u) ∈ zip(P,us)) * exp(y*Cia)\n",
    "        q[clamp(h, -J, J)] += w \n",
    "    end\n",
    "    q\n",
    "end"
   ]
  },
  {
   "cell_type": "markdown",
   "metadata": {},
   "source": [
    "Simplifications\n",
    "--"
   ]
  },
  {
   "cell_type": "markdown",
   "metadata": {},
   "source": [
    "\\begin{align*}\n",
    "p\\left(u\\right)= & \\sum_{h_{1},\\dots,h_{k}}\\delta\\left(u;\\min_{j=1,\\dots,k}\\left|h_{j}\\right|\\prod_{j=1}^{k}\\text{sign}\\left(h_{j}\\right)\\right)\\prod_{j=1}^{k}q_j\\left(h_{j}\\right)\\\\%e^{-y 2 u \\Theta(-u)}\\\\\n",
    "\\end{align*}"
   ]
  },
  {
   "cell_type": "markdown",
   "metadata": {},
   "source": [
    "To compute $p$, define\n",
    "\n",
    "\\begin{align*}\n",
    "a_k(u) &= \\mathbb{P}\\left\\{\\left(\\textrm{sign}\\left(\\prod_{i=1}^k h_i\\right)=\\textrm{sign}(u) \\right)\\wedge \\left(|h_1|,\\dots,|h_k| \\ge |u|\\right)\\right\\}\\\\\n",
    "\\end{align*}\n",
    "\n",
    "$a_k$ satisfies the recursion\n",
    "\n",
    "\\begin{align*}\n",
    "a_0(u) &= \\delta(\\textrm{sign}(u)-1)\\\\\n",
    "a_k(u) &= a_{k-1}(u) \\sum_{h_k\\geq |u|}q_k(h_k) + a_{k-1}(-u) \\sum_{h_k \\leq -|h|} q_k(h_k)\\\\\n",
    "\\end{align*}\n",
    "\n",
    "Then we finally have\n",
    "\n",
    "$$p_k(u) = \\cases{(a_k(u)-a_k(u+\\textrm{sign}(u))) & for $u\\neq0$\\\\\n",
    "           1-\\prod_{j=1}^k(1-q_j(0)) & for $u=0$}$$\n"
   ]
  },
  {
   "cell_type": "code",
   "execution_count": 3,
   "metadata": {},
   "outputs": [
    {
     "data": {
      "text/plain": [
       "Cached_Factor_Iterator (generic function with 1 method)"
      ]
     },
     "execution_count": 3,
     "metadata": {},
     "output_type": "execute_result"
    }
   ],
   "source": [
    "function iter_factor(Q, J, y=0.0)\n",
    "    a = fill(0.0, -J-1:J+1)\n",
    "    a[0:J] .= 1\n",
    "    for q ∈ Q\n",
    "        Σp, Σm = 0.0, 0.0\n",
    "        for h=J:-1:1\n",
    "            ap, am = a[h], a[-h]\n",
    "            Σp += q[h]; Σm += q[-h]\n",
    "            a[+h] = ap*Σp + am*Σm\n",
    "            a[-h] = am*Σp + ap*Σm\n",
    "        end\n",
    "        a[0] *= 1-q[0]\n",
    "    end\n",
    "    \n",
    "    p = fill(0.0, -J:J)\n",
    "    for u = 1:J\n",
    "        p[+u] = a[+u] - a[+u+1]\n",
    "        p[-u] = a[-u] - a[-u-1]\n",
    "    end\n",
    "    p[0] = 1-a[0]\n",
    "    p ./= sum(p)\n",
    "end\n",
    "\n",
    "function Cached_Factor_Iterator(J)\n",
    "    a = fill(0.0, -J-1:J+1)\n",
    "    function iter_factor!(p, Q)\n",
    "        a[0:J] .= 1\n",
    "        a[-J:-1] .= 0\n",
    "        @assert extrema(eachindex(p)) == (-J,J)\n",
    "        @inbounds for q ∈ Q\n",
    "            @assert extrema(eachindex(q)) == (-J,J)\n",
    "            Σp, Σm = 0.0, 0.0\n",
    "            for h=J:-1:1\n",
    "                ap, am = a[h], a[-h]\n",
    "                Σp += q[h]; Σm += q[-h]\n",
    "                a[+h] = ap*Σp + am*Σm\n",
    "                a[-h] = am*Σp + ap*Σm\n",
    "            end\n",
    "            a[0] *= 1-q[0]\n",
    "        end\n",
    "        @inbounds for u = 1:J\n",
    "            p[+u] = a[+u] - a[+u+1]\n",
    "            p[-u] = a[-u] - a[-u-1]\n",
    "        end\n",
    "        p[0] = 1-a[0]\n",
    "        p ./= sum(p)\n",
    "    end\n",
    "end\n"
   ]
  },
  {
   "cell_type": "markdown",
   "metadata": {},
   "source": [
    "Comparison\n",
    "--"
   ]
  },
  {
   "cell_type": "code",
   "execution_count": 254,
   "metadata": {},
   "outputs": [
    {
     "data": {
      "text/plain": [
       "21×3 Matrix{Float64}:\n",
       " 0.0062716    0.0062716    0.0062716\n",
       " 0.0569761    0.0569761    0.0569761\n",
       " 0.0713478    0.0713478    0.0713478\n",
       " 0.0561757    0.0561757    0.0561757\n",
       " 0.0848371    0.0848371    0.0848371\n",
       " 0.000731458  0.000731458  0.000731458\n",
       " 0.0851799    0.0851799    0.0851799\n",
       " 0.0214231    0.0214231    0.0214231\n",
       " 0.036044     0.036044     0.036044\n",
       " 0.0382732    0.0382732    0.0382732\n",
       " 0.00652656   0.00652656   0.00652656\n",
       " 0.0583096    0.0583096    0.0583096\n",
       " 0.0195628    0.0195628    0.0195628\n",
       " 0.0637364    0.0637364    0.0637364\n",
       " 0.0557657    0.0557657    0.0557657\n",
       " 0.0439822    0.0439822    0.0439822\n",
       " 0.0900179    0.0900179    0.0900179\n",
       " 0.0435274    0.0435274    0.0435274\n",
       " 0.0406962    0.0406962    0.0406962\n",
       " 0.0625316    0.0625316    0.0625316\n",
       " 0.0580838    0.0580838    0.0580838"
      ]
     },
     "execution_count": 254,
     "metadata": {},
     "output_type": "execute_result"
    }
   ],
   "source": [
    "J=10\n",
    "y=0.1\n",
    "Q=[(q=fill(0.0,-J:J); q[-J:J] .= rand(2J+1); q) for i=1:1]\n",
    "p = fill(0.0, -J:J)\n",
    "iter_factor! = Cached_Factor_Iterator(J)\n",
    "[iter_factor(Q,J,y) iter_slow_factor(Q,J,y) iter_factor!(p,Q)]"
   ]
  },
  {
   "cell_type": "code",
   "execution_count": 255,
   "metadata": {},
   "outputs": [
    {
     "name": "stdout",
     "output_type": "stream",
     "text": [
      "  140.419 ns (0 allocations: 0 bytes)\n"
     ]
    },
    {
     "data": {
      "text/plain": [
       "21-element OffsetArray(::Vector{Float64}, -10:10) with eltype Float64 with indices -10:10:\n",
       " 0.006271595935404172\n",
       " 0.05697605480815335\n",
       " 0.07134776637924191\n",
       " 0.056175727952482116\n",
       " 0.08483709016402789\n",
       " 0.000731458168611164\n",
       " 0.08517988710811404\n",
       " 0.02142305733199907\n",
       " 0.03604398842880545\n",
       " 0.03827322979441503\n",
       " 0.006526563084261679\n",
       " 0.0583095827856468\n",
       " 0.019562755079249008\n",
       " 0.06373643044206778\n",
       " 0.05576568235497246\n",
       " 0.04398217391350367\n",
       " 0.09001789609135927\n",
       " 0.04352743650706492\n",
       " 0.04069622188625462\n",
       " 0.06253164546861732\n",
       " 0.058083756315748095"
      ]
     },
     "execution_count": 255,
     "metadata": {},
     "output_type": "execute_result"
    }
   ],
   "source": [
    "using BenchmarkTools\n",
    "@btime iter_factor!(p,Q)"
   ]
  },
  {
   "cell_type": "markdown",
   "metadata": {},
   "source": [
    "The expression for $C_{ia}$ is"
   ]
  },
  {
   "cell_type": "markdown",
   "metadata": {},
   "source": [
    "\\begin{align*}\n",
    "    C_{ia} &=\\left|s + \\sum_{b=1}^d u_b\\right| - \\sum_{b=1}^d|u_b|\n",
    "\\end{align*}\n",
    "and\n",
    "\n",
    "\\begin{align*}\n",
    "q(h) &= \\sum_{u_1,\\dots,u_d} \\prod_{b=1,\\dots,d} p_b(u_b) \\delta\\left(h-s-\\sum_{b=1}^du_b\\right)e^{y C_{ia}}\\\\\n",
    "&= e^{y |h|}\\sum_{u_1,\\dots,u_d} \\prod_{b=1,\\dots,d} p_b(u_b)e^{-y|u_b|} \\delta\\left(h-s-\\sum_{b=1}^du_b\\right)\\\\\n",
    "\\end{align*}\n",
    "\n",
    "\n",
    "To compute $q_d$, note that"
   ]
  },
  {
   "cell_type": "markdown",
   "metadata": {},
   "source": [
    "\\begin{align}\n",
    "q(h) &= q_d(h)e^{y|h|}\n",
    "\\end{align}\n",
    "\n",
    "where $q_d$ satisfies\n",
    "\\begin{align}\n",
    "q_0(h) & = \\delta(h-s)\\\\\n",
    "q_d(h) & = \\sum_{u} q_{d-1}(h-u) p_d(u)e^{-y|u|} \n",
    "\\end{align}"
   ]
  },
  {
   "cell_type": "code",
   "execution_count": 258,
   "metadata": {},
   "outputs": [
    {
     "data": {
      "text/plain": [
       "iter_var (generic function with 2 methods)"
      ]
     },
     "execution_count": 258,
     "metadata": {},
     "output_type": "execute_result"
    }
   ],
   "source": [
    "function ⊛(p1, p2)\n",
    "    q = fill(0.0,firstindex(p1)+firstindex(p2):lastindex(p1)+lastindex(p2))\n",
    "    for u2 in eachindex(p2), u1 in eachindex(p1)\n",
    "        q[u1+u2] += p1[u1]*p2[u2]\n",
    "    end\n",
    "    q\n",
    "end\n",
    "\n",
    "function iter_var(P, s, J, y=0.0)\n",
    "    q = fill(1.0, s:s)\n",
    "    for p ∈ P\n",
    "        q = q ⊛ (p .* exp.(-y .* abs.(eachindex(p))))\n",
    "    end\n",
    "    q .*= exp.(y .* abs.(eachindex(q)))\n",
    "    qnew = fill(0.0, -J:J)\n",
    "    for h in eachindex(q)\n",
    "        qnew[clamp(h,-J,J)] += q[h]\n",
    "    end\n",
    "    qnew\n",
    "end"
   ]
  },
  {
   "cell_type": "code",
   "execution_count": 347,
   "metadata": {},
   "outputs": [
    {
     "data": {
      "text/plain": [
       "Cached_Var_Iterator (generic function with 1 method)"
      ]
     },
     "execution_count": 347,
     "metadata": {},
     "output_type": "execute_result"
    }
   ],
   "source": [
    "function Cached_Var_Iterator(J, maxd, y)\n",
    "    buf = (zeros(maxd*2J+1), zeros(maxd*2J+1))\n",
    "    expy = OffsetArray([exp(y*abs(h)) for h=-maxd*J-1:maxd*J+1], -maxd*J-1:maxd*J+1)\n",
    "    expmy = OffsetArray([exp(-y*abs(h)) for h=-J:J], -J:J)\n",
    "    function iter_var!(q, P, s)\n",
    "        @assert length(P) ≤ maxd\n",
    "        first = last = s\n",
    "        q1, q2 = buf[1], buf[2]\n",
    "        q1[1] = 1.0\n",
    "        @inbounds for (i,p) in enumerate(P)\n",
    "            #q2[1:last-first+1+2J] .= 0\n",
    "            q2 .= 0\n",
    "            for u2 = eachindex(p)\n",
    "                paux = p[u2] * expmy[u2]\n",
    "                for u1 = 1:last-first+1\n",
    "                    q2[u1+u2+J] += q1[u1] * paux\n",
    "                end\n",
    "            end\n",
    "            first -= J\n",
    "            last += J\n",
    "            q1, q2 = q2, q1\n",
    "        end\n",
    "        q .= 0\n",
    "        @inbounds for (h,h1) in enumerate(first:last)\n",
    "            q[clamp(h1,firstindex(q),lastindex(q))] += q1[h] * expy[h1]\n",
    "        end\n",
    "        #q ./= sum(q)\n",
    "        q\n",
    "    end\n",
    "end"
   ]
  },
  {
   "cell_type": "markdown",
   "metadata": {},
   "source": [
    "Comparison\n",
    "--"
   ]
  },
  {
   "cell_type": "code",
   "execution_count": 348,
   "metadata": {},
   "outputs": [
    {
     "data": {
      "text/plain": [
       "27×3 Matrix{Float64}:\n",
       " 24.9571   24.9571   24.9571\n",
       "  4.02476   4.02476   4.02476\n",
       "  3.81003   3.81003   3.81003\n",
       "  4.56448   4.56448   4.56448\n",
       "  4.12634   4.12634   4.12634\n",
       "  4.67753   4.67753   4.67753\n",
       "  4.81204   4.81204   4.81204\n",
       "  5.58057   5.58057   5.58057\n",
       "  5.77247   5.77247   5.77247\n",
       "  5.07779   5.07779   5.07779\n",
       "  5.01649   5.01649   5.01649\n",
       "  5.4847    5.4847    5.4847\n",
       "  6.17823   6.17823   6.17823\n",
       "  ⋮                  \n",
       "  6.52864   6.52864   6.52864\n",
       "  5.59349   5.59349   5.59349\n",
       "  5.471     5.471     5.471\n",
       "  5.01785   5.01785   5.01785\n",
       "  4.98876   4.98876   4.98876\n",
       "  4.57656   4.57656   4.57656\n",
       "  3.71674   3.71674   3.71674\n",
       "  4.35339   4.35339   4.35339\n",
       "  3.68593   3.68593   3.68593\n",
       "  3.92747   3.92747   3.92747\n",
       "  3.60928   3.60928   3.60928\n",
       " 20.9382   20.9382   20.9382"
      ]
     },
     "execution_count": 348,
     "metadata": {},
     "output_type": "execute_result"
    }
   ],
   "source": [
    "J=13\n",
    "y=0.0\n",
    "s=1\n",
    "maxd = 2\n",
    "P=[(p=fill(0.0, -J:J); p[-J:J] .= rand(2J+1); p ) for i=1:maxd]\n",
    "iter_var! = Cached_Var_Iterator(J, maxd, y)\n",
    "q= fill(0.0, -J:J)\n",
    "[iter_var(P,s,J,y) iter_slow_var(P,s,J,y) iter_var!(q,P,s)]"
   ]
  },
  {
   "cell_type": "code",
   "execution_count": 261,
   "metadata": {},
   "outputs": [
    {
     "name": "stdout",
     "output_type": "stream",
     "text": [
      "  780.483 ns (0 allocations: 0 bytes)\n"
     ]
    },
    {
     "data": {
      "text/plain": [
       "27-element OffsetArray(::Vector{Float64}, -13:13) with eltype Float64 with indices -13:13:\n",
       " 25.553445079149725\n",
       "  3.382910789638589\n",
       "  4.556072399504209\n",
       "  3.88706429263361\n",
       "  4.967605064180491\n",
       "  4.543237955334298\n",
       "  5.72403246763951\n",
       "  5.787062385672884\n",
       "  6.381554364393907\n",
       "  6.040174383506628\n",
       "  7.331271354656398\n",
       "  6.775944583054834\n",
       "  7.2224437455301835\n",
       "  ⋮\n",
       "  7.249588898897902\n",
       "  7.575845195773476\n",
       "  7.753050475954058\n",
       "  7.163203682482939\n",
       "  6.188105343098165\n",
       "  6.598727039309408\n",
       "  6.429125244654154\n",
       "  5.667530861400512\n",
       "  5.670398716310829\n",
       "  5.716573549718294\n",
       "  5.333610527951447\n",
       " 41.97023321945039"
      ]
     },
     "execution_count": 261,
     "metadata": {},
     "output_type": "execute_result"
    }
   ],
   "source": [
    "using BenchmarkTools\n",
    "@btime iter_var!(q,P,s)"
   ]
  },
  {
   "cell_type": "code",
   "execution_count": 458,
   "metadata": {},
   "outputs": [
    {
     "data": {
      "text/plain": [
       "RSB (generic function with 1 method)"
      ]
     },
     "execution_count": 458,
     "metadata": {},
     "output_type": "execute_result"
    }
   ],
   "source": [
    "using StatsBase, ProgressMeter, Random\n",
    "\n",
    "residual(x) = (p=OffsetVector((x .* eachindex(x))[1:end], 0:lastindex(x)-1); p./=sum(p))\n",
    "\n",
    "function moments!(avp, popP)\n",
    "    avp .= sum(popP, dims=2)[:,1] ./ size(popP,2)\n",
    "end\n",
    "\n",
    "function checkRS(popP)\n",
    "    V=0.0\n",
    "    for t=1:size(popP,2)\n",
    "        m1 = sum(i*popP[i,t] for i in eachindex(popP[:,t]))\n",
    "        m2 = sum(i^2*popP[i,t] for i in eachindex(popP[:,t]))\n",
    "        V+= m2-m1^2\n",
    "    end\n",
    "    V /= size(popP,2)\n",
    "end\n",
    "\n",
    "function RSB(Λ, K; \n",
    "        J=10, \n",
    "        maxiter=100, \n",
    "        popsize=1000, \n",
    "        tol=1/(J*√popsize),\n",
    "        popP = fill(1/(2J+1), -J:J, 1:popsize),\n",
    "        popQ = fill(1/(2J+1), -J:J, 1:popsize), \n",
    "        y=0.0)\n",
    "    J = lastindex(popP[:,1])\n",
    "    mt = MersenneTwister()\n",
    "    function Sampler(P, R)\n",
    "        idx = fill(0,10)\n",
    "        wP = weights(P)\n",
    "        function s()\n",
    "            d = sample(mt, eachindex(P), wP)\n",
    "            resize!(idx, d)\n",
    "            rand!(mt, idx, R)\n",
    "        end\n",
    "    end\n",
    "    N = size(popP,2)\n",
    "    sampled = Sampler(residual(Λ), 1:N)\n",
    "    samplek = Sampler(residual(K), 1:N)\n",
    "    iter_var! = Cached_Var_Iterator(J, lastindex(Λ), y)\n",
    "    iter_factor! = Cached_Factor_Iterator(J)\n",
    "    avp = fill(0.0, -J:J)\n",
    "    avp1 = fill(0.0, -J:J)\n",
    "    moments!(avp, popP); err = Inf\n",
    "    ProgressMeter.ijulia_behavior(:clear)\n",
    "    p = Progress(maxiter)\n",
    "    for t = 1:maxiter\n",
    "        for i = 1:N\n",
    "            P = eachcol(@view popP[:, sampled()])\n",
    "            s = rand(mt, (-1,1))\n",
    "            iter_var!((@view popQ[:,i]), P, s)\n",
    "        end\n",
    "        for i = 1:N\n",
    "            Q = eachcol(@view popQ[:, samplek()])\n",
    "            iter_factor!((@view popP[:,i]), Q)\n",
    "        end\n",
    "        moments!(avp1, popP);\n",
    "        err = maximum(abs.(avp .- avp1))\n",
    "        if err < tol\n",
    "            @show t\n",
    "            break\n",
    "        end\n",
    "        ProgressMeter.next!(p; showvalues = [(:err,\"$err/$tol\")])\n",
    "        avp, avp1 = avp1, avp\n",
    "    end\n",
    "    @show err\n",
    "    popP, popQ\n",
    "end"
   ]
  },
  {
   "cell_type": "code",
   "execution_count": 459,
   "metadata": {
    "scrolled": true
   },
   "outputs": [],
   "source": [
    "Λ = OffsetVector([0,0,0.5,0.5], 0:3)\n",
    "K = OffsetVector([0,0,0,1], 0:3)\n",
    "\n",
    "J=10\n",
    "popsize=10^6\n",
    "popP = fill(1/(2J+1), -J:J, 1:popsize);\n",
    "popQ = fill(1/(2J+1), -J:J, 1:popsize);"
   ]
  },
  {
   "cell_type": "code",
   "execution_count": 460,
   "metadata": {
    "scrolled": true
   },
   "outputs": [
    {
     "name": "stderr",
     "output_type": "stream",
     "text": [
      "\u001b[32mProgress:   6%|██▌                                      |  ETA: 0:02:11\u001b[39m\n",
      "\u001b[34m  err:  0.01694277440691752/0.0001\u001b[39m"
     ]
    },
    {
     "ename": "LoadError",
     "evalue": "InterruptException:",
     "output_type": "error",
     "traceback": [
      "InterruptException:",
      "",
      "Stacktrace:",
      "  [1] reduced_indices(inds::Tuple{OffsetArrays.IdOffsetRange{Int64, Base.OneTo{Int64}}, OffsetArrays.IdOffsetRange{Int64, Base.OneTo{Int64}}}, d::Int64)",
      "    @ Base ./reducedim.jl:20",
      "  [2] reduced_indices",
      "    @ ./reducedim.jl:15 [inlined]",
      "  [3] reducedim_initarray(A::OffsetMatrix{Float64, Matrix{Float64}}, region::Int64, init::Float64, #unused#::Type{Float64})",
      "    @ Base ./reducedim.jl:92",
      "  [4] reducedim_initarray",
      "    @ ./reducedim.jl:93 [inlined]",
      "  [5] reducedim_init",
      "    @ ./reducedim.jl:172 [inlined]",
      "  [6] _mapreduce_dim",
      "    @ ./reducedim.jl:324 [inlined]",
      "  [7] #mapreduce#674",
      "    @ ./reducedim.jl:310 [inlined]",
      "  [8] #_sum#704",
      "    @ ./reducedim.jl:900 [inlined]",
      "  [9] _sum",
      "    @ ./reducedim.jl:900 [inlined]",
      " [10] #_sum#703",
      "    @ ./reducedim.jl:899 [inlined]",
      " [11] _sum",
      "    @ ./reducedim.jl:899 [inlined]",
      " [12] #sum#681",
      "    @ ./reducedim.jl:873 [inlined]",
      " [13] moments!(avp::OffsetVector{Float64, Vector{Float64}}, popP::OffsetMatrix{Float64, Matrix{Float64}})",
      "    @ Main ./In[458]:6",
      " [14] RSB(Λ::OffsetVector{Float64, Vector{Float64}}, K::OffsetVector{Int64, Vector{Int64}}; J::Int64, maxiter::Int64, popsize::Int64, tol::Float64, popP::OffsetMatrix{Float64, Matrix{Float64}}, popQ::OffsetMatrix{Float64, Matrix{Float64}}, y::Float64)",
      "    @ Main ./In[458]:58",
      " [15] top-level scope",
      "    @ In[460]:1",
      " [16] eval",
      "    @ ./boot.jl:360 [inlined]",
      " [17] include_string(mapexpr::typeof(REPL.softscope), mod::Module, code::String, filename::String)",
      "    @ Base ./loading.jl:1090"
     ]
    }
   ],
   "source": [
    "popP, popQ = RSB(Λ,K; J=J, maxiter=10^2, popsize=popsize, popQ=popQ, popP=popP, y=0.5);"
   ]
  },
  {
   "cell_type": "code",
   "execution_count": 282,
   "metadata": {},
   "outputs": [
    {
     "data": {
      "text/plain": [
       "([0.3765550916799134, 0.09193722525268964, 0.022568465683876823, 0.005763704442879056, 0.0016237518263097453, 0.0005830068190322619, 0.0003056743461390701, 0.00023146673898660357, 0.00020400052117520922, 0.00019715409037625154  …  0.00019697277385386026, 0.00020431112961092672, 0.00023152687064499446, 0.0003058027611767425, 0.0005834502199708436, 0.0016217261670883026, 0.005756188834475194, 0.022517809115326633, 0.09203617118757823, 0.3764160286297033], 87.18611787197136)"
      ]
     },
     "execution_count": 282,
     "metadata": {},
     "output_type": "execute_result"
    }
   ],
   "source": [
    "moments(popP), checkRS(popP)"
   ]
  },
  {
   "cell_type": "code",
   "execution_count": 283,
   "metadata": {},
   "outputs": [
    {
     "data": {
      "text/plain": [
       "21-element Vector{Float64}:\n",
       " 0.460597\n",
       " 0.039237\n",
       " 3.7e-5\n",
       " 0.0\n",
       " 0.0\n",
       " 0.0\n",
       " 0.0\n",
       " 0.0\n",
       " 0.0\n",
       " 2.0e-6\n",
       " 4.0e-6\n",
       " 4.0e-6\n",
       " 0.0\n",
       " 0.0\n",
       " 0.0\n",
       " 0.0\n",
       " 0.0\n",
       " 0.0\n",
       " 3.5e-5\n",
       " 0.039605\n",
       " 0.46047899999999997"
      ]
     },
     "execution_count": 283,
     "metadata": {},
     "output_type": "execute_result"
    }
   ],
   "source": [
    "using StatsBase\n",
    "\n",
    "proportions(argmax.(eachcol(popP)))"
   ]
  },
  {
   "cell_type": "code",
   "execution_count": 295,
   "metadata": {},
   "outputs": [
    {
     "data": {
      "text/plain": [
       "41×1 OffsetArray(::Matrix{Float64}, -20:20, 1:1) with eltype Float64 with indices -20:20×1:1:\n",
       " 0.3772899053157127\n",
       " 0.09214184725461941\n",
       " 0.022291063274053752\n",
       " 0.005555817259067228\n",
       " 0.00145393465116373\n",
       " 0.00044774837058328095\n",
       " 0.00018938348951841482\n",
       " 0.00011591971061110535\n",
       " 8.837615063630548e-5\n",
       " 7.317732600319606e-5\n",
       " 6.158518506024399e-5\n",
       " 5.2248518093637624e-5\n",
       " 4.3861559620134256e-5\n",
       " ⋮\n",
       " 5.169475702897527e-5\n",
       " 6.095719470149062e-5\n",
       " 7.237731618284126e-5\n",
       " 8.755582661666304e-5\n",
       " 0.00011483771274337724\n",
       " 0.00018832764561013937\n",
       " 0.0004460989079376002\n",
       " 0.0014499892986851648\n",
       " 0.005563517062123801\n",
       " 0.022311475934896872\n",
       " 0.09222148832174493\n",
       " 0.3772403958531414"
      ]
     },
     "execution_count": 295,
     "metadata": {},
     "output_type": "execute_result"
    }
   ],
   "source": [
    "p1=sum(popP, dims=2); p1/=sum(p1)"
   ]
  },
  {
   "cell_type": "markdown",
   "metadata": {},
   "source": [
    "1RSB equations for Max-Sum (Survey Propagation) at finite parameter $y$\n",
    "---\n",
    "We consider the auxiliary statistical physics model\n",
    "\\begin{align}\n",
    "    \\mathbb{P}_y(\\{u_{ai},h_{ia}\\})=\\frac{1}{\\Theta(y)}\\mathbb{I}\\left(\\{u_{ai},h_{ia}\\}\\text{sat Max-Sum}\\right)e^{-yF(\\{u_{ai},h_{ia}\\})}\n",
    "\\end{align}\n",
    "in which the variables are the Max-Sum messages living on the edges, and the constraints (that can be put in a factorized form) enforces the Max-Sum equations to be satisfied. Each Max-Sum solution represents a cluster. The Max-Sum solutions are weighted according to their Bethe free energy, which corresponds to the minimal energy (inside the cluster). In the $y\\to\\infty$ limit one keeps only the clusters with minimal energy\n",
    "\n",
    "* The distributions $Q_{ia}(h_{ia})$, $P_{ai}(u_{ai})$ over Max-Sum messages obey the SP(y) equations :\n",
    "\\begin{align}\n",
    "    Q_{ia}(h_{ia})&=\\frac{1}{Z_{ia}}\\sum_{\\{u_{bi}\\}_{b\\in\\partial i\\setminus a}}\\delta(h_{ia}-f^{MS}_{ia}(\\{u_{bi}\\}_{b\\in\\partial i\\setminus a}; s_i))e^{-yC_{ia}}\\prod_{b\\in\\partial i\\setminus a}P_{bi}(u_{bi}) \\\\\n",
    "    P_{ai}(u_{ai})&=\\frac{1}{Z_{ai}}\\sum_{\\{h_{ja}\\}_{j\\in\\partial a\\setminus i}}\\delta(u_{ai}-f^{MS}_{ai}(\\{h_{ja}\\}_{j\\in\\partial a\\setminus i}))e^{-yC_{ai}}\\prod_{j\\in\\partial a\\setminus i}Q_{ja}(h_{ja})    \n",
    "\\end{align}\n",
    "where $h_{ia}-f^{MS}_{ia}(\\{u_{bi}\\}_{b\\in\\partial i\\setminus a}; s_i)$, and $u_{ai}-f^{MS}_{ai}(\\{h_{ja}\\}_{j\\in\\partial a\\setminus i})$ are shorthand notation for the Max-Sum equations\n",
    "\\begin{align}\n",
    "    h_{ia}(\\sigma_i)&=s_i\\sigma_i+ \\sum_{b\\in\\partial i\\setminus a}u_{bi}(\\sigma_i) - C_{ia}\\\\\n",
    "    u_{ai}(\\sigma_i)&=\\max_{\\{\\sigma_j\\}_{j\\in\\partial a\\setminus i}:{\\rm sat}}\\left(\\sum_{j\\in\\partial a\\setminus i}h_{ja}(\\sigma_j)\\right) - C_{ai}\n",
    "\\end{align}\n",
    "and $C_{ia}$, $C_{ai}$ are the constants in the Max-Sum equations\n",
    "\\begin{align}\n",
    "    C_{ia}&=\\max_{\\sigma_i}\\left(s_i\\sigma_i+ \\sum_{b\\in\\partial i\\setminus a}u_{bi}(\\sigma_i)\\right)\\\\\n",
    "    C_{ai}&=\\max_{\\{\\sigma_i\\}_{i\\in\\partial a}:{\\rm sat}}\\left(\\sum_{j\\in\\partial a\\setminus i}h_{ja}(\\sigma_j)\\right)\n",
    "\\end{align}\n",
    "the constants $Z_{ia}$, $Z_{ai}$ are normalizations of the distributions $Q_{ia}$, $Q_{ai}$ over the Max-Sum messages\n",
    "\n",
    "* With the parametrization $u_{ai}(\\sigma_i) = u_{ai}\\sigma_i+u_{0,ai}$ and $h_{ia}(\\sigma_i) = h_{ia}\\sigma_i + h_{0,ia}$ we get :\n",
    "\\begin{equation}\n",
    "    u_{0,ai} = -\\frac{1}{\\beta}\\log(2{\\rm cosh}(\\beta u_{ai})\\to-|u_{ai}|\n",
    "\\end{equation}\n",
    "(and the same for $h_{0,ia}$). Therefore :\n",
    "\\begin{align*}\n",
    "    C_{ia}&=\\max_{\\sigma_i}\\left(\\sigma_i\\left(s_i+ \\sum_{b\\in\\partial i\\setminus a}u_{bi}\\right)\\right) + \\sum_{b\\in\\partial i\\setminus a}u_{0,bi}\\\\\n",
    "    &=\\left|s_i+ \\sum_{b\\in\\partial i\\setminus a}u_{bi}\\right| - \\sum_{b\\in\\partial i\\setminus a}|u_{bi}|\\\\\n",
    "&=|h_{ia}|- \\sum_{b\\in\\partial i\\setminus a}|u_{bi}|\\\\\n",
    "\\end{align*}\n",
    "\n",
    "and\n",
    "\\begin{align*}\n",
    "    C_{ai}&=\\max_{\\{\\sigma_i\\}_{i\\in\\partial a}:{\\rm sat}}\\left(\\sum_{j\\in\\partial a\\setminus i}h_{ja}\\sigma_j\\right)-\\sum_{j\\in\\partial a\\setminus i}|h_{ja}|\\\\\n",
    "% &= -2\\min_{j\\in\\partial a\\setminus i}|h_{ja}|\\Theta\\left(-\\prod_{j\\in\\partial a\\setminus j}h_{ja}\\right)\n",
    "&=0\n",
    "\\end{align*}"
   ]
  },
  {
   "cell_type": "markdown",
   "metadata": {},
   "source": [
    "* We can then write the same 1RSB equations for the distributions $Q_{ia}(h_{ia})$, $P_{ai}(u_{ai})$ over the integer parameters $h_{ia}$, $u_{ai}$:\n",
    "\\begin{align}\n",
    "    P(u)&=\\frac{1}{Z_P(y)}\\sum_{h_1,\\dots h_k}\\delta\\left(u-\\min_{j=1\\dots,k}|h_j|\\prod_j{\\rm sgn}(h_j)\\right)e^{-yC_{ai}(h_1,\\dots,h_k)}\\prod_j Q_j(h_j) \\\\\n",
    "    Q(h)&=\\frac{1}{Z_Q(y)}\\sum_{u_1,\\dots u_d}\\delta(h-s-\\sum_{b=1}^du_b)e^{-yC_{ia}(u_1,\\dots,u_d)}\\prod_{b=1}^dP_b(u_b)\n",
    "\\end{align}\n",
    "\n",
    "* Random graph ensemble\n",
    "When the source and the factor graph are random variables the 1RSB messages $P_{ai}$, $(a,i)\\in E$ become random variables. Let $(a,i)$ be a uniformly chosen edge in a factor graph drawn from the random ensembl, and let $\\mathcal{P}$ be the distribution of the message $P_{ai}$ solution of the 1RSB equation written above. The distribution $\\mathcal{P}(p)$ obey consistency equation similar to the RS cavity equations:\n",
    "\\begin{align}\n",
    "    \\mathcal{P}^{1RSB}(P)&=\\sum_{k}\\tilde{P}_k \\int\\prod_{j=1}^k{\\rm d}\\mathcal{Q}^{1RSB}(Q_j)\\delta(P-F^{SP(y)}(Q_1,\\dots,Q_k)) \\\\\n",
    "    \\mathcal{Q}^{1RSB}(Q) &= \\sum_{s}\\frac{1}{2}\\sum_{d}\\tilde{\\Lambda_d}\\int\\prod_{b=1}^d{\\rm d}\\mathcal{P}^{1RSB}(P_b)\\delta(Q-G^{SP(y)}(P_1,\\dots,P_d;s))\n",
    "\\end{align}\n",
    "This equation always admits a trivial fixed point $\\mathcal{P}(P)=\\sum_u p^{RS}(u)\\delta[P-\\delta(\\cdot-u)]$, $\\mathcal{Q}(h)=\\sum_h q^{RS}(h)\\delta[Q-\\delta(\\cdot-h)]$, where $p^{RS}, q^{RS}$  is the solution of the RS cavity equation.\n",
    "In the RS phase, this trivial fixed-point is the unique solution, while in the 1RSB phase, the trivial solution becomes unstable and the above equation admits a non-trivial solution."
   ]
  },
  {
   "cell_type": "markdown",
   "metadata": {},
   "source": [
    "Average minimal energy : Free energy of the auxiliary model\n",
    "---\n",
    "We want to estimate the Free energy $\\mathcal{F}(y)=-\\frac{1}{yn}\\log\\Theta(y)$ of the auxiliary problem defined by the partition function $\\Theta(y)$ on a single instance. Then we can average over the random ensemble of instances. In the large $y\\to\\infty$ limit, we obtain the averaged minimal energy.\n",
    "\n",
    "On a single instance, once a fixed point of the SP(y) equations has been found on a single instance, one can compute the Bethe free energy of the auxiliary problem:\n",
    "\\begin{align}\n",
    "    \\mathcal{F}(y) = \\frac{1}{n}\\sum_{a}\\mathcal{F}_a(\\{Q_{ia}\\}_{i\\in\\partial a};y) + \\frac{1}{n}\\sum_i\\mathcal{F}_i(\\{P_{ai}\\}_{a\\in\\partial i};y) - \\frac{1}{n}\\sum_{(ia)}\\mathcal{F}_{(ia)}(P_{ai},Q_{ia};y)\n",
    "\\end{align}\n",
    "with:\n",
    "\\begin{align}\n",
    "    \\mathcal{F}_a(\\{Q_{ia}\\}_{i\\in\\partial a};y) &= -\\frac{1}{y}\\log\\left(\\sum_{\\{h_{ia}\\}_{i\\in\\partial a}}e^{-yF_a(\\{h_{ia}\\}_{i\\in\\partial a})}\\prod_{i\\in\\partial a}Q_{ia}(h_{ia})\\right)\\\\\n",
    "    \\mathcal{F}_i(\\{P_{ai}\\}_{a\\in\\partial i};y) &= -\\frac{1}{y}\\log\\left(\\sum_{\\{u_{ai}\\}_{a\\in\\partial i}}e^{-yF_i(\\{u_{ai}\\}_{a\\in\\partial i})}\\prod_{a\\in\\partial i}P_{ai}(u_{ai})\\right)\\\\\n",
    "    \\mathcal{F}_{(ia)}(P_{ai},Q_{ia};y) &= -\\frac{1}{y}\\log\\left(\\sum_{u_{ia}, h_{ia}}e^{-yF_{ia}(u_{ia}, h_{ia})}P_{ai}(u_{ai})Q_{ia}(h_{ia})\\right)\n",
    "\\end{align}\n",
    "where $F_a,F_i, F_{ia}$ are the factor, variable and edge terms of the Bethe free energy associated to one fixed point of the Max-Sum equation: \n",
    "\\begin{align}\n",
    "    F_a(\\{h_{ia}\\}_{i\\in\\partial a}) &= 2\\min_{i\\in\\partial a}|h_{ia}|\\Theta(-\\prod_i h_{ia})\\\\\n",
    "    F_i(\\{u_{ai}\\}_{a\\in\\partial i}) &= -|s_i + \\sum_{a\\in\\partial i}u_{ai}| + \\sum_a |u_{ai}|\\\\\n",
    "    F_{(ia)}(u_{ai},h_{ia}) &= -|u_{ai} + h_{ia}| + |u_{ai}| + |h_{ia}| \n",
    "\\end{align}\n",
    "Averaging over the random ensemble of instances:\n",
    "\\begin{align}\n",
    "    \\mathcal{F}^{1RSB}(y) &= \\alpha\\sum_{k}P_k\\int\\prod_{i=1}^k{\\rm d}\\mathcal{Q}^{1RSB}(Q_i)\\mathcal{F}_a(Q_1,\\dots,Q_k;y) + \\sum_d\\Lambda_d\\sum_s\\frac{1}{2}\\int\\prod_{i=1}^d\\mathcal{P}^{1RSB}(P_i)\\mathcal{F}_i(P_1,\\dots,P_d;s,y) \\\\\n",
    "    &- \\Lambda'(1)\\int\\mathcal{F}_{(ia)}\\mathcal{P}^{1RSB}(P)\\mathcal{Q}^{1RSB}(Q)(P,Q;y)\n",
    "\\end{align}\n"
   ]
  },
  {
   "cell_type": "code",
   "execution_count": 411,
   "metadata": {},
   "outputs": [
    {
     "data": {
      "text/plain": [
       "overlap_slow_edge (generic function with 2 methods)"
      ]
     },
     "execution_count": 411,
     "metadata": {},
     "output_type": "execute_result"
    }
   ],
   "source": [
    "function overlap_slow_factor(Q, J, y=0.0)\n",
    "    z = 0.0\n",
    "    o = 0.0\n",
    "    k = length(Q)\n",
    "    for hs in Iterators.product(fill(-J:J,k)...)\n",
    "        Fa = 2*minimum(abs.(hs))*(∏(hs) < 0)\n",
    "        w = ∏(q[h] for (q,h) ∈ zip(Q,hs)) * exp(-y*Fa)\n",
    "        z += w\n",
    "        o += Fa*w\n",
    "    end\n",
    "    o / z, log(z)\n",
    "end\n",
    "\n",
    "function overlap_slow_var(P, s, J, y=0.0)\n",
    "    z = 0.0\n",
    "    o = 0.0\n",
    "    d = length(P)\n",
    "    for us in Iterators.product(fill(-J:J,d)...)\n",
    "        h = sum(us) + s\n",
    "        Fi = -abs(h) + sum(abs.(us)) \n",
    "        w = ∏(p[u] for (p,u) ∈ zip(P,us)) * exp(-y*Fi)\n",
    "        z += w\n",
    "        o += Fi*w\n",
    "    end\n",
    "    o/z, log(z)\n",
    "end\n",
    "\n",
    "\n",
    "function overlap_slow_edge(p, q, J, y=0.0)\n",
    "    z = 0.0\n",
    "    o = 0.0\n",
    "    for h in -J:J, u in -J:J\n",
    "        Fia = -abs(u+h)+abs(h)+abs(u)\n",
    "        w = p[u]*q[h]*exp(-y*Fia)\n",
    "        o += Fia*w\n",
    "        z += w\n",
    "    end\n",
    "    o/z, log(z)\n",
    "end"
   ]
  },
  {
   "cell_type": "code",
   "execution_count": 445,
   "metadata": {},
   "outputs": [
    {
     "data": {
      "text/plain": [
       "overlap1RSB (generic function with 1 method)"
      ]
     },
     "execution_count": 445,
     "metadata": {},
     "output_type": "execute_result"
    }
   ],
   "source": [
    "function overlap1RSB(Λ, K; \n",
    "        popP, \n",
    "        popQ, \n",
    "        samples=size(popP,2), \n",
    "        y=0.0)\n",
    "    mt = MersenneTwister()\n",
    "    function Sampler(P, R)\n",
    "        idx = fill(0,10)\n",
    "        wP = weights(P)\n",
    "        function s()\n",
    "            d = sample(mt, eachindex(P), wP)\n",
    "            resize!(idx, d)\n",
    "            rand!(mt, idx, R)\n",
    "        end\n",
    "    end\n",
    "    N = size(popP,2)\n",
    "    sampled = Sampler(Λ, 1:N)\n",
    "    samplek = Sampler(K, 1:N)\n",
    "    J = lastindex(popQ[:,1])\n",
    "    mK = sum(k*K[k] for k=eachindex(K))\n",
    "    mΛ = sum(d*Λ[d] for d=eachindex(Λ))\n",
    "    α = mΛ/mK\n",
    "\n",
    "    N = size(popP,2)\n",
    "\n",
    "    O_factor = F_factor = 0.0\n",
    "    O_var = F_var = 0.0\n",
    "    O_edge = F_edge = 0.0\n",
    "    \n",
    "    cached_overlap_factor = Cached_Overlap_Factor(J)\n",
    "    cached_overlap_var = Cached_Overlap_Var(J, lastindex(Λ), y)\n",
    "    progress = Progress(samples)\n",
    "    for t = 1:samples\n",
    "        Q = eachcol(@view popQ[:, samplek()])\n",
    "        o, f = cached_overlap_factor(Q, J, y)\n",
    "        O_factor += o\n",
    "        F_factor += f\n",
    "\n",
    "        P = eachcol(@view popP[:, sampled()])\n",
    "        s = rand(mt, (-1,1))\n",
    "        o, f = cached_overlap_var(P, s)\n",
    "        O_var += o\n",
    "        F_var += f\n",
    "\n",
    "        p = popP[:, rand(1:N)]\n",
    "        q = popQ[:, rand(1:N)]\n",
    "        o, f = overlap_slow_edge(p, q, J, y)\n",
    "        O_edge += o\n",
    "        F_edge += f\n",
    "        O = -(α*O_factor + O_var - mΛ*O_edge)/t\n",
    "        F = -1/y*(α*F_factor + F_var - mΛ*F_edge)/t\n",
    "        ProgressMeter.next!(progress; showvalues = [(:F,F),(:O,O),(:D,(1-O)/2)])\n",
    "    end\n",
    "    O = -(α*O_factor + O_var - mΛ*O_edge)/samples\n",
    "    F = -1/y*(α*F_factor + F_var - mΛ*F_edge)/samples\n",
    "    C = -O - F\n",
    "    O,F,C\n",
    "end"
   ]
  },
  {
   "cell_type": "code",
   "execution_count": 456,
   "metadata": {},
   "outputs": [
    {
     "name": "stderr",
     "output_type": "stream",
     "text": [
      "\u001b[32mProgress:  28%|███████████▌                             |  ETA: 0:04:19\u001b[39m\n",
      "\u001b[34m  err:  0.000983575298572792/0.0005\u001b[39m"
     ]
    },
    {
     "name": "stdout",
     "output_type": "stream",
     "text": [
      "t = 29\n",
      "err = 0.00038595101285124334\n"
     ]
    },
    {
     "data": {
      "text/plain": [
       "1244.5722056399434"
      ]
     },
     "execution_count": 456,
     "metadata": {},
     "output_type": "execute_result"
    }
   ],
   "source": [
    "Λ = OffsetVector([0,0,0.5, 0.5], 0:3)\n",
    "K = OffsetVector([0,0,0,1], 0:3)\n",
    "mK = sum(k*K[k] for k=eachindex(K))\n",
    "mΛ = sum(d*Λ[d] for d=eachindex(Λ))\n",
    "α = mΛ/mK\n",
    "@show R=1-α\n",
    "\n",
    "J = 40\n",
    "y = 0.8\n",
    "popsize=10^6\n",
    "popP, popQ = RSB(Λ,K; J=J, maxiter=10^2, popsize=popsize, y=y);\n",
    "V = checkRS(popP)"
   ]
  },
  {
   "cell_type": "markdown",
   "metadata": {},
   "source": [
    "Overlap\n",
    "--"
   ]
  },
  {
   "cell_type": "code",
   "execution_count": 457,
   "metadata": {},
   "outputs": [
    {
     "name": "stderr",
     "output_type": "stream",
     "text": [
      "\u001b[32mProgress: 100%|█████████████████████████████████████████| Time: 0:00:15\u001b[39m\n",
      "\u001b[34m  F:  -1.109260845348904\u001b[39m\n",
      "\u001b[34m  O:  0.47694179066145953\u001b[39m\n",
      "\u001b[34m  D:  0.26152910466927026\u001b[39m\n"
     ]
    },
    {
     "name": "stdout",
     "output_type": "stream",
     "text": [
      "R = 0.16666666666666663\n",
      "D = 0.26152910466927026\n",
      "F = -1.109260845348904\n",
      "Σ = 0.6323190546874444\n"
     ]
    }
   ],
   "source": [
    "O,F = overlap1RSB(Λ,K; popP=popP, popQ=popQ, y=y, samples=10^5)\n",
    "Σ = -O - F\n",
    "D=(1-O)/2\n",
    "@show R D F Σ;"
   ]
  },
  {
   "cell_type": "code",
   "execution_count": 450,
   "metadata": {},
   "outputs": [
    {
     "data": {
      "image/png": "[encoded data removed]",
      "text/plain": [
       "Figure(PyObject <Figure size 600x500 with 1 Axes>)"
      ]
     },
     "metadata": {},
     "output_type": "display_data"
    },
    {
     "data": {
      "text/plain": [
       "PyObject <matplotlib.legend.Legend object at 0x7f2dbb63d8e0>"
      ]
     },
     "execution_count": 450,
     "metadata": {},
     "output_type": "execute_result"
    }
   ],
   "source": [
    "using PyPlot\n",
    "H(p)=1+p*log2(p)+(1-p)*log2(1-p)\n",
    "fig, ax = subplots(figsize=(6,5))\n",
    "xlabel(\"Rate\")\n",
    "ylabel(\"Distortion\")\n",
    "plot((0,1),(0.5,0), label=\"trival\")\n",
    "plot(H.(0:0.001:0.5), 0:0.001:0.5, label=\"information bound\")\n",
    "plot(R,0.2618, \"*\", label=\"1RSB\")\n",
    "legend()"
   ]
  },
  {
   "cell_type": "markdown",
   "metadata": {},
   "source": [
    "Simplifications of the terms in the 1RSB Bethe free energy $\\mathcal{F}(y)$\n",
    "---\n",
    "We can simplify the 1st term\n",
    "\\begin{align}\n",
    "    \\mathcal{F}_a(Q_1,\\dots,Q_k;y) &= -\\frac{1}{y}\\log\\left(\\mathcal{Z}_a\\right)\\\\\n",
    "    \\mathcal{Z}_a &= \\sum_{g_1,\\dots,g_k}e^{-2y\\min_{i=1,\\dots, k}|g_i|\\Theta(-\\prod_i g_i)}\\prod_{i=1}^kQ_i(g_i)\n",
    "\\end{align}\n",
    "we get:\n",
    "\\begin{align}\n",
    "    \\mathcal{Z}_a &=  \\sum_{g_1,\\dots,g_k}1-\\Theta(-\\prod_i g_i) + \\Theta(-\\prod_i g_i)e^{-2y\\min_i|g_i|}\\prod_{i=1}^k Q_i(g_i)\\\\\n",
    "    &= 1+\\sum_{g_1,\\dots,g_k}\\Theta(-\\prod_i g_i)\\left(e^{-2y\\min_i|g_i|}-1\\right)\\prod_{i=1}^kQ_i(g_i) \\\\\n",
    "    &= 1+ \\sum_{f=0}^{\\infty}\\left(e^{-2yf}-1\\right)\\sum_{g_1,\\dots,g_k}\\Theta(-\\prod_i g_i)\\delta(f-\\min_i|g_i|)\\prod_{i=1}^kQ_i(g_i)\\\\\n",
    "    &= 1+\\sum_{f=0}^{\\infty}\\left(e^{-2yf}-1\\right)(a_k(-f)-a_k(-f-1))\n",
    "\\end{align}\n",
    "\n"
   ]
  },
  {
   "cell_type": "markdown",
   "metadata": {},
   "source": [
    "\\begin{align}\n",
    "\\mathbb{E}[F_a] &= \\frac1{\\mathcal{Z}_a} \\sum_{h_1,\\dots,h_k} 2\\min_i|h_i|\\Theta(-\\prod_i h_i) e^{-2y\\min_i|h_i|\\Theta(-\\prod_i h_i)}\\prod_{i=1}^k Q_i(h_i)\\\\\n",
    " &= \\frac1{\\mathcal{Z}_a} \\sum_{h_1,\\dots,h_k} 2\\min_i|h_i|\\Theta(-\\prod_i h_i) e^{-2y\\min_i|h_i|}\\prod_{i=1}^k Q_i(h_i)\\\\\n",
    " &= \\frac1{\\mathcal{Z}_a} \\sum_{h_1,\\dots,h_k} 2\\min_i|h_i|\\Theta(-\\prod_i h_i) e^{-2y\\min_i|h_i|}\\prod_{i=1}^k Q_i(h_i)\\\\\n",
    " &=  \\frac1{\\mathcal{Z}_a} \\sum_{u\\geq0}2ue^{-2yu}(a_k(-u)-a_k(-u-1))\n",
    "\\end{align}"
   ]
  },
  {
   "cell_type": "code",
   "execution_count": 420,
   "metadata": {},
   "outputs": [
    {
     "data": {
      "text/plain": [
       "Cached_Overlap_Factor (generic function with 3 methods)"
      ]
     },
     "execution_count": 420,
     "metadata": {},
     "output_type": "execute_result"
    }
   ],
   "source": [
    "function overlap_factor(Q, J, y=1.0)\n",
    "    a = fill(0.0, -J-1:J+1)\n",
    "    a[1:J] .= 1\n",
    "    for q ∈ Q\n",
    "        Σp, Σm = 0.0, 0.0\n",
    "        for f=J:-1:1\n",
    "            ap, am = a[f], a[-f]\n",
    "            #Σp, Σm = ∑(q[f:N]), ∑(q[-N:-f])\n",
    "            Σp += q[f]; Σm += q[-f]\n",
    "            a[+f] = ap*Σp + am*Σm\n",
    "            a[-f] = am*Σp + ap*Σm\n",
    "        end\n",
    "    end\n",
    "    o = sum((a[-f]-a[-f-1])*2f*exp(-2y*f) for f in 1:J)\n",
    "    z = 1 + sum((a[-f]-a[-f-1])*(exp(-2*y*f)-1) for f in 1:J)\n",
    "    o/z, log(max(z,0.0))\n",
    "end\n",
    "\n",
    "function Cached_Overlap_Factor(J)\n",
    "    p = fill(0.0, -J:J)\n",
    "    F! = Cached_Factor_Iterator(J)\n",
    "    function overlap(Q, J, y)\n",
    "        F!(p, Q)\n",
    "        o = 0.0\n",
    "        z = 1.0\n",
    "        for f=1:J\n",
    "            e = exp(-2y*f)\n",
    "            o += p[-f]*2f*e\n",
    "            z += p[-f]*(e-1)\n",
    "        end\n",
    "        o/z, log(max(z,0))\n",
    "    end\n",
    "end\n"
   ]
  },
  {
   "cell_type": "markdown",
   "metadata": {},
   "source": [
    "Comparison\n",
    "---"
   ]
  },
  {
   "cell_type": "code",
   "execution_count": 421,
   "metadata": {},
   "outputs": [
    {
     "data": {
      "text/plain": [
       "1×3 Matrix{Tuple{Float64, Float64}}:\n",
       " (0.0717019, -0.57765)  (0.0717019, -0.57765)  (0.0717019, -0.57765)"
      ]
     },
     "execution_count": 421,
     "metadata": {},
     "output_type": "execute_result"
    }
   ],
   "source": [
    "J=20\n",
    "y=0.8\n",
    "cached_overlap = Cached_Overlap_Factor(J)\n",
    "Q=[(p=fill(0.0,-J:J); p[-J:J] .= rand(2J+1); p ./=sum(p)) for i=1:3]\n",
    "[overlap_factor(Q,J,y) overlap_slow_factor(Q,J,y) cached_overlap(Q,J,y)]"
   ]
  },
  {
   "cell_type": "code",
   "execution_count": 409,
   "metadata": {},
   "outputs": [
    {
     "name": "stdout",
     "output_type": "stream",
     "text": [
      "  744.131 ns (1 allocation: 32 bytes)\n"
     ]
    },
    {
     "data": {
      "text/plain": [
       "(0.09169840477545171, -0.53168793029266)"
      ]
     },
     "execution_count": 409,
     "metadata": {},
     "output_type": "execute_result"
    }
   ],
   "source": [
    "@btime cached_overlap($Q,J,y)"
   ]
  },
  {
   "cell_type": "markdown",
   "metadata": {},
   "source": [
    "We can also simplify the second term :\n",
    "\\begin{align}\n",
    "    \\mathcal{F}_i(P_1,\\dots,P_d;s,y) &= -\\frac{1}{y}\\log\\left(\\mathcal{Z}_i\\right)\\\\\n",
    "    \\mathcal{Z}_i &= \\sum_{u_1,\\dots,u_d}e^{-y(\\sum_{a=1}^d |u_a|-|s + \\sum_{a=1}^du_a|)}\\prod_{a=1}^d P_a(u_a)\n",
    "\\end{align}\n",
    "we get\n",
    "\\begin{align}\n",
    "    \\mathcal{Z}_i &= \\sum_h e^{y|h|}\\sum_{u_1,\\dots,u_d}\\delta(g-s-\\sum_a u_a)\\prod_{a=1}^d P_a(u_a)e^{-y |u_a|} \\\\\n",
    "    &= \\sum_h e^{y|h|}Q_d(h)\n",
    "\\end{align}\n",
    "with\n",
    "\\begin{align}\n",
    "    Q_0(h) &= \\delta(h-s) \\\\\n",
    "    Q_d(h) &= \\sum_{u_d}Q_{d-1}(h-u_d)P_d(u_d)e^{-y|u_d|}\n",
    "\\end{align}\n"
   ]
  },
  {
   "cell_type": "markdown",
   "metadata": {},
   "source": [
    "\\begin{align}\n",
    "    \\mathbb {E}[F_i] &= - \\frac1{\\mathcal{Z}_i} F_i e^{y|h|} \\sum_{u_1,\\dots,u_d}  \\delta(h-s-\\sum_a u_a)\\prod_{a=1}^d P_a(u_a)e^{-y |u_a|} \\\\\n",
    "   &= - \\frac1{\\mathcal{Z}_i} \\sum_h (|h|-\\sum_a|u_a|) e^{y|h|} \\sum_{u_1,\\dots,u_d}  \\delta(h-s-\\sum_a u_a)\\prod_{a=1}^d P_a(u_a)e^{-y |u_a|} \\\\\n",
    "\\end{align}"
   ]
  },
  {
   "cell_type": "code",
   "execution_count": 461,
   "metadata": {},
   "outputs": [
    {
     "data": {
      "text/plain": [
       "Cached_Overlap_Var (generic function with 1 method)"
      ]
     },
     "execution_count": 461,
     "metadata": {},
     "output_type": "execute_result"
    }
   ],
   "source": [
    "function overlap_var(P, s, J, y=0)\n",
    "    q = fill(1.0, s:s)\n",
    "    for p ∈ P\n",
    "       q = q ⊛ (p .* exp.(-y .* abs.(eachindex(p))))\n",
    "    end\n",
    "    z = sum(q[h]*exp(y*abs(h)) for h in eachindex(q))\n",
    "    log(z)\n",
    "end\n",
    "\n",
    "function Cached_Overlap_Var(J, maxd, y)\n",
    "    F! = Cached_Var_Iterator(J, maxd, y)\n",
    "    q = fill(0.0, -J*maxd-1:J*maxd+1)\n",
    "    function overlap(P, s)\n",
    "        F!(q, P, s)\n",
    "        o = z = 0.0\n",
    "        for h=eachindex(q)\n",
    "            o += -abs(h)*q[h]\n",
    "            z += q[h]\n",
    "        end\n",
    "        for pa in P\n",
    "            Pcav = (pb === pa ? pa .* abs.(eachindex(pa)) : pb for pb in P)\n",
    "            F!(q, Pcav, s)\n",
    "            for h in eachindex(q)\n",
    "                o += q[h]\n",
    "            end\n",
    "        end\n",
    "        o/z, log(z)\n",
    "    end\n",
    "end\n"
   ]
  },
  {
   "cell_type": "markdown",
   "metadata": {},
   "source": [
    "Comparison\n",
    "---"
   ]
  },
  {
   "cell_type": "code",
   "execution_count": 462,
   "metadata": {},
   "outputs": [
    {
     "data": {
      "text/plain": [
       "1×3 Matrix{Any}:\n",
       " -0.817464  (-0.7161, -0.817464)  (-0.7161, -0.817464)"
      ]
     },
     "execution_count": 462,
     "metadata": {},
     "output_type": "execute_result"
    }
   ],
   "source": [
    "J=13\n",
    "y=0.8\n",
    "s=1\n",
    "q = fill(0.0, -J:J)\n",
    "P=[(p=fill(0.0, -J:J); p[-J:J] .= rand(2J+1); p ./=sum(p)) for i=1:3]\n",
    "cached_overlap = Cached_Overlap_Var(J, length(P), y)\n",
    "[overlap_var(P,s,J,y) overlap_slow_var(P,s,J,y) cached_overlap(P,s)]"
   ]
  },
  {
   "cell_type": "code",
   "execution_count": 430,
   "metadata": {},
   "outputs": [
    {
     "name": "stdout",
     "output_type": "stream",
     "text": [
      "  6.726 μs (4 allocations: 944 bytes)\n"
     ]
    },
    {
     "data": {
      "text/plain": [
       "(-0.462424048956527, -1.1260081050273845)"
      ]
     },
     "execution_count": 430,
     "metadata": {},
     "output_type": "execute_result"
    }
   ],
   "source": [
    "@btime cached_overlap(P,s)"
   ]
  },
  {
   "cell_type": "code",
   "execution_count": 1,
   "metadata": {},
   "outputs": [
    {
     "name": "stderr",
     "output_type": "stream",
     "text": [
      "┌ Info: Precompiling PyPlot [d330b81b-6aea-500a-939a-2ce795aea3ee]\n",
      "└ @ Base loading.jl:1313\n"
     ]
    },
    {
     "ename": "LoadError",
     "evalue": "UndefVarError: Rm not defined",
     "output_type": "error",
     "traceback": [
      "UndefVarError: Rm not defined",
      "",
      "Stacktrace:",
      " [1] top-level scope",
      "   @ In[1]:6",
      " [2] eval",
      "   @ ./boot.jl:360 [inlined]",
      " [3] include_string(mapexpr::typeof(REPL.softscope), mod::Module, code::String, filename::String)",
      "   @ Base ./loading.jl:1090"
     ]
    }
   ],
   "source": [
    "using PyPlot\n",
    "H(p)=1+p*log2(p)+(1-p)*log2(1-p)\n",
    "fig, ax = subplots(figsize=(6,5))\n",
    "xlabel(\"Rate\")\n",
    "ylabel(\"Distortion\")\n",
    "plot(Rm,Dm, \"--\", label=\"RS d ~ δ₂, k ~ rδₗ+(1-r)δₗ₊₁\", c=:gray)\n",
    "plot((0,1),(0.5,0), label=\"trival\")\n",
    "plot((0.5, 0.174603333333333332)..., \"o\", label=\"MS d ~ ½(δ₁+δ₂), k ~ δ₃\") \n",
    "plot(H.(0:0.001:0.5), 0:0.001:0.5, label=\"information bound\")\n",
    "plot(rd,dd, \"+\", label=\"instability\")\n",
    "legend()"
   ]
  },
  {
   "cell_type": "code",
   "execution_count": null,
   "metadata": {},
   "outputs": [],
   "source": []
  }
 ],
 "metadata": {
  "kernelspec": {
   "display_name": "Julia 1.6.0-beta1",
   "language": "julia",
   "name": "julia-1.6"
  },
  "language_info": {
   "file_extension": ".jl",
   "mimetype": "application/julia",
   "name": "julia",
   "version": "1.6.0"
  },
  "output_auto_scroll": true
 },
 "nbformat": 4,
 "nbformat_minor": 4
}
