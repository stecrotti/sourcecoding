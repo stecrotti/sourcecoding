{
 "cells": [
  {
   "cell_type": "markdown",
   "metadata": {},
   "source": [
    "Compare performances of `onepbiter!` and `onebpiter_slow!`"
   ]
  },
  {
   "cell_type": "code",
   "execution_count": 97,
   "metadata": {},
   "outputs": [],
   "source": [
    "include(\"../code/headers.jl\")\n",
    "using BenchmarkTools"
   ]
  },
  {
   "cell_type": "code",
   "execution_count": 98,
   "metadata": {
    "scrolled": true
   },
   "outputs": [],
   "source": [
    "n = 1000\n",
    "m = 600\n",
    "seed = 1234\n",
    "algo = MS(maxiter = 100, Tmax=1, gamma=1e-3, sigma=1e-10, convergence=:messages, tol=-1.0)\n",
    "lm1 = LossyModel(Val(2), n, m, randseed=seed)\n",
    "lm2 = deepcopy(lm1)\n",
    "independent = falses(n)\n",
    "basis = lightbasis(lm1.fg, independent);"
   ]
  },
  {
   "cell_type": "markdown",
   "metadata": {},
   "source": [
    "Slow version:"
   ]
  },
  {
   "cell_type": "code",
   "execution_count": 99,
   "metadata": {
    "scrolled": true
   },
   "outputs": [
    {
     "ename": "LoadError",
     "evalue": "MethodError: no method matching onebpiter_slow!(::FactorGraphGF2, ::MS, ::OffsetArray{Float64,1,Array{Float64,1}}; fact_perm=[287, 499, 367, 49, 46, 225, 239, 161, 75, 286  …  481, 33, 191, 124, 312, 203, 159, 539, 234, 81])\nClosest candidates are:\n  onebpiter_slow!(::FactorGraphGF2, ::MS, ::Any; perm) at /home/crotti/sourcecoding/code/gfrbp.jl:165 got unsupported keyword argument \"fact_perm\"\n  onebpiter_slow!(::FactorGraphGF2, ::MS) at /home/crotti/sourcecoding/code/gfrbp.jl:165 got unsupported keyword argument \"fact_perm\"",
     "output_type": "error",
     "traceback": [
      "MethodError: no method matching onebpiter_slow!(::FactorGraphGF2, ::MS, ::OffsetArray{Float64,1,Array{Float64,1}}; fact_perm=[287, 499, 367, 49, 46, 225, 239, 161, 75, 286  …  481, 33, 191, 124, 312, 203, 159, 539, 234, 81])\nClosest candidates are:\n  onebpiter_slow!(::FactorGraphGF2, ::MS, ::Any; perm) at /home/crotti/sourcecoding/code/gfrbp.jl:165 got unsupported keyword argument \"fact_perm\"\n  onebpiter_slow!(::FactorGraphGF2, ::MS) at /home/crotti/sourcecoding/code/gfrbp.jl:165 got unsupported keyword argument \"fact_perm\"",
      "",
      "Stacktrace:",
      " [1] kwerr(::NamedTuple{(:fact_perm,),Tuple{Array{Int64,1}}}, ::Function, ::FactorGraphGF2, ::MS, ::OffsetArray{Float64,1,Array{Float64,1}}) at ./error.jl:157",
      " [2] bp!(::FactorGraphGF2, ::MS, ::Array{Int64,1}, ::BitArray{1}, ::Array{Float64,1}; randseed::Int64, neutral::OffsetArray{Float64,1,Array{Float64,1}}, verbose::Bool, showprogress::Bool, oneiter!::Function, independent::BitArray{1}, basis::SparseMatrixCSC{Int64,Int64}) at /home/crotti/sourcecoding/code/gfrbp.jl:256",
      " [3] #solve!#7410 at /home/crotti/sourcecoding/code/gfrbp.jl:309 [inlined]",
      " [4] ##core#1316(::LossyModelGF2, ::MS, ::Int64, ::typeof(onebpiter_slow!), ::BitArray{1}, ::SparseMatrixCSC{Int64,Int64}) at /home/crotti/.julia/packages/BenchmarkTools/eCEpo/src/execution.jl:371",
      " [5] ##sample#1317(::BenchmarkTools.Parameters) at /home/crotti/.julia/packages/BenchmarkTools/eCEpo/src/execution.jl:377",
      " [6] _run(::BenchmarkTools.Benchmark{Symbol(\"##benchmark#1315\")}, ::BenchmarkTools.Parameters; verbose::Bool, pad::String, kwargs::Base.Iterators.Pairs{Symbol,Integer,NTuple{4,Symbol},NamedTuple{(:samples, :evals, :gctrial, :gcsample),Tuple{Int64,Int64,Bool,Bool}}}) at /home/crotti/.julia/packages/BenchmarkTools/eCEpo/src/execution.jl:405",
      " [7] (::Base.var\"#inner#2\"{Base.Iterators.Pairs{Symbol,Integer,NTuple{5,Symbol},NamedTuple{(:verbose, :samples, :evals, :gctrial, :gcsample),Tuple{Bool,Int64,Int64,Bool,Bool}}},typeof(BenchmarkTools._run),Tuple{BenchmarkTools.Benchmark{Symbol(\"##benchmark#1315\")},BenchmarkTools.Parameters}})() at ./essentials.jl:713",
      " [8] #invokelatest#1 at ./essentials.jl:714 [inlined]",
      " [9] #run_result#37 at /home/crotti/.julia/packages/BenchmarkTools/eCEpo/src/execution.jl:32 [inlined]",
      " [10] run(::BenchmarkTools.Benchmark{Symbol(\"##benchmark#1315\")}, ::BenchmarkTools.Parameters; progressid::Nothing, nleaves::Float64, ndone::Float64, kwargs::Base.Iterators.Pairs{Symbol,Integer,NTuple{5,Symbol},NamedTuple{(:verbose, :samples, :evals, :gctrial, :gcsample),Tuple{Bool,Int64,Int64,Bool,Bool}}}) at /home/crotti/.julia/packages/BenchmarkTools/eCEpo/src/execution.jl:94",
      " [11] #warmup#45 at /home/crotti/.julia/packages/BenchmarkTools/eCEpo/src/execution.jl:141 [inlined]",
      " [12] warmup(::BenchmarkTools.Benchmark{Symbol(\"##benchmark#1315\")}) at /home/crotti/.julia/packages/BenchmarkTools/eCEpo/src/execution.jl:141",
      " [13] top-level scope at /home/crotti/.julia/packages/BenchmarkTools/eCEpo/src/execution.jl:481"
     ]
    }
   ],
   "source": [
    "@btime solve!($lm1, $algo, randseed=$seed, oneiter! = $onebpiter_slow!, independent = $independent, basis= $basis);"
   ]
  },
  {
   "cell_type": "markdown",
   "metadata": {},
   "source": [
    "Fast version:"
   ]
  },
  {
   "cell_type": "code",
   "execution_count": 100,
   "metadata": {},
   "outputs": [
    {
     "name": "stdout",
     "output_type": "stream",
     "text": [
      "  6.096 ms (63471 allocations: 3.08 MiB)\n"
     ]
    }
   ],
   "source": [
    "@btime solve!($lm2, $algo, randseed=$seed, oneiter! = $onebpiter!, independent = $independent, basis= $basis);"
   ]
  },
  {
   "cell_type": "code",
   "execution_count": 75,
   "metadata": {},
   "outputs": [
    {
     "data": {
      "text/plain": [
       "BPResults{MS}\n",
       "  converged: Bool false\n",
       "  parity: Int64 4000\n",
       "  distortion: Float64 0.6035\n",
       "  trials: Int64 1\n",
       "  iterations: Int64 100\n",
       "  maxdiff: Array{Float64}((0,)) Float64[]\n",
       "  codeword: BitArray{1}\n",
       "  maxchange: Array{Float64}((100,)) [2.0000000003835035, 2.0079999998552234, 2.0080070002771517, 2.0100039917439303, 2.0120510881781537, 2.010033062651537, 2.0150702494915143, 2.0191256329619667, 1.0376123159066482, 1.039719860990926  …  0.09469521046434881, 0.07845655866844359, 0.10253490871056936, 0.11001493426124864, 0.0985716222381281, 0.11168469962817518, 0.12159889815134561, 0.09500483960264816, 0.09294032768438454, 0.09511341242353266]\n"
      ]
     },
     "execution_count": 75,
     "metadata": {},
     "output_type": "execute_result"
    }
   ],
   "source": [
    "@time solve!(lm1, algo, randseed=seed, oneiter! = onebpiter!, independent=independent, basis=basis)"
   ]
  },
  {
   "cell_type": "code",
   "execution_count": null,
   "metadata": {},
   "outputs": [],
   "source": []
  }
 ],
 "metadata": {
  "kernelspec": {
   "display_name": "Julia 1.5.3",
   "language": "julia",
   "name": "julia-1.5"
  },
  "language_info": {
   "file_extension": ".jl",
   "mimetype": "application/julia",
   "name": "julia",
   "version": "1.5.3"
  }
 },
 "nbformat": 4,
 "nbformat_minor": 4
}
