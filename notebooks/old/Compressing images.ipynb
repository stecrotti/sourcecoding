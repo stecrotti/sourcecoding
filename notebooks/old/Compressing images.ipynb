{
 "cells": [
  {
   "cell_type": "code",
   "execution_count": 38,
   "metadata": {},
   "outputs": [
    {
     "data": {
      "image/png": "[encoded data removed]",
      "text/plain": [
       "283×260 Array{Gray{N0f8},2} with eltype Gray{Normed{UInt8,8}}:\n",
       " Gray{N0f8}(0.969)  Gray{N0f8}(0.969)  …  Gray{N0f8}(0.969)\n",
       " Gray{N0f8}(0.969)  Gray{N0f8}(0.969)     Gray{N0f8}(0.969)\n",
       " Gray{N0f8}(0.969)  Gray{N0f8}(0.969)     Gray{N0f8}(0.969)\n",
       " Gray{N0f8}(0.969)  Gray{N0f8}(0.969)     Gray{N0f8}(0.969)\n",
       " Gray{N0f8}(0.969)  Gray{N0f8}(0.969)     Gray{N0f8}(0.969)\n",
       " Gray{N0f8}(0.969)  Gray{N0f8}(0.969)  …  Gray{N0f8}(0.969)\n",
       " Gray{N0f8}(0.969)  Gray{N0f8}(0.969)     Gray{N0f8}(0.969)\n",
       " Gray{N0f8}(0.969)  Gray{N0f8}(0.969)     Gray{N0f8}(0.969)\n",
       " Gray{N0f8}(0.969)  Gray{N0f8}(0.969)     Gray{N0f8}(0.969)\n",
       " Gray{N0f8}(0.969)  Gray{N0f8}(0.969)     Gray{N0f8}(0.969)\n",
       " Gray{N0f8}(0.969)  Gray{N0f8}(0.969)  …  Gray{N0f8}(0.969)\n",
       " Gray{N0f8}(0.969)  Gray{N0f8}(0.969)     Gray{N0f8}(0.969)\n",
       " Gray{N0f8}(0.969)  Gray{N0f8}(0.969)     Gray{N0f8}(0.969)\n",
       " ⋮                                     ⋱  \n",
       " Gray{N0f8}(0.969)  Gray{N0f8}(0.969)     Gray{N0f8}(0.969)\n",
       " Gray{N0f8}(0.969)  Gray{N0f8}(0.969)     Gray{N0f8}(0.969)\n",
       " Gray{N0f8}(0.969)  Gray{N0f8}(0.969)     Gray{N0f8}(0.969)\n",
       " Gray{N0f8}(0.969)  Gray{N0f8}(0.969)     Gray{N0f8}(0.969)\n",
       " Gray{N0f8}(0.969)  Gray{N0f8}(0.969)  …  Gray{N0f8}(0.969)\n",
       " Gray{N0f8}(0.969)  Gray{N0f8}(0.969)     Gray{N0f8}(0.969)\n",
       " Gray{N0f8}(0.969)  Gray{N0f8}(0.969)     Gray{N0f8}(0.969)\n",
       " Gray{N0f8}(0.969)  Gray{N0f8}(0.969)     Gray{N0f8}(0.969)\n",
       " Gray{N0f8}(0.969)  Gray{N0f8}(0.969)     Gray{N0f8}(0.969)\n",
       " Gray{N0f8}(0.969)  Gray{N0f8}(0.969)  …  Gray{N0f8}(0.969)\n",
       " Gray{N0f8}(0.969)  Gray{N0f8}(0.969)     Gray{N0f8}(0.969)\n",
       " Gray{N0f8}(0.969)  Gray{N0f8}(0.969)     Gray{N0f8}(0.969)"
      ]
     },
     "metadata": {},
     "output_type": "display_data"
    }
   ],
   "source": [
    "using ImageMagick, Images, ImageTransformations\n",
    "im = Gray.(imresize(load(\"albert.png\"), ratio=0.302))\n",
    "img = Int.(round.(im))\n",
    "display(imresize(im, ratio=1))"
   ]
  },
  {
   "cell_type": "code",
   "execution_count": 39,
   "metadata": {},
   "outputs": [
    {
     "data": {
      "text/plain": [
       "73580"
      ]
     },
     "execution_count": 39,
     "metadata": {},
     "output_type": "execute_result"
    }
   ],
   "source": [
    "y = vcat(img...)\n",
    "length(y)"
   ]
  },
  {
   "cell_type": "code",
   "execution_count": 57,
   "metadata": {},
   "outputs": [
    {
     "data": {
      "text/plain": [
       "4-element Array{LossyModelGF2,1}:\n",
       " #undef\n",
       " #undef\n",
       " #undef\n",
       " #undef"
      ]
     },
     "execution_count": 57,
     "metadata": {},
     "output_type": "execute_result"
    }
   ],
   "source": [
    "include(\"../../code/headers.jl\")\n",
    "q = 2\n",
    "n = length(y)\n",
    "R = reverse(0.2:0.2:0.8)\n",
    "nrates = length(R)\n",
    "m = Int.(round.(n*(1 .- R)))\n",
    "seed = 234\n",
    "algo = OptimalCycle()\n",
    "algo = MS(maxiter=1000, gamma=1e-3, sigma=1e-10, Tmax=1)\n",
    "compressed = [zeros(Int,n) for r in R]\n",
    "\n",
    "nchunks = 4\n",
    "@assert mod(n, nchunks)==0\n",
    "@assert all([mod(mm, nchunks)==0 for mm in m])\n",
    "chunk_length = div(n, nchunks)\n",
    "\n",
    "lms = Vector{LossyModelGF2}(undef, nchunks)"
   ]
  },
  {
   "cell_type": "code",
   "execution_count": 59,
   "metadata": {},
   "outputs": [
    {
     "name": "stdout",
     "output_type": "stream",
     "text": [
      "-- Rate 1 of 4: \n",
      "--- Chunk 1 of 4\n"
     ]
    },
    {
     "name": "stderr",
     "output_type": "stream",
     "text": [
      "\u001b[32mTrial 1/1 100%|█████████████████████████████████████████| Time: 0:00:01\u001b[39m\n"
     ]
    },
    {
     "name": "stdout",
     "output_type": "stream",
     "text": [
      "--- Chunk 2 of 4\n"
     ]
    },
    {
     "name": "stderr",
     "output_type": "stream",
     "text": [
      "\u001b[32mTrial 1/1 100%|█████████████████████████████████████████| Time: 0:00:01\u001b[39m\n"
     ]
    },
    {
     "name": "stdout",
     "output_type": "stream",
     "text": [
      "--- Chunk 3 of 4\n"
     ]
    },
    {
     "name": "stderr",
     "output_type": "stream",
     "text": [
      "\u001b[32mTrial 1/1 100%|█████████████████████████████████████████| Time: 0:00:01\u001b[39m\n"
     ]
    },
    {
     "name": "stdout",
     "output_type": "stream",
     "text": [
      "--- Chunk 4 of 4\n"
     ]
    },
    {
     "name": "stderr",
     "output_type": "stream",
     "text": [
      "\u001b[32mTrial 1/1 100%|█████████████████████████████████████████| Time: 0:00:01\u001b[39m\n"
     ]
    },
    {
     "name": "stdout",
     "output_type": "stream",
     "text": [
      "-- Rate 2 of 4: \n",
      "--- Chunk 1 of 4\n"
     ]
    },
    {
     "name": "stderr",
     "output_type": "stream",
     "text": [
      "\u001b[32mTrial 1/1 100%|█████████████████████████████████████████| Time: 0:00:02\u001b[39m\n"
     ]
    },
    {
     "name": "stdout",
     "output_type": "stream",
     "text": [
      "--- Chunk 2 of 4\n"
     ]
    },
    {
     "name": "stderr",
     "output_type": "stream",
     "text": [
      "\u001b[32mTrial 1/1 100%|█████████████████████████████████████████| Time: 0:00:02\u001b[39m\n"
     ]
    },
    {
     "name": "stdout",
     "output_type": "stream",
     "text": [
      "--- Chunk 3 of 4\n"
     ]
    },
    {
     "name": "stderr",
     "output_type": "stream",
     "text": [
      "\u001b[32mTrial 1/1 100%|█████████████████████████████████████████| Time: 0:00:02\u001b[39m\n"
     ]
    },
    {
     "name": "stdout",
     "output_type": "stream",
     "text": [
      "--- Chunk 4 of 4\n"
     ]
    },
    {
     "name": "stderr",
     "output_type": "stream",
     "text": [
      "\u001b[32mTrial 1/1 100%|█████████████████████████████████████████| Time: 0:00:02\u001b[39m\n"
     ]
    },
    {
     "name": "stdout",
     "output_type": "stream",
     "text": [
      "-- Rate 3 of 4: \n",
      "--- Chunk 1 of 4\n",
      "\n",
      "--- Chunk 2 of 4\n",
      "\n",
      "--- Chunk 3 of 4\n"
     ]
    },
    {
     "name": "stderr",
     "output_type": "stream",
     "text": [
      "\u001b[32mTrial 1/1 100%|█████████████████████████████████████████| Time: 0:00:02\u001b[39m\n"
     ]
    },
    {
     "name": "stdout",
     "output_type": "stream",
     "text": [
      "--- Chunk 4 of 4\n",
      "\n",
      "-- Rate 4 of 4: \n",
      "--- Chunk 1 of 4\n"
     ]
    },
    {
     "name": "stderr",
     "output_type": "stream",
     "text": [
      "\u001b[32mTrial 1/1 100%|█████████████████████████████████████████| Time: 0:00:03\u001b[39m\n"
     ]
    },
    {
     "name": "stdout",
     "output_type": "stream",
     "text": [
      "--- Chunk 2 of 4\n"
     ]
    },
    {
     "name": "stderr",
     "output_type": "stream",
     "text": [
      "\u001b[32mTrial 1/1 100%|█████████████████████████████████████████| Time: 0:00:03\u001b[39m\n"
     ]
    },
    {
     "name": "stdout",
     "output_type": "stream",
     "text": [
      "--- Chunk 3 of 4\n"
     ]
    },
    {
     "name": "stderr",
     "output_type": "stream",
     "text": [
      "\u001b[32mTrial 1/1 100%|█████████████████████████████████████████| Time: 0:00:04\u001b[39m\n"
     ]
    },
    {
     "name": "stdout",
     "output_type": "stream",
     "text": [
      "--- Chunk 4 of 4\n",
      "\n"
     ]
    }
   ],
   "source": [
    "# for j in 1:nrates\n",
    "#     println(\"-- Rate $j of $nrates: \")\n",
    "#     lm = LossyModel(Val(q), n, m[j], y=y)\n",
    "#     res = solve!(lm, algo, randseed=seed, verbose=true, showprogress=true)\n",
    "#     compressed[j] = lm.x\n",
    "# end\n",
    "\n",
    "for j in 1:nrates\n",
    "    println(\"-- Rate $j of $nrates: \")\n",
    "    for c in 1:nchunks\n",
    "        println(\"--- Chunk $c of $nchunks\")\n",
    "        lms[c] = LossyModel(Val(q), chunk_length, div(m[j], nchunks), y=y[(c-1)*chunk_length+1:c*chunk_length])\n",
    "        res = solve!(lms[c], algo, randseed=seed, verbose=true, showprogress=true)\n",
    "        compressed[j][(c-1)*chunk_length+1:c*chunk_length] = lms[c].x\n",
    "    end\n",
    "end"
   ]
  },
  {
   "cell_type": "code",
   "execution_count": 60,
   "metadata": {},
   "outputs": [
    {
     "data": {
      "image/png": "[encoded data removed]",
      "text/plain": [
       "283×1300 Array{Gray{N0f8},2} with eltype Gray{Normed{UInt8,8}}:\n",
       " Gray{N0f8}(1.0)  Gray{N0f8}(1.0)  …  Gray{N0f8}(1.0)  Gray{N0f8}(1.0)\n",
       " Gray{N0f8}(1.0)  Gray{N0f8}(1.0)     Gray{N0f8}(1.0)  Gray{N0f8}(1.0)\n",
       " Gray{N0f8}(1.0)  Gray{N0f8}(1.0)     Gray{N0f8}(1.0)  Gray{N0f8}(1.0)\n",
       " Gray{N0f8}(1.0)  Gray{N0f8}(1.0)     Gray{N0f8}(1.0)  Gray{N0f8}(1.0)\n",
       " Gray{N0f8}(1.0)  Gray{N0f8}(1.0)     Gray{N0f8}(1.0)  Gray{N0f8}(0.0)\n",
       " Gray{N0f8}(1.0)  Gray{N0f8}(1.0)  …  Gray{N0f8}(1.0)  Gray{N0f8}(0.0)\n",
       " Gray{N0f8}(1.0)  Gray{N0f8}(1.0)     Gray{N0f8}(1.0)  Gray{N0f8}(0.0)\n",
       " Gray{N0f8}(1.0)  Gray{N0f8}(1.0)     Gray{N0f8}(1.0)  Gray{N0f8}(1.0)\n",
       " Gray{N0f8}(1.0)  Gray{N0f8}(1.0)     Gray{N0f8}(1.0)  Gray{N0f8}(1.0)\n",
       " Gray{N0f8}(1.0)  Gray{N0f8}(1.0)     Gray{N0f8}(1.0)  Gray{N0f8}(1.0)\n",
       " Gray{N0f8}(1.0)  Gray{N0f8}(1.0)  …  Gray{N0f8}(1.0)  Gray{N0f8}(1.0)\n",
       " Gray{N0f8}(1.0)  Gray{N0f8}(1.0)     Gray{N0f8}(1.0)  Gray{N0f8}(1.0)\n",
       " Gray{N0f8}(1.0)  Gray{N0f8}(1.0)     Gray{N0f8}(1.0)  Gray{N0f8}(1.0)\n",
       " ⋮                                 ⋱                   \n",
       " Gray{N0f8}(1.0)  Gray{N0f8}(1.0)     Gray{N0f8}(1.0)  Gray{N0f8}(1.0)\n",
       " Gray{N0f8}(1.0)  Gray{N0f8}(1.0)     Gray{N0f8}(1.0)  Gray{N0f8}(1.0)\n",
       " Gray{N0f8}(1.0)  Gray{N0f8}(1.0)     Gray{N0f8}(1.0)  Gray{N0f8}(1.0)\n",
       " Gray{N0f8}(1.0)  Gray{N0f8}(1.0)     Gray{N0f8}(1.0)  Gray{N0f8}(1.0)\n",
       " Gray{N0f8}(1.0)  Gray{N0f8}(1.0)  …  Gray{N0f8}(0.0)  Gray{N0f8}(1.0)\n",
       " Gray{N0f8}(1.0)  Gray{N0f8}(1.0)     Gray{N0f8}(1.0)  Gray{N0f8}(1.0)\n",
       " Gray{N0f8}(1.0)  Gray{N0f8}(1.0)     Gray{N0f8}(1.0)  Gray{N0f8}(1.0)\n",
       " Gray{N0f8}(1.0)  Gray{N0f8}(1.0)     Gray{N0f8}(1.0)  Gray{N0f8}(1.0)\n",
       " Gray{N0f8}(1.0)  Gray{N0f8}(1.0)     Gray{N0f8}(0.0)  Gray{N0f8}(0.0)\n",
       " Gray{N0f8}(1.0)  Gray{N0f8}(1.0)  …  Gray{N0f8}(1.0)  Gray{N0f8}(1.0)\n",
       " Gray{N0f8}(1.0)  Gray{N0f8}(1.0)     Gray{N0f8}(1.0)  Gray{N0f8}(1.0)\n",
       " Gray{N0f8}(1.0)  Gray{N0f8}(1.0)     Gray{N0f8}(1.0)  Gray{N0f8}(1.0)"
      ]
     },
     "execution_count": 60,
     "metadata": {},
     "output_type": "execute_result"
    }
   ],
   "source": [
    "compressed_imgs = [reshape(x, size(im)) for x in compressed]\n",
    "alberts = imresize(Gray.(hcat(img, compressed_imgs...)), ratio=1)"
   ]
  },
  {
   "cell_type": "code",
   "execution_count": 61,
   "metadata": {},
   "outputs": [
    {
     "data": {
      "text/plain": [
       "0"
      ]
     },
     "execution_count": 61,
     "metadata": {},
     "output_type": "execute_result"
    }
   ],
   "source": [
    "using FileIO\n",
    "save(\"alberts.png\", alberts)"
   ]
  }
 ],
 "metadata": {
  "kernelspec": {
   "display_name": "Julia 1.5.3",
   "language": "julia",
   "name": "julia-1.5"
  },
  "language_info": {
   "file_extension": ".jl",
   "mimetype": "application/julia",
   "name": "julia",
   "version": "1.5.3"
  }
 },
 "nbformat": 4,
 "nbformat_minor": 4
}
