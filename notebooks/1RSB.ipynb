{
 "cells": [
  {
   "cell_type": "markdown",
   "metadata": {},
   "source": [
    "1RSB\n",
    "===\n",
    "\n",
    "\\begin{align*}\n",
    "p\\left(u\\right)  &= \\sum_{h_{1},\\dots,h_{k}}\\delta\\left(u;\\min_{j=1,\\dots,k}\\left|h_{j}\\right|\\prod_{j=1}^{k}\\text{sign}\\left(h_{j}\\right)\\right)\\prod_{j=1}^{k}q_j\\left(h_{j}\\right)e^{y C_{ai}}\\\\\n",
    "q(h) &= \\sum_{u_1,\\dots,u_d} \\prod_{b=1,\\dots,d} p_b(u_b) \\delta\\left(h-s-\\sum_{b=1,\\dots,d}u_b\\right)e^{y C_{ia}}\\\\\n",
    "\\end{align*}\n",
    "\n",
    "where\n",
    "\\begin{align*}\n",
    "C_{ai} &= 0\\\\% -2\\min_{j=1,\\dots,k}|h_{j}|\\Theta\\left(-\\prod_{j=1}^kh_{j}\\right)\\\\\n",
    "C_{ia} &=\\left|s + \\sum_{b=1}^d u_b\\right| - \\sum_{b=1}^d|u_b| = |h| - \\sum_{b=1}^d|u_b|\n",
    "\\end{align*}\n",
    "\n"
   ]
  },
  {
   "cell_type": "code",
   "execution_count": 1,
   "metadata": {},
   "outputs": [
    {
     "data": {
      "text/plain": [
       "sum (generic function with 14 methods)"
      ]
     },
     "execution_count": 1,
     "metadata": {},
     "output_type": "execute_result"
    }
   ],
   "source": [
    "using OffsetArrays\n",
    "\n",
    "const ∏ = prod\n",
    "const ∑ = sum"
   ]
  },
  {
   "cell_type": "code",
   "execution_count": 2,
   "metadata": {},
   "outputs": [
    {
     "data": {
      "text/plain": [
       "iter_slow_var (generic function with 2 methods)"
      ]
     },
     "execution_count": 2,
     "metadata": {},
     "output_type": "execute_result"
    }
   ],
   "source": [
    "function iter_slow_factor(Q, J, y=0.0)\n",
    "    k = length(Q)\n",
    "    p = fill(0.0, -J:J)\n",
    "    for hs in Iterators.product(fill(-J:J,k)...)\n",
    "        w = ∏(q[h] for (q,h) ∈ zip(Q,hs))\n",
    "        u = minimum(abs.(hs))*sign(∏(hs))\n",
    "        p[clamp(u, -J, J)] += w\n",
    "    end\n",
    "    p ./= sum(p)\n",
    "end\n",
    "\n",
    "function iter_slow_var(P, s, J, y=0.0) \n",
    "    q = fill(0.0, -J:J)\n",
    "    for us in Iterators.product(fill(-J:J, length(P))...)\n",
    "        h = sum(us) + s\n",
    "        Cia = abs(h) - sum(abs.(us)) \n",
    "        w = ∏(p[u] for (p,u) ∈ zip(P,us)) * exp(y*Cia)\n",
    "        q[clamp(h, -J, J)] += w \n",
    "    end\n",
    "    q ./= sum(q)\n",
    "end"
   ]
  },
  {
   "cell_type": "markdown",
   "metadata": {},
   "source": [
    "Simplifications\n",
    "--\n",
    "\n",
    "(not needed $C_{ai}=0$) -> {$C_{ai}$ can be simplified: \n",
    "\n",
    "\\begin{align}\n",
    "C_{ai} &= -2\\min_{j\\in\\partial a\\setminus i}|h_{ja}|\\Theta\\left(-u_{ai}\\right)\\\\\n",
    "&= -2|u_{ai}|\\Theta(-u_{ai})\\\\\n",
    "&= u_{ai}-|u_{ai}|\n",
    "\\end{align}\n",
    "\n",
    "So}"
   ]
  },
  {
   "cell_type": "markdown",
   "metadata": {},
   "source": [
    "\\begin{align*}\n",
    "p\\left(u\\right)= & \\sum_{h_{1},\\dots,h_{k}}\\delta\\left(u;\\min_{j=1,\\dots,k}\\left|h_{j}\\right|\\prod_{j=1}^{k}\\text{sign}\\left(h_{j}\\right)\\right)\\prod_{j=1}^{k}q_j\\left(h_{j}\\right)\\\\%e^{-y 2 u \\Theta(-u)}\\\\\n",
    "\\end{align*}"
   ]
  },
  {
   "cell_type": "markdown",
   "metadata": {},
   "source": [
    "To compute $p$, define\n",
    "\n",
    "\\begin{align*}\n",
    "a_k(u) &= \\mathbb{P}\\left\\{\\left(\\textrm{sign}\\left(\\prod_{i=1}^k h_i\\right)=\\textrm{sign}(u) \\right)\\wedge \\left(|h_1|,\\dots,|h_k| \\ge |u|\\right)\\right\\}\\\\\n",
    "\\end{align*}\n",
    "\n",
    "$a_k$ satisfies the recursion\n",
    "\n",
    "\\begin{align*}\n",
    "a_0(u) &= \\delta(\\textrm{sign}(u)-1)\\\\\n",
    "a_k(u) &= a_{k-1}(u) \\sum_{h_k\\geq |u|}q_k(h_k) + a_{k-1}(-u) \\sum_{h_k \\leq -|h|} q_k(h_k)\\\\\n",
    "\\end{align*}\n",
    "\n",
    "Then we finally have\n",
    "\n",
    "$$p_k(u) = \\cases{(a_k(u)-a_k(u+\\textrm{sign}(u))) & for $u\\neq0$\\\\\n",
    "           1-\\prod_{j=1}^k(1-q_j(0)) & for $u=0$}$$\n"
   ]
  },
  {
   "cell_type": "code",
   "execution_count": 3,
   "metadata": {},
   "outputs": [
    {
     "data": {
      "text/plain": [
       "iter_factor (generic function with 2 methods)"
      ]
     },
     "execution_count": 3,
     "metadata": {},
     "output_type": "execute_result"
    }
   ],
   "source": [
    "function iter_factor(Q, J, y=0)\n",
    "    a = fill(0.0, -J-1:J+1)\n",
    "    a[0:J] .= 1\n",
    "    for q ∈ Q\n",
    "        Σp, Σm = 0.0, 0.0\n",
    "        for h=J:-1:1\n",
    "            ap, am = a[h], a[-h]\n",
    "            Σp += q[h]; Σm += q[-h]\n",
    "            a[+h] = ap*Σp + am*Σm\n",
    "            a[-h] = am*Σp + ap*Σm\n",
    "        end\n",
    "        a[0] *= 1-q[0]\n",
    "    end\n",
    "    \n",
    "    p = fill(0.0, -J:J)\n",
    "    for u = 1:J\n",
    "        p[+u] = a[+u] - a[+u+1]\n",
    "        p[-u] = a[-u] - a[-u-1]\n",
    "    end\n",
    "    p[0] = 1-a[0]\n",
    "    p ./= sum(p)\n",
    "end\n"
   ]
  },
  {
   "cell_type": "markdown",
   "metadata": {},
   "source": [
    "Comparison\n",
    "--"
   ]
  },
  {
   "cell_type": "code",
   "execution_count": 4,
   "metadata": {},
   "outputs": [
    {
     "data": {
      "text/plain": [
       "21×2 Array{Float64,2}:\n",
       " 0.05798     0.05798\n",
       " 0.00980312  0.00980312\n",
       " 0.00202876  0.00202876\n",
       " 0.0466536   0.0466536\n",
       " 0.0487358   0.0487358\n",
       " 0.0816751   0.0816751\n",
       " 0.00929546  0.00929546\n",
       " 0.0537315   0.0537315\n",
       " 0.088983    0.088983\n",
       " 0.0426416   0.0426416\n",
       " 0.0171973   0.0171973\n",
       " 0.0751703   0.0751703\n",
       " 0.0835248   0.0835248\n",
       " 0.0936016   0.0936016\n",
       " 0.0337495   0.0337495\n",
       " 0.0715908   0.0715908\n",
       " 0.0533916   0.0533916\n",
       " 0.0876417   0.0876417\n",
       " 0.0115408   0.0115408\n",
       " 0.015884    0.015884\n",
       " 0.0151798   0.0151798"
      ]
     },
     "execution_count": 4,
     "metadata": {},
     "output_type": "execute_result"
    }
   ],
   "source": [
    "J=10\n",
    "y=0.1\n",
    "Q=[(p=fill(0.0,-J:J); p[-J:J] .= rand(2J+1); p ./=sum(p)) for i=1:1]\n",
    "[iter_factor(Q,J,y) iter_slow_factor(Q,J,y)]"
   ]
  },
  {
   "cell_type": "markdown",
   "metadata": {},
   "source": [
    "The expression for $C_{ia}$ is"
   ]
  },
  {
   "cell_type": "markdown",
   "metadata": {},
   "source": [
    "\\begin{align*}\n",
    "    C_{ia} &=\\left|s + \\sum_{b=1}^d u_b\\right| - \\sum_{b=1}^d|u_b|\n",
    "\\end{align*}\n",
    "and\n",
    "\n",
    "\\begin{align*}\n",
    "q(h) &= \\sum_{u_1,\\dots,u_d} \\prod_{b=1,\\dots,d} p_b(u_b) \\delta\\left(h-s-\\sum_{b=1}^du_b\\right)e^{y C_{ia}}\\\\\n",
    "&= e^{y |h|}\\sum_{u_1,\\dots,u_d} \\prod_{b=1,\\dots,d} p_b(u_b)e^{-y|u_b|} \\delta\\left(h-s-\\sum_{b=1}^du_b\\right)\\\\\n",
    "\\end{align*}\n",
    "\n",
    "\n",
    "To compute $q_d$, note that"
   ]
  },
  {
   "cell_type": "markdown",
   "metadata": {},
   "source": [
    "\\begin{align}\n",
    "q(h) &= q_d(h)e^{y|h|}\n",
    "\\end{align}\n",
    "\n",
    "where $q_d$ satisfies\n",
    "\\begin{align}\n",
    "q_0(h) & = \\delta(h-s)\\\\\n",
    "q_d(h) & = \\sum_{u} q_{d-1}(h-u) p_d(u)e^{-y|u|} \n",
    "\\end{align}"
   ]
  },
  {
   "cell_type": "code",
   "execution_count": 5,
   "metadata": {},
   "outputs": [
    {
     "data": {
      "text/plain": [
       "iter_var (generic function with 2 methods)"
      ]
     },
     "execution_count": 5,
     "metadata": {},
     "output_type": "execute_result"
    }
   ],
   "source": [
    "function ⊛(p1, p2)\n",
    "    q = fill(0.0,firstindex(p1)+firstindex(p2):lastindex(p1)+lastindex(p2))\n",
    "    for u1 in eachindex(p1), u2 in eachindex(p2)\n",
    "        q[u1+u2] += p1[u1]*p2[u2]\n",
    "    end\n",
    "    q\n",
    "end\n",
    "\n",
    "function iter_var(P, s, J, y=0)\n",
    "    q = fill(1.0, s:s)\n",
    "    for p ∈ P\n",
    "        q = q ⊛ (p .* exp.(-y .* abs.(eachindex(p))))\n",
    "    end\n",
    "    q .*= exp.(y .* abs.(eachindex(q)))\n",
    "    qnew = fill(0.0, -J:J)\n",
    "    for h in eachindex(q)\n",
    "        qnew[clamp(h,-J,J)] += q[h]\n",
    "    end\n",
    "    qnew ./= sum(qnew)\n",
    "end"
   ]
  },
  {
   "cell_type": "markdown",
   "metadata": {},
   "source": [
    "Comparison\n",
    "--"
   ]
  },
  {
   "cell_type": "code",
   "execution_count": 6,
   "metadata": {},
   "outputs": [
    {
     "data": {
      "text/plain": [
       "27×2 Array{Float64,2}:\n",
       " 0.0862894    0.0862894\n",
       " 0.00414388   0.00414388\n",
       " 0.00360311   0.00360311\n",
       " 0.00323086   0.00323086\n",
       " 0.00278224   0.00278224\n",
       " 0.00214639   0.00214639\n",
       " 0.00162998   0.00162998\n",
       " 0.00122897   0.00122897\n",
       " 0.000979949  0.000979949\n",
       " 0.00081929   0.00081929\n",
       " 0.000589318  0.000589318\n",
       " 0.000337985  0.000337985\n",
       " 0.000143272  0.000143272\n",
       " ⋮            \n",
       " 0.000301125  0.000301125\n",
       " 0.000734774  0.000734774\n",
       " 0.0014851    0.0014851\n",
       " 0.00293419   0.00293419\n",
       " 0.00478464   0.00478464\n",
       " 0.00717932   0.00717932\n",
       " 0.00936764   0.00936764\n",
       " 0.0123115    0.0123115\n",
       " 0.0155457    0.0155457\n",
       " 0.0193924    0.0193924\n",
       " 0.0248399    0.0248399\n",
       " 0.793025     0.793025"
      ]
     },
     "execution_count": 6,
     "metadata": {},
     "output_type": "execute_result"
    }
   ],
   "source": [
    "J=13\n",
    "y=1.0\n",
    "s=1\n",
    "P=[(p=fill(0.0, -J:J); p[-J:J] .= rand(2J+1); p ./=sum(p)) for i=1:3]\n",
    "[iter_var(P,s,J,y) iter_slow_var(P,s,J,y)]"
   ]
  },
  {
   "cell_type": "code",
   "execution_count": 7,
   "metadata": {},
   "outputs": [
    {
     "data": {
      "text/plain": [
       "RSB (generic function with 1 method)"
      ]
     },
     "execution_count": 7,
     "metadata": {},
     "output_type": "execute_result"
    }
   ],
   "source": [
    "using StatsBase, ProgressMeter\n",
    "\n",
    "uni(J) = fill(1/(2J+1), -J:J)\n",
    "residual(x) = (p=OffsetVector((x .* eachindex(x))[1:end], 0:lastindex(x)-1); p./=sum(p))\n",
    "\n",
    "function moments(popP)\n",
    "    M = 0.0; V = 0.0\n",
    "    for t =1:length(popP)\n",
    "        m1 = sum(i*popP[t][i] for i in eachindex(popP[t]))\n",
    "        m2 = sum(i^2*popP[t][i] for i in eachindex(popP[t]))\n",
    "        M += m1/length(popP); \n",
    "        V +=(m2-m1^2)/length(popP) #V=0 if solution RS, V>0 otherwise\n",
    "    end\n",
    "    M, V\n",
    "end\n",
    "\n",
    "function RSB(Λ, K; \n",
    "        J=10, \n",
    "        maxiter=100, \n",
    "        popsize=1000, \n",
    "        popP = [uni(J) for i=1:popsize], \n",
    "        popQ = [uni(J) for i=1:popsize], \n",
    "        y=0)\n",
    "    Λ1 = residual(Λ)\n",
    "    K1 = residual(K)\n",
    "    wΛ1 = weights(Λ1)\n",
    "    wK1 = weights(K1)\n",
    "\n",
    "    @showprogress for t = 1:maxiter\n",
    "        for i = eachindex(popQ)\n",
    "            d = sample(eachindex(Λ1), wΛ1)\n",
    "            k = sample(eachindex(K1), wK1)\n",
    "            Q = rand(popQ, k)\n",
    "            P = rand(popP, d)\n",
    "            s = rand((-1,1))\n",
    "            popQ[i] = iter_var(P, s, J, y)\n",
    "            popP[i] = iter_factor(Q, J, y)\n",
    "        end\n",
    "    end\n",
    "    popP, popQ\n",
    "end"
   ]
  },
  {
   "cell_type": "code",
   "execution_count": 8,
   "metadata": {
    "scrolled": true
   },
   "outputs": [],
   "source": [
    "Λ = OffsetVector([0,0,0.5,0.5], 0:3)\n",
    "K = OffsetVector([0,0,0,1], 0:3)\n",
    "\n",
    "\n",
    "J=10\n",
    "popsize=10000\n",
    "popQ = [OffsetVector(ones(2J+1)/(2J+1),-J:J) for i=1:popsize];\n",
    "popP = [OffsetVector(ones(2J+1)/(2J+1),-J:J) for i=1:popsize];"
   ]
  },
  {
   "cell_type": "code",
   "execution_count": 9,
   "metadata": {
    "scrolled": true
   },
   "outputs": [
    {
     "name": "stderr",
     "output_type": "stream",
     "text": [
      "\u001b[32mProgress: 100%|█████████████████████████████████████████| Time: 0:00:05\u001b[39m\n"
     ]
    }
   ],
   "source": [
    "popP, popQ = RSB(Λ,K; J=J, maxiter=100, popsize=popsize, popQ=popQ, popP=popP, y=5.0);"
   ]
  },
  {
   "cell_type": "code",
   "execution_count": 10,
   "metadata": {},
   "outputs": [
    {
     "data": {
      "text/plain": [
       "21-element Array{Float64,1}:\n",
       " 0.44570000000000004\n",
       " 0.059300000000000005\n",
       " 0.0035\n",
       " 0.0\n",
       " 0.0\n",
       " 0.0\n",
       " 0.0\n",
       " 0.0\n",
       " 0.0\n",
       " 0.0\n",
       " 0.0\n",
       " 0.0\n",
       " 0.0\n",
       " 0.0\n",
       " 0.0\n",
       " 0.0\n",
       " 0.0\n",
       " 0.0\n",
       " 0.0026000000000000003\n",
       " 0.058600000000000006\n",
       " 0.4303"
      ]
     },
     "execution_count": 10,
     "metadata": {},
     "output_type": "execute_result"
    }
   ],
   "source": [
    "using StatsBase\n",
    "\n",
    "proportions(argmax.(popP))"
   ]
  },
  {
   "cell_type": "code",
   "execution_count": 11,
   "metadata": {},
   "outputs": [
    {
     "data": {
      "text/plain": [
       "(-0.14406464972997673, 16.772719323219082)"
      ]
     },
     "execution_count": 11,
     "metadata": {},
     "output_type": "execute_result"
    }
   ],
   "source": [
    "M, V = moments(popP)"
   ]
  },
  {
   "cell_type": "markdown",
   "metadata": {},
   "source": [
    "1RSB equations for Max-Sum (Survey Propagation) at finite parameter $y$\n",
    "---\n",
    "We consider the auxiliary statistical physics model\n",
    "\\begin{align}\n",
    "    \\mathbb{P}_y(\\{u_{ai},h_{ia}\\})=\\frac{1}{\\Theta(y)}\\mathbb{I}\\left(\\{u_{ai},h_{ia}\\}\\text{sat Max-Sum}\\right)e^{-yF(\\{u_{ai},h_{ia}\\})}\n",
    "\\end{align}\n",
    "in which the variables are the Max-Sum messages living on the edges, and the constraints (that can be put in a factorized form) enforces the Max-Sum equations to be satisfied. Each Max-Sum solution represents a cluster. The Max-Sum solutions are weighted according to their Bethe free energy, which corresponds to the minimal energy (inside the cluster). In the $y\\to\\infty$ limit one keeps only the clusters with minimal energy\n",
    "\n",
    "* The distributions $Q_{ia}(h_{ia})$, $P_{ai}(u_{ai})$ over Max-Sum messages obey the SP(y) equations :\n",
    "\\begin{align}\n",
    "    Q_{ia}(h_{ia})&=\\frac{1}{Z_{ia}}\\sum_{\\{u_{bi}\\}_{b\\in\\partial i\\setminus a}}\\delta(h_{ia}-f^{MS}_{ia}(\\{u_{bi}\\}_{b\\in\\partial i\\setminus a}; s_i))e^{-yC_{ia}}\\prod_{b\\in\\partial i\\setminus a}P_{bi}(u_{bi}) \\\\\n",
    "    P_{ai}(u_{ai})&=\\frac{1}{Z_{ai}}\\sum_{\\{h_{ja}\\}_{j\\in\\partial a\\setminus i}}\\delta(u_{ai}-f^{MS}_{ai}(\\{h_{ja}\\}_{j\\in\\partial a\\setminus i}))e^{-yC_{ai}}\\prod_{j\\in\\partial a\\setminus i}Q_{ja}(h_{ja})    \n",
    "\\end{align}\n",
    "where $h_{ia}-f^{MS}_{ia}(\\{u_{bi}\\}_{b\\in\\partial i\\setminus a}; s_i)$, and $u_{ai}-f^{MS}_{ai}(\\{h_{ja}\\}_{j\\in\\partial a\\setminus i})$ are shorthand notation for the Max-Sum equations\n",
    "\\begin{align}\n",
    "    h_{ia}(\\sigma_i)&=s_i\\sigma_i+ \\sum_{b\\in\\partial i\\setminus a}u_{bi}(\\sigma_i) - C_{ia}\\\\\n",
    "    u_{ai}(\\sigma_i)&=\\max_{\\{\\sigma_j\\}_{j\\in\\partial a\\setminus i}:{\\rm sat}}\\left(\\sum_{j\\in\\partial a\\setminus i}h_{ja}(\\sigma_j)\\right) - C_{ai}\n",
    "\\end{align}\n",
    "and $C_{ia}$, $C_{ai}$ are the constants in the Max-Sum equations\n",
    "\\begin{align}\n",
    "    C_{ia}&=\\max_{\\sigma_i}\\left(s_i\\sigma_i+ \\sum_{b\\in\\partial i\\setminus a}u_{bi}(\\sigma_i)\\right)\\\\\n",
    "    C_{ai}&=\\max_{\\{\\sigma_i\\}_{i\\in\\partial a}:{\\rm sat}}\\left(\\sum_{j\\in\\partial a\\setminus i}h_{ja}(\\sigma_j)\\right)\n",
    "\\end{align}\n",
    "the constants $Z_{ia}$, $Z_{ai}$ are normalizations of the distributions $Q_{ia}$, $Q_{ai}$ over the Max-Sum messages\n",
    "\n",
    "* With the parametrization $u_{ai}(\\sigma_i) = u_{ai}\\sigma_i+u_{0,ai}$ and $h_{ia}(\\sigma_i) = h_{ia}\\sigma_i + h_{0,ia}$ we get :\n",
    "\\begin{equation}\n",
    "    u_{0,ai} = -\\frac{1}{\\beta}\\log(2{\\rm cosh}(\\beta u_{ai})\\to-|u_{ai}|\n",
    "\\end{equation}\n",
    "(and the same for $h_{0,ia}$). Therefore :\n",
    "\\begin{align*}\n",
    "    C_{ia}&=\\max_{\\sigma_i}\\left(\\sigma_i\\left(s_i+ \\sum_{b\\in\\partial i\\setminus a}u_{bi}\\right)\\right) + \\sum_{b\\in\\partial i\\setminus a}u_{0,bi}\\\\\n",
    "    &=\\left|s_i+ \\sum_{b\\in\\partial i\\setminus a}u_{bi}\\right| - \\sum_{b\\in\\partial i\\setminus a}|u_{bi}|\\\\\n",
    "&=|h_{ia}|- \\sum_{b\\in\\partial i\\setminus a}|u_{bi}|\\\\\n",
    "\\end{align*}\n",
    "\n",
    "and\n",
    "\\begin{align*}\n",
    "    C_{ai}&=\\max_{\\{\\sigma_i\\}_{i\\in\\partial a}:{\\rm sat}}\\left(\\sum_{j\\in\\partial a\\setminus i}h_{ja}\\sigma_j\\right)-\\sum_{j\\in\\partial a\\setminus i}|h_{ja}|\\\\\n",
    "% &= -2\\min_{j\\in\\partial a\\setminus i}|h_{ja}|\\Theta\\left(-\\prod_{j\\in\\partial a\\setminus j}h_{ja}\\right)\n",
    "&=0\n",
    "\\end{align*}"
   ]
  },
  {
   "cell_type": "markdown",
   "metadata": {},
   "source": [
    "* We can then write the same 1RSB equations for the distributions $Q_{ia}(h_{ia})$, $P_{ai}(u_{ai})$ over the integer parameters $h_{ia}$, $u_{ai}$:\n",
    "\\begin{align}\n",
    "    P(u)&=\\frac{1}{Z_P(y)}\\sum_{h_1,\\dots h_k}\\delta\\left(u-\\min_{j=1\\dots,k}|h_j|\\prod_j{\\rm sgn}(h_j)\\right)e^{-yC_{ai}(h_1,\\dots,h_k)}\\prod_j Q_j(h_j) \\\\\n",
    "    Q(h)&=\\frac{1}{Z_Q(y)}\\sum_{u_1,\\dots u_d}\\delta(h-s-\\sum_{b=1}^du_b)e^{-yC_{ia}(u_1,\\dots,u_d)}\\prod_{b=1}^dP_b(u_b)\n",
    "\\end{align}\n",
    "\n",
    "* Random graph ensemble\n",
    "When the source and the factor graph are random variables the 1RSB messages $P_{ai}$, $(a,i)\\in E$ become random variables. Let $(a,i)$ be a uniformly chosen edge in a factor graph drawn from the random ensembl, and let $\\mathcal{P}$ be the distribution of the message $P_{ai}$ solution of the 1RSB equation written above. The distribution $\\mathcal{P}(p)$ obey consistency equation similar to the RS cavity equations:\n",
    "\\begin{align}\n",
    "    \\mathcal{P}^{1RSB}(P)&=\\sum_{k}\\tilde{P}_k \\int\\prod_{j=1}^k{\\rm d}\\mathcal{Q}^{1RSB}(Q_j)\\delta(P-F^{SP(y)}(Q_1,\\dots,Q_k)) \\\\\n",
    "    \\mathcal{Q}^{1RSB}(Q) &= \\sum_{s}\\frac{1}{2}\\sum_{d}\\tilde{\\Lambda_d}\\int\\prod_{b=1}^d{\\rm d}\\mathcal{P}^{1RSB}(P_b)\\delta(Q-G^{SP(y)}(P_1,\\dots,P_d;s))\n",
    "\\end{align}\n",
    "This equation always admits a trivial fixed point $\\mathcal{P}(P)=\\sum_u p^{RS}(u)\\delta[P-\\delta(\\cdot-u)]$, $\\mathcal{Q}(h)=\\sum_h q^{RS}(h)\\delta[Q-\\delta(\\cdot-h)]$, where $p^{RS}, q^{RS}$  is the solution of the RS cavity equation.\n",
    "In the RS phase, this trivial fixed-point is the unique solution, while in the 1RSB phase, the trivial solution becomes unstable and the above equation admits a non-trivial solution."
   ]
  },
  {
   "cell_type": "markdown",
   "metadata": {},
   "source": [
    "Average minimal energy : Free energy of the auxiliary model\n",
    "---\n",
    "We want to estimate the Free energy $\\mathcal{F}(y)=-\\frac{1}{yn}\\log\\Theta(y)$ of the auxiliary problem defined by the partition function $\\Theta(y)$ on a single instance. Then we can average over the random ensemble of instances. In the large $y\\to\\infty$ limit, we obtain the averaged minimal energy.\n",
    "\n",
    "On a single instance, once a fixed point of the SP(y) equations has been found on a single instance, one can compute the Bethe free energy of the auxiliary problem:\n",
    "\\begin{align}\n",
    "    \\mathcal{F}(y) = \\frac{1}{n}\\sum_{a}\\mathcal{F}_a(\\{Q_{ia}\\}_{i\\in\\partial a};y) + \\frac{1}{n}\\sum_i\\mathcal{F}_i(\\{P_{ai}\\}_{a\\in\\partial i};y) - \\frac{1}{n}\\sum_{(ia)}\\mathcal{F}_{(ia)}(P_{ai},Q_{ia};y)\n",
    "\\end{align}\n",
    "with:\n",
    "\\begin{align}\n",
    "    \\mathcal{F}_a(\\{Q_{ia}\\}_{i\\in\\partial a};y) &= -\\frac{1}{y}\\log\\left(\\sum_{\\{h_{ia}\\}_{i\\in\\partial a}}e^{-yF_a(\\{h_{ia}\\}_{i\\in\\partial a})}\\prod_{i\\in\\partial a}Q_{ia}(h_{ia})\\right)\\\\\n",
    "    \\mathcal{F}_i(\\{P_{ai}\\}_{a\\in\\partial i};y) &= -\\frac{1}{y}\\log\\left(\\sum_{\\{u_{ai}\\}_{a\\in\\partial i}}e^{-yF_i(\\{u_{ai}\\}_{a\\in\\partial i})}\\prod_{a\\in\\partial i}P_{ai}(u_{ai})\\right)\\\\\n",
    "    \\mathcal{F}_{(ia)}(P_{ai},Q_{ia};y) &= -\\frac{1}{y}\\log\\left(\\sum_{u_{ia}, h_{ia}}e^{-yF_{ia}(u_{ia}, h_{ia})}P_{ai}(u_{ai})Q_{ia}(h_{ia})\\right)\n",
    "\\end{align}\n",
    "where $F_a,F_i, F_{ia}$ are the factor, variable and edge terms of the Bethe free energy associated to one fixed point of the Max-Sum equation: \n",
    "\\begin{align}\n",
    "    F_a(\\{h_{ia}\\}_{i\\in\\partial a}) &= 2\\min_{i\\in\\partial a}|h_{ia}|\\Theta(-\\prod_i h_{ia})\\\\\n",
    "    F_i(\\{u_{ai}\\}_{a\\in\\partial i}) &= -|s_i + \\sum_{a\\in\\partial i}u_{ai}| + \\sum_a |u_{ai}|\\\\\n",
    "    F_{(ia)}(u_{ai},h_{ia}) &= -|u_{ai} + h_{ia}| + |u_{ai}| + |h_{ia}| \n",
    "\\end{align}\n",
    "Averaging over the random ensemble of instances:\n",
    "\\begin{align}\n",
    "    \\mathcal{F}^{1RSB}(y) &= \\alpha\\sum_{k}P_k\\int\\prod_{i=1}^k{\\rm d}\\mathcal{Q}^{1RSB}(Q_i)\\mathcal{F}_a(Q_1,\\dots,Q_k;y) + \\sum_d\\Lambda_d\\sum_s\\frac{1}{2}\\int\\prod_{i=1}^d\\mathcal{P}^{1RSB}(P_i)\\mathcal{F}_i(P_1,\\dots,P_d;s,y) \\\\\n",
    "    &- \\Lambda'(1)\\int\\mathcal{F}_{(ia)}\\mathcal{P}^{1RSB}(P)\\mathcal{Q}^{1RSB}(Q)(P,Q;y)\n",
    "\\end{align}\n"
   ]
  },
  {
   "cell_type": "code",
   "execution_count": 12,
   "metadata": {},
   "outputs": [
    {
     "data": {
      "text/plain": [
       "overlap_slow_edge (generic function with 2 methods)"
      ]
     },
     "execution_count": 12,
     "metadata": {},
     "output_type": "execute_result"
    }
   ],
   "source": [
    "function overlap_slow_factor(Q, J, y=0.0)\n",
    "    w = 0.0\n",
    "    k = length(Q)\n",
    "    for hs in Iterators.product(fill(-J:J,k)...)\n",
    "        Fa = 2*minimum(abs.(hs))*(∏(hs) < 0)\n",
    "        w += ∏(q[h] for (q,h) ∈ zip(Q,hs)) * exp(-y*Fa)\n",
    "    end\n",
    "    log(w)\n",
    "end\n",
    "\n",
    "function overlap_slow_var(P, s, J, y=0.0)\n",
    "    w = 0.0\n",
    "    d = length(P)\n",
    "    for us in Iterators.product(fill(-J:J,d)...)\n",
    "        h = sum(us) + s\n",
    "        Fi = -abs(h) + sum(abs.(us)) \n",
    "        w += ∏(p[u] for (p,u) ∈ zip(P,us)) * exp(-y*Fi)\n",
    "    end\n",
    "    log(w)\n",
    "end\n",
    "\n",
    "function overlap_slow_edge(p, q, J, y=0.0)\n",
    "    w = 0.0\n",
    "    for h in -J:J\n",
    "        for u in -J:J\n",
    "            Fia = abs(u)+abs(h)-abs(u+h)\n",
    "            w += p[u]*q[h]*exp(-y*Fia)\n",
    "        end\n",
    "    end\n",
    "    log(w)\n",
    "end"
   ]
  },
  {
   "cell_type": "code",
   "execution_count": 13,
   "metadata": {},
   "outputs": [],
   "source": [
    "Q = rand(popQ, 3);"
   ]
  },
  {
   "cell_type": "code",
   "execution_count": 14,
   "metadata": {},
   "outputs": [
    {
     "data": {
      "text/plain": [
       "-1.8562532113402433e-7"
      ]
     },
     "execution_count": 14,
     "metadata": {},
     "output_type": "execute_result"
    }
   ],
   "source": [
    "overlap_slow_factor(Q, J, y)"
   ]
  },
  {
   "cell_type": "code",
   "execution_count": 152,
   "metadata": {},
   "outputs": [
    {
     "data": {
      "text/plain": [
       "0.19759305944105465"
      ]
     },
     "execution_count": 152,
     "metadata": {},
     "output_type": "execute_result"
    }
   ],
   "source": [
    "overlap_fast_factor(Q, J, y)"
   ]
  },
  {
   "cell_type": "code",
   "execution_count": 15,
   "metadata": {},
   "outputs": [
    {
     "data": {
      "text/plain": [
       "overlap1RSB (generic function with 1 method)"
      ]
     },
     "execution_count": 15,
     "metadata": {},
     "output_type": "execute_result"
    }
   ],
   "source": [
    "function overlap1RSB(Λ, K; \n",
    "        popP, \n",
    "        popQ, \n",
    "        samples=length(popP), \n",
    "        y=0.0)\n",
    "\n",
    "    J = lastindex(popQ[1])\n",
    "    wΛ = weights(Λ)\n",
    "    wK = weights(K)\n",
    "\n",
    "    O_factor = 0.0\n",
    "    O_var = 0.0\n",
    "    O_edge = 0.0\n",
    "    \n",
    "    @showprogress for t = 1:samples\n",
    "        k = sample(eachindex(K), wK)\n",
    "        Q = rand(popQ, k)\n",
    "        O_factor += overlap_slow_factor(Q, J, y)/samples\n",
    "\n",
    "        d = sample(eachindex(Λ), wΛ)\n",
    "        P = rand(popP, d)\n",
    "        s = rand((-1,1))\n",
    "        O_var += overlap_slow_var(P, s, J, y)/samples\n",
    "\n",
    "        p = rand(popP)\n",
    "        q = rand(popQ)\n",
    "        O_edge += overlap_slow_edge(p, q, J, y)/samples\n",
    "    end\n",
    "    mK = sum(k*K[k] for k=eachindex(K))\n",
    "    mΛ = sum(d*Λ[d] for d=eachindex(Λ))\n",
    "    α = mΛ/mK\n",
    "    1/y*(α*O_factor + O_var - mΛ*O_edge)\n",
    "end"
   ]
  },
  {
   "cell_type": "code",
   "execution_count": 16,
   "metadata": {},
   "outputs": [
    {
     "name": "stderr",
     "output_type": "stream",
     "text": [
      "\u001b[32mProgress: 100%|█████████████████████████████████████████| Time: 0:07:17\u001b[39m\n"
     ]
    }
   ],
   "source": [
    "Λ = OffsetVector([0,0,0.5,0.5], 0:3)\n",
    "K = OffsetVector([0,0,0,1], 0:3)\n",
    "y = 1.0\n",
    "popP, popQ = RSB(Λ,K; J=10, maxiter=10^4, popsize=popsize, y=y);"
   ]
  },
  {
   "cell_type": "code",
   "execution_count": 17,
   "metadata": {},
   "outputs": [
    {
     "name": "stderr",
     "output_type": "stream",
     "text": [
      "\u001b[32mProgress: 100%|█████████████████████████████████████████| Time: 0:02:46\u001b[39m\n"
     ]
    },
    {
     "data": {
      "text/plain": [
       "0.47887845767874393"
      ]
     },
     "execution_count": 17,
     "metadata": {},
     "output_type": "execute_result"
    }
   ],
   "source": [
    "O = overlap1RSB(Λ,K; popP=popP, popQ=popQ, y=y, samples=10^4)"
   ]
  },
  {
   "cell_type": "code",
   "execution_count": 18,
   "metadata": {},
   "outputs": [
    {
     "data": {
      "text/plain": [
       "0.26056077116062804"
      ]
     },
     "execution_count": 18,
     "metadata": {},
     "output_type": "execute_result"
    }
   ],
   "source": [
    "D=(1-O)/2"
   ]
  },
  {
   "cell_type": "markdown",
   "metadata": {},
   "source": [
    "Simplifications of the terms in the 1RSB Bethe free energy $\\mathcal{F}(y)$\n",
    "---\n",
    "We can simplify the 1st term\n",
    "\\begin{align}\n",
    "    \\mathcal{F}_a(Q_1,\\dots,Q_k;y) &= -\\frac{1}{y}\\log\\left(\\mathcal{Z}_a\\right)\\\\\n",
    "    \\mathcal{Z}_a &= \\sum_{g_1,\\dots,g_k}e^{-2y\\min_{i=1,\\dots, k}|g_i|\\Theta(-\\prod_i g_i)}\\prod_{i=1}^kQ_i(g_i)\n",
    "\\end{align}\n",
    "we get:\n",
    "\\begin{align}\n",
    "    \\mathcal{Z}_a &=  \\sum_{g_1,\\dots,g_k}1-\\Theta(-\\prod_i g_i) + \\Theta(-\\prod_i g_i)e^{-2y\\min_i|g_i|}\\prod_{i=1}^k Q_i(g_i)\\\\\n",
    "    &= 1+\\sum_{g_1,\\dots,g_k}\\Theta(-\\prod_i g_i)\\left(e^{-2y\\min_i|g_i|}-1\\right)\\prod_{i=1}^kQ_i(g_i) \\\\\n",
    "    &= 1+ \\sum_{f=0}^{\\infty}\\left(e^{-2yf}-1\\right)\\sum_{g_1,\\dots,g_k}\\Theta(-\\prod_i g_i)\\delta(f-\\min_i|g_i|)\\prod_{i=1}^kQ_i(g_i)\\\\\n",
    "    &= 1+\\sum_{f=0}^{\\infty}\\left(e^{-2yf}-1\\right)(a_k(-f)-a_k(-f-1))\n",
    "\\end{align}\n",
    "\n"
   ]
  },
  {
   "cell_type": "code",
   "execution_count": 19,
   "metadata": {},
   "outputs": [
    {
     "data": {
      "text/plain": [
       "overlap_factor (generic function with 2 methods)"
      ]
     },
     "execution_count": 19,
     "metadata": {},
     "output_type": "execute_result"
    }
   ],
   "source": [
    "function overlap_factor(Q, J, y=1.0)\n",
    "    a = fill(0.0, -J-1:J+1)\n",
    "    a[1:J] .= 1\n",
    "    for q ∈ Q\n",
    "        Σp, Σm = 0.0, 0.0\n",
    "        for f=J:-1:1\n",
    "            ap, am = a[f], a[-f]\n",
    "            Σp += q[f]; Σm += q[-f]\n",
    "            #Σp, Σm = ∑(q[f:N]), ∑(q[-N:-f])\n",
    "            a[+f] = ap*Σp + am*Σm\n",
    "            a[-f] = am*Σp + ap*Σm\n",
    "        end\n",
    "    end\n",
    "\n",
    "    w=1+sum((a[-f]-a[-f-1])*(exp(-2*y*f)-1) for f in 0:J)\n",
    "    log(w)\n",
    "end\n"
   ]
  },
  {
   "cell_type": "markdown",
   "metadata": {},
   "source": [
    "Comparison\n",
    "---"
   ]
  },
  {
   "cell_type": "code",
   "execution_count": 20,
   "metadata": {},
   "outputs": [
    {
     "data": {
      "text/plain": [
       "1×2 Array{Float64,2}:\n",
       " -0.543381  -0.543381"
      ]
     },
     "execution_count": 20,
     "metadata": {},
     "output_type": "execute_result"
    }
   ],
   "source": [
    "J=6\n",
    "y=1.0\n",
    "Q=[(p=fill(0.0,-J:J); p[-J:J] .= rand(2J+1); p ./=sum(p)) for i=1:2]\n",
    "[overlap_factor(Q,J,y) overlap_slow_factor(Q,J,y)]"
   ]
  },
  {
   "cell_type": "markdown",
   "metadata": {},
   "source": [
    "We can also simplify the second term :\n",
    "\\begin{align}\n",
    "    \\mathcal{F}_i(P_1,\\dots,P_d;s,y) &= -\\frac{1}{y}\\log\\left(\\mathcal{Z}_i\\right)\\\\\n",
    "    \\mathcal{Z}_i &= \\sum_{f_1,\\dots,f_d}e^{-y(\\sum_{a=1}^d |f_a|-|s + \\sum_{a=1}^df_a|)}\\prod_{a=1}^d P_a(f_a)\n",
    "\\end{align}\n",
    "we get\n",
    "\\begin{align}\n",
    "    \\mathcal{Z}_i &= \\sum_g e^{y|g|}\\sum_{f_1,\\dots,f_d}\\delta(g-s-\\sum_a f_a)\\prod_{a=1}^d P_a(f_a)e^{-y |f_a|} \\\\\n",
    "    &= \\sum_g e^{y|g|}Q_d(g)\n",
    "\\end{align}\n",
    "with\n",
    "\\begin{align}\n",
    "    Q_0(g) &= \\delta(g-s) \\\\\n",
    "    Q_d(g) &= \\sum_{f_d}Q_{d-1}(g-f_d)P_d(f_d)e^{-y|f_d|}\n",
    "\\end{align}\n"
   ]
  },
  {
   "cell_type": "code",
   "execution_count": 21,
   "metadata": {},
   "outputs": [
    {
     "data": {
      "text/plain": [
       "overlap_var (generic function with 2 methods)"
      ]
     },
     "execution_count": 21,
     "metadata": {},
     "output_type": "execute_result"
    }
   ],
   "source": [
    "function overlap_var(P, s, J, y=0)\n",
    "    q = fill(1.0, s:s)\n",
    "    for p ∈ P\n",
    "        q = q ⊛ (p .* exp.(-y .* abs.(eachindex(p))))\n",
    "    end\n",
    "    w = sum(q[g]*exp(y*abs(g)) for g in eachindex(q))\n",
    "    log(w)\n",
    "end"
   ]
  },
  {
   "cell_type": "markdown",
   "metadata": {},
   "source": [
    "Comparison\n",
    "---"
   ]
  },
  {
   "cell_type": "code",
   "execution_count": 22,
   "metadata": {},
   "outputs": [
    {
     "data": {
      "text/plain": [
       "1×2 Array{Float64,2}:\n",
       " -0.986327  -0.986327"
      ]
     },
     "execution_count": 22,
     "metadata": {},
     "output_type": "execute_result"
    }
   ],
   "source": [
    "J=13\n",
    "y=1.0\n",
    "s=1\n",
    "P=[(p=fill(0.0, -J:J); p[-J:J] .= rand(2J+1); p ./=sum(p)) for i=1:3]\n",
    "[overlap_var(P,s,J,y) overlap_slow_var(P,s,J,y)]"
   ]
  },
  {
   "cell_type": "code",
   "execution_count": null,
   "metadata": {},
   "outputs": [],
   "source": []
  }
 ],
 "metadata": {
  "kernelspec": {
   "display_name": "Julia 1.5.3",
   "language": "julia",
   "name": "julia-1.5"
  },
  "language_info": {
   "file_extension": ".jl",
   "mimetype": "application/julia",
   "name": "julia",
   "version": "1.5.3"
  }
 },
 "nbformat": 4,
 "nbformat_minor": 4
}
