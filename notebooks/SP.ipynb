{
 "cells": [
  {
   "cell_type": "code",
   "execution_count": 3,
   "metadata": {},
   "outputs": [
    {
     "data": {
      "text/plain": [
       "readseeds (generic function with 1 method)"
      ]
     },
     "execution_count": 3,
     "metadata": {},
     "output_type": "execute_result"
    }
   ],
   "source": [
    "using SparseArrays, LinearAlgebra\n",
    "\n",
    "function readgraph(graph)\n",
    "    I=Int[]\n",
    "    J=Int[]\n",
    "    open(graph) do f\n",
    "        linecounter = 0\n",
    "        for l in eachline(f)\n",
    "            v = split(l)\n",
    "            if v[1] == \"D\"\n",
    "                i,j = extrema((parse(Int, v[2])+1, parse(Int, v[3])+1))\n",
    "                push!(I, i)\n",
    "                push!(J, j)\n",
    "            end\n",
    "        end\n",
    "    end\n",
    "    N = maximum(I)\n",
    "    H = sparse(J.-N,I,fill(1,length(I))) .÷ 2\n",
    "end\n",
    "\n",
    "\n",
    "function readseeds(seeds, H)\n",
    "    M, N = size(H)\n",
    "    @show size(H)\n",
    "    v = Int[]\n",
    "    open(seeds) do f\n",
    "        for l in eachline(f)\n",
    "            if l[1] != '#'\n",
    "                v = parse.(Int, split(l)) .- N .+ 1\n",
    "            end\n",
    "        end\n",
    "        println(\"$(length(v)) removed factors $v\")\n",
    "        return H[setdiff(1:size(H,1), v), :]\n",
    "    end\n",
    "end"
   ]
  },
  {
   "cell_type": "code",
   "execution_count": 4,
   "metadata": {},
   "outputs": [
    {
     "data": {
      "text/plain": [
       "leaf_removal (generic function with 1 method)"
      ]
     },
     "execution_count": 4,
     "metadata": {},
     "output_type": "execute_result"
    }
   ],
   "source": [
    "function leaf_removal(H::SparseMatrixCSC)\n",
    "    M, N = size(H)\n",
    "    Ht = sparse(transpose(H)) # for faster access by row\n",
    "    degs = vec(sum(H .!= 0, dims=1))\n",
    "    facts = fill(true, M)\n",
    "    rowperm = Int[]\n",
    "    Q = findall(degs .== 1)\n",
    "    indep = findall(degs .== 0)\n",
    "    dep = Int[]\n",
    "    while !isempty(Q)\n",
    "        i = popfirst!(Q)\n",
    "        degs[i] == 0 && continue\n",
    "        push!(dep, i)\n",
    "        ∂i = rowvals(H)[nzrange(H,i)]\n",
    "        ∂i = ∂i[facts[∂i]]\n",
    "        @assert length(∂i) == 1 # should be a residual leaf\n",
    "        a = ∂i[1]\n",
    "        facts[a] = false\n",
    "        push!(rowperm, a) \n",
    "        for j in rowvals(Ht)[nzrange(Ht,a)]\n",
    "            degs[j] -= 1\n",
    "            if j != i\n",
    "                if degs[j] == 0\n",
    "                    push!(indep, j)\n",
    "                elseif degs[j] == 1\n",
    "                    push!(Q, j)\n",
    "                end\n",
    "            end\n",
    "        end\n",
    "    end\n",
    "    all(degs .==  0) || @warn \"non-empty core\"\n",
    "    rowperm, [dep; indep]\n",
    "end"
   ]
  },
  {
   "cell_type": "code",
   "execution_count": 5,
   "metadata": {},
   "outputs": [
    {
     "data": {
      "text/plain": [
       "ut2diagGF2! (generic function with 1 method)"
      ]
     },
     "execution_count": 5,
     "metadata": {},
     "output_type": "execute_result"
    }
   ],
   "source": [
    "isuppertriang(H::SparseMatrixCSC) = all(rowvals(H)[last(nzrange(H,i))] == i for i = 1:size(H,1))\n",
    "\n",
    "function ut2diagGF2!(T::SparseMatrixCSC)\n",
    "    (m,n) = size(T)\n",
    "    # Check that the left part of T is unit upper triangular\n",
    "    @assert isuppertriang(T)\n",
    "    # Loop over diagonal elements\n",
    "    for c in m:-1:2\n",
    "        # Find non-zero elements above T[c,c] and perform row operations to \n",
    "        #  cancel them out\n",
    "        for (j,v) in @views zip(rowvals(T[:,c]),nonzeros(T[:,c]))\n",
    "            if v != 0 && j < c\n",
    "                for k in rowvals(T[c,c:end]).+c.-1\n",
    "                    T[j,k] ⊻= T[c,k]\n",
    "                end\n",
    "            end\n",
    "        end\n",
    "    end\n",
    "    dropzeros!(T)\n",
    "end"
   ]
  },
  {
   "cell_type": "code",
   "execution_count": 6,
   "metadata": {
    "scrolled": true
   },
   "outputs": [
    {
     "data": {
      "text/plain": [
       "findbasis (generic function with 1 method)"
      ]
     },
     "execution_count": 6,
     "metadata": {},
     "output_type": "execute_result"
    }
   ],
   "source": [
    "function findbasis(H)\n",
    "    rowperm, colperm = leaf_removal(H)\n",
    "    Hnew = H[rowperm, colperm]\n",
    "    ut2diagGF2!(Hnew)\n",
    "    B = [Hnew[:, size(Hnew, 1)+1:end]; I]\n",
    "    indep = colperm[size(H,1)+1:end]\n",
    "    B[invperm(colperm),:], indep\n",
    "end "
   ]
  },
  {
   "cell_type": "code",
   "execution_count": 7,
   "metadata": {},
   "outputs": [
    {
     "name": "stdout",
     "output_type": "stream",
     "text": [
      "size(H) = (6600, 9000)\n",
      "5 removed factors [129, 1515, 1531, 1655, 3471]\n"
     ]
    },
    {
     "data": {
      "text/plain": [
       "0.26722222222222225"
      ]
     },
     "execution_count": 7,
     "metadata": {},
     "output_type": "execute_result"
    }
   ],
   "source": [
    "H = readgraph(\"/home/ab/src/spread/graphN9000.txt\")\n",
    "H = readseeds(\"/home/ab/src/spread/seedsN9000.txt\", H)\n",
    "B, indep = findbasis(H);\n",
    "M,N = size(H)\n",
    "α=1-M/N"
   ]
  },
  {
   "cell_type": "code",
   "execution_count": 10,
   "metadata": {},
   "outputs": [
    {
     "data": {
      "text/plain": [
       "([4568, 97, 303, 4962, 589, 3783, 2642, 554, 3162, 1042  …  1081, 4040, 5522, 198, 5901, 3075, 7, 3606, 4236, 3265], [91, 353, 364, 685, 3356, 3896, 4261, 4784, 4976, 5077  …  5628, 7363, 4170, 8751, 4673, 5935, 798, 7435, 4491, 8359])"
      ]
     },
     "execution_count": 10,
     "metadata": {},
     "output_type": "execute_result"
    }
   ],
   "source": [
    "rowperm,colperm = leaf_removal(H)"
   ]
  },
  {
   "cell_type": "code",
   "execution_count": 11,
   "metadata": {},
   "outputs": [
    {
     "data": {
      "text/plain": [
       "6595×9000 SparseMatrixCSC{Int64, Int64} with 19783 stored entries:\n",
       "⠙⢮⣖⣂⡇⡐⠂⣆⢥⣰⣤⣚⡴⠗⢭⢰⣝⠰⣷⠢⡩⣓⣂⢎⢓⡧⣵⢷⡆⣿⢍⡦⣘⣀⣧⢄⡲⢦⡲⠐\n",
       "⠀⠀⠙⢿⡿⣝⢲⢮⢮⣧⢛⣮⡧⡷⣽⡀⡡⠮⡒⠮⣜⣓⠛⡹⡿⠕⢯⢭⠳⣿⡐⣡⡾⠟⠯⢓⢈⡢⠽⢆\n",
       "⠀⠀⠀⠀⠙⢮⡙⢿⣻⠕⢙⣼⠪⣨⡞⡙⣴⡳⣹⡻⡢⡾⢚⢁⡵⡿⢸⡗⢫⣧⠶⡅⠏⣇⡦⣌⠳⠹⠐⣨\n",
       "⠀⠀⠀⠀⠀⠀⠙⢦⡈⠛⢯⣧⠫⠹⢳⡻⢏⣓⠴⣋⣼⣗⣤⣶⡘⢧⣩⡭⠾⣿⢊⠹⣽⡻⠆⢣⠹⠦⡶⣔\n",
       "⠀⠀⠀⠀⠀⠀⠀⠀⠙⢦⡀⠈⠻⢷⡗⣟⣆⡓⣧⢵⡓⣎⠋⡬⣭⡰⡥⡥⣼⣹⣷⠐⢘⣫⣟⡊⣰⣃⠿⡁\n",
       "⠀⠀⠀⠀⠀⠀⠀⠀⠀⠀⠙⢦⡀⠀⠙⠿⣮⠽⡿⠼⢌⢈⣇⡓⢹⡻⣷⠹⡻⠺⣿⡵⣫⣗⣣⡱⡳⢧⢑⡇\n",
       "⠀⠀⠀⠀⠀⠀⠀⠀⠀⠀⠀⠀⠙⢦⡀⠀⠈⠳⣕⣹⣵⣍⠹⣨⢷⢱⡀⣣⠧⠀⣿⣿⣯⠵⣡⣾⡵⢔⠷⡶\n",
       "⠀⠀⠀⠀⠀⠀⠀⠀⠀⠀⠀⠀⠀⠀⠙⢦⡀⠀⠀⠙⢮⣾⣻⠙⡾⣶⢧⡮⣨⡂⠸⣿⣿⣹⣋⣯⣻⣍⣨⠽\n",
       "⠀⠀⠀⠀⠀⠀⠀⠀⠀⠀⠀⠀⠀⠀⠀⠀⠙⢦⡀⠀⠀⠙⢷⡜⣩⠆⡹⡼⠆⠀⠀⢿⣿⣧⡳⣵⡬⢍⠍⡛\n",
       "⠀⠀⠀⠀⠀⠀⠀⠀⠀⠀⠀⠀⠀⠀⠀⠀⠀⠀⠙⢦⡀⠀⠀⠙⢶⡯⠿⣺⣐⡁⠀⠈⣿⣿⣿⣻⠗⠶⣽⠭\n",
       "⠀⠀⠀⠀⠀⠀⠀⠀⠀⠀⠀⠀⠀⠀⠀⠀⠀⠀⠀⠀⠙⢦⡀⠀⠀⠹⣧⡻⠷⠂⠀⠀⠘⣿⣿⣿⣧⣏⡦⢟\n",
       "⠀⠀⠀⠀⠀⠀⠀⠀⠀⠀⠀⠀⠀⠀⠀⠀⠀⠀⠀⠀⠀⠀⠙⢦⡀⠀⠈⢷⢗⡀⠀⠀⠀⠘⢿⣿⣿⣮⢷⡟\n",
       "⠀⠀⠀⠀⠀⠀⠀⠀⠀⠀⠀⠀⠀⠀⠀⠀⠀⠀⠀⠀⠀⠀⠀⠀⠙⢦⡀⠈⢧⠀⠀⠀⠀⠀⠈⠻⣿⣿⣿⠋\n",
       "⠀⠀⠀⠀⠀⠀⠀⠀⠀⠀⠀⠀⠀⠀⠀⠀⠀⠀⠀⠀⠀⠀⠀⠀⠀⠀⠙⢦⡘⡇⠀⠀⠀⠀⠀⠀⠘⠿⣿⣿\n",
       "⠀⠀⠀⠀⠀⠀⠀⠀⠀⠀⠀⠀⠀⠀⠀⠀⠀⠀⠀⠀⠀⠀⠀⠀⠀⠀⠀⠀⠙⠃⠀⠀⠀⠀⠀⠀⠀⠀⠈⠛"
      ]
     },
     "execution_count": 11,
     "metadata": {},
     "output_type": "execute_result"
    }
   ],
   "source": [
    "H[rowperm, colperm]"
   ]
  },
  {
   "cell_type": "code",
   "execution_count": 361,
   "metadata": {},
   "outputs": [],
   "source": [
    "using JLD\n",
    "save(\"/home/ab/src/sourcecoding/matrix-stefano2.jld\", \"H\", H)"
   ]
  },
  {
   "cell_type": "code",
   "execution_count": 11,
   "metadata": {},
   "outputs": [],
   "source": [
    "include(\"/home/ab/src/sourcecoding/code/headers.jl\")"
   ]
  },
  {
   "cell_type": "code",
   "execution_count": 95,
   "metadata": {
    "jupyter": {
     "source_hidden": true
    }
   },
   "outputs": [],
   "source": []
  },
  {
   "cell_type": "code",
   "execution_count": 51,
   "metadata": {},
   "outputs": [
    {
     "name": "stdout",
     "output_type": "stream",
     "text": [
      "1 - M / N = 0.24002849002849003\n"
     ]
    },
    {
     "data": {
      "text/plain": [
       "false"
      ]
     },
     "execution_count": 51,
     "metadata": {},
     "output_type": "execute_result"
    }
   ],
   "source": [
    "ms = MS(maxiter=10000, convergence=:decvars, Tmax=1, gamma=1e-3, sigma=1e-8)\n",
    "M,N = size(H)\n",
    "@show 1-M/N\n",
    "fg = FactorGraphGF2(H)\n",
    "ProgressMeter.ijulia_behavior(:clear)"
   ]
  },
  {
   "cell_type": "code",
   "execution_count": 119,
   "metadata": {},
   "outputs": [
    {
     "data": {
      "text/plain": [
       "iteration! (generic function with 1 method)"
      ]
     },
     "execution_count": 119,
     "metadata": {},
     "output_type": "execute_result"
    }
   ],
   "source": [
    "using SparseArrays, Random\n",
    "\n",
    "struct SurveyPropagation{F,M}\n",
    "    H :: SparseMatrixCSC{F,Int}\n",
    "    X :: SparseMatrixCSC{Int,Int}\n",
    "    P :: Vector{M}\n",
    "    Q :: Vector{M}\n",
    "    belief :: Vector{M}\n",
    "    efield :: Vector{Int}\n",
    "    y :: Float64\n",
    "end\n",
    "\n",
    "function survey_propagation(H; field, init, y)\n",
    "    H = sparse(H)\n",
    "    X = sparse(SparseMatrixCSC(size(H)...,H.colptr,H.rowval,collect(1:length(H.nzval)))')\n",
    "    P = [copy(init) for i=1:length(H.nzval)]\n",
    "    Q = [copy(init) for i=1:length(H.nzval)]\n",
    "    belief = [copy(init) for i=1:size(H,2)]\n",
    "    SurveyPropagation(H, X, P, Q, belief, field, y)\n",
    "end\n",
    "\n",
    "\n",
    "function update_factor!(ms::SurveyPropagation, b)\n",
    "    ε = 0.0\n",
    "    ∂b = nzrange(ms.H, b)\n",
    "    for i ∈ ∂b\n",
    "        a = fill(0.0, -J-1:J+1)\n",
    "        a[1:J] .= 1\n",
    "        pi = 1.0\n",
    "        for j ∈ ∂b\n",
    "            i == j && continue\n",
    "            q = ms.Q[j]\n",
    "            Σp, Σm = 0.0, 0.0\n",
    "            for f=J:-1:1\n",
    "                ap, am = a[f], a[-f]\n",
    "                Σp += q[f]; Σm += q[-f]\n",
    "                a[+f] = ap*Σp + am*Σm\n",
    "                a[-f] = am*Σp + ap*Σm\n",
    "            end\n",
    "            pi *= 1-q[0]\n",
    "        end\n",
    "        p = zero(ms.P[i])\n",
    "        for f = 1:J\n",
    "            p[+f] = (a[+f]-a[+f+1])\n",
    "            p[-f] = (a[-f]-a[-f-1])*exp(2ms.y*f)\n",
    "        end\n",
    "        p[0] = 1-pi\n",
    "        p ./= sum(p)\n",
    "        ε = max(ε, maximum(abs, ms.P[i] - p))\n",
    "        ms.P[i] .= p\n",
    "    end\n",
    "    ε\n",
    "end\n",
    "\n",
    "\n",
    "function ⊛(p1, p2)\n",
    "    q = fill(0.0,firstindex(p1)+firstindex(p2):lastindex(p1)+lastindex(p2))\n",
    "    for f1 in eachindex(p1), f2 in eachindex(p2)\n",
    "        q[f1+f2] += p1[f1]*p2[f2]\n",
    "    end\n",
    "    q\n",
    "end\n",
    "\n",
    "function update_var!(ms::SurveyPropagation, i)\n",
    "    ε = 0.0\n",
    "    ∂i = @view nonzeros(ms.X)[nzrange(ms.H, i)]\n",
    "    for a ∈ ∂i\n",
    "        q1 = fill(1.0, ms.efield[i]:ms.efield[i])\n",
    "        for b ∈ ∂i\n",
    "            b == a && continue\n",
    "            q1 = q1 ⊛ (ms.P[b] .* exp.(ms.y .* abs.(eachindex(ms.P[b]))))\n",
    "        end\n",
    "        q1 .*= exp.(-ms.y .* abs.(eachindex(q1)))\n",
    "        q = zero(ms.Q[a])\n",
    "        for f in eachindex(q1)\n",
    "            q[clamp(f,-J,J)] += q1[f]\n",
    "        end\n",
    "        q ./= sum(q)\n",
    "        ε = max(ε, maximum(abs, ms.Q[a] - q))\n",
    "        ms.Q[a] .= q\n",
    "    end\n",
    "    ε\n",
    "end\n",
    "\n",
    "function iteration!(ms::SurveyPropagation; maxiter = 1000, tol=1e-3, γ=0.0, callback=(x...)->false)\n",
    "    @inbounds for t = 1:maxiter        \n",
    "        ε = max(maximum(update_factor!.(tuple(ms), 1:size(H,1))),\n",
    "                maximum(update_var!.(tuple(ms), 1:size(H,2))))\n",
    "        ε < tol && break\n",
    "        callback(t, ε, ms) && break\n",
    "    end\n",
    "end                 \n"
   ]
  },
  {
   "cell_type": "code",
   "execution_count": 120,
   "metadata": {},
   "outputs": [],
   "source": [
    "using StaticArrays, OffsetArrays\n",
    "s = rand((-1,1), size(H,2))\n",
    "J = 5\n",
    "sp = survey_propagation(H; field=s, init=OffsetArray(MVector{2J+1}(fill(1/(2J+1),2J+1)), -J:J), y=0.0);"
   ]
  },
  {
   "cell_type": "code",
   "execution_count": 123,
   "metadata": {
    "scrolled": true
   },
   "outputs": [
    {
     "name": "stdout",
     "output_type": "stream",
     "text": [
      "1 0.0489358050587283\n",
      "2 0.024760781918541475\n",
      "3 0.026218370576922362\n",
      "4 0.022477183328205474\n",
      "5 0.016531183515554937\n",
      "6 0.015406751446887856\n",
      "7 0.015406751446887856\n",
      "8 0.008595347164552597\n",
      "9 0.00556228387766311\n",
      "10 0.004382045734369289\n",
      "11 0.003420336192796025\n",
      "12 0.003420336192796025\n",
      "13 0.002165813695206076\n",
      "14 0.002165813695206076\n",
      "15 0.0\n",
      "16 0.0\n",
      "17 0.0\n",
      "18 0.0\n",
      "19 0.0\n",
      "20 0.0\n"
     ]
    }
   ],
   "source": [
    "callback(t, ε, sp) = (println(\"$t $ε\"); false)\n",
    "\n",
    "iteration!(sp, maxiter=20, callback=callback, tol=0)"
   ]
  },
  {
   "cell_type": "code",
   "execution_count": null,
   "metadata": {},
   "outputs": [],
   "source": []
  },
  {
   "cell_type": "code",
   "execution_count": 124,
   "metadata": {},
   "outputs": [
    {
     "data": {
      "text/plain": [
       "19783-element Vector{OffsetVector{Float64, Vector{Float64}}}:\n",
       " [0.0, 0.1575930600234846, 0.06618309413548393, 0.07126503426746286, 0.09090909090909088, 0.09090909090909094, 0.09090909090909094, 0.09090909090909088, 0.09090909090909088, 0.06172490702636202, 0.188688450001752]\n",
       " [0.12396694214876035, 0.04958677685950414, 0.057851239669421496, 0.06611570247933886, 0.07438016528925621, 0.08264462809917357, 0.09090909090909093, 0.08264462809917357, 0.07438016528925621, 0.06611570247933886, 0.23140495867768598]\n",
       " [0.15143650148089738, 0.04908383058782622, 0.057348293397743576, 0.06389901335601768, 0.09090909090909093, 0.08397339973052016, 0.08038447448323825, 0.07610011735413007, 0.07106444542412033, 0.06496078881844884, 0.21084004445796678]\n",
       " [0.12396694214876035, 0.04958677685950414, 0.057851239669421496, 0.06611570247933886, 0.07438016528925621, 0.08264462809917357, 0.09090909090909093, 0.08264462809917357, 0.07438016528925621, 0.06611570247933886, 0.23140495867768598]\n",
       " [0.557121657114827, 0.13980043588676883, 0.06358855269448804, 0.05744764080943299, 0.05083482871885303, 0.042570365908935676, 0.03573402214205441, 0.05290249672464, 0.0, 0.0, 0.0]\n",
       " [0.1793344880055369, 0.06432496218106339, 0.061757417161183624, 0.06561983371645427, 0.06861120677610827, 0.08348182702969562, 0.1081034593437196, 0.06355952990415073, 0.059845257159863816, 0.056095925735072286, 0.1892660929871515]\n",
       " [0.3823509323133666, 0.07642920565535141, 0.08981626938050681, 0.07212622088655146, 0.1361928829997951, 0.05628030872208183, 0.04746943514787241, 0.03940987637456458, 0.031418618946793264, 0.024451881702069543, 0.044054367871047065]\n",
       " [0.17355371900826447, 0.05785123966942149, 0.06611570247933884, 0.0743801652892562, 0.09090909090909091, 0.09090909090909091, 0.08264462809917356, 0.0743801652892562, 0.06611570247933884, 0.057851239669421496, 0.1652892561983471]\n",
       " [0.19984973703981967, 0.05709992486851991, 0.06386175807663412, 0.06987227648384674, 0.09090909090909091, 0.07963936889556723, 0.07513148009015777, 0.06987227648384672, 0.0638617580766341, 0.057099924868519905, 0.17280240420736287]\n",
       " [0.15643491813152355, 0.05195248710035951, 0.05800026078695568, 0.06383692122371173, 0.09090909090909091, 0.09090909090909091, 0.09090909090909091, 0.07121346654165452, 0.0661467485454918, 0.060701268542263015, 0.19898665640076751]\n",
       " [0.0, 0.0909090909090909, 0.0909090909090909, 0.09090909090909091, 0.09090909090909083, 0.09090909090909094, 0.09090909090909094, 0.09090909090909088, 0.09090909090909088, 0.2727272727272727, 0.0]\n",
       " [0.0, 0.12941437207923465, 0.04183938790669211, 0.049091875887883815, 0.055986713816480446, 0.09090909090909093, 0.08426889621623855, 0.08144860214177323, 0.0780900179767866, 0.07382623027965234, 0.3151248127861673]\n",
       " [0.1818181818181818, 0.0909090909090909, 0.0909090909090909, 0.0909090909090909, 0.0909090909090909, 0.0909090909090909, 0.0909090909090909, 0.0909090909090909, 0.0909090909090909, 0.0909090909090909, 0.0]\n",
       " ⋮\n",
       " [0.0, 0.0909090909090909, 0.0909090909090909, 0.09090909090909091, 0.09090909090909083, 0.09090909090909094, 0.09090909090909094, 0.09090909090909088, 0.09090909090909088, 0.2727272727272727, 0.0]\n",
       " [0.0, 0.0909090909090909, 0.0909090909090909, 0.0909090909090909, 0.0909090909090909, 0.0909090909090909, 0.0909090909090909, 0.0909090909090909, 0.0909090909090909, 0.0909090909090909, 0.1818181818181818]\n",
       " [0.2727272727272727, 0.09090909090909088, 0.09090909090909088, 0.09090909090909094, 0.09090909090909094, 0.09090909090909088, 0.09090909090909091, 0.0909090909090909, 0.0909090909090909, 0.0, 0.0]\n",
       " [0.3636363636363636, 0.09090909090909088, 0.09090909090909094, 0.09090909090909094, 0.09090909090909083, 0.09090909090909091, 0.0909090909090909, 0.0909090909090909, 0.0, 0.0, 0.0]\n",
       " [0.0, 0.0, 0.34335086401202103, 0.07588279489105937, 0.08039068369646885, 0.08414725770097675, 0.09090909090909094, 0.0646130728775357, 0.057851239669421455, 0.04958677685950413, 0.15326821938392188]\n",
       " [0.1818181818181818, 0.0909090909090909, 0.0909090909090909, 0.0909090909090909, 0.0909090909090909, 0.0909090909090909, 0.0909090909090909, 0.0909090909090909, 0.0909090909090909, 0.0909090909090909, 0.0]\n",
       " [0.0, 0.0, 0.0909090909090909, 0.0909090909090909, 0.09090909090909091, 0.09090909090909088, 0.09090909090909094, 0.09090909090909094, 0.09090909090909088, 0.09090909090909088, 0.2727272727272727]\n",
       " [0.33658903080390684, 0.07513148009015778, 0.07963936889556725, 0.09090909090909091, 0.09090909090909091, 0.06536438767843727, 0.058602554470323066, 0.05108940646130729, 0.04282494365138993, 0.033809166040571, 0.07513148009015778]\n",
       " [0.43268281476054177, 0.0807728325471152, 0.07720648625703545, 0.0727939935458051, 0.06693418967791684, 0.059601673326518244, 0.09962287496733109, 0.032372579888584135, 0.026258762752171677, 0.02062982872167541, 0.031123963555305174]\n",
       " [0.1818181818181818, 0.0909090909090909, 0.0909090909090909, 0.0909090909090909, 0.0909090909090909, 0.0909090909090909, 0.0909090909090909, 0.0909090909090909, 0.0909090909090909, 0.0909090909090909, 0.0]\n",
       " [0.06010518407212621, 0.02704733283245679, 0.03531179564237417, 0.04357625845229151, 0.05184072126220883, 0.059353869271224644, 0.09090909090909093, 0.0864012021036814, 0.08339594290007517, 0.46205860255447023, 0.0]\n",
       " [0.17355371900826447, 0.05785123966942149, 0.06611570247933884, 0.0743801652892562, 0.09090909090909091, 0.09090909090909091, 0.08264462809917356, 0.0743801652892562, 0.06611570247933884, 0.057851239669421496, 0.1652892561983471]"
      ]
     },
     "execution_count": 124,
     "metadata": {},
     "output_type": "execute_result"
    }
   ],
   "source": [
    "sp.Q"
   ]
  },
  {
   "cell_type": "code",
   "execution_count": 365,
   "metadata": {},
   "outputs": [
    {
     "name": "stdout",
     "output_type": "stream",
     "text": [
      "d = 0.26323218066337334\n",
      "c = 0\n",
      "d1 = 0.26323218066337334\n",
      "c1 = 0\n",
      "d = 0.2633498000470478\n",
      "c = 2\n",
      "d1 = 0.2635262291225594\n",
      "c1 = 0\n",
      "d = 0.26329099035521053\n",
      "c = 0\n",
      "d1 = 0.26329099035521053\n",
      "c1 = 0\n",
      "d = 0.26329099035521053\n",
      "c = 5\n",
      "d1 = 0.2646436132674665\n",
      "c1 = 0\n",
      "d = 0.2642907551164432\n",
      "c = 5\n",
      "d1 = 0.26523171018583863\n",
      "c1 = 0\n",
      "d = 0.265055281110327\n",
      "c = 0\n",
      "d1 = 0.265055281110327\n",
      "c1 = 0\n",
      "d = 0.2627028934368384\n",
      "c = 1\n",
      "d1 = 0.26299694189602446\n",
      "c1 = 0\n",
      "d = 0.26523171018583863\n",
      "c = 0\n",
      "d1 = 0.26523171018583863\n",
      "c1 = 0\n",
      "d = 0.2646436132674665\n",
      "c = 26\n",
      "d1 = 0.27111267936956013\n",
      "c1 = 0\n",
      "d = 0.26534932956951307\n",
      "c = 6\n",
      "d1 = 0.26940719830628085\n",
      "c1 = 0\n"
     ]
    },
    {
     "data": {
      "text/plain": [
       "0.26537285344624795"
      ]
     },
     "execution_count": 365,
     "metadata": {},
     "output_type": "execute_result"
    }
   ],
   "source": [
    "using ProgressMeter\n",
    "callback(t,ms) = nothing;#println(\"$t $(ms.belief[1:4])\")\n",
    "\n",
    "nsamples = 10\n",
    "ms = maxsum(H,  1 .- 2y .+ 1e-8*randn(N));\n",
    "\n",
    "# the mapping is (0,1)=>(1,-1)\n",
    "dist = map(1:nsamples) do i\n",
    "    y = rand((0,1), N)\n",
    "    ms.M .= 0\n",
    "    ms.efield .= 1 .- 2y .+ 1e-8*randn(N)\n",
    "    iteration!(ms; maxiter=2000, γ=1e-3, callback=callback)\n",
    "    x = Int.(ms.belief .< 0)\n",
    "    c = sum(ms.H'x .% 2)\n",
    "    d = sum(x .⊻ y)/N\n",
    "    @show d c\n",
    "    x1 = B*x[indep] .% 2; d1 = sum(x1 .⊻ y)/N; c1 = sum(ms.H'x1 .% 2); @show d1 c1 \n",
    "    d1\n",
    "end\n",
    "sum(dist)/nsamples"
   ]
  },
  {
   "cell_type": "code",
   "execution_count": 366,
   "metadata": {},
   "outputs": [
    {
     "data": {
      "text/plain": [
       "(0.20418725005880967, 0.26537285344624795)"
      ]
     },
     "execution_count": 366,
     "metadata": {},
     "output_type": "execute_result"
    }
   ],
   "source": [
    "1-M/N,sum(dist)/nsamples"
   ]
  },
  {
   "cell_type": "code",
   "execution_count": 283,
   "metadata": {},
   "outputs": [
    {
     "data": {
      "text/plain": [
       "true"
      ]
     },
     "execution_count": 283,
     "metadata": {},
     "output_type": "execute_result"
    }
   ],
   "source": [
    "x=[1:10;]; f=(x .% 2 .== 1);x[findall(f)]==x[f]"
   ]
  },
  {
   "cell_type": "code",
   "execution_count": 52,
   "metadata": {},
   "outputs": [
    {
     "name": "stderr",
     "output_type": "stream",
     "text": [
      "\u001b[32mTrial 1/1 100%|█████████████████████████████████████████| Time: 0:00:01\u001b[39m\n"
     ]
    },
    {
     "name": "stdout",
     "output_type": "stream",
     "text": [
      "dist = 0.24287749287749288\n",
      "check = 1\n",
      "avg_dist = 0.4309116809116809\n"
     ]
    },
    {
     "name": "stderr",
     "output_type": "stream",
     "text": [
      "\u001b[32mTrial 1/1 100%|█████████████████████████████████████████| Time: 0:00:01\u001b[39m\n"
     ]
    },
    {
     "name": "stdout",
     "output_type": "stream",
     "text": [
      "dist = 0.24786324786324787\n",
      "check = 1\n",
      "avg_dist = 0.4309116809116809\n"
     ]
    },
    {
     "name": "stderr",
     "output_type": "stream",
     "text": [
      "\u001b[32mTrial 1/1 100%|█████████████████████████████████████████| Time: 0:00:01\u001b[39m\n"
     ]
    },
    {
     "name": "stdout",
     "output_type": "stream",
     "text": [
      "dist = 0.25427350427350426\n",
      "check = 1\n",
      "avg_dist = 0.4537037037037037\n"
     ]
    },
    {
     "name": "stderr",
     "output_type": "stream",
     "text": [
      "\u001b[32mTrial 1/1 100%|█████████████████████████████████████████| Time: 0:00:01\u001b[39m\n"
     ]
    },
    {
     "name": "stdout",
     "output_type": "stream",
     "text": [
      "dist = 0.26495726495726496\n",
      "check = 5\n",
      "avg_dist = 0.4565527065527066\n"
     ]
    },
    {
     "name": "stderr",
     "output_type": "stream",
     "text": [
      "\u001b[32mTrial 1/1 100%|█████████████████████████████████████████| Time: 0:00:01\u001b[39m\n"
     ]
    },
    {
     "name": "stdout",
     "output_type": "stream",
     "text": [
      "dist = 0.2378917378917379\n",
      "check = 1\n",
      "avg_dist = 0.42592592592592593\n"
     ]
    },
    {
     "name": "stderr",
     "output_type": "stream",
     "text": [
      "\u001b[32mTrial 1/1 100%|█████████████████████████████████████████| Time: 0:00:01\u001b[39m\n"
     ]
    },
    {
     "name": "stdout",
     "output_type": "stream",
     "text": [
      "dist = 0.26851851851851855\n",
      "check = 4\n",
      "avg_dist = 0.4423076923076923\n"
     ]
    },
    {
     "name": "stderr",
     "output_type": "stream",
     "text": [
      "\u001b[32mTrial 1/1 100%|█████████████████████████████████████████| Time: 0:00:01\u001b[39m\n"
     ]
    },
    {
     "name": "stdout",
     "output_type": "stream",
     "text": [
      "dist = 0.245014245014245\n",
      "check = 6\n",
      "avg_dist = 0.4458689458689459\n",
      "dist = 0.24715099715099714\n",
      "check = 0\n",
      "avg_dist = 0.24715099715099714\n"
     ]
    },
    {
     "name": "stderr",
     "output_type": "stream",
     "text": [
      "\u001b[32mTrial 1/1 100%|█████████████████████████████████████████| Time: 0:00:01\u001b[39m\n"
     ]
    },
    {
     "name": "stdout",
     "output_type": "stream",
     "text": [
      "dist = 0.25427350427350426\n",
      "check = 2\n",
      "avg_dist = 0.44515669515669515\n",
      "dist = 0.24857549857549857\n",
      "check = 0\n",
      "avg_dist = 0.24857549857549857\n"
     ]
    },
    {
     "data": {
      "text/plain": [
       "10-element Vector{Float64}:\n",
       " 0.24287749287749288\n",
       " 0.24786324786324787\n",
       " 0.25427350427350426\n",
       " 0.26495726495726496\n",
       " 0.2378917378917379\n",
       " 0.26851851851851855\n",
       " 0.245014245014245\n",
       " 0.24715099715099714\n",
       " 0.25427350427350426\n",
       " 0.24857549857549857"
      ]
     },
     "execution_count": 52,
     "metadata": {},
     "output_type": "execute_result"
    }
   ],
   "source": [
    "dist = map(1:10) do i\n",
    "    Random.seed!(i)\n",
    "    \n",
    "    y = rand((0,1), N)\n",
    "\n",
    "    lm = LossyModelGF2(fg, zeros(N), Inf, 1.0, y)\n",
    "    \n",
    "    function checker()\n",
    "        v = (B*((fg.fields .< 0)[indep])) .% 2;\n",
    "        dist = sum(v .⊻ y)/N\n",
    "        check = sum(H*(fg.fields .< 0) .% 2)\n",
    "        check, dist\n",
    "    end\n",
    "\n",
    "    independent = falses(N)\n",
    "    independent[indep] .= true\n",
    "    res_MS = solve!(lm, ms, randseed=1, verbose=true, showprogress=true, \n",
    "        independent=independent, basis = B)\n",
    "#    res_MS = solve!(lm, ms, randseed=1, verbose=true, showprogress=true)\n",
    "    avg_dist = res_MS.distortion \n",
    "    check, dist = checker()\n",
    "    @show dist check avg_dist\n",
    "    dist\n",
    "end"
   ]
  },
  {
   "cell_type": "code",
   "execution_count": 53,
   "metadata": {},
   "outputs": [
    {
     "data": {
      "text/plain": [
       "(0.24002849002849003, 0.2511396011396011)"
      ]
     },
     "execution_count": 53,
     "metadata": {},
     "output_type": "execute_result"
    }
   ],
   "source": [
    "dev = sqrt(sum(dist.^2)/length(dist)-(sum(dist)/length(dist))^2)/sqrt(length(dist))\n",
    "1-M/N, sum(dist)/length(dist)"
   ]
  },
  {
   "cell_type": "code",
   "execution_count": 31,
   "metadata": {},
   "outputs": [
    {
     "data": {
      "text/plain": [
       "(0.24002849002849003, 0.31868626274745)"
      ]
     },
     "execution_count": 31,
     "metadata": {},
     "output_type": "execute_result"
    }
   ],
   "source": [
    "1-M/N, 0.318686262747450"
   ]
  },
  {
   "cell_type": "code",
   "execution_count": 102,
   "metadata": {},
   "outputs": [
    {
     "data": {
      "text/plain": [
       "1"
      ]
     },
     "execution_count": 102,
     "metadata": {},
     "output_type": "execute_result"
    }
   ],
   "source": [
    "sum(H*(fg.fields .< 0) .% 2)"
   ]
  },
  {
   "cell_type": "code",
   "execution_count": 70,
   "metadata": {},
   "outputs": [
    {
     "data": {
      "text/plain": [
       "0.2167393675027263"
      ]
     },
     "execution_count": 70,
     "metadata": {},
     "output_type": "execute_result"
    }
   ],
   "source": [
    "cw = fg.fields .< 0;\n",
    "dist = sum(cw .!= y)/N"
   ]
  },
  {
   "cell_type": "code",
   "execution_count": 71,
   "metadata": {},
   "outputs": [
    {
     "data": {
      "text/plain": [
       "(0.30552526354053067, 0.2167393675027263)"
      ]
     },
     "execution_count": 71,
     "metadata": {},
     "output_type": "execute_result"
    }
   ],
   "source": [
    "1-M/N, dist"
   ]
  },
  {
   "cell_type": "code",
   "execution_count": 707,
   "metadata": {},
   "outputs": [
    {
     "data": {
      "text/plain": [
       "(\n",
       "⣿⣿⣿⣿⣿⣿⣿⣿⣿⣿⣿⣿⣿⣿⣿⡇\n",
       "⣿⣿⣿⣿⣿⣿⣿⣿⣿⣿⣿⣿⣿⣿⣿⡇\n",
       "⣿⣿⣿⣿⣿⣿⣿⣿⣿⣿⣿⣿⣿⣿⣿⡇\n",
       "⣿⣿⣿⣿⣿⣿⣿⣿⣿⣿⣿⣿⣿⣿⣿⡇\n",
       "⣿⣿⣿⣿⣿⣿⣿⣿⣿⣿⣿⣿⣿⣿⣿⡇\n",
       "⣿⣿⣿⣿⣿⣿⣿⣿⣿⣿⣿⣿⣿⣿⣿⡇\n",
       "⣿⣿⣿⣿⣿⣿⣿⣿⣿⣿⣿⣿⣿⣿⣿⡇\n",
       "⣿⣿⣿⣿⣿⣿⣿⣿⣿⣿⣿⣿⣿⣿⣿⡇\n",
       "⣿⣿⣿⣿⣿⣿⣿⣿⣿⣿⣿⣿⣿⣿⣿⡇\n",
       "⣿⣿⣿⣿⣿⣿⣿⣿⣿⣿⣿⣿⣿⣿⣿⡇\n",
       "⣿⣿⣿⣿⣿⣿⣿⣿⣿⣿⣿⣿⣿⣿⣿⡇\n",
       "⣿⣿⣿⣿⣿⣿⣿⣿⣿⣿⣿⣿⣿⣿⣿⡇\n",
       "⣿⣿⣿⣿⣿⣿⣿⣿⣿⣿⣿⣿⣿⣿⣿⡇\n",
       "⣿⣿⣿⣿⣿⣿⣿⣿⣿⣿⣿⣿⣿⣿⣿⡇\n",
       "⣿⣿⣿⣿⣿⣿⣿⣿⣿⣿⣿⣿⣿⣿⣿⡇\n",
       "⣿⣿⣿⣿⣿⣿⣿⣿⣿⣿⣿⣿⣿⣿⣿⡇\n",
       "⣿⣿⣿⣿⣿⣿⣿⣿⣿⣿⣿⣿⣿⣿⣿⡇\n",
       "⣿⣿⣿⣿⣿⣿⣿⣿⣿⣿⣿⣿⣿⣿⣿⡇\n",
       "⣿⣿⣿⣿⣿⣿⣿⣿⣿⣿⣿⣿⣿⣿⣿⡇\n",
       "⣿⣿⣿⣿⣿⣿⣿⣿⣿⣿⣿⣿⣿⣿⣿⡇\n",
       "⣿⣿⣿⣿⣿⣿⣿⣿⣿⣿⣿⣿⣿⣿⣿⡇\n",
       "⣽⣿⣿⣿⣿⣿⣿⣿⣿⣿⣿⣿⣿⣿⣿⡇\n",
       "⣿⣿⣿⣿⣿⣿⣿⣿⣿⣿⣿⣿⣿⣿⣿⡇\n",
       "⣛⣿⣿⣿⣿⣿⣿⣿⣿⣿⣿⣿⣿⣿⣿⡇\n",
       "⠛⣽⣿⣷⣿⣿⣿⣿⣿⣿⣿⣿⣿⣿⣿⡇\n",
       "⢬⢿⣿⣿⢿⢿⣿⣿⣿⣿⣿⣿⣿⣿⣿⡇, [1305, 5928, 239, 2177, 2836, 2337, 3619, 6060, 943, 9471  …  1620, 10099, 3460, 10249, 7536, 10732, 3862, 5283, 2205, 6647])"
      ]
     },
     "execution_count": 707,
     "metadata": {},
     "output_type": "execute_result"
    }
   ],
   "source": [
    "B,indep=findbasis(H)"
   ]
  },
  {
   "cell_type": "code",
   "execution_count": 708,
   "metadata": {},
   "outputs": [
    {
     "data": {
      "text/plain": [
       "11004×3362 SparseMatrixCSC{Int64,Int64} with 71353 stored entries:\n",
       "⣿⣿⣿⣿⣿⣿⣿⣿⣿⣿⣿⣿⣿⣿⣿⡇\n",
       "⣿⣿⣿⣿⣿⣿⣿⣿⣿⣿⣿⣿⣿⣿⣿⡇\n",
       "⣿⣿⣿⣿⣿⣿⣿⣿⣿⣿⣿⣿⣿⣿⣿⡇\n",
       "⣿⣿⣿⣿⣿⣿⣿⣿⣿⣿⣿⣿⣿⣿⣿⡇\n",
       "⣿⣿⣿⣿⣿⣿⣿⣿⣿⣿⣿⣿⣿⣿⣿⡇\n",
       "⣿⣿⣿⣿⣿⣿⣿⣿⣿⣿⣿⣿⣿⣿⣿⡇\n",
       "⣿⣿⣿⣿⣿⣿⣿⣿⣿⣿⣿⣿⣿⣿⣿⡇\n",
       "⣿⣿⣿⣿⣿⣿⣿⣿⣿⣿⣿⣿⣿⣿⣿⡇\n",
       "⣿⣿⣿⣿⣿⣿⣿⣿⣿⣿⣿⣿⣿⣿⣿⡇\n",
       "⣿⣿⣿⣿⣿⣿⣿⣿⣿⣿⣿⣿⣿⣿⣿⡇\n",
       "⣿⣿⣿⣿⣿⣿⣿⣿⣿⣿⣿⣿⣿⣿⣿⡇\n",
       "⣿⣿⣿⣿⣿⣿⣿⣿⣿⣿⣿⣿⣿⣿⣿⡇\n",
       "⣿⣿⣿⣿⣿⣿⣿⣿⣿⣿⣿⣿⣿⣿⣿⡇\n",
       "⣿⣿⣿⣿⣿⣿⣿⣿⣿⣿⣿⣿⣿⣿⣿⡇\n",
       "⣿⣿⣿⣿⣿⣿⣿⣿⣿⣿⣿⣿⣿⣿⣿⡇\n",
       "⣿⣿⣿⣿⣿⣿⣿⣿⣿⣿⣿⣿⣿⣿⣿⡇\n",
       "⣿⣿⣿⣿⣿⣿⣿⣿⣿⣿⣿⣿⣿⣿⣿⡇\n",
       "⣿⣿⣿⣿⣿⣿⣿⣿⣿⣿⣿⣿⣿⣿⣿⡇\n",
       "⣿⣿⣿⣿⣿⣿⣿⣿⣿⣿⣿⣿⣿⣿⣿⡇\n",
       "⣿⣿⣿⣿⣿⣿⣿⣿⣿⣿⣿⣿⣿⣿⣿⡇\n",
       "⣿⣿⣿⣿⣿⣿⣿⣿⣿⣿⣿⣿⣿⣿⣿⡇\n",
       "⣽⣿⣿⣿⣿⣿⣿⣿⣿⣿⣿⣿⣿⣿⣿⡇\n",
       "⣿⣿⣿⣿⣿⣿⣿⣿⣿⣿⣿⣿⣿⣿⣿⡇\n",
       "⣛⣿⣿⣿⣿⣿⣿⣿⣿⣿⣿⣿⣿⣿⣿⡇\n",
       "⠛⣽⣿⣷⣿⣿⣿⣿⣿⣿⣿⣿⣿⣿⣿⡇\n",
       "⢬⢿⣿⣿⢿⢿⣿⣿⣿⣿⣿⣿⣿⣿⣿⡇"
      ]
     },
     "execution_count": 708,
     "metadata": {},
     "output_type": "execute_result"
    }
   ],
   "source": [
    "B"
   ]
  },
  {
   "cell_type": "code",
   "execution_count": 233,
   "metadata": {},
   "outputs": [
    {
     "data": {
      "text/plain": [
       "13469×17004 SparseMatrixCSC{Int64,Int64} with 40406 stored entries:\n",
       "⣿⣿⣿⣿⣿⣿⣿⣿⣿⣿⣿⣿⣿⣿⣿⣾⣿⣿⣿⣿⣿⣿⣿⣾⣿⣿⣿⣿⣿⣿⣿⣿⣿⣿⣿⣿⣿⣿⣿⣿\n",
       "⢽⣿⣿⣿⣿⣿⣿⣿⣿⣿⣿⣿⣿⣿⣿⣿⣿⣿⣿⣿⣿⣿⣿⣿⣿⣿⣿⣿⣿⣿⣿⣿⣿⣿⣿⣿⣿⣿⣿⣿\n",
       "⣿⣿⣿⣿⣿⣿⣿⣿⣿⣿⣿⣿⣿⣿⣿⣿⣿⣿⣿⣿⣿⣿⣿⣿⣿⣿⣿⣿⣿⣿⣿⣿⣿⣿⣿⣿⣿⣿⣿⣿\n",
       "⣿⣿⣿⣿⣿⣿⣿⣿⣿⣿⣿⣿⣿⣿⣿⣿⣿⣿⣿⣿⣿⣿⣿⣿⣿⣿⣿⣿⣿⣿⣿⣿⣿⣿⣿⣿⣿⣿⣿⣿\n",
       "⣿⣿⣿⣿⣿⣿⣿⣿⣿⣿⣿⣿⣿⣿⣿⣿⣿⣿⣿⣿⣿⣿⣿⣿⣿⣿⣿⣿⣿⣿⣿⣿⣿⣿⣿⣿⣿⣿⣿⣿\n",
       "⣿⣿⣿⣿⣿⣿⣿⣿⣿⣿⣿⣿⣿⣿⣿⣿⣿⣿⣿⣿⣿⣿⣿⣿⣿⣿⣿⣿⣿⣿⣿⣿⣿⣿⣿⣿⣿⣿⣿⣿\n",
       "⣿⣿⣿⣿⣿⣿⣿⣿⣿⣿⣿⣿⣿⣿⣿⣿⣿⣿⣿⣿⣿⣿⣿⣿⣿⣿⣿⣿⣿⣿⣿⣿⣿⣿⣿⣿⣿⣿⣿⡿\n",
       "⣿⣿⣿⣿⣿⣿⣿⣿⣿⣿⣿⣿⣿⣿⣿⣿⣿⣿⣿⣿⣿⣿⣿⣿⣿⣿⣿⣿⣿⣿⣿⣿⣿⣿⣿⣿⣿⣿⣿⣿\n",
       "⣿⣿⣿⣿⣿⣿⣿⣿⣿⣿⣿⣿⣿⣿⣿⣿⣿⣿⣿⣿⣿⣿⣿⣿⣿⣿⣿⣿⣿⣿⣿⣿⣿⣿⣿⣿⣿⣿⣿⣿\n",
       "⣿⣿⣿⣿⣿⣿⣿⣿⣿⣿⣿⣿⣿⣿⣿⣿⣿⣿⣿⣿⣿⣿⣿⣿⣿⣿⣿⣿⣿⣿⣿⣿⣿⣿⣿⣿⣿⣿⣿⣿\n",
       "⣿⣿⣿⣿⣿⣿⣿⣿⣿⣿⣿⣿⣿⣿⣿⣿⣿⣿⣿⣿⣿⣿⣿⣿⣿⣿⣿⣿⣿⣿⣿⣿⣿⣿⣿⣿⣿⣿⣿⣿\n",
       "⣿⣿⣿⣿⣿⣿⣿⣿⣿⣿⣿⣿⣿⣿⣿⣿⣿⣿⣿⣿⣿⣿⣿⣿⣿⣿⣿⣿⣿⣿⣿⣿⣿⣿⣿⣿⣿⣿⣿⣿\n",
       "⣿⣿⣿⣿⣿⣿⣯⣿⣿⣿⣿⣿⣿⣿⣿⣿⣿⣿⣿⣿⣿⣿⣿⣿⣿⣿⣿⣿⣿⣿⣿⣿⣿⣿⣿⣿⣿⣿⣿⣿\n",
       "⣿⣿⣿⣿⣿⣿⣿⣿⣿⣿⣿⣿⣿⣿⣿⣿⣿⣿⣿⣿⣿⣿⣿⣿⣿⣿⣿⣿⣿⣿⣿⣿⣿⣿⣿⣿⣿⣿⣿⣿\n",
       "⣿⣿⣿⣿⣿⣿⣿⣿⣿⣿⣿⣿⣿⣿⣿⣿⣿⣿⣿⣿⣿⣿⣿⣿⣿⣿⣿⣿⣿⣿⣿⣿⣿⣿⣿⣿⣿⣿⣿⣿\n",
       "⠿⠿⠿⠿⠻⠿⠿⠿⠿⠿⠿⠿⠿⠿⠿⠿⠿⠿⠿⠿⠿⠿⠿⠿⠿⠿⠿⠿⠿⠿⠿⠿⠿⠿⠿⠿⠿⠿⠿⠿"
      ]
     },
     "execution_count": 233,
     "metadata": {},
     "output_type": "execute_result"
    }
   ],
   "source": [
    "H .= 0"
   ]
  },
  {
   "cell_type": "code",
   "execution_count": 540,
   "metadata": {},
   "outputs": [
    {
     "data": {
      "text/plain": [
       "true"
      ]
     },
     "execution_count": 540,
     "metadata": {},
     "output_type": "execute_result"
    }
   ],
   "source": [
    "isuppertriang(Hnew)"
   ]
  },
  {
   "cell_type": "code",
   "execution_count": 506,
   "metadata": {},
   "outputs": [
    {
     "ename": "LoadError",
     "evalue": "AssertionError: isuppertriang(T)",
     "output_type": "error",
     "traceback": [
      "AssertionError: isuppertriang(T)",
      "",
      "Stacktrace:",
      " [1] ut2diagGF2!(T::SparseMatrixCSC{Int64,Int64})",
      "   @ Main ./In[503]:4",
      " [2] findbasis(H::SparseMatrixCSC{Int64,Int64})",
      "   @ Main ./In[504]:4",
      " [3] top-level scope",
      "   @ In[506]:1",
      " [4] eval",
      "   @ ./boot.jl:340 [inlined]",
      " [5] include_string(mapexpr::typeof(REPL.softscope), mod::Module, code::String, filename::String)",
      "   @ Base ./loading.jl:1103"
     ]
    }
   ],
   "source": [
    "findbasis(H)"
   ]
  },
  {
   "cell_type": "code",
   "execution_count": 521,
   "metadata": {},
   "outputs": [
    {
     "data": {
      "text/plain": [
       "7642×11004 SparseMatrixCSC{Int64,Int64} with 22925 stored entries:\n",
       "⠙⢾⣬⣐⢄⡖⢐⡌⣄⢌⡥⢊⢹⡀⣒⢂⠀⠘⠈⠀⢒⣰⢠⢊⢘⣎⠕⣸⡰⣀⡔⣢⠠⠥⠘⡀⢒⡲⡀⡠\n",
       "⠀⠀⠙⢮⡓⠦⣇⠀⠁⣦⠨⣕⠨⢞⡏⢈⣤⣄⢅⠀⠼⡣⡇⠀⠰⢊⠋⢼⡄⠄⡄⠘⣳⢋⠇⠺⢤⠡⠄⣉\n",
       "⠀⠀⠀⠀⠙⢦⡈⠙⠾⣦⢨⡤⠨⠮⢈⠗⣊⢁⢁⡐⣣⠦⢐⢲⡥⠌⣋⠺⣧⠘⡄⣪⠐⢕⠋⠦⡠⠄⠫⡤\n",
       "⠀⠀⠀⠀⠀⠀⠙⢦⡀⠈⠙⠶⣥⢪⠆⠠⡝⢒⠱⠅⣨⡲⠠⠈⢏⠉⣤⠁⣿⣯⣍⠍⢄⣺⣄⠪⡃⣁⠔⡂\n",
       "⠀⠀⠀⠀⠀⠀⠀⠀⠙⢦⡀⠀⠈⠙⢧⣆⣐⡯⣼⡪⡴⠛⢒⡼⠂⡟⡠⠆⢻⣷⣮⡛⡄⠕⠈⢇⠑⠴⡆⢇\n",
       "⠀⠀⠀⠀⠀⠀⠀⠀⠀⠀⠙⢦⡀⠀⠀⠈⠳⣾⢄⢊⡘⢱⡚⡥⣠⣉⢽⠁⠸⣿⣿⣆⢒⢆⢿⡕⠧⡵⡢⢦\n",
       "⠀⠀⠀⠀⠀⠀⠀⠀⠀⠀⠀⠀⠙⢦⡀⠀⠀⠈⠙⢧⡍⡲⠮⡊⠂⣳⣱⠩⠀⢿⣿⣿⣮⠱⡊⡎⠨⡀⡡⠈\n",
       "⠀⠀⠀⠀⠀⠀⠀⠀⠀⠀⠀⠀⠀⠀⠙⢦⡀⠀⠀⠀⠙⢷⣵⢵⢓⢚⠓⣇⠀⠈⣿⣿⣿⣯⠘⠶⠕⠅⢤⠀\n",
       "⠀⠀⠀⠀⠀⠀⠀⠀⠀⠀⠀⠀⠀⠀⠀⠀⠙⢦⡀⠀⠀⠀⠙⣇⠜⡱⠐⣂⠀⠀⠘⣿⣿⣿⣿⣥⠧⡮⢜⡁\n",
       "⠀⠀⠀⠀⠀⠀⠀⠀⠀⠀⠀⠀⠀⠀⠀⠀⠀⠀⠙⢦⡀⠀⠀⠈⢻⣥⣜⡆⠀⠀⠀⠘⢿⣿⣿⣿⣝⣱⢼⣄\n",
       "⠀⠀⠀⠀⠀⠀⠀⠀⠀⠀⠀⠀⠀⠀⠀⠀⠀⠀⠀⠀⠙⢦⡀⠀⠀⠹⡼⠧⠀⠀⠀⠀⠈⢿⣿⣿⣿⣶⣅⣲\n",
       "⠀⠀⠀⠀⠀⠀⠀⠀⠀⠀⠀⠀⠀⠀⠀⠀⠀⠀⠀⠀⠀⠀⠙⢦⡀⠀⠹⡖⠀⠀⠀⠀⠀⠀⠙⣿⣿⣿⣧⠼\n",
       "⠀⠀⠀⠀⠀⠀⠀⠀⠀⠀⠀⠀⠀⠀⠀⠀⠀⠀⠀⠀⠀⠀⠀⠀⠙⢦⡀⢯⠀⠀⠀⠀⠀⠀⠀⠈⠻⣿⣿⣿\n",
       "⠀⠀⠀⠀⠀⠀⠀⠀⠀⠀⠀⠀⠀⠀⠀⠀⠀⠀⠀⠀⠀⠀⠀⠀⠀⠀⠙⠾⠀⠀⠀⠀⠀⠀⠀⠀⠀⠈⠙⠿"
      ]
     },
     "execution_count": 521,
     "metadata": {},
     "output_type": "execute_result"
    }
   ],
   "source": [
    "    rowperm, colperm = leaf_removal(H)\n",
    "    Hnew = H[rowperm, colperm]\n"
   ]
  },
  {
   "cell_type": "code",
   "execution_count": 525,
   "metadata": {},
   "outputs": [
    {
     "data": {
      "text/plain": [
       "false"
      ]
     },
     "execution_count": 525,
     "metadata": {},
     "output_type": "execute_result"
    }
   ],
   "source": [
    "isuppertriang(Hnew)"
   ]
  },
  {
   "cell_type": "code",
   "execution_count": 523,
   "metadata": {},
   "outputs": [
    {
     "data": {
      "text/plain": [
       "7642×11004 SparseMatrixCSC{Int64,Int64} with 22925 stored entries:\n",
       "⠙⢾⣬⣐⢄⡖⢐⡌⣄⢌⡥⢊⢹⡀⣒⢂⠀⠘⠈⠀⢒⣰⢠⢊⢘⣎⠕⣸⡰⣀⡔⣢⠠⠥⠘⡀⢒⡲⡀⡠\n",
       "⠀⠀⠙⢮⡓⠦⣇⠀⠁⣦⠨⣕⠨⢞⡏⢈⣤⣄⢅⠀⠼⡣⡇⠀⠰⢊⠋⢼⡄⠄⡄⠘⣳⢋⠇⠺⢤⠡⠄⣉\n",
       "⠀⠀⠀⠀⠙⢦⡈⠙⠾⣦⢨⡤⠨⠮⢈⠗⣊⢁⢁⡐⣣⠦⢐⢲⡥⠌⣋⠺⣧⠘⡄⣪⠐⢕⠋⠦⡠⠄⠫⡤\n",
       "⠀⠀⠀⠀⠀⠀⠙⢦⡀⠈⠙⠶⣥⢪⠆⠠⡝⢒⠱⠅⣨⡲⠠⠈⢏⠉⣤⠁⣿⣯⣍⠍⢄⣺⣄⠪⡃⣁⠔⡂\n",
       "⠀⠀⠀⠀⠀⠀⠀⠀⠙⢦⡀⠀⠈⠙⢧⣆⣐⡯⣼⡪⡴⠛⢒⡼⠂⡟⡠⠆⢻⣷⣮⡛⡄⠕⠈⢇⠑⠴⡆⢇\n",
       "⠀⠀⠀⠀⠀⠀⠀⠀⠀⠀⠙⢦⡀⠀⠀⠈⠳⣾⢄⢊⡘⢱⡚⡥⣠⣉⢽⠁⠸⣿⣿⣆⢒⢆⢿⡕⠧⡵⡢⢦\n",
       "⠀⠀⠀⠀⠀⠀⠀⠀⠀⠀⠀⠀⠙⢦⡀⠀⠀⠈⠙⢧⡍⡲⠮⡊⠂⣳⣱⠩⠀⢿⣿⣿⣮⠱⡊⡎⠨⡀⡡⠈\n",
       "⠀⠀⠀⠀⠀⠀⠀⠀⠀⠀⠀⠀⠀⠀⠙⢦⡀⠀⠀⠀⠙⢷⣵⢵⢓⢚⠓⣇⠀⠈⣿⣿⣿⣯⠘⠶⠕⠅⢤⠀\n",
       "⠀⠀⠀⠀⠀⠀⠀⠀⠀⠀⠀⠀⠀⠀⠀⠀⠙⢦⡀⠀⠀⠀⠙⣇⠜⡱⠐⣂⠀⠀⠘⣿⣿⣿⣿⣥⠧⡮⢜⡁\n",
       "⠀⠀⠀⠀⠀⠀⠀⠀⠀⠀⠀⠀⠀⠀⠀⠀⠀⠀⠙⢦⡀⠀⠀⠈⢻⣥⣜⡆⠀⠀⠀⠘⢿⣿⣿⣿⣝⣱⢼⣄\n",
       "⠀⠀⠀⠀⠀⠀⠀⠀⠀⠀⠀⠀⠀⠀⠀⠀⠀⠀⠀⠀⠙⢦⡀⠀⠀⠹⡼⠧⠀⠀⠀⠀⠈⢿⣿⣿⣿⣶⣅⣲\n",
       "⠀⠀⠀⠀⠀⠀⠀⠀⠀⠀⠀⠀⠀⠀⠀⠀⠀⠀⠀⠀⠀⠀⠙⢦⡀⠀⠹⡖⠀⠀⠀⠀⠀⠀⠙⣿⣿⣿⣧⠼\n",
       "⠀⠀⠀⠀⠀⠀⠀⠀⠀⠀⠀⠀⠀⠀⠀⠀⠀⠀⠀⠀⠀⠀⠀⠀⠙⢦⡀⢯⠀⠀⠀⠀⠀⠀⠀⠈⠻⣿⣿⣿\n",
       "⠀⠀⠀⠀⠀⠀⠀⠀⠀⠀⠀⠀⠀⠀⠀⠀⠀⠀⠀⠀⠀⠀⠀⠀⠀⠀⠙⠾⠀⠀⠀⠀⠀⠀⠀⠀⠀⠈⠙⠿"
      ]
     },
     "execution_count": 523,
     "metadata": {},
     "output_type": "execute_result"
    }
   ],
   "source": [
    "dropzeros!(Hnew)"
   ]
  },
  {
   "cell_type": "code",
   "execution_count": 531,
   "metadata": {},
   "outputs": [
    {
     "data": {
      "text/plain": [
       "7642×7642 SparseMatrixCSC{Int64,Int64} with 15740 stored entries:\n",
       "⠙⢷⢮⣐⠐⠀⡀⡐⠂⠔⡐⡀⠀⠠⢉⡀⠒⠈⡆⠀⠠⠄⠂⠀⠀⠌⠐⠀⠀⠔⠀⢐⢀⠠⠁⠸⡂⠡⠅⢀\n",
       "⠀⠀⠑⢌⠙⠦⣔⡂⠀⡍⠈⠢⢁⠀⠋⠰⢐⠀⠊⡡⡬⠆⠅⠀⠀⠐⠀⠀⠀⠆⠩⠐⡁⠈⠀⠐⡪⢡⠰⠐\n",
       "⠀⠀⠀⠀⠑⢄⠀⠙⠲⣅⡀⠀⢀⠳⠂⡂⡆⠀⠒⠨⠆⠀⡠⢒⣈⣀⠂⠄⠈⡈⢋⠱⠃⠀⠀⠑⠠⡀⡀⠡\n",
       "⠀⠀⠀⠀⠀⠀⠑⢄⠀⠀⠙⠲⣧⡠⠀⡄⡠⠀⣘⠪⠀⠩⡠⠂⠁⠀⢀⠀⠌⠂⢴⠀⠐⢐⢌⠠⡀⠐⠠⠀\n",
       "⠀⠀⠀⠀⠀⠀⠀⠀⠑⢄⠀⠀⠀⠙⠲⣬⣅⠂⠀⠤⢀⠁⠀⠮⡀⡁⢄⠨⠐⠐⠄⡀⠁⠈⢔⠑⠠⠔⠃⠄\n",
       "⠀⠀⠀⠀⠀⠀⠀⠀⠀⠀⠑⢄⠀⠀⠀⠀⠙⠺⣅⠘⠈⠀⠐⠔⠀⣀⠈⡈⢀⠪⠡⠐⠘⠀⡐⠤⣀⠜⢁⠀\n",
       "⠀⠀⠀⠀⠀⠀⠀⠀⠀⠀⠀⠀⠑⢄⠀⠀⠀⠀⠈⠙⢧⣐⡀⠐⡉⠠⡠⠆⣀⡰⠍⠁⢇⣔⠆⠂⡓⠀⠠⠆\n",
       "⠀⠀⠀⠀⠀⠀⠀⠀⠀⠀⠀⠀⠀⠀⠑⢄⠀⠀⠀⠀⠀⠈⠳⣍⣨⡐⠀⢡⠐⠰⠤⡄⡤⠂⠀⠐⠈⠊⠰⠄\n",
       "⠀⠀⠀⠀⠀⠀⠀⠀⠀⠀⠀⠀⠀⠀⠀⠀⠑⢄⠀⠀⠀⠀⠀⠀⠙⢦⣂⢄⠴⢀⠈⠐⡂⠊⡃⠶⠲⠐⠅⡀\n",
       "⠀⠀⠀⠀⠀⠀⠀⠀⠀⠀⠀⠀⠀⠀⠀⠀⠀⠀⠑⢄⠀⠀⠀⠀⠀⠀⠙⠳⣄⠅⢙⠰⠰⣐⠈⠀⠱⠈⣃⠅\n",
       "⠀⠀⠀⠀⠀⠀⠀⠀⠀⠀⠀⠀⠀⠀⠀⠀⠀⠀⠀⠀⠑⢄⠀⠀⠀⠀⠀⠀⠈⠳⣪⣐⢄⠠⣠⠄⡉⠵⠔⠄\n",
       "⠀⠀⠀⠀⠀⠀⠀⠀⠀⠀⠀⠀⠀⠀⠀⠀⠀⠀⠀⠀⠀⠀⠑⢄⠀⠀⠀⠀⠀⠀⠙⢮⡌⠵⠁⢴⠀⠄⠀⠓\n",
       "⠀⠀⠀⠀⠀⠀⠀⠀⠀⠀⠀⠀⠀⠀⠀⠀⠀⠀⠀⠀⠀⠀⠀⠀⠑⢄⠀⠀⠀⠀⠀⠀⠙⢦⡀⠌⡐⠁⠉⣀\n",
       "⠀⠀⠀⠀⠀⠀⠀⠀⠀⠀⠀⠀⠀⠀⠀⠀⠀⠀⠀⠀⠀⠀⠀⠀⠀⠀⠑⢄⠀⠀⠀⠀⠀⠀⠳⡎⠐⡀⢆⠀\n",
       "⠀⠀⠀⠀⠀⠀⠀⠀⠀⠀⠀⠀⠀⠀⠀⠀⠀⠀⠀⠀⠀⠀⠀⠀⠀⠀⠀⠀⠑⢄⠀⠀⠀⠀⠀⠙⣮⠪⡜⠅\n",
       "⠀⠀⠀⠀⠀⠀⠀⠀⠀⠀⠀⠀⠀⠀⠀⠀⠀⠀⠀⠀⠀⠀⠀⠀⠀⠀⠀⠀⠀⠀⠑⢄⠀⠀⠀⠀⠘⣗⠓⠤\n",
       "⠀⠀⠀⠀⠀⠀⠀⠀⠀⠀⠀⠀⠀⠀⠀⠀⠀⠀⠀⠀⠀⠀⠀⠀⠀⠀⠀⠀⠀⠀⠀⠀⠑⢄⠀⠀⠀⠘⣦⠴\n",
       "⠀⠀⠀⠀⠀⠀⠀⠀⠀⠀⠀⠀⠀⠀⠀⠀⠀⠀⠀⠀⠀⠀⠀⠀⠀⠀⠀⠀⠀⠀⠀⠀⠀⠀⠑⢄⠀⠀⠘⡧\n",
       "⠀⠀⠀⠀⠀⠀⠀⠀⠀⠀⠀⠀⠀⠀⠀⠀⠀⠀⠀⠀⠀⠀⠀⠀⠀⠀⠀⠀⠀⠀⠀⠀⠀⠀⠀⠀⠑⢄⠀⢳\n",
       "⠀⠀⠀⠀⠀⠀⠀⠀⠀⠀⠀⠀⠀⠀⠀⠀⠀⠀⠀⠀⠀⠀⠀⠀⠀⠀⠀⠀⠀⠀⠀⠀⠀⠀⠀⠀⠀⠀⠑⢼"
      ]
     },
     "execution_count": 531,
     "metadata": {},
     "output_type": "execute_result"
    }
   ],
   "source": [
    "Hnew[:,1:size(Hnew,1)]"
   ]
  },
  {
   "cell_type": "code",
   "execution_count": 536,
   "metadata": {
    "scrolled": true
   },
   "outputs": [],
   "source": [
    "for i=1:size(Hnew,1)\n",
    "    if rowvals(Hnew)[last(nzrange(Hnew,i))] > i\n",
    "        println(i, \" \", nzrange(Hnew,i))\n",
    "    end\n",
    "end"
   ]
  },
  {
   "cell_type": "code",
   "execution_count": 533,
   "metadata": {},
   "outputs": [
    {
     "data": {
      "text/plain": [
       "11×11 SparseMatrixCSC{Int64,Int64} with 11 stored entries:\n",
       " 1  ⋅  ⋅  ⋅  ⋅  ⋅  ⋅  ⋅  ⋅  ⋅  ⋅\n",
       " ⋅  1  ⋅  ⋅  ⋅  ⋅  ⋅  ⋅  ⋅  ⋅  ⋅\n",
       " ⋅  ⋅  1  ⋅  ⋅  ⋅  ⋅  ⋅  ⋅  ⋅  ⋅\n",
       " ⋅  ⋅  ⋅  1  ⋅  ⋅  ⋅  ⋅  ⋅  ⋅  ⋅\n",
       " ⋅  ⋅  ⋅  ⋅  1  ⋅  ⋅  ⋅  ⋅  ⋅  ⋅\n",
       " ⋅  ⋅  ⋅  ⋅  ⋅  1  ⋅  ⋅  ⋅  ⋅  ⋅\n",
       " ⋅  ⋅  ⋅  ⋅  ⋅  ⋅  1  ⋅  ⋅  ⋅  ⋅\n",
       " ⋅  ⋅  ⋅  ⋅  ⋅  ⋅  ⋅  1  ⋅  ⋅  ⋅\n",
       " ⋅  ⋅  ⋅  ⋅  ⋅  ⋅  ⋅  ⋅  1  ⋅  ⋅\n",
       " ⋅  ⋅  ⋅  ⋅  ⋅  ⋅  ⋅  ⋅  ⋅  1  ⋅\n",
       " ⋅  ⋅  ⋅  ⋅  ⋅  ⋅  ⋅  ⋅  ⋅  ⋅  1"
      ]
     },
     "execution_count": 533,
     "metadata": {},
     "output_type": "execute_result"
    }
   ],
   "source": [
    "Hnew[70:80,70:80]"
   ]
  },
  {
   "cell_type": "code",
   "execution_count": 519,
   "metadata": {},
   "outputs": [
    {
     "data": {
      "text/plain": [
       "1:1"
      ]
     },
     "execution_count": 519,
     "metadata": {},
     "output_type": "execute_result"
    }
   ],
   "source": [
    "nzrange(Hnew,1)"
   ]
  },
  {
   "cell_type": "code",
   "execution_count": 617,
   "metadata": {},
   "outputs": [
    {
     "data": {
      "text/plain": [
       "f (generic function with 1 method)"
      ]
     },
     "execution_count": 617,
     "metadata": {},
     "output_type": "execute_result"
    }
   ],
   "source": [
    "f(x)=(i=1;println(x))"
   ]
  },
  {
   "cell_type": "code",
   "execution_count": 619,
   "metadata": {},
   "outputs": [
    {
     "ename": "LoadError",
     "evalue": "UndefVarError: i not defined",
     "output_type": "error",
     "traceback": [
      "UndefVarError: i not defined",
      "",
      "Stacktrace:",
      " [1] top-level scope",
      "   @ In[619]:1",
      " [2] eval",
      "   @ ./boot.jl:340 [inlined]",
      " [3] include_string(mapexpr::typeof(REPL.softscope), mod::Module, code::String, filename::String)",
      "   @ Base ./loading.jl:1103"
     ]
    }
   ],
   "source": [
    "f(\"ciao $i\")"
   ]
  },
  {
   "cell_type": "code",
   "execution_count": 148,
   "metadata": {},
   "outputs": [
    {
     "name": "stdout",
     "output_type": "stream",
     "text": [
      "search: \u001b[0m\u001b[1mG\u001b[22m\u001b[0m\u001b[1ma\u001b[22m\u001b[0m\u001b[1ml\u001b[22m\u001b[0m\u001b[1mo\u001b[22m\u001b[0m\u001b[1mi\u001b[22m\u001b[0m\u001b[1ms\u001b[22m\u001b[0m\u001b[1mF\u001b[22m\u001b[0m\u001b[1mi\u001b[22m\u001b[0m\u001b[1me\u001b[22m\u001b[0m\u001b[1ml\u001b[22m\u001b[0m\u001b[1md\u001b[22m \u001b[0m\u001b[1mG\u001b[22m\u001b[0m\u001b[1ma\u001b[22m\u001b[0m\u001b[1ml\u001b[22m\u001b[0m\u001b[1mo\u001b[22m\u001b[0m\u001b[1mi\u001b[22m\u001b[0m\u001b[1ms\u001b[22m\u001b[0m\u001b[1mF\u001b[22m\u001b[0m\u001b[1mi\u001b[22m\u001b[0m\u001b[1me\u001b[22m\u001b[0m\u001b[1ml\u001b[22m\u001b[0m\u001b[1md\u001b[22ms @\u001b[0m\u001b[1mG\u001b[22m\u001b[0m\u001b[1ma\u001b[22m\u001b[0m\u001b[1ml\u001b[22m\u001b[0m\u001b[1mo\u001b[22m\u001b[0m\u001b[1mi\u001b[22m\u001b[0m\u001b[1ms\u001b[22m\u001b[0m\u001b[1mF\u001b[22m\u001b[0m\u001b[1mi\u001b[22m\u001b[0m\u001b[1me\u001b[22m\u001b[0m\u001b[1ml\u001b[22m\u001b[0m\u001b[1md\u001b[22m @\u001b[0m\u001b[1mG\u001b[22m\u001b[0m\u001b[1ma\u001b[22m\u001b[0m\u001b[1ml\u001b[22m\u001b[0m\u001b[1mo\u001b[22m\u001b[0m\u001b[1mi\u001b[22m\u001b[0m\u001b[1ms\u001b[22m\u001b[0m\u001b[1mF\u001b[22m\u001b[0m\u001b[1mi\u001b[22m\u001b[0m\u001b[1me\u001b[22m\u001b[0m\u001b[1ml\u001b[22m\u001b[0m\u001b[1md\u001b[22m!\n",
      "\n"
     ]
    },
    {
     "data": {
      "text/latex": [
       "\\begin{verbatim}\n",
       "const F = GaloisField(p)\n",
       "const F,α = GaloisField(p, :β => [1, 0, 1])\n",
       "const F,α = GaloisField(p, n, :β)\n",
       "\\end{verbatim}\n",
       "Return a type representing a finite field.\n",
       "\n",
       "The single-argument signature returns the finite field $ℤ/pℤ$.\n",
       "\n",
       "The two-arguments signature returns an algebraic extension of that field, with minimum polynomial given by the second argument: a dense representation of the univariate, monic polynomial, with ascending degree.\n",
       "\n",
       "The three-arguments signature returns an algebraic extension of that field, with minimum polynomial equal to the \\href{https://en.wikipedia.org/wiki/Conway_polynomial_(finite_fields)}{Conway polynomial}  for $(p,n)$. The \\texttt{GaloisFields} package ships with a database of Conway  polynomials and will raise an error if it does not contain an entry for  $(p,n)$.\n",
       "\n",
       "Note that in the latter two cases, the variable name (e.g. β above) is part of the type. This lets you define identifications between isomorphic (sub)fields. For example, with the following definition\n",
       "\n",
       "\\begin{verbatim}\n",
       "const F = @GaloisField! 𝔽₂ β^2 + β + 1\n",
       "const G = @GaloisField! 𝔽₂ γ^2 + γ + 1\n",
       "\\end{verbatim}\n",
       "the fields $F$ and $G$ are isomorphic, but not canonically. We might define\n",
       "\n",
       "\\begin{verbatim}\n",
       "@GaloisFields.identify β => γ + 1\n",
       "@GaloisFields.identify γ => β + 1\n",
       "\\end{verbatim}\n",
       "to allow for conversions like\n",
       "\n",
       "\\begin{verbatim}\n",
       "G(β)\n",
       "convert(F, γ + 1)\n",
       "\\end{verbatim}\n",
       "In the Conway case, you do not have to define your own identifications, as the Conway polynomials satisfy compatibility relations that allow us to use certain distinguished inclusions between them.\n",
       "\n"
      ],
      "text/markdown": [
       "```\n",
       "const F = GaloisField(p)\n",
       "const F,α = GaloisField(p, :β => [1, 0, 1])\n",
       "const F,α = GaloisField(p, n, :β)\n",
       "```\n",
       "\n",
       "Return a type representing a finite field.\n",
       "\n",
       "The single-argument signature returns the finite field $ℤ/pℤ$.\n",
       "\n",
       "The two-arguments signature returns an algebraic extension of that field, with minimum polynomial given by the second argument: a dense representation of the univariate, monic polynomial, with ascending degree.\n",
       "\n",
       "The three-arguments signature returns an algebraic extension of that field, with minimum polynomial equal to the [Conway polynomial](https://en.wikipedia.org/wiki/Conway_polynomial_(finite_fields))  for $(p,n)$. The `GaloisFields` package ships with a database of Conway  polynomials and will raise an error if it does not contain an entry for  $(p,n)$.\n",
       "\n",
       "Note that in the latter two cases, the variable name (e.g. β above) is part of the type. This lets you define identifications between isomorphic (sub)fields. For example, with the following definition\n",
       "\n",
       "```\n",
       "const F = @GaloisField! 𝔽₂ β^2 + β + 1\n",
       "const G = @GaloisField! 𝔽₂ γ^2 + γ + 1\n",
       "```\n",
       "\n",
       "the fields $F$ and $G$ are isomorphic, but not canonically. We might define\n",
       "\n",
       "```\n",
       "@GaloisFields.identify β => γ + 1\n",
       "@GaloisFields.identify γ => β + 1\n",
       "```\n",
       "\n",
       "to allow for conversions like\n",
       "\n",
       "```\n",
       "G(β)\n",
       "convert(F, γ + 1)\n",
       "```\n",
       "\n",
       "In the Conway case, you do not have to define your own identifications, as the Conway polynomials satisfy compatibility relations that allow us to use certain distinguished inclusions between them.\n"
      ],
      "text/plain": [
       "\u001b[36m  const F = GaloisField(p)\u001b[39m\n",
       "\u001b[36m  const F,α = GaloisField(p, :β => [1, 0, 1])\u001b[39m\n",
       "\u001b[36m  const F,α = GaloisField(p, n, :β)\u001b[39m\n",
       "\n",
       "  Return a type representing a finite field.\n",
       "\n",
       "  The single-argument signature returns the finite field \u001b[35mℤ/pℤ\u001b[39m.\n",
       "\n",
       "  The two-arguments signature returns an algebraic extension of that field,\n",
       "  with minimum polynomial given by the second argument: a dense representation\n",
       "  of the univariate, monic polynomial, with ascending degree.\n",
       "\n",
       "  The three-arguments signature returns an algebraic extension of that field,\n",
       "  with minimum polynomial equal to the Conway polynomial\n",
       "  (https://en.wikipedia.org/wiki/Conway_polynomial_(finite_fields)) for \u001b[35m(p,n)\u001b[39m.\n",
       "  The \u001b[36mGaloisFields\u001b[39m package ships with a database of Conway polynomials and\n",
       "  will raise an error if it does not contain an entry for \u001b[35m(p,n)\u001b[39m.\n",
       "\n",
       "  Note that in the latter two cases, the variable name (e.g. β above) is part\n",
       "  of the type. This lets you define identifications between isomorphic\n",
       "  (sub)fields. For example, with the following definition\n",
       "\n",
       "\u001b[36m  const F = @GaloisField! 𝔽₂ β^2 + β + 1\u001b[39m\n",
       "\u001b[36m  const G = @GaloisField! 𝔽₂ γ^2 + γ + 1\u001b[39m\n",
       "\n",
       "  the fields \u001b[35mF\u001b[39m and \u001b[35mG\u001b[39m are isomorphic, but not canonically. We might define\n",
       "\n",
       "\u001b[36m  @GaloisFields.identify β => γ + 1\u001b[39m\n",
       "\u001b[36m  @GaloisFields.identify γ => β + 1\u001b[39m\n",
       "\n",
       "  to allow for conversions like\n",
       "\n",
       "\u001b[36m  G(β)\u001b[39m\n",
       "\u001b[36m  convert(F, γ + 1)\u001b[39m\n",
       "\n",
       "  In the Conway case, you do not have to define your own identifications, as\n",
       "  the Conway polynomials satisfy compatibility relations that allow us to use\n",
       "  certain distinguished inclusions between them."
      ]
     },
     "execution_count": 148,
     "metadata": {},
     "output_type": "execute_result"
    }
   ],
   "source": [
    "?GaloisField"
   ]
  },
  {
   "cell_type": "code",
   "execution_count": 335,
   "metadata": {},
   "outputs": [
    {
     "data": {
      "text/plain": [
       "10-element Vector{Vector{Float64}}:\n",
       " [0.7248512048074602, 0.5956281398569836]\n",
       " [0.3423616342729472, 0.30990956468641717]\n",
       " [0.2220817188124009, 0.0919372195820698]\n",
       " [0.43783398880046787, 0.47016092384227326]\n",
       " [0.791725980123458, 0.7052410433796314]\n",
       " [0.09217476498061083, 0.12725939866504188]\n",
       " [0.45281383084093174, 0.39122464103589816]\n",
       " [0.33806263297107253, 0.9542242098549534]\n",
       " [0.5664683799053358, 0.4337947502526993]\n",
       " [0.04083282329424409, 0.40240658284532693]"
      ]
     },
     "execution_count": 335,
     "metadata": {},
     "output_type": "execute_result"
    }
   ],
   "source": [
    "x=[rand(2) for i=1:10]"
   ]
  },
  {
   "cell_type": "code",
   "execution_count": 344,
   "metadata": {},
   "outputs": [
    {
     "data": {
      "text/plain": [
       "10-element Vector{Vector{Float64}}:\n",
       " [5.72485120480746, 5.595628139856983]\n",
       " [5.342361634272947, 5.309909564686417]\n",
       " [5.222081718812401, 5.09193721958207]\n",
       " [5.437833988800468, 5.470160923842274]\n",
       " [5.7917259801234575, 5.7052410433796314]\n",
       " [5.09217476498061, 5.127259398665042]\n",
       " [5.452813830840932, 5.391224641035898]\n",
       " [5.338062632971073, 5.954224209854953]\n",
       " [5.566468379905336, 5.4337947502527]\n",
       " [5.040832823294244, 5.402406582845327]"
      ]
     },
     "execution_count": 344,
     "metadata": {},
     "output_type": "execute_result"
    }
   ],
   "source": [
    "x .+= tuple([1,1])"
   ]
  },
  {
   "cell_type": "code",
   "execution_count": null,
   "metadata": {},
   "outputs": [],
   "source": []
  }
 ],
 "metadata": {
  "kernelspec": {
   "display_name": "Julia 1.6.0-beta1",
   "language": "julia",
   "name": "julia-1.6"
  },
  "language_info": {
   "file_extension": ".jl",
   "mimetype": "application/julia",
   "name": "julia",
   "version": "1.6.0"
  }
 },
 "nbformat": 4,
 "nbformat_minor": 4
}
