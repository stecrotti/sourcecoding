{
 "cells": [
  {
   "cell_type": "code",
   "execution_count": 9,
   "metadata": {
    "ExecuteTime": {
     "end_time": "2020-03-26T21:45:24.772000+01:00",
     "start_time": "2020-03-26T20:45:20.513Z"
    },
    "init_cell": true
   },
   "outputs": [],
   "source": [
    "include(\"headers.jl\")\n",
    "using PyPlot, Statistics"
   ]
  },
  {
   "cell_type": "code",
   "execution_count": 10,
   "metadata": {
    "ExecuteTime": {
     "end_time": "2020-03-26T21:45:25.121000+01:00",
     "start_time": "2020-03-26T20:45:20.516Z"
    },
    "init_cell": true
   },
   "outputs": [],
   "source": [
    "q = 2\n",
    "mult, gfinv = gftables(q);   # Matrices for multiplication and inverse on GF\n",
    "algo = MS();"
   ]
  },
  {
   "cell_type": "markdown",
   "metadata": {},
   "source": [
    "## Max-Sum with convergence criterion: decisional variables"
   ]
  },
  {
   "cell_type": "code",
   "execution_count": 11,
   "metadata": {
    "ExecuteTime": {
     "end_time": "2020-03-26T21:45:25.470000+01:00",
     "start_time": "2020-03-26T20:45:20.519Z"
    },
    "init_cell": true
   },
   "outputs": [
    {
     "data": {
      "text/plain": [
       "0.5833333333333334"
      ]
     },
     "execution_count": 11,
     "metadata": {},
     "output_type": "execute_result"
    }
   ],
   "source": [
    "n = 480\n",
    "nedges = n*2\n",
    "niter = 50\n",
    "maxiter=Int(5e3)\n",
    "L = 1\n",
    "converged = 0\n",
    "parity = 0\n",
    "lambda = [0.0, 1.0]\n",
    "rho = [0.0, 0.0, 0.5, 0.5]\n",
    "k = Int(round(nedges*(sum(rho[j]/j for j in eachindex(rho)))))\n",
    "R = k/n"
   ]
  },
  {
   "cell_type": "code",
   "execution_count": 9,
   "metadata": {
    "scrolled": true
   },
   "outputs": [
    {
     "name": "stdout",
     "output_type": "stream",
     "text": [
      "Finished iter 5\n",
      "Finished iter 10\n",
      "Finished iter 15\n",
      "Finished iter 20\n",
      "Finished iter 25\n",
      "Finished iter 30\n",
      "Finished iter 35\n",
      "Finished iter 40\n",
      "Finished iter 45\n",
      "Finished iter 50\n",
      "Converged 14 out of 50 times.\n",
      "Parity check fulfilled 14 out of 14 times.\n"
     ]
    }
   ],
   "source": [
    "FG = ldpc_graph(q, n, k, nedges, lambda, rho, verbose=false)\n",
    "for it in 1:niter\n",
    "    y = rand(0:q-1, n)\n",
    "    FG.fields .= extfields(q,y,L)\n",
    "    res = bp!(FG,algo, verbose=false, maxiter=maxiter, nmin=500)\n",
    "    if res == :unconverged\n",
    "#         println(\"Unconverged with n=$n, k=$(k) after $maxiter steps\")\n",
    "#         println()\n",
    "    else\n",
    "        converged += 1\n",
    "        z = paritycheck(FG, algo)\n",
    "        if sum(z)!=0 \n",
    "#             println(\"Parity not fulfilled: $(sum(z)) unfulfilled constraints\")\n",
    "        else\n",
    "#             println(\"PARITY FULFILLED\")\n",
    "            parity += 1\n",
    "        end\n",
    "#         println()\n",
    "    end\n",
    "    mod(it,5)==0 && println(\"Finished iter $it\")\n",
    "end\n",
    "println(\"Converged $converged out of $niter times.\")\n",
    "println(\"Parity check fulfilled $parity out of $converged times.\")"
   ]
  },
  {
   "cell_type": "markdown",
   "metadata": {},
   "source": [
    "### Varying rate"
   ]
  },
  {
   "cell_type": "code",
   "execution_count": 37,
   "metadata": {
    "ExecuteTime": {
     "end_time": "2020-03-26T22:12:52.505000+01:00",
     "start_time": "2020-03-26T21:12:52.401Z"
    }
   },
   "outputs": [],
   "source": [
    "npoints = 4\n",
    "navg = 50\n",
    "n = 840\n",
    "nedges = n*2\n",
    "maxiter=Int(5e3)\n",
    "L = 1\n",
    "Rho = [zeros(npoints+4) for _ in 1:npoints]\n",
    "K = zeros(Int,npoints)\n",
    "for x in 1:npoints\n",
    "    Rho[x][x+3:x+4] = [0.5 0.5]\n",
    "    K[x] = Int(round(n*(1/(x+3)+1/(x+4))))\n",
    "end\n",
    "R = K./n\n",
    "dist = zeros(npoints, navg)\n",
    "converged = zeros(Int, npoints)\n",
    "parity = zeros(Int, npoints);"
   ]
  },
  {
   "cell_type": "code",
   "execution_count": 38,
   "metadata": {
    "ExecuteTime": {
     "end_time": "2020-03-27T07:21:22.867000+01:00",
     "start_time": "2020-03-26T21:12:54.049Z"
    }
   },
   "outputs": [
    {
     "name": "stdout",
     "output_type": "stream",
     "text": [
      "Finished iter 10\n",
      "Finished iter 20\n",
      "Finished iter 30\n",
      "Finished iter 40\n",
      "Finished iter 50\n",
      "---Finished R=0.45---\n",
      "Finished iter 10\n",
      "Finished iter 20\n",
      "Finished iter 30\n",
      "Finished iter 40\n",
      "Finished iter 50\n",
      "---Finished R=0.36666666666666664---\n",
      "Finished iter 10\n",
      "Finished iter 20\n",
      "Finished iter 30\n",
      "Finished iter 40\n",
      "Finished iter 50\n",
      "---Finished R=0.30952380952380953---\n",
      "Finished iter 10\n",
      "Finished iter 20\n",
      "Finished iter 30\n",
      "Finished iter 40\n",
      "Finished iter 50\n",
      "---Finished R=0.26785714285714285---\n"
     ]
    }
   ],
   "source": [
    "for j in 1:npoints\n",
    "    FG = ldpc_graph(q, n, K[j], nedges, lambda, Rho[j], verbose=false)\n",
    "    for it in 1:navg\n",
    "        y = rand(0:q-1, n)\n",
    "        FG.fields .= extfields(q,y,L)\n",
    "        res = bp!(FG,algo, verbose=false, maxiter=maxiter, nmin=500)\n",
    "        if res != :unconverged\n",
    "            converged[j] += 1\n",
    "        end\n",
    "        sum(paritycheck(FG, algo))==0 && (parity[j] += 1)\n",
    "        dist(j,it) = hd(res,y)/n\n",
    "        mod(it,10)==0 && println(\"Finished iter $it\")\n",
    "    end\n",
    "    println(\"---Finished R=$(R[j])---\")\n",
    "end"
   ]
  },
  {
   "cell_type": "code",
   "execution_count": 41,
   "metadata": {
    "ExecuteTime": {
     "end_time": "2020-03-27T09:00:25.909000+01:00",
     "start_time": "2020-03-27T08:00:25.847Z"
    },
    "scrolled": true
   },
   "outputs": [
    {
     "name": "stdout",
     "output_type": "stream",
     "text": [
      "n=840\n",
      "\n",
      "R=0.45\n",
      "Converged 16 out of 50 times.\n",
      "Parity check fulfilled 10 out of 50 times.\n",
      "\n",
      "R=0.36666666666666664\n",
      "Converged 18 out of 50 times.\n",
      "Parity check fulfilled 15 out of 50 times.\n",
      "\n",
      "R=0.30952380952380953\n",
      "Converged 18 out of 50 times.\n",
      "Parity check fulfilled 9 out of 50 times.\n",
      "\n",
      "R=0.26785714285714285\n",
      "Converged 22 out of 50 times.\n",
      "Parity check fulfilled 2 out of 50 times.\n",
      "\n"
     ]
    }
   ],
   "source": [
    "println(\"n=$n\")\n",
    "println()\n",
    "for j in 1:npoints\n",
    "   println(\"R=$(R[j])\")\n",
    "    println(\"Converged $(converged[j]) out of $navg times.\")\n",
    "    println(\"Parity check fulfilled $(parity[j]) out of $navg times.\")\n",
    "    println()\n",
    "end"
   ]
  },
  {
   "cell_type": "code",
   "execution_count": 45,
   "metadata": {
    "ExecuteTime": {
     "end_time": "2020-03-27T09:02:49.093000+01:00",
     "start_time": "2020-03-27T08:02:49.031Z"
    }
   },
   "outputs": [
    {
     "data": {
      "text/plain": [
       "0.0"
      ]
     },
     "execution_count": 45,
     "metadata": {},
     "output_type": "execute_result"
    }
   ],
   "source": [
    "sum(dist)"
   ]
  },
  {
   "cell_type": "markdown",
   "metadata": {},
   "source": [
    "## Max-Sum with convergence criterion: messages"
   ]
  },
  {
   "cell_type": "code",
   "execution_count": 12,
   "metadata": {
    "ExecuteTime": {
     "end_time": "2020-03-26T21:45:25.737000+01:00",
     "start_time": "2020-03-26T20:45:20.523Z"
    },
    "init_cell": true
   },
   "outputs": [
    {
     "data": {
      "text/plain": [
       "0.5833333333333334"
      ]
     },
     "execution_count": 12,
     "metadata": {},
     "output_type": "execute_result"
    }
   ],
   "source": [
    "n = 480\n",
    "nedges = n*2\n",
    "niter = 3\n",
    "maxiter=Int(5e3)\n",
    "L = 1\n",
    "lambda = [0.0, 1.0]\n",
    "rho = [0.0, 0.0, 0.5, 0.5]\n",
    "nedges = 2*n\n",
    "k = Int(round(nedges*(sum(rho[j]/j for j in eachindex(rho)))))\n",
    "R = k/n"
   ]
  },
  {
   "cell_type": "code",
   "execution_count": null,
   "metadata": {},
   "outputs": [],
   "source": [
    "converged = 0\n",
    "parity = 0\n",
    "\n",
    "FG = ldpc_graph(q, n, k, nedges, lambda, rho, verbose=false)\n",
    "for it in 1:niter\n",
    "    y = rand(0:q-1, n)\n",
    "    FG.fields .= extfields(q,y,L)\n",
    "    res = bp_msg!(FG,algo, verbose=false, maxiter=maxiter, tol=1e-6)\n",
    "    if res == :unconverged\n",
    "    else\n",
    "        converged += 1\n",
    "        z = paritycheck(FG, algo)\n",
    "        if sum(z)==0 \n",
    "            parity += 1\n",
    "        end\n",
    "    end\n",
    "    mod(it,10)==0 && println(\"Finished iter $it\")\n",
    "end\n",
    "println(\"Converged $converged out of $niter times.\")\n",
    "println(\"Parity check fulfilled $parity out of $converged times.\")"
   ]
  },
  {
   "cell_type": "code",
   "execution_count": null,
   "metadata": {},
   "outputs": [],
   "source": []
  }
 ],
 "metadata": {
  "@webio": {
   "lastCommId": null,
   "lastKernelId": null
  },
  "celltoolbar": "Initialization Cell",
  "kernelspec": {
   "display_name": "Julia 1.0.2",
   "language": "julia",
   "name": "julia-1.0"
  },
  "language_info": {
   "file_extension": ".jl",
   "mimetype": "application/julia",
   "name": "julia",
   "version": "1.0.2"
  },
  "notify_time": "30",
  "varInspector": {
   "cols": {
    "lenName": 16,
    "lenType": 16,
    "lenVar": 40
   },
   "kernels_config": {
    "python": {
     "delete_cmd_postfix": "",
     "delete_cmd_prefix": "del ",
     "library": "var_list.py",
     "varRefreshCmd": "print(var_dic_list())"
    },
    "r": {
     "delete_cmd_postfix": ") ",
     "delete_cmd_prefix": "rm(",
     "library": "var_list.r",
     "varRefreshCmd": "cat(var_dic_list()) "
    }
   },
   "types_to_exclude": [
    "module",
    "function",
    "builtin_function_or_method",
    "instance",
    "_Feature"
   ],
   "window_display": false
  }
 },
 "nbformat": 4,
 "nbformat_minor": 2
}
