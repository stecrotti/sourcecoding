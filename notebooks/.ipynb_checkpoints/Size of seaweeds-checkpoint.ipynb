{
 "cells": [
  {
   "cell_type": "markdown",
   "metadata": {},
   "source": [
    "# Size of seaweeds\n",
    "---------------\n",
    "Construction of a \"seaweed\" like in [Alternative solutions to diluted p-spin models and XORSAT problems](https://arxiv.org/pdf/cond-mat/0207140.pdf), appendix A.\n",
    "\n",
    "**Claim**: starting from a solution to a parity-check system, any variable in the floppy part of the graph can be flipped and another valid solution can be found by adjusting a finite number of additional variables. Such variables are the ones touched by the seaweed at the end of the algorithm described in the paper.\n",
    "\n",
    "**Here**: At fixed rate  $R$ , for increasing graph size  $n$ :\n",
    "\n",
    "+ for a set of  $G$  randomly picked graphs, grow a seaweed starting from each of the variables, and compute its Hamming weight. Average over the  $n$  possible starting points. Then further average over the  $G$  graph instances.\n",
    "+ Observe how the estimated expected hamming weight changes with  $n$ ."
   ]
  },
  {
   "cell_type": "code",
   "execution_count": null,
   "metadata": {},
   "outputs": [],
   "source": [
    "using Plots, ProgressMeter\n",
    "include(\"../code/headers.jl\")"
   ]
  },
  {
   "cell_type": "code",
   "execution_count": null,
   "metadata": {},
   "outputs": [],
   "source": [
    "# Increasing graph sizes\n",
    "n_vals = Int.(floor.(10 .^(LinRange(1,3.1,7))))\n",
    "# Fixed rate\n",
    "R = 0.3\n",
    "# Number of graphs to average over\n",
    "G = 20\n",
    "# Number of factors removed during b-reduction\n",
    "b = 1\n",
    "# Initalize vector to store seaweed sizes\n",
    "sz = [zeros(Int, G) for n in n_vals]\n",
    "# Keep track of the number of leaves exposed\n",
    "nleaves = [zeros(Int, G) for n in n_vals];"
   ]
  },
  {
   "cell_type": "code",
   "execution_count": null,
   "metadata": {},
   "outputs": [],
   "source": [
    "function avg_seaweed_hw!(G::Int, n::Int, R::Float64, b, j::Int, sz, nleaves)\n",
    "    @showprogress \"Averaging over graphs... \" for g in 1:G\n",
    "        # Build random factor graph\n",
    "        m = floor(Int, n*(1-R))\n",
    "        fg = ldpc_graph(2, n, m)\n",
    "        # Remove a factor to create leaves\n",
    "        breduction!(fg, b)\n",
    "        nleaves[j][g] = nvarleaves(fg)\n",
    "        # Find depths and core\n",
    "        _,depths = lr(fg)\n",
    "        isincore = (depths .== 0)\n",
    "        noncore_vars = (1:fg.n)[.!isincore]\n",
    "        # Starting from each node\n",
    "        for i in noncore_vars\n",
    "            # Grow a seaweed\n",
    "            sw = seaweed(fg, i, depths, isincore)\n",
    "            # Measure the size\n",
    "            sz[j][g] += hw(sw)\n",
    "        end\n",
    "        # Take the average seaweed size\n",
    "        sz[j][g] /= length(noncore_vars)\n",
    "    end\n",
    "    return nothing\n",
    "end"
   ]
  },
  {
   "cell_type": "code",
   "execution_count": null,
   "metadata": {},
   "outputs": [],
   "source": [
    "for (j,n) in enumerate(n_vals)\n",
    "    runtime = @timed begin\n",
    "        println(\"n = $n\")\n",
    "        avg_seaweed_hw!(G, n, R, b, j, sz, nleaves)\n",
    "    end\n",
    "end"
   ]
  },
  {
   "cell_type": "markdown",
   "metadata": {},
   "source": [
    "Plot the seaweed Hamming weight versus $n$"
   ]
  },
  {
   "cell_type": "code",
   "execution_count": null,
   "metadata": {},
   "outputs": [],
   "source": [
    "avg_sizes = [mean(sz[j]) for j in eachindex(n_vals)]\n",
    "sd_sizes = [std(sz[j])/sqrt(G) for j in eachindex(n_vals)]\n",
    "Plots.plot(n_vals, avg_sizes, ribbon=sd_sizes, label=\"\", markershape=:circle, xscale=:log10)\n",
    "xlabel!(\"n - log scale\")\n",
    "ylabel!(\"HW\")\n",
    "title!(\"Hamming weight of seaweed\")"
   ]
  },
  {
   "cell_type": "markdown",
   "metadata": {},
   "source": [
    "Looks like it is scaling as $\\log n$ "
   ]
  },
  {
   "cell_type": "markdown",
   "metadata": {},
   "source": [
    "## Now b-reduction scales with n\n",
    "I'm performing $b$-reduction to expose leaves. In the previous, we had a fixed $b=1$ for all values of $n$.\n",
    "\n",
    "In the following, the number $b$ of removed factors scales linearly with $n$:\n",
    "$$b=\\frac{n}{50}.$$\n",
    "\n",
    "It is to be expected that, as $b$ increases, the number of leaves in the graph increases linearly with it (checked at the end)"
   ]
  },
  {
   "cell_type": "code",
   "execution_count": null,
   "metadata": {},
   "outputs": [],
   "source": [
    "b = ceil.(Int, n_vals ./ 50)\n",
    "# Initalize vector to store seaweed sizes\n",
    "sz_new = [zeros(Int, G, n) for n in n_vals]\n",
    "# Keep track of the number of leaves exposed\n",
    "nleaves_new = [zeros(Int, G) for n in n_vals];"
   ]
  },
  {
   "cell_type": "code",
   "execution_count": null,
   "metadata": {},
   "outputs": [],
   "source": [
    "for (j,n) in enumerate(n_vals)\n",
    "    runtime = @timed begin\n",
    "        println(\"n = $n\")\n",
    "        avg_seaweed_hw!(G, n, R, b[j], j, sz_new, nleaves_new)\n",
    "    end\n",
    "end"
   ]
  },
  {
   "cell_type": "markdown",
   "metadata": {},
   "source": [
    "Plot the seaweed Hamming weight versus $n$"
   ]
  },
  {
   "cell_type": "code",
   "execution_count": null,
   "metadata": {},
   "outputs": [],
   "source": [
    "avg_sizes = [mean(sz_new[j]) for j in eachindex(n_vals)]\n",
    "sd_sizes = [std(sz_new[j])/sqrt(G) for j in eachindex(n_vals)]\n",
    "Plots.plot(n_vals, avg_sizes, ribbon=sd_sizes, label=\"\", markershape=:circle, xscale=:log10)\n",
    "xlabel!(\"n - log scale\")\n",
    "ylabel!(\"HW\")\n",
    "title!(\"Hamming weight of seaweed, b scaling with n\")"
   ]
  },
  {
   "cell_type": "markdown",
   "metadata": {},
   "source": [
    "It looks like it is indeed going slower than $\\log n$!"
   ]
  }
 ],
 "metadata": {
  "kernelspec": {
   "display_name": "Julia 1.5.3",
   "language": "julia",
   "name": "julia-1.5"
  },
  "language_info": {
   "file_extension": ".jl",
   "mimetype": "application/julia",
   "name": "julia",
   "version": "1.5.3"
  },
  "varInspector": {
   "cols": {
    "lenName": 16,
    "lenType": 16,
    "lenVar": 40
   },
   "kernels_config": {
    "python": {
     "delete_cmd_postfix": "",
     "delete_cmd_prefix": "del ",
     "library": "var_list.py",
     "varRefreshCmd": "print(var_dic_list())"
    },
    "r": {
     "delete_cmd_postfix": ") ",
     "delete_cmd_prefix": "rm(",
     "library": "var_list.r",
     "varRefreshCmd": "cat(var_dic_list()) "
    }
   },
   "types_to_exclude": [
    "module",
    "function",
    "builtin_function_or_method",
    "instance",
    "_Feature"
   ],
   "window_display": false
  }
 },
 "nbformat": 4,
 "nbformat_minor": 4
}
