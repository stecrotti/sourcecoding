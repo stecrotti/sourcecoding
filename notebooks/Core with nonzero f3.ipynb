{
 "cells": [
  {
   "cell_type": "markdown",
   "metadata": {},
   "source": [
    "**GOAL**: with $f_3>0$, check whether:\n",
    "- systems are full-rank\n",
    "- removing 1 clause gives empty core"
   ]
  },
  {
   "cell_type": "code",
   "execution_count": 81,
   "metadata": {},
   "outputs": [],
   "source": [
    "include(\"../code/slim_graphs.jl\")\n",
    "include(\"../code/bp.jl\")\n",
    "using OffsetArrays, Suppressor"
   ]
  },
  {
   "cell_type": "code",
   "execution_count": 92,
   "metadata": {},
   "outputs": [
    {
     "name": "stdout",
     "output_type": "stream",
     "text": [
      "n = 108000\n"
     ]
    },
    {
     "data": {
      "text/plain": [
       "237600"
      ]
     },
     "execution_count": 92,
     "metadata": {},
     "output_type": "execute_result"
    }
   ],
   "source": [
    "m = factorial(6)*11*10\n",
    "R = 0.8/3\n",
    "r = 1 - 3R\n",
    "n = round(Int, 3m/(2+r))\n",
    "@show n\n",
    "Λ = OffsetVector([0,0,1-r,r], 0:3)\n",
    "K = OffsetVector([0,0,0,1], 0:3)\n",
    "nedges = 3m"
   ]
  },
  {
   "cell_type": "code",
   "execution_count": 93,
   "metadata": {},
   "outputs": [
    {
     "data": {
      "text/plain": [
       "1000"
      ]
     },
     "execution_count": 93,
     "metadata": {},
     "output_type": "execute_result"
    }
   ],
   "source": [
    "N = 1000  # number of instances"
   ]
  },
  {
   "cell_type": "code",
   "execution_count": 99,
   "metadata": {},
   "outputs": [
    {
     "ename": "LoadError",
     "evalue": "InterruptException:",
     "output_type": "error",
     "traceback": [
      "InterruptException:",
      "",
      "Stacktrace:",
      "  [1] sparse(I::Vector{Int64}, J::Vector{Int64}, V::BitVector, m::Int64, n::Int64, combine::Function)",
      "    @ SparseArrays /home/ab/src/julia/build1.6/usr/share/julia/stdlib/v1.6/SparseArrays/src/sparsematrix.jl:767",
      "  [2] sparse",
      "    @ /home/ab/src/julia/build1.6/usr/share/julia/stdlib/v1.6/SparseArrays/src/sparsematrix.jl:958 [inlined]",
      "  [3] sparse",
      "    @ /home/ab/src/julia/build1.6/usr/share/julia/stdlib/v1.6/SparseArrays/src/sparsematrix.jl:952 [inlined]",
      "  [4] one_ldpc_matrix(n::Int64, m::Int64, nedges::Int64, Lambda::OffsetVector{Float64, Vector{Float64}}, Rho::OffsetVector{Int64, Vector{Int64}}, edgesleft::Vector{Int64}, edgesright::Vector{Int64})",
      "    @ Main ~/sourcecoding/code/bp.jl:45",
      "  [5] #ldpc_matrix#170",
      "    @ ~/sourcecoding/code/bp.jl:21 [inlined]",
      "  [6] macro expansion",
      "    @ ./In[99]:4 [inlined]",
      "  [7] top-level scope",
      "    @ ~/.julia/packages/Suppressor/nTjgZ/src/Suppressor.jl:98 [inlined]",
      "  [8] top-level scope",
      "    @ ./In[99]:0",
      "  [9] eval",
      "    @ ./boot.jl:360 [inlined]",
      " [10] include_string(mapexpr::typeof(REPL.softscope), mod::Module, code::String, filename::String)",
      "    @ Base ./loading.jl:1094"
     ]
    }
   ],
   "source": [
    "nonempty = 0\n",
    "b = 1\n",
    "@suppress_err for i in 1:N\n",
    "    Ht = ldpc_matrix(n,m,nedges,Λ,K,accept_multi_edges=false)\n",
    "    # remove b clauses\n",
    "    Ht[:,end-b+1:end] .= false\n",
    "    dropzeros!(Ht)\n",
    "    H = sparse(transpose(Ht))\n",
    "    rowperm, colperm = leaf_removal(H,Ht)\n",
    "    isempty(rowperm) && (nonempty += 1)\n",
    "    mod(i,100) == 0 && print(i, \" \")\n",
    "end"
   ]
  },
  {
   "cell_type": "code",
   "execution_count": 95,
   "metadata": {},
   "outputs": [
    {
     "name": "stdout",
     "output_type": "stream",
     "text": [
      "16 out of 1000 instances with non empty core\n"
     ]
    }
   ],
   "source": [
    "println(nonempty, \" out of \", N, \" instances with non empty core\")"
   ]
  },
  {
   "cell_type": "code",
   "execution_count": 101,
   "metadata": {},
   "outputs": [
    {
     "data": {
      "text/plain": [
       "79200×108000 SparseMatrixCSC{Bool, Int64} with 237597 stored entries:\n",
       "⣿⣿⣿⣿⣿⣿⣿⣿⣿⣿⣿⣿⣿⣿⣿⣿⣿⣿⣿⣿⣿⣿⣿⣿⣿⣿⣿⣿⣿⣿⣿⣿⣿⣿⣿⣿⣿⣿⣿⣿\n",
       "⣿⣿⣿⣿⣿⣿⣿⣿⣿⣿⣿⣿⣿⣿⣿⣿⣿⣿⣿⣿⣿⣿⣿⣿⣿⣿⣿⣿⣿⣿⣿⣿⣿⣿⣿⣿⣿⣿⣿⣿\n",
       "⣿⣿⣿⣿⣿⣿⣿⣿⣿⣿⣿⣿⣿⣿⣿⣿⣿⣿⣿⣿⣿⣿⣿⣿⣿⣿⣿⣿⣿⣿⣿⣿⣿⣿⣿⣿⣿⣿⣿⣿\n",
       "⣿⣿⣿⣿⣿⣿⣿⣿⣿⣿⣿⣿⣿⣿⣿⣿⣿⣿⣿⣿⣿⣿⣿⣿⣿⣿⣿⣿⣿⣿⣿⣿⣿⣿⣿⣿⣿⣿⣿⣿\n",
       "⣿⣿⣿⣿⣿⣿⣿⣿⣿⣿⣿⣿⣿⣿⣿⣿⣿⣿⣿⣿⣿⣿⣿⣿⣿⣿⣿⣿⣿⣿⣿⣿⣿⣿⣿⣿⣿⣿⣿⣿\n",
       "⣿⣿⣿⣿⣿⣿⣿⣿⣿⣿⣿⣿⣿⣿⣿⣿⣿⣿⣿⣿⣿⣿⣿⣿⣿⣿⣿⣿⣿⣿⣿⣿⣿⣿⣿⣿⣿⣿⣿⣿\n",
       "⣿⣿⣿⣿⣿⣿⣿⣿⣿⣿⣿⣿⣿⣿⣿⣿⣿⣿⣿⣿⣿⣿⣿⣿⣿⣿⣿⣿⣿⣿⣿⣿⣿⣿⣿⣿⣿⣿⣿⣿\n",
       "⣿⣿⣿⣿⣿⣿⣿⣿⣿⣿⣿⣿⣿⣿⣿⣿⣿⣿⣿⣿⣿⣿⣿⣿⣿⣿⣿⣿⣿⣿⣿⣿⣿⣿⣿⣿⣿⣿⣿⣿\n",
       "⣿⣿⣿⣿⣿⣿⣿⣿⣿⣿⣿⣿⣿⣿⣿⣿⣿⣿⣿⣿⣿⣿⣿⣿⣿⣿⣿⣿⣿⣿⣿⣿⣿⣿⣿⣿⣿⣿⣿⣿\n",
       "⣿⣿⣿⣿⣿⣿⣿⣿⣿⣿⣿⣿⣿⣿⣿⣿⣿⣿⣿⣿⣿⣿⣿⣿⣿⣿⣿⣿⣿⣿⣿⣿⣿⣿⣿⣿⣿⣿⣿⣿\n",
       "⣿⣿⣿⣿⣿⣿⣿⣿⣿⣿⣿⣿⣿⣿⣿⣿⣿⣿⣿⣿⣿⣿⣿⣿⣿⣿⣿⣿⣿⣿⣿⣿⣿⣿⣿⣿⣿⣿⣿⣿\n",
       "⣿⣿⣿⣿⣿⣿⣿⣿⣿⣿⣿⣿⣿⣿⣿⣿⣿⣿⣿⣿⣿⣿⣿⣿⣿⣿⣿⣿⣿⣿⣿⣿⣿⣿⣿⣿⣿⣿⣿⣿\n",
       "⣿⣿⣿⣿⣿⣿⣿⣿⣿⣿⣿⣿⣿⣿⣿⣿⣿⣿⣿⣿⣿⣿⣿⣿⣿⣿⣿⣿⣿⣿⣿⣿⣿⣿⣿⣿⣿⣿⣿⣿\n",
       "⣿⣿⣿⣿⣿⣿⣿⣿⣿⣿⣿⣿⣿⣿⣿⣿⣿⣿⣿⣿⣿⣿⣿⣿⣿⣿⣿⣿⣿⣿⣿⣿⣿⣿⣿⣿⣿⣿⣿⣿\n",
       "⠛⠛⠛⠛⠛⠛⠛⠛⠛⠛⠛⠛⠛⠛⠛⠛⠛⠛⠛⠛⠛⠛⠛⠛⠛⠛⠛⠛⠛⠛⠛⠛⠛⠛⠛⠛⠛⠛⠛⠛"
      ]
     },
     "execution_count": 101,
     "metadata": {},
     "output_type": "execute_result"
    }
   ],
   "source": [
    "Ht = ldpc_matrix(n,m,nedges,Λ,K,accept_multi_edges=false)\n",
    "# remove b clauses\n",
    "Ht[:,end-b+1:end] .= false\n",
    "dropzeros!(Ht)\n",
    "H = sparse(transpose(Ht))"
   ]
  },
  {
   "cell_type": "code",
   "execution_count": 102,
   "metadata": {},
   "outputs": [
    {
     "ename": "LoadError",
     "evalue": "InterruptException:",
     "output_type": "error",
     "traceback": [
      "InterruptException:",
      "",
      "Stacktrace:",
      " [1] top-level scope",
      "   @ In[102]:1",
      " [2] eval",
      "   @ ./boot.jl:360 [inlined]",
      " [3] include_string(mapexpr::typeof(REPL.softscope), mod::Module, code::String, filename::String)",
      "   @ Base ./loading.jl:1094"
     ]
    }
   ],
   "source": [
    "A,dep = gfrrefGF2(Array(H))"
   ]
  }
 ],
 "metadata": {
  "kernelspec": {
   "display_name": "Julia 1.6.1-pre",
   "language": "julia",
   "name": "julia-1.6"
  },
  "language_info": {
   "file_extension": ".jl",
   "mimetype": "application/julia",
   "name": "julia",
   "version": "1.6.1"
  }
 },
 "nbformat": 4,
 "nbformat_minor": 4
}
