{
 "cells": [
  {
   "cell_type": "markdown",
   "metadata": {},
   "source": [
    "**GOAL**: run MaxSum with all +1 source: beliefs give the shortest path to the leaves. Then compute basis with leaf removal and check if the path to the leaves is an upper bound to the weight of basis vector"
   ]
  },
  {
   "cell_type": "code",
   "execution_count": 547,
   "metadata": {},
   "outputs": [
    {
     "data": {
      "text/plain": [
       "update_factor_bp_new! (generic function with 1 method)"
      ]
     },
     "execution_count": 547,
     "metadata": {},
     "output_type": "execute_result"
    }
   ],
   "source": [
    "include(\"../code/bp_full.jl\")"
   ]
  },
  {
   "cell_type": "code",
   "execution_count": 559,
   "metadata": {},
   "outputs": [
    {
     "data": {
      "text/plain": [
       "field (generic function with 1 method)"
      ]
     },
     "execution_count": 559,
     "metadata": {},
     "output_type": "execute_result"
    }
   ],
   "source": [
    "function buildgraph(R, f1, f3; tol=1e-2, B=0) \n",
    "    f2 = 1.0-f1-f3\n",
    "    α = 1-R\n",
    "    k = floor(Int, (2-f1+f3)/α)\n",
    "    s = k+1-(2-f1+f3)/α\n",
    "    K = [fill(0,k-1); s; 1-s]\n",
    "    Λ = [f1, f2, f3]\n",
    "    m, n, nedges, rho, lambda = valid_degrees(K,Λ,3*5*7, B=1)\n",
    "    if B==0\n",
    "        B = 10^max(0, 3-round(Int,log10(n)))\n",
    "    end\n",
    "    m, n, nedges, rho, lambda = valid_degrees(K,Λ,3*5*7, B=B)\n",
    "    @assert isapprox(Λ, lambda, atol=tol)\n",
    "    @assert isapprox(lambda[1], f1, atol=tol)\n",
    "    @assert isapprox(R, rate(lambda, rho), atol=tol)\n",
    "    m, n, nedges, rho, lambda\n",
    "end\n",
    "\n",
    "field(t::Tuple) = (t[1]-t[2]) / 2"
   ]
  },
  {
   "cell_type": "code",
   "execution_count": 585,
   "metadata": {},
   "outputs": [
    {
     "data": {
      "text/plain": [
       "checkweights (generic function with 1 method)"
      ]
     },
     "execution_count": 585,
     "metadata": {},
     "output_type": "execute_result"
    }
   ],
   "source": [
    "function checkweights(R, f1; B=0, rng=Random.GLOBAL_RNG)\n",
    "    m, n, nedges, rho, lambda = buildgraph(R, f1, 0, B=B)\n",
    "    Ht = ldpc_matrix(n, m, nedges, lambda, rho, rng=rng)\n",
    "    H = permutedims(Ht)\n",
    "    B, indep = findbasis(H, Ht)\n",
    "    rk = length(indep)\n",
    "    @assert rk == n - m\n",
    "    efield = fill((1.0,-1.0), n)\n",
    "    ms = BPFull(H, efield, neutralel=(float(n), 0.0))\n",
    "    ε, iters = iteration_ms!(ms, maxiter=n, tol=1e-1, vars=collect(1:n), factors=collect(1:m))\n",
    "    h = field.(ms.belief)[indep]\n",
    "    b = vec(sum(B, dims=1))\n",
    "    h, b\n",
    "end"
   ]
  },
  {
   "cell_type": "code",
   "execution_count": 587,
   "metadata": {},
   "outputs": [
    {
     "data": {
      "text/plain": [
       "Int64[]"
      ]
     },
     "execution_count": 587,
     "metadata": {},
     "output_type": "execute_result"
    }
   ],
   "source": [
    "h, b = checkweights(R, 0.1)\n",
    "p = findall(h .< b)"
   ]
  },
  {
   "cell_type": "code",
   "execution_count": 584,
   "metadata": {},
   "outputs": [
    {
     "data": {
      "text/plain": [
       "5×10 SparseMatrixCSC{Bool, Int64} with 11 stored entries:\n",
       " ⋅  ⋅  ⋅  ⋅  ⋅  ⋅  ⋅  ⋅  1  ⋅\n",
       " ⋅  ⋅  ⋅  ⋅  ⋅  ⋅  1  1  ⋅  ⋅\n",
       " ⋅  1  1  ⋅  ⋅  ⋅  ⋅  ⋅  ⋅  1\n",
       " 1  ⋅  ⋅  ⋅  1  ⋅  ⋅  ⋅  ⋅  ⋅\n",
       " 1  ⋅  ⋅  1  ⋅  1  ⋅  ⋅  ⋅  ⋅"
      ]
     },
     "execution_count": 584,
     "metadata": {},
     "output_type": "execute_result"
    }
   ],
   "source": [
    "R = 0.5\n",
    "f1 = 0.8\n",
    "rng = MersenneTwister(0)\n",
    "B = 1\n",
    "m, n, nedges, rho, lambda = buildgraph(R, f1, 0, B=B)\n",
    "Ht = ldpc_matrix(n, m, nedges, lambda, rho, rng=rng)\n",
    "H = permutedims(Ht)\n",
    "B, indep = findbasis(H, Ht)\n",
    "rk = length(indep)\n",
    "@assert rk == n - m\n",
    "efield = fill((1.0,-1.0), n)\n",
    "ms = BPFull(H, efield )#, neutralel=(float(n), 0.0))\n",
    "H"
   ]
  },
  {
   "cell_type": "code",
   "execution_count": 588,
   "metadata": {},
   "outputs": [
    {
     "name": "stderr",
     "output_type": "stream",
     "text": [
      "\u001b[32mProgress: 100%|█████████████████████████████████████████| Time: 0:00:00\u001b[39m\n"
     ]
    },
    {
     "data": {
      "text/plain": [
       "0"
      ]
     },
     "execution_count": 588,
     "metadata": {},
     "output_type": "execute_result"
    }
   ],
   "source": [
    "using ProgressMeter\n",
    "R = 0.5\n",
    "f1 = 0.6\n",
    "nproblems = 0\n",
    "@showprogress for i in 1:100\n",
    "    rng = MersenneTwister(i+10^3)\n",
    "    h, b = checkweights(R, f1; B=0, rng=rng)\n",
    "    p = findall(h .< b)\n",
    "    nproblems += ( sum(p) != 0)\n",
    "end\n",
    "\n",
    "nproblems"
   ]
  },
  {
   "cell_type": "code",
   "execution_count": 563,
   "metadata": {},
   "outputs": [
    {
     "data": {
      "text/plain": [
       "0"
      ]
     },
     "execution_count": 563,
     "metadata": {},
     "output_type": "execute_result"
    }
   ],
   "source": [
    "nproblems"
   ]
  },
  {
   "cell_type": "code",
   "execution_count": 405,
   "metadata": {},
   "outputs": [
    {
     "data": {
      "text/plain": [
       "500×1000 SparseMatrixCSC{Bool, Int64} with 1797 stored entries:\n",
       "⠈⡀⣱⢀⢰⡪⠛⣴⢰⠮⣀⠸⠊⠲⠊⡍⣬⢂⣁⠇⣣⠑⡼⢅⠜⣡⠆⡇⣲⣖⡦⢘⠺⠐⡠⣦⠂⠲⠆⣀\n",
       "⢊⡰⢣⡸⢽⢅⠱⢑⣞⠗⠦⢭⢲⡦⡹⡖⢚⢧⠙⠣⣭⡔⠑⠔⣘⠤⣠⢒⠓⢈⣪⠗⡠⢲⠠⠪⣡⡮⡻⡆\n",
       "⠱⣆⠉⠋⡨⣰⣕⣠⡂⣵⡂⠐⣳⡓⣸⠝⠁⢇⠬⠉⠆⠜⢜⢸⡷⢀⡗⠋⠧⠴⠣⢫⠘⣧⣠⣡⡰⣶⢅⠾\n",
       "⡔⢔⢋⠶⢁⣊⠚⣜⢜⡈⣮⠫⢚⢕⡆⠈⣔⠋⠂⡸⣡⡢⣐⠣⢆⢾⡄⢮⣉⢕⣦⠀⢭⠕⠣⢙⢁⠆⡤⢂\n",
       "⣲⡧⢏⣫⢴⢊⣱⡮⡐⣖⠐⢧⡁⡀⡃⣛⠖⣩⡪⢘⠐⡉⢇⡅⢏⣂⡔⡤⡍⠭⠑⢸⠪⡚⠉⡜⠅⠜⣗⢦\n",
       "⠡⡻⢰⢣⠆⢑⠻⣈⡤⠿⠜⠎⠢⠐⡐⠊⡮⡄⣻⣘⣡⠛⣼⡡⢲⠭⣢⣣⢓⠰⠤⡋⣆⣊⢋⠔⠥⡚⢉⢂\n",
       "⠬⡙⠏⣢⠈⡀⢱⠒⢂⢰⣕⣇⡝⢒⢶⠭⡑⣰⡳⣆⠘⢁⢜⢭⡀⢫⠬⢬⠆⢤⣳⢞⡇⠩⠉⠭⡿⠼⢌⢀\n",
       "⠀⣌⠮⡖⢞⠥⢄⠉⣣⠐⢆⠯⢬⣓⡣⢕⡝⠋⡐⡣⣟⡩⢽⢦⢅⠈⢭⠫⡀⣲⡔⠆⠄⠛⣽⡱⠕⢨⠖⡈\n",
       "⢰⡬⠐⠳⣳⡣⡉⡻⠊⢀⡦⠐⡄⢎⠄⣓⠁⠁⣿⢧⢜⣋⡅⠊⠦⡯⡽⢰⣉⡮⡙⠺⡈⣰⠴⠏⠴⣀⠘⡡\n",
       "⣸⠌⠲⡃⠯⢑⠃⡥⠍⠩⢩⡉⠠⠒⠸⠘⡐⡴⢐⠗⠉⢧⠑⢇⢗⢿⠸⣑⢼⠉⠽⣅⢰⡖⠍⠔⠺⢀⠮⠄"
      ]
     },
     "execution_count": 405,
     "metadata": {},
     "output_type": "execute_result"
    }
   ],
   "source": [
    "R = 0.5\n",
    "f1 = 0.2\n",
    "m, n, nedges, rho, lambda = buildgraph(R, f1, 0, B=100)\n",
    "rng = MersenneTwister(0)\n",
    "Ht = ldpc_matrix(n, m, nedges, lambda, rho, rng=rng)\n",
    "H = permutedims(Ht)"
   ]
  },
  {
   "cell_type": "code",
   "execution_count": 424,
   "metadata": {},
   "outputs": [
    {
     "data": {
      "text/plain": [
       "0.5"
      ]
     },
     "execution_count": 424,
     "metadata": {},
     "output_type": "execute_result"
    }
   ],
   "source": [
    "B, indep = findbasis(H, Ht)\n",
    "rk = length(indep)\n",
    "rk/n"
   ]
  },
  {
   "cell_type": "code",
   "execution_count": 425,
   "metadata": {},
   "outputs": [
    {
     "data": {
      "text/plain": [
       "(0.0, 1000)"
      ]
     },
     "execution_count": 425,
     "metadata": {},
     "output_type": "execute_result"
    }
   ],
   "source": [
    "efield = fill((1.0,-1.0), n)\n",
    "ms = BPFull(H, efield )#, neutralel=(float(n), 0.0))\n",
    "ε, iters = iteration_ms!(ms, maxiter=n, tol=0, vars=collect(1:n), factors=collect(1:m))"
   ]
  },
  {
   "cell_type": "code",
   "execution_count": 426,
   "metadata": {},
   "outputs": [],
   "source": [
    "h = field.(ms.belief)[indep]\n",
    "b = vec(sum(B, dims=1)); "
   ]
  },
  {
   "cell_type": "code",
   "execution_count": 427,
   "metadata": {},
   "outputs": [],
   "source": [
    "indep;"
   ]
  },
  {
   "cell_type": "code",
   "execution_count": 428,
   "metadata": {},
   "outputs": [
    {
     "data": {
      "text/plain": [
       "Int64[]"
      ]
     },
     "execution_count": 428,
     "metadata": {},
     "output_type": "execute_result"
    }
   ],
   "source": [
    "p = findall(h .< b)\n",
    "# [ h[p] b[p] ]"
   ]
  },
  {
   "cell_type": "code",
   "execution_count": 399,
   "metadata": {},
   "outputs": [
    {
     "data": {
      "text/plain": [
       "0×3 Matrix{Int64}"
      ]
     },
     "execution_count": 399,
     "metadata": {},
     "output_type": "execute_result"
    }
   ],
   "source": [
    "[ indep[p] h[p] b[p] ]"
   ]
  },
  {
   "cell_type": "code",
   "execution_count": 339,
   "metadata": {},
   "outputs": [
    {
     "data": {
      "text/plain": [
       "1000×500 SparseMatrixCSC{Bool, Int64} with 2554 stored entries:\n",
       "⡮⠠⠤⢠⢙⣎⠇⠦⠣⠥⣂⠁⡐⡉⠛⣧⡽⢖⠴⠖⠵⠍⠻⠕⢞⣟\n",
       "⠨⠄⠀⠠⠈⢑⠌⣒⠒⠈⠱⢀⣄⠈⢄⡙⣎⠐⠜⠧⠥⠄⠚⡰⠽⡎\n",
       "⢠⠃⠑⡅⠀⡈⣧⣆⠄⠁⠅⢘⠀⠈⠀⡊⣿⡡⠚⠄⠈⢵⡙⢂⣕⣝\n",
       "⣰⠀⠠⡀⠀⢌⢫⣈⠥⢈⢊⡢⢤⠶⠔⢉⡘⣯⡢⡎⠘⠎⠖⢺⠬⣦\n",
       "⢈⡉⠔⢉⠀⠎⠿⡕⢠⠅⠠⠀⠑⠘⢂⡨⠳⢺⢇⢰⠼⠒⢄⣨⠹⢁\n",
       "⠉⠄⠂⠠⣤⣂⠕⠵⠁⠄⢠⠢⡀⢳⠄⢬⠈⠃⠼⠶⡄⢩⠀⠨⠐⠈\n",
       "⠁⠇⠪⠂⠔⢂⡀⢝⡧⠐⣆⠂⢑⠤⠔⠊⣂⠌⠈⢷⠃⠠⣎⡉⡃⢫\n",
       "⠀⡇⢔⠀⠩⠋⠐⢎⢝⡁⠀⠌⡐⢛⡜⠜⠦⢲⣑⠏⢧⡀⡀⣁⡈⡈\n",
       "⠐⢠⡈⡀⠀⢮⡀⠂⠸⡧⢀⠀⠍⠁⡉⡋⡅⢐⢲⠁⢹⠄⡲⢩⡂⠍\n",
       "⠐⢱⠁⢀⢠⢐⡀⠄⠠⡭⠪⠉⢈⠬⡑⡔⣔⠶⡙⢔⡽⢎⠳⢍⠡⠍\n",
       "⠉⢊⡄⠀⡊⠈⠀⠀⠀⡩⠉⢊⢤⠤⡨⡥⠌⠏⡯⠴⠠⢛⢹⠆⢔⠀\n",
       "⠈⠄⠂⠀⠨⠌⡈⠀⠂⠸⢒⠡⠨⢰⠠⠆⢀⢒⠢⢉⣁⠩⡑⢛⠛⡡\n",
       "⠀⠀⡆⠐⠀⠣⢘⡀⣱⠜⢯⠁⠰⠙⣜⡈⡀⢆⠅⢠⡘⠥⠧⠒⢖⠑\n",
       "⠀⡀⠓⠂⠀⡓⢀⡸⢸⠉⡬⠩⡦⠠⡂⠑⢂⢤⢌⢈⠫⣉⣑⠬⡉⠪\n",
       "⠀⠀⡝⠈⠈⠁⠆⠑⢈⠐⢠⢄⠂⠂⠲⠴⡐⠢⠡⠎⢵⠊⡶⢄⢎⡀\n",
       "⠀⢀⢨⠠⠉⢐⠀⢘⡧⠱⡀⣉⠀⠰⠔⡉⠠⠕⡲⠈⠀⠍⠭⡄⠗⠀\n",
       "⠀⠘⠐⣂⠀⠤⠝⠌⡑⠑⠡⠹⠁⡆⠢⠤⣀⠀⣠⠀⡂⠲⠉⣉⡃⣞\n",
       "⠀⠐⠐⠯⠀⣀⡘⠠⡆⠁⣠⢹⡆⠄⠜⠠⢈⠂⠠⢀⠙⢁⢁⣷⠀⡃\n",
       "⢀⠐⠠⣅⠀⠀⢁⠐⠈⢀⠀⠂⢵⠠⠙⡒⢦⢢⠟⢂⠭⣆⠔⠹⡜⠠\n",
       "⠂⡐⠐⠥⠤⠄⠊⢀⠔⠎⢍⣋⠩⠆⡑⡀⠌⡂⠄⠘⠍⢻⠢⣀⠢⡑\n",
       "⠀⠐⡠⢑⣀⠈⡉⠸⠁⠁⡢⠄⠔⠔⠨⠉⢃⠊⠡⢝⠪⢠⡸⢓⠜⠅\n",
       "⠀⠀⠂⢐⣉⠠⠑⠀⠁⡠⠡⠁⠒⡗⢘⠂⡈⠐⡈⠬⠄⠀⣡⠐⢭⣢\n",
       "⠈⠀⠀⠈⠃⠀⠀⣂⠠⠩⢀⡏⡨⠟⡬⣒⢖⢄⢢⡄⠰⠣⠒⡓⢝⡁\n",
       "⠈⠀⠀⢭⡆⠁⠢⠓⣐⣠⡁⢈⣠⡴⢈⠁⠲⠆⢆⡢⢂⠀⠀⡁⠀⡊\n",
       "⠀⠘⠐⡀⣢⠀⠄⠠⠆⠢⠀⣁⢤⣠⣴⢒⠈⢅⠤⡌⡰⢢⠁⠴⢵⡧\n",
       "⠀⠄⠀⡀⠘⠁⠬⠦⠀⠕⠄⠼⠃⡂⠓⢩⡲⠹⠢⡅⠃⢓⠑⠀⠌⠄"
      ]
     },
     "execution_count": 339,
     "metadata": {},
     "output_type": "execute_result"
    }
   ],
   "source": [
    "B"
   ]
  },
  {
   "cell_type": "code",
   "execution_count": 257,
   "metadata": {},
   "outputs": [
    {
     "ename": "LoadError",
     "evalue": "BoundsError: attempt to access 0-element Vector{Int64} at index [1]",
     "output_type": "error",
     "traceback": [
      "BoundsError: attempt to access 0-element Vector{Int64} at index [1]",
      "",
      "Stacktrace:",
      " [1] getindex(A::Vector{Int64}, i1::Int64)",
      "   @ Base ./array.jl:801",
      " [2] top-level scope",
      "   @ In[257]:1",
      " [3] eval",
      "   @ ./boot.jl:360 [inlined]",
      " [4] include_string(mapexpr::typeof(REPL.softscope), mod::Module, code::String, filename::String)",
      "   @ Base ./loading.jl:1094"
     ]
    }
   ],
   "source": [
    "i = indep[p[1]]\n",
    "∂i = nzrange(ms.H, i)\n",
    "ms.u[∂i]"
   ]
  },
  {
   "cell_type": "code",
   "execution_count": 230,
   "metadata": {},
   "outputs": [
    {
     "data": {
      "text/plain": [
       "4-element Vector{Tuple{Float64, Float64}}:\n",
       " (0.0, -2.0)\n",
       " (0.0, -2.0)\n",
       " (0.0, -2.0)\n",
       " (0.0, -2.0)"
      ]
     },
     "execution_count": 230,
     "metadata": {},
     "output_type": "execute_result"
    }
   ],
   "source": [
    "a = 5\n",
    "∂a = nonzeros(ms.X)[nzrange(ms.X, a)]\n",
    "ms.u[∂a]"
   ]
  },
  {
   "cell_type": "code",
   "execution_count": null,
   "metadata": {},
   "outputs": [],
   "source": []
  },
  {
   "cell_type": "code",
   "execution_count": null,
   "metadata": {},
   "outputs": [],
   "source": []
  },
  {
   "cell_type": "code",
   "execution_count": null,
   "metadata": {},
   "outputs": [],
   "source": []
  },
  {
   "cell_type": "code",
   "execution_count": 109,
   "metadata": {},
   "outputs": [],
   "source": [
    "# pl = bar(h, label=\"shortest paths\", la=0, alpha=0.5)\n",
    "# bar!(pl, b, label=\"basis vectors\", la=0, fillstyles=:x)\n",
    "# plot(pl, size=(900,300), legend=:bottomright)"
   ]
  },
  {
   "cell_type": "code",
   "execution_count": null,
   "metadata": {},
   "outputs": [],
   "source": []
  },
  {
   "cell_type": "code",
   "execution_count": null,
   "metadata": {},
   "outputs": [],
   "source": []
  },
  {
   "cell_type": "code",
   "execution_count": null,
   "metadata": {},
   "outputs": [],
   "source": []
  },
  {
   "cell_type": "code",
   "execution_count": null,
   "metadata": {},
   "outputs": [],
   "source": []
  },
  {
   "cell_type": "code",
   "execution_count": null,
   "metadata": {},
   "outputs": [],
   "source": []
  }
 ],
 "metadata": {
  "kernelspec": {
   "display_name": "Julia 1.6.1-pre",
   "language": "julia",
   "name": "julia-1.6"
  },
  "language_info": {
   "file_extension": ".jl",
   "mimetype": "application/julia",
   "name": "julia",
   "version": "1.6.1"
  }
 },
 "nbformat": 4,
 "nbformat_minor": 4
}
