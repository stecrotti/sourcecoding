{
 "cells": [
  {
   "cell_type": "code",
   "execution_count": 18,
   "metadata": {},
   "outputs": [
    {
     "data": {
      "image/png": "[encoded data removed]",
      "text/plain": [
       "183×160 Array{Gray{N0f8},2} with eltype Gray{Normed{UInt8,8}}:\n",
       " Gray{N0f8}(1.0)  Gray{N0f8}(1.0)  …  Gray{N0f8}(1.0)  Gray{N0f8}(1.0)\n",
       " Gray{N0f8}(1.0)  Gray{N0f8}(1.0)     Gray{N0f8}(1.0)  Gray{N0f8}(1.0)\n",
       " Gray{N0f8}(1.0)  Gray{N0f8}(1.0)     Gray{N0f8}(1.0)  Gray{N0f8}(1.0)\n",
       " Gray{N0f8}(1.0)  Gray{N0f8}(1.0)     Gray{N0f8}(1.0)  Gray{N0f8}(1.0)\n",
       " Gray{N0f8}(1.0)  Gray{N0f8}(1.0)     Gray{N0f8}(1.0)  Gray{N0f8}(1.0)\n",
       " Gray{N0f8}(1.0)  Gray{N0f8}(1.0)  …  Gray{N0f8}(1.0)  Gray{N0f8}(1.0)\n",
       " Gray{N0f8}(1.0)  Gray{N0f8}(1.0)     Gray{N0f8}(1.0)  Gray{N0f8}(1.0)\n",
       " Gray{N0f8}(1.0)  Gray{N0f8}(1.0)     Gray{N0f8}(1.0)  Gray{N0f8}(1.0)\n",
       " Gray{N0f8}(1.0)  Gray{N0f8}(1.0)     Gray{N0f8}(1.0)  Gray{N0f8}(1.0)\n",
       " Gray{N0f8}(1.0)  Gray{N0f8}(1.0)     Gray{N0f8}(1.0)  Gray{N0f8}(1.0)\n",
       " Gray{N0f8}(1.0)  Gray{N0f8}(1.0)  …  Gray{N0f8}(1.0)  Gray{N0f8}(1.0)\n",
       " Gray{N0f8}(1.0)  Gray{N0f8}(1.0)     Gray{N0f8}(1.0)  Gray{N0f8}(1.0)\n",
       " Gray{N0f8}(1.0)  Gray{N0f8}(1.0)     Gray{N0f8}(1.0)  Gray{N0f8}(1.0)\n",
       " ⋮                                 ⋱                   \n",
       " Gray{N0f8}(1.0)  Gray{N0f8}(1.0)     Gray{N0f8}(1.0)  Gray{N0f8}(1.0)\n",
       " Gray{N0f8}(1.0)  Gray{N0f8}(1.0)     Gray{N0f8}(1.0)  Gray{N0f8}(1.0)\n",
       " Gray{N0f8}(1.0)  Gray{N0f8}(1.0)     Gray{N0f8}(1.0)  Gray{N0f8}(1.0)\n",
       " Gray{N0f8}(1.0)  Gray{N0f8}(1.0)     Gray{N0f8}(1.0)  Gray{N0f8}(1.0)\n",
       " Gray{N0f8}(1.0)  Gray{N0f8}(1.0)  …  Gray{N0f8}(1.0)  Gray{N0f8}(1.0)\n",
       " Gray{N0f8}(1.0)  Gray{N0f8}(1.0)     Gray{N0f8}(1.0)  Gray{N0f8}(1.0)\n",
       " Gray{N0f8}(1.0)  Gray{N0f8}(1.0)     Gray{N0f8}(1.0)  Gray{N0f8}(1.0)\n",
       " Gray{N0f8}(1.0)  Gray{N0f8}(1.0)     Gray{N0f8}(1.0)  Gray{N0f8}(1.0)\n",
       " Gray{N0f8}(1.0)  Gray{N0f8}(1.0)     Gray{N0f8}(1.0)  Gray{N0f8}(1.0)\n",
       " Gray{N0f8}(1.0)  Gray{N0f8}(1.0)  …  Gray{N0f8}(1.0)  Gray{N0f8}(1.0)\n",
       " Gray{N0f8}(1.0)  Gray{N0f8}(1.0)     Gray{N0f8}(1.0)  Gray{N0f8}(1.0)\n",
       " Gray{N0f8}(1.0)  Gray{N0f8}(1.0)     Gray{N0f8}(1.0)  Gray{N0f8}(1.0)"
      ]
     },
     "metadata": {},
     "output_type": "display_data"
    }
   ],
   "source": [
    "using ImageMagick, Images, ImageTransformations\n",
    "download(\"https://upload.wikimedia.org/wikipedia/commons/thumb/1/17/Yin_yang.svg/699px-Yin_yang.svg.png\", \"yy.png\")\n",
    "im = Gray.(imresize(load(\"stewie.png\"), ratio=0.4))\n",
    "img = Int.(round.(im))\n",
    "display(imresize(im, ratio=1))"
   ]
  },
  {
   "cell_type": "code",
   "execution_count": 19,
   "metadata": {},
   "outputs": [
    {
     "data": {
      "text/plain": [
       "29280"
      ]
     },
     "execution_count": 19,
     "metadata": {},
     "output_type": "execute_result"
    }
   ],
   "source": [
    "y = vcat(img...)\n",
    "length(y)"
   ]
  },
  {
   "cell_type": "code",
   "execution_count": 20,
   "metadata": {},
   "outputs": [
    {
     "data": {
      "text/plain": [
       "7320"
      ]
     },
     "execution_count": 20,
     "metadata": {},
     "output_type": "execute_result"
    }
   ],
   "source": [
    "include(\"../code/headers.jl\")\n",
    "q = 2\n",
    "n = length(y)\n",
    "R = reverse(0.2:0.2:0.8)\n",
    "nrates = length(R)\n",
    "m = Int.(round.(n*(1 .- R)))\n",
    "seed = 234\n",
    "algo = OptimalCycle()\n",
    "compressed = [zeros(Int,n) for r in R]\n",
    "\n",
    "nchunks = 4\n",
    "@assert mod(n, nchunks)==0\n",
    "@assert all([mod(mm, nchunks)==0 for mm in m])\n",
    "chunk_length = div(n, nchunks)"
   ]
  },
  {
   "cell_type": "code",
   "execution_count": 21,
   "metadata": {},
   "outputs": [
    {
     "name": "stdout",
     "output_type": "stream",
     "text": [
      "-- Rate 1 of 4: \n",
      "--- Chunk 1 of 4\n",
      "Iter 1. Distortion 0.7627. Cycle weight -2928.0. Energy shift -1464.0\n",
      "Iter 2. Distortion 0.5627. Cycle weight -2928.0. Energy shift -1464.0\n",
      "Iter 3. Distortion 0.3627. Cycle weight -2928.0. Energy shift -1464.0\n",
      "Iter 4. Distortion 0.1634. Cycle weight -2918.0. Energy shift -1459.0\n",
      "Iter 5. Distortion 0.0277. Cycle weight -1986.0. Energy shift -993.0\n",
      "Iter 6. Distortion 0.0277. Cycle weight 0.0. Energy shift 0.0\n",
      "--- Chunk 2 of 4\n",
      "Iter 1. Distortion 0.7276. Cycle weight -2928.0. Energy shift -1464.0\n",
      "Iter 2. Distortion 0.5276. Cycle weight -2928.0. Energy shift -1464.0\n",
      "Iter 3. Distortion 0.3277. Cycle weight -2926.0. Energy shift -1463.0\n",
      "Iter 4. Distortion 0.1351. Cycle weight -2820.0. Energy shift -1410.0\n",
      "Iter 5. Distortion 0.0393. Cycle weight -1402.0. Energy shift -701.0\n",
      "Iter 6. Distortion 0.0392. Cycle weight -2.0. Energy shift -1.0\n",
      "Iter 7. Distortion 0.0392. Cycle weight 0.0. Energy shift 0.0\n",
      "--- Chunk 3 of 4\n",
      "Iter 1. Distortion 0.6746. Cycle weight -2928.0. Energy shift -1464.0\n",
      "Iter 2. Distortion 0.4746. Cycle weight -2928.0. Energy shift -1464.0\n",
      "Iter 3. Distortion 0.2758. Cycle weight -2910.0. Energy shift -1455.0\n",
      "Iter 4. Distortion 0.1034. Cycle weight -2524.0. Energy shift -1262.0\n",
      "Iter 5. Distortion 0.0474. Cycle weight -820.0. Energy shift -410.0\n",
      "Iter 6. Distortion 0.0473. Cycle weight -2.0. Energy shift -1.0\n",
      "Iter 7. Distortion 0.0473. Cycle weight 0.0. Energy shift 0.0\n",
      "--- Chunk 4 of 4\n",
      "Iter 1. Distortion 0.7392. Cycle weight -2928.0. Energy shift -1464.0\n",
      "Iter 2. Distortion 0.5392. Cycle weight -2928.0. Energy shift -1464.0\n",
      "Iter 3. Distortion 0.3392. Cycle weight -2928.0. Energy shift -1464.0\n",
      "Iter 4. Distortion 0.1436. Cycle weight -2864.0. Energy shift -1432.0\n",
      "Iter 5. Distortion 0.0365. Cycle weight -1568.0. Energy shift -784.0\n",
      "Iter 6. Distortion 0.0363. Cycle weight -2.0. Energy shift -1.0\n",
      "Iter 7. Distortion 0.0363. Cycle weight 0.0. Energy shift 0.0\n",
      "-- Rate 2 of 4: \n",
      "--- Chunk 1 of 4\n",
      "Iter 1. Distortion 0.5627. Cycle weight -5856.0. Energy shift -2928.0\n",
      "Iter 2. Distortion 0.1708. Cycle weight -5738.0. Energy shift -2869.0\n",
      "Iter 3. Distortion 0.1698. Cycle weight -14.0. Energy shift -7.0\n",
      "Iter 4. Distortion 0.1698. Cycle weight 0.0. Energy shift 0.0\n",
      "--- Chunk 2 of 4\n",
      "Iter 1. Distortion 0.5277. Cycle weight -5854.0. Energy shift -2927.0\n",
      "Iter 2. Distortion 0.1518. Cycle weight -5504.0. Energy shift -2752.0\n",
      "Iter 3. Distortion 0.1471. Cycle weight -68.0. Energy shift -34.0\n",
      "Iter 4. Distortion 0.1471. Cycle weight 0.0. Energy shift 0.0\n",
      "--- Chunk 3 of 4\n",
      "Iter 1. Distortion 0.4747. Cycle weight -5854.0. Energy shift -2927.0\n",
      "Iter 2. Distortion 0.1378. Cycle weight -4932.0. Energy shift -2466.0\n",
      "Iter 3. Distortion 0.1257. Cycle weight -178.0. Energy shift -89.0\n",
      "Iter 4. Distortion 0.1257. Cycle weight 0.0. Energy shift 0.0\n",
      "--- Chunk 4 of 4\n",
      "Iter 1. Distortion 0.5396. Cycle weight -5850.0. Energy shift -2925.0\n",
      "Iter 2. Distortion 0.156. Cycle weight -5616.0. Energy shift -2808.0\n",
      "Iter 3. Distortion 0.1527. Cycle weight -48.0. Energy shift -24.0\n",
      "Iter 4. Distortion 0.1527. Cycle weight 0.0. Energy shift 0.0\n",
      "-- Rate 3 of 4: \n",
      "--- Chunk 1 of 4\n",
      "Iter 1. Distortion 0.3646. Cycle weight -8756.0. Energy shift -4378.0\n",
      "Iter 2. Distortion 0.2232. Cycle weight -2070.0. Energy shift -1035.0\n",
      "Iter 3. Distortion 0.222. Cycle weight -18.0. Energy shift -9.0\n",
      "Iter 4. Distortion 0.222. Cycle weight 0.0. Energy shift 0.0\n",
      "--- Chunk 2 of 4\n",
      "Iter 1. Distortion 0.3344. Cycle weight -8684.0. Energy shift -4342.0\n",
      "Iter 2. Distortion 0.2146. Cycle weight -1754.0. Energy shift -877.0\n",
      "Iter 3. Distortion 0.2143. Cycle weight -4.0. Energy shift -2.0\n",
      "Iter 4. Distortion 0.2143. Cycle weight 0.0. Energy shift 0.0\n",
      "--- Chunk 3 of 4\n",
      "Iter 1. Distortion 0.299. Cycle weight -8426.0. Energy shift -4213.0\n",
      "Iter 2. Distortion 0.2059. Cycle weight -1364.0. Energy shift -682.0\n",
      "Iter 3. Distortion 0.2052. Cycle weight -10.0. Energy shift -5.0\n",
      "Iter 4. Distortion 0.2052. Cycle weight 0.0. Energy shift 0.0\n",
      "--- Chunk 4 of 4\n",
      "Iter 1. Distortion 0.3445. Cycle weight -8706.0. Energy shift -4353.0\n",
      "Iter 2. Distortion 0.2168. Cycle weight -1870.0. Energy shift -935.0\n",
      "Iter 3. Distortion 0.216. Cycle weight -12.0. Energy shift -6.0\n",
      "Iter 4. Distortion 0.216. Cycle weight 0.0. Energy shift 0.0\n",
      "-- Rate 4 of 4: \n",
      "--- Chunk 1 of 4\n",
      "Iter 1. Distortion 0.2395. Cycle weight -10588.0. Energy shift -5294.0\n",
      "Iter 2. Distortion 0.2395. Cycle weight 0.0. Energy shift 0.0\n",
      "--- Chunk 2 of 4\n",
      "Iter 1. Distortion 0.2447. Cycle weight -9998.0. Energy shift -4999.0\n",
      "Iter 2. Distortion 0.2447. Cycle weight 0.0. Energy shift 0.0\n",
      "--- Chunk 3 of 4\n",
      "Iter 1. Distortion 0.253. Cycle weight -9100.0. Energy shift -4550.0\n",
      "Iter 2. Distortion 0.253. Cycle weight 0.0. Energy shift 0.0\n",
      "--- Chunk 4 of 4\n",
      "Iter 1. Distortion 0.2433. Cycle weight -10188.0. Energy shift -5094.0\n",
      "Iter 2. Distortion 0.2433. Cycle weight 0.0. Energy shift 0.0\n"
     ]
    }
   ],
   "source": [
    "for j in 1:nrates\n",
    "    println(\"-- Rate $j of $nrates: \")\n",
    "    for c in 1:nchunks\n",
    "        println(\"--- Chunk $c of $nchunks\")\n",
    "        lm = LossyModel(q, chunk_length, div(m[j], nchunks), y=y[(c-1)*chunk_length+1:c*chunk_length])\n",
    "        breduction!(lm,1)\n",
    "        res = solve!(lm, algo, randseed=seed, verbose=true, showprogress=true)\n",
    "        compressed[j][(c-1)*chunk_length+1:c*chunk_length] = lm.x\n",
    "    end\n",
    "end"
   ]
  },
  {
   "cell_type": "code",
   "execution_count": 22,
   "metadata": {},
   "outputs": [
    {
     "data": {
      "image/png": "[encoded data removed]",
      "text/plain": [
       "183×800 Array{Gray{N0f8},2} with eltype Gray{Normed{UInt8,8}}:\n",
       " Gray{N0f8}(1.0)  Gray{N0f8}(1.0)  …  Gray{N0f8}(1.0)  Gray{N0f8}(0.0)\n",
       " Gray{N0f8}(1.0)  Gray{N0f8}(1.0)     Gray{N0f8}(0.0)  Gray{N0f8}(1.0)\n",
       " Gray{N0f8}(1.0)  Gray{N0f8}(1.0)     Gray{N0f8}(1.0)  Gray{N0f8}(1.0)\n",
       " Gray{N0f8}(1.0)  Gray{N0f8}(1.0)     Gray{N0f8}(1.0)  Gray{N0f8}(1.0)\n",
       " Gray{N0f8}(1.0)  Gray{N0f8}(1.0)     Gray{N0f8}(0.0)  Gray{N0f8}(1.0)\n",
       " Gray{N0f8}(1.0)  Gray{N0f8}(1.0)  …  Gray{N0f8}(1.0)  Gray{N0f8}(1.0)\n",
       " Gray{N0f8}(1.0)  Gray{N0f8}(1.0)     Gray{N0f8}(1.0)  Gray{N0f8}(1.0)\n",
       " Gray{N0f8}(1.0)  Gray{N0f8}(1.0)     Gray{N0f8}(1.0)  Gray{N0f8}(1.0)\n",
       " Gray{N0f8}(1.0)  Gray{N0f8}(1.0)     Gray{N0f8}(1.0)  Gray{N0f8}(1.0)\n",
       " Gray{N0f8}(1.0)  Gray{N0f8}(1.0)     Gray{N0f8}(1.0)  Gray{N0f8}(1.0)\n",
       " Gray{N0f8}(1.0)  Gray{N0f8}(1.0)  …  Gray{N0f8}(1.0)  Gray{N0f8}(1.0)\n",
       " Gray{N0f8}(1.0)  Gray{N0f8}(1.0)     Gray{N0f8}(1.0)  Gray{N0f8}(1.0)\n",
       " Gray{N0f8}(1.0)  Gray{N0f8}(1.0)     Gray{N0f8}(1.0)  Gray{N0f8}(0.0)\n",
       " ⋮                                 ⋱                   \n",
       " Gray{N0f8}(1.0)  Gray{N0f8}(1.0)     Gray{N0f8}(1.0)  Gray{N0f8}(1.0)\n",
       " Gray{N0f8}(1.0)  Gray{N0f8}(1.0)     Gray{N0f8}(1.0)  Gray{N0f8}(1.0)\n",
       " Gray{N0f8}(1.0)  Gray{N0f8}(1.0)     Gray{N0f8}(1.0)  Gray{N0f8}(1.0)\n",
       " Gray{N0f8}(1.0)  Gray{N0f8}(1.0)     Gray{N0f8}(0.0)  Gray{N0f8}(1.0)\n",
       " Gray{N0f8}(1.0)  Gray{N0f8}(1.0)  …  Gray{N0f8}(1.0)  Gray{N0f8}(1.0)\n",
       " Gray{N0f8}(1.0)  Gray{N0f8}(1.0)     Gray{N0f8}(0.0)  Gray{N0f8}(1.0)\n",
       " Gray{N0f8}(1.0)  Gray{N0f8}(1.0)     Gray{N0f8}(0.0)  Gray{N0f8}(1.0)\n",
       " Gray{N0f8}(1.0)  Gray{N0f8}(1.0)     Gray{N0f8}(1.0)  Gray{N0f8}(1.0)\n",
       " Gray{N0f8}(1.0)  Gray{N0f8}(1.0)     Gray{N0f8}(1.0)  Gray{N0f8}(1.0)\n",
       " Gray{N0f8}(1.0)  Gray{N0f8}(1.0)  …  Gray{N0f8}(1.0)  Gray{N0f8}(1.0)\n",
       " Gray{N0f8}(1.0)  Gray{N0f8}(1.0)     Gray{N0f8}(0.0)  Gray{N0f8}(0.0)\n",
       " Gray{N0f8}(1.0)  Gray{N0f8}(1.0)     Gray{N0f8}(0.0)  Gray{N0f8}(1.0)"
      ]
     },
     "metadata": {},
     "output_type": "display_data"
    }
   ],
   "source": [
    "compressed_imgs = [reshape(x, size(im)) for x in compressed]\n",
    "display(imresize(Gray.(hcat(img, compressed_imgs...)), ratio=1))"
   ]
  }
 ],
 "metadata": {
  "kernelspec": {
   "display_name": "Julia 1.5.3",
   "language": "julia",
   "name": "julia-1.5"
  },
  "language_info": {
   "file_extension": ".jl",
   "mimetype": "application/julia",
   "name": "julia",
   "version": "1.5.3"
  }
 },
 "nbformat": 4,
 "nbformat_minor": 4
}
