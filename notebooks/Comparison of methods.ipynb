{
 "cells": [
  {
   "cell_type": "markdown",
   "metadata": {},
   "source": [
    "## Pretty plotting of results"
   ]
  },
  {
   "cell_type": "code",
   "execution_count": 1,
   "metadata": {},
   "outputs": [],
   "source": [
    "using JLD2\n",
    "include(\"../code/headers.jl\");"
   ]
  },
  {
   "cell_type": "code",
   "execution_count": 7,
   "metadata": {},
   "outputs": [],
   "source": [
    "# Load plot from file\n",
    "# JLD2.@load \"../code/test/method_comparison2.jld\" pl;"
   ]
  },
  {
   "cell_type": "markdown",
   "metadata": {},
   "source": [
    "Better code that will hopefully work at some point..."
   ]
  },
  {
   "cell_type": "code",
   "execution_count": 6,
   "metadata": {},
   "outputs": [
    {
     "name": "stderr",
     "output_type": "stream",
     "text": [
      "┌ Warning: type Main.#zero_codeword#1224 does not exist in workspace; reconstructing\n",
      "└ @ JLD2 /home/crotti/.julia/packages/JLD2/aRhgS/src/data.jl:1160\n"
     ]
    },
    {
     "ename": "LoadError",
     "evalue": "MethodError: Cannot `convert` an object of type JLD2.ReconstructedTypes.var\"##Main.#zero_codeword#1224#268\" to an object of type Function\nClosest candidates are:\n  convert(::Type{T}, !Matched::T) where T at essentials.jl:171",
     "output_type": "error",
     "traceback": [
      "MethodError: Cannot `convert` an object of type JLD2.ReconstructedTypes.var\"##Main.#zero_codeword#1224#268\" to an object of type Function\nClosest candidates are:\n  convert(::Type{T}, !Matched::T) where T at essentials.jl:171",
      "",
      "Stacktrace:",
      " [1] jlconvert at /home/crotti/.julia/packages/JLD2/aRhgS/src/data.jl:681 [inlined]",
      " [2] macro expansion at /home/crotti/.julia/packages/JLD2/aRhgS/src/data.jl:1427 [inlined]",
      " [3] jlconvert(::JLD2.ReadRepresentation{OptimalCycle,JLD2.OnDiskRepresentation{(0,),Tuple{Function},Tuple{JLD2.RelOffset}}()}, ::JLD2.JLDFile{JLD2.MmapIO}, ::Ptr{Nothing}, ::JLD2.RelOffset) at /home/crotti/.julia/packages/JLD2/aRhgS/src/data.jl:1372",
      " [4] read_scalar at /home/crotti/.julia/packages/JLD2/aRhgS/src/dataio.jl:37 [inlined]",
      " [5] read_data(::JLD2.JLDFile{JLD2.MmapIO}, ::JLD2.ReadRepresentation{OptimalCycle,JLD2.OnDiskRepresentation{(0,),Tuple{Function},Tuple{JLD2.RelOffset}}()}, ::Tuple{JLD2.ReadDataspace,JLD2.RelOffset,Int64,UInt16}, ::Array{JLD2.ReadAttribute,1}) at /home/crotti/.julia/packages/JLD2/aRhgS/src/datasets.jl:170",
      " [6] read_data(::JLD2.JLDFile{JLD2.MmapIO}, ::JLD2.ReadDataspace, ::UInt8, ::Int64, ::Int64, ::Int64, ::UInt16, ::JLD2.RelOffset, ::Array{JLD2.ReadAttribute,1}) at /home/crotti/.julia/packages/JLD2/aRhgS/src/datasets.jl:149",
      " [7] load_dataset(::JLD2.JLDFile{JLD2.MmapIO}, ::JLD2.RelOffset) at /home/crotti/.julia/packages/JLD2/aRhgS/src/datasets.jl:92",
      " [8] jlconvert at /home/crotti/.julia/packages/JLD2/aRhgS/src/data.jl:680 [inlined]",
      " [9] macro expansion at /home/crotti/.julia/packages/JLD2/aRhgS/src/data.jl:1427 [inlined]",
      " [10] jlconvert(::JLD2.ReadRepresentation{Simulation{OptimalCycle},JLD2.OnDiskRepresentation{(0, 8, 16, 24, 32, 40, 48, 49, 57),Tuple{Int64,Int64,Int64,LossyAlgo,Int64,Int64,Bool,Array{LossyResults,1},Array{Float64,1}},Tuple{Int64,Int64,Int64,JLD2.RelOffset,Int64,Int64,Bool,JLD2.RelOffset,JLD2.RelOffset}}()}, ::JLD2.JLDFile{JLD2.MmapIO}, ::Ptr{Nothing}, ::JLD2.RelOffset) at /home/crotti/.julia/packages/JLD2/aRhgS/src/data.jl:1372",
      " [11] read_scalar at /home/crotti/.julia/packages/JLD2/aRhgS/src/dataio.jl:37 [inlined]",
      " [12] read_data(::JLD2.JLDFile{JLD2.MmapIO}, ::JLD2.ReadRepresentation{Simulation{OptimalCycle},JLD2.OnDiskRepresentation{(0, 8, 16, 24, 32, 40, 48, 49, 57),Tuple{Int64,Int64,Int64,LossyAlgo,Int64,Int64,Bool,Array{LossyResults,1},Array{Float64,1}},Tuple{Int64,Int64,Int64,JLD2.RelOffset,Int64,Int64,Bool,JLD2.RelOffset,JLD2.RelOffset}}()}, ::Tuple{JLD2.ReadDataspace,JLD2.RelOffset,Int64,UInt16}, ::Array{JLD2.ReadAttribute,1}) at /home/crotti/.julia/packages/JLD2/aRhgS/src/datasets.jl:170",
      " [13] read_data(::JLD2.JLDFile{JLD2.MmapIO}, ::JLD2.ReadDataspace, ::UInt8, ::Int64, ::Int64, ::Int64, ::UInt16, ::JLD2.RelOffset, ::Array{JLD2.ReadAttribute,1}) at /home/crotti/.julia/packages/JLD2/aRhgS/src/datasets.jl:149",
      " [14] load_dataset(::JLD2.JLDFile{JLD2.MmapIO}, ::JLD2.RelOffset) at /home/crotti/.julia/packages/JLD2/aRhgS/src/datasets.jl:92",
      " [15] jlconvert at /home/crotti/.julia/packages/JLD2/aRhgS/src/data.jl:680 [inlined]",
      " [16] macro expansion at /home/crotti/.julia/packages/JLD2/aRhgS/src/dataio.jl:70 [inlined]",
      " [17] macro expansion at ./simdloop.jl:77 [inlined]",
      " [18] read_array!(::Array{Simulation{OptimalCycle},1}, ::JLD2.JLDFile{JLD2.MmapIO}, ::JLD2.ReadRepresentation{Simulation{OptimalCycle},JLD2.RelOffset}) at /home/crotti/.julia/packages/JLD2/aRhgS/src/dataio.jl:68",
      " [19] read_array(::JLD2.JLDFile{JLD2.MmapIO}, ::JLD2.ReadDataspace, ::JLD2.ReadRepresentation{Simulation{OptimalCycle},JLD2.RelOffset}, ::Int64, ::UInt16, ::JLD2.RelOffset, ::Array{JLD2.ReadAttribute,1}) at /home/crotti/.julia/packages/JLD2/aRhgS/src/datasets.jl:326",
      " [20] read_data(::JLD2.JLDFile{JLD2.MmapIO}, ::JLD2.ReadRepresentation{Any,JLD2.RelOffset}, ::Tuple{JLD2.ReadDataspace,JLD2.RelOffset,Int64,UInt16}, ::Array{JLD2.ReadAttribute,1}) at /home/crotti/.julia/packages/JLD2/aRhgS/src/datasets.jl:200",
      " [21] macro expansion at /home/crotti/.julia/packages/JLD2/aRhgS/src/datasets.jl:156 [inlined]",
      " [22] macro expansion at /home/crotti/.julia/packages/JLD2/aRhgS/src/datatypes.jl:76 [inlined]",
      " [23] read_data(::JLD2.JLDFile{JLD2.MmapIO}, ::JLD2.ReadDataspace, ::UInt8, ::Int64, ::Int64, ::Int64, ::UInt16, ::JLD2.RelOffset, ::Array{JLD2.ReadAttribute,1}) at /home/crotti/.julia/packages/JLD2/aRhgS/src/datasets.jl:152",
      " [24] load_dataset(::JLD2.JLDFile{JLD2.MmapIO}, ::JLD2.RelOffset) at /home/crotti/.julia/packages/JLD2/aRhgS/src/datasets.jl:92",
      " [25] getindex(::JLD2.Group{JLD2.JLDFile{JLD2.MmapIO}}, ::String) at /home/crotti/.julia/packages/JLD2/aRhgS/src/groups.jl:108",
      " [26] read(::JLD2.JLDFile{JLD2.MmapIO}, ::String) at /home/crotti/.julia/packages/JLD2/aRhgS/src/JLD2.jl:338",
      " [27] #328 at /home/crotti/.julia/packages/JLD2/aRhgS/src/loadsave.jl:145 [inlined]",
      " [28] jldopen(::var\"#328#329\", ::String; kws::Base.Iterators.Pairs{Union{},Union{},Tuple{},NamedTuple{(),Tuple{}}}) at /home/crotti/.julia/packages/JLD2/aRhgS/src/loadsave.jl:4",
      " [29] jldopen(::Function, ::String) at /home/crotti/.julia/packages/JLD2/aRhgS/src/loadsave.jl:2",
      " [30] top-level scope at /home/crotti/.julia/packages/JLD2/aRhgS/src/loadsave.jl:144"
     ]
    }
   ],
   "source": [
    "JLD2.@load \"../code/method_comparison3.jld\" sims_ms sims_cycles sims_sa\n",
    "\n",
    "println(\"Graph size: \", sims_cycles[1].n, \"\\n\")\n",
    "println(\"Max-sum details: \", sims_ms[1].algo, \"Removed factors b=\", sims_ms[1].b, \"\\n\")\n",
    "println(\"Simulated annealing details: \", sims_sa[1].algo)\n",
    "\n",
    "ms = 3 # marker size\n",
    "pl = plot(sims_ms, label=\"Max-Sum\", size=(600,400), legend=:outertopright, dpi=200, ms=ms, marker=:square)\n",
    "plot!(pl, sims_cycles, label=\"Optimal cycle\", ms=ms)\n",
    "plot!(pl, sims_sa, label=\"Simulated annealing\", ms=ms, marker=:diamond)"
   ]
  },
  {
   "cell_type": "code",
   "execution_count": 3,
   "metadata": {},
   "outputs": [
    {
     "ename": "LoadError",
     "evalue": "UndefVarError: pl not defined",
     "output_type": "error",
     "traceback": [
      "UndefVarError: pl not defined",
      "",
      "Stacktrace:",
      " [1] top-level scope at In[3]:1"
     ]
    }
   ],
   "source": [
    "plot(pl)"
   ]
  },
  {
   "cell_type": "code",
   "execution_count": 5,
   "metadata": {},
   "outputs": [],
   "source": [
    "# savefig(pl, \"method_comparison.png\")"
   ]
  },
  {
   "cell_type": "code",
   "execution_count": null,
   "metadata": {},
   "outputs": [],
   "source": []
  }
 ],
 "metadata": {
  "kernelspec": {
   "display_name": "Julia 1.5.3",
   "language": "julia",
   "name": "julia-1.5"
  },
  "language_info": {
   "file_extension": ".jl",
   "mimetype": "application/julia",
   "name": "julia",
   "version": "1.5.3"
  }
 },
 "nbformat": 4,
 "nbformat_minor": 4
}
