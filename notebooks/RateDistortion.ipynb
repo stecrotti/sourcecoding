{
 "cells": [
  {
   "cell_type": "markdown",
   "metadata": {},
   "source": [
    "Max-Sum equations\n",
    "--\n",
    "\n",
    "\\begin{align*}\n",
    "u_{ai}\\left(\\sigma_{i}\\right)= &\\sigma_{i}f_{ai}+g_{ai}\\\\\n",
    "u_{ai}\\left(\\sigma_{i}\\right)= & \\max_{\\{\\sigma_{j}:j\\in\\partial a\\setminus i\\}:\\prod_{j}\\sigma_{j}=1}\\sum_{j\\in\\partial a\\setminus i}u_{ja}\\left(\\sigma_{j}\\right)+\\sigma_{j}s_{j}+const\\\\\n",
    "b_{i}\\left(\\sigma_{i}\\right)= & u_{ai}\\left(\\sigma_{i}\\right)+u_{bi}\\left(\\sigma_{i}\\right)+\\sigma_{i}s_{i}+const=b_{i}\\sigma_{i}+const\\\\\n",
    "b_{i}= & \\frac{1}{2}\\left[f_{ai}+f_{bi}+s_{i}-\\left(-f_{ai}-f_{bi}-s_{i}\\right)\\right]\\\\\n",
    "= & f_{ai}+f_{bi}+s_{i}\\\\\n",
    "\\sigma_{i}f_{ai}= & \\max_{\\{\\sigma_{j}:j\\in\\partial a\\setminus i\\}:\\prod_{j}\\sigma_{j}=1}\\sum_{j\\in\\partial a\\setminus i}f_{ja}\\sigma_{j}+\\sigma_{j}s_{j}+const\\\\\n",
    "f_{ai}= & \\frac{1}{2}\\left[\\max_{\\{\\sigma_{j}:j\\in\\partial a\\setminus i\\}:\\prod_{j\\neq i}\\sigma_{j}=1}\\left(\\sum_{j\\in\\partial a\\setminus i}\\left(f_{ja}+s_{j}\\right)\\sigma_{j}\\right)-\\max_{\\{\\sigma_{j}:j\\in\\partial a\\setminus i\\}:\\prod_{j\\neq i}\\sigma_{j}=-1}\\left(\\sum_{j\\in\\partial a\\setminus i}\\left(f_{ja}+s_{j}\\right)\\sigma_{j}\\right)\\right]\\\\\n",
    "= & \\frac{1}{2}\\begin{cases}\n",
    "\\sum_{j\\in\\partial a\\setminus i}\\left|f_{ja}+s_{j}\\right| & \\text{if }\\prod\\left(f_{ja}+s_{j}\\right)>0\\\\\n",
    "\\sum_{j\\in\\partial a\\setminus i}\\left|f_{ja}+s_{j}\\right|-2\\min_{j\\in\\partial a\\setminus i}\\left|f_{ja}+s_{j}\\right| & \\text{if }\\prod\\left(f_{ja}+s_{j}\\right)<0\n",
    "\\end{cases}-\\\\\n",
    " & -\\frac{1}{2}\\begin{cases}\n",
    "\\sum_{j\\in\\partial a\\setminus i}\\left|f_{ja}+s_{j}\\right| & \\text{if }\\prod\\left(f_{ja}+s_{j}\\right)<0\\\\\n",
    "\\sum_{j\\in\\partial a\\setminus i}\\left|f_{ja}+s_{j}\\right|-2\\min_{j\\in\\partial a\\setminus i}\\left|f_{ja}+s_{j}\\right| & \\text{if }\\prod\\left(f_{ja}+s_{j}\\right)>0\n",
    "\\end{cases}\\\\\n",
    "= & \\begin{cases}\n",
    "\\min_{j\\in\\partial a\\setminus i}\\left|f_{ja}+s_{j}\\right| & \\text{if }\\prod\\left(f_{ja}+s_{j}\\right)>0\\\\\n",
    "-\\min_{j\\in\\partial a\\setminus i}\\left|f_{ja}+s_{j}\\right| & \\text{if }\\prod\\left(f_{ja}+s_{j}\\right)<0\n",
    "\\end{cases}\n",
    "\\end{align*}\n",
    "\n",
    "So we get\n",
    "$$f_{ai}= \\min_{j\\in\\partial a\\setminus i}\\left|f_{ja}+s_{j}\\right|\\prod_{j\\in\\partial a\\setminus i}\\text{sign}\\left(f_{ja}+s_{j}\\right)$$\n"
   ]
  },
  {
   "cell_type": "markdown",
   "metadata": {},
   "source": [
    "Distribution in the quenched disorder\n",
    "---\n",
    "\n",
    "\\begin{align*}\n",
    "p\\left(f\\right)= & \\frac{1}{2^{k}}\\sum_{f_{1},\\dots,f_{k}}\\sum_{s_{1},\\dots,s_{k}}\\delta\\left(f;\\min_{j=1,\\dots,k}\\left|f_{j}+s_{j}\\right|\\prod_{j=1}^{k}\\text{sign}\\left(f_{j}+s_{j}\\right)\\right)\\prod_{j=1}^{k}p\\left(f_{j}\\right)\\\\\n",
    "=& \\frac{1}{2^{k}}\\sum_{f_{1},\\dots,f_{k}}\\delta\\left(f;\\min_{j=1,\\dots,k}\\left|f_{j}\\right|\\prod_{j=1}^{k}\\text{sign}\\left(f_{j}\\right)\\right)\\prod_{j=1}^{k}\\sum_{s_j}p\\left(f_{j}+s_j\\right)\\\\\n",
    "\\end{align*}"
   ]
  },
  {
   "cell_type": "code",
   "execution_count": 96,
   "metadata": {},
   "outputs": [
    {
     "data": {
      "text/plain": [
       "iter_slow (generic function with 1 method)"
      ]
     },
     "execution_count": 96,
     "metadata": {},
     "output_type": "execute_result"
    }
   ],
   "source": [
    "using OffsetArrays\n",
    "\n",
    "\n",
    "function iter_slow(p,K)\n",
    "    N = lastindex(p)\n",
    "    p1 = copy(p)\n",
    "    p1 .= 0\n",
    "    S = CartesianIndices(Tuple(fill(0:1,K-1)))\n",
    "    for F in CartesianIndices(Tuple(fill(-N:N,K-1)))\n",
    "        ff = Tuple(F)\n",
    "        P = prod(p[fi] for fi in ff)\n",
    "        for fs in map(s -> ff .+ (2 .* Tuple(s) .- 1), S)\n",
    "            f = minimum(abs.(fs))*sign(prod(fs))\n",
    "            #println(\"$ff $fs $f $P\")\n",
    "            p1[clamp(f, -N, N)] += P\n",
    "        end\n",
    "    end\n",
    "    p1 / sum(p1)\n",
    "end"
   ]
  },
  {
   "cell_type": "markdown",
   "metadata": {},
   "source": [
    "Simplifications\n",
    "--\n",
    "\n",
    "$$f = \\min_{j=1,\\dots,k}\\left|f_{j}+s_{j}\\right|\\prod_{j=1}^k\\text{sign}\\left(f_{j}+s_{j}\\right)$$"
   ]
  },
  {
   "cell_type": "markdown",
   "metadata": {},
   "source": [
    "\\begin{align*}\n",
    "p\\left(f\\right)= & \\frac{1}{2^{k}}\\sum_{f_{1},\\dots,f_{k}}\\sum_{s_{1},\\dots,s_{k}}\\delta\\left(f;\\min_{j=1,\\dots,k}\\left|f_{j}+s_{j}\\right|\\prod_{j=1}^{k}\\text{sign}\\left(f_{j}+s_{j}\\right)\\right)\\prod_{j=1}^{k}p\\left(f_{j}\\right)\\\\\n",
    "= & \\sum_{f_{1},\\dots,f_{k}}\\delta\\left(f;\\min_{j=1,\\dots,k}\\left|f_{j}\\right|\\prod_{j=1}^{k}\\text{sign}\\left(f_{j}\\right)\\right)\\prod_{j=1}^{k}\\frac{1}{2}\\sum_{s_{j}}p\\left(f_{j}-s_{j}\\right)\\\\\n",
    "= & \\begin{cases}\n",
    "\\frac{1}{2}\\sum_{f_{1},\\dots,f_{k}>0}\\delta\\left(f;\\min_{j=1,\\dots,k}f_{j}\\right)\\prod_{j=1}^{k}\\sum_{s_{j}}p\\left(f_{j}-s_{j}\\right) & \\text{ for }f>0\\\\\n",
    "\\sum_{n=1}^{k}\\binom{k}{n}\\left(\\frac{1}{2}\\sum_{s_{j}}p\\left(s_{j}\\right)\\right)^{k-n}\\left(\\sum_{f'>0}\\sum_{s}p\\left(f'-s\\right)\\right)^{n} & \\text{ for }f=0\n",
    "\\end{cases}\\\\\n",
    "= & \\begin{cases}\n",
    "\\frac{1}{2}\\left\\{ \\left(\\sum_{f'\\geq f}\\sum_{s}p\\left(f'+s\\right)\\right)^{k}-\\left(\\sum_{f'>f}\\sum_{s}p\\left(f'+s\\right)\\right)^{k}\\right\\}  & \\text{ for }f>0\\\\\n",
    "\\sum_{n=0}^{k-1}\\binom{k}{n}\\left(\\frac{1}{2}\\sum_{s}p\\left(s\\right)\\right)^{k-n}\\left(\\sum_{f'>0}\\sum_{s}p\\left(f'+s\\right)\\right)^{n} & \\text{ for }f=0\n",
    "\\end{cases}\\\\\n",
    "= & \\begin{cases}\n",
    "\\frac{1}{2}\\left\\{ \\left(\\sum_{f'\\geq f}\\sum_{s\\in\\pm1}p\\left(f'+s\\right)\\right)^{k}-\\left(\\sum_{f'>f}\\sum_{s\\in\\pm1}p\\left(f'+s\\right)\\right)^{k}\\right\\}  & \\text{ for }f>0\\\\\n",
    "\\left(\\frac{1}{2}\\sum_{s\\in\\pm1}p\\left(s\\right)+\\sum_{f'>0}\\sum_{s\\in\\pm1}p\\left(f'+s\\right)\\right)^{k}-\\left(\\sum_{f'>0}\\sum_{s\\in\\pm1}p\\left(f'+s\\right)\\right)^{k} & \\text{ for }f=0\n",
    "\\end{cases}\\\\\n",
    "= & \\begin{cases}\n",
    "\\frac{1}{2}\\left\\{ \\left(\\sum_{f'\\geq f}\\sum_{s\\in\\pm1}p\\left(f'+s\\right)\\right)^{k}-\\left(\\sum_{f'>f}\\sum_{s\\in\\pm1}p\\left(f'+s\\right)\\right)^{k}\\right\\}  & \\text{ for }f>0\\\\\n",
    "\\left(p(1)+\\sum_{f'>0}p(f'+1)+p(f'-1)\\right)^k - \\left(\\sum_{f'>0}p(f'+1)+p(f'-1)\\right)^k & \\text{ for }f=0\n",
    "\\end{cases}\\\\\n",
    "= & \\begin{cases}\n",
    "\\frac{1}{2}\\left\\{ \\left(\\sum_{f'\\geq f}\\sum_{s\\in\\pm1}p\\left(f'+s\\right)\\right)^{k}-\\left(\\sum_{f'>f}\\sum_{s\\in\\pm1}p\\left(f'+s\\right)\\right)^{k}\\right\\}  & \\text{ for }f>0\\\\\n",
    "1-(1-p(1))^k & \\text{ for }f=0\n",
    "\\end{cases}\\\\\n",
    "\\end{align*}\n"
   ]
  },
  {
   "cell_type": "code",
   "execution_count": 97,
   "metadata": {},
   "outputs": [
    {
     "data": {
      "text/plain": [
       "iter (generic function with 1 method)"
      ]
     },
     "execution_count": 97,
     "metadata": {},
     "output_type": "execute_result"
    }
   ],
   "source": [
    "function iter(p,K)\n",
    "    k = K - 1\n",
    "    p1 = zero(p)\n",
    "    N = lastindex(p1)-1\n",
    "    for f = 1:N-1\n",
    "        v1 = p[f+1]+p[f-1]\n",
    "#        v2 = sum((p[f1+1]+p[f1-1] for f1=f+1:N), init=0.0)\n",
    "        v2 = sum(p[f1+1]+p[f1-1] for f1=f+1:N)\n",
    "        v = (v1+v2)^k-v2^k\n",
    "        p1[+f] += v/2\n",
    "        p1[-f] += v/2\n",
    "    end\n",
    "    v1 = (p[1]+p[-1])/2\n",
    "    v2 = sum(p[f1+1]+p[f1-1] for f1=1:N)\n",
    "    p1[0] = (v1+v2)^k-v2^k\n",
    "    p1 ./ sum(p1)\n",
    "end"
   ]
  },
  {
   "cell_type": "code",
   "execution_count": 98,
   "metadata": {},
   "outputs": [],
   "source": [
    "using OffsetArrays\n",
    "N=100\n",
    "p = OffsetArray(zeros(2N+1),-N:N)\n",
    "p[1] = 1\n",
    "\n",
    "for i=1:100\n",
    "    p = iternofields(p,3)\n",
    "end\n",
    "\n"
   ]
  },
  {
   "cell_type": "code",
   "execution_count": 99,
   "metadata": {},
   "outputs": [],
   "source": [
    "using PyPlot"
   ]
  },
  {
   "cell_type": "code",
   "execution_count": 100,
   "metadata": {},
   "outputs": [
    {
     "data": {
      "image/png": "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",
      "text/plain": [
       "Figure(PyObject <Figure size 640x480 with 1 Axes>)"
      ]
     },
     "metadata": {},
     "output_type": "display_data"
    },
    {
     "data": {
      "text/plain": [
       "1-element Array{PyCall.PyObject,1}:\n",
       " PyObject <matplotlib.lines.Line2D object at 0x7fae4c06fe10>"
      ]
     },
     "execution_count": 100,
     "metadata": {},
     "output_type": "execute_result"
    }
   ],
   "source": [
    "plot(-N:N,p)"
   ]
  },
  {
   "cell_type": "markdown",
   "metadata": {},
   "source": [
    "Comparison\n",
    "--"
   ]
  },
  {
   "cell_type": "code",
   "execution_count": 101,
   "metadata": {},
   "outputs": [
    {
     "data": {
      "text/plain": [
       "15×2 Array{Float64,2}:\n",
       " 1.82615e-52  0.0\n",
       " 3.33866e-27  3.29725e-27\n",
       " 6.99126e-14  6.97676e-14\n",
       " 3.49772e-7   3.49745e-7\n",
       " 0.000847722  0.000847632\n",
       " 0.0399563    0.0399577\n",
       " 0.245227     0.24522\n",
       " 0.427938     0.427948\n",
       " 0.245227     0.24522\n",
       " 0.0399563    0.0399577\n",
       " 0.000847722  0.000847632\n",
       " 3.49772e-7   3.49745e-7\n",
       " 6.99126e-14  6.97676e-14\n",
       " 3.33866e-27  3.29725e-27\n",
       " 1.82615e-52  0.0"
      ]
     },
     "execution_count": 101,
     "metadata": {},
     "output_type": "execute_result"
    }
   ],
   "source": [
    "N=7\n",
    "N1 = 8\n",
    "p=OffsetArray(zeros(2N1+1), -N1:N1);\n",
    "p[-N+1:N-1] .= 1/(2N-1)\n",
    "q1 = copy(p)\n",
    "q2 = copy(p)\n",
    "\n",
    "for i=1:10\n",
    "    q1 = iter_slow(q1,3)\n",
    "    q2 = iter(q2,3)\n",
    "end\n",
    "[q1[-N:N] q2[-N:N]]"
   ]
  },
  {
   "cell_type": "code",
   "execution_count": 102,
   "metadata": {},
   "outputs": [
    {
     "data": {
      "text/plain": [
       "findsolution (generic function with 1 method)"
      ]
     },
     "execution_count": 102,
     "metadata": {},
     "output_type": "execute_result"
    }
   ],
   "source": [
    "function findsolution(k; tol=1e-15, maxiter=10^7, eq=iter, N=6)\n",
    "    err = Inf\n",
    "    p=OffsetArray(zeros(2N+3), -N-1:N+1);\n",
    "    p[-N+1:N-1] .= 1/(2N+1)\n",
    "    p ./= sum(p);\n",
    "    for i = 1:maxiter\n",
    "        (err <= tol) && break\n",
    "        q = eq(p,k)\n",
    "        err = maximum(abs.(q-p))\n",
    "        p = 0.1q + 0.9p\n",
    "    end\n",
    "    @show k, err\n",
    "    p\n",
    "end"
   ]
  },
  {
   "cell_type": "markdown",
   "metadata": {},
   "source": [
    "Free Energy\n",
    "--\n",
    "\n",
    "\\begin{align*}\n",
    "-F_{a} & =\\frac{1}{\\beta}\\log\\sum_{\\sigma:sat}\\prod_{i\\in\\partial a}\\frac{e^{\\beta\\left(f_{bi}+s_{i}\\right)\\sigma_{i}}}{2\\cosh\\left(\\beta f_{bi}\\right)}\\\\\n",
    " & =\\frac{1}{\\beta}\\log\\sum_{\\sigma:sat}e^{\\beta\\sum_{i\\in\\partial a}\\left(f_{bi}+s_{i}\\right)\\sigma_{i}}-\\frac{1}{\\beta}\\sum_{i\\in\\partial a}\\log2\\cosh\\left(\\beta f_{bi}\\right)\\\\\n",
    " & \\to\\max_{\\sigma:sat}\\sum_{i\\in\\partial a}\\left(f_{bi}+s_{i}\\right)\\sigma_{i}-\\sum_{i\\in\\partial a}\\left|f_{bi}\\right|\\\\\n",
    " & =\\sum_{i\\in\\partial a}\\left\\{ \\left|f_{bi}+s_{i}\\right|-\\left|f_{bi}\\right|\\right\\} -\\Theta\\left(-\\prod_{i\\in\\partial a}\\left(f_{bi}+s_{i}\\right)\\right)2\\min_{i\\in\\partial a}\\left|f_{bi}+s_{i}\\right|\\\\\n",
    " & =\\sum_{i\\in\\partial a}\\left\\{ \\left|f_{bi}+s_{i}\\right|-\\left|f_{bi}\\right|\\right\\} -\\Theta\\left(-\\prod_{i\\in\\partial a}\\left(f_{bi}+s_{i}\\right)\\right)2\\min_{i\\in\\partial a}\\left|f_{bi}+s_{i}\\right|\\\\\n",
    "-F_{i} & =\\frac{1}{\\beta}\\log\\sum_{\\sigma_{i}}\\frac{e^{\\beta\\sigma_{i}\\left(f_{ai}+f_{bi}+s_{i}\\right)}}{2\\cosh\\left(\\beta f_{ai}\\right)2\\cosh\\left(\\beta f_{bi}\\right)}\\\\\n",
    " & =\\frac{1}{\\beta}\\log\\sum_{\\sigma_{i}}e^{\\beta\\sigma_{i}\\left(f_{ai}+f_{bi}+s_{i}\\right)}-\\frac{1}{\\beta}\\log2\\cosh\\left(\\beta f_{ai}\\right)-\\frac{1}{\\beta}\\log2\\cosh\\left(\\beta f_{bi}\\right)\\\\\n",
    " & \\to\\left|f_{ai}+f_{bi}+s_{i}\\right|-\\left|f_{ai}\\right|-\\left|f_{bi}\\right|\\\\\n",
    "F &= \\sum_{a}F_{a}-\\sum_{i}F_{i}\n",
    "\\end{align*}\n",
    "\n",
    "So we get the overlap:\n",
    "\n",
    "$$O=-F= -\\sum_{a}F_{a}+\\sum_{i}F_{i}$$\n"
   ]
  },
  {
   "cell_type": "code",
   "execution_count": 103,
   "metadata": {},
   "outputs": [
    {
     "data": {
      "text/plain": [
       "overlap_slow (generic function with 1 method)"
      ]
     },
     "execution_count": 103,
     "metadata": {},
     "output_type": "execute_result"
    }
   ],
   "source": [
    "function overlap_slow(p,K)\n",
    "    N = lastindex(p)\n",
    "    O = 0.0\n",
    "    S = CartesianIndices(Tuple(fill(0:1,K)))\n",
    "    for ff in map(Tuple, CartesianIndices(Tuple(fill(-N:N,K))))\n",
    "        P = prod(p[fi] for fi in ff) / 2^K\n",
    "        for fs in map(s -> ff .+ (2 .* Tuple(s) .- 1), S)\n",
    "            O += P*sum(abs.(fs))\n",
    "            if prod(fs) < 0\n",
    "                O -= P*2*minimum(abs.(fs))\n",
    "            end\n",
    "        end\n",
    "    end\n",
    "    O *= 2/K\n",
    "    for f1=-N:N\n",
    "        for f2=-N:N\n",
    "            for s = (-1,1)\n",
    "                O -= p[f1]*p[f2]*0.5*(abs(f1+f2+s))\n",
    "            end\n",
    "        end\n",
    "    end\n",
    "    O\n",
    "end"
   ]
  },
  {
   "cell_type": "markdown",
   "metadata": {},
   "source": [
    "Simplifications for the overlap\n",
    "--\n",
    "\n",
    "* On a single instance (by rearranging the sums)\n",
    "\n",
    "\\begin{align*}\n",
    "O&=-\\frac{1}{n}\\sum_{a=1}^m\\Theta\\left(-\\prod_{i\\in\\partial a}\\left(f_{bi}+s_{i}\\right)\\right)2\\min_{i\\in\\partial a}\\left|f_{bi}+s_{i}\\right|+\\frac{1}{n}\\sum_{i=1}^n\\left(|f_{bi}+s_i|+|f_{ai}+s_i|-|f_{ai}+f_{bi}+s_i|\\right)\n",
    "\\end{align*}\n",
    "that one can re-write\n",
    "\\begin{align*}\n",
    "O&=\\frac{1}{n}\\sum_{i=1}^nF(f_{ai},f_{bi},s_i)+\\frac{1}{n}\\sum_{a=1}^m G(\\{f_{bi}\\}_{i\\in\\partial a};|\\partial a|)\n",
    "\\end{align*}\n",
    "\n",
    "* Averaging over the graph and source (for an arbitrary factor degree profile $P(X)$)\n",
    "\\begin{align*}\n",
    "O^{RS} &= \\sum_s\\frac{1}{2}\\sum_{f_1,f_2}\\left(|f_1+s|+|f_2+s|-|f_1+f_2+s|\\right)p(f_1)p(f_2) \\\\\n",
    "&- \\frac{2}{P'(1)}\\sum_{k=0}^{\\infty}P_k\\sum_{f_1,\\dots,f_k}\\sum_{s_1,\\dots,s_k}\\frac{1}{2^k}\\Theta\\left(-\\prod_{i=1}^k\\left(f_i+s_i\\right)\\right)2\\min_{i=1,\\dots,k}\\left|f_i+s_i\\right|\\prod_{i=1}^k p(f_i)\\\\\n",
    "\\end{align*}\n",
    "The factor $2/P'(1)$ is the number of factors per variables $\\alpha=m/n=2/P'(1)$ : in the RS approximation, each term $G(\\{f_{bi}, s_i\\}, |\\partial a|)$ in the sum $(1/n)\\sum_{a=1}^m G(\\{f_{bi}, s_i\\}, |\\partial a|)$ over the factors has the same contribution, and there is $m$ terms in the sum, therefore we obtain the contribution $\\alpha\\mathbb{E}[G(\\{f_i,s_i\\}_{i=1,\\dots,k}; k)]$. The average is taken over the random variables, $k$ is drawn from $P_k$; $f_1,\\dots f_k$ are drawn from $p(f)$ i.i.d., and $s_1,\\dots,s_k$ are $\\pm 1$ uniformly and i.i.d.\n",
    "\n",
    "* The second term can be simplified:\n",
    "\\begin{align*}\n",
    "&\\sum_{f_1,\\dots,f_k}\\sum_{s_1,\\dots,s_k}\\frac{1}{2^k}\\Theta\\left(-\\prod_{i=1}^k\\left(f_i+s_i\\right)\\right)2\\min_{i=1,\\dots,k}\\left|f_i+s_i\\right|\\prod_{i=1}^k p(f_i)\\\\\n",
    "=& \\sum_{f_1,\\dots,f_k} \\Theta\\left(-\\prod_{i=1}^k f_i\\right)2\\min_{i=1,\\dots,k}|f_i|\\prod_{i=1}^k\\left(\\sum_{s_i}\\frac{1}{2}p(f_i-s_i)\\right)\\\\\n",
    "=& \\sum_{f_1,\\dots,f_k>0}\\min_{i=1,\\dots,k}(f_i)\\prod_{i=1}^k\\left(\\sum_{s_i}p(f_i-s_i)\\right)\\\\\n",
    "=& \\sum_{f>0}f\\sum_{n=1}^k{k\\choose n}\\left(\\sum_s p(f-s)\\right)^n\\left(\\sum_{f'>f}\\sum_s p(f'-s)\\right)^{k-n} \\\\\n",
    "=& \\sum_{f>0}f\\left\\{ \\left(\\sum_{f'\\geq f}\\sum_s p(f'-s)\\right)^k - \\left(\\sum_{f'>f}\\sum_s p(f'-s)\\right)^k\\right\\}\n",
    "\\end{align*}\n",
    "\n",
    "RS equations for an arbitrary factor degree profile $P(X)$\n",
    "--\n",
    "\n",
    "\\begin{align*}\n",
    "p\\left(f\\right)=\\sum_{k=0}^{\\infty}\\tilde{P_k}\\frac{1}{2^{k}}\\sum_{f_{1},\\dots,f_{k}}\\sum_{s_{1},\\dots,s_{k}}\\delta\\left(f;\\min_{j=1,\\dots,k}\\left|f_{j}+s_{j}\\right|\\prod_{j=1}^{k}\\text{sign}\\left(f_{j}+s_{j}\\right)\\right)\\prod_{j=1}^{k}p\\left(f_{j}\\right)\n",
    "\\end{align*}\n",
    "with the residual degree profile \n",
    "\\begin{align*}\n",
    "\\tilde{P_k}=\\frac{(k+1)P_{k+1}}{P'(1)}\n",
    "\\end{align*}\n",
    "which is the the probability distribution, for a factor node reached by following an edge, of the number of other edges attached to that node.\n",
    "Using the simplifications below:\n",
    "\\begin{align*}\n",
    "p\\left(f\\right)=\\sum_{k=0}^{\\infty}\\tilde{P_k}\\begin{cases}\n",
    "\\frac{1}{2}\\left\\{ \\left(\\sum_{f'\\geq f}\\sum_{s\\in\\pm1}p\\left(f'+s\\right)\\right)^{k}-\\left(\\sum_{f'>f}\\sum_{s\\in\\pm1}p\\left(f'+s\\right)\\right)^{k}\\right\\}  & \\text{ for }f>0\\\\\n",
    "\\left(\\frac{1}{2}\\sum_{s\\in\\pm1}p\\left(s\\right)+\\sum_{f'>0}\\sum_{s\\in\\pm1}p\\left(f'+s\\right)\\right)^{k}-\\left(\\sum_{f'>0}\\sum_{s\\in\\pm1}p\\left(f'+s\\right)\\right)^{k} & \\text{ for }f=0\n",
    "\\end{cases}\n",
    "\\end{align*}"
   ]
  },
  {
   "cell_type": "code",
   "execution_count": 104,
   "metadata": {},
   "outputs": [
    {
     "data": {
      "text/plain": [
       "overlap_fixeddeg (generic function with 1 method)"
      ]
     },
     "execution_count": 104,
     "metadata": {},
     "output_type": "execute_result"
    }
   ],
   "source": [
    "using OffsetArrays\n",
    "\n",
    "function overlap_variables(p)# first term in the expression of the overlap (sum over variables)\n",
    "    O = 0.0\n",
    "    N = lastindex(p)-1\n",
    "    for f1=-N:N\n",
    "        for f2=-N:N\n",
    "            for s = (-1,1)\n",
    "                O += p[f1]*p[f2]*0.5*(abs(f1+s)+abs(f2+s)-abs(f1+f2+s))\n",
    "            end\n",
    "        end\n",
    "    end\n",
    "    O\n",
    "end\n",
    "function overlap_factors(p,k) #second term, at fixed k\n",
    "    O = 0.0\n",
    "    N = lastindex(p)-1\n",
    "    for f = 1:N-1\n",
    "        v1 = p[f+1]+p[f-1]\n",
    "        v2 = sum(p[f1+1]+p[f1-1] for f1=f+1:N)\n",
    "        v = (v1+v2)^k-v2^k\n",
    "        O += f*v\n",
    "    end\n",
    "    O\n",
    "end\n",
    "\n",
    "function overlap_fixeddeg(p,k)\n",
    "    O=overlap_variables(p)-(2/k)*overlap_factors(p,k)\n",
    "    O\n",
    "end"
   ]
  },
  {
   "cell_type": "code",
   "execution_count": 105,
   "metadata": {},
   "outputs": [
    {
     "name": "stdout",
     "output_type": "stream",
     "text": [
      "(k, err) = (3, 9.43689570931383e-16)\n"
     ]
    },
    {
     "data": {
      "text/plain": [
       "1×2 Array{Float64,2}:\n",
       " 0.580759  0.580759"
      ]
     },
     "execution_count": 105,
     "metadata": {},
     "output_type": "execute_result"
    }
   ],
   "source": [
    "p=findsolution(3)\n",
    "[overlap_slow(p,3) overlap_fixeddeg(p,3)]"
   ]
  },
  {
   "cell_type": "code",
   "execution_count": 106,
   "metadata": {},
   "outputs": [
    {
     "data": {
      "text/plain": [
       "distortion (generic function with 8 methods)"
      ]
     },
     "execution_count": 106,
     "metadata": {},
     "output_type": "execute_result"
    }
   ],
   "source": [
    "distortion(K; kwdargs...) = (1-overlap_fixeddeg(findsolution(K; kwdargs...), K))/2"
   ]
  },
  {
   "cell_type": "code",
   "execution_count": 107,
   "metadata": {},
   "outputs": [
    {
     "name": "stdout",
     "output_type": "stream",
     "text": [
      "(k, err) = (3, 9.43689570931383e-16)\n",
      "(k, err) = (4, 9.992007221626409e-16)\n",
      "(k, err) = (5, 8.881784197001252e-16)\n",
      "(k, err) = (6, 9.992007221626409e-16)\n",
      "(k, err) = (7, 9.992007221626409e-16)\n",
      "(k, err) = (8, 8.881784197001252e-16)\n",
      "(k, err) = (9, 9.992007221626409e-16)\n",
      "(k, err) = (10, 9.992007221626409e-16)\n"
     ]
    },
    {
     "data": {
      "text/plain": [
       "8×2 Array{Float64,2}:\n",
       " 0.333333  0.209621\n",
       " 0.5       0.141487\n",
       " 0.6       0.105593\n",
       " 0.666667  0.0830604\n",
       " 0.714286  0.0676468\n",
       " 0.75      0.0565155\n",
       " 0.777778  0.0481531\n",
       " 0.8       0.0416759"
      ]
     },
     "execution_count": 107,
     "metadata": {},
     "output_type": "execute_result"
    }
   ],
   "source": [
    "Ks = 3:10\n",
    "D = distortion.(Ks)\n",
    "R = 1 .- 2 ./ Ks\n",
    "\n",
    "[R D]"
   ]
  },
  {
   "cell_type": "code",
   "execution_count": 108,
   "metadata": {},
   "outputs": [
    {
     "data": {
      "text/plain": [
       "8-element Array{Float64,1}:\n",
       " 0.33333333333333337\n",
       " 0.5\n",
       " 0.6\n",
       " 0.6666666666666667\n",
       " 0.7142857142857143\n",
       " 0.75\n",
       " 0.7777777777777778\n",
       " 0.8"
      ]
     },
     "execution_count": 108,
     "metadata": {},
     "output_type": "execute_result"
    }
   ],
   "source": [
    "R = 1 .- 2 ./ Ks"
   ]
  },
  {
   "cell_type": "code",
   "execution_count": 109,
   "metadata": {},
   "outputs": [
    {
     "data": {
      "image/png": "iVBORw0KGgoAAAANSUhEUgAAAiMAAAGdCAYAAADAAnMpAAAABHNCSVQICAgIfAhkiAAAAAlwSFlzAAAPYQAAD2EBqD+naQAAADh0RVh0U29mdHdhcmUAbWF0cGxvdGxpYiB2ZXJzaW9uMy4yLjEsIGh0dHA6Ly9tYXRwbG90bGliLm9yZy+j8jraAAAgAElEQVR4nOzdZ3hU5brG8f/MpAJJCAQSSiCIFFE6GFGKaOgiXUSakW43uhVE4VixYEcFIiBNQSmK0okgRaQjRaRKJwk1vc+cD7PN3rhBEkjyTpL7d13zYYUpd9znXHNnPe96l8XhcDgQERERMcRqOoCIiIgUbyojIiIiYpTKiIiIiBilMiIiIiJGqYyIiIiIUSojIiIiYpTKiIiIiBilMiIiIiJGuZkOkBN2u53Tp0/j4+ODxWIxHUdERERywOFwkJCQQMWKFbFar37+o1CUkdOnTxMcHGw6hoiIiFyHEydOULly5av+e6EoIz4+PoDzl/H19TWcRkRERHIiPj6e4ODg7O/xqykUZeSv0Yyvr6/KiIiISCFzrSUWWsAqIiIiRqmMiIiIiFEqIyIiImKUyoiIiIgYpTIiIiIiRqmMiIiIiFEqIyIiImKUyoiIiIgYpTIiIiIiRl1XGfn0008JCQnBy8uL0NBQNm/efNXnfvnll1gslsseXl5e1x1YREREipZcl5G5c+cSERHB2LFj2b59O/Xr16ddu3bExsZe9TW+vr6cOXMm+3Hs2LEbCi0iIiJFR67LyPvvv8+QIUMIDw+nTp06TJw4kRIlSjB16tSrvsZisRAUFJT9CAwMvKHQIiIiUnTkqoykp6ezbds2wsLC/vMGVithYWFs3Ljxqq9LTEykatWqBAcH06VLF/bu3fuPn5OWlkZ8fPxlj/wwc/VIxs0O42D0znx5fxEREbm2XJWRc+fOkZWV9T9nNgIDA4mOjr7ia2rVqsXUqVP5/vvvmTVrFna7nTvvvJOTJ09e9XPGjRuHn59f9iM4ODg3MXMmPZllhxbxVWYMJxYMhDO/5f1niIiIyDXl+9U0zZo1Y8CAATRo0IBWrVqxYMECypUrx6RJk676mlGjRhEXF5f9OHHiRN4H8yiBrVwtAOyJMfBFGGyOBIcj7z9LREREripXZSQgIACbzUZMTMxlP4+JiSEoKChH7+Hu7k7Dhg05dOjQVZ/j6emJr6/vZY/8YPXyAyCrYkPISoclz8G3AyE1Ll8+T0RERP5XrsqIh4cHjRs3JioqKvtndrudqKgomjVrlqP3yMrKYvfu3VSoUCF3SfOBzWIDwH7nE9DuTbC6we/fw8QWcGqb4XQiIiLFQ67HNBEREURGRjJ9+nT27dvHiBEjSEpKIjw8HIABAwYwatSo7Oe/+uqrrFixgiNHjrB9+3b69evHsWPHGDx4cN79FtfprzKS6ciCZo/BIyugdBW4dAymtINfP9fYRkREJJ+55fYFvXv35uzZs4wZM4bo6GgaNGjAsmXLshe1Hj9+HKv1Px3n4sWLDBkyhOjoaPz9/WncuDG//PILderUybvf4jp5unkCkJaV5vxB5cYwbB18/xj88SMsGwl/roMuE6BEGYNJRUREii6Lw+H6f/rHx8fj5+dHXFxcnq4feX7t8yz9cynPN32e/nX6/+cfHA7nYtYVo51rSfyCoec0CG6aZ58tIiJS1OX0+7tY35vG280bgNTM1Mv/wWKB0KEwaAX4V4O4EzCtPWz4GOx2A0lFRESKrmJdRrxsznvkpGSmXPkJFRvCsJ/h1m5gz4SVL8PXD0LS+QJMKSIiUrQV6zLy15mRq5YRAC8/54jmvg/A5gkHl8OkFnDs6jvOioiISM6pjHCNMgLOsU2TR2BIFJS9GeJPwZedYN17GtuIiIjcoGJdRnw9nYtp4tJyuMlZUF0YugbqPgCOLIh6FWb3gMSz+ZZRRESkqCvWZcTf0x+Ai2kXc/4iTx/oPhnunwBu3nD4J5jY3HkJsIiIiORasS4jfp7O7eBzfGbkLxYLNOoPQ36CgFqQGA0z7oc1b4M9Kx+SioiIFF3FuoyU9iwNwKW0S9f3BoF1YOhqaNAXHHZY8ybM7AoJMdd+rYiIiADFvIz4eznHNJfSLnHde795lISun0HXieBeAv5cCxPvgsOr8zCpiIhI0VWsy8hfZ0Yy7ZkkZiTe2Js16ANDf4bydSDpLMzsBj+9DlmZeZBURESk6CrWZcTLzQsfDx8AYpNjb/wNy9V0riNpNBBwwNp3nWtJ4k/f+HuLiIgUUcW6jAAElnDe4C8mKY/Webh7w/0fQ48p4FEKjm1wXm1zcFXevL+IiEgRozJS8t9lJDmPF53W7ekc2wTVheTzzv1IVo6FrIy8/RwREZFCrtiXkaASQQBEJ0fn/ZsH3AyDVkHTwc7jDR86d26NO5n3nyUiIlJIFfsykn1mJK/GNH/n7gWd3oNe08HTF05sco5t9i/Nn88TEREpZIp9GfnrzMiZpDP5+0G3doVha513Ak656Lz77/LRkJmev58rIiLi4op9GansUxmAEwkn8v/DylSDR5ZD6Ajn8cYJMK09XDyW/58tIiLioop9GanqWxWAU4mnyCiIxaVuntDhLeg9G7z84NQ2mNQC9v2Q/58tIiLigop9GSnnXQ5vN2/sDjsnEwtwYekt98Hw9VCpCaTGwdx+sOR5yEwruAwiIiIuoNiXEYvFkn125Hj88YL98NJV4JFlcOcTzuPNk2BKW7hwpGBziIiIGFTsywhAFZ8qAByLN7B2w+YObV+Hh74Bb384sxMmtoQ9Cwo+i4iIiAEqI/xn3cjR+KPmQtRs5xzbBN8B6QkwLxx+fAYyUs1lEhERKQAqI0D10tUBOHTpkNkgfpXh4cXQPMJ5vHUqfBEG5wznEhERyUcqI0At/1oAHLh4AIfDYTaMzQ3CxkK/+VAiAGJ2w6SWsOsbs7lERETyicoIUNWvKu5Wd5IykjiVeMp0HKebw5xjm5AWkJEEC4bA949DerLpZCIiInlKZQRwt7pnj2oOXDxgOM1/8a0AA76HVi8AFtgxE764F87uN51MREQkz6iM/FtN/5qAi5URAKsNWr8IA76DkuUh9neYfDfs/Mp0MhERkTyhMvJvf5WR/Rdc9KzDTXc7xzbVWkFGMnw3AhYOh/Qk08lERERuiMrIv9UpWweA3ed2G07yD3wCof9CaP0SWKzw29fOsyQxe00nExERuW4qI/92a9lbsVqsxCTHEJscazrO1Vlt0OpfMPAH8KkA5w5A5D2wbTqYvhJIRETkOqiM/FsJ9xLcXPpmAHafdeGzI38Jae4c29wcBpmp8MOTMH8wpCWYTiYiIpIrKiP/pW5AXQB2ndtlOEkOlQyAh76FsP8Diw32zINJreBMIckvIiKCyshl6pWrB7j4upG/s1qh+TMQvgR8K8GFw85dW7d8obGNiIgUCioj/6VegLOM7Dm3h0x7puE0uVTlDufYpmZ7yEqDxc/Ctw9DapzpZCIiIv9IZeS/3FT6Jnw9fEnJTGHf+X2m4+ReiTLQZw60fQOsbvD7d86t5E9tN51MRETkqlRG/ovVYqVJYBMAtsRsMZzmOlkscOfj8Mhy8KsCF4/ClLbw60SNbURExCWpjPxN06CmAGyO3mw4yQ2q3ASGr4Xa94E9A5a9AHP7QcpF08lEREQuozLyN3+VkR0xO8iwZxhOc4O8/aH3LOjwDtg84I8fYWJLOLnVdDIREZFsKiN/U8O/Bn6efiRnJvP7+d9Nx7lxFguEDoNBK8A/BOKOw9R28MsnYLebTiciIqIy8neXrRuJLqTrRq6kYkMYthbqdAV7Jqx4Cb5+EJIvmE4mIiLFnMrIFYRWCAVg/an1hpPkMS8/6PUldHofbJ5wcDlMbA7HfzWdTEREijGVkStoXqk5ADtjd5KQXsS2V7dYoOkgGLwKylSH+FMwrSOse19jGxERMUJl5AqCfYIJ8Q0hy5HFr2eK6FmDCvVg2M9Qtxc4siDqFZjdExLPmk4mIiLFjMrIVfx1dmTdyXWGk+QjTx/oHgn3fwJuXnA4yjm2OVrExlMiIuLSVEauokXlFgBsOLUBR1HeLMxigUYDYMhqCKgFidEwvTP8/A7Ys0ynExGRYkBl5CqaBDbB282b2JRY9l/cbzpO/gusA0NXQ/2HwGGH1W/AzG6QEGM6mYiIFHEqI1fhYfOgWYVmAEQdjzKcpoB4lIRun0PXz8G9BPz5s3Nsc2SN6WQiIlKEqYz8g7CqYQCsOrbKcJIC1uAhGLoGyteBpFiY0RV+ekNjGxERyRcqI/+gZeWWuFncOHTpEH/G/Wk6TsEqVwsGRznXk+CAte/A9Psh/ozpZCIiUsSojPwDP0+/7A3Qis2o5r95lHBeadP9C/AoBcfWw8S74GAxO1MkIiL5SmXkGortqOa/1esFQ3+GwLqQfB5m94BV/wdZmaaTiYhIEaAycg2tg1tjtVjZe34vpxJPmY5jTsDNzl1bmw52Hq//AL7sBHEnzeYSEZFCT2XkGsp6l82+cd7SP5caTmOYuxd0es95fxtPXzjxq/Nqm/3LTCcTEZFCTGUkB+676T4Afjz8Y9HeAC2nbu3m3Eq+QgNIuQhf94bloyEz3XQyEREphFRGciCsahgeVg8Oxx0uHhug5USZm2DQCggd7jzeOAGmdYCLx8zmEhGRQkdlJAd8PHxoFdwKcJ4dkX9z84QOb0Pv2eDlB6e2wqQWsE//jUREJOdURnLor1HNkj+XkKXNvy53y30wbB1UagKpcTC3Lyx9ATLTTCcTEZFC4LrKyKeffkpISAheXl6EhoayefPmHL1uzpw5WCwWunbtej0fa1SLSi3w8/TjbMpZNkVvMh3H9fhXhfCl0Oxx5/GmiTClLVw4YjaXiIi4vFyXkblz5xIREcHYsWPZvn079evXp127dsTGxv7j644ePcpzzz1HixYtrjusSe42d9qHtAdg4cGFhtO4KDcPaPcG9JkL3v5wZidMagV79d9LRESuLtdl5P3332fIkCGEh4dTp04dJk6cSIkSJZg6depVX5OVlUXfvn155ZVXuOmmm24osEk9avQAnLuxXky9aDiNC6vVHoavh+A7IC0evn0YfoyAjFTTyURExAXlqoykp6ezbds2wsLC/vMGVithYWFs3Ljxqq979dVXKV++PIMGDcrR56SlpREfH3/ZwxXcUvYW6pStQ4Y9g0WHF5mO49r8KsPDP0LzCOfx1inwRRicO2Q2l4iIuJxclZFz586RlZVFYGDgZT8PDAwkOjr6iq9Zv349U6ZMITIyMsefM27cOPz8/LIfwcHBuYmZr/46OzL/4HztOXItNncIGwv95kOJshCzGya3gl3fmk4mIiIuJF+vpklISKB///5ERkYSEBCQ49eNGjWKuLi47MeJEyfyMWXudKzWEW83b/6M+5MdsTtMxykcbg6D4RuganNIT4QFg2HRE5CebDqZiIi4gFyVkYCAAGw2GzExMZf9PCYmhqCgoP95/uHDhzl69CidO3fGzc0NNzc3ZsyYwaJFi3Bzc+Pw4cNX/BxPT098fX0ve7iKUh6lsheyzjswz3CaQsS3Agz4Hlo+D1hg+wz44l44q03kRESKu1yVEQ8PDxo3bkxUVFT2z+x2O1FRUTRr1ux/nl+7dm12797Nzp07sx/3338/rVu3ZufOnS41fsmNXjV7AbDs6DLOp5w3nKYQsbnBPaOh/0IoWR5if4fJd8POr0wnExERg3I9pomIiCAyMpLp06ezb98+RowYQVJSEuHh4QAMGDCAUaNGAeDl5cVtt9122aN06dL4+Phw22234eHhkbe/TQGpW64udQPqkmHP0NmR61G9tfNqm2qtICMZvhsBC0dAepLpZCIiYkCuy0jv3r0ZP348Y8aMoUGDBuzcuZNly5ZlL2o9fvw4Z86cyfOgruahWx4CYO7+uWTYMwynKYR8Ap1nSFqPBosVfvsKJreGmN9NJxMRkQJmcRSCS0Li4+Px8/MjLi7OZdaPZGRl0HZ+W86lnOOdlu/QoVoH05EKr6PrYf5gSDgDbl7Q8V1o2B8sFtPJRETkBuT0+1v3prlO7jZ3Hqj1AACz9s0ynKaQC2nuHNtUvxcyU51X2iwYCmkJppOJiEgBUBm5Ab1q9sLN6saus7vYfXa36TiFW8kA6DsP7h0LFhvs/sa5uDVa/11FRIo6lZEbEOAdQMdqHQGYtnea4TRFgNUKLSIgfAn4VoLzhyDyXtgyBVx/migiItdJZeQGPXzrwwCsOraKo3FHjWYpMqrc4Rzb1GwPWWmwOALmhUNqnOlkIiKSD1RGblAN/xrcXfluHDj4cu+XpuMUHSXKQJ850PZ1sLo57/w7qSWc1q63IiJFjcpIHnik7iMALDq8iNjkWMNpihCLBe58AsKXgV8VuHgUprSFTZM0thERKUJURvJAw/INaVS+ERn2DGb9ritr8lxwUxi+FmrfB1npsPR5mNsPUi6aTiYiInlAZSSPDKo7CHBughaXprUNec7bH3rPgvZvg9Ud/vjRObY5udV0MhERuUEqI3mkRaUW1PCvQXJmMjN/n2k6TtFkscAdw2HQCvAPgUvHYWo7+GWCxjYiIoWYykgesVgsPFr/UcC5CZrOjuSjSo1g2Fqo0xXsmbBiNHz9ICRfMJ1MRESug8pIHrqnyj3U8q9FUkYS0/dONx2naPPyg15fQqf3wOYJB5bBxBZwfJPpZCIikksqI3nIarHyaIP/nB25mKoFlvnKYoGmg2HwKihTHeJPwrQOsP4DsNtNpxMRkRxSGcljrYNbc0uZW0jJTNGurAWlQj0Y9jPU7QWOLFj1f/BVL0g6ZzqZiIjkgMpIHrNYLDze8HEA5vwxh3Mp+kIsEJ4+0D0SOn/svPPvoVUwsTkc3WA6mYiIXIPKSD5oUakFdQPqkpKZwpTdU0zHKT4sFmg8EIb8BAE1IeEMTL8Pfn4X7Fmm04mIyFWojOQDi8XC4w3+fXZk/xxOJJwwnKiYCbwVhq6B+g+Bww6rX4eZ3SBRu+OKiLgilZF8cmelO2lWoRmZ9kw+2f6J6TjFj0dJ6PY5dP0c3EvAnz/D53fBkTWmk4mIyN+ojOSjiCYRWLCw9OhS9pzbYzpO8dTgIRiyGsrXgaRYmNEVVr+psY2IiAtRGclHtcvUpnP1zgC8t/U9HNol1IzytWFwFDQaADjg57dhRheIP2M6mYiIoDKS755o+AQeVg+2xmxl7cm1puMUXx4l4P5PoPsX4FEKjq5zXm1zaJXpZCIixZ7KSD4LKhlEvzr9APhg2wdk2jMNJyrm6vWCoT9DYF1IPgezesCqVyBL/7uIiJiiMlIABtUdRGnP0hyOO8y8A/NMx5GAm527tjZx3mmZ9e87LwGOO2U2l4hIMaUyUgB8PXyzt4n/ZMcn2ibeFbh7wX3vQ89p4OEDxzc6xzYHlptOJiJS7KiMFJBeNXtR078m8enxfLJDl/q6jNu6w/C1UKEBpFyArx6AFS9BVobpZCIixYbKSAFxs7rxYuiLAMw7MI/fz/9uOJFkK3MTDFoBtw9zHv/yCUxtD5eOm80lIlJMqIwUoMaBjelYrSMOHLy56U3sDt1Z1mW4eULHd6D3LPDyg1NbnWObfT+aTiYiUuSpjBSwiMYReLt589vZ3/jxiL7oXM4tnWHYOqjUGFLjYG5fWDoSMtNNJxMRKbJURgpYYMlAhtVzjgPe3/o+CekJhhPJ//CvCuHLoJnz/kJs+hymtoULf5rNJSJSRKmMGNC/Tn9CfEM4n3qej7d/bDqOXImbB7R7A/rMAW9/OL0DJrWEvd+ZTiYiUuSojBjgYfPgpTteAmDu/rnsjN1pOJFcVa0OMHw9BIdCWjx8OxAWPwsZqaaTiYgUGSojhoRWCKVL9S44cPDKxlfI0KWkrsuvMjy8GJo/4zze8gVMCYPzh83mEhEpIlRGDHquyXOU8SrDoUuHmLZ3muk48k9s7hD2f9B3PpQoC9G7nWOb3dpRV0TkRqmMGFTaqzTPN30egEm/TeJo3FGzgeTaaoQ5xzZV74L0RJg/CBY9CRkpppOJiBRaKiOGdazWkbsq3kW6PZ1XNr6Cw+EwHUmuxbciDFgELf8FWGD7dIi8F84eMJ1MRKRQUhkxzGKx8NIdL+Fl82JrzFYWHFxgOpLkhM0N7nkJ+i+EkuUhdi9MbgU7vzadTESk0FEZcQGVfSrzeEPnnhbvbn2X04mnDSeSHKve2jm2qdYSMpLhu+Hw3aOQnmQ6mYhIoaEy4iL63dKPBuUakJSRxJgNY7RVfGHiEwj9v4O7XwSLFXbOhsh7IHaf6WQiIoWCyoiLsFltvN78dbxsXmyK3sTc/XNNR5LcsNrg7heca0lKBcHZP2Bya9g+A7QOSETkH6mMuJCqvlV5uvHTAHyw7QOOx+uusYVOtRbOsU31eyAzBRY9AQuGQpq2/RcRuRqVERfTp3Yfbg+6nZTMFF7e8DJZ9izTkSS3SpVz7kdy71iw2GD3NzD5bufeJCIi8j9URlyM1WLl1btepYRbCbbHbmfWvlmmI8n1sFqhRYRz51bfSnD+kPPy361TNbYREfkblREXVKlUJZ5r+hwAH2//mAMXtX9FoVW1GQxbBzXaQVYa/PgMzAuH1HjTyUREXIbKiIvqWaMnLSq1IN2ezgtrXyA1UzdmK7RKlnXe/bfNa2B1g70LnVvJn9YNEkVEQGXEZVksFl676zXKepXl0KVDjN863nQkuRFWK9z1JIQvA78qcPFPmNIGNk3W2EZEij2VERdW1rssbzR/A4C5++ey+vhqw4nkhgU3heFroVYnyEqHpf+Cb/pDyiXTyUREjFEZcXF3VbqLAXUGADDmlzHEJMUYTiQ3zNsfHpwN7d8Cqzvs+wEmtYCT20wnExExQmWkEHiq0VPcUuYWLqVdYvT60dqdtSiwWOCOETBoBfiHwKXjMLUt/DJBYxsRKXZURgoBD5sHb7d8G283bzZFb2LanmmmI0leqdQIhq2FOl3AngkrRsPXfSD5gulkIiIFRmWkkKjmV42Rt48E4JMdn7A9ZrvhRJJnvPyg13To9B7YPOHAUpjYAo5vMp1MRKRAqIwUIt1u7kbHah3JcmTx3M/PcS7lnOlIklcsFmg6GAavgjLVIf4kTOsA6z8Eu8ZyIlK0qYwUIhaLhbHNxnKT302cTTnLyLUjtV18UVOhHgz7GW7rCY4sWDUWvnoAklQ8RaToUhkpZEq4l+CDuz/IXj/y2W+fmY4kec3TB3p8AZ0/AjcvOLQSJjaHoxtMJxMRyRcqI4XQTaVvYmyzsQBM3jWZdSfXGU4kec5igcYPw5CfIKAmJJyB6ffB2nc1thGRIkdlpJDqdFMnetfqDcCo9aM4nXjacCLJF4G3wpDVUL8POOzw0+swqzskxppOJiKSZ1RGCrHnmz7PrWVvJS4tjmfXPEtaVprpSJIfPEtBt4nQ5TNwLwFHVjvHNkd+Np1MRCRPqIwUYh42D967+z18PXzZc34Pr218DYc2zCq6GvZ1niUpdwskxsCMLrB6HGgRs4gUctdVRj799FNCQkLw8vIiNDSUzZs3X/W5CxYsoEmTJpQuXZqSJUvSoEEDZs6ced2B5XKVSlXi3VbvYrVY+f7w93z1x1emI0l+Kl/buY6kYX/AAT+/5Swl8WdMJxMRuW65LiNz584lIiKCsWPHsn37durXr0+7du2Ijb3yDLtMmTKMHj2ajRs3smvXLsLDwwkPD2f58uU3HF6c7qx4JxGNIwB4d8u7/HrmV8OJJF95lIAuE6B7JLiXhKPrnGObQ1Gmk4mIXBeLI5fn9UNDQ2natCkTJkwAwG63ExwczBNPPMHIkSNz9B6NGjWiU6dOvPbaazl6fnx8PH5+fsTFxeHr65ubuMWGw+Fg9PrR/HDkB/w8/ZjTaQ6VfSqbjiX57dwh+PZhiNkNWKBFBNz9ItjcTCcTEcnx93euzoykp6ezbds2wsLC/vMGVithYWFs3Ljxmq93OBxERUWxf/9+WrZsedXnpaWlER8ff9lD/pnFYmFMszHZC1qfXP0kyRnJpmNJfgu4GQavhCaPAA5Y957zEuC4U6aTiYjkWK7KyLlz58jKyiIwMPCynwcGBhIdHX3V18XFxVGqVCk8PDzo1KkTn3zyCW3atLnq88eNG4efn1/2Izg4ODcxiy0vNy8+bP0hZb3KcvDiQV7a8JIWtBYH7t5w3wfQcxp4+MDxjc6xzYEVppOJiORIgVxN4+Pjw86dO9myZQtvvPEGERERrFmz5qrPHzVqFHFxcdmPEydOFETMIiGoZBAftv4QN6sbK4+tZOJvE01HkoJyW3fnVvIV6kPKBfiqF6x4GbIyTCcTEflHuSojAQEB2Gw2YmJiLvt5TEwMQUFBV/8Qq5Wbb76ZBg0a8Oyzz9KzZ0/GjRt31ed7enri6+t72UNyrkH5Brx8x8sAfPbbZ/xw+AfDiaTAlK0Og1bC7cOcx7987Lzh3qXjZnOJiPyDXJURDw8PGjduTFTUf1bt2+12oqKiaNasWY7fx263k5amDbryU/ca3Qm/LRyAsb+MZVvMNsOJpMC4eULHd+CBmeDpBye3wMQW8Mdi08lERK4o12OaiIgIIiMjmT59Ovv27WPEiBEkJSURHu784hswYACjRo3Kfv64ceNYuXIlR44cYd++fbz33nvMnDmTfv365d1vIVf0dKOnaVO1DRn2DJ5a/RTH4o+ZjiQFqc79MHwtVGoMqZdgzkOwbBRkpptOJiJymVxf/9e7d2/Onj3LmDFjiI6OpkGDBixbtix7Uevx48exWv/TcZKSknj00Uc5efIk3t7e1K5dm1mzZtG7d++8+y3kiqwWK282f5PopGh2n9vNo6seZXbH2ZT2Km06mhQU/xAIXwZRr8DGCfDrZ84Frj2nQZlqptOJiADXsc+ICdpn5MacSzlH38V9OZ10mkblGxHZNhIPm4fpWFLQ9i+FhcOdZ0k8fZ0bp9XpYjqViBRh+bLPiBROAd4BfHrvp5RyL8X22O2M+WWMLvktjmp1gOHrITgU0uLhmwGw+DnISDWdTESKOZWRYuJm/5t57+73sFlsLD6ymI+2f2Q6kphQOhgeXgx3Pe083hIJU9rA+cNmc4lIsaYyUozcWfFOxjYbC8CUPVOY9Q9KQXcAACAASURBVPssw4nECJs7tHkF+s6DEmUhehdMagW755lOJiLFlMpIMdOtRjeebPgkAG9veZulfy41nEiMqdHGObapciekJ8D8QfDDU5CRYjqZiBQzKiPF0OC6g+lTuw8AL65/kY2nr31fISmifCvCwB+g5b8AC2z7EiLvhbMHTCcTkWJEZaQYslgsvND0BdqFtCPTnsnTq59m7/m9pmOJKTY3uOcl6L8ASpaD2L0w+W74bY7pZCJSTKiMFFM2q403m79JaFAoyZnJPLrqUY7Ha8vwYq36Pc6xTbWWkJEEC4fBd49BepLpZCJSxKmMFGMeNg8+bP0htcvU5kLqBYatHMbZ5LOmY4lJPkHQ/zu4+0WwWGHnLIi8B2L3mU4mIkWYykgxV8qjFJ+HfU7lUpU5mXiSoSuHcin1kulYYpLVBne/AAMWQakgOPsHTG4NO2aB9qcRkXygMiIEeAcwue1kynuX59ClQwxbNYyE9ATTscS0ai2cY5vq90BmCnz/mHN0k5ZoOpmIFDEqIwJAsE8wkW0j8ff05/fzv/NY1GMkZySbjiWmlSoHfefDvWPAYoNdc2FyK4jeYzqZiBQhKiOS7abSNzG57WR8PHzYEbuDp1Y/RVpWmulYYprVCi2ede7c6lMRzh9yriPZOlVjGxHJEyojcpnaZWrzedjnlHArwa9nfuW5Nc+RYc8wHUtcQdVmzrFNjbaQlQY/PgPzHoHUeNPJRKSQUxmR/1G/XH0m3DsBT5sna06u4cV1L5JlzzIdS1xBybLQZy60eQ2sbrB3gXNsc3qn6WQiUoipjMgVNQ1qygd3f4Cb1Y1lR5cx5pcxKiTiZLXCXU9C+FLwC4YLR5w329s0WWMbEbkuKiNyVS0qt+Ddlu9is9hYdHiRColcLvh2GLYWanWCrHRY+i/4ZgCk6NJwEckdlRH5R2FVw3ir5VsqJHJlJcrAg7Oh/VtgdYd9i2BSSzi1zXQyESlEVEbkmtqHtOftlm+rkMiVWSxwxwgYtBxKV4VLx2BKO9j4mcY2IpIjKiOSI+1C2qmQyD+r1Ng5trnlfrBnwPJRMOchSL5gOpmIuDiVEcmxvxeSlze8rEIil/MuDQ/MgI7jweYB+5c4xzYnNptOJiIuTGVEcqVdSDveafkONouNH478oEIi/8tigduHwOBVUOYmiDsBU9vD+g/BbjedTkRckMqI5FrbkLa82+rd7EIyat0obYwm/6tCfRj6M9zWAxxZsGosfPUAJJ03nUxEXIzKiFyXNlXbML7VeNysbiw9upSI1RHaOl7+l5cv9JgCnT8CNy84tBImNodjv5hOJiIuRGVErltY1TA+av1R9k6turmeXJHFAo0fhsFRULYGJJyGLzvB2nc1thERQGVEblDLyi2z72Wz6cwmhq0cRny67lUiVxB0GwxdA/UeBIcdfnodZnWHxFjTyUTEMJURuWFNg5oS2TYSHw8fdp7dyeDlg7mQqss55Qo8S0H3SdDlM3DzhiOrnWObP9eaTiYiBqmMSJ6oV64e09pNo4xXGfZd2Ef4snBik/UXr1xFw77OsyTlboHEGJjRBda8BboyS6RYUhmRPFOrTC2+bP8lgSUCORJ3hIFLB3Iy4aTpWOKqyteGIT9Bw37Osc2acc5SkhBtOpmIFDCVEclT1fyqMb3DdCqXqszJxJP0X9qf/Rf2m44lrsqjBHT5FLpNBveScHSdc2xz+CfTyUSkAKmMSJ6rVKoSMzrMoIZ/Dc6lnOPhZQ+zJXqL6Vjiyur3hmE/Q+BtkHQWZnaHqNcgK9N0MhEpACojki/KlSjHl+2/pHFgYxIzEhm2chgrj600HUtcWUAN566tjcMBB6wbD9M7Q9wp08lEJJ+pjEi+8fXwZVKbSdxb5V4y7Bk8u+ZZ5v4x13QscWXu3tD5Q+g5FTx84PgvzrHNgRWmk4lIPlIZkXzlafPkvVbv0atmLxw4eH3T63y681McurW8/JPbejjHNhXqQ8oF+KoXrHgZsnTbAZGiSGVE8p3NauPlO17m0fqPAjDxt4m8+uurZNq1HkD+QdnqMGgl3D7MefzLxzCtI1w6YTaXiOQ5lREpEBaLhRENRvDyHS9jtViZd2AeEWsiSMlMMR1NXJmbJ3R8Bx6YCZ5+cHKzc2zzxxLTyUQkD6mMSIF6oNYDvNfqPTysHqw+sZpHlj3CuZRzpmOJq6tzPwxfCxUbQeolmNMHlr0Imemmk4lIHlAZkQIXVjWMyLaR+Hn6sef8Hvou7svhS4dNxxJX5x8CjyyHOx5zHv/6KUxtBxePmkwlInlAZUSMaBTYiNkdZ1PFpwqnk07Tf0l/fj3zq+lY4urcPKD9m/Dg1+BVGk5vh4kt4fdFppOJyA1QGRFjqvpWZVbHWTQs35CEjARGrBzBd4e+Mx1LCoPaHWH4eqh8O6TFwTf9Ycm/IDPNdDIRuQ4qI2KUv5c/kW0j6RDSgUxHJi9veJlPdnyiS3/l2koHQ/gSuOsp5/HmyTClDZzXyE+ksFEZEeM8bZ681fIthtQdAsDkXZMZuW4k6VlanCjXYHOHNq/CQ9+Cdxk48xtMagV75ptOJiK5oDIiLsFqsfJkoyd59c5XcbO4seTPJQxeMVhX2kjO1GzrHNtUuRPSE2DeI/DD05ChS8dFCgOVEXEp3Wp047Owz/Bx92FH7A76LO7DHxf+MB1LCgO/SjDwB2j5L8AC26bBF2Fw7qDpZCJyDSoj4nKaVWzG7E6zqepbleikaAYsHaCb7EnO2Nzgnpeg/wIoWQ5i9jjHNr/pnkgirkxlRFxSNb9qzO44m2YVmpGSmULEmgg+3/k5dofddDQpDKrf4xzbhLSAjCRYOBS+fwzSk00nE5ErUBkRl+Xn6cdnYZ/R75Z+AHz222c89/NzJGfoC0VywCcIBnwPd48CLLBjFkS2hliN/URcjcqIuDQ3qxsv3P6Cc2Gr1Y2Vx1YycNlAziSeMR1NCgOrDe4eCQMXQalAOPsHTL7bWUx0+biIy1AZkUKhW41uTGk7hTJeZfjjwh88uPhBdsbuNB1LCotqLWH4BripNWSmOEc2C4dDWqLpZCKCyogUIo0CGzGn0xxq+dfiQuoFwpeHM/ePudogTXKmVDnotwDueRksVtg1xzm2id5jOplIsacyIoVKhVIVmNFhBm2rtiXTnsnrm17npQ0vkZqZajqaFAZWK7R8Dh5eDD4V4dwB+OJe2DpNYxsRg1RGpNAp4V6C8a3G81yT57BarCw6vIgBSwdwMuGk6WjZYuNT+WDlAWLjVZJcUtU7nVfb3NwGMlPhx6dh/iBIjTedTKRYUhmRQslisTDw1oFMbjMZf09/9l3Yx4OLH+SXU7+YjgZAbEIaH0UdJDZBN25zWSXLwkPfOLeTt9icW8hPbuXcUl5ECpTKiBRqoRVC+abzN9QNqEtcWhzDVw1n8q7J2o9EcsZqdd5o75Fl4BcMF444d23dHKmxjUgBUhmRQi+oZBBftv+SnjV74sDBJzs+4enVT5OQnlCgOWLjU9lzKi77AVx2rJGNCwu+HYathVodISsdljwH3w6ElEumk4kUCxZHIbgUIT4+Hj8/P+Li4vD19TUdR1zY/APzeWPTG2TYMwjxDeG9u9+jpn/NAvnsD1Ye4KOoq98H5al7a/BMm4LJItfJ4YBfP4eVY8CeAaWrQq9pUKmx6WQihVJOv79VRqTI2XNuD8+seYbopGi8bF68GPoiXW/uisViydfPjY1PzV4jsudUHCMX7Oat7nW5rZIfAOV9PCnv65WvGSSPnNoG34bDpWNgdXeuK7ljBOTz/w2JFDU5/f6+rjHNp59+SkhICF5eXoSGhrJ58+arPjcyMpIWLVrg7++Pv78/YWFh//h8kRt1W8BtzL1vLndVvIvUrFTG/DKGlza8lO/byJf39eK2Sn7ZD+CyYxWRQqRSY+fY5pb7nWdIlo+COX0h+YLpZCJFUq7LyNy5c4mIiGDs2LFs376d+vXr065dO2JjY6/4/DVr1tCnTx9Wr17Nxo0bCQ4Opm3btpw6deqGw4tcTRmvMnwW9hlPNnwy+/LfPov7cOjiIdPRpLDwLg0PzICO48HmAfsXw6SWcGKL6WQiRU6uxzShoaE0bdqUCRMmAGC32wkODuaJJ55g5MiR13x9VlYW/v7+TJgwgQEDBuToMzWmkRuxNXorz699nrMpZ/GyeTH6jtF0vblrvn5mbHwqszcdp29oFZ0RKQpO74RvH4aLf4LVDe4dA82ecF6NIyJXlS9jmvT0dLZt20ZYWNh/3sBqJSwsjI0bN+boPZKTk8nIyKBMmTJXfU5aWhrx8fGXPUSuV5OgJnzb+VuaVWhGalYqL294mZfW5+/YpryvF8+0qakiUlRUbOAc29zaHeyZzgWuXz8ISedNJxMpEnJVRs6dO0dWVhaBgYGX/TwwMJDo6OgcvccLL7xAxYoVLys0fzdu3Dj8/PyyH8HBwbmJKfI/ynqXZWKbiTze4HGsFivfH/6ehxY/xOFLh01Hk8LCyxd6ToX7PgSbJxxcDhObw7Gc/SEmIldXoOcY33rrLebMmcPChQvx8rr6X4yjRo0iLi4u+3HixIkCTClFldViZVj9YXzR9gsCvAM4HHeYPov7sPDgQt1sT3LGYoEm4TDkJyhbAxJOw5edYN17YNdGeyLXK1dlJCAgAJvNRkxMzGU/j4mJISgo6B9fO378eN566y1WrFhBvXr1/vG5np6e+Pr6XvYQyStNg5rybedvCa0QSkpmCmN+GcO/1v6LuLQ409GksAi6DYaugXoPgiMLol6F2T0g8azpZCKFUq7KiIeHB40bNyYqKir7Z3a7naioKJo1a3bV173zzju89tprLFu2jCZNmlx/WpE8EuAdwKSwSTzV6CncLG4sP7qcnj/0ZFvMNtPRpLDwLAXdJkKXT8HNGw7/5Bzb/LnOdDKRQifXY5qIiAgiIyOZPn06+/btY8SIESQlJREeHg7AgAEDGDVqVPbz3377bV5++WWmTp1KSEgI0dHRREdHk5iYmHe/hch1sFltDK47mBkdZhDsE0x0UjSPLH+ECTsmkGnPNB1PCgOLBRr2g6GroVxtSIyGGffDmrfAnmU6nUihkesy0rt3b8aPH8+YMWNo0KABO3fuZNmyZdmLWo8fP86ZM2eyn//555+Tnp5Oz549qVChQvZj/PjxefdbiNyAuuXq8m3nb7m/+v3YHXYm7ZrEw8se5mTCSdPRpLAofwsMWe0sJg47rBkHM7tCQsy1Xysi2g5e5L8tObKE1359jcSMREq5l+KlO16i002dTMeSwuS3OfBjBGQkQcly0D0Sqrc2nUrEiHzdDl6kqOp4U0fm3T+PBuUakJiRyMh1I3lx3YskpmusKDlU/0Hn4tbyt0LSWZjZDaJegyyN/kSuRmVE5G8qlarEtPbTGFF/BFaLlR+O/EDPH3qyNXqr6WhSWJSrCUOioHE44IB1451rSeJPm04m4pJURkSuwM3qxqMNHmVau2lULFmRU4mneGT5I4zfMp60rDTT8aQwcPeGzh9Cjyng4QPHNjivtjm4ynQyEZejMiLyDxoFNmL+/fPpdnM3HDiY/vt0HvzxQX4//7vpaFJY1O0Jw36GoHqQfN65H8nKsZCVYTqZiMtQGRG5hlIepXj1rlf5uPXHlPEqw6FLh+i7uC+TfpukS4AlZ8pWh0Er4fahzuMNHzp3br2k3aVFQGVEJMdaV2nNwi4LCasSRqYjkwk7JzBw6UD+jPvTdDQpDNy9oOO78MAM8PSDE5tgUgvYv9R0MhHjVEZEcqGMVxnev/t93mz+Jj7uPuw6t4sHfniAr/Z9hd2he5NIDtTp4hzbVGwEKRedd/9dPhoy000nEzFGZUQklywWC52rd2ZBlwWEVgglNSuVcZvHMXTlUM4knrn2G4iUqQaPLIc7HnUeb5wA09rDxaNGY4mYojIicp2CSgYxuc1kRt0+Ci+bF5vObKLbom58s/8b3QVYrs3NA9qPgwe/Bq/ScGobTGwJvy8ynUykwKmMiNwAq8XKQ7c8xDedv6F+ufokZSTx2q+vMWTFEG0nLzlTuyMMXweVm0JaHHzTH5b8CzJ1CbkUHyojInmgml81prefzvNNn3eeJYneRPdF3Zm9b7bWksi1la4C4Uvhrqecx5snw5Q2cP6w2VwiBUT3phHJY8fjjzPmlzFsi9kGQKPyjXj1rlep6lvVcDIpFA6sgIXDIOWCc7O0+z+G27qbTiVyXXRvGhFDqvhWYWq7qYwOHY23mzfbY7fTY1EPpu+dTpZuKy/XUrMtDF8PVZpBegLMC4cfn4GMFNPJRPKNyohIPrBarDxY+0EWdlnIHRXuIC0rjfFbxzNg6QAOX9Kpd7kGv0ow8Edo8Rxgga1T4YswOHfQdDKRfKExjUg+czgcLDi4gPFbx5OYkYib1Y3BdQczpO4QPGwepuOJqzv8E8wfAsnnwL2k83439R4wnUokRzSmEXERFouFHjV7sLDLQlpWbkmmPZOJv02kx6IeuhOwXFv1e2DEBghpARlJsGAIfP84pCebTiaSZ3RmRKQAORwOVhxbwbhN4zifeh6AHjV68EzjZ/Dz9DOcTlyaPQt+fgd+fhtwQLlboNeXUL626WQiV6UzIyIuyGKx0C6kHd93/Z6eNXsCMP/gfLp814VlR5dpszS5OqsNWo+CAd9DqUA4uw8iW8OO2aaTidwwnRkRMWhbzDZe2fhK9s32WlZuyejQ0VQsVdFwMnFpibGwYCgcWe08rt8HOo4Hz1Jmc4n8jc6MiBQCjQMbM6/zPB6t/yjuVnfWnlxL1++7MmPvDDLtmabjiasqVR76LYB7XgKLFX772nmWJGav6WQi10VnRkRcxJFLR3hl4ytsj90OQC3/Wrx0x0s0KN/AcDJxaUc3wPxBkHAG3Lygw9vQaCBYLKaTieT4+1tlRMSF2B12FhxcwAfbPiA+PR6A7jW683Sjp/H38jecTlxW0jlYOBwOrXQe39bTeQmwp4/ZXFLsqYyIFGIXUi/w4bYPWXhoIQB+nn483ehputfojtWi6apcgd0OGz+BVa+AIwvK3OS82qZCfdPJpBhTGREpAnbE7uD1X1/nwMUDANQLqMfoO0ZTp2wdw8nEZZ3YDN+GQ/xJsHlCuzeg6WCNbcQIlRGRIiLTnsnXf3zNhB0TSM5Mxmqx0rtWbx5v+Di+Hvr/B7mC5Avw/WOwf4nzuE4XuP8T8NJeNlKwVEZEipjY5FjGbxnP0qNLASjrVZZnmzzLfTfdh0V/9crfORzw62ewcizYM8A/BHpOg0qNTCeTYkRlRKSI2nh6I29uepOj8UcBaFi+ISNvH6nRjVzZyW0w72G4dBys7tD2NQgdrrGNFAiVEZEiLD0rnel7pxO5O5KUzBQsWOheoztPNnqSMl5lTMcTV5NyCRY9Dvt+cB7Xvg+6TABvXaEl+UubnokUYR42D4bUG8KirovoUK0DDhzMPzif+xbcx8zfZ5JhzzAdMcdi41P5YOUBYuNTTUcpurxLwwMzocO7YPOAP36EiS3hxBbTyUQAlRGRQi2oZBDvtHyHL9t/Se0ytUnISOCdLe/Qc1FPfjn9i+l4ORKbkMZHUQeJTUgzHaVos1ggdCgMWgn+1SDuOExrDxs+dl4WLGKQyohIEdA4sDFzOs1hTLMx+Hv6cyTuCMNWDuPJn57kRMIJ0/HElVRsAMPWwq3dwZ4JK1+Grx90XoEjYojKiEgRYbPa6FWzFz90+4F+t/TDZrGx+sRqun7XlY+3f0xyRrLpiNli41PZcyou+wFcdqyRTT7z8oWeU+G+D517kRxcDhObw7GNppNJMaUFrCJF1KGLh3h7y9v8euZXAAK8A3ii4RN0qd4Fm9VmNNsHKw/wUdTBq/77U/fW4Jk2NQswUTEWvQe+HQjnD4HFBveMhrueAav+VpUbp6tpRASHw8FPJ35i/JbxnEw8CUBN/5o81+Q5mlVsZixXbHxq9hqRPafiGLlgN291r8ttlZybcpX38aS8r5exfMVOWiIsjoBdc53H1e+FbpOgVDmzuaTQUxkRkWzpWel8/cfXTNo1iYT0BABaVGrBs02epXrp6kaz7TkVx32frOfHJ5pnlxExwOGAHbNgyb8gMwVKBUHPKRDS3HQyKcR0aa+IZPOweTDw1oEs6baEvrf0xc3ixrpT6+ixqAev//o651POm44oplks0Kg/DF0N5WpDYjRM7wxr3gZ7lul0UsTpzIhIMXQ07ijvb3uf1SdWA1DSvSRD6g6hX51+eNo8CzRLbHwqszcdp29oFY1mXEV6Eix5HnbOch5XawXdI8En0GwuKXQ0phGRa9oSvYV3t7zLvgv7AKhYsiJPNXqK9tXaY7XoxGmx99sc+DECMpKgZHnoPhmqtzadSgoRlRERyRG7w86PR37ko+0fEZscC0CdsnV4pvEz3FHhDsPpxLizB+DbhyF2L2CBls9Bq5FgczOdTAoBlRERyZWUzBSm753OtD3TSM507knSrEIznm78tG7CV9xlpMCykbDtS+dx1bugxxfgW9FoLHF9KiMicl3Op5wncnckc/fPJdOeCUCHkA480fAJgn2DDacTo3bPgx+egvREKFEWuk2GGmGmU4kLUxkRkRtyIuEEE3ZMYMmfSwBws7jRs2ZPhtUfRoB3gOF0Ysz5w86xTfQu53HzZ6D1aLC5G40lrkllRETyxB8X/uDD7R+y4dQGALzdvBl460AevvVhSrqXNJxOjMhIhRUvwZZI53FwqHN7eb/KZnOJy1EZEZE8tfnMZj7Y9gF7zu8BoIxXGYbWG0qvmr3wsHkYTidG7P0OFj0BafHg7Q9dJ0Kt9qZTiQtRGRGRPOdwOFh5bCWf7PiEo/FHAeflwMPrD6dz9c64WXWFRbFz4U+YFw6ndziPmz0O944FNxVUURkRkXyUYc/gu0Pf8fnOzzmbchaAKj5VGNFgBB1COhi/EZ8UsMx0WDUWfv3MeVypiXNs41/VbC4xTmVERPJdamYq3+z/hil7pnAh9QIA1f2q81jDx7i3yr3aOK24+WMxfDcCUuPAyw+6fAa33Gc6lRikMiIiBSY5I5mv/viKqXumZt+Ir3aZ2jze4HFaVm6JxWIxnFAKzKXjMO8ROLnFeRw6HNq8Cm4Fe5sBcQ0qIyJS4OLT45n5+0xm/j6TpIwkAOoF1OOxho/RrEIzlZLiIisDol6FXz52HldoAL2mQZmbzOaSAqcyIiLGXEy9yLS90/h639ekZqUC0DiwMY83eJwmQU0Mp5MCc2A5LBwOKRfA0xfu/xhu7WY6lRQglRERMe5cyjmm7J7C3P1zybBnABAaFMqw+sNoGtTUcDopEHGnYP4gOL7RedxkELR7E9x1h+biQGVERFxGdFI0k3dNZuHBhWQ6nFvMNw5szIj6I7g96HaNb4q6rExY8yasex9wQGBd6PUlBNxsOpnkM5UREXE5pxNPM3XPVBYcXJB9pqRh+YYMrzecZhW1pqTIOxQFC4ZC8jnwKAX3fQj1eplOJflIZUREXFZ0UjRT90xl/oH5pNvTAedC12H1h9GiUguXLyWx8anM3nScvqFVKO+rcUOuxJ+BBUPg6DrncaMB0P5t8ChhNpfki5x+f2sTABEpcEElg3gx9EWW9lhKv1v64WnzZNe5XTwW9Rh9FvdhzYk1uPLfSbEJaXwUdZDYhDTTUQof3wow4HtoNRKwwPYZ8MW9cHa/6WRikMqIiBhTvkR5Xrj9BZb1WMbDtz6Mt5s3e8/v5YmfnqD3j72JOhaF3WE3HVPymtUGrUc5S0mpQIj9HSbfDTu/Mp1MDLmuMvLpp58SEhKCl5cXoaGhbN68+arP3bt3Lz169CAkJASLxcKHH3543WFFpGgK8A7g/9u797Coy/Tx4++B4aQCSsRREEEJv2qaJ8ITZKir4SktN1s1285uW7q/Lc1aa9uy07puallW2u7qqnhMRTyQbFFYhlCoCMkhFAUkFRDkOM/vj1mnSHEZhPkww/26rrm6Ps/nmZl7Hudi7p7jHwb9gfip8fy2z2/poO9AxvkMnk58mqmfTGVn9k7THBOtFJdVcbSg1PQAGlwXl1VpGp9VCo6Ex5IgOApqK427t257HGoqtI5MWJjZc0Y2btzIrFmzWLVqFeHh4SxbtozY2FgyMzPx8vK6qv7hw4fZtGkTAwcOZN68eTz77LM8/fTTZgUpc0aEaF8uVl3knxn/ZH3Gei7VXgLAv5M/s3vPZkqPKTjrLT9P42/7s/h7wveN3n/qzp7MGx1qwYhsiKEekpbCwVdBGcAzFO75GLz/T+vIxA1qtQms4eHhDB48mBUrVgBgMBgICAjgySefZMGCBdd9blBQEE8//bQkI0KIJimrKWNT5ib+efyfprNvPJw9+E2v3zA9bDpujpb7e1BcVmWaI3K0oJQFW9N57e6+9PF3B8DL1Ukms96ovC+Me5KUnwW9M4x7wzjBtY1PaBaNa5UJrDU1NaSkpBAdHf3TC9jZER0dTXJycvOj/YXq6mrKysoaPIQQ7Y+boxsP9X2IvVP3sih8Ef6d/DlfdZ63U99mzOYxLE1ZSsnlEovE4uXmTB9/d9MDaHAtiUgLCBpmHLbpEQ11VbDz98aVN9XlWkcmWplZyUhJSQn19fV4e3s3KPf29qawsLDFglqyZAnu7u6mR0BAQIu9thDC+jjrnfl12K/ZNWUXS0YsoUfnHlTUVrDm6BrGbh7Ly8kvc6rslNZhipbQ0RNmxEL0S6Czh/RYeC8Szn6ndWSiFbXJ1TQLFy6ktLTU9Dh1Sv7ICCFAb6cnJjiGLRO3sGLUCvrf3J8aQw2bsjYRsz2GZz57hszzrb9E1MvViafu7ImXq5xE2yrs7GD40zBnD7h1hfPZ8EE0HP4A2vCSb9F8ZiUjnp6e2NvbU1RU1KC8qKgIHx+fFgvKyckJNze3Bg8hhLjCTmdHZEAk/xj3D9aMXcNw/+EYlIE9uXuYtnMaj+1/B0/ZzgAAHJ9JREFUjOQzya22V4mXmzPzRofK0ExrCwyHxz6H0HFQXw27/wCxD0BVqdaRiRZmVjLi6OjIwIEDSUhIMJUZDAYSEhKIiIho8eCEEOJ6dDodg3wG8W70u8ROiGVc0DjsdHZ8ceYLHtn/CNN2TjMuC67XdlmwuAEdPOC+fxsP17PTw/Ht8N5IKDiidWSiBZk9TDN//nxWr17Nxx9/TEZGBo8//jgVFRXMmTMHgFmzZrFw4UJT/ZqaGtLS0khLS6OmpoaCggLS0tI4efJky30KIUS7F+YRxhuRb7Bryi7u73U/LnoXsi5k8VzSc/xqy6/46OhHlNXIZHirpNNBxFx4cB90DoQLefDhGDi0SoZtbESzzqZZsWIFb775JoWFhfTv35+3336b8PBwAKKioggKCmLt2rUA5OXl0b1796teIzIyksTExCa9nyztFUKYq7S6lNisWNZnrOfc5XMAdNB34O6ed/Ob//sN/p38NY5QNMvli7BjLpzYZbwOi4FJK8Cli7ZxiWuSg/KEEAKoqa9hT+4e1h5by8mLxh5ZO50dY7qNYXbv2fTx7KNxhMJsSsHXq2HfIqivAfdAuGcNdB2kdWTiFyQZEUKIn1FKkXwmmbXH1pJ89qd9kQZ6D2Rmr5lEBURhb2evYYTCbGdSIXYOXMg1zieJfhEifiebpLUhkowIIUQjMs9n8o/j/yAuN446Qx1g3G7+17f8mik9p+Du5K5xhNdWXFbFuq/yuT88UFbyXFFVZtwc7dg243Xor2Dyu8aJr0JzkowIIcT/UFRRxMbMjcRmxXKx+iIALnoXJoZMZEbYDII7B2scYUNHC0qJWZ7ErieHm3aBFRiHbVLWwJ4FxiXAbl1h2ocQeLvWkbV7rbIdvBBC2BLvjt78fsDv2T9tPy8NfYmeXXpyue4yGzM3MmnHJB7d/yifnf4MgzJoHaq4Hp0OBj0IDyfATT2g7DSsGQ+fLwWD/NtZA+kZEUKI/1JK8U3RN/zr+L9IPJ1oSkK6uXXjvrD7mNxjMh0dOlo0Jjmgz0zV5bBrPqRvMl73iIYp7xm3mRcWJ8M0QghxA06Xn2bDiQ1s/X4r5bXGg9o6OnRkSo8p3Bd2H4FugRaJ42/7s/h7wveN3n/qzp7MGx1qkVishlKQ+i+I+yPUXQZXX5j6AQQN1zqydkeSESGEaAGVtZXszN7JuhPryC3NNZUP8xvG9FumM7LryFZdhSM9Izeg6Lhx+/iSTNDZQdRCGPEHkFVTFiPJiBBCtCCDMnDozCH+lfEvkgqSUBj/dPp09OGe0Hu4u+fdeLq07lCATGBthpoKYw9J2jrjdfdIuHs1uHpf/3miRcgEViGEaEF2OjuG+g/lneh3iLs7jgf7PEhnp84UVhSyPHU5ozeP5pn/PENKUUqrHdAnmsGxI0x+ByavAocOkPsfWDUcchK1jkz8jPSMCCFEM1XXV7Mvbx8bMzfy7blvTeU9Ovdg+i3TiQmOoZNjpxZ7P9ln5Aady4LY2VB8HNBB5DMQ+awM27QiGaYRQggLyvgxg42ZG4nLjeNy3WXAeBbOhJAJ3HvLvYR2kUmmbULtZdjzLBz52Hjdbbhxcqubr7Zx2ShJRoQQQgNlNWXszN7JxsyNDSa83uZ1G1N7TmVM0Bhc9C4aRthQu+1tSd8MO5+CmkvQwRPufs+4DFi0KElGhBBCQ0opDhceZkPmBj7N/5R6VQ+Aq4Mr44PHMy10GmEeYRpH2c4nxf6YbRy2KUw3Xg+fB3c8D/Z6beOyIZKMCCFEG1FcWcyOkzvY8v0WCi4VmMp739SbqaFTGd99vMU3U7uiXScjALVVxtN/D39gvA643biVvHtXbeOyEZKMCCFEG2NQBr46+xVbvt9CQn6C6ZA+F70L47qPY2rPqfT17IuulU+dlb1LruHYdvjkSaguA5cuxl1bQ8dqHZXVk2RECCHasPNV59mZvZPNWZvJK8szlffs0pOpPacSExzTaqcHy66ujTifC5vnwJlU43XE7yD6RbB30DIqqybJiBBCWAGlFEeKj7Alawv7fthHdb2xx8LRzpHRQaOZ0mMKg30GY6druW2hpGfkOuqqYf9i+Opd47X/IJj2EXTppm1cVkqSESGEsDKl1aXsztnNlu+3kHUhy1Tu19GPiT0mMjFkIgGuAS36nu1+zkhjMnbBjiegqhSc3WHSO9ArRuuorI7swCqEEFbG3cmdGb1msHnCZtaPX8+00Gl0cujEmYozrPp2FeO3jmdO/Bx2nNxBZW2l1uECxl6Wv+3PorisSutQWlavGHgsydgzUlUKG++HPQuMPSeixUnPiBBCtGFVdVUk5Cew4+QODp09ZDoTx0XvwtigsUwKmcRA74HNnvR6o/uM2HzPSn0tJLwEXy43Xvv2h3vWgkd3TcOyFjJMI4QQNubspbPszNnJjpM7yC/PN5V37dSVST0mMTFkIn6d/Cwak80nI1dk7YVtj8Hl8+DkBhOXQ+/JWkfV5kkyIoQQNkopRWpxKjuydxCfG09l3U9DNkN8hhATHMPobqNb9Fycn2u3E2BLC2Dzg3DqkPF68EMw5hVwsMHP2kIkGRFCiHagsraShPwEtp/czteFX5vKneydiAqIIiY4hmF+w3BoweWp7XppcH0dHHwFkpYar336wj0fw00h2sbVRkkyIoQQ7UzBpQLicuLYmbOzwbk4nZ06MzZoLDHBMfS7ud8Nb6rWbntGfu7kAdj6KFSWgGMnmPB36DtN66jaHElGhBCinVJKcfz8cXbn7CYuJ44fq3403evaqSsxITHc1f0ugtyDbvi9mjNnxGYO5ys7C1sfhrzPjdcDZsG4N8Ch7RyEqDVZ2iuEEO2UTqej9029eWbwMxy45wDvRb/HhOAJuOhdOH3pNKu+XcWE7ROYsXsG6zLW8ePlH//3i7ag4vJq/p7wval3xWq5+cKsHRD5LKCDI/+A1aPgXKbWkVkd6RkRQoh2orK2koOnDrIrZxfJZ5JNJwnb6+wZ4jOEcd3HMSpwlFnb0Denl8MmV+DkJMKWh6GiGBw6wF1Lof99WkelORmmEUII0aiSyyXszdvLzuydHPvxmKlcb6dnmN8wxgaNZVTgqBY7TbhdzDMpLzIO2+T+x3jd/34Y/yY4anMic1sgyYgQQogmyS/LZ2/eXvbk7eH7Cz+tknGyd2Jk15GMDRrLyK4jcdE3fy5Ec1bgWOXcEkM9fL4UEl8FZQDPW4ybpHn/n9aRaUKSESGEEGbLvphNfF488bnxDU4TdtG7EBUQxbigcQzzH4ajvaNZr9ucnhGrHs7JS4ItD0H5WdC7wPg34LaZcIMrmaxNU3+/9RaMSQghRBsX0jmEuf3n8kS/J8i8kEl8bjzxefEUXCpgT+4e9uTuwdXBlVGBoxgTNIbbfW9vUmLi5eZ8VbLRx9/d+pKMpgoabjzbZtujxmXAnzwJuZ9DzFJwctU6ujZHkhEhhBBX0el0hHmEEeYRxlMDnuJoyVH25O1hb95eiiuL2ZG9gx3ZO+jk0InIgEhGB45mqP/QGxrKgat7UH7+X7CyuSUdPWFGLHz5d0h4GdI3wZkjxmEbn75aR9emyDCNEEKIJjMoA6nFqcTnxpOQn8C5y+dM91z0Lgz3H050YDQju45sdDv6680FsdndXfMPGbeSLysAeyf41RIY9KDND9vInBEhhBCtyqAMfHvuWw78cIADPxzgTMUZ0z0HOweG+g0luls0dwTc0eTlwja96qbyPGx/HLLijde9p8CEt8HZdn/XJBkRQghhMVd2fb2SmPx88qu9zp7BPoMZ3W00owJH4eni2aTXtOoJrI1RCpJXwoHFYKiDLt3hnjXgd5vWkbUKSUaEEEJoQinFyYsnOZBvTEyyLmSZ7unQcZvXbYwKHEVUQBTd3Lo1+jo2mYxccfobiJ0Dpflg7whj/gJDHrG5YRtJRoQQQrQJP5T9YOoxOfrj0Qb3gt2DiQqI4o6AO+jr2Rd7O3vTPavcZ8Qcly/Ajt/BiV3G67AYmLQCXLpoG1cLkmRECCFEm3P20lk+PfUpiacS+abwG+pUnemeh7MHkV0jiQqIIsIv4oZX5lgFpeDr92Hf81BfA50DYdpa6DpQ68hahCQjQggh2rTymnKSCpI4eOogSaeTKK8tN91zsnciwjeCqIAoIgMimzzPxGqdSYXYB+BCHtjpIfoliJhr9cM2kowIIYSwGrWGWlKKUkg8lUjiqUQKLhU0uH+r562M7DqS4V2H08ujF3Y6Gzx0vqoUdj4Fx7YZr0PHweR3oIOHtnHdAElGhBBCWCWlFN9f/J6D+QdJPJV41TyTm5xvYrj/cIZ3Hc5Qv6G4OdrQ74JS8M1HEL8Q6qvBrStM+wgCw7WOrFkkGRFCCGETiiuL+c/p/5B0OolDZw9RWVdpumevs6ffzf0Y0XUEI/xHENolFJ2VD20AcPY747DN+WzQ2cOdL8DQp8DOunqEJBkRQghhc2rrazlSfITPT39OUkES2aXZDe57dfBihL8xMQn3DW90F1irUF0Ou+ZBeqzxusdomLLKuM28lZBkRAghhM0ruFRA0ukkkgqS+KrwKy7XXTbd0+v0DPAeQIRfBEP9hhLmEWZ9c02UgtR/Qtwfoa4KXH1h6ocQNEzryJpEkhEhhBDtSnV9NSmFKXxeYOw1+fkusABdnLoQ7htOhF8EEb4R+Hby1SbQ5ig6bhy2KckEnR1EPQcj5sPP9mVpiyQZEUII0a7ll+WTVJBE8tlkDhcepqK2osH9ILcgU2Iy2Gdw2x/SqamA3f8Pvl1vvA6OgrtXQycvLaO6LklGhBBCiP+qNdSSfi6d5LPJJJ9JJr0kHYMymO7rdXpuvflWbve7nQjfCHp79sbBzkHDiK8jbT3s/gPUVkJHL5j6AQRHah3VNUkyIoQQQjSirKaMw2cPm5KT/PL8Bvdd9C7c5nUbg30GM9hnML1v6o3eTq9RtNdwLtM4bFN8HNBB5DMQ+WybG7aRZEQIIYRootPlp02JyeHCw1ysvtjgfgd9BwZ4D2Cwz2CG+AwhzCNM++Sk9jLseRaOfGy8DhphHLZxaztzYSQZEUIIIZrBoAycvHiSw4WH+frs13xT9A1lNWUN6nRy6MQA7wEM8RnCIJ9BhHUJa3DIn0V9Fwu7noaaS9DBE+5+H3rcqU0svyDJiBBCCNECDMpA1oUsY3JS+DUphSkNztEBcHVwpZ9XPwZ4DeA2r9vo49kHZ70FTxouOWkctilKN14Pnw93LAJ7bXtvJBkRQgghWkG9oZ7MC5kcLjzM4cLDpBSlcKn2UoM6ejs9vW/qbUpO+nv1p4tzl9YNrLYK9i2Cwx8YrwMjjHuSuPu37vtehyQjQgghhAXUGerIvJBJWnEaR4qOkFqcyrnL566q1929uyk56XdzP7q5dWudreuPbYNPfg/VZeDiAVPeg9AxLf8+TSDJiBBCCKEBpRQFlwpILU7lSPERUotSr9q2HsDN0Y2+nn3p49mHW2++lT6effBwbqETes/nQOwcOJtmvB76e7jzT2Bv2eXKkowIIYQQbcTFqouknUvjSPER0orTOP7jcarrq6+q17VTV/p69qXvzX3p69mXXjf1wsneqXlvWlcN+/8EX63674sPNp4A3DnwBj6JeSQZEUIIIdqoWkMtWReyOHruKN+VfEd6STq5pblX1dPr9IR6hBoTE49ehN0URs/OPXG0d2z6m2Xsgh1PQFUpOLvD5Hch7K4W/DSNa9VkZOXKlbz55psUFhbSr18/li9fzpAhQxqtHxsbywsvvEBeXh49e/bk9ddfZ/z48U1+P0lGhBBC2LqymjKOlhzlaMlR0s+l813Jd5yvOn9VPb1OT/fO3Y3JiUeY6eHq6Nr4i1/4ATY/CAXfGK/DH4fRfwa9GUlNM7RaMrJx40ZmzZrFqlWrCA8PZ9myZcTGxpKZmYmX19X743/55ZeMHDmSJUuWEBMTw/r163n99dc5cuQIffr0adEPI4QQQtgKpRRnKs6Qfi6dYz8eI+N8BifOn6C0uvSa9f07+dPLoxehXUIJ6RxCSOcQAl0DcbgyT6SuBhJeguQVxmu/22DaGvDo3mqfodWSkfDwcAYPHsyKFcYPYzAYCAgI4Mknn2TBggVX1Z8+fToVFRXs2rXLVHb77bfTv39/Vq1a1aIfRgghhLBlSimKKovI+NGYmGSczyDzfCZnKs5cs75epyfQLdCUnIS4hxB88Szd972Ew+UL4OQGE5dD78mtEm9Tf7/N2g2lpqaGlJQUFi5caCqzs7MjOjqa5OTkaz4nOTmZ+fPnNygbO3Ys27dvb/R9qqurqa7+aWJPWVlZo3WFEEKI9kKn0+HT0Qefjj7cEXiHqby0upQT509w4vwJTl48Sc7FHLJLs6morSCnNIec0hz2/7DfVD9u5iYC9rwApw5B7GzIewjGvAIOFtyo7WfMSkZKSkqor6/H29u7Qbm3tzcnTpy45nMKCwuvWb+wsLDR91myZAkvvfSSOaEJIYQQ7Za7kzvhvuGE+4abyq70omRfzDYmKKU5ZF/MpuBSAX4+A+GBXXDwVUhaatwozbcfDJilSfxt6AjCnyxcuLBBb0pZWRkBAQEaRiSEEEJYl5/3ogzzH2YqV0r9d7M1e4heDEHDIH0z9P+NZrGalYx4enpib29PUVFRg/KioiJ8fHyu+RwfHx+z6gM4OTnh5NTMddVCCCGEaNRVu772iDY+NGRnTmVHR0cGDhxIQkKCqcxgMJCQkEBERMQ1nxMREdGgPsD+/fsbrS+EEEKI9sXsYZr58+cze/ZsBg0axJAhQ1i2bBkVFRXMmTMHgFmzZuHv78+SJUsAeOqpp4iMjOSvf/0rd911Fxs2bOCbb77h/fffb9lPIoQQQgirZHYyMn36dM6dO8ef/vQnCgsL6d+/P/Hx8aZJqvn5+djZ/dThMnToUNavX8/zzz/Pc889R8+ePdm+fXuT9xgRQgghhG2T7eCFEEII0Sqa+vtt1pwRIYQQQoiWJsmIEEIIITQlyYgQQgghNCXJiBBCCCE0JcmIEEIIITQlyYgQQgghNCXJiBBCCCE0JcmIEEIIITQlyYgQQgghNGX2dvBauLJJbFlZmcaRCCGEEKKprvxu/6/N3q0iGSkvLwcgICBA40iEEEIIYa7y8nLc3d0bvW8VZ9MYDAbOnDmDq6srOp2uxV63rKyMgIAATp06JWfetCJpZ8uRtrYMaWfLkHa2jNZsZ6UU5eXl+Pn5NThE95esomfEzs6Orl27ttrru7m5yRfdAqSdLUfa2jKknS1D2tkyWqudr9cjcoVMYBVCCCGEpiQZEUIIIYSm7F988cUXtQ5CS/b29kRFRaHXW8WIldWSdrYcaWvLkHa2DGlny9C6na1iAqsQQgghbJcM0wghhBBCU5KMCCGEEEJTkowIIYQQQlOSjAghhBBCUzafjKxcuZKgoCCcnZ0JDw/n66+/vm792NhYwsLCcHZ2pm/fvsTFxVkoUutmTjuvXr2aESNG0KVLF7p06UJ0dPT//HcRPzH3O33Fhg0b0Ol0TJ48uZUjtA3mtvPFixeZO3cuvr6+ODk5ERoaKn8/msDcdl62bBm33HILLi4uBAQEMG/ePKqqqiwUrXX67LPPmDBhAn5+fuh0OrZv3/4/n5OYmMiAAQNwcnKiR48erF27tnWDVDZsw4YNytHRUX300Ufq2LFj6uGHH1adO3dWRUVF16z/xRdfKHt7e/XGG2+o48ePq+eff145ODio9PR0C0duXcxt5xkzZqiVK1eq1NRUlZGRoR544AHl7u6uTp8+beHIrY+5bX1Fbm6u8vf3VyNGjFCTJk2yULTWy9x2rq6uVoMGDVLjx49XSUlJKjc3VyUmJqq0tDQLR25dzG3ndevWKScnJ7Vu3TqVm5ur9u7dq3x9fdW8efMsHLl1iYuLU4sWLVJbt25VgNq2bdt16+fk5KgOHTqo+fPnq+PHj6vly5cre3t7FR8f32ox2nQyMmTIEDV37lzTdX19vfLz81NLliy5Zv17771X3XXXXQ3KwsPD1aOPPtqqcVo7c9v5l+rq6pSrq6v6+OOPWytEm9Gctq6rq1NDhw5VH3zwgZo9e7YkI01gbju/++67Kjg4WNXU1FgqRJtgbjvPnTtXjRo1qkHZ/Pnz1bBhw1o1TlvSlGTkmWeeUb17925QNn36dDV27NhWi8tmh2lqampISUkhOjraVGZnZ0d0dDTJycnXfE5ycnKD+gBjx45ttL5oXjv/UmVlJbW1tXh4eLRWmDahuW395z//GS8vL377299aIkyr15x2/uSTT4iIiGDu3Ll4e3vTp08fXn31Verr6y0VttVpTjsPHTqUlJQU01BOTk4OcXFxjB8/3iIxtxda/Bba7JZ2JSUl1NfX4+3t3aDc29ubEydOXPM5hYWF16xfWFjYanFau+a08y89++yz+Pn5XfXlFw01p62TkpL48MMPSUtLs0SINqE57ZyTk8Onn37K/fffT1xcHCdPnuSJJ56gtraWxYsXWyJsq9Ocdp4xYwYlJSUMHz4cpRR1dXU89thjPPfcc5YIud1o7LewrKyMy5cv4+Li0uLvabM9I8I6vPbaa2zYsIFt27bh7OysdTg2pby8nJkzZ7J69Wo8PT21DsemGQwGvLy8eP/99xk4cCDTp09n0aJFrFq1SuvQbEpiYiKvvvoq77zzDkeOHGHr1q3s3r2bl19+WevQxA2y2Z4RT09P7O3tKSoqalBeVFSEj4/PNZ/j4+NjVn3RvHa+4q233uK1117jwIED3Hrrra0Zpk0wt62zs7PJy8tjwoQJpjKDwQCAXq8nMzOTkJCQ1g3aCjXnO+3r64uDgwP29vamsl69elFYWEhNTQ2Ojo6tGrM1ak47v/DCC8ycOZOHHnoIgL59+1JRUcEjjzzCokWLsLOT/79uCY39Frq5ubVKrwjYcM+Io6MjAwcOJCEhwVRmMBhISEggIiLims+JiIhoUB9g//79jdYXzWtngDfeeIOXX36Z+Ph4Bg0aZIlQrZ65bR0WFkZ6ejppaWmmx8SJE7njjjtIS0sjICDAkuFbjeZ8p4cNG8bJkydNyR5AVlYWvr6+kog0ojntXFlZeVXCcSUBVHLMWovR5Lew1abGtgEbNmxQTk5Oau3ater48ePqkUceUZ07d1aFhYVKKaVmzpypFixYYKr/xRdfKL1er9566y2VkZGhFi9eLEt7m8Dcdn7ttdeUo6Oj2rx5szp79qzpUV5ertVHsBrmtvUvyWqapjG3nfPz85Wrq6v63e9+pzIzM9WuXbuUl5eX+stf/qLVR7AK5rbz4sWLlaurq/r3v/+tcnJy1L59+1RISIi69957tfoIVqG8vFylpqaq1NRUBailS5eq1NRU9cMPPyillFqwYIGaOXOmqf6Vpb1//OMfVUZGhlq5cqUs7b1Ry5cvV4GBgcrR0VENGTJEHTp0yHQvMjJSzZ49u0H9TZs2qdDQUOXo6Kh69+6tdu/ebeGIrZM57dytWzcFXPVYvHix5QO3QuZ+p39OkpGmM7edv/zySxUeHq6cnJxUcHCweuWVV1RdXZ2Fo7Y+5rRzbW2tevHFF1VISIhydnZWAQEB6oknnlAXLlzQIHLrcfDgwWv+zb3StrNnz1aRkZFXPad///7K0dFRBQcHqzVr1rRqjDqlpG9LCCGEENqx2TkjQgghhLAOkowIIYQQQlOSjAghhBBCU5KMCCGEEEJTkowIIYQQQlOSjAghhBBCU5KMCCGEEEJTkowIIYQQQlOSjAghhBBCU5KMCCGEEEJTkowIIYQQQlOSjAghhBBCU/8f+/Hy6gCieewAAAAASUVORK5CYII=",
      "text/plain": [
       "Figure(PyObject <Figure size 640x480 with 1 Axes>)"
      ]
     },
     "metadata": {},
     "output_type": "display_data"
    },
    {
     "data": {
      "text/plain": [
       "1-element Array{PyCall.PyObject,1}:\n",
       " PyObject <matplotlib.lines.Line2D object at 0x7fadec015cf8>"
      ]
     },
     "execution_count": 109,
     "metadata": {},
     "output_type": "execute_result"
    }
   ],
   "source": [
    "using PyPlot\n",
    "H(p)=1+p*log2(p)+(1-p)*log2(1-p)\n",
    "\n",
    "#xlim(0,1)\n",
    "#ylim(0,0.5)\n",
    "plot(R,D, \"+\")\n",
    "plot((0,1),(0.5,0))\n",
    "plot(H.(0:0.001:0.5), 0:0.001:0.5)"
   ]
  },
  {
   "cell_type": "code",
   "execution_count": 110,
   "metadata": {},
   "outputs": [
    {
     "data": {
      "text/plain": [
       "mixed (generic function with 1 method)"
      ]
     },
     "execution_count": 110,
     "metadata": {},
     "output_type": "execute_result"
    }
   ],
   "source": [
    "function mixed(pk; maxiter=10^7, tol=1e-15, N=6, damp=0.9)\n",
    "    N1 = N + 1\n",
    "    p=OffsetArray(zeros(2N1+1), -N1:N1);\n",
    "    p[-N+1:N-1] .= 1/(2N-1)\n",
    "    krange = [k for k in eachindex(pk) if pk[k] > tol]\n",
    "    @assert sum(pk[krange]) ≈ 1\n",
    "    z = sum(k*pk[k] for k=krange)\n",
    "    for i=1:maxiter\n",
    "        p1 = sum(k*pk[k]*iter(p,k) for k=krange)/z\n",
    "        if sum(abs.(p1 - p)) < tol\n",
    "            break\n",
    "        end\n",
    "        p = p*damp+p1*(1-damp)\n",
    "    end\n",
    "    O = overlap_variables(p) - (2/z)*sum(pk[k]*overlap_factors(p,k) for k=krange)\n",
    "    D = (1-O)/2\n",
    "    D,p\n",
    "end"
   ]
  },
  {
   "cell_type": "code",
   "execution_count": 111,
   "metadata": {},
   "outputs": [
    {
     "data": {
      "text/plain": [
       "mixture2 (generic function with 1 method)"
      ]
     },
     "execution_count": 111,
     "metadata": {},
     "output_type": "execute_result"
    }
   ],
   "source": [
    "function mixture2(R) \n",
    "    α=1-R\n",
    "    k=floor(Int, 2/α)\n",
    "    s=k+1-2/α\n",
    "    p=[fill(0,k-1); s; 1-s]\n",
    "    p .*= p .> 1e-10\n",
    "    p ./ sum(p)\n",
    "end\n"
   ]
  },
  {
   "cell_type": "code",
   "execution_count": 136,
   "metadata": {
    "scrolled": true
   },
   "outputs": [
    {
     "data": {
      "text/plain": [
       "99-element Array{Float64,1}:\n",
       " 0.4546474073128681\n",
       " 0.43565049932361133\n",
       " 0.42092765046912317\n",
       " 0.40839439222208573\n",
       " 0.3972457420215144\n",
       " 0.3870702443196218\n",
       " 0.3776242651788484\n",
       " 0.36874955806591975\n",
       " 0.3603365352601175\n",
       " 0.3523056385673838\n",
       " 0.34459697668198624\n",
       " 0.33716414626734653\n",
       " 0.3299703418625086\n",
       " ⋮\n",
       " 0.020370784947590925\n",
       " 0.017979055383501308\n",
       " 0.015666129177374533\n",
       " 0.013449978144655372\n",
       " 0.0113201258591068\n",
       " 0.009302254807509736\n",
       " 0.007397829094439923\n",
       " 0.0056264302423451595\n",
       " 0.004010648891537405\n",
       " 0.002577264143732827\n",
       " 0.0013672330158682189\n",
       " 0.0004509986577261871"
      ]
     },
     "execution_count": 136,
     "metadata": {},
     "output_type": "execute_result"
    }
   ],
   "source": [
    "Rm = 0.01:0.01:0.99\n",
    "pks = mixture2.(Rm)\n",
    "αs = 2 ./ [sum(k*pk[k] for k=eachindex(pk)) for pk in pks]\n",
    "@assert Rm ≈ 1 .- αs\n",
    "Dm = mixed.(pks, N=30)\n",
    "Dm = [dm[1] for dm in Dm]"
   ]
  },
  {
   "cell_type": "code",
   "execution_count": 113,
   "metadata": {},
   "outputs": [
    {
     "name": "stderr",
     "output_type": "stream",
     "text": [
      "WARNING: ignoring conflicting import of Plots.plot into Main\n",
      "WARNING: ignoring conflicting import of Plots.plot into Main\n"
     ]
    }
   ],
   "source": [
    "include(\"../code/headers.jl\")"
   ]
  },
  {
   "cell_type": "code",
   "execution_count": 114,
   "metadata": {},
   "outputs": [],
   "source": [
    "seed = 1234\n",
    "n = factorial(7)*2\n",
    "R = 0.21:0.05:0.81\n",
    "m_ = n*(1 .- R)\n",
    "nrates = length(m_)\n",
    "m = round.(Int,m_)\n",
    "ms = MS(maxiter=1000, convergence=:parity, Tmax=1, gamma=5e-3, sigma=1e-10)\n",
    "oc = OptimalCycle()\n",
    "res_MS = Vector{BPResults{MS}}(undef,nrates)\n",
    "res_OC = Vector{OptimalCycleResults}(undef,nrates)\n",
    "avg_dist = zeros(nrates)\n",
    "avg_dist_oc = zeros(nrates)\n",
    "navg = 10;"
   ]
  },
  {
   "cell_type": "code",
   "execution_count": 115,
   "metadata": {
    "scrolled": true
   },
   "outputs": [
    {
     "name": "stdout",
     "output_type": "stream",
     "text": [
      "## Rate 0.21. 1 of 13\n",
      "Iter 1. Distortion 0.2774. Cycle weight -4456.0. Energy shift -2228.0\n",
      "Iter 2. Distortion 0.2774. Cycle weight 0.0. Energy shift 0.0\n",
      "Iter 1. Distortion 0.279. Cycle weight -4520.0. Energy shift -2260.0\n",
      "Iter 2. Distortion 0.279. Cycle weight 0.0. Energy shift 0.0\n",
      "Iter 1. Distortion 0.2791. Cycle weight -4522.0. Energy shift -2261.0\n",
      "Iter 2. Distortion 0.2791. Cycle weight 0.0. Energy shift 0.0\n",
      "Iter 1. Distortion 0.2786. Cycle weight -4428.0. Energy shift -2214.0\n",
      "Iter 2. Distortion 0.2786. Cycle weight 0.0. Energy shift 0.0\n",
      "Iter 1. Distortion 0.2755. Cycle weight -4394.0. Energy shift -2197.0\n",
      "Iter 2. Distortion 0.2755. Cycle weight 0.0. Energy shift 0.0\n",
      "Iter 1. Distortion 0.279. Cycle weight -4284.0. Energy shift -2142.0\n",
      "Iter 2. Distortion 0.279. Cycle weight 0.0. Energy shift 0.0\n",
      "Iter 1. Distortion 0.2795. Cycle weight -4398.0. Energy shift -2199.0\n",
      "Iter 2. Distortion 0.2795. Cycle weight 0.0. Energy shift 0.0\n",
      "Iter 1. Distortion 0.2776. Cycle weight -4598.0. Energy shift -2299.0\n",
      "Iter 2. Distortion 0.2776. Cycle weight 0.0. Energy shift 0.0\n",
      "Iter 1. Distortion 0.2767. Cycle weight -4430.0. Energy shift -2215.0\n",
      "Iter 2. Distortion 0.2767. Cycle weight 0.0. Energy shift 0.0\n",
      "Iter 1. Distortion 0.2801. Cycle weight -4436.0. Energy shift -2218.0\n",
      "Iter 2. Distortion 0.2801. Cycle weight 0.0. Energy shift 0.0\n",
      "## Rate 0.26. 2 of 13\n",
      "Iter 1. Distortion 0.2527. Cycle weight -4954.0. Energy shift -2477.0\n",
      "Iter 2. Distortion 0.2527. Cycle weight 0.0. Energy shift 0.0\n",
      "Iter 1. Distortion 0.2521. Cycle weight -5062.0. Energy shift -2531.0\n",
      "Iter 2. Distortion 0.2521. Cycle weight 0.0. Energy shift 0.0\n",
      "Iter 1. Distortion 0.2507. Cycle weight -5094.0. Energy shift -2547.0\n",
      "Iter 2. Distortion 0.2507. Cycle weight 0.0. Energy shift 0.0\n",
      "Iter 1. Distortion 0.2498. Cycle weight -5008.0. Energy shift -2504.0\n",
      "Iter 2. Distortion 0.2498. Cycle weight 0.0. Energy shift 0.0\n",
      "Iter 1. Distortion 0.2513. Cycle weight -4882.0. Energy shift -2441.0\n",
      "Iter 2. Distortion 0.2513. Cycle weight 0.0. Energy shift 0.0\n",
      "Iter 1. Distortion 0.2481. Cycle weight -4906.0. Energy shift -2453.0\n",
      "Iter 2. Distortion 0.2481. Cycle weight 0.0. Energy shift 0.0\n",
      "Iter 1. Distortion 0.247. Cycle weight -5052.0. Energy shift -2526.0\n",
      "Iter 2. Distortion 0.247. Cycle weight 0.0. Energy shift 0.0\n",
      "Iter 1. Distortion 0.2472. Cycle weight -5210.0. Energy shift -2605.0\n",
      "Iter 2. Distortion 0.2472. Cycle weight 0.0. Energy shift 0.0\n",
      "Iter 1. Distortion 0.251. Cycle weight -4948.0. Energy shift -2474.0\n",
      "Iter 2. Distortion 0.251. Cycle weight 0.0. Energy shift 0.0\n",
      "Iter 1. Distortion 0.2503. Cycle weight -5036.0. Energy shift -2518.0\n",
      "Iter 2. Distortion 0.2503. Cycle weight 0.0. Energy shift 0.0\n",
      "## Rate 0.31. 3 of 13\n",
      "Iter 1. Distortion 0.2236. Cycle weight -5540.0. Energy shift -2770.0\n",
      "Iter 2. Distortion 0.2236. Cycle weight 0.0. Energy shift 0.0\n",
      "Iter 1. Distortion 0.2233. Cycle weight -5642.0. Energy shift -2821.0\n",
      "Iter 2. Distortion 0.2233. Cycle weight 0.0. Energy shift 0.0\n",
      "Iter 1. Distortion 0.2227. Cycle weight -5658.0. Energy shift -2829.0\n",
      "Iter 2. Distortion 0.2227. Cycle weight 0.0. Energy shift 0.0\n",
      "Iter 1. Distortion 0.2206. Cycle weight -5596.0. Energy shift -2798.0\n",
      "Iter 2. Distortion 0.2206. Cycle weight 0.0. Energy shift 0.0\n",
      "Iter 1. Distortion 0.2213. Cycle weight -5486.0. Energy shift -2743.0\n",
      "Iter 2. Distortion 0.2213. Cycle weight 0.0. Energy shift 0.0\n",
      "Iter 1. Distortion 0.2224. Cycle weight -5424.0. Energy shift -2712.0\n",
      "Iter 2. Distortion 0.2224. Cycle weight 0.0. Energy shift 0.0\n",
      "Iter 1. Distortion 0.2222. Cycle weight -5552.0. Energy shift -2776.0\n",
      "Iter 2. Distortion 0.2222. Cycle weight 0.0. Energy shift 0.0\n",
      "Iter 1. Distortion 0.2228. Cycle weight -5702.0. Energy shift -2851.0\n",
      "Iter 2. Distortion 0.2228. Cycle weight 0.0. Energy shift 0.0\n",
      "Iter 1. Distortion 0.2224. Cycle weight -5524.0. Energy shift -2762.0\n",
      "Iter 2. Distortion 0.2224. Cycle weight 0.0. Energy shift 0.0\n",
      "Iter 1. Distortion 0.2201. Cycle weight -5644.0. Energy shift -2822.0\n",
      "Iter 2. Distortion 0.2201. Cycle weight 0.0. Energy shift 0.0\n",
      "## Rate 0.36. 4 of 13\n",
      "Iter 1. Distortion 0.2048. Cycle weight -5920.0. Energy shift -2960.0\n",
      "Iter 2. Distortion 0.1988. Cycle weight -120.0. Energy shift -60.0\n",
      "Iter 3. Distortion 0.1988. Cycle weight 0.0. Energy shift 0.0\n",
      "Iter 1. Distortion 0.2059. Cycle weight -5994.0. Energy shift -2997.0\n",
      "Iter 2. Distortion 0.197. Cycle weight -178.0. Energy shift -89.0\n",
      "Iter 3. Distortion 0.197. Cycle weight 0.0. Energy shift 0.0\n",
      "Iter 1. Distortion 0.2075. Cycle weight -5964.0. Energy shift -2982.0\n",
      "Iter 2. Distortion 0.1999. Cycle weight -154.0. Energy shift -77.0\n",
      "Iter 3. Distortion 0.1999. Cycle weight 0.0. Energy shift 0.0\n",
      "Iter 1. Distortion 0.2043. Cycle weight -5926.0. Energy shift -2963.0\n",
      "Iter 2. Distortion 0.1973. Cycle weight -140.0. Energy shift -70.0\n",
      "Iter 3. Distortion 0.1973. Cycle weight 0.0. Energy shift 0.0\n",
      "Iter 1. Distortion 0.2028. Cycle weight -5860.0. Energy shift -2930.0\n",
      "Iter 2. Distortion 0.195. Cycle weight -156.0. Energy shift -78.0\n",
      "Iter 3. Distortion 0.195. Cycle weight 0.0. Energy shift 0.0\n",
      "Iter 1. Distortion 0.2115. Cycle weight -5644.0. Energy shift -2822.0\n",
      "Iter 2. Distortion 0.2012. Cycle weight -208.0. Energy shift -104.0\n",
      "Iter 3. Distortion 0.2012. Cycle weight 0.0. Energy shift 0.0\n",
      "Iter 1. Distortion 0.2065. Cycle weight -5868.0. Energy shift -2934.0\n",
      "Iter 2. Distortion 0.1981. Cycle weight -170.0. Energy shift -85.0\n",
      "Iter 3. Distortion 0.198. Cycle weight -2.0. Energy shift -1.0\n",
      "Iter 4. Distortion 0.198. Cycle weight 0.0. Energy shift 0.0\n",
      "Iter 1. Distortion 0.2061. Cycle weight -6040.0. Energy shift -3020.0\n",
      "Iter 2. Distortion 0.1996. Cycle weight -130.0. Energy shift -65.0\n",
      "Iter 3. Distortion 0.1996. Cycle weight 0.0. Energy shift 0.0\n",
      "Iter 1. Distortion 0.2048. Cycle weight -5880.0. Energy shift -2940.0\n",
      "Iter 2. Distortion 0.1976. Cycle weight -144.0. Energy shift -72.0\n",
      "Iter 3. Distortion 0.1976. Cycle weight 0.0. Energy shift 0.0\n",
      "Iter 1. Distortion 0.207. Cycle weight -5908.0. Energy shift -2954.0\n",
      "Iter 2. Distortion 0.1997. Cycle weight -148.0. Energy shift -74.0\n",
      "Iter 3. Distortion 0.1997. Cycle weight 0.0. Energy shift 0.0\n",
      "## Rate 0.41. 5 of 13\n",
      "Iter 1. Distortion 0.1994. Cycle weight -6028.0. Energy shift -3014.0\n",
      "Iter 2. Distortion 0.1793. Cycle weight -406.0. Energy shift -203.0\n",
      "Iter 3. Distortion 0.1792. Cycle weight -2.0. Energy shift -1.0\n",
      "Iter 4. Distortion 0.1792. Cycle weight 0.0. Energy shift 0.0\n",
      "Iter 1. Distortion 0.1999. Cycle weight -6114.0. Energy shift -3057.0\n",
      "Iter 2. Distortion 0.1792. Cycle weight -418.0. Energy shift -209.0\n",
      "Iter 3. Distortion 0.1792. Cycle weight 0.0. Energy shift 0.0\n",
      "Iter 1. Distortion 0.198. Cycle weight -6156.0. Energy shift -3078.0\n",
      "Iter 2. Distortion 0.1798. Cycle weight -368.0. Energy shift -184.0\n",
      "Iter 3. Distortion 0.1798. Cycle weight 0.0. Energy shift 0.0\n",
      "Iter 1. Distortion 0.1987. Cycle weight -6038.0. Energy shift -3019.0\n",
      "Iter 2. Distortion 0.1762. Cycle weight -454.0. Energy shift -227.0\n",
      "Iter 3. Distortion 0.1761. Cycle weight -2.0. Energy shift -1.0\n",
      "Iter 4. Distortion 0.1761. Cycle weight 0.0. Energy shift 0.0\n",
      "Iter 1. Distortion 0.2006. Cycle weight -5904.0. Energy shift -2952.0\n",
      "Iter 2. Distortion 0.1803. Cycle weight -410.0. Energy shift -205.0\n",
      "Iter 3. Distortion 0.1803. Cycle weight 0.0. Energy shift 0.0\n",
      "Iter 1. Distortion 0.1982. Cycle weight -5912.0. Energy shift -2956.0\n",
      "Iter 2. Distortion 0.1782. Cycle weight -404.0. Energy shift -202.0\n",
      "Iter 3. Distortion 0.178. Cycle weight -4.0. Energy shift -2.0\n",
      "Iter 4. Distortion 0.178. Cycle weight 0.0. Energy shift 0.0\n",
      "Iter 1. Distortion 0.1996. Cycle weight -6008.0. Energy shift -3004.0\n",
      "Iter 2. Distortion 0.1808. Cycle weight -380.0. Energy shift -190.0\n",
      "Iter 3. Distortion 0.1808. Cycle weight 0.0. Energy shift 0.0\n",
      "Iter 1. Distortion 0.1993. Cycle weight -6176.0. Energy shift -3088.0\n",
      "Iter 2. Distortion 0.1769. Cycle weight -452.0. Energy shift -226.0\n",
      "Iter 3. Distortion 0.1769. Cycle weight 0.0. Energy shift 0.0\n",
      "Iter 1. Distortion 0.1986. Cycle weight -6004.0. Energy shift -3002.0\n",
      "Iter 2. Distortion 0.1784. Cycle weight -408.0. Energy shift -204.0\n",
      "Iter 3. Distortion 0.1784. Cycle weight 0.0. Energy shift 0.0\n",
      "Iter 1. Distortion 0.1972. Cycle weight -6106.0. Energy shift -3053.0\n",
      "Iter 2. Distortion 0.1762. Cycle weight -424.0. Energy shift -212.0\n",
      "Iter 3. Distortion 0.1762. Cycle weight 0.0. Energy shift 0.0\n",
      "## Rate 0.46. 6 of 13\n",
      "Iter 1. Distortion 0.193. Cycle weight -6158.0. Energy shift -3079.0\n",
      "Iter 2. Distortion 0.1585. Cycle weight -694.0. Energy shift -347.0\n",
      "Iter 3. Distortion 0.1584. Cycle weight -2.0. Energy shift -1.0\n",
      "Iter 4. Distortion 0.1584. Cycle weight 0.0. Energy shift 0.0\n",
      "Iter 1. Distortion 0.1915. Cycle weight -6284.0. Energy shift -3142.0\n",
      "Iter 2. Distortion 0.1589. Cycle weight -656.0. Energy shift -328.0\n",
      "Iter 3. Distortion 0.1589. Cycle weight 0.0. Energy shift 0.0\n",
      "Iter 1. Distortion 0.1927. Cycle weight -6264.0. Energy shift -3132.0\n",
      "Iter 2. Distortion 0.1616. Cycle weight -626.0. Energy shift -313.0\n",
      "Iter 3. Distortion 0.1616. Cycle weight 0.0. Energy shift 0.0\n",
      "Iter 1. Distortion 0.1913. Cycle weight -6188.0. Energy shift -3094.0\n",
      "Iter 2. Distortion 0.1597. Cycle weight -636.0. Energy shift -318.0\n",
      "Iter 3. Distortion 0.1596. Cycle weight -2.0. Energy shift -1.0\n",
      "Iter 4. Distortion 0.1596. Cycle weight 0.0. Energy shift 0.0\n",
      "Iter 1. Distortion 0.1889. Cycle weight -6140.0. Energy shift -3070.0\n",
      "Iter 2. Distortion 0.1588. Cycle weight -606.0. Energy shift -303.0\n",
      "Iter 3. Distortion 0.1588. Cycle weight 0.0. Energy shift 0.0\n",
      "Iter 1. Distortion 0.1897. Cycle weight -6084.0. Energy shift -3042.0\n",
      "Iter 2. Distortion 0.1578. Cycle weight -642.0. Energy shift -321.0\n",
      "Iter 3. Distortion 0.1577. Cycle weight -2.0. Energy shift -1.0\n",
      "Iter 4. Distortion 0.1577. Cycle weight 0.0. Energy shift 0.0\n",
      "Iter 1. Distortion 0.1919. Cycle weight -6164.0. Energy shift -3082.0\n",
      "Iter 2. Distortion 0.1589. Cycle weight -664.0. Energy shift -332.0\n",
      "Iter 3. Distortion 0.1588. Cycle weight -2.0. Energy shift -1.0\n",
      "Iter 4. Distortion 0.1588. Cycle weight 0.0. Energy shift 0.0\n",
      "Iter 1. Distortion 0.1929. Cycle weight -6306.0. Energy shift -3153.0\n",
      "Iter 2. Distortion 0.1581. Cycle weight -700.0. Energy shift -350.0\n",
      "Iter 3. Distortion 0.1581. Cycle weight 0.0. Energy shift 0.0\n",
      "Iter 1. Distortion 0.1895. Cycle weight -6188.0. Energy shift -3094.0\n",
      "Iter 2. Distortion 0.1573. Cycle weight -648.0. Energy shift -324.0\n",
      "Iter 3. Distortion 0.1572. Cycle weight -2.0. Energy shift -1.0\n",
      "Iter 4. Distortion 0.1572. Cycle weight 0.0. Energy shift 0.0\n",
      "Iter 1. Distortion 0.1927. Cycle weight -6198.0. Energy shift -3099.0\n",
      "Iter 2. Distortion 0.1574. Cycle weight -710.0. Energy shift -355.0\n",
      "Iter 3. Distortion 0.1573. Cycle weight -2.0. Energy shift -1.0\n",
      "Iter 4. Distortion 0.1573. Cycle weight 0.0. Energy shift 0.0\n",
      "## Rate 0.51. 7 of 13\n",
      "Iter 1. Distortion 0.1831. Cycle weight -6356.0. Energy shift -3178.0\n",
      "Iter 2. Distortion 0.1371. Cycle weight -928.0. Energy shift -464.0\n",
      "Iter 3. Distortion 0.137. Cycle weight -2.0. Energy shift -1.0\n",
      "Iter 4. Distortion 0.137. Cycle weight 0.0. Energy shift 0.0\n",
      "Iter 1. Distortion 0.1835. Cycle weight -6444.0. Energy shift -3222.0\n",
      "Iter 2. Distortion 0.1382. Cycle weight -914.0. Energy shift -457.0\n",
      "Iter 3. Distortion 0.1378. Cycle weight -8.0. Energy shift -4.0\n",
      "Iter 4. Distortion 0.1378. Cycle weight 0.0. Energy shift 0.0\n",
      "Iter 1. Distortion 0.1846. Cycle weight -6426.0. Energy shift -3213.0\n",
      "Iter 2. Distortion 0.1409. Cycle weight -882.0. Energy shift -441.0\n",
      "Iter 3. Distortion 0.1405. Cycle weight -8.0. Energy shift -4.0\n",
      "Iter 4. Distortion 0.1405. Cycle weight 0.0. Energy shift 0.0\n",
      "Iter 1. Distortion 0.1837. Cycle weight -6340.0. Energy shift -3170.0\n",
      "Iter 2. Distortion 0.1377. Cycle weight -928.0. Energy shift -464.0\n",
      "Iter 3. Distortion 0.1376. Cycle weight -2.0. Energy shift -1.0\n",
      "Iter 4. Distortion 0.1376. Cycle weight 0.0. Energy shift 0.0\n",
      "Iter 1. Distortion 0.1825. Cycle weight -6268.0. Energy shift -3134.0\n",
      "Iter 2. Distortion 0.139. Cycle weight -878.0. Energy shift -439.0\n",
      "Iter 3. Distortion 0.1386. Cycle weight -8.0. Energy shift -4.0\n",
      "Iter 4. Distortion 0.1386. Cycle weight 0.0. Energy shift 0.0\n",
      "Iter 1. Distortion 0.1807. Cycle weight -6266.0. Energy shift -3133.0\n",
      "Iter 2. Distortion 0.1377. Cycle weight -866.0. Energy shift -433.0\n",
      "Iter 3. Distortion 0.1376. Cycle weight -2.0. Energy shift -1.0\n",
      "Iter 4. Distortion 0.1376. Cycle weight 0.0. Energy shift 0.0\n",
      "Iter 1. Distortion 0.1804. Cycle weight -6396.0. Energy shift -3198.0\n",
      "Iter 2. Distortion 0.1397. Cycle weight -820.0. Energy shift -410.0\n",
      "Iter 3. Distortion 0.1394. Cycle weight -6.0. Energy shift -3.0\n",
      "Iter 4. Distortion 0.1394. Cycle weight 0.0. Energy shift 0.0\n",
      "Iter 1. Distortion 0.1843. Cycle weight -6478.0. Energy shift -3239.0\n",
      "Iter 2. Distortion 0.1388. Cycle weight -918.0. Energy shift -459.0\n",
      "Iter 3. Distortion 0.1385. Cycle weight -6.0. Energy shift -3.0\n",
      "Iter 4. Distortion 0.1385. Cycle weight 0.0. Energy shift 0.0\n",
      "Iter 1. Distortion 0.1812. Cycle weight -6354.0. Energy shift -3177.0\n",
      "Iter 2. Distortion 0.1391. Cycle weight -850.0. Energy shift -425.0\n",
      "Iter 3. Distortion 0.1388. Cycle weight -6.0. Energy shift -3.0\n",
      "Iter 4. Distortion 0.1388. Cycle weight 0.0. Energy shift 0.0\n",
      "Iter 1. Distortion 0.1842. Cycle weight -6368.0. Energy shift -3184.0\n",
      "Iter 2. Distortion 0.14. Cycle weight -892.0. Energy shift -446.0\n",
      "Iter 3. Distortion 0.1399. Cycle weight -2.0. Energy shift -1.0\n",
      "Iter 4. Distortion 0.1399. Cycle weight 0.0. Energy shift 0.0\n",
      "## Rate 0.56. 8 of 13\n",
      "Iter 1. Distortion 0.1859. Cycle weight -6300.0. Energy shift -3150.0\n",
      "Iter 2. Distortion 0.1232. Cycle weight -1264.0. Energy shift -632.0\n",
      "Iter 3. Distortion 0.1222. Cycle weight -20.0. Energy shift -10.0\n",
      "Iter 4. Distortion 0.1222. Cycle weight 0.0. Energy shift 0.0\n",
      "Iter 1. Distortion 0.1861. Cycle weight -6392.0. Energy shift -3196.0\n",
      "Iter 2. Distortion 0.1214. Cycle weight -1304.0. Energy shift -652.0\n",
      "Iter 3. Distortion 0.1204. Cycle weight -20.0. Energy shift -10.0\n",
      "Iter 4. Distortion 0.1204. Cycle weight 0.0. Energy shift 0.0\n",
      "Iter 1. Distortion 0.1894. Cycle weight -6330.0. Energy shift -3165.0\n",
      "Iter 2. Distortion 0.1207. Cycle weight -1384.0. Energy shift -692.0\n",
      "Iter 3. Distortion 0.1196. Cycle weight -22.0. Energy shift -11.0\n",
      "Iter 4. Distortion 0.1196. Cycle weight 0.0. Energy shift 0.0\n",
      "Iter 1. Distortion 0.1879. Cycle weight -6256.0. Energy shift -3128.0\n",
      "Iter 2. Distortion 0.1205. Cycle weight -1358.0. Energy shift -679.0\n",
      "Iter 3. Distortion 0.1196. Cycle weight -18.0. Energy shift -9.0\n",
      "Iter 4. Distortion 0.1196. Cycle weight 0.0. Energy shift 0.0\n",
      "Iter 1. Distortion 0.1894. Cycle weight -6130.0. Energy shift -3065.0\n",
      "Iter 2. Distortion 0.1247. Cycle weight -1304.0. Energy shift -652.0\n",
      "Iter 3. Distortion 0.1239. Cycle weight -16.0. Energy shift -8.0\n",
      "Iter 4. Distortion 0.1239. Cycle weight 0.0. Energy shift 0.0\n",
      "Iter 1. Distortion 0.1849. Cycle weight -6180.0. Energy shift -3090.0\n",
      "Iter 2. Distortion 0.1221. Cycle weight -1266.0. Energy shift -633.0\n",
      "Iter 3. Distortion 0.1211. Cycle weight -20.0. Energy shift -10.0\n",
      "Iter 4. Distortion 0.1211. Cycle weight 0.0. Energy shift 0.0\n",
      "Iter 1. Distortion 0.1872. Cycle weight -6258.0. Energy shift -3129.0\n",
      "Iter 2. Distortion 0.121. Cycle weight -1334.0. Energy shift -667.0\n",
      "Iter 3. Distortion 0.1201. Cycle weight -18.0. Energy shift -9.0\n",
      "Iter 4. Distortion 0.1201. Cycle weight 0.0. Energy shift 0.0\n",
      "Iter 1. Distortion 0.1871. Cycle weight -6422.0. Energy shift -3211.0\n",
      "Iter 2. Distortion 0.12. Cycle weight -1352.0. Energy shift -676.0\n",
      "Iter 3. Distortion 0.1188. Cycle weight -24.0. Energy shift -12.0\n",
      "Iter 4. Distortion 0.1188. Cycle weight 0.0. Energy shift 0.0\n",
      "Iter 1. Distortion 0.1858. Cycle weight -6262.0. Energy shift -3131.0\n",
      "Iter 2. Distortion 0.1195. Cycle weight -1336.0. Energy shift -668.0\n",
      "Iter 3. Distortion 0.1185. Cycle weight -22.0. Energy shift -11.0\n",
      "Iter 4. Distortion 0.1185. Cycle weight 0.0. Energy shift 0.0\n",
      "Iter 1. Distortion 0.1848. Cycle weight -6356.0. Energy shift -3178.0\n",
      "Iter 2. Distortion 0.1214. Cycle weight -1278.0. Energy shift -639.0\n",
      "Iter 3. Distortion 0.1205. Cycle weight -18.0. Energy shift -9.0\n",
      "Iter 4. Distortion 0.1205. Cycle weight 0.0. Energy shift 0.0\n",
      "## Rate 0.61. 9 of 13\n",
      "Iter 1. Distortion 0.1937. Cycle weight -6144.0. Energy shift -3072.0\n",
      "Iter 2. Distortion 0.1071. Cycle weight -1744.0. Energy shift -872.0\n",
      "Iter 3. Distortion 0.1045. Cycle weight -54.0. Energy shift -27.0\n",
      "Iter 4. Distortion 0.1045. Cycle weight 0.0. Energy shift 0.0\n",
      "Iter 1. Distortion 0.1922. Cycle weight -6270.0. Energy shift -3135.0\n",
      "Iter 2. Distortion 0.105. Cycle weight -1758.0. Energy shift -879.0\n",
      "Iter 3. Distortion 0.1023. Cycle weight -54.0. Energy shift -27.0\n",
      "Iter 4. Distortion 0.1023. Cycle weight 0.0. Energy shift 0.0\n",
      "Iter 1. Distortion 0.1926. Cycle weight -6266.0. Energy shift -3133.0\n",
      "Iter 2. Distortion 0.1046. Cycle weight -1774.0. Energy shift -887.0\n",
      "Iter 3. Distortion 0.102. Cycle weight -52.0. Energy shift -26.0\n",
      "Iter 4. Distortion 0.102. Cycle weight 0.0. Energy shift 0.0\n",
      "Iter 1. Distortion 0.1928. Cycle weight -6158.0. Energy shift -3079.0\n",
      "Iter 2. Distortion 0.1052. Cycle weight -1766.0. Energy shift -883.0\n",
      "Iter 3. Distortion 0.1024. Cycle weight -56.0. Energy shift -28.0\n",
      "Iter 4. Distortion 0.1024. Cycle weight 0.0. Energy shift 0.0\n",
      "Iter 1. Distortion 0.1886. Cycle weight -6146.0. Energy shift -3073.0\n",
      "Iter 2. Distortion 0.1057. Cycle weight -1672.0. Energy shift -836.0\n",
      "Iter 3. Distortion 0.1034. Cycle weight -46.0. Energy shift -23.0\n",
      "Iter 4. Distortion 0.1034. Cycle weight 0.0. Energy shift 0.0\n",
      "Iter 1. Distortion 0.192. Cycle weight -6038.0. Energy shift -3019.0\n",
      "Iter 2. Distortion 0.1062. Cycle weight -1730.0. Energy shift -865.0\n",
      "Iter 3. Distortion 0.1041. Cycle weight -42.0. Energy shift -21.0\n",
      "Iter 4. Distortion 0.1041. Cycle weight 0.0. Energy shift 0.0\n",
      "Iter 1. Distortion 0.1902. Cycle weight -6198.0. Energy shift -3099.0\n",
      "Iter 2. Distortion 0.1061. Cycle weight -1696.0. Energy shift -848.0\n",
      "Iter 3. Distortion 0.1024. Cycle weight -74.0. Energy shift -37.0\n",
      "Iter 4. Distortion 0.1024. Cycle weight 0.0. Energy shift 0.0\n",
      "Iter 1. Distortion 0.1936. Cycle weight -6292.0. Energy shift -3146.0\n",
      "Iter 2. Distortion 0.1056. Cycle weight -1774.0. Energy shift -887.0\n",
      "Iter 3. Distortion 0.1025. Cycle weight -62.0. Energy shift -31.0\n",
      "Iter 4. Distortion 0.1025. Cycle weight 0.0. Energy shift 0.0\n",
      "Iter 1. Distortion 0.1902. Cycle weight -6174.0. Energy shift -3087.0\n",
      "Iter 2. Distortion 0.1056. Cycle weight -1706.0. Energy shift -853.0\n",
      "Iter 3. Distortion 0.1031. Cycle weight -50.0. Energy shift -25.0\n",
      "Iter 4. Distortion 0.1031. Cycle weight 0.0. Energy shift 0.0\n",
      "Iter 1. Distortion 0.192. Cycle weight -6212.0. Energy shift -3106.0\n",
      "Iter 2. Distortion 0.107. Cycle weight -1712.0. Energy shift -856.0\n",
      "Iter 3. Distortion 0.1047. Cycle weight -48.0. Energy shift -24.0\n",
      "Iter 4. Distortion 0.1047. Cycle weight 0.0. Energy shift 0.0\n",
      "## Rate 0.66. 10 of 13\n",
      "Iter 1. Distortion 0.2057. Cycle weight -5902.0. Energy shift -2951.0\n",
      "Iter 2. Distortion 0.0977. Cycle weight -2176.0. Energy shift -1088.0\n",
      "Iter 3. Distortion 0.0889. Cycle weight -178.0. Energy shift -89.0\n",
      "Iter 4. Distortion 0.0889. Cycle weight 0.0. Energy shift 0.0\n",
      "Iter 1. Distortion 0.2083. Cycle weight -5944.0. Energy shift -2972.0\n",
      "Iter 2. Distortion 0.0974. Cycle weight -2236.0. Energy shift -1118.0\n",
      "Iter 3. Distortion 0.088. Cycle weight -190.0. Energy shift -95.0\n",
      "Iter 4. Distortion 0.088. Cycle weight 0.0. Energy shift 0.0\n",
      "Iter 1. Distortion 0.2092. Cycle weight -5930.0. Energy shift -2965.0\n",
      "Iter 2. Distortion 0.0969. Cycle weight -2264.0. Energy shift -1132.0\n",
      "Iter 3. Distortion 0.0872. Cycle weight -196.0. Energy shift -98.0\n",
      "Iter 4. Distortion 0.0872. Cycle weight 0.0. Energy shift 0.0\n",
      "Iter 1. Distortion 0.2055. Cycle weight -5902.0. Energy shift -2951.0\n",
      "Iter 2. Distortion 0.0983. Cycle weight -2160.0. Energy shift -1080.0\n",
      "Iter 3. Distortion 0.0897. Cycle weight -174.0. Energy shift -87.0\n",
      "Iter 4. Distortion 0.0897. Cycle weight 0.0. Energy shift 0.0\n",
      "Iter 1. Distortion 0.2047. Cycle weight -5822.0. Energy shift -2911.0\n",
      "Iter 2. Distortion 0.0977. Cycle weight -2156.0. Energy shift -1078.0\n",
      "Iter 3. Distortion 0.0902. Cycle weight -152.0. Energy shift -76.0\n",
      "Iter 4. Distortion 0.0902. Cycle weight 0.0. Energy shift 0.0\n",
      "Iter 1. Distortion 0.2011. Cycle weight -5854.0. Energy shift -2927.0\n",
      "Iter 2. Distortion 0.0964. Cycle weight -2110.0. Energy shift -1055.0\n",
      "Iter 3. Distortion 0.0888. Cycle weight -154.0. Energy shift -77.0\n",
      "Iter 4. Distortion 0.0888. Cycle weight 0.0. Energy shift 0.0\n",
      "Iter 1. Distortion 0.2051. Cycle weight -5898.0. Energy shift -2949.0\n",
      "Iter 2. Distortion 0.0969. Cycle weight -2180.0. Energy shift -1090.0\n",
      "Iter 3. Distortion 0.0879. Cycle weight -182.0. Energy shift -91.0\n",
      "Iter 4. Distortion 0.0879. Cycle weight 0.0. Energy shift 0.0\n",
      "Iter 1. Distortion 0.212. Cycle weight -5920.0. Energy shift -2960.0\n",
      "Iter 2. Distortion 0.0979. Cycle weight -2300.0. Energy shift -1150.0\n",
      "Iter 3. Distortion 0.0879. Cycle weight -202.0. Energy shift -101.0\n",
      "Iter 4. Distortion 0.0878. Cycle weight -2.0. Energy shift -1.0\n",
      "Iter 5. Distortion 0.0878. Cycle weight 0.0. Energy shift 0.0\n",
      "Iter 1. Distortion 0.204. Cycle weight -5896.0. Energy shift -2948.0\n",
      "Iter 2. Distortion 0.096. Cycle weight -2176.0. Energy shift -1088.0\n",
      "Iter 3. Distortion 0.0873. Cycle weight -176.0. Energy shift -88.0\n",
      "Iter 4. Distortion 0.0873. Cycle weight 0.0. Energy shift 0.0\n",
      "Iter 1. Distortion 0.2065. Cycle weight -5918.0. Energy shift -2959.0\n",
      "Iter 2. Distortion 0.0972. Cycle weight -2204.0. Energy shift -1102.0\n",
      "Iter 3. Distortion 0.0887. Cycle weight -172.0. Energy shift -86.0\n",
      "Iter 4. Distortion 0.0887. Cycle weight 0.0. Energy shift 0.0\n",
      "## Rate 0.71. 11 of 13\n",
      "Iter 1. Distortion 0.231. Cycle weight -5392.0. Energy shift -2696.0\n",
      "Iter 2. Distortion 0.0975. Cycle weight -2690.0. Energy shift -1345.0\n",
      "Iter 3. Distortion 0.0759. Cycle weight -436.0. Energy shift -218.0\n",
      "Iter 4. Distortion 0.0757. Cycle weight -4.0. Energy shift -2.0\n",
      "Iter 5. Distortion 0.0757. Cycle weight 0.0. Energy shift 0.0\n",
      "Iter 1. Distortion 0.2341. Cycle weight -5424.0. Energy shift -2712.0\n",
      "Iter 2. Distortion 0.0978. Cycle weight -2748.0. Energy shift -1374.0\n",
      "Iter 3. Distortion 0.0757. Cycle weight -446.0. Energy shift -223.0\n",
      "Iter 4. Distortion 0.0755. Cycle weight -4.0. Energy shift -2.0\n",
      "Iter 5. Distortion 0.0755. Cycle weight 0.0. Energy shift 0.0\n",
      "Iter 1. Distortion 0.2329. Cycle weight -5452.0. Energy shift -2726.0\n",
      "Iter 2. Distortion 0.0955. Cycle weight -2770.0. Energy shift -1385.0\n",
      "Iter 3. Distortion 0.0719. Cycle weight -476.0. Energy shift -238.0\n",
      "Iter 4. Distortion 0.0717. Cycle weight -4.0. Energy shift -2.0\n",
      "Iter 5. Distortion 0.0717. Cycle weight 0.0. Energy shift 0.0\n",
      "Iter 1. Distortion 0.2308. Cycle weight -5392.0. Energy shift -2696.0\n",
      "Iter 2. Distortion 0.0949. Cycle weight -2738.0. Energy shift -1369.0\n",
      "Iter 3. Distortion 0.0745. Cycle weight -412.0. Energy shift -206.0\n",
      "Iter 4. Distortion 0.0744. Cycle weight -2.0. Energy shift -1.0\n",
      "Iter 5. Distortion 0.0744. Cycle weight 0.0. Energy shift 0.0\n",
      "Iter 1. Distortion 0.2268. Cycle weight -5376.0. Energy shift -2688.0\n",
      "Iter 2. Distortion 0.0967. Cycle weight -2622.0. Energy shift -1311.0\n",
      "Iter 3. Distortion 0.0743. Cycle weight -452.0. Energy shift -226.0\n",
      "Iter 4. Distortion 0.0741. Cycle weight -4.0. Energy shift -2.0\n",
      "Iter 5. Distortion 0.0741. Cycle weight 0.0. Energy shift 0.0\n",
      "Iter 1. Distortion 0.2251. Cycle weight -5370.0. Energy shift -2685.0\n",
      "Iter 2. Distortion 0.0947. Cycle weight -2628.0. Energy shift -1314.0\n",
      "Iter 3. Distortion 0.0727. Cycle weight -444.0. Energy shift -222.0\n",
      "Iter 4. Distortion 0.0726. Cycle weight -2.0. Energy shift -1.0\n",
      "Iter 5. Distortion 0.0726. Cycle weight 0.0. Energy shift 0.0\n",
      "Iter 1. Distortion 0.2294. Cycle weight -5408.0. Energy shift -2704.0\n",
      "Iter 2. Distortion 0.0949. Cycle weight -2710.0. Energy shift -1355.0\n",
      "Iter 3. Distortion 0.0737. Cycle weight -428.0. Energy shift -214.0\n",
      "Iter 4. Distortion 0.0737. Cycle weight 0.0. Energy shift 0.0\n",
      "Iter 1. Distortion 0.2365. Cycle weight -5426.0. Energy shift -2713.0\n",
      "Iter 2. Distortion 0.0966. Cycle weight -2820.0. Energy shift -1410.0\n",
      "Iter 3. Distortion 0.0746. Cycle weight -444.0. Energy shift -222.0\n",
      "Iter 4. Distortion 0.0744. Cycle weight -4.0. Energy shift -2.0\n",
      "Iter 5. Distortion 0.0744. Cycle weight 0.0. Energy shift 0.0\n",
      "Iter 1. Distortion 0.2277. Cycle weight -5418.0. Energy shift -2709.0\n",
      "Iter 2. Distortion 0.0947. Cycle weight -2680.0. Energy shift -1340.0\n",
      "Iter 3. Distortion 0.0734. Cycle weight -430.0. Energy shift -215.0\n",
      "Iter 4. Distortion 0.0731. Cycle weight -6.0. Energy shift -3.0\n",
      "Iter 5. Distortion 0.0731. Cycle weight 0.0. Energy shift 0.0\n",
      "Iter 1. Distortion 0.2323. Cycle weight -5398.0. Energy shift -2699.0\n",
      "Iter 2. Distortion 0.0934. Cycle weight -2802.0. Energy shift -1401.0\n",
      "Iter 3. Distortion 0.0743. Cycle weight -384.0. Energy shift -192.0\n",
      "Iter 4. Distortion 0.0743. Cycle weight 0.0. Energy shift 0.0\n",
      "## Rate 0.76. 12 of 13\n",
      "Iter 1. Distortion 0.267. Cycle weight -4666.0. Energy shift -2333.0\n",
      "Iter 2. Distortion 0.1113. Cycle weight -3138.0. Energy shift -1569.0\n",
      "Iter 3. Distortion 0.0624. Cycle weight -986.0. Energy shift -493.0\n",
      "Iter 4. Distortion 0.0601. Cycle weight -46.0. Energy shift -23.0\n",
      "Iter 5. Distortion 0.0601. Cycle weight 0.0. Energy shift 0.0\n",
      "Iter 1. Distortion 0.271. Cycle weight -4680.0. Energy shift -2340.0\n",
      "Iter 2. Distortion 0.1123. Cycle weight -3200.0. Energy shift -1600.0\n",
      "Iter 3. Distortion 0.0643. Cycle weight -968.0. Energy shift -484.0\n",
      "Iter 4. Distortion 0.0606. Cycle weight -74.0. Energy shift -37.0\n",
      "Iter 5. Distortion 0.0606. Cycle weight 0.0. Energy shift 0.0\n",
      "Iter 1. Distortion 0.2701. Cycle weight -4702.0. Energy shift -2351.0\n",
      "Iter 2. Distortion 0.1146. Cycle weight -3136.0. Energy shift -1568.0\n",
      "Iter 3. Distortion 0.0658. Cycle weight -984.0. Energy shift -492.0\n",
      "Iter 4. Distortion 0.0625. Cycle weight -66.0. Energy shift -33.0\n",
      "Iter 5. Distortion 0.0625. Cycle weight 0.0. Energy shift 0.0\n",
      "Iter 1. Distortion 0.2658. Cycle weight -4686.0. Energy shift -2343.0\n",
      "Iter 2. Distortion 0.1097. Cycle weight -3146.0. Energy shift -1573.0\n",
      "Iter 3. Distortion 0.0625. Cycle weight -952.0. Energy shift -476.0\n",
      "Iter 4. Distortion 0.0595. Cycle weight -60.0. Energy shift -30.0\n",
      "Iter 5. Distortion 0.0595. Cycle weight 0.0. Energy shift 0.0\n",
      "Iter 1. Distortion 0.2606. Cycle weight -4694.0. Energy shift -2347.0\n",
      "Iter 2. Distortion 0.1079. Cycle weight -3078.0. Energy shift -1539.0\n",
      "Iter 3. Distortion 0.0632. Cycle weight -902.0. Energy shift -451.0\n",
      "Iter 4. Distortion 0.0601. Cycle weight -62.0. Energy shift -31.0\n",
      "Iter 5. Distortion 0.0601. Cycle weight 0.0. Energy shift 0.0\n",
      "Iter 1. Distortion 0.2604. Cycle weight -4658.0. Energy shift -2329.0\n",
      "Iter 2. Distortion 0.1084. Cycle weight -3064.0. Energy shift -1532.0\n",
      "Iter 3. Distortion 0.0613. Cycle weight -950.0. Energy shift -475.0\n",
      "Iter 4. Distortion 0.0589. Cycle weight -48.0. Energy shift -24.0\n",
      "Iter 5. Distortion 0.0589. Cycle weight 0.0. Energy shift 0.0\n",
      "Iter 1. Distortion 0.2656. Cycle weight -4678.0. Energy shift -2339.0\n",
      "Iter 2. Distortion 0.1107. Cycle weight -3122.0. Energy shift -1561.0\n",
      "Iter 3. Distortion 0.064. Cycle weight -942.0. Energy shift -471.0\n",
      "Iter 4. Distortion 0.0609. Cycle weight -62.0. Energy shift -31.0\n",
      "Iter 5. Distortion 0.0609. Cycle weight 0.0. Energy shift 0.0\n",
      "Iter 1. Distortion 0.2728. Cycle weight -4694.0. Energy shift -2347.0\n",
      "Iter 2. Distortion 0.1111. Cycle weight -3260.0. Energy shift -1630.0\n",
      "Iter 3. Distortion 0.0627. Cycle weight -976.0. Energy shift -488.0\n",
      "Iter 4. Distortion 0.0595. Cycle weight -64.0. Energy shift -32.0\n",
      "Iter 5. Distortion 0.0595. Cycle weight 0.0. Energy shift 0.0\n",
      "Iter 1. Distortion 0.2655. Cycle weight -4656.0. Energy shift -2328.0\n",
      "Iter 2. Distortion 0.1109. Cycle weight -3116.0. Energy shift -1558.0\n",
      "Iter 3. Distortion 0.0641. Cycle weight -944.0. Energy shift -472.0\n",
      "Iter 4. Distortion 0.0616. Cycle weight -50.0. Energy shift -25.0\n",
      "Iter 5. Distortion 0.0616. Cycle weight 0.0. Energy shift 0.0\n",
      "Iter 1. Distortion 0.2683. Cycle weight -4674.0. Energy shift -2337.0\n",
      "Iter 2. Distortion 0.1142. Cycle weight -3106.0. Energy shift -1553.0\n",
      "Iter 3. Distortion 0.0627. Cycle weight -1038.0. Energy shift -519.0\n",
      "Iter 4. Distortion 0.0589. Cycle weight -76.0. Energy shift -38.0\n",
      "Iter 5. Distortion 0.0589. Cycle weight 0.0. Energy shift 0.0\n",
      "## Rate 0.81. 13 of 13\n",
      "Iter 1. Distortion 0.3101. Cycle weight -3796.0. Energy shift -1898.0\n",
      "Iter 2. Distortion 0.1508. Cycle weight -3212.0. Energy shift -1606.0\n",
      "Iter 3. Distortion 0.0682. Cycle weight -1666.0. Energy shift -833.0\n",
      "Iter 4. Distortion 0.0493. Cycle weight -380.0. Energy shift -190.0\n",
      "Iter 5. Distortion 0.0484. Cycle weight -18.0. Energy shift -9.0\n",
      "Iter 6. Distortion 0.0484. Cycle weight 0.0. Energy shift 0.0\n",
      "Iter 1. Distortion 0.3149. Cycle weight -3796.0. Energy shift -1898.0\n",
      "Iter 2. Distortion 0.152. Cycle weight -3284.0. Energy shift -1642.0\n",
      "Iter 3. Distortion 0.0669. Cycle weight -1716.0. Energy shift -858.0\n",
      "Iter 4. Distortion 0.0479. Cycle weight -382.0. Energy shift -191.0\n",
      "Iter 5. Distortion 0.0475. Cycle weight -8.0. Energy shift -4.0\n",
      "Iter 6. Distortion 0.0475. Cycle weight 0.0. Energy shift 0.0\n",
      "Iter 1. Distortion 0.3147. Cycle weight -3804.0. Energy shift -1902.0\n",
      "Iter 2. Distortion 0.1526. Cycle weight -3268.0. Energy shift -1634.0\n",
      "Iter 3. Distortion 0.0693. Cycle weight -1678.0. Energy shift -839.0\n",
      "Iter 4. Distortion 0.0502. Cycle weight -386.0. Energy shift -193.0\n",
      "Iter 5. Distortion 0.0492. Cycle weight -20.0. Energy shift -10.0\n",
      "Iter 6. Distortion 0.0492. Cycle weight 0.0. Energy shift 0.0\n",
      "Iter 1. Distortion 0.3098. Cycle weight -3798.0. Energy shift -1899.0\n",
      "Iter 2. Distortion 0.1491. Cycle weight -3240.0. Energy shift -1620.0\n",
      "Iter 3. Distortion 0.0676. Cycle weight -1644.0. Energy shift -822.0\n",
      "Iter 4. Distortion 0.0493. Cycle weight -368.0. Energy shift -184.0\n",
      "Iter 5. Distortion 0.0484. Cycle weight -18.0. Energy shift -9.0\n",
      "Iter 6. Distortion 0.0484. Cycle weight 0.0. Energy shift 0.0\n",
      "Iter 1. Distortion 0.3055. Cycle weight -3790.0. Energy shift -1895.0\n",
      "Iter 2. Distortion 0.1462. Cycle weight -3210.0. Energy shift -1605.0\n",
      "Iter 3. Distortion 0.0669. Cycle weight -1600.0. Energy shift -800.0\n",
      "Iter 4. Distortion 0.048. Cycle weight -380.0. Energy shift -190.0\n",
      "Iter 5. Distortion 0.0473. Cycle weight -14.0. Energy shift -7.0\n",
      "Iter 6. Distortion 0.0473. Cycle weight 0.0. Energy shift 0.0\n",
      "Iter 1. Distortion 0.3033. Cycle weight -3794.0. Energy shift -1897.0\n",
      "Iter 2. Distortion 0.1459. Cycle weight -3172.0. Energy shift -1586.0\n",
      "Iter 3. Distortion 0.0674. Cycle weight -1584.0. Energy shift -792.0\n",
      "Iter 4. Distortion 0.0496. Cycle weight -358.0. Energy shift -179.0\n",
      "Iter 5. Distortion 0.0493. Cycle weight -6.0. Energy shift -3.0\n",
      "Iter 6. Distortion 0.0493. Cycle weight 0.0. Energy shift 0.0\n",
      "Iter 1. Distortion 0.3094. Cycle weight -3794.0. Energy shift -1897.0\n",
      "Iter 2. Distortion 0.1498. Cycle weight -3218.0. Energy shift -1609.0\n",
      "Iter 3. Distortion 0.0681. Cycle weight -1648.0. Energy shift -824.0\n",
      "Iter 4. Distortion 0.0485. Cycle weight -394.0. Energy shift -197.0\n",
      "Iter 5. Distortion 0.0477. Cycle weight -16.0. Energy shift -8.0\n",
      "Iter 6. Distortion 0.0477. Cycle weight 0.0. Energy shift 0.0\n",
      "Iter 1. Distortion 0.3166. Cycle weight -3812.0. Energy shift -1906.0\n",
      "Iter 2. Distortion 0.1541. Cycle weight -3276.0. Energy shift -1638.0\n",
      "Iter 3. Distortion 0.0695. Cycle weight -1704.0. Energy shift -852.0\n",
      "Iter 4. Distortion 0.0492. Cycle weight -410.0. Energy shift -205.0\n",
      "Iter 5. Distortion 0.0487. Cycle weight -10.0. Energy shift -5.0\n",
      "Iter 6. Distortion 0.0487. Cycle weight 0.0. Energy shift 0.0\n",
      "Iter 1. Distortion 0.308. Cycle weight -3798.0. Energy shift -1899.0\n",
      "Iter 2. Distortion 0.148. Cycle weight -3226.0. Energy shift -1613.0\n",
      "Iter 3. Distortion 0.0688. Cycle weight -1598.0. Energy shift -799.0\n",
      "Iter 4. Distortion 0.0487. Cycle weight -404.0. Energy shift -202.0\n",
      "Iter 5. Distortion 0.0476. Cycle weight -22.0. Energy shift -11.0\n",
      "Iter 6. Distortion 0.0476. Cycle weight 0.0. Energy shift 0.0\n",
      "Iter 1. Distortion 0.3112. Cycle weight -3808.0. Energy shift -1904.0\n",
      "Iter 2. Distortion 0.1499. Cycle weight -3252.0. Energy shift -1626.0\n",
      "Iter 3. Distortion 0.0703. Cycle weight -1604.0. Energy shift -802.0\n",
      "Iter 4. Distortion 0.0487. Cycle weight -436.0. Energy shift -218.0\n",
      "Iter 5. Distortion 0.0477. Cycle weight -20.0. Energy shift -10.0\n",
      "Iter 6. Distortion 0.0477. Cycle weight 0.0. Energy shift 0.0\n"
     ]
    }
   ],
   "source": [
    "for j in eachindex(m)\n",
    "    println(\"## Rate $(round(R[j],digits=2)). $j of $(length(m))\")\n",
    "    for i in 1:navg\n",
    "        lm = LossyModel(Val(2), n, m[j], randseed=seed+i)\n",
    "        res_OC[j] = solve!(deepcopy(lm), oc)\n",
    "        avg_dist_oc[j] += res_OC[j].distortion\n",
    "        res_MS[j] = solve!(lm, ms, randseed=seed, verbose=true, showprogress=false)\n",
    "        avg_dist[j] += res_MS[j].distortion \n",
    "    end\n",
    "    avg_dist[j] /= navg\n",
    "    avg_dist_oc[j] /= navg\n",
    "end"
   ]
  },
  {
   "cell_type": "code",
<<<<<<< HEAD
   "execution_count": 137,
   "metadata": {},
   "outputs": [
    {
     "data": {
      "text/plain": [
       "Array{Float64,1}"
      ]
     },
     "execution_count": 137,
     "metadata": {},
     "output_type": "execute_result"
    }
   ],
   "source": [
    "typeof(Dm)"
   ]
  },
  {
   "cell_type": "code",
   "execution_count": 168,
   "metadata": {},
   "outputs": [
    {
     "data": {
      "image/png": "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",
      "text/plain": [
       "Figure(PyObject <Figure size 600x500 with 1 Axes>)"
      ]
     },
     "metadata": {},
     "output_type": "display_data"
    },
    {
     "name": "stdout",
     "output_type": "stream",
     "text": [
      "Max-Sum distortion are averages over 10 instances\n"
=======
   "execution_count": 1,
   "metadata": {},
   "outputs": [
    {
     "ename": "LoadError",
     "evalue": "UndefVarError: navg not defined",
     "output_type": "error",
     "traceback": [
      "UndefVarError: navg not defined",
      "",
      "Stacktrace:",
      " [1] top-level scope",
      "   @ In[1]:3",
      " [2] eval",
      "   @ ./boot.jl:340 [inlined]",
      " [3] include_string(mapexpr::typeof(REPL.softscope), mod::Module, code::String, filename::String)",
      "   @ Base ./loading.jl:1103"
>>>>>>> 7ac026b228bca30ac2c42cd9292e17d382f7083a
     ]
    }
   ],
   "source": [
    "using PyPlot\n",
    "H(p)=1+p*log2(p)+(1-p)*log2(1-p)\n",
    "println(\"Max-Sum distortion are averages over \", navg, \" instances\")\n",
    "\n",
    "#xlim(0,1)\n",
    "#ylim(0,0.5)\n",
    "#plot(R,D, \"x\", label=\"RS RRG\")\n",
    "fig, ax = subplots(figsize=(6,5))\n",
    "xlabel(\"Rate\")\n",
    "ylabel(\"Distortion\")\n",
    "PyPlot.plot(Rm,Dm, \"--\", label=\"RS d ~ δ₂, k ~ rδₗ+(1-r)δₗ₊₁\", c=:gray)\n",
    "PyPlot.plot(R, avg_dist, \"o\", label=\"Max-Sum\", ms=6, c=:orange)\n",
    "PyPlot.plot(R, avg_dist_oc, \"+\", label=\"Exact\", ms=6, mew=2, c=:k)\n",
    "PyPlot.plot((0,1),(0.5,0), label=\"trival\")\n",
    "#PyPlot.plot(0.16666666666666663, 0.2533740653174613, \"o\") \n",
    "# PyPlot.plot((0.5, 0.174603333333333332)..., \"o\", label=\"MS d ~ ½(δ₁+δ₂), k ~ δ₃\") \n",
    "PyPlot.plot(R23,D23, \"-\", label=\"RS d ~ rδ₂+(1-r)δ₃, k ~ δ₃\") \n",
    "PyPlot.plot(R12,D12, \"-\", label=\"RS d ~ rδ₁+(1-r)δ₂, k ~ δ₃\") \n",
    "PyPlot.plot(0.196071512585274, 0.27597624088449774, \"o\", label=\"no LTM\")\n",
    "PyPlot.plot(0.20418725005880967, 0.26537285344624795, \"o\", label=\"LTM\")\n",
    "\n",
    "PyPlot.plot(H.(0:0.001:0.5), 0:0.001:0.5, label=\"information bound\")\n",
    "legend()\n",
    "PyPlot.savefig(\"rs_vs_ms.png\")"
   ]
  },
  {
   "cell_type": "markdown",
   "metadata": {},
   "source": [
    "When variables have arbitrary degree profile $\\Lambda(X)$\n",
    "---\n",
    "* Max-Sum equations becomes\n",
    "\\begin{align}\n",
    "    f_{ai} &= \\min_{j\\in\\partial a\\setminus i}\\left|s_j + \\sum_{b\\in\\partial j\\setminus a}f_{bj} \\right|\\prod_{j\\in\\partial a\\setminus i}{\\rm sign}\\left(s_j + \\sum_{b\\in\\partial j\\setminus a}f_{bj}\\right) \\end{align}\n",
    "* the Bethe free energy becomes\n",
    "\\begin{equation}\n",
    "    F = \\sum_{a=1}^m F_a - (|\\partial i|-1)\\sum_{i=1}^n F_i \n",
    "\\end{equation}\n",
    "with\n",
    "\\begin{align*}\n",
    "    F_a &=-\\frac{1}{\\beta}\\log\\left(\\sum_{\\sigma:sat}\\prod_{i\\in\\partial a}\\frac{e^{\\beta\\sigma_i\\left(s_i+\\sum_{b\\in\\partial i\\setminus a}f_{bi}\\right)}}{\\prod_{b\\in\\partial i\\setminus a}2{\\rm cosh}(\\beta f_{bi})}\\right)\\\\\n",
    "    &= -\\frac{1}{\\beta}\\log\\left(\\sum_{\\sigma:sat}\\prod_{i\\in\\partial a}e^{\\beta\\sigma_i\\left(s_i+\\sum_{b\\in\\partial i\\setminus a}f_{bi}\\right)}\\right)+\\frac{1}{\\beta}\\sum_{i\\in\\partial a}\\sum_{b\\in\\partial i\\setminus a}\\log(2{\\rm cosh}(\\beta f_{bi}))\\\\\n",
    "    &\\to-\\sum_{i\\in\\partial a}\\left(\\left|s_i + \\sum_{b\\in\\partial i\\setminus a}f_{bi}\\right|-\\sum_{b\\in\\partial i\\setminus a}|f_{bi}|\\right) + \\Theta\\left(-\\prod_{i\\in\\partial a}\\left(s_i + \\sum_{b\\in\\partial i\\setminus a}f_{bi}\\right)\\right)2\\min_{i\\in\\partial a}\\left|s_i + \\sum_{b\\in\\partial i\\setminus a}f_{bi}\\right|\n",
    "\\end{align*}\n",
    "and \n",
    "\\begin{align*}\n",
    "    F_i &= -\\frac{1}{\\beta}\\log\\left(\\sum_{\\sigma_i}\\frac{e^{\\beta\\sigma_i\\left(s_i + \\sum_{a\\in\\partial i}f_{ai}\\right)}}{\\prod_{a\\in\\partial i}2{\\rm cosh}(\\beta f_{ai})}\\right)\\\\\n",
    "    &= -\\frac{1}{\\beta}\\log\\left(\\sum_{\\sigma_i}e^{\\beta\\sigma_i\\left(s_i + \\sum_{a\\in\\partial i}f_{ai}\\right)}\\right) + \\frac{1}{\\beta}\\sum_{a\\in\\partial i}\\log(2{\\rm cosh}(\\beta f_{ai}))\\\\\n",
    "    &\\to- \\left|s_i + \\sum_{a\\in\\partial i}f_{ai}\\right|+\\sum_{a\\in\\partial i}|f_{ai}|\n",
    "\\end{align*}"
   ]
  },
  {
   "cell_type": "markdown",
   "metadata": {},
   "source": [
    "\\begin{align*}\n",
    "F&=F_{factors}-F_{vars}\\\\\n",
    "F_{factors}&= \\sum_a \\Theta\\left(-\\prod_{i\\in\\partial a}\\left(s_i + \\sum_{b\\in\\partial i\\setminus a}f_{bi}\\right)\\right)2\\min_{i\\in\\partial a}\\left|s_i + \\sum_{b\\in\\partial i\\setminus a}f_{bi}\\right|\\\\\n",
    "F_{vars}& = \\sum_i \\sum_{a\\in\\partial i}\\left(\\left|s_i + \\sum_{b\\in\\partial i\\setminus a}f_{bi}\\right|\\right) - \\sum_i (|\\partial i| - 1) \\left|s_i + \\sum_{a\\in\\partial i}f_{ai}\\right|\n",
    "\\end{align*}"
   ]
  },
  {
   "cell_type": "markdown",
   "metadata": {},
   "source": [
    "\\begin{align*}\n",
    "\\frac1N \\mathbb E[F_{factors}] &= \\alpha \\sum_k P_k \\sum_{f_1,\\dots,f_k} \\Theta\\left(-\\prod_{i=1}^k f_i \\right)2\\min_{i=1,...,k}\\left|f_i\\right|\\prod_{i=1}^kq(f_i)\\\\\n",
    "\\alpha&=\\frac{\\sum_d d \\Lambda_d}{\\sum_k kP_k}\\\\\n",
    "\\frac1N \\mathbb E[F_{vars}] &=  \\sum_d \\Lambda_d \\left\\{d \\sum_f |f| q_{d-1}(f) - (d-1) \\sum_f |f|q_d(f)\\right\\}\n",
    "\\end{align*}"
   ]
  },
  {
   "cell_type": "markdown",
   "metadata": {},
   "source": [
    "RS cavity method\n",
    "---\n",
    "* The RS equations become\n",
    "\\begin{align}\n",
    "    p(f) &= \\sum_{k=0}^{\\infty}\\tilde{P_k}\\sum_{d_1,\\dots,d_k}\\prod_{i=1}^k\\tilde{\\Lambda}_{d_i}\\sum_{\\{f_{ij}\\}^{i=1\\dots k}_{j=1,\\dots d_i}}\\sum_{s_1,\\dots,s_k}\\frac{1}{2^k}\\delta(f-F^{MS}(\\{f_{ij}\\}))\\prod_{i,j}p(f_{ij})\n",
    "\\end{align}"
   ]
  },
  {
   "cell_type": "markdown",
   "metadata": {},
   "source": [
    "This is equivalent to:\n",
    "\n",
    "\\begin{align}\n",
    "q(g) &= \\sum_{d=0}^\\infty \\tilde\\Lambda_{d} \\frac12\\sum_{s\\in\\pm1} \\sum_{f_1,\\dots,f_d}\\delta\\left(g -s -\\sum_{a=1}^d f_a\\right)\\prod_{a=1}^d p(f_a) \\\\\n",
    "&= \\sum_{d=0}^\\infty \\tilde\\Lambda_{d}  q_d(f)\\\\\n",
    "p(f) &= \\sum_{k=0}^{\\infty}\\tilde{P_k}\\sum_{g_1,\\dots,g_k}\\delta\\left(f-\\min_{j=1,\\dots,k-1}\\left|g_{j} \\right|{\\rm sign} \\left(\\prod_{j=1,\\dots,k-1}g_{j}\\right)\\right)\\prod_{j}q(g_{j})\n",
    "\\end{align}\n",
    "\n",
    "note that the second line is almost the old equation (even without the $s$). Note also that $q_d(f)$ is a simple convolution power that can be computed iteratively, with\n",
    "\n",
    "\\begin{align}\n",
    "q_0(f) &= \\frac12(\\delta(f-1)+\\delta(f+1))\\\\\n",
    "q_{d+1}(f) &= \\sum_{f',f''} \\delta\\left(f-f'-f''\\right) q_d(f')p(f'')\n",
    "\\end{align}\n"
   ]
  },
  {
   "cell_type": "code",
<<<<<<< HEAD
   "execution_count": 159,
=======
   "execution_count": 27,
>>>>>>> 7ac026b228bca30ac2c42cd9292e17d382f7083a
   "metadata": {},
   "outputs": [
    {
     "data": {
      "text/plain": [
       "RS (generic function with 1 method)"
      ]
     },
<<<<<<< HEAD
     "execution_count": 159,
=======
     "execution_count": 27,
>>>>>>> 7ac026b228bca30ac2c42cd9292e17d382f7083a
     "metadata": {},
     "output_type": "execute_result"
    }
   ],
   "source": [
    "using OffsetArrays\n",
    "\n",
    "V0(v::Vector) = OV(v, 0:length(v)-1)\n",
    "\n",
    "#here d is a vector of length K-1 with the degrees of the input vars\n",
    "function convolve(p1, p2)\n",
    "    N2 = max(lastindex(p1), lastindex(p2))\n",
    "    q = OffsetArray(zeros(2N2+1),-N2:N2)\n",
    "    for f1 in eachindex(p1)\n",
    "        for f2 in eachindex(p2)\n",
    "            q[clamp(f1+f2, -N2, N2)] += p1[f1]*p2[f2]\n",
    "        end\n",
    "    end\n",
    "    q\n",
    "end\n",
    "\n",
    "function iterg(p, Λ)\n",
    "    qd = OffsetArray([0.5,0,0.5],-1:1)\n",
    "    N = lastindex(p)\n",
    "    q = OffsetArray(zeros(2N+1), -N:N)\n",
    "    q[-1:1] .+= qd[-1:1] .* Λ[0]\n",
    "    for d ∈ 1:lastindex(Λ)\n",
    "        qd = convolve(qd, p)\n",
    "        for g in eachindex(qd)\n",
    "            q[g] += Λ[d] * qd[g]\n",
    "        end\n",
    "    end\n",
    "    q\n",
    "end\n",
    "\n",
    "function itergfixed(p,d)\n",
    "    q = zero(p)\n",
    "    q[-1:1] += [0.5, 0, 0.5]\n",
    "    for d1 ∈ 1:d\n",
    "        q = convolve(q, p)\n",
    "    end\n",
    "    q ./ sum(q)\n",
    "end\n",
    "\n",
    "function iterf(q, k)\n",
    "    q1 = zero(q)\n",
    "    N = lastindex(q1)\n",
    "    for f = 1:N\n",
    "        v1 = q[f]\n",
    "        v2 = sum(q[f+1:end])\n",
    "        v = (v1+v2)^k-v2^k\n",
    "        q1[+f] = v/2\n",
    "        q1[-f] = v/2\n",
    "    end\n",
    "    v1 = q[0]/2\n",
    "    v2 = sum(q[1:end])\n",
    "    q1[0] = (v1+v2)^k-v2^k\n",
    "    q1 ./ sum(q1)\n",
    "end\n",
    "\n",
    "function overlap_factors_q(q,k)\n",
    "    O = 0.0\n",
    "    N = lastindex(q)\n",
    "    for f = 1:N\n",
    "        v1 = 2q[f]\n",
    "        v2 = 2sum(q[f+1:end])\n",
    "        v = (v1+v2)^k-v2^k\n",
    "        O += f*v\n",
    "    end\n",
    "    O\n",
    "end\n",
    "\n",
    "function RS(Pk, Λ; N=100, tol=1e-5, maxiter=100, damp=0.9)\n",
    "    ks = [k for k in eachindex(Pk) if Pk[k] > tol]\n",
    "    ds = [d for d in eachindex(Λ) if Λ[d] > tol]\n",
    "    @assert sum(Pk[ks]) ≈ 1 && sum(Λ[ds]) ≈ 1\n",
    "    p = OffsetVector(ones(2N+1), -N:N); p ./= sum(p)\n",
    "    for iter=1:maxiter\n",
    "        q = sum(d*Λ[d]*itergfixed(p, d-1) for d=ds)\n",
    "        q ./= sum(q)\n",
    "        p1 = sum(k*Pk[k]*iterf(q, k-1) for k=ks)\n",
    "        p1 ./= sum(p1)\n",
    "        err = maximum(abs, p1 - p); err < tol && (@show err iter; break)\n",
    "        p .= p .* damp .+ p1 .* (1-damp)\n",
    "    end\n",
    "    α = sum(d*Λ[d] for d=ds) / sum(k*Pk[k] for k=ks)\n",
    "    \n",
    "    ### check!!\n",
    "    q = sum(d*Λ[d]*itergfixed(p, d-1) for d=ds); #fia\n",
    "    O = sum(abs(f)*q[f] for f=eachindex(q))\n",
    "    q2 = sum((d-1)*Λ[d]*itergfixed(p, d) for d=ds); #fi\n",
    "    O -= sum(abs(f)*q2[f] for f=eachindex(q2))\n",
    "    q ./= sum(q)\n",
    "    O -= α*sum(Pk[k]*overlap_factors_q(q,k) for k=ks) #fa\n",
    "    1-α, (1-O)/2, p  \n",
    "end"
   ]
  },
  {
   "cell_type": "code",
<<<<<<< HEAD
   "execution_count": 160,
=======
   "execution_count": 28,
   "metadata": {},
   "outputs": [
    {
     "name": "stdout",
     "output_type": "stream",
     "text": [
      "err = 9.478641578963831e-6\n",
      "iter = 190\n"
     ]
    }
   ],
   "source": [
    "r,d,_ = RS([0,0,1],[0,1], maxiter=10000);"
   ]
  },
  {
   "cell_type": "code",
   "execution_count": 29,
   "metadata": {},
   "outputs": [
    {
     "data": {
      "text/plain": [
       "0.20962056087885145"
      ]
     },
     "execution_count": 29,
     "metadata": {},
     "output_type": "execute_result"
    }
   ],
   "source": [
    "d"
   ]
  },
  {
   "cell_type": "code",
   "execution_count": 509,
>>>>>>> 7ac026b228bca30ac2c42cd9292e17d382f7083a
   "metadata": {},
   "outputs": [
    {
     "name": "stdout",
     "output_type": "stream",
     "text": [
      "err = 9.765238617731598e-11\n",
      "iter = 547\n",
      "err = 9.65035829025851e-11\n",
      "iter = 533\n",
      "err = 9.803224898519147e-11\n",
      "iter = 519\n",
      "err = 9.751133234203735e-11\n",
      "iter = 506\n",
      "err = 9.953587953859255e-11\n",
      "iter = 493\n",
      "err = 9.906675479953719e-11\n",
      "iter = 481\n",
      "err = 9.580830573341359e-11\n",
      "iter = 470\n",
      "err = 9.997952465923277e-11\n",
      "iter = 458\n",
      "err = 9.573530856954449e-11\n",
      "iter = 448\n",
      "err = 9.898681874176418e-11\n",
      "iter = 437\n",
      "err = 9.882078488843149e-11\n",
      "iter = 427\n",
      "err = 9.490852548310613e-11\n",
      "iter = 418\n",
      "err = 9.86565273919382e-11\n",
      "iter = 408\n",
      "err = 9.845790849283276e-11\n",
      "iter = 399\n",
      "err = 9.398071210142689e-11\n",
      "iter = 391\n",
      "err = 9.731887518071858e-11\n",
      "iter = 382\n",
      "err = 9.61798418686044e-11\n",
      "iter = 374\n",
      "err = 9.669554046354278e-11\n",
      "iter = 366\n",
      "err = 9.892109353870637e-11\n",
      "iter = 358\n",
      "err = 9.598433159396791e-11\n",
      "iter = 351\n",
      "err = 9.454820260046404e-11\n",
      "iter = 344\n"
     ]
    },
    {
     "data": {
      "text/plain": [
       "([0.1, 0.11, 0.12, 0.13, 0.14, 0.15, 0.16, 0.17, 0.18, 0.19  …  0.21, 0.22, 0.23, 0.24, 0.25, 0.26, 0.27, 0.28, 0.29, 0.3], [0.2721944174571923, 0.2693140503431727, 0.26645480333346516, 0.26361607252667013, 0.2607972890197357, 0.2579979161670046, 0.255217447084938, 0.2524554023735354, 0.24971132802895868, 0.24698479352472247  …  0.24158272882595022, 0.23890643966665281, 0.23624616946472043, 0.23360158089273841, 0.23097235112463654, 0.22835817062570707, 0.22575874199075585, 0.22317377881874884, 0.22060300461230437, 0.2180461516901176])"
      ]
     },
     "execution_count": 160,
     "metadata": {},
     "output_type": "execute_result"
    }
   ],
   "source": [
    "using Unzip\n",
    "R23,D23=map(0.1:0.01:0.3) do r\n",
    "    # 3-t=2t+3(1-t)=<d> = 3(1-r) -> t=3r\n",
    "    t=3r\n",
    "    Pk = V0([0,0,0,1])\n",
    "    Λ = V0([0,0.0,t,1-t])\n",
    "    r1,d,p = RS(Pk, Λ; N=20, tol=1e-10, maxiter=10000)\n",
    "    @assert r ≈ r1\n",
    "    r,d\n",
    "end |>unzip "
   ]
  },
  {
   "cell_type": "code",
   "execution_count": 161,
   "metadata": {},
   "outputs": [
    {
     "data": {
      "text/plain": [
       "4-element OffsetArray(::Array{Float64,1}, 0:3) with eltype Float64 with indices 0:3:\n",
       " 0.0\n",
       " 0.0\n",
       " 0.30000000000000004\n",
       " 0.7"
      ]
     },
     "execution_count": 161,
     "metadata": {},
     "output_type": "execute_result"
    }
   ],
   "source": [
    "Pk = V0([0,0,0,1])\n",
    "r = 0.1\n",
    "t=3r\n",
    "Λ = V0([0,0.0,t,1-t])"
   ]
  },
  {
   "cell_type": "code",
   "execution_count": 162,
   "metadata": {},
   "outputs": [
    {
     "name": "stdout",
     "output_type": "stream",
     "text": [
      "err = 9.799649980379854e-11\n",
      "iter = 321\n",
      "err = 9.28979670966612e-11\n",
      "iter = 320\n",
      "err = 9.542860945899179e-11\n",
      "iter = 318\n",
      "err = 9.832740177628807e-11\n",
      "iter = 316\n",
      "err = 9.397405076327914e-11\n",
      "iter = 315\n",
      "err = 9.73379155055909e-11\n",
      "iter = 313\n",
      "err = 9.34374799754778e-11\n",
      "iter = 312\n",
      "err = 9.722961324953872e-11\n",
      "iter = 310\n",
      "err = 9.369194309272189e-11\n",
      "iter = 309\n",
      "err = 9.789735688769952e-11\n",
      "iter = 307\n",
      "err = 9.465583872270145e-11\n",
      "iter = 306\n",
      "err = 9.927486610550318e-11\n",
      "iter = 304\n",
      "err = 9.627998398542559e-11\n",
      "iter = 303\n",
      "err = 9.349498952815338e-11\n",
      "iter = 302\n",
      "err = 9.853978744089886e-11\n",
      "iter = 300\n",
      "err = 9.594147698521738e-11\n",
      "iter = 299\n",
      "err = 9.351441843108432e-11\n",
      "iter = 298\n",
      "err = 9.899397968027301e-11\n",
      "iter = 296\n",
      "err = 9.671508038877619e-11\n",
      "iter = 295\n",
      "err = 9.458006600127078e-11\n",
      "iter = 294\n",
      "err = 9.257855593247655e-11\n",
      "iter = 293\n",
      "err = 9.85121428875857e-11\n",
      "iter = 291\n",
      "err = 9.662370903384954e-11\n",
      "iter = 290\n",
      "err = 9.485107144158178e-11\n",
      "iter = 289\n",
      "err = 9.31861809938539e-11\n",
      "iter = 288\n",
      "err = 9.962558555898227e-11\n",
      "iter = 286\n",
      "err = 9.805656286943076e-11\n",
      "iter = 285\n",
      "err = 9.658374100496303e-11\n",
      "iter = 284\n",
      "err = 9.520234600657318e-11\n",
      "iter = 283\n",
      "err = 9.390671573683562e-11\n",
      "iter = 282\n",
      "err = 9.269285339286171e-11\n",
      "iter = 281\n",
      "err = 9.972389580781282e-11\n",
      "iter = 279\n",
      "err = 9.859485450292027e-11\n",
      "iter = 278\n",
      "err = 9.754169694176085e-11\n",
      "iter = 277\n",
      "err = 9.656103694410945e-11\n",
      "iter = 276\n",
      "err = 9.565015446355574e-11\n",
      "iter = 275\n",
      "err = 9.480610740908446e-11\n",
      "iter = 274\n",
      "err = 9.402634226773898e-11\n",
      "iter = 273\n",
      "err = 9.330825001541143e-11\n",
      "iter = 272\n",
      "err = 9.265010980641364e-11\n",
      "iter = 271\n",
      "err = 9.20501452839062e-11\n",
      "iter = 270\n",
      "err = 9.996192762429246e-11\n",
      "iter = 268\n",
      "err = 9.945683165923924e-11\n",
      "iter = 267\n",
      "err = 9.901002240297885e-11\n",
      "iter = 266\n",
      "err = 9.861944594291572e-11\n",
      "iter = 265\n",
      "err = 9.828421410063015e-11\n",
      "iter = 264\n",
      "err = 9.800310563079506e-11\n",
      "iter = 263\n",
      "err = 9.777534337729321e-11\n",
      "iter = 262\n",
      "err = 9.759970609479751e-11\n",
      "iter = 261\n",
      "err = 9.747586071640058e-11\n",
      "iter = 260\n",
      "err = 9.740275253022901e-11\n",
      "iter = 259\n",
      "err = 9.737999295822419e-11\n",
      "iter = 258\n",
      "err = 9.740691586657135e-11\n",
      "iter = 257\n",
      "err = 9.748302165490941e-11\n",
      "iter = 256\n",
      "err = 9.760836583438959e-11\n",
      "iter = 255\n",
      "err = 9.778206022659219e-11\n",
      "iter = 254\n",
      "err = 9.800410483151722e-11\n",
      "iter = 253\n",
      "err = 9.827455516031591e-11\n",
      "iter = 252\n",
      "err = 9.85933001906858e-11\n",
      "iter = 251\n",
      "err = 9.895928521075348e-11\n",
      "iter = 250\n",
      "err = 9.937339839893866e-11\n",
      "iter = 249\n",
      "err = 9.983514015488026e-11\n",
      "iter = 248\n",
      "err = 9.128486855303208e-11\n",
      "iter = 248\n",
      "err = 9.176504001118246e-11\n",
      "iter = 247\n",
      "err = 9.228839914499076e-11\n",
      "iter = 246\n",
      "err = 9.285511248791067e-11\n",
      "iter = 245\n",
      "err = 9.346479146188358e-11\n",
      "iter = 244\n",
      "err = 9.411815771187548e-11\n",
      "iter = 243\n",
      "err = 9.481510021558393e-11\n",
      "iter = 242\n",
      "err = 9.555595203991629e-11\n",
      "iter = 241\n",
      "err = 9.634104625177997e-11\n",
      "iter = 240\n",
      "err = 9.717127102959466e-11\n",
      "iter = 239\n",
      "err = 9.804657086220914e-11\n",
      "iter = 238\n",
      "err = 9.896811148379925e-11\n",
      "iter = 237\n",
      "err = 9.99376692512044e-11\n",
      "iter = 236\n",
      "err = 9.149592195001333e-11\n",
      "iter = 236\n",
      "err = 9.243938947633978e-11\n",
      "iter = 235\n",
      "err = 9.343131823769113e-11\n",
      "iter = 234\n",
      "err = 9.447545523677547e-11\n",
      "iter = 233\n",
      "err = 9.557635238799378e-11\n",
      "iter = 232\n",
      "err = 9.673975509549848e-11\n",
      "iter = 231\n",
      "err = 9.79731573647058e-11\n",
      "iter = 230\n",
      "err = 9.928685651416913e-11\n",
      "iter = 229\n",
      "err = 9.104536569104482e-11\n",
      "iter = 229\n",
      "err = 9.238806941702649e-11\n",
      "iter = 228\n",
      "err = 9.384601429296424e-11\n",
      "iter = 227\n",
      "err = 9.544109946801882e-11\n",
      "iter = 226\n",
      "err = 9.720060867302038e-11\n",
      "iter = 225\n",
      "err = 9.915387955139465e-11\n",
      "iter = 224\n",
      "err = 9.145992296843986e-11\n",
      "iter = 224\n",
      "err = 9.363090858194312e-11\n",
      "iter = 223\n",
      "err = 9.604511630456614e-11\n",
      "iter = 222\n",
      "err = 9.868207639929238e-11\n",
      "iter = 221\n",
      "err = 9.14779502148022e-11\n",
      "iter = 221\n",
      "err = 9.38509131520604e-11\n",
      "iter = 220\n",
      "err = 9.561788860690257e-11\n",
      "iter = 219\n",
      "err = 9.573687675956677e-11\n",
      "iter = 218\n",
      "err = 9.212309387551798e-11\n",
      "iter = 217\n",
      "err = 9.9022720578823e-11\n",
      "iter = 214\n",
      "err = 9.84166012574228e-11\n",
      "iter = 209\n",
      "err = 9.476824880394474e-11\n",
      "iter = 213\n"
     ]
    },
    {
     "data": {
      "text/plain": [
       "([0.33333333333333337, 0.33666666666666667, 0.33999999999999997, 0.3433333333333334, 0.3466666666666667, 0.35, 0.3533333333333334, 0.3566666666666667, 0.36, 0.3633333333333333  …  0.6366666666666667, 0.6399999999999999, 0.6433333333333333, 0.6466666666666667, 0.6499999999999999, 0.6533333333333333, 0.6566666666666667, 0.6599999999999999, 0.6633333333333333, 0.6666666666666667], [0.20962056095628745, 0.20886343136633823, 0.20810818107511475, 0.20735484854520952, 0.20660347339311846, 0.2058540964334623, 0.20510675972527237, 0.20436150662046038, 0.20361838181458192, 0.20287743140002396  …  0.16235621718528137, 0.16258099498755846, 0.16285832422512603, 0.16319219124336504, 0.16358700137515503, 0.16404763536154665, 0.16457951501388357, 0.16518867987936348, 0.16588187704481594, 0.16666666666666663])"
      ]
     },
     "execution_count": 162,
     "metadata": {},
     "output_type": "execute_result"
    }
   ],
   "source": [
    "using Unzip\n",
    "R12,D12=map(0.0:0.01:1.0) do t\n",
    "    Pk = V0([0,0,0,1])\n",
    "    Λ = V0([0,t,1-t])\n",
    "    r,d,p = RS(Pk, Λ; N=20, tol=1e-10, maxiter=10000)\n",
    "    r,d\n",
    "end |>unzip "
   ]
  },
  {
   "cell_type": "code",
   "execution_count": 163,
   "metadata": {},
   "outputs": [
    {
     "data": {
      "text/plain": [
       "21-element Array{Float64,1}:\n",
       " 0.2721944174571923\n",
       " 0.2693140503431727\n",
       " 0.26645480333346516\n",
       " 0.26361607252667013\n",
       " 0.2607972890197357\n",
       " 0.2579979161670046\n",
       " 0.255217447084938\n",
       " 0.2524554023735354\n",
       " 0.24971132802895868\n",
       " 0.24698479352472247\n",
       " 0.24427539004128612\n",
       " 0.24158272882595022\n",
       " 0.23890643966665281\n",
       " 0.23624616946472043\n",
       " 0.23360158089273841\n",
       " 0.23097235112463654\n",
       " 0.22835817062570707\n",
       " 0.22575874199075585\n",
       " 0.22317377881874884\n",
       " 0.22060300461230437\n",
       " 0.2180461516901176"
      ]
     },
     "execution_count": 163,
     "metadata": {},
     "output_type": "execute_result"
    }
   ],
   "source": [
    "D23"
   ]
  },
  {
   "cell_type": "code",
   "execution_count": 121,
   "metadata": {},
   "outputs": [
    {
     "ename": "LoadError",
     "evalue": "UndefVarError: Pk not defined",
     "output_type": "error",
     "traceback": [
      "UndefVarError: Pk not defined",
      "",
      "Stacktrace:",
      " [1] top-level scope at In[121]:1"
     ]
    }
   ],
   "source": [
    "D,p=mixed(Pk)\n",
    "p"
   ]
  },
  {
   "cell_type": "markdown",
   "metadata": {},
   "source": [
    "* The RS approximation of the minimal energy becomes \n",
    "\\begin{align}\n",
    "    O^{RS} =& \\sum_{k}P_k\\sum_{d_1,\\dots,d_k}\\prod_{i=1}^k\\tilde{\\Lambda}_{d_i}\\sum_{\\{f_{i,j}\\}^{i=1,\\dots k}_{j=1,\\dots d_j}}\\prod_{ij}p(f_{ij})\\sum_{s_1,\\dots,s_k}\\frac{1}{2^k} F_a(\\{f_{ij}\\},\\{s_i\\})\\\\\n",
    "    &-\\sum_{d}\\Lambda_d(d-1)\\sum_{f_1,\\dots,f_d}\\prod_{i=1}^dp(f_i)\\sum_s\\frac{1}{2}F_i(f_1,\\dots,f_d,s)\n",
    "\\end{align}\n",
    "\n",
    "1RSB equations for Max-Sum (Survey Propagation) at finite parameter $y$\n",
    "---\n",
    "We consider the auxiliary statistical physics model\n",
    "\\begin{align}\n",
    "    P_y(\\{u_{ai},u_{ia}\\})=\\frac{1}{Z(y)}\\mathbb{I}\\left(\\{u_{ai},u_{ia}\\}\\text{sat Max-Sum}\\right)e^{-yF(\\{u_{ai},u_{ia}\\})}\n",
    "\\end{align}\n",
    "in which the variables are the Max-Sum messages living on the edges, and the constraints (that can be put in a factorized form) enforces the Max-Sum equations to be satisfied. Each Max-Sum solution represents a cluster. The Max-Sum solutions are weighted according to their Bethe free energy, which corresponds to the minimal energy (inside the cluster). In the $y\\to\\infty$ limit one keeps only the clusters with minimal energy\n",
    "\n",
    "* The distributions $Q_{ia}(u_{ia})$, $Q_{ai}(u_{ai})$ over Max-Sum messages obey the 1RSB equations :\n",
    "\\begin{align}\n",
    "    Q_{ia}(u_{ia})&=\\frac{1}{Z_{ia}}\\sum_{\\{u_{bi}\\}_{b\\in\\partial i\\setminus a}}\\delta(u_{ia}-f^{MS}_{ia}(\\{u_{bi}\\}_{b\\in\\partial i\\setminus a}))e^{-yC_{ia}}\\prod_{b\\in\\partial i\\setminus a}Q_{bi}(u_{bi}) \\\\\n",
    "    Q_{ai}(u_{ai})&=\\frac{1}{Z_{ai}}\\sum_{\\{u_{ja}\\}_{j\\in\\partial a\\setminus i}}\\delta(u_{ai}-f^{MS}_{ai}(\\{u_{ja}\\}_{j\\in\\partial a\\setminus i}))e^{-yC_{ai}}\\prod_{j\\in\\partial a\\setminus i}Q_{ja}(u_{ja})    \n",
    "\\end{align}\n",
    "where $u_{ia}-f^{MS}_{ia}(\\{u_{bi}\\}_{b\\in\\partial i\\setminus a})$, and $u_{ai}-f^{MS}_{ai}(\\{u_{ja}\\}_{j\\in\\partial a\\setminus i})$ are shorthand notation for the Max-Sum equations\n",
    "\\begin{align}\n",
    "    u_{ia}(\\sigma_i)&=s_i\\sigma_i+ \\sum_{b\\in\\partial i\\setminus a}u_{bi}(\\sigma_i) - C_{ia}\\\\\n",
    "    u_{ai}(\\sigma_i)&=\\max_{\\{\\sigma_j\\}_{j\\in\\partial a\\setminus i}:{\\rm sat}}\\left(\\sum_{j\\in\\partial a\\setminus i}u_{ja}(\\sigma_j)\\right) - C_{ai}\n",
    "\\end{align}\n",
    "and $C_{ia}$, $C_{ai}$ are the constants in the Max-Sum equations\n",
    "\\begin{align}\n",
    "    C_{ia}&=\\max_{\\sigma_i}\\left(s_i\\sigma_i+ \\sum_{b\\in\\partial i\\setminus a}u_{bi}(\\sigma_i)\\right)\\\\\n",
    "    C_{ai}&=\\max_{\\{\\sigma_i\\}_{i\\in\\partial a}:{\\rm sat}}\\left(\\sum_{j\\in\\partial a\\setminus i}u_{ja}(\\sigma_j)\\right)\n",
    "\\end{align}\n",
    "the constants $Z_{ia}$, $Z_{ai}$ are normalizations of the distributions $Q_{ia}$, $Q_{ai}$ over the Max-Sum messages\n",
    "\n",
    "* With the parametrization $u_{ai} = f_{ai}\\sigma_i+g_{ai}$ we get:\n",
    "\\begin{equation}\n",
    "    g_{ai} = -\\frac{1}{\\beta}\\log(2{\\rm cosh}(\\beta f_{ai})\\to-|f_{ai}|\n",
    "\\end{equation}\n",
    "Therefore :\n",
    "\\begin{align*}\n",
    "    C_{ia}&=\\max_{\\sigma_i}\\left(\\sigma_i\\left(s_i+ \\sum_{b\\in\\partial i\\setminus a}f_{bi}\\right)\\right) + \\sum_{b\\in\\partial i\\setminus a}g_{bi}\\\\\n",
    "    &=\\left|s_i+ \\sum_{b\\in\\partial i\\setminus a}f_{bi}\\right| - \\sum_{b\\in\\partial i\\setminus a}|f_{bi}|\n",
    "\\end{align*}\n",
    "and\n",
    "\\begin{align*}\n",
    "    C_{ai}&=\\max_{\\{\\sigma_i\\}_{i\\in\\partial a}:{\\rm sat}}\\left(\\sum_{j\\in\\partial a\\setminus i}f_{ja}\\sigma_j\\right)-\\sum_{j\\in\\partial a\\setminus i}|f_{ja}|\\\\\n",
    "    &= -2\\min_{j\\in\\partial a\\setminus i}|f_{ja}|\\Theta\\left(-\\prod_{j\\in\\partial a\\setminus j}f_{ja}\\right)\n",
    "\\end{align*}\n",
    "\n",
    "* We can then write the same 1RSB equations for the distributions $P_{ia}(f_{ia})$, $P_{ai}(f_{ai})$ over the integer parameters $f_{ia}$, $f_{ai}$. We can also write a closed equation on the distribution $P_{ai}$, using that :\n",
    "\\begin{equation}\n",
    "    P_{ai}(f_{ia})=\\frac{1}{Z_{ia}}\\sum_{\\{f_{bj}\\}_{j\\in\\partial a \\setminus i, b\\in\\partial j\\setminus a}}\\delta(f_{ia}-F^{MS}(\\{f_{bj}\\})e^{-y\\left(C_{ai}+\\sum_{j\\in\\partial a\\setminus i}C_{ja}\\right)}\\prod_{j\\in\\partial a \\setminus i, b\\in\\partial j\\setminus a}P_{bj}(f_{bj})\n",
    "\\end{equation}\n",
    "with:\n",
    "\\begin{align*}\n",
    "    C_{ai}+\\sum_{j\\in\\partial a\\setminus i}C_{ja} &= \\max_{\\sigma:sat}\\left(\\sum_{j\\in\\partial a \\setminus i}\\sigma_j\\left(s_j + \\sum_{b\\in\\partial j\\setminus a}f_{bj}\\right)\\right)-\\sum_{j\\in\\partial a\\setminus i}\\sum_{b\\in\\partial j\\setminus a}|f_{bj}|\n",
    "\\end{align*}\n",
    "\n",
    "* Random graph ensemble\n",
    "When the source and the factor graph are random variables the 1RSB messages $P_{ai}$, $(a,i)\\in E$ become random variables. Let $(a,i)$ be a uniformly chosen edge in a factor graph drawn from the random ensembl, and let $\\mathcal{P}$ be the distribution of the message $P_{ai}$ solution of the 1RSB equation written above. The distribution $\\mathcal{P}(p)$ obey consistency equation similar to the RS cavity equations:\n",
    "\\begin{align}\n",
    "    \\mathcal{P}(P)=\\sum_{k}\\tilde{P}_k\\sum_{d_1,\\dots, d_k}\\left(\\prod_{i=1}^k\\tilde{\\Lambda}_{d_i}\\right)\\int\\prod_{i=1}^k\\prod_{j=1}^{d_i}{\\rm d}\\mathcal{P}(P_{ij})\\delta(P-F^{1RSB}(\\{P_{i,j}\\}))\n",
    "\\end{align}\n",
    "This equation always admits a trivial fixed point $\\mathcal{P}(P)=\\delta[P-p^{RS}]$, where $p^{RS}$ is the solution of the RS cavity equation.\n",
    "In the RS phase, this trivial fixed-point is the unique solution, while in the 1RSB phase, the trivial solution becomes unstable and the above equation admits a non-trivial solution."
   ]
  },
  {
   "cell_type": "code",
   "execution_count": null,
   "metadata": {},
   "outputs": [],
   "source": []
  }
 ],
 "metadata": {
  "kernelspec": {
   "display_name": "Julia 1.5.3",
   "language": "julia",
   "name": "julia-1.5"
  },
  "language_info": {
   "file_extension": ".jl",
   "mimetype": "application/julia",
   "name": "julia",
   "version": "1.5.3"
  },
  "output_auto_scroll": false
 },
 "nbformat": 4,
 "nbformat_minor": 4
}
