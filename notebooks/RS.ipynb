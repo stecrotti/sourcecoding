{
 "cells": [
  {
   "cell_type": "markdown",
   "metadata": {},
   "source": [
    "Max-Sum equations\n",
    "--\n",
    "\n",
    "\\begin{align*}\n",
    "h_{ia}\\left(\\sigma_{i}\\right)= &\\sum_{b\\in\\partial i\\setminus a} u_{bi}(\\sigma_i) + \\sigma_i s_i + const\\\\\n",
    "u_{ai}\\left(\\sigma_{i}\\right)= & \\max_{\\{\\sigma_{j}:j\\in\\partial a\\setminus i\\}:\\prod_{j}\\sigma_{j}=1}\\sum_{j\\in\\partial a\\setminus i}h_{ja}\\left(\\sigma_{j}\\right)+const\\\\\n",
    "b_{i}\\left(\\sigma_{i}\\right)= &\\sum_{b\\in\\partial} u_{bi}(\\sigma_i) + \\sigma_i s_i + const\\\\\n",
    "\\end{align*}"
   ]
  },
  {
   "cell_type": "markdown",
   "metadata": {},
   "source": [
    "As magnetizations, $h_{ia}(\\sigma)=h_{ia}\\sigma+const, u_{ai}(\\sigma_i)=u_{ai}\\sigma_i+const, b_i(\\sigma_i)=b_i\\sigma_i+const$\n",
    "\n",
    "\\begin{align*}\n",
    "b_{i}=  & s_{i} + \\sum_{a\\in\\partial i}u_{ai}\\\\\n",
    "\\sigma_{i}u_{ai}= & \\max_{\\{\\sigma_{j}:j\\in\\partial a\\setminus i\\}:\\prod_{j}\\sigma_{j}=1}\\sum_{j\\in\\partial a\\setminus i}h_{ja}\\sigma_{j}+const\\\\\n",
    "u_{ai}= & \\frac{1}{2}\\left[\\max_{\\{\\sigma_{j}:j\\in\\partial a\\setminus i\\}:\\prod_{j\\neq i}\\sigma_{j}=1}\\left(\\sum_{j\\in\\partial a\\setminus i}h_{ja}\\sigma_{j}\\right)-\\max_{\\{\\sigma_{j}:j\\in\\partial a\\setminus i\\}:\\prod_{j\\neq i}\\sigma_{j}=-1}\\left(\\sum_{j\\in\\partial a\\setminus i}h_{ja}\\sigma_{j}\\right)\\right]\\\\\n",
    "= & \\frac{1}{2}\\begin{cases}\n",
    "\\sum_{j\\in\\partial a\\setminus i}\\left|h_{ja}\\right| & \\text{if }\\prod h_{ja}>0\\\\\n",
    "\\sum_{j\\in\\partial a\\setminus i}\\left|h_{ja}\\right|-2\\min_{j\\in\\partial a\\setminus i}\\left|h_{ja}\\right| & \\text{if }\\prod h_{ja}<0\n",
    "\\end{cases}-\\\\\n",
    " & -\\frac{1}{2}\\begin{cases}\n",
    "\\sum_{j\\in\\partial a\\setminus i}\\left|h_{ja}\\right| & \\text{if }\\prod h_{ja}<0\\\\\n",
    "\\sum_{j\\in\\partial a\\setminus i}\\left|h_{ja}\\right|-2\\min_{j\\in\\partial a\\setminus i}\\left|h_{ja}\\right| & \\text{if }\\prod h_{ja}>0\\\\\n",
    "\\end{cases}\\\\\n",
    "=&\\begin{cases}\n",
    "\\min_{j\\in\\partial a\\setminus i}\\left|h_{ja}\\right| & \\text{if }\\prod h_{ja}>0\\\\\n",
    "-\\min_{j\\in\\partial a\\setminus i}\\left|h_{ja}\\right| & \\text{if }\\prod h_{ja}<0\n",
    "\\end{cases}\n",
    "\\end{align*}"
   ]
  },
  {
   "cell_type": "markdown",
   "metadata": {},
   "source": [
    "So we finally get\n",
    "\\begin{align*}\n",
    "u_{ai} &= \\min_{j\\in\\partial a\\setminus i}\\left|h_{ja}\\right|\\prod_{j\\in\\partial a\\setminus i}\\text{sign}\\left(h_{ja}\\right)\\\\\n",
    "h_{ia} &= s_i+ \\sum_{b\\in\\partial i\\setminus a} u_{bi}\\\\\n",
    "h_i &= s_i+ \\sum_{b\\in\\partial i} u_{bi} \n",
    "\\end{align*}"
   ]
  },
  {
   "cell_type": "markdown",
   "metadata": {},
   "source": [
    "Distribution in the quenched disorder (fixed degrees)\n",
    "---\n",
    "\n",
    "\\begin{align*}\n",
    "p\\left(f\\right)= &\\sum_{h_{1},\\dots,h_{k-1}}\\delta\\left(f;\\min_{j=1,\\dots,k}\\left|h_{j}\\right|\\prod_{j=1}^{k-1}\\text{sign}h_{j}\\right)\\prod_{j=1}^{k}q\\left(h_{j}\\right)\\\\\n",
    "q\\left(f\\right)=&\\sum_{u_{1},\\dots,u_{d-1}}\\frac12\\sum_s \\delta\\left(f;s+\\sum_{a=1}^{d-1} u_a \\right)\\prod_{a=1}^{d-1} p(u_a)\n",
    "\\end{align*}"
   ]
  },
  {
   "cell_type": "code",
   "execution_count": 2,
   "metadata": {},
   "outputs": [
    {
     "data": {
      "text/plain": [
       "iter_slow_var (generic function with 1 method)"
      ]
     },
     "execution_count": 2,
     "metadata": {},
     "output_type": "execute_result"
    }
   ],
   "source": [
    "using OffsetArrays\n",
    "const ∏ = prod\n",
    "const ∑ = sum\n",
    "\n",
    "function iter_slow_factor(q, k)\n",
    "    N = lastindex(q)\n",
    "    p = fill(0.0, -N:N)\n",
    "    for fs ∈ Iterators.product(fill(-N:N,k)...)\n",
    "        f = minimum(abs.(fs))*sign(∏(fs))\n",
    "        p[clamp(f, -N, N)] += ∏(q[f1] for f1 ∈ fs)\n",
    "    end\n",
    "    p ./= sum(p)\n",
    "end\n",
    "\n",
    "function iter_slow_var(p, d) \n",
    "    N = lastindex(p)\n",
    "    q = fill(0.0, -N:N)\n",
    "    for fs in Iterators.product(fill(-N:N,d)...)\n",
    "        f = sum(fs)\n",
    "        prob = 1/2*∏(p[f] for f ∈ fs)\n",
    "        for s ∈ (-1,1)\n",
    "            q[clamp(f + s, -N, N)] += prob\n",
    "        end\n",
    "    end\n",
    "    q ./= sum(q)\n",
    "end"
   ]
  },
  {
   "cell_type": "markdown",
   "metadata": {},
   "source": [
    "Simplifications\n",
    "--"
   ]
  },
  {
   "cell_type": "markdown",
   "metadata": {},
   "source": [
    "\\begin{align*}\n",
    "p_k\\left(u; q\\right)= & \\sum_{h_{1},\\dots,h_{k}}\\delta\\left(f;\\min_{j=1,\\dots,k}\\left|h_{j}\\right|\\prod_{j=1}^{k}\\text{sign}\\left(h_{j}\\right)\\right)\\prod_{j=1}^{k}q\\left(h_{j}\\right)\\\\\n",
    "= & \\begin{cases}\n",
    "\\frac{1}{2}\\sum_{h_{1},\\dots,h_{k}>0}\\delta\\left(f;\\min_{j=1,\\dots,k}h_{j}\\right)\\prod_{j=1}^{k}2q\\left(h_{j}\\right) & \\text{ for }u>0\\\\\n",
    "\\sum_{n=1}^{k}\\binom{k}{n}q\\left(0\\right)^{n}\\left(2\\sum_{h>0}q\\left(h\\right)\\right)^{n-k} & \\text{ for }u=0\n",
    "\\end{cases}\\\\\n",
    "= & \\begin{cases}\n",
    "\\frac{1}{2}\\left\\{ \\left(2\\sum_{h\\geq u}q\\left(h\\right)\\right)^{k}-\\left(2\\sum_{h>u}q\\left(h\\right)\\right)^{k}\\right\\}  & \\text{ for }u>0\\\\\n",
    "\\sum_{n=0}^{k}\\binom{k}{n}q\\left(0\\right)^{n}\\left(2\\sum_{h>0}q\\left(h\\right)\\right)^{k-n} - \\left(2\\sum_{h>0}q\\left(h\\right)\\right)^{k} & \\text{ for }f=0\n",
    "\\end{cases}\\\\\n",
    "= & \\begin{cases}\n",
    "\\frac{1}{2}\\left\\{ \\left(2\\sum_{h\\geq u}q\\left(h\\right)\\right)^{k}-\\left(2\\sum_{h>u}q\\left(h\\right)\\right)^{k}\\right\\}  & \\text{ for }u>0\\\\\n",
    "1 - \\left(1-q(0)\\right)^{k} & \\text{ for }u=0\n",
    "\\end{cases}\\\\\n",
    "\\end{align*}"
   ]
  },
  {
   "cell_type": "code",
   "execution_count": 3,
   "metadata": {},
   "outputs": [
    {
     "data": {
      "text/plain": [
       "iter_factor (generic function with 1 method)"
      ]
     },
     "execution_count": 3,
     "metadata": {},
     "output_type": "execute_result"
    }
   ],
   "source": [
    "function iter_factor(q, k)\n",
    "    p = zero(q)\n",
    "    N = lastindex(q)\n",
    "    for f = 1:N\n",
    "        v1 = 2q[f]\n",
    "        v2 = 2∑(q[f+1:N])\n",
    "        v = (v1+v2)^k-v2^k\n",
    "        p[+f] = v/2\n",
    "        p[-f] = v/2\n",
    "    end\n",
    "    p[0] = 1-(1-q[0])^k\n",
    "    p ./ sum(p)\n",
    "end"
   ]
  },
  {
   "cell_type": "markdown",
   "metadata": {},
   "source": [
    "and\n",
    "\n",
    "\\begin{align}\n",
    "q_0(h; p) &= \\frac12(\\delta(h-1)+\\delta(h+1))\\\\\n",
    "q_{d}(h; p) &= \\sum_{h',h''} \\delta\\left(h-h'-h''\\right) q_{d-1}(h')p(h'') \\text{ for } d\\geq 1\n",
    "\\end{align}"
   ]
  },
  {
   "cell_type": "code",
   "execution_count": 4,
   "metadata": {},
   "outputs": [
    {
     "data": {
      "text/plain": [
       "iter_var (generic function with 1 method)"
      ]
     },
     "execution_count": 4,
     "metadata": {},
     "output_type": "execute_result"
    }
   ],
   "source": [
    "function convolve(p1, p2)\n",
    "    N = max(lastindex(p1), lastindex(p2))\n",
    "    q = fill(0.0,-N:N)\n",
    "    for f1 ∈ eachindex(p1)\n",
    "        for f2 ∈ eachindex(p2)\n",
    "            q[clamp(f1+f2, -N, N)] += p1[f1]*p2[f2]\n",
    "        end\n",
    "    end\n",
    "    q ./= sum(q)\n",
    "end\n",
    "\n",
    "function iter_var(p,d)\n",
    "    q = zero(p)\n",
    "    q[-1:1] += [0.5, 0, 0.5]\n",
    "    for d1 ∈ 1:d\n",
    "        q = convolve(q, p)\n",
    "    end\n",
    "    q\n",
    "end"
   ]
  },
  {
   "cell_type": "code",
   "execution_count": 5,
   "metadata": {},
   "outputs": [
    {
     "data": {
      "text/plain": [
       "21×2 Matrix{Float64}:\n",
       " 0.0          0.0\n",
       " 0.0          0.0\n",
       " 0.0          0.0\n",
       " 2.36248e-17  2.36248e-17\n",
       " 5.22122e-15  5.22122e-15\n",
       " 2.29701e-8   2.29701e-8\n",
       " 2.06645e-6   2.06645e-6\n",
       " 0.00295244   0.00295244\n",
       " 0.0262883    0.0262883\n",
       " 0.320926     0.320926\n",
       " 0.299662     0.299662\n",
       " 0.320926     0.320926\n",
       " 0.0262883    0.0262883\n",
       " 0.00295244   0.00295244\n",
       " 2.06645e-6   2.06645e-6\n",
       " 2.29701e-8   2.29701e-8\n",
       " 5.22122e-15  5.22122e-15\n",
       " 2.36248e-17  2.36248e-17\n",
       " 0.0          0.0\n",
       " 0.0          0.0\n",
       " 0.0          0.0"
      ]
     },
     "execution_count": 5,
     "metadata": {},
     "output_type": "execute_result"
    }
   ],
   "source": [
    "N = 10\n",
    "p0 = fill(0.0, -N:N)\n",
    "p0[0:3] .= rand(4)\n",
    "p0[-1:-1:-3] .= p0[1:3]\n",
    "p0 ./= sum(p0)\n",
    "p1 = copy(p0)\n",
    "p2 = copy(p0)\n",
    "\n",
    "for i=1:4\n",
    "    p1 = iter_slow_factor(iter_slow_var(p1,2-1),3-1)\n",
    "    p2 = iter_factor(iter_var(p2,2-1),3-1)\n",
    "end\n",
    "[p1[-N:N] p2[-N:N]]"
   ]
  },
  {
   "cell_type": "markdown",
   "metadata": {},
   "source": [
    "RS equations for arbitrary degree profiles $K_k, \\Lambda_d$\n",
    "---\n",
    "\n",
    "\n",
    "\\begin{align}\n",
    "p(u) &\\propto \\sum_k k K_k p_{k-1}(u;q)\\\\\n",
    "q(h) &\\propto \\sum_d d \\Lambda_d q_{d-1}(h;p)\n",
    "\\end{align}"
   ]
  },
  {
   "cell_type": "markdown",
   "metadata": {},
   "source": [
    "Free energy and overlap\n",
    "---\n",
    "* the Bethe free energy can be written as\n",
    "\\begin{equation}\n",
    "    F = \\sum_{a=1}^m F_a - (|\\partial i|-1)\\sum_{i=1}^n F_i \n",
    "\\end{equation}\n",
    "with\n",
    "\\begin{align*}\n",
    "    F_a &=-\\frac{1}{\\beta}\\log\\left(\\sum_{\\sigma:sat}\\prod_{i\\in\\partial a}\\frac{e^{\\beta\\sigma_i\\left(s_i+\\sum_{b\\in\\partial i\\setminus a}u_{bi}\\right)}}{\\prod_{b\\in\\partial i\\setminus a}2{\\rm cosh}(\\beta u_{bi})}\\right)\\\\\n",
    "    &= -\\frac{1}{\\beta}\\log\\left(\\sum_{\\sigma:sat}\\prod_{i\\in\\partial a}e^{\\beta\\sigma_i\\left(s_i+\\sum_{b\\in\\partial i\\setminus a}u_{bi}\\right)}\\right)+\\frac{1}{\\beta}\\sum_{i\\in\\partial a}\\sum_{b\\in\\partial i\\setminus a}\\log(2{\\rm cosh}(\\beta u_{bi}))\\\\\n",
    "    &\\to-\\sum_{i\\in\\partial a}\\left(\\left|s_i + \\sum_{b\\in\\partial i\\setminus a}u_{bi}\\right|-\\sum_{b\\in\\partial i\\setminus a}|u_{bi}|\\right) + \\Theta\\left(-\\prod_{i\\in\\partial a}\\left(s_i + \\sum_{b\\in\\partial i\\setminus a}u_{bi}\\right)\\right)2\\min_{i\\in\\partial a}\\left|s_i + \\sum_{b\\in\\partial i\\setminus a}u_{bi}\\right|\n",
    "\\end{align*}\n",
    "and \n",
    "\\begin{align*}\n",
    "    F_i &= -\\frac{1}{\\beta}\\log\\left(\\sum_{\\sigma_i}\\frac{e^{\\beta\\sigma_i\\left(s_i + \\sum_{a\\in\\partial i}u_{ai}\\right)}}{\\prod_{a\\in\\partial i}2{\\rm cosh}(\\beta u_{ai})}\\right)\\\\\n",
    "    &= -\\frac{1}{\\beta}\\log\\left(\\sum_{\\sigma_i}e^{\\beta\\sigma_i\\left(s_i + \\sum_{a\\in\\partial i}u_{ai}\\right)}\\right) + \\frac{1}{\\beta}\\sum_{a\\in\\partial i}\\log(2{\\rm cosh}(\\beta u_{ai}))\\\\\n",
    "    &\\to- \\left|s_i + \\sum_{a\\in\\partial i}u_{ai}\\right|+\\sum_{a\\in\\partial i}|u_{ai}|\n",
    "\\end{align*}"
   ]
  },
  {
   "cell_type": "markdown",
   "metadata": {},
   "source": [
    "Free energy and overlap\n",
    "---\n",
    "* the Bethe free energy can be written as\n",
    "\\begin{equation}\n",
    "    F = \\sum_{a=1}^m F_a +\\sum_{i=1}^n F_i  - \\sum_i \\sum_{a\\in\\partial i} F_{ia}\n",
    "\\end{equation}\n",
    "with\n",
    "\\begin{align*}\n",
    "    F_a &=-\\frac{1}{\\beta}\\log\\left(\\sum_{\\sigma:sat}\\prod_{i\\in\\partial a}\\frac{e^{\\beta\\sigma_ih_{ia}}}{2{\\rm cosh}(\\beta h_{ia})}\\right)\\\\\n",
    "    &=-\\frac{1}{\\beta}\\log\\left(\\sum_{\\sigma:sat}\\prod_{i\\in\\partial a} e^{\\beta\\sigma_ih_{ia}}\\right) + \\frac1\\beta \\log\\sum_{i\\in\\partial a}2{\\rm cosh}(\\beta h_{ia})\\\\\n",
    "    &\\to-\\sum_{i\\in\\partial a} \\left|h_{ia}\\right| + \\Theta\\left(-\\prod_{i\\in\\partial a}h_{ia}\\right)2\\min_{i\\in\\partial a}\\left|h_{ia}\\right|+\\sum_{i\\in\\partial a} \\left|h_{ia}\\right|\\\\\n",
    "    &=\\Theta\\left(-\\prod_{i\\in\\partial a}h_{ia}\\right)2\\min_{i\\in\\partial a}\\left|h_{ia}\\right|\n",
    "\\end{align*}"
   ]
  },
  {
   "cell_type": "markdown",
   "metadata": {},
   "source": [
    "and \n",
    "\\begin{align*}\n",
    "    F_i &= -\\frac{1}{\\beta}\\log\\left(\\sum_{\\sigma_i}\\frac{e^{\\beta\\sigma_i\\left(s_i + \\sum_{a\\in\\partial i}u_{ai}\\right)}}{\\prod_{a\\in\\partial i}2{\\rm cosh}(\\beta u_{ai})}\\right)\\\\\n",
    "    &= -\\frac{1}{\\beta}\\log\\left(\\sum_{\\sigma_i}e^{\\beta\\sigma_i\\left(s_i + \\sum_{a\\in\\partial i}u_{ai}\\right)}\\right) + \\frac{1}{\\beta}\\sum_{a\\in\\partial i}\\log(2{\\rm cosh}(\\beta u_{ai}))\\\\\n",
    "    &\\to- \\left|s_i + \\sum_{a\\in\\partial i}u_{ai}\\right|+\\sum_{a\\in\\partial i}|u_{ai}|\n",
    "\\end{align*}"
   ]
  },
  {
   "cell_type": "markdown",
   "metadata": {},
   "source": [
    "and\n",
    "\\begin{align}\n",
    "F_{ia} &= -\\frac1\\beta\\log\\left(\\sum_{\\sigma_i}\\frac{e^{\\beta\\sigma_i\\left(h_{ia}+u_{ai}\\right)}}{\\textrm{cosh}(h_{ia})\\textrm{cosh}(u_{ai})}\\right)\\\\\n",
    "&\\to -|h_{ia}+u_{ai}| + |h_{ia}| + |u_{ai}|\n",
    "\\end{align}"
   ]
  },
  {
   "cell_type": "markdown",
   "metadata": {},
   "source": [
    "So we can cancel out terms and define\n",
    "\n",
    "\\begin{align*}\n",
    "F&=F_{factors}-F_{vars}\\\\\n",
    "F_{factors}&= \\sum_a \\Theta\\left(-\\prod_{i\\in\\partial a}h_{ia}\\right)2\\min_{i\\in\\partial a}\\left|h_{ia}\\right|\\\\\n",
    "F_{vars}& = \\sum_i \\sum_{a\\in\\partial i}\\left|h_{ia}\\right| - \\sum_i (|\\partial i| - 1) \\left|h_i\\right|\n",
    "\\end{align*}"
   ]
  },
  {
   "cell_type": "markdown",
   "metadata": {},
   "source": [
    "Averaging, we get\n",
    "\n",
    "\\begin{align*}\n",
    "\\frac1N \\mathbb E[F_{factors}] &= \\alpha \\sum_k K_k \\sum_{h_1,\\dots,h_k} \\Theta\\left(-\\prod_{i=1}^k h_i \\right)2\\min_{i=1,...,k}\\left|h_i\\right|\\prod_{i=1}^kq(h_i)\\\\\n",
    "\\alpha&=\\frac{\\sum_d d \\Lambda_d}{\\sum_k kK_k}\\\\\n",
    "\\frac1N \\mathbb E[F_{vars}] &=  \\sum_d \\Lambda_d \\left\\{d \\sum_h |h| q_{d-1}(h) - (d-1) \\sum_h |h|q_d(h)\\right\\}\n",
    "\\end{align*}"
   ]
  },
  {
   "cell_type": "markdown",
   "metadata": {},
   "source": [
    "Simplifications for the overlap\n",
    "--\n",
    "\n",
    "* The first term can be simplified:\n",
    "\\begin{align*}\n",
    "\\frac1N \\mathbb E[F_{factors}] =&\\sum_{h_1,\\dots,h_k}\\Theta\\left(-\\prod_{i=1}^k h_i\\right)2\\min_{i=1,\\dots,k}\\left|h_i\\right|\\prod_{i=1}^k q(h_i)\\\\\n",
    "=& 2^{k}\\sum_{h_1,\\dots,h_k>0}\\min_{i=1,\\dots,k} |h_i| \\prod_{i=1}^k q(h_i)\\\\\n",
    "=& 2^{k}\\sum_{h>0}f\\sum_{n=1}^k{k\\choose n}\\left(p(h)\\right)^n\\left(\\sum_{h'>h}p(h')\\right)^{k-n} \\\\\n",
    "=& 2^k\\sum_{h>0}h\\left\\{ \\left(\\sum_{h'\\geq h}p(h')\\right)^k - \\left(\\sum_{h'>h} p(h')\\right)^k\\right\\}\n",
    "\\end{align*}"
   ]
  },
  {
   "cell_type": "code",
   "execution_count": 6,
   "metadata": {},
   "outputs": [
    {
     "data": {
      "text/plain": [
       "overlap_factor (generic function with 1 method)"
      ]
     },
     "execution_count": 6,
     "metadata": {},
     "output_type": "execute_result"
    }
   ],
   "source": [
    "overlap_factor(q,k) = 2^k * ∑(f*(∑(q[f:end])^k-∑(q[f+1:end])^k) for f=1:lastindex(q))"
   ]
  },
  {
   "cell_type": "code",
   "execution_count": 7,
   "metadata": {},
   "outputs": [
    {
     "data": {
      "text/plain": [
       "RS (generic function with 1 method)"
      ]
     },
     "execution_count": 7,
     "metadata": {},
     "output_type": "execute_result"
    }
   ],
   "source": [
    "function RS(Pk, Λ; N=100, tol=1e-5, maxiter=100, damp=0.9)\n",
    "    ks = [k for k in eachindex(Pk) if Pk[k] > tol]\n",
    "    ds = [d for d in eachindex(Λ) if Λ[d] > tol]\n",
    "    @assert ∑(Pk[ks]) ≈ 1 && ∑(Λ[ds]) ≈ 1\n",
    "    p = fill(1.0, -N:N); p ./= sum(p)\n",
    "    for iter=1:maxiter\n",
    "        q = ∑(d*Λ[d]*iter_var(p, d-1) for d=ds)\n",
    "        q ./= ∑(q)\n",
    "        p1 = ∑(k*Pk[k]*iter_factor(q, k-1) for k=ks)\n",
    "        p1 ./= ∑(p1)\n",
    "        err = maximum(abs, p1 - p); err < tol && (@show err iter; break)\n",
    "        p .= p .* damp .+ p1 .* (1-damp)\n",
    "    end\n",
    "    α = ∑(d*Λ[d] for d=ds) / ∑(k*Pk[k] for k=ks)\n",
    "    \n",
    "    q = ∑(d*Λ[d]*iter_var(p, d-1) for d=ds); #fia\n",
    "    O = ∑(abs(f)*q[f] for f=eachindex(q))\n",
    "    q2 = ∑((d-1)*Λ[d]*iter_var(p, d) for d=ds); #fi\n",
    "    O -= ∑(abs(f)*q2[f] for f=eachindex(q2))\n",
    "    q ./= ∑(q)\n",
    "    O -= α*∑(Pk[k]*overlap_factor(q,k) for k=ks) #fa\n",
    "    1-α, (1-O)/2, p  \n",
    "end"
   ]
  },
  {
   "cell_type": "markdown",
   "metadata": {},
   "source": [
    "Results\n",
    "---"
   ]
  },
  {
   "cell_type": "code",
   "execution_count": 8,
   "metadata": {
    "scrolled": true
   },
   "outputs": [
    {
     "name": "stdout",
     "output_type": "stream",
     "text": [
      "err = 9.974929215950112e-11\n",
      "iter = 7113\n",
      "err = 9.967487946127562e-11\n",
      "iter = 3840\n",
      "err = 9.9612318393838e-11\n",
      "iter = 2676\n",
      "err = 9.962644598182635e-11\n",
      "iter = 2072\n",
      "err = 9.982786819406897e-11\n",
      "iter = 1700\n",
      "err = 9.860740002309853e-11\n",
      "iter = 1448\n",
      "err = 9.944509105075383e-11\n",
      "iter = 1264\n",
      "err = 9.861056415871872e-11\n",
      "iter = 1125\n",
      "err = 9.932599187578717e-11\n",
      "iter = 1015\n",
      "err = 9.787481936029963e-11\n",
      "iter = 927\n",
      "err = 9.747969098583553e-11\n",
      "iter = 854\n",
      "err = 9.916362175843574e-11\n",
      "iter = 792\n",
      "err = 9.816880641722037e-11\n",
      "iter = 740\n",
      "err = 9.766842890002181e-11\n",
      "iter = 695\n",
      "err = 9.999046035602532e-11\n",
      "iter = 655\n",
      "err = 9.760903196820436e-11\n",
      "iter = 621\n",
      "err = 9.86984383111178e-11\n",
      "iter = 590\n",
      "err = 9.67635971349523e-11\n",
      "iter = 563\n",
      "err = 9.808875933714489e-11\n",
      "iter = 538\n",
      "err = 9.651085486339639e-11\n",
      "iter = 516\n",
      "err = 9.987577431758154e-11\n",
      "iter = 495\n",
      "err = 9.705325432207701e-11\n",
      "iter = 477\n",
      "err = 9.683831514450958e-11\n",
      "iter = 460\n",
      "err = 9.847078707991841e-11\n",
      "iter = 444\n",
      "err = 9.546730073139997e-11\n",
      "iter = 430\n",
      "err = 9.839790093835177e-11\n",
      "iter = 416\n",
      "err = 9.488332342044714e-11\n",
      "iter = 404\n",
      "err = 9.625750196917693e-11\n",
      "iter = 392\n",
      "err = 9.591516469953376e-11\n",
      "iter = 381\n",
      "err = 9.989803428922528e-11\n",
      "iter = 370\n",
      "err = 9.40652555847521e-11\n",
      "iter = 361\n",
      "err = 9.85350689930442e-11\n",
      "iter = 351\n",
      "err = 9.900952280261777e-11\n",
      "iter = 342\n",
      "err = 9.617556750995959e-11\n",
      "iter = 335\n",
      "err = 9.332179473631186e-11\n",
      "iter = 329\n",
      "err = 9.319350846581642e-11\n",
      "iter = 323\n",
      "err = 9.564110614590504e-11\n",
      "iter = 317\n",
      "err = 9.270317846699072e-11\n",
      "iter = 312\n",
      "err = 9.99660909606348e-11\n",
      "iter = 306\n",
      "err = 9.301681647144733e-11\n",
      "iter = 302\n",
      "err = 9.60878598910142e-11\n",
      "iter = 297\n",
      "err = 9.266953870934458e-11\n",
      "iter = 293\n",
      "err = 9.927048072455591e-11\n",
      "iter = 288\n",
      "err = 9.886957919036377e-11\n",
      "iter = 284\n",
      "err = 9.987610738448893e-11\n",
      "iter = 280\n",
      "err = 9.321909910653403e-11\n",
      "iter = 277\n",
      "err = 9.650791277238113e-11\n",
      "iter = 273\n",
      "err = 9.194223160591264e-11\n",
      "iter = 270\n",
      "err = 9.716649707058878e-11\n",
      "iter = 266\n",
      "err = 9.40917344038894e-11\n",
      "iter = 263\n",
      "err = 9.702272318889982e-11\n",
      "iter = 260\n",
      "err = 9.162948177987573e-11\n",
      "iter = 258\n",
      "err = 9.624778751771146e-11\n",
      "iter = 255\n",
      "err = 9.23356946458398e-11\n",
      "iter = 253\n",
      "err = 9.850675830591626e-11\n",
      "iter = 250\n",
      "err = 9.57278700752795e-11\n",
      "iter = 248\n",
      "err = 9.350153984399867e-11\n",
      "iter = 246\n",
      "err = 9.172929082978953e-11\n",
      "iter = 244\n",
      "err = 9.031964065542297e-11\n",
      "iter = 242\n",
      "err = 9.884615348454417e-11\n",
      "iter = 239\n",
      "err = 9.433054337648628e-11\n",
      "iter = 238\n",
      "err = 9.062972594620078e-11\n",
      "iter = 237\n",
      "err = 9.721556892827721e-11\n",
      "iter = 235\n",
      "err = 9.460410232975391e-11\n",
      "iter = 234\n",
      "err = 9.260214817174983e-11\n",
      "iter = 233\n",
      "err = 9.115119770086721e-11\n",
      "iter = 232\n",
      "err = 9.108891418918574e-11\n",
      "iter = 231\n",
      "err = 9.332734585143498e-11\n",
      "iter = 230\n",
      "err = 9.613487783610708e-11\n",
      "iter = 229\n",
      "err = 9.952072499430642e-11\n",
      "iter = 228\n",
      "err = 9.31655863567471e-11\n",
      "iter = 228\n",
      "err = 9.766998321225628e-11\n",
      "iter = 227\n",
      "err = 9.277023593767808e-11\n",
      "iter = 227\n",
      "err = 9.824374647138256e-11\n",
      "iter = 226\n",
      "err = 9.393275046676308e-11\n",
      "iter = 226\n",
      "err = 9.004541556834056e-11\n",
      "iter = 226\n",
      "err = 9.618039698011671e-11\n",
      "iter = 225\n",
      "err = 9.266132305896235e-11\n",
      "iter = 225\n",
      "err = 9.93107818203498e-11\n",
      "iter = 224\n",
      "err = 9.60264090466012e-11\n",
      "iter = 224\n",
      "err = 9.290535007977496e-11\n",
      "iter = 224\n",
      "err = 9.006884127416015e-11\n",
      "iter = 224\n",
      "err = 9.711786930211019e-11\n",
      "iter = 223\n",
      "err = 9.436762482550876e-11\n",
      "iter = 223\n",
      "err = 9.181444493577828e-11\n",
      "iter = 223\n",
      "err = 9.93661819492786e-11\n",
      "iter = 222\n",
      "err = 9.688927438133987e-11\n",
      "iter = 222\n",
      "err = 9.457579164262597e-11\n",
      "iter = 222\n",
      "err = 9.241285514605124e-11\n",
      "iter = 222\n",
      "err = 9.038703119301772e-11\n",
      "iter = 222\n",
      "err = 9.8319463681662e-11\n",
      "iter = 221\n",
      "err = 9.634337772013168e-11\n",
      "iter = 221\n",
      "err = 9.448608562223626e-11\n",
      "iter = 221\n",
      "err = 9.274536694192648e-11\n",
      "iter = 221\n",
      "err = 9.111011944895608e-11\n",
      "iter = 221\n",
      "err = 9.953571300513886e-11\n",
      "iter = 220\n",
      "err = 9.794220989789437e-11\n",
      "iter = 220\n",
      "err = 9.627398878109261e-11\n",
      "iter = 220\n",
      "err = 9.441170067958637e-11\n",
      "iter = 220\n"
     ]
    },
    {
     "data": {
      "text/plain": [
       "([0.01, 0.02, 0.03, 0.04, 0.05, 0.06, 0.07, 0.08, 0.09, 0.1  …  0.9, 0.91, 0.92, 0.93, 0.94, 0.95, 0.96, 0.97, 0.98, 0.99], [0.4546486855345735, 0.43565050422455154, 0.42092765051587455, 0.40839439222227814, 0.3972457420212988, 0.38707024431952286, 0.37762426517879744, 0.36874955806589155, 0.3603365352601034, 0.35230563856737  …  0.015666129177324073, 0.013449978144601527, 0.011320125859056951, 0.009302254807463883, 0.007397829094399677, 0.005626430242309077, 0.004010648891503155, 0.001470735838513204, 0.0008131727806713895, 0.0002850227245096981])"
      ]
     },
     "execution_count": 8,
     "metadata": {},
     "output_type": "execute_result"
    }
   ],
   "source": [
    "using Unzip\n",
    "\n",
    "#k=mix of degrees l,l+1, d=2\n",
    "Rm,Dm=map(0.01:0.01:0.99) do r\n",
    "    α=1-r\n",
    "    k=floor(Int, 2/α)\n",
    "    s=k+1-2/α\n",
    "    K=[fill(0,k-1); s; 1-s]\n",
    "    K .*= K .> 1e-10\n",
    "    K ./ sum(K)\n",
    "    r1,d,p = RS(K, [0,1]; N=100, tol=1e-10, maxiter=10000)\n",
    "    @assert r ≈ r1\n",
    "    r,d\n",
    "end |>unzip "
   ]
  },
  {
   "cell_type": "code",
   "execution_count": 9,
   "metadata": {
    "scrolled": true
   },
   "outputs": [
    {
     "name": "stdout",
     "output_type": "stream",
     "text": [
      "err = 9.799649980379854e-11\n",
      "iter = 321\n",
      "err = 9.832717973168315e-11\n",
      "iter = 316\n",
      "err = 9.343753548662903e-11\n",
      "iter = 312\n",
      "err = 9.789741239885075e-11\n",
      "iter = 307\n",
      "err = 9.628009500772805e-11\n",
      "iter = 303\n",
      "err = 9.594142147406615e-11\n",
      "iter = 299\n",
      "err = 9.671508038877619e-11\n",
      "iter = 295\n",
      "err = 9.851192084298077e-11\n",
      "iter = 291\n",
      "err = 9.318612548270266e-11\n",
      "iter = 288\n",
      "err = 9.658385202726549e-11\n",
      "iter = 284\n",
      "err = 9.269279788171048e-11\n",
      "iter = 281\n",
      "err = 9.754175245291208e-11\n",
      "iter = 277\n",
      "err = 9.480610740908446e-11\n",
      "iter = 274\n",
      "err = 9.265027633986733e-11\n",
      "iter = 271\n",
      "err = 9.945688717039047e-11\n",
      "iter = 267\n",
      "err = 9.828432512293261e-11\n",
      "iter = 264\n",
      "err = 9.759976160594874e-11\n",
      "iter = 261\n",
      "err = 9.738010398052666e-11\n",
      "iter = 258\n",
      "err = 9.760842134554082e-11\n",
      "iter = 255\n",
      "err = 9.827472169376961e-11\n",
      "iter = 252\n",
      "err = 9.93732873766362e-11\n",
      "iter = 249\n",
      "err = 9.17650955223337e-11\n",
      "iter = 247\n",
      "err = 9.346484697303481e-11\n",
      "iter = 244\n",
      "err = 9.555589652876506e-11\n",
      "iter = 241\n",
      "err = 9.80465153510579e-11\n",
      "iter = 238\n",
      "err = 9.149603297231579e-11\n",
      "iter = 236\n",
      "err = 9.447553850350232e-11\n",
      "iter = 233\n",
      "err = 9.797321287585703e-11\n",
      "iter = 230\n",
      "err = 9.238804166145087e-11\n",
      "iter = 228\n",
      "err = 9.7200636428596e-11\n",
      "iter = 225\n",
      "err = 9.363093633751873e-11\n",
      "iter = 223\n",
      "err = 9.147800572595344e-11\n",
      "iter = 221\n",
      "err = 9.573687675956677e-11\n",
      "iter = 218\n",
      "err = 9.841676779087649e-11\n",
      "iter = 209\n"
     ]
    },
    {
     "data": {
      "text/plain": [
       "([0.3333333333333333, 0.3433333333333333, 0.35333333333333333, 0.36333333333333334, 0.37333333333333335, 0.38333333333333336, 0.3933333333333333, 0.4033333333333333, 0.41333333333333333, 0.42333333333333334  …  0.5733333333333334, 0.5833333333333334, 0.5933333333333334, 0.6033333333333334, 0.6133333333333333, 0.6233333333333333, 0.6333333333333333, 0.6433333333333333, 0.6533333333333333, 0.6633333333333333], [0.20962056095628745, 0.20735484854520947, 0.20510675972527204, 0.2028774314000234, 0.2006681095706887, 0.1984801629443529, 0.1963150986467942, 0.1941745804314955, 0.19206044986217263, 0.18997475105376183  …  0.1646778261813926, 0.16371804813895963, 0.16292944871509907, 0.1623407396438657, 0.16198761138123774, 0.1619150106824913, 0.16218037482422176, 0.16285832422512597, 0.1640476353615466, 0.16588187704481594])"
      ]
     },
     "execution_count": 9,
     "metadata": {},
     "output_type": "execute_result"
    }
   ],
   "source": [
    "#k=3 , d=mix of degrees 1,2\n",
    "R12,D12=map(1/3:0.01:2/3) do r\n",
    "    #2-t=t+2(1-t)=3(1-r) \n",
    "    t=3r-1\n",
    "    r1,d,p = RS([0,0,1], [t,1-t]; N=20, tol=1e-10, maxiter=10000)\n",
    "    @assert r ≈ r1\n",
    "    r,d\n",
    "end |> unzip"
   ]
  },
  {
   "cell_type": "code",
   "execution_count": 10,
   "metadata": {
    "scrolled": true
   },
   "outputs": [
    {
     "name": "stdout",
     "output_type": "stream",
     "text": [
      "err = 9.784095755804856e-11\n",
      "iter = 733\n",
      "err = 9.733180927895546e-11\n",
      "iter = 710\n",
      "err = 9.758499563972123e-11\n",
      "iter = 688\n",
      "err = 9.833306391371366e-11\n",
      "iter = 667\n",
      "err = 9.930467559371436e-11\n",
      "iter = 647\n",
      "err = 9.635625630721734e-11\n",
      "iter = 629\n",
      "err = 9.676559553639663e-11\n",
      "iter = 611\n",
      "err = 9.652528776271652e-11\n",
      "iter = 594\n",
      "err = 9.951983681588672e-11\n",
      "iter = 577\n",
      "err = 9.715572790724991e-11\n",
      "iter = 562\n",
      "err = 9.765249719961844e-11\n",
      "iter = 547\n",
      "err = 9.65035829025851e-11\n",
      "iter = 533\n",
      "err = 9.803213796288901e-11\n",
      "iter = 519\n",
      "err = 9.751133234203735e-11\n",
      "iter = 506\n",
      "err = 9.953599056089502e-11\n",
      "iter = 493\n",
      "err = 9.906681031068842e-11\n",
      "iter = 481\n",
      "err = 9.580863880032098e-11\n",
      "iter = 470\n",
      "err = 9.997969119268646e-11\n",
      "iter = 458\n",
      "err = 9.573530856954449e-11\n",
      "iter = 448\n",
      "err = 9.898665220831049e-11\n",
      "iter = 437\n",
      "err = 9.882078488843149e-11\n",
      "iter = 427\n",
      "err = 9.49084699719549e-11\n",
      "iter = 418\n",
      "err = 9.865647188078697e-11\n",
      "iter = 408\n",
      "err = 9.845785298168153e-11\n",
      "iter = 399\n",
      "err = 9.398082312372935e-11\n",
      "iter = 391\n",
      "err = 9.731893069186981e-11\n",
      "iter = 382\n",
      "err = 9.61798418686044e-11\n",
      "iter = 374\n",
      "err = 9.669548495239155e-11\n",
      "iter = 366\n",
      "err = 9.892109353870637e-11\n",
      "iter = 358\n",
      "err = 9.598422057166545e-11\n",
      "iter = 351\n",
      "err = 9.45481470893128e-11\n",
      "iter = 344\n",
      "err = 9.456896377102453e-11\n",
      "iter = 337\n",
      "err = 9.607015183377143e-11\n",
      "iter = 330\n",
      "err = 9.914369325514372e-11\n",
      "iter = 323\n"
     ]
    },
    {
     "data": {
      "text/plain": [
       "([0.0, 0.01, 0.02, 0.03, 0.04, 0.05, 0.06, 0.07, 0.08, 0.09  …  0.24, 0.25, 0.26, 0.27, 0.28, 0.29, 0.3, 0.31, 0.32, 0.33], [0.30232474374018364, 0.2991896073555006, 0.2960844176238688, 0.29300798428777985, 0.28995920351242044, 0.28693704969851397, 0.28394056823796304, 0.2809688690843176, 0.2780211210295341, 0.2750965465948728  …  0.2336015808927387, 0.23097235112463632, 0.228358170625707, 0.22575874199075585, 0.22317377881874867, 0.22060300461230437, 0.21804615169011765, 0.2155029600998133, 0.21297317651789582, 0.21045655312219785])"
      ]
     },
     "execution_count": 10,
     "metadata": {},
     "output_type": "execute_result"
    }
   ],
   "source": [
    "#k=3, d = mix of degrees 2,3\n",
    "R23,D23=map(0.0:0.01:1/3) do r\n",
    "    # 3-t=2t+3(1-t)=<d> = 3(1-r) -> t=3r\n",
    "    t=3r\n",
    "    r1,d,p = RS([0,0,1], [0,t,1-t]; N=20, tol=1e-10, maxiter=10000)\n",
    "    @assert r ≈ r1\n",
    "    r,d\n",
    "end |>unzip "
   ]
  },
  {
   "cell_type": "code",
   "execution_count": 11,
   "metadata": {},
   "outputs": [
    {
     "name": "stdout",
     "output_type": "stream",
     "text": [
      "err = 9.824513425016335e-11\n",
      "iter = 424\n"
     ]
    },
    {
     "data": {
      "text/plain": [
       "(0.18588652886439316, 0.24810421473670274, [6.539193810448665e-18, 6.34662677964226e-15, 3.2910939322005455e-12, 8.935540334190384e-10, 1.227338738008608e-7, 8.3506763004038e-6, 0.00029590923164253514, 0.005899824359813897, 0.057565748390582636, 0.23605422057332928  …  0.23605422057332928, 0.057565748390582636, 0.005899824359813897, 0.00029590923164253514, 8.3506763004038e-6, 1.227338738008608e-7, 8.935540334190384e-10, 3.2910939322005455e-12, 6.34662677964226e-15, 6.539193810448665e-18])"
      ]
     },
     "execution_count": 11,
     "metadata": {},
     "output_type": "execute_result"
    }
   ],
   "source": [
    "#RS instability?\n",
    "a=0.54334\n",
    "Λ=[0,(1-a)/2,a/3]\n",
    "Λ ./= sum(Λ)\n",
    "rd,dd,p=RS([0,0,1],Λ; N=10, tol=1e-10, maxiter=10000)"
   ]
  },
  {
   "cell_type": "code",
   "execution_count": 24,
   "metadata": {},
   "outputs": [
    {
     "data": {
      "image/png": "[encoded data removed]",
      "text/plain": [
       "Figure(PyObject <Figure size 600x500 with 1 Axes>)"
      ]
     },
     "metadata": {},
     "output_type": "display_data"
    },
    {
     "data": {
      "text/plain": [
       "PyObject <matplotlib.legend.Legend object at 0x7f10d99ab970>"
      ]
     },
     "execution_count": 24,
     "metadata": {},
     "output_type": "execute_result"
    }
   ],
   "source": [
    "using PyPlot\n",
    "H(p)=1+p*log2(p)+(1-p)*log2(1-p)\n",
    "fig, ax = subplots(figsize=(6,5))\n",
    "xlabel(\"Rate\")\n",
    "ylabel(\"Distortion\")\n",
    "plot(Rm,Dm, \"--\", label=\"RS d ~ δ₂, k ~ rδₗ+(1-r)δₗ₊₁\", c=:gray)\n",
    "plot((0,1),(0.5,0), label=\"trival\")\n",
    "plot((0.5, 0.174603333333333332)..., \"o\", label=\"MS d ~ ½(δ₁+δ₂), k ~ δ₃\") \n",
    "plot(R23,D23, \"-\", label=\"RS d ~ rδ₂+(1-r)δ₃, k ~ δ₃\") \n",
    "plot(R12,D12, \"-\", label=\"RS d ~ rδ₁+(1-r)δ₂, k ~ δ₃\")\n",
    "plot(H.(0:0.001:0.5), 0:0.001:0.5, label=\"information bound\")\n",
    "plot(0.267,0.23, \"*\", label=\"SP\")\n",
    "plot(rd,dd, \"+\", label=\"instability\")\n",
    "legend()"
   ]
  },
  {
   "cell_type": "code",
   "execution_count": null,
   "metadata": {},
   "outputs": [],
   "source": []
  }
 ],
 "metadata": {
  "kernelspec": {
   "display_name": "Julia 1.6.0-beta1",
   "language": "julia",
   "name": "julia-1.6"
  },
  "language_info": {
   "file_extension": ".jl",
   "mimetype": "application/julia",
   "name": "julia",
   "version": "1.6.0"
  },
  "output_auto_scroll": false
 },
 "nbformat": 4,
 "nbformat_minor": 4
}
