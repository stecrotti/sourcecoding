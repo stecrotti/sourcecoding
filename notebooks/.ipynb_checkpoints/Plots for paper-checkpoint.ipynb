{
 "cells": [
  {
   "cell_type": "markdown",
   "metadata": {},
   "source": [
    "## 1. RS, MaxSum, Exact algo"
   ]
  },
  {
   "cell_type": "markdown",
   "metadata": {},
   "source": [
    "### RS"
   ]
  },
  {
   "cell_type": "code",
   "execution_count": 136,
   "metadata": {},
   "outputs": [],
   "source": [
    "R_rs = 0.01:0.01:0.99\n",
    "D_rs = [0.4546474073128681,0.43565049932361133,0.42092765046912317,0.40839439222208573,0.3972457420215144,0.3870702443196218,0.3776242651788484,0.36874955806591975,0.3603365352601175,0.3523056385673838,0.34459697668198624,0.33716414626734653,0.3299703418625086,0.3229857971761951,0.31618604029437997,0.30955066735206993,0.30306245811343413,0.2967067238049428,0.2904708168067388,0.2843437556958753,0.2783159341345032,0.27237889177802405,0.26652513178257226,0.2607479738209666,0.2550414345013817,0.24940012917780852,0.2438191906350483,0.2382942012118009,0.2328211357178961,0.22739631308980668,0.22201635516998064,0.21667815133009227,0.211378827914124,0.20688352899753953,0.20278317659003975,0.19868817793711935,0.1945975994415784,0.19051056552023182,0.18642625421128822,0.18234389327612,0.17826275673045133,0.17418216174918932,0.17010146589683228,0.16602006464188257,0.16193738911916555,0.15785290410864755,0.1537661062033548,0.14967652214243293,0.1455837072883871,0.14148724423013948,0.137998366107847,0.13448740638286893,0.13095421069018287,0.12739865696194796,0.12382065470933767,0.12022014422138577,0.11659709568295457,0.1129515082152911,0.10928340884389087,0.10559285139949881,0.10231362606715677,0.0989986151678956,0.09564794614910743,0.0922617930523803,0.0888403753926773,0.08538395674018595,0.0820151560863665,0.0788488704133426,0.07563678673548502,0.07237911796887381,0.06907615625262697,0.06591319349557895,0.06283584277258297,0.05970319879491964,0.056515457092013055,0.053562785457060835,0.05054512262289507,0.04752198628196386,0.04463641809759822,0.04167585667427448,0.0388827836051418,0.03604608454052277,0.033304960430999175,0.03060809220840449,0.027952952887639493,0.025359146185103376,0.022832861932172044,0.020370784947590925,0.017979055383501308,0.015666129177374533,0.013449978144655372,0.0113201258591068,0.009302254807509736,0.007397829094439923,0.0056264302423451595,0.004010648891537405,0.002577264143732827,0.0013672330158682189,0.0004509986577261871];"
   ]
  },
  {
   "cell_type": "code",
   "execution_count": 137,
   "metadata": {},
   "outputs": [],
   "source": [
    "Rs = 0.15:0.05:0.7\n",
    "Λ = [0, 1]\n",
    "Ks = [zeros(0) for _ in Rs]\n",
    "for (i,R) in enumerate(Rs)\n",
    "    α = 1-R\n",
    "    k = floor(Int, 2/α)\n",
    "    s = k+1-2/α\n",
    "    K = [fill(0,k-1); s; 1-s]\n",
    "    Ks[i] = K ./ sum(K)\n",
    "end"
   ]
  },
  {
   "cell_type": "markdown",
   "metadata": {},
   "source": [
    "### Exact algo"
   ]
  },
  {
   "cell_type": "code",
   "execution_count": 138,
   "metadata": {},
   "outputs": [
    {
     "data": {
      "text/plain": [
       "f (generic function with 2 methods)"
      ]
     },
     "execution_count": 138,
     "metadata": {},
     "output_type": "execute_result"
    }
   ],
   "source": [
    "function f(n, Rs, navg_exact, Ks, Λ, D_exact, verbose=true)\n",
    "    for i in eachindex(Rs)\n",
    "        m = round(Int,n*(1-Rs[i])); nedges = 2n\n",
    "        Threads.@threads for j in 1:navg_exact\n",
    "            H = permutedims(ldpc_matrix(n, m, nedges, Λ, Ks[i]))\n",
    "            s = rand((-1,1),n)\n",
    "            ovl, _, _ = findsol(H, s, verbose=false)\n",
    "            D_exact[i][j] = (1-ovl)/2\n",
    "        end\n",
    "        verbose && println(\"Rate $(Rs[i]) done\")\n",
    "        flush(stdout)\n",
    "    end\n",
    "    mean.(D_exact)\n",
    "end    "
   ]
  },
  {
   "cell_type": "code",
   "execution_count": 139,
   "metadata": {},
   "outputs": [
    {
     "name": "stdout",
     "output_type": "stream",
     "text": [
      "Rate 0.15 done\n",
      "Rate 0.2 done\n",
      "Rate 0.25 done\n",
      "Rate 0.3 done\n",
      "Rate 0.35 done\n",
      "Rate 0.4 done\n",
      "Rate 0.45 done\n",
      "Rate 0.5 done\n",
      "Rate 0.55 done\n",
      "Rate 0.6 done\n",
      "Rate 0.65 done\n",
      "Rate 0.7 done\n"
     ]
    }
   ],
   "source": [
    "n = 1200\n",
    "navg_exact = 500\n",
    "D_exact = [zeros(navg_exact) for _ in Rs]\n",
    "D_exact_avg = f(n, Rs, navg_exact, Ks, Λ, D_exact);"
   ]
  },
  {
   "cell_type": "markdown",
   "metadata": {},
   "source": [
    "### MaxSum"
   ]
  },
  {
   "cell_type": "code",
   "execution_count": 441,
   "metadata": {},
   "outputs": [
    {
     "data": {
      "text/plain": [
       "ff (generic function with 1 method)"
      ]
     },
     "execution_count": 441,
     "metadata": {},
     "output_type": "execute_result"
    }
   ],
   "source": [
    "function ff(n, Rs, navg, Ks, Λ, D_ms, D_exact; verbose=true, maxiter=10^2, kw...)\n",
    "    efield = [(.0,.0) for _ in 1:n]\n",
    "    for i in eachindex(Rs)\n",
    "        m = round(Int,n*(1-Rs[i])); nedges = 2n\n",
    "        vars = rand(1:n, n*2÷3); factors=rand(1:m, m*2÷3)\n",
    "        Threads.@threads for j in 1:navg\n",
    "            H = permutedims(ldpc_matrix(n, m, nedges, Λ, Ks[i]; accept_multi_edges=false))\n",
    "            s = rand((-1.,1.),n)\n",
    "            efield .= [(si,-si).+ 1e-5.*(randn(),randn()) for si in s]\n",
    "            ms = BPFull(H, efield)\n",
    "            ε, iters = iteration_ms!(ms, maxiter=maxiter, damp=0.0, tol=1e-12, rein=1e-3;\n",
    "                vars=vars, factors=factors, kw...)\n",
    "            @show nunsat, ovl, dist = performance(ms, s)\n",
    "            if nunsat!=0\n",
    "                B,indep = findbasis(H[1:end-1,:])\n",
    "                x = argmax.(ms.belief) .== 2\n",
    "                σ = fix_indep!(x, B, indep)   \n",
    "                parity(ms.H,x)==0\n",
    "                D_ms[i][j] = distortion(σ,s)\n",
    "                @show D_ms[i][j], dist\n",
    "            else\n",
    "                D_ms[i][j] = dist\n",
    "                verbose && println(\"R=\", Rs[i], \". avg $j of $navg. Converged\")\n",
    "            end\n",
    "                ovl, _, _ = findsol(H, s, verbose=false)\n",
    "                D_exact[i][j] = (1-ovl)/2\n",
    "                flush(stdout)\n",
    "        end\n",
    "        println(\"Rate $(Rs[i]) done\")\n",
    "        flush(stdout)\n",
    "    end\n",
    "    mean.(D_ms), mean.(D_exact)\n",
    "end"
   ]
  },
  {
   "cell_type": "code",
   "execution_count": 467,
   "metadata": {},
   "outputs": [
    {
     "data": {
      "text/plain": [
       "(Int32[152, 254, 221, 45, 46, 250, 176, 51, 74, 227  …  192, 168, 195, 101, 174, 127, 153, 22, 87, 245], Int32[98, 117, 211, 258, 295, 109, 278, 17, 51, 40  …  168, 54, 137, 95, 122, 124, 42, 205, 119, 251], Int32[160, 116, 163, 297, 219, 92, 157, 172, 47, 246  …  7, 222, 289, 299, 243, 150, 58, 192, 193, 53])"
      ]
     },
     "execution_count": 467,
     "metadata": {},
     "output_type": "execute_result"
    }
   ],
   "source": [
    "i = 1\n",
    "n = 300\n",
    "m = round(Int,n*(1-Rs[i])); nedges = 2n\n",
    "H = permutedims(ldpc_matrix(n, m, nedges, Λ, Ks[i]; accept_multi_edges=false))\n",
    "rowperm, dep, indep = leaf_removal(H[1:end-1,:])"
   ]
  },
  {
   "cell_type": "code",
   "execution_count": 462,
   "metadata": {},
   "outputs": [
    {
     "data": {
      "text/plain": [
       "(Dict(2 => 0.6463654223968566, 3 => 0.35363457760314343), Dict(2 => 0.9966666666666667, 1 => 0.0033333333333333335))"
      ]
     },
     "execution_count": 462,
     "metadata": {},
     "output_type": "execute_result"
    }
   ],
   "source": [
    "using StatsBase\n",
    "A = H[1:end-1,:]\n",
    "rows = vec(sum(A, dims=2))\n",
    "cols = vec(sum(A, dims=1))\n",
    "proportionmap(rows), proportionmap(cols)"
   ]
  },
  {
   "cell_type": "code",
   "execution_count": 473,
   "metadata": {},
   "outputs": [
    {
     "data": {
      "text/plain": [
       "false"
      ]
     },
     "execution_count": 473,
     "metadata": {},
     "output_type": "execute_result"
    }
   ],
   "source": [
    "using LightGraphs\n",
    "gr = SimpleGraph(full_adjmat(A))\n",
    "is_connected(gr)"
   ]
  },
  {
   "cell_type": "code",
   "execution_count": 463,
   "metadata": {},
   "outputs": [
    {
     "data": {
      "text/plain": [
       "((509, 600), (510, 600))"
      ]
     },
     "execution_count": 463,
     "metadata": {},
     "output_type": "execute_result"
    }
   ],
   "source": [
    "size(A), size(H)"
   ]
  },
  {
   "cell_type": "code",
   "execution_count": 470,
   "metadata": {},
   "outputs": [
    {
     "data": {
      "text/plain": [
       "cb_decimation (generic function with 2 methods)"
      ]
     },
     "execution_count": 470,
     "metadata": {},
     "output_type": "execute_result"
    }
   ],
   "source": [
    "include(\"../code/bp_full.jl\")\n",
    "include(\"../code/optimal_cycle.jl\")\n",
    "include(\"../code/rs.jl\")\n",
    "include(\"../code/bp.jl\")"
   ]
  },
  {
   "cell_type": "code",
   "execution_count": null,
   "metadata": {},
   "outputs": [
    {
     "name": "stdout",
     "output_type": "stream",
     "text": [
      "(nunsat, ovl, dist) = performance(ms, s) = (0, 0.365, 0.3175)\n",
      "(nunsat, ovl, dist) = performance(ms, s) = (0, 0.3616666666666667, 0.31916666666666665)\n",
      "(nunsat, ovl, dist) = performance(ms, s) = (2, -0.0016666666666667052, 0.5008333333333334)\n",
      "(nunsat, ovl, dist) = performance(ms, s) = (4, 0.008333333333333304, 0.49583333333333335)\n",
      "((D_ms[i])[j], dist) = (0.49833333333333335, 0.5008333333333334)\n",
      "(nunsat, ovl, dist) = performance(ms, s) = (2, 0.38, 0.31)\n",
      "((D_ms[i])[j], dist) = (0.495, 0.49583333333333335)\n",
      "((D_ms[i])[j], dist) = (0.31583333333333335, 0.31)\n",
      "(nunsat, ovl, dist) = performance(ms, s) = (2, 0.3766666666666667, 0.31166666666666665)\n",
      "((D_ms[i])[j], dist) = (0.31416666666666665, 0.31166666666666665)\n",
      "(nunsat, ovl, dist) = performance(ms, s) = (2, 0.018333333333333313, 0.49083333333333334)\n",
      "(nunsat, ovl, dist) = performance(ms, s) = (0, 0.20999999999999996, 0.395)\n",
      "((D_ms[i])[j], dist) = (0.4891666666666667, 0.49083333333333334)\n",
      "(nunsat, ovl, dist) = performance(ms, s) = (2, 0.39, 0.305)\n",
      "((D_ms[i])[j], dist) = (0.30916666666666665, 0.305)\n",
      "(nunsat, ovl, dist) = performance(ms, s) = (4, 0.375, 0.3125)\n",
      "((D_ms[i])[j], dist) = (0.335, 0.3125)\n",
      "Rate 0.15 done\n",
      "(nunsat, ovl, dist) = performance(ms, s) = (2, 0.4066666666666666, 0.2966666666666667)\n",
      "((D_ms[i])[j], dist) = (0.305, 0.2966666666666667)\n",
      "(nunsat, ovl, dist) = performance(ms, s) = (4, -0.020000000000000018, 0.51)\n",
      "((D_ms[i])[j], dist) = (0.5058333333333334, 0.51)\n",
      "(nunsat, ovl, dist) = performance(ms, s) = (2, 0.41000000000000003, 0.295)\n",
      "(nunsat, ovl, dist) = performance(ms, s) = (2, -0.008333333333333304, 0.5041666666666667)\n",
      "((D_ms[i])[j], dist) = (0.30416666666666664, 0.295)\n",
      "((D_ms[i])[j], dist) = (0.51, 0.5041666666666667)\n",
      "(nunsat, ovl, dist) = performance(ms, s) = (0, -0.02833333333333332, 0.5141666666666667)\n",
      "(nunsat, ovl, dist) = performance(ms, s) = (0, 0.05166666666666664, 0.4741666666666667)\n",
      "(nunsat, ovl, dist) = performance(ms, s) = (0, 0.011666666666666714, 0.49416666666666664)\n",
      "(nunsat, ovl, dist) = performance(ms, s) = (2, 0.45499999999999996, 0.2725)\n",
      "((D_ms[i])[j], dist) = (0.2833333333333333, 0.2725)\n",
      "(nunsat, ovl, dist) = performance(ms, s) = (4, 0.43666666666666665, 0.2816666666666667)\n",
      "((D_ms[i])[j], dist) = (0.2925, 0.2816666666666667)\n",
      "(nunsat, ovl, dist) = performance(ms, s) = (4, 0.41833333333333333, 0.29083333333333333)\n",
      "((D_ms[i])[j], dist) = (0.30583333333333335, 0.29083333333333333)\n",
      "Rate 0.2 done\n",
      "(nunsat, ovl, dist) = performance(ms, s) = (4, -0.01333333333333342, 0.5066666666666667)\n",
      "((D_ms[i])[j], dist) = (0.5066666666666667, 0.5066666666666667)\n",
      "(nunsat, ovl, dist) = performance(ms, s) = (2, 0.011666666666666714, 0.49416666666666664)\n",
      "((D_ms[i])[j], dist) = (0.49333333333333335, 0.49416666666666664)\n",
      "(nunsat, ovl, dist) = performance(ms, s) = (6, -0.016666666666666607, 0.5083333333333333)\n",
      "((D_ms[i])[j], dist) = (0.5091666666666667, 0.5083333333333333)\n",
      "(nunsat, ovl, dist) = performance(ms, s) = (4, -0.02833333333333332, 0.5141666666666667)\n",
      "((D_ms[i])[j], dist) = (0.5158333333333334, 0.5141666666666667)\n",
      "(nunsat, ovl, dist) = performance(ms, s) = (4, -0.010000000000000009, 0.505)\n",
      "((D_ms[i])[j], dist) = (0.49916666666666665, 0.505)\n",
      "(nunsat, ovl, dist) = performance(ms, s) = (4, 0.0, 0.5)\n",
      "(nunsat, ovl, dist) = performance(ms, s) = (6, -0.030000000000000027, 0.515)\n",
      "(nunsat, ovl, dist) = performance(ms, s) = (6, 0.48, 0.26)\n",
      "((D_ms[i])[j], dist) = (0.5016666666666667, 0.5)\n",
      "((D_ms[i])[j], dist) = (0.5116666666666667, 0.515)\n",
      "((D_ms[i])[j], dist) = (0.2891666666666667, 0.26)\n",
      "(nunsat, ovl, dist) = performance(ms, s) = (2, 0.505, 0.2475)\n",
      "((D_ms[i])[j], dist) = (0.25666666666666665, 0.2475)\n",
      "(nunsat, ovl, dist) = performance(ms, s) = (0, 0.5066666666666666, 0.24666666666666667)\n",
      "Rate 0.25 done\n",
      "(nunsat, ovl, dist) = performance(ms, s) = (0, -0.020000000000000018, 0.51)\n",
      "(nunsat, ovl, dist) = performance(ms, s) = (2, 0.54, 0.23)\n",
      "((D_ms[i])[j], dist) = (0.23916666666666667, 0.23)\n",
      "(nunsat, ovl, dist) = performance(ms, s) = (0, 0.021666666666666612, 0.4891666666666667)\n",
      "(nunsat, ovl, dist) = performance(ms, s) = (4, 0.04166666666666663, 0.4791666666666667)\n",
      "((D_ms[i])[j], dist) = (0.47833333333333333, 0.4791666666666667)\n",
      "(nunsat, ovl, dist) = performance(ms, s) = (0, 0.020000000000000018, 0.49)\n",
      "(nunsat, ovl, dist) = performance(ms, s) = (2, 0.030000000000000027, 0.485)\n",
      "(nunsat, ovl, dist) = performance(ms, s) = (0, 0.5566666666666666, 0.22166666666666668)\n",
      "((D_ms[i])[j], dist) = (0.48833333333333334, 0.485)\n",
      "(nunsat, ovl, dist) = performance(ms, s) = (4, 0.040000000000000036, 0.48)\n",
      "((D_ms[i])[j], dist) = (0.48, 0.48)\n",
      "(nunsat, ovl, dist) = performance(ms, s) = (0, 0.5583333333333333, 0.22083333333333333)\n",
      "(nunsat, ovl, dist) = performance(ms, s) = (4, 0.5433333333333333, 0.22833333333333333)\n",
      "((D_ms[i])[j], dist) = (0.23833333333333334, 0.22833333333333333)\n",
      "Rate 0.3 done\n",
      "(nunsat, ovl, dist) = performance(ms, s) = (2, 0.615, 0.1925)\n",
      "((D_ms[i])[j], dist) = (0.1975, 0.1925)\n",
      "(nunsat, ovl, dist) = performance(ms, s) = (0, -0.02833333333333332, 0.5141666666666667)\n",
      "(nunsat, ovl, dist) = performance(ms, s) = (2, 0.5916666666666667, 0.20416666666666666)\n",
      "(nunsat, ovl, dist) = performance(ms, s) = (2, 0.595, 0.2025)\n",
      "((D_ms[i])[j], dist) = (0.21333333333333335, 0.20416666666666666)\n",
      "((D_ms[i])[j], dist) = (0.20333333333333334, 0.2025)\n",
      "(nunsat, ovl, dist) = performance(ms, s) = (0, -0.02833333333333332, 0.5141666666666667)\n",
      "(nunsat, ovl, dist) = performance(ms, s) = (0, 0.040000000000000036, 0.48)\n",
      "(nunsat, ovl, dist) = performance(ms, s) = (2, 0.023333333333333317, 0.48833333333333334)\n",
      "(nunsat, ovl, dist) = performance(ms, s) = (2, 0.018333333333333313, 0.49083333333333334)\n",
      "((D_ms[i])[j], dist) = (0.485, 0.48833333333333334)\n",
      "((D_ms[i])[j], dist) = (0.4925, 0.49083333333333334)\n",
      "(nunsat, ovl, dist) = performance(ms, s) = (8, 0.6083333333333334, 0.19583333333333333)\n",
      "((D_ms[i])[j], dist) = (0.21083333333333334, 0.19583333333333333)\n",
      "(nunsat, ovl, dist) = performance(ms, s) = (0, 0.5866666666666667, 0.20666666666666667)\n",
      "Rate 0.35 done\n",
      "(nunsat, ovl, dist) = performance(ms, s) = (4, 0.635, 0.1825)\n",
      "((D_ms[i])[j], dist) = (0.19666666666666666, 0.1825)\n",
      "(nunsat, ovl, dist) = performance(ms, s) = (4, 0.026666666666666616, 0.4866666666666667)\n",
      "(nunsat, ovl, dist) = performance(ms, s) = (2, 0.026666666666666616, 0.4866666666666667)\n",
      "((D_ms[i])[j], dist) = (0.4891666666666667, 0.4866666666666667)\n",
      "((D_ms[i])[j], dist) = (0.49166666666666664, 0.4866666666666667)\n",
      "(nunsat, ovl, dist) = performance(ms, s) = (2, 0.025000000000000022, 0.4875)\n",
      "((D_ms[i])[j], dist) = (0.4891666666666667, 0.4875)\n",
      "(nunsat, ovl, dist) = performance(ms, s) = (2, 0.0050000000000000044, 0.4975)\n",
      "((D_ms[i])[j], dist) = (0.5, 0.4975)\n",
      "(nunsat, ovl, dist) = performance(ms, s) = (0, 0.615, 0.1925)\n",
      "(nunsat, ovl, dist) = performance(ms, s) = (0, 0.6316666666666666, 0.18416666666666667)\n",
      "(nunsat, ovl, dist) = performance(ms, s) = (0, -0.016666666666666607, 0.5083333333333333)\n",
      "(nunsat, ovl, dist) = performance(ms, s) = (2, 0.6416666666666666, 0.17916666666666667)\n",
      "(nunsat, ovl, dist) = performance(ms, s) = (2, 0.6416666666666666, 0.17916666666666667)\n",
      "((D_ms[i])[j], dist) = (0.18416666666666667, 0.17916666666666667)\n",
      "((D_ms[i])[j], dist) = (0.18416666666666667, 0.17916666666666667)\n",
      "Rate 0.4 done\n",
      "(nunsat, ovl, dist) = performance(ms, s) = (4, 0.6666666666666667, 0.16666666666666666)\n",
      "((D_ms[i])[j], dist) = (0.175, 0.16666666666666666)\n",
      "(nunsat, ovl, dist) = performance(ms, s) = (2, 0.685, 0.1575)\n",
      "((D_ms[i])[j], dist) = (0.1625, 0.1575)\n",
      "(nunsat, ovl, dist) = performance(ms, s) = (2, 0.015000000000000013, 0.4925)\n",
      "((D_ms[i])[j], dist) = (0.49166666666666664, 0.4925)\n",
      "(nunsat, ovl, dist) = performance(ms, s) = (0, 0.015000000000000013, 0.4925)\n",
      "(nunsat, ovl, dist) = performance(ms, s) = (0, 0.025000000000000022, 0.4875)\n",
      "(nunsat, ovl, dist) = performance(ms, s) = (4, 0.03500000000000003, 0.4825)\n",
      "(nunsat, ovl, dist) = performance(ms, s) = (0, 0.6766666666666667, 0.16166666666666665)\n",
      "(nunsat, ovl, dist) = performance(ms, s) = (0, 0.06833333333333336, 0.4658333333333333)\n",
      "((D_ms[i])[j], dist) = (0.485, 0.4825)\n",
      "(nunsat, ovl, dist) = performance(ms, s) = (0, 0.6666666666666667, 0.16666666666666666)\n",
      "(nunsat, ovl, dist) = performance(ms, s) = (2, 0.6716666666666666, 0.16416666666666666)\n",
      "((D_ms[i])[j], dist) = (0.17083333333333334, 0.16416666666666666)\n"
     ]
    },
    {
     "name": "stdout",
     "output_type": "stream",
     "text": [
      "Rate 0.45 done\n",
      "(nunsat, ovl, dist) = performance(ms, s) = (2, 0.7083333333333333, 0.14583333333333334)\n",
      "((D_ms[i])[j], dist) = (0.1525, 0.14583333333333334)\n",
      "(nunsat, ovl, dist) = performance(ms, s) = (2, -0.030000000000000027, 0.515)\n",
      "((D_ms[i])[j], dist) = (0.5141666666666667, 0.515)\n",
      "(nunsat, ovl, dist) = performance(ms, s) = (2, 0.6966666666666667, 0.15166666666666667)\n",
      "(nunsat, ovl, dist) = performance(ms, s) = (2, 0.7083333333333333, 0.14583333333333334)\n",
      "((D_ms[i])[j], dist) = (0.155, 0.15166666666666667)\n",
      "((D_ms[i])[j], dist) = (0.15333333333333332, 0.14583333333333334)\n",
      "(nunsat, ovl, dist) = performance(ms, s) = (2, -0.014999999999999902, 0.5075)\n",
      "(nunsat, ovl, dist) = performance(ms, s) = (2, 0.0050000000000000044, 0.4975)\n",
      "(nunsat, ovl, dist) = performance(ms, s) = (2, -0.0016666666666667052, 0.5008333333333334)\n",
      "(nunsat, ovl, dist) = performance(ms, s) = (2, 0.04166666666666663, 0.4791666666666667)\n",
      "((D_ms[i])[j], dist) = (0.51, 0.5075)\n",
      "((D_ms[i])[j], dist) = (0.49583333333333335, 0.4975)\n",
      "((D_ms[i])[j], dist) = (0.49916666666666665, 0.5008333333333334)\n",
      "((D_ms[i])[j], dist) = (0.4791666666666667, 0.4791666666666667)\n",
      "(nunsat, ovl, dist) = performance(ms, s) = (2, 0.7166666666666667, 0.14166666666666666)\n",
      "((D_ms[i])[j], dist) = (0.15083333333333335, 0.14166666666666666)\n",
      "(nunsat, ovl, dist) = performance(ms, s) = (0, 0.7166666666666667, 0.14166666666666666)\n",
      "Rate 0.5 done\n",
      "(nunsat, ovl, dist) = performance(ms, s) = (2, 0.76, 0.12)\n",
      "((D_ms[i])[j], dist) = (0.12666666666666668, 0.12)\n",
      "(nunsat, ovl, dist) = performance(ms, s) = (2, 0.75, 0.125)\n",
      "((D_ms[i])[j], dist) = (0.13, 0.125)\n",
      "(nunsat, ovl, dist) = performance(ms, s) = (0, 0.015000000000000013, 0.4925)\n",
      "(nunsat, ovl, dist) = performance(ms, s) = (2, 0.010000000000000009, 0.495)\n",
      "((D_ms[i])[j], dist) = (0.4925, 0.495)\n",
      "(nunsat, ovl, dist) = performance(ms, s) = (4, -0.006666666666666599, 0.5033333333333333)\n",
      "(nunsat, ovl, dist) = performance(ms, s) = (2, -0.0033333333333334103, 0.5016666666666667)\n",
      "((D_ms[i])[j], dist) = (0.5025, 0.5033333333333333)\n",
      "(nunsat, ovl, dist) = performance(ms, s) = (2, 0.008333333333333304, 0.49583333333333335)\n",
      "(nunsat, ovl, dist) = performance(ms, s) = (2, 0.7633333333333333, 0.11833333333333333)\n",
      "((D_ms[i])[j], dist) = (0.5033333333333333, 0.5016666666666667)\n",
      "((D_ms[i])[j], dist) = (0.49666666666666665, 0.49583333333333335)\n",
      "((D_ms[i])[j], dist) = (0.12416666666666666, 0.11833333333333333)\n",
      "(nunsat, ovl, dist) = performance(ms, s) = (4, 0.7466666666666666, 0.12666666666666668)\n",
      "((D_ms[i])[j], dist) = (0.135, 0.12666666666666668)\n",
      "(nunsat, ovl, dist) = performance(ms, s) = (2, 0.7516666666666667, 0.12416666666666666)\n",
      "((D_ms[i])[j], dist) = (0.13166666666666665, 0.12416666666666666)\n",
      "Rate 0.55 done\n"
     ]
    }
   ],
   "source": [
    "n = 1200\n",
    "navg = 10\n",
    "D_ms = [zeros(navg) for _ in Rs]\n",
    "D_exact = [zeros(navg) for _ in Rs]\n",
    "\n",
    "D_ms_avg, D_exact_avg = ff(n, Rs, navg, Ks, Λ, D_ms, D_exact, maxiter=2*10^3, verbose=false);"
   ]
  },
  {
   "cell_type": "markdown",
   "metadata": {},
   "source": [
    "### Plot"
   ]
  },
  {
   "cell_type": "code",
   "execution_count": null,
   "metadata": {},
   "outputs": [],
   "source": [
    "pl = plot_rdb(; f30=false, f3=false)\n",
    "Plots.default(ms=3, msw=0, fontfamily=\"serif-roman\", grid=false)\n",
    "plot!(pl, R_rs[1:end-3], D_rs[1:end-3], label=\"RS\", line=:dash, c=:gray)\n",
    "scatter!(pl, Rs, D_exact_avg, label=\"Exact\", m=:circle, c=:red, ms=4.5)\n",
    "scatter!(pl, Rs, D_ms_avg, label=\"MaxSum\", c=:green, m=:diamond)\n",
    "plot!(pl, size=(400,400))"
   ]
  },
  {
   "cell_type": "code",
   "execution_count": 181,
   "metadata": {},
   "outputs": [],
   "source": [
    "savefig(\"rdb_degree2.pdf\")"
   ]
  },
  {
   "cell_type": "code",
   "execution_count": 424,
   "metadata": {},
   "outputs": [
    {
     "name": "stdout",
     "output_type": "stream",
     "text": [
      "(ε, iters) = iteration_ms!(ms, maxiter = maxiter, damp = 0.0, tol = 1.0e-12, rein = 0.001; vars = vars, factors = factors) = (0.0, 10000)\n",
      "(nunsat, ovl, dist) = performance(ms, s) = (2, 0.3533333333333334, 0.3233333333333333)\n",
      "distortion(σ, s) = 0.36666666666666664\n"
     ]
    },
    {
     "data": {
      "text/plain": [
       "0.36666666666666664"
      ]
     },
     "execution_count": 424,
     "metadata": {},
     "output_type": "execute_result"
    }
   ],
   "source": [
    "m = round(Int,n*(1-Rs[i])); nedges = 2n\n",
    "vars = rand(1:n, n*2÷3); factors=rand(1:m, m*2÷3)\n",
    "H = permutedims(ldpc_matrix(n, m, nedges, Λ, Ks[i]; accept_multi_edges=false))\n",
    "s = rand((-1.,1.),n)\n",
    "efield = [(si,-si).+ 1e-5.*(randn(),randn()) for si in s]\n",
    "ms = BPFull(H, efield)\n",
    "@show ε, iters = iteration_ms!(ms, maxiter=maxiter, damp=0.0, tol=1e-12, rein=1e-3;\n",
    "    vars=vars, factors=factors)\n",
    "@show nunsat, ovl, dist = performance(ms, s)\n",
    "    if nunsat!=0\n",
    "        B,indep = findbasis(H[1:end-1,:])\n",
    "        x = argmax.(ms.belief) .== 2\n",
    "        σ = fix_indep!(x, B, indep) \n",
    "        @assert parity(H,x)==0               \n",
    "        @show distortion(σ,s)\n",
    "end\n",
    "#     else\n",
    "#         D_ms[i][j] = dist\n",
    "#         println(\"R=\", Rs[i], \". avg $j of $navg. Converged\")\n",
    "#     end\n",
    "#         ovl, _, _ = findsol(H, s, verbose=false)\n"
   ]
  },
  {
   "cell_type": "code",
   "execution_count": 338,
   "metadata": {},
   "outputs": [
    {
     "name": "stdout",
     "output_type": "stream",
     "text": [
      "(vars[1], factors[1]) = (342, 410)\n",
      "(nunsat, ovl, dist) = performance(ms, s) = (4, 0.3866666666666667, 0.30666666666666664)\n"
     ]
    },
    {
     "data": {
      "text/plain": [
       "(4, 0.3866666666666667, 0.30666666666666664)"
      ]
     },
     "execution_count": 338,
     "metadata": {},
     "output_type": "execute_result"
    }
   ],
   "source": [
    "i = 1\n",
    "maxiter = 10^4\n",
    "# const pa = fill(NaN, maxiter)\n",
    "# const err = fill(NaN, maxiter)\n",
    "# function cb(it, ε, ms)\n",
    "#     pa[it] = parity(ms); err[it] = ε; false\n",
    "# end\n",
    "efield = [(1.,1.) for _ in 1:n]\n",
    "m = round(Int,n*(1-Rs[i])); nedges = 2n\n",
    "vars = rand(1:n, n*2÷3); factors=rand(1:m, m*2÷3)\n",
    "@show vars[1], factors[1]\n",
    "H = permutedims(ldpc_matrix(n, m, nedges, Λ, Ks[i]; accept_multi_edges=false))\n",
    "s = rand((-1.,1.),n)\n",
    "ms = BPFull(H, efield)\n",
    "ms.efield .= [(si,-si).+ 1e-5.*(randn(),randn()) for si in s]\n",
    "ms.h .= [h.+ 1e-5.*(randn(),randn()) for h in ms.h]\n",
    "ms.u .= [u.+ 1e-5.*(randn(),randn()) for u in ms.u]\n",
    "ε, iters = iteration_ms!(ms, maxiter=maxiter, damp=0.0, tol=1e-12, rein=1e-4, \n",
    "    vars=vars, factors=factors)\n",
    "@show nunsat, ovl, dist = performance(ms, s)"
   ]
  },
  {
   "cell_type": "code",
   "execution_count": null,
   "metadata": {},
   "outputs": [],
   "source": [
    "function g(n, Rs, navg, Ks, Λ, ntrials, D_ms, D_exact; verbose=true, maxiter=10^2, kw...)\n",
    "    efield = [(1.,1.) for _ in 1:n]   # pre-allocate\n",
    "    for i in eachindex(Rs)\n",
    "        m = round(Int,n*(1-Rs[i])); nedges = 2n\n",
    "        vars = rand(1:n, n*2÷3); factors=rand(1:m, m*2÷3)\n",
    "        Threads.@threads for j in 1:navg\n",
    "            H = permutedims(ldpc_matrix(n, m, nedges, Λ, Ks[i]; accept_multi_edges=false))\n",
    "            s = rand((-1.,1.),n)\n",
    "            ms = BPFull(H, efield)\n",
    "            for t in 1:ntrials\n",
    "                ms.efield .= [(si,-si).+ 1e-5.*(randn(),randn()) for si in s]\n",
    "                ms.h .= [(.5,.5).+ 1e-5.*(randn(),randn()) for h in ms.h]\n",
    "                ms.u .= [(.5,.5).+ 1e-5.*(randn(),randn()) for u in ms.u]\n",
    "                ε, iters = iteration_ms!(ms, maxiter=maxiter, damp=0.0, tol=1e-12, rein=1e-3;\n",
    "                    vars=vars, factors=factors, kw...)\n",
    "                @show nunsat, ovl, dist = performance(ms, s)\n",
    "                if nunsat==0\n",
    "                    D_ms[i][j] = dist\n",
    "                    println(\"R=\", Rs[i], \". avg $j of $navg_ms. Converged after $t trials\")\n",
    "                    ovl, _, _ = findsol(H, s, verbose=false)\n",
    "                    D_exact[i][j] = (1-ovl)/2\n",
    "                    flush(stdout)\n",
    "                    break\n",
    "                elseif t==ntrials\n",
    "                    error(\"R=\", Rs[i], \". avg $j of $navg. UNCONVERGED after $t trials\")\n",
    "                end\n",
    "            end\n",
    "        end\n",
    "        verbose && println(\"Rate $(Rs[i]) done\")\n",
    "        flush(stdout)\n",
    "    end\n",
    "    mean.(D_ms), mean.(D_exact)\n",
    "end"
   ]
  },
  {
   "cell_type": "code",
   "execution_count": null,
   "metadata": {},
   "outputs": [],
   "source": []
  }
 ],
 "metadata": {
  "kernelspec": {
   "display_name": "Julia 1.6.1-pre",
   "language": "julia",
   "name": "julia-1.6"
  },
  "language_info": {
   "file_extension": ".jl",
   "mimetype": "application/julia",
   "name": "julia",
   "version": "1.6.1"
  }
 },
 "nbformat": 4,
 "nbformat_minor": 4
}
