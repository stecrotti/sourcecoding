{
 "cells": [
  {
   "cell_type": "markdown",
   "metadata": {},
   "source": [
    "# Simulated Annealing and Leaves\n",
    "--------------\n",
    "\n",
    "Run Simulated Annealing with Monte Carlo move consisting of: \n",
    "* pick a random floppy variable\n",
    "* grow a seaweed\n",
    "* flip alla variables touched by the seaweed\n",
    "\n",
    "**Goal**: see whether we get better results with graphs with more leaves"
   ]
  },
  {
   "cell_type": "code",
   "execution_count": 9,
   "metadata": {},
   "outputs": [],
   "source": [
    "using Printf, Plots\n",
    "include(\"../code/headers.jl\")\n",
    "include(\"../code/SimulationNEW.jl\")"
   ]
  },
  {
   "cell_type": "markdown",
   "metadata": {},
   "source": [
    "With graph size $n=1000$, expose leaves via $b$-reduction with $b \\in [1, 3, 5, 10, 20, 50]$.\n",
    "\n",
    "_Note_ : the number of factors $m$ is always the same! If for example $b=4$, a graph with $m+4$ factors is built, then $4$ are removed.\n",
    "\n",
    "Run compression over `niter` random {graph, source vector} instances"
   ]
  },
  {
   "cell_type": "code",
   "execution_count": 24,
   "metadata": {
    "scrolled": true
   },
   "outputs": [],
   "source": [
    "q = 2\n",
    "n = 1000\n",
    "m = 400\n",
    "bvals = [1, 3, 5, 10, 20, 50, 100]\n",
    "niter = 100\n",
    "randseed = 1234;"
   ]
  },
  {
   "cell_type": "markdown",
   "metadata": {},
   "source": [
    "Cooling schedule for Simulated Annealing: $\\beta_{overlap} \\in [10^{-1}, 10^0, 10^1]$"
   ]
  },
  {
   "cell_type": "code",
   "execution_count": 25,
   "metadata": {},
   "outputs": [],
   "source": [
    "sims = Vector{Simulation{SA}}(undef, length(bvals))\n",
    "sa = SA(mc_move=MetropSmallJumps(), nsamples=100, betas=[Inf 0.1; Inf 1.0; Inf 10.0;]);"
   ]
  },
  {
   "cell_type": "code",
   "execution_count": null,
   "metadata": {},
   "outputs": [
    {
     "name": "stdout",
     "output_type": "stream",
     "text": [
      "##### b=1. 1 of 7 #####\n",
      "\n"
     ]
    },
    {
     "name": "stderr",
     "output_type": "stream",
     "text": [
      "\u001b[32mMC running β₁=Inf, β₂=0.1 100%|█████████████████████████| Time: 0:00:02\u001b[39m\n"
     ]
    },
    {
     "name": "stdout",
     "output_type": "stream",
     "text": [
      "Temperature 1 of 3:(β₁=Inf,β₂=0.1). Distortion 0.473. Acceptance 29%\n"
     ]
    },
    {
     "name": "stderr",
     "output_type": "stream",
     "text": [
      "\u001b[32mMC running β₁=Inf, β₂=1.0 100%|█████████████████████████| Time: 0:00:02\u001b[39m\n"
     ]
    },
    {
     "name": "stdout",
     "output_type": "stream",
     "text": [
      "Temperature 2 of 3:(β₁=Inf,β₂=1.0). Distortion 0.434. Acceptance 44%\n"
     ]
    },
    {
     "name": "stderr",
     "output_type": "stream",
     "text": [
      "\u001b[32mMC running β₁=Inf, β₂=10.0 100%|████████████████████████| Time: 0:00:02\u001b[39m\n"
     ]
    },
    {
     "name": "stdout",
     "output_type": "stream",
     "text": [
      "Temperature 3 of 3:(β₁=Inf,β₂=10.0). Distortion 0.416. Acceptance 50%\n",
      "# Finished iter 1 of 100: Parity 0. Distortion 0.416 at β₁=Inf, β₂=10.0.\n",
      "\n"
     ]
    },
    {
     "name": "stderr",
     "output_type": "stream",
     "text": [
      "\u001b[32mMC running β₁=Inf, β₂=0.1 100%|█████████████████████████| Time: 0:00:02\u001b[39m\n"
     ]
    },
    {
     "name": "stdout",
     "output_type": "stream",
     "text": [
      "Temperature 1 of 3:(β₁=Inf,β₂=0.1). Distortion 0.488. Acceptance 29%\n"
     ]
    },
    {
     "name": "stderr",
     "output_type": "stream",
     "text": [
      "\u001b[32mMC running β₁=Inf, β₂=1.0 100%|█████████████████████████| Time: 0:00:02\u001b[39m\n"
     ]
    },
    {
     "name": "stdout",
     "output_type": "stream",
     "text": [
      "Temperature 2 of 3:(β₁=Inf,β₂=1.0). Distortion 0.446. Acceptance 43%\n"
     ]
    },
    {
     "name": "stderr",
     "output_type": "stream",
     "text": [
      "\u001b[32mMC running β₁=Inf, β₂=10.0 100%|████████████████████████| Time: 0:00:02\u001b[39m\n"
     ]
    },
    {
     "name": "stdout",
     "output_type": "stream",
     "text": [
      "Temperature 3 of 3:(β₁=Inf,β₂=10.0). Distortion 0.414. Acceptance 50%\n",
      "# Finished iter 2 of 100: Parity 0. Distortion 0.414 at β₁=Inf, β₂=10.0.\n",
      "\n"
     ]
    },
    {
     "name": "stderr",
     "output_type": "stream",
     "text": [
      "\u001b[32mMC running β₁=Inf, β₂=0.1 100%|█████████████████████████| Time: 0:00:02\u001b[39m\n"
     ]
    },
    {
     "name": "stdout",
     "output_type": "stream",
     "text": [
      "Temperature 1 of 3:(β₁=Inf,β₂=0.1). Distortion 0.461. Acceptance 29%\n"
     ]
    },
    {
     "name": "stderr",
     "output_type": "stream",
     "text": [
      "\u001b[32mMC running β₁=Inf, β₂=1.0 100%|█████████████████████████| Time: 0:00:02\u001b[39m\n"
     ]
    },
    {
     "name": "stdout",
     "output_type": "stream",
     "text": [
      "Temperature 2 of 3:(β₁=Inf,β₂=1.0). Distortion 0.448. Acceptance 37%\n"
     ]
    },
    {
     "name": "stderr",
     "output_type": "stream",
     "text": [
      "\u001b[32mMC running β₁=Inf, β₂=10.0 100%|████████████████████████| Time: 0:00:02\u001b[39m\n"
     ]
    },
    {
     "name": "stdout",
     "output_type": "stream",
     "text": [
      "Temperature 3 of 3:(β₁=Inf,β₂=10.0). Distortion 0.42. Acceptance 44%\n",
      "# Finished iter 3 of 100: Parity 0. Distortion 0.420 at β₁=Inf, β₂=10.0.\n",
      "\n"
     ]
    },
    {
     "name": "stderr",
     "output_type": "stream",
     "text": [
      "\u001b[32mMC running β₁=Inf, β₂=0.1 100%|█████████████████████████| Time: 0:00:02\u001b[39m\n"
     ]
    },
    {
     "name": "stdout",
     "output_type": "stream",
     "text": [
      "Temperature 1 of 3:(β₁=Inf,β₂=0.1). Distortion 0.441. Acceptance 29%\n"
     ]
    },
    {
     "name": "stderr",
     "output_type": "stream",
     "text": [
      "\u001b[32mMC running β₁=Inf, β₂=1.0 100%|█████████████████████████| Time: 0:00:02\u001b[39m\n"
     ]
    },
    {
     "name": "stdout",
     "output_type": "stream",
     "text": [
      "Temperature 2 of 3:(β₁=Inf,β₂=1.0). Distortion 0.406. Acceptance 41%\n"
     ]
    },
    {
     "name": "stderr",
     "output_type": "stream",
     "text": [
      "\u001b[32mMC running β₁=Inf, β₂=10.0 100%|████████████████████████| Time: 0:00:02\u001b[39m\n"
     ]
    },
    {
     "name": "stdout",
     "output_type": "stream",
     "text": [
      "Temperature 3 of 3:(β₁=Inf,β₂=10.0). Distortion 0.395. Acceptance 44%\n",
      "# Finished iter 4 of 100: Parity 0. Distortion 0.395 at β₁=Inf, β₂=10.0.\n",
      "\n"
     ]
    },
    {
     "name": "stderr",
     "output_type": "stream",
     "text": [
      "\u001b[32mMC running β₁=Inf, β₂=0.1 100%|█████████████████████████| Time: 0:00:02\u001b[39m\n"
     ]
    },
    {
     "name": "stdout",
     "output_type": "stream",
     "text": [
      "Temperature 1 of 3:(β₁=Inf,β₂=0.1). Distortion 0.455. Acceptance 29%\n"
     ]
    },
    {
     "name": "stderr",
     "output_type": "stream",
     "text": [
      "\u001b[32mMC running β₁=Inf, β₂=1.0 100%|█████████████████████████| Time: 0:00:02\u001b[39m\n"
     ]
    },
    {
     "name": "stdout",
     "output_type": "stream",
     "text": [
      "Temperature 2 of 3:(β₁=Inf,β₂=1.0). Distortion 0.433. Acceptance 46%\n"
     ]
    },
    {
     "name": "stderr",
     "output_type": "stream",
     "text": [
      "\u001b[32mMC running β₁=Inf, β₂=10.0 100%|████████████████████████| Time: 0:00:02\u001b[39m\n"
     ]
    },
    {
     "name": "stdout",
     "output_type": "stream",
     "text": [
      "Temperature 3 of 3:(β₁=Inf,β₂=10.0). Distortion 0.418. Acceptance 51%\n",
      "# Finished iter 5 of 100: Parity 0. Distortion 0.418 at β₁=Inf, β₂=10.0.\n",
      "\n"
     ]
    },
    {
     "name": "stderr",
     "output_type": "stream",
     "text": [
      "\u001b[32mMC running β₁=Inf, β₂=0.1 100%|█████████████████████████| Time: 0:00:02\u001b[39m\n"
     ]
    },
    {
     "name": "stdout",
     "output_type": "stream",
     "text": [
      "Temperature 1 of 3:(β₁=Inf,β₂=0.1). Distortion 0.464. Acceptance 28%\n"
     ]
    },
    {
     "name": "stderr",
     "output_type": "stream",
     "text": [
      "\u001b[32mMC running β₁=Inf, β₂=1.0 100%|█████████████████████████| Time: 0:00:02\u001b[39m\n"
     ]
    },
    {
     "name": "stdout",
     "output_type": "stream",
     "text": [
      "Temperature 2 of 3:(β₁=Inf,β₂=1.0). Distortion 0.419. Acceptance 45%\n"
     ]
    },
    {
     "name": "stderr",
     "output_type": "stream",
     "text": [
      "\u001b[32mMC running β₁=Inf, β₂=10.0 100%|████████████████████████| Time: 0:00:02\u001b[39m\n"
     ]
    },
    {
     "name": "stdout",
     "output_type": "stream",
     "text": [
      "Temperature 3 of 3:(β₁=Inf,β₂=10.0). Distortion 0.392. Acceptance 53%\n",
      "# Finished iter 6 of 100: Parity 0. Distortion 0.392 at β₁=Inf, β₂=10.0.\n",
      "\n"
     ]
    },
    {
     "name": "stderr",
     "output_type": "stream",
     "text": [
      "\u001b[32mMC running β₁=Inf, β₂=0.1 100%|█████████████████████████| Time: 0:00:02\u001b[39m\n"
     ]
    },
    {
     "name": "stdout",
     "output_type": "stream",
     "text": [
      "Temperature 1 of 3:(β₁=Inf,β₂=0.1). Distortion 0.492. Acceptance 30%\n"
     ]
    },
    {
     "name": "stderr",
     "output_type": "stream",
     "text": [
      "\u001b[32mMC running β₁=Inf, β₂=1.0 100%|█████████████████████████| Time: 0:00:02\u001b[39m\n"
     ]
    },
    {
     "name": "stdout",
     "output_type": "stream",
     "text": [
      "Temperature 2 of 3:(β₁=Inf,β₂=1.0). Distortion 0.461. Acceptance 40%\n"
     ]
    },
    {
     "name": "stderr",
     "output_type": "stream",
     "text": [
      "\u001b[32mMC running β₁=Inf, β₂=10.0 100%|████████████████████████| Time: 0:00:02\u001b[39m\n"
     ]
    },
    {
     "name": "stdout",
     "output_type": "stream",
     "text": [
      "Temperature 3 of 3:(β₁=Inf,β₂=10.0). Distortion 0.443. Acceptance 49%\n",
      "# Finished iter 7 of 100: Parity 0. Distortion 0.443 at β₁=Inf, β₂=10.0.\n",
      "\n"
     ]
    },
    {
     "name": "stderr",
     "output_type": "stream",
     "text": [
      "\u001b[32mMC running β₁=Inf, β₂=0.1 100%|█████████████████████████| Time: 0:00:02\u001b[39m\n"
     ]
    },
    {
     "name": "stdout",
     "output_type": "stream",
     "text": [
      "Temperature 1 of 3:(β₁=Inf,β₂=0.1). Distortion 0.48. Acceptance 31%\n"
     ]
    },
    {
     "name": "stderr",
     "output_type": "stream",
     "text": [
      "\u001b[32mMC running β₁=Inf, β₂=1.0 100%|█████████████████████████| Time: 0:00:02\u001b[39m\n"
     ]
    },
    {
     "name": "stdout",
     "output_type": "stream",
     "text": [
      "Temperature 2 of 3:(β₁=Inf,β₂=1.0). Distortion 0.444. Acceptance 48%\n"
     ]
    },
    {
     "name": "stderr",
     "output_type": "stream",
     "text": [
      "\u001b[32mMC running β₁=Inf, β₂=10.0 100%|████████████████████████| Time: 0:00:02\u001b[39m\n"
     ]
    },
    {
     "name": "stdout",
     "output_type": "stream",
     "text": [
      "Temperature 3 of 3:(β₁=Inf,β₂=10.0). Distortion 0.427. Acceptance 55%\n",
      "# Finished iter 8 of 100: Parity 0. Distortion 0.427 at β₁=Inf, β₂=10.0.\n",
      "\n"
     ]
    },
    {
     "name": "stderr",
     "output_type": "stream",
     "text": [
      "\u001b[32mMC running β₁=Inf, β₂=0.1 100%|█████████████████████████| Time: 0:00:02\u001b[39m\n"
     ]
    },
    {
     "name": "stdout",
     "output_type": "stream",
     "text": [
      "Temperature 1 of 3:(β₁=Inf,β₂=0.1). Distortion 0.47. Acceptance 30%\n"
     ]
    },
    {
     "name": "stderr",
     "output_type": "stream",
     "text": [
      "\u001b[32mMC running β₁=Inf, β₂=1.0 100%|█████████████████████████| Time: 0:00:02\u001b[39m\n"
     ]
    },
    {
     "name": "stdout",
     "output_type": "stream",
     "text": [
      "Temperature 2 of 3:(β₁=Inf,β₂=1.0). Distortion 0.459. Acceptance 40%\n"
     ]
    },
    {
     "name": "stderr",
     "output_type": "stream",
     "text": [
      "\u001b[32mMC running β₁=Inf, β₂=10.0 100%|████████████████████████| Time: 0:00:02\u001b[39m\n"
     ]
    },
    {
     "name": "stdout",
     "output_type": "stream",
     "text": [
      "Temperature 3 of 3:(β₁=Inf,β₂=10.0). Distortion 0.441. Acceptance 46%\n",
      "# Finished iter 9 of 100: Parity 0. Distortion 0.441 at β₁=Inf, β₂=10.0.\n",
      "\n"
     ]
    },
    {
     "name": "stderr",
     "output_type": "stream",
     "text": [
      "\u001b[32mMC running β₁=Inf, β₂=0.1 100%|█████████████████████████| Time: 0:00:02\u001b[39m\n"
     ]
    },
    {
     "name": "stdout",
     "output_type": "stream",
     "text": [
      "Temperature 1 of 3:(β₁=Inf,β₂=0.1). Distortion 0.497. Acceptance 28%\n"
     ]
    },
    {
     "name": "stderr",
     "output_type": "stream",
     "text": [
      "\u001b[32mMC running β₁=Inf, β₂=1.0 100%|█████████████████████████| Time: 0:00:02\u001b[39m\n"
     ]
    },
    {
     "name": "stdout",
     "output_type": "stream",
     "text": [
      "Temperature 2 of 3:(β₁=Inf,β₂=1.0). Distortion 0.453. Acceptance 40%\n"
     ]
    },
    {
     "name": "stderr",
     "output_type": "stream",
     "text": [
      "\u001b[32mMC running β₁=Inf, β₂=10.0 100%|████████████████████████| Time: 0:00:02\u001b[39m\n"
     ]
    },
    {
     "name": "stdout",
     "output_type": "stream",
     "text": [
      "Temperature 3 of 3:(β₁=Inf,β₂=10.0). Distortion 0.433. Acceptance 45%\n",
      "# Finished iter 10 of 100: Parity 0. Distortion 0.433 at β₁=Inf, β₂=10.0.\n",
      "\n"
     ]
    },
    {
     "name": "stderr",
     "output_type": "stream",
     "text": [
      "\u001b[32mMC running β₁=Inf, β₂=0.1 100%|█████████████████████████| Time: 0:00:02\u001b[39m\n"
     ]
    },
    {
     "name": "stdout",
     "output_type": "stream",
     "text": [
      "Temperature 1 of 3:(β₁=Inf,β₂=0.1). Distortion 0.494. Acceptance 30%\n"
     ]
    },
    {
     "name": "stderr",
     "output_type": "stream",
     "text": [
      "\u001b[32mMC running β₁=Inf, β₂=1.0 100%|█████████████████████████| Time: 0:00:02\u001b[39m\n"
     ]
    },
    {
     "name": "stdout",
     "output_type": "stream",
     "text": [
      "Temperature 2 of 3:(β₁=Inf,β₂=1.0). Distortion 0.459. Acceptance 47%\n"
     ]
    },
    {
     "name": "stderr",
     "output_type": "stream",
     "text": [
      "\u001b[32mMC running β₁=Inf, β₂=10.0 100%|████████████████████████| Time: 0:00:02\u001b[39m\n"
     ]
    },
    {
     "name": "stdout",
     "output_type": "stream",
     "text": [
      "Temperature 3 of 3:(β₁=Inf,β₂=10.0). Distortion 0.432. Acceptance 55%\n",
      "# Finished iter 11 of 100: Parity 0. Distortion 0.432 at β₁=Inf, β₂=10.0.\n",
      "\n"
     ]
    },
    {
     "name": "stderr",
     "output_type": "stream",
     "text": [
      "\u001b[32mMC running β₁=Inf, β₂=0.1 100%|█████████████████████████| Time: 0:00:02\u001b[39m\n"
     ]
    },
    {
     "name": "stdout",
     "output_type": "stream",
     "text": [
      "Temperature 1 of 3:(β₁=Inf,β₂=0.1). Distortion 0.488. Acceptance 30%\n"
     ]
    },
    {
     "name": "stderr",
     "output_type": "stream",
     "text": [
      "\u001b[32mMC running β₁=Inf, β₂=1.0 100%|█████████████████████████| Time: 0:00:02\u001b[39m\n"
     ]
    },
    {
     "name": "stdout",
     "output_type": "stream",
     "text": [
      "Temperature 2 of 3:(β₁=Inf,β₂=1.0). Distortion 0.473. Acceptance 44%\n"
     ]
    },
    {
     "name": "stderr",
     "output_type": "stream",
     "text": [
      "\u001b[32mMC running β₁=Inf, β₂=10.0 100%|████████████████████████| Time: 0:00:02\u001b[39m\n"
     ]
    },
    {
     "name": "stdout",
     "output_type": "stream",
     "text": [
      "Temperature 3 of 3:(β₁=Inf,β₂=10.0). Distortion 0.435. Acceptance 50%\n",
      "# Finished iter 12 of 100: Parity 0. Distortion 0.435 at β₁=Inf, β₂=10.0.\n",
      "\n"
     ]
    },
    {
     "name": "stderr",
     "output_type": "stream",
     "text": [
      "\u001b[32mMC running β₁=Inf, β₂=0.1 100%|█████████████████████████| Time: 0:00:02\u001b[39m\n"
     ]
    },
    {
     "name": "stdout",
     "output_type": "stream",
     "text": [
      "Temperature 1 of 3:(β₁=Inf,β₂=0.1). Distortion 0.492. Acceptance 30%\n"
     ]
    },
    {
     "name": "stderr",
     "output_type": "stream",
     "text": [
      "\u001b[32mMC running β₁=Inf, β₂=1.0 100%|█████████████████████████| Time: 0:00:02\u001b[39m\n"
     ]
    },
    {
     "name": "stdout",
     "output_type": "stream",
     "text": [
      "Temperature 2 of 3:(β₁=Inf,β₂=1.0). Distortion 0.464. Acceptance 48%\n"
     ]
    },
    {
     "name": "stderr",
     "output_type": "stream",
     "text": [
      "\u001b[32mMC running β₁=Inf, β₂=10.0 100%|████████████████████████| Time: 0:00:02\u001b[39m\n"
     ]
    },
    {
     "name": "stdout",
     "output_type": "stream",
     "text": [
      "Temperature 3 of 3:(β₁=Inf,β₂=10.0). Distortion 0.438. Acceptance 55%\n",
      "# Finished iter 13 of 100: Parity 0. Distortion 0.438 at β₁=Inf, β₂=10.0.\n",
      "\n"
     ]
    },
    {
     "name": "stderr",
     "output_type": "stream",
     "text": [
      "\u001b[32mMC running β₁=Inf, β₂=0.1 100%|█████████████████████████| Time: 0:00:02\u001b[39m\n"
     ]
    },
    {
     "name": "stdout",
     "output_type": "stream",
     "text": [
      "Temperature 1 of 3:(β₁=Inf,β₂=0.1). Distortion 0.481. Acceptance 29%\n"
     ]
    },
    {
     "name": "stderr",
     "output_type": "stream",
     "text": [
      "\u001b[32mMC running β₁=Inf, β₂=1.0 100%|█████████████████████████| Time: 0:00:02\u001b[39m\n"
     ]
    },
    {
     "name": "stdout",
     "output_type": "stream",
     "text": [
      "Temperature 2 of 3:(β₁=Inf,β₂=1.0). Distortion 0.44. Acceptance 44%\n"
     ]
    },
    {
     "name": "stderr",
     "output_type": "stream",
     "text": [
      "\u001b[32mMC running β₁=Inf, β₂=10.0 100%|████████████████████████| Time: 0:00:02\u001b[39m\n"
     ]
    },
    {
     "name": "stdout",
     "output_type": "stream",
     "text": [
      "Temperature 3 of 3:(β₁=Inf,β₂=10.0). Distortion 0.427. Acceptance 46%\n",
      "# Finished iter 14 of 100: Parity 0. Distortion 0.427 at β₁=Inf, β₂=10.0.\n",
      "\n"
     ]
    },
    {
     "name": "stderr",
     "output_type": "stream",
     "text": [
      "\u001b[32mMC running β₁=Inf, β₂=0.1 100%|█████████████████████████| Time: 0:00:02\u001b[39m\n"
     ]
    },
    {
     "name": "stdout",
     "output_type": "stream",
     "text": [
      "Temperature 1 of 3:(β₁=Inf,β₂=0.1). Distortion 0.479. Acceptance 31%\n"
     ]
    },
    {
     "name": "stderr",
     "output_type": "stream",
     "text": [
      "\u001b[32mMC running β₁=Inf, β₂=1.0 100%|█████████████████████████| Time: 0:00:02\u001b[39m\n"
     ]
    },
    {
     "name": "stdout",
     "output_type": "stream",
     "text": [
      "Temperature 2 of 3:(β₁=Inf,β₂=1.0). Distortion 0.446. Acceptance 44%\n"
     ]
    },
    {
     "name": "stderr",
     "output_type": "stream",
     "text": [
      "\u001b[32mMC running β₁=Inf, β₂=10.0 100%|████████████████████████| Time: 0:00:02\u001b[39m\n"
     ]
    },
    {
     "name": "stdout",
     "output_type": "stream",
     "text": [
      "Temperature 3 of 3:(β₁=Inf,β₂=10.0). Distortion 0.405. Acceptance 53%\n",
      "# Finished iter 15 of 100: Parity 0. Distortion 0.405 at β₁=Inf, β₂=10.0.\n",
      "\n"
     ]
    },
    {
     "name": "stderr",
     "output_type": "stream",
     "text": [
      "\u001b[32mMC running β₁=Inf, β₂=0.1 100%|█████████████████████████| Time: 0:00:02\u001b[39m\n"
     ]
    },
    {
     "name": "stdout",
     "output_type": "stream",
     "text": [
      "Temperature 1 of 3:(β₁=Inf,β₂=0.1). Distortion 0.48. Acceptance 29%\n"
     ]
    },
    {
     "name": "stderr",
     "output_type": "stream",
     "text": [
      "\u001b[32mMC running β₁=Inf, β₂=1.0 100%|█████████████████████████| Time: 0:00:02\u001b[39m\n"
     ]
    },
    {
     "name": "stdout",
     "output_type": "stream",
     "text": [
      "Temperature 2 of 3:(β₁=Inf,β₂=1.0). Distortion 0.429. Acceptance 43%\n"
     ]
    },
    {
     "name": "stderr",
     "output_type": "stream",
     "text": [
      "\u001b[32mMC running β₁=Inf, β₂=10.0 100%|████████████████████████| Time: 0:00:02\u001b[39m\n"
     ]
    },
    {
     "name": "stdout",
     "output_type": "stream",
     "text": [
      "Temperature 3 of 3:(β₁=Inf,β₂=10.0). Distortion 0.412. Acceptance 49%\n",
      "# Finished iter 16 of 100: Parity 0. Distortion 0.412 at β₁=Inf, β₂=10.0.\n",
      "\n"
     ]
    },
    {
     "name": "stderr",
     "output_type": "stream",
     "text": [
      "\u001b[32mMC running β₁=Inf, β₂=0.1 100%|█████████████████████████| Time: 0:00:02\u001b[39m\n",
      "\u001b[32mMC running β₁=Inf, β₂=10.0 100%|████████████████████████| Time: 0:00:02\u001b[39m\n"
     ]
    },
    {
     "name": "stdout",
     "output_type": "stream",
     "text": [
      "Temperature 3 of 3:(β₁=Inf,β₂=10.0). Distortion 0.402. Acceptance 49%\n",
      "# Finished iter 30 of 100: Parity 0. Distortion 0.402 at β₁=Inf, β₂=10.0.\n",
      "\n"
     ]
    },
    {
     "name": "stderr",
     "output_type": "stream",
     "text": [
      "\u001b[32mMC running β₁=Inf, β₂=0.1 100%|█████████████████████████| Time: 0:00:02\u001b[39m\n"
     ]
    },
    {
     "name": "stdout",
     "output_type": "stream",
     "text": [
      "Temperature 1 of 3:(β₁=Inf,β₂=0.1). Distortion 0.473. Acceptance 30%\n"
     ]
    },
    {
     "name": "stderr",
     "output_type": "stream",
     "text": [
      "\u001b[32mMC running β₁=Inf, β₂=1.0 100%|█████████████████████████| Time: 0:00:02\u001b[39m\n"
     ]
    },
    {
     "name": "stdout",
     "output_type": "stream",
     "text": [
      "Temperature 2 of 3:(β₁=Inf,β₂=1.0). Distortion 0.457. Acceptance 44%\n"
     ]
    },
    {
     "name": "stderr",
     "output_type": "stream",
     "text": [
      "\u001b[32mMC running β₁=Inf, β₂=10.0 100%|████████████████████████| Time: 0:00:02\u001b[39m\n"
     ]
    },
    {
     "name": "stdout",
     "output_type": "stream",
     "text": [
      "Temperature 3 of 3:(β₁=Inf,β₂=10.0). Distortion 0.429. Acceptance 50%\n",
      "# Finished iter 31 of 100: Parity 0. Distortion 0.429 at β₁=Inf, β₂=10.0.\n",
      "\n"
     ]
    },
    {
     "name": "stderr",
     "output_type": "stream",
     "text": [
      "\u001b[32mMC running β₁=Inf, β₂=0.1 100%|█████████████████████████| Time: 0:00:02\u001b[39m\n"
     ]
    },
    {
     "name": "stdout",
     "output_type": "stream",
     "text": [
      "Temperature 1 of 3:(β₁=Inf,β₂=0.1). Distortion 0.475. Acceptance 29%\n"
     ]
    },
    {
     "name": "stderr",
     "output_type": "stream",
     "text": [
      "\u001b[32mMC running β₁=Inf, β₂=1.0 100%|█████████████████████████| Time: 0:00:02\u001b[39m\n"
     ]
    },
    {
     "name": "stdout",
     "output_type": "stream",
     "text": [
      "Temperature 2 of 3:(β₁=Inf,β₂=1.0). Distortion 0.432. Acceptance 43%\n"
     ]
    },
    {
     "name": "stderr",
     "output_type": "stream",
     "text": [
      "\u001b[32mMC running β₁=Inf, β₂=10.0 100%|████████████████████████| Time: 0:00:02\u001b[39m\n"
     ]
    },
    {
     "name": "stdout",
     "output_type": "stream",
     "text": [
      "Temperature 3 of 3:(β₁=Inf,β₂=10.0). Distortion 0.417. Acceptance 50%\n",
      "# Finished iter 32 of 100: Parity 0. Distortion 0.417 at β₁=Inf, β₂=10.0.\n",
      "\n"
     ]
    },
    {
     "name": "stderr",
     "output_type": "stream",
     "text": [
      "\u001b[32mMC running β₁=Inf, β₂=0.1 100%|█████████████████████████| Time: 0:00:02\u001b[39m\n"
     ]
    },
    {
     "name": "stdout",
     "output_type": "stream",
     "text": [
      "Temperature 1 of 3:(β₁=Inf,β₂=0.1). Distortion 0.476. Acceptance 30%\n"
     ]
    },
    {
     "name": "stderr",
     "output_type": "stream",
     "text": [
      "\u001b[32mMC running β₁=Inf, β₂=1.0 100%|█████████████████████████| Time: 0:00:02\u001b[39m\n"
     ]
    },
    {
     "name": "stdout",
     "output_type": "stream",
     "text": [
      "Temperature 2 of 3:(β₁=Inf,β₂=1.0). Distortion 0.446. Acceptance 41%\n"
     ]
    },
    {
     "name": "stderr",
     "output_type": "stream",
     "text": [
      "\u001b[32mMC running β₁=Inf, β₂=10.0 100%|████████████████████████| Time: 0:00:02\u001b[39m\n"
     ]
    },
    {
     "name": "stdout",
     "output_type": "stream",
     "text": [
      "Temperature 3 of 3:(β₁=Inf,β₂=10.0). Distortion 0.416. Acceptance 49%\n",
      "# Finished iter 33 of 100: Parity 0. Distortion 0.416 at β₁=Inf, β₂=10.0.\n",
      "\n"
     ]
    },
    {
     "name": "stderr",
     "output_type": "stream",
     "text": [
      "\u001b[32mMC running β₁=Inf, β₂=0.1 100%|█████████████████████████| Time: 0:00:02\u001b[39m\n"
     ]
    },
    {
     "name": "stdout",
     "output_type": "stream",
     "text": [
      "Temperature 1 of 3:(β₁=Inf,β₂=0.1). Distortion 0.478. Acceptance 30%\n"
     ]
    },
    {
     "name": "stderr",
     "output_type": "stream",
     "text": [
      "\u001b[32mMC running β₁=Inf, β₂=1.0 100%|█████████████████████████| Time: 0:00:02\u001b[39m\n"
     ]
    },
    {
     "name": "stdout",
     "output_type": "stream",
     "text": [
      "Temperature 2 of 3:(β₁=Inf,β₂=1.0). Distortion 0.443. Acceptance 48%\n"
     ]
    },
    {
     "name": "stderr",
     "output_type": "stream",
     "text": [
      "\u001b[32mMC running β₁=Inf, β₂=10.0 100%|████████████████████████| Time: 0:00:02\u001b[39m\n"
     ]
    },
    {
     "name": "stdout",
     "output_type": "stream",
     "text": [
      "Temperature 3 of 3:(β₁=Inf,β₂=10.0). Distortion 0.43. Acceptance 54%\n",
      "# Finished iter 34 of 100: Parity 0. Distortion 0.430 at β₁=Inf, β₂=10.0.\n",
      "\n"
     ]
    },
    {
     "name": "stderr",
     "output_type": "stream",
     "text": [
      "\u001b[32mMC running β₁=Inf, β₂=0.1 100%|█████████████████████████| Time: 0:00:02\u001b[39m\n"
     ]
    },
    {
     "name": "stdout",
     "output_type": "stream",
     "text": [
      "Temperature 1 of 3:(β₁=Inf,β₂=0.1). Distortion 0.485. Acceptance 28%\n"
     ]
    },
    {
     "name": "stderr",
     "output_type": "stream",
     "text": [
      "\u001b[32mMC running β₁=Inf, β₂=1.0 100%|█████████████████████████| Time: 0:00:02\u001b[39m\n"
     ]
    },
    {
     "name": "stdout",
     "output_type": "stream",
     "text": [
      "Temperature 2 of 3:(β₁=Inf,β₂=1.0). Distortion 0.453. Acceptance 43%\n"
     ]
    },
    {
     "name": "stderr",
     "output_type": "stream",
     "text": [
      "\u001b[32mMC running β₁=Inf, β₂=10.0 100%|████████████████████████| Time: 0:00:02\u001b[39m\n"
     ]
    },
    {
     "name": "stdout",
     "output_type": "stream",
     "text": [
      "Temperature 3 of 3:(β₁=Inf,β₂=10.0). Distortion 0.429. Acceptance 50%\n",
      "# Finished iter 35 of 100: Parity 0. Distortion 0.429 at β₁=Inf, β₂=10.0.\n",
      "\n"
     ]
    },
    {
     "name": "stderr",
     "output_type": "stream",
     "text": [
      "\u001b[32mMC running β₁=Inf, β₂=0.1 100%|█████████████████████████| Time: 0:00:02\u001b[39m\n"
     ]
    },
    {
     "name": "stdout",
     "output_type": "stream",
     "text": [
      "Temperature 1 of 3:(β₁=Inf,β₂=0.1). Distortion 0.469. Acceptance 29%\n"
     ]
    },
    {
     "name": "stderr",
     "output_type": "stream",
     "text": [
      "\u001b[32mMC running β₁=Inf, β₂=1.0 100%|█████████████████████████| Time: 0:00:02\u001b[39m\n"
     ]
    },
    {
     "name": "stdout",
     "output_type": "stream",
     "text": [
      "Temperature 2 of 3:(β₁=Inf,β₂=1.0). Distortion 0.438. Acceptance 39%\n"
     ]
    },
    {
     "name": "stderr",
     "output_type": "stream",
     "text": [
      "\u001b[32mMC running β₁=Inf, β₂=10.0 100%|████████████████████████| Time: 0:00:02\u001b[39m\n"
     ]
    },
    {
     "name": "stdout",
     "output_type": "stream",
     "text": [
      "Temperature 3 of 3:(β₁=Inf,β₂=10.0). Distortion 0.433. Acceptance 41%\n",
      "# Finished iter 36 of 100: Parity 0. Distortion 0.433 at β₁=Inf, β₂=10.0.\n",
      "\n"
     ]
    },
    {
     "name": "stderr",
     "output_type": "stream",
     "text": [
      "\u001b[32mMC running β₁=Inf, β₂=0.1 100%|█████████████████████████| Time: 0:00:02\u001b[39m\n"
     ]
    },
    {
     "name": "stdout",
     "output_type": "stream",
     "text": [
      "Temperature 1 of 3:(β₁=Inf,β₂=0.1). Distortion 0.484. Acceptance 28%\n"
     ]
    },
    {
     "name": "stderr",
     "output_type": "stream",
     "text": [
      "\u001b[32mMC running β₁=Inf, β₂=1.0 100%|█████████████████████████| Time: 0:00:02\u001b[39m\n"
     ]
    },
    {
     "name": "stdout",
     "output_type": "stream",
     "text": [
      "Temperature 2 of 3:(β₁=Inf,β₂=1.0). Distortion 0.443. Acceptance 42%\n"
     ]
    },
    {
     "name": "stderr",
     "output_type": "stream",
     "text": [
      "\u001b[32mMC running β₁=Inf, β₂=10.0 100%|████████████████████████| Time: 0:00:02\u001b[39m\n"
     ]
    },
    {
     "name": "stdout",
     "output_type": "stream",
     "text": [
      "Temperature 3 of 3:(β₁=Inf,β₂=10.0). Distortion 0.42. Acceptance 48%\n",
      "# Finished iter 37 of 100: Parity 0. Distortion 0.420 at β₁=Inf, β₂=10.0.\n",
      "\n"
     ]
    },
    {
     "name": "stderr",
     "output_type": "stream",
     "text": [
      "\u001b[32mMC running β₁=Inf, β₂=0.1 100%|█████████████████████████| Time: 0:00:02\u001b[39m\n"
     ]
    },
    {
     "name": "stdout",
     "output_type": "stream",
     "text": [
      "Temperature 1 of 3:(β₁=Inf,β₂=0.1). Distortion 0.456. Acceptance 30%\n"
     ]
    },
    {
     "name": "stderr",
     "output_type": "stream",
     "text": [
      "\u001b[32mMC running β₁=Inf, β₂=1.0 100%|█████████████████████████| Time: 0:00:02\u001b[39m\n"
     ]
    },
    {
     "name": "stdout",
     "output_type": "stream",
     "text": [
      "Temperature 2 of 3:(β₁=Inf,β₂=1.0). Distortion 0.429. Acceptance 45%\n"
     ]
    },
    {
     "name": "stderr",
     "output_type": "stream",
     "text": [
      "\u001b[32mMC running β₁=Inf, β₂=10.0 100%|████████████████████████| Time: 0:00:02\u001b[39m\n"
     ]
    },
    {
     "name": "stdout",
     "output_type": "stream",
     "text": [
      "Temperature 3 of 3:(β₁=Inf,β₂=10.0). Distortion 0.41. Acceptance 50%\n",
      "# Finished iter 38 of 100: Parity 0. Distortion 0.410 at β₁=Inf, β₂=10.0.\n",
      "\n"
     ]
    },
    {
     "name": "stderr",
     "output_type": "stream",
     "text": [
      "\u001b[32mMC running β₁=Inf, β₂=0.1 100%|█████████████████████████| Time: 0:00:02\u001b[39m\n"
     ]
    },
    {
     "name": "stdout",
     "output_type": "stream",
     "text": [
      "Temperature 1 of 3:(β₁=Inf,β₂=0.1). Distortion 0.445. Acceptance 28%\n"
     ]
    },
    {
     "name": "stderr",
     "output_type": "stream",
     "text": [
      "\u001b[32mMC running β₁=Inf, β₂=1.0 100%|█████████████████████████| Time: 0:00:02\u001b[39m\n"
     ]
    },
    {
     "name": "stdout",
     "output_type": "stream",
     "text": [
      "Temperature 2 of 3:(β₁=Inf,β₂=1.0). Distortion 0.426. Acceptance 43%\n"
     ]
    },
    {
     "name": "stderr",
     "output_type": "stream",
     "text": [
      "\u001b[32mMC running β₁=Inf, β₂=10.0 100%|████████████████████████| Time: 0:00:02\u001b[39m\n"
     ]
    },
    {
     "name": "stdout",
     "output_type": "stream",
     "text": [
      "Temperature 3 of 3:(β₁=Inf,β₂=10.0). Distortion 0.395. Acceptance 51%\n",
      "# Finished iter 39 of 100: Parity 0. Distortion 0.395 at β₁=Inf, β₂=10.0.\n",
      "\n"
     ]
    },
    {
     "name": "stderr",
     "output_type": "stream",
     "text": [
      "\u001b[32mMC running β₁=Inf, β₂=0.1 100%|█████████████████████████| Time: 0:00:02\u001b[39m\n"
     ]
    },
    {
     "name": "stdout",
     "output_type": "stream",
     "text": [
      "Temperature 1 of 3:(β₁=Inf,β₂=0.1). Distortion 0.483. Acceptance 30%\n"
     ]
    },
    {
     "name": "stderr",
     "output_type": "stream",
     "text": [
      "\u001b[32mMC running β₁=Inf, β₂=1.0 100%|█████████████████████████| Time: 0:00:02\u001b[39m\n"
     ]
    },
    {
     "name": "stdout",
     "output_type": "stream",
     "text": [
      "Temperature 2 of 3:(β₁=Inf,β₂=1.0). Distortion 0.451. Acceptance 40%\n"
     ]
    },
    {
     "name": "stderr",
     "output_type": "stream",
     "text": [
      "\u001b[32mMC running β₁=Inf, β₂=10.0 100%|████████████████████████| Time: 0:00:02\u001b[39m\n"
     ]
    },
    {
     "name": "stdout",
     "output_type": "stream",
     "text": [
      "Temperature 3 of 3:(β₁=Inf,β₂=10.0). Distortion 0.436. Acceptance 46%\n",
      "# Finished iter 40 of 100: Parity 0. Distortion 0.436 at β₁=Inf, β₂=10.0.\n",
      "\n"
     ]
    },
    {
     "name": "stderr",
     "output_type": "stream",
     "text": [
      "\u001b[32mMC running β₁=Inf, β₂=0.1 100%|█████████████████████████| Time: 0:00:02\u001b[39m\n"
     ]
    },
    {
     "name": "stdout",
     "output_type": "stream",
     "text": [
      "Temperature 1 of 3:(β₁=Inf,β₂=0.1). Distortion 0.456. Acceptance 30%\n"
     ]
    },
    {
     "name": "stderr",
     "output_type": "stream",
     "text": [
      "\u001b[32mMC running β₁=Inf, β₂=1.0 100%|█████████████████████████| Time: 0:00:02\u001b[39m\n"
     ]
    },
    {
     "name": "stdout",
     "output_type": "stream",
     "text": [
      "Temperature 2 of 3:(β₁=Inf,β₂=1.0). Distortion 0.416. Acceptance 44%\n"
     ]
    },
    {
     "name": "stderr",
     "output_type": "stream",
     "text": [
      "\u001b[32mMC running β₁=Inf, β₂=10.0 100%|████████████████████████| Time: 0:00:02\u001b[39m\n"
     ]
    },
    {
     "name": "stdout",
     "output_type": "stream",
     "text": [
      "Temperature 3 of 3:(β₁=Inf,β₂=10.0). Distortion 0.399. Acceptance 49%\n",
      "# Finished iter 41 of 100: Parity 0. Distortion 0.399 at β₁=Inf, β₂=10.0.\n",
      "\n"
     ]
    },
    {
     "name": "stderr",
     "output_type": "stream",
     "text": [
      "\u001b[32mMC running β₁=Inf, β₂=0.1 100%|█████████████████████████| Time: 0:00:02\u001b[39m\n"
     ]
    },
    {
     "name": "stdout",
     "output_type": "stream",
     "text": [
      "Temperature 1 of 3:(β₁=Inf,β₂=0.1). Distortion 0.498. Acceptance 30%\n"
     ]
    },
    {
     "name": "stderr",
     "output_type": "stream",
     "text": [
      "\u001b[32mMC running β₁=Inf, β₂=1.0 100%|█████████████████████████| Time: 0:00:02\u001b[39m\n"
     ]
    },
    {
     "name": "stdout",
     "output_type": "stream",
     "text": [
      "Temperature 2 of 3:(β₁=Inf,β₂=1.0). Distortion 0.456. Acceptance 46%\n"
     ]
    },
    {
     "name": "stderr",
     "output_type": "stream",
     "text": [
      "\u001b[32mMC running β₁=Inf, β₂=10.0 100%|████████████████████████| Time: 0:00:02\u001b[39m\n"
     ]
    },
    {
     "name": "stdout",
     "output_type": "stream",
     "text": [
      "Temperature 3 of 3:(β₁=Inf,β₂=10.0). Distortion 0.433. Acceptance 51%\n",
      "# Finished iter 42 of 100: Parity 0. Distortion 0.433 at β₁=Inf, β₂=10.0.\n",
      "\n"
     ]
    },
    {
     "name": "stderr",
     "output_type": "stream",
     "text": [
      "\u001b[32mMC running β₁=Inf, β₂=0.1 100%|█████████████████████████| Time: 0:00:02\u001b[39m\n"
     ]
    },
    {
     "name": "stdout",
     "output_type": "stream",
     "text": [
      "Temperature 1 of 3:(β₁=Inf,β₂=0.1). Distortion 0.458. Acceptance 30%\n"
     ]
    },
    {
     "name": "stderr",
     "output_type": "stream",
     "text": [
      "\u001b[32mMC running β₁=Inf, β₂=1.0 100%|█████████████████████████| Time: 0:00:02\u001b[39m\n"
     ]
    },
    {
     "name": "stdout",
     "output_type": "stream",
     "text": [
      "Temperature 2 of 3:(β₁=Inf,β₂=1.0). Distortion 0.417. Acceptance 44%\n"
     ]
    },
    {
     "name": "stderr",
     "output_type": "stream",
     "text": [
      "\u001b[32mMC running β₁=Inf, β₂=10.0 100%|████████████████████████| Time: 0:00:02\u001b[39m\n"
     ]
    },
    {
     "name": "stdout",
     "output_type": "stream",
     "text": [
      "Temperature 3 of 3:(β₁=Inf,β₂=10.0). Distortion 0.4. Acceptance 50%\n",
      "# Finished iter 43 of 100: Parity 0. Distortion 0.400 at β₁=Inf, β₂=10.0.\n",
      "\n"
     ]
    },
    {
     "name": "stderr",
     "output_type": "stream",
     "text": [
      "\u001b[32mMC running β₁=Inf, β₂=0.1 100%|█████████████████████████| Time: 0:00:02\u001b[39m\n"
     ]
    },
    {
     "name": "stdout",
     "output_type": "stream",
     "text": [
      "Temperature 1 of 3:(β₁=Inf,β₂=0.1). Distortion 0.482. Acceptance 30%\n"
     ]
    },
    {
     "name": "stderr",
     "output_type": "stream",
     "text": [
      "\u001b[32mMC running β₁=Inf, β₂=1.0 100%|█████████████████████████| Time: 0:00:02\u001b[39m\n"
     ]
    },
    {
     "name": "stdout",
     "output_type": "stream",
     "text": [
      "Temperature 2 of 3:(β₁=Inf,β₂=1.0). Distortion 0.462. Acceptance 46%\n"
     ]
    },
    {
     "name": "stderr",
     "output_type": "stream",
     "text": [
      "\u001b[32mMC running β₁=Inf, β₂=10.0 100%|████████████████████████| Time: 0:00:02\u001b[39m\n"
     ]
    },
    {
     "name": "stdout",
     "output_type": "stream",
     "text": [
      "Temperature 3 of 3:(β₁=Inf,β₂=10.0). Distortion 0.442. Acceptance 53%\n",
      "# Finished iter 44 of 100: Parity 0. Distortion 0.442 at β₁=Inf, β₂=10.0.\n",
      "\n"
     ]
    },
    {
     "name": "stderr",
     "output_type": "stream",
     "text": [
      "\u001b[32mMC running β₁=Inf, β₂=0.1 100%|█████████████████████████| Time: 0:00:02\u001b[39m\n"
     ]
    },
    {
     "name": "stdout",
     "output_type": "stream",
     "text": [
      "Temperature 1 of 3:(β₁=Inf,β₂=0.1). Distortion 0.466. Acceptance 29%\n"
     ]
    },
    {
     "name": "stderr",
     "output_type": "stream",
     "text": [
      "\u001b[32mMC running β₁=Inf, β₂=1.0 100%|█████████████████████████| Time: 0:00:02\u001b[39m\n"
     ]
    },
    {
     "name": "stdout",
     "output_type": "stream",
     "text": [
      "Temperature 2 of 3:(β₁=Inf,β₂=1.0). Distortion 0.437. Acceptance 44%\n"
     ]
    },
    {
     "name": "stderr",
     "output_type": "stream",
     "text": [
      "\u001b[32mMC running β₁=Inf, β₂=10.0 100%|████████████████████████| Time: 0:00:02\u001b[39m\n"
     ]
    },
    {
     "name": "stdout",
     "output_type": "stream",
     "text": [
      "Temperature 3 of 3:(β₁=Inf,β₂=10.0). Distortion 0.407. Acceptance 52%\n",
      "# Finished iter 45 of 100: Parity 0. Distortion 0.407 at β₁=Inf, β₂=10.0.\n",
      "\n"
     ]
    },
    {
     "name": "stderr",
     "output_type": "stream",
     "text": [
      "\u001b[32mMC running β₁=Inf, β₂=0.1 100%|█████████████████████████| Time: 0:00:02\u001b[39m\n"
     ]
    },
    {
     "name": "stdout",
     "output_type": "stream",
     "text": [
      "Temperature 1 of 3:(β₁=Inf,β₂=0.1). Distortion 0.478. Acceptance 29%\n"
     ]
    },
    {
     "name": "stderr",
     "output_type": "stream",
     "text": [
      "\u001b[32mMC running β₁=Inf, β₂=1.0 100%|█████████████████████████| Time: 0:00:02\u001b[39m\n"
     ]
    },
    {
     "name": "stdout",
     "output_type": "stream",
     "text": [
      "Temperature 2 of 3:(β₁=Inf,β₂=1.0). Distortion 0.457. Acceptance 44%\n"
     ]
    },
    {
     "name": "stderr",
     "output_type": "stream",
     "text": [
      "\u001b[32mMC running β₁=Inf, β₂=10.0 100%|████████████████████████| Time: 0:00:02\u001b[39m\n"
     ]
    },
    {
     "name": "stdout",
     "output_type": "stream",
     "text": [
      "Temperature 3 of 3:(β₁=Inf,β₂=10.0). Distortion 0.446. Acceptance 48%\n",
      "# Finished iter 46 of 100: Parity 0. Distortion 0.446 at β₁=Inf, β₂=10.0.\n",
      "\n"
     ]
    },
    {
     "name": "stderr",
     "output_type": "stream",
     "text": [
      "\u001b[32mMC running β₁=Inf, β₂=0.1 100%|█████████████████████████| Time: 0:00:02\u001b[39m\n"
     ]
    },
    {
     "name": "stdout",
     "output_type": "stream",
     "text": [
      "Temperature 1 of 3:(β₁=Inf,β₂=0.1). Distortion 0.463. Acceptance 30%\n"
     ]
    },
    {
     "name": "stderr",
     "output_type": "stream",
     "text": [
      "\u001b[32mMC running β₁=Inf, β₂=1.0 100%|█████████████████████████| Time: 0:00:02\u001b[39m\n"
     ]
    },
    {
     "name": "stdout",
     "output_type": "stream",
     "text": [
      "Temperature 2 of 3:(β₁=Inf,β₂=1.0). Distortion 0.442. Acceptance 43%\n"
     ]
    },
    {
     "name": "stderr",
     "output_type": "stream",
     "text": [
      "\u001b[32mMC running β₁=Inf, β₂=10.0 100%|████████████████████████| Time: 0:00:02\u001b[39m\n"
     ]
    },
    {
     "name": "stdout",
     "output_type": "stream",
     "text": [
      "Temperature 3 of 3:(β₁=Inf,β₂=10.0). Distortion 0.423. Acceptance 47%\n",
      "# Finished iter 47 of 100: Parity 0. Distortion 0.423 at β₁=Inf, β₂=10.0.\n",
      "\n"
     ]
    },
    {
     "name": "stderr",
     "output_type": "stream",
     "text": [
      "\u001b[32mMC running β₁=Inf, β₂=0.1 100%|█████████████████████████| Time: 0:00:02\u001b[39m\n"
     ]
    },
    {
     "name": "stdout",
     "output_type": "stream",
     "text": [
      "Temperature 1 of 3:(β₁=Inf,β₂=0.1). Distortion 0.465. Acceptance 30%\n"
     ]
    },
    {
     "name": "stderr",
     "output_type": "stream",
     "text": [
      "\u001b[32mMC running β₁=Inf, β₂=1.0 100%|█████████████████████████| Time: 0:00:02\u001b[39m\n"
     ]
    },
    {
     "name": "stdout",
     "output_type": "stream",
     "text": [
      "Temperature 2 of 3:(β₁=Inf,β₂=1.0). Distortion 0.433. Acceptance 44%\n"
     ]
    },
    {
     "name": "stderr",
     "output_type": "stream",
     "text": [
      "\u001b[32mMC running β₁=Inf, β₂=10.0 100%|████████████████████████| Time: 0:00:02\u001b[39m\n"
     ]
    },
    {
     "name": "stdout",
     "output_type": "stream",
     "text": [
      "Temperature 3 of 3:(β₁=Inf,β₂=10.0). Distortion 0.412. Acceptance 51%\n",
      "# Finished iter 48 of 100: Parity 0. Distortion 0.412 at β₁=Inf, β₂=10.0.\n",
      "\n"
     ]
    },
    {
     "name": "stderr",
     "output_type": "stream",
     "text": [
      "\u001b[32mMC running β₁=Inf, β₂=0.1 100%|█████████████████████████| Time: 0:00:02\u001b[39m\n"
     ]
    },
    {
     "name": "stdout",
     "output_type": "stream",
     "text": [
      "Temperature 1 of 3:(β₁=Inf,β₂=0.1). Distortion 0.477. Acceptance 28%\n"
     ]
    },
    {
     "name": "stderr",
     "output_type": "stream",
     "text": [
      "\u001b[32mMC running β₁=Inf, β₂=1.0 100%|█████████████████████████| Time: 0:00:02\u001b[39m\n"
     ]
    },
    {
     "name": "stdout",
     "output_type": "stream",
     "text": [
      "Temperature 2 of 3:(β₁=Inf,β₂=1.0). Distortion 0.453. Acceptance 39%\n"
     ]
    },
    {
     "name": "stderr",
     "output_type": "stream",
     "text": [
      "\u001b[32mMC running β₁=Inf, β₂=10.0 100%|████████████████████████| Time: 0:00:02\u001b[39m\n"
     ]
    },
    {
     "name": "stdout",
     "output_type": "stream",
     "text": [
      "Temperature 3 of 3:(β₁=Inf,β₂=10.0). Distortion 0.445. Acceptance 42%\n",
      "# Finished iter 49 of 100: Parity 0. Distortion 0.445 at β₁=Inf, β₂=10.0.\n",
      "\n"
     ]
    },
    {
     "name": "stderr",
     "output_type": "stream",
     "text": [
      "\u001b[32mMC running β₁=Inf, β₂=0.1 100%|█████████████████████████| Time: 0:00:02\u001b[39m\n"
     ]
    },
    {
     "name": "stdout",
     "output_type": "stream",
     "text": [
      "Temperature 1 of 3:(β₁=Inf,β₂=0.1). Distortion 0.467. Acceptance 28%\n"
     ]
    },
    {
     "name": "stderr",
     "output_type": "stream",
     "text": [
      "\u001b[32mMC running β₁=Inf, β₂=1.0 100%|█████████████████████████| Time: 0:00:02\u001b[39m\n"
     ]
    },
    {
     "name": "stdout",
     "output_type": "stream",
     "text": [
      "Temperature 2 of 3:(β₁=Inf,β₂=1.0). Distortion 0.451. Acceptance 43%\n"
     ]
    },
    {
     "name": "stderr",
     "output_type": "stream",
     "text": [
      "\u001b[32mMC running β₁=Inf, β₂=10.0 100%|████████████████████████| Time: 0:00:02\u001b[39m\n"
     ]
    },
    {
     "name": "stdout",
     "output_type": "stream",
     "text": [
      "Temperature 3 of 3:(β₁=Inf,β₂=10.0). Distortion 0.429. Acceptance 49%\n",
      "# Finished iter 50 of 100: Parity 0. Distortion 0.429 at β₁=Inf, β₂=10.0.\n",
      "\n"
     ]
    },
    {
     "name": "stderr",
     "output_type": "stream",
     "text": [
      "\u001b[32mMC running β₁=Inf, β₂=0.1 100%|█████████████████████████| Time: 0:00:02\u001b[39m\n"
     ]
    },
    {
     "name": "stdout",
     "output_type": "stream",
     "text": [
      "Temperature 1 of 3:(β₁=Inf,β₂=0.1). Distortion 0.451. Acceptance 29%\n"
     ]
    },
    {
     "name": "stderr",
     "output_type": "stream",
     "text": [
      "\u001b[32mMC running β₁=Inf, β₂=1.0 100%|█████████████████████████| Time: 0:00:02\u001b[39m\n"
     ]
    },
    {
     "name": "stdout",
     "output_type": "stream",
     "text": [
      "Temperature 2 of 3:(β₁=Inf,β₂=1.0). Distortion 0.416. Acceptance 44%\n"
     ]
    },
    {
     "name": "stderr",
     "output_type": "stream",
     "text": [
      "\u001b[32mMC running β₁=Inf, β₂=10.0 100%|████████████████████████| Time: 0:00:02\u001b[39m\n"
     ]
    },
    {
     "name": "stdout",
     "output_type": "stream",
     "text": [
      "Temperature 3 of 3:(β₁=Inf,β₂=10.0). Distortion 0.404. Acceptance 50%\n",
      "# Finished iter 51 of 100: Parity 0. Distortion 0.404 at β₁=Inf, β₂=10.0.\n",
      "\n"
     ]
    },
    {
     "name": "stderr",
     "output_type": "stream",
     "text": [
      "\u001b[32mMC running β₁=Inf, β₂=0.1 100%|█████████████████████████| Time: 0:00:02\u001b[39m\n"
     ]
    },
    {
     "name": "stdout",
     "output_type": "stream",
     "text": [
      "Temperature 1 of 3:(β₁=Inf,β₂=0.1). Distortion 0.468. Acceptance 30%\n"
     ]
    },
    {
     "name": "stderr",
     "output_type": "stream",
     "text": [
      "\u001b[32mMC running β₁=Inf, β₂=1.0 100%|█████████████████████████| Time: 0:00:02\u001b[39m\n"
     ]
    },
    {
     "name": "stdout",
     "output_type": "stream",
     "text": [
      "Temperature 2 of 3:(β₁=Inf,β₂=1.0). Distortion 0.447. Acceptance 43%\n"
     ]
    },
    {
     "name": "stderr",
     "output_type": "stream",
     "text": [
      "\u001b[32mMC running β₁=Inf, β₂=10.0 100%|████████████████████████| Time: 0:00:02\u001b[39m\n"
     ]
    },
    {
     "name": "stdout",
     "output_type": "stream",
     "text": [
      "Temperature 3 of 3:(β₁=Inf,β₂=10.0). Distortion 0.434. Acceptance 49%\n",
      "# Finished iter 52 of 100: Parity 0. Distortion 0.434 at β₁=Inf, β₂=10.0.\n",
      "\n"
     ]
    },
    {
     "name": "stderr",
     "output_type": "stream",
     "text": [
      "\u001b[32mMC running β₁=Inf, β₂=0.1 100%|█████████████████████████| Time: 0:00:02\u001b[39m\n"
     ]
    },
    {
     "name": "stdout",
     "output_type": "stream",
     "text": [
      "Temperature 1 of 3:(β₁=Inf,β₂=0.1). Distortion 0.505. Acceptance 29%\n"
     ]
    },
    {
     "name": "stderr",
     "output_type": "stream",
     "text": [
      "\u001b[32mMC running β₁=Inf, β₂=1.0 100%|█████████████████████████| Time: 0:00:02\u001b[39m\n"
     ]
    },
    {
     "name": "stdout",
     "output_type": "stream",
     "text": [
      "Temperature 2 of 3:(β₁=Inf,β₂=1.0). Distortion 0.471. Acceptance 44%\n"
     ]
    },
    {
     "name": "stderr",
     "output_type": "stream",
     "text": [
      "\u001b[32mMC running β₁=Inf, β₂=10.0 100%|████████████████████████| Time: 0:00:02\u001b[39m\n"
     ]
    },
    {
     "name": "stdout",
     "output_type": "stream",
     "text": [
      "Temperature 3 of 3:(β₁=Inf,β₂=10.0). Distortion 0.443. Acceptance 52%\n",
      "# Finished iter 53 of 100: Parity 0. Distortion 0.443 at β₁=Inf, β₂=10.0.\n",
      "\n"
     ]
    },
    {
     "name": "stderr",
     "output_type": "stream",
     "text": [
      "\u001b[32mMC running β₁=Inf, β₂=0.1 100%|█████████████████████████| Time: 0:00:02\u001b[39m\n"
     ]
    },
    {
     "name": "stdout",
     "output_type": "stream",
     "text": [
      "Temperature 1 of 3:(β₁=Inf,β₂=0.1). Distortion 0.477. Acceptance 30%\n"
     ]
    },
    {
     "name": "stderr",
     "output_type": "stream",
     "text": [
      "\u001b[32mMC running β₁=Inf, β₂=1.0 100%|█████████████████████████| Time: 0:00:02\u001b[39m\n"
     ]
    },
    {
     "name": "stdout",
     "output_type": "stream",
     "text": [
      "Temperature 2 of 3:(β₁=Inf,β₂=1.0). Distortion 0.436. Acceptance 44%\n"
     ]
    },
    {
     "name": "stderr",
     "output_type": "stream",
     "text": [
      "\u001b[32mMC running β₁=Inf, β₂=10.0 100%|████████████████████████| Time: 0:00:02\u001b[39m\n"
     ]
    },
    {
     "name": "stdout",
     "output_type": "stream",
     "text": [
      "Temperature 3 of 3:(β₁=Inf,β₂=10.0). Distortion 0.409. Acceptance 49%\n",
      "# Finished iter 54 of 100: Parity 0. Distortion 0.409 at β₁=Inf, β₂=10.0.\n",
      "\n"
     ]
    },
    {
     "name": "stderr",
     "output_type": "stream",
     "text": [
      "\u001b[32mMC running β₁=Inf, β₂=0.1 100%|█████████████████████████| Time: 0:00:02\u001b[39m\n"
     ]
    },
    {
     "name": "stdout",
     "output_type": "stream",
     "text": [
      "Temperature 1 of 3:(β₁=Inf,β₂=0.1). Distortion 0.489. Acceptance 29%\n"
     ]
    },
    {
     "name": "stderr",
     "output_type": "stream",
     "text": [
      "\u001b[32mMC running β₁=Inf, β₂=1.0 100%|█████████████████████████| Time: 0:00:02\u001b[39m\n"
     ]
    },
    {
     "name": "stdout",
     "output_type": "stream",
     "text": [
      "Temperature 2 of 3:(β₁=Inf,β₂=1.0). Distortion 0.457. Acceptance 42%\n"
     ]
    },
    {
     "name": "stderr",
     "output_type": "stream",
     "text": [
      "\u001b[32mMC running β₁=Inf, β₂=10.0 100%|████████████████████████| Time: 0:00:02\u001b[39m\n"
     ]
    },
    {
     "name": "stdout",
     "output_type": "stream",
     "text": [
      "Temperature 3 of 3:(β₁=Inf,β₂=10.0). Distortion 0.448. Acceptance 46%\n",
      "# Finished iter 55 of 100: Parity 0. Distortion 0.448 at β₁=Inf, β₂=10.0.\n",
      "\n"
     ]
    },
    {
     "name": "stderr",
     "output_type": "stream",
     "text": [
      "\u001b[32mMC running β₁=Inf, β₂=0.1 100%|█████████████████████████| Time: 0:00:02\u001b[39m\n"
     ]
    },
    {
     "name": "stdout",
     "output_type": "stream",
     "text": [
      "Temperature 1 of 3:(β₁=Inf,β₂=0.1). Distortion 0.479. Acceptance 31%\n"
     ]
    },
    {
     "name": "stderr",
     "output_type": "stream",
     "text": [
      "\u001b[32mMC running β₁=Inf, β₂=1.0 100%|█████████████████████████| Time: 0:00:02\u001b[39m\n"
     ]
    },
    {
     "name": "stdout",
     "output_type": "stream",
     "text": [
      "Temperature 2 of 3:(β₁=Inf,β₂=1.0). Distortion 0.437. Acceptance 47%\n"
     ]
    },
    {
     "name": "stderr",
     "output_type": "stream",
     "text": [
      "\u001b[32mMC running β₁=Inf, β₂=10.0 100%|████████████████████████| Time: 0:00:02\u001b[39m\n"
     ]
    },
    {
     "name": "stdout",
     "output_type": "stream",
     "text": [
      "Temperature 3 of 3:(β₁=Inf,β₂=10.0). Distortion 0.423. Acceptance 51%\n",
      "# Finished iter 56 of 100: Parity 0. Distortion 0.423 at β₁=Inf, β₂=10.0.\n",
      "\n"
     ]
    },
    {
     "name": "stderr",
     "output_type": "stream",
     "text": [
      "\u001b[32mMC running β₁=Inf, β₂=0.1 100%|█████████████████████████| Time: 0:00:02\u001b[39m\n"
     ]
    },
    {
     "name": "stdout",
     "output_type": "stream",
     "text": [
      "Temperature 1 of 3:(β₁=Inf,β₂=0.1). Distortion 0.483. Acceptance 29%\n"
     ]
    },
    {
     "name": "stderr",
     "output_type": "stream",
     "text": [
      "\u001b[32mMC running β₁=Inf, β₂=1.0 100%|█████████████████████████| Time: 0:00:02\u001b[39m\n"
     ]
    },
    {
     "name": "stdout",
     "output_type": "stream",
     "text": [
      "Temperature 2 of 3:(β₁=Inf,β₂=1.0). Distortion 0.461. Acceptance 43%\n"
     ]
    },
    {
     "name": "stderr",
     "output_type": "stream",
     "text": [
      "\u001b[32mMC running β₁=Inf, β₂=10.0 100%|████████████████████████| Time: 0:00:02\u001b[39m\n"
     ]
    },
    {
     "name": "stdout",
     "output_type": "stream",
     "text": [
      "Temperature 3 of 3:(β₁=Inf,β₂=10.0). Distortion 0.436. Acceptance 47%\n",
      "# Finished iter 57 of 100: Parity 0. Distortion 0.436 at β₁=Inf, β₂=10.0.\n",
      "\n"
     ]
    },
    {
     "name": "stderr",
     "output_type": "stream",
     "text": [
      "\u001b[32mMC running β₁=Inf, β₂=0.1 100%|█████████████████████████| Time: 0:00:02\u001b[39m\n"
     ]
    },
    {
     "name": "stdout",
     "output_type": "stream",
     "text": [
      "Temperature 1 of 3:(β₁=Inf,β₂=0.1). Distortion 0.465. Acceptance 30%\n"
     ]
    },
    {
     "name": "stderr",
     "output_type": "stream",
     "text": [
      "\u001b[32mMC running β₁=Inf, β₂=1.0 100%|█████████████████████████| Time: 0:00:02\u001b[39m\n"
     ]
    },
    {
     "name": "stdout",
     "output_type": "stream",
     "text": [
      "Temperature 2 of 3:(β₁=Inf,β₂=1.0). Distortion 0.443. Acceptance 42%\n"
     ]
    },
    {
     "name": "stderr",
     "output_type": "stream",
     "text": [
      "\u001b[32mMC running β₁=Inf, β₂=10.0 100%|████████████████████████| Time: 0:00:02\u001b[39m\n"
     ]
    },
    {
     "name": "stdout",
     "output_type": "stream",
     "text": [
      "Temperature 3 of 3:(β₁=Inf,β₂=10.0). Distortion 0.43. Acceptance 48%\n",
      "# Finished iter 58 of 100: Parity 0. Distortion 0.430 at β₁=Inf, β₂=10.0.\n",
      "\n"
     ]
    },
    {
     "name": "stderr",
     "output_type": "stream",
     "text": [
      "\u001b[32mMC running β₁=Inf, β₂=0.1 100%|█████████████████████████| Time: 0:00:02\u001b[39m\n"
     ]
    },
    {
     "name": "stdout",
     "output_type": "stream",
     "text": [
      "Temperature 1 of 3:(β₁=Inf,β₂=0.1). Distortion 0.491. Acceptance 32%\n"
     ]
    },
    {
     "name": "stderr",
     "output_type": "stream",
     "text": [
      "\u001b[32mMC running β₁=Inf, β₂=1.0 100%|█████████████████████████| Time: 0:00:02\u001b[39m\n"
     ]
    },
    {
     "name": "stdout",
     "output_type": "stream",
     "text": [
      "Temperature 2 of 3:(β₁=Inf,β₂=1.0). Distortion 0.462. Acceptance 44%\n"
     ]
    },
    {
     "name": "stderr",
     "output_type": "stream",
     "text": [
      "\u001b[32mMC running β₁=Inf, β₂=10.0 100%|████████████████████████| Time: 0:00:02\u001b[39m\n"
     ]
    },
    {
     "name": "stdout",
     "output_type": "stream",
     "text": [
      "Temperature 3 of 3:(β₁=Inf,β₂=10.0). Distortion 0.447. Acceptance 50%\n",
      "# Finished iter 59 of 100: Parity 0. Distortion 0.447 at β₁=Inf, β₂=10.0.\n",
      "\n"
     ]
    },
    {
     "name": "stderr",
     "output_type": "stream",
     "text": [
      "\u001b[32mMC running β₁=Inf, β₂=0.1 100%|█████████████████████████| Time: 0:00:02\u001b[39m\n"
     ]
    },
    {
     "name": "stdout",
     "output_type": "stream",
     "text": [
      "Temperature 1 of 3:(β₁=Inf,β₂=0.1). Distortion 0.471. Acceptance 29%\n"
     ]
    },
    {
     "name": "stderr",
     "output_type": "stream",
     "text": [
      "\u001b[32mMC running β₁=Inf, β₂=1.0 100%|█████████████████████████| Time: 0:00:02\u001b[39m\n"
     ]
    },
    {
     "name": "stdout",
     "output_type": "stream",
     "text": [
      "Temperature 2 of 3:(β₁=Inf,β₂=1.0). Distortion 0.445. Acceptance 42%\n"
     ]
    },
    {
     "name": "stderr",
     "output_type": "stream",
     "text": [
      "\u001b[32mMC running β₁=Inf, β₂=10.0 100%|████████████████████████| Time: 0:00:02\u001b[39m\n"
     ]
    },
    {
     "name": "stdout",
     "output_type": "stream",
     "text": [
      "Temperature 3 of 3:(β₁=Inf,β₂=10.0). Distortion 0.425. Acceptance 49%\n",
      "# Finished iter 60 of 100: Parity 0. Distortion 0.425 at β₁=Inf, β₂=10.0.\n",
      "\n"
     ]
    },
    {
     "name": "stderr",
     "output_type": "stream",
     "text": [
      "\u001b[32mMC running β₁=Inf, β₂=0.1 100%|█████████████████████████| Time: 0:00:02\u001b[39m\n"
     ]
    },
    {
     "name": "stdout",
     "output_type": "stream",
     "text": [
      "Temperature 1 of 3:(β₁=Inf,β₂=0.1). Distortion 0.474. Acceptance 29%\n"
     ]
    },
    {
     "name": "stderr",
     "output_type": "stream",
     "text": [
      "\u001b[32mMC running β₁=Inf, β₂=1.0 100%|█████████████████████████| Time: 0:00:02\u001b[39m\n"
     ]
    },
    {
     "name": "stdout",
     "output_type": "stream",
     "text": [
      "Temperature 2 of 3:(β₁=Inf,β₂=1.0). Distortion 0.437. Acceptance 44%\n"
     ]
    },
    {
     "name": "stderr",
     "output_type": "stream",
     "text": [
      "\u001b[32mMC running β₁=Inf, β₂=10.0 100%|████████████████████████| Time: 0:00:02\u001b[39m\n"
     ]
    },
    {
     "name": "stdout",
     "output_type": "stream",
     "text": [
      "Temperature 3 of 3:(β₁=Inf,β₂=10.0). Distortion 0.423. Acceptance 49%\n",
      "# Finished iter 61 of 100: Parity 0. Distortion 0.423 at β₁=Inf, β₂=10.0.\n",
      "\n"
     ]
    },
    {
     "name": "stderr",
     "output_type": "stream",
     "text": [
      "\u001b[32mMC running β₁=Inf, β₂=0.1 100%|█████████████████████████| Time: 0:00:02\u001b[39m\n"
     ]
    },
    {
     "name": "stdout",
     "output_type": "stream",
     "text": [
      "Temperature 1 of 3:(β₁=Inf,β₂=0.1). Distortion 0.469. Acceptance 30%\n"
     ]
    },
    {
     "name": "stderr",
     "output_type": "stream",
     "text": [
      "\u001b[32mMC running β₁=Inf, β₂=1.0 100%|█████████████████████████| Time: 0:00:02\u001b[39m\n"
     ]
    },
    {
     "name": "stdout",
     "output_type": "stream",
     "text": [
      "Temperature 2 of 3:(β₁=Inf,β₂=1.0). Distortion 0.433. Acceptance 43%\n"
     ]
    },
    {
     "name": "stderr",
     "output_type": "stream",
     "text": [
      "\u001b[32mMC running β₁=Inf, β₂=10.0 100%|████████████████████████| Time: 0:00:02\u001b[39m\n"
     ]
    },
    {
     "name": "stdout",
     "output_type": "stream",
     "text": [
      "Temperature 3 of 3:(β₁=Inf,β₂=10.0). Distortion 0.414. Acceptance 48%\n",
      "# Finished iter 62 of 100: Parity 0. Distortion 0.414 at β₁=Inf, β₂=10.0.\n",
      "\n"
     ]
    },
    {
     "name": "stderr",
     "output_type": "stream",
     "text": [
      "\u001b[32mMC running β₁=Inf, β₂=0.1 100%|█████████████████████████| Time: 0:00:02\u001b[39m\n"
     ]
    },
    {
     "name": "stdout",
     "output_type": "stream",
     "text": [
      "Temperature 1 of 3:(β₁=Inf,β₂=0.1). Distortion 0.481. Acceptance 29%\n"
     ]
    },
    {
     "name": "stderr",
     "output_type": "stream",
     "text": [
      "\u001b[32mMC running β₁=Inf, β₂=1.0 100%|█████████████████████████| Time: 0:00:02\u001b[39m\n"
     ]
    },
    {
     "name": "stdout",
     "output_type": "stream",
     "text": [
      "Temperature 2 of 3:(β₁=Inf,β₂=1.0). Distortion 0.446. Acceptance 44%\n"
     ]
    },
    {
     "name": "stderr",
     "output_type": "stream",
     "text": [
      "\u001b[32mMC running β₁=Inf, β₂=10.0 100%|████████████████████████| Time: 0:00:02\u001b[39m\n"
     ]
    },
    {
     "name": "stdout",
     "output_type": "stream",
     "text": [
      "Temperature 3 of 3:(β₁=Inf,β₂=10.0). Distortion 0.431. Acceptance 50%\n",
      "# Finished iter 63 of 100: Parity 0. Distortion 0.431 at β₁=Inf, β₂=10.0.\n",
      "\n"
     ]
    },
    {
     "name": "stderr",
     "output_type": "stream",
     "text": [
      "\u001b[32mMC running β₁=Inf, β₂=0.1 100%|█████████████████████████| Time: 0:00:02\u001b[39m\n"
     ]
    },
    {
     "name": "stdout",
     "output_type": "stream",
     "text": [
      "Temperature 1 of 3:(β₁=Inf,β₂=0.1). Distortion 0.458. Acceptance 28%\n"
     ]
    },
    {
     "name": "stderr",
     "output_type": "stream",
     "text": [
      "\u001b[32mMC running β₁=Inf, β₂=1.0 100%|█████████████████████████| Time: 0:00:02\u001b[39m\n"
     ]
    },
    {
     "name": "stdout",
     "output_type": "stream",
     "text": [
      "Temperature 2 of 3:(β₁=Inf,β₂=1.0). Distortion 0.427. Acceptance 41%\n"
     ]
    },
    {
     "name": "stderr",
     "output_type": "stream",
     "text": [
      "\u001b[32mMC running β₁=Inf, β₂=10.0 100%|████████████████████████| Time: 0:00:02\u001b[39m\n"
     ]
    },
    {
     "name": "stdout",
     "output_type": "stream",
     "text": [
      "Temperature 3 of 3:(β₁=Inf,β₂=10.0). Distortion 0.406. Acceptance 46%\n",
      "# Finished iter 64 of 100: Parity 0. Distortion 0.406 at β₁=Inf, β₂=10.0.\n",
      "\n"
     ]
    },
    {
     "name": "stderr",
     "output_type": "stream",
     "text": [
      "\u001b[32mMC running β₁=Inf, β₂=0.1 100%|█████████████████████████| Time: 0:00:02\u001b[39m\n"
     ]
    },
    {
     "name": "stdout",
     "output_type": "stream",
     "text": [
      "Temperature 1 of 3:(β₁=Inf,β₂=0.1). Distortion 0.467. Acceptance 31%\n"
     ]
    },
    {
     "name": "stderr",
     "output_type": "stream",
     "text": [
      "\u001b[32mMC running β₁=Inf, β₂=1.0 100%|█████████████████████████| Time: 0:00:02\u001b[39m\n"
     ]
    },
    {
     "name": "stdout",
     "output_type": "stream",
     "text": [
      "Temperature 2 of 3:(β₁=Inf,β₂=1.0). Distortion 0.434. Acceptance 47%\n"
     ]
    },
    {
     "name": "stderr",
     "output_type": "stream",
     "text": [
      "\u001b[32mMC running β₁=Inf, β₂=10.0 100%|████████████████████████| Time: 0:00:02\u001b[39m\n"
     ]
    },
    {
     "name": "stdout",
     "output_type": "stream",
     "text": [
      "Temperature 3 of 3:(β₁=Inf,β₂=10.0). Distortion 0.414. Acceptance 53%\n",
      "# Finished iter 65 of 100: Parity 0. Distortion 0.414 at β₁=Inf, β₂=10.0.\n",
      "\n"
     ]
    },
    {
     "name": "stderr",
     "output_type": "stream",
     "text": [
      "\u001b[32mMC running β₁=Inf, β₂=0.1 100%|█████████████████████████| Time: 0:00:02\u001b[39m\n"
     ]
    },
    {
     "name": "stdout",
     "output_type": "stream",
     "text": [
      "Temperature 1 of 3:(β₁=Inf,β₂=0.1). Distortion 0.483. Acceptance 29%\n"
     ]
    },
    {
     "name": "stderr",
     "output_type": "stream",
     "text": [
      "\u001b[32mMC running β₁=Inf, β₂=1.0 100%|█████████████████████████| Time: 0:00:02\u001b[39m\n"
     ]
    },
    {
     "name": "stdout",
     "output_type": "stream",
     "text": [
      "Temperature 2 of 3:(β₁=Inf,β₂=1.0). Distortion 0.449. Acceptance 45%\n"
     ]
    },
    {
     "name": "stderr",
     "output_type": "stream",
     "text": [
      "\u001b[32mMC running β₁=Inf, β₂=10.0 100%|████████████████████████| Time: 0:00:02\u001b[39m\n"
     ]
    },
    {
     "name": "stdout",
     "output_type": "stream",
     "text": [
      "Temperature 3 of 3:(β₁=Inf,β₂=10.0). Distortion 0.432. Acceptance 52%\n",
      "# Finished iter 66 of 100: Parity 0. Distortion 0.432 at β₁=Inf, β₂=10.0.\n",
      "\n"
     ]
    },
    {
     "name": "stderr",
     "output_type": "stream",
     "text": [
      "\u001b[32mMC running β₁=Inf, β₂=0.1 100%|█████████████████████████| Time: 0:00:02\u001b[39m\n"
     ]
    },
    {
     "name": "stdout",
     "output_type": "stream",
     "text": [
      "Temperature 1 of 3:(β₁=Inf,β₂=0.1). Distortion 0.503. Acceptance 29%\n"
     ]
    },
    {
     "name": "stderr",
     "output_type": "stream",
     "text": [
      "\u001b[32mMC running β₁=Inf, β₂=1.0 100%|█████████████████████████| Time: 0:00:02\u001b[39m\n"
     ]
    },
    {
     "name": "stdout",
     "output_type": "stream",
     "text": [
      "Temperature 2 of 3:(β₁=Inf,β₂=1.0). Distortion 0.465. Acceptance 41%\n"
     ]
    },
    {
     "name": "stderr",
     "output_type": "stream",
     "text": [
      "\u001b[32mMC running β₁=Inf, β₂=10.0 100%|████████████████████████| Time: 0:00:02\u001b[39m\n"
     ]
    },
    {
     "name": "stdout",
     "output_type": "stream",
     "text": [
      "Temperature 3 of 3:(β₁=Inf,β₂=10.0). Distortion 0.45. Acceptance 47%\n",
      "# Finished iter 67 of 100: Parity 0. Distortion 0.450 at β₁=Inf, β₂=10.0.\n",
      "\n"
     ]
    },
    {
     "name": "stderr",
     "output_type": "stream",
     "text": [
      "\u001b[32mMC running β₁=Inf, β₂=0.1 100%|█████████████████████████| Time: 0:00:02\u001b[39m\n"
     ]
    },
    {
     "name": "stdout",
     "output_type": "stream",
     "text": [
      "Temperature 1 of 3:(β₁=Inf,β₂=0.1). Distortion 0.457. Acceptance 31%\n"
     ]
    },
    {
     "name": "stderr",
     "output_type": "stream",
     "text": [
      "\u001b[32mMC running β₁=Inf, β₂=1.0 100%|█████████████████████████| Time: 0:00:02\u001b[39m\n"
     ]
    },
    {
     "name": "stdout",
     "output_type": "stream",
     "text": [
      "Temperature 2 of 3:(β₁=Inf,β₂=1.0). Distortion 0.433. Acceptance 43%\n"
     ]
    },
    {
     "name": "stderr",
     "output_type": "stream",
     "text": [
      "\u001b[32mMC running β₁=Inf, β₂=10.0 100%|████████████████████████| Time: 0:00:02\u001b[39m\n"
     ]
    },
    {
     "name": "stdout",
     "output_type": "stream",
     "text": [
      "Temperature 3 of 3:(β₁=Inf,β₂=10.0). Distortion 0.413. Acceptance 50%\n",
      "# Finished iter 68 of 100: Parity 0. Distortion 0.413 at β₁=Inf, β₂=10.0.\n",
      "\n"
     ]
    },
    {
     "name": "stderr",
     "output_type": "stream",
     "text": [
      "\u001b[32mMC running β₁=Inf, β₂=0.1 100%|█████████████████████████| Time: 0:00:02\u001b[39m\n"
     ]
    },
    {
     "name": "stdout",
     "output_type": "stream",
     "text": [
      "Temperature 1 of 3:(β₁=Inf,β₂=0.1). Distortion 0.492. Acceptance 30%\n"
     ]
    },
    {
     "name": "stderr",
     "output_type": "stream",
     "text": [
      "\u001b[32mMC running β₁=Inf, β₂=1.0 100%|█████████████████████████| Time: 0:00:02\u001b[39m\n"
     ]
    },
    {
     "name": "stdout",
     "output_type": "stream",
     "text": [
      "Temperature 2 of 3:(β₁=Inf,β₂=1.0). Distortion 0.453. Acceptance 42%\n"
     ]
    },
    {
     "name": "stderr",
     "output_type": "stream",
     "text": [
      "\u001b[32mMC running β₁=Inf, β₂=10.0 100%|████████████████████████| Time: 0:00:02\u001b[39m\n"
     ]
    },
    {
     "name": "stdout",
     "output_type": "stream",
     "text": [
      "Temperature 3 of 3:(β₁=Inf,β₂=10.0). Distortion 0.437. Acceptance 45%\n",
      "# Finished iter 69 of 100: Parity 0. Distortion 0.437 at β₁=Inf, β₂=10.0.\n",
      "\n"
     ]
    },
    {
     "name": "stderr",
     "output_type": "stream",
     "text": [
      "\u001b[32mMC running β₁=Inf, β₂=0.1 100%|█████████████████████████| Time: 0:00:02\u001b[39m\n"
     ]
    },
    {
     "name": "stdout",
     "output_type": "stream",
     "text": [
      "Temperature 1 of 3:(β₁=Inf,β₂=0.1). Distortion 0.486. Acceptance 31%\n"
     ]
    },
    {
     "name": "stderr",
     "output_type": "stream",
     "text": [
      "\u001b[32mMC running β₁=Inf, β₂=1.0 100%|█████████████████████████| Time: 0:00:02\u001b[39m\n"
     ]
    },
    {
     "name": "stdout",
     "output_type": "stream",
     "text": [
      "Temperature 2 of 3:(β₁=Inf,β₂=1.0). Distortion 0.436. Acceptance 47%\n"
     ]
    },
    {
     "name": "stderr",
     "output_type": "stream",
     "text": [
      "\u001b[32mMC running β₁=Inf, β₂=10.0 100%|████████████████████████| Time: 0:00:02\u001b[39m\n"
     ]
    },
    {
     "name": "stdout",
     "output_type": "stream",
     "text": [
      "Temperature 3 of 3:(β₁=Inf,β₂=10.0). Distortion 0.423. Acceptance 53%\n",
      "# Finished iter 70 of 100: Parity 0. Distortion 0.423 at β₁=Inf, β₂=10.0.\n",
      "\n"
     ]
    },
    {
     "name": "stderr",
     "output_type": "stream",
     "text": [
      "\u001b[32mMC running β₁=Inf, β₂=0.1 100%|█████████████████████████| Time: 0:00:02\u001b[39m\n"
     ]
    },
    {
     "name": "stdout",
     "output_type": "stream",
     "text": [
      "Temperature 1 of 3:(β₁=Inf,β₂=0.1). Distortion 0.484. Acceptance 29%\n"
     ]
    },
    {
     "name": "stderr",
     "output_type": "stream",
     "text": [
      "\u001b[32mMC running β₁=Inf, β₂=1.0 100%|█████████████████████████| Time: 0:00:02\u001b[39m\n"
     ]
    },
    {
     "name": "stdout",
     "output_type": "stream",
     "text": [
      "Temperature 2 of 3:(β₁=Inf,β₂=1.0). Distortion 0.452. Acceptance 42%\n"
     ]
    },
    {
     "name": "stderr",
     "output_type": "stream",
     "text": [
      "\u001b[32mMC running β₁=Inf, β₂=10.0 100%|████████████████████████| Time: 0:00:02\u001b[39m\n"
     ]
    },
    {
     "name": "stdout",
     "output_type": "stream",
     "text": [
      "Temperature 3 of 3:(β₁=Inf,β₂=10.0). Distortion 0.436. Acceptance 48%\n",
      "# Finished iter 71 of 100: Parity 0. Distortion 0.436 at β₁=Inf, β₂=10.0.\n",
      "\n"
     ]
    },
    {
     "name": "stderr",
     "output_type": "stream",
     "text": [
      "\u001b[32mMC running β₁=Inf, β₂=0.1 100%|█████████████████████████| Time: 0:00:02\u001b[39m\n"
     ]
    },
    {
     "name": "stdout",
     "output_type": "stream",
     "text": [
      "Temperature 1 of 3:(β₁=Inf,β₂=0.1). Distortion 0.474. Acceptance 30%\n"
     ]
    },
    {
     "name": "stderr",
     "output_type": "stream",
     "text": [
      "\u001b[32mMC running β₁=Inf, β₂=1.0 100%|█████████████████████████| Time: 0:00:02\u001b[39m\n"
     ]
    },
    {
     "name": "stdout",
     "output_type": "stream",
     "text": [
      "Temperature 2 of 3:(β₁=Inf,β₂=1.0). Distortion 0.433. Acceptance 49%\n"
     ]
    },
    {
     "name": "stderr",
     "output_type": "stream",
     "text": [
      "\u001b[32mMC running β₁=Inf, β₂=10.0 100%|████████████████████████| Time: 0:00:02\u001b[39m\n"
     ]
    },
    {
     "name": "stdout",
     "output_type": "stream",
     "text": [
      "Temperature 3 of 3:(β₁=Inf,β₂=10.0). Distortion 0.419. Acceptance 53%\n",
      "# Finished iter 72 of 100: Parity 0. Distortion 0.419 at β₁=Inf, β₂=10.0.\n",
      "\n"
     ]
    },
    {
     "name": "stderr",
     "output_type": "stream",
     "text": [
      "\u001b[32mMC running β₁=Inf, β₂=0.1 100%|█████████████████████████| Time: 0:00:02\u001b[39m\n"
     ]
    },
    {
     "name": "stdout",
     "output_type": "stream",
     "text": [
      "Temperature 1 of 3:(β₁=Inf,β₂=0.1). Distortion 0.48. Acceptance 31%\n"
     ]
    },
    {
     "name": "stderr",
     "output_type": "stream",
     "text": [
      "\u001b[32mMC running β₁=Inf, β₂=1.0 100%|█████████████████████████| Time: 0:00:02\u001b[39m\n"
     ]
    },
    {
     "name": "stdout",
     "output_type": "stream",
     "text": [
      "Temperature 2 of 3:(β₁=Inf,β₂=1.0). Distortion 0.45. Acceptance 42%\n"
     ]
    },
    {
     "name": "stderr",
     "output_type": "stream",
     "text": [
      "\u001b[32mMC running β₁=Inf, β₂=10.0 100%|████████████████████████| Time: 0:00:02\u001b[39m\n"
     ]
    },
    {
     "name": "stdout",
     "output_type": "stream",
     "text": [
      "Temperature 3 of 3:(β₁=Inf,β₂=10.0). Distortion 0.427. Acceptance 48%\n",
      "# Finished iter 73 of 100: Parity 0. Distortion 0.427 at β₁=Inf, β₂=10.0.\n",
      "\n"
     ]
    },
    {
     "name": "stderr",
     "output_type": "stream",
     "text": [
      "\u001b[32mMC running β₁=Inf, β₂=0.1 100%|█████████████████████████| Time: 0:00:02\u001b[39m\n"
     ]
    },
    {
     "name": "stdout",
     "output_type": "stream",
     "text": [
      "Temperature 1 of 3:(β₁=Inf,β₂=0.1). Distortion 0.482. Acceptance 28%\n"
     ]
    },
    {
     "name": "stderr",
     "output_type": "stream",
     "text": [
      "\u001b[32mMC running β₁=Inf, β₂=1.0 100%|█████████████████████████| Time: 0:00:02\u001b[39m\n"
     ]
    },
    {
     "name": "stdout",
     "output_type": "stream",
     "text": [
      "Temperature 2 of 3:(β₁=Inf,β₂=1.0). Distortion 0.429. Acceptance 43%\n"
     ]
    },
    {
     "name": "stderr",
     "output_type": "stream",
     "text": [
      "\u001b[32mMC running β₁=Inf, β₂=10.0 100%|████████████████████████| Time: 0:00:02\u001b[39m\n"
     ]
    },
    {
     "name": "stdout",
     "output_type": "stream",
     "text": [
      "Temperature 3 of 3:(β₁=Inf,β₂=10.0). Distortion 0.419. Acceptance 51%\n",
      "# Finished iter 74 of 100: Parity 0. Distortion 0.419 at β₁=Inf, β₂=10.0.\n",
      "\n"
     ]
    },
    {
     "name": "stderr",
     "output_type": "stream",
     "text": [
      "\u001b[32mMC running β₁=Inf, β₂=0.1 100%|█████████████████████████| Time: 0:00:02\u001b[39m\n"
     ]
    },
    {
     "name": "stdout",
     "output_type": "stream",
     "text": [
      "Temperature 1 of 3:(β₁=Inf,β₂=0.1). Distortion 0.475. Acceptance 28%\n"
     ]
    },
    {
     "name": "stderr",
     "output_type": "stream",
     "text": [
      "\u001b[32mMC running β₁=Inf, β₂=1.0 100%|█████████████████████████| Time: 0:00:02\u001b[39m\n"
     ]
    },
    {
     "name": "stdout",
     "output_type": "stream",
     "text": [
      "Temperature 2 of 3:(β₁=Inf,β₂=1.0). Distortion 0.445. Acceptance 39%\n"
     ]
    },
    {
     "name": "stderr",
     "output_type": "stream",
     "text": [
      "\u001b[32mMC running β₁=Inf, β₂=10.0 100%|████████████████████████| Time: 0:00:02\u001b[39m\n"
     ]
    },
    {
     "name": "stdout",
     "output_type": "stream",
     "text": [
      "Temperature 3 of 3:(β₁=Inf,β₂=10.0). Distortion 0.43. Acceptance 42%\n",
      "# Finished iter 75 of 100: Parity 0. Distortion 0.430 at β₁=Inf, β₂=10.0.\n",
      "\n"
     ]
    },
    {
     "name": "stderr",
     "output_type": "stream",
     "text": [
      "\u001b[32mMC running β₁=Inf, β₂=0.1 100%|█████████████████████████| Time: 0:00:02\u001b[39m\n"
     ]
    },
    {
     "name": "stdout",
     "output_type": "stream",
     "text": [
      "Temperature 1 of 3:(β₁=Inf,β₂=0.1). Distortion 0.495. Acceptance 29%\n"
     ]
    },
    {
     "name": "stderr",
     "output_type": "stream",
     "text": [
      "\u001b[32mMC running β₁=Inf, β₂=1.0 100%|█████████████████████████| Time: 0:00:02\u001b[39m\n"
     ]
    },
    {
     "name": "stdout",
     "output_type": "stream",
     "text": [
      "Temperature 2 of 3:(β₁=Inf,β₂=1.0). Distortion 0.479. Acceptance 42%\n"
     ]
    },
    {
     "name": "stderr",
     "output_type": "stream",
     "text": [
      "\u001b[32mMC running β₁=Inf, β₂=10.0 100%|████████████████████████| Time: 0:00:02\u001b[39m\n"
     ]
    },
    {
     "name": "stdout",
     "output_type": "stream",
     "text": [
      "Temperature 3 of 3:(β₁=Inf,β₂=10.0). Distortion 0.449. Acceptance 50%\n",
      "# Finished iter 76 of 100: Parity 0. Distortion 0.449 at β₁=Inf, β₂=10.0.\n",
      "\n"
     ]
    },
    {
     "name": "stderr",
     "output_type": "stream",
     "text": [
      "\u001b[32mMC running β₁=Inf, β₂=0.1 100%|█████████████████████████| Time: 0:00:02\u001b[39m\n"
     ]
    },
    {
     "name": "stdout",
     "output_type": "stream",
     "text": [
      "Temperature 1 of 3:(β₁=Inf,β₂=0.1). Distortion 0.467. Acceptance 28%\n"
     ]
    },
    {
     "name": "stderr",
     "output_type": "stream",
     "text": [
      "\u001b[32mMC running β₁=Inf, β₂=1.0 100%|█████████████████████████| Time: 0:00:02\u001b[39m\n"
     ]
    },
    {
     "name": "stdout",
     "output_type": "stream",
     "text": [
      "Temperature 2 of 3:(β₁=Inf,β₂=1.0). Distortion 0.435. Acceptance 41%\n"
     ]
    },
    {
     "name": "stderr",
     "output_type": "stream",
     "text": [
      "\u001b[32mMC running β₁=Inf, β₂=10.0 100%|████████████████████████| Time: 0:00:02\u001b[39m\n"
     ]
    },
    {
     "name": "stdout",
     "output_type": "stream",
     "text": [
      "Temperature 3 of 3:(β₁=Inf,β₂=10.0). Distortion 0.414. Acceptance 46%\n",
      "# Finished iter 77 of 100: Parity 0. Distortion 0.414 at β₁=Inf, β₂=10.0.\n",
      "\n"
     ]
    },
    {
     "name": "stderr",
     "output_type": "stream",
     "text": [
      "\u001b[32mMC running β₁=Inf, β₂=0.1 100%|█████████████████████████| Time: 0:00:02\u001b[39m\n"
     ]
    },
    {
     "name": "stdout",
     "output_type": "stream",
     "text": [
      "Temperature 1 of 3:(β₁=Inf,β₂=0.1). Distortion 0.474. Acceptance 28%\n"
     ]
    },
    {
     "name": "stderr",
     "output_type": "stream",
     "text": [
      "\u001b[32mMC running β₁=Inf, β₂=1.0 100%|█████████████████████████| Time: 0:00:02\u001b[39m\n"
     ]
    },
    {
     "name": "stdout",
     "output_type": "stream",
     "text": [
      "Temperature 2 of 3:(β₁=Inf,β₂=1.0). Distortion 0.429. Acceptance 45%\n"
     ]
    },
    {
     "name": "stderr",
     "output_type": "stream",
     "text": [
      "\u001b[32mMC running β₁=Inf, β₂=10.0 100%|████████████████████████| Time: 0:00:02\u001b[39m\n"
     ]
    },
    {
     "name": "stdout",
     "output_type": "stream",
     "text": [
      "Temperature 3 of 3:(β₁=Inf,β₂=10.0). Distortion 0.407. Acceptance 53%\n",
      "# Finished iter 78 of 100: Parity 0. Distortion 0.407 at β₁=Inf, β₂=10.0.\n",
      "\n"
     ]
    },
    {
     "name": "stderr",
     "output_type": "stream",
     "text": [
      "\u001b[32mMC running β₁=Inf, β₂=0.1 100%|█████████████████████████| Time: 0:00:02\u001b[39m\n"
     ]
    },
    {
     "name": "stdout",
     "output_type": "stream",
     "text": [
      "Temperature 1 of 3:(β₁=Inf,β₂=0.1). Distortion 0.476. Acceptance 31%\n"
     ]
    },
    {
     "name": "stderr",
     "output_type": "stream",
     "text": [
      "\u001b[32mMC running β₁=Inf, β₂=1.0 100%|█████████████████████████| Time: 0:00:02\u001b[39m\n"
     ]
    },
    {
     "name": "stdout",
     "output_type": "stream",
     "text": [
      "Temperature 2 of 3:(β₁=Inf,β₂=1.0). Distortion 0.442. Acceptance 46%\n"
     ]
    },
    {
     "name": "stderr",
     "output_type": "stream",
     "text": [
      "\u001b[32mMC running β₁=Inf, β₂=10.0 100%|████████████████████████| Time: 0:00:02\u001b[39m\n"
     ]
    },
    {
     "name": "stdout",
     "output_type": "stream",
     "text": [
      "Temperature 3 of 3:(β₁=Inf,β₂=10.0). Distortion 0.419. Acceptance 52%\n",
      "# Finished iter 79 of 100: Parity 0. Distortion 0.419 at β₁=Inf, β₂=10.0.\n",
      "\n"
     ]
    },
    {
     "name": "stderr",
     "output_type": "stream",
     "text": [
      "\u001b[32mMC running β₁=Inf, β₂=0.1 100%|█████████████████████████| Time: 0:00:02\u001b[39m\n"
     ]
    },
    {
     "name": "stdout",
     "output_type": "stream",
     "text": [
      "Temperature 1 of 3:(β₁=Inf,β₂=0.1). Distortion 0.453. Acceptance 28%\n"
     ]
    },
    {
     "name": "stderr",
     "output_type": "stream",
     "text": [
      "\u001b[32mMC running β₁=Inf, β₂=1.0 100%|█████████████████████████| Time: 0:00:02\u001b[39m\n"
     ]
    },
    {
     "name": "stdout",
     "output_type": "stream",
     "text": [
      "Temperature 2 of 3:(β₁=Inf,β₂=1.0). Distortion 0.44. Acceptance 39%\n"
     ]
    },
    {
     "name": "stderr",
     "output_type": "stream",
     "text": [
      "\u001b[32mMC running β₁=Inf, β₂=10.0 100%|████████████████████████| Time: 0:00:02\u001b[39m\n"
     ]
    },
    {
     "name": "stdout",
     "output_type": "stream",
     "text": [
      "Temperature 3 of 3:(β₁=Inf,β₂=10.0). Distortion 0.432. Acceptance 43%\n",
      "# Finished iter 80 of 100: Parity 0. Distortion 0.432 at β₁=Inf, β₂=10.0.\n",
      "\n"
     ]
    },
    {
     "name": "stderr",
     "output_type": "stream",
     "text": [
      "\u001b[32mMC running β₁=Inf, β₂=0.1 100%|█████████████████████████| Time: 0:00:02\u001b[39m\n"
     ]
    },
    {
     "name": "stdout",
     "output_type": "stream",
     "text": [
      "Temperature 1 of 3:(β₁=Inf,β₂=0.1). Distortion 0.464. Acceptance 29%\n"
     ]
    },
    {
     "name": "stderr",
     "output_type": "stream",
     "text": [
      "\u001b[32mMC running β₁=Inf, β₂=1.0 100%|█████████████████████████| Time: 0:00:02\u001b[39m\n"
     ]
    },
    {
     "name": "stdout",
     "output_type": "stream",
     "text": [
      "Temperature 2 of 3:(β₁=Inf,β₂=1.0). Distortion 0.436. Acceptance 40%\n"
     ]
    },
    {
     "name": "stderr",
     "output_type": "stream",
     "text": [
      "\u001b[32mMC running β₁=Inf, β₂=10.0 100%|████████████████████████| Time: 0:00:02\u001b[39m\n"
     ]
    },
    {
     "name": "stdout",
     "output_type": "stream",
     "text": [
      "Temperature 3 of 3:(β₁=Inf,β₂=10.0). Distortion 0.42. Acceptance 44%\n",
      "# Finished iter 81 of 100: Parity 0. Distortion 0.420 at β₁=Inf, β₂=10.0.\n",
      "\n"
     ]
    },
    {
     "name": "stderr",
     "output_type": "stream",
     "text": [
      "\u001b[32mMC running β₁=Inf, β₂=0.1 100%|█████████████████████████| Time: 0:00:02\u001b[39m\n"
     ]
    },
    {
     "name": "stdout",
     "output_type": "stream",
     "text": [
      "Temperature 1 of 3:(β₁=Inf,β₂=0.1). Distortion 0.484. Acceptance 30%\n"
     ]
    },
    {
     "name": "stderr",
     "output_type": "stream",
     "text": [
      "\u001b[32mMC running β₁=Inf, β₂=1.0 100%|█████████████████████████| Time: 0:00:02\u001b[39m\n"
     ]
    },
    {
     "name": "stdout",
     "output_type": "stream",
     "text": [
      "Temperature 2 of 3:(β₁=Inf,β₂=1.0). Distortion 0.467. Acceptance 46%\n"
     ]
    },
    {
     "name": "stderr",
     "output_type": "stream",
     "text": [
      "\u001b[32mMC running β₁=Inf, β₂=10.0 100%|████████████████████████| Time: 0:00:02\u001b[39m\n"
     ]
    },
    {
     "name": "stdout",
     "output_type": "stream",
     "text": [
      "Temperature 3 of 3:(β₁=Inf,β₂=10.0). Distortion 0.45. Acceptance 53%\n",
      "# Finished iter 82 of 100: Parity 0. Distortion 0.450 at β₁=Inf, β₂=10.0.\n",
      "\n"
     ]
    },
    {
     "name": "stderr",
     "output_type": "stream",
     "text": [
      "\u001b[32mMC running β₁=Inf, β₂=0.1 100%|█████████████████████████| Time: 0:00:02\u001b[39m\n"
     ]
    },
    {
     "name": "stdout",
     "output_type": "stream",
     "text": [
      "Temperature 1 of 3:(β₁=Inf,β₂=0.1). Distortion 0.473. Acceptance 30%\n"
     ]
    },
    {
     "name": "stderr",
     "output_type": "stream",
     "text": [
      "\u001b[32mMC running β₁=Inf, β₂=1.0 100%|█████████████████████████| Time: 0:00:02\u001b[39m\n"
     ]
    },
    {
     "name": "stdout",
     "output_type": "stream",
     "text": [
      "Temperature 2 of 3:(β₁=Inf,β₂=1.0). Distortion 0.449. Acceptance 42%\n"
     ]
    },
    {
     "name": "stderr",
     "output_type": "stream",
     "text": [
      "\u001b[32mMC running β₁=Inf, β₂=10.0 100%|████████████████████████| Time: 0:00:02\u001b[39m\n"
     ]
    },
    {
     "name": "stdout",
     "output_type": "stream",
     "text": [
      "Temperature 3 of 3:(β₁=Inf,β₂=10.0). Distortion 0.439. Acceptance 46%\n",
      "# Finished iter 83 of 100: Parity 0. Distortion 0.439 at β₁=Inf, β₂=10.0.\n",
      "\n"
     ]
    },
    {
     "name": "stderr",
     "output_type": "stream",
     "text": [
      "\u001b[32mMC running β₁=Inf, β₂=0.1 100%|█████████████████████████| Time: 0:00:02\u001b[39m\n"
     ]
    },
    {
     "name": "stdout",
     "output_type": "stream",
     "text": [
      "Temperature 1 of 3:(β₁=Inf,β₂=0.1). Distortion 0.471. Acceptance 29%\n"
     ]
    },
    {
     "name": "stderr",
     "output_type": "stream",
     "text": [
      "\u001b[32mMC running β₁=Inf, β₂=1.0 100%|█████████████████████████| Time: 0:00:02\u001b[39m\n"
     ]
    },
    {
     "name": "stdout",
     "output_type": "stream",
     "text": [
      "Temperature 2 of 3:(β₁=Inf,β₂=1.0). Distortion 0.447. Acceptance 44%\n"
     ]
    },
    {
     "name": "stderr",
     "output_type": "stream",
     "text": [
      "\u001b[32mMC running β₁=Inf, β₂=10.0 100%|████████████████████████| Time: 0:00:02\u001b[39m\n"
     ]
    },
    {
     "name": "stdout",
     "output_type": "stream",
     "text": [
      "Temperature 3 of 3:(β₁=Inf,β₂=10.0). Distortion 0.416. Acceptance 53%\n",
      "# Finished iter 84 of 100: Parity 0. Distortion 0.416 at β₁=Inf, β₂=10.0.\n",
      "\n"
     ]
    },
    {
     "name": "stderr",
     "output_type": "stream",
     "text": [
      "\u001b[32mMC running β₁=Inf, β₂=0.1 100%|█████████████████████████| Time: 0:00:02\u001b[39m\n"
     ]
    },
    {
     "name": "stdout",
     "output_type": "stream",
     "text": [
      "Temperature 1 of 3:(β₁=Inf,β₂=0.1). Distortion 0.464. Acceptance 29%\n"
     ]
    },
    {
     "name": "stderr",
     "output_type": "stream",
     "text": [
      "\u001b[32mMC running β₁=Inf, β₂=1.0 100%|█████████████████████████| Time: 0:00:02\u001b[39m\n"
     ]
    },
    {
     "name": "stdout",
     "output_type": "stream",
     "text": [
      "Temperature 2 of 3:(β₁=Inf,β₂=1.0). Distortion 0.449. Acceptance 42%\n"
     ]
    },
    {
     "name": "stderr",
     "output_type": "stream",
     "text": [
      "\u001b[32mMC running β₁=Inf, β₂=10.0 100%|████████████████████████| Time: 0:00:02\u001b[39m\n"
     ]
    },
    {
     "name": "stdout",
     "output_type": "stream",
     "text": [
      "Temperature 3 of 3:(β₁=Inf,β₂=10.0). Distortion 0.427. Acceptance 49%\n",
      "# Finished iter 85 of 100: Parity 0. Distortion 0.427 at β₁=Inf, β₂=10.0.\n",
      "\n"
     ]
    },
    {
     "name": "stderr",
     "output_type": "stream",
     "text": [
      "\u001b[32mMC running β₁=Inf, β₂=0.1 100%|█████████████████████████| Time: 0:00:02\u001b[39m\n"
     ]
    },
    {
     "name": "stdout",
     "output_type": "stream",
     "text": [
      "Temperature 1 of 3:(β₁=Inf,β₂=0.1). Distortion 0.484. Acceptance 29%\n"
     ]
    },
    {
     "name": "stderr",
     "output_type": "stream",
     "text": [
      "\u001b[32mMC running β₁=Inf, β₂=1.0 100%|█████████████████████████| Time: 0:00:02\u001b[39m\n"
     ]
    },
    {
     "name": "stdout",
     "output_type": "stream",
     "text": [
      "Temperature 2 of 3:(β₁=Inf,β₂=1.0). Distortion 0.449. Acceptance 41%\n"
     ]
    },
    {
     "name": "stderr",
     "output_type": "stream",
     "text": [
      "\u001b[32mMC running β₁=Inf, β₂=10.0 100%|████████████████████████| Time: 0:00:02\u001b[39m\n"
     ]
    },
    {
     "name": "stdout",
     "output_type": "stream",
     "text": [
      "Temperature 3 of 3:(β₁=Inf,β₂=10.0). Distortion 0.434. Acceptance 46%\n",
      "# Finished iter 86 of 100: Parity 0. Distortion 0.434 at β₁=Inf, β₂=10.0.\n",
      "\n"
     ]
    },
    {
     "name": "stderr",
     "output_type": "stream",
     "text": [
      "\u001b[32mMC running β₁=Inf, β₂=0.1 100%|█████████████████████████| Time: 0:00:02\u001b[39m\n"
     ]
    },
    {
     "name": "stdout",
     "output_type": "stream",
     "text": [
      "Temperature 1 of 3:(β₁=Inf,β₂=0.1). Distortion 0.46. Acceptance 28%\n"
     ]
    },
    {
     "name": "stderr",
     "output_type": "stream",
     "text": [
      "\u001b[32mMC running β₁=Inf, β₂=1.0 100%|█████████████████████████| Time: 0:00:02\u001b[39m\n"
     ]
    },
    {
     "name": "stdout",
     "output_type": "stream",
     "text": [
      "Temperature 2 of 3:(β₁=Inf,β₂=1.0). Distortion 0.433. Acceptance 40%\n"
     ]
    },
    {
     "name": "stderr",
     "output_type": "stream",
     "text": [
      "\u001b[32mMC running β₁=Inf, β₂=10.0 100%|████████████████████████| Time: 0:00:02\u001b[39m\n"
     ]
    },
    {
     "name": "stdout",
     "output_type": "stream",
     "text": [
      "Temperature 3 of 3:(β₁=Inf,β₂=10.0). Distortion 0.402. Acceptance 47%\n",
      "# Finished iter 87 of 100: Parity 0. Distortion 0.402 at β₁=Inf, β₂=10.0.\n",
      "\n"
     ]
    },
    {
     "name": "stderr",
     "output_type": "stream",
     "text": [
      "\u001b[32mMC running β₁=Inf, β₂=0.1 100%|█████████████████████████| Time: 0:00:02\u001b[39m\n"
     ]
    },
    {
     "name": "stdout",
     "output_type": "stream",
     "text": [
      "Temperature 1 of 3:(β₁=Inf,β₂=0.1). Distortion 0.478. Acceptance 31%\n"
     ]
    },
    {
     "name": "stderr",
     "output_type": "stream",
     "text": [
      "\u001b[32mMC running β₁=Inf, β₂=1.0 100%|█████████████████████████| Time: 0:00:02\u001b[39m\n"
     ]
    },
    {
     "name": "stdout",
     "output_type": "stream",
     "text": [
      "Temperature 2 of 3:(β₁=Inf,β₂=1.0). Distortion 0.452. Acceptance 46%\n"
     ]
    },
    {
     "name": "stderr",
     "output_type": "stream",
     "text": [
      "\u001b[32mMC running β₁=Inf, β₂=10.0 100%|████████████████████████| Time: 0:00:02\u001b[39m\n"
     ]
    },
    {
     "name": "stdout",
     "output_type": "stream",
     "text": [
      "Temperature 3 of 3:(β₁=Inf,β₂=10.0). Distortion 0.428. Acceptance 52%\n",
      "# Finished iter 88 of 100: Parity 0. Distortion 0.428 at β₁=Inf, β₂=10.0.\n",
      "\n"
     ]
    },
    {
     "name": "stderr",
     "output_type": "stream",
     "text": [
      "\u001b[32mMC running β₁=Inf, β₂=0.1 100%|█████████████████████████| Time: 0:00:02\u001b[39m\n"
     ]
    },
    {
     "name": "stdout",
     "output_type": "stream",
     "text": [
      "Temperature 1 of 3:(β₁=Inf,β₂=0.1). Distortion 0.484. Acceptance 30%\n"
     ]
    },
    {
     "name": "stderr",
     "output_type": "stream",
     "text": [
      "\u001b[32mMC running β₁=Inf, β₂=1.0 100%|█████████████████████████| Time: 0:00:02\u001b[39m\n"
     ]
    },
    {
     "name": "stdout",
     "output_type": "stream",
     "text": [
      "Temperature 2 of 3:(β₁=Inf,β₂=1.0). Distortion 0.452. Acceptance 42%\n"
     ]
    },
    {
     "name": "stderr",
     "output_type": "stream",
     "text": [
      "\u001b[32mMC running β₁=Inf, β₂=10.0 100%|████████████████████████| Time: 0:00:02\u001b[39m\n"
     ]
    },
    {
     "name": "stdout",
     "output_type": "stream",
     "text": [
      "Temperature 3 of 3:(β₁=Inf,β₂=10.0). Distortion 0.441. Acceptance 46%\n",
      "# Finished iter 89 of 100: Parity 0. Distortion 0.441 at β₁=Inf, β₂=10.0.\n",
      "\n"
     ]
    },
    {
     "name": "stderr",
     "output_type": "stream",
     "text": [
      "\u001b[32mMC running β₁=Inf, β₂=0.1 100%|█████████████████████████| Time: 0:00:02\u001b[39m\n"
     ]
    },
    {
     "name": "stdout",
     "output_type": "stream",
     "text": [
      "Temperature 1 of 3:(β₁=Inf,β₂=0.1). Distortion 0.474. Acceptance 29%\n"
     ]
    },
    {
     "name": "stderr",
     "output_type": "stream",
     "text": [
      "\u001b[32mMC running β₁=Inf, β₂=1.0 100%|█████████████████████████| Time: 0:00:02\u001b[39m\n"
     ]
    },
    {
     "name": "stdout",
     "output_type": "stream",
     "text": [
      "Temperature 2 of 3:(β₁=Inf,β₂=1.0). Distortion 0.465. Acceptance 45%\n"
     ]
    },
    {
     "name": "stderr",
     "output_type": "stream",
     "text": [
      "\u001b[32mMC running β₁=Inf, β₂=10.0 100%|████████████████████████| Time: 0:00:02\u001b[39m\n"
     ]
    },
    {
     "name": "stdout",
     "output_type": "stream",
     "text": [
      "Temperature 3 of 3:(β₁=Inf,β₂=10.0). Distortion 0.443. Acceptance 50%\n",
      "# Finished iter 90 of 100: Parity 0. Distortion 0.443 at β₁=Inf, β₂=10.0.\n",
      "\n"
     ]
    },
    {
     "name": "stderr",
     "output_type": "stream",
     "text": [
      "\u001b[32mMC running β₁=Inf, β₂=0.1 100%|█████████████████████████| Time: 0:00:02\u001b[39m\n"
     ]
    },
    {
     "name": "stdout",
     "output_type": "stream",
     "text": [
      "Temperature 1 of 3:(β₁=Inf,β₂=0.1). Distortion 0.508. Acceptance 28%\n"
     ]
    },
    {
     "name": "stderr",
     "output_type": "stream",
     "text": [
      "\u001b[32mMC running β₁=Inf, β₂=1.0 100%|█████████████████████████| Time: 0:00:02\u001b[39m\n"
     ]
    },
    {
     "name": "stdout",
     "output_type": "stream",
     "text": [
      "Temperature 2 of 3:(β₁=Inf,β₂=1.0). Distortion 0.465. Acceptance 41%\n"
     ]
    },
    {
     "name": "stderr",
     "output_type": "stream",
     "text": [
      "\u001b[32mMC running β₁=Inf, β₂=10.0 100%|████████████████████████| Time: 0:00:02\u001b[39m\n"
     ]
    },
    {
     "name": "stdout",
     "output_type": "stream",
     "text": [
      "Temperature 3 of 3:(β₁=Inf,β₂=10.0). Distortion 0.449. Acceptance 46%\n",
      "# Finished iter 91 of 100: Parity 0. Distortion 0.449 at β₁=Inf, β₂=10.0.\n",
      "\n"
     ]
    },
    {
     "name": "stderr",
     "output_type": "stream",
     "text": [
      "\u001b[32mMC running β₁=Inf, β₂=0.1 100%|█████████████████████████| Time: 0:00:02\u001b[39m\n"
     ]
    },
    {
     "name": "stdout",
     "output_type": "stream",
     "text": [
      "Temperature 1 of 3:(β₁=Inf,β₂=0.1). Distortion 0.474. Acceptance 29%\n"
     ]
    },
    {
     "name": "stderr",
     "output_type": "stream",
     "text": [
      "\u001b[32mMC running β₁=Inf, β₂=1.0 100%|█████████████████████████| Time: 0:00:02\u001b[39m\n"
     ]
    },
    {
     "name": "stdout",
     "output_type": "stream",
     "text": [
      "Temperature 2 of 3:(β₁=Inf,β₂=1.0). Distortion 0.461. Acceptance 43%\n"
     ]
    },
    {
     "name": "stderr",
     "output_type": "stream",
     "text": [
      "\u001b[32mMC running β₁=Inf, β₂=10.0 100%|████████████████████████| Time: 0:00:02\u001b[39m\n"
     ]
    },
    {
     "name": "stdout",
     "output_type": "stream",
     "text": [
      "Temperature 3 of 3:(β₁=Inf,β₂=10.0). Distortion 0.45. Acceptance 51%\n",
      "# Finished iter 92 of 100: Parity 0. Distortion 0.450 at β₁=Inf, β₂=10.0.\n",
      "\n"
     ]
    },
    {
     "name": "stderr",
     "output_type": "stream",
     "text": [
      "\u001b[32mMC running β₁=Inf, β₂=0.1 100%|█████████████████████████| Time: 0:00:02\u001b[39m\n"
     ]
    },
    {
     "name": "stdout",
     "output_type": "stream",
     "text": [
      "Temperature 1 of 3:(β₁=Inf,β₂=0.1). Distortion 0.458. Acceptance 30%\n"
     ]
    },
    {
     "name": "stderr",
     "output_type": "stream",
     "text": [
      "\u001b[32mMC running β₁=Inf, β₂=1.0 100%|█████████████████████████| Time: 0:00:02\u001b[39m\n"
     ]
    },
    {
     "name": "stdout",
     "output_type": "stream",
     "text": [
      "Temperature 2 of 3:(β₁=Inf,β₂=1.0). Distortion 0.425. Acceptance 46%\n"
     ]
    },
    {
     "name": "stderr",
     "output_type": "stream",
     "text": [
      "\u001b[32mMC running β₁=Inf, β₂=10.0 100%|████████████████████████| Time: 0:00:02\u001b[39m\n"
     ]
    },
    {
     "name": "stdout",
     "output_type": "stream",
     "text": [
      "Temperature 3 of 3:(β₁=Inf,β₂=10.0). Distortion 0.414. Acceptance 49%\n",
      "# Finished iter 93 of 100: Parity 0. Distortion 0.414 at β₁=Inf, β₂=10.0.\n",
      "\n"
     ]
    },
    {
     "name": "stderr",
     "output_type": "stream",
     "text": [
      "\u001b[32mMC running β₁=Inf, β₂=0.1 100%|█████████████████████████| Time: 0:00:02\u001b[39m\n"
     ]
    },
    {
     "name": "stdout",
     "output_type": "stream",
     "text": [
      "Temperature 1 of 3:(β₁=Inf,β₂=0.1). Distortion 0.473. Acceptance 30%\n"
     ]
    },
    {
     "name": "stderr",
     "output_type": "stream",
     "text": [
      "\u001b[32mMC running β₁=Inf, β₂=1.0 100%|█████████████████████████| Time: 0:00:02\u001b[39m\n"
     ]
    },
    {
     "name": "stdout",
     "output_type": "stream",
     "text": [
      "Temperature 2 of 3:(β₁=Inf,β₂=1.0). Distortion 0.445. Acceptance 44%\n"
     ]
    },
    {
     "name": "stderr",
     "output_type": "stream",
     "text": [
      "\u001b[32mMC running β₁=Inf, β₂=10.0 100%|████████████████████████| Time: 0:00:02\u001b[39m\n"
     ]
    },
    {
     "name": "stdout",
     "output_type": "stream",
     "text": [
      "Temperature 3 of 3:(β₁=Inf,β₂=10.0). Distortion 0.424. Acceptance 51%\n",
      "# Finished iter 94 of 100: Parity 0. Distortion 0.424 at β₁=Inf, β₂=10.0.\n",
      "\n"
     ]
    },
    {
     "name": "stderr",
     "output_type": "stream",
     "text": [
      "\u001b[32mMC running β₁=Inf, β₂=0.1 100%|█████████████████████████| Time: 0:00:02\u001b[39m\n"
     ]
    },
    {
     "name": "stdout",
     "output_type": "stream",
     "text": [
      "Temperature 1 of 3:(β₁=Inf,β₂=0.1). Distortion 0.467. Acceptance 29%\n"
     ]
    },
    {
     "name": "stderr",
     "output_type": "stream",
     "text": [
      "\u001b[32mMC running β₁=Inf, β₂=1.0 100%|█████████████████████████| Time: 0:00:02\u001b[39m\n"
     ]
    },
    {
     "name": "stdout",
     "output_type": "stream",
     "text": [
      "Temperature 2 of 3:(β₁=Inf,β₂=1.0). Distortion 0.43. Acceptance 43%\n"
     ]
    },
    {
     "name": "stderr",
     "output_type": "stream",
     "text": [
      "\u001b[32mMC running β₁=Inf, β₂=10.0 100%|████████████████████████| Time: 0:00:02\u001b[39m\n"
     ]
    },
    {
     "name": "stdout",
     "output_type": "stream",
     "text": [
      "Temperature 3 of 3:(β₁=Inf,β₂=10.0). Distortion 0.409. Acceptance 49%\n",
      "# Finished iter 95 of 100: Parity 0. Distortion 0.409 at β₁=Inf, β₂=10.0.\n",
      "\n"
     ]
    },
    {
     "name": "stderr",
     "output_type": "stream",
     "text": [
      "\u001b[32mMC running β₁=Inf, β₂=0.1 100%|█████████████████████████| Time: 0:00:02\u001b[39m\n"
     ]
    },
    {
     "name": "stdout",
     "output_type": "stream",
     "text": [
      "Temperature 1 of 3:(β₁=Inf,β₂=0.1). Distortion 0.466. Acceptance 29%\n"
     ]
    },
    {
     "name": "stderr",
     "output_type": "stream",
     "text": [
      "\u001b[32mMC running β₁=Inf, β₂=1.0 100%|█████████████████████████| Time: 0:00:02\u001b[39m\n"
     ]
    },
    {
     "name": "stdout",
     "output_type": "stream",
     "text": [
      "Temperature 2 of 3:(β₁=Inf,β₂=1.0). Distortion 0.45. Acceptance 44%\n"
     ]
    },
    {
     "name": "stderr",
     "output_type": "stream",
     "text": [
      "\u001b[32mMC running β₁=Inf, β₂=10.0 100%|████████████████████████| Time: 0:00:02\u001b[39m\n"
     ]
    },
    {
     "name": "stdout",
     "output_type": "stream",
     "text": [
      "Temperature 3 of 3:(β₁=Inf,β₂=10.0). Distortion 0.423. Acceptance 50%\n",
      "# Finished iter 96 of 100: Parity 0. Distortion 0.423 at β₁=Inf, β₂=10.0.\n",
      "\n"
     ]
    },
    {
     "name": "stderr",
     "output_type": "stream",
     "text": [
      "\u001b[32mMC running β₁=Inf, β₂=0.1 100%|█████████████████████████| Time: 0:00:02\u001b[39m\n"
     ]
    },
    {
     "name": "stdout",
     "output_type": "stream",
     "text": [
      "Temperature 1 of 3:(β₁=Inf,β₂=0.1). Distortion 0.492. Acceptance 28%\n"
     ]
    },
    {
     "name": "stderr",
     "output_type": "stream",
     "text": [
      "\u001b[32mMC running β₁=Inf, β₂=1.0 100%|█████████████████████████| Time: 0:00:02\u001b[39m\n"
     ]
    },
    {
     "name": "stdout",
     "output_type": "stream",
     "text": [
      "Temperature 2 of 3:(β₁=Inf,β₂=1.0). Distortion 0.453. Acceptance 42%\n"
     ]
    },
    {
     "name": "stderr",
     "output_type": "stream",
     "text": [
      "\u001b[32mMC running β₁=Inf, β₂=10.0 100%|████████████████████████| Time: 0:00:02\u001b[39m\n"
     ]
    },
    {
     "name": "stdout",
     "output_type": "stream",
     "text": [
      "Temperature 3 of 3:(β₁=Inf,β₂=10.0). Distortion 0.431. Acceptance 48%\n",
      "# Finished iter 97 of 100: Parity 0. Distortion 0.431 at β₁=Inf, β₂=10.0.\n",
      "\n"
     ]
    },
    {
     "name": "stderr",
     "output_type": "stream",
     "text": [
      "\u001b[32mMC running β₁=Inf, β₂=0.1 100%|█████████████████████████| Time: 0:00:02\u001b[39m\n"
     ]
    },
    {
     "name": "stdout",
     "output_type": "stream",
     "text": [
      "Temperature 1 of 3:(β₁=Inf,β₂=0.1). Distortion 0.476. Acceptance 30%\n"
     ]
    },
    {
     "name": "stderr",
     "output_type": "stream",
     "text": [
      "\u001b[32mMC running β₁=Inf, β₂=1.0 100%|█████████████████████████| Time: 0:00:02\u001b[39m\n"
     ]
    },
    {
     "name": "stdout",
     "output_type": "stream",
     "text": [
      "Temperature 2 of 3:(β₁=Inf,β₂=1.0). Distortion 0.448. Acceptance 44%\n"
     ]
    },
    {
     "name": "stderr",
     "output_type": "stream",
     "text": [
      "\u001b[32mMC running β₁=Inf, β₂=10.0 100%|████████████████████████| Time: 0:00:02\u001b[39m\n"
     ]
    },
    {
     "name": "stdout",
     "output_type": "stream",
     "text": [
      "Temperature 3 of 3:(β₁=Inf,β₂=10.0). Distortion 0.436. Acceptance 49%\n",
      "# Finished iter 98 of 100: Parity 0. Distortion 0.436 at β₁=Inf, β₂=10.0.\n",
      "\n"
     ]
    },
    {
     "name": "stderr",
     "output_type": "stream",
     "text": [
      "\u001b[32mMC running β₁=Inf, β₂=0.1 100%|█████████████████████████| Time: 0:00:02\u001b[39m\n"
     ]
    },
    {
     "name": "stdout",
     "output_type": "stream",
     "text": [
      "Temperature 1 of 3:(β₁=Inf,β₂=0.1). Distortion 0.481. Acceptance 28%\n"
     ]
    },
    {
     "name": "stderr",
     "output_type": "stream",
     "text": [
      "\u001b[32mMC running β₁=Inf, β₂=1.0 100%|█████████████████████████| Time: 0:00:02\u001b[39m\n"
     ]
    },
    {
     "name": "stdout",
     "output_type": "stream",
     "text": [
      "Temperature 2 of 3:(β₁=Inf,β₂=1.0). Distortion 0.452. Acceptance 43%\n"
     ]
    },
    {
     "name": "stderr",
     "output_type": "stream",
     "text": [
      "\u001b[32mMC running β₁=Inf, β₂=10.0 100%|████████████████████████| Time: 0:00:02\u001b[39m\n"
     ]
    },
    {
     "name": "stdout",
     "output_type": "stream",
     "text": [
      "Temperature 3 of 3:(β₁=Inf,β₂=10.0). Distortion 0.434. Acceptance 50%\n",
      "# Finished iter 99 of 100: Parity 0. Distortion 0.434 at β₁=Inf, β₂=10.0.\n",
      "\n"
     ]
    },
    {
     "name": "stderr",
     "output_type": "stream",
     "text": [
      "\u001b[32mMC running β₁=Inf, β₂=0.1 100%|█████████████████████████| Time: 0:00:02\u001b[39m\n"
     ]
    },
    {
     "name": "stdout",
     "output_type": "stream",
     "text": [
      "Temperature 1 of 3:(β₁=Inf,β₂=0.1). Distortion 0.454. Acceptance 28%\n"
     ]
    },
    {
     "name": "stderr",
     "output_type": "stream",
     "text": [
      "\u001b[32mMC running β₁=Inf, β₂=1.0 100%|█████████████████████████| Time: 0:00:02\u001b[39m\n"
     ]
    },
    {
     "name": "stdout",
     "output_type": "stream",
     "text": [
      "Temperature 2 of 3:(β₁=Inf,β₂=1.0). Distortion 0.43. Acceptance 39%\n"
     ]
    },
    {
     "name": "stderr",
     "output_type": "stream",
     "text": [
      "\u001b[32mMC running β₁=Inf, β₂=10.0 100%|████████████████████████| Time: 0:00:02\u001b[39m\n"
     ]
    },
    {
     "name": "stdout",
     "output_type": "stream",
     "text": [
      "Temperature 3 of 3:(β₁=Inf,β₂=10.0). Distortion 0.417. Acceptance 45%\n",
      "# Finished iter 100 of 100: Parity 0. Distortion 0.417 at β₁=Inf, β₂=10.0.\n",
      "\n",
      "##### b=3. 2 of 7 #####\n",
      "\n"
     ]
    },
    {
     "name": "stderr",
     "output_type": "stream",
     "text": [
      "\u001b[32mMC running β₁=Inf, β₂=0.1 100%|█████████████████████████| Time: 0:00:02\u001b[39m\n"
     ]
    },
    {
     "name": "stdout",
     "output_type": "stream",
     "text": [
      "Temperature 1 of 3:(β₁=Inf,β₂=0.1). Distortion 0.492. Acceptance 31%\n"
     ]
    },
    {
     "name": "stderr",
     "output_type": "stream",
     "text": [
      "\u001b[32mMC running β₁=Inf, β₂=1.0 100%|█████████████████████████| Time: 0:00:02\u001b[39m\n"
     ]
    },
    {
     "name": "stdout",
     "output_type": "stream",
     "text": [
      "Temperature 2 of 3:(β₁=Inf,β₂=1.0). Distortion 0.45. Acceptance 48%\n"
     ]
    },
    {
     "name": "stderr",
     "output_type": "stream",
     "text": [
      "\u001b[32mMC running β₁=Inf, β₂=10.0 100%|████████████████████████| Time: 0:00:02\u001b[39m\n"
     ]
    },
    {
     "name": "stdout",
     "output_type": "stream",
     "text": [
      "Temperature 3 of 3:(β₁=Inf,β₂=10.0). Distortion 0.431. Acceptance 53%\n",
      "# Finished iter 1 of 100: Parity 0. Distortion 0.431 at β₁=Inf, β₂=10.0.\n",
      "\n"
     ]
    },
    {
     "name": "stderr",
     "output_type": "stream",
     "text": [
      "\u001b[32mMC running β₁=Inf, β₂=0.1 100%|█████████████████████████| Time: 0:00:02\u001b[39m\n"
     ]
    },
    {
     "name": "stdout",
     "output_type": "stream",
     "text": [
      "Temperature 1 of 3:(β₁=Inf,β₂=0.1). Distortion 0.471. Acceptance 31%\n"
     ]
    },
    {
     "name": "stderr",
     "output_type": "stream",
     "text": [
      "\u001b[32mMC running β₁=Inf, β₂=1.0 100%|█████████████████████████| Time: 0:00:02\u001b[39m\n"
     ]
    },
    {
     "name": "stdout",
     "output_type": "stream",
     "text": [
      "Temperature 2 of 3:(β₁=Inf,β₂=1.0). Distortion 0.437. Acceptance 47%\n"
     ]
    },
    {
     "name": "stderr",
     "output_type": "stream",
     "text": [
      "\u001b[32mMC running β₁=Inf, β₂=10.0 100%|████████████████████████| Time: 0:00:02\u001b[39m\n"
     ]
    },
    {
     "name": "stdout",
     "output_type": "stream",
     "text": [
      "Temperature 3 of 3:(β₁=Inf,β₂=10.0). Distortion 0.414. Acceptance 53%\n",
      "# Finished iter 2 of 100: Parity 0. Distortion 0.414 at β₁=Inf, β₂=10.0.\n",
      "\n"
     ]
    },
    {
     "name": "stderr",
     "output_type": "stream",
     "text": [
      "\u001b[32mMC running β₁=Inf, β₂=0.1 100%|█████████████████████████| Time: 0:00:02\u001b[39m\n"
     ]
    },
    {
     "name": "stdout",
     "output_type": "stream",
     "text": [
      "Temperature 1 of 3:(β₁=Inf,β₂=0.1). Distortion 0.45. Acceptance 29%\n"
     ]
    },
    {
     "name": "stderr",
     "output_type": "stream",
     "text": [
      "\u001b[32mMC running β₁=Inf, β₂=1.0 100%|█████████████████████████| Time: 0:00:02\u001b[39m\n"
     ]
    },
    {
     "name": "stdout",
     "output_type": "stream",
     "text": [
      "Temperature 2 of 3:(β₁=Inf,β₂=1.0). Distortion 0.427. Acceptance 42%\n"
     ]
    },
    {
     "name": "stderr",
     "output_type": "stream",
     "text": [
      "\u001b[32mMC running β₁=Inf, β₂=10.0 100%|████████████████████████| Time: 0:00:02\u001b[39m\n"
     ]
    },
    {
     "name": "stdout",
     "output_type": "stream",
     "text": [
      "Temperature 3 of 3:(β₁=Inf,β₂=10.0). Distortion 0.403. Acceptance 49%\n",
      "# Finished iter 3 of 100: Parity 0. Distortion 0.403 at β₁=Inf, β₂=10.0.\n",
      "\n"
     ]
    },
    {
     "name": "stderr",
     "output_type": "stream",
     "text": [
      "\u001b[32mMC running β₁=Inf, β₂=0.1 100%|█████████████████████████| Time: 0:00:02\u001b[39m\n"
     ]
    },
    {
     "name": "stdout",
     "output_type": "stream",
     "text": [
      "Temperature 1 of 3:(β₁=Inf,β₂=0.1). Distortion 0.461. Acceptance 28%\n"
     ]
    },
    {
     "name": "stderr",
     "output_type": "stream",
     "text": [
      "\u001b[32mMC running β₁=Inf, β₂=1.0 100%|█████████████████████████| Time: 0:00:02\u001b[39m\n"
     ]
    },
    {
     "name": "stdout",
     "output_type": "stream",
     "text": [
      "Temperature 2 of 3:(β₁=Inf,β₂=1.0). Distortion 0.425. Acceptance 41%\n"
     ]
    },
    {
     "name": "stderr",
     "output_type": "stream",
     "text": [
      "\u001b[32mMC running β₁=Inf, β₂=10.0 100%|████████████████████████| Time: 0:00:02\u001b[39m\n"
     ]
    },
    {
     "name": "stdout",
     "output_type": "stream",
     "text": [
      "Temperature 3 of 3:(β₁=Inf,β₂=10.0). Distortion 0.415. Acceptance 45%\n",
      "# Finished iter 4 of 100: Parity 0. Distortion 0.415 at β₁=Inf, β₂=10.0.\n",
      "\n"
     ]
    },
    {
     "name": "stderr",
     "output_type": "stream",
     "text": [
      "\u001b[32mMC running β₁=Inf, β₂=0.1 100%|█████████████████████████| Time: 0:00:02\u001b[39m\n"
     ]
    },
    {
     "name": "stdout",
     "output_type": "stream",
     "text": [
      "Temperature 1 of 3:(β₁=Inf,β₂=0.1). Distortion 0.47. Acceptance 31%\n"
     ]
    },
    {
     "name": "stderr",
     "output_type": "stream",
     "text": [
      "\u001b[32mMC running β₁=Inf, β₂=1.0 100%|█████████████████████████| Time: 0:00:02\u001b[39m\n"
     ]
    },
    {
     "name": "stdout",
     "output_type": "stream",
     "text": [
      "Temperature 2 of 3:(β₁=Inf,β₂=1.0). Distortion 0.431. Acceptance 47%\n"
     ]
    },
    {
     "name": "stderr",
     "output_type": "stream",
     "text": [
      "\u001b[32mMC running β₁=Inf, β₂=10.0 100%|████████████████████████| Time: 0:00:02\u001b[39m\n"
     ]
    },
    {
     "name": "stdout",
     "output_type": "stream",
     "text": [
      "Temperature 3 of 3:(β₁=Inf,β₂=10.0). Distortion 0.404. Acceptance 52%\n",
      "# Finished iter 5 of 100: Parity 0. Distortion 0.404 at β₁=Inf, β₂=10.0.\n",
      "\n"
     ]
    },
    {
     "name": "stderr",
     "output_type": "stream",
     "text": [
      "\u001b[32mMC running β₁=Inf, β₂=0.1 100%|█████████████████████████| Time: 0:00:02\u001b[39m\n"
     ]
    },
    {
     "name": "stdout",
     "output_type": "stream",
     "text": [
      "Temperature 1 of 3:(β₁=Inf,β₂=0.1). Distortion 0.488. Acceptance 31%\n"
     ]
    },
    {
     "name": "stderr",
     "output_type": "stream",
     "text": [
      "\u001b[32mMC running β₁=Inf, β₂=1.0 100%|█████████████████████████| Time: 0:00:02\u001b[39m\n"
     ]
    },
    {
     "name": "stdout",
     "output_type": "stream",
     "text": [
      "Temperature 2 of 3:(β₁=Inf,β₂=1.0). Distortion 0.431. Acceptance 47%\n"
     ]
    },
    {
     "name": "stderr",
     "output_type": "stream",
     "text": [
      "\u001b[32mMC running β₁=Inf, β₂=10.0 100%|████████████████████████| Time: 0:00:02\u001b[39m\n"
     ]
    },
    {
     "name": "stdout",
     "output_type": "stream",
     "text": [
      "Temperature 3 of 3:(β₁=Inf,β₂=10.0). Distortion 0.419. Acceptance 53%\n",
      "# Finished iter 6 of 100: Parity 0. Distortion 0.419 at β₁=Inf, β₂=10.0.\n",
      "\n"
     ]
    },
    {
     "name": "stderr",
     "output_type": "stream",
     "text": [
      "\u001b[32mMC running β₁=Inf, β₂=0.1 100%|█████████████████████████| Time: 0:00:02\u001b[39m\n"
     ]
    },
    {
     "name": "stdout",
     "output_type": "stream",
     "text": [
      "Temperature 1 of 3:(β₁=Inf,β₂=0.1). Distortion 0.471. Acceptance 29%\n"
     ]
    },
    {
     "name": "stderr",
     "output_type": "stream",
     "text": [
      "\u001b[32mMC running β₁=Inf, β₂=1.0 100%|█████████████████████████| Time: 0:00:02\u001b[39m\n"
     ]
    },
    {
     "name": "stdout",
     "output_type": "stream",
     "text": [
      "Temperature 2 of 3:(β₁=Inf,β₂=1.0). Distortion 0.442. Acceptance 43%\n"
     ]
    },
    {
     "name": "stderr",
     "output_type": "stream",
     "text": [
      "\u001b[32mMC running β₁=Inf, β₂=10.0 100%|████████████████████████| Time: 0:00:02\u001b[39m\n"
     ]
    },
    {
     "name": "stdout",
     "output_type": "stream",
     "text": [
      "Temperature 3 of 3:(β₁=Inf,β₂=10.0). Distortion 0.429. Acceptance 47%\n",
      "# Finished iter 7 of 100: Parity 0. Distortion 0.429 at β₁=Inf, β₂=10.0.\n",
      "\n"
     ]
    },
    {
     "name": "stderr",
     "output_type": "stream",
     "text": [
      "\u001b[32mMC running β₁=Inf, β₂=0.1 100%|█████████████████████████| Time: 0:00:02\u001b[39m\n"
     ]
    },
    {
     "name": "stdout",
     "output_type": "stream",
     "text": [
      "Temperature 1 of 3:(β₁=Inf,β₂=0.1). Distortion 0.483. Acceptance 30%\n"
     ]
    },
    {
     "name": "stderr",
     "output_type": "stream",
     "text": [
      "\u001b[32mMC running β₁=Inf, β₂=1.0 100%|█████████████████████████| Time: 0:00:02\u001b[39m\n"
     ]
    },
    {
     "name": "stdout",
     "output_type": "stream",
     "text": [
      "Temperature 2 of 3:(β₁=Inf,β₂=1.0). Distortion 0.461. Acceptance 43%\n"
     ]
    },
    {
     "name": "stderr",
     "output_type": "stream",
     "text": [
      "\u001b[32mMC running β₁=Inf, β₂=10.0 100%|████████████████████████| Time: 0:00:02\u001b[39m\n"
     ]
    },
    {
     "name": "stdout",
     "output_type": "stream",
     "text": [
      "Temperature 3 of 3:(β₁=Inf,β₂=10.0). Distortion 0.436. Acceptance 49%\n",
      "# Finished iter 8 of 100: Parity 0. Distortion 0.436 at β₁=Inf, β₂=10.0.\n",
      "\n"
     ]
    },
    {
     "name": "stderr",
     "output_type": "stream",
     "text": [
      "\u001b[32mMC running β₁=Inf, β₂=0.1 100%|█████████████████████████| Time: 0:00:02\u001b[39m\n"
     ]
    },
    {
     "name": "stdout",
     "output_type": "stream",
     "text": [
      "Temperature 1 of 3:(β₁=Inf,β₂=0.1). Distortion 0.51. Acceptance 29%\n"
     ]
    },
    {
     "name": "stderr",
     "output_type": "stream",
     "text": [
      "\u001b[32mMC running β₁=Inf, β₂=1.0 100%|█████████████████████████| Time: 0:00:02\u001b[39m\n"
     ]
    },
    {
     "name": "stdout",
     "output_type": "stream",
     "text": [
      "Temperature 2 of 3:(β₁=Inf,β₂=1.0). Distortion 0.478. Acceptance 44%\n"
     ]
    },
    {
     "name": "stderr",
     "output_type": "stream",
     "text": [
      "\u001b[32mMC running β₁=Inf, β₂=10.0 100%|████████████████████████| Time: 0:00:02\u001b[39m\n"
     ]
    },
    {
     "name": "stdout",
     "output_type": "stream",
     "text": [
      "Temperature 3 of 3:(β₁=Inf,β₂=10.0). Distortion 0.461. Acceptance 49%\n",
      "# Finished iter 9 of 100: Parity 0. Distortion 0.461 at β₁=Inf, β₂=10.0.\n",
      "\n"
     ]
    },
    {
     "name": "stderr",
     "output_type": "stream",
     "text": [
      "\u001b[32mMC running β₁=Inf, β₂=0.1 100%|█████████████████████████| Time: 0:00:02\u001b[39m\n"
     ]
    },
    {
     "name": "stdout",
     "output_type": "stream",
     "text": [
      "Temperature 1 of 3:(β₁=Inf,β₂=0.1). Distortion 0.492. Acceptance 31%\n"
     ]
    },
    {
     "name": "stderr",
     "output_type": "stream",
     "text": [
      "\u001b[32mMC running β₁=Inf, β₂=1.0 100%|█████████████████████████| Time: 0:00:02\u001b[39m\n"
     ]
    },
    {
     "name": "stdout",
     "output_type": "stream",
     "text": [
      "Temperature 2 of 3:(β₁=Inf,β₂=1.0). Distortion 0.461. Acceptance 48%\n"
     ]
    },
    {
     "name": "stderr",
     "output_type": "stream",
     "text": [
      "\u001b[32mMC running β₁=Inf, β₂=10.0 100%|████████████████████████| Time: 0:00:02\u001b[39m\n"
     ]
    },
    {
     "name": "stdout",
     "output_type": "stream",
     "text": [
      "Temperature 3 of 3:(β₁=Inf,β₂=10.0). Distortion 0.442. Acceptance 55%\n",
      "# Finished iter 10 of 100: Parity 0. Distortion 0.442 at β₁=Inf, β₂=10.0.\n",
      "\n"
     ]
    },
    {
     "name": "stderr",
     "output_type": "stream",
     "text": [
      "\u001b[32mMC running β₁=Inf, β₂=0.1 100%|█████████████████████████| Time: 0:00:02\u001b[39m\n"
     ]
    },
    {
     "name": "stdout",
     "output_type": "stream",
     "text": [
      "Temperature 1 of 3:(β₁=Inf,β₂=0.1). Distortion 0.478. Acceptance 29%\n"
     ]
    },
    {
     "name": "stderr",
     "output_type": "stream",
     "text": [
      "\u001b[32mMC running β₁=Inf, β₂=1.0 100%|█████████████████████████| Time: 0:00:02\u001b[39m\n"
     ]
    },
    {
     "name": "stdout",
     "output_type": "stream",
     "text": [
      "Temperature 2 of 3:(β₁=Inf,β₂=1.0). Distortion 0.454. Acceptance 42%\n"
     ]
    },
    {
     "name": "stderr",
     "output_type": "stream",
     "text": [
      "\u001b[32mMC running β₁=Inf, β₂=10.0 100%|████████████████████████| Time: 0:00:02\u001b[39m\n"
     ]
    },
    {
     "name": "stdout",
     "output_type": "stream",
     "text": [
      "Temperature 3 of 3:(β₁=Inf,β₂=10.0). Distortion 0.431. Acceptance 49%\n",
      "# Finished iter 11 of 100: Parity 0. Distortion 0.431 at β₁=Inf, β₂=10.0.\n",
      "\n"
     ]
    },
    {
     "name": "stderr",
     "output_type": "stream",
     "text": [
      "\u001b[32mMC running β₁=Inf, β₂=0.1 100%|█████████████████████████| Time: 0:00:02\u001b[39m\n"
     ]
    },
    {
     "name": "stdout",
     "output_type": "stream",
     "text": [
      "Temperature 1 of 3:(β₁=Inf,β₂=0.1). Distortion 0.487. Acceptance 29%\n"
     ]
    },
    {
     "name": "stderr",
     "output_type": "stream",
     "text": [
      "\u001b[32mMC running β₁=Inf, β₂=1.0 100%|█████████████████████████| Time: 0:00:02\u001b[39m\n"
     ]
    },
    {
     "name": "stdout",
     "output_type": "stream",
     "text": [
      "Temperature 2 of 3:(β₁=Inf,β₂=1.0). Distortion 0.458. Acceptance 45%\n"
     ]
    },
    {
     "name": "stderr",
     "output_type": "stream",
     "text": [
      "\u001b[32mMC running β₁=Inf, β₂=10.0 100%|████████████████████████| Time: 0:00:02\u001b[39m\n"
     ]
    },
    {
     "name": "stdout",
     "output_type": "stream",
     "text": [
      "Temperature 3 of 3:(β₁=Inf,β₂=10.0). Distortion 0.431. Acceptance 51%\n",
      "# Finished iter 12 of 100: Parity 0. Distortion 0.431 at β₁=Inf, β₂=10.0.\n",
      "\n"
     ]
    },
    {
     "name": "stderr",
     "output_type": "stream",
     "text": [
      "\u001b[32mMC running β₁=Inf, β₂=0.1 100%|█████████████████████████| Time: 0:00:02\u001b[39m\n"
     ]
    },
    {
     "name": "stdout",
     "output_type": "stream",
     "text": [
      "Temperature 1 of 3:(β₁=Inf,β₂=0.1). Distortion 0.488. Acceptance 29%\n"
     ]
    },
    {
     "name": "stderr",
     "output_type": "stream",
     "text": [
      "\u001b[32mMC running β₁=Inf, β₂=1.0 100%|█████████████████████████| Time: 0:00:02\u001b[39m\n"
     ]
    },
    {
     "name": "stdout",
     "output_type": "stream",
     "text": [
      "Temperature 2 of 3:(β₁=Inf,β₂=1.0). Distortion 0.45. Acceptance 47%\n"
     ]
    },
    {
     "name": "stderr",
     "output_type": "stream",
     "text": [
      "\u001b[32mMC running β₁=Inf, β₂=10.0 100%|████████████████████████| Time: 0:00:02\u001b[39m\n"
     ]
    },
    {
     "name": "stdout",
     "output_type": "stream",
     "text": [
      "Temperature 3 of 3:(β₁=Inf,β₂=10.0). Distortion 0.435. Acceptance 55%\n",
      "# Finished iter 13 of 100: Parity 0. Distortion 0.435 at β₁=Inf, β₂=10.0.\n",
      "\n"
     ]
    },
    {
     "name": "stderr",
     "output_type": "stream",
     "text": [
      "\u001b[32mMC running β₁=Inf, β₂=0.1 100%|█████████████████████████| Time: 0:00:02\u001b[39m\n"
     ]
    },
    {
     "name": "stdout",
     "output_type": "stream",
     "text": [
      "Temperature 1 of 3:(β₁=Inf,β₂=0.1). Distortion 0.481. Acceptance 29%\n"
     ]
    },
    {
     "name": "stderr",
     "output_type": "stream",
     "text": [
      "\u001b[32mMC running β₁=Inf, β₂=1.0 100%|█████████████████████████| Time: 0:00:02\u001b[39m\n"
     ]
    },
    {
     "name": "stdout",
     "output_type": "stream",
     "text": [
      "Temperature 2 of 3:(β₁=Inf,β₂=1.0). Distortion 0.442. Acceptance 45%\n"
     ]
    },
    {
     "name": "stderr",
     "output_type": "stream",
     "text": [
      "\u001b[32mMC running β₁=Inf, β₂=10.0 100%|████████████████████████| Time: 0:00:02\u001b[39m\n"
     ]
    },
    {
     "name": "stdout",
     "output_type": "stream",
     "text": [
      "Temperature 3 of 3:(β₁=Inf,β₂=10.0). Distortion 0.422. Acceptance 52%\n",
      "# Finished iter 14 of 100: Parity 0. Distortion 0.422 at β₁=Inf, β₂=10.0.\n",
      "\n"
     ]
    },
    {
     "name": "stderr",
     "output_type": "stream",
     "text": [
      "\u001b[32mMC running β₁=Inf, β₂=0.1 100%|█████████████████████████| Time: 0:00:02\u001b[39m\n"
     ]
    },
    {
     "name": "stdout",
     "output_type": "stream",
     "text": [
      "Temperature 1 of 3:(β₁=Inf,β₂=0.1). Distortion 0.484. Acceptance 30%\n"
     ]
    },
    {
     "name": "stderr",
     "output_type": "stream",
     "text": [
      "\u001b[32mMC running β₁=Inf, β₂=1.0 100%|█████████████████████████| Time: 0:00:02\u001b[39m\n"
     ]
    },
    {
     "name": "stdout",
     "output_type": "stream",
     "text": [
      "Temperature 2 of 3:(β₁=Inf,β₂=1.0). Distortion 0.458. Acceptance 47%\n"
     ]
    },
    {
     "name": "stderr",
     "output_type": "stream",
     "text": [
      "\u001b[32mMC running β₁=Inf, β₂=10.0 100%|████████████████████████| Time: 0:00:02\u001b[39m\n"
     ]
    },
    {
     "name": "stdout",
     "output_type": "stream",
     "text": [
      "Temperature 3 of 3:(β₁=Inf,β₂=10.0). Distortion 0.439. Acceptance 54%\n",
      "# Finished iter 15 of 100: Parity 0. Distortion 0.439 at β₁=Inf, β₂=10.0.\n",
      "\n"
     ]
    },
    {
     "name": "stderr",
     "output_type": "stream",
     "text": [
      "\u001b[32mMC running β₁=Inf, β₂=0.1 100%|█████████████████████████| Time: 0:00:02\u001b[39m\n"
     ]
    },
    {
     "name": "stdout",
     "output_type": "stream",
     "text": [
      "Temperature 1 of 3:(β₁=Inf,β₂=0.1). Distortion 0.479. Acceptance 28%\n"
     ]
    },
    {
     "name": "stderr",
     "output_type": "stream",
     "text": [
      "\u001b[32mMC running β₁=Inf, β₂=1.0 100%|█████████████████████████| Time: 0:00:02\u001b[39m\n"
     ]
    },
    {
     "name": "stdout",
     "output_type": "stream",
     "text": [
      "Temperature 2 of 3:(β₁=Inf,β₂=1.0). Distortion 0.425. Acceptance 44%\n"
     ]
    },
    {
     "name": "stderr",
     "output_type": "stream",
     "text": [
      "\u001b[32mMC running β₁=Inf, β₂=10.0 100%|████████████████████████| Time: 0:00:02\u001b[39m\n"
     ]
    },
    {
     "name": "stdout",
     "output_type": "stream",
     "text": [
      "Temperature 3 of 3:(β₁=Inf,β₂=10.0). Distortion 0.396. Acceptance 51%\n",
      "# Finished iter 16 of 100: Parity 0. Distortion 0.396 at β₁=Inf, β₂=10.0.\n",
      "\n"
     ]
    },
    {
     "name": "stderr",
     "output_type": "stream",
     "text": [
      "\u001b[32mMC running β₁=Inf, β₂=0.1 100%|█████████████████████████| Time: 0:00:02\u001b[39m\n"
     ]
    },
    {
     "name": "stdout",
     "output_type": "stream",
     "text": [
      "Temperature 1 of 3:(β₁=Inf,β₂=0.1). Distortion 0.483. Acceptance 30%\n"
     ]
    },
    {
     "name": "stderr",
     "output_type": "stream",
     "text": [
      "\u001b[32mMC running β₁=Inf, β₂=1.0 100%|█████████████████████████| Time: 0:00:02\u001b[39m\n"
     ]
    },
    {
     "name": "stdout",
     "output_type": "stream",
     "text": [
      "Temperature 2 of 3:(β₁=Inf,β₂=1.0). Distortion 0.431. Acceptance 48%\n"
     ]
    },
    {
     "name": "stderr",
     "output_type": "stream",
     "text": [
      "\u001b[32mMC running β₁=Inf, β₂=10.0 100%|████████████████████████| Time: 0:00:02\u001b[39m\n"
     ]
    },
    {
     "name": "stdout",
     "output_type": "stream",
     "text": [
      "Temperature 3 of 3:(β₁=Inf,β₂=10.0). Distortion 0.415. Acceptance 53%\n",
      "# Finished iter 17 of 100: Parity 0. Distortion 0.415 at β₁=Inf, β₂=10.0.\n",
      "\n"
     ]
    },
    {
     "name": "stderr",
     "output_type": "stream",
     "text": [
      "\u001b[32mMC running β₁=Inf, β₂=0.1 100%|█████████████████████████| Time: 0:00:02\u001b[39m\n"
     ]
    },
    {
     "name": "stdout",
     "output_type": "stream",
     "text": [
      "Temperature 1 of 3:(β₁=Inf,β₂=0.1). Distortion 0.489. Acceptance 30%\n"
     ]
    },
    {
     "name": "stderr",
     "output_type": "stream",
     "text": [
      "\u001b[32mMC running β₁=Inf, β₂=1.0 100%|█████████████████████████| Time: 0:00:02\u001b[39m\n"
     ]
    },
    {
     "name": "stdout",
     "output_type": "stream",
     "text": [
      "Temperature 2 of 3:(β₁=Inf,β₂=1.0). Distortion 0.447. Acceptance 43%\n"
     ]
    },
    {
     "name": "stderr",
     "output_type": "stream",
     "text": [
      "\u001b[32mMC running β₁=Inf, β₂=10.0 100%|████████████████████████| Time: 0:00:02\u001b[39m\n"
     ]
    },
    {
     "name": "stdout",
     "output_type": "stream",
     "text": [
      "Temperature 3 of 3:(β₁=Inf,β₂=10.0). Distortion 0.428. Acceptance 49%\n",
      "# Finished iter 18 of 100: Parity 0. Distortion 0.428 at β₁=Inf, β₂=10.0.\n",
      "\n"
     ]
    },
    {
     "name": "stderr",
     "output_type": "stream",
     "text": [
      "\u001b[32mMC running β₁=Inf, β₂=0.1 100%|█████████████████████████| Time: 0:00:02\u001b[39m\n"
     ]
    },
    {
     "name": "stdout",
     "output_type": "stream",
     "text": [
      "Temperature 1 of 3:(β₁=Inf,β₂=0.1). Distortion 0.474. Acceptance 29%\n"
     ]
    },
    {
     "name": "stderr",
     "output_type": "stream",
     "text": [
      "\u001b[32mMC running β₁=Inf, β₂=1.0 100%|█████████████████████████| Time: 0:00:02\u001b[39m\n"
     ]
    },
    {
     "name": "stdout",
     "output_type": "stream",
     "text": [
      "Temperature 2 of 3:(β₁=Inf,β₂=1.0). Distortion 0.447. Acceptance 43%\n"
     ]
    },
    {
     "name": "stderr",
     "output_type": "stream",
     "text": [
      "\u001b[32mMC running β₁=Inf, β₂=10.0 100%|████████████████████████| Time: 0:00:02\u001b[39m\n"
     ]
    },
    {
     "name": "stdout",
     "output_type": "stream",
     "text": [
      "Temperature 3 of 3:(β₁=Inf,β₂=10.0). Distortion 0.425. Acceptance 51%\n",
      "# Finished iter 19 of 100: Parity 0. Distortion 0.425 at β₁=Inf, β₂=10.0.\n",
      "\n"
     ]
    },
    {
     "name": "stderr",
     "output_type": "stream",
     "text": [
      "\u001b[32mMC running β₁=Inf, β₂=0.1 100%|█████████████████████████| Time: 0:00:02\u001b[39m\n"
     ]
    },
    {
     "name": "stdout",
     "output_type": "stream",
     "text": [
      "Temperature 1 of 3:(β₁=Inf,β₂=0.1). Distortion 0.472. Acceptance 29%\n"
     ]
    },
    {
     "name": "stderr",
     "output_type": "stream",
     "text": [
      "\u001b[32mMC running β₁=Inf, β₂=1.0 100%|█████████████████████████| Time: 0:00:02\u001b[39m\n"
     ]
    },
    {
     "name": "stdout",
     "output_type": "stream",
     "text": [
      "Temperature 2 of 3:(β₁=Inf,β₂=1.0). Distortion 0.45. Acceptance 41%\n"
     ]
    },
    {
     "name": "stderr",
     "output_type": "stream",
     "text": [
      "\u001b[32mMC running β₁=Inf, β₂=10.0 100%|████████████████████████| Time: 0:00:02\u001b[39m\n"
     ]
    },
    {
     "name": "stdout",
     "output_type": "stream",
     "text": [
      "Temperature 3 of 3:(β₁=Inf,β₂=10.0). Distortion 0.435. Acceptance 47%\n",
      "# Finished iter 20 of 100: Parity 0. Distortion 0.435 at β₁=Inf, β₂=10.0.\n",
      "\n"
     ]
    },
    {
     "name": "stderr",
     "output_type": "stream",
     "text": [
      "\u001b[32mMC running β₁=Inf, β₂=0.1 100%|█████████████████████████| Time: 0:00:02\u001b[39m\n"
     ]
    },
    {
     "name": "stdout",
     "output_type": "stream",
     "text": [
      "Temperature 1 of 3:(β₁=Inf,β₂=0.1). Distortion 0.485. Acceptance 31%\n"
     ]
    },
    {
     "name": "stderr",
     "output_type": "stream",
     "text": [
      "\u001b[32mMC running β₁=Inf, β₂=1.0 100%|█████████████████████████| Time: 0:00:02\u001b[39m\n"
     ]
    },
    {
     "name": "stdout",
     "output_type": "stream",
     "text": [
      "Temperature 2 of 3:(β₁=Inf,β₂=1.0). Distortion 0.457. Acceptance 43%\n"
     ]
    },
    {
     "name": "stderr",
     "output_type": "stream",
     "text": [
      "\u001b[32mMC running β₁=Inf, β₂=10.0 100%|████████████████████████| Time: 0:00:02\u001b[39m\n"
     ]
    },
    {
     "name": "stdout",
     "output_type": "stream",
     "text": [
      "Temperature 3 of 3:(β₁=Inf,β₂=10.0). Distortion 0.431. Acceptance 49%\n",
      "# Finished iter 21 of 100: Parity 0. Distortion 0.431 at β₁=Inf, β₂=10.0.\n",
      "\n"
     ]
    },
    {
     "name": "stderr",
     "output_type": "stream",
     "text": [
      "\u001b[32mMC running β₁=Inf, β₂=0.1 100%|█████████████████████████| Time: 0:00:02\u001b[39m\n"
     ]
    },
    {
     "name": "stdout",
     "output_type": "stream",
     "text": [
      "Temperature 1 of 3:(β₁=Inf,β₂=0.1). Distortion 0.47. Acceptance 28%\n"
     ]
    },
    {
     "name": "stderr",
     "output_type": "stream",
     "text": [
      "\u001b[32mMC running β₁=Inf, β₂=1.0 100%|█████████████████████████| Time: 0:00:02\u001b[39m\n"
     ]
    },
    {
     "name": "stdout",
     "output_type": "stream",
     "text": [
      "Temperature 2 of 3:(β₁=Inf,β₂=1.0). Distortion 0.445. Acceptance 40%\n"
     ]
    },
    {
     "name": "stderr",
     "output_type": "stream",
     "text": [
      "\u001b[32mMC running β₁=Inf, β₂=10.0 100%|████████████████████████| Time: 0:00:02\u001b[39m\n"
     ]
    },
    {
     "name": "stdout",
     "output_type": "stream",
     "text": [
      "Temperature 3 of 3:(β₁=Inf,β₂=10.0). Distortion 0.429. Acceptance 47%\n",
      "# Finished iter 22 of 100: Parity 0. Distortion 0.429 at β₁=Inf, β₂=10.0.\n",
      "\n"
     ]
    },
    {
     "name": "stderr",
     "output_type": "stream",
     "text": [
      "\u001b[32mMC running β₁=Inf, β₂=0.1 100%|█████████████████████████| Time: 0:00:02\u001b[39m\n"
     ]
    },
    {
     "name": "stdout",
     "output_type": "stream",
     "text": [
      "Temperature 1 of 3:(β₁=Inf,β₂=0.1). Distortion 0.469. Acceptance 29%\n"
     ]
    },
    {
     "name": "stderr",
     "output_type": "stream",
     "text": [
      "\u001b[32mMC running β₁=Inf, β₂=1.0 100%|█████████████████████████| Time: 0:00:02\u001b[39m\n"
     ]
    },
    {
     "name": "stdout",
     "output_type": "stream",
     "text": [
      "Temperature 2 of 3:(β₁=Inf,β₂=1.0). Distortion 0.419. Acceptance 43%\n"
     ]
    },
    {
     "name": "stderr",
     "output_type": "stream",
     "text": [
      "\u001b[32mMC running β₁=Inf, β₂=10.0 100%|████████████████████████| Time: 0:00:02\u001b[39m\n"
     ]
    },
    {
     "name": "stdout",
     "output_type": "stream",
     "text": [
      "Temperature 3 of 3:(β₁=Inf,β₂=10.0). Distortion 0.406. Acceptance 47%\n",
      "# Finished iter 23 of 100: Parity 0. Distortion 0.406 at β₁=Inf, β₂=10.0.\n",
      "\n"
     ]
    },
    {
     "name": "stderr",
     "output_type": "stream",
     "text": [
      "\u001b[32mMC running β₁=Inf, β₂=0.1 100%|█████████████████████████| Time: 0:00:02\u001b[39m\n"
     ]
    },
    {
     "name": "stdout",
     "output_type": "stream",
     "text": [
      "Temperature 1 of 3:(β₁=Inf,β₂=0.1). Distortion 0.459. Acceptance 30%\n"
     ]
    },
    {
     "name": "stderr",
     "output_type": "stream",
     "text": [
      "\u001b[32mMC running β₁=Inf, β₂=1.0 100%|█████████████████████████| Time: 0:00:02\u001b[39m\n"
     ]
    },
    {
     "name": "stdout",
     "output_type": "stream",
     "text": [
      "Temperature 2 of 3:(β₁=Inf,β₂=1.0). Distortion 0.425. Acceptance 44%\n"
     ]
    },
    {
     "name": "stderr",
     "output_type": "stream",
     "text": [
      "\u001b[32mMC running β₁=Inf, β₂=10.0 100%|████████████████████████| Time: 0:00:02\u001b[39m\n"
     ]
    },
    {
     "name": "stdout",
     "output_type": "stream",
     "text": [
      "Temperature 3 of 3:(β₁=Inf,β₂=10.0). Distortion 0.405. Acceptance 51%\n",
      "# Finished iter 24 of 100: Parity 0. Distortion 0.405 at β₁=Inf, β₂=10.0.\n",
      "\n"
     ]
    },
    {
     "name": "stderr",
     "output_type": "stream",
     "text": [
      "\u001b[32mMC running β₁=Inf, β₂=0.1 100%|█████████████████████████| Time: 0:00:02\u001b[39m\n"
     ]
    },
    {
     "name": "stdout",
     "output_type": "stream",
     "text": [
      "Temperature 1 of 3:(β₁=Inf,β₂=0.1). Distortion 0.462. Acceptance 31%\n"
     ]
    },
    {
     "name": "stderr",
     "output_type": "stream",
     "text": [
      "\u001b[32mMC running β₁=Inf, β₂=1.0 100%|█████████████████████████| Time: 0:00:02\u001b[39m\n"
     ]
    },
    {
     "name": "stdout",
     "output_type": "stream",
     "text": [
      "Temperature 2 of 3:(β₁=Inf,β₂=1.0). Distortion 0.442. Acceptance 45%\n"
     ]
    },
    {
     "name": "stderr",
     "output_type": "stream",
     "text": [
      "\u001b[32mMC running β₁=Inf, β₂=10.0 100%|████████████████████████| Time: 0:00:02\u001b[39m\n"
     ]
    },
    {
     "name": "stdout",
     "output_type": "stream",
     "text": [
      "Temperature 3 of 3:(β₁=Inf,β₂=10.0). Distortion 0.418. Acceptance 51%\n",
      "# Finished iter 25 of 100: Parity 0. Distortion 0.418 at β₁=Inf, β₂=10.0.\n",
      "\n"
     ]
    },
    {
     "name": "stderr",
     "output_type": "stream",
     "text": [
      "\u001b[32mMC running β₁=Inf, β₂=0.1 100%|█████████████████████████| Time: 0:00:02\u001b[39m\n"
     ]
    },
    {
     "name": "stdout",
     "output_type": "stream",
     "text": [
      "Temperature 1 of 3:(β₁=Inf,β₂=0.1). Distortion 0.463. Acceptance 30%\n"
     ]
    },
    {
     "name": "stderr",
     "output_type": "stream",
     "text": [
      "\u001b[32mMC running β₁=Inf, β₂=1.0 100%|█████████████████████████| Time: 0:00:02\u001b[39m\n"
     ]
    },
    {
     "name": "stdout",
     "output_type": "stream",
     "text": [
      "Temperature 2 of 3:(β₁=Inf,β₂=1.0). Distortion 0.449. Acceptance 41%\n"
     ]
    },
    {
     "name": "stderr",
     "output_type": "stream",
     "text": [
      "\u001b[32mMC running β₁=Inf, β₂=10.0 100%|████████████████████████| Time: 0:00:02\u001b[39m\n"
     ]
    },
    {
     "name": "stdout",
     "output_type": "stream",
     "text": [
      "Temperature 3 of 3:(β₁=Inf,β₂=10.0). Distortion 0.424. Acceptance 48%\n",
      "# Finished iter 26 of 100: Parity 0. Distortion 0.424 at β₁=Inf, β₂=10.0.\n",
      "\n"
     ]
    },
    {
     "name": "stderr",
     "output_type": "stream",
     "text": [
      "\u001b[32mMC running β₁=Inf, β₂=0.1 100%|█████████████████████████| Time: 0:00:02\u001b[39m\n"
     ]
    },
    {
     "name": "stdout",
     "output_type": "stream",
     "text": [
      "Temperature 1 of 3:(β₁=Inf,β₂=0.1). Distortion 0.482. Acceptance 29%\n"
     ]
    },
    {
     "name": "stderr",
     "output_type": "stream",
     "text": [
      "\u001b[32mMC running β₁=Inf, β₂=1.0 100%|█████████████████████████| Time: 0:00:02\u001b[39m\n"
     ]
    },
    {
     "name": "stdout",
     "output_type": "stream",
     "text": [
      "Temperature 2 of 3:(β₁=Inf,β₂=1.0). Distortion 0.452. Acceptance 42%\n"
     ]
    },
    {
     "name": "stderr",
     "output_type": "stream",
     "text": [
      "\u001b[32mMC running β₁=Inf, β₂=10.0 100%|████████████████████████| Time: 0:00:02\u001b[39m\n"
     ]
    },
    {
     "name": "stdout",
     "output_type": "stream",
     "text": [
      "Temperature 3 of 3:(β₁=Inf,β₂=10.0). Distortion 0.42. Acceptance 49%\n",
      "# Finished iter 27 of 100: Parity 0. Distortion 0.420 at β₁=Inf, β₂=10.0.\n",
      "\n"
     ]
    },
    {
     "name": "stderr",
     "output_type": "stream",
     "text": [
      "\u001b[32mMC running β₁=Inf, β₂=0.1 100%|█████████████████████████| Time: 0:00:02\u001b[39m\n"
     ]
    },
    {
     "name": "stdout",
     "output_type": "stream",
     "text": [
      "Temperature 1 of 3:(β₁=Inf,β₂=0.1). Distortion 0.472. Acceptance 30%\n"
     ]
    },
    {
     "name": "stderr",
     "output_type": "stream",
     "text": [
      "\u001b[32mMC running β₁=Inf, β₂=1.0 100%|█████████████████████████| Time: 0:00:02\u001b[39m\n"
     ]
    },
    {
     "name": "stdout",
     "output_type": "stream",
     "text": [
      "Temperature 2 of 3:(β₁=Inf,β₂=1.0). Distortion 0.447. Acceptance 45%\n"
     ]
    },
    {
     "name": "stderr",
     "output_type": "stream",
     "text": [
      "\u001b[32mMC running β₁=Inf, β₂=10.0 100%|████████████████████████| Time: 0:00:02\u001b[39m\n"
     ]
    },
    {
     "name": "stdout",
     "output_type": "stream",
     "text": [
      "Temperature 3 of 3:(β₁=Inf,β₂=10.0). Distortion 0.411. Acceptance 53%\n",
      "# Finished iter 28 of 100: Parity 0. Distortion 0.411 at β₁=Inf, β₂=10.0.\n",
      "\n"
     ]
    },
    {
     "name": "stderr",
     "output_type": "stream",
     "text": [
      "\u001b[32mMC running β₁=Inf, β₂=0.1 100%|█████████████████████████| Time: 0:00:02\u001b[39m\n"
     ]
    },
    {
     "name": "stdout",
     "output_type": "stream",
     "text": [
      "Temperature 1 of 3:(β₁=Inf,β₂=0.1). Distortion 0.439. Acceptance 30%\n"
     ]
    },
    {
     "name": "stderr",
     "output_type": "stream",
     "text": [
      "\u001b[32mMC running β₁=Inf, β₂=1.0 100%|█████████████████████████| Time: 0:00:02\u001b[39m\n"
     ]
    },
    {
     "name": "stdout",
     "output_type": "stream",
     "text": [
      "Temperature 2 of 3:(β₁=Inf,β₂=1.0). Distortion 0.406. Acceptance 46%\n"
     ]
    },
    {
     "name": "stderr",
     "output_type": "stream",
     "text": [
      "\u001b[32mMC running β₁=Inf, β₂=10.0 100%|████████████████████████| Time: 0:00:02\u001b[39m\n"
     ]
    },
    {
     "name": "stdout",
     "output_type": "stream",
     "text": [
      "Temperature 3 of 3:(β₁=Inf,β₂=10.0). Distortion 0.398. Acceptance 50%\n",
      "# Finished iter 29 of 100: Parity 0. Distortion 0.398 at β₁=Inf, β₂=10.0.\n",
      "\n"
     ]
    },
    {
     "name": "stderr",
     "output_type": "stream",
     "text": [
      "\u001b[32mMC running β₁=Inf, β₂=0.1 100%|█████████████████████████| Time: 0:00:02\u001b[39m\n"
     ]
    },
    {
     "name": "stdout",
     "output_type": "stream",
     "text": [
      "Temperature 1 of 3:(β₁=Inf,β₂=0.1). Distortion 0.47. Acceptance 30%\n"
     ]
    },
    {
     "name": "stderr",
     "output_type": "stream",
     "text": [
      "\u001b[32mMC running β₁=Inf, β₂=1.0 100%|█████████████████████████| Time: 0:00:02\u001b[39m\n"
     ]
    },
    {
     "name": "stdout",
     "output_type": "stream",
     "text": [
      "Temperature 2 of 3:(β₁=Inf,β₂=1.0). Distortion 0.442. Acceptance 43%\n"
     ]
    },
    {
     "name": "stderr",
     "output_type": "stream",
     "text": [
      "\u001b[32mMC running β₁=Inf, β₂=10.0 100%|████████████████████████| Time: 0:00:02\u001b[39m\n"
     ]
    },
    {
     "name": "stdout",
     "output_type": "stream",
     "text": [
      "Temperature 3 of 3:(β₁=Inf,β₂=10.0). Distortion 0.426. Acceptance 50%\n",
      "# Finished iter 30 of 100: Parity 0. Distortion 0.426 at β₁=Inf, β₂=10.0.\n",
      "\n"
     ]
    },
    {
     "name": "stderr",
     "output_type": "stream",
     "text": [
      "\u001b[32mMC running β₁=Inf, β₂=0.1 100%|█████████████████████████| Time: 0:00:02\u001b[39m\n"
     ]
    },
    {
     "name": "stdout",
     "output_type": "stream",
     "text": [
      "Temperature 1 of 3:(β₁=Inf,β₂=0.1). Distortion 0.464. Acceptance 28%\n"
     ]
    },
    {
     "name": "stderr",
     "output_type": "stream",
     "text": [
      "\u001b[32mMC running β₁=Inf, β₂=1.0 100%|█████████████████████████| Time: 0:00:02\u001b[39m\n"
     ]
    },
    {
     "name": "stdout",
     "output_type": "stream",
     "text": [
      "Temperature 2 of 3:(β₁=Inf,β₂=1.0). Distortion 0.446. Acceptance 44%\n"
     ]
    },
    {
     "name": "stderr",
     "output_type": "stream",
     "text": [
      "\u001b[32mMC running β₁=Inf, β₂=10.0 100%|████████████████████████| Time: 0:00:02\u001b[39m\n"
     ]
    },
    {
     "name": "stdout",
     "output_type": "stream",
     "text": [
      "Temperature 3 of 3:(β₁=Inf,β₂=10.0). Distortion 0.425. Acceptance 49%\n",
      "# Finished iter 31 of 100: Parity 0. Distortion 0.425 at β₁=Inf, β₂=10.0.\n",
      "\n"
     ]
    },
    {
     "name": "stderr",
     "output_type": "stream",
     "text": [
      "\u001b[32mMC running β₁=Inf, β₂=0.1 100%|█████████████████████████| Time: 0:00:02\u001b[39m\n"
     ]
    },
    {
     "name": "stdout",
     "output_type": "stream",
     "text": [
      "Temperature 1 of 3:(β₁=Inf,β₂=0.1). Distortion 0.483. Acceptance 31%\n"
     ]
    },
    {
     "name": "stderr",
     "output_type": "stream",
     "text": [
      "\u001b[32mMC running β₁=Inf, β₂=1.0 100%|█████████████████████████| Time: 0:00:02\u001b[39m\n"
     ]
    },
    {
     "name": "stdout",
     "output_type": "stream",
     "text": [
      "Temperature 2 of 3:(β₁=Inf,β₂=1.0). Distortion 0.453. Acceptance 43%\n"
     ]
    },
    {
     "name": "stderr",
     "output_type": "stream",
     "text": [
      "\u001b[32mMC running β₁=Inf, β₂=10.0 100%|████████████████████████| Time: 0:00:02\u001b[39m\n"
     ]
    },
    {
     "name": "stdout",
     "output_type": "stream",
     "text": [
      "Temperature 3 of 3:(β₁=Inf,β₂=10.0). Distortion 0.438. Acceptance 49%\n",
      "# Finished iter 32 of 100: Parity 0. Distortion 0.438 at β₁=Inf, β₂=10.0.\n",
      "\n"
     ]
    },
    {
     "name": "stderr",
     "output_type": "stream",
     "text": [
      "\u001b[32mMC running β₁=Inf, β₂=0.1 100%|█████████████████████████| Time: 0:00:02\u001b[39m\n"
     ]
    },
    {
     "name": "stdout",
     "output_type": "stream",
     "text": [
      "Temperature 1 of 3:(β₁=Inf,β₂=0.1). Distortion 0.495. Acceptance 30%\n"
     ]
    },
    {
     "name": "stderr",
     "output_type": "stream",
     "text": [
      "\u001b[32mMC running β₁=Inf, β₂=1.0 100%|█████████████████████████| Time: 0:00:02\u001b[39m\n"
     ]
    },
    {
     "name": "stdout",
     "output_type": "stream",
     "text": [
      "Temperature 2 of 3:(β₁=Inf,β₂=1.0). Distortion 0.464. Acceptance 47%\n"
     ]
    },
    {
     "name": "stderr",
     "output_type": "stream",
     "text": [
      "\u001b[32mMC running β₁=Inf, β₂=10.0 100%|████████████████████████| Time: 0:00:02\u001b[39m\n"
     ]
    },
    {
     "name": "stdout",
     "output_type": "stream",
     "text": [
      "Temperature 3 of 3:(β₁=Inf,β₂=10.0). Distortion 0.439. Acceptance 57%\n",
      "# Finished iter 33 of 100: Parity 0. Distortion 0.439 at β₁=Inf, β₂=10.0.\n",
      "\n"
     ]
    },
    {
     "name": "stderr",
     "output_type": "stream",
     "text": [
      "\u001b[32mMC running β₁=Inf, β₂=0.1 100%|█████████████████████████| Time: 0:00:02\u001b[39m\n"
     ]
    },
    {
     "name": "stdout",
     "output_type": "stream",
     "text": [
      "Temperature 1 of 3:(β₁=Inf,β₂=0.1). Distortion 0.474. Acceptance 30%\n"
     ]
    },
    {
     "name": "stderr",
     "output_type": "stream",
     "text": [
      "\u001b[32mMC running β₁=Inf, β₂=1.0 100%|█████████████████████████| Time: 0:00:02\u001b[39m\n"
     ]
    },
    {
     "name": "stdout",
     "output_type": "stream",
     "text": [
      "Temperature 2 of 3:(β₁=Inf,β₂=1.0). Distortion 0.434. Acceptance 44%\n"
     ]
    },
    {
     "name": "stderr",
     "output_type": "stream",
     "text": [
      "\u001b[32mMC running β₁=Inf, β₂=10.0 100%|████████████████████████| Time: 0:00:02\u001b[39m\n"
     ]
    },
    {
     "name": "stdout",
     "output_type": "stream",
     "text": [
      "Temperature 3 of 3:(β₁=Inf,β₂=10.0). Distortion 0.42. Acceptance 51%\n",
      "# Finished iter 34 of 100: Parity 0. Distortion 0.420 at β₁=Inf, β₂=10.0.\n",
      "\n"
     ]
    },
    {
     "name": "stderr",
     "output_type": "stream",
     "text": [
      "\u001b[32mMC running β₁=Inf, β₂=0.1 100%|█████████████████████████| Time: 0:00:02\u001b[39m\n"
     ]
    },
    {
     "name": "stdout",
     "output_type": "stream",
     "text": [
      "Temperature 1 of 3:(β₁=Inf,β₂=0.1). Distortion 0.456. Acceptance 29%\n"
     ]
    },
    {
     "name": "stderr",
     "output_type": "stream",
     "text": [
      "\u001b[32mMC running β₁=Inf, β₂=1.0 100%|█████████████████████████| Time: 0:00:02\u001b[39m\n"
     ]
    },
    {
     "name": "stdout",
     "output_type": "stream",
     "text": [
      "Temperature 2 of 3:(β₁=Inf,β₂=1.0). Distortion 0.42. Acceptance 41%\n"
     ]
    },
    {
     "name": "stderr",
     "output_type": "stream",
     "text": [
      "\u001b[32mMC running β₁=Inf, β₂=10.0 100%|████████████████████████| Time: 0:00:02\u001b[39m\n"
     ]
    },
    {
     "name": "stdout",
     "output_type": "stream",
     "text": [
      "Temperature 3 of 3:(β₁=Inf,β₂=10.0). Distortion 0.411. Acceptance 47%\n",
      "# Finished iter 35 of 100: Parity 0. Distortion 0.411 at β₁=Inf, β₂=10.0.\n",
      "\n"
     ]
    },
    {
     "name": "stderr",
     "output_type": "stream",
     "text": [
      "\u001b[32mMC running β₁=Inf, β₂=0.1 100%|█████████████████████████| Time: 0:00:02\u001b[39m\n"
     ]
    },
    {
     "name": "stdout",
     "output_type": "stream",
     "text": [
      "Temperature 1 of 3:(β₁=Inf,β₂=0.1). Distortion 0.463. Acceptance 31%\n"
     ]
    },
    {
     "name": "stderr",
     "output_type": "stream",
     "text": [
      "\u001b[32mMC running β₁=Inf, β₂=1.0 100%|█████████████████████████| Time: 0:00:02\u001b[39m\n"
     ]
    },
    {
     "name": "stdout",
     "output_type": "stream",
     "text": [
      "Temperature 2 of 3:(β₁=Inf,β₂=1.0). Distortion 0.427. Acceptance 48%\n"
     ]
    },
    {
     "name": "stderr",
     "output_type": "stream",
     "text": [
      "\u001b[32mMC running β₁=Inf, β₂=10.0 100%|████████████████████████| Time: 0:00:03\u001b[39m\n"
     ]
    },
    {
     "name": "stdout",
     "output_type": "stream",
     "text": [
      "Temperature 3 of 3:(β₁=Inf,β₂=10.0). Distortion 0.414. Acceptance 54%\n",
      "# Finished iter 36 of 100: Parity 0. Distortion 0.414 at β₁=Inf, β₂=10.0.\n",
      "\n"
     ]
    },
    {
     "name": "stderr",
     "output_type": "stream",
     "text": [
      "\u001b[32mMC running β₁=Inf, β₂=0.1 100%|█████████████████████████| Time: 0:00:02\u001b[39m\n"
     ]
    },
    {
     "name": "stdout",
     "output_type": "stream",
     "text": [
      "Temperature 1 of 3:(β₁=Inf,β₂=0.1). Distortion 0.461. Acceptance 29%\n"
     ]
    },
    {
     "name": "stderr",
     "output_type": "stream",
     "text": [
      "\u001b[32mMC running β₁=Inf, β₂=1.0 100%|█████████████████████████| Time: 0:00:02\u001b[39m\n"
     ]
    },
    {
     "name": "stdout",
     "output_type": "stream",
     "text": [
      "Temperature 2 of 3:(β₁=Inf,β₂=1.0). Distortion 0.426. Acceptance 43%\n"
     ]
    },
    {
     "name": "stderr",
     "output_type": "stream",
     "text": [
      "\u001b[32mMC running β₁=Inf, β₂=10.0 100%|████████████████████████| Time: 0:00:02\u001b[39m\n"
     ]
    },
    {
     "name": "stdout",
     "output_type": "stream",
     "text": [
      "Temperature 3 of 3:(β₁=Inf,β₂=10.0). Distortion 0.397. Acceptance 49%\n",
      "# Finished iter 37 of 100: Parity 0. Distortion 0.397 at β₁=Inf, β₂=10.0.\n",
      "\n"
     ]
    },
    {
     "name": "stderr",
     "output_type": "stream",
     "text": [
      "\u001b[32mMC running β₁=Inf, β₂=0.1 100%|█████████████████████████| Time: 0:00:02\u001b[39m\n"
     ]
    },
    {
     "name": "stdout",
     "output_type": "stream",
     "text": [
      "Temperature 1 of 3:(β₁=Inf,β₂=0.1). Distortion 0.448. Acceptance 30%\n"
     ]
    },
    {
     "name": "stderr",
     "output_type": "stream",
     "text": [
      "\u001b[32mMC running β₁=Inf, β₂=1.0 100%|█████████████████████████| Time: 0:00:02\u001b[39m\n"
     ]
    },
    {
     "name": "stdout",
     "output_type": "stream",
     "text": [
      "Temperature 2 of 3:(β₁=Inf,β₂=1.0). Distortion 0.408. Acceptance 43%\n"
     ]
    },
    {
     "name": "stderr",
     "output_type": "stream",
     "text": [
      "\u001b[32mMC running β₁=Inf, β₂=10.0 100%|████████████████████████| Time: 0:00:02\u001b[39m\n"
     ]
    },
    {
     "name": "stdout",
     "output_type": "stream",
     "text": [
      "Temperature 3 of 3:(β₁=Inf,β₂=10.0). Distortion 0.395. Acceptance 48%\n",
      "# Finished iter 38 of 100: Parity 0. Distortion 0.395 at β₁=Inf, β₂=10.0.\n",
      "\n"
     ]
    },
    {
     "name": "stderr",
     "output_type": "stream",
     "text": [
      "\u001b[32mMC running β₁=Inf, β₂=0.1 100%|█████████████████████████| Time: 0:00:02\u001b[39m\n"
     ]
    },
    {
     "name": "stdout",
     "output_type": "stream",
     "text": [
      "Temperature 1 of 3:(β₁=Inf,β₂=0.1). Distortion 0.485. Acceptance 30%\n"
     ]
    },
    {
     "name": "stderr",
     "output_type": "stream",
     "text": [
      "\u001b[32mMC running β₁=Inf, β₂=1.0 100%|█████████████████████████| Time: 0:00:02\u001b[39m\n"
     ]
    },
    {
     "name": "stdout",
     "output_type": "stream",
     "text": [
      "Temperature 2 of 3:(β₁=Inf,β₂=1.0). Distortion 0.439. Acceptance 47%\n"
     ]
    },
    {
     "name": "stderr",
     "output_type": "stream",
     "text": [
      "\u001b[32mMC running β₁=Inf, β₂=10.0 100%|████████████████████████| Time: 0:00:02\u001b[39m\n"
     ]
    },
    {
     "name": "stdout",
     "output_type": "stream",
     "text": [
      "Temperature 3 of 3:(β₁=Inf,β₂=10.0). Distortion 0.406. Acceptance 54%\n",
      "# Finished iter 39 of 100: Parity 0. Distortion 0.406 at β₁=Inf, β₂=10.0.\n",
      "\n"
     ]
    },
    {
     "name": "stderr",
     "output_type": "stream",
     "text": [
      "\u001b[32mMC running β₁=Inf, β₂=0.1 100%|█████████████████████████| Time: 0:00:02\u001b[39m\n"
     ]
    },
    {
     "name": "stdout",
     "output_type": "stream",
     "text": [
      "Temperature 1 of 3:(β₁=Inf,β₂=0.1). Distortion 0.459. Acceptance 30%\n"
     ]
    },
    {
     "name": "stderr",
     "output_type": "stream",
     "text": [
      "\u001b[32mMC running β₁=Inf, β₂=1.0 100%|█████████████████████████| Time: 0:00:02\u001b[39m\n"
     ]
    },
    {
     "name": "stdout",
     "output_type": "stream",
     "text": [
      "Temperature 2 of 3:(β₁=Inf,β₂=1.0). Distortion 0.439. Acceptance 43%\n"
     ]
    },
    {
     "name": "stderr",
     "output_type": "stream",
     "text": [
      "\u001b[32mMC running β₁=Inf, β₂=10.0 100%|████████████████████████| Time: 0:00:02\u001b[39m\n"
     ]
    },
    {
     "name": "stdout",
     "output_type": "stream",
     "text": [
      "Temperature 3 of 3:(β₁=Inf,β₂=10.0). Distortion 0.417. Acceptance 49%\n",
      "# Finished iter 40 of 100: Parity 0. Distortion 0.417 at β₁=Inf, β₂=10.0.\n",
      "\n"
     ]
    },
    {
     "name": "stderr",
     "output_type": "stream",
     "text": [
      "\u001b[32mMC running β₁=Inf, β₂=0.1 100%|█████████████████████████| Time: 0:00:02\u001b[39m\n"
     ]
    },
    {
     "name": "stdout",
     "output_type": "stream",
     "text": [
      "Temperature 1 of 3:(β₁=Inf,β₂=0.1). Distortion 0.484. Acceptance 29%\n"
     ]
    },
    {
     "name": "stderr",
     "output_type": "stream",
     "text": [
      "\u001b[32mMC running β₁=Inf, β₂=1.0 100%|█████████████████████████| Time: 0:00:02\u001b[39m\n"
     ]
    },
    {
     "name": "stdout",
     "output_type": "stream",
     "text": [
      "Temperature 2 of 3:(β₁=Inf,β₂=1.0). Distortion 0.444. Acceptance 46%\n"
     ]
    },
    {
     "name": "stderr",
     "output_type": "stream",
     "text": [
      "\u001b[32mMC running β₁=Inf, β₂=10.0 100%|████████████████████████| Time: 0:00:02\u001b[39m\n"
     ]
    },
    {
     "name": "stdout",
     "output_type": "stream",
     "text": [
      "Temperature 3 of 3:(β₁=Inf,β₂=10.0). Distortion 0.409. Acceptance 54%\n",
      "# Finished iter 41 of 100: Parity 0. Distortion 0.409 at β₁=Inf, β₂=10.0.\n",
      "\n"
     ]
    },
    {
     "name": "stderr",
     "output_type": "stream",
     "text": [
      "\u001b[32mMC running β₁=Inf, β₂=0.1 100%|█████████████████████████| Time: 0:00:02\u001b[39m\n"
     ]
    },
    {
     "name": "stdout",
     "output_type": "stream",
     "text": [
      "Temperature 1 of 3:(β₁=Inf,β₂=0.1). Distortion 0.459. Acceptance 29%\n"
     ]
    },
    {
     "name": "stderr",
     "output_type": "stream",
     "text": [
      "\u001b[32mMC running β₁=Inf, β₂=1.0 100%|█████████████████████████| Time: 0:00:02\u001b[39m\n"
     ]
    },
    {
     "name": "stdout",
     "output_type": "stream",
     "text": [
      "Temperature 2 of 3:(β₁=Inf,β₂=1.0). Distortion 0.416. Acceptance 43%\n"
     ]
    },
    {
     "name": "stderr",
     "output_type": "stream",
     "text": [
      "\u001b[32mMC running β₁=Inf, β₂=10.0 100%|████████████████████████| Time: 0:00:02\u001b[39m\n"
     ]
    },
    {
     "name": "stdout",
     "output_type": "stream",
     "text": [
      "Temperature 3 of 3:(β₁=Inf,β₂=10.0). Distortion 0.398. Acceptance 50%\n",
      "# Finished iter 42 of 100: Parity 0. Distortion 0.398 at β₁=Inf, β₂=10.0.\n",
      "\n"
     ]
    },
    {
     "name": "stderr",
     "output_type": "stream",
     "text": [
      "\u001b[32mMC running β₁=Inf, β₂=0.1 100%|█████████████████████████| Time: 0:00:02\u001b[39m\n"
     ]
    },
    {
     "name": "stdout",
     "output_type": "stream",
     "text": [
      "Temperature 1 of 3:(β₁=Inf,β₂=0.1). Distortion 0.479. Acceptance 32%\n"
     ]
    },
    {
     "name": "stderr",
     "output_type": "stream",
     "text": [
      "\u001b[32mMC running β₁=Inf, β₂=1.0 100%|█████████████████████████| Time: 0:00:02\u001b[39m\n"
     ]
    },
    {
     "name": "stdout",
     "output_type": "stream",
     "text": [
      "Temperature 2 of 3:(β₁=Inf,β₂=1.0). Distortion 0.429. Acceptance 47%\n"
     ]
    },
    {
     "name": "stderr",
     "output_type": "stream",
     "text": [
      "\u001b[32mMC running β₁=Inf, β₂=10.0 100%|████████████████████████| Time: 0:00:02\u001b[39m\n"
     ]
    },
    {
     "name": "stdout",
     "output_type": "stream",
     "text": [
      "Temperature 3 of 3:(β₁=Inf,β₂=10.0). Distortion 0.4. Acceptance 57%\n",
      "# Finished iter 43 of 100: Parity 0. Distortion 0.400 at β₁=Inf, β₂=10.0.\n",
      "\n"
     ]
    },
    {
     "name": "stderr",
     "output_type": "stream",
     "text": [
      "\u001b[32mMC running β₁=Inf, β₂=0.1 100%|█████████████████████████| Time: 0:00:02\u001b[39m\n"
     ]
    },
    {
     "name": "stdout",
     "output_type": "stream",
     "text": [
      "Temperature 1 of 3:(β₁=Inf,β₂=0.1). Distortion 0.487. Acceptance 31%\n"
     ]
    },
    {
     "name": "stderr",
     "output_type": "stream",
     "text": [
      "\u001b[32mMC running β₁=Inf, β₂=1.0 100%|█████████████████████████| Time: 0:00:02\u001b[39m\n"
     ]
    },
    {
     "name": "stdout",
     "output_type": "stream",
     "text": [
      "Temperature 2 of 3:(β₁=Inf,β₂=1.0). Distortion 0.458. Acceptance 47%\n"
     ]
    },
    {
     "name": "stderr",
     "output_type": "stream",
     "text": [
      "\u001b[32mMC running β₁=Inf, β₂=10.0 100%|████████████████████████| Time: 0:00:02\u001b[39m\n"
     ]
    },
    {
     "name": "stdout",
     "output_type": "stream",
     "text": [
      "Temperature 3 of 3:(β₁=Inf,β₂=10.0). Distortion 0.442. Acceptance 53%\n",
      "# Finished iter 44 of 100: Parity 0. Distortion 0.442 at β₁=Inf, β₂=10.0.\n",
      "\n"
     ]
    },
    {
     "name": "stderr",
     "output_type": "stream",
     "text": [
      "\u001b[32mMC running β₁=Inf, β₂=0.1 100%|█████████████████████████| Time: 0:00:02\u001b[39m\n"
     ]
    },
    {
     "name": "stdout",
     "output_type": "stream",
     "text": [
      "Temperature 1 of 3:(β₁=Inf,β₂=0.1). Distortion 0.45. Acceptance 28%\n"
     ]
    },
    {
     "name": "stderr",
     "output_type": "stream",
     "text": [
      "\u001b[32mMC running β₁=Inf, β₂=1.0 100%|█████████████████████████| Time: 0:00:02\u001b[39m\n"
     ]
    },
    {
     "name": "stdout",
     "output_type": "stream",
     "text": [
      "Temperature 2 of 3:(β₁=Inf,β₂=1.0). Distortion 0.42. Acceptance 43%\n"
     ]
    },
    {
     "name": "stderr",
     "output_type": "stream",
     "text": [
      "\u001b[32mMC running β₁=Inf, β₂=10.0 100%|████████████████████████| Time: 0:00:02\u001b[39m\n"
     ]
    },
    {
     "name": "stdout",
     "output_type": "stream",
     "text": [
      "Temperature 3 of 3:(β₁=Inf,β₂=10.0). Distortion 0.393. Acceptance 49%\n",
      "# Finished iter 45 of 100: Parity 0. Distortion 0.393 at β₁=Inf, β₂=10.0.\n",
      "\n"
     ]
    },
    {
     "name": "stderr",
     "output_type": "stream",
     "text": [
      "\u001b[32mMC running β₁=Inf, β₂=0.1 100%|█████████████████████████| Time: 0:00:02\u001b[39m\n"
     ]
    },
    {
     "name": "stdout",
     "output_type": "stream",
     "text": [
      "Temperature 1 of 3:(β₁=Inf,β₂=0.1). Distortion 0.479. Acceptance 30%\n"
     ]
    },
    {
     "name": "stderr",
     "output_type": "stream",
     "text": [
      "\u001b[32mMC running β₁=Inf, β₂=1.0 100%|█████████████████████████| Time: 0:00:02\u001b[39m\n"
     ]
    },
    {
     "name": "stdout",
     "output_type": "stream",
     "text": [
      "Temperature 2 of 3:(β₁=Inf,β₂=1.0). Distortion 0.45. Acceptance 47%\n"
     ]
    },
    {
     "name": "stderr",
     "output_type": "stream",
     "text": [
      "\u001b[32mMC running β₁=Inf, β₂=10.0 100%|████████████████████████| Time: 0:00:02\u001b[39m\n"
     ]
    },
    {
     "name": "stdout",
     "output_type": "stream",
     "text": [
      "Temperature 3 of 3:(β₁=Inf,β₂=10.0). Distortion 0.405. Acceptance 55%\n",
      "# Finished iter 46 of 100: Parity 0. Distortion 0.405 at β₁=Inf, β₂=10.0.\n",
      "\n"
     ]
    },
    {
     "name": "stderr",
     "output_type": "stream",
     "text": [
      "\u001b[32mMC running β₁=Inf, β₂=0.1 100%|█████████████████████████| Time: 0:00:02\u001b[39m\n"
     ]
    },
    {
     "name": "stdout",
     "output_type": "stream",
     "text": [
      "Temperature 1 of 3:(β₁=Inf,β₂=0.1). Distortion 0.476. Acceptance 30%\n"
     ]
    },
    {
     "name": "stderr",
     "output_type": "stream",
     "text": [
      "\u001b[32mMC running β₁=Inf, β₂=1.0 100%|█████████████████████████| Time: 0:00:02\u001b[39m\n"
     ]
    },
    {
     "name": "stdout",
     "output_type": "stream",
     "text": [
      "Temperature 2 of 3:(β₁=Inf,β₂=1.0). Distortion 0.439. Acceptance 45%\n"
     ]
    },
    {
     "name": "stderr",
     "output_type": "stream",
     "text": [
      "\u001b[32mMC running β₁=Inf, β₂=10.0 100%|████████████████████████| Time: 0:00:02\u001b[39m\n"
     ]
    },
    {
     "name": "stdout",
     "output_type": "stream",
     "text": [
      "Temperature 3 of 3:(β₁=Inf,β₂=10.0). Distortion 0.426. Acceptance 49%\n",
      "# Finished iter 47 of 100: Parity 0. Distortion 0.426 at β₁=Inf, β₂=10.0.\n",
      "\n"
     ]
    },
    {
     "name": "stderr",
     "output_type": "stream",
     "text": [
      "\u001b[32mMC running β₁=Inf, β₂=0.1 100%|█████████████████████████| Time: 0:00:02\u001b[39m\n"
     ]
    },
    {
     "name": "stdout",
     "output_type": "stream",
     "text": [
      "Temperature 1 of 3:(β₁=Inf,β₂=0.1). Distortion 0.477. Acceptance 28%\n"
     ]
    },
    {
     "name": "stderr",
     "output_type": "stream",
     "text": [
      "\u001b[32mMC running β₁=Inf, β₂=1.0 100%|█████████████████████████| Time: 0:00:02\u001b[39m\n"
     ]
    },
    {
     "name": "stdout",
     "output_type": "stream",
     "text": [
      "Temperature 2 of 3:(β₁=Inf,β₂=1.0). Distortion 0.436. Acceptance 43%\n"
     ]
    },
    {
     "name": "stderr",
     "output_type": "stream",
     "text": [
      "\u001b[32mMC running β₁=Inf, β₂=10.0 100%|████████████████████████| Time: 0:00:02\u001b[39m\n"
     ]
    },
    {
     "name": "stdout",
     "output_type": "stream",
     "text": [
      "Temperature 3 of 3:(β₁=Inf,β₂=10.0). Distortion 0.419. Acceptance 50%\n",
      "# Finished iter 48 of 100: Parity 0. Distortion 0.419 at β₁=Inf, β₂=10.0.\n",
      "\n"
     ]
    },
    {
     "name": "stderr",
     "output_type": "stream",
     "text": [
      "\u001b[32mMC running β₁=Inf, β₂=0.1 100%|█████████████████████████| Time: 0:00:02\u001b[39m\n"
     ]
    },
    {
     "name": "stdout",
     "output_type": "stream",
     "text": [
      "Temperature 1 of 3:(β₁=Inf,β₂=0.1). Distortion 0.468. Acceptance 30%\n"
     ]
    },
    {
     "name": "stderr",
     "output_type": "stream",
     "text": [
      "\u001b[32mMC running β₁=Inf, β₂=1.0 100%|█████████████████████████| Time: 0:00:02\u001b[39m\n"
     ]
    },
    {
     "name": "stdout",
     "output_type": "stream",
     "text": [
      "Temperature 2 of 3:(β₁=Inf,β₂=1.0). Distortion 0.437. Acceptance 42%\n"
     ]
    },
    {
     "name": "stderr",
     "output_type": "stream",
     "text": [
      "\u001b[32mMC running β₁=Inf, β₂=10.0 100%|████████████████████████| Time: 0:00:02\u001b[39m\n"
     ]
    },
    {
     "name": "stdout",
     "output_type": "stream",
     "text": [
      "Temperature 3 of 3:(β₁=Inf,β₂=10.0). Distortion 0.422. Acceptance 46%\n",
      "# Finished iter 49 of 100: Parity 0. Distortion 0.422 at β₁=Inf, β₂=10.0.\n",
      "\n"
     ]
    },
    {
     "name": "stderr",
     "output_type": "stream",
     "text": [
      "\u001b[32mMC running β₁=Inf, β₂=0.1 100%|█████████████████████████| Time: 0:00:02\u001b[39m\n"
     ]
    },
    {
     "name": "stdout",
     "output_type": "stream",
     "text": [
      "Temperature 1 of 3:(β₁=Inf,β₂=0.1). Distortion 0.449. Acceptance 30%\n"
     ]
    },
    {
     "name": "stderr",
     "output_type": "stream",
     "text": [
      "\u001b[32mMC running β₁=Inf, β₂=1.0 100%|█████████████████████████| Time: 0:00:02\u001b[39m\n"
     ]
    },
    {
     "name": "stdout",
     "output_type": "stream",
     "text": [
      "Temperature 2 of 3:(β₁=Inf,β₂=1.0). Distortion 0.403. Acceptance 47%\n"
     ]
    },
    {
     "name": "stderr",
     "output_type": "stream",
     "text": [
      "\u001b[32mMC running β₁=Inf, β₂=10.0 100%|████████████████████████| Time: 0:00:02\u001b[39m\n"
     ]
    },
    {
     "name": "stdout",
     "output_type": "stream",
     "text": [
      "Temperature 3 of 3:(β₁=Inf,β₂=10.0). Distortion 0.39. Acceptance 50%\n",
      "# Finished iter 50 of 100: Parity 0. Distortion 0.390 at β₁=Inf, β₂=10.0.\n",
      "\n"
     ]
    },
    {
     "name": "stderr",
     "output_type": "stream",
     "text": [
      "\u001b[32mMC running β₁=Inf, β₂=0.1 100%|█████████████████████████| Time: 0:00:02\u001b[39m\n"
     ]
    },
    {
     "name": "stdout",
     "output_type": "stream",
     "text": [
      "Temperature 1 of 3:(β₁=Inf,β₂=0.1). Distortion 0.48. Acceptance 31%\n"
     ]
    },
    {
     "name": "stderr",
     "output_type": "stream",
     "text": [
      "\u001b[32mMC running β₁=Inf, β₂=1.0 100%|█████████████████████████| Time: 0:00:02\u001b[39m\n"
     ]
    },
    {
     "name": "stdout",
     "output_type": "stream",
     "text": [
      "Temperature 2 of 3:(β₁=Inf,β₂=1.0). Distortion 0.437. Acceptance 42%\n"
     ]
    },
    {
     "name": "stderr",
     "output_type": "stream",
     "text": [
      "\u001b[32mMC running β₁=Inf, β₂=10.0 100%|████████████████████████| Time: 0:00:02\u001b[39m\n"
     ]
    },
    {
     "name": "stdout",
     "output_type": "stream",
     "text": [
      "Temperature 3 of 3:(β₁=Inf,β₂=10.0). Distortion 0.424. Acceptance 46%\n",
      "# Finished iter 51 of 100: Parity 0. Distortion 0.424 at β₁=Inf, β₂=10.0.\n",
      "\n"
     ]
    },
    {
     "name": "stderr",
     "output_type": "stream",
     "text": [
      "\u001b[32mMC running β₁=Inf, β₂=0.1 100%|█████████████████████████| Time: 0:00:02\u001b[39m\n"
     ]
    },
    {
     "name": "stdout",
     "output_type": "stream",
     "text": [
      "Temperature 1 of 3:(β₁=Inf,β₂=0.1). Distortion 0.493. Acceptance 27%\n"
     ]
    },
    {
     "name": "stderr",
     "output_type": "stream",
     "text": [
      "\u001b[32mMC running β₁=Inf, β₂=1.0 100%|█████████████████████████| Time: 0:00:02\u001b[39m\n"
     ]
    },
    {
     "name": "stdout",
     "output_type": "stream",
     "text": [
      "Temperature 2 of 3:(β₁=Inf,β₂=1.0). Distortion 0.447. Acceptance 41%\n"
     ]
    },
    {
     "name": "stderr",
     "output_type": "stream",
     "text": [
      "\u001b[32mMC running β₁=Inf, β₂=10.0 100%|████████████████████████| Time: 0:00:02\u001b[39m\n"
     ]
    },
    {
     "name": "stdout",
     "output_type": "stream",
     "text": [
      "Temperature 3 of 3:(β₁=Inf,β₂=10.0). Distortion 0.441. Acceptance 44%\n",
      "# Finished iter 52 of 100: Parity 0. Distortion 0.441 at β₁=Inf, β₂=10.0.\n",
      "\n"
     ]
    },
    {
     "name": "stderr",
     "output_type": "stream",
     "text": [
      "\u001b[32mMC running β₁=Inf, β₂=0.1 100%|█████████████████████████| Time: 0:00:02\u001b[39m\n"
     ]
    },
    {
     "name": "stdout",
     "output_type": "stream",
     "text": [
      "Temperature 1 of 3:(β₁=Inf,β₂=0.1). Distortion 0.476. Acceptance 29%\n"
     ]
    },
    {
     "name": "stderr",
     "output_type": "stream",
     "text": [
      "\u001b[32mMC running β₁=Inf, β₂=1.0 100%|█████████████████████████| Time: 0:00:02\u001b[39m\n"
     ]
    },
    {
     "name": "stdout",
     "output_type": "stream",
     "text": [
      "Temperature 2 of 3:(β₁=Inf,β₂=1.0). Distortion 0.447. Acceptance 42%\n"
     ]
    },
    {
     "name": "stderr",
     "output_type": "stream",
     "text": [
      "\u001b[32mMC running β₁=Inf, β₂=10.0 100%|████████████████████████| Time: 0:00:02\u001b[39m\n"
     ]
    },
    {
     "name": "stdout",
     "output_type": "stream",
     "text": [
      "Temperature 3 of 3:(β₁=Inf,β₂=10.0). Distortion 0.409. Acceptance 49%\n",
      "# Finished iter 53 of 100: Parity 0. Distortion 0.409 at β₁=Inf, β₂=10.0.\n",
      "\n"
     ]
    },
    {
     "name": "stderr",
     "output_type": "stream",
     "text": [
      "\u001b[32mMC running β₁=Inf, β₂=0.1 100%|█████████████████████████| Time: 0:00:02\u001b[39m\n"
     ]
    },
    {
     "name": "stdout",
     "output_type": "stream",
     "text": [
      "Temperature 1 of 3:(β₁=Inf,β₂=0.1). Distortion 0.485. Acceptance 30%\n"
     ]
    },
    {
     "name": "stderr",
     "output_type": "stream",
     "text": [
      "\u001b[32mMC running β₁=Inf, β₂=1.0 100%|█████████████████████████| Time: 0:00:02\u001b[39m\n"
     ]
    },
    {
     "name": "stdout",
     "output_type": "stream",
     "text": [
      "Temperature 2 of 3:(β₁=Inf,β₂=1.0). Distortion 0.452. Acceptance 48%\n"
     ]
    },
    {
     "name": "stderr",
     "output_type": "stream",
     "text": [
      "\u001b[32mMC running β₁=Inf, β₂=10.0 100%|████████████████████████| Time: 0:00:02\u001b[39m\n"
     ]
    },
    {
     "name": "stdout",
     "output_type": "stream",
     "text": [
      "Temperature 3 of 3:(β₁=Inf,β₂=10.0). Distortion 0.427. Acceptance 55%\n",
      "# Finished iter 54 of 100: Parity 0. Distortion 0.427 at β₁=Inf, β₂=10.0.\n",
      "\n"
     ]
    },
    {
     "name": "stderr",
     "output_type": "stream",
     "text": [
      "\u001b[32mMC running β₁=Inf, β₂=0.1 100%|█████████████████████████| Time: 0:00:02\u001b[39m\n"
     ]
    },
    {
     "name": "stdout",
     "output_type": "stream",
     "text": [
      "Temperature 1 of 3:(β₁=Inf,β₂=0.1). Distortion 0.468. Acceptance 31%\n"
     ]
    },
    {
     "name": "stderr",
     "output_type": "stream",
     "text": [
      "\u001b[32mMC running β₁=Inf, β₂=1.0 100%|█████████████████████████| Time: 0:00:02\u001b[39m\n"
     ]
    },
    {
     "name": "stdout",
     "output_type": "stream",
     "text": [
      "Temperature 2 of 3:(β₁=Inf,β₂=1.0). Distortion 0.421. Acceptance 44%\n"
     ]
    },
    {
     "name": "stderr",
     "output_type": "stream",
     "text": [
      "\u001b[32mMC running β₁=Inf, β₂=10.0 100%|████████████████████████| Time: 0:00:02\u001b[39m\n"
     ]
    },
    {
     "name": "stdout",
     "output_type": "stream",
     "text": [
      "Temperature 3 of 3:(β₁=Inf,β₂=10.0). Distortion 0.395. Acceptance 51%\n",
      "# Finished iter 55 of 100: Parity 0. Distortion 0.395 at β₁=Inf, β₂=10.0.\n",
      "\n"
     ]
    },
    {
     "name": "stderr",
     "output_type": "stream",
     "text": [
      "\u001b[32mMC running β₁=Inf, β₂=0.1 100%|█████████████████████████| Time: 0:00:02\u001b[39m\n"
     ]
    },
    {
     "name": "stdout",
     "output_type": "stream",
     "text": [
      "Temperature 1 of 3:(β₁=Inf,β₂=0.1). Distortion 0.467. Acceptance 29%\n"
     ]
    },
    {
     "name": "stderr",
     "output_type": "stream",
     "text": [
      "\u001b[32mMC running β₁=Inf, β₂=1.0 100%|█████████████████████████| Time: 0:00:02\u001b[39m\n"
     ]
    },
    {
     "name": "stdout",
     "output_type": "stream",
     "text": [
      "Temperature 2 of 3:(β₁=Inf,β₂=1.0). Distortion 0.423. Acceptance 44%\n"
     ]
    },
    {
     "name": "stderr",
     "output_type": "stream",
     "text": [
      "\u001b[32mMC running β₁=Inf, β₂=10.0 100%|████████████████████████| Time: 0:00:02\u001b[39m\n"
     ]
    },
    {
     "name": "stdout",
     "output_type": "stream",
     "text": [
      "Temperature 3 of 3:(β₁=Inf,β₂=10.0). Distortion 0.406. Acceptance 49%\n",
      "# Finished iter 56 of 100: Parity 0. Distortion 0.406 at β₁=Inf, β₂=10.0.\n",
      "\n"
     ]
    },
    {
     "name": "stderr",
     "output_type": "stream",
     "text": [
      "\u001b[32mMC running β₁=Inf, β₂=0.1 100%|█████████████████████████| Time: 0:00:02\u001b[39m\n"
     ]
    },
    {
     "name": "stdout",
     "output_type": "stream",
     "text": [
      "Temperature 1 of 3:(β₁=Inf,β₂=0.1). Distortion 0.46. Acceptance 29%\n"
     ]
    },
    {
     "name": "stderr",
     "output_type": "stream",
     "text": [
      "\u001b[32mMC running β₁=Inf, β₂=1.0 100%|█████████████████████████| Time: 0:00:02\u001b[39m\n"
     ]
    },
    {
     "name": "stdout",
     "output_type": "stream",
     "text": [
      "Temperature 2 of 3:(β₁=Inf,β₂=1.0). Distortion 0.452. Acceptance 41%\n"
     ]
    },
    {
     "name": "stderr",
     "output_type": "stream",
     "text": [
      "\u001b[32mMC running β₁=Inf, β₂=10.0 100%|████████████████████████| Time: 0:00:02\u001b[39m\n"
     ]
    },
    {
     "name": "stdout",
     "output_type": "stream",
     "text": [
      "Temperature 3 of 3:(β₁=Inf,β₂=10.0). Distortion 0.423. Acceptance 49%\n",
      "# Finished iter 57 of 100: Parity 0. Distortion 0.423 at β₁=Inf, β₂=10.0.\n",
      "\n"
     ]
    },
    {
     "name": "stderr",
     "output_type": "stream",
     "text": [
      "\u001b[32mMC running β₁=Inf, β₂=0.1 100%|█████████████████████████| Time: 0:00:02\u001b[39m\n"
     ]
    },
    {
     "name": "stdout",
     "output_type": "stream",
     "text": [
      "Temperature 1 of 3:(β₁=Inf,β₂=0.1). Distortion 0.477. Acceptance 31%\n"
     ]
    },
    {
     "name": "stderr",
     "output_type": "stream",
     "text": [
      "\u001b[32mMC running β₁=Inf, β₂=1.0 100%|█████████████████████████| Time: 0:00:02\u001b[39m\n"
     ]
    },
    {
     "name": "stdout",
     "output_type": "stream",
     "text": [
      "Temperature 2 of 3:(β₁=Inf,β₂=1.0). Distortion 0.448. Acceptance 49%\n"
     ]
    },
    {
     "name": "stderr",
     "output_type": "stream",
     "text": [
      "\u001b[32mMC running β₁=Inf, β₂=10.0 100%|████████████████████████| Time: 0:00:02\u001b[39m\n"
     ]
    },
    {
     "name": "stdout",
     "output_type": "stream",
     "text": [
      "Temperature 3 of 3:(β₁=Inf,β₂=10.0). Distortion 0.417. Acceptance 58%\n",
      "# Finished iter 58 of 100: Parity 0. Distortion 0.417 at β₁=Inf, β₂=10.0.\n",
      "\n"
     ]
    },
    {
     "name": "stderr",
     "output_type": "stream",
     "text": [
      "\u001b[32mMC running β₁=Inf, β₂=0.1 100%|█████████████████████████| Time: 0:00:02\u001b[39m\n"
     ]
    },
    {
     "name": "stdout",
     "output_type": "stream",
     "text": [
      "Temperature 1 of 3:(β₁=Inf,β₂=0.1). Distortion 0.458. Acceptance 28%\n"
     ]
    },
    {
     "name": "stderr",
     "output_type": "stream",
     "text": [
      "\u001b[32mMC running β₁=Inf, β₂=1.0 100%|█████████████████████████| Time: 0:00:02\u001b[39m\n"
     ]
    },
    {
     "name": "stdout",
     "output_type": "stream",
     "text": [
      "Temperature 2 of 3:(β₁=Inf,β₂=1.0). Distortion 0.437. Acceptance 46%\n"
     ]
    },
    {
     "name": "stderr",
     "output_type": "stream",
     "text": [
      "\u001b[32mMC running β₁=Inf, β₂=10.0 100%|████████████████████████| Time: 0:00:02\u001b[39m\n"
     ]
    },
    {
     "name": "stdout",
     "output_type": "stream",
     "text": [
      "Temperature 3 of 3:(β₁=Inf,β₂=10.0). Distortion 0.411. Acceptance 52%\n",
      "# Finished iter 59 of 100: Parity 0. Distortion 0.411 at β₁=Inf, β₂=10.0.\n",
      "\n"
     ]
    },
    {
     "name": "stderr",
     "output_type": "stream",
     "text": [
      "\u001b[32mMC running β₁=Inf, β₂=0.1 100%|█████████████████████████| Time: 0:00:02\u001b[39m\n"
     ]
    },
    {
     "name": "stdout",
     "output_type": "stream",
     "text": [
      "Temperature 1 of 3:(β₁=Inf,β₂=0.1). Distortion 0.468. Acceptance 29%\n"
     ]
    },
    {
     "name": "stderr",
     "output_type": "stream",
     "text": [
      "\u001b[32mMC running β₁=Inf, β₂=1.0 100%|█████████████████████████| Time: 0:00:02\u001b[39m\n"
     ]
    },
    {
     "name": "stdout",
     "output_type": "stream",
     "text": [
      "Temperature 2 of 3:(β₁=Inf,β₂=1.0). Distortion 0.456. Acceptance 42%\n"
     ]
    },
    {
     "name": "stderr",
     "output_type": "stream",
     "text": [
      "\u001b[32mMC running β₁=Inf, β₂=10.0 100%|████████████████████████| Time: 0:00:02\u001b[39m\n"
     ]
    },
    {
     "name": "stdout",
     "output_type": "stream",
     "text": [
      "Temperature 3 of 3:(β₁=Inf,β₂=10.0). Distortion 0.433. Acceptance 49%\n",
      "# Finished iter 60 of 100: Parity 0. Distortion 0.433 at β₁=Inf, β₂=10.0.\n",
      "\n"
     ]
    },
    {
     "name": "stderr",
     "output_type": "stream",
     "text": [
      "\u001b[32mMC running β₁=Inf, β₂=0.1 100%|█████████████████████████| Time: 0:00:02\u001b[39m\n"
     ]
    },
    {
     "name": "stdout",
     "output_type": "stream",
     "text": [
      "Temperature 1 of 3:(β₁=Inf,β₂=0.1). Distortion 0.471. Acceptance 30%\n"
     ]
    },
    {
     "name": "stderr",
     "output_type": "stream",
     "text": [
      "\u001b[32mMC running β₁=Inf, β₂=1.0 100%|█████████████████████████| Time: 0:00:02\u001b[39m\n"
     ]
    },
    {
     "name": "stdout",
     "output_type": "stream",
     "text": [
      "Temperature 2 of 3:(β₁=Inf,β₂=1.0). Distortion 0.438. Acceptance 42%\n"
     ]
    },
    {
     "name": "stderr",
     "output_type": "stream",
     "text": [
      "\u001b[32mMC running β₁=Inf, β₂=10.0 100%|████████████████████████| Time: 0:00:02\u001b[39m\n"
     ]
    },
    {
     "name": "stdout",
     "output_type": "stream",
     "text": [
      "Temperature 3 of 3:(β₁=Inf,β₂=10.0). Distortion 0.42. Acceptance 48%\n",
      "# Finished iter 61 of 100: Parity 0. Distortion 0.420 at β₁=Inf, β₂=10.0.\n",
      "\n"
     ]
    },
    {
     "name": "stderr",
     "output_type": "stream",
     "text": [
      "\u001b[32mMC running β₁=Inf, β₂=0.1 100%|█████████████████████████| Time: 0:00:02\u001b[39m\n"
     ]
    },
    {
     "name": "stdout",
     "output_type": "stream",
     "text": [
      "Temperature 1 of 3:(β₁=Inf,β₂=0.1). Distortion 0.471. Acceptance 29%\n"
     ]
    },
    {
     "name": "stderr",
     "output_type": "stream",
     "text": [
      "\u001b[32mMC running β₁=Inf, β₂=1.0 100%|█████████████████████████| Time: 0:00:02\u001b[39m\n"
     ]
    },
    {
     "name": "stdout",
     "output_type": "stream",
     "text": [
      "Temperature 2 of 3:(β₁=Inf,β₂=1.0). Distortion 0.454. Acceptance 44%\n"
     ]
    },
    {
     "name": "stderr",
     "output_type": "stream",
     "text": [
      "\u001b[32mMC running β₁=Inf, β₂=10.0 100%|████████████████████████| Time: 0:00:02\u001b[39m\n"
     ]
    },
    {
     "name": "stdout",
     "output_type": "stream",
     "text": [
      "Temperature 3 of 3:(β₁=Inf,β₂=10.0). Distortion 0.431. Acceptance 49%\n",
      "# Finished iter 62 of 100: Parity 0. Distortion 0.431 at β₁=Inf, β₂=10.0.\n",
      "\n"
     ]
    },
    {
     "name": "stderr",
     "output_type": "stream",
     "text": [
      "\u001b[32mMC running β₁=Inf, β₂=0.1 100%|█████████████████████████| Time: 0:00:02\u001b[39m\n"
     ]
    },
    {
     "name": "stdout",
     "output_type": "stream",
     "text": [
      "Temperature 1 of 3:(β₁=Inf,β₂=0.1). Distortion 0.456. Acceptance 31%\n"
     ]
    },
    {
     "name": "stderr",
     "output_type": "stream",
     "text": [
      "\u001b[32mMC running β₁=Inf, β₂=1.0 100%|█████████████████████████| Time: 0:00:02\u001b[39m\n"
     ]
    },
    {
     "name": "stdout",
     "output_type": "stream",
     "text": [
      "Temperature 2 of 3:(β₁=Inf,β₂=1.0). Distortion 0.413. Acceptance 45%\n"
     ]
    },
    {
     "name": "stderr",
     "output_type": "stream",
     "text": [
      "\u001b[32mMC running β₁=Inf, β₂=10.0 100%|████████████████████████| Time: 0:00:02\u001b[39m\n"
     ]
    },
    {
     "name": "stdout",
     "output_type": "stream",
     "text": [
      "Temperature 3 of 3:(β₁=Inf,β₂=10.0). Distortion 0.399. Acceptance 51%\n",
      "# Finished iter 63 of 100: Parity 0. Distortion 0.399 at β₁=Inf, β₂=10.0.\n",
      "\n"
     ]
    },
    {
     "name": "stderr",
     "output_type": "stream",
     "text": [
      "\u001b[32mMC running β₁=Inf, β₂=0.1 100%|█████████████████████████| Time: 0:00:02\u001b[39m\n"
     ]
    },
    {
     "name": "stdout",
     "output_type": "stream",
     "text": [
      "Temperature 1 of 3:(β₁=Inf,β₂=0.1). Distortion 0.491. Acceptance 30%\n"
     ]
    },
    {
     "name": "stderr",
     "output_type": "stream",
     "text": [
      "\u001b[32mMC running β₁=Inf, β₂=1.0 100%|█████████████████████████| Time: 0:00:02\u001b[39m\n"
     ]
    },
    {
     "name": "stdout",
     "output_type": "stream",
     "text": [
      "Temperature 2 of 3:(β₁=Inf,β₂=1.0). Distortion 0.461. Acceptance 45%\n"
     ]
    },
    {
     "name": "stderr",
     "output_type": "stream",
     "text": [
      "\u001b[32mMC running β₁=Inf, β₂=10.0 100%|████████████████████████| Time: 0:00:02\u001b[39m\n"
     ]
    },
    {
     "name": "stdout",
     "output_type": "stream",
     "text": [
      "Temperature 3 of 3:(β₁=Inf,β₂=10.0). Distortion 0.448. Acceptance 52%\n",
      "# Finished iter 64 of 100: Parity 0. Distortion 0.448 at β₁=Inf, β₂=10.0.\n",
      "\n"
     ]
    },
    {
     "name": "stderr",
     "output_type": "stream",
     "text": [
      "\u001b[32mMC running β₁=Inf, β₂=0.1 100%|█████████████████████████| Time: 0:00:02\u001b[39m\n"
     ]
    },
    {
     "name": "stdout",
     "output_type": "stream",
     "text": [
      "Temperature 1 of 3:(β₁=Inf,β₂=0.1). Distortion 0.486. Acceptance 29%\n"
     ]
    },
    {
     "name": "stderr",
     "output_type": "stream",
     "text": [
      "\u001b[32mMC running β₁=Inf, β₂=1.0 100%|█████████████████████████| Time: 0:00:02\u001b[39m\n"
     ]
    },
    {
     "name": "stdout",
     "output_type": "stream",
     "text": [
      "Temperature 2 of 3:(β₁=Inf,β₂=1.0). Distortion 0.428. Acceptance 43%\n"
     ]
    },
    {
     "name": "stderr",
     "output_type": "stream",
     "text": [
      "\u001b[32mMC running β₁=Inf, β₂=10.0 100%|████████████████████████| Time: 0:00:02\u001b[39m\n"
     ]
    },
    {
     "name": "stdout",
     "output_type": "stream",
     "text": [
      "Temperature 3 of 3:(β₁=Inf,β₂=10.0). Distortion 0.416. Acceptance 49%\n",
      "# Finished iter 65 of 100: Parity 0. Distortion 0.416 at β₁=Inf, β₂=10.0.\n",
      "\n"
     ]
    },
    {
     "name": "stderr",
     "output_type": "stream",
     "text": [
      "\u001b[32mMC running β₁=Inf, β₂=0.1 100%|█████████████████████████| Time: 0:00:02\u001b[39m\n"
     ]
    },
    {
     "name": "stdout",
     "output_type": "stream",
     "text": [
      "Temperature 1 of 3:(β₁=Inf,β₂=0.1). Distortion 0.478. Acceptance 29%\n"
     ]
    },
    {
     "name": "stderr",
     "output_type": "stream",
     "text": [
      "\u001b[32mMC running β₁=Inf, β₂=1.0 100%|█████████████████████████| Time: 0:00:02\u001b[39m\n"
     ]
    },
    {
     "name": "stdout",
     "output_type": "stream",
     "text": [
      "Temperature 2 of 3:(β₁=Inf,β₂=1.0). Distortion 0.442. Acceptance 42%\n"
     ]
    },
    {
     "name": "stderr",
     "output_type": "stream",
     "text": [
      "\u001b[32mMC running β₁=Inf, β₂=10.0 100%|████████████████████████| Time: 0:00:02\u001b[39m\n"
     ]
    },
    {
     "name": "stdout",
     "output_type": "stream",
     "text": [
      "Temperature 3 of 3:(β₁=Inf,β₂=10.0). Distortion 0.427. Acceptance 48%\n",
      "# Finished iter 66 of 100: Parity 0. Distortion 0.427 at β₁=Inf, β₂=10.0.\n",
      "\n"
     ]
    },
    {
     "name": "stderr",
     "output_type": "stream",
     "text": [
      "\u001b[32mMC running β₁=Inf, β₂=0.1 100%|█████████████████████████| Time: 0:00:02\u001b[39m\n"
     ]
    },
    {
     "name": "stdout",
     "output_type": "stream",
     "text": [
      "Temperature 1 of 3:(β₁=Inf,β₂=0.1). Distortion 0.468. Acceptance 31%\n"
     ]
    },
    {
     "name": "stderr",
     "output_type": "stream",
     "text": [
      "\u001b[32mMC running β₁=Inf, β₂=1.0 100%|█████████████████████████| Time: 0:00:02\u001b[39m\n"
     ]
    },
    {
     "name": "stdout",
     "output_type": "stream",
     "text": [
      "Temperature 2 of 3:(β₁=Inf,β₂=1.0). Distortion 0.443. Acceptance 44%\n"
     ]
    },
    {
     "name": "stderr",
     "output_type": "stream",
     "text": [
      "\u001b[32mMC running β₁=Inf, β₂=10.0 100%|████████████████████████| Time: 0:00:02\u001b[39m\n"
     ]
    },
    {
     "name": "stdout",
     "output_type": "stream",
     "text": [
      "Temperature 3 of 3:(β₁=Inf,β₂=10.0). Distortion 0.426. Acceptance 51%\n",
      "# Finished iter 67 of 100: Parity 0. Distortion 0.426 at β₁=Inf, β₂=10.0.\n",
      "\n"
     ]
    },
    {
     "name": "stderr",
     "output_type": "stream",
     "text": [
      "\u001b[32mMC running β₁=Inf, β₂=0.1 100%|█████████████████████████| Time: 0:00:02\u001b[39m\n"
     ]
    },
    {
     "name": "stdout",
     "output_type": "stream",
     "text": [
      "Temperature 1 of 3:(β₁=Inf,β₂=0.1). Distortion 0.478. Acceptance 30%\n"
     ]
    },
    {
     "name": "stderr",
     "output_type": "stream",
     "text": [
      "\u001b[32mMC running β₁=Inf, β₂=1.0 100%|█████████████████████████| Time: 0:00:02\u001b[39m\n"
     ]
    },
    {
     "name": "stdout",
     "output_type": "stream",
     "text": [
      "Temperature 2 of 3:(β₁=Inf,β₂=1.0). Distortion 0.444. Acceptance 42%\n"
     ]
    },
    {
     "name": "stderr",
     "output_type": "stream",
     "text": [
      "\u001b[32mMC running β₁=Inf, β₂=10.0 100%|████████████████████████| Time: 0:00:02\u001b[39m\n"
     ]
    },
    {
     "name": "stdout",
     "output_type": "stream",
     "text": [
      "Temperature 3 of 3:(β₁=Inf,β₂=10.0). Distortion 0.417. Acceptance 48%\n",
      "# Finished iter 68 of 100: Parity 0. Distortion 0.417 at β₁=Inf, β₂=10.0.\n",
      "\n"
     ]
    },
    {
     "name": "stderr",
     "output_type": "stream",
     "text": [
      "\u001b[32mMC running β₁=Inf, β₂=0.1 100%|█████████████████████████| Time: 0:00:02\u001b[39m\n"
     ]
    },
    {
     "name": "stdout",
     "output_type": "stream",
     "text": [
      "Temperature 1 of 3:(β₁=Inf,β₂=0.1). Distortion 0.509. Acceptance 31%\n"
     ]
    },
    {
     "name": "stderr",
     "output_type": "stream",
     "text": [
      "\u001b[32mMC running β₁=Inf, β₂=1.0 100%|█████████████████████████| Time: 0:00:02\u001b[39m\n"
     ]
    },
    {
     "name": "stdout",
     "output_type": "stream",
     "text": [
      "Temperature 2 of 3:(β₁=Inf,β₂=1.0). Distortion 0.462. Acceptance 46%\n"
     ]
    },
    {
     "name": "stderr",
     "output_type": "stream",
     "text": [
      "\u001b[32mMC running β₁=Inf, β₂=10.0 100%|████████████████████████| Time: 0:00:02\u001b[39m\n"
     ]
    },
    {
     "name": "stdout",
     "output_type": "stream",
     "text": [
      "Temperature 3 of 3:(β₁=Inf,β₂=10.0). Distortion 0.451. Acceptance 50%\n",
      "# Finished iter 69 of 100: Parity 0. Distortion 0.451 at β₁=Inf, β₂=10.0.\n",
      "\n"
     ]
    },
    {
     "name": "stderr",
     "output_type": "stream",
     "text": [
      "\u001b[32mMC running β₁=Inf, β₂=0.1 100%|█████████████████████████| Time: 0:00:02\u001b[39m\n"
     ]
    },
    {
     "name": "stdout",
     "output_type": "stream",
     "text": [
      "Temperature 1 of 3:(β₁=Inf,β₂=0.1). Distortion 0.48. Acceptance 28%\n"
     ]
    },
    {
     "name": "stderr",
     "output_type": "stream",
     "text": [
      "\u001b[32mMC running β₁=Inf, β₂=1.0 100%|█████████████████████████| Time: 0:00:02\u001b[39m\n"
     ]
    },
    {
     "name": "stdout",
     "output_type": "stream",
     "text": [
      "Temperature 2 of 3:(β₁=Inf,β₂=1.0). Distortion 0.447. Acceptance 46%\n"
     ]
    },
    {
     "name": "stderr",
     "output_type": "stream",
     "text": [
      "\u001b[32mMC running β₁=Inf, β₂=10.0 100%|████████████████████████| Time: 0:00:02\u001b[39m\n"
     ]
    },
    {
     "name": "stdout",
     "output_type": "stream",
     "text": [
      "Temperature 3 of 3:(β₁=Inf,β₂=10.0). Distortion 0.424. Acceptance 56%\n",
      "# Finished iter 70 of 100: Parity 0. Distortion 0.424 at β₁=Inf, β₂=10.0.\n",
      "\n"
     ]
    },
    {
     "name": "stderr",
     "output_type": "stream",
     "text": [
      "\u001b[32mMC running β₁=Inf, β₂=0.1 100%|█████████████████████████| Time: 0:00:02\u001b[39m\n"
     ]
    },
    {
     "name": "stdout",
     "output_type": "stream",
     "text": [
      "Temperature 1 of 3:(β₁=Inf,β₂=0.1). Distortion 0.478. Acceptance 29%\n"
     ]
    },
    {
     "name": "stderr",
     "output_type": "stream",
     "text": [
      "\u001b[32mMC running β₁=Inf, β₂=1.0 100%|█████████████████████████| Time: 0:00:02\u001b[39m\n"
     ]
    },
    {
     "name": "stdout",
     "output_type": "stream",
     "text": [
      "Temperature 2 of 3:(β₁=Inf,β₂=1.0). Distortion 0.436. Acceptance 43%\n"
     ]
    },
    {
     "name": "stderr",
     "output_type": "stream",
     "text": [
      "\u001b[32mMC running β₁=Inf, β₂=10.0 100%|████████████████████████| Time: 0:00:02\u001b[39m\n"
     ]
    },
    {
     "name": "stdout",
     "output_type": "stream",
     "text": [
      "Temperature 3 of 3:(β₁=Inf,β₂=10.0). Distortion 0.421. Acceptance 49%\n",
      "# Finished iter 71 of 100: Parity 0. Distortion 0.421 at β₁=Inf, β₂=10.0.\n",
      "\n"
     ]
    },
    {
     "name": "stderr",
     "output_type": "stream",
     "text": [
      "\u001b[32mMC running β₁=Inf, β₂=0.1 100%|█████████████████████████| Time: 0:00:02\u001b[39m\n"
     ]
    },
    {
     "name": "stdout",
     "output_type": "stream",
     "text": [
      "Temperature 1 of 3:(β₁=Inf,β₂=0.1). Distortion 0.487. Acceptance 30%\n"
     ]
    },
    {
     "name": "stderr",
     "output_type": "stream",
     "text": [
      "\u001b[32mMC running β₁=Inf, β₂=1.0 100%|█████████████████████████| Time: 0:00:02\u001b[39m\n"
     ]
    },
    {
     "name": "stdout",
     "output_type": "stream",
     "text": [
      "Temperature 2 of 3:(β₁=Inf,β₂=1.0). Distortion 0.452. Acceptance 45%\n"
     ]
    },
    {
     "name": "stderr",
     "output_type": "stream",
     "text": [
      "\u001b[32mMC running β₁=Inf, β₂=10.0 100%|████████████████████████| Time: 0:00:02\u001b[39m\n"
     ]
    },
    {
     "name": "stdout",
     "output_type": "stream",
     "text": [
      "Temperature 3 of 3:(β₁=Inf,β₂=10.0). Distortion 0.436. Acceptance 50%\n",
      "# Finished iter 72 of 100: Parity 0. Distortion 0.436 at β₁=Inf, β₂=10.0.\n",
      "\n"
     ]
    },
    {
     "name": "stderr",
     "output_type": "stream",
     "text": [
      "\u001b[32mMC running β₁=Inf, β₂=0.1 100%|█████████████████████████| Time: 0:00:02\u001b[39m\n"
     ]
    },
    {
     "name": "stdout",
     "output_type": "stream",
     "text": [
      "Temperature 1 of 3:(β₁=Inf,β₂=0.1). Distortion 0.468. Acceptance 29%\n"
     ]
    },
    {
     "name": "stderr",
     "output_type": "stream",
     "text": [
      "\u001b[32mMC running β₁=Inf, β₂=1.0 100%|█████████████████████████| Time: 0:00:02\u001b[39m\n"
     ]
    },
    {
     "name": "stdout",
     "output_type": "stream",
     "text": [
      "Temperature 2 of 3:(β₁=Inf,β₂=1.0). Distortion 0.43. Acceptance 42%\n"
     ]
    },
    {
     "name": "stderr",
     "output_type": "stream",
     "text": [
      "\u001b[32mMC running β₁=Inf, β₂=10.0 100%|████████████████████████| Time: 0:00:02\u001b[39m\n"
     ]
    },
    {
     "name": "stdout",
     "output_type": "stream",
     "text": [
      "Temperature 3 of 3:(β₁=Inf,β₂=10.0). Distortion 0.403. Acceptance 48%\n",
      "# Finished iter 73 of 100: Parity 0. Distortion 0.403 at β₁=Inf, β₂=10.0.\n",
      "\n"
     ]
    },
    {
     "name": "stderr",
     "output_type": "stream",
     "text": [
      "\u001b[32mMC running β₁=Inf, β₂=0.1 100%|█████████████████████████| Time: 0:00:02\u001b[39m\n"
     ]
    },
    {
     "name": "stdout",
     "output_type": "stream",
     "text": [
      "Temperature 1 of 3:(β₁=Inf,β₂=0.1). Distortion 0.464. Acceptance 30%\n"
     ]
    },
    {
     "name": "stderr",
     "output_type": "stream",
     "text": [
      "\u001b[32mMC running β₁=Inf, β₂=1.0 100%|█████████████████████████| Time: 0:00:02\u001b[39m\n"
     ]
    },
    {
     "name": "stdout",
     "output_type": "stream",
     "text": [
      "Temperature 2 of 3:(β₁=Inf,β₂=1.0). Distortion 0.436. Acceptance 43%\n"
     ]
    },
    {
     "name": "stderr",
     "output_type": "stream",
     "text": [
      "\u001b[32mMC running β₁=Inf, β₂=10.0 100%|████████████████████████| Time: 0:00:02\u001b[39m\n"
     ]
    },
    {
     "name": "stdout",
     "output_type": "stream",
     "text": [
      "Temperature 3 of 3:(β₁=Inf,β₂=10.0). Distortion 0.413. Acceptance 51%\n",
      "# Finished iter 74 of 100: Parity 0. Distortion 0.413 at β₁=Inf, β₂=10.0.\n",
      "\n"
     ]
    },
    {
     "name": "stderr",
     "output_type": "stream",
     "text": [
      "\u001b[32mMC running β₁=Inf, β₂=0.1 100%|█████████████████████████| Time: 0:00:02\u001b[39m\n"
     ]
    },
    {
     "name": "stdout",
     "output_type": "stream",
     "text": [
      "Temperature 1 of 3:(β₁=Inf,β₂=0.1). Distortion 0.474. Acceptance 31%\n"
     ]
    },
    {
     "name": "stderr",
     "output_type": "stream",
     "text": [
      "\u001b[32mMC running β₁=Inf, β₂=1.0 100%|█████████████████████████| Time: 0:00:02\u001b[39m\n"
     ]
    },
    {
     "name": "stdout",
     "output_type": "stream",
     "text": [
      "Temperature 2 of 3:(β₁=Inf,β₂=1.0). Distortion 0.433. Acceptance 47%\n"
     ]
    },
    {
     "name": "stderr",
     "output_type": "stream",
     "text": [
      "\u001b[32mMC running β₁=Inf, β₂=10.0 100%|████████████████████████| Time: 0:00:02\u001b[39m\n"
     ]
    },
    {
     "name": "stdout",
     "output_type": "stream",
     "text": [
      "Temperature 3 of 3:(β₁=Inf,β₂=10.0). Distortion 0.415. Acceptance 55%\n",
      "# Finished iter 75 of 100: Parity 0. Distortion 0.415 at β₁=Inf, β₂=10.0.\n",
      "\n"
     ]
    },
    {
     "name": "stderr",
     "output_type": "stream",
     "text": [
      "\u001b[32mMC running β₁=Inf, β₂=0.1 100%|█████████████████████████| Time: 0:00:02\u001b[39m\n"
     ]
    },
    {
     "name": "stdout",
     "output_type": "stream",
     "text": [
      "Temperature 1 of 3:(β₁=Inf,β₂=0.1). Distortion 0.471. Acceptance 30%\n"
     ]
    },
    {
     "name": "stderr",
     "output_type": "stream",
     "text": [
      "\u001b[32mMC running β₁=Inf, β₂=1.0 100%|█████████████████████████| Time: 0:00:02\u001b[39m\n"
     ]
    },
    {
     "name": "stdout",
     "output_type": "stream",
     "text": [
      "Temperature 2 of 3:(β₁=Inf,β₂=1.0). Distortion 0.441. Acceptance 45%\n"
     ]
    },
    {
     "name": "stderr",
     "output_type": "stream",
     "text": [
      "\u001b[32mMC running β₁=Inf, β₂=10.0 100%|████████████████████████| Time: 0:00:02\u001b[39m\n"
     ]
    },
    {
     "name": "stdout",
     "output_type": "stream",
     "text": [
      "Temperature 3 of 3:(β₁=Inf,β₂=10.0). Distortion 0.409. Acceptance 55%\n",
      "# Finished iter 76 of 100: Parity 0. Distortion 0.409 at β₁=Inf, β₂=10.0.\n",
      "\n"
     ]
    },
    {
     "name": "stderr",
     "output_type": "stream",
     "text": [
      "\u001b[32mMC running β₁=Inf, β₂=0.1 100%|█████████████████████████| Time: 0:00:02\u001b[39m\n"
     ]
    },
    {
     "name": "stdout",
     "output_type": "stream",
     "text": [
      "Temperature 1 of 3:(β₁=Inf,β₂=0.1). Distortion 0.491. Acceptance 29%\n"
     ]
    },
    {
     "name": "stderr",
     "output_type": "stream",
     "text": [
      "\u001b[32mMC running β₁=Inf, β₂=1.0 100%|█████████████████████████| Time: 0:00:02\u001b[39m\n"
     ]
    },
    {
     "name": "stdout",
     "output_type": "stream",
     "text": [
      "Temperature 2 of 3:(β₁=Inf,β₂=1.0). Distortion 0.452. Acceptance 42%\n"
     ]
    },
    {
     "name": "stderr",
     "output_type": "stream",
     "text": [
      "\u001b[32mMC running β₁=Inf, β₂=10.0 100%|████████████████████████| Time: 0:00:02\u001b[39m\n"
     ]
    },
    {
     "name": "stdout",
     "output_type": "stream",
     "text": [
      "Temperature 3 of 3:(β₁=Inf,β₂=10.0). Distortion 0.424. Acceptance 49%\n",
      "# Finished iter 77 of 100: Parity 0. Distortion 0.424 at β₁=Inf, β₂=10.0.\n",
      "\n"
     ]
    },
    {
     "name": "stderr",
     "output_type": "stream",
     "text": [
      "\u001b[32mMC running β₁=Inf, β₂=0.1 100%|█████████████████████████| Time: 0:00:02\u001b[39m\n"
     ]
    },
    {
     "name": "stdout",
     "output_type": "stream",
     "text": [
      "Temperature 1 of 3:(β₁=Inf,β₂=0.1). Distortion 0.49. Acceptance 30%\n"
     ]
    },
    {
     "name": "stderr",
     "output_type": "stream",
     "text": [
      "\u001b[32mMC running β₁=Inf, β₂=1.0 100%|█████████████████████████| Time: 0:00:03\u001b[39m\n"
     ]
    },
    {
     "name": "stdout",
     "output_type": "stream",
     "text": [
      "Temperature 2 of 3:(β₁=Inf,β₂=1.0). Distortion 0.451. Acceptance 46%\n"
     ]
    },
    {
     "name": "stderr",
     "output_type": "stream",
     "text": [
      "\u001b[32mMC running β₁=Inf, β₂=10.0 100%|████████████████████████| Time: 0:00:02\u001b[39m\n"
     ]
    },
    {
     "name": "stdout",
     "output_type": "stream",
     "text": [
      "Temperature 3 of 3:(β₁=Inf,β₂=10.0). Distortion 0.417. Acceptance 56%\n",
      "# Finished iter 78 of 100: Parity 0. Distortion 0.417 at β₁=Inf, β₂=10.0.\n",
      "\n"
     ]
    },
    {
     "name": "stderr",
     "output_type": "stream",
     "text": [
      "\u001b[32mMC running β₁=Inf, β₂=0.1 100%|█████████████████████████| Time: 0:00:02\u001b[39m\n"
     ]
    },
    {
     "name": "stdout",
     "output_type": "stream",
     "text": [
      "Temperature 1 of 3:(β₁=Inf,β₂=0.1). Distortion 0.48. Acceptance 30%\n"
     ]
    },
    {
     "name": "stderr",
     "output_type": "stream",
     "text": [
      "\u001b[32mMC running β₁=Inf, β₂=1.0 100%|█████████████████████████| Time: 0:00:02\u001b[39m\n"
     ]
    },
    {
     "name": "stdout",
     "output_type": "stream",
     "text": [
      "Temperature 2 of 3:(β₁=Inf,β₂=1.0). Distortion 0.437. Acceptance 46%\n"
     ]
    },
    {
     "name": "stderr",
     "output_type": "stream",
     "text": [
      "\u001b[32mMC running β₁=Inf, β₂=10.0 100%|████████████████████████| Time: 0:00:02\u001b[39m\n"
     ]
    },
    {
     "name": "stdout",
     "output_type": "stream",
     "text": [
      "Temperature 3 of 3:(β₁=Inf,β₂=10.0). Distortion 0.414. Acceptance 53%\n",
      "# Finished iter 79 of 100: Parity 0. Distortion 0.414 at β₁=Inf, β₂=10.0.\n",
      "\n"
     ]
    },
    {
     "name": "stderr",
     "output_type": "stream",
     "text": [
      "\u001b[32mMC running β₁=Inf, β₂=0.1 100%|█████████████████████████| Time: 0:00:02\u001b[39m\n"
     ]
    },
    {
     "name": "stdout",
     "output_type": "stream",
     "text": [
      "Temperature 1 of 3:(β₁=Inf,β₂=0.1). Distortion 0.476. Acceptance 30%\n"
     ]
    },
    {
     "name": "stderr",
     "output_type": "stream",
     "text": [
      "\u001b[32mMC running β₁=Inf, β₂=1.0 100%|█████████████████████████| Time: 0:00:02\u001b[39m\n"
     ]
    },
    {
     "name": "stdout",
     "output_type": "stream",
     "text": [
      "Temperature 2 of 3:(β₁=Inf,β₂=1.0). Distortion 0.456. Acceptance 45%\n"
     ]
    },
    {
     "name": "stderr",
     "output_type": "stream",
     "text": [
      "\u001b[32mMC running β₁=Inf, β₂=10.0 100%|████████████████████████| Time: 0:00:02\u001b[39m\n"
     ]
    },
    {
     "name": "stdout",
     "output_type": "stream",
     "text": [
      "Temperature 3 of 3:(β₁=Inf,β₂=10.0). Distortion 0.432. Acceptance 52%\n",
      "# Finished iter 80 of 100: Parity 0. Distortion 0.432 at β₁=Inf, β₂=10.0.\n",
      "\n"
     ]
    },
    {
     "name": "stderr",
     "output_type": "stream",
     "text": [
      "\u001b[32mMC running β₁=Inf, β₂=0.1 100%|█████████████████████████| Time: 0:00:02\u001b[39m\n"
     ]
    },
    {
     "name": "stdout",
     "output_type": "stream",
     "text": [
      "Temperature 1 of 3:(β₁=Inf,β₂=0.1). Distortion 0.471. Acceptance 29%\n"
     ]
    },
    {
     "name": "stderr",
     "output_type": "stream",
     "text": [
      "\u001b[32mMC running β₁=Inf, β₂=1.0 100%|█████████████████████████| Time: 0:00:02\u001b[39m\n"
     ]
    },
    {
     "name": "stdout",
     "output_type": "stream",
     "text": [
      "Temperature 2 of 3:(β₁=Inf,β₂=1.0). Distortion 0.444. Acceptance 44%\n"
     ]
    },
    {
     "name": "stderr",
     "output_type": "stream",
     "text": [
      "\u001b[32mMC running β₁=Inf, β₂=10.0 100%|████████████████████████| Time: 0:00:03\u001b[39m\n"
     ]
    },
    {
     "name": "stdout",
     "output_type": "stream",
     "text": [
      "Temperature 3 of 3:(β₁=Inf,β₂=10.0). Distortion 0.424. Acceptance 50%\n",
      "# Finished iter 81 of 100: Parity 0. Distortion 0.424 at β₁=Inf, β₂=10.0.\n",
      "\n"
     ]
    },
    {
     "name": "stderr",
     "output_type": "stream",
     "text": [
      "\u001b[32mMC running β₁=Inf, β₂=0.1 100%|█████████████████████████| Time: 0:00:02\u001b[39m\n"
     ]
    },
    {
     "name": "stdout",
     "output_type": "stream",
     "text": [
      "Temperature 1 of 3:(β₁=Inf,β₂=0.1). Distortion 0.502. Acceptance 29%\n"
     ]
    },
    {
     "name": "stderr",
     "output_type": "stream",
     "text": [
      "\u001b[32mMC running β₁=Inf, β₂=1.0 100%|█████████████████████████| Time: 0:00:02\u001b[39m\n"
     ]
    },
    {
     "name": "stdout",
     "output_type": "stream",
     "text": [
      "Temperature 2 of 3:(β₁=Inf,β₂=1.0). Distortion 0.46. Acceptance 47%\n"
     ]
    },
    {
     "name": "stderr",
     "output_type": "stream",
     "text": [
      "\u001b[32mMC running β₁=Inf, β₂=10.0 100%|████████████████████████| Time: 0:00:02\u001b[39m\n"
     ]
    },
    {
     "name": "stdout",
     "output_type": "stream",
     "text": [
      "Temperature 3 of 3:(β₁=Inf,β₂=10.0). Distortion 0.446. Acceptance 54%\n",
      "# Finished iter 82 of 100: Parity 0. Distortion 0.446 at β₁=Inf, β₂=10.0.\n",
      "\n"
     ]
    },
    {
     "name": "stderr",
     "output_type": "stream",
     "text": [
      "\u001b[32mMC running β₁=Inf, β₂=0.1 100%|█████████████████████████| Time: 0:00:02\u001b[39m\n"
     ]
    },
    {
     "name": "stdout",
     "output_type": "stream",
     "text": [
      "Temperature 1 of 3:(β₁=Inf,β₂=0.1). Distortion 0.443. Acceptance 30%\n"
     ]
    },
    {
     "name": "stderr",
     "output_type": "stream",
     "text": [
      "\u001b[32mMC running β₁=Inf, β₂=1.0 100%|█████████████████████████| Time: 0:00:02\u001b[39m\n"
     ]
    },
    {
     "name": "stdout",
     "output_type": "stream",
     "text": [
      "Temperature 2 of 3:(β₁=Inf,β₂=1.0). Distortion 0.42. Acceptance 39%\n"
     ]
    },
    {
     "name": "stderr",
     "output_type": "stream",
     "text": [
      "\u001b[32mMC running β₁=Inf, β₂=10.0 100%|████████████████████████| Time: 0:00:02\u001b[39m\n"
     ]
    },
    {
     "name": "stdout",
     "output_type": "stream",
     "text": [
      "Temperature 3 of 3:(β₁=Inf,β₂=10.0). Distortion 0.403. Acceptance 44%\n",
      "# Finished iter 83 of 100: Parity 0. Distortion 0.403 at β₁=Inf, β₂=10.0.\n",
      "\n"
     ]
    },
    {
     "name": "stderr",
     "output_type": "stream",
     "text": [
      "\u001b[32mMC running β₁=Inf, β₂=0.1 100%|█████████████████████████| Time: 0:00:02\u001b[39m\n"
     ]
    },
    {
     "name": "stdout",
     "output_type": "stream",
     "text": [
      "Temperature 1 of 3:(β₁=Inf,β₂=0.1). Distortion 0.46. Acceptance 28%\n"
     ]
    },
    {
     "name": "stderr",
     "output_type": "stream",
     "text": [
      "\u001b[32mMC running β₁=Inf, β₂=1.0 100%|█████████████████████████| Time: 0:00:02\u001b[39m\n"
     ]
    },
    {
     "name": "stdout",
     "output_type": "stream",
     "text": [
      "Temperature 2 of 3:(β₁=Inf,β₂=1.0). Distortion 0.45. Acceptance 44%\n"
     ]
    },
    {
     "name": "stderr",
     "output_type": "stream",
     "text": [
      "\u001b[32mMC running β₁=Inf, β₂=10.0 100%|████████████████████████| Time: 0:00:02\u001b[39m\n"
     ]
    },
    {
     "name": "stdout",
     "output_type": "stream",
     "text": [
      "Temperature 3 of 3:(β₁=Inf,β₂=10.0). Distortion 0.419. Acceptance 51%\n",
      "# Finished iter 84 of 100: Parity 0. Distortion 0.419 at β₁=Inf, β₂=10.0.\n",
      "\n"
     ]
    },
    {
     "name": "stderr",
     "output_type": "stream",
     "text": [
      "\u001b[32mMC running β₁=Inf, β₂=0.1 100%|█████████████████████████| Time: 0:00:02\u001b[39m\n"
     ]
    },
    {
     "name": "stdout",
     "output_type": "stream",
     "text": [
      "Temperature 1 of 3:(β₁=Inf,β₂=0.1). Distortion 0.479. Acceptance 30%\n"
     ]
    },
    {
     "name": "stderr",
     "output_type": "stream",
     "text": [
      "\u001b[32mMC running β₁=Inf, β₂=1.0 100%|█████████████████████████| Time: 0:00:02\u001b[39m\n"
     ]
    },
    {
     "name": "stdout",
     "output_type": "stream",
     "text": [
      "Temperature 2 of 3:(β₁=Inf,β₂=1.0). Distortion 0.447. Acceptance 41%\n"
     ]
    },
    {
     "name": "stderr",
     "output_type": "stream",
     "text": [
      "\u001b[32mMC running β₁=Inf, β₂=10.0 100%|████████████████████████| Time: 0:00:02\u001b[39m\n"
     ]
    },
    {
     "name": "stdout",
     "output_type": "stream",
     "text": [
      "Temperature 3 of 3:(β₁=Inf,β₂=10.0). Distortion 0.428. Acceptance 49%\n",
      "# Finished iter 85 of 100: Parity 0. Distortion 0.428 at β₁=Inf, β₂=10.0.\n",
      "\n"
     ]
    },
    {
     "name": "stderr",
     "output_type": "stream",
     "text": [
      "\u001b[32mMC running β₁=Inf, β₂=0.1 100%|█████████████████████████| Time: 0:00:02\u001b[39m\n"
     ]
    },
    {
     "name": "stdout",
     "output_type": "stream",
     "text": [
      "Temperature 1 of 3:(β₁=Inf,β₂=0.1). Distortion 0.457. Acceptance 31%\n"
     ]
    },
    {
     "name": "stderr",
     "output_type": "stream",
     "text": [
      "\u001b[32mMC running β₁=Inf, β₂=1.0 100%|█████████████████████████| Time: 0:00:02\u001b[39m\n"
     ]
    },
    {
     "name": "stdout",
     "output_type": "stream",
     "text": [
      "Temperature 2 of 3:(β₁=Inf,β₂=1.0). Distortion 0.43. Acceptance 46%\n"
     ]
    },
    {
     "name": "stderr",
     "output_type": "stream",
     "text": [
      "\u001b[32mMC running β₁=Inf, β₂=10.0 100%|████████████████████████| Time: 0:00:02\u001b[39m\n"
     ]
    },
    {
     "name": "stdout",
     "output_type": "stream",
     "text": [
      "Temperature 3 of 3:(β₁=Inf,β₂=10.0). Distortion 0.41. Acceptance 52%\n",
      "# Finished iter 86 of 100: Parity 0. Distortion 0.410 at β₁=Inf, β₂=10.0.\n",
      "\n"
     ]
    },
    {
     "name": "stderr",
     "output_type": "stream",
     "text": [
      "\u001b[32mMC running β₁=Inf, β₂=0.1 100%|█████████████████████████| Time: 0:00:02\u001b[39m\n"
     ]
    },
    {
     "name": "stdout",
     "output_type": "stream",
     "text": [
      "Temperature 1 of 3:(β₁=Inf,β₂=0.1). Distortion 0.489. Acceptance 29%\n"
     ]
    },
    {
     "name": "stderr",
     "output_type": "stream",
     "text": [
      "\u001b[32mMC running β₁=Inf, β₂=1.0 100%|█████████████████████████| Time: 0:00:02\u001b[39m\n"
     ]
    },
    {
     "name": "stdout",
     "output_type": "stream",
     "text": [
      "Temperature 2 of 3:(β₁=Inf,β₂=1.0). Distortion 0.464. Acceptance 42%\n"
     ]
    },
    {
     "name": "stderr",
     "output_type": "stream",
     "text": [
      "\u001b[32mMC running β₁=Inf, β₂=10.0 100%|████████████████████████| Time: 0:00:02\u001b[39m\n"
     ]
    },
    {
     "name": "stdout",
     "output_type": "stream",
     "text": [
      "Temperature 3 of 3:(β₁=Inf,β₂=10.0). Distortion 0.439. Acceptance 49%\n",
      "# Finished iter 87 of 100: Parity 0. Distortion 0.439 at β₁=Inf, β₂=10.0.\n",
      "\n"
     ]
    },
    {
     "name": "stderr",
     "output_type": "stream",
     "text": [
      "\u001b[32mMC running β₁=Inf, β₂=0.1 100%|█████████████████████████| Time: 0:00:02\u001b[39m\n"
     ]
    },
    {
     "name": "stdout",
     "output_type": "stream",
     "text": [
      "Temperature 1 of 3:(β₁=Inf,β₂=0.1). Distortion 0.464. Acceptance 32%\n"
     ]
    },
    {
     "name": "stderr",
     "output_type": "stream",
     "text": [
      "\u001b[32mMC running β₁=Inf, β₂=1.0 100%|█████████████████████████| Time: 0:00:02\u001b[39m\n"
     ]
    },
    {
     "name": "stdout",
     "output_type": "stream",
     "text": [
      "Temperature 2 of 3:(β₁=Inf,β₂=1.0). Distortion 0.415. Acceptance 46%\n"
     ]
    },
    {
     "name": "stderr",
     "output_type": "stream",
     "text": [
      "\u001b[32mMC running β₁=Inf, β₂=10.0 100%|████████████████████████| Time: 0:00:02\u001b[39m\n"
     ]
    },
    {
     "name": "stdout",
     "output_type": "stream",
     "text": [
      "Temperature 3 of 3:(β₁=Inf,β₂=10.0). Distortion 0.41. Acceptance 51%\n",
      "# Finished iter 88 of 100: Parity 0. Distortion 0.410 at β₁=Inf, β₂=10.0.\n",
      "\n"
     ]
    },
    {
     "name": "stderr",
     "output_type": "stream",
     "text": [
      "\u001b[32mMC running β₁=Inf, β₂=0.1 100%|█████████████████████████| Time: 0:00:02\u001b[39m\n"
     ]
    },
    {
     "name": "stdout",
     "output_type": "stream",
     "text": [
      "Temperature 1 of 3:(β₁=Inf,β₂=0.1). Distortion 0.476. Acceptance 30%\n"
     ]
    },
    {
     "name": "stderr",
     "output_type": "stream",
     "text": [
      "\u001b[32mMC running β₁=Inf, β₂=1.0 100%|█████████████████████████| Time: 0:00:02\u001b[39m\n"
     ]
    },
    {
     "name": "stdout",
     "output_type": "stream",
     "text": [
      "Temperature 2 of 3:(β₁=Inf,β₂=1.0). Distortion 0.443. Acceptance 45%\n"
     ]
    },
    {
     "name": "stderr",
     "output_type": "stream",
     "text": [
      "\u001b[32mMC running β₁=Inf, β₂=10.0 100%|████████████████████████| Time: 0:00:02\u001b[39m\n"
     ]
    },
    {
     "name": "stdout",
     "output_type": "stream",
     "text": [
      "Temperature 3 of 3:(β₁=Inf,β₂=10.0). Distortion 0.422. Acceptance 53%\n",
      "# Finished iter 89 of 100: Parity 0. Distortion 0.422 at β₁=Inf, β₂=10.0.\n",
      "\n"
     ]
    },
    {
     "name": "stderr",
     "output_type": "stream",
     "text": [
      "\u001b[32mMC running β₁=Inf, β₂=0.1 100%|█████████████████████████| Time: 0:00:02\u001b[39m\n"
     ]
    },
    {
     "name": "stdout",
     "output_type": "stream",
     "text": [
      "Temperature 1 of 3:(β₁=Inf,β₂=0.1). Distortion 0.492. Acceptance 30%\n"
     ]
    },
    {
     "name": "stderr",
     "output_type": "stream",
     "text": [
      "\u001b[32mMC running β₁=Inf, β₂=1.0 100%|█████████████████████████| Time: 0:00:02\u001b[39m\n"
     ]
    },
    {
     "name": "stdout",
     "output_type": "stream",
     "text": [
      "Temperature 2 of 3:(β₁=Inf,β₂=1.0). Distortion 0.453. Acceptance 46%\n"
     ]
    },
    {
     "name": "stderr",
     "output_type": "stream",
     "text": [
      "\u001b[32mMC running β₁=Inf, β₂=10.0 100%|████████████████████████| Time: 0:00:02\u001b[39m\n"
     ]
    },
    {
     "name": "stdout",
     "output_type": "stream",
     "text": [
      "Temperature 3 of 3:(β₁=Inf,β₂=10.0). Distortion 0.426. Acceptance 52%\n",
      "# Finished iter 90 of 100: Parity 0. Distortion 0.426 at β₁=Inf, β₂=10.0.\n",
      "\n"
     ]
    },
    {
     "name": "stderr",
     "output_type": "stream",
     "text": [
      "\u001b[32mMC running β₁=Inf, β₂=0.1 100%|█████████████████████████| Time: 0:00:02\u001b[39m\n"
     ]
    },
    {
     "name": "stdout",
     "output_type": "stream",
     "text": [
      "Temperature 1 of 3:(β₁=Inf,β₂=0.1). Distortion 0.486. Acceptance 29%\n"
     ]
    },
    {
     "name": "stderr",
     "output_type": "stream",
     "text": [
      "\u001b[32mMC running β₁=Inf, β₂=1.0 100%|█████████████████████████| Time: 0:00:02\u001b[39m\n"
     ]
    },
    {
     "name": "stdout",
     "output_type": "stream",
     "text": [
      "Temperature 2 of 3:(β₁=Inf,β₂=1.0). Distortion 0.446. Acceptance 48%\n"
     ]
    },
    {
     "name": "stderr",
     "output_type": "stream",
     "text": [
      "\u001b[32mMC running β₁=Inf, β₂=10.0 100%|████████████████████████| Time: 0:00:02\u001b[39m\n"
     ]
    },
    {
     "name": "stdout",
     "output_type": "stream",
     "text": [
      "Temperature 3 of 3:(β₁=Inf,β₂=10.0). Distortion 0.435. Acceptance 51%\n",
      "# Finished iter 91 of 100: Parity 0. Distortion 0.435 at β₁=Inf, β₂=10.0.\n",
      "\n"
     ]
    },
    {
     "name": "stderr",
     "output_type": "stream",
     "text": [
      "\u001b[32mMC running β₁=Inf, β₂=0.1 100%|█████████████████████████| Time: 0:00:02\u001b[39m\n"
     ]
    },
    {
     "name": "stdout",
     "output_type": "stream",
     "text": [
      "Temperature 1 of 3:(β₁=Inf,β₂=0.1). Distortion 0.454. Acceptance 29%\n"
     ]
    },
    {
     "name": "stderr",
     "output_type": "stream",
     "text": [
      "\u001b[32mMC running β₁=Inf, β₂=1.0 100%|█████████████████████████| Time: 0:00:02\u001b[39m\n"
     ]
    },
    {
     "name": "stdout",
     "output_type": "stream",
     "text": [
      "Temperature 2 of 3:(β₁=Inf,β₂=1.0). Distortion 0.429. Acceptance 44%\n"
     ]
    },
    {
     "name": "stderr",
     "output_type": "stream",
     "text": [
      "\u001b[32mMC running β₁=Inf, β₂=10.0 100%|████████████████████████| Time: 0:00:02\u001b[39m\n"
     ]
    },
    {
     "name": "stdout",
     "output_type": "stream",
     "text": [
      "Temperature 3 of 3:(β₁=Inf,β₂=10.0). Distortion 0.405. Acceptance 48%\n",
      "# Finished iter 92 of 100: Parity 0. Distortion 0.405 at β₁=Inf, β₂=10.0.\n",
      "\n"
     ]
    },
    {
     "name": "stderr",
     "output_type": "stream",
     "text": [
      "\u001b[32mMC running β₁=Inf, β₂=0.1 100%|█████████████████████████| Time: 0:00:02\u001b[39m\n"
     ]
    },
    {
     "name": "stdout",
     "output_type": "stream",
     "text": [
      "Temperature 1 of 3:(β₁=Inf,β₂=0.1). Distortion 0.47. Acceptance 29%\n"
     ]
    },
    {
     "name": "stderr",
     "output_type": "stream",
     "text": [
      "\u001b[32mMC running β₁=Inf, β₂=1.0 100%|█████████████████████████| Time: 0:00:02\u001b[39m\n"
     ]
    },
    {
     "name": "stdout",
     "output_type": "stream",
     "text": [
      "Temperature 2 of 3:(β₁=Inf,β₂=1.0). Distortion 0.441. Acceptance 41%\n"
     ]
    },
    {
     "name": "stderr",
     "output_type": "stream",
     "text": [
      "\u001b[32mMC running β₁=Inf, β₂=10.0 100%|████████████████████████| Time: 0:00:02\u001b[39m\n"
     ]
    },
    {
     "name": "stdout",
     "output_type": "stream",
     "text": [
      "Temperature 3 of 3:(β₁=Inf,β₂=10.0). Distortion 0.436. Acceptance 44%\n",
      "# Finished iter 93 of 100: Parity 0. Distortion 0.436 at β₁=Inf, β₂=10.0.\n",
      "\n"
     ]
    },
    {
     "name": "stderr",
     "output_type": "stream",
     "text": [
      "\u001b[32mMC running β₁=Inf, β₂=0.1 100%|█████████████████████████| Time: 0:00:02\u001b[39m\n"
     ]
    },
    {
     "name": "stdout",
     "output_type": "stream",
     "text": [
      "Temperature 1 of 3:(β₁=Inf,β₂=0.1). Distortion 0.47. Acceptance 28%\n"
     ]
    },
    {
     "name": "stderr",
     "output_type": "stream",
     "text": [
      "\u001b[32mMC running β₁=Inf, β₂=1.0 100%|█████████████████████████| Time: 0:00:02\u001b[39m\n"
     ]
    },
    {
     "name": "stdout",
     "output_type": "stream",
     "text": [
      "Temperature 2 of 3:(β₁=Inf,β₂=1.0). Distortion 0.451. Acceptance 42%\n"
     ]
    },
    {
     "name": "stderr",
     "output_type": "stream",
     "text": [
      "\u001b[32mMC running β₁=Inf, β₂=10.0 100%|████████████████████████| Time: 0:00:02\u001b[39m\n"
     ]
    },
    {
     "name": "stdout",
     "output_type": "stream",
     "text": [
      "Temperature 3 of 3:(β₁=Inf,β₂=10.0). Distortion 0.436. Acceptance 48%\n",
      "# Finished iter 94 of 100: Parity 0. Distortion 0.436 at β₁=Inf, β₂=10.0.\n",
      "\n"
     ]
    },
    {
     "name": "stderr",
     "output_type": "stream",
     "text": [
      "\u001b[32mMC running β₁=Inf, β₂=0.1 100%|█████████████████████████| Time: 0:00:02\u001b[39m\n"
     ]
    },
    {
     "name": "stdout",
     "output_type": "stream",
     "text": [
      "Temperature 1 of 3:(β₁=Inf,β₂=0.1). Distortion 0.473. Acceptance 28%\n"
     ]
    },
    {
     "name": "stderr",
     "output_type": "stream",
     "text": [
      "\u001b[32mMC running β₁=Inf, β₂=1.0 100%|█████████████████████████| Time: 0:00:02\u001b[39m\n"
     ]
    },
    {
     "name": "stdout",
     "output_type": "stream",
     "text": [
      "Temperature 2 of 3:(β₁=Inf,β₂=1.0). Distortion 0.43. Acceptance 49%\n"
     ]
    },
    {
     "name": "stderr",
     "output_type": "stream",
     "text": [
      "\u001b[32mMC running β₁=Inf, β₂=10.0 100%|████████████████████████| Time: 0:00:02\u001b[39m\n"
     ]
    },
    {
     "name": "stdout",
     "output_type": "stream",
     "text": [
      "Temperature 3 of 3:(β₁=Inf,β₂=10.0). Distortion 0.405. Acceptance 56%\n",
      "# Finished iter 95 of 100: Parity 0. Distortion 0.405 at β₁=Inf, β₂=10.0.\n",
      "\n"
     ]
    },
    {
     "name": "stderr",
     "output_type": "stream",
     "text": [
      "\u001b[32mMC running β₁=Inf, β₂=0.1 100%|█████████████████████████| Time: 0:00:02\u001b[39m\n"
     ]
    },
    {
     "name": "stdout",
     "output_type": "stream",
     "text": [
      "Temperature 1 of 3:(β₁=Inf,β₂=0.1). Distortion 0.471. Acceptance 29%\n"
     ]
    },
    {
     "name": "stderr",
     "output_type": "stream",
     "text": [
      "\u001b[32mMC running β₁=Inf, β₂=1.0 100%|█████████████████████████| Time: 0:00:02\u001b[39m\n"
     ]
    },
    {
     "name": "stdout",
     "output_type": "stream",
     "text": [
      "Temperature 2 of 3:(β₁=Inf,β₂=1.0). Distortion 0.439. Acceptance 44%\n"
     ]
    },
    {
     "name": "stderr",
     "output_type": "stream",
     "text": [
      "\u001b[32mMC running β₁=Inf, β₂=10.0 100%|████████████████████████| Time: 0:00:02\u001b[39m\n"
     ]
    },
    {
     "name": "stdout",
     "output_type": "stream",
     "text": [
      "Temperature 3 of 3:(β₁=Inf,β₂=10.0). Distortion 0.415. Acceptance 51%\n",
      "# Finished iter 96 of 100: Parity 0. Distortion 0.415 at β₁=Inf, β₂=10.0.\n",
      "\n"
     ]
    },
    {
     "name": "stderr",
     "output_type": "stream",
     "text": [
      "\u001b[32mMC running β₁=Inf, β₂=0.1 100%|█████████████████████████| Time: 0:00:02\u001b[39m\n"
     ]
    },
    {
     "name": "stdout",
     "output_type": "stream",
     "text": [
      "Temperature 1 of 3:(β₁=Inf,β₂=0.1). Distortion 0.491. Acceptance 30%\n"
     ]
    },
    {
     "name": "stderr",
     "output_type": "stream",
     "text": [
      "\u001b[32mMC running β₁=Inf, β₂=1.0 100%|█████████████████████████| Time: 0:00:02\u001b[39m\n"
     ]
    },
    {
     "name": "stdout",
     "output_type": "stream",
     "text": [
      "Temperature 2 of 3:(β₁=Inf,β₂=1.0). Distortion 0.47. Acceptance 46%\n"
     ]
    },
    {
     "name": "stderr",
     "output_type": "stream",
     "text": [
      "\u001b[32mMC running β₁=Inf, β₂=10.0 100%|████████████████████████| Time: 0:00:02\u001b[39m\n"
     ]
    },
    {
     "name": "stdout",
     "output_type": "stream",
     "text": [
      "Temperature 3 of 3:(β₁=Inf,β₂=10.0). Distortion 0.443. Acceptance 54%\n",
      "# Finished iter 97 of 100: Parity 0. Distortion 0.443 at β₁=Inf, β₂=10.0.\n",
      "\n"
     ]
    },
    {
     "name": "stderr",
     "output_type": "stream",
     "text": [
      "\u001b[32mMC running β₁=Inf, β₂=0.1 100%|█████████████████████████| Time: 0:00:02\u001b[39m\n"
     ]
    },
    {
     "name": "stdout",
     "output_type": "stream",
     "text": [
      "Temperature 1 of 3:(β₁=Inf,β₂=0.1). Distortion 0.478. Acceptance 30%\n"
     ]
    },
    {
     "name": "stderr",
     "output_type": "stream",
     "text": [
      "\u001b[32mMC running β₁=Inf, β₂=1.0 100%|█████████████████████████| Time: 0:00:02\u001b[39m\n"
     ]
    },
    {
     "name": "stdout",
     "output_type": "stream",
     "text": [
      "Temperature 2 of 3:(β₁=Inf,β₂=1.0). Distortion 0.442. Acceptance 45%\n"
     ]
    },
    {
     "name": "stderr",
     "output_type": "stream",
     "text": [
      "\u001b[32mMC running β₁=Inf, β₂=10.0 100%|████████████████████████| Time: 0:00:02\u001b[39m\n"
     ]
    },
    {
     "name": "stdout",
     "output_type": "stream",
     "text": [
      "Temperature 3 of 3:(β₁=Inf,β₂=10.0). Distortion 0.411. Acceptance 54%\n",
      "# Finished iter 98 of 100: Parity 0. Distortion 0.411 at β₁=Inf, β₂=10.0.\n",
      "\n"
     ]
    },
    {
     "name": "stderr",
     "output_type": "stream",
     "text": [
      "\u001b[32mMC running β₁=Inf, β₂=0.1 100%|█████████████████████████| Time: 0:00:02\u001b[39m\n"
     ]
    },
    {
     "name": "stdout",
     "output_type": "stream",
     "text": [
      "Temperature 1 of 3:(β₁=Inf,β₂=0.1). Distortion 0.487. Acceptance 29%\n"
     ]
    },
    {
     "name": "stderr",
     "output_type": "stream",
     "text": [
      "\u001b[32mMC running β₁=Inf, β₂=1.0 100%|█████████████████████████| Time: 0:00:02\u001b[39m\n"
     ]
    },
    {
     "name": "stdout",
     "output_type": "stream",
     "text": [
      "Temperature 2 of 3:(β₁=Inf,β₂=1.0). Distortion 0.451. Acceptance 46%\n"
     ]
    },
    {
     "name": "stderr",
     "output_type": "stream",
     "text": [
      "\u001b[32mMC running β₁=Inf, β₂=10.0 100%|████████████████████████| Time: 0:00:02\u001b[39m\n"
     ]
    },
    {
     "name": "stdout",
     "output_type": "stream",
     "text": [
      "Temperature 3 of 3:(β₁=Inf,β₂=10.0). Distortion 0.424. Acceptance 51%\n",
      "# Finished iter 99 of 100: Parity 0. Distortion 0.424 at β₁=Inf, β₂=10.0.\n",
      "\n"
     ]
    },
    {
     "name": "stderr",
     "output_type": "stream",
     "text": [
      "\u001b[32mMC running β₁=Inf, β₂=0.1 100%|█████████████████████████| Time: 0:00:02\u001b[39m\n"
     ]
    },
    {
     "name": "stdout",
     "output_type": "stream",
     "text": [
      "Temperature 1 of 3:(β₁=Inf,β₂=0.1). Distortion 0.485. Acceptance 30%\n"
     ]
    },
    {
     "name": "stderr",
     "output_type": "stream",
     "text": [
      "\u001b[32mMC running β₁=Inf, β₂=1.0 100%|█████████████████████████| Time: 0:00:02\u001b[39m\n"
     ]
    },
    {
     "name": "stdout",
     "output_type": "stream",
     "text": [
      "Temperature 2 of 3:(β₁=Inf,β₂=1.0). Distortion 0.445. Acceptance 44%\n"
     ]
    },
    {
     "name": "stderr",
     "output_type": "stream",
     "text": [
      "\u001b[32mMC running β₁=Inf, β₂=10.0 100%|████████████████████████| Time: 0:00:02\u001b[39m\n"
     ]
    },
    {
     "name": "stdout",
     "output_type": "stream",
     "text": [
      "Temperature 3 of 3:(β₁=Inf,β₂=10.0). Distortion 0.431. Acceptance 49%\n",
      "# Finished iter 100 of 100: Parity 0. Distortion 0.431 at β₁=Inf, β₂=10.0.\n",
      "\n",
      "##### b=5. 3 of 7 #####\n",
      "\n"
     ]
    },
    {
     "name": "stderr",
     "output_type": "stream",
     "text": [
      "\u001b[32mMC running β₁=Inf, β₂=0.1 100%|█████████████████████████| Time: 0:00:02\u001b[39m\n"
     ]
    },
    {
     "name": "stdout",
     "output_type": "stream",
     "text": [
      "Temperature 1 of 3:(β₁=Inf,β₂=0.1). Distortion 0.47. Acceptance 29%\n"
     ]
    },
    {
     "name": "stderr",
     "output_type": "stream",
     "text": [
      "\u001b[32mMC running β₁=Inf, β₂=1.0 100%|█████████████████████████| Time: 0:00:02\u001b[39m\n"
     ]
    },
    {
     "name": "stdout",
     "output_type": "stream",
     "text": [
      "Temperature 2 of 3:(β₁=Inf,β₂=1.0). Distortion 0.445. Acceptance 42%\n"
     ]
    },
    {
     "name": "stderr",
     "output_type": "stream",
     "text": [
      "\u001b[32mMC running β₁=Inf, β₂=10.0 100%|████████████████████████| Time: 0:00:02\u001b[39m\n"
     ]
    },
    {
     "name": "stdout",
     "output_type": "stream",
     "text": [
      "Temperature 3 of 3:(β₁=Inf,β₂=10.0). Distortion 0.426. Acceptance 48%\n",
      "# Finished iter 1 of 100: Parity 0. Distortion 0.426 at β₁=Inf, β₂=10.0.\n",
      "\n"
     ]
    },
    {
     "name": "stderr",
     "output_type": "stream",
     "text": [
      "\u001b[32mMC running β₁=Inf, β₂=0.1 100%|█████████████████████████| Time: 0:00:02\u001b[39m\n"
     ]
    },
    {
     "name": "stdout",
     "output_type": "stream",
     "text": [
      "Temperature 1 of 3:(β₁=Inf,β₂=0.1). Distortion 0.446. Acceptance 29%\n"
     ]
    },
    {
     "name": "stderr",
     "output_type": "stream",
     "text": [
      "\u001b[32mMC running β₁=Inf, β₂=1.0 100%|█████████████████████████| Time: 0:00:02\u001b[39m\n"
     ]
    },
    {
     "name": "stdout",
     "output_type": "stream",
     "text": [
      "Temperature 2 of 3:(β₁=Inf,β₂=1.0). Distortion 0.42. Acceptance 45%\n"
     ]
    },
    {
     "name": "stderr",
     "output_type": "stream",
     "text": [
      "\u001b[32mMC running β₁=Inf, β₂=10.0 100%|████████████████████████| Time: 0:00:02\u001b[39m\n"
     ]
    },
    {
     "name": "stdout",
     "output_type": "stream",
     "text": [
      "Temperature 3 of 3:(β₁=Inf,β₂=10.0). Distortion 0.407. Acceptance 50%\n",
      "# Finished iter 2 of 100: Parity 0. Distortion 0.407 at β₁=Inf, β₂=10.0.\n",
      "\n"
     ]
    },
    {
     "name": "stderr",
     "output_type": "stream",
     "text": [
      "\u001b[32mMC running β₁=Inf, β₂=0.1 100%|█████████████████████████| Time: 0:00:02\u001b[39m\n"
     ]
    },
    {
     "name": "stdout",
     "output_type": "stream",
     "text": [
      "Temperature 1 of 3:(β₁=Inf,β₂=0.1). Distortion 0.455. Acceptance 28%\n"
     ]
    },
    {
     "name": "stderr",
     "output_type": "stream",
     "text": [
      "\u001b[32mMC running β₁=Inf, β₂=1.0 100%|█████████████████████████| Time: 0:00:02\u001b[39m\n"
     ]
    },
    {
     "name": "stdout",
     "output_type": "stream",
     "text": [
      "Temperature 2 of 3:(β₁=Inf,β₂=1.0). Distortion 0.405. Acceptance 43%\n"
     ]
    },
    {
     "name": "stderr",
     "output_type": "stream",
     "text": [
      "\u001b[32mMC running β₁=Inf, β₂=10.0 100%|████████████████████████| Time: 0:00:02\u001b[39m\n"
     ]
    },
    {
     "name": "stdout",
     "output_type": "stream",
     "text": [
      "Temperature 3 of 3:(β₁=Inf,β₂=10.0). Distortion 0.397. Acceptance 50%\n",
      "# Finished iter 3 of 100: Parity 0. Distortion 0.397 at β₁=Inf, β₂=10.0.\n",
      "\n"
     ]
    },
    {
     "name": "stderr",
     "output_type": "stream",
     "text": [
      "\u001b[32mMC running β₁=Inf, β₂=0.1 100%|█████████████████████████| Time: 0:00:02\u001b[39m\n"
     ]
    },
    {
     "name": "stdout",
     "output_type": "stream",
     "text": [
      "Temperature 1 of 3:(β₁=Inf,β₂=0.1). Distortion 0.453. Acceptance 29%\n"
     ]
    },
    {
     "name": "stderr",
     "output_type": "stream",
     "text": [
      "\u001b[32mMC running β₁=Inf, β₂=1.0 100%|█████████████████████████| Time: 0:00:02\u001b[39m\n"
     ]
    },
    {
     "name": "stdout",
     "output_type": "stream",
     "text": [
      "Temperature 2 of 3:(β₁=Inf,β₂=1.0). Distortion 0.434. Acceptance 45%\n"
     ]
    },
    {
     "name": "stderr",
     "output_type": "stream",
     "text": [
      "\u001b[32mMC running β₁=Inf, β₂=10.0 100%|████████████████████████| Time: 0:00:02\u001b[39m\n"
     ]
    },
    {
     "name": "stdout",
     "output_type": "stream",
     "text": [
      "Temperature 3 of 3:(β₁=Inf,β₂=10.0). Distortion 0.417. Acceptance 50%\n",
      "# Finished iter 4 of 100: Parity 0. Distortion 0.417 at β₁=Inf, β₂=10.0.\n",
      "\n"
     ]
    },
    {
     "name": "stderr",
     "output_type": "stream",
     "text": [
      "\u001b[32mMC running β₁=Inf, β₂=0.1 100%|█████████████████████████| Time: 0:00:02\u001b[39m\n"
     ]
    },
    {
     "name": "stdout",
     "output_type": "stream",
     "text": [
      "Temperature 1 of 3:(β₁=Inf,β₂=0.1). Distortion 0.471. Acceptance 30%\n"
     ]
    },
    {
     "name": "stderr",
     "output_type": "stream",
     "text": [
      "\u001b[32mMC running β₁=Inf, β₂=1.0 100%|█████████████████████████| Time: 0:00:02\u001b[39m\n"
     ]
    },
    {
     "name": "stdout",
     "output_type": "stream",
     "text": [
      "Temperature 2 of 3:(β₁=Inf,β₂=1.0). Distortion 0.422. Acceptance 46%\n"
     ]
    },
    {
     "name": "stderr",
     "output_type": "stream",
     "text": [
      "\u001b[32mMC running β₁=Inf, β₂=10.0 100%|████████████████████████| Time: 0:00:02\u001b[39m\n"
     ]
    },
    {
     "name": "stdout",
     "output_type": "stream",
     "text": [
      "Temperature 3 of 3:(β₁=Inf,β₂=10.0). Distortion 0.404. Acceptance 51%\n",
      "# Finished iter 5 of 100: Parity 0. Distortion 0.404 at β₁=Inf, β₂=10.0.\n",
      "\n"
     ]
    },
    {
     "name": "stderr",
     "output_type": "stream",
     "text": [
      "\u001b[32mMC running β₁=Inf, β₂=0.1 100%|█████████████████████████| Time: 0:00:02\u001b[39m\n"
     ]
    },
    {
     "name": "stdout",
     "output_type": "stream",
     "text": [
      "Temperature 1 of 3:(β₁=Inf,β₂=0.1). Distortion 0.457. Acceptance 30%\n"
     ]
    },
    {
     "name": "stderr",
     "output_type": "stream",
     "text": [
      "\u001b[32mMC running β₁=Inf, β₂=1.0 100%|█████████████████████████| Time: 0:00:02\u001b[39m\n"
     ]
    },
    {
     "name": "stdout",
     "output_type": "stream",
     "text": [
      "Temperature 2 of 3:(β₁=Inf,β₂=1.0). Distortion 0.418. Acceptance 47%\n"
     ]
    },
    {
     "name": "stderr",
     "output_type": "stream",
     "text": [
      "\u001b[32mMC running β₁=Inf, β₂=10.0 100%|████████████████████████| Time: 0:00:02\u001b[39m\n"
     ]
    },
    {
     "name": "stdout",
     "output_type": "stream",
     "text": [
      "Temperature 3 of 3:(β₁=Inf,β₂=10.0). Distortion 0.4. Acceptance 52%\n",
      "# Finished iter 6 of 100: Parity 0. Distortion 0.400 at β₁=Inf, β₂=10.0.\n",
      "\n"
     ]
    },
    {
     "name": "stderr",
     "output_type": "stream",
     "text": [
      "\u001b[32mMC running β₁=Inf, β₂=0.1 100%|█████████████████████████| Time: 0:00:02\u001b[39m\n"
     ]
    },
    {
     "name": "stdout",
     "output_type": "stream",
     "text": [
      "Temperature 1 of 3:(β₁=Inf,β₂=0.1). Distortion 0.477. Acceptance 30%\n"
     ]
    },
    {
     "name": "stderr",
     "output_type": "stream",
     "text": [
      "\u001b[32mMC running β₁=Inf, β₂=1.0 100%|█████████████████████████| Time: 0:00:02\u001b[39m\n"
     ]
    },
    {
     "name": "stdout",
     "output_type": "stream",
     "text": [
      "Temperature 2 of 3:(β₁=Inf,β₂=1.0). Distortion 0.466. Acceptance 43%\n"
     ]
    },
    {
     "name": "stderr",
     "output_type": "stream",
     "text": [
      "\u001b[32mMC running β₁=Inf, β₂=10.0 100%|████████████████████████| Time: 0:00:02\u001b[39m\n"
     ]
    },
    {
     "name": "stdout",
     "output_type": "stream",
     "text": [
      "Temperature 3 of 3:(β₁=Inf,β₂=10.0). Distortion 0.44. Acceptance 49%\n",
      "# Finished iter 7 of 100: Parity 0. Distortion 0.440 at β₁=Inf, β₂=10.0.\n",
      "\n"
     ]
    },
    {
     "name": "stderr",
     "output_type": "stream",
     "text": [
      "\u001b[32mMC running β₁=Inf, β₂=0.1 100%|█████████████████████████| Time: 0:00:02\u001b[39m\n"
     ]
    },
    {
     "name": "stdout",
     "output_type": "stream",
     "text": [
      "Temperature 1 of 3:(β₁=Inf,β₂=0.1). Distortion 0.513. Acceptance 29%\n"
     ]
    },
    {
     "name": "stderr",
     "output_type": "stream",
     "text": [
      "\u001b[32mMC running β₁=Inf, β₂=1.0 100%|█████████████████████████| Time: 0:00:02\u001b[39m\n"
     ]
    },
    {
     "name": "stdout",
     "output_type": "stream",
     "text": [
      "Temperature 2 of 3:(β₁=Inf,β₂=1.0). Distortion 0.474. Acceptance 47%\n"
     ]
    },
    {
     "name": "stderr",
     "output_type": "stream",
     "text": [
      "\u001b[32mMC running β₁=Inf, β₂=10.0 100%|████████████████████████| Time: 0:00:02\u001b[39m\n"
     ]
    },
    {
     "name": "stdout",
     "output_type": "stream",
     "text": [
      "Temperature 3 of 3:(β₁=Inf,β₂=10.0). Distortion 0.447. Acceptance 55%\n",
      "# Finished iter 8 of 100: Parity 0. Distortion 0.447 at β₁=Inf, β₂=10.0.\n",
      "\n"
     ]
    },
    {
     "name": "stderr",
     "output_type": "stream",
     "text": [
      "\u001b[32mMC running β₁=Inf, β₂=0.1  82%|████████████████████▌    |  ETA: 0:00:00\u001b[39m"
     ]
    }
   ],
   "source": [
    "time_SA = @timed for (i,b) in enumerate(bvals)\n",
    "    println(\"##### b=$b. $i of $(length(bvals)) #####\")\n",
    "    sims[i] = Simulation(q, n, m, sa, b=b, niter=niter, verbose=true, randseed=randseed+i, showprogress=true)\n",
    "end"
   ]
  },
  {
   "cell_type": "code",
   "execution_count": null,
   "metadata": {},
   "outputs": [],
   "source": [
    "println(\"Runtime for simulated annealing: \", Int(round(time_SA.time)), \"s\")"
   ]
  },
  {
   "cell_type": "code",
   "execution_count": null,
   "metadata": {},
   "outputs": [],
   "source": [
    "dist = distortion.(sims)\n",
    "avg_dist = mean.(dist)\n",
    "sd_dist = std.(dist) ./ sqrt(niter)\n",
    "Plots.plot(bvals, avg_dist, xlabel=\"b\", ylabel=\"D\", label=\"data\", ribbon=sd_dist, marker=:circle)\n",
    "title!(\"Distortion vs number of removed factors - Simulated Annealing\")"
   ]
  },
  {
   "cell_type": "markdown",
   "metadata": {},
   "source": [
    "$b$-reduction seems to indeed have some effect"
   ]
  },
  {
   "cell_type": "markdown",
   "metadata": {},
   "source": [
    "## Compare with Max-sum\n",
    "\n",
    "Run Max-sum on the same graphs and observe differences"
   ]
  },
  {
   "cell_type": "code",
   "execution_count": null,
   "metadata": {},
   "outputs": [],
   "source": [
    "sims_ms = Vector{Simulation{MS}}(undef, length(bvals))\n",
    "ms = MS(maxiter=200, gamma=5e-3);"
   ]
  },
  {
   "cell_type": "code",
   "execution_count": null,
   "metadata": {
    "scrolled": true
   },
   "outputs": [],
   "source": [
    "for (i,b) in enumerate(bvals)\n",
    "    println(\"##### b=$b. $i of $(length(bvals)) #####\")\n",
    "    sims_ms[i] = Simulation(q,n,m,ms,b=b, niter=niter, verbose=true, randseed=randseed+i, showprogress=true)\n",
    "end"
   ]
  },
  {
   "cell_type": "code",
   "execution_count": null,
   "metadata": {},
   "outputs": [],
   "source": [
    "dist_ms = distortion.(sims_ms)\n",
    "avg_dist_ms = mean.(dist_ms)\n",
    "sd_dist_ms = std.(dist_ms) ./ sqrt(niter)\n",
    "Plots.plot(bvals, avg_dist_ms, xlabel=\"b\", ylabel=\"D\", label=\"\", ribbon=sd_dist_ms, marker=:circle)\n",
    "title!(\"Distortion vs number of removed factors - Max-sum\")"
   ]
  }
 ],
 "metadata": {
  "kernelspec": {
   "display_name": "Julia 1.5.3",
   "language": "julia",
   "name": "julia-1.5"
  },
  "language_info": {
   "file_extension": ".jl",
   "mimetype": "application/julia",
   "name": "julia",
   "version": "1.5.3"
  }
 },
 "nbformat": 4,
 "nbformat_minor": 4
}
