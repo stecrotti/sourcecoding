{
 "cells": [
  {
   "cell_type": "code",
   "execution_count": 14,
   "metadata": {},
   "outputs": [],
   "source": [
    "include(\"../code/headers.jl\")"
   ]
  },
  {
   "cell_type": "code",
   "execution_count": 2,
   "metadata": {},
   "outputs": [
    {
     "data": {
      "text/plain": [
       "10080.0"
      ]
     },
     "execution_count": 2,
     "metadata": {},
     "output_type": "execute_result"
    }
   ],
   "source": [
    "n = factorial(7)*3\n",
    "k = 3\n",
    "R = 1 .- 2 ./k\n",
    "m_ = n*(1 .- R)\n",
    "m = Int.(round.(m_))\n",
    "m_"
   ]
  },
  {
   "cell_type": "code",
   "execution_count": 5,
   "metadata": {},
   "outputs": [
    {
     "data": {
      "text/plain": [
       "0-dimensional Array{Array{Int64,1},0}:\n",
       "[1, 1, 1, 1, 1, 1, 0, 0, 0, 1  …  0, 1, 1, 0, 0, 0, 0, 1, 1, 1]"
      ]
     },
     "execution_count": 5,
     "metadata": {},
     "output_type": "execute_result"
    }
   ],
   "source": [
    "randseed = 123\n",
    "algo = MS(maxiter=1000, Tmax=1, gamma=0.0, sigma=1e-10)\n",
    "Y = [rand([0,1], n) for mm in m]"
   ]
  },
  {
   "cell_type": "code",
   "execution_count": 15,
   "metadata": {
    "scrolled": false
   },
   "outputs": [
    {
     "name": "stdout",
     "output_type": "stream",
     "text": [
      "Rate 0.33. 1 of 1\n"
     ]
    },
    {
     "name": "stderr",
     "output_type": "stream",
     "text": [
      "\u001b[32mTrial 1/1 100%|█████████████████████████████████████████| Time: 0:00:15\u001b[39m\n"
     ]
    }
   ],
   "source": [
    "res = Vector{BPResults{MS}}(undef, length(m))\n",
    "msgs = [Float64[] for _ in m]\n",
    "fgs = Vector{FactorGraph}(undef,length(m))\n",
    "for j in eachindex(m)\n",
    "    println(\"Rate $(round(R[j],digits=2)). $j of $(length(m))\")\n",
    "    fg = ldpc_graph(Val(2), n, m[j], randseed=randseed)\n",
    "    extfields!(fg,Y[j],algo,randseed=randseed+j)\n",
    "    res[j] = bp!(fg, algo, Y[j], verbose=true)\n",
    "    msgs[j] = [ms[end] for ms in fg.mfv]\n",
    "    fgs[j] = deepcopy(fg)\n",
    "end"
   ]
  },
  {
   "cell_type": "code",
   "execution_count": 36,
   "metadata": {},
   "outputs": [
    {
     "name": "stdout",
     "output_type": "stream",
     "text": [
      "maximum(abs, msg - msg_rounded) = 2.205654325848627e-9\n"
     ]
    },
    {
     "data": {
      "text/plain": [
       "0.21104497354497354"
      ]
     },
     "execution_count": 36,
     "metadata": {},
     "output_type": "execute_result"
    }
   ],
   "source": [
    "fg = fgs[1]\n",
    "y = Y[1]\n",
    "msg = msgs[1]\n",
    "# Round messages\n",
    "msg_rounded = round.(Int, msg)\n",
    "@show maximum(abs,msg-msg_rounded)\n",
    "s = 2*y .- 1\n",
    "σ = guesses(fg)\n",
    "σ_rounded = round.(Int, x)\n",
    "ovl_rounded = dot(σ_rounded, s) / n\n",
    "dist_rounded = 0.5*(1 - ovl_rounded)\n",
    "distortion(fg,y)"
   ]
  },
  {
   "cell_type": "code",
   "execution_count": 16,
   "metadata": {},
   "outputs": [
    {
     "ename": "LoadError",
     "evalue": "InexactError: Int64(8.081377789181943e-10)",
     "output_type": "error",
     "traceback": [
      "InexactError: Int64(8.081377789181943e-10)",
      "",
      "Stacktrace:",
      " [1] Int64 at ./float.jl:710 [inlined]",
      " [2] _broadcast_getindex_evalf at ./broadcast.jl:648 [inlined]",
      " [3] _broadcast_getindex at ./broadcast.jl:621 [inlined]",
      " [4] getindex at ./broadcast.jl:575 [inlined]",
      " [5] macro expansion at ./broadcast.jl:932 [inlined]",
      " [6] macro expansion at ./simdloop.jl:77 [inlined]",
      " [7] copyto! at ./broadcast.jl:931 [inlined]",
      " [8] copyto! at ./broadcast.jl:886 [inlined]",
      " [9] copy at ./broadcast.jl:862 [inlined]",
      " [10] materialize(::Base.Broadcast.Broadcasted{Base.Broadcast.DefaultArrayStyle{1},Nothing,Type{Int64},Tuple{Array{Float64,1}}}) at ./broadcast.jl:837",
      " [11] top-level scope at ./In[16]:8"
     ]
    }
   ],
   "source": [
    "plts = []\n",
    "bins = -2.25:0.5:2.25\n",
    "levels = -6:6\n",
    "cnts = []\n",
    "dist = zeros(length(m))\n",
    "for j in eachindex(m)\n",
    "    push!(plts, histogram(msgs[j], label=\"k=$(k[j])\", bins=bins, normalize=:pdf))\n",
    "    push!(cnts, OffsetArray(StatsBase.proportions(Int.(msgs[j]), levels)))\n",
    "    dist[j] = distortion(fgs[j], Y[j])\n",
    "end\n",
    "plot(plts..., layout=(2,4), size=(800,400))"
   ]
  },
  {
   "cell_type": "code",
   "execution_count": 17,
   "metadata": {},
   "outputs": [
    {
     "ename": "LoadError",
     "evalue": "BoundsError: attempt to access 0-element Array{Any,1} at index [1]",
     "output_type": "error",
     "traceback": [
      "BoundsError: attempt to access 0-element Array{Any,1} at index [1]",
      "",
      "Stacktrace:",
      " [1] top-level scope at In[17]:1"
     ]
    }
   ],
   "source": [
    "cnts[1]"
   ]
  },
  {
   "cell_type": "code",
   "execution_count": 24,
   "metadata": {},
   "outputs": [
    {
     "data": {
      "text/plain": [
       "8×2 Array{Float64,2}:\n",
       "  3.0  0.249206\n",
       "  4.0  0.187302\n",
       "  5.0  0.185317\n",
       "  6.0  0.1875\n",
       "  7.0  0.173413\n",
       "  8.0  0.128968\n",
       "  9.0  0.127976\n",
       " 10.0  0.109524"
      ]
     },
     "execution_count": 24,
     "metadata": {},
     "output_type": "execute_result"
    }
   ],
   "source": [
    "[k dist]"
   ]
  }
 ],
 "metadata": {
  "kernelspec": {
   "display_name": "Julia 1.5.3",
   "language": "julia",
   "name": "julia-1.5"
  },
  "language_info": {
   "file_extension": ".jl",
   "mimetype": "application/julia",
   "name": "julia",
   "version": "1.5.3"
  }
 },
 "nbformat": 4,
 "nbformat_minor": 4
}
