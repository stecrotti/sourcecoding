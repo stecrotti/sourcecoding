{
 "cells": [
  {
   "cell_type": "markdown",
   "metadata": {},
   "source": [
    "Max-Sum equations\n",
    "--\n",
    "\n",
    "\\begin{align*}\n",
    "u_{ai}\\left(\\sigma_{i}\\right)= &\\sigma_{i}f_{ai}+g_{ai}\\\\\n",
    "u_{ai}\\left(\\sigma_{i}\\right)= & \\max_{\\{\\sigma_{j}:j\\in\\partial a\\setminus i\\}:\\prod_{j}\\sigma_{j}=1}\\sum_{j\\in\\partial a\\setminus i}u_{ja}\\left(\\sigma_{j}\\right)+\\sigma_{j}s_{j}+const\\\\\n",
    "b_{i}\\left(\\sigma_{i}\\right)= & u_{ai}\\left(\\sigma_{i}\\right)+u_{bi}\\left(\\sigma_{i}\\right)+\\sigma_{i}s_{i}+const=b_{i}\\sigma_{i}+const\\\\\n",
    "b_{i}= & \\frac{1}{2}\\left[f_{ai}+f_{bi}+s_{i}-\\left(-f_{ai}-f_{bi}-s_{i}\\right)\\right]\\\\\n",
    "= & f_{ai}+f_{bi}+s_{i}\\\\\n",
    "\\sigma_{i}f_{ai}= & \\max_{\\{\\sigma_{j}:j\\in\\partial a\\setminus i\\}:\\prod_{j}\\sigma_{j}=1}\\sum_{j\\in\\partial a\\setminus i}f_{ja}\\sigma_{j}+\\sigma_{j}s_{j}+const\\\\\n",
    "f_{ai}= & \\frac{1}{2}\\left[\\max_{\\{\\sigma_{j}:j\\in\\partial a\\setminus i\\}:\\prod_{j\\neq i}\\sigma_{j}=1}\\left(\\sum_{j\\in\\partial a\\setminus i}\\left(f_{ja}+s_{j}\\right)\\sigma_{j}\\right)-\\max_{\\{\\sigma_{j}:j\\in\\partial a\\setminus i\\}:\\prod_{j\\neq i}\\sigma_{j}=-1}\\left(\\sum_{j\\in\\partial a\\setminus i}\\left(f_{ja}+s_{j}\\right)\\sigma_{j}\\right)\\right]\\\\\n",
    "= & \\frac{1}{2}\\begin{cases}\n",
    "\\sum_{j\\in\\partial a\\setminus i}\\left|f_{ja}+s_{j}\\right| & \\text{if }\\prod\\left(f_{ja}+s_{j}\\right)>0\\\\\n",
    "\\sum_{j\\in\\partial a\\setminus i}\\left|f_{ja}+s_{j}\\right|-2\\min_{j\\in\\partial a\\setminus i}\\left|f_{ja}+s_{j}\\right| & \\text{if }\\prod\\left(f_{ja}+s_{j}\\right)<0\n",
    "\\end{cases}-\\\\\n",
    " & -\\frac{1}{2}\\begin{cases}\n",
    "\\sum_{j\\in\\partial a\\setminus i}\\left|f_{ja}+s_{j}\\right| & \\text{if }\\prod\\left(f_{ja}+s_{j}\\right)<0\\\\\n",
    "\\sum_{j\\in\\partial a\\setminus i}\\left|f_{ja}+s_{j}\\right|-2\\min_{j\\in\\partial a\\setminus i}\\left|f_{ja}+s_{j}\\right| & \\text{if }\\prod\\left(f_{ja}+s_{j}\\right)>0\n",
    "\\end{cases}\\\\\n",
    "= & \\begin{cases}\n",
    "\\min_{j\\in\\partial a\\setminus i}\\left|f_{ja}+s_{j}\\right| & \\text{if }\\prod\\left(f_{ja}+s_{j}\\right)>0\\\\\n",
    "-\\min_{j\\in\\partial a\\setminus i}\\left|f_{ja}+s_{j}\\right| & \\text{if }\\prod\\left(f_{ja}+s_{j}\\right)<0\n",
    "\\end{cases}\n",
    "\\end{align*}\n",
    "\n",
    "So we get\n",
    "$$f_{ai}= \\min_{j\\in\\partial a\\setminus i}\\left|f_{ja}+s_{j}\\right|\\prod_{j\\in\\partial a\\setminus i}\\text{sign}\\left(f_{ja}+s_{j}\\right)$$\n"
   ]
  },
  {
   "cell_type": "markdown",
   "metadata": {},
   "source": [
    "Distribution in the quenched disorder\n",
    "---\n",
    "\n",
    "\\begin{align*}\n",
    "p\\left(f\\right)= & \\frac{1}{2^{k}}\\sum_{f_{1},\\dots,f_{k}}\\sum_{s_{1},\\dots,s_{k}}\\delta\\left(f;\\min_{j=1,\\dots,k}\\left|f_{j}+s_{j}\\right|\\prod_{j=1}^{k}\\text{sign}\\left(f_{j}+s_{j}\\right)\\right)\\prod_{j=1}^{k}p\\left(f_{j}\\right)\\\\\n",
    "=& \\frac{1}{2^{k}}\\sum_{f_{1},\\dots,f_{k}}\\delta\\left(f;\\min_{j=1,\\dots,k}\\left|f_{j}\\right|\\prod_{j=1}^{k}\\text{sign}\\left(f_{j}\\right)\\right)\\prod_{j=1}^{k}\\sum_{s_j}p\\left(f_{j}+s_j\\right)\\\\\n",
    "\\end{align*}"
   ]
  },
  {
   "cell_type": "code",
   "execution_count": 3,
   "metadata": {},
   "outputs": [
    {
     "name": "stderr",
     "output_type": "stream",
     "text": [
      "┌ Info: Precompiling OffsetArrays [6fe1bfb0-de20-5000-8ca7-80f57d26f881]\n",
      "└ @ Base loading.jl:1313\n",
      "┌ Warning: The call to compilecache failed to create a usable precompiled cache file for OffsetArrays [6fe1bfb0-de20-5000-8ca7-80f57d26f881]\n",
      "│   exception = ErrorException(\"Required dependency NetworkOptions [ca575930-c2e3-43a9-ace4-1e988b2c1908] failed to load from a cache file.\")\n",
      "└ @ Base loading.jl:1029\n",
      "┌ Info: Precompiling Adapt [79e6a3ab-5dfb-504d-930d-738a2a938a0e]\n",
      "└ @ Base loading.jl:1313\n",
      "┌ Warning: The call to compilecache failed to create a usable precompiled cache file for Adapt [79e6a3ab-5dfb-504d-930d-738a2a938a0e]\n",
      "│   exception = ErrorException(\"Required dependency NetworkOptions [ca575930-c2e3-43a9-ace4-1e988b2c1908] failed to load from a cache file.\")\n",
      "└ @ Base loading.jl:1029\n"
     ]
    },
    {
     "data": {
      "text/plain": [
       "iter_slow (generic function with 1 method)"
      ]
     },
     "execution_count": 3,
     "metadata": {},
     "output_type": "execute_result"
    }
   ],
   "source": [
    "using OffsetArrays\n",
    "\n",
    "\n",
    "function iter_slow(p,K)\n",
    "    N = lastindex(p)\n",
    "    p1 = copy(p)\n",
    "    p1 .= 0\n",
    "    S = CartesianIndices(Tuple(fill(0:1,K-1)))\n",
    "    for F in CartesianIndices(Tuple(fill(-N:N,K-1)))\n",
    "        ff = Tuple(F)\n",
    "        P = prod(p[fi] for fi in ff)\n",
    "        for fs in map(s -> ff .+ (2 .* Tuple(s) .- 1), S)\n",
    "            f = minimum(abs.(fs))*sign(prod(fs))\n",
    "            #println(\"$ff $fs $f $P\")\n",
    "            p1[clamp(f, -N, N)] += P\n",
    "        end\n",
    "    end\n",
    "    p1 / sum(p1)\n",
    "end"
   ]
  },
  {
   "cell_type": "markdown",
   "metadata": {},
   "source": [
    "Simplifications\n",
    "--\n",
    "\n",
    "$$f = \\min_{j=1,\\dots,k}\\left|f_{j}+s_{j}\\right|\\prod_{j=1}^k\\text{sign}\\left(f_{j}+s_{j}\\right)$$"
   ]
  },
  {
   "cell_type": "markdown",
   "metadata": {},
   "source": [
    "\\begin{align*}\n",
    "p\\left(f\\right)= & \\frac{1}{2^{k}}\\sum_{f_{1},\\dots,f_{k}}\\sum_{s_{1},\\dots,s_{k}}\\delta\\left(f;\\min_{j=1,\\dots,k}\\left|f_{j}+s_{j}\\right|\\prod_{j=1}^{k}\\text{sign}\\left(f_{j}+s_{j}\\right)\\right)\\prod_{j=1}^{k}p\\left(f_{j}\\right)\\\\\n",
    "= & \\sum_{f_{1},\\dots,f_{k}}\\delta\\left(f;\\min_{j=1,\\dots,k}\\left|f_{j}\\right|\\prod_{j=1}^{k}\\text{sign}\\left(f_{j}\\right)\\right)\\prod_{j=1}^{k}\\frac{1}{2}\\sum_{s_{j}}p\\left(f_{j}-s_{j}\\right)\\\\\n",
    "= & \\begin{cases}\n",
    "\\frac{1}{2}\\sum_{f_{1},\\dots,f_{k}>0}\\delta\\left(f;\\min_{j=1,\\dots,k}f_{j}\\right)\\prod_{j=1}^{k}\\sum_{s_{j}}p\\left(f_{j}-s_{j}\\right) & \\text{ for }f>0\\\\\n",
    "\\sum_{n=1}^{k}\\binom{k}{n}\\left(\\frac{1}{2}\\sum_{s_{j}}p\\left(s_{j}\\right)\\right)^{k-n}\\left(\\sum_{f'>0}\\sum_{s}p\\left(f'-s\\right)\\right)^{n} & \\text{ for }f=0\n",
    "\\end{cases}\\\\\n",
    "= & \\begin{cases}\n",
    "\\frac{1}{2}\\left\\{ \\left(\\sum_{f'\\geq f}\\sum_{s}p\\left(f'+s\\right)\\right)^{k}-\\left(\\sum_{f'>f}\\sum_{s}p\\left(f'+s\\right)\\right)^{k}\\right\\}  & \\text{ for }f>0\\\\\n",
    "\\sum_{n=0}^{k-1}\\binom{k}{n}\\left(\\frac{1}{2}\\sum_{s}p\\left(s\\right)\\right)^{k-n}\\left(\\sum_{f'>0}\\sum_{s}p\\left(f'+s\\right)\\right)^{n} & \\text{ for }f=0\n",
    "\\end{cases}\\\\\n",
    "= & \\begin{cases}\n",
    "\\frac{1}{2}\\left\\{ \\left(\\sum_{f'\\geq f}\\sum_{s\\in\\pm1}p\\left(f'+s\\right)\\right)^{k}-\\left(\\sum_{f'>f}\\sum_{s\\in\\pm1}p\\left(f'+s\\right)\\right)^{k}\\right\\}  & \\text{ for }f>0\\\\\n",
    "\\left(\\frac{1}{2}\\sum_{s\\in\\pm1}p\\left(s\\right)+\\sum_{f'>0}\\sum_{s\\in\\pm1}p\\left(f'+s\\right)\\right)^{k}-\\left(\\sum_{f'>0}\\sum_{s\\in\\pm1}p\\left(f'+s\\right)\\right)^{k} & \\text{ for }f=0\n",
    "\\end{cases}\\\\\n",
    "= & \\begin{cases}\n",
    "\\frac{1}{2}\\left\\{ \\left(\\sum_{f'\\geq f}\\sum_{s\\in\\pm1}p\\left(f'+s\\right)\\right)^{k}-\\left(\\sum_{f'>f}\\sum_{s\\in\\pm1}p\\left(f'+s\\right)\\right)^{k}\\right\\}  & \\text{ for }f>0\\\\\n",
    "\\left(p(1)+\\sum_{f'>0}p(f'+1)+p(f'-1)\\right)^k - \\left(\\sum_{f'>0}p(f'+1)+p(f'-1)\\right)^k & \\text{ for }f=0\n",
    "\\end{cases}\\\\\n",
    "= & \\begin{cases}\n",
    "\\frac{1}{2}\\left\\{ \\left(\\sum_{f'\\geq f}\\sum_{s\\in\\pm1}p\\left(f'+s\\right)\\right)^{k}-\\left(\\sum_{f'>f}\\sum_{s\\in\\pm1}p\\left(f'+s\\right)\\right)^{k}\\right\\}  & \\text{ for }f>0\\\\\n",
    "1-(1-p(1))^k & \\text{ for }f=0\n",
    "\\end{cases}\\\\\n",
    "\\end{align*}\n"
   ]
  },
  {
   "cell_type": "code",
   "execution_count": 65,
   "metadata": {},
   "outputs": [
    {
     "data": {
      "text/plain": [
       "iter (generic function with 1 method)"
      ]
     },
     "execution_count": 65,
     "metadata": {},
     "output_type": "execute_result"
    }
   ],
   "source": [
    "function iter(p,K)\n",
    "    k = K - 1\n",
    "    p1 = copy(p)\n",
    "    p1 .= 0.0\n",
    "    N = lastindex(p1)-1\n",
    "    for f = 1:N-1\n",
    "        v1 = p[f+1]+p[f-1]\n",
    "#        v2 = sum((p[f1+1]+p[f1-1] for f1=f+1:N), init=0.0)\n",
    "        v2 = sum(p[f1+1]+p[f1-1] for f1=f+1:N)\n",
    "        v = (v1+v2)^k-v2^k\n",
    "        p1[+f] += v/2\n",
    "        p1[-f] += v/2\n",
    "    end\n",
    "    v1 = (p[1]+p[-1])/2\n",
    "    v2 = sum(p[f1+1]+p[f1-1] for f1=1:N)\n",
    "    p1[0] = (v1+v2)^k-v2^k\n",
    "    p1 ./ sum(p1)\n",
    "end"
   ]
  },
  {
   "cell_type": "code",
   "execution_count": 53,
   "metadata": {},
   "outputs": [
    {
     "data": {
      "text/plain": [
       "iternofields (generic function with 1 method)"
      ]
     },
     "execution_count": 53,
     "metadata": {},
     "output_type": "execute_result"
    }
   ],
   "source": [
    "function iternofields(p,K)\n",
    "    k = K - 1\n",
    "    p1 = zero(p)\n",
    "    N = lastindex(p1)-1\n",
    "    for f = 0:N-1\n",
    "        #v1 = p[f+1]+p[f-1]\n",
    "        v1 = p[f]\n",
    "#        v2 = sum((p[f1+1]+p[f1-1] for f1=f+1:N), init=0.0)\n",
    "#        v2 = sum(p[f1+1]+p[f1-1] for f1=f+1:N)\n",
    "        v2 = sum(p[f+1:N])\n",
    "        v = (v1+v2)^k-v2^k\n",
    "        p1[+f] += v/2\n",
    "        p1[-f] += v/2\n",
    "    end\n",
    "    p1 ./ sum(p1)\n",
    "end"
   ]
  },
  {
   "cell_type": "code",
   "execution_count": 18,
   "metadata": {},
   "outputs": [],
   "source": [
    "using OffsetArrays\n",
    "N=100\n",
    "p = OffsetArray(zeros(2N+1),-N:N)\n",
    "p[1] = 1\n",
    "\n",
    "for i=1:100\n",
    "    p = iternofields(p,3)\n",
    "end\n",
    "\n"
   ]
  },
  {
   "cell_type": "code",
   "execution_count": 19,
   "metadata": {},
   "outputs": [],
   "source": [
    "using PyPlot"
   ]
  },
  {
   "cell_type": "code",
   "execution_count": 20,
   "metadata": {},
   "outputs": [
    {
     "data": {
      "image/png": "[encoded data removed]",
      "text/plain": [
       "Figure(PyObject <Figure size 640x480 with 1 Axes>)"
      ]
     },
     "metadata": {},
     "output_type": "display_data"
    },
    {
     "data": {
      "text/plain": [
       "1-element Vector{PyCall.PyObject}:\n",
       " PyObject <matplotlib.lines.Line2D object at 0x7fb34b86d3d0>"
      ]
     },
     "execution_count": 20,
     "metadata": {},
     "output_type": "execute_result"
    }
   ],
   "source": [
    "plot(-N:N,p)"
   ]
  },
  {
   "cell_type": "markdown",
   "metadata": {},
   "source": [
    "Comparison\n",
    "--"
   ]
  },
  {
   "cell_type": "code",
   "execution_count": 3,
   "metadata": {},
   "outputs": [
    {
     "data": {
      "text/plain": [
       "15×2 Array{Float64,2}:\n",
       " 1.82615e-52  0.0\n",
       " 3.33866e-27  3.29725e-27\n",
       " 6.99126e-14  6.97676e-14\n",
       " 3.49772e-7   3.49745e-7\n",
       " 0.000847722  0.000847632\n",
       " 0.0399563    0.0399577\n",
       " 0.245227     0.24522\n",
       " 0.427938     0.427948\n",
       " 0.245227     0.24522\n",
       " 0.0399563    0.0399577\n",
       " 0.000847722  0.000847632\n",
       " 3.49772e-7   3.49745e-7\n",
       " 6.99126e-14  6.97676e-14\n",
       " 3.33866e-27  3.29725e-27\n",
       " 1.82615e-52  0.0"
      ]
     },
     "execution_count": 3,
     "metadata": {},
     "output_type": "execute_result"
    }
   ],
   "source": [
    "N=7\n",
    "N1 = 8\n",
    "p=OffsetArray(zeros(2N1+1), -N1:N1);\n",
    "p[-N+1:N-1] .= 1/(2N-1)\n",
    "q1 = copy(p)\n",
    "q2 = copy(p)\n",
    "\n",
    "for i=1:10\n",
    "    q1 = iter_slow(q1,3)\n",
    "    q2 = iter(q2,3)\n",
    "end\n",
    "[q1[-N:N] q2[-N:N]]"
   ]
  },
  {
   "cell_type": "code",
   "execution_count": 51,
   "metadata": {},
   "outputs": [
    {
     "data": {
      "text/plain": [
       "findsolution (generic function with 1 method)"
      ]
     },
     "execution_count": 51,
     "metadata": {},
     "output_type": "execute_result"
    }
   ],
   "source": [
    "function findsolution(k; tol=1e-15, maxiter=10^7, eq=iter, N=6)\n",
    "    err = Inf\n",
    "    p=OffsetArray(zeros(2N+3), -N-1:N+1);\n",
    "    p[-N+1:N-1] .= 1/(2N+1)\n",
    "    p ./= sum(p);\n",
    "    for i = 1:maxiter\n",
    "        (err <= tol) && break\n",
    "        q = eq(p,k)\n",
    "        err = maximum(abs.(q-p))\n",
    "        p = 0.1q + 0.9p\n",
    "    end\n",
    "    @show k, err\n",
    "    p\n",
    "end"
   ]
  },
  {
   "cell_type": "markdown",
   "metadata": {},
   "source": [
    "Free Energy\n",
    "--\n",
    "\n",
    "\\begin{align*}\n",
    "-F_{a} & =\\frac{1}{\\beta}\\log\\sum_{\\sigma:sat}\\prod_{i\\in\\partial a}\\frac{e^{\\beta\\left(f_{bi}+s_{i}\\right)\\sigma_{i}}}{2\\cosh\\left(\\beta f_{bi}\\right)}\\\\\n",
    " & =\\frac{1}{\\beta}\\log\\sum_{\\sigma:sat}e^{\\beta\\sum_{i\\in\\partial a}\\left(f_{bi}+s_{i}\\right)\\sigma_{i}}-\\frac{1}{\\beta}\\sum_{i\\in\\partial a}\\log2\\cosh\\left(\\beta f_{bi}\\right)\\\\\n",
    " & \\to\\max_{\\sigma:sat}\\sum_{i\\in\\partial a}\\left(f_{bi}+s_{i}\\right)\\sigma_{i}-\\sum_{i\\in\\partial a}\\left|f_{bi}\\right|\\\\\n",
    " & =\\sum_{i\\in\\partial a}\\left\\{ \\left|f_{bi}+s_{i}\\right|-\\left|f_{bi}\\right|\\right\\} -\\Theta\\left(-\\prod_{i\\in\\partial a}\\left(f_{bi}+s_{i}\\right)\\right)2\\min_{i\\in\\partial a}\\left|f_{bi}+s_{i}\\right|\\\\\n",
    " & =\\sum_{i\\in\\partial a}\\left\\{ \\left|f_{bi}+s_{i}\\right|-\\left|f_{bi}\\right|\\right\\} -\\Theta\\left(-\\prod_{i\\in\\partial a}\\left(f_{bi}+s_{i}\\right)\\right)2\\min_{i\\in\\partial a}\\left|f_{bi}+s_{i}\\right|\\\\\n",
    "-F_{i} & =\\frac{1}{\\beta}\\log\\sum_{\\sigma_{i}}\\frac{e^{\\beta\\sigma_{i}\\left(f_{ai}+f_{bi}+s_{i}\\right)}}{2\\cosh\\left(\\beta f_{ai}\\right)2\\cosh\\left(\\beta f_{bi}\\right)}\\\\\n",
    " & =\\frac{1}{\\beta}\\log\\sum_{\\sigma_{i}}e^{\\beta\\sigma_{i}\\left(f_{ai}+f_{bi}+s_{i}\\right)}-\\frac{1}{\\beta}\\log2\\cosh\\left(\\beta f_{ai}\\right)-\\frac{1}{\\beta}\\log2\\cosh\\left(\\beta f_{bi}\\right)\\\\\n",
    " & \\to\\left|f_{ai}+f_{bi}+s_{i}\\right|-\\left|f_{ai}\\right|-\\left|f_{bi}\\right|\\\\\n",
    "F &= \\sum_{a}F_{a}-\\sum_{i}F_{i}\n",
    "\\end{align*}\n",
    "\n",
    "So we get the overlap:\n",
    "\n",
    "$$O=-F= -\\sum_{a}F_{a}+\\sum_{i}F_{i}$$\n"
   ]
  },
  {
   "cell_type": "code",
   "execution_count": 5,
   "metadata": {},
   "outputs": [
    {
     "data": {
      "text/plain": [
       "overlap_slow (generic function with 1 method)"
      ]
     },
     "execution_count": 5,
     "metadata": {},
     "output_type": "execute_result"
    }
   ],
   "source": [
    "function overlap_slow(p,K)\n",
    "    N = lastindex(p)\n",
    "    O = 0.0\n",
    "    S = CartesianIndices(Tuple(fill(0:1,K)))\n",
    "    for ff in map(Tuple, CartesianIndices(Tuple(fill(-N:N,K))))\n",
    "        P = prod(p[fi] for fi in ff) / 2^K\n",
    "        for fs in map(s -> ff .+ (2 .* Tuple(s) .- 1), S)\n",
    "            O += P*sum(abs.(fs))\n",
    "            if prod(fs) < 0\n",
    "                O -= P*2*minimum(abs.(fs))\n",
    "            end\n",
    "        end\n",
    "    end\n",
    "    O *= 2/K\n",
    "    for f1=-N:N\n",
    "        for f2=-N:N\n",
    "            for s = (-1,1)\n",
    "                O -= p[f1]*p[f2]*0.5*(abs(f1+f2+s))\n",
    "            end\n",
    "        end\n",
    "    end\n",
    "    O\n",
    "end"
   ]
  },
  {
   "cell_type": "markdown",
   "metadata": {},
   "source": [
    "Simplifications for the overlap\n",
    "--\n",
    "\n",
    "* On a single instance (by rearranging the sums)\n",
    "\n",
    "\\begin{align*}\n",
    "O&=-\\frac{1}{n}\\sum_{a=1}^m\\Theta\\left(-\\prod_{i\\in\\partial a}\\left(f_{bi}+s_{i}\\right)\\right)2\\min_{i\\in\\partial a}\\left|f_{bi}+s_{i}\\right|+\\frac{1}{n}\\sum_{i=1}^n\\left(|f_{bi}+s_i|+|f_{ai}+s_i|-|f_{ai}+f_{bi}+s_i|\\right)\n",
    "\\end{align*}\n",
    "that one can re-write\n",
    "\\begin{align*}\n",
    "O&=\\frac{1}{n}\\sum_{i=1}^nF(f_{ai},f_{bi},s_i)+\\frac{1}{n}\\sum_{a=1}^m G(\\{f_{bi}\\}_{i\\in\\partial a};|\\partial a|)\n",
    "\\end{align*}\n",
    "\n",
    "* Averaging over the graph and source (for an arbitrary factor degree profile $P(X)$)\n",
    "\\begin{align*}\n",
    "O^{RS} &= \\sum_s\\frac{1}{2}\\sum_{f_1,f_2}\\left(|f_1+s|+|f_2+s|-|f_1+f_2+s|\\right)p(f_1)p(f_2) \\\\\n",
    "&- \\frac{2}{P'(1)}\\sum_{k=0}^{\\infty}P_k\\sum_{f_1,\\dots,f_k}\\sum_{s_1,\\dots,s_k}\\frac{1}{2^k}\\Theta\\left(-\\prod_{i=1}^k\\left(f_i+s_i\\right)\\right)2\\min_{i=1,\\dots,k}\\left|f_i+s_i\\right|\\prod_{i=1}^k p(f_i)\\\\\n",
    "\\end{align*}\n",
    "The factor $2/P'(1)$ is the number of factors per variables $\\alpha=m/n=2/P'(1)$ : in the RS approximation, each term $G(\\{f_{bi}, s_i\\}, |\\partial a|)$ in the sum $(1/n)\\sum_{a=1}^m G(\\{f_{bi}, s_i\\}, |\\partial a|)$ over the factors has the same contribution, and there is $m$ terms in the sum, therefore we obtain the contribution $\\alpha\\mathbb{E}[G(\\{f_i,s_i\\}_{i=1,\\dots,k}; k)]$. The average is taken over the random variables, $k$ is drawn from $P_k$; $f_1,\\dots f_k$ are drawn from $p(f)$ i.i.d., and $s_1,\\dots,s_k$ are $\\pm 1$ uniformly and i.i.d.\n",
    "\n",
    "* The second term can be simplified:\n",
    "\\begin{align*}\n",
    "&\\sum_{f_1,\\dots,f_k}\\sum_{s_1,\\dots,s_k}\\frac{1}{2^k}\\Theta\\left(-\\prod_{i=1}^k\\left(f_i+s_i\\right)\\right)2\\min_{i=1,\\dots,k}\\left|f_i+s_i\\right|\\prod_{i=1}^k p(f_i)\\\\\n",
    "=& \\sum_{f_1,\\dots,f_k} \\Theta\\left(-\\prod_{i=1}^k f_i\\right)2\\min_{i=1,\\dots,k}|f_i|\\prod_{i=1}^k\\left(\\sum_{s_i}\\frac{1}{2}p(f_i-s_i)\\right)\\\\\n",
    "=& \\sum_{f_1,\\dots,f_k>0}\\min_{i=1,\\dots,k}(f_i)\\prod_{i=1}^k\\left(\\sum_{s_i}p(f_i-s_i)\\right)\\\\\n",
    "=& \\sum_{f>0}f\\sum_{n=1}^k{k\\choose n}\\left(\\sum_s p(f-s)\\right)^n\\left(\\sum_{f'>f}\\sum_s p(f'-s)\\right)^{k-n} \\\\\n",
    "=& \\sum_{f>0}f\\left\\{ \\left(\\sum_{f'\\geq f}\\sum_s p(f'-s)\\right)^k - \\left(\\sum_{f'>f}\\sum_s p(f'-s)\\right)^k\\right\\}\n",
    "\\end{align*}\n",
    "\n",
    "RS equations for an arbitrary factor degree profile $P(X)$\n",
    "--\n",
    "\n",
    "\\begin{align*}\n",
    "p\\left(f\\right)=\\sum_{k=0}^{\\infty}\\tilde{P_k}\\frac{1}{2^{k}}\\sum_{f_{1},\\dots,f_{k}}\\sum_{s_{1},\\dots,s_{k}}\\delta\\left(f;\\min_{j=1,\\dots,k}\\left|f_{j}+s_{j}\\right|\\prod_{j=1}^{k}\\text{sign}\\left(f_{j}+s_{j}\\right)\\right)\\prod_{j=1}^{k}p\\left(f_{j}\\right)\n",
    "\\end{align*}\n",
    "with the residual degree profile \n",
    "\\begin{align*}\n",
    "\\tilde{P_k}=\\frac{(k+1)P_{k+1}}{P'(1)}\n",
    "\\end{align*}\n",
    "which is the the probability distribution, for a factor node reached by following an edge, of the number of other edges attached to that node.\n",
    "Using the simplifications below:\n",
    "\\begin{align*}\n",
    "p\\left(f\\right)=\\sum_{k=0}^{\\infty}\\tilde{P_k}\\begin{cases}\n",
    "\\frac{1}{2}\\left\\{ \\left(\\sum_{f'\\geq f}\\sum_{s\\in\\pm1}p\\left(f'+s\\right)\\right)^{k}-\\left(\\sum_{f'>f}\\sum_{s\\in\\pm1}p\\left(f'+s\\right)\\right)^{k}\\right\\}  & \\text{ for }f>0\\\\\n",
    "\\left(\\frac{1}{2}\\sum_{s\\in\\pm1}p\\left(s\\right)+\\sum_{f'>0}\\sum_{s\\in\\pm1}p\\left(f'+s\\right)\\right)^{k}-\\left(\\sum_{f'>0}\\sum_{s\\in\\pm1}p\\left(f'+s\\right)\\right)^{k} & \\text{ for }f=0\n",
    "\\end{cases}\n",
    "\\end{align*}"
   ]
  },
  {
   "cell_type": "code",
   "execution_count": 128,
   "metadata": {},
   "outputs": [
    {
     "data": {
      "text/plain": [
       "overlap_fixeddeg (generic function with 1 method)"
      ]
     },
     "execution_count": 128,
     "metadata": {},
     "output_type": "execute_result"
    }
   ],
   "source": [
    "using OffsetArrays\n",
    "\n",
    "function overlap_variables(p)# first term in the expression of the overlap (sum over variables)\n",
    "    O = 0.0\n",
    "    N = lastindex(p)-1\n",
    "    for f1=-N:N\n",
    "        for f2=-N:N\n",
    "            for s = (-1,1)\n",
    "                O += p[f1]*p[f2]*0.5*(abs(f1+s)+abs(f2+s)-abs(f1+f2+s))\n",
    "            end\n",
    "        end\n",
    "    end\n",
    "    O\n",
    "end\n",
    "function overlap_factors(p,k) #second term, at fixed k\n",
    "    O = 0.0\n",
    "    N = lastindex(p)-1\n",
    "    for f = 1:N-1\n",
    "        v1 = p[f+1]+p[f-1]\n",
    "        v2 = sum(p[f1+1]+p[f1-1] for f1=f+1:N)\n",
    "        v = (v1+v2)^k-v2^k\n",
    "        O += f*v\n",
    "    end\n",
    "    O\n",
    "end\n",
    "\n",
    "function overlap_fixeddeg(p,k)\n",
    "    O=overlap_variables(p)-(2/k)*overlap_factors(p,k)\n",
    "    O\n",
    "end"
   ]
  },
  {
   "cell_type": "code",
   "execution_count": 7,
   "metadata": {},
   "outputs": [
    {
     "name": "stdout",
     "output_type": "stream",
     "text": [
      "(k, err) = (3, 9.43689570931383e-16)\n"
     ]
    },
    {
     "data": {
      "text/plain": [
       "1×2 Array{Float64,2}:\n",
       " 0.580759  0.580759"
      ]
     },
     "execution_count": 7,
     "metadata": {},
     "output_type": "execute_result"
    }
   ],
   "source": [
    "p=findsolution(3)\n",
    "[overlap_slow(p,3) overlap_fixeddeg(p,3)]"
   ]
  },
  {
   "cell_type": "code",
   "execution_count": 8,
   "metadata": {},
   "outputs": [
    {
     "data": {
      "text/plain": [
       "distortion (generic function with 1 method)"
      ]
     },
     "execution_count": 8,
     "metadata": {},
     "output_type": "execute_result"
    }
   ],
   "source": [
    "distortion(K; kwdargs...) = (1-overlap_fixeddeg(findsolution(K; kwdargs...), K))/2"
   ]
  },
  {
   "cell_type": "code",
   "execution_count": 9,
   "metadata": {},
   "outputs": [
    {
     "name": "stdout",
     "output_type": "stream",
     "text": [
      "(k, err) = (3, 9.43689570931383e-16)\n",
      "(k, err) = (4, 9.992007221626409e-16)\n",
      "(k, err) = (5, 8.881784197001252e-16)\n",
      "(k, err) = (6, 9.992007221626409e-16)\n",
      "(k, err) = (7, 9.992007221626409e-16)\n",
      "(k, err) = (8, 8.881784197001252e-16)\n",
      "(k, err) = (9, 9.992007221626409e-16)\n",
      "(k, err) = (10, 9.992007221626409e-16)\n"
     ]
    },
    {
     "data": {
      "text/plain": [
       "8×2 Array{Float64,2}:\n",
       " 0.333333  0.209621\n",
       " 0.5       0.141487\n",
       " 0.6       0.105593\n",
       " 0.666667  0.0830604\n",
       " 0.714286  0.0676468\n",
       " 0.75      0.0565155\n",
       " 0.777778  0.0481531\n",
       " 0.8       0.0416759"
      ]
     },
     "execution_count": 9,
     "metadata": {},
     "output_type": "execute_result"
    }
   ],
   "source": [
    "Ks = 3:10\n",
    "D = distortion.(Ks)\n",
    "R = 1 .- 2 ./ Ks\n",
    "\n",
    "[R D]"
   ]
  },
  {
   "cell_type": "code",
   "execution_count": 10,
   "metadata": {},
   "outputs": [
    {
     "data": {
      "text/plain": [
       "8-element Array{Float64,1}:\n",
       " 0.33333333333333337\n",
       " 0.5\n",
       " 0.6\n",
       " 0.6666666666666667\n",
       " 0.7142857142857143\n",
       " 0.75\n",
       " 0.7777777777777778\n",
       " 0.8"
      ]
     },
     "execution_count": 10,
     "metadata": {},
     "output_type": "execute_result"
    }
   ],
   "source": [
    "R = 1 .- 2 ./ Ks"
   ]
  },
  {
   "cell_type": "code",
   "execution_count": 11,
   "metadata": {},
   "outputs": [
    {
     "data": {
      "image/png": "[encoded data removed]",
      "text/plain": [
       "Figure(PyObject <Figure size 640x480 with 1 Axes>)"
      ]
     },
     "metadata": {},
     "output_type": "display_data"
    },
    {
     "data": {
      "text/plain": [
       "1-element Array{PyCall.PyObject,1}:\n",
       " PyObject <matplotlib.lines.Line2D object at 0x7facca198860>"
      ]
     },
     "execution_count": 11,
     "metadata": {},
     "output_type": "execute_result"
    }
   ],
   "source": [
    "using PyPlot\n",
    "H(p)=1+p*log2(p)+(1-p)*log2(1-p)\n",
    "\n",
    "#xlim(0,1)\n",
    "#ylim(0,0.5)\n",
    "plot(R,D, \"+\")\n",
    "plot((0,1),(0.5,0))\n",
    "plot(H.(0:0.001:0.5), 0:0.001:0.5)"
   ]
  },
  {
   "cell_type": "code",
   "execution_count": 98,
   "metadata": {},
   "outputs": [
    {
     "data": {
      "text/plain": [
       "mixed (generic function with 1 method)"
      ]
     },
     "execution_count": 98,
     "metadata": {},
     "output_type": "execute_result"
    }
   ],
   "source": [
    "function mixed(pk; maxiter=10^7, tol=1e-15, N=6, damp=0.9)\n",
    "    N1 = N + 1\n",
    "    p=OffsetArray(zeros(2N1+1), -N1:N1);\n",
    "    p[-N+1:N-1] .= 1/(2N-1)\n",
    "    krange = [k for k in eachindex(pk) if pk[k] > tol]\n",
    "    @assert sum(pk[krange]) ≈ 1\n",
    "    z = sum(k*pk[k] for k=krange)\n",
    "    for i=1:maxiter\n",
    "        p1 = sum(k*pk[k]*iter(p,k) for k=krange)/z\n",
    "        if sum(abs.(p1 - p)) < tol\n",
    "            break\n",
    "        end\n",
    "        p = p*damp+p1*(1-damp)\n",
    "    end\n",
    "    O = overlap_variables(p) - (2/z)*sum(pk[k]*overlap_factors(p,k) for k=krange)\n",
    "    D = (1-O)/2\n",
    "end"
   ]
  },
  {
   "cell_type": "code",
   "execution_count": 213,
   "metadata": {},
   "outputs": [
    {
     "data": {
      "text/plain": [
       "mixture2 (generic function with 1 method)"
      ]
     },
     "execution_count": 213,
     "metadata": {},
     "output_type": "execute_result"
    }
   ],
   "source": [
    "function mixture2(R) \n",
    "    α=1-R\n",
    "    k=floor(Int, 2/α)\n",
    "    s=k+1-2/α\n",
    "    p=[fill(0,k-1); s; 1-s]\n",
    "    p .*= p .> 1e-10\n",
    "    p ./ sum(p)\n",
    "end\n"
   ]
  },
  {
   "cell_type": "code",
   "execution_count": 214,
   "metadata": {},
   "outputs": [
    {
     "data": {
      "text/plain": [
       "99-element Vector{Float64}:\n",
       " 0.4546474073128681\n",
       " 0.43565049932361133\n",
       " 0.42092765046912317\n",
       " 0.40839439222208573\n",
       " 0.3972457420215144\n",
       " 0.3870702443196218\n",
       " 0.3776242651788484\n",
       " 0.36874955806591975\n",
       " 0.3603365352601175\n",
       " 0.3523056385673838\n",
       " 0.34459697668198624\n",
       " 0.33716414626734653\n",
       " 0.3299703418625086\n",
       " ⋮\n",
       " 0.020370784947590925\n",
       " 0.017979055383501308\n",
       " 0.015666129177374533\n",
       " 0.013449978144655372\n",
       " 0.0113201258591068\n",
       " 0.009302254807509736\n",
       " 0.007397829094439923\n",
       " 0.0056264302423451595\n",
       " 0.004010648891537405\n",
       " 0.002577264143732827\n",
       " 0.0013672330158682189\n",
       " 0.0004509986577261871"
      ]
     },
     "execution_count": 214,
     "metadata": {},
     "output_type": "execute_result"
    }
   ],
   "source": [
    "Rm = 0.01:0.01:0.99\n",
    "pks = mixture2.(Rm)\n",
    "αs = 2 ./ [sum(k*pk[k] for k=eachindex(pk)) for pk in pks]\n",
    "@assert Rm ≈ 1 .- αs\n",
    "Dm = mixed.(pks, N=30)"
   ]
  },
  {
   "cell_type": "code",
   "execution_count": 227,
   "metadata": {},
   "outputs": [
    {
     "name": "stderr",
     "output_type": "stream",
     "text": [
      "WARNING: using Plots.plot in module Main conflicts with an existing identifier.\n",
      "WARNING: ignoring conflicting import of Plots.plot into Main\n",
      "WARNING: using Lazy.d in module Main conflicts with an existing identifier.\n",
      "WARNING: ignoring conflicting import of Plots.plot into Main\n"
     ]
    }
   ],
   "source": [
    "include(\"../code/headers.jl\")"
   ]
  },
  {
   "cell_type": "code",
   "execution_count": 228,
   "metadata": {},
   "outputs": [],
   "source": [
    "seed = 1234\n",
    "n = factorial(7)*2\n",
    "R = 0.21:0.05:0.81\n",
    "m_ = n*(1 .- R)\n",
    "nrates = length(m_)\n",
    "m = round.(Int,m_)\n",
    "ms = MS(maxiter=1000, convergence=:parity, Tmax=1, gamma=5e-3, sigma=1e-10)\n",
    "oc = OptimalCycle()\n",
    "res_MS = Vector{BPResults{MS}}(undef,nrates)\n",
    "res_OC = Vector{OptimalCycleResults}(undef,nrates)\n",
    "avg_dist = zeros(nrates)\n",
    "avg_dist_oc = zeros(nrates)\n",
    "navg = 10;"
   ]
  },
  {
   "cell_type": "code",
   "execution_count": 229,
   "metadata": {
    "scrolled": true
   },
   "outputs": [
    {
     "name": "stdout",
     "output_type": "stream",
     "text": [
      "## Rate 0.21. 1 of 13\n",
      "Iter 1. Distortion 0.2819. Cycle weight -4364.0. Energy shift -2182.0\n",
      "Iter 2. Distortion 0.2819. Cycle weight 0.0. Energy shift 0.0\n",
      "Iter 1. Distortion 0.279. Cycle weight -4520.0. Energy shift -2260.0\n",
      "Iter 2. Distortion 0.279. Cycle weight 0.0. Energy shift 0.0\n",
      "Iter 1. Distortion 0.2791. Cycle weight -4522.0. Energy shift -2261.0\n",
      "Iter 2. Distortion 0.2791. Cycle weight 0.0. Energy shift 0.0\n",
      "Iter 1. Distortion 0.2786. Cycle weight -4428.0. Energy shift -2214.0\n",
      "Iter 2. Distortion 0.2786. Cycle weight 0.0. Energy shift 0.0\n",
      "Iter 1. Distortion 0.2755. Cycle weight -4394.0. Energy shift -2197.0\n",
      "Iter 2. Distortion 0.2755. Cycle weight 0.0. Energy shift 0.0\n",
      "Iter 1. Distortion 0.279. Cycle weight -4284.0. Energy shift -2142.0\n",
      "Iter 2. Distortion 0.279. Cycle weight 0.0. Energy shift 0.0\n",
      "Iter 1. Distortion 0.2795. Cycle weight -4398.0. Energy shift -2199.0\n",
      "Iter 2. Distortion 0.2795. Cycle weight 0.0. Energy shift 0.0\n",
      "Iter 1. Distortion 0.2776. Cycle weight -4598.0. Energy shift -2299.0\n",
      "Iter 2. Distortion 0.2776. Cycle weight 0.0. Energy shift 0.0\n",
      "Iter 1. Distortion 0.2767. Cycle weight -4430.0. Energy shift -2215.0\n",
      "Iter 2. Distortion 0.2767. Cycle weight 0.0. Energy shift 0.0\n",
      "Iter 1. Distortion 0.2801. Cycle weight -4436.0. Energy shift -2218.0\n",
      "Iter 2. Distortion 0.2801. Cycle weight 0.0. Energy shift 0.0\n",
      "## Rate 0.26. 2 of 13\n",
      "Iter 1. Distortion 0.2527. Cycle weight -4954.0. Energy shift -2477.0\n",
      "Iter 2. Distortion 0.2527. Cycle weight 0.0. Energy shift 0.0\n",
      "Iter 1. Distortion 0.2521. Cycle weight -5062.0. Energy shift -2531.0\n",
      "Iter 2. Distortion 0.2521. Cycle weight 0.0. Energy shift 0.0\n",
      "Iter 1. Distortion 0.2507. Cycle weight -5094.0. Energy shift -2547.0\n",
      "Iter 2. Distortion 0.2507. Cycle weight 0.0. Energy shift 0.0\n",
      "Iter 1. Distortion 0.2498. Cycle weight -5008.0. Energy shift -2504.0\n",
      "Iter 2. Distortion 0.2498. Cycle weight 0.0. Energy shift 0.0\n",
      "Iter 1. Distortion 0.2513. Cycle weight -4882.0. Energy shift -2441.0\n",
      "Iter 2. Distortion 0.2513. Cycle weight 0.0. Energy shift 0.0\n",
      "Iter 1. Distortion 0.2481. Cycle weight -4906.0. Energy shift -2453.0\n",
      "Iter 2. Distortion 0.2481. Cycle weight 0.0. Energy shift 0.0\n",
      "Iter 1. Distortion 0.247. Cycle weight -5052.0. Energy shift -2526.0\n",
      "Iter 2. Distortion 0.247. Cycle weight 0.0. Energy shift 0.0\n",
      "Iter 1. Distortion 0.2472. Cycle weight -5210.0. Energy shift -2605.0\n",
      "Iter 2. Distortion 0.2472. Cycle weight 0.0. Energy shift 0.0\n",
      "Iter 1. Distortion 0.251. Cycle weight -4948.0. Energy shift -2474.0\n",
      "Iter 2. Distortion 0.251. Cycle weight 0.0. Energy shift 0.0\n",
      "Iter 1. Distortion 0.2503. Cycle weight -5036.0. Energy shift -2518.0\n",
      "Iter 2. Distortion 0.2503. Cycle weight 0.0. Energy shift 0.0\n",
      "## Rate 0.31. 3 of 13\n",
      "Iter 1. Distortion 0.2236. Cycle weight -5540.0. Energy shift -2770.0\n",
      "Iter 2. Distortion 0.2236. Cycle weight 0.0. Energy shift 0.0\n",
      "Iter 1. Distortion 0.2233. Cycle weight -5642.0. Energy shift -2821.0\n",
      "Iter 2. Distortion 0.2233. Cycle weight 0.0. Energy shift 0.0\n",
      "Iter 1. Distortion 0.2227. Cycle weight -5658.0. Energy shift -2829.0\n",
      "Iter 2. Distortion 0.2227. Cycle weight 0.0. Energy shift 0.0\n",
      "Iter 1. Distortion 0.2206. Cycle weight -5596.0. Energy shift -2798.0\n",
      "Iter 2. Distortion 0.2206. Cycle weight 0.0. Energy shift 0.0\n",
      "Iter 1. Distortion 0.2213. Cycle weight -5486.0. Energy shift -2743.0\n",
      "Iter 2. Distortion 0.2213. Cycle weight 0.0. Energy shift 0.0\n",
      "Iter 1. Distortion 0.2224. Cycle weight -5424.0. Energy shift -2712.0\n",
      "Iter 2. Distortion 0.2224. Cycle weight 0.0. Energy shift 0.0\n",
      "Iter 1. Distortion 0.2222. Cycle weight -5552.0. Energy shift -2776.0\n",
      "Iter 2. Distortion 0.2222. Cycle weight 0.0. Energy shift 0.0\n",
      "Iter 1. Distortion 0.2228. Cycle weight -5702.0. Energy shift -2851.0\n",
      "Iter 2. Distortion 0.2228. Cycle weight 0.0. Energy shift 0.0\n",
      "Iter 1. Distortion 0.2224. Cycle weight -5524.0. Energy shift -2762.0\n",
      "Iter 2. Distortion 0.2224. Cycle weight 0.0. Energy shift 0.0\n",
      "Iter 1. Distortion 0.2201. Cycle weight -5644.0. Energy shift -2822.0\n",
      "Iter 2. Distortion 0.2201. Cycle weight 0.0. Energy shift 0.0\n",
      "## Rate 0.36. 4 of 13\n",
      "Iter 1. Distortion 0.2048. Cycle weight -5920.0. Energy shift -2960.0\n",
      "Iter 2. Distortion 0.1988. Cycle weight -120.0. Energy shift -60.0\n",
      "Iter 3. Distortion 0.1988. Cycle weight 0.0. Energy shift 0.0\n",
      "Iter 1. Distortion 0.2059. Cycle weight -5994.0. Energy shift -2997.0\n",
      "Iter 2. Distortion 0.197. Cycle weight -178.0. Energy shift -89.0\n",
      "Iter 3. Distortion 0.197. Cycle weight 0.0. Energy shift 0.0\n",
      "Iter 1. Distortion 0.2075. Cycle weight -5964.0. Energy shift -2982.0\n",
      "Iter 2. Distortion 0.1999. Cycle weight -154.0. Energy shift -77.0\n",
      "Iter 3. Distortion 0.1999. Cycle weight 0.0. Energy shift 0.0\n",
      "Iter 1. Distortion 0.2043. Cycle weight -5926.0. Energy shift -2963.0\n",
      "Iter 2. Distortion 0.1973. Cycle weight -140.0. Energy shift -70.0\n",
      "Iter 3. Distortion 0.1973. Cycle weight 0.0. Energy shift 0.0\n",
      "Iter 1. Distortion 0.2028. Cycle weight -5860.0. Energy shift -2930.0\n",
      "Iter 2. Distortion 0.195. Cycle weight -156.0. Energy shift -78.0\n",
      "Iter 3. Distortion 0.195. Cycle weight 0.0. Energy shift 0.0\n",
      "Iter 1. Distortion 0.2115. Cycle weight -5644.0. Energy shift -2822.0\n",
      "Iter 2. Distortion 0.2012. Cycle weight -208.0. Energy shift -104.0\n",
      "Iter 3. Distortion 0.2012. Cycle weight 0.0. Energy shift 0.0\n",
      "Iter 1. Distortion 0.2065. Cycle weight -5868.0. Energy shift -2934.0\n",
      "Iter 2. Distortion 0.1981. Cycle weight -170.0. Energy shift -85.0\n",
      "Iter 3. Distortion 0.198. Cycle weight -2.0. Energy shift -1.0\n",
      "Iter 4. Distortion 0.198. Cycle weight 0.0. Energy shift 0.0\n",
      "Iter 1. Distortion 0.2061. Cycle weight -6040.0. Energy shift -3020.0\n",
      "Iter 2. Distortion 0.1996. Cycle weight -130.0. Energy shift -65.0\n",
      "Iter 3. Distortion 0.1996. Cycle weight 0.0. Energy shift 0.0\n",
      "Iter 1. Distortion 0.2048. Cycle weight -5880.0. Energy shift -2940.0\n",
      "Iter 2. Distortion 0.1976. Cycle weight -144.0. Energy shift -72.0\n",
      "Iter 3. Distortion 0.1976. Cycle weight 0.0. Energy shift 0.0\n",
      "Iter 1. Distortion 0.207. Cycle weight -5908.0. Energy shift -2954.0\n",
      "Iter 2. Distortion 0.1997. Cycle weight -148.0. Energy shift -74.0\n",
      "Iter 3. Distortion 0.1997. Cycle weight 0.0. Energy shift 0.0\n",
      "## Rate 0.41. 5 of 13\n",
      "Iter 1. Distortion 0.1994. Cycle weight -6028.0. Energy shift -3014.0\n",
      "Iter 2. Distortion 0.1793. Cycle weight -406.0. Energy shift -203.0\n",
      "Iter 3. Distortion 0.1792. Cycle weight -2.0. Energy shift -1.0\n",
      "Iter 4. Distortion 0.1792. Cycle weight 0.0. Energy shift 0.0\n",
      "Iter 1. Distortion 0.1999. Cycle weight -6114.0. Energy shift -3057.0\n",
      "Iter 2. Distortion 0.1792. Cycle weight -418.0. Energy shift -209.0\n",
      "Iter 3. Distortion 0.1792. Cycle weight 0.0. Energy shift 0.0\n",
      "Iter 1. Distortion 0.198. Cycle weight -6156.0. Energy shift -3078.0\n",
      "Iter 2. Distortion 0.1798. Cycle weight -368.0. Energy shift -184.0\n",
      "Iter 3. Distortion 0.1798. Cycle weight 0.0. Energy shift 0.0\n",
      "Iter 1. Distortion 0.1987. Cycle weight -6038.0. Energy shift -3019.0\n",
      "Iter 2. Distortion 0.1762. Cycle weight -454.0. Energy shift -227.0\n",
      "Iter 3. Distortion 0.1761. Cycle weight -2.0. Energy shift -1.0\n",
      "Iter 4. Distortion 0.1761. Cycle weight 0.0. Energy shift 0.0\n",
      "Iter 1. Distortion 0.2006. Cycle weight -5904.0. Energy shift -2952.0\n",
      "Iter 2. Distortion 0.1803. Cycle weight -410.0. Energy shift -205.0\n",
      "Iter 3. Distortion 0.1803. Cycle weight 0.0. Energy shift 0.0\n",
      "Iter 1. Distortion 0.1982. Cycle weight -5912.0. Energy shift -2956.0\n",
      "Iter 2. Distortion 0.1782. Cycle weight -404.0. Energy shift -202.0\n",
      "Iter 3. Distortion 0.178. Cycle weight -4.0. Energy shift -2.0\n",
      "Iter 4. Distortion 0.178. Cycle weight 0.0. Energy shift 0.0\n",
      "Iter 1. Distortion 0.1996. Cycle weight -6008.0. Energy shift -3004.0\n",
      "Iter 2. Distortion 0.1808. Cycle weight -380.0. Energy shift -190.0\n",
      "Iter 3. Distortion 0.1808. Cycle weight 0.0. Energy shift 0.0\n",
      "Iter 1. Distortion 0.1993. Cycle weight -6176.0. Energy shift -3088.0\n",
      "Iter 2. Distortion 0.1769. Cycle weight -452.0. Energy shift -226.0\n",
      "Iter 3. Distortion 0.1769. Cycle weight 0.0. Energy shift 0.0\n",
      "Iter 1. Distortion 0.1986. Cycle weight -6004.0. Energy shift -3002.0\n",
      "Iter 2. Distortion 0.1784. Cycle weight -408.0. Energy shift -204.0\n",
      "Iter 3. Distortion 0.1784. Cycle weight 0.0. Energy shift 0.0\n",
      "Iter 1. Distortion 0.1972. Cycle weight -6106.0. Energy shift -3053.0\n",
      "Iter 2. Distortion 0.1762. Cycle weight -424.0. Energy shift -212.0\n",
      "Iter 3. Distortion 0.1762. Cycle weight 0.0. Energy shift 0.0\n",
      "## Rate 0.46. 6 of 13\n",
      "Iter 1. Distortion 0.193. Cycle weight -6158.0. Energy shift -3079.0\n",
      "Iter 2. Distortion 0.1585. Cycle weight -694.0. Energy shift -347.0\n",
      "Iter 3. Distortion 0.1584. Cycle weight -2.0. Energy shift -1.0\n",
      "Iter 4. Distortion 0.1584. Cycle weight 0.0. Energy shift 0.0\n",
      "Iter 1. Distortion 0.1915. Cycle weight -6284.0. Energy shift -3142.0\n",
      "Iter 2. Distortion 0.1589. Cycle weight -656.0. Energy shift -328.0\n",
      "Iter 3. Distortion 0.1589. Cycle weight 0.0. Energy shift 0.0\n",
      "Iter 1. Distortion 0.1927. Cycle weight -6264.0. Energy shift -3132.0\n",
      "Iter 2. Distortion 0.1616. Cycle weight -626.0. Energy shift -313.0\n",
      "Iter 3. Distortion 0.1616. Cycle weight 0.0. Energy shift 0.0\n",
      "Iter 1. Distortion 0.1913. Cycle weight -6188.0. Energy shift -3094.0\n",
      "Iter 2. Distortion 0.1597. Cycle weight -636.0. Energy shift -318.0\n",
      "Iter 3. Distortion 0.1596. Cycle weight -2.0. Energy shift -1.0\n",
      "Iter 4. Distortion 0.1596. Cycle weight 0.0. Energy shift 0.0\n",
      "Iter 1. Distortion 0.1889. Cycle weight -6140.0. Energy shift -3070.0\n",
      "Iter 2. Distortion 0.1588. Cycle weight -606.0. Energy shift -303.0\n",
      "Iter 3. Distortion 0.1588. Cycle weight 0.0. Energy shift 0.0\n",
      "Iter 1. Distortion 0.1897. Cycle weight -6084.0. Energy shift -3042.0\n",
      "Iter 2. Distortion 0.1578. Cycle weight -642.0. Energy shift -321.0\n",
      "Iter 3. Distortion 0.1577. Cycle weight -2.0. Energy shift -1.0\n",
      "Iter 4. Distortion 0.1577. Cycle weight 0.0. Energy shift 0.0\n",
      "Iter 1. Distortion 0.1919. Cycle weight -6164.0. Energy shift -3082.0\n",
      "Iter 2. Distortion 0.1589. Cycle weight -664.0. Energy shift -332.0\n",
      "Iter 3. Distortion 0.1588. Cycle weight -2.0. Energy shift -1.0\n",
      "Iter 4. Distortion 0.1588. Cycle weight 0.0. Energy shift 0.0\n",
      "Iter 1. Distortion 0.1929. Cycle weight -6306.0. Energy shift -3153.0\n",
      "Iter 2. Distortion 0.1581. Cycle weight -700.0. Energy shift -350.0\n",
      "Iter 3. Distortion 0.1581. Cycle weight 0.0. Energy shift 0.0\n",
      "Iter 1. Distortion 0.1895. Cycle weight -6188.0. Energy shift -3094.0\n",
      "Iter 2. Distortion 0.1573. Cycle weight -648.0. Energy shift -324.0\n",
      "Iter 3. Distortion 0.1572. Cycle weight -2.0. Energy shift -1.0\n",
      "Iter 4. Distortion 0.1572. Cycle weight 0.0. Energy shift 0.0\n",
      "Iter 1. Distortion 0.1927. Cycle weight -6198.0. Energy shift -3099.0\n",
      "Iter 2. Distortion 0.1574. Cycle weight -710.0. Energy shift -355.0\n",
      "Iter 3. Distortion 0.1573. Cycle weight -2.0. Energy shift -1.0\n",
      "Iter 4. Distortion 0.1573. Cycle weight 0.0. Energy shift 0.0\n",
      "## Rate 0.51. 7 of 13\n",
      "Iter 1. Distortion 0.1831. Cycle weight -6356.0. Energy shift -3178.0\n",
      "Iter 2. Distortion 0.1371. Cycle weight -928.0. Energy shift -464.0\n",
      "Iter 3. Distortion 0.137. Cycle weight -2.0. Energy shift -1.0\n",
      "Iter 4. Distortion 0.137. Cycle weight 0.0. Energy shift 0.0\n",
      "Iter 1. Distortion 0.1835. Cycle weight -6444.0. Energy shift -3222.0\n",
      "Iter 2. Distortion 0.1382. Cycle weight -914.0. Energy shift -457.0\n",
      "Iter 3. Distortion 0.1378. Cycle weight -8.0. Energy shift -4.0\n",
      "Iter 4. Distortion 0.1378. Cycle weight 0.0. Energy shift 0.0\n",
      "Iter 1. Distortion 0.1846. Cycle weight -6426.0. Energy shift -3213.0\n",
      "Iter 2. Distortion 0.1409. Cycle weight -882.0. Energy shift -441.0\n",
      "Iter 3. Distortion 0.1405. Cycle weight -8.0. Energy shift -4.0\n",
      "Iter 4. Distortion 0.1405. Cycle weight 0.0. Energy shift 0.0\n",
      "Iter 1. Distortion 0.1837. Cycle weight -6340.0. Energy shift -3170.0\n",
      "Iter 2. Distortion 0.1377. Cycle weight -928.0. Energy shift -464.0\n",
      "Iter 3. Distortion 0.1376. Cycle weight -2.0. Energy shift -1.0\n",
      "Iter 4. Distortion 0.1376. Cycle weight 0.0. Energy shift 0.0\n",
      "Iter 1. Distortion 0.1825. Cycle weight -6268.0. Energy shift -3134.0\n",
      "Iter 2. Distortion 0.139. Cycle weight -878.0. Energy shift -439.0\n",
      "Iter 3. Distortion 0.1386. Cycle weight -8.0. Energy shift -4.0\n",
      "Iter 4. Distortion 0.1386. Cycle weight 0.0. Energy shift 0.0\n",
      "Iter 1. Distortion 0.1807. Cycle weight -6266.0. Energy shift -3133.0\n",
      "Iter 2. Distortion 0.1377. Cycle weight -866.0. Energy shift -433.0\n",
      "Iter 3. Distortion 0.1376. Cycle weight -2.0. Energy shift -1.0\n",
      "Iter 4. Distortion 0.1376. Cycle weight 0.0. Energy shift 0.0\n",
      "Iter 1. Distortion 0.1804. Cycle weight -6396.0. Energy shift -3198.0\n",
      "Iter 2. Distortion 0.1397. Cycle weight -820.0. Energy shift -410.0\n",
      "Iter 3. Distortion 0.1394. Cycle weight -6.0. Energy shift -3.0\n",
      "Iter 4. Distortion 0.1394. Cycle weight 0.0. Energy shift 0.0\n",
      "Iter 1. Distortion 0.1843. Cycle weight -6478.0. Energy shift -3239.0\n",
      "Iter 2. Distortion 0.1388. Cycle weight -918.0. Energy shift -459.0\n",
      "Iter 3. Distortion 0.1385. Cycle weight -6.0. Energy shift -3.0\n",
      "Iter 4. Distortion 0.1385. Cycle weight 0.0. Energy shift 0.0\n",
      "Iter 1. Distortion 0.1812. Cycle weight -6354.0. Energy shift -3177.0\n",
      "Iter 2. Distortion 0.1391. Cycle weight -850.0. Energy shift -425.0\n",
      "Iter 3. Distortion 0.1388. Cycle weight -6.0. Energy shift -3.0\n",
      "Iter 4. Distortion 0.1388. Cycle weight 0.0. Energy shift 0.0\n",
      "Iter 1. Distortion 0.1842. Cycle weight -6368.0. Energy shift -3184.0\n",
      "Iter 2. Distortion 0.14. Cycle weight -892.0. Energy shift -446.0\n",
      "Iter 3. Distortion 0.1399. Cycle weight -2.0. Energy shift -1.0\n",
      "Iter 4. Distortion 0.1399. Cycle weight 0.0. Energy shift 0.0\n",
      "## Rate 0.56. 8 of 13\n",
      "Iter 1. Distortion 0.1859. Cycle weight -6300.0. Energy shift -3150.0\n",
      "Iter 2. Distortion 0.1232. Cycle weight -1264.0. Energy shift -632.0\n",
      "Iter 3. Distortion 0.1222. Cycle weight -20.0. Energy shift -10.0\n",
      "Iter 4. Distortion 0.1222. Cycle weight 0.0. Energy shift 0.0\n",
      "Iter 1. Distortion 0.1861. Cycle weight -6392.0. Energy shift -3196.0\n",
      "Iter 2. Distortion 0.1214. Cycle weight -1304.0. Energy shift -652.0\n",
      "Iter 3. Distortion 0.1204. Cycle weight -20.0. Energy shift -10.0\n",
      "Iter 4. Distortion 0.1204. Cycle weight 0.0. Energy shift 0.0\n",
      "Iter 1. Distortion 0.1894. Cycle weight -6330.0. Energy shift -3165.0\n",
      "Iter 2. Distortion 0.1207. Cycle weight -1384.0. Energy shift -692.0\n",
      "Iter 3. Distortion 0.1196. Cycle weight -22.0. Energy shift -11.0\n",
      "Iter 4. Distortion 0.1196. Cycle weight 0.0. Energy shift 0.0\n",
      "Iter 1. Distortion 0.1879. Cycle weight -6256.0. Energy shift -3128.0\n",
      "Iter 2. Distortion 0.1205. Cycle weight -1358.0. Energy shift -679.0\n",
      "Iter 3. Distortion 0.1196. Cycle weight -18.0. Energy shift -9.0\n",
      "Iter 4. Distortion 0.1196. Cycle weight 0.0. Energy shift 0.0\n",
      "Iter 1. Distortion 0.1894. Cycle weight -6130.0. Energy shift -3065.0\n",
      "Iter 2. Distortion 0.1247. Cycle weight -1304.0. Energy shift -652.0\n",
      "Iter 3. Distortion 0.1239. Cycle weight -16.0. Energy shift -8.0\n",
      "Iter 4. Distortion 0.1239. Cycle weight 0.0. Energy shift 0.0\n",
      "Iter 1. Distortion 0.1849. Cycle weight -6180.0. Energy shift -3090.0\n",
      "Iter 2. Distortion 0.1221. Cycle weight -1266.0. Energy shift -633.0\n",
      "Iter 3. Distortion 0.1211. Cycle weight -20.0. Energy shift -10.0\n",
      "Iter 4. Distortion 0.1211. Cycle weight 0.0. Energy shift 0.0\n",
      "Iter 1. Distortion 0.1872. Cycle weight -6258.0. Energy shift -3129.0\n",
      "Iter 2. Distortion 0.121. Cycle weight -1334.0. Energy shift -667.0\n",
      "Iter 3. Distortion 0.1201. Cycle weight -18.0. Energy shift -9.0\n",
      "Iter 4. Distortion 0.1201. Cycle weight 0.0. Energy shift 0.0\n",
      "Iter 1. Distortion 0.1871. Cycle weight -6422.0. Energy shift -3211.0\n",
      "Iter 2. Distortion 0.12. Cycle weight -1352.0. Energy shift -676.0\n",
      "Iter 3. Distortion 0.1188. Cycle weight -24.0. Energy shift -12.0\n",
      "Iter 4. Distortion 0.1188. Cycle weight 0.0. Energy shift 0.0\n",
      "Iter 1. Distortion 0.1858. Cycle weight -6262.0. Energy shift -3131.0\n",
      "Iter 2. Distortion 0.1195. Cycle weight -1336.0. Energy shift -668.0\n",
      "Iter 3. Distortion 0.1185. Cycle weight -22.0. Energy shift -11.0\n",
      "Iter 4. Distortion 0.1185. Cycle weight 0.0. Energy shift 0.0\n",
      "Iter 1. Distortion 0.1848. Cycle weight -6356.0. Energy shift -3178.0\n",
      "Iter 2. Distortion 0.1214. Cycle weight -1278.0. Energy shift -639.0\n",
      "Iter 3. Distortion 0.1205. Cycle weight -18.0. Energy shift -9.0\n",
      "Iter 4. Distortion 0.1205. Cycle weight 0.0. Energy shift 0.0\n",
      "## Rate 0.61. 9 of 13\n",
      "Iter 1. Distortion 0.1937. Cycle weight -6144.0. Energy shift -3072.0\n",
      "Iter 2. Distortion 0.1071. Cycle weight -1744.0. Energy shift -872.0\n",
      "Iter 3. Distortion 0.1045. Cycle weight -54.0. Energy shift -27.0\n",
      "Iter 4. Distortion 0.1045. Cycle weight 0.0. Energy shift 0.0\n",
      "Iter 1. Distortion 0.1922. Cycle weight -6270.0. Energy shift -3135.0\n",
      "Iter 2. Distortion 0.105. Cycle weight -1758.0. Energy shift -879.0\n",
      "Iter 3. Distortion 0.1023. Cycle weight -54.0. Energy shift -27.0\n",
      "Iter 4. Distortion 0.1023. Cycle weight 0.0. Energy shift 0.0\n",
      "Iter 1. Distortion 0.1926. Cycle weight -6266.0. Energy shift -3133.0\n",
      "Iter 2. Distortion 0.1046. Cycle weight -1774.0. Energy shift -887.0\n",
      "Iter 3. Distortion 0.102. Cycle weight -52.0. Energy shift -26.0\n",
      "Iter 4. Distortion 0.102. Cycle weight 0.0. Energy shift 0.0\n",
      "Iter 1. Distortion 0.1928. Cycle weight -6158.0. Energy shift -3079.0\n",
      "Iter 2. Distortion 0.1052. Cycle weight -1766.0. Energy shift -883.0\n",
      "Iter 3. Distortion 0.1024. Cycle weight -56.0. Energy shift -28.0\n",
      "Iter 4. Distortion 0.1024. Cycle weight 0.0. Energy shift 0.0\n",
      "Iter 1. Distortion 0.1886. Cycle weight -6146.0. Energy shift -3073.0\n",
      "Iter 2. Distortion 0.1057. Cycle weight -1672.0. Energy shift -836.0\n",
      "Iter 3. Distortion 0.1034. Cycle weight -46.0. Energy shift -23.0\n",
      "Iter 4. Distortion 0.1034. Cycle weight 0.0. Energy shift 0.0\n",
      "Iter 1. Distortion 0.192. Cycle weight -6038.0. Energy shift -3019.0\n",
      "Iter 2. Distortion 0.1062. Cycle weight -1730.0. Energy shift -865.0\n",
      "Iter 3. Distortion 0.1041. Cycle weight -42.0. Energy shift -21.0\n",
      "Iter 4. Distortion 0.1041. Cycle weight 0.0. Energy shift 0.0\n",
      "Iter 1. Distortion 0.1902. Cycle weight -6198.0. Energy shift -3099.0\n",
      "Iter 2. Distortion 0.1061. Cycle weight -1696.0. Energy shift -848.0\n",
      "Iter 3. Distortion 0.1024. Cycle weight -74.0. Energy shift -37.0\n",
      "Iter 4. Distortion 0.1024. Cycle weight 0.0. Energy shift 0.0\n",
      "Iter 1. Distortion 0.1936. Cycle weight -6292.0. Energy shift -3146.0\n",
      "Iter 2. Distortion 0.1056. Cycle weight -1774.0. Energy shift -887.0\n",
      "Iter 3. Distortion 0.1025. Cycle weight -62.0. Energy shift -31.0\n",
      "Iter 4. Distortion 0.1025. Cycle weight 0.0. Energy shift 0.0\n",
      "Iter 1. Distortion 0.1902. Cycle weight -6174.0. Energy shift -3087.0\n",
      "Iter 2. Distortion 0.1056. Cycle weight -1706.0. Energy shift -853.0\n",
      "Iter 3. Distortion 0.1031. Cycle weight -50.0. Energy shift -25.0\n",
      "Iter 4. Distortion 0.1031. Cycle weight 0.0. Energy shift 0.0\n",
      "Iter 1. Distortion 0.192. Cycle weight -6212.0. Energy shift -3106.0\n",
      "Iter 2. Distortion 0.107. Cycle weight -1712.0. Energy shift -856.0\n",
      "Iter 3. Distortion 0.1047. Cycle weight -48.0. Energy shift -24.0\n",
      "Iter 4. Distortion 0.1047. Cycle weight 0.0. Energy shift 0.0\n",
      "## Rate 0.66. 10 of 13\n",
      "Iter 1. Distortion 0.2057. Cycle weight -5902.0. Energy shift -2951.0\n",
      "Iter 2. Distortion 0.0977. Cycle weight -2176.0. Energy shift -1088.0\n",
      "Iter 3. Distortion 0.0889. Cycle weight -178.0. Energy shift -89.0\n",
      "Iter 4. Distortion 0.0889. Cycle weight 0.0. Energy shift 0.0\n",
      "Iter 1. Distortion 0.2083. Cycle weight -5944.0. Energy shift -2972.0\n",
      "Iter 2. Distortion 0.0974. Cycle weight -2236.0. Energy shift -1118.0\n",
      "Iter 3. Distortion 0.088. Cycle weight -190.0. Energy shift -95.0\n",
      "Iter 4. Distortion 0.088. Cycle weight 0.0. Energy shift 0.0\n",
      "Iter 1. Distortion 0.2092. Cycle weight -5930.0. Energy shift -2965.0\n",
      "Iter 2. Distortion 0.0969. Cycle weight -2264.0. Energy shift -1132.0\n",
      "Iter 3. Distortion 0.0872. Cycle weight -196.0. Energy shift -98.0\n",
      "Iter 4. Distortion 0.0872. Cycle weight 0.0. Energy shift 0.0\n",
      "Iter 1. Distortion 0.2055. Cycle weight -5902.0. Energy shift -2951.0\n",
      "Iter 2. Distortion 0.0983. Cycle weight -2160.0. Energy shift -1080.0\n",
      "Iter 3. Distortion 0.0897. Cycle weight -174.0. Energy shift -87.0\n",
      "Iter 4. Distortion 0.0897. Cycle weight 0.0. Energy shift 0.0\n",
      "Iter 1. Distortion 0.2047. Cycle weight -5822.0. Energy shift -2911.0\n",
      "Iter 2. Distortion 0.0977. Cycle weight -2156.0. Energy shift -1078.0\n",
      "Iter 3. Distortion 0.0902. Cycle weight -152.0. Energy shift -76.0\n",
      "Iter 4. Distortion 0.0902. Cycle weight 0.0. Energy shift 0.0\n",
      "Iter 1. Distortion 0.2011. Cycle weight -5854.0. Energy shift -2927.0\n",
      "Iter 2. Distortion 0.0964. Cycle weight -2110.0. Energy shift -1055.0\n",
      "Iter 3. Distortion 0.0888. Cycle weight -154.0. Energy shift -77.0\n",
      "Iter 4. Distortion 0.0888. Cycle weight 0.0. Energy shift 0.0\n",
      "Iter 1. Distortion 0.2051. Cycle weight -5898.0. Energy shift -2949.0\n",
      "Iter 2. Distortion 0.0969. Cycle weight -2180.0. Energy shift -1090.0\n",
      "Iter 3. Distortion 0.0879. Cycle weight -182.0. Energy shift -91.0\n",
      "Iter 4. Distortion 0.0879. Cycle weight 0.0. Energy shift 0.0\n",
      "Iter 1. Distortion 0.212. Cycle weight -5920.0. Energy shift -2960.0\n",
      "Iter 2. Distortion 0.0979. Cycle weight -2300.0. Energy shift -1150.0\n",
      "Iter 3. Distortion 0.0879. Cycle weight -202.0. Energy shift -101.0\n",
      "Iter 4. Distortion 0.0878. Cycle weight -2.0. Energy shift -1.0\n",
      "Iter 5. Distortion 0.0878. Cycle weight 0.0. Energy shift 0.0\n",
      "Iter 1. Distortion 0.204. Cycle weight -5896.0. Energy shift -2948.0\n",
      "Iter 2. Distortion 0.096. Cycle weight -2176.0. Energy shift -1088.0\n",
      "Iter 3. Distortion 0.0873. Cycle weight -176.0. Energy shift -88.0\n",
      "Iter 4. Distortion 0.0873. Cycle weight 0.0. Energy shift 0.0\n",
      "Iter 1. Distortion 0.2065. Cycle weight -5918.0. Energy shift -2959.0\n",
      "Iter 2. Distortion 0.0972. Cycle weight -2204.0. Energy shift -1102.0\n",
      "Iter 3. Distortion 0.0887. Cycle weight -172.0. Energy shift -86.0\n",
      "Iter 4. Distortion 0.0887. Cycle weight 0.0. Energy shift 0.0\n",
      "## Rate 0.71. 11 of 13\n",
      "Iter 1. Distortion 0.231. Cycle weight -5392.0. Energy shift -2696.0\n",
      "Iter 2. Distortion 0.0975. Cycle weight -2690.0. Energy shift -1345.0\n",
      "Iter 3. Distortion 0.0759. Cycle weight -436.0. Energy shift -218.0\n",
      "Iter 4. Distortion 0.0757. Cycle weight -4.0. Energy shift -2.0\n",
      "Iter 5. Distortion 0.0757. Cycle weight 0.0. Energy shift 0.0\n",
      "Iter 1. Distortion 0.2341. Cycle weight -5424.0. Energy shift -2712.0\n",
      "Iter 2. Distortion 0.0978. Cycle weight -2748.0. Energy shift -1374.0\n",
      "Iter 3. Distortion 0.0757. Cycle weight -446.0. Energy shift -223.0\n",
      "Iter 4. Distortion 0.0755. Cycle weight -4.0. Energy shift -2.0\n",
      "Iter 5. Distortion 0.0755. Cycle weight 0.0. Energy shift 0.0\n",
      "Iter 1. Distortion 0.2329. Cycle weight -5452.0. Energy shift -2726.0\n",
      "Iter 2. Distortion 0.0955. Cycle weight -2770.0. Energy shift -1385.0\n",
      "Iter 3. Distortion 0.0719. Cycle weight -476.0. Energy shift -238.0\n",
      "Iter 4. Distortion 0.0717. Cycle weight -4.0. Energy shift -2.0\n",
      "Iter 5. Distortion 0.0717. Cycle weight 0.0. Energy shift 0.0\n",
      "Iter 1. Distortion 0.2308. Cycle weight -5392.0. Energy shift -2696.0\n",
      "Iter 2. Distortion 0.0949. Cycle weight -2738.0. Energy shift -1369.0\n",
      "Iter 3. Distortion 0.0745. Cycle weight -412.0. Energy shift -206.0\n",
      "Iter 4. Distortion 0.0744. Cycle weight -2.0. Energy shift -1.0\n",
      "Iter 5. Distortion 0.0744. Cycle weight 0.0. Energy shift 0.0\n",
      "Iter 1. Distortion 0.2268. Cycle weight -5376.0. Energy shift -2688.0\n",
      "Iter 2. Distortion 0.0967. Cycle weight -2622.0. Energy shift -1311.0\n",
      "Iter 3. Distortion 0.0743. Cycle weight -452.0. Energy shift -226.0\n",
      "Iter 4. Distortion 0.0741. Cycle weight -4.0. Energy shift -2.0\n",
      "Iter 5. Distortion 0.0741. Cycle weight 0.0. Energy shift 0.0\n",
      "Iter 1. Distortion 0.2251. Cycle weight -5370.0. Energy shift -2685.0\n",
      "Iter 2. Distortion 0.0947. Cycle weight -2628.0. Energy shift -1314.0\n",
      "Iter 3. Distortion 0.0727. Cycle weight -444.0. Energy shift -222.0\n",
      "Iter 4. Distortion 0.0726. Cycle weight -2.0. Energy shift -1.0\n",
      "Iter 5. Distortion 0.0726. Cycle weight 0.0. Energy shift 0.0\n",
      "Iter 1. Distortion 0.2294. Cycle weight -5408.0. Energy shift -2704.0\n",
      "Iter 2. Distortion 0.0949. Cycle weight -2710.0. Energy shift -1355.0\n",
      "Iter 3. Distortion 0.0737. Cycle weight -428.0. Energy shift -214.0\n",
      "Iter 4. Distortion 0.0737. Cycle weight 0.0. Energy shift 0.0\n",
      "Iter 1. Distortion 0.2365. Cycle weight -5426.0. Energy shift -2713.0\n",
      "Iter 2. Distortion 0.0966. Cycle weight -2820.0. Energy shift -1410.0\n",
      "Iter 3. Distortion 0.0746. Cycle weight -444.0. Energy shift -222.0\n",
      "Iter 4. Distortion 0.0744. Cycle weight -4.0. Energy shift -2.0\n",
      "Iter 5. Distortion 0.0744. Cycle weight 0.0. Energy shift 0.0\n",
      "Iter 1. Distortion 0.2277. Cycle weight -5418.0. Energy shift -2709.0\n",
      "Iter 2. Distortion 0.0947. Cycle weight -2680.0. Energy shift -1340.0\n",
      "Iter 3. Distortion 0.0734. Cycle weight -430.0. Energy shift -215.0\n",
      "Iter 4. Distortion 0.0731. Cycle weight -6.0. Energy shift -3.0\n",
      "Iter 5. Distortion 0.0731. Cycle weight 0.0. Energy shift 0.0\n",
      "Iter 1. Distortion 0.2323. Cycle weight -5398.0. Energy shift -2699.0\n",
      "Iter 2. Distortion 0.0934. Cycle weight -2802.0. Energy shift -1401.0\n",
      "Iter 3. Distortion 0.0743. Cycle weight -384.0. Energy shift -192.0\n",
      "Iter 4. Distortion 0.0743. Cycle weight 0.0. Energy shift 0.0\n",
      "## Rate 0.76. 12 of 13\n",
      "Iter 1. Distortion 0.267. Cycle weight -4666.0. Energy shift -2333.0\n",
      "Iter 2. Distortion 0.1113. Cycle weight -3138.0. Energy shift -1569.0\n",
      "Iter 3. Distortion 0.0624. Cycle weight -986.0. Energy shift -493.0\n",
      "Iter 4. Distortion 0.0601. Cycle weight -46.0. Energy shift -23.0\n",
      "Iter 5. Distortion 0.0601. Cycle weight 0.0. Energy shift 0.0\n",
      "Iter 1. Distortion 0.271. Cycle weight -4680.0. Energy shift -2340.0\n",
      "Iter 2. Distortion 0.1123. Cycle weight -3200.0. Energy shift -1600.0\n",
      "Iter 3. Distortion 0.0643. Cycle weight -968.0. Energy shift -484.0\n",
      "Iter 4. Distortion 0.0606. Cycle weight -74.0. Energy shift -37.0\n",
      "Iter 5. Distortion 0.0606. Cycle weight 0.0. Energy shift 0.0\n",
      "Iter 1. Distortion 0.2701. Cycle weight -4702.0. Energy shift -2351.0\n",
      "Iter 2. Distortion 0.1146. Cycle weight -3136.0. Energy shift -1568.0\n",
      "Iter 3. Distortion 0.0658. Cycle weight -984.0. Energy shift -492.0\n",
      "Iter 4. Distortion 0.0625. Cycle weight -66.0. Energy shift -33.0\n",
      "Iter 5. Distortion 0.0625. Cycle weight 0.0. Energy shift 0.0\n",
      "Iter 1. Distortion 0.2658. Cycle weight -4686.0. Energy shift -2343.0\n",
      "Iter 2. Distortion 0.1097. Cycle weight -3146.0. Energy shift -1573.0\n",
      "Iter 3. Distortion 0.0625. Cycle weight -952.0. Energy shift -476.0\n",
      "Iter 4. Distortion 0.0595. Cycle weight -60.0. Energy shift -30.0\n",
      "Iter 5. Distortion 0.0595. Cycle weight 0.0. Energy shift 0.0\n",
      "Iter 1. Distortion 0.2606. Cycle weight -4694.0. Energy shift -2347.0\n",
      "Iter 2. Distortion 0.1079. Cycle weight -3078.0. Energy shift -1539.0\n",
      "Iter 3. Distortion 0.0632. Cycle weight -902.0. Energy shift -451.0\n",
      "Iter 4. Distortion 0.0601. Cycle weight -62.0. Energy shift -31.0\n",
      "Iter 5. Distortion 0.0601. Cycle weight 0.0. Energy shift 0.0\n",
      "Iter 1. Distortion 0.2604. Cycle weight -4658.0. Energy shift -2329.0\n",
      "Iter 2. Distortion 0.1084. Cycle weight -3064.0. Energy shift -1532.0\n",
      "Iter 3. Distortion 0.0613. Cycle weight -950.0. Energy shift -475.0\n",
      "Iter 4. Distortion 0.0589. Cycle weight -48.0. Energy shift -24.0\n",
      "Iter 5. Distortion 0.0589. Cycle weight 0.0. Energy shift 0.0\n",
      "Iter 1. Distortion 0.2656. Cycle weight -4678.0. Energy shift -2339.0\n",
      "Iter 2. Distortion 0.1107. Cycle weight -3122.0. Energy shift -1561.0\n",
      "Iter 3. Distortion 0.064. Cycle weight -942.0. Energy shift -471.0\n",
      "Iter 4. Distortion 0.0609. Cycle weight -62.0. Energy shift -31.0\n",
      "Iter 5. Distortion 0.0609. Cycle weight 0.0. Energy shift 0.0\n",
      "Iter 1. Distortion 0.2728. Cycle weight -4694.0. Energy shift -2347.0\n",
      "Iter 2. Distortion 0.1111. Cycle weight -3260.0. Energy shift -1630.0\n",
      "Iter 3. Distortion 0.0627. Cycle weight -976.0. Energy shift -488.0\n",
      "Iter 4. Distortion 0.0595. Cycle weight -64.0. Energy shift -32.0\n",
      "Iter 5. Distortion 0.0595. Cycle weight 0.0. Energy shift 0.0\n",
      "Iter 1. Distortion 0.2655. Cycle weight -4656.0. Energy shift -2328.0\n",
      "Iter 2. Distortion 0.1109. Cycle weight -3116.0. Energy shift -1558.0\n",
      "Iter 3. Distortion 0.0641. Cycle weight -944.0. Energy shift -472.0\n",
      "Iter 4. Distortion 0.0616. Cycle weight -50.0. Energy shift -25.0\n",
      "Iter 5. Distortion 0.0616. Cycle weight 0.0. Energy shift 0.0\n",
      "Iter 1. Distortion 0.2683. Cycle weight -4674.0. Energy shift -2337.0\n",
      "Iter 2. Distortion 0.1142. Cycle weight -3106.0. Energy shift -1553.0\n",
      "Iter 3. Distortion 0.0627. Cycle weight -1038.0. Energy shift -519.0\n",
      "Iter 4. Distortion 0.0589. Cycle weight -76.0. Energy shift -38.0\n",
      "Iter 5. Distortion 0.0589. Cycle weight 0.0. Energy shift 0.0\n",
      "## Rate 0.81. 13 of 13\n",
      "Iter 1. Distortion 0.3101. Cycle weight -3796.0. Energy shift -1898.0\n",
      "Iter 2. Distortion 0.1508. Cycle weight -3212.0. Energy shift -1606.0\n",
      "Iter 3. Distortion 0.0682. Cycle weight -1666.0. Energy shift -833.0\n",
      "Iter 4. Distortion 0.0493. Cycle weight -380.0. Energy shift -190.0\n",
      "Iter 5. Distortion 0.0484. Cycle weight -18.0. Energy shift -9.0\n",
      "Iter 6. Distortion 0.0484. Cycle weight 0.0. Energy shift 0.0\n",
      "Iter 1. Distortion 0.3149. Cycle weight -3796.0. Energy shift -1898.0\n",
      "Iter 2. Distortion 0.152. Cycle weight -3284.0. Energy shift -1642.0\n",
      "Iter 3. Distortion 0.0669. Cycle weight -1716.0. Energy shift -858.0\n",
      "Iter 4. Distortion 0.0479. Cycle weight -382.0. Energy shift -191.0\n",
      "Iter 5. Distortion 0.0475. Cycle weight -8.0. Energy shift -4.0\n",
      "Iter 6. Distortion 0.0475. Cycle weight 0.0. Energy shift 0.0\n",
      "Iter 1. Distortion 0.3147. Cycle weight -3804.0. Energy shift -1902.0\n",
      "Iter 2. Distortion 0.1526. Cycle weight -3268.0. Energy shift -1634.0\n",
      "Iter 3. Distortion 0.0693. Cycle weight -1678.0. Energy shift -839.0\n",
      "Iter 4. Distortion 0.0502. Cycle weight -386.0. Energy shift -193.0\n",
      "Iter 5. Distortion 0.0492. Cycle weight -20.0. Energy shift -10.0\n",
      "Iter 6. Distortion 0.0492. Cycle weight 0.0. Energy shift 0.0\n",
      "Iter 1. Distortion 0.3098. Cycle weight -3798.0. Energy shift -1899.0\n",
      "Iter 2. Distortion 0.1491. Cycle weight -3240.0. Energy shift -1620.0\n",
      "Iter 3. Distortion 0.0676. Cycle weight -1644.0. Energy shift -822.0\n",
      "Iter 4. Distortion 0.0493. Cycle weight -368.0. Energy shift -184.0\n",
      "Iter 5. Distortion 0.0484. Cycle weight -18.0. Energy shift -9.0\n",
      "Iter 6. Distortion 0.0484. Cycle weight 0.0. Energy shift 0.0\n",
      "Iter 1. Distortion 0.3055. Cycle weight -3790.0. Energy shift -1895.0\n",
      "Iter 2. Distortion 0.1462. Cycle weight -3210.0. Energy shift -1605.0\n",
      "Iter 3. Distortion 0.0669. Cycle weight -1600.0. Energy shift -800.0\n",
      "Iter 4. Distortion 0.048. Cycle weight -380.0. Energy shift -190.0\n",
      "Iter 5. Distortion 0.0473. Cycle weight -14.0. Energy shift -7.0\n",
      "Iter 6. Distortion 0.0473. Cycle weight 0.0. Energy shift 0.0\n",
      "Iter 1. Distortion 0.3033. Cycle weight -3794.0. Energy shift -1897.0\n",
      "Iter 2. Distortion 0.1459. Cycle weight -3172.0. Energy shift -1586.0\n",
      "Iter 3. Distortion 0.0674. Cycle weight -1584.0. Energy shift -792.0\n",
      "Iter 4. Distortion 0.0496. Cycle weight -358.0. Energy shift -179.0\n",
      "Iter 5. Distortion 0.0493. Cycle weight -6.0. Energy shift -3.0\n",
      "Iter 6. Distortion 0.0493. Cycle weight 0.0. Energy shift 0.0\n",
      "Iter 1. Distortion 0.3094. Cycle weight -3794.0. Energy shift -1897.0\n",
      "Iter 2. Distortion 0.1498. Cycle weight -3218.0. Energy shift -1609.0\n",
      "Iter 3. Distortion 0.0681. Cycle weight -1648.0. Energy shift -824.0\n",
      "Iter 4. Distortion 0.0485. Cycle weight -394.0. Energy shift -197.0\n",
      "Iter 5. Distortion 0.0477. Cycle weight -16.0. Energy shift -8.0\n",
      "Iter 6. Distortion 0.0477. Cycle weight 0.0. Energy shift 0.0\n",
      "Iter 1. Distortion 0.3166. Cycle weight -3812.0. Energy shift -1906.0\n",
      "Iter 2. Distortion 0.1541. Cycle weight -3276.0. Energy shift -1638.0\n",
      "Iter 3. Distortion 0.0695. Cycle weight -1704.0. Energy shift -852.0\n",
      "Iter 4. Distortion 0.0492. Cycle weight -410.0. Energy shift -205.0\n",
      "Iter 5. Distortion 0.0487. Cycle weight -10.0. Energy shift -5.0\n",
      "Iter 6. Distortion 0.0487. Cycle weight 0.0. Energy shift 0.0\n",
      "Iter 1. Distortion 0.308. Cycle weight -3798.0. Energy shift -1899.0\n",
      "Iter 2. Distortion 0.148. Cycle weight -3226.0. Energy shift -1613.0\n",
      "Iter 3. Distortion 0.0688. Cycle weight -1598.0. Energy shift -799.0\n",
      "Iter 4. Distortion 0.0487. Cycle weight -404.0. Energy shift -202.0\n",
      "Iter 5. Distortion 0.0476. Cycle weight -22.0. Energy shift -11.0\n",
      "Iter 6. Distortion 0.0476. Cycle weight 0.0. Energy shift 0.0\n",
      "Iter 1. Distortion 0.3112. Cycle weight -3808.0. Energy shift -1904.0\n",
      "Iter 2. Distortion 0.1499. Cycle weight -3252.0. Energy shift -1626.0\n",
      "Iter 3. Distortion 0.0703. Cycle weight -1604.0. Energy shift -802.0\n",
      "Iter 4. Distortion 0.0487. Cycle weight -436.0. Energy shift -218.0\n",
      "Iter 5. Distortion 0.0477. Cycle weight -20.0. Energy shift -10.0\n",
      "Iter 6. Distortion 0.0477. Cycle weight 0.0. Energy shift 0.0\n"
     ]
    }
   ],
   "source": [
    "for j in eachindex(m)\n",
    "    println(\"## Rate $(round(R[j],digits=2)). $j of $(length(m))\")\n",
    "    for i in 1:navg\n",
    "        lm = LossyModel(Val(2), n, m[j], randseed=seed+i)\n",
    "        res_OC[j] = solve!(deepcopy(lm), oc)\n",
    "        avg_dist_oc[j] += res_OC[j].distortion\n",
    "        res_MS[j] = solve!(lm, ms, randseed=seed, verbose=true, showprogress=false)\n",
    "        avg_dist[j] += res_MS[j].distortion \n",
    "    end\n",
    "    avg_dist[j] /= navg\n",
    "    avg_dist_oc[j] /= navg\n",
    "end"
   ]
  },
  {
   "cell_type": "code",
   "execution_count": 255,
   "metadata": {},
   "outputs": [
    {
     "data": {
      "image/png": "[encoded data removed]",
      "text/plain": [
       "Figure(PyObject <Figure size 600x500 with 1 Axes>)"
      ]
     },
     "metadata": {},
     "output_type": "display_data"
    },
    {
     "name": "stdout",
     "output_type": "stream",
     "text": [
      "Max-Sum distortion are averages over 10 instances\n"
     ]
    }
   ],
   "source": [
    "using PyPlot\n",
    "H(p)=1+p*log2(p)+(1-p)*log2(1-p)\n",
    "println(\"Max-Sum distortion are averages over \", navg, \" instances\")\n",
    "\n",
    "#xlim(0,1)\n",
    "#ylim(0,0.5)\n",
    "#plot(R,D, \"x\", label=\"RS RRG\")\n",
    "fig, ax = subplots(figsize=(6,5))\n",
    "xlabel(\"Rate\")\n",
    "ylabel(\"Distortion\")\n",
    "PyPlot.plot(Rm,Dm, \"--\", label=\"theory (RS)\", c=:gray)\n",
    "PyPlot.plot(R, avg_dist, \"o\", label=\"Max-Sum\", ms=6)\n",
    "PyPlot.plot(R, avg_dist_oc, \"^\", label=\"Exact\", ms=6)\n",
    "PyPlot.plot((0,1),(0.5,0), label=\"trival\")\n",
    "PyPlot.plot(0.16666666666666663, 0.2533740653174613, \"o\") \n",
    "PyPlot.plot(H.(0:0.001:0.5), 0:0.001:0.5, label=\"information bound\")\n",
    "legend()\n",
    "PyPlot.savefig(\"rs_vs_ms.png\")"
   ]
  },
  {
   "cell_type": "markdown",
   "metadata": {},
   "source": [
    "When variables have arbitrary degree profile $\\Lambda(X)$\n",
    "---\n",
    "* Max-Sum equations becomes\n",
    "\\begin{align}\n",
    "    f_{ai} &= \\min_{j\\in\\partial a\\setminus i}\\left|s_j + \\sum_{b\\in\\partial j\\setminus a}f_{bj} \\right|\\prod_{j\\in\\partial a\\setminus i}{\\rm sign}\\left(s_j + \\sum_{b\\in\\partial j\\setminus a}f_{bj}\\right) \\end{align}\n",
    "* the Bethe free energy becomes\n",
    "\\begin{equation}\n",
    "    F = \\sum_{a=1}^m F_a - (|\\partial i|-1)\\sum_{i=1}^n F_i \n",
    "\\end{equation}\n",
    "with\n",
    "\\begin{align*}\n",
    "    F_a &=-\\frac{1}{\\beta}\\log\\left(\\sum_{\\sigma:sat}\\prod_{i\\in\\partial a}\\frac{e^{\\beta\\sigma_i\\left(s_i+\\sum_{b\\in\\partial i\\setminus a}f_{bi}\\right)}}{\\prod_{b\\in\\partial i\\setminus a}2{\\rm cosh}(\\beta f_{bi})}\\right)\\\\\n",
    "    &= -\\frac{1}{\\beta}\\log\\left(\\sum_{\\sigma:sat}\\prod_{i\\in\\partial a}e^{\\beta\\sigma_i\\left(s_i+\\sum_{b\\in\\partial i\\setminus a}f_{bi}\\right)}\\right)+\\frac{1}{\\beta}\\sum_{i\\in\\partial a}\\sum_{b\\in\\partial i\\setminus a}\\log(2{\\rm cosh}(\\beta f_{bi}))\\\\\n",
    "    &\\to-\\sum_{i\\in\\partial a}\\left(\\left|s_i + \\sum_{b\\in\\partial i\\setminus a}f_{bi}\\right|-\\sum_{b\\in\\partial i\\setminus a}|f_{bi}|\\right) + \\Theta\\left(-\\prod_{i\\in\\partial a}\\left(s_i + \\sum_{b\\in\\partial i\\setminus a}f_{bi}\\right)\\right)2\\min_{i\\in\\partial a}\\left|s_i + \\sum_{b\\in\\partial i\\setminus a}f_{bi}\\right|\n",
    "\\end{align*}\n",
    "and \n",
    "\\begin{align*}\n",
    "    F_i &= -\\frac{1}{\\beta}\\log\\left(\\sum_{\\sigma_i}\\frac{e^{\\beta\\sigma_i\\left(s_i + \\sum_{a\\in\\partial i}f_{ai}\\right)}}{\\prod_{a\\in\\partial i}2{\\rm cosh}(\\beta f_{ai})}\\right)\\\\\n",
    "    &= -\\frac{1}{\\beta}\\log\\left(\\sum_{\\sigma_i}e^{\\beta\\sigma_i\\left(s_i + \\sum_{a\\in\\partial i}f_{ai}\\right)}\\right) + \\frac{1}{\\beta}\\sum_{a\\in\\partial i}\\log(2{\\rm cosh}(\\beta f_{ai}))\\\\\n",
    "    &\\to- \\left|s_i + \\sum_{a\\in\\partial i}f_{ai}\\right|+\\sum_{a\\in\\partial i}|f_{ai}|\n",
    "\\end{align*}"
   ]
  },
  {
   "cell_type": "markdown",
   "metadata": {},
   "source": [
    "\\begin{align*}\n",
    "F&=F_{factors}-F_{vars}\\\\\n",
    "F_{factors}&= \\sum_a \\Theta\\left(-\\prod_{i\\in\\partial a}\\left(s_i + \\sum_{b\\in\\partial i\\setminus a}f_{bi}\\right)\\right)2\\min_{i\\in\\partial a}\\left|s_i + \\sum_{b\\in\\partial i\\setminus a}f_{bi}\\right|\\\\\n",
    "F_{vars}& = \\sum_i \\sum_{a\\in\\partial i}\\left(\\left|s_i + \\sum_{b\\in\\partial i\\setminus a}f_{bi}\\right|\\right) - \\sum_i (|\\partial i| - 1) \\left|s_i + \\sum_{a\\in\\partial i}f_{ai}\\right|\n",
    "\\end{align*}"
   ]
  },
  {
   "cell_type": "markdown",
   "metadata": {},
   "source": [
    "\\begin{align*}\n",
    "\\frac1N \\mathbb E[F_{factors}] &= \\alpha \\sum_k P_k \\sum_{f_1,\\dots,f_k} \\Theta\\left(-\\prod_{i=1}^k f_i \\right)2\\min_{i=1}^k\\left|f_i\\right|\\prod_{i=1}^kq(f_i)\\\\\n",
    "\\alpha&=\\frac{\\sum_d d \\Lambda_d}{\\sum_k kP_k}\\\\\n",
    "\\frac1N \\mathbb E[F_{vars}] &=  \\sum_d \\Lambda_d \\left\\{d \\sum_f |f| q_{d-1}(f) - (d-1) \\sum_f |f|q_d(f)\\right\\}\n",
    "\\end{align*}"
   ]
  },
  {
   "cell_type": "markdown",
   "metadata": {},
   "source": [
    "RS cavity method\n",
    "---\n",
    "* The RS equations become\n",
    "\\begin{align}\n",
    "    p(f) &= \\sum_{k=0}^{\\infty}\\tilde{P_k}\\sum_{d_1,\\dots,d_k}\\prod_{i=1}^k\\tilde{\\Lambda}_{d_i}\\sum_{\\{f_{ij}\\}^{i=1\\dots k}_{j=1,\\dots d_i}}\\sum_{s_1,\\dots,s_k}\\frac{1}{2^k}\\delta(f-F^{MS}(\\{f_{ij}\\}))\\prod_{i,j}p(f_{ij})\n",
    "\\end{align}"
   ]
  },
  {
   "cell_type": "markdown",
   "metadata": {},
   "source": [
    "This is equivalent to:\n",
    "\n",
    "\\begin{align}\n",
    "q(g) &= \\sum_{d=0}^\\infty \\tilde\\Lambda_{d} \\frac12\\sum_{s\\in\\pm1} \\sum_{f_1,\\dots,f_d}\\delta\\left(g -s -\\sum_{a=1}^d f_a\\right)\\prod_{a=1}^d p(f_a) \\\\\n",
    "&= \\sum_{d=0}^\\infty \\tilde\\Lambda_{d}  q_d(f)\\\\\n",
    "p(f) &= \\sum_{k=0}^{\\infty}\\tilde{P_k}\\sum_{g_1,\\dots,g_k}\\delta\\left(f-\\min_{j=1,\\dots,k-1}\\left|g_{j} \\right|{\\rm sign} \\left(\\prod_{j=1,\\dots,k-1}g_{j}\\right)\\right)\\prod_{j}q(g_{j})\n",
    "\\end{align}\n",
    "\n",
    "note that the second line is almost the old equation (even without the $s$). Note also that $q_d(f)$ is a simple convolution power that can be computed iteratively, with\n",
    "\n",
    "\\begin{align}\n",
    "q_0(f) &= \\frac12(\\delta(f-1)+\\delta(f+1))\\\\\n",
    "q_{d+1}(f) &= \\sum_{f',f''} \\delta\\left(f-f'-f''\\right) q_d(f')p(f'')\n",
    "\\end{align}\n"
   ]
  },
  {
   "cell_type": "code",
   "execution_count": 259,
   "metadata": {},
   "outputs": [
    {
     "data": {
      "text/plain": [
       "RS (generic function with 2 methods)"
      ]
     },
     "execution_count": 259,
     "metadata": {},
     "output_type": "execute_result"
    }
   ],
   "source": [
    "#here d is a vector of length K-1 with the degrees of the input vars\n",
    "function convolve(p1, p2)\n",
    "    N2 = lastindex(p2)\n",
    "    q = OffsetArray(zeros(2N2+1),-N2:N2)\n",
    "    for f1 in eachindex(p1)\n",
    "        for f2 in eachindex(p2)\n",
    "            q[clamp(f1+f2, firstindex(q), lastindex(q))] += p1[f1]*p2[f2]\n",
    "        end\n",
    "    end\n",
    "    q\n",
    "end\n",
    "\n",
    "function iterg(p, Λ)\n",
    "    qd = OffsetArray([0.5,0,0.5],-1:1)\n",
    "    N = lastindex(p)\n",
    "    q = OffsetArray(zeros(2N+1), -N:N)\n",
    "    for d ∈ eachindex(Λ)\n",
    "        qd = convolve(qd, p)\n",
    "        for i in eachindex(qd)\n",
    "            q[clamp(i, -N, N)] += Λ[d] * qd[i]\n",
    "        end\n",
    "    end\n",
    "    q\n",
    "end\n",
    "\n",
    "function iterf(p, K)\n",
    "    k = K - 1\n",
    "    p1 = zero(p)\n",
    "    N = lastindex(p1)-1\n",
    "    for f = 1:N-1\n",
    "        v1 = p[f]\n",
    "        v2 = sum(p[f+1:N])\n",
    "        v = (v1+v2)^k-v2^k\n",
    "        p1[+f] = v/2\n",
    "        p1[-f] = v/2\n",
    "    end\n",
    "    v1 = p[0]/2\n",
    "    v2 = sum(p[f1] for f1=1:N)\n",
    "    p1[0] = (v1+v2)^k-v2^k\n",
    "    p1 ./ sum(p1)\n",
    "end\n",
    "\n",
    "function overlap_factors_q(q,k)\n",
    "    O = 0.0\n",
    "    N = lastindex(q)\n",
    "    for f = 1:N\n",
    "        v1 = q[f]\n",
    "        v2 = sum(q[f+1:end])\n",
    "        v = (v1+v2)^k-v2^k\n",
    "        O += f*v\n",
    "    end\n",
    "    O * 2^k # really 2*2^(k-1)\n",
    "end\n",
    "\n",
    "function RS(Pk, Λ; N=100, tol=1e-3, maxiter=100, damp=0.9)\n",
    "    ks = [k for k in eachindex(Pk) if Pk[k] > tol]\n",
    "    ds = eachindex(Λ)\n",
    "    @assert sum(Pk[ks]) ≈ 1 && sum(Λ[ds]) ≈ 1\n",
    "    p = OffsetArray(ones(2N+1), -N:N); p ./= sum(p)\n",
    "    tildeΛ = Λ[2:end].*(2:lastindex(Λ)); tildeΛ ./= sum(tildeΛ)\n",
    "    for iter=1:maxiter\n",
    "        q = iterg(p, tildeΛ); q ./= sum(q)\n",
    "        p1 = sum(k*Pk[k]*iterf(q,k) for k=ks); p1 ./= sum(p1)\n",
    "        err = sum(abs.(p1 - p)) \n",
    "        err < tol && (@show err iter; break)\n",
    "        p = p*damp+p1*(1-damp)\n",
    "    end\n",
    "    q = iterg(p, tildeΛ); q ./= sum(q)\n",
    "    q1 = iterg(p, Λ[2:end].*(2:lastindex(Λ)))\n",
    "    q2 = iterg(p, Λ.*(0:lastindex(Λ)-1))\n",
    "    α = (ds'Λ[ds]) / (ks'Pk[ks])\n",
    "    ### check!!\n",
    "    O = sum(abs(f)*q1[f] for f in eachindex(q1))\n",
    "    O -= sum(abs(f)*q2[f] for f in eachindex(q2))\n",
    "    O -= α*sum(Pk[k]*overlap_factors_q(q,k) for k=ks)\n",
    "    1-α,(1-O)/2    \n",
    "end"
   ]
  },
  {
   "cell_type": "code",
   "execution_count": 263,
   "metadata": {},
   "outputs": [
    {
     "name": "stdout",
     "output_type": "stream",
     "text": [
      "err = 9.53431884827761e-11\n",
      "iter = 436\n"
     ]
    },
    {
     "data": {
      "text/plain": [
       "(0.2592592592592592, 0.24981587650537385)"
      ]
     },
     "execution_count": 263,
     "metadata": {},
     "output_type": "execute_result"
    }
   ],
   "source": [
    "d = RS([0,0.3,0.7], [0.0, 1.0, 0.0]; N=100, tol=1e-10, maxiter=10000)"
   ]
  },
  {
   "cell_type": "code",
   "execution_count": 264,
   "metadata": {},
   "outputs": [
    {
     "data": {
      "text/plain": [
       "0.2498158635493518"
      ]
     },
     "execution_count": 264,
     "metadata": {},
     "output_type": "execute_result"
    }
   ],
   "source": [
    "mixed([0,0.3,0.7])"
   ]
  },
  {
   "cell_type": "markdown",
   "metadata": {},
   "source": [
    "* The RS approximation of the minimal energy becomes \n",
    "\\begin{align}\n",
    "    O^{RS} =& \\sum_{k}P_k\\sum_{d_1,\\dots,d_k}\\prod_{i=1}^k\\tilde{\\Lambda}_{d_i}\\sum_{\\{f_{i,j}\\}^{i=1,\\dots k}_{j=1,\\dots d_j}}\\prod_{ij}p(f_{ij})\\sum_{s_1,\\dots,s_k}\\frac{1}{2^k} F_a(\\{f_{ij}\\},\\{s_i\\})\\\\\n",
    "    -&\\sum_{d}\\Lambda_d(d-1)\\sum_{f_1,\\dots,f_d}\\prod_{i=1}^dp(f_i)\\sum_s\\frac{1}{2}F_i(f_1,\\dots,f_d,s)\n",
    "\\end{align}\n",
    "\n",
    "1RSB equations for Max-Sum (Survey Propagation) at finite parameter $y$\n",
    "---\n",
    "We consider the auxiliary statistical physics model\n",
    "\\begin{align}\n",
    "    P_y(\\{u_{ai},u_{ia}\\})=\\frac{1}{Z(y)}\\mathbb{I}\\left(\\{u_{ai},u_{ia}\\}\\text{sat Max-Sum}\\right)e^{-yF(\\{u_{ai},u_{ia}\\})}\n",
    "\\end{align}\n",
    "in which the variables are the Max-Sum messages living on the edges, and the constraints (that can be put in a factorized form) enforces the Max-Sum equations to be satisfied. Each Max-Sum solution represents a cluster. The Max-Sum solutions are weighted according to their Bethe free energy, which corresponds to the minimal energy (inside the cluster). In the $y\\to\\infty$ limit one keeps only the clusters with minimal energy\n",
    "\n",
    "* The distributions $Q_{ia}(u_{ia})$, $Q_{ai}(u_{ai})$ over Max-Sum messages obey the 1RSB equations :\n",
    "\\begin{align}\n",
    "    Q_{ia}(u_{ia})&=\\frac{1}{Z_{ia}}\\sum_{\\{u_{bi}\\}_{b\\in\\partial i\\setminus a}}\\delta(u_{ia}-f^{MS}_{ia}(\\{u_{bi}\\}_{b\\in\\partial i\\setminus a}))e^{-yC_{ia}}\\prod_{b\\in\\partial i\\setminus a}Q_{bi}(u_{bi}) \\\\\n",
    "    Q_{ai}(u_{ai})&=\\frac{1}{Z_{ai}}\\sum_{\\{u_{ja}\\}_{j\\in\\partial a\\setminus i}}\\delta(u_{ai}-f^{MS}_{ai}(\\{u_{ja}\\}_{j\\in\\partial a\\setminus i}))e^{-yC_{ai}}\\prod_{j\\in\\partial a\\setminus i}Q_{ja}(u_{ja})    \n",
    "\\end{align}\n",
    "where $u_{ia}-f^{MS}_{ia}(\\{u_{bi}\\}_{b\\in\\partial i\\setminus a})$, and $u_{ai}-f^{MS}_{ai}(\\{u_{ja}\\}_{j\\in\\partial a\\setminus i})$ are shorthand notation for the Max-Sum equations\n",
    "\\begin{align}\n",
    "    u_{ia}(\\sigma_i)&=s_i\\sigma_i+ \\sum_{b\\in\\partial i\\setminus a}u_{bi}(\\sigma_i) - C_{ia}\\\\\n",
    "    u_{ai}(\\sigma_i)&=\\max_{\\{\\sigma_j\\}_{j\\in\\partial a\\setminus i}:{\\rm sat}}\\left(\\sum_{j\\in\\partial a\\setminus i}u_{ja}(\\sigma_j)\\right) - C_{ai}\n",
    "\\end{align}\n",
    "and $C_{ia}$, $C_{ai}$ are the constants in the Max-Sum equations\n",
    "\\begin{align}\n",
    "    C_{ia}&=\\max_{\\sigma_i}\\left(s_i\\sigma_i+ \\sum_{b\\in\\partial i\\setminus a}u_{bi}(\\sigma_i)\\right)\\\\\n",
    "    C_{ai}&=\\max_{\\{\\sigma_i\\}_{i\\in\\partial a}:{\\rm sat}}\\left(\\sum_{j\\in\\partial a\\setminus i}u_{ja}(\\sigma_j)\\right)\n",
    "\\end{align}\n",
    "the constants $Z_{ia}$, $Z_{ai}$ are normalizations of the distributions $Q_{ia}$, $Q_{ai}$ over the Max-Sum messages\n",
    "\n",
    "* With the parametrization $u_{ai} = f_{ai}\\sigma_i+g_{ai}$ we get:\n",
    "\\begin{equation}\n",
    "    g_{ai} = -\\frac{1}{\\beta}\\log(2{\\rm cosh}(\\beta f_{ai})\\to-|f_{ai}|\n",
    "\\end{equation}\n",
    "Therefore :\n",
    "\\begin{align*}\n",
    "    C_{ia}&=\\max_{\\sigma_i}\\left(\\sigma_i\\left(s_i+ \\sum_{b\\in\\partial i\\setminus a}f_{bi}\\right)\\right) + \\sum_{b\\in\\partial i\\setminus a}g_{bi}\\\\\n",
    "    &=\\left|s_i+ \\sum_{b\\in\\partial i\\setminus a}f_{bi}\\right| - \\sum_{b\\in\\partial i\\setminus a}|f_{bi}|\n",
    "\\end{align*}\n",
    "and\n",
    "\\begin{align*}\n",
    "    C_{ai}&=\\max_{\\{\\sigma_i\\}_{i\\in\\partial a}:{\\rm sat}}\\left(\\sum_{j\\in\\partial a\\setminus i}f_{ja}\\sigma_j\\right)-\\sum_{j\\in\\partial a\\setminus i}|f_{ja}|\\\\\n",
    "    &= -2\\min_{j\\in\\partial a\\setminus i}|f_{ja}|\\Theta\\left(-\\prod_{j\\in\\partial a\\setminus j}f_{ja}\\right)\n",
    "\\end{align*}\n",
    "\n",
    "* We can then write the same 1RSB equations for the distributions $P_{ia}(f_{ia})$, $P_{ai}(f_{ai})$ over the integer parameters $f_{ia}$, $f_{ai}$. We can also write a closed equation on the distribution $P_{ai}$, using that :\n",
    "\\begin{equation}\n",
    "    P_{ai}(f_{ia})=\\frac{1}{Z_{ia}}\\sum_{\\{f_{bj}\\}_{j\\in\\partial a \\setminus i, b\\in\\partial j\\setminus a}}\\delta(f_{ia}-F^{MS}(\\{f_{bj}\\})e^{-y\\left(C_{ai}+\\sum_{j\\in\\partial a\\setminus i}C_{ja}\\right)}\\prod_{j\\in\\partial a \\setminus i, b\\in\\partial j\\setminus a}P_{bj}(f_{bj})\n",
    "\\end{equation}\n",
    "with:\n",
    "\\begin{align*}\n",
    "    C_{ai}+\\sum_{j\\in\\partial a\\setminus i}C_{ja} &= \\max_{\\sigma:sat}\\left(\\sum_{j\\in\\partial a \\setminus i}\\sigma_j\\left(s_j + \\sum_{b\\in\\partial j\\setminus a}f_{bj}\\right)\\right)-\\sum_{j\\in\\partial a\\setminus i}\\sum_{b\\in\\partial j\\setminus a}|f_{bj}|\n",
    "\\end{align*}\n",
    "\n",
    "* Random graph ensemble\n",
    "When the source and the factor graph are random variables the 1RSB messages $P_{ai}$, $(a,i)\\in E$ become random variables. Let $(a,i)$ be a uniformly chosen edge in a factor graph drawn from the random ensembl, and let $\\mathcal{P}$ be the distribution of the message $P_{ai}$ solution of the 1RSB equation written above. The distribution $\\mathcal{P}(p)$ obey consistency equation similar to the RS cavity equations:\n",
    "\\begin{align}\n",
    "    \\mathcal{P}(P)=\\sum_{k}\\tilde{P}_k\\sum_{d_1,\\dots, d_k}\\left(\\prod_{i=1}^k\\tilde{\\Lambda}_{d_i}\\right)\\int\\prod_{i=1}^k\\prod_{j=1}^{d_i}{\\rm d}\\mathcal{P}(P_{ij})\\delta(P-F^{1RSB}(\\{P_{i,j}\\}))\n",
    "\\end{align}\n",
    "This equation always admits a trivial fixed point $\\mathcal{P}(P)=\\delta[P-p^{RS}]$, where $p^{RS}$ is the solution of the RS cavity equation.\n",
    "In the RS phase, this trivial fixed-point is the unique solution, while in the 1RSB phase, the trivial solution becomes unstable and the above equation admits a non-trivial solution."
   ]
  },
  {
   "cell_type": "code",
   "execution_count": 1,
   "metadata": {},
   "outputs": [
    {
     "ename": "LoadError",
     "evalue": "UndefVarError: n not defined",
     "output_type": "error",
     "traceback": [
      "UndefVarError: n not defined",
      "",
      "Stacktrace:",
      " [1] top-level scope",
      "   @ :0",
      " [2] eval",
      "   @ ./boot.jl:340 [inlined]",
      " [3] include_string(mapexpr::typeof(REPL.softscope), mod::Module, code::String, filename::String)",
      "   @ Base ./loading.jl:1103"
     ]
    }
   ],
   "source": [
    "n"
   ]
  },
  {
   "cell_type": "code",
   "execution_count": null,
   "metadata": {},
   "outputs": [],
   "source": []
  }
 ],
 "metadata": {
  "kernelspec": {
   "display_name": "Julia 1.6.0-DEV",
   "language": "julia",
   "name": "julia-1.6"
  },
  "language_info": {
   "file_extension": ".jl",
   "mimetype": "application/julia",
   "name": "julia",
   "version": "1.6.0"
  },
  "output_auto_scroll": false
 },
 "nbformat": 4,
 "nbformat_minor": 4
}
