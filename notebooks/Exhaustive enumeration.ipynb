{
 "cells": [
  {
   "cell_type": "markdown",
   "metadata": {},
   "source": [
    "# Examine small lossy compression systems"
   ]
  },
  {
   "cell_type": "markdown",
   "metadata": {},
   "source": [
    "Include dependencies"
   ]
  },
  {
   "cell_type": "code",
   "execution_count": 2,
   "metadata": {
    "ExecuteTime": {
     "end_time": "2020-11-10T11:51:54.674000+01:00",
     "start_time": "2020-11-10T10:51:36.467Z"
    }
   },
   "outputs": [
    {
     "data": {
      "text/plain": [
       "mpldefault (generic function with 1 method)"
      ]
     },
     "execution_count": 2,
     "metadata": {},
     "output_type": "execute_result"
    }
   ],
   "source": [
    "include(\"../code/headers.jl\")"
   ]
  },
  {
   "cell_type": "markdown",
   "metadata": {},
   "source": [
    "Initialize a variable of the pre-defined type `LossyModel` "
   ]
  },
  {
   "cell_type": "code",
   "execution_count": 3,
   "metadata": {
    "ExecuteTime": {
     "end_time": "2020-11-10T11:52:53.152000+01:00",
     "start_time": "2020-11-10T10:52:50.131Z"
    }
   },
   "outputs": [
    {
     "data": {
      "text/plain": [
       "Lossy compression model:\n",
       " - Factor Graph with n=20 variables and m=18 factors defined on GF(2)\n",
       " - Inverse temperatures β₁=Inf for checks and β₂=1.0 for overlap\n"
      ]
     },
     "execution_count": 3,
     "metadata": {},
     "output_type": "execute_result"
    }
   ],
   "source": [
    "q = 2     # work on 𝔾𝔽(q)\n",
    "n = 20    # number of variables ⟷ length of the vector to be compressed \n",
    "k = 2     # length of compressed vector\n",
    "m = n-k   # number of constraints ⟷ parity checks in the factor graph \n",
    "lm = LossyModel(q,n,m)"
   ]
  },
  {
   "cell_type": "markdown",
   "metadata": {},
   "source": [
    "Such object contains:\n",
    "- A randomly constructed factor graph (⟷ parity check matrix) `lm.fg`\n",
    "- A randomly extracted source vector `lm.y` of length `n`\n",
    "- Two temperatures for constraints and overlap `lm.beta1`, `lm.beta2`\n",
    "- A guess `lm.x` of lenth `n` for the solution of the compression problem"
   ]
  },
  {
   "cell_type": "markdown",
   "metadata": {},
   "source": [
    "Show the adjacency matrix"
   ]
  },
  {
   "cell_type": "code",
   "execution_count": 8,
   "metadata": {
    "ExecuteTime": {
     "end_time": "2020-11-10T11:54:31.840000+01:00",
     "start_time": "2020-11-10T10:54:31.835Z"
    }
   },
   "outputs": [
    {
     "data": {
      "text/plain": [
       "18×20 Array{Int64,2}:\n",
       " 0  0  0  0  0  1  0  0  0  0  0  0  0  0  0  0  0  1  0  0\n",
       " 0  0  0  0  0  0  0  0  0  0  0  0  1  0  0  0  0  0  1  0\n",
       " 0  0  1  0  0  0  0  0  0  0  0  0  0  0  0  0  0  0  0  1\n",
       " 0  0  0  0  0  0  0  1  0  0  0  1  0  0  0  0  0  0  0  0\n",
       " 0  0  0  0  0  0  0  0  1  0  0  0  0  0  1  0  0  0  0  0\n",
       " 0  0  0  0  1  0  0  0  0  0  0  0  0  0  0  1  0  0  0  0\n",
       " 0  1  0  1  0  0  0  0  0  0  0  0  0  0  0  0  0  0  0  0\n",
       " 0  0  0  0  1  0  0  1  0  0  0  0  0  0  0  0  0  0  0  0\n",
       " 0  0  0  0  0  0  0  0  1  0  0  0  0  1  0  0  0  0  0  0\n",
       " 0  0  0  0  0  0  0  0  0  0  0  0  0  1  0  1  0  0  0  0\n",
       " 0  0  0  0  0  0  0  0  0  1  0  0  0  0  0  0  1  0  0  0\n",
       " 0  1  0  0  0  0  0  0  0  0  0  0  0  0  0  0  1  0  0  0\n",
       " 0  0  0  0  0  0  0  0  0  0  0  0  1  0  1  0  0  0  0  0\n",
       " 0  0  0  0  0  0  0  0  0  0  1  0  0  0  0  0  0  0  0  1\n",
       " 0  0  0  1  0  0  1  0  0  0  0  0  0  0  0  0  0  0  1  0\n",
       " 0  0  0  0  0  1  1  0  0  0  1  0  0  0  0  0  0  0  0  0\n",
       " 1  0  0  0  0  0  0  0  0  1  0  1  0  0  0  0  0  0  0  0\n",
       " 1  0  1  0  0  0  0  0  0  0  0  0  0  0  0  0  0  1  0  0"
      ]
     },
     "execution_count": 8,
     "metadata": {},
     "output_type": "execute_result"
    }
   ],
   "source": [
    "H = adjmat(lm)"
   ]
  },
  {
   "cell_type": "markdown",
   "metadata": {},
   "source": [
    "Show the vector to be compressed"
   ]
  },
  {
   "cell_type": "code",
   "execution_count": 9,
   "metadata": {
    "ExecuteTime": {
     "end_time": "2020-11-10T11:54:37.770000+01:00",
     "start_time": "2020-11-10T10:54:37.771Z"
    },
    "scrolled": true
   },
   "outputs": [
    {
     "data": {
      "text/plain": [
       "20-element Array{Int64,1}:\n",
       " 1\n",
       " 0\n",
       " 0\n",
       " 0\n",
       " 1\n",
       " 1\n",
       " 1\n",
       " 1\n",
       " 0\n",
       " 0\n",
       " 0\n",
       " 1\n",
       " 0\n",
       " 0\n",
       " 0\n",
       " 0\n",
       " 1\n",
       " 0\n",
       " 0\n",
       " 1"
      ]
     },
     "execution_count": 9,
     "metadata": {},
     "output_type": "execute_result"
    }
   ],
   "source": [
    "y = lm.y"
   ]
  },
  {
   "cell_type": "markdown",
   "metadata": {},
   "source": [
    "## Take a closer look to the space of solutions"
   ]
  },
  {
   "cell_type": "markdown",
   "metadata": {},
   "source": [
    "One can ask i.e. for the rank of the homogeneous system defined by matrix H"
   ]
  },
  {
   "cell_type": "code",
   "execution_count": 22,
   "metadata": {
    "ExecuteTime": {
     "end_time": "2020-11-10T12:08:33.202000+01:00",
     "start_time": "2020-11-10T11:08:33.001Z"
    }
   },
   "outputs": [
    {
     "data": {
      "text/plain": [
       "17"
      ]
     },
     "execution_count": 22,
     "metadata": {},
     "output_type": "execute_result"
    }
   ],
   "source": [
    "rank(lm)"
   ]
  },
  {
   "cell_type": "markdown",
   "metadata": {},
   "source": [
    "Or build a basis for the kernel"
   ]
  },
  {
   "cell_type": "code",
   "execution_count": 23,
   "metadata": {
    "ExecuteTime": {
     "end_time": "2020-11-10T12:08:50.787000+01:00",
     "start_time": "2020-11-10T11:08:50.779Z"
    },
    "scrolled": true
   },
   "outputs": [
    {
     "data": {
      "text/plain": [
       "20×3 Array{Int64,2}:\n",
       " 1  0  0\n",
       " 1  1  0\n",
       " 1  0  1\n",
       " 1  1  0\n",
       " 0  1  0\n",
       " 0  0  1\n",
       " 1  0  0\n",
       " 0  1  0\n",
       " 0  1  0\n",
       " 1  1  0\n",
       " 1  0  1\n",
       " 0  1  0\n",
       " 0  1  0\n",
       " 0  1  0\n",
       " 0  1  0\n",
       " 0  1  0\n",
       " 1  1  0\n",
       " 0  0  1\n",
       " 0  1  0\n",
       " 1  0  1"
      ]
     },
     "execution_count": 23,
     "metadata": {},
     "output_type": "execute_result"
    }
   ],
   "source": [
    "nullspace(lm)"
   ]
  },
  {
   "cell_type": "markdown",
   "metadata": {},
   "source": [
    "From here it is easy to produce a list of all the solutions (linear combinations of the basis vectors"
   ]
  },
  {
   "cell_type": "code",
   "execution_count": 12,
   "metadata": {
    "ExecuteTime": {
     "end_time": "2020-11-10T11:55:30.760000+01:00",
     "start_time": "2020-11-10T10:55:30.760Z"
    },
    "scrolled": true
   },
   "outputs": [
    {
     "data": {
      "text/plain": [
       "8-element Array{Array{Int64,1},1}:\n",
       " [0, 0, 0, 0, 0, 0, 0, 0, 0, 0, 0, 0, 0, 0, 0, 0, 0, 0, 0, 0]\n",
       " [1, 1, 1, 1, 0, 0, 1, 0, 0, 1, 1, 0, 0, 0, 0, 0, 1, 0, 0, 1]\n",
       " [0, 1, 0, 1, 1, 0, 0, 1, 1, 1, 0, 1, 1, 1, 1, 1, 1, 0, 1, 0]\n",
       " [1, 0, 1, 0, 1, 0, 1, 1, 1, 0, 1, 1, 1, 1, 1, 1, 0, 0, 1, 1]\n",
       " [0, 0, 1, 0, 0, 1, 0, 0, 0, 0, 1, 0, 0, 0, 0, 0, 0, 1, 0, 1]\n",
       " [1, 1, 0, 1, 0, 1, 1, 0, 0, 1, 0, 0, 0, 0, 0, 0, 1, 1, 0, 0]\n",
       " [0, 1, 1, 1, 1, 1, 0, 1, 1, 1, 1, 1, 1, 1, 1, 1, 1, 1, 1, 1]\n",
       " [1, 0, 0, 0, 1, 1, 1, 1, 1, 0, 0, 1, 1, 1, 1, 1, 0, 1, 1, 0]"
      ]
     },
     "execution_count": 12,
     "metadata": {},
     "output_type": "execute_result"
    }
   ],
   "source": [
    "sols = enum_solutions(lm)"
   ]
  },
  {
   "cell_type": "markdown",
   "metadata": {},
   "source": [
    "Or re-organize them as a matrix"
   ]
  },
  {
   "cell_type": "code",
   "execution_count": 19,
   "metadata": {
    "ExecuteTime": {
     "end_time": "2020-11-10T11:56:54.345000+01:00",
     "start_time": "2020-11-10T10:56:54.343Z"
    }
   },
   "outputs": [
    {
     "data": {
      "text/plain": [
       "20×8 Array{Int64,2}:\n",
       " 0  1  0  1  0  1  0  1\n",
       " 0  1  1  0  0  1  1  0\n",
       " 0  1  0  1  1  0  1  0\n",
       " 0  1  1  0  0  1  1  0\n",
       " 0  0  1  1  0  0  1  1\n",
       " 0  0  0  0  1  1  1  1\n",
       " 0  1  0  1  0  1  0  1\n",
       " 0  0  1  1  0  0  1  1\n",
       " 0  0  1  1  0  0  1  1\n",
       " 0  1  1  0  0  1  1  0\n",
       " 0  1  0  1  1  0  1  0\n",
       " 0  0  1  1  0  0  1  1\n",
       " 0  0  1  1  0  0  1  1\n",
       " 0  0  1  1  0  0  1  1\n",
       " 0  0  1  1  0  0  1  1\n",
       " 0  0  1  1  0  0  1  1\n",
       " 0  1  1  0  0  1  1  0\n",
       " 0  0  0  0  1  1  1  1\n",
       " 0  0  1  1  0  0  1  1\n",
       " 0  1  0  1  1  0  1  0"
      ]
     },
     "execution_count": 19,
     "metadata": {},
     "output_type": "execute_result"
    }
   ],
   "source": [
    "solutions_as_matrix = hcat(sols...)"
   ]
  },
  {
   "cell_type": "markdown",
   "metadata": {},
   "source": [
    "Check that they indeed satisfy all the constraints"
   ]
  },
  {
   "cell_type": "code",
   "execution_count": 21,
   "metadata": {
    "ExecuteTime": {
     "end_time": "2020-11-10T11:57:48.678000+01:00",
     "start_time": "2020-11-10T10:57:48.676Z"
    },
    "scrolled": true
   },
   "outputs": [
    {
     "data": {
      "text/plain": [
       "18×8 Array{Int64,2}:\n",
       " 0  0  0  0  0  0  0  0\n",
       " 0  0  0  0  0  0  0  0\n",
       " 0  0  0  0  0  0  0  0\n",
       " 0  0  0  0  0  0  0  0\n",
       " 0  0  0  0  0  0  0  0\n",
       " 0  0  0  0  0  0  0  0\n",
       " 0  0  0  0  0  0  0  0\n",
       " 0  0  0  0  0  0  0  0\n",
       " 0  0  0  0  0  0  0  0\n",
       " 0  0  0  0  0  0  0  0\n",
       " 0  0  0  0  0  0  0  0\n",
       " 0  0  0  0  0  0  0  0\n",
       " 0  0  0  0  0  0  0  0\n",
       " 0  0  0  0  0  0  0  0\n",
       " 0  0  0  0  0  0  0  0\n",
       " 0  0  0  0  0  0  0  0\n",
       " 0  0  0  0  0  0  0  0\n",
       " 0  0  0  0  0  0  0  0"
      ]
     },
     "execution_count": 21,
     "metadata": {},
     "output_type": "execute_result"
    }
   ],
   "source": [
    "gfmatrixmult(H,solutions_as_matrix,q)"
   ]
  },
  {
   "cell_type": "markdown",
   "metadata": {},
   "source": []
  }
 ],
 "metadata": {
  "kernelspec": {
   "display_name": "Julia 1.5.2",
   "language": "julia",
   "name": "julia-1.5"
  },
  "language_info": {
   "file_extension": ".jl",
   "mimetype": "application/julia",
   "name": "julia",
   "version": "1.5.2"
  },
  "varInspector": {
   "cols": {
    "lenName": 16,
    "lenType": 16,
    "lenVar": 40
   },
   "kernels_config": {
    "python": {
     "delete_cmd_postfix": "",
     "delete_cmd_prefix": "del ",
     "library": "var_list.py",
     "varRefreshCmd": "print(var_dic_list())"
    },
    "r": {
     "delete_cmd_postfix": ") ",
     "delete_cmd_prefix": "rm(",
     "library": "var_list.r",
     "varRefreshCmd": "cat(var_dic_list()) "
    }
   },
   "types_to_exclude": [
    "module",
    "function",
    "builtin_function_or_method",
    "instance",
    "_Feature"
   ],
   "window_display": false
  }
 },
 "nbformat": 4,
 "nbformat_minor": 4
}
