{
 "cells": [
  {
   "cell_type": "markdown",
   "metadata": {},
   "source": [
    "1RSB\n",
    "===\n",
    "\n",
    "\\begin{align*}\n",
    "p\\left(f\\right)  &= \\sum_{f_{1},\\dots,f_{k}}\\delta\\left(f;\\min_{j=1,\\dots,k}\\left|f_{j}\\right|\\prod_{j=1}^{k}\\text{sign}\\left(f_{j}\\right)\\right)\\prod_{j=1}^{k}q_j\\left(f_{j}\\right)e^{-y F_{ai}}\\\\\n",
    "q(f) &= \\sum_{f_1,\\dots,f_d} \\prod_{b=1,\\dots,d} p_b(f_b) \\delta\\left(f-s-\\sum_{b=1,\\dots,d}f_b\\right)e^{-y F_{ia}}\\\\\n",
    "\\end{align*}\n",
    "\n",
    "where\n",
    "\\begin{align*}\n",
    "F_{ai} &= -2\\min_{j=1,\\dots,k}|f_{j}|\\Theta\\left(-\\prod_{j=1}^kf_{j}\\right)\\\\\n",
    " F_{ia} &=\\left|s + \\sum_{b=1}^d f_b\\right| - \\sum_{b=1}^d|f_b|\n",
    "\\end{align*}\n",
    "\n"
   ]
  },
  {
   "cell_type": "code",
   "execution_count": 221,
   "metadata": {},
   "outputs": [
    {
     "data": {
      "text/plain": [
       "iter_slow_var (generic function with 3 methods)"
      ]
     },
     "execution_count": 221,
     "metadata": {},
     "output_type": "execute_result"
    }
   ],
   "source": [
    "using OffsetArrays\n",
    "\n",
    "const ∏ = prod\n",
    "const ∑ = sum\n",
    "\n",
    "\n",
    "function iter_slow_factor(Q, n, y=0.0)\n",
    "    k = length(Q)\n",
    "    p = OffsetVector(zeros(2N+1), -N:N)\n",
    "    for fs in Iterators.product(fill(-N:N,k)...)\n",
    "        Fai = -2*minimum(abs.(fs))*(∏(fs) < 0)\n",
    "        w = ∏(q[f1] for (q,f1) ∈ zip(Q,fs)) * exp(-y*Fai)\n",
    "        f = minimum(abs.(fs))*sign(∏(fs))\n",
    "        p[clamp(f, -N, N)] += w\n",
    "    end\n",
    "    p ./ sum(p)\n",
    "end\n",
    "\n",
    "function iter_slow_var(P, s, N, y=0.0) \n",
    "    q = OffsetVector(zeros(2N+1), -N:N)\n",
    "    for fs in Iterators.product(fill(-N:N, length(P))...)\n",
    "        f = sum(fs) + s\n",
    "        Fia = abs(f) - sum(abs.(fs)) \n",
    "        w = ∏(p[f1] for (p,f1) ∈ zip(P,fs)) * exp(-y*Fia)\n",
    "        q[clamp(f, -N, N)] += w \n",
    "    end\n",
    "    q ./ sum(q)\n",
    "end"
   ]
  },
  {
   "cell_type": "markdown",
   "metadata": {},
   "source": [
    "Simplifications\n",
    "--\n",
    "\n",
    "$F_{ai}$ can be simplified: \n",
    "\n",
    "\\begin{align}\n",
    "F_{ai} &= -2\\min_{j=1,\\dots,k}|f_{j}|\\Theta\\left(-\\prod_{j=1}^kf_{j}\\right)\\\\\n",
    "&= -2\\min_{j=1,\\dots,k}|f_{j}|\\Theta\\left(\\textrm{sign}\\left(-\\prod_{j=1}^kf_{j}\\right)\\right)\\\\\n",
    "&= -2\\min_{j=1,\\dots,k}|f_{j}|\\Theta\\left(-\\min_{j=1,\\dots,k}|f_{j}|\\textrm{sign}\\left(\\prod_{j=1}^kf_{j}\\right)\\right)\\\\\n",
    "&= -2\\left|\\min_{j=1,\\dots,k}|f_{j}|\\textrm{sign}\\left(-\\prod_{j=1}^kf_{j}\\right)\\right|\\Theta\\left(-\\min_{j=1,\\dots,k}|f_{j}|\\textrm{sign}\\left(\\prod_{j=1}^kf_{j}\\right)\\right)\\\\\n",
    "&= 2f\\Theta(-f)\n",
    "\\end{align}\n",
    "\n",
    "So"
   ]
  },
  {
   "cell_type": "markdown",
   "metadata": {},
   "source": [
    "\\begin{align*}\n",
    "p\\left(f\\right)= & \\sum_{f_{1},\\dots,f_{k}}\\delta\\left(f;\\min_{j=1,\\dots,k}\\left|f_{j}\\right|\\prod_{j=1}^{k}\\text{sign}\\left(f_{j}\\right)\\right)\\prod_{j=1}^{k}q_j\\left(f_{j}\\right)e^{-y 2 f \\Theta(-f)}\\\\\n",
    "\\end{align*}"
   ]
  },
  {
   "cell_type": "markdown",
   "metadata": {},
   "source": [
    "To compute $p$, define\n",
    "\n",
    "\\begin{align*}\n",
    "a_k(f) &= p\\left(\\textrm{sign}\\left(\\prod_{i=1}^k f_i\\right)=\\textrm{sign}(f) \\wedge |f_1|,\\dots,|f_k| \\ge |f|\\right)\\\\\n",
    "\\end{align*}\n",
    "\n",
    "$a_k$ satisfies the recursion\n",
    "\n",
    "\\begin{align*}\n",
    "a_0(f) &= \\delta(\\textrm{sign}(f)-1)\\\\\n",
    "a_k(f) &= a_{k-1}(f) \\sum_{f_k\\geq |f|}q_k(f_k) + a_{k-1}(-f) \\sum_{f_k \\leq -|f|} q_k(f_k)\\\\\n",
    "\\end{align*}\n",
    "\n",
    "Then we finally have\n",
    "\n",
    "$$p_k(f) = \\cases{(a_k(f)-a_k(f+\\textrm{sign}(f)))e^{-y2f\\Theta(-f)} & for $f\\neq0$\\\\\n",
    "           1-\\prod_{j=1}^k(1-q_j(0)) & for $f=0$}$$\n"
   ]
  },
  {
   "cell_type": "code",
   "execution_count": 193,
   "metadata": {},
   "outputs": [
    {
     "data": {
      "text/plain": [
       "iterffixed (generic function with 2 methods)"
      ]
     },
     "execution_count": 193,
     "metadata": {},
     "output_type": "execute_result"
    }
   ],
   "source": [
    "function iterffixed(Q, N, y=0)\n",
    "    a = OffsetVector(zeros(2N+3), -N-1:N+1)\n",
    "    a[1:lastindex(a)] .= 1\n",
    "    for q ∈ Q\n",
    "        for f=1:N+1\n",
    "            ap, am = a[f], a[-f]\n",
    "            sp, sm = ∑(q[f:N]), ∑(q[-N:-f])\n",
    "            a[+f] = ap*sp + am*sm\n",
    "            a[-f] = am*sp + ap*sm\n",
    "        end\n",
    "    end\n",
    "    p = OffsetVector(zeros(2N+1), -N:N)\n",
    "    for f = 1:N\n",
    "        p[+f] = (a[+f]-a[+f+1])\n",
    "        p[-f] = (a[-f]-a[-f-1])*exp(2y*f)\n",
    "    end\n",
    "    p[0] = 1-∏(1-q[0] for q ∈ Q)\n",
    "    p ./ sum(p)\n",
    "end\n"
   ]
  },
  {
   "cell_type": "markdown",
   "metadata": {},
   "source": [
    "Comparison\n",
    "--"
   ]
  },
  {
   "cell_type": "code",
   "execution_count": 244,
   "metadata": {},
   "outputs": [
    {
     "data": {
      "text/plain": [
       "21×2 Matrix{Float64}:\n",
       " 0.0          0.0\n",
       " 0.383062     0.383062\n",
       " 0.34141      0.34141\n",
       " 0.189418     0.189418\n",
       " 0.0717821    0.0717821\n",
       " 0.0110971    0.0110971\n",
       " 0.00253552   0.00253552\n",
       " 0.000566925  0.000566925\n",
       " 0.000108003  0.000108003\n",
       " 1.00023e-5   1.00023e-5\n",
       " 3.30936e-6   3.30936e-6\n",
       " 1.35452e-6   1.35452e-6\n",
       " 1.97207e-6   1.97207e-6\n",
       " 1.41193e-6   1.41193e-6\n",
       " 8.50097e-7   8.50097e-7\n",
       " 4.9927e-7    4.9927e-7\n",
       " 4.4646e-7    4.4646e-7\n",
       " 1.58689e-7   1.58689e-7\n",
       " 3.70541e-8   3.70541e-8\n",
       " 6.64263e-9   6.64263e-9\n",
       " 0.0          0.0"
      ]
     },
     "execution_count": 244,
     "metadata": {},
     "output_type": "execute_result"
    }
   ],
   "source": [
    "N=10\n",
    "y=0.1\n",
    "Q=[(p=OffsetArray(zeros(2N+1),-N:N); p[-9:9] .= rand(19); p ./=sum(p); p) for i=1:3]\n",
    "[iterffixed(Q,N,1) iter_slow_factor(Q,N,1)]"
   ]
  },
  {
   "cell_type": "markdown",
   "metadata": {},
   "source": [
    "The expression for $F_{ia}$ is"
   ]
  },
  {
   "cell_type": "markdown",
   "metadata": {},
   "source": [
    "\\begin{align*}\n",
    "    F_{ia} &=\\left|s + \\sum_{b=1}^d f_b\\right| - \\sum_{b=1}^d|f_b|\n",
    "\\end{align*}\n",
    "and\n",
    "\n",
    "\\begin{align*}\n",
    "q(f) &= \\sum_{f_1,\\dots,f_d} \\prod_{b=1,\\dots,d} p_b(f_b) \\delta\\left(f-s-\\sum_{b=1}^df_b\\right)e^{-y F_{ia}}\\\\\n",
    "&= e^{-y |f|}\\sum_{f_1,\\dots,f_d} \\prod_{b=1,\\dots,d} p_b(f_b)e^{y|f_b|} \\delta\\left(f-s-\\sum_{b=1}^df_b\\right)\\\\\n",
    "\\end{align*}\n",
    "\n",
    "\n",
    "To compute $q_d$, note that"
   ]
  },
  {
   "cell_type": "markdown",
   "metadata": {},
   "source": [
    "\\begin{align}\n",
    "q(f) &= q_d(f)e^{-y|f|}\n",
    "\\end{align}\n",
    "\n",
    "where $q_d$ satisfies\n",
    "\\begin{align}\n",
    "q_0(f) & = \\delta(f-s)\\\\\n",
    "q_d(f) & = \\sum_{f_d} q_{d-1}(f-f_d) p_d(f_d)e^{-y|f_d|} \n",
    "\\end{align}"
   ]
  },
  {
   "cell_type": "code",
   "execution_count": 234,
   "metadata": {},
   "outputs": [
    {
     "data": {
      "text/plain": [
       "itergfixed (generic function with 3 methods)"
      ]
     },
     "execution_count": 234,
     "metadata": {},
     "output_type": "execute_result"
    }
   ],
   "source": [
    "function ⊛(p1, p2)\n",
    "    N = max(lastindex(p1), lastindex(p2))\n",
    "    q = OffsetArray(zeros(2N+1),-N:N)\n",
    "    for f1 in eachindex(p1)\n",
    "        for f2 in eachindex(p2)\n",
    "            q[clamp(f1+f2, -N, N)] += p1[f1]*p2[f2]\n",
    "        end\n",
    "    end\n",
    "    q\n",
    "end\n",
    "\n",
    "function itergfixed(P, s, N, y=0)\n",
    "    q = OffsetVector(zeros(2N+1), -N:N)\n",
    "    q[s]=1\n",
    "    w = exp.(y .* abs.(eachindex(q)))\n",
    "    for p ∈ P\n",
    "        q = q ⊛ (p ./ w)\n",
    "    end\n",
    "    q ./= w\n",
    "    q ./ sum(q)\n",
    "end"
   ]
  },
  {
   "cell_type": "markdown",
   "metadata": {},
   "source": [
    "Comparison\n",
    "--"
   ]
  },
  {
   "cell_type": "code",
   "execution_count": 246,
   "metadata": {},
   "outputs": [
    {
     "data": {
      "text/plain": [
       "21×2 Matrix{Float64}:\n",
       " 0.106964   0.106964\n",
       " 0.0329656  0.0329656\n",
       " 0.0335879  0.0335879\n",
       " 0.0354667  0.0354667\n",
       " 0.032129   0.032129\n",
       " 0.0346542  0.0346542\n",
       " 0.0374614  0.0374614\n",
       " 0.035893   0.035893\n",
       " 0.037156   0.037156\n",
       " 0.0405135  0.0405135\n",
       " 0.0460118  0.0460118\n",
       " 0.0501356  0.0501356\n",
       " 0.0534975  0.0534975\n",
       " 0.0495592  0.0495592\n",
       " 0.0461773  0.0461773\n",
       " 0.0499736  0.0499736\n",
       " 0.0430719  0.0430719\n",
       " 0.0373767  0.0373767\n",
       " 0.0234817  0.0234817\n",
       " 0.0258439  0.0258439\n",
       " 0.148079   0.148079"
      ]
     },
     "execution_count": 246,
     "metadata": {},
     "output_type": "execute_result"
    }
   ],
   "source": [
    "N=10\n",
    "y=0.1\n",
    "s=1\n",
    "P=[(p=OffsetArray(zeros(2N+1),-N:N); p[-9:9] .= rand(19); p ./=sum(p); p) for i=1:3]\n",
    "[itergfixed(P[1:2],s,N,0) iter_slow_var(P[1:2],s,N,0)]"
   ]
  },
  {
   "cell_type": "code",
   "execution_count": 142,
   "metadata": {},
   "outputs": [
    {
     "data": {
      "text/plain": [
       "RSB (generic function with 1 method)"
      ]
     },
     "execution_count": 142,
     "metadata": {},
     "output_type": "execute_result"
    }
   ],
   "source": [
    "using Distributions, ProgressMeter\n",
    "\n",
    "uni(N) = (p=OffsetVector(ones(2N+1), -N:N); p ./= sum(p))\n",
    "residual(x) = (p=OffsetVector((x .* eachindex(x))[1:end], 0:lastindex(x)-1); p./=sum(p))\n",
    "\n",
    "function RSB(Λ, K; maxiter=100, popsize=1000, N=10, popP = [uni(N) for i=1:popsize], popQ = [uni(N) for i=1:popsize], y=0)\n",
    "    Λ1 = residual(Λ)\n",
    "    K1 = residual(K)\n",
    "\n",
    "    distΛ1 = DiscreteNonParametric(collect(eachindex(Λ1)), Λ1.parent)\n",
    "    distK1 = DiscreteNonParametric(collect(eachindex(K1)), K1.parent)\n",
    "\n",
    "    @showprogress for t = 1:maxiter\n",
    "        for i = eachindex(popQ)\n",
    "            d = rand(distΛ1)\n",
    "            k = rand(distK1)\n",
    "            Q = rand(popQ, k)\n",
    "            P = rand(popP, d)\n",
    "            popQ[i] = iter_slow_var(P, N, y)\n",
    "            popP[i] = iter_slow_factor(Q, N, y)\n",
    "        end\n",
    "    end\n",
    "    popP, popQ\n",
    "end"
   ]
  },
  {
   "cell_type": "code",
   "execution_count": 143,
   "metadata": {
    "scrolled": true
   },
   "outputs": [
    {
     "data": {
      "text/plain": [
       "10000-element Vector{OffsetVector{Float64, Vector{Float64}}}:\n",
       " [0.09090909090909091, 0.09090909090909091, 0.09090909090909091, 0.09090909090909091, 0.09090909090909091, 0.09090909090909091, 0.09090909090909091, 0.09090909090909091, 0.09090909090909091, 0.09090909090909091, 0.09090909090909091]\n",
       " [0.09090909090909091, 0.09090909090909091, 0.09090909090909091, 0.09090909090909091, 0.09090909090909091, 0.09090909090909091, 0.09090909090909091, 0.09090909090909091, 0.09090909090909091, 0.09090909090909091, 0.09090909090909091]\n",
       " [0.09090909090909091, 0.09090909090909091, 0.09090909090909091, 0.09090909090909091, 0.09090909090909091, 0.09090909090909091, 0.09090909090909091, 0.09090909090909091, 0.09090909090909091, 0.09090909090909091, 0.09090909090909091]\n",
       " [0.09090909090909091, 0.09090909090909091, 0.09090909090909091, 0.09090909090909091, 0.09090909090909091, 0.09090909090909091, 0.09090909090909091, 0.09090909090909091, 0.09090909090909091, 0.09090909090909091, 0.09090909090909091]\n",
       " [0.09090909090909091, 0.09090909090909091, 0.09090909090909091, 0.09090909090909091, 0.09090909090909091, 0.09090909090909091, 0.09090909090909091, 0.09090909090909091, 0.09090909090909091, 0.09090909090909091, 0.09090909090909091]\n",
       " [0.09090909090909091, 0.09090909090909091, 0.09090909090909091, 0.09090909090909091, 0.09090909090909091, 0.09090909090909091, 0.09090909090909091, 0.09090909090909091, 0.09090909090909091, 0.09090909090909091, 0.09090909090909091]\n",
       " [0.09090909090909091, 0.09090909090909091, 0.09090909090909091, 0.09090909090909091, 0.09090909090909091, 0.09090909090909091, 0.09090909090909091, 0.09090909090909091, 0.09090909090909091, 0.09090909090909091, 0.09090909090909091]\n",
       " [0.09090909090909091, 0.09090909090909091, 0.09090909090909091, 0.09090909090909091, 0.09090909090909091, 0.09090909090909091, 0.09090909090909091, 0.09090909090909091, 0.09090909090909091, 0.09090909090909091, 0.09090909090909091]\n",
       " [0.09090909090909091, 0.09090909090909091, 0.09090909090909091, 0.09090909090909091, 0.09090909090909091, 0.09090909090909091, 0.09090909090909091, 0.09090909090909091, 0.09090909090909091, 0.09090909090909091, 0.09090909090909091]\n",
       " [0.09090909090909091, 0.09090909090909091, 0.09090909090909091, 0.09090909090909091, 0.09090909090909091, 0.09090909090909091, 0.09090909090909091, 0.09090909090909091, 0.09090909090909091, 0.09090909090909091, 0.09090909090909091]\n",
       " [0.09090909090909091, 0.09090909090909091, 0.09090909090909091, 0.09090909090909091, 0.09090909090909091, 0.09090909090909091, 0.09090909090909091, 0.09090909090909091, 0.09090909090909091, 0.09090909090909091, 0.09090909090909091]\n",
       " [0.09090909090909091, 0.09090909090909091, 0.09090909090909091, 0.09090909090909091, 0.09090909090909091, 0.09090909090909091, 0.09090909090909091, 0.09090909090909091, 0.09090909090909091, 0.09090909090909091, 0.09090909090909091]\n",
       " [0.09090909090909091, 0.09090909090909091, 0.09090909090909091, 0.09090909090909091, 0.09090909090909091, 0.09090909090909091, 0.09090909090909091, 0.09090909090909091, 0.09090909090909091, 0.09090909090909091, 0.09090909090909091]\n",
       " ⋮\n",
       " [0.09090909090909091, 0.09090909090909091, 0.09090909090909091, 0.09090909090909091, 0.09090909090909091, 0.09090909090909091, 0.09090909090909091, 0.09090909090909091, 0.09090909090909091, 0.09090909090909091, 0.09090909090909091]\n",
       " [0.09090909090909091, 0.09090909090909091, 0.09090909090909091, 0.09090909090909091, 0.09090909090909091, 0.09090909090909091, 0.09090909090909091, 0.09090909090909091, 0.09090909090909091, 0.09090909090909091, 0.09090909090909091]\n",
       " [0.09090909090909091, 0.09090909090909091, 0.09090909090909091, 0.09090909090909091, 0.09090909090909091, 0.09090909090909091, 0.09090909090909091, 0.09090909090909091, 0.09090909090909091, 0.09090909090909091, 0.09090909090909091]\n",
       " [0.09090909090909091, 0.09090909090909091, 0.09090909090909091, 0.09090909090909091, 0.09090909090909091, 0.09090909090909091, 0.09090909090909091, 0.09090909090909091, 0.09090909090909091, 0.09090909090909091, 0.09090909090909091]\n",
       " [0.09090909090909091, 0.09090909090909091, 0.09090909090909091, 0.09090909090909091, 0.09090909090909091, 0.09090909090909091, 0.09090909090909091, 0.09090909090909091, 0.09090909090909091, 0.09090909090909091, 0.09090909090909091]\n",
       " [0.09090909090909091, 0.09090909090909091, 0.09090909090909091, 0.09090909090909091, 0.09090909090909091, 0.09090909090909091, 0.09090909090909091, 0.09090909090909091, 0.09090909090909091, 0.09090909090909091, 0.09090909090909091]\n",
       " [0.09090909090909091, 0.09090909090909091, 0.09090909090909091, 0.09090909090909091, 0.09090909090909091, 0.09090909090909091, 0.09090909090909091, 0.09090909090909091, 0.09090909090909091, 0.09090909090909091, 0.09090909090909091]\n",
       " [0.09090909090909091, 0.09090909090909091, 0.09090909090909091, 0.09090909090909091, 0.09090909090909091, 0.09090909090909091, 0.09090909090909091, 0.09090909090909091, 0.09090909090909091, 0.09090909090909091, 0.09090909090909091]\n",
       " [0.09090909090909091, 0.09090909090909091, 0.09090909090909091, 0.09090909090909091, 0.09090909090909091, 0.09090909090909091, 0.09090909090909091, 0.09090909090909091, 0.09090909090909091, 0.09090909090909091, 0.09090909090909091]\n",
       " [0.09090909090909091, 0.09090909090909091, 0.09090909090909091, 0.09090909090909091, 0.09090909090909091, 0.09090909090909091, 0.09090909090909091, 0.09090909090909091, 0.09090909090909091, 0.09090909090909091, 0.09090909090909091]\n",
       " [0.09090909090909091, 0.09090909090909091, 0.09090909090909091, 0.09090909090909091, 0.09090909090909091, 0.09090909090909091, 0.09090909090909091, 0.09090909090909091, 0.09090909090909091, 0.09090909090909091, 0.09090909090909091]\n",
       " [0.09090909090909091, 0.09090909090909091, 0.09090909090909091, 0.09090909090909091, 0.09090909090909091, 0.09090909090909091, 0.09090909090909091, 0.09090909090909091, 0.09090909090909091, 0.09090909090909091, 0.09090909090909091]"
      ]
     },
     "execution_count": 143,
     "metadata": {},
     "output_type": "execute_result"
    }
   ],
   "source": [
    "Λ = OffsetVector([0,0,1], 0:2)\n",
    "K = OffsetVector([0,0,0,1], 0:3)\n",
    "\n",
    "\n",
    "N=5\n",
    "popsize=10000\n",
    "popQ = [OffsetVector(ones(2N+1)/(2N+1),-N:N) for i=1:popsize]\n",
    "popP = [OffsetVector(ones(2N+1)/(2N+1),-N:N) for i=1:popsize]"
   ]
  },
  {
   "cell_type": "code",
   "execution_count": 144,
   "metadata": {
    "scrolled": true
   },
   "outputs": [
    {
     "name": "stderr",
     "output_type": "stream",
     "text": [
      "\u001b[32mProgress: 100%|█████████████████████████████████████████| Time: 0:06:17\u001b[39m\n"
     ]
    }
   ],
   "source": [
    "popP, popQ = RSB(Λ,K; N=5, maxiter=100, popsize=popsize, popQ=popQ, popP=popP, y=1.0);"
   ]
  },
  {
   "cell_type": "code",
   "execution_count": 145,
   "metadata": {},
   "outputs": [
    {
     "data": {
      "text/plain": [
       "OrderedCollections.OrderedDict{Int64, Float64} with 7 entries:\n",
       "  -3 => 0.0074\n",
       "  -2 => 0.0998\n",
       "  -1 => 0.3281\n",
       "  0  => 0.4504\n",
       "  1  => 0.1079\n",
       "  2  => 0.0063\n",
       "  3  => 0.0001"
      ]
     },
     "execution_count": 145,
     "metadata": {},
     "output_type": "execute_result"
    }
   ],
   "source": [
    "using StatsBase\n",
    "\n",
    "sort(proportionmap(argmax.(popP)))"
   ]
  },
  {
   "cell_type": "code",
   "execution_count": 124,
   "metadata": {},
   "outputs": [
    {
     "name": "stdout",
     "output_type": "stream",
     "text": [
      "p' = [0.0 0.0 0.0 0.0 0.0 1.0 0.0 0.0 0.0]\n",
      "q1' = [0.0 0.0 0.0 0.0 1.0 0.0 0.0 0.0 0.0]\n"
     ]
    },
    {
     "data": {
      "text/plain": [
       "1×9 adjoint(OffsetArray(::Vector{Float64}, -4:4)) with eltype Float64 with indices Base.OneTo(1)×OffsetArrays.IdOffsetRange(-4:4):\n",
       " 0.0  0.0  0.0  0.0  1.0  0.0  0.0  0.0  0.0"
      ]
     },
     "execution_count": 124,
     "metadata": {},
     "output_type": "execute_result"
    }
   ],
   "source": [
    "using SparseArrays\n",
    "q=OffsetVector(zeros(2N+1),-N:N); q[1]=1\n",
    "\n",
    "Q=[q for i=1:2]; \n",
    "\n",
    "p=iter_slow_factor(Q, N);\n",
    "@show p'\n",
    "q1=iter_slow_var([p],N);\n",
    "@show q1'\n"
   ]
  },
  {
   "cell_type": "markdown",
   "metadata": {},
   "source": [
    "1RSB equations for Max-Sum (Survey Propagation) at finite parameter $y$\n",
    "---\n",
    "We consider the auxiliary statistical physics model\n",
    "\\begin{align}\n",
    "    P_y(\\{u_{ai},u_{ia}\\})=\\frac{1}{Z(y)}\\mathbb{I}\\left(\\{u_{ai},u_{ia}\\}\\text{sat Max-Sum}\\right)e^{-yF(\\{u_{ai},u_{ia}\\})}\n",
    "\\end{align}\n",
    "in which the variables are the Max-Sum messages living on the edges, and the constraints (that can be put in a factorized form) enforces the Max-Sum equations to be satisfied. Each Max-Sum solution represents a cluster. The Max-Sum solutions are weighted according to their Bethe free energy, which corresponds to the minimal energy (inside the cluster). In the $y\\to\\infty$ limit one keeps only the clusters with minimal energy\n",
    "\n",
    "* The distributions $Q_{ia}(u_{ia})$, $Q_{ai}(u_{ai})$ over Max-Sum messages obey the 1RSB equations :\n",
    "\\begin{align}\n",
    "    Q_{ia}(u_{ia})&=\\frac{1}{Z_{ia}}\\sum_{\\{u_{bi}\\}_{b\\in\\partial i\\setminus a}}\\delta(u_{ia}-f^{MS}_{ia}(\\{u_{bi}\\}_{b\\in\\partial i\\setminus a}))e^{-yC_{ia}}\\prod_{b\\in\\partial i\\setminus a}Q_{bi}(u_{bi}) \\\\\n",
    "    Q_{ai}(u_{ai})&=\\frac{1}{Z_{ai}}\\sum_{\\{u_{ja}\\}_{j\\in\\partial a\\setminus i}}\\delta(u_{ai}-f^{MS}_{ai}(\\{u_{ja}\\}_{j\\in\\partial a\\setminus i}))e^{-yC_{ai}}\\prod_{j\\in\\partial a\\setminus i}Q_{ja}(u_{ja})    \n",
    "\\end{align}\n",
    "where $u_{ia}-f^{MS}_{ia}(\\{u_{bi}\\}_{b\\in\\partial i\\setminus a})$, and $u_{ai}-f^{MS}_{ai}(\\{u_{ja}\\}_{j\\in\\partial a\\setminus i})$ are shorthand notation for the Max-Sum equations\n",
    "\\begin{align}\n",
    "    u_{ia}(\\sigma_i)&=s_i\\sigma_i+ \\sum_{b\\in\\partial i\\setminus a}u_{bi}(\\sigma_i) - C_{ia}\\\\\n",
    "    u_{ai}(\\sigma_i)&=\\max_{\\{\\sigma_j\\}_{j\\in\\partial a\\setminus i}:{\\rm sat}}\\left(\\sum_{j\\in\\partial a\\setminus i}u_{ja}(\\sigma_j)\\right) - C_{ai}\n",
    "\\end{align}\n",
    "and $C_{ia}$, $C_{ai}$ are the constants in the Max-Sum equations\n",
    "\\begin{align}\n",
    "    C_{ia}&=\\max_{\\sigma_i}\\left(s_i\\sigma_i+ \\sum_{b\\in\\partial i\\setminus a}u_{bi}(\\sigma_i)\\right)\\\\\n",
    "    C_{ai}&=\\max_{\\{\\sigma_i\\}_{i\\in\\partial a}:{\\rm sat}}\\left(\\sum_{j\\in\\partial a\\setminus i}u_{ja}(\\sigma_j)\\right)\n",
    "\\end{align}\n",
    "the constants $Z_{ia}$, $Z_{ai}$ are normalizations of the distributions $Q_{ia}$, $Q_{ai}$ over the Max-Sum messages\n",
    "\n",
    "* With the parametrization $u_{ai} = f_{ai}\\sigma_i+g_{ai}$ we get:\n",
    "\\begin{equation}\n",
    "    g_{ai} = -\\frac{1}{\\beta}\\log(2{\\rm cosh}(\\beta f_{ai})\\to-|f_{ai}|\n",
    "\\end{equation}\n",
    "Therefore :\n",
    "\\begin{align*}\n",
    "    C_{ia}&=\\max_{\\sigma_i}\\left(\\sigma_i\\left(s_i+ \\sum_{b\\in\\partial i\\setminus a}f_{bi}\\right)\\right) + \\sum_{b\\in\\partial i\\setminus a}g_{bi}\\\\\n",
    "    &=\\left|s_i+ \\sum_{b\\in\\partial i\\setminus a}f_{bi}\\right| - \\sum_{b\\in\\partial i\\setminus a}|f_{bi}|\n",
    "\\end{align*}\n",
    "and\n",
    "\\begin{align*}\n",
    "    C_{ai}&=\\max_{\\{\\sigma_i\\}_{i\\in\\partial a}:{\\rm sat}}\\left(\\sum_{j\\in\\partial a\\setminus i}f_{ja}\\sigma_j\\right)-\\sum_{j\\in\\partial a\\setminus i}|f_{ja}|\\\\\n",
    "    &= -2\\min_{j\\in\\partial a\\setminus i}|f_{ja}|\\Theta\\left(-\\prod_{j\\in\\partial a\\setminus j}f_{ja}\\right)\n",
    "\\end{align*}\n",
    "\n",
    "* We can then write the same 1RSB equations for the distributions $P_{ia}(f_{ia})$, $P_{ai}(f_{ai})$ over the integer parameters $f_{ia}$, $f_{ai}$. We can also write a closed equation on the distribution $P_{ai}$, using that :\n",
    "\\begin{equation}\n",
    "    P_{ai}(f_{ia})=\\frac{1}{Z_{ia}}\\sum_{\\{f_{bj}\\}_{j\\in\\partial a \\setminus i, b\\in\\partial j\\setminus a}}\\delta(f_{ia}-F^{MS}(\\{f_{bj}\\})e^{-y\\left(C_{ai}+\\sum_{j\\in\\partial a\\setminus i}C_{ja}\\right)}\\prod_{j\\in\\partial a \\setminus i, b\\in\\partial j\\setminus a}P_{bj}(f_{bj})\n",
    "\\end{equation}\n",
    "with:\n",
    "\\begin{align*}\n",
    "    C_{ai}+\\sum_{j\\in\\partial a\\setminus i}C_{ja} &= \\max_{\\sigma:sat}\\left(\\sum_{j\\in\\partial a \\setminus i}\\sigma_j\\left(s_j + \\sum_{b\\in\\partial j\\setminus a}f_{bj}\\right)\\right)-\\sum_{j\\in\\partial a\\setminus i}\\sum_{b\\in\\partial j\\setminus a}|f_{bj}|\n",
    "\\end{align*}\n",
    "\n",
    "* Random graph ensemble\n",
    "When the source and the factor graph are random variables the 1RSB messages $P_{ai}$, $(a,i)\\in E$ become random variables. Let $(a,i)$ be a uniformly chosen edge in a factor graph drawn from the random ensembl, and let $\\mathcal{P}$ be the distribution of the message $P_{ai}$ solution of the 1RSB equation written above. The distribution $\\mathcal{P}(p)$ obey consistency equation similar to the RS cavity equations:\n",
    "\\begin{align}\n",
    "    \\mathcal{P}(P)=\\sum_{k}\\tilde{P}_k\\sum_{d_1,\\dots, d_k}\\left(\\prod_{i=1}^k\\tilde{\\Lambda}_{d_i}\\right)\\int\\prod_{i=1}^k\\prod_{j=1}^{d_i}{\\rm d}\\mathcal{P}(P_{ij})\\delta(P-F^{1RSB}(\\{P_{i,j}\\}))\n",
    "\\end{align}\n",
    "This equation always admits a trivial fixed point $\\mathcal{P}(P)=\\delta[P-p^{RS}]$, where $p^{RS}$ is the solution of the RS cavity equation.\n",
    "In the RS phase, this trivial fixed-point is the unique solution, while in the 1RSB phase, the trivial solution becomes unstable and the above equation admits a non-trivial solution."
   ]
  },
  {
   "cell_type": "code",
   "execution_count": null,
   "metadata": {},
   "outputs": [],
   "source": []
  }
 ],
 "metadata": {
  "kernelspec": {
   "display_name": "Julia 1.6.0-beta1",
   "language": "julia",
   "name": "julia-1.6"
  },
  "language_info": {
   "file_extension": ".jl",
   "mimetype": "application/julia",
   "name": "julia",
   "version": "1.6.0"
  }
 },
 "nbformat": 4,
 "nbformat_minor": 4
}
