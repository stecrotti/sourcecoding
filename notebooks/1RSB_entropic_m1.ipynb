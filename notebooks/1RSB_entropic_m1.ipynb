{
 "cells": [
  {
   "cell_type": "code",
   "execution_count": 1,
   "metadata": {},
   "outputs": [],
   "source": [
    "using OffsetArrays"
   ]
  },
  {
   "cell_type": "code",
   "execution_count": 2,
   "metadata": {},
   "outputs": [
    {
     "data": {
      "text/plain": [
       "BP_tu (generic function with 1 method)"
      ]
     },
     "execution_count": 2,
     "metadata": {},
     "output_type": "execute_result"
    }
   ],
   "source": [
    "function BP_th(H, tus)\n",
    "    if maximum(abs.(tus)) < 1\n",
    "        th = tanh(H + sum(atanh.(tus)))\n",
    "        #@show maximum(abs.(tus)), tus, th\n",
    "    else\n",
    "        t = filter(x -> (x == 1.0 || x == -1), tus)\n",
    "        th = prod(t)\n",
    "        #@show maximum(abs.(tus)), tus, th\n",
    "    end\n",
    "    th\n",
    "end\n",
    "\n",
    "function BP_tu(s, ths)\n",
    "    tu = s*prod(ths)\n",
    "end"
   ]
  },
  {
   "cell_type": "code",
   "execution_count": 3,
   "metadata": {},
   "outputs": [
    {
     "data": {
      "text/plain": [
       "dist_sigmas (generic function with 1 method)"
      ]
     },
     "execution_count": 3,
     "metadata": {},
     "output_type": "execute_result"
    }
   ],
   "source": [
    "function dist_sigmas(s, ths_0, σs, ν)\n",
    "    k = length(ths_0)\n",
    "    ind = 0\n",
    "    for sig in Iterators.product(fill(-1:2:1,k)...)\n",
    "        ind += 1\n",
    "        σs[ind] = sig\n",
    "        if prod(sig) == s\n",
    "            ν[ind] = prod(1 .+ sig.*ths_0)\n",
    "        end\n",
    "    end\n",
    "    ν ./= sum(ν)\n",
    "    ν, σs\n",
    "end"
   ]
  },
  {
   "cell_type": "code",
   "execution_count": 4,
   "metadata": {},
   "outputs": [
    {
     "data": {
      "text/plain": [
       "residual (generic function with 1 method)"
      ]
     },
     "execution_count": 4,
     "metadata": {},
     "output_type": "execute_result"
    }
   ],
   "source": [
    "using StatsBase, ProgressMeter, Random\n",
    "residual(x) = (p=OffsetVector((x .* eachindex(x))[1:end], 0:lastindex(x)-1); p./=sum(p))"
   ]
  },
  {
   "cell_type": "code",
   "execution_count": 5,
   "metadata": {},
   "outputs": [
    {
     "data": {
      "text/plain": [
       "RS (generic function with 1 method)"
      ]
     },
     "execution_count": 5,
     "metadata": {},
     "output_type": "execute_result"
    }
   ],
   "source": [
    "function RS(Λ, K, H; \n",
    "        maxiter=100, \n",
    "        popsize=1000, \n",
    "        tol=1/(√popsize),\n",
    "        popP_RS = fill(0.0, 1:popsize),\n",
    "        popQ_RS = fill(0.0, 1:popsize)\n",
    "    )\n",
    "#        popP_RS = OffsetArray(rand(popsize).*2 .- 1, 1:popsize),\n",
    "#        popQ_RS = OffsetArray(rand(popsize).*2 .- 1, 1:popsize)\n",
    "\n",
    "    Λ1 = residual(Λ)\n",
    "    K1 = residual(K)\n",
    "    wΛ1 = weights(Λ1)\n",
    "    wK1 = weights(K1)\n",
    "    \n",
    "    @showprogress for t = 1:maxiter\n",
    "        for i = 1:popsize\n",
    "            k = sample(eachindex(K1), wK1)\n",
    "            ind_ths = rand(1:popsize, k)\n",
    "            ths = popP_RS[ind_ths]            \n",
    "            s = rand((-1,1))\n",
    "            popQ_RS[i] = BP_tu(s, ths)\n",
    "        end\n",
    "        for i = 1:popsize\n",
    "            d = sample(eachindex(Λ1), wΛ1)\n",
    "            ind_thu = rand(1:popsize, d)\n",
    "            thu = popQ_RS[ind_thu]\n",
    "            popP_RS[i] = BP_th(H, thu)\n",
    "        end\n",
    "    end\n",
    "    popP_RS, popQ_RS\n",
    "end"
   ]
  },
  {
   "cell_type": "code",
   "execution_count": 6,
   "metadata": {},
   "outputs": [
    {
     "data": {
      "text/plain": [
       "init_pop (generic function with 1 method)"
      ]
     },
     "execution_count": 6,
     "metadata": {},
     "output_type": "execute_result"
    }
   ],
   "source": [
    "function init_pop(pop_RS)\n",
    "    pop = fill(NaN, -1:1, 1:popsize)\n",
    "    pop[0,:]=popP_RS\n",
    "    pop[1,:].=0.9\n",
    "    pop[-1,:].=-0.9\n",
    "    pop\n",
    "end"
   ]
  },
  {
   "cell_type": "code",
   "execution_count": 7,
   "metadata": {},
   "outputs": [
    {
     "data": {
      "text/plain": [
       "RSB_entropic_m1 (generic function with 1 method)"
      ]
     },
     "execution_count": 7,
     "metadata": {},
     "output_type": "execute_result"
    }
   ],
   "source": [
    "function RSB_entropic_m1(Λ, K, H, popP_RS, popQ_RS; \n",
    "        maxiter=100, \n",
    "        popsize=1000, \n",
    "        tol=1/(√popsize),\n",
    "        popP = init_pop(popP_RS),\n",
    "        popQ = init_pop(popQ_RS)\n",
    "    )\n",
    "    \n",
    "    Λ1 = residual(Λ)\n",
    "    K1 = residual(K)\n",
    "    wΛ1 = weights(Λ1)\n",
    "    wK1 = weights(K1)\n",
    "\n",
    "    @showprogress for t = 1:maxiter\n",
    "        for i = 1:popsize\n",
    "            k = sample(eachindex(K1), wK1)\n",
    "            ind_ths = rand(1:popsize, k)\n",
    "            ths = popP[:,ind_ths]            \n",
    "            s = rand((-1,1))\n",
    "            popQ[0,i] = BP_tu(s, ths[0,:])\n",
    "            \n",
    "            ν = fill(0.0, 1:2^k)\n",
    "            σs = fill(tuple(fill(NaN, k)...), 1:2^k)\n",
    "            \n",
    "            ν, σs = dist_sigmas(s, ths[0,:], σs, ν)\n",
    "            wν = weights(ν)\n",
    "            ind = sample(eachindex(ν), wν)\n",
    "            σ = convert.(Int64, σs[ind])\n",
    "            elts = [ths[s,i] for (i,s) ∈ zip(eachindex(σ), σ)]\n",
    "            popQ[1,i] = BP_tu(s, elts)\n",
    "\n",
    "            ν, σs = dist_sigmas(-s, ths[0,:], σs, ν)\n",
    "            wν = weights(ν)\n",
    "            ind = sample(eachindex(ν), wν)\n",
    "            σ = convert.(Int64, σs[ind])\n",
    "            elts = [ths[s,i] for (i,s) ∈ zip(eachindex(σ), σ)]\n",
    "            popQ[-1,i] = BP_tu(s, elts)\n",
    "            \n",
    "\n",
    "        end\n",
    "        for i = 1:popsize\n",
    "            d = sample(eachindex(Λ1), wΛ1)\n",
    "            ind_thu = rand(1:popsize, d)\n",
    "            thu = popQ[:,ind_thu]\n",
    "            popP[0,i] = BP_th(H, thu[0,:])\n",
    "            popP[-1,i] = BP_th(H, thu[-1,:])\n",
    "            popP[1,i] = BP_th(H, thu[1,:])\n",
    "        end\n",
    "\n",
    "#        err = 100\n",
    "#        if err < tol\n",
    "#            @show t\n",
    "#            break\n",
    "#        end\n",
    "    end\n",
    "#    @show err\n",
    "    popP, popQ\n",
    "end"
   ]
  },
  {
   "cell_type": "code",
   "execution_count": 8,
   "metadata": {},
   "outputs": [
    {
     "data": {
      "text/plain": [
       "([0.9999999999770317, 0.9999954698669827, 0.999999684845146, 0.9843205787178834, -0.07548004156607804, -0.054177499541648556, 0.9999506138808374, 0.9999999963059111, 0.9999999913984702, 0.9978966443185856  …  0.99999992391671, 0.7901151936654868, 0.2652132816686444, -0.9975332630396376, 0.9984140702713508, 0.9832738580318086, 0.999998266190912, 0.9999841368549686, 0.9998017300964062, 0.9999999073104021], [0.9993459661938621, 0.3810352080386172, 0.3830389897151552, -0.9995358360859281, 0.9999981110372523, -0.9999920434764731, 0.9998986797418403, -0.25956586485612665, 0.9631521380822026, -0.8273458841142157  …  0.9999991186069893, 0.6207684463504248, -0.9397076637139269, 0.9999984461685857, 0.3830078059943452, 0.9999999962441549, -0.996709877384033, -0.9985956103771528, -0.9999996222503228, -0.9998619356472791])"
      ]
     },
     "execution_count": 8,
     "metadata": {},
     "output_type": "execute_result"
    }
   ],
   "source": [
    "f3 = 0.2\n",
    "Λ = OffsetVector([0,0,1-f3,f3], 0:3)\n",
    "K = OffsetVector([0,0,0,1], 0:3)\n",
    "H = 5.0\n",
    "popsize = 10^3\n",
    "popP_RS = fill(NaN, 1:popsize)\n",
    "popQ_RS = fill(NaN, 1:popsize)\n",
    "popP_RS, popQ_RS = RS(Λ, K, H, maxiter=10^2, popsize=popsize)"
   ]
  },
  {
   "cell_type": "code",
   "execution_count": 9,
   "metadata": {},
   "outputs": [
    {
     "name": "stderr",
     "output_type": "stream",
     "text": [
      "\u001b[32mProgress: 100%|█████████████████████████████████████████| Time: 0:00:25\u001b[39m\n"
     ]
    },
    {
     "data": {
      "text/plain": [
       "([-0.845835399250136 0.99117824857918 … 0.9982609300117176 0.9999207241360102; -0.7367325227673235 0.9725635408306545 … 0.9999999819302412 0.9998928486445158; -0.845835399250136 0.99117824857918 … 0.9982609300117176 0.9999207241360102], [0.9922733819038961 0.9958240970937188 … -0.4352270552835181 0.17636782286251765; 0.9447761027903945 0.9986015199820027 … 0.4908688607875974 0.22996601913626447; 0.9922733819038961 0.9958240970937188 … -0.4352270552835181 0.17636782286251765])"
      ]
     },
     "execution_count": 9,
     "metadata": {},
     "output_type": "execute_result"
    }
   ],
   "source": [
    "popP = fill(NaN, -1:1, 1:popsize);\n",
    "popQ = fill(NaN, -1:1, 1:popsize);\n",
    "popP, popQ = RSB_entropic_m1(Λ, K, H, popP_RS, popQ_RS, maxiter=10^3, popsize=popsize)"
   ]
  },
  {
   "cell_type": "code",
   "execution_count": 10,
   "metadata": {},
   "outputs": [
    {
     "data": {
      "text/plain": [
       "3×1000 OffsetArray(::Array{Float64,2}, -1:1, 1:1000) with eltype Float64 with indices -1:1×1:1000:\n",
       " 0.992273  0.995824  -0.999511  0.992225  …  0.998551  -0.435227  0.176368\n",
       " 0.944776  0.998602  -0.999004  0.944726     0.999193   0.490869  0.229966\n",
       " 0.992273  0.995824  -0.999511  0.992225     0.998551  -0.435227  0.176368"
      ]
     },
     "execution_count": 10,
     "metadata": {},
     "output_type": "execute_result"
    }
   ],
   "source": [
    "popQ"
   ]
  },
  {
   "cell_type": "code",
   "execution_count": 11,
   "metadata": {},
   "outputs": [
    {
     "data": {
      "text/plain": [
       "3×1000 OffsetArray(::Array{Float64,2}, -1:1, 1:1000) with eltype Float64 with indices -1:1×1:1000:\n",
       " -0.845835  0.991178  1.0  0.99774   …  0.983261  0.998261  0.999921\n",
       " -0.736733  0.972564  1.0  0.999999     0.919445  1.0       0.999893\n",
       " -0.845835  0.991178  1.0  0.99774      0.983261  0.998261  0.999921"
      ]
     },
     "execution_count": 11,
     "metadata": {},
     "output_type": "execute_result"
    }
   ],
   "source": [
    "popP"
   ]
  },
  {
   "cell_type": "code",
   "execution_count": 12,
   "metadata": {},
   "outputs": [
    {
     "data": {
      "text/plain": [
       "checkRS (generic function with 1 method)"
      ]
     },
     "execution_count": 12,
     "metadata": {},
     "output_type": "execute_result"
    }
   ],
   "source": [
    "function checkRS(popP; samples=1000)\n",
    "    q0=0.0; q1=0.0\n",
    "    for i=1:samples\n",
    "        ind = rand(1:popsize)\n",
    "        th = popP[:,ind]\n",
    "        q0 += th[0]^2\n",
    "        q1 += 0.5*th[1]*(1.0+th[0]) - 0.5*th[-1]*(1.0 - th[0])\n",
    "    end\n",
    "    q1= q1/samples; q0=q0/samples\n",
    "    q0-q1\n",
    "end"
   ]
  },
  {
   "cell_type": "code",
   "execution_count": 13,
   "metadata": {},
   "outputs": [
    {
     "data": {
      "text/plain": [
       "0.1582766548980571"
      ]
     },
     "execution_count": 13,
     "metadata": {},
     "output_type": "execute_result"
    }
   ],
   "source": [
    "checkRS(popP)"
   ]
  },
  {
   "cell_type": "markdown",
   "metadata": {},
   "source": [
    "Some tests\n",
    "---"
   ]
  },
  {
   "cell_type": "code",
   "execution_count": 14,
   "metadata": {},
   "outputs": [],
   "source": [
    "using Unzip"
   ]
  },
  {
   "cell_type": "markdown",
   "metadata": {},
   "source": [
    "$f_3=0.2$"
   ]
  },
  {
   "cell_type": "code",
   "execution_count": 15,
   "metadata": {},
   "outputs": [
    {
     "name": "stderr",
     "output_type": "stream",
     "text": [
      "\u001b[32mProgress: 100%|█████████████████████████████████████████| Time: 0:00:00\u001b[39m\n",
      "\u001b[32mProgress: 100%|█████████████████████████████████████████| Time: 0:00:23\u001b[39m\n"
     ]
    },
    {
     "name": "stdout",
     "output_type": "stream",
     "text": [
      "(H, V) = (1.0, -1.2431837670412449e-8)\n"
     ]
    },
    {
     "name": "stderr",
     "output_type": "stream",
     "text": [
      "\u001b[32mProgress: 100%|█████████████████████████████████████████| Time: 0:00:00\u001b[39m\n",
      "\u001b[32mProgress: 100%|█████████████████████████████████████████| Time: 0:00:22\u001b[39m\n"
     ]
    },
    {
     "name": "stdout",
     "output_type": "stream",
     "text": [
      "(H, V) = (1.1, -1.2910712710034744e-7)\n"
     ]
    },
    {
     "name": "stderr",
     "output_type": "stream",
     "text": [
      "\u001b[32mProgress: 100%|█████████████████████████████████████████| Time: 0:00:00\u001b[39m\n",
      "\u001b[32mProgress: 100%|█████████████████████████████████████████| Time: 0:00:21\u001b[39m\n"
     ]
    },
    {
     "name": "stdout",
     "output_type": "stream",
     "text": [
      "(H, V) = (1.2, -1.175258922514466e-6)\n"
     ]
    },
    {
     "name": "stderr",
     "output_type": "stream",
     "text": [
      "\u001b[32mProgress: 100%|█████████████████████████████████████████| Time: 0:00:00\u001b[39m\n",
      "\u001b[32mProgress: 100%|█████████████████████████████████████████| Time: 0:00:22\u001b[39m\n"
     ]
    },
    {
     "name": "stdout",
     "output_type": "stream",
     "text": [
      "(H, V) = (1.3, -7.443251501038084e-6)\n"
     ]
    },
    {
     "name": "stderr",
     "output_type": "stream",
     "text": [
      "\u001b[32mProgress: 100%|█████████████████████████████████████████| Time: 0:00:00\u001b[39m\n",
      "\u001b[32mProgress: 100%|█████████████████████████████████████████| Time: 0:00:22\u001b[39m\n"
     ]
    },
    {
     "name": "stdout",
     "output_type": "stream",
     "text": [
      "(H, V) = (1.4, -8.164789259124117e-5)\n"
     ]
    },
    {
     "name": "stderr",
     "output_type": "stream",
     "text": [
      "\u001b[32mProgress: 100%|█████████████████████████████████████████| Time: 0:00:00\u001b[39m\n",
      "\u001b[32mProgress: 100%|█████████████████████████████████████████| Time: 0:00:21\u001b[39m\n"
     ]
    },
    {
     "name": "stdout",
     "output_type": "stream",
     "text": [
      "(H, V) = (1.5, 0.00022785214887288685)\n"
     ]
    },
    {
     "name": "stderr",
     "output_type": "stream",
     "text": [
      "\u001b[32mProgress: 100%|█████████████████████████████████████████| Time: 0:00:00\u001b[39m\n",
      "\u001b[32mProgress: 100%|█████████████████████████████████████████| Time: 0:00:20\u001b[39m\n"
     ]
    },
    {
     "name": "stdout",
     "output_type": "stream",
     "text": [
      "(H, V) = (1.6, 0.00020696029467093258)\n"
     ]
    },
    {
     "name": "stderr",
     "output_type": "stream",
     "text": [
      "\u001b[32mProgress: 100%|█████████████████████████████████████████| Time: 0:00:00\u001b[39m\n",
      "\u001b[32mProgress: 100%|█████████████████████████████████████████| Time: 0:00:22\u001b[39m\n"
     ]
    },
    {
     "name": "stdout",
     "output_type": "stream",
     "text": [
      "(H, V) = (1.7, 0.0020725018070091306)\n"
     ]
    },
    {
     "name": "stderr",
     "output_type": "stream",
     "text": [
      "\u001b[32mProgress: 100%|█████████████████████████████████████████| Time: 0:00:00\u001b[39m\n",
      "\u001b[32mProgress: 100%|█████████████████████████████████████████| Time: 0:00:24\u001b[39m\n"
     ]
    },
    {
     "name": "stdout",
     "output_type": "stream",
     "text": [
      "(H, V) = (1.8, 0.0037634297729884914)\n"
     ]
    },
    {
     "name": "stderr",
     "output_type": "stream",
     "text": [
      "\u001b[32mProgress: 100%|█████████████████████████████████████████| Time: 0:00:01\u001b[39m\n",
      "\u001b[32mProgress: 100%|█████████████████████████████████████████| Time: 0:00:22\u001b[39m\n"
     ]
    },
    {
     "name": "stdout",
     "output_type": "stream",
     "text": [
      "(H, V) = (1.9, 0.011198638760238633)\n"
     ]
    },
    {
     "name": "stderr",
     "output_type": "stream",
     "text": [
      "\u001b[32mProgress: 100%|█████████████████████████████████████████| Time: 0:00:00\u001b[39m\n",
      "\u001b[32mProgress: 100%|█████████████████████████████████████████| Time: 0:00:22\u001b[39m\n"
     ]
    },
    {
     "name": "stdout",
     "output_type": "stream",
     "text": [
      "(H, V) = (2.0, 0.012268191826163677)\n"
     ]
    },
    {
     "data": {
      "text/plain": [
       "11-element Array{Float64,1}:\n",
       " -1.2431837670412449e-8\n",
       " -1.2910712710034744e-7\n",
       " -1.175258922514466e-6\n",
       " -7.443251501038084e-6\n",
       " -8.164789259124117e-5\n",
       "  0.00022785214887288685\n",
       "  0.00020696029467093258\n",
       "  0.0020725018070091306\n",
       "  0.0037634297729884914\n",
       "  0.011198638760238633\n",
       "  0.012268191826163677"
      ]
     },
     "execution_count": 15,
     "metadata": {},
     "output_type": "execute_result"
    }
   ],
   "source": [
    "f3 = 0.2\n",
    "Λ = OffsetVector([0,0,1-f3,f3], 0:3)\n",
    "K = OffsetVector([0,0,0,1], 0:3)\n",
    "popsize = 10^4\n",
    "\n",
    "Hs = 1.0:0.1:2.0\n",
    "Vs=fill(NaN, eachindex(Hs))\n",
    "\n",
    "for (i,H) in pairs(Hs)\n",
    "    popP_RS = fill(NaN, 1:popsize)\n",
    "    popQ_RS = fill(NaN, 1:popsize)\n",
    "    popP_RS, popQ_RS = RS(Λ, K, H, maxiter=10^2, popsize=popsize)\n",
    "\n",
    "    popP = fill(NaN, -1:1, 1:popsize);\n",
    "    popQ = fill(NaN, -1:1, 1:popsize);\n",
    "    popP, popQ = RSB_entropic_m1(Λ, K, H, popP_RS, popQ_RS, maxiter=10^2, popsize=popsize)\n",
    "    \n",
    "    V=checkRS(popP)\n",
    "    @show H, V\n",
    "    Vs[i] = V\n",
    "end\n",
    "V_r0p2_pop1e4_H1to2 = Vs"
   ]
  },
  {
   "cell_type": "code",
   "execution_count": 22,
   "metadata": {},
   "outputs": [],
   "source": [
    "V_r0p2_pop1e4_H1to2 = [-1.2431837670412449e-8,\n",
    " -1.2910712710034744e-7,\n",
    " -1.175258922514466e-6,\n",
    " -7.443251501038084e-6,\n",
    " -8.164789259124117e-5,\n",
    "  0.00022785214887288685,\n",
    "  0.00020696029467093258,\n",
    "  0.0020725018070091306,\n",
    "  0.0037634297729884914,\n",
    "  0.011198638760238633,\n",
    "  0.012268191826163677];"
   ]
  },
  {
   "cell_type": "code",
   "execution_count": 24,
   "metadata": {},
   "outputs": [
    {
     "name": "stderr",
     "output_type": "stream",
     "text": [
      "\u001b[32mProgress: 100%|█████████████████████████████████████████| Time: 0:00:09\u001b[39m\n",
      "\u001b[32mProgress: 100%|█████████████████████████████████████████| Time: 0:03:45\u001b[39m\n"
     ]
    },
    {
     "name": "stdout",
     "output_type": "stream",
     "text": [
      "(H, V) = (1.0, 0.0)\n"
     ]
    },
    {
     "name": "stderr",
     "output_type": "stream",
     "text": [
      "\u001b[32mProgress: 100%|█████████████████████████████████████████| Time: 0:00:08\u001b[39m\n",
      "\u001b[32mProgress: 100%|█████████████████████████████████████████| Time: 0:03:55\u001b[39m\n"
     ]
    },
    {
     "name": "stdout",
     "output_type": "stream",
     "text": [
      "(H, V) = (1.1, -1.1102230246251565e-16)\n"
     ]
    },
    {
     "name": "stderr",
     "output_type": "stream",
     "text": [
      "\u001b[32mProgress: 100%|█████████████████████████████████████████| Time: 0:00:08\u001b[39m\n",
      "\u001b[32mProgress: 100%|█████████████████████████████████████████| Time: 0:03:54\u001b[39m\n"
     ]
    },
    {
     "name": "stdout",
     "output_type": "stream",
     "text": [
      "(H, V) = (1.2, 0.0)\n"
     ]
    },
    {
     "name": "stderr",
     "output_type": "stream",
     "text": [
      "\u001b[32mProgress: 100%|█████████████████████████████████████████| Time: 0:00:08\u001b[39m\n",
      "\u001b[32mProgress: 100%|█████████████████████████████████████████| Time: 0:03:55\u001b[39m\n"
     ]
    },
    {
     "name": "stdout",
     "output_type": "stream",
     "text": [
      "(H, V) = (1.3, -2.220446049250313e-16)\n"
     ]
    },
    {
     "name": "stderr",
     "output_type": "stream",
     "text": [
      "\u001b[32mProgress: 100%|█████████████████████████████████████████| Time: 0:00:09\u001b[39m\n",
      "\u001b[32mProgress: 100%|█████████████████████████████████████████| Time: 0:03:55\u001b[39m\n"
     ]
    },
    {
     "name": "stdout",
     "output_type": "stream",
     "text": [
      "(H, V) = (1.4, 1.1102230246251565e-16)\n"
     ]
    },
    {
     "name": "stderr",
     "output_type": "stream",
     "text": [
      "\u001b[32mProgress: 100%|█████████████████████████████████████████| Time: 0:00:09\u001b[39m\n",
      "\u001b[32mProgress: 100%|█████████████████████████████████████████| Time: 0:03:51\u001b[39m\n"
     ]
    },
    {
     "name": "stdout",
     "output_type": "stream",
     "text": [
      "(H, V) = (1.5, 1.1102230246251565e-16)\n"
     ]
    },
    {
     "name": "stderr",
     "output_type": "stream",
     "text": [
      "\u001b[32mProgress: 100%|█████████████████████████████████████████| Time: 0:00:07\u001b[39m\n",
      "\u001b[32mProgress: 100%|█████████████████████████████████████████| Time: 0:03:18\u001b[39m\n"
     ]
    },
    {
     "name": "stdout",
     "output_type": "stream",
     "text": [
      "(H, V) = (1.6, 5.397904345727511e-13)\n"
     ]
    },
    {
     "name": "stderr",
     "output_type": "stream",
     "text": [
      "\u001b[32mProgress: 100%|█████████████████████████████████████████| Time: 0:00:07\u001b[39m\n",
      "\u001b[32mProgress: 100%|█████████████████████████████████████████| Time: 0:03:10\u001b[39m\n"
     ]
    },
    {
     "name": "stdout",
     "output_type": "stream",
     "text": [
      "(H, V) = (1.7, -1.3015657440718087e-9)\n"
     ]
    },
    {
     "name": "stderr",
     "output_type": "stream",
     "text": [
      "\u001b[32mProgress: 100%|█████████████████████████████████████████| Time: 0:00:06\u001b[39m\n",
      "\u001b[32mProgress: 100%|█████████████████████████████████████████| Time: 0:03:00\u001b[39m\n"
     ]
    },
    {
     "name": "stdout",
     "output_type": "stream",
     "text": [
      "(H, V) = (1.8, -9.860486092083676e-6)\n"
     ]
    },
    {
     "name": "stderr",
     "output_type": "stream",
     "text": [
      "\u001b[32mProgress: 100%|█████████████████████████████████████████| Time: 0:00:07\u001b[39m\n",
      "\u001b[32mProgress: 100%|█████████████████████████████████████████| Time: 0:02:27\u001b[39m\n"
     ]
    },
    {
     "name": "stdout",
     "output_type": "stream",
     "text": [
      "(H, V) = (1.9, 0.0014831926405997065)\n"
     ]
    },
    {
     "name": "stderr",
     "output_type": "stream",
     "text": [
      "\u001b[32mProgress: 100%|█████████████████████████████████████████| Time: 0:00:04\u001b[39m\n",
      "\u001b[32mProgress: 100%|█████████████████████████████████████████| Time: 0:02:35\u001b[39m\n"
     ]
    },
    {
     "name": "stdout",
     "output_type": "stream",
     "text": [
      "(H, V) = (2.0, 0.009661425390294465)\n"
     ]
    },
    {
     "data": {
      "text/plain": [
       "11-element Array{Float64,1}:\n",
       "  0.0\n",
       " -1.1102230246251565e-16\n",
       "  0.0\n",
       " -2.220446049250313e-16\n",
       "  1.1102230246251565e-16\n",
       "  1.1102230246251565e-16\n",
       "  5.397904345727511e-13\n",
       " -1.3015657440718087e-9\n",
       " -9.860486092083676e-6\n",
       "  0.0014831926405997065\n",
       "  0.009661425390294465"
      ]
     },
     "execution_count": 24,
     "metadata": {},
     "output_type": "execute_result"
    }
   ],
   "source": [
    "f3 = 0.2\n",
    "Λ = OffsetVector([0,0,1-f3,f3], 0:3)\n",
    "K = OffsetVector([0,0,0,1], 0:3)\n",
    "popsize = 10^4\n",
    "\n",
    "Hs = 1.0:0.1:2.0\n",
    "Vs=fill(NaN, eachindex(Hs))\n",
    "\n",
    "for (i,H) in pairs(Hs)\n",
    "    popP_RS = fill(NaN, 1:popsize)\n",
    "    popQ_RS = fill(NaN, 1:popsize)\n",
    "    popP_RS, popQ_RS = RS(Λ, K, H, maxiter=10^3, popsize=popsize)\n",
    "\n",
    "    popP = fill(NaN, -1:1, 1:popsize);\n",
    "    popQ = fill(NaN, -1:1, 1:popsize);\n",
    "    popP, popQ = RSB_entropic_m1(Λ, K, H, popP_RS, popQ_RS, maxiter=10^3, popsize=popsize)\n",
    "    \n",
    "    V=checkRS(popP)\n",
    "    @show H, V\n",
    "    Vs[i] = V\n",
    "end\n",
    "V_r0p2_pop1e4_H1to2_longiter = Vs"
   ]
  },
  {
   "cell_type": "code",
   "execution_count": 21,
   "metadata": {},
   "outputs": [],
   "source": [
    "V_r0p2_pop1e4_H1to2_longiter = [0.0,\n",
    " -1.1102230246251565e-16,\n",
    "  0.0,\n",
    " -2.220446049250313e-16,\n",
    "  1.1102230246251565e-16,\n",
    "  1.1102230246251565e-16,\n",
    "  5.397904345727511e-13,\n",
    " -1.3015657440718087e-9,\n",
    " -9.860486092083676e-6,\n",
    "  0.0014831926405997065,\n",
    "  0.009661425390294465];"
   ]
  },
  {
   "cell_type": "code",
   "execution_count": 25,
   "metadata": {},
   "outputs": [
    {
     "name": "stderr",
     "output_type": "stream",
     "text": [
      "\u001b[32mProgress: 100%|█████████████████████████████████████████| Time: 0:02:12\u001b[39m\n",
      "\u001b[32mProgress: 100%|█████████████████████████████████████████| Time: 0:36:27\u001b[39m\n"
     ]
    },
    {
     "name": "stdout",
     "output_type": "stream",
     "text": [
      "(H, V) = (1.0, 1.1102230246251565e-16)\n"
     ]
    },
    {
     "name": "stderr",
     "output_type": "stream",
     "text": [
      "\u001b[32mProgress: 100%|█████████████████████████████████████████| Time: 0:01:25\u001b[39m\n",
      "\u001b[32mProgress: 100%|█████████████████████████████████████████| Time: 0:33:08\u001b[39m\n"
     ]
    },
    {
     "name": "stdout",
     "output_type": "stream",
     "text": [
      "(H, V) = (1.1, 0.0)\n"
     ]
    },
    {
     "name": "stderr",
     "output_type": "stream",
     "text": [
      "\u001b[32mProgress: 100%|█████████████████████████████████████████| Time: 0:01:50\u001b[39m\n",
      "\u001b[32mProgress: 100%|█████████████████████████████████████████| Time: 0:31:00\u001b[39m\n"
     ]
    },
    {
     "name": "stdout",
     "output_type": "stream",
     "text": [
      "(H, V) = (1.2, 0.0)\n"
     ]
    },
    {
     "name": "stderr",
     "output_type": "stream",
     "text": [
      "\u001b[32mProgress: 100%|█████████████████████████████████████████| Time: 0:01:55\u001b[39m\n",
      "\u001b[32mProgress: 100%|█████████████████████████████████████████| Time: 0:33:30\u001b[39m\n"
     ]
    },
    {
     "name": "stdout",
     "output_type": "stream",
     "text": [
      "(H, V) = (1.3, 0.0)\n"
     ]
    },
    {
     "name": "stderr",
     "output_type": "stream",
     "text": [
      "\u001b[32mProgress: 100%|█████████████████████████████████████████| Time: 0:01:10\u001b[39m\n",
      "\u001b[32mProgress: 100%|█████████████████████████████████████████| Time: 0:35:35\u001b[39m\n"
     ]
    },
    {
     "name": "stdout",
     "output_type": "stream",
     "text": [
      "(H, V) = (1.4, 0.0)\n"
     ]
    },
    {
     "name": "stderr",
     "output_type": "stream",
     "text": [
      "\u001b[32mProgress: 100%|█████████████████████████████████████████| Time: 0:01:37\u001b[39m\n",
      "\u001b[32mProgress: 100%|█████████████████████████████████████████| Time: 0:31:27\u001b[39m\n"
     ]
    },
    {
     "name": "stdout",
     "output_type": "stream",
     "text": [
      "(H, V) = (1.5, 0.0)\n"
     ]
    },
    {
     "name": "stderr",
     "output_type": "stream",
     "text": [
      "\u001b[32mProgress: 100%|█████████████████████████████████████████| Time: 0:01:46\u001b[39m\n",
      "\u001b[32mProgress: 100%|█████████████████████████████████████████| Time: 0:32:21\u001b[39m\n"
     ]
    },
    {
     "name": "stdout",
     "output_type": "stream",
     "text": [
      "(H, V) = (1.6, 8.826273045769994e-14)\n"
     ]
    },
    {
     "name": "stderr",
     "output_type": "stream",
     "text": [
      "\u001b[32mProgress: 100%|█████████████████████████████████████████| Time: 0:01:45\u001b[39m\n",
      "\u001b[32mProgress: 100%|█████████████████████████████████████████| Time: 0:35:31\u001b[39m\n"
     ]
    },
    {
     "name": "stdout",
     "output_type": "stream",
     "text": [
      "(H, V) = (1.7, 6.087838011481495e-10)\n"
     ]
    },
    {
     "name": "stderr",
     "output_type": "stream",
     "text": [
      "\u001b[32mProgress: 100%|█████████████████████████████████████████| Time: 0:01:36\u001b[39m\n",
      "\u001b[32mProgress: 100%|█████████████████████████████████████████| Time: 0:33:35\u001b[39m\n"
     ]
    },
    {
     "name": "stdout",
     "output_type": "stream",
     "text": [
      "(H, V) = (1.8, -6.479333952702504e-6)\n"
     ]
    },
    {
     "name": "stderr",
     "output_type": "stream",
     "text": [
      "\u001b[32mProgress: 100%|█████████████████████████████████████████| Time: 0:01:37\u001b[39m\n",
      "\u001b[32mProgress: 100%|█████████████████████████████████████████| Time: 0:30:50\u001b[39m\n"
     ]
    },
    {
     "name": "stdout",
     "output_type": "stream",
     "text": [
      "(H, V) = (1.9, 0.0025196195009761224)\n"
     ]
    },
    {
     "name": "stderr",
     "output_type": "stream",
     "text": [
      "\u001b[32mProgress: 100%|█████████████████████████████████████████| Time: 0:02:04\u001b[39m\n",
      "\u001b[32mProgress: 100%|█████████████████████████████████████████| Time: 0:31:46\u001b[39m\n"
     ]
    },
    {
     "name": "stdout",
     "output_type": "stream",
     "text": [
      "(H, V) = (2.0, 0.013895688261529981)\n"
     ]
    },
    {
     "data": {
      "text/plain": [
       "11-element Array{Float64,1}:\n",
       "  1.1102230246251565e-16\n",
       "  0.0\n",
       "  0.0\n",
       "  0.0\n",
       "  0.0\n",
       "  0.0\n",
       "  8.826273045769994e-14\n",
       "  6.087838011481495e-10\n",
       " -6.479333952702504e-6\n",
       "  0.0025196195009761224\n",
       "  0.013895688261529981"
      ]
     },
     "execution_count": 25,
     "metadata": {},
     "output_type": "execute_result"
    }
   ],
   "source": [
    "f3 = 0.2\n",
    "Λ = OffsetVector([0,0,1-f3,f3], 0:3)\n",
    "K = OffsetVector([0,0,0,1], 0:3)\n",
    "popsize = 10^5\n",
    "\n",
    "Hs = 1.0:0.1:2.0\n",
    "Vs=fill(NaN, eachindex(Hs))\n",
    "\n",
    "for (i,H) in pairs(Hs)\n",
    "    popP_RS = fill(NaN, 1:popsize)\n",
    "    popQ_RS = fill(NaN, 1:popsize)\n",
    "    popP_RS, popQ_RS = RS(Λ, K, H, maxiter=10^3, popsize=popsize)\n",
    "\n",
    "    popP = fill(NaN, -1:1, 1:popsize);\n",
    "    popQ = fill(NaN, -1:1, 1:popsize);\n",
    "    popP, popQ = RSB_entropic_m1(Λ, K, H, popP_RS, popQ_RS, maxiter=10^3, popsize=popsize)\n",
    "    \n",
    "    V=checkRS(popP)\n",
    "    @show H, V\n",
    "    Vs[i] = V\n",
    "end\n",
    "V_r0p2_pop1e5_H1to2_longiter = Vs"
   ]
  },
  {
   "cell_type": "code",
   "execution_count": 20,
   "metadata": {},
   "outputs": [],
   "source": [
    "V_r0p2_pop1e5_H1to2_longiter = [1.1102230246251565e-16,\n",
    "  0.0,\n",
    "  0.0,\n",
    "  0.0,\n",
    "  0.0,\n",
    "  0.0,\n",
    "  8.826273045769994e-14,\n",
    "  6.087838011481495e-10,\n",
    " -6.479333952702504e-6,\n",
    "  0.0025196195009761224,\n",
    "  0.013895688261529981];"
   ]
  },
  {
   "cell_type": "code",
   "execution_count": 26,
   "metadata": {},
   "outputs": [
    {
     "name": "stderr",
     "output_type": "stream",
     "text": [
      "\u001b[32mProgress: 100%|█████████████████████████████████████████| Time: 0:00:06\u001b[39m\n",
      "\u001b[32mProgress: 100%|█████████████████████████████████████████| Time: 0:03:17\u001b[39m\n"
     ]
    },
    {
     "name": "stdout",
     "output_type": "stream",
     "text": [
      "(H, V) = (1.0, 4.7571357741915676e-8)\n"
     ]
    },
    {
     "name": "stderr",
     "output_type": "stream",
     "text": [
      "\u001b[32mProgress: 100%|█████████████████████████████████████████| Time: 0:00:12\u001b[39m\n",
      "\u001b[32mProgress: 100%|█████████████████████████████████████████| Time: 0:03:34\u001b[39m\n"
     ]
    },
    {
     "name": "stdout",
     "output_type": "stream",
     "text": [
      "(H, V) = (1.1, 6.447379219398641e-8)\n"
     ]
    },
    {
     "name": "stderr",
     "output_type": "stream",
     "text": [
      "\u001b[32mProgress: 100%|█████████████████████████████████████████| Time: 0:00:10\u001b[39m\n",
      "\u001b[32mProgress: 100%|█████████████████████████████████████████| Time: 0:03:27\u001b[39m\n"
     ]
    },
    {
     "name": "stdout",
     "output_type": "stream",
     "text": [
      "(H, V) = (1.2, 2.78427573008333e-6)\n"
     ]
    },
    {
     "name": "stderr",
     "output_type": "stream",
     "text": [
      "\u001b[32mProgress: 100%|█████████████████████████████████████████| Time: 0:00:11\u001b[39m\n",
      "\u001b[32mProgress: 100%|█████████████████████████████████████████| Time: 0:03:43\u001b[39m\n"
     ]
    },
    {
     "name": "stdout",
     "output_type": "stream",
     "text": [
      "(H, V) = (1.3, -4.4602767995671755e-6)\n"
     ]
    },
    {
     "name": "stderr",
     "output_type": "stream",
     "text": [
      "\u001b[32mProgress: 100%|█████████████████████████████████████████| Time: 0:00:11\u001b[39m\n",
      "\u001b[32mProgress: 100%|█████████████████████████████████████████| Time: 0:03:29\u001b[39m\n"
     ]
    },
    {
     "name": "stdout",
     "output_type": "stream",
     "text": [
      "(H, V) = (1.4, -5.870908449301382e-5)\n"
     ]
    },
    {
     "name": "stderr",
     "output_type": "stream",
     "text": [
      "\u001b[32mProgress: 100%|█████████████████████████████████████████| Time: 0:00:11\u001b[39m\n",
      "\u001b[32mProgress: 100%|█████████████████████████████████████████| Time: 0:03:52\u001b[39m\n"
     ]
    },
    {
     "name": "stdout",
     "output_type": "stream",
     "text": [
      "(H, V) = (1.5, -0.0001509384695248528)\n"
     ]
    },
    {
     "name": "stderr",
     "output_type": "stream",
     "text": [
      "\u001b[32mProgress: 100%|█████████████████████████████████████████| Time: 0:00:13\u001b[39m\n",
      "\u001b[32mProgress: 100%|█████████████████████████████████████████| Time: 0:03:41\u001b[39m\n"
     ]
    },
    {
     "name": "stdout",
     "output_type": "stream",
     "text": [
      "(H, V) = (1.6, -0.00021217519677152463)\n"
     ]
    },
    {
     "name": "stderr",
     "output_type": "stream",
     "text": [
      "\u001b[32mProgress: 100%|█████████████████████████████████████████| Time: 0:00:11\u001b[39m\n",
      "\u001b[32mProgress: 100%|█████████████████████████████████████████| Time: 0:03:31\u001b[39m\n"
     ]
    },
    {
     "name": "stdout",
     "output_type": "stream",
     "text": [
      "(H, V) = (1.7, 0.0030698619804661043)\n"
     ]
    },
    {
     "name": "stderr",
     "output_type": "stream",
     "text": [
      "\u001b[32mProgress: 100%|█████████████████████████████████████████| Time: 0:00:11\u001b[39m\n",
      "\u001b[32mProgress: 100%|█████████████████████████████████████████| Time: 0:03:25\u001b[39m\n"
     ]
    },
    {
     "name": "stdout",
     "output_type": "stream",
     "text": [
      "(H, V) = (1.8, 0.005602499054640497)\n"
     ]
    },
    {
     "name": "stderr",
     "output_type": "stream",
     "text": [
      "\u001b[32mProgress: 100%|█████████████████████████████████████████| Time: 0:00:10\u001b[39m\n",
      "\u001b[32mProgress: 100%|█████████████████████████████████████████| Time: 0:03:16\u001b[39m\n"
     ]
    },
    {
     "name": "stdout",
     "output_type": "stream",
     "text": [
      "(H, V) = (1.9, 0.012944775537218955)\n"
     ]
    },
    {
     "name": "stderr",
     "output_type": "stream",
     "text": [
      "\u001b[32mProgress: 100%|█████████████████████████████████████████| Time: 0:00:09\u001b[39m\n",
      "\u001b[32mProgress: 100%|█████████████████████████████████████████| Time: 0:03:00\u001b[39m\n"
     ]
    },
    {
     "name": "stdout",
     "output_type": "stream",
     "text": [
      "(H, V) = (2.0, 0.013971476799371607)\n"
     ]
    },
    {
     "data": {
      "text/plain": [
       "11-element Array{Float64,1}:\n",
       "  4.7571357741915676e-8\n",
       "  6.447379219398641e-8\n",
       "  2.78427573008333e-6\n",
       " -4.4602767995671755e-6\n",
       " -5.870908449301382e-5\n",
       " -0.0001509384695248528\n",
       " -0.00021217519677152463\n",
       "  0.0030698619804661043\n",
       "  0.005602499054640497\n",
       "  0.012944775537218955\n",
       "  0.013971476799371607"
      ]
     },
     "execution_count": 26,
     "metadata": {},
     "output_type": "execute_result"
    }
   ],
   "source": [
    "f3 = 0.2\n",
    "Λ = OffsetVector([0,0,1-f3,f3], 0:3)\n",
    "K = OffsetVector([0,0,0,1], 0:3)\n",
    "popsize = 10^5\n",
    "\n",
    "Hs = 1.0:0.1:2.0\n",
    "Vs=fill(NaN, eachindex(Hs))\n",
    "\n",
    "for (i,H) in pairs(Hs)\n",
    "    popP_RS = fill(NaN, 1:popsize)\n",
    "    popQ_RS = fill(NaN, 1:popsize)\n",
    "    popP_RS, popQ_RS = RS(Λ, K, H, maxiter=10^2, popsize=popsize)\n",
    "\n",
    "    popP = fill(NaN, -1:1, 1:popsize);\n",
    "    popQ = fill(NaN, -1:1, 1:popsize);\n",
    "    popP, popQ = RSB_entropic_m1(Λ, K, H, popP_RS, popQ_RS, maxiter=10^2, popsize=popsize)\n",
    "    \n",
    "    V=checkRS(popP)\n",
    "    @show H, V\n",
    "    Vs[i] = V\n",
    "end\n",
    "V_r0p2_pop1e5_H1to2 = Vs"
   ]
  },
  {
   "cell_type": "code",
   "execution_count": 19,
   "metadata": {},
   "outputs": [],
   "source": [
    "V_r0p2_pop1e5_H1to2 = [4.7571357741915676e-8,\n",
    "  6.447379219398641e-8,\n",
    "  2.78427573008333e-6,\n",
    " -4.4602767995671755e-6,\n",
    " -5.870908449301382e-5,\n",
    " -0.0001509384695248528,\n",
    " -0.00021217519677152463,\n",
    "  0.0030698619804661043,\n",
    "  0.005602499054640497,\n",
    "  0.012944775537218955,\n",
    "  0.013971476799371607];"
   ]
  },
  {
   "cell_type": "code",
   "execution_count": 18,
   "metadata": {},
   "outputs": [
    {
     "data": {
      "image/png": "[encoded data removed]",
      "text/plain": [
       "Figure(PyObject <Figure size 640x480 with 1 Axes>)"
      ]
     },
     "metadata": {},
     "output_type": "display_data"
    },
    {
     "data": {
      "text/plain": [
       "PyObject <matplotlib.legend.Legend object at 0x7f87c804f898>"
      ]
     },
     "execution_count": 18,
     "metadata": {},
     "output_type": "execute_result"
    }
   ],
   "source": [
    "using PyPlot\n",
    "xlabel(\"H\")\n",
    "ylabel(\"V\")\n",
    "Hs = 1.0:0.1:2.0\n",
    "plot(Hs,V_r0p2_pop1e4_H1to2, \"+\", label=\"pop=10^4, iter=100\")\n",
    "plot(Hs,V_r0p2_pop1e4_H1to2_longiter, \".\", label=\"pop=10^4, iter=1000\")\n",
    "plot(Hs,V_r0p2_pop1e5_H1to2, \"*\", label=\"pop=10^5, iter=100\")\n",
    "plot(Hs,V_r0p2_pop1e5_H1to2_longiter, \"+\", label=\"pop=10^5, iter=1000\")\n",
    "\n",
    "\n",
    "legend()"
   ]
  },
  {
   "cell_type": "code",
   "execution_count": null,
   "metadata": {},
   "outputs": [],
   "source": []
  }
 ],
 "metadata": {
  "kernelspec": {
   "display_name": "Julia 1.5.3",
   "language": "julia",
   "name": "julia-1.5"
  },
  "language_info": {
   "file_extension": ".jl",
   "mimetype": "application/julia",
   "name": "julia",
   "version": "1.5.3"
  }
 },
 "nbformat": 4,
 "nbformat_minor": 4
}
