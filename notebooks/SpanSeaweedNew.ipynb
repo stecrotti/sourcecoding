{
 "cells": [
  {
   "cell_type": "markdown",
   "metadata": {},
   "source": [
    "**GOAL**: check if we can build a sparse basis using seaweeds\n",
    "\n",
    "- Build graph\n",
    "- Remove some factors to expose leaves\n",
    "- Build seaweeds and add them to a basis until they form a complete set\n",
    "- Keep track of the maximum hamming weight within the basis"
   ]
  },
  {
   "cell_type": "code",
   "execution_count": 67,
   "metadata": {},
   "outputs": [],
   "source": [
    "include(\"../code/headers.jl\")\n",
    "include(\"../code/slim_graphs.jl\")\n",
    "using OffsetArrays"
   ]
  },
  {
   "cell_type": "markdown",
   "metadata": {},
   "source": [
    "To check whether $v\\in span\\{\\mathcal{B}\\}$ where $\\mathcal{B}=\\{v_1,...,v_k\\}$, write the system $B\\lambda=v$ and use gaussian elimination. If the system can be put in row echelon form, then the vector lies in the span"
   ]
  },
  {
   "cell_type": "code",
   "execution_count": 80,
   "metadata": {},
   "outputs": [
    {
     "data": {
      "text/plain": [
       "isinspan (generic function with 2 methods)"
      ]
     },
     "execution_count": 80,
     "metadata": {},
     "output_type": "execute_result"
    }
   ],
   "source": [
    "function isinspan(v, B)\n",
    "   if isempty(B) \n",
    "        return false\n",
    "    else\n",
    "        Baug=[B v]\n",
    "        gfrrefGF2!(Baug)\n",
    "        # check for all-zero rows\n",
    "        for r in size(Baug,1):-1:1\n",
    "            if iszero(Baug[r,1:end-1]) \n",
    "                if iszero(Baug[r,end])\n",
    "                    continue\n",
    "                else\n",
    "                    return false\n",
    "                end\n",
    "            else\n",
    "                return true\n",
    "            end\n",
    "        end\n",
    "    end\n",
    "end"
   ]
  },
  {
   "cell_type": "code",
   "execution_count": 86,
   "metadata": {},
   "outputs": [
    {
     "data": {
      "text/plain": [
       "seaweed_basis (generic function with 1 method)"
      ]
     },
     "execution_count": 86,
     "metadata": {},
     "output_type": "execute_result"
    }
   ],
   "source": [
    "function seaweed_basis(nsw, fg, dim, depths, isincore)\n",
    "    B = falses(0,0)\n",
    "    cnt = 1\n",
    "    sw = falses(fg.n)\n",
    "    for i in 1:nsw\n",
    "        seed = rand(not_in_core)\n",
    "        sw .= seaweed_rec(fg, seed, depths, isincore)\n",
    "        if !isinspan(sw, B)\n",
    "            B = [B sw]\n",
    "        end\n",
    "        # if the whole space is spanned, return\n",
    "        if size(B,2) == dim\n",
    "            return B, cnt\n",
    "        end\n",
    "    end\n",
    "    println(\"Not enough iterations to span the whole space\")\n",
    "    return B, nsw\n",
    "end"
   ]
  },
  {
   "cell_type": "code",
   "execution_count": 62,
   "metadata": {},
   "outputs": [
    {
     "name": "stdout",
     "output_type": "stream",
     "text": [
      "n = 90\n"
     ]
    },
    {
     "data": {
      "text/plain": [
       "1"
      ]
     },
     "execution_count": 62,
     "metadata": {},
     "output_type": "execute_result"
    }
   ],
   "source": [
    "m = factorial(3)*11\n",
    "R = 0.8/3\n",
    "r = 1 - 3R\n",
    "n = round(Int, 3m/(2+r))\n",
    "@show n\n",
    "Λ = [0,1-r,r]\n",
    "K = [0,0,1]\n",
    "nedges = 3m\n",
    "lambda,rho = nodes2edges(Λ,K)\n",
    "b = 1"
   ]
  },
  {
   "cell_type": "code",
   "execution_count": 78,
   "metadata": {},
   "outputs": [
    {
     "data": {
      "text/plain": [
       "25"
      ]
     },
     "execution_count": 78,
     "metadata": {},
     "output_type": "execute_result"
    }
   ],
   "source": [
    "nsw = 10\n",
    "fg = ldpc_graphGF2(n,m,nedges,lambda,rho, accept_multiedges=false)\n",
    "ff = breduction!(fg, b)\n",
    "fg.H[:,ff] .= 0\n",
    "depths = lr(fg)[1]\n",
    "isincore = (depths .== 0)\n",
    "not_in_core = findall(.!isincore)\n",
    "# use gaussian elim to get size of nullspace\n",
    "H = Array(fg.H)\n",
    "H, dep = gfrrefGF2!(H)\n",
    "dim = fg.n - length(dep)"
   ]
  },
  {
   "cell_type": "code",
   "execution_count": null,
   "metadata": {},
   "outputs": [],
   "source": [
    "B = "
   ]
  }
 ],
 "metadata": {
  "kernelspec": {
   "display_name": "Julia 1.6.1-pre",
   "language": "julia",
   "name": "julia-1.6"
  },
  "language_info": {
   "file_extension": ".jl",
   "mimetype": "application/julia",
   "name": "julia",
   "version": "1.6.1"
  }
 },
 "nbformat": 4,
 "nbformat_minor": 4
}
