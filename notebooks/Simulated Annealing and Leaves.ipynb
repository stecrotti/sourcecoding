{
 "cells": [
  {
   "cell_type": "markdown",
   "metadata": {},
   "source": [
    "# Simulated Annealing and Leaves\n",
    "--------------\n",
    "\n",
    "Run Simulated Annealing with Monte Carlo move consisting of: \n",
    "* pick a random floppy variable\n",
    "* grow a seaweed\n",
    "* flip all variables touched by the seaweed\n",
    "\n",
    "**Goal**: see whether we get better results with graphs with more leaves"
   ]
  },
  {
   "cell_type": "code",
   "execution_count": 41,
   "metadata": {},
   "outputs": [],
   "source": [
    "using Printf, Plots\n",
    "include(\"../code/headers.jl\")\n",
    "include(\"../code/SimulationNEW.jl\")"
   ]
  },
  {
   "cell_type": "markdown",
   "metadata": {},
   "source": [
    "With graph size $n=1000$, expose leaves via $b$-reduction with $b \\in [1, 3, 5, 10, 20, 50, 100, 200, 400]$.\n",
    "\n",
    "_Note_ : the number of factors $m$ is always the same! If for example $b=4$, a graph with $m+4$ factors is built, then $4$ are removed.\n",
    "\n",
    "Run compression over `niter` random {graph, source vector} instances"
   ]
  },
  {
   "cell_type": "code",
   "execution_count": 50,
   "metadata": {
    "scrolled": true
   },
   "outputs": [],
   "source": [
    "q = 2\n",
    "n = 1000\n",
    "m = 400\n",
    "bvals = [1, 3, 5, 10, 20, 50, 100, 200, 400]\n",
    "niter = 100\n",
    "randseed = 1234;"
   ]
  },
  {
   "cell_type": "markdown",
   "metadata": {},
   "source": [
    "Cooling schedule for Simulated Annealing: $\\beta_{overlap} \\in [10^{-1}, 10^0, 10^1]$"
   ]
  },
  {
   "cell_type": "code",
   "execution_count": 51,
   "metadata": {},
   "outputs": [],
   "source": [
    "sims = Vector{Simulation{SA}}(undef, length(bvals))\n",
    "sa = SA(mc_move=MetropSmallJumps(), nsamples=100, betas=[Inf 0.1; Inf 1.0; Inf 10.0;]);"
   ]
  },
  {
   "cell_type": "code",
   "execution_count": 52,
   "metadata": {
    "scrolled": true
   },
   "outputs": [
    {
     "name": "stdout",
     "output_type": "stream",
     "text": [
      "##### b=1. 1 of 9 #####\n",
      "Temperature 1 of 3:(β₁=Inf,β₂=0.1). Distortion 0.472. Acceptance 89%\n",
      "Temperature 2 of 3:(β₁=Inf,β₂=1.0). Distortion 0.443. Acceptance 43%\n",
      "Temperature 3 of 3:(β₁=Inf,β₂=10.0). Distortion 0.422. Acceptance 18%\n",
      "# Finished iter 1 of 100: Parity 0. Distortion 0.422 at β₁=Inf, β₂=10.0. Acceptance: [0.89, 0.43, 0.18].\n",
      "Temperature 1 of 3:(β₁=Inf,β₂=0.1). Distortion 0.463. Acceptance 87%\n",
      "Temperature 2 of 3:(β₁=Inf,β₂=1.0). Distortion 0.428. Acceptance 37%\n",
      "Temperature 3 of 3:(β₁=Inf,β₂=10.0). Distortion 0.409. Acceptance 21%\n",
      "# Finished iter 2 of 100: Parity 0. Distortion 0.409 at β₁=Inf, β₂=10.0. Acceptance: [0.87, 0.37, 0.21].\n",
      "Temperature 1 of 3:(β₁=Inf,β₂=0.1). Distortion 0.484. Acceptance 90%\n",
      "Temperature 2 of 3:(β₁=Inf,β₂=1.0). Distortion 0.442. Acceptance 45%\n",
      "Temperature 3 of 3:(β₁=Inf,β₂=10.0). Distortion 0.424. Acceptance 20%\n",
      "# Finished iter 3 of 100: Parity 0. Distortion 0.424 at β₁=Inf, β₂=10.0. Acceptance: [0.9, 0.45, 0.2].\n",
      "Temperature 1 of 3:(β₁=Inf,β₂=0.1). Distortion 0.455. Acceptance 92%\n",
      "Temperature 2 of 3:(β₁=Inf,β₂=1.0). Distortion 0.428. Acceptance 46%\n",
      "Temperature 3 of 3:(β₁=Inf,β₂=10.0). Distortion 0.412. Acceptance 18%\n",
      "# Finished iter 4 of 100: Parity 0. Distortion 0.412 at β₁=Inf, β₂=10.0. Acceptance: [0.92, 0.46, 0.18].\n",
      "Temperature 1 of 3:(β₁=Inf,β₂=0.1). Distortion 0.464. Acceptance 82%\n",
      "Temperature 2 of 3:(β₁=Inf,β₂=1.0). Distortion 0.425. Acceptance 40%\n",
      "Temperature 3 of 3:(β₁=Inf,β₂=10.0). Distortion 0.404. Acceptance 20%\n",
      "# Finished iter 5 of 100: Parity 0. Distortion 0.404 at β₁=Inf, β₂=10.0. Acceptance: [0.82, 0.4, 0.2].\n",
      "Temperature 1 of 3:(β₁=Inf,β₂=0.1). Distortion 0.475. Acceptance 88%\n",
      "Temperature 2 of 3:(β₁=Inf,β₂=1.0). Distortion 0.448. Acceptance 53%\n",
      "Temperature 3 of 3:(β₁=Inf,β₂=10.0). Distortion 0.423. Acceptance 20%\n",
      "# Finished iter 6 of 100: Parity 0. Distortion 0.423 at β₁=Inf, β₂=10.0. Acceptance: [0.88, 0.53, 0.2].\n",
      "Temperature 1 of 3:(β₁=Inf,β₂=0.1). Distortion 0.471. Acceptance 88%\n",
      "Temperature 2 of 3:(β₁=Inf,β₂=1.0). Distortion 0.437. Acceptance 43%\n",
      "Temperature 3 of 3:(β₁=Inf,β₂=10.0). Distortion 0.431. Acceptance 13%\n",
      "# Finished iter 7 of 100: Parity 0. Distortion 0.431 at β₁=Inf, β₂=10.0. Acceptance: [0.88, 0.43, 0.13].\n",
      "Temperature 1 of 3:(β₁=Inf,β₂=0.1). Distortion 0.485. Acceptance 90%\n",
      "Temperature 2 of 3:(β₁=Inf,β₂=1.0). Distortion 0.431. Acceptance 49%\n",
      "Temperature 3 of 3:(β₁=Inf,β₂=10.0). Distortion 0.426. Acceptance 9%\n",
      "# Finished iter 8 of 100: Parity 0. Distortion 0.426 at β₁=Inf, β₂=10.0. Acceptance: [0.9, 0.49, 0.09].\n",
      "Temperature 1 of 3:(β₁=Inf,β₂=0.1). Distortion 0.474. Acceptance 86%\n",
      "Temperature 2 of 3:(β₁=Inf,β₂=1.0). Distortion 0.436. Acceptance 48%\n",
      "Temperature 3 of 3:(β₁=Inf,β₂=10.0). Distortion 0.419. Acceptance 17%\n",
      "# Finished iter 9 of 100: Parity 0. Distortion 0.419 at β₁=Inf, β₂=10.0. Acceptance: [0.86, 0.48, 0.17].\n",
      "Temperature 1 of 3:(β₁=Inf,β₂=0.1). Distortion 0.491. Acceptance 86%\n",
      "Temperature 2 of 3:(β₁=Inf,β₂=1.0). Distortion 0.456. Acceptance 40%\n",
      "Temperature 3 of 3:(β₁=Inf,β₂=10.0). Distortion 0.437. Acceptance 20%\n",
      "# Finished iter 10 of 100: Parity 0. Distortion 0.437 at β₁=Inf, β₂=10.0. Acceptance: [0.86, 0.4, 0.2].\n",
      "Temperature 1 of 3:(β₁=Inf,β₂=0.1). Distortion 0.474. Acceptance 92%\n",
      "Temperature 2 of 3:(β₁=Inf,β₂=1.0). Distortion 0.426. Acceptance 48%\n",
      "Temperature 3 of 3:(β₁=Inf,β₂=10.0). Distortion 0.417. Acceptance 11%\n",
      "# Finished iter 11 of 100: Parity 0. Distortion 0.417 at β₁=Inf, β₂=10.0. Acceptance: [0.92, 0.48, 0.11].\n",
      "Temperature 1 of 3:(β₁=Inf,β₂=0.1). Distortion 0.475. Acceptance 90%\n",
      "Temperature 2 of 3:(β₁=Inf,β₂=1.0). Distortion 0.448. Acceptance 42%\n",
      "Temperature 3 of 3:(β₁=Inf,β₂=10.0). Distortion 0.427. Acceptance 20%\n",
      "# Finished iter 12 of 100: Parity 0. Distortion 0.427 at β₁=Inf, β₂=10.0. Acceptance: [0.9, 0.42, 0.2].\n",
      "Temperature 1 of 3:(β₁=Inf,β₂=0.1). Distortion 0.488. Acceptance 89%\n",
      "Temperature 2 of 3:(β₁=Inf,β₂=1.0). Distortion 0.45. Acceptance 45%\n",
      "Temperature 3 of 3:(β₁=Inf,β₂=10.0). Distortion 0.426. Acceptance 19%\n",
      "# Finished iter 13 of 100: Parity 0. Distortion 0.426 at β₁=Inf, β₂=10.0. Acceptance: [0.89, 0.45, 0.19].\n",
      "Temperature 1 of 3:(β₁=Inf,β₂=0.1). Distortion 0.491. Acceptance 87%\n",
      "Temperature 2 of 3:(β₁=Inf,β₂=1.0). Distortion 0.454. Acceptance 44%\n",
      "Temperature 3 of 3:(β₁=Inf,β₂=10.0). Distortion 0.433. Acceptance 22%\n",
      "# Finished iter 14 of 100: Parity 0. Distortion 0.433 at β₁=Inf, β₂=10.0. Acceptance: [0.87, 0.44, 0.22].\n",
      "Temperature 1 of 3:(β₁=Inf,β₂=0.1). Distortion 0.477. Acceptance 85%\n",
      "Temperature 2 of 3:(β₁=Inf,β₂=1.0). Distortion 0.445. Acceptance 43%\n",
      "Temperature 3 of 3:(β₁=Inf,β₂=10.0). Distortion 0.432. Acceptance 12%\n",
      "# Finished iter 15 of 100: Parity 0. Distortion 0.432 at β₁=Inf, β₂=10.0. Acceptance: [0.85, 0.43, 0.12].\n",
      "Temperature 1 of 3:(β₁=Inf,β₂=0.1). Distortion 0.484. Acceptance 88%\n",
      "Temperature 2 of 3:(β₁=Inf,β₂=1.0). Distortion 0.434. Acceptance 50%\n",
      "Temperature 3 of 3:(β₁=Inf,β₂=10.0). Distortion 0.417. Acceptance 14%\n",
      "# Finished iter 16 of 100: Parity 0. Distortion 0.417 at β₁=Inf, β₂=10.0. Acceptance: [0.88, 0.5, 0.14].\n",
      "Temperature 1 of 3:(β₁=Inf,β₂=0.1). Distortion 0.476. Acceptance 88%\n",
      "Temperature 2 of 3:(β₁=Inf,β₂=1.0). Distortion 0.435. Acceptance 50%\n",
      "Temperature 3 of 3:(β₁=Inf,β₂=10.0). Distortion 0.421. Acceptance 14%\n",
      "# Finished iter 17 of 100: Parity 0. Distortion 0.421 at β₁=Inf, β₂=10.0. Acceptance: [0.88, 0.5, 0.14].\n",
      "Temperature 1 of 3:(β₁=Inf,β₂=0.1). Distortion 0.504. Acceptance 87%\n",
      "Temperature 2 of 3:(β₁=Inf,β₂=1.0). Distortion 0.479. Acceptance 38%\n",
      "Temperature 3 of 3:(β₁=Inf,β₂=10.0). Distortion 0.458. Acceptance 19%\n",
      "# Finished iter 18 of 100: Parity 0. Distortion 0.458 at β₁=Inf, β₂=10.0. Acceptance: [0.87, 0.38, 0.19].\n",
      "Temperature 1 of 3:(β₁=Inf,β₂=0.1). Distortion 0.473. Acceptance 90%\n",
      "Temperature 2 of 3:(β₁=Inf,β₂=1.0). Distortion 0.443. Acceptance 40%\n",
      "Temperature 3 of 3:(β₁=Inf,β₂=10.0). Distortion 0.424. Acceptance 14%\n",
      "# Finished iter 19 of 100: Parity 0. Distortion 0.424 at β₁=Inf, β₂=10.0. Acceptance: [0.9, 0.4, 0.14].\n",
      "Temperature 1 of 3:(β₁=Inf,β₂=0.1). Distortion 0.477. Acceptance 89%\n",
      "Temperature 2 of 3:(β₁=Inf,β₂=1.0). Distortion 0.445. Acceptance 42%\n",
      "Temperature 3 of 3:(β₁=Inf,β₂=10.0). Distortion 0.421. Acceptance 17%\n",
      "# Finished iter 20 of 100: Parity 0. Distortion 0.421 at β₁=Inf, β₂=10.0. Acceptance: [0.89, 0.42, 0.17].\n",
      "Temperature 1 of 3:(β₁=Inf,β₂=0.1). Distortion 0.473. Acceptance 86%\n",
      "Temperature 2 of 3:(β₁=Inf,β₂=1.0). Distortion 0.435. Acceptance 41%\n",
      "Temperature 3 of 3:(β₁=Inf,β₂=10.0). Distortion 0.424. Acceptance 19%\n",
      "# Finished iter 21 of 100: Parity 0. Distortion 0.424 at β₁=Inf, β₂=10.0. Acceptance: [0.86, 0.41, 0.19].\n",
      "Temperature 1 of 3:(β₁=Inf,β₂=0.1). Distortion 0.468. Acceptance 84%\n",
      "Temperature 2 of 3:(β₁=Inf,β₂=1.0). Distortion 0.437. Acceptance 47%\n",
      "Temperature 3 of 3:(β₁=Inf,β₂=10.0). Distortion 0.406. Acceptance 20%\n",
      "# Finished iter 22 of 100: Parity 0. Distortion 0.406 at β₁=Inf, β₂=10.0. Acceptance: [0.84, 0.47, 0.2].\n",
      "Temperature 1 of 3:(β₁=Inf,β₂=0.1). Distortion 0.502. Acceptance 82%\n",
      "Temperature 2 of 3:(β₁=Inf,β₂=1.0). Distortion 0.477. Acceptance 47%\n",
      "Temperature 3 of 3:(β₁=Inf,β₂=10.0). Distortion 0.46. Acceptance 16%\n",
      "# Finished iter 23 of 100: Parity 0. Distortion 0.460 at β₁=Inf, β₂=10.0. Acceptance: [0.82, 0.47, 0.16].\n",
      "Temperature 1 of 3:(β₁=Inf,β₂=0.1). Distortion 0.484. Acceptance 82%\n",
      "Temperature 2 of 3:(β₁=Inf,β₂=1.0). Distortion 0.454. Acceptance 40%\n",
      "Temperature 3 of 3:(β₁=Inf,β₂=10.0). Distortion 0.441. Acceptance 10%\n",
      "# Finished iter 24 of 100: Parity 0. Distortion 0.441 at β₁=Inf, β₂=10.0. Acceptance: [0.82, 0.4, 0.1].\n",
      "Temperature 1 of 3:(β₁=Inf,β₂=0.1). Distortion 0.447. Acceptance 86%\n",
      "Temperature 2 of 3:(β₁=Inf,β₂=1.0). Distortion 0.442. Acceptance 46%\n",
      "Temperature 3 of 3:(β₁=Inf,β₂=10.0). Distortion 0.412. Acceptance 22%\n",
      "# Finished iter 25 of 100: Parity 0. Distortion 0.412 at β₁=Inf, β₂=10.0. Acceptance: [0.86, 0.46, 0.22].\n",
      "Temperature 1 of 3:(β₁=Inf,β₂=0.1). Distortion 0.478. Acceptance 85%\n",
      "Temperature 2 of 3:(β₁=Inf,β₂=1.0). Distortion 0.453. Acceptance 38%\n",
      "Temperature 3 of 3:(β₁=Inf,β₂=10.0). Distortion 0.444. Acceptance 10%\n",
      "# Finished iter 26 of 100: Parity 0. Distortion 0.444 at β₁=Inf, β₂=10.0. Acceptance: [0.85, 0.38, 0.1].\n",
      "Temperature 1 of 3:(β₁=Inf,β₂=0.1). Distortion 0.465. Acceptance 84%\n"
     ]
    },
    {
     "name": "stdout",
     "output_type": "stream",
     "text": [
      "Temperature 2 of 3:(β₁=Inf,β₂=1.0). Distortion 0.438. Acceptance 47%\n",
      "Temperature 3 of 3:(β₁=Inf,β₂=10.0). Distortion 0.413. Acceptance 20%\n",
      "# Finished iter 27 of 100: Parity 0. Distortion 0.413 at β₁=Inf, β₂=10.0. Acceptance: [0.84, 0.47, 0.2].\n",
      "Temperature 1 of 3:(β₁=Inf,β₂=0.1). Distortion 0.485. Acceptance 90%\n",
      "Temperature 2 of 3:(β₁=Inf,β₂=1.0). Distortion 0.427. Acceptance 48%\n",
      "Temperature 3 of 3:(β₁=Inf,β₂=10.0). Distortion 0.426. Acceptance 6%\n",
      "# Finished iter 28 of 100: Parity 0. Distortion 0.426 at β₁=Inf, β₂=10.0. Acceptance: [0.9, 0.48, 0.06].\n",
      "Temperature 1 of 3:(β₁=Inf,β₂=0.1). Distortion 0.466. Acceptance 90%\n",
      "Temperature 2 of 3:(β₁=Inf,β₂=1.0). Distortion 0.456. Acceptance 48%\n",
      "Temperature 3 of 3:(β₁=Inf,β₂=10.0). Distortion 0.441. Acceptance 16%\n",
      "# Finished iter 29 of 100: Parity 0. Distortion 0.441 at β₁=Inf, β₂=10.0. Acceptance: [0.9, 0.48, 0.16].\n",
      "Temperature 1 of 3:(β₁=Inf,β₂=0.1). Distortion 0.447. Acceptance 81%\n",
      "Temperature 2 of 3:(β₁=Inf,β₂=1.0). Distortion 0.424. Acceptance 38%\n",
      "Temperature 3 of 3:(β₁=Inf,β₂=10.0). Distortion 0.409. Acceptance 21%\n",
      "# Finished iter 30 of 100: Parity 0. Distortion 0.409 at β₁=Inf, β₂=10.0. Acceptance: [0.81, 0.38, 0.21].\n",
      "Temperature 1 of 3:(β₁=Inf,β₂=0.1). Distortion 0.467. Acceptance 90%\n",
      "Temperature 2 of 3:(β₁=Inf,β₂=1.0). Distortion 0.412. Acceptance 36%\n",
      "Temperature 3 of 3:(β₁=Inf,β₂=10.0). Distortion 0.404. Acceptance 7%\n",
      "# Finished iter 31 of 100: Parity 0. Distortion 0.404 at β₁=Inf, β₂=10.0. Acceptance: [0.9, 0.36, 0.07].\n",
      "Temperature 1 of 3:(β₁=Inf,β₂=0.1). Distortion 0.478. Acceptance 89%\n",
      "Temperature 2 of 3:(β₁=Inf,β₂=1.0). Distortion 0.438. Acceptance 41%\n",
      "Temperature 3 of 3:(β₁=Inf,β₂=10.0). Distortion 0.424. Acceptance 22%\n",
      "# Finished iter 32 of 100: Parity 0. Distortion 0.424 at β₁=Inf, β₂=10.0. Acceptance: [0.89, 0.41, 0.22].\n",
      "Temperature 1 of 3:(β₁=Inf,β₂=0.1). Distortion 0.487. Acceptance 91%\n",
      "Temperature 2 of 3:(β₁=Inf,β₂=1.0). Distortion 0.43. Acceptance 49%\n",
      "Temperature 3 of 3:(β₁=Inf,β₂=10.0). Distortion 0.414. Acceptance 16%\n",
      "# Finished iter 33 of 100: Parity 0. Distortion 0.414 at β₁=Inf, β₂=10.0. Acceptance: [0.91, 0.49, 0.16].\n",
      "Temperature 1 of 3:(β₁=Inf,β₂=0.1). Distortion 0.494. Acceptance 83%\n",
      "Temperature 2 of 3:(β₁=Inf,β₂=1.0). Distortion 0.466. Acceptance 52%\n",
      "Temperature 3 of 3:(β₁=Inf,β₂=10.0). Distortion 0.431. Acceptance 25%\n",
      "# Finished iter 34 of 100: Parity 0. Distortion 0.431 at β₁=Inf, β₂=10.0. Acceptance: [0.83, 0.52, 0.25].\n",
      "Temperature 1 of 3:(β₁=Inf,β₂=0.1). Distortion 0.491. Acceptance 86%\n",
      "Temperature 2 of 3:(β₁=Inf,β₂=1.0). Distortion 0.457. Acceptance 44%\n",
      "Temperature 3 of 3:(β₁=Inf,β₂=10.0). Distortion 0.434. Acceptance 22%\n",
      "# Finished iter 35 of 100: Parity 0. Distortion 0.434 at β₁=Inf, β₂=10.0. Acceptance: [0.86, 0.44, 0.22].\n",
      "Temperature 1 of 3:(β₁=Inf,β₂=0.1). Distortion 0.459. Acceptance 90%\n",
      "Temperature 2 of 3:(β₁=Inf,β₂=1.0). Distortion 0.435. Acceptance 36%\n",
      "Temperature 3 of 3:(β₁=Inf,β₂=10.0). Distortion 0.416. Acceptance 16%\n",
      "# Finished iter 36 of 100: Parity 0. Distortion 0.416 at β₁=Inf, β₂=10.0. Acceptance: [0.9, 0.36, 0.16].\n",
      "Temperature 1 of 3:(β₁=Inf,β₂=0.1). Distortion 0.479. Acceptance 88%\n",
      "Temperature 2 of 3:(β₁=Inf,β₂=1.0). Distortion 0.458. Acceptance 51%\n",
      "Temperature 3 of 3:(β₁=Inf,β₂=10.0). Distortion 0.432. Acceptance 21%\n",
      "# Finished iter 37 of 100: Parity 0. Distortion 0.432 at β₁=Inf, β₂=10.0. Acceptance: [0.88, 0.51, 0.21].\n",
      "Temperature 1 of 3:(β₁=Inf,β₂=0.1). Distortion 0.452. Acceptance 88%\n",
      "Temperature 2 of 3:(β₁=Inf,β₂=1.0). Distortion 0.441. Acceptance 37%\n",
      "Temperature 3 of 3:(β₁=Inf,β₂=10.0). Distortion 0.427. Acceptance 18%\n",
      "# Finished iter 38 of 100: Parity 0. Distortion 0.427 at β₁=Inf, β₂=10.0. Acceptance: [0.88, 0.37, 0.18].\n",
      "Temperature 1 of 3:(β₁=Inf,β₂=0.1). Distortion 0.453. Acceptance 86%\n",
      "Temperature 2 of 3:(β₁=Inf,β₂=1.0). Distortion 0.421. Acceptance 42%\n",
      "Temperature 3 of 3:(β₁=Inf,β₂=10.0). Distortion 0.407. Acceptance 14%\n",
      "# Finished iter 39 of 100: Parity 0. Distortion 0.407 at β₁=Inf, β₂=10.0. Acceptance: [0.86, 0.42, 0.14].\n",
      "Temperature 1 of 3:(β₁=Inf,β₂=0.1). Distortion 0.477. Acceptance 92%\n",
      "Temperature 2 of 3:(β₁=Inf,β₂=1.0). Distortion 0.466. Acceptance 30%\n",
      "Temperature 3 of 3:(β₁=Inf,β₂=10.0). Distortion 0.449. Acceptance 17%\n",
      "# Finished iter 40 of 100: Parity 0. Distortion 0.449 at β₁=Inf, β₂=10.0. Acceptance: [0.92, 0.3, 0.17].\n",
      "Temperature 1 of 3:(β₁=Inf,β₂=0.1). Distortion 0.475. Acceptance 88%\n",
      "Temperature 2 of 3:(β₁=Inf,β₂=1.0). Distortion 0.429. Acceptance 48%\n",
      "Temperature 3 of 3:(β₁=Inf,β₂=10.0). Distortion 0.41. Acceptance 15%\n",
      "# Finished iter 41 of 100: Parity 0. Distortion 0.410 at β₁=Inf, β₂=10.0. Acceptance: [0.88, 0.48, 0.15].\n",
      "Temperature 1 of 3:(β₁=Inf,β₂=0.1). Distortion 0.486. Acceptance 91%\n",
      "Temperature 2 of 3:(β₁=Inf,β₂=1.0). Distortion 0.461. Acceptance 40%\n",
      "Temperature 3 of 3:(β₁=Inf,β₂=10.0). Distortion 0.437. Acceptance 21%\n",
      "# Finished iter 42 of 100: Parity 0. Distortion 0.437 at β₁=Inf, β₂=10.0. Acceptance: [0.91, 0.4, 0.21].\n",
      "Temperature 1 of 3:(β₁=Inf,β₂=0.1). Distortion 0.49. Acceptance 83%\n",
      "Temperature 2 of 3:(β₁=Inf,β₂=1.0). Distortion 0.448. Acceptance 52%\n",
      "Temperature 3 of 3:(β₁=Inf,β₂=10.0). Distortion 0.411. Acceptance 25%\n",
      "# Finished iter 43 of 100: Parity 0. Distortion 0.411 at β₁=Inf, β₂=10.0. Acceptance: [0.83, 0.52, 0.25].\n",
      "Temperature 1 of 3:(β₁=Inf,β₂=0.1). Distortion 0.472. Acceptance 89%\n",
      "Temperature 2 of 3:(β₁=Inf,β₂=1.0). Distortion 0.447. Acceptance 46%\n",
      "Temperature 3 of 3:(β₁=Inf,β₂=10.0). Distortion 0.423. Acceptance 15%\n",
      "# Finished iter 44 of 100: Parity 0. Distortion 0.423 at β₁=Inf, β₂=10.0. Acceptance: [0.89, 0.46, 0.15].\n",
      "Temperature 1 of 3:(β₁=Inf,β₂=0.1). Distortion 0.473. Acceptance 91%\n",
      "Temperature 2 of 3:(β₁=Inf,β₂=1.0). Distortion 0.436. Acceptance 39%\n",
      "Temperature 3 of 3:(β₁=Inf,β₂=10.0). Distortion 0.426. Acceptance 20%\n",
      "# Finished iter 45 of 100: Parity 0. Distortion 0.426 at β₁=Inf, β₂=10.0. Acceptance: [0.91, 0.39, 0.2].\n",
      "Temperature 1 of 3:(β₁=Inf,β₂=0.1). Distortion 0.47. Acceptance 87%\n",
      "Temperature 2 of 3:(β₁=Inf,β₂=1.0). Distortion 0.443. Acceptance 43%\n",
      "Temperature 3 of 3:(β₁=Inf,β₂=10.0). Distortion 0.423. Acceptance 17%\n",
      "# Finished iter 46 of 100: Parity 0. Distortion 0.423 at β₁=Inf, β₂=10.0. Acceptance: [0.87, 0.43, 0.17].\n",
      "Temperature 1 of 3:(β₁=Inf,β₂=0.1). Distortion 0.492. Acceptance 85%\n",
      "Temperature 2 of 3:(β₁=Inf,β₂=1.0). Distortion 0.446. Acceptance 47%\n",
      "Temperature 3 of 3:(β₁=Inf,β₂=10.0). Distortion 0.421. Acceptance 15%\n",
      "# Finished iter 47 of 100: Parity 0. Distortion 0.421 at β₁=Inf, β₂=10.0. Acceptance: [0.85, 0.47, 0.15].\n",
      "Temperature 1 of 3:(β₁=Inf,β₂=0.1). Distortion 0.465. Acceptance 85%\n",
      "Temperature 2 of 3:(β₁=Inf,β₂=1.0). Distortion 0.439. Acceptance 37%\n",
      "Temperature 3 of 3:(β₁=Inf,β₂=10.0). Distortion 0.423. Acceptance 15%\n",
      "# Finished iter 48 of 100: Parity 0. Distortion 0.423 at β₁=Inf, β₂=10.0. Acceptance: [0.85, 0.37, 0.15].\n",
      "Temperature 1 of 3:(β₁=Inf,β₂=0.1). Distortion 0.459. Acceptance 87%\n",
      "Temperature 2 of 3:(β₁=Inf,β₂=1.0). Distortion 0.424. Acceptance 39%\n",
      "Temperature 3 of 3:(β₁=Inf,β₂=10.0). Distortion 0.401. Acceptance 19%\n",
      "# Finished iter 49 of 100: Parity 0. Distortion 0.401 at β₁=Inf, β₂=10.0. Acceptance: [0.87, 0.39, 0.19].\n",
      "Temperature 1 of 3:(β₁=Inf,β₂=0.1). Distortion 0.463. Acceptance 90%\n",
      "Temperature 2 of 3:(β₁=Inf,β₂=1.0). Distortion 0.429. Acceptance 39%\n",
      "Temperature 3 of 3:(β₁=Inf,β₂=10.0). Distortion 0.419. Acceptance 12%\n",
      "# Finished iter 50 of 100: Parity 0. Distortion 0.419 at β₁=Inf, β₂=10.0. Acceptance: [0.9, 0.39, 0.12].\n",
      "Temperature 1 of 3:(β₁=Inf,β₂=0.1). Distortion 0.476. Acceptance 85%\n",
      "Temperature 2 of 3:(β₁=Inf,β₂=1.0). Distortion 0.433. Acceptance 44%\n",
      "Temperature 3 of 3:(β₁=Inf,β₂=10.0). Distortion 0.422. Acceptance 17%\n",
      "# Finished iter 51 of 100: Parity 0. Distortion 0.422 at β₁=Inf, β₂=10.0. Acceptance: [0.85, 0.44, 0.17].\n",
      "Temperature 1 of 3:(β₁=Inf,β₂=0.1). Distortion 0.463. Acceptance 91%\n",
      "Temperature 2 of 3:(β₁=Inf,β₂=1.0). Distortion 0.438. Acceptance 47%\n",
      "Temperature 3 of 3:(β₁=Inf,β₂=10.0). Distortion 0.42. Acceptance 18%\n",
      "# Finished iter 52 of 100: Parity 0. Distortion 0.420 at β₁=Inf, β₂=10.0. Acceptance: [0.91, 0.47, 0.18].\n",
      "Temperature 1 of 3:(β₁=Inf,β₂=0.1). Distortion 0.506. Acceptance 86%\n",
      "Temperature 2 of 3:(β₁=Inf,β₂=1.0). Distortion 0.464. Acceptance 43%\n"
     ]
    },
    {
     "name": "stdout",
     "output_type": "stream",
     "text": [
      "Temperature 3 of 3:(β₁=Inf,β₂=10.0). Distortion 0.447. Acceptance 19%\n",
      "# Finished iter 53 of 100: Parity 0. Distortion 0.447 at β₁=Inf, β₂=10.0. Acceptance: [0.86, 0.43, 0.19].\n",
      "Temperature 1 of 3:(β₁=Inf,β₂=0.1). Distortion 0.491. Acceptance 91%\n",
      "Temperature 2 of 3:(β₁=Inf,β₂=1.0). Distortion 0.446. Acceptance 49%\n",
      "Temperature 3 of 3:(β₁=Inf,β₂=10.0). Distortion 0.42. Acceptance 21%\n",
      "# Finished iter 54 of 100: Parity 0. Distortion 0.420 at β₁=Inf, β₂=10.0. Acceptance: [0.91, 0.49, 0.21].\n",
      "Temperature 1 of 3:(β₁=Inf,β₂=0.1). Distortion 0.475. Acceptance 86%\n",
      "Temperature 2 of 3:(β₁=Inf,β₂=1.0). Distortion 0.448. Acceptance 33%\n",
      "Temperature 3 of 3:(β₁=Inf,β₂=10.0). Distortion 0.443. Acceptance 5%\n",
      "# Finished iter 55 of 100: Parity 0. Distortion 0.443 at β₁=Inf, β₂=10.0. Acceptance: [0.86, 0.33, 0.05].\n",
      "Temperature 1 of 3:(β₁=Inf,β₂=0.1). Distortion 0.465. Acceptance 92%\n",
      "Temperature 2 of 3:(β₁=Inf,β₂=1.0). Distortion 0.429. Acceptance 46%\n",
      "Temperature 3 of 3:(β₁=Inf,β₂=10.0). Distortion 0.403. Acceptance 22%\n",
      "# Finished iter 56 of 100: Parity 0. Distortion 0.403 at β₁=Inf, β₂=10.0. Acceptance: [0.92, 0.46, 0.22].\n",
      "Temperature 1 of 3:(β₁=Inf,β₂=0.1). Distortion 0.485. Acceptance 92%\n",
      "Temperature 2 of 3:(β₁=Inf,β₂=1.0). Distortion 0.434. Acceptance 42%\n",
      "Temperature 3 of 3:(β₁=Inf,β₂=10.0). Distortion 0.427. Acceptance 16%\n",
      "# Finished iter 57 of 100: Parity 0. Distortion 0.427 at β₁=Inf, β₂=10.0. Acceptance: [0.92, 0.42, 0.16].\n",
      "Temperature 1 of 3:(β₁=Inf,β₂=0.1). Distortion 0.477. Acceptance 91%\n",
      "Temperature 2 of 3:(β₁=Inf,β₂=1.0). Distortion 0.442. Acceptance 37%\n",
      "Temperature 3 of 3:(β₁=Inf,β₂=10.0). Distortion 0.435. Acceptance 12%\n",
      "# Finished iter 58 of 100: Parity 0. Distortion 0.435 at β₁=Inf, β₂=10.0. Acceptance: [0.91, 0.37, 0.12].\n",
      "Temperature 1 of 3:(β₁=Inf,β₂=0.1). Distortion 0.48. Acceptance 90%\n",
      "Temperature 2 of 3:(β₁=Inf,β₂=1.0). Distortion 0.442. Acceptance 44%\n",
      "Temperature 3 of 3:(β₁=Inf,β₂=10.0). Distortion 0.423. Acceptance 20%\n",
      "# Finished iter 59 of 100: Parity 0. Distortion 0.423 at β₁=Inf, β₂=10.0. Acceptance: [0.9, 0.44, 0.2].\n",
      "Temperature 1 of 3:(β₁=Inf,β₂=0.1). Distortion 0.445. Acceptance 82%\n",
      "Temperature 2 of 3:(β₁=Inf,β₂=1.0). Distortion 0.426. Acceptance 36%\n",
      "Temperature 3 of 3:(β₁=Inf,β₂=10.0). Distortion 0.41. Acceptance 16%\n",
      "# Finished iter 60 of 100: Parity 0. Distortion 0.410 at β₁=Inf, β₂=10.0. Acceptance: [0.82, 0.36, 0.16].\n",
      "Temperature 1 of 3:(β₁=Inf,β₂=0.1). Distortion 0.468. Acceptance 83%\n",
      "Temperature 2 of 3:(β₁=Inf,β₂=1.0). Distortion 0.443. Acceptance 46%\n",
      "Temperature 3 of 3:(β₁=Inf,β₂=10.0). Distortion 0.42. Acceptance 20%\n",
      "# Finished iter 61 of 100: Parity 0. Distortion 0.420 at β₁=Inf, β₂=10.0. Acceptance: [0.83, 0.46, 0.2].\n",
      "Temperature 1 of 3:(β₁=Inf,β₂=0.1). Distortion 0.477. Acceptance 89%\n",
      "Temperature 2 of 3:(β₁=Inf,β₂=1.0). Distortion 0.443. Acceptance 43%\n",
      "Temperature 3 of 3:(β₁=Inf,β₂=10.0). Distortion 0.426. Acceptance 13%\n",
      "# Finished iter 62 of 100: Parity 0. Distortion 0.426 at β₁=Inf, β₂=10.0. Acceptance: [0.89, 0.43, 0.13].\n",
      "Temperature 1 of 3:(β₁=Inf,β₂=0.1). Distortion 0.487. Acceptance 87%\n",
      "Temperature 2 of 3:(β₁=Inf,β₂=1.0). Distortion 0.456. Acceptance 43%\n",
      "Temperature 3 of 3:(β₁=Inf,β₂=10.0). Distortion 0.435. Acceptance 14%\n",
      "# Finished iter 63 of 100: Parity 0. Distortion 0.435 at β₁=Inf, β₂=10.0. Acceptance: [0.87, 0.43, 0.14].\n",
      "Temperature 1 of 3:(β₁=Inf,β₂=0.1). Distortion 0.482. Acceptance 86%\n",
      "Temperature 2 of 3:(β₁=Inf,β₂=1.0). Distortion 0.455. Acceptance 44%\n",
      "Temperature 3 of 3:(β₁=Inf,β₂=10.0). Distortion 0.438. Acceptance 17%\n",
      "# Finished iter 64 of 100: Parity 0. Distortion 0.438 at β₁=Inf, β₂=10.0. Acceptance: [0.86, 0.44, 0.17].\n",
      "Temperature 1 of 3:(β₁=Inf,β₂=0.1). Distortion 0.489. Acceptance 86%\n",
      "Temperature 2 of 3:(β₁=Inf,β₂=1.0). Distortion 0.446. Acceptance 48%\n",
      "Temperature 3 of 3:(β₁=Inf,β₂=10.0). Distortion 0.416. Acceptance 20%\n",
      "# Finished iter 65 of 100: Parity 0. Distortion 0.416 at β₁=Inf, β₂=10.0. Acceptance: [0.86, 0.48, 0.2].\n",
      "Temperature 1 of 3:(β₁=Inf,β₂=0.1). Distortion 0.483. Acceptance 87%\n",
      "Temperature 2 of 3:(β₁=Inf,β₂=1.0). Distortion 0.458. Acceptance 29%\n",
      "Temperature 3 of 3:(β₁=Inf,β₂=10.0). Distortion 0.437. Acceptance 20%\n",
      "# Finished iter 66 of 100: Parity 0. Distortion 0.437 at β₁=Inf, β₂=10.0. Acceptance: [0.87, 0.29, 0.2].\n",
      "Temperature 1 of 3:(β₁=Inf,β₂=0.1). Distortion 0.477. Acceptance 93%\n",
      "Temperature 2 of 3:(β₁=Inf,β₂=1.0). Distortion 0.444. Acceptance 41%\n",
      "Temperature 3 of 3:(β₁=Inf,β₂=10.0). Distortion 0.422. Acceptance 15%\n",
      "# Finished iter 67 of 100: Parity 0. Distortion 0.422 at β₁=Inf, β₂=10.0. Acceptance: [0.93, 0.41, 0.15].\n",
      "Temperature 1 of 3:(β₁=Inf,β₂=0.1). Distortion 0.461. Acceptance 80%\n",
      "Temperature 2 of 3:(β₁=Inf,β₂=1.0). Distortion 0.44. Acceptance 47%\n",
      "Temperature 3 of 3:(β₁=Inf,β₂=10.0). Distortion 0.418. Acceptance 18%\n",
      "# Finished iter 68 of 100: Parity 0. Distortion 0.418 at β₁=Inf, β₂=10.0. Acceptance: [0.8, 0.47, 0.18].\n",
      "Temperature 1 of 3:(β₁=Inf,β₂=0.1). Distortion 0.494. Acceptance 89%\n",
      "Temperature 2 of 3:(β₁=Inf,β₂=1.0). Distortion 0.46. Acceptance 48%\n",
      "Temperature 3 of 3:(β₁=Inf,β₂=10.0). Distortion 0.44. Acceptance 14%\n",
      "# Finished iter 69 of 100: Parity 0. Distortion 0.440 at β₁=Inf, β₂=10.0. Acceptance: [0.89, 0.48, 0.14].\n",
      "Temperature 1 of 3:(β₁=Inf,β₂=0.1). Distortion 0.472. Acceptance 90%\n",
      "Temperature 2 of 3:(β₁=Inf,β₂=1.0). Distortion 0.433. Acceptance 34%\n",
      "Temperature 3 of 3:(β₁=Inf,β₂=10.0). Distortion 0.416. Acceptance 19%\n",
      "# Finished iter 70 of 100: Parity 0. Distortion 0.416 at β₁=Inf, β₂=10.0. Acceptance: [0.9, 0.34, 0.19].\n",
      "Temperature 1 of 3:(β₁=Inf,β₂=0.1). Distortion 0.477. Acceptance 85%\n",
      "Temperature 2 of 3:(β₁=Inf,β₂=1.0). Distortion 0.455. Acceptance 35%\n",
      "Temperature 3 of 3:(β₁=Inf,β₂=10.0). Distortion 0.442. Acceptance 14%\n",
      "# Finished iter 71 of 100: Parity 0. Distortion 0.442 at β₁=Inf, β₂=10.0. Acceptance: [0.85, 0.35, 0.14].\n",
      "Temperature 1 of 3:(β₁=Inf,β₂=0.1). Distortion 0.474. Acceptance 88%\n",
      "Temperature 2 of 3:(β₁=Inf,β₂=1.0). Distortion 0.421. Acceptance 38%\n",
      "Temperature 3 of 3:(β₁=Inf,β₂=10.0). Distortion 0.407. Acceptance 13%\n",
      "# Finished iter 72 of 100: Parity 0. Distortion 0.407 at β₁=Inf, β₂=10.0. Acceptance: [0.88, 0.38, 0.13].\n",
      "Temperature 1 of 3:(β₁=Inf,β₂=0.1). Distortion 0.477. Acceptance 88%\n",
      "Temperature 2 of 3:(β₁=Inf,β₂=1.0). Distortion 0.444. Acceptance 32%\n",
      "Temperature 3 of 3:(β₁=Inf,β₂=10.0). Distortion 0.43. Acceptance 14%\n",
      "# Finished iter 73 of 100: Parity 0. Distortion 0.430 at β₁=Inf, β₂=10.0. Acceptance: [0.88, 0.32, 0.14].\n",
      "Temperature 1 of 3:(β₁=Inf,β₂=0.1). Distortion 0.505. Acceptance 89%\n",
      "Temperature 2 of 3:(β₁=Inf,β₂=1.0). Distortion 0.464. Acceptance 48%\n",
      "Temperature 3 of 3:(β₁=Inf,β₂=10.0). Distortion 0.437. Acceptance 24%\n",
      "# Finished iter 74 of 100: Parity 0. Distortion 0.437 at β₁=Inf, β₂=10.0. Acceptance: [0.89, 0.48, 0.24].\n",
      "Temperature 1 of 3:(β₁=Inf,β₂=0.1). Distortion 0.477. Acceptance 88%\n",
      "Temperature 2 of 3:(β₁=Inf,β₂=1.0). Distortion 0.456. Acceptance 29%\n",
      "Temperature 3 of 3:(β₁=Inf,β₂=10.0). Distortion 0.443. Acceptance 15%\n",
      "# Finished iter 75 of 100: Parity 0. Distortion 0.443 at β₁=Inf, β₂=10.0. Acceptance: [0.88, 0.29, 0.15].\n",
      "Temperature 1 of 3:(β₁=Inf,β₂=0.1). Distortion 0.491. Acceptance 90%\n",
      "Temperature 2 of 3:(β₁=Inf,β₂=1.0). Distortion 0.447. Acceptance 36%\n",
      "Temperature 3 of 3:(β₁=Inf,β₂=10.0). Distortion 0.437. Acceptance 9%\n",
      "# Finished iter 76 of 100: Parity 0. Distortion 0.437 at β₁=Inf, β₂=10.0. Acceptance: [0.9, 0.36, 0.09].\n",
      "Temperature 1 of 3:(β₁=Inf,β₂=0.1). Distortion 0.447. Acceptance 87%\n",
      "Temperature 2 of 3:(β₁=Inf,β₂=1.0). Distortion 0.42. Acceptance 32%\n",
      "Temperature 3 of 3:(β₁=Inf,β₂=10.0). Distortion 0.404. Acceptance 12%\n",
      "# Finished iter 77 of 100: Parity 0. Distortion 0.404 at β₁=Inf, β₂=10.0. Acceptance: [0.87, 0.32, 0.12].\n",
      "Temperature 1 of 3:(β₁=Inf,β₂=0.1). Distortion 0.478. Acceptance 88%\n",
      "Temperature 2 of 3:(β₁=Inf,β₂=1.0). Distortion 0.441. Acceptance 41%\n",
      "Temperature 3 of 3:(β₁=Inf,β₂=10.0). Distortion 0.429. Acceptance 10%\n",
      "# Finished iter 78 of 100: Parity 0. Distortion 0.429 at β₁=Inf, β₂=10.0. Acceptance: [0.88, 0.41, 0.1].\n",
      "Temperature 1 of 3:(β₁=Inf,β₂=0.1). Distortion 0.455. Acceptance 90%\n",
      "Temperature 2 of 3:(β₁=Inf,β₂=1.0). Distortion 0.426. Acceptance 38%\n",
      "Temperature 3 of 3:(β₁=Inf,β₂=10.0). Distortion 0.411. Acceptance 10%\n",
      "# Finished iter 79 of 100: Parity 0. Distortion 0.411 at β₁=Inf, β₂=10.0. Acceptance: [0.9, 0.38, 0.1].\n"
     ]
    },
    {
     "name": "stdout",
     "output_type": "stream",
     "text": [
      "Temperature 1 of 3:(β₁=Inf,β₂=0.1). Distortion 0.485. Acceptance 88%\n",
      "Temperature 2 of 3:(β₁=Inf,β₂=1.0). Distortion 0.456. Acceptance 40%\n",
      "Temperature 3 of 3:(β₁=Inf,β₂=10.0). Distortion 0.438. Acceptance 15%\n",
      "# Finished iter 80 of 100: Parity 0. Distortion 0.438 at β₁=Inf, β₂=10.0. Acceptance: [0.88, 0.4, 0.15].\n",
      "Temperature 1 of 3:(β₁=Inf,β₂=0.1). Distortion 0.472. Acceptance 83%\n",
      "Temperature 2 of 3:(β₁=Inf,β₂=1.0). Distortion 0.45. Acceptance 32%\n",
      "Temperature 3 of 3:(β₁=Inf,β₂=10.0). Distortion 0.437. Acceptance 15%\n",
      "# Finished iter 81 of 100: Parity 0. Distortion 0.437 at β₁=Inf, β₂=10.0. Acceptance: [0.83, 0.32, 0.15].\n",
      "Temperature 1 of 3:(β₁=Inf,β₂=0.1). Distortion 0.472. Acceptance 85%\n",
      "Temperature 2 of 3:(β₁=Inf,β₂=1.0). Distortion 0.439. Acceptance 35%\n",
      "Temperature 3 of 3:(β₁=Inf,β₂=10.0). Distortion 0.422. Acceptance 16%\n",
      "# Finished iter 82 of 100: Parity 0. Distortion 0.422 at β₁=Inf, β₂=10.0. Acceptance: [0.85, 0.35, 0.16].\n",
      "Temperature 1 of 3:(β₁=Inf,β₂=0.1). Distortion 0.486. Acceptance 89%\n",
      "Temperature 2 of 3:(β₁=Inf,β₂=1.0). Distortion 0.45. Acceptance 43%\n",
      "Temperature 3 of 3:(β₁=Inf,β₂=10.0). Distortion 0.437. Acceptance 8%\n",
      "# Finished iter 83 of 100: Parity 0. Distortion 0.437 at β₁=Inf, β₂=10.0. Acceptance: [0.89, 0.43, 0.08].\n",
      "Temperature 1 of 3:(β₁=Inf,β₂=0.1). Distortion 0.472. Acceptance 92%\n",
      "Temperature 2 of 3:(β₁=Inf,β₂=1.0). Distortion 0.437. Acceptance 41%\n",
      "Temperature 3 of 3:(β₁=Inf,β₂=10.0). Distortion 0.413. Acceptance 21%\n",
      "# Finished iter 84 of 100: Parity 0. Distortion 0.413 at β₁=Inf, β₂=10.0. Acceptance: [0.92, 0.41, 0.21].\n",
      "Temperature 1 of 3:(β₁=Inf,β₂=0.1). Distortion 0.469. Acceptance 91%\n",
      "Temperature 2 of 3:(β₁=Inf,β₂=1.0). Distortion 0.466. Acceptance 43%\n",
      "Temperature 3 of 3:(β₁=Inf,β₂=10.0). Distortion 0.431. Acceptance 26%\n",
      "# Finished iter 85 of 100: Parity 0. Distortion 0.431 at β₁=Inf, β₂=10.0. Acceptance: [0.91, 0.43, 0.26].\n",
      "Temperature 1 of 3:(β₁=Inf,β₂=0.1). Distortion 0.469. Acceptance 83%\n",
      "Temperature 2 of 3:(β₁=Inf,β₂=1.0). Distortion 0.456. Acceptance 29%\n",
      "Temperature 3 of 3:(β₁=Inf,β₂=10.0). Distortion 0.42. Acceptance 21%\n",
      "# Finished iter 86 of 100: Parity 0. Distortion 0.420 at β₁=Inf, β₂=10.0. Acceptance: [0.83, 0.29, 0.21].\n",
      "Temperature 1 of 3:(β₁=Inf,β₂=0.1). Distortion 0.444. Acceptance 85%\n",
      "Temperature 2 of 3:(β₁=Inf,β₂=1.0). Distortion 0.421. Acceptance 52%\n",
      "Temperature 3 of 3:(β₁=Inf,β₂=10.0). Distortion 0.407. Acceptance 17%\n",
      "# Finished iter 87 of 100: Parity 0. Distortion 0.407 at β₁=Inf, β₂=10.0. Acceptance: [0.85, 0.52, 0.17].\n",
      "Temperature 1 of 3:(β₁=Inf,β₂=0.1). Distortion 0.456. Acceptance 92%\n",
      "Temperature 2 of 3:(β₁=Inf,β₂=1.0). Distortion 0.443. Acceptance 32%\n",
      "Temperature 3 of 3:(β₁=Inf,β₂=10.0). Distortion 0.42. Acceptance 24%\n",
      "# Finished iter 88 of 100: Parity 0. Distortion 0.420 at β₁=Inf, β₂=10.0. Acceptance: [0.92, 0.32, 0.24].\n",
      "Temperature 1 of 3:(β₁=Inf,β₂=0.1). Distortion 0.48. Acceptance 92%\n",
      "Temperature 2 of 3:(β₁=Inf,β₂=1.0). Distortion 0.445. Acceptance 37%\n",
      "Temperature 3 of 3:(β₁=Inf,β₂=10.0). Distortion 0.443. Acceptance 11%\n",
      "# Finished iter 89 of 100: Parity 0. Distortion 0.443 at β₁=Inf, β₂=10.0. Acceptance: [0.92, 0.37, 0.11].\n",
      "Temperature 1 of 3:(β₁=Inf,β₂=0.1). Distortion 0.464. Acceptance 92%\n",
      "Temperature 2 of 3:(β₁=Inf,β₂=1.0). Distortion 0.444. Acceptance 30%\n",
      "Temperature 3 of 3:(β₁=Inf,β₂=10.0). Distortion 0.426. Acceptance 11%\n",
      "# Finished iter 90 of 100: Parity 0. Distortion 0.426 at β₁=Inf, β₂=10.0. Acceptance: [0.92, 0.3, 0.11].\n",
      "Temperature 1 of 3:(β₁=Inf,β₂=0.1). Distortion 0.492. Acceptance 88%\n",
      "Temperature 2 of 3:(β₁=Inf,β₂=1.0). Distortion 0.446. Acceptance 50%\n",
      "Temperature 3 of 3:(β₁=Inf,β₂=10.0). Distortion 0.429. Acceptance 22%\n",
      "# Finished iter 91 of 100: Parity 0. Distortion 0.429 at β₁=Inf, β₂=10.0. Acceptance: [0.88, 0.5, 0.22].\n",
      "Temperature 1 of 3:(β₁=Inf,β₂=0.1). Distortion 0.47. Acceptance 88%\n",
      "Temperature 2 of 3:(β₁=Inf,β₂=1.0). Distortion 0.425. Acceptance 37%\n",
      "Temperature 3 of 3:(β₁=Inf,β₂=10.0). Distortion 0.414. Acceptance 11%\n",
      "# Finished iter 92 of 100: Parity 0. Distortion 0.414 at β₁=Inf, β₂=10.0. Acceptance: [0.88, 0.37, 0.11].\n",
      "Temperature 1 of 3:(β₁=Inf,β₂=0.1). Distortion 0.445. Acceptance 82%\n",
      "Temperature 2 of 3:(β₁=Inf,β₂=1.0). Distortion 0.424. Acceptance 34%\n",
      "Temperature 3 of 3:(β₁=Inf,β₂=10.0). Distortion 0.412. Acceptance 21%\n",
      "# Finished iter 93 of 100: Parity 0. Distortion 0.412 at β₁=Inf, β₂=10.0. Acceptance: [0.82, 0.34, 0.21].\n",
      "Temperature 1 of 3:(β₁=Inf,β₂=0.1). Distortion 0.484. Acceptance 90%\n",
      "Temperature 2 of 3:(β₁=Inf,β₂=1.0). Distortion 0.448. Acceptance 42%\n",
      "Temperature 3 of 3:(β₁=Inf,β₂=10.0). Distortion 0.428. Acceptance 19%\n",
      "# Finished iter 94 of 100: Parity 0. Distortion 0.428 at β₁=Inf, β₂=10.0. Acceptance: [0.9, 0.42, 0.19].\n",
      "Temperature 1 of 3:(β₁=Inf,β₂=0.1). Distortion 0.469. Acceptance 84%\n",
      "Temperature 2 of 3:(β₁=Inf,β₂=1.0). Distortion 0.42. Acceptance 46%\n",
      "Temperature 3 of 3:(β₁=Inf,β₂=10.0). Distortion 0.401. Acceptance 15%\n",
      "# Finished iter 95 of 100: Parity 0. Distortion 0.401 at β₁=Inf, β₂=10.0. Acceptance: [0.84, 0.46, 0.15].\n",
      "Temperature 1 of 3:(β₁=Inf,β₂=0.1). Distortion 0.462. Acceptance 86%\n",
      "Temperature 2 of 3:(β₁=Inf,β₂=1.0). Distortion 0.426. Acceptance 51%\n",
      "Temperature 3 of 3:(β₁=Inf,β₂=10.0). Distortion 0.412. Acceptance 16%\n",
      "# Finished iter 96 of 100: Parity 0. Distortion 0.412 at β₁=Inf, β₂=10.0. Acceptance: [0.86, 0.51, 0.16].\n",
      "Temperature 1 of 3:(β₁=Inf,β₂=0.1). Distortion 0.488. Acceptance 86%\n",
      "Temperature 2 of 3:(β₁=Inf,β₂=1.0). Distortion 0.433. Acceptance 52%\n",
      "Temperature 3 of 3:(β₁=Inf,β₂=10.0). Distortion 0.402. Acceptance 21%\n",
      "# Finished iter 97 of 100: Parity 0. Distortion 0.402 at β₁=Inf, β₂=10.0. Acceptance: [0.86, 0.52, 0.21].\n",
      "Temperature 1 of 3:(β₁=Inf,β₂=0.1). Distortion 0.469. Acceptance 90%\n",
      "Temperature 2 of 3:(β₁=Inf,β₂=1.0). Distortion 0.466. Acceptance 29%\n",
      "Temperature 3 of 3:(β₁=Inf,β₂=10.0). Distortion 0.429. Acceptance 21%\n",
      "# Finished iter 98 of 100: Parity 0. Distortion 0.429 at β₁=Inf, β₂=10.0. Acceptance: [0.9, 0.29, 0.21].\n",
      "Temperature 1 of 3:(β₁=Inf,β₂=0.1). Distortion 0.485. Acceptance 86%\n",
      "Temperature 2 of 3:(β₁=Inf,β₂=1.0). Distortion 0.448. Acceptance 54%\n",
      "Temperature 3 of 3:(β₁=Inf,β₂=10.0). Distortion 0.428. Acceptance 14%\n",
      "# Finished iter 99 of 100: Parity 0. Distortion 0.428 at β₁=Inf, β₂=10.0. Acceptance: [0.86, 0.54, 0.14].\n",
      "Temperature 1 of 3:(β₁=Inf,β₂=0.1). Distortion 0.465. Acceptance 89%\n",
      "Temperature 2 of 3:(β₁=Inf,β₂=1.0). Distortion 0.433. Acceptance 34%\n",
      "Temperature 3 of 3:(β₁=Inf,β₂=10.0). Distortion 0.418. Acceptance 20%\n",
      "# Finished iter 100 of 100: Parity 0. Distortion 0.418 at β₁=Inf, β₂=10.0. Acceptance: [0.89, 0.34, 0.2].\n",
      "##### b=3. 2 of 9 #####\n",
      "Temperature 1 of 3:(β₁=Inf,β₂=0.1). Distortion 0.476. Acceptance 89%\n",
      "Temperature 2 of 3:(β₁=Inf,β₂=1.0). Distortion 0.447. Acceptance 52%\n",
      "Temperature 3 of 3:(β₁=Inf,β₂=10.0). Distortion 0.414. Acceptance 24%\n",
      "# Finished iter 1 of 100: Parity 0. Distortion 0.414 at β₁=Inf, β₂=10.0. Acceptance: [0.89, 0.52, 0.24].\n",
      "Temperature 1 of 3:(β₁=Inf,β₂=0.1). Distortion 0.472. Acceptance 91%\n",
      "Temperature 2 of 3:(β₁=Inf,β₂=1.0). Distortion 0.447. Acceptance 46%\n",
      "Temperature 3 of 3:(β₁=Inf,β₂=10.0). Distortion 0.432. Acceptance 18%\n",
      "# Finished iter 2 of 100: Parity 0. Distortion 0.432 at β₁=Inf, β₂=10.0. Acceptance: [0.91, 0.46, 0.18].\n",
      "Temperature 1 of 3:(β₁=Inf,β₂=0.1). Distortion 0.471. Acceptance 87%\n",
      "Temperature 2 of 3:(β₁=Inf,β₂=1.0). Distortion 0.432. Acceptance 43%\n",
      "Temperature 3 of 3:(β₁=Inf,β₂=10.0). Distortion 0.415. Acceptance 14%\n",
      "# Finished iter 3 of 100: Parity 0. Distortion 0.415 at β₁=Inf, β₂=10.0. Acceptance: [0.87, 0.43, 0.14].\n",
      "Temperature 1 of 3:(β₁=Inf,β₂=0.1). Distortion 0.452. Acceptance 94%\n",
      "Temperature 2 of 3:(β₁=Inf,β₂=1.0). Distortion 0.412. Acceptance 48%\n",
      "Temperature 3 of 3:(β₁=Inf,β₂=10.0). Distortion 0.397. Acceptance 17%\n",
      "# Finished iter 4 of 100: Parity 0. Distortion 0.397 at β₁=Inf, β₂=10.0. Acceptance: [0.94, 0.48, 0.17].\n",
      "Temperature 1 of 3:(β₁=Inf,β₂=0.1). Distortion 0.452. Acceptance 87%\n",
      "Temperature 2 of 3:(β₁=Inf,β₂=1.0). Distortion 0.41. Acceptance 45%\n",
      "Temperature 3 of 3:(β₁=Inf,β₂=10.0). Distortion 0.392. Acceptance 15%\n",
      "# Finished iter 5 of 100: Parity 0. Distortion 0.392 at β₁=Inf, β₂=10.0. Acceptance: [0.87, 0.45, 0.15].\n",
      "Temperature 1 of 3:(β₁=Inf,β₂=0.1). Distortion 0.49. Acceptance 94%\n"
     ]
    },
    {
     "name": "stdout",
     "output_type": "stream",
     "text": [
      "Temperature 2 of 3:(β₁=Inf,β₂=1.0). Distortion 0.436. Acceptance 51%\n",
      "Temperature 3 of 3:(β₁=Inf,β₂=10.0). Distortion 0.422. Acceptance 20%\n",
      "# Finished iter 6 of 100: Parity 0. Distortion 0.422 at β₁=Inf, β₂=10.0. Acceptance: [0.94, 0.51, 0.2].\n",
      "Temperature 1 of 3:(β₁=Inf,β₂=0.1). Distortion 0.474. Acceptance 92%\n",
      "Temperature 2 of 3:(β₁=Inf,β₂=1.0). Distortion 0.425. Acceptance 44%\n",
      "Temperature 3 of 3:(β₁=Inf,β₂=10.0). Distortion 0.411. Acceptance 17%\n",
      "# Finished iter 7 of 100: Parity 0. Distortion 0.411 at β₁=Inf, β₂=10.0. Acceptance: [0.92, 0.44, 0.17].\n",
      "Temperature 1 of 3:(β₁=Inf,β₂=0.1). Distortion 0.48. Acceptance 90%\n",
      "Temperature 2 of 3:(β₁=Inf,β₂=1.0). Distortion 0.447. Acceptance 52%\n",
      "Temperature 3 of 3:(β₁=Inf,β₂=10.0). Distortion 0.425. Acceptance 26%\n",
      "# Finished iter 8 of 100: Parity 0. Distortion 0.425 at β₁=Inf, β₂=10.0. Acceptance: [0.9, 0.52, 0.26].\n",
      "Temperature 1 of 3:(β₁=Inf,β₂=0.1). Distortion 0.506. Acceptance 92%\n",
      "Temperature 2 of 3:(β₁=Inf,β₂=1.0). Distortion 0.468. Acceptance 49%\n",
      "Temperature 3 of 3:(β₁=Inf,β₂=10.0). Distortion 0.439. Acceptance 19%\n",
      "# Finished iter 9 of 100: Parity 0. Distortion 0.439 at β₁=Inf, β₂=10.0. Acceptance: [0.92, 0.49, 0.19].\n",
      "Temperature 1 of 3:(β₁=Inf,β₂=0.1). Distortion 0.496. Acceptance 91%\n",
      "Temperature 2 of 3:(β₁=Inf,β₂=1.0). Distortion 0.462. Acceptance 46%\n",
      "Temperature 3 of 3:(β₁=Inf,β₂=10.0). Distortion 0.446. Acceptance 23%\n",
      "# Finished iter 10 of 100: Parity 0. Distortion 0.446 at β₁=Inf, β₂=10.0. Acceptance: [0.91, 0.46, 0.23].\n",
      "Temperature 1 of 3:(β₁=Inf,β₂=0.1). Distortion 0.504. Acceptance 91%\n",
      "Temperature 2 of 3:(β₁=Inf,β₂=1.0). Distortion 0.472. Acceptance 48%\n",
      "Temperature 3 of 3:(β₁=Inf,β₂=10.0). Distortion 0.445. Acceptance 22%\n",
      "# Finished iter 11 of 100: Parity 0. Distortion 0.445 at β₁=Inf, β₂=10.0. Acceptance: [0.91, 0.48, 0.22].\n",
      "Temperature 1 of 3:(β₁=Inf,β₂=0.1). Distortion 0.49. Acceptance 90%\n",
      "Temperature 2 of 3:(β₁=Inf,β₂=1.0). Distortion 0.457. Acceptance 50%\n",
      "Temperature 3 of 3:(β₁=Inf,β₂=10.0). Distortion 0.433. Acceptance 19%\n",
      "# Finished iter 12 of 100: Parity 0. Distortion 0.433 at β₁=Inf, β₂=10.0. Acceptance: [0.9, 0.5, 0.19].\n",
      "Temperature 1 of 3:(β₁=Inf,β₂=0.1). Distortion 0.475. Acceptance 88%\n",
      "Temperature 2 of 3:(β₁=Inf,β₂=1.0). Distortion 0.454. Acceptance 48%\n",
      "Temperature 3 of 3:(β₁=Inf,β₂=10.0). Distortion 0.418. Acceptance 27%\n",
      "# Finished iter 13 of 100: Parity 0. Distortion 0.418 at β₁=Inf, β₂=10.0. Acceptance: [0.88, 0.48, 0.27].\n",
      "Temperature 1 of 3:(β₁=Inf,β₂=0.1). Distortion 0.461. Acceptance 88%\n",
      "Temperature 2 of 3:(β₁=Inf,β₂=1.0). Distortion 0.415. Acceptance 44%\n",
      "Temperature 3 of 3:(β₁=Inf,β₂=10.0). Distortion 0.399. Acceptance 20%\n",
      "# Finished iter 14 of 100: Parity 0. Distortion 0.399 at β₁=Inf, β₂=10.0. Acceptance: [0.88, 0.44, 0.2].\n",
      "Temperature 1 of 3:(β₁=Inf,β₂=0.1). Distortion 0.482. Acceptance 89%\n",
      "Temperature 2 of 3:(β₁=Inf,β₂=1.0). Distortion 0.45. Acceptance 42%\n",
      "Temperature 3 of 3:(β₁=Inf,β₂=10.0). Distortion 0.42. Acceptance 25%\n",
      "# Finished iter 15 of 100: Parity 0. Distortion 0.420 at β₁=Inf, β₂=10.0. Acceptance: [0.89, 0.42, 0.25].\n",
      "Temperature 1 of 3:(β₁=Inf,β₂=0.1). Distortion 0.467. Acceptance 89%\n",
      "Temperature 2 of 3:(β₁=Inf,β₂=1.0). Distortion 0.435. Acceptance 50%\n",
      "Temperature 3 of 3:(β₁=Inf,β₂=10.0). Distortion 0.419. Acceptance 17%\n",
      "# Finished iter 16 of 100: Parity 0. Distortion 0.419 at β₁=Inf, β₂=10.0. Acceptance: [0.89, 0.5, 0.17].\n",
      "Temperature 1 of 3:(β₁=Inf,β₂=0.1). Distortion 0.488. Acceptance 90%\n",
      "Temperature 2 of 3:(β₁=Inf,β₂=1.0). Distortion 0.451. Acceptance 40%\n",
      "Temperature 3 of 3:(β₁=Inf,β₂=10.0). Distortion 0.432. Acceptance 16%\n",
      "# Finished iter 17 of 100: Parity 0. Distortion 0.432 at β₁=Inf, β₂=10.0. Acceptance: [0.9, 0.4, 0.16].\n",
      "Temperature 1 of 3:(β₁=Inf,β₂=0.1). Distortion 0.475. Acceptance 94%\n",
      "Temperature 2 of 3:(β₁=Inf,β₂=1.0). Distortion 0.432. Acceptance 46%\n",
      "Temperature 3 of 3:(β₁=Inf,β₂=10.0). Distortion 0.404. Acceptance 19%\n",
      "# Finished iter 18 of 100: Parity 0. Distortion 0.404 at β₁=Inf, β₂=10.0. Acceptance: [0.94, 0.46, 0.19].\n",
      "Temperature 1 of 3:(β₁=Inf,β₂=0.1). Distortion 0.48. Acceptance 88%\n",
      "Temperature 2 of 3:(β₁=Inf,β₂=1.0). Distortion 0.454. Acceptance 51%\n",
      "Temperature 3 of 3:(β₁=Inf,β₂=10.0). Distortion 0.433. Acceptance 29%\n",
      "# Finished iter 19 of 100: Parity 0. Distortion 0.433 at β₁=Inf, β₂=10.0. Acceptance: [0.88, 0.51, 0.29].\n",
      "Temperature 1 of 3:(β₁=Inf,β₂=0.1). Distortion 0.478. Acceptance 87%\n",
      "Temperature 2 of 3:(β₁=Inf,β₂=1.0). Distortion 0.444. Acceptance 46%\n",
      "Temperature 3 of 3:(β₁=Inf,β₂=10.0). Distortion 0.417. Acceptance 28%\n",
      "# Finished iter 20 of 100: Parity 0. Distortion 0.417 at β₁=Inf, β₂=10.0. Acceptance: [0.87, 0.46, 0.28].\n",
      "Temperature 1 of 3:(β₁=Inf,β₂=0.1). Distortion 0.485. Acceptance 89%\n",
      "Temperature 2 of 3:(β₁=Inf,β₂=1.0). Distortion 0.443. Acceptance 49%\n",
      "Temperature 3 of 3:(β₁=Inf,β₂=10.0). Distortion 0.421. Acceptance 20%\n",
      "# Finished iter 21 of 100: Parity 0. Distortion 0.421 at β₁=Inf, β₂=10.0. Acceptance: [0.89, 0.49, 0.2].\n",
      "Temperature 1 of 3:(β₁=Inf,β₂=0.1). Distortion 0.49. Acceptance 93%\n",
      "Temperature 2 of 3:(β₁=Inf,β₂=1.0). Distortion 0.455. Acceptance 37%\n",
      "Temperature 3 of 3:(β₁=Inf,β₂=10.0). Distortion 0.427. Acceptance 26%\n",
      "# Finished iter 22 of 100: Parity 0. Distortion 0.427 at β₁=Inf, β₂=10.0. Acceptance: [0.93, 0.37, 0.26].\n",
      "Temperature 1 of 3:(β₁=Inf,β₂=0.1). Distortion 0.494. Acceptance 93%\n",
      "Temperature 2 of 3:(β₁=Inf,β₂=1.0). Distortion 0.457. Acceptance 50%\n",
      "Temperature 3 of 3:(β₁=Inf,β₂=10.0). Distortion 0.427. Acceptance 20%\n",
      "# Finished iter 23 of 100: Parity 0. Distortion 0.427 at β₁=Inf, β₂=10.0. Acceptance: [0.93, 0.5, 0.2].\n",
      "Temperature 1 of 3:(β₁=Inf,β₂=0.1). Distortion 0.463. Acceptance 90%\n",
      "Temperature 2 of 3:(β₁=Inf,β₂=1.0). Distortion 0.439. Acceptance 55%\n",
      "Temperature 3 of 3:(β₁=Inf,β₂=10.0). Distortion 0.408. Acceptance 24%\n",
      "# Finished iter 24 of 100: Parity 0. Distortion 0.408 at β₁=Inf, β₂=10.0. Acceptance: [0.9, 0.55, 0.24].\n",
      "Temperature 1 of 3:(β₁=Inf,β₂=0.1). Distortion 0.488. Acceptance 93%\n",
      "Temperature 2 of 3:(β₁=Inf,β₂=1.0). Distortion 0.459. Acceptance 46%\n",
      "Temperature 3 of 3:(β₁=Inf,β₂=10.0). Distortion 0.429. Acceptance 23%\n",
      "# Finished iter 25 of 100: Parity 0. Distortion 0.429 at β₁=Inf, β₂=10.0. Acceptance: [0.93, 0.46, 0.23].\n",
      "Temperature 1 of 3:(β₁=Inf,β₂=0.1). Distortion 0.468. Acceptance 91%\n",
      "Temperature 2 of 3:(β₁=Inf,β₂=1.0). Distortion 0.421. Acceptance 40%\n",
      "Temperature 3 of 3:(β₁=Inf,β₂=10.0). Distortion 0.396. Acceptance 22%\n",
      "# Finished iter 26 of 100: Parity 0. Distortion 0.396 at β₁=Inf, β₂=10.0. Acceptance: [0.91, 0.4, 0.22].\n",
      "Temperature 1 of 3:(β₁=Inf,β₂=0.1). Distortion 0.483. Acceptance 87%\n",
      "Temperature 2 of 3:(β₁=Inf,β₂=1.0). Distortion 0.443. Acceptance 44%\n",
      "Temperature 3 of 3:(β₁=Inf,β₂=10.0). Distortion 0.427. Acceptance 13%\n",
      "# Finished iter 27 of 100: Parity 0. Distortion 0.427 at β₁=Inf, β₂=10.0. Acceptance: [0.87, 0.44, 0.13].\n",
      "Temperature 1 of 3:(β₁=Inf,β₂=0.1). Distortion 0.475. Acceptance 94%\n",
      "Temperature 2 of 3:(β₁=Inf,β₂=1.0). Distortion 0.426. Acceptance 47%\n",
      "Temperature 3 of 3:(β₁=Inf,β₂=10.0). Distortion 0.409. Acceptance 15%\n",
      "# Finished iter 28 of 100: Parity 0. Distortion 0.409 at β₁=Inf, β₂=10.0. Acceptance: [0.94, 0.47, 0.15].\n",
      "Temperature 1 of 3:(β₁=Inf,β₂=0.1). Distortion 0.469. Acceptance 84%\n",
      "Temperature 2 of 3:(β₁=Inf,β₂=1.0). Distortion 0.431. Acceptance 46%\n",
      "Temperature 3 of 3:(β₁=Inf,β₂=10.0). Distortion 0.411. Acceptance 20%\n",
      "# Finished iter 29 of 100: Parity 0. Distortion 0.411 at β₁=Inf, β₂=10.0. Acceptance: [0.84, 0.46, 0.2].\n",
      "Temperature 1 of 3:(β₁=Inf,β₂=0.1). Distortion 0.469. Acceptance 88%\n",
      "Temperature 2 of 3:(β₁=Inf,β₂=1.0). Distortion 0.446. Acceptance 34%\n",
      "Temperature 3 of 3:(β₁=Inf,β₂=10.0). Distortion 0.426. Acceptance 19%\n",
      "# Finished iter 30 of 100: Parity 0. Distortion 0.426 at β₁=Inf, β₂=10.0. Acceptance: [0.88, 0.34, 0.19].\n",
      "Temperature 1 of 3:(β₁=Inf,β₂=0.1). Distortion 0.484. Acceptance 92%\n",
      "Temperature 2 of 3:(β₁=Inf,β₂=1.0). Distortion 0.438. Acceptance 49%\n",
      "Temperature 3 of 3:(β₁=Inf,β₂=10.0). Distortion 0.419. Acceptance 21%\n",
      "# Finished iter 31 of 100: Parity 0. Distortion 0.419 at β₁=Inf, β₂=10.0. Acceptance: [0.92, 0.49, 0.21].\n",
      "Temperature 1 of 3:(β₁=Inf,β₂=0.1). Distortion 0.483. Acceptance 90%\n",
      "Temperature 2 of 3:(β₁=Inf,β₂=1.0). Distortion 0.459. Acceptance 44%\n"
     ]
    },
    {
     "name": "stdout",
     "output_type": "stream",
     "text": [
      "Temperature 3 of 3:(β₁=Inf,β₂=10.0). Distortion 0.431. Acceptance 22%\n",
      "# Finished iter 32 of 100: Parity 0. Distortion 0.431 at β₁=Inf, β₂=10.0. Acceptance: [0.9, 0.44, 0.22].\n",
      "Temperature 1 of 3:(β₁=Inf,β₂=0.1). Distortion 0.461. Acceptance 86%\n",
      "Temperature 2 of 3:(β₁=Inf,β₂=1.0). Distortion 0.44. Acceptance 38%\n",
      "Temperature 3 of 3:(β₁=Inf,β₂=10.0). Distortion 0.414. Acceptance 17%\n",
      "# Finished iter 33 of 100: Parity 0. Distortion 0.414 at β₁=Inf, β₂=10.0. Acceptance: [0.86, 0.38, 0.17].\n",
      "Temperature 1 of 3:(β₁=Inf,β₂=0.1). Distortion 0.48. Acceptance 84%\n",
      "Temperature 2 of 3:(β₁=Inf,β₂=1.0). Distortion 0.451. Acceptance 35%\n",
      "Temperature 3 of 3:(β₁=Inf,β₂=10.0). Distortion 0.436. Acceptance 21%\n",
      "# Finished iter 34 of 100: Parity 0. Distortion 0.436 at β₁=Inf, β₂=10.0. Acceptance: [0.84, 0.35, 0.21].\n",
      "Temperature 1 of 3:(β₁=Inf,β₂=0.1). Distortion 0.473. Acceptance 91%\n",
      "Temperature 2 of 3:(β₁=Inf,β₂=1.0). Distortion 0.442. Acceptance 51%\n",
      "Temperature 3 of 3:(β₁=Inf,β₂=10.0). Distortion 0.432. Acceptance 11%\n",
      "# Finished iter 35 of 100: Parity 0. Distortion 0.432 at β₁=Inf, β₂=10.0. Acceptance: [0.91, 0.51, 0.11].\n",
      "Temperature 1 of 3:(β₁=Inf,β₂=0.1). Distortion 0.461. Acceptance 85%\n",
      "Temperature 2 of 3:(β₁=Inf,β₂=1.0). Distortion 0.438. Acceptance 46%\n",
      "Temperature 3 of 3:(β₁=Inf,β₂=10.0). Distortion 0.408. Acceptance 25%\n",
      "# Finished iter 36 of 100: Parity 0. Distortion 0.408 at β₁=Inf, β₂=10.0. Acceptance: [0.85, 0.46, 0.25].\n",
      "Temperature 1 of 3:(β₁=Inf,β₂=0.1). Distortion 0.461. Acceptance 89%\n",
      "Temperature 2 of 3:(β₁=Inf,β₂=1.0). Distortion 0.417. Acceptance 51%\n",
      "Temperature 3 of 3:(β₁=Inf,β₂=10.0). Distortion 0.391. Acceptance 23%\n",
      "# Finished iter 37 of 100: Parity 0. Distortion 0.391 at β₁=Inf, β₂=10.0. Acceptance: [0.89, 0.51, 0.23].\n",
      "Temperature 1 of 3:(β₁=Inf,β₂=0.1). Distortion 0.448. Acceptance 86%\n",
      "Temperature 2 of 3:(β₁=Inf,β₂=1.0). Distortion 0.431. Acceptance 51%\n",
      "Temperature 3 of 3:(β₁=Inf,β₂=10.0). Distortion 0.409. Acceptance 18%\n",
      "# Finished iter 38 of 100: Parity 0. Distortion 0.409 at β₁=Inf, β₂=10.0. Acceptance: [0.86, 0.51, 0.18].\n",
      "Temperature 1 of 3:(β₁=Inf,β₂=0.1). Distortion 0.469. Acceptance 89%\n",
      "Temperature 2 of 3:(β₁=Inf,β₂=1.0). Distortion 0.444. Acceptance 46%\n",
      "Temperature 3 of 3:(β₁=Inf,β₂=10.0). Distortion 0.42. Acceptance 18%\n",
      "# Finished iter 39 of 100: Parity 0. Distortion 0.420 at β₁=Inf, β₂=10.0. Acceptance: [0.89, 0.46, 0.18].\n",
      "Temperature 1 of 3:(β₁=Inf,β₂=0.1). Distortion 0.482. Acceptance 94%\n",
      "Temperature 2 of 3:(β₁=Inf,β₂=1.0). Distortion 0.443. Acceptance 44%\n",
      "Temperature 3 of 3:(β₁=Inf,β₂=10.0). Distortion 0.415. Acceptance 28%\n",
      "# Finished iter 40 of 100: Parity 0. Distortion 0.415 at β₁=Inf, β₂=10.0. Acceptance: [0.94, 0.44, 0.28].\n",
      "Temperature 1 of 3:(β₁=Inf,β₂=0.1). Distortion 0.487. Acceptance 91%\n",
      "Temperature 2 of 3:(β₁=Inf,β₂=1.0). Distortion 0.447. Acceptance 45%\n",
      "Temperature 3 of 3:(β₁=Inf,β₂=10.0). Distortion 0.425. Acceptance 24%\n",
      "# Finished iter 41 of 100: Parity 0. Distortion 0.425 at β₁=Inf, β₂=10.0. Acceptance: [0.91, 0.45, 0.24].\n",
      "Temperature 1 of 3:(β₁=Inf,β₂=0.1). Distortion 0.458. Acceptance 89%\n",
      "Temperature 2 of 3:(β₁=Inf,β₂=1.0). Distortion 0.437. Acceptance 48%\n",
      "Temperature 3 of 3:(β₁=Inf,β₂=10.0). Distortion 0.415. Acceptance 19%\n",
      "# Finished iter 42 of 100: Parity 0. Distortion 0.415 at β₁=Inf, β₂=10.0. Acceptance: [0.89, 0.48, 0.19].\n",
      "Temperature 1 of 3:(β₁=Inf,β₂=0.1). Distortion 0.461. Acceptance 90%\n",
      "Temperature 2 of 3:(β₁=Inf,β₂=1.0). Distortion 0.432. Acceptance 36%\n",
      "Temperature 3 of 3:(β₁=Inf,β₂=10.0). Distortion 0.412. Acceptance 29%\n",
      "# Finished iter 43 of 100: Parity 0. Distortion 0.412 at β₁=Inf, β₂=10.0. Acceptance: [0.9, 0.36, 0.29].\n",
      "Temperature 1 of 3:(β₁=Inf,β₂=0.1). Distortion 0.489. Acceptance 89%\n",
      "Temperature 2 of 3:(β₁=Inf,β₂=1.0). Distortion 0.459. Acceptance 47%\n",
      "Temperature 3 of 3:(β₁=Inf,β₂=10.0). Distortion 0.436. Acceptance 24%\n",
      "# Finished iter 44 of 100: Parity 0. Distortion 0.436 at β₁=Inf, β₂=10.0. Acceptance: [0.89, 0.47, 0.24].\n",
      "Temperature 1 of 3:(β₁=Inf,β₂=0.1). Distortion 0.458. Acceptance 90%\n",
      "Temperature 2 of 3:(β₁=Inf,β₂=1.0). Distortion 0.419. Acceptance 47%\n",
      "Temperature 3 of 3:(β₁=Inf,β₂=10.0). Distortion 0.404. Acceptance 14%\n",
      "# Finished iter 45 of 100: Parity 0. Distortion 0.404 at β₁=Inf, β₂=10.0. Acceptance: [0.9, 0.47, 0.14].\n",
      "Temperature 1 of 3:(β₁=Inf,β₂=0.1). Distortion 0.477. Acceptance 90%\n",
      "Temperature 2 of 3:(β₁=Inf,β₂=1.0). Distortion 0.44. Acceptance 35%\n",
      "Temperature 3 of 3:(β₁=Inf,β₂=10.0). Distortion 0.416. Acceptance 13%\n",
      "# Finished iter 46 of 100: Parity 0. Distortion 0.416 at β₁=Inf, β₂=10.0. Acceptance: [0.9, 0.35, 0.13].\n",
      "Temperature 1 of 3:(β₁=Inf,β₂=0.1). Distortion 0.485. Acceptance 92%\n",
      "Temperature 2 of 3:(β₁=Inf,β₂=1.0). Distortion 0.464. Acceptance 52%\n",
      "Temperature 3 of 3:(β₁=Inf,β₂=10.0). Distortion 0.426. Acceptance 20%\n",
      "# Finished iter 47 of 100: Parity 0. Distortion 0.426 at β₁=Inf, β₂=10.0. Acceptance: [0.92, 0.52, 0.2].\n",
      "Temperature 1 of 3:(β₁=Inf,β₂=0.1). Distortion 0.465. Acceptance 86%\n",
      "Temperature 2 of 3:(β₁=Inf,β₂=1.0). Distortion 0.433. Acceptance 38%\n",
      "Temperature 3 of 3:(β₁=Inf,β₂=10.0). Distortion 0.415. Acceptance 15%\n",
      "# Finished iter 48 of 100: Parity 0. Distortion 0.415 at β₁=Inf, β₂=10.0. Acceptance: [0.86, 0.38, 0.15].\n",
      "Temperature 1 of 3:(β₁=Inf,β₂=0.1). Distortion 0.474. Acceptance 92%\n",
      "Temperature 2 of 3:(β₁=Inf,β₂=1.0). Distortion 0.428. Acceptance 44%\n",
      "Temperature 3 of 3:(β₁=Inf,β₂=10.0). Distortion 0.413. Acceptance 13%\n",
      "# Finished iter 49 of 100: Parity 0. Distortion 0.413 at β₁=Inf, β₂=10.0. Acceptance: [0.92, 0.44, 0.13].\n",
      "Temperature 1 of 3:(β₁=Inf,β₂=0.1). Distortion 0.473. Acceptance 89%\n",
      "Temperature 2 of 3:(β₁=Inf,β₂=1.0). Distortion 0.44. Acceptance 49%\n",
      "Temperature 3 of 3:(β₁=Inf,β₂=10.0). Distortion 0.424. Acceptance 16%\n",
      "# Finished iter 50 of 100: Parity 0. Distortion 0.424 at β₁=Inf, β₂=10.0. Acceptance: [0.89, 0.49, 0.16].\n",
      "Temperature 1 of 3:(β₁=Inf,β₂=0.1). Distortion 0.467. Acceptance 85%\n",
      "Temperature 2 of 3:(β₁=Inf,β₂=1.0). Distortion 0.432. Acceptance 44%\n",
      "Temperature 3 of 3:(β₁=Inf,β₂=10.0). Distortion 0.408. Acceptance 18%\n",
      "# Finished iter 51 of 100: Parity 0. Distortion 0.408 at β₁=Inf, β₂=10.0. Acceptance: [0.85, 0.44, 0.18].\n",
      "Temperature 1 of 3:(β₁=Inf,β₂=0.1). Distortion 0.48. Acceptance 90%\n",
      "Temperature 2 of 3:(β₁=Inf,β₂=1.0). Distortion 0.468. Acceptance 39%\n",
      "Temperature 3 of 3:(β₁=Inf,β₂=10.0). Distortion 0.447. Acceptance 15%\n",
      "# Finished iter 52 of 100: Parity 0. Distortion 0.447 at β₁=Inf, β₂=10.0. Acceptance: [0.9, 0.39, 0.15].\n",
      "Temperature 1 of 3:(β₁=Inf,β₂=0.1). Distortion 0.465. Acceptance 88%\n",
      "Temperature 2 of 3:(β₁=Inf,β₂=1.0). Distortion 0.44. Acceptance 36%\n",
      "Temperature 3 of 3:(β₁=Inf,β₂=10.0). Distortion 0.417. Acceptance 30%\n",
      "# Finished iter 53 of 100: Parity 0. Distortion 0.417 at β₁=Inf, β₂=10.0. Acceptance: [0.88, 0.36, 0.3].\n",
      "Temperature 1 of 3:(β₁=Inf,β₂=0.1). Distortion 0.484. Acceptance 86%\n",
      "Temperature 2 of 3:(β₁=Inf,β₂=1.0). Distortion 0.449. Acceptance 49%\n",
      "Temperature 3 of 3:(β₁=Inf,β₂=10.0). Distortion 0.439. Acceptance 16%\n",
      "# Finished iter 54 of 100: Parity 0. Distortion 0.439 at β₁=Inf, β₂=10.0. Acceptance: [0.86, 0.49, 0.16].\n",
      "Temperature 1 of 3:(β₁=Inf,β₂=0.1). Distortion 0.488. Acceptance 85%\n",
      "Temperature 2 of 3:(β₁=Inf,β₂=1.0). Distortion 0.45. Acceptance 51%\n",
      "Temperature 3 of 3:(β₁=Inf,β₂=10.0). Distortion 0.423. Acceptance 25%\n",
      "# Finished iter 55 of 100: Parity 0. Distortion 0.423 at β₁=Inf, β₂=10.0. Acceptance: [0.85, 0.51, 0.25].\n",
      "Temperature 1 of 3:(β₁=Inf,β₂=0.1). Distortion 0.492. Acceptance 84%\n",
      "Temperature 2 of 3:(β₁=Inf,β₂=1.0). Distortion 0.465. Acceptance 50%\n",
      "Temperature 3 of 3:(β₁=Inf,β₂=10.0). Distortion 0.444. Acceptance 17%\n",
      "# Finished iter 56 of 100: Parity 0. Distortion 0.444 at β₁=Inf, β₂=10.0. Acceptance: [0.84, 0.5, 0.17].\n",
      "Temperature 1 of 3:(β₁=Inf,β₂=0.1). Distortion 0.479. Acceptance 85%\n",
      "Temperature 2 of 3:(β₁=Inf,β₂=1.0). Distortion 0.463. Acceptance 46%\n",
      "Temperature 3 of 3:(β₁=Inf,β₂=10.0). Distortion 0.439. Acceptance 22%\n",
      "# Finished iter 57 of 100: Parity 0. Distortion 0.439 at β₁=Inf, β₂=10.0. Acceptance: [0.85, 0.46, 0.22].\n",
      "Temperature 1 of 3:(β₁=Inf,β₂=0.1). Distortion 0.471. Acceptance 91%\n",
      "Temperature 2 of 3:(β₁=Inf,β₂=1.0). Distortion 0.438. Acceptance 39%\n",
      "Temperature 3 of 3:(β₁=Inf,β₂=10.0). Distortion 0.425. Acceptance 18%\n",
      "# Finished iter 58 of 100: Parity 0. Distortion 0.425 at β₁=Inf, β₂=10.0. Acceptance: [0.91, 0.39, 0.18].\n"
     ]
    },
    {
     "name": "stdout",
     "output_type": "stream",
     "text": [
      "Temperature 1 of 3:(β₁=Inf,β₂=0.1). Distortion 0.457. Acceptance 91%\n",
      "Temperature 2 of 3:(β₁=Inf,β₂=1.0). Distortion 0.439. Acceptance 46%\n",
      "Temperature 3 of 3:(β₁=Inf,β₂=10.0). Distortion 0.414. Acceptance 21%\n",
      "# Finished iter 59 of 100: Parity 0. Distortion 0.414 at β₁=Inf, β₂=10.0. Acceptance: [0.91, 0.46, 0.21].\n",
      "Temperature 1 of 3:(β₁=Inf,β₂=0.1). Distortion 0.464. Acceptance 88%\n",
      "Temperature 2 of 3:(β₁=Inf,β₂=1.0). Distortion 0.432. Acceptance 43%\n",
      "Temperature 3 of 3:(β₁=Inf,β₂=10.0). Distortion 0.412. Acceptance 20%\n",
      "# Finished iter 60 of 100: Parity 0. Distortion 0.412 at β₁=Inf, β₂=10.0. Acceptance: [0.88, 0.43, 0.2].\n",
      "Temperature 1 of 3:(β₁=Inf,β₂=0.1). Distortion 0.47. Acceptance 92%\n",
      "Temperature 2 of 3:(β₁=Inf,β₂=1.0). Distortion 0.44. Acceptance 45%\n",
      "Temperature 3 of 3:(β₁=Inf,β₂=10.0). Distortion 0.411. Acceptance 27%\n",
      "# Finished iter 61 of 100: Parity 0. Distortion 0.411 at β₁=Inf, β₂=10.0. Acceptance: [0.92, 0.45, 0.27].\n",
      "Temperature 1 of 3:(β₁=Inf,β₂=0.1). Distortion 0.466. Acceptance 88%\n",
      "Temperature 2 of 3:(β₁=Inf,β₂=1.0). Distortion 0.441. Acceptance 30%\n",
      "Temperature 3 of 3:(β₁=Inf,β₂=10.0). Distortion 0.427. Acceptance 21%\n",
      "# Finished iter 62 of 100: Parity 0. Distortion 0.427 at β₁=Inf, β₂=10.0. Acceptance: [0.88, 0.3, 0.21].\n",
      "Temperature 1 of 3:(β₁=Inf,β₂=0.1). Distortion 0.484. Acceptance 87%\n",
      "Temperature 2 of 3:(β₁=Inf,β₂=1.0). Distortion 0.45. Acceptance 45%\n",
      "Temperature 3 of 3:(β₁=Inf,β₂=10.0). Distortion 0.434. Acceptance 16%\n",
      "# Finished iter 63 of 100: Parity 0. Distortion 0.434 at β₁=Inf, β₂=10.0. Acceptance: [0.87, 0.45, 0.16].\n",
      "Temperature 1 of 3:(β₁=Inf,β₂=0.1). Distortion 0.488. Acceptance 89%\n",
      "Temperature 2 of 3:(β₁=Inf,β₂=1.0). Distortion 0.45. Acceptance 41%\n",
      "Temperature 3 of 3:(β₁=Inf,β₂=10.0). Distortion 0.435. Acceptance 12%\n",
      "# Finished iter 64 of 100: Parity 0. Distortion 0.435 at β₁=Inf, β₂=10.0. Acceptance: [0.89, 0.41, 0.12].\n",
      "Temperature 1 of 3:(β₁=Inf,β₂=0.1). Distortion 0.473. Acceptance 87%\n",
      "Temperature 2 of 3:(β₁=Inf,β₂=1.0). Distortion 0.442. Acceptance 38%\n",
      "Temperature 3 of 3:(β₁=Inf,β₂=10.0). Distortion 0.411. Acceptance 23%\n",
      "# Finished iter 65 of 100: Parity 0. Distortion 0.411 at β₁=Inf, β₂=10.0. Acceptance: [0.87, 0.38, 0.23].\n",
      "Temperature 1 of 3:(β₁=Inf,β₂=0.1). Distortion 0.478. Acceptance 92%\n",
      "Temperature 2 of 3:(β₁=Inf,β₂=1.0). Distortion 0.447. Acceptance 44%\n",
      "Temperature 3 of 3:(β₁=Inf,β₂=10.0). Distortion 0.426. Acceptance 19%\n",
      "# Finished iter 66 of 100: Parity 0. Distortion 0.426 at β₁=Inf, β₂=10.0. Acceptance: [0.92, 0.44, 0.19].\n",
      "Temperature 1 of 3:(β₁=Inf,β₂=0.1). Distortion 0.479. Acceptance 88%\n",
      "Temperature 2 of 3:(β₁=Inf,β₂=1.0). Distortion 0.451. Acceptance 53%\n",
      "Temperature 3 of 3:(β₁=Inf,β₂=10.0). Distortion 0.431. Acceptance 14%\n",
      "# Finished iter 67 of 100: Parity 0. Distortion 0.431 at β₁=Inf, β₂=10.0. Acceptance: [0.88, 0.53, 0.14].\n",
      "Temperature 1 of 3:(β₁=Inf,β₂=0.1). Distortion 0.487. Acceptance 92%\n",
      "Temperature 2 of 3:(β₁=Inf,β₂=1.0). Distortion 0.444. Acceptance 35%\n",
      "Temperature 3 of 3:(β₁=Inf,β₂=10.0). Distortion 0.428. Acceptance 19%\n",
      "# Finished iter 68 of 100: Parity 0. Distortion 0.428 at β₁=Inf, β₂=10.0. Acceptance: [0.92, 0.35, 0.19].\n",
      "Temperature 1 of 3:(β₁=Inf,β₂=0.1). Distortion 0.478. Acceptance 91%\n",
      "Temperature 2 of 3:(β₁=Inf,β₂=1.0). Distortion 0.443. Acceptance 37%\n",
      "Temperature 3 of 3:(β₁=Inf,β₂=10.0). Distortion 0.423. Acceptance 18%\n",
      "# Finished iter 69 of 100: Parity 0. Distortion 0.423 at β₁=Inf, β₂=10.0. Acceptance: [0.91, 0.37, 0.18].\n",
      "Temperature 1 of 3:(β₁=Inf,β₂=0.1). Distortion 0.487. Acceptance 84%\n",
      "Temperature 2 of 3:(β₁=Inf,β₂=1.0). Distortion 0.446. Acceptance 50%\n",
      "Temperature 3 of 3:(β₁=Inf,β₂=10.0). Distortion 0.427. Acceptance 18%\n",
      "# Finished iter 70 of 100: Parity 0. Distortion 0.427 at β₁=Inf, β₂=10.0. Acceptance: [0.84, 0.5, 0.18].\n",
      "Temperature 1 of 3:(β₁=Inf,β₂=0.1). Distortion 0.478. Acceptance 90%\n",
      "Temperature 2 of 3:(β₁=Inf,β₂=1.0). Distortion 0.415. Acceptance 50%\n",
      "Temperature 3 of 3:(β₁=Inf,β₂=10.0). Distortion 0.403. Acceptance 16%\n",
      "# Finished iter 71 of 100: Parity 0. Distortion 0.403 at β₁=Inf, β₂=10.0. Acceptance: [0.9, 0.5, 0.16].\n",
      "Temperature 1 of 3:(β₁=Inf,β₂=0.1). Distortion 0.46. Acceptance 86%\n",
      "Temperature 2 of 3:(β₁=Inf,β₂=1.0). Distortion 0.439. Acceptance 45%\n",
      "Temperature 3 of 3:(β₁=Inf,β₂=10.0). Distortion 0.416. Acceptance 23%\n",
      "# Finished iter 72 of 100: Parity 0. Distortion 0.416 at β₁=Inf, β₂=10.0. Acceptance: [0.86, 0.45, 0.23].\n",
      "Temperature 1 of 3:(β₁=Inf,β₂=0.1). Distortion 0.46. Acceptance 88%\n",
      "Temperature 2 of 3:(β₁=Inf,β₂=1.0). Distortion 0.429. Acceptance 33%\n",
      "Temperature 3 of 3:(β₁=Inf,β₂=10.0). Distortion 0.419. Acceptance 17%\n",
      "# Finished iter 73 of 100: Parity 0. Distortion 0.419 at β₁=Inf, β₂=10.0. Acceptance: [0.88, 0.33, 0.17].\n",
      "Temperature 1 of 3:(β₁=Inf,β₂=0.1). Distortion 0.473. Acceptance 87%\n",
      "Temperature 2 of 3:(β₁=Inf,β₂=1.0). Distortion 0.425. Acceptance 48%\n",
      "Temperature 3 of 3:(β₁=Inf,β₂=10.0). Distortion 0.411. Acceptance 14%\n",
      "# Finished iter 74 of 100: Parity 0. Distortion 0.411 at β₁=Inf, β₂=10.0. Acceptance: [0.87, 0.48, 0.14].\n",
      "Temperature 1 of 3:(β₁=Inf,β₂=0.1). Distortion 0.478. Acceptance 92%\n",
      "Temperature 2 of 3:(β₁=Inf,β₂=1.0). Distortion 0.427. Acceptance 51%\n",
      "Temperature 3 of 3:(β₁=Inf,β₂=10.0). Distortion 0.413. Acceptance 18%\n",
      "# Finished iter 75 of 100: Parity 0. Distortion 0.413 at β₁=Inf, β₂=10.0. Acceptance: [0.92, 0.51, 0.18].\n",
      "Temperature 1 of 3:(β₁=Inf,β₂=0.1). Distortion 0.479. Acceptance 83%\n",
      "Temperature 2 of 3:(β₁=Inf,β₂=1.0). Distortion 0.456. Acceptance 47%\n",
      "Temperature 3 of 3:(β₁=Inf,β₂=10.0). Distortion 0.433. Acceptance 20%\n",
      "# Finished iter 76 of 100: Parity 0. Distortion 0.433 at β₁=Inf, β₂=10.0. Acceptance: [0.83, 0.47, 0.2].\n",
      "Temperature 1 of 3:(β₁=Inf,β₂=0.1). Distortion 0.471. Acceptance 84%\n",
      "Temperature 2 of 3:(β₁=Inf,β₂=1.0). Distortion 0.437. Acceptance 49%\n",
      "Temperature 3 of 3:(β₁=Inf,β₂=10.0). Distortion 0.424. Acceptance 12%\n",
      "# Finished iter 77 of 100: Parity 0. Distortion 0.424 at β₁=Inf, β₂=10.0. Acceptance: [0.84, 0.49, 0.12].\n",
      "Temperature 1 of 3:(β₁=Inf,β₂=0.1). Distortion 0.477. Acceptance 90%\n",
      "Temperature 2 of 3:(β₁=Inf,β₂=1.0). Distortion 0.449. Acceptance 45%\n",
      "Temperature 3 of 3:(β₁=Inf,β₂=10.0). Distortion 0.429. Acceptance 19%\n",
      "# Finished iter 78 of 100: Parity 0. Distortion 0.429 at β₁=Inf, β₂=10.0. Acceptance: [0.9, 0.45, 0.19].\n",
      "Temperature 1 of 3:(β₁=Inf,β₂=0.1). Distortion 0.471. Acceptance 90%\n",
      "Temperature 2 of 3:(β₁=Inf,β₂=1.0). Distortion 0.437. Acceptance 43%\n",
      "Temperature 3 of 3:(β₁=Inf,β₂=10.0). Distortion 0.42. Acceptance 18%\n",
      "# Finished iter 79 of 100: Parity 0. Distortion 0.420 at β₁=Inf, β₂=10.0. Acceptance: [0.9, 0.43, 0.18].\n",
      "Temperature 1 of 3:(β₁=Inf,β₂=0.1). Distortion 0.478. Acceptance 91%\n",
      "Temperature 2 of 3:(β₁=Inf,β₂=1.0). Distortion 0.448. Acceptance 54%\n",
      "Temperature 3 of 3:(β₁=Inf,β₂=10.0). Distortion 0.431. Acceptance 21%\n",
      "# Finished iter 80 of 100: Parity 0. Distortion 0.431 at β₁=Inf, β₂=10.0. Acceptance: [0.91, 0.54, 0.21].\n",
      "Temperature 1 of 3:(β₁=Inf,β₂=0.1). Distortion 0.48. Acceptance 89%\n",
      "Temperature 2 of 3:(β₁=Inf,β₂=1.0). Distortion 0.438. Acceptance 56%\n",
      "Temperature 3 of 3:(β₁=Inf,β₂=10.0). Distortion 0.429. Acceptance 11%\n",
      "# Finished iter 81 of 100: Parity 0. Distortion 0.429 at β₁=Inf, β₂=10.0. Acceptance: [0.89, 0.56, 0.11].\n",
      "Temperature 1 of 3:(β₁=Inf,β₂=0.1). Distortion 0.496. Acceptance 91%\n",
      "Temperature 2 of 3:(β₁=Inf,β₂=1.0). Distortion 0.469. Acceptance 54%\n",
      "Temperature 3 of 3:(β₁=Inf,β₂=10.0). Distortion 0.434. Acceptance 24%\n",
      "# Finished iter 82 of 100: Parity 0. Distortion 0.434 at β₁=Inf, β₂=10.0. Acceptance: [0.91, 0.54, 0.24].\n",
      "Temperature 1 of 3:(β₁=Inf,β₂=0.1). Distortion 0.467. Acceptance 86%\n",
      "Temperature 2 of 3:(β₁=Inf,β₂=1.0). Distortion 0.431. Acceptance 47%\n",
      "Temperature 3 of 3:(β₁=Inf,β₂=10.0). Distortion 0.406. Acceptance 20%\n",
      "# Finished iter 83 of 100: Parity 0. Distortion 0.406 at β₁=Inf, β₂=10.0. Acceptance: [0.86, 0.47, 0.2].\n",
      "Temperature 1 of 3:(β₁=Inf,β₂=0.1). Distortion 0.467. Acceptance 92%\n",
      "Temperature 2 of 3:(β₁=Inf,β₂=1.0). Distortion 0.43. Acceptance 43%\n",
      "Temperature 3 of 3:(β₁=Inf,β₂=10.0). Distortion 0.404. Acceptance 20%\n",
      "# Finished iter 84 of 100: Parity 0. Distortion 0.404 at β₁=Inf, β₂=10.0. Acceptance: [0.92, 0.43, 0.2].\n",
      "Temperature 1 of 3:(β₁=Inf,β₂=0.1). Distortion 0.455. Acceptance 86%\n"
     ]
    },
    {
     "name": "stdout",
     "output_type": "stream",
     "text": [
      "Temperature 2 of 3:(β₁=Inf,β₂=1.0). Distortion 0.42. Acceptance 40%\n",
      "Temperature 3 of 3:(β₁=Inf,β₂=10.0). Distortion 0.405. Acceptance 12%\n",
      "# Finished iter 85 of 100: Parity 0. Distortion 0.405 at β₁=Inf, β₂=10.0. Acceptance: [0.86, 0.4, 0.12].\n",
      "Temperature 1 of 3:(β₁=Inf,β₂=0.1). Distortion 0.478. Acceptance 90%\n",
      "Temperature 2 of 3:(β₁=Inf,β₂=1.0). Distortion 0.44. Acceptance 49%\n",
      "Temperature 3 of 3:(β₁=Inf,β₂=10.0). Distortion 0.414. Acceptance 20%\n",
      "# Finished iter 86 of 100: Parity 0. Distortion 0.414 at β₁=Inf, β₂=10.0. Acceptance: [0.9, 0.49, 0.2].\n",
      "Temperature 1 of 3:(β₁=Inf,β₂=0.1). Distortion 0.476. Acceptance 90%\n",
      "Temperature 2 of 3:(β₁=Inf,β₂=1.0). Distortion 0.437. Acceptance 47%\n",
      "Temperature 3 of 3:(β₁=Inf,β₂=10.0). Distortion 0.419. Acceptance 23%\n",
      "# Finished iter 87 of 100: Parity 0. Distortion 0.419 at β₁=Inf, β₂=10.0. Acceptance: [0.9, 0.47, 0.23].\n",
      "Temperature 1 of 3:(β₁=Inf,β₂=0.1). Distortion 0.486. Acceptance 86%\n",
      "Temperature 2 of 3:(β₁=Inf,β₂=1.0). Distortion 0.457. Acceptance 56%\n",
      "Temperature 3 of 3:(β₁=Inf,β₂=10.0). Distortion 0.425. Acceptance 18%\n",
      "# Finished iter 88 of 100: Parity 0. Distortion 0.425 at β₁=Inf, β₂=10.0. Acceptance: [0.86, 0.56, 0.18].\n",
      "Temperature 1 of 3:(β₁=Inf,β₂=0.1). Distortion 0.46. Acceptance 93%\n",
      "Temperature 2 of 3:(β₁=Inf,β₂=1.0). Distortion 0.437. Acceptance 52%\n",
      "Temperature 3 of 3:(β₁=Inf,β₂=10.0). Distortion 0.411. Acceptance 19%\n",
      "# Finished iter 89 of 100: Parity 0. Distortion 0.411 at β₁=Inf, β₂=10.0. Acceptance: [0.93, 0.52, 0.19].\n",
      "Temperature 1 of 3:(β₁=Inf,β₂=0.1). Distortion 0.493. Acceptance 91%\n",
      "Temperature 2 of 3:(β₁=Inf,β₂=1.0). Distortion 0.45. Acceptance 50%\n",
      "Temperature 3 of 3:(β₁=Inf,β₂=10.0). Distortion 0.433. Acceptance 22%\n",
      "# Finished iter 90 of 100: Parity 0. Distortion 0.433 at β₁=Inf, β₂=10.0. Acceptance: [0.91, 0.5, 0.22].\n",
      "Temperature 1 of 3:(β₁=Inf,β₂=0.1). Distortion 0.493. Acceptance 86%\n",
      "Temperature 2 of 3:(β₁=Inf,β₂=1.0). Distortion 0.464. Acceptance 42%\n",
      "Temperature 3 of 3:(β₁=Inf,β₂=10.0). Distortion 0.431. Acceptance 25%\n",
      "# Finished iter 91 of 100: Parity 0. Distortion 0.431 at β₁=Inf, β₂=10.0. Acceptance: [0.86, 0.42, 0.25].\n",
      "Temperature 1 of 3:(β₁=Inf,β₂=0.1). Distortion 0.463. Acceptance 87%\n",
      "Temperature 2 of 3:(β₁=Inf,β₂=1.0). Distortion 0.425. Acceptance 45%\n",
      "Temperature 3 of 3:(β₁=Inf,β₂=10.0). Distortion 0.402. Acceptance 21%\n",
      "# Finished iter 92 of 100: Parity 0. Distortion 0.402 at β₁=Inf, β₂=10.0. Acceptance: [0.87, 0.45, 0.21].\n",
      "Temperature 1 of 3:(β₁=Inf,β₂=0.1). Distortion 0.478. Acceptance 87%\n",
      "Temperature 2 of 3:(β₁=Inf,β₂=1.0). Distortion 0.451. Acceptance 42%\n",
      "Temperature 3 of 3:(β₁=Inf,β₂=10.0). Distortion 0.431. Acceptance 31%\n",
      "# Finished iter 93 of 100: Parity 0. Distortion 0.431 at β₁=Inf, β₂=10.0. Acceptance: [0.87, 0.42, 0.31].\n",
      "Temperature 1 of 3:(β₁=Inf,β₂=0.1). Distortion 0.445. Acceptance 90%\n",
      "Temperature 2 of 3:(β₁=Inf,β₂=1.0). Distortion 0.4. Acceptance 40%\n",
      "Temperature 3 of 3:(β₁=Inf,β₂=10.0). Distortion 0.38. Acceptance 16%\n",
      "# Finished iter 94 of 100: Parity 0. Distortion 0.380 at β₁=Inf, β₂=10.0. Acceptance: [0.9, 0.4, 0.16].\n",
      "Temperature 1 of 3:(β₁=Inf,β₂=0.1). Distortion 0.465. Acceptance 90%\n",
      "Temperature 2 of 3:(β₁=Inf,β₂=1.0). Distortion 0.428. Acceptance 44%\n",
      "Temperature 3 of 3:(β₁=Inf,β₂=10.0). Distortion 0.411. Acceptance 16%\n",
      "# Finished iter 95 of 100: Parity 0. Distortion 0.411 at β₁=Inf, β₂=10.0. Acceptance: [0.9, 0.44, 0.16].\n",
      "Temperature 1 of 3:(β₁=Inf,β₂=0.1). Distortion 0.474. Acceptance 84%\n",
      "Temperature 2 of 3:(β₁=Inf,β₂=1.0). Distortion 0.44. Acceptance 54%\n",
      "Temperature 3 of 3:(β₁=Inf,β₂=10.0). Distortion 0.411. Acceptance 17%\n",
      "# Finished iter 96 of 100: Parity 0. Distortion 0.411 at β₁=Inf, β₂=10.0. Acceptance: [0.84, 0.54, 0.17].\n",
      "Temperature 1 of 3:(β₁=Inf,β₂=0.1). Distortion 0.486. Acceptance 88%\n",
      "Temperature 2 of 3:(β₁=Inf,β₂=1.0). Distortion 0.436. Acceptance 45%\n",
      "Temperature 3 of 3:(β₁=Inf,β₂=10.0). Distortion 0.418. Acceptance 21%\n",
      "# Finished iter 97 of 100: Parity 0. Distortion 0.418 at β₁=Inf, β₂=10.0. Acceptance: [0.88, 0.45, 0.21].\n",
      "Temperature 1 of 3:(β₁=Inf,β₂=0.1). Distortion 0.482. Acceptance 88%\n",
      "Temperature 2 of 3:(β₁=Inf,β₂=1.0). Distortion 0.453. Acceptance 48%\n",
      "Temperature 3 of 3:(β₁=Inf,β₂=10.0). Distortion 0.432. Acceptance 18%\n",
      "# Finished iter 98 of 100: Parity 0. Distortion 0.432 at β₁=Inf, β₂=10.0. Acceptance: [0.88, 0.48, 0.18].\n",
      "Temperature 1 of 3:(β₁=Inf,β₂=0.1). Distortion 0.481. Acceptance 92%\n",
      "Temperature 2 of 3:(β₁=Inf,β₂=1.0). Distortion 0.419. Acceptance 42%\n",
      "Temperature 3 of 3:(β₁=Inf,β₂=10.0). Distortion 0.406. Acceptance 14%\n",
      "# Finished iter 99 of 100: Parity 0. Distortion 0.406 at β₁=Inf, β₂=10.0. Acceptance: [0.92, 0.42, 0.14].\n",
      "Temperature 1 of 3:(β₁=Inf,β₂=0.1). Distortion 0.485. Acceptance 89%\n",
      "Temperature 2 of 3:(β₁=Inf,β₂=1.0). Distortion 0.428. Acceptance 46%\n",
      "Temperature 3 of 3:(β₁=Inf,β₂=10.0). Distortion 0.421. Acceptance 10%\n",
      "# Finished iter 100 of 100: Parity 0. Distortion 0.421 at β₁=Inf, β₂=10.0. Acceptance: [0.89, 0.46, 0.1].\n",
      "##### b=5. 3 of 9 #####\n",
      "Temperature 1 of 3:(β₁=Inf,β₂=0.1). Distortion 0.477. Acceptance 89%\n",
      "Temperature 2 of 3:(β₁=Inf,β₂=1.0). Distortion 0.448. Acceptance 44%\n",
      "Temperature 3 of 3:(β₁=Inf,β₂=10.0). Distortion 0.417. Acceptance 22%\n",
      "# Finished iter 1 of 100: Parity 0. Distortion 0.417 at β₁=Inf, β₂=10.0. Acceptance: [0.89, 0.44, 0.22].\n",
      "Temperature 1 of 3:(β₁=Inf,β₂=0.1). Distortion 0.435. Acceptance 84%\n",
      "Temperature 2 of 3:(β₁=Inf,β₂=1.0). Distortion 0.407. Acceptance 47%\n",
      "Temperature 3 of 3:(β₁=Inf,β₂=10.0). Distortion 0.381. Acceptance 27%\n",
      "# Finished iter 2 of 100: Parity 0. Distortion 0.381 at β₁=Inf, β₂=10.0. Acceptance: [0.84, 0.47, 0.27].\n",
      "Temperature 1 of 3:(β₁=Inf,β₂=0.1). Distortion 0.451. Acceptance 90%\n",
      "Temperature 2 of 3:(β₁=Inf,β₂=1.0). Distortion 0.424. Acceptance 49%\n",
      "Temperature 3 of 3:(β₁=Inf,β₂=10.0). Distortion 0.392. Acceptance 28%\n",
      "# Finished iter 3 of 100: Parity 0. Distortion 0.392 at β₁=Inf, β₂=10.0. Acceptance: [0.9, 0.49, 0.28].\n",
      "Temperature 1 of 3:(β₁=Inf,β₂=0.1). Distortion 0.465. Acceptance 91%\n",
      "Temperature 2 of 3:(β₁=Inf,β₂=1.0). Distortion 0.446. Acceptance 40%\n",
      "Temperature 3 of 3:(β₁=Inf,β₂=10.0). Distortion 0.437. Acceptance 11%\n",
      "# Finished iter 4 of 100: Parity 0. Distortion 0.437 at β₁=Inf, β₂=10.0. Acceptance: [0.91, 0.4, 0.11].\n",
      "Temperature 1 of 3:(β₁=Inf,β₂=0.1). Distortion 0.479. Acceptance 89%\n",
      "Temperature 2 of 3:(β₁=Inf,β₂=1.0). Distortion 0.454. Acceptance 45%\n",
      "Temperature 3 of 3:(β₁=Inf,β₂=10.0). Distortion 0.418. Acceptance 23%\n",
      "# Finished iter 5 of 100: Parity 0. Distortion 0.418 at β₁=Inf, β₂=10.0. Acceptance: [0.89, 0.45, 0.23].\n",
      "Temperature 1 of 3:(β₁=Inf,β₂=0.1). Distortion 0.466. Acceptance 91%\n",
      "Temperature 2 of 3:(β₁=Inf,β₂=1.0). Distortion 0.426. Acceptance 42%\n",
      "Temperature 3 of 3:(β₁=Inf,β₂=10.0). Distortion 0.393. Acceptance 21%\n",
      "# Finished iter 6 of 100: Parity 0. Distortion 0.393 at β₁=Inf, β₂=10.0. Acceptance: [0.91, 0.42, 0.21].\n",
      "Temperature 1 of 3:(β₁=Inf,β₂=0.1). Distortion 0.463. Acceptance 95%\n",
      "Temperature 2 of 3:(β₁=Inf,β₂=1.0). Distortion 0.453. Acceptance 48%\n",
      "Temperature 3 of 3:(β₁=Inf,β₂=10.0). Distortion 0.424. Acceptance 25%\n",
      "# Finished iter 7 of 100: Parity 0. Distortion 0.424 at β₁=Inf, β₂=10.0. Acceptance: [0.95, 0.48, 0.25].\n",
      "Temperature 1 of 3:(β₁=Inf,β₂=0.1). Distortion 0.483. Acceptance 90%\n",
      "Temperature 2 of 3:(β₁=Inf,β₂=1.0). Distortion 0.454. Acceptance 38%\n",
      "Temperature 3 of 3:(β₁=Inf,β₂=10.0). Distortion 0.441. Acceptance 21%\n",
      "# Finished iter 8 of 100: Parity 0. Distortion 0.441 at β₁=Inf, β₂=10.0. Acceptance: [0.9, 0.38, 0.21].\n",
      "Temperature 1 of 3:(β₁=Inf,β₂=0.1). Distortion 0.49. Acceptance 91%\n",
      "Temperature 2 of 3:(β₁=Inf,β₂=1.0). Distortion 0.437. Acceptance 48%\n",
      "Temperature 3 of 3:(β₁=Inf,β₂=10.0). Distortion 0.411. Acceptance 24%\n",
      "# Finished iter 9 of 100: Parity 0. Distortion 0.411 at β₁=Inf, β₂=10.0. Acceptance: [0.91, 0.48, 0.24].\n",
      "Temperature 1 of 3:(β₁=Inf,β₂=0.1). Distortion 0.487. Acceptance 94%\n",
      "Temperature 2 of 3:(β₁=Inf,β₂=1.0). Distortion 0.437. Acceptance 52%\n",
      "Temperature 3 of 3:(β₁=Inf,β₂=10.0). Distortion 0.421. Acceptance 13%\n",
      "# Finished iter 10 of 100: Parity 0. Distortion 0.421 at β₁=Inf, β₂=10.0. Acceptance: [0.94, 0.52, 0.13].\n",
      "Temperature 1 of 3:(β₁=Inf,β₂=0.1). Distortion 0.49. Acceptance 93%\n",
      "Temperature 2 of 3:(β₁=Inf,β₂=1.0). Distortion 0.456. Acceptance 40%\n"
     ]
    },
    {
     "name": "stdout",
     "output_type": "stream",
     "text": [
      "Temperature 3 of 3:(β₁=Inf,β₂=10.0). Distortion 0.437. Acceptance 18%\n",
      "# Finished iter 11 of 100: Parity 0. Distortion 0.437 at β₁=Inf, β₂=10.0. Acceptance: [0.93, 0.4, 0.18].\n",
      "Temperature 1 of 3:(β₁=Inf,β₂=0.1). Distortion 0.483. Acceptance 91%\n",
      "Temperature 2 of 3:(β₁=Inf,β₂=1.0). Distortion 0.456. Acceptance 43%\n",
      "Temperature 3 of 3:(β₁=Inf,β₂=10.0). Distortion 0.431. Acceptance 19%\n",
      "# Finished iter 12 of 100: Parity 0. Distortion 0.431 at β₁=Inf, β₂=10.0. Acceptance: [0.91, 0.43, 0.19].\n",
      "Temperature 1 of 3:(β₁=Inf,β₂=0.1). Distortion 0.487. Acceptance 94%\n",
      "Temperature 2 of 3:(β₁=Inf,β₂=1.0). Distortion 0.432. Acceptance 51%\n",
      "Temperature 3 of 3:(β₁=Inf,β₂=10.0). Distortion 0.407. Acceptance 26%\n",
      "# Finished iter 13 of 100: Parity 0. Distortion 0.407 at β₁=Inf, β₂=10.0. Acceptance: [0.94, 0.51, 0.26].\n",
      "Temperature 1 of 3:(β₁=Inf,β₂=0.1). Distortion 0.491. Acceptance 89%\n",
      "Temperature 2 of 3:(β₁=Inf,β₂=1.0). Distortion 0.448. Acceptance 44%\n",
      "Temperature 3 of 3:(β₁=Inf,β₂=10.0). Distortion 0.429. Acceptance 19%\n",
      "# Finished iter 14 of 100: Parity 0. Distortion 0.429 at β₁=Inf, β₂=10.0. Acceptance: [0.89, 0.44, 0.19].\n",
      "Temperature 1 of 3:(β₁=Inf,β₂=0.1). Distortion 0.48. Acceptance 90%\n",
      "Temperature 2 of 3:(β₁=Inf,β₂=1.0). Distortion 0.472. Acceptance 46%\n",
      "Temperature 3 of 3:(β₁=Inf,β₂=10.0). Distortion 0.441. Acceptance 25%\n",
      "# Finished iter 15 of 100: Parity 0. Distortion 0.441 at β₁=Inf, β₂=10.0. Acceptance: [0.9, 0.46, 0.25].\n",
      "Temperature 1 of 3:(β₁=Inf,β₂=0.1). Distortion 0.496. Acceptance 88%\n",
      "Temperature 2 of 3:(β₁=Inf,β₂=1.0). Distortion 0.456. Acceptance 49%\n",
      "Temperature 3 of 3:(β₁=Inf,β₂=10.0). Distortion 0.434. Acceptance 26%\n",
      "# Finished iter 16 of 100: Parity 0. Distortion 0.434 at β₁=Inf, β₂=10.0. Acceptance: [0.88, 0.49, 0.26].\n",
      "Temperature 1 of 3:(β₁=Inf,β₂=0.1). Distortion 0.472. Acceptance 85%\n",
      "Temperature 2 of 3:(β₁=Inf,β₂=1.0). Distortion 0.438. Acceptance 40%\n",
      "Temperature 3 of 3:(β₁=Inf,β₂=10.0). Distortion 0.406. Acceptance 22%\n",
      "# Finished iter 17 of 100: Parity 0. Distortion 0.406 at β₁=Inf, β₂=10.0. Acceptance: [0.85, 0.4, 0.22].\n",
      "Temperature 1 of 3:(β₁=Inf,β₂=0.1). Distortion 0.455. Acceptance 94%\n",
      "Temperature 2 of 3:(β₁=Inf,β₂=1.0). Distortion 0.431. Acceptance 52%\n",
      "Temperature 3 of 3:(β₁=Inf,β₂=10.0). Distortion 0.411. Acceptance 18%\n",
      "# Finished iter 18 of 100: Parity 0. Distortion 0.411 at β₁=Inf, β₂=10.0. Acceptance: [0.94, 0.52, 0.18].\n",
      "Temperature 1 of 3:(β₁=Inf,β₂=0.1). Distortion 0.481. Acceptance 94%\n",
      "Temperature 2 of 3:(β₁=Inf,β₂=1.0). Distortion 0.448. Acceptance 49%\n",
      "Temperature 3 of 3:(β₁=Inf,β₂=10.0). Distortion 0.43. Acceptance 15%\n",
      "# Finished iter 19 of 100: Parity 0. Distortion 0.430 at β₁=Inf, β₂=10.0. Acceptance: [0.94, 0.49, 0.15].\n",
      "Temperature 1 of 3:(β₁=Inf,β₂=0.1). Distortion 0.495. Acceptance 93%\n",
      "Temperature 2 of 3:(β₁=Inf,β₂=1.0). Distortion 0.454. Acceptance 52%\n",
      "Temperature 3 of 3:(β₁=Inf,β₂=10.0). Distortion 0.419. Acceptance 25%\n",
      "# Finished iter 20 of 100: Parity 0. Distortion 0.419 at β₁=Inf, β₂=10.0. Acceptance: [0.93, 0.52, 0.25].\n",
      "Temperature 1 of 3:(β₁=Inf,β₂=0.1). Distortion 0.492. Acceptance 92%\n",
      "Temperature 2 of 3:(β₁=Inf,β₂=1.0). Distortion 0.439. Acceptance 46%\n",
      "Temperature 3 of 3:(β₁=Inf,β₂=10.0). Distortion 0.406. Acceptance 32%\n",
      "# Finished iter 21 of 100: Parity 0. Distortion 0.406 at β₁=Inf, β₂=10.0. Acceptance: [0.92, 0.46, 0.32].\n",
      "Temperature 1 of 3:(β₁=Inf,β₂=0.1). Distortion 0.47. Acceptance 95%\n",
      "Temperature 2 of 3:(β₁=Inf,β₂=1.0). Distortion 0.425. Acceptance 47%\n",
      "Temperature 3 of 3:(β₁=Inf,β₂=10.0). Distortion 0.411. Acceptance 18%\n",
      "# Finished iter 22 of 100: Parity 0. Distortion 0.411 at β₁=Inf, β₂=10.0. Acceptance: [0.95, 0.47, 0.18].\n",
      "Temperature 1 of 3:(β₁=Inf,β₂=0.1). Distortion 0.466. Acceptance 88%\n",
      "Temperature 2 of 3:(β₁=Inf,β₂=1.0). Distortion 0.424. Acceptance 41%\n",
      "Temperature 3 of 3:(β₁=Inf,β₂=10.0). Distortion 0.402. Acceptance 23%\n",
      "# Finished iter 23 of 100: Parity 0. Distortion 0.402 at β₁=Inf, β₂=10.0. Acceptance: [0.88, 0.41, 0.23].\n",
      "Temperature 1 of 3:(β₁=Inf,β₂=0.1). Distortion 0.48. Acceptance 92%\n",
      "Temperature 2 of 3:(β₁=Inf,β₂=1.0). Distortion 0.454. Acceptance 45%\n",
      "Temperature 3 of 3:(β₁=Inf,β₂=10.0). Distortion 0.434. Acceptance 19%\n",
      "# Finished iter 24 of 100: Parity 0. Distortion 0.434 at β₁=Inf, β₂=10.0. Acceptance: [0.92, 0.45, 0.19].\n",
      "Temperature 1 of 3:(β₁=Inf,β₂=0.1). Distortion 0.477. Acceptance 90%\n",
      "Temperature 2 of 3:(β₁=Inf,β₂=1.0). Distortion 0.434. Acceptance 54%\n",
      "Temperature 3 of 3:(β₁=Inf,β₂=10.0). Distortion 0.413. Acceptance 24%\n",
      "# Finished iter 25 of 100: Parity 0. Distortion 0.413 at β₁=Inf, β₂=10.0. Acceptance: [0.9, 0.54, 0.24].\n",
      "Temperature 1 of 3:(β₁=Inf,β₂=0.1). Distortion 0.458. Acceptance 91%\n",
      "Temperature 2 of 3:(β₁=Inf,β₂=1.0). Distortion 0.419. Acceptance 43%\n",
      "Temperature 3 of 3:(β₁=Inf,β₂=10.0). Distortion 0.404. Acceptance 15%\n",
      "# Finished iter 26 of 100: Parity 0. Distortion 0.404 at β₁=Inf, β₂=10.0. Acceptance: [0.91, 0.43, 0.15].\n",
      "Temperature 1 of 3:(β₁=Inf,β₂=0.1). Distortion 0.473. Acceptance 90%\n",
      "Temperature 2 of 3:(β₁=Inf,β₂=1.0). Distortion 0.444. Acceptance 48%\n",
      "Temperature 3 of 3:(β₁=Inf,β₂=10.0). Distortion 0.422. Acceptance 23%\n",
      "# Finished iter 27 of 100: Parity 0. Distortion 0.422 at β₁=Inf, β₂=10.0. Acceptance: [0.9, 0.48, 0.23].\n",
      "Temperature 1 of 3:(β₁=Inf,β₂=0.1). Distortion 0.478. Acceptance 88%\n",
      "Temperature 2 of 3:(β₁=Inf,β₂=1.0). Distortion 0.428. Acceptance 43%\n",
      "Temperature 3 of 3:(β₁=Inf,β₂=10.0). Distortion 0.406. Acceptance 20%\n",
      "# Finished iter 28 of 100: Parity 0. Distortion 0.406 at β₁=Inf, β₂=10.0. Acceptance: [0.88, 0.43, 0.2].\n",
      "Temperature 1 of 3:(β₁=Inf,β₂=0.1). Distortion 0.478. Acceptance 89%\n",
      "Temperature 2 of 3:(β₁=Inf,β₂=1.0). Distortion 0.444. Acceptance 45%\n",
      "Temperature 3 of 3:(β₁=Inf,β₂=10.0). Distortion 0.42. Acceptance 21%\n",
      "# Finished iter 29 of 100: Parity 0. Distortion 0.420 at β₁=Inf, β₂=10.0. Acceptance: [0.89, 0.45, 0.21].\n",
      "Temperature 1 of 3:(β₁=Inf,β₂=0.1). Distortion 0.478. Acceptance 89%\n",
      "Temperature 2 of 3:(β₁=Inf,β₂=1.0). Distortion 0.414. Acceptance 47%\n",
      "Temperature 3 of 3:(β₁=Inf,β₂=10.0). Distortion 0.401. Acceptance 12%\n",
      "# Finished iter 30 of 100: Parity 0. Distortion 0.401 at β₁=Inf, β₂=10.0. Acceptance: [0.89, 0.47, 0.12].\n",
      "Temperature 1 of 3:(β₁=Inf,β₂=0.1). Distortion 0.472. Acceptance 92%\n",
      "Temperature 2 of 3:(β₁=Inf,β₂=1.0). Distortion 0.447. Acceptance 56%\n",
      "Temperature 3 of 3:(β₁=Inf,β₂=10.0). Distortion 0.426. Acceptance 27%\n",
      "# Finished iter 31 of 100: Parity 0. Distortion 0.426 at β₁=Inf, β₂=10.0. Acceptance: [0.92, 0.56, 0.27].\n",
      "Temperature 1 of 3:(β₁=Inf,β₂=0.1). Distortion 0.465. Acceptance 87%\n",
      "Temperature 2 of 3:(β₁=Inf,β₂=1.0). Distortion 0.437. Acceptance 45%\n",
      "Temperature 3 of 3:(β₁=Inf,β₂=10.0). Distortion 0.412. Acceptance 13%\n",
      "# Finished iter 32 of 100: Parity 0. Distortion 0.412 at β₁=Inf, β₂=10.0. Acceptance: [0.87, 0.45, 0.13].\n",
      "Temperature 1 of 3:(β₁=Inf,β₂=0.1). Distortion 0.47. Acceptance 87%\n",
      "Temperature 2 of 3:(β₁=Inf,β₂=1.0). Distortion 0.444. Acceptance 44%\n",
      "Temperature 3 of 3:(β₁=Inf,β₂=10.0). Distortion 0.413. Acceptance 32%\n",
      "# Finished iter 33 of 100: Parity 0. Distortion 0.413 at β₁=Inf, β₂=10.0. Acceptance: [0.87, 0.44, 0.32].\n",
      "Temperature 1 of 3:(β₁=Inf,β₂=0.1). Distortion 0.48. Acceptance 89%\n",
      "Temperature 2 of 3:(β₁=Inf,β₂=1.0). Distortion 0.453. Acceptance 51%\n",
      "Temperature 3 of 3:(β₁=Inf,β₂=10.0). Distortion 0.43. Acceptance 20%\n",
      "# Finished iter 34 of 100: Parity 0. Distortion 0.430 at β₁=Inf, β₂=10.0. Acceptance: [0.89, 0.51, 0.2].\n",
      "Temperature 1 of 3:(β₁=Inf,β₂=0.1). Distortion 0.477. Acceptance 91%\n",
      "Temperature 2 of 3:(β₁=Inf,β₂=1.0). Distortion 0.445. Acceptance 43%\n",
      "Temperature 3 of 3:(β₁=Inf,β₂=10.0). Distortion 0.433. Acceptance 22%\n",
      "# Finished iter 35 of 100: Parity 0. Distortion 0.433 at β₁=Inf, β₂=10.0. Acceptance: [0.91, 0.43, 0.22].\n",
      "Temperature 1 of 3:(β₁=Inf,β₂=0.1). Distortion 0.459. Acceptance 87%\n",
      "Temperature 2 of 3:(β₁=Inf,β₂=1.0). Distortion 0.435. Acceptance 46%\n",
      "Temperature 3 of 3:(β₁=Inf,β₂=10.0). Distortion 0.419. Acceptance 19%\n",
      "# Finished iter 36 of 100: Parity 0. Distortion 0.419 at β₁=Inf, β₂=10.0. Acceptance: [0.87, 0.46, 0.19].\n",
      "Temperature 1 of 3:(β₁=Inf,β₂=0.1). Distortion 0.437. Acceptance 88%\n",
      "Temperature 2 of 3:(β₁=Inf,β₂=1.0). Distortion 0.411. Acceptance 41%\n",
      "Temperature 3 of 3:(β₁=Inf,β₂=10.0). Distortion 0.396. Acceptance 15%\n",
      "# Finished iter 37 of 100: Parity 0. Distortion 0.396 at β₁=Inf, β₂=10.0. Acceptance: [0.88, 0.41, 0.15].\n"
     ]
    },
    {
     "name": "stdout",
     "output_type": "stream",
     "text": [
      "Temperature 1 of 3:(β₁=Inf,β₂=0.1). Distortion 0.499. Acceptance 90%\n",
      "Temperature 2 of 3:(β₁=Inf,β₂=1.0). Distortion 0.435. Acceptance 48%\n",
      "Temperature 3 of 3:(β₁=Inf,β₂=10.0). Distortion 0.413. Acceptance 22%\n",
      "# Finished iter 38 of 100: Parity 0. Distortion 0.413 at β₁=Inf, β₂=10.0. Acceptance: [0.9, 0.48, 0.22].\n",
      "Temperature 1 of 3:(β₁=Inf,β₂=0.1). Distortion 0.457. Acceptance 87%\n",
      "Temperature 2 of 3:(β₁=Inf,β₂=1.0). Distortion 0.431. Acceptance 47%\n",
      "Temperature 3 of 3:(β₁=Inf,β₂=10.0). Distortion 0.407. Acceptance 32%\n",
      "# Finished iter 39 of 100: Parity 0. Distortion 0.407 at β₁=Inf, β₂=10.0. Acceptance: [0.87, 0.47, 0.32].\n",
      "Temperature 1 of 3:(β₁=Inf,β₂=0.1). Distortion 0.484. Acceptance 89%\n",
      "Temperature 2 of 3:(β₁=Inf,β₂=1.0). Distortion 0.442. Acceptance 46%\n",
      "Temperature 3 of 3:(β₁=Inf,β₂=10.0). Distortion 0.424. Acceptance 15%\n",
      "# Finished iter 40 of 100: Parity 0. Distortion 0.424 at β₁=Inf, β₂=10.0. Acceptance: [0.89, 0.46, 0.15].\n",
      "Temperature 1 of 3:(β₁=Inf,β₂=0.1). Distortion 0.452. Acceptance 91%\n",
      "Temperature 2 of 3:(β₁=Inf,β₂=1.0). Distortion 0.394. Acceptance 56%\n",
      "Temperature 3 of 3:(β₁=Inf,β₂=10.0). Distortion 0.366. Acceptance 21%\n",
      "# Finished iter 41 of 100: Parity 0. Distortion 0.366 at β₁=Inf, β₂=10.0. Acceptance: [0.91, 0.56, 0.21].\n",
      "Temperature 1 of 3:(β₁=Inf,β₂=0.1). Distortion 0.48. Acceptance 89%\n",
      "Temperature 2 of 3:(β₁=Inf,β₂=1.0). Distortion 0.448. Acceptance 50%\n",
      "Temperature 3 of 3:(β₁=Inf,β₂=10.0). Distortion 0.425. Acceptance 23%\n",
      "# Finished iter 42 of 100: Parity 0. Distortion 0.425 at β₁=Inf, β₂=10.0. Acceptance: [0.89, 0.5, 0.23].\n",
      "Temperature 1 of 3:(β₁=Inf,β₂=0.1). Distortion 0.477. Acceptance 93%\n",
      "Temperature 2 of 3:(β₁=Inf,β₂=1.0). Distortion 0.447. Acceptance 45%\n",
      "Temperature 3 of 3:(β₁=Inf,β₂=10.0). Distortion 0.425. Acceptance 25%\n",
      "# Finished iter 43 of 100: Parity 0. Distortion 0.425 at β₁=Inf, β₂=10.0. Acceptance: [0.93, 0.45, 0.25].\n",
      "Temperature 1 of 3:(β₁=Inf,β₂=0.1). Distortion 0.468. Acceptance 92%\n",
      "Temperature 2 of 3:(β₁=Inf,β₂=1.0). Distortion 0.421. Acceptance 45%\n",
      "Temperature 3 of 3:(β₁=Inf,β₂=10.0). Distortion 0.407. Acceptance 25%\n",
      "# Finished iter 44 of 100: Parity 0. Distortion 0.407 at β₁=Inf, β₂=10.0. Acceptance: [0.92, 0.45, 0.25].\n",
      "Temperature 1 of 3:(β₁=Inf,β₂=0.1). Distortion 0.479. Acceptance 84%\n",
      "Temperature 2 of 3:(β₁=Inf,β₂=1.0). Distortion 0.448. Acceptance 51%\n",
      "Temperature 3 of 3:(β₁=Inf,β₂=10.0). Distortion 0.426. Acceptance 14%\n",
      "# Finished iter 45 of 100: Parity 0. Distortion 0.426 at β₁=Inf, β₂=10.0. Acceptance: [0.84, 0.51, 0.14].\n",
      "Temperature 1 of 3:(β₁=Inf,β₂=0.1). Distortion 0.478. Acceptance 92%\n",
      "Temperature 2 of 3:(β₁=Inf,β₂=1.0). Distortion 0.441. Acceptance 44%\n",
      "Temperature 3 of 3:(β₁=Inf,β₂=10.0). Distortion 0.416. Acceptance 16%\n",
      "# Finished iter 46 of 100: Parity 0. Distortion 0.416 at β₁=Inf, β₂=10.0. Acceptance: [0.92, 0.44, 0.16].\n",
      "Temperature 1 of 3:(β₁=Inf,β₂=0.1). Distortion 0.476. Acceptance 86%\n",
      "Temperature 2 of 3:(β₁=Inf,β₂=1.0). Distortion 0.441. Acceptance 55%\n",
      "Temperature 3 of 3:(β₁=Inf,β₂=10.0). Distortion 0.421. Acceptance 22%\n",
      "# Finished iter 47 of 100: Parity 0. Distortion 0.421 at β₁=Inf, β₂=10.0. Acceptance: [0.86, 0.55, 0.22].\n",
      "Temperature 1 of 3:(β₁=Inf,β₂=0.1). Distortion 0.467. Acceptance 86%\n",
      "Temperature 2 of 3:(β₁=Inf,β₂=1.0). Distortion 0.433. Acceptance 48%\n",
      "Temperature 3 of 3:(β₁=Inf,β₂=10.0). Distortion 0.413. Acceptance 19%\n",
      "# Finished iter 48 of 100: Parity 0. Distortion 0.413 at β₁=Inf, β₂=10.0. Acceptance: [0.86, 0.48, 0.19].\n",
      "Temperature 1 of 3:(β₁=Inf,β₂=0.1). Distortion 0.468. Acceptance 91%\n",
      "Temperature 2 of 3:(β₁=Inf,β₂=1.0). Distortion 0.417. Acceptance 46%\n",
      "Temperature 3 of 3:(β₁=Inf,β₂=10.0). Distortion 0.405. Acceptance 23%\n",
      "# Finished iter 49 of 100: Parity 0. Distortion 0.405 at β₁=Inf, β₂=10.0. Acceptance: [0.91, 0.46, 0.23].\n",
      "Temperature 1 of 3:(β₁=Inf,β₂=0.1). Distortion 0.488. Acceptance 89%\n",
      "Temperature 2 of 3:(β₁=Inf,β₂=1.0). Distortion 0.453. Acceptance 45%\n",
      "Temperature 3 of 3:(β₁=Inf,β₂=10.0). Distortion 0.418. Acceptance 30%\n",
      "# Finished iter 50 of 100: Parity 0. Distortion 0.418 at β₁=Inf, β₂=10.0. Acceptance: [0.89, 0.45, 0.3].\n",
      "Temperature 1 of 3:(β₁=Inf,β₂=0.1). Distortion 0.484. Acceptance 89%\n",
      "Temperature 2 of 3:(β₁=Inf,β₂=1.0). Distortion 0.443. Acceptance 57%\n",
      "Temperature 3 of 3:(β₁=Inf,β₂=10.0). Distortion 0.419. Acceptance 15%\n",
      "# Finished iter 51 of 100: Parity 0. Distortion 0.419 at β₁=Inf, β₂=10.0. Acceptance: [0.89, 0.57, 0.15].\n",
      "Temperature 1 of 3:(β₁=Inf,β₂=0.1). Distortion 0.464. Acceptance 89%\n",
      "Temperature 2 of 3:(β₁=Inf,β₂=1.0). Distortion 0.432. Acceptance 45%\n",
      "Temperature 3 of 3:(β₁=Inf,β₂=10.0). Distortion 0.399. Acceptance 24%\n",
      "# Finished iter 52 of 100: Parity 0. Distortion 0.399 at β₁=Inf, β₂=10.0. Acceptance: [0.89, 0.45, 0.24].\n",
      "Temperature 1 of 3:(β₁=Inf,β₂=0.1). Distortion 0.49. Acceptance 94%\n",
      "Temperature 2 of 3:(β₁=Inf,β₂=1.0). Distortion 0.445. Acceptance 47%\n",
      "Temperature 3 of 3:(β₁=Inf,β₂=10.0). Distortion 0.427. Acceptance 20%\n",
      "# Finished iter 53 of 100: Parity 0. Distortion 0.427 at β₁=Inf, β₂=10.0. Acceptance: [0.94, 0.47, 0.2].\n",
      "Temperature 1 of 3:(β₁=Inf,β₂=0.1). Distortion 0.478. Acceptance 89%\n",
      "Temperature 2 of 3:(β₁=Inf,β₂=1.0). Distortion 0.447. Acceptance 50%\n",
      "Temperature 3 of 3:(β₁=Inf,β₂=10.0). Distortion 0.43. Acceptance 25%\n",
      "# Finished iter 54 of 100: Parity 0. Distortion 0.430 at β₁=Inf, β₂=10.0. Acceptance: [0.89, 0.5, 0.25].\n",
      "Temperature 1 of 3:(β₁=Inf,β₂=0.1). Distortion 0.486. Acceptance 88%\n",
      "Temperature 2 of 3:(β₁=Inf,β₂=1.0). Distortion 0.441. Acceptance 51%\n",
      "Temperature 3 of 3:(β₁=Inf,β₂=10.0). Distortion 0.421. Acceptance 18%\n",
      "# Finished iter 55 of 100: Parity 0. Distortion 0.421 at β₁=Inf, β₂=10.0. Acceptance: [0.88, 0.51, 0.18].\n",
      "Temperature 1 of 3:(β₁=Inf,β₂=0.1). Distortion 0.475. Acceptance 90%\n",
      "Temperature 2 of 3:(β₁=Inf,β₂=1.0). Distortion 0.437. Acceptance 46%\n",
      "Temperature 3 of 3:(β₁=Inf,β₂=10.0). Distortion 0.424. Acceptance 16%\n",
      "# Finished iter 56 of 100: Parity 0. Distortion 0.424 at β₁=Inf, β₂=10.0. Acceptance: [0.9, 0.46, 0.16].\n",
      "Temperature 1 of 3:(β₁=Inf,β₂=0.1). Distortion 0.478. Acceptance 89%\n",
      "Temperature 2 of 3:(β₁=Inf,β₂=1.0). Distortion 0.428. Acceptance 52%\n",
      "Temperature 3 of 3:(β₁=Inf,β₂=10.0). Distortion 0.406. Acceptance 20%\n",
      "# Finished iter 57 of 100: Parity 0. Distortion 0.406 at β₁=Inf, β₂=10.0. Acceptance: [0.89, 0.52, 0.2].\n",
      "Temperature 1 of 3:(β₁=Inf,β₂=0.1). Distortion 0.462. Acceptance 90%\n",
      "Temperature 2 of 3:(β₁=Inf,β₂=1.0). Distortion 0.429. Acceptance 47%\n",
      "Temperature 3 of 3:(β₁=Inf,β₂=10.0). Distortion 0.402. Acceptance 28%\n",
      "# Finished iter 58 of 100: Parity 0. Distortion 0.402 at β₁=Inf, β₂=10.0. Acceptance: [0.9, 0.47, 0.28].\n",
      "Temperature 1 of 3:(β₁=Inf,β₂=0.1). Distortion 0.483. Acceptance 88%\n",
      "Temperature 2 of 3:(β₁=Inf,β₂=1.0). Distortion 0.442. Acceptance 47%\n",
      "Temperature 3 of 3:(β₁=Inf,β₂=10.0). Distortion 0.409. Acceptance 19%\n",
      "# Finished iter 59 of 100: Parity 0. Distortion 0.409 at β₁=Inf, β₂=10.0. Acceptance: [0.88, 0.47, 0.19].\n",
      "Temperature 1 of 3:(β₁=Inf,β₂=0.1). Distortion 0.476. Acceptance 94%\n",
      "Temperature 2 of 3:(β₁=Inf,β₂=1.0). Distortion 0.438. Acceptance 41%\n",
      "Temperature 3 of 3:(β₁=Inf,β₂=10.0). Distortion 0.418. Acceptance 22%\n",
      "# Finished iter 60 of 100: Parity 0. Distortion 0.418 at β₁=Inf, β₂=10.0. Acceptance: [0.94, 0.41, 0.22].\n",
      "Temperature 1 of 3:(β₁=Inf,β₂=0.1). Distortion 0.479. Acceptance 87%\n",
      "Temperature 2 of 3:(β₁=Inf,β₂=1.0). Distortion 0.455. Acceptance 50%\n",
      "Temperature 3 of 3:(β₁=Inf,β₂=10.0). Distortion 0.422. Acceptance 31%\n",
      "# Finished iter 61 of 100: Parity 0. Distortion 0.422 at β₁=Inf, β₂=10.0. Acceptance: [0.87, 0.5, 0.31].\n",
      "Temperature 1 of 3:(β₁=Inf,β₂=0.1). Distortion 0.474. Acceptance 84%\n",
      "Temperature 2 of 3:(β₁=Inf,β₂=1.0). Distortion 0.46. Acceptance 45%\n",
      "Temperature 3 of 3:(β₁=Inf,β₂=10.0). Distortion 0.425. Acceptance 27%\n",
      "# Finished iter 62 of 100: Parity 0. Distortion 0.425 at β₁=Inf, β₂=10.0. Acceptance: [0.84, 0.45, 0.27].\n",
      "Temperature 1 of 3:(β₁=Inf,β₂=0.1). Distortion 0.483. Acceptance 89%\n",
      "Temperature 2 of 3:(β₁=Inf,β₂=1.0). Distortion 0.43. Acceptance 52%\n",
      "Temperature 3 of 3:(β₁=Inf,β₂=10.0). Distortion 0.413. Acceptance 19%\n",
      "# Finished iter 63 of 100: Parity 0. Distortion 0.413 at β₁=Inf, β₂=10.0. Acceptance: [0.89, 0.52, 0.19].\n",
      "Temperature 1 of 3:(β₁=Inf,β₂=0.1). Distortion 0.48. Acceptance 86%\n"
     ]
    },
    {
     "name": "stdout",
     "output_type": "stream",
     "text": [
      "Temperature 2 of 3:(β₁=Inf,β₂=1.0). Distortion 0.452. Acceptance 44%\n",
      "Temperature 3 of 3:(β₁=Inf,β₂=10.0). Distortion 0.436. Acceptance 19%\n",
      "# Finished iter 64 of 100: Parity 0. Distortion 0.436 at β₁=Inf, β₂=10.0. Acceptance: [0.86, 0.44, 0.19].\n",
      "Temperature 1 of 3:(β₁=Inf,β₂=0.1). Distortion 0.491. Acceptance 92%\n",
      "Temperature 2 of 3:(β₁=Inf,β₂=1.0). Distortion 0.462. Acceptance 50%\n",
      "Temperature 3 of 3:(β₁=Inf,β₂=10.0). Distortion 0.445. Acceptance 22%\n",
      "# Finished iter 65 of 100: Parity 0. Distortion 0.445 at β₁=Inf, β₂=10.0. Acceptance: [0.92, 0.5, 0.22].\n",
      "Temperature 1 of 3:(β₁=Inf,β₂=0.1). Distortion 0.488. Acceptance 88%\n",
      "Temperature 2 of 3:(β₁=Inf,β₂=1.0). Distortion 0.454. Acceptance 49%\n",
      "Temperature 3 of 3:(β₁=Inf,β₂=10.0). Distortion 0.424. Acceptance 27%\n",
      "# Finished iter 66 of 100: Parity 0. Distortion 0.424 at β₁=Inf, β₂=10.0. Acceptance: [0.88, 0.49, 0.27].\n",
      "Temperature 1 of 3:(β₁=Inf,β₂=0.1). Distortion 0.47. Acceptance 92%\n",
      "Temperature 2 of 3:(β₁=Inf,β₂=1.0). Distortion 0.433. Acceptance 43%\n",
      "Temperature 3 of 3:(β₁=Inf,β₂=10.0). Distortion 0.416. Acceptance 23%\n",
      "# Finished iter 67 of 100: Parity 0. Distortion 0.416 at β₁=Inf, β₂=10.0. Acceptance: [0.92, 0.43, 0.23].\n",
      "Temperature 1 of 3:(β₁=Inf,β₂=0.1). Distortion 0.506. Acceptance 92%\n",
      "Temperature 2 of 3:(β₁=Inf,β₂=1.0). Distortion 0.462. Acceptance 53%\n",
      "Temperature 3 of 3:(β₁=Inf,β₂=10.0). Distortion 0.431. Acceptance 22%\n",
      "# Finished iter 68 of 100: Parity 0. Distortion 0.431 at β₁=Inf, β₂=10.0. Acceptance: [0.92, 0.53, 0.22].\n",
      "Temperature 1 of 3:(β₁=Inf,β₂=0.1). Distortion 0.455. Acceptance 89%\n",
      "Temperature 2 of 3:(β₁=Inf,β₂=1.0). Distortion 0.449. Acceptance 39%\n",
      "Temperature 3 of 3:(β₁=Inf,β₂=10.0). Distortion 0.428. Acceptance 20%\n",
      "# Finished iter 69 of 100: Parity 0. Distortion 0.428 at β₁=Inf, β₂=10.0. Acceptance: [0.89, 0.39, 0.2].\n",
      "Temperature 1 of 3:(β₁=Inf,β₂=0.1). Distortion 0.463. Acceptance 94%\n",
      "Temperature 2 of 3:(β₁=Inf,β₂=1.0). Distortion 0.414. Acceptance 56%\n",
      "Temperature 3 of 3:(β₁=Inf,β₂=10.0). Distortion 0.385. Acceptance 24%\n",
      "# Finished iter 70 of 100: Parity 0. Distortion 0.385 at β₁=Inf, β₂=10.0. Acceptance: [0.94, 0.56, 0.24].\n",
      "Temperature 1 of 3:(β₁=Inf,β₂=0.1). Distortion 0.467. Acceptance 86%\n",
      "Temperature 2 of 3:(β₁=Inf,β₂=1.0). Distortion 0.449. Acceptance 54%\n",
      "Temperature 3 of 3:(β₁=Inf,β₂=10.0). Distortion 0.421. Acceptance 21%\n",
      "# Finished iter 71 of 100: Parity 0. Distortion 0.421 at β₁=Inf, β₂=10.0. Acceptance: [0.86, 0.54, 0.21].\n",
      "Temperature 1 of 3:(β₁=Inf,β₂=0.1). Distortion 0.483. Acceptance 92%\n",
      "Temperature 2 of 3:(β₁=Inf,β₂=1.0). Distortion 0.435. Acceptance 43%\n",
      "Temperature 3 of 3:(β₁=Inf,β₂=10.0). Distortion 0.419. Acceptance 19%\n",
      "# Finished iter 72 of 100: Parity 0. Distortion 0.419 at β₁=Inf, β₂=10.0. Acceptance: [0.92, 0.43, 0.19].\n",
      "Temperature 1 of 3:(β₁=Inf,β₂=0.1). Distortion 0.483. Acceptance 88%\n",
      "Temperature 2 of 3:(β₁=Inf,β₂=1.0). Distortion 0.45. Acceptance 43%\n",
      "Temperature 3 of 3:(β₁=Inf,β₂=10.0). Distortion 0.433. Acceptance 19%\n",
      "# Finished iter 73 of 100: Parity 0. Distortion 0.433 at β₁=Inf, β₂=10.0. Acceptance: [0.88, 0.43, 0.19].\n",
      "Temperature 1 of 3:(β₁=Inf,β₂=0.1). Distortion 0.489. Acceptance 90%\n",
      "Temperature 2 of 3:(β₁=Inf,β₂=1.0). Distortion 0.448. Acceptance 50%\n",
      "Temperature 3 of 3:(β₁=Inf,β₂=10.0). Distortion 0.418. Acceptance 19%\n",
      "# Finished iter 74 of 100: Parity 0. Distortion 0.418 at β₁=Inf, β₂=10.0. Acceptance: [0.9, 0.5, 0.19].\n",
      "Temperature 1 of 3:(β₁=Inf,β₂=0.1). Distortion 0.465. Acceptance 89%\n",
      "Temperature 2 of 3:(β₁=Inf,β₂=1.0). Distortion 0.438. Acceptance 50%\n",
      "Temperature 3 of 3:(β₁=Inf,β₂=10.0). Distortion 0.426. Acceptance 27%\n",
      "# Finished iter 75 of 100: Parity 0. Distortion 0.426 at β₁=Inf, β₂=10.0. Acceptance: [0.89, 0.5, 0.27].\n",
      "Temperature 1 of 3:(β₁=Inf,β₂=0.1). Distortion 0.485. Acceptance 81%\n",
      "Temperature 2 of 3:(β₁=Inf,β₂=1.0). Distortion 0.447. Acceptance 46%\n",
      "Temperature 3 of 3:(β₁=Inf,β₂=10.0). Distortion 0.422. Acceptance 23%\n",
      "# Finished iter 76 of 100: Parity 0. Distortion 0.422 at β₁=Inf, β₂=10.0. Acceptance: [0.81, 0.46, 0.23].\n",
      "Temperature 1 of 3:(β₁=Inf,β₂=0.1). Distortion 0.477. Acceptance 92%\n",
      "Temperature 2 of 3:(β₁=Inf,β₂=1.0). Distortion 0.455. Acceptance 42%\n",
      "Temperature 3 of 3:(β₁=Inf,β₂=10.0). Distortion 0.434. Acceptance 16%\n",
      "# Finished iter 77 of 100: Parity 0. Distortion 0.434 at β₁=Inf, β₂=10.0. Acceptance: [0.92, 0.42, 0.16].\n",
      "Temperature 1 of 3:(β₁=Inf,β₂=0.1). Distortion 0.451. Acceptance 94%\n",
      "Temperature 2 of 3:(β₁=Inf,β₂=1.0). Distortion 0.42. Acceptance 51%\n",
      "Temperature 3 of 3:(β₁=Inf,β₂=10.0). Distortion 0.396. Acceptance 24%\n",
      "# Finished iter 78 of 100: Parity 0. Distortion 0.396 at β₁=Inf, β₂=10.0. Acceptance: [0.94, 0.51, 0.24].\n",
      "Temperature 1 of 3:(β₁=Inf,β₂=0.1). Distortion 0.49. Acceptance 89%\n",
      "Temperature 2 of 3:(β₁=Inf,β₂=1.0). Distortion 0.465. Acceptance 54%\n",
      "Temperature 3 of 3:(β₁=Inf,β₂=10.0). Distortion 0.439. Acceptance 19%\n",
      "# Finished iter 79 of 100: Parity 0. Distortion 0.439 at β₁=Inf, β₂=10.0. Acceptance: [0.89, 0.54, 0.19].\n",
      "Temperature 1 of 3:(β₁=Inf,β₂=0.1). Distortion 0.471. Acceptance 87%\n",
      "Temperature 2 of 3:(β₁=Inf,β₂=1.0). Distortion 0.466. Acceptance 44%\n",
      "Temperature 3 of 3:(β₁=Inf,β₂=10.0). Distortion 0.432. Acceptance 30%\n",
      "# Finished iter 80 of 100: Parity 0. Distortion 0.432 at β₁=Inf, β₂=10.0. Acceptance: [0.87, 0.44, 0.3].\n",
      "Temperature 1 of 3:(β₁=Inf,β₂=0.1). Distortion 0.49. Acceptance 90%\n",
      "Temperature 2 of 3:(β₁=Inf,β₂=1.0). Distortion 0.454. Acceptance 52%\n",
      "Temperature 3 of 3:(β₁=Inf,β₂=10.0). Distortion 0.429. Acceptance 21%\n",
      "# Finished iter 81 of 100: Parity 0. Distortion 0.429 at β₁=Inf, β₂=10.0. Acceptance: [0.9, 0.52, 0.21].\n",
      "Temperature 1 of 3:(β₁=Inf,β₂=0.1). Distortion 0.465. Acceptance 94%\n",
      "Temperature 2 of 3:(β₁=Inf,β₂=1.0). Distortion 0.45. Acceptance 50%\n",
      "Temperature 3 of 3:(β₁=Inf,β₂=10.0). Distortion 0.417. Acceptance 26%\n",
      "# Finished iter 82 of 100: Parity 0. Distortion 0.417 at β₁=Inf, β₂=10.0. Acceptance: [0.94, 0.5, 0.26].\n",
      "Temperature 1 of 3:(β₁=Inf,β₂=0.1). Distortion 0.456. Acceptance 87%\n",
      "Temperature 2 of 3:(β₁=Inf,β₂=1.0). Distortion 0.429. Acceptance 48%\n",
      "Temperature 3 of 3:(β₁=Inf,β₂=10.0). Distortion 0.401. Acceptance 20%\n",
      "# Finished iter 83 of 100: Parity 0. Distortion 0.401 at β₁=Inf, β₂=10.0. Acceptance: [0.87, 0.48, 0.2].\n",
      "Temperature 1 of 3:(β₁=Inf,β₂=0.1). Distortion 0.471. Acceptance 94%\n",
      "Temperature 2 of 3:(β₁=Inf,β₂=1.0). Distortion 0.434. Acceptance 43%\n",
      "Temperature 3 of 3:(β₁=Inf,β₂=10.0). Distortion 0.418. Acceptance 23%\n",
      "# Finished iter 84 of 100: Parity 0. Distortion 0.418 at β₁=Inf, β₂=10.0. Acceptance: [0.94, 0.43, 0.23].\n",
      "Temperature 1 of 3:(β₁=Inf,β₂=0.1). Distortion 0.445. Acceptance 91%\n",
      "Temperature 2 of 3:(β₁=Inf,β₂=1.0). Distortion 0.404. Acceptance 44%\n",
      "Temperature 3 of 3:(β₁=Inf,β₂=10.0). Distortion 0.396. Acceptance 16%\n",
      "# Finished iter 85 of 100: Parity 0. Distortion 0.396 at β₁=Inf, β₂=10.0. Acceptance: [0.91, 0.44, 0.16].\n",
      "Temperature 1 of 3:(β₁=Inf,β₂=0.1). Distortion 0.484. Acceptance 91%\n",
      "Temperature 2 of 3:(β₁=Inf,β₂=1.0). Distortion 0.465. Acceptance 41%\n",
      "Temperature 3 of 3:(β₁=Inf,β₂=10.0). Distortion 0.448. Acceptance 23%\n",
      "# Finished iter 86 of 100: Parity 0. Distortion 0.448 at β₁=Inf, β₂=10.0. Acceptance: [0.91, 0.41, 0.23].\n",
      "Temperature 1 of 3:(β₁=Inf,β₂=0.1). Distortion 0.49. Acceptance 90%\n",
      "Temperature 2 of 3:(β₁=Inf,β₂=1.0). Distortion 0.458. Acceptance 45%\n",
      "Temperature 3 of 3:(β₁=Inf,β₂=10.0). Distortion 0.432. Acceptance 26%\n",
      "# Finished iter 87 of 100: Parity 0. Distortion 0.432 at β₁=Inf, β₂=10.0. Acceptance: [0.9, 0.45, 0.26].\n",
      "Temperature 1 of 3:(β₁=Inf,β₂=0.1). Distortion 0.463. Acceptance 91%\n",
      "Temperature 2 of 3:(β₁=Inf,β₂=1.0). Distortion 0.434. Acceptance 44%\n",
      "Temperature 3 of 3:(β₁=Inf,β₂=10.0). Distortion 0.413. Acceptance 26%\n",
      "# Finished iter 88 of 100: Parity 0. Distortion 0.413 at β₁=Inf, β₂=10.0. Acceptance: [0.91, 0.44, 0.26].\n",
      "Temperature 1 of 3:(β₁=Inf,β₂=0.1). Distortion 0.501. Acceptance 89%\n",
      "Temperature 2 of 3:(β₁=Inf,β₂=1.0). Distortion 0.465. Acceptance 58%\n",
      "Temperature 3 of 3:(β₁=Inf,β₂=10.0). Distortion 0.437. Acceptance 23%\n",
      "# Finished iter 89 of 100: Parity 0. Distortion 0.437 at β₁=Inf, β₂=10.0. Acceptance: [0.89, 0.58, 0.23].\n",
      "Temperature 1 of 3:(β₁=Inf,β₂=0.1). Distortion 0.482. Acceptance 89%\n",
      "Temperature 2 of 3:(β₁=Inf,β₂=1.0). Distortion 0.437. Acceptance 50%\n"
     ]
    },
    {
     "name": "stdout",
     "output_type": "stream",
     "text": [
      "Temperature 3 of 3:(β₁=Inf,β₂=10.0). Distortion 0.416. Acceptance 24%\n",
      "# Finished iter 90 of 100: Parity 0. Distortion 0.416 at β₁=Inf, β₂=10.0. Acceptance: [0.89, 0.5, 0.24].\n",
      "Temperature 1 of 3:(β₁=Inf,β₂=0.1). Distortion 0.477. Acceptance 89%\n",
      "Temperature 2 of 3:(β₁=Inf,β₂=1.0). Distortion 0.436. Acceptance 59%\n",
      "Temperature 3 of 3:(β₁=Inf,β₂=10.0). Distortion 0.415. Acceptance 20%\n",
      "# Finished iter 91 of 100: Parity 0. Distortion 0.415 at β₁=Inf, β₂=10.0. Acceptance: [0.89, 0.59, 0.2].\n",
      "Temperature 1 of 3:(β₁=Inf,β₂=0.1). Distortion 0.491. Acceptance 91%\n",
      "Temperature 2 of 3:(β₁=Inf,β₂=1.0). Distortion 0.46. Acceptance 49%\n",
      "Temperature 3 of 3:(β₁=Inf,β₂=10.0). Distortion 0.428. Acceptance 24%\n",
      "# Finished iter 92 of 100: Parity 0. Distortion 0.428 at β₁=Inf, β₂=10.0. Acceptance: [0.91, 0.49, 0.24].\n",
      "Temperature 1 of 3:(β₁=Inf,β₂=0.1). Distortion 0.461. Acceptance 89%\n",
      "Temperature 2 of 3:(β₁=Inf,β₂=1.0). Distortion 0.425. Acceptance 40%\n",
      "Temperature 3 of 3:(β₁=Inf,β₂=10.0). Distortion 0.407. Acceptance 20%\n",
      "# Finished iter 93 of 100: Parity 0. Distortion 0.407 at β₁=Inf, β₂=10.0. Acceptance: [0.89, 0.4, 0.2].\n",
      "Temperature 1 of 3:(β₁=Inf,β₂=0.1). Distortion 0.467. Acceptance 88%\n",
      "Temperature 2 of 3:(β₁=Inf,β₂=1.0). Distortion 0.443. Acceptance 37%\n",
      "Temperature 3 of 3:(β₁=Inf,β₂=10.0). Distortion 0.428. Acceptance 17%\n",
      "# Finished iter 94 of 100: Parity 0. Distortion 0.428 at β₁=Inf, β₂=10.0. Acceptance: [0.88, 0.37, 0.17].\n",
      "Temperature 1 of 3:(β₁=Inf,β₂=0.1). Distortion 0.481. Acceptance 86%\n",
      "Temperature 2 of 3:(β₁=Inf,β₂=1.0). Distortion 0.445. Acceptance 36%\n",
      "Temperature 3 of 3:(β₁=Inf,β₂=10.0). Distortion 0.425. Acceptance 27%\n",
      "# Finished iter 95 of 100: Parity 0. Distortion 0.425 at β₁=Inf, β₂=10.0. Acceptance: [0.86, 0.36, 0.27].\n",
      "Temperature 1 of 3:(β₁=Inf,β₂=0.1). Distortion 0.481. Acceptance 95%\n",
      "Temperature 2 of 3:(β₁=Inf,β₂=1.0). Distortion 0.437. Acceptance 54%\n",
      "Temperature 3 of 3:(β₁=Inf,β₂=10.0). Distortion 0.414. Acceptance 22%\n",
      "# Finished iter 96 of 100: Parity 0. Distortion 0.414 at β₁=Inf, β₂=10.0. Acceptance: [0.95, 0.54, 0.22].\n",
      "Temperature 1 of 3:(β₁=Inf,β₂=0.1). Distortion 0.473. Acceptance 88%\n",
      "Temperature 2 of 3:(β₁=Inf,β₂=1.0). Distortion 0.436. Acceptance 63%\n",
      "Temperature 3 of 3:(β₁=Inf,β₂=10.0). Distortion 0.422. Acceptance 20%\n",
      "# Finished iter 97 of 100: Parity 0. Distortion 0.422 at β₁=Inf, β₂=10.0. Acceptance: [0.88, 0.63, 0.2].\n",
      "Temperature 1 of 3:(β₁=Inf,β₂=0.1). Distortion 0.473. Acceptance 90%\n",
      "Temperature 2 of 3:(β₁=Inf,β₂=1.0). Distortion 0.438. Acceptance 38%\n",
      "Temperature 3 of 3:(β₁=Inf,β₂=10.0). Distortion 0.431. Acceptance 19%\n",
      "# Finished iter 98 of 100: Parity 0. Distortion 0.431 at β₁=Inf, β₂=10.0. Acceptance: [0.9, 0.38, 0.19].\n",
      "Temperature 1 of 3:(β₁=Inf,β₂=0.1). Distortion 0.477. Acceptance 90%\n",
      "Temperature 2 of 3:(β₁=Inf,β₂=1.0). Distortion 0.44. Acceptance 50%\n",
      "Temperature 3 of 3:(β₁=Inf,β₂=10.0). Distortion 0.417. Acceptance 19%\n",
      "# Finished iter 99 of 100: Parity 0. Distortion 0.417 at β₁=Inf, β₂=10.0. Acceptance: [0.9, 0.5, 0.19].\n",
      "Temperature 1 of 3:(β₁=Inf,β₂=0.1). Distortion 0.506. Acceptance 90%\n",
      "Temperature 2 of 3:(β₁=Inf,β₂=1.0). Distortion 0.468. Acceptance 50%\n",
      "Temperature 3 of 3:(β₁=Inf,β₂=10.0). Distortion 0.435. Acceptance 28%\n",
      "# Finished iter 100 of 100: Parity 0. Distortion 0.435 at β₁=Inf, β₂=10.0. Acceptance: [0.9, 0.5, 0.28].\n",
      "##### b=10. 4 of 9 #####\n",
      "Temperature 1 of 3:(β₁=Inf,β₂=0.1). Distortion 0.446. Acceptance 88%\n",
      "Temperature 2 of 3:(β₁=Inf,β₂=1.0). Distortion 0.409. Acceptance 47%\n",
      "Temperature 3 of 3:(β₁=Inf,β₂=10.0). Distortion 0.395. Acceptance 21%\n",
      "# Finished iter 1 of 100: Parity 0. Distortion 0.395 at β₁=Inf, β₂=10.0. Acceptance: [0.88, 0.47, 0.21].\n",
      "Temperature 1 of 3:(β₁=Inf,β₂=0.1). Distortion 0.451. Acceptance 90%\n",
      "Temperature 2 of 3:(β₁=Inf,β₂=1.0). Distortion 0.444. Acceptance 45%\n",
      "Temperature 3 of 3:(β₁=Inf,β₂=10.0). Distortion 0.41. Acceptance 27%\n",
      "# Finished iter 2 of 100: Parity 0. Distortion 0.410 at β₁=Inf, β₂=10.0. Acceptance: [0.9, 0.45, 0.27].\n",
      "Temperature 1 of 3:(β₁=Inf,β₂=0.1). Distortion 0.453. Acceptance 91%\n",
      "Temperature 2 of 3:(β₁=Inf,β₂=1.0). Distortion 0.441. Acceptance 59%\n",
      "Temperature 3 of 3:(β₁=Inf,β₂=10.0). Distortion 0.417. Acceptance 25%\n",
      "# Finished iter 3 of 100: Parity 0. Distortion 0.417 at β₁=Inf, β₂=10.0. Acceptance: [0.91, 0.59, 0.25].\n",
      "Temperature 1 of 3:(β₁=Inf,β₂=0.1). Distortion 0.481. Acceptance 89%\n",
      "Temperature 2 of 3:(β₁=Inf,β₂=1.0). Distortion 0.445. Acceptance 50%\n",
      "Temperature 3 of 3:(β₁=Inf,β₂=10.0). Distortion 0.423. Acceptance 17%\n",
      "# Finished iter 4 of 100: Parity 0. Distortion 0.423 at β₁=Inf, β₂=10.0. Acceptance: [0.89, 0.5, 0.17].\n",
      "Temperature 1 of 3:(β₁=Inf,β₂=0.1). Distortion 0.469. Acceptance 89%\n",
      "Temperature 2 of 3:(β₁=Inf,β₂=1.0). Distortion 0.449. Acceptance 47%\n",
      "Temperature 3 of 3:(β₁=Inf,β₂=10.0). Distortion 0.431. Acceptance 22%\n",
      "# Finished iter 5 of 100: Parity 0. Distortion 0.431 at β₁=Inf, β₂=10.0. Acceptance: [0.89, 0.47, 0.22].\n",
      "Temperature 1 of 3:(β₁=Inf,β₂=0.1). Distortion 0.461. Acceptance 84%\n",
      "Temperature 2 of 3:(β₁=Inf,β₂=1.0). Distortion 0.428. Acceptance 57%\n",
      "Temperature 3 of 3:(β₁=Inf,β₂=10.0). Distortion 0.406. Acceptance 20%\n",
      "# Finished iter 6 of 100: Parity 0. Distortion 0.406 at β₁=Inf, β₂=10.0. Acceptance: [0.84, 0.57, 0.2].\n",
      "Temperature 1 of 3:(β₁=Inf,β₂=0.1). Distortion 0.5. Acceptance 92%\n",
      "Temperature 2 of 3:(β₁=Inf,β₂=1.0). Distortion 0.457. Acceptance 50%\n",
      "Temperature 3 of 3:(β₁=Inf,β₂=10.0). Distortion 0.438. Acceptance 24%\n",
      "# Finished iter 7 of 100: Parity 0. Distortion 0.438 at β₁=Inf, β₂=10.0. Acceptance: [0.92, 0.5, 0.24].\n",
      "Temperature 1 of 3:(β₁=Inf,β₂=0.1). Distortion 0.495. Acceptance 90%\n",
      "Temperature 2 of 3:(β₁=Inf,β₂=1.0). Distortion 0.435. Acceptance 57%\n",
      "Temperature 3 of 3:(β₁=Inf,β₂=10.0). Distortion 0.411. Acceptance 24%\n",
      "# Finished iter 8 of 100: Parity 0. Distortion 0.411 at β₁=Inf, β₂=10.0. Acceptance: [0.9, 0.57, 0.24].\n",
      "Temperature 1 of 3:(β₁=Inf,β₂=0.1). Distortion 0.488. Acceptance 92%\n",
      "Temperature 2 of 3:(β₁=Inf,β₂=1.0). Distortion 0.449. Acceptance 42%\n",
      "Temperature 3 of 3:(β₁=Inf,β₂=10.0). Distortion 0.438. Acceptance 23%\n",
      "# Finished iter 9 of 100: Parity 0. Distortion 0.438 at β₁=Inf, β₂=10.0. Acceptance: [0.92, 0.42, 0.23].\n",
      "Temperature 1 of 3:(β₁=Inf,β₂=0.1). Distortion 0.503. Acceptance 90%\n",
      "Temperature 2 of 3:(β₁=Inf,β₂=1.0). Distortion 0.46. Acceptance 54%\n",
      "Temperature 3 of 3:(β₁=Inf,β₂=10.0). Distortion 0.437. Acceptance 24%\n",
      "# Finished iter 10 of 100: Parity 0. Distortion 0.437 at β₁=Inf, β₂=10.0. Acceptance: [0.9, 0.54, 0.24].\n",
      "Temperature 1 of 3:(β₁=Inf,β₂=0.1). Distortion 0.468. Acceptance 92%\n",
      "Temperature 2 of 3:(β₁=Inf,β₂=1.0). Distortion 0.43. Acceptance 47%\n",
      "Temperature 3 of 3:(β₁=Inf,β₂=10.0). Distortion 0.41. Acceptance 22%\n",
      "# Finished iter 11 of 100: Parity 0. Distortion 0.410 at β₁=Inf, β₂=10.0. Acceptance: [0.92, 0.47, 0.22].\n",
      "Temperature 1 of 3:(β₁=Inf,β₂=0.1). Distortion 0.492. Acceptance 89%\n",
      "Temperature 2 of 3:(β₁=Inf,β₂=1.0). Distortion 0.442. Acceptance 53%\n",
      "Temperature 3 of 3:(β₁=Inf,β₂=10.0). Distortion 0.414. Acceptance 20%\n",
      "# Finished iter 12 of 100: Parity 0. Distortion 0.414 at β₁=Inf, β₂=10.0. Acceptance: [0.89, 0.53, 0.2].\n",
      "Temperature 1 of 3:(β₁=Inf,β₂=0.1). Distortion 0.495. Acceptance 90%\n",
      "Temperature 2 of 3:(β₁=Inf,β₂=1.0). Distortion 0.445. Acceptance 53%\n",
      "Temperature 3 of 3:(β₁=Inf,β₂=10.0). Distortion 0.427. Acceptance 18%\n",
      "# Finished iter 13 of 100: Parity 0. Distortion 0.427 at β₁=Inf, β₂=10.0. Acceptance: [0.9, 0.53, 0.18].\n",
      "Temperature 1 of 3:(β₁=Inf,β₂=0.1). Distortion 0.49. Acceptance 92%\n",
      "Temperature 2 of 3:(β₁=Inf,β₂=1.0). Distortion 0.462. Acceptance 54%\n",
      "Temperature 3 of 3:(β₁=Inf,β₂=10.0). Distortion 0.436. Acceptance 22%\n",
      "# Finished iter 14 of 100: Parity 0. Distortion 0.436 at β₁=Inf, β₂=10.0. Acceptance: [0.92, 0.54, 0.22].\n",
      "Temperature 1 of 3:(β₁=Inf,β₂=0.1). Distortion 0.486. Acceptance 87%\n",
      "Temperature 2 of 3:(β₁=Inf,β₂=1.0). Distortion 0.448. Acceptance 53%\n",
      "Temperature 3 of 3:(β₁=Inf,β₂=10.0). Distortion 0.418. Acceptance 21%\n",
      "# Finished iter 15 of 100: Parity 0. Distortion 0.418 at β₁=Inf, β₂=10.0. Acceptance: [0.87, 0.53, 0.21].\n",
      "Temperature 1 of 3:(β₁=Inf,β₂=0.1). Distortion 0.48. Acceptance 90%\n",
      "Temperature 2 of 3:(β₁=Inf,β₂=1.0). Distortion 0.454. Acceptance 43%\n",
      "Temperature 3 of 3:(β₁=Inf,β₂=10.0). Distortion 0.435. Acceptance 23%\n",
      "# Finished iter 16 of 100: Parity 0. Distortion 0.435 at β₁=Inf, β₂=10.0. Acceptance: [0.9, 0.43, 0.23].\n"
     ]
    },
    {
     "name": "stdout",
     "output_type": "stream",
     "text": [
      "Temperature 1 of 3:(β₁=Inf,β₂=0.1). Distortion 0.478. Acceptance 90%\n",
      "Temperature 2 of 3:(β₁=Inf,β₂=1.0). Distortion 0.457. Acceptance 51%\n",
      "Temperature 3 of 3:(β₁=Inf,β₂=10.0). Distortion 0.425. Acceptance 32%\n",
      "# Finished iter 17 of 100: Parity 0. Distortion 0.425 at β₁=Inf, β₂=10.0. Acceptance: [0.9, 0.51, 0.32].\n",
      "Temperature 1 of 3:(β₁=Inf,β₂=0.1). Distortion 0.487. Acceptance 91%\n",
      "Temperature 2 of 3:(β₁=Inf,β₂=1.0). Distortion 0.435. Acceptance 56%\n",
      "Temperature 3 of 3:(β₁=Inf,β₂=10.0). Distortion 0.414. Acceptance 24%\n",
      "# Finished iter 18 of 100: Parity 0. Distortion 0.414 at β₁=Inf, β₂=10.0. Acceptance: [0.91, 0.56, 0.24].\n",
      "Temperature 1 of 3:(β₁=Inf,β₂=0.1). Distortion 0.474. Acceptance 90%\n",
      "Temperature 2 of 3:(β₁=Inf,β₂=1.0). Distortion 0.437. Acceptance 44%\n",
      "Temperature 3 of 3:(β₁=Inf,β₂=10.0). Distortion 0.422. Acceptance 23%\n",
      "# Finished iter 19 of 100: Parity 0. Distortion 0.422 at β₁=Inf, β₂=10.0. Acceptance: [0.9, 0.44, 0.23].\n",
      "Temperature 1 of 3:(β₁=Inf,β₂=0.1). Distortion 0.486. Acceptance 89%\n",
      "Temperature 2 of 3:(β₁=Inf,β₂=1.0). Distortion 0.451. Acceptance 41%\n",
      "Temperature 3 of 3:(β₁=Inf,β₂=10.0). Distortion 0.431. Acceptance 30%\n",
      "# Finished iter 20 of 100: Parity 0. Distortion 0.431 at β₁=Inf, β₂=10.0. Acceptance: [0.89, 0.41, 0.3].\n",
      "Temperature 1 of 3:(β₁=Inf,β₂=0.1). Distortion 0.482. Acceptance 91%\n",
      "Temperature 2 of 3:(β₁=Inf,β₂=1.0). Distortion 0.44. Acceptance 47%\n",
      "Temperature 3 of 3:(β₁=Inf,β₂=10.0). Distortion 0.416. Acceptance 19%\n",
      "# Finished iter 21 of 100: Parity 0. Distortion 0.416 at β₁=Inf, β₂=10.0. Acceptance: [0.91, 0.47, 0.19].\n",
      "Temperature 1 of 3:(β₁=Inf,β₂=0.1). Distortion 0.464. Acceptance 85%\n",
      "Temperature 2 of 3:(β₁=Inf,β₂=1.0). Distortion 0.43. Acceptance 52%\n",
      "Temperature 3 of 3:(β₁=Inf,β₂=10.0). Distortion 0.399. Acceptance 27%\n",
      "# Finished iter 22 of 100: Parity 0. Distortion 0.399 at β₁=Inf, β₂=10.0. Acceptance: [0.85, 0.52, 0.27].\n",
      "Temperature 1 of 3:(β₁=Inf,β₂=0.1). Distortion 0.469. Acceptance 92%\n",
      "Temperature 2 of 3:(β₁=Inf,β₂=1.0). Distortion 0.454. Acceptance 51%\n",
      "Temperature 3 of 3:(β₁=Inf,β₂=10.0). Distortion 0.418. Acceptance 28%\n",
      "# Finished iter 23 of 100: Parity 0. Distortion 0.418 at β₁=Inf, β₂=10.0. Acceptance: [0.92, 0.51, 0.28].\n",
      "Temperature 1 of 3:(β₁=Inf,β₂=0.1). Distortion 0.477. Acceptance 87%\n",
      "Temperature 2 of 3:(β₁=Inf,β₂=1.0). Distortion 0.447. Acceptance 52%\n",
      "Temperature 3 of 3:(β₁=Inf,β₂=10.0). Distortion 0.418. Acceptance 31%\n",
      "# Finished iter 24 of 100: Parity 0. Distortion 0.418 at β₁=Inf, β₂=10.0. Acceptance: [0.87, 0.52, 0.31].\n",
      "Temperature 1 of 3:(β₁=Inf,β₂=0.1). Distortion 0.465. Acceptance 89%\n",
      "Temperature 2 of 3:(β₁=Inf,β₂=1.0). Distortion 0.438. Acceptance 55%\n",
      "Temperature 3 of 3:(β₁=Inf,β₂=10.0). Distortion 0.411. Acceptance 32%\n",
      "# Finished iter 25 of 100: Parity 0. Distortion 0.411 at β₁=Inf, β₂=10.0. Acceptance: [0.89, 0.55, 0.32].\n",
      "Temperature 1 of 3:(β₁=Inf,β₂=0.1). Distortion 0.469. Acceptance 95%\n",
      "Temperature 2 of 3:(β₁=Inf,β₂=1.0). Distortion 0.435. Acceptance 47%\n",
      "Temperature 3 of 3:(β₁=Inf,β₂=10.0). Distortion 0.399. Acceptance 26%\n",
      "# Finished iter 26 of 100: Parity 0. Distortion 0.399 at β₁=Inf, β₂=10.0. Acceptance: [0.95, 0.47, 0.26].\n",
      "Temperature 1 of 3:(β₁=Inf,β₂=0.1). Distortion 0.468. Acceptance 88%\n",
      "Temperature 2 of 3:(β₁=Inf,β₂=1.0). Distortion 0.415. Acceptance 56%\n",
      "Temperature 3 of 3:(β₁=Inf,β₂=10.0). Distortion 0.399. Acceptance 22%\n",
      "# Finished iter 27 of 100: Parity 0. Distortion 0.399 at β₁=Inf, β₂=10.0. Acceptance: [0.88, 0.56, 0.22].\n",
      "Temperature 1 of 3:(β₁=Inf,β₂=0.1). Distortion 0.491. Acceptance 85%\n",
      "Temperature 2 of 3:(β₁=Inf,β₂=1.0). Distortion 0.47. Acceptance 57%\n",
      "Temperature 3 of 3:(β₁=Inf,β₂=10.0). Distortion 0.444. Acceptance 20%\n",
      "# Finished iter 28 of 100: Parity 0. Distortion 0.444 at β₁=Inf, β₂=10.0. Acceptance: [0.85, 0.57, 0.2].\n",
      "Temperature 1 of 3:(β₁=Inf,β₂=0.1). Distortion 0.48. Acceptance 91%\n",
      "Temperature 2 of 3:(β₁=Inf,β₂=1.0). Distortion 0.435. Acceptance 53%\n",
      "Temperature 3 of 3:(β₁=Inf,β₂=10.0). Distortion 0.4. Acceptance 25%\n",
      "# Finished iter 29 of 100: Parity 0. Distortion 0.400 at β₁=Inf, β₂=10.0. Acceptance: [0.91, 0.53, 0.25].\n",
      "Temperature 1 of 3:(β₁=Inf,β₂=0.1). Distortion 0.469. Acceptance 87%\n",
      "Temperature 2 of 3:(β₁=Inf,β₂=1.0). Distortion 0.443. Acceptance 51%\n",
      "Temperature 3 of 3:(β₁=Inf,β₂=10.0). Distortion 0.414. Acceptance 27%\n",
      "# Finished iter 30 of 100: Parity 0. Distortion 0.414 at β₁=Inf, β₂=10.0. Acceptance: [0.87, 0.51, 0.27].\n",
      "Temperature 1 of 3:(β₁=Inf,β₂=0.1). Distortion 0.477. Acceptance 91%\n",
      "Temperature 2 of 3:(β₁=Inf,β₂=1.0). Distortion 0.46. Acceptance 44%\n",
      "Temperature 3 of 3:(β₁=Inf,β₂=10.0). Distortion 0.435. Acceptance 17%\n",
      "# Finished iter 44 of 100: Parity 0. Distortion 0.435 at β₁=Inf, β₂=10.0. Acceptance: [0.9, 0.44, 0.17].\n",
      "Temperature 1 of 3:(β₁=Inf,β₂=0.1). Distortion 0.473. Acceptance 94%\n",
      "Temperature 2 of 3:(β₁=Inf,β₂=1.0). Distortion 0.411. Acceptance 56%\n",
      "Temperature 3 of 3:(β₁=Inf,β₂=10.0). Distortion 0.393. Acceptance 17%\n",
      "# Finished iter 45 of 100: Parity 0. Distortion 0.393 at β₁=Inf, β₂=10.0. Acceptance: [0.94, 0.56, 0.17].\n",
      "Temperature 1 of 3:(β₁=Inf,β₂=0.1). Distortion 0.473. Acceptance 88%\n",
      "Temperature 2 of 3:(β₁=Inf,β₂=1.0). Distortion 0.422. Acceptance 52%\n",
      "Temperature 3 of 3:(β₁=Inf,β₂=10.0). Distortion 0.408. Acceptance 10%\n",
      "# Finished iter 46 of 100: Parity 0. Distortion 0.408 at β₁=Inf, β₂=10.0. Acceptance: [0.88, 0.52, 0.1].\n",
      "Temperature 1 of 3:(β₁=Inf,β₂=0.1). Distortion 0.487. Acceptance 90%\n",
      "Temperature 2 of 3:(β₁=Inf,β₂=1.0). Distortion 0.452. Acceptance 56%\n",
      "Temperature 3 of 3:(β₁=Inf,β₂=10.0). Distortion 0.404. Acceptance 35%\n",
      "# Finished iter 47 of 100: Parity 0. Distortion 0.404 at β₁=Inf, β₂=10.0. Acceptance: [0.9, 0.56, 0.35].\n",
      "Temperature 1 of 3:(β₁=Inf,β₂=0.1). Distortion 0.465. Acceptance 88%\n",
      "Temperature 2 of 3:(β₁=Inf,β₂=1.0). Distortion 0.42. Acceptance 55%\n",
      "Temperature 3 of 3:(β₁=Inf,β₂=10.0). Distortion 0.403. Acceptance 20%\n",
      "# Finished iter 48 of 100: Parity 0. Distortion 0.403 at β₁=Inf, β₂=10.0. Acceptance: [0.88, 0.55, 0.2].\n",
      "Temperature 1 of 3:(β₁=Inf,β₂=0.1). Distortion 0.479. Acceptance 86%\n",
      "Temperature 2 of 3:(β₁=Inf,β₂=1.0). Distortion 0.45. Acceptance 50%\n",
      "Temperature 3 of 3:(β₁=Inf,β₂=10.0). Distortion 0.437. Acceptance 20%\n",
      "# Finished iter 49 of 100: Parity 0. Distortion 0.437 at β₁=Inf, β₂=10.0. Acceptance: [0.86, 0.5, 0.2].\n",
      "Temperature 1 of 3:(β₁=Inf,β₂=0.1). Distortion 0.505. Acceptance 93%\n",
      "Temperature 2 of 3:(β₁=Inf,β₂=1.0). Distortion 0.458. Acceptance 45%\n",
      "Temperature 3 of 3:(β₁=Inf,β₂=10.0). Distortion 0.444. Acceptance 18%\n",
      "# Finished iter 50 of 100: Parity 0. Distortion 0.444 at β₁=Inf, β₂=10.0. Acceptance: [0.93, 0.45, 0.18].\n",
      "Temperature 1 of 3:(β₁=Inf,β₂=0.1). Distortion 0.477. Acceptance 89%\n",
      "Temperature 2 of 3:(β₁=Inf,β₂=1.0). Distortion 0.444. Acceptance 58%\n",
      "Temperature 3 of 3:(β₁=Inf,β₂=10.0). Distortion 0.402. Acceptance 33%\n",
      "# Finished iter 51 of 100: Parity 0. Distortion 0.402 at β₁=Inf, β₂=10.0. Acceptance: [0.89, 0.58, 0.33].\n",
      "Temperature 1 of 3:(β₁=Inf,β₂=0.1). Distortion 0.479. Acceptance 91%\n",
      "Temperature 2 of 3:(β₁=Inf,β₂=1.0). Distortion 0.432. Acceptance 52%\n",
      "Temperature 3 of 3:(β₁=Inf,β₂=10.0). Distortion 0.407. Acceptance 21%\n",
      "# Finished iter 52 of 100: Parity 0. Distortion 0.407 at β₁=Inf, β₂=10.0. Acceptance: [0.91, 0.52, 0.21].\n",
      "Temperature 1 of 3:(β₁=Inf,β₂=0.1). Distortion 0.467. Acceptance 90%\n",
      "Temperature 2 of 3:(β₁=Inf,β₂=1.0). Distortion 0.441. Acceptance 45%\n",
      "Temperature 3 of 3:(β₁=Inf,β₂=10.0). Distortion 0.419. Acceptance 27%\n",
      "# Finished iter 53 of 100: Parity 0. Distortion 0.419 at β₁=Inf, β₂=10.0. Acceptance: [0.9, 0.45, 0.27].\n",
      "Temperature 1 of 3:(β₁=Inf,β₂=0.1). Distortion 0.496. Acceptance 89%\n",
      "Temperature 2 of 3:(β₁=Inf,β₂=1.0). Distortion 0.47. Acceptance 59%\n",
      "Temperature 3 of 3:(β₁=Inf,β₂=10.0). Distortion 0.441. Acceptance 27%\n",
      "# Finished iter 54 of 100: Parity 0. Distortion 0.441 at β₁=Inf, β₂=10.0. Acceptance: [0.89, 0.59, 0.27].\n",
      "Temperature 1 of 3:(β₁=Inf,β₂=0.1). Distortion 0.472. Acceptance 87%\n",
      "Temperature 2 of 3:(β₁=Inf,β₂=1.0). Distortion 0.435. Acceptance 52%\n",
      "Temperature 3 of 3:(β₁=Inf,β₂=10.0). Distortion 0.417. Acceptance 21%\n",
      "# Finished iter 55 of 100: Parity 0. Distortion 0.417 at β₁=Inf, β₂=10.0. Acceptance: [0.87, 0.52, 0.21].\n",
      "Temperature 1 of 3:(β₁=Inf,β₂=0.1). Distortion 0.482. Acceptance 90%\n"
     ]
    },
    {
     "name": "stdout",
     "output_type": "stream",
     "text": [
      "Temperature 2 of 3:(β₁=Inf,β₂=1.0). Distortion 0.437. Acceptance 47%\n",
      "Temperature 3 of 3:(β₁=Inf,β₂=10.0). Distortion 0.421. Acceptance 18%\n",
      "# Finished iter 56 of 100: Parity 0. Distortion 0.421 at β₁=Inf, β₂=10.0. Acceptance: [0.9, 0.47, 0.18].\n",
      "Temperature 1 of 3:(β₁=Inf,β₂=0.1). Distortion 0.468. Acceptance 88%\n",
      "Temperature 2 of 3:(β₁=Inf,β₂=1.0). Distortion 0.443. Acceptance 56%\n",
      "Temperature 3 of 3:(β₁=Inf,β₂=10.0). Distortion 0.408. Acceptance 35%\n",
      "# Finished iter 57 of 100: Parity 0. Distortion 0.408 at β₁=Inf, β₂=10.0. Acceptance: [0.88, 0.56, 0.35].\n",
      "Temperature 1 of 3:(β₁=Inf,β₂=0.1). Distortion 0.444. Acceptance 86%\n",
      "Temperature 2 of 3:(β₁=Inf,β₂=1.0). Distortion 0.425. Acceptance 39%\n",
      "Temperature 3 of 3:(β₁=Inf,β₂=10.0). Distortion 0.405. Acceptance 22%\n",
      "# Finished iter 58 of 100: Parity 0. Distortion 0.405 at β₁=Inf, β₂=10.0. Acceptance: [0.86, 0.39, 0.22].\n",
      "Temperature 1 of 3:(β₁=Inf,β₂=0.1). Distortion 0.49. Acceptance 93%\n",
      "Temperature 2 of 3:(β₁=Inf,β₂=1.0). Distortion 0.444. Acceptance 59%\n",
      "Temperature 3 of 3:(β₁=Inf,β₂=10.0). Distortion 0.414. Acceptance 25%\n",
      "# Finished iter 59 of 100: Parity 0. Distortion 0.414 at β₁=Inf, β₂=10.0. Acceptance: [0.93, 0.59, 0.25].\n",
      "Temperature 1 of 3:(β₁=Inf,β₂=0.1). Distortion 0.487. Acceptance 87%\n",
      "Temperature 2 of 3:(β₁=Inf,β₂=1.0). Distortion 0.459. Acceptance 49%\n",
      "Temperature 3 of 3:(β₁=Inf,β₂=10.0). Distortion 0.436. Acceptance 23%\n",
      "# Finished iter 60 of 100: Parity 0. Distortion 0.436 at β₁=Inf, β₂=10.0. Acceptance: [0.87, 0.49, 0.23].\n",
      "Temperature 1 of 3:(β₁=Inf,β₂=0.1). Distortion 0.471. Acceptance 85%\n",
      "Temperature 2 of 3:(β₁=Inf,β₂=1.0). Distortion 0.442. Acceptance 62%\n",
      "Temperature 3 of 3:(β₁=Inf,β₂=10.0). Distortion 0.404. Acceptance 23%\n",
      "# Finished iter 61 of 100: Parity 0. Distortion 0.404 at β₁=Inf, β₂=10.0. Acceptance: [0.85, 0.62, 0.23].\n",
      "Temperature 1 of 3:(β₁=Inf,β₂=0.1). Distortion 0.479. Acceptance 89%\n",
      "Temperature 2 of 3:(β₁=Inf,β₂=1.0). Distortion 0.437. Acceptance 53%\n",
      "Temperature 3 of 3:(β₁=Inf,β₂=10.0). Distortion 0.407. Acceptance 26%\n",
      "# Finished iter 62 of 100: Parity 0. Distortion 0.407 at β₁=Inf, β₂=10.0. Acceptance: [0.89, 0.53, 0.26].\n",
      "Temperature 1 of 3:(β₁=Inf,β₂=0.1). Distortion 0.486. Acceptance 90%\n",
      "Temperature 2 of 3:(β₁=Inf,β₂=1.0). Distortion 0.436. Acceptance 54%\n",
      "Temperature 3 of 3:(β₁=Inf,β₂=10.0). Distortion 0.421. Acceptance 18%\n",
      "# Finished iter 63 of 100: Parity 0. Distortion 0.421 at β₁=Inf, β₂=10.0. Acceptance: [0.9, 0.54, 0.18].\n",
      "Temperature 1 of 3:(β₁=Inf,β₂=0.1). Distortion 0.489. Acceptance 90%\n",
      "Temperature 2 of 3:(β₁=Inf,β₂=1.0). Distortion 0.466. Acceptance 48%\n",
      "Temperature 3 of 3:(β₁=Inf,β₂=10.0). Distortion 0.437. Acceptance 21%\n",
      "# Finished iter 64 of 100: Parity 0. Distortion 0.437 at β₁=Inf, β₂=10.0. Acceptance: [0.9, 0.48, 0.21].\n",
      "Temperature 1 of 3:(β₁=Inf,β₂=0.1). Distortion 0.469. Acceptance 88%\n",
      "Temperature 2 of 3:(β₁=Inf,β₂=1.0). Distortion 0.456. Acceptance 49%\n",
      "Temperature 3 of 3:(β₁=Inf,β₂=10.0). Distortion 0.429. Acceptance 27%\n",
      "# Finished iter 65 of 100: Parity 0. Distortion 0.429 at β₁=Inf, β₂=10.0. Acceptance: [0.88, 0.49, 0.27].\n",
      "Temperature 1 of 3:(β₁=Inf,β₂=0.1). Distortion 0.483. Acceptance 89%\n",
      "Temperature 2 of 3:(β₁=Inf,β₂=1.0). Distortion 0.459. Acceptance 48%\n",
      "Temperature 3 of 3:(β₁=Inf,β₂=10.0). Distortion 0.435. Acceptance 29%\n",
      "# Finished iter 66 of 100: Parity 0. Distortion 0.435 at β₁=Inf, β₂=10.0. Acceptance: [0.89, 0.48, 0.29].\n",
      "Temperature 1 of 3:(β₁=Inf,β₂=0.1). Distortion 0.492. Acceptance 93%\n",
      "Temperature 2 of 3:(β₁=Inf,β₂=1.0). Distortion 0.453. Acceptance 52%\n",
      "Temperature 3 of 3:(β₁=Inf,β₂=10.0). Distortion 0.411. Acceptance 26%\n",
      "# Finished iter 67 of 100: Parity 0. Distortion 0.411 at β₁=Inf, β₂=10.0. Acceptance: [0.93, 0.52, 0.26].\n",
      "Temperature 1 of 3:(β₁=Inf,β₂=0.1). Distortion 0.479. Acceptance 91%\n",
      "Temperature 2 of 3:(β₁=Inf,β₂=1.0). Distortion 0.443. Acceptance 54%\n",
      "Temperature 3 of 3:(β₁=Inf,β₂=10.0). Distortion 0.424. Acceptance 22%\n",
      "# Finished iter 68 of 100: Parity 0. Distortion 0.424 at β₁=Inf, β₂=10.0. Acceptance: [0.91, 0.54, 0.22].\n",
      "Temperature 1 of 3:(β₁=Inf,β₂=0.1). Distortion 0.464. Acceptance 90%\n",
      "Temperature 2 of 3:(β₁=Inf,β₂=1.0). Distortion 0.428. Acceptance 46%\n",
      "Temperature 3 of 3:(β₁=Inf,β₂=10.0). Distortion 0.412. Acceptance 16%\n",
      "# Finished iter 69 of 100: Parity 0. Distortion 0.412 at β₁=Inf, β₂=10.0. Acceptance: [0.9, 0.46, 0.16].\n",
      "Temperature 1 of 3:(β₁=Inf,β₂=0.1). Distortion 0.471. Acceptance 86%\n",
      "Temperature 2 of 3:(β₁=Inf,β₂=1.0). Distortion 0.438. Acceptance 54%\n",
      "Temperature 3 of 3:(β₁=Inf,β₂=10.0). Distortion 0.415. Acceptance 24%\n",
      "# Finished iter 70 of 100: Parity 0. Distortion 0.415 at β₁=Inf, β₂=10.0. Acceptance: [0.86, 0.54, 0.24].\n",
      "Temperature 1 of 3:(β₁=Inf,β₂=0.1). Distortion 0.477. Acceptance 91%\n",
      "Temperature 2 of 3:(β₁=Inf,β₂=1.0). Distortion 0.445. Acceptance 52%\n",
      "Temperature 3 of 3:(β₁=Inf,β₂=10.0). Distortion 0.428. Acceptance 19%\n",
      "# Finished iter 71 of 100: Parity 0. Distortion 0.428 at β₁=Inf, β₂=10.0. Acceptance: [0.91, 0.52, 0.19].\n",
      "Temperature 1 of 3:(β₁=Inf,β₂=0.1). Distortion 0.468. Acceptance 85%\n",
      "Temperature 2 of 3:(β₁=Inf,β₂=1.0). Distortion 0.431. Acceptance 47%\n",
      "Temperature 3 of 3:(β₁=Inf,β₂=10.0). Distortion 0.404. Acceptance 23%\n",
      "# Finished iter 72 of 100: Parity 0. Distortion 0.404 at β₁=Inf, β₂=10.0. Acceptance: [0.85, 0.47, 0.23].\n",
      "Temperature 1 of 3:(β₁=Inf,β₂=0.1). Distortion 0.474. Acceptance 92%\n",
      "Temperature 2 of 3:(β₁=Inf,β₂=1.0). Distortion 0.461. Acceptance 48%\n",
      "Temperature 3 of 3:(β₁=Inf,β₂=10.0). Distortion 0.423. Acceptance 24%\n",
      "# Finished iter 73 of 100: Parity 0. Distortion 0.423 at β₁=Inf, β₂=10.0. Acceptance: [0.92, 0.48, 0.24].\n",
      "Temperature 1 of 3:(β₁=Inf,β₂=0.1). Distortion 0.452. Acceptance 92%\n",
      "Temperature 2 of 3:(β₁=Inf,β₂=1.0). Distortion 0.422. Acceptance 45%\n",
      "Temperature 3 of 3:(β₁=Inf,β₂=10.0). Distortion 0.398. Acceptance 31%\n",
      "# Finished iter 74 of 100: Parity 0. Distortion 0.398 at β₁=Inf, β₂=10.0. Acceptance: [0.92, 0.45, 0.31].\n",
      "Temperature 1 of 3:(β₁=Inf,β₂=0.1). Distortion 0.482. Acceptance 90%\n",
      "Temperature 2 of 3:(β₁=Inf,β₂=1.0). Distortion 0.449. Acceptance 56%\n",
      "Temperature 3 of 3:(β₁=Inf,β₂=10.0). Distortion 0.407. Acceptance 30%\n",
      "# Finished iter 75 of 100: Parity 0. Distortion 0.407 at β₁=Inf, β₂=10.0. Acceptance: [0.9, 0.56, 0.3].\n",
      "Temperature 1 of 3:(β₁=Inf,β₂=0.1). Distortion 0.485. Acceptance 90%\n",
      "Temperature 2 of 3:(β₁=Inf,β₂=1.0). Distortion 0.449. Acceptance 52%\n",
      "Temperature 3 of 3:(β₁=Inf,β₂=10.0). Distortion 0.434. Acceptance 22%\n",
      "# Finished iter 76 of 100: Parity 0. Distortion 0.434 at β₁=Inf, β₂=10.0. Acceptance: [0.9, 0.52, 0.22].\n",
      "Temperature 1 of 3:(β₁=Inf,β₂=0.1). Distortion 0.472. Acceptance 95%\n",
      "Temperature 2 of 3:(β₁=Inf,β₂=1.0). Distortion 0.426. Acceptance 44%\n",
      "Temperature 3 of 3:(β₁=Inf,β₂=10.0). Distortion 0.406. Acceptance 17%\n",
      "# Finished iter 77 of 100: Parity 0. Distortion 0.406 at β₁=Inf, β₂=10.0. Acceptance: [0.95, 0.44, 0.17].\n",
      "Temperature 1 of 3:(β₁=Inf,β₂=0.1). Distortion 0.493. Acceptance 88%\n",
      "Temperature 2 of 3:(β₁=Inf,β₂=1.0). Distortion 0.449. Acceptance 61%\n",
      "Temperature 3 of 3:(β₁=Inf,β₂=10.0). Distortion 0.418. Acceptance 20%\n",
      "# Finished iter 78 of 100: Parity 0. Distortion 0.418 at β₁=Inf, β₂=10.0. Acceptance: [0.88, 0.61, 0.2].\n",
      "Temperature 1 of 3:(β₁=Inf,β₂=0.1). Distortion 0.487. Acceptance 89%\n",
      "Temperature 2 of 3:(β₁=Inf,β₂=1.0). Distortion 0.451. Acceptance 44%\n",
      "Temperature 3 of 3:(β₁=Inf,β₂=10.0). Distortion 0.426. Acceptance 24%\n",
      "# Finished iter 79 of 100: Parity 0. Distortion 0.426 at β₁=Inf, β₂=10.0. Acceptance: [0.89, 0.44, 0.24].\n",
      "Temperature 1 of 3:(β₁=Inf,β₂=0.1). Distortion 0.496. Acceptance 88%\n",
      "Temperature 2 of 3:(β₁=Inf,β₂=1.0). Distortion 0.45. Acceptance 47%\n",
      "Temperature 3 of 3:(β₁=Inf,β₂=10.0). Distortion 0.434. Acceptance 19%\n",
      "# Finished iter 80 of 100: Parity 0. Distortion 0.434 at β₁=Inf, β₂=10.0. Acceptance: [0.88, 0.47, 0.19].\n",
      "Temperature 1 of 3:(β₁=Inf,β₂=0.1). Distortion 0.454. Acceptance 90%\n",
      "Temperature 2 of 3:(β₁=Inf,β₂=1.0). Distortion 0.444. Acceptance 51%\n",
      "Temperature 3 of 3:(β₁=Inf,β₂=10.0). Distortion 0.414. Acceptance 29%\n",
      "# Finished iter 81 of 100: Parity 0. Distortion 0.414 at β₁=Inf, β₂=10.0. Acceptance: [0.9, 0.51, 0.29].\n",
      "Temperature 1 of 3:(β₁=Inf,β₂=0.1). Distortion 0.469. Acceptance 91%\n",
      "Temperature 2 of 3:(β₁=Inf,β₂=1.0). Distortion 0.438. Acceptance 41%\n"
     ]
    },
    {
     "name": "stdout",
     "output_type": "stream",
     "text": [
      "Temperature 3 of 3:(β₁=Inf,β₂=10.0). Distortion 0.415. Acceptance 27%\n",
      "# Finished iter 82 of 100: Parity 0. Distortion 0.415 at β₁=Inf, β₂=10.0. Acceptance: [0.91, 0.41, 0.27].\n",
      "Temperature 1 of 3:(β₁=Inf,β₂=0.1). Distortion 0.468. Acceptance 93%\n",
      "Temperature 2 of 3:(β₁=Inf,β₂=1.0). Distortion 0.438. Acceptance 47%\n",
      "Temperature 3 of 3:(β₁=Inf,β₂=10.0). Distortion 0.413. Acceptance 28%\n",
      "# Finished iter 83 of 100: Parity 0. Distortion 0.413 at β₁=Inf, β₂=10.0. Acceptance: [0.93, 0.47, 0.28].\n",
      "Temperature 1 of 3:(β₁=Inf,β₂=0.1). Distortion 0.448. Acceptance 88%\n",
      "Temperature 2 of 3:(β₁=Inf,β₂=1.0). Distortion 0.411. Acceptance 50%\n",
      "Temperature 3 of 3:(β₁=Inf,β₂=10.0). Distortion 0.394. Acceptance 18%\n",
      "# Finished iter 84 of 100: Parity 0. Distortion 0.394 at β₁=Inf, β₂=10.0. Acceptance: [0.88, 0.5, 0.18].\n",
      "Temperature 1 of 3:(β₁=Inf,β₂=0.1). Distortion 0.475. Acceptance 93%\n",
      "Temperature 2 of 3:(β₁=Inf,β₂=1.0). Distortion 0.454. Acceptance 48%\n",
      "Temperature 3 of 3:(β₁=Inf,β₂=10.0). Distortion 0.419. Acceptance 33%\n",
      "# Finished iter 85 of 100: Parity 0. Distortion 0.419 at β₁=Inf, β₂=10.0. Acceptance: [0.93, 0.48, 0.33].\n",
      "Temperature 1 of 3:(β₁=Inf,β₂=0.1). Distortion 0.478. Acceptance 94%\n",
      "Temperature 2 of 3:(β₁=Inf,β₂=1.0). Distortion 0.431. Acceptance 50%\n",
      "Temperature 3 of 3:(β₁=Inf,β₂=10.0). Distortion 0.411. Acceptance 25%\n",
      "# Finished iter 86 of 100: Parity 0. Distortion 0.411 at β₁=Inf, β₂=10.0. Acceptance: [0.94, 0.5, 0.25].\n",
      "Temperature 1 of 3:(β₁=Inf,β₂=0.1). Distortion 0.476. Acceptance 90%\n",
      "Temperature 2 of 3:(β₁=Inf,β₂=1.0). Distortion 0.433. Acceptance 59%\n",
      "Temperature 3 of 3:(β₁=Inf,β₂=10.0). Distortion 0.408. Acceptance 16%\n",
      "# Finished iter 87 of 100: Parity 0. Distortion 0.408 at β₁=Inf, β₂=10.0. Acceptance: [0.9, 0.59, 0.16].\n",
      "Temperature 1 of 3:(β₁=Inf,β₂=0.1). Distortion 0.475. Acceptance 93%\n",
      "Temperature 2 of 3:(β₁=Inf,β₂=1.0). Distortion 0.439. Acceptance 44%\n",
      "Temperature 3 of 3:(β₁=Inf,β₂=10.0). Distortion 0.424. Acceptance 26%\n",
      "# Finished iter 88 of 100: Parity 0. Distortion 0.424 at β₁=Inf, β₂=10.0. Acceptance: [0.93, 0.44, 0.26].\n",
      "Temperature 1 of 3:(β₁=Inf,β₂=0.1). Distortion 0.458. Acceptance 88%\n",
      "Temperature 2 of 3:(β₁=Inf,β₂=1.0). Distortion 0.446. Acceptance 47%\n",
      "Temperature 3 of 3:(β₁=Inf,β₂=10.0). Distortion 0.418. Acceptance 29%\n",
      "# Finished iter 89 of 100: Parity 0. Distortion 0.418 at β₁=Inf, β₂=10.0. Acceptance: [0.88, 0.47, 0.29].\n",
      "Temperature 1 of 3:(β₁=Inf,β₂=0.1). Distortion 0.465. Acceptance 90%\n",
      "Temperature 2 of 3:(β₁=Inf,β₂=1.0). Distortion 0.414. Acceptance 52%\n",
      "Temperature 3 of 3:(β₁=Inf,β₂=10.0). Distortion 0.389. Acceptance 21%\n",
      "# Finished iter 90 of 100: Parity 0. Distortion 0.389 at β₁=Inf, β₂=10.0. Acceptance: [0.9, 0.52, 0.21].\n",
      "Temperature 1 of 3:(β₁=Inf,β₂=0.1). Distortion 0.457. Acceptance 91%\n",
      "Temperature 2 of 3:(β₁=Inf,β₂=1.0). Distortion 0.445. Acceptance 51%\n",
      "Temperature 3 of 3:(β₁=Inf,β₂=10.0). Distortion 0.419. Acceptance 20%\n",
      "# Finished iter 91 of 100: Parity 0. Distortion 0.419 at β₁=Inf, β₂=10.0. Acceptance: [0.91, 0.51, 0.2].\n",
      "Temperature 1 of 3:(β₁=Inf,β₂=0.1). Distortion 0.455. Acceptance 92%\n",
      "Temperature 2 of 3:(β₁=Inf,β₂=1.0). Distortion 0.426. Acceptance 55%\n",
      "Temperature 3 of 3:(β₁=Inf,β₂=10.0). Distortion 0.398. Acceptance 32%\n",
      "# Finished iter 92 of 100: Parity 0. Distortion 0.398 at β₁=Inf, β₂=10.0. Acceptance: [0.92, 0.55, 0.32].\n",
      "Temperature 1 of 3:(β₁=Inf,β₂=0.1). Distortion 0.469. Acceptance 84%\n",
      "Temperature 2 of 3:(β₁=Inf,β₂=1.0). Distortion 0.441. Acceptance 53%\n",
      "Temperature 3 of 3:(β₁=Inf,β₂=10.0). Distortion 0.42. Acceptance 18%\n",
      "# Finished iter 93 of 100: Parity 0. Distortion 0.420 at β₁=Inf, β₂=10.0. Acceptance: [0.84, 0.53, 0.18].\n",
      "Temperature 1 of 3:(β₁=Inf,β₂=0.1). Distortion 0.489. Acceptance 87%\n",
      "Temperature 2 of 3:(β₁=Inf,β₂=1.0). Distortion 0.447. Acceptance 45%\n",
      "Temperature 3 of 3:(β₁=Inf,β₂=10.0). Distortion 0.426. Acceptance 26%\n",
      "# Finished iter 94 of 100: Parity 0. Distortion 0.426 at β₁=Inf, β₂=10.0. Acceptance: [0.87, 0.45, 0.26].\n",
      "Temperature 1 of 3:(β₁=Inf,β₂=0.1). Distortion 0.465. Acceptance 87%\n",
      "Temperature 2 of 3:(β₁=Inf,β₂=1.0). Distortion 0.442. Acceptance 49%\n",
      "Temperature 3 of 3:(β₁=Inf,β₂=10.0). Distortion 0.409. Acceptance 29%\n",
      "# Finished iter 95 of 100: Parity 0. Distortion 0.409 at β₁=Inf, β₂=10.0. Acceptance: [0.87, 0.49, 0.29].\n",
      "Temperature 1 of 3:(β₁=Inf,β₂=0.1). Distortion 0.483. Acceptance 90%\n",
      "Temperature 2 of 3:(β₁=Inf,β₂=1.0). Distortion 0.446. Acceptance 55%\n",
      "Temperature 3 of 3:(β₁=Inf,β₂=10.0). Distortion 0.417. Acceptance 21%\n",
      "# Finished iter 96 of 100: Parity 0. Distortion 0.417 at β₁=Inf, β₂=10.0. Acceptance: [0.9, 0.55, 0.21].\n",
      "Temperature 1 of 3:(β₁=Inf,β₂=0.1). Distortion 0.493. Acceptance 89%\n",
      "Temperature 2 of 3:(β₁=Inf,β₂=1.0). Distortion 0.44. Acceptance 56%\n",
      "Temperature 3 of 3:(β₁=Inf,β₂=10.0). Distortion 0.422. Acceptance 16%\n",
      "# Finished iter 97 of 100: Parity 0. Distortion 0.422 at β₁=Inf, β₂=10.0. Acceptance: [0.89, 0.56, 0.16].\n",
      "Temperature 1 of 3:(β₁=Inf,β₂=0.1). Distortion 0.466. Acceptance 98%\n",
      "Temperature 2 of 3:(β₁=Inf,β₂=1.0). Distortion 0.424. Acceptance 47%\n",
      "Temperature 3 of 3:(β₁=Inf,β₂=10.0). Distortion 0.404. Acceptance 24%\n",
      "# Finished iter 98 of 100: Parity 0. Distortion 0.404 at β₁=Inf, β₂=10.0. Acceptance: [0.98, 0.47, 0.24].\n",
      "Temperature 1 of 3:(β₁=Inf,β₂=0.1). Distortion 0.5. Acceptance 88%\n",
      "Temperature 2 of 3:(β₁=Inf,β₂=1.0). Distortion 0.47. Acceptance 43%\n",
      "Temperature 3 of 3:(β₁=Inf,β₂=10.0). Distortion 0.446. Acceptance 31%\n",
      "# Finished iter 99 of 100: Parity 0. Distortion 0.446 at β₁=Inf, β₂=10.0. Acceptance: [0.88, 0.43, 0.31].\n",
      "Temperature 1 of 3:(β₁=Inf,β₂=0.1). Distortion 0.467. Acceptance 91%\n",
      "Temperature 2 of 3:(β₁=Inf,β₂=1.0). Distortion 0.439. Acceptance 53%\n",
      "Temperature 3 of 3:(β₁=Inf,β₂=10.0). Distortion 0.407. Acceptance 25%\n",
      "# Finished iter 100 of 100: Parity 0. Distortion 0.407 at β₁=Inf, β₂=10.0. Acceptance: [0.91, 0.53, 0.25].\n",
      "##### b=20. 5 of 9 #####\n",
      "Temperature 1 of 3:(β₁=Inf,β₂=0.1). Distortion 0.452. Acceptance 88%\n",
      "Temperature 2 of 3:(β₁=Inf,β₂=1.0). Distortion 0.415. Acceptance 46%\n",
      "Temperature 3 of 3:(β₁=Inf,β₂=10.0). Distortion 0.398. Acceptance 25%\n",
      "# Finished iter 1 of 100: Parity 0. Distortion 0.398 at β₁=Inf, β₂=10.0. Acceptance: [0.88, 0.46, 0.25].\n",
      "Temperature 1 of 3:(β₁=Inf,β₂=0.1). Distortion 0.472. Acceptance 86%\n",
      "Temperature 2 of 3:(β₁=Inf,β₂=1.0). Distortion 0.413. Acceptance 52%\n",
      "Temperature 3 of 3:(β₁=Inf,β₂=10.0). Distortion 0.389. Acceptance 20%\n",
      "# Finished iter 2 of 100: Parity 0. Distortion 0.389 at β₁=Inf, β₂=10.0. Acceptance: [0.86, 0.52, 0.2].\n",
      "Temperature 1 of 3:(β₁=Inf,β₂=0.1). Distortion 0.492. Acceptance 93%\n",
      "Temperature 2 of 3:(β₁=Inf,β₂=1.0). Distortion 0.455. Acceptance 66%\n",
      "Temperature 3 of 3:(β₁=Inf,β₂=10.0). Distortion 0.43. Acceptance 22%\n",
      "# Finished iter 3 of 100: Parity 0. Distortion 0.430 at β₁=Inf, β₂=10.0. Acceptance: [0.93, 0.66, 0.22].\n",
      "Temperature 1 of 3:(β₁=Inf,β₂=0.1). Distortion 0.485. Acceptance 92%\n",
      "Temperature 2 of 3:(β₁=Inf,β₂=1.0). Distortion 0.448. Acceptance 60%\n",
      "Temperature 3 of 3:(β₁=Inf,β₂=10.0). Distortion 0.419. Acceptance 27%\n",
      "# Finished iter 4 of 100: Parity 0. Distortion 0.419 at β₁=Inf, β₂=10.0. Acceptance: [0.92, 0.6, 0.27].\n",
      "Temperature 1 of 3:(β₁=Inf,β₂=0.1). Distortion 0.49. Acceptance 90%\n",
      "Temperature 2 of 3:(β₁=Inf,β₂=1.0). Distortion 0.451. Acceptance 52%\n",
      "Temperature 3 of 3:(β₁=Inf,β₂=10.0). Distortion 0.42. Acceptance 29%\n",
      "# Finished iter 5 of 100: Parity 0. Distortion 0.420 at β₁=Inf, β₂=10.0. Acceptance: [0.9, 0.52, 0.29].\n",
      "Temperature 1 of 3:(β₁=Inf,β₂=0.1). Distortion 0.477. Acceptance 90%\n",
      "Temperature 2 of 3:(β₁=Inf,β₂=1.0). Distortion 0.455. Acceptance 51%\n",
      "Temperature 3 of 3:(β₁=Inf,β₂=10.0). Distortion 0.431. Acceptance 21%\n",
      "# Finished iter 6 of 100: Parity 0. Distortion 0.431 at β₁=Inf, β₂=10.0. Acceptance: [0.9, 0.51, 0.21].\n",
      "Temperature 1 of 3:(β₁=Inf,β₂=0.1). Distortion 0.476. Acceptance 89%\n",
      "Temperature 2 of 3:(β₁=Inf,β₂=1.0). Distortion 0.434. Acceptance 52%\n",
      "Temperature 3 of 3:(β₁=Inf,β₂=10.0). Distortion 0.416. Acceptance 23%\n",
      "# Finished iter 7 of 100: Parity 0. Distortion 0.416 at β₁=Inf, β₂=10.0. Acceptance: [0.89, 0.52, 0.23].\n",
      "Temperature 1 of 3:(β₁=Inf,β₂=0.1). Distortion 0.483. Acceptance 91%\n",
      "Temperature 2 of 3:(β₁=Inf,β₂=1.0). Distortion 0.452. Acceptance 58%\n",
      "Temperature 3 of 3:(β₁=Inf,β₂=10.0). Distortion 0.428. Acceptance 25%\n",
      "# Finished iter 8 of 100: Parity 0. Distortion 0.428 at β₁=Inf, β₂=10.0. Acceptance: [0.91, 0.58, 0.25].\n"
     ]
    },
    {
     "name": "stdout",
     "output_type": "stream",
     "text": [
      "Temperature 1 of 3:(β₁=Inf,β₂=0.1). Distortion 0.49. Acceptance 92%\n",
      "Temperature 2 of 3:(β₁=Inf,β₂=1.0). Distortion 0.448. Acceptance 58%\n",
      "Temperature 3 of 3:(β₁=Inf,β₂=10.0). Distortion 0.429. Acceptance 29%\n",
      "# Finished iter 9 of 100: Parity 0. Distortion 0.429 at β₁=Inf, β₂=10.0. Acceptance: [0.92, 0.58, 0.29].\n",
      "Temperature 1 of 3:(β₁=Inf,β₂=0.1). Distortion 0.474. Acceptance 91%\n",
      "Temperature 2 of 3:(β₁=Inf,β₂=1.0). Distortion 0.448. Acceptance 55%\n",
      "Temperature 3 of 3:(β₁=Inf,β₂=10.0). Distortion 0.416. Acceptance 36%\n",
      "# Finished iter 10 of 100: Parity 0. Distortion 0.416 at β₁=Inf, β₂=10.0. Acceptance: [0.91, 0.55, 0.36].\n",
      "Temperature 1 of 3:(β₁=Inf,β₂=0.1). Distortion 0.471. Acceptance 90%\n",
      "Temperature 2 of 3:(β₁=Inf,β₂=1.0). Distortion 0.441. Acceptance 57%\n",
      "Temperature 3 of 3:(β₁=Inf,β₂=10.0). Distortion 0.419. Acceptance 22%\n",
      "# Finished iter 11 of 100: Parity 0. Distortion 0.419 at β₁=Inf, β₂=10.0. Acceptance: [0.9, 0.57, 0.22].\n",
      "Temperature 1 of 3:(β₁=Inf,β₂=0.1). Distortion 0.472. Acceptance 89%\n",
      "Temperature 2 of 3:(β₁=Inf,β₂=1.0). Distortion 0.428. Acceptance 47%\n",
      "Temperature 3 of 3:(β₁=Inf,β₂=10.0). Distortion 0.404. Acceptance 23%\n",
      "# Finished iter 12 of 100: Parity 0. Distortion 0.404 at β₁=Inf, β₂=10.0. Acceptance: [0.89, 0.47, 0.23].\n",
      "Temperature 1 of 3:(β₁=Inf,β₂=0.1). Distortion 0.472. Acceptance 91%\n",
      "Temperature 2 of 3:(β₁=Inf,β₂=1.0). Distortion 0.439. Acceptance 53%\n",
      "Temperature 3 of 3:(β₁=Inf,β₂=10.0). Distortion 0.405. Acceptance 27%\n",
      "# Finished iter 13 of 100: Parity 0. Distortion 0.405 at β₁=Inf, β₂=10.0. Acceptance: [0.91, 0.53, 0.27].\n",
      "Temperature 1 of 3:(β₁=Inf,β₂=0.1). Distortion 0.479. Acceptance 86%\n",
      "Temperature 2 of 3:(β₁=Inf,β₂=1.0). Distortion 0.44. Acceptance 59%\n",
      "Temperature 3 of 3:(β₁=Inf,β₂=10.0). Distortion 0.415. Acceptance 29%\n",
      "# Finished iter 14 of 100: Parity 0. Distortion 0.415 at β₁=Inf, β₂=10.0. Acceptance: [0.86, 0.59, 0.29].\n",
      "Temperature 1 of 3:(β₁=Inf,β₂=0.1). Distortion 0.463. Acceptance 90%\n",
      "Temperature 2 of 3:(β₁=Inf,β₂=1.0). Distortion 0.424. Acceptance 54%\n",
      "Temperature 3 of 3:(β₁=Inf,β₂=10.0). Distortion 0.39. Acceptance 27%\n",
      "# Finished iter 15 of 100: Parity 0. Distortion 0.390 at β₁=Inf, β₂=10.0. Acceptance: [0.9, 0.54, 0.27].\n",
      "Temperature 1 of 3:(β₁=Inf,β₂=0.1). Distortion 0.464. Acceptance 89%\n",
      "Temperature 2 of 3:(β₁=Inf,β₂=1.0). Distortion 0.425. Acceptance 51%\n",
      "Temperature 3 of 3:(β₁=Inf,β₂=10.0). Distortion 0.396. Acceptance 30%\n",
      "# Finished iter 16 of 100: Parity 0. Distortion 0.396 at β₁=Inf, β₂=10.0. Acceptance: [0.89, 0.51, 0.3].\n",
      "Temperature 1 of 3:(β₁=Inf,β₂=0.1). Distortion 0.477. Acceptance 91%\n",
      "Temperature 2 of 3:(β₁=Inf,β₂=1.0). Distortion 0.447. Acceptance 51%\n",
      "Temperature 3 of 3:(β₁=Inf,β₂=10.0). Distortion 0.429. Acceptance 28%\n",
      "# Finished iter 17 of 100: Parity 0. Distortion 0.429 at β₁=Inf, β₂=10.0. Acceptance: [0.91, 0.51, 0.28].\n",
      "Temperature 1 of 3:(β₁=Inf,β₂=0.1). Distortion 0.479. Acceptance 90%\n",
      "Temperature 2 of 3:(β₁=Inf,β₂=1.0). Distortion 0.451. Acceptance 52%\n",
      "Temperature 3 of 3:(β₁=Inf,β₂=10.0). Distortion 0.419. Acceptance 29%\n",
      "# Finished iter 18 of 100: Parity 0. Distortion 0.419 at β₁=Inf, β₂=10.0. Acceptance: [0.9, 0.52, 0.29].\n",
      "Temperature 1 of 3:(β₁=Inf,β₂=0.1). Distortion 0.504. Acceptance 87%\n",
      "Temperature 2 of 3:(β₁=Inf,β₂=1.0). Distortion 0.45. Acceptance 51%\n",
      "Temperature 3 of 3:(β₁=Inf,β₂=10.0). Distortion 0.431. Acceptance 23%\n",
      "# Finished iter 19 of 100: Parity 0. Distortion 0.431 at β₁=Inf, β₂=10.0. Acceptance: [0.87, 0.51, 0.23].\n",
      "Temperature 1 of 3:(β₁=Inf,β₂=0.1). Distortion 0.487. Acceptance 97%\n",
      "Temperature 2 of 3:(β₁=Inf,β₂=1.0). Distortion 0.451. Acceptance 63%\n",
      "Temperature 3 of 3:(β₁=Inf,β₂=10.0). Distortion 0.414. Acceptance 30%\n",
      "# Finished iter 20 of 100: Parity 0. Distortion 0.414 at β₁=Inf, β₂=10.0. Acceptance: [0.97, 0.63, 0.3].\n",
      "Temperature 1 of 3:(β₁=Inf,β₂=0.1). Distortion 0.45. Acceptance 91%\n",
      "Temperature 2 of 3:(β₁=Inf,β₂=1.0). Distortion 0.414. Acceptance 49%\n",
      "Temperature 3 of 3:(β₁=Inf,β₂=10.0). Distortion 0.385. Acceptance 26%\n",
      "# Finished iter 21 of 100: Parity 0. Distortion 0.385 at β₁=Inf, β₂=10.0. Acceptance: [0.91, 0.49, 0.26].\n",
      "Temperature 1 of 3:(β₁=Inf,β₂=0.1). Distortion 0.488. Acceptance 94%\n",
      "Temperature 2 of 3:(β₁=Inf,β₂=1.0). Distortion 0.441. Acceptance 51%\n",
      "Temperature 3 of 3:(β₁=Inf,β₂=10.0). Distortion 0.427. Acceptance 22%\n",
      "# Finished iter 22 of 100: Parity 0. Distortion 0.427 at β₁=Inf, β₂=10.0. Acceptance: [0.94, 0.51, 0.22].\n",
      "Temperature 1 of 3:(β₁=Inf,β₂=0.1). Distortion 0.456. Acceptance 89%\n",
      "Temperature 2 of 3:(β₁=Inf,β₂=1.0). Distortion 0.444. Acceptance 51%\n",
      "Temperature 3 of 3:(β₁=Inf,β₂=10.0). Distortion 0.41. Acceptance 38%\n",
      "# Finished iter 23 of 100: Parity 0. Distortion 0.410 at β₁=Inf, β₂=10.0. Acceptance: [0.89, 0.51, 0.38].\n",
      "Temperature 1 of 3:(β₁=Inf,β₂=0.1). Distortion 0.462. Acceptance 90%\n",
      "Temperature 2 of 3:(β₁=Inf,β₂=1.0). Distortion 0.408. Acceptance 49%\n",
      "Temperature 3 of 3:(β₁=Inf,β₂=10.0). Distortion 0.399. Acceptance 11%\n",
      "# Finished iter 24 of 100: Parity 0. Distortion 0.399 at β₁=Inf, β₂=10.0. Acceptance: [0.9, 0.49, 0.11].\n",
      "Temperature 1 of 3:(β₁=Inf,β₂=0.1). Distortion 0.476. Acceptance 89%\n",
      "Temperature 2 of 3:(β₁=Inf,β₂=1.0). Distortion 0.439. Acceptance 61%\n",
      "Temperature 3 of 3:(β₁=Inf,β₂=10.0). Distortion 0.407. Acceptance 32%\n",
      "# Finished iter 25 of 100: Parity 0. Distortion 0.407 at β₁=Inf, β₂=10.0. Acceptance: [0.89, 0.61, 0.32].\n",
      "Temperature 1 of 3:(β₁=Inf,β₂=0.1). Distortion 0.453. Acceptance 89%\n",
      "Temperature 2 of 3:(β₁=Inf,β₂=1.0). Distortion 0.421. Acceptance 47%\n",
      "Temperature 3 of 3:(β₁=Inf,β₂=10.0). Distortion 0.409. Acceptance 19%\n",
      "# Finished iter 26 of 100: Parity 0. Distortion 0.409 at β₁=Inf, β₂=10.0. Acceptance: [0.89, 0.47, 0.19].\n",
      "Temperature 1 of 3:(β₁=Inf,β₂=0.1). Distortion 0.479. Acceptance 89%\n",
      "Temperature 2 of 3:(β₁=Inf,β₂=1.0). Distortion 0.459. Acceptance 55%\n",
      "Temperature 3 of 3:(β₁=Inf,β₂=10.0). Distortion 0.421. Acceptance 34%\n",
      "# Finished iter 27 of 100: Parity 0. Distortion 0.421 at β₁=Inf, β₂=10.0. Acceptance: [0.89, 0.55, 0.34].\n",
      "Temperature 1 of 3:(β₁=Inf,β₂=0.1). Distortion 0.469. Acceptance 88%\n",
      "Temperature 2 of 3:(β₁=Inf,β₂=1.0). Distortion 0.421. Acceptance 58%\n",
      "Temperature 3 of 3:(β₁=Inf,β₂=10.0). Distortion 0.392. Acceptance 24%\n",
      "# Finished iter 28 of 100: Parity 0. Distortion 0.392 at β₁=Inf, β₂=10.0. Acceptance: [0.88, 0.58, 0.24].\n",
      "Temperature 1 of 3:(β₁=Inf,β₂=0.1). Distortion 0.482. Acceptance 92%\n",
      "Temperature 2 of 3:(β₁=Inf,β₂=1.0). Distortion 0.432. Acceptance 58%\n",
      "Temperature 3 of 3:(β₁=Inf,β₂=10.0). Distortion 0.408. Acceptance 27%\n",
      "# Finished iter 29 of 100: Parity 0. Distortion 0.408 at β₁=Inf, β₂=10.0. Acceptance: [0.92, 0.58, 0.27].\n",
      "Temperature 1 of 3:(β₁=Inf,β₂=0.1). Distortion 0.49. Acceptance 93%\n",
      "Temperature 2 of 3:(β₁=Inf,β₂=1.0). Distortion 0.447. Acceptance 60%\n",
      "Temperature 3 of 3:(β₁=Inf,β₂=10.0). Distortion 0.42. Acceptance 24%\n",
      "# Finished iter 30 of 100: Parity 0. Distortion 0.420 at β₁=Inf, β₂=10.0. Acceptance: [0.93, 0.6, 0.24].\n",
      "Temperature 1 of 3:(β₁=Inf,β₂=0.1). Distortion 0.49. Acceptance 92%\n",
      "Temperature 2 of 3:(β₁=Inf,β₂=1.0). Distortion 0.431. Acceptance 51%\n",
      "Temperature 3 of 3:(β₁=Inf,β₂=10.0). Distortion 0.419. Acceptance 22%\n",
      "# Finished iter 31 of 100: Parity 0. Distortion 0.419 at β₁=Inf, β₂=10.0. Acceptance: [0.92, 0.51, 0.22].\n",
      "Temperature 1 of 3:(β₁=Inf,β₂=0.1). Distortion 0.446. Acceptance 87%\n",
      "Temperature 2 of 3:(β₁=Inf,β₂=1.0). Distortion 0.409. Acceptance 50%\n",
      "Temperature 3 of 3:(β₁=Inf,β₂=10.0). Distortion 0.394. Acceptance 27%\n",
      "# Finished iter 32 of 100: Parity 0. Distortion 0.394 at β₁=Inf, β₂=10.0. Acceptance: [0.87, 0.5, 0.27].\n",
      "Temperature 1 of 3:(β₁=Inf,β₂=0.1). Distortion 0.476. Acceptance 88%\n",
      "Temperature 2 of 3:(β₁=Inf,β₂=1.0). Distortion 0.438. Acceptance 48%\n",
      "Temperature 3 of 3:(β₁=Inf,β₂=10.0). Distortion 0.416. Acceptance 29%\n",
      "# Finished iter 33 of 100: Parity 0. Distortion 0.416 at β₁=Inf, β₂=10.0. Acceptance: [0.88, 0.48, 0.29].\n",
      "Temperature 1 of 3:(β₁=Inf,β₂=0.1). Distortion 0.46. Acceptance 85%\n",
      "Temperature 2 of 3:(β₁=Inf,β₂=1.0). Distortion 0.426. Acceptance 45%\n",
      "Temperature 3 of 3:(β₁=Inf,β₂=10.0). Distortion 0.414. Acceptance 18%\n",
      "# Finished iter 34 of 100: Parity 0. Distortion 0.414 at β₁=Inf, β₂=10.0. Acceptance: [0.85, 0.45, 0.18].\n",
      "Temperature 1 of 3:(β₁=Inf,β₂=0.1). Distortion 0.45. Acceptance 89%\n"
     ]
    },
    {
     "name": "stdout",
     "output_type": "stream",
     "text": [
      "Temperature 2 of 3:(β₁=Inf,β₂=1.0). Distortion 0.407. Acceptance 49%\n",
      "Temperature 3 of 3:(β₁=Inf,β₂=10.0). Distortion 0.393. Acceptance 26%\n",
      "# Finished iter 35 of 100: Parity 0. Distortion 0.393 at β₁=Inf, β₂=10.0. Acceptance: [0.89, 0.49, 0.26].\n",
      "Temperature 1 of 3:(β₁=Inf,β₂=0.1). Distortion 0.487. Acceptance 90%\n",
      "Temperature 2 of 3:(β₁=Inf,β₂=1.0). Distortion 0.445. Acceptance 59%\n",
      "Temperature 3 of 3:(β₁=Inf,β₂=10.0). Distortion 0.415. Acceptance 27%\n",
      "# Finished iter 36 of 100: Parity 0. Distortion 0.415 at β₁=Inf, β₂=10.0. Acceptance: [0.9, 0.59, 0.27].\n",
      "Temperature 1 of 3:(β₁=Inf,β₂=0.1). Distortion 0.457. Acceptance 89%\n",
      "Temperature 2 of 3:(β₁=Inf,β₂=1.0). Distortion 0.418. Acceptance 55%\n",
      "Temperature 3 of 3:(β₁=Inf,β₂=10.0). Distortion 0.399. Acceptance 24%\n",
      "# Finished iter 37 of 100: Parity 0. Distortion 0.399 at β₁=Inf, β₂=10.0. Acceptance: [0.89, 0.55, 0.24].\n",
      "Temperature 1 of 3:(β₁=Inf,β₂=0.1). Distortion 0.481. Acceptance 89%\n",
      "Temperature 2 of 3:(β₁=Inf,β₂=1.0). Distortion 0.434. Acceptance 42%\n",
      "Temperature 3 of 3:(β₁=Inf,β₂=10.0). Distortion 0.401. Acceptance 25%\n",
      "# Finished iter 38 of 100: Parity 0. Distortion 0.401 at β₁=Inf, β₂=10.0. Acceptance: [0.89, 0.42, 0.25].\n",
      "Temperature 1 of 3:(β₁=Inf,β₂=0.1). Distortion 0.468. Acceptance 91%\n",
      "Temperature 2 of 3:(β₁=Inf,β₂=1.0). Distortion 0.433. Acceptance 59%\n",
      "Temperature 3 of 3:(β₁=Inf,β₂=10.0). Distortion 0.398. Acceptance 30%\n",
      "# Finished iter 39 of 100: Parity 0. Distortion 0.398 at β₁=Inf, β₂=10.0. Acceptance: [0.91, 0.59, 0.3].\n",
      "Temperature 1 of 3:(β₁=Inf,β₂=0.1). Distortion 0.474. Acceptance 95%\n",
      "Temperature 2 of 3:(β₁=Inf,β₂=1.0). Distortion 0.429. Acceptance 52%\n",
      "Temperature 3 of 3:(β₁=Inf,β₂=10.0). Distortion 0.404. Acceptance 28%\n",
      "# Finished iter 40 of 100: Parity 0. Distortion 0.404 at β₁=Inf, β₂=10.0. Acceptance: [0.95, 0.52, 0.28].\n",
      "Temperature 1 of 3:(β₁=Inf,β₂=0.1). Distortion 0.459. Acceptance 92%\n",
      "Temperature 2 of 3:(β₁=Inf,β₂=1.0). Distortion 0.426. Acceptance 38%\n",
      "Temperature 3 of 3:(β₁=Inf,β₂=10.0). Distortion 0.411. Acceptance 21%\n",
      "# Finished iter 41 of 100: Parity 0. Distortion 0.411 at β₁=Inf, β₂=10.0. Acceptance: [0.92, 0.38, 0.21].\n",
      "Temperature 1 of 3:(β₁=Inf,β₂=0.1). Distortion 0.458. Acceptance 90%\n",
      "Temperature 2 of 3:(β₁=Inf,β₂=1.0). Distortion 0.432. Acceptance 49%\n",
      "Temperature 3 of 3:(β₁=Inf,β₂=10.0). Distortion 0.4. Acceptance 21%\n",
      "# Finished iter 42 of 100: Parity 0. Distortion 0.400 at β₁=Inf, β₂=10.0. Acceptance: [0.9, 0.49, 0.21].\n",
      "Temperature 1 of 3:(β₁=Inf,β₂=0.1). Distortion 0.483. Acceptance 93%\n",
      "Temperature 2 of 3:(β₁=Inf,β₂=1.0). Distortion 0.439. Acceptance 51%\n",
      "Temperature 3 of 3:(β₁=Inf,β₂=10.0). Distortion 0.409. Acceptance 18%\n",
      "# Finished iter 43 of 100: Parity 0. Distortion 0.409 at β₁=Inf, β₂=10.0. Acceptance: [0.93, 0.51, 0.18].\n",
      "Temperature 1 of 3:(β₁=Inf,β₂=0.1). Distortion 0.473. Acceptance 94%\n",
      "Temperature 2 of 3:(β₁=Inf,β₂=1.0). Distortion 0.424. Acceptance 62%\n",
      "Temperature 3 of 3:(β₁=Inf,β₂=10.0). Distortion 0.399. Acceptance 25%\n",
      "# Finished iter 44 of 100: Parity 0. Distortion 0.399 at β₁=Inf, β₂=10.0. Acceptance: [0.94, 0.62, 0.25].\n",
      "Temperature 1 of 3:(β₁=Inf,β₂=0.1). Distortion 0.46. Acceptance 86%\n",
      "Temperature 2 of 3:(β₁=Inf,β₂=1.0). Distortion 0.429. Acceptance 48%\n",
      "Temperature 3 of 3:(β₁=Inf,β₂=10.0). Distortion 0.407. Acceptance 26%\n",
      "# Finished iter 45 of 100: Parity 0. Distortion 0.407 at β₁=Inf, β₂=10.0. Acceptance: [0.86, 0.48, 0.26].\n",
      "Temperature 1 of 3:(β₁=Inf,β₂=0.1). Distortion 0.461. Acceptance 90%\n",
      "Temperature 2 of 3:(β₁=Inf,β₂=1.0). Distortion 0.413. Acceptance 58%\n",
      "Temperature 3 of 3:(β₁=Inf,β₂=10.0). Distortion 0.397. Acceptance 20%\n",
      "# Finished iter 46 of 100: Parity 0. Distortion 0.397 at β₁=Inf, β₂=10.0. Acceptance: [0.9, 0.58, 0.2].\n",
      "Temperature 1 of 3:(β₁=Inf,β₂=0.1). Distortion 0.463. Acceptance 92%\n",
      "Temperature 2 of 3:(β₁=Inf,β₂=1.0). Distortion 0.436. Acceptance 46%\n",
      "Temperature 3 of 3:(β₁=Inf,β₂=10.0). Distortion 0.413. Acceptance 36%\n",
      "# Finished iter 47 of 100: Parity 0. Distortion 0.413 at β₁=Inf, β₂=10.0. Acceptance: [0.92, 0.46, 0.36].\n",
      "Temperature 1 of 3:(β₁=Inf,β₂=0.1). Distortion 0.473. Acceptance 92%\n",
      "Temperature 2 of 3:(β₁=Inf,β₂=1.0). Distortion 0.431. Acceptance 49%\n",
      "Temperature 3 of 3:(β₁=Inf,β₂=10.0). Distortion 0.394. Acceptance 25%\n",
      "# Finished iter 48 of 100: Parity 0. Distortion 0.394 at β₁=Inf, β₂=10.0. Acceptance: [0.92, 0.49, 0.25].\n",
      "Temperature 1 of 3:(β₁=Inf,β₂=0.1). Distortion 0.484. Acceptance 93%\n",
      "Temperature 2 of 3:(β₁=Inf,β₂=1.0). Distortion 0.447. Acceptance 61%\n",
      "Temperature 3 of 3:(β₁=Inf,β₂=10.0). Distortion 0.419. Acceptance 26%\n",
      "# Finished iter 49 of 100: Parity 0. Distortion 0.419 at β₁=Inf, β₂=10.0. Acceptance: [0.93, 0.61, 0.26].\n",
      "Temperature 1 of 3:(β₁=Inf,β₂=0.1). Distortion 0.471. Acceptance 91%\n",
      "Temperature 2 of 3:(β₁=Inf,β₂=1.0). Distortion 0.423. Acceptance 60%\n",
      "Temperature 3 of 3:(β₁=Inf,β₂=10.0). Distortion 0.385. Acceptance 34%\n",
      "# Finished iter 50 of 100: Parity 0. Distortion 0.385 at β₁=Inf, β₂=10.0. Acceptance: [0.91, 0.6, 0.34].\n",
      "Temperature 1 of 3:(β₁=Inf,β₂=0.1). Distortion 0.484. Acceptance 95%\n",
      "Temperature 2 of 3:(β₁=Inf,β₂=1.0). Distortion 0.452. Acceptance 50%\n",
      "Temperature 3 of 3:(β₁=Inf,β₂=10.0). Distortion 0.429. Acceptance 33%\n",
      "# Finished iter 51 of 100: Parity 0. Distortion 0.429 at β₁=Inf, β₂=10.0. Acceptance: [0.95, 0.5, 0.33].\n",
      "Temperature 1 of 3:(β₁=Inf,β₂=0.1). Distortion 0.485. Acceptance 92%\n",
      "Temperature 2 of 3:(β₁=Inf,β₂=1.0). Distortion 0.445. Acceptance 60%\n",
      "Temperature 3 of 3:(β₁=Inf,β₂=10.0). Distortion 0.423. Acceptance 32%\n",
      "# Finished iter 52 of 100: Parity 0. Distortion 0.423 at β₁=Inf, β₂=10.0. Acceptance: [0.92, 0.6, 0.32].\n",
      "Temperature 1 of 3:(β₁=Inf,β₂=0.1). Distortion 0.493. Acceptance 96%\n",
      "Temperature 2 of 3:(β₁=Inf,β₂=1.0). Distortion 0.439. Acceptance 67%\n",
      "Temperature 3 of 3:(β₁=Inf,β₂=10.0). Distortion 0.418. Acceptance 25%\n",
      "# Finished iter 53 of 100: Parity 0. Distortion 0.418 at β₁=Inf, β₂=10.0. Acceptance: [0.96, 0.67, 0.25].\n",
      "Temperature 1 of 3:(β₁=Inf,β₂=0.1). Distortion 0.453. Acceptance 90%\n",
      "Temperature 2 of 3:(β₁=Inf,β₂=1.0). Distortion 0.424. Acceptance 53%\n",
      "Temperature 3 of 3:(β₁=Inf,β₂=10.0). Distortion 0.407. Acceptance 23%\n",
      "# Finished iter 54 of 100: Parity 0. Distortion 0.407 at β₁=Inf, β₂=10.0. Acceptance: [0.9, 0.53, 0.23].\n",
      "Temperature 1 of 3:(β₁=Inf,β₂=0.1). Distortion 0.472. Acceptance 91%\n",
      "Temperature 2 of 3:(β₁=Inf,β₂=1.0). Distortion 0.448. Acceptance 53%\n",
      "Temperature 3 of 3:(β₁=Inf,β₂=10.0). Distortion 0.419. Acceptance 28%\n",
      "# Finished iter 55 of 100: Parity 0. Distortion 0.419 at β₁=Inf, β₂=10.0. Acceptance: [0.91, 0.53, 0.28].\n",
      "Temperature 1 of 3:(β₁=Inf,β₂=0.1). Distortion 0.467. Acceptance 88%\n",
      "Temperature 2 of 3:(β₁=Inf,β₂=1.0). Distortion 0.434. Acceptance 53%\n",
      "Temperature 3 of 3:(β₁=Inf,β₂=10.0). Distortion 0.4. Acceptance 30%\n",
      "# Finished iter 56 of 100: Parity 0. Distortion 0.400 at β₁=Inf, β₂=10.0. Acceptance: [0.88, 0.53, 0.3].\n",
      "Temperature 1 of 3:(β₁=Inf,β₂=0.1). Distortion 0.465. Acceptance 88%\n",
      "Temperature 2 of 3:(β₁=Inf,β₂=1.0). Distortion 0.435. Acceptance 47%\n",
      "Temperature 3 of 3:(β₁=Inf,β₂=10.0). Distortion 0.412. Acceptance 22%\n",
      "# Finished iter 57 of 100: Parity 0. Distortion 0.412 at β₁=Inf, β₂=10.0. Acceptance: [0.88, 0.47, 0.22].\n",
      "Temperature 1 of 3:(β₁=Inf,β₂=0.1). Distortion 0.475. Acceptance 92%\n",
      "Temperature 2 of 3:(β₁=Inf,β₂=1.0). Distortion 0.455. Acceptance 57%\n",
      "Temperature 3 of 3:(β₁=Inf,β₂=10.0). Distortion 0.422. Acceptance 34%\n",
      "# Finished iter 58 of 100: Parity 0. Distortion 0.422 at β₁=Inf, β₂=10.0. Acceptance: [0.92, 0.57, 0.34].\n",
      "Temperature 1 of 3:(β₁=Inf,β₂=0.1). Distortion 0.472. Acceptance 87%\n",
      "Temperature 2 of 3:(β₁=Inf,β₂=1.0). Distortion 0.432. Acceptance 51%\n",
      "Temperature 3 of 3:(β₁=Inf,β₂=10.0). Distortion 0.408. Acceptance 21%\n",
      "# Finished iter 59 of 100: Parity 0. Distortion 0.408 at β₁=Inf, β₂=10.0. Acceptance: [0.87, 0.51, 0.21].\n",
      "Temperature 1 of 3:(β₁=Inf,β₂=0.1). Distortion 0.475. Acceptance 84%\n",
      "Temperature 2 of 3:(β₁=Inf,β₂=1.0). Distortion 0.428. Acceptance 53%\n",
      "Temperature 3 of 3:(β₁=Inf,β₂=10.0). Distortion 0.402. Acceptance 29%\n",
      "# Finished iter 60 of 100: Parity 0. Distortion 0.402 at β₁=Inf, β₂=10.0. Acceptance: [0.84, 0.53, 0.29].\n",
      "Temperature 1 of 3:(β₁=Inf,β₂=0.1). Distortion 0.487. Acceptance 87%\n",
      "Temperature 2 of 3:(β₁=Inf,β₂=1.0). Distortion 0.444. Acceptance 55%\n"
     ]
    },
    {
     "name": "stdout",
     "output_type": "stream",
     "text": [
      "Temperature 3 of 3:(β₁=Inf,β₂=10.0). Distortion 0.422. Acceptance 22%\n",
      "# Finished iter 61 of 100: Parity 0. Distortion 0.422 at β₁=Inf, β₂=10.0. Acceptance: [0.87, 0.55, 0.22].\n",
      "Temperature 1 of 3:(β₁=Inf,β₂=0.1). Distortion 0.49. Acceptance 89%\n",
      "Temperature 2 of 3:(β₁=Inf,β₂=1.0). Distortion 0.439. Acceptance 57%\n",
      "Temperature 3 of 3:(β₁=Inf,β₂=10.0). Distortion 0.423. Acceptance 26%\n",
      "# Finished iter 62 of 100: Parity 0. Distortion 0.423 at β₁=Inf, β₂=10.0. Acceptance: [0.89, 0.57, 0.26].\n",
      "Temperature 1 of 3:(β₁=Inf,β₂=0.1). Distortion 0.5. Acceptance 91%\n",
      "Temperature 2 of 3:(β₁=Inf,β₂=1.0). Distortion 0.451. Acceptance 58%\n",
      "Temperature 3 of 3:(β₁=Inf,β₂=10.0). Distortion 0.422. Acceptance 24%\n",
      "# Finished iter 63 of 100: Parity 0. Distortion 0.422 at β₁=Inf, β₂=10.0. Acceptance: [0.91, 0.58, 0.24].\n",
      "Temperature 1 of 3:(β₁=Inf,β₂=0.1). Distortion 0.462. Acceptance 87%\n",
      "Temperature 2 of 3:(β₁=Inf,β₂=1.0). Distortion 0.432. Acceptance 56%\n",
      "Temperature 3 of 3:(β₁=Inf,β₂=10.0). Distortion 0.414. Acceptance 19%\n",
      "# Finished iter 64 of 100: Parity 0. Distortion 0.414 at β₁=Inf, β₂=10.0. Acceptance: [0.87, 0.56, 0.19].\n",
      "Temperature 1 of 3:(β₁=Inf,β₂=0.1). Distortion 0.481. Acceptance 88%\n",
      "Temperature 2 of 3:(β₁=Inf,β₂=1.0). Distortion 0.44. Acceptance 54%\n",
      "Temperature 3 of 3:(β₁=Inf,β₂=10.0). Distortion 0.414. Acceptance 24%\n",
      "# Finished iter 65 of 100: Parity 0. Distortion 0.414 at β₁=Inf, β₂=10.0. Acceptance: [0.88, 0.54, 0.24].\n",
      "Temperature 1 of 3:(β₁=Inf,β₂=0.1). Distortion 0.497. Acceptance 93%\n",
      "Temperature 2 of 3:(β₁=Inf,β₂=1.0). Distortion 0.452. Acceptance 62%\n",
      "Temperature 3 of 3:(β₁=Inf,β₂=10.0). Distortion 0.419. Acceptance 26%\n",
      "# Finished iter 66 of 100: Parity 0. Distortion 0.419 at β₁=Inf, β₂=10.0. Acceptance: [0.93, 0.62, 0.26].\n",
      "Temperature 1 of 3:(β₁=Inf,β₂=0.1). Distortion 0.483. Acceptance 89%\n",
      "Temperature 2 of 3:(β₁=Inf,β₂=1.0). Distortion 0.446. Acceptance 53%\n",
      "Temperature 3 of 3:(β₁=Inf,β₂=10.0). Distortion 0.412. Acceptance 35%\n",
      "# Finished iter 67 of 100: Parity 0. Distortion 0.412 at β₁=Inf, β₂=10.0. Acceptance: [0.89, 0.53, 0.35].\n",
      "Temperature 1 of 3:(β₁=Inf,β₂=0.1). Distortion 0.472. Acceptance 89%\n",
      "Temperature 2 of 3:(β₁=Inf,β₂=1.0). Distortion 0.444. Acceptance 48%\n",
      "Temperature 3 of 3:(β₁=Inf,β₂=10.0). Distortion 0.409. Acceptance 30%\n",
      "# Finished iter 68 of 100: Parity 0. Distortion 0.409 at β₁=Inf, β₂=10.0. Acceptance: [0.89, 0.48, 0.3].\n",
      "Temperature 1 of 3:(β₁=Inf,β₂=0.1). Distortion 0.478. Acceptance 86%\n",
      "Temperature 2 of 3:(β₁=Inf,β₂=1.0). Distortion 0.436. Acceptance 63%\n",
      "Temperature 3 of 3:(β₁=Inf,β₂=10.0). Distortion 0.419. Acceptance 22%\n",
      "# Finished iter 69 of 100: Parity 0. Distortion 0.419 at β₁=Inf, β₂=10.0. Acceptance: [0.86, 0.63, 0.22].\n",
      "Temperature 1 of 3:(β₁=Inf,β₂=0.1). Distortion 0.468. Acceptance 90%\n",
      "Temperature 2 of 3:(β₁=Inf,β₂=1.0). Distortion 0.445. Acceptance 55%\n",
      "Temperature 3 of 3:(β₁=Inf,β₂=10.0). Distortion 0.412. Acceptance 38%\n",
      "# Finished iter 70 of 100: Parity 0. Distortion 0.412 at β₁=Inf, β₂=10.0. Acceptance: [0.9, 0.55, 0.38].\n",
      "Temperature 1 of 3:(β₁=Inf,β₂=0.1). Distortion 0.483. Acceptance 94%\n",
      "Temperature 2 of 3:(β₁=Inf,β₂=1.0). Distortion 0.437. Acceptance 54%\n",
      "Temperature 3 of 3:(β₁=Inf,β₂=10.0). Distortion 0.42. Acceptance 24%\n",
      "# Finished iter 71 of 100: Parity 0. Distortion 0.420 at β₁=Inf, β₂=10.0. Acceptance: [0.94, 0.54, 0.24].\n",
      "Temperature 1 of 3:(β₁=Inf,β₂=0.1). Distortion 0.502. Acceptance 95%\n",
      "Temperature 2 of 3:(β₁=Inf,β₂=1.0). Distortion 0.46. Acceptance 58%\n",
      "Temperature 3 of 3:(β₁=Inf,β₂=10.0). Distortion 0.433. Acceptance 30%\n",
      "# Finished iter 72 of 100: Parity 0. Distortion 0.433 at β₁=Inf, β₂=10.0. Acceptance: [0.95, 0.58, 0.3].\n",
      "Temperature 1 of 3:(β₁=Inf,β₂=0.1). Distortion 0.465. Acceptance 89%\n",
      "Temperature 2 of 3:(β₁=Inf,β₂=1.0). Distortion 0.433. Acceptance 58%\n",
      "Temperature 3 of 3:(β₁=Inf,β₂=10.0). Distortion 0.4. Acceptance 35%\n",
      "# Finished iter 73 of 100: Parity 0. Distortion 0.400 at β₁=Inf, β₂=10.0. Acceptance: [0.89, 0.58, 0.35].\n",
      "Temperature 1 of 3:(β₁=Inf,β₂=0.1). Distortion 0.481. Acceptance 88%\n",
      "Temperature 2 of 3:(β₁=Inf,β₂=1.0). Distortion 0.433. Acceptance 59%\n",
      "Temperature 3 of 3:(β₁=Inf,β₂=10.0). Distortion 0.419. Acceptance 25%\n",
      "# Finished iter 74 of 100: Parity 0. Distortion 0.419 at β₁=Inf, β₂=10.0. Acceptance: [0.88, 0.59, 0.25].\n",
      "Temperature 1 of 3:(β₁=Inf,β₂=0.1). Distortion 0.5. Acceptance 86%\n",
      "Temperature 2 of 3:(β₁=Inf,β₂=1.0). Distortion 0.451. Acceptance 52%\n",
      "Temperature 3 of 3:(β₁=Inf,β₂=10.0). Distortion 0.428. Acceptance 22%\n",
      "# Finished iter 75 of 100: Parity 0. Distortion 0.428 at β₁=Inf, β₂=10.0. Acceptance: [0.86, 0.52, 0.22].\n",
      "Temperature 1 of 3:(β₁=Inf,β₂=0.1). Distortion 0.461. Acceptance 88%\n",
      "Temperature 2 of 3:(β₁=Inf,β₂=1.0). Distortion 0.423. Acceptance 51%\n",
      "Temperature 3 of 3:(β₁=Inf,β₂=10.0). Distortion 0.406. Acceptance 25%\n",
      "# Finished iter 76 of 100: Parity 0. Distortion 0.406 at β₁=Inf, β₂=10.0. Acceptance: [0.88, 0.51, 0.25].\n",
      "Temperature 1 of 3:(β₁=Inf,β₂=0.1). Distortion 0.48. Acceptance 91%\n",
      "Temperature 2 of 3:(β₁=Inf,β₂=1.0). Distortion 0.444. Acceptance 49%\n",
      "Temperature 3 of 3:(β₁=Inf,β₂=10.0). Distortion 0.411. Acceptance 24%\n",
      "# Finished iter 77 of 100: Parity 0. Distortion 0.411 at β₁=Inf, β₂=10.0. Acceptance: [0.91, 0.49, 0.24].\n",
      "Temperature 1 of 3:(β₁=Inf,β₂=0.1). Distortion 0.468. Acceptance 90%\n",
      "Temperature 2 of 3:(β₁=Inf,β₂=1.0). Distortion 0.438. Acceptance 52%\n",
      "Temperature 3 of 3:(β₁=Inf,β₂=10.0). Distortion 0.416. Acceptance 21%\n",
      "# Finished iter 78 of 100: Parity 0. Distortion 0.416 at β₁=Inf, β₂=10.0. Acceptance: [0.9, 0.52, 0.21].\n",
      "Temperature 1 of 3:(β₁=Inf,β₂=0.1). Distortion 0.495. Acceptance 92%\n",
      "Temperature 2 of 3:(β₁=Inf,β₂=1.0). Distortion 0.442. Acceptance 55%\n",
      "Temperature 3 of 3:(β₁=Inf,β₂=10.0). Distortion 0.42. Acceptance 21%\n",
      "# Finished iter 79 of 100: Parity 0. Distortion 0.420 at β₁=Inf, β₂=10.0. Acceptance: [0.92, 0.55, 0.21].\n",
      "Temperature 1 of 3:(β₁=Inf,β₂=0.1). Distortion 0.466. Acceptance 87%\n",
      "Temperature 2 of 3:(β₁=Inf,β₂=1.0). Distortion 0.44. Acceptance 52%\n",
      "Temperature 3 of 3:(β₁=Inf,β₂=10.0). Distortion 0.411. Acceptance 31%\n",
      "# Finished iter 80 of 100: Parity 0. Distortion 0.411 at β₁=Inf, β₂=10.0. Acceptance: [0.87, 0.52, 0.31].\n",
      "Temperature 1 of 3:(β₁=Inf,β₂=0.1). Distortion 0.475. Acceptance 91%\n",
      "Temperature 2 of 3:(β₁=Inf,β₂=1.0). Distortion 0.458. Acceptance 46%\n",
      "Temperature 3 of 3:(β₁=Inf,β₂=10.0). Distortion 0.423. Acceptance 35%\n",
      "# Finished iter 81 of 100: Parity 0. Distortion 0.423 at β₁=Inf, β₂=10.0. Acceptance: [0.91, 0.46, 0.35].\n",
      "Temperature 1 of 3:(β₁=Inf,β₂=0.1). Distortion 0.471. Acceptance 93%\n",
      "Temperature 2 of 3:(β₁=Inf,β₂=1.0). Distortion 0.444. Acceptance 43%\n",
      "Temperature 3 of 3:(β₁=Inf,β₂=10.0). Distortion 0.41. Acceptance 26%\n",
      "# Finished iter 82 of 100: Parity 0. Distortion 0.410 at β₁=Inf, β₂=10.0. Acceptance: [0.93, 0.43, 0.26].\n",
      "Temperature 1 of 3:(β₁=Inf,β₂=0.1). Distortion 0.446. Acceptance 92%\n",
      "Temperature 2 of 3:(β₁=Inf,β₂=1.0). Distortion 0.42. Acceptance 58%\n",
      "Temperature 3 of 3:(β₁=Inf,β₂=10.0). Distortion 0.398. Acceptance 32%\n",
      "# Finished iter 83 of 100: Parity 0. Distortion 0.398 at β₁=Inf, β₂=10.0. Acceptance: [0.92, 0.58, 0.32].\n",
      "Temperature 1 of 3:(β₁=Inf,β₂=0.1). Distortion 0.478. Acceptance 94%\n",
      "Temperature 2 of 3:(β₁=Inf,β₂=1.0). Distortion 0.44. Acceptance 52%\n",
      "Temperature 3 of 3:(β₁=Inf,β₂=10.0). Distortion 0.416. Acceptance 22%\n",
      "# Finished iter 84 of 100: Parity 0. Distortion 0.416 at β₁=Inf, β₂=10.0. Acceptance: [0.94, 0.52, 0.22].\n",
      "Temperature 1 of 3:(β₁=Inf,β₂=0.1). Distortion 0.479. Acceptance 95%\n",
      "Temperature 2 of 3:(β₁=Inf,β₂=1.0). Distortion 0.435. Acceptance 53%\n",
      "Temperature 3 of 3:(β₁=Inf,β₂=10.0). Distortion 0.417. Acceptance 21%\n",
      "# Finished iter 85 of 100: Parity 0. Distortion 0.417 at β₁=Inf, β₂=10.0. Acceptance: [0.95, 0.53, 0.21].\n",
      "Temperature 1 of 3:(β₁=Inf,β₂=0.1). Distortion 0.47. Acceptance 86%\n",
      "Temperature 2 of 3:(β₁=Inf,β₂=1.0). Distortion 0.446. Acceptance 51%\n",
      "Temperature 3 of 3:(β₁=Inf,β₂=10.0). Distortion 0.429. Acceptance 34%\n",
      "# Finished iter 86 of 100: Parity 0. Distortion 0.429 at β₁=Inf, β₂=10.0. Acceptance: [0.86, 0.51, 0.34].\n",
      "Temperature 1 of 3:(β₁=Inf,β₂=0.1). Distortion 0.502. Acceptance 89%\n",
      "Temperature 2 of 3:(β₁=Inf,β₂=1.0). Distortion 0.478. Acceptance 52%\n",
      "Temperature 3 of 3:(β₁=Inf,β₂=10.0). Distortion 0.447. Acceptance 29%\n",
      "# Finished iter 87 of 100: Parity 0. Distortion 0.447 at β₁=Inf, β₂=10.0. Acceptance: [0.89, 0.52, 0.29].\n"
     ]
    },
    {
     "name": "stdout",
     "output_type": "stream",
     "text": [
      "Temperature 1 of 3:(β₁=Inf,β₂=0.1). Distortion 0.469. Acceptance 86%\n",
      "Temperature 2 of 3:(β₁=Inf,β₂=1.0). Distortion 0.461. Acceptance 58%\n",
      "Temperature 3 of 3:(β₁=Inf,β₂=10.0). Distortion 0.423. Acceptance 31%\n",
      "# Finished iter 88 of 100: Parity 0. Distortion 0.423 at β₁=Inf, β₂=10.0. Acceptance: [0.86, 0.58, 0.31].\n",
      "Temperature 1 of 3:(β₁=Inf,β₂=0.1). Distortion 0.45. Acceptance 88%\n",
      "Temperature 2 of 3:(β₁=Inf,β₂=1.0). Distortion 0.423. Acceptance 48%\n",
      "Temperature 3 of 3:(β₁=Inf,β₂=10.0). Distortion 0.412. Acceptance 24%\n",
      "# Finished iter 89 of 100: Parity 0. Distortion 0.412 at β₁=Inf, β₂=10.0. Acceptance: [0.88, 0.48, 0.24].\n",
      "Temperature 1 of 3:(β₁=Inf,β₂=0.1). Distortion 0.478. Acceptance 87%\n",
      "Temperature 2 of 3:(β₁=Inf,β₂=1.0). Distortion 0.431. Acceptance 57%\n",
      "Temperature 3 of 3:(β₁=Inf,β₂=10.0). Distortion 0.404. Acceptance 20%\n",
      "# Finished iter 90 of 100: Parity 0. Distortion 0.404 at β₁=Inf, β₂=10.0. Acceptance: [0.87, 0.57, 0.2].\n",
      "Temperature 1 of 3:(β₁=Inf,β₂=0.1). Distortion 0.466. Acceptance 91%\n",
      "Temperature 2 of 3:(β₁=Inf,β₂=1.0). Distortion 0.424. Acceptance 58%\n",
      "Temperature 3 of 3:(β₁=Inf,β₂=10.0). Distortion 0.4. Acceptance 26%\n",
      "# Finished iter 91 of 100: Parity 0. Distortion 0.400 at β₁=Inf, β₂=10.0. Acceptance: [0.91, 0.58, 0.26].\n",
      "Temperature 1 of 3:(β₁=Inf,β₂=0.1). Distortion 0.467. Acceptance 90%\n",
      "Temperature 2 of 3:(β₁=Inf,β₂=1.0). Distortion 0.425. Acceptance 43%\n",
      "Temperature 3 of 3:(β₁=Inf,β₂=10.0). Distortion 0.409. Acceptance 19%\n",
      "# Finished iter 92 of 100: Parity 0. Distortion 0.409 at β₁=Inf, β₂=10.0. Acceptance: [0.9, 0.43, 0.19].\n",
      "Temperature 1 of 3:(β₁=Inf,β₂=0.1). Distortion 0.472. Acceptance 82%\n",
      "Temperature 2 of 3:(β₁=Inf,β₂=1.0). Distortion 0.445. Acceptance 49%\n",
      "Temperature 3 of 3:(β₁=Inf,β₂=10.0). Distortion 0.425. Acceptance 29%\n",
      "# Finished iter 93 of 100: Parity 0. Distortion 0.425 at β₁=Inf, β₂=10.0. Acceptance: [0.82, 0.49, 0.29].\n",
      "Temperature 1 of 3:(β₁=Inf,β₂=0.1). Distortion 0.486. Acceptance 93%\n",
      "Temperature 2 of 3:(β₁=Inf,β₂=1.0). Distortion 0.434. Acceptance 58%\n",
      "Temperature 3 of 3:(β₁=Inf,β₂=10.0). Distortion 0.402. Acceptance 23%\n",
      "# Finished iter 94 of 100: Parity 0. Distortion 0.402 at β₁=Inf, β₂=10.0. Acceptance: [0.93, 0.58, 0.23].\n",
      "Temperature 1 of 3:(β₁=Inf,β₂=0.1). Distortion 0.48. Acceptance 85%\n",
      "Temperature 2 of 3:(β₁=Inf,β₂=1.0). Distortion 0.452. Acceptance 55%\n",
      "Temperature 3 of 3:(β₁=Inf,β₂=10.0). Distortion 0.424. Acceptance 26%\n",
      "# Finished iter 95 of 100: Parity 0. Distortion 0.424 at β₁=Inf, β₂=10.0. Acceptance: [0.85, 0.55, 0.26].\n",
      "Temperature 1 of 3:(β₁=Inf,β₂=0.1). Distortion 0.478. Acceptance 89%\n",
      "Temperature 2 of 3:(β₁=Inf,β₂=1.0). Distortion 0.434. Acceptance 47%\n",
      "Temperature 3 of 3:(β₁=Inf,β₂=10.0). Distortion 0.424. Acceptance 25%\n",
      "# Finished iter 96 of 100: Parity 0. Distortion 0.424 at β₁=Inf, β₂=10.0. Acceptance: [0.89, 0.47, 0.25].\n",
      "Temperature 1 of 3:(β₁=Inf,β₂=0.1). Distortion 0.476. Acceptance 90%\n",
      "Temperature 2 of 3:(β₁=Inf,β₂=1.0). Distortion 0.435. Acceptance 50%\n",
      "Temperature 3 of 3:(β₁=Inf,β₂=10.0). Distortion 0.409. Acceptance 19%\n",
      "# Finished iter 97 of 100: Parity 0. Distortion 0.409 at β₁=Inf, β₂=10.0. Acceptance: [0.9, 0.5, 0.19].\n",
      "Temperature 1 of 3:(β₁=Inf,β₂=0.1). Distortion 0.502. Acceptance 95%\n",
      "Temperature 2 of 3:(β₁=Inf,β₂=1.0). Distortion 0.448. Acceptance 62%\n",
      "Temperature 3 of 3:(β₁=Inf,β₂=10.0). Distortion 0.424. Acceptance 26%\n",
      "# Finished iter 98 of 100: Parity 0. Distortion 0.424 at β₁=Inf, β₂=10.0. Acceptance: [0.95, 0.62, 0.26].\n",
      "Temperature 1 of 3:(β₁=Inf,β₂=0.1). Distortion 0.452. Acceptance 88%\n",
      "Temperature 2 of 3:(β₁=Inf,β₂=1.0). Distortion 0.428. Acceptance 56%\n",
      "Temperature 3 of 3:(β₁=Inf,β₂=10.0). Distortion 0.404. Acceptance 20%\n",
      "# Finished iter 99 of 100: Parity 0. Distortion 0.404 at β₁=Inf, β₂=10.0. Acceptance: [0.88, 0.56, 0.2].\n",
      "Temperature 1 of 3:(β₁=Inf,β₂=0.1). Distortion 0.478. Acceptance 87%\n",
      "Temperature 2 of 3:(β₁=Inf,β₂=1.0). Distortion 0.444. Acceptance 55%\n",
      "Temperature 3 of 3:(β₁=Inf,β₂=10.0). Distortion 0.418. Acceptance 26%\n",
      "# Finished iter 100 of 100: Parity 0. Distortion 0.418 at β₁=Inf, β₂=10.0. Acceptance: [0.87, 0.55, 0.26].\n",
      "##### b=50. 6 of 9 #####\n",
      "Temperature 1 of 3:(β₁=Inf,β₂=0.1). Distortion 0.448. Acceptance 92%\n",
      "Temperature 2 of 3:(β₁=Inf,β₂=1.0). Distortion 0.425. Acceptance 59%\n",
      "Temperature 3 of 3:(β₁=Inf,β₂=10.0). Distortion 0.388. Acceptance 37%\n",
      "# Finished iter 1 of 100: Parity 0. Distortion 0.388 at β₁=Inf, β₂=10.0. Acceptance: [0.92, 0.59, 0.37].\n",
      "Temperature 1 of 3:(β₁=Inf,β₂=0.1). Distortion 0.473. Acceptance 95%\n",
      "Temperature 2 of 3:(β₁=Inf,β₂=1.0). Distortion 0.431. Acceptance 63%\n",
      "Temperature 3 of 3:(β₁=Inf,β₂=10.0). Distortion 0.409. Acceptance 33%\n",
      "# Finished iter 2 of 100: Parity 0. Distortion 0.409 at β₁=Inf, β₂=10.0. Acceptance: [0.95, 0.63, 0.33].\n",
      "Temperature 1 of 3:(β₁=Inf,β₂=0.1). Distortion 0.468. Acceptance 92%\n",
      "Temperature 2 of 3:(β₁=Inf,β₂=1.0). Distortion 0.442. Acceptance 63%\n",
      "Temperature 3 of 3:(β₁=Inf,β₂=10.0). Distortion 0.406. Acceptance 38%\n",
      "# Finished iter 3 of 100: Parity 0. Distortion 0.406 at β₁=Inf, β₂=10.0. Acceptance: [0.92, 0.63, 0.38].\n",
      "Temperature 1 of 3:(β₁=Inf,β₂=0.1). Distortion 0.48. Acceptance 89%\n",
      "Temperature 2 of 3:(β₁=Inf,β₂=1.0). Distortion 0.446. Acceptance 54%\n",
      "Temperature 3 of 3:(β₁=Inf,β₂=10.0). Distortion 0.412. Acceptance 30%\n",
      "# Finished iter 4 of 100: Parity 0. Distortion 0.412 at β₁=Inf, β₂=10.0. Acceptance: [0.89, 0.54, 0.3].\n",
      "Temperature 1 of 3:(β₁=Inf,β₂=0.1). Distortion 0.507. Acceptance 91%\n",
      "Temperature 2 of 3:(β₁=Inf,β₂=1.0). Distortion 0.473. Acceptance 63%\n",
      "Temperature 3 of 3:(β₁=Inf,β₂=10.0). Distortion 0.447. Acceptance 31%\n",
      "# Finished iter 5 of 100: Parity 0. Distortion 0.447 at β₁=Inf, β₂=10.0. Acceptance: [0.91, 0.63, 0.31].\n",
      "Temperature 1 of 3:(β₁=Inf,β₂=0.1). Distortion 0.491. Acceptance 91%\n",
      "Temperature 2 of 3:(β₁=Inf,β₂=1.0). Distortion 0.462. Acceptance 59%\n",
      "Temperature 3 of 3:(β₁=Inf,β₂=10.0). Distortion 0.428. Acceptance 28%\n",
      "# Finished iter 6 of 100: Parity 0. Distortion 0.428 at β₁=Inf, β₂=10.0. Acceptance: [0.91, 0.59, 0.28].\n",
      "Temperature 1 of 3:(β₁=Inf,β₂=0.1). Distortion 0.465. Acceptance 90%\n",
      "Temperature 2 of 3:(β₁=Inf,β₂=1.0). Distortion 0.434. Acceptance 53%\n",
      "Temperature 3 of 3:(β₁=Inf,β₂=10.0). Distortion 0.407. Acceptance 23%\n",
      "# Finished iter 7 of 100: Parity 0. Distortion 0.407 at β₁=Inf, β₂=10.0. Acceptance: [0.9, 0.53, 0.23].\n",
      "Temperature 1 of 3:(β₁=Inf,β₂=0.1). Distortion 0.502. Acceptance 90%\n",
      "Temperature 2 of 3:(β₁=Inf,β₂=1.0). Distortion 0.453. Acceptance 59%\n",
      "Temperature 3 of 3:(β₁=Inf,β₂=10.0). Distortion 0.418. Acceptance 29%\n",
      "# Finished iter 8 of 100: Parity 0. Distortion 0.418 at β₁=Inf, β₂=10.0. Acceptance: [0.9, 0.59, 0.29].\n",
      "Temperature 1 of 3:(β₁=Inf,β₂=0.1). Distortion 0.483. Acceptance 91%\n",
      "Temperature 2 of 3:(β₁=Inf,β₂=1.0). Distortion 0.44. Acceptance 57%\n",
      "Temperature 3 of 3:(β₁=Inf,β₂=10.0). Distortion 0.416. Acceptance 30%\n",
      "# Finished iter 9 of 100: Parity 0. Distortion 0.416 at β₁=Inf, β₂=10.0. Acceptance: [0.91, 0.57, 0.3].\n",
      "Temperature 1 of 3:(β₁=Inf,β₂=0.1). Distortion 0.48. Acceptance 90%\n",
      "Temperature 2 of 3:(β₁=Inf,β₂=1.0). Distortion 0.444. Acceptance 59%\n",
      "Temperature 3 of 3:(β₁=Inf,β₂=10.0). Distortion 0.41. Acceptance 37%\n",
      "# Finished iter 10 of 100: Parity 0. Distortion 0.410 at β₁=Inf, β₂=10.0. Acceptance: [0.9, 0.59, 0.37].\n",
      "Temperature 1 of 3:(β₁=Inf,β₂=0.1). Distortion 0.483. Acceptance 91%\n",
      "Temperature 2 of 3:(β₁=Inf,β₂=1.0). Distortion 0.444. Acceptance 52%\n",
      "Temperature 3 of 3:(β₁=Inf,β₂=10.0). Distortion 0.428. Acceptance 30%\n",
      "# Finished iter 11 of 100: Parity 0. Distortion 0.428 at β₁=Inf, β₂=10.0. Acceptance: [0.91, 0.52, 0.3].\n",
      "Temperature 1 of 3:(β₁=Inf,β₂=0.1). Distortion 0.473. Acceptance 89%\n",
      "Temperature 2 of 3:(β₁=Inf,β₂=1.0). Distortion 0.435. Acceptance 63%\n",
      "Temperature 3 of 3:(β₁=Inf,β₂=10.0). Distortion 0.401. Acceptance 35%\n",
      "# Finished iter 12 of 100: Parity 0. Distortion 0.401 at β₁=Inf, β₂=10.0. Acceptance: [0.89, 0.63, 0.35].\n",
      "Temperature 1 of 3:(β₁=Inf,β₂=0.1). Distortion 0.488. Acceptance 93%\n",
      "Temperature 2 of 3:(β₁=Inf,β₂=1.0). Distortion 0.436. Acceptance 64%\n",
      "Temperature 3 of 3:(β₁=Inf,β₂=10.0). Distortion 0.407. Acceptance 39%\n",
      "# Finished iter 13 of 100: Parity 0. Distortion 0.407 at β₁=Inf, β₂=10.0. Acceptance: [0.93, 0.64, 0.39].\n",
      "Temperature 1 of 3:(β₁=Inf,β₂=0.1). Distortion 0.477. Acceptance 91%\n"
     ]
    },
    {
     "name": "stdout",
     "output_type": "stream",
     "text": [
      "Temperature 2 of 3:(β₁=Inf,β₂=1.0). Distortion 0.44. Acceptance 53%\n",
      "Temperature 3 of 3:(β₁=Inf,β₂=10.0). Distortion 0.398. Acceptance 38%\n",
      "# Finished iter 14 of 100: Parity 0. Distortion 0.398 at β₁=Inf, β₂=10.0. Acceptance: [0.91, 0.53, 0.38].\n",
      "Temperature 1 of 3:(β₁=Inf,β₂=0.1). Distortion 0.475. Acceptance 90%\n",
      "Temperature 2 of 3:(β₁=Inf,β₂=1.0). Distortion 0.437. Acceptance 64%\n",
      "Temperature 3 of 3:(β₁=Inf,β₂=10.0). Distortion 0.415. Acceptance 34%\n",
      "# Finished iter 15 of 100: Parity 0. Distortion 0.415 at β₁=Inf, β₂=10.0. Acceptance: [0.9, 0.64, 0.34].\n",
      "Temperature 1 of 3:(β₁=Inf,β₂=0.1). Distortion 0.488. Acceptance 93%\n",
      "Temperature 2 of 3:(β₁=Inf,β₂=1.0). Distortion 0.444. Acceptance 53%\n",
      "Temperature 3 of 3:(β₁=Inf,β₂=10.0). Distortion 0.42. Acceptance 29%\n",
      "# Finished iter 16 of 100: Parity 0. Distortion 0.420 at β₁=Inf, β₂=10.0. Acceptance: [0.93, 0.53, 0.29].\n",
      "Temperature 1 of 3:(β₁=Inf,β₂=0.1). Distortion 0.488. Acceptance 89%\n",
      "Temperature 2 of 3:(β₁=Inf,β₂=1.0). Distortion 0.431. Acceptance 57%\n",
      "Temperature 3 of 3:(β₁=Inf,β₂=10.0). Distortion 0.407. Acceptance 23%\n",
      "# Finished iter 17 of 100: Parity 0. Distortion 0.407 at β₁=Inf, β₂=10.0. Acceptance: [0.89, 0.57, 0.23].\n",
      "Temperature 1 of 3:(β₁=Inf,β₂=0.1). Distortion 0.497. Acceptance 91%\n",
      "Temperature 2 of 3:(β₁=Inf,β₂=1.0). Distortion 0.458. Acceptance 68%\n",
      "Temperature 3 of 3:(β₁=Inf,β₂=10.0). Distortion 0.428. Acceptance 30%\n",
      "# Finished iter 18 of 100: Parity 0. Distortion 0.428 at β₁=Inf, β₂=10.0. Acceptance: [0.91, 0.68, 0.3].\n",
      "Temperature 1 of 3:(β₁=Inf,β₂=0.1). Distortion 0.488. Acceptance 92%\n",
      "Temperature 2 of 3:(β₁=Inf,β₂=1.0). Distortion 0.444. Acceptance 59%\n",
      "Temperature 3 of 3:(β₁=Inf,β₂=10.0). Distortion 0.423. Acceptance 31%\n",
      "# Finished iter 19 of 100: Parity 0. Distortion 0.423 at β₁=Inf, β₂=10.0. Acceptance: [0.92, 0.59, 0.31].\n",
      "Temperature 1 of 3:(β₁=Inf,β₂=0.1). Distortion 0.455. Acceptance 91%\n",
      "Temperature 2 of 3:(β₁=Inf,β₂=1.0). Distortion 0.414. Acceptance 50%\n",
      "Temperature 3 of 3:(β₁=Inf,β₂=10.0). Distortion 0.392. Acceptance 27%\n",
      "# Finished iter 20 of 100: Parity 0. Distortion 0.392 at β₁=Inf, β₂=10.0. Acceptance: [0.91, 0.5, 0.27].\n",
      "Temperature 1 of 3:(β₁=Inf,β₂=0.1). Distortion 0.479. Acceptance 91%\n",
      "Temperature 2 of 3:(β₁=Inf,β₂=1.0). Distortion 0.438. Acceptance 56%\n",
      "Temperature 3 of 3:(β₁=Inf,β₂=10.0). Distortion 0.423. Acceptance 20%\n",
      "# Finished iter 21 of 100: Parity 0. Distortion 0.423 at β₁=Inf, β₂=10.0. Acceptance: [0.91, 0.56, 0.2].\n",
      "Temperature 1 of 3:(β₁=Inf,β₂=0.1). Distortion 0.464. Acceptance 91%\n",
      "Temperature 2 of 3:(β₁=Inf,β₂=1.0). Distortion 0.435. Acceptance 50%\n",
      "Temperature 3 of 3:(β₁=Inf,β₂=10.0). Distortion 0.415. Acceptance 25%\n",
      "# Finished iter 22 of 100: Parity 0. Distortion 0.415 at β₁=Inf, β₂=10.0. Acceptance: [0.91, 0.5, 0.25].\n",
      "Temperature 1 of 3:(β₁=Inf,β₂=0.1). Distortion 0.489. Acceptance 86%\n",
      "Temperature 2 of 3:(β₁=Inf,β₂=1.0). Distortion 0.441. Acceptance 61%\n",
      "Temperature 3 of 3:(β₁=Inf,β₂=10.0). Distortion 0.405. Acceptance 38%\n",
      "# Finished iter 23 of 100: Parity 0. Distortion 0.405 at β₁=Inf, β₂=10.0. Acceptance: [0.86, 0.61, 0.38].\n",
      "Temperature 1 of 3:(β₁=Inf,β₂=0.1). Distortion 0.48. Acceptance 89%\n",
      "Temperature 2 of 3:(β₁=Inf,β₂=1.0). Distortion 0.436. Acceptance 48%\n",
      "Temperature 3 of 3:(β₁=Inf,β₂=10.0). Distortion 0.418. Acceptance 27%\n",
      "# Finished iter 24 of 100: Parity 0. Distortion 0.418 at β₁=Inf, β₂=10.0. Acceptance: [0.89, 0.48, 0.27].\n",
      "Temperature 1 of 3:(β₁=Inf,β₂=0.1). Distortion 0.464. Acceptance 91%\n",
      "Temperature 2 of 3:(β₁=Inf,β₂=1.0). Distortion 0.422. Acceptance 61%\n",
      "Temperature 3 of 3:(β₁=Inf,β₂=10.0). Distortion 0.389. Acceptance 29%\n",
      "# Finished iter 25 of 100: Parity 0. Distortion 0.389 at β₁=Inf, β₂=10.0. Acceptance: [0.91, 0.61, 0.29].\n",
      "Temperature 1 of 3:(β₁=Inf,β₂=0.1). Distortion 0.466. Acceptance 89%\n",
      "Temperature 2 of 3:(β₁=Inf,β₂=1.0). Distortion 0.424. Acceptance 48%\n",
      "Temperature 3 of 3:(β₁=Inf,β₂=10.0). Distortion 0.406. Acceptance 27%\n",
      "# Finished iter 26 of 100: Parity 0. Distortion 0.406 at β₁=Inf, β₂=10.0. Acceptance: [0.89, 0.48, 0.27].\n",
      "Temperature 1 of 3:(β₁=Inf,β₂=0.1). Distortion 0.486. Acceptance 94%\n",
      "Temperature 2 of 3:(β₁=Inf,β₂=1.0). Distortion 0.454. Acceptance 54%\n",
      "Temperature 3 of 3:(β₁=Inf,β₂=10.0). Distortion 0.42. Acceptance 27%\n",
      "# Finished iter 27 of 100: Parity 0. Distortion 0.420 at β₁=Inf, β₂=10.0. Acceptance: [0.94, 0.54, 0.27].\n",
      "Temperature 1 of 3:(β₁=Inf,β₂=0.1). Distortion 0.477. Acceptance 92%\n",
      "Temperature 2 of 3:(β₁=Inf,β₂=1.0). Distortion 0.427. Acceptance 57%\n",
      "Temperature 3 of 3:(β₁=Inf,β₂=10.0). Distortion 0.414. Acceptance 16%\n",
      "# Finished iter 28 of 100: Parity 0. Distortion 0.414 at β₁=Inf, β₂=10.0. Acceptance: [0.92, 0.57, 0.16].\n",
      "Temperature 1 of 3:(β₁=Inf,β₂=0.1). Distortion 0.466. Acceptance 91%\n",
      "Temperature 2 of 3:(β₁=Inf,β₂=1.0). Distortion 0.409. Acceptance 55%\n",
      "Temperature 3 of 3:(β₁=Inf,β₂=10.0). Distortion 0.395. Acceptance 19%\n",
      "# Finished iter 29 of 100: Parity 0. Distortion 0.395 at β₁=Inf, β₂=10.0. Acceptance: [0.91, 0.55, 0.19].\n",
      "Temperature 1 of 3:(β₁=Inf,β₂=0.1). Distortion 0.464. Acceptance 89%\n",
      "Temperature 2 of 3:(β₁=Inf,β₂=1.0). Distortion 0.437. Acceptance 49%\n",
      "Temperature 3 of 3:(β₁=Inf,β₂=10.0). Distortion 0.413. Acceptance 25%\n",
      "# Finished iter 30 of 100: Parity 0. Distortion 0.413 at β₁=Inf, β₂=10.0. Acceptance: [0.89, 0.49, 0.25].\n",
      "Temperature 1 of 3:(β₁=Inf,β₂=0.1). Distortion 0.482. Acceptance 91%\n",
      "Temperature 2 of 3:(β₁=Inf,β₂=1.0). Distortion 0.439. Acceptance 62%\n",
      "Temperature 3 of 3:(β₁=Inf,β₂=10.0). Distortion 0.41. Acceptance 32%\n",
      "# Finished iter 31 of 100: Parity 0. Distortion 0.410 at β₁=Inf, β₂=10.0. Acceptance: [0.91, 0.62, 0.32].\n",
      "Temperature 1 of 3:(β₁=Inf,β₂=0.1). Distortion 0.464. Acceptance 89%\n",
      "Temperature 2 of 3:(β₁=Inf,β₂=1.0). Distortion 0.424. Acceptance 48%\n",
      "Temperature 3 of 3:(β₁=Inf,β₂=10.0). Distortion 0.405. Acceptance 25%\n",
      "# Finished iter 32 of 100: Parity 0. Distortion 0.405 at β₁=Inf, β₂=10.0. Acceptance: [0.89, 0.48, 0.25].\n",
      "Temperature 1 of 3:(β₁=Inf,β₂=0.1). Distortion 0.461. Acceptance 86%\n",
      "Temperature 2 of 3:(β₁=Inf,β₂=1.0). Distortion 0.44. Acceptance 59%\n",
      "Temperature 3 of 3:(β₁=Inf,β₂=10.0). Distortion 0.411. Acceptance 34%\n",
      "# Finished iter 33 of 100: Parity 0. Distortion 0.411 at β₁=Inf, β₂=10.0. Acceptance: [0.86, 0.59, 0.34].\n",
      "Temperature 1 of 3:(β₁=Inf,β₂=0.1). Distortion 0.447. Acceptance 92%\n",
      "Temperature 2 of 3:(β₁=Inf,β₂=1.0). Distortion 0.42. Acceptance 59%\n",
      "Temperature 3 of 3:(β₁=Inf,β₂=10.0). Distortion 0.379. Acceptance 30%\n",
      "# Finished iter 34 of 100: Parity 0. Distortion 0.379 at β₁=Inf, β₂=10.0. Acceptance: [0.92, 0.59, 0.3].\n",
      "Temperature 1 of 3:(β₁=Inf,β₂=0.1). Distortion 0.486. Acceptance 95%\n",
      "Temperature 2 of 3:(β₁=Inf,β₂=1.0). Distortion 0.453. Acceptance 63%\n",
      "Temperature 3 of 3:(β₁=Inf,β₂=10.0). Distortion 0.418. Acceptance 31%\n",
      "# Finished iter 35 of 100: Parity 0. Distortion 0.418 at β₁=Inf, β₂=10.0. Acceptance: [0.95, 0.63, 0.31].\n",
      "Temperature 1 of 3:(β₁=Inf,β₂=0.1). Distortion 0.469. Acceptance 86%\n",
      "Temperature 2 of 3:(β₁=Inf,β₂=1.0). Distortion 0.439. Acceptance 52%\n",
      "Temperature 3 of 3:(β₁=Inf,β₂=10.0). Distortion 0.414. Acceptance 31%\n",
      "# Finished iter 36 of 100: Parity 0. Distortion 0.414 at β₁=Inf, β₂=10.0. Acceptance: [0.86, 0.52, 0.31].\n",
      "Temperature 1 of 3:(β₁=Inf,β₂=0.1). Distortion 0.479. Acceptance 90%\n",
      "Temperature 2 of 3:(β₁=Inf,β₂=1.0). Distortion 0.451. Acceptance 52%\n",
      "Temperature 3 of 3:(β₁=Inf,β₂=10.0). Distortion 0.423. Acceptance 35%\n",
      "# Finished iter 37 of 100: Parity 0. Distortion 0.423 at β₁=Inf, β₂=10.0. Acceptance: [0.9, 0.52, 0.35].\n",
      "Temperature 1 of 3:(β₁=Inf,β₂=0.1). Distortion 0.453. Acceptance 91%\n",
      "Temperature 2 of 3:(β₁=Inf,β₂=1.0). Distortion 0.419. Acceptance 58%\n",
      "Temperature 3 of 3:(β₁=Inf,β₂=10.0). Distortion 0.402. Acceptance 20%\n",
      "# Finished iter 38 of 100: Parity 0. Distortion 0.402 at β₁=Inf, β₂=10.0. Acceptance: [0.91, 0.58, 0.2].\n",
      "Temperature 1 of 3:(β₁=Inf,β₂=0.1). Distortion 0.473. Acceptance 92%\n",
      "Temperature 2 of 3:(β₁=Inf,β₂=1.0). Distortion 0.441. Acceptance 52%\n",
      "Temperature 3 of 3:(β₁=Inf,β₂=10.0). Distortion 0.411. Acceptance 31%\n",
      "# Finished iter 39 of 100: Parity 0. Distortion 0.411 at β₁=Inf, β₂=10.0. Acceptance: [0.92, 0.52, 0.31].\n",
      "Temperature 1 of 3:(β₁=Inf,β₂=0.1). Distortion 0.492. Acceptance 88%\n",
      "Temperature 2 of 3:(β₁=Inf,β₂=1.0). Distortion 0.439. Acceptance 57%\n"
     ]
    },
    {
     "name": "stdout",
     "output_type": "stream",
     "text": [
      "Temperature 3 of 3:(β₁=Inf,β₂=10.0). Distortion 0.417. Acceptance 30%\n",
      "# Finished iter 40 of 100: Parity 0. Distortion 0.417 at β₁=Inf, β₂=10.0. Acceptance: [0.88, 0.57, 0.3].\n",
      "Temperature 1 of 3:(β₁=Inf,β₂=0.1). Distortion 0.477. Acceptance 92%\n",
      "Temperature 2 of 3:(β₁=Inf,β₂=1.0). Distortion 0.439. Acceptance 55%\n",
      "Temperature 3 of 3:(β₁=Inf,β₂=10.0). Distortion 0.412. Acceptance 24%\n",
      "# Finished iter 41 of 100: Parity 0. Distortion 0.412 at β₁=Inf, β₂=10.0. Acceptance: [0.92, 0.55, 0.24].\n",
      "Temperature 1 of 3:(β₁=Inf,β₂=0.1). Distortion 0.486. Acceptance 92%\n",
      "Temperature 2 of 3:(β₁=Inf,β₂=1.0). Distortion 0.441. Acceptance 56%\n",
      "Temperature 3 of 3:(β₁=Inf,β₂=10.0). Distortion 0.415. Acceptance 26%\n",
      "# Finished iter 42 of 100: Parity 0. Distortion 0.415 at β₁=Inf, β₂=10.0. Acceptance: [0.92, 0.56, 0.26].\n",
      "Temperature 1 of 3:(β₁=Inf,β₂=0.1). Distortion 0.464. Acceptance 92%\n",
      "Temperature 2 of 3:(β₁=Inf,β₂=1.0). Distortion 0.402. Acceptance 57%\n",
      "Temperature 3 of 3:(β₁=Inf,β₂=10.0). Distortion 0.377. Acceptance 21%\n",
      "# Finished iter 43 of 100: Parity 0. Distortion 0.377 at β₁=Inf, β₂=10.0. Acceptance: [0.92, 0.57, 0.21].\n",
      "Temperature 1 of 3:(β₁=Inf,β₂=0.1). Distortion 0.457. Acceptance 87%\n",
      "Temperature 2 of 3:(β₁=Inf,β₂=1.0). Distortion 0.426. Acceptance 54%\n",
      "Temperature 3 of 3:(β₁=Inf,β₂=10.0). Distortion 0.413. Acceptance 23%\n",
      "# Finished iter 44 of 100: Parity 0. Distortion 0.413 at β₁=Inf, β₂=10.0. Acceptance: [0.87, 0.54, 0.23].\n",
      "Temperature 1 of 3:(β₁=Inf,β₂=0.1). Distortion 0.487. Acceptance 89%\n",
      "Temperature 2 of 3:(β₁=Inf,β₂=1.0). Distortion 0.446. Acceptance 65%\n",
      "Temperature 3 of 3:(β₁=Inf,β₂=10.0). Distortion 0.426. Acceptance 25%\n",
      "# Finished iter 45 of 100: Parity 0. Distortion 0.426 at β₁=Inf, β₂=10.0. Acceptance: [0.89, 0.65, 0.25].\n",
      "Temperature 1 of 3:(β₁=Inf,β₂=0.1). Distortion 0.472. Acceptance 89%\n",
      "Temperature 2 of 3:(β₁=Inf,β₂=1.0). Distortion 0.437. Acceptance 67%\n",
      "Temperature 3 of 3:(β₁=Inf,β₂=10.0). Distortion 0.413. Acceptance 27%\n",
      "# Finished iter 46 of 100: Parity 0. Distortion 0.413 at β₁=Inf, β₂=10.0. Acceptance: [0.89, 0.67, 0.27].\n",
      "Temperature 1 of 3:(β₁=Inf,β₂=0.1). Distortion 0.477. Acceptance 92%\n",
      "Temperature 2 of 3:(β₁=Inf,β₂=1.0). Distortion 0.433. Acceptance 55%\n",
      "Temperature 3 of 3:(β₁=Inf,β₂=10.0). Distortion 0.404. Acceptance 32%\n",
      "# Finished iter 47 of 100: Parity 0. Distortion 0.404 at β₁=Inf, β₂=10.0. Acceptance: [0.92, 0.55, 0.32].\n",
      "Temperature 1 of 3:(β₁=Inf,β₂=0.1). Distortion 0.501. Acceptance 88%\n",
      "Temperature 2 of 3:(β₁=Inf,β₂=1.0). Distortion 0.459. Acceptance 50%\n",
      "Temperature 3 of 3:(β₁=Inf,β₂=10.0). Distortion 0.446. Acceptance 29%\n",
      "# Finished iter 48 of 100: Parity 0. Distortion 0.446 at β₁=Inf, β₂=10.0. Acceptance: [0.88, 0.5, 0.29].\n",
      "Temperature 1 of 3:(β₁=Inf,β₂=0.1). Distortion 0.476. Acceptance 91%\n",
      "Temperature 2 of 3:(β₁=Inf,β₂=1.0). Distortion 0.431. Acceptance 56%\n",
      "Temperature 3 of 3:(β₁=Inf,β₂=10.0). Distortion 0.415. Acceptance 27%\n",
      "# Finished iter 49 of 100: Parity 0. Distortion 0.415 at β₁=Inf, β₂=10.0. Acceptance: [0.91, 0.56, 0.27].\n",
      "Temperature 1 of 3:(β₁=Inf,β₂=0.1). Distortion 0.504. Acceptance 93%\n",
      "Temperature 2 of 3:(β₁=Inf,β₂=1.0). Distortion 0.444. Acceptance 63%\n",
      "Temperature 3 of 3:(β₁=Inf,β₂=10.0). Distortion 0.408. Acceptance 31%\n",
      "# Finished iter 50 of 100: Parity 0. Distortion 0.408 at β₁=Inf, β₂=10.0. Acceptance: [0.93, 0.63, 0.31].\n",
      "Temperature 1 of 3:(β₁=Inf,β₂=0.1). Distortion 0.467. Acceptance 88%\n",
      "Temperature 2 of 3:(β₁=Inf,β₂=1.0). Distortion 0.434. Acceptance 55%\n",
      "Temperature 3 of 3:(β₁=Inf,β₂=10.0). Distortion 0.4. Acceptance 36%\n",
      "# Finished iter 51 of 100: Parity 0. Distortion 0.400 at β₁=Inf, β₂=10.0. Acceptance: [0.88, 0.55, 0.36].\n",
      "Temperature 1 of 3:(β₁=Inf,β₂=0.1). Distortion 0.49. Acceptance 93%\n",
      "Temperature 2 of 3:(β₁=Inf,β₂=1.0). Distortion 0.438. Acceptance 54%\n",
      "Temperature 3 of 3:(β₁=Inf,β₂=10.0). Distortion 0.41. Acceptance 29%\n",
      "# Finished iter 52 of 100: Parity 0. Distortion 0.410 at β₁=Inf, β₂=10.0. Acceptance: [0.93, 0.54, 0.29].\n",
      "Temperature 1 of 3:(β₁=Inf,β₂=0.1). Distortion 0.45. Acceptance 91%\n",
      "Temperature 2 of 3:(β₁=Inf,β₂=1.0). Distortion 0.414. Acceptance 45%\n",
      "Temperature 3 of 3:(β₁=Inf,β₂=10.0). Distortion 0.393. Acceptance 23%\n",
      "# Finished iter 53 of 100: Parity 0. Distortion 0.393 at β₁=Inf, β₂=10.0. Acceptance: [0.91, 0.45, 0.23].\n",
      "Temperature 1 of 3:(β₁=Inf,β₂=0.1). Distortion 0.482. Acceptance 91%\n",
      "Temperature 2 of 3:(β₁=Inf,β₂=1.0). Distortion 0.423. Acceptance 56%\n",
      "Temperature 3 of 3:(β₁=Inf,β₂=10.0). Distortion 0.383. Acceptance 36%\n",
      "# Finished iter 54 of 100: Parity 0. Distortion 0.383 at β₁=Inf, β₂=10.0. Acceptance: [0.91, 0.56, 0.36].\n",
      "Temperature 1 of 3:(β₁=Inf,β₂=0.1). Distortion 0.458. Acceptance 90%\n",
      "Temperature 2 of 3:(β₁=Inf,β₂=1.0). Distortion 0.446. Acceptance 61%\n",
      "Temperature 3 of 3:(β₁=Inf,β₂=10.0). Distortion 0.421. Acceptance 36%\n",
      "# Finished iter 55 of 100: Parity 0. Distortion 0.421 at β₁=Inf, β₂=10.0. Acceptance: [0.9, 0.61, 0.36].\n",
      "Temperature 1 of 3:(β₁=Inf,β₂=0.1). Distortion 0.474. Acceptance 90%\n",
      "Temperature 2 of 3:(β₁=Inf,β₂=1.0). Distortion 0.439. Acceptance 59%\n",
      "Temperature 3 of 3:(β₁=Inf,β₂=10.0). Distortion 0.417. Acceptance 29%\n",
      "# Finished iter 56 of 100: Parity 0. Distortion 0.417 at β₁=Inf, β₂=10.0. Acceptance: [0.9, 0.59, 0.29].\n",
      "Temperature 1 of 3:(β₁=Inf,β₂=0.1). Distortion 0.46. Acceptance 96%\n",
      "Temperature 2 of 3:(β₁=Inf,β₂=1.0). Distortion 0.429. Acceptance 45%\n",
      "Temperature 3 of 3:(β₁=Inf,β₂=10.0). Distortion 0.413. Acceptance 22%\n",
      "# Finished iter 57 of 100: Parity 0. Distortion 0.413 at β₁=Inf, β₂=10.0. Acceptance: [0.96, 0.45, 0.22].\n",
      "Temperature 1 of 3:(β₁=Inf,β₂=0.1). Distortion 0.482. Acceptance 91%\n",
      "Temperature 2 of 3:(β₁=Inf,β₂=1.0). Distortion 0.433. Acceptance 60%\n",
      "Temperature 3 of 3:(β₁=Inf,β₂=10.0). Distortion 0.413. Acceptance 24%\n",
      "# Finished iter 58 of 100: Parity 0. Distortion 0.413 at β₁=Inf, β₂=10.0. Acceptance: [0.91, 0.6, 0.24].\n",
      "Temperature 1 of 3:(β₁=Inf,β₂=0.1). Distortion 0.474. Acceptance 96%\n",
      "Temperature 2 of 3:(β₁=Inf,β₂=1.0). Distortion 0.436. Acceptance 50%\n",
      "Temperature 3 of 3:(β₁=Inf,β₂=10.0). Distortion 0.402. Acceptance 26%\n",
      "# Finished iter 59 of 100: Parity 0. Distortion 0.402 at β₁=Inf, β₂=10.0. Acceptance: [0.96, 0.5, 0.26].\n",
      "Temperature 1 of 3:(β₁=Inf,β₂=0.1). Distortion 0.477. Acceptance 90%\n",
      "Temperature 2 of 3:(β₁=Inf,β₂=1.0). Distortion 0.438. Acceptance 48%\n",
      "Temperature 3 of 3:(β₁=Inf,β₂=10.0). Distortion 0.421. Acceptance 27%\n",
      "# Finished iter 60 of 100: Parity 0. Distortion 0.421 at β₁=Inf, β₂=10.0. Acceptance: [0.9, 0.48, 0.27].\n",
      "Temperature 1 of 3:(β₁=Inf,β₂=0.1). Distortion 0.479. Acceptance 95%\n",
      "Temperature 2 of 3:(β₁=Inf,β₂=1.0). Distortion 0.435. Acceptance 54%\n",
      "Temperature 3 of 3:(β₁=Inf,β₂=10.0). Distortion 0.419. Acceptance 25%\n",
      "# Finished iter 61 of 100: Parity 0. Distortion 0.419 at β₁=Inf, β₂=10.0. Acceptance: [0.95, 0.54, 0.25].\n",
      "Temperature 1 of 3:(β₁=Inf,β₂=0.1). Distortion 0.509. Acceptance 96%\n",
      "Temperature 2 of 3:(β₁=Inf,β₂=1.0). Distortion 0.47. Acceptance 55%\n",
      "Temperature 3 of 3:(β₁=Inf,β₂=10.0). Distortion 0.432. Acceptance 32%\n",
      "# Finished iter 62 of 100: Parity 0. Distortion 0.432 at β₁=Inf, β₂=10.0. Acceptance: [0.96, 0.55, 0.32].\n",
      "Temperature 1 of 3:(β₁=Inf,β₂=0.1). Distortion 0.476. Acceptance 92%\n",
      "Temperature 2 of 3:(β₁=Inf,β₂=1.0). Distortion 0.437. Acceptance 64%\n",
      "Temperature 3 of 3:(β₁=Inf,β₂=10.0). Distortion 0.425. Acceptance 19%\n",
      "# Finished iter 63 of 100: Parity 0. Distortion 0.425 at β₁=Inf, β₂=10.0. Acceptance: [0.92, 0.64, 0.19].\n",
      "Temperature 1 of 3:(β₁=Inf,β₂=0.1). Distortion 0.492. Acceptance 93%\n",
      "Temperature 2 of 3:(β₁=Inf,β₂=1.0). Distortion 0.459. Acceptance 50%\n",
      "Temperature 3 of 3:(β₁=Inf,β₂=10.0). Distortion 0.423. Acceptance 29%\n",
      "# Finished iter 64 of 100: Parity 0. Distortion 0.423 at β₁=Inf, β₂=10.0. Acceptance: [0.93, 0.5, 0.29].\n",
      "Temperature 1 of 3:(β₁=Inf,β₂=0.1). Distortion 0.502. Acceptance 91%\n",
      "Temperature 2 of 3:(β₁=Inf,β₂=1.0). Distortion 0.463. Acceptance 57%\n",
      "Temperature 3 of 3:(β₁=Inf,β₂=10.0). Distortion 0.436. Acceptance 30%\n",
      "# Finished iter 65 of 100: Parity 0. Distortion 0.436 at β₁=Inf, β₂=10.0. Acceptance: [0.91, 0.57, 0.3].\n",
      "Temperature 1 of 3:(β₁=Inf,β₂=0.1). Distortion 0.485. Acceptance 91%\n",
      "Temperature 2 of 3:(β₁=Inf,β₂=1.0). Distortion 0.456. Acceptance 55%\n",
      "Temperature 3 of 3:(β₁=Inf,β₂=10.0). Distortion 0.426. Acceptance 31%\n",
      "# Finished iter 66 of 100: Parity 0. Distortion 0.426 at β₁=Inf, β₂=10.0. Acceptance: [0.91, 0.55, 0.31].\n"
     ]
    },
    {
     "name": "stdout",
     "output_type": "stream",
     "text": [
      "Temperature 1 of 3:(β₁=Inf,β₂=0.1). Distortion 0.468. Acceptance 92%\n",
      "Temperature 2 of 3:(β₁=Inf,β₂=1.0). Distortion 0.433. Acceptance 52%\n",
      "Temperature 3 of 3:(β₁=Inf,β₂=10.0). Distortion 0.401. Acceptance 23%\n",
      "# Finished iter 67 of 100: Parity 0. Distortion 0.401 at β₁=Inf, β₂=10.0. Acceptance: [0.92, 0.52, 0.23].\n",
      "Temperature 1 of 3:(β₁=Inf,β₂=0.1). Distortion 0.479. Acceptance 94%\n",
      "Temperature 2 of 3:(β₁=Inf,β₂=1.0). Distortion 0.442. Acceptance 56%\n",
      "Temperature 3 of 3:(β₁=Inf,β₂=10.0). Distortion 0.41. Acceptance 30%\n",
      "# Finished iter 68 of 100: Parity 0. Distortion 0.410 at β₁=Inf, β₂=10.0. Acceptance: [0.94, 0.56, 0.3].\n",
      "Temperature 1 of 3:(β₁=Inf,β₂=0.1). Distortion 0.483. Acceptance 90%\n",
      "Temperature 2 of 3:(β₁=Inf,β₂=1.0). Distortion 0.43. Acceptance 53%\n",
      "Temperature 3 of 3:(β₁=Inf,β₂=10.0). Distortion 0.403. Acceptance 28%\n",
      "# Finished iter 69 of 100: Parity 0. Distortion 0.403 at β₁=Inf, β₂=10.0. Acceptance: [0.9, 0.53, 0.28].\n",
      "Temperature 1 of 3:(β₁=Inf,β₂=0.1). Distortion 0.489. Acceptance 92%\n",
      "Temperature 2 of 3:(β₁=Inf,β₂=1.0). Distortion 0.446. Acceptance 56%\n",
      "Temperature 3 of 3:(β₁=Inf,β₂=10.0). Distortion 0.418. Acceptance 30%\n",
      "# Finished iter 70 of 100: Parity 0. Distortion 0.418 at β₁=Inf, β₂=10.0. Acceptance: [0.92, 0.56, 0.3].\n",
      "Temperature 1 of 3:(β₁=Inf,β₂=0.1). Distortion 0.466. Acceptance 89%\n",
      "Temperature 2 of 3:(β₁=Inf,β₂=1.0). Distortion 0.426. Acceptance 52%\n",
      "Temperature 3 of 3:(β₁=Inf,β₂=10.0). Distortion 0.401. Acceptance 27%\n",
      "# Finished iter 71 of 100: Parity 0. Distortion 0.401 at β₁=Inf, β₂=10.0. Acceptance: [0.89, 0.52, 0.27].\n",
      "Temperature 1 of 3:(β₁=Inf,β₂=0.1). Distortion 0.457. Acceptance 88%\n",
      "Temperature 2 of 3:(β₁=Inf,β₂=1.0). Distortion 0.425. Acceptance 53%\n",
      "Temperature 3 of 3:(β₁=Inf,β₂=10.0). Distortion 0.409. Acceptance 28%\n",
      "# Finished iter 72 of 100: Parity 0. Distortion 0.409 at β₁=Inf, β₂=10.0. Acceptance: [0.88, 0.53, 0.28].\n",
      "Temperature 1 of 3:(β₁=Inf,β₂=0.1). Distortion 0.477. Acceptance 84%\n",
      "Temperature 2 of 3:(β₁=Inf,β₂=1.0). Distortion 0.437. Acceptance 59%\n",
      "Temperature 3 of 3:(β₁=Inf,β₂=10.0). Distortion 0.422. Acceptance 32%\n",
      "# Finished iter 73 of 100: Parity 0. Distortion 0.422 at β₁=Inf, β₂=10.0. Acceptance: [0.84, 0.59, 0.32].\n",
      "Temperature 1 of 3:(β₁=Inf,β₂=0.1). Distortion 0.49. Acceptance 87%\n",
      "Temperature 2 of 3:(β₁=Inf,β₂=1.0). Distortion 0.444. Acceptance 60%\n",
      "Temperature 3 of 3:(β₁=Inf,β₂=10.0). Distortion 0.415. Acceptance 23%\n",
      "# Finished iter 74 of 100: Parity 0. Distortion 0.415 at β₁=Inf, β₂=10.0. Acceptance: [0.87, 0.6, 0.23].\n",
      "Temperature 1 of 3:(β₁=Inf,β₂=0.1). Distortion 0.485. Acceptance 95%\n",
      "Temperature 2 of 3:(β₁=Inf,β₂=1.0). Distortion 0.442. Acceptance 63%\n",
      "Temperature 3 of 3:(β₁=Inf,β₂=10.0). Distortion 0.421. Acceptance 32%\n",
      "# Finished iter 75 of 100: Parity 0. Distortion 0.421 at β₁=Inf, β₂=10.0. Acceptance: [0.95, 0.63, 0.32].\n",
      "Temperature 1 of 3:(β₁=Inf,β₂=0.1). Distortion 0.48. Acceptance 93%\n",
      "Temperature 2 of 3:(β₁=Inf,β₂=1.0). Distortion 0.425. Acceptance 57%\n",
      "Temperature 3 of 3:(β₁=Inf,β₂=10.0). Distortion 0.402. Acceptance 22%\n",
      "# Finished iter 76 of 100: Parity 0. Distortion 0.402 at β₁=Inf, β₂=10.0. Acceptance: [0.93, 0.57, 0.22].\n",
      "Temperature 1 of 3:(β₁=Inf,β₂=0.1). Distortion 0.482. Acceptance 93%\n",
      "Temperature 2 of 3:(β₁=Inf,β₂=1.0). Distortion 0.436. Acceptance 54%\n",
      "Temperature 3 of 3:(β₁=Inf,β₂=10.0). Distortion 0.406. Acceptance 27%\n",
      "# Finished iter 77 of 100: Parity 0. Distortion 0.406 at β₁=Inf, β₂=10.0. Acceptance: [0.93, 0.54, 0.27].\n",
      "Temperature 1 of 3:(β₁=Inf,β₂=0.1). Distortion 0.513. Acceptance 90%\n",
      "Temperature 2 of 3:(β₁=Inf,β₂=1.0). Distortion 0.452. Acceptance 63%\n",
      "Temperature 3 of 3:(β₁=Inf,β₂=10.0). Distortion 0.432. Acceptance 26%\n",
      "# Finished iter 78 of 100: Parity 0. Distortion 0.432 at β₁=Inf, β₂=10.0. Acceptance: [0.9, 0.63, 0.26].\n",
      "Temperature 1 of 3:(β₁=Inf,β₂=0.1). Distortion 0.471. Acceptance 90%\n",
      "Temperature 2 of 3:(β₁=Inf,β₂=1.0). Distortion 0.427. Acceptance 57%\n",
      "Temperature 3 of 3:(β₁=Inf,β₂=10.0). Distortion 0.394. Acceptance 33%\n",
      "# Finished iter 79 of 100: Parity 0. Distortion 0.394 at β₁=Inf, β₂=10.0. Acceptance: [0.9, 0.57, 0.33].\n",
      "Temperature 1 of 3:(β₁=Inf,β₂=0.1). Distortion 0.461. Acceptance 87%\n",
      "Temperature 2 of 3:(β₁=Inf,β₂=1.0). Distortion 0.437. Acceptance 55%\n",
      "Temperature 3 of 3:(β₁=Inf,β₂=10.0). Distortion 0.411. Acceptance 32%\n",
      "# Finished iter 80 of 100: Parity 0. Distortion 0.411 at β₁=Inf, β₂=10.0. Acceptance: [0.87, 0.55, 0.32].\n",
      "Temperature 1 of 3:(β₁=Inf,β₂=0.1). Distortion 0.476. Acceptance 94%\n",
      "Temperature 2 of 3:(β₁=Inf,β₂=1.0). Distortion 0.445. Acceptance 54%\n",
      "Temperature 3 of 3:(β₁=Inf,β₂=10.0). Distortion 0.427. Acceptance 32%\n",
      "# Finished iter 81 of 100: Parity 0. Distortion 0.427 at β₁=Inf, β₂=10.0. Acceptance: [0.94, 0.54, 0.32].\n",
      "Temperature 1 of 3:(β₁=Inf,β₂=0.1). Distortion 0.472. Acceptance 87%\n",
      "Temperature 2 of 3:(β₁=Inf,β₂=1.0). Distortion 0.436. Acceptance 57%\n",
      "Temperature 3 of 3:(β₁=Inf,β₂=10.0). Distortion 0.424. Acceptance 26%\n",
      "# Finished iter 82 of 100: Parity 0. Distortion 0.424 at β₁=Inf, β₂=10.0. Acceptance: [0.87, 0.57, 0.26].\n",
      "Temperature 1 of 3:(β₁=Inf,β₂=0.1). Distortion 0.462. Acceptance 95%\n",
      "Temperature 2 of 3:(β₁=Inf,β₂=1.0). Distortion 0.424. Acceptance 52%\n",
      "Temperature 3 of 3:(β₁=Inf,β₂=10.0). Distortion 0.403. Acceptance 29%\n",
      "# Finished iter 83 of 100: Parity 0. Distortion 0.403 at β₁=Inf, β₂=10.0. Acceptance: [0.95, 0.52, 0.29].\n",
      "Temperature 1 of 3:(β₁=Inf,β₂=0.1). Distortion 0.485. Acceptance 95%\n",
      "Temperature 2 of 3:(β₁=Inf,β₂=1.0). Distortion 0.438. Acceptance 65%\n",
      "Temperature 3 of 3:(β₁=Inf,β₂=10.0). Distortion 0.413. Acceptance 32%\n",
      "# Finished iter 84 of 100: Parity 0. Distortion 0.413 at β₁=Inf, β₂=10.0. Acceptance: [0.95, 0.65, 0.32].\n",
      "Temperature 1 of 3:(β₁=Inf,β₂=0.1). Distortion 0.464. Acceptance 90%\n",
      "Temperature 2 of 3:(β₁=Inf,β₂=1.0). Distortion 0.411. Acceptance 51%\n",
      "Temperature 3 of 3:(β₁=Inf,β₂=10.0). Distortion 0.386. Acceptance 23%\n",
      "# Finished iter 85 of 100: Parity 0. Distortion 0.386 at β₁=Inf, β₂=10.0. Acceptance: [0.9, 0.51, 0.23].\n",
      "Temperature 1 of 3:(β₁=Inf,β₂=0.1). Distortion 0.501. Acceptance 91%\n",
      "Temperature 2 of 3:(β₁=Inf,β₂=1.0). Distortion 0.469. Acceptance 62%\n",
      "Temperature 3 of 3:(β₁=Inf,β₂=10.0). Distortion 0.443. Acceptance 30%\n",
      "# Finished iter 86 of 100: Parity 0. Distortion 0.443 at β₁=Inf, β₂=10.0. Acceptance: [0.91, 0.62, 0.3].\n",
      "Temperature 1 of 3:(β₁=Inf,β₂=0.1). Distortion 0.48. Acceptance 87%\n",
      "Temperature 2 of 3:(β₁=Inf,β₂=1.0). Distortion 0.454. Acceptance 55%\n",
      "Temperature 3 of 3:(β₁=Inf,β₂=10.0). Distortion 0.429. Acceptance 35%\n",
      "# Finished iter 87 of 100: Parity 0. Distortion 0.429 at β₁=Inf, β₂=10.0. Acceptance: [0.87, 0.55, 0.35].\n",
      "Temperature 1 of 3:(β₁=Inf,β₂=0.1). Distortion 0.464. Acceptance 89%\n",
      "Temperature 2 of 3:(β₁=Inf,β₂=1.0). Distortion 0.42. Acceptance 57%\n",
      "Temperature 3 of 3:(β₁=Inf,β₂=10.0). Distortion 0.391. Acceptance 29%\n",
      "# Finished iter 88 of 100: Parity 0. Distortion 0.391 at β₁=Inf, β₂=10.0. Acceptance: [0.89, 0.57, 0.29].\n",
      "Temperature 1 of 3:(β₁=Inf,β₂=0.1). Distortion 0.474. Acceptance 91%\n",
      "Temperature 2 of 3:(β₁=Inf,β₂=1.0). Distortion 0.428. Acceptance 57%\n",
      "Temperature 3 of 3:(β₁=Inf,β₂=10.0). Distortion 0.414. Acceptance 23%\n",
      "# Finished iter 89 of 100: Parity 0. Distortion 0.414 at β₁=Inf, β₂=10.0. Acceptance: [0.91, 0.57, 0.23].\n",
      "Temperature 1 of 3:(β₁=Inf,β₂=0.1). Distortion 0.457. Acceptance 93%\n",
      "Temperature 2 of 3:(β₁=Inf,β₂=1.0). Distortion 0.421. Acceptance 59%\n",
      "Temperature 3 of 3:(β₁=Inf,β₂=10.0). Distortion 0.389. Acceptance 33%\n",
      "# Finished iter 90 of 100: Parity 0. Distortion 0.389 at β₁=Inf, β₂=10.0. Acceptance: [0.93, 0.59, 0.33].\n",
      "Temperature 1 of 3:(β₁=Inf,β₂=0.1). Distortion 0.469. Acceptance 93%\n",
      "Temperature 2 of 3:(β₁=Inf,β₂=1.0). Distortion 0.433. Acceptance 61%\n",
      "Temperature 3 of 3:(β₁=Inf,β₂=10.0). Distortion 0.405. Acceptance 33%\n",
      "# Finished iter 91 of 100: Parity 0. Distortion 0.405 at β₁=Inf, β₂=10.0. Acceptance: [0.93, 0.61, 0.33].\n",
      "Temperature 1 of 3:(β₁=Inf,β₂=0.1). Distortion 0.476. Acceptance 91%\n",
      "Temperature 2 of 3:(β₁=Inf,β₂=1.0). Distortion 0.436. Acceptance 55%\n",
      "Temperature 3 of 3:(β₁=Inf,β₂=10.0). Distortion 0.4. Acceptance 26%\n",
      "# Finished iter 92 of 100: Parity 0. Distortion 0.400 at β₁=Inf, β₂=10.0. Acceptance: [0.91, 0.55, 0.26].\n",
      "Temperature 1 of 3:(β₁=Inf,β₂=0.1). Distortion 0.485. Acceptance 90%\n"
     ]
    },
    {
     "name": "stdout",
     "output_type": "stream",
     "text": [
      "Temperature 2 of 3:(β₁=Inf,β₂=1.0). Distortion 0.434. Acceptance 58%\n",
      "Temperature 3 of 3:(β₁=Inf,β₂=10.0). Distortion 0.408. Acceptance 27%\n",
      "# Finished iter 93 of 100: Parity 0. Distortion 0.408 at β₁=Inf, β₂=10.0. Acceptance: [0.9, 0.58, 0.27].\n",
      "Temperature 1 of 3:(β₁=Inf,β₂=0.1). Distortion 0.476. Acceptance 89%\n",
      "Temperature 2 of 3:(β₁=Inf,β₂=1.0). Distortion 0.421. Acceptance 56%\n",
      "Temperature 3 of 3:(β₁=Inf,β₂=10.0). Distortion 0.401. Acceptance 21%\n",
      "# Finished iter 94 of 100: Parity 0. Distortion 0.401 at β₁=Inf, β₂=10.0. Acceptance: [0.89, 0.56, 0.21].\n",
      "Temperature 1 of 3:(β₁=Inf,β₂=0.1). Distortion 0.487. Acceptance 93%\n",
      "Temperature 2 of 3:(β₁=Inf,β₂=1.0). Distortion 0.445. Acceptance 49%\n",
      "Temperature 3 of 3:(β₁=Inf,β₂=10.0). Distortion 0.422. Acceptance 31%\n",
      "# Finished iter 95 of 100: Parity 0. Distortion 0.422 at β₁=Inf, β₂=10.0. Acceptance: [0.93, 0.49, 0.31].\n",
      "Temperature 1 of 3:(β₁=Inf,β₂=0.1). Distortion 0.481. Acceptance 93%\n",
      "Temperature 2 of 3:(β₁=Inf,β₂=1.0). Distortion 0.42. Acceptance 63%\n",
      "Temperature 3 of 3:(β₁=Inf,β₂=10.0). Distortion 0.405. Acceptance 23%\n",
      "# Finished iter 96 of 100: Parity 0. Distortion 0.405 at β₁=Inf, β₂=10.0. Acceptance: [0.93, 0.63, 0.23].\n",
      "Temperature 1 of 3:(β₁=Inf,β₂=0.1). Distortion 0.485. Acceptance 94%\n",
      "Temperature 2 of 3:(β₁=Inf,β₂=1.0). Distortion 0.441. Acceptance 60%\n",
      "Temperature 3 of 3:(β₁=Inf,β₂=10.0). Distortion 0.409. Acceptance 38%\n",
      "# Finished iter 97 of 100: Parity 0. Distortion 0.409 at β₁=Inf, β₂=10.0. Acceptance: [0.94, 0.6, 0.38].\n",
      "Temperature 1 of 3:(β₁=Inf,β₂=0.1). Distortion 0.466. Acceptance 95%\n",
      "Temperature 2 of 3:(β₁=Inf,β₂=1.0). Distortion 0.436. Acceptance 55%\n",
      "Temperature 3 of 3:(β₁=Inf,β₂=10.0). Distortion 0.41. Acceptance 30%\n",
      "# Finished iter 98 of 100: Parity 0. Distortion 0.410 at β₁=Inf, β₂=10.0. Acceptance: [0.95, 0.55, 0.3].\n",
      "Temperature 1 of 3:(β₁=Inf,β₂=0.1). Distortion 0.497. Acceptance 92%\n",
      "Temperature 2 of 3:(β₁=Inf,β₂=1.0). Distortion 0.453. Acceptance 62%\n",
      "Temperature 3 of 3:(β₁=Inf,β₂=10.0). Distortion 0.426. Acceptance 32%\n",
      "# Finished iter 99 of 100: Parity 0. Distortion 0.426 at β₁=Inf, β₂=10.0. Acceptance: [0.92, 0.62, 0.32].\n",
      "Temperature 1 of 3:(β₁=Inf,β₂=0.1). Distortion 0.483. Acceptance 94%\n",
      "Temperature 2 of 3:(β₁=Inf,β₂=1.0). Distortion 0.457. Acceptance 56%\n",
      "Temperature 3 of 3:(β₁=Inf,β₂=10.0). Distortion 0.44. Acceptance 24%\n",
      "# Finished iter 100 of 100: Parity 0. Distortion 0.440 at β₁=Inf, β₂=10.0. Acceptance: [0.94, 0.56, 0.24].\n",
      "##### b=100. 7 of 9 #####\n",
      "Temperature 1 of 3:(β₁=Inf,β₂=0.1). Distortion 0.482. Acceptance 94%\n",
      "Temperature 2 of 3:(β₁=Inf,β₂=1.0). Distortion 0.447. Acceptance 61%\n",
      "Temperature 3 of 3:(β₁=Inf,β₂=10.0). Distortion 0.422. Acceptance 36%\n",
      "# Finished iter 1 of 100: Parity 0. Distortion 0.422 at β₁=Inf, β₂=10.0. Acceptance: [0.94, 0.61, 0.36].\n",
      "Temperature 1 of 3:(β₁=Inf,β₂=0.1). Distortion 0.454. Acceptance 96%\n",
      "Temperature 2 of 3:(β₁=Inf,β₂=1.0). Distortion 0.401. Acceptance 55%\n",
      "Temperature 3 of 3:(β₁=Inf,β₂=10.0). Distortion 0.379. Acceptance 29%\n",
      "# Finished iter 2 of 100: Parity 0. Distortion 0.379 at β₁=Inf, β₂=10.0. Acceptance: [0.96, 0.55, 0.29].\n",
      "Temperature 1 of 3:(β₁=Inf,β₂=0.1). Distortion 0.465. Acceptance 94%\n",
      "Temperature 2 of 3:(β₁=Inf,β₂=1.0). Distortion 0.427. Acceptance 63%\n",
      "Temperature 3 of 3:(β₁=Inf,β₂=10.0). Distortion 0.413. Acceptance 22%\n",
      "# Finished iter 3 of 100: Parity 0. Distortion 0.413 at β₁=Inf, β₂=10.0. Acceptance: [0.94, 0.63, 0.22].\n",
      "Temperature 1 of 3:(β₁=Inf,β₂=0.1). Distortion 0.494. Acceptance 89%\n",
      "Temperature 2 of 3:(β₁=Inf,β₂=1.0). Distortion 0.458. Acceptance 65%\n",
      "Temperature 3 of 3:(β₁=Inf,β₂=10.0). Distortion 0.437. Acceptance 32%\n",
      "# Finished iter 4 of 100: Parity 0. Distortion 0.437 at β₁=Inf, β₂=10.0. Acceptance: [0.89, 0.65, 0.32].\n",
      "Temperature 1 of 3:(β₁=Inf,β₂=0.1). Distortion 0.484. Acceptance 94%\n",
      "Temperature 2 of 3:(β₁=Inf,β₂=1.0). Distortion 0.434. Acceptance 53%\n",
      "Temperature 3 of 3:(β₁=Inf,β₂=10.0). Distortion 0.417. Acceptance 23%\n",
      "# Finished iter 5 of 100: Parity 0. Distortion 0.417 at β₁=Inf, β₂=10.0. Acceptance: [0.94, 0.53, 0.23].\n",
      "Temperature 1 of 3:(β₁=Inf,β₂=0.1). Distortion 0.488. Acceptance 94%\n",
      "Temperature 2 of 3:(β₁=Inf,β₂=1.0). Distortion 0.441. Acceptance 58%\n",
      "Temperature 3 of 3:(β₁=Inf,β₂=10.0). Distortion 0.426. Acceptance 31%\n",
      "# Finished iter 6 of 100: Parity 0. Distortion 0.426 at β₁=Inf, β₂=10.0. Acceptance: [0.94, 0.58, 0.31].\n",
      "Temperature 1 of 3:(β₁=Inf,β₂=0.1). Distortion 0.498. Acceptance 93%\n",
      "Temperature 2 of 3:(β₁=Inf,β₂=1.0). Distortion 0.446. Acceptance 60%\n",
      "Temperature 3 of 3:(β₁=Inf,β₂=10.0). Distortion 0.429. Acceptance 26%\n",
      "# Finished iter 7 of 100: Parity 0. Distortion 0.429 at β₁=Inf, β₂=10.0. Acceptance: [0.93, 0.6, 0.26].\n",
      "Temperature 1 of 3:(β₁=Inf,β₂=0.1). Distortion 0.473. Acceptance 88%\n",
      "Temperature 2 of 3:(β₁=Inf,β₂=1.0). Distortion 0.441. Acceptance 54%\n",
      "Temperature 3 of 3:(β₁=Inf,β₂=10.0). Distortion 0.406. Acceptance 32%\n",
      "# Finished iter 8 of 100: Parity 0. Distortion 0.406 at β₁=Inf, β₂=10.0. Acceptance: [0.88, 0.54, 0.32].\n",
      "Temperature 1 of 3:(β₁=Inf,β₂=0.1). Distortion 0.466. Acceptance 93%\n",
      "Temperature 2 of 3:(β₁=Inf,β₂=1.0). Distortion 0.426. Acceptance 58%\n",
      "Temperature 3 of 3:(β₁=Inf,β₂=10.0). Distortion 0.41. Acceptance 23%\n",
      "# Finished iter 9 of 100: Parity 0. Distortion 0.410 at β₁=Inf, β₂=10.0. Acceptance: [0.93, 0.58, 0.23].\n",
      "Temperature 1 of 3:(β₁=Inf,β₂=0.1). Distortion 0.476. Acceptance 89%\n",
      "Temperature 2 of 3:(β₁=Inf,β₂=1.0). Distortion 0.447. Acceptance 55%\n",
      "Temperature 3 of 3:(β₁=Inf,β₂=10.0). Distortion 0.43. Acceptance 24%\n",
      "# Finished iter 10 of 100: Parity 0. Distortion 0.430 at β₁=Inf, β₂=10.0. Acceptance: [0.89, 0.55, 0.24].\n",
      "Temperature 1 of 3:(β₁=Inf,β₂=0.1). Distortion 0.48. Acceptance 96%\n",
      "Temperature 2 of 3:(β₁=Inf,β₂=1.0). Distortion 0.443. Acceptance 56%\n",
      "Temperature 3 of 3:(β₁=Inf,β₂=10.0). Distortion 0.423. Acceptance 36%\n",
      "# Finished iter 11 of 100: Parity 0. Distortion 0.423 at β₁=Inf, β₂=10.0. Acceptance: [0.96, 0.56, 0.36].\n",
      "Temperature 1 of 3:(β₁=Inf,β₂=0.1). Distortion 0.495. Acceptance 93%\n",
      "Temperature 2 of 3:(β₁=Inf,β₂=1.0). Distortion 0.442. Acceptance 64%\n",
      "Temperature 3 of 3:(β₁=Inf,β₂=10.0). Distortion 0.413. Acceptance 31%\n",
      "# Finished iter 12 of 100: Parity 0. Distortion 0.413 at β₁=Inf, β₂=10.0. Acceptance: [0.93, 0.64, 0.31].\n",
      "Temperature 1 of 3:(β₁=Inf,β₂=0.1). Distortion 0.473. Acceptance 88%\n",
      "Temperature 2 of 3:(β₁=Inf,β₂=1.0). Distortion 0.45. Acceptance 60%\n",
      "Temperature 3 of 3:(β₁=Inf,β₂=10.0). Distortion 0.419. Acceptance 36%\n",
      "# Finished iter 13 of 100: Parity 0. Distortion 0.419 at β₁=Inf, β₂=10.0. Acceptance: [0.88, 0.6, 0.36].\n",
      "Temperature 1 of 3:(β₁=Inf,β₂=0.1). Distortion 0.468. Acceptance 85%\n",
      "Temperature 2 of 3:(β₁=Inf,β₂=1.0). Distortion 0.442. Acceptance 55%\n",
      "Temperature 3 of 3:(β₁=Inf,β₂=10.0). Distortion 0.413. Acceptance 31%\n",
      "# Finished iter 14 of 100: Parity 0. Distortion 0.413 at β₁=Inf, β₂=10.0. Acceptance: [0.85, 0.55, 0.31].\n",
      "Temperature 1 of 3:(β₁=Inf,β₂=0.1). Distortion 0.482. Acceptance 90%\n",
      "Temperature 2 of 3:(β₁=Inf,β₂=1.0). Distortion 0.45. Acceptance 69%\n",
      "Temperature 3 of 3:(β₁=Inf,β₂=10.0). Distortion 0.43. Acceptance 33%\n",
      "# Finished iter 15 of 100: Parity 0. Distortion 0.430 at β₁=Inf, β₂=10.0. Acceptance: [0.9, 0.69, 0.33].\n",
      "Temperature 1 of 3:(β₁=Inf,β₂=0.1). Distortion 0.483. Acceptance 92%\n",
      "Temperature 2 of 3:(β₁=Inf,β₂=1.0). Distortion 0.453. Acceptance 60%\n",
      "Temperature 3 of 3:(β₁=Inf,β₂=10.0). Distortion 0.413. Acceptance 38%\n",
      "# Finished iter 16 of 100: Parity 0. Distortion 0.413 at β₁=Inf, β₂=10.0. Acceptance: [0.92, 0.6, 0.38].\n",
      "Temperature 1 of 3:(β₁=Inf,β₂=0.1). Distortion 0.513. Acceptance 94%\n",
      "Temperature 2 of 3:(β₁=Inf,β₂=1.0). Distortion 0.46. Acceptance 71%\n",
      "Temperature 3 of 3:(β₁=Inf,β₂=10.0). Distortion 0.436. Acceptance 35%\n",
      "# Finished iter 17 of 100: Parity 0. Distortion 0.436 at β₁=Inf, β₂=10.0. Acceptance: [0.94, 0.71, 0.35].\n",
      "Temperature 1 of 3:(β₁=Inf,β₂=0.1). Distortion 0.477. Acceptance 91%\n",
      "Temperature 2 of 3:(β₁=Inf,β₂=1.0). Distortion 0.446. Acceptance 59%\n",
      "Temperature 3 of 3:(β₁=Inf,β₂=10.0). Distortion 0.421. Acceptance 29%\n",
      "# Finished iter 18 of 100: Parity 0. Distortion 0.421 at β₁=Inf, β₂=10.0. Acceptance: [0.91, 0.59, 0.29].\n",
      "Temperature 1 of 3:(β₁=Inf,β₂=0.1). Distortion 0.47. Acceptance 91%\n",
      "Temperature 2 of 3:(β₁=Inf,β₂=1.0). Distortion 0.42. Acceptance 60%\n"
     ]
    },
    {
     "name": "stdout",
     "output_type": "stream",
     "text": [
      "Temperature 3 of 3:(β₁=Inf,β₂=10.0). Distortion 0.397. Acceptance 25%\n",
      "# Finished iter 19 of 100: Parity 0. Distortion 0.397 at β₁=Inf, β₂=10.0. Acceptance: [0.91, 0.6, 0.25].\n",
      "Temperature 1 of 3:(β₁=Inf,β₂=0.1). Distortion 0.488. Acceptance 96%\n",
      "Temperature 2 of 3:(β₁=Inf,β₂=1.0). Distortion 0.449. Acceptance 63%\n",
      "Temperature 3 of 3:(β₁=Inf,β₂=10.0). Distortion 0.413. Acceptance 36%\n",
      "# Finished iter 20 of 100: Parity 0. Distortion 0.413 at β₁=Inf, β₂=10.0. Acceptance: [0.96, 0.63, 0.36].\n",
      "Temperature 1 of 3:(β₁=Inf,β₂=0.1). Distortion 0.477. Acceptance 91%\n",
      "Temperature 2 of 3:(β₁=Inf,β₂=1.0). Distortion 0.437. Acceptance 58%\n",
      "Temperature 3 of 3:(β₁=Inf,β₂=10.0). Distortion 0.417. Acceptance 28%\n",
      "# Finished iter 21 of 100: Parity 0. Distortion 0.417 at β₁=Inf, β₂=10.0. Acceptance: [0.91, 0.58, 0.28].\n",
      "Temperature 1 of 3:(β₁=Inf,β₂=0.1). Distortion 0.474. Acceptance 95%\n",
      "Temperature 2 of 3:(β₁=Inf,β₂=1.0). Distortion 0.445. Acceptance 57%\n",
      "Temperature 3 of 3:(β₁=Inf,β₂=10.0). Distortion 0.424. Acceptance 37%\n",
      "# Finished iter 22 of 100: Parity 0. Distortion 0.424 at β₁=Inf, β₂=10.0. Acceptance: [0.95, 0.57, 0.37].\n",
      "Temperature 1 of 3:(β₁=Inf,β₂=0.1). Distortion 0.481. Acceptance 91%\n",
      "Temperature 2 of 3:(β₁=Inf,β₂=1.0). Distortion 0.454. Acceptance 64%\n",
      "Temperature 3 of 3:(β₁=Inf,β₂=10.0). Distortion 0.432. Acceptance 31%\n",
      "# Finished iter 23 of 100: Parity 0. Distortion 0.432 at β₁=Inf, β₂=10.0. Acceptance: [0.91, 0.64, 0.31].\n",
      "Temperature 1 of 3:(β₁=Inf,β₂=0.1). Distortion 0.461. Acceptance 92%\n",
      "Temperature 2 of 3:(β₁=Inf,β₂=1.0). Distortion 0.431. Acceptance 59%\n",
      "Temperature 3 of 3:(β₁=Inf,β₂=10.0). Distortion 0.404. Acceptance 37%\n",
      "# Finished iter 24 of 100: Parity 0. Distortion 0.404 at β₁=Inf, β₂=10.0. Acceptance: [0.92, 0.59, 0.37].\n",
      "Temperature 1 of 3:(β₁=Inf,β₂=0.1). Distortion 0.476. Acceptance 90%\n",
      "Temperature 2 of 3:(β₁=Inf,β₂=1.0). Distortion 0.459. Acceptance 49%\n",
      "Temperature 3 of 3:(β₁=Inf,β₂=10.0). Distortion 0.431. Acceptance 35%\n",
      "# Finished iter 25 of 100: Parity 0. Distortion 0.431 at β₁=Inf, β₂=10.0. Acceptance: [0.9, 0.49, 0.35].\n",
      "Temperature 1 of 3:(β₁=Inf,β₂=0.1). Distortion 0.484. Acceptance 89%\n",
      "Temperature 2 of 3:(β₁=Inf,β₂=1.0). Distortion 0.444. Acceptance 64%\n",
      "Temperature 3 of 3:(β₁=Inf,β₂=10.0). Distortion 0.419. Acceptance 39%\n",
      "# Finished iter 26 of 100: Parity 0. Distortion 0.419 at β₁=Inf, β₂=10.0. Acceptance: [0.89, 0.64, 0.39].\n",
      "Temperature 1 of 3:(β₁=Inf,β₂=0.1). Distortion 0.497. Acceptance 87%\n",
      "Temperature 2 of 3:(β₁=Inf,β₂=1.0). Distortion 0.452. Acceptance 64%\n",
      "Temperature 3 of 3:(β₁=Inf,β₂=10.0). Distortion 0.431. Acceptance 33%\n",
      "# Finished iter 27 of 100: Parity 0. Distortion 0.431 at β₁=Inf, β₂=10.0. Acceptance: [0.87, 0.64, 0.33].\n",
      "Temperature 1 of 3:(β₁=Inf,β₂=0.1). Distortion 0.481. Acceptance 90%\n",
      "Temperature 2 of 3:(β₁=Inf,β₂=1.0). Distortion 0.443. Acceptance 59%\n",
      "Temperature 3 of 3:(β₁=Inf,β₂=10.0). Distortion 0.424. Acceptance 27%\n",
      "# Finished iter 28 of 100: Parity 0. Distortion 0.424 at β₁=Inf, β₂=10.0. Acceptance: [0.9, 0.59, 0.27].\n",
      "Temperature 1 of 3:(β₁=Inf,β₂=0.1). Distortion 0.482. Acceptance 93%\n",
      "Temperature 2 of 3:(β₁=Inf,β₂=1.0). Distortion 0.445. Acceptance 52%\n",
      "Temperature 3 of 3:(β₁=Inf,β₂=10.0). Distortion 0.425. Acceptance 28%\n",
      "# Finished iter 29 of 100: Parity 0. Distortion 0.425 at β₁=Inf, β₂=10.0. Acceptance: [0.93, 0.52, 0.28].\n",
      "Temperature 1 of 3:(β₁=Inf,β₂=0.1). Distortion 0.463. Acceptance 89%\n",
      "Temperature 2 of 3:(β₁=Inf,β₂=1.0). Distortion 0.446. Acceptance 55%\n",
      "Temperature 3 of 3:(β₁=Inf,β₂=10.0). Distortion 0.416. Acceptance 31%\n",
      "# Finished iter 30 of 100: Parity 0. Distortion 0.416 at β₁=Inf, β₂=10.0. Acceptance: [0.89, 0.55, 0.31].\n",
      "Temperature 1 of 3:(β₁=Inf,β₂=0.1). Distortion 0.468. Acceptance 88%\n",
      "Temperature 2 of 3:(β₁=Inf,β₂=1.0). Distortion 0.446. Acceptance 49%\n",
      "Temperature 3 of 3:(β₁=Inf,β₂=10.0). Distortion 0.419. Acceptance 25%\n",
      "# Finished iter 31 of 100: Parity 0. Distortion 0.419 at β₁=Inf, β₂=10.0. Acceptance: [0.88, 0.49, 0.25].\n",
      "Temperature 1 of 3:(β₁=Inf,β₂=0.1). Distortion 0.477. Acceptance 93%\n",
      "Temperature 2 of 3:(β₁=Inf,β₂=1.0). Distortion 0.437. Acceptance 75%\n",
      "Temperature 3 of 3:(β₁=Inf,β₂=10.0). Distortion 0.405. Acceptance 42%\n",
      "# Finished iter 32 of 100: Parity 0. Distortion 0.405 at β₁=Inf, β₂=10.0. Acceptance: [0.93, 0.75, 0.42].\n",
      "Temperature 1 of 3:(β₁=Inf,β₂=0.1). Distortion 0.437. Acceptance 90%\n",
      "Temperature 2 of 3:(β₁=Inf,β₂=1.0). Distortion 0.422. Acceptance 67%\n",
      "Temperature 3 of 3:(β₁=Inf,β₂=10.0). Distortion 0.396. Acceptance 34%\n",
      "# Finished iter 33 of 100: Parity 0. Distortion 0.396 at β₁=Inf, β₂=10.0. Acceptance: [0.9, 0.67, 0.34].\n",
      "Temperature 1 of 3:(β₁=Inf,β₂=0.1). Distortion 0.481. Acceptance 94%\n",
      "Temperature 2 of 3:(β₁=Inf,β₂=1.0). Distortion 0.449. Acceptance 57%\n",
      "Temperature 3 of 3:(β₁=Inf,β₂=10.0). Distortion 0.424. Acceptance 29%\n",
      "# Finished iter 34 of 100: Parity 0. Distortion 0.424 at β₁=Inf, β₂=10.0. Acceptance: [0.94, 0.57, 0.29].\n",
      "Temperature 1 of 3:(β₁=Inf,β₂=0.1). Distortion 0.473. Acceptance 94%\n",
      "Temperature 2 of 3:(β₁=Inf,β₂=1.0). Distortion 0.425. Acceptance 62%\n",
      "Temperature 3 of 3:(β₁=Inf,β₂=10.0). Distortion 0.401. Acceptance 32%\n",
      "# Finished iter 35 of 100: Parity 0. Distortion 0.401 at β₁=Inf, β₂=10.0. Acceptance: [0.94, 0.62, 0.32].\n",
      "Temperature 1 of 3:(β₁=Inf,β₂=0.1). Distortion 0.482. Acceptance 94%\n",
      "Temperature 2 of 3:(β₁=Inf,β₂=1.0). Distortion 0.451. Acceptance 56%\n",
      "Temperature 3 of 3:(β₁=Inf,β₂=10.0). Distortion 0.436. Acceptance 29%\n",
      "# Finished iter 36 of 100: Parity 0. Distortion 0.436 at β₁=Inf, β₂=10.0. Acceptance: [0.94, 0.56, 0.29].\n",
      "Temperature 1 of 3:(β₁=Inf,β₂=0.1). Distortion 0.483. Acceptance 92%\n",
      "Temperature 2 of 3:(β₁=Inf,β₂=1.0). Distortion 0.452. Acceptance 63%\n",
      "Temperature 3 of 3:(β₁=Inf,β₂=10.0). Distortion 0.423. Acceptance 36%\n",
      "# Finished iter 37 of 100: Parity 0. Distortion 0.423 at β₁=Inf, β₂=10.0. Acceptance: [0.92, 0.63, 0.36].\n",
      "Temperature 1 of 3:(β₁=Inf,β₂=0.1). Distortion 0.488. Acceptance 89%\n",
      "Temperature 2 of 3:(β₁=Inf,β₂=1.0). Distortion 0.467. Acceptance 63%\n",
      "Temperature 3 of 3:(β₁=Inf,β₂=10.0). Distortion 0.433. Acceptance 34%\n",
      "# Finished iter 38 of 100: Parity 0. Distortion 0.433 at β₁=Inf, β₂=10.0. Acceptance: [0.89, 0.63, 0.34].\n",
      "Temperature 1 of 3:(β₁=Inf,β₂=0.1). Distortion 0.483. Acceptance 92%\n",
      "Temperature 2 of 3:(β₁=Inf,β₂=1.0). Distortion 0.444. Acceptance 58%\n",
      "Temperature 3 of 3:(β₁=Inf,β₂=10.0). Distortion 0.417. Acceptance 23%\n",
      "# Finished iter 39 of 100: Parity 0. Distortion 0.417 at β₁=Inf, β₂=10.0. Acceptance: [0.92, 0.58, 0.23].\n",
      "Temperature 1 of 3:(β₁=Inf,β₂=0.1). Distortion 0.485. Acceptance 88%\n",
      "Temperature 2 of 3:(β₁=Inf,β₂=1.0). Distortion 0.464. Acceptance 62%\n",
      "Temperature 3 of 3:(β₁=Inf,β₂=10.0). Distortion 0.436. Acceptance 35%\n",
      "# Finished iter 40 of 100: Parity 0. Distortion 0.436 at β₁=Inf, β₂=10.0. Acceptance: [0.88, 0.62, 0.35].\n",
      "Temperature 1 of 3:(β₁=Inf,β₂=0.1). Distortion 0.475. Acceptance 91%\n",
      "Temperature 2 of 3:(β₁=Inf,β₂=1.0). Distortion 0.438. Acceptance 53%\n",
      "Temperature 3 of 3:(β₁=Inf,β₂=10.0). Distortion 0.414. Acceptance 31%\n",
      "# Finished iter 41 of 100: Parity 0. Distortion 0.414 at β₁=Inf, β₂=10.0. Acceptance: [0.91, 0.53, 0.31].\n",
      "Temperature 1 of 3:(β₁=Inf,β₂=0.1). Distortion 0.467. Acceptance 89%\n",
      "Temperature 2 of 3:(β₁=Inf,β₂=1.0). Distortion 0.419. Acceptance 61%\n",
      "Temperature 3 of 3:(β₁=Inf,β₂=10.0). Distortion 0.401. Acceptance 30%\n",
      "# Finished iter 42 of 100: Parity 0. Distortion 0.401 at β₁=Inf, β₂=10.0. Acceptance: [0.89, 0.61, 0.3].\n",
      "Temperature 1 of 3:(β₁=Inf,β₂=0.1). Distortion 0.481. Acceptance 87%\n",
      "Temperature 2 of 3:(β₁=Inf,β₂=1.0). Distortion 0.454. Acceptance 65%\n",
      "Temperature 3 of 3:(β₁=Inf,β₂=10.0). Distortion 0.416. Acceptance 34%\n",
      "# Finished iter 43 of 100: Parity 0. Distortion 0.416 at β₁=Inf, β₂=10.0. Acceptance: [0.87, 0.65, 0.34].\n",
      "Temperature 1 of 3:(β₁=Inf,β₂=0.1). Distortion 0.482. Acceptance 91%\n",
      "Temperature 2 of 3:(β₁=Inf,β₂=1.0). Distortion 0.441. Acceptance 59%\n",
      "Temperature 3 of 3:(β₁=Inf,β₂=10.0). Distortion 0.422. Acceptance 28%\n",
      "# Finished iter 44 of 100: Parity 0. Distortion 0.422 at β₁=Inf, β₂=10.0. Acceptance: [0.91, 0.59, 0.28].\n",
      "Temperature 1 of 3:(β₁=Inf,β₂=0.1). Distortion 0.482. Acceptance 91%\n",
      "Temperature 2 of 3:(β₁=Inf,β₂=1.0). Distortion 0.447. Acceptance 61%\n",
      "Temperature 3 of 3:(β₁=Inf,β₂=10.0). Distortion 0.408. Acceptance 36%\n",
      "# Finished iter 45 of 100: Parity 0. Distortion 0.408 at β₁=Inf, β₂=10.0. Acceptance: [0.91, 0.61, 0.36].\n"
     ]
    },
    {
     "name": "stdout",
     "output_type": "stream",
     "text": [
      "Temperature 1 of 3:(β₁=Inf,β₂=0.1). Distortion 0.481. Acceptance 91%\n",
      "Temperature 2 of 3:(β₁=Inf,β₂=1.0). Distortion 0.437. Acceptance 51%\n",
      "Temperature 3 of 3:(β₁=Inf,β₂=10.0). Distortion 0.426. Acceptance 27%\n",
      "# Finished iter 46 of 100: Parity 0. Distortion 0.426 at β₁=Inf, β₂=10.0. Acceptance: [0.91, 0.51, 0.27].\n",
      "Temperature 1 of 3:(β₁=Inf,β₂=0.1). Distortion 0.502. Acceptance 91%\n",
      "Temperature 2 of 3:(β₁=Inf,β₂=1.0). Distortion 0.445. Acceptance 63%\n",
      "Temperature 3 of 3:(β₁=Inf,β₂=10.0). Distortion 0.417. Acceptance 32%\n",
      "# Finished iter 47 of 100: Parity 0. Distortion 0.417 at β₁=Inf, β₂=10.0. Acceptance: [0.91, 0.63, 0.32].\n",
      "Temperature 1 of 3:(β₁=Inf,β₂=0.1). Distortion 0.463. Acceptance 91%\n",
      "Temperature 2 of 3:(β₁=Inf,β₂=1.0). Distortion 0.439. Acceptance 49%\n",
      "Temperature 3 of 3:(β₁=Inf,β₂=10.0). Distortion 0.428. Acceptance 29%\n",
      "# Finished iter 48 of 100: Parity 0. Distortion 0.428 at β₁=Inf, β₂=10.0. Acceptance: [0.91, 0.49, 0.29].\n",
      "Temperature 1 of 3:(β₁=Inf,β₂=0.1). Distortion 0.482. Acceptance 87%\n",
      "Temperature 2 of 3:(β₁=Inf,β₂=1.0). Distortion 0.445. Acceptance 58%\n",
      "Temperature 3 of 3:(β₁=Inf,β₂=10.0). Distortion 0.429. Acceptance 29%\n",
      "# Finished iter 49 of 100: Parity 0. Distortion 0.429 at β₁=Inf, β₂=10.0. Acceptance: [0.87, 0.58, 0.29].\n",
      "Temperature 1 of 3:(β₁=Inf,β₂=0.1). Distortion 0.482. Acceptance 88%\n",
      "Temperature 2 of 3:(β₁=Inf,β₂=1.0). Distortion 0.442. Acceptance 49%\n",
      "Temperature 3 of 3:(β₁=Inf,β₂=10.0). Distortion 0.42. Acceptance 30%\n",
      "# Finished iter 50 of 100: Parity 0. Distortion 0.420 at β₁=Inf, β₂=10.0. Acceptance: [0.88, 0.49, 0.3].\n",
      "Temperature 1 of 3:(β₁=Inf,β₂=0.1). Distortion 0.488. Acceptance 95%\n",
      "Temperature 2 of 3:(β₁=Inf,β₂=1.0). Distortion 0.446. Acceptance 66%\n",
      "Temperature 3 of 3:(β₁=Inf,β₂=10.0). Distortion 0.425. Acceptance 27%\n",
      "# Finished iter 51 of 100: Parity 0. Distortion 0.425 at β₁=Inf, β₂=10.0. Acceptance: [0.95, 0.66, 0.27].\n",
      "Temperature 1 of 3:(β₁=Inf,β₂=0.1). Distortion 0.458. Acceptance 87%\n",
      "Temperature 2 of 3:(β₁=Inf,β₂=1.0). Distortion 0.424. Acceptance 61%\n",
      "Temperature 3 of 3:(β₁=Inf,β₂=10.0). Distortion 0.395. Acceptance 35%\n",
      "# Finished iter 52 of 100: Parity 0. Distortion 0.395 at β₁=Inf, β₂=10.0. Acceptance: [0.87, 0.61, 0.35].\n",
      "Temperature 1 of 3:(β₁=Inf,β₂=0.1). Distortion 0.462. Acceptance 92%\n",
      "Temperature 2 of 3:(β₁=Inf,β₂=1.0). Distortion 0.436. Acceptance 50%\n",
      "Temperature 3 of 3:(β₁=Inf,β₂=10.0). Distortion 0.417. Acceptance 20%\n",
      "# Finished iter 53 of 100: Parity 0. Distortion 0.417 at β₁=Inf, β₂=10.0. Acceptance: [0.92, 0.5, 0.2].\n",
      "Temperature 1 of 3:(β₁=Inf,β₂=0.1). Distortion 0.463. Acceptance 88%\n",
      "Temperature 2 of 3:(β₁=Inf,β₂=1.0). Distortion 0.459. Acceptance 67%\n",
      "Temperature 3 of 3:(β₁=Inf,β₂=10.0). Distortion 0.422. Acceptance 38%\n",
      "# Finished iter 54 of 100: Parity 0. Distortion 0.422 at β₁=Inf, β₂=10.0. Acceptance: [0.88, 0.67, 0.38].\n",
      "Temperature 1 of 3:(β₁=Inf,β₂=0.1). Distortion 0.474. Acceptance 89%\n",
      "Temperature 2 of 3:(β₁=Inf,β₂=1.0). Distortion 0.433. Acceptance 58%\n",
      "Temperature 3 of 3:(β₁=Inf,β₂=10.0). Distortion 0.412. Acceptance 20%\n",
      "# Finished iter 55 of 100: Parity 0. Distortion 0.412 at β₁=Inf, β₂=10.0. Acceptance: [0.89, 0.58, 0.2].\n",
      "Temperature 1 of 3:(β₁=Inf,β₂=0.1). Distortion 0.474. Acceptance 92%\n",
      "Temperature 2 of 3:(β₁=Inf,β₂=1.0). Distortion 0.435. Acceptance 62%\n",
      "Temperature 3 of 3:(β₁=Inf,β₂=10.0). Distortion 0.412. Acceptance 32%\n",
      "# Finished iter 56 of 100: Parity 0. Distortion 0.412 at β₁=Inf, β₂=10.0. Acceptance: [0.92, 0.62, 0.32].\n",
      "Temperature 1 of 3:(β₁=Inf,β₂=0.1). Distortion 0.456. Acceptance 91%\n",
      "Temperature 2 of 3:(β₁=Inf,β₂=1.0). Distortion 0.429. Acceptance 55%\n",
      "Temperature 3 of 3:(β₁=Inf,β₂=10.0). Distortion 0.406. Acceptance 28%\n",
      "# Finished iter 57 of 100: Parity 0. Distortion 0.406 at β₁=Inf, β₂=10.0. Acceptance: [0.91, 0.55, 0.28].\n",
      "Temperature 1 of 3:(β₁=Inf,β₂=0.1). Distortion 0.471. Acceptance 88%\n",
      "Temperature 2 of 3:(β₁=Inf,β₂=1.0). Distortion 0.45. Acceptance 63%\n",
      "Temperature 3 of 3:(β₁=Inf,β₂=10.0). Distortion 0.432. Acceptance 27%\n",
      "# Finished iter 58 of 100: Parity 0. Distortion 0.432 at β₁=Inf, β₂=10.0. Acceptance: [0.88, 0.63, 0.27].\n",
      "Temperature 1 of 3:(β₁=Inf,β₂=0.1). Distortion 0.486. Acceptance 93%\n",
      "Temperature 2 of 3:(β₁=Inf,β₂=1.0). Distortion 0.451. Acceptance 64%\n",
      "Temperature 3 of 3:(β₁=Inf,β₂=10.0). Distortion 0.426. Acceptance 40%\n",
      "# Finished iter 59 of 100: Parity 0. Distortion 0.426 at β₁=Inf, β₂=10.0. Acceptance: [0.93, 0.64, 0.4].\n",
      "Temperature 1 of 3:(β₁=Inf,β₂=0.1). Distortion 0.497. Acceptance 91%\n",
      "Temperature 2 of 3:(β₁=Inf,β₂=1.0). Distortion 0.451. Acceptance 62%\n",
      "Temperature 3 of 3:(β₁=Inf,β₂=10.0). Distortion 0.436. Acceptance 37%\n",
      "# Finished iter 60 of 100: Parity 0. Distortion 0.436 at β₁=Inf, β₂=10.0. Acceptance: [0.91, 0.62, 0.37].\n",
      "Temperature 1 of 3:(β₁=Inf,β₂=0.1). Distortion 0.493. Acceptance 94%\n",
      "Temperature 2 of 3:(β₁=Inf,β₂=1.0). Distortion 0.467. Acceptance 46%\n",
      "Temperature 3 of 3:(β₁=Inf,β₂=10.0). Distortion 0.433. Acceptance 32%\n",
      "# Finished iter 61 of 100: Parity 0. Distortion 0.433 at β₁=Inf, β₂=10.0. Acceptance: [0.94, 0.46, 0.32].\n",
      "Temperature 1 of 3:(β₁=Inf,β₂=0.1). Distortion 0.473. Acceptance 92%\n",
      "Temperature 2 of 3:(β₁=Inf,β₂=1.0). Distortion 0.428. Acceptance 58%\n",
      "Temperature 3 of 3:(β₁=Inf,β₂=10.0). Distortion 0.411. Acceptance 31%\n",
      "# Finished iter 62 of 100: Parity 0. Distortion 0.411 at β₁=Inf, β₂=10.0. Acceptance: [0.92, 0.58, 0.31].\n",
      "Temperature 1 of 3:(β₁=Inf,β₂=0.1). Distortion 0.501. Acceptance 94%\n",
      "Temperature 2 of 3:(β₁=Inf,β₂=1.0). Distortion 0.454. Acceptance 67%\n",
      "Temperature 3 of 3:(β₁=Inf,β₂=10.0). Distortion 0.431. Acceptance 31%\n",
      "# Finished iter 63 of 100: Parity 0. Distortion 0.431 at β₁=Inf, β₂=10.0. Acceptance: [0.94, 0.67, 0.31].\n",
      "Temperature 1 of 3:(β₁=Inf,β₂=0.1). Distortion 0.488. Acceptance 96%\n",
      "Temperature 2 of 3:(β₁=Inf,β₂=1.0). Distortion 0.454. Acceptance 55%\n",
      "Temperature 3 of 3:(β₁=Inf,β₂=10.0). Distortion 0.422. Acceptance 35%\n",
      "# Finished iter 64 of 100: Parity 0. Distortion 0.422 at β₁=Inf, β₂=10.0. Acceptance: [0.96, 0.55, 0.35].\n",
      "Temperature 1 of 3:(β₁=Inf,β₂=0.1). Distortion 0.468. Acceptance 94%\n",
      "Temperature 2 of 3:(β₁=Inf,β₂=1.0). Distortion 0.415. Acceptance 58%\n",
      "Temperature 3 of 3:(β₁=Inf,β₂=10.0). Distortion 0.394. Acceptance 27%\n",
      "# Finished iter 65 of 100: Parity 0. Distortion 0.394 at β₁=Inf, β₂=10.0. Acceptance: [0.94, 0.58, 0.27].\n",
      "Temperature 1 of 3:(β₁=Inf,β₂=0.1). Distortion 0.473. Acceptance 91%\n",
      "Temperature 2 of 3:(β₁=Inf,β₂=1.0). Distortion 0.438. Acceptance 60%\n",
      "Temperature 3 of 3:(β₁=Inf,β₂=10.0). Distortion 0.415. Acceptance 38%\n",
      "# Finished iter 66 of 100: Parity 0. Distortion 0.415 at β₁=Inf, β₂=10.0. Acceptance: [0.91, 0.6, 0.38].\n",
      "Temperature 1 of 3:(β₁=Inf,β₂=0.1). Distortion 0.484. Acceptance 88%\n",
      "Temperature 2 of 3:(β₁=Inf,β₂=1.0). Distortion 0.448. Acceptance 64%\n",
      "Temperature 3 of 3:(β₁=Inf,β₂=10.0). Distortion 0.424. Acceptance 31%\n",
      "# Finished iter 67 of 100: Parity 0. Distortion 0.424 at β₁=Inf, β₂=10.0. Acceptance: [0.88, 0.64, 0.31].\n",
      "Temperature 1 of 3:(β₁=Inf,β₂=0.1). Distortion 0.487. Acceptance 92%\n",
      "Temperature 2 of 3:(β₁=Inf,β₂=1.0). Distortion 0.456. Acceptance 62%\n",
      "Temperature 3 of 3:(β₁=Inf,β₂=10.0). Distortion 0.434. Acceptance 39%\n",
      "# Finished iter 68 of 100: Parity 0. Distortion 0.434 at β₁=Inf, β₂=10.0. Acceptance: [0.92, 0.62, 0.39].\n",
      "Temperature 1 of 3:(β₁=Inf,β₂=0.1). Distortion 0.482. Acceptance 92%\n",
      "Temperature 2 of 3:(β₁=Inf,β₂=1.0). Distortion 0.444. Acceptance 57%\n",
      "Temperature 3 of 3:(β₁=Inf,β₂=10.0). Distortion 0.415. Acceptance 32%\n",
      "# Finished iter 69 of 100: Parity 0. Distortion 0.415 at β₁=Inf, β₂=10.0. Acceptance: [0.92, 0.57, 0.32].\n",
      "Temperature 1 of 3:(β₁=Inf,β₂=0.1). Distortion 0.462. Acceptance 93%\n",
      "Temperature 2 of 3:(β₁=Inf,β₂=1.0). Distortion 0.452. Acceptance 63%\n",
      "Temperature 3 of 3:(β₁=Inf,β₂=10.0). Distortion 0.421. Acceptance 39%\n",
      "# Finished iter 70 of 100: Parity 0. Distortion 0.421 at β₁=Inf, β₂=10.0. Acceptance: [0.93, 0.63, 0.39].\n",
      "Temperature 1 of 3:(β₁=Inf,β₂=0.1). Distortion 0.475. Acceptance 87%\n",
      "Temperature 2 of 3:(β₁=Inf,β₂=1.0). Distortion 0.455. Acceptance 63%\n",
      "Temperature 3 of 3:(β₁=Inf,β₂=10.0). Distortion 0.43. Acceptance 31%\n",
      "# Finished iter 71 of 100: Parity 0. Distortion 0.430 at β₁=Inf, β₂=10.0. Acceptance: [0.87, 0.63, 0.31].\n",
      "Temperature 1 of 3:(β₁=Inf,β₂=0.1). Distortion 0.482. Acceptance 90%\n"
     ]
    },
    {
     "name": "stdout",
     "output_type": "stream",
     "text": [
      "Temperature 2 of 3:(β₁=Inf,β₂=1.0). Distortion 0.436. Acceptance 56%\n",
      "Temperature 3 of 3:(β₁=Inf,β₂=10.0). Distortion 0.419. Acceptance 21%\n",
      "# Finished iter 72 of 100: Parity 0. Distortion 0.419 at β₁=Inf, β₂=10.0. Acceptance: [0.9, 0.56, 0.21].\n",
      "Temperature 1 of 3:(β₁=Inf,β₂=0.1). Distortion 0.482. Acceptance 93%\n",
      "Temperature 2 of 3:(β₁=Inf,β₂=1.0). Distortion 0.449. Acceptance 59%\n",
      "Temperature 3 of 3:(β₁=Inf,β₂=10.0). Distortion 0.417. Acceptance 37%\n",
      "# Finished iter 73 of 100: Parity 0. Distortion 0.417 at β₁=Inf, β₂=10.0. Acceptance: [0.93, 0.59, 0.37].\n",
      "Temperature 1 of 3:(β₁=Inf,β₂=0.1). Distortion 0.486. Acceptance 90%\n",
      "Temperature 2 of 3:(β₁=Inf,β₂=1.0). Distortion 0.445. Acceptance 54%\n",
      "Temperature 3 of 3:(β₁=Inf,β₂=10.0). Distortion 0.42. Acceptance 24%\n",
      "# Finished iter 74 of 100: Parity 0. Distortion 0.420 at β₁=Inf, β₂=10.0. Acceptance: [0.9, 0.54, 0.24].\n",
      "Temperature 1 of 3:(β₁=Inf,β₂=0.1). Distortion 0.486. Acceptance 89%\n",
      "Temperature 2 of 3:(β₁=Inf,β₂=1.0). Distortion 0.458. Acceptance 59%\n",
      "Temperature 3 of 3:(β₁=Inf,β₂=10.0). Distortion 0.435. Acceptance 27%\n",
      "# Finished iter 75 of 100: Parity 0. Distortion 0.435 at β₁=Inf, β₂=10.0. Acceptance: [0.89, 0.59, 0.27].\n",
      "Temperature 1 of 3:(β₁=Inf,β₂=0.1). Distortion 0.485. Acceptance 93%\n",
      "Temperature 2 of 3:(β₁=Inf,β₂=1.0). Distortion 0.449. Acceptance 60%\n",
      "Temperature 3 of 3:(β₁=Inf,β₂=10.0). Distortion 0.421. Acceptance 31%\n",
      "# Finished iter 76 of 100: Parity 0. Distortion 0.421 at β₁=Inf, β₂=10.0. Acceptance: [0.93, 0.6, 0.31].\n",
      "Temperature 1 of 3:(β₁=Inf,β₂=0.1). Distortion 0.509. Acceptance 92%\n",
      "Temperature 2 of 3:(β₁=Inf,β₂=1.0). Distortion 0.465. Acceptance 57%\n",
      "Temperature 3 of 3:(β₁=Inf,β₂=10.0). Distortion 0.436. Acceptance 38%\n",
      "# Finished iter 77 of 100: Parity 0. Distortion 0.436 at β₁=Inf, β₂=10.0. Acceptance: [0.92, 0.57, 0.38].\n",
      "Temperature 1 of 3:(β₁=Inf,β₂=0.1). Distortion 0.474. Acceptance 92%\n",
      "Temperature 2 of 3:(β₁=Inf,β₂=1.0). Distortion 0.451. Acceptance 64%\n",
      "Temperature 3 of 3:(β₁=Inf,β₂=10.0). Distortion 0.419. Acceptance 41%\n",
      "# Finished iter 78 of 100: Parity 0. Distortion 0.419 at β₁=Inf, β₂=10.0. Acceptance: [0.92, 0.64, 0.41].\n",
      "Temperature 1 of 3:(β₁=Inf,β₂=0.1). Distortion 0.482. Acceptance 94%\n",
      "Temperature 2 of 3:(β₁=Inf,β₂=1.0). Distortion 0.441. Acceptance 67%\n",
      "Temperature 3 of 3:(β₁=Inf,β₂=10.0). Distortion 0.414. Acceptance 35%\n",
      "# Finished iter 79 of 100: Parity 0. Distortion 0.414 at β₁=Inf, β₂=10.0. Acceptance: [0.94, 0.67, 0.35].\n",
      "Temperature 1 of 3:(β₁=Inf,β₂=0.1). Distortion 0.476. Acceptance 87%\n",
      "Temperature 2 of 3:(β₁=Inf,β₂=1.0). Distortion 0.456. Acceptance 57%\n",
      "Temperature 3 of 3:(β₁=Inf,β₂=10.0). Distortion 0.432. Acceptance 31%\n",
      "# Finished iter 80 of 100: Parity 0. Distortion 0.432 at β₁=Inf, β₂=10.0. Acceptance: [0.87, 0.57, 0.31].\n",
      "Temperature 1 of 3:(β₁=Inf,β₂=0.1). Distortion 0.441. Acceptance 94%\n",
      "Temperature 2 of 3:(β₁=Inf,β₂=1.0). Distortion 0.419. Acceptance 57%\n",
      "Temperature 3 of 3:(β₁=Inf,β₂=10.0). Distortion 0.384. Acceptance 30%\n",
      "# Finished iter 81 of 100: Parity 0. Distortion 0.384 at β₁=Inf, β₂=10.0. Acceptance: [0.94, 0.57, 0.3].\n",
      "Temperature 1 of 3:(β₁=Inf,β₂=0.1). Distortion 0.478. Acceptance 94%\n",
      "Temperature 2 of 3:(β₁=Inf,β₂=1.0). Distortion 0.438. Acceptance 56%\n",
      "Temperature 3 of 3:(β₁=Inf,β₂=10.0). Distortion 0.415. Acceptance 32%\n",
      "# Finished iter 82 of 100: Parity 0. Distortion 0.415 at β₁=Inf, β₂=10.0. Acceptance: [0.94, 0.56, 0.32].\n",
      "Temperature 1 of 3:(β₁=Inf,β₂=0.1). Distortion 0.487. Acceptance 95%\n",
      "Temperature 2 of 3:(β₁=Inf,β₂=1.0). Distortion 0.455. Acceptance 62%\n",
      "Temperature 3 of 3:(β₁=Inf,β₂=10.0). Distortion 0.429. Acceptance 33%\n",
      "# Finished iter 83 of 100: Parity 0. Distortion 0.429 at β₁=Inf, β₂=10.0. Acceptance: [0.95, 0.62, 0.33].\n",
      "Temperature 1 of 3:(β₁=Inf,β₂=0.1). Distortion 0.47. Acceptance 93%\n",
      "Temperature 2 of 3:(β₁=Inf,β₂=1.0). Distortion 0.428. Acceptance 60%\n",
      "Temperature 3 of 3:(β₁=Inf,β₂=10.0). Distortion 0.408. Acceptance 22%\n",
      "# Finished iter 84 of 100: Parity 0. Distortion 0.408 at β₁=Inf, β₂=10.0. Acceptance: [0.93, 0.6, 0.22].\n",
      "Temperature 1 of 3:(β₁=Inf,β₂=0.1). Distortion 0.487. Acceptance 94%\n",
      "Temperature 2 of 3:(β₁=Inf,β₂=1.0). Distortion 0.457. Acceptance 63%\n",
      "Temperature 3 of 3:(β₁=Inf,β₂=10.0). Distortion 0.427. Acceptance 31%\n",
      "# Finished iter 85 of 100: Parity 0. Distortion 0.427 at β₁=Inf, β₂=10.0. Acceptance: [0.94, 0.63, 0.31].\n",
      "Temperature 1 of 3:(β₁=Inf,β₂=0.1). Distortion 0.47. Acceptance 90%\n",
      "Temperature 2 of 3:(β₁=Inf,β₂=1.0). Distortion 0.435. Acceptance 58%\n",
      "Temperature 3 of 3:(β₁=Inf,β₂=10.0). Distortion 0.411. Acceptance 26%\n",
      "# Finished iter 86 of 100: Parity 0. Distortion 0.411 at β₁=Inf, β₂=10.0. Acceptance: [0.9, 0.58, 0.26].\n",
      "Temperature 1 of 3:(β₁=Inf,β₂=0.1). Distortion 0.457. Acceptance 92%\n",
      "Temperature 2 of 3:(β₁=Inf,β₂=1.0). Distortion 0.419. Acceptance 51%\n",
      "Temperature 3 of 3:(β₁=Inf,β₂=10.0). Distortion 0.404. Acceptance 21%\n",
      "# Finished iter 87 of 100: Parity 0. Distortion 0.404 at β₁=Inf, β₂=10.0. Acceptance: [0.92, 0.51, 0.21].\n",
      "Temperature 1 of 3:(β₁=Inf,β₂=0.1). Distortion 0.485. Acceptance 91%\n",
      "Temperature 2 of 3:(β₁=Inf,β₂=1.0). Distortion 0.453. Acceptance 56%\n",
      "Temperature 3 of 3:(β₁=Inf,β₂=10.0). Distortion 0.416. Acceptance 40%\n",
      "# Finished iter 88 of 100: Parity 0. Distortion 0.416 at β₁=Inf, β₂=10.0. Acceptance: [0.91, 0.56, 0.4].\n",
      "Temperature 1 of 3:(β₁=Inf,β₂=0.1). Distortion 0.453. Acceptance 89%\n",
      "Temperature 2 of 3:(β₁=Inf,β₂=1.0). Distortion 0.419. Acceptance 58%\n",
      "Temperature 3 of 3:(β₁=Inf,β₂=10.0). Distortion 0.396. Acceptance 31%\n",
      "# Finished iter 89 of 100: Parity 0. Distortion 0.396 at β₁=Inf, β₂=10.0. Acceptance: [0.89, 0.58, 0.31].\n",
      "Temperature 1 of 3:(β₁=Inf,β₂=0.1). Distortion 0.48. Acceptance 93%\n",
      "Temperature 2 of 3:(β₁=Inf,β₂=1.0). Distortion 0.449. Acceptance 69%\n",
      "Temperature 3 of 3:(β₁=Inf,β₂=10.0). Distortion 0.418. Acceptance 35%\n",
      "# Finished iter 90 of 100: Parity 0. Distortion 0.418 at β₁=Inf, β₂=10.0. Acceptance: [0.93, 0.69, 0.35].\n",
      "Temperature 1 of 3:(β₁=Inf,β₂=0.1). Distortion 0.473. Acceptance 91%\n",
      "Temperature 2 of 3:(β₁=Inf,β₂=1.0). Distortion 0.438. Acceptance 59%\n",
      "Temperature 3 of 3:(β₁=Inf,β₂=10.0). Distortion 0.416. Acceptance 31%\n",
      "# Finished iter 91 of 100: Parity 0. Distortion 0.416 at β₁=Inf, β₂=10.0. Acceptance: [0.91, 0.59, 0.31].\n",
      "Temperature 1 of 3:(β₁=Inf,β₂=0.1). Distortion 0.466. Acceptance 88%\n",
      "Temperature 2 of 3:(β₁=Inf,β₂=1.0). Distortion 0.433. Acceptance 53%\n",
      "Temperature 3 of 3:(β₁=Inf,β₂=10.0). Distortion 0.4. Acceptance 31%\n",
      "# Finished iter 92 of 100: Parity 0. Distortion 0.400 at β₁=Inf, β₂=10.0. Acceptance: [0.88, 0.53, 0.31].\n",
      "Temperature 1 of 3:(β₁=Inf,β₂=0.1). Distortion 0.48. Acceptance 95%\n",
      "Temperature 2 of 3:(β₁=Inf,β₂=1.0). Distortion 0.438. Acceptance 63%\n",
      "Temperature 3 of 3:(β₁=Inf,β₂=10.0). Distortion 0.416. Acceptance 24%\n",
      "# Finished iter 93 of 100: Parity 0. Distortion 0.416 at β₁=Inf, β₂=10.0. Acceptance: [0.95, 0.63, 0.24].\n",
      "Temperature 1 of 3:(β₁=Inf,β₂=0.1). Distortion 0.48. Acceptance 91%\n",
      "Temperature 2 of 3:(β₁=Inf,β₂=1.0). Distortion 0.419. Acceptance 61%\n",
      "Temperature 3 of 3:(β₁=Inf,β₂=10.0). Distortion 0.404. Acceptance 25%\n",
      "# Finished iter 94 of 100: Parity 0. Distortion 0.404 at β₁=Inf, β₂=10.0. Acceptance: [0.91, 0.61, 0.25].\n",
      "Temperature 1 of 3:(β₁=Inf,β₂=0.1). Distortion 0.466. Acceptance 96%\n",
      "Temperature 2 of 3:(β₁=Inf,β₂=1.0). Distortion 0.429. Acceptance 60%\n",
      "Temperature 3 of 3:(β₁=Inf,β₂=10.0). Distortion 0.391. Acceptance 28%\n",
      "# Finished iter 95 of 100: Parity 0. Distortion 0.391 at β₁=Inf, β₂=10.0. Acceptance: [0.96, 0.6, 0.28].\n",
      "Temperature 1 of 3:(β₁=Inf,β₂=0.1). Distortion 0.489. Acceptance 93%\n",
      "Temperature 2 of 3:(β₁=Inf,β₂=1.0). Distortion 0.457. Acceptance 59%\n",
      "Temperature 3 of 3:(β₁=Inf,β₂=10.0). Distortion 0.431. Acceptance 32%\n",
      "# Finished iter 96 of 100: Parity 0. Distortion 0.431 at β₁=Inf, β₂=10.0. Acceptance: [0.93, 0.59, 0.32].\n",
      "Temperature 1 of 3:(β₁=Inf,β₂=0.1). Distortion 0.454. Acceptance 94%\n",
      "Temperature 2 of 3:(β₁=Inf,β₂=1.0). Distortion 0.418. Acceptance 62%\n",
      "Temperature 3 of 3:(β₁=Inf,β₂=10.0). Distortion 0.401. Acceptance 23%\n",
      "# Finished iter 97 of 100: Parity 0. Distortion 0.401 at β₁=Inf, β₂=10.0. Acceptance: [0.94, 0.62, 0.23].\n",
      "Temperature 1 of 3:(β₁=Inf,β₂=0.1). Distortion 0.483. Acceptance 91%\n",
      "Temperature 2 of 3:(β₁=Inf,β₂=1.0). Distortion 0.438. Acceptance 60%\n"
     ]
    },
    {
     "name": "stdout",
     "output_type": "stream",
     "text": [
      "Temperature 3 of 3:(β₁=Inf,β₂=10.0). Distortion 0.416. Acceptance 30%\n",
      "# Finished iter 98 of 100: Parity 0. Distortion 0.416 at β₁=Inf, β₂=10.0. Acceptance: [0.91, 0.6, 0.3].\n",
      "Temperature 1 of 3:(β₁=Inf,β₂=0.1). Distortion 0.488. Acceptance 90%\n",
      "Temperature 2 of 3:(β₁=Inf,β₂=1.0). Distortion 0.452. Acceptance 55%\n",
      "Temperature 3 of 3:(β₁=Inf,β₂=10.0). Distortion 0.429. Acceptance 28%\n",
      "# Finished iter 99 of 100: Parity 0. Distortion 0.429 at β₁=Inf, β₂=10.0. Acceptance: [0.9, 0.55, 0.28].\n",
      "Temperature 1 of 3:(β₁=Inf,β₂=0.1). Distortion 0.477. Acceptance 94%\n",
      "Temperature 2 of 3:(β₁=Inf,β₂=1.0). Distortion 0.45. Acceptance 64%\n",
      "Temperature 3 of 3:(β₁=Inf,β₂=10.0). Distortion 0.434. Acceptance 30%\n",
      "# Finished iter 100 of 100: Parity 0. Distortion 0.434 at β₁=Inf, β₂=10.0. Acceptance: [0.94, 0.64, 0.3].\n",
      "##### b=200. 8 of 9 #####\n",
      "Temperature 1 of 3:(β₁=Inf,β₂=0.1). Distortion 0.477. Acceptance 95%\n",
      "Temperature 2 of 3:(β₁=Inf,β₂=1.0). Distortion 0.447. Acceptance 58%\n",
      "Temperature 3 of 3:(β₁=Inf,β₂=10.0). Distortion 0.418. Acceptance 33%\n",
      "# Finished iter 1 of 100: Parity 0. Distortion 0.418 at β₁=Inf, β₂=10.0. Acceptance: [0.95, 0.58, 0.33].\n",
      "Temperature 1 of 3:(β₁=Inf,β₂=0.1). Distortion 0.484. Acceptance 97%\n",
      "Temperature 2 of 3:(β₁=Inf,β₂=1.0). Distortion 0.446. Acceptance 66%\n",
      "Temperature 3 of 3:(β₁=Inf,β₂=10.0). Distortion 0.425. Acceptance 35%\n",
      "# Finished iter 2 of 100: Parity 0. Distortion 0.425 at β₁=Inf, β₂=10.0. Acceptance: [0.97, 0.66, 0.35].\n",
      "Temperature 1 of 3:(β₁=Inf,β₂=0.1). Distortion 0.498. Acceptance 92%\n",
      "Temperature 2 of 3:(β₁=Inf,β₂=1.0). Distortion 0.451. Acceptance 61%\n",
      "Temperature 3 of 3:(β₁=Inf,β₂=10.0). Distortion 0.433. Acceptance 30%\n",
      "# Finished iter 3 of 100: Parity 0. Distortion 0.433 at β₁=Inf, β₂=10.0. Acceptance: [0.92, 0.61, 0.3].\n",
      "Temperature 1 of 3:(β₁=Inf,β₂=0.1). Distortion 0.491. Acceptance 96%\n",
      "Temperature 2 of 3:(β₁=Inf,β₂=1.0). Distortion 0.45. Acceptance 58%\n",
      "Temperature 3 of 3:(β₁=Inf,β₂=10.0). Distortion 0.432. Acceptance 31%\n",
      "# Finished iter 4 of 100: Parity 0. Distortion 0.432 at β₁=Inf, β₂=10.0. Acceptance: [0.96, 0.58, 0.31].\n",
      "Temperature 1 of 3:(β₁=Inf,β₂=0.1). Distortion 0.476. Acceptance 93%\n",
      "Temperature 2 of 3:(β₁=Inf,β₂=1.0). Distortion 0.445. Acceptance 58%\n",
      "Temperature 3 of 3:(β₁=Inf,β₂=10.0). Distortion 0.416. Acceptance 33%\n",
      "# Finished iter 5 of 100: Parity 0. Distortion 0.416 at β₁=Inf, β₂=10.0. Acceptance: [0.93, 0.58, 0.33].\n",
      "Temperature 1 of 3:(β₁=Inf,β₂=0.1). Distortion 0.487. Acceptance 90%\n",
      "Temperature 2 of 3:(β₁=Inf,β₂=1.0). Distortion 0.451. Acceptance 58%\n",
      "Temperature 3 of 3:(β₁=Inf,β₂=10.0). Distortion 0.434. Acceptance 24%\n",
      "# Finished iter 6 of 100: Parity 0. Distortion 0.434 at β₁=Inf, β₂=10.0. Acceptance: [0.9, 0.58, 0.24].\n",
      "Temperature 1 of 3:(β₁=Inf,β₂=0.1). Distortion 0.485. Acceptance 93%\n",
      "Temperature 2 of 3:(β₁=Inf,β₂=1.0). Distortion 0.452. Acceptance 60%\n",
      "Temperature 3 of 3:(β₁=Inf,β₂=10.0). Distortion 0.43. Acceptance 27%\n",
      "# Finished iter 7 of 100: Parity 0. Distortion 0.430 at β₁=Inf, β₂=10.0. Acceptance: [0.93, 0.6, 0.27].\n",
      "Temperature 1 of 3:(β₁=Inf,β₂=0.1). Distortion 0.489. Acceptance 97%\n",
      "Temperature 2 of 3:(β₁=Inf,β₂=1.0). Distortion 0.46. Acceptance 71%\n",
      "Temperature 3 of 3:(β₁=Inf,β₂=10.0). Distortion 0.436. Acceptance 33%\n",
      "# Finished iter 8 of 100: Parity 0. Distortion 0.436 at β₁=Inf, β₂=10.0. Acceptance: [0.97, 0.71, 0.33].\n",
      "Temperature 1 of 3:(β₁=Inf,β₂=0.1). Distortion 0.482. Acceptance 92%\n",
      "Temperature 2 of 3:(β₁=Inf,β₂=1.0). Distortion 0.455. Acceptance 54%\n",
      "Temperature 3 of 3:(β₁=Inf,β₂=10.0). Distortion 0.428. Acceptance 36%\n",
      "# Finished iter 9 of 100: Parity 0. Distortion 0.428 at β₁=Inf, β₂=10.0. Acceptance: [0.92, 0.54, 0.36].\n",
      "Temperature 1 of 3:(β₁=Inf,β₂=0.1). Distortion 0.484. Acceptance 93%\n",
      "Temperature 2 of 3:(β₁=Inf,β₂=1.0). Distortion 0.428. Acceptance 63%\n",
      "Temperature 3 of 3:(β₁=Inf,β₂=10.0). Distortion 0.412. Acceptance 21%\n",
      "# Finished iter 10 of 100: Parity 0. Distortion 0.412 at β₁=Inf, β₂=10.0. Acceptance: [0.93, 0.63, 0.21].\n",
      "Temperature 1 of 3:(β₁=Inf,β₂=0.1). Distortion 0.496. Acceptance 88%\n",
      "Temperature 2 of 3:(β₁=Inf,β₂=1.0). Distortion 0.44. Acceptance 61%\n",
      "Temperature 3 of 3:(β₁=Inf,β₂=10.0). Distortion 0.424. Acceptance 25%\n",
      "# Finished iter 11 of 100: Parity 0. Distortion 0.424 at β₁=Inf, β₂=10.0. Acceptance: [0.88, 0.61, 0.25].\n",
      "Temperature 1 of 3:(β₁=Inf,β₂=0.1). Distortion 0.488. Acceptance 93%\n",
      "Temperature 2 of 3:(β₁=Inf,β₂=1.0). Distortion 0.446. Acceptance 64%\n",
      "Temperature 3 of 3:(β₁=Inf,β₂=10.0). Distortion 0.427. Acceptance 27%\n",
      "# Finished iter 12 of 100: Parity 0. Distortion 0.427 at β₁=Inf, β₂=10.0. Acceptance: [0.93, 0.64, 0.27].\n",
      "Temperature 1 of 3:(β₁=Inf,β₂=0.1). Distortion 0.475. Acceptance 93%\n",
      "Temperature 2 of 3:(β₁=Inf,β₂=1.0). Distortion 0.439. Acceptance 70%\n",
      "Temperature 3 of 3:(β₁=Inf,β₂=10.0). Distortion 0.417. Acceptance 34%\n",
      "# Finished iter 13 of 100: Parity 0. Distortion 0.417 at β₁=Inf, β₂=10.0. Acceptance: [0.93, 0.7, 0.34].\n",
      "Temperature 1 of 3:(β₁=Inf,β₂=0.1). Distortion 0.483. Acceptance 90%\n",
      "Temperature 2 of 3:(β₁=Inf,β₂=1.0). Distortion 0.443. Acceptance 58%\n",
      "Temperature 3 of 3:(β₁=Inf,β₂=10.0). Distortion 0.427. Acceptance 30%\n",
      "# Finished iter 14 of 100: Parity 0. Distortion 0.427 at β₁=Inf, β₂=10.0. Acceptance: [0.9, 0.58, 0.3].\n",
      "Temperature 1 of 3:(β₁=Inf,β₂=0.1). Distortion 0.51. Acceptance 93%\n",
      "Temperature 2 of 3:(β₁=Inf,β₂=1.0). Distortion 0.47. Acceptance 67%\n",
      "Temperature 3 of 3:(β₁=Inf,β₂=10.0). Distortion 0.444. Acceptance 38%\n",
      "# Finished iter 15 of 100: Parity 0. Distortion 0.444 at β₁=Inf, β₂=10.0. Acceptance: [0.93, 0.67, 0.38].\n",
      "Temperature 1 of 3:(β₁=Inf,β₂=0.1). Distortion 0.501. Acceptance 91%\n",
      "Temperature 2 of 3:(β₁=Inf,β₂=1.0). Distortion 0.474. Acceptance 67%\n",
      "Temperature 3 of 3:(β₁=Inf,β₂=10.0). Distortion 0.451. Acceptance 33%\n",
      "# Finished iter 16 of 100: Parity 0. Distortion 0.451 at β₁=Inf, β₂=10.0. Acceptance: [0.91, 0.67, 0.33].\n",
      "Temperature 1 of 3:(β₁=Inf,β₂=0.1). Distortion 0.505. Acceptance 95%\n",
      "Temperature 2 of 3:(β₁=Inf,β₂=1.0). Distortion 0.472. Acceptance 57%\n",
      "Temperature 3 of 3:(β₁=Inf,β₂=10.0). Distortion 0.448. Acceptance 26%\n",
      "# Finished iter 17 of 100: Parity 0. Distortion 0.448 at β₁=Inf, β₂=10.0. Acceptance: [0.95, 0.57, 0.26].\n",
      "Temperature 1 of 3:(β₁=Inf,β₂=0.1). Distortion 0.469. Acceptance 94%\n",
      "Temperature 2 of 3:(β₁=Inf,β₂=1.0). Distortion 0.44. Acceptance 71%\n",
      "Temperature 3 of 3:(β₁=Inf,β₂=10.0). Distortion 0.419. Acceptance 32%\n",
      "# Finished iter 18 of 100: Parity 0. Distortion 0.419 at β₁=Inf, β₂=10.0. Acceptance: [0.94, 0.71, 0.32].\n",
      "Temperature 1 of 3:(β₁=Inf,β₂=0.1). Distortion 0.491. Acceptance 97%\n",
      "Temperature 2 of 3:(β₁=Inf,β₂=1.0). Distortion 0.448. Acceptance 62%\n",
      "Temperature 3 of 3:(β₁=Inf,β₂=10.0). Distortion 0.428. Acceptance 29%\n",
      "# Finished iter 19 of 100: Parity 0. Distortion 0.428 at β₁=Inf, β₂=10.0. Acceptance: [0.97, 0.62, 0.29].\n",
      "Temperature 1 of 3:(β₁=Inf,β₂=0.1). Distortion 0.479. Acceptance 95%\n",
      "Temperature 2 of 3:(β₁=Inf,β₂=1.0). Distortion 0.454. Acceptance 57%\n",
      "Temperature 3 of 3:(β₁=Inf,β₂=10.0). Distortion 0.428. Acceptance 27%\n",
      "# Finished iter 20 of 100: Parity 0. Distortion 0.428 at β₁=Inf, β₂=10.0. Acceptance: [0.95, 0.57, 0.27].\n",
      "Temperature 1 of 3:(β₁=Inf,β₂=0.1). Distortion 0.451. Acceptance 91%\n",
      "Temperature 2 of 3:(β₁=Inf,β₂=1.0). Distortion 0.431. Acceptance 60%\n",
      "Temperature 3 of 3:(β₁=Inf,β₂=10.0). Distortion 0.404. Acceptance 24%\n",
      "# Finished iter 21 of 100: Parity 0. Distortion 0.404 at β₁=Inf, β₂=10.0. Acceptance: [0.91, 0.6, 0.24].\n",
      "Temperature 1 of 3:(β₁=Inf,β₂=0.1). Distortion 0.48. Acceptance 91%\n",
      "Temperature 2 of 3:(β₁=Inf,β₂=1.0). Distortion 0.448. Acceptance 59%\n",
      "Temperature 3 of 3:(β₁=Inf,β₂=10.0). Distortion 0.433. Acceptance 27%\n",
      "# Finished iter 22 of 100: Parity 0. Distortion 0.433 at β₁=Inf, β₂=10.0. Acceptance: [0.91, 0.59, 0.27].\n",
      "Temperature 1 of 3:(β₁=Inf,β₂=0.1). Distortion 0.467. Acceptance 92%\n",
      "Temperature 2 of 3:(β₁=Inf,β₂=1.0). Distortion 0.436. Acceptance 62%\n",
      "Temperature 3 of 3:(β₁=Inf,β₂=10.0). Distortion 0.415. Acceptance 28%\n",
      "# Finished iter 23 of 100: Parity 0. Distortion 0.415 at β₁=Inf, β₂=10.0. Acceptance: [0.92, 0.62, 0.28].\n",
      "Temperature 1 of 3:(β₁=Inf,β₂=0.1). Distortion 0.475. Acceptance 92%\n",
      "Temperature 2 of 3:(β₁=Inf,β₂=1.0). Distortion 0.444. Acceptance 63%\n",
      "Temperature 3 of 3:(β₁=Inf,β₂=10.0). Distortion 0.415. Acceptance 32%\n",
      "# Finished iter 24 of 100: Parity 0. Distortion 0.415 at β₁=Inf, β₂=10.0. Acceptance: [0.92, 0.63, 0.32].\n"
     ]
    },
    {
     "name": "stdout",
     "output_type": "stream",
     "text": [
      "Temperature 1 of 3:(β₁=Inf,β₂=0.1). Distortion 0.492. Acceptance 96%\n",
      "Temperature 2 of 3:(β₁=Inf,β₂=1.0). Distortion 0.457. Acceptance 70%\n",
      "Temperature 3 of 3:(β₁=Inf,β₂=10.0). Distortion 0.432. Acceptance 33%\n",
      "# Finished iter 25 of 100: Parity 0. Distortion 0.432 at β₁=Inf, β₂=10.0. Acceptance: [0.96, 0.7, 0.33].\n",
      "Temperature 1 of 3:(β₁=Inf,β₂=0.1). Distortion 0.476. Acceptance 92%\n",
      "Temperature 2 of 3:(β₁=Inf,β₂=1.0). Distortion 0.449. Acceptance 59%\n",
      "Temperature 3 of 3:(β₁=Inf,β₂=10.0). Distortion 0.432. Acceptance 36%\n",
      "# Finished iter 26 of 100: Parity 0. Distortion 0.432 at β₁=Inf, β₂=10.0. Acceptance: [0.92, 0.59, 0.36].\n",
      "Temperature 1 of 3:(β₁=Inf,β₂=0.1). Distortion 0.482. Acceptance 95%\n",
      "Temperature 2 of 3:(β₁=Inf,β₂=1.0). Distortion 0.447. Acceptance 60%\n",
      "Temperature 3 of 3:(β₁=Inf,β₂=10.0). Distortion 0.424. Acceptance 32%\n",
      "# Finished iter 27 of 100: Parity 0. Distortion 0.424 at β₁=Inf, β₂=10.0. Acceptance: [0.95, 0.6, 0.32].\n",
      "Temperature 1 of 3:(β₁=Inf,β₂=0.1). Distortion 0.491. Acceptance 94%\n",
      "Temperature 2 of 3:(β₁=Inf,β₂=1.0). Distortion 0.458. Acceptance 58%\n",
      "Temperature 3 of 3:(β₁=Inf,β₂=10.0). Distortion 0.44. Acceptance 28%\n",
      "# Finished iter 28 of 100: Parity 0. Distortion 0.440 at β₁=Inf, β₂=10.0. Acceptance: [0.94, 0.58, 0.28].\n",
      "Temperature 1 of 3:(β₁=Inf,β₂=0.1). Distortion 0.473. Acceptance 93%\n",
      "Temperature 2 of 3:(β₁=Inf,β₂=1.0). Distortion 0.445. Acceptance 58%\n",
      "Temperature 3 of 3:(β₁=Inf,β₂=10.0). Distortion 0.424. Acceptance 28%\n",
      "# Finished iter 29 of 100: Parity 0. Distortion 0.424 at β₁=Inf, β₂=10.0. Acceptance: [0.93, 0.58, 0.28].\n",
      "Temperature 1 of 3:(β₁=Inf,β₂=0.1). Distortion 0.485. Acceptance 90%\n",
      "Temperature 2 of 3:(β₁=Inf,β₂=1.0). Distortion 0.453. Acceptance 63%\n",
      "Temperature 3 of 3:(β₁=Inf,β₂=10.0). Distortion 0.436. Acceptance 22%\n",
      "# Finished iter 30 of 100: Parity 0. Distortion 0.436 at β₁=Inf, β₂=10.0. Acceptance: [0.9, 0.63, 0.22].\n",
      "Temperature 1 of 3:(β₁=Inf,β₂=0.1). Distortion 0.464. Acceptance 86%\n",
      "Temperature 2 of 3:(β₁=Inf,β₂=1.0). Distortion 0.428. Acceptance 59%\n",
      "Temperature 3 of 3:(β₁=Inf,β₂=10.0). Distortion 0.407. Acceptance 24%\n",
      "# Finished iter 31 of 100: Parity 0. Distortion 0.407 at β₁=Inf, β₂=10.0. Acceptance: [0.86, 0.59, 0.24].\n",
      "Temperature 1 of 3:(β₁=Inf,β₂=0.1). Distortion 0.444. Acceptance 95%\n",
      "Temperature 2 of 3:(β₁=Inf,β₂=1.0). Distortion 0.422. Acceptance 60%\n",
      "Temperature 3 of 3:(β₁=Inf,β₂=10.0). Distortion 0.398. Acceptance 38%\n",
      "# Finished iter 32 of 100: Parity 0. Distortion 0.398 at β₁=Inf, β₂=10.0. Acceptance: [0.95, 0.6, 0.38].\n",
      "Temperature 1 of 3:(β₁=Inf,β₂=0.1). Distortion 0.486. Acceptance 91%\n",
      "Temperature 2 of 3:(β₁=Inf,β₂=1.0). Distortion 0.44. Acceptance 63%\n",
      "Temperature 3 of 3:(β₁=Inf,β₂=10.0). Distortion 0.417. Acceptance 39%\n",
      "# Finished iter 33 of 100: Parity 0. Distortion 0.417 at β₁=Inf, β₂=10.0. Acceptance: [0.91, 0.63, 0.39].\n",
      "Temperature 1 of 3:(β₁=Inf,β₂=0.1). Distortion 0.474. Acceptance 94%\n",
      "Temperature 2 of 3:(β₁=Inf,β₂=1.0). Distortion 0.441. Acceptance 68%\n",
      "Temperature 3 of 3:(β₁=Inf,β₂=10.0). Distortion 0.416. Acceptance 34%\n",
      "# Finished iter 34 of 100: Parity 0. Distortion 0.416 at β₁=Inf, β₂=10.0. Acceptance: [0.94, 0.68, 0.34].\n",
      "Temperature 1 of 3:(β₁=Inf,β₂=0.1). Distortion 0.479. Acceptance 95%\n",
      "Temperature 2 of 3:(β₁=Inf,β₂=1.0). Distortion 0.449. Acceptance 55%\n",
      "Temperature 3 of 3:(β₁=Inf,β₂=10.0). Distortion 0.435. Acceptance 25%\n",
      "# Finished iter 35 of 100: Parity 0. Distortion 0.435 at β₁=Inf, β₂=10.0. Acceptance: [0.95, 0.55, 0.25].\n",
      "Temperature 1 of 3:(β₁=Inf,β₂=0.1). Distortion 0.479. Acceptance 94%\n",
      "Temperature 2 of 3:(β₁=Inf,β₂=1.0). Distortion 0.437. Acceptance 59%\n",
      "Temperature 3 of 3:(β₁=Inf,β₂=10.0). Distortion 0.423. Acceptance 24%\n",
      "# Finished iter 36 of 100: Parity 0. Distortion 0.423 at β₁=Inf, β₂=10.0. Acceptance: [0.94, 0.59, 0.24].\n",
      "Temperature 1 of 3:(β₁=Inf,β₂=0.1). Distortion 0.46. Acceptance 96%\n",
      "Temperature 2 of 3:(β₁=Inf,β₂=1.0). Distortion 0.452. Acceptance 53%\n",
      "Temperature 3 of 3:(β₁=Inf,β₂=10.0). Distortion 0.426. Acceptance 37%\n",
      "# Finished iter 37 of 100: Parity 0. Distortion 0.426 at β₁=Inf, β₂=10.0. Acceptance: [0.96, 0.53, 0.37].\n",
      "Temperature 1 of 3:(β₁=Inf,β₂=0.1). Distortion 0.47. Acceptance 93%\n",
      "Temperature 2 of 3:(β₁=Inf,β₂=1.0). Distortion 0.438. Acceptance 57%\n",
      "Temperature 3 of 3:(β₁=Inf,β₂=10.0). Distortion 0.414. Acceptance 30%\n",
      "# Finished iter 38 of 100: Parity 0. Distortion 0.414 at β₁=Inf, β₂=10.0. Acceptance: [0.93, 0.57, 0.3].\n",
      "Temperature 1 of 3:(β₁=Inf,β₂=0.1). Distortion 0.481. Acceptance 89%\n",
      "Temperature 2 of 3:(β₁=Inf,β₂=1.0). Distortion 0.457. Acceptance 64%\n",
      "Temperature 3 of 3:(β₁=Inf,β₂=10.0). Distortion 0.443. Acceptance 36%\n",
      "# Finished iter 39 of 100: Parity 0. Distortion 0.443 at β₁=Inf, β₂=10.0. Acceptance: [0.89, 0.64, 0.36].\n",
      "Temperature 1 of 3:(β₁=Inf,β₂=0.1). Distortion 0.487. Acceptance 94%\n",
      "Temperature 2 of 3:(β₁=Inf,β₂=1.0). Distortion 0.458. Acceptance 67%\n",
      "Temperature 3 of 3:(β₁=Inf,β₂=10.0). Distortion 0.426. Acceptance 36%\n",
      "# Finished iter 40 of 100: Parity 0. Distortion 0.426 at β₁=Inf, β₂=10.0. Acceptance: [0.94, 0.67, 0.36].\n",
      "Temperature 1 of 3:(β₁=Inf,β₂=0.1). Distortion 0.453. Acceptance 97%\n",
      "Temperature 2 of 3:(β₁=Inf,β₂=1.0). Distortion 0.435. Acceptance 64%\n",
      "Temperature 3 of 3:(β₁=Inf,β₂=10.0). Distortion 0.407. Acceptance 31%\n",
      "# Finished iter 41 of 100: Parity 0. Distortion 0.407 at β₁=Inf, β₂=10.0. Acceptance: [0.97, 0.64, 0.31].\n",
      "Temperature 1 of 3:(β₁=Inf,β₂=0.1). Distortion 0.482. Acceptance 88%\n",
      "Temperature 2 of 3:(β₁=Inf,β₂=1.0). Distortion 0.458. Acceptance 66%\n",
      "Temperature 3 of 3:(β₁=Inf,β₂=10.0). Distortion 0.428. Acceptance 44%\n",
      "# Finished iter 42 of 100: Parity 0. Distortion 0.428 at β₁=Inf, β₂=10.0. Acceptance: [0.88, 0.66, 0.44].\n",
      "Temperature 1 of 3:(β₁=Inf,β₂=0.1). Distortion 0.476. Acceptance 90%\n",
      "Temperature 2 of 3:(β₁=Inf,β₂=1.0). Distortion 0.466. Acceptance 60%\n",
      "Temperature 3 of 3:(β₁=Inf,β₂=10.0). Distortion 0.432. Acceptance 31%\n",
      "# Finished iter 43 of 100: Parity 0. Distortion 0.432 at β₁=Inf, β₂=10.0. Acceptance: [0.9, 0.6, 0.31].\n",
      "Temperature 1 of 3:(β₁=Inf,β₂=0.1). Distortion 0.465. Acceptance 92%\n",
      "Temperature 2 of 3:(β₁=Inf,β₂=1.0). Distortion 0.444. Acceptance 62%\n",
      "Temperature 3 of 3:(β₁=Inf,β₂=10.0). Distortion 0.413. Acceptance 32%\n",
      "# Finished iter 44 of 100: Parity 0. Distortion 0.413 at β₁=Inf, β₂=10.0. Acceptance: [0.92, 0.62, 0.32].\n",
      "Temperature 1 of 3:(β₁=Inf,β₂=0.1). Distortion 0.46. Acceptance 91%\n",
      "Temperature 2 of 3:(β₁=Inf,β₂=1.0). Distortion 0.437. Acceptance 62%\n",
      "Temperature 3 of 3:(β₁=Inf,β₂=10.0). Distortion 0.418. Acceptance 31%\n",
      "# Finished iter 45 of 100: Parity 0. Distortion 0.418 at β₁=Inf, β₂=10.0. Acceptance: [0.91, 0.62, 0.31].\n",
      "Temperature 1 of 3:(β₁=Inf,β₂=0.1). Distortion 0.489. Acceptance 90%\n",
      "Temperature 2 of 3:(β₁=Inf,β₂=1.0). Distortion 0.456. Acceptance 61%\n",
      "Temperature 3 of 3:(β₁=Inf,β₂=10.0). Distortion 0.442. Acceptance 31%\n",
      "# Finished iter 46 of 100: Parity 0. Distortion 0.442 at β₁=Inf, β₂=10.0. Acceptance: [0.9, 0.61, 0.31].\n",
      "Temperature 1 of 3:(β₁=Inf,β₂=0.1). Distortion 0.471. Acceptance 93%\n",
      "Temperature 2 of 3:(β₁=Inf,β₂=1.0). Distortion 0.429. Acceptance 63%\n",
      "Temperature 3 of 3:(β₁=Inf,β₂=10.0). Distortion 0.414. Acceptance 28%\n",
      "# Finished iter 47 of 100: Parity 0. Distortion 0.414 at β₁=Inf, β₂=10.0. Acceptance: [0.93, 0.63, 0.28].\n",
      "Temperature 1 of 3:(β₁=Inf,β₂=0.1). Distortion 0.474. Acceptance 90%\n",
      "Temperature 2 of 3:(β₁=Inf,β₂=1.0). Distortion 0.448. Acceptance 62%\n",
      "Temperature 3 of 3:(β₁=Inf,β₂=10.0). Distortion 0.426. Acceptance 29%\n",
      "# Finished iter 48 of 100: Parity 0. Distortion 0.426 at β₁=Inf, β₂=10.0. Acceptance: [0.9, 0.62, 0.29].\n",
      "Temperature 1 of 3:(β₁=Inf,β₂=0.1). Distortion 0.484. Acceptance 91%\n",
      "Temperature 2 of 3:(β₁=Inf,β₂=1.0). Distortion 0.45. Acceptance 60%\n",
      "Temperature 3 of 3:(β₁=Inf,β₂=10.0). Distortion 0.433. Acceptance 32%\n",
      "# Finished iter 49 of 100: Parity 0. Distortion 0.433 at β₁=Inf, β₂=10.0. Acceptance: [0.91, 0.6, 0.32].\n",
      "Temperature 1 of 3:(β₁=Inf,β₂=0.1). Distortion 0.498. Acceptance 90%\n",
      "Temperature 2 of 3:(β₁=Inf,β₂=1.0). Distortion 0.456. Acceptance 65%\n",
      "Temperature 3 of 3:(β₁=Inf,β₂=10.0). Distortion 0.437. Acceptance 26%\n",
      "# Finished iter 50 of 100: Parity 0. Distortion 0.437 at β₁=Inf, β₂=10.0. Acceptance: [0.9, 0.65, 0.26].\n",
      "Temperature 1 of 3:(β₁=Inf,β₂=0.1). Distortion 0.456. Acceptance 93%\n"
     ]
    },
    {
     "name": "stdout",
     "output_type": "stream",
     "text": [
      "Temperature 2 of 3:(β₁=Inf,β₂=1.0). Distortion 0.427. Acceptance 64%\n",
      "Temperature 3 of 3:(β₁=Inf,β₂=10.0). Distortion 0.4. Acceptance 27%\n",
      "# Finished iter 51 of 100: Parity 0. Distortion 0.400 at β₁=Inf, β₂=10.0. Acceptance: [0.93, 0.64, 0.27].\n",
      "Temperature 1 of 3:(β₁=Inf,β₂=0.1). Distortion 0.469. Acceptance 95%\n",
      "Temperature 2 of 3:(β₁=Inf,β₂=1.0). Distortion 0.433. Acceptance 54%\n",
      "Temperature 3 of 3:(β₁=Inf,β₂=10.0). Distortion 0.419. Acceptance 28%\n",
      "# Finished iter 52 of 100: Parity 0. Distortion 0.419 at β₁=Inf, β₂=10.0. Acceptance: [0.95, 0.54, 0.28].\n",
      "Temperature 1 of 3:(β₁=Inf,β₂=0.1). Distortion 0.467. Acceptance 92%\n",
      "Temperature 2 of 3:(β₁=Inf,β₂=1.0). Distortion 0.464. Acceptance 67%\n",
      "Temperature 3 of 3:(β₁=Inf,β₂=10.0). Distortion 0.422. Acceptance 37%\n",
      "# Finished iter 53 of 100: Parity 0. Distortion 0.422 at β₁=Inf, β₂=10.0. Acceptance: [0.92, 0.67, 0.37].\n",
      "Temperature 1 of 3:(β₁=Inf,β₂=0.1). Distortion 0.468. Acceptance 91%\n",
      "Temperature 2 of 3:(β₁=Inf,β₂=1.0). Distortion 0.443. Acceptance 63%\n",
      "Temperature 3 of 3:(β₁=Inf,β₂=10.0). Distortion 0.426. Acceptance 32%\n",
      "# Finished iter 54 of 100: Parity 0. Distortion 0.426 at β₁=Inf, β₂=10.0. Acceptance: [0.91, 0.63, 0.32].\n",
      "Temperature 1 of 3:(β₁=Inf,β₂=0.1). Distortion 0.472. Acceptance 94%\n",
      "Temperature 2 of 3:(β₁=Inf,β₂=1.0). Distortion 0.441. Acceptance 57%\n",
      "Temperature 3 of 3:(β₁=Inf,β₂=10.0). Distortion 0.42. Acceptance 25%\n",
      "# Finished iter 55 of 100: Parity 0. Distortion 0.420 at β₁=Inf, β₂=10.0. Acceptance: [0.94, 0.57, 0.25].\n",
      "Temperature 1 of 3:(β₁=Inf,β₂=0.1). Distortion 0.481. Acceptance 93%\n",
      "Temperature 2 of 3:(β₁=Inf,β₂=1.0). Distortion 0.445. Acceptance 60%\n",
      "Temperature 3 of 3:(β₁=Inf,β₂=10.0). Distortion 0.431. Acceptance 34%\n",
      "# Finished iter 56 of 100: Parity 0. Distortion 0.431 at β₁=Inf, β₂=10.0. Acceptance: [0.93, 0.6, 0.34].\n",
      "Temperature 1 of 3:(β₁=Inf,β₂=0.1). Distortion 0.493. Acceptance 95%\n",
      "Temperature 2 of 3:(β₁=Inf,β₂=1.0). Distortion 0.457. Acceptance 62%\n",
      "Temperature 3 of 3:(β₁=Inf,β₂=10.0). Distortion 0.439. Acceptance 27%\n",
      "# Finished iter 57 of 100: Parity 0. Distortion 0.439 at β₁=Inf, β₂=10.0. Acceptance: [0.95, 0.62, 0.27].\n",
      "Temperature 1 of 3:(β₁=Inf,β₂=0.1). Distortion 0.481. Acceptance 91%\n",
      "Temperature 2 of 3:(β₁=Inf,β₂=1.0). Distortion 0.448. Acceptance 62%\n",
      "Temperature 3 of 3:(β₁=Inf,β₂=10.0). Distortion 0.429. Acceptance 27%\n",
      "# Finished iter 58 of 100: Parity 0. Distortion 0.429 at β₁=Inf, β₂=10.0. Acceptance: [0.91, 0.62, 0.27].\n",
      "Temperature 1 of 3:(β₁=Inf,β₂=0.1). Distortion 0.497. Acceptance 91%\n",
      "Temperature 2 of 3:(β₁=Inf,β₂=1.0). Distortion 0.467. Acceptance 73%\n",
      "Temperature 3 of 3:(β₁=Inf,β₂=10.0). Distortion 0.425. Acceptance 37%\n",
      "# Finished iter 59 of 100: Parity 0. Distortion 0.425 at β₁=Inf, β₂=10.0. Acceptance: [0.91, 0.73, 0.37].\n",
      "Temperature 1 of 3:(β₁=Inf,β₂=0.1). Distortion 0.478. Acceptance 95%\n",
      "Temperature 2 of 3:(β₁=Inf,β₂=1.0). Distortion 0.444. Acceptance 49%\n",
      "Temperature 3 of 3:(β₁=Inf,β₂=10.0). Distortion 0.427. Acceptance 22%\n",
      "# Finished iter 60 of 100: Parity 0. Distortion 0.427 at β₁=Inf, β₂=10.0. Acceptance: [0.95, 0.49, 0.22].\n",
      "Temperature 1 of 3:(β₁=Inf,β₂=0.1). Distortion 0.483. Acceptance 94%\n",
      "Temperature 2 of 3:(β₁=Inf,β₂=1.0). Distortion 0.443. Acceptance 60%\n",
      "Temperature 3 of 3:(β₁=Inf,β₂=10.0). Distortion 0.421. Acceptance 28%\n",
      "# Finished iter 61 of 100: Parity 0. Distortion 0.421 at β₁=Inf, β₂=10.0. Acceptance: [0.94, 0.6, 0.28].\n",
      "Temperature 1 of 3:(β₁=Inf,β₂=0.1). Distortion 0.498. Acceptance 87%\n",
      "Temperature 2 of 3:(β₁=Inf,β₂=1.0). Distortion 0.451. Acceptance 62%\n",
      "Temperature 3 of 3:(β₁=Inf,β₂=10.0). Distortion 0.435. Acceptance 28%\n",
      "# Finished iter 62 of 100: Parity 0. Distortion 0.435 at β₁=Inf, β₂=10.0. Acceptance: [0.87, 0.62, 0.28].\n",
      "Temperature 1 of 3:(β₁=Inf,β₂=0.1). Distortion 0.495. Acceptance 91%\n",
      "Temperature 2 of 3:(β₁=Inf,β₂=1.0). Distortion 0.456. Acceptance 59%\n",
      "Temperature 3 of 3:(β₁=Inf,β₂=10.0). Distortion 0.431. Acceptance 38%\n",
      "# Finished iter 63 of 100: Parity 0. Distortion 0.431 at β₁=Inf, β₂=10.0. Acceptance: [0.91, 0.59, 0.38].\n",
      "Temperature 1 of 3:(β₁=Inf,β₂=0.1). Distortion 0.467. Acceptance 92%\n",
      "Temperature 2 of 3:(β₁=Inf,β₂=1.0). Distortion 0.438. Acceptance 58%\n",
      "Temperature 3 of 3:(β₁=Inf,β₂=10.0). Distortion 0.412. Acceptance 31%\n",
      "# Finished iter 64 of 100: Parity 0. Distortion 0.412 at β₁=Inf, β₂=10.0. Acceptance: [0.92, 0.58, 0.31].\n",
      "Temperature 1 of 3:(β₁=Inf,β₂=0.1). Distortion 0.479. Acceptance 92%\n",
      "Temperature 2 of 3:(β₁=Inf,β₂=1.0). Distortion 0.446. Acceptance 59%\n",
      "Temperature 3 of 3:(β₁=Inf,β₂=10.0). Distortion 0.419. Acceptance 32%\n",
      "# Finished iter 65 of 100: Parity 0. Distortion 0.419 at β₁=Inf, β₂=10.0. Acceptance: [0.92, 0.59, 0.32].\n",
      "Temperature 1 of 3:(β₁=Inf,β₂=0.1). Distortion 0.466. Acceptance 93%\n",
      "Temperature 2 of 3:(β₁=Inf,β₂=1.0). Distortion 0.425. Acceptance 59%\n",
      "Temperature 3 of 3:(β₁=Inf,β₂=10.0). Distortion 0.406. Acceptance 28%\n",
      "# Finished iter 66 of 100: Parity 0. Distortion 0.406 at β₁=Inf, β₂=10.0. Acceptance: [0.93, 0.59, 0.28].\n",
      "Temperature 1 of 3:(β₁=Inf,β₂=0.1). Distortion 0.478. Acceptance 87%\n",
      "Temperature 2 of 3:(β₁=Inf,β₂=1.0). Distortion 0.444. Acceptance 66%\n",
      "Temperature 3 of 3:(β₁=Inf,β₂=10.0). Distortion 0.428. Acceptance 27%\n",
      "# Finished iter 67 of 100: Parity 0. Distortion 0.428 at β₁=Inf, β₂=10.0. Acceptance: [0.87, 0.66, 0.27].\n",
      "Temperature 1 of 3:(β₁=Inf,β₂=0.1). Distortion 0.476. Acceptance 93%\n",
      "Temperature 2 of 3:(β₁=Inf,β₂=1.0). Distortion 0.434. Acceptance 59%\n",
      "Temperature 3 of 3:(β₁=Inf,β₂=10.0). Distortion 0.404. Acceptance 32%\n",
      "# Finished iter 68 of 100: Parity 0. Distortion 0.404 at β₁=Inf, β₂=10.0. Acceptance: [0.93, 0.59, 0.32].\n",
      "Temperature 1 of 3:(β₁=Inf,β₂=0.1). Distortion 0.491. Acceptance 94%\n",
      "Temperature 2 of 3:(β₁=Inf,β₂=1.0). Distortion 0.461. Acceptance 64%\n",
      "Temperature 3 of 3:(β₁=Inf,β₂=10.0). Distortion 0.444. Acceptance 34%\n",
      "# Finished iter 69 of 100: Parity 0. Distortion 0.444 at β₁=Inf, β₂=10.0. Acceptance: [0.94, 0.64, 0.34].\n",
      "Temperature 1 of 3:(β₁=Inf,β₂=0.1). Distortion 0.468. Acceptance 88%\n",
      "Temperature 2 of 3:(β₁=Inf,β₂=1.0). Distortion 0.436. Acceptance 59%\n",
      "Temperature 3 of 3:(β₁=Inf,β₂=10.0). Distortion 0.414. Acceptance 28%\n",
      "# Finished iter 70 of 100: Parity 0. Distortion 0.414 at β₁=Inf, β₂=10.0. Acceptance: [0.88, 0.59, 0.28].\n",
      "Temperature 1 of 3:(β₁=Inf,β₂=0.1). Distortion 0.476. Acceptance 92%\n",
      "Temperature 2 of 3:(β₁=Inf,β₂=1.0). Distortion 0.436. Acceptance 65%\n",
      "Temperature 3 of 3:(β₁=Inf,β₂=10.0). Distortion 0.425. Acceptance 27%\n",
      "# Finished iter 71 of 100: Parity 0. Distortion 0.425 at β₁=Inf, β₂=10.0. Acceptance: [0.92, 0.65, 0.27].\n",
      "Temperature 1 of 3:(β₁=Inf,β₂=0.1). Distortion 0.485. Acceptance 93%\n",
      "Temperature 2 of 3:(β₁=Inf,β₂=1.0). Distortion 0.463. Acceptance 58%\n",
      "Temperature 3 of 3:(β₁=Inf,β₂=10.0). Distortion 0.442. Acceptance 30%\n",
      "# Finished iter 72 of 100: Parity 0. Distortion 0.442 at β₁=Inf, β₂=10.0. Acceptance: [0.93, 0.58, 0.3].\n",
      "Temperature 1 of 3:(β₁=Inf,β₂=0.1). Distortion 0.493. Acceptance 96%\n",
      "Temperature 2 of 3:(β₁=Inf,β₂=1.0). Distortion 0.452. Acceptance 67%\n",
      "Temperature 3 of 3:(β₁=Inf,β₂=10.0). Distortion 0.43. Acceptance 39%\n",
      "# Finished iter 73 of 100: Parity 0. Distortion 0.430 at β₁=Inf, β₂=10.0. Acceptance: [0.96, 0.67, 0.39].\n",
      "Temperature 1 of 3:(β₁=Inf,β₂=0.1). Distortion 0.466. Acceptance 92%\n",
      "Temperature 2 of 3:(β₁=Inf,β₂=1.0). Distortion 0.444. Acceptance 60%\n",
      "Temperature 3 of 3:(β₁=Inf,β₂=10.0). Distortion 0.419. Acceptance 42%\n",
      "# Finished iter 74 of 100: Parity 0. Distortion 0.419 at β₁=Inf, β₂=10.0. Acceptance: [0.92, 0.6, 0.42].\n",
      "Temperature 1 of 3:(β₁=Inf,β₂=0.1). Distortion 0.47. Acceptance 94%\n",
      "Temperature 2 of 3:(β₁=Inf,β₂=1.0). Distortion 0.438. Acceptance 58%\n",
      "Temperature 3 of 3:(β₁=Inf,β₂=10.0). Distortion 0.423. Acceptance 31%\n",
      "# Finished iter 75 of 100: Parity 0. Distortion 0.423 at β₁=Inf, β₂=10.0. Acceptance: [0.94, 0.58, 0.31].\n",
      "Temperature 1 of 3:(β₁=Inf,β₂=0.1). Distortion 0.5. Acceptance 91%\n",
      "Temperature 2 of 3:(β₁=Inf,β₂=1.0). Distortion 0.458. Acceptance 69%\n",
      "Temperature 3 of 3:(β₁=Inf,β₂=10.0). Distortion 0.442. Acceptance 30%\n",
      "# Finished iter 76 of 100: Parity 0. Distortion 0.442 at β₁=Inf, β₂=10.0. Acceptance: [0.91, 0.69, 0.3].\n",
      "Temperature 1 of 3:(β₁=Inf,β₂=0.1). Distortion 0.476. Acceptance 92%\n",
      "Temperature 2 of 3:(β₁=Inf,β₂=1.0). Distortion 0.461. Acceptance 69%\n"
     ]
    },
    {
     "name": "stdout",
     "output_type": "stream",
     "text": [
      "Temperature 3 of 3:(β₁=Inf,β₂=10.0). Distortion 0.432. Acceptance 42%\n",
      "# Finished iter 77 of 100: Parity 0. Distortion 0.432 at β₁=Inf, β₂=10.0. Acceptance: [0.92, 0.69, 0.42].\n",
      "Temperature 1 of 3:(β₁=Inf,β₂=0.1). Distortion 0.467. Acceptance 97%\n",
      "Temperature 2 of 3:(β₁=Inf,β₂=1.0). Distortion 0.446. Acceptance 61%\n",
      "Temperature 3 of 3:(β₁=Inf,β₂=10.0). Distortion 0.421. Acceptance 41%\n",
      "# Finished iter 78 of 100: Parity 0. Distortion 0.421 at β₁=Inf, β₂=10.0. Acceptance: [0.97, 0.61, 0.41].\n",
      "Temperature 1 of 3:(β₁=Inf,β₂=0.1). Distortion 0.48. Acceptance 92%\n",
      "Temperature 2 of 3:(β₁=Inf,β₂=1.0). Distortion 0.457. Acceptance 61%\n",
      "Temperature 3 of 3:(β₁=Inf,β₂=10.0). Distortion 0.434. Acceptance 32%\n",
      "# Finished iter 79 of 100: Parity 0. Distortion 0.434 at β₁=Inf, β₂=10.0. Acceptance: [0.92, 0.61, 0.32].\n",
      "Temperature 1 of 3:(β₁=Inf,β₂=0.1). Distortion 0.443. Acceptance 85%\n",
      "Temperature 2 of 3:(β₁=Inf,β₂=1.0). Distortion 0.416. Acceptance 54%\n",
      "Temperature 3 of 3:(β₁=Inf,β₂=10.0). Distortion 0.401. Acceptance 23%\n",
      "# Finished iter 80 of 100: Parity 0. Distortion 0.401 at β₁=Inf, β₂=10.0. Acceptance: [0.85, 0.54, 0.23].\n",
      "Temperature 1 of 3:(β₁=Inf,β₂=0.1). Distortion 0.475. Acceptance 92%\n",
      "Temperature 2 of 3:(β₁=Inf,β₂=1.0). Distortion 0.445. Acceptance 59%\n",
      "Temperature 3 of 3:(β₁=Inf,β₂=10.0). Distortion 0.428. Acceptance 31%\n",
      "# Finished iter 81 of 100: Parity 0. Distortion 0.428 at β₁=Inf, β₂=10.0. Acceptance: [0.92, 0.59, 0.31].\n",
      "Temperature 1 of 3:(β₁=Inf,β₂=0.1). Distortion 0.481. Acceptance 95%\n",
      "Temperature 2 of 3:(β₁=Inf,β₂=1.0). Distortion 0.45. Acceptance 56%\n",
      "Temperature 3 of 3:(β₁=Inf,β₂=10.0). Distortion 0.431. Acceptance 36%\n",
      "# Finished iter 82 of 100: Parity 0. Distortion 0.431 at β₁=Inf, β₂=10.0. Acceptance: [0.95, 0.56, 0.36].\n",
      "Temperature 1 of 3:(β₁=Inf,β₂=0.1). Distortion 0.475. Acceptance 93%\n",
      "Temperature 2 of 3:(β₁=Inf,β₂=1.0). Distortion 0.451. Acceptance 62%\n",
      "Temperature 3 of 3:(β₁=Inf,β₂=10.0). Distortion 0.421. Acceptance 36%\n",
      "# Finished iter 83 of 100: Parity 0. Distortion 0.421 at β₁=Inf, β₂=10.0. Acceptance: [0.93, 0.62, 0.36].\n",
      "Temperature 1 of 3:(β₁=Inf,β₂=0.1). Distortion 0.496. Acceptance 92%\n",
      "Temperature 2 of 3:(β₁=Inf,β₂=1.0). Distortion 0.471. Acceptance 72%\n",
      "Temperature 3 of 3:(β₁=Inf,β₂=10.0). Distortion 0.442. Acceptance 37%\n",
      "# Finished iter 84 of 100: Parity 0. Distortion 0.442 at β₁=Inf, β₂=10.0. Acceptance: [0.92, 0.72, 0.37].\n",
      "Temperature 1 of 3:(β₁=Inf,β₂=0.1). Distortion 0.486. Acceptance 89%\n",
      "Temperature 2 of 3:(β₁=Inf,β₂=1.0). Distortion 0.44. Acceptance 65%\n",
      "Temperature 3 of 3:(β₁=Inf,β₂=10.0). Distortion 0.426. Acceptance 29%\n",
      "# Finished iter 85 of 100: Parity 0. Distortion 0.426 at β₁=Inf, β₂=10.0. Acceptance: [0.89, 0.65, 0.29].\n",
      "Temperature 1 of 3:(β₁=Inf,β₂=0.1). Distortion 0.467. Acceptance 93%\n",
      "Temperature 2 of 3:(β₁=Inf,β₂=1.0). Distortion 0.437. Acceptance 59%\n",
      "Temperature 3 of 3:(β₁=Inf,β₂=10.0). Distortion 0.421. Acceptance 29%\n",
      "# Finished iter 86 of 100: Parity 0. Distortion 0.421 at β₁=Inf, β₂=10.0. Acceptance: [0.93, 0.59, 0.29].\n",
      "Temperature 1 of 3:(β₁=Inf,β₂=0.1). Distortion 0.474. Acceptance 88%\n",
      "Temperature 2 of 3:(β₁=Inf,β₂=1.0). Distortion 0.451. Acceptance 60%\n",
      "Temperature 3 of 3:(β₁=Inf,β₂=10.0). Distortion 0.427. Acceptance 36%\n",
      "# Finished iter 87 of 100: Parity 0. Distortion 0.427 at β₁=Inf, β₂=10.0. Acceptance: [0.88, 0.6, 0.36].\n",
      "Temperature 1 of 3:(β₁=Inf,β₂=0.1). Distortion 0.454. Acceptance 92%\n",
      "Temperature 2 of 3:(β₁=Inf,β₂=1.0). Distortion 0.425. Acceptance 51%\n",
      "Temperature 3 of 3:(β₁=Inf,β₂=10.0). Distortion 0.395. Acceptance 39%\n",
      "# Finished iter 88 of 100: Parity 0. Distortion 0.395 at β₁=Inf, β₂=10.0. Acceptance: [0.92, 0.51, 0.39].\n",
      "Temperature 1 of 3:(β₁=Inf,β₂=0.1). Distortion 0.468. Acceptance 90%\n",
      "Temperature 2 of 3:(β₁=Inf,β₂=1.0). Distortion 0.444. Acceptance 55%\n",
      "Temperature 3 of 3:(β₁=Inf,β₂=10.0). Distortion 0.422. Acceptance 26%\n",
      "# Finished iter 89 of 100: Parity 0. Distortion 0.422 at β₁=Inf, β₂=10.0. Acceptance: [0.9, 0.55, 0.26].\n",
      "Temperature 1 of 3:(β₁=Inf,β₂=0.1). Distortion 0.497. Acceptance 92%\n",
      "Temperature 2 of 3:(β₁=Inf,β₂=1.0). Distortion 0.468. Acceptance 65%\n",
      "Temperature 3 of 3:(β₁=Inf,β₂=10.0). Distortion 0.454. Acceptance 31%\n",
      "# Finished iter 90 of 100: Parity 0. Distortion 0.454 at β₁=Inf, β₂=10.0. Acceptance: [0.92, 0.65, 0.31].\n",
      "Temperature 1 of 3:(β₁=Inf,β₂=0.1). Distortion 0.486. Acceptance 90%\n",
      "Temperature 2 of 3:(β₁=Inf,β₂=1.0). Distortion 0.444. Acceptance 60%\n",
      "Temperature 3 of 3:(β₁=Inf,β₂=10.0). Distortion 0.432. Acceptance 27%\n",
      "# Finished iter 91 of 100: Parity 0. Distortion 0.432 at β₁=Inf, β₂=10.0. Acceptance: [0.9, 0.6, 0.27].\n",
      "Temperature 1 of 3:(β₁=Inf,β₂=0.1). Distortion 0.48. Acceptance 92%\n",
      "Temperature 2 of 3:(β₁=Inf,β₂=1.0). Distortion 0.439. Acceptance 68%\n",
      "Temperature 3 of 3:(β₁=Inf,β₂=10.0). Distortion 0.415. Acceptance 31%\n",
      "# Finished iter 92 of 100: Parity 0. Distortion 0.415 at β₁=Inf, β₂=10.0. Acceptance: [0.92, 0.68, 0.31].\n",
      "Temperature 1 of 3:(β₁=Inf,β₂=0.1). Distortion 0.486. Acceptance 90%\n",
      "Temperature 2 of 3:(β₁=Inf,β₂=1.0). Distortion 0.447. Acceptance 67%\n",
      "Temperature 3 of 3:(β₁=Inf,β₂=10.0). Distortion 0.427. Acceptance 25%\n",
      "# Finished iter 93 of 100: Parity 0. Distortion 0.427 at β₁=Inf, β₂=10.0. Acceptance: [0.9, 0.67, 0.25].\n",
      "Temperature 1 of 3:(β₁=Inf,β₂=0.1). Distortion 0.442. Acceptance 96%\n",
      "Temperature 2 of 3:(β₁=Inf,β₂=1.0). Distortion 0.399. Acceptance 53%\n",
      "Temperature 3 of 3:(β₁=Inf,β₂=10.0). Distortion 0.382. Acceptance 25%\n",
      "# Finished iter 94 of 100: Parity 0. Distortion 0.382 at β₁=Inf, β₂=10.0. Acceptance: [0.96, 0.53, 0.25].\n",
      "Temperature 1 of 3:(β₁=Inf,β₂=0.1). Distortion 0.494. Acceptance 97%\n",
      "Temperature 2 of 3:(β₁=Inf,β₂=1.0). Distortion 0.439. Acceptance 55%\n",
      "Temperature 3 of 3:(β₁=Inf,β₂=10.0). Distortion 0.425. Acceptance 25%\n",
      "# Finished iter 95 of 100: Parity 0. Distortion 0.425 at β₁=Inf, β₂=10.0. Acceptance: [0.97, 0.55, 0.25].\n",
      "Temperature 1 of 3:(β₁=Inf,β₂=0.1). Distortion 0.467. Acceptance 94%\n",
      "Temperature 2 of 3:(β₁=Inf,β₂=1.0). Distortion 0.446. Acceptance 65%\n",
      "Temperature 3 of 3:(β₁=Inf,β₂=10.0). Distortion 0.421. Acceptance 31%\n",
      "# Finished iter 96 of 100: Parity 0. Distortion 0.421 at β₁=Inf, β₂=10.0. Acceptance: [0.94, 0.65, 0.31].\n",
      "Temperature 1 of 3:(β₁=Inf,β₂=0.1). Distortion 0.489. Acceptance 97%\n",
      "Temperature 2 of 3:(β₁=Inf,β₂=1.0). Distortion 0.457. Acceptance 54%\n",
      "Temperature 3 of 3:(β₁=Inf,β₂=10.0). Distortion 0.44. Acceptance 35%\n",
      "# Finished iter 97 of 100: Parity 0. Distortion 0.440 at β₁=Inf, β₂=10.0. Acceptance: [0.97, 0.54, 0.35].\n",
      "Temperature 1 of 3:(β₁=Inf,β₂=0.1). Distortion 0.51. Acceptance 90%\n",
      "Temperature 2 of 3:(β₁=Inf,β₂=1.0). Distortion 0.472. Acceptance 61%\n",
      "Temperature 3 of 3:(β₁=Inf,β₂=10.0). Distortion 0.449. Acceptance 26%\n",
      "# Finished iter 98 of 100: Parity 0. Distortion 0.449 at β₁=Inf, β₂=10.0. Acceptance: [0.9, 0.61, 0.26].\n",
      "Temperature 1 of 3:(β₁=Inf,β₂=0.1). Distortion 0.488. Acceptance 93%\n",
      "Temperature 2 of 3:(β₁=Inf,β₂=1.0). Distortion 0.445. Acceptance 67%\n",
      "Temperature 3 of 3:(β₁=Inf,β₂=10.0). Distortion 0.429. Acceptance 34%\n",
      "# Finished iter 99 of 100: Parity 0. Distortion 0.429 at β₁=Inf, β₂=10.0. Acceptance: [0.93, 0.67, 0.34].\n",
      "Temperature 1 of 3:(β₁=Inf,β₂=0.1). Distortion 0.475. Acceptance 95%\n",
      "Temperature 2 of 3:(β₁=Inf,β₂=1.0). Distortion 0.449. Acceptance 69%\n",
      "Temperature 3 of 3:(β₁=Inf,β₂=10.0). Distortion 0.421. Acceptance 32%\n",
      "# Finished iter 100 of 100: Parity 0. Distortion 0.421 at β₁=Inf, β₂=10.0. Acceptance: [0.95, 0.69, 0.32].\n",
      "##### b=400. 9 of 9 #####\n",
      "Temperature 1 of 3:(β₁=Inf,β₂=0.1). Distortion 0.468. Acceptance 93%\n",
      "Temperature 2 of 3:(β₁=Inf,β₂=1.0). Distortion 0.445. Acceptance 67%\n",
      "Temperature 3 of 3:(β₁=Inf,β₂=10.0). Distortion 0.433. Acceptance 31%\n",
      "# Finished iter 1 of 100: Parity 0. Distortion 0.433 at β₁=Inf, β₂=10.0. Acceptance: [0.93, 0.67, 0.31].\n",
      "Temperature 1 of 3:(β₁=Inf,β₂=0.1). Distortion 0.497. Acceptance 94%\n",
      "Temperature 2 of 3:(β₁=Inf,β₂=1.0). Distortion 0.459. Acceptance 55%\n",
      "Temperature 3 of 3:(β₁=Inf,β₂=10.0). Distortion 0.451. Acceptance 23%\n",
      "# Finished iter 2 of 100: Parity 0. Distortion 0.451 at β₁=Inf, β₂=10.0. Acceptance: [0.94, 0.55, 0.23].\n",
      "Temperature 1 of 3:(β₁=Inf,β₂=0.1). Distortion 0.477. Acceptance 90%\n",
      "Temperature 2 of 3:(β₁=Inf,β₂=1.0). Distortion 0.445. Acceptance 61%\n",
      "Temperature 3 of 3:(β₁=Inf,β₂=10.0). Distortion 0.433. Acceptance 26%\n",
      "# Finished iter 3 of 100: Parity 0. Distortion 0.433 at β₁=Inf, β₂=10.0. Acceptance: [0.9, 0.61, 0.26].\n"
     ]
    },
    {
     "name": "stdout",
     "output_type": "stream",
     "text": [
      "Temperature 1 of 3:(β₁=Inf,β₂=0.1). Distortion 0.483. Acceptance 94%\n",
      "Temperature 2 of 3:(β₁=Inf,β₂=1.0). Distortion 0.455. Acceptance 59%\n",
      "Temperature 3 of 3:(β₁=Inf,β₂=10.0). Distortion 0.44. Acceptance 25%\n",
      "# Finished iter 4 of 100: Parity 0. Distortion 0.440 at β₁=Inf, β₂=10.0. Acceptance: [0.94, 0.59, 0.25].\n",
      "Temperature 1 of 3:(β₁=Inf,β₂=0.1). Distortion 0.506. Acceptance 97%\n",
      "Temperature 2 of 3:(β₁=Inf,β₂=1.0). Distortion 0.472. Acceptance 61%\n",
      "Temperature 3 of 3:(β₁=Inf,β₂=10.0). Distortion 0.458. Acceptance 32%\n",
      "# Finished iter 5 of 100: Parity 0. Distortion 0.458 at β₁=Inf, β₂=10.0. Acceptance: [0.97, 0.61, 0.32].\n",
      "Temperature 1 of 3:(β₁=Inf,β₂=0.1). Distortion 0.485. Acceptance 91%\n",
      "Temperature 2 of 3:(β₁=Inf,β₂=1.0). Distortion 0.461. Acceptance 63%\n",
      "Temperature 3 of 3:(β₁=Inf,β₂=10.0). Distortion 0.446. Acceptance 27%\n",
      "# Finished iter 6 of 100: Parity 0. Distortion 0.446 at β₁=Inf, β₂=10.0. Acceptance: [0.91, 0.63, 0.27].\n",
      "Temperature 1 of 3:(β₁=Inf,β₂=0.1). Distortion 0.486. Acceptance 93%\n",
      "Temperature 2 of 3:(β₁=Inf,β₂=1.0). Distortion 0.449. Acceptance 60%\n",
      "Temperature 3 of 3:(β₁=Inf,β₂=10.0). Distortion 0.44. Acceptance 29%\n",
      "# Finished iter 7 of 100: Parity 0. Distortion 0.440 at β₁=Inf, β₂=10.0. Acceptance: [0.93, 0.6, 0.29].\n",
      "Temperature 1 of 3:(β₁=Inf,β₂=0.1). Distortion 0.491. Acceptance 96%\n",
      "Temperature 2 of 3:(β₁=Inf,β₂=1.0). Distortion 0.464. Acceptance 62%\n",
      "Temperature 3 of 3:(β₁=Inf,β₂=10.0). Distortion 0.446. Acceptance 36%\n",
      "# Finished iter 8 of 100: Parity 0. Distortion 0.446 at β₁=Inf, β₂=10.0. Acceptance: [0.96, 0.62, 0.36].\n",
      "Temperature 1 of 3:(β₁=Inf,β₂=0.1). Distortion 0.468. Acceptance 94%\n",
      "Temperature 2 of 3:(β₁=Inf,β₂=1.0). Distortion 0.449. Acceptance 64%\n",
      "Temperature 3 of 3:(β₁=Inf,β₂=10.0). Distortion 0.425. Acceptance 34%\n",
      "# Finished iter 9 of 100: Parity 0. Distortion 0.425 at β₁=Inf, β₂=10.0. Acceptance: [0.94, 0.64, 0.34].\n",
      "Temperature 1 of 3:(β₁=Inf,β₂=0.1). Distortion 0.476. Acceptance 91%\n",
      "Temperature 2 of 3:(β₁=Inf,β₂=1.0). Distortion 0.452. Acceptance 56%\n",
      "Temperature 3 of 3:(β₁=Inf,β₂=10.0). Distortion 0.434. Acceptance 24%\n",
      "# Finished iter 10 of 100: Parity 0. Distortion 0.434 at β₁=Inf, β₂=10.0. Acceptance: [0.91, 0.56, 0.24].\n",
      "Temperature 1 of 3:(β₁=Inf,β₂=0.1). Distortion 0.476. Acceptance 96%\n",
      "Temperature 2 of 3:(β₁=Inf,β₂=1.0). Distortion 0.444. Acceptance 58%\n",
      "Temperature 3 of 3:(β₁=Inf,β₂=10.0). Distortion 0.43. Acceptance 31%\n",
      "# Finished iter 11 of 100: Parity 0. Distortion 0.430 at β₁=Inf, β₂=10.0. Acceptance: [0.96, 0.58, 0.31].\n",
      "Temperature 1 of 3:(β₁=Inf,β₂=0.1). Distortion 0.471. Acceptance 90%\n",
      "Temperature 2 of 3:(β₁=Inf,β₂=1.0). Distortion 0.443. Acceptance 62%\n",
      "Temperature 3 of 3:(β₁=Inf,β₂=10.0). Distortion 0.429. Acceptance 32%\n",
      "# Finished iter 12 of 100: Parity 0. Distortion 0.429 at β₁=Inf, β₂=10.0. Acceptance: [0.9, 0.62, 0.32].\n",
      "Temperature 1 of 3:(β₁=Inf,β₂=0.1). Distortion 0.491. Acceptance 90%\n",
      "Temperature 2 of 3:(β₁=Inf,β₂=1.0). Distortion 0.463. Acceptance 62%\n",
      "Temperature 3 of 3:(β₁=Inf,β₂=10.0). Distortion 0.446. Acceptance 24%\n",
      "# Finished iter 13 of 100: Parity 0. Distortion 0.446 at β₁=Inf, β₂=10.0. Acceptance: [0.9, 0.62, 0.24].\n",
      "Temperature 1 of 3:(β₁=Inf,β₂=0.1). Distortion 0.482. Acceptance 90%\n",
      "Temperature 2 of 3:(β₁=Inf,β₂=1.0). Distortion 0.453. Acceptance 63%\n",
      "Temperature 3 of 3:(β₁=Inf,β₂=10.0). Distortion 0.442. Acceptance 30%\n",
      "# Finished iter 14 of 100: Parity 0. Distortion 0.442 at β₁=Inf, β₂=10.0. Acceptance: [0.9, 0.63, 0.3].\n",
      "Temperature 1 of 3:(β₁=Inf,β₂=0.1). Distortion 0.505. Acceptance 91%\n",
      "Temperature 2 of 3:(β₁=Inf,β₂=1.0). Distortion 0.47. Acceptance 68%\n",
      "Temperature 3 of 3:(β₁=Inf,β₂=10.0). Distortion 0.447. Acceptance 26%\n",
      "# Finished iter 15 of 100: Parity 0. Distortion 0.447 at β₁=Inf, β₂=10.0. Acceptance: [0.91, 0.68, 0.26].\n",
      "Temperature 1 of 3:(β₁=Inf,β₂=0.1). Distortion 0.506. Acceptance 94%\n",
      "Temperature 2 of 3:(β₁=Inf,β₂=1.0). Distortion 0.475. Acceptance 62%\n",
      "Temperature 3 of 3:(β₁=Inf,β₂=10.0). Distortion 0.452. Acceptance 31%\n",
      "# Finished iter 16 of 100: Parity 0. Distortion 0.452 at β₁=Inf, β₂=10.0. Acceptance: [0.94, 0.62, 0.31].\n",
      "Temperature 1 of 3:(β₁=Inf,β₂=0.1). Distortion 0.476. Acceptance 98%\n",
      "Temperature 2 of 3:(β₁=Inf,β₂=1.0). Distortion 0.447. Acceptance 69%\n",
      "Temperature 3 of 3:(β₁=Inf,β₂=10.0). Distortion 0.424. Acceptance 35%\n",
      "# Finished iter 17 of 100: Parity 0. Distortion 0.424 at β₁=Inf, β₂=10.0. Acceptance: [0.98, 0.69, 0.35].\n",
      "Temperature 1 of 3:(β₁=Inf,β₂=0.1). Distortion 0.493. Acceptance 97%\n",
      "Temperature 2 of 3:(β₁=Inf,β₂=1.0). Distortion 0.47. Acceptance 61%\n",
      "Temperature 3 of 3:(β₁=Inf,β₂=10.0). Distortion 0.452. Acceptance 29%\n",
      "# Finished iter 18 of 100: Parity 0. Distortion 0.452 at β₁=Inf, β₂=10.0. Acceptance: [0.97, 0.61, 0.29].\n",
      "Temperature 1 of 3:(β₁=Inf,β₂=0.1). Distortion 0.473. Acceptance 96%\n",
      "Temperature 2 of 3:(β₁=Inf,β₂=1.0). Distortion 0.444. Acceptance 75%\n",
      "Temperature 3 of 3:(β₁=Inf,β₂=10.0). Distortion 0.424. Acceptance 43%\n",
      "# Finished iter 19 of 100: Parity 0. Distortion 0.424 at β₁=Inf, β₂=10.0. Acceptance: [0.96, 0.75, 0.43].\n",
      "Temperature 1 of 3:(β₁=Inf,β₂=0.1). Distortion 0.48. Acceptance 93%\n",
      "Temperature 2 of 3:(β₁=Inf,β₂=1.0). Distortion 0.441. Acceptance 68%\n",
      "Temperature 3 of 3:(β₁=Inf,β₂=10.0). Distortion 0.427. Acceptance 32%\n",
      "# Finished iter 20 of 100: Parity 0. Distortion 0.427 at β₁=Inf, β₂=10.0. Acceptance: [0.93, 0.68, 0.32].\n",
      "Temperature 1 of 3:(β₁=Inf,β₂=0.1). Distortion 0.489. Acceptance 94%\n",
      "Temperature 2 of 3:(β₁=Inf,β₂=1.0). Distortion 0.471. Acceptance 66%\n",
      "Temperature 3 of 3:(β₁=Inf,β₂=10.0). Distortion 0.456. Acceptance 39%\n",
      "# Finished iter 21 of 100: Parity 0. Distortion 0.456 at β₁=Inf, β₂=10.0. Acceptance: [0.94, 0.66, 0.39].\n",
      "Temperature 1 of 3:(β₁=Inf,β₂=0.1). Distortion 0.473. Acceptance 93%\n",
      "Temperature 2 of 3:(β₁=Inf,β₂=1.0). Distortion 0.442. Acceptance 59%\n",
      "Temperature 3 of 3:(β₁=Inf,β₂=10.0). Distortion 0.423. Acceptance 31%\n",
      "# Finished iter 22 of 100: Parity 0. Distortion 0.423 at β₁=Inf, β₂=10.0. Acceptance: [0.93, 0.59, 0.31].\n",
      "Temperature 1 of 3:(β₁=Inf,β₂=0.1). Distortion 0.504. Acceptance 93%\n",
      "Temperature 2 of 3:(β₁=Inf,β₂=1.0). Distortion 0.479. Acceptance 63%\n",
      "Temperature 3 of 3:(β₁=Inf,β₂=10.0). Distortion 0.46. Acceptance 40%\n",
      "# Finished iter 23 of 100: Parity 0. Distortion 0.460 at β₁=Inf, β₂=10.0. Acceptance: [0.93, 0.63, 0.4].\n",
      "Temperature 1 of 3:(β₁=Inf,β₂=0.1). Distortion 0.494. Acceptance 94%\n",
      "Temperature 2 of 3:(β₁=Inf,β₂=1.0). Distortion 0.474. Acceptance 75%\n",
      "Temperature 3 of 3:(β₁=Inf,β₂=10.0). Distortion 0.457. Acceptance 40%\n",
      "# Finished iter 24 of 100: Parity 0. Distortion 0.457 at β₁=Inf, β₂=10.0. Acceptance: [0.94, 0.75, 0.4].\n",
      "Temperature 1 of 3:(β₁=Inf,β₂=0.1). Distortion 0.493. Acceptance 93%\n",
      "Temperature 2 of 3:(β₁=Inf,β₂=1.0). Distortion 0.462. Acceptance 65%\n",
      "Temperature 3 of 3:(β₁=Inf,β₂=10.0). Distortion 0.448. Acceptance 31%\n",
      "# Finished iter 25 of 100: Parity 0. Distortion 0.448 at β₁=Inf, β₂=10.0. Acceptance: [0.93, 0.65, 0.31].\n",
      "Temperature 1 of 3:(β₁=Inf,β₂=0.1). Distortion 0.471. Acceptance 92%\n",
      "Temperature 2 of 3:(β₁=Inf,β₂=1.0). Distortion 0.45. Acceptance 61%\n",
      "Temperature 3 of 3:(β₁=Inf,β₂=10.0). Distortion 0.432. Acceptance 32%\n",
      "# Finished iter 26 of 100: Parity 0. Distortion 0.432 at β₁=Inf, β₂=10.0. Acceptance: [0.92, 0.61, 0.32].\n",
      "Temperature 1 of 3:(β₁=Inf,β₂=0.1). Distortion 0.498. Acceptance 98%\n",
      "Temperature 2 of 3:(β₁=Inf,β₂=1.0). Distortion 0.474. Acceptance 63%\n",
      "Temperature 3 of 3:(β₁=Inf,β₂=10.0). Distortion 0.451. Acceptance 32%\n",
      "# Finished iter 27 of 100: Parity 0. Distortion 0.451 at β₁=Inf, β₂=10.0. Acceptance: [0.98, 0.63, 0.32].\n",
      "Temperature 1 of 3:(β₁=Inf,β₂=0.1). Distortion 0.478. Acceptance 91%\n",
      "Temperature 2 of 3:(β₁=Inf,β₂=1.0). Distortion 0.444. Acceptance 65%\n",
      "Temperature 3 of 3:(β₁=Inf,β₂=10.0). Distortion 0.432. Acceptance 27%\n",
      "# Finished iter 28 of 100: Parity 0. Distortion 0.432 at β₁=Inf, β₂=10.0. Acceptance: [0.91, 0.65, 0.27].\n",
      "Temperature 1 of 3:(β₁=Inf,β₂=0.1). Distortion 0.496. Acceptance 93%\n",
      "Temperature 2 of 3:(β₁=Inf,β₂=1.0). Distortion 0.479. Acceptance 68%\n",
      "Temperature 3 of 3:(β₁=Inf,β₂=10.0). Distortion 0.465. Acceptance 32%\n",
      "# Finished iter 29 of 100: Parity 0. Distortion 0.465 at β₁=Inf, β₂=10.0. Acceptance: [0.93, 0.68, 0.32].\n",
      "Temperature 1 of 3:(β₁=Inf,β₂=0.1). Distortion 0.463. Acceptance 93%\n"
     ]
    },
    {
     "name": "stdout",
     "output_type": "stream",
     "text": [
      "Temperature 2 of 3:(β₁=Inf,β₂=1.0). Distortion 0.446. Acceptance 66%\n",
      "Temperature 3 of 3:(β₁=Inf,β₂=10.0). Distortion 0.435. Acceptance 25%\n",
      "# Finished iter 30 of 100: Parity 0. Distortion 0.435 at β₁=Inf, β₂=10.0. Acceptance: [0.93, 0.66, 0.25].\n",
      "Temperature 1 of 3:(β₁=Inf,β₂=0.1). Distortion 0.447. Acceptance 92%\n",
      "Temperature 2 of 3:(β₁=Inf,β₂=1.0). Distortion 0.419. Acceptance 65%\n",
      "Temperature 3 of 3:(β₁=Inf,β₂=10.0). Distortion 0.399. Acceptance 27%\n",
      "# Finished iter 31 of 100: Parity 0. Distortion 0.399 at β₁=Inf, β₂=10.0. Acceptance: [0.92, 0.65, 0.27].\n",
      "Temperature 1 of 3:(β₁=Inf,β₂=0.1). Distortion 0.482. Acceptance 91%\n",
      "Temperature 2 of 3:(β₁=Inf,β₂=1.0). Distortion 0.465. Acceptance 59%\n",
      "Temperature 3 of 3:(β₁=Inf,β₂=10.0). Distortion 0.447. Acceptance 30%\n",
      "# Finished iter 32 of 100: Parity 0. Distortion 0.447 at β₁=Inf, β₂=10.0. Acceptance: [0.91, 0.59, 0.3].\n",
      "Temperature 1 of 3:(β₁=Inf,β₂=0.1). Distortion 0.466. Acceptance 94%\n",
      "Temperature 2 of 3:(β₁=Inf,β₂=1.0). Distortion 0.441. Acceptance 55%\n",
      "Temperature 3 of 3:(β₁=Inf,β₂=10.0). Distortion 0.423. Acceptance 30%\n",
      "# Finished iter 33 of 100: Parity 0. Distortion 0.423 at β₁=Inf, β₂=10.0. Acceptance: [0.94, 0.55, 0.3].\n",
      "Temperature 1 of 3:(β₁=Inf,β₂=0.1). Distortion 0.493. Acceptance 95%\n",
      "Temperature 2 of 3:(β₁=Inf,β₂=1.0). Distortion 0.477. Acceptance 66%\n",
      "Temperature 3 of 3:(β₁=Inf,β₂=10.0). Distortion 0.455. Acceptance 41%\n",
      "# Finished iter 34 of 100: Parity 0. Distortion 0.455 at β₁=Inf, β₂=10.0. Acceptance: [0.95, 0.66, 0.41].\n",
      "Temperature 1 of 3:(β₁=Inf,β₂=0.1). Distortion 0.469. Acceptance 95%\n",
      "Temperature 2 of 3:(β₁=Inf,β₂=1.0). Distortion 0.435. Acceptance 64%\n",
      "Temperature 3 of 3:(β₁=Inf,β₂=10.0). Distortion 0.422. Acceptance 26%\n",
      "# Finished iter 35 of 100: Parity 0. Distortion 0.422 at β₁=Inf, β₂=10.0. Acceptance: [0.95, 0.64, 0.26].\n",
      "Temperature 1 of 3:(β₁=Inf,β₂=0.1). Distortion 0.478. Acceptance 96%\n",
      "Temperature 2 of 3:(β₁=Inf,β₂=1.0). Distortion 0.445. Acceptance 54%\n",
      "Temperature 3 of 3:(β₁=Inf,β₂=10.0). Distortion 0.427. Acceptance 28%\n",
      "# Finished iter 36 of 100: Parity 0. Distortion 0.427 at β₁=Inf, β₂=10.0. Acceptance: [0.96, 0.54, 0.28].\n",
      "Temperature 1 of 3:(β₁=Inf,β₂=0.1). Distortion 0.477. Acceptance 95%\n",
      "Temperature 2 of 3:(β₁=Inf,β₂=1.0). Distortion 0.451. Acceptance 64%\n",
      "Temperature 3 of 3:(β₁=Inf,β₂=10.0). Distortion 0.433. Acceptance 29%\n",
      "# Finished iter 37 of 100: Parity 0. Distortion 0.433 at β₁=Inf, β₂=10.0. Acceptance: [0.95, 0.64, 0.29].\n",
      "Temperature 1 of 3:(β₁=Inf,β₂=0.1). Distortion 0.466. Acceptance 97%\n",
      "Temperature 2 of 3:(β₁=Inf,β₂=1.0). Distortion 0.441. Acceptance 63%\n",
      "Temperature 3 of 3:(β₁=Inf,β₂=10.0). Distortion 0.42. Acceptance 34%\n",
      "# Finished iter 38 of 100: Parity 0. Distortion 0.420 at β₁=Inf, β₂=10.0. Acceptance: [0.97, 0.63, 0.34].\n",
      "Temperature 1 of 3:(β₁=Inf,β₂=0.1). Distortion 0.491. Acceptance 95%\n",
      "Temperature 2 of 3:(β₁=Inf,β₂=1.0). Distortion 0.446. Acceptance 63%\n",
      "Temperature 3 of 3:(β₁=Inf,β₂=10.0). Distortion 0.435. Acceptance 25%\n",
      "# Finished iter 39 of 100: Parity 0. Distortion 0.435 at β₁=Inf, β₂=10.0. Acceptance: [0.95, 0.63, 0.25].\n",
      "Temperature 1 of 3:(β₁=Inf,β₂=0.1). Distortion 0.466. Acceptance 96%\n",
      "Temperature 2 of 3:(β₁=Inf,β₂=1.0). Distortion 0.444. Acceptance 61%\n",
      "Temperature 3 of 3:(β₁=Inf,β₂=10.0). Distortion 0.434. Acceptance 27%\n",
      "# Finished iter 40 of 100: Parity 0. Distortion 0.434 at β₁=Inf, β₂=10.0. Acceptance: [0.96, 0.61, 0.27].\n",
      "Temperature 1 of 3:(β₁=Inf,β₂=0.1). Distortion 0.479. Acceptance 94%\n",
      "Temperature 2 of 3:(β₁=Inf,β₂=1.0). Distortion 0.462. Acceptance 67%\n",
      "Temperature 3 of 3:(β₁=Inf,β₂=10.0). Distortion 0.441. Acceptance 39%\n",
      "# Finished iter 41 of 100: Parity 0. Distortion 0.441 at β₁=Inf, β₂=10.0. Acceptance: [0.94, 0.67, 0.39].\n",
      "Temperature 1 of 3:(β₁=Inf,β₂=0.1). Distortion 0.475. Acceptance 92%\n",
      "Temperature 2 of 3:(β₁=Inf,β₂=1.0). Distortion 0.446. Acceptance 62%\n",
      "Temperature 3 of 3:(β₁=Inf,β₂=10.0). Distortion 0.431. Acceptance 25%\n",
      "# Finished iter 42 of 100: Parity 0. Distortion 0.431 at β₁=Inf, β₂=10.0. Acceptance: [0.92, 0.62, 0.25].\n",
      "Temperature 1 of 3:(β₁=Inf,β₂=0.1). Distortion 0.461. Acceptance 87%\n",
      "Temperature 2 of 3:(β₁=Inf,β₂=1.0). Distortion 0.434. Acceptance 54%\n",
      "Temperature 3 of 3:(β₁=Inf,β₂=10.0). Distortion 0.412. Acceptance 26%\n",
      "# Finished iter 43 of 100: Parity 0. Distortion 0.412 at β₁=Inf, β₂=10.0. Acceptance: [0.87, 0.54, 0.26].\n",
      "Temperature 1 of 3:(β₁=Inf,β₂=0.1). Distortion 0.487. Acceptance 93%\n",
      "Temperature 2 of 3:(β₁=Inf,β₂=1.0). Distortion 0.457. Acceptance 57%\n",
      "Temperature 3 of 3:(β₁=Inf,β₂=10.0). Distortion 0.441. Acceptance 27%\n",
      "# Finished iter 44 of 100: Parity 0. Distortion 0.441 at β₁=Inf, β₂=10.0. Acceptance: [0.93, 0.57, 0.27].\n",
      "Temperature 1 of 3:(β₁=Inf,β₂=0.1). Distortion 0.511. Acceptance 94%\n",
      "Temperature 2 of 3:(β₁=Inf,β₂=1.0). Distortion 0.477. Acceptance 69%\n",
      "Temperature 3 of 3:(β₁=Inf,β₂=10.0). Distortion 0.467. Acceptance 34%\n",
      "# Finished iter 45 of 100: Parity 0. Distortion 0.467 at β₁=Inf, β₂=10.0. Acceptance: [0.94, 0.69, 0.34].\n",
      "Temperature 1 of 3:(β₁=Inf,β₂=0.1). Distortion 0.462. Acceptance 91%\n",
      "Temperature 2 of 3:(β₁=Inf,β₂=1.0). Distortion 0.434. Acceptance 55%\n",
      "Temperature 3 of 3:(β₁=Inf,β₂=10.0). Distortion 0.418. Acceptance 27%\n",
      "# Finished iter 46 of 100: Parity 0. Distortion 0.418 at β₁=Inf, β₂=10.0. Acceptance: [0.91, 0.55, 0.27].\n",
      "Temperature 1 of 3:(β₁=Inf,β₂=0.1). Distortion 0.488. Acceptance 97%\n",
      "Temperature 2 of 3:(β₁=Inf,β₂=1.0). Distortion 0.478. Acceptance 70%\n",
      "Temperature 3 of 3:(β₁=Inf,β₂=10.0). Distortion 0.46. Acceptance 42%\n",
      "# Finished iter 47 of 100: Parity 0. Distortion 0.460 at β₁=Inf, β₂=10.0. Acceptance: [0.97, 0.7, 0.42].\n",
      "Temperature 1 of 3:(β₁=Inf,β₂=0.1). Distortion 0.459. Acceptance 93%\n",
      "Temperature 2 of 3:(β₁=Inf,β₂=1.0). Distortion 0.429. Acceptance 60%\n",
      "Temperature 3 of 3:(β₁=Inf,β₂=10.0). Distortion 0.42. Acceptance 27%\n",
      "# Finished iter 48 of 100: Parity 0. Distortion 0.420 at β₁=Inf, β₂=10.0. Acceptance: [0.93, 0.6, 0.27].\n",
      "Temperature 1 of 3:(β₁=Inf,β₂=0.1). Distortion 0.498. Acceptance 89%\n",
      "Temperature 2 of 3:(β₁=Inf,β₂=1.0). Distortion 0.476. Acceptance 60%\n",
      "Temperature 3 of 3:(β₁=Inf,β₂=10.0). Distortion 0.46. Acceptance 27%\n",
      "# Finished iter 49 of 100: Parity 0. Distortion 0.460 at β₁=Inf, β₂=10.0. Acceptance: [0.89, 0.6, 0.27].\n",
      "Temperature 1 of 3:(β₁=Inf,β₂=0.1). Distortion 0.469. Acceptance 95%\n",
      "Temperature 2 of 3:(β₁=Inf,β₂=1.0). Distortion 0.452. Acceptance 67%\n",
      "Temperature 3 of 3:(β₁=Inf,β₂=10.0). Distortion 0.431. Acceptance 39%\n",
      "# Finished iter 50 of 100: Parity 0. Distortion 0.431 at β₁=Inf, β₂=10.0. Acceptance: [0.95, 0.67, 0.39].\n",
      "Temperature 1 of 3:(β₁=Inf,β₂=0.1). Distortion 0.47. Acceptance 93%\n",
      "Temperature 2 of 3:(β₁=Inf,β₂=1.0). Distortion 0.448. Acceptance 56%\n",
      "Temperature 3 of 3:(β₁=Inf,β₂=10.0). Distortion 0.431. Acceptance 39%\n",
      "# Finished iter 51 of 100: Parity 0. Distortion 0.431 at β₁=Inf, β₂=10.0. Acceptance: [0.93, 0.56, 0.39].\n",
      "Temperature 1 of 3:(β₁=Inf,β₂=0.1). Distortion 0.446. Acceptance 89%\n",
      "Temperature 2 of 3:(β₁=Inf,β₂=1.0). Distortion 0.43. Acceptance 59%\n",
      "Temperature 3 of 3:(β₁=Inf,β₂=10.0). Distortion 0.415. Acceptance 26%\n",
      "# Finished iter 52 of 100: Parity 0. Distortion 0.415 at β₁=Inf, β₂=10.0. Acceptance: [0.89, 0.59, 0.26].\n",
      "Temperature 1 of 3:(β₁=Inf,β₂=0.1). Distortion 0.478. Acceptance 91%\n",
      "Temperature 2 of 3:(β₁=Inf,β₂=1.0). Distortion 0.464. Acceptance 69%\n",
      "Temperature 3 of 3:(β₁=Inf,β₂=10.0). Distortion 0.446. Acceptance 41%\n",
      "# Finished iter 53 of 100: Parity 0. Distortion 0.446 at β₁=Inf, β₂=10.0. Acceptance: [0.91, 0.69, 0.41].\n",
      "Temperature 1 of 3:(β₁=Inf,β₂=0.1). Distortion 0.475. Acceptance 96%\n",
      "Temperature 2 of 3:(β₁=Inf,β₂=1.0). Distortion 0.444. Acceptance 60%\n",
      "Temperature 3 of 3:(β₁=Inf,β₂=10.0). Distortion 0.431. Acceptance 29%\n",
      "# Finished iter 54 of 100: Parity 0. Distortion 0.431 at β₁=Inf, β₂=10.0. Acceptance: [0.96, 0.6, 0.29].\n",
      "Temperature 1 of 3:(β₁=Inf,β₂=0.1). Distortion 0.479. Acceptance 90%\n",
      "Temperature 2 of 3:(β₁=Inf,β₂=1.0). Distortion 0.454. Acceptance 61%\n",
      "Temperature 3 of 3:(β₁=Inf,β₂=10.0). Distortion 0.439. Acceptance 34%\n",
      "# Finished iter 55 of 100: Parity 0. Distortion 0.439 at β₁=Inf, β₂=10.0. Acceptance: [0.9, 0.61, 0.34].\n",
      "Temperature 1 of 3:(β₁=Inf,β₂=0.1). Distortion 0.495. Acceptance 94%\n",
      "Temperature 2 of 3:(β₁=Inf,β₂=1.0). Distortion 0.468. Acceptance 68%\n"
     ]
    },
    {
     "name": "stdout",
     "output_type": "stream",
     "text": [
      "Temperature 3 of 3:(β₁=Inf,β₂=10.0). Distortion 0.447. Acceptance 32%\n",
      "# Finished iter 56 of 100: Parity 0. Distortion 0.447 at β₁=Inf, β₂=10.0. Acceptance: [0.94, 0.68, 0.32].\n",
      "Temperature 1 of 3:(β₁=Inf,β₂=0.1). Distortion 0.497. Acceptance 95%\n",
      "Temperature 2 of 3:(β₁=Inf,β₂=1.0). Distortion 0.466. Acceptance 66%\n",
      "Temperature 3 of 3:(β₁=Inf,β₂=10.0). Distortion 0.45. Acceptance 25%\n",
      "# Finished iter 57 of 100: Parity 0. Distortion 0.450 at β₁=Inf, β₂=10.0. Acceptance: [0.95, 0.66, 0.25].\n",
      "Temperature 1 of 3:(β₁=Inf,β₂=0.1). Distortion 0.493. Acceptance 91%\n",
      "Temperature 2 of 3:(β₁=Inf,β₂=1.0). Distortion 0.464. Acceptance 59%\n",
      "Temperature 3 of 3:(β₁=Inf,β₂=10.0). Distortion 0.445. Acceptance 28%\n",
      "# Finished iter 58 of 100: Parity 0. Distortion 0.445 at β₁=Inf, β₂=10.0. Acceptance: [0.91, 0.59, 0.28].\n",
      "Temperature 1 of 3:(β₁=Inf,β₂=0.1). Distortion 0.496. Acceptance 93%\n",
      "Temperature 2 of 3:(β₁=Inf,β₂=1.0). Distortion 0.451. Acceptance 64%\n",
      "Temperature 3 of 3:(β₁=Inf,β₂=10.0). Distortion 0.436. Acceptance 31%\n",
      "# Finished iter 59 of 100: Parity 0. Distortion 0.436 at β₁=Inf, β₂=10.0. Acceptance: [0.93, 0.64, 0.31].\n",
      "Temperature 1 of 3:(β₁=Inf,β₂=0.1). Distortion 0.476. Acceptance 94%\n",
      "Temperature 2 of 3:(β₁=Inf,β₂=1.0). Distortion 0.446. Acceptance 64%\n",
      "Temperature 3 of 3:(β₁=Inf,β₂=10.0). Distortion 0.433. Acceptance 36%\n",
      "# Finished iter 60 of 100: Parity 0. Distortion 0.433 at β₁=Inf, β₂=10.0. Acceptance: [0.94, 0.64, 0.36].\n",
      "Temperature 1 of 3:(β₁=Inf,β₂=0.1). Distortion 0.495. Acceptance 94%\n",
      "Temperature 2 of 3:(β₁=Inf,β₂=1.0). Distortion 0.456. Acceptance 64%\n",
      "Temperature 3 of 3:(β₁=Inf,β₂=10.0). Distortion 0.448. Acceptance 25%\n",
      "# Finished iter 61 of 100: Parity 0. Distortion 0.448 at β₁=Inf, β₂=10.0. Acceptance: [0.94, 0.64, 0.25].\n",
      "Temperature 1 of 3:(β₁=Inf,β₂=0.1). Distortion 0.505. Acceptance 95%\n",
      "Temperature 2 of 3:(β₁=Inf,β₂=1.0). Distortion 0.473. Acceptance 61%\n",
      "Temperature 3 of 3:(β₁=Inf,β₂=10.0). Distortion 0.461. Acceptance 34%\n",
      "# Finished iter 62 of 100: Parity 0. Distortion 0.461 at β₁=Inf, β₂=10.0. Acceptance: [0.95, 0.61, 0.34].\n",
      "Temperature 1 of 3:(β₁=Inf,β₂=0.1). Distortion 0.483. Acceptance 95%\n",
      "Temperature 2 of 3:(β₁=Inf,β₂=1.0). Distortion 0.456. Acceptance 69%\n",
      "Temperature 3 of 3:(β₁=Inf,β₂=10.0). Distortion 0.438. Acceptance 32%\n",
      "# Finished iter 63 of 100: Parity 0. Distortion 0.438 at β₁=Inf, β₂=10.0. Acceptance: [0.95, 0.69, 0.32].\n",
      "Temperature 1 of 3:(β₁=Inf,β₂=0.1). Distortion 0.464. Acceptance 91%\n",
      "Temperature 2 of 3:(β₁=Inf,β₂=1.0). Distortion 0.434. Acceptance 60%\n",
      "Temperature 1 of 3:(β₁=Inf,β₂=0.1). Distortion 0.488. Acceptance 91%\n",
      "Temperature 2 of 3:(β₁=Inf,β₂=1.0). Distortion 0.456. Acceptance 63%\n",
      "Temperature 3 of 3:(β₁=Inf,β₂=10.0). Distortion 0.435. Acceptance 25%\n",
      "# Finished iter 65 of 100: Parity 0. Distortion 0.435 at β₁=Inf, β₂=10.0. Acceptance: [0.91, 0.63, 0.25].\n",
      "Temperature 1 of 3:(β₁=Inf,β₂=0.1). Distortion 0.488. Acceptance 94%\n",
      "Temperature 2 of 3:(β₁=Inf,β₂=1.0). Distortion 0.459. Acceptance 67%\n",
      "Temperature 3 of 3:(β₁=Inf,β₂=10.0). Distortion 0.44. Acceptance 32%\n",
      "# Finished iter 66 of 100: Parity 0. Distortion 0.440 at β₁=Inf, β₂=10.0. Acceptance: [0.94, 0.67, 0.32].\n",
      "Temperature 1 of 3:(β₁=Inf,β₂=0.1). Distortion 0.482. Acceptance 94%\n",
      "Temperature 2 of 3:(β₁=Inf,β₂=1.0). Distortion 0.448. Acceptance 65%\n",
      "Temperature 3 of 3:(β₁=Inf,β₂=10.0). Distortion 0.432. Acceptance 35%\n",
      "# Finished iter 67 of 100: Parity 0. Distortion 0.432 at β₁=Inf, β₂=10.0. Acceptance: [0.94, 0.65, 0.35].\n",
      "Temperature 1 of 3:(β₁=Inf,β₂=0.1). Distortion 0.498. Acceptance 95%\n",
      "Temperature 2 of 3:(β₁=Inf,β₂=1.0). Distortion 0.464. Acceptance 60%\n",
      "Temperature 3 of 3:(β₁=Inf,β₂=10.0). Distortion 0.446. Acceptance 27%\n",
      "# Finished iter 68 of 100: Parity 0. Distortion 0.446 at β₁=Inf, β₂=10.0. Acceptance: [0.95, 0.6, 0.27].\n",
      "Temperature 1 of 3:(β₁=Inf,β₂=0.1). Distortion 0.466. Acceptance 94%\n",
      "Temperature 2 of 3:(β₁=Inf,β₂=1.0). Distortion 0.441. Acceptance 67%\n",
      "Temperature 3 of 3:(β₁=Inf,β₂=10.0). Distortion 0.421. Acceptance 36%\n",
      "# Finished iter 69 of 100: Parity 0. Distortion 0.421 at β₁=Inf, β₂=10.0. Acceptance: [0.94, 0.67, 0.36].\n",
      "Temperature 1 of 3:(β₁=Inf,β₂=0.1). Distortion 0.491. Acceptance 92%\n",
      "Temperature 2 of 3:(β₁=Inf,β₂=1.0). Distortion 0.473. Acceptance 69%\n",
      "Temperature 3 of 3:(β₁=Inf,β₂=10.0). Distortion 0.458. Acceptance 34%\n",
      "# Finished iter 70 of 100: Parity 0. Distortion 0.458 at β₁=Inf, β₂=10.0. Acceptance: [0.92, 0.69, 0.34].\n",
      "Temperature 1 of 3:(β₁=Inf,β₂=0.1). Distortion 0.478. Acceptance 92%\n",
      "Temperature 2 of 3:(β₁=Inf,β₂=1.0). Distortion 0.451. Acceptance 58%\n",
      "Temperature 3 of 3:(β₁=Inf,β₂=10.0). Distortion 0.441. Acceptance 32%\n",
      "# Finished iter 71 of 100: Parity 0. Distortion 0.441 at β₁=Inf, β₂=10.0. Acceptance: [0.92, 0.58, 0.32].\n",
      "Temperature 1 of 3:(β₁=Inf,β₂=0.1). Distortion 0.478. Acceptance 93%\n",
      "Temperature 2 of 3:(β₁=Inf,β₂=1.0). Distortion 0.448. Acceptance 62%\n",
      "Temperature 3 of 3:(β₁=Inf,β₂=10.0). Distortion 0.429. Acceptance 34%\n",
      "# Finished iter 72 of 100: Parity 0. Distortion 0.429 at β₁=Inf, β₂=10.0. Acceptance: [0.93, 0.62, 0.34].\n",
      "Temperature 1 of 3:(β₁=Inf,β₂=0.1). Distortion 0.489. Acceptance 90%\n",
      "Temperature 2 of 3:(β₁=Inf,β₂=1.0). Distortion 0.457. Acceptance 59%\n",
      "Temperature 3 of 3:(β₁=Inf,β₂=10.0). Distortion 0.438. Acceptance 29%\n",
      "# Finished iter 73 of 100: Parity 0. Distortion 0.438 at β₁=Inf, β₂=10.0. Acceptance: [0.9, 0.59, 0.29].\n",
      "Temperature 1 of 3:(β₁=Inf,β₂=0.1). Distortion 0.485. Acceptance 90%\n",
      "Temperature 2 of 3:(β₁=Inf,β₂=1.0). Distortion 0.457. Acceptance 65%\n",
      "Temperature 3 of 3:(β₁=Inf,β₂=10.0). Distortion 0.443. Acceptance 28%\n",
      "# Finished iter 74 of 100: Parity 0. Distortion 0.443 at β₁=Inf, β₂=10.0. Acceptance: [0.9, 0.65, 0.28].\n",
      "Temperature 1 of 3:(β₁=Inf,β₂=0.1). Distortion 0.492. Acceptance 93%\n",
      "Temperature 2 of 3:(β₁=Inf,β₂=1.0). Distortion 0.463. Acceptance 62%\n",
      "Temperature 3 of 3:(β₁=Inf,β₂=10.0). Distortion 0.451. Acceptance 29%\n",
      "# Finished iter 75 of 100: Parity 0. Distortion 0.451 at β₁=Inf, β₂=10.0. Acceptance: [0.93, 0.62, 0.29].\n",
      "Temperature 1 of 3:(β₁=Inf,β₂=0.1). Distortion 0.46. Acceptance 96%\n",
      "Temperature 2 of 3:(β₁=Inf,β₂=1.0). Distortion 0.435. Acceptance 57%\n",
      "Temperature 3 of 3:(β₁=Inf,β₂=10.0). Distortion 0.415. Acceptance 30%\n",
      "# Finished iter 76 of 100: Parity 0. Distortion 0.415 at β₁=Inf, β₂=10.0. Acceptance: [0.96, 0.57, 0.3].\n",
      "Temperature 1 of 3:(β₁=Inf,β₂=0.1). Distortion 0.468. Acceptance 97%\n",
      "Temperature 2 of 3:(β₁=Inf,β₂=1.0). Distortion 0.451. Acceptance 56%\n",
      "Temperature 3 of 3:(β₁=Inf,β₂=10.0). Distortion 0.428. Acceptance 34%\n",
      "# Finished iter 77 of 100: Parity 0. Distortion 0.428 at β₁=Inf, β₂=10.0. Acceptance: [0.97, 0.56, 0.34].\n",
      "Temperature 1 of 3:(β₁=Inf,β₂=0.1). Distortion 0.498. Acceptance 95%\n",
      "Temperature 2 of 3:(β₁=Inf,β₂=1.0). Distortion 0.472. Acceptance 67%\n",
      "Temperature 3 of 3:(β₁=Inf,β₂=10.0). Distortion 0.448. Acceptance 33%\n",
      "# Finished iter 78 of 100: Parity 0. Distortion 0.448 at β₁=Inf, β₂=10.0. Acceptance: [0.95, 0.67, 0.33].\n",
      "Temperature 1 of 3:(β₁=Inf,β₂=0.1). Distortion 0.474. Acceptance 92%\n",
      "Temperature 2 of 3:(β₁=Inf,β₂=1.0). Distortion 0.447. Acceptance 67%\n",
      "Temperature 3 of 3:(β₁=Inf,β₂=10.0). Distortion 0.427. Acceptance 33%\n",
      "# Finished iter 79 of 100: Parity 0. Distortion 0.427 at β₁=Inf, β₂=10.0. Acceptance: [0.92, 0.67, 0.33].\n",
      "Temperature 1 of 3:(β₁=Inf,β₂=0.1). Distortion 0.477. Acceptance 95%\n",
      "Temperature 2 of 3:(β₁=Inf,β₂=1.0). Distortion 0.455. Acceptance 61%\n",
      "Temperature 3 of 3:(β₁=Inf,β₂=10.0). Distortion 0.434. Acceptance 33%\n",
      "# Finished iter 80 of 100: Parity 0. Distortion 0.434 at β₁=Inf, β₂=10.0. Acceptance: [0.95, 0.61, 0.33].\n",
      "Temperature 1 of 3:(β₁=Inf,β₂=0.1). Distortion 0.47. Acceptance 95%\n",
      "Temperature 2 of 3:(β₁=Inf,β₂=1.0). Distortion 0.455. Acceptance 57%\n",
      "Temperature 3 of 3:(β₁=Inf,β₂=10.0). Distortion 0.435. Acceptance 30%\n",
      "# Finished iter 81 of 100: Parity 0. Distortion 0.435 at β₁=Inf, β₂=10.0. Acceptance: [0.95, 0.57, 0.3].\n",
      "Temperature 1 of 3:(β₁=Inf,β₂=0.1). Distortion 0.471. Acceptance 95%\n",
      "Temperature 2 of 3:(β₁=Inf,β₂=1.0). Distortion 0.449. Acceptance 63%\n",
      "Temperature 3 of 3:(β₁=Inf,β₂=10.0). Distortion 0.433. Acceptance 34%\n",
      "# Finished iter 82 of 100: Parity 0. Distortion 0.433 at β₁=Inf, β₂=10.0. Acceptance: [0.95, 0.63, 0.34].\n",
      "Temperature 1 of 3:(β₁=Inf,β₂=0.1). Distortion 0.488. Acceptance 95%\n"
     ]
    },
    {
     "name": "stdout",
     "output_type": "stream",
     "text": [
      "Temperature 2 of 3:(β₁=Inf,β₂=1.0). Distortion 0.461. Acceptance 66%\n",
      "Temperature 3 of 3:(β₁=Inf,β₂=10.0). Distortion 0.444. Acceptance 29%\n",
      "# Finished iter 83 of 100: Parity 0. Distortion 0.444 at β₁=Inf, β₂=10.0. Acceptance: [0.95, 0.66, 0.29].\n",
      "Temperature 1 of 3:(β₁=Inf,β₂=0.1). Distortion 0.484. Acceptance 94%\n",
      "Temperature 2 of 3:(β₁=Inf,β₂=1.0). Distortion 0.461. Acceptance 74%\n",
      "Temperature 3 of 3:(β₁=Inf,β₂=10.0). Distortion 0.444. Acceptance 23%\n",
      "# Finished iter 84 of 100: Parity 0. Distortion 0.444 at β₁=Inf, β₂=10.0. Acceptance: [0.94, 0.74, 0.23].\n",
      "Temperature 1 of 3:(β₁=Inf,β₂=0.1). Distortion 0.471. Acceptance 96%\n",
      "Temperature 2 of 3:(β₁=Inf,β₂=1.0). Distortion 0.452. Acceptance 60%\n",
      "Temperature 3 of 3:(β₁=Inf,β₂=10.0). Distortion 0.435. Acceptance 35%\n",
      "# Finished iter 85 of 100: Parity 0. Distortion 0.435 at β₁=Inf, β₂=10.0. Acceptance: [0.96, 0.6, 0.35].\n",
      "Temperature 1 of 3:(β₁=Inf,β₂=0.1). Distortion 0.477. Acceptance 91%\n",
      "Temperature 2 of 3:(β₁=Inf,β₂=1.0). Distortion 0.468. Acceptance 73%\n",
      "Temperature 3 of 3:(β₁=Inf,β₂=10.0). Distortion 0.441. Acceptance 42%\n",
      "# Finished iter 86 of 100: Parity 0. Distortion 0.441 at β₁=Inf, β₂=10.0. Acceptance: [0.91, 0.73, 0.42].\n",
      "Temperature 1 of 3:(β₁=Inf,β₂=0.1). Distortion 0.452. Acceptance 95%\n",
      "Temperature 2 of 3:(β₁=Inf,β₂=1.0). Distortion 0.431. Acceptance 59%\n",
      "Temperature 3 of 3:(β₁=Inf,β₂=10.0). Distortion 0.41. Acceptance 34%\n",
      "# Finished iter 87 of 100: Parity 0. Distortion 0.410 at β₁=Inf, β₂=10.0. Acceptance: [0.95, 0.59, 0.34].\n",
      "Temperature 1 of 3:(β₁=Inf,β₂=0.1). Distortion 0.484. Acceptance 96%\n",
      "Temperature 2 of 3:(β₁=Inf,β₂=1.0). Distortion 0.461. Acceptance 64%\n",
      "Temperature 3 of 3:(β₁=Inf,β₂=10.0). Distortion 0.44. Acceptance 33%\n",
      "# Finished iter 88 of 100: Parity 0. Distortion 0.440 at β₁=Inf, β₂=10.0. Acceptance: [0.96, 0.64, 0.33].\n",
      "Temperature 1 of 3:(β₁=Inf,β₂=0.1). Distortion 0.491. Acceptance 87%\n",
      "Temperature 2 of 3:(β₁=Inf,β₂=1.0). Distortion 0.453. Acceptance 71%\n",
      "Temperature 3 of 3:(β₁=Inf,β₂=10.0). Distortion 0.437. Acceptance 25%\n",
      "# Finished iter 89 of 100: Parity 0. Distortion 0.437 at β₁=Inf, β₂=10.0. Acceptance: [0.87, 0.71, 0.25].\n",
      "Temperature 1 of 3:(β₁=Inf,β₂=0.1). Distortion 0.488. Acceptance 92%\n",
      "Temperature 2 of 3:(β₁=Inf,β₂=1.0). Distortion 0.461. Acceptance 67%\n",
      "Temperature 3 of 3:(β₁=Inf,β₂=10.0). Distortion 0.448. Acceptance 30%\n",
      "# Finished iter 90 of 100: Parity 0. Distortion 0.448 at β₁=Inf, β₂=10.0. Acceptance: [0.92, 0.67, 0.3].\n",
      "Temperature 1 of 3:(β₁=Inf,β₂=0.1). Distortion 0.487. Acceptance 90%\n",
      "Temperature 2 of 3:(β₁=Inf,β₂=1.0). Distortion 0.458. Acceptance 70%\n",
      "Temperature 3 of 3:(β₁=Inf,β₂=10.0). Distortion 0.443. Acceptance 33%\n",
      "# Finished iter 91 of 100: Parity 0. Distortion 0.443 at β₁=Inf, β₂=10.0. Acceptance: [0.9, 0.7, 0.33].\n",
      "Temperature 1 of 3:(β₁=Inf,β₂=0.1). Distortion 0.482. Acceptance 94%\n",
      "Temperature 2 of 3:(β₁=Inf,β₂=1.0). Distortion 0.454. Acceptance 62%\n",
      "Temperature 3 of 3:(β₁=Inf,β₂=10.0). Distortion 0.44. Acceptance 22%\n",
      "# Finished iter 92 of 100: Parity 0. Distortion 0.440 at β₁=Inf, β₂=10.0. Acceptance: [0.94, 0.62, 0.22].\n",
      "Temperature 1 of 3:(β₁=Inf,β₂=0.1). Distortion 0.478. Acceptance 97%\n",
      "Temperature 2 of 3:(β₁=Inf,β₂=1.0). Distortion 0.442. Acceptance 60%\n",
      "Temperature 3 of 3:(β₁=Inf,β₂=10.0). Distortion 0.419. Acceptance 30%\n",
      "# Finished iter 93 of 100: Parity 0. Distortion 0.419 at β₁=Inf, β₂=10.0. Acceptance: [0.97, 0.6, 0.3].\n",
      "Temperature 1 of 3:(β₁=Inf,β₂=0.1). Distortion 0.486. Acceptance 96%\n",
      "Temperature 2 of 3:(β₁=Inf,β₂=1.0). Distortion 0.458. Acceptance 68%\n",
      "Temperature 3 of 3:(β₁=Inf,β₂=10.0). Distortion 0.441. Acceptance 33%\n",
      "# Finished iter 94 of 100: Parity 0. Distortion 0.441 at β₁=Inf, β₂=10.0. Acceptance: [0.96, 0.68, 0.33].\n",
      "Temperature 1 of 3:(β₁=Inf,β₂=0.1). Distortion 0.469. Acceptance 93%\n",
      "Temperature 2 of 3:(β₁=Inf,β₂=1.0). Distortion 0.44. Acceptance 63%\n",
      "Temperature 3 of 3:(β₁=Inf,β₂=10.0). Distortion 0.428. Acceptance 27%\n",
      "# Finished iter 95 of 100: Parity 0. Distortion 0.428 at β₁=Inf, β₂=10.0. Acceptance: [0.93, 0.63, 0.27].\n",
      "Temperature 1 of 3:(β₁=Inf,β₂=0.1). Distortion 0.501. Acceptance 91%\n",
      "Temperature 2 of 3:(β₁=Inf,β₂=1.0). Distortion 0.469. Acceptance 53%\n",
      "Temperature 3 of 3:(β₁=Inf,β₂=10.0). Distortion 0.459. Acceptance 23%\n",
      "# Finished iter 96 of 100: Parity 0. Distortion 0.459 at β₁=Inf, β₂=10.0. Acceptance: [0.91, 0.53, 0.23].\n",
      "Temperature 1 of 3:(β₁=Inf,β₂=0.1). Distortion 0.492. Acceptance 92%\n",
      "Temperature 2 of 3:(β₁=Inf,β₂=1.0). Distortion 0.474. Acceptance 57%\n",
      "Temperature 3 of 3:(β₁=Inf,β₂=10.0). Distortion 0.46. Acceptance 34%\n",
      "# Finished iter 97 of 100: Parity 0. Distortion 0.460 at β₁=Inf, β₂=10.0. Acceptance: [0.92, 0.57, 0.34].\n",
      "Temperature 1 of 3:(β₁=Inf,β₂=0.1). Distortion 0.478. Acceptance 92%\n",
      "Temperature 2 of 3:(β₁=Inf,β₂=1.0). Distortion 0.455. Acceptance 56%\n",
      "Temperature 3 of 3:(β₁=Inf,β₂=10.0). Distortion 0.44. Acceptance 31%\n",
      "# Finished iter 98 of 100: Parity 0. Distortion 0.440 at β₁=Inf, β₂=10.0. Acceptance: [0.92, 0.56, 0.31].\n",
      "Temperature 1 of 3:(β₁=Inf,β₂=0.1). Distortion 0.463. Acceptance 97%\n",
      "Temperature 2 of 3:(β₁=Inf,β₂=1.0). Distortion 0.442. Acceptance 67%\n",
      "Temperature 3 of 3:(β₁=Inf,β₂=10.0). Distortion 0.421. Acceptance 35%\n",
      "# Finished iter 99 of 100: Parity 0. Distortion 0.421 at β₁=Inf, β₂=10.0. Acceptance: [0.97, 0.67, 0.35].\n",
      "Temperature 1 of 3:(β₁=Inf,β₂=0.1). Distortion 0.448. Acceptance 95%\n",
      "Temperature 2 of 3:(β₁=Inf,β₂=1.0). Distortion 0.406. Acceptance 64%\n",
      "Temperature 3 of 3:(β₁=Inf,β₂=10.0). Distortion 0.395. Acceptance 25%\n",
      "# Finished iter 100 of 100: Parity 0. Distortion 0.395 at β₁=Inf, β₂=10.0. Acceptance: [0.95, 0.64, 0.25].\n"
     ]
    },
    {
     "data": {
      "text/plain": [
       "(value = nothing, time = 8629.118237264, bytes = 22186945280944, gctime = 1724.008811322, gcstats = Base.GC_Diff(22186945280944, 2714400, 0, 9383676987, 1601189407, 0, 1724008811322, 333425, 15))"
      ]
     },
     "execution_count": 52,
     "metadata": {},
     "output_type": "execute_result"
    }
   ],
   "source": [
    "time_SA = @timed for (i,b) in enumerate(bvals)\n",
    "    println(\"##### b=$b. $i of $(length(bvals)) #####\")\n",
    "    sims[i] = Simulation(q, n, m, sa, b=b, niter=niter, verbose=true, randseed=randseed+i, showprogress=false)\n",
    "end"
   ]
  },
  {
   "cell_type": "code",
   "execution_count": 53,
   "metadata": {},
   "outputs": [
    {
     "name": "stdout",
     "output_type": "stream",
     "text": [
      "Runtime for simulated annealing: 8629s\n"
     ]
    }
   ],
   "source": [
    "println(\"Runtime for simulated annealing: \", Int(round(time_SA.time)), \"s\")"
   ]
  },
  {
   "cell_type": "code",
   "execution_count": 54,
   "metadata": {
    "scrolled": false
   },
   "outputs": [
    {
     "data": {
      "image/svg+xml": [
       "<?xml version=\"1.0\" encoding=\"utf-8\"?>\n",
       "<svg xmlns=\"http://www.w3.org/2000/svg\" xmlns:xlink=\"http://www.w3.org/1999/xlink\" width=\"600\" height=\"400\" viewBox=\"0 0 2400 1600\">\n",
       "<defs>\n",
       "  <clipPath id=\"clip6400\">\n",
       "    <rect x=\"0\" y=\"0\" width=\"2400\" height=\"1600\"/>\n",
       "  </clipPath>\n",
       "</defs>\n",
       "<path clip-path=\"url(#clip6400)\" d=\"\n",
       "M0 1600 L2400 1600 L2400 0 L0 0  Z\n",
       "  \" fill=\"#ffffff\" fill-rule=\"evenodd\" fill-opacity=\"1\"/>\n",
       "<defs>\n",
       "  <clipPath id=\"clip6401\">\n",
       "    <rect x=\"480\" y=\"0\" width=\"1681\" height=\"1600\"/>\n",
       "  </clipPath>\n",
       "</defs>\n",
       "<path clip-path=\"url(#clip6400)\" d=\"\n",
       "M269.279 1425.62 L2352.76 1425.62 L2352.76 121.675 L269.279 121.675  Z\n",
       "  \" fill=\"#ffffff\" fill-rule=\"evenodd\" fill-opacity=\"1\"/>\n",
       "<defs>\n",
       "  <clipPath id=\"clip6402\">\n",
       "    <rect x=\"269\" y=\"121\" width=\"2084\" height=\"1305\"/>\n",
       "  </clipPath>\n",
       "</defs>\n",
       "<polyline clip-path=\"url(#clip6402)\" style=\"stroke:#000000; stroke-width:2; stroke-opacity:0.1; fill:none\" points=\"\n",
       "  323.319,1425.62 323.319,121.675 \n",
       "  \"/>\n",
       "<polyline clip-path=\"url(#clip6402)\" style=\"stroke:#000000; stroke-width:2; stroke-opacity:0.1; fill:none\" points=\"\n",
       "  815.937,1425.62 815.937,121.675 \n",
       "  \"/>\n",
       "<polyline clip-path=\"url(#clip6402)\" style=\"stroke:#000000; stroke-width:2; stroke-opacity:0.1; fill:none\" points=\"\n",
       "  1308.55,1425.62 1308.55,121.675 \n",
       "  \"/>\n",
       "<polyline clip-path=\"url(#clip6402)\" style=\"stroke:#000000; stroke-width:2; stroke-opacity:0.1; fill:none\" points=\"\n",
       "  1801.17,1425.62 1801.17,121.675 \n",
       "  \"/>\n",
       "<polyline clip-path=\"url(#clip6402)\" style=\"stroke:#000000; stroke-width:2; stroke-opacity:0.1; fill:none\" points=\"\n",
       "  2293.79,1425.62 2293.79,121.675 \n",
       "  \"/>\n",
       "<polyline clip-path=\"url(#clip6402)\" style=\"stroke:#000000; stroke-width:2; stroke-opacity:0.1; fill:none\" points=\"\n",
       "  269.279,1416.99 2352.76,1416.99 \n",
       "  \"/>\n",
       "<polyline clip-path=\"url(#clip6402)\" style=\"stroke:#000000; stroke-width:2; stroke-opacity:0.1; fill:none\" points=\"\n",
       "  269.279,1199.66 2352.76,1199.66 \n",
       "  \"/>\n",
       "<polyline clip-path=\"url(#clip6402)\" style=\"stroke:#000000; stroke-width:2; stroke-opacity:0.1; fill:none\" points=\"\n",
       "  269.279,982.332 2352.76,982.332 \n",
       "  \"/>\n",
       "<polyline clip-path=\"url(#clip6402)\" style=\"stroke:#000000; stroke-width:2; stroke-opacity:0.1; fill:none\" points=\"\n",
       "  269.279,765.004 2352.76,765.004 \n",
       "  \"/>\n",
       "<polyline clip-path=\"url(#clip6402)\" style=\"stroke:#000000; stroke-width:2; stroke-opacity:0.1; fill:none\" points=\"\n",
       "  269.279,547.675 2352.76,547.675 \n",
       "  \"/>\n",
       "<polyline clip-path=\"url(#clip6402)\" style=\"stroke:#000000; stroke-width:2; stroke-opacity:0.1; fill:none\" points=\"\n",
       "  269.279,330.346 2352.76,330.346 \n",
       "  \"/>\n",
       "<polyline clip-path=\"url(#clip6400)\" style=\"stroke:#000000; stroke-width:4; stroke-opacity:1; fill:none\" points=\"\n",
       "  269.279,1425.62 2352.76,1425.62 \n",
       "  \"/>\n",
       "<polyline clip-path=\"url(#clip6400)\" style=\"stroke:#000000; stroke-width:4; stroke-opacity:1; fill:none\" points=\"\n",
       "  269.279,1425.62 269.279,121.675 \n",
       "  \"/>\n",
       "<polyline clip-path=\"url(#clip6400)\" style=\"stroke:#000000; stroke-width:4; stroke-opacity:1; fill:none\" points=\"\n",
       "  323.319,1425.62 323.319,1409.97 \n",
       "  \"/>\n",
       "<polyline clip-path=\"url(#clip6400)\" style=\"stroke:#000000; stroke-width:4; stroke-opacity:1; fill:none\" points=\"\n",
       "  815.937,1425.62 815.937,1409.97 \n",
       "  \"/>\n",
       "<polyline clip-path=\"url(#clip6400)\" style=\"stroke:#000000; stroke-width:4; stroke-opacity:1; fill:none\" points=\"\n",
       "  1308.55,1425.62 1308.55,1409.97 \n",
       "  \"/>\n",
       "<polyline clip-path=\"url(#clip6400)\" style=\"stroke:#000000; stroke-width:4; stroke-opacity:1; fill:none\" points=\"\n",
       "  1801.17,1425.62 1801.17,1409.97 \n",
       "  \"/>\n",
       "<polyline clip-path=\"url(#clip6400)\" style=\"stroke:#000000; stroke-width:4; stroke-opacity:1; fill:none\" points=\"\n",
       "  2293.79,1425.62 2293.79,1409.97 \n",
       "  \"/>\n",
       "<polyline clip-path=\"url(#clip6400)\" style=\"stroke:#000000; stroke-width:4; stroke-opacity:1; fill:none\" points=\"\n",
       "  269.279,1416.99 294.28,1416.99 \n",
       "  \"/>\n",
       "<polyline clip-path=\"url(#clip6400)\" style=\"stroke:#000000; stroke-width:4; stroke-opacity:1; fill:none\" points=\"\n",
       "  269.279,1199.66 294.28,1199.66 \n",
       "  \"/>\n",
       "<polyline clip-path=\"url(#clip6400)\" style=\"stroke:#000000; stroke-width:4; stroke-opacity:1; fill:none\" points=\"\n",
       "  269.279,982.332 294.28,982.332 \n",
       "  \"/>\n",
       "<polyline clip-path=\"url(#clip6400)\" style=\"stroke:#000000; stroke-width:4; stroke-opacity:1; fill:none\" points=\"\n",
       "  269.279,765.004 294.28,765.004 \n",
       "  \"/>\n",
       "<polyline clip-path=\"url(#clip6400)\" style=\"stroke:#000000; stroke-width:4; stroke-opacity:1; fill:none\" points=\"\n",
       "  269.279,547.675 294.28,547.675 \n",
       "  \"/>\n",
       "<polyline clip-path=\"url(#clip6400)\" style=\"stroke:#000000; stroke-width:4; stroke-opacity:1; fill:none\" points=\"\n",
       "  269.279,330.346 294.28,330.346 \n",
       "  \"/>\n",
       "<g clip-path=\"url(#clip6400)\">\n",
       "<text style=\"fill:#000000; fill-opacity:1; font-family:Arial,Helvetica Neue,Helvetica,sans-serif; font-size:48px; text-anchor:middle;\" transform=\"rotate(0, 323.319, 1479.62)\" x=\"323.319\" y=\"1479.62\">0</text>\n",
       "</g>\n",
       "<g clip-path=\"url(#clip6400)\">\n",
       "<text style=\"fill:#000000; fill-opacity:1; font-family:Arial,Helvetica Neue,Helvetica,sans-serif; font-size:48px; text-anchor:middle;\" transform=\"rotate(0, 815.937, 1479.62)\" x=\"815.937\" y=\"1479.62\">100</text>\n",
       "</g>\n",
       "<g clip-path=\"url(#clip6400)\">\n",
       "<text style=\"fill:#000000; fill-opacity:1; font-family:Arial,Helvetica Neue,Helvetica,sans-serif; font-size:48px; text-anchor:middle;\" transform=\"rotate(0, 1308.55, 1479.62)\" x=\"1308.55\" y=\"1479.62\">200</text>\n",
       "</g>\n",
       "<g clip-path=\"url(#clip6400)\">\n",
       "<text style=\"fill:#000000; fill-opacity:1; font-family:Arial,Helvetica Neue,Helvetica,sans-serif; font-size:48px; text-anchor:middle;\" transform=\"rotate(0, 1801.17, 1479.62)\" x=\"1801.17\" y=\"1479.62\">300</text>\n",
       "</g>\n",
       "<g clip-path=\"url(#clip6400)\">\n",
       "<text style=\"fill:#000000; fill-opacity:1; font-family:Arial,Helvetica Neue,Helvetica,sans-serif; font-size:48px; text-anchor:middle;\" transform=\"rotate(0, 2293.79, 1479.62)\" x=\"2293.79\" y=\"1479.62\">400</text>\n",
       "</g>\n",
       "<g clip-path=\"url(#clip6400)\">\n",
       "<text style=\"fill:#000000; fill-opacity:1; font-family:Arial,Helvetica Neue,Helvetica,sans-serif; font-size:48px; text-anchor:end;\" transform=\"rotate(0, 245.279, 1434.49)\" x=\"245.279\" y=\"1434.49\">0.410</text>\n",
       "</g>\n",
       "<g clip-path=\"url(#clip6400)\">\n",
       "<text style=\"fill:#000000; fill-opacity:1; font-family:Arial,Helvetica Neue,Helvetica,sans-serif; font-size:48px; text-anchor:end;\" transform=\"rotate(0, 245.279, 1217.16)\" x=\"245.279\" y=\"1217.16\">0.415</text>\n",
       "</g>\n",
       "<g clip-path=\"url(#clip6400)\">\n",
       "<text style=\"fill:#000000; fill-opacity:1; font-family:Arial,Helvetica Neue,Helvetica,sans-serif; font-size:48px; text-anchor:end;\" transform=\"rotate(0, 245.279, 999.832)\" x=\"245.279\" y=\"999.832\">0.420</text>\n",
       "</g>\n",
       "<g clip-path=\"url(#clip6400)\">\n",
       "<text style=\"fill:#000000; fill-opacity:1; font-family:Arial,Helvetica Neue,Helvetica,sans-serif; font-size:48px; text-anchor:end;\" transform=\"rotate(0, 245.279, 782.504)\" x=\"245.279\" y=\"782.504\">0.425</text>\n",
       "</g>\n",
       "<g clip-path=\"url(#clip6400)\">\n",
       "<text style=\"fill:#000000; fill-opacity:1; font-family:Arial,Helvetica Neue,Helvetica,sans-serif; font-size:48px; text-anchor:end;\" transform=\"rotate(0, 245.279, 565.175)\" x=\"245.279\" y=\"565.175\">0.430</text>\n",
       "</g>\n",
       "<g clip-path=\"url(#clip6400)\">\n",
       "<text style=\"fill:#000000; fill-opacity:1; font-family:Arial,Helvetica Neue,Helvetica,sans-serif; font-size:48px; text-anchor:end;\" transform=\"rotate(0, 245.279, 347.846)\" x=\"245.279\" y=\"347.846\">0.435</text>\n",
       "</g>\n",
       "<g clip-path=\"url(#clip6400)\">\n",
       "<text style=\"fill:#000000; fill-opacity:1; font-family:Arial,Helvetica Neue,Helvetica,sans-serif; font-size:84px; text-anchor:middle;\" transform=\"rotate(0, 1311.02, 73.2)\" x=\"1311.02\" y=\"73.2\">Distortion vs removed factors - Simulated Annealing</text>\n",
       "</g>\n",
       "<g clip-path=\"url(#clip6400)\">\n",
       "<text style=\"fill:#000000; fill-opacity:1; font-family:Arial,Helvetica Neue,Helvetica,sans-serif; font-size:66px; text-anchor:middle;\" transform=\"rotate(0, 1311.02, 1559.48)\" x=\"1311.02\" y=\"1559.48\">b</text>\n",
       "</g>\n",
       "<g clip-path=\"url(#clip6400)\">\n",
       "<text style=\"fill:#000000; fill-opacity:1; font-family:Arial,Helvetica Neue,Helvetica,sans-serif; font-size:66px; text-anchor:middle;\" transform=\"rotate(-90, 89.2861, 773.647)\" x=\"89.2861\" y=\"773.647\">D</text>\n",
       "</g>\n",
       "<path clip-path=\"url(#clip6402)\" d=\"\n",
       "M328.245 856.466 L338.097 1038.66 L347.95 1112.14 L372.581 1185.74 L421.842 1359.23 L569.628 1388.71 L815.937 1117.09 L1308.55 812.203 L2293.79 279.568 L2293.79 158.579 \n",
       "  L1308.55 703.895 L815.937 1010.14 L569.628 1270.53 L421.842 1256.55 L372.581 1072.75 L347.95 989.007 L338.097 927.748 L328.245 746.563  Z\n",
       "  \" fill=\"#009af9\" fill-rule=\"evenodd\" fill-opacity=\"0.5\"/>\n",
       "<polyline clip-path=\"url(#clip6402)\" style=\"stroke:#009af9; stroke-width:4; stroke-opacity:1; fill:none\" points=\"\n",
       "  328.245,801.515 338.097,983.202 347.95,1050.57 372.581,1129.25 421.842,1307.89 569.628,1329.62 815.937,1063.61 1308.55,758.049 2293.79,219.074 \n",
       "  \"/>\n",
       "<circle clip-path=\"url(#clip6402)\" cx=\"328.245\" cy=\"801.515\" r=\"14\" fill=\"#009af9\" fill-rule=\"evenodd\" fill-opacity=\"1\" stroke=\"#000000\" stroke-opacity=\"1\" stroke-width=\"3.2\"/>\n",
       "<circle clip-path=\"url(#clip6402)\" cx=\"338.097\" cy=\"983.202\" r=\"14\" fill=\"#009af9\" fill-rule=\"evenodd\" fill-opacity=\"1\" stroke=\"#000000\" stroke-opacity=\"1\" stroke-width=\"3.2\"/>\n",
       "<circle clip-path=\"url(#clip6402)\" cx=\"347.95\" cy=\"1050.57\" r=\"14\" fill=\"#009af9\" fill-rule=\"evenodd\" fill-opacity=\"1\" stroke=\"#000000\" stroke-opacity=\"1\" stroke-width=\"3.2\"/>\n",
       "<circle clip-path=\"url(#clip6402)\" cx=\"372.581\" cy=\"1129.25\" r=\"14\" fill=\"#009af9\" fill-rule=\"evenodd\" fill-opacity=\"1\" stroke=\"#000000\" stroke-opacity=\"1\" stroke-width=\"3.2\"/>\n",
       "<circle clip-path=\"url(#clip6402)\" cx=\"421.842\" cy=\"1307.89\" r=\"14\" fill=\"#009af9\" fill-rule=\"evenodd\" fill-opacity=\"1\" stroke=\"#000000\" stroke-opacity=\"1\" stroke-width=\"3.2\"/>\n",
       "<circle clip-path=\"url(#clip6402)\" cx=\"569.628\" cy=\"1329.62\" r=\"14\" fill=\"#009af9\" fill-rule=\"evenodd\" fill-opacity=\"1\" stroke=\"#000000\" stroke-opacity=\"1\" stroke-width=\"3.2\"/>\n",
       "<circle clip-path=\"url(#clip6402)\" cx=\"815.937\" cy=\"1063.61\" r=\"14\" fill=\"#009af9\" fill-rule=\"evenodd\" fill-opacity=\"1\" stroke=\"#000000\" stroke-opacity=\"1\" stroke-width=\"3.2\"/>\n",
       "<circle clip-path=\"url(#clip6402)\" cx=\"1308.55\" cy=\"758.049\" r=\"14\" fill=\"#009af9\" fill-rule=\"evenodd\" fill-opacity=\"1\" stroke=\"#000000\" stroke-opacity=\"1\" stroke-width=\"3.2\"/>\n",
       "<circle clip-path=\"url(#clip6402)\" cx=\"2293.79\" cy=\"219.074\" r=\"14\" fill=\"#009af9\" fill-rule=\"evenodd\" fill-opacity=\"1\" stroke=\"#000000\" stroke-opacity=\"1\" stroke-width=\"3.2\"/>\n",
       "</svg>\n"
      ]
     },
     "execution_count": 54,
     "metadata": {},
     "output_type": "execute_result"
    }
   ],
   "source": [
    "dist = distortion.(sims)\n",
    "avg_dist = mean.(dist)\n",
    "sd_dist = std.(dist) ./ sqrt(niter)\n",
    "pl = Plots.plot(bvals, avg_dist, xlabel=\"b\", ylabel=\"D\", label=\"\", ribbon=sd_dist, marker=:circle)\n",
    "title!(\"Distortion vs removed factors - Simulated Annealing\")"
   ]
  },
  {
   "cell_type": "markdown",
   "metadata": {},
   "source": [
    "$b$-reduction seems to indeed have some effect"
   ]
  },
  {
   "cell_type": "markdown",
   "metadata": {},
   "source": [
    "## Compare with Max-sum\n",
    "\n",
    "Run Max-sum on the same graphs and observe differences"
   ]
  },
  {
   "cell_type": "code",
   "execution_count": 55,
   "metadata": {},
   "outputs": [],
   "source": [
    "sims_ms = Vector{Simulation{MS}}(undef, length(bvals))\n",
    "ms = MS(maxiter=200, gamma=5e-3);"
   ]
  },
  {
   "cell_type": "code",
   "execution_count": 56,
   "metadata": {
    "scrolled": true
   },
   "outputs": [
    {
     "name": "stdout",
     "output_type": "stream",
     "text": [
      "##### b=1. 1 of 9 #####\n"
     ]
    },
    {
     "name": "stderr",
     "output_type": "stream",
     "text": [
      "\u001b[32mTrial 1/5 100%|█████████████████████████████████████████| Time: 0:00:05\u001b[39m\n",
      "\u001b[32mTrial 2/5 100%|█████████████████████████████████████████| Time: 0:00:05\u001b[39m\n",
      "\u001b[32mTrial 3/5 100%|█████████████████████████████████████████| Time: 0:00:05\u001b[39m\n",
      "\u001b[32mTrial 4/5 100%|█████████████████████████████████████████| Time: 0:00:05\u001b[39m\n",
      "\u001b[32mTrial 5/5 100%|█████████████████████████████████████████| Time: 0:00:05\u001b[39m\n"
     ]
    },
    {
     "name": "stdout",
     "output_type": "stream",
     "text": [
      "# Finished iter 1 of 100: U after 200 iters, 5 trials. Parity 2. Distortion 0.50.\n"
     ]
    },
    {
     "name": "stderr",
     "output_type": "stream",
     "text": [
      "\u001b[32mTrial 1/5 100%|█████████████████████████████████████████| Time: 0:00:05\u001b[39m\n",
      "\u001b[32mTrial 2/5 100%|█████████████████████████████████████████| Time: 0:00:05\u001b[39m\n",
      "\u001b[32mTrial 3/5 100%|█████████████████████████████████████████| Time: 0:00:05\u001b[39m\n",
      "\u001b[32mTrial 4/5 100%|█████████████████████████████████████████| Time: 0:00:05\u001b[39m\n",
      "\u001b[32mTrial 5/5 100%|█████████████████████████████████████████| Time: 0:00:05\u001b[39m\n"
     ]
    },
    {
     "name": "stdout",
     "output_type": "stream",
     "text": [
      "# Finished iter 2 of 100: U after 200 iters, 5 trials. Parity 3. Distortion 0.50.\n"
     ]
    },
    {
     "name": "stderr",
     "output_type": "stream",
     "text": [
      "\u001b[32mTrial 1/5 100%|█████████████████████████████████████████| Time: 0:00:06\u001b[39m\n",
      "\u001b[32mTrial 2/5 100%|█████████████████████████████████████████| Time: 0:00:05\u001b[39m\n",
      "\u001b[32mTrial 3/5 100%|█████████████████████████████████████████| Time: 0:00:05\u001b[39m\n",
      "\u001b[32mTrial 4/5 100%|█████████████████████████████████████████| Time: 0:00:05\u001b[39m\n",
      "\u001b[32mTrial 5/5 100%|█████████████████████████████████████████| Time: 0:00:05\u001b[39m\n"
     ]
    },
    {
     "name": "stdout",
     "output_type": "stream",
     "text": [
      "# Finished iter 3 of 100: U after 200 iters, 5 trials. Parity 1. Distortion 0.50.\n",
      "# Finished iter 4 of 100: C after 22 iters, 1 trials. Parity 0. Distortion 0.11.\n"
     ]
    },
    {
     "name": "stderr",
     "output_type": "stream",
     "text": [
      "\u001b[32mTrial 1/5 100%|█████████████████████████████████████████| Time: 0:00:05\u001b[39m\n",
      "\u001b[32mTrial 2/5 100%|█████████████████████████████████████████| Time: 0:00:05\u001b[39m\n",
      "\u001b[32mTrial 3/5 100%|█████████████████████████████████████████| Time: 0:00:05\u001b[39m\n",
      "\u001b[32mTrial 4/5 100%|█████████████████████████████████████████| Time: 0:00:05\u001b[39m\n",
      "\u001b[32mTrial 5/5 100%|█████████████████████████████████████████| Time: 0:00:05\u001b[39m\n"
     ]
    },
    {
     "name": "stdout",
     "output_type": "stream",
     "text": [
      "# Finished iter 5 of 100: U after 200 iters, 5 trials. Parity 1. Distortion 0.50.\n"
     ]
    },
    {
     "name": "stderr",
     "output_type": "stream",
     "text": [
      "\u001b[32mTrial 1/5 100%|█████████████████████████████████████████| Time: 0:00:05\u001b[39m\n",
      "\u001b[32mTrial 2/5 100%|█████████████████████████████████████████| Time: 0:00:05\u001b[39m\n",
      "\u001b[32mTrial 3/5 100%|█████████████████████████████████████████| Time: 0:00:05\u001b[39m\n",
      "\u001b[32mTrial 4/5 100%|█████████████████████████████████████████| Time: 0:00:05\u001b[39m\n",
      "\u001b[32mTrial 5/5 100%|█████████████████████████████████████████| Time: 0:00:05\u001b[39m\n"
     ]
    },
    {
     "name": "stdout",
     "output_type": "stream",
     "text": [
      "# Finished iter 6 of 100: U after 200 iters, 5 trials. Parity 1. Distortion 0.50.\n"
     ]
    },
    {
     "name": "stderr",
     "output_type": "stream",
     "text": [
      "\u001b[32mTrial 1/5 100%|█████████████████████████████████████████| Time: 0:00:05\u001b[39m\n",
      "\u001b[32mTrial 2/5 100%|█████████████████████████████████████████| Time: 0:00:05\u001b[39m\n",
      "\u001b[32mTrial 3/5 100%|█████████████████████████████████████████| Time: 0:00:05\u001b[39m\n",
      "\u001b[32mTrial 4/5 100%|█████████████████████████████████████████| Time: 0:00:05\u001b[39m\n",
      "\u001b[32mTrial 5/5 100%|█████████████████████████████████████████| Time: 0:00:05\u001b[39m\n"
     ]
    },
    {
     "name": "stdout",
     "output_type": "stream",
     "text": [
      "# Finished iter 7 of 100: U after 200 iters, 5 trials. Parity 1. Distortion 0.50.\n"
     ]
    },
    {
     "name": "stderr",
     "output_type": "stream",
     "text": [
      "\u001b[32mTrial 1/5 100%|█████████████████████████████████████████| Time: 0:00:05\u001b[39m\n",
      "\u001b[32mTrial 2/5 100%|█████████████████████████████████████████| Time: 0:00:05\u001b[39m\n",
      "\u001b[32mTrial 3/5 100%|█████████████████████████████████████████| Time: 0:00:05\u001b[39m\n",
      "\u001b[32mTrial 4/5 100%|█████████████████████████████████████████| Time: 0:00:05\u001b[39m\n",
      "\u001b[32mTrial 5/5 100%|█████████████████████████████████████████| Time: 0:00:05\u001b[39m\n"
     ]
    },
    {
     "name": "stdout",
     "output_type": "stream",
     "text": [
      "# Finished iter 8 of 100: U after 200 iters, 5 trials. Parity 2. Distortion 0.50.\n"
     ]
    },
    {
     "name": "stderr",
     "output_type": "stream",
     "text": [
      "\r",
      "\u001b[32mTrial 1/5  18%|███████▍                                 |  ETA: 0:00:05\u001b[39m"
     ]
    },
    {
     "name": "stdout",
     "output_type": "stream",
     "text": [
      "# Finished iter 9 of 100: C after 38 iters, 1 trials. Parity 0. Distortion 0.11.\n"
     ]
    },
    {
     "name": "stderr",
     "output_type": "stream",
     "text": [
      "\u001b[32mTrial 1/5 100%|█████████████████████████████████████████| Time: 0:00:05\u001b[39m\n",
      "\u001b[32mTrial 2/5 100%|█████████████████████████████████████████| Time: 0:00:05\u001b[39m\n",
      "\u001b[32mTrial 3/5 100%|█████████████████████████████████████████| Time: 0:00:05\u001b[39m\n",
      "\u001b[32mTrial 4/5 100%|█████████████████████████████████████████| Time: 0:00:05\u001b[39m\n",
      "\u001b[32mTrial 5/5 100%|█████████████████████████████████████████| Time: 0:00:05\u001b[39m\n"
     ]
    },
    {
     "name": "stdout",
     "output_type": "stream",
     "text": [
      "# Finished iter 10 of 100: U after 200 iters, 5 trials. Parity 2. Distortion 0.50.\n"
     ]
    },
    {
     "name": "stderr",
     "output_type": "stream",
     "text": [
      "\u001b[32mTrial 1/5 100%|█████████████████████████████████████████| Time: 0:00:05\u001b[39m\n",
      "\u001b[32mTrial 2/5 100%|█████████████████████████████████████████| Time: 0:00:05\u001b[39m\n",
      "\u001b[32mTrial 3/5 100%|█████████████████████████████████████████| Time: 0:00:05\u001b[39m\n",
      "\u001b[32mTrial 4/5 100%|█████████████████████████████████████████| Time: 0:00:05\u001b[39m\n",
      "\u001b[32mTrial 5/5 100%|█████████████████████████████████████████| Time: 0:00:05\u001b[39m\n"
     ]
    },
    {
     "name": "stdout",
     "output_type": "stream",
     "text": [
      "# Finished iter 11 of 100: U after 200 iters, 5 trials. Parity 2. Distortion 0.50.\n"
     ]
    },
    {
     "name": "stderr",
     "output_type": "stream",
     "text": [
      "\u001b[32mTrial 1/5 100%|█████████████████████████████████████████| Time: 0:00:05\u001b[39m\n",
      "\u001b[32mTrial 2/5 100%|█████████████████████████████████████████| Time: 0:00:05\u001b[39m\n",
      "\u001b[32mTrial 3/5 100%|█████████████████████████████████████████| Time: 0:00:05\u001b[39m\n",
      "\u001b[32mTrial 4/5 100%|█████████████████████████████████████████| Time: 0:00:05\u001b[39m\n",
      "\u001b[32mTrial 5/5 100%|█████████████████████████████████████████| Time: 0:00:05\u001b[39m\n"
     ]
    },
    {
     "name": "stdout",
     "output_type": "stream",
     "text": [
      "# Finished iter 12 of 100: U after 200 iters, 5 trials. Parity 1. Distortion 0.50.\n"
     ]
    },
    {
     "name": "stderr",
     "output_type": "stream",
     "text": [
      "\u001b[32mTrial 1/5  36%|██████████████▊                          |  ETA: 0:00:04\u001b[39m"
     ]
    },
    {
     "name": "stdout",
     "output_type": "stream",
     "text": [
      "# Finished iter 13 of 100: C after 74 iters, 1 trials. Parity 0. Distortion 0.10.\n"
     ]
    },
    {
     "name": "stderr",
     "output_type": "stream",
     "text": [
      "\u001b[32mTrial 1/5 100%|█████████████████████████████████████████| Time: 0:00:05\u001b[39m\n",
      "\u001b[32mTrial 2/5 100%|█████████████████████████████████████████| Time: 0:00:05\u001b[39m\n",
      "\u001b[32mTrial 3/5 100%|█████████████████████████████████████████| Time: 0:00:05\u001b[39m\n",
      "\u001b[32mTrial 4/5 100%|█████████████████████████████████████████| Time: 0:00:05\u001b[39m\n",
      "\u001b[32mTrial 5/5 100%|█████████████████████████████████████████| Time: 0:00:05\u001b[39m\n"
     ]
    },
    {
     "name": "stdout",
     "output_type": "stream",
     "text": [
      "# Finished iter 14 of 100: U after 200 iters, 5 trials. Parity 1. Distortion 0.50.\n"
     ]
    },
    {
     "name": "stderr",
     "output_type": "stream",
     "text": [
      "\u001b[32mTrial 1/5 100%|█████████████████████████████████████████| Time: 0:00:05\u001b[39m\n",
      "\u001b[32mTrial 2/5 100%|█████████████████████████████████████████| Time: 0:00:05\u001b[39m\n",
      "\u001b[32mTrial 3/5 100%|█████████████████████████████████████████| Time: 0:00:05\u001b[39m\n",
      "\u001b[32mTrial 4/5 100%|█████████████████████████████████████████| Time: 0:00:05\u001b[39m\n",
      "\u001b[32mTrial 5/5 100%|█████████████████████████████████████████| Time: 0:00:05\u001b[39m\n"
     ]
    },
    {
     "name": "stdout",
     "output_type": "stream",
     "text": [
      "# Finished iter 15 of 100: U after 200 iters, 5 trials. Parity 1. Distortion 0.50.\n"
     ]
    },
    {
     "name": "stderr",
     "output_type": "stream",
     "text": [
      "\u001b[32mTrial 1/5 100%|█████████████████████████████████████████| Time: 0:00:05\u001b[39m\n",
      "\u001b[32mTrial 2/5 100%|█████████████████████████████████████████| Time: 0:00:05\u001b[39m\n",
      "\u001b[32mTrial 3/5 100%|█████████████████████████████████████████| Time: 0:00:05\u001b[39m\n",
      "\u001b[32mTrial 4/5 100%|█████████████████████████████████████████| Time: 0:00:05\u001b[39m\n",
      "\u001b[32mTrial 5/5 100%|█████████████████████████████████████████| Time: 0:00:05\u001b[39m\n"
     ]
    },
    {
     "name": "stdout",
     "output_type": "stream",
     "text": [
      "# Finished iter 16 of 100: U after 200 iters, 5 trials. Parity 5. Distortion 0.50.\n"
     ]
    },
    {
     "name": "stderr",
     "output_type": "stream",
     "text": [
      "\u001b[32mTrial 1/5 100%|█████████████████████████████████████████| Time: 0:00:05\u001b[39m\n",
      "\u001b[32mTrial 2/5 100%|█████████████████████████████████████████| Time: 0:00:05\u001b[39m\n",
      "\u001b[32mTrial 3/5 100%|█████████████████████████████████████████| Time: 0:00:05\u001b[39m\n",
      "\u001b[32mTrial 4/5 100%|█████████████████████████████████████████| Time: 0:00:05\u001b[39m\n",
      "\u001b[32mTrial 5/5 100%|█████████████████████████████████████████| Time: 0:00:05\u001b[39m\n"
     ]
    },
    {
     "name": "stdout",
     "output_type": "stream",
     "text": [
      "# Finished iter 17 of 100: U after 200 iters, 5 trials. Parity 1. Distortion 0.50.\n"
     ]
    },
    {
     "name": "stderr",
     "output_type": "stream",
     "text": [
      "\u001b[32mTrial 1/5 100%|█████████████████████████████████████████| Time: 0:00:05\u001b[39m\n"
     ]
    },
    {
     "name": "stdout",
     "output_type": "stream",
     "text": [
      "# Finished iter 18 of 100: C after 36 iters, 2 trials. Parity 0. Distortion 0.10.\n"
     ]
    },
    {
     "name": "stderr",
     "output_type": "stream",
     "text": [
      "\u001b[32mTrial 1/5 100%|█████████████████████████████████████████| Time: 0:00:05\u001b[39m\n",
      "\u001b[32mTrial 2/5 100%|█████████████████████████████████████████| Time: 0:00:05\u001b[39m\n",
      "\u001b[32mTrial 3/5 100%|█████████████████████████████████████████| Time: 0:00:05\u001b[39m\n",
      "\u001b[32mTrial 4/5 100%|█████████████████████████████████████████| Time: 0:00:05\u001b[39m\n",
      "\u001b[32mTrial 5/5 100%|█████████████████████████████████████████| Time: 0:00:05\u001b[39m\n"
     ]
    },
    {
     "name": "stdout",
     "output_type": "stream",
     "text": [
      "# Finished iter 19 of 100: U after 200 iters, 5 trials. Parity 1. Distortion 0.50.\n"
     ]
    },
    {
     "name": "stderr",
     "output_type": "stream",
     "text": [
      "\u001b[32mTrial 1/5 100%|█████████████████████████████████████████| Time: 0:00:05\u001b[39m\n",
      "\u001b[32mTrial 2/5 100%|█████████████████████████████████████████| Time: 0:00:05\u001b[39m\n",
      "\u001b[32mTrial 3/5 100%|█████████████████████████████████████████| Time: 0:00:05\u001b[39m\n",
      "\u001b[32mTrial 4/5 100%|█████████████████████████████████████████| Time: 0:00:05\u001b[39m\n",
      "\u001b[32mTrial 5/5 100%|█████████████████████████████████████████| Time: 0:00:05\u001b[39m\n"
     ]
    },
    {
     "name": "stdout",
     "output_type": "stream",
     "text": [
      "# Finished iter 20 of 100: U after 200 iters, 5 trials. Parity 2. Distortion 0.50.\n",
      "# Finished iter 21 of 100: C after 35 iters, 1 trials. Parity 0. Distortion 0.10.\n"
     ]
    },
    {
     "name": "stderr",
     "output_type": "stream",
     "text": [
      "\u001b[32mTrial 1/5 100%|█████████████████████████████████████████| Time: 0:00:05\u001b[39m\n",
      "\u001b[32mTrial 2/5 100%|█████████████████████████████████████████| Time: 0:00:05\u001b[39m\n",
      "\u001b[32mTrial 3/5 100%|█████████████████████████████████████████| Time: 0:00:05\u001b[39m\n",
      "\u001b[32mTrial 4/5 100%|█████████████████████████████████████████| Time: 0:00:05\u001b[39m\n",
      "\u001b[32mTrial 5/5 100%|█████████████████████████████████████████| Time: 0:00:05\u001b[39m\n"
     ]
    },
    {
     "name": "stdout",
     "output_type": "stream",
     "text": [
      "# Finished iter 22 of 100: U after 200 iters, 5 trials. Parity 1. Distortion 0.50.\n"
     ]
    },
    {
     "name": "stderr",
     "output_type": "stream",
     "text": [
      "\u001b[32mTrial 1/5 100%|█████████████████████████████████████████| Time: 0:00:05\u001b[39m\n",
      "\u001b[32mTrial 2/5 100%|█████████████████████████████████████████| Time: 0:00:05\u001b[39m\n",
      "\u001b[32mTrial 3/5 100%|█████████████████████████████████████████| Time: 0:00:05\u001b[39m\n",
      "\u001b[32mTrial 4/5 100%|█████████████████████████████████████████| Time: 0:00:05\u001b[39m\n",
      "\u001b[32mTrial 5/5 100%|█████████████████████████████████████████| Time: 0:00:05\u001b[39m\n"
     ]
    },
    {
     "name": "stdout",
     "output_type": "stream",
     "text": [
      "# Finished iter 23 of 100: U after 200 iters, 5 trials. Parity 2. Distortion 0.50.\n",
      "# Finished iter 24 of 100: C after 20 iters, 1 trials. Parity 0. Distortion 0.11.\n"
     ]
    },
    {
     "name": "stderr",
     "output_type": "stream",
     "text": [
      "\u001b[32mTrial 1/5 100%|█████████████████████████████████████████| Time: 0:00:05\u001b[39m\n",
      "\u001b[32mTrial 2/5 100%|█████████████████████████████████████████| Time: 0:00:05\u001b[39m\n",
      "\u001b[32mTrial 3/5 100%|█████████████████████████████████████████| Time: 0:00:05\u001b[39m\n",
      "\u001b[32mTrial 4/5 100%|█████████████████████████████████████████| Time: 0:00:05\u001b[39m\n",
      "\u001b[32mTrial 5/5 100%|█████████████████████████████████████████| Time: 0:00:05\u001b[39m\n"
     ]
    },
    {
     "name": "stdout",
     "output_type": "stream",
     "text": [
      "# Finished iter 25 of 100: U after 200 iters, 5 trials. Parity 1. Distortion 0.50.\n"
     ]
    },
    {
     "name": "stderr",
     "output_type": "stream",
     "text": [
      "\u001b[32mTrial 1/5 100%|█████████████████████████████████████████| Time: 0:00:05\u001b[39m\n",
      "\u001b[32mTrial 2/5 100%|█████████████████████████████████████████| Time: 0:00:05\u001b[39m\n",
      "\u001b[32mTrial 3/5 100%|█████████████████████████████████████████| Time: 0:00:05\u001b[39m\n",
      "\u001b[32mTrial 4/5 100%|█████████████████████████████████████████| Time: 0:00:05\u001b[39m\n",
      "\u001b[32mTrial 5/5 100%|█████████████████████████████████████████| Time: 0:00:05\u001b[39m\n"
     ]
    },
    {
     "name": "stdout",
     "output_type": "stream",
     "text": [
      "# Finished iter 26 of 100: U after 200 iters, 5 trials. Parity 4. Distortion 0.50.\n"
     ]
    },
    {
     "name": "stderr",
     "output_type": "stream",
     "text": [
      "\u001b[32mTrial 1/5 100%|█████████████████████████████████████████| Time: 0:00:05\u001b[39m\n",
      "\u001b[32mTrial 2/5 100%|█████████████████████████████████████████| Time: 0:00:05\u001b[39m\n",
      "\u001b[32mTrial 3/5 100%|█████████████████████████████████████████| Time: 0:00:05\u001b[39m\n",
      "\u001b[32mTrial 4/5 100%|█████████████████████████████████████████| Time: 0:00:05\u001b[39m\n",
      "\u001b[32mTrial 5/5 100%|█████████████████████████████████████████| Time: 0:00:05\u001b[39m\n"
     ]
    },
    {
     "name": "stdout",
     "output_type": "stream",
     "text": [
      "# Finished iter 27 of 100: U after 200 iters, 5 trials. Parity 1. Distortion 0.50.\n",
      "# Finished iter 28 of 100: C after 17 iters, 1 trials. Parity 0. Distortion 0.11.\n"
     ]
    },
    {
     "name": "stderr",
     "output_type": "stream",
     "text": [
      "\u001b[32mTrial 1/5 100%|█████████████████████████████████████████| Time: 0:00:05\u001b[39m\n",
      "\u001b[32mTrial 2/5 100%|█████████████████████████████████████████| Time: 0:00:05\u001b[39m\n",
      "\u001b[32mTrial 3/5 100%|█████████████████████████████████████████| Time: 0:00:05\u001b[39m\n",
      "\u001b[32mTrial 4/5 100%|█████████████████████████████████████████| Time: 0:00:05\u001b[39m\n",
      "\u001b[32mTrial 5/5 100%|█████████████████████████████████████████| Time: 0:00:05\u001b[39m\n"
     ]
    },
    {
     "name": "stdout",
     "output_type": "stream",
     "text": [
      "# Finished iter 29 of 100: U after 200 iters, 5 trials. Parity 1. Distortion 0.50.\n"
     ]
    },
    {
     "name": "stderr",
     "output_type": "stream",
     "text": [
      "\u001b[32mTrial 1/5 100%|█████████████████████████████████████████| Time: 0:00:05\u001b[39m\n",
      "\u001b[32mTrial 2/5 100%|█████████████████████████████████████████| Time: 0:00:05\u001b[39m\n",
      "\u001b[32mTrial 3/5 100%|█████████████████████████████████████████| Time: 0:00:05\u001b[39m\n",
      "\u001b[32mTrial 4/5 100%|█████████████████████████████████████████| Time: 0:00:05\u001b[39m\n",
      "\u001b[32mTrial 5/5 100%|█████████████████████████████████████████| Time: 0:00:05\u001b[39m\n"
     ]
    },
    {
     "name": "stdout",
     "output_type": "stream",
     "text": [
      "# Finished iter 30 of 100: U after 200 iters, 5 trials. Parity 1. Distortion 0.50.\n"
     ]
    },
    {
     "name": "stderr",
     "output_type": "stream",
     "text": [
      "\r",
      "\u001b[32mTrial 1/5  18%|███████▋                                 |  ETA: 0:00:05\u001b[39m"
     ]
    },
    {
     "name": "stdout",
     "output_type": "stream",
     "text": [
      "# Finished iter 31 of 100: C after 52 iters, 1 trials. Parity 0. Distortion 0.11.\n"
     ]
    },
    {
     "name": "stderr",
     "output_type": "stream",
     "text": [
      "\r",
      "\u001b[32mTrial 1/5  18%|███████▋                                 |  ETA: 0:00:04\u001b[39m"
     ]
    },
    {
     "name": "stdout",
     "output_type": "stream",
     "text": [
      "# Finished iter 32 of 100: C after 42 iters, 1 trials. Parity 0. Distortion 0.11.\n"
     ]
    },
    {
     "name": "stderr",
     "output_type": "stream",
     "text": [
      "\u001b[32mTrial 1/5 100%|█████████████████████████████████████████| Time: 0:00:05\u001b[39m\n",
      "\u001b[32mTrial 2/5 100%|█████████████████████████████████████████| Time: 0:00:05\u001b[39m\n",
      "\u001b[32mTrial 3/5 100%|█████████████████████████████████████████| Time: 0:00:05\u001b[39m\n",
      "\u001b[32mTrial 4/5 100%|█████████████████████████████████████████| Time: 0:00:05\u001b[39m\n",
      "\u001b[32mTrial 5/5 100%|█████████████████████████████████████████| Time: 0:00:05\u001b[39m\n"
     ]
    },
    {
     "name": "stdout",
     "output_type": "stream",
     "text": [
      "# Finished iter 33 of 100: U after 200 iters, 5 trials. Parity 4. Distortion 0.50.\n",
      "# Finished iter 34 of 100: C after 33 iters, 1 trials. Parity 0. Distortion 0.10.\n"
     ]
    },
    {
     "name": "stderr",
     "output_type": "stream",
     "text": [
      "\u001b[32mTrial 1/5 100%|█████████████████████████████████████████| Time: 0:00:05\u001b[39m\n",
      "\u001b[32mTrial 2/5 100%|█████████████████████████████████████████| Time: 0:00:05\u001b[39m\n",
      "\u001b[32mTrial 3/5 100%|█████████████████████████████████████████| Time: 0:00:05\u001b[39m\n",
      "\u001b[32mTrial 4/5 100%|█████████████████████████████████████████| Time: 0:00:05\u001b[39m\n",
      "\u001b[32mTrial 5/5 100%|█████████████████████████████████████████| Time: 0:00:05\u001b[39m\n"
     ]
    },
    {
     "name": "stdout",
     "output_type": "stream",
     "text": [
      "# Finished iter 35 of 100: U after 200 iters, 5 trials. Parity 2. Distortion 0.50.\n"
     ]
    },
    {
     "name": "stderr",
     "output_type": "stream",
     "text": [
      "\u001b[32mTrial 1/5 100%|█████████████████████████████████████████| Time: 0:00:05\u001b[39m\n",
      "\u001b[32mTrial 2/5 100%|█████████████████████████████████████████| Time: 0:00:05\u001b[39m\n",
      "\u001b[32mTrial 3/5 100%|█████████████████████████████████████████| Time: 0:00:05\u001b[39m\n",
      "\u001b[32mTrial 4/5 100%|█████████████████████████████████████████| Time: 0:00:05\u001b[39m\n",
      "\u001b[32mTrial 5/5 100%|█████████████████████████████████████████| Time: 0:00:05\u001b[39m\n"
     ]
    },
    {
     "name": "stdout",
     "output_type": "stream",
     "text": [
      "# Finished iter 36 of 100: U after 200 iters, 5 trials. Parity 3. Distortion 0.50.\n"
     ]
    },
    {
     "name": "stderr",
     "output_type": "stream",
     "text": [
      "\u001b[32mTrial 1/5 100%|█████████████████████████████████████████| Time: 0:00:05\u001b[39m\n",
      "\u001b[32mTrial 2/5 100%|█████████████████████████████████████████| Time: 0:00:05\u001b[39m\n",
      "\u001b[32mTrial 3/5 100%|█████████████████████████████████████████| Time: 0:00:05\u001b[39m\n",
      "\u001b[32mTrial 4/5  18%|███████▏                                 |  ETA: 0:00:05\u001b[39m"
     ]
    },
    {
     "name": "stdout",
     "output_type": "stream",
     "text": [
      "# Finished iter 37 of 100: C after 59 iters, 4 trials. Parity 0. Distortion 0.11.\n"
     ]
    },
    {
     "name": "stderr",
     "output_type": "stream",
     "text": [
      "\u001b[32mTrial 1/5 100%|█████████████████████████████████████████| Time: 0:00:05\u001b[39m\n",
      "\u001b[32mTrial 2/5 100%|█████████████████████████████████████████| Time: 0:00:05\u001b[39m\n",
      "\u001b[32mTrial 3/5 100%|█████████████████████████████████████████| Time: 0:00:05\u001b[39m\n",
      "\u001b[32mTrial 4/5 100%|█████████████████████████████████████████| Time: 0:00:05\u001b[39m\n",
      "\u001b[32mTrial 5/5 100%|█████████████████████████████████████████| Time: 0:00:05\u001b[39m\n"
     ]
    },
    {
     "name": "stdout",
     "output_type": "stream",
     "text": [
      "# Finished iter 38 of 100: U after 200 iters, 5 trials. Parity 1. Distortion 0.50.\n"
     ]
    },
    {
     "name": "stderr",
     "output_type": "stream",
     "text": [
      "\r",
      "\u001b[32mTrial 1/5  19%|███████▊                                 |  ETA: 0:00:04\u001b[39m"
     ]
    },
    {
     "name": "stdout",
     "output_type": "stream",
     "text": [
      "# Finished iter 39 of 100: C after 49 iters, 1 trials. Parity 0. Distortion 0.11.\n"
     ]
    },
    {
     "name": "stderr",
     "output_type": "stream",
     "text": [
      "\u001b[32mTrial 1/5 100%|█████████████████████████████████████████| Time: 0:00:05\u001b[39m\n",
      "\u001b[32mTrial 2/5 100%|█████████████████████████████████████████| Time: 0:00:05\u001b[39m\n",
      "\u001b[32mTrial 3/5 100%|█████████████████████████████████████████| Time: 0:00:05\u001b[39m\n",
      "\u001b[32mTrial 4/5  18%|███████▋                                 |  ETA: 0:00:05\u001b[39m"
     ]
    },
    {
     "name": "stdout",
     "output_type": "stream",
     "text": [
      "# Finished iter 40 of 100: C after 68 iters, 4 trials. Parity 0. Distortion 0.11.\n"
     ]
    },
    {
     "name": "stderr",
     "output_type": "stream",
     "text": [
      "\u001b[32mTrial 1/5 100%|█████████████████████████████████████████| Time: 0:00:05\u001b[39m\n",
      "\u001b[32mTrial 2/5 100%|█████████████████████████████████████████| Time: 0:00:05\u001b[39m\n",
      "\u001b[32mTrial 3/5 100%|█████████████████████████████████████████| Time: 0:00:05\u001b[39m\n",
      "\u001b[32mTrial 4/5 100%|█████████████████████████████████████████| Time: 0:00:05\u001b[39m\n",
      "\u001b[32mTrial 5/5 100%|█████████████████████████████████████████| Time: 0:00:05\u001b[39m\n"
     ]
    },
    {
     "name": "stdout",
     "output_type": "stream",
     "text": [
      "# Finished iter 41 of 100: U after 200 iters, 5 trials. Parity 3. Distortion 0.50.\n"
     ]
    },
    {
     "name": "stderr",
     "output_type": "stream",
     "text": [
      "\u001b[32mTrial 1/5 100%|█████████████████████████████████████████| Time: 0:00:05\u001b[39m\n",
      "\u001b[32mTrial 2/5 100%|█████████████████████████████████████████| Time: 0:00:05\u001b[39m\n",
      "\u001b[32mTrial 3/5 100%|█████████████████████████████████████████| Time: 0:00:05\u001b[39m\n",
      "\u001b[32mTrial 4/5 100%|█████████████████████████████████████████| Time: 0:00:05\u001b[39m\n",
      "\u001b[32mTrial 5/5 100%|█████████████████████████████████████████| Time: 0:00:05\u001b[39m\n"
     ]
    },
    {
     "name": "stdout",
     "output_type": "stream",
     "text": [
      "# Finished iter 42 of 100: U after 200 iters, 5 trials. Parity 5. Distortion 0.50.\n"
     ]
    },
    {
     "name": "stderr",
     "output_type": "stream",
     "text": [
      "\u001b[32mTrial 1/5 100%|█████████████████████████████████████████| Time: 0:00:05\u001b[39m\n",
      "\u001b[32mTrial 2/5 100%|█████████████████████████████████████████| Time: 0:00:05\u001b[39m\n",
      "\u001b[32mTrial 3/5 100%|█████████████████████████████████████████| Time: 0:00:05\u001b[39m\n",
      "\u001b[32mTrial 4/5 100%|█████████████████████████████████████████| Time: 0:00:05\u001b[39m\n",
      "\u001b[32mTrial 5/5 100%|█████████████████████████████████████████| Time: 0:00:05\u001b[39m\n"
     ]
    },
    {
     "name": "stdout",
     "output_type": "stream",
     "text": [
      "# Finished iter 43 of 100: U after 200 iters, 5 trials. Parity 2. Distortion 0.50.\n"
     ]
    },
    {
     "name": "stderr",
     "output_type": "stream",
     "text": [
      "\u001b[32mTrial 1/5 100%|█████████████████████████████████████████| Time: 0:00:05\u001b[39m\n",
      "\u001b[32mTrial 2/5  37%|███████████████▏                         |  ETA: 0:00:03\u001b[39m"
     ]
    },
    {
     "name": "stdout",
     "output_type": "stream",
     "text": [
      "# Finished iter 44 of 100: C after 77 iters, 2 trials. Parity 0. Distortion 0.11.\n"
     ]
    },
    {
     "name": "stderr",
     "output_type": "stream",
     "text": [
      "\u001b[32mTrial 1/5 100%|█████████████████████████████████████████| Time: 0:00:05\u001b[39m\n",
      "\u001b[32mTrial 2/5 100%|█████████████████████████████████████████| Time: 0:00:05\u001b[39m\n",
      "\u001b[32mTrial 3/5 100%|█████████████████████████████████████████| Time: 0:00:05\u001b[39m\n",
      "\u001b[32mTrial 4/5 100%|█████████████████████████████████████████| Time: 0:00:05\u001b[39m\n",
      "\u001b[32mTrial 5/5 100%|█████████████████████████████████████████| Time: 0:00:05\u001b[39m\n"
     ]
    },
    {
     "name": "stdout",
     "output_type": "stream",
     "text": [
      "# Finished iter 45 of 100: U after 200 iters, 5 trials. Parity 2. Distortion 0.50.\n"
     ]
    },
    {
     "name": "stderr",
     "output_type": "stream",
     "text": [
      "\u001b[32mTrial 1/5 100%|█████████████████████████████████████████| Time: 0:00:05\u001b[39m\n",
      "\u001b[32mTrial 2/5 100%|█████████████████████████████████████████| Time: 0:00:05\u001b[39m\n",
      "\u001b[32mTrial 3/5 100%|█████████████████████████████████████████| Time: 0:00:05\u001b[39m\n",
      "\u001b[32mTrial 4/5 100%|█████████████████████████████████████████| Time: 0:00:05\u001b[39m\n",
      "\u001b[32mTrial 5/5 100%|█████████████████████████████████████████| Time: 0:00:05\u001b[39m\n"
     ]
    },
    {
     "name": "stdout",
     "output_type": "stream",
     "text": [
      "# Finished iter 46 of 100: U after 200 iters, 5 trials. Parity 2. Distortion 0.50.\n"
     ]
    },
    {
     "name": "stderr",
     "output_type": "stream",
     "text": [
      "\u001b[32mTrial 1/5 100%|█████████████████████████████████████████| Time: 0:00:05\u001b[39m\n",
      "\u001b[32mTrial 2/5 100%|█████████████████████████████████████████| Time: 0:00:05\u001b[39m\n",
      "\u001b[32mTrial 3/5 100%|█████████████████████████████████████████| Time: 0:00:05\u001b[39m\n",
      "\u001b[32mTrial 4/5 100%|█████████████████████████████████████████| Time: 0:00:05\u001b[39m\n",
      "\u001b[32mTrial 5/5 100%|█████████████████████████████████████████| Time: 0:00:05\u001b[39m\n"
     ]
    },
    {
     "name": "stdout",
     "output_type": "stream",
     "text": [
      "# Finished iter 47 of 100: U after 200 iters, 5 trials. Parity 6. Distortion 0.50.\n"
     ]
    },
    {
     "name": "stderr",
     "output_type": "stream",
     "text": [
      "\u001b[32mTrial 1/5 100%|█████████████████████████████████████████| Time: 0:00:05\u001b[39m\n",
      "\u001b[32mTrial 2/5 100%|█████████████████████████████████████████| Time: 0:00:05\u001b[39m\n",
      "\u001b[32mTrial 3/5 100%|█████████████████████████████████████████| Time: 0:00:05\u001b[39m\n",
      "\u001b[32mTrial 4/5 100%|█████████████████████████████████████████| Time: 0:00:05\u001b[39m\n",
      "\u001b[32mTrial 5/5 100%|█████████████████████████████████████████| Time: 0:00:05\u001b[39m\n"
     ]
    },
    {
     "name": "stdout",
     "output_type": "stream",
     "text": [
      "# Finished iter 48 of 100: U after 200 iters, 5 trials. Parity 3. Distortion 0.50.\n"
     ]
    },
    {
     "name": "stderr",
     "output_type": "stream",
     "text": [
      "\u001b[32mTrial 1/5  36%|███████████████                          |  ETA: 0:00:04\u001b[39m"
     ]
    },
    {
     "name": "stdout",
     "output_type": "stream",
     "text": [
      "# Finished iter 49 of 100: C after 102 iters, 1 trials. Parity 0. Distortion 0.11.\n"
     ]
    },
    {
     "name": "stderr",
     "output_type": "stream",
     "text": [
      "\r",
      "\u001b[32mTrial 1/5  18%|███████▍                                 |  ETA: 0:00:05\u001b[39m"
     ]
    },
    {
     "name": "stdout",
     "output_type": "stream",
     "text": [
      "# Finished iter 50 of 100: C after 44 iters, 1 trials. Parity 0. Distortion 0.11.\n"
     ]
    },
    {
     "name": "stderr",
     "output_type": "stream",
     "text": [
      "\u001b[32mTrial 1/5 100%|█████████████████████████████████████████| Time: 0:00:05\u001b[39m\n",
      "\u001b[32mTrial 2/5 100%|█████████████████████████████████████████| Time: 0:00:05\u001b[39m\n",
      "\u001b[32mTrial 3/5 100%|█████████████████████████████████████████| Time: 0:00:05\u001b[39m\n",
      "\u001b[32mTrial 4/5 100%|█████████████████████████████████████████| Time: 0:00:05\u001b[39m\n",
      "\u001b[32mTrial 5/5 100%|█████████████████████████████████████████| Time: 0:00:05\u001b[39m\n"
     ]
    },
    {
     "name": "stdout",
     "output_type": "stream",
     "text": [
      "# Finished iter 51 of 100: U after 200 iters, 5 trials. Parity 2. Distortion 0.50.\n",
      "# Finished iter 52 of 100: C after 31 iters, 1 trials. Parity 0. Distortion 0.11.\n"
     ]
    },
    {
     "name": "stderr",
     "output_type": "stream",
     "text": [
      "\u001b[32mTrial 1/5 100%|█████████████████████████████████████████| Time: 0:00:05\u001b[39m\n",
      "\u001b[32mTrial 2/5  18%|███████▋                                 |  ETA: 0:00:05\u001b[39m"
     ]
    },
    {
     "name": "stdout",
     "output_type": "stream",
     "text": [
      "# Finished iter 53 of 100: C after 53 iters, 2 trials. Parity 0. Distortion 0.11.\n"
     ]
    },
    {
     "name": "stderr",
     "output_type": "stream",
     "text": [
      "\u001b[32mTrial 1/5 100%|█████████████████████████████████████████| Time: 0:00:05\u001b[39m\n",
      "\u001b[32mTrial 2/5 100%|█████████████████████████████████████████| Time: 0:00:05\u001b[39m\n",
      "\u001b[32mTrial 3/5 100%|█████████████████████████████████████████| Time: 0:00:05\u001b[39m\n",
      "\u001b[32mTrial 4/5 100%|█████████████████████████████████████████| Time: 0:00:05\u001b[39m\n",
      "\u001b[32mTrial 5/5 100%|█████████████████████████████████████████| Time: 0:00:05\u001b[39m\n"
     ]
    },
    {
     "name": "stdout",
     "output_type": "stream",
     "text": [
      "# Finished iter 54 of 100: U after 200 iters, 5 trials. Parity 1. Distortion 0.50.\n"
     ]
    },
    {
     "name": "stderr",
     "output_type": "stream",
     "text": [
      "\u001b[32mTrial 1/5 100%|█████████████████████████████████████████| Time: 0:00:05\u001b[39m\n",
      "\u001b[32mTrial 2/5 100%|█████████████████████████████████████████| Time: 0:00:05\u001b[39m\n",
      "\u001b[32mTrial 3/5 100%|█████████████████████████████████████████| Time: 0:00:05\u001b[39m\n",
      "\u001b[32mTrial 4/5 100%|█████████████████████████████████████████| Time: 0:00:05\u001b[39m\n",
      "\u001b[32mTrial 5/5 100%|█████████████████████████████████████████| Time: 0:00:05\u001b[39m\n"
     ]
    },
    {
     "name": "stdout",
     "output_type": "stream",
     "text": [
      "# Finished iter 55 of 100: U after 200 iters, 5 trials. Parity 1. Distortion 0.50.\n"
     ]
    },
    {
     "name": "stderr",
     "output_type": "stream",
     "text": [
      "\u001b[32mTrial 1/5 100%|█████████████████████████████████████████| Time: 0:00:05\u001b[39m\n",
      "\u001b[32mTrial 2/5 100%|█████████████████████████████████████████| Time: 0:00:05\u001b[39m\n",
      "\u001b[32mTrial 3/5 100%|█████████████████████████████████████████| Time: 0:00:05\u001b[39m\n",
      "\u001b[32mTrial 4/5 100%|█████████████████████████████████████████| Time: 0:00:05\u001b[39m\n",
      "\u001b[32mTrial 5/5 100%|█████████████████████████████████████████| Time: 0:00:05\u001b[39m\n"
     ]
    },
    {
     "name": "stdout",
     "output_type": "stream",
     "text": [
      "# Finished iter 56 of 100: U after 200 iters, 5 trials. Parity 1. Distortion 0.50.\n"
     ]
    },
    {
     "name": "stderr",
     "output_type": "stream",
     "text": [
      "\u001b[32mTrial 1/5 100%|█████████████████████████████████████████| Time: 0:00:05\u001b[39m\n",
      "\u001b[32mTrial 2/5 100%|█████████████████████████████████████████| Time: 0:00:05\u001b[39m\n",
      "\u001b[32mTrial 3/5 100%|█████████████████████████████████████████| Time: 0:00:05\u001b[39m\n",
      "\u001b[32mTrial 4/5 100%|█████████████████████████████████████████| Time: 0:00:05\u001b[39m\n",
      "\u001b[32mTrial 5/5 100%|█████████████████████████████████████████| Time: 0:00:05\u001b[39m\n"
     ]
    },
    {
     "name": "stdout",
     "output_type": "stream",
     "text": [
      "# Finished iter 57 of 100: U after 200 iters, 5 trials. Parity 3. Distortion 0.50.\n"
     ]
    },
    {
     "name": "stderr",
     "output_type": "stream",
     "text": [
      "\u001b[32mTrial 1/5 100%|█████████████████████████████████████████| Time: 0:00:05\u001b[39m\n",
      "\u001b[32mTrial 2/5 100%|█████████████████████████████████████████| Time: 0:00:05\u001b[39m\n",
      "\u001b[32mTrial 3/5 100%|█████████████████████████████████████████| Time: 0:00:05\u001b[39m\n",
      "\u001b[32mTrial 4/5 100%|█████████████████████████████████████████| Time: 0:00:05\u001b[39m\n",
      "\u001b[32mTrial 5/5 100%|█████████████████████████████████████████| Time: 0:00:05\u001b[39m\n"
     ]
    },
    {
     "name": "stdout",
     "output_type": "stream",
     "text": [
      "# Finished iter 58 of 100: U after 200 iters, 5 trials. Parity 4. Distortion 0.50.\n"
     ]
    },
    {
     "name": "stderr",
     "output_type": "stream",
     "text": [
      "\u001b[32mTrial 1/5 100%|█████████████████████████████████████████| Time: 0:00:05\u001b[39m\n",
      "\u001b[32mTrial 2/5 100%|█████████████████████████████████████████| Time: 0:00:05\u001b[39m\n",
      "\u001b[32mTrial 3/5 100%|█████████████████████████████████████████| Time: 0:00:05\u001b[39m\n",
      "\u001b[32mTrial 4/5 100%|█████████████████████████████████████████| Time: 0:00:05\u001b[39m\n",
      "\u001b[32mTrial 5/5 100%|█████████████████████████████████████████| Time: 0:00:05\u001b[39m\n"
     ]
    },
    {
     "name": "stdout",
     "output_type": "stream",
     "text": [
      "# Finished iter 59 of 100: U after 200 iters, 5 trials. Parity 1. Distortion 0.50.\n"
     ]
    },
    {
     "name": "stderr",
     "output_type": "stream",
     "text": [
      "\u001b[32mTrial 1/5 100%|█████████████████████████████████████████| Time: 0:00:05\u001b[39m\n",
      "\u001b[32mTrial 2/5 100%|█████████████████████████████████████████| Time: 0:00:05\u001b[39m\n",
      "\u001b[32mTrial 3/5 100%|█████████████████████████████████████████| Time: 0:00:05\u001b[39m\n",
      "\u001b[32mTrial 4/5 100%|█████████████████████████████████████████| Time: 0:00:05\u001b[39m\n",
      "\u001b[32mTrial 5/5 100%|█████████████████████████████████████████| Time: 0:00:05\u001b[39m\n"
     ]
    },
    {
     "name": "stdout",
     "output_type": "stream",
     "text": [
      "# Finished iter 60 of 100: U after 200 iters, 5 trials. Parity 1. Distortion 0.50.\n"
     ]
    },
    {
     "name": "stderr",
     "output_type": "stream",
     "text": [
      "\u001b[32mTrial 1/5 100%|█████████████████████████████████████████| Time: 0:00:05\u001b[39m\n",
      "\u001b[32mTrial 2/5 100%|█████████████████████████████████████████| Time: 0:00:05\u001b[39m\n",
      "\u001b[32mTrial 3/5 100%|█████████████████████████████████████████| Time: 0:00:05\u001b[39m\n",
      "\u001b[32mTrial 4/5 100%|█████████████████████████████████████████| Time: 0:00:05\u001b[39m\n",
      "\u001b[32mTrial 5/5 100%|█████████████████████████████████████████| Time: 0:00:05\u001b[39m\n"
     ]
    },
    {
     "name": "stdout",
     "output_type": "stream",
     "text": [
      "# Finished iter 61 of 100: U after 200 iters, 5 trials. Parity 1. Distortion 0.50.\n"
     ]
    },
    {
     "name": "stderr",
     "output_type": "stream",
     "text": [
      "\u001b[32mTrial 1/5 100%|█████████████████████████████████████████| Time: 0:00:05\u001b[39m\n",
      "\u001b[32mTrial 2/5 100%|█████████████████████████████████████████| Time: 0:00:05\u001b[39m\n",
      "\u001b[32mTrial 3/5 100%|█████████████████████████████████████████| Time: 0:00:05\u001b[39m\n",
      "\u001b[32mTrial 4/5 100%|█████████████████████████████████████████| Time: 0:00:05\u001b[39m\n",
      "\u001b[32mTrial 5/5 100%|█████████████████████████████████████████| Time: 0:00:05\u001b[39m\n"
     ]
    },
    {
     "name": "stdout",
     "output_type": "stream",
     "text": [
      "# Finished iter 62 of 100: U after 200 iters, 5 trials. Parity 1. Distortion 0.50.\n"
     ]
    },
    {
     "name": "stderr",
     "output_type": "stream",
     "text": [
      "\u001b[32mTrial 1/5 100%|█████████████████████████████████████████| Time: 0:00:05\u001b[39m\n",
      "\u001b[32mTrial 2/5 100%|█████████████████████████████████████████| Time: 0:00:05\u001b[39m\n",
      "\u001b[32mTrial 3/5 100%|█████████████████████████████████████████| Time: 0:00:05\u001b[39m\n",
      "\u001b[32mTrial 4/5 100%|█████████████████████████████████████████| Time: 0:00:05\u001b[39m\n",
      "\u001b[32mTrial 5/5 100%|█████████████████████████████████████████| Time: 0:00:05\u001b[39m\n"
     ]
    },
    {
     "name": "stdout",
     "output_type": "stream",
     "text": [
      "# Finished iter 63 of 100: U after 200 iters, 5 trials. Parity 2. Distortion 0.50.\n"
     ]
    },
    {
     "name": "stderr",
     "output_type": "stream",
     "text": [
      "\u001b[32mTrial 1/5 100%|█████████████████████████████████████████| Time: 0:00:05\u001b[39m\n"
     ]
    },
    {
     "name": "stdout",
     "output_type": "stream",
     "text": [
      "# Finished iter 64 of 100: C after 25 iters, 2 trials. Parity 0. Distortion 0.10.\n"
     ]
    },
    {
     "name": "stderr",
     "output_type": "stream",
     "text": [
      "\u001b[32mTrial 1/5 100%|█████████████████████████████████████████| Time: 0:00:05\u001b[39m\n",
      "\u001b[32mTrial 2/5  19%|███████▊                                 |  ETA: 0:00:04\u001b[39m"
     ]
    },
    {
     "name": "stdout",
     "output_type": "stream",
     "text": [
      "# Finished iter 65 of 100: C after 42 iters, 2 trials. Parity 0. Distortion 0.10.\n"
     ]
    },
    {
     "name": "stderr",
     "output_type": "stream",
     "text": [
      "\u001b[32mTrial 1/5 100%|█████████████████████████████████████████| Time: 0:00:05\u001b[39m\n",
      "\u001b[32mTrial 2/5 100%|█████████████████████████████████████████| Time: 0:00:05\u001b[39m\n",
      "\u001b[32mTrial 3/5 100%|█████████████████████████████████████████| Time: 0:00:05\u001b[39m\n",
      "\u001b[32mTrial 4/5 100%|█████████████████████████████████████████| Time: 0:00:05\u001b[39m\n",
      "\u001b[32mTrial 5/5 100%|█████████████████████████████████████████| Time: 0:00:05\u001b[39m\n"
     ]
    },
    {
     "name": "stdout",
     "output_type": "stream",
     "text": [
      "# Finished iter 66 of 100: U after 200 iters, 5 trials. Parity 2. Distortion 0.50.\n",
      "# Finished iter 67 of 100: C after 34 iters, 1 trials. Parity 0. Distortion 0.12.\n"
     ]
    },
    {
     "name": "stderr",
     "output_type": "stream",
     "text": [
      "\u001b[32mTrial 1/5 100%|█████████████████████████████████████████| Time: 0:00:05\u001b[39m\n",
      "\u001b[32mTrial 2/5 100%|█████████████████████████████████████████| Time: 0:00:05\u001b[39m\n",
      "\u001b[32mTrial 3/5 100%|█████████████████████████████████████████| Time: 0:00:05\u001b[39m\n",
      "\u001b[32mTrial 4/5 100%|█████████████████████████████████████████| Time: 0:00:05\u001b[39m\n",
      "\u001b[32mTrial 5/5 100%|█████████████████████████████████████████| Time: 0:00:05\u001b[39m\n"
     ]
    },
    {
     "name": "stdout",
     "output_type": "stream",
     "text": [
      "# Finished iter 68 of 100: U after 200 iters, 5 trials. Parity 1. Distortion 0.50.\n"
     ]
    },
    {
     "name": "stderr",
     "output_type": "stream",
     "text": [
      "\u001b[32mTrial 1/5 100%|█████████████████████████████████████████| Time: 0:00:05\u001b[39m\n",
      "\u001b[32mTrial 2/5 100%|█████████████████████████████████████████| Time: 0:00:05\u001b[39m\n",
      "\u001b[32mTrial 3/5 100%|█████████████████████████████████████████| Time: 0:00:05\u001b[39m\n",
      "\u001b[32mTrial 4/5 100%|█████████████████████████████████████████| Time: 0:00:05\u001b[39m\n",
      "\u001b[32mTrial 5/5 100%|█████████████████████████████████████████| Time: 0:00:05\u001b[39m\n"
     ]
    },
    {
     "name": "stdout",
     "output_type": "stream",
     "text": [
      "# Finished iter 69 of 100: U after 200 iters, 5 trials. Parity 1. Distortion 0.50.\n"
     ]
    },
    {
     "name": "stderr",
     "output_type": "stream",
     "text": [
      "\u001b[32mTrial 1/5  38%|███████████████▍                         |  ETA: 0:00:03\u001b[39m"
     ]
    },
    {
     "name": "stdout",
     "output_type": "stream",
     "text": [
      "# Finished iter 70 of 100: C after 79 iters, 1 trials. Parity 0. Distortion 0.11.\n"
     ]
    },
    {
     "name": "stderr",
     "output_type": "stream",
     "text": [
      "\u001b[32mTrial 1/5 100%|█████████████████████████████████████████| Time: 0:00:05\u001b[39m\n",
      "\u001b[32mTrial 2/5 100%|█████████████████████████████████████████| Time: 0:00:05\u001b[39m\n",
      "\u001b[32mTrial 3/5 100%|█████████████████████████████████████████| Time: 0:00:05\u001b[39m\n",
      "\u001b[32mTrial 4/5 100%|█████████████████████████████████████████| Time: 0:00:05\u001b[39m\n",
      "\u001b[32mTrial 5/5 100%|█████████████████████████████████████████| Time: 0:00:05\u001b[39m\n"
     ]
    },
    {
     "name": "stdout",
     "output_type": "stream",
     "text": [
      "# Finished iter 71 of 100: U after 200 iters, 5 trials. Parity 1. Distortion 0.50.\n"
     ]
    },
    {
     "name": "stderr",
     "output_type": "stream",
     "text": [
      "\u001b[32mTrial 1/5 100%|█████████████████████████████████████████| Time: 0:00:05\u001b[39m\n",
      "\u001b[32mTrial 2/5 100%|█████████████████████████████████████████| Time: 0:00:05\u001b[39m\n",
      "\u001b[32mTrial 3/5 100%|█████████████████████████████████████████| Time: 0:00:05\u001b[39m\n",
      "\u001b[32mTrial 4/5 100%|█████████████████████████████████████████| Time: 0:00:05\u001b[39m\n",
      "\u001b[32mTrial 5/5 100%|█████████████████████████████████████████| Time: 0:00:05\u001b[39m\n"
     ]
    },
    {
     "name": "stdout",
     "output_type": "stream",
     "text": [
      "# Finished iter 72 of 100: U after 200 iters, 5 trials. Parity 3. Distortion 0.50.\n",
      "# Finished iter 73 of 100: C after 18 iters, 1 trials. Parity 0. Distortion 0.10.\n"
     ]
    },
    {
     "name": "stderr",
     "output_type": "stream",
     "text": [
      "\u001b[32mTrial 1/5 100%|█████████████████████████████████████████| Time: 0:00:05\u001b[39m\n",
      "\u001b[32mTrial 2/5 100%|█████████████████████████████████████████| Time: 0:00:05\u001b[39m\n",
      "\u001b[32mTrial 3/5 100%|█████████████████████████████████████████| Time: 0:00:05\u001b[39m\n",
      "\u001b[32mTrial 4/5 100%|█████████████████████████████████████████| Time: 0:00:05\u001b[39m\n",
      "\u001b[32mTrial 5/5 100%|█████████████████████████████████████████| Time: 0:00:05\u001b[39m\n"
     ]
    },
    {
     "name": "stdout",
     "output_type": "stream",
     "text": [
      "# Finished iter 74 of 100: U after 200 iters, 5 trials. Parity 1. Distortion 0.50.\n"
     ]
    },
    {
     "name": "stderr",
     "output_type": "stream",
     "text": [
      "\u001b[32mTrial 1/5 100%|█████████████████████████████████████████| Time: 0:00:05\u001b[39m\n",
      "\u001b[32mTrial 2/5 100%|█████████████████████████████████████████| Time: 0:00:05\u001b[39m\n",
      "\u001b[32mTrial 3/5 100%|█████████████████████████████████████████| Time: 0:00:05\u001b[39m\n",
      "\u001b[32mTrial 4/5 100%|█████████████████████████████████████████| Time: 0:00:05\u001b[39m\n",
      "\u001b[32mTrial 5/5 100%|█████████████████████████████████████████| Time: 0:00:05\u001b[39m\n"
     ]
    },
    {
     "name": "stdout",
     "output_type": "stream",
     "text": [
      "# Finished iter 75 of 100: U after 200 iters, 5 trials. Parity 2. Distortion 0.50.\n"
     ]
    },
    {
     "name": "stderr",
     "output_type": "stream",
     "text": [
      "\u001b[32mTrial 1/5 100%|█████████████████████████████████████████| Time: 0:00:05\u001b[39m\n",
      "\u001b[32mTrial 2/5 100%|█████████████████████████████████████████| Time: 0:00:05\u001b[39m\n",
      "\u001b[32mTrial 3/5 100%|█████████████████████████████████████████| Time: 0:00:05\u001b[39m\n",
      "\u001b[32mTrial 4/5 100%|█████████████████████████████████████████| Time: 0:00:05\u001b[39m\n",
      "\u001b[32mTrial 5/5 100%|█████████████████████████████████████████| Time: 0:00:05\u001b[39m\n"
     ]
    },
    {
     "name": "stdout",
     "output_type": "stream",
     "text": [
      "# Finished iter 76 of 100: U after 200 iters, 5 trials. Parity 2. Distortion 0.50.\n"
     ]
    },
    {
     "name": "stderr",
     "output_type": "stream",
     "text": [
      "\u001b[32mTrial 1/5 100%|█████████████████████████████████████████| Time: 0:00:05\u001b[39m\n",
      "\u001b[32mTrial 2/5 100%|█████████████████████████████████████████| Time: 0:00:05\u001b[39m\n",
      "\u001b[32mTrial 3/5 100%|█████████████████████████████████████████| Time: 0:00:05\u001b[39m\n",
      "\u001b[32mTrial 4/5 100%|█████████████████████████████████████████| Time: 0:00:05\u001b[39m\n",
      "\u001b[32mTrial 5/5 100%|█████████████████████████████████████████| Time: 0:00:05\u001b[39m\n"
     ]
    },
    {
     "name": "stdout",
     "output_type": "stream",
     "text": [
      "# Finished iter 77 of 100: U after 200 iters, 5 trials. Parity 2. Distortion 0.50.\n",
      "# Finished iter 78 of 100: C after 18 iters, 1 trials. Parity 0. Distortion 0.11.\n"
     ]
    },
    {
     "name": "stderr",
     "output_type": "stream",
     "text": [
      "\u001b[32mTrial 1/5 100%|█████████████████████████████████████████| Time: 0:00:05\u001b[39m\n",
      "\u001b[32mTrial 2/5 100%|█████████████████████████████████████████| Time: 0:00:05\u001b[39m\n",
      "\u001b[32mTrial 3/5 100%|█████████████████████████████████████████| Time: 0:00:05\u001b[39m\n",
      "\u001b[32mTrial 4/5 100%|█████████████████████████████████████████| Time: 0:00:05\u001b[39m\n",
      "\u001b[32mTrial 5/5 100%|█████████████████████████████████████████| Time: 0:00:05\u001b[39m\n"
     ]
    },
    {
     "name": "stdout",
     "output_type": "stream",
     "text": [
      "# Finished iter 79 of 100: U after 200 iters, 5 trials. Parity 3. Distortion 0.50.\n"
     ]
    },
    {
     "name": "stderr",
     "output_type": "stream",
     "text": [
      "\u001b[32mTrial 1/5 100%|█████████████████████████████████████████| Time: 0:00:05\u001b[39m\n",
      "\u001b[32mTrial 2/5 100%|█████████████████████████████████████████| Time: 0:00:05\u001b[39m\n",
      "\u001b[32mTrial 3/5 100%|█████████████████████████████████████████| Time: 0:00:05\u001b[39m\n",
      "\u001b[32mTrial 4/5 100%|█████████████████████████████████████████| Time: 0:00:05\u001b[39m\n",
      "\u001b[32mTrial 5/5 100%|█████████████████████████████████████████| Time: 0:00:05\u001b[39m\n"
     ]
    },
    {
     "name": "stdout",
     "output_type": "stream",
     "text": [
      "# Finished iter 80 of 100: U after 200 iters, 5 trials. Parity 1. Distortion 0.50.\n",
      "# Finished iter 81 of 100: C after 27 iters, 1 trials. Parity 0. Distortion 0.10.\n"
     ]
    },
    {
     "name": "stderr",
     "output_type": "stream",
     "text": [
      "\u001b[32mTrial 1/5 100%|█████████████████████████████████████████| Time: 0:00:05\u001b[39m\n",
      "\u001b[32mTrial 2/5 100%|█████████████████████████████████████████| Time: 0:00:05\u001b[39m\n",
      "\u001b[32mTrial 3/5 100%|█████████████████████████████████████████| Time: 0:00:05\u001b[39m\n",
      "\u001b[32mTrial 4/5 100%|█████████████████████████████████████████| Time: 0:00:05\u001b[39m\n",
      "\u001b[32mTrial 5/5 100%|█████████████████████████████████████████| Time: 0:00:05\u001b[39m\n"
     ]
    },
    {
     "name": "stdout",
     "output_type": "stream",
     "text": [
      "# Finished iter 82 of 100: U after 200 iters, 5 trials. Parity 3. Distortion 0.50.\n"
     ]
    },
    {
     "name": "stderr",
     "output_type": "stream",
     "text": [
      "\u001b[32mTrial 1/5 100%|█████████████████████████████████████████| Time: 0:00:05\u001b[39m\n",
      "\u001b[32mTrial 2/5 100%|█████████████████████████████████████████| Time: 0:00:05\u001b[39m\n",
      "\u001b[32mTrial 3/5 100%|█████████████████████████████████████████| Time: 0:00:05\u001b[39m\n",
      "\u001b[32mTrial 4/5 100%|█████████████████████████████████████████| Time: 0:00:05\u001b[39m\n",
      "\u001b[32mTrial 5/5 100%|█████████████████████████████████████████| Time: 0:00:05\u001b[39m\n"
     ]
    },
    {
     "name": "stdout",
     "output_type": "stream",
     "text": [
      "# Finished iter 83 of 100: U after 200 iters, 5 trials. Parity 1. Distortion 0.50.\n"
     ]
    },
    {
     "name": "stderr",
     "output_type": "stream",
     "text": [
      "\u001b[32mTrial 1/5 100%|█████████████████████████████████████████| Time: 0:00:05\u001b[39m\n",
      "\u001b[32mTrial 2/5 100%|█████████████████████████████████████████| Time: 0:00:05\u001b[39m\n",
      "\u001b[32mTrial 3/5 100%|█████████████████████████████████████████| Time: 0:00:05\u001b[39m\n",
      "\u001b[32mTrial 4/5 100%|█████████████████████████████████████████| Time: 0:00:05\u001b[39m\n",
      "\u001b[32mTrial 5/5 100%|█████████████████████████████████████████| Time: 0:00:05\u001b[39m\n"
     ]
    },
    {
     "name": "stdout",
     "output_type": "stream",
     "text": [
      "# Finished iter 84 of 100: U after 200 iters, 5 trials. Parity 3. Distortion 0.50.\n"
     ]
    },
    {
     "name": "stderr",
     "output_type": "stream",
     "text": [
      "\u001b[32mTrial 1/5 100%|█████████████████████████████████████████| Time: 0:00:05\u001b[39m\n",
      "\u001b[32mTrial 2/5 100%|█████████████████████████████████████████| Time: 0:00:05\u001b[39m\n",
      "\u001b[32mTrial 3/5 100%|█████████████████████████████████████████| Time: 0:00:05\u001b[39m\n",
      "\u001b[32mTrial 4/5 100%|█████████████████████████████████████████| Time: 0:00:05\u001b[39m\n",
      "\u001b[32mTrial 5/5 100%|█████████████████████████████████████████| Time: 0:00:05\u001b[39m\n"
     ]
    },
    {
     "name": "stdout",
     "output_type": "stream",
     "text": [
      "# Finished iter 85 of 100: U after 200 iters, 5 trials. Parity 3. Distortion 0.50.\n"
     ]
    },
    {
     "name": "stderr",
     "output_type": "stream",
     "text": [
      "\u001b[32mTrial 1/5 100%|█████████████████████████████████████████| Time: 0:00:05\u001b[39m\n",
      "\u001b[32mTrial 2/5 100%|█████████████████████████████████████████| Time: 0:00:05\u001b[39m\n",
      "\u001b[32mTrial 3/5 100%|█████████████████████████████████████████| Time: 0:00:05\u001b[39m\n",
      "\u001b[32mTrial 4/5 100%|█████████████████████████████████████████| Time: 0:00:05\u001b[39m\n",
      "\u001b[32mTrial 5/5 100%|█████████████████████████████████████████| Time: 0:00:05\u001b[39m\n"
     ]
    },
    {
     "name": "stdout",
     "output_type": "stream",
     "text": [
      "# Finished iter 86 of 100: U after 200 iters, 5 trials. Parity 2. Distortion 0.50.\n"
     ]
    },
    {
     "name": "stderr",
     "output_type": "stream",
     "text": [
      "\u001b[32mTrial 1/5 100%|█████████████████████████████████████████| Time: 0:00:05\u001b[39m\n",
      "\u001b[32mTrial 2/5 100%|█████████████████████████████████████████| Time: 0:00:05\u001b[39m\n",
      "\u001b[32mTrial 3/5 100%|█████████████████████████████████████████| Time: 0:00:05\u001b[39m\n",
      "\u001b[32mTrial 4/5 100%|█████████████████████████████████████████| Time: 0:00:05\u001b[39m\n",
      "\u001b[32mTrial 5/5 100%|█████████████████████████████████████████| Time: 0:00:05\u001b[39m\n"
     ]
    },
    {
     "name": "stdout",
     "output_type": "stream",
     "text": [
      "# Finished iter 87 of 100: U after 200 iters, 5 trials. Parity 1. Distortion 0.50.\n",
      "# Finished iter 88 of 100: C after 17 iters, 1 trials. Parity 0. Distortion 0.10.\n"
     ]
    },
    {
     "name": "stderr",
     "output_type": "stream",
     "text": [
      "\u001b[32mTrial 1/5 100%|█████████████████████████████████████████| Time: 0:00:05\u001b[39m\n",
      "\u001b[32mTrial 2/5 100%|█████████████████████████████████████████| Time: 0:00:05\u001b[39m\n",
      "\u001b[32mTrial 3/5 100%|█████████████████████████████████████████| Time: 0:00:05\u001b[39m\n",
      "\u001b[32mTrial 4/5 100%|█████████████████████████████████████████| Time: 0:00:05\u001b[39m\n",
      "\u001b[32mTrial 5/5 100%|█████████████████████████████████████████| Time: 0:00:05\u001b[39m\n"
     ]
    },
    {
     "name": "stdout",
     "output_type": "stream",
     "text": [
      "# Finished iter 89 of 100: U after 200 iters, 5 trials. Parity 1. Distortion 0.50.\n"
     ]
    },
    {
     "name": "stderr",
     "output_type": "stream",
     "text": [
      "\u001b[32mTrial 1/5 100%|█████████████████████████████████████████| Time: 0:00:05\u001b[39m\n",
      "\u001b[32mTrial 2/5 100%|█████████████████████████████████████████| Time: 0:00:05\u001b[39m\n"
     ]
    },
    {
     "name": "stdout",
     "output_type": "stream",
     "text": [
      "# Finished iter 90 of 100: C after 30 iters, 3 trials. Parity 0. Distortion 0.11.\n"
     ]
    },
    {
     "name": "stderr",
     "output_type": "stream",
     "text": [
      "\u001b[32mTrial 1/5 100%|█████████████████████████████████████████| Time: 0:00:05\u001b[39m\n",
      "\u001b[32mTrial 2/5 100%|█████████████████████████████████████████| Time: 0:00:05\u001b[39m\n",
      "\u001b[32mTrial 3/5 100%|█████████████████████████████████████████| Time: 0:00:05\u001b[39m\n",
      "\u001b[32mTrial 4/5 100%|█████████████████████████████████████████| Time: 0:00:05\u001b[39m\n",
      "\u001b[32mTrial 5/5 100%|█████████████████████████████████████████| Time: 0:00:05\u001b[39m\n"
     ]
    },
    {
     "name": "stdout",
     "output_type": "stream",
     "text": [
      "# Finished iter 91 of 100: U after 200 iters, 5 trials. Parity 2. Distortion 0.50.\n"
     ]
    },
    {
     "name": "stderr",
     "output_type": "stream",
     "text": [
      "\u001b[32mTrial 1/5 100%|█████████████████████████████████████████| Time: 0:00:05\u001b[39m\n",
      "\u001b[32mTrial 2/5 100%|█████████████████████████████████████████| Time: 0:00:05\u001b[39m\n",
      "\u001b[32mTrial 3/5 100%|█████████████████████████████████████████| Time: 0:00:05\u001b[39m\n",
      "\u001b[32mTrial 4/5 100%|█████████████████████████████████████████| Time: 0:00:05\u001b[39m\n",
      "\u001b[32mTrial 5/5 100%|█████████████████████████████████████████| Time: 0:00:05\u001b[39m\n"
     ]
    },
    {
     "name": "stdout",
     "output_type": "stream",
     "text": [
      "# Finished iter 92 of 100: U after 200 iters, 5 trials. Parity 3. Distortion 0.50.\n",
      "# Finished iter 93 of 100: C after 34 iters, 1 trials. Parity 0. Distortion 0.10.\n"
     ]
    },
    {
     "name": "stderr",
     "output_type": "stream",
     "text": [
      "\u001b[32mTrial 1/5 100%|█████████████████████████████████████████| Time: 0:00:05\u001b[39m\n",
      "\u001b[32mTrial 2/5 100%|█████████████████████████████████████████| Time: 0:00:05\u001b[39m\n",
      "\u001b[32mTrial 3/5 100%|█████████████████████████████████████████| Time: 0:00:05\u001b[39m\n",
      "\u001b[32mTrial 4/5 100%|█████████████████████████████████████████| Time: 0:00:05\u001b[39m\n",
      "\u001b[32mTrial 5/5 100%|█████████████████████████████████████████| Time: 0:00:05\u001b[39m\n"
     ]
    },
    {
     "name": "stdout",
     "output_type": "stream",
     "text": [
      "# Finished iter 94 of 100: U after 200 iters, 5 trials. Parity 2. Distortion 0.50.\n"
     ]
    },
    {
     "name": "stderr",
     "output_type": "stream",
     "text": [
      "\u001b[32mTrial 1/5 100%|█████████████████████████████████████████| Time: 0:00:05\u001b[39m\n",
      "\u001b[32mTrial 2/5 100%|█████████████████████████████████████████| Time: 0:00:05\u001b[39m\n",
      "\u001b[32mTrial 3/5 100%|█████████████████████████████████████████| Time: 0:00:05\u001b[39m\n",
      "\u001b[32mTrial 4/5 100%|█████████████████████████████████████████| Time: 0:00:05\u001b[39m\n",
      "\u001b[32mTrial 5/5 100%|█████████████████████████████████████████| Time: 0:00:05\u001b[39m\n"
     ]
    },
    {
     "name": "stdout",
     "output_type": "stream",
     "text": [
      "# Finished iter 95 of 100: U after 200 iters, 5 trials. Parity 3. Distortion 0.50.\n"
     ]
    },
    {
     "name": "stderr",
     "output_type": "stream",
     "text": [
      "\u001b[32mTrial 1/5 100%|█████████████████████████████████████████| Time: 0:00:05\u001b[39m\n",
      "\u001b[32mTrial 2/5 100%|█████████████████████████████████████████| Time: 0:00:05\u001b[39m\n",
      "\u001b[32mTrial 3/5 100%|█████████████████████████████████████████| Time: 0:00:05\u001b[39m\n",
      "\u001b[32mTrial 4/5 100%|█████████████████████████████████████████| Time: 0:00:05\u001b[39m\n",
      "\u001b[32mTrial 5/5 100%|█████████████████████████████████████████| Time: 0:00:05\u001b[39m\n"
     ]
    },
    {
     "name": "stdout",
     "output_type": "stream",
     "text": [
      "# Finished iter 96 of 100: U after 200 iters, 5 trials. Parity 1. Distortion 0.50.\n"
     ]
    },
    {
     "name": "stderr",
     "output_type": "stream",
     "text": [
      "\u001b[32mTrial 1/5 100%|█████████████████████████████████████████| Time: 0:00:05\u001b[39m\n",
      "\u001b[32mTrial 2/5 100%|█████████████████████████████████████████| Time: 0:00:05\u001b[39m\n",
      "\u001b[32mTrial 3/5 100%|█████████████████████████████████████████| Time: 0:00:05\u001b[39m\n",
      "\u001b[32mTrial 4/5 100%|█████████████████████████████████████████| Time: 0:00:05\u001b[39m\n",
      "\u001b[32mTrial 5/5 100%|█████████████████████████████████████████| Time: 0:00:05\u001b[39m\n"
     ]
    },
    {
     "name": "stdout",
     "output_type": "stream",
     "text": [
      "# Finished iter 97 of 100: U after 200 iters, 5 trials. Parity 3. Distortion 0.50.\n"
     ]
    },
    {
     "name": "stderr",
     "output_type": "stream",
     "text": [
      "\u001b[32mTrial 1/5 100%|█████████████████████████████████████████| Time: 0:00:05\u001b[39m\n",
      "\u001b[32mTrial 2/5 100%|█████████████████████████████████████████| Time: 0:00:05\u001b[39m\n",
      "\u001b[32mTrial 3/5 100%|█████████████████████████████████████████| Time: 0:00:05\u001b[39m\n",
      "\u001b[32mTrial 4/5 100%|█████████████████████████████████████████| Time: 0:00:05\u001b[39m\n",
      "\u001b[32mTrial 5/5 100%|█████████████████████████████████████████| Time: 0:00:05\u001b[39m\n"
     ]
    },
    {
     "name": "stdout",
     "output_type": "stream",
     "text": [
      "# Finished iter 98 of 100: U after 200 iters, 5 trials. Parity 1. Distortion 0.50.\n",
      "# Finished iter 99 of 100: C after 15 iters, 1 trials. Parity 0. Distortion 0.10.\n"
     ]
    },
    {
     "name": "stderr",
     "output_type": "stream",
     "text": [
      "\u001b[32mTrial 1/5 100%|█████████████████████████████████████████| Time: 0:00:05\u001b[39m\n",
      "\u001b[32mTrial 2/5 100%|█████████████████████████████████████████| Time: 0:00:05\u001b[39m\n",
      "\u001b[32mTrial 3/5 100%|█████████████████████████████████████████| Time: 0:00:05\u001b[39m\n",
      "\u001b[32mTrial 4/5 100%|█████████████████████████████████████████| Time: 0:00:05\u001b[39m\n",
      "\u001b[32mTrial 5/5 100%|█████████████████████████████████████████| Time: 0:00:05\u001b[39m\n"
     ]
    },
    {
     "name": "stdout",
     "output_type": "stream",
     "text": [
      "# Finished iter 100 of 100: U after 200 iters, 5 trials. Parity 2. Distortion 0.50.\n",
      "##### b=3. 2 of 9 #####\n"
     ]
    },
    {
     "name": "stderr",
     "output_type": "stream",
     "text": [
      "\u001b[32mTrial 1/5 100%|█████████████████████████████████████████| Time: 0:00:05\u001b[39m\n",
      "\u001b[32mTrial 2/5 100%|█████████████████████████████████████████| Time: 0:00:05\u001b[39m\n",
      "\u001b[32mTrial 3/5 100%|█████████████████████████████████████████| Time: 0:00:05\u001b[39m\n",
      "\u001b[32mTrial 4/5 100%|█████████████████████████████████████████| Time: 0:00:05\u001b[39m\n",
      "\u001b[32mTrial 5/5 100%|█████████████████████████████████████████| Time: 0:00:05\u001b[39m\n"
     ]
    },
    {
     "name": "stdout",
     "output_type": "stream",
     "text": [
      "# Finished iter 1 of 100: U after 200 iters, 5 trials. Parity 2. Distortion 0.50.\n"
     ]
    },
    {
     "name": "stderr",
     "output_type": "stream",
     "text": [
      "\r",
      "\u001b[32mTrial 1/5  19%|███████▊                                 |  ETA: 0:00:04\u001b[39m"
     ]
    },
    {
     "name": "stdout",
     "output_type": "stream",
     "text": [
      "# Finished iter 2 of 100: C after 70 iters, 1 trials. Parity 0. Distortion 0.10.\n",
      "# Finished iter 3 of 100: C after 35 iters, 1 trials. Parity 0. Distortion 0.11.\n"
     ]
    },
    {
     "name": "stderr",
     "output_type": "stream",
     "text": [
      "\r",
      "\u001b[32mTrial 1/5  18%|███████▋                                 |  ETA: 0:00:04\u001b[39m"
     ]
    },
    {
     "name": "stdout",
     "output_type": "stream",
     "text": [
      "# Finished iter 4 of 100: C after 44 iters, 1 trials. Parity 0. Distortion 0.11.\n"
     ]
    },
    {
     "name": "stderr",
     "output_type": "stream",
     "text": [
      "\r",
      "\u001b[32mTrial 1/5  18%|███████▋                                 |  ETA: 0:00:04\u001b[39m"
     ]
    },
    {
     "name": "stdout",
     "output_type": "stream",
     "text": [
      "# Finished iter 5 of 100: C after 49 iters, 1 trials. Parity 0. Distortion 0.11.\n"
     ]
    },
    {
     "name": "stderr",
     "output_type": "stream",
     "text": [
      "\u001b[32mTrial 1/5 100%|█████████████████████████████████████████| Time: 0:00:05\u001b[39m\n",
      "\u001b[32mTrial 2/5  18%|███████▋                                 |  ETA: 0:00:04\u001b[39m"
     ]
    },
    {
     "name": "stdout",
     "output_type": "stream",
     "text": [
      "# Finished iter 6 of 100: C after 56 iters, 2 trials. Parity 0. Distortion 0.11.\n"
     ]
    },
    {
     "name": "stderr",
     "output_type": "stream",
     "text": [
      "\u001b[32mTrial 1/5 100%|█████████████████████████████████████████| Time: 0:00:05\u001b[39m\n",
      "\u001b[32mTrial 2/5 100%|█████████████████████████████████████████| Time: 0:00:05\u001b[39m\n",
      "\u001b[32mTrial 3/5 100%|█████████████████████████████████████████| Time: 0:00:05\u001b[39m\n",
      "\u001b[32mTrial 4/5 100%|█████████████████████████████████████████| Time: 0:00:05\u001b[39m\n",
      "\u001b[32mTrial 5/5 100%|█████████████████████████████████████████| Time: 0:00:05\u001b[39m\n"
     ]
    },
    {
     "name": "stdout",
     "output_type": "stream",
     "text": [
      "# Finished iter 7 of 100: U after 200 iters, 5 trials. Parity 1. Distortion 0.50.\n"
     ]
    },
    {
     "name": "stderr",
     "output_type": "stream",
     "text": [
      "\u001b[32mTrial 1/5  37%|███████████████▏                         |  ETA: 0:00:03\u001b[39m"
     ]
    },
    {
     "name": "stdout",
     "output_type": "stream",
     "text": [
      "# Finished iter 8 of 100: C after 76 iters, 1 trials. Parity 0. Distortion 0.11.\n"
     ]
    },
    {
     "name": "stderr",
     "output_type": "stream",
     "text": [
      "\u001b[32mTrial 1/5 100%|█████████████████████████████████████████| Time: 0:00:05\u001b[39m\n",
      "\u001b[32mTrial 2/5 100%|█████████████████████████████████████████| Time: 0:00:05\u001b[39m\n",
      "\u001b[32mTrial 3/5 100%|█████████████████████████████████████████| Time: 0:00:05\u001b[39m\n",
      "\u001b[32mTrial 4/5 100%|█████████████████████████████████████████| Time: 0:00:05\u001b[39m\n",
      "\u001b[32mTrial 5/5 100%|█████████████████████████████████████████| Time: 0:00:05\u001b[39m\n"
     ]
    },
    {
     "name": "stdout",
     "output_type": "stream",
     "text": [
      "# Finished iter 9 of 100: U after 200 iters, 5 trials. Parity 6. Distortion 0.50.\n"
     ]
    },
    {
     "name": "stderr",
     "output_type": "stream",
     "text": [
      "\u001b[32mTrial 1/5 100%|█████████████████████████████████████████| Time: 0:00:05\u001b[39m\n",
      "\u001b[32mTrial 2/5 100%|█████████████████████████████████████████| Time: 0:00:05\u001b[39m\n",
      "\u001b[32mTrial 3/5 100%|█████████████████████████████████████████| Time: 0:00:05\u001b[39m\n"
     ]
    },
    {
     "name": "stdout",
     "output_type": "stream",
     "text": [
      "# Finished iter 10 of 100: C after 23 iters, 4 trials. Parity 0. Distortion 0.10.\n"
     ]
    },
    {
     "name": "stderr",
     "output_type": "stream",
     "text": [
      "\u001b[32mTrial 1/5 100%|█████████████████████████████████████████| Time: 0:00:05\u001b[39m\n"
     ]
    },
    {
     "name": "stdout",
     "output_type": "stream",
     "text": [
      "# Finished iter 11 of 100: C after 19 iters, 2 trials. Parity 0. Distortion 0.11.\n"
     ]
    },
    {
     "name": "stderr",
     "output_type": "stream",
     "text": [
      "\u001b[32mTrial 1/5 100%|█████████████████████████████████████████| Time: 0:00:05\u001b[39m\n",
      "\u001b[32mTrial 2/5 100%|█████████████████████████████████████████| Time: 0:00:05\u001b[39m\n",
      "\u001b[32mTrial 3/5 100%|█████████████████████████████████████████| Time: 0:00:05\u001b[39m\n",
      "\u001b[32mTrial 4/5 100%|█████████████████████████████████████████| Time: 0:00:05\u001b[39m\n",
      "\u001b[32mTrial 5/5 100%|█████████████████████████████████████████| Time: 0:00:05\u001b[39m\n"
     ]
    },
    {
     "name": "stdout",
     "output_type": "stream",
     "text": [
      "# Finished iter 12 of 100: U after 200 iters, 5 trials. Parity 1. Distortion 0.50.\n"
     ]
    },
    {
     "name": "stderr",
     "output_type": "stream",
     "text": [
      "\u001b[32mTrial 1/5 100%|█████████████████████████████████████████| Time: 0:00:05\u001b[39m\n",
      "\u001b[32mTrial 2/5 100%|█████████████████████████████████████████| Time: 0:00:05\u001b[39m\n",
      "\u001b[32mTrial 3/5 100%|█████████████████████████████████████████| Time: 0:00:05\u001b[39m\n",
      "\u001b[32mTrial 4/5 100%|█████████████████████████████████████████| Time: 0:00:05\u001b[39m\n",
      "\u001b[32mTrial 5/5 100%|█████████████████████████████████████████| Time: 0:00:05\u001b[39m\n"
     ]
    },
    {
     "name": "stdout",
     "output_type": "stream",
     "text": [
      "# Finished iter 13 of 100: U after 200 iters, 5 trials. Parity 1. Distortion 0.50.\n"
     ]
    },
    {
     "name": "stderr",
     "output_type": "stream",
     "text": [
      "\u001b[32mTrial 1/5 100%|█████████████████████████████████████████| Time: 0:00:05\u001b[39m\n",
      "\u001b[32mTrial 2/5 100%|█████████████████████████████████████████| Time: 0:00:05\u001b[39m\n",
      "\u001b[32mTrial 3/5 100%|█████████████████████████████████████████| Time: 0:00:05\u001b[39m\n",
      "\u001b[32mTrial 4/5 100%|█████████████████████████████████████████| Time: 0:00:05\u001b[39m\n",
      "\u001b[32mTrial 5/5 100%|█████████████████████████████████████████| Time: 0:00:05\u001b[39m\n"
     ]
    },
    {
     "name": "stdout",
     "output_type": "stream",
     "text": [
      "# Finished iter 14 of 100: U after 200 iters, 5 trials. Parity 3. Distortion 0.50.\n"
     ]
    },
    {
     "name": "stderr",
     "output_type": "stream",
     "text": [
      "\u001b[32mTrial 1/5 100%|█████████████████████████████████████████| Time: 0:00:05\u001b[39m\n",
      "\u001b[32mTrial 2/5 100%|█████████████████████████████████████████| Time: 0:00:05\u001b[39m\n",
      "\u001b[32mTrial 3/5 100%|█████████████████████████████████████████| Time: 0:00:05\u001b[39m\n",
      "\u001b[32mTrial 4/5 100%|█████████████████████████████████████████| Time: 0:00:05\u001b[39m\n",
      "\u001b[32mTrial 5/5 100%|█████████████████████████████████████████| Time: 0:00:05\u001b[39m\n"
     ]
    },
    {
     "name": "stdout",
     "output_type": "stream",
     "text": [
      "# Finished iter 15 of 100: U after 200 iters, 5 trials. Parity 4. Distortion 0.50.\n"
     ]
    },
    {
     "name": "stderr",
     "output_type": "stream",
     "text": [
      "\u001b[32mTrial 1/5 100%|█████████████████████████████████████████| Time: 0:00:05\u001b[39m\n",
      "\u001b[32mTrial 2/5 100%|█████████████████████████████████████████| Time: 0:00:05\u001b[39m\n",
      "\u001b[32mTrial 3/5 100%|█████████████████████████████████████████| Time: 0:00:05\u001b[39m\n",
      "\u001b[32mTrial 4/5 100%|█████████████████████████████████████████| Time: 0:00:05\u001b[39m\n",
      "\u001b[32mTrial 5/5 100%|█████████████████████████████████████████| Time: 0:00:05\u001b[39m\n"
     ]
    },
    {
     "name": "stdout",
     "output_type": "stream",
     "text": [
      "# Finished iter 16 of 100: U after 200 iters, 5 trials. Parity 1. Distortion 0.50.\n"
     ]
    },
    {
     "name": "stderr",
     "output_type": "stream",
     "text": [
      "\u001b[32mTrial 1/5 100%|█████████████████████████████████████████| Time: 0:00:05\u001b[39m\n",
      "\u001b[32mTrial 2/5 100%|█████████████████████████████████████████| Time: 0:00:05\u001b[39m\n",
      "\u001b[32mTrial 3/5 100%|█████████████████████████████████████████| Time: 0:00:05\u001b[39m\n",
      "\u001b[32mTrial 4/5 100%|█████████████████████████████████████████| Time: 0:00:05\u001b[39m\n",
      "\u001b[32mTrial 5/5 100%|█████████████████████████████████████████| Time: 0:00:05\u001b[39m\n"
     ]
    },
    {
     "name": "stdout",
     "output_type": "stream",
     "text": [
      "# Finished iter 17 of 100: U after 200 iters, 5 trials. Parity 1. Distortion 0.50.\n"
     ]
    },
    {
     "name": "stderr",
     "output_type": "stream",
     "text": [
      "\u001b[32mTrial 1/5 100%|█████████████████████████████████████████| Time: 0:00:05\u001b[39m\n",
      "\u001b[32mTrial 2/5 100%|█████████████████████████████████████████| Time: 0:00:05\u001b[39m\n",
      "\u001b[32mTrial 3/5 100%|█████████████████████████████████████████| Time: 0:00:06\u001b[39m\n",
      "\u001b[32mTrial 4/5 100%|█████████████████████████████████████████| Time: 0:00:05\u001b[39m\n"
     ]
    },
    {
     "name": "stdout",
     "output_type": "stream",
     "text": [
      "# Finished iter 18 of 100: C after 15 iters, 5 trials. Parity 0. Distortion 0.11.\n"
     ]
    },
    {
     "name": "stderr",
     "output_type": "stream",
     "text": [
      "\u001b[32mTrial 1/5 100%|█████████████████████████████████████████| Time: 0:00:05\u001b[39m\n",
      "\u001b[32mTrial 2/5 100%|█████████████████████████████████████████| Time: 0:00:05\u001b[39m\n",
      "\u001b[32mTrial 3/5 100%|█████████████████████████████████████████| Time: 0:00:05\u001b[39m\n",
      "\u001b[32mTrial 4/5 100%|█████████████████████████████████████████| Time: 0:00:05\u001b[39m\n",
      "\u001b[32mTrial 5/5 100%|█████████████████████████████████████████| Time: 0:00:05\u001b[39m\n"
     ]
    },
    {
     "name": "stdout",
     "output_type": "stream",
     "text": [
      "# Finished iter 19 of 100: U after 200 iters, 5 trials. Parity 2. Distortion 0.50.\n",
      "# Finished iter 20 of 100: C after 18 iters, 1 trials. Parity 0. Distortion 0.10.\n"
     ]
    },
    {
     "name": "stderr",
     "output_type": "stream",
     "text": [
      "\u001b[32mTrial 1/5 100%|█████████████████████████████████████████| Time: 0:00:05\u001b[39m\n",
      "\u001b[32mTrial 2/5  18%|███████▍                                 |  ETA: 0:00:05\u001b[39m"
     ]
    },
    {
     "name": "stdout",
     "output_type": "stream",
     "text": [
      "# Finished iter 21 of 100: C after 61 iters, 2 trials. Parity 0. Distortion 0.11.\n"
     ]
    },
    {
     "name": "stderr",
     "output_type": "stream",
     "text": [
      "\u001b[32mTrial 1/5 100%|█████████████████████████████████████████| Time: 0:00:05\u001b[39m\n",
      "\u001b[32mTrial 2/5 100%|█████████████████████████████████████████| Time: 0:00:05\u001b[39m\n",
      "\u001b[32mTrial 3/5 100%|█████████████████████████████████████████| Time: 0:00:05\u001b[39m\n",
      "\u001b[32mTrial 4/5 100%|█████████████████████████████████████████| Time: 0:00:05\u001b[39m\n",
      "\u001b[32mTrial 5/5 100%|█████████████████████████████████████████| Time: 0:00:05\u001b[39m\n"
     ]
    },
    {
     "name": "stdout",
     "output_type": "stream",
     "text": [
      "# Finished iter 22 of 100: U after 200 iters, 5 trials. Parity 1. Distortion 0.50.\n",
      "# Finished iter 23 of 100: C after 22 iters, 1 trials. Parity 0. Distortion 0.11.\n"
     ]
    },
    {
     "name": "stderr",
     "output_type": "stream",
     "text": [
      "\r",
      "\u001b[32mTrial 1/5  18%|███████▍                                 |  ETA: 0:00:05\u001b[39m"
     ]
    },
    {
     "name": "stdout",
     "output_type": "stream",
     "text": [
      "# Finished iter 24 of 100: C after 69 iters, 1 trials. Parity 0. Distortion 0.11.\n"
     ]
    },
    {
     "name": "stderr",
     "output_type": "stream",
     "text": [
      "\u001b[32mTrial 1/5 100%|█████████████████████████████████████████| Time: 0:00:05\u001b[39m\n",
      "\u001b[32mTrial 2/5 100%|█████████████████████████████████████████| Time: 0:00:05\u001b[39m\n",
      "\u001b[32mTrial 3/5 100%|█████████████████████████████████████████| Time: 0:00:05\u001b[39m\n",
      "\u001b[32mTrial 4/5 100%|█████████████████████████████████████████| Time: 0:00:05\u001b[39m\n",
      "\u001b[32mTrial 5/5 100%|█████████████████████████████████████████| Time: 0:00:05\u001b[39m\n"
     ]
    },
    {
     "name": "stdout",
     "output_type": "stream",
     "text": [
      "# Finished iter 25 of 100: U after 200 iters, 5 trials. Parity 2. Distortion 0.50.\n"
     ]
    },
    {
     "name": "stderr",
     "output_type": "stream",
     "text": [
      "\r",
      "\u001b[32mTrial 1/5  18%|███████▍                                 |  ETA: 0:00:05\u001b[39m"
     ]
    },
    {
     "name": "stdout",
     "output_type": "stream",
     "text": [
      "# Finished iter 26 of 100: C after 65 iters, 1 trials. Parity 0. Distortion 0.11.\n",
      "# Finished iter 27 of 100: C after 27 iters, 1 trials. Parity 0. Distortion 0.10.\n"
     ]
    },
    {
     "name": "stderr",
     "output_type": "stream",
     "text": [
      "\u001b[32mTrial 1/5 100%|█████████████████████████████████████████| Time: 0:00:05\u001b[39m\n",
      "\u001b[32mTrial 2/5 100%|█████████████████████████████████████████| Time: 0:00:05\u001b[39m\n",
      "\u001b[32mTrial 3/5 100%|█████████████████████████████████████████| Time: 0:00:05\u001b[39m\n",
      "\u001b[32mTrial 4/5 100%|█████████████████████████████████████████| Time: 0:00:05\u001b[39m\n",
      "\u001b[32mTrial 5/5 100%|█████████████████████████████████████████| Time: 0:00:05\u001b[39m\n"
     ]
    },
    {
     "name": "stdout",
     "output_type": "stream",
     "text": [
      "# Finished iter 28 of 100: U after 200 iters, 5 trials. Parity 1. Distortion 0.50.\n"
     ]
    },
    {
     "name": "stderr",
     "output_type": "stream",
     "text": [
      "\u001b[32mTrial 1/5 100%|█████████████████████████████████████████| Time: 0:00:05\u001b[39m\n",
      "\u001b[32mTrial 2/5 100%|█████████████████████████████████████████| Time: 0:00:05\u001b[39m\n",
      "\u001b[32mTrial 3/5 100%|█████████████████████████████████████████| Time: 0:00:05\u001b[39m\n",
      "\u001b[32mTrial 4/5 100%|█████████████████████████████████████████| Time: 0:00:05\u001b[39m\n",
      "\u001b[32mTrial 5/5 100%|█████████████████████████████████████████| Time: 0:00:05\u001b[39m\n"
     ]
    },
    {
     "name": "stdout",
     "output_type": "stream",
     "text": [
      "# Finished iter 29 of 100: U after 200 iters, 5 trials. Parity 2. Distortion 0.50.\n"
     ]
    },
    {
     "name": "stderr",
     "output_type": "stream",
     "text": [
      "\u001b[32mTrial 1/5 100%|█████████████████████████████████████████| Time: 0:00:05\u001b[39m\n",
      "\u001b[32mTrial 2/5  14%|██████                                   |  ETA: 0:00:06\u001b[39m"
     ]
    },
    {
     "name": "stdout",
     "output_type": "stream",
     "text": [
      "# Finished iter 30 of 100: C after 37 iters, 2 trials. Parity 0. Distortion 0.11.\n",
      "# Finished iter 31 of 100: C after 23 iters, 1 trials. Parity 0. Distortion 0.11.\n"
     ]
    },
    {
     "name": "stderr",
     "output_type": "stream",
     "text": [
      "\u001b[32mTrial 1/5 100%|█████████████████████████████████████████| Time: 0:00:06\u001b[39m\n",
      "\u001b[32mTrial 2/5 100%|█████████████████████████████████████████| Time: 0:00:06\u001b[39m\n",
      "\u001b[32mTrial 3/5 100%|█████████████████████████████████████████| Time: 0:00:05\u001b[39m\n",
      "\u001b[32mTrial 4/5 100%|█████████████████████████████████████████| Time: 0:00:05\u001b[39m\n",
      "\u001b[32mTrial 5/5 100%|█████████████████████████████████████████| Time: 0:00:05\u001b[39m\n"
     ]
    },
    {
     "name": "stdout",
     "output_type": "stream",
     "text": [
      "# Finished iter 32 of 100: U after 200 iters, 5 trials. Parity 4. Distortion 0.50.\n"
     ]
    },
    {
     "name": "stderr",
     "output_type": "stream",
     "text": [
      "\u001b[32mTrial 1/5 100%|█████████████████████████████████████████| Time: 0:00:05\u001b[39m\n",
      "\u001b[32mTrial 2/5 100%|█████████████████████████████████████████| Time: 0:00:05\u001b[39m\n",
      "\u001b[32mTrial 3/5 100%|█████████████████████████████████████████| Time: 0:00:05\u001b[39m\n",
      "\u001b[32mTrial 4/5 100%|█████████████████████████████████████████| Time: 0:00:05\u001b[39m\n",
      "\u001b[32mTrial 5/5 100%|█████████████████████████████████████████| Time: 0:00:05\u001b[39m\n"
     ]
    },
    {
     "name": "stdout",
     "output_type": "stream",
     "text": [
      "# Finished iter 33 of 100: U after 200 iters, 5 trials. Parity 1. Distortion 0.50.\n"
     ]
    },
    {
     "name": "stderr",
     "output_type": "stream",
     "text": [
      "\u001b[32mTrial 1/5 100%|█████████████████████████████████████████| Time: 0:00:05\u001b[39m\n",
      "\u001b[32mTrial 2/5 100%|█████████████████████████████████████████| Time: 0:00:05\u001b[39m\n",
      "\u001b[32mTrial 3/5 100%|█████████████████████████████████████████| Time: 0:00:05\u001b[39m\n",
      "\u001b[32mTrial 4/5 100%|█████████████████████████████████████████| Time: 0:00:05\u001b[39m\n",
      "\u001b[32mTrial 5/5 100%|█████████████████████████████████████████| Time: 0:00:05\u001b[39m\n"
     ]
    },
    {
     "name": "stdout",
     "output_type": "stream",
     "text": [
      "# Finished iter 34 of 100: U after 200 iters, 5 trials. Parity 5. Distortion 0.50.\n"
     ]
    },
    {
     "name": "stderr",
     "output_type": "stream",
     "text": [
      "\u001b[32mTrial 1/5 100%|█████████████████████████████████████████| Time: 0:00:05\u001b[39m\n",
      "\u001b[32mTrial 2/5 100%|█████████████████████████████████████████| Time: 0:00:05\u001b[39m\n",
      "\u001b[32mTrial 3/5 100%|█████████████████████████████████████████| Time: 0:00:05\u001b[39m\n",
      "\u001b[32mTrial 4/5 100%|█████████████████████████████████████████| Time: 0:00:05\u001b[39m\n",
      "\u001b[32mTrial 5/5 100%|█████████████████████████████████████████| Time: 0:00:05\u001b[39m\n"
     ]
    },
    {
     "name": "stdout",
     "output_type": "stream",
     "text": [
      "# Finished iter 35 of 100: U after 200 iters, 5 trials. Parity 1. Distortion 0.50.\n"
     ]
    },
    {
     "name": "stderr",
     "output_type": "stream",
     "text": [
      "\u001b[32mTrial 1/5 100%|█████████████████████████████████████████| Time: 0:00:05\u001b[39m\n",
      "\u001b[32mTrial 2/5 100%|█████████████████████████████████████████| Time: 0:00:05\u001b[39m\n",
      "\u001b[32mTrial 3/5 100%|█████████████████████████████████████████| Time: 0:00:05\u001b[39m\n",
      "\u001b[32mTrial 4/5 100%|█████████████████████████████████████████| Time: 0:00:05\u001b[39m\n",
      "\u001b[32mTrial 5/5 100%|█████████████████████████████████████████| Time: 0:00:05\u001b[39m\n"
     ]
    },
    {
     "name": "stdout",
     "output_type": "stream",
     "text": [
      "# Finished iter 36 of 100: U after 200 iters, 5 trials. Parity 1. Distortion 0.50.\n"
     ]
    },
    {
     "name": "stderr",
     "output_type": "stream",
     "text": [
      "\u001b[32mTrial 1/5 100%|█████████████████████████████████████████| Time: 0:00:05\u001b[39m\n",
      "\u001b[32mTrial 2/5 100%|█████████████████████████████████████████| Time: 0:00:05\u001b[39m\n",
      "\u001b[32mTrial 3/5 100%|█████████████████████████████████████████| Time: 0:00:05\u001b[39m\n",
      "\u001b[32mTrial 4/5 100%|█████████████████████████████████████████| Time: 0:00:05\u001b[39m\n",
      "\u001b[32mTrial 5/5 100%|█████████████████████████████████████████| Time: 0:00:05\u001b[39m\n"
     ]
    },
    {
     "name": "stdout",
     "output_type": "stream",
     "text": [
      "# Finished iter 37 of 100: U after 200 iters, 5 trials. Parity 1. Distortion 0.50.\n"
     ]
    },
    {
     "name": "stderr",
     "output_type": "stream",
     "text": [
      "\u001b[32mTrial 1/5 100%|█████████████████████████████████████████| Time: 0:00:05\u001b[39m\n",
      "\u001b[32mTrial 2/5 100%|█████████████████████████████████████████| Time: 0:00:05\u001b[39m\n",
      "\u001b[32mTrial 3/5 100%|█████████████████████████████████████████| Time: 0:00:05\u001b[39m\n",
      "\u001b[32mTrial 4/5 100%|█████████████████████████████████████████| Time: 0:00:05\u001b[39m\n",
      "\u001b[32mTrial 5/5 100%|█████████████████████████████████████████| Time: 0:00:05\u001b[39m\n"
     ]
    },
    {
     "name": "stdout",
     "output_type": "stream",
     "text": [
      "# Finished iter 38 of 100: U after 200 iters, 5 trials. Parity 1. Distortion 0.50.\n",
      "# Finished iter 39 of 100: C after 24 iters, 1 trials. Parity 0. Distortion 0.11.\n"
     ]
    },
    {
     "name": "stderr",
     "output_type": "stream",
     "text": [
      "\u001b[32mTrial 1/5 100%|█████████████████████████████████████████| Time: 0:00:05\u001b[39m\n",
      "\u001b[32mTrial 2/5  18%|███████▋                                 |  ETA: 0:00:04\u001b[39m"
     ]
    },
    {
     "name": "stdout",
     "output_type": "stream",
     "text": [
      "# Finished iter 40 of 100: C after 41 iters, 2 trials. Parity 0. Distortion 0.11.\n"
     ]
    },
    {
     "name": "stderr",
     "output_type": "stream",
     "text": [
      "\u001b[32mTrial 1/5 100%|█████████████████████████████████████████| Time: 0:00:05\u001b[39m\n",
      "\u001b[32mTrial 2/5 100%|█████████████████████████████████████████| Time: 0:00:05\u001b[39m\n",
      "\u001b[32mTrial 3/5 100%|█████████████████████████████████████████| Time: 0:00:05\u001b[39m\n",
      "\u001b[32mTrial 4/5 100%|█████████████████████████████████████████| Time: 0:00:05\u001b[39m\n",
      "\u001b[32mTrial 5/5 100%|█████████████████████████████████████████| Time: 0:00:05\u001b[39m\n"
     ]
    },
    {
     "name": "stdout",
     "output_type": "stream",
     "text": [
      "# Finished iter 41 of 100: U after 200 iters, 5 trials. Parity 2. Distortion 0.50.\n"
     ]
    },
    {
     "name": "stderr",
     "output_type": "stream",
     "text": [
      "\u001b[32mTrial 1/5 100%|█████████████████████████████████████████| Time: 0:00:05\u001b[39m\n",
      "\u001b[32mTrial 2/5 100%|█████████████████████████████████████████| Time: 0:00:05\u001b[39m\n",
      "\u001b[32mTrial 3/5 100%|█████████████████████████████████████████| Time: 0:00:05\u001b[39m\n",
      "\u001b[32mTrial 4/5 100%|█████████████████████████████████████████| Time: 0:00:05\u001b[39m\n",
      "\u001b[32mTrial 5/5 100%|█████████████████████████████████████████| Time: 0:00:05\u001b[39m\n"
     ]
    },
    {
     "name": "stdout",
     "output_type": "stream",
     "text": [
      "# Finished iter 42 of 100: U after 200 iters, 5 trials. Parity 1. Distortion 0.50.\n"
     ]
    },
    {
     "name": "stderr",
     "output_type": "stream",
     "text": [
      "\u001b[32mTrial 1/5 100%|█████████████████████████████████████████| Time: 0:00:05\u001b[39m\n",
      "\u001b[32mTrial 2/5 100%|█████████████████████████████████████████| Time: 0:00:05\u001b[39m\n"
     ]
    },
    {
     "name": "stdout",
     "output_type": "stream",
     "text": [
      "# Finished iter 43 of 100: C after 15 iters, 3 trials. Parity 0. Distortion 0.11.\n"
     ]
    },
    {
     "name": "stderr",
     "output_type": "stream",
     "text": [
      "\u001b[32mTrial 1/5 100%|█████████████████████████████████████████| Time: 0:00:05\u001b[39m\n",
      "\u001b[32mTrial 2/5 100%|█████████████████████████████████████████| Time: 0:00:05\u001b[39m\n",
      "\u001b[32mTrial 3/5 100%|█████████████████████████████████████████| Time: 0:00:05\u001b[39m\n",
      "\u001b[32mTrial 4/5 100%|█████████████████████████████████████████| Time: 0:00:05\u001b[39m\n",
      "\u001b[32mTrial 5/5 100%|█████████████████████████████████████████| Time: 0:00:05\u001b[39m\n"
     ]
    },
    {
     "name": "stdout",
     "output_type": "stream",
     "text": [
      "# Finished iter 44 of 100: U after 200 iters, 5 trials. Parity 1. Distortion 0.50.\n"
     ]
    },
    {
     "name": "stderr",
     "output_type": "stream",
     "text": [
      "\u001b[32mTrial 1/5 100%|█████████████████████████████████████████| Time: 0:00:05\u001b[39m\n",
      "\u001b[32mTrial 2/5 100%|█████████████████████████████████████████| Time: 0:00:05\u001b[39m\n",
      "\u001b[32mTrial 3/5 100%|█████████████████████████████████████████| Time: 0:00:05\u001b[39m\n",
      "\u001b[32mTrial 4/5 100%|█████████████████████████████████████████| Time: 0:00:05\u001b[39m\n",
      "\u001b[32mTrial 5/5 100%|█████████████████████████████████████████| Time: 0:00:05\u001b[39m\n"
     ]
    },
    {
     "name": "stdout",
     "output_type": "stream",
     "text": [
      "# Finished iter 45 of 100: U after 200 iters, 5 trials. Parity 3. Distortion 0.50.\n"
     ]
    },
    {
     "name": "stderr",
     "output_type": "stream",
     "text": [
      "\u001b[32mTrial 1/5 100%|█████████████████████████████████████████| Time: 0:00:05\u001b[39m\n",
      "\u001b[32mTrial 2/5  18%|███████▏                                 |  ETA: 0:00:05\u001b[39m"
     ]
    },
    {
     "name": "stdout",
     "output_type": "stream",
     "text": [
      "# Finished iter 46 of 100: C after 59 iters, 2 trials. Parity 0. Distortion 0.11.\n"
     ]
    },
    {
     "name": "stderr",
     "output_type": "stream",
     "text": [
      "\u001b[32mTrial 1/5 100%|█████████████████████████████████████████| Time: 0:00:05\u001b[39m\n",
      "\u001b[32mTrial 2/5 100%|█████████████████████████████████████████| Time: 0:00:05\u001b[39m\n",
      "\u001b[32mTrial 3/5 100%|█████████████████████████████████████████| Time: 0:00:05\u001b[39m\n",
      "\u001b[32mTrial 4/5 100%|█████████████████████████████████████████| Time: 0:00:05\u001b[39m\n",
      "\u001b[32mTrial 5/5 100%|█████████████████████████████████████████| Time: 0:00:05\u001b[39m\n"
     ]
    },
    {
     "name": "stdout",
     "output_type": "stream",
     "text": [
      "# Finished iter 47 of 100: U after 200 iters, 5 trials. Parity 3. Distortion 0.50.\n"
     ]
    },
    {
     "name": "stderr",
     "output_type": "stream",
     "text": [
      "\r",
      "\u001b[32mTrial 1/5  18%|███████▍                                 |  ETA: 0:00:05\u001b[39m"
     ]
    },
    {
     "name": "stdout",
     "output_type": "stream",
     "text": [
      "# Finished iter 48 of 100: C after 48 iters, 1 trials. Parity 0. Distortion 0.11.\n"
     ]
    },
    {
     "name": "stderr",
     "output_type": "stream",
     "text": [
      "\u001b[32mTrial 1/5 100%|█████████████████████████████████████████| Time: 0:00:05\u001b[39m\n",
      "\u001b[32mTrial 2/5 100%|█████████████████████████████████████████| Time: 0:00:05\u001b[39m\n",
      "\u001b[32mTrial 3/5 100%|█████████████████████████████████████████| Time: 0:00:05\u001b[39m\n",
      "\u001b[32mTrial 4/5 100%|█████████████████████████████████████████| Time: 0:00:05\u001b[39m\n",
      "\u001b[32mTrial 5/5 100%|█████████████████████████████████████████| Time: 0:00:05\u001b[39m\n"
     ]
    },
    {
     "name": "stdout",
     "output_type": "stream",
     "text": [
      "# Finished iter 49 of 100: U after 200 iters, 5 trials. Parity 1. Distortion 0.50.\n"
     ]
    },
    {
     "name": "stderr",
     "output_type": "stream",
     "text": [
      "\u001b[32mTrial 1/5 100%|█████████████████████████████████████████| Time: 0:00:05\u001b[39m\n",
      "\u001b[32mTrial 2/5 100%|█████████████████████████████████████████| Time: 0:00:05\u001b[39m\n",
      "\u001b[32mTrial 3/5 100%|█████████████████████████████████████████| Time: 0:00:05\u001b[39m\n",
      "\u001b[32mTrial 4/5 100%|█████████████████████████████████████████| Time: 0:00:05\u001b[39m\n",
      "\u001b[32mTrial 5/5 100%|█████████████████████████████████████████| Time: 0:00:05\u001b[39m\n"
     ]
    },
    {
     "name": "stdout",
     "output_type": "stream",
     "text": [
      "# Finished iter 50 of 100: U after 200 iters, 5 trials. Parity 4. Distortion 0.50.\n"
     ]
    },
    {
     "name": "stderr",
     "output_type": "stream",
     "text": [
      "\u001b[32mTrial 1/5 100%|█████████████████████████████████████████| Time: 0:00:05\u001b[39m\n"
     ]
    },
    {
     "name": "stdout",
     "output_type": "stream",
     "text": [
      "# Finished iter 51 of 100: C after 37 iters, 2 trials. Parity 0. Distortion 0.11.\n"
     ]
    },
    {
     "name": "stderr",
     "output_type": "stream",
     "text": [
      "\u001b[32mTrial 1/5 100%|█████████████████████████████████████████| Time: 0:00:05\u001b[39m\n",
      "\u001b[32mTrial 2/5 100%|█████████████████████████████████████████| Time: 0:00:05\u001b[39m\n",
      "\u001b[32mTrial 3/5 100%|█████████████████████████████████████████| Time: 0:00:05\u001b[39m\n",
      "\u001b[32mTrial 4/5 100%|█████████████████████████████████████████| Time: 0:00:05\u001b[39m\n",
      "\u001b[32mTrial 5/5 100%|█████████████████████████████████████████| Time: 0:00:05\u001b[39m\n"
     ]
    },
    {
     "name": "stdout",
     "output_type": "stream",
     "text": [
      "# Finished iter 52 of 100: U after 200 iters, 5 trials. Parity 1. Distortion 0.50.\n"
     ]
    },
    {
     "name": "stderr",
     "output_type": "stream",
     "text": [
      "\u001b[32mTrial 1/5 100%|█████████████████████████████████████████| Time: 0:00:05\u001b[39m\n",
      "\u001b[32mTrial 2/5 100%|█████████████████████████████████████████| Time: 0:00:05\u001b[39m\n",
      "\u001b[32mTrial 3/5 100%|█████████████████████████████████████████| Time: 0:00:05\u001b[39m\n",
      "\u001b[32mTrial 4/5 100%|█████████████████████████████████████████| Time: 0:00:05\u001b[39m\n",
      "\u001b[32mTrial 5/5 100%|█████████████████████████████████████████| Time: 0:00:05\u001b[39m\n"
     ]
    },
    {
     "name": "stdout",
     "output_type": "stream",
     "text": [
      "# Finished iter 53 of 100: U after 200 iters, 5 trials. Parity 1. Distortion 0.50.\n"
     ]
    },
    {
     "name": "stderr",
     "output_type": "stream",
     "text": [
      "\u001b[32mTrial 1/5  36%|███████████████                          |  ETA: 0:00:04\u001b[39m"
     ]
    },
    {
     "name": "stdout",
     "output_type": "stream",
     "text": [
      "# Finished iter 54 of 100: C after 88 iters, 1 trials. Parity 0. Distortion 0.11.\n"
     ]
    },
    {
     "name": "stderr",
     "output_type": "stream",
     "text": [
      "\r",
      "\u001b[32mTrial 1/5  18%|███████▋                                 |  ETA: 0:00:05\u001b[39m"
     ]
    },
    {
     "name": "stdout",
     "output_type": "stream",
     "text": [
      "# Finished iter 55 of 100: C after 49 iters, 1 trials. Parity 0. Distortion 0.11.\n",
      "# Finished iter 56 of 100: C after 12 iters, 1 trials. Parity 0. Distortion 0.12.\n"
     ]
    },
    {
     "name": "stderr",
     "output_type": "stream",
     "text": [
      "\u001b[32mTrial 1/5 100%|█████████████████████████████████████████| Time: 0:00:05\u001b[39m\n",
      "\u001b[32mTrial 2/5 100%|█████████████████████████████████████████| Time: 0:00:05\u001b[39m\n",
      "\u001b[32mTrial 3/5 100%|█████████████████████████████████████████| Time: 0:00:05\u001b[39m\n",
      "\u001b[32mTrial 4/5 100%|█████████████████████████████████████████| Time: 0:00:05\u001b[39m\n",
      "\u001b[32mTrial 5/5 100%|█████████████████████████████████████████| Time: 0:00:05\u001b[39m\n"
     ]
    },
    {
     "name": "stdout",
     "output_type": "stream",
     "text": [
      "# Finished iter 57 of 100: U after 200 iters, 5 trials. Parity 3. Distortion 0.50.\n"
     ]
    },
    {
     "name": "stderr",
     "output_type": "stream",
     "text": [
      "\u001b[32mTrial 1/5 100%|█████████████████████████████████████████| Time: 0:00:05\u001b[39m\n",
      "\u001b[32mTrial 2/5 100%|█████████████████████████████████████████| Time: 0:00:05\u001b[39m\n",
      "\u001b[32mTrial 3/5 100%|█████████████████████████████████████████| Time: 0:00:05\u001b[39m\n",
      "\u001b[32mTrial 4/5 100%|█████████████████████████████████████████| Time: 0:00:05\u001b[39m\n",
      "\u001b[32mTrial 5/5 100%|█████████████████████████████████████████| Time: 0:00:05\u001b[39m\n"
     ]
    },
    {
     "name": "stdout",
     "output_type": "stream",
     "text": [
      "# Finished iter 58 of 100: U after 200 iters, 5 trials. Parity 3. Distortion 0.50.\n",
      "# Finished iter 59 of 100: C after 23 iters, 1 trials. Parity 0. Distortion 0.10.\n",
      "# Finished iter 60 of 100: C after 20 iters, 1 trials. Parity 0. Distortion 0.10.\n"
     ]
    },
    {
     "name": "stderr",
     "output_type": "stream",
     "text": [
      "\u001b[32mTrial 1/5 100%|█████████████████████████████████████████| Time: 0:00:05\u001b[39m\n",
      "\u001b[32mTrial 2/5 100%|█████████████████████████████████████████| Time: 0:00:05\u001b[39m\n",
      "\u001b[32mTrial 3/5 100%|█████████████████████████████████████████| Time: 0:00:05\u001b[39m\n",
      "\u001b[32mTrial 4/5 100%|█████████████████████████████████████████| Time: 0:00:05\u001b[39m\n",
      "\u001b[32mTrial 5/5 100%|█████████████████████████████████████████| Time: 0:00:05\u001b[39m\n"
     ]
    },
    {
     "name": "stdout",
     "output_type": "stream",
     "text": [
      "# Finished iter 61 of 100: U after 200 iters, 5 trials. Parity 1. Distortion 0.50.\n"
     ]
    },
    {
     "name": "stderr",
     "output_type": "stream",
     "text": [
      "\u001b[32mTrial 1/5 100%|█████████████████████████████████████████| Time: 0:00:05\u001b[39m\n",
      "\u001b[32mTrial 2/5 100%|█████████████████████████████████████████| Time: 0:00:05\u001b[39m\n",
      "\u001b[32mTrial 3/5 100%|█████████████████████████████████████████| Time: 0:00:05\u001b[39m\n",
      "\u001b[32mTrial 4/5 100%|█████████████████████████████████████████| Time: 0:00:05\u001b[39m\n",
      "\u001b[32mTrial 5/5 100%|█████████████████████████████████████████| Time: 0:00:05\u001b[39m\n"
     ]
    },
    {
     "name": "stdout",
     "output_type": "stream",
     "text": [
      "# Finished iter 62 of 100: U after 200 iters, 5 trials. Parity 1. Distortion 0.50.\n",
      "# Finished iter 63 of 100: C after 17 iters, 1 trials. Parity 0. Distortion 0.10.\n"
     ]
    },
    {
     "name": "stderr",
     "output_type": "stream",
     "text": [
      "\u001b[32mTrial 1/5 100%|█████████████████████████████████████████| Time: 0:00:05\u001b[39m\n",
      "\u001b[32mTrial 2/5 100%|█████████████████████████████████████████| Time: 0:00:05\u001b[39m\n"
     ]
    },
    {
     "name": "stdout",
     "output_type": "stream",
     "text": [
      "# Finished iter 64 of 100: C after 29 iters, 3 trials. Parity 0. Distortion 0.10.\n"
     ]
    },
    {
     "name": "stderr",
     "output_type": "stream",
     "text": [
      "\u001b[32mTrial 1/5 100%|█████████████████████████████████████████| Time: 0:00:05\u001b[39m\n",
      "\u001b[32mTrial 2/5 100%|█████████████████████████████████████████| Time: 0:00:05\u001b[39m\n",
      "\u001b[32mTrial 3/5 100%|█████████████████████████████████████████| Time: 0:00:05\u001b[39m\n"
     ]
    },
    {
     "name": "stdout",
     "output_type": "stream",
     "text": [
      "# Finished iter 65 of 100: C after 14 iters, 4 trials. Parity 0. Distortion 0.11.\n"
     ]
    },
    {
     "name": "stderr",
     "output_type": "stream",
     "text": [
      "\u001b[32mTrial 1/5 100%|█████████████████████████████████████████| Time: 0:00:05\u001b[39m\n"
     ]
    },
    {
     "name": "stdout",
     "output_type": "stream",
     "text": [
      "# Finished iter 66 of 100: C after 20 iters, 2 trials. Parity 0. Distortion 0.11.\n"
     ]
    },
    {
     "name": "stderr",
     "output_type": "stream",
     "text": [
      "\u001b[32mTrial 1/5 100%|█████████████████████████████████████████| Time: 0:00:05\u001b[39m\n",
      "\u001b[32mTrial 2/5 100%|█████████████████████████████████████████| Time: 0:00:05\u001b[39m\n",
      "\u001b[32mTrial 3/5 100%|█████████████████████████████████████████| Time: 0:00:05\u001b[39m\n",
      "\u001b[32mTrial 4/5 100%|█████████████████████████████████████████| Time: 0:00:05\u001b[39m\n",
      "\u001b[32mTrial 5/5 100%|█████████████████████████████████████████| Time: 0:00:05\u001b[39m\n"
     ]
    },
    {
     "name": "stdout",
     "output_type": "stream",
     "text": [
      "# Finished iter 67 of 100: U after 200 iters, 5 trials. Parity 2. Distortion 0.50.\n"
     ]
    },
    {
     "name": "stderr",
     "output_type": "stream",
     "text": [
      "\u001b[32mTrial 1/5 100%|█████████████████████████████████████████| Time: 0:00:05\u001b[39m\n"
     ]
    },
    {
     "name": "stdout",
     "output_type": "stream",
     "text": [
      "# Finished iter 68 of 100: C after 18 iters, 2 trials. Parity 0. Distortion 0.11.\n"
     ]
    },
    {
     "name": "stderr",
     "output_type": "stream",
     "text": [
      "\u001b[32mTrial 1/5 100%|█████████████████████████████████████████| Time: 0:00:05\u001b[39m\n",
      "\u001b[32mTrial 2/5 100%|█████████████████████████████████████████| Time: 0:00:05\u001b[39m\n",
      "\u001b[32mTrial 3/5 100%|█████████████████████████████████████████| Time: 0:00:05\u001b[39m\n",
      "\u001b[32mTrial 4/5 100%|█████████████████████████████████████████| Time: 0:00:05\u001b[39m\n",
      "\u001b[32mTrial 5/5 100%|█████████████████████████████████████████| Time: 0:00:05\u001b[39m\n"
     ]
    },
    {
     "name": "stdout",
     "output_type": "stream",
     "text": [
      "# Finished iter 69 of 100: U after 200 iters, 5 trials. Parity 2. Distortion 0.50.\n"
     ]
    },
    {
     "name": "stderr",
     "output_type": "stream",
     "text": [
      "\u001b[32mTrial 1/5 100%|█████████████████████████████████████████| Time: 0:00:05\u001b[39m\n",
      "\u001b[32mTrial 2/5 100%|█████████████████████████████████████████| Time: 0:00:05\u001b[39m\n",
      "\u001b[32mTrial 3/5 100%|█████████████████████████████████████████| Time: 0:00:05\u001b[39m\n",
      "\u001b[32mTrial 4/5 100%|█████████████████████████████████████████| Time: 0:00:05\u001b[39m\n",
      "\u001b[32mTrial 5/5 100%|█████████████████████████████████████████| Time: 0:00:05\u001b[39m\n"
     ]
    },
    {
     "name": "stdout",
     "output_type": "stream",
     "text": [
      "# Finished iter 70 of 100: U after 200 iters, 5 trials. Parity 2. Distortion 0.50.\n"
     ]
    },
    {
     "name": "stderr",
     "output_type": "stream",
     "text": [
      "\r",
      "\u001b[32mTrial 1/5  18%|███████▏                                 |  ETA: 0:00:05\u001b[39m"
     ]
    },
    {
     "name": "stdout",
     "output_type": "stream",
     "text": [
      "# Finished iter 71 of 100: C after 40 iters, 1 trials. Parity 0. Distortion 0.10.\n",
      "# Finished iter 72 of 100: C after 19 iters, 1 trials. Parity 0. Distortion 0.10.\n"
     ]
    },
    {
     "name": "stderr",
     "output_type": "stream",
     "text": [
      "\r",
      "\u001b[32mTrial 1/5  18%|███████▍                                 |  ETA: 0:00:05\u001b[39m"
     ]
    },
    {
     "name": "stdout",
     "output_type": "stream",
     "text": [
      "# Finished iter 73 of 100: C after 44 iters, 1 trials. Parity 0. Distortion 0.10.\n"
     ]
    },
    {
     "name": "stderr",
     "output_type": "stream",
     "text": [
      "\u001b[32mTrial 1/5 100%|█████████████████████████████████████████| Time: 0:00:05\u001b[39m\n",
      "\u001b[32mTrial 2/5 100%|█████████████████████████████████████████| Time: 0:00:05\u001b[39m\n",
      "\u001b[32mTrial 3/5 100%|█████████████████████████████████████████| Time: 0:00:05\u001b[39m\n",
      "\u001b[32mTrial 4/5 100%|█████████████████████████████████████████| Time: 0:00:05\u001b[39m\n",
      "\u001b[32mTrial 5/5 100%|█████████████████████████████████████████| Time: 0:00:05\u001b[39m\n"
     ]
    },
    {
     "name": "stdout",
     "output_type": "stream",
     "text": [
      "# Finished iter 74 of 100: U after 200 iters, 5 trials. Parity 3. Distortion 0.50.\n"
     ]
    },
    {
     "name": "stderr",
     "output_type": "stream",
     "text": [
      "\u001b[32mTrial 1/5 100%|█████████████████████████████████████████| Time: 0:00:05\u001b[39m\n",
      "\u001b[32mTrial 2/5 100%|█████████████████████████████████████████| Time: 0:00:05\u001b[39m\n",
      "\u001b[32mTrial 3/5 100%|█████████████████████████████████████████| Time: 0:00:05\u001b[39m\n",
      "\u001b[32mTrial 4/5 100%|█████████████████████████████████████████| Time: 0:00:05\u001b[39m\n",
      "\u001b[32mTrial 5/5 100%|█████████████████████████████████████████| Time: 0:00:05\u001b[39m\n"
     ]
    },
    {
     "name": "stdout",
     "output_type": "stream",
     "text": [
      "# Finished iter 75 of 100: U after 200 iters, 5 trials. Parity 3. Distortion 0.50.\n"
     ]
    },
    {
     "name": "stderr",
     "output_type": "stream",
     "text": [
      "\u001b[32mTrial 1/5 100%|█████████████████████████████████████████| Time: 0:00:05\u001b[39m\n",
      "\u001b[32mTrial 2/5 100%|█████████████████████████████████████████| Time: 0:00:05\u001b[39m\n",
      "\u001b[32mTrial 3/5 100%|█████████████████████████████████████████| Time: 0:00:05\u001b[39m\n",
      "\u001b[32mTrial 4/5 100%|█████████████████████████████████████████| Time: 0:00:05\u001b[39m\n",
      "\u001b[32mTrial 5/5 100%|█████████████████████████████████████████| Time: 0:00:05\u001b[39m\n"
     ]
    },
    {
     "name": "stdout",
     "output_type": "stream",
     "text": [
      "# Finished iter 76 of 100: U after 200 iters, 5 trials. Parity 1. Distortion 0.50.\n"
     ]
    },
    {
     "name": "stderr",
     "output_type": "stream",
     "text": [
      "\u001b[32mTrial 1/5 100%|█████████████████████████████████████████| Time: 0:00:05\u001b[39m\n",
      "\u001b[32mTrial 2/5 100%|█████████████████████████████████████████| Time: 0:00:05\u001b[39m\n",
      "\u001b[32mTrial 3/5 100%|█████████████████████████████████████████| Time: 0:00:05\u001b[39m\n",
      "\u001b[32mTrial 4/5 100%|█████████████████████████████████████████| Time: 0:00:05\u001b[39m\n",
      "\u001b[32mTrial 5/5 100%|█████████████████████████████████████████| Time: 0:00:05\u001b[39m\n"
     ]
    },
    {
     "name": "stdout",
     "output_type": "stream",
     "text": [
      "# Finished iter 77 of 100: U after 200 iters, 5 trials. Parity 3. Distortion 0.50.\n"
     ]
    },
    {
     "name": "stderr",
     "output_type": "stream",
     "text": [
      "\r",
      "\u001b[32mTrial 1/5  18%|███████▏                                 |  ETA: 0:00:05\u001b[39m"
     ]
    },
    {
     "name": "stdout",
     "output_type": "stream",
     "text": [
      "# Finished iter 78 of 100: C after 40 iters, 1 trials. Parity 0. Distortion 0.11.\n"
     ]
    },
    {
     "name": "stderr",
     "output_type": "stream",
     "text": [
      "\u001b[32mTrial 1/5 100%|█████████████████████████████████████████| Time: 0:00:05\u001b[39m\n",
      "\u001b[32mTrial 2/5 100%|█████████████████████████████████████████| Time: 0:00:05\u001b[39m\n",
      "\u001b[32mTrial 3/5 100%|█████████████████████████████████████████| Time: 0:00:05\u001b[39m\n",
      "\u001b[32mTrial 4/5 100%|█████████████████████████████████████████| Time: 0:00:05\u001b[39m\n",
      "\u001b[32mTrial 5/5 100%|█████████████████████████████████████████| Time: 0:00:05\u001b[39m\n"
     ]
    },
    {
     "name": "stdout",
     "output_type": "stream",
     "text": [
      "# Finished iter 79 of 100: U after 200 iters, 5 trials. Parity 1. Distortion 0.50.\n"
     ]
    },
    {
     "name": "stderr",
     "output_type": "stream",
     "text": [
      "\u001b[32mTrial 1/5 100%|█████████████████████████████████████████| Time: 0:00:05\u001b[39m\n",
      "\u001b[32mTrial 2/5 100%|█████████████████████████████████████████| Time: 0:00:05\u001b[39m\n",
      "\u001b[32mTrial 3/5 100%|█████████████████████████████████████████| Time: 0:00:05\u001b[39m\n",
      "\u001b[32mTrial 4/5 100%|█████████████████████████████████████████| Time: 0:00:05\u001b[39m\n",
      "\u001b[32mTrial 5/5 100%|█████████████████████████████████████████| Time: 0:00:05\u001b[39m\n"
     ]
    },
    {
     "name": "stdout",
     "output_type": "stream",
     "text": [
      "# Finished iter 80 of 100: U after 200 iters, 5 trials. Parity 2. Distortion 0.50.\n"
     ]
    },
    {
     "name": "stderr",
     "output_type": "stream",
     "text": [
      "\u001b[32mTrial 1/5 100%|█████████████████████████████████████████| Time: 0:00:05\u001b[39m\n",
      "\u001b[32mTrial 2/5 100%|█████████████████████████████████████████| Time: 0:00:05\u001b[39m\n"
     ]
    },
    {
     "name": "stdout",
     "output_type": "stream",
     "text": [
      "# Finished iter 81 of 100: C after 18 iters, 3 trials. Parity 0. Distortion 0.11.\n",
      "# Finished iter 82 of 100: C after 22 iters, 1 trials. Parity 0. Distortion 0.11.\n"
     ]
    },
    {
     "name": "stderr",
     "output_type": "stream",
     "text": [
      "\u001b[32mTrial 1/5 100%|█████████████████████████████████████████| Time: 0:00:05\u001b[39m\n",
      "\u001b[32mTrial 2/5 100%|█████████████████████████████████████████| Time: 0:00:05\u001b[39m\n",
      "\u001b[32mTrial 3/5 100%|█████████████████████████████████████████| Time: 0:00:05\u001b[39m\n",
      "\u001b[32mTrial 4/5 100%|█████████████████████████████████████████| Time: 0:00:05\u001b[39m\n",
      "\u001b[32mTrial 5/5 100%|█████████████████████████████████████████| Time: 0:00:05\u001b[39m\n"
     ]
    },
    {
     "name": "stdout",
     "output_type": "stream",
     "text": [
      "# Finished iter 83 of 100: U after 200 iters, 5 trials. Parity 4. Distortion 0.50.\n"
     ]
    },
    {
     "name": "stderr",
     "output_type": "stream",
     "text": [
      "\u001b[32mTrial 1/5 100%|█████████████████████████████████████████| Time: 0:00:05\u001b[39m\n",
      "\u001b[32mTrial 2/5 100%|█████████████████████████████████████████| Time: 0:00:05\u001b[39m\n",
      "\u001b[32mTrial 3/5 100%|█████████████████████████████████████████| Time: 0:00:05\u001b[39m\n",
      "\u001b[32mTrial 4/5 100%|█████████████████████████████████████████| Time: 0:00:05\u001b[39m\n",
      "\u001b[32mTrial 5/5 100%|█████████████████████████████████████████| Time: 0:00:05\u001b[39m\n"
     ]
    },
    {
     "name": "stdout",
     "output_type": "stream",
     "text": [
      "# Finished iter 84 of 100: U after 200 iters, 5 trials. Parity 3. Distortion 0.50.\n"
     ]
    },
    {
     "name": "stderr",
     "output_type": "stream",
     "text": [
      "\u001b[32mTrial 1/5 100%|█████████████████████████████████████████| Time: 0:00:05\u001b[39m\n",
      "\u001b[32mTrial 2/5 100%|█████████████████████████████████████████| Time: 0:00:05\u001b[39m\n",
      "\u001b[32mTrial 3/5 100%|█████████████████████████████████████████| Time: 0:00:05\u001b[39m\n",
      "\u001b[32mTrial 4/5 100%|█████████████████████████████████████████| Time: 0:00:05\u001b[39m\n",
      "\u001b[32mTrial 5/5 100%|█████████████████████████████████████████| Time: 0:00:05\u001b[39m\n"
     ]
    },
    {
     "name": "stdout",
     "output_type": "stream",
     "text": [
      "# Finished iter 85 of 100: U after 200 iters, 5 trials. Parity 1. Distortion 0.50.\n"
     ]
    },
    {
     "name": "stderr",
     "output_type": "stream",
     "text": [
      "\u001b[32mTrial 1/5 100%|█████████████████████████████████████████| Time: 0:00:05\u001b[39m\n",
      "\u001b[32mTrial 2/5 100%|█████████████████████████████████████████| Time: 0:00:05\u001b[39m\n",
      "\u001b[32mTrial 3/5 100%|█████████████████████████████████████████| Time: 0:00:05\u001b[39m\n",
      "\u001b[32mTrial 4/5 100%|█████████████████████████████████████████| Time: 0:00:05\u001b[39m\n",
      "\u001b[32mTrial 5/5 100%|█████████████████████████████████████████| Time: 0:00:05\u001b[39m\n"
     ]
    },
    {
     "name": "stdout",
     "output_type": "stream",
     "text": [
      "# Finished iter 86 of 100: U after 200 iters, 5 trials. Parity 2. Distortion 0.50.\n"
     ]
    },
    {
     "name": "stderr",
     "output_type": "stream",
     "text": [
      "\u001b[32mTrial 1/5 100%|█████████████████████████████████████████| Time: 0:00:05\u001b[39m\n",
      "\u001b[32mTrial 2/5 100%|█████████████████████████████████████████| Time: 0:00:05\u001b[39m\n",
      "\u001b[32mTrial 3/5 100%|█████████████████████████████████████████| Time: 0:00:05\u001b[39m\n",
      "\u001b[32mTrial 4/5 100%|█████████████████████████████████████████| Time: 0:00:05\u001b[39m\n",
      "\u001b[32mTrial 5/5 100%|█████████████████████████████████████████| Time: 0:00:05\u001b[39m\n"
     ]
    },
    {
     "name": "stdout",
     "output_type": "stream",
     "text": [
      "# Finished iter 87 of 100: U after 200 iters, 5 trials. Parity 3. Distortion 0.50.\n"
     ]
    },
    {
     "name": "stderr",
     "output_type": "stream",
     "text": [
      "\u001b[32mTrial 1/5 100%|█████████████████████████████████████████| Time: 0:00:05\u001b[39m\n",
      "\u001b[32mTrial 2/5 100%|█████████████████████████████████████████| Time: 0:00:05\u001b[39m\n",
      "\u001b[32mTrial 3/5 100%|█████████████████████████████████████████| Time: 0:00:05\u001b[39m\n",
      "\u001b[32mTrial 4/5 100%|█████████████████████████████████████████| Time: 0:00:05\u001b[39m\n",
      "\u001b[32mTrial 5/5 100%|█████████████████████████████████████████| Time: 0:00:05\u001b[39m\n"
     ]
    },
    {
     "name": "stdout",
     "output_type": "stream",
     "text": [
      "# Finished iter 88 of 100: U after 200 iters, 5 trials. Parity 4. Distortion 0.50.\n"
     ]
    },
    {
     "name": "stderr",
     "output_type": "stream",
     "text": [
      "\u001b[32mTrial 1/5 100%|█████████████████████████████████████████| Time: 0:00:05\u001b[39m\n",
      "\u001b[32mTrial 2/5 100%|█████████████████████████████████████████| Time: 0:00:05\u001b[39m\n",
      "\u001b[32mTrial 3/5 100%|█████████████████████████████████████████| Time: 0:00:05\u001b[39m\n",
      "\u001b[32mTrial 4/5 100%|█████████████████████████████████████████| Time: 0:00:05\u001b[39m\n",
      "\u001b[32mTrial 5/5 100%|█████████████████████████████████████████| Time: 0:00:05\u001b[39m\n"
     ]
    },
    {
     "name": "stdout",
     "output_type": "stream",
     "text": [
      "# Finished iter 89 of 100: U after 200 iters, 5 trials. Parity 2. Distortion 0.50.\n"
     ]
    },
    {
     "name": "stderr",
     "output_type": "stream",
     "text": [
      "\u001b[32mTrial 1/5 100%|█████████████████████████████████████████| Time: 0:00:05\u001b[39m\n",
      "\u001b[32mTrial 2/5 100%|█████████████████████████████████████████| Time: 0:00:05\u001b[39m\n",
      "\u001b[32mTrial 3/5 100%|█████████████████████████████████████████| Time: 0:00:05\u001b[39m\n",
      "\u001b[32mTrial 4/5 100%|█████████████████████████████████████████| Time: 0:00:05\u001b[39m\n",
      "\u001b[32mTrial 5/5 100%|█████████████████████████████████████████| Time: 0:00:05\u001b[39m\n"
     ]
    },
    {
     "name": "stdout",
     "output_type": "stream",
     "text": [
      "# Finished iter 90 of 100: U after 200 iters, 5 trials. Parity 2. Distortion 0.50.\n"
     ]
    },
    {
     "name": "stderr",
     "output_type": "stream",
     "text": [
      "\u001b[32mTrial 1/5 100%|█████████████████████████████████████████| Time: 0:00:05\u001b[39m\n",
      "\u001b[32mTrial 2/5 100%|█████████████████████████████████████████| Time: 0:00:05\u001b[39m\n",
      "\u001b[32mTrial 3/5 100%|█████████████████████████████████████████| Time: 0:00:05\u001b[39m\n",
      "\u001b[32mTrial 4/5 100%|█████████████████████████████████████████| Time: 0:00:05\u001b[39m\n",
      "\u001b[32mTrial 5/5 100%|█████████████████████████████████████████| Time: 0:00:05\u001b[39m\n"
     ]
    },
    {
     "name": "stdout",
     "output_type": "stream",
     "text": [
      "# Finished iter 91 of 100: U after 200 iters, 5 trials. Parity 2. Distortion 0.50.\n"
     ]
    },
    {
     "name": "stderr",
     "output_type": "stream",
     "text": [
      "\u001b[32mTrial 1/5 100%|█████████████████████████████████████████| Time: 0:00:05\u001b[39m\n",
      "\u001b[32mTrial 2/5 100%|█████████████████████████████████████████| Time: 0:00:05\u001b[39m\n",
      "\u001b[32mTrial 3/5 100%|█████████████████████████████████████████| Time: 0:00:05\u001b[39m\n",
      "\u001b[32mTrial 4/5 100%|█████████████████████████████████████████| Time: 0:00:05\u001b[39m\n",
      "\u001b[32mTrial 5/5 100%|█████████████████████████████████████████| Time: 0:00:05\u001b[39m\n"
     ]
    },
    {
     "name": "stdout",
     "output_type": "stream",
     "text": [
      "# Finished iter 92 of 100: U after 200 iters, 5 trials. Parity 2. Distortion 0.50.\n"
     ]
    },
    {
     "name": "stderr",
     "output_type": "stream",
     "text": [
      "\u001b[32mTrial 1/5 100%|█████████████████████████████████████████| Time: 0:00:05\u001b[39m\n",
      "\u001b[32mTrial 2/5 100%|█████████████████████████████████████████| Time: 0:00:05\u001b[39m\n",
      "\u001b[32mTrial 3/5 100%|█████████████████████████████████████████| Time: 0:00:05\u001b[39m\n",
      "\u001b[32mTrial 4/5 100%|█████████████████████████████████████████| Time: 0:00:05\u001b[39m\n",
      "\u001b[32mTrial 5/5 100%|█████████████████████████████████████████| Time: 0:00:05\u001b[39m\n"
     ]
    },
    {
     "name": "stdout",
     "output_type": "stream",
     "text": [
      "# Finished iter 93 of 100: U after 200 iters, 5 trials. Parity 3. Distortion 0.50.\n"
     ]
    },
    {
     "name": "stderr",
     "output_type": "stream",
     "text": [
      "\u001b[32mTrial 1/5 100%|█████████████████████████████████████████| Time: 0:00:05\u001b[39m\n",
      "\u001b[32mTrial 2/5 100%|█████████████████████████████████████████| Time: 0:00:05\u001b[39m\n",
      "\u001b[32mTrial 3/5 100%|█████████████████████████████████████████| Time: 0:00:05\u001b[39m\n",
      "\u001b[32mTrial 4/5 100%|█████████████████████████████████████████| Time: 0:00:05\u001b[39m\n",
      "\u001b[32mTrial 5/5 100%|█████████████████████████████████████████| Time: 0:00:05\u001b[39m\n"
     ]
    },
    {
     "name": "stdout",
     "output_type": "stream",
     "text": [
      "# Finished iter 94 of 100: U after 200 iters, 5 trials. Parity 1. Distortion 0.50.\n"
     ]
    },
    {
     "name": "stderr",
     "output_type": "stream",
     "text": [
      "\u001b[32mTrial 1/5 100%|█████████████████████████████████████████| Time: 0:00:05\u001b[39m\n",
      "\u001b[32mTrial 2/5 100%|█████████████████████████████████████████| Time: 0:00:05\u001b[39m\n",
      "\u001b[32mTrial 3/5 100%|█████████████████████████████████████████| Time: 0:00:05\u001b[39m\n",
      "\u001b[32mTrial 4/5 100%|█████████████████████████████████████████| Time: 0:00:05\u001b[39m\n",
      "\u001b[32mTrial 5/5 100%|█████████████████████████████████████████| Time: 0:00:05\u001b[39m\n"
     ]
    },
    {
     "name": "stdout",
     "output_type": "stream",
     "text": [
      "# Finished iter 95 of 100: U after 200 iters, 5 trials. Parity 4. Distortion 0.50.\n"
     ]
    },
    {
     "name": "stderr",
     "output_type": "stream",
     "text": [
      "\u001b[32mTrial 1/5 100%|█████████████████████████████████████████| Time: 0:00:05\u001b[39m\n",
      "\u001b[32mTrial 2/5 100%|█████████████████████████████████████████| Time: 0:00:05\u001b[39m\n",
      "\u001b[32mTrial 3/5 100%|█████████████████████████████████████████| Time: 0:00:05\u001b[39m\n",
      "\u001b[32mTrial 4/5 100%|█████████████████████████████████████████| Time: 0:00:05\u001b[39m\n",
      "\u001b[32mTrial 5/5 100%|█████████████████████████████████████████| Time: 0:00:05\u001b[39m\n"
     ]
    },
    {
     "name": "stdout",
     "output_type": "stream",
     "text": [
      "# Finished iter 96 of 100: U after 200 iters, 5 trials. Parity 2. Distortion 0.50.\n"
     ]
    },
    {
     "name": "stderr",
     "output_type": "stream",
     "text": [
      "\u001b[32mTrial 1/5 100%|█████████████████████████████████████████| Time: 0:00:05\u001b[39m\n",
      "\u001b[32mTrial 2/5 100%|█████████████████████████████████████████| Time: 0:00:05\u001b[39m\n",
      "\u001b[32mTrial 3/5 100%|█████████████████████████████████████████| Time: 0:00:05\u001b[39m\n",
      "\u001b[32mTrial 4/5 100%|█████████████████████████████████████████| Time: 0:00:05\u001b[39m\n",
      "\u001b[32mTrial 5/5 100%|█████████████████████████████████████████| Time: 0:00:05\u001b[39m\n"
     ]
    },
    {
     "name": "stdout",
     "output_type": "stream",
     "text": [
      "# Finished iter 97 of 100: U after 200 iters, 5 trials. Parity 1. Distortion 0.50.\n"
     ]
    },
    {
     "name": "stderr",
     "output_type": "stream",
     "text": [
      "\u001b[32mTrial 1/5 100%|█████████████████████████████████████████| Time: 0:00:05\u001b[39m\n"
     ]
    },
    {
     "name": "stdout",
     "output_type": "stream",
     "text": [
      "# Finished iter 98 of 100: C after 15 iters, 2 trials. Parity 0. Distortion 0.10.\n"
     ]
    },
    {
     "name": "stderr",
     "output_type": "stream",
     "text": [
      "\u001b[32mTrial 1/5 100%|█████████████████████████████████████████| Time: 0:00:05\u001b[39m\n",
      "\u001b[32mTrial 2/5 100%|█████████████████████████████████████████| Time: 0:00:05\u001b[39m\n",
      "\u001b[32mTrial 3/5 100%|█████████████████████████████████████████| Time: 0:00:05\u001b[39m\n",
      "\u001b[32mTrial 4/5 100%|█████████████████████████████████████████| Time: 0:00:05\u001b[39m\n",
      "\u001b[32mTrial 5/5 100%|█████████████████████████████████████████| Time: 0:00:05\u001b[39m\n"
     ]
    },
    {
     "name": "stdout",
     "output_type": "stream",
     "text": [
      "# Finished iter 99 of 100: U after 200 iters, 5 trials. Parity 1. Distortion 0.50.\n"
     ]
    },
    {
     "name": "stderr",
     "output_type": "stream",
     "text": [
      "\u001b[32mTrial 1/5 100%|█████████████████████████████████████████| Time: 0:00:05\u001b[39m\n",
      "\u001b[32mTrial 2/5 100%|█████████████████████████████████████████| Time: 0:00:05\u001b[39m\n",
      "\u001b[32mTrial 3/5 100%|█████████████████████████████████████████| Time: 0:00:05\u001b[39m\n",
      "\u001b[32mTrial 4/5 100%|█████████████████████████████████████████| Time: 0:00:05\u001b[39m\n",
      "\u001b[32mTrial 5/5 100%|█████████████████████████████████████████| Time: 0:00:05\u001b[39m\n"
     ]
    },
    {
     "name": "stdout",
     "output_type": "stream",
     "text": [
      "# Finished iter 100 of 100: U after 200 iters, 5 trials. Parity 4. Distortion 0.50.\n",
      "##### b=5. 3 of 9 #####\n",
      "# Finished iter 1 of 100: C after 18 iters, 1 trials. Parity 0. Distortion 0.10.\n"
     ]
    },
    {
     "name": "stderr",
     "output_type": "stream",
     "text": [
      "\u001b[32mTrial 1/5 100%|█████████████████████████████████████████| Time: 0:00:05\u001b[39m\n",
      "\u001b[32mTrial 2/5 100%|█████████████████████████████████████████| Time: 0:00:05\u001b[39m\n",
      "\u001b[32mTrial 3/5 100%|█████████████████████████████████████████| Time: 0:00:05\u001b[39m\n",
      "\u001b[32mTrial 4/5 100%|█████████████████████████████████████████| Time: 0:00:05\u001b[39m\n",
      "\u001b[32mTrial 5/5 100%|█████████████████████████████████████████| Time: 0:00:05\u001b[39m\n"
     ]
    },
    {
     "name": "stdout",
     "output_type": "stream",
     "text": [
      "# Finished iter 2 of 100: U after 200 iters, 5 trials. Parity 2. Distortion 0.50.\n"
     ]
    },
    {
     "name": "stderr",
     "output_type": "stream",
     "text": [
      "\u001b[32mTrial 1/5 100%|█████████████████████████████████████████| Time: 0:00:05\u001b[39m\n",
      "\u001b[32mTrial 2/5 100%|█████████████████████████████████████████| Time: 0:00:05\u001b[39m\n",
      "\u001b[32mTrial 3/5 100%|█████████████████████████████████████████| Time: 0:00:06\u001b[39m\n",
      "\u001b[32mTrial 4/5 100%|█████████████████████████████████████████| Time: 0:00:05\u001b[39m\n",
      "\u001b[32mTrial 5/5 100%|█████████████████████████████████████████| Time: 0:00:05\u001b[39m\n"
     ]
    },
    {
     "name": "stdout",
     "output_type": "stream",
     "text": [
      "# Finished iter 3 of 100: U after 200 iters, 5 trials. Parity 1. Distortion 0.50.\n"
     ]
    },
    {
     "name": "stderr",
     "output_type": "stream",
     "text": [
      "\u001b[32mTrial 1/5 100%|█████████████████████████████████████████| Time: 0:00:05\u001b[39m\n",
      "\u001b[32mTrial 2/5 100%|█████████████████████████████████████████| Time: 0:00:05\u001b[39m\n",
      "\u001b[32mTrial 3/5 100%|█████████████████████████████████████████| Time: 0:00:05\u001b[39m\n",
      "\u001b[32mTrial 4/5 100%|█████████████████████████████████████████| Time: 0:00:05\u001b[39m\n",
      "\u001b[32mTrial 5/5 100%|█████████████████████████████████████████| Time: 0:00:05\u001b[39m\n"
     ]
    },
    {
     "name": "stdout",
     "output_type": "stream",
     "text": [
      "# Finished iter 4 of 100: U after 200 iters, 5 trials. Parity 1. Distortion 0.50.\n"
     ]
    },
    {
     "name": "stderr",
     "output_type": "stream",
     "text": [
      "\r",
      "\u001b[32mTrial 1/5  18%|███████▏                                 |  ETA: 0:00:05\u001b[39m"
     ]
    },
    {
     "name": "stdout",
     "output_type": "stream",
     "text": [
      "# Finished iter 5 of 100: C after 48 iters, 1 trials. Parity 0. Distortion 0.11.\n"
     ]
    },
    {
     "name": "stderr",
     "output_type": "stream",
     "text": [
      "\u001b[32mTrial 1/5 100%|█████████████████████████████████████████| Time: 0:00:05\u001b[39m\n",
      "\u001b[32mTrial 2/5  18%|███████▏                                 |  ETA: 0:00:05\u001b[39m"
     ]
    },
    {
     "name": "stdout",
     "output_type": "stream",
     "text": [
      "# Finished iter 6 of 100: C after 41 iters, 2 trials. Parity 0. Distortion 0.11.\n"
     ]
    },
    {
     "name": "stderr",
     "output_type": "stream",
     "text": [
      "\u001b[32mTrial 1/5 100%|█████████████████████████████████████████| Time: 0:00:05\u001b[39m\n",
      "\u001b[32mTrial 2/5  32%|████████████▉                            |  ETA: 0:00:04\u001b[39m"
     ]
    },
    {
     "name": "stdout",
     "output_type": "stream",
     "text": [
      "# Finished iter 7 of 100: C after 76 iters, 2 trials. Parity 0. Distortion 0.11.\n"
     ]
    },
    {
     "name": "stderr",
     "output_type": "stream",
     "text": [
      "\u001b[32mTrial 1/5 100%|█████████████████████████████████████████| Time: 0:00:05\u001b[39m\n",
      "\u001b[32mTrial 2/5 100%|█████████████████████████████████████████| Time: 0:00:06\u001b[39m\n",
      "\u001b[32mTrial 3/5 100%|█████████████████████████████████████████| Time: 0:00:05\u001b[39m\n",
      "\u001b[32mTrial 4/5 100%|█████████████████████████████████████████| Time: 0:00:05\u001b[39m\n",
      "\u001b[32mTrial 5/5 100%|█████████████████████████████████████████| Time: 0:00:05\u001b[39m\n"
     ]
    },
    {
     "name": "stdout",
     "output_type": "stream",
     "text": [
      "# Finished iter 8 of 100: U after 200 iters, 5 trials. Parity 1. Distortion 0.50.\n"
     ]
    },
    {
     "name": "stderr",
     "output_type": "stream",
     "text": [
      "\u001b[32mTrial 1/5 100%|█████████████████████████████████████████| Time: 0:00:06\u001b[39m\n"
     ]
    },
    {
     "name": "stdout",
     "output_type": "stream",
     "text": [
      "# Finished iter 9 of 100: C after 12 iters, 2 trials. Parity 0. Distortion 0.10.\n"
     ]
    },
    {
     "name": "stderr",
     "output_type": "stream",
     "text": [
      "\u001b[32mTrial 1/5 100%|█████████████████████████████████████████| Time: 0:00:05\u001b[39m\n",
      "\u001b[32mTrial 2/5 100%|█████████████████████████████████████████| Time: 0:00:05\u001b[39m\n",
      "\u001b[32mTrial 3/5 100%|█████████████████████████████████████████| Time: 0:00:05\u001b[39m\n",
      "\u001b[32mTrial 4/5 100%|█████████████████████████████████████████| Time: 0:00:05\u001b[39m\n",
      "\u001b[32mTrial 5/5 100%|█████████████████████████████████████████| Time: 0:00:05\u001b[39m\n"
     ]
    },
    {
     "name": "stdout",
     "output_type": "stream",
     "text": [
      "# Finished iter 10 of 100: U after 200 iters, 5 trials. Parity 1. Distortion 0.50.\n",
      "# Finished iter 11 of 100: C after 27 iters, 1 trials. Parity 0. Distortion 0.10.\n",
      "# Finished iter 12 of 100: C after 32 iters, 1 trials. Parity 0. Distortion 0.11.\n"
     ]
    },
    {
     "name": "stderr",
     "output_type": "stream",
     "text": [
      "\u001b[32mTrial 1/5 100%|█████████████████████████████████████████| Time: 0:00:05\u001b[39m\n",
      "\u001b[32mTrial 2/5 100%|█████████████████████████████████████████| Time: 0:00:05\u001b[39m\n",
      "\u001b[32mTrial 3/5 100%|█████████████████████████████████████████| Time: 0:00:05\u001b[39m\n",
      "\u001b[32mTrial 4/5 100%|█████████████████████████████████████████| Time: 0:00:05\u001b[39m\n",
      "\u001b[32mTrial 5/5 100%|█████████████████████████████████████████| Time: 0:00:05\u001b[39m\n"
     ]
    },
    {
     "name": "stdout",
     "output_type": "stream",
     "text": [
      "# Finished iter 13 of 100: U after 200 iters, 5 trials. Parity 2. Distortion 0.50.\n"
     ]
    },
    {
     "name": "stderr",
     "output_type": "stream",
     "text": [
      "\u001b[32mTrial 1/5 100%|█████████████████████████████████████████| Time: 0:00:05\u001b[39m\n",
      "\u001b[32mTrial 2/5 100%|█████████████████████████████████████████| Time: 0:00:05\u001b[39m\n",
      "\u001b[32mTrial 3/5 100%|█████████████████████████████████████████| Time: 0:00:05\u001b[39m\n",
      "\u001b[32mTrial 4/5 100%|█████████████████████████████████████████| Time: 0:00:05\u001b[39m\n",
      "\u001b[32mTrial 5/5 100%|█████████████████████████████████████████| Time: 0:00:05\u001b[39m\n"
     ]
    },
    {
     "name": "stdout",
     "output_type": "stream",
     "text": [
      "# Finished iter 14 of 100: U after 200 iters, 5 trials. Parity 4. Distortion 0.50.\n"
     ]
    },
    {
     "name": "stderr",
     "output_type": "stream",
     "text": [
      "\u001b[32mTrial 1/5 100%|█████████████████████████████████████████| Time: 0:00:05\u001b[39m\n",
      "\u001b[32mTrial 2/5 100%|█████████████████████████████████████████| Time: 0:00:05\u001b[39m\n",
      "\u001b[32mTrial 3/5 100%|█████████████████████████████████████████| Time: 0:00:05\u001b[39m\n",
      "\u001b[32mTrial 4/5 100%|█████████████████████████████████████████| Time: 0:00:05\u001b[39m\n",
      "\u001b[32mTrial 5/5 100%|█████████████████████████████████████████| Time: 0:00:05\u001b[39m\n"
     ]
    },
    {
     "name": "stdout",
     "output_type": "stream",
     "text": [
      "# Finished iter 15 of 100: U after 200 iters, 5 trials. Parity 1. Distortion 0.50.\n"
     ]
    },
    {
     "name": "stderr",
     "output_type": "stream",
     "text": [
      "\u001b[32mTrial 1/5 100%|█████████████████████████████████████████| Time: 0:00:05\u001b[39m\n",
      "\u001b[32mTrial 2/5 100%|█████████████████████████████████████████| Time: 0:00:05\u001b[39m\n"
     ]
    },
    {
     "name": "stdout",
     "output_type": "stream",
     "text": [
      "# Finished iter 16 of 100: C after 21 iters, 3 trials. Parity 0. Distortion 0.10.\n"
     ]
    },
    {
     "name": "stderr",
     "output_type": "stream",
     "text": [
      "\u001b[32mTrial 1/5 100%|█████████████████████████████████████████| Time: 0:00:05\u001b[39m\n",
      "\u001b[32mTrial 2/5 100%|█████████████████████████████████████████| Time: 0:00:05\u001b[39m\n",
      "\u001b[32mTrial 3/5 100%|█████████████████████████████████████████| Time: 0:00:05\u001b[39m\n",
      "\u001b[32mTrial 4/5 100%|█████████████████████████████████████████| Time: 0:00:05\u001b[39m\n"
     ]
    },
    {
     "name": "stdout",
     "output_type": "stream",
     "text": [
      "# Finished iter 17 of 100: C after 17 iters, 5 trials. Parity 0. Distortion 0.11.\n"
     ]
    },
    {
     "name": "stderr",
     "output_type": "stream",
     "text": [
      "\u001b[32mTrial 1/5 100%|█████████████████████████████████████████| Time: 0:00:05\u001b[39m\n",
      "\u001b[32mTrial 2/5 100%|█████████████████████████████████████████| Time: 0:00:05\u001b[39m\n",
      "\u001b[32mTrial 3/5 100%|█████████████████████████████████████████| Time: 0:00:05\u001b[39m\n",
      "\u001b[32mTrial 4/5 100%|█████████████████████████████████████████| Time: 0:00:05\u001b[39m\n",
      "\u001b[32mTrial 5/5 100%|█████████████████████████████████████████| Time: 0:00:05\u001b[39m\n"
     ]
    },
    {
     "name": "stdout",
     "output_type": "stream",
     "text": [
      "# Finished iter 18 of 100: U after 200 iters, 5 trials. Parity 1. Distortion 0.50.\n",
      "# Finished iter 19 of 100: C after 16 iters, 1 trials. Parity 0. Distortion 0.10.\n"
     ]
    },
    {
     "name": "stderr",
     "output_type": "stream",
     "text": [
      "\u001b[32mTrial 1/5 100%|█████████████████████████████████████████| Time: 0:00:05\u001b[39m\n",
      "\u001b[32mTrial 2/5 100%|█████████████████████████████████████████| Time: 0:00:05\u001b[39m\n",
      "\u001b[32mTrial 3/5 100%|█████████████████████████████████████████| Time: 0:00:05\u001b[39m\n",
      "\u001b[32mTrial 4/5 100%|█████████████████████████████████████████| Time: 0:00:05\u001b[39m\n",
      "\u001b[32mTrial 5/5 100%|█████████████████████████████████████████| Time: 0:00:05\u001b[39m\n"
     ]
    },
    {
     "name": "stdout",
     "output_type": "stream",
     "text": [
      "# Finished iter 20 of 100: U after 200 iters, 5 trials. Parity 1. Distortion 0.50.\n"
     ]
    },
    {
     "name": "stderr",
     "output_type": "stream",
     "text": [
      "\u001b[32mTrial 1/5 100%|█████████████████████████████████████████| Time: 0:00:05\u001b[39m\n"
     ]
    },
    {
     "name": "stdout",
     "output_type": "stream",
     "text": [
      "# Finished iter 21 of 100: C after 18 iters, 2 trials. Parity 0. Distortion 0.10.\n"
     ]
    },
    {
     "name": "stderr",
     "output_type": "stream",
     "text": [
      "\u001b[32mTrial 1/5 100%|█████████████████████████████████████████| Time: 0:00:05\u001b[39m\n",
      "\u001b[32mTrial 2/5 100%|█████████████████████████████████████████| Time: 0:00:05\u001b[39m\n",
      "\u001b[32mTrial 3/5 100%|█████████████████████████████████████████| Time: 0:00:05\u001b[39m\n",
      "\u001b[32mTrial 4/5 100%|█████████████████████████████████████████| Time: 0:00:05\u001b[39m\n",
      "\u001b[32mTrial 5/5 100%|█████████████████████████████████████████| Time: 0:00:05\u001b[39m\n"
     ]
    },
    {
     "name": "stdout",
     "output_type": "stream",
     "text": [
      "# Finished iter 22 of 100: U after 200 iters, 5 trials. Parity 3. Distortion 0.50.\n"
     ]
    },
    {
     "name": "stderr",
     "output_type": "stream",
     "text": [
      "\u001b[32mTrial 1/5 100%|█████████████████████████████████████████| Time: 0:00:05\u001b[39m\n"
     ]
    },
    {
     "name": "stdout",
     "output_type": "stream",
     "text": [
      "# Finished iter 23 of 100: C after 31 iters, 2 trials. Parity 0. Distortion 0.11.\n",
      "# Finished iter 24 of 100: C after 21 iters, 1 trials. Parity 0. Distortion 0.11.\n"
     ]
    },
    {
     "name": "stderr",
     "output_type": "stream",
     "text": [
      "\u001b[32mTrial 1/5 100%|█████████████████████████████████████████| Time: 0:00:05\u001b[39m\n",
      "\u001b[32mTrial 2/5 100%|█████████████████████████████████████████| Time: 0:00:05\u001b[39m\n",
      "\u001b[32mTrial 3/5 100%|█████████████████████████████████████████| Time: 0:00:05\u001b[39m\n",
      "\u001b[32mTrial 4/5 100%|█████████████████████████████████████████| Time: 0:00:05\u001b[39m\n",
      "\u001b[32mTrial 5/5 100%|█████████████████████████████████████████| Time: 0:00:05\u001b[39m\n"
     ]
    },
    {
     "name": "stdout",
     "output_type": "stream",
     "text": [
      "# Finished iter 25 of 100: U after 200 iters, 5 trials. Parity 3. Distortion 0.50.\n"
     ]
    },
    {
     "name": "stderr",
     "output_type": "stream",
     "text": [
      "\u001b[32mTrial 1/5 100%|█████████████████████████████████████████| Time: 0:00:05\u001b[39m\n"
     ]
    },
    {
     "name": "stdout",
     "output_type": "stream",
     "text": [
      "# Finished iter 26 of 100: C after 32 iters, 2 trials. Parity 0. Distortion 0.10.\n",
      "# Finished iter 27 of 100: C after 15 iters, 1 trials. Parity 0. Distortion 0.11.\n"
     ]
    },
    {
     "name": "stderr",
     "output_type": "stream",
     "text": [
      "\u001b[32mTrial 1/5 100%|█████████████████████████████████████████| Time: 0:00:05\u001b[39m\n",
      "\u001b[32mTrial 2/5 100%|█████████████████████████████████████████| Time: 0:00:05\u001b[39m\n",
      "\u001b[32mTrial 3/5 100%|█████████████████████████████████████████| Time: 0:00:05\u001b[39m\n"
     ]
    },
    {
     "name": "stdout",
     "output_type": "stream",
     "text": [
      "# Finished iter 28 of 100: C after 15 iters, 4 trials. Parity 0. Distortion 0.11.\n"
     ]
    },
    {
     "name": "stderr",
     "output_type": "stream",
     "text": [
      "\u001b[32mTrial 1/5 100%|█████████████████████████████████████████| Time: 0:00:05\u001b[39m\n",
      "\u001b[32mTrial 2/5  18%|███████▍                                 |  ETA: 0:00:05\u001b[39m"
     ]
    },
    {
     "name": "stdout",
     "output_type": "stream",
     "text": [
      "# Finished iter 29 of 100: C after 39 iters, 2 trials. Parity 0. Distortion 0.11.\n"
     ]
    },
    {
     "name": "stderr",
     "output_type": "stream",
     "text": [
      "\u001b[32mTrial 1/5 100%|█████████████████████████████████████████| Time: 0:00:05\u001b[39m\n",
      "\u001b[32mTrial 2/5 100%|█████████████████████████████████████████| Time: 0:00:05\u001b[39m\n",
      "\u001b[32mTrial 3/5 100%|█████████████████████████████████████████| Time: 0:00:05\u001b[39m\n",
      "\u001b[32mTrial 4/5 100%|█████████████████████████████████████████| Time: 0:00:05\u001b[39m\n",
      "\u001b[32mTrial 5/5 100%|█████████████████████████████████████████| Time: 0:00:05\u001b[39m\n"
     ]
    },
    {
     "name": "stdout",
     "output_type": "stream",
     "text": [
      "# Finished iter 30 of 100: U after 200 iters, 5 trials. Parity 1. Distortion 0.50.\n",
      "# Finished iter 31 of 100: C after 27 iters, 1 trials. Parity 0. Distortion 0.10.\n"
     ]
    },
    {
     "name": "stderr",
     "output_type": "stream",
     "text": [
      "\u001b[32mTrial 1/5 100%|█████████████████████████████████████████| Time: 0:00:06\u001b[39m\n",
      "\u001b[32mTrial 2/5 100%|█████████████████████████████████████████| Time: 0:00:05\u001b[39m\n",
      "\u001b[32mTrial 3/5 100%|█████████████████████████████████████████| Time: 0:00:05\u001b[39m\n",
      "\u001b[32mTrial 4/5 100%|█████████████████████████████████████████| Time: 0:00:05\u001b[39m\n",
      "\u001b[32mTrial 5/5 100%|█████████████████████████████████████████| Time: 0:00:05\u001b[39m\n"
     ]
    },
    {
     "name": "stdout",
     "output_type": "stream",
     "text": [
      "# Finished iter 32 of 100: U after 200 iters, 5 trials. Parity 2. Distortion 0.50.\n"
     ]
    },
    {
     "name": "stderr",
     "output_type": "stream",
     "text": [
      "\u001b[32mTrial 1/5 100%|█████████████████████████████████████████| Time: 0:00:05\u001b[39m\n",
      "\u001b[32mTrial 2/5 100%|█████████████████████████████████████████| Time: 0:00:05\u001b[39m\n",
      "\u001b[32mTrial 3/5 100%|█████████████████████████████████████████| Time: 0:00:05\u001b[39m\n",
      "\u001b[32mTrial 4/5 100%|█████████████████████████████████████████| Time: 0:00:05\u001b[39m\n",
      "\u001b[32mTrial 5/5 100%|█████████████████████████████████████████| Time: 0:00:05\u001b[39m\n"
     ]
    },
    {
     "name": "stdout",
     "output_type": "stream",
     "text": [
      "# Finished iter 33 of 100: U after 200 iters, 5 trials. Parity 2. Distortion 0.50.\n"
     ]
    },
    {
     "name": "stderr",
     "output_type": "stream",
     "text": [
      "\u001b[32mTrial 1/5 100%|█████████████████████████████████████████| Time: 0:00:05\u001b[39m\n",
      "\u001b[32mTrial 2/5 100%|█████████████████████████████████████████| Time: 0:00:05\u001b[39m\n",
      "\u001b[32mTrial 3/5 100%|█████████████████████████████████████████| Time: 0:00:05\u001b[39m\n",
      "\u001b[32mTrial 4/5 100%|█████████████████████████████████████████| Time: 0:00:05\u001b[39m\n",
      "\u001b[32mTrial 5/5 100%|█████████████████████████████████████████| Time: 0:00:05\u001b[39m\n"
     ]
    },
    {
     "name": "stdout",
     "output_type": "stream",
     "text": [
      "# Finished iter 34 of 100: U after 200 iters, 5 trials. Parity 1. Distortion 0.50.\n"
     ]
    },
    {
     "name": "stderr",
     "output_type": "stream",
     "text": [
      "\u001b[32mTrial 1/5 100%|█████████████████████████████████████████| Time: 0:00:05\u001b[39m\n",
      "\u001b[32mTrial 2/5 100%|█████████████████████████████████████████| Time: 0:00:05\u001b[39m\n",
      "\u001b[32mTrial 3/5 100%|█████████████████████████████████████████| Time: 0:00:05\u001b[39m\n",
      "\u001b[32mTrial 4/5 100%|█████████████████████████████████████████| Time: 0:00:05\u001b[39m\n",
      "\u001b[32mTrial 5/5 100%|█████████████████████████████████████████| Time: 0:00:05\u001b[39m\n"
     ]
    },
    {
     "name": "stdout",
     "output_type": "stream",
     "text": [
      "# Finished iter 35 of 100: U after 200 iters, 5 trials. Parity 1. Distortion 0.50.\n"
     ]
    },
    {
     "name": "stderr",
     "output_type": "stream",
     "text": [
      "\u001b[32mTrial 1/5 100%|█████████████████████████████████████████| Time: 0:00:05\u001b[39m\n",
      "\u001b[32mTrial 2/5 100%|█████████████████████████████████████████| Time: 0:00:05\u001b[39m\n",
      "\u001b[32mTrial 3/5 100%|█████████████████████████████████████████| Time: 0:00:05\u001b[39m\n",
      "\u001b[32mTrial 4/5 100%|█████████████████████████████████████████| Time: 0:00:05\u001b[39m\n",
      "\u001b[32mTrial 5/5 100%|█████████████████████████████████████████| Time: 0:00:05\u001b[39m\n"
     ]
    },
    {
     "name": "stdout",
     "output_type": "stream",
     "text": [
      "# Finished iter 36 of 100: U after 200 iters, 5 trials. Parity 1. Distortion 0.50.\n"
     ]
    },
    {
     "name": "stderr",
     "output_type": "stream",
     "text": [
      "\u001b[32mTrial 1/5 100%|█████████████████████████████████████████| Time: 0:00:05\u001b[39m\n",
      "\u001b[32mTrial 2/5 100%|█████████████████████████████████████████| Time: 0:00:05\u001b[39m\n",
      "\u001b[32mTrial 3/5 100%|█████████████████████████████████████████| Time: 0:00:05\u001b[39m\n",
      "\u001b[32mTrial 4/5 100%|█████████████████████████████████████████| Time: 0:00:05\u001b[39m\n",
      "\u001b[32mTrial 5/5 100%|█████████████████████████████████████████| Time: 0:00:05\u001b[39m\n"
     ]
    },
    {
     "name": "stdout",
     "output_type": "stream",
     "text": [
      "# Finished iter 37 of 100: U after 200 iters, 5 trials. Parity 1. Distortion 0.50.\n",
      "# Finished iter 38 of 100: C after 19 iters, 1 trials. Parity 0. Distortion 0.11.\n"
     ]
    },
    {
     "name": "stderr",
     "output_type": "stream",
     "text": [
      "\u001b[32mTrial 1/5 100%|█████████████████████████████████████████| Time: 0:00:05\u001b[39m\n",
      "\u001b[32mTrial 2/5 100%|█████████████████████████████████████████| Time: 0:00:05\u001b[39m\n",
      "\u001b[32mTrial 3/5 100%|█████████████████████████████████████████| Time: 0:00:05\u001b[39m\n",
      "\u001b[32mTrial 4/5 100%|█████████████████████████████████████████| Time: 0:00:05\u001b[39m\n",
      "\u001b[32mTrial 5/5 100%|█████████████████████████████████████████| Time: 0:00:05\u001b[39m\n"
     ]
    },
    {
     "name": "stdout",
     "output_type": "stream",
     "text": [
      "# Finished iter 39 of 100: U after 200 iters, 5 trials. Parity 2. Distortion 0.50.\n"
     ]
    },
    {
     "name": "stderr",
     "output_type": "stream",
     "text": [
      "\u001b[32mTrial 1/5 100%|█████████████████████████████████████████| Time: 0:00:05\u001b[39m\n",
      "\u001b[32mTrial 2/5 100%|█████████████████████████████████████████| Time: 0:00:05\u001b[39m\n",
      "\u001b[32mTrial 3/5 100%|█████████████████████████████████████████| Time: 0:00:05\u001b[39m\n",
      "\u001b[32mTrial 4/5 100%|█████████████████████████████████████████| Time: 0:00:05\u001b[39m\n",
      "\u001b[32mTrial 5/5 100%|█████████████████████████████████████████| Time: 0:00:05\u001b[39m\n"
     ]
    },
    {
     "name": "stdout",
     "output_type": "stream",
     "text": [
      "# Finished iter 40 of 100: U after 200 iters, 5 trials. Parity 2. Distortion 0.50.\n"
     ]
    },
    {
     "name": "stderr",
     "output_type": "stream",
     "text": [
      "\u001b[32mTrial 1/5 100%|█████████████████████████████████████████| Time: 0:00:05\u001b[39m\n",
      "\u001b[32mTrial 2/5 100%|█████████████████████████████████████████| Time: 0:00:05\u001b[39m\n",
      "\u001b[32mTrial 3/5 100%|█████████████████████████████████████████| Time: 0:00:05\u001b[39m\n",
      "\u001b[32mTrial 4/5 100%|█████████████████████████████████████████| Time: 0:00:05\u001b[39m\n",
      "\u001b[32mTrial 5/5 100%|█████████████████████████████████████████| Time: 0:00:05\u001b[39m\n"
     ]
    },
    {
     "name": "stdout",
     "output_type": "stream",
     "text": [
      "# Finished iter 41 of 100: U after 200 iters, 5 trials. Parity 4. Distortion 0.50.\n",
      "# Finished iter 42 of 100: C after 15 iters, 1 trials. Parity 0. Distortion 0.10.\n"
     ]
    },
    {
     "name": "stderr",
     "output_type": "stream",
     "text": [
      "\u001b[32mTrial 1/5 100%|█████████████████████████████████████████| Time: 0:00:05\u001b[39m\n",
      "\u001b[32mTrial 2/5 100%|█████████████████████████████████████████| Time: 0:00:05\u001b[39m\n",
      "\u001b[32mTrial 3/5 100%|█████████████████████████████████████████| Time: 0:00:05\u001b[39m\n",
      "\u001b[32mTrial 4/5 100%|█████████████████████████████████████████| Time: 0:00:05\u001b[39m\n",
      "\u001b[32mTrial 5/5 100%|█████████████████████████████████████████| Time: 0:00:05\u001b[39m\n"
     ]
    },
    {
     "name": "stdout",
     "output_type": "stream",
     "text": [
      "# Finished iter 43 of 100: U after 200 iters, 5 trials. Parity 1. Distortion 0.50.\n"
     ]
    },
    {
     "name": "stderr",
     "output_type": "stream",
     "text": [
      "\u001b[32mTrial 1/5 100%|█████████████████████████████████████████| Time: 0:00:05\u001b[39m\n",
      "\u001b[32mTrial 2/5 100%|█████████████████████████████████████████| Time: 0:00:05\u001b[39m\n",
      "\u001b[32mTrial 3/5 100%|█████████████████████████████████████████| Time: 0:00:05\u001b[39m\n",
      "\u001b[32mTrial 4/5 100%|█████████████████████████████████████████| Time: 0:00:05\u001b[39m\n",
      "\u001b[32mTrial 5/5 100%|█████████████████████████████████████████| Time: 0:00:05\u001b[39m\n"
     ]
    },
    {
     "name": "stdout",
     "output_type": "stream",
     "text": [
      "# Finished iter 44 of 100: U after 200 iters, 5 trials. Parity 1. Distortion 0.50.\n"
     ]
    },
    {
     "name": "stderr",
     "output_type": "stream",
     "text": [
      "\u001b[32mTrial 1/5 100%|█████████████████████████████████████████| Time: 0:00:05\u001b[39m\n",
      "\u001b[32mTrial 2/5 100%|█████████████████████████████████████████| Time: 0:00:05\u001b[39m\n",
      "\u001b[32mTrial 3/5 100%|█████████████████████████████████████████| Time: 0:00:05\u001b[39m\n",
      "\u001b[32mTrial 4/5 100%|█████████████████████████████████████████| Time: 0:00:05\u001b[39m\n",
      "\u001b[32mTrial 5/5 100%|█████████████████████████████████████████| Time: 0:00:05\u001b[39m\n"
     ]
    },
    {
     "name": "stdout",
     "output_type": "stream",
     "text": [
      "# Finished iter 45 of 100: U after 200 iters, 5 trials. Parity 1. Distortion 0.50.\n"
     ]
    },
    {
     "name": "stderr",
     "output_type": "stream",
     "text": [
      "\u001b[32mTrial 1/5 100%|█████████████████████████████████████████| Time: 0:00:05\u001b[39m\n",
      "\u001b[32mTrial 2/5 100%|█████████████████████████████████████████| Time: 0:00:05\u001b[39m\n",
      "\u001b[32mTrial 3/5 100%|█████████████████████████████████████████| Time: 0:00:05\u001b[39m\n",
      "\u001b[32mTrial 4/5 100%|█████████████████████████████████████████| Time: 0:00:05\u001b[39m\n",
      "\u001b[32mTrial 5/5 100%|█████████████████████████████████████████| Time: 0:00:05\u001b[39m\n"
     ]
    },
    {
     "name": "stdout",
     "output_type": "stream",
     "text": [
      "# Finished iter 46 of 100: U after 200 iters, 5 trials. Parity 2. Distortion 0.50.\n"
     ]
    },
    {
     "name": "stderr",
     "output_type": "stream",
     "text": [
      "\u001b[32mTrial 1/5 100%|█████████████████████████████████████████| Time: 0:00:05\u001b[39m\n",
      "\u001b[32mTrial 2/5 100%|█████████████████████████████████████████| Time: 0:00:05\u001b[39m\n",
      "\u001b[32mTrial 3/5 100%|█████████████████████████████████████████| Time: 0:00:05\u001b[39m\n",
      "\u001b[32mTrial 4/5 100%|█████████████████████████████████████████| Time: 0:00:05\u001b[39m\n",
      "\u001b[32mTrial 5/5 100%|█████████████████████████████████████████| Time: 0:00:05\u001b[39m\n"
     ]
    },
    {
     "name": "stdout",
     "output_type": "stream",
     "text": [
      "# Finished iter 47 of 100: U after 200 iters, 5 trials. Parity 1. Distortion 0.50.\n"
     ]
    },
    {
     "name": "stderr",
     "output_type": "stream",
     "text": [
      "\u001b[32mTrial 1/5 100%|█████████████████████████████████████████| Time: 0:00:05\u001b[39m\n",
      "\u001b[32mTrial 2/5 100%|█████████████████████████████████████████| Time: 0:00:05\u001b[39m\n",
      "\u001b[32mTrial 3/5 100%|█████████████████████████████████████████| Time: 0:00:05\u001b[39m\n",
      "\u001b[32mTrial 4/5 100%|█████████████████████████████████████████| Time: 0:00:05\u001b[39m\n",
      "\u001b[32mTrial 5/5 100%|█████████████████████████████████████████| Time: 0:00:05\u001b[39m\n"
     ]
    },
    {
     "name": "stdout",
     "output_type": "stream",
     "text": [
      "# Finished iter 48 of 100: U after 200 iters, 5 trials. Parity 1. Distortion 0.50.\n"
     ]
    },
    {
     "name": "stderr",
     "output_type": "stream",
     "text": [
      "\u001b[32mTrial 1/5 100%|█████████████████████████████████████████| Time: 0:00:05\u001b[39m\n",
      "\u001b[32mTrial 2/5 100%|█████████████████████████████████████████| Time: 0:00:05\u001b[39m\n",
      "\u001b[32mTrial 3/5 100%|█████████████████████████████████████████| Time: 0:00:05\u001b[39m\n",
      "\u001b[32mTrial 4/5 100%|█████████████████████████████████████████| Time: 0:00:05\u001b[39m\n",
      "\u001b[32mTrial 5/5 100%|█████████████████████████████████████████| Time: 0:00:05\u001b[39m\n"
     ]
    },
    {
     "name": "stdout",
     "output_type": "stream",
     "text": [
      "# Finished iter 49 of 100: U after 200 iters, 5 trials. Parity 2. Distortion 0.50.\n"
     ]
    },
    {
     "name": "stderr",
     "output_type": "stream",
     "text": [
      "\u001b[32mTrial 1/5 100%|█████████████████████████████████████████| Time: 0:00:05\u001b[39m\n",
      "\u001b[32mTrial 2/5  18%|███████▍                                 |  ETA: 0:00:05\u001b[39m"
     ]
    },
    {
     "name": "stdout",
     "output_type": "stream",
     "text": [
      "# Finished iter 50 of 100: C after 44 iters, 2 trials. Parity 0. Distortion 0.10.\n"
     ]
    },
    {
     "name": "stderr",
     "output_type": "stream",
     "text": [
      "\u001b[32mTrial 1/5 100%|█████████████████████████████████████████| Time: 0:00:05\u001b[39m\n",
      "\u001b[32mTrial 2/5 100%|█████████████████████████████████████████| Time: 0:00:05\u001b[39m\n",
      "\u001b[32mTrial 3/5 100%|█████████████████████████████████████████| Time: 0:00:05\u001b[39m\n",
      "\u001b[32mTrial 4/5 100%|█████████████████████████████████████████| Time: 0:00:05\u001b[39m\n",
      "\u001b[32mTrial 5/5 100%|█████████████████████████████████████████| Time: 0:00:05\u001b[39m\n"
     ]
    },
    {
     "name": "stdout",
     "output_type": "stream",
     "text": [
      "# Finished iter 51 of 100: U after 200 iters, 5 trials. Parity 1. Distortion 0.50.\n"
     ]
    },
    {
     "name": "stderr",
     "output_type": "stream",
     "text": [
      "\u001b[32mTrial 1/5 100%|█████████████████████████████████████████| Time: 0:00:05\u001b[39m\n",
      "\u001b[32mTrial 2/5 100%|█████████████████████████████████████████| Time: 0:00:05\u001b[39m\n",
      "\u001b[32mTrial 3/5 100%|█████████████████████████████████████████| Time: 0:00:05\u001b[39m\n",
      "\u001b[32mTrial 4/5 100%|█████████████████████████████████████████| Time: 0:00:05\u001b[39m\n",
      "\u001b[32mTrial 5/5 100%|█████████████████████████████████████████| Time: 0:00:05\u001b[39m\n"
     ]
    },
    {
     "name": "stdout",
     "output_type": "stream",
     "text": [
      "# Finished iter 52 of 100: U after 200 iters, 5 trials. Parity 1. Distortion 0.50.\n"
     ]
    },
    {
     "name": "stderr",
     "output_type": "stream",
     "text": [
      "\r",
      "\u001b[32mTrial 1/5  18%|███████▍                                 |  ETA: 0:00:05\u001b[39m"
     ]
    },
    {
     "name": "stdout",
     "output_type": "stream",
     "text": [
      "# Finished iter 53 of 100: C after 70 iters, 1 trials. Parity 0. Distortion 0.11.\n"
     ]
    },
    {
     "name": "stderr",
     "output_type": "stream",
     "text": [
      "\u001b[32mTrial 1/5 100%|█████████████████████████████████████████| Time: 0:00:05\u001b[39m\n",
      "\u001b[32mTrial 2/5 100%|█████████████████████████████████████████| Time: 0:00:05\u001b[39m\n",
      "\u001b[32mTrial 3/5 100%|█████████████████████████████████████████| Time: 0:00:05\u001b[39m\n",
      "\u001b[32mTrial 4/5 100%|█████████████████████████████████████████| Time: 0:00:05\u001b[39m\n",
      "\u001b[32mTrial 5/5 100%|█████████████████████████████████████████| Time: 0:00:05\u001b[39m\n"
     ]
    },
    {
     "name": "stdout",
     "output_type": "stream",
     "text": [
      "# Finished iter 54 of 100: U after 200 iters, 5 trials. Parity 1. Distortion 0.50.\n",
      "# Finished iter 55 of 100: C after 29 iters, 1 trials. Parity 0. Distortion 0.12.\n"
     ]
    },
    {
     "name": "stderr",
     "output_type": "stream",
     "text": [
      "\u001b[32mTrial 1/5 100%|█████████████████████████████████████████| Time: 0:00:05\u001b[39m\n",
      "\u001b[32mTrial 2/5 100%|█████████████████████████████████████████| Time: 0:00:05\u001b[39m\n",
      "\u001b[32mTrial 3/5 100%|█████████████████████████████████████████| Time: 0:00:05\u001b[39m\n",
      "\u001b[32mTrial 4/5 100%|█████████████████████████████████████████| Time: 0:00:05\u001b[39m\n",
      "\u001b[32mTrial 5/5 100%|█████████████████████████████████████████| Time: 0:00:05\u001b[39m\n"
     ]
    },
    {
     "name": "stdout",
     "output_type": "stream",
     "text": [
      "# Finished iter 56 of 100: U after 200 iters, 5 trials. Parity 3. Distortion 0.50.\n"
     ]
    },
    {
     "name": "stderr",
     "output_type": "stream",
     "text": [
      "\u001b[32mTrial 1/5 100%|█████████████████████████████████████████| Time: 0:00:05\u001b[39m\n",
      "\u001b[32mTrial 2/5 100%|█████████████████████████████████████████| Time: 0:00:05\u001b[39m\n",
      "\u001b[32mTrial 3/5 100%|█████████████████████████████████████████| Time: 0:00:05\u001b[39m\n",
      "\u001b[32mTrial 4/5 100%|█████████████████████████████████████████| Time: 0:00:05\u001b[39m\n",
      "\u001b[32mTrial 5/5 100%|█████████████████████████████████████████| Time: 0:00:05\u001b[39m\n"
     ]
    },
    {
     "name": "stdout",
     "output_type": "stream",
     "text": [
      "# Finished iter 57 of 100: U after 200 iters, 5 trials. Parity 2. Distortion 0.50.\n"
     ]
    },
    {
     "name": "stderr",
     "output_type": "stream",
     "text": [
      "\u001b[32mTrial 1/5 100%|█████████████████████████████████████████| Time: 0:00:05\u001b[39m\n",
      "\u001b[32mTrial 2/5 100%|█████████████████████████████████████████| Time: 0:00:05\u001b[39m\n",
      "\u001b[32mTrial 3/5 100%|█████████████████████████████████████████| Time: 0:00:05\u001b[39m\n",
      "\u001b[32mTrial 4/5 100%|█████████████████████████████████████████| Time: 0:00:05\u001b[39m\n",
      "\u001b[32mTrial 5/5 100%|█████████████████████████████████████████| Time: 0:00:05\u001b[39m\n"
     ]
    },
    {
     "name": "stdout",
     "output_type": "stream",
     "text": [
      "# Finished iter 58 of 100: U after 200 iters, 5 trials. Parity 2. Distortion 0.50.\n"
     ]
    },
    {
     "name": "stderr",
     "output_type": "stream",
     "text": [
      "\u001b[32mTrial 1/5 100%|█████████████████████████████████████████| Time: 0:00:05\u001b[39m\n",
      "\u001b[32mTrial 2/5 100%|█████████████████████████████████████████| Time: 0:00:05\u001b[39m\n",
      "\u001b[32mTrial 3/5 100%|█████████████████████████████████████████| Time: 0:00:05\u001b[39m\n",
      "\u001b[32mTrial 4/5 100%|█████████████████████████████████████████| Time: 0:00:05\u001b[39m\n",
      "\u001b[32mTrial 5/5 100%|█████████████████████████████████████████| Time: 0:00:05\u001b[39m\n"
     ]
    },
    {
     "name": "stdout",
     "output_type": "stream",
     "text": [
      "# Finished iter 59 of 100: U after 200 iters, 5 trials. Parity 2. Distortion 0.50.\n"
     ]
    },
    {
     "name": "stderr",
     "output_type": "stream",
     "text": [
      "\u001b[32mTrial 1/5 100%|█████████████████████████████████████████| Time: 0:00:05\u001b[39m\n",
      "\u001b[32mTrial 2/5 100%|█████████████████████████████████████████| Time: 0:00:05\u001b[39m\n",
      "\u001b[32mTrial 3/5 100%|█████████████████████████████████████████| Time: 0:00:05\u001b[39m\n",
      "\u001b[32mTrial 4/5 100%|█████████████████████████████████████████| Time: 0:00:05\u001b[39m\n",
      "\u001b[32mTrial 5/5 100%|█████████████████████████████████████████| Time: 0:00:05\u001b[39m\n"
     ]
    },
    {
     "name": "stdout",
     "output_type": "stream",
     "text": [
      "# Finished iter 60 of 100: U after 200 iters, 5 trials. Parity 2. Distortion 0.50.\n"
     ]
    },
    {
     "name": "stderr",
     "output_type": "stream",
     "text": [
      "\r",
      "\u001b[32mTrial 1/5  18%|███████▍                                 |  ETA: 0:00:05\u001b[39m"
     ]
    },
    {
     "name": "stdout",
     "output_type": "stream",
     "text": [
      "# Finished iter 61 of 100: C after 41 iters, 1 trials. Parity 0. Distortion 0.11.\n"
     ]
    },
    {
     "name": "stderr",
     "output_type": "stream",
     "text": [
      "\u001b[32mTrial 1/5 100%|█████████████████████████████████████████| Time: 0:00:05\u001b[39m\n",
      "\u001b[32mTrial 2/5 100%|█████████████████████████████████████████| Time: 0:00:05\u001b[39m\n",
      "\u001b[32mTrial 3/5 100%|█████████████████████████████████████████| Time: 0:00:05\u001b[39m\n"
     ]
    },
    {
     "name": "stdout",
     "output_type": "stream",
     "text": [
      "# Finished iter 62 of 100: C after 19 iters, 4 trials. Parity 0. Distortion 0.11.\n"
     ]
    },
    {
     "name": "stderr",
     "output_type": "stream",
     "text": [
      "\u001b[32mTrial 1/5 100%|█████████████████████████████████████████| Time: 0:00:05\u001b[39m\n",
      "\u001b[32mTrial 2/5 100%|█████████████████████████████████████████| Time: 0:00:05\u001b[39m\n",
      "\u001b[32mTrial 3/5 100%|█████████████████████████████████████████| Time: 0:00:05\u001b[39m\n",
      "\u001b[32mTrial 4/5 100%|█████████████████████████████████████████| Time: 0:00:05\u001b[39m\n",
      "\u001b[32mTrial 5/5 100%|█████████████████████████████████████████| Time: 0:00:05\u001b[39m\n"
     ]
    },
    {
     "name": "stdout",
     "output_type": "stream",
     "text": [
      "# Finished iter 63 of 100: U after 200 iters, 5 trials. Parity 1. Distortion 0.50.\n"
     ]
    },
    {
     "name": "stderr",
     "output_type": "stream",
     "text": [
      "\u001b[32mTrial 1/5 100%|█████████████████████████████████████████| Time: 0:00:05\u001b[39m\n",
      "\u001b[32mTrial 2/5  18%|███████▋                                 |  ETA: 0:00:04\u001b[39m"
     ]
    },
    {
     "name": "stdout",
     "output_type": "stream",
     "text": [
      "# Finished iter 64 of 100: C after 39 iters, 2 trials. Parity 0. Distortion 0.11.\n"
     ]
    },
    {
     "name": "stderr",
     "output_type": "stream",
     "text": [
      "\u001b[32mTrial 1/5 100%|█████████████████████████████████████████| Time: 0:00:05\u001b[39m\n",
      "\u001b[32mTrial 2/5 100%|█████████████████████████████████████████| Time: 0:00:05\u001b[39m\n",
      "\u001b[32mTrial 3/5 100%|█████████████████████████████████████████| Time: 0:00:05\u001b[39m\n",
      "\u001b[32mTrial 4/5 100%|█████████████████████████████████████████| Time: 0:00:05\u001b[39m\n",
      "\u001b[32mTrial 5/5 100%|█████████████████████████████████████████| Time: 0:00:05\u001b[39m\n"
     ]
    },
    {
     "name": "stdout",
     "output_type": "stream",
     "text": [
      "# Finished iter 65 of 100: U after 200 iters, 5 trials. Parity 4. Distortion 0.50.\n"
     ]
    },
    {
     "name": "stderr",
     "output_type": "stream",
     "text": [
      "\u001b[32mTrial 1/5 100%|█████████████████████████████████████████| Time: 0:00:05\u001b[39m\n",
      "\u001b[32mTrial 2/5 100%|█████████████████████████████████████████| Time: 0:00:05\u001b[39m\n",
      "\u001b[32mTrial 3/5 100%|█████████████████████████████████████████| Time: 0:00:05\u001b[39m\n"
     ]
    },
    {
     "name": "stdout",
     "output_type": "stream",
     "text": [
      "# Finished iter 66 of 100: C after 35 iters, 4 trials. Parity 0. Distortion 0.11.\n"
     ]
    },
    {
     "name": "stderr",
     "output_type": "stream",
     "text": [
      "\u001b[32mTrial 1/5 100%|█████████████████████████████████████████| Time: 0:00:05\u001b[39m\n"
     ]
    },
    {
     "name": "stdout",
     "output_type": "stream",
     "text": [
      "# Finished iter 67 of 100: C after 13 iters, 2 trials. Parity 0. Distortion 0.11.\n"
     ]
    },
    {
     "name": "stderr",
     "output_type": "stream",
     "text": [
      "\u001b[32mTrial 1/5 100%|█████████████████████████████████████████| Time: 0:00:05\u001b[39m\n",
      "\u001b[32mTrial 2/5 100%|█████████████████████████████████████████| Time: 0:00:05\u001b[39m\n",
      "\u001b[32mTrial 3/5 100%|█████████████████████████████████████████| Time: 0:00:05\u001b[39m\n",
      "\u001b[32mTrial 4/5 100%|█████████████████████████████████████████| Time: 0:00:05\u001b[39m\n",
      "\u001b[32mTrial 5/5 100%|█████████████████████████████████████████| Time: 0:00:05\u001b[39m\n"
     ]
    },
    {
     "name": "stdout",
     "output_type": "stream",
     "text": [
      "# Finished iter 68 of 100: U after 200 iters, 5 trials. Parity 1. Distortion 0.50.\n",
      "# Finished iter 69 of 100: C after 19 iters, 1 trials. Parity 0. Distortion 0.10.\n",
      "# Finished iter 70 of 100: C after 33 iters, 1 trials. Parity 0. Distortion 0.10.\n",
      "# Finished iter 71 of 100: C after 33 iters, 1 trials. Parity 0. Distortion 0.10.\n"
     ]
    },
    {
     "name": "stderr",
     "output_type": "stream",
     "text": [
      "\u001b[32mTrial 1/5 100%|█████████████████████████████████████████| Time: 0:00:05\u001b[39m\n",
      "\u001b[32mTrial 2/5 100%|█████████████████████████████████████████| Time: 0:00:05\u001b[39m\n",
      "\u001b[32mTrial 3/5 100%|█████████████████████████████████████████| Time: 0:00:05\u001b[39m\n",
      "\u001b[32mTrial 4/5 100%|█████████████████████████████████████████| Time: 0:00:05\u001b[39m\n",
      "\u001b[32mTrial 5/5 100%|█████████████████████████████████████████| Time: 0:00:05\u001b[39m\n"
     ]
    },
    {
     "name": "stdout",
     "output_type": "stream",
     "text": [
      "# Finished iter 72 of 100: U after 200 iters, 5 trials. Parity 1. Distortion 0.50.\n"
     ]
    },
    {
     "name": "stderr",
     "output_type": "stream",
     "text": [
      "\u001b[32mTrial 1/5 100%|█████████████████████████████████████████| Time: 0:00:05\u001b[39m\n",
      "\u001b[32mTrial 2/5 100%|█████████████████████████████████████████| Time: 0:00:05\u001b[39m\n",
      "\u001b[32mTrial 3/5 100%|█████████████████████████████████████████| Time: 0:00:05\u001b[39m\n",
      "\u001b[32mTrial 4/5 100%|█████████████████████████████████████████| Time: 0:00:05\u001b[39m\n",
      "\u001b[32mTrial 5/5 100%|█████████████████████████████████████████| Time: 0:00:05\u001b[39m\n"
     ]
    },
    {
     "name": "stdout",
     "output_type": "stream",
     "text": [
      "# Finished iter 73 of 100: U after 200 iters, 5 trials. Parity 2. Distortion 0.50.\n",
      "# Finished iter 74 of 100: C after 37 iters, 1 trials. Parity 0. Distortion 0.10.\n"
     ]
    },
    {
     "name": "stderr",
     "output_type": "stream",
     "text": [
      "\u001b[32mTrial 1/5 100%|█████████████████████████████████████████| Time: 0:00:05\u001b[39m\n",
      "\u001b[32mTrial 2/5 100%|█████████████████████████████████████████| Time: 0:00:05\u001b[39m\n",
      "\u001b[32mTrial 3/5 100%|█████████████████████████████████████████| Time: 0:00:05\u001b[39m\n",
      "\u001b[32mTrial 4/5 100%|█████████████████████████████████████████| Time: 0:00:05\u001b[39m\n",
      "\u001b[32mTrial 5/5 100%|█████████████████████████████████████████| Time: 0:00:05\u001b[39m\n"
     ]
    },
    {
     "name": "stdout",
     "output_type": "stream",
     "text": [
      "# Finished iter 75 of 100: U after 200 iters, 5 trials. Parity 1. Distortion 0.50.\n",
      "# Finished iter 76 of 100: C after 11 iters, 1 trials. Parity 0. Distortion 0.10.\n",
      "# Finished iter 77 of 100: C after 18 iters, 1 trials. Parity 0. Distortion 0.11.\n"
     ]
    },
    {
     "name": "stderr",
     "output_type": "stream",
     "text": [
      "\u001b[32mTrial 1/5 100%|█████████████████████████████████████████| Time: 0:00:05\u001b[39m\n",
      "\u001b[32mTrial 2/5 100%|█████████████████████████████████████████| Time: 0:00:05\u001b[39m\n",
      "\u001b[32mTrial 3/5 100%|█████████████████████████████████████████| Time: 0:00:05\u001b[39m\n",
      "\u001b[32mTrial 4/5 100%|█████████████████████████████████████████| Time: 0:00:05\u001b[39m\n",
      "\u001b[32mTrial 5/5 100%|█████████████████████████████████████████| Time: 0:00:05\u001b[39m\n"
     ]
    },
    {
     "name": "stdout",
     "output_type": "stream",
     "text": [
      "# Finished iter 78 of 100: U after 200 iters, 5 trials. Parity 1. Distortion 0.50.\n"
     ]
    },
    {
     "name": "stderr",
     "output_type": "stream",
     "text": [
      "\u001b[32mTrial 1/5 100%|█████████████████████████████████████████| Time: 0:00:05\u001b[39m\n"
     ]
    },
    {
     "name": "stdout",
     "output_type": "stream",
     "text": [
      "# Finished iter 79 of 100: C after 28 iters, 2 trials. Parity 0. Distortion 0.10.\n"
     ]
    },
    {
     "name": "stderr",
     "output_type": "stream",
     "text": [
      "\u001b[32mTrial 1/5 100%|█████████████████████████████████████████| Time: 0:00:05\u001b[39m\n",
      "\u001b[32mTrial 2/5 100%|█████████████████████████████████████████| Time: 0:00:05\u001b[39m\n",
      "\u001b[32mTrial 3/5 100%|█████████████████████████████████████████| Time: 0:00:05\u001b[39m\n",
      "\u001b[32mTrial 4/5 100%|█████████████████████████████████████████| Time: 0:00:05\u001b[39m\n",
      "\u001b[32mTrial 5/5 100%|█████████████████████████████████████████| Time: 0:00:05\u001b[39m\n"
     ]
    },
    {
     "name": "stdout",
     "output_type": "stream",
     "text": [
      "# Finished iter 80 of 100: U after 200 iters, 5 trials. Parity 1. Distortion 0.50.\n",
      "# Finished iter 81 of 100: C after 15 iters, 1 trials. Parity 0. Distortion 0.11.\n"
     ]
    },
    {
     "name": "stderr",
     "output_type": "stream",
     "text": [
      "\u001b[32mTrial 1/5 100%|█████████████████████████████████████████| Time: 0:00:05\u001b[39m\n",
      "\u001b[32mTrial 2/5 100%|█████████████████████████████████████████| Time: 0:00:05\u001b[39m\n",
      "\u001b[32mTrial 3/5 100%|█████████████████████████████████████████| Time: 0:00:05\u001b[39m\n",
      "\u001b[32mTrial 4/5 100%|█████████████████████████████████████████| Time: 0:00:05\u001b[39m\n",
      "\u001b[32mTrial 5/5 100%|█████████████████████████████████████████| Time: 0:00:05\u001b[39m\n"
     ]
    },
    {
     "name": "stdout",
     "output_type": "stream",
     "text": [
      "# Finished iter 82 of 100: U after 200 iters, 5 trials. Parity 3. Distortion 0.50.\n"
     ]
    },
    {
     "name": "stderr",
     "output_type": "stream",
     "text": [
      "\u001b[32mTrial 1/5 100%|█████████████████████████████████████████| Time: 0:00:05\u001b[39m\n",
      "\u001b[32mTrial 2/5 100%|█████████████████████████████████████████| Time: 0:00:05\u001b[39m\n",
      "\u001b[32mTrial 3/5 100%|█████████████████████████████████████████| Time: 0:00:05\u001b[39m\n",
      "\u001b[32mTrial 4/5 100%|█████████████████████████████████████████| Time: 0:00:05\u001b[39m\n",
      "\u001b[32mTrial 5/5 100%|█████████████████████████████████████████| Time: 0:00:05\u001b[39m\n"
     ]
    },
    {
     "name": "stdout",
     "output_type": "stream",
     "text": [
      "# Finished iter 83 of 100: U after 200 iters, 5 trials. Parity 2. Distortion 0.50.\n"
     ]
    },
    {
     "name": "stderr",
     "output_type": "stream",
     "text": [
      "\u001b[32mTrial 1/5 100%|█████████████████████████████████████████| Time: 0:00:05\u001b[39m\n",
      "\u001b[32mTrial 2/5 100%|█████████████████████████████████████████| Time: 0:00:05\u001b[39m\n",
      "\u001b[32mTrial 3/5 100%|█████████████████████████████████████████| Time: 0:00:05\u001b[39m\n",
      "\u001b[32mTrial 4/5 100%|█████████████████████████████████████████| Time: 0:00:05\u001b[39m\n",
      "\u001b[32mTrial 5/5 100%|█████████████████████████████████████████| Time: 0:00:05\u001b[39m\n"
     ]
    },
    {
     "name": "stdout",
     "output_type": "stream",
     "text": [
      "# Finished iter 84 of 100: U after 200 iters, 5 trials. Parity 2. Distortion 0.50.\n"
     ]
    },
    {
     "name": "stderr",
     "output_type": "stream",
     "text": [
      "\u001b[32mTrial 1/5 100%|█████████████████████████████████████████| Time: 0:00:05\u001b[39m\n",
      "\u001b[32mTrial 2/5 100%|█████████████████████████████████████████| Time: 0:00:05\u001b[39m\n",
      "\u001b[32mTrial 3/5 100%|█████████████████████████████████████████| Time: 0:00:05\u001b[39m\n",
      "\u001b[32mTrial 4/5 100%|█████████████████████████████████████████| Time: 0:00:05\u001b[39m\n",
      "\u001b[32mTrial 5/5 100%|█████████████████████████████████████████| Time: 0:00:05\u001b[39m\n"
     ]
    },
    {
     "name": "stdout",
     "output_type": "stream",
     "text": [
      "# Finished iter 85 of 100: U after 200 iters, 5 trials. Parity 1. Distortion 0.50.\n"
     ]
    },
    {
     "name": "stderr",
     "output_type": "stream",
     "text": [
      "\u001b[32mTrial 1/5 100%|█████████████████████████████████████████| Time: 0:00:05\u001b[39m\n",
      "\u001b[32mTrial 2/5 100%|█████████████████████████████████████████| Time: 0:00:05\u001b[39m\n",
      "\u001b[32mTrial 3/5 100%|█████████████████████████████████████████| Time: 0:00:05\u001b[39m\n",
      "\u001b[32mTrial 4/5 100%|█████████████████████████████████████████| Time: 0:00:05\u001b[39m\n",
      "\u001b[32mTrial 5/5 100%|█████████████████████████████████████████| Time: 0:00:05\u001b[39m\n"
     ]
    },
    {
     "name": "stdout",
     "output_type": "stream",
     "text": [
      "# Finished iter 86 of 100: U after 200 iters, 5 trials. Parity 1. Distortion 0.50.\n"
     ]
    },
    {
     "name": "stderr",
     "output_type": "stream",
     "text": [
      "\u001b[32mTrial 1/5 100%|█████████████████████████████████████████| Time: 0:00:05\u001b[39m\n",
      "\u001b[32mTrial 2/5 100%|█████████████████████████████████████████| Time: 0:00:05\u001b[39m\n",
      "\u001b[32mTrial 3/5 100%|█████████████████████████████████████████| Time: 0:00:05\u001b[39m\n",
      "\u001b[32mTrial 4/5 100%|█████████████████████████████████████████| Time: 0:00:05\u001b[39m\n",
      "\u001b[32mTrial 5/5 100%|█████████████████████████████████████████| Time: 0:00:05\u001b[39m\n"
     ]
    },
    {
     "name": "stdout",
     "output_type": "stream",
     "text": [
      "# Finished iter 87 of 100: U after 200 iters, 5 trials. Parity 2. Distortion 0.50.\n"
     ]
    },
    {
     "name": "stderr",
     "output_type": "stream",
     "text": [
      "\u001b[32mTrial 1/5 100%|█████████████████████████████████████████| Time: 0:00:05\u001b[39m\n",
      "\u001b[32mTrial 2/5 100%|█████████████████████████████████████████| Time: 0:00:05\u001b[39m\n",
      "\u001b[32mTrial 3/5 100%|█████████████████████████████████████████| Time: 0:00:05\u001b[39m\n",
      "\u001b[32mTrial 4/5 100%|█████████████████████████████████████████| Time: 0:00:05\u001b[39m\n",
      "\u001b[32mTrial 5/5  18%|███████▋                                 |  ETA: 0:00:04\u001b[39m"
     ]
    },
    {
     "name": "stdout",
     "output_type": "stream",
     "text": [
      "# Finished iter 88 of 100: C after 48 iters, 5 trials. Parity 0. Distortion 0.11.\n"
     ]
    },
    {
     "name": "stderr",
     "output_type": "stream",
     "text": [
      "\u001b[32mTrial 1/5 100%|█████████████████████████████████████████| Time: 0:00:05\u001b[39m\n",
      "\u001b[32mTrial 2/5 100%|█████████████████████████████████████████| Time: 0:00:05\u001b[39m\n",
      "\u001b[32mTrial 3/5 100%|█████████████████████████████████████████| Time: 0:00:05\u001b[39m\n",
      "\u001b[32mTrial 4/5 100%|█████████████████████████████████████████| Time: 0:00:05\u001b[39m\n",
      "\u001b[32mTrial 5/5 100%|█████████████████████████████████████████| Time: 0:00:05\u001b[39m\n"
     ]
    },
    {
     "name": "stdout",
     "output_type": "stream",
     "text": [
      "# Finished iter 89 of 100: U after 200 iters, 5 trials. Parity 1. Distortion 0.50.\n"
     ]
    },
    {
     "name": "stderr",
     "output_type": "stream",
     "text": [
      "\u001b[32mTrial 1/5 100%|█████████████████████████████████████████| Time: 0:00:05\u001b[39m\n",
      "\u001b[32mTrial 2/5 100%|█████████████████████████████████████████| Time: 0:00:05\u001b[39m\n",
      "\u001b[32mTrial 3/5 100%|█████████████████████████████████████████| Time: 0:00:05\u001b[39m\n",
      "\u001b[32mTrial 4/5 100%|█████████████████████████████████████████| Time: 0:00:05\u001b[39m\n",
      "\u001b[32mTrial 5/5 100%|█████████████████████████████████████████| Time: 0:00:05\u001b[39m\n"
     ]
    },
    {
     "name": "stdout",
     "output_type": "stream",
     "text": [
      "# Finished iter 90 of 100: U after 200 iters, 5 trials. Parity 1. Distortion 0.50.\n"
     ]
    },
    {
     "name": "stderr",
     "output_type": "stream",
     "text": [
      "\u001b[32mTrial 1/5 100%|█████████████████████████████████████████| Time: 0:00:05\u001b[39m\n",
      "\u001b[32mTrial 2/5 100%|█████████████████████████████████████████| Time: 0:00:05\u001b[39m\n",
      "\u001b[32mTrial 3/5 100%|█████████████████████████████████████████| Time: 0:00:05\u001b[39m\n",
      "\u001b[32mTrial 4/5 100%|█████████████████████████████████████████| Time: 0:00:05\u001b[39m\n",
      "\u001b[32mTrial 5/5  18%|███████▍                                 |  ETA: 0:00:05\u001b[39m"
     ]
    },
    {
     "name": "stdout",
     "output_type": "stream",
     "text": [
      "# Finished iter 91 of 100: C after 37 iters, 5 trials. Parity 0. Distortion 0.10.\n"
     ]
    },
    {
     "name": "stderr",
     "output_type": "stream",
     "text": [
      "\r",
      "\u001b[32mTrial 1/5  18%|███████▍                                 |  ETA: 0:00:05\u001b[39m"
     ]
    },
    {
     "name": "stdout",
     "output_type": "stream",
     "text": [
      "# Finished iter 92 of 100: C after 38 iters, 1 trials. Parity 0. Distortion 0.11.\n"
     ]
    },
    {
     "name": "stderr",
     "output_type": "stream",
     "text": [
      "\r",
      "\u001b[32mTrial 1/5  18%|███████▍                                 |  ETA: 0:00:05\u001b[39m"
     ]
    },
    {
     "name": "stdout",
     "output_type": "stream",
     "text": [
      "# Finished iter 93 of 100: C after 44 iters, 1 trials. Parity 0. Distortion 0.10.\n"
     ]
    },
    {
     "name": "stderr",
     "output_type": "stream",
     "text": [
      "\u001b[32mTrial 1/5 100%|█████████████████████████████████████████| Time: 0:00:05\u001b[39m\n",
      "\u001b[32mTrial 2/5 100%|█████████████████████████████████████████| Time: 0:00:05\u001b[39m\n"
     ]
    },
    {
     "name": "stdout",
     "output_type": "stream",
     "text": [
      "# Finished iter 94 of 100: C after 21 iters, 3 trials. Parity 0. Distortion 0.11.\n"
     ]
    },
    {
     "name": "stderr",
     "output_type": "stream",
     "text": [
      "\u001b[32mTrial 1/5 100%|█████████████████████████████████████████| Time: 0:00:05\u001b[39m\n",
      "\u001b[32mTrial 2/5 100%|█████████████████████████████████████████| Time: 0:00:05\u001b[39m\n",
      "\u001b[32mTrial 3/5 100%|█████████████████████████████████████████| Time: 0:00:05\u001b[39m\n",
      "\u001b[32mTrial 4/5 100%|█████████████████████████████████████████| Time: 0:00:05\u001b[39m\n",
      "\u001b[32mTrial 5/5 100%|█████████████████████████████████████████| Time: 0:00:05\u001b[39m\n"
     ]
    },
    {
     "name": "stdout",
     "output_type": "stream",
     "text": [
      "# Finished iter 95 of 100: U after 200 iters, 5 trials. Parity 1. Distortion 0.50.\n"
     ]
    },
    {
     "name": "stderr",
     "output_type": "stream",
     "text": [
      "\u001b[32mTrial 1/5 100%|█████████████████████████████████████████| Time: 0:00:05\u001b[39m\n",
      "\u001b[32mTrial 2/5 100%|█████████████████████████████████████████| Time: 0:00:05\u001b[39m\n",
      "\u001b[32mTrial 3/5 100%|█████████████████████████████████████████| Time: 0:00:05\u001b[39m\n",
      "\u001b[32mTrial 4/5 100%|█████████████████████████████████████████| Time: 0:00:05\u001b[39m\n",
      "\u001b[32mTrial 5/5 100%|█████████████████████████████████████████| Time: 0:00:05\u001b[39m\n"
     ]
    },
    {
     "name": "stdout",
     "output_type": "stream",
     "text": [
      "# Finished iter 96 of 100: U after 200 iters, 5 trials. Parity 1. Distortion 0.50.\n",
      "# Finished iter 97 of 100: C after 38 iters, 1 trials. Parity 0. Distortion 0.10.\n"
     ]
    },
    {
     "name": "stderr",
     "output_type": "stream",
     "text": [
      "\u001b[32mTrial 1/5 100%|█████████████████████████████████████████| Time: 0:00:05\u001b[39m\n",
      "\u001b[32mTrial 2/5 100%|█████████████████████████████████████████| Time: 0:00:05\u001b[39m\n",
      "\u001b[32mTrial 3/5 100%|█████████████████████████████████████████| Time: 0:00:05\u001b[39m\n",
      "\u001b[32mTrial 4/5 100%|█████████████████████████████████████████| Time: 0:00:05\u001b[39m\n",
      "\u001b[32mTrial 5/5 100%|█████████████████████████████████████████| Time: 0:00:05\u001b[39m\n"
     ]
    },
    {
     "name": "stdout",
     "output_type": "stream",
     "text": [
      "# Finished iter 98 of 100: U after 200 iters, 5 trials. Parity 3. Distortion 0.50.\n"
     ]
    },
    {
     "name": "stderr",
     "output_type": "stream",
     "text": [
      "\u001b[32mTrial 1/5 100%|█████████████████████████████████████████| Time: 0:00:05\u001b[39m\n",
      "\u001b[32mTrial 2/5 100%|█████████████████████████████████████████| Time: 0:00:05\u001b[39m\n",
      "\u001b[32mTrial 3/5 100%|█████████████████████████████████████████| Time: 0:00:05\u001b[39m\n",
      "\u001b[32mTrial 4/5 100%|█████████████████████████████████████████| Time: 0:00:05\u001b[39m\n",
      "\u001b[32mTrial 5/5 100%|█████████████████████████████████████████| Time: 0:00:05\u001b[39m\n"
     ]
    },
    {
     "name": "stdout",
     "output_type": "stream",
     "text": [
      "# Finished iter 99 of 100: U after 200 iters, 5 trials. Parity 7. Distortion 0.50.\n",
      "# Finished iter 100 of 100: C after 34 iters, 1 trials. Parity 0. Distortion 0.11.\n",
      "##### b=10. 4 of 9 #####\n"
     ]
    },
    {
     "name": "stderr",
     "output_type": "stream",
     "text": [
      "\u001b[32mTrial 1/5 100%|█████████████████████████████████████████| Time: 0:00:05\u001b[39m\n",
      "\u001b[32mTrial 2/5 100%|█████████████████████████████████████████| Time: 0:00:05\u001b[39m\n",
      "\u001b[32mTrial 3/5 100%|█████████████████████████████████████████| Time: 0:00:05\u001b[39m\n",
      "\u001b[32mTrial 4/5 100%|█████████████████████████████████████████| Time: 0:00:05\u001b[39m\n",
      "\u001b[32mTrial 5/5 100%|█████████████████████████████████████████| Time: 0:00:05\u001b[39m\n"
     ]
    },
    {
     "name": "stdout",
     "output_type": "stream",
     "text": [
      "# Finished iter 1 of 100: U after 200 iters, 5 trials. Parity 2. Distortion 0.50.\n"
     ]
    },
    {
     "name": "stderr",
     "output_type": "stream",
     "text": [
      "\u001b[32mTrial 1/5 100%|█████████████████████████████████████████| Time: 0:00:05\u001b[39m\n",
      "\u001b[32mTrial 2/5 100%|█████████████████████████████████████████| Time: 0:00:05\u001b[39m\n"
     ]
    },
    {
     "name": "stdout",
     "output_type": "stream",
     "text": [
      "# Finished iter 2 of 100: C after 28 iters, 3 trials. Parity 0. Distortion 0.11.\n"
     ]
    },
    {
     "name": "stderr",
     "output_type": "stream",
     "text": [
      "\u001b[32mTrial 1/5 100%|█████████████████████████████████████████| Time: 0:00:05\u001b[39m\n",
      "\u001b[32mTrial 2/5 100%|█████████████████████████████████████████| Time: 0:00:05\u001b[39m\n"
     ]
    },
    {
     "name": "stdout",
     "output_type": "stream",
     "text": [
      "# Finished iter 3 of 100: C after 32 iters, 3 trials. Parity 0. Distortion 0.11.\n",
      "# Finished iter 4 of 100: C after 32 iters, 1 trials. Parity 0. Distortion 0.11.\n",
      "# Finished iter 5 of 100: C after 26 iters, 1 trials. Parity 0. Distortion 0.11.\n"
     ]
    },
    {
     "name": "stderr",
     "output_type": "stream",
     "text": [
      "\u001b[32mTrial 1/5 100%|█████████████████████████████████████████| Time: 0:00:05\u001b[39m\n",
      "\u001b[32mTrial 2/5 100%|█████████████████████████████████████████| Time: 0:00:05\u001b[39m\n",
      "\u001b[32mTrial 3/5 100%|█████████████████████████████████████████| Time: 0:00:05\u001b[39m\n",
      "\u001b[32mTrial 4/5 100%|█████████████████████████████████████████| Time: 0:00:05\u001b[39m\n",
      "\u001b[32mTrial 5/5 100%|█████████████████████████████████████████| Time: 0:00:05\u001b[39m\n"
     ]
    },
    {
     "name": "stdout",
     "output_type": "stream",
     "text": [
      "# Finished iter 6 of 100: U after 200 iters, 5 trials. Parity 1. Distortion 0.50.\n"
     ]
    },
    {
     "name": "stderr",
     "output_type": "stream",
     "text": [
      "\u001b[32mTrial 1/5 100%|█████████████████████████████████████████| Time: 0:00:05\u001b[39m\n",
      "\u001b[32mTrial 2/5 100%|█████████████████████████████████████████| Time: 0:00:05\u001b[39m\n",
      "\u001b[32mTrial 3/5 100%|█████████████████████████████████████████| Time: 0:00:05\u001b[39m\n",
      "\u001b[32mTrial 4/5 100%|█████████████████████████████████████████| Time: 0:00:05\u001b[39m\n",
      "\u001b[32mTrial 5/5 100%|█████████████████████████████████████████| Time: 0:00:05\u001b[39m\n"
     ]
    },
    {
     "name": "stdout",
     "output_type": "stream",
     "text": [
      "# Finished iter 7 of 100: U after 200 iters, 5 trials. Parity 2. Distortion 0.50.\n"
     ]
    },
    {
     "name": "stderr",
     "output_type": "stream",
     "text": [
      "\u001b[32mTrial 1/5 100%|█████████████████████████████████████████| Time: 0:00:05\u001b[39m\n"
     ]
    },
    {
     "name": "stdout",
     "output_type": "stream",
     "text": [
      "# Finished iter 8 of 100: C after 24 iters, 2 trials. Parity 0. Distortion 0.10.\n",
      "# Finished iter 9 of 100: C after 19 iters, 1 trials. Parity 0. Distortion 0.11.\n"
     ]
    },
    {
     "name": "stderr",
     "output_type": "stream",
     "text": [
      "\u001b[32mTrial 1/5 100%|█████████████████████████████████████████| Time: 0:00:05\u001b[39m\n",
      "\u001b[32mTrial 2/5  18%|███████▋                                 |  ETA: 0:00:04\u001b[39m"
     ]
    },
    {
     "name": "stdout",
     "output_type": "stream",
     "text": [
      "# Finished iter 10 of 100: C after 42 iters, 2 trials. Parity 0. Distortion 0.10.\n"
     ]
    },
    {
     "name": "stderr",
     "output_type": "stream",
     "text": [
      "\u001b[32mTrial 1/5 100%|█████████████████████████████████████████| Time: 0:00:05\u001b[39m\n",
      "\u001b[32mTrial 2/5 100%|█████████████████████████████████████████| Time: 0:00:05\u001b[39m\n",
      "\u001b[32mTrial 3/5 100%|█████████████████████████████████████████| Time: 0:00:05\u001b[39m\n",
      "\u001b[32mTrial 4/5 100%|█████████████████████████████████████████| Time: 0:00:05\u001b[39m\n",
      "\u001b[32mTrial 5/5 100%|█████████████████████████████████████████| Time: 0:00:05\u001b[39m\n"
     ]
    },
    {
     "name": "stdout",
     "output_type": "stream",
     "text": [
      "# Finished iter 11 of 100: U after 200 iters, 5 trials. Parity 1. Distortion 0.50.\n",
      "# Finished iter 12 of 100: C after 30 iters, 1 trials. Parity 0. Distortion 0.10.\n"
     ]
    },
    {
     "name": "stderr",
     "output_type": "stream",
     "text": [
      "\u001b[32mTrial 1/5 100%|█████████████████████████████████████████| Time: 0:00:05\u001b[39m\n",
      "\u001b[32mTrial 2/5 100%|█████████████████████████████████████████| Time: 0:00:05\u001b[39m\n",
      "\u001b[32mTrial 3/5  18%|███████▋                                 |  ETA: 0:00:05\u001b[39m"
     ]
    },
    {
     "name": "stdout",
     "output_type": "stream",
     "text": [
      "# Finished iter 13 of 100: C after 38 iters, 3 trials. Parity 0. Distortion 0.11.\n"
     ]
    },
    {
     "name": "stderr",
     "output_type": "stream",
     "text": [
      "\u001b[32mTrial 1/5 100%|█████████████████████████████████████████| Time: 0:00:05\u001b[39m\n",
      "\u001b[32mTrial 2/5 100%|█████████████████████████████████████████| Time: 0:00:05\u001b[39m\n",
      "\u001b[32mTrial 3/5 100%|█████████████████████████████████████████| Time: 0:00:05\u001b[39m\n",
      "\u001b[32mTrial 4/5 100%|█████████████████████████████████████████| Time: 0:00:05\u001b[39m\n",
      "\u001b[32mTrial 5/5 100%|█████████████████████████████████████████| Time: 0:00:05\u001b[39m\n"
     ]
    },
    {
     "name": "stdout",
     "output_type": "stream",
     "text": [
      "# Finished iter 14 of 100: U after 200 iters, 5 trials. Parity 1. Distortion 0.50.\n"
     ]
    },
    {
     "name": "stderr",
     "output_type": "stream",
     "text": [
      "\r",
      "\u001b[32mTrial 1/5  18%|███████▍                                 |  ETA: 0:00:05\u001b[39m"
     ]
    },
    {
     "name": "stdout",
     "output_type": "stream",
     "text": [
      "# Finished iter 15 of 100: C after 41 iters, 1 trials. Parity 0. Distortion 0.10.\n"
     ]
    },
    {
     "name": "stderr",
     "output_type": "stream",
     "text": [
      "\u001b[32mTrial 1/5 100%|█████████████████████████████████████████| Time: 0:00:05\u001b[39m\n",
      "\u001b[32mTrial 2/5 100%|█████████████████████████████████████████| Time: 0:00:05\u001b[39m\n",
      "\u001b[32mTrial 3/5 100%|█████████████████████████████████████████| Time: 0:00:05\u001b[39m\n",
      "\u001b[32mTrial 4/5 100%|█████████████████████████████████████████| Time: 0:00:05\u001b[39m\n",
      "\u001b[32mTrial 5/5 100%|█████████████████████████████████████████| Time: 0:00:05\u001b[39m\n"
     ]
    },
    {
     "name": "stdout",
     "output_type": "stream",
     "text": [
      "# Finished iter 16 of 100: U after 200 iters, 5 trials. Parity 1. Distortion 0.50.\n"
     ]
    },
    {
     "name": "stderr",
     "output_type": "stream",
     "text": [
      "\u001b[32mTrial 1/5 100%|█████████████████████████████████████████| Time: 0:00:05\u001b[39m\n",
      "\u001b[32mTrial 2/5 100%|█████████████████████████████████████████| Time: 0:00:06\u001b[39m\n",
      "\u001b[32mTrial 3/5 100%|█████████████████████████████████████████| Time: 0:00:05\u001b[39m\n",
      "\u001b[32mTrial 4/5 100%|█████████████████████████████████████████| Time: 0:00:05\u001b[39m\n",
      "\u001b[32mTrial 5/5 100%|█████████████████████████████████████████| Time: 0:00:05\u001b[39m\n"
     ]
    },
    {
     "name": "stdout",
     "output_type": "stream",
     "text": [
      "# Finished iter 17 of 100: U after 200 iters, 5 trials. Parity 2. Distortion 0.50.\n"
     ]
    },
    {
     "name": "stderr",
     "output_type": "stream",
     "text": [
      "\u001b[32mTrial 1/5 100%|█████████████████████████████████████████| Time: 0:00:05\u001b[39m\n"
     ]
    },
    {
     "name": "stdout",
     "output_type": "stream",
     "text": [
      "# Finished iter 18 of 100: C after 21 iters, 2 trials. Parity 0. Distortion 0.10.\n"
     ]
    },
    {
     "name": "stderr",
     "output_type": "stream",
     "text": [
      "\u001b[32mTrial 1/5 100%|█████████████████████████████████████████| Time: 0:00:05\u001b[39m\n",
      "\u001b[32mTrial 2/5  18%|███████▋                                 |  ETA: 0:00:04\u001b[39m"
     ]
    },
    {
     "name": "stdout",
     "output_type": "stream",
     "text": [
      "# Finished iter 19 of 100: C after 71 iters, 2 trials. Parity 0. Distortion 0.11.\n"
     ]
    },
    {
     "name": "stderr",
     "output_type": "stream",
     "text": [
      "\u001b[32mTrial 1/5 100%|█████████████████████████████████████████| Time: 0:00:05\u001b[39m\n",
      "\u001b[32mTrial 2/5 100%|█████████████████████████████████████████| Time: 0:00:05\u001b[39m\n",
      "\u001b[32mTrial 3/5 100%|█████████████████████████████████████████| Time: 0:00:05\u001b[39m\n",
      "\u001b[32mTrial 4/5 100%|█████████████████████████████████████████| Time: 0:00:05\u001b[39m\n",
      "\u001b[32mTrial 5/5 100%|█████████████████████████████████████████| Time: 0:00:05\u001b[39m\n"
     ]
    },
    {
     "name": "stdout",
     "output_type": "stream",
     "text": [
      "# Finished iter 20 of 100: U after 200 iters, 5 trials. Parity 1. Distortion 0.50.\n",
      "# Finished iter 21 of 100: C after 11 iters, 1 trials. Parity 0. Distortion 0.11.\n"
     ]
    },
    {
     "name": "stderr",
     "output_type": "stream",
     "text": [
      "\u001b[32mTrial 1/5 100%|█████████████████████████████████████████| Time: 0:00:05\u001b[39m\n",
      "\u001b[32mTrial 2/5 100%|█████████████████████████████████████████| Time: 0:00:05\u001b[39m\n",
      "\u001b[32mTrial 3/5 100%|█████████████████████████████████████████| Time: 0:00:05\u001b[39m\n",
      "\u001b[32mTrial 4/5 100%|█████████████████████████████████████████| Time: 0:00:05\u001b[39m\n",
      "\u001b[32mTrial 5/5 100%|█████████████████████████████████████████| Time: 0:00:05\u001b[39m\n"
     ]
    },
    {
     "name": "stdout",
     "output_type": "stream",
     "text": [
      "# Finished iter 22 of 100: U after 200 iters, 5 trials. Parity 1. Distortion 0.50.\n",
      "# Finished iter 23 of 100: C after 29 iters, 1 trials. Parity 0. Distortion 0.11.\n"
     ]
    },
    {
     "name": "stderr",
     "output_type": "stream",
     "text": [
      "\r",
      "\u001b[32mTrial 1/5  19%|███████▊                                 |  ETA: 0:00:04\u001b[39m"
     ]
    },
    {
     "name": "stdout",
     "output_type": "stream",
     "text": [
      "# Finished iter 24 of 100: C after 48 iters, 1 trials. Parity 0. Distortion 0.11.\n"
     ]
    },
    {
     "name": "stderr",
     "output_type": "stream",
     "text": [
      "\u001b[32mTrial 1/5 100%|█████████████████████████████████████████| Time: 0:00:05\u001b[39m\n",
      "\u001b[32mTrial 2/5 100%|█████████████████████████████████████████| Time: 0:00:05\u001b[39m\n",
      "\u001b[32mTrial 3/5 100%|█████████████████████████████████████████| Time: 0:00:05\u001b[39m\n",
      "\u001b[32mTrial 4/5 100%|█████████████████████████████████████████| Time: 0:00:05\u001b[39m\n",
      "\u001b[32mTrial 5/5 100%|█████████████████████████████████████████| Time: 0:00:05\u001b[39m\n"
     ]
    },
    {
     "name": "stdout",
     "output_type": "stream",
     "text": [
      "# Finished iter 25 of 100: U after 200 iters, 5 trials. Parity 1. Distortion 0.50.\n"
     ]
    },
    {
     "name": "stderr",
     "output_type": "stream",
     "text": [
      "\u001b[32mTrial 1/5 100%|█████████████████████████████████████████| Time: 0:00:05\u001b[39m\n",
      "\u001b[32mTrial 2/5 100%|█████████████████████████████████████████| Time: 0:00:05\u001b[39m\n",
      "\u001b[32mTrial 3/5 100%|█████████████████████████████████████████| Time: 0:00:05\u001b[39m\n",
      "\u001b[32mTrial 4/5 100%|█████████████████████████████████████████| Time: 0:00:05\u001b[39m\n",
      "\u001b[32mTrial 5/5 100%|█████████████████████████████████████████| Time: 0:00:05\u001b[39m\n"
     ]
    },
    {
     "name": "stdout",
     "output_type": "stream",
     "text": [
      "# Finished iter 26 of 100: U after 200 iters, 5 trials. Parity 1. Distortion 0.50.\n"
     ]
    },
    {
     "name": "stderr",
     "output_type": "stream",
     "text": [
      "\u001b[32mTrial 1/5 100%|█████████████████████████████████████████| Time: 0:00:05\u001b[39m\n"
     ]
    },
    {
     "name": "stdout",
     "output_type": "stream",
     "text": [
      "# Finished iter 27 of 100: C after 20 iters, 2 trials. Parity 0. Distortion 0.10.\n",
      "# Finished iter 28 of 100: C after 33 iters, 1 trials. Parity 0. Distortion 0.11.\n",
      "# Finished iter 29 of 100: C after 31 iters, 1 trials. Parity 0. Distortion 0.11.\n",
      "# Finished iter 30 of 100: C after 16 iters, 1 trials. Parity 0. Distortion 0.11.\n"
     ]
    },
    {
     "name": "stderr",
     "output_type": "stream",
     "text": [
      "\u001b[32mTrial 1/5 100%|█████████████████████████████████████████| Time: 0:00:05\u001b[39m\n",
      "\u001b[32mTrial 2/5 100%|█████████████████████████████████████████| Time: 0:00:05\u001b[39m\n",
      "\u001b[32mTrial 3/5 100%|█████████████████████████████████████████| Time: 0:00:05\u001b[39m\n",
      "\u001b[32mTrial 4/5 100%|█████████████████████████████████████████| Time: 0:00:05\u001b[39m\n",
      "\u001b[32mTrial 5/5 100%|█████████████████████████████████████████| Time: 0:00:05\u001b[39m\n"
     ]
    },
    {
     "name": "stdout",
     "output_type": "stream",
     "text": [
      "# Finished iter 31 of 100: U after 200 iters, 5 trials. Parity 1. Distortion 0.50.\n"
     ]
    },
    {
     "name": "stderr",
     "output_type": "stream",
     "text": [
      "\u001b[32mTrial 1/5 100%|█████████████████████████████████████████| Time: 0:00:05\u001b[39m\n"
     ]
    },
    {
     "name": "stdout",
     "output_type": "stream",
     "text": [
      "# Finished iter 32 of 100: C after 28 iters, 2 trials. Parity 0. Distortion 0.10.\n"
     ]
    },
    {
     "name": "stderr",
     "output_type": "stream",
     "text": [
      "\u001b[32mTrial 1/5 100%|█████████████████████████████████████████| Time: 0:00:05\u001b[39m\n"
     ]
    },
    {
     "name": "stdout",
     "output_type": "stream",
     "text": [
      "# Finished iter 33 of 100: C after 21 iters, 2 trials. Parity 0. Distortion 0.11.\n",
      "# Finished iter 34 of 100: C after 24 iters, 1 trials. Parity 0. Distortion 0.11.\n"
     ]
    },
    {
     "name": "stderr",
     "output_type": "stream",
     "text": [
      "\u001b[32mTrial 1/5 100%|█████████████████████████████████████████| Time: 0:00:05\u001b[39m\n",
      "\u001b[32mTrial 2/5 100%|█████████████████████████████████████████| Time: 0:00:05\u001b[39m\n",
      "\u001b[32mTrial 3/5 100%|█████████████████████████████████████████| Time: 0:00:05\u001b[39m\n",
      "\u001b[32mTrial 4/5 100%|█████████████████████████████████████████| Time: 0:00:05\u001b[39m\n",
      "\u001b[32mTrial 5/5 100%|█████████████████████████████████████████| Time: 0:00:05\u001b[39m\n"
     ]
    },
    {
     "name": "stdout",
     "output_type": "stream",
     "text": [
      "# Finished iter 35 of 100: U after 200 iters, 5 trials. Parity 2. Distortion 0.50.\n",
      "# Finished iter 36 of 100: C after 25 iters, 1 trials. Parity 0. Distortion 0.11.\n"
     ]
    },
    {
     "name": "stderr",
     "output_type": "stream",
     "text": [
      "\u001b[32mTrial 1/5 100%|█████████████████████████████████████████| Time: 0:00:05\u001b[39m\n",
      "\u001b[32mTrial 2/5 100%|█████████████████████████████████████████| Time: 0:00:05\u001b[39m\n",
      "\u001b[32mTrial 3/5 100%|█████████████████████████████████████████| Time: 0:00:05\u001b[39m\n",
      "\u001b[32mTrial 4/5 100%|█████████████████████████████████████████| Time: 0:00:05\u001b[39m\n",
      "\u001b[32mTrial 5/5 100%|█████████████████████████████████████████| Time: 0:00:05\u001b[39m\n"
     ]
    },
    {
     "name": "stdout",
     "output_type": "stream",
     "text": [
      "# Finished iter 37 of 100: U after 200 iters, 5 trials. Parity 1. Distortion 0.50.\n"
     ]
    },
    {
     "name": "stderr",
     "output_type": "stream",
     "text": [
      "\u001b[32mTrial 1/5 100%|█████████████████████████████████████████| Time: 0:00:05\u001b[39m\n",
      "\u001b[32mTrial 2/5 100%|█████████████████████████████████████████| Time: 0:00:05\u001b[39m\n",
      "\u001b[32mTrial 3/5 100%|█████████████████████████████████████████| Time: 0:00:05\u001b[39m\n",
      "\u001b[32mTrial 4/5 100%|█████████████████████████████████████████| Time: 0:00:05\u001b[39m\n",
      "\u001b[32mTrial 5/5 100%|█████████████████████████████████████████| Time: 0:00:05\u001b[39m\n"
     ]
    },
    {
     "name": "stdout",
     "output_type": "stream",
     "text": [
      "# Finished iter 45 of 100: U after 200 iters, 5 trials. Parity 2. Distortion 0.50.\n"
     ]
    },
    {
     "name": "stderr",
     "output_type": "stream",
     "text": [
      "\u001b[32mTrial 1/5 100%|█████████████████████████████████████████| Time: 0:00:05\u001b[39m\n",
      "\u001b[32mTrial 2/5 100%|█████████████████████████████████████████| Time: 0:00:05\u001b[39m\n",
      "\u001b[32mTrial 3/5 100%|█████████████████████████████████████████| Time: 0:00:05\u001b[39m\n",
      "\u001b[32mTrial 4/5 100%|█████████████████████████████████████████| Time: 0:00:05\u001b[39m\n",
      "\u001b[32mTrial 5/5 100%|█████████████████████████████████████████| Time: 0:00:05\u001b[39m\n"
     ]
    },
    {
     "name": "stdout",
     "output_type": "stream",
     "text": [
      "# Finished iter 46 of 100: U after 200 iters, 5 trials. Parity 1. Distortion 0.50.\n"
     ]
    },
    {
     "name": "stderr",
     "output_type": "stream",
     "text": [
      "\u001b[32mTrial 1/5 100%|█████████████████████████████████████████| Time: 0:00:05\u001b[39m\n",
      "\u001b[32mTrial 2/5 100%|█████████████████████████████████████████| Time: 0:00:05\u001b[39m\n",
      "\u001b[32mTrial 3/5 100%|█████████████████████████████████████████| Time: 0:00:05\u001b[39m\n",
      "\u001b[32mTrial 4/5 100%|█████████████████████████████████████████| Time: 0:00:05\u001b[39m\n",
      "\u001b[32mTrial 5/5 100%|█████████████████████████████████████████| Time: 0:00:05\u001b[39m\n"
     ]
    },
    {
     "name": "stdout",
     "output_type": "stream",
     "text": [
      "# Finished iter 47 of 100: U after 200 iters, 5 trials. Parity 2. Distortion 0.50.\n"
     ]
    },
    {
     "name": "stderr",
     "output_type": "stream",
     "text": [
      "\u001b[32mTrial 1/5 100%|█████████████████████████████████████████| Time: 0:00:05\u001b[39m\n",
      "\u001b[32mTrial 2/5 100%|█████████████████████████████████████████| Time: 0:00:05\u001b[39m\n",
      "\u001b[32mTrial 3/5 100%|█████████████████████████████████████████| Time: 0:00:05\u001b[39m\n",
      "\u001b[32mTrial 4/5 100%|█████████████████████████████████████████| Time: 0:00:05\u001b[39m\n",
      "\u001b[32mTrial 5/5 100%|█████████████████████████████████████████| Time: 0:00:05\u001b[39m\n"
     ]
    },
    {
     "name": "stdout",
     "output_type": "stream",
     "text": [
      "# Finished iter 48 of 100: U after 200 iters, 5 trials. Parity 3. Distortion 0.50.\n",
      "# Finished iter 49 of 100: C after 19 iters, 1 trials. Parity 0. Distortion 0.11.\n"
     ]
    },
    {
     "name": "stderr",
     "output_type": "stream",
     "text": [
      "\u001b[32mTrial 1/5 100%|█████████████████████████████████████████| Time: 0:00:05\u001b[39m\n",
      "\u001b[32mTrial 2/5 100%|█████████████████████████████████████████| Time: 0:00:05\u001b[39m\n",
      "\u001b[32mTrial 3/5 100%|█████████████████████████████████████████| Time: 0:00:05\u001b[39m\n",
      "\u001b[32mTrial 4/5 100%|█████████████████████████████████████████| Time: 0:00:05\u001b[39m\n",
      "\u001b[32mTrial 5/5 100%|█████████████████████████████████████████| Time: 0:00:05\u001b[39m\n"
     ]
    },
    {
     "name": "stdout",
     "output_type": "stream",
     "text": [
      "# Finished iter 50 of 100: U after 200 iters, 5 trials. Parity 1. Distortion 0.50.\n"
     ]
    },
    {
     "name": "stderr",
     "output_type": "stream",
     "text": [
      "\u001b[32mTrial 1/5 100%|█████████████████████████████████████████| Time: 0:00:05\u001b[39m\n",
      "\u001b[32mTrial 2/5 100%|█████████████████████████████████████████| Time: 0:00:05\u001b[39m\n",
      "\u001b[32mTrial 3/5 100%|█████████████████████████████████████████| Time: 0:00:05\u001b[39m\n",
      "\u001b[32mTrial 4/5 100%|█████████████████████████████████████████| Time: 0:00:05\u001b[39m\n",
      "\u001b[32mTrial 5/5 100%|█████████████████████████████████████████| Time: 0:00:05\u001b[39m\n"
     ]
    },
    {
     "name": "stdout",
     "output_type": "stream",
     "text": [
      "# Finished iter 51 of 100: U after 200 iters, 5 trials. Parity 3. Distortion 0.50.\n"
     ]
    },
    {
     "name": "stderr",
     "output_type": "stream",
     "text": [
      "\u001b[32mTrial 1/5 100%|█████████████████████████████████████████| Time: 0:00:05\u001b[39m\n",
      "\u001b[32mTrial 2/5 100%|█████████████████████████████████████████| Time: 0:00:05\u001b[39m\n",
      "\u001b[32mTrial 3/5 100%|█████████████████████████████████████████| Time: 0:00:05\u001b[39m\n",
      "\u001b[32mTrial 4/5 100%|█████████████████████████████████████████| Time: 0:00:05\u001b[39m\n",
      "\u001b[32mTrial 5/5 100%|█████████████████████████████████████████| Time: 0:00:05\u001b[39m\n"
     ]
    },
    {
     "name": "stdout",
     "output_type": "stream",
     "text": [
      "# Finished iter 52 of 100: U after 200 iters, 5 trials. Parity 1. Distortion 0.50.\n"
     ]
    },
    {
     "name": "stderr",
     "output_type": "stream",
     "text": [
      "\u001b[32mTrial 1/5 100%|█████████████████████████████████████████| Time: 0:00:05\u001b[39m\n"
     ]
    },
    {
     "name": "stdout",
     "output_type": "stream",
     "text": [
      "# Finished iter 53 of 100: C after 35 iters, 2 trials. Parity 0. Distortion 0.11.\n",
      "# Finished iter 54 of 100: C after 27 iters, 1 trials. Parity 0. Distortion 0.12.\n"
     ]
    },
    {
     "name": "stderr",
     "output_type": "stream",
     "text": [
      "\u001b[32mTrial 1/5 100%|█████████████████████████████████████████| Time: 0:00:05\u001b[39m\n",
      "\u001b[32mTrial 2/5 100%|█████████████████████████████████████████| Time: 0:00:05\u001b[39m\n",
      "\u001b[32mTrial 3/5 100%|█████████████████████████████████████████| Time: 0:00:05\u001b[39m\n",
      "\u001b[32mTrial 4/5 100%|█████████████████████████████████████████| Time: 0:00:05\u001b[39m\n",
      "\u001b[32mTrial 5/5 100%|█████████████████████████████████████████| Time: 0:00:05\u001b[39m\n"
     ]
    },
    {
     "name": "stdout",
     "output_type": "stream",
     "text": [
      "# Finished iter 55 of 100: U after 200 iters, 5 trials. Parity 4. Distortion 0.50.\n"
     ]
    },
    {
     "name": "stderr",
     "output_type": "stream",
     "text": [
      "\u001b[32mTrial 1/5 100%|█████████████████████████████████████████| Time: 0:00:05\u001b[39m\n",
      "\u001b[32mTrial 2/5 100%|█████████████████████████████████████████| Time: 0:00:05\u001b[39m\n",
      "\u001b[32mTrial 3/5 100%|█████████████████████████████████████████| Time: 0:00:05\u001b[39m\n",
      "\u001b[32mTrial 4/5 100%|█████████████████████████████████████████| Time: 0:00:05\u001b[39m\n",
      "\u001b[32mTrial 5/5 100%|█████████████████████████████████████████| Time: 0:00:05\u001b[39m\n"
     ]
    },
    {
     "name": "stdout",
     "output_type": "stream",
     "text": [
      "# Finished iter 56 of 100: U after 200 iters, 5 trials. Parity 1. Distortion 0.50.\n"
     ]
    },
    {
     "name": "stderr",
     "output_type": "stream",
     "text": [
      "\u001b[32mTrial 1/5 100%|█████████████████████████████████████████| Time: 0:00:05\u001b[39m\n",
      "\u001b[32mTrial 2/5 100%|█████████████████████████████████████████| Time: 0:00:05\u001b[39m\n",
      "\u001b[32mTrial 3/5 100%|█████████████████████████████████████████| Time: 0:00:05\u001b[39m\n",
      "\u001b[32mTrial 4/5 100%|█████████████████████████████████████████| Time: 0:00:05\u001b[39m\n",
      "\u001b[32mTrial 5/5 100%|█████████████████████████████████████████| Time: 0:00:05\u001b[39m\n"
     ]
    },
    {
     "name": "stdout",
     "output_type": "stream",
     "text": [
      "# Finished iter 57 of 100: U after 200 iters, 5 trials. Parity 2. Distortion 0.50.\n"
     ]
    },
    {
     "name": "stderr",
     "output_type": "stream",
     "text": [
      "\u001b[32mTrial 1/5 100%|█████████████████████████████████████████| Time: 0:00:05\u001b[39m\n",
      "\u001b[32mTrial 2/5 100%|█████████████████████████████████████████| Time: 0:00:05\u001b[39m\n",
      "\u001b[32mTrial 3/5 100%|█████████████████████████████████████████| Time: 0:00:05\u001b[39m\n",
      "\u001b[32mTrial 4/5 100%|█████████████████████████████████████████| Time: 0:00:05\u001b[39m\n",
      "\u001b[32mTrial 5/5 100%|█████████████████████████████████████████| Time: 0:00:05\u001b[39m\n"
     ]
    },
    {
     "name": "stdout",
     "output_type": "stream",
     "text": [
      "# Finished iter 58 of 100: U after 200 iters, 5 trials. Parity 1. Distortion 0.50.\n"
     ]
    },
    {
     "name": "stderr",
     "output_type": "stream",
     "text": [
      "\u001b[32mTrial 1/5 100%|█████████████████████████████████████████| Time: 0:00:05\u001b[39m\n",
      "\u001b[32mTrial 2/5 100%|█████████████████████████████████████████| Time: 0:00:05\u001b[39m\n",
      "\u001b[32mTrial 3/5 100%|█████████████████████████████████████████| Time: 0:00:05\u001b[39m\n",
      "\u001b[32mTrial 4/5 100%|█████████████████████████████████████████| Time: 0:00:05\u001b[39m\n",
      "\u001b[32mTrial 5/5 100%|█████████████████████████████████████████| Time: 0:00:05\u001b[39m\n"
     ]
    },
    {
     "name": "stdout",
     "output_type": "stream",
     "text": [
      "# Finished iter 59 of 100: U after 200 iters, 5 trials. Parity 2. Distortion 0.50.\n"
     ]
    },
    {
     "name": "stderr",
     "output_type": "stream",
     "text": [
      "\r",
      "\u001b[32mTrial 1/5  18%|███████▋                                 |  ETA: 0:00:04\u001b[39m"
     ]
    },
    {
     "name": "stdout",
     "output_type": "stream",
     "text": [
      "# Finished iter 60 of 100: C after 38 iters, 1 trials. Parity 0. Distortion 0.11.\n"
     ]
    },
    {
     "name": "stderr",
     "output_type": "stream",
     "text": [
      "\u001b[32mTrial 1/5 100%|█████████████████████████████████████████| Time: 0:00:05\u001b[39m\n",
      "\u001b[32mTrial 2/5 100%|█████████████████████████████████████████| Time: 0:00:05\u001b[39m\n",
      "\u001b[32mTrial 3/5 100%|█████████████████████████████████████████| Time: 0:00:05\u001b[39m\n",
      "\u001b[32mTrial 4/5 100%|█████████████████████████████████████████| Time: 0:00:05\u001b[39m\n",
      "\u001b[32mTrial 5/5 100%|█████████████████████████████████████████| Time: 0:00:05\u001b[39m\n"
     ]
    },
    {
     "name": "stdout",
     "output_type": "stream",
     "text": [
      "# Finished iter 61 of 100: U after 200 iters, 5 trials. Parity 1. Distortion 0.50.\n"
     ]
    },
    {
     "name": "stderr",
     "output_type": "stream",
     "text": [
      "\u001b[32mTrial 1/5 100%|█████████████████████████████████████████| Time: 0:00:05\u001b[39m\n",
      "\u001b[32mTrial 2/5 100%|█████████████████████████████████████████| Time: 0:00:05\u001b[39m\n",
      "\u001b[32mTrial 3/5 100%|█████████████████████████████████████████| Time: 0:00:05\u001b[39m\n",
      "\u001b[32mTrial 4/5 100%|█████████████████████████████████████████| Time: 0:00:05\u001b[39m\n",
      "\u001b[32mTrial 5/5 100%|█████████████████████████████████████████| Time: 0:00:05\u001b[39m\n"
     ]
    },
    {
     "name": "stdout",
     "output_type": "stream",
     "text": [
      "# Finished iter 62 of 100: U after 200 iters, 5 trials. Parity 2. Distortion 0.50.\n"
     ]
    },
    {
     "name": "stderr",
     "output_type": "stream",
     "text": [
      "\u001b[32mTrial 1/5 100%|█████████████████████████████████████████| Time: 0:00:05\u001b[39m\n",
      "\u001b[32mTrial 2/5 100%|█████████████████████████████████████████| Time: 0:00:05\u001b[39m\n",
      "\u001b[32mTrial 3/5 100%|█████████████████████████████████████████| Time: 0:00:05\u001b[39m\n",
      "\u001b[32mTrial 4/5 100%|█████████████████████████████████████████| Time: 0:00:05\u001b[39m\n",
      "\u001b[32mTrial 5/5 100%|█████████████████████████████████████████| Time: 0:00:05\u001b[39m\n"
     ]
    },
    {
     "name": "stdout",
     "output_type": "stream",
     "text": [
      "# Finished iter 63 of 100: U after 200 iters, 5 trials. Parity 2. Distortion 0.50.\n"
     ]
    },
    {
     "name": "stderr",
     "output_type": "stream",
     "text": [
      "\u001b[32mTrial 1/5 100%|█████████████████████████████████████████| Time: 0:00:05\u001b[39m\n",
      "\u001b[32mTrial 2/5 100%|█████████████████████████████████████████| Time: 0:00:05\u001b[39m\n",
      "\u001b[32mTrial 3/5 100%|█████████████████████████████████████████| Time: 0:00:05\u001b[39m\n",
      "\u001b[32mTrial 4/5 100%|█████████████████████████████████████████| Time: 0:00:05\u001b[39m\n",
      "\u001b[32mTrial 5/5 100%|█████████████████████████████████████████| Time: 0:00:05\u001b[39m\n"
     ]
    },
    {
     "name": "stdout",
     "output_type": "stream",
     "text": [
      "# Finished iter 64 of 100: U after 200 iters, 5 trials. Parity 3. Distortion 0.50.\n"
     ]
    },
    {
     "name": "stderr",
     "output_type": "stream",
     "text": [
      "\u001b[32mTrial 1/5 100%|█████████████████████████████████████████| Time: 0:00:05\u001b[39m\n",
      "\u001b[32mTrial 2/5 100%|█████████████████████████████████████████| Time: 0:00:05\u001b[39m\n",
      "\u001b[32mTrial 3/5 100%|█████████████████████████████████████████| Time: 0:00:05\u001b[39m\n",
      "\u001b[32mTrial 4/5 100%|█████████████████████████████████████████| Time: 0:00:05\u001b[39m\n",
      "\u001b[32mTrial 5/5 100%|█████████████████████████████████████████| Time: 0:00:05\u001b[39m\n"
     ]
    },
    {
     "name": "stdout",
     "output_type": "stream",
     "text": [
      "# Finished iter 65 of 100: U after 200 iters, 5 trials. Parity 4. Distortion 0.50.\n"
     ]
    },
    {
     "name": "stderr",
     "output_type": "stream",
     "text": [
      "\u001b[32mTrial 1/5 100%|█████████████████████████████████████████| Time: 0:00:05\u001b[39m\n",
      "\u001b[32mTrial 2/5 100%|█████████████████████████████████████████| Time: 0:00:05\u001b[39m\n",
      "\u001b[32mTrial 3/5 100%|█████████████████████████████████████████| Time: 0:00:05\u001b[39m\n"
     ]
    },
    {
     "name": "stdout",
     "output_type": "stream",
     "text": [
      "# Finished iter 66 of 100: C after 28 iters, 4 trials. Parity 0. Distortion 0.11.\n"
     ]
    },
    {
     "name": "stderr",
     "output_type": "stream",
     "text": [
      "\u001b[32mTrial 1/5 100%|█████████████████████████████████████████| Time: 0:00:05\u001b[39m\n",
      "\u001b[32mTrial 2/5 100%|█████████████████████████████████████████| Time: 0:00:05\u001b[39m\n",
      "\u001b[32mTrial 3/5 100%|█████████████████████████████████████████| Time: 0:00:05\u001b[39m\n",
      "\u001b[32mTrial 4/5 100%|█████████████████████████████████████████| Time: 0:00:05\u001b[39m\n",
      "\u001b[32mTrial 5/5 100%|█████████████████████████████████████████| Time: 0:00:05\u001b[39m\n"
     ]
    },
    {
     "name": "stdout",
     "output_type": "stream",
     "text": [
      "# Finished iter 67 of 100: U after 200 iters, 5 trials. Parity 1. Distortion 0.50.\n"
     ]
    },
    {
     "name": "stderr",
     "output_type": "stream",
     "text": [
      "\u001b[32mTrial 1/5 100%|█████████████████████████████████████████| Time: 0:00:05\u001b[39m\n",
      "\u001b[32mTrial 2/5 100%|█████████████████████████████████████████| Time: 0:00:05\u001b[39m\n",
      "\u001b[32mTrial 3/5 100%|█████████████████████████████████████████| Time: 0:00:05\u001b[39m\n",
      "\u001b[32mTrial 4/5 100%|█████████████████████████████████████████| Time: 0:00:05\u001b[39m\n",
      "\u001b[32mTrial 5/5 100%|█████████████████████████████████████████| Time: 0:00:05\u001b[39m\n"
     ]
    },
    {
     "name": "stdout",
     "output_type": "stream",
     "text": [
      "# Finished iter 68 of 100: U after 200 iters, 5 trials. Parity 1. Distortion 0.50.\n"
     ]
    },
    {
     "name": "stderr",
     "output_type": "stream",
     "text": [
      "\u001b[32mTrial 1/5 100%|█████████████████████████████████████████| Time: 0:00:05\u001b[39m\n",
      "\u001b[32mTrial 2/5 100%|█████████████████████████████████████████| Time: 0:00:05\u001b[39m\n",
      "\u001b[32mTrial 3/5  18%|███████▍                                 |  ETA: 0:00:05\u001b[39m"
     ]
    },
    {
     "name": "stdout",
     "output_type": "stream",
     "text": [
      "# Finished iter 69 of 100: C after 45 iters, 3 trials. Parity 0. Distortion 0.10.\n"
     ]
    },
    {
     "name": "stderr",
     "output_type": "stream",
     "text": [
      "\u001b[32mTrial 1/5 100%|█████████████████████████████████████████| Time: 0:00:05\u001b[39m\n",
      "\u001b[32mTrial 2/5 100%|█████████████████████████████████████████| Time: 0:00:05\u001b[39m\n",
      "\u001b[32mTrial 3/5 100%|█████████████████████████████████████████| Time: 0:00:05\u001b[39m\n",
      "\u001b[32mTrial 4/5 100%|█████████████████████████████████████████| Time: 0:00:05\u001b[39m\n",
      "\u001b[32mTrial 5/5 100%|█████████████████████████████████████████| Time: 0:00:05\u001b[39m\n"
     ]
    },
    {
     "name": "stdout",
     "output_type": "stream",
     "text": [
      "# Finished iter 70 of 100: U after 200 iters, 5 trials. Parity 3. Distortion 0.50.\n",
      "# Finished iter 71 of 100: C after 19 iters, 1 trials. Parity 0. Distortion 0.10.\n"
     ]
    },
    {
     "name": "stderr",
     "output_type": "stream",
     "text": [
      "\u001b[32mTrial 1/5 100%|█████████████████████████████████████████| Time: 0:00:05\u001b[39m\n",
      "\u001b[32mTrial 2/5 100%|█████████████████████████████████████████| Time: 0:00:05\u001b[39m\n",
      "\u001b[32mTrial 3/5 100%|█████████████████████████████████████████| Time: 0:00:05\u001b[39m\n",
      "\u001b[32mTrial 4/5 100%|█████████████████████████████████████████| Time: 0:00:05\u001b[39m\n",
      "\u001b[32mTrial 5/5 100%|█████████████████████████████████████████| Time: 0:00:05\u001b[39m\n"
     ]
    },
    {
     "name": "stdout",
     "output_type": "stream",
     "text": [
      "# Finished iter 72 of 100: U after 200 iters, 5 trials. Parity 3. Distortion 0.50.\n"
     ]
    },
    {
     "name": "stderr",
     "output_type": "stream",
     "text": [
      "\u001b[32mTrial 1/5 100%|█████████████████████████████████████████| Time: 0:00:05\u001b[39m\n",
      "\u001b[32mTrial 2/5 100%|█████████████████████████████████████████| Time: 0:00:05\u001b[39m\n",
      "\u001b[32mTrial 3/5 100%|█████████████████████████████████████████| Time: 0:00:05\u001b[39m\n",
      "\u001b[32mTrial 4/5 100%|█████████████████████████████████████████| Time: 0:00:05\u001b[39m\n",
      "\u001b[32mTrial 5/5 100%|█████████████████████████████████████████| Time: 0:00:05\u001b[39m\n"
     ]
    },
    {
     "name": "stdout",
     "output_type": "stream",
     "text": [
      "# Finished iter 73 of 100: U after 200 iters, 5 trials. Parity 1. Distortion 0.50.\n",
      "# Finished iter 74 of 100: C after 25 iters, 1 trials. Parity 0. Distortion 0.11.\n"
     ]
    },
    {
     "name": "stderr",
     "output_type": "stream",
     "text": [
      "\u001b[32mTrial 1/5 100%|█████████████████████████████████████████| Time: 0:00:05\u001b[39m\n"
     ]
    },
    {
     "name": "stdout",
     "output_type": "stream",
     "text": [
      "# Finished iter 75 of 100: C after 17 iters, 2 trials. Parity 0. Distortion 0.10.\n"
     ]
    },
    {
     "name": "stderr",
     "output_type": "stream",
     "text": [
      "\u001b[32mTrial 1/5 100%|█████████████████████████████████████████| Time: 0:00:05\u001b[39m\n"
     ]
    },
    {
     "name": "stdout",
     "output_type": "stream",
     "text": [
      "# Finished iter 76 of 100: C after 22 iters, 2 trials. Parity 0. Distortion 0.12.\n"
     ]
    },
    {
     "name": "stderr",
     "output_type": "stream",
     "text": [
      "\u001b[32mTrial 1/5 100%|█████████████████████████████████████████| Time: 0:00:05\u001b[39m\n",
      "\u001b[32mTrial 2/5 100%|█████████████████████████████████████████| Time: 0:00:05\u001b[39m\n",
      "\u001b[32mTrial 3/5 100%|█████████████████████████████████████████| Time: 0:00:05\u001b[39m\n",
      "\u001b[32mTrial 4/5 100%|█████████████████████████████████████████| Time: 0:00:05\u001b[39m\n",
      "\u001b[32mTrial 5/5 100%|█████████████████████████████████████████| Time: 0:00:05\u001b[39m\n"
     ]
    },
    {
     "name": "stdout",
     "output_type": "stream",
     "text": [
      "# Finished iter 77 of 100: U after 200 iters, 5 trials. Parity 1. Distortion 0.50.\n"
     ]
    },
    {
     "name": "stderr",
     "output_type": "stream",
     "text": [
      "\u001b[32mTrial 1/5 100%|█████████████████████████████████████████| Time: 0:00:05\u001b[39m\n",
      "\u001b[32mTrial 2/5 100%|█████████████████████████████████████████| Time: 0:00:05\u001b[39m\n",
      "\u001b[32mTrial 3/5 100%|█████████████████████████████████████████| Time: 0:00:05\u001b[39m\n",
      "\u001b[32mTrial 4/5 100%|█████████████████████████████████████████| Time: 0:00:05\u001b[39m\n",
      "\u001b[32mTrial 5/5 100%|█████████████████████████████████████████| Time: 0:00:05\u001b[39m\n"
     ]
    },
    {
     "name": "stdout",
     "output_type": "stream",
     "text": [
      "# Finished iter 78 of 100: U after 200 iters, 5 trials. Parity 3. Distortion 0.50.\n",
      "# Finished iter 79 of 100: C after 13 iters, 1 trials. Parity 0. Distortion 0.11.\n"
     ]
    },
    {
     "name": "stderr",
     "output_type": "stream",
     "text": [
      "\u001b[32mTrial 1/5 100%|█████████████████████████████████████████| Time: 0:00:05\u001b[39m\n",
      "\u001b[32mTrial 2/5 100%|█████████████████████████████████████████| Time: 0:00:05\u001b[39m\n",
      "\u001b[32mTrial 3/5 100%|█████████████████████████████████████████| Time: 0:00:05\u001b[39m\n",
      "\u001b[32mTrial 4/5 100%|█████████████████████████████████████████| Time: 0:00:05\u001b[39m\n",
      "\u001b[32mTrial 5/5 100%|█████████████████████████████████████████| Time: 0:00:05\u001b[39m\n"
     ]
    },
    {
     "name": "stdout",
     "output_type": "stream",
     "text": [
      "# Finished iter 80 of 100: U after 200 iters, 5 trials. Parity 2. Distortion 0.50.\n"
     ]
    },
    {
     "name": "stderr",
     "output_type": "stream",
     "text": [
      "\u001b[32mTrial 1/5 100%|█████████████████████████████████████████| Time: 0:00:05\u001b[39m\n",
      "\u001b[32mTrial 2/5 100%|█████████████████████████████████████████| Time: 0:00:05\u001b[39m\n",
      "\u001b[32mTrial 3/5 100%|█████████████████████████████████████████| Time: 0:00:05\u001b[39m\n",
      "\u001b[32mTrial 4/5 100%|█████████████████████████████████████████| Time: 0:00:05\u001b[39m\n",
      "\u001b[32mTrial 5/5 100%|█████████████████████████████████████████| Time: 0:00:05\u001b[39m\n"
     ]
    },
    {
     "name": "stdout",
     "output_type": "stream",
     "text": [
      "# Finished iter 81 of 100: U after 200 iters, 5 trials. Parity 1. Distortion 0.50.\n"
     ]
    },
    {
     "name": "stderr",
     "output_type": "stream",
     "text": [
      "\u001b[32mTrial 1/5 100%|█████████████████████████████████████████| Time: 0:00:05\u001b[39m\n",
      "\u001b[32mTrial 2/5 100%|█████████████████████████████████████████| Time: 0:00:05\u001b[39m\n",
      "\u001b[32mTrial 3/5 100%|█████████████████████████████████████████| Time: 0:00:05\u001b[39m\n",
      "\u001b[32mTrial 4/5 100%|█████████████████████████████████████████| Time: 0:00:05\u001b[39m\n",
      "\u001b[32mTrial 5/5 100%|█████████████████████████████████████████| Time: 0:00:05\u001b[39m\n"
     ]
    },
    {
     "name": "stdout",
     "output_type": "stream",
     "text": [
      "# Finished iter 82 of 100: U after 200 iters, 5 trials. Parity 2. Distortion 0.50.\n"
     ]
    },
    {
     "name": "stderr",
     "output_type": "stream",
     "text": [
      "\u001b[32mTrial 1/5 100%|█████████████████████████████████████████| Time: 0:00:05\u001b[39m\n"
     ]
    },
    {
     "name": "stdout",
     "output_type": "stream",
     "text": [
      "# Finished iter 83 of 100: C after 33 iters, 2 trials. Parity 0. Distortion 0.10.\n"
     ]
    },
    {
     "name": "stderr",
     "output_type": "stream",
     "text": [
      "\u001b[32mTrial 1/5 100%|█████████████████████████████████████████| Time: 0:00:05\u001b[39m\n",
      "\u001b[32mTrial 2/5 100%|█████████████████████████████████████████| Time: 0:00:05\u001b[39m\n",
      "\u001b[32mTrial 3/5 100%|█████████████████████████████████████████| Time: 0:00:05\u001b[39m\n",
      "\u001b[32mTrial 4/5 100%|█████████████████████████████████████████| Time: 0:00:05\u001b[39m\n",
      "\u001b[32mTrial 5/5 100%|█████████████████████████████████████████| Time: 0:00:05\u001b[39m\n"
     ]
    },
    {
     "name": "stdout",
     "output_type": "stream",
     "text": [
      "# Finished iter 84 of 100: U after 200 iters, 5 trials. Parity 3. Distortion 0.50.\n",
      "# Finished iter 85 of 100: C after 16 iters, 1 trials. Parity 0. Distortion 0.10.\n"
     ]
    },
    {
     "name": "stderr",
     "output_type": "stream",
     "text": [
      "\u001b[32mTrial 1/5 100%|█████████████████████████████████████████| Time: 0:00:05\u001b[39m\n",
      "\u001b[32mTrial 2/5 100%|█████████████████████████████████████████| Time: 0:00:05\u001b[39m\n",
      "\u001b[32mTrial 3/5 100%|█████████████████████████████████████████| Time: 0:00:05\u001b[39m\n",
      "\u001b[32mTrial 4/5 100%|█████████████████████████████████████████| Time: 0:00:05\u001b[39m\n",
      "\u001b[32mTrial 5/5 100%|█████████████████████████████████████████| Time: 0:00:05\u001b[39m\n"
     ]
    },
    {
     "name": "stdout",
     "output_type": "stream",
     "text": [
      "# Finished iter 86 of 100: U after 200 iters, 5 trials. Parity 2. Distortion 0.50.\n",
      "# Finished iter 87 of 100: C after 27 iters, 1 trials. Parity 0. Distortion 0.11.\n"
     ]
    },
    {
     "name": "stderr",
     "output_type": "stream",
     "text": [
      "\r",
      "\u001b[32mTrial 1/5  18%|███████▋                                 |  ETA: 0:00:05\u001b[39m"
     ]
    },
    {
     "name": "stdout",
     "output_type": "stream",
     "text": [
      "# Finished iter 88 of 100: C after 62 iters, 1 trials. Parity 0. Distortion 0.11.\n"
     ]
    },
    {
     "name": "stderr",
     "output_type": "stream",
     "text": [
      "\u001b[32mTrial 1/5 100%|█████████████████████████████████████████| Time: 0:00:05\u001b[39m\n",
      "\u001b[32mTrial 2/5 100%|█████████████████████████████████████████| Time: 0:00:05\u001b[39m\n",
      "\u001b[32mTrial 3/5 100%|█████████████████████████████████████████| Time: 0:00:05\u001b[39m\n",
      "\u001b[32mTrial 4/5 100%|█████████████████████████████████████████| Time: 0:00:05\u001b[39m\n",
      "\u001b[32mTrial 5/5 100%|█████████████████████████████████████████| Time: 0:00:05\u001b[39m\n"
     ]
    },
    {
     "name": "stdout",
     "output_type": "stream",
     "text": [
      "# Finished iter 89 of 100: U after 200 iters, 5 trials. Parity 3. Distortion 0.50.\n"
     ]
    },
    {
     "name": "stderr",
     "output_type": "stream",
     "text": [
      "\r",
      "\u001b[32mTrial 1/5  16%|██████▌                                  |  ETA: 0:00:05\u001b[39m"
     ]
    },
    {
     "name": "stdout",
     "output_type": "stream",
     "text": [
      "# Finished iter 90 of 100: C after 41 iters, 1 trials. Parity 0. Distortion 0.10.\n"
     ]
    },
    {
     "name": "stderr",
     "output_type": "stream",
     "text": [
      "\u001b[32mTrial 1/5 100%|█████████████████████████████████████████| Time: 0:00:05\u001b[39m\n",
      "\u001b[32mTrial 2/5 100%|█████████████████████████████████████████| Time: 0:00:05\u001b[39m\n",
      "\u001b[32mTrial 3/5 100%|█████████████████████████████████████████| Time: 0:00:05\u001b[39m\n",
      "\u001b[32mTrial 4/5 100%|█████████████████████████████████████████| Time: 0:00:05\u001b[39m\n",
      "\u001b[32mTrial 5/5 100%|█████████████████████████████████████████| Time: 0:00:05\u001b[39m\n"
     ]
    },
    {
     "name": "stdout",
     "output_type": "stream",
     "text": [
      "# Finished iter 91 of 100: U after 200 iters, 5 trials. Parity 1. Distortion 0.50.\n"
     ]
    },
    {
     "name": "stderr",
     "output_type": "stream",
     "text": [
      "\u001b[32mTrial 1/5 100%|█████████████████████████████████████████| Time: 0:00:05\u001b[39m\n",
      "\u001b[32mTrial 2/5 100%|█████████████████████████████████████████| Time: 0:00:05\u001b[39m\n",
      "\u001b[32mTrial 3/5 100%|█████████████████████████████████████████| Time: 0:00:05\u001b[39m\n",
      "\u001b[32mTrial 4/5 100%|█████████████████████████████████████████| Time: 0:00:05\u001b[39m\n",
      "\u001b[32mTrial 5/5 100%|█████████████████████████████████████████| Time: 0:00:05\u001b[39m\n"
     ]
    },
    {
     "name": "stdout",
     "output_type": "stream",
     "text": [
      "# Finished iter 92 of 100: U after 200 iters, 5 trials. Parity 3. Distortion 0.50.\n"
     ]
    },
    {
     "name": "stderr",
     "output_type": "stream",
     "text": [
      "\u001b[32mTrial 1/5 100%|█████████████████████████████████████████| Time: 0:00:05\u001b[39m\n",
      "\u001b[32mTrial 2/5 100%|█████████████████████████████████████████| Time: 0:00:05\u001b[39m\n",
      "\u001b[32mTrial 3/5 100%|█████████████████████████████████████████| Time: 0:00:05\u001b[39m\n",
      "\u001b[32mTrial 4/5  18%|███████▍                                 |  ETA: 0:00:05\u001b[39m"
     ]
    },
    {
     "name": "stdout",
     "output_type": "stream",
     "text": [
      "# Finished iter 93 of 100: C after 52 iters, 4 trials. Parity 0. Distortion 0.11.\n"
     ]
    },
    {
     "name": "stderr",
     "output_type": "stream",
     "text": [
      "\u001b[32mTrial 1/5 100%|█████████████████████████████████████████| Time: 0:00:05\u001b[39m\n",
      "\u001b[32mTrial 2/5 100%|█████████████████████████████████████████| Time: 0:00:05\u001b[39m\n",
      "\u001b[32mTrial 3/5 100%|█████████████████████████████████████████| Time: 0:00:05\u001b[39m\n",
      "\u001b[32mTrial 4/5 100%|█████████████████████████████████████████| Time: 0:00:05\u001b[39m\n",
      "\u001b[32mTrial 5/5 100%|█████████████████████████████████████████| Time: 0:00:05\u001b[39m\n"
     ]
    },
    {
     "name": "stdout",
     "output_type": "stream",
     "text": [
      "# Finished iter 94 of 100: U after 200 iters, 5 trials. Parity 2. Distortion 0.50.\n"
     ]
    },
    {
     "name": "stderr",
     "output_type": "stream",
     "text": [
      "\u001b[32mTrial 1/5 100%|█████████████████████████████████████████| Time: 0:00:05\u001b[39m\n",
      "\u001b[32mTrial 2/5 100%|█████████████████████████████████████████| Time: 0:00:05\u001b[39m\n",
      "\u001b[32mTrial 3/5 100%|█████████████████████████████████████████| Time: 0:00:05\u001b[39m\n",
      "\u001b[32mTrial 4/5 100%|█████████████████████████████████████████| Time: 0:00:05\u001b[39m\n",
      "\u001b[32mTrial 5/5 100%|█████████████████████████████████████████| Time: 0:00:05\u001b[39m\n"
     ]
    },
    {
     "name": "stdout",
     "output_type": "stream",
     "text": [
      "# Finished iter 95 of 100: U after 200 iters, 5 trials. Parity 2. Distortion 0.50.\n"
     ]
    },
    {
     "name": "stderr",
     "output_type": "stream",
     "text": [
      "\r",
      "\u001b[32mTrial 1/5  18%|███████▋                                 |  ETA: 0:00:05\u001b[39m"
     ]
    },
    {
     "name": "stdout",
     "output_type": "stream",
     "text": [
      "# Finished iter 96 of 100: C after 53 iters, 1 trials. Parity 0. Distortion 0.10.\n"
     ]
    },
    {
     "name": "stderr",
     "output_type": "stream",
     "text": [
      "\u001b[32mTrial 1/5 100%|█████████████████████████████████████████| Time: 0:00:05\u001b[39m\n",
      "\u001b[32mTrial 2/5 100%|█████████████████████████████████████████| Time: 0:00:05\u001b[39m\n",
      "\u001b[32mTrial 3/5 100%|█████████████████████████████████████████| Time: 0:00:05\u001b[39m\n",
      "\u001b[32mTrial 4/5 100%|█████████████████████████████████████████| Time: 0:00:05\u001b[39m\n",
      "\u001b[32mTrial 5/5 100%|█████████████████████████████████████████| Time: 0:00:05\u001b[39m\n"
     ]
    },
    {
     "name": "stdout",
     "output_type": "stream",
     "text": [
      "# Finished iter 97 of 100: U after 200 iters, 5 trials. Parity 3. Distortion 0.50.\n"
     ]
    },
    {
     "name": "stderr",
     "output_type": "stream",
     "text": [
      "\u001b[32mTrial 1/5 100%|█████████████████████████████████████████| Time: 0:00:05\u001b[39m\n",
      "\u001b[32mTrial 2/5 100%|█████████████████████████████████████████| Time: 0:00:05\u001b[39m\n",
      "\u001b[32mTrial 3/5 100%|█████████████████████████████████████████| Time: 0:00:05\u001b[39m\n",
      "\u001b[32mTrial 4/5 100%|█████████████████████████████████████████| Time: 0:00:05\u001b[39m\n",
      "\u001b[32mTrial 5/5 100%|█████████████████████████████████████████| Time: 0:00:05\u001b[39m\n"
     ]
    },
    {
     "name": "stdout",
     "output_type": "stream",
     "text": [
      "# Finished iter 98 of 100: U after 200 iters, 5 trials. Parity 1. Distortion 0.50.\n"
     ]
    },
    {
     "name": "stderr",
     "output_type": "stream",
     "text": [
      "\u001b[32mTrial 1/5 100%|█████████████████████████████████████████| Time: 0:00:05\u001b[39m\n",
      "\u001b[32mTrial 2/5 100%|█████████████████████████████████████████| Time: 0:00:05\u001b[39m\n",
      "\u001b[32mTrial 3/5 100%|█████████████████████████████████████████| Time: 0:00:05\u001b[39m\n",
      "\u001b[32mTrial 4/5 100%|█████████████████████████████████████████| Time: 0:00:05\u001b[39m\n",
      "\u001b[32mTrial 5/5 100%|█████████████████████████████████████████| Time: 0:00:05\u001b[39m\n"
     ]
    },
    {
     "name": "stdout",
     "output_type": "stream",
     "text": [
      "# Finished iter 99 of 100: U after 200 iters, 5 trials. Parity 2. Distortion 0.50.\n"
     ]
    },
    {
     "name": "stderr",
     "output_type": "stream",
     "text": [
      "\u001b[32mTrial 1/5 100%|█████████████████████████████████████████| Time: 0:00:05\u001b[39m\n",
      "\u001b[32mTrial 2/5 100%|█████████████████████████████████████████| Time: 0:00:05\u001b[39m\n",
      "\u001b[32mTrial 3/5 100%|█████████████████████████████████████████| Time: 0:00:05\u001b[39m\n",
      "\u001b[32mTrial 4/5 100%|█████████████████████████████████████████| Time: 0:00:05\u001b[39m\n",
      "\u001b[32mTrial 5/5 100%|█████████████████████████████████████████| Time: 0:00:05\u001b[39m\n"
     ]
    },
    {
     "name": "stdout",
     "output_type": "stream",
     "text": [
      "# Finished iter 100 of 100: U after 200 iters, 5 trials. Parity 1. Distortion 0.50.\n",
      "##### b=20. 5 of 9 #####\n"
     ]
    },
    {
     "name": "stderr",
     "output_type": "stream",
     "text": [
      "\u001b[32mTrial 1/5 100%|█████████████████████████████████████████| Time: 0:00:05\u001b[39m\n",
      "\u001b[32mTrial 2/5 100%|█████████████████████████████████████████| Time: 0:00:05\u001b[39m\n",
      "\u001b[32mTrial 3/5 100%|█████████████████████████████████████████| Time: 0:00:05\u001b[39m\n",
      "\u001b[32mTrial 4/5 100%|█████████████████████████████████████████| Time: 0:00:05\u001b[39m\n",
      "\u001b[32mTrial 5/5 100%|█████████████████████████████████████████| Time: 0:00:05\u001b[39m\n"
     ]
    },
    {
     "name": "stdout",
     "output_type": "stream",
     "text": [
      "# Finished iter 1 of 100: U after 200 iters, 5 trials. Parity 1. Distortion 0.50.\n",
      "# Finished iter 2 of 100: C after 17 iters, 1 trials. Parity 0. Distortion 0.12.\n"
     ]
    },
    {
     "name": "stderr",
     "output_type": "stream",
     "text": [
      "\u001b[32mTrial 1/5 100%|█████████████████████████████████████████| Time: 0:00:05\u001b[39m\n",
      "\u001b[32mTrial 2/5 100%|█████████████████████████████████████████| Time: 0:00:05\u001b[39m\n"
     ]
    },
    {
     "name": "stdout",
     "output_type": "stream",
     "text": [
      "# Finished iter 3 of 100: C after 10 iters, 3 trials. Parity 0. Distortion 0.11.\n",
      "# Finished iter 4 of 100: C after 25 iters, 1 trials. Parity 0. Distortion 0.11.\n",
      "# Finished iter 5 of 100: C after 25 iters, 1 trials. Parity 0. Distortion 0.11.\n"
     ]
    },
    {
     "name": "stderr",
     "output_type": "stream",
     "text": [
      "\u001b[32mTrial 1/5 100%|█████████████████████████████████████████| Time: 0:00:05\u001b[39m\n",
      "\u001b[32mTrial 2/5  19%|███████▊                                 |  ETA: 0:00:04\u001b[39m"
     ]
    },
    {
     "name": "stdout",
     "output_type": "stream",
     "text": [
      "# Finished iter 6 of 100: C after 50 iters, 2 trials. Parity 0. Distortion 0.11.\n"
     ]
    },
    {
     "name": "stderr",
     "output_type": "stream",
     "text": [
      "\u001b[32mTrial 1/5 100%|█████████████████████████████████████████| Time: 0:00:05\u001b[39m\n",
      "\u001b[32mTrial 2/5 100%|█████████████████████████████████████████| Time: 0:00:05\u001b[39m\n",
      "\u001b[32mTrial 3/5 100%|█████████████████████████████████████████| Time: 0:00:05\u001b[39m\n"
     ]
    },
    {
     "name": "stdout",
     "output_type": "stream",
     "text": [
      "# Finished iter 7 of 100: C after 14 iters, 4 trials. Parity 0. Distortion 0.10.\n",
      "# Finished iter 8 of 100: C after 16 iters, 1 trials. Parity 0. Distortion 0.11.\n",
      "# Finished iter 9 of 100: C after 15 iters, 1 trials. Parity 0. Distortion 0.10.\n",
      "# Finished iter 10 of 100: C after 35 iters, 1 trials. Parity 0. Distortion 0.11.\n"
     ]
    },
    {
     "name": "stderr",
     "output_type": "stream",
     "text": [
      "\u001b[32mTrial 1/5 100%|█████████████████████████████████████████| Time: 0:00:05\u001b[39m\n",
      "\u001b[32mTrial 2/5 100%|█████████████████████████████████████████| Time: 0:00:05\u001b[39m\n",
      "\u001b[32mTrial 3/5 100%|█████████████████████████████████████████| Time: 0:00:05\u001b[39m\n",
      "\u001b[32mTrial 4/5 100%|█████████████████████████████████████████| Time: 0:00:05\u001b[39m\n",
      "\u001b[32mTrial 5/5 100%|█████████████████████████████████████████| Time: 0:00:05\u001b[39m\n"
     ]
    },
    {
     "name": "stdout",
     "output_type": "stream",
     "text": [
      "# Finished iter 11 of 100: U after 200 iters, 5 trials. Parity 1. Distortion 0.50.\n"
     ]
    },
    {
     "name": "stderr",
     "output_type": "stream",
     "text": [
      "\u001b[32mTrial 1/5 100%|█████████████████████████████████████████| Time: 0:00:05\u001b[39m\n",
      "\u001b[32mTrial 2/5 100%|█████████████████████████████████████████| Time: 0:00:05\u001b[39m\n",
      "\u001b[32mTrial 3/5 100%|█████████████████████████████████████████| Time: 0:00:05\u001b[39m\n",
      "\u001b[32mTrial 4/5 100%|█████████████████████████████████████████| Time: 0:00:05\u001b[39m\n",
      "\u001b[32mTrial 5/5 100%|█████████████████████████████████████████| Time: 0:00:05\u001b[39m\n"
     ]
    },
    {
     "name": "stdout",
     "output_type": "stream",
     "text": [
      "# Finished iter 12 of 100: U after 200 iters, 5 trials. Parity 2. Distortion 0.50.\n"
     ]
    },
    {
     "name": "stderr",
     "output_type": "stream",
     "text": [
      "\u001b[32mTrial 1/5 100%|█████████████████████████████████████████| Time: 0:00:05\u001b[39m\n",
      "\u001b[32mTrial 2/5 100%|█████████████████████████████████████████| Time: 0:00:05\u001b[39m\n",
      "\u001b[32mTrial 3/5 100%|█████████████████████████████████████████| Time: 0:00:05\u001b[39m\n",
      "\u001b[32mTrial 4/5 100%|█████████████████████████████████████████| Time: 0:00:05\u001b[39m\n",
      "\u001b[32mTrial 5/5 100%|█████████████████████████████████████████| Time: 0:00:05\u001b[39m\n"
     ]
    },
    {
     "name": "stdout",
     "output_type": "stream",
     "text": [
      "# Finished iter 13 of 100: U after 200 iters, 5 trials. Parity 1. Distortion 0.50.\n",
      "# Finished iter 14 of 100: C after 17 iters, 1 trials. Parity 0. Distortion 0.11.\n",
      "# Finished iter 15 of 100: C after 21 iters, 1 trials. Parity 0. Distortion 0.11.\n",
      "# Finished iter 16 of 100: C after 20 iters, 1 trials. Parity 0. Distortion 0.11.\n",
      "# Finished iter 17 of 100: C after 14 iters, 1 trials. Parity 0. Distortion 0.11.\n",
      "# Finished iter 18 of 100: C after 25 iters, 1 trials. Parity 0. Distortion 0.11.\n"
     ]
    },
    {
     "name": "stderr",
     "output_type": "stream",
     "text": [
      "\u001b[32mTrial 1/5 100%|█████████████████████████████████████████| Time: 0:00:05\u001b[39m\n"
     ]
    },
    {
     "name": "stdout",
     "output_type": "stream",
     "text": [
      "# Finished iter 19 of 100: C after 9 iters, 2 trials. Parity 0. Distortion 0.10.\n"
     ]
    },
    {
     "name": "stderr",
     "output_type": "stream",
     "text": [
      "\u001b[32mTrial 1/5 100%|█████████████████████████████████████████| Time: 0:00:05\u001b[39m\n",
      "\u001b[32mTrial 2/5 100%|█████████████████████████████████████████| Time: 0:00:05\u001b[39m\n"
     ]
    },
    {
     "name": "stdout",
     "output_type": "stream",
     "text": [
      "# Finished iter 20 of 100: C after 15 iters, 3 trials. Parity 0. Distortion 0.11.\n"
     ]
    },
    {
     "name": "stderr",
     "output_type": "stream",
     "text": [
      "\u001b[32mTrial 1/5 100%|█████████████████████████████████████████| Time: 0:00:05\u001b[39m\n",
      "\u001b[32mTrial 2/5 100%|█████████████████████████████████████████| Time: 0:00:05\u001b[39m\n",
      "\u001b[32mTrial 3/5 100%|█████████████████████████████████████████| Time: 0:00:05\u001b[39m\n",
      "\u001b[32mTrial 4/5 100%|█████████████████████████████████████████| Time: 0:00:05\u001b[39m\n",
      "\u001b[32mTrial 5/5 100%|█████████████████████████████████████████| Time: 0:00:05\u001b[39m\n"
     ]
    },
    {
     "name": "stdout",
     "output_type": "stream",
     "text": [
      "# Finished iter 21 of 100: U after 200 iters, 5 trials. Parity 1. Distortion 0.50.\n"
     ]
    },
    {
     "name": "stderr",
     "output_type": "stream",
     "text": [
      "\u001b[32mTrial 1/5 100%|█████████████████████████████████████████| Time: 0:00:05\u001b[39m\n"
     ]
    },
    {
     "name": "stdout",
     "output_type": "stream",
     "text": [
      "# Finished iter 22 of 100: C after 22 iters, 2 trials. Parity 0. Distortion 0.12.\n"
     ]
    },
    {
     "name": "stderr",
     "output_type": "stream",
     "text": [
      "\u001b[32mTrial 1/5 100%|█████████████████████████████████████████| Time: 0:00:05\u001b[39m\n",
      "\u001b[32mTrial 2/5 100%|█████████████████████████████████████████| Time: 0:00:05\u001b[39m\n",
      "\u001b[32mTrial 3/5 100%|█████████████████████████████████████████| Time: 0:00:05\u001b[39m\n",
      "\u001b[32mTrial 4/5 100%|█████████████████████████████████████████| Time: 0:00:05\u001b[39m\n",
      "\u001b[32mTrial 5/5 100%|█████████████████████████████████████████| Time: 0:00:05\u001b[39m\n"
     ]
    },
    {
     "name": "stdout",
     "output_type": "stream",
     "text": [
      "# Finished iter 23 of 100: U after 200 iters, 5 trials. Parity 1. Distortion 0.50.\n",
      "# Finished iter 24 of 100: C after 17 iters, 1 trials. Parity 0. Distortion 0.11.\n"
     ]
    },
    {
     "name": "stderr",
     "output_type": "stream",
     "text": [
      "\u001b[32mTrial 1/5 100%|█████████████████████████████████████████| Time: 0:00:05\u001b[39m\n"
     ]
    },
    {
     "name": "stdout",
     "output_type": "stream",
     "text": [
      "# Finished iter 25 of 100: C after 17 iters, 2 trials. Parity 0. Distortion 0.12.\n",
      "# Finished iter 26 of 100: C after 19 iters, 1 trials. Parity 0. Distortion 0.11.\n"
     ]
    },
    {
     "name": "stderr",
     "output_type": "stream",
     "text": [
      "\u001b[32mTrial 1/5 100%|█████████████████████████████████████████| Time: 0:00:05\u001b[39m\n",
      "\u001b[32mTrial 2/5 100%|█████████████████████████████████████████| Time: 0:00:05\u001b[39m\n",
      "\u001b[32mTrial 3/5 100%|█████████████████████████████████████████| Time: 0:00:05\u001b[39m\n",
      "\u001b[32mTrial 4/5 100%|█████████████████████████████████████████| Time: 0:00:05\u001b[39m\n",
      "\u001b[32mTrial 5/5 100%|█████████████████████████████████████████| Time: 0:00:05\u001b[39m\n"
     ]
    },
    {
     "name": "stdout",
     "output_type": "stream",
     "text": [
      "# Finished iter 27 of 100: U after 200 iters, 5 trials. Parity 1. Distortion 0.50.\n"
     ]
    },
    {
     "name": "stderr",
     "output_type": "stream",
     "text": [
      "\u001b[32mTrial 1/5 100%|█████████████████████████████████████████| Time: 0:00:05\u001b[39m\n",
      "\u001b[32mTrial 2/5 100%|█████████████████████████████████████████| Time: 0:00:05\u001b[39m\n"
     ]
    },
    {
     "name": "stdout",
     "output_type": "stream",
     "text": [
      "# Finished iter 28 of 100: C after 22 iters, 3 trials. Parity 0. Distortion 0.11.\n"
     ]
    },
    {
     "name": "stderr",
     "output_type": "stream",
     "text": [
      "\u001b[32mTrial 1/5 100%|█████████████████████████████████████████| Time: 0:00:05\u001b[39m\n",
      "\u001b[32mTrial 2/5 100%|█████████████████████████████████████████| Time: 0:00:05\u001b[39m\n",
      "\u001b[32mTrial 3/5 100%|█████████████████████████████████████████| Time: 0:00:05\u001b[39m\n",
      "\u001b[32mTrial 4/5 100%|█████████████████████████████████████████| Time: 0:00:05\u001b[39m\n",
      "\u001b[32mTrial 5/5 100%|█████████████████████████████████████████| Time: 0:00:05\u001b[39m\n"
     ]
    },
    {
     "name": "stdout",
     "output_type": "stream",
     "text": [
      "# Finished iter 29 of 100: U after 200 iters, 5 trials. Parity 2. Distortion 0.50.\n"
     ]
    },
    {
     "name": "stderr",
     "output_type": "stream",
     "text": [
      "\u001b[32mTrial 1/5 100%|█████████████████████████████████████████| Time: 0:00:05\u001b[39m\n"
     ]
    },
    {
     "name": "stdout",
     "output_type": "stream",
     "text": [
      "# Finished iter 30 of 100: C after 11 iters, 2 trials. Parity 0. Distortion 0.10.\n",
      "# Finished iter 31 of 100: C after 12 iters, 1 trials. Parity 0. Distortion 0.11.\n"
     ]
    },
    {
     "name": "stderr",
     "output_type": "stream",
     "text": [
      "\u001b[32mTrial 1/5 100%|█████████████████████████████████████████| Time: 0:00:05\u001b[39m\n",
      "\u001b[32mTrial 2/5 100%|█████████████████████████████████████████| Time: 0:00:05\u001b[39m\n",
      "\u001b[32mTrial 3/5 100%|█████████████████████████████████████████| Time: 0:00:05\u001b[39m\n",
      "\u001b[32mTrial 4/5 100%|█████████████████████████████████████████| Time: 0:00:05\u001b[39m\n",
      "\u001b[32mTrial 5/5 100%|█████████████████████████████████████████| Time: 0:00:05\u001b[39m\n"
     ]
    },
    {
     "name": "stdout",
     "output_type": "stream",
     "text": [
      "# Finished iter 32 of 100: U after 200 iters, 5 trials. Parity 1. Distortion 0.50.\n"
     ]
    },
    {
     "name": "stderr",
     "output_type": "stream",
     "text": [
      "\u001b[32mTrial 1/5 100%|█████████████████████████████████████████| Time: 0:00:05\u001b[39m\n",
      "\u001b[32mTrial 2/5 100%|█████████████████████████████████████████| Time: 0:00:05\u001b[39m\n",
      "\u001b[32mTrial 3/5 100%|█████████████████████████████████████████| Time: 0:00:05\u001b[39m\n",
      "\u001b[32mTrial 4/5 100%|█████████████████████████████████████████| Time: 0:00:05\u001b[39m\n",
      "\u001b[32mTrial 5/5  18%|███████▋                                 |  ETA: 0:00:04\u001b[39m"
     ]
    },
    {
     "name": "stdout",
     "output_type": "stream",
     "text": [
      "# Finished iter 33 of 100: C after 46 iters, 5 trials. Parity 0. Distortion 0.11.\n",
      "# Finished iter 34 of 100: C after 14 iters, 1 trials. Parity 0. Distortion 0.12.\n",
      "# Finished iter 35 of 100: C after 28 iters, 1 trials. Parity 0. Distortion 0.11.\n"
     ]
    },
    {
     "name": "stderr",
     "output_type": "stream",
     "text": [
      "\u001b[32mTrial 1/5 100%|█████████████████████████████████████████| Time: 0:00:05\u001b[39m\n",
      "\u001b[32mTrial 2/5 100%|█████████████████████████████████████████| Time: 0:00:05\u001b[39m\n",
      "\u001b[32mTrial 3/5 100%|█████████████████████████████████████████| Time: 0:00:05\u001b[39m\n",
      "\u001b[32mTrial 4/5 100%|█████████████████████████████████████████| Time: 0:00:05\u001b[39m\n",
      "\u001b[32mTrial 5/5 100%|█████████████████████████████████████████| Time: 0:00:05\u001b[39m\n"
     ]
    },
    {
     "name": "stdout",
     "output_type": "stream",
     "text": [
      "# Finished iter 36 of 100: U after 200 iters, 5 trials. Parity 1. Distortion 0.50.\n"
     ]
    },
    {
     "name": "stderr",
     "output_type": "stream",
     "text": [
      "\u001b[32mTrial 1/5 100%|█████████████████████████████████████████| Time: 0:00:05\u001b[39m\n",
      "\u001b[32mTrial 2/5 100%|█████████████████████████████████████████| Time: 0:00:05\u001b[39m\n",
      "\u001b[32mTrial 3/5 100%|█████████████████████████████████████████| Time: 0:00:05\u001b[39m\n",
      "\u001b[32mTrial 4/5 100%|█████████████████████████████████████████| Time: 0:00:05\u001b[39m\n",
      "\u001b[32mTrial 5/5 100%|█████████████████████████████████████████| Time: 0:00:05\u001b[39m\n"
     ]
    },
    {
     "name": "stdout",
     "output_type": "stream",
     "text": [
      "# Finished iter 37 of 100: U after 200 iters, 5 trials. Parity 2. Distortion 0.50.\n"
     ]
    },
    {
     "name": "stderr",
     "output_type": "stream",
     "text": [
      "\u001b[32mTrial 1/5 100%|█████████████████████████████████████████| Time: 0:00:05\u001b[39m\n"
     ]
    },
    {
     "name": "stdout",
     "output_type": "stream",
     "text": [
      "# Finished iter 38 of 100: C after 27 iters, 2 trials. Parity 0. Distortion 0.11.\n"
     ]
    },
    {
     "name": "stderr",
     "output_type": "stream",
     "text": [
      "\u001b[32mTrial 1/5 100%|█████████████████████████████████████████| Time: 0:00:05\u001b[39m\n",
      "\u001b[32mTrial 2/5 100%|█████████████████████████████████████████| Time: 0:00:05\u001b[39m\n",
      "\u001b[32mTrial 3/5 100%|█████████████████████████████████████████| Time: 0:00:05\u001b[39m\n",
      "\u001b[32mTrial 4/5 100%|█████████████████████████████████████████| Time: 0:00:05\u001b[39m\n",
      "\u001b[32mTrial 5/5 100%|█████████████████████████████████████████| Time: 0:00:05\u001b[39m\n"
     ]
    },
    {
     "name": "stdout",
     "output_type": "stream",
     "text": [
      "# Finished iter 39 of 100: U after 200 iters, 5 trials. Parity 1. Distortion 0.50.\n"
     ]
    },
    {
     "name": "stderr",
     "output_type": "stream",
     "text": [
      "\u001b[32mTrial 1/5 100%|█████████████████████████████████████████| Time: 0:00:05\u001b[39m\n",
      "\u001b[32mTrial 2/5 100%|█████████████████████████████████████████| Time: 0:00:05\u001b[39m\n",
      "\u001b[32mTrial 3/5 100%|█████████████████████████████████████████| Time: 0:00:05\u001b[39m\n",
      "\u001b[32mTrial 4/5 100%|█████████████████████████████████████████| Time: 0:00:05\u001b[39m\n",
      "\u001b[32mTrial 5/5 100%|█████████████████████████████████████████| Time: 0:00:05\u001b[39m\n"
     ]
    },
    {
     "name": "stdout",
     "output_type": "stream",
     "text": [
      "# Finished iter 40 of 100: U after 200 iters, 5 trials. Parity 1. Distortion 0.50.\n"
     ]
    },
    {
     "name": "stderr",
     "output_type": "stream",
     "text": [
      "\u001b[32mTrial 1/5 100%|█████████████████████████████████████████| Time: 0:00:05\u001b[39m\n",
      "\u001b[32mTrial 2/5 100%|█████████████████████████████████████████| Time: 0:00:05\u001b[39m\n",
      "\u001b[32mTrial 3/5 100%|█████████████████████████████████████████| Time: 0:00:05\u001b[39m\n",
      "\u001b[32mTrial 4/5 100%|█████████████████████████████████████████| Time: 0:00:05\u001b[39m\n",
      "\u001b[32mTrial 5/5 100%|█████████████████████████████████████████| Time: 0:00:05\u001b[39m\n"
     ]
    },
    {
     "name": "stdout",
     "output_type": "stream",
     "text": [
      "# Finished iter 41 of 100: U after 200 iters, 5 trials. Parity 1. Distortion 0.50.\n"
     ]
    },
    {
     "name": "stderr",
     "output_type": "stream",
     "text": [
      "\u001b[32mTrial 1/5 100%|█████████████████████████████████████████| Time: 0:00:05\u001b[39m\n"
     ]
    },
    {
     "name": "stdout",
     "output_type": "stream",
     "text": [
      "# Finished iter 42 of 100: C after 16 iters, 2 trials. Parity 0. Distortion 0.11.\n"
     ]
    },
    {
     "name": "stderr",
     "output_type": "stream",
     "text": [
      "\u001b[32mTrial 1/5 100%|█████████████████████████████████████████| Time: 0:00:05\u001b[39m\n",
      "\u001b[32mTrial 2/5 100%|█████████████████████████████████████████| Time: 0:00:05\u001b[39m\n",
      "\u001b[32mTrial 3/5 100%|█████████████████████████████████████████| Time: 0:00:05\u001b[39m\n"
     ]
    },
    {
     "name": "stdout",
     "output_type": "stream",
     "text": [
      "# Finished iter 43 of 100: C after 23 iters, 4 trials. Parity 0. Distortion 0.11.\n",
      "# Finished iter 44 of 100: C after 17 iters, 1 trials. Parity 0. Distortion 0.12.\n",
      "# Finished iter 45 of 100: C after 25 iters, 1 trials. Parity 0. Distortion 0.11.\n",
      "# Finished iter 46 of 100: C after 30 iters, 1 trials. Parity 0. Distortion 0.11.\n"
     ]
    },
    {
     "name": "stderr",
     "output_type": "stream",
     "text": [
      "\u001b[32mTrial 1/5 100%|█████████████████████████████████████████| Time: 0:00:05\u001b[39m\n",
      "\u001b[32mTrial 2/5 100%|█████████████████████████████████████████| Time: 0:00:05\u001b[39m\n",
      "\u001b[32mTrial 3/5 100%|█████████████████████████████████████████| Time: 0:00:05\u001b[39m\n",
      "\u001b[32mTrial 4/5 100%|█████████████████████████████████████████| Time: 0:00:05\u001b[39m\n",
      "\u001b[32mTrial 5/5 100%|█████████████████████████████████████████| Time: 0:00:05\u001b[39m\n"
     ]
    },
    {
     "name": "stdout",
     "output_type": "stream",
     "text": [
      "# Finished iter 47 of 100: U after 200 iters, 5 trials. Parity 2. Distortion 0.50.\n"
     ]
    },
    {
     "name": "stderr",
     "output_type": "stream",
     "text": [
      "\u001b[32mTrial 1/5 100%|█████████████████████████████████████████| Time: 0:00:05\u001b[39m\n",
      "\u001b[32mTrial 2/5 100%|█████████████████████████████████████████| Time: 0:00:05\u001b[39m\n"
     ]
    },
    {
     "name": "stdout",
     "output_type": "stream",
     "text": [
      "# Finished iter 48 of 100: C after 13 iters, 3 trials. Parity 0. Distortion 0.11.\n"
     ]
    },
    {
     "name": "stderr",
     "output_type": "stream",
     "text": [
      "\u001b[32mTrial 1/5 100%|█████████████████████████████████████████| Time: 0:00:05\u001b[39m\n",
      "\u001b[32mTrial 2/5 100%|█████████████████████████████████████████| Time: 0:00:05\u001b[39m\n",
      "\u001b[32mTrial 3/5 100%|█████████████████████████████████████████| Time: 0:00:05\u001b[39m\n",
      "\u001b[32mTrial 4/5 100%|█████████████████████████████████████████| Time: 0:00:05\u001b[39m\n",
      "\u001b[32mTrial 5/5 100%|█████████████████████████████████████████| Time: 0:00:05\u001b[39m\n"
     ]
    },
    {
     "name": "stdout",
     "output_type": "stream",
     "text": [
      "# Finished iter 49 of 100: U after 200 iters, 5 trials. Parity 1. Distortion 0.50.\n"
     ]
    },
    {
     "name": "stderr",
     "output_type": "stream",
     "text": [
      "\u001b[32mTrial 1/5 100%|█████████████████████████████████████████| Time: 0:00:05\u001b[39m\n",
      "\u001b[32mTrial 2/5 100%|█████████████████████████████████████████| Time: 0:00:05\u001b[39m\n",
      "\u001b[32mTrial 3/5 100%|█████████████████████████████████████████| Time: 0:00:05\u001b[39m\n"
     ]
    },
    {
     "name": "stdout",
     "output_type": "stream",
     "text": [
      "# Finished iter 50 of 100: C after 17 iters, 4 trials. Parity 0. Distortion 0.11.\n",
      "# Finished iter 51 of 100: C after 17 iters, 1 trials. Parity 0. Distortion 0.10.\n"
     ]
    },
    {
     "name": "stderr",
     "output_type": "stream",
     "text": [
      "\r",
      "\u001b[32mTrial 1/5  19%|███████▊                                 |  ETA: 0:00:04\u001b[39m"
     ]
    },
    {
     "name": "stdout",
     "output_type": "stream",
     "text": [
      "# Finished iter 52 of 100: C after 49 iters, 1 trials. Parity 0. Distortion 0.11.\n"
     ]
    },
    {
     "name": "stderr",
     "output_type": "stream",
     "text": [
      "\u001b[32mTrial 1/5 100%|█████████████████████████████████████████| Time: 0:00:05\u001b[39m\n"
     ]
    },
    {
     "name": "stdout",
     "output_type": "stream",
     "text": [
      "# Finished iter 53 of 100: C after 17 iters, 2 trials. Parity 0. Distortion 0.11.\n"
     ]
    },
    {
     "name": "stderr",
     "output_type": "stream",
     "text": [
      "\u001b[32mTrial 1/5 100%|█████████████████████████████████████████| Time: 0:00:05\u001b[39m\n",
      "\u001b[32mTrial 2/5 100%|█████████████████████████████████████████| Time: 0:00:05\u001b[39m\n",
      "\u001b[32mTrial 3/5  19%|███████▊                                 |  ETA: 0:00:04\u001b[39m"
     ]
    },
    {
     "name": "stdout",
     "output_type": "stream",
     "text": [
      "# Finished iter 54 of 100: C after 50 iters, 3 trials. Parity 0. Distortion 0.11.\n"
     ]
    },
    {
     "name": "stderr",
     "output_type": "stream",
     "text": [
      "\u001b[32mTrial 1/5 100%|█████████████████████████████████████████| Time: 0:00:05\u001b[39m\n",
      "\u001b[32mTrial 2/5 100%|█████████████████████████████████████████| Time: 0:00:05\u001b[39m\n",
      "\u001b[32mTrial 3/5 100%|█████████████████████████████████████████| Time: 0:00:05\u001b[39m\n",
      "\u001b[32mTrial 4/5 100%|█████████████████████████████████████████| Time: 0:00:05\u001b[39m\n",
      "\u001b[32mTrial 5/5 100%|█████████████████████████████████████████| Time: 0:00:05\u001b[39m\n"
     ]
    },
    {
     "name": "stdout",
     "output_type": "stream",
     "text": [
      "# Finished iter 55 of 100: U after 200 iters, 5 trials. Parity 1. Distortion 0.50.\n",
      "# Finished iter 56 of 100: C after 20 iters, 1 trials. Parity 0. Distortion 0.11.\n",
      "# Finished iter 57 of 100: C after 27 iters, 1 trials. Parity 0. Distortion 0.11.\n"
     ]
    },
    {
     "name": "stderr",
     "output_type": "stream",
     "text": [
      "\r",
      "\u001b[32mTrial 1/5  19%|███████▊                                 |  ETA: 0:00:04\u001b[39m"
     ]
    },
    {
     "name": "stdout",
     "output_type": "stream",
     "text": [
      "# Finished iter 58 of 100: C after 41 iters, 1 trials. Parity 0. Distortion 0.12.\n",
      "# Finished iter 59 of 100: C after 14 iters, 1 trials. Parity 0. Distortion 0.11.\n"
     ]
    },
    {
     "name": "stderr",
     "output_type": "stream",
     "text": [
      "\u001b[32mTrial 1/5 100%|█████████████████████████████████████████| Time: 0:00:05\u001b[39m\n",
      "\u001b[32mTrial 2/5 100%|█████████████████████████████████████████| Time: 0:00:05\u001b[39m\n",
      "\u001b[32mTrial 3/5 100%|█████████████████████████████████████████| Time: 0:00:05\u001b[39m\n"
     ]
    },
    {
     "name": "stdout",
     "output_type": "stream",
     "text": [
      "# Finished iter 60 of 100: C after 14 iters, 4 trials. Parity 0. Distortion 0.10.\n",
      "# Finished iter 61 of 100: C after 15 iters, 1 trials. Parity 0. Distortion 0.11.\n",
      "# Finished iter 62 of 100: C after 18 iters, 1 trials. Parity 0. Distortion 0.10.\n"
     ]
    },
    {
     "name": "stderr",
     "output_type": "stream",
     "text": [
      "\u001b[32mTrial 1/5 100%|█████████████████████████████████████████| Time: 0:00:05\u001b[39m\n",
      "\u001b[32mTrial 2/5 100%|█████████████████████████████████████████| Time: 0:00:05\u001b[39m\n",
      "\u001b[32mTrial 3/5 100%|█████████████████████████████████████████| Time: 0:00:05\u001b[39m\n",
      "\u001b[32mTrial 4/5 100%|█████████████████████████████████████████| Time: 0:00:05\u001b[39m\n",
      "\u001b[32mTrial 5/5 100%|█████████████████████████████████████████| Time: 0:00:05\u001b[39m\n"
     ]
    },
    {
     "name": "stdout",
     "output_type": "stream",
     "text": [
      "# Finished iter 63 of 100: U after 200 iters, 5 trials. Parity 1. Distortion 0.50.\n"
     ]
    },
    {
     "name": "stderr",
     "output_type": "stream",
     "text": [
      "\u001b[32mTrial 1/5 100%|█████████████████████████████████████████| Time: 0:00:05\u001b[39m\n",
      "\u001b[32mTrial 2/5 100%|█████████████████████████████████████████| Time: 0:00:05\u001b[39m\n",
      "\u001b[32mTrial 3/5 100%|█████████████████████████████████████████| Time: 0:00:05\u001b[39m\n",
      "\u001b[32mTrial 4/5 100%|█████████████████████████████████████████| Time: 0:00:05\u001b[39m\n"
     ]
    },
    {
     "name": "stdout",
     "output_type": "stream",
     "text": [
      "# Finished iter 64 of 100: C after 30 iters, 5 trials. Parity 0. Distortion 0.11.\n",
      "# Finished iter 65 of 100: C after 23 iters, 1 trials. Parity 0. Distortion 0.11.\n",
      "# Finished iter 66 of 100: C after 13 iters, 1 trials. Parity 0. Distortion 0.11.\n"
     ]
    },
    {
     "name": "stderr",
     "output_type": "stream",
     "text": [
      "\u001b[32mTrial 1/5 100%|█████████████████████████████████████████| Time: 0:00:05\u001b[39m\n",
      "\u001b[32mTrial 2/5 100%|█████████████████████████████████████████| Time: 0:00:05\u001b[39m\n",
      "\u001b[32mTrial 3/5 100%|█████████████████████████████████████████| Time: 0:00:05\u001b[39m\n",
      "\u001b[32mTrial 4/5 100%|█████████████████████████████████████████| Time: 0:00:05\u001b[39m\n",
      "\u001b[32mTrial 5/5 100%|█████████████████████████████████████████| Time: 0:00:05\u001b[39m\n"
     ]
    },
    {
     "name": "stdout",
     "output_type": "stream",
     "text": [
      "# Finished iter 67 of 100: U after 200 iters, 5 trials. Parity 1. Distortion 0.50.\n"
     ]
    },
    {
     "name": "stderr",
     "output_type": "stream",
     "text": [
      "\u001b[32mTrial 1/5 100%|█████████████████████████████████████████| Time: 0:00:05\u001b[39m\n",
      "\u001b[32mTrial 2/5 100%|█████████████████████████████████████████| Time: 0:00:05\u001b[39m\n",
      "\u001b[32mTrial 3/5 100%|█████████████████████████████████████████| Time: 0:00:05\u001b[39m\n",
      "\u001b[32mTrial 4/5 100%|█████████████████████████████████████████| Time: 0:00:05\u001b[39m\n",
      "\u001b[32mTrial 5/5 100%|█████████████████████████████████████████| Time: 0:00:05\u001b[39m\n"
     ]
    },
    {
     "name": "stdout",
     "output_type": "stream",
     "text": [
      "# Finished iter 68 of 100: U after 200 iters, 5 trials. Parity 2. Distortion 0.50.\n",
      "# Finished iter 69 of 100: C after 26 iters, 1 trials. Parity 0. Distortion 0.11.\n"
     ]
    },
    {
     "name": "stderr",
     "output_type": "stream",
     "text": [
      "\u001b[32mTrial 1/5 100%|█████████████████████████████████████████| Time: 0:00:05\u001b[39m\n",
      "\u001b[32mTrial 2/5 100%|█████████████████████████████████████████| Time: 0:00:05\u001b[39m\n",
      "\u001b[32mTrial 3/5 100%|█████████████████████████████████████████| Time: 0:00:05\u001b[39m\n",
      "\u001b[32mTrial 4/5 100%|█████████████████████████████████████████| Time: 0:00:05\u001b[39m\n",
      "\u001b[32mTrial 5/5 100%|█████████████████████████████████████████| Time: 0:00:05\u001b[39m\n"
     ]
    },
    {
     "name": "stdout",
     "output_type": "stream",
     "text": [
      "# Finished iter 70 of 100: U after 200 iters, 5 trials. Parity 1. Distortion 0.50.\n",
      "# Finished iter 71 of 100: C after 31 iters, 1 trials. Parity 0. Distortion 0.10.\n",
      "# Finished iter 72 of 100: C after 25 iters, 1 trials. Parity 0. Distortion 0.11.\n",
      "# Finished iter 73 of 100: C after 20 iters, 1 trials. Parity 0. Distortion 0.11.\n",
      "# Finished iter 74 of 100: C after 12 iters, 1 trials. Parity 0. Distortion 0.11.\n"
     ]
    },
    {
     "name": "stderr",
     "output_type": "stream",
     "text": [
      "\u001b[32mTrial 1/5 100%|█████████████████████████████████████████| Time: 0:00:05\u001b[39m\n",
      "\u001b[32mTrial 2/5 100%|█████████████████████████████████████████| Time: 0:00:05\u001b[39m\n",
      "\u001b[32mTrial 3/5 100%|█████████████████████████████████████████| Time: 0:00:05\u001b[39m\n",
      "\u001b[32mTrial 4/5 100%|█████████████████████████████████████████| Time: 0:00:05\u001b[39m\n",
      "\u001b[32mTrial 5/5 100%|█████████████████████████████████████████| Time: 0:00:05\u001b[39m\n"
     ]
    },
    {
     "name": "stdout",
     "output_type": "stream",
     "text": [
      "# Finished iter 75 of 100: U after 200 iters, 5 trials. Parity 1. Distortion 0.50.\n"
     ]
    },
    {
     "name": "stderr",
     "output_type": "stream",
     "text": [
      "\u001b[32mTrial 1/5 100%|█████████████████████████████████████████| Time: 0:00:05\u001b[39m\n",
      "\u001b[32mTrial 2/5 100%|█████████████████████████████████████████| Time: 0:00:05\u001b[39m\n",
      "\u001b[32mTrial 3/5 100%|█████████████████████████████████████████| Time: 0:00:05\u001b[39m\n",
      "\u001b[32mTrial 4/5 100%|█████████████████████████████████████████| Time: 0:00:05\u001b[39m\n",
      "\u001b[32mTrial 5/5 100%|█████████████████████████████████████████| Time: 0:00:05\u001b[39m\n"
     ]
    },
    {
     "name": "stdout",
     "output_type": "stream",
     "text": [
      "# Finished iter 76 of 100: U after 200 iters, 5 trials. Parity 1. Distortion 0.50.\n"
     ]
    },
    {
     "name": "stderr",
     "output_type": "stream",
     "text": [
      "\u001b[32mTrial 1/5 100%|█████████████████████████████████████████| Time: 0:00:05\u001b[39m\n",
      "\u001b[32mTrial 2/5 100%|█████████████████████████████████████████| Time: 0:00:05\u001b[39m\n",
      "\u001b[32mTrial 3/5 100%|█████████████████████████████████████████| Time: 0:00:05\u001b[39m\n",
      "\u001b[32mTrial 4/5 100%|█████████████████████████████████████████| Time: 0:00:05\u001b[39m\n",
      "\u001b[32mTrial 5/5 100%|█████████████████████████████████████████| Time: 0:00:05\u001b[39m\n"
     ]
    },
    {
     "name": "stdout",
     "output_type": "stream",
     "text": [
      "# Finished iter 77 of 100: U after 200 iters, 5 trials. Parity 2. Distortion 0.50.\n"
     ]
    },
    {
     "name": "stderr",
     "output_type": "stream",
     "text": [
      "\u001b[32mTrial 1/5 100%|█████████████████████████████████████████| Time: 0:00:05\u001b[39m\n",
      "\u001b[32mTrial 2/5 100%|█████████████████████████████████████████| Time: 0:00:05\u001b[39m\n",
      "\u001b[32mTrial 3/5 100%|█████████████████████████████████████████| Time: 0:00:05\u001b[39m\n",
      "\u001b[32mTrial 4/5 100%|█████████████████████████████████████████| Time: 0:00:05\u001b[39m\n",
      "\u001b[32mTrial 5/5 100%|█████████████████████████████████████████| Time: 0:00:05\u001b[39m\n"
     ]
    },
    {
     "name": "stdout",
     "output_type": "stream",
     "text": [
      "# Finished iter 78 of 100: U after 200 iters, 5 trials. Parity 1. Distortion 0.50.\n"
     ]
    },
    {
     "name": "stderr",
     "output_type": "stream",
     "text": [
      "\u001b[32mTrial 1/5 100%|█████████████████████████████████████████| Time: 0:00:05\u001b[39m\n",
      "\u001b[32mTrial 2/5 100%|█████████████████████████████████████████| Time: 0:00:05\u001b[39m\n",
      "\u001b[32mTrial 3/5 100%|█████████████████████████████████████████| Time: 0:00:05\u001b[39m\n",
      "\u001b[32mTrial 4/5 100%|█████████████████████████████████████████| Time: 0:00:05\u001b[39m\n",
      "\u001b[32mTrial 5/5 100%|█████████████████████████████████████████| Time: 0:00:05\u001b[39m\n"
     ]
    },
    {
     "name": "stdout",
     "output_type": "stream",
     "text": [
      "# Finished iter 79 of 100: U after 200 iters, 5 trials. Parity 1. Distortion 0.50.\n"
     ]
    },
    {
     "name": "stderr",
     "output_type": "stream",
     "text": [
      "\r",
      "\u001b[32mTrial 1/5  19%|███████▊                                 |  ETA: 0:00:04\u001b[39m"
     ]
    },
    {
     "name": "stdout",
     "output_type": "stream",
     "text": [
      "# Finished iter 80 of 100: C after 53 iters, 1 trials. Parity 0. Distortion 0.11.\n"
     ]
    },
    {
     "name": "stderr",
     "output_type": "stream",
     "text": [
      "\r",
      "\u001b[32mTrial 1/5  19%|███████▊                                 |  ETA: 0:00:04\u001b[39m"
     ]
    },
    {
     "name": "stdout",
     "output_type": "stream",
     "text": [
      "# Finished iter 81 of 100: C after 57 iters, 1 trials. Parity 0. Distortion 0.11.\n"
     ]
    },
    {
     "name": "stderr",
     "output_type": "stream",
     "text": [
      "\u001b[32mTrial 1/5 100%|█████████████████████████████████████████| Time: 0:00:05\u001b[39m\n"
     ]
    },
    {
     "name": "stdout",
     "output_type": "stream",
     "text": [
      "# Finished iter 82 of 100: C after 22 iters, 2 trials. Parity 0. Distortion 0.10.\n"
     ]
    },
    {
     "name": "stderr",
     "output_type": "stream",
     "text": [
      "\u001b[32mTrial 1/5 100%|█████████████████████████████████████████| Time: 0:00:05\u001b[39m\n",
      "\u001b[32mTrial 2/5 100%|█████████████████████████████████████████| Time: 0:00:05\u001b[39m\n",
      "\u001b[32mTrial 3/5 100%|█████████████████████████████████████████| Time: 0:00:05\u001b[39m\n",
      "\u001b[32mTrial 4/5 100%|█████████████████████████████████████████| Time: 0:00:05\u001b[39m\n",
      "\u001b[32mTrial 5/5 100%|█████████████████████████████████████████| Time: 0:00:05\u001b[39m\n"
     ]
    },
    {
     "name": "stdout",
     "output_type": "stream",
     "text": [
      "# Finished iter 83 of 100: U after 200 iters, 5 trials. Parity 2. Distortion 0.50.\n"
     ]
    },
    {
     "name": "stderr",
     "output_type": "stream",
     "text": [
      "\u001b[32mTrial 1/5 100%|█████████████████████████████████████████| Time: 0:00:05\u001b[39m\n",
      "\u001b[32mTrial 2/5 100%|█████████████████████████████████████████| Time: 0:00:05\u001b[39m\n"
     ]
    },
    {
     "name": "stdout",
     "output_type": "stream",
     "text": [
      "# Finished iter 84 of 100: C after 29 iters, 3 trials. Parity 0. Distortion 0.11.\n"
     ]
    },
    {
     "name": "stderr",
     "output_type": "stream",
     "text": [
      "\u001b[32mTrial 1/5 100%|█████████████████████████████████████████| Time: 0:00:05\u001b[39m\n"
     ]
    },
    {
     "name": "stdout",
     "output_type": "stream",
     "text": [
      "# Finished iter 85 of 100: C after 10 iters, 2 trials. Parity 0. Distortion 0.10.\n"
     ]
    },
    {
     "name": "stderr",
     "output_type": "stream",
     "text": [
      "\u001b[32mTrial 1/5 100%|█████████████████████████████████████████| Time: 0:00:05\u001b[39m\n",
      "\u001b[32mTrial 2/5 100%|█████████████████████████████████████████| Time: 0:00:05\u001b[39m\n",
      "\u001b[32mTrial 3/5 100%|█████████████████████████████████████████| Time: 0:00:05\u001b[39m\n",
      "\u001b[32mTrial 4/5 100%|█████████████████████████████████████████| Time: 0:00:05\u001b[39m\n",
      "\u001b[32mTrial 5/5 100%|█████████████████████████████████████████| Time: 0:00:05\u001b[39m\n"
     ]
    },
    {
     "name": "stdout",
     "output_type": "stream",
     "text": [
      "# Finished iter 86 of 100: U after 200 iters, 5 trials. Parity 1. Distortion 0.50.\n",
      "# Finished iter 87 of 100: C after 38 iters, 1 trials. Parity 0. Distortion 0.12.\n"
     ]
    },
    {
     "name": "stderr",
     "output_type": "stream",
     "text": [
      "\u001b[32mTrial 1/5 100%|█████████████████████████████████████████| Time: 0:00:05\u001b[39m\n",
      "\u001b[32mTrial 2/5 100%|█████████████████████████████████████████| Time: 0:00:05\u001b[39m\n",
      "\u001b[32mTrial 3/5 100%|█████████████████████████████████████████| Time: 0:00:05\u001b[39m\n",
      "\u001b[32mTrial 4/5 100%|█████████████████████████████████████████| Time: 0:00:05\u001b[39m\n",
      "\u001b[32mTrial 5/5 100%|█████████████████████████████████████████| Time: 0:00:05\u001b[39m\n"
     ]
    },
    {
     "name": "stdout",
     "output_type": "stream",
     "text": [
      "# Finished iter 88 of 100: U after 200 iters, 5 trials. Parity 3. Distortion 0.50.\n"
     ]
    },
    {
     "name": "stderr",
     "output_type": "stream",
     "text": [
      "\u001b[32mTrial 1/5 100%|█████████████████████████████████████████| Time: 0:00:05\u001b[39m\n",
      "\u001b[32mTrial 2/5 100%|█████████████████████████████████████████| Time: 0:00:05\u001b[39m\n",
      "\u001b[32mTrial 3/5 100%|█████████████████████████████████████████| Time: 0:00:05\u001b[39m\n",
      "\u001b[32mTrial 4/5 100%|█████████████████████████████████████████| Time: 0:00:05\u001b[39m\n",
      "\u001b[32mTrial 5/5 100%|█████████████████████████████████████████| Time: 0:00:05\u001b[39m\n"
     ]
    },
    {
     "name": "stdout",
     "output_type": "stream",
     "text": [
      "# Finished iter 89 of 100: U after 200 iters, 5 trials. Parity 1. Distortion 0.50.\n"
     ]
    },
    {
     "name": "stderr",
     "output_type": "stream",
     "text": [
      "\u001b[32mTrial 1/5 100%|█████████████████████████████████████████| Time: 0:00:05\u001b[39m\n"
     ]
    },
    {
     "name": "stdout",
     "output_type": "stream",
     "text": [
      "# Finished iter 90 of 100: C after 21 iters, 2 trials. Parity 0. Distortion 0.11.\n"
     ]
    },
    {
     "name": "stderr",
     "output_type": "stream",
     "text": [
      "\u001b[32mTrial 1/5 100%|█████████████████████████████████████████| Time: 0:00:05\u001b[39m\n"
     ]
    },
    {
     "name": "stdout",
     "output_type": "stream",
     "text": [
      "# Finished iter 91 of 100: C after 19 iters, 2 trials. Parity 0. Distortion 0.10.\n",
      "# Finished iter 92 of 100: C after 36 iters, 1 trials. Parity 0. Distortion 0.11.\n"
     ]
    },
    {
     "name": "stderr",
     "output_type": "stream",
     "text": [
      "\u001b[32mTrial 1/5 100%|█████████████████████████████████████████| Time: 0:00:05\u001b[39m\n",
      "\u001b[32mTrial 2/5 100%|█████████████████████████████████████████| Time: 0:00:05\u001b[39m\n",
      "\u001b[32mTrial 3/5 100%|█████████████████████████████████████████| Time: 0:00:05\u001b[39m\n",
      "\u001b[32mTrial 4/5 100%|█████████████████████████████████████████| Time: 0:00:05\u001b[39m\n",
      "\u001b[32mTrial 5/5 100%|█████████████████████████████████████████| Time: 0:00:05\u001b[39m\n"
     ]
    },
    {
     "name": "stdout",
     "output_type": "stream",
     "text": [
      "# Finished iter 93 of 100: U after 200 iters, 5 trials. Parity 1. Distortion 0.50.\n"
     ]
    },
    {
     "name": "stderr",
     "output_type": "stream",
     "text": [
      "\u001b[32mTrial 1/5 100%|█████████████████████████████████████████| Time: 0:00:05\u001b[39m\n",
      "\u001b[32mTrial 2/5 100%|█████████████████████████████████████████| Time: 0:00:05\u001b[39m\n",
      "\u001b[32mTrial 3/5 100%|█████████████████████████████████████████| Time: 0:00:05\u001b[39m\n",
      "\u001b[32mTrial 4/5 100%|█████████████████████████████████████████| Time: 0:00:05\u001b[39m\n",
      "\u001b[32mTrial 5/5 100%|█████████████████████████████████████████| Time: 0:00:05\u001b[39m\n"
     ]
    },
    {
     "name": "stdout",
     "output_type": "stream",
     "text": [
      "# Finished iter 94 of 100: U after 200 iters, 5 trials. Parity 2. Distortion 0.50.\n"
     ]
    },
    {
     "name": "stderr",
     "output_type": "stream",
     "text": [
      "\u001b[32mTrial 1/5 100%|█████████████████████████████████████████| Time: 0:00:05\u001b[39m\n",
      "\u001b[32mTrial 2/5 100%|█████████████████████████████████████████| Time: 0:00:05\u001b[39m\n",
      "\u001b[32mTrial 3/5 100%|█████████████████████████████████████████| Time: 0:00:05\u001b[39m\n"
     ]
    },
    {
     "name": "stdout",
     "output_type": "stream",
     "text": [
      "# Finished iter 95 of 100: C after 21 iters, 4 trials. Parity 0. Distortion 0.11.\n",
      "# Finished iter 96 of 100: C after 38 iters, 1 trials. Parity 0. Distortion 0.11.\n"
     ]
    },
    {
     "name": "stderr",
     "output_type": "stream",
     "text": [
      "\u001b[32mTrial 1/5 100%|█████████████████████████████████████████| Time: 0:00:05\u001b[39m\n",
      "\u001b[32mTrial 2/5 100%|█████████████████████████████████████████| Time: 0:00:05\u001b[39m\n",
      "\u001b[32mTrial 3/5 100%|█████████████████████████████████████████| Time: 0:00:05\u001b[39m\n",
      "\u001b[32mTrial 4/5 100%|█████████████████████████████████████████| Time: 0:00:05\u001b[39m\n",
      "\u001b[32mTrial 5/5 100%|█████████████████████████████████████████| Time: 0:00:05\u001b[39m\n"
     ]
    },
    {
     "name": "stdout",
     "output_type": "stream",
     "text": [
      "# Finished iter 97 of 100: U after 200 iters, 5 trials. Parity 4. Distortion 0.50.\n",
      "# Finished iter 98 of 100: C after 23 iters, 1 trials. Parity 0. Distortion 0.11.\n"
     ]
    },
    {
     "name": "stderr",
     "output_type": "stream",
     "text": [
      "\u001b[32mTrial 1/5  39%|████████████████                         |  ETA: 0:00:03\u001b[39m"
     ]
    },
    {
     "name": "stdout",
     "output_type": "stream",
     "text": [
      "# Finished iter 99 of 100: C after 104 iters, 1 trials. Parity 0. Distortion 0.12.\n"
     ]
    },
    {
     "name": "stderr",
     "output_type": "stream",
     "text": [
      "\u001b[32mTrial 1/5 100%|█████████████████████████████████████████| Time: 0:00:05\u001b[39m\n",
      "\u001b[32mTrial 2/5 100%|█████████████████████████████████████████| Time: 0:00:05\u001b[39m\n",
      "\u001b[32mTrial 3/5 100%|█████████████████████████████████████████| Time: 0:00:05\u001b[39m\n",
      "\u001b[32mTrial 4/5 100%|█████████████████████████████████████████| Time: 0:00:05\u001b[39m\n",
      "\u001b[32mTrial 5/5 100%|█████████████████████████████████████████| Time: 0:00:05\u001b[39m\n"
     ]
    },
    {
     "name": "stdout",
     "output_type": "stream",
     "text": [
      "# Finished iter 100 of 100: U after 200 iters, 5 trials. Parity 1. Distortion 0.50.\n",
      "##### b=50. 6 of 9 #####\n",
      "# Finished iter 1 of 100: C after 15 iters, 1 trials. Parity 0. Distortion 0.12.\n"
     ]
    },
    {
     "name": "stderr",
     "output_type": "stream",
     "text": [
      "\u001b[32mTrial 1/5 100%|█████████████████████████████████████████| Time: 0:00:05\u001b[39m\n"
     ]
    },
    {
     "name": "stdout",
     "output_type": "stream",
     "text": [
      "# Finished iter 2 of 100: C after 9 iters, 2 trials. Parity 0. Distortion 0.11.\n",
      "# Finished iter 3 of 100: C after 16 iters, 1 trials. Parity 0. Distortion 0.12.\n",
      "# Finished iter 4 of 100: C after 17 iters, 1 trials. Parity 0. Distortion 0.11.\n"
     ]
    },
    {
     "name": "stderr",
     "output_type": "stream",
     "text": [
      "\u001b[32mTrial 1/5 100%|█████████████████████████████████████████| Time: 0:00:05\u001b[39m\n",
      "\u001b[32mTrial 2/5 100%|█████████████████████████████████████████| Time: 0:00:05\u001b[39m\n",
      "\u001b[32mTrial 3/5 100%|█████████████████████████████████████████| Time: 0:00:05\u001b[39m\n",
      "\u001b[32mTrial 4/5 100%|█████████████████████████████████████████| Time: 0:00:05\u001b[39m\n",
      "\u001b[32mTrial 5/5 100%|█████████████████████████████████████████| Time: 0:00:05\u001b[39m\n"
     ]
    },
    {
     "name": "stdout",
     "output_type": "stream",
     "text": [
      "# Finished iter 5 of 100: U after 200 iters, 5 trials. Parity 3. Distortion 0.50.\n"
     ]
    },
    {
     "name": "stderr",
     "output_type": "stream",
     "text": [
      "\u001b[32mTrial 1/5 100%|█████████████████████████████████████████| Time: 0:00:05\u001b[39m\n",
      "\u001b[32mTrial 2/5 100%|█████████████████████████████████████████| Time: 0:00:05\u001b[39m\n",
      "\u001b[32mTrial 3/5 100%|█████████████████████████████████████████| Time: 0:00:05\u001b[39m\n",
      "\u001b[32mTrial 4/5 100%|█████████████████████████████████████████| Time: 0:00:05\u001b[39m\n",
      "\u001b[32mTrial 5/5 100%|█████████████████████████████████████████| Time: 0:00:05\u001b[39m\n"
     ]
    },
    {
     "name": "stdout",
     "output_type": "stream",
     "text": [
      "# Finished iter 6 of 100: U after 200 iters, 5 trials. Parity 2. Distortion 0.50.\n",
      "# Finished iter 7 of 100: C after 16 iters, 1 trials. Parity 0. Distortion 0.11.\n",
      "# Finished iter 8 of 100: C after 9 iters, 1 trials. Parity 0. Distortion 0.11.\n",
      "# Finished iter 9 of 100: C after 13 iters, 1 trials. Parity 0. Distortion 0.12.\n",
      "# Finished iter 10 of 100: C after 10 iters, 1 trials. Parity 0. Distortion 0.11.\n",
      "# Finished iter 11 of 100: C after 12 iters, 1 trials. Parity 0. Distortion 0.12.\n",
      "# Finished iter 12 of 100: C after 17 iters, 1 trials. Parity 0. Distortion 0.11.\n",
      "# Finished iter 13 of 100: C after 20 iters, 1 trials. Parity 0. Distortion 0.11.\n"
     ]
    },
    {
     "name": "stderr",
     "output_type": "stream",
     "text": [
      "\u001b[32mTrial 1/5 100%|█████████████████████████████████████████| Time: 0:00:05\u001b[39m\n",
      "\u001b[32mTrial 2/5 100%|█████████████████████████████████████████| Time: 0:00:05\u001b[39m\n",
      "\u001b[32mTrial 3/5 100%|█████████████████████████████████████████| Time: 0:00:05\u001b[39m\n",
      "\u001b[32mTrial 4/5 100%|█████████████████████████████████████████| Time: 0:00:05\u001b[39m\n",
      "\u001b[32mTrial 5/5 100%|█████████████████████████████████████████| Time: 0:00:05\u001b[39m\n"
     ]
    },
    {
     "name": "stdout",
     "output_type": "stream",
     "text": [
      "# Finished iter 14 of 100: U after 200 iters, 5 trials. Parity 1. Distortion 0.50.\n",
      "# Finished iter 15 of 100: C after 14 iters, 1 trials. Parity 0. Distortion 0.12.\n",
      "# Finished iter 16 of 100: C after 18 iters, 1 trials. Parity 0. Distortion 0.12.\n"
     ]
    },
    {
     "name": "stderr",
     "output_type": "stream",
     "text": [
      "\u001b[32mTrial 1/5 100%|█████████████████████████████████████████| Time: 0:00:05\u001b[39m\n",
      "\u001b[32mTrial 2/5 100%|█████████████████████████████████████████| Time: 0:00:05\u001b[39m\n"
     ]
    },
    {
     "name": "stdout",
     "output_type": "stream",
     "text": [
      "# Finished iter 17 of 100: C after 9 iters, 3 trials. Parity 0. Distortion 0.11.\n"
     ]
    },
    {
     "name": "stderr",
     "output_type": "stream",
     "text": [
      "\u001b[32mTrial 1/5 100%|█████████████████████████████████████████| Time: 0:00:05\u001b[39m\n"
     ]
    },
    {
     "name": "stdout",
     "output_type": "stream",
     "text": [
      "# Finished iter 18 of 100: C after 12 iters, 2 trials. Parity 0. Distortion 0.12.\n"
     ]
    },
    {
     "name": "stderr",
     "output_type": "stream",
     "text": [
      "\u001b[32mTrial 1/5 100%|█████████████████████████████████████████| Time: 0:00:05\u001b[39m\n"
     ]
    },
    {
     "name": "stdout",
     "output_type": "stream",
     "text": [
      "# Finished iter 19 of 100: C after 16 iters, 2 trials. Parity 0. Distortion 0.11.\n",
      "# Finished iter 20 of 100: C after 11 iters, 1 trials. Parity 0. Distortion 0.11.\n"
     ]
    },
    {
     "name": "stderr",
     "output_type": "stream",
     "text": [
      "\u001b[32mTrial 1/5 100%|█████████████████████████████████████████| Time: 0:00:05\u001b[39m\n"
     ]
    },
    {
     "name": "stdout",
     "output_type": "stream",
     "text": [
      "# Finished iter 21 of 100: C after 14 iters, 2 trials. Parity 0. Distortion 0.11.\n"
     ]
    },
    {
     "name": "stderr",
     "output_type": "stream",
     "text": [
      "\u001b[32mTrial 1/5 100%|█████████████████████████████████████████| Time: 0:00:05\u001b[39m\n",
      "\u001b[32mTrial 2/5 100%|█████████████████████████████████████████| Time: 0:00:05\u001b[39m\n"
     ]
    },
    {
     "name": "stdout",
     "output_type": "stream",
     "text": [
      "# Finished iter 22 of 100: C after 13 iters, 3 trials. Parity 0. Distortion 0.12.\n",
      "# Finished iter 23 of 100: C after 13 iters, 1 trials. Parity 0. Distortion 0.11.\n"
     ]
    },
    {
     "name": "stderr",
     "output_type": "stream",
     "text": [
      "\u001b[32mTrial 1/5 100%|█████████████████████████████████████████| Time: 0:00:05\u001b[39m\n"
     ]
    },
    {
     "name": "stdout",
     "output_type": "stream",
     "text": [
      "# Finished iter 24 of 100: C after 23 iters, 2 trials. Parity 0. Distortion 0.12.\n"
     ]
    },
    {
     "name": "stderr",
     "output_type": "stream",
     "text": [
      "\u001b[32mTrial 1/5 100%|█████████████████████████████████████████| Time: 0:00:05\u001b[39m\n",
      "\u001b[32mTrial 2/5 100%|█████████████████████████████████████████| Time: 0:00:05\u001b[39m\n"
     ]
    },
    {
     "name": "stdout",
     "output_type": "stream",
     "text": [
      "# Finished iter 25 of 100: C after 10 iters, 3 trials. Parity 0. Distortion 0.11.\n",
      "# Finished iter 26 of 100: C after 11 iters, 1 trials. Parity 0. Distortion 0.11.\n"
     ]
    },
    {
     "name": "stderr",
     "output_type": "stream",
     "text": [
      "\u001b[32mTrial 1/5 100%|█████████████████████████████████████████| Time: 0:00:05\u001b[39m\n"
     ]
    },
    {
     "name": "stdout",
     "output_type": "stream",
     "text": [
      "# Finished iter 27 of 100: C after 12 iters, 2 trials. Parity 0. Distortion 0.12.\n"
     ]
    },
    {
     "name": "stderr",
     "output_type": "stream",
     "text": [
      "\u001b[32mTrial 1/5 100%|█████████████████████████████████████████| Time: 0:00:05\u001b[39m\n",
      "\u001b[32mTrial 2/5 100%|█████████████████████████████████████████| Time: 0:00:05\u001b[39m\n"
     ]
    },
    {
     "name": "stdout",
     "output_type": "stream",
     "text": [
      "# Finished iter 28 of 100: C after 18 iters, 3 trials. Parity 0. Distortion 0.11.\n"
     ]
    },
    {
     "name": "stderr",
     "output_type": "stream",
     "text": [
      "\u001b[32mTrial 1/5 100%|█████████████████████████████████████████| Time: 0:00:05\u001b[39m\n"
     ]
    },
    {
     "name": "stdout",
     "output_type": "stream",
     "text": [
      "# Finished iter 29 of 100: C after 9 iters, 2 trials. Parity 0. Distortion 0.11.\n"
     ]
    },
    {
     "name": "stderr",
     "output_type": "stream",
     "text": [
      "\u001b[32mTrial 1/5 100%|█████████████████████████████████████████| Time: 0:00:05\u001b[39m\n"
     ]
    },
    {
     "name": "stdout",
     "output_type": "stream",
     "text": [
      "# Finished iter 30 of 100: C after 17 iters, 2 trials. Parity 0. Distortion 0.12.\n"
     ]
    },
    {
     "name": "stderr",
     "output_type": "stream",
     "text": [
      "\u001b[32mTrial 1/5 100%|█████████████████████████████████████████| Time: 0:00:05\u001b[39m\n",
      "\u001b[32mTrial 2/5 100%|█████████████████████████████████████████| Time: 0:00:05\u001b[39m\n",
      "\u001b[32mTrial 3/5 100%|█████████████████████████████████████████| Time: 0:00:05\u001b[39m\n",
      "\u001b[32mTrial 4/5 100%|█████████████████████████████████████████| Time: 0:00:05\u001b[39m\n",
      "\u001b[32mTrial 5/5 100%|█████████████████████████████████████████| Time: 0:00:05\u001b[39m\n"
     ]
    },
    {
     "name": "stdout",
     "output_type": "stream",
     "text": [
      "# Finished iter 31 of 100: U after 200 iters, 5 trials. Parity 1. Distortion 0.50.\n"
     ]
    },
    {
     "name": "stderr",
     "output_type": "stream",
     "text": [
      "\u001b[32mTrial 1/5 100%|█████████████████████████████████████████| Time: 0:00:05\u001b[39m\n",
      "\u001b[32mTrial 2/5 100%|█████████████████████████████████████████| Time: 0:00:05\u001b[39m\n",
      "\u001b[32mTrial 3/5 100%|█████████████████████████████████████████| Time: 0:00:05\u001b[39m\n",
      "\u001b[32mTrial 4/5 100%|█████████████████████████████████████████| Time: 0:00:05\u001b[39m\n",
      "\u001b[32mTrial 5/5 100%|█████████████████████████████████████████| Time: 0:00:05\u001b[39m\n"
     ]
    },
    {
     "name": "stdout",
     "output_type": "stream",
     "text": [
      "# Finished iter 32 of 100: U after 200 iters, 5 trials. Parity 1. Distortion 0.50.\n",
      "# Finished iter 33 of 100: C after 14 iters, 1 trials. Parity 0. Distortion 0.12.\n"
     ]
    },
    {
     "name": "stderr",
     "output_type": "stream",
     "text": [
      "\u001b[32mTrial 1/5 100%|█████████████████████████████████████████| Time: 0:00:05\u001b[39m\n",
      "\u001b[32mTrial 2/5 100%|█████████████████████████████████████████| Time: 0:00:05\u001b[39m\n",
      "\u001b[32mTrial 3/5 100%|█████████████████████████████████████████| Time: 0:00:05\u001b[39m\n"
     ]
    },
    {
     "name": "stdout",
     "output_type": "stream",
     "text": [
      "# Finished iter 34 of 100: C after 12 iters, 4 trials. Parity 0. Distortion 0.12.\n",
      "# Finished iter 35 of 100: C after 14 iters, 1 trials. Parity 0. Distortion 0.12.\n"
     ]
    },
    {
     "name": "stderr",
     "output_type": "stream",
     "text": [
      "\r",
      "\u001b[32mTrial 1/5  18%|███████▋                                 |  ETA: 0:00:04\u001b[39m"
     ]
    },
    {
     "name": "stdout",
     "output_type": "stream",
     "text": [
      "# Finished iter 36 of 100: C after 52 iters, 1 trials. Parity 0. Distortion 0.12.\n"
     ]
    },
    {
     "name": "stderr",
     "output_type": "stream",
     "text": [
      "\u001b[32mTrial 1/5 100%|█████████████████████████████████████████| Time: 0:00:05\u001b[39m\n",
      "\u001b[32mTrial 2/5 100%|█████████████████████████████████████████| Time: 0:00:05\u001b[39m\n"
     ]
    },
    {
     "name": "stdout",
     "output_type": "stream",
     "text": [
      "# Finished iter 37 of 100: C after 11 iters, 3 trials. Parity 0. Distortion 0.11.\n"
     ]
    },
    {
     "name": "stderr",
     "output_type": "stream",
     "text": [
      "\u001b[32mTrial 1/5 100%|█████████████████████████████████████████| Time: 0:00:05\u001b[39m\n",
      "\u001b[32mTrial 2/5 100%|█████████████████████████████████████████| Time: 0:00:05\u001b[39m\n",
      "\u001b[32mTrial 3/5  72%|█████████████████████████████▌           |  ETA: 0:00:02\u001b[39mIOPub message rate exceeded.\n",
      "The notebook server will temporarily stop sending output\n",
      "to the client in order to avoid crashing it.\n",
      "To change this limit, set the config variable\n",
      "`--NotebookApp.iopub_msg_rate_limit`.\n",
      "\n",
      "Current values:\n",
      "NotebookApp.iopub_msg_rate_limit=1000.0 (msgs/sec)\n",
      "NotebookApp.rate_limit_window=3.0 (secs)\n",
      "\n"
     ]
    }
   ],
   "source": [
    "for (i,b) in enumerate(bvals)\n",
    "    println(\"##### b=$b. $i of $(length(bvals)) #####\")\n",
    "    sims_ms[i] = Simulation(q,n,m,ms,b=b, niter=niter, verbose=true, randseed=randseed+i, showprogress=true)\n",
    "end"
   ]
  },
  {
   "cell_type": "code",
   "execution_count": 57,
   "metadata": {},
   "outputs": [
    {
     "data": {
      "image/svg+xml": [
       "<?xml version=\"1.0\" encoding=\"utf-8\"?>\n",
       "<svg xmlns=\"http://www.w3.org/2000/svg\" xmlns:xlink=\"http://www.w3.org/1999/xlink\" width=\"600\" height=\"400\" viewBox=\"0 0 2400 1600\">\n",
       "<defs>\n",
       "  <clipPath id=\"clip6800\">\n",
       "    <rect x=\"0\" y=\"0\" width=\"2400\" height=\"1600\"/>\n",
       "  </clipPath>\n",
       "</defs>\n",
       "<path clip-path=\"url(#clip6800)\" d=\"\n",
       "M0 1600 L2400 1600 L2400 0 L0 0  Z\n",
       "  \" fill=\"#ffffff\" fill-rule=\"evenodd\" fill-opacity=\"1\"/>\n",
       "<defs>\n",
       "  <clipPath id=\"clip6801\">\n",
       "    <rect x=\"480\" y=\"0\" width=\"1681\" height=\"1600\"/>\n",
       "  </clipPath>\n",
       "</defs>\n",
       "<path clip-path=\"url(#clip6800)\" d=\"\n",
       "M215.754 1425.62 L2352.76 1425.62 L2352.76 121.675 L215.754 121.675  Z\n",
       "  \" fill=\"#ffffff\" fill-rule=\"evenodd\" fill-opacity=\"1\"/>\n",
       "<defs>\n",
       "  <clipPath id=\"clip6802\">\n",
       "    <rect x=\"215\" y=\"121\" width=\"2138\" height=\"1305\"/>\n",
       "  </clipPath>\n",
       "</defs>\n",
       "<polyline clip-path=\"url(#clip6802)\" style=\"stroke:#000000; stroke-width:2; stroke-opacity:0.1; fill:none\" points=\"\n",
       "  271.183,1425.62 271.183,121.675 \n",
       "  \"/>\n",
       "<polyline clip-path=\"url(#clip6802)\" style=\"stroke:#000000; stroke-width:2; stroke-opacity:0.1; fill:none\" points=\"\n",
       "  776.456,1425.62 776.456,121.675 \n",
       "  \"/>\n",
       "<polyline clip-path=\"url(#clip6802)\" style=\"stroke:#000000; stroke-width:2; stroke-opacity:0.1; fill:none\" points=\"\n",
       "  1281.73,1425.62 1281.73,121.675 \n",
       "  \"/>\n",
       "<polyline clip-path=\"url(#clip6802)\" style=\"stroke:#000000; stroke-width:2; stroke-opacity:0.1; fill:none\" points=\"\n",
       "  1787,1425.62 1787,121.675 \n",
       "  \"/>\n",
       "<polyline clip-path=\"url(#clip6802)\" style=\"stroke:#000000; stroke-width:2; stroke-opacity:0.1; fill:none\" points=\"\n",
       "  2292.27,1425.62 2292.27,121.675 \n",
       "  \"/>\n",
       "<polyline clip-path=\"url(#clip6802)\" style=\"stroke:#000000; stroke-width:2; stroke-opacity:0.1; fill:none\" points=\"\n",
       "  215.754,1310.54 2352.76,1310.54 \n",
       "  \"/>\n",
       "<polyline clip-path=\"url(#clip6802)\" style=\"stroke:#000000; stroke-width:2; stroke-opacity:0.1; fill:none\" points=\"\n",
       "  215.754,931.369 2352.76,931.369 \n",
       "  \"/>\n",
       "<polyline clip-path=\"url(#clip6802)\" style=\"stroke:#000000; stroke-width:2; stroke-opacity:0.1; fill:none\" points=\"\n",
       "  215.754,552.198 2352.76,552.198 \n",
       "  \"/>\n",
       "<polyline clip-path=\"url(#clip6802)\" style=\"stroke:#000000; stroke-width:2; stroke-opacity:0.1; fill:none\" points=\"\n",
       "  215.754,173.028 2352.76,173.028 \n",
       "  \"/>\n",
       "<polyline clip-path=\"url(#clip6800)\" style=\"stroke:#000000; stroke-width:4; stroke-opacity:1; fill:none\" points=\"\n",
       "  215.754,1425.62 2352.76,1425.62 \n",
       "  \"/>\n",
       "<polyline clip-path=\"url(#clip6800)\" style=\"stroke:#000000; stroke-width:4; stroke-opacity:1; fill:none\" points=\"\n",
       "  215.754,1425.62 215.754,121.675 \n",
       "  \"/>\n",
       "<polyline clip-path=\"url(#clip6800)\" style=\"stroke:#000000; stroke-width:4; stroke-opacity:1; fill:none\" points=\"\n",
       "  271.183,1425.62 271.183,1409.97 \n",
       "  \"/>\n",
       "<polyline clip-path=\"url(#clip6800)\" style=\"stroke:#000000; stroke-width:4; stroke-opacity:1; fill:none\" points=\"\n",
       "  776.456,1425.62 776.456,1409.97 \n",
       "  \"/>\n",
       "<polyline clip-path=\"url(#clip6800)\" style=\"stroke:#000000; stroke-width:4; stroke-opacity:1; fill:none\" points=\"\n",
       "  1281.73,1425.62 1281.73,1409.97 \n",
       "  \"/>\n",
       "<polyline clip-path=\"url(#clip6800)\" style=\"stroke:#000000; stroke-width:4; stroke-opacity:1; fill:none\" points=\"\n",
       "  1787,1425.62 1787,1409.97 \n",
       "  \"/>\n",
       "<polyline clip-path=\"url(#clip6800)\" style=\"stroke:#000000; stroke-width:4; stroke-opacity:1; fill:none\" points=\"\n",
       "  2292.27,1425.62 2292.27,1409.97 \n",
       "  \"/>\n",
       "<polyline clip-path=\"url(#clip6800)\" style=\"stroke:#000000; stroke-width:4; stroke-opacity:1; fill:none\" points=\"\n",
       "  215.754,1310.54 241.398,1310.54 \n",
       "  \"/>\n",
       "<polyline clip-path=\"url(#clip6800)\" style=\"stroke:#000000; stroke-width:4; stroke-opacity:1; fill:none\" points=\"\n",
       "  215.754,931.369 241.398,931.369 \n",
       "  \"/>\n",
       "<polyline clip-path=\"url(#clip6800)\" style=\"stroke:#000000; stroke-width:4; stroke-opacity:1; fill:none\" points=\"\n",
       "  215.754,552.198 241.398,552.198 \n",
       "  \"/>\n",
       "<polyline clip-path=\"url(#clip6800)\" style=\"stroke:#000000; stroke-width:4; stroke-opacity:1; fill:none\" points=\"\n",
       "  215.754,173.028 241.398,173.028 \n",
       "  \"/>\n",
       "<g clip-path=\"url(#clip6800)\">\n",
       "<text style=\"fill:#000000; fill-opacity:1; font-family:Arial,Helvetica Neue,Helvetica,sans-serif; font-size:48px; text-anchor:middle;\" transform=\"rotate(0, 271.183, 1479.62)\" x=\"271.183\" y=\"1479.62\">0</text>\n",
       "</g>\n",
       "<g clip-path=\"url(#clip6800)\">\n",
       "<text style=\"fill:#000000; fill-opacity:1; font-family:Arial,Helvetica Neue,Helvetica,sans-serif; font-size:48px; text-anchor:middle;\" transform=\"rotate(0, 776.456, 1479.62)\" x=\"776.456\" y=\"1479.62\">100</text>\n",
       "</g>\n",
       "<g clip-path=\"url(#clip6800)\">\n",
       "<text style=\"fill:#000000; fill-opacity:1; font-family:Arial,Helvetica Neue,Helvetica,sans-serif; font-size:48px; text-anchor:middle;\" transform=\"rotate(0, 1281.73, 1479.62)\" x=\"1281.73\" y=\"1479.62\">200</text>\n",
       "</g>\n",
       "<g clip-path=\"url(#clip6800)\">\n",
       "<text style=\"fill:#000000; fill-opacity:1; font-family:Arial,Helvetica Neue,Helvetica,sans-serif; font-size:48px; text-anchor:middle;\" transform=\"rotate(0, 1787, 1479.62)\" x=\"1787\" y=\"1479.62\">300</text>\n",
       "</g>\n",
       "<g clip-path=\"url(#clip6800)\">\n",
       "<text style=\"fill:#000000; fill-opacity:1; font-family:Arial,Helvetica Neue,Helvetica,sans-serif; font-size:48px; text-anchor:middle;\" transform=\"rotate(0, 2292.27, 1479.62)\" x=\"2292.27\" y=\"1479.62\">400</text>\n",
       "</g>\n",
       "<g clip-path=\"url(#clip6800)\">\n",
       "<text style=\"fill:#000000; fill-opacity:1; font-family:Arial,Helvetica Neue,Helvetica,sans-serif; font-size:48px; text-anchor:end;\" transform=\"rotate(0, 191.754, 1328.04)\" x=\"191.754\" y=\"1328.04\">0.1</text>\n",
       "</g>\n",
       "<g clip-path=\"url(#clip6800)\">\n",
       "<text style=\"fill:#000000; fill-opacity:1; font-family:Arial,Helvetica Neue,Helvetica,sans-serif; font-size:48px; text-anchor:end;\" transform=\"rotate(0, 191.754, 948.869)\" x=\"191.754\" y=\"948.869\">0.2</text>\n",
       "</g>\n",
       "<g clip-path=\"url(#clip6800)\">\n",
       "<text style=\"fill:#000000; fill-opacity:1; font-family:Arial,Helvetica Neue,Helvetica,sans-serif; font-size:48px; text-anchor:end;\" transform=\"rotate(0, 191.754, 569.698)\" x=\"191.754\" y=\"569.698\">0.3</text>\n",
       "</g>\n",
       "<g clip-path=\"url(#clip6800)\">\n",
       "<text style=\"fill:#000000; fill-opacity:1; font-family:Arial,Helvetica Neue,Helvetica,sans-serif; font-size:48px; text-anchor:end;\" transform=\"rotate(0, 191.754, 190.528)\" x=\"191.754\" y=\"190.528\">0.4</text>\n",
       "</g>\n",
       "<g clip-path=\"url(#clip6800)\">\n",
       "<text style=\"fill:#000000; fill-opacity:1; font-family:Arial,Helvetica Neue,Helvetica,sans-serif; font-size:84px; text-anchor:middle;\" transform=\"rotate(0, 1284.25, 73.2)\" x=\"1284.25\" y=\"73.2\">Distortion vs number of removed factors - Max-sum</text>\n",
       "</g>\n",
       "<g clip-path=\"url(#clip6800)\">\n",
       "<text style=\"fill:#000000; fill-opacity:1; font-family:Arial,Helvetica Neue,Helvetica,sans-serif; font-size:66px; text-anchor:middle;\" transform=\"rotate(0, 1284.25, 1559.48)\" x=\"1284.25\" y=\"1559.48\">b</text>\n",
       "</g>\n",
       "<g clip-path=\"url(#clip6800)\">\n",
       "<text style=\"fill:#000000; fill-opacity:1; font-family:Arial,Helvetica Neue,Helvetica,sans-serif; font-size:66px; text-anchor:middle;\" transform=\"rotate(-90, 89.2861, 773.647)\" x=\"89.2861\" y=\"773.647\">D</text>\n",
       "</g>\n",
       "<path clip-path=\"url(#clip6802)\" d=\"\n",
       "M276.235 294.706 L286.341 463.33 L296.446 510.546 L321.71 553.341 L372.237 841.069 L523.819 978.384 L776.456 1034.55 L1281.73 1098.8 L2292.27 1031.06 L2292.27 964.468 \n",
       "  L1281.73 1023.59 L776.456 926.548 L523.819 855.006 L372.237 700.132 L321.71 404.165 L296.446 361.874 L286.341 316.572 L276.235 158.579  Z\n",
       "  \" fill=\"#009af9\" fill-rule=\"evenodd\" fill-opacity=\"0.5\"/>\n",
       "<polyline clip-path=\"url(#clip6802)\" style=\"stroke:#009af9; stroke-width:4; stroke-opacity:1; fill:none\" points=\"\n",
       "  276.235,226.643 286.341,389.951 296.446,436.21 321.71,478.753 372.237,770.601 523.819,916.695 776.456,980.547 1281.73,1061.2 2292.27,997.762 \n",
       "  \"/>\n",
       "<circle clip-path=\"url(#clip6802)\" cx=\"276.235\" cy=\"226.643\" r=\"14\" fill=\"#009af9\" fill-rule=\"evenodd\" fill-opacity=\"1\" stroke=\"#000000\" stroke-opacity=\"1\" stroke-width=\"3.2\"/>\n",
       "<circle clip-path=\"url(#clip6802)\" cx=\"286.341\" cy=\"389.951\" r=\"14\" fill=\"#009af9\" fill-rule=\"evenodd\" fill-opacity=\"1\" stroke=\"#000000\" stroke-opacity=\"1\" stroke-width=\"3.2\"/>\n",
       "<circle clip-path=\"url(#clip6802)\" cx=\"296.446\" cy=\"436.21\" r=\"14\" fill=\"#009af9\" fill-rule=\"evenodd\" fill-opacity=\"1\" stroke=\"#000000\" stroke-opacity=\"1\" stroke-width=\"3.2\"/>\n",
       "<circle clip-path=\"url(#clip6802)\" cx=\"321.71\" cy=\"478.753\" r=\"14\" fill=\"#009af9\" fill-rule=\"evenodd\" fill-opacity=\"1\" stroke=\"#000000\" stroke-opacity=\"1\" stroke-width=\"3.2\"/>\n",
       "<circle clip-path=\"url(#clip6802)\" cx=\"372.237\" cy=\"770.601\" r=\"14\" fill=\"#009af9\" fill-rule=\"evenodd\" fill-opacity=\"1\" stroke=\"#000000\" stroke-opacity=\"1\" stroke-width=\"3.2\"/>\n",
       "<circle clip-path=\"url(#clip6802)\" cx=\"523.819\" cy=\"916.695\" r=\"14\" fill=\"#009af9\" fill-rule=\"evenodd\" fill-opacity=\"1\" stroke=\"#000000\" stroke-opacity=\"1\" stroke-width=\"3.2\"/>\n",
       "<circle clip-path=\"url(#clip6802)\" cx=\"776.456\" cy=\"980.547\" r=\"14\" fill=\"#009af9\" fill-rule=\"evenodd\" fill-opacity=\"1\" stroke=\"#000000\" stroke-opacity=\"1\" stroke-width=\"3.2\"/>\n",
       "<circle clip-path=\"url(#clip6802)\" cx=\"1281.73\" cy=\"1061.2\" r=\"14\" fill=\"#009af9\" fill-rule=\"evenodd\" fill-opacity=\"1\" stroke=\"#000000\" stroke-opacity=\"1\" stroke-width=\"3.2\"/>\n",
       "<circle clip-path=\"url(#clip6802)\" cx=\"2292.27\" cy=\"997.762\" r=\"14\" fill=\"#009af9\" fill-rule=\"evenodd\" fill-opacity=\"1\" stroke=\"#000000\" stroke-opacity=\"1\" stroke-width=\"3.2\"/>\n",
       "<polyline clip-path=\"url(#clip6802)\" style=\"stroke:#e26f46; stroke-width:4; stroke-opacity:1; fill:none\" points=\"\n",
       "  -1921.25,1388.71 4489.76,1388.71 \n",
       "  \"/>\n",
       "<path clip-path=\"url(#clip6800)\" d=\"\n",
       "M1792 386.635 L2280.76 386.635 L2280.76 205.195 L1792 205.195  Z\n",
       "  \" fill=\"#ffffff\" fill-rule=\"evenodd\" fill-opacity=\"1\"/>\n",
       "<polyline clip-path=\"url(#clip6800)\" style=\"stroke:#000000; stroke-width:4; stroke-opacity:1; fill:none\" points=\"\n",
       "  1792,386.635 2280.76,386.635 2280.76,205.195 1792,205.195 1792,386.635 \n",
       "  \"/>\n",
       "<polyline clip-path=\"url(#clip6800)\" style=\"stroke:#009af9; stroke-width:4; stroke-opacity:1; fill:none\" points=\"\n",
       "  1816,265.675 1960,265.675 \n",
       "  \"/>\n",
       "<circle clip-path=\"url(#clip6800)\" cx=\"1900\" cy=\"265.675\" r=\"21\" fill=\"#009af9\" fill-rule=\"evenodd\" fill-opacity=\"1\" stroke=\"#000000\" stroke-opacity=\"1\" stroke-width=\"3.2\"/>\n",
       "<g clip-path=\"url(#clip6800)\">\n",
       "<text style=\"fill:#000000; fill-opacity:1; font-family:Arial,Helvetica Neue,Helvetica,sans-serif; font-size:48px; text-anchor:start;\" transform=\"rotate(0, 1984, 283.175)\" x=\"1984\" y=\"283.175\">Simulations</text>\n",
       "</g>\n",
       "<polyline clip-path=\"url(#clip6800)\" style=\"stroke:#e26f46; stroke-width:4; stroke-opacity:1; fill:none\" points=\"\n",
       "  1816,326.155 1960,326.155 \n",
       "  \"/>\n",
       "<g clip-path=\"url(#clip6800)\">\n",
       "<text style=\"fill:#000000; fill-opacity:1; font-family:Arial,Helvetica Neue,Helvetica,sans-serif; font-size:48px; text-anchor:start;\" transform=\"rotate(0, 1984, 343.655)\" x=\"1984\" y=\"343.655\">RDB</text>\n",
       "</g>\n",
       "</svg>\n"
      ]
     },
     "execution_count": 57,
     "metadata": {},
     "output_type": "execute_result"
    }
   ],
   "source": [
    "dist_ms = distortion.(sims_ms)\n",
    "avg_dist_ms = mean.(dist_ms)\n",
    "sd_dist_ms = std.(dist_ms) ./ sqrt(niter)\n",
    "bound = rdbinv(1-m/n)\n",
    "Plots.plot(bvals, avg_dist_ms, xlabel=\"b\", ylabel=\"D\", label=\"Simulations\", ribbon=sd_dist_ms, marker=:circle)\n",
    "Plots.hline!([bound], label=\"RDB\")\n",
    "title!(\"Distortion vs number of removed factors - Max-sum\")"
   ]
  }
 ],
 "metadata": {
  "kernelspec": {
   "display_name": "Julia 1.5.3",
   "language": "julia",
   "name": "julia-1.5"
  },
  "language_info": {
   "file_extension": ".jl",
   "mimetype": "application/julia",
   "name": "julia",
   "version": "1.5.3"
  }
 },
 "nbformat": 4,
 "nbformat_minor": 4
}
