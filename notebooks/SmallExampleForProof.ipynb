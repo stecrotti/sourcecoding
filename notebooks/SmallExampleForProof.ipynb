{
 "cells": [
  {
   "cell_type": "code",
   "execution_count": 4,
   "metadata": {},
   "outputs": [],
   "source": [
    "include(\"../code/slim_graphs.jl\")\n",
    "include(\"../code/bp_full.jl\")\n",
    "include(\"../code/plotters/plot_graph.jl\")"
   ]
  },
  {
   "cell_type": "code",
   "execution_count": 5,
   "metadata": {},
   "outputs": [
    {
     "data": {
      "text/plain": [
       "3×5 SparseMatrixCSC{Bool, Int64} with 8 stored entries:\n",
       " 1  ⋅  ⋅  1  ⋅\n",
       " ⋅  1  1  1  ⋅\n",
       " 1  1  ⋅  ⋅  1"
      ]
     },
     "execution_count": 5,
     "metadata": {},
     "output_type": "execute_result"
    }
   ],
   "source": [
    "H = sparse(Bool.([1 0 0 1 0; 0 1 1 1 0 ; 1 1 0 0 1]))"
   ]
  },
  {
   "cell_type": "code",
   "execution_count": 10,
   "metadata": {},
   "outputs": [
    {
     "data": {
      "image/png": "[encoded data removed]"
     },
     "execution_count": 10,
     "metadata": {},
     "output_type": "execute_result"
    },
    {
     "name": "stderr",
     "output_type": "stream",
     "text": [
      "┌ Warning: Indices Base.OneTo(8) of attribute `markershape` does not match data indices 1:422.\n",
      "└ @ Plots /home/crotti/.julia/packages/Plots/SVksJ/src/utils.jl:102\n",
      "┌ Info: Data contains NaNs or missing values, and indices of `markershape` vector do not match data indices.\n",
      "│ If you intend elements of `markershape` to apply to individual NaN-separated segements in the data,\n",
      "│ pass each segment in a separate vector instead, and use a row vector for `markershape`. Legend entries \n",
      "│ may be suppressed by passing an empty label.\n",
      "│ For example,\n",
      "│     plot([1:2,1:3], [[4,5],[3,4,5]], label=[\"y\" \"\"], markershape=[1 2])\n",
      "└ @ Plots /home/crotti/.julia/packages/Plots/SVksJ/src/utils.jl:104\n"
     ]
    }
   ],
   "source": [
    "plot(H)"
   ]
  },
  {
   "cell_type": "code",
   "execution_count": 11,
   "metadata": {},
   "outputs": [
    {
     "data": {
      "text/plain": [
       "5×2 Matrix{Bool}:\n",
       " 0  1\n",
       " 1  0\n",
       " 1  1\n",
       " 0  1\n",
       " 1  1"
      ]
     },
     "execution_count": 11,
     "metadata": {},
     "output_type": "execute_result"
    }
   ],
   "source": [
    "B,indep = findbasis(H)\n",
    "Array(B)"
   ]
  },
  {
   "cell_type": "code",
   "execution_count": 12,
   "metadata": {},
   "outputs": [
    {
     "data": {
      "text/plain": [
       "2×2 Matrix{Vector{Int64}}:\n",
       " [1, 1, 0, 1, 0]  [0, 1, 1, 0, 1]\n",
       " [1, 0, 1, 1, 1]  [0, 0, 0, 0, 0]"
      ]
     },
     "execution_count": 12,
     "metadata": {},
     "output_type": "execute_result"
    }
   ],
   "source": [
    "C = [vec(sum(B[:,collect(c)], dims=2) .% 2) for c in Iterators.product(fill([true,false], size(B,2))...)]"
   ]
  },
  {
   "cell_type": "code",
   "execution_count": 13,
   "metadata": {},
   "outputs": [
    {
     "name": "stdout",
     "output_type": "stream",
     "text": [
      "Codeword: [1, 1, 0, 1, 0], distortion: 4\n",
      "Codeword: [1, 0, 1, 1, 1], distortion: 1\n",
      "Codeword: [0, 1, 1, 0, 1], distortion: 2\n",
      "Codeword: [0, 0, 0, 0, 0], distortion: 3\n"
     ]
    }
   ],
   "source": [
    "y = [0,0,1,1,1]\n",
    "hd(x,y) = sum(x.!=y)\n",
    "for c in C\n",
    "    println(\"Codeword: \", c, \", distortion: \", hd(c,y))\n",
    "end"
   ]
  },
  {
   "cell_type": "code",
   "execution_count": 21,
   "metadata": {},
   "outputs": [],
   "source": [
    "s = (-1) .^ y\n",
    "efield = [(ss,-ss) for ss in s]\n",
    "ms = BPFull(H, efield);"
   ]
  },
  {
   "cell_type": "code",
   "execution_count": 22,
   "metadata": {},
   "outputs": [
    {
     "name": "stdout",
     "output_type": "stream",
     "text": [
      "Iter 1. Decision variables: Bool[0, 0, 1, 1, 1] ε = 2.0\n",
      "Iter 2. Decision variables: Bool[1, 0, 1, 1, 0] ε = 2.0\n",
      "Iter 3. Decision variables: Bool[1, 0, 1, 1, 1] ε = 2.0\n",
      "Iter 4. Decision variables: Bool[1, 0, 1, 1, 1] ε = 2.0\n",
      "Iter 5. Decision variables: Bool[1, 0, 1, 1, 1] ε = 2.0\n",
      "Iter 6. Decision variables: Bool[1, 0, 1, 1, 1] ε = 2.0\n",
      "Iter 7. Decision variables: Bool[1, 0, 1, 1, 1] ε = 0.0\n"
     ]
    },
    {
     "data": {
      "text/plain": [
       "(0.0, 7)"
      ]
     },
     "execution_count": 22,
     "metadata": {},
     "output_type": "execute_result"
    }
   ],
   "source": [
    "function cb(it, err, ms)\n",
    "    x = argmax.(ms.belief) .== 2\n",
    "    println(\"Iter \", it, \". Decision variables: \", x, \" ε = \", err)\n",
    "    false\n",
    "end\n",
    "\n",
    "iteration_ms!(ms, callback=cb)"
   ]
  },
  {
   "cell_type": "code",
   "execution_count": 23,
   "metadata": {},
   "outputs": [
    {
     "data": {
      "text/plain": [
       "8-element Vector{Int64}:\n",
       " -4\n",
       " -2\n",
       "  2\n",
       "  2\n",
       " -2\n",
       "  0\n",
       " -2\n",
       " -2"
      ]
     },
     "execution_count": 23,
     "metadata": {},
     "output_type": "execute_result"
    }
   ],
   "source": [
    "map(t->t[1]-t[2], ms.u)"
   ]
  },
  {
   "cell_type": "code",
   "execution_count": 24,
   "metadata": {},
   "outputs": [
    {
     "data": {
      "text/plain": [
       "8-element Vector{Int64}:\n",
       "  0\n",
       " -2\n",
       "  4\n",
       "  4\n",
       " -2\n",
       " -4\n",
       " -2\n",
       " -2"
      ]
     },
     "execution_count": 24,
     "metadata": {},
     "output_type": "execute_result"
    }
   ],
   "source": [
    "map(t->t[1]-t[2], ms.h)"
   ]
  },
  {
   "cell_type": "code",
   "execution_count": null,
   "metadata": {},
   "outputs": [],
   "source": []
  }
 ],
 "metadata": {
  "kernelspec": {
   "display_name": "Julia 1.6.1-pre",
   "language": "julia",
   "name": "julia-1.6"
  },
  "language_info": {
   "file_extension": ".jl",
   "mimetype": "application/julia",
   "name": "julia",
   "version": "1.6.1"
  }
 },
 "nbformat": 4,
 "nbformat_minor": 4
}
