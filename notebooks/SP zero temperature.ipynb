{
 "cells": [
  {
   "cell_type": "markdown",
   "metadata": {},
   "source": [
    "# Survey Propagation at zero temperature"
   ]
  },
  {
   "cell_type": "code",
   "execution_count": 461,
   "metadata": {},
   "outputs": [],
   "source": [
    "include(\"../code/sp.jl\")\n",
    "include(\"../code/slim_graphs.jl\")\n",
    "using StaticArrays, OffsetArrays, BenchmarkTools"
   ]
  },
  {
   "cell_type": "code",
   "execution_count": 402,
   "metadata": {},
   "outputs": [
    {
     "name": "stdout",
     "output_type": "stream",
     "text": [
      "size(H) = (6600, 9000)\n",
      "5 removed factors [129, 1515, 1531, 1655, 3471]\n"
     ]
    }
   ],
   "source": [
    "H = readgraph(\"/tmp/graph9000.txt\")\n",
    "H = readseeds(\"/tmp/seeds9000.txt\", H)\n",
    "M,N = size(H)\n",
    "rowperm,colperm = leaf_removal(H);"
   ]
  },
  {
   "cell_type": "code",
   "execution_count": 403,
   "metadata": {},
   "outputs": [],
   "source": [
    "x0 = rand((0,1), size(H,2))\n",
    "s = (-1).^x0\n",
    "J = 10\n",
    "init=OffsetArray(MVector{2J+1}(randn(2J+1)), -J:J)\n",
    "sp1 = survey_propagation(H; field=s, init, y=2.0);"
   ]
  },
  {
   "cell_type": "markdown",
   "metadata": {},
   "source": [
    "## Updates for variables and factors"
   ]
  },
  {
   "cell_type": "code",
   "execution_count": 464,
   "metadata": {},
   "outputs": [
    {
     "data": {
      "text/plain": [
       "(0.5924936547636817, 0.5924936547636817)"
      ]
     },
     "execution_count": 464,
     "metadata": {},
     "output_type": "execute_result"
    }
   ],
   "source": [
    "b = 21\n",
    "∂b = nonzeros(sp.X)[nzrange(sp.X, b)]\n",
    "sp = deepcopy(sp1)\n",
    "sp2 = deepcopy(sp1)\n",
    "e1 = update_factor_zeroT_slow!(sp1, b; damp = 0.4)\n",
    "e2 = update_factor_zeroT!(sp2, b; damp = 0.4)\n",
    "[sp1.P[∂b][2] sp2.P[∂b][2]]\n",
    "e1, e2"
   ]
  },
  {
   "cell_type": "code",
   "execution_count": 405,
   "metadata": {},
   "outputs": [
    {
     "name": "stdout",
     "output_type": "stream",
     "text": [
      "  1.757 ms (15907 allocations: 499.23 KiB)\n"
     ]
    },
    {
     "data": {
      "text/plain": [
       "4.440892098500626e-16"
      ]
     },
     "execution_count": 405,
     "metadata": {},
     "output_type": "execute_result"
    }
   ],
   "source": [
    "@btime update_factor_zeroT_slow!($sp1, $b; damp = 0.4)"
   ]
  },
  {
   "cell_type": "code",
   "execution_count": 406,
   "metadata": {},
   "outputs": [
    {
     "name": "stdout",
     "output_type": "stream",
     "text": [
      "  17.384 μs (124 allocations: 16.98 KiB)\n"
     ]
    },
    {
     "data": {
      "text/plain": [
       "4.440892098500626e-16"
      ]
     },
     "execution_count": 406,
     "metadata": {},
     "output_type": "execute_result"
    }
   ],
   "source": [
    "@btime update_factor_zeroT!($sp1, $b; damp = 0.4)"
   ]
  },
  {
   "cell_type": "code",
   "execution_count": 467,
   "metadata": {
    "scrolled": false
   },
   "outputs": [
    {
     "data": {
      "text/plain": [
       "21×2 Array{Float64,2}:\n",
       "   0.172396    0.172396\n",
       "  -1.90871    -1.90871\n",
       "  -1.58897    -1.58897\n",
       "  -2.52424    -2.52424\n",
       "  -0.605793   -0.605793\n",
       "  -1.1778     -1.1778\n",
       "  -1.68192    -1.68192\n",
       "  -4.28022    -4.28022\n",
       "  -2.9248     -2.9248\n",
       "  -2.48352    -2.48352\n",
       "  -3.96883    -3.96883\n",
       "  -4.24456    -4.24456\n",
       "  -3.52041    -3.52041\n",
       "  -4.35056    -4.35056\n",
       "  -4.39801    -4.39801\n",
       "  -3.86666    -3.86666\n",
       "  -2.36743    -2.36743\n",
       "  -1.88273    -1.88273\n",
       "  -4.38934    -4.38934\n",
       "  -3.64829    -3.64829\n",
       " -Inf        -Inf"
      ]
     },
     "execution_count": 467,
     "metadata": {},
     "output_type": "execute_result"
    }
   ],
   "source": [
    "i = \n",
    "∂i = nzrange(sp.H, i)\n",
    "sp = deepcopy(sp1)\n",
    "e1 = update_var_zeroT_slow!(sp1, i; damp = 0.1, rein = 0.1)\n",
    "e2 = update_var_zeroT!(sp, i; damp = 0.1, rein = 0.1)\n",
    "[sp1.survey[i] sp.survey[i]]\n",
    "[sp1.Q[∂i][2] sp.Q[∂i][2]]\n",
    "# e1,e2"
   ]
  },
  {
   "cell_type": "code",
   "execution_count": 455,
   "metadata": {},
   "outputs": [
    {
     "name": "stdout",
     "output_type": "stream",
     "text": [
      "  297.501 μs (5349 allocations: 160.33 KiB)\n"
     ]
    },
    {
     "data": {
      "text/plain": [
       "8.881784197001252e-16"
      ]
     },
     "execution_count": 455,
     "metadata": {},
     "output_type": "execute_result"
    }
   ],
   "source": [
    "@btime update_var_zeroT_slow!($sp1, $i; damp = 0.4, rein = 1e-3)"
   ]
  },
  {
   "cell_type": "code",
   "execution_count": 456,
   "metadata": {},
   "outputs": [
    {
     "name": "stdout",
     "output_type": "stream",
     "text": [
      "  5.886 μs (19 allocations: 3.72 KiB)\n"
     ]
    },
    {
     "data": {
      "text/plain": [
       "8.881784197001252e-16"
      ]
     },
     "execution_count": 456,
     "metadata": {},
     "output_type": "execute_result"
    }
   ],
   "source": [
    "@btime update_var_zeroT!($sp1, $i; damp = 0.4, rein = 1e-3)"
   ]
  },
  {
   "cell_type": "markdown",
   "metadata": {},
   "source": [
    "## Run on an instance"
   ]
  },
  {
   "cell_type": "markdown",
   "metadata": {},
   "source": [
    "## Recursion for the b's"
   ]
  },
  {
   "cell_type": "code",
   "execution_count": 356,
   "metadata": {},
   "outputs": [],
   "source": [
    "Q = [OffsetArray(randn(2J+1),-J:J) for _ in 1:3];"
   ]
  },
  {
   "cell_type": "code",
   "execution_count": 357,
   "metadata": {},
   "outputs": [
    {
     "data": {
      "text/plain": [
       "Bfast (generic function with 1 method)"
      ]
     },
     "execution_count": 357,
     "metadata": {},
     "output_type": "execute_result"
    }
   ],
   "source": [
    "function Bslow(Q; k=length(Q)-1)\n",
    "   b = fill(-Inf, -J:J)\n",
    "    for hs in Iterators.product(fill(-J:J, k)...)\n",
    "        u = minimum(abs, hs)\n",
    "        σ = prod(sign, hs)\n",
    "        for v in 1:u\n",
    "           b[v*σ] = max(b[v*σ], sum(q[h] for (q,h) in zip(Q,hs))) \n",
    "        end\n",
    "    end\n",
    "    b\n",
    "end\n",
    "\n",
    "function Bfast(Q; k=length(Q)-1)\n",
    "    b = fill(-Inf, -J:J); b[1:J] .= 0.0\n",
    "    bnew = fill(-Inf, -J:J); bnew[1:J] .= 0.0\n",
    "    for n in 1:k\n",
    "        for u in 1:J\n",
    "            m1 = maximum(Q[n][u:end])\n",
    "            m2 = maximum(Q[n][begin:-u])\n",
    "            bnew[u] = max(m1+b[u], m2+b[-u])\n",
    "            bnew[-u] = max(m1+b[-u], m2+b[u])\n",
    "        end\n",
    "        b .= bnew\n",
    "    end\n",
    "    b\n",
    "end"
   ]
  },
  {
   "cell_type": "code",
   "execution_count": 358,
   "metadata": {},
   "outputs": [
    {
     "data": {
      "text/plain": [
       "true"
      ]
     },
     "execution_count": 358,
     "metadata": {},
     "output_type": "execute_result"
    }
   ],
   "source": [
    "Bsl = Bslow(Q)\n",
    "Bfa = Bfast(Q)\n",
    "Bsl == Bfa"
   ]
  },
  {
   "cell_type": "markdown",
   "metadata": {},
   "source": [
    "## Recursion for the a's"
   ]
  },
  {
   "cell_type": "code",
   "execution_count": 388,
   "metadata": {},
   "outputs": [],
   "source": [
    "Q = [OffsetArray(rand(2J+1),-J:J) for _ in 1:2];"
   ]
  },
  {
   "cell_type": "code",
   "execution_count": 389,
   "metadata": {},
   "outputs": [
    {
     "data": {
      "text/plain": [
       "Afast_old (generic function with 2 methods)"
      ]
     },
     "execution_count": 389,
     "metadata": {},
     "output_type": "execute_result"
    }
   ],
   "source": [
    "function Aslow(Q; k=length(Q))\n",
    "    a = fill(-Inf, -J:J)\n",
    "    for hs in Iterators.product(fill(-J:J, k)...)\n",
    "        u = minimum(abs, hs)*prod(sign, hs)\n",
    "        a[u] = max(a[u], sum(q[h] for (q,h) in zip(Q,hs))) \n",
    "    end\n",
    "    a\n",
    "end\n",
    "\n",
    "function Pifast(Q)\n",
    "    a = Aslow(Q, k=length(Q)-1)\n",
    "    b = Bslow(Q, k=length(Q)-1)\n",
    "    p = fill(-Inf, -J:J)\n",
    "    q = Q[end]\n",
    "    for u in 1:J-1\n",
    "        m1 = maximum(q[u+1:end])\n",
    "        m2 = maximum(q[begin:-u-1])\n",
    "        p[u] = max(q[u]+b[u], q[-u]+b[-u], m1+a[u], m2+a[-u])\n",
    "        p[-u] = max(q[u]+b[-u], q[-u]+b[u], m1+a[-u], m2+a[u])\n",
    "    end\n",
    "    p[J] = max(q[J]+b[J], q[-J]+b[-J])\n",
    "    p[-J] = max(q[J]+b[-J], q[-J]+b[J])\n",
    "    # u=0\n",
    "    sumqstar = 0.0\n",
    "    qmax = -Inf\n",
    "    for j in 1:length(Q)\n",
    "        qstar = maximum(Q[j])\n",
    "        sumqstar += qstar\n",
    "        qmax = max(qmax, Q[j][0] - qstar)\n",
    "    end\n",
    "    p[0] = sumqstar + qmax\n",
    "    p\n",
    "end\n",
    "    \n",
    "function Afast(Q, k=length(Q))\n",
    "    p = fill(-Inf, -J:J)\n",
    "    b = fill(-Inf, -J:J); b[1:J] .= 0.0\n",
    "    pnew = fill(-Inf, -J:J)\n",
    "    bnew = fill(-Inf, -J:J); bnew[1:J] .= 0.0\n",
    "    sumqstar = 0.0\n",
    "    qmax = -Inf\n",
    "    for j in 1:k\n",
    "        q = Q[j]\n",
    "        # update for u=0\n",
    "        qstar = maximum(q)\n",
    "        sumqstar += qstar\n",
    "        qmax = max(qmax, q[0] - qstar)\n",
    "        # update p and b\n",
    "        for u in 1:J-1\n",
    "            m1 = maximum(q[u+1:end])\n",
    "            m2 = maximum(q[begin:-u-1])\n",
    "            pnew[u] = max(q[u]+b[u], q[-u]+b[-u], m1+p[u], m2+p[-u])\n",
    "            pnew[-u] = max(q[u]+b[-u], q[-u]+b[u], m1+p[-u], m2+p[u])\n",
    "            n1 = max(m1, q[u])\n",
    "            n2 = max(m2, q[-u])\n",
    "            bnew[u] = max(n1+b[u], n2+b[-u])\n",
    "            bnew[-u] = max(n1+b[-u], n2+b[u])\n",
    "        end\n",
    "        pnew[J] = bnew[J] = max(q[J]+b[J], q[-J]+b[-J])\n",
    "        pnew[-J] = bnew[-J] = max(q[J]+b[-J], q[-J]+b[J])\n",
    "        b .= bnew\n",
    "        p .= pnew\n",
    "    end\n",
    "    p[0] = sumqstar + qmax\n",
    "    p        \n",
    "end\n",
    "    \n",
    "function Afast_old(Q, k=length(Q))\n",
    "    a = fill(-Inf, -J:J)\n",
    "    b = fill(-Inf, -J:J); b[1:J] .= 0.0\n",
    "    anew = fill(-Inf, -J:J)\n",
    "    bnew = fill(-Inf, -J:J); bnew[1:J] .= 0.0\n",
    "    for n in 1:k\n",
    "        q = Q[n]\n",
    "        # update a\n",
    "        for u in 1:J-1\n",
    "            m1 = maximum(q[u+1:end])\n",
    "            m2 = maximum(q[begin:-u-1])\n",
    "            anew[u] = max(q[u]+b[u], q[-u]+b[-u], m1+a[u], m2+a[-u])\n",
    "            anew[-u] = max(q[u]+b[-u], q[-u]+b[u], m1+a[-u], m2+a[u])\n",
    "        end\n",
    "        anew[J] = max(q[J]+b[J], q[-J]+b[-J])\n",
    "        anew[-J] = max(q[J]+b[-J], q[-J]+b[J])\n",
    "        # update b\n",
    "        for u in 1:J\n",
    "            m1 = maximum(q[u:end])\n",
    "            m2 = maximum(q[begin:-u])\n",
    "            bnew[u] = max(m1+b[u], m2+b[-u])\n",
    "            bnew[-u] = max(m1+b[-u], m2+b[u])\n",
    "        end\n",
    "        b .= bnew\n",
    "        a .= anew\n",
    "    end\n",
    "    a        \n",
    "end"
   ]
  },
  {
   "cell_type": "code",
   "execution_count": 390,
   "metadata": {},
   "outputs": [
    {
     "data": {
      "text/plain": [
       "21×3 Array{Float64,2}:\n",
       " 0.999569  0.999569  0.999569\n",
       " 1.18077   1.18077   1.18077\n",
       " 1.50147   1.50147   1.50147\n",
       " 1.76321   1.76321   1.76321\n",
       " 1.5637    1.5637    1.5637\n",
       " 1.70259   1.70259   1.70259\n",
       " 1.78917   1.78917   1.78917\n",
       " 1.83508   1.83508   1.83508\n",
       " 1.63741   1.63741   1.63741\n",
       " 1.73482   1.73482   1.73482\n",
       " 1.67677   1.67677   1.67677\n",
       " 1.77491   1.77491   1.77491\n",
       " 1.61045   1.61045   1.61045\n",
       " 1.80812   1.80812   1.80812\n",
       " 1.77844   1.77844   1.77844\n",
       " 1.79017   1.79017   1.79017\n",
       " 1.47612   1.47612   1.47612\n",
       " 1.67563   1.67563   1.67563\n",
       " 1.59641   1.59641   1.59641\n",
       " 1.14453   1.14453   1.14453\n",
       " 1.07134   1.07134   1.07134"
      ]
     },
     "execution_count": 390,
     "metadata": {},
     "output_type": "execute_result"
    }
   ],
   "source": [
    "Asl = Aslow(Q, k=length(Q))\n",
    "Pfast = Pifast(Q)\n",
    "Afa = Afast(Q)\n",
    "[Asl Pfast Afa]"
   ]
  },
  {
   "cell_type": "markdown",
   "metadata": {},
   "source": [
    "## Max-Sum convolution for variable update"
   ]
  },
  {
   "cell_type": "code",
   "execution_count": 231,
   "metadata": {},
   "outputs": [
    {
     "data": {
      "text/plain": [
       "msc_faster (generic function with 3 methods)"
      ]
     },
     "execution_count": 231,
     "metadata": {},
     "output_type": "execute_result"
    }
   ],
   "source": [
    "function msc_slow(P, J=10, s=1)\n",
    "    Pnew = copy(P[2:end])\n",
    "    f = min(-J, sum(firstindex(p) for p in Pnew)+s)\n",
    "    l = max(J,sum(lastindex(p) for p in Pnew)+s)\n",
    "    q = fill(Inf, f:l)\n",
    "    for us in Iterators.product(fill(-J:J, length(Pnew))...)\n",
    "        h = sum(us) + s\n",
    "        q[h] = min(q[h],abs(h) - sum(abs.(u)+p[u] for (p,u) in zip(Pnew,us)))\n",
    "    end\n",
    "    replace!(q, Inf => -Inf)\n",
    "    # clamp\n",
    "    q[J] = maximum(q[J:end])\n",
    "    q[-J] = maximum(q[begin:-J])\n",
    "    q[-J:J]\n",
    "end\n",
    "\n",
    "function msc_fast(P, J=10, s=1)\n",
    "    Pnew = [abs.(OffsetArray(-J:J, -J:J)) + p for p in P[2:end]]\n",
    "    f = fill(0.0, s:s)\n",
    "    for n in eachindex(Pnew)\n",
    "        f = msc(f, Pnew[n])\n",
    "    end  \n",
    "    q = fill(-Inf, -J:J)\n",
    "    for h in eachindex(f)\n",
    "        q[clamp(h,-J,J)] = max(q[clamp(h,-J,J)], abs(h) - f[h])\n",
    "    end\n",
    "        @show q_fast=q\n",
    "    q  \n",
    "end\n",
    "    \n",
    "function msc_faster(P, J=10, s=1)\n",
    "    Pnew = [abs.(OffsetArray(-J:J, -J:J)) + p for p in P[2:end]]\n",
    "    init = fill(0.0, s:s)\n",
    "    Q = [fill(0.0, 0:0) for a ∈ 1:length(Pnew)]\n",
    "    f = cavity!(Q, Pnew, msc, init)\n",
    "    q = fill(-Inf, -J:J)\n",
    "    for h in eachindex(f)\n",
    "        q[clamp(h,-J,J)] = max(q[clamp(h,-J,J)], abs(h) - f[h])\n",
    "    end\n",
    "    @show q_faster = q\n",
    "    q\n",
    "end"
   ]
  },
  {
   "cell_type": "code",
   "execution_count": null,
   "metadata": {},
   "outputs": [],
   "source": []
  }
 ],
 "metadata": {
  "kernelspec": {
   "display_name": "Julia 1.5.3",
   "language": "julia",
   "name": "julia-1.5"
  },
  "language_info": {
   "file_extension": ".jl",
   "mimetype": "application/julia",
   "name": "julia",
   "version": "1.5.3"
  }
 },
 "nbformat": 4,
 "nbformat_minor": 4
}
