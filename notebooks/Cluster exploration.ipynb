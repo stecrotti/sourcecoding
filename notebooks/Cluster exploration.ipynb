{
 "cells": [
  {
   "cell_type": "code",
   "execution_count": 10,
   "metadata": {},
   "outputs": [
    {
     "data": {
      "text/plain": [
       "22"
      ]
     },
     "execution_count": 10,
     "metadata": {},
     "output_type": "execute_result"
    }
   ],
   "source": [
    "include(\"../code/exact_enum.jl\")\n",
    "include(\"../code/matrix_generator.jl\")\n",
    "include(\"../code/bp_full.jl\")\n",
    "include(\"../../telegram/notifications.jl\")\n",
    "using Base.Threads\n",
    "nthreads()"
   ]
  },
  {
   "cell_type": "code",
   "execution_count": 19,
   "metadata": {},
   "outputs": [],
   "source": [
    "r = 0.2\n",
    "N = 110\n",
    "M = round(Int, N*(1-r))\n",
    "f = 1-3r\n",
    "At = ldpc_matrix(N,M,3M,[0,1-f,f],[0, 0, 1])[:,1:end-1]\n",
    "A = permutedims(At)\n",
    "src = bitrand(N)\n",
    "B, ind = findbasis_slow(BitMatrix(A));"
   ]
  },
  {
   "cell_type": "code",
   "execution_count": 20,
   "metadata": {},
   "outputs": [
    {
     "name": "stderr",
     "output_type": "stream",
     "text": [
      "┌ Warning: non-empty core\n",
      "└ @ Main /home/crotti/sourcecoding/code/slim_graphs.jl:67\n"
     ]
    },
    {
     "data": {
      "text/plain": [
       "(Int32[69, 76, 87], Int32[89, 4, 63], Int32[])"
      ]
     },
     "execution_count": 20,
     "metadata": {},
     "output_type": "execute_result"
    }
   ],
   "source": [
    "degs = vec(sum(A .!= 0, dims=1))\n",
    "rowperm, dep, indep = leaf_removal(A, At; degs=degs)"
   ]
  },
  {
   "cell_type": "code",
   "execution_count": 21,
   "metadata": {},
   "outputs": [
    {
     "data": {
      "text/plain": [
       "0.9727272727272728"
      ]
     },
     "execution_count": 21,
     "metadata": {},
     "output_type": "execute_result"
    }
   ],
   "source": [
    "core = degs .!= 0\n",
    "mean(core)"
   ]
  },
  {
   "cell_type": "code",
   "execution_count": null,
   "metadata": {},
   "outputs": [],
   "source": []
  }
 ],
 "metadata": {
  "kernelspec": {
   "display_name": "Julia 1.6.3",
   "language": "julia",
   "name": "julia-1.6"
  },
  "language_info": {
   "file_extension": ".jl",
   "mimetype": "application/julia",
   "name": "julia",
   "version": "1.6.3"
  }
 },
 "nbformat": 4,
 "nbformat_minor": 4
}
