{
 "cells": [
  {
   "cell_type": "markdown",
   "metadata": {},
   "source": [
    "LDGM codes\n",
    "---\n"
   ]
  },
  {
   "cell_type": "markdown",
   "metadata": {},
   "source": [
    "Given a source $y\\in\\{0,1\\}^n$ and a so-called Low-Density Generator Matrix (LDGM) $G\\in\\{0,1\\}^{n,k}, k<n$, find $x\\in\\{0,1\\}^k$ such that $d_H(Gx,s)$ is minimal.\n",
    "Following the notation in \\cite{castanheira2010lossy}, we assign indices $i\\in 1,\\dots,k$ to variables and $a\\in 1,\\dots,n$ to factors.\n",
    "The compression rate is given by $R=k/n$.\n",
    "\n",
    "After the usual change of variables $\\sigma_i=(-1)^{x_i}$, $s_a=(-1)^{y_a}$, one has\n",
    "\\begin{equation}\n",
    "    \\begin{aligned}\n",
    "    \\min_x \\sum_{a=1}^n (Gx)_a\\oplus y_a =&\n",
    "    \\min_x \\sum_{a=1}^n \\left(\\bigoplus_{i\\in\\partial a}x_i\\right)\\oplus y_a \\\\\n",
    "    =& \\min_\\sigma \\left[-\\sum_{a=1}^ns_a\\prod_{i\\in\\partial a}\\sigma_i\\right]\\\\\n",
    "    =& \\min_\\sigma \\mathcal{H}(\\sigma)\n",
    "    \\end{aligned}\n",
    "\\end{equation}\n",
    "The corresponding Boltzmann distribution\n",
    "\\begin{equation}\n",
    "    P(\\sigma) = \\frac1Z \\prod_{a=1}^n e^{\\beta s_a \\prod\\limits_{i\\in\\partial a}\\sigma_i}\n",
    "\\end{equation}"
   ]
  },
  {
   "cell_type": "markdown",
   "metadata": {},
   "source": [
    "Max-Sum equations\n",
    "---"
   ]
  },
  {
   "cell_type": "markdown",
   "metadata": {},
   "source": [
    "\\begin{equation}\n",
    "\\boxed{\n",
    "    \\begin{aligned}\n",
    "    h_{ia} =& \\sum_{b\\in\\partial i \\setminus a} u_{bi}\\\\\n",
    "    u_{ai} =& {\\rm sign}\\left(s_a\\prod_{j\\in\\partial a \\setminus i}\\sigma_j\\right)\\min\\left\\{1,\\min_{j\\in\\partial a \\setminus i}|h_{ja}|\\right\\}\n",
    "    \\end{aligned}\n",
    "    }\n",
    "\\end{equation}\n",
    "Notice that the second equation implies $|u_{ai}|\\le1$ !\n"
   ]
  },
  {
   "cell_type": "code",
   "execution_count": 31,
   "metadata": {},
   "outputs": [
    {
     "data": {
      "text/plain": [
       "iter_factor (generic function with 1 method)"
      ]
     },
     "execution_count": 31,
     "metadata": {},
     "output_type": "execute_result"
    }
   ],
   "source": [
    "function iter_factor(q, k)\n",
    "    p[0] = 1-(1-q[0])^k\n",
    "    p[1] = p[-1] = 0.5*(1-p[0])\n",
    "    p\n",
    "end"
   ]
  },
  {
   "cell_type": "code",
   "execution_count": 32,
   "metadata": {},
   "outputs": [
    {
     "data": {
      "text/plain": [
       "iter_variable (generic function with 1 method)"
      ]
     },
     "execution_count": 32,
     "metadata": {},
     "output_type": "execute_result"
    }
   ],
   "source": [
    "function convolve(p1, p2, maxd)\n",
    "    q = fill(0.0,-maxd:maxd)\n",
    "    for f1 ∈ eachindex(p1)\n",
    "        for f2 ∈ eachindex(p2)\n",
    "            q[clamp(f1+f2, -maxd, maxd)] += p1[f1]*p2[f2]\n",
    "        end\n",
    "    end\n",
    "    q\n",
    "end\n",
    "\n",
    "\n",
    "function iter_variable(p,d, maxd)\n",
    "    q = fill(0.0, -maxd:maxd); q[0]=1\n",
    "    for i in 1:d\n",
    "        q = convolve(q,p, maxd)\n",
    "    end\n",
    "    q ./= sum(q)\n",
    "    \n",
    "end"
   ]
  },
  {
   "cell_type": "code",
   "execution_count": 33,
   "metadata": {},
   "outputs": [
    {
     "data": {
      "text/plain": [
       "iter_slow_factor (generic function with 1 method)"
      ]
     },
     "execution_count": 33,
     "metadata": {},
     "output_type": "execute_result"
    }
   ],
   "source": [
    "function iter_slow_factor(q, k)\n",
    "    N = lastindex(q)\n",
    "    p = fill(0.0, -1:1)\n",
    "    for s in (-1,1)\n",
    "        for fs ∈ Iterators.product(fill(-N:N,k)...)\n",
    "            f = min(1, minimum(abs.(fs)))*sign(prod(fs)*s)\n",
    "            p[f] += prod(q[f1] for f1 ∈ fs)\n",
    "        end\n",
    "    end\n",
    "    p ./= sum(p)\n",
    "end\n"
   ]
  },
  {
   "cell_type": "code",
   "execution_count": 34,
   "metadata": {},
   "outputs": [
    {
     "data": {
      "text/plain": [
       "iter_slow_var (generic function with 1 method)"
      ]
     },
     "execution_count": 34,
     "metadata": {},
     "output_type": "execute_result"
    }
   ],
   "source": [
    "function iter_slow_var(p, d) \n",
    "    N = lastindex(p)\n",
    "    q = fill(0.0, -d:d)\n",
    "    for us in Iterators.product(fill(-1:1,d)...)\n",
    "        h = sum(us)\n",
    "        q[h] += prod(p[u] for u ∈ us)\n",
    "    end\n",
    "    q ./= sum(q)\n",
    "end"
   ]
  },
  {
   "cell_type": "code",
   "execution_count": 35,
   "metadata": {},
   "outputs": [
    {
     "data": {
      "text/plain": [
       "7-element OffsetArray(::Vector{Float64}, -3:3) with eltype Float64 with indices -3:3:\n",
       " 0.064\n",
       " 0.096\n",
       " 0.24\n",
       " 0.19999999999999998\n",
       " 0.24\n",
       " 0.096\n",
       " 0.064"
      ]
     },
     "execution_count": 35,
     "metadata": {},
     "output_type": "execute_result"
    }
   ],
   "source": [
    "using OffsetArrays\n",
    "p = OffsetArray([0.4, 0.2, 0.4], -1:1)\n",
    "iter_slow_var(p, 3)"
   ]
  },
  {
   "cell_type": "code",
   "execution_count": 36,
   "metadata": {},
   "outputs": [
    {
     "data": {
      "text/plain": [
       "11-element OffsetArray(::Vector{Float64}, -5:5) with eltype Float64 with indices -5:5:\n",
       " 0.0\n",
       " 0.0\n",
       " 0.06399999999999999\n",
       " 0.09599999999999999\n",
       " 0.23999999999999996\n",
       " 0.19999999999999998\n",
       " 0.23999999999999994\n",
       " 0.09599999999999999\n",
       " 0.06399999999999999\n",
       " 0.0\n",
       " 0.0"
      ]
     },
     "execution_count": 36,
     "metadata": {},
     "output_type": "execute_result"
    }
   ],
   "source": [
    "iter_variable(p,3, 5)"
   ]
  },
  {
   "cell_type": "code",
   "execution_count": 37,
   "metadata": {},
   "outputs": [
    {
     "data": {
      "text/plain": [
       "5-element OffsetArray(::Vector{Float64}, -2:2) with eltype Float64 with indices -2:2:\n",
       " 0.1\n",
       " 0.05\n",
       " 0.7\n",
       " 0.05\n",
       " 0.1"
      ]
     },
     "execution_count": 37,
     "metadata": {},
     "output_type": "execute_result"
    }
   ],
   "source": [
    "q = OffsetArray([0.1, 0.05, 0.7, 0.05, 0.1], -2:2)"
   ]
  },
  {
   "cell_type": "code",
   "execution_count": 38,
   "metadata": {},
   "outputs": [
    {
     "data": {
      "text/plain": [
       "3-element OffsetArray(::Vector{Float64}, -1:1) with eltype Float64 with indices -1:1:\n",
       " 0.013500000000000024\n",
       " 0.9730000000000001\n",
       " 0.013500000000000024"
      ]
     },
     "execution_count": 38,
     "metadata": {},
     "output_type": "execute_result"
    }
   ],
   "source": [
    "iter_slow_factor(q, 3)"
   ]
  },
  {
   "cell_type": "code",
   "execution_count": 39,
   "metadata": {},
   "outputs": [
    {
     "data": {
      "text/plain": [
       "3-element OffsetArray(::Vector{Float64}, -1:1) with eltype Float64 with indices -1:1:\n",
       " 0.013500000000000012\n",
       " 0.973\n",
       " 0.013500000000000012"
      ]
     },
     "execution_count": 39,
     "metadata": {},
     "output_type": "execute_result"
    }
   ],
   "source": [
    "iter_factor(q,3)"
   ]
  },
  {
   "cell_type": "markdown",
   "metadata": {},
   "source": [
    "RS over Max-Sum\n",
    "---\n",
    "We have, for fixed degrees\n",
    "\n",
    "\\begin{equation}\n",
    "    \\begin{aligned}\n",
    "p_k\\left(u\\right)= &\\sum_{h_{1},\\dots,h_{k}}\\sum_s\\frac12\\delta\\left(u,\\min\\left\\{1,\\min_{j=1,\\dots,k}\\left|h_{j}\\right|\\right\\}\\text{sign}\\left(s\\prod_{j=1}^{k}h_{j}\\right)\\right)\\prod_{j=1}^{k}q\\left(h_{j}\\right)\\\\\n",
    "q_d\\left(h\\right)=&\\sum_{u_{1},\\dots,u_{d}} \\delta\\left(h,\\sum_{a=1}^{d} u_a \\right)\\prod_{a=1}^{d} p(u_a)\n",
    "\\end{aligned}\n",
    "\\end{equation}\n",
    "and averaging over the degree profile,\n",
    "\\begin{equation}\n",
    " \\begin{aligned}\n",
    "    p(u) &\\propto \\sum_k k K_k p_{k-1}(u)\\\\\n",
    "q(h) &\\propto \\sum_d d \\Lambda_d q_{d-1}(h)\n",
    "\\end{aligned}\n",
    "\\end{equation}\n",
    "\n",
    "Following the same steps as in the case of LDPC codes and using the fact that $|u|\\le1$,\n",
    "\n",
    "\\begin{equation}\n",
    "   \\boxed{\n",
    "   \\begin{aligned}\n",
    "   p_k(u) =& p_0\\delta_0+(1-p_0)\\frac{\\delta_{+1}+\\delta_{-1}}{2},\\quad p_0=1-\\left(1-q(0)\\right)^k\n",
    "%   \\begin{cases}\n",
    "%   1 - \\left[1-q(0)\\right]^{k} & u=0\\\\\n",
    "%   \\frac{\\left[1-q(0)\\right]^{k}}{2} & u=1\n",
    "%   \\end{cases}\n",
    "   \\\\\n",
    "   q_d(h) =& p\\underbrace{ \\circledast\\dots\\circledast}_{d \\text{ times}}p\n",
    "   \\end{aligned}}\n",
    "\\end{equation}\n"
   ]
  },
  {
   "cell_type": "code",
   "execution_count": 65,
   "metadata": {},
   "outputs": [
    {
     "data": {
      "text/plain": [
       "RS (generic function with 1 method)"
      ]
     },
     "execution_count": 65,
     "metadata": {},
     "output_type": "execute_result"
    }
   ],
   "source": [
    "function RS(Pk, Λ; tol=1e-10, maxiter=1000, damp=0.9, maxd=lastindex(Λ))\n",
    "    ks = [k for k in eachindex(Pk) if Pk[k] > tol]\n",
    "    ds = [d for d in eachindex(Λ) if Λ[d] > tol]\n",
    "    @assert sum(Pk[ks]) ≈ 1 && sum(Λ[ds]) ≈ 1\n",
    "    \n",
    "    R =  sum(k*Pk[k] for k=ks) / sum(d*Λ[d] for d=ds)\n",
    "\n",
    "    p = fill(1.0, -1:1); p ./= sum(p)\n",
    "    q = fill(0.0, -maxd:maxd) \n",
    "    err = Inf\n",
    "    for iter=1:maxiter\n",
    "        q1 = sum(d*Λ[d]*iter_variable(p, d-1, maxd) for d=ds)\n",
    "        q1 ./= sum(q1)\n",
    "        p1 = sum(k*Pk[k]*iter_factor(q, k-1) for k=ks)\n",
    "        p1 ./= sum(p1)\n",
    "        err = min(maximum(abs, p1 - p),maximum(abs, q1 - q)) ; err < tol && (@show err iter; break)\n",
    "        q .= q .* damp .+ q1 .* (1-damp)\n",
    "        p .= p .* damp .+ p1 .* (1-damp)\n",
    "    end\n",
    "    \n",
    "    O = sum(Pk[k]*iter_factor(q,k)[0] for k in ks)\n",
    "    O += 2R*sum(h*q[h] for h in 1:lastindex(q))\n",
    "    q2 = sum(Λ[d]*(d-1)*iter_variable(p,d,maxd) for d in ds)\n",
    "    O += -R*(sum(abs(h)*q[h] for h in eachindex(q)))\n",
    "    D = (1-O)/2\n",
    "    p, q, R, D\n",
    "end"
   ]
  },
  {
   "cell_type": "code",
   "execution_count": 66,
   "metadata": {},
   "outputs": [
    {
     "name": "stdout",
     "output_type": "stream",
     "text": [
      "err = 9.940492873283802e-11\n",
      "iter = 876\n"
     ]
    },
    {
     "data": {
      "text/plain": [
       "([0.33333333362315387, 0.33333333275369254, 0.33333333362315387], [0.0, 0.043478260966471595, 0.28985507259297666, 0.33333333288110356, 0.28985507259297666, 0.043478260966471595, 0.0], 0.8695652173913044, 0.22222222252370877)"
      ]
     },
     "execution_count": 66,
     "metadata": {},
     "output_type": "execute_result"
    }
   ],
   "source": [
    "Λ = OffsetArray([0, 0, 0.7, 0.3], 0:3)\n",
    "Pk = OffsetArray([0, 0, 1, 0], 0:3)\n",
    "p, q, R, D = RS(Pk, Λ) "
   ]
  },
  {
   "cell_type": "code",
   "execution_count": 84,
   "metadata": {},
   "outputs": [
    {
     "name": "stdout",
     "output_type": "stream",
     "text": [
      "err = 9.986472759848652e-11\n",
      "iter = 542\n"
     ]
    },
    {
     "data": {
      "text/plain": [
       "0.2156444820259164"
      ]
     },
     "execution_count": 84,
     "metadata": {},
     "output_type": "execute_result"
    }
   ],
   "source": [
    "Λ = [0.0, 0.0, 0.0, 0.0, 0.0, 0.0, 1.0]\n",
    "Pk = [0.0, 0.47503043913819326, 0.30221581935769426, 0.06798702078697771, 0.0, 0.0, 0.0, 0.0, 0.1547667207171349]\n",
    "p, q, R, D = RS(Pk, Λ) \n",
    "D"
   ]
  },
  {
   "cell_type": "code",
   "execution_count": 86,
   "metadata": {},
   "outputs": [
    {
     "data": {
      "text/plain": [
       "15-element OffsetArray(::Vector{Float64}, -7:7) with eltype Float64 with indices -7:7:\n",
       " 0.0\n",
       " 8.84543182972591e-5\n",
       " 0.001452848305006628\n",
       " 0.010473561554558582\n",
       " 0.043555245091229614\n",
       " 0.11560741257294464\n",
       " 0.2049883491535018\n",
       " 0.24766825800892286\n",
       " 0.2049883491535018\n",
       " 0.11560741257294464\n",
       " 0.043555245091229614\n",
       " 0.010473561554558582\n",
       " 0.001452848305006628\n",
       " 8.84543182972591e-5\n",
       " 0.0"
      ]
     },
     "execution_count": 86,
     "metadata": {},
     "output_type": "execute_result"
    }
   ],
   "source": [
    "q"
   ]
  },
  {
   "cell_type": "code",
   "execution_count": 88,
   "metadata": {},
   "outputs": [
    {
     "name": "stdout",
     "output_type": "stream",
     "text": [
      "err = 9.298117831235686e-16\n",
      "iter = 318\n",
      "err = 9.71445146547012e-16\n",
      "iter = 319\n",
      "err = 9.575673587391975e-16\n",
      "iter = 321\n",
      "err = 9.43689570931383e-16\n",
      "iter = 344\n",
      "err = 9.853229343548264e-16\n",
      "iter = 364\n",
      "err = 9.159339953157541e-16\n",
      "iter = 352\n",
      "err = 9.71445146547012e-16\n",
      "iter = 361\n",
      "err = 9.43689570931383e-16\n",
      "iter = 329\n",
      "err = 9.43689570931383e-16\n",
      "iter = 411\n",
      "err = 9.575673587391975e-16\n",
      "iter = 450\n",
      "err = 9.71445146547012e-16\n",
      "iter = 439\n",
      "err = 9.71445146547012e-16\n",
      "iter = 374\n",
      "err = 9.992007221626409e-16\n",
      "iter = 374\n",
      "err = 9.298117831235686e-16\n",
      "iter = 453\n",
      "err = 9.992007221626409e-16\n",
      "iter = 369\n",
      "err = 9.298117831235686e-16\n",
      "iter = 417\n",
      "err = 9.71445146547012e-16\n",
      "iter = 476\n",
      "err = 9.43689570931383e-16\n",
      "iter = 318\n",
      "err = 9.159339953157541e-16\n",
      "iter = 423\n",
      "err = 9.43689570931383e-16\n",
      "iter = 616\n",
      "err = 9.992007221626409e-16\n",
      "iter = 419\n",
      "err = 8.049116928532385e-16\n",
      "iter = 301\n",
      "err = 9.71445146547012e-16\n",
      "iter = 391\n",
      "err = 9.992007221626409e-16\n",
      "iter = 517\n",
      "err = 9.43689570931383e-16\n",
      "iter = 705\n",
      "err = 9.71445146547012e-16\n",
      "iter = 507\n",
      "err = 9.71445146547012e-16\n",
      "iter = 404\n",
      "err = 8.881784197001252e-16\n",
      "iter = 313\n",
      "err = 9.43689570931383e-16\n",
      "iter = 314\n",
      "err = 9.71445146547012e-16\n",
      "iter = 416\n",
      "err = 9.71445146547012e-16\n",
      "iter = 506\n",
      "err = 9.71445146547012e-16\n",
      "iter = 626\n",
      "err = 9.71445146547012e-16\n",
      "iter = 792\n",
      "err = 9.71445146547012e-16\n",
      "iter = 707\n",
      "err = 9.992007221626409e-16\n",
      "iter = 569\n",
      "err = 9.992007221626409e-16\n",
      "iter = 481\n",
      "err = 9.71445146547012e-16\n",
      "iter = 424\n",
      "err = 9.159339953157541e-16\n",
      "iter = 370\n",
      "err = 9.43689570931383e-16\n",
      "iter = 312\n",
      "err = 8.049116928532385e-16\n",
      "iter = 320\n",
      "err = 8.604228440844963e-16\n",
      "iter = 279\n",
      "err = 9.992007221626409e-16\n",
      "iter = 408\n",
      "err = 9.71445146547012e-16\n",
      "iter = 458\n",
      "err = 9.71445146547012e-16\n",
      "iter = 515\n",
      "err = 9.71445146547012e-16\n",
      "iter = 583\n",
      "err = 9.43689570931383e-16\n",
      "iter = 663\n",
      "err = 9.992007221626409e-16\n",
      "iter = 758\n",
      "err = 9.71445146547012e-16\n",
      "iter = 882\n",
      "err = 9.43689570931383e-16\n",
      "iter = 1055\n",
      "err = 9.992007221626409e-16\n",
      "iter = 1330\n",
      "err = 9.992007221626409e-16\n",
      "iter = 1017\n",
      "err = 9.71445146547012e-16\n",
      "iter = 853\n",
      "err = 9.992007221626409e-16\n",
      "iter = 747\n",
      "err = 9.43689570931383e-16\n",
      "iter = 671\n",
      "err = 9.992007221626409e-16\n",
      "iter = 613\n",
      "err = 9.992007221626409e-16\n",
      "iter = 566\n",
      "err = 9.992007221626409e-16\n",
      "iter = 528\n",
      "err = 9.992007221626409e-16\n",
      "iter = 498\n",
      "err = 9.992007221626409e-16\n",
      "iter = 475\n",
      "err = 9.71445146547012e-16\n",
      "iter = 456\n",
      "err = 9.43689570931383e-16\n",
      "iter = 437\n",
      "err = 9.992007221626409e-16\n",
      "iter = 418\n",
      "err = 9.43689570931383e-16\n",
      "iter = 400\n",
      "err = 9.43689570931383e-16\n",
      "iter = 383\n",
      "err = 9.992007221626409e-16\n",
      "iter = 367\n",
      "err = 9.992007221626409e-16\n",
      "iter = 352\n",
      "err = 9.992007221626409e-16\n",
      "iter = 361\n",
      "err = 9.992007221626409e-16\n",
      "iter = 401\n",
      "err = 9.992007221626409e-16\n",
      "iter = 435\n",
      "err = 9.575673587391975e-16\n",
      "iter = 467\n",
      "err = 9.71445146547012e-16\n",
      "iter = 495\n",
      "err = 9.71445146547012e-16\n",
      "iter = 524\n",
      "err = 9.43689570931383e-16\n",
      "iter = 555\n",
      "err = 9.992007221626409e-16\n",
      "iter = 585\n",
      "err = 9.575673587391975e-16\n",
      "iter = 619\n",
      "err = 9.43689570931383e-16\n",
      "iter = 657\n",
      "err = 9.992007221626409e-16\n",
      "iter = 698\n",
      "err = 9.992007221626409e-16\n",
      "iter = 742\n",
      "err = 9.992007221626409e-16\n",
      "iter = 787\n",
      "err = 9.992007221626409e-16\n",
      "iter = 840\n",
      "err = 9.992007221626409e-16\n",
      "iter = 895\n",
      "err = 9.992007221626409e-16\n",
      "iter = 958\n",
      "err = 9.992007221626409e-16\n",
      "iter = 1026\n",
      "err = 9.992007221626409e-16\n",
      "iter = 1101\n",
      "err = 9.43689570931383e-16\n",
      "iter = 1189\n",
      "err = 9.992007221626409e-16\n",
      "iter = 1285\n",
      "err = 9.992007221626409e-16\n",
      "iter = 1398\n",
      "err = 9.992007221626409e-16\n",
      "iter = 1525\n",
      "err = 9.992007221626409e-16\n",
      "iter = 1675\n",
      "err = 9.43689570931383e-16\n",
      "iter = 1860\n",
      "err = 9.43689570931383e-16\n",
      "iter = 2078\n",
      "err = 9.43689570931383e-16\n",
      "iter = 2351\n",
      "err = 9.992007221626409e-16\n",
      "iter = 2704\n",
      "err = 9.992007221626409e-16\n",
      "iter = 3168\n",
      "err = 9.992007221626409e-16\n",
      "iter = 3816\n",
      "err = 9.992007221626409e-16\n",
      "iter = 4777\n",
      "err = 9.992007221626409e-16\n",
      "iter = 6351\n",
      "err = 9.992007221626409e-16\n",
      "iter = 9482\n"
     ]
    }
   ],
   "source": [
    "rr = 0.01:0.01:0.99\n",
    "Rrs = zero(rr)\n",
    "Drs = zero(rr)\n",
    "for (i,r) in pairs(rr)\n",
    "    k=floor(Int, 2/r)\n",
    "    s=k+1-2/r\n",
    "    Λ=[fill(0,k-1); s; 1-s]\n",
    "    Λ .*= Λ .> 1e-10\n",
    "    Λ ./ sum(Λ)\n",
    "    _,_,Rrs[i] ,Drs[i] = RS([0,1],Λ, tol=1e-15, maxiter=10^4)\n",
    "end"
   ]
  },
  {
   "cell_type": "code",
   "execution_count": 89,
   "metadata": {},
   "outputs": [
    {
     "data": {
      "text/plain": [
       "99×2 Matrix{Float64}:\n",
       " 0.01  0.01\n",
       " 0.02  0.02\n",
       " 0.03  0.03\n",
       " 0.04  0.04\n",
       " 0.05  0.05\n",
       " 0.06  0.06\n",
       " 0.07  0.07\n",
       " 0.08  0.08\n",
       " 0.09  0.09\n",
       " 0.1   0.1\n",
       " 0.11  0.11\n",
       " 0.12  0.12\n",
       " 0.13  0.13\n",
       " ⋮     \n",
       " 0.88  0.88\n",
       " 0.89  0.89\n",
       " 0.9   0.9\n",
       " 0.91  0.91\n",
       " 0.92  0.92\n",
       " 0.93  0.93\n",
       " 0.94  0.94\n",
       " 0.95  0.95\n",
       " 0.96  0.96\n",
       " 0.97  0.97\n",
       " 0.98  0.98\n",
       " 0.99  0.99"
      ]
     },
     "execution_count": 89,
     "metadata": {},
     "output_type": "execute_result"
    }
   ],
   "source": [
    "[rr Rrs]"
   ]
  },
  {
   "cell_type": "code",
   "execution_count": 83,
   "metadata": {},
   "outputs": [
    {
     "data": {
      "image/svg+xml": [
       "<?xml version=\"1.0\" encoding=\"utf-8\"?>\n",
       "<svg xmlns=\"http://www.w3.org/2000/svg\" xmlns:xlink=\"http://www.w3.org/1999/xlink\" width=\"600\" height=\"400\" viewBox=\"0 0 2400 1600\">\n",
       "<defs>\n",
       "  <clipPath id=\"clip950\">\n",
       "    <rect x=\"0\" y=\"0\" width=\"2400\" height=\"1600\"/>\n",
       "  </clipPath>\n",
       "</defs>\n",
       "<path clip-path=\"url(#clip950)\" d=\"\n",
       "M0 1600 L2400 1600 L2400 0 L0 0  Z\n",
       "  \" fill=\"#ffffff\" fill-rule=\"evenodd\" fill-opacity=\"1\"/>\n",
       "<defs>\n",
       "  <clipPath id=\"clip951\">\n",
       "    <rect x=\"480\" y=\"0\" width=\"1681\" height=\"1600\"/>\n",
       "  </clipPath>\n",
       "</defs>\n",
       "<path clip-path=\"url(#clip950)\" d=\"\n",
       "M186.274 1486.45 L2352.76 1486.45 L2352.76 47.2441 L186.274 47.2441  Z\n",
       "  \" fill=\"#ffffff\" fill-rule=\"evenodd\" fill-opacity=\"1\"/>\n",
       "<defs>\n",
       "  <clipPath id=\"clip952\">\n",
       "    <rect x=\"186\" y=\"47\" width=\"2167\" height=\"1440\"/>\n",
       "  </clipPath>\n",
       "</defs>\n",
       "<polyline clip-path=\"url(#clip952)\" style=\"stroke:#000000; stroke-width:2; stroke-opacity:0.1; fill:none\" points=\"\n",
       "  226.734,1486.45 226.734,47.2441 \n",
       "  \"/>\n",
       "<polyline clip-path=\"url(#clip952)\" style=\"stroke:#000000; stroke-width:2; stroke-opacity:0.1; fill:none\" points=\"\n",
       "  748.124,1486.45 748.124,47.2441 \n",
       "  \"/>\n",
       "<polyline clip-path=\"url(#clip952)\" style=\"stroke:#000000; stroke-width:2; stroke-opacity:0.1; fill:none\" points=\"\n",
       "  1269.51,1486.45 1269.51,47.2441 \n",
       "  \"/>\n",
       "<polyline clip-path=\"url(#clip952)\" style=\"stroke:#000000; stroke-width:2; stroke-opacity:0.1; fill:none\" points=\"\n",
       "  1790.91,1486.45 1790.91,47.2441 \n",
       "  \"/>\n",
       "<polyline clip-path=\"url(#clip952)\" style=\"stroke:#000000; stroke-width:2; stroke-opacity:0.1; fill:none\" points=\"\n",
       "  2312.3,1486.45 2312.3,47.2441 \n",
       "  \"/>\n",
       "<polyline clip-path=\"url(#clip950)\" style=\"stroke:#000000; stroke-width:4; stroke-opacity:1; fill:none\" points=\"\n",
       "  186.274,1486.45 2352.76,1486.45 \n",
       "  \"/>\n",
       "<polyline clip-path=\"url(#clip950)\" style=\"stroke:#000000; stroke-width:4; stroke-opacity:1; fill:none\" points=\"\n",
       "  226.734,1486.45 226.734,1469.18 \n",
       "  \"/>\n",
       "<polyline clip-path=\"url(#clip950)\" style=\"stroke:#000000; stroke-width:4; stroke-opacity:1; fill:none\" points=\"\n",
       "  748.124,1486.45 748.124,1469.18 \n",
       "  \"/>\n",
       "<polyline clip-path=\"url(#clip950)\" style=\"stroke:#000000; stroke-width:4; stroke-opacity:1; fill:none\" points=\"\n",
       "  1269.51,1486.45 1269.51,1469.18 \n",
       "  \"/>\n",
       "<polyline clip-path=\"url(#clip950)\" style=\"stroke:#000000; stroke-width:4; stroke-opacity:1; fill:none\" points=\"\n",
       "  1790.91,1486.45 1790.91,1469.18 \n",
       "  \"/>\n",
       "<polyline clip-path=\"url(#clip950)\" style=\"stroke:#000000; stroke-width:4; stroke-opacity:1; fill:none\" points=\"\n",
       "  2312.3,1486.45 2312.3,1469.18 \n",
       "  \"/>\n",
       "<path clip-path=\"url(#clip950)\" d=\"M 0 0 M189.037 1515.64 Q185.426 1515.64 183.598 1519.2 Q181.792 1522.75 181.792 1529.87 Q181.792 1536.98 183.598 1540.55 Q185.426 1544.09 189.037 1544.09 Q192.672 1544.09 194.477 1540.55 Q196.306 1536.98 196.306 1529.87 Q196.306 1522.75 194.477 1519.2 Q192.672 1515.64 189.037 1515.64 M189.037 1511.93 Q194.848 1511.93 197.903 1516.54 Q200.982 1521.12 200.982 1529.87 Q200.982 1538.6 197.903 1543.21 Q194.848 1547.79 189.037 1547.79 Q183.227 1547.79 180.149 1543.21 Q177.093 1538.6 177.093 1529.87 Q177.093 1521.12 180.149 1516.54 Q183.227 1511.93 189.037 1511.93 Z\" fill=\"#000000\" fill-rule=\"evenodd\" fill-opacity=\"1\" /><path clip-path=\"url(#clip950)\" d=\"M 0 0 M209.199 1541.24 L214.084 1541.24 L214.084 1547.12 L209.199 1547.12 L209.199 1541.24 Z\" fill=\"#000000\" fill-rule=\"evenodd\" fill-opacity=\"1\" /><path clip-path=\"url(#clip950)\" d=\"M 0 0 M234.269 1515.64 Q230.657 1515.64 228.829 1519.2 Q227.023 1522.75 227.023 1529.87 Q227.023 1536.98 228.829 1540.55 Q230.657 1544.09 234.269 1544.09 Q237.903 1544.09 239.708 1540.55 Q241.537 1536.98 241.537 1529.87 Q241.537 1522.75 239.708 1519.2 Q237.903 1515.64 234.269 1515.64 M234.269 1511.93 Q240.079 1511.93 243.134 1516.54 Q246.213 1521.12 246.213 1529.87 Q246.213 1538.6 243.134 1543.21 Q240.079 1547.79 234.269 1547.79 Q228.458 1547.79 225.38 1543.21 Q222.324 1538.6 222.324 1529.87 Q222.324 1521.12 225.38 1516.54 Q228.458 1511.93 234.269 1511.93 Z\" fill=\"#000000\" fill-rule=\"evenodd\" fill-opacity=\"1\" /><path clip-path=\"url(#clip950)\" d=\"M 0 0 M264.43 1515.64 Q260.819 1515.64 258.991 1519.2 Q257.185 1522.75 257.185 1529.87 Q257.185 1536.98 258.991 1540.55 Q260.819 1544.09 264.43 1544.09 Q268.065 1544.09 269.87 1540.55 Q271.699 1536.98 271.699 1529.87 Q271.699 1522.75 269.87 1519.2 Q268.065 1515.64 264.43 1515.64 M264.43 1511.93 Q270.241 1511.93 273.296 1516.54 Q276.375 1521.12 276.375 1529.87 Q276.375 1538.6 273.296 1543.21 Q270.241 1547.79 264.43 1547.79 Q258.62 1547.79 255.542 1543.21 Q252.486 1538.6 252.486 1529.87 Q252.486 1521.12 255.542 1516.54 Q258.62 1511.93 264.43 1511.93 Z\" fill=\"#000000\" fill-rule=\"evenodd\" fill-opacity=\"1\" /><path clip-path=\"url(#clip950)\" d=\"M 0 0 M710.926 1515.64 Q707.314 1515.64 705.486 1519.2 Q703.68 1522.75 703.68 1529.87 Q703.68 1536.98 705.486 1540.55 Q707.314 1544.09 710.926 1544.09 Q714.56 1544.09 716.365 1540.55 Q718.194 1536.98 718.194 1529.87 Q718.194 1522.75 716.365 1519.2 Q714.56 1515.64 710.926 1515.64 M710.926 1511.93 Q716.736 1511.93 719.791 1516.54 Q722.87 1521.12 722.87 1529.87 Q722.87 1538.6 719.791 1543.21 Q716.736 1547.79 710.926 1547.79 Q705.115 1547.79 702.037 1543.21 Q698.981 1538.6 698.981 1529.87 Q698.981 1521.12 702.037 1516.54 Q705.115 1511.93 710.926 1511.93 Z\" fill=\"#000000\" fill-rule=\"evenodd\" fill-opacity=\"1\" /><path clip-path=\"url(#clip950)\" d=\"M 0 0 M731.087 1541.24 L735.972 1541.24 L735.972 1547.12 L731.087 1547.12 L731.087 1541.24 Z\" fill=\"#000000\" fill-rule=\"evenodd\" fill-opacity=\"1\" /><path clip-path=\"url(#clip950)\" d=\"M 0 0 M750.185 1543.18 L766.504 1543.18 L766.504 1547.12 L744.56 1547.12 L744.56 1543.18 Q747.222 1540.43 751.805 1535.8 Q756.411 1531.15 757.592 1529.81 Q759.837 1527.28 760.717 1525.55 Q761.62 1523.79 761.62 1522.1 Q761.62 1519.34 759.675 1517.61 Q757.754 1515.87 754.652 1515.87 Q752.453 1515.87 749.999 1516.63 Q747.569 1517.4 744.791 1518.95 L744.791 1514.23 Q747.615 1513.09 750.069 1512.51 Q752.523 1511.93 754.56 1511.93 Q759.93 1511.93 763.124 1514.62 Q766.319 1517.31 766.319 1521.8 Q766.319 1523.93 765.509 1525.85 Q764.722 1527.74 762.615 1530.34 Q762.036 1531.01 758.935 1534.23 Q755.833 1537.42 750.185 1543.18 Z\" fill=\"#000000\" fill-rule=\"evenodd\" fill-opacity=\"1\" /><path clip-path=\"url(#clip950)\" d=\"M 0 0 M776.365 1512.56 L794.721 1512.56 L794.721 1516.5 L780.647 1516.5 L780.647 1524.97 Q781.666 1524.62 782.684 1524.46 Q783.703 1524.27 784.721 1524.27 Q790.508 1524.27 793.888 1527.44 Q797.268 1530.62 797.268 1536.03 Q797.268 1541.61 793.795 1544.71 Q790.323 1547.79 784.004 1547.79 Q781.828 1547.79 779.559 1547.42 Q777.314 1547.05 774.907 1546.31 L774.907 1541.61 Q776.99 1542.74 779.212 1543.3 Q781.434 1543.86 783.911 1543.86 Q787.916 1543.86 790.254 1541.75 Q792.592 1539.64 792.592 1536.03 Q792.592 1532.42 790.254 1530.31 Q787.916 1528.21 783.911 1528.21 Q782.036 1528.21 780.161 1528.62 Q778.309 1529.04 776.365 1529.92 L776.365 1512.56 Z\" fill=\"#000000\" fill-rule=\"evenodd\" fill-opacity=\"1\" /><path clip-path=\"url(#clip950)\" d=\"M 0 0 M1231.82 1515.64 Q1228.21 1515.64 1226.38 1519.2 Q1224.57 1522.75 1224.57 1529.87 Q1224.57 1536.98 1226.38 1540.55 Q1228.21 1544.09 1231.82 1544.09 Q1235.45 1544.09 1237.26 1540.55 Q1239.09 1536.98 1239.09 1529.87 Q1239.09 1522.75 1237.26 1519.2 Q1235.45 1515.64 1231.82 1515.64 M1231.82 1511.93 Q1237.63 1511.93 1240.68 1516.54 Q1243.76 1521.12 1243.76 1529.87 Q1243.76 1538.6 1240.68 1543.21 Q1237.63 1547.79 1231.82 1547.79 Q1226.01 1547.79 1222.93 1543.21 Q1219.87 1538.6 1219.87 1529.87 Q1219.87 1521.12 1222.93 1516.54 Q1226.01 1511.93 1231.82 1511.93 Z\" fill=\"#000000\" fill-rule=\"evenodd\" fill-opacity=\"1\" /><path clip-path=\"url(#clip950)\" d=\"M 0 0 M1251.98 1541.24 L1256.86 1541.24 L1256.86 1547.12 L1251.98 1547.12 L1251.98 1541.24 Z\" fill=\"#000000\" fill-rule=\"evenodd\" fill-opacity=\"1\" /><path clip-path=\"url(#clip950)\" d=\"M 0 0 M1267.1 1512.56 L1285.45 1512.56 L1285.45 1516.5 L1271.38 1516.5 L1271.38 1524.97 Q1272.4 1524.62 1273.42 1524.46 Q1274.43 1524.27 1275.45 1524.27 Q1281.24 1524.27 1284.62 1527.44 Q1288 1530.62 1288 1536.03 Q1288 1541.61 1284.53 1544.71 Q1281.05 1547.79 1274.73 1547.79 Q1272.56 1547.79 1270.29 1547.42 Q1268.05 1547.05 1265.64 1546.31 L1265.64 1541.61 Q1267.72 1542.74 1269.94 1543.3 Q1272.17 1543.86 1274.64 1543.86 Q1278.65 1543.86 1280.98 1541.75 Q1283.32 1539.64 1283.32 1536.03 Q1283.32 1532.42 1280.98 1530.31 Q1278.65 1528.21 1274.64 1528.21 Q1272.77 1528.21 1270.89 1528.62 Q1269.04 1529.04 1267.1 1529.92 L1267.1 1512.56 Z\" fill=\"#000000\" fill-rule=\"evenodd\" fill-opacity=\"1\" /><path clip-path=\"url(#clip950)\" d=\"M 0 0 M1307.21 1515.64 Q1303.6 1515.64 1301.77 1519.2 Q1299.97 1522.75 1299.97 1529.87 Q1299.97 1536.98 1301.77 1540.55 Q1303.6 1544.09 1307.21 1544.09 Q1310.85 1544.09 1312.65 1540.55 Q1314.48 1536.98 1314.48 1529.87 Q1314.48 1522.75 1312.65 1519.2 Q1310.85 1515.64 1307.21 1515.64 M1307.21 1511.93 Q1313.02 1511.93 1316.08 1516.54 Q1319.16 1521.12 1319.16 1529.87 Q1319.16 1538.6 1316.08 1543.21 Q1313.02 1547.79 1307.21 1547.79 Q1301.4 1547.79 1298.32 1543.21 Q1295.27 1538.6 1295.27 1529.87 Q1295.27 1521.12 1298.32 1516.54 Q1301.4 1511.93 1307.21 1511.93 Z\" fill=\"#000000\" fill-rule=\"evenodd\" fill-opacity=\"1\" /><path clip-path=\"url(#clip950)\" d=\"M 0 0 M1753.71 1515.64 Q1750.1 1515.64 1748.27 1519.2 Q1746.46 1522.75 1746.46 1529.87 Q1746.46 1536.98 1748.27 1540.55 Q1750.1 1544.09 1753.71 1544.09 Q1757.34 1544.09 1759.15 1540.55 Q1760.98 1536.98 1760.98 1529.87 Q1760.98 1522.75 1759.15 1519.2 Q1757.34 1515.64 1753.71 1515.64 M1753.71 1511.93 Q1759.52 1511.93 1762.57 1516.54 Q1765.65 1521.12 1765.65 1529.87 Q1765.65 1538.6 1762.57 1543.21 Q1759.52 1547.79 1753.71 1547.79 Q1747.9 1547.79 1744.82 1543.21 Q1741.76 1538.6 1741.76 1529.87 Q1741.76 1521.12 1744.82 1516.54 Q1747.9 1511.93 1753.71 1511.93 Z\" fill=\"#000000\" fill-rule=\"evenodd\" fill-opacity=\"1\" /><path clip-path=\"url(#clip950)\" d=\"M 0 0 M1773.87 1541.24 L1778.75 1541.24 L1778.75 1547.12 L1773.87 1547.12 L1773.87 1541.24 Z\" fill=\"#000000\" fill-rule=\"evenodd\" fill-opacity=\"1\" /><path clip-path=\"url(#clip950)\" d=\"M 0 0 M1787.76 1512.56 L1809.98 1512.56 L1809.98 1514.55 L1797.43 1547.12 L1792.55 1547.12 L1804.35 1516.5 L1787.76 1516.5 L1787.76 1512.56 Z\" fill=\"#000000\" fill-rule=\"evenodd\" fill-opacity=\"1\" /><path clip-path=\"url(#clip950)\" d=\"M 0 0 M1819.15 1512.56 L1837.5 1512.56 L1837.5 1516.5 L1823.43 1516.5 L1823.43 1524.97 Q1824.45 1524.62 1825.47 1524.46 Q1826.48 1524.27 1827.5 1524.27 Q1833.29 1524.27 1836.67 1527.44 Q1840.05 1530.62 1840.05 1536.03 Q1840.05 1541.61 1836.58 1544.71 Q1833.1 1547.79 1826.78 1547.79 Q1824.61 1547.79 1822.34 1547.42 Q1820.1 1547.05 1817.69 1546.31 L1817.69 1541.61 Q1819.77 1542.74 1821.99 1543.3 Q1824.22 1543.86 1826.69 1543.86 Q1830.7 1543.86 1833.03 1541.75 Q1835.37 1539.64 1835.37 1536.03 Q1835.37 1532.42 1833.03 1530.31 Q1830.7 1528.21 1826.69 1528.21 Q1824.82 1528.21 1822.94 1528.62 Q1821.09 1529.04 1819.15 1529.92 L1819.15 1512.56 Z\" fill=\"#000000\" fill-rule=\"evenodd\" fill-opacity=\"1\" /><path clip-path=\"url(#clip950)\" d=\"M 0 0 M2264.37 1543.18 L2272.01 1543.18 L2272.01 1516.82 L2263.7 1518.49 L2263.7 1514.23 L2271.96 1512.56 L2276.64 1512.56 L2276.64 1543.18 L2284.28 1543.18 L2284.28 1547.12 L2264.37 1547.12 L2264.37 1543.18 Z\" fill=\"#000000\" fill-rule=\"evenodd\" fill-opacity=\"1\" /><path clip-path=\"url(#clip950)\" d=\"M 0 0 M2293.72 1541.24 L2298.6 1541.24 L2298.6 1547.12 L2293.72 1547.12 L2293.72 1541.24 Z\" fill=\"#000000\" fill-rule=\"evenodd\" fill-opacity=\"1\" /><path clip-path=\"url(#clip950)\" d=\"M 0 0 M2318.79 1515.64 Q2315.18 1515.64 2313.35 1519.2 Q2311.54 1522.75 2311.54 1529.87 Q2311.54 1536.98 2313.35 1540.55 Q2315.18 1544.09 2318.79 1544.09 Q2322.42 1544.09 2324.23 1540.55 Q2326.06 1536.98 2326.06 1529.87 Q2326.06 1522.75 2324.23 1519.2 Q2322.42 1515.64 2318.79 1515.64 M2318.79 1511.93 Q2324.6 1511.93 2327.65 1516.54 Q2330.73 1521.12 2330.73 1529.87 Q2330.73 1538.6 2327.65 1543.21 Q2324.6 1547.79 2318.79 1547.79 Q2312.98 1547.79 2309.9 1543.21 Q2306.84 1538.6 2306.84 1529.87 Q2306.84 1521.12 2309.9 1516.54 Q2312.98 1511.93 2318.79 1511.93 Z\" fill=\"#000000\" fill-rule=\"evenodd\" fill-opacity=\"1\" /><path clip-path=\"url(#clip950)\" d=\"M 0 0 M2348.95 1515.64 Q2345.34 1515.64 2343.51 1519.2 Q2341.71 1522.75 2341.71 1529.87 Q2341.71 1536.98 2343.51 1540.55 Q2345.34 1544.09 2348.95 1544.09 Q2352.59 1544.09 2354.39 1540.55 Q2356.22 1536.98 2356.22 1529.87 Q2356.22 1522.75 2354.39 1519.2 Q2352.59 1515.64 2348.95 1515.64 M2348.95 1511.93 Q2354.76 1511.93 2357.82 1516.54 Q2360.9 1521.12 2360.9 1529.87 Q2360.9 1538.6 2357.82 1543.21 Q2354.76 1547.79 2348.95 1547.79 Q2343.14 1547.79 2340.06 1543.21 Q2337.01 1538.6 2337.01 1529.87 Q2337.01 1521.12 2340.06 1516.54 Q2343.14 1511.93 2348.95 1511.93 Z\" fill=\"#000000\" fill-rule=\"evenodd\" fill-opacity=\"1\" /><polyline clip-path=\"url(#clip952)\" style=\"stroke:#000000; stroke-width:2; stroke-opacity:0.1; fill:none\" points=\"\n",
       "  186.274,1294.57 2352.76,1294.57 \n",
       "  \"/>\n",
       "<polyline clip-path=\"url(#clip952)\" style=\"stroke:#000000; stroke-width:2; stroke-opacity:0.1; fill:none\" points=\"\n",
       "  186.274,1022.51 2352.76,1022.51 \n",
       "  \"/>\n",
       "<polyline clip-path=\"url(#clip952)\" style=\"stroke:#000000; stroke-width:2; stroke-opacity:0.1; fill:none\" points=\"\n",
       "  186.274,750.452 2352.76,750.452 \n",
       "  \"/>\n",
       "<polyline clip-path=\"url(#clip952)\" style=\"stroke:#000000; stroke-width:2; stroke-opacity:0.1; fill:none\" points=\"\n",
       "  186.274,478.392 2352.76,478.392 \n",
       "  \"/>\n",
       "<polyline clip-path=\"url(#clip952)\" style=\"stroke:#000000; stroke-width:2; stroke-opacity:0.1; fill:none\" points=\"\n",
       "  186.274,206.333 2352.76,206.333 \n",
       "  \"/>\n",
       "<polyline clip-path=\"url(#clip950)\" style=\"stroke:#000000; stroke-width:4; stroke-opacity:1; fill:none\" points=\"\n",
       "  186.274,1486.45 186.274,47.2441 \n",
       "  \"/>\n",
       "<polyline clip-path=\"url(#clip950)\" style=\"stroke:#000000; stroke-width:4; stroke-opacity:1; fill:none\" points=\"\n",
       "  186.274,1294.57 212.272,1294.57 \n",
       "  \"/>\n",
       "<polyline clip-path=\"url(#clip950)\" style=\"stroke:#000000; stroke-width:4; stroke-opacity:1; fill:none\" points=\"\n",
       "  186.274,1022.51 212.272,1022.51 \n",
       "  \"/>\n",
       "<polyline clip-path=\"url(#clip950)\" style=\"stroke:#000000; stroke-width:4; stroke-opacity:1; fill:none\" points=\"\n",
       "  186.274,750.452 212.272,750.452 \n",
       "  \"/>\n",
       "<polyline clip-path=\"url(#clip950)\" style=\"stroke:#000000; stroke-width:4; stroke-opacity:1; fill:none\" points=\"\n",
       "  186.274,478.392 212.272,478.392 \n",
       "  \"/>\n",
       "<polyline clip-path=\"url(#clip950)\" style=\"stroke:#000000; stroke-width:4; stroke-opacity:1; fill:none\" points=\"\n",
       "  186.274,206.333 212.272,206.333 \n",
       "  \"/>\n",
       "<path clip-path=\"url(#clip950)\" d=\"M 0 0 M63.9319 1280.37 Q60.3208 1280.37 58.4921 1283.93 Q56.6865 1287.48 56.6865 1294.61 Q56.6865 1301.71 58.4921 1305.28 Q60.3208 1308.82 63.9319 1308.82 Q67.5661 1308.82 69.3717 1305.28 Q71.2004 1301.71 71.2004 1294.61 Q71.2004 1287.48 69.3717 1283.93 Q67.5661 1280.37 63.9319 1280.37 M63.9319 1276.67 Q69.742 1276.67 72.7976 1281.27 Q75.8763 1285.86 75.8763 1294.61 Q75.8763 1303.33 72.7976 1307.94 Q69.742 1312.52 63.9319 1312.52 Q58.1217 1312.52 55.043 1307.94 Q51.9875 1303.33 51.9875 1294.61 Q51.9875 1285.86 55.043 1281.27 Q58.1217 1276.67 63.9319 1276.67 Z\" fill=\"#000000\" fill-rule=\"evenodd\" fill-opacity=\"1\" /><path clip-path=\"url(#clip950)\" d=\"M 0 0 M84.0938 1305.97 L88.978 1305.97 L88.978 1311.85 L84.0938 1311.85 L84.0938 1305.97 Z\" fill=\"#000000\" fill-rule=\"evenodd\" fill-opacity=\"1\" /><path clip-path=\"url(#clip950)\" d=\"M 0 0 M103.191 1307.92 L119.51 1307.92 L119.51 1311.85 L97.566 1311.85 L97.566 1307.92 Q100.228 1305.16 104.811 1300.53 Q109.418 1295.88 110.598 1294.54 Q112.844 1292.01 113.723 1290.28 Q114.626 1288.52 114.626 1286.83 Q114.626 1284.07 112.682 1282.34 Q110.76 1280.6 107.658 1280.6 Q105.459 1280.6 103.006 1281.37 Q100.575 1282.13 97.7974 1283.68 L97.7974 1278.96 Q100.621 1277.82 103.075 1277.25 Q105.529 1276.67 107.566 1276.67 Q112.936 1276.67 116.131 1279.35 Q119.325 1282.04 119.325 1286.53 Q119.325 1288.66 118.515 1290.58 Q117.728 1292.48 115.621 1295.07 Q115.043 1295.74 111.941 1298.96 Q108.839 1302.15 103.191 1307.92 Z\" fill=\"#000000\" fill-rule=\"evenodd\" fill-opacity=\"1\" /><path clip-path=\"url(#clip950)\" d=\"M 0 0 M129.371 1277.29 L147.728 1277.29 L147.728 1281.23 L133.654 1281.23 L133.654 1289.7 Q134.672 1289.35 135.691 1289.19 Q136.709 1289 137.728 1289 Q143.515 1289 146.894 1292.18 Q150.274 1295.35 150.274 1300.76 Q150.274 1306.34 146.802 1309.44 Q143.33 1312.52 137.01 1312.52 Q134.834 1312.52 132.566 1312.15 Q130.32 1311.78 127.913 1311.04 L127.913 1306.34 Q129.996 1307.48 132.219 1308.03 Q134.441 1308.59 136.918 1308.59 Q140.922 1308.59 143.26 1306.48 Q145.598 1304.37 145.598 1300.76 Q145.598 1297.15 143.26 1295.05 Q140.922 1292.94 136.918 1292.94 Q135.043 1292.94 133.168 1293.36 Q131.316 1293.77 129.371 1294.65 L129.371 1277.29 Z\" fill=\"#000000\" fill-rule=\"evenodd\" fill-opacity=\"1\" /><path clip-path=\"url(#clip950)\" d=\"M 0 0 M62.9365 1008.31 Q59.3254 1008.31 57.4967 1011.88 Q55.6912 1015.42 55.6912 1022.55 Q55.6912 1029.65 57.4967 1033.22 Q59.3254 1036.76 62.9365 1036.76 Q66.5707 1036.76 68.3763 1033.22 Q70.205 1029.65 70.205 1022.55 Q70.205 1015.42 68.3763 1011.88 Q66.5707 1008.31 62.9365 1008.31 M62.9365 1004.61 Q68.7467 1004.61 71.8022 1009.21 Q74.8809 1013.8 74.8809 1022.55 Q74.8809 1031.27 71.8022 1035.88 Q68.7467 1040.46 62.9365 1040.46 Q57.1264 1040.46 54.0477 1035.88 Q50.9921 1031.27 50.9921 1022.55 Q50.9921 1013.8 54.0477 1009.21 Q57.1264 1004.61 62.9365 1004.61 Z\" fill=\"#000000\" fill-rule=\"evenodd\" fill-opacity=\"1\" /><path clip-path=\"url(#clip950)\" d=\"M 0 0 M83.0984 1033.91 L87.9827 1033.91 L87.9827 1039.79 L83.0984 1039.79 L83.0984 1033.91 Z\" fill=\"#000000\" fill-rule=\"evenodd\" fill-opacity=\"1\" /><path clip-path=\"url(#clip950)\" d=\"M 0 0 M112.334 1021.16 Q115.691 1021.88 117.566 1024.14 Q119.464 1026.41 119.464 1029.75 Q119.464 1034.86 115.945 1037.66 Q112.427 1040.46 105.946 1040.46 Q103.77 1040.46 101.455 1040.02 Q99.1632 1039.61 96.7095 1038.75 L96.7095 1034.24 Q98.6539 1035.37 100.969 1035.95 Q103.284 1036.53 105.807 1036.53 Q110.205 1036.53 112.496 1034.79 Q114.811 1033.06 114.811 1029.75 Q114.811 1026.69 112.658 1024.98 Q110.529 1023.24 106.709 1023.24 L102.682 1023.24 L102.682 1019.4 L106.895 1019.4 Q110.344 1019.4 112.172 1018.03 Q114.001 1016.64 114.001 1014.05 Q114.001 1011.39 112.103 1009.98 Q110.228 1008.54 106.709 1008.54 Q104.788 1008.54 102.589 1008.96 Q100.39 1009.38 97.7511 1010.25 L97.7511 1006.09 Q100.413 1005.35 102.728 1004.98 Q105.066 1004.61 107.126 1004.61 Q112.45 1004.61 115.552 1007.04 Q118.654 1009.44 118.654 1013.57 Q118.654 1016.44 117.01 1018.43 Q115.367 1020.39 112.334 1021.16 Z\" fill=\"#000000\" fill-rule=\"evenodd\" fill-opacity=\"1\" /><path clip-path=\"url(#clip950)\" d=\"M 0 0 M138.33 1008.31 Q134.719 1008.31 132.89 1011.88 Q131.084 1015.42 131.084 1022.55 Q131.084 1029.65 132.89 1033.22 Q134.719 1036.76 138.33 1036.76 Q141.964 1036.76 143.769 1033.22 Q145.598 1029.65 145.598 1022.55 Q145.598 1015.42 143.769 1011.88 Q141.964 1008.31 138.33 1008.31 M138.33 1004.61 Q144.14 1004.61 147.195 1009.21 Q150.274 1013.8 150.274 1022.55 Q150.274 1031.27 147.195 1035.88 Q144.14 1040.46 138.33 1040.46 Q132.519 1040.46 129.441 1035.88 Q126.385 1031.27 126.385 1022.55 Q126.385 1013.8 129.441 1009.21 Q132.519 1004.61 138.33 1004.61 Z\" fill=\"#000000\" fill-rule=\"evenodd\" fill-opacity=\"1\" /><path clip-path=\"url(#clip950)\" d=\"M 0 0 M63.9319 736.251 Q60.3208 736.251 58.4921 739.816 Q56.6865 743.357 56.6865 750.487 Q56.6865 757.593 58.4921 761.158 Q60.3208 764.7 63.9319 764.7 Q67.5661 764.7 69.3717 761.158 Q71.2004 757.593 71.2004 750.487 Q71.2004 743.357 69.3717 739.816 Q67.5661 736.251 63.9319 736.251 M63.9319 732.547 Q69.742 732.547 72.7976 737.154 Q75.8763 741.737 75.8763 750.487 Q75.8763 759.214 72.7976 763.82 Q69.742 768.403 63.9319 768.403 Q58.1217 768.403 55.043 763.82 Q51.9875 759.214 51.9875 750.487 Q51.9875 741.737 55.043 737.154 Q58.1217 732.547 63.9319 732.547 Z\" fill=\"#000000\" fill-rule=\"evenodd\" fill-opacity=\"1\" /><path clip-path=\"url(#clip950)\" d=\"M 0 0 M84.0938 761.853 L88.978 761.853 L88.978 767.732 L84.0938 767.732 L84.0938 761.853 Z\" fill=\"#000000\" fill-rule=\"evenodd\" fill-opacity=\"1\" /><path clip-path=\"url(#clip950)\" d=\"M 0 0 M113.33 749.098 Q116.686 749.816 118.561 752.084 Q120.459 754.353 120.459 757.686 Q120.459 762.802 116.941 765.603 Q113.422 768.403 106.941 768.403 Q104.765 768.403 102.45 767.964 Q100.159 767.547 97.7048 766.69 L97.7048 762.177 Q99.6493 763.311 101.964 763.89 Q104.279 764.468 106.802 764.468 Q111.2 764.468 113.492 762.732 Q115.807 760.996 115.807 757.686 Q115.807 754.63 113.654 752.917 Q111.524 751.181 107.705 751.181 L103.677 751.181 L103.677 747.339 L107.89 747.339 Q111.339 747.339 113.168 745.973 Q114.996 744.584 114.996 741.992 Q114.996 739.33 113.098 737.917 Q111.223 736.482 107.705 736.482 Q105.783 736.482 103.584 736.899 Q101.385 737.316 98.7465 738.195 L98.7465 734.029 Q101.409 733.288 103.723 732.918 Q106.061 732.547 108.121 732.547 Q113.445 732.547 116.547 734.978 Q119.649 737.385 119.649 741.505 Q119.649 744.376 118.006 746.367 Q116.362 748.334 113.33 749.098 Z\" fill=\"#000000\" fill-rule=\"evenodd\" fill-opacity=\"1\" /><path clip-path=\"url(#clip950)\" d=\"M 0 0 M129.371 733.172 L147.728 733.172 L147.728 737.107 L133.654 737.107 L133.654 745.579 Q134.672 745.232 135.691 745.07 Q136.709 744.885 137.728 744.885 Q143.515 744.885 146.894 748.056 Q150.274 751.228 150.274 756.644 Q150.274 762.223 146.802 765.325 Q143.33 768.403 137.01 768.403 Q134.834 768.403 132.566 768.033 Q130.32 767.663 127.913 766.922 L127.913 762.223 Q129.996 763.357 132.219 763.913 Q134.441 764.468 136.918 764.468 Q140.922 764.468 143.26 762.362 Q145.598 760.255 145.598 756.644 Q145.598 753.033 143.26 750.927 Q140.922 748.82 136.918 748.82 Q135.043 748.82 133.168 749.237 Q131.316 749.654 129.371 750.533 L129.371 733.172 Z\" fill=\"#000000\" fill-rule=\"evenodd\" fill-opacity=\"1\" /><path clip-path=\"url(#clip950)\" d=\"M 0 0 M62.9365 464.191 Q59.3254 464.191 57.4967 467.756 Q55.6912 471.298 55.6912 478.427 Q55.6912 485.534 57.4967 489.098 Q59.3254 492.64 62.9365 492.64 Q66.5707 492.64 68.3763 489.098 Q70.205 485.534 70.205 478.427 Q70.205 471.298 68.3763 467.756 Q66.5707 464.191 62.9365 464.191 M62.9365 460.487 Q68.7467 460.487 71.8022 465.094 Q74.8809 469.677 74.8809 478.427 Q74.8809 487.154 71.8022 491.76 Q68.7467 496.344 62.9365 496.344 Q57.1264 496.344 54.0477 491.76 Q50.9921 487.154 50.9921 478.427 Q50.9921 469.677 54.0477 465.094 Q57.1264 460.487 62.9365 460.487 Z\" fill=\"#000000\" fill-rule=\"evenodd\" fill-opacity=\"1\" /><path clip-path=\"url(#clip950)\" d=\"M 0 0 M83.0984 489.793 L87.9827 489.793 L87.9827 495.672 L83.0984 495.672 L83.0984 489.793 Z\" fill=\"#000000\" fill-rule=\"evenodd\" fill-opacity=\"1\" /><path clip-path=\"url(#clip950)\" d=\"M 0 0 M111.015 465.187 L99.2095 483.636 L111.015 483.636 L111.015 465.187 M109.788 461.112 L115.668 461.112 L115.668 483.636 L120.598 483.636 L120.598 487.524 L115.668 487.524 L115.668 495.672 L111.015 495.672 L111.015 487.524 L95.4132 487.524 L95.4132 483.011 L109.788 461.112 Z\" fill=\"#000000\" fill-rule=\"evenodd\" fill-opacity=\"1\" /><path clip-path=\"url(#clip950)\" d=\"M 0 0 M138.33 464.191 Q134.719 464.191 132.89 467.756 Q131.084 471.298 131.084 478.427 Q131.084 485.534 132.89 489.098 Q134.719 492.64 138.33 492.64 Q141.964 492.64 143.769 489.098 Q145.598 485.534 145.598 478.427 Q145.598 471.298 143.769 467.756 Q141.964 464.191 138.33 464.191 M138.33 460.487 Q144.14 460.487 147.195 465.094 Q150.274 469.677 150.274 478.427 Q150.274 487.154 147.195 491.76 Q144.14 496.344 138.33 496.344 Q132.519 496.344 129.441 491.76 Q126.385 487.154 126.385 478.427 Q126.385 469.677 129.441 465.094 Q132.519 460.487 138.33 460.487 Z\" fill=\"#000000\" fill-rule=\"evenodd\" fill-opacity=\"1\" /><path clip-path=\"url(#clip950)\" d=\"M 0 0 M63.9319 192.132 Q60.3208 192.132 58.4921 195.696 Q56.6865 199.238 56.6865 206.368 Q56.6865 213.474 58.4921 217.039 Q60.3208 220.58 63.9319 220.58 Q67.5661 220.58 69.3717 217.039 Q71.2004 213.474 71.2004 206.368 Q71.2004 199.238 69.3717 195.696 Q67.5661 192.132 63.9319 192.132 M63.9319 188.428 Q69.742 188.428 72.7976 193.034 Q75.8763 197.618 75.8763 206.368 Q75.8763 215.094 72.7976 219.701 Q69.742 224.284 63.9319 224.284 Q58.1217 224.284 55.043 219.701 Q51.9875 215.094 51.9875 206.368 Q51.9875 197.618 55.043 193.034 Q58.1217 188.428 63.9319 188.428 Z\" fill=\"#000000\" fill-rule=\"evenodd\" fill-opacity=\"1\" /><path clip-path=\"url(#clip950)\" d=\"M 0 0 M84.0938 217.733 L88.978 217.733 L88.978 223.613 L84.0938 223.613 L84.0938 217.733 Z\" fill=\"#000000\" fill-rule=\"evenodd\" fill-opacity=\"1\" /><path clip-path=\"url(#clip950)\" d=\"M 0 0 M112.01 193.127 L100.205 211.576 L112.01 211.576 L112.01 193.127 M110.783 189.053 L116.663 189.053 L116.663 211.576 L121.594 211.576 L121.594 215.465 L116.663 215.465 L116.663 223.613 L112.01 223.613 L112.01 215.465 L96.4085 215.465 L96.4085 210.951 L110.783 189.053 Z\" fill=\"#000000\" fill-rule=\"evenodd\" fill-opacity=\"1\" /><path clip-path=\"url(#clip950)\" d=\"M 0 0 M129.371 189.053 L147.728 189.053 L147.728 192.988 L133.654 192.988 L133.654 201.46 Q134.672 201.113 135.691 200.951 Q136.709 200.766 137.728 200.766 Q143.515 200.766 146.894 203.937 Q150.274 207.108 150.274 212.525 Q150.274 218.104 146.802 221.205 Q143.33 224.284 137.01 224.284 Q134.834 224.284 132.566 223.914 Q130.32 223.543 127.913 222.803 L127.913 218.104 Q129.996 219.238 132.219 219.793 Q134.441 220.349 136.918 220.349 Q140.922 220.349 143.26 218.242 Q145.598 216.136 145.598 212.525 Q145.598 208.914 143.26 206.807 Q140.922 204.701 136.918 204.701 Q135.043 204.701 133.168 205.118 Q131.316 205.534 129.371 206.414 L129.371 189.053 Z\" fill=\"#000000\" fill-rule=\"evenodd\" fill-opacity=\"1\" /><polyline clip-path=\"url(#clip952)\" style=\"stroke:#009af9; stroke-width:4; stroke-opacity:1; fill:none\" points=\"\n",
       "  2291.44,1445.72 2270.58,1445.72 2249.73,1445.72 2228.87,1445.72 2208.02,1445.72 2187.16,1445.72 2166.31,1445.72 2145.45,1445.72 2124.6,1445.72 2103.74,1445.72 \n",
       "  2082.88,1445.72 2062.03,1445.72 2041.17,1445.72 2020.32,1445.72 1999.46,1445.72 1978.61,1445.72 1957.75,1445.72 1936.89,1445.72 1916.04,1445.72 1895.18,1445.72 \n",
       "  1874.33,1445.72 1853.47,1445.72 1832.62,1445.72 1811.76,1445.72 1790.91,1445.72 1770.05,1445.72 1749.19,1445.72 1728.34,1445.72 1707.48,1445.72 1686.63,1445.72 \n",
       "  1665.77,1445.72 1644.92,1445.72 1624.06,1445.72 1603.2,1434.84 1582.35,1418.04 1561.49,1400.57 1540.64,1382.34 1519.78,1363.22 1498.93,1343.09 1478.07,1321.78 \n",
       "  1457.22,1299.07 1436.36,1274.69 1415.5,1248.31 1394.65,1219.46 1373.79,1187.49 1352.94,1151.47 1332.08,1109.97 1311.23,1060.58 1290.37,998.749 1269.51,913.688 \n",
       "  1248.66,942.369 1227.8,962.957 1206.95,978.816 1186.09,991.574 1165.24,1002.15 1144.38,1011.1 1123.53,1018.81 1102.67,1025.54 1081.81,1031.48 1060.96,1036.77 \n",
       "  1040.1,1011.57 1019.25,983.74 998.392,952.426 977.536,916.257 956.681,872.83 935.825,817.196 914.969,776.305 894.114,796.884 873.258,811.985 852.403,823.762 \n",
       "  831.547,833.31 810.691,818.578 789.836,781.901 768.98,736.027 748.124,671.603 727.269,691.842 706.413,705.872 685.558,706.126 664.702,663.297 643.846,602.358 \n",
       "  622.991,619.962 602.135,622.455 581.279,572.021 560.424,560.164 539.568,549.71 518.713,511.324 497.857,502.791 477.001,478.102 456.146,444.097 435.29,417.882 \n",
       "  414.434,396.643 393.579,377.945 372.723,344.657 351.868,314.332 331.012,278.562 310.156,242.32 289.301,201.313 268.445,151.902 247.59,87.9763 \n",
       "  \"/>\n",
       "<path clip-path=\"url(#clip950)\" d=\"\n",
       "M1987.39 216.178 L2280.54 216.178 L2280.54 95.2176 L1987.39 95.2176  Z\n",
       "  \" fill=\"#ffffff\" fill-rule=\"evenodd\" fill-opacity=\"1\"/>\n",
       "<polyline clip-path=\"url(#clip950)\" style=\"stroke:#000000; stroke-width:4; stroke-opacity:1; fill:none\" points=\"\n",
       "  1987.39,216.178 2280.54,216.178 2280.54,95.2176 1987.39,95.2176 1987.39,216.178 \n",
       "  \"/>\n",
       "<polyline clip-path=\"url(#clip950)\" style=\"stroke:#009af9; stroke-width:4; stroke-opacity:1; fill:none\" points=\"\n",
       "  2011.46,155.698 2155.89,155.698 \n",
       "  \"/>\n",
       "<path clip-path=\"url(#clip950)\" d=\"M 0 0 M2193.81 175.385 Q2192 180.015 2190.29 181.427 Q2188.58 182.839 2185.71 182.839 L2182.3 182.839 L2182.3 179.274 L2184.8 179.274 Q2186.56 179.274 2187.53 178.44 Q2188.51 177.607 2189.69 174.505 L2190.45 172.561 L2179.97 147.052 L2184.48 147.052 L2192.58 167.329 L2200.68 147.052 L2205.2 147.052 L2193.81 175.385 Z\" fill=\"#000000\" fill-rule=\"evenodd\" fill-opacity=\"1\" /><path clip-path=\"url(#clip950)\" d=\"M 0 0 M2212.49 169.042 L2220.13 169.042 L2220.13 142.677 L2211.82 144.343 L2211.82 140.084 L2220.08 138.418 L2224.76 138.418 L2224.76 169.042 L2232.4 169.042 L2232.4 172.978 L2212.49 172.978 L2212.49 169.042 Z\" fill=\"#000000\" fill-rule=\"evenodd\" fill-opacity=\"1\" /></svg>\n"
      ]
     },
     "execution_count": 83,
     "metadata": {},
     "output_type": "execute_result"
    }
   ],
   "source": [
    "using Plots\n",
    "plot(Rrs, Drs)"
   ]
  },
  {
   "cell_type": "code",
   "execution_count": null,
   "metadata": {},
   "outputs": [],
   "source": []
  }
 ],
 "metadata": {
  "kernelspec": {
   "display_name": "Julia 1.6.1-pre",
   "language": "julia",
   "name": "julia-1.6"
  },
  "language_info": {
   "file_extension": ".jl",
   "mimetype": "application/julia",
   "name": "julia",
   "version": "1.6.1"
  }
 },
 "nbformat": 4,
 "nbformat_minor": 4
}
