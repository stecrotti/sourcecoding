{
 "cells": [
  {
   "cell_type": "code",
   "execution_count": 1,
   "metadata": {},
   "outputs": [],
   "source": [
    "using OffsetArrays"
   ]
  },
  {
   "cell_type": "code",
   "execution_count": 2,
   "metadata": {},
   "outputs": [
    {
     "data": {
      "text/plain": [
       "BP_tu (generic function with 1 method)"
      ]
     },
     "execution_count": 2,
     "metadata": {},
     "output_type": "execute_result"
    }
   ],
   "source": [
    "function BP_th(H, tus)\n",
    "    p1 = prod(tus[i][1] for i=1:length(tus))*exp(H)\n",
    "    p2 = prod(tus[i][2] for i=1:length(tus))*exp(-H)\n",
    "    if p1+p2==0\n",
    "        println(\"conflicting messages in BP_th\")\n",
    "    end\n",
    "    th1 = p1/(p1+p2)\n",
    "    th2 = p2/(p1+p2)\n",
    "    (th1, th2)\n",
    "end\n",
    "\n",
    "function BP_tu(s, ths)\n",
    "    tu1=0.0; tu2=0.0\n",
    "    for sig in Iterators.product(fill(-1:2:1,2)...)\n",
    "        ind = [(sig[i]==1 ? 1 : 2) for i=1:length(sig)]\n",
    "        if prod(sig) == s\n",
    "            tu1 += prod(ths[i][ind[i]] for i=1:length(ths))\n",
    "        else\n",
    "            tu2 += prod(ths[i][ind[i]] for i=1:length(ths))\n",
    "        end\n",
    "    end\n",
    "    (tu1, tu2)\n",
    "end"
   ]
  },
  {
   "cell_type": "code",
   "execution_count": 3,
   "metadata": {},
   "outputs": [
    {
     "data": {
      "text/plain": [
       "BP_tu_conv (generic function with 1 method)"
      ]
     },
     "execution_count": 3,
     "metadata": {},
     "output_type": "execute_result"
    }
   ],
   "source": [
    "conv(h1::Tuple, h2::Tuple) = tuple(h1[1]*h2[1]+h1[2]*h2[2], h1[1]*h2[2]+h1[2]*h2[1]) \n",
    "function BP_th_conv(H, tus)\n",
    "    th = (exp(H), exp(-H))\n",
    "    for tu in tus\n",
    "        th = th.*tu\n",
    "    end\n",
    "    th ./ sum(th)\n",
    "end\n",
    "function BP_tu_conv(s, ths)\n",
    "   tu = s==1 ? tuple(1.0,0.0) : tuple(0.0,1.0)\n",
    "   for i in eachindex(ths)\n",
    "       tu = conv(tu, ths[i]) \n",
    "    end\n",
    "    tu\n",
    "end"
   ]
  },
  {
   "cell_type": "code",
   "execution_count": 4,
   "metadata": {},
   "outputs": [
    {
     "data": {
      "text/plain": [
       "dist_sigmas (generic function with 1 method)"
      ]
     },
     "execution_count": 4,
     "metadata": {},
     "output_type": "execute_result"
    }
   ],
   "source": [
    "function dist_sigmas(s, ths_0, σs, ν)\n",
    "    k = length(ths_0)\n",
    "    i = 0\n",
    "    for sig in Iterators.product(fill(-1:2:1,k)...)\n",
    "        i += 1\n",
    "        ind = [(sig[j]==1 ? 1 : 2) for j=1:length(sig)]\n",
    "        σs[i] = sig\n",
    "        if prod(sig) == s\n",
    "            @show sig, ind, ths_0[2][ind[2]]\n",
    "            ν[i] += prod(ths_0[j][ind[j]] for j=1:length(ths_0))\n",
    "        end\n",
    "    end\n",
    "    ν ./= sum(ν)\n",
    "    ν, σs\n",
    "end"
   ]
  },
  {
   "cell_type": "code",
   "execution_count": 5,
   "metadata": {
    "scrolled": true
   },
   "outputs": [
    {
     "data": {
      "text/plain": [
       "residual (generic function with 1 method)"
      ]
     },
     "execution_count": 5,
     "metadata": {},
     "output_type": "execute_result"
    }
   ],
   "source": [
    "using StatsBase, ProgressMeter, Random\n",
    "residual(x) = (p=OffsetVector((x .* eachindex(x))[1:end], 0:lastindex(x)-1); p./=sum(p))"
   ]
  },
  {
   "cell_type": "code",
   "execution_count": 6,
   "metadata": {},
   "outputs": [
    {
     "data": {
      "text/plain": [
       "RS (generic function with 1 method)"
      ]
     },
     "execution_count": 6,
     "metadata": {},
     "output_type": "execute_result"
    }
   ],
   "source": [
    "function RS(Λ, K, H; \n",
    "        maxiter=100, \n",
    "        popsize=1000, \n",
    "        popP_RS = fill((0.5,0.5), 1:popsize),\n",
    "        popQ_RS = fill((0.5,0.5), 1:popsize),\n",
    "        q0 = fill(NaN, 1:maxiter)\n",
    "    )\n",
    "\n",
    "    Λ1 = residual(Λ)\n",
    "    K1 = residual(K)\n",
    "    wΛ1 = weights(Λ1)\n",
    "    wK1 = weights(K1)\n",
    "\n",
    "    \n",
    "    @showprogress for t = 1:maxiter\n",
    "        \n",
    "        for i = 1:popsize\n",
    "            k = sample(eachindex(K1), wK1)\n",
    "            ind_ths = rand(1:popsize, k)\n",
    "            ths = popP_RS[ind_ths]            \n",
    "            s = rand((-1,1))\n",
    "            popQ_RS[i] = BP_tu_conv(s, ths)\n",
    "        end\n",
    "        \n",
    "        q0[t]=0.0\n",
    "        \n",
    "        for i = 1:popsize\n",
    "            d = sample(eachindex(Λ1), wΛ1)\n",
    "            ind_tus = rand(1:popsize, d)\n",
    "            tus = popQ_RS[ind_tus]\n",
    "            popP_RS[i] = BP_th_conv(H, tus)\n",
    "            \n",
    "            q0[t]+=(popP_RS[i][1]-popP_RS[i][2])^2\n",
    "        end\n",
    "        \n",
    "        q0[t] = q0[t]/length(popP_RS)\n",
    "    end\n",
    "    popP_RS, popQ_RS, q0\n",
    "#    popP_RS, popQ_RS\n",
    "end"
   ]
  },
  {
   "cell_type": "code",
   "execution_count": 83,
   "metadata": {},
   "outputs": [
    {
     "data": {
      "text/plain": [
       "init_pop_alternative (generic function with 1 method)"
      ]
     },
     "execution_count": 83,
     "metadata": {},
     "output_type": "execute_result"
    }
   ],
   "source": [
    "function init_pop(pop_RS, ϵ)\n",
    "    pop = fill((NaN, NaN), -1:1, 1:popsize)\n",
    "    pop[0,:]=popP_RS\n",
    "    pop[1,:] =fill( ( ϵ, 1-ϵ), 1:popsize)\n",
    "    pop[-1,:] = fill( ( 1-ϵ, ϵ), 1:popsize)\n",
    "    pop\n",
    "end\n",
    "function init_pop_alternative(pop_RS, ϵ)\n",
    "    pop = fill((NaN, NaN), -1:1, 1:popsize)\n",
    "    pop[0,:]=popP_RS\n",
    "    for i=1:popsize\n",
    "        pop[1,i]=(rand()<ϵ ? (1.0, 0.0) : pop[0,i])\n",
    "        pop[-1,i]=(rand()<ϵ ? (0.0, 1.0) : pop[0,i])\n",
    "    end\n",
    "    pop\n",
    "end"
   ]
  },
  {
   "cell_type": "code",
   "execution_count": 63,
   "metadata": {},
   "outputs": [
    {
     "data": {
      "text/plain": [
       "checkRS (generic function with 1 method)"
      ]
     },
     "execution_count": 63,
     "metadata": {},
     "output_type": "execute_result"
    }
   ],
   "source": [
    "function checkRS(popP)\n",
    "    q0=0.0; q1=0.0\n",
    "    for ind=1:size(popP, 2)\n",
    "        th = popP[:,ind]\n",
    "        m0 = th[0][1]-th[0][2]; m1 = th[1][1]-th[1][2]; mm1=th[-1][1]-th[-1][2]\n",
    "        q0 += m0^2\n",
    "        q1 += m1*th[0][1] - mm1*th[0][2]\n",
    "    end\n",
    "    q1= q1/size(popP, 2); q0=q0/size(popP, 2)\n",
    "    q0, q1, q1-q0\n",
    "end"
   ]
  },
  {
   "cell_type": "code",
   "execution_count": 69,
   "metadata": {},
   "outputs": [
    {
     "data": {
      "text/plain": [
       "checkHardFields (generic function with 1 method)"
      ]
     },
     "execution_count": 69,
     "metadata": {},
     "output_type": "execute_result"
    }
   ],
   "source": [
    "function checkHardFields(popP, xmin)\n",
    "    p1=0.0; pm1=0.0;\n",
    "    for ind=1:size(popP, 2)\n",
    "        th = popP[:,ind]\n",
    "        p1 += (th[1][2] < xmin ? 1.0 : 0.0)\n",
    "        pm1 += (th[-1][1] < xmin ? 1.0 : 0.0)\n",
    "    end\n",
    "    p1=p1/size(popP, 2)\n",
    "    pm1=pm1/size(popP, 2)\n",
    "    p1, pm1\n",
    "end"
   ]
  },
  {
   "cell_type": "code",
   "execution_count": 122,
   "metadata": {},
   "outputs": [
    {
     "data": {
      "text/plain": [
       "RSB_entropic_m1 (generic function with 1 method)"
      ]
     },
     "execution_count": 122,
     "metadata": {},
     "output_type": "execute_result"
    }
   ],
   "source": [
    "function RSB_entropic_m1(Λ, K, H, popP_RS, popQ_RS; \n",
    "        maxiter=100, \n",
    "        popsize=1000, \n",
    "        popP = init_pop(popP_RS, 0.95),\n",
    "        popQ = init_pop(popQ_RS, 0.95),\n",
    "        q0=fill(NaN, 1:maxiter),\n",
    "        V=fill(NaN, 1:maxiter),\n",
    "        p1=fill(NaN, 1:maxiter),\n",
    "        pm1=fill(NaN, 1:maxiter),\n",
    "        xmin=10^(-20)\n",
    "    )\n",
    "    \n",
    "    Λ1 = residual(Λ)\n",
    "    K1 = residual(K)\n",
    "    wΛ1 = weights(Λ1)\n",
    "    wK1 = weights(K1)\n",
    "    \n",
    "    @showprogress for t = 1:maxiter\n",
    "        for i = 1:popsize\n",
    "            k = sample(eachindex(K1), wK1)\n",
    "            ind_ths = rand(1:popsize, k)\n",
    "            ths = popP[:,ind_ths]            \n",
    "            s = rand((-1,1))\n",
    "            popQ[0,i] = BP_tu_conv(s, ths[0,:])\n",
    "            #@show ind_ths, s\n",
    "            \n",
    "            ν = fill(0.0, 1:2^k)\n",
    "            σs = fill(tuple(fill(NaN, k)...), 1:2^k)\n",
    "            ν, σs = dist_sigmas(s, ths[0,:], σs, ν)\n",
    "            wν = weights(ν)\n",
    "            ind = sample(eachindex(ν), wν)\n",
    "            σ = convert.(Int64, σs[ind])\n",
    "            #@show σ\n",
    "            elts = [ths[s,i] for (i,s) ∈ zip(eachindex(σ), σ)]\n",
    "            popQ[1,i] = BP_tu_conv(s, elts)\n",
    "\n",
    "            ν = fill(0.0, 1:2^k)\n",
    "            σs = fill(tuple(fill(NaN, k)...), 1:2^k)\n",
    "            ν, σs = dist_sigmas(-s, ths[0,:], σs, ν)\n",
    "            wν = weights(ν)\n",
    "            ind = sample(eachindex(ν), wν)\n",
    "            σ = convert.(Int64, σs[ind])\n",
    "            #@show σ\n",
    "            elts = [ths[s,i] for (i,s) ∈ zip(eachindex(σ), σ)]\n",
    "            popQ[-1,i] = BP_tu_conv(s, elts)\n",
    "        end\n",
    "\n",
    "        q0[t]=0.0; V[t]=0.0; p1[t]=0.0; pm1[t]=0.0\n",
    "        \n",
    "        for i = 1:popsize\n",
    "            d = sample(eachindex(Λ1), wΛ1)\n",
    "            ind_tus = rand(1:popsize, d)\n",
    "            tus = popQ[:,ind_tus]\n",
    "            #@show ind_tus\n",
    "            popP[0,i] = BP_th_conv(H, tus[0,:])\n",
    "            popP[-1,i] = BP_th_conv(H, tus[-1,:])\n",
    "            popP[1,i] = BP_th_conv(H, tus[1,:])\n",
    "            \n",
    "            m0 = popP[0,i][1]-popP[0,i][2]; m1 = popP[1,i][1]-popP[1,i][2]; mm1 = popP[-1,i][1]-popP[-1,i][2]\n",
    "            q0[t]+= m0^2\n",
    "            V[t]+= m1*popP[0,i][1] - mm1*popP[0,i][2]\n",
    "            p1[t]+=(popP[1,i][2] < xmin ? 1.0 : 0.0)\n",
    "            pm1[t]+=(popP[-1,i][1] < xmin ? 1.0 : 0.0)\n",
    "        end\n",
    "        \n",
    "        q0[t] = q0[t]/size(popP, 2)\n",
    "        V[t] = V[t]/size(popP, 2)\n",
    "        p1[t] = p1[t]/size(popP, 2)\n",
    "        pm1[t] = pm1[t]/size(popP, 2)\n",
    "    end    \n",
    "    V = V .- q0\n",
    "    #popP, popQ\n",
    "    popP, popQ, q0, V, p1, pm1\n",
    "end"
   ]
  },
  {
   "cell_type": "markdown",
   "metadata": {},
   "source": [
    "Test\n",
    "---"
   ]
  },
  {
   "cell_type": "code",
   "execution_count": 149,
   "metadata": {},
   "outputs": [
    {
     "name": "stderr",
     "output_type": "stream",
     "text": [
      "\u001b[32mProgress: 100%|█████████████████████████████████████████| Time: 0:00:04\u001b[39m\n"
     ]
    },
    {
     "data": {
      "text/plain": [
       "10000-element OffsetArray(::Array{Tuple{Float64,Float64},1}, 1:10000) with eltype Tuple{Float64,Float64} with indices 1:10000:\n",
       " (0.34186307112722464, 0.6581369288727753)\n",
       " (0.1049830508581523, 0.8950169491418477)\n",
       " (0.9997002623331286, 0.0002997376668714501)\n",
       " (0.99999984602571, 1.5397428989855213e-7)\n",
       " (0.9999515768980038, 4.8423101996250076e-5)\n",
       " (0.9997909898937524, 0.00020901010624753516)\n",
       " (0.5818820323267433, 0.4181179676732566)\n",
       " (0.9999769144514069, 2.3085548592991435e-5)\n",
       " (0.9999979794868257, 2.020513174404696e-6)\n",
       " (0.9993632945449321, 0.0006367054550679245)\n",
       " (9.941791533285344e-5, 0.9999005820846673)\n",
       " (0.9858260673250502, 0.01417393267494983)\n",
       " (0.9034385283252839, 0.09656147167471607)\n",
       " ⋮\n",
       " (0.9999985631130655, 1.4368869344645584e-6)\n",
       " (0.9999969438828855, 3.056117114511355e-6)\n",
       " (0.999999953699159, 4.630084102509779e-8)\n",
       " (0.9999976810142327, 2.3189857672731273e-6)\n",
       " (0.9933082633739119, 0.006691736626088154)\n",
       " (0.9999927467872423, 7.253212757666662e-6)\n",
       " (0.9999985689340083, 1.4310659916824135e-6)\n",
       " (0.9857464719794867, 0.014253528020513247)\n",
       " (0.9997133142919403, 0.000286685708059745)\n",
       " (0.23999844849852278, 0.7600015515014772)\n",
       " (0.4858368196881507, 0.5141631803118493)\n",
       " (0.9997070511680243, 0.0002929488319757235)"
      ]
     },
     "execution_count": 149,
     "metadata": {},
     "output_type": "execute_result"
    }
   ],
   "source": [
    "f3 = 0.3\n",
    "H=3.0\n",
    "Λ = OffsetVector([0,0,1-f3,f3], 0:3)\n",
    "K = OffsetVector([0,0,0,1], 0:3)\n",
    "popsize = 10^4\n",
    "maxiter = 10^3\n",
    "popP_RS, popQ_RS = RS(Λ, K, H, maxiter=maxiter, popsize=popsize);\n",
    "popP_RS"
   ]
  },
  {
   "cell_type": "code",
   "execution_count": 150,
   "metadata": {},
   "outputs": [
    {
     "name": "stderr",
     "output_type": "stream",
     "text": [
      "\u001b[32mProgress: 100%|█████████████████████████████████████████| Time: 0:02:56\u001b[39m\n"
     ]
    },
    {
     "data": {
      "text/plain": [
       "3×10000 OffsetArray(::Array{Tuple{Float64,Float64},2}, -1:1, 1:10000) with eltype Tuple{Float64,Float64} with indices -1:1×1:10000:\n",
       " (0.999934, 6.55845e-5)  (1.0, 7.23794e-8)   …  (0.998822, 0.00117757)\n",
       " (0.999977, 2.33835e-5)  (1.0, 2.92363e-11)     (0.999972, 2.8126e-5)\n",
       " (0.999934, 6.55845e-5)  (1.0, 7.23794e-8)      (0.998822, 0.00117757)"
      ]
     },
     "execution_count": 150,
     "metadata": {},
     "output_type": "execute_result"
    }
   ],
   "source": [
    "q0=fill(NaN, 1:maxiter)\n",
    "V=fill(NaN, 1:maxiter)\n",
    "p1=fill(NaN, 1:maxiter)\n",
    "pm1=fill(NaN, 1:maxiter)\n",
    "maxiter=10^3\n",
    "xmin=10^(-50)\n",
    "popP, popQ, q0, V, p1, pm1 = RSB_entropic_m1(Λ, K, H, popP_RS, popQ_RS, maxiter=maxiter, popsize=popsize, popP=popP, popQ=popQ, xmin=xmin)\n",
    "popP"
   ]
  },
  {
   "cell_type": "code",
   "execution_count": 151,
   "metadata": {},
   "outputs": [
    {
     "data": {
      "text/plain": [
       "(0.0, 0.0)"
      ]
     },
     "execution_count": 151,
     "metadata": {},
     "output_type": "execute_result"
    }
   ],
   "source": [
    "checkHardFields(popP, xmin)"
   ]
  },
  {
   "cell_type": "code",
   "execution_count": 152,
   "metadata": {},
   "outputs": [
    {
     "data": {
      "image/png": "[encoded data removed]",
      "text/plain": [
       "Figure(PyObject <Figure size 640x480 with 1 Axes>)"
      ]
     },
     "metadata": {},
     "output_type": "display_data"
    },
    {
     "data": {
      "text/plain": [
       "PyObject <matplotlib.legend.Legend object at 0x7f4b36d6be10>"
      ]
     },
     "execution_count": 152,
     "metadata": {},
     "output_type": "execute_result"
    }
   ],
   "source": [
    "using PyPlot\n",
    "range = 1:200\n",
    "plot(range, V[range], label=\"V\")\n",
    "plot(range, p1[range], label=\"p1\")\n",
    "legend()"
   ]
  }
 ],
 "metadata": {
  "kernelspec": {
   "display_name": "Julia 1.5.3",
   "language": "julia",
   "name": "julia-1.5"
  },
  "language_info": {
   "file_extension": ".jl",
   "mimetype": "application/julia",
   "name": "julia",
   "version": "1.5.3"
  }
 },
 "nbformat": 4,
 "nbformat_minor": 4
}
