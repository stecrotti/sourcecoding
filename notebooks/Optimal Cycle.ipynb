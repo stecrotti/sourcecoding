{
 "cells": [
  {
   "cell_type": "code",
   "execution_count": 1,
   "metadata": {},
   "outputs": [],
   "source": [
    "using BlossomV, LinearAlgebra, SparseArrays"
   ]
  },
  {
   "cell_type": "code",
   "execution_count": 2,
   "metadata": {},
   "outputs": [
    {
     "data": {
      "text/plain": [
       "optimal_cycle (generic function with 1 method)"
      ]
     },
     "execution_count": 2,
     "metadata": {},
     "output_type": "execute_result"
    }
   ],
   "source": [
    "# Implements algorithm 1 in Improved Algorithms for Detecting Negative Cost Cycles in Undirected Graphs.\n",
    "# Xiaofeng Gu1, Kamesh Madduri, K. Subramani and Hong-Jian Lai\n",
    "\n",
    "function optimal_cycle(G)\n",
    "    G = sparse(G)\n",
    "    @assert issymmetric(G)\n",
    "    rows, weights  = rowvals(G), nonzeros(G)\n",
    "    ∂(i) = zip((@view rows[nzrange(G,i)]), (@view weights[nzrange(G,i)]))\n",
    "    edge(i,j,w) = add_edge(E, i-1, j-1, w)\n",
    "    match(i) = get_match(E, i - 1) + 1\n",
    "    n = size(G,1);\n",
    "    m = Int(length(rows)/2)\n",
    "    E = Matching(Float64, 2n+2m)\n",
    "    D = Tuple{Int,Int}[]\n",
    "    k = 2n+1\n",
    "    for i=1:n\n",
    "        edge(i, i+n, 0)\n",
    "        for (j,w) in ∂(i)\n",
    "            if i < j\n",
    "                edge(i,     k,   w)\n",
    "                edge(i + n, k,   w)\n",
    "                edge(j,     k+1, w)\n",
    "                edge(j + n, k+1, w)\n",
    "                edge(k,     k+1, 0)\n",
    "                push!(D, (i,j))\n",
    "                k+=2\n",
    "            end\n",
    "        end\n",
    "    end\n",
    "    @assert k == 2n+2m+1\n",
    "\n",
    "    solve(E)\n",
    "\n",
    "    cycle = [D[k] for k=1:m if match(2k + 2n - 1) != 2k + 2n]\n",
    "    weight = isempty(cycle) ? 0.0 : sum(G[edge...] for edge in cycle)\n",
    "    return cycle, weight\n",
    "end "
   ]
  },
  {
   "cell_type": "code",
   "execution_count": 3,
   "metadata": {},
   "outputs": [],
   "source": [
    "#edge list, indices start at 0\n",
    "\n",
    "G = [0  1  1  0  0 0;\n",
    "     1  0 -3 -1  0 0;\n",
    "     1 -3  0  0 -2 0;\n",
    "     0 -1  0  0  0 0;\n",
    "     0  0 -2  0  0 1;\n",
    "     0  0  0  0  1 0]\n",
    "\n",
    "@assert(issymmetric(G))"
   ]
  },
  {
   "cell_type": "code",
   "execution_count": 4,
   "metadata": {},
   "outputs": [
    {
     "data": {
      "text/plain": [
       "([(1, 2), (1, 3), (2, 3)], -1)"
      ]
     },
     "execution_count": 4,
     "metadata": {},
     "output_type": "execute_result"
    }
   ],
   "source": [
    "optimal_cycle(G)"
   ]
  },
  {
   "cell_type": "markdown",
   "metadata": {},
   "source": [
    "# Use it on a lossy compression instance"
   ]
  },
  {
   "cell_type": "code",
   "execution_count": 27,
   "metadata": {},
   "outputs": [],
   "source": [
    "include(\"../code/headers.jl\");"
   ]
  },
  {
   "cell_type": "code",
   "execution_count": 6,
   "metadata": {},
   "outputs": [
    {
     "name": "stdout",
     "output_type": "stream",
     "text": [
      "Distortion for the default solution (all zeros): 0.6\n"
     ]
    }
   ],
   "source": [
    "randseed = 1234\n",
    "n = 10\n",
    "m = 4\n",
    "lm = LossyModel(2,n,m, randseed=randseed)\n",
    "d = distortion(lm)\n",
    "println(\"Distortion for the default solution (all zeros): \", d)"
   ]
  },
  {
   "cell_type": "markdown",
   "metadata": {},
   "source": [
    "Compute optimal cycle"
   ]
  },
  {
   "cell_type": "code",
   "execution_count": 7,
   "metadata": {},
   "outputs": [
    {
     "data": {
      "text/plain": [
       "([(1, 9), (1, 14), (2, 7), (2, 11), (3, 7), (3, 11), (4, 9), (4, 14)], -8.003650958671358)"
      ]
     },
     "execution_count": 7,
     "metadata": {},
     "output_type": "execute_result"
    }
   ],
   "source": [
    "H = weighted_full_adjmat(lm)\n",
    "op_, w = optimal_cycle(H)"
   ]
  },
  {
   "cell_type": "code",
   "execution_count": 8,
   "metadata": {},
   "outputs": [
    {
     "data": {
      "text/plain": [
       "variables_from_cycle (generic function with 1 method)"
      ]
     },
     "execution_count": 8,
     "metadata": {},
     "output_type": "execute_result"
    }
   ],
   "source": [
    "# Wizardry to go from edge numbering in the graph used to find cycles (1:m+n) \n",
    "#  to actual variable (1:n) and factor (1:m) indices\n",
    "function variables_from_cycle(cy::Array{Tuple{Int64,Int64},1}, m::Int)\n",
    "    cy_ = Array{Tuple{Int64,Int64},1}(undef, length(cy))\n",
    "    for i in eachindex(cy)\n",
    "        edge_as_vec = sort(collect(cy[i]))\n",
    "        cy_[i] = (edge_as_vec[1], edge_as_vec[2]-m)\n",
    "    end\n",
    "    cy_    \n",
    "end"
   ]
  },
  {
   "cell_type": "code",
   "execution_count": 9,
   "metadata": {
    "scrolled": true
   },
   "outputs": [
    {
     "data": {
      "text/plain": [
       "8-element Array{Tuple{Int64,Int64},1}:\n",
       " (1, 5)\n",
       " (1, 10)\n",
       " (2, 3)\n",
       " (2, 7)\n",
       " (3, 3)\n",
       " (3, 7)\n",
       " (4, 5)\n",
       " (4, 10)"
      ]
     },
     "execution_count": 9,
     "metadata": {},
     "output_type": "execute_result"
    }
   ],
   "source": [
    "op = variables_from_cycle(op_, m)"
   ]
  },
  {
   "cell_type": "markdown",
   "metadata": {},
   "source": [
    "Visualize the cycle(s)"
   ]
  },
  {
   "cell_type": "code",
   "execution_count": 10,
   "metadata": {},
   "outputs": [
    {
     "data": {
      "image/png": "[encoded data removed]"
     },
     "execution_count": 10,
     "metadata": {},
     "output_type": "execute_result"
    }
   ],
   "source": [
    "plot(lm.fg, highlighted_edges=op, randseed=randseed)"
   ]
  },
  {
   "cell_type": "markdown",
   "metadata": {},
   "source": [
    "Flip the corresponding variables (__Warning__: do not run this cell twice otherwise the flip will cancel)"
   ]
  },
  {
   "cell_type": "code",
   "execution_count": 11,
   "metadata": {},
   "outputs": [
    {
     "data": {
      "text/plain": [
       "4-element view(::Array{Int64,1}, [5, 10, 3, 7]) with eltype Int64:\n",
       " 1\n",
       " 1\n",
       " 1\n",
       " 1"
      ]
     },
     "execution_count": 11,
     "metadata": {},
     "output_type": "execute_result"
    }
   ],
   "source": [
    "# Retrieve indices of variables to flip\n",
    "to_flip = unique!([tup[2] for tup in op])\n",
    "# Flip them in `lm.x` which is the internal state where the current solution guess is stored\n",
    "lm.x[to_flip] .⊻= 1"
   ]
  },
  {
   "cell_type": "markdown",
   "metadata": {},
   "source": [
    "Compute the distortion again"
   ]
  },
  {
   "cell_type": "code",
   "execution_count": 12,
   "metadata": {},
   "outputs": [
    {
     "name": "stdout",
     "output_type": "stream",
     "text": [
      "Distortion after flipping: 0.2\n"
     ]
    }
   ],
   "source": [
    "d2 = distortion(lm)\n",
    "println(\"Distortion after flipping: \", d2)"
   ]
  },
  {
   "cell_type": "markdown",
   "metadata": {},
   "source": [
    "Distortion decreased!\n",
    "\n",
    "Try improving again"
   ]
  },
  {
   "cell_type": "code",
   "execution_count": 13,
   "metadata": {},
   "outputs": [
    {
     "data": {
      "text/plain": [
       "([(1, 12), (1, 13), (2, 6), (2, 12), (4, 6), (4, 13)], -2.004164442260925)"
      ]
     },
     "execution_count": 13,
     "metadata": {},
     "output_type": "execute_result"
    }
   ],
   "source": [
    "H = weighted_full_adjmat(lm)\n",
    "op_, w = optimal_cycle(H)"
   ]
  },
  {
   "cell_type": "code",
   "execution_count": 14,
   "metadata": {},
   "outputs": [
    {
     "data": {
      "image/png": "[encoded data removed]"
     },
     "execution_count": 14,
     "metadata": {},
     "output_type": "execute_result"
    }
   ],
   "source": [
    "op = variables_from_cycle(op_, m)\n",
    "plot(lm.fg, highlighted_edges=op, randseed=randseed)"
   ]
  },
  {
   "cell_type": "code",
   "execution_count": 15,
   "metadata": {},
   "outputs": [
    {
     "name": "stdout",
     "output_type": "stream",
     "text": [
      "Distortion after flipping: 0.1\n"
     ]
    }
   ],
   "source": [
    "to_flip = unique!([tup[2] for tup in op])\n",
    "lm.x[to_flip] .⊻= 1\n",
    "d3 = distortion(lm)\n",
    "println(\"Distortion after flipping: \", d3)"
   ]
  },
  {
   "cell_type": "markdown",
   "metadata": {},
   "source": [
    "Decreased again!\n",
    "\n",
    "Try one last time"
   ]
  },
  {
   "cell_type": "code",
   "execution_count": 16,
   "metadata": {},
   "outputs": [
    {
     "data": {
      "text/plain": [
       "(Tuple{Int64,Int64}[], 0.0)"
      ]
     },
     "execution_count": 16,
     "metadata": {},
     "output_type": "execute_result"
    }
   ],
   "source": [
    "H = weighted_full_adjmat(lm)\n",
    "op_, w = optimal_cycle(H)"
   ]
  },
  {
   "cell_type": "markdown",
   "metadata": {},
   "source": [
    "Solution is already optimal. Print it and compare it with the one obtained by exhaustive enumeration"
   ]
  },
  {
   "cell_type": "code",
   "execution_count": 17,
   "metadata": {},
   "outputs": [
    {
     "data": {
      "text/plain": [
       "10×2 Array{Int64,2}:\n",
       " 0  0\n",
       " 1  1\n",
       " 1  1\n",
       " 0  0\n",
       " 1  1\n",
       " 0  0\n",
       " 1  1\n",
       " 1  1\n",
       " 1  1\n",
       " 1  1"
      ]
     },
     "execution_count": 17,
     "metadata": {},
     "output_type": "execute_result"
    }
   ],
   "source": [
    "x_cycles = lm.x\n",
    "\n",
    "lm2 = deepcopy(lm)\n",
    "solve!(lm2, ExhaustEnum())\n",
    "x_exact = lm2.x\n",
    "[x_cycles x_exact]"
   ]
  },
  {
   "cell_type": "markdown",
   "metadata": {},
   "source": [
    "Yes!"
   ]
  },
  {
   "cell_type": "markdown",
   "metadata": {},
   "source": [
    "# On a larger instance"
   ]
  },
  {
   "cell_type": "code",
   "execution_count": 28,
   "metadata": {},
   "outputs": [
    {
     "data": {
      "text/plain": [
       "one_loop_flip (generic function with 1 method)"
      ]
     },
     "execution_count": 28,
     "metadata": {},
     "output_type": "execute_result"
    }
   ],
   "source": [
    "function one_loop_flip(lm::LossyModel)\n",
    "    H = weighted_full_adjmat(lm)\n",
    "    op_, w = optimal_cycle(H)\n",
    "    op = variables_from_cycle(op_, lm.fg.m)\n",
    "    to_flip = unique!([tup[2] for tup in op])\n",
    "    lm.x[to_flip] .⊻= 1\n",
    "    return op, to_flip, w\n",
    "end"
   ]
  },
  {
   "cell_type": "code",
   "execution_count": 29,
   "metadata": {},
   "outputs": [
    {
     "data": {
      "text/plain": [
       "Lossy compression model:\n",
       " - Factor Graph with n=1000 variables and m=500 factors defined on GF(2)\n",
       " - Inverse temperatures β₁=Inf for checks and β₂=1.0 for overlap\n"
      ]
     },
     "execution_count": 29,
     "metadata": {},
     "output_type": "execute_result"
    }
   ],
   "source": [
    "n = 1000\n",
    "m = 500\n",
    "lm = LossyModel(2,n,m,randseed=randseed)\n",
    "lm_copy = deepcopy(lm)"
   ]
  },
  {
   "cell_type": "code",
   "execution_count": 30,
   "metadata": {
    "scrolled": true
   },
   "outputs": [
    {
     "name": "stdout",
     "output_type": "stream",
     "text": [
      "Finished\n"
     ]
    },
    {
     "data": {
      "text/plain": [
       "0.145"
      ]
     },
     "execution_count": 30,
     "metadata": {},
     "output_type": "execute_result"
    }
   ],
   "source": [
    "dist = Float64[]\n",
    "finished = false\n",
    "maxiter = 20\n",
    "cnt = 0\n",
    "weights_ = Float64[]\n",
    "flipped_history = Vector{Int}[]\n",
    "while !finished && cnt!=maxiter\n",
    "    op, to_flip, w = one_loop_flip(lm)\n",
    "    push!(flipped_history, to_flip)\n",
    "    push!(weights_, w)\n",
    "    push!(dist, distortion(lm))\n",
    "    finished = isempty(op)\n",
    "    cnt += 1\n",
    "end\n",
    "println(\"Finished\")\n",
    "dist_cycles = distortion(lm)"
   ]
  },
  {
   "cell_type": "code",
   "execution_count": 37,
   "metadata": {},
   "outputs": [],
   "source": [
    "# Store the history of which variables have been flipped and their corresponding energy contribution\n",
    "flipped_en = zeros(length(flipped_history))\n",
    "for i in eachindex(flipped_history)\n",
    "    # Convert indices of variables to flip -> 1 at positions where to flip\n",
    "#     flipped_int = zeros(Int, lm.fg.n)\n",
    "#     flipped_int[flipped_history[i]] .= 1\n",
    "#     flipped_en[i] = energy(lm, flipped_int)\n",
    "    flipped_en[i] = hd(ones(Int,length(flipped_history[i])), lm.y[flipped_history[i]])\n",
    "end"
   ]
  },
  {
   "cell_type": "markdown",
   "metadata": {},
   "source": [
    "At each step, print:\n",
    "- The distortion of the configuration after having flipped the cycle(s)\n",
    "- The weight of the optimal cycle \n",
    "- $\\Delta E$: The overlap energy computed only on the flipped variables"
   ]
  },
  {
   "cell_type": "code",
   "execution_count": 40,
   "metadata": {},
   "outputs": [
    {
     "data": {
      "text/plain": [
       "20×3 Array{Float64,2}:\n",
       " 0.189  -632.0          50.0\n",
       " 0.146   -86.0002       95.0\n",
       " 0.145    -2.00021      41.0\n",
       " 0.145    -0.000340581  51.0\n",
       " 0.145    -0.000202161  44.0\n",
       " 0.145    -0.000114045  32.0\n",
       " 0.145    -0.000199361  41.0\n",
       " 0.145    -0.000187138  34.0\n",
       " 0.145    -0.000175114  29.0\n",
       " 0.145    -0.000282518  28.0\n",
       " 0.145    -0.000221497  40.0\n",
       " 0.145    -0.000257651  27.0\n",
       " 0.145    -0.000335601  54.0\n",
       " 0.145    -0.000220778  24.0\n",
       " 0.145    -0.000114426  15.0\n",
       " 0.145    -0.000114112  35.0\n",
       " 0.145    -0.000265287  44.0\n",
       " 0.145    -0.000128789  48.0\n",
       " 0.145    -0.0001086    50.0\n",
       " 0.145    -0.000351227  40.0"
      ]
     },
     "execution_count": 40,
     "metadata": {},
     "output_type": "execute_result"
    }
   ],
   "source": [
    "[dist weights_ flipped_en]"
   ]
  },
  {
   "cell_type": "markdown",
   "metadata": {},
   "source": [
    "### Plot"
   ]
  },
  {
   "cell_type": "code",
   "execution_count": 34,
   "metadata": {},
   "outputs": [
    {
     "data": {
      "image/png": "[encoded data removed]",
      "text/plain": [
       "PyPlot.Figure(PyObject <Figure size 600x400 with 2 Axes>)"
      ]
     },
     "metadata": {},
     "output_type": "display_data"
    }
   ],
   "source": [
    "plot(abs.(weights_), ylabel=\"|Cycle weight|\", color=:red, label=\"Cycle weight\", legend=:topleft, yscale=:log10)\n",
    "right_axis = twinx()\n",
    "plot!(right_axis, dist, xlabel=\"Iter\", ylabel=\"Distortion\", color=:blue, label=\"Distortion\", legend=:topright)\n",
    "gui()"
   ]
  },
  {
   "cell_type": "markdown",
   "metadata": {},
   "source": [
    "Compare with MS"
   ]
  },
  {
   "cell_type": "code",
   "execution_count": 415,
   "metadata": {},
   "outputs": [
    {
     "data": {
      "text/plain": [
       "0.145"
      ]
     },
     "execution_count": 415,
     "metadata": {},
     "output_type": "execute_result"
    }
   ],
   "source": [
    "ms = MS(maxiter=200)\n",
    "res = solve!(lm_copy, ms)\n",
    "dist_ms = distortion(lm_copy)"
   ]
  }
 ],
 "metadata": {
  "kernelspec": {
   "display_name": "Julia 1.5.3",
   "language": "julia",
   "name": "julia-1.5"
  },
  "language_info": {
   "file_extension": ".jl",
   "mimetype": "application/julia",
   "name": "julia",
   "version": "1.5.3"
  }
 },
 "nbformat": 4,
 "nbformat_minor": 4
}
