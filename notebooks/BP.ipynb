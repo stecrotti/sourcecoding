{
 "cells": [
  {
   "cell_type": "markdown",
   "metadata": {},
   "source": [
    "# BP with decimation"
   ]
  },
  {
   "cell_type": "code",
   "execution_count": 1,
   "metadata": {},
   "outputs": [
    {
     "data": {
      "text/plain": [
       "findbasis_slow (generic function with 1 method)"
      ]
     },
     "execution_count": 1,
     "metadata": {},
     "output_type": "execute_result"
    }
   ],
   "source": [
    "using OffsetArrays, Statistics\n",
    "include(\"../code/bp.jl\")\n",
    "include(\"../code/slim_graphs.jl\")"
   ]
  },
  {
   "cell_type": "code",
   "execution_count": 2,
   "metadata": {},
   "outputs": [
    {
     "data": {
      "text/plain": [
       "(Bool[0 0 … 0 0; 0 0 … 0 0; … ; 0 0 … 1 0; 0 0 … 0 1], [491, 1019, 1037, 1061, 1098, 1108, 1113, 1114, 1128, 1130  …  1791, 1792, 1793, 1794, 1795, 1796, 1797, 1798, 1799, 1800])"
      ]
     },
     "execution_count": 2,
     "metadata": {},
     "output_type": "execute_result"
    }
   ],
   "source": [
    "m = factorial(5)*11\n",
    "R = 0.8/3\n",
    "r = 1 - 3R\n",
    "n = round(Int, 3m/(2+r))\n",
    "Λ = OffsetVector([0,0,1-r,r], 0:3)\n",
    "K = OffsetVector([0,0,0,1], 0:3)\n",
    "nedges = 3m\n",
    "H = 0.63\n",
    "s = rand((-1,1), n)\n",
    "efield = tanh.(H*copy(s))\n",
    "bp = belief_propagation(n, m, nedges, Λ, K, efield)\n",
    "B, freevars = findbasis_slow(permutedims(Array(bp.H)))"
   ]
  },
  {
   "cell_type": "code",
   "execution_count": 146,
   "metadata": {},
   "outputs": [],
   "source": [
    "efield[freevars] .= s[freevars]\n",
    "bp.efield .= efield;"
   ]
  },
  {
   "cell_type": "code",
   "execution_count": 149,
   "metadata": {},
   "outputs": [
    {
     "data": {
      "text/plain": [
       "(0.36533460388461636, 10000)"
      ]
     },
     "execution_count": 149,
     "metadata": {},
     "output_type": "execute_result"
    }
   ],
   "source": [
    "iteration!(bp; maxiter=10^4, tol=1e-10, damp=0.5, update! = update_factor_ms!) "
   ]
  },
  {
   "cell_type": "code",
   "execution_count": 118,
   "metadata": {},
   "outputs": [
    {
     "data": {
      "text/plain": [
       "true"
      ]
     },
     "execution_count": 118,
     "metadata": {},
     "output_type": "execute_result"
    }
   ],
   "source": [
    "all(abs.(bp.efield).==1)"
   ]
  },
  {
   "cell_type": "code",
   "execution_count": 119,
   "metadata": {},
   "outputs": [
    {
     "data": {
      "text/plain": [
       "(0, 0.33444444444444443, 0.3327777777777778)"
      ]
     },
     "execution_count": 119,
     "metadata": {},
     "output_type": "execute_result"
    }
   ],
   "source": [
    "performance(bp,s)"
   ]
  },
  {
   "cell_type": "code",
   "execution_count": 124,
   "metadata": {
    "scrolled": true
   },
   "outputs": [
    {
     "name": "stdout",
     "output_type": "stream",
     "text": [
      "Trial 1 of 1:  Step    0. Free = 480. ε = 9.05E-05. Unsat = 241. Ovl = 0.756. Iters 51\n",
      " Step    1. Free = 479. ε = 7.87E-05. Unsat = 241. Ovl = 0.756. Iters 15\n",
      " Step    2. Free = 478. ε = 8.32E-05. Unsat = 241. Ovl = 0.756. Iters 16\n",
      " Step    3. Free = 477. ε = 7.08E-05. Unsat = 241. Ovl = 0.756. Iters 18\n",
      " Step    4. Free = 476. ε = 5.14E-05. Unsat = 241. Ovl = 0.756. Iters 27\n",
      " Step    5. Free = 475. ε = 7.58E-05. Unsat = 241. Ovl = 0.756. Iters 18\n",
      " Step    6. Free = 474. ε = 7.49E-05. Unsat = 241. Ovl = 0.756. Iters 20\n",
      " Step    7. Free = 473. ε = 6.84E-05. Unsat = 241. Ovl = 0.756. Iters 21\n",
      " Step    8. Free = 472. ε = 6.96E-05. Unsat = 241. Ovl = 0.756. Iters 41\n",
      " Step    9. Free = 471. ε = 7.96E-05. Unsat = 241. Ovl = 0.756. Iters 21\n",
      " Step   10. Free = 470. ε = 8.88E-05. Unsat = 239. Ovl = 0.754. Iters 21\n",
      " Step   11. Free = 469. ε = 6.88E-05. Unsat = 239. Ovl = 0.754. Iters 46\n",
      " Step   12. Free = 468. ε = 9.35E-05. Unsat = 239. Ovl = 0.754. Iters 19\n",
      " Step   13. Free = 467. ε = 6.68E-05. Unsat = 239. Ovl = 0.754. Iters 67\n",
      " Step   14. Free = 466. ε = 9.01E-05. Unsat = 239. Ovl = 0.754. Iters 18\n",
      " Step   15. Free = 465. ε = 9.01E-05. Unsat = 239. Ovl = 0.754. Iters 22\n",
      " Step   16. Free = 464. ε = 6.43E-05. Unsat = 239. Ovl = 0.754. Iters 45\n",
      " Step   17. Free = 463. ε = 8.76E-05. Unsat = 239. Ovl = 0.754. Iters 25\n",
      " Step   18. Free = 462. ε = 7.60E-05. Unsat = 239. Ovl = 0.754. Iters 23\n",
      " Step   19. Free = 461. ε = 6.25E-05. Unsat = 239. Ovl = 0.754. Iters 66\n",
      " Step   20. Free = 460. ε = 7.37E-05. Unsat = 239. Ovl = 0.754. Iters 21\n",
      " Step   21. Free = 459. ε = 5.32E-05. Unsat = 239. Ovl = 0.754. Iters 39\n",
      " Step   22. Free = 458. ε = 9.83E-05. Unsat = 239. Ovl = 0.754. Iters 20\n",
      " Step   23. Free = 457. ε = 9.94E-05. Unsat = 239. Ovl = 0.754. Iters 40\n",
      " Step   24. Free = 456. ε = 8.65E-05. Unsat = 236. Ovl = 0.752. Iters 22\n",
      " Step   25. Free = 455. ε = 9.07E-05. Unsat = 236. Ovl = 0.752. Iters 24\n",
      " Step   26. Free = 454. ε = 5.33E-05. Unsat = 236. Ovl = 0.752. Iters 43\n",
      " Step   27. Free = 453. ε = 6.82E-05. Unsat = 236. Ovl = 0.752. Iters 25\n",
      " Step   28. Free = 452. ε = 7.83E-05. Unsat = 236. Ovl = 0.753. Iters 33\n",
      " Step   29. Free = 451. ε = 6.35E-05. Unsat = 236. Ovl = 0.753. Iters 34\n",
      " Step   30. Free = 450. ε = 9.57E-05. Unsat = 236. Ovl = 0.753. Iters 26\n",
      " Step   31. Free = 449. ε = 8.86E-05. Unsat = 235. Ovl = 0.752. Iters 23\n",
      " Step   32. Free = 448. ε = 7.06E-05. Unsat = 237. Ovl = 0.753. Iters 39\n",
      " Step   33. Free = 447. ε = 7.00E-05. Unsat = 238. Ovl = 0.754. Iters 25\n",
      " Step   34. Free = 446. ε = 8.93E-05. Unsat = 238. Ovl = 0.753. Iters 37\n",
      " Step   35. Free = 445. ε = 8.06E-05. Unsat = 238. Ovl = 0.754. Iters 25\n",
      " Step   36. Free = 444. ε = 8.79E-05. Unsat = 238. Ovl = 0.754. Iters 40\n",
      " Step   37. Free = 443. ε = 9.14E-05. Unsat = 238. Ovl = 0.753. Iters 29\n",
      " Step   38. Free = 442. ε = 5.04E-05. Unsat = 238. Ovl = 0.753. Iters 32\n",
      " Step   39. Free = 441. ε = 7.74E-05. Unsat = 239. Ovl = 0.752. Iters 27\n",
      " Step   40. Free = 440. ε = 5.30E-05. Unsat = 239. Ovl = 0.752. Iters 37\n",
      " Step   41. Free = 439. ε = 9.98E-05. Unsat = 237. Ovl = 0.751. Iters 24\n",
      " Step   42. Free = 438. ε = 8.00E-05. Unsat = 237. Ovl = 0.751. Iters 24\n",
      " Step   43. Free = 437. ε = 9.10E-05. Unsat = 239. Ovl = 0.752. Iters 26\n",
      " Step   44. Free = 436. ε = 6.74E-05. Unsat = 239. Ovl = 0.752. Iters 63\n",
      " Step   45. Free = 435. ε = 9.44E-05. Unsat = 239. Ovl = 0.752. Iters 22\n",
      " Step   46. Free = 434. ε = 8.58E-05. Unsat = 237. Ovl = 0.751. Iters 28\n",
      " Step   47. Free = 433. ε = 9.91E-05. Unsat = 237. Ovl = 0.751. Iters 16\n",
      " Step   48. Free = 432. ε = 9.01E-05. Unsat = 237. Ovl = 0.751. Iters 62\n",
      " Step   49. Free = 431. ε = 7.77E-05. Unsat = 235. Ovl = 0.751. Iters 25\n",
      " Step   50. Free = 430. ε = 7.88E-05. Unsat = 235. Ovl = 0.751. Iters 24\n",
      " Step   51. Free = 429. ε = 8.53E-05. Unsat = 235. Ovl = 0.751. Iters 64\n",
      " Step   52. Free = 428. ε = 8.49E-05. Unsat = 234. Ovl = 0.749. Iters 30\n",
      " Step   53. Free = 427. ε = 8.45E-05. Unsat = 234. Ovl = 0.749. Iters 28\n",
      " Step   54. Free = 426. ε = 9.92E-05. Unsat = 230. Ovl = 0.749. Iters 28\n",
      " Step   55. Free = 425. ε = 7.05E-05. Unsat = 230. Ovl = 0.749. Iters 31\n",
      " Step   56. Free = 424. ε = 9.83E-05. Unsat = 230. Ovl = 0.749. Iters 37\n",
      " Step   57. Free = 423. ε = 8.83E-05. Unsat = 231. Ovl = 0.748. Iters 28\n",
      " Step   58. Free = 422. ε = 5.30E-05. Unsat = 231. Ovl = 0.748. Iters 38\n",
      " Step   59. Free = 421. ε = 9.03E-05. Unsat = 232. Ovl = 0.750. Iters 25\n",
      " Step   60. Free = 420. ε = 7.62E-05. Unsat = 230. Ovl = 0.749. Iters 33\n",
      " Step   61. Free = 419. ε = 5.70E-05. Unsat = 230. Ovl = 0.748. Iters 31\n",
      " Step   62. Free = 418. ε = 8.07E-05. Unsat = 230. Ovl = 0.748. Iters 29\n",
      " Step   63. Free = 417. ε = 7.76E-05. Unsat = 230. Ovl = 0.748. Iters 22\n",
      " Step   64. Free = 416. ε = 8.86E-05. Unsat = 232. Ovl = 0.749. Iters 26\n",
      " Step   65. Free = 415. ε = 6.89E-05. Unsat = 231. Ovl = 0.748. Iters 32\n",
      " Step   66. Free = 414. ε = 9.33E-05. Unsat = 232. Ovl = 0.749. Iters 31\n",
      " Step   67. Free = 413. ε = 7.86E-05. Unsat = 230. Ovl = 0.747. Iters 30\n",
      " Step   68. Free = 412. ε = 8.81E-05. Unsat = 230. Ovl = 0.747. Iters 29\n",
      " Step   69. Free = 411. ε = 8.89E-05. Unsat = 230. Ovl = 0.747. Iters 24\n",
      " Step   70. Free = 410. ε = 9.39E-05. Unsat = 230. Ovl = 0.747. Iters 26\n",
      " Step   71. Free = 409. ε = 8.03E-05. Unsat = 229. Ovl = 0.746. Iters 67\n",
      " Step   72. Free = 408. ε = 9.39E-05. Unsat = 228. Ovl = 0.744. Iters 29\n",
      " Step   73. Free = 407. ε = 8.57E-05. Unsat = 228. Ovl = 0.744. Iters 26\n",
      " Step   74. Free = 406. ε = 6.87E-05. Unsat = 226. Ovl = 0.743. Iters 64\n",
      " Step   75. Free = 405. ε = 9.54E-05. Unsat = 224. Ovl = 0.742. Iters 28\n",
      " Step   76. Free = 404. ε = 8.28E-05. Unsat = 222. Ovl = 0.741. Iters 35\n",
      " Step   77. Free = 403. ε = 8.21E-05. Unsat = 223. Ovl = 0.743. Iters 30\n",
      " Step   78. Free = 402. ε = 8.14E-05. Unsat = 223. Ovl = 0.743. Iters 32\n",
      " Step   79. Free = 401. ε = 7.02E-05. Unsat = 224. Ovl = 0.742. Iters 32\n",
      " Step   80. Free = 400. ε = 9.33E-05. Unsat = 225. Ovl = 0.742. Iters 34\n",
      " Step   81. Free = 399. ε = 9.18E-05. Unsat = 223. Ovl = 0.742. Iters 33\n",
      " Step   82. Free = 398. ε = 6.79E-05. Unsat = 225. Ovl = 0.743. Iters 30\n",
      " Step   83. Free = 397. ε = 5.02E-05. Unsat = 226. Ovl = 0.743. Iters 36\n",
      " Step   84. Free = 396. ε = 5.18E-05. Unsat = 224. Ovl = 0.742. Iters 36\n",
      " Step   85. Free = 395. ε = 9.32E-05. Unsat = 223. Ovl = 0.741. Iters 31\n",
      " Step   86. Free = 394. ε = 6.08E-05. Unsat = 225. Ovl = 0.742. Iters 30\n",
      " Step   87. Free = 393. ε = 8.49E-05. Unsat = 225. Ovl = 0.741. Iters 25\n",
      " Step   88. Free = 392. ε = 7.46E-05. Unsat = 225. Ovl = 0.741. Iters 16\n",
      " Step   89. Free = 391. ε = 7.40E-05. Unsat = 225. Ovl = 0.741. Iters 68\n",
      " Step   90. Free = 390. ε = 7.89E-05. Unsat = 225. Ovl = 0.739. Iters 29\n",
      " Step   91. Free = 389. ε = 9.18E-05. Unsat = 227. Ovl = 0.741. Iters 35\n",
      " Step   92. Free = 388. ε = 9.60E-05. Unsat = 222. Ovl = 0.738. Iters 31\n",
      " Step   93. Free = 387. ε = 7.50E-05. Unsat = 220. Ovl = 0.738. Iters 30\n",
      " Step   94. Free = 386. ε = 5.99E-05. Unsat = 219. Ovl = 0.737. Iters 34\n",
      " Step   95. Free = 385. ε = 8.42E-05. Unsat = 221. Ovl = 0.738. Iters 28\n",
      " Step   96. Free = 384. ε = 9.84E-05. Unsat = 217. Ovl = 0.737. Iters 29\n",
      " Step   97. Free = 383. ε = 7.84E-05. Unsat = 217. Ovl = 0.737. Iters 24\n",
      " Step   98. Free = 382. ε = 9.14E-05. Unsat = 220. Ovl = 0.737. Iters 41\n",
      " Step   99. Free = 381. ε = 8.50E-05. Unsat = 223. Ovl = 0.737. Iters 29\n",
      " Step  100. Free = 380. ε = 7.04E-05. Unsat = 223. Ovl = 0.737. Iters 22\n",
      " Step  101. Free = 379. ε = 7.01E-05. Unsat = 223. Ovl = 0.737. Iters 38\n",
      " Step  102. Free = 378. ε = 7.01E-05. Unsat = 224. Ovl = 0.737. Iters 29\n",
      " Step  103. Free = 377. ε = 9.22E-05. Unsat = 221. Ovl = 0.737. Iters 31\n",
      " Step  104. Free = 376. ε = 9.98E-05. Unsat = 221. Ovl = 0.737. Iters 29\n",
      " Step  105. Free = 375. ε = 9.20E-05. Unsat = 219. Ovl = 0.734. Iters 40\n",
      " Step  106. Free = 374. ε = 9.60E-05. Unsat = 219. Ovl = 0.734. Iters 36\n",
      " Step  107. Free = 373. ε = 9.51E-05. Unsat = 216. Ovl = 0.736. Iters 34\n",
      " Step  108. Free = 372. ε = 9.60E-05. Unsat = 216. Ovl = 0.736. Iters 28\n",
      " Step  109. Free = 371. ε = 5.58E-05. Unsat = 212. Ovl = 0.733. Iters 64\n",
      " Step  110. Free = 370. ε = 9.35E-05. Unsat = 210. Ovl = 0.732. Iters 35\n",
      " Step  111. Free = 369. ε = 9.47E-05. Unsat = 207. Ovl = 0.730. Iters 36\n",
      " Step  112. Free = 368. ε = 6.47E-05. Unsat = 207. Ovl = 0.730. Iters 38\n",
      " Step  113. Free = 367. ε = 7.38E-05. Unsat = 207. Ovl = 0.730. Iters 27\n",
      " Step  114. Free = 366. ε = 7.91E-05. Unsat = 202. Ovl = 0.728. Iters 37\n",
      " Step  115. Free = 365. ε = 8.01E-05. Unsat = 200. Ovl = 0.727. Iters 30\n",
      " Step  116. Free = 364. ε = 6.21E-05. Unsat = 200. Ovl = 0.728. Iters 42\n"
     ]
    },
    {
     "name": "stdout",
     "output_type": "stream",
     "text": [
      " Step  117. Free = 363. ε = 6.79E-05. Unsat = 205. Ovl = 0.730. Iters 31\n",
      " Step  118. Free = 362. ε = 5.43E-05. Unsat = 201. Ovl = 0.727. Iters 37\n",
      " Step  119. Free = 361. ε = 9.18E-05. Unsat = 199. Ovl = 0.726. Iters 37\n",
      " Step  120. Free = 360. ε = 9.75E-05. Unsat = 194. Ovl = 0.723. Iters 32\n",
      " Step  121. Free = 359. ε = 5.69E-05. Unsat = 194. Ovl = 0.723. Iters 36\n",
      " Step  122. Free = 358. ε = 7.10E-05. Unsat = 194. Ovl = 0.723. Iters 31\n",
      " Step  123. Free = 357. ε = 8.12E-05. Unsat = 194. Ovl = 0.723. Iters 30\n",
      " Step  124. Free = 356. ε = 5.98E-05. Unsat = 200. Ovl = 0.726. Iters 64\n",
      " Step  125. Free = 355. ε = 6.99E-05. Unsat = 200. Ovl = 0.726. Iters 23\n",
      " Step  126. Free = 354. ε = 6.83E-05. Unsat = 198. Ovl = 0.724. Iters 43\n",
      " Step  127. Free = 353. ε = 6.29E-05. Unsat = 198. Ovl = 0.724. Iters 18\n",
      " Step  128. Free = 352. ε = 5.02E-05. Unsat = 197. Ovl = 0.726. Iters 70\n",
      " Step  129. Free = 351. ε = 8.67E-05. Unsat = 197. Ovl = 0.726. Iters 33\n",
      " Step  130. Free = 350. ε = 6.15E-05. Unsat = 191. Ovl = 0.722. Iters 42\n",
      " Step  131. Free = 349. ε = 9.80E-05. Unsat = 191. Ovl = 0.722. Iters 37\n",
      " Step  132. Free = 348. ε = 8.87E-05. Unsat = 194. Ovl = 0.722. Iters 33\n",
      " Step  133. Free = 347. ε = 9.83E-05. Unsat = 196. Ovl = 0.724. Iters 34\n",
      " Step  134. Free = 346. ε = 8.76E-05. Unsat = 196. Ovl = 0.724. Iters 35\n",
      " Step  135. Free = 345. ε = 9.92E-05. Unsat = 196. Ovl = 0.724. Iters 33\n",
      " Step  136. Free = 344. ε = 8.99E-05. Unsat = 196. Ovl = 0.723. Iters 36\n",
      " Step  137. Free = 343. ε = 7.92E-05. Unsat = 196. Ovl = 0.722. Iters 49\n",
      " Step  138. Free = 342. ε = 8.51E-05. Unsat = 196. Ovl = 0.722. Iters 26\n",
      " Step  139. Free = 341. ε = 8.99E-05. Unsat = 196. Ovl = 0.722. Iters 37\n",
      " Step  140. Free = 340. ε = 9.61E-05. Unsat = 196. Ovl = 0.722. Iters 34\n",
      " Step  141. Free = 339. ε = 7.74E-05. Unsat = 196. Ovl = 0.722. Iters 39\n",
      " Step  142. Free = 338. ε = 8.76E-05. Unsat = 196. Ovl = 0.722. Iters 31\n",
      " Step  143. Free = 337. ε = 5.97E-05. Unsat = 198. Ovl = 0.723. Iters 35\n",
      " Step  144. Free = 336. ε = 6.73E-05. Unsat = 198. Ovl = 0.723. Iters 35\n",
      " Step  145. Free = 335. ε = 9.63E-05. Unsat = 196. Ovl = 0.722. Iters 39\n",
      " Step  146. Free = 334. ε = 8.55E-05. Unsat = 196. Ovl = 0.722. Iters 19\n",
      " Step  147. Free = 333. ε = 5.87E-05. Unsat = 199. Ovl = 0.723. Iters 63\n",
      " Step  148. Free = 332. ε = 7.46E-05. Unsat = 199. Ovl = 0.723. Iters 35\n",
      " Step  149. Free = 331. ε = 8.90E-05. Unsat = 199. Ovl = 0.723. Iters 35\n",
      " Step  150. Free = 330. ε = 7.13E-05. Unsat = 199. Ovl = 0.723. Iters 37\n",
      " Step  151. Free = 329. ε = 9.38E-05. Unsat = 201. Ovl = 0.724. Iters 37\n",
      " Step  152. Free = 328. ε = 9.36E-05. Unsat = 203. Ovl = 0.724. Iters 63\n",
      " Step  153. Free = 327. ε = 8.37E-05. Unsat = 203. Ovl = 0.723. Iters 35\n",
      " Step  154. Free = 326. ε = 9.38E-05. Unsat = 203. Ovl = 0.722. Iters 34\n",
      " Step  155. Free = 325. ε = 6.65E-05. Unsat = 202. Ovl = 0.721. Iters 68\n",
      " Step  156. Free = 324. ε = 6.42E-05. Unsat = 202. Ovl = 0.721. Iters 38\n",
      " Step  157. Free = 323. ε = 7.56E-05. Unsat = 200. Ovl = 0.720. Iters 39\n",
      " Step  158. Free = 322. ε = 9.03E-05. Unsat = 200. Ovl = 0.720. Iters 38\n",
      " Step  159. Free = 321. ε = 9.65E-05. Unsat = 198. Ovl = 0.719. Iters 31\n",
      " Step  160. Free = 320. ε = 8.47E-05. Unsat = 198. Ovl = 0.719. Iters 28\n",
      " Step  161. Free = 319. ε = 8.12E-05. Unsat = 199. Ovl = 0.719. Iters 32\n",
      " Step  162. Free = 318. ε = 6.35E-05. Unsat = 197. Ovl = 0.718. Iters 36\n",
      " Step  163. Free = 317. ε = 9.54E-05. Unsat = 196. Ovl = 0.717. Iters 29\n",
      " Step  164. Free = 316. ε = 9.63E-05. Unsat = 196. Ovl = 0.717. Iters 32\n",
      " Step  165. Free = 315. ε = 9.17E-05. Unsat = 196. Ovl = 0.717. Iters 32\n",
      " Step  166. Free = 314. ε = 6.62E-05. Unsat = 198. Ovl = 0.718. Iters 41\n",
      " Step  167. Free = 313. ε = 9.57E-05. Unsat = 198. Ovl = 0.718. Iters 36\n",
      " Step  168. Free = 312. ε = 7.70E-05. Unsat = 198. Ovl = 0.718. Iters 21\n",
      " Step  169. Free = 311. ε = 6.96E-05. Unsat = 198. Ovl = 0.718. Iters 65\n",
      " Step  170. Free = 310. ε = 8.59E-05. Unsat = 198. Ovl = 0.718. Iters 30\n",
      " Step  171. Free = 309. ε = 9.51E-05. Unsat = 187. Ovl = 0.710. Iters 33\n",
      " Step  172. Free = 308. ε = 7.28E-05. Unsat = 187. Ovl = 0.710. Iters 35\n",
      " Step  173. Free = 307. ε = 5.17E-05. Unsat = 188. Ovl = 0.711. Iters 72\n",
      " Step  174. Free = 306. ε = 8.66E-05. Unsat = 192. Ovl = 0.714. Iters 40\n",
      " Step  175. Free = 305. ε = 8.33E-05. Unsat = 189. Ovl = 0.713. Iters 34\n",
      " Step  176. Free = 304. ε = 8.01E-05. Unsat = 185. Ovl = 0.710. Iters 36\n",
      " Step  177. Free = 303. ε = 7.14E-05. Unsat = 184. Ovl = 0.709. Iters 37\n",
      " Step  178. Free = 302. ε = 9.29E-05. Unsat = 178. Ovl = 0.706. Iters 39\n",
      " Step  179. Free = 301. ε = 8.46E-05. Unsat = 176. Ovl = 0.704. Iters 37\n",
      " Step  180. Free = 300. ε = 8.36E-05. Unsat = 176. Ovl = 0.704. Iters 39\n",
      " Step  181. Free = 299. ε = 9.07E-05. Unsat = 176. Ovl = 0.703. Iters 34\n",
      " Step  182. Free = 298. ε = 9.95E-05. Unsat = 178. Ovl = 0.706. Iters 35\n",
      " Step  183. Free = 297. ε = 9.93E-05. Unsat = 180. Ovl = 0.707. Iters 34\n",
      " Step  184. Free = 296. ε = 6.91E-05. Unsat = 178. Ovl = 0.706. Iters 37\n",
      " Step  185. Free = 295. ε = 9.72E-05. Unsat = 174. Ovl = 0.703. Iters 40\n",
      " Step  186. Free = 294. ε = 9.40E-05. Unsat = 174. Ovl = 0.703. Iters 32\n",
      " Step  187. Free = 293. ε = 7.72E-05. Unsat = 178. Ovl = 0.704. Iters 40\n",
      " Step  188. Free = 292. ε = 7.35E-05. Unsat = 178. Ovl = 0.704. Iters 24\n",
      " Step  189. Free = 291. ε = 5.03E-05. Unsat = 173. Ovl = 0.701. Iters 47\n",
      " Step  190. Free = 290. ε = 8.56E-05. Unsat = 173. Ovl = 0.701. Iters 35\n",
      " Step  191. Free = 289. ε = 9.82E-05. Unsat = 173. Ovl = 0.701. Iters 38\n",
      " Step  192. Free = 288. ε = 6.45E-05. Unsat = 175. Ovl = 0.702. Iters 38\n",
      " Step  193. Free = 287. ε = 9.01E-05. Unsat = 173. Ovl = 0.702. Iters 38\n",
      " Step  194. Free = 286. ε = 8.12E-05. Unsat = 170. Ovl = 0.700. Iters 37\n",
      " Step  195. Free = 285. ε = 8.47E-05. Unsat = 173. Ovl = 0.701. Iters 38\n",
      " Step  196. Free = 284. ε = 7.35E-05. Unsat = 168. Ovl = 0.701. Iters 35\n",
      " Step  197. Free = 283. ε = 9.68E-05. Unsat = 171. Ovl = 0.703. Iters 39\n",
      " Step  198. Free = 282. ε = 9.05E-05. Unsat = 171. Ovl = 0.702. Iters 31\n",
      " Step  199. Free = 281. ε = 9.10E-05. Unsat = 169. Ovl = 0.700. Iters 40\n",
      " Step  200. Free = 280. ε = 8.13E-05. Unsat = 169. Ovl = 0.700. Iters 37\n",
      " Step  201. Free = 279. ε = 8.92E-05. Unsat = 166. Ovl = 0.699. Iters 40\n",
      " Step  202. Free = 278. ε = 9.20E-05. Unsat = 166. Ovl = 0.699. Iters 36\n",
      " Step  203. Free = 277. ε = 9.20E-05. Unsat = 166. Ovl = 0.699. Iters 30\n",
      " Step  204. Free = 276. ε = 8.01E-05. Unsat = 165. Ovl = 0.696. Iters 42\n",
      " Step  205. Free = 275. ε = 5.42E-05. Unsat = 160. Ovl = 0.693. Iters 68\n",
      " Step  206. Free = 274. ε = 9.87E-05. Unsat = 161. Ovl = 0.693. Iters 41\n",
      " Step  207. Free = 273. ε = 9.01E-05. Unsat = 160. Ovl = 0.692. Iters 47\n",
      " Step  208. Free = 272. ε = 9.80E-05. Unsat = 160. Ovl = 0.692. Iters 37\n",
      " Step  209. Free = 271. ε = 9.49E-05. Unsat = 160. Ovl = 0.692. Iters 39\n",
      " Step  210. Free = 270. ε = 7.51E-05. Unsat = 160. Ovl = 0.693. Iters 38\n",
      " Step  211. Free = 269. ε = 8.64E-05. Unsat = 160. Ovl = 0.693. Iters 35\n",
      " Step  212. Free = 268. ε = 6.38E-05. Unsat = 157. Ovl = 0.690. Iters 69\n",
      " Step  213. Free = 267. ε = 9.05E-05. Unsat = 157. Ovl = 0.690. Iters 34\n",
      " Step  214. Free = 266. ε = 9.54E-05. Unsat = 159. Ovl = 0.690. Iters 47\n",
      " Step  215. Free = 265. ε = 9.90E-05. Unsat = 158. Ovl = 0.689. Iters 35\n",
      " Step  216. Free = 264. ε = 5.71E-05. Unsat = 161. Ovl = 0.690. Iters 67\n",
      " Step  217. Free = 263. ε = 9.07E-05. Unsat = 161. Ovl = 0.690. Iters 37\n",
      " Step  218. Free = 262. ε = 6.04E-05. Unsat = 161. Ovl = 0.689. Iters 61\n",
      " Step  219. Free = 261. ε = 8.74E-05. Unsat = 154. Ovl = 0.684. Iters 49\n",
      " Step  220. Free = 260. ε = 8.60E-05. Unsat = 154. Ovl = 0.684. Iters 19\n",
      " Step  221. Free = 259. ε = 6.00E-05. Unsat = 154. Ovl = 0.684. Iters 67\n",
      " Step  222. Free = 258. ε = 9.43E-05. Unsat = 151. Ovl = 0.683. Iters 62\n",
      " Step  223. Free = 257. ε = 5.45E-05. Unsat = 151. Ovl = 0.683. Iters 65\n",
      " Step  224. Free = 256. ε = 9.28E-05. Unsat = 151. Ovl = 0.683. Iters 32\n",
      " Step  225. Free = 255. ε = 6.69E-05. Unsat = 151. Ovl = 0.682. Iters 42\n",
      " Step  226. Free = 254. ε = 9.55E-05. Unsat = 144. Ovl = 0.679. Iters 41\n",
      " Step  227. Free = 253. ε = 9.78E-05. Unsat = 144. Ovl = 0.680. Iters 34\n",
      " Step  228. Free = 252. ε = 8.29E-05. Unsat = 149. Ovl = 0.682. Iters 68\n",
      " Step  229. Free = 251. ε = 7.28E-05. Unsat = 144. Ovl = 0.678. Iters 65\n",
      " Step  230. Free = 250. ε = 5.99E-05. Unsat = 146. Ovl = 0.679. Iters 73\n",
      " Step  231. Free = 249. ε = 7.02E-05. Unsat = 143. Ovl = 0.677. Iters 65\n",
      " Step  232. Free = 248. ε = 8.01E-05. Unsat = 141. Ovl = 0.674. Iters 39\n",
      " Step  233. Free = 247. ε = 9.17E-05. Unsat = 141. Ovl = 0.673. Iters 35\n",
      " Step  234. Free = 246. ε = 9.82E-05. Unsat = 143. Ovl = 0.674. Iters 38\n",
      " Step  235. Free = 245. ε = 7.50E-05. Unsat = 141. Ovl = 0.672. Iters 40\n",
      " Step  236. Free = 244. ε = 9.81E-05. Unsat = 142. Ovl = 0.673. Iters 44\n"
     ]
    },
    {
     "name": "stdout",
     "output_type": "stream",
     "text": [
      " Step  237. Free = 243. ε = 9.30E-05. Unsat = 146. Ovl = 0.678. Iters 38\n",
      " Step  238. Free = 242. ε = 6.96E-05. Unsat = 142. Ovl = 0.676. Iters 40\n",
      " Step  239. Free = 241. ε = 6.11E-05. Unsat = 136. Ovl = 0.671. Iters 65\n",
      " Step  240. Free = 240. ε = 8.13E-05. Unsat = 141. Ovl = 0.674. Iters 43\n",
      " Step  241. Free = 239. ε = 7.03E-05. Unsat = 136. Ovl = 0.672. Iters 72\n",
      " Step  242. Free = 238. ε = 6.81E-05. Unsat = 138. Ovl = 0.673. Iters 65\n",
      " Step  243. Free = 237. ε = 9.92E-05. Unsat = 137. Ovl = 0.672. Iters 41\n",
      " Step  244. Free = 236. ε = 9.41E-05. Unsat = 139. Ovl = 0.673. Iters 62\n",
      " Step  245. Free = 235. ε = 5.72E-05. Unsat = 140. Ovl = 0.673. Iters 64\n",
      " Step  246. Free = 234. ε = 8.05E-05. Unsat = 139. Ovl = 0.673. Iters 48\n",
      " Step  247. Free = 233. ε = 5.89E-05. Unsat = 141. Ovl = 0.676. Iters 67\n",
      " Step  248. Free = 232. ε = 7.17E-05. Unsat = 143. Ovl = 0.677. Iters 44\n",
      " Step  249. Free = 231. ε = 7.91E-05. Unsat = 143. Ovl = 0.677. Iters 64\n",
      " Step  250. Free = 230. ε = 5.04E-05. Unsat = 143. Ovl = 0.677. Iters 76\n",
      " Step  251. Free = 229. ε = 6.77E-05. Unsat = 142. Ovl = 0.676. Iters 70\n",
      " Step  252. Free = 228. ε = 8.11E-05. Unsat = 140. Ovl = 0.674. Iters 35\n",
      " Step  253. Free = 227. ε = 7.96E-05. Unsat = 140. Ovl = 0.673. Iters 49\n",
      " Step  254. Free = 226. ε = 9.10E-05. Unsat = 140. Ovl = 0.673. Iters 72\n",
      " Step  255. Free = 225. ε = 5.33E-05. Unsat = 139. Ovl = 0.671. Iters 66\n",
      " Step  256. Free = 224. ε = 6.85E-05. Unsat = 139. Ovl = 0.671. Iters 17\n",
      " Step  257. Free = 223. ε = 6.40E-05. Unsat = 141. Ovl = 0.672. Iters 74\n",
      " Step  258. Free = 222. ε = 9.14E-05. Unsat = 138. Ovl = 0.671. Iters 72\n",
      " Step  259. Free = 221. ε = 5.10E-05. Unsat = 136. Ovl = 0.669. Iters 64\n",
      " Step  260. Free = 220. ε = 6.98E-05. Unsat = 135. Ovl = 0.669. Iters 66\n",
      " Step  261. Free = 219. ε = 9.01E-05. Unsat = 132. Ovl = 0.666. Iters 69\n",
      " Step  262. Free = 218. ε = 8.69E-05. Unsat = 129. Ovl = 0.664. Iters 30\n",
      " Step  263. Free = 217. ε = 6.45E-05. Unsat = 131. Ovl = 0.662. Iters 69\n",
      " Step  264. Free = 216. ε = 8.26E-05. Unsat = 131. Ovl = 0.662. Iters 37\n",
      " Step  265. Free = 215. ε = 8.79E-05. Unsat = 127. Ovl = 0.659. Iters 48\n",
      " Step  266. Free = 214. ε = 6.58E-05. Unsat = 133. Ovl = 0.661. Iters 68\n",
      " Step  267. Free = 213. ε = 5.71E-05. Unsat = 135. Ovl = 0.662. Iters 77\n",
      " Step  268. Free = 212. ε = 6.59E-05. Unsat = 134. Ovl = 0.661. Iters 68\n",
      " Step  269. Free = 211. ε = 5.10E-05. Unsat = 134. Ovl = 0.661. Iters 81\n",
      " Step  270. Free = 210. ε = 5.56E-05. Unsat = 130. Ovl = 0.659. Iters 73\n",
      " Step  271. Free = 209. ε = 8.73E-05. Unsat = 129. Ovl = 0.660. Iters 49\n",
      " Step  272. Free = 208. ε = 7.90E-05. Unsat = 132. Ovl = 0.661. Iters 55\n",
      " Step  273. Free = 207. ε = 6.58E-05. Unsat = 132. Ovl = 0.661. Iters 74\n",
      " Step  274. Free = 206. ε = 8.46E-05. Unsat = 132. Ovl = 0.661. Iters 31\n",
      " Step  275. Free = 205. ε = 5.62E-05. Unsat = 123. Ovl = 0.657. Iters 70\n",
      " Step  276. Free = 204. ε = 8.15E-05. Unsat = 125. Ovl = 0.658. Iters 64\n",
      " Step  277. Free = 203. ε = 8.89E-05. Unsat = 125. Ovl = 0.656. Iters 60\n",
      " Step  278. Free = 202. ε = 6.80E-05. Unsat = 123. Ovl = 0.656. Iters 54\n",
      " Step  279. Free = 201. ε = 8.45E-05. Unsat = 121. Ovl = 0.654. Iters 63\n",
      " Step  280. Free = 200. ε = 6.06E-05. Unsat = 121. Ovl = 0.654. Iters 67\n",
      " Step  281. Free = 199. ε = 6.78E-05. Unsat = 121. Ovl = 0.653. Iters 67\n",
      " Step  282. Free = 198. ε = 9.50E-05. Unsat = 121. Ovl = 0.653. Iters 41\n",
      " Step  283. Free = 197. ε = 5.36E-05. Unsat = 121. Ovl = 0.653. Iters 64\n",
      " Step  284. Free = 196. ε = 8.26E-05. Unsat = 123. Ovl = 0.654. Iters 36\n",
      " Step  285. Free = 195. ε = 8.48E-05. Unsat = 119. Ovl = 0.652. Iters 68\n",
      " Step  286. Free = 194. ε = 7.58E-05. Unsat = 119. Ovl = 0.651. Iters 68\n",
      " Step  287. Free = 193. ε = 8.28E-05. Unsat = 120. Ovl = 0.651. Iters 68\n",
      " Step  288. Free = 192. ε = 6.55E-05. Unsat = 118. Ovl = 0.650. Iters 73\n",
      " Step  289. Free = 191. ε = 8.70E-05. Unsat = 118. Ovl = 0.650. Iters 67\n",
      " Step  290. Free = 190. ε = 6.98E-05. Unsat = 118. Ovl = 0.650. Iters 81\n",
      " Step  291. Free = 189. ε = 7.93E-05. Unsat = 122. Ovl = 0.652. Iters 52\n",
      " Step  292. Free = 188. ε = 8.36E-05. Unsat = 123. Ovl = 0.651. Iters 72\n",
      " Step  293. Free = 187. ε = 7.27E-05. Unsat = 123. Ovl = 0.651. Iters 73\n",
      " Step  294. Free = 186. ε = 8.90E-05. Unsat = 123. Ovl = 0.650. Iters 77\n",
      " Step  295. Free = 185. ε = 8.96E-05. Unsat = 120. Ovl = 0.649. Iters 64\n",
      " Step  296. Free = 184. ε = 8.70E-05. Unsat = 120. Ovl = 0.649. Iters 71\n",
      " Step  297. Free = 183. ε = 8.12E-05. Unsat = 120. Ovl = 0.649. Iters 67\n",
      " Step  298. Free = 182. ε = 7.27E-05. Unsat = 114. Ovl = 0.646. Iters 65\n",
      " Step  299. Free = 181. ε = 7.87E-05. Unsat = 114. Ovl = 0.646. Iters 65\n",
      " Step  300. Free = 180. ε = 5.82E-05. Unsat = 114. Ovl = 0.646. Iters 15\n",
      " Step  301. Free = 179. ε = 9.28E-05. Unsat = 114. Ovl = 0.646. Iters 63\n",
      " Step  302. Free = 178. ε = 5.04E-05. Unsat = 115. Ovl = 0.646. Iters 74\n",
      " Step  303. Free = 177. ε = 9.57E-05. Unsat = 116. Ovl = 0.644. Iters 69\n",
      " Step  304. Free = 176. ε = 5.45E-05. Unsat = 116. Ovl = 0.643. Iters 69\n",
      " Step  305. Free = 175. ε = 6.87E-05. Unsat = 114. Ovl = 0.642. Iters 74\n",
      " Step  306. Free = 174. ε = 7.05E-05. Unsat = 107. Ovl = 0.637. Iters 73\n",
      " Step  307. Free = 173. ε = 9.88E-05. Unsat = 108. Ovl = 0.638. Iters 63\n",
      " Step  308. Free = 172. ε = 5.45E-05. Unsat = 107. Ovl = 0.637. Iters 68\n",
      " Step  309. Free = 171. ε = 8.02E-05. Unsat = 113. Ovl = 0.640. Iters 67\n",
      " Step  310. Free = 170. ε = 7.82E-05. Unsat = 113. Ovl = 0.640. Iters 74\n",
      " Step  311. Free = 169. ε = 9.38E-05. Unsat = 109. Ovl = 0.636. Iters 80\n",
      " Step  312. Free = 168. ε = 9.55E-05. Unsat = 109. Ovl = 0.636. Iters 31\n",
      " Step  313. Free = 167. ε = 5.76E-05. Unsat = 107. Ovl = 0.634. Iters 72\n",
      " Step  314. Free = 166. ε = 8.92E-05. Unsat = 107. Ovl = 0.634. Iters 38\n",
      " Step  315. Free = 165. ε = 9.98E-05. Unsat = 107. Ovl = 0.634. Iters 29\n",
      " Step  316. Free = 164. ε = 7.36E-05. Unsat = 108. Ovl = 0.633. Iters 64\n",
      " Step  317. Free = 163. ε = 9.53E-05. Unsat = 106. Ovl = 0.632. Iters 48\n",
      " Step  318. Free = 162. ε = 9.22E-05. Unsat = 105. Ovl = 0.632. Iters 61\n",
      " Step  319. Free = 161. ε = 8.26E-05. Unsat = 101. Ovl = 0.630. Iters 70\n",
      " Step  320. Free = 160. ε = 6.67E-05. Unsat =  95. Ovl = 0.626. Iters 74\n",
      " Step  321. Free = 159. ε = 7.87E-05. Unsat =  95. Ovl = 0.626. Iters 67\n",
      " Step  322. Free = 158. ε = 6.65E-05. Unsat =  93. Ovl = 0.623. Iters 75\n",
      " Step  323. Free = 157. ε = 9.51E-05. Unsat =  93. Ovl = 0.622. Iters 65\n",
      " Step  324. Free = 156. ε = 8.65E-05. Unsat =  92. Ovl = 0.618. Iters 65\n",
      " Step  325. Free = 155. ε = 8.92E-05. Unsat =  93. Ovl = 0.616. Iters 64\n",
      " Step  326. Free = 154. ε = 8.33E-05. Unsat =  90. Ovl = 0.614. Iters 62\n",
      " Step  327. Free = 153. ε = 6.18E-05. Unsat =  90. Ovl = 0.614. Iters 23\n",
      " Step  328. Free = 152. ε = 8.09E-05. Unsat =  90. Ovl = 0.614. Iters 73\n",
      " Step  329. Free = 151. ε = 8.64E-05. Unsat =  90. Ovl = 0.618. Iters 66\n",
      " Step  330. Free = 150. ε = 7.99E-05. Unsat =  90. Ovl = 0.618. Iters 27\n",
      " Step  331. Free = 149. ε = 9.05E-05. Unsat =  86. Ovl = 0.612. Iters 73\n",
      " Step  332. Free = 148. ε = 7.92E-05. Unsat =  86. Ovl = 0.612. Iters 30\n",
      " Step  333. Free = 147. ε = 6.65E-05. Unsat =  85. Ovl = 0.613. Iters 76\n",
      " Step  334. Free = 146. ε = 9.18E-05. Unsat =  86. Ovl = 0.613. Iters 73\n",
      " Step  335. Free = 145. ε = 8.30E-05. Unsat =  86. Ovl = 0.613. Iters 70\n",
      " Step  336. Free = 144. ε = 5.68E-05. Unsat =  84. Ovl = 0.612. Iters 86\n",
      " Step  337. Free = 143. ε = 8.95E-05. Unsat =  82. Ovl = 0.609. Iters 63\n",
      " Step  338. Free = 142. ε = 9.23E-05. Unsat =  77. Ovl = 0.607. Iters 65\n",
      " Step  339. Free = 141. ε = 7.61E-05. Unsat =  77. Ovl = 0.604. Iters 66\n",
      " Step  340. Free = 140. ε = 8.49E-05. Unsat =  77. Ovl = 0.604. Iters 75\n",
      " Step  341. Free = 139. ε = 8.43E-05. Unsat =  77. Ovl = 0.603. Iters 71\n",
      " Step  342. Free = 138. ε = 6.09E-05. Unsat =  73. Ovl = 0.601. Iters 73\n",
      " Step  343. Free = 137. ε = 7.37E-05. Unsat =  74. Ovl = 0.603. Iters 77\n",
      " Step  344. Free = 136. ε = 5.56E-05. Unsat =  77. Ovl = 0.606. Iters 72\n",
      " Step  345. Free = 135. ε = 9.69E-05. Unsat =  67. Ovl = 0.599. Iters 65\n",
      " Step  346. Free = 134. ε = 6.37E-05. Unsat =  67. Ovl = 0.599. Iters 80\n",
      " Step  347. Free = 133. ε = 9.35E-05. Unsat =  67. Ovl = 0.600. Iters 85\n",
      " Step  348. Free = 132. ε = 5.71E-05. Unsat =  65. Ovl = 0.598. Iters 74\n",
      " Step  349. Free = 131. ε = 9.75E-05. Unsat =  65. Ovl = 0.599. Iters 69\n",
      " Step  350. Free = 130. ε = 6.88E-05. Unsat =  65. Ovl = 0.599. Iters 69\n",
      " Step  351. Free = 129. ε = 8.49E-05. Unsat =  67. Ovl = 0.599. Iters 72\n"
     ]
    },
    {
     "name": "stdout",
     "output_type": "stream",
     "text": [
      " Step  352. Free = 128. ε = 9.35E-05. Unsat =  69. Ovl = 0.600. Iters 69\n",
      " Step  353. Free = 127. ε = 5.63E-05. Unsat =  69. Ovl = 0.600. Iters 82\n",
      " Step  354. Free = 126. ε = 8.23E-05. Unsat =  66. Ovl = 0.597. Iters 78\n",
      " Step  355. Free = 125. ε = 8.27E-05. Unsat =  68. Ovl = 0.598. Iters 76\n",
      " Step  356. Free = 124. ε = 8.58E-05. Unsat =  68. Ovl = 0.598. Iters 26\n",
      " Step  357. Free = 123. ε = 6.88E-05. Unsat =  66. Ovl = 0.597. Iters 61\n",
      " Step  358. Free = 122. ε = 7.48E-05. Unsat =  70. Ovl = 0.599. Iters 76\n",
      " Step  359. Free = 121. ε = 8.03E-05. Unsat =  70. Ovl = 0.599. Iters 88\n",
      " Step  360. Free = 120. ε = 6.85E-05. Unsat =  66. Ovl = 0.596. Iters 72\n",
      " Step  361. Free = 119. ε = 6.97E-05. Unsat =  65. Ovl = 0.596. Iters 62\n",
      " Step  362. Free = 118. ε = 5.96E-05. Unsat =  64. Ovl = 0.596. Iters 66\n",
      " Step  363. Free = 117. ε = 8.77E-05. Unsat =  61. Ovl = 0.592. Iters 67\n",
      " Step  364. Free = 116. ε = 5.21E-05. Unsat =  61. Ovl = 0.592. Iters 28\n",
      " Step  365. Free = 115. ε = 8.24E-05. Unsat =  61. Ovl = 0.592. Iters 70\n",
      " Step  366. Free = 114. ε = 7.79E-05. Unsat =  61. Ovl = 0.592. Iters 75\n",
      " Step  367. Free = 113. ε = 9.14E-05. Unsat =  57. Ovl = 0.591. Iters 79\n",
      " Step  368. Free = 112. ε = 9.71E-05. Unsat =  57. Ovl = 0.591. Iters 67\n",
      " Step  369. Free = 111. ε = 5.71E-05. Unsat =  55. Ovl = 0.590. Iters 67\n",
      " Step  370. Free = 110. ε = 6.63E-05. Unsat =  55. Ovl = 0.590. Iters 26\n",
      " Step  371. Free = 109. ε = 8.53E-05. Unsat =  56. Ovl = 0.590. Iters 72\n",
      " Step  372. Free = 108. ε = 5.38E-05. Unsat =  56. Ovl = 0.590. Iters 74\n",
      " Step  373. Free = 107. ε = 9.36E-05. Unsat =  56. Ovl = 0.590. Iters 21\n",
      " Step  374. Free = 106. ε = 8.63E-05. Unsat =  54. Ovl = 0.589. Iters 68\n",
      " Step  375. Free = 105. ε = 7.63E-05. Unsat =  55. Ovl = 0.592. Iters 76\n",
      " Step  376. Free = 104. ε = 8.00E-05. Unsat =  54. Ovl = 0.590. Iters 76\n",
      " Step  377. Free = 103. ε = 8.28E-05. Unsat =  51. Ovl = 0.589. Iters 78\n",
      " Step  378. Free = 102. ε = 9.72E-05. Unsat =  51. Ovl = 0.588. Iters 82\n",
      " Step  379. Free = 101. ε = 8.24E-05. Unsat =  52. Ovl = 0.589. Iters 73\n",
      " Step  380. Free = 100. ε = 7.57E-05. Unsat =  52. Ovl = 0.589. Iters 26\n",
      " Step  381. Free =  99. ε = 9.86E-05. Unsat =  51. Ovl = 0.587. Iters 76\n",
      " Step  382. Free =  98. ε = 9.17E-05. Unsat =  51. Ovl = 0.587. Iters 81\n",
      " Step  383. Free =  97. ε = 9.40E-05. Unsat =  50. Ovl = 0.586. Iters 76\n",
      " Step  384. Free =  96. ε = 8.49E-05. Unsat =  53. Ovl = 0.589. Iters 84\n",
      " Step  385. Free =  95. ε = 8.16E-05. Unsat =  52. Ovl = 0.589. Iters 100\n",
      " Step  386. Free =  94. ε = 8.52E-05. Unsat =  52. Ovl = 0.589. Iters 79\n",
      " Step  387. Free =  93. ε = 9.06E-05. Unsat =  53. Ovl = 0.589. Iters 89\n",
      " Step  388. Free =  92. ε = 9.56E-05. Unsat =  52. Ovl = 0.589. Iters 83\n",
      " Step  389. Free =  91. ε = 9.92E-05. Unsat =  52. Ovl = 0.587. Iters 77\n",
      " Step  390. Free =  90. ε = 7.56E-05. Unsat =  50. Ovl = 0.588. Iters 90\n",
      " Step  391. Free =  89. ε = 9.87E-05. Unsat =  50. Ovl = 0.588. Iters 151\n",
      " Step  392. Free =  88. ε = 7.29E-05. Unsat =  54. Ovl = 0.588. Iters 64\n",
      " Step  393. Free =  87. ε = 9.98E-05. Unsat =  54. Ovl = 0.587. Iters 139\n",
      " Step  394. Free =  86. ε = 8.48E-05. Unsat =  54. Ovl = 0.587. Iters 20\n",
      " Step  395. Free =  85. ε = 8.34E-05. Unsat =  54. Ovl = 0.586. Iters 123\n",
      " Step  396. Free =  84. ε = 8.93E-05. Unsat =  54. Ovl = 0.584. Iters 147\n",
      " Step  397. Free =  83. ε = 8.52E-05. Unsat =  54. Ovl = 0.583. Iters 95\n",
      " Step  398. Free =  82. ε = 9.16E-05. Unsat =  54. Ovl = 0.583. Iters 114\n",
      " Step  399. Free =  81. ε = 9.78E-05. Unsat =  50. Ovl = 0.581. Iters 129\n",
      " Step  400. Free =  80. ε = 8.71E-05. Unsat =  50. Ovl = 0.581. Iters 62\n",
      " Step  401. Free =  79. ε = 8.53E-05. Unsat =  51. Ovl = 0.581. Iters 85\n",
      " Step  402. Free =  78. ε = 9.66E-05. Unsat =  53. Ovl = 0.582. Iters 87\n",
      " Step  403. Free =  77. ε = 9.58E-05. Unsat =  51. Ovl = 0.581. Iters 81\n",
      " Step  404. Free =  76. ε = 9.33E-05. Unsat =  50. Ovl = 0.580. Iters 122\n",
      " Step  405. Free =  75. ε = 9.66E-05. Unsat =  43. Ovl = 0.573. Iters 116\n",
      " Step  406. Free =  74. ε = 9.54E-05. Unsat =  45. Ovl = 0.574. Iters 84\n",
      " Step  407. Free =  73. ε = 7.31E-05. Unsat =  45. Ovl = 0.574. Iters 57\n",
      " Step  408. Free =  72. ε = 8.07E-05. Unsat =  43. Ovl = 0.573. Iters 124\n",
      " Step  409. Free =  71. ε = 6.69E-05. Unsat =  43. Ovl = 0.573. Iters 19\n",
      " Step  410. Free =  70. ε = 5.05E-05. Unsat =  43. Ovl = 0.573. Iters 94\n",
      " Step  411. Free =  69. ε = 8.49E-05. Unsat =  42. Ovl = 0.571. Iters 118\n",
      " Step  412. Free =  68. ε = 7.61E-05. Unsat =  33. Ovl = 0.567. Iters 227\n",
      " Step  413. Free =  67. ε = 9.24E-05. Unsat =  26. Ovl = 0.561. Iters 156\n",
      " Step  414. Free =  66. ε = 9.46E-05. Unsat =  26. Ovl = 0.561. Iters 21\n",
      " Step  415. Free =  65. ε = 6.14E-05. Unsat =  26. Ovl = 0.561. Iters 74\n",
      " Step  416. Free =  64. ε = 9.57E-05. Unsat =  26. Ovl = 0.561. Iters 19\n",
      " Step  417. Free =  63. ε = 9.03E-05. Unsat =  24. Ovl = 0.560. Iters 74\n",
      " Step  418. Free =  62. ε = 8.84E-05. Unsat =  22. Ovl = 0.559. Iters 112\n",
      " Step  419. Free =  61. ε = 9.14E-05. Unsat =  22. Ovl = 0.559. Iters 105\n",
      " Step  420. Free =  60. ε = 8.21E-05. Unsat =  22. Ovl = 0.559. Iters 73\n",
      " Step  421. Free =  59. ε = 7.32E-05. Unsat =  21. Ovl = 0.558. Iters 127\n",
      " Step  422. Free =  58. ε = 9.66E-05. Unsat =  18. Ovl = 0.556. Iters 103\n",
      " Step  423. Free =  57. ε = 8.91E-05. Unsat =  18. Ovl = 0.556. Iters 21\n",
      " Step  424. Free =  56. ε = 9.33E-05. Unsat =  18. Ovl = 0.556. Iters 73\n",
      " Step  425. Free =  55. ε = 8.49E-05. Unsat =  18. Ovl = 0.556. Iters 69\n",
      " Step  426. Free =  54. ε = 6.02E-05. Unsat =  18. Ovl = 0.556. Iters 67\n",
      " Step  427. Free =  53. ε = 7.41E-05. Unsat =  18. Ovl = 0.556. Iters 71\n",
      " Step  428. Free =  52. ε = 5.73E-05. Unsat =  18. Ovl = 0.556. Iters 70\n",
      " Step  429. Free =  51. ε = 9.54E-05. Unsat =  18. Ovl = 0.556. Iters 35\n",
      " Step  430. Free =  50. ε = 9.01E-05. Unsat =  18. Ovl = 0.556. Iters 103\n",
      " Step  431. Free =  49. ε = 9.97E-05. Unsat =  18. Ovl = 0.556. Iters 94\n",
      " Step  432. Free =  48. ε = 8.41E-05. Unsat =  18. Ovl = 0.556. Iters 99\n",
      " Step  433. Free =  47. ε = 5.85E-05. Unsat =  18. Ovl = 0.556. Iters 15\n",
      " Step  434. Free =  46. ε = 6.57E-05. Unsat =  18. Ovl = 0.556. Iters 72\n",
      " Step  435. Free =  45. ε = 7.81E-05. Unsat =  16. Ovl = 0.553. Iters 125\n",
      " Step  436. Free =  44. ε = 8.25E-05. Unsat =  16. Ovl = 0.553. Iters 29\n",
      " Step  437. Free =  43. ε = 9.87E-05. Unsat =  16. Ovl = 0.553. Iters 113\n",
      " Step  438. Free =  42. ε = 9.12E-05. Unsat =  16. Ovl = 0.553. Iters 46\n",
      " Step  439. Free =  41. ε = 9.97E-05. Unsat =  16. Ovl = 0.553. Iters 81\n",
      " Step  440. Free =  40. ε = 5.20E-05. Unsat =  16. Ovl = 0.553. Iters 71\n",
      " Step  441. Free =  39. ε = 9.13E-05. Unsat =  18. Ovl = 0.554. Iters 98\n",
      " Step  442. Free =  38. ε = 7.25E-05. Unsat =  13. Ovl = 0.550. Iters 82\n",
      " Step  443. Free =  37. ε = 9.52E-05. Unsat =  13. Ovl = 0.550. Iters 121\n",
      " Step  444. Free =  36. ε = 7.93E-05. Unsat =  13. Ovl = 0.550. Iters 47\n",
      " Step  445. Free =  35. ε = 9.76E-05. Unsat =  11. Ovl = 0.548. Iters 117\n",
      " Step  446. Free =  34. ε = 7.69E-05. Unsat =  13. Ovl = 0.549. Iters 162\n",
      " Step  447. Free =  33. ε = 9.31E-05. Unsat =  13. Ovl = 0.549. Iters 128\n",
      " Step  448. Free =  32. ε = 9.45E-05. Unsat =  11. Ovl = 0.547. Iters 261\n",
      " Step  449. Free =  31. ε = 9.03E-05. Unsat =  11. Ovl = 0.547. Iters 30\n",
      " Step  450. Free =  30. ε = 6.72E-05. Unsat =   1. Ovl = 0.541. Iters 583\n",
      " Step  451. Free =  29. ε = 8.95E-05. Unsat =   1. Ovl = 0.541. Iters 5\n",
      " Step  452. Free =  28. ε = 3.78E-05. Unsat =   1. Ovl = 0.541. Iters 1\n",
      " Step  453. Free =  27. ε = 3.73E-05. Unsat =   1. Ovl = 0.541. Iters 1\n",
      " Step  454. Free =  26. ε = 5.76E-05. Unsat =   1. Ovl = 0.541. Iters 1\n",
      " Step  455. Free =  25. ε = 5.76E-05. Unsat =   1. Ovl = 0.541. Iters 1\n",
      " Step  456. Free =  24. ε = 7.39E-05. Unsat =   1. Ovl = 0.541. Iters 3\n",
      " Step  457. Free =  23. ε = 3.69E-05. Unsat =   1. Ovl = 0.541. Iters 1\n",
      " Step  458. Free =  22. ε = 5.43E-05. Unsat =   1. Ovl = 0.541. Iters 37\n",
      " Step  459. Free =  21. ε = 6.04E-05. Unsat =   1. Ovl = 0.541. Iters 4\n",
      " Step  460. Free =  20. ε = 8.80E-05. Unsat =   1. Ovl = 0.541. Iters 2\n",
      " Step  461. Free =  19. ε = 6.60E-05. Unsat =   1. Ovl = 0.541. Iters 1\n",
      " Step  462. Free =  18. ε = 6.53E-05. Unsat =   1. Ovl = 0.541. Iters 1\n",
      " Step  463. Free =  17. ε = 6.13E-05. Unsat =   1. Ovl = 0.541. Iters 10\n",
      " Step  464. Free =  16. ε = 7.98E-05. Unsat =   1. Ovl = 0.541. Iters 26\n",
      " Step  465. Free =  15. ε = 6.23E-05. Unsat =   1. Ovl = 0.541. Iters 2\n",
      " Step  466. Free =  14. ε = 7.50E-05. Unsat =   1. Ovl = 0.541. Iters 7\n",
      " Step  467. Free =  13. ε = 5.97E-05. Unsat =   1. Ovl = 0.541. Iters 38\n",
      " Step  468. Free =  12. ε = 3.54E-05. Unsat =   1. Ovl = 0.541. Iters 1\n"
     ]
    },
    {
     "name": "stdout",
     "output_type": "stream",
     "text": [
      " Step  469. Free =  11. ε = 5.13E-05. Unsat =   1. Ovl = 0.541. Iters 38\n",
      " Step  470. Free =  10. ε = 9.35E-05. Unsat =   1. Ovl = 0.541. Iters 31\n",
      " Step  471. Free =   9. ε = 8.68E-05. Unsat =   1. Ovl = 0.541. Iters 55\n",
      " Step  472. Free =   8. ε = 8.54E-05. Unsat =   1. Ovl = 0.541. Iters 5\n",
      " Step  473. Free =   7. ε = 8.92E-05. Unsat =   1. Ovl = 0.541. Iters 8\n",
      " Step  474. Free =   6. ε = 8.97E-05. Unsat =   1. Ovl = 0.541. Iters 23\n",
      " Step  475. Free =   5. ε = 6.59E-05. Unsat =   1. Ovl = 0.541. Iters 127\n",
      " Step  476. Free =   4. ε = 3.29E-05. Unsat =   1. Ovl = 0.541. Iters 1\n",
      " Step  477. Free =   3. ε = 8.89E-05. Unsat =   1. Ovl = 0.541. Iters 24\n",
      " Step  478. Free =   2. ε = 9.47E-05. Unsat =   1. Ovl = 0.541. Iters 11\n",
      " Step  479. Free =   1. ε = 5.98E-05. Unsat =   1. Ovl = 0.541. Iters 15\n",
      " Step  480. Free =   0. ε = -1.00E+00. Unsat =   1. Ovl = 0.541. Iters 67\n",
      "contradiction found. 1 unsat\n"
     ]
    },
    {
     "data": {
      "text/plain": [
       "(-1, NaN, NaN)"
      ]
     },
     "execution_count": 124,
     "metadata": {},
     "output_type": "execute_result"
    }
   ],
   "source": [
    "decimate!(bp, efield, freevars, maxiter=1000, Tmax=1, tol=1e-4, callback=cb_decimation, damp=0.5) "
   ]
  },
  {
   "cell_type": "code",
   "execution_count": 129,
   "metadata": {},
   "outputs": [],
   "source": [
    "f = sign.(bp.efield[freevars]);"
   ]
  },
  {
   "cell_type": "code",
   "execution_count": 130,
   "metadata": {},
   "outputs": [],
   "source": [
    "bp.efield .= 0\n",
    "bp.efield[freevars] .= f\n",
    "bp.m .= 0;"
   ]
  },
  {
   "cell_type": "code",
   "execution_count": 131,
   "metadata": {},
   "outputs": [
    {
     "data": {
      "text/plain": [
       "(5.820766091346741e-11, 246)"
      ]
     },
     "execution_count": 131,
     "metadata": {},
     "output_type": "execute_result"
    }
   ],
   "source": [
    "iteration!(bp; maxiter=1000, tol=1e-10, damp=0.5) "
   ]
  },
  {
   "cell_type": "code",
   "execution_count": 132,
   "metadata": {},
   "outputs": [
    {
     "data": {
      "text/plain": [
       "(37, 0.4633333333333334, 0.2683333333333333)"
      ]
     },
     "execution_count": 132,
     "metadata": {},
     "output_type": "execute_result"
    }
   ],
   "source": [
    "performance(bp, s)"
   ]
  },
  {
   "cell_type": "code",
   "execution_count": 135,
   "metadata": {},
   "outputs": [
    {
     "data": {
      "text/plain": [
       "0"
      ]
     },
     "execution_count": 135,
     "metadata": {},
     "output_type": "execute_result"
    }
   ],
   "source": [
    "sum(bp.efield[freevars].==0)"
   ]
  },
  {
   "cell_type": "code",
   "execution_count": 136,
   "metadata": {},
   "outputs": [
    {
     "data": {
      "text/plain": [
       "true"
      ]
     },
     "execution_count": 136,
     "metadata": {},
     "output_type": "execute_result"
    }
   ],
   "source": [
    "y = sign.(bp.efield[freevars]) .==-1\n",
    "x = B*y .% 2\n",
    "length(x) == length(bp.efield)"
   ]
  },
  {
   "cell_type": "code",
   "execution_count": 139,
   "metadata": {},
   "outputs": [
    {
     "data": {
      "text/plain": [
       "0"
      ]
     },
     "execution_count": 139,
     "metadata": {},
     "output_type": "execute_result"
    }
   ],
   "source": [
    "sum(bp.H'*x .% 2)"
   ]
  },
  {
   "cell_type": "code",
   "execution_count": 141,
   "metadata": {},
   "outputs": [
    {
     "data": {
      "text/plain": [
       "0.25722222222222224"
      ]
     },
     "execution_count": 141,
     "metadata": {},
     "output_type": "execute_result"
    }
   ],
   "source": [
    "dist = mean(x .!= (s.==-1))"
   ]
  },
  {
   "cell_type": "code",
   "execution_count": 69,
   "metadata": {
    "scrolled": false
   },
   "outputs": [
    {
     "name": "stdout",
     "output_type": "stream",
     "text": [
      "(it, ε) = (50, 0.00016251586544159535)\n",
      "(it, ε) = (100, 4.1876997480816414e-8)\n",
      "(it, ε) = (150, 1.866329313315873e-11)\n",
      "(it, ε) = (200, 8.298917109073045e-15)\n",
      "(it, ε) = (250, 3.9968028886505635e-15)\n",
      "(it, ε) = (300, 3.219646771412954e-15)\n",
      "(it, ε) = (350, 2.3314683517128287e-15)\n",
      "(it, ε) = (400, 2.220446049250313e-15)\n",
      "(it, ε) = (450, 2.55351295663786e-15)\n",
      "(it, ε) = (500, 2.1094237467877974e-15)\n",
      "(it, ε) = (550, 2.9976021664879227e-15)\n",
      "(it, ε) = (600, 1.9984014443252818e-15)\n",
      "(it, ε) = (650, 3.9968028886505635e-15)\n",
      "(it, ε) = (700, 2.886579864025407e-15)\n",
      "(it, ε) = (750, 2.6645352591003757e-15)\n",
      "(it, ε) = (800, 2.7755575615628914e-15)\n",
      "(it, ε) = (850, 2.9976021664879227e-15)\n",
      "(it, ε) = (900, 1.9984014443252818e-15)\n",
      "(it, ε) = (950, 2.3314683517128287e-15)\n",
      "(it, ε) = (1000, 3.774758283725532e-15)\n"
     ]
    },
    {
     "data": {
      "text/plain": [
       "(3.774758283725532e-15, 1000)"
      ]
     },
     "execution_count": 69,
     "metadata": {},
     "output_type": "execute_result"
    }
   ],
   "source": [
    "cb(it, ε, bp) = (mod(it,50)==0 && @show it,ε; false)\n",
    "ε, iters = iteration!(bp, maxiter=10^3, tol=1e-18, callback=cb, damp=0.5)"
   ]
  },
  {
   "cell_type": "code",
   "execution_count": 84,
   "metadata": {},
   "outputs": [
    {
     "name": "stdout",
     "output_type": "stream",
     "text": [
      "H=1.40.   Converged after 1020 iters\n",
      "H=1.45.   Converged after 1225 iters\n",
      "H=1.50.   Converged after 1405 iters\n",
      "H=1.55.   Converged after 1627 iters\n",
      "H=1.60.   Converged after 2139 iters\n",
      "H=1.65.   Converged after 5233 iters\n",
      "H=1.70. Unconverged: ε=8.30E-02\n",
      "H=1.75. Unconverged: ε=5.49E-02\n",
      "H=1.80. Unconverged: ε=6.94E-02\n",
      "H=1.85. Unconverged: ε=9.30E-02\n",
      "H=1.90. Unconverged: ε=2.66E-01\n",
      "H=1.95. Unconverged: ε=2.50E-01\n",
      "H=2.00. Unconverged: ε=3.20E-01\n"
     ]
    }
   ],
   "source": [
    "Hs = 1.4:0.05:2.0\n",
    "maxiter = 10^4\n",
    "bp = belief_propagation(n, m, nedges, Λ, K)\n",
    "s = rand((-1,1), n)\n",
    "for H in Hs\n",
    "    efield = tanh.(H*copy(s))\n",
    "    bp.efield .= efield\n",
    "    bp.m .= 0\n",
    "    ε, iters = iteration!(bp, maxiter=maxiter, tol=1e-10, damp=0.5)\n",
    "    @printf(\"H=%.2f. \", H)\n",
    "    if iters==maxiter\n",
    "        @printf(\"Unconverged: ε=%1.2E\\n\", ε)\n",
    "    else\n",
    "       @printf(\"Converged after %d iters\\n\", iters) \n",
    "    end\n",
    "end"
   ]
  },
  {
   "cell_type": "markdown",
   "metadata": {},
   "source": [
    "## Average over more than one instance"
   ]
  },
  {
   "cell_type": "code",
   "execution_count": 108,
   "metadata": {
    "scrolled": true
   },
   "outputs": [
    {
     "name": "stdout",
     "output_type": "stream",
     "text": [
      "#### Round 1 of 20\n"
     ]
    },
    {
     "name": "stderr",
     "output_type": "stream",
     "text": [
      "\u001b[32mProgress: 100%|█████████████████████████████████████████| Time: 0:00:00\u001b[39m\n"
     ]
    },
    {
     "name": "stdout",
     "output_type": "stream",
     "text": [
      "------ H=0.4. 1 of 1 ------\n",
      "Trial 1 of 1: contradiction found. 7 unsat\n",
      "#### Round 2 of 20\n"
     ]
    },
    {
     "name": "stderr",
     "output_type": "stream",
     "text": [
      "\u001b[32mProgress: 100%|█████████████████████████████████████████| Time: 0:00:00\u001b[39m\n"
     ]
    },
    {
     "name": "stdout",
     "output_type": "stream",
     "text": [
      "------ H=0.4. 1 of 1 ------\n",
      "Trial 1 of 1: contradiction found. 10 unsat\n",
      "#### Round 3 of 20\n"
     ]
    },
    {
     "name": "stderr",
     "output_type": "stream",
     "text": [
      "\u001b[32mProgress: 100%|█████████████████████████████████████████| Time: 0:00:00\u001b[39m\n"
     ]
    },
    {
     "name": "stdout",
     "output_type": "stream",
     "text": [
      "------ H=0.4. 1 of 1 ------\n",
      "Trial 1 of 1: 0 unsat\n",
      "#### Round 4 of 20\n"
     ]
    },
    {
     "name": "stderr",
     "output_type": "stream",
     "text": [
      "\u001b[32mProgress: 100%|█████████████████████████████████████████| Time: 0:00:00\u001b[39m\n"
     ]
    },
    {
     "name": "stdout",
     "output_type": "stream",
     "text": [
      "------ H=0.4. 1 of 1 ------\n",
      "Trial 1 of 1: 0 unsat\n",
      "#### Round 5 of 20\n"
     ]
    },
    {
     "name": "stderr",
     "output_type": "stream",
     "text": [
      "\u001b[32mProgress: 100%|█████████████████████████████████████████| Time: 0:00:00\u001b[39m\n"
     ]
    },
    {
     "name": "stdout",
     "output_type": "stream",
     "text": [
      "------ H=0.4. 1 of 1 ------\n",
      "Trial 1 of 1: contradiction found. 11 unsat\n",
      "#### Round 6 of 20\n"
     ]
    },
    {
     "name": "stderr",
     "output_type": "stream",
     "text": [
      "\u001b[32mProgress: 100%|█████████████████████████████████████████| Time: 0:00:00\u001b[39m\n"
     ]
    },
    {
     "name": "stdout",
     "output_type": "stream",
     "text": [
      "------ H=0.4. 1 of 1 ------\n",
      "Trial 1 of 1: contradiction found. 18 unsat\n",
      "#### Round 7 of 20\n"
     ]
    },
    {
     "name": "stderr",
     "output_type": "stream",
     "text": [
      "\u001b[32mProgress: 100%|█████████████████████████████████████████| Time: 0:00:00\u001b[39m\n"
     ]
    },
    {
     "name": "stdout",
     "output_type": "stream",
     "text": [
      "------ H=0.4. 1 of 1 ------\n",
      "Trial 1 of 1: contradiction found. 39 unsat\n",
      "#### Round 8 of 20\n"
     ]
    },
    {
     "name": "stderr",
     "output_type": "stream",
     "text": [
      "\u001b[32mProgress: 100%|█████████████████████████████████████████| Time: 0:00:00\u001b[39m\n"
     ]
    },
    {
     "name": "stdout",
     "output_type": "stream",
     "text": [
      "------ H=0.4. 1 of 1 ------\n",
      "Trial 1 of 1: 2 unsat\n",
      "#### Round 9 of 20\n"
     ]
    },
    {
     "name": "stderr",
     "output_type": "stream",
     "text": [
      "\u001b[32mProgress: 100%|█████████████████████████████████████████| Time: 0:00:00\u001b[39m\n"
     ]
    },
    {
     "name": "stdout",
     "output_type": "stream",
     "text": [
      "------ H=0.4. 1 of 1 ------\n",
      "Trial 1 of 1: "
     ]
    },
    {
     "ename": "LoadError",
     "evalue": "InterruptException:",
     "output_type": "error",
     "traceback": [
      "InterruptException:",
      "",
      "Stacktrace:",
      " [1] iteration!(::BeliefPropagation{Bool,Float64}; factor_perm::Array{Int64,1}, maxiter::Int64, tol::Float64, damp::Float64, rein::Float64, callback::var\"#263#265\", update!::Function) at /home/crotti/sourcecoding/code/bp.jl:157",
      " [2] decimate1!(::BeliefPropagation{Bool,Float64}, ::Array{Float64,1}, ::BitArray{1}; callback::var\"#269#271\", kw::Base.Iterators.Pairs{Symbol,Real,Tuple{Symbol,Symbol},NamedTuple{(:maxiter, :tol),Tuple{Int64,Float64}}}) at /home/crotti/sourcecoding/code/bp.jl:239",
      " [3] decimate!(::BeliefPropagation{Bool,Float64}, ::Array{Float64,1}, ::Array{Int64,1}; Tmax::Int64, kw::Base.Iterators.Pairs{Symbol,Real,Tuple{Symbol,Symbol},NamedTuple{(:maxiter, :tol),Tuple{Int64,Float64}}}) at /home/crotti/sourcecoding/code/bp.jl:212",
      " [4] top-level scope at ./In[108]:20"
     ]
    }
   ],
   "source": [
    "m = factorial(5)*11*2\n",
    "R = 0.8/3\n",
    "r = 1 - 3R\n",
    "n = round(Int, 3m/(2+r))\n",
    "Λ = OffsetVector([0,0,1-r,r], 0:3)\n",
    "K = OffsetVector([0,0,0,1], 0:3)\n",
    "nedges = 3m\n",
    "Hs = 10.0 .^ (-0.2:0.25:-0.2)\n",
    "Hs = [0.4]\n",
    "navg = 20\n",
    "dist_f3 = [Float64[] for _ in eachindex(Hs)]\n",
    "for j in 1:navg\n",
    "    println(\"#### Round $j of $navg\")\n",
    "    bp = belief_propagation(n, m, nedges, Λ, K)\n",
    "    _, freevars = findbasis_slow(permutedims(Array(bp.H)))\n",
    "    s = rand((-1,1), n)\n",
    "    for (i,H) in enumerate(Hs)\n",
    "        println(\"------ H=\", round(H,digits=4), \". \", i, \" of \", length(Hs), \" ------\")\n",
    "        fields = tanh.(H*copy(s))\n",
    "        _,_,d = decimate!(bp, fields, freevars, maxiter=1000, Tmax=1, tol=1e-4) \n",
    "        isnan(d) || push!(dist_f3[i], d) \n",
    "    end\n",
    "end"
   ]
  },
  {
   "cell_type": "code",
   "execution_count": 162,
   "metadata": {
    "scrolled": false
   },
   "outputs": [
    {
     "name": "stdout",
     "output_type": "stream",
     "text": [
      "Avg over 20 instances\n"
     ]
    },
    {
     "data": {
      "image/svg+xml": [
       "<?xml version=\"1.0\" encoding=\"utf-8\"?>\n",
       "<svg xmlns=\"http://www.w3.org/2000/svg\" xmlns:xlink=\"http://www.w3.org/1999/xlink\" width=\"600\" height=\"400\" viewBox=\"0 0 2400 1600\">\n",
       "<defs>\n",
       "  <clipPath id=\"clip280\">\n",
       "    <rect x=\"0\" y=\"0\" width=\"2400\" height=\"1600\"/>\n",
       "  </clipPath>\n",
       "</defs>\n",
       "<path clip-path=\"url(#clip280)\" d=\"\n",
       "M0 1600 L2400 1600 L2400 0 L0 0  Z\n",
       "  \" fill=\"#ffffff\" fill-rule=\"evenodd\" fill-opacity=\"1\"/>\n",
       "<defs>\n",
       "  <clipPath id=\"clip281\">\n",
       "    <rect x=\"480\" y=\"0\" width=\"1681\" height=\"1600\"/>\n",
       "  </clipPath>\n",
       "</defs>\n",
       "<path clip-path=\"url(#clip280)\" d=\"\n",
       "M173.751 1486.45 L2352.76 1486.45 L2352.76 47.2441 L173.751 47.2441  Z\n",
       "  \" fill=\"#ffffff\" fill-rule=\"evenodd\" fill-opacity=\"1\"/>\n",
       "<defs>\n",
       "  <clipPath id=\"clip282\">\n",
       "    <rect x=\"173\" y=\"47\" width=\"2180\" height=\"1440\"/>\n",
       "  </clipPath>\n",
       "</defs>\n",
       "<polyline clip-path=\"url(#clip282)\" style=\"stroke:#000000; stroke-width:2; stroke-opacity:0.1; fill:none\" points=\"\n",
       "  173.751,1486.45 173.751,47.2441 \n",
       "  \"/>\n",
       "<polyline clip-path=\"url(#clip282)\" style=\"stroke:#000000; stroke-width:2; stroke-opacity:0.1; fill:none\" points=\"\n",
       "  536.918,1486.45 536.918,47.2441 \n",
       "  \"/>\n",
       "<polyline clip-path=\"url(#clip282)\" style=\"stroke:#000000; stroke-width:2; stroke-opacity:0.1; fill:none\" points=\"\n",
       "  900.086,1486.45 900.086,47.2441 \n",
       "  \"/>\n",
       "<polyline clip-path=\"url(#clip282)\" style=\"stroke:#000000; stroke-width:2; stroke-opacity:0.1; fill:none\" points=\"\n",
       "  1263.25,1486.45 1263.25,47.2441 \n",
       "  \"/>\n",
       "<polyline clip-path=\"url(#clip282)\" style=\"stroke:#000000; stroke-width:2; stroke-opacity:0.1; fill:none\" points=\"\n",
       "  1626.42,1486.45 1626.42,47.2441 \n",
       "  \"/>\n",
       "<polyline clip-path=\"url(#clip282)\" style=\"stroke:#000000; stroke-width:2; stroke-opacity:0.1; fill:none\" points=\"\n",
       "  1989.59,1486.45 1989.59,47.2441 \n",
       "  \"/>\n",
       "<polyline clip-path=\"url(#clip282)\" style=\"stroke:#000000; stroke-width:2; stroke-opacity:0.1; fill:none\" points=\"\n",
       "  2352.76,1486.45 2352.76,47.2441 \n",
       "  \"/>\n",
       "<polyline clip-path=\"url(#clip280)\" style=\"stroke:#000000; stroke-width:4; stroke-opacity:1; fill:none\" points=\"\n",
       "  173.751,1486.45 2352.76,1486.45 \n",
       "  \"/>\n",
       "<polyline clip-path=\"url(#clip280)\" style=\"stroke:#000000; stroke-width:4; stroke-opacity:1; fill:none\" points=\"\n",
       "  173.751,1486.45 173.751,1469.18 \n",
       "  \"/>\n",
       "<polyline clip-path=\"url(#clip280)\" style=\"stroke:#000000; stroke-width:4; stroke-opacity:1; fill:none\" points=\"\n",
       "  536.918,1486.45 536.918,1469.18 \n",
       "  \"/>\n",
       "<polyline clip-path=\"url(#clip280)\" style=\"stroke:#000000; stroke-width:4; stroke-opacity:1; fill:none\" points=\"\n",
       "  900.086,1486.45 900.086,1469.18 \n",
       "  \"/>\n",
       "<polyline clip-path=\"url(#clip280)\" style=\"stroke:#000000; stroke-width:4; stroke-opacity:1; fill:none\" points=\"\n",
       "  1263.25,1486.45 1263.25,1469.18 \n",
       "  \"/>\n",
       "<polyline clip-path=\"url(#clip280)\" style=\"stroke:#000000; stroke-width:4; stroke-opacity:1; fill:none\" points=\"\n",
       "  1626.42,1486.45 1626.42,1469.18 \n",
       "  \"/>\n",
       "<polyline clip-path=\"url(#clip280)\" style=\"stroke:#000000; stroke-width:4; stroke-opacity:1; fill:none\" points=\"\n",
       "  1989.59,1486.45 1989.59,1469.18 \n",
       "  \"/>\n",
       "<polyline clip-path=\"url(#clip280)\" style=\"stroke:#000000; stroke-width:4; stroke-opacity:1; fill:none\" points=\"\n",
       "  2352.76,1486.45 2352.76,1469.18 \n",
       "  \"/>\n",
       "<path clip-path=\"url(#clip280)\" d=\"M 0 0 M142.316 1515.64 Q138.705 1515.64 136.876 1519.2 Q135.071 1522.75 135.071 1529.87 Q135.071 1536.98 136.876 1540.55 Q138.705 1544.09 142.316 1544.09 Q145.95 1544.09 147.756 1540.55 Q149.584 1536.98 149.584 1529.87 Q149.584 1522.75 147.756 1519.2 Q145.95 1515.64 142.316 1515.64 M142.316 1511.93 Q148.126 1511.93 151.182 1516.54 Q154.26 1521.12 154.26 1529.87 Q154.26 1538.6 151.182 1543.21 Q148.126 1547.79 142.316 1547.79 Q136.506 1547.79 133.427 1543.21 Q130.372 1538.6 130.372 1529.87 Q130.372 1521.12 133.427 1516.54 Q136.506 1511.93 142.316 1511.93 Z\" fill=\"#000000\" fill-rule=\"evenodd\" fill-opacity=\"1\" /><path clip-path=\"url(#clip280)\" d=\"M 0 0 M159.33 1541.24 L164.214 1541.24 L164.214 1547.12 L159.33 1547.12 L159.33 1541.24 Z\" fill=\"#000000\" fill-rule=\"evenodd\" fill-opacity=\"1\" /><path clip-path=\"url(#clip280)\" d=\"M 0 0 M173.311 1543.18 L189.63 1543.18 L189.63 1547.12 L167.686 1547.12 L167.686 1543.18 Q170.348 1540.43 174.931 1535.8 Q179.538 1531.15 180.718 1529.81 Q182.964 1527.28 183.843 1525.55 Q184.746 1523.79 184.746 1522.1 Q184.746 1519.34 182.802 1517.61 Q180.881 1515.87 177.779 1515.87 Q175.58 1515.87 173.126 1516.63 Q170.695 1517.4 167.918 1518.95 L167.918 1514.23 Q170.742 1513.09 173.195 1512.51 Q175.649 1511.93 177.686 1511.93 Q183.056 1511.93 186.251 1514.62 Q189.445 1517.31 189.445 1521.8 Q189.445 1523.93 188.635 1525.85 Q187.848 1527.74 185.742 1530.34 Q185.163 1531.01 182.061 1534.23 Q178.959 1537.42 173.311 1543.18 Z\" fill=\"#000000\" fill-rule=\"evenodd\" fill-opacity=\"1\" /><path clip-path=\"url(#clip280)\" d=\"M 0 0 M207.547 1516.63 L195.742 1535.08 L207.547 1535.08 L207.547 1516.63 M206.32 1512.56 L212.2 1512.56 L212.2 1535.08 L217.13 1535.08 L217.13 1538.97 L212.2 1538.97 L212.2 1547.12 L207.547 1547.12 L207.547 1538.97 L191.945 1538.97 L191.945 1534.46 L206.32 1512.56 Z\" fill=\"#000000\" fill-rule=\"evenodd\" fill-opacity=\"1\" /><path clip-path=\"url(#clip280)\" d=\"M 0 0 M506.224 1515.64 Q502.613 1515.64 500.784 1519.2 Q498.979 1522.75 498.979 1529.87 Q498.979 1536.98 500.784 1540.55 Q502.613 1544.09 506.224 1544.09 Q509.858 1544.09 511.664 1540.55 Q513.493 1536.98 513.493 1529.87 Q513.493 1522.75 511.664 1519.2 Q509.858 1515.64 506.224 1515.64 M506.224 1511.93 Q512.034 1511.93 515.09 1516.54 Q518.169 1521.12 518.169 1529.87 Q518.169 1538.6 515.09 1543.21 Q512.034 1547.79 506.224 1547.79 Q500.414 1547.79 497.335 1543.21 Q494.28 1538.6 494.28 1529.87 Q494.28 1521.12 497.335 1516.54 Q500.414 1511.93 506.224 1511.93 Z\" fill=\"#000000\" fill-rule=\"evenodd\" fill-opacity=\"1\" /><path clip-path=\"url(#clip280)\" d=\"M 0 0 M523.238 1541.24 L528.122 1541.24 L528.122 1547.12 L523.238 1547.12 L523.238 1541.24 Z\" fill=\"#000000\" fill-rule=\"evenodd\" fill-opacity=\"1\" /><path clip-path=\"url(#clip280)\" d=\"M 0 0 M537.219 1543.18 L553.539 1543.18 L553.539 1547.12 L531.594 1547.12 L531.594 1543.18 Q534.256 1540.43 538.84 1535.8 Q543.446 1531.15 544.627 1529.81 Q546.872 1527.28 547.752 1525.55 Q548.654 1523.79 548.654 1522.1 Q548.654 1519.34 546.71 1517.61 Q544.789 1515.87 541.687 1515.87 Q539.488 1515.87 537.034 1516.63 Q534.604 1517.4 531.826 1518.95 L531.826 1514.23 Q534.65 1513.09 537.104 1512.51 Q539.557 1511.93 541.594 1511.93 Q546.965 1511.93 550.159 1514.62 Q553.354 1517.31 553.354 1521.8 Q553.354 1523.93 552.543 1525.85 Q551.756 1527.74 549.65 1530.34 Q549.071 1531.01 545.969 1534.23 Q542.867 1537.42 537.219 1543.18 Z\" fill=\"#000000\" fill-rule=\"evenodd\" fill-opacity=\"1\" /><path clip-path=\"url(#clip280)\" d=\"M 0 0 M558.654 1512.56 L577.011 1512.56 L577.011 1516.5 L562.937 1516.5 L562.937 1524.97 Q563.955 1524.62 564.974 1524.46 Q565.992 1524.27 567.011 1524.27 Q572.798 1524.27 576.177 1527.44 Q579.557 1530.62 579.557 1536.03 Q579.557 1541.61 576.085 1544.71 Q572.613 1547.79 566.293 1547.79 Q564.117 1547.79 561.849 1547.42 Q559.603 1547.05 557.196 1546.31 L557.196 1541.61 Q559.279 1542.74 561.502 1543.3 Q563.724 1543.86 566.201 1543.86 Q570.205 1543.86 572.543 1541.75 Q574.881 1539.64 574.881 1536.03 Q574.881 1532.42 572.543 1530.31 Q570.205 1528.21 566.201 1528.21 Q564.326 1528.21 562.451 1528.62 Q560.599 1529.04 558.654 1529.92 L558.654 1512.56 Z\" fill=\"#000000\" fill-rule=\"evenodd\" fill-opacity=\"1\" /><path clip-path=\"url(#clip280)\" d=\"M 0 0 M868.813 1515.64 Q865.202 1515.64 863.373 1519.2 Q861.568 1522.75 861.568 1529.87 Q861.568 1536.98 863.373 1540.55 Q865.202 1544.09 868.813 1544.09 Q872.447 1544.09 874.253 1540.55 Q876.081 1536.98 876.081 1529.87 Q876.081 1522.75 874.253 1519.2 Q872.447 1515.64 868.813 1515.64 M868.813 1511.93 Q874.623 1511.93 877.679 1516.54 Q880.757 1521.12 880.757 1529.87 Q880.757 1538.6 877.679 1543.21 Q874.623 1547.79 868.813 1547.79 Q863.003 1547.79 859.924 1543.21 Q856.869 1538.6 856.869 1529.87 Q856.869 1521.12 859.924 1516.54 Q863.003 1511.93 868.813 1511.93 Z\" fill=\"#000000\" fill-rule=\"evenodd\" fill-opacity=\"1\" /><path clip-path=\"url(#clip280)\" d=\"M 0 0 M885.827 1541.24 L890.711 1541.24 L890.711 1547.12 L885.827 1547.12 L885.827 1541.24 Z\" fill=\"#000000\" fill-rule=\"evenodd\" fill-opacity=\"1\" /><path clip-path=\"url(#clip280)\" d=\"M 0 0 M899.808 1543.18 L916.127 1543.18 L916.127 1547.12 L894.183 1547.12 L894.183 1543.18 Q896.845 1540.43 901.429 1535.8 Q906.035 1531.15 907.216 1529.81 Q909.461 1527.28 910.34 1525.55 Q911.243 1523.79 911.243 1522.1 Q911.243 1519.34 909.299 1517.61 Q907.378 1515.87 904.276 1515.87 Q902.077 1515.87 899.623 1516.63 Q897.192 1517.4 894.415 1518.95 L894.415 1514.23 Q897.239 1513.09 899.692 1512.51 Q902.146 1511.93 904.183 1511.93 Q909.553 1511.93 912.748 1514.62 Q915.942 1517.31 915.942 1521.8 Q915.942 1523.93 915.132 1525.85 Q914.345 1527.74 912.239 1530.34 Q911.66 1531.01 908.558 1534.23 Q905.456 1537.42 899.808 1543.18 Z\" fill=\"#000000\" fill-rule=\"evenodd\" fill-opacity=\"1\" /><path clip-path=\"url(#clip280)\" d=\"M 0 0 M931.776 1527.98 Q928.627 1527.98 926.776 1530.13 Q924.947 1532.28 924.947 1536.03 Q924.947 1539.76 926.776 1541.93 Q928.627 1544.09 931.776 1544.09 Q934.924 1544.09 936.752 1541.93 Q938.604 1539.76 938.604 1536.03 Q938.604 1532.28 936.752 1530.13 Q934.924 1527.98 931.776 1527.98 M941.058 1513.32 L941.058 1517.58 Q939.299 1516.75 937.493 1516.31 Q935.711 1515.87 933.951 1515.87 Q929.322 1515.87 926.868 1519 Q924.438 1522.12 924.09 1528.44 Q925.456 1526.43 927.516 1525.36 Q929.576 1524.27 932.053 1524.27 Q937.262 1524.27 940.271 1527.44 Q943.303 1530.59 943.303 1536.03 Q943.303 1541.36 940.155 1544.57 Q937.007 1547.79 931.776 1547.79 Q925.78 1547.79 922.609 1543.21 Q919.438 1538.6 919.438 1529.87 Q919.438 1521.68 923.327 1516.82 Q927.215 1511.93 933.766 1511.93 Q935.526 1511.93 937.308 1512.28 Q939.113 1512.63 941.058 1513.32 Z\" fill=\"#000000\" fill-rule=\"evenodd\" fill-opacity=\"1\" /><path clip-path=\"url(#clip280)\" d=\"M 0 0 M1232.51 1515.64 Q1228.9 1515.64 1227.07 1519.2 Q1225.27 1522.75 1225.27 1529.87 Q1225.27 1536.98 1227.07 1540.55 Q1228.9 1544.09 1232.51 1544.09 Q1236.15 1544.09 1237.95 1540.55 Q1239.78 1536.98 1239.78 1529.87 Q1239.78 1522.75 1237.95 1519.2 Q1236.15 1515.64 1232.51 1515.64 M1232.51 1511.93 Q1238.32 1511.93 1241.38 1516.54 Q1244.46 1521.12 1244.46 1529.87 Q1244.46 1538.6 1241.38 1543.21 Q1238.32 1547.79 1232.51 1547.79 Q1226.7 1547.79 1223.62 1543.21 Q1220.57 1538.6 1220.57 1529.87 Q1220.57 1521.12 1223.62 1516.54 Q1226.7 1511.93 1232.51 1511.93 Z\" fill=\"#000000\" fill-rule=\"evenodd\" fill-opacity=\"1\" /><path clip-path=\"url(#clip280)\" d=\"M 0 0 M1249.53 1541.24 L1254.41 1541.24 L1254.41 1547.12 L1249.53 1547.12 L1249.53 1541.24 Z\" fill=\"#000000\" fill-rule=\"evenodd\" fill-opacity=\"1\" /><path clip-path=\"url(#clip280)\" d=\"M 0 0 M1263.51 1543.18 L1279.83 1543.18 L1279.83 1547.12 L1257.88 1547.12 L1257.88 1543.18 Q1260.55 1540.43 1265.13 1535.8 Q1269.73 1531.15 1270.92 1529.81 Q1273.16 1527.28 1274.04 1525.55 Q1274.94 1523.79 1274.94 1522.1 Q1274.94 1519.34 1273 1517.61 Q1271.08 1515.87 1267.98 1515.87 Q1265.78 1515.87 1263.32 1516.63 Q1260.89 1517.4 1258.11 1518.95 L1258.11 1514.23 Q1260.94 1513.09 1263.39 1512.51 Q1265.85 1511.93 1267.88 1511.93 Q1273.25 1511.93 1276.45 1514.62 Q1279.64 1517.31 1279.64 1521.8 Q1279.64 1523.93 1278.83 1525.85 Q1278.05 1527.74 1275.94 1530.34 Q1275.36 1531.01 1272.26 1534.23 Q1269.16 1537.42 1263.51 1543.18 Z\" fill=\"#000000\" fill-rule=\"evenodd\" fill-opacity=\"1\" /><path clip-path=\"url(#clip280)\" d=\"M 0 0 M1283.72 1512.56 L1305.94 1512.56 L1305.94 1514.55 L1293.39 1547.12 L1288.51 1547.12 L1300.31 1516.5 L1283.72 1516.5 L1283.72 1512.56 Z\" fill=\"#000000\" fill-rule=\"evenodd\" fill-opacity=\"1\" /><path clip-path=\"url(#clip280)\" d=\"M 0 0 M1595.28 1515.64 Q1591.66 1515.64 1589.84 1519.2 Q1588.03 1522.75 1588.03 1529.87 Q1588.03 1536.98 1589.84 1540.55 Q1591.66 1544.09 1595.28 1544.09 Q1598.91 1544.09 1600.72 1540.55 Q1602.54 1536.98 1602.54 1529.87 Q1602.54 1522.75 1600.72 1519.2 Q1598.91 1515.64 1595.28 1515.64 M1595.28 1511.93 Q1601.09 1511.93 1604.14 1516.54 Q1607.22 1521.12 1607.22 1529.87 Q1607.22 1538.6 1604.14 1543.21 Q1601.09 1547.79 1595.28 1547.79 Q1589.47 1547.79 1586.39 1543.21 Q1583.33 1538.6 1583.33 1529.87 Q1583.33 1521.12 1586.39 1516.54 Q1589.47 1511.93 1595.28 1511.93 Z\" fill=\"#000000\" fill-rule=\"evenodd\" fill-opacity=\"1\" /><path clip-path=\"url(#clip280)\" d=\"M 0 0 M1612.29 1541.24 L1617.17 1541.24 L1617.17 1547.12 L1612.29 1547.12 L1612.29 1541.24 Z\" fill=\"#000000\" fill-rule=\"evenodd\" fill-opacity=\"1\" /><path clip-path=\"url(#clip280)\" d=\"M 0 0 M1626.27 1543.18 L1642.59 1543.18 L1642.59 1547.12 L1620.65 1547.12 L1620.65 1543.18 Q1623.31 1540.43 1627.89 1535.8 Q1632.5 1531.15 1633.68 1529.81 Q1635.92 1527.28 1636.8 1525.55 Q1637.71 1523.79 1637.71 1522.1 Q1637.71 1519.34 1635.76 1517.61 Q1633.84 1515.87 1630.74 1515.87 Q1628.54 1515.87 1626.09 1516.63 Q1623.65 1517.4 1620.88 1518.95 L1620.88 1514.23 Q1623.7 1513.09 1626.15 1512.51 Q1628.61 1511.93 1630.65 1511.93 Q1636.02 1511.93 1639.21 1514.62 Q1642.4 1517.31 1642.4 1521.8 Q1642.4 1523.93 1641.59 1525.85 Q1640.81 1527.74 1638.7 1530.34 Q1638.12 1531.01 1635.02 1534.23 Q1631.92 1537.42 1626.27 1543.18 Z\" fill=\"#000000\" fill-rule=\"evenodd\" fill-opacity=\"1\" /><path clip-path=\"url(#clip280)\" d=\"M 0 0 M1657.66 1530.71 Q1654.33 1530.71 1652.4 1532.49 Q1650.51 1534.27 1650.51 1537.4 Q1650.51 1540.52 1652.4 1542.31 Q1654.33 1544.09 1657.66 1544.09 Q1660.99 1544.09 1662.91 1542.31 Q1664.84 1540.5 1664.84 1537.4 Q1664.84 1534.27 1662.91 1532.49 Q1661.02 1530.71 1657.66 1530.71 M1652.98 1528.72 Q1649.97 1527.98 1648.28 1525.92 Q1646.62 1523.86 1646.62 1520.89 Q1646.62 1516.75 1649.56 1514.34 Q1652.52 1511.93 1657.66 1511.93 Q1662.82 1511.93 1665.76 1514.34 Q1668.7 1516.75 1668.7 1520.89 Q1668.7 1523.86 1667.01 1525.92 Q1665.34 1527.98 1662.36 1528.72 Q1665.74 1529.5 1667.61 1531.8 Q1669.51 1534.09 1669.51 1537.4 Q1669.51 1542.42 1666.43 1545.11 Q1663.38 1547.79 1657.66 1547.79 Q1651.94 1547.79 1648.86 1545.11 Q1645.81 1542.42 1645.81 1537.4 Q1645.81 1534.09 1647.71 1531.8 Q1649.6 1529.5 1652.98 1528.72 M1651.27 1521.33 Q1651.27 1524.02 1652.94 1525.52 Q1654.63 1527.03 1657.66 1527.03 Q1660.67 1527.03 1662.36 1525.52 Q1664.07 1524.02 1664.07 1521.33 Q1664.07 1518.65 1662.36 1517.14 Q1660.67 1515.64 1657.66 1515.64 Q1654.63 1515.64 1652.94 1517.14 Q1651.27 1518.65 1651.27 1521.33 Z\" fill=\"#000000\" fill-rule=\"evenodd\" fill-opacity=\"1\" /><path clip-path=\"url(#clip280)\" d=\"M 0 0 M1958.49 1515.64 Q1954.88 1515.64 1953.05 1519.2 Q1951.24 1522.75 1951.24 1529.87 Q1951.24 1536.98 1953.05 1540.55 Q1954.88 1544.09 1958.49 1544.09 Q1962.12 1544.09 1963.93 1540.55 Q1965.76 1536.98 1965.76 1529.87 Q1965.76 1522.75 1963.93 1519.2 Q1962.12 1515.64 1958.49 1515.64 M1958.49 1511.93 Q1964.3 1511.93 1967.35 1516.54 Q1970.43 1521.12 1970.43 1529.87 Q1970.43 1538.6 1967.35 1543.21 Q1964.3 1547.79 1958.49 1547.79 Q1952.68 1547.79 1949.6 1543.21 Q1946.54 1538.6 1946.54 1529.87 Q1946.54 1521.12 1949.6 1516.54 Q1952.68 1511.93 1958.49 1511.93 Z\" fill=\"#000000\" fill-rule=\"evenodd\" fill-opacity=\"1\" /><path clip-path=\"url(#clip280)\" d=\"M 0 0 M1975.5 1541.24 L1980.39 1541.24 L1980.39 1547.12 L1975.5 1547.12 L1975.5 1541.24 Z\" fill=\"#000000\" fill-rule=\"evenodd\" fill-opacity=\"1\" /><path clip-path=\"url(#clip280)\" d=\"M 0 0 M1989.48 1543.18 L2005.8 1543.18 L2005.8 1547.12 L1983.86 1547.12 L1983.86 1543.18 Q1986.52 1540.43 1991.1 1535.8 Q1995.71 1531.15 1996.89 1529.81 Q1999.14 1527.28 2000.02 1525.55 Q2000.92 1523.79 2000.92 1522.1 Q2000.92 1519.34 1998.97 1517.61 Q1997.05 1515.87 1993.95 1515.87 Q1991.75 1515.87 1989.3 1516.63 Q1986.87 1517.4 1984.09 1518.95 L1984.09 1514.23 Q1986.91 1513.09 1989.37 1512.51 Q1991.82 1511.93 1993.86 1511.93 Q1999.23 1511.93 2002.42 1514.62 Q2005.62 1517.31 2005.62 1521.8 Q2005.62 1523.93 2004.81 1525.85 Q2004.02 1527.74 2001.91 1530.34 Q2001.34 1531.01 1998.23 1534.23 Q1995.13 1537.42 1989.48 1543.18 Z\" fill=\"#000000\" fill-rule=\"evenodd\" fill-opacity=\"1\" /><path clip-path=\"url(#clip280)\" d=\"M 0 0 M2011.01 1546.4 L2011.01 1542.14 Q2012.77 1542.98 2014.58 1543.42 Q2016.38 1543.86 2018.12 1543.86 Q2022.75 1543.86 2025.18 1540.75 Q2027.63 1537.63 2027.98 1531.29 Q2026.64 1533.28 2024.58 1534.34 Q2022.52 1535.41 2020.02 1535.41 Q2014.83 1535.41 2011.8 1532.28 Q2008.79 1529.13 2008.79 1523.69 Q2008.79 1518.37 2011.94 1515.15 Q2015.09 1511.93 2020.32 1511.93 Q2026.31 1511.93 2029.46 1516.54 Q2032.63 1521.12 2032.63 1529.87 Q2032.63 1538.05 2028.74 1542.93 Q2024.88 1547.79 2018.33 1547.79 Q2016.57 1547.79 2014.76 1547.44 Q2012.96 1547.1 2011.01 1546.4 M2020.32 1531.75 Q2023.47 1531.75 2025.29 1529.6 Q2027.15 1527.44 2027.15 1523.69 Q2027.15 1519.97 2025.29 1517.81 Q2023.47 1515.64 2020.32 1515.64 Q2017.17 1515.64 2015.32 1517.81 Q2013.49 1519.97 2013.49 1523.69 Q2013.49 1527.44 2015.32 1529.6 Q2017.17 1531.75 2020.32 1531.75 Z\" fill=\"#000000\" fill-rule=\"evenodd\" fill-opacity=\"1\" /><path clip-path=\"url(#clip280)\" d=\"M 0 0 M2321.09 1515.64 Q2317.48 1515.64 2315.65 1519.2 Q2313.84 1522.75 2313.84 1529.87 Q2313.84 1536.98 2315.65 1540.55 Q2317.48 1544.09 2321.09 1544.09 Q2324.72 1544.09 2326.53 1540.55 Q2328.36 1536.98 2328.36 1529.87 Q2328.36 1522.75 2326.53 1519.2 Q2324.72 1515.64 2321.09 1515.64 M2321.09 1511.93 Q2326.9 1511.93 2329.96 1516.54 Q2333.03 1521.12 2333.03 1529.87 Q2333.03 1538.6 2329.96 1543.21 Q2326.9 1547.79 2321.09 1547.79 Q2315.28 1547.79 2312.2 1543.21 Q2309.15 1538.6 2309.15 1529.87 Q2309.15 1521.12 2312.2 1516.54 Q2315.28 1511.93 2321.09 1511.93 Z\" fill=\"#000000\" fill-rule=\"evenodd\" fill-opacity=\"1\" /><path clip-path=\"url(#clip280)\" d=\"M 0 0 M2338.1 1541.24 L2342.99 1541.24 L2342.99 1547.12 L2338.1 1547.12 L2338.1 1541.24 Z\" fill=\"#000000\" fill-rule=\"evenodd\" fill-opacity=\"1\" /><path clip-path=\"url(#clip280)\" d=\"M 0 0 M2362.22 1528.49 Q2365.58 1529.2 2367.45 1531.47 Q2369.35 1533.74 2369.35 1537.07 Q2369.35 1542.19 2365.83 1544.99 Q2362.32 1547.79 2355.83 1547.79 Q2353.66 1547.79 2351.34 1547.35 Q2349.05 1546.93 2346.6 1546.08 L2346.6 1541.56 Q2348.54 1542.7 2350.86 1543.28 Q2353.17 1543.86 2355.7 1543.86 Q2360.09 1543.86 2362.39 1542.12 Q2364.7 1540.38 2364.7 1537.07 Q2364.7 1534.02 2362.55 1532.31 Q2360.42 1530.57 2356.6 1530.57 L2352.57 1530.57 L2352.57 1526.73 L2356.78 1526.73 Q2360.23 1526.73 2362.06 1525.36 Q2363.89 1523.97 2363.89 1521.38 Q2363.89 1518.72 2361.99 1517.31 Q2360.12 1515.87 2356.6 1515.87 Q2354.68 1515.87 2352.48 1516.29 Q2350.28 1516.7 2347.64 1517.58 L2347.64 1513.42 Q2350.3 1512.68 2352.62 1512.31 Q2354.95 1511.93 2357.02 1511.93 Q2362.34 1511.93 2365.44 1514.37 Q2368.54 1516.77 2368.54 1520.89 Q2368.54 1523.76 2366.9 1525.75 Q2365.26 1527.72 2362.22 1528.49 Z\" fill=\"#000000\" fill-rule=\"evenodd\" fill-opacity=\"1\" /><path clip-path=\"url(#clip280)\" d=\"M 0 0 M2384.42 1515.64 Q2380.81 1515.64 2378.98 1519.2 Q2377.18 1522.75 2377.18 1529.87 Q2377.18 1536.98 2378.98 1540.55 Q2380.81 1544.09 2384.42 1544.09 Q2388.06 1544.09 2389.86 1540.55 Q2391.69 1536.98 2391.69 1529.87 Q2391.69 1522.75 2389.86 1519.2 Q2388.06 1515.64 2384.42 1515.64 M2384.42 1511.93 Q2390.23 1511.93 2393.29 1516.54 Q2396.37 1521.12 2396.37 1529.87 Q2396.37 1538.6 2393.29 1543.21 Q2390.23 1547.79 2384.42 1547.79 Q2378.61 1547.79 2375.53 1543.21 Q2372.48 1538.6 2372.48 1529.87 Q2372.48 1521.12 2375.53 1516.54 Q2378.61 1511.93 2384.42 1511.93 Z\" fill=\"#000000\" fill-rule=\"evenodd\" fill-opacity=\"1\" /><polyline clip-path=\"url(#clip282)\" style=\"stroke:#000000; stroke-width:2; stroke-opacity:0.1; fill:none\" points=\"\n",
       "  173.751,1486.45 2352.76,1486.45 \n",
       "  \"/>\n",
       "<polyline clip-path=\"url(#clip282)\" style=\"stroke:#000000; stroke-width:2; stroke-opacity:0.1; fill:none\" points=\"\n",
       "  173.751,1126.65 2352.76,1126.65 \n",
       "  \"/>\n",
       "<polyline clip-path=\"url(#clip282)\" style=\"stroke:#000000; stroke-width:2; stroke-opacity:0.1; fill:none\" points=\"\n",
       "  173.751,766.846 2352.76,766.846 \n",
       "  \"/>\n",
       "<polyline clip-path=\"url(#clip282)\" style=\"stroke:#000000; stroke-width:2; stroke-opacity:0.1; fill:none\" points=\"\n",
       "  173.751,407.045 2352.76,407.045 \n",
       "  \"/>\n",
       "<polyline clip-path=\"url(#clip282)\" style=\"stroke:#000000; stroke-width:2; stroke-opacity:0.1; fill:none\" points=\"\n",
       "  173.751,47.2441 2352.76,47.2441 \n",
       "  \"/>\n",
       "<polyline clip-path=\"url(#clip280)\" style=\"stroke:#000000; stroke-width:4; stroke-opacity:1; fill:none\" points=\"\n",
       "  173.751,1486.45 173.751,47.2441 \n",
       "  \"/>\n",
       "<polyline clip-path=\"url(#clip280)\" style=\"stroke:#000000; stroke-width:4; stroke-opacity:1; fill:none\" points=\"\n",
       "  173.751,1486.45 199.899,1486.45 \n",
       "  \"/>\n",
       "<polyline clip-path=\"url(#clip280)\" style=\"stroke:#000000; stroke-width:4; stroke-opacity:1; fill:none\" points=\"\n",
       "  173.751,1126.65 199.899,1126.65 \n",
       "  \"/>\n",
       "<polyline clip-path=\"url(#clip280)\" style=\"stroke:#000000; stroke-width:4; stroke-opacity:1; fill:none\" points=\"\n",
       "  173.751,766.846 199.899,766.846 \n",
       "  \"/>\n",
       "<polyline clip-path=\"url(#clip280)\" style=\"stroke:#000000; stroke-width:4; stroke-opacity:1; fill:none\" points=\"\n",
       "  173.751,407.045 199.899,407.045 \n",
       "  \"/>\n",
       "<polyline clip-path=\"url(#clip280)\" style=\"stroke:#000000; stroke-width:4; stroke-opacity:1; fill:none\" points=\"\n",
       "  173.751,47.2441 199.899,47.2441 \n",
       "  \"/>\n",
       "<path clip-path=\"url(#clip280)\" d=\"M 0 0 M65.0198 1472.25 Q61.4087 1472.25 59.58 1475.81 Q57.7745 1479.35 57.7745 1486.48 Q57.7745 1493.59 59.58 1497.15 Q61.4087 1500.7 65.0198 1500.7 Q68.6541 1500.7 70.4596 1497.15 Q72.2883 1493.59 72.2883 1486.48 Q72.2883 1479.35 70.4596 1475.81 Q68.6541 1472.25 65.0198 1472.25 M65.0198 1468.54 Q70.83 1468.54 73.8855 1473.15 Q76.9642 1477.73 76.9642 1486.48 Q76.9642 1495.21 73.8855 1499.82 Q70.83 1504.4 65.0198 1504.4 Q59.2097 1504.4 56.131 1499.82 Q53.0754 1495.21 53.0754 1486.48 Q53.0754 1477.73 56.131 1473.15 Q59.2097 1468.54 65.0198 1468.54 Z\" fill=\"#000000\" fill-rule=\"evenodd\" fill-opacity=\"1\" /><path clip-path=\"url(#clip280)\" d=\"M 0 0 M82.0336 1497.85 L86.9179 1497.85 L86.9179 1503.73 L82.0336 1503.73 L82.0336 1497.85 Z\" fill=\"#000000\" fill-rule=\"evenodd\" fill-opacity=\"1\" /><path clip-path=\"url(#clip280)\" d=\"M 0 0 M96.015 1499.79 L112.334 1499.79 L112.334 1503.73 L90.3901 1503.73 L90.3901 1499.79 Q93.0521 1497.04 97.6354 1492.41 Q102.242 1487.76 103.422 1486.41 Q105.668 1483.89 106.547 1482.15 Q107.45 1480.39 107.45 1478.7 Q107.45 1475.95 105.506 1474.21 Q103.584 1472.48 100.483 1472.48 Q98.2835 1472.48 95.8298 1473.24 Q93.3993 1474.01 90.6215 1475.56 L90.6215 1470.83 Q93.4456 1469.7 95.8993 1469.12 Q98.353 1468.54 100.39 1468.54 Q105.76 1468.54 108.955 1471.23 Q112.149 1473.91 112.149 1478.4 Q112.149 1480.53 111.339 1482.45 Q110.552 1484.35 108.446 1486.95 Q107.867 1487.62 104.765 1490.83 Q101.663 1494.03 96.015 1499.79 Z\" fill=\"#000000\" fill-rule=\"evenodd\" fill-opacity=\"1\" /><path clip-path=\"url(#clip280)\" d=\"M 0 0 M121.432 1499.79 L137.751 1499.79 L137.751 1503.73 L115.807 1503.73 L115.807 1499.79 Q118.469 1497.04 123.052 1492.41 Q127.658 1487.76 128.839 1486.41 Q131.084 1483.89 131.964 1482.15 Q132.867 1480.39 132.867 1478.7 Q132.867 1475.95 130.922 1474.21 Q129.001 1472.48 125.899 1472.48 Q123.7 1472.48 121.246 1473.24 Q118.816 1474.01 116.038 1475.56 L116.038 1470.83 Q118.862 1469.7 121.316 1469.12 Q123.77 1468.54 125.807 1468.54 Q131.177 1468.54 134.371 1471.23 Q137.566 1473.91 137.566 1478.4 Q137.566 1480.53 136.756 1482.45 Q135.969 1484.35 133.862 1486.95 Q133.283 1487.62 130.182 1490.83 Q127.08 1494.03 121.432 1499.79 Z\" fill=\"#000000\" fill-rule=\"evenodd\" fill-opacity=\"1\" /><path clip-path=\"url(#clip280)\" d=\"M 0 0 M64.0708 1112.45 Q60.4597 1112.45 58.631 1116.01 Q56.8254 1119.55 56.8254 1126.68 Q56.8254 1133.79 58.631 1137.35 Q60.4597 1140.89 64.0708 1140.89 Q67.705 1140.89 69.5105 1137.35 Q71.3392 1133.79 71.3392 1126.68 Q71.3392 1119.55 69.5105 1116.01 Q67.705 1112.45 64.0708 1112.45 M64.0708 1108.74 Q69.8809 1108.74 72.9365 1113.35 Q76.0151 1117.93 76.0151 1126.68 Q76.0151 1135.41 72.9365 1140.01 Q69.8809 1144.6 64.0708 1144.6 Q58.2606 1144.6 55.1819 1140.01 Q52.1264 1135.41 52.1264 1126.68 Q52.1264 1117.93 55.1819 1113.35 Q58.2606 1108.74 64.0708 1108.74 Z\" fill=\"#000000\" fill-rule=\"evenodd\" fill-opacity=\"1\" /><path clip-path=\"url(#clip280)\" d=\"M 0 0 M81.0846 1138.05 L85.9688 1138.05 L85.9688 1143.93 L81.0846 1143.93 L81.0846 1138.05 Z\" fill=\"#000000\" fill-rule=\"evenodd\" fill-opacity=\"1\" /><path clip-path=\"url(#clip280)\" d=\"M 0 0 M95.066 1139.99 L111.385 1139.99 L111.385 1143.93 L89.441 1143.93 L89.441 1139.99 Q92.103 1137.24 96.6863 1132.61 Q101.293 1127.95 102.473 1126.61 Q104.719 1124.09 105.598 1122.35 Q106.501 1120.59 106.501 1118.9 Q106.501 1116.15 104.557 1114.41 Q102.635 1112.68 99.5335 1112.68 Q97.3345 1112.68 94.8808 1113.44 Q92.4502 1114.2 89.6725 1115.76 L89.6725 1111.03 Q92.4965 1109.9 94.9502 1109.32 Q97.4039 1108.74 99.4409 1108.74 Q104.811 1108.74 108.006 1111.43 Q111.2 1114.11 111.2 1118.6 Q111.2 1120.73 110.39 1122.65 Q109.603 1124.55 107.496 1127.14 Q106.918 1127.82 103.816 1131.03 Q100.714 1134.23 95.066 1139.99 Z\" fill=\"#000000\" fill-rule=\"evenodd\" fill-opacity=\"1\" /><path clip-path=\"url(#clip280)\" d=\"M 0 0 M130.621 1125.29 Q133.978 1126.01 135.853 1128.28 Q137.751 1130.55 137.751 1133.88 Q137.751 1139 134.232 1141.8 Q130.714 1144.6 124.232 1144.6 Q122.057 1144.6 119.742 1144.16 Q117.45 1143.74 114.996 1142.89 L114.996 1138.37 Q116.941 1139.51 119.256 1140.08 Q121.57 1140.66 124.094 1140.66 Q128.492 1140.66 130.783 1138.93 Q133.098 1137.19 133.098 1133.88 Q133.098 1130.83 130.945 1129.11 Q128.816 1127.38 124.996 1127.38 L120.969 1127.38 L120.969 1123.53 L125.182 1123.53 Q128.631 1123.53 130.459 1122.17 Q132.288 1120.78 132.288 1118.19 Q132.288 1115.52 130.39 1114.11 Q128.515 1112.68 124.996 1112.68 Q123.075 1112.68 120.876 1113.09 Q118.677 1113.51 116.038 1114.39 L116.038 1110.22 Q118.7 1109.48 121.015 1109.11 Q123.353 1108.74 125.413 1108.74 Q130.737 1108.74 133.839 1111.17 Q136.941 1113.58 136.941 1117.7 Q136.941 1120.57 135.297 1122.56 Q133.654 1124.53 130.621 1125.29 Z\" fill=\"#000000\" fill-rule=\"evenodd\" fill-opacity=\"1\" /><path clip-path=\"url(#clip280)\" d=\"M 0 0 M62.9365 752.645 Q59.3254 752.645 57.4967 756.209 Q55.6912 759.751 55.6912 766.881 Q55.6912 773.987 57.4967 777.552 Q59.3254 781.094 62.9365 781.094 Q66.5707 781.094 68.3763 777.552 Q70.205 773.987 70.205 766.881 Q70.205 759.751 68.3763 756.209 Q66.5707 752.645 62.9365 752.645 M62.9365 748.941 Q68.7467 748.941 71.8022 753.547 Q74.8809 758.131 74.8809 766.881 Q74.8809 775.608 71.8022 780.214 Q68.7467 784.797 62.9365 784.797 Q57.1264 784.797 54.0477 780.214 Q50.9921 775.608 50.9921 766.881 Q50.9921 758.131 54.0477 753.547 Q57.1264 748.941 62.9365 748.941 Z\" fill=\"#000000\" fill-rule=\"evenodd\" fill-opacity=\"1\" /><path clip-path=\"url(#clip280)\" d=\"M 0 0 M79.9503 778.246 L84.8345 778.246 L84.8345 784.126 L79.9503 784.126 L79.9503 778.246 Z\" fill=\"#000000\" fill-rule=\"evenodd\" fill-opacity=\"1\" /><path clip-path=\"url(#clip280)\" d=\"M 0 0 M93.9317 780.191 L110.251 780.191 L110.251 784.126 L88.3067 784.126 L88.3067 780.191 Q90.9688 777.436 95.5521 772.807 Q100.159 768.154 101.339 766.811 Q103.584 764.288 104.464 762.552 Q105.367 760.793 105.367 759.103 Q105.367 756.348 103.422 754.612 Q101.501 752.876 98.3993 752.876 Q96.2002 752.876 93.7465 753.64 Q91.316 754.404 88.5382 755.955 L88.5382 751.233 Q91.3623 750.098 93.816 749.52 Q96.2697 748.941 98.3067 748.941 Q103.677 748.941 106.871 751.626 Q110.066 754.311 110.066 758.802 Q110.066 760.932 109.256 762.853 Q108.469 764.751 106.362 767.344 Q105.783 768.015 102.682 771.233 Q99.5798 774.427 93.9317 780.191 Z\" fill=\"#000000\" fill-rule=\"evenodd\" fill-opacity=\"1\" /><path clip-path=\"url(#clip280)\" d=\"M 0 0 M128.168 753.64 L116.362 772.089 L128.168 772.089 L128.168 753.64 M126.941 749.566 L132.82 749.566 L132.82 772.089 L137.751 772.089 L137.751 775.978 L132.82 775.978 L132.82 784.126 L128.168 784.126 L128.168 775.978 L112.566 775.978 L112.566 771.464 L126.941 749.566 Z\" fill=\"#000000\" fill-rule=\"evenodd\" fill-opacity=\"1\" /><path clip-path=\"url(#clip280)\" d=\"M 0 0 M64.418 392.844 Q60.8069 392.844 58.9782 396.409 Q57.1726 399.95 57.1726 407.08 Q57.1726 414.186 58.9782 417.751 Q60.8069 421.293 64.418 421.293 Q68.0522 421.293 69.8578 417.751 Q71.6865 414.186 71.6865 407.08 Q71.6865 399.95 69.8578 396.409 Q68.0522 392.844 64.418 392.844 M64.418 389.14 Q70.2281 389.14 73.2837 393.746 Q76.3624 398.33 76.3624 407.08 Q76.3624 415.807 73.2837 420.413 Q70.2281 424.996 64.418 424.996 Q58.6078 424.996 55.5291 420.413 Q52.4736 415.807 52.4736 407.08 Q52.4736 398.33 55.5291 393.746 Q58.6078 389.14 64.418 389.14 Z\" fill=\"#000000\" fill-rule=\"evenodd\" fill-opacity=\"1\" /><path clip-path=\"url(#clip280)\" d=\"M 0 0 M81.4318 418.445 L86.316 418.445 L86.316 424.325 L81.4318 424.325 L81.4318 418.445 Z\" fill=\"#000000\" fill-rule=\"evenodd\" fill-opacity=\"1\" /><path clip-path=\"url(#clip280)\" d=\"M 0 0 M95.4132 420.39 L111.733 420.39 L111.733 424.325 L89.7882 424.325 L89.7882 420.39 Q92.4502 417.635 97.0335 413.006 Q101.64 408.353 102.821 407.01 Q105.066 404.487 105.946 402.751 Q106.848 400.992 106.848 399.302 Q106.848 396.547 104.904 394.811 Q102.983 393.075 99.8808 393.075 Q97.6817 393.075 95.228 393.839 Q92.7975 394.603 90.0197 396.154 L90.0197 391.432 Q92.8438 390.297 95.2974 389.719 Q97.7511 389.14 99.7882 389.14 Q105.159 389.14 108.353 391.825 Q111.547 394.51 111.547 399.001 Q111.547 401.131 110.737 403.052 Q109.95 404.95 107.844 407.543 Q107.265 408.214 104.163 411.432 Q101.061 414.626 95.4132 420.39 Z\" fill=\"#000000\" fill-rule=\"evenodd\" fill-opacity=\"1\" /><path clip-path=\"url(#clip280)\" d=\"M 0 0 M116.848 389.765 L135.205 389.765 L135.205 393.7 L121.131 393.7 L121.131 402.172 Q122.149 401.825 123.168 401.663 Q124.186 401.478 125.205 401.478 Q130.992 401.478 134.371 404.649 Q137.751 407.82 137.751 413.237 Q137.751 418.816 134.279 421.918 Q130.807 424.996 124.487 424.996 Q122.311 424.996 120.043 424.626 Q117.797 424.256 115.39 423.515 L115.39 418.816 Q117.473 419.95 119.695 420.506 Q121.918 421.061 124.395 421.061 Q128.399 421.061 130.737 418.955 Q133.075 416.848 133.075 413.237 Q133.075 409.626 130.737 407.52 Q128.399 405.413 124.395 405.413 Q122.52 405.413 120.645 405.83 Q118.793 406.246 116.848 407.126 L116.848 389.765 Z\" fill=\"#000000\" fill-rule=\"evenodd\" fill-opacity=\"1\" /><path clip-path=\"url(#clip280)\" d=\"M 0 0 M63.2606 33.0428 Q59.6495 33.0428 57.8208 36.6076 Q56.0152 40.1492 56.0152 47.2788 Q56.0152 54.3853 57.8208 57.9501 Q59.6495 61.4917 63.2606 61.4917 Q66.8948 61.4917 68.7004 57.9501 Q70.5291 54.3853 70.5291 47.2788 Q70.5291 40.1492 68.7004 36.6076 Q66.8948 33.0428 63.2606 33.0428 M63.2606 29.3391 Q69.0707 29.3391 72.1263 33.9456 Q75.205 38.5289 75.205 47.2788 Q75.205 56.0056 72.1263 60.6121 Q69.0707 65.1954 63.2606 65.1954 Q57.4504 65.1954 54.3717 60.6121 Q51.3162 56.0056 51.3162 47.2788 Q51.3162 38.5289 54.3717 33.9456 Q57.4504 29.3391 63.2606 29.3391 Z\" fill=\"#000000\" fill-rule=\"evenodd\" fill-opacity=\"1\" /><path clip-path=\"url(#clip280)\" d=\"M 0 0 M80.2744 58.6445 L85.1586 58.6445 L85.1586 64.5241 L80.2744 64.5241 L80.2744 58.6445 Z\" fill=\"#000000\" fill-rule=\"evenodd\" fill-opacity=\"1\" /><path clip-path=\"url(#clip280)\" d=\"M 0 0 M94.2558 60.5889 L110.575 60.5889 L110.575 64.5241 L88.6308 64.5241 L88.6308 60.5889 Q91.2928 57.8343 95.8761 53.2047 Q100.483 48.552 101.663 47.2094 Q103.909 44.6862 104.788 42.9501 Q105.691 41.1909 105.691 39.5011 Q105.691 36.7465 103.746 35.0104 Q101.825 33.2743 98.7234 33.2743 Q96.5243 33.2743 94.0706 34.0381 Q91.6401 34.802 88.8623 36.3529 L88.8623 31.6308 Q91.6864 30.4965 94.14 29.9178 Q96.5937 29.3391 98.6308 29.3391 Q104.001 29.3391 107.196 32.0243 Q110.39 34.7094 110.39 39.2002 Q110.39 41.3298 109.58 43.2511 Q108.793 45.1492 106.686 47.7418 Q106.108 48.4131 103.006 51.6306 Q99.9039 54.8251 94.2558 60.5889 Z\" fill=\"#000000\" fill-rule=\"evenodd\" fill-opacity=\"1\" /><path clip-path=\"url(#clip280)\" d=\"M 0 0 M126.223 45.3807 Q123.075 45.3807 121.223 47.5334 Q119.395 49.6862 119.395 53.4362 Q119.395 57.163 121.223 59.3389 Q123.075 61.4917 126.223 61.4917 Q129.371 61.4917 131.2 59.3389 Q133.052 57.163 133.052 53.4362 Q133.052 49.6862 131.2 47.5334 Q129.371 45.3807 126.223 45.3807 M135.506 30.728 L135.506 34.9872 Q133.746 34.1539 131.941 33.7141 Q130.158 33.2743 128.399 33.2743 Q123.77 33.2743 121.316 36.3992 Q118.885 39.5242 118.538 45.8436 Q119.904 43.8298 121.964 42.765 Q124.024 41.677 126.501 41.677 Q131.709 41.677 134.719 44.8483 Q137.751 47.9964 137.751 53.4362 Q137.751 58.7602 134.603 61.9778 Q131.455 65.1954 126.223 65.1954 Q120.228 65.1954 117.057 60.6121 Q113.885 56.0056 113.885 47.2788 Q113.885 39.0844 117.774 34.2233 Q121.663 29.3391 128.214 29.3391 Q129.973 29.3391 131.756 29.6863 Q133.561 30.0335 135.506 30.728 Z\" fill=\"#000000\" fill-rule=\"evenodd\" fill-opacity=\"1\" /><polyline clip-path=\"url(#clip282)\" style=\"stroke:#009af9; stroke-width:4; stroke-opacity:1; fill:none\" points=\"\n",
       "  27360.2,9366.09 24602.1,9006.29 22435.2,8646.49 20533.6,8286.69 18809.4,7926.88 17219.8,7567.08 15739,7207.28 14350.2,6847.48 13041,6487.68 11802.4,6127.88 \n",
       "  10627.3,5768.08 9509.88,5408.28 8445.67,5048.48 7430.77,4688.68 6461.93,4328.88 5536.39,3969.07 4651.73,3609.27 3805.89,3249.47 2997.02,2889.67 2223.52,2529.87 \n",
       "  1483.93,2170.07 776.977,1810.27 101.507,1450.47 -543.522,1090.67 -1159.05,730.866 -1745.92,371.065 -2304.93,11.264 -2836.76,-348.537 -3342.07,-708.338 -3821.44,-1068.14 \n",
       "  -4275.41,-1427.94 -4704.48,-1787.74 -5109.09,-2147.54 -5489.66,-2507.34 -5846.56,-2867.14 -6180.15,-3226.94 -6490.74,-3586.75 -6778.61,-3946.55 -7044.03,-4306.35 -7287.23,-4666.15 \n",
       "  -7508.42,-5025.95 -7707.8,-5385.75 -7885.54,-5745.55 -8041.78,-6105.35 -8176.65,-6465.15 -8290.27,-6824.95 -8382.72,-7184.75 -8454.09,-7544.56 -8504.43,-7904.36 -8533.78,-8264.16 \n",
       "  \n",
       "  \"/>\n",
       "<polyline clip-path=\"url(#clip282)\" style=\"stroke:#e26f46; stroke-width:4; stroke-opacity:1; fill:none\" points=\"\n",
       "  27360.2,9196.84 24602.1,7830.6 22435.2,6757.19 20533.6,5815.17 18809.4,4961.07 17219.8,4173.62 15739,3440.13 14350.2,2752.15 13041,2103.63 11802.4,1490.07 \n",
       "  10627.3,907.932 9509.88,354.426 8445.67,-172.748 7430.77,-675.494 6461.93,-1155.42 5536.39,-1613.91 4651.73,-2052.13 3805.89,-2471.13 2997.02,-2871.82 2223.52,-3254.99 \n",
       "  1483.93,-3621.35 776.977,-3971.55 101.507,-4306.15 -543.522,-4625.68 -1159.05,-4930.59 -1745.92,-5221.31 -2304.93,-5498.22 -2836.76,-5761.67 -3342.07,-6011.98 -3821.44,-6249.44 \n",
       "  -4275.41,-6474.33 -4704.48,-6686.87 -5109.09,-6887.3 -5489.66,-7075.82 -5846.56,-7252.62 -6180.15,-7417.87 -6490.74,-7571.72 -6778.61,-7714.32 -7044.03,-7845.8 -7287.23,-7966.28 \n",
       "  -7508.42,-8075.85 -7707.8,-8174.61 -7885.54,-8262.66 -8041.78,-8340.05 -8176.65,-8406.86 -8290.27,-8463.15 -8382.72,-8508.95 -8454.09,-8544.3 -8504.43,-8569.24 -8533.78,-8583.77 \n",
       "  \n",
       "  \"/>\n",
       "<polyline clip-path=\"url(#clip282)\" style=\"stroke:#808080; stroke-width:4; stroke-opacity:1; fill:none\" stroke-dasharray=\"16, 10\" points=\"\n",
       "  -8179.1,-6956.19 -7815.93,-6272.68 -7452.77,-5742.95 -7089.6,-5292 -6726.43,-4890.87 -6363.26,-4524.76 -6000.1,-4184.89 -5636.93,-3865.58 -5273.76,-3562.87 -4910.59,-3273.92 \n",
       "  -4547.43,-2996.56 -4184.26,-2729.13 -3821.09,-2470.3 -3457.92,-2218.99 -3094.76,-1974.33 -2731.59,-1735.59 -2368.42,-1502.15 -2005.25,-1273.47 -1642.09,-1049.1 -1278.92,-828.647 \n",
       "  -915.752,-611.765 -552.584,-398.15 -189.417,-187.531 173.751,20.3319 536.918,225.654 900.086,428.628 1263.25,629.431 1626.42,828.221 1989.59,1025.14 2352.76,1220.33 \n",
       "  2715.92,1413.9 3079.09,1605.97 3442.26,1796.64 3805.43,1958.38 4168.59,2105.91 4531.76,2253.25 4894.93,2400.43 5258.1,2547.48 5621.26,2694.43 5984.43,2841.32 \n",
       "  6347.6,2988.16 6710.77,3134.98 7073.93,3281.8 7437.1,3428.65 7800.27,3575.55 8163.44,3722.51 8526.6,3869.55 8889.77,4016.69 9252.94,4163.95 9616.11,4311.34 \n",
       "  9979.27,4436.87 10342.4,4563.2 10705.6,4690.32 11068.8,4818.25 11431.9,4946.99 11795.1,5076.54 12158.3,5206.89 12521.4,5338.06 12884.6,5470.04 13247.8,5602.83 \n",
       "  13610.9,5720.81 13974.1,5840.09 14337.3,5960.65 14700.5,6082.48 15063.6,6205.58 15426.8,6329.95 15790,6451.16 16153.1,6565.08 16516.3,6680.65 16879.5,6797.86 \n",
       "  17242.6,6916.7 17605.8,7030.51 17969,7141.23 18332.1,7253.94 18695.3,7368.64 19058.5,7474.87 19421.6,7583.45 19784.8,7692.22 20148,7796.05 20511.1,7902.57 \n",
       "  20874.3,8003.06 21237.5,8105.13 21600.6,8203.75 21963.8,8300.79 22327,8396.32 22690.1,8489.64 23053.3,8580.54 23416.5,8669.13 23779.6,8755.18 24142.8,8838.4 \n",
       "  24506,8918.14 24869.1,8994.77 25232.3,9067.37 25595.5,9135.89 25958.6,9199.63 26321.8,9257.77 26685,9309.34 27048.1,9352.88 27411.3,9385.84 \n",
       "  \"/>\n",
       "<polyline clip-path=\"url(#clip282)\" style=\"stroke:#ff00ff; stroke-width:4; stroke-opacity:1; fill:none\" points=\"\n",
       "  3563.31,1859.9 3442.26,1829.82 3321.2,1799.69 3200.15,1769.51 3079.09,1739.27 2958.04,1708.99 2836.98,1678.65 2715.92,1648.25 2594.87,1617.8 2473.81,1587.3 \n",
       "  2352.76,1556.75 2231.7,1526.14 2110.64,1495.47 1989.59,1464.75 1868.53,1433.98 1747.48,1403.14 1626.42,1372.26 1505.37,1341.31 1384.31,1310.31 1263.25,1279.25 \n",
       "  1142.2,1248.13 1021.14,1216.95 900.086,1185.72 779.03,1154.43 657.974,1123.07 536.918,1091.66 415.863,1060.19 294.807,1028.66 173.751,997.062 52.6951,965.406 \n",
       "  -68.3607,933.689 -189.417,901.909 -310.472,870.067 -431.528,838.161 -552.584,806.192 -673.64,774.159 -794.696,742.062 -915.752,709.899 -1036.81,677.671 -1157.86,645.377 \n",
       "  -1278.92,613.017 -1399.97,580.59 -1521.03,548.095 -1642.09,515.532 -1763.14,482.901 -1884.2,450.201 -2005.25,417.431 -2126.31,384.592 -2247.37,351.681 -2368.42,318.699 \n",
       "  -2489.48,285.646 -2610.53,252.52 -2731.59,219.321 -2852.64,186.048 -2973.7,152.701 -3094.76,119.279 -3215.81,85.7818 -3336.87,52.2081 -3457.92,18.5576 -3578.98,-15.1706 \n",
       "  -3700.04,-48.9771 -3821.09,-82.8625 -3942.15,-116.828 -4063.2,-150.873 -4184.26,-185 -4305.31,-219.209 -4426.37,-253.501 -4547.43,-287.876 -4668.48,-322.336 -4789.54,-356.881 \n",
       "  -4910.59,-391.512 -5031.65,-426.23 -5152.71,-461.036 -5273.76,-495.931 -5394.82,-530.916 -5515.87,-565.991 -5636.93,-601.158 -5757.98,-636.417 -5879.04,-671.77 -6000.1,-707.218 \n",
       "  -6121.15,-742.761 -6242.21,-778.402 -6363.26,-814.14 -6484.32,-849.977 -6605.38,-885.915 -6726.43,-921.953 -6847.49,-958.095 -6968.54,-994.34 -7089.6,-1030.69 -7210.65,-1067.15 \n",
       "  -7331.71,-1103.71 -7452.77,-1140.39 -7573.82,-1177.17 -7694.88,-1214.07 -7815.93,-1251.08 -7936.99,-1288.2 -8058.05,-1325.44 -8179.1,-1362.8 -8300.16,-1400.28 -8421.21,-1437.88 \n",
       "  -8542.27,-1475.6 \n",
       "  \"/>\n",
       "<polyline clip-path=\"url(#clip282)\" style=\"stroke:#000000; stroke-width:4; stroke-opacity:1; fill:none\" points=\"\n",
       "  1142.2,1106.66 1142.2,876.785 \n",
       "  \"/>\n",
       "<line clip-path=\"url(#clip282)\" x1=\"1158.2\" y1=\"1106.66\" x2=\"1126.2\" y2=\"1106.66\" style=\"stroke:#000000; stroke-width:3.2; stroke-opacity:1\"/>\n",
       "<line clip-path=\"url(#clip282)\" x1=\"1158.2\" y1=\"876.785\" x2=\"1126.2\" y2=\"876.785\" style=\"stroke:#000000; stroke-width:3.2; stroke-opacity:1\"/>\n",
       "<circle clip-path=\"url(#clip282)\" cx=\"1142.2\" cy=\"991.722\" r=\"14\" fill=\"#ffffe0\" fill-rule=\"evenodd\" fill-opacity=\"1\" stroke=\"#000000\" stroke-opacity=\"1\" stroke-width=\"3.2\"/>\n",
       "<path clip-path=\"url(#clip280)\" d=\"\n",
       "M1496.46 458.098 L2280.12 458.098 L2280.12 95.2176 L1496.46 95.2176  Z\n",
       "  \" fill=\"#ffffff\" fill-rule=\"evenodd\" fill-opacity=\"1\"/>\n",
       "<polyline clip-path=\"url(#clip280)\" style=\"stroke:#000000; stroke-width:4; stroke-opacity:1; fill:none\" points=\"\n",
       "  1496.46,458.098 2280.12,458.098 2280.12,95.2176 1496.46,95.2176 1496.46,458.098 \n",
       "  \"/>\n",
       "<polyline clip-path=\"url(#clip280)\" style=\"stroke:#009af9; stroke-width:4; stroke-opacity:1; fill:none\" points=\"\n",
       "  1520.67,155.698 1665.94,155.698 \n",
       "  \"/>\n",
       "<path clip-path=\"url(#clip280)\" d=\"M 0 0 M1690.15 138.418 L1694.83 138.418 L1694.83 172.978 L1690.15 172.978 L1690.15 138.418 Z\" fill=\"#000000\" fill-rule=\"evenodd\" fill-opacity=\"1\" /><path clip-path=\"url(#clip280)\" d=\"M 0 0 M1720.85 157.329 L1720.85 172.978 L1716.59 172.978 L1716.59 157.468 Q1716.59 153.788 1715.15 151.959 Q1713.72 150.13 1710.85 150.13 Q1707.4 150.13 1705.41 152.33 Q1703.42 154.529 1703.42 158.325 L1703.42 172.978 L1699.13 172.978 L1699.13 147.052 L1703.42 147.052 L1703.42 151.08 Q1704.94 148.742 1707 147.584 Q1709.09 146.427 1711.8 146.427 Q1716.26 146.427 1718.55 149.205 Q1720.85 151.959 1720.85 157.329 Z\" fill=\"#000000\" fill-rule=\"evenodd\" fill-opacity=\"1\" /><path clip-path=\"url(#clip280)\" d=\"M 0 0 M1738.44 136.959 L1738.44 140.501 L1734.36 140.501 Q1732.07 140.501 1731.17 141.427 Q1730.29 142.353 1730.29 144.76 L1730.29 147.052 L1737.3 147.052 L1737.3 150.362 L1730.29 150.362 L1730.29 172.978 L1726.01 172.978 L1726.01 150.362 L1721.93 150.362 L1721.93 147.052 L1726.01 147.052 L1726.01 145.246 Q1726.01 140.918 1728.02 138.95 Q1730.04 136.959 1734.41 136.959 L1738.44 136.959 Z\" fill=\"#000000\" fill-rule=\"evenodd\" fill-opacity=\"1\" /><path clip-path=\"url(#clip280)\" d=\"M 0 0 M1752.95 150.038 Q1749.53 150.038 1747.54 152.723 Q1745.55 155.385 1745.55 160.038 Q1745.55 164.691 1747.51 167.376 Q1749.5 170.038 1752.95 170.038 Q1756.36 170.038 1758.35 167.353 Q1760.34 164.667 1760.34 160.038 Q1760.34 155.431 1758.35 152.746 Q1756.36 150.038 1752.95 150.038 M1752.95 146.427 Q1758.51 146.427 1761.68 150.038 Q1764.85 153.649 1764.85 160.038 Q1764.85 166.404 1761.68 170.038 Q1758.51 173.649 1752.95 173.649 Q1747.37 173.649 1744.2 170.038 Q1741.05 166.404 1741.05 160.038 Q1741.05 153.649 1744.2 150.038 Q1747.37 146.427 1752.95 146.427 Z\" fill=\"#000000\" fill-rule=\"evenodd\" fill-opacity=\"1\" /><path clip-path=\"url(#clip280)\" d=\"M 0 0 M1784.34 151.033 Q1783.62 150.617 1782.77 150.431 Q1781.93 150.223 1780.92 150.223 Q1777.3 150.223 1775.36 152.584 Q1773.44 154.922 1773.44 159.32 L1773.44 172.978 L1769.16 172.978 L1769.16 147.052 L1773.44 147.052 L1773.44 151.08 Q1774.78 148.718 1776.93 147.584 Q1779.09 146.427 1782.17 146.427 Q1782.61 146.427 1783.14 146.496 Q1783.67 146.543 1784.32 146.658 L1784.34 151.033 Z\" fill=\"#000000\" fill-rule=\"evenodd\" fill-opacity=\"1\" /><path clip-path=\"url(#clip280)\" d=\"M 0 0 M1808.16 152.029 Q1809.76 149.158 1811.98 147.793 Q1814.2 146.427 1817.21 146.427 Q1821.26 146.427 1823.46 149.274 Q1825.66 152.098 1825.66 157.329 L1825.66 172.978 L1821.38 172.978 L1821.38 157.468 Q1821.38 153.742 1820.06 151.936 Q1818.74 150.13 1816.03 150.13 Q1812.72 150.13 1810.8 152.33 Q1808.88 154.529 1808.88 158.325 L1808.88 172.978 L1804.6 172.978 L1804.6 157.468 Q1804.6 153.718 1803.28 151.936 Q1801.96 150.13 1799.2 150.13 Q1795.94 150.13 1794.02 152.353 Q1792.1 154.552 1792.1 158.325 L1792.1 172.978 L1787.81 172.978 L1787.81 147.052 L1792.1 147.052 L1792.1 151.08 Q1793.55 148.695 1795.59 147.561 Q1797.63 146.427 1800.43 146.427 Q1803.25 146.427 1805.22 147.862 Q1807.21 149.297 1808.16 152.029 Z\" fill=\"#000000\" fill-rule=\"evenodd\" fill-opacity=\"1\" /><path clip-path=\"url(#clip280)\" d=\"M 0 0 M1841.91 159.945 Q1836.75 159.945 1834.76 161.126 Q1832.77 162.306 1832.77 165.154 Q1832.77 167.422 1834.25 168.765 Q1835.75 170.084 1838.32 170.084 Q1841.86 170.084 1843.99 167.584 Q1846.15 165.061 1846.15 160.894 L1846.15 159.945 L1841.91 159.945 M1850.41 158.186 L1850.41 172.978 L1846.15 172.978 L1846.15 169.042 Q1844.69 171.403 1842.51 172.538 Q1840.34 173.649 1837.19 173.649 Q1833.21 173.649 1830.85 171.427 Q1828.51 169.181 1828.51 165.431 Q1828.51 161.056 1831.42 158.834 Q1834.36 156.612 1840.17 156.612 L1846.15 156.612 L1846.15 156.195 Q1846.15 153.255 1844.2 151.658 Q1842.28 150.038 1838.79 150.038 Q1836.56 150.038 1834.46 150.57 Q1832.35 151.103 1830.41 152.167 L1830.41 148.232 Q1832.74 147.33 1834.94 146.89 Q1837.14 146.427 1839.23 146.427 Q1844.85 146.427 1847.63 149.343 Q1850.41 152.26 1850.41 158.186 Z\" fill=\"#000000\" fill-rule=\"evenodd\" fill-opacity=\"1\" /><path clip-path=\"url(#clip280)\" d=\"M 0 0 M1859.09 139.691 L1859.09 147.052 L1867.86 147.052 L1867.86 150.362 L1859.09 150.362 L1859.09 164.436 Q1859.09 167.607 1859.94 168.51 Q1860.82 169.413 1863.48 169.413 L1867.86 169.413 L1867.86 172.978 L1863.48 172.978 Q1858.55 172.978 1856.68 171.149 Q1854.8 169.297 1854.8 164.436 L1854.8 150.362 L1851.68 150.362 L1851.68 147.052 L1854.8 147.052 L1854.8 139.691 L1859.09 139.691 Z\" fill=\"#000000\" fill-rule=\"evenodd\" fill-opacity=\"1\" /><path clip-path=\"url(#clip280)\" d=\"M 0 0 M1872.33 147.052 L1876.59 147.052 L1876.59 172.978 L1872.33 172.978 L1872.33 147.052 M1872.33 136.959 L1876.59 136.959 L1876.59 142.353 L1872.33 142.353 L1872.33 136.959 Z\" fill=\"#000000\" fill-rule=\"evenodd\" fill-opacity=\"1\" /><path clip-path=\"url(#clip280)\" d=\"M 0 0 M1891.1 150.038 Q1887.67 150.038 1885.68 152.723 Q1883.69 155.385 1883.69 160.038 Q1883.69 164.691 1885.66 167.376 Q1887.65 170.038 1891.1 170.038 Q1894.5 170.038 1896.49 167.353 Q1898.48 164.667 1898.48 160.038 Q1898.48 155.431 1896.49 152.746 Q1894.5 150.038 1891.1 150.038 M1891.1 146.427 Q1896.66 146.427 1899.83 150.038 Q1903 153.649 1903 160.038 Q1903 166.404 1899.83 170.038 Q1896.66 173.649 1891.1 173.649 Q1885.52 173.649 1882.35 170.038 Q1879.2 166.404 1879.2 160.038 Q1879.2 153.649 1882.35 150.038 Q1885.52 146.427 1891.1 146.427 Z\" fill=\"#000000\" fill-rule=\"evenodd\" fill-opacity=\"1\" /><path clip-path=\"url(#clip280)\" d=\"M 0 0 M1929.02 157.329 L1929.02 172.978 L1924.76 172.978 L1924.76 157.468 Q1924.76 153.788 1923.32 151.959 Q1921.89 150.13 1919.02 150.13 Q1915.57 150.13 1913.58 152.33 Q1911.59 154.529 1911.59 158.325 L1911.59 172.978 L1907.3 172.978 L1907.3 147.052 L1911.59 147.052 L1911.59 151.08 Q1913.11 148.742 1915.17 147.584 Q1917.26 146.427 1919.97 146.427 Q1924.43 146.427 1926.72 149.205 Q1929.02 151.959 1929.02 157.329 Z\" fill=\"#000000\" fill-rule=\"evenodd\" fill-opacity=\"1\" /><path clip-path=\"url(#clip280)\" d=\"M 0 0 M1967.16 160.038 Q1967.16 155.339 1965.22 152.677 Q1963.3 149.992 1959.92 149.992 Q1956.54 149.992 1954.6 152.677 Q1952.67 155.339 1952.67 160.038 Q1952.67 164.737 1954.6 167.422 Q1956.54 170.084 1959.92 170.084 Q1963.3 170.084 1965.22 167.422 Q1967.16 164.737 1967.16 160.038 M1952.67 150.987 Q1954.02 148.672 1956.05 147.561 Q1958.11 146.427 1960.96 146.427 Q1965.68 146.427 1968.62 150.177 Q1971.59 153.927 1971.59 160.038 Q1971.59 166.149 1968.62 169.899 Q1965.68 173.649 1960.96 173.649 Q1958.11 173.649 1956.05 172.538 Q1954.02 171.403 1952.67 169.089 L1952.67 172.978 L1948.39 172.978 L1948.39 136.959 L1952.67 136.959 L1952.67 150.987 Z\" fill=\"#000000\" fill-rule=\"evenodd\" fill-opacity=\"1\" /><path clip-path=\"url(#clip280)\" d=\"M 0 0 M1986.1 150.038 Q1982.67 150.038 1980.68 152.723 Q1978.69 155.385 1978.69 160.038 Q1978.69 164.691 1980.66 167.376 Q1982.65 170.038 1986.1 170.038 Q1989.5 170.038 1991.49 167.353 Q1993.48 164.667 1993.48 160.038 Q1993.48 155.431 1991.49 152.746 Q1989.5 150.038 1986.1 150.038 M1986.1 146.427 Q1991.66 146.427 1994.83 150.038 Q1998 153.649 1998 160.038 Q1998 166.404 1994.83 170.038 Q1991.66 173.649 1986.1 173.649 Q1980.52 173.649 1977.35 170.038 Q1974.2 166.404 1974.2 160.038 Q1974.2 153.649 1977.35 150.038 Q1980.52 146.427 1986.1 146.427 Z\" fill=\"#000000\" fill-rule=\"evenodd\" fill-opacity=\"1\" /><path clip-path=\"url(#clip280)\" d=\"M 0 0 M2002.03 162.746 L2002.03 147.052 L2006.28 147.052 L2006.28 162.584 Q2006.28 166.265 2007.72 168.116 Q2009.15 169.945 2012.03 169.945 Q2015.47 169.945 2017.47 167.746 Q2019.48 165.547 2019.48 161.751 L2019.48 147.052 L2023.74 147.052 L2023.74 172.978 L2019.48 172.978 L2019.48 168.996 Q2017.93 171.357 2015.87 172.515 Q2013.83 173.649 2011.12 173.649 Q2006.65 173.649 2004.34 170.871 Q2002.03 168.093 2002.03 162.746 M2012.74 146.427 L2012.74 146.427 Z\" fill=\"#000000\" fill-rule=\"evenodd\" fill-opacity=\"1\" /><path clip-path=\"url(#clip280)\" d=\"M 0 0 M2049.76 157.329 L2049.76 172.978 L2045.5 172.978 L2045.5 157.468 Q2045.5 153.788 2044.06 151.959 Q2042.63 150.13 2039.76 150.13 Q2036.31 150.13 2034.32 152.33 Q2032.33 154.529 2032.33 158.325 L2032.33 172.978 L2028.04 172.978 L2028.04 147.052 L2032.33 147.052 L2032.33 151.08 Q2033.85 148.742 2035.91 147.584 Q2038 146.427 2040.71 146.427 Q2045.17 146.427 2047.46 149.205 Q2049.76 151.959 2049.76 157.329 Z\" fill=\"#000000\" fill-rule=\"evenodd\" fill-opacity=\"1\" /><path clip-path=\"url(#clip280)\" d=\"M 0 0 M2071.28 150.987 L2071.28 136.959 L2075.54 136.959 L2075.54 172.978 L2071.28 172.978 L2071.28 169.089 Q2069.94 171.403 2067.88 172.538 Q2065.84 173.649 2062.97 173.649 Q2058.28 173.649 2055.31 169.899 Q2052.37 166.149 2052.37 160.038 Q2052.37 153.927 2055.31 150.177 Q2058.28 146.427 2062.97 146.427 Q2065.84 146.427 2067.88 147.561 Q2069.94 148.672 2071.28 150.987 M2056.77 160.038 Q2056.77 164.737 2058.69 167.422 Q2060.64 170.084 2064.02 170.084 Q2067.4 170.084 2069.34 167.422 Q2071.28 164.737 2071.28 160.038 Q2071.28 155.339 2069.34 152.677 Q2067.4 149.992 2064.02 149.992 Q2060.64 149.992 2058.69 152.677 Q2056.77 155.339 2056.77 160.038 Z\" fill=\"#000000\" fill-rule=\"evenodd\" fill-opacity=\"1\" /><polyline clip-path=\"url(#clip280)\" style=\"stroke:#e26f46; stroke-width:4; stroke-opacity:1; fill:none\" points=\"\n",
       "  1520.67,216.178 1665.94,216.178 \n",
       "  \"/>\n",
       "<path clip-path=\"url(#clip280)\" d=\"M 0 0 M1690.15 198.898 L1696.45 198.898 L1711.77 227.809 L1711.77 198.898 L1716.31 198.898 L1716.31 233.458 L1710.01 233.458 L1694.69 204.546 L1694.69 233.458 L1690.15 233.458 L1690.15 198.898 Z\" fill=\"#000000\" fill-rule=\"evenodd\" fill-opacity=\"1\" /><path clip-path=\"url(#clip280)\" d=\"M 0 0 M1732.56 220.425 Q1727.4 220.425 1725.41 221.606 Q1723.42 222.786 1723.42 225.634 Q1723.42 227.902 1724.9 229.245 Q1726.4 230.564 1728.97 230.564 Q1732.51 230.564 1734.64 228.064 Q1736.8 225.541 1736.8 221.374 L1736.8 220.425 L1732.56 220.425 M1741.05 218.666 L1741.05 233.458 L1736.8 233.458 L1736.8 229.522 Q1735.34 231.883 1733.16 233.018 Q1730.99 234.129 1727.84 234.129 Q1723.86 234.129 1721.49 231.907 Q1719.16 229.661 1719.16 225.911 Q1719.16 221.536 1722.07 219.314 Q1725.01 217.092 1730.82 217.092 L1736.8 217.092 L1736.8 216.675 Q1736.8 213.735 1734.85 212.138 Q1732.93 210.518 1729.43 210.518 Q1727.21 210.518 1725.11 211.05 Q1723 211.583 1721.05 212.647 L1721.05 208.712 Q1723.39 207.81 1725.59 207.37 Q1727.79 206.907 1729.87 206.907 Q1735.5 206.907 1738.28 209.823 Q1741.05 212.74 1741.05 218.666 Z\" fill=\"#000000\" fill-rule=\"evenodd\" fill-opacity=\"1\" /><path clip-path=\"url(#clip280)\" d=\"M 0 0 M1745.52 207.532 L1749.78 207.532 L1749.78 233.458 L1745.52 233.458 L1745.52 207.532 M1745.52 197.439 L1749.78 197.439 L1749.78 202.833 L1745.52 202.833 L1745.52 197.439 Z\" fill=\"#000000\" fill-rule=\"evenodd\" fill-opacity=\"1\" /><path clip-path=\"url(#clip280)\" d=\"M 0 0 M1751.19 207.532 L1755.71 207.532 L1763.81 229.291 L1771.91 207.532 L1776.42 207.532 L1766.7 233.458 L1760.92 233.458 L1751.19 207.532 Z\" fill=\"#000000\" fill-rule=\"evenodd\" fill-opacity=\"1\" /><path clip-path=\"url(#clip280)\" d=\"M 0 0 M1803.07 219.43 L1803.07 221.513 L1783.48 221.513 Q1783.76 225.911 1786.12 228.226 Q1788.51 230.518 1792.74 230.518 Q1795.2 230.518 1797.49 229.916 Q1799.8 229.314 1802.07 228.11 L1802.07 232.138 Q1799.78 233.11 1797.37 233.62 Q1794.97 234.129 1792.49 234.129 Q1786.29 234.129 1782.65 230.518 Q1779.04 226.907 1779.04 220.749 Q1779.04 214.384 1782.47 210.657 Q1785.92 206.907 1791.75 206.907 Q1796.98 206.907 1800.01 210.286 Q1803.07 213.643 1803.07 219.43 M1798.81 218.18 Q1798.76 214.685 1796.84 212.601 Q1794.94 210.518 1791.8 210.518 Q1788.23 210.518 1786.08 212.532 Q1783.95 214.546 1783.62 218.203 L1798.81 218.18 Z\" fill=\"#000000\" fill-rule=\"evenodd\" fill-opacity=\"1\" /><path clip-path=\"url(#clip280)\" d=\"M 0 0 M1841.26 208.527 L1841.26 212.509 Q1839.46 211.513 1837.63 211.027 Q1835.82 210.518 1833.97 210.518 Q1829.83 210.518 1827.54 213.157 Q1825.24 215.772 1825.24 220.518 Q1825.24 225.263 1827.54 227.902 Q1829.83 230.518 1833.97 230.518 Q1835.82 230.518 1837.63 230.032 Q1839.46 229.522 1841.26 228.527 L1841.26 232.462 Q1839.48 233.296 1837.56 233.712 Q1835.66 234.129 1833.51 234.129 Q1827.65 234.129 1824.2 230.448 Q1820.75 226.768 1820.75 220.518 Q1820.75 214.175 1824.23 210.541 Q1827.72 206.907 1833.79 206.907 Q1835.75 206.907 1837.63 207.323 Q1839.5 207.717 1841.26 208.527 Z\" fill=\"#000000\" fill-rule=\"evenodd\" fill-opacity=\"1\" /><path clip-path=\"url(#clip280)\" d=\"M 0 0 M1855.78 210.518 Q1852.35 210.518 1850.36 213.203 Q1848.37 215.865 1848.37 220.518 Q1848.37 225.171 1850.34 227.856 Q1852.33 230.518 1855.78 230.518 Q1859.18 230.518 1861.17 227.833 Q1863.16 225.147 1863.16 220.518 Q1863.16 215.911 1861.17 213.226 Q1859.18 210.518 1855.78 210.518 M1855.78 206.907 Q1861.33 206.907 1864.5 210.518 Q1867.67 214.129 1867.67 220.518 Q1867.67 226.884 1864.5 230.518 Q1861.33 234.129 1855.78 234.129 Q1850.2 234.129 1847.03 230.518 Q1843.88 226.884 1843.88 220.518 Q1843.88 214.129 1847.03 210.518 Q1850.2 206.907 1855.78 206.907 Z\" fill=\"#000000\" fill-rule=\"evenodd\" fill-opacity=\"1\" /><path clip-path=\"url(#clip280)\" d=\"M 0 0 M1892.33 212.509 Q1893.92 209.638 1896.15 208.273 Q1898.37 206.907 1901.38 206.907 Q1905.43 206.907 1907.63 209.754 Q1909.83 212.578 1909.83 217.809 L1909.83 233.458 L1905.54 233.458 L1905.54 217.948 Q1905.54 214.222 1904.22 212.416 Q1902.91 210.61 1900.2 210.61 Q1896.89 210.61 1894.97 212.81 Q1893.04 215.009 1893.04 218.805 L1893.04 233.458 L1888.76 233.458 L1888.76 217.948 Q1888.76 214.198 1887.44 212.416 Q1886.12 210.61 1883.37 210.61 Q1880.1 210.61 1878.18 212.833 Q1876.26 215.032 1876.26 218.805 L1876.26 233.458 L1871.98 233.458 L1871.98 207.532 L1876.26 207.532 L1876.26 211.56 Q1877.72 209.175 1879.76 208.041 Q1881.79 206.907 1884.6 206.907 Q1887.42 206.907 1889.39 208.342 Q1891.38 209.777 1892.33 212.509 Z\" fill=\"#000000\" fill-rule=\"evenodd\" fill-opacity=\"1\" /><path clip-path=\"url(#clip280)\" d=\"M 0 0 M1918.41 229.569 L1918.41 243.319 L1914.13 243.319 L1914.13 207.532 L1918.41 207.532 L1918.41 211.467 Q1919.76 209.152 1921.79 208.041 Q1923.85 206.907 1926.7 206.907 Q1931.42 206.907 1934.36 210.657 Q1937.33 214.407 1937.33 220.518 Q1937.33 226.629 1934.36 230.379 Q1931.42 234.129 1926.7 234.129 Q1923.85 234.129 1921.79 233.018 Q1919.76 231.883 1918.41 229.569 M1932.91 220.518 Q1932.91 215.819 1930.96 213.157 Q1929.04 210.472 1925.66 210.472 Q1922.28 210.472 1920.34 213.157 Q1918.41 215.819 1918.41 220.518 Q1918.41 225.217 1920.34 227.902 Q1922.28 230.564 1925.66 230.564 Q1929.04 230.564 1930.96 227.902 Q1932.91 225.217 1932.91 220.518 Z\" fill=\"#000000\" fill-rule=\"evenodd\" fill-opacity=\"1\" /><path clip-path=\"url(#clip280)\" d=\"M 0 0 M1956.82 211.513 Q1956.1 211.097 1955.24 210.911 Q1954.41 210.703 1953.39 210.703 Q1949.78 210.703 1947.84 213.064 Q1945.91 215.402 1945.91 219.8 L1945.91 233.458 L1941.63 233.458 L1941.63 207.532 L1945.91 207.532 L1945.91 211.56 Q1947.26 209.198 1949.41 208.064 Q1951.56 206.907 1954.64 206.907 Q1955.08 206.907 1955.61 206.976 Q1956.15 207.023 1956.79 207.138 L1956.82 211.513 Z\" fill=\"#000000\" fill-rule=\"evenodd\" fill-opacity=\"1\" /><path clip-path=\"url(#clip280)\" d=\"M 0 0 M1982.42 219.43 L1982.42 221.513 L1962.84 221.513 Q1963.11 225.911 1965.47 228.226 Q1967.86 230.518 1972.09 230.518 Q1974.55 230.518 1976.84 229.916 Q1979.16 229.314 1981.42 228.11 L1981.42 232.138 Q1979.13 233.11 1976.72 233.62 Q1974.32 234.129 1971.84 234.129 Q1965.64 234.129 1962 230.518 Q1958.39 226.907 1958.39 220.749 Q1958.39 214.384 1961.82 210.657 Q1965.27 206.907 1971.1 206.907 Q1976.33 206.907 1979.36 210.286 Q1982.42 213.643 1982.42 219.43 M1978.16 218.18 Q1978.11 214.685 1976.19 212.601 Q1974.29 210.518 1971.15 210.518 Q1967.58 210.518 1965.43 212.532 Q1963.3 214.546 1962.97 218.203 L1978.16 218.18 Z\" fill=\"#000000\" fill-rule=\"evenodd\" fill-opacity=\"1\" /><path clip-path=\"url(#clip280)\" d=\"M 0 0 M2003.41 208.296 L2003.41 212.323 Q2001.61 211.397 1999.66 210.935 Q1997.72 210.472 1995.64 210.472 Q1992.47 210.472 1990.87 211.444 Q1989.29 212.416 1989.29 214.36 Q1989.29 215.842 1990.43 216.698 Q1991.56 217.532 1994.99 218.296 L1996.45 218.62 Q2000.98 219.592 2002.88 221.374 Q2004.8 223.134 2004.8 226.305 Q2004.8 229.916 2001.93 232.022 Q1999.09 234.129 1994.09 234.129 Q1992 234.129 1989.73 233.712 Q1987.49 233.319 1984.99 232.508 L1984.99 228.11 Q1987.35 229.337 1989.64 229.962 Q1991.93 230.564 1994.18 230.564 Q1997.19 230.564 1998.81 229.546 Q2000.43 228.504 2000.43 226.629 Q2000.43 224.893 1999.25 223.967 Q1998.09 223.041 1994.13 222.184 L1992.65 221.837 Q1988.69 221.004 1986.93 219.291 Q1985.17 217.555 1985.17 214.546 Q1985.17 210.888 1987.77 208.898 Q1990.36 206.907 1995.13 206.907 Q1997.49 206.907 1999.57 207.254 Q2001.66 207.601 2003.41 208.296 Z\" fill=\"#000000\" fill-rule=\"evenodd\" fill-opacity=\"1\" /><path clip-path=\"url(#clip280)\" d=\"M 0 0 M2025.8 208.296 L2025.8 212.323 Q2023.99 211.397 2022.05 210.935 Q2020.1 210.472 2018.02 210.472 Q2014.85 210.472 2013.25 211.444 Q2011.68 212.416 2011.68 214.36 Q2011.68 215.842 2012.81 216.698 Q2013.95 217.532 2017.37 218.296 L2018.83 218.62 Q2023.37 219.592 2025.27 221.374 Q2027.19 223.134 2027.19 226.305 Q2027.19 229.916 2024.32 232.022 Q2021.47 234.129 2016.47 234.129 Q2014.39 234.129 2012.12 233.712 Q2009.87 233.319 2007.37 232.508 L2007.37 228.11 Q2009.73 229.337 2012.03 229.962 Q2014.32 230.564 2016.56 230.564 Q2019.57 230.564 2021.19 229.546 Q2022.81 228.504 2022.81 226.629 Q2022.81 224.893 2021.63 223.967 Q2020.47 223.041 2016.52 222.184 L2015.03 221.837 Q2011.08 221.004 2009.32 219.291 Q2007.56 217.555 2007.56 214.546 Q2007.56 210.888 2010.15 208.898 Q2012.74 206.907 2017.51 206.907 Q2019.87 206.907 2021.96 207.254 Q2024.04 207.601 2025.8 208.296 Z\" fill=\"#000000\" fill-rule=\"evenodd\" fill-opacity=\"1\" /><path clip-path=\"url(#clip280)\" d=\"M 0 0 M2031.65 207.532 L2035.91 207.532 L2035.91 233.458 L2031.65 233.458 L2031.65 207.532 M2031.65 197.439 L2035.91 197.439 L2035.91 202.833 L2031.65 202.833 L2031.65 197.439 Z\" fill=\"#000000\" fill-rule=\"evenodd\" fill-opacity=\"1\" /><path clip-path=\"url(#clip280)\" d=\"M 0 0 M2050.43 210.518 Q2047 210.518 2045.01 213.203 Q2043.02 215.865 2043.02 220.518 Q2043.02 225.171 2044.99 227.856 Q2046.98 230.518 2050.43 230.518 Q2053.83 230.518 2055.82 227.833 Q2057.81 225.147 2057.81 220.518 Q2057.81 215.911 2055.82 213.226 Q2053.83 210.518 2050.43 210.518 M2050.43 206.907 Q2055.98 206.907 2059.15 210.518 Q2062.33 214.129 2062.33 220.518 Q2062.33 226.884 2059.15 230.518 Q2055.98 234.129 2050.43 234.129 Q2044.85 234.129 2041.68 230.518 Q2038.53 226.884 2038.53 220.518 Q2038.53 214.129 2041.68 210.518 Q2044.85 206.907 2050.43 206.907 Z\" fill=\"#000000\" fill-rule=\"evenodd\" fill-opacity=\"1\" /><path clip-path=\"url(#clip280)\" d=\"M 0 0 M2088.34 217.809 L2088.34 233.458 L2084.09 233.458 L2084.09 217.948 Q2084.09 214.268 2082.65 212.439 Q2081.21 210.61 2078.34 210.61 Q2074.9 210.61 2072.9 212.81 Q2070.91 215.009 2070.91 218.805 L2070.91 233.458 L2066.63 233.458 L2066.63 207.532 L2070.91 207.532 L2070.91 211.56 Q2072.44 209.222 2074.5 208.064 Q2076.59 206.907 2079.29 206.907 Q2083.76 206.907 2086.05 209.685 Q2088.34 212.439 2088.34 217.809 Z\" fill=\"#000000\" fill-rule=\"evenodd\" fill-opacity=\"1\" /><polyline clip-path=\"url(#clip280)\" style=\"stroke:#808080; stroke-width:4; stroke-opacity:1; fill:none\" stroke-dasharray=\"16, 10\" points=\"\n",
       "  1520.67,276.658 1665.94,276.658 \n",
       "  \"/>\n",
       "<path clip-path=\"url(#clip280)\" d=\"M 0 0 M1706.54 277.734 Q1708.05 278.243 1709.46 279.91 Q1710.89 281.577 1712.33 284.493 L1717.07 293.938 L1712.05 293.938 L1707.63 285.072 Q1705.92 281.6 1704.3 280.465 Q1702.7 279.331 1699.92 279.331 L1694.83 279.331 L1694.83 293.938 L1690.15 293.938 L1690.15 259.378 L1700.71 259.378 Q1706.63 259.378 1709.55 261.854 Q1712.47 264.331 1712.47 269.331 Q1712.47 272.595 1710.94 274.748 Q1709.43 276.901 1706.54 277.734 M1694.83 263.22 L1694.83 275.489 L1700.71 275.489 Q1704.09 275.489 1705.8 273.938 Q1707.54 272.364 1707.54 269.331 Q1707.54 266.299 1705.8 264.771 Q1704.09 263.22 1700.71 263.22 L1694.83 263.22 Z\" fill=\"#000000\" fill-rule=\"evenodd\" fill-opacity=\"1\" /><path clip-path=\"url(#clip280)\" d=\"M 0 0 M1742.44 260.512 L1742.44 265.072 Q1739.78 263.799 1737.42 263.174 Q1735.06 262.549 1732.86 262.549 Q1729.04 262.549 1726.96 264.03 Q1724.9 265.512 1724.9 268.243 Q1724.9 270.535 1726.26 271.715 Q1727.65 272.873 1731.49 273.59 L1734.32 274.169 Q1739.55 275.165 1742.03 277.688 Q1744.53 280.188 1744.53 284.401 Q1744.53 289.424 1741.15 292.016 Q1737.79 294.609 1731.29 294.609 Q1728.83 294.609 1726.05 294.053 Q1723.3 293.498 1720.34 292.41 L1720.34 287.595 Q1723.18 289.192 1725.92 290.002 Q1728.65 290.813 1731.29 290.813 Q1735.29 290.813 1737.47 289.239 Q1739.64 287.664 1739.64 284.748 Q1739.64 282.202 1738.07 280.766 Q1736.52 279.331 1732.95 278.614 L1730.11 278.058 Q1724.87 277.016 1722.54 274.794 Q1720.2 272.572 1720.2 268.614 Q1720.2 264.03 1723.42 261.391 Q1726.66 258.753 1732.33 258.753 Q1734.76 258.753 1737.28 259.192 Q1739.8 259.632 1742.44 260.512 Z\" fill=\"#000000\" fill-rule=\"evenodd\" fill-opacity=\"1\" /><path clip-path=\"url(#clip280)\" d=\"M 0 0 M1761.91 279.053 L1774.39 279.053 L1774.39 282.85 L1761.91 282.85 L1761.91 279.053 Z\" fill=\"#000000\" fill-rule=\"evenodd\" fill-opacity=\"1\" /><path clip-path=\"url(#clip280)\" d=\"M 0 0 M1807.05 257.919 L1807.05 261.461 L1802.98 261.461 Q1800.68 261.461 1799.78 262.387 Q1798.9 263.313 1798.9 265.72 L1798.9 268.012 L1805.92 268.012 L1805.92 271.322 L1798.9 271.322 L1798.9 293.938 L1794.62 293.938 L1794.62 271.322 L1790.55 271.322 L1790.55 268.012 L1794.62 268.012 L1794.62 266.206 Q1794.62 261.878 1796.63 259.91 Q1798.65 257.919 1803.02 257.919 L1807.05 257.919 Z\" fill=\"#000000\" fill-rule=\"evenodd\" fill-opacity=\"1\" /><path clip-path=\"url(#clip280)\" d=\"M 0 0 M1826.29 275.303 Q1829.64 276.021 1831.52 278.289 Q1833.42 280.558 1833.42 283.891 Q1833.42 289.007 1829.9 291.808 Q1826.38 294.609 1819.9 294.609 Q1817.72 294.609 1815.41 294.169 Q1813.11 293.752 1810.66 292.896 L1810.66 288.382 Q1812.61 289.516 1814.92 290.095 Q1817.23 290.674 1819.76 290.674 Q1824.16 290.674 1826.45 288.938 Q1828.76 287.201 1828.76 283.891 Q1828.76 280.836 1826.61 279.123 Q1824.48 277.387 1820.66 277.387 L1816.63 277.387 L1816.63 273.544 L1820.85 273.544 Q1824.29 273.544 1826.12 272.178 Q1827.95 270.79 1827.95 268.197 Q1827.95 265.535 1826.05 264.123 Q1824.18 262.688 1820.66 262.688 Q1818.74 262.688 1816.54 263.104 Q1814.34 263.521 1811.7 264.401 L1811.7 260.234 Q1814.36 259.493 1816.68 259.123 Q1819.02 258.753 1821.08 258.753 Q1826.4 258.753 1829.5 261.183 Q1832.6 263.59 1832.6 267.711 Q1832.6 270.581 1830.96 272.572 Q1829.32 274.54 1826.29 275.303 Z\" fill=\"#000000\" fill-rule=\"evenodd\" fill-opacity=\"1\" /><path clip-path=\"url(#clip280)\" d=\"M 0 0 M1838.44 272.41 L1868.11 272.41 L1868.11 276.299 L1838.44 276.299 L1838.44 272.41 M1838.44 281.854 L1868.11 281.854 L1868.11 285.789 L1838.44 285.789 L1838.44 281.854 Z\" fill=\"#000000\" fill-rule=\"evenodd\" fill-opacity=\"1\" /><path clip-path=\"url(#clip280)\" d=\"M 0 0 M1883.18 262.456 Q1879.57 262.456 1877.74 266.021 Q1875.94 269.563 1875.94 276.692 Q1875.94 283.799 1877.74 287.364 Q1879.57 290.905 1883.18 290.905 Q1886.82 290.905 1888.62 287.364 Q1890.45 283.799 1890.45 276.692 Q1890.45 269.563 1888.62 266.021 Q1886.82 262.456 1883.18 262.456 M1883.18 258.753 Q1888.99 258.753 1892.05 263.359 Q1895.13 267.942 1895.13 276.692 Q1895.13 285.419 1892.05 290.026 Q1888.99 294.609 1883.18 294.609 Q1877.37 294.609 1874.29 290.026 Q1871.24 285.419 1871.24 276.692 Q1871.24 267.942 1874.29 263.359 Q1877.37 258.753 1883.18 258.753 Z\" fill=\"#000000\" fill-rule=\"evenodd\" fill-opacity=\"1\" /><polyline clip-path=\"url(#clip280)\" style=\"stroke:#ff00ff; stroke-width:4; stroke-opacity:1; fill:none\" points=\"\n",
       "  1520.67,337.138 1665.94,337.138 \n",
       "  \"/>\n",
       "<path clip-path=\"url(#clip280)\" d=\"M 0 0 M1706.54 338.214 Q1708.05 338.723 1709.46 340.39 Q1710.89 342.057 1712.33 344.973 L1717.07 354.418 L1712.05 354.418 L1707.63 345.552 Q1705.92 342.08 1704.3 340.945 Q1702.7 339.811 1699.92 339.811 L1694.83 339.811 L1694.83 354.418 L1690.15 354.418 L1690.15 319.858 L1700.71 319.858 Q1706.63 319.858 1709.55 322.334 Q1712.47 324.811 1712.47 329.811 Q1712.47 333.075 1710.94 335.228 Q1709.43 337.381 1706.54 338.214 M1694.83 323.7 L1694.83 335.969 L1700.71 335.969 Q1704.09 335.969 1705.8 334.418 Q1707.54 332.844 1707.54 329.811 Q1707.54 326.779 1705.8 325.251 Q1704.09 323.7 1700.71 323.7 L1694.83 323.7 Z\" fill=\"#000000\" fill-rule=\"evenodd\" fill-opacity=\"1\" /><path clip-path=\"url(#clip280)\" d=\"M 0 0 M1742.44 320.992 L1742.44 325.552 Q1739.78 324.279 1737.42 323.654 Q1735.06 323.029 1732.86 323.029 Q1729.04 323.029 1726.96 324.51 Q1724.9 325.992 1724.9 328.723 Q1724.9 331.015 1726.26 332.195 Q1727.65 333.353 1731.49 334.07 L1734.32 334.649 Q1739.55 335.645 1742.03 338.168 Q1744.53 340.668 1744.53 344.881 Q1744.53 349.904 1741.15 352.496 Q1737.79 355.089 1731.29 355.089 Q1728.83 355.089 1726.05 354.533 Q1723.3 353.978 1720.34 352.89 L1720.34 348.075 Q1723.18 349.672 1725.92 350.482 Q1728.65 351.293 1731.29 351.293 Q1735.29 351.293 1737.47 349.719 Q1739.64 348.144 1739.64 345.228 Q1739.64 342.682 1738.07 341.246 Q1736.52 339.811 1732.95 339.094 L1730.11 338.538 Q1724.87 337.496 1722.54 335.274 Q1720.2 333.052 1720.2 329.094 Q1720.2 324.51 1723.42 321.871 Q1726.66 319.233 1732.33 319.233 Q1734.76 319.233 1737.28 319.672 Q1739.8 320.112 1742.44 320.992 Z\" fill=\"#000000\" fill-rule=\"evenodd\" fill-opacity=\"1\" /><path clip-path=\"url(#clip280)\" d=\"M 0 0 M1764.25 319.858 L1768.92 319.858 L1768.92 334.464 L1784.43 319.858 L1790.45 319.858 L1773.3 335.969 L1791.68 354.418 L1785.52 354.418 L1768.92 337.774 L1768.92 354.418 L1764.25 354.418 L1764.25 319.858 Z\" fill=\"#000000\" fill-rule=\"evenodd\" fill-opacity=\"1\" /><path clip-path=\"url(#clip280)\" d=\"M 0 0 M1796.7 332.89 L1826.38 332.89 L1826.38 336.779 L1796.7 336.779 L1796.7 332.89 M1796.7 342.334 L1826.38 342.334 L1826.38 346.269 L1796.7 346.269 L1796.7 342.334 Z\" fill=\"#000000\" fill-rule=\"evenodd\" fill-opacity=\"1\" /><path clip-path=\"url(#clip280)\" d=\"M 0 0 M1849.62 324.395 Q1847.26 322.774 1841.73 322.774 Q1835.87 322.774 1835.87 325.483 Q1835.87 327.612 1841.98 328.723 Q1846.79 329.58 1849.5 332.172 Q1852.79 335.297 1852.79 341.709 Q1852.79 347.844 1849.62 351.455 Q1846.45 355.089 1840.89 355.089 Q1835.36 355.089 1832.17 351.455 Q1828.99 347.844 1828.99 341.478 Q1828.99 336.756 1832.17 332.936 Q1833.39 331.455 1835.13 330.621 Q1831.52 328.793 1831.52 325.529 Q1831.52 319.233 1841.73 319.233 Q1846.84 319.233 1849.62 320.853 L1849.62 324.395 M1838.32 331.779 Q1836.75 332.45 1835.48 334.14 Q1833.48 336.756 1833.48 341.478 Q1833.48 346.177 1835.45 348.816 Q1837.44 351.478 1840.89 351.478 Q1844.29 351.478 1846.29 348.793 Q1848.28 346.107 1848.28 341.709 Q1848.28 337.103 1846.17 334.881 Q1843.92 332.496 1841.01 332.242 Q1839.53 332.103 1838.32 331.779 Z\" fill=\"#000000\" fill-rule=\"evenodd\" fill-opacity=\"1\" /><path clip-path=\"url(#clip280)\" d=\"M 0 0 M1864.92 343.955 Q1867.05 344.371 1868.21 345.644 Q1869.39 346.894 1869.39 348.793 Q1869.39 351.663 1867.19 353.214 Q1864.99 354.765 1860.89 354.765 Q1859.57 354.765 1858.11 354.51 Q1856.68 354.279 1855.06 353.816 L1855.06 351.015 Q1856.26 351.64 1857.63 351.941 Q1859.02 352.242 1860.57 352.242 Q1863.09 352.242 1864.48 351.339 Q1865.87 350.413 1865.87 348.793 Q1865.87 347.08 1864.57 346.2 Q1863.3 345.32 1860.8 345.32 L1858.81 345.32 L1858.81 342.82 L1860.98 342.82 Q1863.16 342.82 1864.27 342.103 Q1865.41 341.362 1865.41 339.973 Q1865.41 338.631 1864.25 337.936 Q1863.09 337.219 1860.89 337.219 Q1859.97 337.219 1858.79 337.427 Q1857.6 337.635 1855.73 338.168 L1855.73 335.506 Q1857.42 335.112 1858.9 334.904 Q1860.38 334.695 1861.66 334.695 Q1864.99 334.695 1866.93 336.061 Q1868.9 337.427 1868.9 339.719 Q1868.9 341.316 1867.86 342.427 Q1866.82 343.538 1864.92 343.955 Z\" fill=\"#000000\" fill-rule=\"evenodd\" fill-opacity=\"1\" /><path clip-path=\"url(#clip280)\" d=\"M 0 0 M1889.76 354.418 L1884.83 354.418 L1898.02 319.858 L1903.32 319.858 L1916.49 354.418 L1911.63 354.418 L1900.66 324.464 L1889.76 354.418 Z\" fill=\"#000000\" fill-rule=\"evenodd\" fill-opacity=\"1\" /><path clip-path=\"url(#clip280)\" d=\"M 0 0 M1921.52 332.89 L1951.19 332.89 L1951.19 336.779 L1921.52 336.779 L1921.52 332.89 M1921.52 342.334 L1951.19 342.334 L1951.19 346.269 L1921.52 346.269 L1921.52 342.334 Z\" fill=\"#000000\" fill-rule=\"evenodd\" fill-opacity=\"1\" /><path clip-path=\"url(#clip280)\" d=\"M 0 0 M1965.89 318.446 Q1962.79 323.77 1961.28 328.978 Q1959.78 334.186 1959.78 339.533 Q1959.78 344.881 1961.28 350.135 Q1962.81 355.367 1965.89 360.668 L1962.19 360.668 Q1958.72 355.228 1956.98 349.973 Q1955.27 344.719 1955.27 339.533 Q1955.27 334.371 1956.98 329.14 Q1958.69 323.908 1962.19 318.446 L1965.89 318.446 Z\" fill=\"#000000\" fill-rule=\"evenodd\" fill-opacity=\"1\" /><path clip-path=\"url(#clip280)\" d=\"M 0 0 M1971.77 350.482 L1979.41 350.482 L1979.41 324.117 L1971.1 325.783 L1971.1 321.524 L1979.36 319.858 L1984.04 319.858 L1984.04 350.482 L1991.68 350.482 L1991.68 354.418 L1971.77 354.418 L1971.77 350.482 Z\" fill=\"#000000\" fill-rule=\"evenodd\" fill-opacity=\"1\" /><path clip-path=\"url(#clip280)\" d=\"M 0 0 M1993.99 339.533 L2006.47 339.533 L2006.47 343.33 L1993.99 343.33 L1993.99 339.533 Z\" fill=\"#000000\" fill-rule=\"evenodd\" fill-opacity=\"1\" /><path clip-path=\"url(#clip280)\" d=\"M 0 0 M2024.06 318.399 L2024.06 321.941 L2019.99 321.941 Q2017.7 321.941 2016.79 322.867 Q2015.91 323.793 2015.91 326.2 L2015.91 328.492 L2022.93 328.492 L2022.93 331.802 L2015.91 331.802 L2015.91 354.418 L2011.63 354.418 L2011.63 331.802 L2007.56 331.802 L2007.56 328.492 L2011.63 328.492 L2011.63 326.686 Q2011.63 322.358 2013.65 320.39 Q2015.66 318.399 2020.03 318.399 L2024.06 318.399 Z\" fill=\"#000000\" fill-rule=\"evenodd\" fill-opacity=\"1\" /><path clip-path=\"url(#clip280)\" d=\"M 0 0 M2036.19 343.955 Q2038.32 344.371 2039.48 345.644 Q2040.66 346.894 2040.66 348.793 Q2040.66 351.663 2038.46 353.214 Q2036.26 354.765 2032.16 354.765 Q2030.84 354.765 2029.39 354.51 Q2027.95 354.279 2026.33 353.816 L2026.33 351.015 Q2027.53 351.64 2028.9 351.941 Q2030.29 352.242 2031.84 352.242 Q2034.36 352.242 2035.75 351.339 Q2037.14 350.413 2037.14 348.793 Q2037.14 347.08 2035.84 346.2 Q2034.57 345.32 2032.07 345.32 L2030.08 345.32 L2030.08 342.82 L2032.26 342.82 Q2034.43 342.82 2035.54 342.103 Q2036.68 341.362 2036.68 339.973 Q2036.68 338.631 2035.52 337.936 Q2034.36 337.219 2032.16 337.219 Q2031.24 337.219 2030.06 337.427 Q2028.88 337.635 2027 338.168 L2027 335.506 Q2028.69 335.112 2030.17 334.904 Q2031.65 334.695 2032.93 334.695 Q2036.26 334.695 2038.21 336.061 Q2040.17 337.427 2040.17 339.719 Q2040.17 341.316 2039.13 342.427 Q2038.09 343.538 2036.19 343.955 Z\" fill=\"#000000\" fill-rule=\"evenodd\" fill-opacity=\"1\" /><path clip-path=\"url(#clip280)\" d=\"M 0 0 M2044.46 318.446 L2048.16 318.446 Q2051.63 323.908 2053.34 329.14 Q2055.08 334.371 2055.08 339.533 Q2055.08 344.719 2053.34 349.973 Q2051.63 355.228 2048.16 360.668 L2044.46 360.668 Q2047.53 355.367 2049.04 350.135 Q2050.57 344.881 2050.57 339.533 Q2050.57 334.186 2049.04 328.978 Q2047.53 323.77 2044.46 318.446 Z\" fill=\"#000000\" fill-rule=\"evenodd\" fill-opacity=\"1\" /><path clip-path=\"url(#clip280)\" d=\"M 0 0 M2078.32 324.395 Q2075.96 322.774 2070.43 322.774 Q2064.57 322.774 2064.57 325.483 Q2064.57 327.612 2070.68 328.723 Q2075.5 329.58 2078.21 332.172 Q2081.49 335.297 2081.49 341.709 Q2081.49 347.844 2078.32 351.455 Q2075.15 355.089 2069.59 355.089 Q2064.06 355.089 2060.87 351.455 Q2057.7 347.844 2057.7 341.478 Q2057.7 336.756 2060.87 332.936 Q2062.09 331.455 2063.83 330.621 Q2060.22 328.793 2060.22 325.529 Q2060.22 319.233 2070.43 319.233 Q2075.54 319.233 2078.32 320.853 L2078.32 324.395 M2067.03 331.779 Q2065.45 332.45 2064.18 334.14 Q2062.19 336.756 2062.19 341.478 Q2062.19 346.177 2064.15 348.816 Q2066.15 351.478 2069.59 351.478 Q2073 351.478 2074.99 348.793 Q2076.98 346.107 2076.98 341.709 Q2076.98 337.103 2074.87 334.881 Q2072.63 332.496 2069.71 332.242 Q2068.23 332.103 2067.03 331.779 Z\" fill=\"#000000\" fill-rule=\"evenodd\" fill-opacity=\"1\" /><path clip-path=\"url(#clip280)\" d=\"M 0 0 M2087.7 351.779 L2097.51 351.779 L2097.51 354.418 L2083.67 354.418 L2083.67 351.871 Q2084.46 351.154 2085.91 349.857 Q2093.88 342.797 2093.88 340.621 Q2093.88 339.094 2092.67 338.168 Q2091.47 337.219 2089.5 337.219 Q2088.3 337.219 2086.89 337.635 Q2085.47 338.029 2083.81 338.839 L2083.81 335.992 Q2085.59 335.344 2087.12 335.02 Q2088.67 334.695 2089.99 334.695 Q2093.34 334.695 2095.36 336.223 Q2097.37 337.751 2097.37 340.251 Q2097.37 343.469 2089.71 350.043 Q2088.41 351.154 2087.7 351.779 Z\" fill=\"#000000\" fill-rule=\"evenodd\" fill-opacity=\"1\" /><path clip-path=\"url(#clip280)\" d=\"M 0 0 M2119.32 324.695 L2119.32 337.589 L2132.21 337.589 L2132.21 341.524 L2119.32 341.524 L2119.32 354.418 L2115.43 354.418 L2115.43 341.524 L2102.53 341.524 L2102.53 337.589 L2115.43 337.589 L2115.43 324.695 L2119.32 324.695 Z\" fill=\"#000000\" fill-rule=\"evenodd\" fill-opacity=\"1\" /><path clip-path=\"url(#clip280)\" d=\"M 0 0 M2149.8 318.399 L2149.8 321.941 L2145.73 321.941 Q2143.44 321.941 2142.53 322.867 Q2141.65 323.793 2141.65 326.2 L2141.65 328.492 L2148.67 328.492 L2148.67 331.802 L2141.65 331.802 L2141.65 354.418 L2137.37 354.418 L2137.37 331.802 L2133.3 331.802 L2133.3 328.492 L2137.37 328.492 L2137.37 326.686 Q2137.37 322.358 2139.39 320.39 Q2141.4 318.399 2145.77 318.399 L2149.8 318.399 Z\" fill=\"#000000\" fill-rule=\"evenodd\" fill-opacity=\"1\" /><path clip-path=\"url(#clip280)\" d=\"M 0 0 M2161.93 343.955 Q2164.06 344.371 2165.22 345.644 Q2166.4 346.894 2166.4 348.793 Q2166.4 351.663 2164.2 353.214 Q2162 354.765 2157.9 354.765 Q2156.58 354.765 2155.13 354.51 Q2153.69 354.279 2152.07 353.816 L2152.07 351.015 Q2153.27 351.64 2154.64 351.941 Q2156.03 352.242 2157.58 352.242 Q2160.1 352.242 2161.49 351.339 Q2162.88 350.413 2162.88 348.793 Q2162.88 347.08 2161.58 346.2 Q2160.31 345.32 2157.81 345.32 L2155.82 345.32 L2155.82 342.82 L2158 342.82 Q2160.17 342.82 2161.28 342.103 Q2162.42 341.362 2162.42 339.973 Q2162.42 338.631 2161.26 337.936 Q2160.1 337.219 2157.9 337.219 Q2156.98 337.219 2155.8 337.427 Q2154.62 337.635 2152.74 338.168 L2152.74 335.506 Q2154.43 335.112 2155.91 334.904 Q2157.39 334.695 2158.67 334.695 Q2162 334.695 2163.95 336.061 Q2165.91 337.427 2165.91 339.719 Q2165.91 341.316 2164.87 342.427 Q2163.83 343.538 2161.93 343.955 Z\" fill=\"#000000\" fill-rule=\"evenodd\" fill-opacity=\"1\" /><path clip-path=\"url(#clip280)\" d=\"M 0 0 M2188.69 325.552 L2180.38 330.043 L2188.69 334.557 L2187.35 336.825 L2179.57 332.126 L2179.57 340.853 L2176.93 340.853 L2176.93 332.126 L2169.15 336.825 L2167.81 334.557 L2176.12 330.043 L2167.81 325.552 L2169.15 323.26 L2176.93 327.959 L2176.93 319.233 L2179.57 319.233 L2179.57 327.959 L2187.35 323.26 L2188.69 325.552 Z\" fill=\"#000000\" fill-rule=\"evenodd\" fill-opacity=\"1\" /><path clip-path=\"url(#clip280)\" d=\"M 0 0 M2211.93 324.395 Q2209.57 322.774 2204.04 322.774 Q2198.18 322.774 2198.18 325.483 Q2198.18 327.612 2204.29 328.723 Q2209.11 329.58 2211.82 332.172 Q2215.1 335.297 2215.1 341.709 Q2215.1 347.844 2211.93 351.455 Q2208.76 355.089 2203.2 355.089 Q2197.67 355.089 2194.48 351.455 Q2191.31 347.844 2191.31 341.478 Q2191.31 336.756 2194.48 332.936 Q2195.7 331.455 2197.44 330.621 Q2193.83 328.793 2193.83 325.529 Q2193.83 319.233 2204.04 319.233 Q2209.15 319.233 2211.93 320.853 L2211.93 324.395 M2200.64 331.779 Q2199.06 332.45 2197.79 334.14 Q2195.8 336.756 2195.8 341.478 Q2195.8 346.177 2197.77 348.816 Q2199.76 351.478 2203.2 351.478 Q2206.61 351.478 2208.6 348.793 Q2210.59 346.107 2210.59 341.709 Q2210.59 337.103 2208.48 334.881 Q2206.24 332.496 2203.32 332.242 Q2201.84 332.103 2200.64 331.779 Z\" fill=\"#000000\" fill-rule=\"evenodd\" fill-opacity=\"1\" /><path clip-path=\"url(#clip280)\" d=\"M 0 0 M2227.23 343.955 Q2229.36 344.371 2230.52 345.644 Q2231.7 346.894 2231.7 348.793 Q2231.7 351.663 2229.5 353.214 Q2227.3 354.765 2223.2 354.765 Q2221.89 354.765 2220.43 354.51 Q2218.99 354.279 2217.37 353.816 L2217.37 351.015 Q2218.58 351.64 2219.94 351.941 Q2221.33 352.242 2222.88 352.242 Q2225.4 352.242 2226.79 351.339 Q2228.18 350.413 2228.18 348.793 Q2228.18 347.08 2226.89 346.2 Q2225.61 345.32 2223.11 345.32 L2221.12 345.32 L2221.12 342.82 L2223.3 342.82 Q2225.47 342.82 2226.58 342.103 Q2227.72 341.362 2227.72 339.973 Q2227.72 338.631 2226.56 337.936 Q2225.4 337.219 2223.2 337.219 Q2222.28 337.219 2221.1 337.427 Q2219.92 337.635 2218.04 338.168 L2218.04 335.506 Q2219.73 335.112 2221.21 334.904 Q2222.7 334.695 2223.97 334.695 Q2227.3 334.695 2229.25 336.061 Q2231.21 337.427 2231.21 339.719 Q2231.21 341.316 2230.17 342.427 Q2229.13 343.538 2227.23 343.955 Z\" fill=\"#000000\" fill-rule=\"evenodd\" fill-opacity=\"1\" /><circle clip-path=\"url(#clip280)\" cx=\"1593.31\" cy=\"397.618\" r=\"23\" fill=\"#ffffe0\" fill-rule=\"evenodd\" fill-opacity=\"1\" stroke=\"#000000\" stroke-opacity=\"1\" stroke-width=\"5.12\"/>\n",
       "<path clip-path=\"url(#clip280)\" d=\"M 0 0 M1694.83 398.393 L1694.83 411.055 L1702.33 411.055 Q1706.1 411.055 1707.91 409.504 Q1709.74 407.93 1709.74 404.712 Q1709.74 401.472 1707.91 399.944 Q1706.1 398.393 1702.33 398.393 L1694.83 398.393 M1694.83 384.18 L1694.83 394.597 L1701.75 394.597 Q1705.18 394.597 1706.84 393.324 Q1708.53 392.027 1708.53 389.388 Q1708.53 386.773 1706.84 385.476 Q1705.18 384.18 1701.75 384.18 L1694.83 384.18 M1690.15 380.338 L1702.1 380.338 Q1707.44 380.338 1710.34 382.56 Q1713.23 384.782 1713.23 388.879 Q1713.23 392.05 1711.75 393.925 Q1710.27 395.8 1707.4 396.263 Q1710.85 397.004 1712.74 399.365 Q1714.67 401.703 1714.67 405.222 Q1714.67 409.851 1711.52 412.374 Q1708.37 414.898 1702.56 414.898 L1690.15 414.898 L1690.15 380.338 Z\" fill=\"#000000\" fill-rule=\"evenodd\" fill-opacity=\"1\" /><path clip-path=\"url(#clip280)\" d=\"M 0 0 M1723.99 384.18 L1723.99 397.166 L1729.87 397.166 Q1733.14 397.166 1734.92 395.476 Q1736.7 393.787 1736.7 390.662 Q1736.7 387.56 1734.92 385.87 Q1733.14 384.18 1729.87 384.18 L1723.99 384.18 M1719.32 380.338 L1729.87 380.338 Q1735.68 380.338 1738.65 382.976 Q1741.63 385.592 1741.63 390.662 Q1741.63 395.777 1738.65 398.393 Q1735.68 401.009 1729.87 401.009 L1723.99 401.009 L1723.99 414.898 L1719.32 414.898 L1719.32 380.338 Z\" fill=\"#000000\" fill-rule=\"evenodd\" fill-opacity=\"1\" /><path clip-path=\"url(#clip280)\" d=\"M 0 0 M1759.02 400.013 L1771.49 400.013 L1771.49 403.81 L1759.02 403.81 L1759.02 400.013 Z\" fill=\"#000000\" fill-rule=\"evenodd\" fill-opacity=\"1\" /><path clip-path=\"url(#clip280)\" d=\"M 0 0 M1804.16 378.879 L1804.16 382.421 L1800.08 382.421 Q1797.79 382.421 1796.89 383.347 Q1796.01 384.273 1796.01 386.68 L1796.01 388.972 L1803.02 388.972 L1803.02 392.282 L1796.01 392.282 L1796.01 414.898 L1791.73 414.898 L1791.73 392.282 L1787.65 392.282 L1787.65 388.972 L1791.73 388.972 L1791.73 387.166 Q1791.73 382.838 1793.74 380.87 Q1795.75 378.879 1800.13 378.879 L1804.16 378.879 Z\" fill=\"#000000\" fill-rule=\"evenodd\" fill-opacity=\"1\" /><path clip-path=\"url(#clip280)\" d=\"M 0 0 M1828.32 422.768 L1828.32 426.078 L1803.69 426.078 L1803.69 422.768 L1828.32 422.768 Z\" fill=\"#000000\" fill-rule=\"evenodd\" fill-opacity=\"1\" /><path clip-path=\"url(#clip280)\" d=\"M 0 0 M1847.56 396.263 Q1850.92 396.981 1852.79 399.249 Q1854.69 401.518 1854.69 404.851 Q1854.69 409.967 1851.17 412.768 Q1847.65 415.569 1841.17 415.569 Q1838.99 415.569 1836.68 415.129 Q1834.39 414.712 1831.93 413.856 L1831.93 409.342 Q1833.88 410.476 1836.19 411.055 Q1838.51 411.634 1841.03 411.634 Q1845.43 411.634 1847.72 409.898 Q1850.04 408.161 1850.04 404.851 Q1850.04 401.796 1847.88 400.083 Q1845.75 398.347 1841.93 398.347 L1837.91 398.347 L1837.91 394.504 L1842.12 394.504 Q1845.57 394.504 1847.4 393.138 Q1849.23 391.75 1849.23 389.157 Q1849.23 386.495 1847.33 385.083 Q1845.45 383.648 1841.93 383.648 Q1840.01 383.648 1837.81 384.064 Q1835.61 384.481 1832.98 385.361 L1832.98 381.194 Q1835.64 380.453 1837.95 380.083 Q1840.29 379.713 1842.35 379.713 Q1847.67 379.713 1850.78 382.143 Q1853.88 384.55 1853.88 388.671 Q1853.88 391.541 1852.23 393.532 Q1850.59 395.5 1847.56 396.263 Z\" fill=\"#000000\" fill-rule=\"evenodd\" fill-opacity=\"1\" /><path clip-path=\"url(#clip280)\" d=\"M 0 0 M1859.71 393.37 L1889.39 393.37 L1889.39 397.259 L1859.71 397.259 L1859.71 393.37 M1859.71 402.814 L1889.39 402.814 L1889.39 406.749 L1859.71 406.749 L1859.71 402.814 Z\" fill=\"#000000\" fill-rule=\"evenodd\" fill-opacity=\"1\" /><path clip-path=\"url(#clip280)\" d=\"M 0 0 M1904.46 383.416 Q1900.85 383.416 1899.02 386.981 Q1897.21 390.523 1897.21 397.652 Q1897.21 404.759 1899.02 408.324 Q1900.85 411.865 1904.46 411.865 Q1908.09 411.865 1909.9 408.324 Q1911.72 404.759 1911.72 397.652 Q1911.72 390.523 1909.9 386.981 Q1908.09 383.416 1904.46 383.416 M1904.46 379.713 Q1910.27 379.713 1913.32 384.319 Q1916.4 388.902 1916.4 397.652 Q1916.4 406.379 1913.32 410.986 Q1910.27 415.569 1904.46 415.569 Q1898.65 415.569 1895.57 410.986 Q1892.51 406.379 1892.51 397.652 Q1892.51 388.902 1895.57 384.319 Q1898.65 379.713 1904.46 379.713 Z\" fill=\"#000000\" fill-rule=\"evenodd\" fill-opacity=\"1\" /><path clip-path=\"url(#clip280)\" d=\"M 0 0 M1921.47 409.018 L1926.35 409.018 L1926.35 414.898 L1921.47 414.898 L1921.47 409.018 Z\" fill=\"#000000\" fill-rule=\"evenodd\" fill-opacity=\"1\" /><path clip-path=\"url(#clip280)\" d=\"M 0 0 M1935.45 410.962 L1951.77 410.962 L1951.77 414.898 L1929.83 414.898 L1929.83 410.962 Q1932.49 408.208 1937.07 403.578 Q1941.68 398.925 1942.86 397.583 Q1945.1 395.06 1945.98 393.324 Q1946.89 391.564 1946.89 389.875 Q1946.89 387.12 1944.94 385.384 Q1943.02 383.648 1939.92 383.648 Q1937.72 383.648 1935.27 384.412 Q1932.84 385.175 1930.06 386.726 L1930.06 382.004 Q1932.88 380.87 1935.34 380.291 Q1937.79 379.713 1939.83 379.713 Q1945.2 379.713 1948.39 382.398 Q1951.59 385.083 1951.59 389.574 Q1951.59 391.703 1950.78 393.625 Q1949.99 395.523 1947.88 398.115 Q1947.3 398.787 1944.2 402.004 Q1941.1 405.199 1935.45 410.962 Z\" fill=\"#000000\" fill-rule=\"evenodd\" fill-opacity=\"1\" /><path clip-path=\"url(#clip280)\" d=\"M 0 0 M1969.16 400.013 L1981.63 400.013 L1981.63 403.81 L1969.16 403.81 L1969.16 400.013 Z\" fill=\"#000000\" fill-rule=\"evenodd\" fill-opacity=\"1\" /><path clip-path=\"url(#clip280)\" d=\"M 0 0 M2001.35 380.338 L2006.03 380.338 L2006.03 394.504 L2023.02 394.504 L2023.02 380.338 L2027.7 380.338 L2027.7 414.898 L2023.02 414.898 L2023.02 398.439 L2006.03 398.439 L2006.03 414.898 L2001.35 414.898 L2001.35 380.338 Z\" fill=\"#000000\" fill-rule=\"evenodd\" fill-opacity=\"1\" /><path clip-path=\"url(#clip280)\" d=\"M 0 0 M2032.72 393.37 L2062.4 393.37 L2062.4 397.259 L2032.72 397.259 L2032.72 393.37 M2032.72 402.814 L2062.4 402.814 L2062.4 406.749 L2032.72 406.749 L2032.72 402.814 Z\" fill=\"#000000\" fill-rule=\"evenodd\" fill-opacity=\"1\" /><path clip-path=\"url(#clip280)\" d=\"M 0 0 M2077.46 383.416 Q2073.85 383.416 2072.03 386.981 Q2070.22 390.523 2070.22 397.652 Q2070.22 404.759 2072.03 408.324 Q2073.85 411.865 2077.46 411.865 Q2081.1 411.865 2082.9 408.324 Q2084.73 404.759 2084.73 397.652 Q2084.73 390.523 2082.9 386.981 Q2081.1 383.416 2077.46 383.416 M2077.46 379.713 Q2083.27 379.713 2086.33 384.319 Q2089.41 388.902 2089.41 397.652 Q2089.41 406.379 2086.33 410.986 Q2083.27 415.569 2077.46 415.569 Q2071.65 415.569 2068.58 410.986 Q2065.52 406.379 2065.52 397.652 Q2065.52 388.902 2068.58 384.319 Q2071.65 379.713 2077.46 379.713 Z\" fill=\"#000000\" fill-rule=\"evenodd\" fill-opacity=\"1\" /><path clip-path=\"url(#clip280)\" d=\"M 0 0 M2094.48 409.018 L2099.36 409.018 L2099.36 414.898 L2094.48 414.898 L2094.48 409.018 Z\" fill=\"#000000\" fill-rule=\"evenodd\" fill-opacity=\"1\" /><path clip-path=\"url(#clip280)\" d=\"M 0 0 M2117.28 384.412 L2105.47 402.861 L2117.28 402.861 L2117.28 384.412 M2116.05 380.338 L2121.93 380.338 L2121.93 402.861 L2126.86 402.861 L2126.86 406.749 L2121.93 406.749 L2121.93 414.898 L2117.28 414.898 L2117.28 406.749 L2101.68 406.749 L2101.68 402.236 L2116.05 380.338 Z\" fill=\"#000000\" fill-rule=\"evenodd\" fill-opacity=\"1\" /></svg>\n"
      ]
     },
     "execution_count": 162,
     "metadata": {},
     "output_type": "execute_result"
    }
   ],
   "source": [
    "println(\"Avg over $navg instances\")\n",
    "colors = cgrad(:heat, length(Hs)+1, categorical = true)\n",
    "pl_f3 = plot_rdb()\n",
    "for (i,H) in enumerate(Hs)\n",
    "    scatter!(pl_f3, [R], [mean(dist_f3[i])], \n",
    "        yerr = [std(dist_f3[i])/sqrt(length(dist_f3[i]))],\n",
    "        label=\"BP - f_3=$(round(r,digits=1)) - H=$(round(H,sigdigits=2))\", mc=colors[i], ms=4)\n",
    "end\n",
    "plot(pl_f3, size=(600,400), legend=:topright)\n",
    "xlims!((0.24,0.30)); ylims!((0.22,0.26))"
   ]
  }
 ],
 "metadata": {
  "kernelspec": {
   "display_name": "Julia 1.5.3",
   "language": "julia",
   "name": "julia-1.5"
  },
  "language_info": {
   "file_extension": ".jl",
   "mimetype": "application/julia",
   "name": "julia",
   "version": "1.5.3"
  }
 },
 "nbformat": 4,
 "nbformat_minor": 4
}
