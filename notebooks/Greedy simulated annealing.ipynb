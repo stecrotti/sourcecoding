{
 "cells": [
  {
   "cell_type": "markdown",
   "metadata": {},
   "source": [
    "# Greedy simulated annealing"
   ]
  },
  {
   "cell_type": "code",
   "execution_count": 159,
   "metadata": {},
   "outputs": [],
   "source": [
    "using Printf, DelimitedFiles\n",
    "include(\"../code/headers.jl\")"
   ]
  },
  {
   "cell_type": "code",
   "execution_count": 2,
   "metadata": {},
   "outputs": [
    {
     "name": "stdout",
     "output_type": "stream",
     "text": [
      "size(H) = (6600, 9000)\n",
      "5 removed factors [129, 1515, 1531, 1655, 3471]\n"
     ]
    }
   ],
   "source": [
    "H_core = readgraph(\"/tmp/graph9000.txt\")\n",
    "H_nocore = readseeds(\"/tmp/seeds9000.txt\", H_core)\n",
    "m,n = size(H_core)\n",
    "rate_core = 1 - m/n\n",
    "M,N = size(H_nocore)\n",
    "rate_nocore = 1 - M/N\n",
    "\n",
    "lm_core = LossyModel(FactorGraphGF2(H_core))\n",
    "lm_nocore = LossyModel(FactorGraphGF2(H_nocore));"
   ]
  },
  {
   "cell_type": "markdown",
   "metadata": {},
   "source": [
    "**Strategy**:\n",
    "1. With no external field, perform \"greedy\" moves by accepting only $\\Delta E\\le 0$\n",
    "2. If a codeword is found in this way, start flipping spins that are not aligned with the external field. Accept if the system stays SAT"
   ]
  },
  {
   "cell_type": "code",
   "execution_count": 41,
   "metadata": {},
   "outputs": [],
   "source": [
    "function greedy_simann_checks(lm::LossyModel, maxiter1::Int=Int(1e7); \n",
    "        idxperm=randperm(lm.fg.n), thresh=1000, maxlag=2)\n",
    "    lm.beta1 = 1.0\n",
    "    lm.beta2 = 0.0\n",
    "    E = Int(energy(lm))\n",
    "    E1_history = [E]\n",
    "    iters1_history = [1] \n",
    "    niters1 = maxiter1\n",
    "    \n",
    "    for it in 2:maxiter1\n",
    "        # Pick the new site in the permutation of 1,...,n\n",
    "        to_flip = idxperm[mod1(it, lm.fg.n)]\n",
    "        ΔE = energy_shift_checks(lm, to_flip)\n",
    "        if ΔE <= 0\n",
    "            lm.x[to_flip] = !lm.x[to_flip]\n",
    "            E += ΔE\n",
    "            if ΔE != 0\n",
    "                push!(E1_history, E)\n",
    "                push!(iters1_history,it)\n",
    "            end\n",
    "        else\n",
    "            # Check if the last energy update was more than `1/maxlag` of a simulation ago and at least\n",
    "            #  `thresh` iterations have been performed\n",
    "            if (it/iters1_history[end] > maxlag && it>thresh) || E==0\n",
    "                niters1 = it\n",
    "                break\n",
    "            end\n",
    "        end\n",
    "        mod(it, lm.fg.n)==0 && shuffle!(idxperm)\n",
    "    end\n",
    "    return E1_history, iters1_history, niters1\n",
    "end\n",
    "\n",
    "function greedy_simann_overlap(lm::LossyModel, maxiter2=Int(1e5), E_init=0)\n",
    "    \n",
    "    E2_history = [E_init]\n",
    "    iters2_history = [1]\n",
    "    niters2 = maxiter2\n",
    "    not_aligned = (1:lm.fg.n)[lm.x .!= lm.y]\n",
    "    for it in 2:maxiter2\n",
    "        # propose spin to flip among those misaligned with the external field\n",
    "        j = rand(1:length(not_aligned))\n",
    "        to_flip = not_aligned[j]\n",
    "        # accept only if the system stays SAT\n",
    "        ΔE = energy_shift_checks(lm, to_flip)\n",
    "        if ΔE <= 0\n",
    "            lm.x[to_flip] = !lm.x[to_flip]\n",
    "            push!(iters2_history, it)\n",
    "            deleteat!(not_aligned, j)\n",
    "        end\n",
    "    end\n",
    "    return iters2_history, niters2\n",
    "end\n",
    "    \n",
    "# Compute shift in parity-check energy due to flipping one variable. NO EXT FIELDS INVOLVED!\n",
    "function energy_shift_checks(lm::LossyModel, to_flip::Int)\n",
    "    dE = 0\n",
    "    for a in lm.fg.Vneigs[to_flip]\n",
    "        z = 0\n",
    "        for w in lm.fg.Fneigs[a]    \n",
    "            z = xor(z, lm.x[w])    \n",
    "        end\n",
    "        dE += 1-2*z\n",
    "    end\n",
    "    return dE\n",
    "end\n",
    "\n",
    "# function greedy_simann(lm::LossyModel, maxiter1=Int(1e7), maxiter2=Int(1e5); \n",
    "#         idxperm=randperm(lm.fg.n), thresh=1000, maxlag=2)\n",
    "    \n",
    "#     # PART ONE: GO TO A CODEWORD  \n",
    "#     E1_history, iters1_history, niters1 = greedy_simann_checks(lm, maxiter1, \n",
    "#         idxperm=idxperm, thresh=thresh, maxlag=maxlag)\n",
    "    \n",
    "#     # PART TWO: TRY TO ALIGN TO SOURCE. Only if a codeword was reached in part 1\n",
    "#     codeword = (E1_history[end]==0)\n",
    "#     if codeword\n",
    "#         iters2_history, niters2 = greedy_simann_overlap(lm, maxiter2, 0)\n",
    "#     end    \n",
    "#     return E1_history, iters1_history, niters1, codeword, iters2_history, niters2\n",
    "# end"
   ]
  },
  {
   "cell_type": "markdown",
   "metadata": {},
   "source": [
    "Look for codewords and save them when found"
   ]
  },
  {
   "cell_type": "code",
   "execution_count": 66,
   "metadata": {},
   "outputs": [
    {
     "data": {
      "text/plain": [
       "greedy_simann_checks_trials (generic function with 3 methods)"
      ]
     },
     "execution_count": 66,
     "metadata": {},
     "output_type": "execute_result"
    }
   ],
   "source": [
    "function greedy_simann_checks_trials(lm::LossyModel, N::Int=Int(5e1), maxiter=Int(1e8), args...;\n",
    "        maxlag=2, kw...)\n",
    "    min_energies = zeros(Int,N)\n",
    "    logstr = Vector{String}(undef,N)\n",
    "    init = bitrand(lm.fg.n)\n",
    "    X = BitArray{1}[]\n",
    "    E1_history = [Int[] for i in 1:N]\n",
    "    iters1_history = [Int[] for i in 1:N]\n",
    "    distance_history = zeros(Int, N)\n",
    "    @showprogress for i in 1:N\n",
    "        init .= bitrand(lm.fg.n)\n",
    "        lm.x = copy(init)\n",
    "        E1_history[i], iters1_history[i], niters1 = greedy_simann_checks(lm, maxiter, maxlag=maxlag)\n",
    "        distance_history[i] = hd(lm.x, init)\n",
    "        min_energies[i] = E1_history[i][end]\n",
    "        logstr[i] = string(\"Sim \", @sprintf(\"%3d\", i) , \" of $N:  E=\", @sprintf(\"%4d\", E1_history[i][end]), \" after \",\n",
    "            @sprintf(\"%8d\",niters1), \" iters.  dₕ=\", distance_history[i])\n",
    "        min_energies[i] != 0 && push!(X, copy(lm.x))    \n",
    "    end\n",
    "    return min_energies, logstr, X, E1_history, iters1_history, distance_history\n",
    "end"
   ]
  },
  {
   "cell_type": "markdown",
   "metadata": {},
   "source": [
    "On the found codewords, try moving towards the external field"
   ]
  },
  {
   "cell_type": "code",
   "execution_count": 36,
   "metadata": {
    "scrolled": true
   },
   "outputs": [
    {
     "data": {
      "text/plain": [
       "greedy_simann_overlap_trials (generic function with 4 methods)"
      ]
     },
     "execution_count": 36,
     "metadata": {},
     "output_type": "execute_result"
    }
   ],
   "source": [
    "function greedy_simann_overlap_trials(lm::LossyModel, Einit::Vector{Int}, X::Vector{BitArray{1}}, maxiter=Int(1e8))\n",
    "    N = length(X)\n",
    "    logstr = Vector{String}(undef,N)\n",
    "    dist = zeros(N)\n",
    "    @showprogress for i in eachindex(X)\n",
    "        lm.x .= X[i]\n",
    "        d = distortion(lm)\n",
    "        iters2_history, niters2 = greedy_simann_overlap(lm, maxiter)\n",
    "        dist[i] = distortion(lm)\n",
    "        logstr[i] = string(\"Sim \", @sprintf(\"%3d\", i) , \" of $N.  Flips \", length(iters2_history)-1,\n",
    "            \".  Distortion before and after \", @sprintf(\"%.3f %.3f\",d,dist[i]))\n",
    "    end\n",
    "    return dist, logstr\n",
    "end"
   ]
  },
  {
   "cell_type": "code",
   "execution_count": 37,
   "metadata": {},
   "outputs": [
    {
     "data": {
      "text/plain": [
       "([3307, 3306, 3304, 3302, 3301, 3299, 3298, 3296, 3293, 3291  …  14, 12, 10, 9, 8, 6, 5, 4, 2, 0], [1, 5, 8, 9, 13, 15, 16, 17, 24, 25  …  2324515, 2725657, 3227750, 3256155, 5367903, 6338582, 6986573, 7578054, 13840187, 20800346], 20800347)"
      ]
     },
     "execution_count": 37,
     "metadata": {},
     "output_type": "execute_result"
    }
   ],
   "source": [
    "init = bitrand(n)\n",
    "lm_core.x = copy(init)\n",
    "E_history, iters_history, niters = greedy_simann_checks(lm_core, Int(1e8))"
   ]
  },
  {
   "cell_type": "code",
   "execution_count": 62,
   "metadata": {},
   "outputs": [
    {
     "name": "stdout",
     "output_type": "stream",
     "text": [
      "  1.031 s (8186 allocations: 267.75 KiB)\n"
     ]
    },
    {
     "data": {
      "text/plain": [
       "([3299, 3297, 3295, 3293, 3291, 3289, 3286, 3285, 3283, 3280  …  24, 22, 20, 18, 16, 14, 12, 10, 8, 7], [1, 13, 17, 20, 22, 25, 28, 31, 39, 40  …  964610, 1248240, 1376858, 1403658, 1513244, 1538025, 1579197, 1786682, 2598971, 2646696], 5293393)"
      ]
     },
     "execution_count": 62,
     "metadata": {},
     "output_type": "execute_result"
    }
   ],
   "source": [
    "using BenchmarkTools\n",
    "foo() = begin\n",
    "    init = bitrand(n)\n",
    "    lm_core.x = copy(init)\n",
    "    E_history, iters_history, niters = greedy_simann_checks(lm_core, Int(1e8))\n",
    "    nothing\n",
    "end\n",
    "    \n",
    "@btime foo()"
   ]
  },
  {
   "cell_type": "markdown",
   "metadata": {},
   "source": [
    "## 1. Full core"
   ]
  },
  {
   "cell_type": "code",
   "execution_count": null,
   "metadata": {
    "scrolled": true
   },
   "outputs": [],
   "source": [
    "N = Int(5e2)\n",
    "maxiter1 = Int(1e8);\n",
    "min_energies_core, logstr1_core, X_core, E1_history_core, iters1_history_core, distance_history_core = \n",
    "    greedy_simann_checks_trials(lm_core, N, maxiter1);\n",
    "sort(countmap(min_energies_core))"
   ]
  },
  {
   "cell_type": "code",
   "execution_count": null,
   "metadata": {},
   "outputs": [],
   "source": [
    "logstr1_core"
   ]
  },
  {
   "cell_type": "code",
   "execution_count": null,
   "metadata": {
    "scrolled": false
   },
   "outputs": [],
   "source": [
    "maxiter = Int(1e8)\n",
    "dist_core, logstr2_core = greedy_simann_overlap_trials(lm_core, min_energies_core[min_energies_core.!=0], \n",
    "    X_core, maxiter)"
   ]
  },
  {
   "cell_type": "code",
   "execution_count": null,
   "metadata": {},
   "outputs": [],
   "source": [
    "logstr2_core"
   ]
  },
  {
   "cell_type": "markdown",
   "metadata": {},
   "source": [
    "Compute the distribution of times to get to energy E"
   ]
  },
  {
   "cell_type": "code",
   "execution_count": 169,
   "metadata": {},
   "outputs": [],
   "source": [
    "E_core = [0,1,2,4,8,16,32, 128, 264]\n",
    "tau_core = [Int[] for e in E_core]\n",
    "# Save the time at which each instance got at energy E\n",
    "for (e,E) in enumerate(E_core)\n",
    "    for (j,t) in enumerate(min_energies_core)\n",
    "        # Find the index in vector of energy history corresponding to E\n",
    "        idx = findfirst(<=(E), E1_history_core[j])\n",
    "        idx !== nothing && push!(tau_core[e], iters1_history_core[j][idx]) \n",
    "    end\n",
    "#     sort!(tau[e])\n",
    "end"
   ]
  },
  {
   "cell_type": "code",
   "execution_count": 170,
   "metadata": {},
   "outputs": [],
   "source": [
    "plts_core = Vector{Plots.Plot}(undef, length(E_core))\n",
    "for e in eachindex(E_core)\n",
    "    ydata = (1:length(tau_core[e])) ./ N\n",
    "   plts_core[e] = Plots.scatter(sort(tau_core[e]), ydata, label=\"E=$(E_core[e])\", legend=:topleft, ms=3, msw=0) \n",
    "    xlabel!(\"Iteration\")\n",
    "end"
   ]
  },
  {
   "cell_type": "code",
   "execution_count": 171,
   "metadata": {},
   "outputs": [
    {
     "name": "stdout",
     "output_type": "stream",
     "text": [
      "FULL CORE:\n"
     ]
    }
   ],
   "source": [
    "println(\"FULL CORE:\")\n",
    "# pl_core = plot(plts_core..., size=(800,800))\n",
    "pl_core = plot(plts_core..., size=(1500,1000), dpi=200)\n",
    "savefig(pl_core, \"tauE_core.png\")"
   ]
  },
  {
   "cell_type": "code",
   "execution_count": 177,
   "metadata": {},
   "outputs": [],
   "source": [
    "open(\"files_montecarlo/full_core/energies.txt\", \"w\") do io\n",
    "    writedlm(io, E1_history_core, \" \")\n",
    "end\n",
    "open(\"files_montecarlo/full_core/iters.txt\", \"w\") do io\n",
    "    writedlm(io, iters1_history_core, \" \")\n",
    "end\n",
    "open(\"files_montecarlo/full_core/distances.txt\", \"w\") do io\n",
    "    writedlm(io, distance_history_core, \" \")\n",
    "end\n",
    "open(\"files_montecarlo/full_core/distortions.txt\", \"w\") do io\n",
    "    writedlm(io, dist_core, \" \")\n",
    "end\n",
    "open(\"files_montecarlo/full_core/tauE.txt\", \"w\") do io\n",
    "    writedlm(io, tau_core, \" \")\n",
    "end\n",
    "open(\"files_montecarlo/full_core/full_log1.txt\", \"w\") do io\n",
    "    writedlm(io, logstr1_core, \"\\n\")\n",
    "end\n",
    "open(\"files_montecarlo/full_core/full_log2.txt\", \"w\") do io\n",
    "    writedlm(io, logstr2_core, \"\\n\")\n",
    "end"
   ]
  },
  {
   "cell_type": "markdown",
   "metadata": {},
   "source": [
    "## 2. Empty core"
   ]
  },
  {
   "cell_type": "code",
   "execution_count": 67,
   "metadata": {},
   "outputs": [
    {
     "name": "stderr",
     "output_type": "stream",
     "text": [
      "\u001b[32mProgress: 100%|█████████████████████████████████████████| Time: 0:25:19\u001b[39m\n"
     ]
    },
    {
     "data": {
      "text/plain": [
       "OrderedCollections.OrderedDict{Int64,Int64} with 11 entries:\n",
       "  0  => 70\n",
       "  1  => 126\n",
       "  2  => 115\n",
       "  3  => 83\n",
       "  4  => 53\n",
       "  5  => 26\n",
       "  6  => 13\n",
       "  7  => 8\n",
       "  8  => 2\n",
       "  9  => 2\n",
       "  12 => 2"
      ]
     },
     "execution_count": 67,
     "metadata": {},
     "output_type": "execute_result"
    }
   ],
   "source": [
    "N = Int(5e2)\n",
    "maxiter1 = Int(1e8);\n",
    "min_energies_nocore, logstr1_nocore, X_nocore, E1_history_nocore, iters1_history_nocore, distance_history_nocore = \n",
    "    greedy_simann_checks_trials(lm_nocore, N, maxiter1);\n",
    "sort(countmap(min_energies_nocore))"
   ]
  },
  {
   "cell_type": "code",
   "execution_count": 74,
   "metadata": {},
   "outputs": [
    {
     "data": {
      "text/plain": [
       "OrderedCollections.OrderedDict{Int64,Int64} with 11 entries:\n",
       "  0  => 70\n",
       "  1  => 126\n",
       "  2  => 115\n",
       "  3  => 83\n",
       "  4  => 53\n",
       "  5  => 26\n",
       "  6  => 13\n",
       "  7  => 8\n",
       "  8  => 2\n",
       "  9  => 2\n",
       "  12 => 2"
      ]
     },
     "execution_count": 74,
     "metadata": {},
     "output_type": "execute_result"
    }
   ],
   "source": [
    "hist_energies_nocore = sort(countmap(min_energies_nocore))"
   ]
  },
  {
   "cell_type": "code",
   "execution_count": 68,
   "metadata": {},
   "outputs": [
    {
     "data": {
      "text/plain": [
       "500-element Array{String,1}:\n",
       " \"Sim   1 of 500:  E=   2 after 15955713 iters.  dₕ=4052\"\n",
       " \"Sim   2 of 500:  E=   0 after  7564071 iters.  dₕ=4123\"\n",
       " \"Sim   3 of 500:  E=   3 after 34360689 iters.  dₕ=4133\"\n",
       " \"Sim   4 of 500:  E=   3 after 29990881 iters.  dₕ=4068\"\n",
       " \"Sim   5 of 500:  E=   2 after 28070299 iters.  dₕ=4123\"\n",
       " \"Sim   6 of 500:  E=   5 after 14633513 iters.  dₕ=4221\"\n",
       " \"Sim   7 of 500:  E=   2 after 39852739 iters.  dₕ=4125\"\n",
       " \"Sim   8 of 500:  E=   3 after 10819953 iters.  dₕ=4088\"\n",
       " \"Sim   9 of 500:  E=   3 after 21181587 iters.  dₕ=4068\"\n",
       " \"Sim  10 of 500:  E=   1 after 18873029 iters.  dₕ=4176\"\n",
       " \"Sim  11 of 500:  E=   3 after 11348809 iters.  dₕ=4126\"\n",
       " \"Sim  12 of 500:  E=   2 after 15360589 iters.  dₕ=4052\"\n",
       " \"Sim  13 of 500:  E=   3 after 11210747 iters.  dₕ=3960\"\n",
       " ⋮\n",
       " \"Sim 489 of 500:  E=   8 after  3901263 iters.  dₕ=4104\"\n",
       " \"Sim 490 of 500:  E=   3 after 11880825 iters.  dₕ=4076\"\n",
       " \"Sim 491 of 500:  E=   2 after 14465805 iters.  dₕ=4155\"\n",
       " \"Sim 492 of 500:  E=   2 after 23435431 iters.  dₕ=4100\"\n",
       " \"Sim 493 of 500:  E=   3 after  9887501 iters.  dₕ=4099\"\n",
       " \"Sim 494 of 500:  E=   4 after 10736531 iters.  dₕ=4051\"\n",
       " \"Sim 495 of 500:  E=   5 after 10932771 iters.  dₕ=4157\"\n",
       " \"Sim 496 of 500:  E=   1 after 20849051 iters.  dₕ=4007\"\n",
       " \"Sim 497 of 500:  E=   1 after 15979273 iters.  dₕ=3991\"\n",
       " \"Sim 498 of 500:  E=   1 after 13473549 iters.  dₕ=4079\"\n",
       " \"Sim 499 of 500:  E=   5 after  5682067 iters.  dₕ=4090\"\n",
       " \"Sim 500 of 500:  E=   1 after 20907829 iters.  dₕ=4077\""
      ]
     },
     "execution_count": 68,
     "metadata": {},
     "output_type": "execute_result"
    }
   ],
   "source": [
    "logstr1_nocore"
   ]
  },
  {
   "cell_type": "code",
   "execution_count": 69,
   "metadata": {},
   "outputs": [
    {
     "name": "stderr",
     "output_type": "stream",
     "text": [
      "\u001b[32mProgress: 100%|█████████████████████████████████████████| Time: 1:34:13\u001b[39m\n"
     ]
    },
    {
     "data": {
      "text/plain": [
       "430-element Array{String,1}:\n",
       " \"Sim   1 of 430.  Flips 1.  Distortion before and after 0.503 0.503\"\n",
       " \"Sim   2 of 430.  Flips 1.  Distortion before and after 0.488 0.488\"\n",
       " \"Sim   3 of 430.  Flips 0.  Distortion before and after 0.497 0.497\"\n",
       " \"Sim   4 of 430.  Flips 2.  Distortion before and after 0.500 0.500\"\n",
       " \"Sim   5 of 430.  Flips 1.  Distortion before and after 0.505 0.504\"\n",
       " \"Sim   6 of 430.  Flips 0.  Distortion before and after 0.494 0.494\"\n",
       " \"Sim   7 of 430.  Flips 0.  Distortion before and after 0.487 0.487\"\n",
       " \"Sim   8 of 430.  Flips 1.  Distortion before and after 0.499 0.499\"\n",
       " \"Sim   9 of 430.  Flips 0.  Distortion before and after 0.498 0.498\"\n",
       " \"Sim  10 of 430.  Flips 1.  Distortion before and after 0.496 0.495\"\n",
       " \"Sim  11 of 430.  Flips 2.  Distortion before and after 0.489 0.489\"\n",
       " \"Sim  12 of 430.  Flips 2.  Distortion before and after 0.499 0.499\"\n",
       " \"Sim  13 of 430.  Flips 17.  Distortion before and after 0.501 0.499\"\n",
       " ⋮\n",
       " \"Sim 419 of 430.  Flips 16.  Distortion before and after 0.491 0.490\"\n",
       " \"Sim 420 of 430.  Flips 4.  Distortion before and after 0.492 0.492\"\n",
       " \"Sim 421 of 430.  Flips 0.  Distortion before and after 0.501 0.501\"\n",
       " \"Sim 422 of 430.  Flips 1.  Distortion before and after 0.496 0.496\"\n",
       " \"Sim 423 of 430.  Flips 1.  Distortion before and after 0.496 0.496\"\n",
       " \"Sim 424 of 430.  Flips 1.  Distortion before and after 0.507 0.507\"\n",
       " \"Sim 425 of 430.  Flips 6.  Distortion before and after 0.503 0.502\"\n",
       " \"Sim 426 of 430.  Flips 3.  Distortion before and after 0.498 0.497\"\n",
       " \"Sim 427 of 430.  Flips 0.  Distortion before and after 0.499 0.499\"\n",
       " \"Sim 428 of 430.  Flips 4.  Distortion before and after 0.502 0.501\"\n",
       " \"Sim 429 of 430.  Flips 5.  Distortion before and after 0.500 0.499\"\n",
       " \"Sim 430 of 430.  Flips 0.  Distortion before and after 0.511 0.511\""
      ]
     },
     "execution_count": 69,
     "metadata": {},
     "output_type": "execute_result"
    }
   ],
   "source": [
    "maxiter = Int(1e8)\n",
    "dist_nocore, logstr2_nocore = greedy_simann_overlap_trials(lm_nocore, min_energies_nocore[min_energies_nocore.!=0], \n",
    "    X_nocore, maxiter)\n",
    "logstr2_nocore"
   ]
  },
  {
   "cell_type": "code",
   "execution_count": 155,
   "metadata": {},
   "outputs": [],
   "source": [
    "E_nocore = [0,1,2,4,8,16,32, 128, 264]\n",
    "tau_nocore = [Int[] for e in E_nocore]\n",
    "# Save the time at which each instance got at energy E\n",
    "for (e,E) in enumerate(E_nocore)\n",
    "    for (j,t) in enumerate(min_energies_nocore)\n",
    "        # Find the index in vector of energy history corresponding to E\n",
    "        idx = findfirst(<=(E), E1_history_nocore[j])\n",
    "        idx !== nothing && push!(tau_nocore[e], iters1_history_nocore[j][idx]) \n",
    "    end\n",
    "end"
   ]
  },
  {
   "cell_type": "code",
   "execution_count": 156,
   "metadata": {},
   "outputs": [],
   "source": [
    "plts_nocore = Vector{Plots.Plot}(undef, length(E_nocore))\n",
    "for e in eachindex(E_nocore)\n",
    "    ydata = (1:length(tau_nocore[e])) ./ N\n",
    "   plts_nocore[e] = Plots.scatter(sort(tau_nocore[e]), ydata, label=\"E=$(E_nocore[e])\", legend=:topleft, ms=3, msw=0) \n",
    "    xlabel!(\"Iteration\")\n",
    "end"
   ]
  },
  {
   "cell_type": "code",
   "execution_count": 158,
   "metadata": {},
   "outputs": [
    {
     "name": "stdout",
     "output_type": "stream",
     "text": [
      "EMPTY CORE:\n"
     ]
    }
   ],
   "source": [
    "println(\"EMPTY CORE:\")\n",
    "# pl_core = plot(plts_nocore..., size=(800,800))\n",
    "pl_nocore = plot(plts_nocore..., size=(1500,1000), dpi=200)\n",
    "savefig(pl_nocore, \"tauE_nocore.png\")"
   ]
  },
  {
   "cell_type": "code",
   "execution_count": 178,
   "metadata": {},
   "outputs": [],
   "source": [
    "open(\"files_montecarlo/empty_core/energies.txt\", \"w\") do io\n",
    "    writedlm(io, E1_history_nocore, \" \")\n",
    "end\n",
    "open(\"files_montecarlo/empty_core/iters.txt\", \"w\") do io\n",
    "    writedlm(io, iters1_history_nocore, \" \")\n",
    "end\n",
    "open(\"files_montecarlo/empty_core/distances.txt\", \"w\") do io\n",
    "    writedlm(io, distance_history_nocore, \" \")\n",
    "end\n",
    "open(\"files_montecarlo/empty_core/distortions.txt\", \"w\") do io\n",
    "    writedlm(io, dist_nocore, \" \")\n",
    "end\n",
    "open(\"files_montecarlo/empty_core/tauE.txt\", \"w\") do io\n",
    "    writedlm(io, tau_nocore, \" \")\n",
    "end\n",
    "open(\"files_montecarlo/empty_core/full_log1.txt\", \"w\") do io\n",
    "    writedlm(io, logstr1_nocore, \"\\n\")\n",
    "end\n",
    "open(\"files_montecarlo/empty_core/full_log2.txt\", \"w\") do io\n",
    "    writedlm(io, logstr2_nocore, \"\\n\")\n",
    "end"
   ]
  },
  {
   "cell_type": "code",
   "execution_count": null,
   "metadata": {},
   "outputs": [],
   "source": []
  }
 ],
 "metadata": {
  "kernelspec": {
   "display_name": "Julia 1.5.3",
   "language": "julia",
   "name": "julia-1.5"
  },
  "language_info": {
   "file_extension": ".jl",
   "mimetype": "application/julia",
   "name": "julia",
   "version": "1.5.3"
  }
 },
 "nbformat": 4,
 "nbformat_minor": 4
}
