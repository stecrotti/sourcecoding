{
 "cells": [
  {
   "cell_type": "markdown",
   "metadata": {},
   "source": [
    "Max-Sum equations\n",
    "--\n",
    "\n",
    "\\begin{align*}\n",
    "u_{ai}\\left(\\sigma_{i}\\right)= &\\sigma_{i}f_{ai}+g_{ai}\\\\\n",
    "u_{ai}\\left(\\sigma_{i}\\right)= & \\max_{\\{\\sigma_{j}:j\\in\\partial a\\setminus i\\}:\\prod_{j}\\sigma_{j}=1}\\sum_{j\\in\\partial a\\setminus i}u_{ja}\\left(\\sigma_{j}\\right)+\\sigma_{j}s_{j}+const\\\\\n",
    "b_{i}\\left(\\sigma_{i}\\right)= & u_{ai}\\left(\\sigma_{i}\\right)+u_{bi}\\left(\\sigma_{i}\\right)+\\sigma_{i}s_{i}+const=b_{i}\\sigma_{i}+const\\\\\n",
    "b_{i}= & \\frac{1}{2}\\left[f_{ai}+f_{bi}+s_{i}-\\left(-f_{ai}-f_{bi}-s_{i}\\right)\\right]\\\\\n",
    "= & f_{ai}+f_{bi}+s_{i}\\\\\n",
    "\\sigma_{i}f_{ai}= & \\max_{\\{\\sigma_{j}:j\\in\\partial a\\setminus i\\}:\\prod_{j}\\sigma_{j}=1}\\sum_{j\\in\\partial a\\setminus i}f_{ja}\\sigma_{j}+\\sigma_{j}s_{j}+const\\\\\n",
    "f_{ai}= & \\frac{1}{2}\\left[\\max_{\\{\\sigma_{j}:j\\in\\partial a\\setminus i\\}:\\prod_{j\\neq i}\\sigma_{j}=1}\\left(\\sum_{j\\in\\partial a\\setminus i}\\left(f_{ja}+s_{j}\\right)\\sigma_{j}\\right)-\\max_{\\{\\sigma_{j}:j\\in\\partial a\\setminus i\\}:\\prod_{j\\neq i}\\sigma_{j}=-1}\\left(\\sum_{j\\in\\partial a\\setminus i}\\left(f_{ja}+s_{j}\\right)\\sigma_{j}\\right)\\right]\\\\\n",
    "= & \\frac{1}{2}\\begin{cases}\n",
    "\\sum_{j\\in\\partial a\\setminus i}\\left|f_{ja}+s_{j}\\right| & \\text{if }\\prod\\left(f_{ja}+s_{j}\\right)>0\\\\\n",
    "\\sum_{j\\in\\partial a\\setminus i}\\left|f_{ja}+s_{j}\\right|-2\\min_{j\\in\\partial a\\setminus i}\\left|f_{ja}+s_{j}\\right| & \\text{if }\\prod\\left(f_{ja}+s_{j}\\right)<0\n",
    "\\end{cases}-\\\\\n",
    " & -\\frac{1}{2}\\begin{cases}\n",
    "\\sum_{j\\in\\partial a\\setminus i}\\left|f_{ja}+s_{j}\\right| & \\text{if }\\prod\\left(f_{ja}+s_{j}\\right)<0\\\\\n",
    "\\sum_{j\\in\\partial a\\setminus i}\\left|f_{ja}+s_{j}\\right|-2\\min_{j\\in\\partial a\\setminus i}\\left|f_{ja}+s_{j}\\right| & \\text{if }\\prod\\left(f_{ja}+s_{j}\\right)>0\n",
    "\\end{cases}\\\\\n",
    "= & \\begin{cases}\n",
    "\\min_{j\\in\\partial a\\setminus i}\\left|f_{ja}+s_{j}\\right| & \\text{if }\\prod\\left(f_{ja}+s_{j}\\right)>0\\\\\n",
    "-\\min_{j\\in\\partial a\\setminus i}\\left|f_{ja}+s_{j}\\right| & \\text{if }\\prod\\left(f_{ja}+s_{j}\\right)<0\n",
    "\\end{cases}\n",
    "\\end{align*}\n",
    "\n",
    "So we get\n",
    "$$f_{ai}= \\min_{j\\in\\partial a\\setminus i}\\left|f_{ja}+s_{j}\\right|\\prod_{j\\in\\partial a\\setminus i}\\text{sign}\\left(f_{ja}+s_{j}\\right)$$\n"
   ]
  },
  {
   "cell_type": "markdown",
   "metadata": {},
   "source": [
    "Distribution in the quenched disorder\n",
    "---\n",
    "\n",
    "\\begin{align*}\n",
    "p\\left(f\\right)= & \\frac{1}{2^{k}}\\sum_{f_{1},\\dots,f_{k}}\\sum_{s_{1},\\dots,s_{k}}\\delta\\left(f;\\min_{j=1,\\dots,k}\\left|f_{j}+s_{j}\\right|\\prod_{j=1}^{k}\\text{sign}\\left(f_{j}+s_{j}\\right)\\right)\\prod_{j=1}^{k}p\\left(f_{j}\\right)\\\\\n",
    "=& \\frac{1}{2^{k}}\\sum_{f_{1},\\dots,f_{k}}\\delta\\left(f;\\min_{j=1,\\dots,k}\\left|f_{j}\\right|\\prod_{j=1}^{k}\\text{sign}\\left(f_{j}\\right)\\right)\\prod_{j=1}^{k}\\sum_{s_j}p\\left(f_{j}+s_j\\right)\\\\\n",
    "\\end{align*}"
   ]
  },
  {
   "cell_type": "code",
   "execution_count": 68,
   "metadata": {},
   "outputs": [
    {
     "data": {
      "text/plain": [
       "iter_slow (generic function with 1 method)"
      ]
     },
     "execution_count": 68,
     "metadata": {},
     "output_type": "execute_result"
    }
   ],
   "source": [
    "using OffsetArrays\n",
    "\n",
    "\n",
    "function iter_slow(p,K)\n",
    "    N = lastindex(p)\n",
    "    p1 = copy(p)\n",
    "    p1 .= 0\n",
    "    S = CartesianIndices(Tuple(fill(0:1,K-1)))\n",
    "    for F in CartesianIndices(Tuple(fill(-N:N,K-1)))\n",
    "        ff = Tuple(F)\n",
    "        P = prod(p[fi] for fi in ff)\n",
    "        for fs in map(s -> ff .+ (2 .* Tuple(s) .- 1), S)\n",
    "            f = minimum(abs.(fs))*sign(prod(fs))\n",
    "            #println(\"$ff $fs $f $P\")\n",
    "            p1[clamp(f, -N, N)] += P\n",
    "        end\n",
    "    end\n",
    "    p1 / sum(p1)\n",
    "end"
   ]
  },
  {
   "cell_type": "markdown",
   "metadata": {},
   "source": [
    "Simplifications\n",
    "--\n",
    "\n",
    "$$f = \\min_{j=1,\\dots,k}\\left|f_{j}+s_{j}\\right|\\prod_{j=1}^k\\text{sign}\\left(f_{j}+s_{j}\\right)$$"
   ]
  },
  {
   "cell_type": "markdown",
   "metadata": {},
   "source": [
    "\\begin{align*}\n",
    "p\\left(f\\right)= & \\frac{1}{2^{k}}\\sum_{f_{1},\\dots,f_{k}}\\sum_{s_{1},\\dots,s_{k}}\\delta\\left(f;\\min_{j=1,\\dots,k}\\left|f_{j}+s_{j}\\right|\\prod_{j=1}^{k}\\text{sign}\\left(f_{j}+s_{j}\\right)\\right)\\prod_{j=1}^{k}p\\left(f_{j}\\right)\\\\\n",
    "= & \\sum_{f_{1},\\dots,f_{k}}\\delta\\left(f;\\min_{j=1,\\dots,k}\\left|f_{j}\\right|\\prod_{j=1}^{k}\\text{sign}\\left(f_{j}\\right)\\right)\\prod_{j=1}^{k}\\frac{1}{2}\\sum_{s_{j}}p\\left(f_{j}-s_{j}\\right)\\\\\n",
    "= & \\begin{cases}\n",
    "\\frac{1}{2}\\sum_{f_{1},\\dots,f_{k}>0}\\delta\\left(f;\\min_{j=1,\\dots,k}f_{j}\\right)\\prod_{j=1}^{k}\\sum_{s_{j}}p\\left(f_{j}-s_{j}\\right) & \\text{ for }f>0\\\\\n",
    "\\sum_{n=1}^{k}\\binom{k}{n}\\left(\\frac{1}{2}\\sum_{s_{j}}p\\left(s_{j}\\right)\\right)^{k-n}\\left(\\sum_{f'>0}\\sum_{s}p\\left(f'-s\\right)\\right)^{n} & \\text{ for }f=0\n",
    "\\end{cases}\\\\\n",
    "= & \\begin{cases}\n",
    "\\frac{1}{2}\\left\\{ \\left(\\sum_{f'\\geq f}\\sum_{s}p\\left(f'+s\\right)\\right)^{k}-\\left(\\sum_{f'>f}\\sum_{s}p\\left(f'+s\\right)\\right)^{k}\\right\\}  & \\text{ for }f>0\\\\\n",
    "\\sum_{n=1}^{k}\\binom{k}{n}\\left(\\frac{1}{2}\\sum_{s}p\\left(s\\right)\\right)^{k-n}\\left(\\sum_{f'>0}\\sum_{s}p\\left(f'+s\\right)\\right)^{n} & \\text{ for }f=0\n",
    "\\end{cases}\\\\\n",
    "= & \\begin{cases}\n",
    "\\frac{1}{2}\\left\\{ \\left(\\sum_{f'\\geq f}\\sum_{s\\in\\pm1}p\\left(f'+s\\right)\\right)^{k}-\\left(\\sum_{f'>f}\\sum_{s\\in\\pm1}p\\left(f'+s\\right)\\right)^{k}\\right\\}  & \\text{ for }f>0\\\\\n",
    "\\left(\\frac{1}{2}\\sum_{s\\in\\pm1}p\\left(s\\right)+\\sum_{f'>0}\\sum_{s\\in\\pm1}p\\left(f'+s\\right)\\right)^{k}-\\left(\\sum_{f'>0}\\sum_{s\\in\\pm1}p\\left(f'+s\\right)\\right)^{k} & \\text{ for }f=0\n",
    "\\end{cases}\n",
    "\\end{align*}\n"
   ]
  },
  {
   "cell_type": "code",
   "execution_count": 194,
   "metadata": {},
   "outputs": [
    {
     "data": {
      "text/plain": [
       "iter (generic function with 1 method)"
      ]
     },
     "execution_count": 194,
     "metadata": {},
     "output_type": "execute_result"
    }
   ],
   "source": [
    "function iter(p,K)\n",
    "    k = K - 1\n",
    "    p1 = copy(p)\n",
    "    p1 .= 0.0\n",
    "    N = lastindex(p1)-1\n",
    "    for f = 1:N\n",
    "        v1 = p[f+1]+p[f-1]\n",
    "        v2 = sum((p[f1+1]+p[f1-1] for f1=f+1:N), init=0.0)\n",
    "        v = (v1+v2)^k-v2^k\n",
    "        p1[+f] = v/2\n",
    "        p1[-f] = v/2\n",
    "    end\n",
    "    v1 = (p[1]+p[-1])/2\n",
    "    v2 = sum(p[f1+1]+p[f1-1] for f1=1:N)\n",
    "    p1[0] = (v1+v2)^k-v2^k\n",
    "    p1 ./ sum(p1)\n",
    "end"
   ]
  },
  {
   "cell_type": "markdown",
   "metadata": {},
   "source": [
    "Comparison\n",
    "--"
   ]
  },
  {
   "cell_type": "code",
   "execution_count": 69,
   "metadata": {},
   "outputs": [
    {
     "data": {
      "text/plain": [
       "15×2 Matrix{Float64}:\n",
       " 1.82615e-52  1.74776e-52\n",
       " 3.33866e-27  3.31785e-27\n",
       " 6.99126e-14  6.98397e-14\n",
       " 3.49772e-7   3.49759e-7\n",
       " 0.000847722  0.000847676\n",
       " 0.0399563    0.039957\n",
       " 0.245227     0.245223\n",
       " 0.427938     0.427943\n",
       " 0.245227     0.245223\n",
       " 0.0399563    0.039957\n",
       " 0.000847722  0.000847676\n",
       " 3.49772e-7   3.49759e-7\n",
       " 6.99126e-14  6.98397e-14\n",
       " 3.33866e-27  3.31785e-27\n",
       " 1.82615e-52  1.74776e-52"
      ]
     },
     "execution_count": 69,
     "metadata": {},
     "output_type": "execute_result"
    }
   ],
   "source": [
    "N=7\n",
    "N1 = 8\n",
    "p=OffsetArray(zeros(2N1+1), -N1:N1);\n",
    "p[-N+1:N-1] .= 1/(2N-1)\n",
    "q1 = copy(p)\n",
    "q2 = copy(p)\n",
    "\n",
    "for i=1:10\n",
    "    q1 = iter_slow(q1,3)\n",
    "    q2 = iter(q2,3)\n",
    "end\n",
    "[q1[-N:N] q2[-N:N]]"
   ]
  },
  {
   "cell_type": "code",
   "execution_count": 183,
   "metadata": {},
   "outputs": [
    {
     "data": {
      "text/plain": [
       "findsolution (generic function with 1 method)"
      ]
     },
     "execution_count": 183,
     "metadata": {},
     "output_type": "execute_result"
    }
   ],
   "source": [
    "function findsolution(k; tol=1e-15, maxiter=10^7, eq=iter, N=6)\n",
    "    err = Inf\n",
    "    p=OffsetArray(zeros(2N+3), -N-1:N+1);\n",
    "    p[-N+1:N-1] .= 1/(2N+1)\n",
    "    p ./= sum(p);\n",
    "    for i = 1:maxiter\n",
    "        (err <= tol) && break\n",
    "        q = eq(p,k)\n",
    "        err = maximum(abs.(q-p))\n",
    "        p = 0.1q + 0.9p\n",
    "    end\n",
    "    @show k, err\n",
    "    p\n",
    "end"
   ]
  },
  {
   "cell_type": "markdown",
   "metadata": {},
   "source": [
    "Free Energy\n",
    "--\n",
    "\n",
    "\\begin{align*}\n",
    "-F_{a} & =\\frac{1}{\\beta}\\log\\sum_{\\sigma:sat}\\prod_{i\\in\\partial a}\\frac{e^{\\beta\\left(f_{bi}+s_{i}\\right)\\sigma_{i}}}{2\\cosh\\left(\\beta f_{bi}\\right)}\\\\\n",
    " & =\\frac{1}{\\beta}\\log\\sum_{\\sigma:sat}e^{\\beta\\sum_{i\\in\\partial a}\\left(f_{bi}+s_{i}\\right)\\sigma_{i}}-\\frac{1}{\\beta}\\sum_{i\\in\\partial a}\\log2\\cosh\\left(\\beta f_{bi}\\right)\\\\\n",
    " & \\to\\max_{\\sigma:sat}\\sum_{i\\in\\partial a}\\left(f_{bi}+s_{i}\\right)\\sigma_{i}-\\sum_{i\\in\\partial a}\\left|f_{bi}\\right|\\\\\n",
    " & =\\sum_{i\\in\\partial a}\\left\\{ \\left|f_{bi}+s_{i}\\right|-\\left|f_{bi}\\right|\\right\\} -\\Theta\\left(-\\prod_{i\\in\\partial a}\\left(f_{bi}+s_{i}\\right)\\right)2\\min_{i\\in\\partial a}\\left|f_{bi}+s_{i}\\right|\\\\\n",
    " & =\\sum_{i\\in\\partial a}\\left\\{ \\left|f_{bi}+s_{i}\\right|-\\left|f_{bi}\\right|\\right\\} -\\Theta\\left(-\\prod_{i\\in\\partial a}\\left(f_{bi}+s_{i}\\right)\\right)2\\min_{i\\in\\partial a}\\left|f_{bi}+s_{i}\\right|\\\\\n",
    "-F_{i} & =\\frac{1}{\\beta}\\log\\sum_{\\sigma_{i}}\\frac{e^{\\beta\\sigma_{i}\\left(f_{ai}+f_{bi}+s_{i}\\right)}}{2\\cosh\\left(\\beta f_{ai}\\right)2\\cosh\\left(\\beta f_{bi}\\right)}\\\\\n",
    " & =\\frac{1}{\\beta}\\log\\sum_{\\sigma_{i}}e^{\\beta\\sigma_{i}\\left(f_{ai}+f_{bi}+s_{i}\\right)}-\\frac{1}{\\beta}\\log2\\cosh\\left(\\beta f_{ai}\\right)-\\frac{1}{\\beta}\\log2\\cosh\\left(\\beta f_{bi}\\right)\\\\\n",
    " & \\to\\left|f_{ai}+f_{bi}+s_{i}\\right|-\\left|f_{ai}\\right|-\\left|f_{bi}\\right|\\\\\n",
    "F &= \\sum_{a}F_{a}-\\sum_{i}F_{i}\n",
    "\\end{align*}\n",
    "\n",
    "So we get the overlap:\n",
    "\n",
    "$$O=-F= -\\sum_{a}F_{a}+\\sum_{i}F_{i}$$\n"
   ]
  },
  {
   "cell_type": "code",
   "execution_count": 70,
   "metadata": {},
   "outputs": [
    {
     "data": {
      "text/plain": [
       "overlap_slow (generic function with 1 method)"
      ]
     },
     "execution_count": 70,
     "metadata": {},
     "output_type": "execute_result"
    }
   ],
   "source": [
    "function overlap_slow(p,K)\n",
    "    N = lastindex(p)\n",
    "    O = 0.0\n",
    "    S = CartesianIndices(Tuple(fill(0:1,K)))\n",
    "    for ff in map(Tuple, CartesianIndices(Tuple(fill(-N:N,K))))\n",
    "        P = prod(p[fi] for fi in ff) / 2^K\n",
    "        for fs in map(s -> ff .+ (2 .* Tuple(s) .- 1), S)\n",
    "            O += P*sum(abs.(fs))\n",
    "            if prod(fs) < 0\n",
    "                O -= P*2*minimum(abs.(fs))\n",
    "            end\n",
    "        end\n",
    "    end\n",
    "    O *= 2/K\n",
    "    for f1=-N:N\n",
    "        for f2=-N:N\n",
    "            for s = (-1,1)\n",
    "                O -= p[f1]*p[f2]*0.5*(abs(f1+f2+s))\n",
    "            end\n",
    "        end\n",
    "    end\n",
    "    O\n",
    "end"
   ]
  },
  {
   "cell_type": "markdown",
   "metadata": {},
   "source": [
    "*Simplifications for the overlap*\n",
    "\n",
    "* On a single instance (by rearranging the sums)\n",
    "\n",
    "$O=-\\frac{1}{n}\\sum_{a=1}^m\\Theta\\left(-\\prod_{i\\in\\partial a}\\left(f_{bi}+s_{i}\\right)\\right)2\\min_{i\\in\\partial a}\\left|f_{bi}+s_{i}\\right|+\\frac{1}{n}\\sum_{i=1}^n\\left(|f_{bi}+s_i|+|f_{ai}+s_i|-|f_{ai}+f_{bi}+s_i|\\right)$\n",
    "\n",
    "* Averaging over the graph and source (for an arbitrary factor degree profile $P(X)$)\n",
    "\\begin{align*}\n",
    "O^{RS} &= \\sum_s\\frac{1}{2}\\sum_{f_1,f_2}\\left(|f_1+s|+|f_2+s|-|f_1+f_2+s|\\right)p(f_1)p(f_2) \\\\\n",
    "&- \\frac{2}{P'(1)}\\sum_{k=0}^{\\infty}P_k\\sum_{f_1,\\dots,f_k}\\sum_{s_1,\\dots,s_k}\\frac{1}{2^k}\\Theta\\left(-\\prod_{i=1}^k\\left(f_i+s_i\\right)\\right)2\\min_{i=1,\\dots,k}\\left|f_i+s_i\\right|\\prod_{i=1}^k p(f_i)\\\\\n",
    "\\end{align*}\n",
    "* The second term can be simplified:\n",
    "\\begin{align*}\n",
    "&\\sum_{f_1,\\dots,f_k}\\sum_{s_1,\\dots,s_k}\\frac{1}{2^k}\\Theta\\left(-\\prod_{i=1}^k\\left(f_i+s_i\\right)\\right)2\\min_{i=1,\\dots,k}\\left|f_i+s_i\\right|\\prod_{i=1}^k p(f_i)\\\\\n",
    "=& \\sum_{f_1,\\dots,f_k} \\Theta\\left(-\\prod_{i=1}^k f_i\\right)2\\min_{i=1,\\dots,k}|f_i|\\prod_{i=1}^k\\left(\\sum_{s_i}\\frac{1}{2}p(f_i-s_i)\\right)\\\\\n",
    "=& \\sum_{f_1,\\dots,f_k>0}\\min_{i=1,\\dots,k}(f_i)\\prod_{i=1}^k\\left(\\sum_{s_i}p(f_i-s_i)\\right)\\\\\n",
    "=& \\sum_{f>0}f\\sum_{n=1}^k{k\\choose n}\\left(\\sum_s p(f-s)\\right)^n\\left(\\sum_{f'>f}\\sum_s p(f'-s)\\right)^{k-n} \\\\\n",
    "=& \\sum_{f>0}f\\left\\{ \\left(\\sum_{f'\\geq f}\\sum_s p(f'-s)\\right)^k - \\left(\\sum_{f'>f}\\sum_s p(f'-s)\\right)^k\\right\\}\n",
    "\\end{align*}\n",
    "\n",
    "*RS equations for an arbitrary factor degree profile $P(X)$*\n",
    "\n",
    "\\begin{align*}\n",
    "p\\left(f\\right)=\\sum_{k=0}^{\\infty}\\tilde{P_k}\\frac{1}{2^{k}}\\sum_{f_{1},\\dots,f_{k}}\\sum_{s_{1},\\dots,s_{k}}\\delta\\left(f;\\min_{j=1,\\dots,k}\\left|f_{j}+s_{j}\\right|\\prod_{j=1}^{k}\\text{sign}\\left(f_{j}+s_{j}\\right)\\right)\\prod_{j=1}^{k}p\\left(f_{j}\\right)\n",
    "\\end{align*}\n",
    "with the residual degree profile \n",
    "\\begin{align*}\n",
    "\\tilde{P_k}=\\frac{(k+1)P_{k+1}}{P'(1)}\n",
    "\\end{align*}\n",
    "Using the simplifications below:\n",
    "\\begin{align*}\n",
    "p\\left(f\\right)=\\sum_{k=0}^{\\infty}\\tilde{P_k}\\begin{cases}\n",
    "\\frac{1}{2}\\left\\{ \\left(\\sum_{f'\\geq f}\\sum_{s\\in\\pm1}p\\left(f'+s\\right)\\right)^{k}-\\left(\\sum_{f'>f}\\sum_{s\\in\\pm1}p\\left(f'+s\\right)\\right)^{k}\\right\\}  & \\text{ for }f>0\\\\\n",
    "\\left(\\frac{1}{2}\\sum_{s\\in\\pm1}p\\left(s\\right)+\\sum_{f'>0}\\sum_{s\\in\\pm1}p\\left(f'+s\\right)\\right)^{k}-\\left(\\sum_{f'>0}\\sum_{s\\in\\pm1}p\\left(f'+s\\right)\\right)^{k} & \\text{ for }f=0\n",
    "\\end{cases}\n",
    "\\end{align*}"
   ]
  },
  {
   "cell_type": "code",
   "execution_count": 71,
   "metadata": {},
   "outputs": [
    {
     "data": {
      "text/plain": [
       "overlap (generic function with 1 method)"
      ]
     },
     "execution_count": 71,
     "metadata": {},
     "output_type": "execute_result"
    }
   ],
   "source": [
    "using OffsetArrays\n",
    "\n",
    "function overlap(p,k)\n",
    "    O = 0.0\n",
    "    N = lastindex(p)-1\n",
    "    for f1=-N:N\n",
    "        for f2=-N:N\n",
    "            for s = (-1,1)\n",
    "                O += p[f1]*p[f2]*0.5*(abs(f1+s)+abs(f2+s)-abs(f1+f2+s))\n",
    "            end\n",
    "        end\n",
    "    end\n",
    "    tmp = 0.0\n",
    "    for f = 1:N-1\n",
    "        v1 = p[f+1]+p[f-1]\n",
    "        v2 = sum(p[f1+1]+p[f1-1] for f1=f+1:N)\n",
    "        v = (v1+v2)^k-v2^k\n",
    "        tmp += f*v\n",
    "    end\n",
    "    O -= tmp*2/k\n",
    "    O\n",
    "end"
   ]
  },
  {
   "cell_type": "code",
   "execution_count": 81,
   "metadata": {},
   "outputs": [
    {
     "name": "stdout",
     "output_type": "stream",
     "text": [
      "(k, err) = (3, 9.992007221626409e-16)\n"
     ]
    },
    {
     "data": {
      "text/plain": [
       "1×2 Matrix{Float64}:\n",
       " 0.580759  0.580759"
      ]
     },
     "execution_count": 81,
     "metadata": {},
     "output_type": "execute_result"
    }
   ],
   "source": [
    "p=findsolution(3)\n",
    "[overlap_slow(p,3) overlap(p,3)]"
   ]
  },
  {
   "cell_type": "code",
   "execution_count": 151,
   "metadata": {},
   "outputs": [
    {
     "data": {
      "text/plain": [
       "distortion (generic function with 1 method)"
      ]
     },
     "execution_count": 151,
     "metadata": {},
     "output_type": "execute_result"
    }
   ],
   "source": [
    "distortion(K; kwdargs...) = (1-overlap(findsolution(K; kwdargs...), K))/2"
   ]
  },
  {
   "cell_type": "code",
   "execution_count": 82,
   "metadata": {},
   "outputs": [
    {
     "name": "stdout",
     "output_type": "stream",
     "text": [
      "(k, err) = (3, 9.992007221626409e-16)\n",
      "(k, err) = (4, 9.992007221626409e-16)\n",
      "(k, err) = (5, 8.881784197001252e-16)\n",
      "(k, err) = (6, 9.992007221626409e-16)\n",
      "(k, err) = (7, 9.992007221626409e-16)\n",
      "(k, err) = (8, 8.881784197001252e-16)\n",
      "(k, err) = (9, 9.992007221626409e-16)\n",
      "(k, err) = (10, 9.992007221626409e-16)\n",
      "(k, err) = (11, 8.881784197001252e-16)\n",
      "(k, err) = (12, 6.661338147750939e-16)\n",
      "(k, err) = (13, 3.469446951953614e-16)\n",
      "(k, err) = (14, 7.771561172376096e-16)\n",
      "(k, err) = (15, 8.881784197001252e-16)\n",
      "(k, err) = (16, 8.881784197001252e-16)\n",
      "(k, err) = (17, 9.992007221626409e-16)\n",
      "(k, err) = (18, 7.771561172376096e-16)\n",
      "(k, err) = (19, 8.881784197001252e-16)\n",
      "(k, err) = (20, 8.881784197001252e-16)\n",
      "(k, err) = (21, 8.881784197001252e-16)\n",
      "(k, err) = (22, 8.881784197001252e-16)\n",
      "(k, err) = (23, 8.881784197001252e-16)\n",
      "(k, err) = (24, 8.881784197001252e-16)\n",
      "(k, err) = (25, 6.661338147750939e-16)\n",
      "(k, err) = (26, 7.771561172376096e-16)\n",
      "(k, err) = (27, 5.551115123125783e-16)\n",
      "(k, err) = (28, 9.992007221626409e-16)\n",
      "(k, err) = (29, 7.771561172376096e-16)\n",
      "(k, err) = (30, 6.661338147750939e-16)\n",
      "(k, err) = (31, 7.771561172376096e-16)\n",
      "(k, err) = (32, 5.551115123125783e-16)\n",
      "(k, err) = (33, 8.881784197001252e-16)\n",
      "(k, err) = (34, 9.992007221626409e-16)\n",
      "(k, err) = (35, 9.992007221626409e-16)\n",
      "(k, err) = (36, 3.3306690738754696e-16)\n",
      "(k, err) = (37, 8.881784197001252e-16)\n",
      "(k, err) = (38, 4.579669976578771e-16)\n",
      "(k, err) = (39, 8.881784197001252e-16)\n",
      "(k, err) = (40, 4.440892098500626e-16)\n",
      "(k, err) = (41, 8.881784197001252e-16)\n",
      "(k, err) = (42, 8.881784197001252e-16)\n",
      "(k, err) = (43, 4.440892098500626e-16)\n",
      "(k, err) = (44, 5.551115123125783e-16)\n",
      "(k, err) = (45, 9.992007221626409e-16)\n",
      "(k, err) = (46, 8.881784197001252e-16)\n",
      "(k, err) = (47, 9.992007221626409e-16)\n",
      "(k, err) = (48, 8.881784197001252e-16)\n",
      "(k, err) = (49, 9.992007221626409e-16)\n",
      "(k, err) = (50, 7.771561172376096e-16)\n",
      "(k, err) = (51, 8.881784197001252e-16)\n",
      "(k, err) = (52, 8.881784197001252e-16)\n",
      "(k, err) = (53, 8.881784197001252e-16)\n",
      "(k, err) = (54, 4.440892098500626e-16)\n",
      "(k, err) = (55, 7.771561172376096e-16)\n",
      "(k, err) = (56, 9.992007221626409e-16)\n",
      "(k, err) = (57, 4.440892098500626e-16)\n",
      "(k, err) = (58, 9.992007221626409e-16)\n",
      "(k, err) = (59, 6.661338147750939e-16)\n",
      "(k, err) = (60, 8.881784197001252e-16)\n",
      "(k, err) = (61, 6.661338147750939e-16)\n",
      "(k, err) = (62, 5.551115123125783e-16)\n",
      "(k, err) = (63, 9.992007221626409e-16)\n",
      "(k, err) = (64, 9.992007221626409e-16)\n",
      "(k, err) = (65, 3.5388358909926865e-16)\n",
      "(k, err) = (66, 9.992007221626409e-16)\n",
      "(k, err) = (67, 4.371503159461554e-16)\n",
      "(k, err) = (68, 9.992007221626409e-16)\n",
      "(k, err) = (69, 3.608224830031759e-16)\n",
      "(k, err) = (70, 4.440892098500626e-16)\n",
      "(k, err) = (71, 9.992007221626409e-16)\n",
      "(k, err) = (72, 6.661338147750939e-16)\n",
      "(k, err) = (73, 9.992007221626409e-16)\n",
      "(k, err) = (74, 6.661338147750939e-16)\n",
      "(k, err) = (75, 9.992007221626409e-16)\n",
      "(k, err) = (76, 8.881784197001252e-16)\n",
      "(k, err) = (77, 8.881784197001252e-16)\n",
      "(k, err) = (78, 6.661338147750939e-16)\n",
      "(k, err) = (79, 9.992007221626409e-16)\n",
      "(k, err) = (80, 6.314393452555578e-16)\n",
      "(k, err) = (81, 6.453171330633722e-16)\n",
      "(k, err) = (82, 5.551115123125783e-16)\n",
      "(k, err) = (83, 5.551115123125783e-16)\n",
      "(k, err) = (84, 6.661338147750939e-16)\n",
      "(k, err) = (85, 9.992007221626409e-16)\n",
      "(k, err) = (86, 7.771561172376096e-16)\n",
      "(k, err) = (87, 5.898059818321144e-16)\n",
      "(k, err) = (88, 8.049116928532385e-16)\n",
      "(k, err) = (89, 9.992007221626409e-16)\n",
      "(k, err) = (90, 6.071532165918825e-16)\n",
      "(k, err) = (91, 5.551115123125783e-16)\n",
      "(k, err) = (92, 8.604228440844963e-16)\n",
      "(k, err) = (93, 6.661338147750939e-16)\n",
      "(k, err) = (94, 5.551115123125783e-16)\n",
      "(k, err) = (95, 4.440892098500626e-16)\n",
      "(k, err) = (96, 6.661338147750939e-16)\n",
      "(k, err) = (97, 9.992007221626409e-16)\n",
      "(k, err) = (98, 8.881784197001252e-16)\n",
      "(k, err) = (99, 8.881784197001252e-16)\n",
      "(k, err) = (100, 9.992007221626409e-16)\n"
     ]
    },
    {
     "data": {
      "text/plain": [
       "98×2 Matrix{Float64}:\n",
       " 0.333333  0.209621\n",
       " 0.5       0.141487\n",
       " 0.6       0.105593\n",
       " 0.666667  0.0830604\n",
       " 0.714286  0.0676468\n",
       " 0.75      0.0565155\n",
       " 0.777778  0.0481531\n",
       " 0.8       0.0416759\n",
       " 0.818182  0.0365343\n",
       " 0.833333  0.03237\n",
       " 0.846154  0.0289401\n",
       " 0.857143  0.0260744\n",
       " 0.866667  0.0236504\n",
       " ⋮         \n",
       " 0.977528  0.00164242\n",
       " 0.977778  0.00161386\n",
       " 0.978022  0.00158609\n",
       " 0.978261  0.00155908\n",
       " 0.978495  0.0015328\n",
       " 0.978723  0.00150723\n",
       " 0.978947  0.00148234\n",
       " 0.979167  0.0014581\n",
       " 0.979381  0.00143449\n",
       " 0.979592  0.00141149\n",
       " 0.979798  0.00138908\n",
       " 0.98      0.00136723"
      ]
     },
     "execution_count": 82,
     "metadata": {},
     "output_type": "execute_result"
    }
   ],
   "source": [
    "Ks = 3:100\n",
    "D = distortion.(Ks)\n",
    "R = 1 .- 2 ./ Ks\n",
    "\n",
    "[R D]"
   ]
  },
  {
   "cell_type": "code",
   "execution_count": 80,
   "metadata": {},
   "outputs": [
    {
     "data": {
      "image/png": "[encoded data removed]",
      "text/plain": [
       "Figure(PyObject <Figure size 640x480 with 1 Axes>)"
      ]
     },
     "metadata": {},
     "output_type": "display_data"
    },
    {
     "data": {
      "text/plain": [
       "1-element Vector{PyCall.PyObject}:\n",
       " PyObject <matplotlib.lines.Line2D object at 0x7f604a66d280>"
      ]
     },
     "execution_count": 80,
     "metadata": {},
     "output_type": "execute_result"
    }
   ],
   "source": [
    "using PyPlot\n",
    "H(p)=1+p*log2(p)+(1-p)*log2(1-p)\n",
    "\n",
    "#xlim(0,1)\n",
    "#ylim(0,0.5)\n",
    "plot(R,D, \"+\")\n",
    "plot((0,1),(0.5,0))\n",
    "plot(H.(0:0.001:0.5), 0:0.001:0.5)"
   ]
  },
  {
   "cell_type": "code",
   "execution_count": 196,
   "metadata": {},
   "outputs": [
    {
     "data": {
      "text/plain": [
       "mixed (generic function with 2 methods)"
      ]
     },
     "execution_count": 196,
     "metadata": {},
     "output_type": "execute_result"
    }
   ],
   "source": [
    "function mixed(pk; maxiter=10^7, tol=1e-15, N=6)\n",
    "    N1 = N + 1\n",
    "    p=OffsetArray(zeros(2N1+1), -N1:N1);\n",
    "    p[-N+1:N-1] .= 1/(2N-1)\n",
    "    krange = [k for k in eachindex(pk) if pk[k] > 0]\n",
    "    @assert sum(pk[krange]) ≈ 1\n",
    "    z = sum(k*pk[k] for k=krange)\n",
    "    for i=1:10000\n",
    "        p1 = sum(k*pk[k]*iter(p,k) for k=krange)/z\n",
    "        if sum(abs.(p1 - p)) < tol\n",
    "            break\n",
    "        end\n",
    "        p = p1\n",
    "    end\n",
    "    O = sum(pk[k]*overlap(p,k) for k=krange)\n",
    "    D = (1-O)/2\n",
    "end"
   ]
  },
  {
   "cell_type": "code",
   "execution_count": 203,
   "metadata": {},
   "outputs": [
    {
     "data": {
      "text/plain": [
       "21-element Vector{Float64}:\n",
       " 0.20962056095628723\n",
       " 0.21844750705699223\n",
       " 0.22737347619125586\n",
       " 0.23641189676689034\n",
       " 0.2455784284141725\n",
       " 0.2548914740795251\n",
       " 0.26437284791950577\n",
       " 0.2740486611594999\n",
       " 0.2839505198175316\n",
       " 0.29411718029362266\n",
       " 0.30459689751884444\n",
       " 0.31545085785136456\n",
       " 0.3267583828033136\n",
       " 0.33862517170531237\n",
       " 0.3511970908730625\n",
       " 0.3646849082806881\n",
       " 0.3794129672204619\n",
       " 0.39592825758891687\n",
       " 0.41529866755323686\n",
       " 0.4402840293012398\n",
       " 0.49741784664954025"
      ]
     },
     "execution_count": 203,
     "metadata": {},
     "output_type": "execute_result"
    }
   ],
   "source": [
    "pks = (r->[0.0,r,1-r]).(0.0:0.05:1.0)\n",
    "αs = 2 ./ [sum(k*pk[k] for k=eachindex(pk)) for pk in pks]\n",
    "Rm = 1 .- αs\n",
    "Dm = mixed.(pks, N=500)"
   ]
  },
  {
   "cell_type": "code",
   "execution_count": 204,
   "metadata": {},
   "outputs": [
    {
     "data": {
      "image/png": "[encoded data removed]",
      "text/plain": [
       "Figure(PyObject <Figure size 640x480 with 1 Axes>)"
      ]
     },
     "metadata": {},
     "output_type": "display_data"
    },
    {
     "data": {
      "text/plain": [
       "1-element Vector{PyCall.PyObject}:\n",
       " PyObject <matplotlib.lines.Line2D object at 0x7f60491662b0>"
      ]
     },
     "execution_count": 204,
     "metadata": {},
     "output_type": "execute_result"
    }
   ],
   "source": [
    "using PyPlot\n",
    "H(p)=1+p*log2(p)+(1-p)*log2(1-p)\n",
    "\n",
    "#xlim(0,1)\n",
    "#ylim(0,0.5)\n",
    "plot(R,D, \"+\")\n",
    "plot(Rm,Dm, \".\")\n",
    "plot((0,1),(0.5,0))\n",
    "plot(H.(0:0.001:0.5), 0:0.001:0.5)"
   ]
  },
  {
   "cell_type": "code",
   "execution_count": null,
   "metadata": {},
   "outputs": [],
   "source": []
  }
 ],
 "metadata": {
  "kernelspec": {
   "display_name": "Julia 1.6.0-DEV",
   "language": "julia",
   "name": "julia-1.6"
  },
  "language_info": {
   "file_extension": ".jl",
   "mimetype": "application/julia",
   "name": "julia",
   "version": "1.6.0"
  },
  "output_auto_scroll": true
 },
 "nbformat": 4,
 "nbformat_minor": 4
}
