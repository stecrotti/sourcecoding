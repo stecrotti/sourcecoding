{
 "cells": [
  {
   "cell_type": "markdown",
   "metadata": {},
   "source": [
    "1RSB cavity equations at Parisi parameter $m=1$\n",
    "---\n",
    "We want to solve numerically the following equations:\n",
    "\\begin{align}\n",
    "\t\\bar{P}_{\\sigma}(th|\\bar{th})\\mathcal{P}^{RS}(\\bar{th}) &= \\sum_d\\tilde{\\Lambda}_d\\int \\prod_{i=1}^d {\\rm d} \\mathcal{Q}^{RS}(\\bar{tu}_i)\\delta[\\bar{th}-f(\\bar{tu}_1,\\dots,\\bar{tu}_d,H)]\\int\\prod_{i=1}^d \\bar{Q}_{\\sigma}(tu_i|\\bar{tu}_i)\\delta[th-f(tu_1,\\dots,tu_d,H)] \\\\\n",
    "\t\\bar{Q}_{\\sigma}(tu|\\bar{tu})\\mathcal{Q}^{RS}(\\bar{tu}) &= \\sum_k \\tilde{K}_k\\sum_s \\frac{1}{2} \\int \\prod_{i=1}^k {\\rm d} \\mathcal{P}^{RS}(\\bar{th}_i)\\delta[\\bar{tu}-g(\\bar{th}_1,\\dots,\\bar{th}_k,s)] \\\\\n",
    "\t&\\times \\sum_{\\sigma_1,\\dots,\\sigma_k}\\nu(\\sigma_1,\\dots,\\sigma_k|\\bar{h}_1,\\dots,\\bar{h}_k,s,\\sigma)\\int \\prod_{i=1}^k {\\rm d} \\bar{P}_{\\sigma_i}(th_i|\\bar{th}_i)\\delta[tu-g(th_1,\\dots,th_k,s)] \n",
    "\\end{align}\n",
    "where\n",
    "\\begin{align}\n",
    "\t\\nu(\\sigma_1,\\dots,\\sigma_k|\\bar{th}_1,\\dots,\\bar{th}_k,s,\\sigma) = \\frac{\\mathbb{I}[\\sigma\\prod_{i=1}^k\\sigma_i=s]\\prod_{i=1}^k(1+\\sigma_i\\bar{th}_i)}{\\sum_{\\sigma_1,\\dots\\sigma_d}\\mathbb{I}[\\sigma\\prod_{i=1}^k\\sigma_i=s]\\prod_{i=1}^k(1+\\sigma_i\\bar{th}_i)}\n",
    "\\end{align}"
   ]
  },
  {
   "cell_type": "markdown",
   "metadata": {},
   "source": [
    "Parametrization of the BP equations:\n",
    "---\n",
    "The BP equations are written as \n",
    "\\begin{align}\n",
    "    m_{ia}(\\sigma_i)&=\\frac{e^{H\\sigma_i}\\prod_{b\\in\\partial i \\setminus a}\\hat{m}_{bi}(\\sigma_i)}{e^{\\sigma_i}\\prod_{b\\in\\partial i \\setminus a}\\hat{m}_{bi}(+)+e^{-H}\\prod_{b\\in\\partial i \\setminus a}\\hat{m}_{bi}(-)} \\\\\n",
    "    \\hat{m}_{ai}(\\sigma_i)&=\\sum_{\\{\\sigma_j\\}_{j\\in\\partial a \\setminus i}}\\mathbb{I}\\left[\\sigma_i\\prod_{j\\in\\partial a\\setminus i}\\sigma_j=s_a\\right]\\prod_{j\\in\\partial a\\setminus i}m_{ja}(\\sigma_j)\n",
    "\\end{align}\n",
    "In the equations above we have used the following parametrization:\n",
    "\\begin{align}\n",
    "    m(\\sigma)=\\frac{1+\\sigma th}{2}, \\quad \\hat{m}(\\sigma)=\\frac{1+\\sigma tu}{2}\n",
    "\\end{align}\n",
    "The BP equations are re-written in this parametrization:\n",
    "\\begin{align}\n",
    "    th=f(tu_1,\\dots,tu_d,H)=\\frac{e^{H}\\prod_{i=1}^k(1+tu_i) - e^{-H}\\prod_{i=1}^k(1-tu_i)}{e^{H}\\prod_{i=1}^k(1+tu_i) + e^{-H}\\prod_{i=1}^k(1-tu_i)}, \\quad tu = g(th_1,\\dots,th_k,s) = s\\prod_{i=1}^k th_i\n",
    "\\end{align}"
   ]
  },
  {
   "cell_type": "markdown",
   "metadata": {},
   "source": [
    "Numerical implementation\n",
    "---\n",
    "In this notebook we use instead the pairs $(m(+),m(-)), (\\hat{m}(+), \\hat{m}(-))$ to parametrize the BP messages. For instance the distribution $\\mathcal{P}^{RS}$ is represented by an array of size 'popsize', each element being a pair (1st element is $m(+)$, 2nd element is $m(-)$.\n",
    "\n",
    "The joint distribution $\\bar{P}_{\\sigma}(m|\\bar{m})\\mathcal{P}^{RS}(\\bar{m})$ is represented by the population of couples $(m^{\\sigma},\\bar{m})$, which is stored as two arrays of size 'popsize'.\n",
    "\n",
    "In the code below, we thus have a population 'popP' that is a set of 3 arrays indiced from -1 to 1. The array popP[0] corresponds to the distribution $\\mathcal{P}^{RS}$. The couple of arrays (popP[-1],popP[0]) corresponds to the distribution $\\bar{P}_-(m|\\bar{m})\\mathcal{P}^{RS}(\\bar{m})$ while the couple of arrays (popP[1],popP[0]) corresponds to the distribution $\\bar{P}_+(m|\\bar{m})\\mathcal{P}^{RS}(\\bar{m})$"
   ]
  },
  {
   "cell_type": "code",
   "execution_count": 1,
   "metadata": {},
   "outputs": [],
   "source": [
    "using OffsetArrays"
   ]
  },
  {
   "cell_type": "markdown",
   "metadata": {},
   "source": [
    "* Two ways of writing the BP functions (one with convolutions)"
   ]
  },
  {
   "cell_type": "code",
   "execution_count": 2,
   "metadata": {},
   "outputs": [
    {
     "data": {
      "text/plain": [
       "BP_tu (generic function with 1 method)"
      ]
     },
     "execution_count": 2,
     "metadata": {},
     "output_type": "execute_result"
    }
   ],
   "source": [
    "function BP_th(H, tus)\n",
    "    p1 = prod(tus[i][1] for i=1:length(tus))*exp(H)\n",
    "    p2 = prod(tus[i][2] for i=1:length(tus))*exp(-H)\n",
    "    if p1+p2==0\n",
    "        println(\"conflicting messages in BP_th\")\n",
    "    end\n",
    "    th1 = p1/(p1+p2)\n",
    "    th2 = p2/(p1+p2)\n",
    "    (th1, th2)\n",
    "end\n",
    "\n",
    "function BP_tu(s, ths)\n",
    "    tu1=0.0; tu2=0.0\n",
    "    for sig in Iterators.product(fill(-1:2:1,2)...)\n",
    "        ind = [(sig[i]==1 ? 1 : 2) for i=1:length(sig)]\n",
    "        if prod(sig) == s\n",
    "            tu1 += prod(ths[i][ind[i]] for i=1:length(ths))\n",
    "        else\n",
    "            tu2 += prod(ths[i][ind[i]] for i=1:length(ths))\n",
    "        end\n",
    "    end\n",
    "    (tu1, tu2)\n",
    "end"
   ]
  },
  {
   "cell_type": "code",
   "execution_count": 3,
   "metadata": {},
   "outputs": [
    {
     "data": {
      "text/plain": [
       "BP_tu_conv (generic function with 1 method)"
      ]
     },
     "execution_count": 3,
     "metadata": {},
     "output_type": "execute_result"
    }
   ],
   "source": [
    "conv(h1::Tuple, h2::Tuple) = tuple(h1[1]*h2[1]+h1[2]*h2[2], h1[1]*h2[2]+h1[2]*h2[1]) \n",
    "function BP_th_conv(H, tus)\n",
    "    th = (exp(H), exp(-H))\n",
    "    for tu in tus\n",
    "        th = th.*tu\n",
    "    end\n",
    "    th ./ sum(th)\n",
    "end\n",
    "function BP_tu_conv(s, ths)\n",
    "   tu = s==1 ? tuple(1.0,0.0) : tuple(0.0,1.0)\n",
    "   for i in eachindex(ths)\n",
    "       tu = conv(tu, ths[i]) \n",
    "    end\n",
    "    tu\n",
    "end"
   ]
  },
  {
   "cell_type": "markdown",
   "metadata": {},
   "source": [
    "* Writing the distribution $\\nu(\\sigma_1,\\dots,\\sigma_k|\\bar{th}_1,\\dots,\\bar{th}_k,s,\\sigma) = \\frac{\\mathbb{I}[\\sigma\\prod_{i=1}^k\\sigma_i=s]\\prod_{i=1}^k m_i(\\sigma_i)}{\\sum_{\\sigma_1,\\dots\\sigma_d}\\mathbb{I}[\\sigma\\prod_{i=1}^k\\sigma_i=s]\\prod_{i=1}^k m_i(\\sigma_i)}$"
   ]
  },
  {
   "cell_type": "code",
   "execution_count": 4,
   "metadata": {},
   "outputs": [
    {
     "data": {
      "text/plain": [
       "dist_sigmas (generic function with 1 method)"
      ]
     },
     "execution_count": 4,
     "metadata": {},
     "output_type": "execute_result"
    }
   ],
   "source": [
    "function dist_sigmas(s, ths_0, σs, ν)\n",
    "    k = length(ths_0)\n",
    "    i = 0\n",
    "    for sig in Iterators.product(fill(-1:2:1,k)...)\n",
    "        i += 1\n",
    "        ind = [(sig[j]==1 ? 1 : 2) for j=1:length(sig)]\n",
    "        σs[i] = sig\n",
    "        if prod(sig) == s\n",
    "            ν[i] += prod(ths_0[j][ind[j]] for j=1:length(ths_0))\n",
    "        end\n",
    "    end\n",
    "    ν ./= sum(ν)\n",
    "    ν, σs\n",
    "end"
   ]
  },
  {
   "cell_type": "markdown",
   "metadata": {},
   "source": [
    "* First we write a function just to iterate the RS cavity equations:\n",
    "\\begin{align}\n",
    "\t\\mathcal{P}^{RS}(\\bar{th}) &= \\sum_d\\tilde{\\Lambda}_d\\int \\prod_{i=1}^d {\\rm d} \\mathcal{Q}^{RS}(\\bar{tu}_i)\\delta[\\bar{th}-f(\\bar{tu}_1,\\dots,\\bar{tu}_d,H)] \\\\\n",
    "\t\\mathcal{Q}^{RS}(\\bar{tu}) &= \\sum_k \\tilde{K}_k\\sum_s \\frac{1}{2} \\int \\prod_{i=1}^k {\\rm d} \\mathcal{P}^{RS}(\\bar{th}_i)\\delta[\\bar{tu}-g(\\bar{th}_1,\\dots,\\bar{th}_k,s)] \n",
    "\\end{align}\n",
    "* Once we will obtain a fixed point of this equations, we will use it for the initialization of the 1RSB cavity equations."
   ]
  },
  {
   "cell_type": "code",
   "execution_count": 5,
   "metadata": {
    "scrolled": true
   },
   "outputs": [
    {
     "data": {
      "text/plain": [
       "residual (generic function with 1 method)"
      ]
     },
     "execution_count": 5,
     "metadata": {},
     "output_type": "execute_result"
    }
   ],
   "source": [
    "using StatsBase, ProgressMeter, Random\n",
    "residual(x) = (p=OffsetVector((x .* eachindex(x))[1:end], 0:lastindex(x)-1); p./=sum(p))"
   ]
  },
  {
   "cell_type": "code",
   "execution_count": 6,
   "metadata": {},
   "outputs": [
    {
     "data": {
      "text/plain": [
       "RS (generic function with 1 method)"
      ]
     },
     "execution_count": 6,
     "metadata": {},
     "output_type": "execute_result"
    }
   ],
   "source": [
    "function RS(Λ, K, H; \n",
    "        maxiter=100, \n",
    "        popsize=1000, \n",
    "        popP_RS = fill((0.5,0.5), 1:popsize),\n",
    "        popQ_RS = fill((0.5,0.5), 1:popsize),\n",
    "        q0 = fill(NaN, 1:maxiter)\n",
    "    )\n",
    "\n",
    "    Λ1 = residual(Λ)\n",
    "    K1 = residual(K)\n",
    "    wΛ1 = weights(Λ1.parent)#wΛ1 = weights(Λ1)\n",
    "    wK1 = weights(K1)\n",
    "\n",
    "    \n",
    "    @showprogress for t = 1:maxiter\n",
    "        \n",
    "        for i = 1:popsize\n",
    "            k = sample(eachindex(K1), wK1)\n",
    "            ind_ths = rand(1:popsize, k)\n",
    "            ths = popP_RS[ind_ths]            \n",
    "            s = rand((-1,1))\n",
    "            popQ_RS[i] = BP_tu_conv(s, ths)\n",
    "        end\n",
    "        \n",
    "        q0[t]=0.0\n",
    "        \n",
    "        for i = 1:popsize\n",
    "            d = sample(collect(eachindex(Λ1)), wΛ1)#d = sample(eachindex(Λ1), wΛ1)\n",
    "            ind_tus = rand(1:popsize, d)\n",
    "            tus = popQ_RS[ind_tus]\n",
    "            popP_RS[i] = BP_th_conv(H, tus)\n",
    "            \n",
    "            q0[t]+=(popP_RS[i][1]-popP_RS[i][2])^2\n",
    "        end\n",
    "        \n",
    "        q0[t] = q0[t]/length(popP_RS)\n",
    "    end\n",
    "    popP_RS, popQ_RS, q0\n",
    "end"
   ]
  },
  {
   "cell_type": "markdown",
   "metadata": {},
   "source": [
    "* Also compute the average RS distorsion:\n",
    "* On a single instance $O = -E/H = \\sum_i\\sum_{\\sigma_i}b_i(\\sigma_i)\\sigma_i$ with $b_i(\\sigma_i)=\\frac{e^{H\\sigma_i}\\prod_{a\\in\\partial i}\\hat{m}_{ai}(\\sigma_i)}{Z_i}$\n",
    "* the RS Average is $O^{RS} = \\sum_{d}\\Lambda_d\\int\\prod_{a=1}^d{\\rm d}\\mathcal{Q}^{RS}(\\hat{m}_a)\\sum_{\\sigma}\\sigma\\times\\frac{e^{H\\sigma}\\prod_{a}\\hat{m}_{a}(\\sigma)}{Z_i}$"
   ]
  },
  {
   "cell_type": "code",
   "execution_count": 7,
   "metadata": {},
   "outputs": [
    {
     "data": {
      "text/plain": [
       "distorsion_RS (generic function with 1 method)"
      ]
     },
     "execution_count": 7,
     "metadata": {},
     "output_type": "execute_result"
    }
   ],
   "source": [
    "function distorsion_RS(Λ, K, H, popP_RS, popQ_RS; \n",
    "        maxiter=length(popP_RS) \n",
    "    )\n",
    "    wΛ = weights(Λ)\n",
    "    popsize = length(popP_RS)\n",
    "\n",
    "    O = 0.0\n",
    "    for t = 1:maxiter\n",
    "        d = sample(eachindex(Λ), wΛ)\n",
    "        ind_tus = rand(1:popsize, d)\n",
    "        tus = popQ_RS[ind_tus]\n",
    "        th = BP_th_conv(H, tus)\n",
    "        O += th[1]-th[2]\n",
    "    end\n",
    "    O =O/maxiter\n",
    "    (1-O)/2\n",
    "end"
   ]
  },
  {
   "cell_type": "markdown",
   "metadata": {},
   "source": [
    "* Computing the quenched RS free energy "
   ]
  },
  {
   "cell_type": "code",
   "execution_count": 8,
   "metadata": {},
   "outputs": [
    {
     "data": {
      "text/plain": [
       "log_Zia_RS (generic function with 1 method)"
      ]
     },
     "execution_count": 8,
     "metadata": {},
     "output_type": "execute_result"
    }
   ],
   "source": [
    "function log_Zi_RS(Λ, H, popQ_RS; \n",
    "        maxiter=length(popQ_RS) \n",
    "    )\n",
    "    wΛ = weights(Λ)\n",
    "    popsize = length(popQ_RS)\n",
    "\n",
    "    logZ_i = 0.0\n",
    "    for t = 1:maxiter\n",
    "        d = sample(eachindex(Λ), wΛ)\n",
    "        ind_tus = rand(1:popsize, d)\n",
    "        tus = popQ_RS[ind_tus]\n",
    "        th = (exp(H), exp(-H))\n",
    "        for tu in tus\n",
    "            th = th.*tu\n",
    "        end\n",
    "        Z_i = sum(th)\n",
    "        logZ_i += log(Z_i)\n",
    "    end\n",
    "    logZ_i /= maxiter\n",
    "end\n",
    "\n",
    "function log_Za_RS(K, popP_RS;\n",
    "    maxiter=length(popP_RS))\n",
    "    wK = weights(K)\n",
    "    popsize = length(popP_RS)\n",
    "    \n",
    "    logZ_a = 0.0\n",
    "    for t=1:maxiter\n",
    "        k = sample(eachindex(K), wK)\n",
    "        ind_ths = rand(1:popsize, k)\n",
    "        ths = popP_RS[ind_ths]\n",
    "        tu = reduce(conv, ths, init=(1,0))\n",
    "        Z_a = rand(tu)\n",
    "        logZ_a += log(Z_a)\n",
    "    end\n",
    "    logZ_a /= maxiter\n",
    "end\n",
    "\n",
    "function log_Zia_RS(popP_RS, popQ_RS; maxiter=length(popP_RS))\n",
    "    logZ_ia = 0.0\n",
    "    for t=1:maxiter\n",
    "        th = rand(popP_RS)\n",
    "        tu = rand(popQ_RS)\n",
    "        Z_ia = sum(th .* tu)\n",
    "        logZ_ia += log(Z_ia)\n",
    "    end\n",
    "    logZ_ia /= maxiter\n",
    "end\n"
   ]
  },
  {
   "cell_type": "code",
   "execution_count": 9,
   "metadata": {},
   "outputs": [
    {
     "data": {
      "text/plain": [
       "F_RS (generic function with 1 method)"
      ]
     },
     "execution_count": 9,
     "metadata": {},
     "output_type": "execute_result"
    }
   ],
   "source": [
    "function F_RS(Λ, K, H, popP_RS, popQ_RS)\n",
    "    mK = sum(k*K[k] for k=eachindex(K))\n",
    "    mΛ = sum(d*Λ[d] for d=eachindex(Λ))\n",
    "    α = mΛ/mK\n",
    "    F = log_Zi_RS(Λ, H, popQ_RS) + α* log_Za_RS(K, popP_RS) - mΛ*log_Zia_RS(popP_RS, popQ_RS)\n",
    "end"
   ]
  },
  {
   "cell_type": "markdown",
   "metadata": {},
   "source": [
    "* Initialization of the populations popP, popQ: \n",
    "\n",
    "The array popP[0] representing the RS distribution is filled with the solution of the RS equation.\n",
    "\n",
    "The arrays popP[$\\sigma$] are filled either with $(m_i^{\\sigma}(\\sigma)=1-\\epsilon, m_i^{\\sigma}(-\\sigma)=\\epsilon)$ for each elements i in 1:popsize (function init_pop). This corresponds to set $th^{\\sigma}=\\sigma\\times(1-2\\epsilon)$\n",
    "\n",
    "Or each element m_i of popP[$\\sigma$] is set to $m_i(\\sigma)=1,m_i(-\\sigma)=0)$ with probability $1-\\epsilon$, and $m_i=\\bar{m}_i$ with probability $\\epsilon$ (with $\\bar{m}_i$ the i^th element in popP[0]). (function init_pop_alternative)"
   ]
  },
  {
   "cell_type": "code",
   "execution_count": 10,
   "metadata": {},
   "outputs": [
    {
     "data": {
      "text/plain": [
       "init_pop_alternative (generic function with 1 method)"
      ]
     },
     "execution_count": 10,
     "metadata": {},
     "output_type": "execute_result"
    }
   ],
   "source": [
    "function init_pop(pop_RS, ϵ)\n",
    "    N=length(pop_RS)\n",
    "    pop = fill((NaN, NaN), -1:1, 1:N)\n",
    "    pop[0,:]=popP_RS\n",
    "    pop[1,:] =fill( ( 1-ϵ, ϵ), 1:N)\n",
    "    pop[-1,:] = fill( ( ϵ, 1-ϵ), 1:N)\n",
    "    pop\n",
    "end\n",
    "function init_pop_alternative(pop_RS, ϵ)\n",
    "    N=length(pop_RS)\n",
    "    pop = fill((NaN, NaN), -1:1, 1:N)\n",
    "    pop[0,:]=popP_RS\n",
    "    for i=1:N\n",
    "        pop[1,i]=(rand()<ϵ ? pop[0,i] : (1.0, 0.0))\n",
    "        pop[-1,i]=(rand()<ϵ ? pop[0,i] : (0.0, 1.0))\n",
    "    end\n",
    "    pop\n",
    "end"
   ]
  },
  {
   "cell_type": "markdown",
   "metadata": {},
   "source": [
    "* Writing functions to check whether the solution to the 1RSB equations is the RS solution or not:\n",
    "\n",
    "The trivial RS solution corresponds to have \n",
    "\\begin{align}\n",
    "    \\bar{P}_{\\sigma}(m|\\bar{m})\\mathcal{P}^{RS}(\\bar{m})=\\delta(m-\\bar{m})\\mathcal{P}^{RS}\n",
    "\\end{align}\n",
    "and similarly for $\\bar{Q}_{\\sigma}$\n",
    "\n",
    "The function checkRS computes the quantities $q_0$ and $q_1$ defined in equations (38) of the article by A. Montanari, F. Ricci-Tersenghi and G. Semerjian. Having $q_1-q_0=0$ corresponds to the RS trivial solution, while having $q_1-q_0>0$ corresponds to a non-trivial solution.\n",
    "\n",
    "In the function checkRS_comparePops we just check on the populations whether we get a delta function (i.e whether for each element $i$ of the population we have $m_i^{\\sigma}=\\bar{m}_i$)"
   ]
  },
  {
   "cell_type": "code",
   "execution_count": 11,
   "metadata": {},
   "outputs": [
    {
     "data": {
      "text/plain": [
       "checkRS (generic function with 1 method)"
      ]
     },
     "execution_count": 11,
     "metadata": {},
     "output_type": "execute_result"
    }
   ],
   "source": [
    "function checkRS(popP)\n",
    "    q0=0.0; q1=0.0\n",
    "    for ind=1:size(popP, 2)\n",
    "        th = popP[:,ind]\n",
    "        m0 = th[0][1]-th[0][2]; m1 = th[1][1]-th[1][2]; mm1=th[-1][1]-th[-1][2]\n",
    "        q0 += m0^2\n",
    "        q1 += m1*th[0][1] - mm1*th[0][2]\n",
    "    end\n",
    "    q1= q1/size(popP, 2); q0=q0/size(popP, 2)\n",
    "    q0, q1, q1-q0\n",
    "end"
   ]
  },
  {
   "cell_type": "code",
   "execution_count": 12,
   "metadata": {},
   "outputs": [
    {
     "data": {
      "text/plain": [
       "checkRS_comparePops (generic function with 1 method)"
      ]
     },
     "execution_count": 12,
     "metadata": {},
     "output_type": "execute_result"
    }
   ],
   "source": [
    "function checkRS_comparePops(popP)\n",
    "    C1 = [0.0, 0.0]; Cm1=[0.0, 0.0]\n",
    "    for ind=1:size(popP, 2)\n",
    "        th = popP[:,ind]\n",
    "        C1[1] += th[1][1]-th[0][1]\n",
    "        C1[2] += th[1][2]-th[0][2]\n",
    "        Cm1[1] += th[-1][1]-th[0][1]\n",
    "        Cm1[2] += th[-1][2]-th[0][2]\n",
    "    end\n",
    "    C1= C1./size(popP, 2); Cm1=Cm1./size(popP, 2)\n",
    "    C1, Cm1\n",
    "end"
   ]
  },
  {
   "cell_type": "markdown",
   "metadata": {},
   "source": [
    "* Detect the presence of Hard Fields: \n",
    "\n",
    "The function checkHardFields computes how many elements in the population popP[$\\sigma$] are hard, i.e are s.t. $m_i^{\\sigma}(+)=0$, or s.t. $m_i^{\\sigma}(-)=0$ "
   ]
  },
  {
   "cell_type": "code",
   "execution_count": 13,
   "metadata": {},
   "outputs": [
    {
     "data": {
      "text/plain": [
       "checkHardFields (generic function with 1 method)"
      ]
     },
     "execution_count": 13,
     "metadata": {},
     "output_type": "execute_result"
    }
   ],
   "source": [
    "function checkHardFields(pop)\n",
    "    p=(0.0, 0.0)\n",
    "    for i=1:length(pop)\n",
    "        p = p .+ (pop[i] .== 0.0)\n",
    "    end\n",
    "    p=p./length(pop)\n",
    "end"
   ]
  },
  {
   "cell_type": "markdown",
   "metadata": {},
   "source": [
    "* Function that iterates the 1RSB cavity equations at $m=1$. It also stores along the iterations the quantities q0, V$=$q1-q0 (defined in equation (38)), as well as p1 and pm1 that corresponds to the proportions of Hard Fields in the population. "
   ]
  },
  {
   "cell_type": "code",
   "execution_count": 14,
   "metadata": {},
   "outputs": [
    {
     "data": {
      "text/plain": [
       "RSB_entropic_m1 (generic function with 1 method)"
      ]
     },
     "execution_count": 14,
     "metadata": {},
     "output_type": "execute_result"
    }
   ],
   "source": [
    "function RSB_entropic_m1(Λ, K, H, popP_RS, popQ_RS; \n",
    "        maxiter=100, \n",
    "        popsize=1000, \n",
    "        ϵ=0.01,\n",
    "        popP = init_pop(popP_RS, ϵ),\n",
    "        popQ = init_pop(popQ_RS, ϵ),\n",
    "        q0=fill(0.0, 1:maxiter),\n",
    "        V=fill(0.0, 1:maxiter),\n",
    "        p1=fill((0.0, 0.0), 1:maxiter),\n",
    "        pm1=fill((0.0, 0.0), 1:maxiter)\n",
    "    )\n",
    "    \n",
    "    Λ1 = residual(Λ)\n",
    "    K1 = residual(K)\n",
    "    wΛ1 = weights(Λ1.parent)#wΛ1 = weights(Λ1)\n",
    "    wK1 = weights(K1)\n",
    "    \n",
    "    @showprogress for t = 1:maxiter\n",
    "        for i = 1:popsize\n",
    "            k = sample(eachindex(K1), wK1)\n",
    "            ind_ths = rand(1:popsize, k)\n",
    "            ths = popP[:,ind_ths]            \n",
    "            s = rand((-1,1))\n",
    "            popQ[0,i] = BP_tu_conv(s, ths[0,:])\n",
    "            #@show ind_ths, s\n",
    "            \n",
    "            ν = fill(0.0, 1:2^k)\n",
    "            σs = fill(tuple(fill(NaN, k)...), 1:2^k)\n",
    "            ν, σs = dist_sigmas(s, ths[0,:], σs, ν)\n",
    "            wν = weights(ν)\n",
    "            ind = sample(eachindex(ν), wν)\n",
    "            σ = convert.(Int64, σs[ind])\n",
    "            #@show σ\n",
    "            elts = [ths[s,i] for (i,s) ∈ zip(eachindex(σ), σ)]\n",
    "            popQ[1,i] = BP_tu_conv(s, elts)\n",
    "\n",
    "            ν = fill(0.0, 1:2^k)\n",
    "            σs = fill(tuple(fill(NaN, k)...), 1:2^k)\n",
    "            ν, σs = dist_sigmas(-s, ths[0,:], σs, ν)\n",
    "            wν = weights(ν)\n",
    "            ind = sample(eachindex(ν), wν)\n",
    "            σ = convert.(Int64, σs[ind])\n",
    "            #@show σ\n",
    "            elts = [ths[s,i] for (i,s) ∈ zip(eachindex(σ), σ)]\n",
    "            popQ[-1,i] = BP_tu_conv(s, elts)\n",
    "        end\n",
    "\n",
    "        for i = 1:popsize\n",
    "            d = sample(collect(eachindex(Λ1)), wΛ1)#d = sample(eachindex(Λ1), wΛ1)\n",
    "            ind_tus = rand(1:popsize, d)\n",
    "            tus = popQ[:,ind_tus]\n",
    "            #@show ind_tus\n",
    "            popP[0,i] = BP_th_conv(H, tus[0,:])\n",
    "            popP[-1,i] = BP_th_conv(H, tus[-1,:])\n",
    "            popP[1,i] = BP_th_conv(H, tus[1,:])\n",
    "            \n",
    "            m0 = popP[0,i][1]-popP[0,i][2]; m1 = popP[1,i][1]-popP[1,i][2]; mm1 = popP[-1,i][1]-popP[-1,i][2]\n",
    "            q0[t]+= m0^2\n",
    "            V[t]+= m1*popP[0,i][1] - mm1*popP[0,i][2]\n",
    "            p1[t] = p1[t] .+ (popP[1,i] .== 0.0)\n",
    "            pm1[t] = pm1[t] .+ (popP[-1,i] .== 0.0)\n",
    "        end\n",
    "        \n",
    "        q0[t] = q0[t]/size(popP, 2)\n",
    "        V[t] = V[t]/size(popP, 2)\n",
    "        p1[t] = p1[t]./size(popP, 2)\n",
    "        pm1[t] = pm1[t]./size(popP, 2)\n",
    "    end    \n",
    "    V = V .- q0\n",
    "    #popP, popQ\n",
    "    popP, popQ, q0, V, p1, pm1\n",
    "end"
   ]
  },
  {
   "cell_type": "code",
   "execution_count": 21,
   "metadata": {},
   "outputs": [
    {
     "data": {
      "text/plain": [
       "av_mag (generic function with 1 method)"
      ]
     },
     "execution_count": 21,
     "metadata": {},
     "output_type": "execute_result"
    }
   ],
   "source": [
    "function av_mag(pop)\n",
    "    av = 0.0\n",
    "    for i=1:popsize\n",
    "        av += abs(pop[i][1]-pop[i][2])\n",
    "    end\n",
    "    av /= popsize\n",
    "end"
   ]
  },
  {
   "cell_type": "code",
   "execution_count": 18,
   "metadata": {},
   "outputs": [
    {
     "data": {
      "text/plain": [
       "prop_small_m (generic function with 1 method)"
      ]
     },
     "execution_count": 18,
     "metadata": {},
     "output_type": "execute_result"
    }
   ],
   "source": [
    "function prop_small_m(pop, th)\n",
    "    p1 = mean([pop[i][1]<th for i=1:popsize])\n",
    "    p2 = mean([pop[i][2]<th for i=1:popsize])\n",
    "    p1, p2\n",
    "end"
   ]
  },
  {
   "cell_type": "markdown",
   "metadata": {},
   "source": [
    "Test\n",
    "---"
   ]
  },
  {
   "cell_type": "markdown",
   "metadata": {},
   "source": [
    "* First find the fixed point for the RS equations"
   ]
  },
  {
   "cell_type": "code",
   "execution_count": 15,
   "metadata": {},
   "outputs": [
    {
     "data": {
      "text/plain": [
       "0.2699999999999999"
      ]
     },
     "execution_count": 15,
     "metadata": {},
     "output_type": "execute_result"
    }
   ],
   "source": [
    "f3 = 0.2\n",
    "f1=0.01\n",
    "f2=1-f1-f3\n",
    "H=1.6\n",
    "Λ = OffsetVector([0,f1,1-f3-f1,f3], 0:3)\n",
    "K = OffsetVector([0,0,0,1], 0:3)\n",
    "mK = sum(k*K[k] for k=eachindex(K))\n",
    "mΛ = sum(d*Λ[d] for d=eachindex(Λ))\n",
    "α = mΛ/mK\n",
    "R=1-α"
   ]
  },
  {
   "cell_type": "code",
   "execution_count": 17,
   "metadata": {},
   "outputs": [
    {
     "name": "stderr",
     "output_type": "stream",
     "text": [
      "\u001b[32mProgress: 100%|█████████████████████████████████████████| Time: 0:00:09\u001b[39m\n"
     ]
    },
    {
     "data": {
      "text/plain": [
       "10000-element OffsetArray(::Vector{Tuple{Float64, Float64}}, 1:10000) with eltype Tuple{Float64, Float64} with indices 1:10000:\n",
       " (0.9999972447635883, 2.7552364117301944e-6)\n",
       " (0.011439539750526855, 0.9885604602494732)\n",
       " (0.03125894901360666, 0.9687410509863933)\n",
       " (0.9989172156197622, 0.0010827843802377873)\n",
       " (0.7820963740469881, 0.21790362595301196)\n",
       " (0.9998275062434805, 0.0001724937565196136)\n",
       " (0.9990001858429581, 0.0009998141570419544)\n",
       " (0.647150388129842, 0.352849611870158)\n",
       " (0.8785606293788031, 0.12143937062119685)\n",
       " (0.9996717098274357, 0.00032829017256428905)\n",
       " (0.26349437744027066, 0.7365056225597293)\n",
       " (0.8021569119789114, 0.19784308802108866)\n",
       " (0.9787636586242735, 0.02123634137572647)\n",
       " ⋮\n",
       " (0.7500279649143363, 0.24997203508566374)\n",
       " (0.8307084443113699, 0.16929155568863005)\n",
       " (0.48368271697625315, 0.5163172830237469)\n",
       " (0.9946217985115345, 0.005378201488465504)\n",
       " (0.9285046075453677, 0.07149539245463235)\n",
       " (0.2265738387059645, 0.7734261612940356)\n",
       " (0.9759601649834078, 0.024039835016592282)\n",
       " (0.6198886918048507, 0.38011130819514927)\n",
       " (0.9922768174455081, 0.007723182554491962)\n",
       " (0.9961393387310281, 0.0038606612689719745)\n",
       " (0.9955946563498296, 0.004405343650170372)\n",
       " (0.9948485889508739, 0.005151411049126072)"
      ]
     },
     "execution_count": 17,
     "metadata": {},
     "output_type": "execute_result"
    }
   ],
   "source": [
    "popsize = 10^4\n",
    "maxiter = 2*10^3\n",
    "q0 = fill(NaN, 1:maxiter)\n",
    "popP_RS, popQ_RS, q0 = RS(Λ, K, H, maxiter=maxiter, popsize=popsize);\n",
    "popP_RS"
   ]
  },
  {
   "cell_type": "code",
   "execution_count": 19,
   "metadata": {},
   "outputs": [
    {
     "data": {
      "text/plain": [
       "(0.0, 0.0041)"
      ]
     },
     "execution_count": 19,
     "metadata": {},
     "output_type": "execute_result"
    }
   ],
   "source": [
    "prop_small_m(popP_RS, 0.00001)"
   ]
  },
  {
   "cell_type": "code",
   "execution_count": 22,
   "metadata": {},
   "outputs": [
    {
     "data": {
      "text/plain": [
       "0.8023830466983035"
      ]
     },
     "execution_count": 22,
     "metadata": {},
     "output_type": "execute_result"
    }
   ],
   "source": [
    "av_mag(popP_RS)"
   ]
  },
  {
   "cell_type": "code",
   "execution_count": 23,
   "metadata": {},
   "outputs": [
    {
     "data": {
      "text/plain": [
       "(0.0, 0.0)"
      ]
     },
     "execution_count": 23,
     "metadata": {},
     "output_type": "execute_result"
    }
   ],
   "source": [
    "checkHardFields(popP_RS)"
   ]
  },
  {
   "cell_type": "code",
   "execution_count": 24,
   "metadata": {},
   "outputs": [
    {
     "data": {
      "text/plain": [
       "0.8670741638919095"
      ]
     },
     "execution_count": 24,
     "metadata": {},
     "output_type": "execute_result"
    }
   ],
   "source": [
    "F_RS(Λ, K, H, popP_RS, popQ_RS)"
   ]
  },
  {
   "cell_type": "markdown",
   "metadata": {},
   "source": [
    "* Plot the evolution of the intra-state overlap $q_0$ along the iterations"
   ]
  },
  {
   "cell_type": "code",
   "execution_count": 25,
   "metadata": {},
   "outputs": [
    {
     "data": {
      "image/png": "[encoded data removed]",
      "text/plain": [
       "Figure(PyObject <Figure size 640x480 with 1 Axes>)"
      ]
     },
     "metadata": {},
     "output_type": "display_data"
    },
    {
     "data": {
      "text/plain": [
       "PyObject <matplotlib.legend.Legend object at 0x7f8464069ac8>"
      ]
     },
     "execution_count": 25,
     "metadata": {},
     "output_type": "execute_result"
    }
   ],
   "source": [
    "using PyPlot\n",
    "range = 1:maxiter\n",
    "plot(range, q0[range], label=\"q0\")\n",
    "legend()"
   ]
  },
  {
   "cell_type": "code",
   "execution_count": 26,
   "metadata": {},
   "outputs": [
    {
     "data": {
      "text/plain": [
       "(0.7038307175300779, 0.005104855982032934)"
      ]
     },
     "execution_count": 26,
     "metadata": {},
     "output_type": "execute_result"
    }
   ],
   "source": [
    "using Statistics\n",
    "range = 500:1000\n",
    "meanq0 = mean(q0[range])\n",
    "stdq0 = std(q0[range])\n",
    "meanq0, stdq0"
   ]
  },
  {
   "cell_type": "code",
   "execution_count": 27,
   "metadata": {},
   "outputs": [
    {
     "data": {
      "text/plain": [
       "0.22236427784348328"
      ]
     },
     "execution_count": 27,
     "metadata": {},
     "output_type": "execute_result"
    }
   ],
   "source": [
    "distorsion_RS(Λ, K, H, popP_RS, popQ_RS)"
   ]
  },
  {
   "cell_type": "markdown",
   "metadata": {},
   "source": [
    "* Then find a solution for the 1RSB equations"
   ]
  },
  {
   "cell_type": "code",
   "execution_count": 28,
   "metadata": {},
   "outputs": [
    {
     "data": {
      "text/plain": [
       "(1.6, 0.2, 0.01)"
      ]
     },
     "execution_count": 28,
     "metadata": {},
     "output_type": "execute_result"
    }
   ],
   "source": [
    "H, f3, f1"
   ]
  },
  {
   "cell_type": "code",
   "execution_count": 29,
   "metadata": {},
   "outputs": [
    {
     "name": "stderr",
     "output_type": "stream",
     "text": [
      "\u001b[32mProgress: 100%|█████████████████████████████████████████| Time: 0:06:15\u001b[39m\n"
     ]
    },
    {
     "data": {
      "text/plain": [
       "3×10000 OffsetArray(::Matrix{Tuple{Float64, Float64}}, -1:1, 1:10000) with eltype Tuple{Float64, Float64} with indices -1:1×1:10000:\n",
       " (0.060593, 0.939407)  (0.58199, 0.41801)  …  (0.998651, 0.00134856)\n",
       " (0.060593, 0.939407)  (0.58199, 0.41801)     (0.998651, 0.00134856)\n",
       " (0.060593, 0.939407)  (0.58199, 0.41801)     (0.998651, 0.00134856)"
      ]
     },
     "execution_count": 29,
     "metadata": {},
     "output_type": "execute_result"
    }
   ],
   "source": [
    "q0=fill(NaN, 1:maxiter)\n",
    "V=fill(NaN, 1:maxiter)\n",
    "p1=fill((NaN, NaN), 1:maxiter)\n",
    "pm1=fill((NaN, NaN), 1:maxiter)\n",
    "maxiter=2*10^3\n",
    "ϵ=0.01\n",
    "popP, popQ, q0, V, p1, pm1 = RSB_entropic_m1(Λ, K, H, popP_RS, popQ_RS, maxiter=maxiter, popsize=popsize, ϵ=ϵ)\n",
    "popP"
   ]
  },
  {
   "cell_type": "code",
   "execution_count": 32,
   "metadata": {},
   "outputs": [
    {
     "data": {
      "text/plain": [
       "10000-element OffsetArray(::Vector{Tuple{Float64, Float64}}, 1:10000) with eltype Tuple{Float64, Float64} with indices 1:10000:\n",
       " (0.06059300127709251, 0.9394069987229074)\n",
       " (0.5819895138875657, 0.41801048611243424)\n",
       " (0.99985239327286, 0.00014760672714000941)\n",
       " (0.9998391581886531, 0.00016084181134693178)\n",
       " (0.9734433456380289, 0.026556654361971084)\n",
       " (0.8547877123131814, 0.14521228768681865)\n",
       " (0.9989866841554504, 0.0010133158445496504)\n",
       " (0.8905106132106024, 0.10948938678939764)\n",
       " (0.34928993774856615, 0.6507100622514338)\n",
       " (0.8159377166889861, 0.18406228331101396)\n",
       " (0.9920646160787038, 0.007935383921296184)\n",
       " (0.7744731070529496, 0.22552689294705033)\n",
       " (0.7126575455488492, 0.2873424544511509)\n",
       " ⋮\n",
       " (0.9480830021574027, 0.05191699784259727)\n",
       " (0.9966374521295575, 0.0033625478704425)\n",
       " (0.9983835396362767, 0.0016164603637233218)\n",
       " (0.9900212958762278, 0.009978704123772277)\n",
       " (0.956306450508773, 0.043693549491226814)\n",
       " (0.9946868777364493, 0.005313122263550656)\n",
       " (0.7194874292855029, 0.28051257071449714)\n",
       " (0.9907300841753809, 0.009269915824619172)\n",
       " (0.9017111167002723, 0.09828888329972772)\n",
       " (0.467322915872689, 0.532677084127311)\n",
       " (0.5431988628598671, 0.45680113714013293)\n",
       " (0.9986514369839625, 0.0013485630160375377)"
      ]
     },
     "execution_count": 32,
     "metadata": {},
     "output_type": "execute_result"
    }
   ],
   "source": [
    "popP[-1,:]"
   ]
  },
  {
   "cell_type": "code",
   "execution_count": 33,
   "metadata": {},
   "outputs": [
    {
     "data": {
      "text/plain": [
       "(0.7849419908136759, 0.7849419908136759)"
      ]
     },
     "execution_count": 33,
     "metadata": {},
     "output_type": "execute_result"
    }
   ],
   "source": [
    "av_mag(popP[1,:]),  av_mag(popP[-1,:])"
   ]
  },
  {
   "cell_type": "code",
   "execution_count": 35,
   "metadata": {},
   "outputs": [
    {
     "data": {
      "text/plain": [
       "((0.0, 0.0038), (0.0, 0.0038))"
      ]
     },
     "execution_count": 35,
     "metadata": {},
     "output_type": "execute_result"
    }
   ],
   "source": [
    "prop_small_m(popP[1,:], 10^(-5)),  prop_small_m(popP[-1,:], 10^(-5))"
   ]
  },
  {
   "cell_type": "code",
   "execution_count": 36,
   "metadata": {},
   "outputs": [
    {
     "data": {
      "text/plain": [
       "10000-element OffsetArray(::Vector{Tuple{Float64, Float64}}, 1:10000) with eltype Tuple{Float64, Float64} with indices 1:10000:\n",
       " (0.06059300127709251, 0.9394069987229074)\n",
       " (0.5819895138875657, 0.41801048611243424)\n",
       " (0.99985239327286, 0.00014760672714000941)\n",
       " (0.9998391581886531, 0.00016084181134693178)\n",
       " (0.9734433456380289, 0.026556654361971084)\n",
       " (0.8547877123131814, 0.14521228768681865)\n",
       " (0.9989866841554504, 0.0010133158445496504)\n",
       " (0.8905106132106024, 0.10948938678939764)\n",
       " (0.34928993774856615, 0.6507100622514338)\n",
       " (0.8159377166889861, 0.18406228331101396)\n",
       " (0.9920646160787038, 0.007935383921296184)\n",
       " (0.7744731070529496, 0.22552689294705033)\n",
       " (0.7126575455488492, 0.2873424544511509)\n",
       " ⋮\n",
       " (0.9480830021574027, 0.05191699784259727)\n",
       " (0.9966374521295575, 0.0033625478704425)\n",
       " (0.9983835396362767, 0.0016164603637233218)\n",
       " (0.9900212958762278, 0.009978704123772277)\n",
       " (0.956306450508773, 0.043693549491226814)\n",
       " (0.9946868777364493, 0.005313122263550656)\n",
       " (0.7194874292855029, 0.28051257071449714)\n",
       " (0.9907300841753809, 0.009269915824619172)\n",
       " (0.9017111167002723, 0.09828888329972772)\n",
       " (0.467322915872689, 0.532677084127311)\n",
       " (0.5431988628598671, 0.45680113714013293)\n",
       " (0.9986514369839625, 0.0013485630160375377)"
      ]
     },
     "execution_count": 36,
     "metadata": {},
     "output_type": "execute_result"
    }
   ],
   "source": [
    "popP[1, :]"
   ]
  },
  {
   "cell_type": "code",
   "execution_count": 37,
   "metadata": {},
   "outputs": [
    {
     "data": {
      "text/plain": [
       "((0.0, 0.0), (0.0, 0.0))"
      ]
     },
     "execution_count": 37,
     "metadata": {},
     "output_type": "execute_result"
    }
   ],
   "source": [
    "checkHardFields(popP[1,:]), checkHardFields(popP[-1,:]) "
   ]
  },
  {
   "cell_type": "code",
   "execution_count": 38,
   "metadata": {},
   "outputs": [
    {
     "data": {
      "text/plain": [
       "([-1.0245791845150953e-18, 4.47311058483622e-19], [-1.0245791845150953e-18, 4.47311058483622e-19])"
      ]
     },
     "execution_count": 38,
     "metadata": {},
     "output_type": "execute_result"
    }
   ],
   "source": [
    "checkRS_comparePops(popP)"
   ]
  },
  {
   "cell_type": "markdown",
   "metadata": {},
   "source": [
    "* Plot the evolution of V, of the proportions of hard fields along the iterations"
   ]
  },
  {
   "cell_type": "code",
   "execution_count": 39,
   "metadata": {},
   "outputs": [
    {
     "data": {
      "image/png": "[encoded data removed]",
      "text/plain": [
       "Figure(PyObject <Figure size 640x480 with 1 Axes>)"
      ]
     },
     "metadata": {},
     "output_type": "display_data"
    },
    {
     "data": {
      "text/plain": [
       "PyObject <matplotlib.legend.Legend object at 0x7f84b4959e10>"
      ]
     },
     "execution_count": 39,
     "metadata": {},
     "output_type": "execute_result"
    }
   ],
   "source": [
    "using PyPlot\n",
    "range = 1:20:maxiter\n",
    "plot(range, V[range], label=\"V\")\n",
    "legend()"
   ]
  },
  {
   "cell_type": "code",
   "execution_count": 40,
   "metadata": {},
   "outputs": [
    {
     "data": {
      "image/png": "[encoded data removed]",
      "text/plain": [
       "Figure(PyObject <Figure size 640x480 with 1 Axes>)"
      ]
     },
     "metadata": {},
     "output_type": "display_data"
    },
    {
     "data": {
      "text/plain": [
       "PyObject <matplotlib.legend.Legend object at 0x7f84b4931c18>"
      ]
     },
     "execution_count": 40,
     "metadata": {},
     "output_type": "execute_result"
    }
   ],
   "source": [
    "range = 1:20:maxiter\n",
    "plot(range, [p1[i][2] for i=range], label=\"prop hard fields\")\n",
    "legend()"
   ]
  },
  {
   "cell_type": "markdown",
   "metadata": {},
   "source": [
    "* Average of V along the iterations"
   ]
  },
  {
   "cell_type": "code",
   "execution_count": 41,
   "metadata": {
    "scrolled": true
   },
   "outputs": [
    {
     "data": {
      "text/plain": [
       "(1.9057720582387918e-17, 3.4144502645636973e-16)"
      ]
     },
     "execution_count": 41,
     "metadata": {},
     "output_type": "execute_result"
    }
   ],
   "source": [
    "using Statistics\n",
    "range = 1500:2000\n",
    "meanV = mean(V[range])\n",
    "stdV = std(V[range])\n",
    "meanV, stdV"
   ]
  },
  {
   "cell_type": "markdown",
   "metadata": {},
   "source": [
    "Test adding some leaves\n",
    "---"
   ]
  },
  {
   "cell_type": "code",
   "execution_count": 86,
   "metadata": {},
   "outputs": [
    {
     "name": "stderr",
     "output_type": "stream",
     "text": [
      "\u001b[32mProgress: 100%|█████████████████████████████████████████| Time: 0:00:08\u001b[39m\n",
      "\u001b[32mProgress: 100%|█████████████████████████████████████████| Time: 0:05:55\u001b[39m\n"
     ]
    },
    {
     "name": "stdout",
     "output_type": "stream",
     "text": [
      "(f1, R, Vs[maxiter, i], p1s[maxiter, i]) = (0.0, 0.2666666666666666, 0.2950605420075104, (0.0, 0.0001))\n"
     ]
    },
    {
     "name": "stderr",
     "output_type": "stream",
     "text": [
      "\u001b[32mProgress: 100%|█████████████████████████████████████████| Time: 0:00:07\u001b[39m\n",
      "\u001b[32mProgress: 100%|█████████████████████████████████████████| Time: 0:05:49\u001b[39m\n"
     ]
    },
    {
     "name": "stdout",
     "output_type": "stream",
     "text": [
      "(f1, R, Vs[maxiter, i], p1s[maxiter, i]) = (0.001, 0.267, 0.29833817195435575, (0.0, 0.0))\n"
     ]
    },
    {
     "name": "stderr",
     "output_type": "stream",
     "text": [
      "\u001b[32mProgress: 100%|█████████████████████████████████████████| Time: 0:00:07\u001b[39m\n",
      "\u001b[32mProgress: 100%|█████████████████████████████████████████| Time: 0:05:51\u001b[39m\n"
     ]
    },
    {
     "name": "stdout",
     "output_type": "stream",
     "text": [
      "(f1, R, Vs[maxiter, i], p1s[maxiter, i]) = (0.002, 0.2673333333333332, 0.28426481268657056, (0.0, 0.0))\n"
     ]
    },
    {
     "name": "stderr",
     "output_type": "stream",
     "text": [
      "\u001b[32mProgress: 100%|█████████████████████████████████████████| Time: 0:00:07\u001b[39m\n",
      "\u001b[32mProgress: 100%|█████████████████████████████████████████| Time: 0:05:47\u001b[39m\n"
     ]
    },
    {
     "name": "stdout",
     "output_type": "stream",
     "text": [
      "(f1, R, Vs[maxiter, i], p1s[maxiter, i]) = (0.003, 0.2676666666666666, 0.2815423603141397, (0.0, 0.0))\n"
     ]
    },
    {
     "name": "stderr",
     "output_type": "stream",
     "text": [
      "\u001b[32mProgress: 100%|█████████████████████████████████████████| Time: 0:00:07\u001b[39m\n",
      "\u001b[32mProgress: 100%|█████████████████████████████████████████| Time: 0:05:52\u001b[39m\n"
     ]
    },
    {
     "name": "stdout",
     "output_type": "stream",
     "text": [
      "(f1, R, Vs[maxiter, i], p1s[maxiter, i]) = (0.004, 0.2679999999999999, 0.26488753903980555, (0.0, 0.0))\n"
     ]
    },
    {
     "name": "stderr",
     "output_type": "stream",
     "text": [
      "\u001b[32mProgress: 100%|█████████████████████████████████████████| Time: 0:00:07\u001b[39m\n",
      "\u001b[32mProgress: 100%|█████████████████████████████████████████| Time: 0:05:47\u001b[39m\n"
     ]
    },
    {
     "name": "stdout",
     "output_type": "stream",
     "text": [
      "(f1, R, Vs[maxiter, i], p1s[maxiter, i]) = (0.005, 0.2683333333333332, 0.24214360940874757, (0.0, 0.0))\n"
     ]
    },
    {
     "name": "stderr",
     "output_type": "stream",
     "text": [
      "\u001b[32mProgress: 100%|█████████████████████████████████████████| Time: 0:00:07\u001b[39m\n",
      "\u001b[32mProgress: 100%|█████████████████████████████████████████| Time: 0:05:55\u001b[39m\n"
     ]
    },
    {
     "name": "stdout",
     "output_type": "stream",
     "text": [
      "(f1, R, Vs[maxiter, i], p1s[maxiter, i]) = (0.006, 0.2686666666666667, 0.0, (0.0, 0.0))\n"
     ]
    },
    {
     "name": "stderr",
     "output_type": "stream",
     "text": [
      "\u001b[32mProgress: 100%|█████████████████████████████████████████| Time: 0:00:07\u001b[39m\n",
      "\u001b[32mProgress: 100%|█████████████████████████████████████████| Time: 0:05:53\u001b[39m\n"
     ]
    },
    {
     "name": "stdout",
     "output_type": "stream",
     "text": [
      "(f1, R, Vs[maxiter, i], p1s[maxiter, i]) = (0.007, 0.269, 0.0, (0.0, 0.0))\n"
     ]
    },
    {
     "name": "stderr",
     "output_type": "stream",
     "text": [
      "\u001b[32mProgress: 100%|█████████████████████████████████████████| Time: 0:00:07\u001b[39m\n",
      "\u001b[32mProgress: 100%|█████████████████████████████████████████| Time: 0:05:47\u001b[39m\n"
     ]
    },
    {
     "name": "stdout",
     "output_type": "stream",
     "text": [
      "(f1, R, Vs[maxiter, i], p1s[maxiter, i]) = (0.008, 0.2693333333333333, 0.0, (0.0, 0.0))\n"
     ]
    },
    {
     "name": "stderr",
     "output_type": "stream",
     "text": [
      "\u001b[32mProgress: 100%|█████████████████████████████████████████| Time: 0:00:07\u001b[39m\n",
      "\u001b[32mProgress: 100%|█████████████████████████████████████████| Time: 0:05:56\u001b[39m\n"
     ]
    },
    {
     "name": "stdout",
     "output_type": "stream",
     "text": [
      "(f1, R, Vs[maxiter, i], p1s[maxiter, i]) = (0.009, 0.2696666666666667, 0.0, (0.0, 0.0))\n"
     ]
    },
    {
     "name": "stderr",
     "output_type": "stream",
     "text": [
      "\u001b[32mProgress: 100%|█████████████████████████████████████████| Time: 0:00:07\u001b[39m\n",
      "\u001b[32mProgress: 100%|█████████████████████████████████████████| Time: 0:05:48\u001b[39m\n"
     ]
    },
    {
     "name": "stdout",
     "output_type": "stream",
     "text": [
      "(f1, R, Vs[maxiter, i], p1s[maxiter, i]) = (0.01, 0.2699999999999999, 0.0, (0.0, 0.0))\n"
     ]
    }
   ],
   "source": [
    "using Unzip\n",
    "f3 = 0.2\n",
    "H=1.6\n",
    "K = OffsetVector([0,0,0,1], 0:3)\n",
    "mK = sum(k*K[k] for k=eachindex(K))\n",
    "\n",
    "maxiter=2*10^3\n",
    "ϵ=0.01\n",
    "popsize=10^4\n",
    "\n",
    "f1s = 0.0:0.001:0.01\n",
    "q0s=fill(NaN, 1:maxiter, eachindex(f1s))\n",
    "Vs=fill(NaN, 1:maxiter, eachindex(f1s))\n",
    "p1s=fill((NaN, NaN), 1:maxiter, eachindex(f1s))\n",
    "pm1s=fill((NaN, NaN), 1:maxiter, eachindex(f1s))\n",
    "popPs = fill((NaN, NaN), -1:1, 1:popsize, eachindex(f1s))\n",
    "popQs = fill((NaN, NaN), -1:1, 1:popsize, eachindex(f1s))\n",
    "\n",
    "\n",
    "for (i,f1) in pairs(f1s)\n",
    "    Λ = OffsetVector([0,f1,1-f3-f1,f3], 0:3)\n",
    "    mΛ = sum(d*Λ[d] for d=eachindex(Λ))\n",
    "    α = mΛ/mK\n",
    "    R=1-α\n",
    "    popP_RS, popQ_RS = RS(Λ, K, H, maxiter=maxiter, popsize=popsize);\n",
    "    popP, popQ, q0s[:,i], Vs[:,i], p1s[:,i], pm1s[:,i] = RSB_entropic_m1(Λ, K, H, popP_RS, popQ_RS, maxiter=maxiter, popsize=popsize, ϵ=ϵ)\n",
    "    @show f1, R, Vs[maxiter,i], p1s[maxiter,i]\n",
    "    popPs[:,:,i]=popP; popQs[:,:,i]=popQ \n",
    "end"
   ]
  },
  {
   "cell_type": "code",
   "execution_count": 87,
   "metadata": {},
   "outputs": [
    {
     "data": {
      "text/plain": [
       "3×11 OffsetArray(::Matrix{Float64}, -1:1, 1:11) with eltype Float64 with indices -1:1×1:11:\n",
       " 1.0       0.974512  0.933651  0.910506  …  0.797548  0.799443  0.798877\n",
       " 0.792474  0.790076  0.793609  0.792356     0.797548  0.799443  0.798877\n",
       " 1.0       0.998539  0.991552  0.989548     0.797548  0.799443  0.798877"
      ]
     },
     "execution_count": 87,
     "metadata": {},
     "output_type": "execute_result"
    }
   ],
   "source": [
    "avmag_popPs = fill(NaN, -1:1, eachindex(f1s))\n",
    "for j=-1:1\n",
    "    avmag_popPs[j,:] = [av_mag(popPs[j,:,i]) for i in eachindex(f1s)]\n",
    "end\n",
    "avmag_popPs"
   ]
  },
  {
   "cell_type": "code",
   "execution_count": 79,
   "metadata": {
    "scrolled": true
   },
   "outputs": [
    {
     "data": {
      "image/png": "[encoded data removed]",
      "text/plain": [
       "Figure(PyObject <Figure size 640x480 with 1 Axes>)"
      ]
     },
     "metadata": {},
     "output_type": "display_data"
    },
    {
     "data": {
      "text/plain": [
       "PyObject <matplotlib.legend.Legend object at 0x7f845f3c8048>"
      ]
     },
     "execution_count": 79,
     "metadata": {},
     "output_type": "execute_result"
    }
   ],
   "source": [
    "xlabel(\"f1\")\n",
    "ylabel(\"|m|\")\n",
    "title(\"adding some leaves, f3=0.2, H=1.6\")\n",
    "scatter(f1s, [avmag_popPs[1,i] for i=[1,3,4]], label=\"|m| in P_+\")\n",
    "scatter([f1s[i] for i=[1,3,4]], [avmag_popPs[0,i] for i=[1,3,4]], marker=\"+\", label=\"|m| in P^RS\")\n",
    "legend()"
   ]
  },
  {
   "cell_type": "code",
   "execution_count": 80,
   "metadata": {},
   "outputs": [
    {
     "data": {
      "text/plain": [
       "((0.0, 0.0642), 0.001)"
      ]
     },
     "execution_count": 80,
     "metadata": {},
     "output_type": "execute_result"
    }
   ],
   "source": [
    "prop_small_m(popPs[1,:,3], 10^(-15)), f1s[3]"
   ]
  },
  {
   "cell_type": "code",
   "execution_count": 81,
   "metadata": {},
   "outputs": [
    {
     "data": {
      "text/plain": [
       "10000-element Vector{Float64}:\n",
       " 2.3262747448791806e-15\n",
       " 8.305919149496028e-14\n",
       " 1.0968816208032332e-13\n",
       " 5.56882124982198e-13\n",
       " 2.177676604226086e-10\n",
       " 7.296124889362848e-5\n",
       " 1.9470414592102832e-8\n",
       " 0.006557308921464356\n",
       " 9.685994085914733e-8\n",
       " 9.815497123256535e-9\n",
       " 5.391509390721929e-10\n",
       " 5.1360606522068717e-8\n",
       " 8.314069157398948e-6\n",
       " ⋮\n",
       " 4.5269848729321055e-8\n",
       " 1.343222611168171e-10\n",
       " 1.3467745098564458e-22\n",
       " 7.485253118067801e-11\n",
       " 3.823920390882148e-12\n",
       " 7.073943297844807e-5\n",
       " 6.081627170115876e-9\n",
       " 2.7015944094893615e-6\n",
       " 0.0008289620233632367\n",
       " 1.5516574110196171e-16\n",
       " 1.0813471240506895e-12\n",
       " 7.262659964887126e-8"
      ]
     },
     "execution_count": 81,
     "metadata": {},
     "output_type": "execute_result"
    }
   ],
   "source": [
    "[popPs[1,i,3][2] for i=1:popsize]"
   ]
  },
  {
   "cell_type": "code",
   "execution_count": 84,
   "metadata": {},
   "outputs": [
    {
     "data": {
      "text/plain": [
       "Histogram{Int64, 1, Tuple{Vector{Float64}}}\n",
       "edges:\n",
       "  [0.0, 1.0000000000000011e-20, 1.0000000000000003e-5, 0.1, 1.0]\n",
       "weights: [97, 8005, 1792, 106]\n",
       "closed: left\n",
       "isdensity: false"
      ]
     },
     "execution_count": 84,
     "metadata": {},
     "output_type": "execute_result"
    }
   ],
   "source": [
    "bins = [0.0, 10^(-20), 10^(-5), 0.1, 1.0]\n",
    "fit(Histogram, [popPs[1,i,3][2] for i=1:popsize], bins)"
   ]
  },
  {
   "cell_type": "markdown",
   "metadata": {},
   "source": [
    "Test at $f_3=0.2$\n",
    "---"
   ]
  },
  {
   "cell_type": "code",
   "execution_count": 30,
   "metadata": {
    "scrolled": true
   },
   "outputs": [
    {
     "name": "stderr",
     "output_type": "stream",
     "text": [
      "\u001b[32mProgress: 100%|█████████████████████████████████████████| Time: 0:00:07\u001b[39m\n",
      "\u001b[32mProgress: 100%|█████████████████████████████████████████| Time: 0:05:53\u001b[39m\n"
     ]
    },
    {
     "name": "stdout",
     "output_type": "stream",
     "text": [
      "(H, Vs[maxiter, i], p1s[maxiter, i]) = (1.0, 1.1102230246251565e-16, (0.0, 0.0))\n"
     ]
    },
    {
     "name": "stderr",
     "output_type": "stream",
     "text": [
      "\u001b[32mProgress: 100%|█████████████████████████████████████████| Time: 0:00:07\u001b[39m\n",
      "\u001b[32mProgress: 100%|█████████████████████████████████████████| Time: 0:05:13\u001b[39m\n"
     ]
    },
    {
     "name": "stdout",
     "output_type": "stream",
     "text": [
      "(H, Vs[maxiter, i], p1s[maxiter, i]) = (1.1, 0.0, (0.0, 0.0))\n"
     ]
    },
    {
     "name": "stderr",
     "output_type": "stream",
     "text": [
      "\u001b[32mProgress: 100%|█████████████████████████████████████████| Time: 0:00:08\u001b[39m\n",
      "\u001b[32mProgress: 100%|█████████████████████████████████████████| Time: 0:05:12\u001b[39m\n"
     ]
    },
    {
     "name": "stdout",
     "output_type": "stream",
     "text": [
      "(H, Vs[maxiter, i], p1s[maxiter, i]) = (1.2, 0.0, (0.0, 0.0))\n"
     ]
    },
    {
     "name": "stderr",
     "output_type": "stream",
     "text": [
      "\u001b[32mProgress: 100%|█████████████████████████████████████████| Time: 0:00:07\u001b[39m\n",
      "\u001b[32mProgress: 100%|█████████████████████████████████████████| Time: 0:05:12\u001b[39m\n"
     ]
    },
    {
     "name": "stdout",
     "output_type": "stream",
     "text": [
      "(H, Vs[maxiter, i], p1s[maxiter, i]) = (1.3, 0.0, (0.0, 0.0))\n"
     ]
    },
    {
     "name": "stderr",
     "output_type": "stream",
     "text": [
      "\u001b[32mProgress: 100%|█████████████████████████████████████████| Time: 0:00:07\u001b[39m\n",
      "\u001b[32mProgress: 100%|█████████████████████████████████████████| Time: 0:05:12\u001b[39m\n"
     ]
    },
    {
     "name": "stdout",
     "output_type": "stream",
     "text": [
      "(H, Vs[maxiter, i], p1s[maxiter, i]) = (1.4, 0.0, (0.0, 0.0))\n"
     ]
    },
    {
     "name": "stderr",
     "output_type": "stream",
     "text": [
      "\u001b[32mProgress: 100%|█████████████████████████████████████████| Time: 0:00:07\u001b[39m\n",
      "\u001b[32mProgress: 100%|█████████████████████████████████████████| Time: 0:05:09\u001b[39m\n"
     ]
    },
    {
     "name": "stdout",
     "output_type": "stream",
     "text": [
      "(H, Vs[maxiter, i], p1s[maxiter, i]) = (1.5, 0.3077846469797232, (0.0, 0.0))\n"
     ]
    },
    {
     "name": "stderr",
     "output_type": "stream",
     "text": [
      "\u001b[32mProgress: 100%|█████████████████████████████████████████| Time: 0:00:08\u001b[39m\n",
      "\u001b[32mProgress: 100%|█████████████████████████████████████████| Time: 0:05:11\u001b[39m\n"
     ]
    },
    {
     "name": "stdout",
     "output_type": "stream",
     "text": [
      "(H, Vs[maxiter, i], p1s[maxiter, i]) = (1.6, 0.29503639898246026, (0.0, 0.0008))\n"
     ]
    },
    {
     "name": "stderr",
     "output_type": "stream",
     "text": [
      "\u001b[32mProgress: 100%|█████████████████████████████████████████| Time: 0:00:07\u001b[39m\n",
      "\u001b[32mProgress: 100%|█████████████████████████████████████████| Time: 0:05:08\u001b[39m\n"
     ]
    },
    {
     "name": "stdout",
     "output_type": "stream",
     "text": [
      "(H, Vs[maxiter, i], p1s[maxiter, i]) = (1.7, 0.27275487967673495, (0.0, 0.0084))\n"
     ]
    },
    {
     "name": "stderr",
     "output_type": "stream",
     "text": [
      "\u001b[32mProgress: 100%|█████████████████████████████████████████| Time: 0:00:07\u001b[39m\n",
      "\u001b[32mProgress: 100%|█████████████████████████████████████████| Time: 0:05:04\u001b[39m\n"
     ]
    },
    {
     "name": "stdout",
     "output_type": "stream",
     "text": [
      "(H, Vs[maxiter, i], p1s[maxiter, i]) = (1.8, 0.26415245986319147, (0.0, 0.0689))\n"
     ]
    },
    {
     "name": "stderr",
     "output_type": "stream",
     "text": [
      "\u001b[32mProgress: 100%|█████████████████████████████████████████| Time: 0:00:07\u001b[39m\n",
      "\u001b[32mProgress: 100%|█████████████████████████████████████████| Time: 0:05:09\u001b[39m\n"
     ]
    },
    {
     "name": "stdout",
     "output_type": "stream",
     "text": [
      "(H, Vs[maxiter, i], p1s[maxiter, i]) = (1.9, 0.25300537899037223, (0.0, 0.084))\n"
     ]
    },
    {
     "name": "stderr",
     "output_type": "stream",
     "text": [
      "\u001b[32mProgress: 100%|█████████████████████████████████████████| Time: 0:00:07\u001b[39m\n",
      "\u001b[32mProgress: 100%|█████████████████████████████████████████| Time: 0:05:13\u001b[39m\n"
     ]
    },
    {
     "name": "stdout",
     "output_type": "stream",
     "text": [
      "(H, Vs[maxiter, i], p1s[maxiter, i]) = (2.0, 0.23612419103945526, (0.0, 0.1913))\n"
     ]
    }
   ],
   "source": [
    "using Unzip\n",
    "f3 = 0.2\n",
    "Λ = OffsetVector([0,0,1-f3,f3], 0:3)\n",
    "K = OffsetVector([0,0,0,1], 0:3)\n",
    "mK = sum(k*K[k] for k=eachindex(K))\n",
    "mΛ = sum(d*Λ[d] for d=eachindex(Λ))\n",
    "α = mΛ/mK\n",
    "R=1-α\n",
    "\n",
    "maxiter=2*10^3\n",
    "ϵ=0.01\n",
    "popsize=10^4\n",
    "\n",
    "Hs = 1.0:0.1:2.0\n",
    "q0s=fill(NaN, 1:maxiter, eachindex(Hs))\n",
    "Vs=fill(NaN, 1:maxiter, eachindex(Hs))\n",
    "p1s=fill((NaN, NaN), 1:maxiter, eachindex(Hs))\n",
    "pm1s=fill((NaN, NaN), 1:maxiter, eachindex(Hs))\n",
    "popPs = fill((NaN, NaN), -1:1, 1:popsize, eachindex(Hs))\n",
    "popQs = fill((NaN, NaN), -1:1, 1:popsize, eachindex(Hs))\n",
    "\n",
    "\n",
    "for (i,H) in pairs(Hs)\n",
    "    popP_RS, popQ_RS = RS(Λ, K, H, maxiter=maxiter, popsize=popsize);\n",
    "    popP, popQ, q0s[:,i], Vs[:,i], p1s[:,i], pm1s[:,i] = RSB_entropic_m1(Λ, K, H, popP_RS, popQ_RS, maxiter=maxiter, popsize=popsize, ϵ=ϵ)\n",
    "    @show H, Vs[maxiter,i], p1s[maxiter,i], distorsion_RS(Λ, K, H, popP_RS, popQ_RS)\n",
    "    popPs[:,:,i]=popP; popQs[:,:,i]=popQ \n",
    "end"
   ]
  },
  {
   "cell_type": "code",
   "execution_count": 155,
   "metadata": {},
   "outputs": [
    {
     "data": {
      "text/plain": [
       "1.5"
      ]
     },
     "execution_count": 155,
     "metadata": {},
     "output_type": "execute_result"
    }
   ],
   "source": [
    "Hs[6]"
   ]
  },
  {
   "cell_type": "code",
   "execution_count": 157,
   "metadata": {},
   "outputs": [
    {
     "data": {
      "text/plain": [
       "10000-element OffsetArray(::Array{Tuple{Float64,Float64},1}, 1:10000) with eltype Tuple{Float64,Float64} with indices 1:10000:\n",
       " (1.0, 1.8797689920287923e-49)\n",
       " (1.0, 1.87996967606022e-49)\n",
       " (1.0, 2.152980804426758e-49)\n",
       " (1.0, 1.8768576419922893e-57)\n",
       " (1.0, 1.4514088271509315e-54)\n",
       " (1.0, 4.159713878873278e-54)\n",
       " (1.0, 1.8373904219400205e-56)\n",
       " (1.0, 4.5689071757858616e-102)\n",
       " (1.0, 7.202934467098164e-55)\n",
       " (1.0, 5.245187096244897e-51)\n",
       " (1.0, 2.5147525782266185e-54)\n",
       " (1.0, 3.587836369122319e-56)\n",
       " (1.0, 2.9074337386256804e-53)\n",
       " ⋮\n",
       " (1.0, 7.577022683601516e-55)\n",
       " (1.0, 7.352902955494224e-52)\n",
       " (1.0, 2.7710004951022235e-104)\n",
       " (1.0, 4.81254255900279e-52)\n",
       " (1.0, 1.090783187811014e-56)\n",
       " (1.0, 2.5878071110262998e-48)\n",
       " (1.0, 9.733207292990346e-158)\n",
       " (1.0, 1.1095758744048342e-49)\n",
       " (1.0, 9.462907843164574e-57)\n",
       " (1.0, 2.903234137480433e-52)\n",
       " (1.0, 4.463839172236132e-105)\n",
       " (1.0, 4.696804574370163e-52)"
      ]
     },
     "execution_count": 157,
     "metadata": {},
     "output_type": "execute_result"
    }
   ],
   "source": [
    "popPs[1,:,6]"
   ]
  },
  {
   "cell_type": "code",
   "execution_count": 161,
   "metadata": {},
   "outputs": [
    {
     "data": {
      "text/plain": [
       "3.6205065205812163e-261"
      ]
     },
     "execution_count": 161,
     "metadata": {},
     "output_type": "execute_result"
    }
   ],
   "source": [
    "minimum([popPs[1,i,6][2] for i=1:popsize])"
   ]
  },
  {
   "cell_type": "code",
   "execution_count": 196,
   "metadata": {},
   "outputs": [
    {
     "data": {
      "text/plain": [
       "2.0185585490322663e-44"
      ]
     },
     "execution_count": 196,
     "metadata": {},
     "output_type": "execute_result"
    }
   ],
   "source": [
    "maximum([popPs[1,i,6][2] for i=1:popsize])"
   ]
  },
  {
   "cell_type": "code",
   "execution_count": 148,
   "metadata": {},
   "outputs": [
    {
     "data": {
      "text/plain": [
       "3×11 OffsetArray(::Array{Float64,2}, -1:1, 1:11) with eltype Float64 with indices -1:1×1:11:\n",
       " 0.671353  0.709556  0.732081  0.74645  …  1.0       1.0       1.0\n",
       " 0.671353  0.709556  0.732081  0.74645     0.813996  0.822602  0.835088\n",
       " 0.671353  0.709556  0.732081  0.74645     1.0       1.0       1.0"
      ]
     },
     "execution_count": 148,
     "metadata": {},
     "output_type": "execute_result"
    }
   ],
   "source": [
    "avmag_popPs = fill(NaN, -1:1, eachindex(Hs))\n",
    "for j=-1:1\n",
    "    avmag_popPs[j,:] = [av_mag(popPs[j,:,i]) for i in eachindex(Hs)]\n",
    "end\n",
    "avmag_popPs"
   ]
  },
  {
   "cell_type": "code",
   "execution_count": 217,
   "metadata": {},
   "outputs": [
    {
     "data": {
      "text/plain": [
       "11-element OffsetArray(::Array{Float64,1}, 1:11) with eltype Float64 with indices 1:11:\n",
       " 0.6713528667488403\n",
       " 0.7095557422817419\n",
       " 0.7320809960516829\n",
       " 0.7464503418478543\n",
       " 0.7609164586678767\n",
       " 0.7859562196624175\n",
       " 0.794744735161962\n",
       " 0.8109112227311625\n",
       " 0.8139962568417576\n",
       " 0.8226021390331424\n",
       " 0.8350879784700089"
      ]
     },
     "execution_count": 217,
     "metadata": {},
     "output_type": "execute_result"
    }
   ],
   "source": [
    "avmag_popPs[0,:]"
   ]
  },
  {
   "cell_type": "code",
   "execution_count": 153,
   "metadata": {},
   "outputs": [
    {
     "data": {
      "image/png": "[encoded data removed]",
      "text/plain": [
       "Figure(PyObject <Figure size 640x480 with 1 Axes>)"
      ]
     },
     "metadata": {},
     "output_type": "display_data"
    },
    {
     "data": {
      "text/plain": [
       "PyObject <matplotlib.legend.Legend object at 0x7fe9cd688c18>"
      ]
     },
     "execution_count": 153,
     "metadata": {},
     "output_type": "execute_result"
    }
   ],
   "source": [
    "scatter(Hs, avmag_popPs[1,:], label=\"|m| in P_+\")\n",
    "scatter(Hs, avmag_popPs[0,:], marker=\"+\", label=\"|m| in P^RS\")\n",
    "legend()"
   ]
  },
  {
   "cell_type": "code",
   "execution_count": 207,
   "metadata": {},
   "outputs": [
    {
     "data": {
      "text/plain": [
       "3×11 OffsetArray(::Array{Float64,2}, -1:1, 1:11) with eltype Float64 with indices -1:1×1:11:\n",
       " 0.0029  0.008  0.0195  0.0294  0.0498  …  0.0     0.0     0.0     0.0\n",
       " 0.0029  0.008  0.0195  0.0294  0.0498     0.1334  0.1749  0.1917  0.2157\n",
       " 0.0029  0.008  0.0195  0.0294  0.0498     1.0     1.0     1.0     1.0"
      ]
     },
     "execution_count": 207,
     "metadata": {},
     "output_type": "execute_result"
    }
   ],
   "source": [
    "#fraction of fields such that m(+)>0.999 in P_-, P^RS, P_+\n",
    "prop_largem1 = fill(NaN, -1:1, eachindex(Hs))\n",
    "for j=-1:1\n",
    "    for k in eachindex(Hs)\n",
    "        prop_largem1[j,k] = mean([popPs[j,i,k][1]>0.999 for i=1:popsize])\n",
    "    end\n",
    "end\n",
    "prop_largem1"
   ]
  },
  {
   "cell_type": "code",
   "execution_count": 212,
   "metadata": {},
   "outputs": [
    {
     "data": {
      "image/png": "[encoded data removed]",
      "text/plain": [
       "Figure(PyObject <Figure size 640x480 with 1 Axes>)"
      ]
     },
     "metadata": {},
     "output_type": "display_data"
    },
    {
     "data": {
      "text/plain": [
       "PyObject <matplotlib.legend.Legend object at 0x7fe9cd4ebe80>"
      ]
     },
     "execution_count": 212,
     "metadata": {},
     "output_type": "execute_result"
    }
   ],
   "source": [
    "scatter(Hs, prop_largem1[-1,:], label=\"fraction of m(+)>0.999 in P_-\")\n",
    "scatter(Hs, prop_largem1[1,:], marker=\"*\", label=\"fraction of m(+)>0.999 in P_+\")\n",
    "scatter(Hs, prop_largem1[0,:], marker=\"+\", label=\"fraction of m(+)>0.999 in P^RS\")\n",
    "plot((1.0,2.0), (0.0,0.0))\n",
    "legend()"
   ]
  },
  {
   "cell_type": "code",
   "execution_count": 208,
   "metadata": {},
   "outputs": [
    {
     "data": {
      "text/plain": [
       "3×11 OffsetArray(::Array{Float64,2}, -1:1, 1:11) with eltype Float64 with indices -1:1×1:11:\n",
       " 0.0  0.0  0.0  0.0003  0.0001  1.0     1.0    1.0    1.0     1.0     1.0\n",
       " 0.0  0.0  0.0  0.0003  0.0001  0.0005  0.001  0.001  0.0023  0.0018  0.0042\n",
       " 0.0  0.0  0.0  0.0003  0.0001  0.0     0.0    0.0    0.0     0.0     0.0"
      ]
     },
     "execution_count": 208,
     "metadata": {},
     "output_type": "execute_result"
    }
   ],
   "source": [
    "#fraction of fields such that m(-)>0.999 in P_-, P^RS, P_+\n",
    "prop_largem2 = fill(NaN, -1:1, eachindex(Hs))\n",
    "for j=-1:1\n",
    "    for k in eachindex(Hs)\n",
    "        prop_largem2[j,k] = mean([popPs[j,i,k][2]>0.999 for i=1:popsize])\n",
    "    end\n",
    "end\n",
    "prop_largem2"
   ]
  },
  {
   "cell_type": "code",
   "execution_count": 123,
   "metadata": {},
   "outputs": [],
   "source": [
    "using JLD\n",
    "save(\"data_f0p2.jld\", \"Hs\", Hs)\n",
    "save(\"data_f0p2.jld\", \"q0s\", q0s)\n",
    "save(\"data_f0p2.jld\", \"Vs\", Vs)\n",
    "save(\"data_f0p2.jld\", \"p1s\", p1s)\n",
    "save(\"data_f0p2.jld\", \"pm1s\", pm1s)\n",
    "save(\"data_f0p2.jld\", \"popPs\", popPs)"
   ]
  },
  {
   "cell_type": "code",
   "execution_count": 215,
   "metadata": {},
   "outputs": [
    {
     "data": {
      "image/png": "[encoded data removed]",
      "text/plain": [
       "Figure(PyObject <Figure size 640x480 with 1 Axes>)"
      ]
     },
     "metadata": {},
     "output_type": "display_data"
    },
    {
     "data": {
      "text/plain": [
       "PyObject <matplotlib.legend.Legend object at 0x7fe9cd3c9f28>"
      ]
     },
     "execution_count": 215,
     "metadata": {},
     "output_type": "execute_result"
    }
   ],
   "source": [
    "i=8\n",
    "range = 1:1:2000\n",
    "#plot(range, q0s[range, i], label=\"q0\")\n",
    "#plot(range, Vs[range, i], label=\"V=q1-q0\")\n",
    "plot(range, [p1s[j,i][2] for j=range], label=\"prop hard fields in P_+\")\n",
    "legend()"
   ]
  },
  {
   "cell_type": "code",
   "execution_count": 53,
   "metadata": {},
   "outputs": [
    {
     "data": {
      "text/plain": [
       "([1.4418480839287748e-18, 1.109113910714442e-19, -1.4418480839287748e-18, -1.1091139107144421e-18, 4.769189816072101e-18, 0.31520933036975357, 0.29607345775317373, 0.27901110156946846, 0.2642729264995084, 0.25077901498868843, 0.23865992392128893], [6.443418890023652e-17, 7.100212608640688e-17, 7.287251988078034e-17, 7.228396871567443e-17, 7.669004447019368e-17, 0.005549520049075774, 0.005140340607933536, 0.005369323453200413, 0.00511462999795579, 0.004986162227923241, 0.005198317063023581])"
      ]
     },
     "execution_count": 53,
     "metadata": {},
     "output_type": "execute_result"
    }
   ],
   "source": [
    "using Statistics\n",
    "q0_mean = mean.(q0s[1000:2000, i] for i=1:11) \n",
    "q0_std = std.(q0s[1000:2000,i] for i=1:11)\n",
    "V_mean = mean.(Vs[1000:2000, i] for i=1:11) \n",
    "V_std = std.(Vs[1000:2000,i] for i=1:11)\n",
    "V_mean, V_std"
   ]
  },
  {
   "cell_type": "markdown",
   "metadata": {},
   "source": [
    "* Retry but with a larger population size"
   ]
  },
  {
   "cell_type": "code",
   "execution_count": 36,
   "metadata": {
    "scrolled": true
   },
   "outputs": [
    {
     "name": "stderr",
     "output_type": "stream",
     "text": [
      "\u001b[32mProgress: 100%|█████████████████████████████████████████| Time: 0:02:42\u001b[39m\n",
      "\u001b[32mProgress: 100%|█████████████████████████████████████████| Time: 1:06:55\u001b[39m\n"
     ]
    },
    {
     "name": "stdout",
     "output_type": "stream",
     "text": [
      "(H, Vs_pop1e5[maxiter, i], p1s_pop1e5[maxiter, i]) = (1.4, -1.1102230246251565e-16, (0.0, 0.0))\n"
     ]
    },
    {
     "name": "stderr",
     "output_type": "stream",
     "text": [
      "\u001b[32mProgress: 100%|█████████████████████████████████████████| Time: 0:01:19\u001b[39m\n",
      "\u001b[32mProgress: 100%|█████████████████████████████████████████| Time: 1:02:12\u001b[39m\n"
     ]
    },
    {
     "name": "stdout",
     "output_type": "stream",
     "text": [
      "(H, Vs_pop1e5[maxiter, i], p1s_pop1e5[maxiter, i]) = (1.5, 0.31694144064740726, (0.0, 0.0))\n"
     ]
    },
    {
     "name": "stderr",
     "output_type": "stream",
     "text": [
      "\u001b[32mProgress: 100%|█████████████████████████████████████████| Time: 0:01:32\u001b[39m\n",
      "\u001b[32mProgress: 100%|█████████████████████████████████████████| Time: 0:53:14\u001b[39m\n"
     ]
    },
    {
     "name": "stdout",
     "output_type": "stream",
     "text": [
      "(H, Vs_pop1e5[maxiter, i], p1s_pop1e5[maxiter, i]) = (1.6, 0.296552363874628, (0.0, 0.0))\n"
     ]
    },
    {
     "name": "stderr",
     "output_type": "stream",
     "text": [
      "\u001b[32mProgress: 100%|█████████████████████████████████████████| Time: 0:01:33\u001b[39m\n",
      "\u001b[32mProgress: 100%|█████████████████████████████████████████| Time: 0:50:25\u001b[39m\n"
     ]
    },
    {
     "name": "stdout",
     "output_type": "stream",
     "text": [
      "(H, Vs_pop1e5[maxiter, i], p1s_pop1e5[maxiter, i]) = (1.7, 0.2797597528567297, (0.0, 0.00062))\n"
     ]
    }
   ],
   "source": [
    "using Unzip\n",
    "f3 = 0.2\n",
    "Λ = [0,1-f3,f3]\n",
    "K = [0,0,1]\n",
    "mK = sum(k*K[k] for k=eachindex(K))\n",
    "mΛ = sum(d*Λ[d] for d=eachindex(Λ))\n",
    "α = mΛ/mK\n",
    "R=1-α\n",
    "\n",
    "maxiter=2*10^3\n",
    "ϵ=0.01\n",
    "popsize=10^5\n",
    "\n",
    "Hs_pop1e5 = 1.4:0.1:1.7\n",
    "q0s_pop1e5=fill(NaN, 1:maxiter, eachindex(Hs_pop1e5))\n",
    "Vs_pop1e5=fill(NaN, 1:maxiter, eachindex(Hs_pop1e5))\n",
    "p1s_pop1e5=fill((NaN, NaN), 1:maxiter, eachindex(Hs_pop1e5))\n",
    "pm1s_pop1e5=fill((NaN, NaN), 1:maxiter, eachindex(Hs_pop1e5))\n",
    "popPs_pop1e5 = fill((NaN, NaN), -1:1, 1:popsize, eachindex(Hs_pop1e5))\n",
    "popQs_pop1e5 = fill((NaN, NaN), -1:1, 1:popsize, eachindex(Hs_pop1e5))\n",
    "\n",
    "\n",
    "for (i,H) in pairs(Hs_pop1e5)\n",
    "    popP_RS, popQ_RS = RS(Λ, K, H, maxiter=maxiter, popsize=popsize);\n",
    "    popP, popQ, q0s_pop1e5[:,i], Vs_pop1e5[:,i], p1s_pop1e5[:,i], pm1s_pop1e5[:,i] = RSB_entropic_m1(Λ, K, H, popP_RS, popQ_RS, maxiter=maxiter, popsize=popsize, ϵ=ϵ)\n",
    "    @show H, Vs_pop1e5[maxiter,i], p1s_pop1e5[maxiter,i]\n",
    "    popPs_pop1e5[:,:,i]=popP; popQs_pop1e5[:,:,i]=popQ \n",
    "end"
   ]
  },
  {
   "cell_type": "code",
   "execution_count": 124,
   "metadata": {},
   "outputs": [],
   "source": [
    "using JLD\n",
    "save(\"data_f0p2_pop1e5.jld\", \"Hs_pop1e5\", Hs_pop1e5)\n",
    "save(\"data_f0p2_pop1e5.jld\", \"q0s_pop1e5\", q0s_pop1e5)\n",
    "save(\"data_f0p2_pop1e5.jld\", \"Vs_pop1e5\", Vs_pop1e5)\n",
    "save(\"data_f0p2_pop1e5.jld\", \"p1s_pop1e5\", p1s_pop1e5)\n",
    "save(\"data_f0p2_pop1e5.jld\", \"pm1s_pop1e5\", pm1s_pop1e5)\n",
    "save(\"data_f0p2_pop1e5.jld\", \"popPs_pop1e5\", popPs_pop1e5)"
   ]
  },
  {
   "cell_type": "code",
   "execution_count": 216,
   "metadata": {},
   "outputs": [
    {
     "data": {
      "image/png": "[encoded data removed]",
      "text/plain": [
       "Figure(PyObject <Figure size 640x480 with 1 Axes>)"
      ]
     },
     "metadata": {},
     "output_type": "display_data"
    },
    {
     "data": {
      "text/plain": [
       "PyObject <matplotlib.legend.Legend object at 0x7fe9cd33ea90>"
      ]
     },
     "execution_count": 216,
     "metadata": {},
     "output_type": "execute_result"
    }
   ],
   "source": [
    "i=4\n",
    "range = 1:1:2000\n",
    "#plot(range, q0s_pop1e5[range, i], label=\"q0\")\n",
    "#plot(range, Vs_pop1e5[range, i], label=\"V=q1-q0\")\n",
    "plot(range, [p1s_pop1e5[j,i][2] for j=range], label=\"prop hard fields in P_+\")\n",
    "legend()"
   ]
  },
  {
   "cell_type": "code",
   "execution_count": 169,
   "metadata": {},
   "outputs": [
    {
     "data": {
      "text/plain": [
       "1.6"
      ]
     },
     "execution_count": 169,
     "metadata": {},
     "output_type": "execute_result"
    }
   ],
   "source": [
    "Hs_pop1e5[3]"
   ]
  },
  {
   "cell_type": "code",
   "execution_count": 176,
   "metadata": {},
   "outputs": [
    {
     "data": {
      "text/plain": [
       "7.32942452362441e-131"
      ]
     },
     "execution_count": 176,
     "metadata": {},
     "output_type": "execute_result"
    }
   ],
   "source": [
    "minimum([popPs_pop1e5[1,i,2][2] for i=1:popsize])"
   ]
  },
  {
   "cell_type": "code",
   "execution_count": 178,
   "metadata": {},
   "outputs": [
    {
     "data": {
      "text/plain": [
       "2.4871514875531567e-45"
      ]
     },
     "execution_count": 178,
     "metadata": {},
     "output_type": "execute_result"
    }
   ],
   "source": [
    "mean([popPs_pop1e5[1,i,3][2] for i=1:popsize])"
   ]
  },
  {
   "cell_type": "code",
   "execution_count": 55,
   "metadata": {},
   "outputs": [
    {
     "data": {
      "text/plain": [
       "([-2.5509619946432167e-18, 0.31526475883889316, 0.2961136803811652, 0.27916770854375705], [7.932242668765756e-17, 0.0016037880747274622, 0.001578457684200754, 0.0017395377875712077])"
      ]
     },
     "execution_count": 55,
     "metadata": {},
     "output_type": "execute_result"
    }
   ],
   "source": [
    "using Statistics\n",
    "q0_mean_pop1e5 = mean.(q0s_pop1e5[1000:2000, i] for i=1:4) \n",
    "q0_std_pop1e5 = std.(q0s_pop1e5[1000:2000,i] for i=1:4)\n",
    "V_mean_pop1e5 = mean.(Vs_pop1e5[1000:2000, i] for i=1:4) \n",
    "V_std_pop1e5 = std.(Vs_pop1e5[1000:2000,i] for i=1:4)\n",
    "V_mean_pop1e5, V_std_pop1e5"
   ]
  },
  {
   "cell_type": "code",
   "execution_count": 118,
   "metadata": {
    "scrolled": true
   },
   "outputs": [
    {
     "data": {
      "image/png": "[encoded data removed]",
      "text/plain": [
       "Figure(PyObject <Figure size 640x480 with 1 Axes>)"
      ]
     },
     "metadata": {},
     "output_type": "display_data"
    },
    {
     "name": "stderr",
     "output_type": "stream",
     "text": [
      "No handles with labels found to put in legend.\n"
     ]
    },
    {
     "data": {
      "text/plain": [
       "PyObject <matplotlib.legend.Legend object at 0x7fe9ce2e5ef0>"
      ]
     },
     "execution_count": 118,
     "metadata": {},
     "output_type": "execute_result"
    }
   ],
   "source": [
    "using PyPlot\n",
    "xlabel(\"H\")\n",
    "ylabel(\"V\")\n",
    "errorbar(Hs, V_mean, yerr=V_std)\n",
    "#errorbar(Hs_pop1e5, V_mean_pop1e5, yerr=V_std_pop1e5)\n",
    "legend()"
   ]
  }
 ],
 "metadata": {
  "kernelspec": {
   "display_name": "Julia 1.6.1-pre",
   "language": "julia",
   "name": "julia-1.6"
  },
  "language_info": {
   "file_extension": ".jl",
   "mimetype": "application/julia",
   "name": "julia",
   "version": "1.6.1"
  }
 },
 "nbformat": 4,
 "nbformat_minor": 4
}
