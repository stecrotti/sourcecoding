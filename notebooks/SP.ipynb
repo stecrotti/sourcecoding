{
 "cells": [
  {
   "cell_type": "code",
   "execution_count": 1,
   "metadata": {},
   "outputs": [
    {
     "data": {
      "text/plain": [
       "readseeds (generic function with 1 method)"
      ]
     },
     "execution_count": 1,
     "metadata": {},
     "output_type": "execute_result"
    }
   ],
   "source": [
    "using SparseArrays, LinearAlgebra\n",
    "\n",
    "function readgraph(graph)\n",
    "    I=Int[]\n",
    "    J=Int[]\n",
    "    open(graph) do f\n",
    "        linecounter = 0\n",
    "        for l in eachline(f)\n",
    "            v = split(l)\n",
    "            if v[1] == \"D\"\n",
    "                i,j = extrema((parse(Int, v[2])+1, parse(Int, v[3])+1))\n",
    "                push!(I, i)\n",
    "                push!(J, j)\n",
    "            end\n",
    "        end\n",
    "    end\n",
    "    N = maximum(I)\n",
    "    H = sparse(J.-N,I,fill(1,length(I))) .÷ 2\n",
    "end\n",
    "\n",
    "\n",
    "function readseeds(seeds, H)\n",
    "    M, N = size(H)\n",
    "    @show size(H)\n",
    "    v = Int[]\n",
    "    open(seeds) do f\n",
    "        for l in eachline(f)\n",
    "            if l[1] != '#'\n",
    "                v = parse.(Int, split(l)) .- N .+ 1\n",
    "            end\n",
    "        end\n",
    "        println(\"$(length(v)) removed factors $v\")\n",
    "        return H[setdiff(1:size(H,1), v), :]\n",
    "    end\n",
    "end"
   ]
  },
  {
   "cell_type": "code",
   "execution_count": 2,
   "metadata": {},
   "outputs": [
    {
     "data": {
      "text/plain": [
       "leaf_removal (generic function with 1 method)"
      ]
     },
     "execution_count": 2,
     "metadata": {},
     "output_type": "execute_result"
    }
   ],
   "source": [
    "function leaf_removal(H::SparseMatrixCSC)\n",
    "    M, N = size(H)\n",
    "    Ht = sparse(transpose(H)) # for faster access by row\n",
    "    degs = vec(sum(H .!= 0, dims=1))\n",
    "    facts = fill(true, M)\n",
    "    rowperm = Int[]\n",
    "    Q = findall(degs .== 1)\n",
    "    indep = findall(degs .== 0)\n",
    "    dep = Int[]\n",
    "    while !isempty(Q)\n",
    "        i = popfirst!(Q)\n",
    "        degs[i] == 0 && continue\n",
    "        push!(dep, i)\n",
    "        ∂i = rowvals(H)[nzrange(H,i)]\n",
    "        ∂i = ∂i[facts[∂i]]\n",
    "        @assert length(∂i) == 1 # should be a residual leaf\n",
    "        a = ∂i[1]\n",
    "        facts[a] = false\n",
    "        push!(rowperm, a) \n",
    "        for j in rowvals(Ht)[nzrange(Ht,a)]\n",
    "            degs[j] -= 1\n",
    "            if j != i\n",
    "                if degs[j] == 0\n",
    "                    push!(indep, j)\n",
    "                elseif degs[j] == 1\n",
    "                    push!(Q, j)\n",
    "                end\n",
    "            end\n",
    "        end\n",
    "    end\n",
    "    all(degs .==  0) || @warn \"non-empty core\"\n",
    "    rowperm, [dep; indep]\n",
    "end"
   ]
  },
  {
   "cell_type": "code",
   "execution_count": 3,
   "metadata": {},
   "outputs": [
    {
     "data": {
      "text/plain": [
       "ut2diagGF2! (generic function with 1 method)"
      ]
     },
     "execution_count": 3,
     "metadata": {},
     "output_type": "execute_result"
    }
   ],
   "source": [
    "isuppertriang(H::SparseMatrixCSC) = all(rowvals(H)[last(nzrange(H,i))] == i for i = 1:size(H,1))\n",
    "\n",
    "function ut2diagGF2!(T::SparseMatrixCSC)\n",
    "    (m,n) = size(T)\n",
    "    # Check that the left part of T is unit upper triangular\n",
    "    @assert isuppertriang(T)\n",
    "    # Loop over diagonal elements\n",
    "    for c in m:-1:2\n",
    "        # Find non-zero elements above T[c,c] and perform row operations to \n",
    "        #  cancel them out\n",
    "        for (j,v) in @views zip(rowvals(T[:,c]),nonzeros(T[:,c]))\n",
    "            if v != 0 && j < c\n",
    "                for k in rowvals(T[c,c:end]).+c.-1\n",
    "                    T[j,k] ⊻= T[c,k]\n",
    "                end\n",
    "            end\n",
    "        end\n",
    "    end\n",
    "    dropzeros!(T)\n",
    "end"
   ]
  },
  {
   "cell_type": "code",
   "execution_count": 4,
   "metadata": {
    "scrolled": true
   },
   "outputs": [
    {
     "data": {
      "text/plain": [
       "findbasis (generic function with 1 method)"
      ]
     },
     "execution_count": 4,
     "metadata": {},
     "output_type": "execute_result"
    }
   ],
   "source": [
    "function findbasis(H)\n",
    "    rowperm, colperm = leaf_removal(H)\n",
    "    Hnew = H[rowperm, colperm]\n",
    "    ut2diagGF2!(Hnew)\n",
    "    B = [Hnew[:, size(Hnew, 1)+1:end]; I]\n",
    "    indep = colperm[size(H,1)+1:end]\n",
    "    B[invperm(colperm),:], indep\n",
    "end "
   ]
  },
  {
   "cell_type": "code",
   "execution_count": 5,
   "metadata": {},
   "outputs": [
    {
     "name": "stdout",
     "output_type": "stream",
     "text": [
      "size(H) = (6600, 9000)\n",
      "5 removed factors [129, 1515, 1531, 1655, 3471]\n"
     ]
    },
    {
     "data": {
      "text/plain": [
       "0.26722222222222225"
      ]
     },
     "execution_count": 5,
     "metadata": {},
     "output_type": "execute_result"
    }
   ],
   "source": [
    "H = readgraph(\"/home/ab/src/spread/graphN9000.txt\")\n",
    "H = readseeds(\"/home/ab/src/spread/seedsN9000.txt\", H)\n",
    "B, indep = findbasis(H);\n",
    "M,N = size(H)\n",
    "α=1-M/N"
   ]
  },
  {
   "cell_type": "code",
   "execution_count": 6,
   "metadata": {},
   "outputs": [
    {
     "data": {
      "text/plain": [
       "([4568, 97, 303, 4962, 589, 3783, 2642, 554, 3162, 1042  …  1081, 4040, 5522, 198, 5901, 3075, 7, 3606, 4236, 3265], [91, 353, 364, 685, 3356, 3896, 4261, 4784, 4976, 5077  …  5628, 7363, 4170, 8751, 4673, 5935, 798, 7435, 4491, 8359])"
      ]
     },
     "execution_count": 6,
     "metadata": {},
     "output_type": "execute_result"
    }
   ],
   "source": [
    "rowperm,colperm = leaf_removal(H)"
   ]
  },
  {
   "cell_type": "code",
   "execution_count": 7,
   "metadata": {},
   "outputs": [
    {
     "data": {
      "text/plain": [
       "6595×9000 SparseMatrixCSC{Int64, Int64} with 19783 stored entries:\n",
       "⠙⢮⣖⣂⡇⡐⠂⣆⢥⣰⣤⣚⡴⠗⢭⢰⣝⠰⣷⠢⡩⣓⣂⢎⢓⡧⣵⢷⡆⣿⢍⡦⣘⣀⣧⢄⡲⢦⡲⠐\n",
       "⠀⠀⠙⢿⡿⣝⢲⢮⢮⣧⢛⣮⡧⡷⣽⡀⡡⠮⡒⠮⣜⣓⠛⡹⡿⠕⢯⢭⠳⣿⡐⣡⡾⠟⠯⢓⢈⡢⠽⢆\n",
       "⠀⠀⠀⠀⠙⢮⡙⢿⣻⠕⢙⣼⠪⣨⡞⡙⣴⡳⣹⡻⡢⡾⢚⢁⡵⡿⢸⡗⢫⣧⠶⡅⠏⣇⡦⣌⠳⠹⠐⣨\n",
       "⠀⠀⠀⠀⠀⠀⠙⢦⡈⠛⢯⣧⠫⠹⢳⡻⢏⣓⠴⣋⣼⣗⣤⣶⡘⢧⣩⡭⠾⣿⢊⠹⣽⡻⠆⢣⠹⠦⡶⣔\n",
       "⠀⠀⠀⠀⠀⠀⠀⠀⠙⢦⡀⠈⠻⢷⡗⣟⣆⡓⣧⢵⡓⣎⠋⡬⣭⡰⡥⡥⣼⣹⣷⠐⢘⣫⣟⡊⣰⣃⠿⡁\n",
       "⠀⠀⠀⠀⠀⠀⠀⠀⠀⠀⠙⢦⡀⠀⠙⠿⣮⠽⡿⠼⢌⢈⣇⡓⢹⡻⣷⠹⡻⠺⣿⡵⣫⣗⣣⡱⡳⢧⢑⡇\n",
       "⠀⠀⠀⠀⠀⠀⠀⠀⠀⠀⠀⠀⠙⢦⡀⠀⠈⠳⣕⣹⣵⣍⠹⣨⢷⢱⡀⣣⠧⠀⣿⣿⣯⠵⣡⣾⡵⢔⠷⡶\n",
       "⠀⠀⠀⠀⠀⠀⠀⠀⠀⠀⠀⠀⠀⠀⠙⢦⡀⠀⠀⠙⢮⣾⣻⠙⡾⣶⢧⡮⣨⡂⠸⣿⣿⣹⣋⣯⣻⣍⣨⠽\n",
       "⠀⠀⠀⠀⠀⠀⠀⠀⠀⠀⠀⠀⠀⠀⠀⠀⠙⢦⡀⠀⠀⠙⢷⡜⣩⠆⡹⡼⠆⠀⠀⢿⣿⣧⡳⣵⡬⢍⠍⡛\n",
       "⠀⠀⠀⠀⠀⠀⠀⠀⠀⠀⠀⠀⠀⠀⠀⠀⠀⠀⠙⢦⡀⠀⠀⠙⢶⡯⠿⣺⣐⡁⠀⠈⣿⣿⣿⣻⠗⠶⣽⠭\n",
       "⠀⠀⠀⠀⠀⠀⠀⠀⠀⠀⠀⠀⠀⠀⠀⠀⠀⠀⠀⠀⠙⢦⡀⠀⠀⠹⣧⡻⠷⠂⠀⠀⠘⣿⣿⣿⣧⣏⡦⢟\n",
       "⠀⠀⠀⠀⠀⠀⠀⠀⠀⠀⠀⠀⠀⠀⠀⠀⠀⠀⠀⠀⠀⠀⠙⢦⡀⠀⠈⢷⢗⡀⠀⠀⠀⠘⢿⣿⣿⣮⢷⡟\n",
       "⠀⠀⠀⠀⠀⠀⠀⠀⠀⠀⠀⠀⠀⠀⠀⠀⠀⠀⠀⠀⠀⠀⠀⠀⠙⢦⡀⠈⢧⠀⠀⠀⠀⠀⠈⠻⣿⣿⣿⠋\n",
       "⠀⠀⠀⠀⠀⠀⠀⠀⠀⠀⠀⠀⠀⠀⠀⠀⠀⠀⠀⠀⠀⠀⠀⠀⠀⠀⠙⢦⡘⡇⠀⠀⠀⠀⠀⠀⠘⠿⣿⣿\n",
       "⠀⠀⠀⠀⠀⠀⠀⠀⠀⠀⠀⠀⠀⠀⠀⠀⠀⠀⠀⠀⠀⠀⠀⠀⠀⠀⠀⠀⠙⠃⠀⠀⠀⠀⠀⠀⠀⠀⠈⠛"
      ]
     },
     "execution_count": 7,
     "metadata": {},
     "output_type": "execute_result"
    }
   ],
   "source": [
    "H[rowperm, colperm]"
   ]
  },
  {
   "cell_type": "code",
   "execution_count": 8,
   "metadata": {},
   "outputs": [
    {
     "data": {
      "text/plain": [
       "iteration! (generic function with 1 method)"
      ]
     },
     "execution_count": 8,
     "metadata": {},
     "output_type": "execute_result"
    }
   ],
   "source": [
    "include(\"../code/sp.jl\")"
   ]
  },
  {
   "cell_type": "code",
   "execution_count": 22,
   "metadata": {},
   "outputs": [],
   "source": [
    "using StaticArrays, OffsetArrays\n",
    "x0 = rand((0,1), size(H,2))\n",
    "s = (-1).^x0\n",
    "J = 10\n",
    "sp = survey_propagation(H; field=s, init=OffsetArray(MVector{2J+1}(fill(1/(2J+1),2J+1)), -J:J), y=1.0);"
   ]
  },
  {
   "cell_type": "code",
   "execution_count": 23,
   "metadata": {
    "scrolled": true
   },
   "outputs": [
    {
     "name": "stdout",
     "output_type": "stream",
     "text": [
      "1 0.9523809523809523\n",
      "2 0.9523809523809523\n",
      "3 0.9523809523809523\n",
      "4 0.9523809523809523\n",
      "5 0.9523809523809523\n",
      "6 0.9523809523809523\n",
      "7 0.9523809523809523\n",
      "8 0.9523809523809523\n",
      "9 0.9523809523809523\n",
      "10 0.8317800195994005\n",
      "1 0.5754866408458419\n",
      "2 0.7636337558546769\n",
      "3 0.5845150956830749\n",
      "4 0.7645940281437071\n",
      "5 0.7645940281437071\n",
      "6 0.7645940281437071\n",
      "7 0.6466006351731476\n",
      "8 0.6015529028909068\n",
      "9 0.6025558423249117\n",
      "10 0.6711538216193357\n",
      "1 0.5900907626427497\n",
      "2 0.5900907626427497\n",
      "3 0.5900907626427497\n",
      "4 0.5806444249314101\n",
      "5 0.5806444249314101\n",
      "6 0.5918162668646194\n",
      "7 0.5692361916381619\n",
      "8 0.5692361916381619\n",
      "9 0.5745504976997904\n",
      "10 0.5745504976997904\n",
      "1 0.4912131607298395\n",
      "2 0.5646409602648184\n",
      "3 0.5085856512014326\n",
      "4 0.5085856512014326\n",
      "5 0.5085856512014326\n",
      "6 0.5085856512014326\n",
      "7 0.4912131607298395\n",
      "8 0.6038659454201463\n",
      "9 0.6038659454201463\n",
      "10 0.6038659454201463\n",
      "1 0.4337037930044091\n",
      "2 0.4383870189552237\n",
      "3 0.5012138422459989\n",
      "4 0.42869517010006963\n",
      "5 0.4346235408988528\n",
      "6 0.658312506288823\n",
      "7 0.658312506288823\n",
      "8 0.658312506288823\n",
      "9 0.658312506288823\n",
      "10 0.4950358964914497\n",
      "1 0.582711820156298\n",
      "2 0.582711820156298\n",
      "3 0.582711820156298\n",
      "4 0.582711820156298\n",
      "5 0.456716647075605\n",
      "6 0.5124287280938054\n",
      "7 0.5124287280938054\n",
      "8 0.4063577171106468\n",
      "9 0.4063577171106468\n",
      "10 0.4814829029170893\n",
      "1 0.44694541138388544\n",
      "2 0.5283729177269159\n",
      "3 0.5283729177269159\n",
      "4 0.5283729177269159\n",
      "5 0.5283729177269159\n",
      "6 0.5283729177269159\n",
      "7 0.5193600602331694\n",
      "8 0.45329622359967253\n",
      "9 0.44663184291659397\n",
      "10 0.4934841045494077\n",
      "1 0.4478114167218209\n",
      "2 0.4478114167218209\n",
      "3 0.42695944538752667\n",
      "4 0.4614547383458285\n",
      "5 0.4485078986755862\n",
      "6 0.42133626026422016\n",
      "7 0.3967943521975597\n",
      "8 0.46900374955799706\n",
      "9 0.46900374955799706\n",
      "10 0.4828852355184982\n",
      "1 0.4000041690359665\n",
      "2 0.4000041690359665\n",
      "3 0.48330748963181175\n",
      "4 0.44170992172181023\n",
      "5 0.44170992172181023\n",
      "6 0.44170992172181023\n",
      "7 0.48630164051725194\n",
      "8 0.44129033488408786\n",
      "9 0.40335849869232376\n",
      "10 0.40335849869232376\n",
      "1 0.4478543481975516\n",
      "2 0.4393200601872851\n",
      "3 0.44442146550078926\n",
      "4 0.44442146550078926\n",
      "5 0.44442146550078926\n",
      "6 0.44442146550078926\n",
      "7 0.5066590380018923\n",
      "8 0.5066590380018923\n",
      "9 0.5117786578734349\n",
      "10 0.5117786578734349\n",
      "1 0.34454295415504227\n",
      "2 0.34454295415504227\n",
      "3 0.40701042625289513\n",
      "4 0.3864862034397999\n",
      "5 0.3864862034397999\n",
      "6 0.4037295811865957\n",
      "7 0.4037295811865957\n",
      "8 0.44789416154113726\n",
      "9 0.44789416154113726\n",
      "10 0.46209913565074523\n",
      "1 0.382685650278498\n",
      "2 0.382685650278498\n",
      "3 0.382685650278498\n",
      "4 0.3836170144636458\n",
      "5 0.560817669910095\n",
      "6 0.560817669910095\n",
      "7 0.560817669910095\n",
      "8 0.3776211198422279\n",
      "9 0.3776211198422279\n",
      "10 0.37936559041023027\n",
      "1 0.3733991931733611\n",
      "2 0.364681036365459\n",
      "3 0.3565744679567807\n",
      "4 0.3571315260618424\n",
      "5 0.3239886879983146\n",
      "6 0.34193340699187935\n",
      "7 0.34193340699187935\n",
      "8 0.36465723219254825\n",
      "9 0.36465723219254825\n",
      "10 0.34193340699187935\n",
      "1 0.396645756760524\n",
      "2 0.396645756760524\n",
      "3 0.396645756760524\n",
      "4 0.4826592099438537\n",
      "5 0.4826592099438537\n",
      "6 0.4826592099438537\n",
      "7 0.31622676005957207\n",
      "8 0.31622676005957207\n",
      "9 0.31622676005957207\n",
      "10 0.37993527901080143\n",
      "1 0.45436121847952515\n",
      "2 0.45436121847952515\n",
      "3 0.36772818209802816\n",
      "4 0.36772818209802816\n",
      "5 0.4195187201140662\n",
      "6 0.4195187201140662\n",
      "7 0.43388248780656824\n",
      "8 0.43388248780656824\n",
      "9 0.33724132093146647\n",
      "10 0.33724132093146647\n",
      "1 0.3070499130961124\n",
      "2 0.22963246742612614\n",
      "3 0.25937906045865966\n",
      "4 0.39220831414075163\n",
      "5 0.3225739402336336\n",
      "6 0.3225739402336336\n",
      "7 0.3429223120686036\n",
      "8 0.3429223120686036\n",
      "9 0.3429223120686036\n",
      "10 0.3429223120686036\n",
      "1 0.24637075374140693\n",
      "2 0.26554209186855804\n",
      "3 0.29840090084477244\n",
      "4 0.29840090084477244\n",
      "5 0.23191194441250634\n",
      "6 0.30743669526829054\n",
      "7 0.30743669526829054\n",
      "8 0.30743669526829054\n",
      "9 0.30743669526829054\n",
      "10 0.23281345840116763\n",
      "1 0.23411167395163213\n",
      "2 0.23411167395163213\n",
      "3 0.25957710661955236\n",
      "4 0.25957710661955236\n",
      "5 0.25957710661955236\n",
      "6 0.30682464929407705\n",
      "7 0.3448819399595565\n",
      "8 0.23723624817445932\n",
      "9 0.26877039729807106\n",
      "10 0.26877039729807106\n",
      "1 0.20415982838894747\n",
      "2 0.24161556877380624\n",
      "3 0.34018775580496885\n",
      "4 0.34018775580496885\n",
      "5 0.34018775580496885\n",
      "6 0.25440784498195523\n",
      "7 0.21909578407731384\n",
      "8 0.23710436457219675\n",
      "9 0.24581825655557793\n",
      "10 0.2335889776118396\n",
      "1 0.20171113400217017\n",
      "2 0.2064302219698017\n",
      "3 0.2064302219698017\n",
      "4 0.24179322569095613\n",
      "5 0.19932494600202266\n",
      "6 0.3452234132606742\n",
      "7 0.3452234132606742\n",
      "8 0.25919826347696623\n",
      "9 0.33336426736588093\n",
      "10 0.23747330609249018\n",
      "1 0.21910406687104098\n",
      "2 0.21910406687104098\n",
      "3 0.2572507510860515\n",
      "4 0.2572507510860515\n",
      "5 0.20056529807165313\n",
      "6 0.2972842301252062\n",
      "7 0.3549035450750911\n",
      "8 0.3549035450750911\n",
      "9 0.3549035450750911\n",
      "10 0.23093862080392646\n",
      "1 0.1598611125870691\n",
      "2 0.18481293737632742\n",
      "3 0.21625316370178516\n",
      "4 0.21625316370178516\n",
      "5 0.21625316370178516\n",
      "6 0.2298948757785642\n",
      "7 0.2298948757785642\n",
      "8 0.2298948757785642\n",
      "9 0.28007918971824664\n",
      "10 0.28007918971824664\n",
      "1 0.1400731916061777\n",
      "2 0.1895914677560424\n",
      "3 0.15826786329241427\n",
      "4 0.1821623475751431\n",
      "5 0.19145371015234935\n",
      "6 0.19145371015234935\n",
      "7 0.23390743333368658\n",
      "8 0.23390743333368658\n",
      "9 0.23390743333368658\n",
      "10 0.23390743333368658\n",
      "1 0.22104604709749998\n",
      "2 0.22104604709749998\n",
      "3 0.22104604709749998\n",
      "4 0.2002623762144511\n",
      "5 0.2002623762144511\n",
      "6 0.2002623762144511\n",
      "7 0.2002623762144511\n",
      "8 0.2002623762144511\n",
      "9 0.1560459636488914\n",
      "10 0.1560459636488914\n",
      "1 0.13271493019533498\n",
      "2 0.14661970923211504\n",
      "3 0.190772955813668\n",
      "4 0.190772955813668\n",
      "5 0.190772955813668\n",
      "6 0.11964274478839099\n",
      "7 0.11534764452426066\n",
      "8 0.14359601119228316\n",
      "9 0.12720904086455825\n",
      "10 0.12720904086455825\n",
      "1 0.09926337589126089\n",
      "2 0.10441338732012817\n",
      "3 0.16600453786215413\n",
      "4 0.16600453786215413\n",
      "5 0.21517609403302795\n",
      "6 0.16600453786215413\n",
      "7 0.17390469582464696\n",
      "8 0.16600453786215413\n",
      "9 0.14558166209037743\n",
      "10 0.14558166209037743\n",
      "1 0.12199839426476033\n",
      "2 0.1465078090740205\n",
      "3 0.14562025990080402\n",
      "4 0.14562025990080402\n",
      "5 0.12542134567557428\n",
      "6 0.12542134567557428\n",
      "7 0.10784353312522155\n",
      "8 0.15118045279802195\n",
      "9 0.15118045279802195\n",
      "10 0.15118045279802195\n",
      "1 0.1485956706759783\n",
      "2 0.10689974883103787\n",
      "3 0.19982191340772992\n",
      "4 0.1483350586799495\n",
      "5 0.13062042182295286\n",
      "6 0.13062042182295286\n",
      "7 0.13062042182295286\n",
      "8 0.17491385252901392\n",
      "9 0.17491385252901392\n",
      "10 0.17491385252901392\n",
      "1 0.10990709107672392\n",
      "2 0.10990709107672392\n",
      "3 0.10990709107672392\n",
      "4 0.10990709107672392\n",
      "5 0.09842697421796859\n",
      "6 0.13283470059914945\n",
      "7 0.13283470059914945\n",
      "8 0.14237288213785065\n",
      "9 0.14237288213785065\n",
      "10 0.14237288213785065\n",
      "1 0.0912496386795405\n",
      "2 0.08589775925167509\n",
      "3 0.0853339777976716\n",
      "4 0.09872271222979301\n",
      "5 0.09872271222979301\n",
      "6 0.14732921651623143\n",
      "7 0.08860144663550323\n",
      "8 0.12105035786545953\n",
      "9 0.11235654551965191\n",
      "10 0.1332511827495878\n",
      "1 0.09164902948100234\n",
      "2 0.08805877162158326\n",
      "3 0.08805877162158326\n",
      "4 0.08805877162158326\n",
      "5 0.08805877162158326\n",
      "6 0.08805877162158326\n",
      "7 0.09772886807932585\n",
      "8 0.12715683118820864\n",
      "9 0.12715683118820864\n",
      "10 0.12715683118820864\n",
      "  297.642 ms (1283910 allocations: 284.10 MiB)\n"
     ]
    }
   ],
   "source": [
    "callback(t, ε, sp) = (println(\"$t $ε\"); false)\n",
    "\n",
    "iteration!(sp, maxiter=10, callback=callback, tol=1e-5, damp=0.5)"
   ]
  },
  {
   "cell_type": "code",
   "execution_count": 12,
   "metadata": {},
   "outputs": [],
   "source": [
    "x = map(x->(x'eachindex(x)<0), sp.survey);"
   ]
  },
  {
   "cell_type": "code",
   "execution_count": 13,
   "metadata": {},
   "outputs": [
    {
     "data": {
      "text/plain": [
       "3290"
      ]
     },
     "execution_count": 13,
     "metadata": {},
     "output_type": "execute_result"
    }
   ],
   "source": [
    "sum(H*x0  .% 2)"
   ]
  },
  {
   "cell_type": "code",
   "execution_count": 14,
   "metadata": {},
   "outputs": [
    {
     "data": {
      "text/plain": [
       "700"
      ]
     },
     "execution_count": 14,
     "metadata": {},
     "output_type": "execute_result"
    }
   ],
   "source": [
    "sum(H*x .% 2)"
   ]
  },
  {
   "cell_type": "code",
   "execution_count": 16,
   "metadata": {},
   "outputs": [
    {
     "data": {
      "text/plain": [
       "0.18522222222222223"
      ]
     },
     "execution_count": 16,
     "metadata": {},
     "output_type": "execute_result"
    }
   ],
   "source": [
    "sum(x .!= x0)/length(x)"
   ]
  },
  {
   "cell_type": "code",
   "execution_count": 17,
   "metadata": {},
   "outputs": [
    {
     "data": {
      "text/plain": [
       "21-element OffsetArray(::Vector{Float64}, -10:10) with eltype Float64 with indices -10:10:\n",
       " 2.3887817885620204e-63\n",
       " 4.5231432433321733e-63\n",
       " 1.2295097783308302e-62\n",
       " 3.3438858001909284e-62\n",
       " 1.3681353183204815e-44\n",
       " 3.462365903682704e-28\n",
       " 6.7636263317837036e-18\n",
       " 3.3024481663380286e-8\n",
       " 0.00013367195697020789\n",
       " 0.13523157399576677\n",
       " 0.8555791075316439\n",
       " 0.009050125649684795\n",
       " 5.487237113221181e-6\n",
       " 6.043393756970963e-10\n",
       " 2.3114430145466046e-23\n",
       " 5.7347784226631115e-39\n",
       " 9.483357447824906e-60\n",
       " 5.61644386959382e-61\n",
       " 7.627485325385263e-62\n",
       " 9.017592036378608e-63\n",
       " 6.100478815950348e-64"
      ]
     },
     "execution_count": 17,
     "metadata": {},
     "output_type": "execute_result"
    }
   ],
   "source": [
    "sp.survey[1]"
   ]
  },
  {
   "cell_type": "code",
   "execution_count": 36,
   "metadata": {},
   "outputs": [
    {
     "ename": "LoadError",
     "evalue": "UndefVarError: y not defined",
     "output_type": "error",
     "traceback": [
      "UndefVarError: y not defined",
      "",
      "Stacktrace:",
      " [1] top-level scope",
      "   @ In[36]:5",
      " [2] eval",
      "   @ ./boot.jl:360 [inlined]",
      " [3] include_string(mapexpr::typeof(REPL.softscope), mod::Module, code::String, filename::String)",
      "   @ Base ./loading.jl:1090"
     ]
    }
   ],
   "source": [
    "using ProgressMeter\n",
    "callback(t,fg) = nothing;#println(\"$t $(fg.belief[1:4])\")\n",
    "\n",
    "nsamples = 10\n",
    "fg = maxsum(H,  1 .- 2y .+ 1e-8*randn(N));\n",
    "\n",
    "# the mapping is (0,1)=>(1,-1)\n",
    "dist = map(1:nsamples) do i\n",
    "    y = rand((0,1), N)\n",
    "    fg.M .= 0\n",
    "    fg.efield .= 1 .- 2y .+ 1e-8*randn(N)\n",
    "    iteration!(fg; maxiter=2000, γ=1e-3, callback=callback)\n",
    "    x = Int.(fg.belief .< 0)\n",
    "    c = sum(fg.H'x .% 2)\n",
    "    d = sum(x .⊻ y)/N\n",
    "    @show d c\n",
    "    x1 = B*x[indep] .% 2; d1 = sum(x1 .⊻ y)/N; c1 = sum(fg.H'x1 .% 2); @show d1 c1 \n",
    "    d1\n",
    "end\n",
    "sum(dist)/nsamples"
   ]
  },
  {
   "cell_type": "code",
   "execution_count": 37,
   "metadata": {},
   "outputs": [
    {
     "ename": "LoadError",
     "evalue": "UndefVarError: dist not defined",
     "output_type": "error",
     "traceback": [
      "UndefVarError: dist not defined",
      "",
      "Stacktrace:",
      " [1] top-level scope",
      "   @ In[37]:1",
      " [2] eval",
      "   @ ./boot.jl:360 [inlined]",
      " [3] include_string(mapexpr::typeof(REPL.softscope), mod::Module, code::String, filename::String)",
      "   @ Base ./loading.jl:1090"
     ]
    }
   ],
   "source": [
    "1-M/N,sum(dist)/nsamples"
   ]
  },
  {
   "cell_type": "code",
   "execution_count": 283,
   "metadata": {},
   "outputs": [
    {
     "data": {
      "text/plain": [
       "true"
      ]
     },
     "execution_count": 283,
     "metadata": {},
     "output_type": "execute_result"
    }
   ],
   "source": [
    "x=[1:10;]; f=(x .% 2 .== 1);x[findall(f)]==x[f]"
   ]
  },
  {
   "cell_type": "code",
   "execution_count": 52,
   "metadata": {},
   "outputs": [
    {
     "name": "stderr",
     "output_type": "stream",
     "text": [
      "\u001b[32mTrial 1/1 100%|█████████████████████████████████████████| Time: 0:00:01\u001b[39m\n"
     ]
    },
    {
     "name": "stdout",
     "output_type": "stream",
     "text": [
      "dist = 0.24287749287749288\n",
      "check = 1\n",
      "avg_dist = 0.4309116809116809\n"
     ]
    },
    {
     "name": "stderr",
     "output_type": "stream",
     "text": [
      "\u001b[32mTrial 1/1 100%|█████████████████████████████████████████| Time: 0:00:01\u001b[39m\n"
     ]
    },
    {
     "name": "stdout",
     "output_type": "stream",
     "text": [
      "dist = 0.24786324786324787\n",
      "check = 1\n",
      "avg_dist = 0.4309116809116809\n"
     ]
    },
    {
     "name": "stderr",
     "output_type": "stream",
     "text": [
      "\u001b[32mTrial 1/1 100%|█████████████████████████████████████████| Time: 0:00:01\u001b[39m\n"
     ]
    },
    {
     "name": "stdout",
     "output_type": "stream",
     "text": [
      "dist = 0.25427350427350426\n",
      "check = 1\n",
      "avg_dist = 0.4537037037037037\n"
     ]
    },
    {
     "name": "stderr",
     "output_type": "stream",
     "text": [
      "\u001b[32mTrial 1/1 100%|█████████████████████████████████████████| Time: 0:00:01\u001b[39m\n"
     ]
    },
    {
     "name": "stdout",
     "output_type": "stream",
     "text": [
      "dist = 0.26495726495726496\n",
      "check = 5\n",
      "avg_dist = 0.4565527065527066\n"
     ]
    },
    {
     "name": "stderr",
     "output_type": "stream",
     "text": [
      "\u001b[32mTrial 1/1 100%|█████████████████████████████████████████| Time: 0:00:01\u001b[39m\n"
     ]
    },
    {
     "name": "stdout",
     "output_type": "stream",
     "text": [
      "dist = 0.2378917378917379\n",
      "check = 1\n",
      "avg_dist = 0.42592592592592593\n"
     ]
    },
    {
     "name": "stderr",
     "output_type": "stream",
     "text": [
      "\u001b[32mTrial 1/1 100%|█████████████████████████████████████████| Time: 0:00:01\u001b[39m\n"
     ]
    },
    {
     "name": "stdout",
     "output_type": "stream",
     "text": [
      "dist = 0.26851851851851855\n",
      "check = 4\n",
      "avg_dist = 0.4423076923076923\n"
     ]
    },
    {
     "name": "stderr",
     "output_type": "stream",
     "text": [
      "\u001b[32mTrial 1/1 100%|█████████████████████████████████████████| Time: 0:00:01\u001b[39m\n"
     ]
    },
    {
     "name": "stdout",
     "output_type": "stream",
     "text": [
      "dist = 0.245014245014245\n",
      "check = 6\n",
      "avg_dist = 0.4458689458689459\n",
      "dist = 0.24715099715099714\n",
      "check = 0\n",
      "avg_dist = 0.24715099715099714\n"
     ]
    },
    {
     "name": "stderr",
     "output_type": "stream",
     "text": [
      "\u001b[32mTrial 1/1 100%|█████████████████████████████████████████| Time: 0:00:01\u001b[39m\n"
     ]
    },
    {
     "name": "stdout",
     "output_type": "stream",
     "text": [
      "dist = 0.25427350427350426\n",
      "check = 2\n",
      "avg_dist = 0.44515669515669515\n",
      "dist = 0.24857549857549857\n",
      "check = 0\n",
      "avg_dist = 0.24857549857549857\n"
     ]
    },
    {
     "data": {
      "text/plain": [
       "10-element Vector{Float64}:\n",
       " 0.24287749287749288\n",
       " 0.24786324786324787\n",
       " 0.25427350427350426\n",
       " 0.26495726495726496\n",
       " 0.2378917378917379\n",
       " 0.26851851851851855\n",
       " 0.245014245014245\n",
       " 0.24715099715099714\n",
       " 0.25427350427350426\n",
       " 0.24857549857549857"
      ]
     },
     "execution_count": 52,
     "metadata": {},
     "output_type": "execute_result"
    }
   ],
   "source": [
    "dist = map(1:10) do i\n",
    "    Random.seed!(i)\n",
    "    \n",
    "    y = rand((0,1), N)\n",
    "\n",
    "    lm = LossyModelGF2(fg, zeros(N), Inf, 1.0, y)\n",
    "    \n",
    "    function checker()\n",
    "        v = (B*((fg.fields .< 0)[indep])) .% 2;\n",
    "        dist = sum(v .⊻ y)/N\n",
    "        check = sum(H*(fg.fields .< 0) .% 2)\n",
    "        check, dist\n",
    "    end\n",
    "\n",
    "    independent = falses(N)\n",
    "    independent[indep] .= true\n",
    "    res_fg = solve!(lm, fg, randseed=1, verbose=true, showprogress=true, \n",
    "        independent=independent, basis = B)\n",
    "#    res_fg = solve!(lm, fg, randseed=1, verbose=true, showprogress=true)\n",
    "    avg_dist = res_fg.distortion \n",
    "    check, dist = checker()\n",
    "    @show dist check avg_dist\n",
    "    dist\n",
    "end"
   ]
  },
  {
   "cell_type": "code",
   "execution_count": 53,
   "metadata": {},
   "outputs": [
    {
     "data": {
      "text/plain": [
       "(0.24002849002849003, 0.2511396011396011)"
      ]
     },
     "execution_count": 53,
     "metadata": {},
     "output_type": "execute_result"
    }
   ],
   "source": [
    "dev = sqrt(sum(dist.^2)/length(dist)-(sum(dist)/length(dist))^2)/sqrt(length(dist))\n",
    "1-M/N, sum(dist)/length(dist)"
   ]
  },
  {
   "cell_type": "code",
   "execution_count": null,
   "metadata": {},
   "outputs": [],
   "source": []
  }
 ],
 "metadata": {
  "kernelspec": {
   "display_name": "Julia 1.6.0-beta1",
   "language": "julia",
   "name": "julia-1.6"
  },
  "language_info": {
   "file_extension": ".jl",
   "mimetype": "application/julia",
   "name": "julia",
   "version": "1.6.0"
  },
  "output_auto_scroll": true
 },
 "nbformat": 4,
 "nbformat_minor": 4
}
