{
 "cells": [
  {
   "cell_type": "markdown",
   "metadata": {},
   "source": [
    "Max-Sum equations\n",
    "--\n",
    "\n",
    "\\begin{align*}\n",
    "u_{ai}\\left(\\sigma_{i}\\right)= &\\sigma_{i}f_{ai}+g_{ai}\\\\\n",
    "u_{ai}\\left(\\sigma_{i}\\right)= & \\max_{\\{\\sigma_{j}:j\\in\\partial a\\setminus i\\}:\\prod_{j}\\sigma_{j}=1}\\sum_{j\\in\\partial a\\setminus i}u_{ja}\\left(\\sigma_{j}\\right)+\\sigma_{j}s_{j}+const\\\\\n",
    "b_{i}\\left(\\sigma_{i}\\right)= & u_{ai}\\left(\\sigma_{i}\\right)+u_{bi}\\left(\\sigma_{i}\\right)+\\sigma_{i}s_{i}+const=b_{i}\\sigma_{i}+const\\\\\n",
    "b_{i}= & \\frac{1}{2}\\left[f_{ai}+f_{bi}+s_{i}-\\left(-f_{ai}-f_{bi}-s_{i}\\right)\\right]\\\\\n",
    "= & f_{ai}+f_{bi}+s_{i}\\\\\n",
    "\\sigma_{i}f_{ai}= & \\max_{\\{\\sigma_{j}:j\\in\\partial a\\setminus i\\}:\\prod_{j}\\sigma_{j}=1}\\sum_{j\\in\\partial a\\setminus i}f_{ja}\\sigma_{j}+\\sigma_{j}s_{j}+const\\\\\n",
    "f_{ai}= & \\frac{1}{2}\\left[\\max_{\\{\\sigma_{j}:j\\in\\partial a\\setminus i\\}:\\prod_{j\\neq i}\\sigma_{j}=1}\\left(\\sum_{j\\in\\partial a\\setminus i}\\left(f_{ja}+s_{j}\\right)\\sigma_{j}\\right)-\\max_{\\{\\sigma_{j}:j\\in\\partial a\\setminus i\\}:\\prod_{j\\neq i}\\sigma_{j}=-1}\\left(\\sum_{j\\in\\partial a\\setminus i}\\left(f_{ja}+s_{j}\\right)\\sigma_{j}\\right)\\right]\\\\\n",
    "= & \\frac{1}{2}\\begin{cases}\n",
    "\\sum_{j\\in\\partial a\\setminus i}\\left|f_{ja}+s_{j}\\right| & \\text{if }\\prod\\left(f_{ja}+s_{j}\\right)>0\\\\\n",
    "\\sum_{j\\in\\partial a\\setminus i}\\left|f_{ja}+s_{j}\\right|-2\\min_{j\\in\\partial a\\setminus i}\\left|f_{ja}+s_{j}\\right| & \\text{if }\\prod\\left(f_{ja}+s_{j}\\right)<0\n",
    "\\end{cases}-\\\\\n",
    " & -\\frac{1}{2}\\begin{cases}\n",
    "\\sum_{j\\in\\partial a\\setminus i}\\left|f_{ja}+s_{j}\\right| & \\text{if }\\prod\\left(f_{ja}+s_{j}\\right)<0\\\\\n",
    "\\sum_{j\\in\\partial a\\setminus i}\\left|f_{ja}+s_{j}\\right|-2\\min_{j\\in\\partial a\\setminus i}\\left|f_{ja}+s_{j}\\right| & \\text{if }\\prod\\left(f_{ja}+s_{j}\\right)>0\n",
    "\\end{cases}\\\\\n",
    "= & \\begin{cases}\n",
    "\\min_{j\\in\\partial a\\setminus i}\\left|f_{ja}+s_{j}\\right| & \\text{if }\\prod\\left(f_{ja}+s_{j}\\right)>0\\\\\n",
    "-\\min_{j\\in\\partial a\\setminus i}\\left|f_{ja}+s_{j}\\right| & \\text{if }\\prod\\left(f_{ja}+s_{j}\\right)<0\n",
    "\\end{cases}\n",
    "\\end{align*}\n",
    "\n",
    "So we get\n",
    "$$f_{ai}= \\min_{j\\in\\partial a\\setminus i}\\left|f_{ja}+s_{j}\\right|\\prod_{j\\in\\partial a\\setminus i}\\text{sign}\\left(f_{ja}+s_{j}\\right)$$\n"
   ]
  },
  {
   "cell_type": "markdown",
   "metadata": {},
   "source": [
    "Distribution in the quenched disorder\n",
    "---\n",
    "\n",
    "\\begin{align*}\n",
    "p\\left(f\\right)= & \\frac{1}{2^{k}}\\sum_{f_{1},\\dots,f_{k}}\\sum_{s_{1},\\dots,s_{k}}\\delta\\left(f;\\min_{j=1,\\dots,k}\\left|f_{j}+s_{j}\\right|\\prod_{j=1}^{k}\\text{sign}\\left(f_{j}+s_{j}\\right)\\right)\\prod_{j=1}^{k}p\\left(f_{j}\\right)\\\\\n",
    "=& \\frac{1}{2^{k}}\\sum_{f_{1},\\dots,f_{k}}\\delta\\left(f;\\min_{j=1,\\dots,k}\\left|f_{j}\\right|\\prod_{j=1}^{k}\\text{sign}\\left(f_{j}\\right)\\right)\\prod_{j=1}^{k}\\sum_{s_j}p\\left(f_{j}+s_j\\right)\\\\\n",
    "\\end{align*}"
   ]
  },
  {
   "cell_type": "code",
   "execution_count": 1,
   "metadata": {},
   "outputs": [
    {
     "data": {
      "text/plain": [
       "iter_slow (generic function with 1 method)"
      ]
     },
     "execution_count": 1,
     "metadata": {},
     "output_type": "execute_result"
    }
   ],
   "source": [
    "using OffsetArrays\n",
    "\n",
    "\n",
    "function iter_slow(p,K)\n",
    "    N = lastindex(p)\n",
    "    p1 = copy(p)\n",
    "    p1 .= 0\n",
    "    S = CartesianIndices(Tuple(fill(0:1,K-1)))\n",
    "    for F in CartesianIndices(Tuple(fill(-N:N,K-1)))\n",
    "        ff = Tuple(F)\n",
    "        P = prod(p[fi] for fi in ff)\n",
    "        for fs in map(s -> ff .+ (2 .* Tuple(s) .- 1), S)\n",
    "            f = minimum(abs.(fs))*sign(prod(fs))\n",
    "            #println(\"$ff $fs $f $P\")\n",
    "            p1[clamp(f, -N, N)] += P\n",
    "        end\n",
    "    end\n",
    "    p1 / sum(p1)\n",
    "end"
   ]
  },
  {
   "cell_type": "markdown",
   "metadata": {},
   "source": [
    "Simplifications\n",
    "--\n",
    "\n",
    "$$f = \\min_{j=1,\\dots,k}\\left|f_{j}+s_{j}\\right|\\prod_{j=1}^k\\text{sign}\\left(f_{j}+s_{j}\\right)$$"
   ]
  },
  {
   "cell_type": "markdown",
   "metadata": {},
   "source": [
    "\\begin{align*}\n",
    "p\\left(f\\right)= & \\frac{1}{2^{k}}\\sum_{f_{1},\\dots,f_{k}}\\sum_{s_{1},\\dots,s_{k}}\\delta\\left(f;\\min_{j=1,\\dots,k}\\left|f_{j}+s_{j}\\right|\\prod_{j=1}^{k}\\text{sign}\\left(f_{j}+s_{j}\\right)\\right)\\prod_{j=1}^{k}p\\left(f_{j}\\right)\\\\\n",
    "= & \\sum_{f_{1},\\dots,f_{k}}\\delta\\left(f;\\min_{j=1,\\dots,k}\\left|f_{j}\\right|\\prod_{j=1}^{k}\\text{sign}\\left(f_{j}\\right)\\right)\\prod_{j=1}^{k}\\frac{1}{2}\\sum_{s_{j}}p\\left(f_{j}-s_{j}\\right)\\\\\n",
    "= & \\begin{cases}\n",
    "\\frac{1}{2}\\sum_{f_{1},\\dots,f_{k}>0}\\delta\\left(f;\\min_{j=1,\\dots,k}f_{j}\\right)\\prod_{j=1}^{k}\\sum_{s_{j}}p\\left(f_{j}-s_{j}\\right) & \\text{ for }f>0\\\\\n",
    "\\sum_{n=1}^{k}\\binom{k}{n}\\left(\\frac{1}{2}\\sum_{s_{j}}p\\left(s_{j}\\right)\\right)^{k-n}\\left(\\sum_{f'>0}\\sum_{s}p\\left(f'-s\\right)\\right)^{n} & \\text{ for }f=0\n",
    "\\end{cases}\\\\\n",
    "= & \\begin{cases}\n",
    "\\frac{1}{2}\\left\\{ \\left(\\sum_{f'\\geq f}\\sum_{s}p\\left(f'+s\\right)\\right)^{k}-\\left(\\sum_{f'>f}\\sum_{s}p\\left(f'+s\\right)\\right)^{k}\\right\\}  & \\text{ for }f>0\\\\\n",
    "\\sum_{n=0}^{k-1}\\binom{k}{n}\\left(\\frac{1}{2}\\sum_{s}p\\left(s\\right)\\right)^{k-n}\\left(\\sum_{f'>0}\\sum_{s}p\\left(f'+s\\right)\\right)^{n} & \\text{ for }f=0\n",
    "\\end{cases}\\\\\n",
    "= & \\begin{cases}\n",
    "\\frac{1}{2}\\left\\{ \\left(\\sum_{f'\\geq f}\\sum_{s\\in\\pm1}p\\left(f'+s\\right)\\right)^{k}-\\left(\\sum_{f'>f}\\sum_{s\\in\\pm1}p\\left(f'+s\\right)\\right)^{k}\\right\\}  & \\text{ for }f>0\\\\\n",
    "\\left(\\frac{1}{2}\\sum_{s\\in\\pm1}p\\left(s\\right)+\\sum_{f'>0}\\sum_{s\\in\\pm1}p\\left(f'+s\\right)\\right)^{k}-\\left(\\sum_{f'>0}\\sum_{s\\in\\pm1}p\\left(f'+s\\right)\\right)^{k} & \\text{ for }f=0\n",
    "\\end{cases}\n",
    "\\end{align*}\n"
   ]
  },
  {
   "cell_type": "code",
   "execution_count": 2,
   "metadata": {},
   "outputs": [
    {
     "data": {
      "text/plain": [
       "iter (generic function with 1 method)"
      ]
     },
     "execution_count": 2,
     "metadata": {},
     "output_type": "execute_result"
    }
   ],
   "source": [
    "function iter(p,K)\n",
    "    k = K - 1\n",
    "    p1 = copy(p)\n",
    "    p1 .= 0.0\n",
    "    N = lastindex(p1)-1\n",
    "    for f = 1:N-1\n",
    "        v1 = p[f+1]+p[f-1]\n",
    "#        v2 = sum((p[f1+1]+p[f1-1] for f1=f+1:N), init=0.0)\n",
    "        v2 = sum(p[f1+1]+p[f1-1] for f1=f+1:N)\n",
    "        v = (v1+v2)^k-v2^k\n",
    "        p1[+f] = v/2\n",
    "        p1[-f] = v/2\n",
    "    end\n",
    "    v1 = (p[1]+p[-1])/2\n",
    "    v2 = sum(p[f1+1]+p[f1-1] for f1=1:N)\n",
    "    p1[0] = (v1+v2)^k-v2^k\n",
    "    p1 ./ sum(p1)\n",
    "end"
   ]
  },
  {
   "cell_type": "markdown",
   "metadata": {},
   "source": [
    "Comparison\n",
    "--"
   ]
  },
  {
   "cell_type": "code",
   "execution_count": 3,
   "metadata": {},
   "outputs": [
    {
     "data": {
      "text/plain": [
       "15×2 Matrix{Float64}:\n",
       " 1.82615e-52  0.0\n",
       " 3.33866e-27  3.29725e-27\n",
       " 6.99126e-14  6.97676e-14\n",
       " 3.49772e-7   3.49745e-7\n",
       " 0.000847722  0.000847632\n",
       " 0.0399563    0.0399577\n",
       " 0.245227     0.24522\n",
       " 0.427938     0.427948\n",
       " 0.245227     0.24522\n",
       " 0.0399563    0.0399577\n",
       " 0.000847722  0.000847632\n",
       " 3.49772e-7   3.49745e-7\n",
       " 6.99126e-14  6.97676e-14\n",
       " 3.33866e-27  3.29725e-27\n",
       " 1.82615e-52  0.0"
      ]
     },
     "execution_count": 3,
     "metadata": {},
     "output_type": "execute_result"
    }
   ],
   "source": [
    "N=7\n",
    "N1 = 8\n",
    "p=OffsetArray(zeros(2N1+1), -N1:N1);\n",
    "p[-N+1:N-1] .= 1/(2N-1)\n",
    "q1 = copy(p)\n",
    "q2 = copy(p)\n",
    "\n",
    "for i=1:10\n",
    "    q1 = iter_slow(q1,3)\n",
    "    q2 = iter(q2,3)\n",
    "end\n",
    "[q1[-N:N] q2[-N:N]]"
   ]
  },
  {
   "cell_type": "code",
   "execution_count": 4,
   "metadata": {},
   "outputs": [
    {
     "data": {
      "text/plain": [
       "findsolution (generic function with 1 method)"
      ]
     },
     "execution_count": 4,
     "metadata": {},
     "output_type": "execute_result"
    }
   ],
   "source": [
    "function findsolution(k; tol=1e-15, maxiter=10^7, eq=iter, N=6)\n",
    "    err = Inf\n",
    "    p=OffsetArray(zeros(2N+3), -N-1:N+1);\n",
    "    p[-N+1:N-1] .= 1/(2N+1)\n",
    "    p ./= sum(p);\n",
    "    for i = 1:maxiter\n",
    "        (err <= tol) && break\n",
    "        q = eq(p,k)\n",
    "        err = maximum(abs.(q-p))\n",
    "        p = 0.1q + 0.9p\n",
    "    end\n",
    "    @show k, err\n",
    "    p\n",
    "end"
   ]
  },
  {
   "cell_type": "markdown",
   "metadata": {},
   "source": [
    "Free Energy\n",
    "--\n",
    "\n",
    "\\begin{align*}\n",
    "-F_{a} & =\\frac{1}{\\beta}\\log\\sum_{\\sigma:sat}\\prod_{i\\in\\partial a}\\frac{e^{\\beta\\left(f_{bi}+s_{i}\\right)\\sigma_{i}}}{2\\cosh\\left(\\beta f_{bi}\\right)}\\\\\n",
    " & =\\frac{1}{\\beta}\\log\\sum_{\\sigma:sat}e^{\\beta\\sum_{i\\in\\partial a}\\left(f_{bi}+s_{i}\\right)\\sigma_{i}}-\\frac{1}{\\beta}\\sum_{i\\in\\partial a}\\log2\\cosh\\left(\\beta f_{bi}\\right)\\\\\n",
    " & \\to\\max_{\\sigma:sat}\\sum_{i\\in\\partial a}\\left(f_{bi}+s_{i}\\right)\\sigma_{i}-\\sum_{i\\in\\partial a}\\left|f_{bi}\\right|\\\\\n",
    " & =\\sum_{i\\in\\partial a}\\left\\{ \\left|f_{bi}+s_{i}\\right|-\\left|f_{bi}\\right|\\right\\} -\\Theta\\left(-\\prod_{i\\in\\partial a}\\left(f_{bi}+s_{i}\\right)\\right)2\\min_{i\\in\\partial a}\\left|f_{bi}+s_{i}\\right|\\\\\n",
    " & =\\sum_{i\\in\\partial a}\\left\\{ \\left|f_{bi}+s_{i}\\right|-\\left|f_{bi}\\right|\\right\\} -\\Theta\\left(-\\prod_{i\\in\\partial a}\\left(f_{bi}+s_{i}\\right)\\right)2\\min_{i\\in\\partial a}\\left|f_{bi}+s_{i}\\right|\\\\\n",
    "-F_{i} & =\\frac{1}{\\beta}\\log\\sum_{\\sigma_{i}}\\frac{e^{\\beta\\sigma_{i}\\left(f_{ai}+f_{bi}+s_{i}\\right)}}{2\\cosh\\left(\\beta f_{ai}\\right)2\\cosh\\left(\\beta f_{bi}\\right)}\\\\\n",
    " & =\\frac{1}{\\beta}\\log\\sum_{\\sigma_{i}}e^{\\beta\\sigma_{i}\\left(f_{ai}+f_{bi}+s_{i}\\right)}-\\frac{1}{\\beta}\\log2\\cosh\\left(\\beta f_{ai}\\right)-\\frac{1}{\\beta}\\log2\\cosh\\left(\\beta f_{bi}\\right)\\\\\n",
    " & \\to\\left|f_{ai}+f_{bi}+s_{i}\\right|-\\left|f_{ai}\\right|-\\left|f_{bi}\\right|\\\\\n",
    "F &= \\sum_{a}F_{a}-\\sum_{i}F_{i}\n",
    "\\end{align*}\n",
    "\n",
    "So we get the overlap:\n",
    "\n",
    "$$O=-F= -\\sum_{a}F_{a}+\\sum_{i}F_{i}$$\n"
   ]
  },
  {
   "cell_type": "code",
   "execution_count": 5,
   "metadata": {},
   "outputs": [
    {
     "data": {
      "text/plain": [
       "overlap_slow (generic function with 1 method)"
      ]
     },
     "execution_count": 5,
     "metadata": {},
     "output_type": "execute_result"
    }
   ],
   "source": [
    "function overlap_slow(p,K)\n",
    "    N = lastindex(p)\n",
    "    O = 0.0\n",
    "    S = CartesianIndices(Tuple(fill(0:1,K)))\n",
    "    for ff in map(Tuple, CartesianIndices(Tuple(fill(-N:N,K))))\n",
    "        P = prod(p[fi] for fi in ff) / 2^K\n",
    "        for fs in map(s -> ff .+ (2 .* Tuple(s) .- 1), S)\n",
    "            O += P*sum(abs.(fs))\n",
    "            if prod(fs) < 0\n",
    "                O -= P*2*minimum(abs.(fs))\n",
    "            end\n",
    "        end\n",
    "    end\n",
    "    O *= 2/K\n",
    "    for f1=-N:N\n",
    "        for f2=-N:N\n",
    "            for s = (-1,1)\n",
    "                O -= p[f1]*p[f2]*0.5*(abs(f1+f2+s))\n",
    "            end\n",
    "        end\n",
    "    end\n",
    "    O\n",
    "end"
   ]
  },
  {
   "cell_type": "markdown",
   "metadata": {},
   "source": [
    "Simplifications for the overlap\n",
    "--\n",
    "\n",
    "* On a single instance (by rearranging the sums)\n",
    "\n",
    "\\begin{align*}\n",
    "O&=-\\frac{1}{n}\\sum_{a=1}^m\\Theta\\left(-\\prod_{i\\in\\partial a}\\left(f_{bi}+s_{i}\\right)\\right)2\\min_{i\\in\\partial a}\\left|f_{bi}+s_{i}\\right|+\\frac{1}{n}\\sum_{i=1}^n\\left(|f_{bi}+s_i|+|f_{ai}+s_i|-|f_{ai}+f_{bi}+s_i|\\right)\n",
    "\\end{align*}\n",
    "that one can re-write\n",
    "\\begin{align*}\n",
    "O&=\\frac{1}{n}\\sum_{i=1}^nF(f_{ai},f_{bi},s_i)+\\frac{1}{n}\\sum_{a=1}^m G(\\{f_{bi}\\}_{i\\in\\partial a};|\\partial a|)\n",
    "\\end{align*}\n",
    "\n",
    "* Averaging over the graph and source (for an arbitrary factor degree profile $P(X)$)\n",
    "\\begin{align*}\n",
    "O^{RS} &= \\sum_s\\frac{1}{2}\\sum_{f_1,f_2}\\left(|f_1+s|+|f_2+s|-|f_1+f_2+s|\\right)p(f_1)p(f_2) \\\\\n",
    "&- \\frac{2}{P'(1)}\\sum_{k=0}^{\\infty}P_k\\sum_{f_1,\\dots,f_k}\\sum_{s_1,\\dots,s_k}\\frac{1}{2^k}\\Theta\\left(-\\prod_{i=1}^k\\left(f_i+s_i\\right)\\right)2\\min_{i=1,\\dots,k}\\left|f_i+s_i\\right|\\prod_{i=1}^k p(f_i)\\\\\n",
    "\\end{align*}\n",
    "The factor $2/P'(1)$ is the number of factors per variables $\\alpha=m/n=2/P'(1)$ : in the RS approximation, each term $G(\\{f_{bi}, s_i\\}, |\\partial a|)$ in the sum $(1/n)\\sum_{a=1}^m G(\\{f_{bi}, s_i\\}, |\\partial a|)$ over the factors has the same contribution, and there is $m$ terms in the sum, therefore we obtain the contribution $\\alpha\\mathbb{E}[G(\\{f_i,s_i\\}_{i=1,\\dots,k}; k)]$. The average is taken over the random variables, $k$ is drawn from $P_k$; $f_1,\\dots f_k$ are drawn from $p(f)$ i.i.d., and $s_1,\\dots,s_k$ are $\\pm 1$ uniformly and i.i.d.\n",
    "\n",
    "* The second term can be simplified:\n",
    "\\begin{align*}\n",
    "&\\sum_{f_1,\\dots,f_k}\\sum_{s_1,\\dots,s_k}\\frac{1}{2^k}\\Theta\\left(-\\prod_{i=1}^k\\left(f_i+s_i\\right)\\right)2\\min_{i=1,\\dots,k}\\left|f_i+s_i\\right|\\prod_{i=1}^k p(f_i)\\\\\n",
    "=& \\sum_{f_1,\\dots,f_k} \\Theta\\left(-\\prod_{i=1}^k f_i\\right)2\\min_{i=1,\\dots,k}|f_i|\\prod_{i=1}^k\\left(\\sum_{s_i}\\frac{1}{2}p(f_i-s_i)\\right)\\\\\n",
    "=& \\sum_{f_1,\\dots,f_k>0}\\min_{i=1,\\dots,k}(f_i)\\prod_{i=1}^k\\left(\\sum_{s_i}p(f_i-s_i)\\right)\\\\\n",
    "=& \\sum_{f>0}f\\sum_{n=1}^k{k\\choose n}\\left(\\sum_s p(f-s)\\right)^n\\left(\\sum_{f'>f}\\sum_s p(f'-s)\\right)^{k-n} \\\\\n",
    "=& \\sum_{f>0}f\\left\\{ \\left(\\sum_{f'\\geq f}\\sum_s p(f'-s)\\right)^k - \\left(\\sum_{f'>f}\\sum_s p(f'-s)\\right)^k\\right\\}\n",
    "\\end{align*}\n",
    "\n",
    "RS equations for an arbitrary factor degree profile $P(X)$\n",
    "--\n",
    "\n",
    "\\begin{align*}\n",
    "p\\left(f\\right)=\\sum_{k=0}^{\\infty}\\tilde{P_k}\\frac{1}{2^{k}}\\sum_{f_{1},\\dots,f_{k}}\\sum_{s_{1},\\dots,s_{k}}\\delta\\left(f;\\min_{j=1,\\dots,k}\\left|f_{j}+s_{j}\\right|\\prod_{j=1}^{k}\\text{sign}\\left(f_{j}+s_{j}\\right)\\right)\\prod_{j=1}^{k}p\\left(f_{j}\\right)\n",
    "\\end{align*}\n",
    "with the residual degree profile \n",
    "\\begin{align*}\n",
    "\\tilde{P_k}=\\frac{(k+1)P_{k+1}}{P'(1)}\n",
    "\\end{align*}\n",
    "which is the the probability distribution, for a factor node reached by following an edge, of the number of other edges attached to that node.\n",
    "Using the simplifications below:\n",
    "\\begin{align*}\n",
    "p\\left(f\\right)=\\sum_{k=0}^{\\infty}\\tilde{P_k}\\begin{cases}\n",
    "\\frac{1}{2}\\left\\{ \\left(\\sum_{f'\\geq f}\\sum_{s\\in\\pm1}p\\left(f'+s\\right)\\right)^{k}-\\left(\\sum_{f'>f}\\sum_{s\\in\\pm1}p\\left(f'+s\\right)\\right)^{k}\\right\\}  & \\text{ for }f>0\\\\\n",
    "\\left(\\frac{1}{2}\\sum_{s\\in\\pm1}p\\left(s\\right)+\\sum_{f'>0}\\sum_{s\\in\\pm1}p\\left(f'+s\\right)\\right)^{k}-\\left(\\sum_{f'>0}\\sum_{s\\in\\pm1}p\\left(f'+s\\right)\\right)^{k} & \\text{ for }f=0\n",
    "\\end{cases}\n",
    "\\end{align*}"
   ]
  },
  {
   "cell_type": "code",
   "execution_count": 6,
   "metadata": {},
   "outputs": [
    {
     "data": {
      "text/plain": [
       "overlap_fixeddeg (generic function with 1 method)"
      ]
     },
     "execution_count": 6,
     "metadata": {},
     "output_type": "execute_result"
    }
   ],
   "source": [
    "using OffsetArrays\n",
    "\n",
    "function overlap_variables(p)# first term in the expression of the overlap (sum over variables)\n",
    "    O = 0.0\n",
    "    N = lastindex(p)-1\n",
    "    for f1=-N:N\n",
    "        for f2=-N:N\n",
    "            for s = (-1,1)\n",
    "                O += p[f1]*p[f2]*0.5*(abs(f1+s)+abs(f2+s)-abs(f1+f2+s))\n",
    "            end\n",
    "        end\n",
    "    end\n",
    "    O\n",
    "end\n",
    "function overlap_factors(p,k) #second term, at fixed k\n",
    "    O = 0.0\n",
    "    N = lastindex(p)-1\n",
    "    for f = 1:N-1\n",
    "        v1 = p[f+1]+p[f-1]\n",
    "        v2 = sum(p[f1+1]+p[f1-1] for f1=f+1:N)\n",
    "        v = (v1+v2)^k-v2^k\n",
    "        O += f*v\n",
    "    end\n",
    "    O\n",
    "end\n",
    "\n",
    "function overlap_fixeddeg(p,k)\n",
    "    O=overlap_variables(p)-(2/k)*overlap_factors(p,k)\n",
    "    O\n",
    "end"
   ]
  },
  {
   "cell_type": "code",
   "execution_count": 7,
   "metadata": {},
   "outputs": [
    {
     "name": "stdout",
     "output_type": "stream",
     "text": [
      "(k, err) = (3, 9.43689570931383e-16)\n"
     ]
    },
    {
     "data": {
      "text/plain": [
       "1×2 Matrix{Float64}:\n",
       " 0.580759  0.580759"
      ]
     },
     "execution_count": 7,
     "metadata": {},
     "output_type": "execute_result"
    }
   ],
   "source": [
    "p=findsolution(3)\n",
    "[overlap_slow(p,3) overlap_fixeddeg(p,3)]"
   ]
  },
  {
   "cell_type": "code",
   "execution_count": 8,
   "metadata": {},
   "outputs": [
    {
     "data": {
      "text/plain": [
       "distortion (generic function with 1 method)"
      ]
     },
     "execution_count": 8,
     "metadata": {},
     "output_type": "execute_result"
    }
   ],
   "source": [
    "distortion(K; kwdargs...) = (1-overlap_fixeddeg(findsolution(K; kwdargs...), K))/2"
   ]
  },
  {
   "cell_type": "code",
   "execution_count": 123,
   "metadata": {},
   "outputs": [
    {
     "name": "stdout",
     "output_type": "stream",
     "text": [
      "(k, err) = (3, 9.43689570931383e-16)\n",
      "(k, err) = (4, 9.992007221626409e-16)\n",
      "(k, err) = (5, 8.881784197001252e-16)\n",
      "(k, err) = (6, 9.992007221626409e-16)\n",
      "(k, err) = (7, 9.992007221626409e-16)\n",
      "(k, err) = (8, 8.881784197001252e-16)\n",
      "(k, err) = (9, 9.992007221626409e-16)\n",
      "(k, err) = (10, 9.992007221626409e-16)\n"
     ]
    },
    {
     "data": {
      "text/plain": [
       "8×2 Matrix{Float64}:\n",
       " 0.333333  0.209621\n",
       " 0.5       0.141487\n",
       " 0.6       0.105593\n",
       " 0.666667  0.0830604\n",
       " 0.714286  0.0676468\n",
       " 0.75      0.0565155\n",
       " 0.777778  0.0481531\n",
       " 0.8       0.0416759"
      ]
     },
     "execution_count": 123,
     "metadata": {},
     "output_type": "execute_result"
    }
   ],
   "source": [
    "Ks = 3:10\n",
    "D = distortion.(Ks)\n",
    "R = 1 .- 2 ./ Ks\n",
    "\n",
    "[R D]"
   ]
  },
  {
   "cell_type": "code",
   "execution_count": 124,
   "metadata": {},
   "outputs": [
    {
     "data": {
      "text/plain": [
       "8-element Vector{Float64}:\n",
       " 0.33333333333333337\n",
       " 0.5\n",
       " 0.6\n",
       " 0.6666666666666667\n",
       " 0.7142857142857143\n",
       " 0.75\n",
       " 0.7777777777777778\n",
       " 0.8"
      ]
     },
     "execution_count": 124,
     "metadata": {},
     "output_type": "execute_result"
    }
   ],
   "source": [
    "R = 1 .- 2 ./ Ks"
   ]
  },
  {
   "cell_type": "code",
   "execution_count": 125,
   "metadata": {},
   "outputs": [
    {
     "data": {
      "image/png": "[encoded data removed]",
      "text/plain": [
       "Figure(PyObject <Figure size 640x480 with 1 Axes>)"
      ]
     },
     "metadata": {},
     "output_type": "display_data"
    },
    {
     "data": {
      "text/plain": [
       "1-element Vector{PyCall.PyObject}:\n",
       " PyObject <matplotlib.lines.Line2D object at 0x7f0215c07a90>"
      ]
     },
     "execution_count": 125,
     "metadata": {},
     "output_type": "execute_result"
    }
   ],
   "source": [
    "using PyPlot\n",
    "H(p)=1+p*log2(p)+(1-p)*log2(1-p)\n",
    "\n",
    "#xlim(0,1)\n",
    "#ylim(0,0.5)\n",
    "plot(R,D, \"+\")\n",
    "plot((0,1),(0.5,0))\n",
    "plot(H.(0:0.001:0.5), 0:0.001:0.5)"
   ]
  },
  {
   "cell_type": "code",
   "execution_count": 126,
   "metadata": {},
   "outputs": [
    {
     "data": {
      "text/plain": [
       "mixed (generic function with 1 method)"
      ]
     },
     "execution_count": 126,
     "metadata": {},
     "output_type": "execute_result"
    }
   ],
   "source": [
    "function mixed(pk; maxiter=10^7, tol=1e-15, N=6, damp=0.9)\n",
    "    N1 = N + 1\n",
    "    p=OffsetArray(zeros(2N1+1), -N1:N1);\n",
    "    p[-N+1:N-1] .= 1/(2N-1)\n",
    "    krange = [k for k in eachindex(pk) if pk[k] > tol]\n",
    "    @assert sum(pk[krange]) ≈ 1\n",
    "    z = sum(k*pk[k] for k=krange)\n",
    "    for i=1:maxiter\n",
    "        p1 = sum(k*pk[k]*iter(p,k) for k=krange)/z\n",
    "        if sum(abs.(p1 - p)) < tol\n",
    "            break\n",
    "        end\n",
    "        p = p*damp+p1*(1-damp)\n",
    "    end\n",
    "    O = overlap_variables(p) - (2/z)*sum(pk[k]*overlap_factors(p,k) for k=krange)\n",
    "    D = (1-O)/2\n",
    "end"
   ]
  },
  {
   "cell_type": "code",
   "execution_count": 127,
   "metadata": {},
   "outputs": [
    {
     "data": {
      "text/plain": [
       "mixture2 (generic function with 1 method)"
      ]
     },
     "execution_count": 127,
     "metadata": {},
     "output_type": "execute_result"
    }
   ],
   "source": [
    "function mixture2(R) \n",
    "    α=1-R\n",
    "    k=floor(Int, 2/α)\n",
    "    s=k+1-2/α\n",
    "    p=[fill(0,k-1); s; 1-s]\n",
    "    p .*= p .> 1e-10\n",
    "    p ./ sum(p)\n",
    "end\n"
   ]
  },
  {
   "cell_type": "code",
   "execution_count": 141,
   "metadata": {},
   "outputs": [
    {
     "data": {
      "text/plain": [
       "99-element Vector{Float64}:\n",
       " 0.4546474073128681\n",
       " 0.43565049932361133\n",
       " 0.42092765046912317\n",
       " 0.40839439222208573\n",
       " 0.3972457420215144\n",
       " 0.3870702443196218\n",
       " 0.3776242651788484\n",
       " 0.36874955806591975\n",
       " 0.3603365352601175\n",
       " 0.3523056385673838\n",
       " 0.34459697668198624\n",
       " 0.33716414626734653\n",
       " 0.3299703418625086\n",
       " ⋮\n",
       " 0.020370784947590925\n",
       " 0.017979055383501308\n",
       " 0.015666129177374533\n",
       " 0.013449978144655372\n",
       " 0.0113201258591068\n",
       " 0.009302254807509736\n",
       " 0.007397829094439923\n",
       " 0.0056264302423451595\n",
       " 0.004010648891537405\n",
       " 0.002577264143732827\n",
       " 0.0013672330158682189\n",
       " 0.0004509986577261871"
      ]
     },
     "execution_count": 141,
     "metadata": {},
     "output_type": "execute_result"
    }
   ],
   "source": [
    "Rm = 0.01:0.01:0.99\n",
    "pks = mixture2.(Rm)\n",
    "αs = 2 ./ [sum(k*pk[k] for k=eachindex(pk)) for pk in pks]\n",
    "@assert Rm ≈ 1 .- αs\n",
    "Dm = mixed.(pks, N=30)"
   ]
  },
  {
   "cell_type": "code",
   "execution_count": 142,
   "metadata": {},
   "outputs": [
    {
     "data": {
      "image/png": "[encoded data removed]",
      "text/plain": [
       "Figure(PyObject <Figure size 640x480 with 1 Axes>)"
      ]
     },
     "metadata": {},
     "output_type": "display_data"
    },
    {
     "data": {
      "text/plain": [
       "PyObject <matplotlib.legend.Legend object at 0x7f0215762d60>"
      ]
     },
     "execution_count": 142,
     "metadata": {},
     "output_type": "execute_result"
    }
   ],
   "source": [
    "using PyPlot\n",
    "H(p)=1+p*log2(p)+(1-p)*log2(1-p)\n",
    "\n",
    "#xlim(0,1)\n",
    "#ylim(0,0.5)\n",
    "#plot(R,D, \"x\", label=\"RS RRG\")\n",
    "xlabel(\"rate\")\n",
    "ylabel(\"distortion\")\n",
    "plot(Rm,Dm, \"--\", label=\"theory (RS)\")\n",
    "plot((0,1),(0.5,0), label=\"trival\")\n",
    "plot(H.(0:0.001:0.5), 0:0.001:0.5, label=\"information bound\")\n",
    "legend()"
   ]
  },
  {
   "cell_type": "code",
   "execution_count": null,
   "metadata": {},
   "outputs": [],
   "source": []
  }
 ],
 "metadata": {
  "kernelspec": {
   "display_name": "Julia 1.6.0-DEV",
   "language": "julia",
   "name": "julia-1.6"
  },
  "language_info": {
   "file_extension": ".jl",
   "mimetype": "application/julia",
   "name": "julia",
   "version": "1.6.0"
  },
  "output_auto_scroll": true
 },
 "nbformat": 4,
 "nbformat_minor": 4
}
