{
 "cells": [
  {
   "cell_type": "markdown",
   "metadata": {},
   "source": [
    "# BP with decimation"
   ]
  },
  {
   "cell_type": "code",
   "execution_count": 15,
   "metadata": {},
   "outputs": [
    {
     "data": {
      "text/plain": [
       "findbasis_slow (generic function with 1 method)"
      ]
     },
     "execution_count": 15,
     "metadata": {},
     "output_type": "execute_result"
    }
   ],
   "source": [
    "using OffsetArrays, Statistics\n",
    "include(\"../code/bp.jl\")\n",
    "include(\"../code/slim_graphs.jl\")"
   ]
  },
  {
   "cell_type": "code",
   "execution_count": null,
   "metadata": {
    "scrolled": true
   },
   "outputs": [
    {
     "name": "stdout",
     "output_type": "stream",
     "text": [
      "#### Round 1 of 10\n",
      "------ H=0.631. 1 of 1 ------\n",
      "Trial 1 of 1: contradiction found. 31 unsat\n",
      "#### Round 2 of 10\n",
      "------ H=0.631. 1 of 1 ------\n",
      "Trial 1 of 1: contradiction found. 4 unsat\n",
      "#### Round 3 of 10\n",
      "------ H=0.631. 1 of 1 ------\n",
      "Trial 1 of 1: contradiction found. 5 unsat\n",
      "#### Round 4 of 10\n",
      "------ H=0.631. 1 of 1 ------\n",
      "Trial 1 of 1: contradiction found. 51 unsat\n",
      "#### Round 5 of 10\n",
      "------ H=0.631. 1 of 1 ------\n",
      "Trial 1 of 1: contradiction found. 49 unsat\n",
      "#### Round 6 of 10\n",
      "------ H=0.631. 1 of 1 ------\n",
      "Trial 1 of 1: contradiction found. 13 unsat\n",
      "#### Round 7 of 10\n",
      "------ H=0.631. 1 of 1 ------\n",
      "Trial 1 of 1: contradiction found. 44 unsat\n",
      "#### Round 8 of 10\n",
      "------ H="
     ]
    }
   ],
   "source": [
    "m = factorial(5)*11*4\n",
    "R = 0.8/3\n",
    "r = 1 - 3R\n",
    "n = round(Int, 3m/(2+r))\n",
    "Λ = OffsetVector([0,0,1-r,r], 0:3)\n",
    "K = OffsetVector([0,0,0,1], 0:3)\n",
    "nedges = 3m\n",
    "Hs = 10.0 .^ (-0.2:0.25:-0.2)\n",
    "navg = 10\n",
    "dist_f3 = [Float64[] for _ in eachindex(Hs)]\n",
    "for j in 1:navg\n",
    "    println(\"#### Round $j of $navg\")\n",
    "    bp = belief_propagation(n, m, nedges, Λ, K)\n",
    "    B, freevars = findbasis_slow(permutedims(Array(bp.H)))\n",
    "    s = rand((-1,1), n)\n",
    "    for (i,H) in enumerate(Hs)\n",
    "        println(\"------ H=\", round(H,digits=4), \". \", i, \" of \", length(Hs), \" ------\")\n",
    "        fields = tanh.(H*copy(s))\n",
    "        _,_,d = decimate!(bp, fields, freevars, maxiter=2000, Tmax=1, tol=1e-12) \n",
    "        isnan(d) || push!(dist_f3[i], d) \n",
    "    end\n",
    "end"
   ]
  },
  {
   "cell_type": "code",
   "execution_count": null,
   "metadata": {
    "scrolled": false
   },
   "outputs": [],
   "source": [
    "println(\"Avg over $navg instances\")\n",
    "colors = cgrad(:heat, length(Hs)+1, categorical = true)\n",
    "pl_f3 = plot_rdb()\n",
    "for (i,H) in enumerate(Hs)\n",
    "    scatter!(pl_f3, [R], [mean(dist_f3[i])], \n",
    "        yerr = [std(dist_f3[i])/sqrt(length(dist_f3[i]))],\n",
    "        label=\"BP - f_3=$(round(r,digits=1)) - H=$(round(H,sigdigits=2))\", mc=colors[i], ms=4)\n",
    "end\n",
    "plot(pl_f3, size=(600,400), legend=:topright)\n",
    "xlims!((0.24,0.30)); ylims!((0.22,0.26))"
   ]
  },
  {
   "cell_type": "code",
   "execution_count": null,
   "metadata": {},
   "outputs": [],
   "source": []
  }
 ],
 "metadata": {
  "kernelspec": {
   "display_name": "Julia 1.5.3",
   "language": "julia",
   "name": "julia-1.5"
  },
  "language_info": {
   "file_extension": ".jl",
   "mimetype": "application/julia",
   "name": "julia",
   "version": "1.5.3"
  }
 },
 "nbformat": 4,
 "nbformat_minor": 4
}
