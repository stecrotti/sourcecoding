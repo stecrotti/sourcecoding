{
 "cells": [
  {
   "cell_type": "code",
   "execution_count": 1,
   "metadata": {},
   "outputs": [],
   "source": [
    "using OffsetArrays, Plots"
   ]
  },
  {
   "cell_type": "markdown",
   "metadata": {},
   "source": [
    "On a single instance:\n",
    "\\begin{align}\n",
    "u =& \\min\\{h_1,\\dots,h_k\\} \\\\\n",
    "h =& s + \\sum_{a=1}^d u_a\n",
    "\\end{align}\n",
    "\n",
    "Ensemble calculations: $q(h)$ and $p(u)$\n",
    "\\begin{align}\n",
    "p(u) =& \\left[\\sum_{h\\ge u} q(h)\\right]^k - \\left[\\sum_{h> u} q(h)\\right]^k\\\\\n",
    "h =& s + \\sum_{a=1}^d u_a\n",
    "\\end{align}"
   ]
  },
  {
   "cell_type": "code",
   "execution_count": 2,
   "metadata": {},
   "outputs": [
    {
     "data": {
      "text/plain": [
       "prob (generic function with 1 method)"
      ]
     },
     "execution_count": 2,
     "metadata": {},
     "output_type": "execute_result"
    }
   ],
   "source": [
    "prob(v) = OffsetArray(v, 0:length(v)-1)"
   ]
  },
  {
   "cell_type": "code",
   "execution_count": 21,
   "metadata": {},
   "outputs": [
    {
     "data": {
      "text/plain": [
       "conv (generic function with 2 methods)"
      ]
     },
     "execution_count": 21,
     "metadata": {},
     "output_type": "execute_result"
    }
   ],
   "source": [
    "function conv(f1, f2; N=length(f 1)+length(f2)-1)\n",
    "    @assert firstindex(f1)==0 && firstindex(f2)==0\n",
    "    N1,N2 = length(f1), length(f2)\n",
    "    f3 = OffsetArray(zeros(eltype(f1),N+1),0:N)\n",
    "    for x1 in 0:min(N,N1-1), x2 in 0:min(N,N2-1)\n",
    "        x1+x2>N && continue\n",
    "        f3[x1+x2] += f1[x1]*f2[x2]\n",
    "    end\n",
    "    f3\n",
    "end"
   ]
  },
  {
   "cell_type": "code",
   "execution_count": 23,
   "metadata": {},
   "outputs": [
    {
     "data": {
      "text/plain": [
       "6-element OffsetArray(::Vector{Float64}, 0:5) with eltype Float64 with indices 0:5:\n",
       " 0.0\n",
       " 0.3\n",
       " 0.4\n",
       " 0.1\n",
       " 0.2\n",
       " 0.0"
      ]
     },
     "execution_count": 23,
     "metadata": {},
     "output_type": "execute_result"
    }
   ],
   "source": [
    "f1 = prob([0.0,1.0])\n",
    "f2 = prob([0.3,0.4,0.1,0.2])\n",
    "conv(f1,f2)"
   ]
  },
  {
   "cell_type": "code",
   "execution_count": 4,
   "metadata": {},
   "outputs": [
    {
     "data": {
      "text/plain": [
       "poiss (generic function with 1 method)"
      ]
     },
     "execution_count": 4,
     "metadata": {},
     "output_type": "execute_result"
    }
   ],
   "source": [
    "function poiss(lambda::Real; trunc=10) \n",
    "    p = prob([lambda^k * exp(-lambda) / factorial(k) for k in 0:trunc])\n",
    "    p ./= sum(p)\n",
    "end"
   ]
  },
  {
   "cell_type": "markdown",
   "metadata": {},
   "source": [
    "\\begin{align}\n",
    "q(n) =& \\sum_{l=0}^\\infty p_l(l) \\sum_{n_1,n_2,\\dots,n_l}\\delta\\left(n, 1+\\sum_{a=1}^ln_a\\right)\\prod_{a=1}^l\\hat{q}(n_a)\\\\\n",
    "=& \\sum_{l=0}^\\infty p_l(l) \\left(\\underbrace{\\hat{q}\\circledast\\dots\\circledast\\hat{q}}_{l\\text{  times}}\\circledast\\delta_1\\right)(n)\\\\\n",
    "\\end{align}\n",
    "\\begin{equation}\n",
    "Q(n) = \\sum_{m\\ge m} q(m)\n",
    "\\end{equation}"
   ]
  },
  {
   "cell_type": "code",
   "execution_count": 5,
   "metadata": {},
   "outputs": [
    {
     "data": {
      "text/plain": [
       "updateQ! (generic function with 1 method)"
      ]
     },
     "execution_count": 5,
     "metadata": {},
     "output_type": "execute_result"
    }
   ],
   "source": [
    "function updateQ!(q, Q, qhat, Qhat, pl)\n",
    "    qnew = zero(q)\n",
    "    for l in eachindex(pl)\n",
    "        qnew = pl[l]*prob([0.0,0.1])\n",
    "        for _ in 1:l\n",
    "           qnew = conv(qnew, qhat) \n",
    "        end\n",
    "        q .+= qnew\n",
    "    end\n",
    "    Q .= cumsum(q)\n",
    "    nothing\n",
    "end"
   ]
  },
  {
   "cell_type": "code",
   "execution_count": 6,
   "metadata": {},
   "outputs": [
    {
     "data": {
      "text/plain": [
       "11-element OffsetArray(::Vector{Float64}, 0:10) with eltype Float64 with indices 0:10:\n",
       " 0.22313028326128562\n",
       " 0.33469542489192844\n",
       " 0.2510215686689463\n",
       " 0.12551078433447316\n",
       " 0.047066544125427434\n",
       " 0.014119963237628232\n",
       " 0.003529990809407058\n",
       " 0.000756426602015798\n",
       " 0.00014182998787796213\n",
       " 2.3638331312993692e-5\n",
       " 3.5457496969490535e-6"
      ]
     },
     "execution_count": 6,
     "metadata": {},
     "output_type": "execute_result"
    }
   ],
   "source": [
    "const p=3\n",
    "alpha = 0.5\n",
    "pl = poiss(p*alpha)\n"
   ]
  },
  {
   "cell_type": "markdown",
   "metadata": {},
   "source": [
    "\\begin{equation}\n",
    "\\hat{Q}(n) = \\left(Q(n)\\right)^{p-1}\n",
    "\\end{equation}\n",
    "\\begin{equation}\n",
    "\\hat{Q}(n) = \\sum_{m\\ge m} \\hat{q}(m)\n",
    "\\end{equation}"
   ]
  },
  {
   "cell_type": "code",
   "execution_count": 7,
   "metadata": {},
   "outputs": [
    {
     "data": {
      "text/plain": [
       "updateQhat! (generic function with 1 method)"
      ]
     },
     "execution_count": 7,
     "metadata": {},
     "output_type": "execute_result"
    }
   ],
   "source": [
    "function updateQhat!(qhat, Qhat, q, Q, p)\n",
    "    Qhat .= Q.^p\n",
    "    qhat .= diff([0; Qhat])  # inverse of cumsum\n",
    "    nothing\n",
    "end"
   ]
  },
  {
   "cell_type": "code",
   "execution_count": null,
   "metadata": {},
   "outputs": [],
   "source": []
  }
 ],
 "metadata": {
  "kernelspec": {
   "display_name": "Julia 1.6.1-pre",
   "language": "julia",
   "name": "julia-1.6"
  },
  "language_info": {
   "file_extension": ".jl",
   "mimetype": "application/julia",
   "name": "julia",
   "version": "1.6.1"
  }
 },
 "nbformat": 4,
 "nbformat_minor": 4
}
