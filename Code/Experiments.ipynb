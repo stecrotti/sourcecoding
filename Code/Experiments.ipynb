{
 "cells": [
  {
   "cell_type": "code",
   "execution_count": 130,
   "metadata": {
    "ExecuteTime": {
     "end_time": "2020-03-24T13:44:14.070000+01:00",
     "start_time": "2020-03-24T12:44:11.279Z"
    },
    "init_cell": true
   },
   "outputs": [],
   "source": [
    "include(\"headers.jl\")\n",
    "using PyPlot, Statistics"
   ]
  },
  {
   "cell_type": "code",
   "execution_count": 131,
   "metadata": {
    "ExecuteTime": {
     "end_time": "2020-03-24T13:44:14.076000+01:00",
     "start_time": "2020-03-24T12:44:11.282Z"
    },
    "init_cell": true
   },
   "outputs": [],
   "source": [
    "# Rate-Distortion bound\n",
    "rdb(D) = 1-(-D*log2(D)-(1-D)*log2(1-D))\n",
    "D = LinRange(0.001,0.5-0.001,100)\n",
    "# plot(rdb.(D),D);"
   ]
  },
  {
   "cell_type": "markdown",
   "metadata": {},
   "source": [
    "# GF(2)"
   ]
  },
  {
   "cell_type": "code",
   "execution_count": 132,
   "metadata": {
    "ExecuteTime": {
     "end_time": "2020-03-24T13:44:14.385000+01:00",
     "start_time": "2020-03-24T12:44:11.286Z"
    },
    "init_cell": true
   },
   "outputs": [],
   "source": [
    "q = 2\n",
    "mult, gfinv = gftables(q);   # Matrices for multiplication and inverse on GF\n",
    "algo = BP();    # To choose max-sum: algo = MS()"
   ]
  },
  {
   "cell_type": "markdown",
   "metadata": {},
   "source": [
    "## Toy example"
   ]
  },
  {
   "cell_type": "code",
   "execution_count": 133,
   "metadata": {
    "ExecuteTime": {
     "end_time": "2020-03-24T13:44:14.390000+01:00",
     "start_time": "2020-03-24T12:44:11.288Z"
    },
    "init_cell": true
   },
   "outputs": [
    {
     "data": {
      "text/plain": [
       "2×4 Array{Int64,2}:\n",
       " 0  1  1  1\n",
       " 0  0  1  1"
      ]
     },
     "execution_count": 133,
     "metadata": {},
     "output_type": "execute_result"
    }
   ],
   "source": [
    "H = [0 1 1 1; 0 0 1 1]"
   ]
  },
  {
   "cell_type": "markdown",
   "metadata": {},
   "source": [
    "which is solved by $c_2=0, c_3=c_4$.\n",
    "\n",
    "With uniform priors, BP should give all zeros (which is, among the possible solutions, the first found)"
   ]
  },
  {
   "cell_type": "code",
   "execution_count": 135,
   "metadata": {
    "ExecuteTime": {
     "end_time": "2020-03-24T13:44:51.983000+01:00",
     "start_time": "2020-03-24T12:44:51.855Z"
    }
   },
   "outputs": [
    {
     "name": "stdout",
     "output_type": "stream",
     "text": [
      "FG = FactorGraph(q, H, fields) = Factor Graph with 4 variables and 2 factors defined on GF(2)\n",
      "\n",
      "BP/MS converged after 1 steps\n",
      "yhat = [0, 0, 0, 0]\n",
      "check = [0, 0]\n"
     ]
    }
   ],
   "source": [
    "# Uniform fields\n",
    "fields = [Fun(q) for v in 1:size(H,2)]\n",
    "\n",
    "# Construct a FactorGraph by specifying the adjacency matrix\n",
    "@show FG = FactorGraph(q,H,fields)\n",
    "\n",
    "# Run bp\n",
    "yhat = bp!(FG, algo, maxiter=1000,tol=1e-3,verbose=true)\n",
    "@show yhat;\n",
    "check = paritycheck(FG,algo);\n",
    "@show check;"
   ]
  },
  {
   "cell_type": "markdown",
   "metadata": {},
   "source": [
    "Symmetry-breaking field: again uniform priors, slightly perturbed. It should give randomly one of the possible codewords.\n",
    "\n",
    "###### ####### Sometimes this doesn't fulfill parity!"
   ]
  },
  {
   "cell_type": "code",
   "execution_count": 139,
   "metadata": {
    "ExecuteTime": {
     "end_time": "2020-03-24T13:45:57.432000+01:00",
     "start_time": "2020-03-24T12:45:57.328Z"
    }
   },
   "outputs": [
    {
     "name": "stdout",
     "output_type": "stream",
     "text": [
      "BP/MS converged after 1 steps\n",
      "PARITY FULFILLED\n",
      "\n",
      "yhat = [0, 0, 0, 0]\n"
     ]
    }
   ],
   "source": [
    "fields = [Fun(1e-3*randn(q)) for v in 1:size(H,2)]\n",
    "FG = FactorGraph(q,H,fields)\n",
    "maxiter = Int(1e4)\n",
    "# It works with tol∼1e0 but it doesn't always fulfill parity\n",
    "res = bp!(FG, algo, tol=1e-2, maxiter=maxiter, verbose=true)\n",
    "if res == :unconverged\n",
    "    error(\"Unconverged with n=$n, k=$(k) after $maxiter steps\")\n",
    "else\n",
    "    yhat = res\n",
    "    z = paritycheck(FG, algo)\n",
    "    if sum(z)!=0 \n",
    "        println(\"Parity not fulfilled: $(sum(z)) unfulfilled constraints\")\n",
    "    else\n",
    "        println(\"PARITY FULFILLED\")\n",
    "    end\n",
    "    println()\n",
    "end\n",
    "@show yhat;"
   ]
  },
  {
   "cell_type": "markdown",
   "metadata": {},
   "source": [
    "With a prior that pushes the system towards $y=(0,1,1,0)$, the solution should be the nearest codeword\n",
    "\n",
    "###### ####### This never works"
   ]
  },
  {
   "cell_type": "code",
   "execution_count": 160,
   "metadata": {
    "ExecuteTime": {
     "end_time": "2020-03-24T13:48:51.831000+01:00",
     "start_time": "2020-03-24T12:48:49.918Z"
    }
   },
   "outputs": [
    {
     "name": "stdout",
     "output_type": "stream",
     "text": [
      "Unconverged with n=24, k=14 after 10000 steps\n"
     ]
    }
   ],
   "source": [
    "y = [0,1,1,0]\n",
    "fields = extfields(q,y)\n",
    "FG = FactorGraph(q,H,fields)\n",
    "maxiter = Int(1e4)\n",
    "# It works with tol∼1e0 but it almost never always fulfill parity\n",
    "res = bp!(FG, algo, tol=1e-1, maxiter=maxiter, verbose=true)\n",
    "if res == :unconverged\n",
    "    println(\"Unconverged with n=$n, k=$(k) after $maxiter steps\")\n",
    "else\n",
    "    yhat = res\n",
    "    z = paritycheck(FG, algo)\n",
    "    if sum(z)!=0 \n",
    "        println(\"Parity not fulfilled: $(sum(z)) unfulfilled constraints\")\n",
    "    else\n",
    "        println(\"PARITY FULFILLED\")\n",
    "        @show yhat;\n",
    "    end\n",
    "    println()\n",
    "end"
   ]
  },
  {
   "cell_type": "markdown",
   "metadata": {},
   "source": [
    "## At fixed Rate"
   ]
  },
  {
   "cell_type": "code",
   "execution_count": 165,
   "metadata": {
    "ExecuteTime": {
     "end_time": "2020-03-24T13:51:01.530000+01:00",
     "start_time": "2020-03-24T12:51:01.517Z"
    }
   },
   "outputs": [
    {
     "data": {
      "text/plain": [
       "0.5833333333333334"
      ]
     },
     "execution_count": 165,
     "metadata": {},
     "output_type": "execute_result"
    }
   ],
   "source": [
    "Navg = 20\n",
    "maxiter = Int(1e3)\n",
    "n = 24\n",
    "k = 14\n",
    "L = 2.0\n",
    "γ₀ = 0.9\n",
    "lambda = [0.0, 1.0]\n",
    "rho = [0.0, 0.0, 0.5, 0.5]\n",
    "nedges = 2*n\n",
    "R = k/n"
   ]
  },
  {
   "cell_type": "code",
   "execution_count": null,
   "metadata": {
    "ExecuteTime": {
     "start_time": "2020-03-24T12:51:46.703Z"
    }
   },
   "outputs": [],
   "source": [
    "D = zeros(Navg)\n",
    "for it in 1:Navg\n",
    "    y = rand(0:q-1, n)\n",
    "    fields = extfields(q,y,L)\n",
    "    \n",
    "    # Construct a factor graph by specifying lambda, rho\n",
    "    FG = ldpc_graph(q, n, k, nedges, lambda, rho, fields, verbose=false)\n",
    "    res = bp!(FG,algo, verbose=true, tol=1e-1, maxiter=maxiter, gamma=1-γ₀)\n",
    "    if res == :unconverged\n",
    "        println(\"Unconverged with n=$n, k=$(k) after $maxiter steps\")\n",
    "    else\n",
    "        yhat = res\n",
    "        z = paritycheck(FG, algo)\n",
    "        if sum(z)!=0 \n",
    "            println(\"Parity not fulfilled: $(sum(z)) unfulfilled constraints\")\n",
    "        else\n",
    "            println(\"PARITY FULFILLED\")\n",
    "        end\n",
    "        println()\n",
    "    end\n",
    "#     D[it] = hd(y,yhat)/n after $maxiter steps\n",
    "end"
   ]
  },
  {
   "cell_type": "code",
   "execution_count": 81,
   "metadata": {
    "ExecuteTime": {
     "end_time": "2020-03-23T12:42:10.355000+01:00",
     "start_time": "2020-03-23T11:42:02.986Z"
    }
   },
   "outputs": [
    {
     "data": {
      "image/png": "[encoded data removed]",
      "text/plain": [
       "Figure(PyObject <Figure size 640x480 with 1 Axes>)"
      ]
     },
     "metadata": {},
     "output_type": "display_data"
    },
    {
     "name": "stdout",
     "output_type": "stream",
     "text": [
      "E[D] = 0.0014583333333333334\n"
     ]
    }
   ],
   "source": [
    "plot(D,\"o\")\n",
    "plt.:xlabel(\"Trials\")\n",
    "plt.:ylabel(\"Distortion\")\n",
    "hlines(mean(D),1, length(D), \"r\")\n",
    "println(\"E[D] = $(mean(D))\")"
   ]
  },
  {
   "cell_type": "markdown",
   "metadata": {},
   "source": [
    "## Try varying the rate"
   ]
  },
  {
   "cell_type": "code",
   "execution_count": 20,
   "metadata": {
    "ExecuteTime": {
     "end_time": "2020-03-22T15:03:31.247000+01:00",
     "start_time": "2020-03-22T14:03:31.003Z"
    }
   },
   "outputs": [
    {
     "name": "stdout",
     "output_type": "stream",
     "text": [
      "k ∈ [245, 189, 154, 130]\n",
      "n = 420\n"
     ]
    }
   ],
   "source": [
    "n = 840\n",
    "γ₀ = 0.9\n",
    "L = 2\n",
    "nedges = 2*n\n",
    "lambda = [0.0, 1.0]\n",
    "Npoints = 5\n",
    "Navg = 10\n",
    "Rho = [zeros(Npoints+4) for _ in 1:Npoints]\n",
    "K = zeros(Int,Npoints)\n",
    "for x in 1:Npoints\n",
    "    Rho[x][x+2:x+3] = [0.5 0.5]\n",
    "    K[x] = Int(round(n*(1/(x+2)+1/(x+3))))\n",
    "end\n",
    "R = K./n\n",
    "println(\"k ∈ $K\")\n",
    "println(\"n = $n\")"
   ]
  },
  {
   "cell_type": "code",
   "execution_count": 21,
   "metadata": {
    "ExecuteTime": {
     "end_time": "2020-03-22T15:03:55.257000+01:00",
     "start_time": "2020-03-22T14:03:31.583Z"
    }
   },
   "outputs": [
    {
     "name": "stdout",
     "output_type": "stream",
     "text": [
      "Finished k=245\n",
      "Finished k=189\n",
      "Finished k=154\n",
      "Finished k=130\n"
     ]
    }
   ],
   "source": [
    "D = zeros(Npoints,Navg)\n",
    "for (i,k) in enumerate(K)\n",
    "    for it in 1:Navg\n",
    "        y = rand(0:q-1, n)\n",
    "        fields = extfields(q,y,L)\n",
    "        FG = ldpc_graph(q, n, k, nedges, lambda, Rho[i], fields)\n",
    "        res = bp!(FG,algo,gamma=1-γ₀)\n",
    "        if res == :unconverged\n",
    "            error(\"Unconverged with n=$n, k=$(k)\")\n",
    "        else\n",
    "            y_hat = res\n",
    "        end\n",
    "        D[i,it] = hd(y,y_hat)/n\n",
    "    end\n",
    "    println(\"Finished k=$k\")\n",
    "end"
   ]
  },
  {
   "cell_type": "code",
   "execution_count": 22,
   "metadata": {
    "ExecuteTime": {
     "end_time": "2020-03-22T15:04:09.555000+01:00",
     "start_time": "2020-03-22T14:04:09.109Z"
    }
   },
   "outputs": [
    {
     "data": {
      "image/png": "[encoded data removed]",
      "text/plain": [
       "Figure(PyObject <Figure size 640x480 with 1 Axes>)"
      ]
     },
     "metadata": {},
     "output_type": "display_data"
    },
    {
     "data": {
      "text/plain": [
       "PyObject Text(24.0, 0.5, 'D')"
      ]
     },
     "execution_count": 22,
     "metadata": {},
     "output_type": "execute_result"
    }
   ],
   "source": [
    "plot(R,mean(D,dims=2),\"o\")\n",
    "plt.:xlabel(\"R\")\n",
    "plt.:ylabel(\"D\")"
   ]
  },
  {
   "cell_type": "code",
   "execution_count": 20,
   "metadata": {},
   "outputs": [
    {
     "data": {
      "text/plain": [
       "OffsetArray(::Array{Float64,1}, 0:3) with eltype Float64 with indices 0:3:\n",
       "  2.000261027451418    \n",
       "  1.000111811509912    \n",
       "  0.99995659299167     \n",
       " -0.0008796599691783315"
      ]
     },
     "execution_count": 20,
     "metadata": {},
     "output_type": "execute_result"
    }
   ],
   "source": [
    "q = 4\n",
    "n = 200\n",
    "L = 1\n",
    "y = rand(0:q-1, n)\n",
    "fields = extfields(q,y,L)\n",
    "fields[6]"
   ]
  },
  {
   "cell_type": "code",
   "execution_count": 61,
   "metadata": {
    "ExecuteTime": {
     "end_time": "2020-03-24T13:24:34.882000+01:00",
     "start_time": "2020-03-24T12:24:33.567Z"
    }
   },
   "outputs": [
    {
     "name": "stdout",
     "output_type": "stream",
     "text": [
      "oldmessages = deepcopy(FG.mfv) = Dict{Any,Any}[Dict(4=>[0.5, 0.5],2=>[0.5, 0.5],3=>[0.5, 0.5]), Dict(4=>[0.5, 0.5],3=>[0.5, 0.5])]\n",
      "msg = [0.5, 0.5]\n",
      "(f, v, (oldmessages[f])[v]) = (1, 4, [0.5, 0.5])\n",
      "msg = [0.5, 0.5]\n",
      "(f, v, (oldmessages[f])[v]) = (1, 2, [0.5, 0.5])\n",
      "msg = [0.5, 0.5]\n",
      "(f, v, (oldmessages[f])[v]) = (1, 3, [0.5, 0.5])\n",
      "msg = [0.499888, 0.500112]\n",
      "(f, v, (oldmessages[f])[v]) = (2, 4, [0.5, 0.5])\n",
      "msg = [0.500004, 0.499996]\n",
      "(f, v, (oldmessages[f])[v]) = (2, 3, [0.5, 0.5])\n",
      "maxchange = 0.0001119479891675268\n"
     ]
    }
   ],
   "source": [
    "FG = FactorGraph(q,H)\n",
    "@show oldmessages = deepcopy(FG.mfv)\n",
    "onebpiter!(FG,algo)\n",
    "newmessages = FG.mfv\n",
    "maxchange = 0\n",
    "\n",
    "for f in eachindex(newmessages)\n",
    "    for (v,msg) in newmessages[f]\n",
    "        @show msg\n",
    "        @show f,v,oldmessages[f][v]\n",
    "        change = maximum(abs(msg - oldmessages[f][v]))\n",
    "#         @show change\n",
    "        if change > maxchange\n",
    "            maxchange = change\n",
    "#             @show maxchange\n",
    "        end\n",
    "    end\n",
    "end\n",
    "@show maxchange;"
   ]
  },
  {
   "cell_type": "code",
   "execution_count": 35,
   "metadata": {
    "ExecuteTime": {
     "end_time": "2020-03-24T13:11:47.342000+01:00",
     "start_time": "2020-03-24T12:11:47.337Z"
    }
   },
   "outputs": [
    {
     "data": {
      "text/plain": [
       "OffsetArray(::Array{Float64,1}, 0:1) with eltype Float64 with indices 0:1:\n",
       " 0.5001590745914777\n",
       " 0.4998409254085224"
      ]
     },
     "execution_count": 35,
     "metadata": {},
     "output_type": "execute_result"
    }
   ],
   "source": [
    "msg = newmessages[2][4]"
   ]
  },
  {
   "cell_type": "code",
   "execution_count": 37,
   "metadata": {
    "ExecuteTime": {
     "end_time": "2020-03-24T13:12:01.364000+01:00",
     "start_time": "2020-03-24T12:12:01.359Z"
    }
   },
   "outputs": [
    {
     "data": {
      "text/plain": [
       "2-element Array{Dict{Any,Any},1}:\n",
       " Dict(4=>[0.5, 0.5],2=>[0.5, 0.5],3=>[0.5, 0.5])  \n",
       " Dict(4=>[0.500159, 0.499841],3=>[0.5002, 0.4998])"
      ]
     },
     "execution_count": 37,
     "metadata": {},
     "output_type": "execute_result"
    }
   ],
   "source": [
    "oldmessages"
   ]
  },
  {
   "cell_type": "code",
   "execution_count": null,
   "metadata": {},
   "outputs": [],
   "source": []
  }
 ],
 "metadata": {
  "@webio": {
   "lastCommId": null,
   "lastKernelId": null
  },
  "celltoolbar": "Initialization Cell",
  "kernelspec": {
   "display_name": "Julia 1.0.2",
   "language": "julia",
   "name": "julia-1.0"
  },
  "language_info": {
   "file_extension": ".jl",
   "mimetype": "application/julia",
   "name": "julia",
   "version": "1.0.2"
  },
  "notify_time": "30",
  "varInspector": {
   "cols": {
    "lenName": 16,
    "lenType": 16,
    "lenVar": 40
   },
   "kernels_config": {
    "python": {
     "delete_cmd_postfix": "",
     "delete_cmd_prefix": "del ",
     "library": "var_list.py",
     "varRefreshCmd": "print(var_dic_list())"
    },
    "r": {
     "delete_cmd_postfix": ") ",
     "delete_cmd_prefix": "rm(",
     "library": "var_list.r",
     "varRefreshCmd": "cat(var_dic_list()) "
    }
   },
   "types_to_exclude": [
    "module",
    "function",
    "builtin_function_or_method",
    "instance",
    "_Feature"
   ],
   "window_display": false
  }
 },
 "nbformat": 4,
 "nbformat_minor": 2
}
