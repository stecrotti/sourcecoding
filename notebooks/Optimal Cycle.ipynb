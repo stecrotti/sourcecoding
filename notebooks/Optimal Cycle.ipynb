{
 "cells": [
  {
   "cell_type": "code",
   "execution_count": 28,
   "metadata": {},
   "outputs": [
    {
     "name": "stderr",
     "output_type": "stream",
     "text": [
      "┌ Info: Precompiling BlossomV [6c721016-9dae-5d90-abf6-67daaccb2332]\n",
      "└ @ Base loading.jl:1278\n",
      "ERROR: LoadError: BlossomV not properly installed. Please run Pkg.build(\"BlossomV\")\n",
      "Stacktrace:\n",
      " [1] error(::String) at .\\error.jl:33\n",
      " [2] top-level scope at C:\\Users\\Stefano\\.julia\\packages\\BlossomV\\szW7L\\src\\BlossomV.jl:6\n",
      " [3] include(::Function, ::Module, ::String) at .\\Base.jl:380\n",
      " [4] include(::Module, ::String) at .\\Base.jl:368\n",
      " [5] top-level scope at none:2\n",
      " [6] eval at .\\boot.jl:331 [inlined]\n",
      " [7] eval(::Expr) at .\\client.jl:467\n",
      " [8] top-level scope at .\\none:3\n",
      "in expression starting at C:\\Users\\Stefano\\.julia\\packages\\BlossomV\\szW7L\\src\\BlossomV.jl:3\n"
     ]
    },
    {
     "ename": "LoadError",
     "evalue": "Failed to precompile BlossomV [6c721016-9dae-5d90-abf6-67daaccb2332] to C:\\Users\\Stefano\\.julia\\compiled\\v1.5\\BlossomV\\akfpb_dRERM.ji.",
     "output_type": "error",
     "traceback": [
      "Failed to precompile BlossomV [6c721016-9dae-5d90-abf6-67daaccb2332] to C:\\Users\\Stefano\\.julia\\compiled\\v1.5\\BlossomV\\akfpb_dRERM.ji.",
      "",
      "Stacktrace:",
      " [1] error(::String) at .\\error.jl:33",
      " [2] compilecache(::Base.PkgId, ::String) at .\\loading.jl:1305",
      " [3] _require(::Base.PkgId) at .\\loading.jl:1030",
      " [4] require(::Base.PkgId) at .\\loading.jl:928",
      " [5] require(::Module, ::Symbol) at .\\loading.jl:923",
      " [6] include_string(::Function, ::Module, ::String, ::String) at .\\loading.jl:1091"
     ]
    }
   ],
   "source": [
    "using BlossomV, LinearAlgebra, SparseArrays"
   ]
  },
  {
   "cell_type": "code",
   "execution_count": 29,
   "metadata": {},
   "outputs": [
    {
     "name": "stderr",
     "output_type": "stream",
     "text": [
      "\u001b[32m\u001b[1m   Building\u001b[22m\u001b[39m BlossomV → `C:\\Users\\Stefano\\.julia\\packages\\BlossomV\\szW7L\\deps\\build.log`\n",
      "┌ Error: Error building `BlossomV`: \n",
      "│ ERROR: LoadError: None of the selected providers can install dependency blossom5int32.\n",
      "│ Use BinDeps.debug(package_name) to see available providers\n",
      "│ \n",
      "│ Stacktrace:\n",
      "│  [1] error(::String) at .\\error.jl:33\n",
      "│  [2] satisfy!(::BinDeps.LibraryDependency, ::Array{DataType,1}) at C:\\Users\\Stefano\\.julia\\packages\\BinDeps\\5xsHU\\src\\dependencies.jl:956\n",
      "│  [3] satisfy!(::BinDeps.LibraryDependency) at C:\\Users\\Stefano\\.julia\\packages\\BinDeps\\5xsHU\\src\\dependencies.jl:929\n",
      "│  [4] top-level scope at C:\\Users\\Stefano\\.julia\\packages\\BinDeps\\5xsHU\\src\\dependencies.jl:984\n",
      "│  [5] include(::String) at .\\client.jl:457\n",
      "│  [6] top-level scope at none:5\n",
      "│ in expression starting at C:\\Users\\Stefano\\.julia\\packages\\BlossomV\\szW7L\\deps\\build.jl:72\n",
      "└ @ Pkg.Operations D:\\buildbot\\worker\\package_win64\\build\\usr\\share\\julia\\stdlib\\v1.5\\Pkg\\src\\Operations.jl:949\n"
     ]
    }
   ],
   "source": [
    "import Pkg; Pkg.build(\"BlossomV\")"
   ]
  },
  {
   "cell_type": "code",
   "execution_count": 10,
   "metadata": {},
   "outputs": [
    {
     "data": {
      "text/plain": [
       "optimal_cycle (generic function with 1 method)"
      ]
     },
     "execution_count": 10,
     "metadata": {},
     "output_type": "execute_result"
    }
   ],
   "source": [
    "# Implements algorithm 1 in Improved Algorithms for Detecting Negative Cost Cycles in Undirected Graphs.\n",
    "# Xiaofeng Gu1, Kamesh Madduri, K. Subramani and Hong-Jian Lai\n",
    "\n",
    "function optimal_cycle(G)\n",
    "    G = sparse(G)\n",
    "    rows,weights  = rowvals(G), nonzeros(G)\n",
    "    ∂(i) = zip((@view rows[nzrange(G,i)]), (@view weights[nzrange(G,i)]))\n",
    "    n=size(G,1);\n",
    "    m=Int(length(rows)/2)\n",
    "    E=Matching(Float64, 2n+2m)\n",
    "    k = 2n+1\n",
    "    edge(i,j,w) = add_edge(E, i-1, j-1, w)\n",
    "    D=Dict{Int, Tuple{Int,Int}}()\n",
    "    for i=1:n\n",
    "        edge(i, i+n, 0)\n",
    "        for (j,w) in ∂(i)\n",
    "            if i < j\n",
    "                edge(i,     k,   w)\n",
    "                edge(i + n, k,   w)\n",
    "                edge(j,     k+1, w)\n",
    "                edge(j + n, k+1, w)\n",
    "                edge(k,     k+1, 0)\n",
    "                D[k]=(i,j)\n",
    "                k+=2\n",
    "            end\n",
    "        end\n",
    "    end\n",
    "    @assert k == 2n+2m+1\n",
    "\n",
    "    solve(E)\n",
    "\n",
    "    sol=Tuple{Int,Int}[]\n",
    "    for k=2n:2:2n+2m-1\n",
    "        if get_match(E, k) != k + 1\n",
    "            push!(sol, D[k+1])\n",
    "        end\n",
    "    end\n",
    "\n",
    "    sol\n",
    "end"
   ]
  },
  {
   "cell_type": "code",
   "execution_count": 11,
   "metadata": {},
   "outputs": [
    {
     "ename": "LoadError",
     "evalue": "UndefVarError: issymmetric not defined",
     "output_type": "error",
     "traceback": [
      "UndefVarError: issymmetric not defined",
      "",
      "Stacktrace:",
      " [1] top-level scope at In[11]:10",
      " [2] include_string(::Function, ::Module, ::String, ::String) at .\\loading.jl:1091"
     ]
    }
   ],
   "source": [
    "#edge list, indices start at 0\n",
    "\n",
    "G = [0  1  1  0  0 0;\n",
    "     1  0 -3 -1  0 0;\n",
    "     1 -3  0  0 -2 0;\n",
    "     0 -1  0  0  0 0;\n",
    "     0  0 -2  0  0 1;\n",
    "     0  0  0  0  1 0]\n",
    "\n",
    "@assert(issymmetric(G))"
   ]
  },
  {
   "cell_type": "code",
   "execution_count": 21,
   "metadata": {},
   "outputs": [
    {
     "ename": "LoadError",
     "evalue": "UndefVarError: sparse not defined",
     "output_type": "error",
     "traceback": [
      "UndefVarError: sparse not defined",
      "",
      "Stacktrace:",
      " [1] optimal_cycle(::Array{Int64,2}) at .\\In[10]:5",
      " [2] top-level scope at In[21]:1",
      " [3] include_string(::Function, ::Module, ::String, ::String) at .\\loading.jl:1091"
     ]
    }
   ],
   "source": [
    "op = optimal_cycle(G)"
   ]
  },
  {
   "cell_type": "code",
   "execution_count": 14,
   "metadata": {},
   "outputs": [],
   "source": [
    "using LightGraphs, SimpleWeightedGraphs, GraphRecipes, Plots"
   ]
  },
  {
   "cell_type": "code",
   "execution_count": 12,
   "metadata": {},
   "outputs": [
    {
     "data": {
      "text/plain": [
       "{6, 6} undirected simple Int64 graph with Int64 weights"
      ]
     },
     "execution_count": 12,
     "metadata": {},
     "output_type": "execute_result"
    }
   ],
   "source": [
    "g = SimpleWeightedGraph(G)"
   ]
  },
  {
   "cell_type": "code",
   "execution_count": 33,
   "metadata": {},
   "outputs": [
    {
     "ename": "LoadError",
     "evalue": "BoundsError: attempt to access 36-element Array{Symbol,1} at index [1, 2]",
     "output_type": "error",
     "traceback": [
      "BoundsError: attempt to access 36-element Array{Symbol,1} at index [1, 2]",
      "",
      "Stacktrace:",
      " [1] getindex(::Array{Symbol,1}, ::Int64, ::Int64) at .\\array.jl:810",
      " [2] (::GraphRecipes.var\"#8#12\")(::Tuple{Int64,Int64}) at .\\none:0",
      " [3] iterate at .\\generator.jl:47 [inlined]",
      " [4] collect(::Base.Generator{Base.Iterators.Zip{Tuple{Array{Int64,1},Array{Int64,1}}},GraphRecipes.var\"#8#12\"}) at .\\array.jl:686",
      " [5] process_edge_attribute(::Array{Symbol,1}, ::Array{Int64,1}, ::Array{Int64,1}, ::Array{Float64,1}) at C:\\Users\\Stefano\\.julia\\packages\\GraphRecipes\\kYXc4\\src\\utils.jl:243",
      " [6] macro expansion at C:\\Users\\Stefano\\.julia\\packages\\GraphRecipes\\kYXc4\\src\\graphs.jl:789 [inlined]",
      " [7] macro expansion at C:\\Users\\Stefano\\.julia\\packages\\RecipesBase\\92zOw\\src\\RecipesBase.jl:319 [inlined]",
      " [8] macro expansion at C:\\Users\\Stefano\\.julia\\packages\\GraphRecipes\\kYXc4\\src\\graphs.jl:771 [inlined]",
      " [9] apply_recipe(::AbstractDict{Symbol,Any}, ::GraphRecipes.GraphPlot) at C:\\Users\\Stefano\\.julia\\packages\\RecipesBase\\92zOw\\src\\RecipesBase.jl:282",
      " [10] _process_userrecipes!(::Plots.Plot{Plots.GRBackend}, ::Dict{Symbol,Any}, ::Tuple{GraphRecipes.GraphPlot}) at C:\\Users\\Stefano\\.julia\\packages\\RecipesPipeline\\tkFmN\\src\\user_recipe.jl:35",
      " [11] recipe_pipeline!(::Plots.Plot{Plots.GRBackend}, ::Dict{Symbol,Any}, ::Tuple{GraphRecipes.GraphPlot}) at C:\\Users\\Stefano\\.julia\\packages\\RecipesPipeline\\tkFmN\\src\\RecipesPipeline.jl:69",
      " [12] _plot!(::Plots.Plot{Plots.GRBackend}, ::Dict{Symbol,Any}, ::Tuple{GraphRecipes.GraphPlot}) at C:\\Users\\Stefano\\.julia\\packages\\Plots\\5ItHH\\src\\plot.jl:167",
      " [13] plot(::GraphRecipes.GraphPlot; kw::Base.Iterators.Pairs{Symbol,Any,NTuple{4,Symbol},NamedTuple{(:edgelabel, :names, :nodecolor, :edgecolor),Tuple{SparseArrays.SparseMatrixCSC{Int64,Int64},UnitRange{Int64},Symbol,Array{Symbol,1}}}}) at C:\\Users\\Stefano\\.julia\\packages\\Plots\\5ItHH\\src\\plot.jl:57",
      " [14] #graphplot#82 at C:\\Users\\Stefano\\.julia\\packages\\RecipesBase\\92zOw\\src\\RecipesBase.jl:357 [inlined]",
      " [15] top-level scope at In[33]:2",
      " [16] include_string(::Function, ::Module, ::String, ::String) at .\\loading.jl:1091"
     ]
    }
   ],
   "source": [
    "ec = [:black for i in G[:]]\n",
    "graphplot(g, edgelabel=weights(g), names=vertices(g), nodecolor=:yellow, edgecolor=ec)"
   ]
  },
  {
   "cell_type": "code",
   "execution_count": 35,
   "metadata": {},
   "outputs": [
    {
     "data": {
      "text/plain": [
       "6×6 Array{Symbol,2}:\n",
       " :black  :black  :black  :black  :black  :black\n",
       " :black  :black  :black  :black  :black  :black\n",
       " :black  :black  :black  :black  :black  :black\n",
       " :black  :black  :black  :black  :black  :black\n",
       " :black  :black  :black  :black  :black  :black\n",
       " :black  :black  :black  :black  :black  :black"
      ]
     },
     "execution_count": 35,
     "metadata": {},
     "output_type": "execute_result"
    }
   ],
   "source": [
    "ec = [:black for i in CartesianIndices(G)]"
   ]
  },
  {
   "cell_type": "code",
   "execution_count": null,
   "metadata": {},
   "outputs": [],
   "source": []
  }
 ],
 "metadata": {
  "kernelspec": {
   "display_name": "Julia 1.5.2",
   "language": "julia",
   "name": "julia-1.5"
  },
  "language_info": {
   "file_extension": ".jl",
   "mimetype": "application/julia",
   "name": "julia",
   "version": "1.5.2"
  }
 },
 "nbformat": 4,
 "nbformat_minor": 4
}
