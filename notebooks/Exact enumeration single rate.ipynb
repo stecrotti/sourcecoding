{
 "cells": [
  {
   "cell_type": "code",
   "execution_count": 35,
   "metadata": {},
   "outputs": [
    {
     "data": {
      "text/plain": [
       "22"
      ]
     },
     "execution_count": 35,
     "metadata": {},
     "output_type": "execute_result"
    }
   ],
   "source": [
    "include(\"../code/exact_enum.jl\")\n",
    "include(\"../code/matrix_generator.jl\")\n",
    "include(\"../code/bp_full.jl\")\n",
    "include(\"../../telegram/notifications.jl\")\n",
    "using Base.Threads\n",
    "nthreads()"
   ]
  },
  {
   "cell_type": "code",
   "execution_count": 36,
   "metadata": {},
   "outputs": [],
   "source": [
    "Rs = [0.25]\n",
    "# ns = [56, 68, 80, 88, 96, 100]\n",
    "ns = [56, 68, 80, 88, 92, 96, 100]\n",
    "navg = 5000 .- ns\n",
    "nsources = 100\n",
    "\n",
    "d = [[fill(NaN, navg[i]) for _ in Rs] for i in eachindex(ns)]\n",
    "nz = [[fill(NaN, navg[i]) for _ in Rs] for i in eachindex(ns)]\n",
    "wef_src = [[[zeros(Int, ns[i]) for _ in 1:navg[i]] for _ in Rs] for i in eachindex(ns)]\n",
    "wef_zero = [[[zeros(Int, ns[i]) for _ in 1:navg[i]] for _ in Rs] for i in eachindex(ns)]\n",
    "t = fill(NaN, length(ns));"
   ]
  },
  {
   "cell_type": "code",
   "execution_count": 37,
   "metadata": {},
   "outputs": [
    {
     "name": "stdout",
     "output_type": "stream",
     "text": [
      "Rate 1 of 1\n",
      "(n, R) = (56, 0.25)\n",
      "Rate 1 of 1\n",
      "(n, R) = (68, 0.25)\n",
      "Rate 1 of 1\n",
      "(n, R) = (80, 0.25)\n",
      "Rate 1 of 1\n",
      "(n, R) = (88, 0.25)\n",
      "Rate 1 of 1\n",
      "(n, R) = (92, 0.25)\n",
      "Rate 1 of 1\n",
      "(n, R) = (96, 0.25)\n",
      "Rate 1 of 1\n",
      "(n, R) = (100, 0.25)\n"
     ]
    }
   ],
   "source": [
    "for (a,n) in enumerate(ns)\n",
    "    @showprogress for (i,R) in enumerate(Rs)\n",
    "        println(\"Rate $i of \", length(Rs))\n",
    "        m = round(Int, n*(1-R))\n",
    "        f3 = 1-3R\n",
    "        Λ = [0,1-f3,f3]\n",
    "        K = [0, 0, 1]\n",
    "        nedges = 3m \n",
    "        @show n, R\n",
    "        H = permutedims(ldpc_matrix(n,m,nedges,Λ,K))\n",
    "    end\n",
    "end"
   ]
  },
  {
   "cell_type": "code",
   "execution_count": null,
   "metadata": {
    "scrolled": true
   },
   "outputs": [
    {
     "name": "stderr",
     "output_type": "stream",
     "text": [
      "┌ Warning: Assignment to `m` in soft scope is ambiguous because a global variable by the same name exists: `m` will be treated as a new local. Disambiguate by using `local m` to suppress this warning or `global m` to assign to the existing global variable.\n",
      "└ @ nothing In[38]:6\n",
      "┌ Warning: Assignment to `f3` in soft scope is ambiguous because a global variable by the same name exists: `f3` will be treated as a new local. Disambiguate by using `local f3` to suppress this warning or `global f3` to assign to the existing global variable.\n",
      "└ @ nothing In[38]:7\n",
      "┌ Warning: Assignment to `Λ` in soft scope is ambiguous because a global variable by the same name exists: `Λ` will be treated as a new local. Disambiguate by using `local Λ` to suppress this warning or `global Λ` to assign to the existing global variable.\n",
      "└ @ nothing In[38]:8\n",
      "┌ Warning: Assignment to `K` in soft scope is ambiguous because a global variable by the same name exists: `K` will be treated as a new local. Disambiguate by using `local K` to suppress this warning or `global K` to assign to the existing global variable.\n",
      "└ @ nothing In[38]:9\n"
     ]
    },
    {
     "name": "stdout",
     "output_type": "stream",
     "text": [
      "### Size 1 of 7\n",
      "Rate 1 of 1\n"
     ]
    }
   ],
   "source": [
    "@telegram \"Exact enumeration single rate\" for (a,n) in enumerate(ns)\n",
    "    println(\"### Size $a of \", length(ns))\n",
    "    tt = @timed begin\n",
    "        @showprogress for (i,R) in enumerate(Rs)\n",
    "            println(\"Rate $i of \", length(Rs))\n",
    "            m = round(Int, n*(1-R))\n",
    "            f3 = 1-3R\n",
    "            Λ = [0,1-f3,f3]\n",
    "            K = [0, 0, 1]\n",
    "            nedges = 3m\n",
    "            @threads for j in 1:navg[a]  \n",
    "                H = permutedims(ldpc_matrix(n,m,nedges,Λ,K))\n",
    "                s = [bitrand(n) for _ in nsources]\n",
    "                B, indep = findbasis_slow(BitMatrix(H))\n",
    "                rtrue = size(B,2) / size(B,1)\n",
    "                if rtrue == R\n",
    "                    h0, h, mins = exact_wef(B, s)\n",
    "                    wef_zero[a][i][j] = h0\n",
    "                    wef_src[a][i][j] = h[1]\n",
    "                    d[a][i][j] = mean(mins)\n",
    "                end\n",
    "            end\n",
    "        end\n",
    "    end\n",
    "    t[a] = tt.time\n",
    "    d\n",
    "end"
   ]
  },
  {
   "cell_type": "code",
   "execution_count": null,
   "metadata": {},
   "outputs": [],
   "source": [
    "t_minutes = sum(t) / 60\n",
    "t_hours = sum(t) / 3600\n",
    "d_avg = reduce(vcat, [mean.(filter.(!isnan, d[i])) for i in eachindex(ns)])\n",
    "d_std = reduce(vcat, [std.(filter.(!isnan, d[i])) ./ length.(filter.(!isnan, d[i])) for i in eachindex(ns)]);"
   ]
  },
  {
   "cell_type": "code",
   "execution_count": null,
   "metadata": {},
   "outputs": [],
   "source": [
    "# least squares\n",
    "using DataFrames, GLM\n",
    "ns_inv = 1 ./ ns\n",
    "x = ns_inv\n",
    "y = d_avg\n",
    "data = DataFrame(X=x, Y=y)\n",
    "ols = lm(@formula(Y ~ X), data)\n",
    "intercept_stderr = stderror(ols)[1];\n",
    "# xaug = [x ones(length(x))]\n",
    "# (m, q) = xaug \\ y"
   ]
  },
  {
   "cell_type": "code",
   "execution_count": null,
   "metadata": {},
   "outputs": [],
   "source": [
    "q, m = coef(ols)"
   ]
  },
  {
   "cell_type": "code",
   "execution_count": 11,
   "metadata": {},
   "outputs": [
    {
     "name": "stderr",
     "output_type": "stream",
     "text": [
      "┌ Warning: ProgressMeter by default refresh meters with additional information in IJulia via `IJulia.clear_output`, which clears all outputs in the cell. \n",
      "│  - To prevent this behaviour, do `ProgressMeter.ijulia_behavior(:append)`. \n",
      "│  - To disable this warning message, do `ProgressMeter.ijulia_behavior(:clear)`.\n",
      "└ @ ProgressMeter /home/crotti/.julia/packages/ProgressMeter/Vf8un/src/ProgressMeter.jl:620\n",
      "\r",
      "\u001b[32mProgress: 100%|█████████████████████████████████████████| Time: 0:08:22\u001b[39m\r\n",
      "\u001b[34m  err:  0.00011711449947417185/3.535533905932737e-5\u001b[39m\n"
     ]
    },
    {
     "name": "stdout",
     "output_type": "stream",
     "text": [
      "err = 0.00011711449947417185\n"
     ]
    }
   ],
   "source": [
    "# compare w/ rsb\n",
    "include(\"../code/rsb.jl\")\n",
    "using StatsBase, OffsetArrays\n",
    "popsize = 2*10^6\n",
    "J = 20\n",
    "popP = fill(1/(2J+1), -J:J, 1:popsize)\n",
    "popQ = fill(1/(2J+1), -J:J, 1:popsize)\n",
    "R = Rs[1]\n",
    "f3 = 1-3R\n",
    "Λ = OffsetVector([0,0,1-f3,f3], 0:3)\n",
    "K = OffsetVector([0,0,0,1], 0:3)\n",
    "popP, popQ = RSB(Λ,K; J=J, maxiter=10^2, popsize=popsize, y=0.5, popP=popP, popQ=popQ);"
   ]
  },
  {
   "cell_type": "code",
   "execution_count": 12,
   "metadata": {},
   "outputs": [
    {
     "name": "stderr",
     "output_type": "stream",
     "text": [
      "┌ Warning: ProgressMeter by default refresh meters with additional information in IJulia via `IJulia.clear_output`, which clears all outputs in the cell. \n",
      "│  - To prevent this behaviour, do `ProgressMeter.ijulia_behavior(:append)`. \n",
      "│  - To disable this warning message, do `ProgressMeter.ijulia_behavior(:clear)`.\n",
      "└ @ ProgressMeter /home/crotti/.julia/packages/ProgressMeter/Vf8un/src/ProgressMeter.jl:620\n",
      "\r",
      "\u001b[32mProgress: 100%|█████████████████████████████████████████| Time: 0:01:30\u001b[39m\r\n",
      "\u001b[34m  F:  -0.5356130867990703\u001b[39m\r\n",
      "\u001b[34m  O:  0.5327811992840774\u001b[39m\r\n",
      "\u001b[34m  D:  0.2336094003579613\u001b[39m\n"
     ]
    },
    {
     "data": {
      "text/plain": [
       "0.2331298905106048"
      ]
     },
     "execution_count": 12,
     "metadata": {},
     "output_type": "execute_result"
    }
   ],
   "source": [
    "Λ = OffsetVector([0,0,1-f3,f3], 0:3)\n",
    "K = OffsetVector([0,0,0,1], 0:3)\n",
    "nsamples = 2*10^6\n",
    "o_rsb_avg, _, _, o_rsb_std, _, _ = overlap1RSB_errorbars(Λ,K; popP=popP, popQ=popQ, y=0.5, samples=nsamples)\n",
    "d_rsb_avg = 1/2*(1 - o_rsb_avg)"
   ]
  },
  {
   "cell_type": "code",
   "execution_count": 13,
   "metadata": {},
   "outputs": [
    {
     "data": {
      "text/plain": [
       "8.268077078276105e-7"
      ]
     },
     "execution_count": 13,
     "metadata": {},
     "output_type": "execute_result"
    }
   ],
   "source": [
    "d_rsb_std = 1/2 * o_rsb_std / sqrt(nsamples)"
   ]
  },
  {
   "cell_type": "code",
   "execution_count": null,
   "metadata": {},
   "outputs": [],
   "source": [
    "println(\"Runtime: \", round(t_hours,digits=1), \" hours\")\n",
    "pl = plot()\n",
    "for (i,R) in enumerate(Rs)\n",
    "    pl = plot!(pl, 1 ./ ns, [d_avg[j][i] for j in eachindex(d_avg)], label=\"R=$R\",\n",
    "        m=:o, yerr=[d_std[j][i] for j in eachindex(d_std)], c=:blue, ms=3)\n",
    "end\n",
    "plot!(pl, xlabel=\"1/n\", ylabel=\"distortion\")\n",
    "xrg = 0:1e-3:0.02\n",
    "plot!(pl, xrg, xrg*m .+ q, label=\"linear fit\", line=:dash, legend=:topleft)\n",
    "scatter!(pl, [0], [q], m=:circle, c=:white, msc=:red, msw=1.5, label=\"prediction for n->inf\",\n",
    "    yerr=[intercept_stderr])\n",
    "hline!(pl, [d_rsb_avg], label=\"RSB y=0.5\", c=:green, ylims=(0.23, 0.26), ribbon=d_rsb_std)\n",
    "pl2 = plot_rdb()\n",
    "scatter!(pl2, R*ones(length(ns)), d_avg, label=\"exact enum\", ms=2, xlims=(0.2, 0.3), ylims=(0.23,0.27), c=:blue)\n",
    "scatter!(pl2, [R], [q], m=:circle, c=:white, msc=:red, msw=1.5, label=\"prediction for n->inf\",\n",
    "    yerr=[intercept_stderr])\n",
    "scatter!(pl2, [R], [d_rsb_avg], c=:green, label=\"RSB y=0.5\",m=:x, ms=3, yerr=[d_rsb_std])\n",
    "plot(pl, pl2, size=(1000,400), margin=5Plots.mm)"
   ]
  },
  {
   "cell_type": "code",
   "execution_count": null,
   "metadata": {},
   "outputs": [],
   "source": []
  }
 ],
 "metadata": {
  "kernelspec": {
   "display_name": "Julia 1.6.1-pre",
   "language": "julia",
   "name": "julia-1.6"
  },
  "language_info": {
   "file_extension": ".jl",
   "mimetype": "application/julia",
   "name": "julia",
   "version": "1.6.1"
  }
 },
 "nbformat": 4,
 "nbformat_minor": 4
}
