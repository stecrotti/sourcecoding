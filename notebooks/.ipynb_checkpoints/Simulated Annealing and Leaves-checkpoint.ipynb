{
 "cells": [
  {
   "cell_type": "markdown",
   "metadata": {},
   "source": [
    "# Simulated Annealing and Leaves\n",
    "--------------\n",
    "\n",
    "Run Simulated Annealing with Monte Carlo move consisting of: \n",
    "* pick a random floppy variable\n",
    "* grow a seaweed\n",
    "* flip alla variables touched by the seaweed\n",
    "\n",
    "**Goal**: see whether we get better results with graphs with more leaves"
   ]
  },
  {
   "cell_type": "code",
   "execution_count": null,
   "metadata": {},
   "outputs": [],
   "source": [
    "using Printf, Plots\n",
    "include(\"../code/headers.jl\")\n",
    "include(\"../code/SimulationNEW.jl\")"
   ]
  },
  {
   "cell_type": "markdown",
   "metadata": {},
   "source": [
    "With graph size $n=1000$, expose leaves via $b$-reduction with $b \\in [1, 3, 5, 10, 20, 50]$.\n",
    "\n",
    "_Note_ : the number of factors $m$ is always the same! If for example $b=4$, a graph with $m+4$ factors is built, then $4$ are removed.\n",
    "\n",
    "Run compression over `niter` random {graph, source vector} instances"
   ]
  },
  {
   "cell_type": "code",
   "execution_count": null,
   "metadata": {
    "scrolled": true
   },
   "outputs": [],
   "source": [
    "q = 2\n",
    "n = 1000\n",
    "m = 400\n",
    "bvals = [1, 3, 5, 10, 20, 50, 100, 200]\n",
    "niter = 100\n",
    "randseed = 1234;"
   ]
  },
  {
   "cell_type": "markdown",
   "metadata": {},
   "source": [
    "Cooling schedule for Simulated Annealing: $\\beta_{overlap} \\in [10^{-1}, 10^0, 10^1]$"
   ]
  },
  {
   "cell_type": "code",
   "execution_count": null,
   "metadata": {},
   "outputs": [],
   "source": [
    "sims = Vector{Simulation{SA}}(undef, length(bvals))\n",
    "sa = SA(mc_move=MetropSmallJumps(), nsamples=100, betas=[Inf 0.1; Inf 1.0; Inf 10.0;]);"
   ]
  },
  {
   "cell_type": "code",
   "execution_count": null,
   "metadata": {},
   "outputs": [],
   "source": [
    "time_SA = @timed for (i,b) in enumerate(bvals)\n",
    "    println(\"##### b=$b. $i of $(length(bvals)) #####\")\n",
    "    sims[i] = Simulation(q, n, m, sa, b=b, niter=niter, verbose=true, randseed=randseed+i, showprogress=true)\n",
    "end"
   ]
  },
  {
   "cell_type": "code",
   "execution_count": null,
   "metadata": {},
   "outputs": [],
   "source": [
    "println(\"Runtime for simulated annealing: \", Int(round(time_SA.time)), \"s\")"
   ]
  },
  {
   "cell_type": "code",
   "execution_count": null,
   "metadata": {},
   "outputs": [],
   "source": [
    "dist = distortion.(sims)\n",
    "avg_dist = mean.(dist)\n",
    "sd_dist = std.(dist) ./ sqrt(niter)\n",
    "Plots.plot(bvals, avg_dist, xlabel=\"b\", ylabel=\"D\", label=\"\", ribbon=sd_dist, marker=:circle)\n",
    "title!(\"Distortion vs removed factors - Simulated Annealing\")"
   ]
  },
  {
   "cell_type": "markdown",
   "metadata": {},
   "source": [
    "$b$-reduction seems to indeed have some effect"
   ]
  },
  {
   "cell_type": "markdown",
   "metadata": {},
   "source": [
    "## Compare with Max-sum\n",
    "\n",
    "Run Max-sum on the same graphs and observe differences"
   ]
  },
  {
   "cell_type": "code",
   "execution_count": null,
   "metadata": {},
   "outputs": [],
   "source": [
    "sims_ms = Vector{Simulation{MS}}(undef, length(bvals))\n",
    "ms = MS(maxiter=200, gamma=5e-3);"
   ]
  },
  {
   "cell_type": "code",
   "execution_count": null,
   "metadata": {
    "scrolled": true
   },
   "outputs": [],
   "source": [
    "for (i,b) in enumerate(bvals)\n",
    "    println(\"##### b=$b. $i of $(length(bvals)) #####\")\n",
    "    sims_ms[i] = Simulation(q,n,m,ms,b=b, niter=niter, verbose=true, randseed=randseed+i, showprogress=true)\n",
    "end"
   ]
  },
  {
   "cell_type": "code",
   "execution_count": null,
   "metadata": {},
   "outputs": [],
   "source": [
    "dist_ms = distortion.(sims_ms)\n",
    "avg_dist_ms = mean.(dist_ms)\n",
    "sd_dist_ms = std.(dist_ms) ./ sqrt(niter)\n",
    "Plots.plot(bvals, avg_dist_ms, xlabel=\"b\", ylabel=\"D\", label=\"\", ribbon=sd_dist_ms, marker=:circle)\n",
    "title!(\"Distortion vs number of removed factors - Max-sum\")"
   ]
  }
 ],
 "metadata": {
  "kernelspec": {
   "display_name": "Julia 1.5.3",
   "language": "julia",
   "name": "julia-1.5"
  },
  "language_info": {
   "file_extension": ".jl",
   "mimetype": "application/julia",
   "name": "julia",
   "version": "1.5.3"
  }
 },
 "nbformat": 4,
 "nbformat_minor": 4
}
