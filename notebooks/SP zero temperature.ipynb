{
 "cells": [
  {
   "cell_type": "markdown",
   "metadata": {},
   "source": [
    "# Survey Propagation at zero temperature"
   ]
  },
  {
   "cell_type": "code",
   "execution_count": 44,
   "metadata": {},
   "outputs": [
    {
     "name": "stdout",
     "output_type": "stream",
     "text": [
      "size(H) = (6600, 9000)\n",
      "5 removed factors [129, 1515, 1531, 1655, 3471]\n"
     ]
    },
    {
     "data": {
      "text/plain": [
       "(6595, 9000)"
      ]
     },
     "execution_count": 44,
     "metadata": {},
     "output_type": "execute_result"
    }
   ],
   "source": [
    "H = readgraph(\"/tmp/graph9000.txt\")\n",
    "H = readseeds(\"/tmp/seeds9000.txt\", H)\n",
    "M,N = size(H)"
   ]
  },
  {
   "cell_type": "code",
   "execution_count": 12,
   "metadata": {},
   "outputs": [
    {
     "data": {
      "text/plain": [
       "([4568, 97, 303, 4962, 589, 3783, 2642, 554, 3162, 1042  …  1081, 4040, 5522, 198, 5901, 3075, 7, 3606, 4236, 3265], [91, 353, 364, 685, 3356, 3896, 4261, 4784, 4976, 5077  …  5628, 7363, 4170, 8751, 4673, 5935, 798, 7435, 4491, 8359])"
      ]
     },
     "execution_count": 12,
     "metadata": {},
     "output_type": "execute_result"
    }
   ],
   "source": [
    "rowperm,colperm = leaf_removal(H)"
   ]
  },
  {
   "cell_type": "code",
   "execution_count": 236,
   "metadata": {},
   "outputs": [],
   "source": [
    "using StaticArrays, OffsetArrays\n",
    "x0 = rand((0,1), size(H,2))\n",
    "s = (-1).^x0\n",
    "J = 20\n",
    "init=OffsetArray(MVector{2J+1}(fill(0.0,2J+1)), -J:J)\n",
    "sp1 = survey_propagation(H; field=s, init, y=2.0);"
   ]
  },
  {
   "cell_type": "code",
   "execution_count": 237,
   "metadata": {},
   "outputs": [
    {
     "data": {
      "text/plain": [
       "findbasis (generic function with 1 method)"
      ]
     },
     "execution_count": 237,
     "metadata": {},
     "output_type": "execute_result"
    }
   ],
   "source": [
    "include(\"../code/sp.jl\")\n",
    "include(\"../code/slim_graphs.jl\")"
   ]
  },
  {
   "cell_type": "code",
   "execution_count": 238,
   "metadata": {},
   "outputs": [
    {
     "data": {
      "text/plain": [
       "41×2 Array{Float64,2}:\n",
       " -2.0   -2.0\n",
       " -2.0  -42.0\n",
       " -2.0  -44.0\n",
       " -2.0  -46.0\n",
       " -2.0  -48.0\n",
       " -2.0  -50.0\n",
       " -2.0  -52.0\n",
       " -2.0  -54.0\n",
       " -2.0  -56.0\n",
       " -2.0  -58.0\n",
       " -2.0  -60.0\n",
       " -2.0  -62.0\n",
       " -2.0  -64.0\n",
       "  ⋮    \n",
       "  0.0  -64.0\n",
       "  0.0  -62.0\n",
       "  0.0  -60.0\n",
       "  0.0  -58.0\n",
       "  0.0  -56.0\n",
       "  0.0  -54.0\n",
       "  0.0  -52.0\n",
       "  0.0  -50.0\n",
       "  0.0  -48.0\n",
       "  0.0  -46.0\n",
       "  0.0  -44.0\n",
       "  0.0    0.0"
      ]
     },
     "execution_count": 238,
     "metadata": {},
     "output_type": "execute_result"
    }
   ],
   "source": [
    "i = 10\n",
    "damp = 0.4\n",
    "rein = 0.0\n",
    "sp = deepcopy(sp1)\n",
    "e1 = update_var_zeroT_slow!(sp1, i; damp = 0.0, rein = 0.0)\n",
    "sp1.survey[i]\n",
    "e2 = update_var_zeroT!(sp, i; damp = 0.0, rein = 0.0)\n",
    "e1,e2\n",
    "[sp1.survey[i] sp.survey[i]]"
   ]
  },
  {
   "cell_type": "code",
   "execution_count": 248,
   "metadata": {},
   "outputs": [
    {
     "data": {
      "text/plain": [
       "msc_fast (generic function with 3 methods)"
      ]
     },
     "execution_count": 248,
     "metadata": {},
     "output_type": "execute_result"
    }
   ],
   "source": [
    "function msc_slow(P, J=10, s=1)\n",
    "    q = fill(-Inf, -10J:10J)\n",
    "    for us in Iterators.product(fill(-J:J, length(P))...)\n",
    "        h = sum(us) + s\n",
    "        q[h] = max(q[h], \n",
    "            abs(h) - sum(abs.(u)-p[u] for (p,u) in zip(P,us)))\n",
    "    end\n",
    "    q\n",
    "end\n",
    "\n",
    "function msc_fast(P, J=10, s=1)\n",
    "    q = fill(-0.0, s:s)\n",
    "    for n in 1:length(P)\n",
    "        q = msc(q, P[n])\n",
    "    end\n",
    "    q[J] = maximum(q[J:end])\n",
    "    q[-J] = maximum(q[begin:-J])\n",
    "    q        \n",
    "end"
   ]
  },
  {
   "cell_type": "code",
   "execution_count": 249,
   "metadata": {},
   "outputs": [
    {
     "data": {
      "text/plain": [
       "([-Inf, -Inf, -Inf, -Inf, -Inf, -Inf, -Inf, -Inf, -Inf, -Inf  …  -Inf, -Inf, -Inf, -Inf, -Inf, -Inf, -Inf, -Inf, -Inf, -Inf], [0.0, 0.0, 0.0, 0.0, 0.0, 0.0, 0.0, 0.0, 0.0, 0.0  …  0.0, 0.0, 0.0, 0.0, 0.0, 0.0, 0.0, 0.0, 0.0, 0.0])"
      ]
     },
     "execution_count": 249,
     "metadata": {},
     "output_type": "execute_result"
    }
   ],
   "source": [
    "J = 10\n",
    "P = [OffsetArray(rand(2J+1), -J:J) for _ in 1:5]\n",
    "msc_slow(P,J), msc_fast(P,J)"
   ]
  },
  {
   "cell_type": "code",
   "execution_count": null,
   "metadata": {},
   "outputs": [],
   "source": []
  }
 ],
 "metadata": {
  "kernelspec": {
   "display_name": "Julia 1.5.3",
   "language": "julia",
   "name": "julia-1.5"
  },
  "language_info": {
   "file_extension": ".jl",
   "mimetype": "application/julia",
   "name": "julia",
   "version": "1.5.3"
  }
 },
 "nbformat": 4,
 "nbformat_minor": 4
}
