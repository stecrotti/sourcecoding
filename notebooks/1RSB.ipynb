{
 "cells": [
  {
   "cell_type": "markdown",
   "metadata": {},
   "source": [
    "1RSB\n",
    "===\n",
    "\n",
    "\\begin{align*}\n",
    "p\\left(f\\right)  &= \\sum_{f_{1},\\dots,f_{k}}\\delta\\left(f;\\min_{j=1,\\dots,k}\\left|f_{j}\\right|\\prod_{j=1}^{k}\\text{sign}\\left(f_{j}\\right)\\right)\\prod_{j=1}^{k}q_j\\left(f_{j}\\right)e^{-y F_{ai}}\\\\\n",
    "q(f) &= \\sum_{f_1,\\dots,f_d} \\prod_{b=1,\\dots,d} p_b(f_b) \\delta\\left(f-s-\\sum_{b=1,\\dots,d}f_b\\right)e^{-y F_{ia}}\\\\\n",
    "\\end{align*}\n",
    "\n",
    "where\n",
    "\\begin{align*}\n",
    "F_{ai} &= -2\\min_{j=1,\\dots,k}|f_{j}|\\Theta\\left(-\\prod_{j=1}^kf_{j}\\right)\\\\\n",
    " F_{ia} &=\\left|s + \\sum_{b=1}^d f_b\\right| - \\sum_{b=1}^d|f_b|\n",
    "\\end{align*}\n",
    "\n"
   ]
  },
  {
   "cell_type": "code",
   "execution_count": 461,
   "metadata": {},
   "outputs": [
    {
     "data": {
      "text/plain": [
       "iter_slow_var (generic function with 3 methods)"
      ]
     },
     "execution_count": 461,
     "metadata": {},
     "output_type": "execute_result"
    }
   ],
   "source": [
    "using OffsetArrays\n",
    "\n",
    "const ∏ = prod\n",
    "const ∑ = sum\n",
    "\n",
    "\n",
    "function iter_slow_factor(Q, J, y=0.0)\n",
    "    k = length(Q)\n",
    "    p = fill(0.0, -J:J)\n",
    "    for fs in Iterators.product(fill(-J:J,k)...)\n",
    "        Fai = -2*minimum(abs.(fs))*(∏(fs) < 0)\n",
    "        w = ∏(q[f1] for (q,f1) ∈ zip(Q,fs)) * exp(-y*Fai)\n",
    "        f = minimum(abs.(fs))*sign(∏(fs))\n",
    "        p[clamp(f, -J, J)] += w\n",
    "    end\n",
    "    p ./ sum(p)\n",
    "end\n",
    "\n",
    "function iter_slow_var(P, s, J, y=0.0) \n",
    "    q = fill(0.0, -J:J)\n",
    "    for fs in Iterators.product(fill(-J:J, length(P))...)\n",
    "        f = sum(fs) + s\n",
    "        Fia = abs(f) - sum(abs.(fs)) \n",
    "        w = ∏(p[f1] for (p,f1) ∈ zip(P,fs)) * exp(-y*Fia)\n",
    "        q[clamp(f, -J, J)] += w \n",
    "    end\n",
    "    q ./ sum(q)\n",
    "end"
   ]
  },
  {
   "cell_type": "markdown",
   "metadata": {},
   "source": [
    "Simplifications\n",
    "--\n",
    "\n",
    "$F_{ai}$ can be simplified: \n",
    "\n",
    "\\begin{align}\n",
    "F_{ai} &= -2\\min_{j=1,\\dots,k}|f_{j}|\\Theta\\left(-\\prod_{j=1}^kf_{j}\\right)\\\\\n",
    "&= -2\\min_{j=1,\\dots,k}|f_{j}|\\Theta\\left(\\textrm{sign}\\left(-\\prod_{j=1}^kf_{j}\\right)\\right)\\\\\n",
    "&= -2\\min_{j=1,\\dots,k}|f_{j}|\\Theta\\left(-\\min_{j=1,\\dots,k}|f_{j}|\\textrm{sign}\\left(\\prod_{j=1}^kf_{j}\\right)\\right)\\\\\n",
    "&= -2\\left|\\min_{j=1,\\dots,k}|f_{j}|\\textrm{sign}\\left(-\\prod_{j=1}^kf_{j}\\right)\\right|\\Theta\\left(-\\min_{j=1,\\dots,k}|f_{j}|\\textrm{sign}\\left(\\prod_{j=1}^kf_{j}\\right)\\right)\\\\\n",
    "&= 2f\\Theta(-f)\n",
    "\\end{align}\n",
    "\n",
    "So"
   ]
  },
  {
   "cell_type": "markdown",
   "metadata": {},
   "source": [
    "\\begin{align*}\n",
    "p\\left(f\\right)= & \\sum_{f_{1},\\dots,f_{k}}\\delta\\left(f;\\min_{j=1,\\dots,k}\\left|f_{j}\\right|\\prod_{j=1}^{k}\\text{sign}\\left(f_{j}\\right)\\right)\\prod_{j=1}^{k}q_j\\left(f_{j}\\right)e^{-y 2 f \\Theta(-f)}\\\\\n",
    "\\end{align*}"
   ]
  },
  {
   "cell_type": "markdown",
   "metadata": {},
   "source": [
    "To compute $p$, define\n",
    "\n",
    "\\begin{align*}\n",
    "a_k(f) &= p\\left(\\textrm{sign}\\left(\\prod_{i=1}^k f_i\\right)=\\textrm{sign}(f) \\wedge |f_1|,\\dots,|f_k| \\ge |f|\\right)\\\\\n",
    "\\end{align*}\n",
    "\n",
    "$a_k$ satisfies the recursion\n",
    "\n",
    "\\begin{align*}\n",
    "a_0(f) &= \\delta(\\textrm{sign}(f)-1)\\\\\n",
    "a_k(f) &= a_{k-1}(f) \\sum_{f_k\\geq |f|}q_k(f_k) + a_{k-1}(-f) \\sum_{f_k \\leq -|f|} q_k(f_k)\\\\\n",
    "\\end{align*}\n",
    "\n",
    "Then we finally have\n",
    "\n",
    "$$p_k(f) = \\cases{\\left\\{a_k(f)-a_k(f+\\textrm{sign}(f))\\right\\}e^{-y2f\\Theta(-f)} & for $f\\neq0$\\\\\n",
    "           1-\\prod_{j=1}^k(1-q_j(0)) & for $f=0$}$$\n"
   ]
  },
  {
   "cell_type": "code",
   "execution_count": 482,
   "metadata": {},
   "outputs": [
    {
     "data": {
      "text/plain": [
       "iter_factor (generic function with 2 methods)"
      ]
     },
     "execution_count": 482,
     "metadata": {},
     "output_type": "execute_result"
    }
   ],
   "source": [
    "function iter_factor(Q, J, y=0)\n",
    "    a = fill(0.0, -J-1:J+1)\n",
    "    a[1:J] .= 1\n",
    "    for q ∈ Q\n",
    "        Σp, Σm = 0.0, 0.0\n",
    "        for f=J:-1:1\n",
    "            ap, am = a[f], a[-f]\n",
    "            Σp += q[f]; Σm += q[-f]\n",
    "            #Σp, Σm = ∑(q[f:N]), ∑(q[-N:-f])\n",
    "            a[+f] = ap*Σp + am*Σm\n",
    "            a[-f] = am*Σp + ap*Σm\n",
    "        end\n",
    "    end\n",
    "    \n",
    "    p = fill(0.0, -J:J)\n",
    "    for f = 1:J\n",
    "        p[+f] = (a[+f]-a[+f+1])\n",
    "        p[-f] = (a[-f]-a[-f-1])*exp(2y*f)\n",
    "    end\n",
    "    p[0] = 1-∏(1-q[0] for q ∈ Q)\n",
    "    p ./ sum(p)\n",
    "end\n"
   ]
  },
  {
   "cell_type": "markdown",
   "metadata": {},
   "source": [
    "Comparison\n",
    "--"
   ]
  },
  {
   "cell_type": "code",
   "execution_count": 483,
   "metadata": {},
   "outputs": [
    {
     "data": {
      "text/plain": [
       "21×2 Matrix{Float64}:\n",
       " 0.0          0.0\n",
       " 0.681413     0.681413\n",
       " 0.202063     0.202063\n",
       " 0.097253     0.097253\n",
       " 0.0142603    0.0142603\n",
       " 0.00402553   0.00402553\n",
       " 0.000826539  0.000826539\n",
       " 0.000139875  0.000139875\n",
       " 1.49541e-5   1.49541e-5\n",
       " 1.52743e-6   1.52743e-6\n",
       " 9.84515e-7   9.84515e-7\n",
       " 2.01298e-7   2.01298e-7\n",
       " 2.76806e-7   2.76806e-7\n",
       " 3.51482e-7   3.51482e-7\n",
       " 2.7475e-7    2.7475e-7\n",
       " 1.75797e-7   1.75797e-7\n",
       " 8.59071e-8   8.59071e-8\n",
       " 8.1056e-8    8.1056e-8\n",
       " 2.05814e-8   2.05814e-8\n",
       " 1.03743e-8   1.03743e-8\n",
       " 0.0          0.0"
      ]
     },
     "execution_count": 483,
     "metadata": {},
     "output_type": "execute_result"
    }
   ],
   "source": [
    "J=10\n",
    "y=0.1\n",
    "Q=[(p=fill(0.0,-J:J); p[-9:9] .= rand(19); p ./=sum(p); p) for i=1:3]\n",
    "[iter_factor(Q,J,1) iter_slow_factor(Q,J,1)]"
   ]
  },
  {
   "cell_type": "markdown",
   "metadata": {},
   "source": [
    "The expression for $F_{ia}$ is"
   ]
  },
  {
   "cell_type": "markdown",
   "metadata": {},
   "source": [
    "\\begin{align*}\n",
    "    F_{ia} &=\\left|s + \\sum_{b=1}^d f_b\\right| - \\sum_{b=1}^d|f_b|\n",
    "\\end{align*}\n",
    "and\n",
    "\n",
    "\\begin{align*}\n",
    "q(f) &= \\sum_{f_1,\\dots,f_d} \\prod_{b=1,\\dots,d} p_b(f_b) \\delta\\left(f-s-\\sum_{b=1}^df_b\\right)e^{-y F_{ia}}\\\\\n",
    "&= e^{-y |f|}\\sum_{f_1,\\dots,f_d} \\prod_{b=1,\\dots,d} p_b(f_b)e^{y|f_b|} \\delta\\left(f-s-\\sum_{b=1}^df_b\\right)\\\\\n",
    "\\end{align*}\n",
    "\n",
    "\n",
    "To compute $q_d$, note that"
   ]
  },
  {
   "cell_type": "markdown",
   "metadata": {},
   "source": [
    "\\begin{align}\n",
    "q(f) &= q_d(f)e^{-y|f|}\n",
    "\\end{align}\n",
    "\n",
    "where $q_d$ satisfies\n",
    "\\begin{align}\n",
    "q_0(f) & = \\delta(f-s)\\\\\n",
    "q_d(f) & = \\sum_{f_d} q_{d-1}(f-f_d) p_d(f_d)e^{-y|f_d|} \n",
    "\\end{align}"
   ]
  },
  {
   "cell_type": "code",
   "execution_count": 488,
   "metadata": {},
   "outputs": [
    {
     "data": {
      "text/plain": [
       "iter_var (generic function with 2 methods)"
      ]
     },
     "execution_count": 488,
     "metadata": {},
     "output_type": "execute_result"
    }
   ],
   "source": [
    "function ⊛(p1, p2)\n",
    "    q = fill(0.0,firstindex(p1)+firstindex(p2):lastindex(p1)+lastindex(p2))\n",
    "    for f1 in eachindex(p1), f2 in eachindex(p2)\n",
    "        q[f1+f2] += p1[f1]*p2[f2]\n",
    "    end\n",
    "    q\n",
    "end\n",
    "\n",
    "function iter_var(P, s, J, y=0)\n",
    "    q = fill(1.0, s:s)\n",
    "    for p ∈ P\n",
    "        q = q ⊛ (p .* exp.(y .* abs.(eachindex(p))))\n",
    "    end\n",
    "    q .*= exp.(-y .* abs.(eachindex(q)))\n",
    "    q2 = fill(0.0, -J:J)\n",
    "    for f in eachindex(q)\n",
    "        q2[clamp(f,-J,J)] += q[f]\n",
    "    end\n",
    "    q2 ./= sum(q2)\n",
    "end"
   ]
  },
  {
   "cell_type": "markdown",
   "metadata": {},
   "source": [
    "Comparison\n",
    "--"
   ]
  },
  {
   "cell_type": "code",
   "execution_count": 465,
   "metadata": {},
   "outputs": [
    {
     "data": {
      "text/plain": [
       "21×2 Matrix{Float64}:\n",
       " 0.000352794  0.000352794\n",
       " 0.00291488   0.00291488\n",
       " 0.0166853    0.0166853\n",
       " 0.0364515    0.0364515\n",
       " 0.0573177    0.0573177\n",
       " 0.0875918    0.0875918\n",
       " 0.100169     0.100169\n",
       " 0.129575     0.129575\n",
       " 0.135759     0.135759\n",
       " 0.158586     0.158586\n",
       " 0.179919     0.179919\n",
       " 0.0331314    0.0331314\n",
       " 0.0117517    0.0117517\n",
       " 0.00948324   0.00948324\n",
       " 0.00764835   0.00764835\n",
       " 0.00719578   0.00719578\n",
       " 0.00684597   0.00684597\n",
       " 0.00514038   0.00514038\n",
       " 0.00436364   0.00436364\n",
       " 0.00411285   0.00411285\n",
       " 0.005005     0.005005"
      ]
     },
     "execution_count": 465,
     "metadata": {},
     "output_type": "execute_result"
    }
   ],
   "source": [
    "N=13\n",
    "y=1.0\n",
    "s=1\n",
    "P=[(p=fill(0.0,-J:J); p[-J:J] .= rand(2J+1); p ./=sum(p); p) for i=1:3]\n",
    "[iter_var(P,s,J,1) iter_slow_var(P,s,J,1)]"
   ]
  },
  {
   "cell_type": "code",
   "execution_count": 540,
   "metadata": {},
   "outputs": [
    {
     "data": {
      "text/plain": [
       "RSB (generic function with 1 method)"
      ]
     },
     "execution_count": 540,
     "metadata": {},
     "output_type": "execute_result"
    }
   ],
   "source": [
    "using Distributions, ProgressMeter, StatsBase\n",
    "\n",
    "uni(J) = fill(1/(2J+1), -J:J)\n",
    "residual(x) = (p=OffsetVector((x .* eachindex(x))[1:end], 0:lastindex(x)-1); p./=sum(p))\n",
    "\n",
    "function RSB(Λ, K; \n",
    "        maxiter=100, popsize=1000, J=10, \n",
    "        popP = fill(1/(2J+1), -J:J, popsize),\n",
    "        popQ = fill(1/(2J+1), -J:J, popsize), \n",
    "        y=0)\n",
    "    popsize = size(popP, 2)\n",
    "    Λ1 = residual(Λ)\n",
    "    K1 = residual(K)\n",
    "\n",
    "    wΛ1 = weights(Λ1)\n",
    "    wK1 = weights(K1)\n",
    "    @showprogress for t = 1:maxiter\n",
    "        for i = 1:popsize\n",
    "            d = sample(eachindex(Λ1), wΛ1)\n",
    "            k = sample(eachindex(K1), wK1)\n",
    "            Q = [@view popQ[:, j] for j ∈ rand(1:popsize, k)]\n",
    "            P = [@view popP[:, j] for j ∈ rand(1:popsize, d)]\n",
    "            s = rand((-1,1))\n",
    "            popQ[:, i] .= iter_var(P, s, J, y)\n",
    "            popP[:, i] .= iter_factor(Q, J, y)\n",
    "        end\n",
    "    end\n",
    "    popP, popQ\n",
    "end"
   ]
  },
  {
   "cell_type": "code",
   "execution_count": 520,
   "metadata": {
    "scrolled": true
   },
   "outputs": [
    {
     "name": "stdout",
     "output_type": "stream",
     "text": [
      "R = 1 - ∑((d * Λ[d] for d = eachindex(Λ))) / ∑((k * K[k] for k = eachindex(K))) = 0.2666666666666666\n"
     ]
    },
    {
     "data": {
      "text/plain": [
       "10000"
      ]
     },
     "execution_count": 520,
     "metadata": {},
     "output_type": "execute_result"
    }
   ],
   "source": [
    "Λ = OffsetVector([0,0,0.8,0.2], 0:3)\n",
    "K = OffsetVector([0,0,0,1], 0:3)\n",
    "@show R = 1- ∑(d*Λ[d] for d=eachindex(Λ)) / ∑(k*K[k] for k=eachindex(K))\n",
    "J=10\n",
    "popsize=10000"
   ]
  },
  {
   "cell_type": "code",
   "execution_count": 521,
   "metadata": {
    "scrolled": true
   },
   "outputs": [
    {
     "name": "stderr",
     "output_type": "stream",
     "text": [
      "\u001b[32mProgress: 100%|█████████████████████████████████████████| Time: 0:00:23\u001b[39m\n"
     ]
    }
   ],
   "source": [
    "popP, popQ = RSB(Λ,K; J=J, maxiter=500, popsize=popsize, y=0.0);"
   ]
  },
  {
   "cell_type": "code",
   "execution_count": 529,
   "metadata": {},
   "outputs": [
    {
     "name": "stdout",
     "output_type": "stream",
     "text": [
      "∑((popP[c, i] for (i, c) = enumerate(centers))) / size(popP, 2) = 0.6568340355494686\n"
     ]
    },
    {
     "data": {
      "text/plain": [
       "7×2 Matrix{Float64}:\n",
       " -3.0  0.0012\n",
       " -2.0  0.0276\n",
       " -1.0  0.2366\n",
       "  0.0  0.4643\n",
       "  1.0  0.2389\n",
       "  2.0  0.0303\n",
       "  3.0  0.0011"
      ]
     },
     "execution_count": 529,
     "metadata": {},
     "output_type": "execute_result"
    }
   ],
   "source": [
    "using StatsBase\n",
    "\n",
    "centers = argmax.(eachcol(popP))\n",
    "@show ∑(popP[c,i] for (i,c) in enumerate(centers)) / size(popP, 2)\n",
    "vals = span(centers)\n",
    "[vals proportions(centers, vals)]"
   ]
  },
  {
   "cell_type": "code",
   "execution_count": 507,
   "metadata": {},
   "outputs": [
    {
     "data": {
      "text/plain": [
       "10-element view(::Matrix{Float64}, :, 2) with eltype Float64:\n",
       " 0.6673198222208538\n",
       " 0.15963036679075615\n",
       " 0.31846789801043185\n",
       " 0.03979827979902595\n",
       " 0.5734140902174112\n",
       " 0.20323351984229676\n",
       " 0.05961124478780544\n",
       " 0.6952933229568699\n",
       " 0.8523669613774547\n",
       " 0.839011405614078"
      ]
     },
     "execution_count": 507,
     "metadata": {},
     "output_type": "execute_result"
    }
   ],
   "source": [
    "a=rand(10,3); va = @view a[:,[1,2]]"
   ]
  },
  {
   "cell_type": "code",
   "execution_count": 509,
   "metadata": {},
   "outputs": [
    {
     "data": {
      "text/plain": [
       "10-element Vector{Int64}:\n",
       "  1\n",
       "  2\n",
       "  3\n",
       "  4\n",
       "  5\n",
       "  6\n",
       "  7\n",
       "  8\n",
       "  9\n",
       " 10"
      ]
     },
     "execution_count": 509,
     "metadata": {},
     "output_type": "execute_result"
    }
   ],
   "source": [
    "abs.(eachindex(va))"
   ]
  },
  {
   "cell_type": "code",
   "execution_count": 493,
   "metadata": {},
   "outputs": [
    {
     "data": {
      "text/plain": [
       "21×10 OffsetArray(::Matrix{Float64}, -10:10, 1:10) with eltype Float64 with indices -10:10×1:10:\n",
       " 0.047619  0.047619  0.047619  0.047619  …  0.047619  0.047619  0.047619\n",
       " 0.047619  0.047619  0.047619  0.047619     0.047619  0.047619  0.047619\n",
       " 0.047619  0.047619  0.047619  0.047619     0.047619  0.047619  0.047619\n",
       " 0.047619  0.047619  0.047619  0.047619     0.047619  0.047619  0.047619\n",
       " 0.047619  0.047619  0.047619  0.047619     0.047619  0.047619  0.047619\n",
       " 0.047619  0.047619  0.047619  0.047619  …  0.047619  0.047619  0.047619\n",
       " 0.047619  0.047619  0.047619  0.047619     0.047619  0.047619  0.047619\n",
       " 0.047619  0.047619  0.047619  0.047619     0.047619  0.047619  0.047619\n",
       " 0.047619  0.047619  0.047619  0.047619     0.047619  0.047619  0.047619\n",
       " 0.047619  0.047619  0.047619  0.047619     0.047619  0.047619  0.047619\n",
       " 0.047619  0.047619  0.047619  0.047619  …  0.047619  0.047619  0.047619\n",
       " 0.047619  0.047619  0.047619  0.047619     0.047619  0.047619  0.047619\n",
       " 0.047619  0.047619  0.047619  0.047619     0.047619  0.047619  0.047619\n",
       " 0.047619  0.047619  0.047619  0.047619     0.047619  0.047619  0.047619\n",
       " 0.047619  0.047619  0.047619  0.047619     0.047619  0.047619  0.047619\n",
       " 0.047619  0.047619  0.047619  0.047619  …  0.047619  0.047619  0.047619\n",
       " 0.047619  0.047619  0.047619  0.047619     0.047619  0.047619  0.047619\n",
       " 0.047619  0.047619  0.047619  0.047619     0.047619  0.047619  0.047619\n",
       " 0.047619  0.047619  0.047619  0.047619     0.047619  0.047619  0.047619\n",
       " 0.047619  0.047619  0.047619  0.047619     0.047619  0.047619  0.047619\n",
       " 0.047619  0.047619  0.047619  0.047619  …  0.047619  0.047619  0.047619"
      ]
     },
     "execution_count": 493,
     "metadata": {},
     "output_type": "execute_result"
    }
   ],
   "source": [
    "a=fill(1/(2J+1), -J:J, 10)"
   ]
  },
  {
   "cell_type": "code",
   "execution_count": 544,
   "metadata": {},
   "outputs": [
    {
     "name": "stderr",
     "output_type": "stream",
     "text": [
      "\u001b[32mProgress: 100%|█████████████████████████████████████████| Time: 0:02:58\u001b[39m\n"
     ]
    },
    {
     "name": "stdout",
     "output_type": "stream",
     "text": [
      "1 - α = 0.32933333333333337\n",
      "deltaw = 1.0\n",
      "delta2w = 1.0\n"
     ]
    },
    {
     "name": "stderr",
     "output_type": "stream",
     "text": [
      "\u001b[32mProgress: 100%|█████████████████████████████████████████| Time: 0:02:34\u001b[39m\n"
     ]
    },
    {
     "name": "stdout",
     "output_type": "stream",
     "text": [
      "1 - α = 0.3286666666666668\n",
      "deltaw = 1.0\n",
      "delta2w = 1.0\n"
     ]
    },
    {
     "name": "stderr",
     "output_type": "stream",
     "text": [
      "\u001b[32mProgress: 100%|█████████████████████████████████████████| Time: 0:02:36\u001b[39m\n"
     ]
    },
    {
     "name": "stdout",
     "output_type": "stream",
     "text": [
      "1 - α = 0.32799999999999996\n",
      "deltaw = 1.0\n",
      "delta2w = 1.0\n"
     ]
    },
    {
     "name": "stderr",
     "output_type": "stream",
     "text": [
      "\u001b[32mProgress: 100%|█████████████████████████████████████████| Time: 0:02:36\u001b[39m\n"
     ]
    },
    {
     "name": "stdout",
     "output_type": "stream",
     "text": [
      "1 - α = 0.32733333333333337\n",
      "deltaw = 1.0\n",
      "delta2w = 1.0\n"
     ]
    },
    {
     "name": "stderr",
     "output_type": "stream",
     "text": [
      "\u001b[32mProgress: 100%|█████████████████████████████████████████| Time: 0:02:37\u001b[39m\n"
     ]
    },
    {
     "name": "stdout",
     "output_type": "stream",
     "text": [
      "1 - α = 0.32666666666666666\n",
      "deltaw = 0.9999631112459477\n",
      "delta2w = 0.9999999999992804\n"
     ]
    },
    {
     "name": "stderr",
     "output_type": "stream",
     "text": [
      "\u001b[32mProgress: 100%|█████████████████████████████████████████| Time: 0:02:37\u001b[39m\n"
     ]
    },
    {
     "name": "stdout",
     "output_type": "stream",
     "text": [
      "1 - α = 0.32600000000000007\n",
      "deltaw = 0.9712894474569235\n",
      "delta2w = 0.999940993861664\n"
     ]
    },
    {
     "name": "stderr",
     "output_type": "stream",
     "text": [
      "\u001b[32mProgress: 100%|█████████████████████████████████████████| Time: 0:02:44\u001b[39m\n"
     ]
    },
    {
     "name": "stdout",
     "output_type": "stream",
     "text": [
      "1 - α = 0.32533333333333336\n",
      "deltaw = 0.9681679183194659\n",
      "delta2w = 0.9998960419977299\n"
     ]
    },
    {
     "name": "stderr",
     "output_type": "stream",
     "text": [
      "\u001b[32mProgress: 100%|█████████████████████████████████████████| Time: 0:02:48\u001b[39m\n"
     ]
    },
    {
     "name": "stdout",
     "output_type": "stream",
     "text": [
      "1 - α = 0.32466666666666677\n",
      "deltaw = 0.9472608810310218\n",
      "delta2w = 0.999783964113541\n"
     ]
    },
    {
     "name": "stderr",
     "output_type": "stream",
     "text": [
      "\u001b[32mProgress: 100%|█████████████████████████████████████████| Time: 0:02:37\u001b[39m\n"
     ]
    },
    {
     "name": "stdout",
     "output_type": "stream",
     "text": [
      "1 - α = 0.32399999999999995\n",
      "deltaw = 0.9547002550166986\n",
      "delta2w = 0.9997961669144851\n"
     ]
    },
    {
     "name": "stderr",
     "output_type": "stream",
     "text": [
      "\u001b[32mProgress: 100%|█████████████████████████████████████████| Time: 0:02:36\u001b[39m\n"
     ]
    },
    {
     "name": "stdout",
     "output_type": "stream",
     "text": [
      "1 - α = 0.32333333333333336\n",
      "deltaw = 0.9555366008841202\n",
      "delta2w = 0.9997797996974818\n"
     ]
    },
    {
     "name": "stderr",
     "output_type": "stream",
     "text": [
      "\u001b[32mProgress: 100%|█████████████████████████████████████████| Time: 0:02:36\u001b[39m\n"
     ]
    },
    {
     "name": "stdout",
     "output_type": "stream",
     "text": [
      "1 - α = 0.32266666666666666\n",
      "deltaw = 0.9396217298030546\n",
      "delta2w = 0.9994789628479218\n"
     ]
    },
    {
     "name": "stderr",
     "output_type": "stream",
     "text": [
      "\u001b[32mProgress: 100%|█████████████████████████████████████████| Time: 0:02:37\u001b[39m\n"
     ]
    },
    {
     "name": "stdout",
     "output_type": "stream",
     "text": [
      "1 - α = 0.32200000000000006\n",
      "deltaw = 0.9391217492631045\n",
      "delta2w = 0.9993590813938954\n"
     ]
    },
    {
     "name": "stderr",
     "output_type": "stream",
     "text": [
      "\u001b[32mProgress: 100%|█████████████████████████████████████████| Time: 0:02:38\u001b[39m\n"
     ]
    },
    {
     "name": "stdout",
     "output_type": "stream",
     "text": [
      "1 - α = 0.32133333333333336\n",
      "deltaw = 0.9416380653128661\n",
      "delta2w = 0.9992824144599286\n"
     ]
    },
    {
     "name": "stderr",
     "output_type": "stream",
     "text": [
      "\u001b[32mProgress: 100%|█████████████████████████████████████████| Time: 0:03:39\u001b[39m\n"
     ]
    },
    {
     "name": "stdout",
     "output_type": "stream",
     "text": [
      "1 - α = 0.32066666666666677\n",
      "deltaw = 0.9221032149456296\n",
      "delta2w = 0.9990571132648244\n"
     ]
    },
    {
     "name": "stderr",
     "output_type": "stream",
     "text": [
      "\u001b[32mProgress: 100%|█████████████████████████████████████████| Time: 0:04:29\u001b[39m\n"
     ]
    },
    {
     "name": "stdout",
     "output_type": "stream",
     "text": [
      "1 - α = 0.31999999999999995\n",
      "deltaw = 0.9157477265484466\n",
      "delta2w = 0.9988322848120129\n"
     ]
    },
    {
     "data": {
      "text/plain": [
       "15-element Vector{Tuple{Float64, Float64, Float64}}:\n",
       " (0.32933333333333337, 1.0, 1.0)\n",
       " (0.3286666666666668, 1.0, 1.0)\n",
       " (0.32799999999999996, 1.0, 1.0)\n",
       " (0.32733333333333337, 1.0, 1.0)\n",
       " (0.32666666666666666, 0.9999631112459477, 0.9999999999992804)\n",
       " (0.32600000000000007, 0.9712894474569235, 0.999940993861664)\n",
       " (0.32533333333333336, 0.9681679183194659, 0.9998960419977299)\n",
       " (0.32466666666666677, 0.9472608810310218, 0.999783964113541)\n",
       " (0.32399999999999995, 0.9547002550166986, 0.9997961669144851)\n",
       " (0.32333333333333336, 0.9555366008841202, 0.9997797996974818)\n",
       " (0.32266666666666666, 0.9396217298030546, 0.9994789628479218)\n",
       " (0.32200000000000006, 0.9391217492631045, 0.9993590813938954)\n",
       " (0.32133333333333336, 0.9416380653128661, 0.9992824144599286)\n",
       " (0.32066666666666677, 0.9221032149456296, 0.9990571132648244)\n",
       " (0.31999999999999995, 0.9157477265484466, 0.9988322848120129)"
      ]
     },
     "execution_count": 544,
     "metadata": {},
     "output_type": "execute_result"
    }
   ],
   "source": [
    "res = map(0.012:0.002:0.04) do t\n",
    "    Λ = OffsetVector([0,0,1-t,t], 0:3)\n",
    "    K = OffsetVector([0,0,0,1], 0:3)\n",
    "    J=10\n",
    "    popsize=10000\n",
    "    α = ∑(d*Λ[d] for d=eachindex(Λ)) / ∑(k*K[k] for k=eachindex(K))\n",
    "    popP, popQ = RSB(Λ,K; J=J, maxiter=5000, popsize=popsize,  y=0.0);\n",
    "    centers = argmax.(eachcol(popP))\n",
    "    deltaw = ∑(popP[c,i] for (i,c) in enumerate(centers)) / size(popP, 2)\n",
    "    delta2w = ∑(popP[c,i] + max(popP[c-1,i],popP[c+1,i]) for (i,c) in enumerate(centers)) / size(popP, 2)\n",
    "    @show 1-α  deltaw  delta2w\n",
    "    1-α, deltaw, delta2w\n",
    "end"
   ]
  },
  {
   "cell_type": "code",
   "execution_count": 548,
   "metadata": {},
   "outputs": [
    {
     "data": {
      "image/png": "[encoded data removed]",
      "text/plain": [
       "Figure(PyObject <Figure size 640x480 with 1 Axes>)"
      ]
     },
     "metadata": {},
     "output_type": "display_data"
    },
    {
     "data": {
      "text/plain": [
       "PyObject <matplotlib.legend.Legend object at 0x7f03e54c3cd0>"
      ]
     },
     "execution_count": 548,
     "metadata": {},
     "output_type": "execute_result"
    }
   ],
   "source": [
    "using Unzip, PyPlot\n",
    "R,d1,d2 = unzip(res)\n",
    "plot(R,d1, \"o\" ,label=\"1δ\")\n",
    "plot(R,d2, \"+\", label=\"2δ\")\n",
    "legend()"
   ]
  },
  {
   "cell_type": "markdown",
   "metadata": {},
   "source": [
    "1RSB equations for Max-Sum (Survey Propagation) at finite parameter $y$\n",
    "---\n",
    "We consider the auxiliary statistical physics model\n",
    "\\begin{align}\n",
    "    P_y(\\{u_{ai},u_{ia}\\})=\\frac{1}{Z(y)}\\mathbb{I}\\left(\\{u_{ai},u_{ia}\\}\\text{sat Max-Sum}\\right)e^{-yF(\\{u_{ai},u_{ia}\\})}\n",
    "\\end{align}\n",
    "in which the variables are the Max-Sum messages living on the edges, and the constraints (that can be put in a factorized form) enforces the Max-Sum equations to be satisfied. Each Max-Sum solution represents a cluster. The Max-Sum solutions are weighted according to their Bethe free energy, which corresponds to the minimal energy (inside the cluster). In the $y\\to\\infty$ limit one keeps only the clusters with minimal energy\n",
    "\n",
    "* The distributions $Q_{ia}(u_{ia})$, $Q_{ai}(u_{ai})$ over Max-Sum messages obey the 1RSB equations :\n",
    "\\begin{align}\n",
    "    Q_{ia}(u_{ia})&=\\frac{1}{Z_{ia}}\\sum_{\\{u_{bi}\\}_{b\\in\\partial i\\setminus a}}\\delta(u_{ia}-f^{MS}_{ia}(\\{u_{bi}\\}_{b\\in\\partial i\\setminus a}))e^{-yC_{ia}}\\prod_{b\\in\\partial i\\setminus a}Q_{bi}(u_{bi}) \\\\\n",
    "    Q_{ai}(u_{ai})&=\\frac{1}{Z_{ai}}\\sum_{\\{u_{ja}\\}_{j\\in\\partial a\\setminus i}}\\delta(u_{ai}-f^{MS}_{ai}(\\{u_{ja}\\}_{j\\in\\partial a\\setminus i}))e^{-yC_{ai}}\\prod_{j\\in\\partial a\\setminus i}Q_{ja}(u_{ja})    \n",
    "\\end{align}\n",
    "where $u_{ia}=f^{MS}_{ia}(\\{u_{bi}\\}_{b\\in\\partial i\\setminus a})$, and $u_{ai}=f^{MS}_{ai}(\\{u_{ja}\\}_{j\\in\\partial a\\setminus i})$ are shorthand notation for the Max-Sum equations\n",
    "\\begin{align}\n",
    "    u_{ia}(\\sigma_i)&=s_i\\sigma_i+ \\sum_{b\\in\\partial i\\setminus a}u_{bi}(\\sigma_i) - C_{ia}\\\\\n",
    "    u_{ai}(\\sigma_i)&=\\max_{\\{\\sigma_j\\}_{j\\in\\partial a\\setminus i}:{\\rm sat}}\\left(\\sum_{j\\in\\partial a\\setminus i}u_{ja}(\\sigma_j)\\right) - C_{ai}\n",
    "\\end{align}\n",
    "and $C_{ia}$, $C_{ai}$ are the constants in the Max-Sum equations\n",
    "\\begin{align}\n",
    "    C_{ia}&=\\max_{\\sigma_i}\\left(s_i\\sigma_i+ \\sum_{b\\in\\partial i\\setminus a}u_{bi}(\\sigma_i)\\right)\\\\\n",
    "    C_{ai}&=\\max_{\\{\\sigma_i\\}_{i\\in\\partial a}:{\\rm sat}}\\left(\\sum_{j\\in\\partial a\\setminus i}u_{ja}(\\sigma_j)\\right)\n",
    "\\end{align}\n",
    "the constants $Z_{ia}$, $Z_{ai}$ are normalizations of the distributions $Q_{ia}$, $Q_{ai}$ over the Max-Sum messages\n",
    "\n",
    "* With the parametrization $u_{ai} = f_{ai}\\sigma_i+g_{ai}$ we get:\n",
    "\\begin{equation}\n",
    "    g_{ai} = -\\frac{1}{\\beta}\\log(2{\\rm cosh}(\\beta f_{ai})\\to-|f_{ai}|\n",
    "\\end{equation}\n",
    "Therefore :\n",
    "\\begin{align*}\n",
    "    C_{ia}&=\\max_{\\sigma_i}\\left(\\sigma_i\\left(s_i+ \\sum_{b\\in\\partial i\\setminus a}f_{bi}\\right)\\right) + \\sum_{b\\in\\partial i\\setminus a}g_{bi}\\\\\n",
    "    &=\\left|s_i+ \\sum_{b\\in\\partial i\\setminus a}f_{bi}\\right| - \\sum_{b\\in\\partial i\\setminus a}|f_{bi}|\n",
    "\\end{align*}\n",
    "and\n",
    "\\begin{align*}\n",
    "    C_{ai}&=\\max_{\\{\\sigma_i\\}_{i\\in\\partial a}:{\\rm sat}}\\left(\\sum_{j\\in\\partial a\\setminus i}f_{ja}\\sigma_j\\right)-\\sum_{j\\in\\partial a\\setminus i}|f_{ja}|\\\\\n",
    "    &= -2\\min_{j\\in\\partial a\\setminus i}|f_{ja}|\\Theta\\left(-\\prod_{j\\in\\partial a\\setminus j}f_{ja}\\right)\n",
    "\\end{align*}\n",
    "\n",
    "* We can then write the same 1RSB equations for the distributions $P_{ia}(f_{ia})$, $P_{ai}(f_{ai})$ over the integer parameters $f_{ia}$, $f_{ai}$. We can also write a closed equation on the distribution $P_{ai}$, using that :\n",
    "\\begin{equation}\n",
    "    P_{ai}(f_{ia})=\\frac{1}{Z_{ia}}\\sum_{\\{f_{bj}\\}_{j\\in\\partial a \\setminus i, b\\in\\partial j\\setminus a}}\\delta(f_{ia}-F^{MS}(\\{f_{bj}\\})e^{-y\\left(C_{ai}+\\sum_{j\\in\\partial a\\setminus i}C_{ja}\\right)}\\prod_{j\\in\\partial a \\setminus i, b\\in\\partial j\\setminus a}P_{bj}(f_{bj})\n",
    "\\end{equation}\n",
    "with:\n",
    "\\begin{align*}\n",
    "    C_{ai}+\\sum_{j\\in\\partial a\\setminus i}C_{ja} &= \\max_{\\sigma:sat}\\left(\\sum_{j\\in\\partial a \\setminus i}\\sigma_j\\left(s_j + \\sum_{b\\in\\partial j\\setminus a}f_{bj}\\right)\\right)-\\sum_{j\\in\\partial a\\setminus i}\\sum_{b\\in\\partial j\\setminus a}|f_{bj}|\n",
    "\\end{align*}\n",
    "\n",
    "* Random graph ensemble\n",
    "When the source and the factor graph are random variables the 1RSB messages $P_{ai}$, $(a,i)\\in E$ become random variables. Let $(a,i)$ be a uniformly chosen edge in a factor graph drawn from the random ensembl, and let $\\mathcal{P}$ be the distribution of the message $P_{ai}$ solution of the 1RSB equation written above. The distribution $\\mathcal{P}(p)$ obey consistency equation similar to the RS cavity equations:\n",
    "\\begin{align}\n",
    "    \\mathcal{P}(P)=\\sum_{k}\\tilde{P}_k\\sum_{d_1,\\dots, d_k}\\left(\\prod_{i=1}^k\\tilde{\\Lambda}_{d_i}\\right)\\int\\prod_{i=1}^k\\prod_{j=1}^{d_i}{\\rm d}\\mathcal{P}(P_{ij})\\delta(P-F^{1RSB}(\\{P_{i,j}\\}))\n",
    "\\end{align}\n",
    "This equation always admits a trivial fixed point $\\mathcal{P}(P)=\\delta[P-p^{RS}]$, where $p^{RS}$ is the solution of the RS cavity equation.\n",
    "In the RS phase, this trivial fixed-point is the unique solution, while in the 1RSB phase, the trivial solution becomes unstable and the above equation admits a non-trivial solution."
   ]
  },
  {
   "cell_type": "code",
   "execution_count": null,
   "metadata": {},
   "outputs": [],
   "source": []
  }
 ],
 "metadata": {
  "kernelspec": {
   "display_name": "Julia 1.6.0-beta1",
   "language": "julia",
   "name": "julia-1.6"
  },
  "language_info": {
   "file_extension": ".jl",
   "mimetype": "application/julia",
   "name": "julia",
   "version": "1.6.0"
  }
 },
 "nbformat": 4,
 "nbformat_minor": 4
}
