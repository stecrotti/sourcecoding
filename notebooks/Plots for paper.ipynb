{
 "cells": [
  {
   "cell_type": "markdown",
   "metadata": {},
   "source": [
    "## 1. RS, MaxSum, Exact algo"
   ]
  },
  {
   "cell_type": "markdown",
   "metadata": {},
   "source": [
    "### RS"
   ]
  },
  {
   "cell_type": "code",
   "execution_count": 136,
   "metadata": {},
   "outputs": [],
   "source": [
    "R_rs = 0.01:0.01:0.99\n",
    "D_rs = [0.4546474073128681,0.43565049932361133,0.42092765046912317,0.40839439222208573,0.3972457420215144,0.3870702443196218,0.3776242651788484,0.36874955806591975,0.3603365352601175,0.3523056385673838,0.34459697668198624,0.33716414626734653,0.3299703418625086,0.3229857971761951,0.31618604029437997,0.30955066735206993,0.30306245811343413,0.2967067238049428,0.2904708168067388,0.2843437556958753,0.2783159341345032,0.27237889177802405,0.26652513178257226,0.2607479738209666,0.2550414345013817,0.24940012917780852,0.2438191906350483,0.2382942012118009,0.2328211357178961,0.22739631308980668,0.22201635516998064,0.21667815133009227,0.211378827914124,0.20688352899753953,0.20278317659003975,0.19868817793711935,0.1945975994415784,0.19051056552023182,0.18642625421128822,0.18234389327612,0.17826275673045133,0.17418216174918932,0.17010146589683228,0.16602006464188257,0.16193738911916555,0.15785290410864755,0.1537661062033548,0.14967652214243293,0.1455837072883871,0.14148724423013948,0.137998366107847,0.13448740638286893,0.13095421069018287,0.12739865696194796,0.12382065470933767,0.12022014422138577,0.11659709568295457,0.1129515082152911,0.10928340884389087,0.10559285139949881,0.10231362606715677,0.0989986151678956,0.09564794614910743,0.0922617930523803,0.0888403753926773,0.08538395674018595,0.0820151560863665,0.0788488704133426,0.07563678673548502,0.07237911796887381,0.06907615625262697,0.06591319349557895,0.06283584277258297,0.05970319879491964,0.056515457092013055,0.053562785457060835,0.05054512262289507,0.04752198628196386,0.04463641809759822,0.04167585667427448,0.0388827836051418,0.03604608454052277,0.033304960430999175,0.03060809220840449,0.027952952887639493,0.025359146185103376,0.022832861932172044,0.020370784947590925,0.017979055383501308,0.015666129177374533,0.013449978144655372,0.0113201258591068,0.009302254807509736,0.007397829094439923,0.0056264302423451595,0.004010648891537405,0.002577264143732827,0.0013672330158682189,0.0004509986577261871];"
   ]
  },
  {
   "cell_type": "code",
   "execution_count": 137,
   "metadata": {},
   "outputs": [],
   "source": [
    "Rs = 0.15:0.05:0.7\n",
    "Λ = [0, 1]\n",
    "Ks = [zeros(0) for _ in Rs]\n",
    "for (i,R) in enumerate(Rs)\n",
    "    α = 1-R\n",
    "    k = floor(Int, 2/α)\n",
    "    s = k+1-2/α\n",
    "    K = [fill(0,k-1); s; 1-s]\n",
    "    Ks[i] = K ./ sum(K)\n",
    "end"
   ]
  },
  {
   "cell_type": "markdown",
   "metadata": {},
   "source": [
    "### Exact algo"
   ]
  },
  {
   "cell_type": "code",
   "execution_count": 138,
   "metadata": {},
   "outputs": [
    {
     "data": {
      "text/plain": [
       "f (generic function with 2 methods)"
      ]
     },
     "execution_count": 138,
     "metadata": {},
     "output_type": "execute_result"
    }
   ],
   "source": [
    "function f(n, Rs, navg_exact, Ks, Λ, D_exact, verbose=true)\n",
    "    for i in eachindex(Rs)\n",
    "        m = round(Int,n*(1-Rs[i])); nedges = 2n\n",
    "        Threads.@threads for j in 1:navg_exact\n",
    "            H = permutedims(ldpc_matrix(n, m, nedges, Λ, Ks[i]))\n",
    "            s = rand((-1,1),n)\n",
    "            ovl, _, _ = findsol(H, s, verbose=false)\n",
    "            D_exact[i][j] = (1-ovl)/2\n",
    "        end\n",
    "        verbose && println(\"Rate $(Rs[i]) done\")\n",
    "        flush(stdout)\n",
    "    end\n",
    "    mean.(D_exact)\n",
    "end    "
   ]
  },
  {
   "cell_type": "code",
   "execution_count": 139,
   "metadata": {},
   "outputs": [
    {
     "name": "stdout",
     "output_type": "stream",
     "text": [
      "Rate 0.15 done\n",
      "Rate 0.2 done\n",
      "Rate 0.25 done\n",
      "Rate 0.3 done\n",
      "Rate 0.35 done\n",
      "Rate 0.4 done\n",
      "Rate 0.45 done\n",
      "Rate 0.5 done\n",
      "Rate 0.55 done\n",
      "Rate 0.6 done\n",
      "Rate 0.65 done\n",
      "Rate 0.7 done\n"
     ]
    }
   ],
   "source": [
    "n = 1200\n",
    "navg_exact = 500\n",
    "D_exact = [zeros(navg_exact) for _ in Rs]\n",
    "D_exact_avg = f(n, Rs, navg_exact, Ks, Λ, D_exact);"
   ]
  },
  {
   "cell_type": "markdown",
   "metadata": {},
   "source": [
    "### MaxSum"
   ]
  },
  {
   "cell_type": "code",
   "execution_count": 547,
   "metadata": {},
   "outputs": [
    {
     "data": {
      "text/plain": [
       "ff (generic function with 1 method)"
      ]
     },
     "execution_count": 547,
     "metadata": {},
     "output_type": "execute_result"
    }
   ],
   "source": [
    "function ff(n, Rs, navg, Ks, Λ, D_ms, D_exact; verbose=true, maxiter=10^2, kw...)\n",
    "    efield = [(.0,.0) for _ in 1:n]\n",
    "    s = zeros(Int, n)\n",
    "    for i in eachindex(Rs)\n",
    "        m = round(Int,n*(1-Rs[i])); nedges = 2n\n",
    "        vars = rand(1:n, n*2÷3); factors=rand(1:m-1, m*2÷3)\n",
    "        for j in 1:navg\n",
    "            Ht = ldpc_matrix(n, m, nedges, Λ, Ks[i]; accept_multi_edges=false)[:,1:end-1]\n",
    "            H = permutedims(Ht)\n",
    "            s .= rand((-1.,1.),n)\n",
    "            efield .= [(si,-si).+ 1e-5.*(randn(),randn()) for si in s]\n",
    "            ms = BPFull(H, efield)\n",
    "            ε, iters = iteration_ms!(ms, maxiter=maxiter;\n",
    "                vars=vars, factors=factors, kw...)\n",
    "            @show nunsat, ovl, dist = performance(ms, s)\n",
    "            flush(stdout)\n",
    "            if nunsat!=0\n",
    "                B,indep = findbasis(H, Ht)\n",
    "                x = argmax.(ms.belief) .== 2\n",
    "                σ = fix_indep!(x, B, indep)   \n",
    "                D_ms[i][j] = distortion(σ,s)\n",
    "                verbose && @show D_ms[i][j], dist\n",
    "            else\n",
    "                D_ms[i][j] = dist\n",
    "                verbose && println(\"R=\", Rs[i], \". avg $j of $navg. Converged\")\n",
    "            end\n",
    "            ovl, _, _ = findsol(H, s, verbose=false)\n",
    "            D_exact[i][j] = (1-ovl)/2\n",
    "        end\n",
    "        println(\"Rate $(Rs[i]) done\")\n",
    "        flush(stdout)\n",
    "    end\n",
    "    mean.(D_ms), mean.(D_exact)\n",
    "end"
   ]
  },
  {
   "cell_type": "code",
   "execution_count": 544,
   "metadata": {},
   "outputs": [
    {
     "data": {
      "text/plain": [
       "cb_decimation (generic function with 2 methods)"
      ]
     },
     "execution_count": 544,
     "metadata": {},
     "output_type": "execute_result"
    }
   ],
   "source": [
    "include(\"../code/bp_full.jl\")\n",
    "include(\"../code/optimal_cycle.jl\")\n",
    "include(\"../code/rs.jl\")\n",
    "include(\"../code/bp.jl\")"
   ]
  },
  {
   "cell_type": "code",
   "execution_count": null,
   "metadata": {
    "scrolled": true
   },
   "outputs": [
    {
     "name": "stdout",
     "output_type": "stream",
     "text": [
      "(nunsat, ovl, dist) = performance(ms, s) = (2, 0.36, 0.32)\n",
      "(nunsat, ovl, dist) = performance(ms, s) = (1, 0.3566666666666667, 0.32166666666666666)\n",
      "(nunsat, ovl, dist) = performance(ms, s) = (1, 0.3783333333333333, 0.31083333333333335)\n",
      "(nunsat, ovl, dist) = performance(ms, s) = (1, 0.365, 0.3175)\n",
      "(nunsat, ovl, dist) = performance(ms, s) = (4, 0.385, 0.3075)\n",
      "(nunsat, ovl, dist) = performance(ms, s) = (1, 0.375, 0.3125)\n",
      "(nunsat, ovl, dist) = performance(ms, s) = (1, 0.385, 0.3075)\n",
      "(nunsat, ovl, dist) = performance(ms, s) = (2, 0.365, 0.3175)\n",
      "(nunsat, ovl, dist) = performance(ms, s) = (2, 0.3533333333333334, 0.3233333333333333)\n",
      "(nunsat, ovl, dist) = performance(ms, s) = (1, 0.3616666666666667, 0.31916666666666665)\n",
      "(nunsat, ovl, dist) = performance(ms, s) = (2, 0.35, 0.325)\n",
      "(nunsat, ovl, dist) = performance(ms, s) = (4, 0.365, 0.3175)\n",
      "(nunsat, ovl, dist) = performance(ms, s) = (1, 0.3716666666666667, 0.31416666666666665)\n",
      "(nunsat, ovl, dist) = performance(ms, s) = (2, 0.3583333333333333, 0.32083333333333336)\n",
      "(nunsat, ovl, dist) = performance(ms, s) = (1, 0.375, 0.3125)\n",
      "(nunsat, ovl, dist) = performance(ms, s) = (0, 0.3583333333333333, 0.32083333333333336)\n",
      "(nunsat, ovl, dist) = performance(ms, s) = (1, 0.3916666666666667, 0.30416666666666664)\n",
      "(nunsat, ovl, dist) = performance(ms, s) = (1, 0.365, 0.3175)\n",
      "(nunsat, ovl, dist) = performance(ms, s) = (0, 0.36, 0.32)\n",
      "(nunsat, ovl, dist) = performance(ms, s) = (2, 0.37, 0.315)\n",
      "(nunsat, ovl, dist) = performance(ms, s) = (0, 0.39, 0.305)\n",
      "(nunsat, ovl, dist) = performance(ms, s) = (4, 0.39, 0.305)\n",
      "(nunsat, ovl, dist) = performance(ms, s) = (3, 0.3783333333333333, 0.31083333333333335)\n",
      "(nunsat, ovl, dist) = performance(ms, s) = (2, 0.375, 0.3125)\n",
      "(nunsat, ovl, dist) = performance(ms, s) = (1, 0.3566666666666667, 0.32166666666666666)\n",
      "(nunsat, ovl, dist) = performance(ms, s) = (1, 0.3516666666666667, 0.32416666666666666)\n",
      "(nunsat, ovl, dist) = performance(ms, s) = (3, 0.3583333333333333, 0.32083333333333336)\n",
      "(nunsat, ovl, dist) = performance(ms, s) = (2, 0.37, 0.315)\n",
      "(nunsat, ovl, dist) = performance(ms, s) = (1, 0.3483333333333334, 0.3258333333333333)\n",
      "(nunsat, ovl, dist) = performance(ms, s) = (0, 0.3533333333333334, 0.3233333333333333)\n",
      "Rate 0.15 done\n",
      "(nunsat, ovl, dist) = performance(ms, s) = (5, 0.41833333333333333, 0.29083333333333333)\n",
      "(nunsat, ovl, dist) = performance(ms, s) = (3, 0.42500000000000004, 0.2875)\n",
      "(nunsat, ovl, dist) = performance(ms, s) = (4, 0.44666666666666666, 0.27666666666666667)\n",
      "(nunsat, ovl, dist) = performance(ms, s) = (2, 0.405, 0.2975)\n",
      "(nunsat, ovl, dist) = performance(ms, s) = (1, 0.42833333333333334, 0.28583333333333333)\n",
      "(nunsat, ovl, dist) = performance(ms, s) = (0, 0.43500000000000005, 0.2825)\n",
      "(nunsat, ovl, dist) = performance(ms, s) = (3, 0.43166666666666664, 0.2841666666666667)\n",
      "(nunsat, ovl, dist) = performance(ms, s) = (3, 0.43833333333333335, 0.2808333333333333)\n",
      "(nunsat, ovl, dist) = performance(ms, s) = (1, 0.42000000000000004, 0.29)\n",
      "(nunsat, ovl, dist) = performance(ms, s) = (1, 0.44666666666666666, 0.27666666666666667)\n",
      "(nunsat, ovl, dist) = performance(ms, s) = (1, 0.41333333333333333, 0.29333333333333333)\n",
      "(nunsat, ovl, dist) = performance(ms, s) = (0, 0.43666666666666665, 0.2816666666666667)\n",
      "(nunsat, ovl, dist) = performance(ms, s) = (4, 0.43000000000000005, 0.285)\n",
      "(nunsat, ovl, dist) = performance(ms, s) = (2, 0.42333333333333334, 0.28833333333333333)\n",
      "(nunsat, ovl, dist) = performance(ms, s) = (3, 0.43500000000000005, 0.2825)\n",
      "(nunsat, ovl, dist) = performance(ms, s) = (1, 0.42666666666666664, 0.2866666666666667)\n",
      "(nunsat, ovl, dist) = performance(ms, s) = (4, 0.42166666666666663, 0.2891666666666667)\n",
      "(nunsat, ovl, dist) = performance(ms, s) = (2, 0.43666666666666665, 0.2816666666666667)\n",
      "(nunsat, ovl, dist) = performance(ms, s) = (1, 0.43166666666666664, 0.2841666666666667)\n",
      "(nunsat, ovl, dist) = performance(ms, s) = (1, 0.46166666666666667, 0.26916666666666667)\n",
      "(nunsat, ovl, dist) = performance(ms, s) = (1, 0.43999999999999995, 0.28)\n",
      "(nunsat, ovl, dist) = performance(ms, s) = (4, 0.42000000000000004, 0.29)\n",
      "(nunsat, ovl, dist) = performance(ms, s) = (1, 0.42166666666666663, 0.2891666666666667)\n",
      "(nunsat, ovl, dist) = performance(ms, s) = (1, 0.45833333333333337, 0.2708333333333333)\n",
      "(nunsat, ovl, dist) = performance(ms, s) = (1, 0.43999999999999995, 0.28)\n",
      "(nunsat, ovl, dist) = performance(ms, s) = (2, 0.43500000000000005, 0.2825)\n",
      "(nunsat, ovl, dist) = performance(ms, s) = (1, 0.44499999999999995, 0.2775)\n",
      "(nunsat, ovl, dist) = performance(ms, s) = (2, 0.42333333333333334, 0.28833333333333333)\n",
      "(nunsat, ovl, dist) = performance(ms, s) = (1, 0.43500000000000005, 0.2825)\n",
      "(nunsat, ovl, dist) = performance(ms, s) = (2, 0.405, 0.2975)\n",
      "Rate 0.2 done\n",
      "(nunsat, ovl, dist) = performance(ms, s) = (1, 0.4883333333333333, 0.25583333333333336)\n",
      "(nunsat, ovl, dist) = performance(ms, s) = (1, 0.505, 0.2475)\n",
      "(nunsat, ovl, dist) = performance(ms, s) = (4, 0.5016666666666667, 0.24916666666666668)\n",
      "(nunsat, ovl, dist) = performance(ms, s) = (3, 0.475, 0.2625)\n",
      "(nunsat, ovl, dist) = performance(ms, s) = (2, 0.475, 0.2625)\n",
      "(nunsat, ovl, dist) = performance(ms, s) = (1, 0.5016666666666667, 0.24916666666666668)\n",
      "(nunsat, ovl, dist) = performance(ms, s) = (2, 0.495, 0.2525)\n",
      "(nunsat, ovl, dist) = performance(ms, s) = (3, 0.5066666666666666, 0.24666666666666667)\n",
      "(nunsat, ovl, dist) = performance(ms, s) = (4, 0.49, 0.255)\n",
      "(nunsat, ovl, dist) = performance(ms, s) = (3, 0.4733333333333334, 0.2633333333333333)\n",
      "(nunsat, ovl, dist) = performance(ms, s) = (1, 0.4666666666666667, 0.26666666666666666)\n",
      "(nunsat, ovl, dist) = performance(ms, s) = (0, 0.4766666666666667, 0.26166666666666666)\n",
      "(nunsat, ovl, dist) = performance(ms, s) = (4, 0.495, 0.2525)\n",
      "(nunsat, ovl, dist) = performance(ms, s) = (3, 0.4816666666666667, 0.25916666666666666)\n",
      "(nunsat, ovl, dist) = performance(ms, s) = (1, 0.46499999999999997, 0.2675)\n",
      "(nunsat, ovl, dist) = performance(ms, s) = (2, 0.4833333333333333, 0.25833333333333336)\n",
      "(nunsat, ovl, dist) = performance(ms, s) = (1, 0.4916666666666667, 0.25416666666666665)\n",
      "(nunsat, ovl, dist) = performance(ms, s) = (1, 0.4716666666666667, 0.26416666666666666)\n",
      "(nunsat, ovl, dist) = performance(ms, s) = (2, 0.49, 0.255)\n",
      "(nunsat, ovl, dist) = performance(ms, s) = (1, 0.495, 0.2525)\n",
      "(nunsat, ovl, dist) = performance(ms, s) = (7, 0.51, 0.245)\n",
      "(nunsat, ovl, dist) = performance(ms, s) = (2, 0.49, 0.255)\n",
      "(nunsat, ovl, dist) = performance(ms, s) = (5, 0.4883333333333333, 0.25583333333333336)\n",
      "(nunsat, ovl, dist) = performance(ms, s) = (2, 0.4883333333333333, 0.25583333333333336)\n",
      "(nunsat, ovl, dist) = performance(ms, s) = (2, 0.49, 0.255)\n",
      "(nunsat, ovl, dist) = performance(ms, s) = (2, 0.4833333333333333, 0.25833333333333336)\n",
      "(nunsat, ovl, dist) = performance(ms, s) = (3, 0.495, 0.2525)\n",
      "(nunsat, ovl, dist) = performance(ms, s) = (7, 0.505, 0.2475)\n",
      "(nunsat, ovl, dist) = performance(ms, s) = (6, 0.485, 0.2575)\n",
      "(nunsat, ovl, dist) = performance(ms, s) = (4, 0.4866666666666667, 0.25666666666666665)\n",
      "Rate 0.25 done\n",
      "(nunsat, ovl, dist) = performance(ms, s) = (3, 0.5800000000000001, 0.21)\n",
      "(nunsat, ovl, dist) = performance(ms, s) = (2, 0.5483333333333333, 0.22583333333333333)\n",
      "(nunsat, ovl, dist) = performance(ms, s) = (2, 0.5483333333333333, 0.22583333333333333)\n",
      "(nunsat, ovl, dist) = performance(ms, s) = (2, 0.5433333333333333, 0.22833333333333333)\n",
      "(nunsat, ovl, dist) = performance(ms, s) = (1, 0.5533333333333333, 0.22333333333333333)\n",
      "(nunsat, ovl, dist) = performance(ms, s) = (5, 0.5383333333333333, 0.23083333333333333)\n",
      "(nunsat, ovl, dist) = performance(ms, s) = (4, 0.5283333333333333, 0.23583333333333334)\n",
      "(nunsat, ovl, dist) = performance(ms, s) = (2, 0.5583333333333333, 0.22083333333333333)\n",
      "(nunsat, ovl, dist) = performance(ms, s) = (2, 0.5549999999999999, 0.2225)\n",
      "(nunsat, ovl, dist) = performance(ms, s) = (3, 0.5433333333333333, 0.22833333333333333)\n",
      "(nunsat, ovl, dist) = performance(ms, s) = (2, 0.5466666666666666, 0.22666666666666666)\n",
      "(nunsat, ovl, dist) = performance(ms, s) = (0, 0.5683333333333334, 0.21583333333333332)\n",
      "(nunsat, ovl, dist) = performance(ms, s) = (1, 0.5533333333333333, 0.22333333333333333)\n",
      "(nunsat, ovl, dist) = performance(ms, s) = (0, 0.5416666666666667, 0.22916666666666666)\n",
      "(nunsat, ovl, dist) = performance(ms, s) = (1, 0.5466666666666666, 0.22666666666666666)\n"
     ]
    },
    {
     "name": "stdout",
     "output_type": "stream",
     "text": [
      "(nunsat, ovl, dist) = performance(ms, s) = (2, 0.54, 0.23)\n",
      "(nunsat, ovl, dist) = performance(ms, s) = (3, 0.5366666666666666, 0.23166666666666666)\n",
      "(nunsat, ovl, dist) = performance(ms, s) = (1, 0.5266666666666666, 0.23666666666666666)\n",
      "(nunsat, ovl, dist) = performance(ms, s) = (3, 0.5683333333333334, 0.21583333333333332)\n",
      "(nunsat, ovl, dist) = performance(ms, s) = (5, 0.5266666666666666, 0.23666666666666666)\n",
      "(nunsat, ovl, dist) = performance(ms, s) = (3, 0.5349999999999999, 0.2325)\n",
      "(nunsat, ovl, dist) = performance(ms, s) = (1, 0.5516666666666667, 0.22416666666666665)\n",
      "(nunsat, ovl, dist) = performance(ms, s) = (1, 0.54, 0.23)\n",
      "(nunsat, ovl, dist) = performance(ms, s) = (4, 0.5466666666666666, 0.22666666666666666)\n",
      "(nunsat, ovl, dist) = performance(ms, s) = (1, 0.5416666666666667, 0.22916666666666666)\n",
      "(nunsat, ovl, dist) = performance(ms, s) = (2, 0.5616666666666666, 0.21916666666666668)\n",
      "(nunsat, ovl, dist) = performance(ms, s) = (0, 0.5416666666666667, 0.22916666666666666)\n",
      "(nunsat, ovl, dist) = performance(ms, s) = (2, 0.5449999999999999, 0.2275)\n",
      "(nunsat, ovl, dist) = performance(ms, s) = (0, 0.5549999999999999, 0.2225)\n",
      "(nunsat, ovl, dist) = performance(ms, s) = (2, 0.5433333333333333, 0.22833333333333333)\n",
      "Rate 0.3 done\n",
      "(nunsat, ovl, dist) = performance(ms, s) = (1, 0.5800000000000001, 0.21)\n",
      "(nunsat, ovl, dist) = performance(ms, s) = (1, 0.585, 0.2075)\n",
      "(nunsat, ovl, dist) = performance(ms, s) = (1, 0.595, 0.2025)\n",
      "(nunsat, ovl, dist) = performance(ms, s) = (2, 0.5966666666666667, 0.20166666666666666)\n",
      "(nunsat, ovl, dist) = performance(ms, s) = (2, 0.5800000000000001, 0.21)\n",
      "(nunsat, ovl, dist) = performance(ms, s) = (2, 0.5933333333333333, 0.20333333333333334)\n",
      "(nunsat, ovl, dist) = performance(ms, s) = (1, 0.5783333333333334, 0.21083333333333334)\n",
      "(nunsat, ovl, dist) = performance(ms, s) = (1, 0.5933333333333333, 0.20333333333333334)\n",
      "(nunsat, ovl, dist) = performance(ms, s) = (1, 0.5933333333333333, 0.20333333333333334)\n",
      "(nunsat, ovl, dist) = performance(ms, s) = (2, 0.5883333333333334, 0.20583333333333334)\n",
      "(nunsat, ovl, dist) = performance(ms, s) = (1, 0.6, 0.2)\n",
      "(nunsat, ovl, dist) = performance(ms, s) = (1, 0.5866666666666667, 0.20666666666666667)\n",
      "(nunsat, ovl, dist) = performance(ms, s) = (1, 0.6083333333333334, 0.19583333333333333)\n",
      "(nunsat, ovl, dist) = performance(ms, s) = (3, 0.5933333333333333, 0.20333333333333334)\n",
      "(nunsat, ovl, dist) = performance(ms, s) = (2, 0.5883333333333334, 0.20583333333333334)\n",
      "(nunsat, ovl, dist) = performance(ms, s) = (0, 0.5816666666666667, 0.20916666666666667)\n",
      "(nunsat, ovl, dist) = performance(ms, s) = (2, 0.5966666666666667, 0.20166666666666666)\n",
      "(nunsat, ovl, dist) = performance(ms, s) = (1, 0.595, 0.2025)\n",
      "(nunsat, ovl, dist) = performance(ms, s) = (1, 0.5800000000000001, 0.21)\n",
      "(nunsat, ovl, dist) = performance(ms, s) = (1, 0.5983333333333334, 0.20083333333333334)\n",
      "(nunsat, ovl, dist) = performance(ms, s) = (3, 0.6183333333333334, 0.19083333333333333)\n",
      "(nunsat, ovl, dist) = performance(ms, s) = (3, 0.595, 0.2025)\n",
      "(nunsat, ovl, dist) = performance(ms, s) = (0, 0.5983333333333334, 0.20083333333333334)\n",
      "(nunsat, ovl, dist) = performance(ms, s) = (3, 0.5866666666666667, 0.20666666666666667)\n",
      "(nunsat, ovl, dist) = performance(ms, s) = (1, 0.6016666666666667, 0.19916666666666666)\n",
      "(nunsat, ovl, dist) = performance(ms, s) = (1, 0.5900000000000001, 0.205)\n",
      "(nunsat, ovl, dist) = performance(ms, s) = (2, 0.5983333333333334, 0.20083333333333334)\n",
      "(nunsat, ovl, dist) = performance(ms, s) = (1, 0.5900000000000001, 0.205)\n",
      "(nunsat, ovl, dist) = performance(ms, s) = (0, 0.5900000000000001, 0.205)\n",
      "(nunsat, ovl, dist) = performance(ms, s) = (2, 0.585, 0.2075)\n",
      "Rate 0.35 done\n",
      "(nunsat, ovl, dist) = performance(ms, s) = (2, 0.6166666666666667, 0.19166666666666668)\n",
      "(nunsat, ovl, dist) = performance(ms, s) = (5, 0.6383333333333333, 0.18083333333333335)\n",
      "(nunsat, ovl, dist) = performance(ms, s) = (1, 0.625, 0.1875)\n",
      "(nunsat, ovl, dist) = performance(ms, s) = (1, 0.625, 0.1875)\n",
      "(nunsat, ovl, dist) = performance(ms, s) = (2, 0.6316666666666666, 0.18416666666666667)\n",
      "(nunsat, ovl, dist) = performance(ms, s) = (5, 0.64, 0.18)\n",
      "(nunsat, ovl, dist) = performance(ms, s) = (1, 0.6316666666666666, 0.18416666666666667)\n",
      "(nunsat, ovl, dist) = performance(ms, s) = (0, 0.645, 0.1775)\n",
      "(nunsat, ovl, dist) = performance(ms, s) = (1, 0.6383333333333333, 0.18083333333333335)\n",
      "(nunsat, ovl, dist) = performance(ms, s) = (1, 0.64, 0.18)\n",
      "(nunsat, ovl, dist) = performance(ms, s) = (2, 0.6283333333333334, 0.18583333333333332)\n",
      "(nunsat, ovl, dist) = performance(ms, s) = (2, 0.6333333333333333, 0.18333333333333332)\n",
      "(nunsat, ovl, dist) = performance(ms, s) = (0, 0.63, 0.185)\n",
      "(nunsat, ovl, dist) = performance(ms, s) = (1, 0.635, 0.1825)\n",
      "(nunsat, ovl, dist) = performance(ms, s) = (1, 0.625, 0.1875)\n",
      "(nunsat, ovl, dist) = performance(ms, s) = (3, 0.6416666666666666, 0.17916666666666667)\n",
      "(nunsat, ovl, dist) = performance(ms, s) = (1, 0.625, 0.1875)\n",
      "(nunsat, ovl, dist) = performance(ms, s) = (3, 0.6216666666666666, 0.18916666666666668)\n",
      "(nunsat, ovl, dist) = performance(ms, s) = (1, 0.6333333333333333, 0.18333333333333332)\n",
      "(nunsat, ovl, dist) = performance(ms, s) = (1, 0.6266666666666667, 0.18666666666666668)\n",
      "(nunsat, ovl, dist) = performance(ms, s) = (3, 0.635, 0.1825)\n",
      "(nunsat, ovl, dist) = performance(ms, s) = (0, 0.6599999999999999, 0.17)\n",
      "(nunsat, ovl, dist) = performance(ms, s) = (0, 0.6266666666666667, 0.18666666666666668)\n",
      "(nunsat, ovl, dist) = performance(ms, s) = (2, 0.6416666666666666, 0.17916666666666667)\n",
      "(nunsat, ovl, dist) = performance(ms, s) = (0, 0.635, 0.1825)\n",
      "(nunsat, ovl, dist) = performance(ms, s) = (1, 0.6233333333333333, 0.18833333333333332)\n",
      "(nunsat, ovl, dist) = performance(ms, s) = (1, 0.6333333333333333, 0.18333333333333332)\n",
      "(nunsat, ovl, dist) = performance(ms, s) = (2, 0.64, 0.18)\n",
      "(nunsat, ovl, dist) = performance(ms, s) = (1, 0.6233333333333333, 0.18833333333333332)\n",
      "(nunsat, ovl, dist) = performance(ms, s) = (1, 0.6266666666666667, 0.18666666666666668)\n",
      "Rate 0.4 done\n",
      "(nunsat, ovl, dist) = performance(ms, s) = (2, 0.6633333333333333, 0.16833333333333333)\n",
      "(nunsat, ovl, dist) = performance(ms, s) = (1, 0.6699999999999999, 0.165)\n",
      "(nunsat, ovl, dist) = performance(ms, s) = (3, 0.665, 0.1675)\n",
      "(nunsat, ovl, dist) = performance(ms, s) = (0, 0.6833333333333333, 0.15833333333333333)\n",
      "(nunsat, ovl, dist) = performance(ms, s) = (4, 0.675, 0.1625)\n",
      "(nunsat, ovl, dist) = performance(ms, s) = (1, 0.6599999999999999, 0.17)\n",
      "(nunsat, ovl, dist) = performance(ms, s) = (2, 0.6816666666666666, 0.15916666666666668)\n",
      "(nunsat, ovl, dist) = performance(ms, s) = (2, 0.6699999999999999, 0.165)\n",
      "(nunsat, ovl, dist) = performance(ms, s) = (3, 0.6733333333333333, 0.16333333333333333)\n",
      "(nunsat, ovl, dist) = performance(ms, s) = (0, 0.6933333333333334, 0.15333333333333332)\n",
      "(nunsat, ovl, dist) = performance(ms, s) = (2, 0.6633333333333333, 0.16833333333333333)\n",
      "(nunsat, ovl, dist) = performance(ms, s) = (2, 0.6816666666666666, 0.15916666666666668)\n",
      "(nunsat, ovl, dist) = performance(ms, s) = (2, 0.6616666666666666, 0.16916666666666666)\n",
      "(nunsat, ovl, dist) = performance(ms, s) = (3, 0.6716666666666666, 0.16416666666666666)\n",
      "(nunsat, ovl, dist) = performance(ms, s) = (0, 0.6799999999999999, 0.16)\n",
      "(nunsat, ovl, dist) = performance(ms, s) = (1, 0.6699999999999999, 0.165)\n",
      "(nunsat, ovl, dist) = performance(ms, s) = (4, 0.6633333333333333, 0.16833333333333333)\n",
      "(nunsat, ovl, dist) = performance(ms, s) = (2, 0.6733333333333333, 0.16333333333333333)\n",
      "(nunsat, ovl, dist) = performance(ms, s) = (0, 0.6699999999999999, 0.165)\n",
      "(nunsat, ovl, dist) = performance(ms, s) = (1, 0.6699999999999999, 0.165)\n",
      "(nunsat, ovl, dist) = performance(ms, s) = (1, 0.6699999999999999, 0.165)\n",
      "(nunsat, ovl, dist) = performance(ms, s) = (3, 0.6799999999999999, 0.16)\n",
      "(nunsat, ovl, dist) = performance(ms, s) = (1, 0.6950000000000001, 0.1525)\n",
      "(nunsat, ovl, dist) = performance(ms, s) = (0, 0.6633333333333333, 0.16833333333333333)\n",
      "(nunsat, ovl, dist) = performance(ms, s) = (2, 0.6683333333333333, 0.16583333333333333)\n",
      "(nunsat, ovl, dist) = performance(ms, s) = (1, 0.675, 0.1625)\n",
      "(nunsat, ovl, dist) = performance(ms, s) = (2, 0.675, 0.1625)\n",
      "(nunsat, ovl, dist) = performance(ms, s) = (1, 0.6783333333333333, 0.16083333333333333)\n",
      "(nunsat, ovl, dist) = performance(ms, s) = (1, 0.6883333333333334, 0.15583333333333332)\n"
     ]
    },
    {
     "name": "stdout",
     "output_type": "stream",
     "text": [
      "(nunsat, ovl, dist) = performance(ms, s) = (0, 0.6933333333333334, 0.15333333333333332)\n",
      "Rate 0.45 done\n",
      "(nunsat, ovl, dist) = performance(ms, s) = (1, 0.71, 0.145)\n",
      "(nunsat, ovl, dist) = performance(ms, s) = (1, 0.7216666666666667, 0.13916666666666666)\n",
      "(nunsat, ovl, dist) = performance(ms, s) = (1, 0.72, 0.14)\n",
      "(nunsat, ovl, dist) = performance(ms, s) = (2, 0.7183333333333333, 0.14083333333333334)\n",
      "(nunsat, ovl, dist) = performance(ms, s) = (1, 0.7066666666666667, 0.14666666666666667)\n",
      "(nunsat, ovl, dist) = performance(ms, s) = (2, 0.7, 0.15)\n",
      "(nunsat, ovl, dist) = performance(ms, s) = (1, 0.7050000000000001, 0.1475)\n",
      "(nunsat, ovl, dist) = performance(ms, s) = (3, 0.7266666666666667, 0.13666666666666666)\n",
      "(nunsat, ovl, dist) = performance(ms, s) = (5, 0.7150000000000001, 0.1425)\n",
      "(nunsat, ovl, dist) = performance(ms, s) = (3, 0.7050000000000001, 0.1475)\n",
      "(nunsat, ovl, dist) = performance(ms, s) = (3, 0.7216666666666667, 0.13916666666666666)\n",
      "(nunsat, ovl, dist) = performance(ms, s) = (1, 0.7183333333333333, 0.14083333333333334)\n",
      "(nunsat, ovl, dist) = performance(ms, s) = (4, 0.7166666666666667, 0.14166666666666666)\n",
      "(nunsat, ovl, dist) = performance(ms, s) = (1, 0.71, 0.145)\n",
      "(nunsat, ovl, dist) = performance(ms, s) = (2, 0.72, 0.14)\n",
      "(nunsat, ovl, dist) = performance(ms, s) = (2, 0.7133333333333334, 0.14333333333333334)\n",
      "(nunsat, ovl, dist) = performance(ms, s) = (3, 0.7116666666666667, 0.14416666666666667)\n",
      "(nunsat, ovl, dist) = performance(ms, s) = (1, 0.72, 0.14)\n",
      "(nunsat, ovl, dist) = performance(ms, s) = (2, 0.7233333333333334, 0.13833333333333334)\n",
      "(nunsat, ovl, dist) = performance(ms, s) = (2, 0.7133333333333334, 0.14333333333333334)\n",
      "(nunsat, ovl, dist) = performance(ms, s) = (1, 0.7233333333333334, 0.13833333333333334)\n",
      "(nunsat, ovl, dist) = performance(ms, s) = (2, 0.725, 0.1375)\n",
      "(nunsat, ovl, dist) = performance(ms, s) = (2, 0.7166666666666667, 0.14166666666666666)\n",
      "(nunsat, ovl, dist) = performance(ms, s) = (1, 0.7066666666666667, 0.14666666666666667)\n",
      "(nunsat, ovl, dist) = performance(ms, s) = (2, 0.7216666666666667, 0.13916666666666666)\n",
      "(nunsat, ovl, dist) = performance(ms, s) = (1, 0.7266666666666667, 0.13666666666666666)\n",
      "(nunsat, ovl, dist) = performance(ms, s) = (2, 0.725, 0.1375)\n",
      "(nunsat, ovl, dist) = performance(ms, s) = (1, 0.7216666666666667, 0.13916666666666666)\n",
      "(nunsat, ovl, dist) = performance(ms, s) = (2, 0.725, 0.1375)\n",
      "(nunsat, ovl, dist) = performance(ms, s) = (3, 0.735, 0.1325)\n",
      "Rate 0.5 done\n",
      "(nunsat, ovl, dist) = performance(ms, s) = (3, 0.7416666666666667, 0.12916666666666668)\n",
      "(nunsat, ovl, dist) = performance(ms, s) = (1, 0.755, 0.1225)\n",
      "(nunsat, ovl, dist) = performance(ms, s) = (2, 0.74, 0.13)\n",
      "(nunsat, ovl, dist) = performance(ms, s) = (2, 0.7533333333333333, 0.12333333333333334)\n",
      "(nunsat, ovl, dist) = performance(ms, s) = (2, 0.7366666666666667, 0.13166666666666665)\n",
      "(nunsat, ovl, dist) = performance(ms, s) = (2, 0.75, 0.125)\n",
      "(nunsat, ovl, dist) = performance(ms, s) = (1, 0.76, 0.12)\n",
      "(nunsat, ovl, dist) = performance(ms, s) = (3, 0.7433333333333334, 0.12833333333333333)\n",
      "(nunsat, ovl, dist) = performance(ms, s) = (2, 0.7666666666666666, 0.11666666666666667)\n",
      "(nunsat, ovl, dist) = performance(ms, s) = (2, 0.7466666666666666, 0.12666666666666668)\n",
      "(nunsat, ovl, dist) = performance(ms, s) = (3, 0.7566666666666666, 0.12166666666666667)\n",
      "(nunsat, ovl, dist) = performance(ms, s) = (2, 0.7583333333333333, 0.12083333333333333)\n",
      "(nunsat, ovl, dist) = performance(ms, s) = (2, 0.7616666666666667, 0.11916666666666667)\n",
      "(nunsat, ovl, dist) = performance(ms, s) = (3, 0.7466666666666666, 0.12666666666666668)\n",
      "(nunsat, ovl, dist) = performance(ms, s) = (0, 0.7416666666666667, 0.12916666666666668)\n",
      "(nunsat, ovl, dist) = performance(ms, s) = (4, 0.75, 0.125)\n",
      "(nunsat, ovl, dist) = performance(ms, s) = (1, 0.7433333333333334, 0.12833333333333333)\n",
      "(nunsat, ovl, dist) = performance(ms, s) = (1, 0.7533333333333333, 0.12333333333333334)\n",
      "(nunsat, ovl, dist) = performance(ms, s) = (4, 0.7366666666666667, 0.13166666666666665)\n",
      "(nunsat, ovl, dist) = performance(ms, s) = (3, 0.745, 0.1275)\n",
      "(nunsat, ovl, dist) = performance(ms, s) = (2, 0.7583333333333333, 0.12083333333333333)\n",
      "(nunsat, ovl, dist) = performance(ms, s) = (4, 0.765, 0.1175)\n",
      "(nunsat, ovl, dist) = performance(ms, s) = (4, 0.7483333333333333, 0.12583333333333332)\n",
      "(nunsat, ovl, dist) = performance(ms, s) = (2, 0.7633333333333333, 0.11833333333333333)\n",
      "(nunsat, ovl, dist) = performance(ms, s) = (5, 0.75, 0.125)\n",
      "(nunsat, ovl, dist) = performance(ms, s) = (2, 0.7533333333333333, 0.12333333333333334)\n",
      "(nunsat, ovl, dist) = performance(ms, s) = (2, 0.7483333333333333, 0.12583333333333332)\n",
      "(nunsat, ovl, dist) = performance(ms, s) = (2, 0.755, 0.1225)\n",
      "(nunsat, ovl, dist) = performance(ms, s) = (3, 0.76, 0.12)\n",
      "(nunsat, ovl, dist) = performance(ms, s) = (4, 0.7533333333333333, 0.12333333333333334)\n",
      "Rate 0.55 done\n",
      "(nunsat, ovl, dist) = performance(ms, s) = (2, 0.785, 0.1075)\n",
      "(nunsat, ovl, dist) = performance(ms, s) = (2, 0.7816666666666667, 0.10916666666666666)\n",
      "(nunsat, ovl, dist) = performance(ms, s) = (3, 0.7816666666666667, 0.10916666666666666)\n",
      "(nunsat, ovl, dist) = performance(ms, s) = (1, 0.7933333333333333, 0.10333333333333333)\n",
      "(nunsat, ovl, dist) = performance(ms, s) = (1, 0.78, 0.11)\n",
      "(nunsat, ovl, dist) = performance(ms, s) = (0, 0.785, 0.1075)\n",
      "(nunsat, ovl, dist) = performance(ms, s) = (1, 0.7916666666666666, 0.10416666666666667)\n",
      "(nunsat, ovl, dist) = performance(ms, s) = (1, 0.775, 0.1125)\n",
      "(nunsat, ovl, dist) = performance(ms, s) = (2, 0.8016666666666666, 0.09916666666666667)\n"
     ]
    }
   ],
   "source": [
    "n = 1200\n",
    "navg = 30\n",
    "D_ms = [zeros(navg) for _ in Rs]\n",
    "D_exact = [zeros(navg) for _ in Rs]\n",
    "\n",
    "D_ms_avg, D_exact_avg = ff(n, Rs, navg, Ks, Λ, D_ms, D_exact, maxiter=10^3, rein=1e-3, verbose=false);"
   ]
  },
  {
   "cell_type": "markdown",
   "metadata": {},
   "source": [
    "### Plot"
   ]
  },
  {
   "cell_type": "code",
   "execution_count": null,
   "metadata": {},
   "outputs": [],
   "source": [
    "pl = plot_rdb(; f30=false, f3=false)\n",
    "Plots.default(ms=3, msw=0, fontfamily=\"serif-roman\", grid=false)\n",
    "plot!(pl, R_rs[1:end-3], D_rs[1:end-3], label=\"RS\", line=:dash, c=:gray)\n",
    "scatter!(pl, Rs, D_exact_avg, label=\"Exact\", m=:circle, c=:red, ms=4.5)\n",
    "scatter!(pl, Rs, D_ms_avg, label=\"MaxSum\", c=:green, m=:diamond)\n",
    "plot!(pl, size=(400,400))"
   ]
  },
  {
   "cell_type": "code",
   "execution_count": 181,
   "metadata": {},
   "outputs": [],
   "source": [
    "savefig(\"rdb_degree2.pdf\")"
   ]
  },
  {
   "cell_type": "code",
   "execution_count": 489,
   "metadata": {},
   "outputs": [
    {
     "name": "stdout",
     "output_type": "stream",
     "text": [
      "(ε, iters) = iteration_ms!(ms, maxiter = maxiter, damp = 0.0, tol = 1.0e-12, rein = 0.0001; vars = vars, factors = factors) = (0.0, 10000)\n",
      "(nunsat, ovl, dist) = performance(ms, s) = (0, 0.3683333333333333, 0.31583333333333335)\n"
     ]
    }
   ],
   "source": [
    "m = round(Int,n*(1-Rs[i])); nedges = 2n\n",
    "vars = rand(1:n, n*2÷3); factors=rand(1:m, m*2÷3)\n",
    "H = permutedims(ldpc_matrix(n, m, nedges, Λ, Ks[i]; accept_multi_edges=false))\n",
    "s = rand((-1.,1.),n)\n",
    "efield = [(si,-si).+ 1e-5.*(randn(),randn()) for si in s]\n",
    "ms = BPFull(H, efield)\n",
    "@show ε, iters = iteration_ms!(ms, maxiter=maxiter, damp=0.0, tol=1e-12, rein=1e-4;\n",
    "    vars=vars, factors=factors)\n",
    "@show nunsat, ovl, dist = performance(ms, s)\n",
    "    if nunsat!=0\n",
    "        B,indep = findbasis(H[1:end-1,:])\n",
    "        x = argmax.(ms.belief) .== 2\n",
    "        σ = fix_indep!(x, B, indep) \n",
    "        @assert parity(H,x)==0               \n",
    "        @show distortion(σ,s)\n",
    "end\n",
    "#     else\n",
    "#         D_ms[i][j] = dist\n",
    "#         println(\"R=\", Rs[i], \". avg $j of $navg. Converged\")\n",
    "#     end\n",
    "#         ovl, _, _ = findsol(H, s, verbose=false)\n"
   ]
  },
  {
   "cell_type": "code",
   "execution_count": 338,
   "metadata": {},
   "outputs": [
    {
     "name": "stdout",
     "output_type": "stream",
     "text": [
      "(vars[1], factors[1]) = (342, 410)\n",
      "(nunsat, ovl, dist) = performance(ms, s) = (4, 0.3866666666666667, 0.30666666666666664)\n"
     ]
    },
    {
     "data": {
      "text/plain": [
       "(4, 0.3866666666666667, 0.30666666666666664)"
      ]
     },
     "execution_count": 338,
     "metadata": {},
     "output_type": "execute_result"
    }
   ],
   "source": [
    "i = 1\n",
    "maxiter = 10^4\n",
    "# const pa = fill(NaN, maxiter)\n",
    "# const err = fill(NaN, maxiter)\n",
    "# function cb(it, ε, ms)\n",
    "#     pa[it] = parity(ms); err[it] = ε; false\n",
    "# end\n",
    "efield = [(1.,1.) for _ in 1:n]\n",
    "m = round(Int,n*(1-Rs[i])); nedges = 2n\n",
    "vars = rand(1:n, n*2÷3); factors=rand(1:m, m*2÷3)\n",
    "@show vars[1], factors[1]\n",
    "H = permutedims(ldpc_matrix(n, m, nedges, Λ, Ks[i]; accept_multi_edges=false))\n",
    "s = rand((-1.,1.),n)\n",
    "ms = BPFull(H, efield)\n",
    "ms.efield .= [(si,-si).+ 1e-5.*(randn(),randn()) for si in s]\n",
    "ms.h .= [h.+ 1e-5.*(randn(),randn()) for h in ms.h]\n",
    "ms.u .= [u.+ 1e-5.*(randn(),randn()) for u in ms.u]\n",
    "ε, iters = iteration_ms!(ms, maxiter=maxiter, damp=0.0, tol=1e-12, rein=1e-4, \n",
    "    vars=vars, factors=factors)\n",
    "@show nunsat, ovl, dist = performance(ms, s)"
   ]
  },
  {
   "cell_type": "code",
   "execution_count": null,
   "metadata": {},
   "outputs": [],
   "source": [
    "function g(n, Rs, navg, Ks, Λ, ntrials, D_ms, D_exact; verbose=true, maxiter=10^2, kw...)\n",
    "    efield = [(1.,1.) for _ in 1:n]   # pre-allocate\n",
    "    for i in eachindex(Rs)\n",
    "        m = round(Int,n*(1-Rs[i])); nedges = 2n\n",
    "        vars = rand(1:n, n*2÷3); factors=rand(1:m, m*2÷3)\n",
    "        Threads.@threads for j in 1:navg\n",
    "            H = permutedims(ldpc_matrix(n, m, nedges, Λ, Ks[i]; accept_multi_edges=false))\n",
    "            s = rand((-1.,1.),n)\n",
    "            ms = BPFull(H, efield)\n",
    "            for t in 1:ntrials\n",
    "                ms.efield .= [(si,-si).+ 1e-5.*(randn(),randn()) for si in s]\n",
    "                ms.h .= [(.5,.5).+ 1e-5.*(randn(),randn()) for h in ms.h]\n",
    "                ms.u .= [(.5,.5).+ 1e-5.*(randn(),randn()) for u in ms.u]\n",
    "                ε, iters = iteration_ms!(ms, maxiter=maxiter, damp=0.0, tol=1e-12, rein=1e-3;\n",
    "                    vars=vars, factors=factors, kw...)\n",
    "                @show nunsat, ovl, dist = performance(ms, s)\n",
    "                if nunsat==0\n",
    "                    D_ms[i][j] = dist\n",
    "                    println(\"R=\", Rs[i], \". avg $j of $navg_ms. Converged after $t trials\")\n",
    "                    ovl, _, _ = findsol(H, s, verbose=false)\n",
    "                    D_exact[i][j] = (1-ovl)/2\n",
    "                    flush(stdout)\n",
    "                    break\n",
    "                elseif t==ntrials\n",
    "                    error(\"R=\", Rs[i], \". avg $j of $navg. UNCONVERGED after $t trials\")\n",
    "                end\n",
    "            end\n",
    "        end\n",
    "        verbose && println(\"Rate $(Rs[i]) done\")\n",
    "        flush(stdout)\n",
    "    end\n",
    "    mean.(D_ms), mean.(D_exact)\n",
    "end"
   ]
  },
  {
   "cell_type": "code",
   "execution_count": null,
   "metadata": {},
   "outputs": [],
   "source": []
  }
 ],
 "metadata": {
  "kernelspec": {
   "display_name": "Julia 1.6.1-pre",
   "language": "julia",
   "name": "julia-1.6"
  },
  "language_info": {
   "file_extension": ".jl",
   "mimetype": "application/julia",
   "name": "julia",
   "version": "1.6.1"
  }
 },
 "nbformat": 4,
 "nbformat_minor": 4
}
