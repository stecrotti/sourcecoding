{
 "cells": [
  {
   "cell_type": "code",
   "execution_count": 1,
   "metadata": {},
   "outputs": [],
   "source": [
    "using OffsetArrays"
   ]
  },
  {
   "cell_type": "code",
   "execution_count": 2,
   "metadata": {},
   "outputs": [
    {
     "data": {
      "text/plain": [
       "BP_tu (generic function with 1 method)"
      ]
     },
     "execution_count": 2,
     "metadata": {},
     "output_type": "execute_result"
    }
   ],
   "source": [
    "function BP_th(H, tus)\n",
    "    p1 = prod(1 .+ tus)*exp(H)\n",
    "    p2 = prod(1 .- tus)*exp(-H)\n",
    "    if p1+p2==0\n",
    "        println(\"conflicting messages in BP_th\")\n",
    "    end\n",
    "    th = (p1-p2)/(p1+p2)\n",
    "end\n",
    "\n",
    "function BP_tu(s, ths)\n",
    "    tu = s*prod(ths)\n",
    "end"
   ]
  },
  {
   "cell_type": "code",
   "execution_count": 3,
   "metadata": {},
   "outputs": [
    {
     "data": {
      "text/plain": [
       "dist_sigmas (generic function with 1 method)"
      ]
     },
     "execution_count": 3,
     "metadata": {},
     "output_type": "execute_result"
    }
   ],
   "source": [
    "function dist_sigmas(s, ths_0, σs, ν)\n",
    "    k = length(ths_0)\n",
    "    ind = 0\n",
    "    for sig in Iterators.product(fill(-1:2:1,k)...)\n",
    "        ind += 1\n",
    "        σs[ind] = sig\n",
    "        if prod(sig) == s\n",
    "            ν[ind] += prod(1 .+ sig.*ths_0)\n",
    "        end\n",
    "    end\n",
    "    ν ./= sum(ν)\n",
    "    ν, σs\n",
    "end"
   ]
  },
  {
   "cell_type": "code",
   "execution_count": 4,
   "metadata": {},
   "outputs": [
    {
     "data": {
      "text/plain": [
       "residual (generic function with 1 method)"
      ]
     },
     "execution_count": 4,
     "metadata": {},
     "output_type": "execute_result"
    }
   ],
   "source": [
    "using StatsBase, ProgressMeter, Random\n",
    "residual(x) = (p=OffsetVector((x .* eachindex(x))[1:end], 0:lastindex(x)-1); p./=sum(p))"
   ]
  },
  {
   "cell_type": "code",
   "execution_count": 5,
   "metadata": {},
   "outputs": [
    {
     "data": {
      "text/plain": [
       "RS (generic function with 1 method)"
      ]
     },
     "execution_count": 5,
     "metadata": {},
     "output_type": "execute_result"
    }
   ],
   "source": [
    "function RS(Λ, K, H; \n",
    "        maxiter=100, \n",
    "        popsize=1000, \n",
    "        popP_RS = fill(0.0, 1:popsize),\n",
    "        popQ_RS = fill(0.0, 1:popsize),\n",
    "        q0 = fill(NaN, 1:maxiter)\n",
    "    )\n",
    "\n",
    "    Λ1 = residual(Λ)\n",
    "    K1 = residual(K)\n",
    "    wΛ1 = weights(Λ1)\n",
    "    wK1 = weights(K1)\n",
    "\n",
    "    \n",
    "    @showprogress for t = 1:maxiter\n",
    "        \n",
    "        for i = 1:popsize\n",
    "            k = sample(eachindex(K1), wK1)\n",
    "            ind_ths = rand(1:popsize, k)\n",
    "            ths = popP_RS[ind_ths]            \n",
    "            s = rand((-1,1))\n",
    "            popQ_RS[i] = BP_tu(s, ths)\n",
    "        end\n",
    "        \n",
    "        q0[t]=0.0\n",
    "        \n",
    "        for i = 1:popsize\n",
    "            d = sample(eachindex(Λ1), wΛ1)\n",
    "            ind_tus = rand(1:popsize, d)\n",
    "            tus = popQ_RS[ind_tus]\n",
    "            popP_RS[i] = BP_th(H, tus)\n",
    "            \n",
    "            q0[t]+=popP_RS[i]^2\n",
    "        end\n",
    "        \n",
    "        q0[t] = q0[t]/length(popP_RS)\n",
    "    end\n",
    "    popP_RS, popQ_RS, q0\n",
    "#    popP_RS, popQ_RS\n",
    "end"
   ]
  },
  {
   "cell_type": "code",
   "execution_count": 6,
   "metadata": {},
   "outputs": [
    {
     "data": {
      "text/plain": [
       "init_pop_alternative (generic function with 1 method)"
      ]
     },
     "execution_count": 6,
     "metadata": {},
     "output_type": "execute_result"
    }
   ],
   "source": [
    "function init_pop(pop_RS, ϵ)\n",
    "    pop = fill(NaN, -1:1, 1:popsize)\n",
    "    pop[0,:]=popP_RS\n",
    "    pop[1,:].=ϵ\n",
    "    pop[-1,:].=-ϵ\n",
    "    pop\n",
    "end\n",
    "function init_pop_alternative(pop_RS, ϵ)\n",
    "    pop = fill(NaN, -1:1, 1:popsize)\n",
    "    pop[0,:]=popP_RS\n",
    "    for i=1:popsize\n",
    "        pop[1,i]=(rand()<ϵ ? 1.0 : pop[0,i])\n",
    "        pop[-1,i]=(rand()<ϵ ? -1.0 : pop[0,i])\n",
    "    end\n",
    "    pop\n",
    "end"
   ]
  },
  {
   "cell_type": "code",
   "execution_count": 92,
   "metadata": {},
   "outputs": [
    {
     "data": {
      "text/plain": [
       "checkRS (generic function with 1 method)"
      ]
     },
     "execution_count": 92,
     "metadata": {},
     "output_type": "execute_result"
    }
   ],
   "source": [
    "function checkRS(popP)\n",
    "    q0=0.0; q1=0.0\n",
    "    for ind=1:size(popP, 2)\n",
    "        th = popP[:,ind]\n",
    "        #@show th, th[0], th[1], th[-1]\n",
    "        q0 += th[0]^2\n",
    "        q1 += 0.5*th[1]*(1.0+th[0]) - 0.5*th[-1]*(1.0 - th[0])\n",
    "    end\n",
    "    q1= q1/size(popP, 2); q0=q0/size(popP, 2)\n",
    "    q0, q1, q1-q0\n",
    "end"
   ]
  },
  {
   "cell_type": "code",
   "execution_count": 8,
   "metadata": {},
   "outputs": [
    {
     "data": {
      "text/plain": [
       "checkHardFields (generic function with 1 method)"
      ]
     },
     "execution_count": 8,
     "metadata": {},
     "output_type": "execute_result"
    }
   ],
   "source": [
    "function checkHardFields(popP)\n",
    "    pHF = 0.0;\n",
    "    p1=0.0; pm1=0.0;\n",
    "    for ind=1:size(popP, 2)\n",
    "        th = popP[:,ind]\n",
    "        pHF += 0.5*(1.0 + th[0])*atanh(th[1])^2 + 0.5*(1.0 - th[0])*atanh(th[-1])^2\n",
    "        p1 += (th[1] == 1.0 ? 1.0 : 0.0)\n",
    "        pm1 += (th[-1] == -1.0 ? 1.0 : 0.0)\n",
    "    end\n",
    "    pHF=pHF/size(popP, 2)\n",
    "    p1=p1/size(popP, 2)\n",
    "    pm1=pm1/size(popP, 2)\n",
    "    pHF, p1, pm1\n",
    "end"
   ]
  },
  {
   "cell_type": "code",
   "execution_count": 9,
   "metadata": {},
   "outputs": [
    {
     "data": {
      "text/plain": [
       "checkHardFields_almostfrozen (generic function with 1 method)"
      ]
     },
     "execution_count": 9,
     "metadata": {},
     "output_type": "execute_result"
    }
   ],
   "source": [
    "function checkHardFields_almostfrozen(popP, xmin)\n",
    "    p1=0.0; pm1=0.0;\n",
    "    for ind=1:size(popP, 2)\n",
    "        th = popP[:,ind]\n",
    "#        p1 += (th[1] > 1.0-xmin ? 1.0 : 0.0)\n",
    "#        pm1 += (th[-1] < -1.0+xmin ? 1.0 : 0.0)\n",
    "        p1 += (1.0 - th[1] < xmin ? 1.0 : 0.0)\n",
    "        pm1 += (1.0 + th[-1] < xmin ? 1.0 : 0.0)\n",
    "    end\n",
    "    p1=p1/size(popP, 2)\n",
    "    pm1=pm1/size(popP, 2)\n",
    "    p1, pm1\n",
    "end"
   ]
  },
  {
   "cell_type": "code",
   "execution_count": 10,
   "metadata": {},
   "outputs": [
    {
     "data": {
      "text/plain": [
       "RSB_entropic_m1 (generic function with 1 method)"
      ]
     },
     "execution_count": 10,
     "metadata": {},
     "output_type": "execute_result"
    }
   ],
   "source": [
    "function RSB_entropic_m1(Λ, K, H, popP_RS, popQ_RS; \n",
    "        maxiter=100, \n",
    "        popsize=1000, \n",
    "        popP = init_pop(popP_RS, 0.9),\n",
    "        popQ = init_pop(popQ_RS, 0.9),\n",
    "        q0=fill(NaN, 1:maxiter),\n",
    "        V=fill(NaN, 1:maxiter),\n",
    "        p1=fill(NaN, 1:maxiter),\n",
    "        pm1=fill(NaN, 1:maxiter),\n",
    "        xmin=10^(-20)\n",
    "    )\n",
    "    \n",
    "    Λ1 = residual(Λ)\n",
    "    K1 = residual(K)\n",
    "    wΛ1 = weights(Λ1)\n",
    "    wK1 = weights(K1)\n",
    "    \n",
    "    @showprogress for t = 1:maxiter\n",
    "        for i = 1:popsize\n",
    "            k = sample(eachindex(K1), wK1)\n",
    "            ind_ths = rand(1:popsize, k)\n",
    "            ths = popP[:,ind_ths]            \n",
    "            s = rand((-1,1))\n",
    "            popQ[0,i] = BP_tu(s, ths[0,:])\n",
    "            #@show ind_ths, s\n",
    "            \n",
    "            ν = fill(0.0, 1:2^k)\n",
    "            σs = fill(tuple(fill(NaN, k)...), 1:2^k)\n",
    "            ν, σs = dist_sigmas(s, ths[0,:], σs, ν)\n",
    "            wν = weights(ν)\n",
    "            ind = sample(eachindex(ν), wν)\n",
    "            σ = convert.(Int64, σs[ind])\n",
    "            #@show σ\n",
    "            elts = [ths[s,i] for (i,s) ∈ zip(eachindex(σ), σ)]\n",
    "            popQ[1,i] = BP_tu(s, elts)\n",
    "\n",
    "            ν = fill(0.0, 1:2^k)\n",
    "            σs = fill(tuple(fill(NaN, k)...), 1:2^k)\n",
    "            ν, σs = dist_sigmas(-s, ths[0,:], σs, ν)\n",
    "            wν = weights(ν)\n",
    "            ind = sample(eachindex(ν), wν)\n",
    "            σ = convert.(Int64, σs[ind])\n",
    "            #@show σ\n",
    "            elts = [ths[s,i] for (i,s) ∈ zip(eachindex(σ), σ)]\n",
    "            popQ[-1,i] = BP_tu(s, elts)\n",
    "        end\n",
    "\n",
    "        q0[t]=0.0; V[t]=0.0; p1[t]=0.0; pm1[t]=0.0\n",
    "        \n",
    "        for i = 1:popsize\n",
    "            d = sample(eachindex(Λ1), wΛ1)\n",
    "            ind_tus = rand(1:popsize, d)\n",
    "            tus = popQ[:,ind_tus]\n",
    "            #@show ind_tus\n",
    "            popP[0,i] = BP_th(H, tus[0,:])\n",
    "            popP[-1,i] = BP_th(H, tus[-1,:])\n",
    "            popP[1,i] = BP_th(H, tus[1,:])\n",
    "            \n",
    "            q0[t]+= popP[0,i]^2\n",
    "            V[t]+= 0.5*popP[1,i]*(1.0+popP[0,i]) - 0.5*popP[-1,i]*(1.0 - popP[0,i])\n",
    "            #p1[t]+=(popP[1,i] == 1.0 ? 1.0 : 0.0)\n",
    "            #pm1[t]+=(popP[-1,i] == -1.0 ? 1.0 : 0.0)\n",
    "            p1[t]+=(1.0 - popP[1,i] < xmin ? 1.0 : 0.0)\n",
    "            pm1[t]+=(1.0 + popP[-1,i] < xmin ? 1.0 : 0.0)\n",
    "        end\n",
    "        \n",
    "        q0[t] = q0[t]/size(popP, 2)\n",
    "        V[t] = V[t]/size(popP, 2)\n",
    "        p1[t] = p1[t]/size(popP, 2)\n",
    "        pm1[t] = pm1[t]/size(popP, 2)\n",
    "    end    \n",
    "    V = V .- q0\n",
    "    #popP, popQ\n",
    "    popP, popQ, q0, V, p1, pm1\n",
    "end"
   ]
  },
  {
   "cell_type": "code",
   "execution_count": 11,
   "metadata": {},
   "outputs": [
    {
     "data": {
      "text/plain": [
       "RSB_entropic_m1_almostfrozen (generic function with 1 method)"
      ]
     },
     "execution_count": 11,
     "metadata": {},
     "output_type": "execute_result"
    }
   ],
   "source": [
    "function RSB_entropic_m1_almostfrozen(Λ, K, H, popP_RS, popQ_RS; \n",
    "        maxiter=100, \n",
    "        popsize=1000, \n",
    "        popP = init_pop(popP_RS, 0.9),\n",
    "        popQ = init_pop(popQ_RS, 0.9),\n",
    "        q0=fill(NaN, 1:maxiter),\n",
    "        V=fill(NaN, 1:maxiter),\n",
    "        p1=fill(NaN, 1:maxiter),\n",
    "        pm1=fill(NaN, 1:maxiter),\n",
    "        xmin=10^(-10), ntry=10\n",
    "    )\n",
    "    \n",
    "    Λ1 = residual(Λ)\n",
    "    K1 = residual(K)\n",
    "    wΛ1 = weights(Λ1)\n",
    "    wK1 = weights(K1)\n",
    "    \n",
    "    @showprogress for t = 1:maxiter\n",
    "        for i = 1:popsize\n",
    "            res1=10; resm1=-10; n=0; res0=0.0\n",
    "            while n<ntry && (1.0 - res1 < xmin || 1.0 + resm1 < xmin)\n",
    "                n+=1\n",
    "                \n",
    "                k = sample(eachindex(K1), wK1)\n",
    "                ind_ths = rand(1:popsize, k)\n",
    "                ths = popP[:,ind_ths]            \n",
    "                s = rand((-1,1))\n",
    "                res0 = BP_tu(s, ths[0,:])\n",
    "\n",
    "                ν = fill(0.0, 1:2^k)\n",
    "                σs = fill(tuple(fill(NaN, k)...), 1:2^k)\n",
    "                ν, σs = dist_sigmas(s, ths[0,:], σs, ν)\n",
    "                wν = weights(ν)\n",
    "                ind = sample(eachindex(ν), wν)\n",
    "                σ = convert.(Int64, σs[ind])\n",
    "                elts = [ths[s,i] for (i,s) ∈ zip(eachindex(σ), σ)]\n",
    "                res1 = BP_tu(s, elts)\n",
    "                \n",
    "\n",
    "                ν = fill(0.0, 1:2^k)\n",
    "                σs = fill(tuple(fill(NaN, k)...), 1:2^k)\n",
    "                ν, σs = dist_sigmas(-s, ths[0,:], σs, ν)\n",
    "                wν = weights(ν)\n",
    "                ind = sample(eachindex(ν), wν)\n",
    "                σ = convert.(Int64, σs[ind])\n",
    "                elts = [ths[s,i] for (i,s) ∈ zip(eachindex(σ), σ)]\n",
    "                resm1 = BP_tu(s, elts)\n",
    "            end\n",
    "            popQ[0,i] = res0; popQ[1,i] = res1; popQ[-1,i]=resm1\n",
    "        end\n",
    "\n",
    "        q0[t]=0.0; V[t]=0.0; p1[t]=0.0; pm1[t]=0.0\n",
    "        \n",
    "        for i = 1:popsize\n",
    "            res1=10; resm1=-10; n=0; res0=0.0\n",
    "            while n<ntry && (1.0 - res1 < xmin || 1.0 + resm1 < xmin)\n",
    "                n+=1\n",
    "                d = sample(eachindex(Λ1), wΛ1)\n",
    "                ind_tus = rand(1:popsize, d)\n",
    "                tus = popQ[:,ind_tus]\n",
    "                res0 = BP_th(H, tus[0,:])\n",
    "                resm1 = BP_th(H, tus[-1,:])\n",
    "                res1 = BP_th(H, tus[1,:])\n",
    "            end\n",
    "            popP[0,i] = res0; popP[-1,i]=resm1; popP[1,i]=res1\n",
    "            \n",
    "            q0[t]+= popP[0,i]^2\n",
    "            V[t]+= 0.5*popP[1,i]*(1.0+popP[0,i]) - 0.5*popP[-1,i]*(1.0 - popP[0,i])\n",
    "            p1[t]+=(1.0 - popP[1,i] < xmin ? 1.0 : 0.0)\n",
    "            pm1[t]+=(1.0 + popP[-1,i] < xmin ? 1.0 : 0.0)\n",
    "        end\n",
    "        \n",
    "        q0[t] = q0[t]/size(popP, 2)\n",
    "        V[t] = V[t]/size(popP, 2)\n",
    "        p1[t] = p1[t]/size(popP, 2)\n",
    "        pm1[t] = pm1[t]/size(popP, 2)\n",
    "    end    \n",
    "    V = V .- q0\n",
    "    #popP, popQ\n",
    "    popP, popQ, q0, V, p1, pm1\n",
    "end"
   ]
  },
  {
   "cell_type": "markdown",
   "metadata": {},
   "source": [
    "Test removing almost frozen variables\n",
    "---"
   ]
  },
  {
   "cell_type": "code",
   "execution_count": 164,
   "metadata": {},
   "outputs": [
    {
     "name": "stderr",
     "output_type": "stream",
     "text": [
      "\u001b[32mProgress: 100%|█████████████████████████████████████████| Time: 0:00:04\u001b[39m\n"
     ]
    }
   ],
   "source": [
    "f3 = 0.1\n",
    "H=3.0\n",
    "Λ = OffsetVector([0,0,1-f3,f3], 0:3)\n",
    "K = OffsetVector([0,0,0,1], 0:3)\n",
    "popsize = 10^4\n",
    "maxiter = 10^3\n",
    "popP_RS = fill(NaN, 1:popsize)\n",
    "popQ_RS = fill(NaN, 1:popsize)\n",
    "popP_RS, popQ_RS = RS(Λ, K, H, maxiter=maxiter, popsize=popsize);"
   ]
  },
  {
   "cell_type": "code",
   "execution_count": 167,
   "metadata": {},
   "outputs": [
    {
     "data": {
      "text/plain": [
       "(0.8364687593886987, 0.9499999999999894, 0.11353124061129072)"
      ]
     },
     "execution_count": 167,
     "metadata": {},
     "output_type": "execute_result"
    }
   ],
   "source": [
    "popP_init = init_pop(popP_RS, 0.95)\n",
    "checkRS(popP_init)"
   ]
  },
  {
   "cell_type": "code",
   "execution_count": 168,
   "metadata": {},
   "outputs": [
    {
     "name": "stderr",
     "output_type": "stream",
     "text": [
      "\u001b[32mProgress: 100%|█████████████████████████████████████████| Time: 0:02:06\u001b[39m\n"
     ]
    },
    {
     "data": {
      "text/plain": [
       "3×10000 OffsetArray(::Array{Float64,2}, -1:1, 1:10000) with eltype Float64 with indices -1:1×1:10000:\n",
       " 0.96291   0.495191  0.683397  0.996268  …  0.999999  0.939276  0.664621\n",
       " 0.962907  0.495186  0.683391  0.996267     0.999999  0.939273  0.664604\n",
       " 0.96291   0.495191  0.683397  0.996268     0.999999  0.939276  0.664621"
      ]
     },
     "execution_count": 168,
     "metadata": {},
     "output_type": "execute_result"
    }
   ],
   "source": [
    "q0=fill(NaN, 1:maxiter)\n",
    "V=fill(NaN, 1:maxiter)\n",
    "p1=fill(NaN, 1:maxiter)\n",
    "pm1=fill(NaN, 1:maxiter)\n",
    "maxiter=10^3\n",
    "xmin=10^(-50)\n",
    "popP = init_pop(popP_RS, 0.9)\n",
    "popQ = init_pop(popQ_RS, 0.9)\n",
    "popP, popQ, q0, V, p1, pm1 = RSB_entropic_m1(Λ, K, H, popP_RS, popQ_RS, maxiter=maxiter, popsize=popsize, popP=popP, popQ=popQ, xmin=xmin)\n",
    "popP"
   ]
  },
  {
   "cell_type": "code",
   "execution_count": 169,
   "metadata": {
    "scrolled": true
   },
   "outputs": [
    {
     "name": "stderr",
     "output_type": "stream",
     "text": [
      "\u001b[32mProgress: 100%|█████████████████████████████████████████| Time: 0:02:11\u001b[39m\n"
     ]
    },
    {
     "data": {
      "text/plain": [
       "3×10000 OffsetArray(::Array{Float64,2}, -1:1, 1:10000) with eltype Float64 with indices -1:1×1:10000:\n",
       " 0.999942  0.999982  0.992987  …  0.830683  -0.959553  0.995021  1.0\n",
       " 0.999942  0.999982  0.992986     0.830803  -0.959554  0.99502   1.0\n",
       " 0.999942  0.999982  0.992987     0.830683  -0.959553  0.995021  1.0"
      ]
     },
     "execution_count": 169,
     "metadata": {},
     "output_type": "execute_result"
    }
   ],
   "source": [
    "q0_af=fill(NaN, 1:maxiter)\n",
    "V_af=fill(NaN, 1:maxiter)\n",
    "p1_af=fill(NaN, 1:maxiter)\n",
    "pm1_af=fill(NaN, 1:maxiter)\n",
    "maxiter=10^3\n",
    "xmin= 10^(-50)\n",
    "ntry=20\n",
    "popP_af = init_pop(popP_RS, 0.9)\n",
    "popQ_af = init_pop(popQ_RS, 0.9)\n",
    "popP_af, popQ_af, q0_af, V_af, p1_af, pm1_af = RSB_entropic_m1_almostfrozen(Λ, K, H, popP_RS, popQ_RS, maxiter=maxiter, popsize=popsize, popP=popP_af, popQ=popQ_af, xmin=xmin, ntry=ntry)\n",
    "popP_af"
   ]
  },
  {
   "cell_type": "code",
   "execution_count": 170,
   "metadata": {},
   "outputs": [
    {
     "data": {
      "text/plain": [
       "Histogram{Int64,1,Tuple{Array{Float64,1}}}\n",
       "edges:\n",
       "  [0.0, 1.0000000000000033e-60, 1.0000000000000017e-30, 1.0000000000000011e-20, 1.0000000000000009e-15, 1.0000000000000006e-10, 0.1, 0.5, 0.54, 1.0]\n",
       "weights: [0, 0, 0, 0, 14, 7015, 1013, 75, 533]\n",
       "closed: left\n",
       "isdensity: false"
      ]
     },
     "execution_count": 170,
     "metadata": {},
     "output_type": "execute_result"
    }
   ],
   "source": [
    "bins = [0.0, 10^(-60), 10^(-30), 10^(-20), 10^(-15), 10^(-10), 0.1, 0.5, 0.54, 1.0]\n",
    "fit(Histogram, 1.0 .- popP_af[1,:], bins)"
   ]
  },
  {
   "cell_type": "code",
   "execution_count": 171,
   "metadata": {},
   "outputs": [
    {
     "data": {
      "text/plain": [
       "Histogram{Int64,1,Tuple{Array{Float64,1}}}\n",
       "edges:\n",
       "  [0.0, 1.0000000000000033e-60, 1.0000000000000017e-30, 1.0000000000000011e-20, 1.0000000000000009e-15, 1.0000000000000006e-10, 0.1, 0.5, 0.54, 1.0]\n",
       "weights: [0, 0, 0, 0, 0, 528, 380, 27, 415]\n",
       "closed: left\n",
       "isdensity: false"
      ]
     },
     "execution_count": 171,
     "metadata": {},
     "output_type": "execute_result"
    }
   ],
   "source": [
    "fit(Histogram, 1.0 .+ popP_af[-1,:], bins)"
   ]
  },
  {
   "cell_type": "code",
   "execution_count": 172,
   "metadata": {},
   "outputs": [
    {
     "data": {
      "text/plain": [
       "Histogram{Int64,1,Tuple{Array{Float64,1}}}\n",
       "edges:\n",
       "  [0.0, 1.0000000000000033e-60, 1.0000000000000017e-30, 1.0000000000000011e-20, 1.0000000000000009e-15, 1.0000000000000006e-10, 0.1, 0.5, 0.54, 1.0]\n",
       "weights: [0, 0, 0, 0, 13, 7056, 874, 43, 550]\n",
       "closed: left\n",
       "isdensity: false"
      ]
     },
     "execution_count": 172,
     "metadata": {},
     "output_type": "execute_result"
    }
   ],
   "source": [
    "fit(Histogram, 1.0 .- popP[1,:], bins)"
   ]
  },
  {
   "cell_type": "code",
   "execution_count": 173,
   "metadata": {},
   "outputs": [
    {
     "data": {
      "text/plain": [
       "Histogram{Int64,1,Tuple{Array{Float64,1}}}\n",
       "edges:\n",
       "  [0.0, 1.0000000000000033e-60, 1.0000000000000017e-30, 1.0000000000000011e-20, 1.0000000000000009e-15, 1.0000000000000006e-10, 0.1, 0.5, 0.54, 1.0]\n",
       "weights: [0, 0, 0, 0, 0, 609, 417, 34, 404]\n",
       "closed: left\n",
       "isdensity: false"
      ]
     },
     "execution_count": 173,
     "metadata": {},
     "output_type": "execute_result"
    }
   ],
   "source": [
    "fit(Histogram, 1.0 .+ popP[-1,:], bins)"
   ]
  },
  {
   "cell_type": "code",
   "execution_count": 175,
   "metadata": {},
   "outputs": [
    {
     "data": {
      "image/png": "[encoded data removed]",
      "text/plain": [
       "Figure(PyObject <Figure size 640x480 with 1 Axes>)"
      ]
     },
     "metadata": {},
     "output_type": "display_data"
    },
    {
     "data": {
      "text/plain": [
       "1-element Array{PyCall.PyObject,1}:\n",
       " PyObject <matplotlib.lines.Line2D object at 0x7fa90bbde1d0>"
      ]
     },
     "execution_count": 175,
     "metadata": {},
     "output_type": "execute_result"
    }
   ],
   "source": [
    "using PyPlot\n",
    "range = 1:200\n",
    "#plot(range, p1[range])\n",
    "plot(range, V[range])\n",
    "plot(range, V_af[range])\n"
   ]
  },
  {
   "cell_type": "code",
   "execution_count": 139,
   "metadata": {},
   "outputs": [
    {
     "data": {
      "image/png": "[encoded data removed]",
      "text/plain": [
       "Figure(PyObject <Figure size 640x480 with 1 Axes>)"
      ]
     },
     "metadata": {},
     "output_type": "display_data"
    },
    {
     "data": {
      "text/plain": [
       "PyObject <matplotlib.legend.Legend object at 0x7fa90e5cda20>"
      ]
     },
     "execution_count": 139,
     "metadata": {},
     "output_type": "execute_result"
    }
   ],
   "source": [
    "using PyPlot\n",
    "range = 1:10:500\n",
    "#plot(range, q0[range], label=\"q0\")\n",
    "#plot(range, V[range] + q0[range], label=\"q1\")\n",
    "plot(range, V[range], label=\"q1-q0\")\n",
    "#plot(range, q0_af[range], label=\"q0, without almost frozen\")\n",
    "#plot(range, V_af[range] .+ q0_af[range], label=\"q1, without almost frozen\")\n",
    "plot(range, V_af[range], label=\"q1-q0, without almost frozen\")\n",
    "legend()"
   ]
  },
  {
   "cell_type": "code",
   "execution_count": 136,
   "metadata": {},
   "outputs": [
    {
     "data": {
      "text/plain": [
       "(0.8536322903862288, 0.8531825870916294)"
      ]
     },
     "execution_count": 136,
     "metadata": {},
     "output_type": "execute_result"
    }
   ],
   "source": [
    "using Statistics\n",
    "cut = 500\n",
    "mean_q0 = mean(q0[cut:maxiter]); std_q0 = std(q0[cut:maxiter])\n",
    "mean_V = mean(V[cut:maxiter]); std_V = std(V[cut:maxiter])\n",
    "mean_q0_af = mean(q0_af[cut:maxiter]); std_q0_af = std(q0_af[cut:maxiter])\n",
    "mean_V_af = mean(V_af[cut:maxiter]); std_V_af = std(V_af[cut:maxiter])\n",
    "mean_q0, mean_q0_af"
   ]
  },
  {
   "cell_type": "code",
   "execution_count": 137,
   "metadata": {},
   "outputs": [
    {
     "data": {
      "text/plain": [
       "(0.006062936476847918, 0.0063732992909228655)"
      ]
     },
     "execution_count": 137,
     "metadata": {},
     "output_type": "execute_result"
    }
   ],
   "source": [
    "std_q0, std_q0_af"
   ]
  },
  {
   "cell_type": "markdown",
   "metadata": {},
   "source": [
    "Some tests\n",
    "---"
   ]
  },
  {
   "cell_type": "code",
   "execution_count": 23,
   "metadata": {},
   "outputs": [],
   "source": [
    "using Unzip"
   ]
  },
  {
   "cell_type": "markdown",
   "metadata": {},
   "source": [
    "With $f3=0$\n",
    "---"
   ]
  },
  {
   "cell_type": "code",
   "execution_count": 24,
   "metadata": {},
   "outputs": [
    {
     "name": "stderr",
     "output_type": "stream",
     "text": [
      "\u001b[32mProgress: 100%|█████████████████████████████████████████| Time: 0:00:03\u001b[39m\n",
      "\u001b[32mProgress: 100%|█████████████████████████████████████████| Time: 0:02:21\u001b[39m\n"
     ]
    },
    {
     "name": "stdout",
     "output_type": "stream",
     "text": [
      "(H, Vs[maxiter, i], p1[maxiter, i]) = (0.0, 0.0, 0.0)\n"
     ]
    },
    {
     "name": "stderr",
     "output_type": "stream",
     "text": [
      "\u001b[32mProgress: 100%|█████████████████████████████████████████| Time: 0:00:04\u001b[39m\n",
      "\u001b[32mProgress: 100%|█████████████████████████████████████████| Time: 0:02:20\u001b[39m\n"
     ]
    },
    {
     "name": "stdout",
     "output_type": "stream",
     "text": [
      "(H, Vs[maxiter, i], p1[maxiter, i]) = (2.0, 0.0, 0.0)\n"
     ]
    },
    {
     "name": "stderr",
     "output_type": "stream",
     "text": [
      "\u001b[32mProgress: 100%|█████████████████████████████████████████| Time: 0:00:04\u001b[39m\n",
      "\u001b[32mProgress: 100%|█████████████████████████████████████████| Time: 0:02:21\u001b[39m\n"
     ]
    },
    {
     "name": "stdout",
     "output_type": "stream",
     "text": [
      "(H, Vs[maxiter, i], p1[maxiter, i]) = (4.0, 0.0, 0.0)\n"
     ]
    },
    {
     "data": {
      "text/plain": [
       "8×3 OffsetArray(::Array{Float64,2}, 1:8, 1:3) with eltype Float64 with indices 1:8×1:3:\n",
       " 0.0     0.0     0.0\n",
       " 0.0     0.0     0.0\n",
       " 0.0     0.0     0.0\n",
       " 0.0     0.0     0.0\n",
       " 0.0     0.0    64.0\n",
       " 0.0  6451.0  7279.0\n",
       " 0.0  1405.0   743.0\n",
       " 0.0  1024.0   766.0"
      ]
     },
     "execution_count": 24,
     "metadata": {},
     "output_type": "execute_result"
    }
   ],
   "source": [
    "f3 = 0.0\n",
    "Λ = OffsetVector([0,0,1-f3,f3], 0:3)\n",
    "K = OffsetVector([0,0,0,1], 0:3)\n",
    "popsize = 10^4\n",
    "maxiter = 10^3\n",
    "xmin=10^(-50)\n",
    "ntry=20\n",
    "\n",
    "Hs = 0.0:2.0:4.0\n",
    "q0s_1=fill(NaN, 1:maxiter, eachindex(Hs))\n",
    "q0s=fill(NaN, 1:maxiter, eachindex(Hs))\n",
    "Vs=fill(NaN, 1:maxiter, eachindex(Hs))\n",
    "p1=fill(NaN, 1:maxiter, eachindex(Hs))\n",
    "pm1=fill(NaN, 1:maxiter, eachindex(Hs))\n",
    "bins = [0.0, 10^(-60), 10^(-30), 10^(-20), 10^(-15), 10^(-10), 0.1, 0.5, 1.0]\n",
    "HistPopP1s = fill(NaN, 1:(length(bins)-1), eachindex(Hs))\n",
    "\n",
    "for (i,H) in pairs(Hs)\n",
    "    popP_RS = fill(NaN, 1:popsize)\n",
    "    popQ_RS = fill(NaN, 1:popsize)\n",
    "    popP_RS, popQ_RS, q0s_1[:,i] = RS(Λ, K, H, maxiter=maxiter, popsize=popsize)\n",
    "\n",
    "    popP = fill(NaN, -1:1, 1:popsize);\n",
    "    popQ = fill(NaN, -1:1, 1:popsize);\n",
    "    #popP, popQ, q0s[:,i], Vs[:,i], p1[:,i], pm1[:,i] = RSB_entropic_m1(Λ, K, H, popP_RS, popQ_RS, maxiter=maxiter, popsize=popsize)\n",
    "    popP, popQ, q0s[:,i], Vs[:,i], p1[:,i], pm1[:,i] = RSB_entropic_m1_almostfrozen(Λ, K, H, popP_RS, popQ_RS, maxiter=maxiter, popsize=popsize, xmin=xmin, ntry=ntry)    \n",
    "    \n",
    "    HistPopP1s[:,i] = fit(Histogram, 1.0 .- popP[1,:], bins).weights\n",
    "    \n",
    "    @show H, Vs[maxiter, i], p1[maxiter, i]\n",
    "end\n",
    "H_f0_pop1e4_af = Hs\n",
    "q0_1_f0_pop1e4_af = q0s_1\n",
    "q0_f0_pop1e4_af = q0s\n",
    "V_f0_pop1e4_af = Vs\n",
    "p1_f0_pop1e4_af = p1\n",
    "pm1_f0_pop1e4_af = pm1\n",
    "Hist_f0_pop1e4_af = HistPopP1s"
   ]
  },
  {
   "cell_type": "code",
   "execution_count": 25,
   "metadata": {},
   "outputs": [
    {
     "name": "stderr",
     "output_type": "stream",
     "text": [
      "\u001b[32mProgress: 100%|█████████████████████████████████████████| Time: 0:00:03\u001b[39m\n",
      "\u001b[32mProgress: 100%|█████████████████████████████████████████| Time: 0:02:12\u001b[39m\n"
     ]
    },
    {
     "name": "stdout",
     "output_type": "stream",
     "text": [
      "(H, Vs[maxiter, i], p1[maxiter, i]) = (0.0, 0.0, 0.0)\n"
     ]
    },
    {
     "name": "stderr",
     "output_type": "stream",
     "text": [
      "\u001b[32mProgress: 100%|█████████████████████████████████████████| Time: 0:00:04\u001b[39m\n",
      "\u001b[32mProgress: 100%|█████████████████████████████████████████| Time: 0:02:11\u001b[39m\n"
     ]
    },
    {
     "name": "stdout",
     "output_type": "stream",
     "text": [
      "(H, Vs[maxiter, i], p1[maxiter, i]) = (2.0, 0.0, 0.0)\n"
     ]
    },
    {
     "name": "stderr",
     "output_type": "stream",
     "text": [
      "\u001b[32mProgress: 100%|█████████████████████████████████████████| Time: 0:00:04\u001b[39m\n",
      "\u001b[32mProgress: 100%|█████████████████████████████████████████| Time: 0:02:10\u001b[39m\n"
     ]
    },
    {
     "name": "stdout",
     "output_type": "stream",
     "text": [
      "(H, Vs[maxiter, i], p1[maxiter, i]) = (4.0, 0.0, 0.0)\n"
     ]
    },
    {
     "data": {
      "text/plain": [
       "8×3 OffsetArray(::Array{Float64,2}, 1:8, 1:3) with eltype Float64 with indices 1:8×1:3:\n",
       " 0.0     0.0     0.0\n",
       " 0.0     0.0     0.0\n",
       " 0.0     0.0     0.0\n",
       " 0.0     0.0     0.0\n",
       " 0.0     0.0    70.0\n",
       " 0.0  6455.0  7290.0\n",
       " 0.0  1489.0   737.0\n",
       " 0.0  1019.0   778.0"
      ]
     },
     "execution_count": 25,
     "metadata": {},
     "output_type": "execute_result"
    }
   ],
   "source": [
    "f3 = 0.0\n",
    "Λ = OffsetVector([0,0,1-f3,f3], 0:3)\n",
    "K = OffsetVector([0,0,0,1], 0:3)\n",
    "popsize = 10^4\n",
    "maxiter = 10^3\n",
    "xmin=10^(-50)\n",
    "ntry=20\n",
    "\n",
    "Hs = 0.0:2.0:4.0\n",
    "q0s_1=fill(NaN, 1:maxiter, eachindex(Hs))\n",
    "q0s=fill(NaN, 1:maxiter, eachindex(Hs))\n",
    "Vs=fill(NaN, 1:maxiter, eachindex(Hs))\n",
    "p1=fill(NaN, 1:maxiter, eachindex(Hs))\n",
    "pm1=fill(NaN, 1:maxiter, eachindex(Hs))\n",
    "bins = [0.0, 10^(-60), 10^(-30), 10^(-20), 10^(-15), 10^(-10), 0.1, 0.5, 1.0]\n",
    "HistPopP1s = fill(NaN, 1:(length(bins)-1), eachindex(Hs))\n",
    "\n",
    "for (i,H) in pairs(Hs)\n",
    "    popP_RS = fill(NaN, 1:popsize)\n",
    "    popQ_RS = fill(NaN, 1:popsize)\n",
    "    popP_RS, popQ_RS, q0s_1[:,i] = RS(Λ, K, H, maxiter=maxiter, popsize=popsize)\n",
    "\n",
    "    popP = fill(NaN, -1:1, 1:popsize);\n",
    "    popQ = fill(NaN, -1:1, 1:popsize);\n",
    "    popP, popQ, q0s[:,i], Vs[:,i], p1[:,i], pm1[:,i] = RSB_entropic_m1(Λ, K, H, popP_RS, popQ_RS, maxiter=maxiter, popsize=popsize)\n",
    "    #popP, popQ, q0s[:,i], Vs[:,i], p1[:,i], pm1[:,i] = RSB_entropic_m1_almostfrozen(Λ, K, H, popP_RS, popQ_RS, maxiter=maxiter, popsize=popsize, xmin=xmin, ntry=ntry)    \n",
    "    \n",
    "    HistPopP1s[:,i] = fit(Histogram, 1.0 .- popP[1,:], bins).weights\n",
    "    \n",
    "    @show H, Vs[maxiter, i], p1[maxiter, i]\n",
    "end\n",
    "H_f0_pop1e4 = Hs\n",
    "q0_1_f0_pop1e4 = q0s_1\n",
    "q0_f0_pop1e4 = q0s\n",
    "V_f0_pop1e4 = Vs\n",
    "p1_f0_pop1e4 = p1\n",
    "pm1_f0_pop1e4 = pm1\n",
    "Hist_f0_pop1e4 = HistPopP1s"
   ]
  },
  {
   "cell_type": "markdown",
   "metadata": {},
   "source": [
    "With $f_3=0.1$\n",
    "---"
   ]
  },
  {
   "cell_type": "code",
   "execution_count": 108,
   "metadata": {},
   "outputs": [
    {
     "name": "stderr",
     "output_type": "stream",
     "text": [
      "\u001b[32mProgress: 100%|█████████████████████████████████████████| Time: 0:00:04\u001b[39m\n",
      "\u001b[32mProgress: 100%|█████████████████████████████████████████| Time: 0:02:20\u001b[39m\n"
     ]
    },
    {
     "name": "stdout",
     "output_type": "stream",
     "text": [
      "(H, Vs[maxiter, i], p1[maxiter, i]) = (0.0, 0.0, 0.0)\n"
     ]
    },
    {
     "name": "stderr",
     "output_type": "stream",
     "text": [
      "\u001b[32mProgress: 100%|█████████████████████████████████████████| Time: 0:00:04\u001b[39m\n",
      "\u001b[32mProgress: 100%|█████████████████████████████████████████| Time: 0:02:21\u001b[39m\n"
     ]
    },
    {
     "name": "stdout",
     "output_type": "stream",
     "text": [
      "(H, Vs[maxiter, i], p1[maxiter, i]) = (2.0, 0.0, 0.0)\n"
     ]
    },
    {
     "name": "stderr",
     "output_type": "stream",
     "text": [
      "\u001b[32mProgress: 100%|█████████████████████████████████████████| Time: 0:00:04\u001b[39m\n",
      "\u001b[32mProgress: 100%|█████████████████████████████████████████| Time: 0:02:21\u001b[39m\n"
     ]
    },
    {
     "name": "stdout",
     "output_type": "stream",
     "text": [
      "(H, Vs[maxiter, i], p1[maxiter, i]) = (4.0, -0.01052051794998099, 0.0)\n"
     ]
    },
    {
     "name": "stderr",
     "output_type": "stream",
     "text": [
      "\u001b[32mProgress: 100%|█████████████████████████████████████████| Time: 0:00:04\u001b[39m\n",
      "\u001b[32mProgress: 100%|█████████████████████████████████████████| Time: 0:02:21\u001b[39m\n"
     ]
    },
    {
     "name": "stdout",
     "output_type": "stream",
     "text": [
      "(H, Vs[maxiter, i], p1[maxiter, i]) = (6.0, -0.05465023103653954, 0.0)\n"
     ]
    },
    {
     "data": {
      "text/plain": [
       "8×4 OffsetArray(::Array{Float64,2}, 1:8, 1:4) with eltype Float64 with indices 1:8×1:4:\n",
       " 0.0     0.0     0.0     0.0\n",
       " 0.0     0.0     0.0     0.0\n",
       " 0.0     0.0     0.0     0.0\n",
       " 0.0     0.0     2.0    77.0\n",
       " 0.0     0.0   179.0  1276.0\n",
       " 0.0  6438.0  7261.0  6546.0\n",
       " 0.0  1409.0   727.0   390.0\n",
       " 0.0   824.0   430.0   318.0"
      ]
     },
     "execution_count": 108,
     "metadata": {},
     "output_type": "execute_result"
    }
   ],
   "source": [
    "f3 = 0.1\n",
    "Λ = OffsetVector([0,0,1-f3,f3], 0:3)\n",
    "K = OffsetVector([0,0,0,1], 0:3)\n",
    "popsize = 10^4\n",
    "maxiter = 10^3\n",
    "xmin=10^(-50)\n",
    "ntry=20\n",
    "\n",
    "Hs = 0.0:2.0:6.0\n",
    "q0s_1=fill(NaN, 1:maxiter, eachindex(Hs))\n",
    "q0s=fill(NaN, 1:maxiter, eachindex(Hs))\n",
    "Vs=fill(NaN, 1:maxiter, eachindex(Hs))\n",
    "p1=fill(NaN, 1:maxiter, eachindex(Hs))\n",
    "pm1=fill(NaN, 1:maxiter, eachindex(Hs))\n",
    "bins = [0.0, 10^(-60), 10^(-30), 10^(-20), 10^(-15), 10^(-10), 0.1, 0.5, 1.0]\n",
    "HistPopP1s = fill(NaN, 1:(length(bins)-1), eachindex(Hs))\n",
    "\n",
    "for (i,H) in pairs(Hs)\n",
    "    popP_RS = fill(NaN, 1:popsize)\n",
    "    popQ_RS = fill(NaN, 1:popsize)\n",
    "    popP_RS, popQ_RS, q0s_1[:,i] = RS(Λ, K, H, maxiter=maxiter, popsize=popsize)\n",
    "\n",
    "    popP = init_pop(popP_RS, 0.99);\n",
    "    popQ = init_pop(popQ_RS, 0.99);\n",
    "    #popP, popQ, q0s[:,i], Vs[:,i], p1[:,i], pm1[:,i] = RSB_entropic_m1(Λ, K, H, popP_RS, popQ_RS, maxiter=maxiter, popsize=popsize)\n",
    "    popP, popQ, q0s[:,i], Vs[:,i], p1[:,i], pm1[:,i] = RSB_entropic_m1_almostfrozen(Λ, K, H, popP_RS, popQ_RS, maxiter=maxiter, popsize=popsize, popP=popP, popQ=popQ, xmin=xmin, ntry=ntry)    \n",
    "    \n",
    "    HistPopP1s[:,i] = fit(Histogram, 1.0 .- popP[1,:], bins).weights\n",
    "    \n",
    "    @show H, Vs[maxiter, i], p1[maxiter, i]\n",
    "end\n",
    "H_f0p1_pop1e4_af = Hs\n",
    "q0_1_f0p1_pop1e4_af = q0s_1\n",
    "q0_f0p1_pop1e4_af = q0s\n",
    "V_f0p1_pop1e4_af = Vs\n",
    "p1_f0p1_pop1e4_af = p1\n",
    "pm1_f0p1_pop1e4_af = pm1\n",
    "Hist_f0p1_pop1e4_af = HistPopP1s"
   ]
  },
  {
   "cell_type": "code",
   "execution_count": 109,
   "metadata": {},
   "outputs": [
    {
     "name": "stderr",
     "output_type": "stream",
     "text": [
      "\u001b[32mProgress: 100%|█████████████████████████████████████████| Time: 0:00:04\u001b[39m\n",
      "\u001b[32mProgress: 100%|█████████████████████████████████████████| Time: 0:02:11\u001b[39m\n"
     ]
    },
    {
     "name": "stdout",
     "output_type": "stream",
     "text": [
      "(H, Vs[maxiter, i], p1[maxiter, i]) = (0.0, 0.0, 0.0)\n"
     ]
    },
    {
     "name": "stderr",
     "output_type": "stream",
     "text": [
      "\u001b[32mProgress: 100%|█████████████████████████████████████████| Time: 0:00:04\u001b[39m\n",
      "\u001b[32mProgress: 100%|█████████████████████████████████████████| Time: 0:02:12\u001b[39m\n"
     ]
    },
    {
     "name": "stdout",
     "output_type": "stream",
     "text": [
      "(H, Vs[maxiter, i], p1[maxiter, i]) = (2.0, 4.440892098500626e-16, 0.0)\n"
     ]
    },
    {
     "name": "stderr",
     "output_type": "stream",
     "text": [
      "\u001b[32mProgress: 100%|█████████████████████████████████████████| Time: 0:00:04\u001b[39m\n",
      "\u001b[32mProgress: 100%|█████████████████████████████████████████| Time: 0:02:12\u001b[39m\n"
     ]
    },
    {
     "name": "stdout",
     "output_type": "stream",
     "text": [
      "(H, Vs[maxiter, i], p1[maxiter, i]) = (4.0, -0.013692140729182234, 0.0001)\n"
     ]
    },
    {
     "name": "stderr",
     "output_type": "stream",
     "text": [
      "\u001b[32mProgress: 100%|█████████████████████████████████████████| Time: 0:00:04\u001b[39m\n",
      "\u001b[32mProgress: 100%|█████████████████████████████████████████| Time: 0:02:12\u001b[39m\n"
     ]
    },
    {
     "name": "stdout",
     "output_type": "stream",
     "text": [
      "(H, Vs[maxiter, i], p1[maxiter, i]) = (6.0, -0.06423803757348634, 0.0095)\n"
     ]
    },
    {
     "data": {
      "text/plain": [
       "8×4 OffsetArray(::Array{Float64,2}, 1:8, 1:4) with eltype Float64 with indices 1:8×1:4:\n",
       " 0.0     0.0     1.0    95.0\n",
       " 0.0     0.0     0.0     0.0\n",
       " 0.0     0.0     0.0     0.0\n",
       " 0.0     0.0     1.0    64.0\n",
       " 0.0     0.0   206.0  1311.0\n",
       " 0.0  6227.0  7335.0  6406.0\n",
       " 0.0  1541.0   635.0   500.0\n",
       " 0.0   891.0   358.0   266.0"
      ]
     },
     "execution_count": 109,
     "metadata": {},
     "output_type": "execute_result"
    }
   ],
   "source": [
    "f3 = 0.1\n",
    "Λ = OffsetVector([0,0,1-f3,f3], 0:3)\n",
    "K = OffsetVector([0,0,0,1], 0:3)\n",
    "popsize = 10^4\n",
    "maxiter = 10^3\n",
    "xmin=10^(-50)\n",
    "ntry=20\n",
    "\n",
    "Hs = 0.0:2.0:6.0\n",
    "q0s_1=fill(NaN, 1:maxiter, eachindex(Hs))\n",
    "q0s=fill(NaN, 1:maxiter, eachindex(Hs))\n",
    "Vs=fill(NaN, 1:maxiter, eachindex(Hs))\n",
    "p1=fill(NaN, 1:maxiter, eachindex(Hs))\n",
    "pm1=fill(NaN, 1:maxiter, eachindex(Hs))\n",
    "bins = [0.0, 10^(-60), 10^(-30), 10^(-20), 10^(-15), 10^(-10), 0.1, 0.5, 1.0]\n",
    "HistPopP1s = fill(NaN, 1:(length(bins)-1), eachindex(Hs))\n",
    "\n",
    "for (i,H) in pairs(Hs)\n",
    "    popP_RS = fill(NaN, 1:popsize)\n",
    "    popQ_RS = fill(NaN, 1:popsize)\n",
    "    popP_RS, popQ_RS, q0s_1[:,i] = RS(Λ, K, H, maxiter=maxiter, popsize=popsize)\n",
    "\n",
    "    popP = init_pop(popP_RS, 0.99);\n",
    "    popQ = init_pop(popQ_RS, 0.99);\n",
    "    popP, popQ, q0s[:,i], Vs[:,i], p1[:,i], pm1[:,i] = RSB_entropic_m1(Λ, K, H, popP_RS, popQ_RS, maxiter=maxiter, popsize=popsize, popP=popP, popQ=popQ)\n",
    "    #popP, popQ, q0s[:,i], Vs[:,i], p1[:,i], pm1[:,i] = RSB_entropic_m1_almostfrozen(Λ, K, H, popP_RS, popQ_RS, maxiter=maxiter, popsize=popsize, xmin=xmin, ntry=ntry)    \n",
    "    \n",
    "    HistPopP1s[:,i] = fit(Histogram, 1.0 .- popP[1,:], bins).weights\n",
    "    \n",
    "    @show H, Vs[maxiter, i], p1[maxiter, i]\n",
    "end\n",
    "H_f0p1_pop1e4 = Hs\n",
    "q0_1_f0p1_pop1e4 = q0s_1\n",
    "q0_f0p1_pop1e4 = q0s\n",
    "V_f0p1_pop1e4 = Vs\n",
    "p1_f0p1_pop1e4 = p1\n",
    "pm1_f0p1_pop1e4 = pm1\n",
    "Hist_f0p1_pop1e4 = HistPopP1s"
   ]
  },
  {
   "cell_type": "code",
   "execution_count": 111,
   "metadata": {},
   "outputs": [
    {
     "data": {
      "text/plain": [
       "0.7762317801820772"
      ]
     },
     "execution_count": 111,
     "metadata": {},
     "output_type": "execute_result"
    }
   ],
   "source": [
    "V_f0p1_pop1e4[, i]+q0_f0p1_pop1e4[1, i]"
   ]
  },
  {
   "cell_type": "code",
   "execution_count": 154,
   "metadata": {},
   "outputs": [
    {
     "data": {
      "image/png": "[encoded data removed]",
      "text/plain": [
       "Figure(PyObject <Figure size 640x480 with 1 Axes>)"
      ]
     },
     "metadata": {},
     "output_type": "display_data"
    },
    {
     "data": {
      "text/plain": [
       "1-element Array{PyCall.PyObject,1}:\n",
       " PyObject <matplotlib.lines.Line2D object at 0x7fa90bf5c5f8>"
      ]
     },
     "execution_count": 154,
     "metadata": {},
     "output_type": "execute_result"
    }
   ],
   "source": [
    "range=1:50:1000\n",
    "i=3\n",
    "plot(range, q0_1_f0p1_pop1e4[range, i])\n",
    "plot(range, q0_1_f0p1_pop1e4_af[range, i])"
   ]
  },
  {
   "cell_type": "markdown",
   "metadata": {},
   "source": [
    "With $f_3=0.2$\n",
    "---"
   ]
  },
  {
   "cell_type": "code",
   "execution_count": 155,
   "metadata": {},
   "outputs": [
    {
     "name": "stderr",
     "output_type": "stream",
     "text": [
      "\u001b[32mProgress: 100%|█████████████████████████████████████████| Time: 0:00:04\u001b[39m\n",
      "\u001b[32mProgress: 100%|█████████████████████████████████████████| Time: 0:02:16\u001b[39m\n"
     ]
    },
    {
     "name": "stdout",
     "output_type": "stream",
     "text": [
      "(H, Vs[maxiter, i], p1[maxiter, i]) = (1.0, 0.0, 0.0)\n"
     ]
    },
    {
     "name": "stderr",
     "output_type": "stream",
     "text": [
      "\u001b[32mProgress: 100%|█████████████████████████████████████████| Time: 0:00:04\u001b[39m\n",
      "\u001b[32mProgress: 100%|█████████████████████████████████████████| Time: 0:02:07\u001b[39m\n"
     ]
    },
    {
     "name": "stdout",
     "output_type": "stream",
     "text": [
      "(H, Vs[maxiter, i], p1[maxiter, i]) = (1.2, 0.0, 0.0)\n"
     ]
    },
    {
     "name": "stderr",
     "output_type": "stream",
     "text": [
      "\u001b[32mProgress: 100%|█████████████████████████████████████████| Time: 0:00:04\u001b[39m\n",
      "\u001b[32mProgress: 100%|█████████████████████████████████████████| Time: 0:02:08\u001b[39m\n"
     ]
    },
    {
     "name": "stdout",
     "output_type": "stream",
     "text": [
      "(H, Vs[maxiter, i], p1[maxiter, i]) = (1.4, 2.220446049250313e-16, 0.0)\n"
     ]
    },
    {
     "name": "stderr",
     "output_type": "stream",
     "text": [
      "\u001b[32mProgress: 100%|█████████████████████████████████████████| Time: 0:00:04\u001b[39m\n",
      "\u001b[32mProgress: 100%|█████████████████████████████████████████| Time: 0:02:08\u001b[39m\n"
     ]
    },
    {
     "name": "stdout",
     "output_type": "stream",
     "text": [
      "(H, Vs[maxiter, i], p1[maxiter, i]) = (1.6, 3.2955860262973147e-12, 0.0)\n"
     ]
    },
    {
     "name": "stderr",
     "output_type": "stream",
     "text": [
      "\u001b[32mProgress: 100%|█████████████████████████████████████████| Time: 0:00:04\u001b[39m\n",
      "\u001b[32mProgress: 100%|█████████████████████████████████████████| Time: 0:02:09\u001b[39m\n"
     ]
    },
    {
     "name": "stdout",
     "output_type": "stream",
     "text": [
      "(H, Vs[maxiter, i], p1[maxiter, i]) = (1.8, 0.26583304765729865, 0.0)\n"
     ]
    },
    {
     "name": "stderr",
     "output_type": "stream",
     "text": [
      "\u001b[32mProgress: 100%|█████████████████████████████████████████| Time: 0:00:04\u001b[39m\n",
      "\u001b[32mProgress: 100%|█████████████████████████████████████████| Time: 0:02:08\u001b[39m\n"
     ]
    },
    {
     "name": "stdout",
     "output_type": "stream",
     "text": [
      "(H, Vs[maxiter, i], p1[maxiter, i]) = (2.0, 0.24883677586845943, 0.0)\n"
     ]
    },
    {
     "data": {
      "text/plain": [
       "8×6 OffsetArray(::Array{Float64,2}, 1:8, 1:6) with eltype Float64 with indices 1:8×1:6:\n",
       "    0.0     0.0     0.0     0.0     0.0     0.0\n",
       "    0.0     0.0     0.0     0.0     0.0     0.0\n",
       "    0.0     0.0     0.0     0.0     0.0     0.0\n",
       "    0.0     0.0     0.0     0.0   243.0   353.0\n",
       "    0.0     0.0     0.0     0.0  2691.0  2973.0\n",
       " 2784.0  3862.0  4689.0  5473.0  7038.0  6659.0\n",
       " 4395.0  3450.0  2880.0  2147.0    14.0    13.0\n",
       " 1707.0  1426.0  1121.0  1027.0     2.0     0.0"
      ]
     },
     "execution_count": 155,
     "metadata": {},
     "output_type": "execute_result"
    }
   ],
   "source": [
    "f3 = 0.2\n",
    "Λ = OffsetVector([0,0,1-f3,f3], 0:3)\n",
    "K = OffsetVector([0,0,0,1], 0:3)\n",
    "popsize = 10^4\n",
    "maxiter = 10^3\n",
    "xmin=10^(-50)\n",
    "ntry=20\n",
    "\n",
    "Hs = 1.0:0.2:2.0\n",
    "q0s_1=fill(NaN, 1:maxiter, eachindex(Hs))\n",
    "q0s=fill(NaN, 1:maxiter, eachindex(Hs))\n",
    "Vs=fill(NaN, 1:maxiter, eachindex(Hs))\n",
    "p1=fill(NaN, 1:maxiter, eachindex(Hs))\n",
    "pm1=fill(NaN, 1:maxiter, eachindex(Hs))\n",
    "bins = [0.0, 10^(-60), 10^(-30), 10^(-20), 10^(-15), 10^(-10), 0.1, 0.5, 1.0]\n",
    "HistPopP1s = fill(NaN, 1:(length(bins)-1), eachindex(Hs))\n",
    "\n",
    "for (i,H) in pairs(Hs)\n",
    "    popP_RS = fill(NaN, 1:popsize)\n",
    "    popQ_RS = fill(NaN, 1:popsize)\n",
    "    popP_RS, popQ_RS, q0s_1[:,i] = RS(Λ, K, H, maxiter=maxiter, popsize=popsize)\n",
    "\n",
    "    popP = fill(NaN, -1:1, 1:popsize);\n",
    "    popQ = fill(NaN, -1:1, 1:popsize);\n",
    "    #popP, popQ, q0s[:,i], Vs[:,i], p1[:,i], pm1[:,i] = RSB_entropic_m1(Λ, K, H, popP_RS, popQ_RS, maxiter=maxiter, popsize=popsize)\n",
    "    popP, popQ, q0s[:,i], Vs[:,i], p1[:,i], pm1[:,i] = RSB_entropic_m1_almostfrozen(Λ, K, H, popP_RS, popQ_RS, maxiter=maxiter, popsize=popsize, xmin=xmin, ntry=ntry)    \n",
    "    \n",
    "    HistPopP1s[:,i] = fit(Histogram, 1.0 .- popP[1,:], bins).weights\n",
    "    \n",
    "    @show H, Vs[maxiter, i], p1[maxiter, i]\n",
    "end\n",
    "H_f0p2_pop1e4_af = Hs\n",
    "q0_1_f0p2_pop1e4_af = q0s_1\n",
    "q0_f0p2_pop1e4_af = q0s\n",
    "V_f0p2_pop1e4_af = Vs\n",
    "p1_f0p2_pop1e4_af = p1\n",
    "pm1_f0p2_pop1e4_af = pm1\n",
    "Hist_f0p2_pop1e4_af = HistPopP1s"
   ]
  },
  {
   "cell_type": "code",
   "execution_count": 156,
   "metadata": {},
   "outputs": [
    {
     "name": "stderr",
     "output_type": "stream",
     "text": [
      "\u001b[32mProgress: 100%|█████████████████████████████████████████| Time: 0:00:04\u001b[39m\n",
      "\u001b[32mProgress: 100%|█████████████████████████████████████████| Time: 0:02:03\u001b[39m\n"
     ]
    },
    {
     "name": "stdout",
     "output_type": "stream",
     "text": [
      "(H, Vs[maxiter, i], p1[maxiter, i]) = (1.0, 0.0, 0.0)\n"
     ]
    },
    {
     "name": "stderr",
     "output_type": "stream",
     "text": [
      "\u001b[32mProgress: 100%|█████████████████████████████████████████| Time: 0:00:04\u001b[39m\n",
      "\u001b[32mProgress: 100%|█████████████████████████████████████████| Time: 0:02:06\u001b[39m\n"
     ]
    },
    {
     "name": "stdout",
     "output_type": "stream",
     "text": [
      "(H, Vs[maxiter, i], p1[maxiter, i]) = (1.2, -2.220446049250313e-16, 0.0)\n"
     ]
    },
    {
     "name": "stderr",
     "output_type": "stream",
     "text": [
      "\u001b[32mProgress: 100%|█████████████████████████████████████████| Time: 0:00:04\u001b[39m\n",
      "\u001b[32mProgress: 100%|█████████████████████████████████████████| Time: 0:02:04\u001b[39m\n"
     ]
    },
    {
     "name": "stdout",
     "output_type": "stream",
     "text": [
      "(H, Vs[maxiter, i], p1[maxiter, i]) = (1.4, 2.220446049250313e-16, 0.0)\n"
     ]
    },
    {
     "name": "stderr",
     "output_type": "stream",
     "text": [
      "\u001b[32mProgress: 100%|█████████████████████████████████████████| Time: 0:00:04\u001b[39m\n",
      "\u001b[32mProgress: 100%|█████████████████████████████████████████| Time: 0:02:05\u001b[39m\n"
     ]
    },
    {
     "name": "stdout",
     "output_type": "stream",
     "text": [
      "(H, Vs[maxiter, i], p1[maxiter, i]) = (1.6, 2.823297151621773e-13, 0.0)\n"
     ]
    },
    {
     "name": "stderr",
     "output_type": "stream",
     "text": [
      "\u001b[32mProgress: 100%|█████████████████████████████████████████| Time: 0:00:04\u001b[39m\n",
      "\u001b[32mProgress: 100%|█████████████████████████████████████████| Time: 0:02:05\u001b[39m\n"
     ]
    },
    {
     "name": "stdout",
     "output_type": "stream",
     "text": [
      "(H, Vs[maxiter, i], p1[maxiter, i]) = (1.8, 0.25927293903795867, 1.0)\n"
     ]
    },
    {
     "name": "stderr",
     "output_type": "stream",
     "text": [
      "\u001b[32mProgress: 100%|█████████████████████████████████████████| Time: 0:00:04\u001b[39m\n",
      "\u001b[32mProgress: 100%|█████████████████████████████████████████| Time: 0:02:07\u001b[39m\n"
     ]
    },
    {
     "name": "stdout",
     "output_type": "stream",
     "text": [
      "(H, Vs[maxiter, i], p1[maxiter, i]) = (2.0, 0.23478279210124342, 1.0)\n"
     ]
    },
    {
     "data": {
      "text/plain": [
       "8×6 OffsetArray(::Array{Float64,2}, 1:8, 1:6) with eltype Float64 with indices 1:8×1:6:\n",
       "    0.0     0.0     0.0     0.0  10000.0  10000.0\n",
       "    0.0     0.0     0.0     0.0      0.0      0.0\n",
       "    0.0     0.0     0.0     0.0      0.0      0.0\n",
       "    0.0     0.0     0.0     0.0      0.0      0.0\n",
       "    0.0     0.0     0.0     0.0      0.0      0.0\n",
       " 2783.0  3782.0  4682.0  5351.0      0.0      0.0\n",
       " 4419.0  3533.0  2839.0  2217.0      0.0      0.0\n",
       " 1742.0  1420.0  1167.0  1083.0      0.0      0.0"
      ]
     },
     "execution_count": 156,
     "metadata": {},
     "output_type": "execute_result"
    }
   ],
   "source": [
    "f3 = 0.2\n",
    "Λ = OffsetVector([0,0,1-f3,f3], 0:3)\n",
    "K = OffsetVector([0,0,0,1], 0:3)\n",
    "popsize = 10^4\n",
    "maxiter = 10^3\n",
    "xmin=10^(-50)\n",
    "ntry=20\n",
    "\n",
    "Hs = 1.0:0.2:2.0\n",
    "q0s_1=fill(NaN, 1:maxiter, eachindex(Hs))\n",
    "q0s=fill(NaN, 1:maxiter, eachindex(Hs))\n",
    "Vs=fill(NaN, 1:maxiter, eachindex(Hs))\n",
    "p1=fill(NaN, 1:maxiter, eachindex(Hs))\n",
    "pm1=fill(NaN, 1:maxiter, eachindex(Hs))\n",
    "bins = [0.0, 10^(-60), 10^(-30), 10^(-20), 10^(-15), 10^(-10), 0.1, 0.5, 1.0]\n",
    "HistPopP1s = fill(NaN, 1:(length(bins)-1), eachindex(Hs))\n",
    "\n",
    "for (i,H) in pairs(Hs)\n",
    "    popP_RS = fill(NaN, 1:popsize)\n",
    "    popQ_RS = fill(NaN, 1:popsize)\n",
    "    popP_RS, popQ_RS, q0s_1[:,i] = RS(Λ, K, H, maxiter=maxiter, popsize=popsize)\n",
    "\n",
    "    popP = fill(NaN, -1:1, 1:popsize);\n",
    "    popQ = fill(NaN, -1:1, 1:popsize);\n",
    "    popP, popQ, q0s[:,i], Vs[:,i], p1[:,i], pm1[:,i] = RSB_entropic_m1(Λ, K, H, popP_RS, popQ_RS, maxiter=maxiter, popsize=popsize)\n",
    "    #popP, popQ, q0s[:,i], Vs[:,i], p1[:,i], pm1[:,i] = RSB_entropic_m1_almostfrozen(Λ, K, H, popP_RS, popQ_RS, maxiter=maxiter, popsize=popsize, xmin=xmin, ntry=ntry)    \n",
    "    \n",
    "    HistPopP1s[:,i] = fit(Histogram, 1.0 .- popP[1,:], bins).weights\n",
    "    \n",
    "    @show H, Vs[maxiter, i], p1[maxiter, i]\n",
    "end\n",
    "H_f0p2_pop1e4 = Hs\n",
    "q0_1_f0p2_pop1e4 = q0s_1\n",
    "q0_f0p2_pop1e4 = q0s\n",
    "V_f0p2_pop1e4 = Vs\n",
    "p1_f0p2_pop1e4 = p1\n",
    "pm1_f0p2_pop1e4 = pm1\n",
    "Hist_f0p2_pop1e4 = HistPopP1s"
   ]
  },
  {
   "cell_type": "code",
   "execution_count": 163,
   "metadata": {},
   "outputs": [
    {
     "data": {
      "image/png": "[encoded data removed]",
      "text/plain": [
       "Figure(PyObject <Figure size 640x480 with 1 Axes>)"
      ]
     },
     "metadata": {},
     "output_type": "display_data"
    },
    {
     "data": {
      "text/plain": [
       "1-element Array{PyCall.PyObject,1}:\n",
       " PyObject <matplotlib.lines.Line2D object at 0x7fa90bc9a748>"
      ]
     },
     "execution_count": 163,
     "metadata": {},
     "output_type": "execute_result"
    }
   ],
   "source": [
    "i=6\n",
    "range=500:1000\n",
    "plot(range, q0_1_f0p2_pop1e4[range, i])\n",
    "plot(range, q0_1_f0p2_pop1e4_af[range, i])\n",
    "plot(range, V_f0p2_pop1e4[range, i])\n",
    "plot(range, V_f0p2_pop1e4_af[range, i])"
   ]
  },
  {
   "cell_type": "markdown",
   "metadata": {},
   "source": [
    "Rigidity threshold (to be corrected)\n",
    "---"
   ]
  },
  {
   "cell_type": "code",
   "execution_count": 30,
   "metadata": {},
   "outputs": [
    {
     "data": {
      "text/plain": [
       "HF_fraction (generic function with 1 method)"
      ]
     },
     "execution_count": 30,
     "metadata": {},
     "output_type": "execute_result"
    }
   ],
   "source": [
    "function HF_fraction(Λ, K;\n",
    "        init_p=1.0,\n",
    "        maxiter=1000)\n",
    "    \n",
    "    Λ1 = residual(Λ)\n",
    "    K1 = residual(K)\n",
    "    \n",
    "    p=init_p\n",
    "    for t = 1:maxiter\n",
    "        q = sum(K1[k]*p^k for k in eachindex(K1))\n",
    "        p = 1-sum(Λ1[d]*(1-q)^d for d in eachindex(Λ1))\n",
    "    end\n",
    "    p\n",
    "end"
   ]
  },
  {
   "cell_type": "code",
   "execution_count": 31,
   "metadata": {},
   "outputs": [
    {
     "data": {
      "text/plain": [
       "1.1102230246251565e-16"
      ]
     },
     "execution_count": 31,
     "metadata": {},
     "output_type": "execute_result"
    }
   ],
   "source": [
    "f3 = 0.405\n",
    "Λ = OffsetVector([0,0,1-f3,f3], 0:3)\n",
    "K = OffsetVector([0,0,0,1], 0:3)\n",
    "HF_fraction(Λ, K, init_p=0.99, maxiter=5000)"
   ]
  },
  {
   "cell_type": "code",
   "execution_count": null,
   "metadata": {},
   "outputs": [],
   "source": []
  },
  {
   "cell_type": "code",
   "execution_count": null,
   "metadata": {},
   "outputs": [],
   "source": []
  }
 ],
 "metadata": {
  "kernelspec": {
   "display_name": "Julia 1.5.3",
   "language": "julia",
   "name": "julia-1.5"
  },
  "language_info": {
   "file_extension": ".jl",
   "mimetype": "application/julia",
   "name": "julia",
   "version": "1.5.3"
  }
 },
 "nbformat": 4,
 "nbformat_minor": 4
}
