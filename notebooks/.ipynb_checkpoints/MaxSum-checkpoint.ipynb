{
 "cells": [
  {
   "cell_type": "code",
   "execution_count": 1,
   "metadata": {},
   "outputs": [],
   "source": [
    "include(\"../code/bp_full.jl\")\n",
    "include(\"../code/bp.jl\")\n",
    "include(\"../../telegram/notifications.jl\")\n",
    "\n",
    "using Base.Threads"
   ]
  },
  {
   "cell_type": "markdown",
   "metadata": {},
   "source": [
    "# 1. Effect of leaves"
   ]
  },
  {
   "cell_type": "code",
   "execution_count": 2,
   "metadata": {},
   "outputs": [
    {
     "data": {
      "text/plain": [
       "ms_dec (generic function with 1 method)"
      ]
     },
     "execution_count": 2,
     "metadata": {},
     "output_type": "execute_result"
    }
   ],
   "source": [
    "function buildgraph(R, f1, f3; tol=1e-2, B=0) \n",
    "    f2 = 1.0-f1-f3\n",
    "    α = 1-R\n",
    "    k = floor(Int, (2-f1+f3)/α)\n",
    "    s = k+1-(2-f1+f3)/α\n",
    "    K = [fill(0,k-1); s; 1-s]\n",
    "    Λ = [f1, f2, f3]\n",
    "    m, n, nedges, rho, lambda = valid_degrees(K,Λ,3*5*7, B=1)\n",
    "    if B==0\n",
    "        B = 10^max(0, 3-round(Int,log10(n)))\n",
    "    end\n",
    "    m, n, nedges, rho, lambda = valid_degrees(K,Λ,3*5*7, B=B)\n",
    "    @assert isapprox(Λ, lambda, atol=tol)\n",
    "    @assert isapprox(lambda[1], f1, atol=tol)\n",
    "    @assert isapprox(R, rate(lambda, rho), atol=tol)\n",
    "    m, n, nedges, rho, lambda\n",
    "end\n",
    "\n",
    "function ms_dec(n, m, nedges, K, Λ; verbose=true, maxiter=10^2, Tmax=1, kw...)\n",
    "    efield = [(.0,.0) for _ in 1:n]\n",
    "    s = zeros(Int, n)\n",
    "    vars = rand(1:n, n*2÷3); factors=rand(1:m-1, m*2÷3)\n",
    "    Ht = ldpc_matrix(n, m, nedges, Λ, K; accept_multi_edges=false)[:,1:end-1]\n",
    "    H = permutedims(Ht)\n",
    "    s .= rand((-1.,1.),n)\n",
    "    d = Inf\n",
    "    for t in 1:Tmax\n",
    "        efield .= [(si,-si).+ 1e-5.*(randn(),randn()) for si in s]\n",
    "        ms = BPFull(H, efield)\n",
    "        ε, iters = iteration_ms!(ms, maxiter=maxiter;\n",
    "            vars=vars, factors=factors, kw...)\n",
    "        nunsat, ovl, dist = performance(ms, s)\n",
    "        verbose && @show nunsat, ovl, dist\n",
    "        flush(stdout)\n",
    "        if nunsat!=0\n",
    "            B,indep = findbasis(H, Ht)\n",
    "            x = argmax.(ms.belief) .== 2\n",
    "            σ = fix_indep!(x, B, indep)   \n",
    "            d = min(d, distortion(σ,s))\n",
    "        else\n",
    "            d = min(d, dist)\n",
    "        end\n",
    "    end\n",
    "    d\n",
    "end"
   ]
  },
  {
   "cell_type": "code",
   "execution_count": 3,
   "metadata": {},
   "outputs": [
    {
     "name": "stdout",
     "output_type": "stream",
     "text": [
      "(f1, n) = (0.0, 2000)\n",
      "(f1, n) = (0.01, 2100)\n",
      "(f1, n) = (0.02, 2100)\n",
      "(f1, n) = (0.03, 2100)\n"
     ]
    }
   ],
   "source": [
    "R = 0.5\n",
    "f3 = 0.2\n",
    "f1s = [0, 0.01, 0.02, 0.03]\n",
    "Bs = [200, 10, 10, 30]\n",
    "\n",
    "for (i,f1) in enumerate(f1s)\n",
    "    m, n, nedges, rho, lambda = buildgraph(R, f1, f3, B=Bs[i])\n",
    "    @show f1, n\n",
    "end"
   ]
  },
  {
   "cell_type": "code",
   "execution_count": null,
   "metadata": {},
   "outputs": [
    {
     "name": "stdout",
     "output_type": "stream",
     "text": [
      "Degree profile 1 of 4\n"
     ]
    }
   ],
   "source": [
    "navg = 100\n",
    "Tmax = 20\n",
    "D_ms = [zeros(navg) for _ in f1s]\n",
    "R_ms = zeros(length(f1s))\n",
    "\n",
    "@telegram \"MaxSum\" for i in eachindex(f1s)\n",
    "    println(\"Degree profile $i of \", length(f1s))\n",
    "    m, n, nedges, rho, lambda = buildgraph(R, f1s[i], f3)\n",
    "    R_ms[i] = 1 - m/n\n",
    "    @threads for j in 1:navg\n",
    "        D_ms[i][j] = ms_dec(n, m, nedges, rho, lambda; Tmax=Tmax, maxiter=5*10^3, \n",
    "            rein=1e-3, verbose=false)\n",
    "    end \n",
    "end"
   ]
  },
  {
   "cell_type": "code",
   "execution_count": null,
   "metadata": {},
   "outputs": [],
   "source": [
    "pl = plot_rdb();\n",
    "for i in eachindex(f1s)\n",
    "    lab = \"MS+rein - f1=$(f1s[i])\"\n",
    "    scatter!(pl, repeat([R_ms[i]], navg), D_ms[i], label=lab, ms=3)\n",
    "end\n",
    "pl2 = plot_rdb();\n",
    "for i in eachindex(f1s)\n",
    "    lab = \"MS+rein - f1=$(f1s[i])\"\n",
    "    scatter!(pl2, [R_ms[i]], [mean(D_ms[i])], label=lab, ms=3)\n",
    "end\n",
    "pl3 = plot(pl, pl2, size=(900,300), margin=5Plots.mm)"
   ]
  },
  {
   "cell_type": "code",
   "execution_count": null,
   "metadata": {},
   "outputs": [],
   "source": [
    "scatter(f1s, mean.(D_ms), xlabel=\"f1\", ylabel=\"dist\", size=(300,300), yerr=std.(D_ms)/sqrt(navg),\n",
    "    title=\"Effect of leaves - R=$(R_ms[1]), f3=$f3\", titlefontsize=9, label=\"MS+rein\")"
   ]
  },
  {
   "cell_type": "code",
   "execution_count": 16,
   "metadata": {},
   "outputs": [],
   "source": [
    "savefig(\"ms_rein_leaves.pdf\")"
   ]
  },
  {
   "cell_type": "code",
   "execution_count": 14,
   "metadata": {},
   "outputs": [
    {
     "data": {
      "text/plain": [
       "4-element Vector{Float64}:\n",
       " 0.13592\n",
       " 0.13590476190476192\n",
       " 0.13543333333333335\n",
       " 0.13715714285714287"
      ]
     },
     "execution_count": 14,
     "metadata": {},
     "output_type": "execute_result"
    }
   ],
   "source": [
    "D_ms_avg = mean.(D_ms)\n",
    "# D_ms_std = std.(D_ms)/sqrt(navg)"
   ]
  },
  {
   "cell_type": "markdown",
   "metadata": {},
   "source": [
    "# 2. MS+rein in the RSB regime"
   ]
  },
  {
   "cell_type": "code",
   "execution_count": 15,
   "metadata": {},
   "outputs": [
    {
     "data": {
      "text/plain": [
       "ms_rein (generic function with 1 method)"
      ]
     },
     "execution_count": 15,
     "metadata": {},
     "output_type": "execute_result"
    }
   ],
   "source": [
    "function ms_rein(f1, f2, n; Tmax=1, maxiter=10^3, rein=1e-4)\n",
    "    f3 = 1 - f1 -f2\n",
    "    Lambda = [f1,f2,f3]\n",
    "    K = [0,0,1]\n",
    "    nedges = Int(round(n*sum(i*l for (i,l) in pairs(Lambda)), digits=10))\n",
    "    m = Int(nedges/3)\n",
    "    ds = zeros(Tmax); nunsats = zeros(Int, Tmax)\n",
    "    R = 0.0\n",
    "    for t in 1:Tmax\n",
    "        s = rand((-1,1), n)\n",
    "        efield = [float.((ss,-ss)) for ss in s]\n",
    "        ms = bp_full(n, m, nedges, Lambda, K, efield)\n",
    "        B, indep = findbasis_slow(Array(ms.H))\n",
    "        R = size(B,2)/n\n",
    "        ε, iters = iteration_ms!(ms, maxiter=maxiter, rein=rein)\n",
    "        nunsats[t], ovl, ds[t] = performance(ms, s)\n",
    "        if nunsats[t]!=0\n",
    "            x = argmax.(ms.belief) .== 2\n",
    "            σ = fix_indep!(x, B, indep) \n",
    "            @assert parity(ms.H, x)==0\n",
    "            ds[t] = distortion(σ,s)\n",
    "        end\n",
    "    end\n",
    "    minimum(ds), ds[argmin(nunsats)], R\n",
    "end"
   ]
  },
  {
   "cell_type": "code",
   "execution_count": null,
   "metadata": {},
   "outputs": [],
   "source": [
    "f1 = 1/100\n",
    "n = 1800\n",
    "f2s = [.35, .4, .45, .5, .55, .6, .65, .7, .75, .8, .85, .9, .95]\n",
    "navg = 15\n",
    "D_ms = [fill(NaN, navg) for f2 in f2s]\n",
    "D_ms2 = [fill(NaN, navg) for f2 in f2s]\n",
    "R_ms = zeros(length(f2s))\n",
    "\n",
    "@telegram \"MaxSum\" for i in eachindex(f2s)\n",
    "    println(\"#### Rate $i of $(length(f2s))\")\n",
    "   @threads for j in 1:navg\n",
    "        D_ms[i][j], D_ms2[i][j], R_ms[i] = ms_rein(f1, f2s[i], n, Tmax=100, maxiter=5*10^3, rein=1e-4)\n",
    "    end\n",
    "    flush(stdout)\n",
    "end"
   ]
  },
  {
   "cell_type": "code",
   "execution_count": null,
   "metadata": {},
   "outputs": [],
   "source": [
    "pl_ms2 = plot_rdb(; f3=true)\n",
    "scatter!(pl_ms2, R_ms, mean.(D_ms), label=\"MS+rein - f1=$f1\", ms=3, c=:purple, yerr=std.(D_ms)/sqrt(navg))"
   ]
  }
 ],
 "metadata": {
  "kernelspec": {
   "display_name": "Julia 1.6.1-pre",
   "language": "julia",
   "name": "julia-1.6"
  },
  "language_info": {
   "file_extension": ".jl",
   "mimetype": "application/julia",
   "name": "julia",
   "version": "1.6.1"
  }
 },
 "nbformat": 4,
 "nbformat_minor": 4
}
