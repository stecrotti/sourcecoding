{
 "cells": [
  {
   "cell_type": "code",
   "execution_count": 101,
   "metadata": {},
   "outputs": [],
   "source": [
    "include(\"../code/headers.jl\")"
   ]
  },
  {
   "cell_type": "code",
   "execution_count": 204,
   "metadata": {},
   "outputs": [
    {
     "data": {
      "text/plain": [
       "1.0e-13"
      ]
     },
     "execution_count": 204,
     "metadata": {},
     "output_type": "execute_result"
    }
   ],
   "source": [
    "n = 1000\n",
    "m = 400\n",
    "maxiter=Int(1e2)\n",
    "tol=1e-13"
   ]
  },
  {
   "cell_type": "code",
   "execution_count": 168,
   "metadata": {},
   "outputs": [
    {
     "data": {
      "text/plain": [
       "(1, 3)"
      ]
     },
     "execution_count": 168,
     "metadata": {},
     "output_type": "execute_result"
    }
   ],
   "source": [
    "H = [1 1 1]\n",
    "m,n = size(H)"
   ]
  },
  {
   "cell_type": "code",
   "execution_count": 218,
   "metadata": {},
   "outputs": [],
   "source": [
    "fg = ldpc_graphGF2(n,m)\n",
    "# fg = FactorGraphGF2(H)\n",
    "for f in 1:m\n",
    "   fg.mfv[f] .= zeros(length(fg.mfv[f])) \n",
    "end\n",
    "s = [-1, 1, 1] #+ 1e-8*randn(n)\n",
    "s = 1e-8*randn(n)\n",
    "fg.fields .= copy(s);"
   ]
  },
  {
   "cell_type": "code",
   "execution_count": 222,
   "metadata": {},
   "outputs": [
    {
     "data": {
      "text/plain": [
       "5-element Array{Float64,1}:\n",
       " -3.564735628744456e-9\n",
       " -5.187591079027455e-9\n",
       "  4.4513305886594555e-9\n",
       " -1.03951946058323e-8\n",
       " -9.873158842351336e-10"
      ]
     },
     "execution_count": 222,
     "metadata": {},
     "output_type": "execute_result"
    }
   ],
   "source": [
    "f = 1\n",
    "fg.fields[fg.Fneigs[f]]"
   ]
  },
  {
   "cell_type": "code",
   "execution_count": 219,
   "metadata": {},
   "outputs": [
    {
     "data": {
      "text/plain": [
       "Prod{Float64}(8.448345361356546e-43, 0, 0)"
      ]
     },
     "execution_count": 219,
     "metadata": {},
     "output_type": "execute_result"
    }
   ],
   "source": [
    "t = Prod{Float64}()\n",
    "for (i, v) in enumerate(fg.Fneigs[f])\n",
    "    # Avoid Inf-Inf=NaN\n",
    "    if fg.fields[v] == fg.mfv[f][i] \n",
    "        fg.fields[v] = 0.0\n",
    "    else\n",
    "        fg.fields[v] -= fg.mfv[f][i]\n",
    "    end\n",
    "    t *= tanh(beta*fg.fields[v])\n",
    "end\n",
    "t"
   ]
  },
  {
   "cell_type": "code",
   "execution_count": 221,
   "metadata": {},
   "outputs": [
    {
     "data": {
      "text/plain": [
       "5-element Array{Float64,1}:\n",
       " -3.564735628744456e-9\n",
       " -5.187591079027455e-9\n",
       "  4.4513305886594555e-9\n",
       " -1.03951946058323e-8\n",
       " -9.873158842351336e-10"
      ]
     },
     "execution_count": 221,
     "metadata": {},
     "output_type": "execute_result"
    }
   ],
   "source": [
    "for (i, v) in enumerate(fg.Fneigs[f])\n",
    "    m = 1/beta*atanh(t/tanh(beta*fg.fields[v]))\n",
    "    isnan(m) && @show t,tanh(beta*fg.fields[v])\n",
    "    fg.mfv[f][i] = m\n",
    "    # Update belief after updating the message\n",
    "    isnan(fg.fields[v]+m) && (@show f,v,fg.fields[v],m; error(\"NaN in field\"))\n",
    "    fg.fields[v] += m\n",
    "end\n",
    "fg.fields[fg.Fneigs[f]]"
   ]
  },
  {
   "cell_type": "code",
   "execution_count": 216,
   "metadata": {},
   "outputs": [
    {
     "data": {
      "text/plain": [
       "(216, 5.017931275567142e-26)"
      ]
     },
     "execution_count": 216,
     "metadata": {},
     "output_type": "execute_result"
    }
   ],
   "source": [
    "ϵ = 0.0\n",
    "@showprogress for it in 1:1\n",
    "    ϵ = onebpiter!(fg, BP(), beta=0.1)\n",
    "end\n",
    "σ = sign.(fg.fields)\n",
    "@assert all(σ .!= 0)\n",
    "x = σ .== -1\n",
    "nunsat = sum(fg.H*x .% 2)\n",
    "nunsat, ϵ"
   ]
  },
  {
   "cell_type": "code",
   "execution_count": 217,
   "metadata": {},
   "outputs": [
    {
     "data": {
      "text/plain": [
       "1000-element Array{Float64,1}:\n",
       " 0.0\n",
       " 0.0\n",
       " 0.0\n",
       " 0.0\n",
       " 0.0\n",
       " 0.0\n",
       " 0.0\n",
       " 0.0\n",
       " 0.0\n",
       " 0.0\n",
       " 0.0\n",
       " 0.0\n",
       " 0.0\n",
       " ⋮\n",
       " 0.0\n",
       " 0.0\n",
       " 0.0\n",
       " 0.0\n",
       " 0.0\n",
       " 0.0\n",
       " 0.0\n",
       " 0.0\n",
       " 0.0\n",
       " 0.0\n",
       " 0.0\n",
       " 0.0"
      ]
     },
     "execution_count": 217,
     "metadata": {},
     "output_type": "execute_result"
    }
   ],
   "source": [
    "fg.fields - s"
   ]
  },
  {
   "cell_type": "code",
   "execution_count": 197,
   "metadata": {},
   "outputs": [
    {
     "data": {
      "text/plain": [
       "400-element Array{Array{Float64,1},1}:\n",
       " [8.679291836066606e-36, -1.3981647496035353e-37, -9.371623910495656e-35, -7.042967684311574e-37, -2.928891069057608e-36]\n",
       " [-2.8645412866120282e-33, 1.5512306651594406e-33, 1.832079818702644e-33, 5.870264179678719e-32, -3.743732527107919e-33]\n",
       " [3.0673065858763407e-34, -4.695092854207344e-34, 3.4210717888666774e-34, 8.784644562443347e-34, -3.3765610990853887e-34]\n",
       " [-8.691354630678946e-33, 5.132366761953097e-34, -2.99852181718419e-33, 1.20052750409494e-33, 1.5071531613208639e-33]\n",
       " [-4.855898662613959e-34, -6.2711781089633986e-34, 6.520146007914764e-34, 8.621055065206277e-34, 1.179323387697823e-33]\n",
       " [2.7263098784342006e-33, -3.36155169886522e-33, -2.409269547098881e-33, -5.6052403339833424e-33, -2.500835568554083e-33]\n",
       " [5.291799916785667e-35, -8.341770063927222e-35, 3.1773883482183516e-35, -3.710481606277312e-35, 2.861738668923873e-34]\n",
       " [5.880477031293699e-33, -3.217241829131818e-33, -2.7062269752794197e-32, -2.784829298923657e-33, -2.410489066432453e-33]\n",
       " [-4.563347027815879e-34, -2.9015617246337407e-33, 6.1346508777157026e-34, 4.456064642040571e-34, 6.029866198516545e-34]\n",
       " [-6.078589121174906e-35, -1.6887968034888145e-33, 3.165014518481266e-34, 9.349993168940101e-35, 1.3298764626813047e-34]\n",
       " [-5.493963435848919e-33, -1.0225853250820317e-32, -2.9032935497226725e-33, -1.0089667148488232e-32, 6.718431056424112e-33]\n",
       " [4.31899670359263e-33, 5.052177751976898e-33, 2.00343211643399e-32, 4.609174356610836e-33, 2.0522223381922149e-32]\n",
       " [1.045493469400073e-33, -1.699246571185611e-33, -8.573885807008449e-33, 3.377339020872371e-33, 9.630742486692207e-34]\n",
       " ⋮\n",
       " [3.037420722185116e-34, -2.0899148172548558e-33, -3.776777390100809e-33, 5.14401994995413e-34, 3.4553039044461103e-34]\n",
       " [2.151152160052719e-34, 5.104166130913987e-34, -2.293389530016615e-34, -2.1476541123238396e-33, 7.495211391863393e-34]\n",
       " [-3.114125178732118e-33, 2.0915025084916718e-33, -3.1532397895422033e-34, -3.814433687186091e-33, -4.280579551392923e-34]\n",
       " [-3.7706365649919545e-33, -2.669707799247252e-32, 3.884779596086122e-33, 2.6732173283833876e-33, 2.998755289915019e-32]\n",
       " [-1.1460921264207514e-35, 1.0503828188454605e-34, -2.1954215447052835e-34, -1.4934766587955502e-34, -1.788601285610573e-35]\n",
       " [1.0568668268394813e-33, 1.9525794348183565e-33, 1.0143288026326994e-33, 5.554816464658668e-34, 5.4004997427376086e-33]\n",
       " [-3.456056459709834e-33, 5.519841085108606e-34, 3.546548982843814e-33, 1.1577236814181585e-33, -2.383378947133733e-33]\n",
       " [-2.4000432527612767e-33, 1.3221038559828767e-33, 6.036342710930199e-34, 3.17216848333486e-33, -1.7079740373119297e-33]\n",
       " [-7.764169630295363e-33, 7.642747453143275e-33, -6.698425690964629e-33, -4.544173014465567e-33, -6.751244835382452e-33]\n",
       " [9.012898524906608e-33, -6.1102865376139516e-33, 4.39619297239873e-33, 2.795553752702763e-32, -1.180833873329492e-32]\n",
       " [-1.606681252152735e-33, -3.398668859804578e-33, -1.435407089213614e-33, 2.27236240791411e-33, -2.252837012157261e-33]\n",
       " [-5.655304362715787e-35, -3.6871053076606814e-35, 5.40499191832486e-35, 1.0599028966516083e-33, 2.720625483636519e-35]"
      ]
     },
     "execution_count": 197,
     "metadata": {},
     "output_type": "execute_result"
    }
   ],
   "source": [
    "fg.mfv"
   ]
  },
  {
   "cell_type": "code",
   "execution_count": 60,
   "metadata": {},
   "outputs": [
    {
     "data": {
      "text/plain": [
       "0"
      ]
     },
     "execution_count": 60,
     "metadata": {},
     "output_type": "execute_result"
    }
   ],
   "source": [
    "σ = sign.(fg.fields)\n",
    "@assert all(σ .!= 0)\n",
    "x = σ .== -1\n",
    "nunsat = sum(fg.H*x .% 2)"
   ]
  },
  {
   "cell_type": "code",
   "execution_count": null,
   "metadata": {},
   "outputs": [],
   "source": []
  }
 ],
 "metadata": {
  "kernelspec": {
   "display_name": "Julia 1.5.3",
   "language": "julia",
   "name": "julia-1.5"
  },
  "language_info": {
   "file_extension": ".jl",
   "mimetype": "application/julia",
   "name": "julia",
   "version": "1.5.3"
  }
 },
 "nbformat": 4,
 "nbformat_minor": 4
}
