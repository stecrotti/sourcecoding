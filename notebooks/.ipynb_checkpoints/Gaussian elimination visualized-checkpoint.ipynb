{
 "cells": [
  {
   "cell_type": "markdown",
   "metadata": {},
   "source": [
    "Print the successive steps of Gaussian elimination on a matrix $H\\in GF(q)^{m,n}$ while looking at the modifications on the corresponding factor graph "
   ]
  },
  {
   "cell_type": "markdown",
   "metadata": {},
   "source": [
    "## Dependencies and methods"
   ]
  },
  {
   "cell_type": "code",
   "execution_count": 7,
   "metadata": {
    "ExecuteTime": {
     "end_time": "2020-11-20T12:25:39.469000+01:00",
     "start_time": "2020-11-20T11:25:13.831Z"
    },
    "init_cell": true
   },
   "outputs": [
    {
     "data": {
      "text/plain": [
       "mpldefault (generic function with 1 method)"
      ]
     },
     "execution_count": 7,
     "metadata": {},
     "output_type": "execute_result"
    }
   ],
   "source": [
    "include(\"../code/headers.jl\")"
   ]
  },
  {
   "cell_type": "code",
   "execution_count": 28,
   "metadata": {
    "ExecuteTime": {
     "end_time": "2020-11-20T12:33:41.130000+01:00",
     "start_time": "2020-11-20T11:33:41.123Z"
    },
    "code_folding": []
   },
   "outputs": [
    {
     "data": {
      "text/plain": [
       "gfref_history (generic function with 4 methods)"
      ]
     },
     "execution_count": 28,
     "metadata": {},
     "output_type": "execute_result"
    }
   ],
   "source": [
    "function gfref_history(H::Array{Int,2},\n",
    "                q::Int=2,\n",
    "                gfmult::OffsetArray{Int,2}=gftables(q)[1],\n",
    "                gfdiv::OffsetArray{Int,2}=gftables(q)[3])\n",
    "\n",
    "    !ispow(q, 2) && error(\"q must be a power of 2\")\n",
    "    !isgfq(H, q) && error(\"Matrix H has values outside GF(q) with q=$q\")\n",
    "    (m,n) = size(H)\n",
    "    # Initialize pivot to zero\n",
    "    p = 0\n",
    "    \n",
    "    H_history = [copy(H)]\n",
    "    \n",
    "    for c = 1:n\n",
    "        if iszero(H[p+1:end,c])\n",
    "            continue\n",
    "        else\n",
    "            p += 1\n",
    "            # sort rows of H so that all zeros in the c-th column are at the bottom\n",
    "            # H[p:end,:] .= sortslices(H[p:end,:], dims=1, rev=true,\n",
    "            #     lt=(row1,row2)->row1[c]==0)\n",
    "            H[p:end,:] .= sortslices(H[p:end,:], dims=1, rev=true)\n",
    "            push!(H_history, copy(H))\n",
    "            # Normalize row of the pivot to make it 1\n",
    "            H[p,:] .= gfdiv[H[p,:], H[p,c]]\n",
    "            # Apply row-wise xor to rows below the pivot\n",
    "            for r = p+1:m\n",
    "                if H[r,c] != 0\n",
    "                    # Adjust to make pivot 1\n",
    "                    f = gfdiv[H[p,c], H[r,c]]\n",
    "                    H[r,:] .= xor.(gfmult[f, H[r,:]], H[p,:])\n",
    "                    push!(H_history, copy(H))\n",
    "                end\n",
    "            end\n",
    "            p == m && break\n",
    "        end\n",
    "    end\n",
    "    return H_history\n",
    "end"
   ]
  },
  {
   "cell_type": "code",
   "execution_count": 15,
   "metadata": {
    "ExecuteTime": {
     "end_time": "2020-11-20T12:28:34.785000+01:00",
     "start_time": "2020-11-20T11:28:34.775Z"
    }
   },
   "outputs": [
    {
     "data": {
      "text/plain": [
       "plot_gfref_history (generic function with 2 methods)"
      ]
     },
     "execution_count": 15,
     "metadata": {},
     "output_type": "execute_result"
    }
   ],
   "source": [
    "function plot_gfref_history(H::Array{Int,2}, q::Int=2)\n",
    "    m,n = size(H)\n",
    "    H_history = gfref_history(H, q)\n",
    "    plts = []\n",
    "    for i in eachindex(H_history)\n",
    "        push!(plts, plot(FactorGraph(H_history[i]), method=:stress))\n",
    "        plt = Plots.plot(xlim=(0.5,n+0.5), ylim=(0.5,m+0.5), framestyle=:box, ticks=nothing)\n",
    "        m = size(H_history[i],1)\n",
    "        for j in 1:m\n",
    "            for k in 1:n\n",
    "                annotate!((k, m-j+1,Plots.text(string(H_history[i][j,k]),15)))\n",
    "            end\n",
    "        end\n",
    "        push!(plts,plt)\n",
    "    end\n",
    "    t = tuple(plts...)\n",
    "    pl = Plots.plot(t..., layout=(length(H_history),2), size=(900,300*length(H_history)))\n",
    "    return pl\n",
    "end"
   ]
  },
  {
   "cell_type": "markdown",
   "metadata": {},
   "source": [
    "## Generate a new instance here"
   ]
  },
  {
   "cell_type": "code",
   "execution_count": 19,
   "metadata": {
    "ExecuteTime": {
     "end_time": "2020-11-20T12:30:26.740000+01:00",
     "start_time": "2020-11-20T11:30:26.739Z"
    }
   },
   "outputs": [
    {
     "data": {
      "text/plain": [
       "6"
      ]
     },
     "execution_count": 19,
     "metadata": {},
     "output_type": "execute_result"
    }
   ],
   "source": [
    "q = 4\n",
    "nvariables = 6\n",
    "nfactors = 6"
   ]
  },
  {
   "cell_type": "code",
   "execution_count": 25,
   "metadata": {
    "ExecuteTime": {
     "end_time": "2020-11-20T12:32:48.365000+01:00",
     "start_time": "2020-11-20T11:32:47.994Z"
    },
    "scrolled": false
   },
   "outputs": [
    {
     "ename": "LoadError",
     "evalue": "Matrix H has values outside GF(q) with q=2",
     "output_type": "error",
     "traceback": [
      "Matrix H has values outside GF(q) with q=2",
      "",
      "Stacktrace:",
      " [1] error(::String) at .\\error.jl:33",
      " [2] gfref_history(::Array{Int64,2}, ::Int64, ::OffsetArray{Int64,2,Array{Int64,2}}, ::OffsetArray{Int64,2,Array{Int64,2}}) at .\\In[8]:7",
      " [3] gfref_history(::Array{Int64,2}, ::Int64) at .\\In[8]:6 (repeats 2 times)",
      " [4] plot_gfref_history(::Array{Int64,2}, ::Int64) at .\\In[15]:3",
      " [5] top-level scope at In[25]:3",
      " [6] include_string(::Function, ::Module, ::String, ::String) at .\\loading.jl:1091",
      " [7] execute_code(::String, ::String) at C:\\Users\\Stefano\\.julia\\packages\\IJulia\\a1SNk\\src\\execute_request.jl:27",
      " [8] execute_request(::ZMQ.Socket, ::IJulia.Msg) at C:\\Users\\Stefano\\.julia\\packages\\IJulia\\a1SNk\\src\\execute_request.jl:86",
      " [9] #invokelatest#1 at .\\essentials.jl:710 [inlined]",
      " [10] invokelatest at .\\essentials.jl:709 [inlined]",
      " [11] eventloop(::ZMQ.Socket) at C:\\Users\\Stefano\\.julia\\packages\\IJulia\\a1SNk\\src\\eventloop.jl:8",
      " [12] (::IJulia.var\"#15#18\")() at .\\task.jl:356"
     ]
    }
   ],
   "source": [
    "lm = LossyModel(q,nvariables, nfactors)\n",
    "H = adjmat(lm)\n",
    "plot_gfref_history(H,q)"
   ]
  },
  {
   "cell_type": "markdown",
   "metadata": {},
   "source": [
    "It looks like at the end of Gaussian elimination, as many loops as possible have been converted into paths..."
   ]
  },
  {
   "cell_type": "code",
   "execution_count": 26,
   "metadata": {
    "ExecuteTime": {
     "end_time": "2020-11-20T12:33:24.104000+01:00",
     "start_time": "2020-11-20T11:33:23.329Z"
    }
   },
   "outputs": [
    {
     "data": {
      "text/plain": [
       "6×6 Array{Int64,2}:\n",
       " 0  0  2  2  0  0\n",
       " 0  0  2  2  0  0\n",
       " 0  3  0  0  0  1\n",
       " 0  2  0  0  1  0\n",
       " 2  0  0  0  1  0\n",
       " 1  0  0  0  0  3"
      ]
     },
     "execution_count": 26,
     "metadata": {},
     "output_type": "execute_result"
    }
   ],
   "source": [
    "H"
   ]
  },
  {
   "cell_type": "code",
   "execution_count": 27,
   "metadata": {
    "ExecuteTime": {
     "end_time": "2020-11-20T12:33:29.540000+01:00",
     "start_time": "2020-11-20T11:33:29.345Z"
    }
   },
   "outputs": [
    {
     "data": {
      "text/plain": [
       "true"
      ]
     },
     "execution_count": 27,
     "metadata": {},
     "output_type": "execute_result"
    }
   ],
   "source": [
    "isgfq(H,4)"
   ]
  },
  {
   "cell_type": "code",
   "execution_count": null,
   "metadata": {},
   "outputs": [],
   "source": []
  }
 ],
 "metadata": {
  "celltoolbar": "Initialization Cell",
  "kernelspec": {
   "display_name": "Julia 1.5.2",
   "language": "julia",
   "name": "julia-1.5"
  },
  "language_info": {
   "file_extension": ".jl",
   "mimetype": "application/julia",
   "name": "julia",
   "version": "1.5.2"
  },
  "varInspector": {
   "cols": {
    "lenName": 16,
    "lenType": 16,
    "lenVar": 40
   },
   "kernels_config": {
    "python": {
     "delete_cmd_postfix": "",
     "delete_cmd_prefix": "del ",
     "library": "var_list.py",
     "varRefreshCmd": "print(var_dic_list())"
    },
    "r": {
     "delete_cmd_postfix": ") ",
     "delete_cmd_prefix": "rm(",
     "library": "var_list.r",
     "varRefreshCmd": "cat(var_dic_list()) "
    }
   },
   "types_to_exclude": [
    "module",
    "function",
    "builtin_function_or_method",
    "instance",
    "_Feature"
   ],
   "window_display": false
  }
 },
 "nbformat": 4,
 "nbformat_minor": 4
}
