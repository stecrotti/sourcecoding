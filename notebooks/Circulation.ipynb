{
 "cells": [
  {
   "cell_type": "code",
   "execution_count": 7,
   "metadata": {},
   "outputs": [
    {
     "name": "stderr",
     "output_type": "stream",
     "text": [
      "┌ Info: Precompiling Clp [e2554f3b-3117-50c0-817c-e040a3ddf72d]\n",
      "└ @ Base loading.jl:1278\n",
      "ERROR: LoadError: LoadError: InitError: could not load library \"/home/crotti/.julia/artifacts/6d7b810d8767a4dc7330a6b4ade401af9b04094c/lib/libCoinUtils.so\"\n",
      "/usr/bin/../lib64/libstdc++.so.6: version `GLIBCXX_3.4.20' not found (required by /home/crotti/.julia/artifacts/6d7b810d8767a4dc7330a6b4ade401af9b04094c/lib/libCoinUtils.so)\n",
      "Stacktrace:\n",
      " [1] dlopen(::String, ::UInt32) at /builddir/build/BUILD/julia/build/usr/share/julia/stdlib/v1.5/Libdl/src/Libdl.jl:109\n",
      " [2] macro expansion at /home/crotti/.julia/packages/JLLWrappers/KuIwt/src/products/library_generators.jl:61 [inlined]\n",
      " [3] __init__() at /home/crotti/.julia/packages/CoinUtils_jll/0YrGU/src/wrappers/x86_64-linux-gnu-cxx03.jl:10\n",
      " [4] top-level scope at /home/crotti/.julia/packages/JLLWrappers/KuIwt/src/toplevel_generators.jl:170\n",
      " [5] top-level scope at none:2\n",
      " [6] eval at ./boot.jl:331 [inlined]\n",
      "during initialization of module CoinUtils_jll\n",
      "in expression starting at /home/crotti/.julia/packages/Clp_jll/CuNk4/src/wrappers/x86_64-linux-gnu-libgfortran3-cxx03.jl:4\n",
      "in expression starting at /home/crotti/.julia/packages/Clp_jll/CuNk4/src/Clp_jll.jl:8\n",
      "ERROR: LoadError: Failed to precompile Clp_jll [06985876-5285-5a41-9fcb-8948a742cc53] to /home/crotti/.julia/compiled/v1.5/Clp_jll/5k9F8_pv4wl.ji.\n",
      "Stacktrace:\n",
      " [1] top-level scope at /home/crotti/.julia/packages/Clp/NUuKQ/src/Clp.jl:11\n",
      " [2] top-level scope at none:2\n",
      " [3] eval at ./boot.jl:331 [inlined]\n",
      "in expression starting at /home/crotti/.julia/packages/Clp/NUuKQ/src/Clp.jl:3\n"
     ]
    },
    {
     "ename": "LoadError",
     "evalue": "Failed to precompile Clp [e2554f3b-3117-50c0-817c-e040a3ddf72d] to /home/crotti/.julia/compiled/v1.5/Clp/UsKiE_pv4wl.ji.",
     "output_type": "error",
     "traceback": [
      "Failed to precompile Clp [e2554f3b-3117-50c0-817c-e040a3ddf72d] to /home/crotti/.julia/compiled/v1.5/Clp/UsKiE_pv4wl.ji.",
      "",
      "Stacktrace:",
      " [1] compilecache(::Base.PkgId, ::String) at ./loading.jl:1305",
      " [2] _require(::Base.PkgId) at ./loading.jl:1030",
      " [3] require(::Base.PkgId) at ./loading.jl:928",
      " [4] require(::Module, ::Symbol) at ./loading.jl:923"
     ]
    }
   ],
   "source": [
    "using JuMP, Clp, SparseArrays, LinearAlgebra\n",
    "include(\"../headers.jl\")"
   ]
  },
  {
   "cell_type": "code",
   "execution_count": 5,
   "metadata": {},
   "outputs": [
    {
     "name": "stderr",
     "output_type": "stream",
     "text": [
      "\u001b[32m\u001b[1m  Resolving\u001b[22m\u001b[39m package versions...\n",
      "\u001b[32m\u001b[1m  Installed\u001b[22m\u001b[39m Clp_jll ──────── v1.17.6+7\n",
      "\u001b[32m\u001b[1m  Installed\u001b[22m\u001b[39m Osi_jll ──────── v0.108.5+4\n",
      "\u001b[32m\u001b[1m  Installed\u001b[22m\u001b[39m OpenBLAS32_jll ─ v0.3.9+4\n",
      "\u001b[32m\u001b[1m  Installed\u001b[22m\u001b[39m CoinUtils_jll ── v2.11.3+4\n",
      "\u001b[32m\u001b[1m  Installed\u001b[22m\u001b[39m Clp ──────────── v0.8.3\n",
      "\u001b[32m\u001b[1mUpdating\u001b[22m\u001b[39m `~/.julia/environments/v1.5/Project.toml`\n",
      " \u001b[90m [e2554f3b] \u001b[39m\u001b[92m+ Clp v0.8.3\u001b[39m\n",
      "\u001b[32m\u001b[1mUpdating\u001b[22m\u001b[39m `~/.julia/environments/v1.5/Manifest.toml`\n",
      " \u001b[90m [b99e7846] \u001b[39m\u001b[92m+ BinaryProvider v0.5.10\u001b[39m\n",
      " \u001b[90m [e2554f3b] \u001b[39m\u001b[92m+ Clp v0.8.3\u001b[39m\n",
      " \u001b[90m [06985876] \u001b[39m\u001b[92m+ Clp_jll v1.17.6+7\u001b[39m\n",
      " \u001b[90m [be027038] \u001b[39m\u001b[92m+ CoinUtils_jll v2.11.3+4\u001b[39m\n",
      " \u001b[90m [656ef2d0] \u001b[39m\u001b[92m+ OpenBLAS32_jll v0.3.9+4\u001b[39m\n",
      " \u001b[90m [7da25872] \u001b[39m\u001b[92m+ Osi_jll v0.108.5+4\u001b[39m\n",
      "\u001b[32m\u001b[1m   Building\u001b[22m\u001b[39m Clp → `~/.julia/packages/Clp/NUuKQ/deps/build.log`\n"
     ]
    }
   ],
   "source": [
    "import Pkg; Pkg.add(\"Clp\")"
   ]
  },
  {
   "cell_type": "code",
   "execution_count": null,
   "metadata": {},
   "outputs": [],
   "source": []
  }
 ],
 "metadata": {
  "kernelspec": {
   "display_name": "Julia 1.5.3",
   "language": "julia",
   "name": "julia-1.5"
  },
  "language_info": {
   "file_extension": ".jl",
   "mimetype": "application/julia",
   "name": "julia",
   "version": "1.5.3"
  }
 },
 "nbformat": 4,
 "nbformat_minor": 4
}
