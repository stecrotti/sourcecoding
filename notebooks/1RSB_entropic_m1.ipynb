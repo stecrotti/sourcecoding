{
 "cells": [
  {
   "cell_type": "code",
   "execution_count": 1,
   "metadata": {},
   "outputs": [],
   "source": [
    "using OffsetArrays"
   ]
  },
  {
   "cell_type": "code",
   "execution_count": 2,
   "metadata": {},
   "outputs": [
    {
     "data": {
      "text/plain": [
       "BP_tu (generic function with 1 method)"
      ]
     },
     "execution_count": 2,
     "metadata": {},
     "output_type": "execute_result"
    }
   ],
   "source": [
    "function BP_th(H, tus)\n",
    "    p1 = prod(1 .+ tus)*exp(H)\n",
    "    p2 = prod(1 .- tus)*exp(-H)\n",
    "    if p1+p2==0\n",
    "        println(\"conflicting messages in BP_th\")\n",
    "    end\n",
    "    th = (p1-p2)/(p1+p2)\n",
    "end\n",
    "\n",
    "function BP_tu(s, ths)\n",
    "    tu = s*prod(ths)\n",
    "end"
   ]
  },
  {
   "cell_type": "code",
   "execution_count": 3,
   "metadata": {},
   "outputs": [
    {
     "data": {
      "text/plain": [
       "dist_sigmas (generic function with 1 method)"
      ]
     },
     "execution_count": 3,
     "metadata": {},
     "output_type": "execute_result"
    }
   ],
   "source": [
    "function dist_sigmas(s, ths_0, σs, ν)\n",
    "    k = length(ths_0)\n",
    "    ind = 0\n",
    "    for sig in Iterators.product(fill(-1:2:1,k)...)\n",
    "        ind += 1\n",
    "        σs[ind] = sig\n",
    "        if prod(sig) == s\n",
    "            ν[ind] += prod(1 .+ sig.*ths_0)\n",
    "        end\n",
    "    end\n",
    "    ν ./= sum(ν)\n",
    "    ν, σs\n",
    "end"
   ]
  },
  {
   "cell_type": "code",
   "execution_count": 4,
   "metadata": {},
   "outputs": [
    {
     "data": {
      "text/plain": [
       "residual (generic function with 1 method)"
      ]
     },
     "execution_count": 4,
     "metadata": {},
     "output_type": "execute_result"
    }
   ],
   "source": [
    "using StatsBase, ProgressMeter, Random\n",
    "residual(x) = (p=OffsetVector((x .* eachindex(x))[1:end], 0:lastindex(x)-1); p./=sum(p))"
   ]
  },
  {
   "cell_type": "code",
   "execution_count": 5,
   "metadata": {},
   "outputs": [
    {
     "data": {
      "text/plain": [
       "RS (generic function with 1 method)"
      ]
     },
     "execution_count": 5,
     "metadata": {},
     "output_type": "execute_result"
    }
   ],
   "source": [
    "function RS(Λ, K, H; \n",
    "        maxiter=100, \n",
    "        popsize=1000, \n",
    "        tol=1/(√popsize),\n",
    "        popP_RS = fill(0.0, 1:popsize),\n",
    "        popQ_RS = fill(0.0, 1:popsize),\n",
    "        q0 = fill(NaN, 1:maxiter)\n",
    "    )\n",
    "\n",
    "    Λ1 = residual(Λ)\n",
    "    K1 = residual(K)\n",
    "    wΛ1 = weights(Λ1)\n",
    "    wK1 = weights(K1)\n",
    "\n",
    "    \n",
    "    @showprogress for t = 1:maxiter\n",
    "        \n",
    "        for i = 1:popsize\n",
    "            k = sample(eachindex(K1), wK1)\n",
    "            ind_ths = rand(1:popsize, k)\n",
    "            ths = popP_RS[ind_ths]            \n",
    "            s = rand((-1,1))\n",
    "            popQ_RS[i] = BP_tu(s, ths)\n",
    "        end\n",
    "        \n",
    "        q0[t]=0.0\n",
    "        \n",
    "        for i = 1:popsize\n",
    "            d = sample(eachindex(Λ1), wΛ1)\n",
    "            ind_tus = rand(1:popsize, d)\n",
    "            tus = popQ_RS[ind_tus]\n",
    "            popP_RS[i] = BP_th(H, tus)\n",
    "            \n",
    "            q0[t]+=popP_RS[i]^2\n",
    "        end\n",
    "        \n",
    "        q0[t] = q0[t]/length(popP_RS)\n",
    "    end\n",
    "    popP_RS, popQ_RS, q0\n",
    "#    popP_RS, popQ_RS\n",
    "end"
   ]
  },
  {
   "cell_type": "code",
   "execution_count": 6,
   "metadata": {},
   "outputs": [
    {
     "data": {
      "text/plain": [
       "init_pop_alternative (generic function with 1 method)"
      ]
     },
     "execution_count": 6,
     "metadata": {},
     "output_type": "execute_result"
    }
   ],
   "source": [
    "function init_pop(pop_RS, ϵ)\n",
    "    pop = fill(NaN, -1:1, 1:popsize)\n",
    "    pop[0,:]=popP_RS\n",
    "    pop[1,:].=ϵ\n",
    "    pop[-1,:].=-ϵ\n",
    "    pop\n",
    "end\n",
    "function init_pop_alternative(pop_RS, ϵ)\n",
    "    pop = fill(NaN, -1:1, 1:popsize)\n",
    "    pop[0,:]=popP_RS\n",
    "    for i=1:popsize\n",
    "        pop[1,i]=(rand()<ϵ ? pop[0,i] : 1.0)\n",
    "        pop[-1,i]=(rand()<ϵ ? pop[0,i] : -1.0)\n",
    "    end\n",
    "    pop\n",
    "end"
   ]
  },
  {
   "cell_type": "code",
   "execution_count": 7,
   "metadata": {},
   "outputs": [
    {
     "data": {
      "text/plain": [
       "checkRS (generic function with 1 method)"
      ]
     },
     "execution_count": 7,
     "metadata": {},
     "output_type": "execute_result"
    }
   ],
   "source": [
    "function checkRS(popP)\n",
    "    q0=0.0; q1=0.0\n",
    "    for ind=1:size(popP, 2)\n",
    "        th = popP[:,ind]\n",
    "        q0 += th[0]^2\n",
    "        q1 += 0.5*th[1]*(1.0+th[0]) - 0.5*th[-1]*(1.0 - th[0])\n",
    "    end\n",
    "    q1= q1/size(popP, 2); q0=q0/size(popP, 2)\n",
    "    q0, q1-q0\n",
    "end"
   ]
  },
  {
   "cell_type": "code",
   "execution_count": 323,
   "metadata": {},
   "outputs": [
    {
     "data": {
      "text/plain": [
       "checkHardFields (generic function with 1 method)"
      ]
     },
     "execution_count": 323,
     "metadata": {},
     "output_type": "execute_result"
    }
   ],
   "source": [
    "function checkHardFields(popP)\n",
    "    pHF = 0.0;\n",
    "    for ind=1:size(popP, 2)\n",
    "        th = popP[:,ind]\n",
    "        pHF += 0.5*(1.0+th[0])*atanh(th[1])^2 + 0.5*(1.0 - th[0])*atanh(th[-1])^2\n",
    "    end\n",
    "    pHF=pHF/size(popP, 2)\n",
    "end"
   ]
  },
  {
   "cell_type": "code",
   "execution_count": 317,
   "metadata": {},
   "outputs": [
    {
     "data": {
      "text/plain": [
       "RSB_entropic_m1 (generic function with 1 method)"
      ]
     },
     "execution_count": 317,
     "metadata": {},
     "output_type": "execute_result"
    }
   ],
   "source": [
    "function RSB_entropic_m1(Λ, K, H, popP_RS, popQ_RS; \n",
    "        maxiter=100, \n",
    "        popsize=1000, \n",
    "        tol=1/(√popsize),\n",
    "        popP = init_pop(popP_RS, 0.9),\n",
    "        popQ = init_pop(popQ_RS, 0.9),\n",
    "        q0=fill(NaN, 1:maxiter),\n",
    "        V=fill(NaN, 1:maxiter)\n",
    "    )\n",
    "    \n",
    "    Λ1 = residual(Λ)\n",
    "    K1 = residual(K)\n",
    "    wΛ1 = weights(Λ1)\n",
    "    wK1 = weights(K1)\n",
    "    \n",
    "    @showprogress for t = 1:maxiter\n",
    "\n",
    "        for i = 1:popsize\n",
    "            k = sample(eachindex(K1), wK1)\n",
    "            ind_ths = rand(1:popsize, k)\n",
    "            ths = popP[:,ind_ths]            \n",
    "            s = rand((-1,1))\n",
    "            popQ[0,i] = BP_tu(s, ths[0,:])\n",
    "            \n",
    "            ν = fill(0.0, 1:2^k)\n",
    "            σs = fill(tuple(fill(NaN, k)...), 1:2^k)\n",
    "            ν, σs = dist_sigmas(s, ths[0,:], σs, ν)\n",
    "            wν = weights(ν)\n",
    "            ind = sample(eachindex(ν), wν)\n",
    "            σ = convert.(Int64, σs[ind])\n",
    "            elts = [ths[s,i] for (i,s) ∈ zip(eachindex(σ), σ)]\n",
    "            #@show σ, elts, prod(σ)*s\n",
    "            popQ[1,i] = BP_tu(s, elts)\n",
    "\n",
    "            ν = fill(0.0, 1:2^k)\n",
    "            σs = fill(tuple(fill(NaN, k)...), 1:2^k)\n",
    "            ν, σs = dist_sigmas(-s, ths[0,:], σs, ν)\n",
    "            wν = weights(ν)\n",
    "            ind = sample(eachindex(ν), wν)\n",
    "            σ = convert.(Int64, σs[ind])\n",
    "            elts = [ths[s,i] for (i,s) ∈ zip(eachindex(σ), σ)]\n",
    "            #@show σ, elts, prod(σ)*s\n",
    "            popQ[-1,i] = BP_tu(s, elts)\n",
    "        end\n",
    "\n",
    "        q0[t]=0.0; V[t]=0.0\n",
    "        \n",
    "        for i = 1:popsize\n",
    "            d = sample(eachindex(Λ1), wΛ1)\n",
    "            ind_tus = rand(1:popsize, d)\n",
    "            tus = popQ[:,ind_tus]\n",
    "            #@show tus\n",
    "            popP[0,i] = BP_th(H, tus[0,:])\n",
    "            popP[-1,i] = BP_th(H, tus[-1,:])\n",
    "            popP[1,i] = BP_th(H, tus[1,:])\n",
    "            \n",
    "            q0[t]+= popP[0,i]^2\n",
    "            V[t]+= 0.5*popP[1,i]*(1.0+popP[0,i]) - 0.5*popP[-1,i]*(1.0 - popP[0,i])\n",
    "        end\n",
    "        \n",
    "        q0[t] = q0[t]/size(popP, 2)\n",
    "        V[t] = V[t]/size(popP, 2)\n",
    "    end    \n",
    "    V = V .- q0\n",
    "    #popP, popQ\n",
    "    popP, popQ, q0, V \n",
    "end"
   ]
  },
  {
   "cell_type": "code",
   "execution_count": 324,
   "metadata": {},
   "outputs": [
    {
     "name": "stderr",
     "output_type": "stream",
     "text": [
      "\u001b[32mProgress: 100%|█████████████████████████████████████████| Time: 0:00:00\u001b[39m\n"
     ]
    }
   ],
   "source": [
    "f3 = 0.2\n",
    "Λ = OffsetVector([0,0,1-f3,f3], 0:3)\n",
    "K = OffsetVector([0,0,0,1], 0:3)\n",
    "H = 1.7\n",
    "popsize = 10^4\n",
    "maxiter = 10^2\n",
    "popP_RS = fill(NaN, 1:popsize)\n",
    "popQ_RS = fill(NaN, 1:popsize)\n",
    "q0 = fill(NaN, 1:maxiter)\n",
    "popP_RS, popQ_RS, q0= RS(Λ, K, H, maxiter=10^2, popsize=popsize);"
   ]
  },
  {
   "cell_type": "code",
   "execution_count": 325,
   "metadata": {},
   "outputs": [
    {
     "data": {
      "image/png": "[encoded data removed]",
      "text/plain": [
       "Figure(PyObject <Figure size 640x480 with 1 Axes>)"
      ]
     },
     "metadata": {},
     "output_type": "display_data"
    },
    {
     "data": {
      "text/plain": [
       "1-element Array{PyCall.PyObject,1}:\n",
       " PyObject <matplotlib.lines.Line2D object at 0x7f3fc9b4d8d0>"
      ]
     },
     "execution_count": 325,
     "metadata": {},
     "output_type": "execute_result"
    }
   ],
   "source": [
    "using PyPlot\n",
    "plot(1:10:maxiter, q0[1:10:maxiter])"
   ]
  },
  {
   "cell_type": "code",
   "execution_count": 326,
   "metadata": {},
   "outputs": [
    {
     "name": "stderr",
     "output_type": "stream",
     "text": [
      "\u001b[32mProgress: 100%|█████████████████████████████████████████| Time: 0:00:13\u001b[39m\n"
     ]
    }
   ],
   "source": [
    "q0=fill(NaN, 1:maxiter)\n",
    "V=fill(NaN, 1:maxiter)\n",
    "popP = fill(NaN, -1:1, 1:popsize);\n",
    "popQ = fill(NaN, -1:1, 1:popsize);\n",
    "popP, popQ, q0, V = RSB_entropic_m1(Λ, K, H, popP_RS, popQ_RS, maxiter=maxiter, popsize=popsize);"
   ]
  },
  {
   "cell_type": "code",
   "execution_count": 319,
   "metadata": {},
   "outputs": [
    {
     "data": {
      "image/png": "[encoded data removed]",
      "text/plain": [
       "Figure(PyObject <Figure size 640x480 with 1 Axes>)"
      ]
     },
     "metadata": {},
     "output_type": "display_data"
    },
    {
     "data": {
      "text/plain": [
       "1-element Array{PyCall.PyObject,1}:\n",
       " PyObject <matplotlib.lines.Line2D object at 0x7f3fc9bf65f8>"
      ]
     },
     "execution_count": 319,
     "metadata": {},
     "output_type": "execute_result"
    }
   ],
   "source": [
    "using PyPlot\n",
    "plot(1:10:maxiter, q0[1:10:maxiter])\n",
    "plot(1:10:maxiter, V[1:10:maxiter])"
   ]
  },
  {
   "cell_type": "code",
   "execution_count": 327,
   "metadata": {},
   "outputs": [
    {
     "data": {
      "text/plain": [
       "((0.7274609419409076, 0.03224365386055461), 6.649653358445573)"
      ]
     },
     "execution_count": 327,
     "metadata": {},
     "output_type": "execute_result"
    }
   ],
   "source": [
    "checkRS(popP), checkHardFields(popP)"
   ]
  },
  {
   "cell_type": "code",
   "execution_count": 328,
   "metadata": {},
   "outputs": [
    {
     "name": "stderr",
     "output_type": "stream",
     "text": [
      "\u001b[32mProgress: 100%|█████████████████████████████████████████| Time: 0:00:13\u001b[39m\n"
     ]
    }
   ],
   "source": [
    "q0=fill(NaN, 1:maxiter)\n",
    "V=fill(NaN, 1:maxiter)\n",
    "popP = init_pop_alternative(popP_RS, 0.1);\n",
    "popQ = init_pop_alternative(popQ_RS, 0.1);\n",
    "popP, popQ, q0, V = RSB_entropic_m1(Λ, K, H, popP_RS, popQ_RS, maxiter=maxiter, popsize=popsize);"
   ]
  },
  {
   "cell_type": "code",
   "execution_count": 329,
   "metadata": {},
   "outputs": [
    {
     "data": {
      "image/png": "[encoded data removed]",
      "text/plain": [
       "Figure(PyObject <Figure size 640x480 with 1 Axes>)"
      ]
     },
     "metadata": {},
     "output_type": "display_data"
    },
    {
     "data": {
      "text/plain": [
       "1-element Array{PyCall.PyObject,1}:\n",
       " PyObject <matplotlib.lines.Line2D object at 0x7f3fc9ab7198>"
      ]
     },
     "execution_count": 329,
     "metadata": {},
     "output_type": "execute_result"
    }
   ],
   "source": [
    "using PyPlot\n",
    "plot(1:10:maxiter, q0[1:10:maxiter])\n",
    "plot(1:10:maxiter, V[1:10:maxiter])"
   ]
  },
  {
   "cell_type": "code",
   "execution_count": 330,
   "metadata": {},
   "outputs": [
    {
     "data": {
      "text/plain": [
       "((0.7183428954400368, 0.01767155941504528), 5.885872310889972)"
      ]
     },
     "execution_count": 330,
     "metadata": {},
     "output_type": "execute_result"
    }
   ],
   "source": [
    "checkRS(popP), checkHardFields(popP)"
   ]
  },
  {
   "cell_type": "markdown",
   "metadata": {},
   "source": [
    "Some tests\n",
    "---"
   ]
  },
  {
   "cell_type": "code",
   "execution_count": 15,
   "metadata": {},
   "outputs": [],
   "source": [
    "using Unzip"
   ]
  },
  {
   "cell_type": "markdown",
   "metadata": {},
   "source": [
    "Try at $f_3=0.2$ (where $H_{sp}=1.872(1)$)\n",
    "---"
   ]
  },
  {
   "cell_type": "markdown",
   "metadata": {},
   "source": [
    "* with population of size $10^4$"
   ]
  },
  {
   "cell_type": "code",
   "execution_count": 124,
   "metadata": {},
   "outputs": [
    {
     "name": "stderr",
     "output_type": "stream",
     "text": [
      "\u001b[32mProgress: 100%|█████████████████████████████████████████| Time: 0:00:06\u001b[39m\n",
      "\u001b[32mProgress: 100%|█████████████████████████████████████████| Time: 0:03:10\u001b[39m\n"
     ]
    },
    {
     "name": "stdout",
     "output_type": "stream",
     "text": [
      "(H, Vs[maxiter, i]) = (0.0, 0.0)\n"
     ]
    },
    {
     "name": "stderr",
     "output_type": "stream",
     "text": [
      "\u001b[32mProgress: 100%|█████████████████████████████████████████| Time: 0:00:06\u001b[39m\n",
      "\u001b[32mProgress: 100%|█████████████████████████████████████████| Time: 0:02:58\u001b[39m\n"
     ]
    },
    {
     "name": "stdout",
     "output_type": "stream",
     "text": [
      "(H, Vs[maxiter, i]) = (0.5, 0.0)\n"
     ]
    },
    {
     "name": "stderr",
     "output_type": "stream",
     "text": [
      "\u001b[32mProgress: 100%|█████████████████████████████████████████| Time: 0:00:06\u001b[39m\n",
      "\u001b[32mProgress: 100%|█████████████████████████████████████████| Time: 0:03:00\u001b[39m\n"
     ]
    },
    {
     "name": "stdout",
     "output_type": "stream",
     "text": [
      "(H, Vs[maxiter, i]) = (1.0, -1.1102230246251565e-16)\n"
     ]
    },
    {
     "name": "stderr",
     "output_type": "stream",
     "text": [
      "\u001b[32mProgress: 100%|█████████████████████████████████████████| Time: 0:00:04\u001b[39m\n",
      "\u001b[32mProgress: 100%|█████████████████████████████████████████| Time: 0:03:03\u001b[39m\n"
     ]
    },
    {
     "name": "stdout",
     "output_type": "stream",
     "text": [
      "(H, Vs[maxiter, i]) = (1.5, -3.3306690738754696e-16)\n"
     ]
    },
    {
     "name": "stderr",
     "output_type": "stream",
     "text": [
      "\u001b[32mProgress: 100%|█████████████████████████████████████████| Time: 0:00:06\u001b[39m\n",
      "\u001b[32mProgress: 100%|█████████████████████████████████████████| Time: 0:03:03\u001b[39m\n"
     ]
    },
    {
     "name": "stdout",
     "output_type": "stream",
     "text": [
      "(H, Vs[maxiter, i]) = (1.6, 2.0048407378681077e-12)\n"
     ]
    },
    {
     "name": "stderr",
     "output_type": "stream",
     "text": [
      "\u001b[32mProgress: 100%|█████████████████████████████████████████| Time: 0:00:07\u001b[39m\n",
      "\u001b[32mProgress: 100%|█████████████████████████████████████████| Time: 0:03:13\u001b[39m\n"
     ]
    },
    {
     "name": "stdout",
     "output_type": "stream",
     "text": [
      "(H, Vs[maxiter, i]) = (1.7, 0.27340626133886803)\n"
     ]
    },
    {
     "name": "stderr",
     "output_type": "stream",
     "text": [
      "\u001b[32mProgress: 100%|█████████████████████████████████████████| Time: 0:00:06\u001b[39m\n",
      "\u001b[32mProgress: 100%|█████████████████████████████████████████| Time: 0:02:54\u001b[39m\n"
     ]
    },
    {
     "name": "stdout",
     "output_type": "stream",
     "text": [
      "(H, Vs[maxiter, i]) = (1.8, 0.2610646467343809)\n"
     ]
    },
    {
     "name": "stderr",
     "output_type": "stream",
     "text": [
      "\u001b[32mProgress: 100%|█████████████████████████████████████████| Time: 0:00:06\u001b[39m\n",
      "\u001b[32mProgress: 100%|█████████████████████████████████████████| Time: 0:03:00\u001b[39m\n"
     ]
    },
    {
     "name": "stdout",
     "output_type": "stream",
     "text": [
      "(H, Vs[maxiter, i]) = (1.71, -4.042414913918435e-8)\n"
     ]
    },
    {
     "name": "stderr",
     "output_type": "stream",
     "text": [
      "\u001b[32mProgress: 100%|█████████████████████████████████████████| Time: 0:00:06\u001b[39m\n",
      "\u001b[32mProgress: 100%|█████████████████████████████████████████| Time: 0:03:09\u001b[39m\n"
     ]
    },
    {
     "name": "stdout",
     "output_type": "stream",
     "text": [
      "(H, Vs[maxiter, i]) = (1.72, -2.1184561571629956e-7)\n"
     ]
    },
    {
     "name": "stderr",
     "output_type": "stream",
     "text": [
      "\u001b[32mProgress: 100%|█████████████████████████████████████████| Time: 0:00:06\u001b[39m\n",
      "\u001b[32mProgress: 100%|█████████████████████████████████████████| Time: 0:03:08\u001b[39m\n"
     ]
    },
    {
     "name": "stdout",
     "output_type": "stream",
     "text": [
      "(H, Vs[maxiter, i]) = (1.73, 0.273201407435278)\n"
     ]
    },
    {
     "name": "stderr",
     "output_type": "stream",
     "text": [
      "\u001b[32mProgress: 100%|█████████████████████████████████████████| Time: 0:00:05\u001b[39m\n",
      "\u001b[32mProgress: 100%|█████████████████████████████████████████| Time: 0:03:04\u001b[39m\n"
     ]
    },
    {
     "name": "stdout",
     "output_type": "stream",
     "text": [
      "(H, Vs[maxiter, i]) = (1.74, -1.0126875433780214e-6)\n"
     ]
    },
    {
     "name": "stderr",
     "output_type": "stream",
     "text": [
      "\u001b[32mProgress: 100%|█████████████████████████████████████████| Time: 0:00:06\u001b[39m\n",
      "\u001b[32mProgress: 100%|█████████████████████████████████████████| Time: 0:02:52\u001b[39m\n"
     ]
    },
    {
     "name": "stdout",
     "output_type": "stream",
     "text": [
      "(H, Vs[maxiter, i]) = (1.75, 0.26645818270556365)\n"
     ]
    },
    {
     "name": "stderr",
     "output_type": "stream",
     "text": [
      "\u001b[32mProgress: 100%|█████████████████████████████████████████| Time: 0:00:06\u001b[39m\n",
      "\u001b[32mProgress: 100%|█████████████████████████████████████████| Time: 0:02:54\u001b[39m\n"
     ]
    },
    {
     "name": "stdout",
     "output_type": "stream",
     "text": [
      "(H, Vs[maxiter, i]) = (1.76, 0.26925076244217505)\n"
     ]
    },
    {
     "name": "stderr",
     "output_type": "stream",
     "text": [
      "\u001b[32mProgress: 100%|█████████████████████████████████████████| Time: 0:00:06\u001b[39m\n",
      "\u001b[32mProgress: 100%|█████████████████████████████████████████| Time: 0:03:04\u001b[39m\n"
     ]
    },
    {
     "name": "stdout",
     "output_type": "stream",
     "text": [
      "(H, Vs[maxiter, i]) = (1.77, 0.2701831163633718)\n"
     ]
    },
    {
     "name": "stderr",
     "output_type": "stream",
     "text": [
      "\u001b[32mProgress: 100%|█████████████████████████████████████████| Time: 0:00:06\u001b[39m\n",
      "\u001b[32mProgress: 100%|█████████████████████████████████████████| Time: 0:03:13\u001b[39m\n"
     ]
    },
    {
     "name": "stdout",
     "output_type": "stream",
     "text": [
      "(H, Vs[maxiter, i]) = (1.78, 0.2601833386143252)\n"
     ]
    },
    {
     "name": "stderr",
     "output_type": "stream",
     "text": [
      "\u001b[32mProgress: 100%|█████████████████████████████████████████| Time: 0:00:05\u001b[39m\n",
      "\u001b[32mProgress: 100%|█████████████████████████████████████████| Time: 0:02:58\u001b[39m\n"
     ]
    },
    {
     "name": "stdout",
     "output_type": "stream",
     "text": [
      "(H, Vs[maxiter, i]) = (1.79, 0.2613664794411028)\n"
     ]
    }
   ],
   "source": [
    "f3 = 0.2\n",
    "Λ = OffsetVector([0,0,1-f3,f3], 0:3)\n",
    "K = OffsetVector([0,0,0,1], 0:3)\n",
    "popsize = 10^4\n",
    "maxiter = 10^3\n",
    "\n",
    "Hs = vcat(0.0:0.5:1.5, 1.6:0.1:1.8, 1.71:0.01:1.79)\n",
    "q0s_1=fill(NaN, 1:maxiter, eachindex(Hs))\n",
    "q0s=fill(NaN, 1:maxiter, eachindex(Hs))\n",
    "Vs=fill(NaN, 1:maxiter, eachindex(Hs))\n",
    "\n",
    "for (i,H) in pairs(Hs)\n",
    "    popP_RS = fill(NaN, 1:popsize)\n",
    "    popQ_RS = fill(NaN, 1:popsize)\n",
    "    popP_RS, popQ_RS, q0s_1[:,i] = RS(Λ, K, H, maxiter=maxiter, popsize=popsize)\n",
    "\n",
    "    popP = fill(NaN, -1:1, 1:popsize);\n",
    "    popQ = fill(NaN, -1:1, 1:popsize);\n",
    "    popP, popQ, q0s[:,i], Vs[:,i] = RSB_entropic_m1(Λ, K, H, popP_RS, popQ_RS, maxiter=maxiter, popsize=popsize)\n",
    "    \n",
    "    @show H, Vs[maxiter, i]\n",
    "end\n",
    "H_f0p2_pop1e4 = Hs\n",
    "q0_1_f0p2_pop1e4 = q0s_1\n",
    "q0_f0p2_pop1e4 = q0s\n",
    "V_f0p2_pop1e4 = Vs;"
   ]
  },
  {
   "cell_type": "markdown",
   "metadata": {},
   "source": [
    "Plot the evolution along iterations"
   ]
  },
  {
   "cell_type": "code",
   "execution_count": 155,
   "metadata": {},
   "outputs": [
    {
     "data": {
      "image/png": "[encoded data removed]",
      "text/plain": [
       "Figure(PyObject <Figure size 640x480 with 1 Axes>)"
      ]
     },
     "metadata": {},
     "output_type": "display_data"
    },
    {
     "data": {
      "text/plain": [
       "PyObject <matplotlib.legend.Legend object at 0x7f3fe8693400>"
      ]
     },
     "execution_count": 155,
     "metadata": {},
     "output_type": "execute_result"
    }
   ],
   "source": [
    "using PyPlot\n",
    "i=8\n",
    "plot(1:50:maxiter, q0_1_f0p2_pop1e4[1:50:maxiter, i], label=\"q0\")\n",
    "plot(1:50:maxiter, q0_f0p2_pop1e4[1:50:maxiter, i], label=\"q0\")\n",
    "plot(1:50:maxiter, V_f0p2_pop1e4[1:50:maxiter, i], label=\"q1-q0\")\n",
    "legend()"
   ]
  },
  {
   "cell_type": "markdown",
   "metadata": {},
   "source": [
    "Average after convergence"
   ]
  },
  {
   "cell_type": "code",
   "execution_count": 150,
   "metadata": {},
   "outputs": [
    {
     "data": {
      "text/plain": [
       "([1.6, 1.7, 1.8], [1.35911557430978e-10, 0.2795163736616696, 0.26442396707979016], [4.209715627732373e-9, 0.004946185328821734, 0.005616020596366099])"
      ]
     },
     "execution_count": 150,
     "metadata": {},
     "output_type": "execute_result"
    }
   ],
   "source": [
    "using Statistics\n",
    "cut = 600\n",
    "means_V_f0p2_pop1e4 = mean.(V_f0p2_pop1e4[cut:maxiter, i] for i=1:size(V_f0p2_pop1e4, 2))\n",
    "stds_V_f0p2_pop1e4 = std.(V_f0p2_pop1e4[cut:maxiter, i] for i=1:size(V_f0p2_pop1e4, 2))\n",
    "H_f0p2_pop1e4[5:7], means_V_f0p2_pop1e4[5:7], stds_V_f0p2_pop1e4[5:7]"
   ]
  },
  {
   "cell_type": "markdown",
   "metadata": {},
   "source": [
    "* with population of size $10^5$"
   ]
  },
  {
   "cell_type": "code",
   "execution_count": 91,
   "metadata": {},
   "outputs": [
    {
     "name": "stderr",
     "output_type": "stream",
     "text": [
      "\u001b[32mProgress: 100%|█████████████████████████████████████████| Time: 0:01:23\u001b[39m\n",
      "\u001b[32mProgress: 100%|█████████████████████████████████████████| Time: 0:31:22\u001b[39m\n"
     ]
    },
    {
     "name": "stdout",
     "output_type": "stream",
     "text": [
      "(H, Vs[maxiter, i]) = (1.6, 3.6048941609578833e-13)\n"
     ]
    },
    {
     "name": "stderr",
     "output_type": "stream",
     "text": [
      "\u001b[32mProgress: 100%|█████████████████████████████████████████| Time: 0:01:14\u001b[39m\n",
      "\u001b[32mProgress: 100%|█████████████████████████████████████████| Time: 0:31:30\u001b[39m\n"
     ]
    },
    {
     "name": "stdout",
     "output_type": "stream",
     "text": [
      "(H, Vs[maxiter, i]) = (1.7, -2.0700693936781533e-8)\n"
     ]
    },
    {
     "name": "stderr",
     "output_type": "stream",
     "text": [
      "\u001b[32mProgress: 100%|█████████████████████████████████████████| Time: 0:01:23\u001b[39m\n",
      "\u001b[32mProgress: 100%|█████████████████████████████████████████| Time: 0:30:56\u001b[39m\n"
     ]
    },
    {
     "name": "stdout",
     "output_type": "stream",
     "text": [
      "(H, Vs[maxiter, i]) = (1.8, 0.26384776985443126)\n"
     ]
    }
   ],
   "source": [
    "f3 = 0.2\n",
    "Λ = OffsetVector([0,0,1-f3,f3], 0:3)\n",
    "K = OffsetVector([0,0,0,1], 0:3)\n",
    "popsize = 10^5\n",
    "maxiter = 10^3\n",
    "\n",
    "Hs = 1.6:0.1:1.8\n",
    "q0s_1=fill(NaN, 1:maxiter, eachindex(Hs))\n",
    "q0s=fill(NaN, 1:maxiter, eachindex(Hs))\n",
    "Vs=fill(NaN, 1:maxiter, eachindex(Hs))\n",
    "\n",
    "for (i,H) in pairs(Hs)\n",
    "    popP_RS = fill(NaN, 1:popsize)\n",
    "    popQ_RS = fill(NaN, 1:popsize)\n",
    "    popP_RS, popQ_RS, q0s_1[:,i] = RS(Λ, K, H, maxiter=maxiter, popsize=popsize)\n",
    "\n",
    "    popP = fill(NaN, -1:1, 1:popsize);\n",
    "    popQ = fill(NaN, -1:1, 1:popsize);\n",
    "    popP, popQ, q0s[:,i], Vs[:,i] = RSB_entropic_m1(Λ, K, H, popP_RS, popQ_RS, maxiter=maxiter, popsize=popsize)\n",
    "    \n",
    "    @show H, Vs[maxiter, i]\n",
    "end\n",
    "H_f0p2_pop1e5 = Hs\n",
    "q0_1_f0p2_pop1e5 = q0s_1\n",
    "q0_f0p2_pop1e5 = q0s\n",
    "V_f0p2_pop1e5 = Vs;"
   ]
  },
  {
   "cell_type": "code",
   "execution_count": 95,
   "metadata": {},
   "outputs": [
    {
     "data": {
      "image/png": "[encoded data removed]",
      "text/plain": [
       "Figure(PyObject <Figure size 640x480 with 1 Axes>)"
      ]
     },
     "metadata": {},
     "output_type": "display_data"
    },
    {
     "data": {
      "text/plain": [
       "PyObject <matplotlib.legend.Legend object at 0x7f3fe91f5978>"
      ]
     },
     "execution_count": 95,
     "metadata": {},
     "output_type": "execute_result"
    }
   ],
   "source": [
    "using PyPlot\n",
    "i=3\n",
    "plot(1:50:maxiter, q0_1_f0p2_pop1e5[1:50:maxiter, i], label=\"q0\")\n",
    "plot(1:50:maxiter, q0_f0p2_pop1e5[1:50:maxiter, i], label=\"q0\")\n",
    "plot(1:50:maxiter, V_f0p2_pop1e5[1:50:maxiter, i], label=\"q1-q0\")\n",
    "legend()"
   ]
  },
  {
   "cell_type": "code",
   "execution_count": 96,
   "metadata": {},
   "outputs": [
    {
     "data": {
      "text/plain": [
       "([-3.376588172959705e-10, 4.5342825511794317e-7, 0.26407670701996744], [9.47733943112024e-9, 1.959356192500934e-6, 0.0017165631345320103])"
      ]
     },
     "execution_count": 96,
     "metadata": {},
     "output_type": "execute_result"
    }
   ],
   "source": [
    "using Statistics\n",
    "cut = [500, 500, 500]\n",
    "means_V_f0p2_pop1e5 = mean.(V_f0p2_pop1e5[cut[i]:maxiter, i] for i=1:3)\n",
    "stds_V_f0p2_pop1e5 = std.(V_f0p2_pop1e5[cut[i]:maxiter, i] for i=1:3)\n",
    "means_V_f0p2_pop1e5, stds_V_f0p2_pop1e5"
   ]
  },
  {
   "cell_type": "markdown",
   "metadata": {},
   "source": [
    "* Try also with the other initialization"
   ]
  },
  {
   "cell_type": "code",
   "execution_count": 125,
   "metadata": {},
   "outputs": [
    {
     "name": "stderr",
     "output_type": "stream",
     "text": [
      "\u001b[32mProgress: 100%|█████████████████████████████████████████| Time: 0:00:05\u001b[39m\n",
      "\u001b[32mProgress: 100%|█████████████████████████████████████████| Time: 0:02:50\u001b[39m\n"
     ]
    },
    {
     "name": "stdout",
     "output_type": "stream",
     "text": [
      "(H, Vs[maxiter, i]) = (0.0, 0.0)\n"
     ]
    },
    {
     "name": "stderr",
     "output_type": "stream",
     "text": [
      "\u001b[32mProgress: 100%|█████████████████████████████████████████| Time: 0:00:06\u001b[39m\n",
      "\u001b[32mProgress: 100%|█████████████████████████████████████████| Time: 0:02:57\u001b[39m\n"
     ]
    },
    {
     "name": "stdout",
     "output_type": "stream",
     "text": [
      "(H, Vs[maxiter, i]) = (0.5, 5.551115123125783e-17)\n"
     ]
    },
    {
     "name": "stderr",
     "output_type": "stream",
     "text": [
      "\u001b[32mProgress: 100%|█████████████████████████████████████████| Time: 0:00:05\u001b[39m\n",
      "\u001b[32mProgress: 100%|█████████████████████████████████████████| Time: 0:02:53\u001b[39m\n"
     ]
    },
    {
     "name": "stdout",
     "output_type": "stream",
     "text": [
      "(H, Vs[maxiter, i]) = (1.0, 0.0)\n"
     ]
    },
    {
     "name": "stderr",
     "output_type": "stream",
     "text": [
      "\u001b[32mProgress: 100%|█████████████████████████████████████████| Time: 0:00:06\u001b[39m\n",
      "\u001b[32mProgress: 100%|█████████████████████████████████████████| Time: 0:03:09\u001b[39m\n"
     ]
    },
    {
     "name": "stdout",
     "output_type": "stream",
     "text": [
      "(H, Vs[maxiter, i]) = (1.5, 0.3099922543289475)\n"
     ]
    },
    {
     "name": "stderr",
     "output_type": "stream",
     "text": [
      "\u001b[32mProgress: 100%|█████████████████████████████████████████| Time: 0:00:05\u001b[39m\n",
      "\u001b[32mProgress: 100%|█████████████████████████████████████████| Time: 0:03:07\u001b[39m\n"
     ]
    },
    {
     "name": "stdout",
     "output_type": "stream",
     "text": [
      "(H, Vs[maxiter, i]) = (1.6, 0.2983146539873889)\n"
     ]
    },
    {
     "name": "stderr",
     "output_type": "stream",
     "text": [
      "\u001b[32mProgress: 100%|█████████████████████████████████████████| Time: 0:00:06\u001b[39m\n",
      "\u001b[32mProgress: 100%|█████████████████████████████████████████| Time: 0:03:04\u001b[39m\n"
     ]
    },
    {
     "name": "stdout",
     "output_type": "stream",
     "text": [
      "(H, Vs[maxiter, i]) = (1.7, 0.2797641379950172)\n"
     ]
    },
    {
     "name": "stderr",
     "output_type": "stream",
     "text": [
      "\u001b[32mProgress: 100%|█████████████████████████████████████████| Time: 0:00:06\u001b[39m\n",
      "\u001b[32mProgress: 100%|█████████████████████████████████████████| Time: 0:02:52\u001b[39m\n"
     ]
    },
    {
     "name": "stdout",
     "output_type": "stream",
     "text": [
      "(H, Vs[maxiter, i]) = (1.8, 0.27474202659098024)\n"
     ]
    }
   ],
   "source": [
    "f3 = 0.2\n",
    "Λ = OffsetVector([0,0,1-f3,f3], 0:3)\n",
    "K = OffsetVector([0,0,0,1], 0:3)\n",
    "popsize = 10^4\n",
    "maxiter = 10^3\n",
    "ϵ = 0.1\n",
    "\n",
    "Hs = vcat(0.0:0.5:1.5, 1.6:0.1:1.8)\n",
    "q0s_1=fill(NaN, 1:maxiter, eachindex(Hs))\n",
    "q0s=fill(NaN, 1:maxiter, eachindex(Hs))\n",
    "Vs=fill(NaN, 1:maxiter, eachindex(Hs))\n",
    "\n",
    "for (i,H) in pairs(Hs)\n",
    "    popP_RS = fill(NaN, 1:popsize)\n",
    "    popQ_RS = fill(NaN, 1:popsize)\n",
    "    popP_RS, popQ_RS, q0s_1[:,i] = RS(Λ, K, H, maxiter=maxiter, popsize=popsize)\n",
    "\n",
    "    popP = init_pop_alternative(popP_RS, ϵ);\n",
    "    popQ = init_pop_alternative(popQ_RS, ϵ);\n",
    "    popP, popQ, q0s[:,i], Vs[:,i] = RSB_entropic_m1(Λ, K, H, popP_RS, popQ_RS, maxiter=maxiter, popsize=popsize, popP=popP, popQ=popQ)\n",
    "    \n",
    "    @show H, Vs[maxiter, i]\n",
    "end\n",
    "H_f0p2_pop1e4_mixϵ0p1 = Hs\n",
    "q0_1_f0p2_pop1e4_mixϵ0p1 = q0s_1\n",
    "q0_f0p2_pop1e4_mixϵ0p1 = q0s\n",
    "V_f0p2_pop1e4_mixϵ0p1 = Vs;"
   ]
  },
  {
   "cell_type": "code",
   "execution_count": 164,
   "metadata": {},
   "outputs": [
    {
     "data": {
      "image/png": "[encoded data removed]",
      "text/plain": [
       "Figure(PyObject <Figure size 640x480 with 1 Axes>)"
      ]
     },
     "metadata": {},
     "output_type": "display_data"
    },
    {
     "data": {
      "text/plain": [
       "PyObject <matplotlib.legend.Legend object at 0x7f3fe19dbd68>"
      ]
     },
     "execution_count": 164,
     "metadata": {},
     "output_type": "execute_result"
    }
   ],
   "source": [
    "using PyPlot\n",
    "i=7\n",
    "plot(1:50:maxiter, q0_1_f0p2_pop1e4_mixϵ0p1[1:50:maxiter, i], label=\"q0\")\n",
    "plot(1:50:maxiter, q0_f0p2_pop1e4_mixϵ0p1[1:50:maxiter, i], label=\"q0\")\n",
    "plot(1:50:maxiter, V_f0p2_pop1e4_mixϵ0p1[1:50:maxiter, i], label=\"q1-q0\")\n",
    "legend()"
   ]
  },
  {
   "cell_type": "code",
   "execution_count": 166,
   "metadata": {},
   "outputs": [
    {
     "data": {
      "text/plain": [
       "([0.0, 8.998066907809872e-19, 4.1529539574507104e-18, 0.3153709477114468, 0.2962172232710817, 0.27949068588779175, 0.26448962688260885], [0.0, 2.714441917760141e-17, 8.714347362871887e-17, 0.004519979000277114, 0.005041201208373847, 0.004879920994297142, 0.005212274988019258])"
      ]
     },
     "execution_count": 166,
     "metadata": {},
     "output_type": "execute_result"
    }
   ],
   "source": [
    "using Statistics\n",
    "cut = 600\n",
    "means_V_f0p2_pop1e4_mixϵ0p1 = mean.(V_f0p2_pop1e4_mixϵ0p1[cut:maxiter, i] for i=1:7)\n",
    "stds_V_f0p2_pop1e4_mixϵ0p1 = std.(V_f0p2_pop1e4_mixϵ0p1[cut:maxiter, i] for i=1:7)\n",
    "means_V_f0p2_pop1e4_mixϵ0p1, stds_V_f0p2_pop1e4_mixϵ0p1"
   ]
  },
  {
   "cell_type": "markdown",
   "metadata": {},
   "source": [
    "with population size $10^5$"
   ]
  },
  {
   "cell_type": "code",
   "execution_count": 113,
   "metadata": {},
   "outputs": [
    {
     "name": "stderr",
     "output_type": "stream",
     "text": [
      "\u001b[32mProgress: 100%|█████████████████████████████████████████| Time: 0:01:19\u001b[39m\n",
      "\u001b[32mProgress: 100%|█████████████████████████████████████████| Time: 0:31:04\u001b[39m\n"
     ]
    },
    {
     "name": "stdout",
     "output_type": "stream",
     "text": [
      "(H, Vs[maxiter, i]) = (1.6, 0.2973901530321277)\n"
     ]
    },
    {
     "name": "stderr",
     "output_type": "stream",
     "text": [
      "\u001b[32mProgress: 100%|█████████████████████████████████████████| Time: 0:01:18\u001b[39m\n",
      "\u001b[32mProgress: 100%|█████████████████████████████████████████| Time: 0:30:41\u001b[39m\n"
     ]
    },
    {
     "name": "stdout",
     "output_type": "stream",
     "text": [
      "(H, Vs[maxiter, i]) = (1.7, 0.27907210561541174)\n"
     ]
    },
    {
     "name": "stderr",
     "output_type": "stream",
     "text": [
      "\u001b[32mProgress: 100%|█████████████████████████████████████████| Time: 0:01:17\u001b[39m\n",
      "\u001b[32mProgress: 100%|█████████████████████████████████████████| Time: 0:30:35\u001b[39m\n"
     ]
    },
    {
     "name": "stdout",
     "output_type": "stream",
     "text": [
      "(H, Vs[maxiter, i]) = (1.8, 0.26436179397374737)\n"
     ]
    }
   ],
   "source": [
    "f3 = 0.2\n",
    "Λ = OffsetVector([0,0,1-f3,f3], 0:3)\n",
    "K = OffsetVector([0,0,0,1], 0:3)\n",
    "popsize = 10^5\n",
    "maxiter = 10^3\n",
    "ϵ = 0.1\n",
    "\n",
    "Hs = 1.6:0.1:1.8\n",
    "q0s_1=fill(NaN, 1:maxiter, eachindex(Hs))\n",
    "q0s=fill(NaN, 1:maxiter, eachindex(Hs))\n",
    "Vs=fill(NaN, 1:maxiter, eachindex(Hs))\n",
    "\n",
    "for (i,H) in pairs(Hs)\n",
    "    popP_RS = fill(NaN, 1:popsize)\n",
    "    popQ_RS = fill(NaN, 1:popsize)\n",
    "    popP_RS, popQ_RS, q0s_1[:,i] = RS(Λ, K, H, maxiter=maxiter, popsize=popsize)\n",
    "\n",
    "    popP = init_pop_alternative(popP_RS, ϵ);\n",
    "    popQ = init_pop_alternative(popQ_RS, ϵ);\n",
    "    popP, popQ, q0s[:,i], Vs[:,i] = RSB_entropic_m1(Λ, K, H, popP_RS, popQ_RS, maxiter=maxiter, popsize=popsize, popP=popP, popQ=popQ)\n",
    "    \n",
    "    @show H, Vs[maxiter, i]\n",
    "end\n",
    "H_f0p2_pop1e5_mixϵ0p1 = Hs\n",
    "q0_1_f0p2_pop1e5_mixϵ0p1 = q0s_1\n",
    "q0_f0p2_pop1e5_mixϵ0p1 = q0s\n",
    "V_f0p2_pop1e5_mixϵ0p1 = Vs;"
   ]
  },
  {
   "cell_type": "code",
   "execution_count": 116,
   "metadata": {},
   "outputs": [
    {
     "data": {
      "image/png": "[encoded data removed]",
      "text/plain": [
       "Figure(PyObject <Figure size 640x480 with 1 Axes>)"
      ]
     },
     "metadata": {},
     "output_type": "display_data"
    },
    {
     "data": {
      "text/plain": [
       "PyObject <matplotlib.legend.Legend object at 0x7f3fe888aa90>"
      ]
     },
     "execution_count": 116,
     "metadata": {},
     "output_type": "execute_result"
    }
   ],
   "source": [
    "using PyPlot\n",
    "i=3\n",
    "plot(1:50:maxiter, q0_1_f0p2_pop1e5_mixϵ0p1[1:50:maxiter, i], label=\"q0\")\n",
    "plot(1:50:maxiter, q0_f0p2_pop1e5_mixϵ0p1[1:50:maxiter, i], label=\"q0\")\n",
    "plot(1:50:maxiter, V_f0p2_pop1e5_mixϵ0p1[1:50:maxiter, i], label=\"q1-q0\")\n",
    "legend()"
   ]
  },
  {
   "cell_type": "code",
   "execution_count": 117,
   "metadata": {},
   "outputs": [
    {
     "data": {
      "text/plain": [
       "([0.2960584639730126, 0.27909187900375404, 0.2641180621909735], [0.0016839756479481377, 0.0016854339807152318, 0.0015935946108029155])"
      ]
     },
     "execution_count": 117,
     "metadata": {},
     "output_type": "execute_result"
    }
   ],
   "source": [
    "using Statistics\n",
    "cut = [500, 500, 500]\n",
    "means_V_f0p2_pop1e5_mixϵ0p1 = mean.(V_f0p2_pop1e5_mixϵ0p1[cut[i]:maxiter, i] for i=1:length(cut))\n",
    "stds_V_f0p2_pop1e5_mixϵ0p1 = std.(V_f0p2_pop1e5_mixϵ0p1[cut[i]:maxiter, i] for i=1:length(cut))\n",
    "means_V_f0p2_pop1e5_mixϵ0p1, stds_V_f0p2_pop1e5_mixϵ0p1"
   ]
  },
  {
   "cell_type": "markdown",
   "metadata": {},
   "source": [
    "* Plots at $f3=0.2$"
   ]
  },
  {
   "cell_type": "code",
   "execution_count": 378,
   "metadata": {},
   "outputs": [
    {
     "data": {
      "image/png": "[encoded data removed]",
      "text/plain": [
       "Figure(PyObject <Figure size 640x480 with 1 Axes>)"
      ]
     },
     "metadata": {},
     "output_type": "display_data"
    },
    {
     "data": {
      "text/plain": [
       "PyObject <matplotlib.legend.Legend object at 0x7f3fc90da860>"
      ]
     },
     "execution_count": 378,
     "metadata": {},
     "output_type": "execute_result"
    }
   ],
   "source": [
    "using PyPlot\n",
    "xlabel(\"H\")\n",
    "ylabel(\"q1-q0\")\n",
    "\n",
    "plot((0.0,1.8), (0.0, 0.0))\n",
    "errorbar(H_f0p2_pop1e4[1:7], means_V_f0p2_pop1e4[1:7], yerr = stds_V_f0p2_pop1e4[1:7], fmt=\"*\", label=\"f3=0.2, pop=1e4\")\n",
    "#errorbar(H_f0p2_pop1e5, means_V_f0p2_pop1e5, yerr = stds_V_f0p2_pop1e5, fmt=\"+\", label=\"f3=0.2, pop=1e5\")\n",
    "errorbar(H_f0p2_pop1e4_mixϵ0p1[1:7], means_V_f0p2_pop1e4_mixϵ0p1[1:7], yerr = stds_V_f0p2_pop1e4_mixϵ0p1[1:7], fmt=\"+\", label=\"f3=0.2, pop=1e4, init mix ϵ=0.1\")\n",
    "#errorbar(H_f0p2_pop1e5_mixϵ0p1, means_V_f0p2_pop1e5_mixϵ0p1, yerr = stds_V_f0p2_pop1e5_mixϵ0p1, fmt=\"+\", label=\"f3=0.2, pop=1e5, init mix ϵ=0.1\")\n",
    "\n",
    "legend()"
   ]
  },
  {
   "cell_type": "markdown",
   "metadata": {},
   "source": [
    "* look at the presence of hard fields"
   ]
  },
  {
   "cell_type": "code",
   "execution_count": 341,
   "metadata": {},
   "outputs": [
    {
     "name": "stderr",
     "output_type": "stream",
     "text": [
      "\u001b[32mProgress: 100%|█████████████████████████████████████████| Time: 0:00:04\u001b[39m\n",
      "\u001b[32mProgress: 100%|█████████████████████████████████████████| Time: 0:02:14\u001b[39m\n"
     ]
    },
    {
     "name": "stdout",
     "output_type": "stream",
     "text": [
      "(H, checkRS(popP), checkHardFields(popP)) = (1.5, (0.6814652805629621, 0.3185347194370379), Inf)\n"
     ]
    },
    {
     "name": "stderr",
     "output_type": "stream",
     "text": [
      "\u001b[32mProgress: 100%|█████████████████████████████████████████| Time: 0:00:05\u001b[39m\n",
      "\u001b[32mProgress: 100%|█████████████████████████████████████████| Time: 0:02:20\u001b[39m\n"
     ]
    },
    {
     "name": "stdout",
     "output_type": "stream",
     "text": [
      "(H, checkRS(popP), checkHardFields(popP)) = (1.6, (0.7024595684706887, 0.2975404315293113), Inf)\n"
     ]
    },
    {
     "name": "stderr",
     "output_type": "stream",
     "text": [
      "\u001b[32mProgress: 100%|█████████████████████████████████████████| Time: 0:00:04\u001b[39m\n",
      "\u001b[32mProgress: 100%|█████████████████████████████████████████| Time: 0:02:18\u001b[39m\n"
     ]
    },
    {
     "name": "stdout",
     "output_type": "stream",
     "text": [
      "(H, checkRS(popP), checkHardFields(popP)) = (1.7, (0.7189091647299881, 0.2810908352700119), Inf)\n"
     ]
    },
    {
     "name": "stderr",
     "output_type": "stream",
     "text": [
      "\u001b[32mProgress: 100%|█████████████████████████████████████████| Time: 0:00:04\u001b[39m\n",
      "\u001b[32mProgress: 100%|█████████████████████████████████████████| Time: 0:02:18\u001b[39m\n"
     ]
    },
    {
     "name": "stdout",
     "output_type": "stream",
     "text": [
      "(H, checkRS(popP), checkHardFields(popP)) = (1.8, (0.7306522199084647, 0.26934778009153526), Inf)\n"
     ]
    }
   ],
   "source": [
    "f3 = 0.2\n",
    "Λ = OffsetVector([0,0,1-f3,f3], 0:3)\n",
    "K = OffsetVector([0,0,0,1], 0:3)\n",
    "popsize = 10^4\n",
    "maxiter = 10^3\n",
    "ϵ = 0.1\n",
    "\n",
    "Hs = 1.5:0.1:1.8\n",
    "for (i,H) in pairs(Hs)\n",
    "    popP_RS = fill(NaN, 1:popsize)\n",
    "    popQ_RS = fill(NaN, 1:popsize)\n",
    "    popP_RS, popQ_RS = RS(Λ, K, H, maxiter=maxiter, popsize=popsize)\n",
    "\n",
    "    popP = init_pop_alternative(popP_RS, ϵ);\n",
    "    popQ = init_pop_alternative(popQ_RS, ϵ);\n",
    "    popP, popQ = RSB_entropic_m1(Λ, K, H, popP_RS, popQ_RS, maxiter=maxiter, popsize=popsize, popP=popP, popQ=popQ)\n",
    "    \n",
    "    @show H, checkRS(popP), checkHardFields(popP)\n",
    "end\n"
   ]
  },
  {
   "cell_type": "code",
   "execution_count": 343,
   "metadata": {
    "scrolled": true
   },
   "outputs": [
    {
     "name": "stderr",
     "output_type": "stream",
     "text": [
      "\u001b[32mProgress: 100%|█████████████████████████████████████████| Time: 0:00:04\u001b[39m\n",
      "\u001b[32mProgress: 100%|█████████████████████████████████████████| Time: 0:02:17\u001b[39m\n"
     ]
    },
    {
     "name": "stdout",
     "output_type": "stream",
     "text": [
      "(H, checkRS(popP), checkHardFields(popP)) = (1.5, (0.6876701479463156, 2.220446049250313e-16), 4.111605966739566)\n"
     ]
    },
    {
     "name": "stderr",
     "output_type": "stream",
     "text": [
      "\u001b[32mProgress: 100%|█████████████████████████████████████████| Time: 0:00:04\u001b[39m\n",
      "\u001b[32mProgress: 100%|█████████████████████████████████████████| Time: 0:02:17\u001b[39m\n"
     ]
    },
    {
     "name": "stdout",
     "output_type": "stream",
     "text": [
      "(H, checkRS(popP), checkHardFields(popP)) = (1.6, (0.7017308467177146, 1.0932366123483916e-12), 4.639527016817514)\n"
     ]
    },
    {
     "name": "stderr",
     "output_type": "stream",
     "text": [
      "\u001b[32mProgress: 100%|█████████████████████████████████████████| Time: 0:00:04\u001b[39m\n",
      "\u001b[32mProgress: 100%|█████████████████████████████████████████| Time: 0:02:17\u001b[39m\n"
     ]
    },
    {
     "name": "stdout",
     "output_type": "stream",
     "text": [
      "(H, checkRS(popP), checkHardFields(popP)) = (1.7, (0.717380086213974, 4.048090640473845e-9), 5.196800890662912)\n"
     ]
    },
    {
     "name": "stderr",
     "output_type": "stream",
     "text": [
      "\u001b[32mProgress: 100%|█████████████████████████████████████████| Time: 0:00:04\u001b[39m\n",
      "\u001b[32mProgress: 100%|█████████████████████████████████████████| Time: 0:02:18\u001b[39m\n"
     ]
    },
    {
     "name": "stdout",
     "output_type": "stream",
     "text": [
      "(H, checkRS(popP), checkHardFields(popP)) = (1.8, (0.7412301022253106, 0.2587698977746894), Inf)\n"
     ]
    }
   ],
   "source": [
    "f3 = 0.2\n",
    "Λ = OffsetVector([0,0,1-f3,f3], 0:3)\n",
    "K = OffsetVector([0,0,0,1], 0:3)\n",
    "popsize = 10^4\n",
    "maxiter = 10^3\n",
    "\n",
    "Hs = 1.5:0.1:1.8\n",
    "for (i,H) in pairs(Hs)\n",
    "    popP_RS = fill(NaN, 1:popsize)\n",
    "    popQ_RS = fill(NaN, 1:popsize)\n",
    "    popP_RS, popQ_RS = RS(Λ, K, H, maxiter=maxiter, popsize=popsize)\n",
    "\n",
    "    popP = fill(NaN, -1:1, 1:popsize);\n",
    "    popQ = fill(NaN, -1:1, 1:popsize);\n",
    "    popP, popQ = RSB_entropic_m1(Λ, K, H, popP_RS, popQ_RS, maxiter=maxiter, popsize=popsize)\n",
    "    \n",
    "    @show H, checkRS(popP), checkHardFields(popP)\n",
    "end\n"
   ]
  },
  {
   "cell_type": "markdown",
   "metadata": {},
   "source": [
    "Try at $f_3=0.4$ (where $H_{sp}=1.126$)\n",
    "---"
   ]
  },
  {
   "cell_type": "markdown",
   "metadata": {},
   "source": [
    "* with population size =$10^4$"
   ]
  },
  {
   "cell_type": "code",
   "execution_count": 210,
   "metadata": {},
   "outputs": [
    {
     "name": "stderr",
     "output_type": "stream",
     "text": [
      "\u001b[32mProgress: 100%|█████████████████████████████████████████| Time: 0:00:05\u001b[39m\n",
      "\u001b[32mProgress: 100%|█████████████████████████████████████████| Time: 0:03:00\u001b[39m\n"
     ]
    },
    {
     "name": "stdout",
     "output_type": "stream",
     "text": [
      "(H, Vs[maxiter, i]) = (0.0, 0.0)\n"
     ]
    },
    {
     "name": "stderr",
     "output_type": "stream",
     "text": [
      "\u001b[32mProgress: 100%|█████████████████████████████████████████| Time: 0:00:04\u001b[39m\n",
      "\u001b[32mProgress: 100%|█████████████████████████████████████████| Time: 0:03:01\u001b[39m\n"
     ]
    },
    {
     "name": "stdout",
     "output_type": "stream",
     "text": [
      "(H, Vs[maxiter, i]) = (0.2, -6.938893903907228e-18)\n"
     ]
    },
    {
     "name": "stderr",
     "output_type": "stream",
     "text": [
      "\u001b[32mProgress: 100%|█████████████████████████████████████████| Time: 0:00:05\u001b[39m\n",
      "\u001b[32mProgress: 100%|█████████████████████████████████████████| Time: 0:03:08\u001b[39m\n"
     ]
    },
    {
     "name": "stdout",
     "output_type": "stream",
     "text": [
      "(H, Vs[maxiter, i]) = (0.4, -5.551115123125783e-17)\n"
     ]
    },
    {
     "name": "stderr",
     "output_type": "stream",
     "text": [
      "\u001b[32mProgress: 100%|█████████████████████████████████████████| Time: 0:00:06\u001b[39m\n",
      "\u001b[32mProgress: 100%|█████████████████████████████████████████| Time: 0:03:14\u001b[39m\n"
     ]
    },
    {
     "name": "stdout",
     "output_type": "stream",
     "text": [
      "(H, Vs[maxiter, i]) = (0.6, 0.6765306274801566)\n"
     ]
    },
    {
     "name": "stderr",
     "output_type": "stream",
     "text": [
      "\u001b[32mProgress: 100%|█████████████████████████████████████████| Time: 0:00:05\u001b[39m\n",
      "\u001b[32mProgress: 100%|█████████████████████████████████████████| Time: 0:03:02\u001b[39m\n"
     ]
    },
    {
     "name": "stdout",
     "output_type": "stream",
     "text": [
      "(H, Vs[maxiter, i]) = (0.8, 0.5437242325884525)\n"
     ]
    },
    {
     "name": "stderr",
     "output_type": "stream",
     "text": [
      "\u001b[32mProgress: 100%|█████████████████████████████████████████| Time: 0:00:06\u001b[39m\n",
      "\u001b[32mProgress: 100%|█████████████████████████████████████████| Time: 0:02:56\u001b[39m\n"
     ]
    },
    {
     "name": "stdout",
     "output_type": "stream",
     "text": [
      "(H, Vs[maxiter, i]) = (1.0, 0.44392149682731175)\n"
     ]
    },
    {
     "name": "stderr",
     "output_type": "stream",
     "text": [
      "\u001b[32mProgress: 100%|█████████████████████████████████████████| Time: 0:00:05\u001b[39m\n",
      "\u001b[32mProgress: 100%|█████████████████████████████████████████| Time: 0:03:08\u001b[39m\n"
     ]
    },
    {
     "name": "stdout",
     "output_type": "stream",
     "text": [
      "(H, Vs[maxiter, i]) = (0.41, 0.0)\n"
     ]
    },
    {
     "name": "stderr",
     "output_type": "stream",
     "text": [
      "\u001b[32mProgress: 100%|█████████████████████████████████████████| Time: 0:00:06\u001b[39m\n",
      "\u001b[32mProgress: 100%|█████████████████████████████████████████| Time: 0:03:08\u001b[39m\n"
     ]
    },
    {
     "name": "stdout",
     "output_type": "stream",
     "text": [
      "(H, Vs[maxiter, i]) = (0.42, -2.7755575615628914e-17)\n"
     ]
    },
    {
     "name": "stderr",
     "output_type": "stream",
     "text": [
      "\u001b[32mProgress: 100%|█████████████████████████████████████████| Time: 0:00:05\u001b[39m\n",
      "\u001b[32mProgress: 100%|█████████████████████████████████████████| Time: 0:03:04\u001b[39m\n"
     ]
    },
    {
     "name": "stdout",
     "output_type": "stream",
     "text": [
      "(H, Vs[maxiter, i]) = (0.43, 2.7755575615628914e-17)\n"
     ]
    },
    {
     "name": "stderr",
     "output_type": "stream",
     "text": [
      "\u001b[32mProgress: 100%|█████████████████████████████████████████| Time: 0:00:06\u001b[39m\n",
      "\u001b[32mProgress: 100%|█████████████████████████████████████████| Time: 0:02:57\u001b[39m\n"
     ]
    },
    {
     "name": "stdout",
     "output_type": "stream",
     "text": [
      "(H, Vs[maxiter, i]) = (0.44, 0.0)\n"
     ]
    },
    {
     "name": "stderr",
     "output_type": "stream",
     "text": [
      "\u001b[32mProgress: 100%|█████████████████████████████████████████| Time: 0:00:06\u001b[39m\n",
      "\u001b[32mProgress: 100%|█████████████████████████████████████████| Time: 0:02:59\u001b[39m\n"
     ]
    },
    {
     "name": "stdout",
     "output_type": "stream",
     "text": [
      "(H, Vs[maxiter, i]) = (0.45, 0.0)\n"
     ]
    },
    {
     "name": "stderr",
     "output_type": "stream",
     "text": [
      "\u001b[32mProgress: 100%|█████████████████████████████████████████| Time: 0:00:07\u001b[39m\n",
      "\u001b[32mProgress: 100%|█████████████████████████████████████████| Time: 0:03:05\u001b[39m\n"
     ]
    },
    {
     "name": "stdout",
     "output_type": "stream",
     "text": [
      "(H, Vs[maxiter, i]) = (0.46, 0.0)\n"
     ]
    },
    {
     "name": "stderr",
     "output_type": "stream",
     "text": [
      "\u001b[32mProgress: 100%|█████████████████████████████████████████| Time: 0:00:06\u001b[39m\n",
      "\u001b[32mProgress: 100%|█████████████████████████████████████████| Time: 0:03:05\u001b[39m\n"
     ]
    },
    {
     "name": "stdout",
     "output_type": "stream",
     "text": [
      "(H, Vs[maxiter, i]) = (0.47, 0.0)\n"
     ]
    },
    {
     "name": "stderr",
     "output_type": "stream",
     "text": [
      "\u001b[32mProgress: 100%|█████████████████████████████████████████| Time: 0:00:06\u001b[39m\n",
      "\u001b[32mProgress: 100%|█████████████████████████████████████████| Time: 0:03:00\u001b[39m\n"
     ]
    },
    {
     "name": "stdout",
     "output_type": "stream",
     "text": [
      "(H, Vs[maxiter, i]) = (0.48, 0.7725413057732129)\n"
     ]
    },
    {
     "name": "stderr",
     "output_type": "stream",
     "text": [
      "\u001b[32mProgress: 100%|█████████████████████████████████████████| Time: 0:00:04\u001b[39m\n",
      "\u001b[32mProgress: 100%|█████████████████████████████████████████| Time: 0:03:07\u001b[39m\n"
     ]
    },
    {
     "name": "stdout",
     "output_type": "stream",
     "text": [
      "(H, Vs[maxiter, i]) = (0.49, -8.326672684688674e-17)\n"
     ]
    },
    {
     "name": "stderr",
     "output_type": "stream",
     "text": [
      "\u001b[32mProgress: 100%|█████████████████████████████████████████| Time: 0:00:06\u001b[39m\n",
      "\u001b[32mProgress: 100%|█████████████████████████████████████████| Time: 0:02:59\u001b[39m\n"
     ]
    },
    {
     "name": "stdout",
     "output_type": "stream",
     "text": [
      "(H, Vs[maxiter, i]) = (0.5, 0.7600257165484099)\n"
     ]
    }
   ],
   "source": [
    "f3 = 0.4\n",
    "Λ = OffsetVector([0,0,1-f3,f3], 0:3)\n",
    "K = OffsetVector([0,0,0,1], 0:3)\n",
    "popsize = 10^4\n",
    "maxiter = 10^3\n",
    "\n",
    "Hs = vcat(0.0:0.2:1.0, 0.41:0.01:0.5)\n",
    "q0s_1=fill(NaN, 1:maxiter, eachindex(Hs))\n",
    "q0s=fill(NaN, 1:maxiter, eachindex(Hs))\n",
    "Vs=fill(NaN, 1:maxiter, eachindex(Hs))\n",
    "\n",
    "for (i,H) in pairs(Hs)\n",
    "    popP_RS = fill(NaN, 1:popsize)\n",
    "    popQ_RS = fill(NaN, 1:popsize)\n",
    "    popP_RS, popQ_RS, q0s_1[:,i] = RS(Λ, K, H, maxiter=maxiter, popsize=popsize)\n",
    "\n",
    "    popP = fill(NaN, -1:1, 1:popsize);\n",
    "    popQ = fill(NaN, -1:1, 1:popsize);\n",
    "    popP, popQ, q0s[:,i], Vs[:,i] = RSB_entropic_m1(Λ, K, H, popP_RS, popQ_RS, maxiter=maxiter, popsize=popsize)\n",
    "    \n",
    "    @show H, Vs[maxiter, i]\n",
    "end\n",
    "H_f0p4_pop1e4 = Hs\n",
    "q0_1_f0p4_pop1e4 = q0s_1\n",
    "q0_f0p4_pop1e4 = q0s\n",
    "V_f0p4_pop1e4 = Vs;"
   ]
  },
  {
   "cell_type": "code",
   "execution_count": 298,
   "metadata": {},
   "outputs": [
    {
     "data": {
      "text/plain": [
       "(1000, 16)"
      ]
     },
     "execution_count": 298,
     "metadata": {},
     "output_type": "execute_result"
    }
   ],
   "source": [
    "size(V_f0p4_pop1e4)"
   ]
  },
  {
   "cell_type": "code",
   "execution_count": 227,
   "metadata": {},
   "outputs": [
    {
     "data": {
      "image/png": "[encoded data removed]",
      "text/plain": [
       "Figure(PyObject <Figure size 640x480 with 1 Axes>)"
      ]
     },
     "metadata": {},
     "output_type": "display_data"
    },
    {
     "data": {
      "text/plain": [
       "PyObject <matplotlib.legend.Legend object at 0x7f3fcb0476a0>"
      ]
     },
     "execution_count": 227,
     "metadata": {},
     "output_type": "execute_result"
    }
   ],
   "source": [
    "using PyPlot\n",
    "i=16\n",
    "plot(1:50:maxiter, q0_1_f0p4_pop1e4[1:50:maxiter, i], label=\"q0\")\n",
    "plot(1:50:maxiter, q0_f0p4_pop1e4[1:50:maxiter, i], label=\"q0\")\n",
    "plot(1:50:maxiter, V_f0p4_pop1e4[1:50:maxiter, i], label=\"q1-q0\")\n",
    "legend()"
   ]
  },
  {
   "cell_type": "code",
   "execution_count": 230,
   "metadata": {},
   "outputs": [
    {
     "data": {
      "text/plain": [
       "([0.0, -2.249516726952468e-19, -1.8688292808528195e-18, 0.6789124696588924, 0.5484994463128673, 0.45068887443033306, -1.661181582980284e-18, 1.9380451801436646e-18, 4.15295395745071e-19, 1.5227497843985937e-18, 8.30590791490142e-19, -6.229430936176065e-19, 1.4535338851077486e-18, 0.7722817377024278, 3.0454995687971873e-18, 0.7562370290242963], [0.0, 7.364538040110133e-18, 2.1100720908396724e-17, 0.0038871808373490526, 0.004918628368348953, 0.00478495342747352, 2.274279362616414e-17, 2.3553222172437885e-17, 2.4430828502501743e-17, 2.422828923302972e-17, 2.5949641129887836e-17, 2.8468007979904307e-17, 3.127587407309441e-17, 0.0028539562194235374, 3.3799524426402276e-17, 0.0028794941844260194])"
      ]
     },
     "execution_count": 230,
     "metadata": {},
     "output_type": "execute_result"
    }
   ],
   "source": [
    "using Statistics\n",
    "cut = 600\n",
    "means_V_f0p4_pop1e4 = mean.(V_f0p4_pop1e4[cut:maxiter, i] for i=1:16)\n",
    "stds_V_f0p4_pop1e4 = std.(V_f0p4_pop1e4[cut:maxiter, i] for i=1:16)\n",
    "means_V_f0p4_pop1e4, stds_V_f0p4_pop1e4"
   ]
  },
  {
   "cell_type": "markdown",
   "metadata": {},
   "source": [
    "* with population size $10^5$"
   ]
  },
  {
   "cell_type": "code",
   "execution_count": 82,
   "metadata": {},
   "outputs": [
    {
     "name": "stderr",
     "output_type": "stream",
     "text": [
      "\u001b[32mProgress: 100%|█████████████████████████████████████████| Time: 0:00:49\u001b[39m\n",
      "\u001b[32mProgress: 100%|█████████████████████████████████████████| Time: 0:20:40\u001b[39m\n"
     ]
    },
    {
     "name": "stdout",
     "output_type": "stream",
     "text": [
      "(H, Vs[maxiter, i]) = (1.0, 0.4507385192753124)\n"
     ]
    }
   ],
   "source": [
    "f3 = 0.4\n",
    "Λ = OffsetVector([0,0,1-f3,f3], 0:3)\n",
    "K = OffsetVector([0,0,0,1], 0:3)\n",
    "popsize = 10^5\n",
    "maxiter = 10^3\n",
    "\n",
    "Hs = 1.0:0.1:1.0\n",
    "q0s_1=fill(NaN, 1:maxiter, eachindex(Hs))\n",
    "q0s=fill(NaN, 1:maxiter, eachindex(Hs))\n",
    "Vs=fill(NaN, 1:maxiter, eachindex(Hs))\n",
    "\n",
    "for (i,H) in pairs(Hs)\n",
    "    popP_RS = fill(NaN, 1:popsize)\n",
    "    popQ_RS = fill(NaN, 1:popsize)\n",
    "    popP_RS, popQ_RS, q0s_1[:,i] = RS(Λ, K, H, maxiter=maxiter, popsize=popsize)\n",
    "\n",
    "    popP = fill(NaN, -1:1, 1:popsize);\n",
    "    popQ = fill(NaN, -1:1, 1:popsize);\n",
    "    popP, popQ, q0s[:,i], Vs[:,i] = RSB_entropic_m1(Λ, K, H, popP_RS, popQ_RS, maxiter=maxiter, popsize=popsize)\n",
    "    \n",
    "    @show H, Vs[maxiter, i]\n",
    "end\n",
    "H_f0p4_pop1e5 = Hs\n",
    "q0_1_f0p4_pop1e5 = q0s_1\n",
    "q0_f0p4_pop1e5 = q0s\n",
    "V_f0p4_pop1e5 = Vs;"
   ]
  },
  {
   "cell_type": "code",
   "execution_count": 290,
   "metadata": {},
   "outputs": [
    {
     "data": {
      "image/png": "[encoded data removed]",
      "text/plain": [
       "Figure(PyObject <Figure size 640x480 with 1 Axes>)"
      ]
     },
     "metadata": {},
     "output_type": "display_data"
    },
    {
     "data": {
      "text/plain": [
       "PyObject <matplotlib.legend.Legend object at 0x7f3fca0860b8>"
      ]
     },
     "execution_count": 290,
     "metadata": {},
     "output_type": "execute_result"
    }
   ],
   "source": [
    "using PyPlot\n",
    "i=1\n",
    "plot(1:50:maxiter, q0_1_f0p4_pop1e5[1:50:maxiter, i], label=\"q0\")\n",
    "plot(1:50:maxiter, q0_f0p4_pop1e5[1:50:maxiter, i], label=\"q0\")\n",
    "plot(1:50:maxiter, V_f0p4_pop1e5[1:50:maxiter, i], label=\"q1-q0\")\n",
    "legend()"
   ]
  },
  {
   "cell_type": "code",
   "execution_count": 294,
   "metadata": {},
   "outputs": [
    {
     "data": {
      "text/plain": [
       "([0.45106367550864257], [0.0015180479335842798])"
      ]
     },
     "execution_count": 294,
     "metadata": {},
     "output_type": "execute_result"
    }
   ],
   "source": [
    "using Statistics\n",
    "cut = 600\n",
    "means_V_f0p4_pop1e5 = mean.(V_f0p4_pop1e5[cut:maxiter, i] for i=1:1)\n",
    "stds_V_f0p4_pop1e5 = std.(V_f0p4_pop1e5[cut:maxiter, i] for i=1:1)\n",
    "means_V_f0p4_pop1e5, stds_V_f0p4_pop1e5"
   ]
  },
  {
   "cell_type": "code",
   "execution_count": 292,
   "metadata": {},
   "outputs": [
    {
     "name": "stderr",
     "output_type": "stream",
     "text": [
      "\u001b[32mProgress:   5%|█▉                                       |  ETA: 0:00:57\u001b[39m"
     ]
    },
    {
     "ename": "LoadError",
     "evalue": "\u001b[91mInterruptException:\u001b[39m",
     "output_type": "error",
     "traceback": [
      "\u001b[91mInterruptException:\u001b[39m",
      "",
      "Stacktrace:",
      " [1] Array at ./boot.jl:406 [inlined]",
      " [2] Array at ./boot.jl:415 [inlined]",
      " [3] similar at ./array.jl:380 [inlined]",
      " [4] similar at /home/louise/.julia/packages/OffsetArrays/vICYU/src/OffsetArrays.jl:250 [inlined]",
      " [5] similar at ./abstractarray.jl:630 [inlined]",
      " [6] _unsafe_getindex(::IndexLinear, ::OffsetArray{Float64,1,Array{Float64,1}}, ::Array{Int64,1}) at ./multidimensional.jl:755",
      " [7] _getindex at ./multidimensional.jl:743 [inlined]",
      " [8] getindex at ./abstractarray.jl:1060 [inlined]",
      " [9] macro expansion at ./In[5]:21 [inlined]",
      " [10] macro expansion at /home/louise/.julia/packages/ProgressMeter/0ub8y/src/ProgressMeter.jl:773 [inlined]",
      " [11] RS(::OffsetArray{Float64,1,Array{Float64,1}}, ::OffsetArray{Int64,1,Array{Int64,1}}, ::Float64; maxiter::Int64, popsize::Int64, tol::Float64, popP_RS::OffsetArray{Float64,1,Array{Float64,1}}, popQ_RS::OffsetArray{Float64,1,Array{Float64,1}}, q0::OffsetArray{Float64,1,Array{Float64,1}}) at ./In[5]:16",
      " [12] top-level scope at ./In[292]:15"
     ]
    }
   ],
   "source": [
    "f3 = 0.4\n",
    "Λ = OffsetVector([0,0,1-f3,f3], 0:3)\n",
    "K = OffsetVector([0,0,0,1], 0:3)\n",
    "popsize = 10^5\n",
    "maxiter = 10^3\n",
    "\n",
    "Hs = 0.41:0.01:0.5\n",
    "q0s_1=fill(NaN, 1:maxiter, eachindex(Hs))\n",
    "q0s=fill(NaN, 1:maxiter, eachindex(Hs))\n",
    "Vs=fill(NaN, 1:maxiter, eachindex(Hs))\n",
    "\n",
    "for (i,H) in pairs(Hs)\n",
    "    popP_RS = fill(NaN, 1:popsize)\n",
    "    popQ_RS = fill(NaN, 1:popsize)\n",
    "    popP_RS, popQ_RS, q0s_1[:,i] = RS(Λ, K, H, maxiter=maxiter, popsize=popsize)\n",
    "\n",
    "    popP = fill(NaN, -1:1, 1:popsize);\n",
    "    popQ = fill(NaN, -1:1, 1:popsize);\n",
    "    popP, popQ, q0s[:,i], Vs[:,i] = RSB_entropic_m1(Λ, K, H, popP_RS, popQ_RS, maxiter=maxiter, popsize=popsize)\n",
    "    \n",
    "    @show H, Vs[maxiter, i]\n",
    "end\n",
    "H_f0p4_pop1e5 = vcat(Hs, H_f0p4_pop1e5)\n",
    "q0_1_f0p4_pop1e5 = vcat(q0s_1, q0_1_f0p4_pop1e5)\n",
    "q0_f0p4_pop1e5 = vcat(q0s, q0_f0p4_pop1e5)\n",
    "V_f0p4_pop1e5 = vcat(Vs, V_f0p4_pop1e5);"
   ]
  },
  {
   "cell_type": "code",
   "execution_count": 272,
   "metadata": {},
   "outputs": [
    {
     "data": {
      "text/plain": [
       "10"
      ]
     },
     "execution_count": 272,
     "metadata": {},
     "output_type": "execute_result"
    }
   ],
   "source": [
    "H_f0p4_pop1e5_H0p41to0p5 = Hs\n",
    "q0_1_f0p4_pop1e5_H0p41to0p5 = q0s_1\n",
    "q0_f0p4_pop1e5_H0p41to0p5 = q0s\n",
    "V_f0p4_pop1e5_H0p41to0p5 = Vs;\n",
    "size(V_f0p4_pop1e5_H0p41to0p5, 2)"
   ]
  },
  {
   "cell_type": "code",
   "execution_count": 271,
   "metadata": {},
   "outputs": [
    {
     "data": {
      "image/png": "[encoded data removed]",
      "text/plain": [
       "Figure(PyObject <Figure size 640x480 with 1 Axes>)"
      ]
     },
     "metadata": {},
     "output_type": "display_data"
    },
    {
     "data": {
      "text/plain": [
       "PyObject <matplotlib.legend.Legend object at 0x7f3fca4daf98>"
      ]
     },
     "execution_count": 271,
     "metadata": {},
     "output_type": "execute_result"
    }
   ],
   "source": [
    "using PyPlot\n",
    "i=10\n",
    "plot(1:50:maxiter, q0_1_f0p4_pop1e5_H0p41to0p5[1:50:maxiter, i], label=\"q0\")\n",
    "plot(1:50:maxiter, q0_f0p4_pop1e5_H0p41to0p5[1:50:maxiter, i], label=\"q0\")\n",
    "plot(1:50:maxiter, V_f0p4_pop1e5_H0p41to0p5[1:50:maxiter, i], label=\"q1-q0\")\n",
    "legend()"
   ]
  },
  {
   "cell_type": "code",
   "execution_count": 273,
   "metadata": {},
   "outputs": [
    {
     "data": {
      "text/plain": [
       "([-9.690225900718323e-19, 6.229430936176065e-19, -4.15295395745071e-19, 3.4607949645422587e-19, 1.3843179858169034e-19, -1.4535338851077486e-18, 1.0382384893626776e-18, 0.7720793394775721, 0.764133983603595, 0.7562185944047495], [2.480637478375057e-17, 2.4933638799700817e-17, 2.3051762692026084e-17, 2.7298623006160024e-17, 2.6694098002217868e-17, 3.008313416433441e-17, 2.9778735204065e-17, 0.0008676131662662186, 0.0009935144515400003, 0.0008745155332591677])"
      ]
     },
     "execution_count": 273,
     "metadata": {},
     "output_type": "execute_result"
    }
   ],
   "source": [
    "using Statistics\n",
    "cut = 600\n",
    "means_V_f0p4_pop1e5_H0p41to0p5 = mean.(V_f0p4_pop1e5_H0p41to0p5[cut:maxiter, i] for i=1:size(V_f0p4_pop1e5_H0p41to0p5, 2))\n",
    "stds_V_f0p4_pop1e5_H0p41to0p5 = std.(V_f0p4_pop1e5_H0p41to0p5[cut:maxiter, i] for i=1:size(V_f0p4_pop1e5_H0p41to0p5, 2))\n",
    "means_V_f0p4_pop1e5_H0p41to0p5, stds_V_f0p4_pop1e5_H0p41to0p5"
   ]
  },
  {
   "cell_type": "markdown",
   "metadata": {},
   "source": [
    "* with the other initialization"
   ]
  },
  {
   "cell_type": "code",
   "execution_count": 127,
   "metadata": {},
   "outputs": [
    {
     "name": "stderr",
     "output_type": "stream",
     "text": [
      "\u001b[32mProgress: 100%|█████████████████████████████████████████| Time: 0:00:05\u001b[39m\n",
      "\u001b[32mProgress: 100%|█████████████████████████████████████████| Time: 0:03:09\u001b[39m\n"
     ]
    },
    {
     "name": "stdout",
     "output_type": "stream",
     "text": [
      "(H, Vs[maxiter, i]) = (0.0, 0.0)\n"
     ]
    },
    {
     "name": "stderr",
     "output_type": "stream",
     "text": [
      "\u001b[32mProgress: 100%|█████████████████████████████████████████| Time: 0:00:06\u001b[39m\n",
      "\u001b[32mProgress: 100%|█████████████████████████████████████████| Time: 0:03:01\u001b[39m\n"
     ]
    },
    {
     "name": "stdout",
     "output_type": "stream",
     "text": [
      "(H, Vs[maxiter, i]) = (0.2, 6.938893903907228e-18)\n"
     ]
    },
    {
     "name": "stderr",
     "output_type": "stream",
     "text": [
      "\u001b[32mProgress: 100%|█████████████████████████████████████████| Time: 0:00:06\u001b[39m\n",
      "\u001b[32mProgress: 100%|█████████████████████████████████████████| Time: 0:02:47\u001b[39m\n"
     ]
    },
    {
     "name": "stdout",
     "output_type": "stream",
     "text": [
      "(H, Vs[maxiter, i]) = (0.4, 0.0)\n"
     ]
    },
    {
     "name": "stderr",
     "output_type": "stream",
     "text": [
      "\u001b[32mProgress: 100%|█████████████████████████████████████████| Time: 0:00:06\u001b[39m\n",
      "\u001b[32mProgress: 100%|█████████████████████████████████████████| Time: 0:03:10\u001b[39m\n"
     ]
    },
    {
     "name": "stdout",
     "output_type": "stream",
     "text": [
      "(H, Vs[maxiter, i]) = (0.6, 0.67907009388779)\n"
     ]
    },
    {
     "name": "stderr",
     "output_type": "stream",
     "text": [
      "\u001b[32mProgress: 100%|█████████████████████████████████████████| Time: 0:00:05\u001b[39m\n",
      "\u001b[32mProgress: 100%|█████████████████████████████████████████| Time: 0:03:00\u001b[39m\n"
     ]
    },
    {
     "name": "stdout",
     "output_type": "stream",
     "text": [
      "(H, Vs[maxiter, i]) = (0.8, 0.5419937576648812)\n"
     ]
    },
    {
     "name": "stderr",
     "output_type": "stream",
     "text": [
      "\u001b[32mProgress: 100%|█████████████████████████████████████████| Time: 0:00:05\u001b[39m\n",
      "\u001b[32mProgress: 100%|█████████████████████████████████████████| Time: 0:03:01\u001b[39m\n"
     ]
    },
    {
     "name": "stdout",
     "output_type": "stream",
     "text": [
      "(H, Vs[maxiter, i]) = (1.0, 0.4549011965929963)\n"
     ]
    }
   ],
   "source": [
    "f3 = 0.4\n",
    "Λ = OffsetVector([0,0,1-f3,f3], 0:3)\n",
    "K = OffsetVector([0,0,0,1], 0:3)\n",
    "popsize = 10^4\n",
    "maxiter = 10^3\n",
    "ϵ = 0.1\n",
    "\n",
    "Hs = 0.0:0.2:1.0\n",
    "q0s_1=fill(NaN, 1:maxiter, eachindex(Hs))\n",
    "q0s=fill(NaN, 1:maxiter, eachindex(Hs))\n",
    "Vs=fill(NaN, 1:maxiter, eachindex(Hs))\n",
    "\n",
    "for (i,H) in pairs(Hs)\n",
    "    popP_RS = fill(NaN, 1:popsize)\n",
    "    popQ_RS = fill(NaN, 1:popsize)\n",
    "    popP_RS, popQ_RS, q0s_1[:,i] = RS(Λ, K, H, maxiter=maxiter, popsize=popsize)\n",
    "\n",
    "    popP = init_pop_alternative(popP_RS, ϵ);\n",
    "    popQ = init_pop_alternative(popQ_RS, ϵ);\n",
    "    popP, popQ, q0s[:,i], Vs[:,i] = RSB_entropic_m1(Λ, K, H, popP_RS, popQ_RS, maxiter=maxiter, popsize=popsize, popP=popP, popQ=popQ)\n",
    "    \n",
    "    @show H, Vs[maxiter, i]\n",
    "end\n",
    "H_f0p4_pop1e4_mixϵ0p1 = Hs\n",
    "q0_1_f0p4_pop1e4_mixϵ0p1 = q0s_1\n",
    "q0_f0p4_pop1e4_mixϵ0p1 = q0s\n",
    "V_f0p4_pop1e4_mixϵ0p1 = Vs;"
   ]
  },
  {
   "cell_type": "code",
   "execution_count": 198,
   "metadata": {},
   "outputs": [
    {
     "data": {
      "image/png": "[encoded data removed]",
      "text/plain": [
       "Figure(PyObject <Figure size 640x480 with 1 Axes>)"
      ]
     },
     "metadata": {},
     "output_type": "display_data"
    },
    {
     "data": {
      "text/plain": [
       "PyObject <matplotlib.legend.Legend object at 0x7f3fdcbf7470>"
      ]
     },
     "execution_count": 198,
     "metadata": {},
     "output_type": "execute_result"
    }
   ],
   "source": [
    "using PyPlot\n",
    "i=6\n",
    "plot(1:50:maxiter, q0_1_f0p4_pop1e4_mixϵ0p1[1:50:maxiter, i], label=\"q0\")\n",
    "plot(1:50:maxiter, q0_f0p4_pop1e4_mixϵ0p1[1:50:maxiter, i], label=\"q0\")\n",
    "plot(1:50:maxiter, V_f0p4_pop1e4_mixϵ0p1[1:50:maxiter, i], label=\"q1-q0\")\n",
    "legend()"
   ]
  },
  {
   "cell_type": "code",
   "execution_count": 200,
   "metadata": {},
   "outputs": [
    {
     "data": {
      "text/plain": [
       "([0.0, 2.768635971633807e-19, 1.245886187235213e-18, 0.6786220655915653, 0.5476893919908379, 0.4510388111446728], [0.0, 7.338200961937456e-18, 2.251420423523132e-17, 0.0037094378978178005, 0.004849103593101313, 0.005206801621635263])"
      ]
     },
     "execution_count": 200,
     "metadata": {},
     "output_type": "execute_result"
    }
   ],
   "source": [
    "using Statistics\n",
    "cut = 600\n",
    "means_V_f0p4_pop1e4_mixϵ0p1 = mean.(V_f0p4_pop1e4_mixϵ0p1[cut:maxiter, i] for i=1:6)\n",
    "stds_V_f0p4_pop1e4_mixϵ0p1 = std.(V_f0p4_pop1e4_mixϵ0p1[cut:maxiter, i] for i=1:6)\n",
    "means_V_f0p4_pop1e4_mixϵ0p1, stds_V_f0p4_pop1e4_mixϵ0p1"
   ]
  },
  {
   "cell_type": "code",
   "execution_count": 372,
   "metadata": {
    "scrolled": true
   },
   "outputs": [
    {
     "data": {
      "image/png": "[encoded data removed]",
      "text/plain": [
       "Figure(PyObject <Figure size 640x480 with 1 Axes>)"
      ]
     },
     "metadata": {},
     "output_type": "display_data"
    },
    {
     "data": {
      "text/plain": [
       "PyObject <matplotlib.legend.Legend object at 0x7f3fc9397358>"
      ]
     },
     "execution_count": 372,
     "metadata": {},
     "output_type": "execute_result"
    }
   ],
   "source": [
    "using PyPlot\n",
    "xlabel(\"H\")\n",
    "ylabel(\"q1-q0\")\n",
    "\n",
    "errorbar(H_f0p4_pop1e4[7:16], means_V_f0p4_pop1e4[7:16], yerr = stds_V_f0p4_pop1e4[7:16], fmt=\"*\", label=\"f3=0.4, pop=1e4\")\n",
    "#errorbar(H_f0p4_pop1e5, means_V_f0p4_pop1e5, yerr = stds_V_f0p4_pop1e5, fmt=\".\", label=\"f3=0.4, pop=1e5\")\n",
    "errorbar(H_f0p4_pop1e5_H0p41to0p5, means_V_f0p4_pop1e5_H0p41to0p5, yerr = stds_V_f0p4_pop1e5_H0p41to0p5, fmt=\"+\", label=\"f3=0.4, pop=1e5\")\n",
    "#errorbar(H_f0p4_pop1e4_mixϵ0p1, means_V_f0p4_pop1e4_mixϵ0p1, yerr = stds_V_f0p4_pop1e4_mixϵ0p1, fmt=\"+\", label=\"f3=0.4, pop=1e4, init mix ϵ=0.1\")\n",
    "\n",
    "legend()"
   ]
  },
  {
   "cell_type": "markdown",
   "metadata": {},
   "source": [
    "* check the presence of hard fields"
   ]
  },
  {
   "cell_type": "code",
   "execution_count": 348,
   "metadata": {},
   "outputs": [
    {
     "name": "stderr",
     "output_type": "stream",
     "text": [
      "\u001b[32mProgress: 100%|█████████████████████████████████████████| Time: 0:00:04\u001b[39m\n",
      "\u001b[32mProgress: 100%|█████████████████████████████████████████| Time: 0:02:19\u001b[39m\n"
     ]
    },
    {
     "name": "stdout",
     "output_type": "stream",
     "text": [
      "(H, checkRS(popP), checkHardFields(popP)) = (0.4, (0.1609318223417517, -2.7755575615628914e-17), 0.19730676181019718)\n"
     ]
    },
    {
     "name": "stderr",
     "output_type": "stream",
     "text": [
      "\u001b[32mProgress: 100%|█████████████████████████████████████████| Time: 0:00:04\u001b[39m\n",
      "\u001b[32mProgress: 100%|█████████████████████████████████████████| Time: 0:02:20\u001b[39m\n"
     ]
    },
    {
     "name": "stdout",
     "output_type": "stream",
     "text": [
      "(H, checkRS(popP), checkHardFields(popP)) = (0.5, (0.24254434274943437, 0.7574556572505656), Inf)\n"
     ]
    },
    {
     "name": "stderr",
     "output_type": "stream",
     "text": [
      "\u001b[32mProgress: 100%|█████████████████████████████████████████| Time: 0:00:04\u001b[39m\n",
      "\u001b[32mProgress: 100%|█████████████████████████████████████████| Time: 0:02:21\u001b[39m\n"
     ]
    },
    {
     "name": "stdout",
     "output_type": "stream",
     "text": [
      "(H, checkRS(popP), checkHardFields(popP)) = (0.6, (0.3174937180633888, 0.6825062819366112), Inf)\n"
     ]
    }
   ],
   "source": [
    "f3 = 0.4\n",
    "Λ = OffsetVector([0,0,1-f3,f3], 0:3)\n",
    "K = OffsetVector([0,0,0,1], 0:3)\n",
    "popsize = 10^4\n",
    "maxiter = 10^3\n",
    "\n",
    "Hs = 0.4:0.1:0.6\n",
    "for (i,H) in pairs(Hs)\n",
    "    popP_RS = fill(NaN, 1:popsize)\n",
    "    popQ_RS = fill(NaN, 1:popsize)\n",
    "    popP_RS, popQ_RS = RS(Λ, K, H, maxiter=maxiter, popsize=popsize)\n",
    "\n",
    "    popP = fill(NaN, -1:1, 1:popsize);\n",
    "    popQ = fill(NaN, -1:1, 1:popsize);\n",
    "    popP, popQ = RSB_entropic_m1(Λ, K, H, popP_RS, popQ_RS, maxiter=maxiter, popsize=popsize)\n",
    "    \n",
    "    @show H, checkRS(popP), checkHardFields(popP)\n",
    "end\n"
   ]
  },
  {
   "cell_type": "code",
   "execution_count": 349,
   "metadata": {},
   "outputs": [
    {
     "name": "stderr",
     "output_type": "stream",
     "text": [
      "\u001b[32mProgress: 100%|█████████████████████████████████████████| Time: 0:00:04\u001b[39m\n",
      "\u001b[32mProgress: 100%|█████████████████████████████████████████| Time: 0:02:18\u001b[39m\n"
     ]
    },
    {
     "name": "stdout",
     "output_type": "stream",
     "text": [
      "(H, checkRS(popP), checkHardFields(popP)) = (0.4, (0.16622283508220007, 0.0), 0.20436058726445883)\n"
     ]
    },
    {
     "name": "stderr",
     "output_type": "stream",
     "text": [
      "\u001b[32mProgress: 100%|█████████████████████████████████████████| Time: 0:00:04\u001b[39m\n",
      "\u001b[32mProgress: 100%|█████████████████████████████████████████| Time: 0:02:18\u001b[39m\n"
     ]
    },
    {
     "name": "stdout",
     "output_type": "stream",
     "text": [
      "(H, checkRS(popP), checkHardFields(popP)) = (0.5, (0.2421589963746324, 0.7578410036253675), Inf)\n"
     ]
    },
    {
     "name": "stderr",
     "output_type": "stream",
     "text": [
      "\u001b[32mProgress: 100%|█████████████████████████████████████████| Time: 0:00:04\u001b[39m\n",
      "\u001b[32mProgress: 100%|█████████████████████████████████████████| Time: 0:02:17\u001b[39m\n"
     ]
    },
    {
     "name": "stdout",
     "output_type": "stream",
     "text": [
      "(H, checkRS(popP), checkHardFields(popP)) = (0.6, (0.32798052575232545, 0.6720194742476746), Inf)\n"
     ]
    }
   ],
   "source": [
    "f3 = 0.4\n",
    "Λ = OffsetVector([0,0,1-f3,f3], 0:3)\n",
    "K = OffsetVector([0,0,0,1], 0:3)\n",
    "popsize = 10^4\n",
    "maxiter = 10^3\n",
    "\n",
    "Hs = 0.4:0.1:0.6\n",
    "for (i,H) in pairs(Hs)\n",
    "    popP_RS = fill(NaN, 1:popsize)\n",
    "    popQ_RS = fill(NaN, 1:popsize)\n",
    "    popP_RS, popQ_RS = RS(Λ, K, H, maxiter=maxiter, popsize=popsize)\n",
    "\n",
    "    popP = init_pop_alternative(popP_RS, 0.1);\n",
    "    popQ = init_pop_alternative(popQ_RS, 0.1);\n",
    "    popP, popQ = RSB_entropic_m1(Λ, K, H, popP_RS, popQ_RS, maxiter=maxiter, popsize=popsize)\n",
    "    \n",
    "    @show H, checkRS(popP), checkHardFields(popP)\n",
    "end\n"
   ]
  },
  {
   "cell_type": "code",
   "execution_count": 373,
   "metadata": {},
   "outputs": [
    {
     "name": "stderr",
     "output_type": "stream",
     "text": [
      "\u001b[32mProgress: 100%|█████████████████████████████████████████| Time: 0:00:05\u001b[39m\n",
      "\u001b[32mProgress: 100%|█████████████████████████████████████████| Time: 0:02:07\u001b[39m\n"
     ]
    },
    {
     "name": "stdout",
     "output_type": "stream",
     "text": [
      "(H, checkRS(popP), checkHardFields(popP)) = (0.46, (0.21279364750384822, 0.7872063524961518), Inf)\n"
     ]
    },
    {
     "name": "stderr",
     "output_type": "stream",
     "text": [
      "\u001b[32mProgress: 100%|█████████████████████████████████████████| Time: 0:00:04\u001b[39m\n",
      "\u001b[32mProgress: 100%|█████████████████████████████████████████| Time: 0:02:09\u001b[39m\n"
     ]
    },
    {
     "name": "stdout",
     "output_type": "stream",
     "text": [
      "(H, checkRS(popP), checkHardFields(popP)) = (0.47, (0.22539321011987887, 0.7746067898801211), Inf)\n"
     ]
    },
    {
     "name": "stderr",
     "output_type": "stream",
     "text": [
      "\u001b[32mProgress: 100%|█████████████████████████████████████████| Time: 0:00:04\u001b[39m\n",
      "\u001b[32mProgress: 100%|█████████████████████████████████████████| Time: 0:02:10\u001b[39m\n"
     ]
    },
    {
     "name": "stdout",
     "output_type": "stream",
     "text": [
      "(H, checkRS(popP), checkHardFields(popP)) = (0.48, (0.2268980646355312, 0.0), 0.3146808794859855)\n"
     ]
    },
    {
     "name": "stderr",
     "output_type": "stream",
     "text": [
      "\u001b[32mProgress: 100%|█████████████████████████████████████████| Time: 0:00:04\u001b[39m\n",
      "\u001b[32mProgress: 100%|█████████████████████████████████████████| Time: 0:02:11\u001b[39m\n"
     ]
    },
    {
     "name": "stdout",
     "output_type": "stream",
     "text": [
      "(H, checkRS(popP), checkHardFields(popP)) = (0.49, (0.2344053764395053, 0.7655946235604947), Inf)\n"
     ]
    },
    {
     "name": "stderr",
     "output_type": "stream",
     "text": [
      "\u001b[32mProgress: 100%|█████████████████████████████████████████| Time: 0:00:04\u001b[39m\n",
      "\u001b[32mProgress: 100%|█████████████████████████████████████████| Time: 0:02:12\u001b[39m\n"
     ]
    },
    {
     "name": "stdout",
     "output_type": "stream",
     "text": [
      "(H, checkRS(popP), checkHardFields(popP)) = (0.5, (0.24435641734227997, 0.75564358265772), Inf)\n"
     ]
    }
   ],
   "source": [
    "f3 = 0.4\n",
    "Λ = OffsetVector([0,0,1-f3,f3], 0:3)\n",
    "K = OffsetVector([0,0,0,1], 0:3)\n",
    "popsize = 10^4\n",
    "maxiter = 10^3\n",
    "\n",
    "Hs = 0.46:0.01:0.50\n",
    "for (i,H) in pairs(Hs)\n",
    "    popP_RS = fill(NaN, 1:popsize)\n",
    "    popQ_RS = fill(NaN, 1:popsize)\n",
    "    popP_RS, popQ_RS = RS(Λ, K, H, maxiter=maxiter, popsize=popsize)\n",
    "\n",
    "    popP = fill(NaN, -1:1, 1:popsize);\n",
    "    popQ = fill(NaN, -1:1, 1:popsize);\n",
    "    popP, popQ = RSB_entropic_m1(Λ, K, H, popP_RS, popQ_RS, maxiter=maxiter, popsize=popsize)\n",
    "    \n",
    "    @show H, checkRS(popP), checkHardFields(popP)\n",
    "end\n"
   ]
  },
  {
   "cell_type": "markdown",
   "metadata": {},
   "source": [
    "Rigidity threshold\n",
    "---"
   ]
  },
  {
   "cell_type": "code",
   "execution_count": 352,
   "metadata": {},
   "outputs": [
    {
     "data": {
      "text/plain": [
       "HF_fraction (generic function with 1 method)"
      ]
     },
     "execution_count": 352,
     "metadata": {},
     "output_type": "execute_result"
    }
   ],
   "source": [
    "function HF_fraction(Λ, K;\n",
    "        init_p=1.0,\n",
    "        maxiter=1000)\n",
    "    \n",
    "    Λ1 = residual(Λ)\n",
    "    K1 = residual(K)\n",
    "    \n",
    "    p=init_p\n",
    "    for t = 1:maxiter\n",
    "        q = sum(K1[k]*p^k for k in eachindex(K1))\n",
    "        p = 1-sum(Λ1[d]*(1-q)^d for d in eachindex(Λ1))\n",
    "    end\n",
    "    p\n",
    "end"
   ]
  },
  {
   "cell_type": "code",
   "execution_count": 379,
   "metadata": {},
   "outputs": [
    {
     "data": {
      "text/plain": [
       "0.9999999999999973"
      ]
     },
     "execution_count": 379,
     "metadata": {},
     "output_type": "execute_result"
    }
   ],
   "source": [
    "f3 = 0.41\n",
    "Λ = OffsetVector([0,0,1-f3,f3], 0:3)\n",
    "K = OffsetVector([0,0,0,1], 0:3)\n",
    "HF_fraction(Λ, K, init_p=0.99, maxiter=5000)"
   ]
  },
  {
   "cell_type": "code",
   "execution_count": null,
   "metadata": {},
   "outputs": [],
   "source": []
  }
 ],
 "metadata": {
  "kernelspec": {
   "display_name": "Julia 1.5.3",
   "language": "julia",
   "name": "julia-1.5"
  },
  "language_info": {
   "file_extension": ".jl",
   "mimetype": "application/julia",
   "name": "julia",
   "version": "1.5.3"
  }
 },
 "nbformat": 4,
 "nbformat_minor": 4
}
