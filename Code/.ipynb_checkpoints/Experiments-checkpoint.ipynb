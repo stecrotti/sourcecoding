{
 "cells": [
  {
   "cell_type": "code",
   "execution_count": 1,
   "metadata": {
    "ExecuteTime": {
     "end_time": "2020-03-21T17:39:55.691000+01:00",
     "start_time": "2020-03-21T16:39:23.435Z"
    },
    "init_cell": true
   },
   "outputs": [],
   "source": [
    "include(\"headers.jl\")\n",
    "using PyPlot, Statistics"
   ]
  },
  {
   "cell_type": "code",
   "execution_count": 2,
   "metadata": {
    "ExecuteTime": {
     "end_time": "2020-03-21T17:40:02.478000+01:00",
     "start_time": "2020-03-21T16:39:23.442Z"
    },
    "init_cell": true
   },
   "outputs": [],
   "source": [
    "# Rate-Distortion bound\n",
    "rdb(D) = 1-(-D*log2(D)-(1-D)*log2(1-D))\n",
    "D = LinRange(0.001,0.5-0.001,100)\n",
    "# plot(rdb.(D),D);"
   ]
  },
  {
   "cell_type": "markdown",
   "metadata": {},
   "source": [
    "# GF(2)"
   ]
  },
  {
   "cell_type": "code",
   "execution_count": 3,
   "metadata": {
    "ExecuteTime": {
     "end_time": "2020-03-21T17:40:03.018000+01:00",
     "start_time": "2020-03-21T16:39:23.447Z"
    },
    "init_cell": true
   },
   "outputs": [],
   "source": [
    "q = 2\n",
    "algo = BP();\n",
    "# To choose max-sum: algo = MS()"
   ]
  },
  {
   "cell_type": "markdown",
   "metadata": {},
   "source": [
    "## Toy example"
   ]
  },
  {
   "cell_type": "code",
   "execution_count": 43,
   "metadata": {},
   "outputs": [
    {
     "data": {
      "text/plain": [
       "2×4 Array{Int64,2}:\n",
       " 0  1  1  0\n",
       " 0  0  1  1"
      ]
     },
     "execution_count": 43,
     "metadata": {},
     "output_type": "execute_result"
    }
   ],
   "source": [
    "H = [0 1 1 0; 0 0 1 1]"
   ]
  },
  {
   "cell_type": "markdown",
   "metadata": {},
   "source": [
    "With uniform priors, BP should give all zeros (which is always a solution)"
   ]
  },
  {
   "cell_type": "code",
   "execution_count": 44,
   "metadata": {},
   "outputs": [
    {
     "name": "stdout",
     "output_type": "stream",
     "text": [
      "FG = FactorGraph(q, H, fields) = Factor Graph with 4 variables and 2 factors defined on GF(2)\n",
      "\n",
      "yhat = [0, 0, 0, 0]\n"
     ]
    }
   ],
   "source": [
    "k,n = size(H)\n",
    "\n",
    "# Uniform fields\n",
    "fields = [OffsetArray(fill(1/q, q), 0:q-1) for v in 1:size(H,2)]\n",
    "\n",
    "# Construct a FactorGraph by specifying the adjacency matrix\n",
    "@show FG = FactorGraph(q,H,fields)\n",
    "\n",
    "# Run bp\n",
    "yhat = bp!(FG, algo)\n",
    "@show yhat;"
   ]
  },
  {
   "cell_type": "markdown",
   "metadata": {},
   "source": [
    "With a prior that pushes the system towards $y=(0,1,1,0)$, the solution should be the nearest codeword"
   ]
  },
  {
   "cell_type": "code",
   "execution_count": 39,
   "metadata": {},
   "outputs": [
    {
     "name": "stdout",
     "output_type": "stream",
     "text": [
      "FG.fields = OffsetArray{Float64,1,Array{Float64,1}}[[0.0, 1.0], [1.0, 0.0], [1.0, 0.0], [0.0, 1.0]]\n",
      "yhat = [0, 1, 1, 1]\n",
      "(D, R) = (0.25, 0.5)\n"
     ]
    }
   ],
   "source": [
    "y = [0,1,1,0]\n",
    "fields = extfields(q,y)\n",
    "FG = FactorGraph(q,A,fields)\n",
    "@show FG.fields\n",
    "yhat = bp!(FG, algo)\n",
    "@show yhat;\n",
    "D = hd(y,yhat)/n\n",
    "R = k/n\n",
    "@show D,R;"
   ]
  },
  {
   "cell_type": "markdown",
   "metadata": {},
   "source": [
    "## At fixed Rate"
   ]
  },
  {
   "cell_type": "code",
   "execution_count": 56,
   "metadata": {},
   "outputs": [
    {
     "data": {
      "text/plain": [
       "0.5833333333333334"
      ]
     },
     "execution_count": 56,
     "metadata": {},
     "output_type": "execute_result"
    }
   ],
   "source": [
    "Navg = 20\n",
    "n = 2400\n",
    "k = 1400\n",
    "L = 2.0\n",
    "γ₀ = 0.9\n",
    "lambda = [0.0, 1.0]\n",
    "rho = [0.0, 0.0, 0.5, 0.5]\n",
    "nedges = 2*n\n",
    "R = k/n"
   ]
  },
  {
   "cell_type": "code",
   "execution_count": 57,
   "metadata": {},
   "outputs": [],
   "source": [
    "D = zeros(Navg)\n",
    "for it in 1:Navg\n",
    "    y = rand(0:q-1, n)\n",
    "    fields = extfields(q,y,L)\n",
    "    \n",
    "    # Construct a factor graph by specifying lambda, rho\n",
    "    FG = ldpc_graph(q, n, k, nedges, lambda, rho, fields)\n",
    "    res = bp!(FG,algo,gamma=1-γ₀)\n",
    "    if res == :unconverged\n",
    "        error(\"Unconverged with n=$n, k=$(k)\")\n",
    "    else\n",
    "        y_hat = res\n",
    "    end\n",
    "    D[it] = hd(y,y_hat)/n\n",
    "end"
   ]
  },
  {
   "cell_type": "code",
   "execution_count": 58,
   "metadata": {},
   "outputs": [
    {
     "data": {
      "image/png": "[encoded data removed]",
      "text/plain": [
       "Figure(PyObject <Figure size 640x480 with 1 Axes>)"
      ]
     },
     "metadata": {},
     "output_type": "display_data"
    },
    {
     "name": "stdout",
     "output_type": "stream",
     "text": [
      "E[D] = 0.0001875\n"
     ]
    }
   ],
   "source": [
    "plot(D,\"o\")\n",
    "plt.:xlabel(\"Trials\")\n",
    "plt.:ylabel(\"Distortion\")\n",
    "hlines(mean(D),1, length(D), \"r\")\n",
    "println(\"E[D] = $(mean(D))\")"
   ]
  },
  {
   "cell_type": "markdown",
   "metadata": {},
   "source": [
    "Too small!"
   ]
  },
  {
   "cell_type": "markdown",
   "metadata": {},
   "source": [
    "## Try varying the rate"
   ]
  },
  {
   "cell_type": "code",
   "execution_count": 63,
   "metadata": {},
   "outputs": [
    {
     "name": "stdout",
     "output_type": "stream",
     "text": [
      "k ∈ [2940, 2268, 1848, 1560, 1350]\n",
      "n = 5040\n"
     ]
    }
   ],
   "source": [
    "n = 5040\n",
    "γ₀ = 0.9\n",
    "nedges = 2*n\n",
    "Npoints = 5\n",
    "Navg = 10\n",
    "Rho = [zeros(Npoints+4) for _ in 1:Npoints]\n",
    "K = zeros(Int,Npoints)\n",
    "for x in 1:Npoints\n",
    "    Rho[x][x+2:x+3] = [0.5 0.5]\n",
    "    K[x] = Int(round(n*(1/(x+2)+1/(x+3))))\n",
    "end\n",
    "R = K./n\n",
    "println(\"k ∈ $K\")\n",
    "println(\"n = $n\")"
   ]
  },
  {
   "cell_type": "code",
   "execution_count": 64,
   "metadata": {},
   "outputs": [
    {
     "name": "stdout",
     "output_type": "stream",
     "text": [
      "Finished k=2940\n",
      "Finished k=2268\n",
      "Finished k=1848\n",
      "Finished k=1560\n",
      "Finished k=1350\n"
     ]
    }
   ],
   "source": [
    "D = zeros(Npoints,Navg)\n",
    "for (i,k) in enumerate(K)\n",
    "    for it in 1:Navg\n",
    "        y = rand(0:q-1, n)\n",
    "        fields = extfields(q,y,L)\n",
    "        FG = ldpc_graph(q, n, k, nedges, lambda, Rho[i], fields)\n",
    "        res = bp!(FG,algo,gamma=1-γ₀)\n",
    "        if res == :unconverged\n",
    "            error(\"Unconverged with n=$n, k=$(k)\")\n",
    "        else\n",
    "            y_hat = res\n",
    "        end\n",
    "        D[i,it] = hd(y,y_hat)/n\n",
    "    end\n",
    "    println(\"Finished k=$k\")\n",
    "end"
   ]
  },
  {
   "cell_type": "code",
   "execution_count": 65,
   "metadata": {},
   "outputs": [
    {
     "data": {
      "image/png": "[encoded data removed]",
      "text/plain": [
       "Figure(PyObject <Figure size 640x480 with 1 Axes>)"
      ]
     },
     "metadata": {},
     "output_type": "display_data"
    },
    {
     "data": {
      "text/plain": [
       "PyObject Text(24.0, 0.5, 'D')"
      ]
     },
     "execution_count": 65,
     "metadata": {},
     "output_type": "execute_result"
    }
   ],
   "source": [
    "plot(R,mean(D,dims=2),\"o\")\n",
    "plt.:xlabel(\"R\")\n",
    "plt.:ylabel(\"D\")"
   ]
  },
  {
   "cell_type": "code",
   "execution_count": null,
   "metadata": {},
   "outputs": [],
   "source": []
  }
 ],
 "metadata": {
  "@webio": {
   "lastCommId": null,
   "lastKernelId": null
  },
  "celltoolbar": "Initialization Cell",
  "kernelspec": {
   "display_name": "Julia 1.0.2",
   "language": "julia",
   "name": "julia-1.0"
  },
  "language_info": {
   "file_extension": ".jl",
   "mimetype": "application/julia",
   "name": "julia",
   "version": "1.0.2"
  },
  "notify_time": "30",
  "varInspector": {
   "cols": {
    "lenName": 16,
    "lenType": 16,
    "lenVar": 40
   },
   "kernels_config": {
    "python": {
     "delete_cmd_postfix": "",
     "delete_cmd_prefix": "del ",
     "library": "var_list.py",
     "varRefreshCmd": "print(var_dic_list())"
    },
    "r": {
     "delete_cmd_postfix": ") ",
     "delete_cmd_prefix": "rm(",
     "library": "var_list.r",
     "varRefreshCmd": "cat(var_dic_list()) "
    }
   },
   "types_to_exclude": [
    "module",
    "function",
    "builtin_function_or_method",
    "instance",
    "_Feature"
   ],
   "window_display": false
  }
 },
 "nbformat": 4,
 "nbformat_minor": 2
}
