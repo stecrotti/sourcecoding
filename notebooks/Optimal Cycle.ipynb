{
 "cells": [
  {
   "cell_type": "code",
   "execution_count": 3,
   "metadata": {},
   "outputs": [
    {
     "name": "stderr",
     "output_type": "stream",
     "text": [
      "┌ Info: Precompiling BlossomV [6c721016-9dae-5d90-abf6-67daaccb2332]\n",
      "└ @ Base loading.jl:1278\n"
     ]
    }
   ],
   "source": [
    "using BlossomV, LinearAlgebra, SparseArrays"
   ]
  },
  {
   "cell_type": "code",
   "execution_count": 4,
   "metadata": {},
   "outputs": [
    {
     "data": {
      "text/plain": [
       "optimal_cycle (generic function with 1 method)"
      ]
     },
     "execution_count": 4,
     "metadata": {},
     "output_type": "execute_result"
    }
   ],
   "source": [
    "# Implements algorithm 1 in Improved Algorithms for Detecting Negative Cost Cycles in Undirected Graphs.\n",
    "# Xiaofeng Gu1, Kamesh Madduri, K. Subramani and Hong-Jian Lai\n",
    "\n",
    "function optimal_cycle(G)\n",
    "    G = sparse(G)\n",
    "    rows,weights  = rowvals(G), nonzeros(G)\n",
    "    ∂(i) = zip((@view rows[nzrange(G,i)]), (@view weights[nzrange(G,i)]))\n",
    "    n=size(G,1);\n",
    "    m=Int(length(rows)/2)\n",
    "    E=Matching(Float64, 2n+2m)\n",
    "    k = 2n+1\n",
    "    edge(i,j,w) = add_edge(E, i-1, j-1, w)\n",
    "    D=Dict{Int, Tuple{Int,Int}}()\n",
    "    for i=1:n\n",
    "        edge(i, i+n, 0)\n",
    "        for (j,w) in ∂(i)\n",
    "            if i < j\n",
    "                edge(i,     k,   w)\n",
    "                edge(i + n, k,   w)\n",
    "                edge(j,     k+1, w)\n",
    "                edge(j + n, k+1, w)\n",
    "                edge(k,     k+1, 0)\n",
    "                D[k]=(i,j)\n",
    "                k+=2\n",
    "            end\n",
    "        end\n",
    "    end\n",
    "    @assert k == 2n+2m+1\n",
    "\n",
    "    solve(E)\n",
    "\n",
    "    sol=Tuple{Int,Int}[]\n",
    "    for k=2n:2:2n+2m-1\n",
    "        if get_match(E, k) != k + 1\n",
    "            push!(sol, D[k+1])\n",
    "        end\n",
    "    end\n",
    "\n",
    "    sol\n",
    "end"
   ]
  },
  {
   "cell_type": "code",
   "execution_count": 67,
   "metadata": {},
   "outputs": [],
   "source": [
    "#edge list, indices start at 0\n",
    "\n",
    "G = [0  1  1  0  0 0;\n",
    "     1  0 -3 -1  0 0;\n",
    "     1 -3  0  0 -2 0;\n",
    "     0 -1  0  0  0 0;\n",
    "     0  0 -2  0  0 1;\n",
    "     0  0  0  0  1 0]\n",
    "\n",
    "@assert(issymmetric(G))"
   ]
  },
  {
   "cell_type": "code",
   "execution_count": 185,
   "metadata": {},
   "outputs": [
    {
     "data": {
      "text/plain": [
       "8-element Array{Tuple{Int64,Int64},1}:\n",
       " (1, 13)\n",
       " (1, 14)\n",
       " (2, 7)\n",
       " (2, 11)\n",
       " (3, 7)\n",
       " (3, 11)\n",
       " (4, 13)\n",
       " (4, 14)"
      ]
     },
     "execution_count": 185,
     "metadata": {},
     "output_type": "execute_result"
    }
   ],
   "source": [
    "optimal_cycle(G)"
   ]
  },
  {
   "cell_type": "markdown",
   "metadata": {},
   "source": [
    "# Use it on a lossy compression instance"
   ]
  },
  {
   "cell_type": "code",
   "execution_count": 269,
   "metadata": {},
   "outputs": [],
   "source": [
    "include(\"../code/headers.jl\");"
   ]
  },
  {
   "cell_type": "code",
   "execution_count": 270,
   "metadata": {},
   "outputs": [
    {
     "name": "stdout",
     "output_type": "stream",
     "text": [
      "Distortion for the default solution (all zeros): 0.6\n"
     ]
    }
   ],
   "source": [
    "randseed = 1234\n",
    "n = 10\n",
    "m = 4\n",
    "lm = LossyModel(2,n,m, randseed=randseed)\n",
    "d = distortion(lm)\n",
    "println(\"Distortion for the default solution (all zeros): \", d)"
   ]
  },
  {
   "cell_type": "markdown",
   "metadata": {},
   "source": [
    "Compute optimal cycle"
   ]
  },
  {
   "cell_type": "code",
   "execution_count": 272,
   "metadata": {},
   "outputs": [],
   "source": [
    "H = weighted_full_adjmat(lm)\n",
    "op_ = optimal_cycle(H);"
   ]
  },
  {
   "cell_type": "code",
   "execution_count": 273,
   "metadata": {},
   "outputs": [
    {
     "data": {
      "text/plain": [
       "variables_from_cycle (generic function with 2 methods)"
      ]
     },
     "execution_count": 273,
     "metadata": {},
     "output_type": "execute_result"
    }
   ],
   "source": [
    "# Wizardry to go from edge numbering in the graph used to find cycles (1:m+n) \n",
    "#  to actual variable (1:n) and factor (1:m) indices\n",
    "function variables_from_cycle(cy::Array{Tuple{Int64,Int64},1}, m::Int)\n",
    "    cy_ = Array{Tuple{Int64,Int64},1}(undef, length(cy))\n",
    "    for i in eachindex(cy)\n",
    "        edge_as_vec = sort(collect(cy[i]))\n",
    "        cy_[i] = (edge_as_vec[1], edge_as_vec[2]-m)\n",
    "    end\n",
    "    cy_    \n",
    "end"
   ]
  },
  {
   "cell_type": "code",
   "execution_count": 274,
   "metadata": {
    "scrolled": true
   },
   "outputs": [
    {
     "data": {
      "text/plain": [
       "8-element Array{Tuple{Int64,Int64},1}:\n",
       " (1, 9)\n",
       " (1, 10)\n",
       " (2, 3)\n",
       " (2, 7)\n",
       " (3, 3)\n",
       " (3, 7)\n",
       " (4, 9)\n",
       " (4, 10)"
      ]
     },
     "execution_count": 274,
     "metadata": {},
     "output_type": "execute_result"
    }
   ],
   "source": [
    "op = variables_from_cycle(op_, m)"
   ]
  },
  {
   "cell_type": "markdown",
   "metadata": {},
   "source": [
    "Visualize the cycle(s)"
   ]
  },
  {
   "cell_type": "code",
   "execution_count": 275,
   "metadata": {},
   "outputs": [
    {
     "data": {
      "image/png": "[encoded data removed]"
     },
     "execution_count": 275,
     "metadata": {},
     "output_type": "execute_result"
    }
   ],
   "source": [
    "plot(lm.fg, highlighted_edges=op, randseed=randseed)"
   ]
  },
  {
   "cell_type": "markdown",
   "metadata": {},
   "source": [
    "Flip the corresponding variables (__Warning__: do not run this cell twice otherwise the flip will cancel)"
   ]
  },
  {
   "cell_type": "code",
   "execution_count": 276,
   "metadata": {},
   "outputs": [
    {
     "data": {
      "text/plain": [
       "4-element view(::Array{Int64,1}, [9, 10, 3, 7]) with eltype Int64:\n",
       " 1\n",
       " 1\n",
       " 1\n",
       " 1"
      ]
     },
     "execution_count": 276,
     "metadata": {},
     "output_type": "execute_result"
    }
   ],
   "source": [
    "# Retrieve indices of variables to flip\n",
    "to_flip = unique!([tup[2] for tup in op])\n",
    "# Flip them in `lm.x` which is the internal state where the current solution guess is stored\n",
    "lm.x[to_flip] .⊻= 1"
   ]
  },
  {
   "cell_type": "markdown",
   "metadata": {},
   "source": [
    "Compute the distortion again"
   ]
  },
  {
   "cell_type": "code",
   "execution_count": 277,
   "metadata": {},
   "outputs": [
    {
     "name": "stdout",
     "output_type": "stream",
     "text": [
      "Distortion after flipping: 0.2\n"
     ]
    }
   ],
   "source": [
    "d2 = distortion(lm)\n",
    "println(\"Distortion after flipping: \", d2)"
   ]
  },
  {
   "cell_type": "markdown",
   "metadata": {},
   "source": [
    "Distortion decreased!\n",
    "\n",
    "Try improving again"
   ]
  },
  {
   "cell_type": "code",
   "execution_count": 278,
   "metadata": {},
   "outputs": [
    {
     "data": {
      "image/png": "[encoded data removed]"
     },
     "execution_count": 278,
     "metadata": {},
     "output_type": "execute_result"
    }
   ],
   "source": [
    "H = weighted_full_adjmat(lm)\n",
    "op_ = optimal_cycle(H)\n",
    "op = variables_from_cycle(op_, m)\n",
    "plot(lm.fg, highlighted_edges=op, randseed=randseed)"
   ]
  },
  {
   "cell_type": "code",
   "execution_count": 279,
   "metadata": {},
   "outputs": [
    {
     "name": "stdout",
     "output_type": "stream",
     "text": [
      "Distortion after flipping: 0.1\n"
     ]
    }
   ],
   "source": [
    "to_flip = unique!([tup[2] for tup in op])\n",
    "lm.x[to_flip] .⊻= 1\n",
    "d3 = distortion(lm)\n",
    "println(\"Distortion after flipping: \", d3)"
   ]
  },
  {
   "cell_type": "markdown",
   "metadata": {},
   "source": [
    "Decreased again!\n",
    "\n",
    "Try one last time"
   ]
  },
  {
   "cell_type": "code",
   "execution_count": 280,
   "metadata": {},
   "outputs": [
    {
     "data": {
      "text/plain": [
       "Tuple{Int64,Int64}[]"
      ]
     },
     "execution_count": 280,
     "metadata": {},
     "output_type": "execute_result"
    }
   ],
   "source": [
    "H = weighted_full_adjmat(lm)\n",
    "op_ = optimal_cycle(H)"
   ]
  },
  {
   "cell_type": "markdown",
   "metadata": {},
   "source": [
    "Solution is already optimal. Print it and compare it with the one obtained by exhaustive enumeration"
   ]
  },
  {
   "cell_type": "code",
   "execution_count": 281,
   "metadata": {},
   "outputs": [
    {
     "data": {
      "text/plain": [
       "10×2 Array{Int64,2}:\n",
       " 0  0\n",
       " 1  1\n",
       " 1  1\n",
       " 0  0\n",
       " 1  1\n",
       " 0  0\n",
       " 1  1\n",
       " 1  1\n",
       " 1  1\n",
       " 1  1"
      ]
     },
     "execution_count": 281,
     "metadata": {},
     "output_type": "execute_result"
    }
   ],
   "source": [
    "x_cycles = lm.x\n",
    "\n",
    "lm2 = deepcopy(lm)\n",
    "solve!(lm2, ExhaustEnum())\n",
    "x_exact = lm2.x\n",
    "[x_cycles x_exact]"
   ]
  },
  {
   "cell_type": "markdown",
   "metadata": {},
   "source": [
    "Yes!"
   ]
  },
  {
   "cell_type": "markdown",
   "metadata": {},
   "source": [
    "# On a larger instance"
   ]
  },
  {
   "cell_type": "code",
   "execution_count": 282,
   "metadata": {},
   "outputs": [
    {
     "data": {
      "text/plain": [
       "one_loop_flip (generic function with 1 method)"
      ]
     },
     "execution_count": 282,
     "metadata": {},
     "output_type": "execute_result"
    }
   ],
   "source": [
    "function one_loop_flip(lm::LossyModel)\n",
    "    H = weighted_full_adjmat(lm)\n",
    "    op = variables_from_cycle(optimal_cycle(H), lm.fg.m)\n",
    "    to_flip = unique!([tup[2] for tup in op])\n",
    "    lm.x[to_flip] .⊻= 1\n",
    "    return op, to_flip, distortion(lm)\n",
    "end"
   ]
  },
  {
   "cell_type": "code",
   "execution_count": 293,
   "metadata": {},
   "outputs": [
    {
     "data": {
      "text/plain": [
       "Lossy compression model:\n",
       " - Factor Graph with n=100 variables and m=50 factors defined on GF(2)\n",
       " - Inverse temperatures β₁=Inf for checks and β₂=1.0 for overlap\n"
      ]
     },
     "execution_count": 293,
     "metadata": {},
     "output_type": "execute_result"
    }
   ],
   "source": [
    "n = 100\n",
    "m = 50\n",
    "lm = LossyModel(2,n,m,randseed=randseed)\n",
    "lm_copy = deepcopy(lm)"
   ]
  },
  {
   "cell_type": "code",
   "execution_count": 294,
   "metadata": {
    "scrolled": true
   },
   "outputs": [
    {
     "name": "stdout",
     "output_type": "stream",
     "text": [
      "Iter 1. Distortion 0.21\n",
      "Iter 2. Distortion 0.13\n",
      "Iter 3. Distortion 0.13\n",
      "Finished\n"
     ]
    },
    {
     "data": {
      "text/plain": [
       "0.13"
      ]
     },
     "execution_count": 294,
     "metadata": {},
     "output_type": "execute_result"
    }
   ],
   "source": [
    "dist = Float64[]\n",
    "finished = false\n",
    "while !finished\n",
    "    op,to_flip, d = one_loop_flip(lm)\n",
    "    push!(dist, d)\n",
    "    println(\"Iter \", length(dist), \". Distortion \", round(d, digits=4))\n",
    "    finished = isempty(op)\n",
    "end\n",
    "println(\"Finished\")\n",
    "dist_cycles = distortion(lm)"
   ]
  },
  {
   "cell_type": "markdown",
   "metadata": {},
   "source": [
    "Compare with MS"
   ]
  },
  {
   "cell_type": "code",
   "execution_count": 295,
   "metadata": {},
   "outputs": [
    {
     "data": {
      "text/plain": [
       "0.13"
      ]
     },
     "execution_count": 295,
     "metadata": {},
     "output_type": "execute_result"
    }
   ],
   "source": [
    "ms = MS(maxiter=200)\n",
    "res = solve!(lm_copy, ms)\n",
    "dist_ms = distortion(lm_copy)"
   ]
  },
  {
   "cell_type": "code",
   "execution_count": null,
   "metadata": {},
   "outputs": [],
   "source": []
  }
 ],
 "metadata": {
  "kernelspec": {
   "display_name": "Julia 1.5.3",
   "language": "julia",
   "name": "julia-1.5"
  },
  "language_info": {
   "file_extension": ".jl",
   "mimetype": "application/julia",
   "name": "julia",
   "version": "1.5.3"
  }
 },
 "nbformat": 4,
 "nbformat_minor": 4
}
