{
 "cells": [
  {
   "cell_type": "code",
   "execution_count": 213,
   "metadata": {},
   "outputs": [
    {
     "data": {
      "text/plain": [
       "readseeds (generic function with 1 method)"
      ]
     },
     "execution_count": 213,
     "metadata": {},
     "output_type": "execute_result"
    }
   ],
   "source": [
    "using SparseArrays, LinearAlgebra\n",
    "\n",
    "function readgraph(graph)\n",
    "    I=Int[]\n",
    "    J=Int[]\n",
    "    open(graph) do f\n",
    "        linecounter = 0\n",
    "        for l in eachline(f)\n",
    "            v = split(l)\n",
    "            if v[1] == \"D\"\n",
    "                i,j = extrema((parse(Int, v[2])+1, parse(Int, v[3])+1))\n",
    "                push!(I, i)\n",
    "                push!(J, j)\n",
    "            end\n",
    "        end\n",
    "    end\n",
    "\n",
    "    N = maximum(I)\n",
    "    H = sparse(J.-N,I,fill(1,length(I))) .÷ 2\n",
    "end\n",
    "\n",
    "function readseeds(seeds, H)\n",
    "    M, N = size(H)\n",
    "    @show size(H)\n",
    "    v = Int[]\n",
    "    open(seeds) do f\n",
    "        for l in eachline(f)\n",
    "            if l[1] != '#'\n",
    "                v = parse.(Int, split(l)) .- N .+ 1\n",
    "            end\n",
    "        end\n",
    "        println(\"$(length(v)) removed factors $v\")\n",
    "        return H[setdiff(1:size(H,1), v), :]\n",
    "    end\n",
    "end"
   ]
  },
  {
   "cell_type": "code",
   "execution_count": 287,
   "metadata": {},
   "outputs": [
    {
     "data": {
      "text/plain": [
       "leaf_removal (generic function with 1 method)"
      ]
     },
     "execution_count": 287,
     "metadata": {},
     "output_type": "execute_result"
    }
   ],
   "source": [
    "function leaf_removal(H::SparseMatrixCSC)\n",
    "    M, N = size(H)\n",
    "    Ht = sparse(transpose(H)) # for faster access by row\n",
    "    degs = vec(sum(H .!= 0, dims=1))\n",
    "    facts = fill(true, M)\n",
    "    rowperm = Int[]\n",
    "    Q = findall(degs .== 1)\n",
    "    indep = findall(degs .== 0)\n",
    "    dep = Int[]\n",
    "    while !isempty(Q)\n",
    "        i = popfirst!(Q)\n",
    "        degs[i] == 0 && continue\n",
    "        push!(dep, i)\n",
    "        ∂i = rowvals(H)[nzrange(H,i)]\n",
    "        ∂i = ∂i[facts[∂i]]\n",
    "        @assert length(∂i) == 1 # should be a residual leaf\n",
    "        a = ∂i[1]\n",
    "        facts[a] = false\n",
    "        push!(rowperm, a) \n",
    "        for j in rowvals(Ht)[nzrange(Ht,a)]\n",
    "            degs[j] -= 1\n",
    "            if j != i\n",
    "                if degs[j] == 0\n",
    "                    push!(indep, j)\n",
    "                elseif degs[j] == 1\n",
    "                    push!(Q, j)\n",
    "                end\n",
    "            end\n",
    "        end\n",
    "    end\n",
    "    all(degs .==  0) || @warn \"non-empty core\"\n",
    "    rowperm, [dep; indep]\n",
    "end"
   ]
  },
  {
   "cell_type": "code",
   "execution_count": 328,
   "metadata": {},
   "outputs": [
    {
     "data": {
      "text/plain": [
       "([6226, 12140, 9470, 8649, 6874, 7504, 6361, 9440, 1080, 5996  …  6783, 5508, 10322, 10387, 7461, 9724, 9686, 12924, 1855, 1943], [10, 101, 207, 256, 282, 304, 320, 337, 357, 449  …  10977, 13169, 675, 13612, 11768, 13904, 14969, 15333, 11772, 12451])"
      ]
     },
     "execution_count": 328,
     "metadata": {},
     "output_type": "execute_result"
    }
   ],
   "source": [
    "rowperm, colperm = leaf_removal(H)"
   ]
  },
  {
   "cell_type": "code",
   "execution_count": 329,
   "metadata": {},
   "outputs": [
    {
     "data": {
      "text/plain": [
       "13532×17004 SparseMatrixCSC{Int64,Int64} with 40595 stored entries:\n",
       "⠙⢿⣾⣿⣿⣿⣷⣿⣿⣾⣾⣾⣿⣶⡾⣿⣾⣞⢿⣿⣳⣺⣽⣯⣟⣵⣾⡳⢵⣿⣯⣾⣿⣺⡛⣛⡟⣿⡮⢲\n",
       "⠀⠀⠙⢿⣿⣿⡿⣿⣿⣿⣿⣿⡿⣿⣽⣿⣯⣿⣿⡹⣿⡿⣻⣿⣾⣗⣿⣻⣿⠿⣿⣻⣿⡿⣿⣿⣲⡦⡏⣿\n",
       "⠀⠀⠀⠀⠙⢿⣿⣿⣿⣿⣿⣿⣯⢿⣿⡽⣿⣿⣿⣿⣿⣿⣯⣯⣷⣻⣷⣿⢗⣻⢾⣽⣟⣿⣿⣿⣻⣾⣷⠧\n",
       "⠀⠀⠀⠀⠀⠀⠙⢿⣿⣿⢿⣽⣿⣿⣿⣿⣿⣿⣿⣿⣿⣺⣷⣿⣿⣿⣿⡿⣿⣿⣾⣻⣿⣿⣾⣟⣿⢶⣿⢇\n",
       "⠀⠀⠀⠀⠀⠀⠀⠀⠙⢯⡻⣿⣿⣿⣿⣿⣿⣿⣿⣾⣿⡿⣿⣿⣿⣽⡟⣿⣽⣿⣜⢻⣿⣿⣷⣽⡿⣿⢾⣻\n",
       "⠀⠀⠀⠀⠀⠀⠀⠀⠀⠀⠙⢮⡛⢿⣿⣿⣿⣿⣾⣿⣿⣿⣯⣿⣿⣻⣿⣿⣷⣿⢿⣽⣿⣻⣿⣿⣷⣿⣿⣗\n",
       "⠀⠀⠀⠀⠀⠀⠀⠀⠀⠀⠀⠀⠙⢦⡙⠿⣷⣿⣿⡿⣿⣿⣻⣯⣿⣯⡿⣷⣿⡿⡿⡟⣿⣿⣯⣿⣯⣿⣾⡟\n",
       "⠀⠀⠀⠀⠀⠀⠀⠀⠀⠀⠀⠀⠀⠀⠙⢦⡈⠻⣿⣿⣾⣿⣿⣾⣾⣿⣿⠿⣿⣿⣿⡗⣿⣟⣿⣿⣻⡳⣟⠍\n",
       "⠀⠀⠀⠀⠀⠀⠀⠀⠀⠀⠀⠀⠀⠀⠀⠀⠙⢦⡀⠙⢿⣿⣿⣿⣿⣿⣿⣿⣷⣿⣿⣷⢹⣿⣻⣿⣿⡿⣟⣿\n",
       "⠀⠀⠀⠀⠀⠀⠀⠀⠀⠀⠀⠀⠀⠀⠀⠀⠀⠀⠙⢦⡀⠙⠻⣿⣷⣿⣟⣿⣿⣯⣿⡟⠸⣿⣿⣿⡿⣿⣻⢣\n",
       "⠀⠀⠀⠀⠀⠀⠀⠀⠀⠀⠀⠀⠀⠀⠀⠀⠀⠀⠀⠀⠙⢦⡀⠈⠻⣿⣷⣿⣿⣷⣿⣿⠀⢿⣿⣿⣿⣿⣿⣽\n",
       "⠀⠀⠀⠀⠀⠀⠀⠀⠀⠀⠀⠀⠀⠀⠀⠀⠀⠀⠀⠀⠀⠀⠙⢦⡀⠈⠻⣿⣻⣿⣾⣟⠀⠘⣿⣿⣿⣮⣾⢾\n",
       "⠀⠀⠀⠀⠀⠀⠀⠀⠀⠀⠀⠀⠀⠀⠀⠀⠀⠀⠀⠀⠀⠀⠀⠀⠙⢦⡀⠈⠻⣷⣟⣾⠀⠀⠹⣿⣿⣿⣿⡯\n",
       "⠀⠀⠀⠀⠀⠀⠀⠀⠀⠀⠀⠀⠀⠀⠀⠀⠀⠀⠀⠀⠀⠀⠀⠀⠀⠀⠙⢦⡀⠙⣿⣦⠀⠀⠀⠹⣿⣿⣿⣟\n",
       "⠀⠀⠀⠀⠀⠀⠀⠀⠀⠀⠀⠀⠀⠀⠀⠀⠀⠀⠀⠀⠀⠀⠀⠀⠀⠀⠀⠀⠙⢦⡈⣿⠀⠀⠀⠀⠘⢿⣿⡿\n",
       "⠀⠀⠀⠀⠀⠀⠀⠀⠀⠀⠀⠀⠀⠀⠀⠀⠀⠀⠀⠀⠀⠀⠀⠀⠀⠀⠀⠀⠀⠀⠙⠾⠀⠀⠀⠀⠀⠀⠙⠿"
      ]
     },
     "execution_count": 329,
     "metadata": {},
     "output_type": "execute_result"
    }
   ],
   "source": [
    "H1=H[rowperm, colperm]"
   ]
  },
  {
   "cell_type": "code",
   "execution_count": 330,
   "metadata": {},
   "outputs": [
    {
     "data": {
      "text/plain": [
       "230098128"
      ]
     },
     "execution_count": 330,
     "metadata": {},
     "output_type": "execute_result"
    }
   ],
   "source": [
    "length(H1)"
   ]
  },
  {
   "cell_type": "code",
   "execution_count": 314,
   "metadata": {},
   "outputs": [
    {
     "data": {
      "text/plain": [
       "13532×17004 SparseMatrixCSC{Int64,Int64} with 450877 stored entries:\n",
       "⠙⢦⡀⠀⠀⠀⠀⠀⠀⠀⠀⠀⠀⠀⠀⠀⠀⠀⠀⠀⠀⠀⠀⠀⠀⠀⠀⠀⠀⠀⠀⢸⣿⣿⣿⣿⣿⣿⣿⣿\n",
       "⠀⠀⠙⢦⡀⠀⠀⠀⠀⠀⠀⠀⠀⠀⠀⠀⠀⠀⠀⠀⠀⠀⠀⠀⠀⠀⠀⠀⠀⠀⠀⢸⣿⣿⣿⣿⣿⣿⣿⣿\n",
       "⠀⠀⠀⠀⠙⢦⡀⠀⠀⠀⠀⠀⠀⠀⠀⠀⠀⠀⠀⠀⠀⠀⠀⠀⠀⠀⠀⠀⠀⠀⠀⢸⣿⣿⣿⣿⣿⣿⣿⣿\n",
       "⠀⠀⠀⠀⠀⠀⠙⢦⡀⠀⠀⠀⠀⠀⠀⠀⠀⠀⠀⠀⠀⠀⠀⠀⠀⠀⠀⠀⠀⠀⠀⢸⣿⣿⣿⣿⣿⣿⣿⣿\n",
       "⠀⠀⠀⠀⠀⠀⠀⠀⠙⢦⡀⠀⠀⠀⠀⠀⠀⠀⠀⠀⠀⠀⠀⠀⠀⠀⠀⠀⠀⠀⠀⢸⣿⣿⣿⣿⣿⣿⣿⣿\n",
       "⠀⠀⠀⠀⠀⠀⠀⠀⠀⠀⠙⢦⡀⠀⠀⠀⠀⠀⠀⠀⠀⠀⠀⠀⠀⠀⠀⠀⠀⠀⠀⠸⣿⣿⣿⣿⣿⣿⣿⣿\n",
       "⠀⠀⠀⠀⠀⠀⠀⠀⠀⠀⠀⠀⠙⢦⡀⠀⠀⠀⠀⠀⠀⠀⠀⠀⠀⠀⠀⠀⠀⠀⠀⠀⣿⣿⣿⣿⣿⣿⣿⣿\n",
       "⠀⠀⠀⠀⠀⠀⠀⠀⠀⠀⠀⠀⠀⠀⠙⢦⡀⠀⠀⠀⠀⠀⠀⠀⠀⠀⠀⠀⠀⠀⠀⠀⣿⣿⣿⣿⣿⣿⣿⣿\n",
       "⠀⠀⠀⠀⠀⠀⠀⠀⠀⠀⠀⠀⠀⠀⠀⠀⠙⢦⡀⠀⠀⠀⠀⠀⠀⠀⠀⠀⠀⠀⠀⠀⢹⣿⣿⣿⣿⣿⣿⣿\n",
       "⠀⠀⠀⠀⠀⠀⠀⠀⠀⠀⠀⠀⠀⠀⠀⠀⠀⠀⠙⢦⡀⠀⠀⠀⠀⠀⠀⠀⠀⠀⠀⠀⠸⣿⣿⣿⣿⣿⣿⣿\n",
       "⠀⠀⠀⠀⠀⠀⠀⠀⠀⠀⠀⠀⠀⠀⠀⠀⠀⠀⠀⠀⠙⢦⡀⠀⠀⠀⠀⠀⠀⠀⠀⠀⠀⢿⣿⣿⣿⣿⣿⣿\n",
       "⠀⠀⠀⠀⠀⠀⠀⠀⠀⠀⠀⠀⠀⠀⠀⠀⠀⠀⠀⠀⠀⠀⠙⢦⡀⠀⠀⠀⠀⠀⠀⠀⠀⠘⣿⣿⣿⣿⣿⣿\n",
       "⠀⠀⠀⠀⠀⠀⠀⠀⠀⠀⠀⠀⠀⠀⠀⠀⠀⠀⠀⠀⠀⠀⠀⠀⠙⢦⡀⠀⠀⠀⠀⠀⠀⠀⠹⣿⣿⣿⣿⣿\n",
       "⠀⠀⠀⠀⠀⠀⠀⠀⠀⠀⠀⠀⠀⠀⠀⠀⠀⠀⠀⠀⠀⠀⠀⠀⠀⠀⠙⢦⡀⠀⠀⠀⠀⠀⠀⠹⣿⣿⣿⣿\n",
       "⠀⠀⠀⠀⠀⠀⠀⠀⠀⠀⠀⠀⠀⠀⠀⠀⠀⠀⠀⠀⠀⠀⠀⠀⠀⠀⠀⠀⠙⢦⡀⠀⠀⠀⠀⠀⠘⢿⣿⣿\n",
       "⠀⠀⠀⠀⠀⠀⠀⠀⠀⠀⠀⠀⠀⠀⠀⠀⠀⠀⠀⠀⠀⠀⠀⠀⠀⠀⠀⠀⠀⠀⠙⠦⠀⠀⠀⠀⠀⠀⠙⠿"
      ]
     },
     "execution_count": 314,
     "metadata": {},
     "output_type": "execute_result"
    }
   ],
   "source": [
    "ut2diagGF2!(H1)"
   ]
  },
  {
   "cell_type": "code",
   "execution_count": 312,
   "metadata": {},
   "outputs": [
    {
     "data": {
      "text/plain": [
       "ut2diagGF2! (generic function with 1 method)"
      ]
     },
     "execution_count": 312,
     "metadata": {},
     "output_type": "execute_result"
    }
   ],
   "source": [
    "isuppertriang(H::SparseMatrixCSC) = all(rowvals(H)[last(nzrange(H,i))] == i for i = 1:size(H,1))\n",
    "\n",
    "function ut2diagGF2!(T::SparseMatrixCSC)\n",
    "    (m,n) = size(T)\n",
    "    # Check that the left part of T is unit upper triangular\n",
    "    @assert isuppertriang(T)\n",
    "    # Loop over diagonal elements\n",
    "    for c in m:-1:2\n",
    "        # Find non-zero elements above T[c,c] and perform row operations to \n",
    "        #  cancel them out\n",
    "        for (j,v) in @views zip(rowvals(T[:,c]),nonzeros(T[:,c]))\n",
    "            if v != 0 && j < c\n",
    "                for k in rowvals(T[c,c:end]).+c.-1\n",
    "                    T[j,k] ⊻= T[c,k]\n",
    "                end\n",
    "            end\n",
    "        end\n",
    "    end\n",
    "    dropzeros!(T)\n",
    "end"
   ]
  },
  {
   "cell_type": "code",
   "execution_count": 132,
   "metadata": {
    "scrolled": true
   },
   "outputs": [
    {
     "data": {
      "text/plain": [
       "findbasis (generic function with 1 method)"
      ]
     },
     "execution_count": 132,
     "metadata": {},
     "output_type": "execute_result"
    }
   ],
   "source": [
    "function findbasis(H)\n",
    "    rowperm, colperm = leaf_removal(H)\n",
    "    Hnew = H[rowperm, colperm]\n",
    "    ut2diagGF2!(Hnew)\n",
    "    B = [Hnew[:, size(Hnew, 1)+1:end]; I]\n",
    "    indep = colperm[size(H,1)+1:end]\n",
    "    B[invperm(colperm),:], indep\n",
    "end "
   ]
  },
  {
   "cell_type": "code",
   "execution_count": 364,
   "metadata": {},
   "outputs": [
    {
     "name": "stdout",
     "output_type": "stream",
     "text": [
      "size(H) = (13670, 17004)\n",
      "138 removed factors [37, 135, 155, 252, 576, 612, 835, 1020, 1070, 1117, 1230, 1581, 1608, 1761, 1962, 2181, 2185, 2383, 2416, 2503, 2594, 2722, 2743, 2951, 3023, 3243, 3244, 3327, 3350, 3361, 3364, 3442, 3504, 3548, 3707, 3710, 3784, 4017, 4055, 4133, 4162, 4205, 4284, 4314, 4328, 4511, 4544, 4650, 4706, 4744, 5012, 5068, 5170, 5238, 5315, 5559, 5777, 5789, 5874, 5901, 6049, 6086, 6251, 6334, 6342, 6488, 6509, 6586, 6635, 6710, 6733, 6802, 6858, 6918, 7100, 7199, 7276, 7280, 7311, 7579, 7813, 8054, 8157, 8478, 8643, 8695, 8753, 9010, 9265, 9356, 9489, 9569, 9709, 9815, 9874, 9924, 9936, 9962, 10109, 10210, 10302, 10312, 10551, 10686, 10843, 10921, 11042, 11063, 11106, 11195, 11210, 11273, 11316, 11323, 11357, 11408, 11470, 11585, 11682, 11838, 11922, 12029, 12243, 12272, 12282, 12312, 12521, 12620, 12680, 12822, 12844, 13039, 13198, 13358, 13359, 13467, 13599, 13663]\n"
     ]
    },
    {
     "data": {
      "text/plain": [
       "0.20418725005880967"
      ]
     },
     "execution_count": 364,
     "metadata": {},
     "output_type": "execute_result"
    }
   ],
   "source": [
    "H = readgraph(\"/home/ab/src/spread/graph.txt\")\n",
    "H = readseeds(\"/home/ab/src/spread/seeds.txt\", H)\n",
    "B, indep = findbasis(H);\n",
    "M,N = size(H)\n",
    "α=1-M/N"
   ]
  },
  {
   "cell_type": "code",
   "execution_count": 361,
   "metadata": {},
   "outputs": [],
   "source": [
    "using JLD\n",
    "save(\"/home/ab/src/sourcecoding/matrix-stefano2.jld\", \"H\", H)"
   ]
  },
  {
   "cell_type": "code",
   "execution_count": 11,
   "metadata": {},
   "outputs": [],
   "source": [
    "include(\"/home/ab/src/sourcecoding/code/headers.jl\")"
   ]
  },
  {
   "cell_type": "code",
   "execution_count": 95,
   "metadata": {
    "jupyter": {
     "source_hidden": true
    }
   },
   "outputs": [],
   "source": []
  },
  {
   "cell_type": "code",
   "execution_count": 51,
   "metadata": {},
   "outputs": [
    {
     "name": "stdout",
     "output_type": "stream",
     "text": [
      "1 - M / N = 0.24002849002849003\n"
     ]
    },
    {
     "data": {
      "text/plain": [
       "false"
      ]
     },
     "execution_count": 51,
     "metadata": {},
     "output_type": "execute_result"
    }
   ],
   "source": [
    "ms = MS(maxiter=10000, convergence=:decvars, Tmax=1, gamma=1e-3, sigma=1e-8)\n",
    "M,N = size(H)\n",
    "@show 1-M/N\n",
    "fg = FactorGraphGF2(H)\n",
    "ProgressMeter.ijulia_behavior(:clear)"
   ]
  },
  {
   "cell_type": "code",
   "execution_count": 358,
   "metadata": {},
   "outputs": [
    {
     "data": {
      "text/plain": [
       "iteration! (generic function with 1 method)"
      ]
     },
     "execution_count": 358,
     "metadata": {},
     "output_type": "execute_result"
    }
   ],
   "source": [
    "using SparseArrays, Random\n",
    "\n",
    "struct MaxSum{V,F}\n",
    "    H :: SparseMatrixCSC{V,Int}\n",
    "    M :: SparseMatrixCSC{F,Int}\n",
    "    mes :: Vector{F} \n",
    "    belief :: Vector{F}\n",
    "    efield :: Vector{F}\n",
    "end\n",
    "\n",
    "function maxsum(H,efield)\n",
    "    H = sparse(transpose(H))\n",
    "    mes = zeros(eltype(efield), length(H.nzval))\n",
    "    #we alias structure from H\n",
    "    M = SparseMatrixCSC(size(H)...,H.colptr,H.rowval,mes)\n",
    "    MaxSum(H, M, mes, copy(efield), copy(efield))\n",
    "end\n",
    "\n",
    "function update!(ms::MaxSum, f)\n",
    "    maxchange = zero(eltype(ms.belief))\n",
    "    fmin, fmin2, imin = Inf, Inf, 1\n",
    "    s = 1.0\n",
    "    # Loop over neighbors of `f`, computing:\n",
    "    # - prod of signs `s`\n",
    "    # - first min (and index) and second min of abs values of messages\n",
    "    ∂(f) = nzrange(ms.M,f)\n",
    "    for k in ∂(f)\n",
    "        mo, i = ms.mes[k], ms.M.rowval[k]\n",
    "        # subtract out message from belief\n",
    "        mi = (ms.belief[i] -= mo)\n",
    "        s *= sign(mi)\n",
    "        am = abs(mi)\n",
    "        if fmin > am\n",
    "            fmin, fmin2, imin = am, fmin, i\n",
    "        elseif fmin2 > am\n",
    "            fmin2 = am\n",
    "        end \n",
    "    end\n",
    "    for k in ∂(f)\n",
    "        mo, i = ms.mes[k], ms.M.rowval[k]\n",
    "        # update message\n",
    "        mnew = (i == imin ? fmin2 : fmin) * s * sign(ms.belief[i])\n",
    "        maxchange = max(maxchange, abs(mnew - mo))\n",
    "        ms.mes[k] = mnew\n",
    "        # update belief after updating the message\n",
    "        ms.belief[i] += mnew\n",
    "    end \n",
    "    maxchange\n",
    "end\n",
    "\n",
    "\n",
    "function iteration!(ms::MaxSum; maxiter = 1000, tol=1e-3, γ=0.0, callback=(x...)->nothing)\n",
    "    perm = collect(1:M)\n",
    "    @inbounds for t = 1:maxiter        \n",
    "        ms.belief .= ms.efield .+ vec(sum(ms.M, dims=2))\n",
    "        maxchange = maximum(update!.(tuple(ms), shuffle!(perm)))\n",
    "        ms.efield .+= γ.*ms.belief\n",
    "        if maxchange < tol\n",
    "            break\n",
    "        end\n",
    "        callback(t, ms)\n",
    "    end\n",
    "end                 \n"
   ]
  },
  {
   "cell_type": "code",
   "execution_count": 365,
   "metadata": {},
   "outputs": [
    {
     "name": "stdout",
     "output_type": "stream",
     "text": [
      "d = 0.26323218066337334\n",
      "c = 0\n",
      "d1 = 0.26323218066337334\n",
      "c1 = 0\n",
      "d = 0.2633498000470478\n",
      "c = 2\n",
      "d1 = 0.2635262291225594\n",
      "c1 = 0\n",
      "d = 0.26329099035521053\n",
      "c = 0\n",
      "d1 = 0.26329099035521053\n",
      "c1 = 0\n",
      "d = 0.26329099035521053\n",
      "c = 5\n",
      "d1 = 0.2646436132674665\n",
      "c1 = 0\n",
      "d = 0.2642907551164432\n",
      "c = 5\n",
      "d1 = 0.26523171018583863\n",
      "c1 = 0\n",
      "d = 0.265055281110327\n",
      "c = 0\n",
      "d1 = 0.265055281110327\n",
      "c1 = 0\n",
      "d = 0.2627028934368384\n",
      "c = 1\n",
      "d1 = 0.26299694189602446\n",
      "c1 = 0\n",
      "d = 0.26523171018583863\n",
      "c = 0\n",
      "d1 = 0.26523171018583863\n",
      "c1 = 0\n",
      "d = 0.2646436132674665\n",
      "c = 26\n",
      "d1 = 0.27111267936956013\n",
      "c1 = 0\n",
      "d = 0.26534932956951307\n",
      "c = 6\n",
      "d1 = 0.26940719830628085\n",
      "c1 = 0\n"
     ]
    },
    {
     "data": {
      "text/plain": [
       "0.26537285344624795"
      ]
     },
     "execution_count": 365,
     "metadata": {},
     "output_type": "execute_result"
    }
   ],
   "source": [
    "using ProgressMeter\n",
    "callback(t,ms) = nothing;#println(\"$t $(ms.belief[1:4])\")\n",
    "\n",
    "nsamples = 10\n",
    "ms = maxsum(H,  1 .- 2y .+ 1e-8*randn(N));\n",
    "\n",
    "# the mapping is (0,1)=>(1,-1)\n",
    "dist = map(1:nsamples) do i\n",
    "    y = rand((0,1), N)\n",
    "    ms.M .= 0\n",
    "    ms.efield .= 1 .- 2y .+ 1e-8*randn(N)\n",
    "    iteration!(ms; maxiter=2000, γ=1e-3, callback=callback)\n",
    "    x = Int.(ms.belief .< 0)\n",
    "    c = sum(ms.H'x .% 2)\n",
    "    d = sum(x .⊻ y)/N\n",
    "    @show d c\n",
    "    x1 = B*x[indep] .% 2; d1 = sum(x1 .⊻ y)/N; c1 = sum(ms.H'x1 .% 2); @show d1 c1 \n",
    "    d1\n",
    "end\n",
    "sum(dist)/nsamples"
   ]
  },
  {
   "cell_type": "code",
   "execution_count": 366,
   "metadata": {},
   "outputs": [
    {
     "data": {
      "text/plain": [
       "(0.20418725005880967, 0.26537285344624795)"
      ]
     },
     "execution_count": 366,
     "metadata": {},
     "output_type": "execute_result"
    }
   ],
   "source": [
    "1-M/N,sum(dist)/nsamples"
   ]
  },
  {
   "cell_type": "code",
   "execution_count": 283,
   "metadata": {},
   "outputs": [
    {
     "data": {
      "text/plain": [
       "true"
      ]
     },
     "execution_count": 283,
     "metadata": {},
     "output_type": "execute_result"
    }
   ],
   "source": [
    "x=[1:10;]; f=(x .% 2 .== 1);x[findall(f)]==x[f]"
   ]
  },
  {
   "cell_type": "code",
   "execution_count": 52,
   "metadata": {},
   "outputs": [
    {
     "name": "stderr",
     "output_type": "stream",
     "text": [
      "\u001b[32mTrial 1/1 100%|█████████████████████████████████████████| Time: 0:00:01\u001b[39m\n"
     ]
    },
    {
     "name": "stdout",
     "output_type": "stream",
     "text": [
      "dist = 0.24287749287749288\n",
      "check = 1\n",
      "avg_dist = 0.4309116809116809\n"
     ]
    },
    {
     "name": "stderr",
     "output_type": "stream",
     "text": [
      "\u001b[32mTrial 1/1 100%|█████████████████████████████████████████| Time: 0:00:01\u001b[39m\n"
     ]
    },
    {
     "name": "stdout",
     "output_type": "stream",
     "text": [
      "dist = 0.24786324786324787\n",
      "check = 1\n",
      "avg_dist = 0.4309116809116809\n"
     ]
    },
    {
     "name": "stderr",
     "output_type": "stream",
     "text": [
      "\u001b[32mTrial 1/1 100%|█████████████████████████████████████████| Time: 0:00:01\u001b[39m\n"
     ]
    },
    {
     "name": "stdout",
     "output_type": "stream",
     "text": [
      "dist = 0.25427350427350426\n",
      "check = 1\n",
      "avg_dist = 0.4537037037037037\n"
     ]
    },
    {
     "name": "stderr",
     "output_type": "stream",
     "text": [
      "\u001b[32mTrial 1/1 100%|█████████████████████████████████████████| Time: 0:00:01\u001b[39m\n"
     ]
    },
    {
     "name": "stdout",
     "output_type": "stream",
     "text": [
      "dist = 0.26495726495726496\n",
      "check = 5\n",
      "avg_dist = 0.4565527065527066\n"
     ]
    },
    {
     "name": "stderr",
     "output_type": "stream",
     "text": [
      "\u001b[32mTrial 1/1 100%|█████████████████████████████████████████| Time: 0:00:01\u001b[39m\n"
     ]
    },
    {
     "name": "stdout",
     "output_type": "stream",
     "text": [
      "dist = 0.2378917378917379\n",
      "check = 1\n",
      "avg_dist = 0.42592592592592593\n"
     ]
    },
    {
     "name": "stderr",
     "output_type": "stream",
     "text": [
      "\u001b[32mTrial 1/1 100%|█████████████████████████████████████████| Time: 0:00:01\u001b[39m\n"
     ]
    },
    {
     "name": "stdout",
     "output_type": "stream",
     "text": [
      "dist = 0.26851851851851855\n",
      "check = 4\n",
      "avg_dist = 0.4423076923076923\n"
     ]
    },
    {
     "name": "stderr",
     "output_type": "stream",
     "text": [
      "\u001b[32mTrial 1/1 100%|█████████████████████████████████████████| Time: 0:00:01\u001b[39m\n"
     ]
    },
    {
     "name": "stdout",
     "output_type": "stream",
     "text": [
      "dist = 0.245014245014245\n",
      "check = 6\n",
      "avg_dist = 0.4458689458689459\n",
      "dist = 0.24715099715099714\n",
      "check = 0\n",
      "avg_dist = 0.24715099715099714\n"
     ]
    },
    {
     "name": "stderr",
     "output_type": "stream",
     "text": [
      "\u001b[32mTrial 1/1 100%|█████████████████████████████████████████| Time: 0:00:01\u001b[39m\n"
     ]
    },
    {
     "name": "stdout",
     "output_type": "stream",
     "text": [
      "dist = 0.25427350427350426\n",
      "check = 2\n",
      "avg_dist = 0.44515669515669515\n",
      "dist = 0.24857549857549857\n",
      "check = 0\n",
      "avg_dist = 0.24857549857549857\n"
     ]
    },
    {
     "data": {
      "text/plain": [
       "10-element Vector{Float64}:\n",
       " 0.24287749287749288\n",
       " 0.24786324786324787\n",
       " 0.25427350427350426\n",
       " 0.26495726495726496\n",
       " 0.2378917378917379\n",
       " 0.26851851851851855\n",
       " 0.245014245014245\n",
       " 0.24715099715099714\n",
       " 0.25427350427350426\n",
       " 0.24857549857549857"
      ]
     },
     "execution_count": 52,
     "metadata": {},
     "output_type": "execute_result"
    }
   ],
   "source": [
    "dist = map(1:10) do i\n",
    "    Random.seed!(i)\n",
    "    \n",
    "    y = rand((0,1), N)\n",
    "\n",
    "    lm = LossyModelGF2(fg, zeros(N), Inf, 1.0, y)\n",
    "    \n",
    "    function checker()\n",
    "        v = (B*((fg.fields .< 0)[indep])) .% 2;\n",
    "        dist = sum(v .⊻ y)/N\n",
    "        check = sum(H*(fg.fields .< 0) .% 2)\n",
    "        check, dist\n",
    "    end\n",
    "\n",
    "    independent = falses(N)\n",
    "    independent[indep] .= true\n",
    "    res_MS = solve!(lm, ms, randseed=1, verbose=true, showprogress=true, \n",
    "        independent=independent, basis = B)\n",
    "#    res_MS = solve!(lm, ms, randseed=1, verbose=true, showprogress=true)\n",
    "    avg_dist = res_MS.distortion \n",
    "    check, dist = checker()\n",
    "    @show dist check avg_dist\n",
    "    dist\n",
    "end"
   ]
  },
  {
   "cell_type": "code",
   "execution_count": 53,
   "metadata": {},
   "outputs": [
    {
     "data": {
      "text/plain": [
       "(0.24002849002849003, 0.2511396011396011)"
      ]
     },
     "execution_count": 53,
     "metadata": {},
     "output_type": "execute_result"
    }
   ],
   "source": [
    "dev = sqrt(sum(dist.^2)/length(dist)-(sum(dist)/length(dist))^2)/sqrt(length(dist))\n",
    "1-M/N, sum(dist)/length(dist)"
   ]
  },
  {
   "cell_type": "code",
   "execution_count": 31,
   "metadata": {},
   "outputs": [
    {
     "data": {
      "text/plain": [
       "(0.24002849002849003, 0.31868626274745)"
      ]
     },
     "execution_count": 31,
     "metadata": {},
     "output_type": "execute_result"
    }
   ],
   "source": [
    "1-M/N, 0.318686262747450"
   ]
  },
  {
   "cell_type": "code",
   "execution_count": 102,
   "metadata": {},
   "outputs": [
    {
     "data": {
      "text/plain": [
       "1"
      ]
     },
     "execution_count": 102,
     "metadata": {},
     "output_type": "execute_result"
    }
   ],
   "source": [
    "sum(H*(fg.fields .< 0) .% 2)"
   ]
  },
  {
   "cell_type": "code",
   "execution_count": 70,
   "metadata": {},
   "outputs": [
    {
     "data": {
      "text/plain": [
       "0.2167393675027263"
      ]
     },
     "execution_count": 70,
     "metadata": {},
     "output_type": "execute_result"
    }
   ],
   "source": [
    "cw = fg.fields .< 0;\n",
    "dist = sum(cw .!= y)/N"
   ]
  },
  {
   "cell_type": "code",
   "execution_count": 71,
   "metadata": {},
   "outputs": [
    {
     "data": {
      "text/plain": [
       "(0.30552526354053067, 0.2167393675027263)"
      ]
     },
     "execution_count": 71,
     "metadata": {},
     "output_type": "execute_result"
    }
   ],
   "source": [
    "1-M/N, dist"
   ]
  },
  {
   "cell_type": "code",
   "execution_count": 707,
   "metadata": {},
   "outputs": [
    {
     "data": {
      "text/plain": [
       "(\n",
       "⣿⣿⣿⣿⣿⣿⣿⣿⣿⣿⣿⣿⣿⣿⣿⡇\n",
       "⣿⣿⣿⣿⣿⣿⣿⣿⣿⣿⣿⣿⣿⣿⣿⡇\n",
       "⣿⣿⣿⣿⣿⣿⣿⣿⣿⣿⣿⣿⣿⣿⣿⡇\n",
       "⣿⣿⣿⣿⣿⣿⣿⣿⣿⣿⣿⣿⣿⣿⣿⡇\n",
       "⣿⣿⣿⣿⣿⣿⣿⣿⣿⣿⣿⣿⣿⣿⣿⡇\n",
       "⣿⣿⣿⣿⣿⣿⣿⣿⣿⣿⣿⣿⣿⣿⣿⡇\n",
       "⣿⣿⣿⣿⣿⣿⣿⣿⣿⣿⣿⣿⣿⣿⣿⡇\n",
       "⣿⣿⣿⣿⣿⣿⣿⣿⣿⣿⣿⣿⣿⣿⣿⡇\n",
       "⣿⣿⣿⣿⣿⣿⣿⣿⣿⣿⣿⣿⣿⣿⣿⡇\n",
       "⣿⣿⣿⣿⣿⣿⣿⣿⣿⣿⣿⣿⣿⣿⣿⡇\n",
       "⣿⣿⣿⣿⣿⣿⣿⣿⣿⣿⣿⣿⣿⣿⣿⡇\n",
       "⣿⣿⣿⣿⣿⣿⣿⣿⣿⣿⣿⣿⣿⣿⣿⡇\n",
       "⣿⣿⣿⣿⣿⣿⣿⣿⣿⣿⣿⣿⣿⣿⣿⡇\n",
       "⣿⣿⣿⣿⣿⣿⣿⣿⣿⣿⣿⣿⣿⣿⣿⡇\n",
       "⣿⣿⣿⣿⣿⣿⣿⣿⣿⣿⣿⣿⣿⣿⣿⡇\n",
       "⣿⣿⣿⣿⣿⣿⣿⣿⣿⣿⣿⣿⣿⣿⣿⡇\n",
       "⣿⣿⣿⣿⣿⣿⣿⣿⣿⣿⣿⣿⣿⣿⣿⡇\n",
       "⣿⣿⣿⣿⣿⣿⣿⣿⣿⣿⣿⣿⣿⣿⣿⡇\n",
       "⣿⣿⣿⣿⣿⣿⣿⣿⣿⣿⣿⣿⣿⣿⣿⡇\n",
       "⣿⣿⣿⣿⣿⣿⣿⣿⣿⣿⣿⣿⣿⣿⣿⡇\n",
       "⣿⣿⣿⣿⣿⣿⣿⣿⣿⣿⣿⣿⣿⣿⣿⡇\n",
       "⣽⣿⣿⣿⣿⣿⣿⣿⣿⣿⣿⣿⣿⣿⣿⡇\n",
       "⣿⣿⣿⣿⣿⣿⣿⣿⣿⣿⣿⣿⣿⣿⣿⡇\n",
       "⣛⣿⣿⣿⣿⣿⣿⣿⣿⣿⣿⣿⣿⣿⣿⡇\n",
       "⠛⣽⣿⣷⣿⣿⣿⣿⣿⣿⣿⣿⣿⣿⣿⡇\n",
       "⢬⢿⣿⣿⢿⢿⣿⣿⣿⣿⣿⣿⣿⣿⣿⡇, [1305, 5928, 239, 2177, 2836, 2337, 3619, 6060, 943, 9471  …  1620, 10099, 3460, 10249, 7536, 10732, 3862, 5283, 2205, 6647])"
      ]
     },
     "execution_count": 707,
     "metadata": {},
     "output_type": "execute_result"
    }
   ],
   "source": [
    "B,indep=findbasis(H)"
   ]
  },
  {
   "cell_type": "code",
   "execution_count": 708,
   "metadata": {},
   "outputs": [
    {
     "data": {
      "text/plain": [
       "11004×3362 SparseMatrixCSC{Int64,Int64} with 71353 stored entries:\n",
       "⣿⣿⣿⣿⣿⣿⣿⣿⣿⣿⣿⣿⣿⣿⣿⡇\n",
       "⣿⣿⣿⣿⣿⣿⣿⣿⣿⣿⣿⣿⣿⣿⣿⡇\n",
       "⣿⣿⣿⣿⣿⣿⣿⣿⣿⣿⣿⣿⣿⣿⣿⡇\n",
       "⣿⣿⣿⣿⣿⣿⣿⣿⣿⣿⣿⣿⣿⣿⣿⡇\n",
       "⣿⣿⣿⣿⣿⣿⣿⣿⣿⣿⣿⣿⣿⣿⣿⡇\n",
       "⣿⣿⣿⣿⣿⣿⣿⣿⣿⣿⣿⣿⣿⣿⣿⡇\n",
       "⣿⣿⣿⣿⣿⣿⣿⣿⣿⣿⣿⣿⣿⣿⣿⡇\n",
       "⣿⣿⣿⣿⣿⣿⣿⣿⣿⣿⣿⣿⣿⣿⣿⡇\n",
       "⣿⣿⣿⣿⣿⣿⣿⣿⣿⣿⣿⣿⣿⣿⣿⡇\n",
       "⣿⣿⣿⣿⣿⣿⣿⣿⣿⣿⣿⣿⣿⣿⣿⡇\n",
       "⣿⣿⣿⣿⣿⣿⣿⣿⣿⣿⣿⣿⣿⣿⣿⡇\n",
       "⣿⣿⣿⣿⣿⣿⣿⣿⣿⣿⣿⣿⣿⣿⣿⡇\n",
       "⣿⣿⣿⣿⣿⣿⣿⣿⣿⣿⣿⣿⣿⣿⣿⡇\n",
       "⣿⣿⣿⣿⣿⣿⣿⣿⣿⣿⣿⣿⣿⣿⣿⡇\n",
       "⣿⣿⣿⣿⣿⣿⣿⣿⣿⣿⣿⣿⣿⣿⣿⡇\n",
       "⣿⣿⣿⣿⣿⣿⣿⣿⣿⣿⣿⣿⣿⣿⣿⡇\n",
       "⣿⣿⣿⣿⣿⣿⣿⣿⣿⣿⣿⣿⣿⣿⣿⡇\n",
       "⣿⣿⣿⣿⣿⣿⣿⣿⣿⣿⣿⣿⣿⣿⣿⡇\n",
       "⣿⣿⣿⣿⣿⣿⣿⣿⣿⣿⣿⣿⣿⣿⣿⡇\n",
       "⣿⣿⣿⣿⣿⣿⣿⣿⣿⣿⣿⣿⣿⣿⣿⡇\n",
       "⣿⣿⣿⣿⣿⣿⣿⣿⣿⣿⣿⣿⣿⣿⣿⡇\n",
       "⣽⣿⣿⣿⣿⣿⣿⣿⣿⣿⣿⣿⣿⣿⣿⡇\n",
       "⣿⣿⣿⣿⣿⣿⣿⣿⣿⣿⣿⣿⣿⣿⣿⡇\n",
       "⣛⣿⣿⣿⣿⣿⣿⣿⣿⣿⣿⣿⣿⣿⣿⡇\n",
       "⠛⣽⣿⣷⣿⣿⣿⣿⣿⣿⣿⣿⣿⣿⣿⡇\n",
       "⢬⢿⣿⣿⢿⢿⣿⣿⣿⣿⣿⣿⣿⣿⣿⡇"
      ]
     },
     "execution_count": 708,
     "metadata": {},
     "output_type": "execute_result"
    }
   ],
   "source": [
    "B"
   ]
  },
  {
   "cell_type": "code",
   "execution_count": 233,
   "metadata": {},
   "outputs": [
    {
     "data": {
      "text/plain": [
       "13469×17004 SparseMatrixCSC{Int64,Int64} with 40406 stored entries:\n",
       "⣿⣿⣿⣿⣿⣿⣿⣿⣿⣿⣿⣿⣿⣿⣿⣾⣿⣿⣿⣿⣿⣿⣿⣾⣿⣿⣿⣿⣿⣿⣿⣿⣿⣿⣿⣿⣿⣿⣿⣿\n",
       "⢽⣿⣿⣿⣿⣿⣿⣿⣿⣿⣿⣿⣿⣿⣿⣿⣿⣿⣿⣿⣿⣿⣿⣿⣿⣿⣿⣿⣿⣿⣿⣿⣿⣿⣿⣿⣿⣿⣿⣿\n",
       "⣿⣿⣿⣿⣿⣿⣿⣿⣿⣿⣿⣿⣿⣿⣿⣿⣿⣿⣿⣿⣿⣿⣿⣿⣿⣿⣿⣿⣿⣿⣿⣿⣿⣿⣿⣿⣿⣿⣿⣿\n",
       "⣿⣿⣿⣿⣿⣿⣿⣿⣿⣿⣿⣿⣿⣿⣿⣿⣿⣿⣿⣿⣿⣿⣿⣿⣿⣿⣿⣿⣿⣿⣿⣿⣿⣿⣿⣿⣿⣿⣿⣿\n",
       "⣿⣿⣿⣿⣿⣿⣿⣿⣿⣿⣿⣿⣿⣿⣿⣿⣿⣿⣿⣿⣿⣿⣿⣿⣿⣿⣿⣿⣿⣿⣿⣿⣿⣿⣿⣿⣿⣿⣿⣿\n",
       "⣿⣿⣿⣿⣿⣿⣿⣿⣿⣿⣿⣿⣿⣿⣿⣿⣿⣿⣿⣿⣿⣿⣿⣿⣿⣿⣿⣿⣿⣿⣿⣿⣿⣿⣿⣿⣿⣿⣿⣿\n",
       "⣿⣿⣿⣿⣿⣿⣿⣿⣿⣿⣿⣿⣿⣿⣿⣿⣿⣿⣿⣿⣿⣿⣿⣿⣿⣿⣿⣿⣿⣿⣿⣿⣿⣿⣿⣿⣿⣿⣿⡿\n",
       "⣿⣿⣿⣿⣿⣿⣿⣿⣿⣿⣿⣿⣿⣿⣿⣿⣿⣿⣿⣿⣿⣿⣿⣿⣿⣿⣿⣿⣿⣿⣿⣿⣿⣿⣿⣿⣿⣿⣿⣿\n",
       "⣿⣿⣿⣿⣿⣿⣿⣿⣿⣿⣿⣿⣿⣿⣿⣿⣿⣿⣿⣿⣿⣿⣿⣿⣿⣿⣿⣿⣿⣿⣿⣿⣿⣿⣿⣿⣿⣿⣿⣿\n",
       "⣿⣿⣿⣿⣿⣿⣿⣿⣿⣿⣿⣿⣿⣿⣿⣿⣿⣿⣿⣿⣿⣿⣿⣿⣿⣿⣿⣿⣿⣿⣿⣿⣿⣿⣿⣿⣿⣿⣿⣿\n",
       "⣿⣿⣿⣿⣿⣿⣿⣿⣿⣿⣿⣿⣿⣿⣿⣿⣿⣿⣿⣿⣿⣿⣿⣿⣿⣿⣿⣿⣿⣿⣿⣿⣿⣿⣿⣿⣿⣿⣿⣿\n",
       "⣿⣿⣿⣿⣿⣿⣿⣿⣿⣿⣿⣿⣿⣿⣿⣿⣿⣿⣿⣿⣿⣿⣿⣿⣿⣿⣿⣿⣿⣿⣿⣿⣿⣿⣿⣿⣿⣿⣿⣿\n",
       "⣿⣿⣿⣿⣿⣿⣯⣿⣿⣿⣿⣿⣿⣿⣿⣿⣿⣿⣿⣿⣿⣿⣿⣿⣿⣿⣿⣿⣿⣿⣿⣿⣿⣿⣿⣿⣿⣿⣿⣿\n",
       "⣿⣿⣿⣿⣿⣿⣿⣿⣿⣿⣿⣿⣿⣿⣿⣿⣿⣿⣿⣿⣿⣿⣿⣿⣿⣿⣿⣿⣿⣿⣿⣿⣿⣿⣿⣿⣿⣿⣿⣿\n",
       "⣿⣿⣿⣿⣿⣿⣿⣿⣿⣿⣿⣿⣿⣿⣿⣿⣿⣿⣿⣿⣿⣿⣿⣿⣿⣿⣿⣿⣿⣿⣿⣿⣿⣿⣿⣿⣿⣿⣿⣿\n",
       "⠿⠿⠿⠿⠻⠿⠿⠿⠿⠿⠿⠿⠿⠿⠿⠿⠿⠿⠿⠿⠿⠿⠿⠿⠿⠿⠿⠿⠿⠿⠿⠿⠿⠿⠿⠿⠿⠿⠿⠿"
      ]
     },
     "execution_count": 233,
     "metadata": {},
     "output_type": "execute_result"
    }
   ],
   "source": [
    "H .= 0"
   ]
  },
  {
   "cell_type": "code",
   "execution_count": 540,
   "metadata": {},
   "outputs": [
    {
     "data": {
      "text/plain": [
       "true"
      ]
     },
     "execution_count": 540,
     "metadata": {},
     "output_type": "execute_result"
    }
   ],
   "source": [
    "isuppertriang(Hnew)"
   ]
  },
  {
   "cell_type": "code",
   "execution_count": 506,
   "metadata": {},
   "outputs": [
    {
     "ename": "LoadError",
     "evalue": "AssertionError: isuppertriang(T)",
     "output_type": "error",
     "traceback": [
      "AssertionError: isuppertriang(T)",
      "",
      "Stacktrace:",
      " [1] ut2diagGF2!(T::SparseMatrixCSC{Int64,Int64})",
      "   @ Main ./In[503]:4",
      " [2] findbasis(H::SparseMatrixCSC{Int64,Int64})",
      "   @ Main ./In[504]:4",
      " [3] top-level scope",
      "   @ In[506]:1",
      " [4] eval",
      "   @ ./boot.jl:340 [inlined]",
      " [5] include_string(mapexpr::typeof(REPL.softscope), mod::Module, code::String, filename::String)",
      "   @ Base ./loading.jl:1103"
     ]
    }
   ],
   "source": [
    "findbasis(H)"
   ]
  },
  {
   "cell_type": "code",
   "execution_count": 521,
   "metadata": {},
   "outputs": [
    {
     "data": {
      "text/plain": [
       "7642×11004 SparseMatrixCSC{Int64,Int64} with 22925 stored entries:\n",
       "⠙⢾⣬⣐⢄⡖⢐⡌⣄⢌⡥⢊⢹⡀⣒⢂⠀⠘⠈⠀⢒⣰⢠⢊⢘⣎⠕⣸⡰⣀⡔⣢⠠⠥⠘⡀⢒⡲⡀⡠\n",
       "⠀⠀⠙⢮⡓⠦⣇⠀⠁⣦⠨⣕⠨⢞⡏⢈⣤⣄⢅⠀⠼⡣⡇⠀⠰⢊⠋⢼⡄⠄⡄⠘⣳⢋⠇⠺⢤⠡⠄⣉\n",
       "⠀⠀⠀⠀⠙⢦⡈⠙⠾⣦⢨⡤⠨⠮⢈⠗⣊⢁⢁⡐⣣⠦⢐⢲⡥⠌⣋⠺⣧⠘⡄⣪⠐⢕⠋⠦⡠⠄⠫⡤\n",
       "⠀⠀⠀⠀⠀⠀⠙⢦⡀⠈⠙⠶⣥⢪⠆⠠⡝⢒⠱⠅⣨⡲⠠⠈⢏⠉⣤⠁⣿⣯⣍⠍⢄⣺⣄⠪⡃⣁⠔⡂\n",
       "⠀⠀⠀⠀⠀⠀⠀⠀⠙⢦⡀⠀⠈⠙⢧⣆⣐⡯⣼⡪⡴⠛⢒⡼⠂⡟⡠⠆⢻⣷⣮⡛⡄⠕⠈⢇⠑⠴⡆⢇\n",
       "⠀⠀⠀⠀⠀⠀⠀⠀⠀⠀⠙⢦⡀⠀⠀⠈⠳⣾⢄⢊⡘⢱⡚⡥⣠⣉⢽⠁⠸⣿⣿⣆⢒⢆⢿⡕⠧⡵⡢⢦\n",
       "⠀⠀⠀⠀⠀⠀⠀⠀⠀⠀⠀⠀⠙⢦⡀⠀⠀⠈⠙⢧⡍⡲⠮⡊⠂⣳⣱⠩⠀⢿⣿⣿⣮⠱⡊⡎⠨⡀⡡⠈\n",
       "⠀⠀⠀⠀⠀⠀⠀⠀⠀⠀⠀⠀⠀⠀⠙⢦⡀⠀⠀⠀⠙⢷⣵⢵⢓⢚⠓⣇⠀⠈⣿⣿⣿⣯⠘⠶⠕⠅⢤⠀\n",
       "⠀⠀⠀⠀⠀⠀⠀⠀⠀⠀⠀⠀⠀⠀⠀⠀⠙⢦⡀⠀⠀⠀⠙⣇⠜⡱⠐⣂⠀⠀⠘⣿⣿⣿⣿⣥⠧⡮⢜⡁\n",
       "⠀⠀⠀⠀⠀⠀⠀⠀⠀⠀⠀⠀⠀⠀⠀⠀⠀⠀⠙⢦⡀⠀⠀⠈⢻⣥⣜⡆⠀⠀⠀⠘⢿⣿⣿⣿⣝⣱⢼⣄\n",
       "⠀⠀⠀⠀⠀⠀⠀⠀⠀⠀⠀⠀⠀⠀⠀⠀⠀⠀⠀⠀⠙⢦⡀⠀⠀⠹⡼⠧⠀⠀⠀⠀⠈⢿⣿⣿⣿⣶⣅⣲\n",
       "⠀⠀⠀⠀⠀⠀⠀⠀⠀⠀⠀⠀⠀⠀⠀⠀⠀⠀⠀⠀⠀⠀⠙⢦⡀⠀⠹⡖⠀⠀⠀⠀⠀⠀⠙⣿⣿⣿⣧⠼\n",
       "⠀⠀⠀⠀⠀⠀⠀⠀⠀⠀⠀⠀⠀⠀⠀⠀⠀⠀⠀⠀⠀⠀⠀⠀⠙⢦⡀⢯⠀⠀⠀⠀⠀⠀⠀⠈⠻⣿⣿⣿\n",
       "⠀⠀⠀⠀⠀⠀⠀⠀⠀⠀⠀⠀⠀⠀⠀⠀⠀⠀⠀⠀⠀⠀⠀⠀⠀⠀⠙⠾⠀⠀⠀⠀⠀⠀⠀⠀⠀⠈⠙⠿"
      ]
     },
     "execution_count": 521,
     "metadata": {},
     "output_type": "execute_result"
    }
   ],
   "source": [
    "    rowperm, colperm = leaf_removal(H)\n",
    "    Hnew = H[rowperm, colperm]\n"
   ]
  },
  {
   "cell_type": "code",
   "execution_count": 525,
   "metadata": {},
   "outputs": [
    {
     "data": {
      "text/plain": [
       "false"
      ]
     },
     "execution_count": 525,
     "metadata": {},
     "output_type": "execute_result"
    }
   ],
   "source": [
    "isuppertriang(Hnew)"
   ]
  },
  {
   "cell_type": "code",
   "execution_count": 523,
   "metadata": {},
   "outputs": [
    {
     "data": {
      "text/plain": [
       "7642×11004 SparseMatrixCSC{Int64,Int64} with 22925 stored entries:\n",
       "⠙⢾⣬⣐⢄⡖⢐⡌⣄⢌⡥⢊⢹⡀⣒⢂⠀⠘⠈⠀⢒⣰⢠⢊⢘⣎⠕⣸⡰⣀⡔⣢⠠⠥⠘⡀⢒⡲⡀⡠\n",
       "⠀⠀⠙⢮⡓⠦⣇⠀⠁⣦⠨⣕⠨⢞⡏⢈⣤⣄⢅⠀⠼⡣⡇⠀⠰⢊⠋⢼⡄⠄⡄⠘⣳⢋⠇⠺⢤⠡⠄⣉\n",
       "⠀⠀⠀⠀⠙⢦⡈⠙⠾⣦⢨⡤⠨⠮⢈⠗⣊⢁⢁⡐⣣⠦⢐⢲⡥⠌⣋⠺⣧⠘⡄⣪⠐⢕⠋⠦⡠⠄⠫⡤\n",
       "⠀⠀⠀⠀⠀⠀⠙⢦⡀⠈⠙⠶⣥⢪⠆⠠⡝⢒⠱⠅⣨⡲⠠⠈⢏⠉⣤⠁⣿⣯⣍⠍⢄⣺⣄⠪⡃⣁⠔⡂\n",
       "⠀⠀⠀⠀⠀⠀⠀⠀⠙⢦⡀⠀⠈⠙⢧⣆⣐⡯⣼⡪⡴⠛⢒⡼⠂⡟⡠⠆⢻⣷⣮⡛⡄⠕⠈⢇⠑⠴⡆⢇\n",
       "⠀⠀⠀⠀⠀⠀⠀⠀⠀⠀⠙⢦⡀⠀⠀⠈⠳⣾⢄⢊⡘⢱⡚⡥⣠⣉⢽⠁⠸⣿⣿⣆⢒⢆⢿⡕⠧⡵⡢⢦\n",
       "⠀⠀⠀⠀⠀⠀⠀⠀⠀⠀⠀⠀⠙⢦⡀⠀⠀⠈⠙⢧⡍⡲⠮⡊⠂⣳⣱⠩⠀⢿⣿⣿⣮⠱⡊⡎⠨⡀⡡⠈\n",
       "⠀⠀⠀⠀⠀⠀⠀⠀⠀⠀⠀⠀⠀⠀⠙⢦⡀⠀⠀⠀⠙⢷⣵⢵⢓⢚⠓⣇⠀⠈⣿⣿⣿⣯⠘⠶⠕⠅⢤⠀\n",
       "⠀⠀⠀⠀⠀⠀⠀⠀⠀⠀⠀⠀⠀⠀⠀⠀⠙⢦⡀⠀⠀⠀⠙⣇⠜⡱⠐⣂⠀⠀⠘⣿⣿⣿⣿⣥⠧⡮⢜⡁\n",
       "⠀⠀⠀⠀⠀⠀⠀⠀⠀⠀⠀⠀⠀⠀⠀⠀⠀⠀⠙⢦⡀⠀⠀⠈⢻⣥⣜⡆⠀⠀⠀⠘⢿⣿⣿⣿⣝⣱⢼⣄\n",
       "⠀⠀⠀⠀⠀⠀⠀⠀⠀⠀⠀⠀⠀⠀⠀⠀⠀⠀⠀⠀⠙⢦⡀⠀⠀⠹⡼⠧⠀⠀⠀⠀⠈⢿⣿⣿⣿⣶⣅⣲\n",
       "⠀⠀⠀⠀⠀⠀⠀⠀⠀⠀⠀⠀⠀⠀⠀⠀⠀⠀⠀⠀⠀⠀⠙⢦⡀⠀⠹⡖⠀⠀⠀⠀⠀⠀⠙⣿⣿⣿⣧⠼\n",
       "⠀⠀⠀⠀⠀⠀⠀⠀⠀⠀⠀⠀⠀⠀⠀⠀⠀⠀⠀⠀⠀⠀⠀⠀⠙⢦⡀⢯⠀⠀⠀⠀⠀⠀⠀⠈⠻⣿⣿⣿\n",
       "⠀⠀⠀⠀⠀⠀⠀⠀⠀⠀⠀⠀⠀⠀⠀⠀⠀⠀⠀⠀⠀⠀⠀⠀⠀⠀⠙⠾⠀⠀⠀⠀⠀⠀⠀⠀⠀⠈⠙⠿"
      ]
     },
     "execution_count": 523,
     "metadata": {},
     "output_type": "execute_result"
    }
   ],
   "source": [
    "dropzeros!(Hnew)"
   ]
  },
  {
   "cell_type": "code",
   "execution_count": 531,
   "metadata": {},
   "outputs": [
    {
     "data": {
      "text/plain": [
       "7642×7642 SparseMatrixCSC{Int64,Int64} with 15740 stored entries:\n",
       "⠙⢷⢮⣐⠐⠀⡀⡐⠂⠔⡐⡀⠀⠠⢉⡀⠒⠈⡆⠀⠠⠄⠂⠀⠀⠌⠐⠀⠀⠔⠀⢐⢀⠠⠁⠸⡂⠡⠅⢀\n",
       "⠀⠀⠑⢌⠙⠦⣔⡂⠀⡍⠈⠢⢁⠀⠋⠰⢐⠀⠊⡡⡬⠆⠅⠀⠀⠐⠀⠀⠀⠆⠩⠐⡁⠈⠀⠐⡪⢡⠰⠐\n",
       "⠀⠀⠀⠀⠑⢄⠀⠙⠲⣅⡀⠀⢀⠳⠂⡂⡆⠀⠒⠨⠆⠀⡠⢒⣈⣀⠂⠄⠈⡈⢋⠱⠃⠀⠀⠑⠠⡀⡀⠡\n",
       "⠀⠀⠀⠀⠀⠀⠑⢄⠀⠀⠙⠲⣧⡠⠀⡄⡠⠀⣘⠪⠀⠩⡠⠂⠁⠀⢀⠀⠌⠂⢴⠀⠐⢐⢌⠠⡀⠐⠠⠀\n",
       "⠀⠀⠀⠀⠀⠀⠀⠀⠑⢄⠀⠀⠀⠙⠲⣬⣅⠂⠀⠤⢀⠁⠀⠮⡀⡁⢄⠨⠐⠐⠄⡀⠁⠈⢔⠑⠠⠔⠃⠄\n",
       "⠀⠀⠀⠀⠀⠀⠀⠀⠀⠀⠑⢄⠀⠀⠀⠀⠙⠺⣅⠘⠈⠀⠐⠔⠀⣀⠈⡈⢀⠪⠡⠐⠘⠀⡐⠤⣀⠜⢁⠀\n",
       "⠀⠀⠀⠀⠀⠀⠀⠀⠀⠀⠀⠀⠑⢄⠀⠀⠀⠀⠈⠙⢧⣐⡀⠐⡉⠠⡠⠆⣀⡰⠍⠁⢇⣔⠆⠂⡓⠀⠠⠆\n",
       "⠀⠀⠀⠀⠀⠀⠀⠀⠀⠀⠀⠀⠀⠀⠑⢄⠀⠀⠀⠀⠀⠈⠳⣍⣨⡐⠀⢡⠐⠰⠤⡄⡤⠂⠀⠐⠈⠊⠰⠄\n",
       "⠀⠀⠀⠀⠀⠀⠀⠀⠀⠀⠀⠀⠀⠀⠀⠀⠑⢄⠀⠀⠀⠀⠀⠀⠙⢦⣂⢄⠴⢀⠈⠐⡂⠊⡃⠶⠲⠐⠅⡀\n",
       "⠀⠀⠀⠀⠀⠀⠀⠀⠀⠀⠀⠀⠀⠀⠀⠀⠀⠀⠑⢄⠀⠀⠀⠀⠀⠀⠙⠳⣄⠅⢙⠰⠰⣐⠈⠀⠱⠈⣃⠅\n",
       "⠀⠀⠀⠀⠀⠀⠀⠀⠀⠀⠀⠀⠀⠀⠀⠀⠀⠀⠀⠀⠑⢄⠀⠀⠀⠀⠀⠀⠈⠳⣪⣐⢄⠠⣠⠄⡉⠵⠔⠄\n",
       "⠀⠀⠀⠀⠀⠀⠀⠀⠀⠀⠀⠀⠀⠀⠀⠀⠀⠀⠀⠀⠀⠀⠑⢄⠀⠀⠀⠀⠀⠀⠙⢮⡌⠵⠁⢴⠀⠄⠀⠓\n",
       "⠀⠀⠀⠀⠀⠀⠀⠀⠀⠀⠀⠀⠀⠀⠀⠀⠀⠀⠀⠀⠀⠀⠀⠀⠑⢄⠀⠀⠀⠀⠀⠀⠙⢦⡀⠌⡐⠁⠉⣀\n",
       "⠀⠀⠀⠀⠀⠀⠀⠀⠀⠀⠀⠀⠀⠀⠀⠀⠀⠀⠀⠀⠀⠀⠀⠀⠀⠀⠑⢄⠀⠀⠀⠀⠀⠀⠳⡎⠐⡀⢆⠀\n",
       "⠀⠀⠀⠀⠀⠀⠀⠀⠀⠀⠀⠀⠀⠀⠀⠀⠀⠀⠀⠀⠀⠀⠀⠀⠀⠀⠀⠀⠑⢄⠀⠀⠀⠀⠀⠙⣮⠪⡜⠅\n",
       "⠀⠀⠀⠀⠀⠀⠀⠀⠀⠀⠀⠀⠀⠀⠀⠀⠀⠀⠀⠀⠀⠀⠀⠀⠀⠀⠀⠀⠀⠀⠑⢄⠀⠀⠀⠀⠘⣗⠓⠤\n",
       "⠀⠀⠀⠀⠀⠀⠀⠀⠀⠀⠀⠀⠀⠀⠀⠀⠀⠀⠀⠀⠀⠀⠀⠀⠀⠀⠀⠀⠀⠀⠀⠀⠑⢄⠀⠀⠀⠘⣦⠴\n",
       "⠀⠀⠀⠀⠀⠀⠀⠀⠀⠀⠀⠀⠀⠀⠀⠀⠀⠀⠀⠀⠀⠀⠀⠀⠀⠀⠀⠀⠀⠀⠀⠀⠀⠀⠑⢄⠀⠀⠘⡧\n",
       "⠀⠀⠀⠀⠀⠀⠀⠀⠀⠀⠀⠀⠀⠀⠀⠀⠀⠀⠀⠀⠀⠀⠀⠀⠀⠀⠀⠀⠀⠀⠀⠀⠀⠀⠀⠀⠑⢄⠀⢳\n",
       "⠀⠀⠀⠀⠀⠀⠀⠀⠀⠀⠀⠀⠀⠀⠀⠀⠀⠀⠀⠀⠀⠀⠀⠀⠀⠀⠀⠀⠀⠀⠀⠀⠀⠀⠀⠀⠀⠀⠑⢼"
      ]
     },
     "execution_count": 531,
     "metadata": {},
     "output_type": "execute_result"
    }
   ],
   "source": [
    "Hnew[:,1:size(Hnew,1)]"
   ]
  },
  {
   "cell_type": "code",
   "execution_count": 536,
   "metadata": {
    "scrolled": true
   },
   "outputs": [],
   "source": [
    "for i=1:size(Hnew,1)\n",
    "    if rowvals(Hnew)[last(nzrange(Hnew,i))] > i\n",
    "        println(i, \" \", nzrange(Hnew,i))\n",
    "    end\n",
    "end"
   ]
  },
  {
   "cell_type": "code",
   "execution_count": 533,
   "metadata": {},
   "outputs": [
    {
     "data": {
      "text/plain": [
       "11×11 SparseMatrixCSC{Int64,Int64} with 11 stored entries:\n",
       " 1  ⋅  ⋅  ⋅  ⋅  ⋅  ⋅  ⋅  ⋅  ⋅  ⋅\n",
       " ⋅  1  ⋅  ⋅  ⋅  ⋅  ⋅  ⋅  ⋅  ⋅  ⋅\n",
       " ⋅  ⋅  1  ⋅  ⋅  ⋅  ⋅  ⋅  ⋅  ⋅  ⋅\n",
       " ⋅  ⋅  ⋅  1  ⋅  ⋅  ⋅  ⋅  ⋅  ⋅  ⋅\n",
       " ⋅  ⋅  ⋅  ⋅  1  ⋅  ⋅  ⋅  ⋅  ⋅  ⋅\n",
       " ⋅  ⋅  ⋅  ⋅  ⋅  1  ⋅  ⋅  ⋅  ⋅  ⋅\n",
       " ⋅  ⋅  ⋅  ⋅  ⋅  ⋅  1  ⋅  ⋅  ⋅  ⋅\n",
       " ⋅  ⋅  ⋅  ⋅  ⋅  ⋅  ⋅  1  ⋅  ⋅  ⋅\n",
       " ⋅  ⋅  ⋅  ⋅  ⋅  ⋅  ⋅  ⋅  1  ⋅  ⋅\n",
       " ⋅  ⋅  ⋅  ⋅  ⋅  ⋅  ⋅  ⋅  ⋅  1  ⋅\n",
       " ⋅  ⋅  ⋅  ⋅  ⋅  ⋅  ⋅  ⋅  ⋅  ⋅  1"
      ]
     },
     "execution_count": 533,
     "metadata": {},
     "output_type": "execute_result"
    }
   ],
   "source": [
    "Hnew[70:80,70:80]"
   ]
  },
  {
   "cell_type": "code",
   "execution_count": 519,
   "metadata": {},
   "outputs": [
    {
     "data": {
      "text/plain": [
       "1:1"
      ]
     },
     "execution_count": 519,
     "metadata": {},
     "output_type": "execute_result"
    }
   ],
   "source": [
    "nzrange(Hnew,1)"
   ]
  },
  {
   "cell_type": "code",
   "execution_count": 617,
   "metadata": {},
   "outputs": [
    {
     "data": {
      "text/plain": [
       "f (generic function with 1 method)"
      ]
     },
     "execution_count": 617,
     "metadata": {},
     "output_type": "execute_result"
    }
   ],
   "source": [
    "f(x)=(i=1;println(x))"
   ]
  },
  {
   "cell_type": "code",
   "execution_count": 619,
   "metadata": {},
   "outputs": [
    {
     "ename": "LoadError",
     "evalue": "UndefVarError: i not defined",
     "output_type": "error",
     "traceback": [
      "UndefVarError: i not defined",
      "",
      "Stacktrace:",
      " [1] top-level scope",
      "   @ In[619]:1",
      " [2] eval",
      "   @ ./boot.jl:340 [inlined]",
      " [3] include_string(mapexpr::typeof(REPL.softscope), mod::Module, code::String, filename::String)",
      "   @ Base ./loading.jl:1103"
     ]
    }
   ],
   "source": [
    "f(\"ciao $i\")"
   ]
  },
  {
   "cell_type": "code",
   "execution_count": 148,
   "metadata": {},
   "outputs": [
    {
     "name": "stdout",
     "output_type": "stream",
     "text": [
      "search: \u001b[0m\u001b[1mG\u001b[22m\u001b[0m\u001b[1ma\u001b[22m\u001b[0m\u001b[1ml\u001b[22m\u001b[0m\u001b[1mo\u001b[22m\u001b[0m\u001b[1mi\u001b[22m\u001b[0m\u001b[1ms\u001b[22m\u001b[0m\u001b[1mF\u001b[22m\u001b[0m\u001b[1mi\u001b[22m\u001b[0m\u001b[1me\u001b[22m\u001b[0m\u001b[1ml\u001b[22m\u001b[0m\u001b[1md\u001b[22m \u001b[0m\u001b[1mG\u001b[22m\u001b[0m\u001b[1ma\u001b[22m\u001b[0m\u001b[1ml\u001b[22m\u001b[0m\u001b[1mo\u001b[22m\u001b[0m\u001b[1mi\u001b[22m\u001b[0m\u001b[1ms\u001b[22m\u001b[0m\u001b[1mF\u001b[22m\u001b[0m\u001b[1mi\u001b[22m\u001b[0m\u001b[1me\u001b[22m\u001b[0m\u001b[1ml\u001b[22m\u001b[0m\u001b[1md\u001b[22ms @\u001b[0m\u001b[1mG\u001b[22m\u001b[0m\u001b[1ma\u001b[22m\u001b[0m\u001b[1ml\u001b[22m\u001b[0m\u001b[1mo\u001b[22m\u001b[0m\u001b[1mi\u001b[22m\u001b[0m\u001b[1ms\u001b[22m\u001b[0m\u001b[1mF\u001b[22m\u001b[0m\u001b[1mi\u001b[22m\u001b[0m\u001b[1me\u001b[22m\u001b[0m\u001b[1ml\u001b[22m\u001b[0m\u001b[1md\u001b[22m @\u001b[0m\u001b[1mG\u001b[22m\u001b[0m\u001b[1ma\u001b[22m\u001b[0m\u001b[1ml\u001b[22m\u001b[0m\u001b[1mo\u001b[22m\u001b[0m\u001b[1mi\u001b[22m\u001b[0m\u001b[1ms\u001b[22m\u001b[0m\u001b[1mF\u001b[22m\u001b[0m\u001b[1mi\u001b[22m\u001b[0m\u001b[1me\u001b[22m\u001b[0m\u001b[1ml\u001b[22m\u001b[0m\u001b[1md\u001b[22m!\n",
      "\n"
     ]
    },
    {
     "data": {
      "text/latex": [
       "\\begin{verbatim}\n",
       "const F = GaloisField(p)\n",
       "const F,α = GaloisField(p, :β => [1, 0, 1])\n",
       "const F,α = GaloisField(p, n, :β)\n",
       "\\end{verbatim}\n",
       "Return a type representing a finite field.\n",
       "\n",
       "The single-argument signature returns the finite field $ℤ/pℤ$.\n",
       "\n",
       "The two-arguments signature returns an algebraic extension of that field, with minimum polynomial given by the second argument: a dense representation of the univariate, monic polynomial, with ascending degree.\n",
       "\n",
       "The three-arguments signature returns an algebraic extension of that field, with minimum polynomial equal to the \\href{https://en.wikipedia.org/wiki/Conway_polynomial_(finite_fields)}{Conway polynomial}  for $(p,n)$. The \\texttt{GaloisFields} package ships with a database of Conway  polynomials and will raise an error if it does not contain an entry for  $(p,n)$.\n",
       "\n",
       "Note that in the latter two cases, the variable name (e.g. β above) is part of the type. This lets you define identifications between isomorphic (sub)fields. For example, with the following definition\n",
       "\n",
       "\\begin{verbatim}\n",
       "const F = @GaloisField! 𝔽₂ β^2 + β + 1\n",
       "const G = @GaloisField! 𝔽₂ γ^2 + γ + 1\n",
       "\\end{verbatim}\n",
       "the fields $F$ and $G$ are isomorphic, but not canonically. We might define\n",
       "\n",
       "\\begin{verbatim}\n",
       "@GaloisFields.identify β => γ + 1\n",
       "@GaloisFields.identify γ => β + 1\n",
       "\\end{verbatim}\n",
       "to allow for conversions like\n",
       "\n",
       "\\begin{verbatim}\n",
       "G(β)\n",
       "convert(F, γ + 1)\n",
       "\\end{verbatim}\n",
       "In the Conway case, you do not have to define your own identifications, as the Conway polynomials satisfy compatibility relations that allow us to use certain distinguished inclusions between them.\n",
       "\n"
      ],
      "text/markdown": [
       "```\n",
       "const F = GaloisField(p)\n",
       "const F,α = GaloisField(p, :β => [1, 0, 1])\n",
       "const F,α = GaloisField(p, n, :β)\n",
       "```\n",
       "\n",
       "Return a type representing a finite field.\n",
       "\n",
       "The single-argument signature returns the finite field $ℤ/pℤ$.\n",
       "\n",
       "The two-arguments signature returns an algebraic extension of that field, with minimum polynomial given by the second argument: a dense representation of the univariate, monic polynomial, with ascending degree.\n",
       "\n",
       "The three-arguments signature returns an algebraic extension of that field, with minimum polynomial equal to the [Conway polynomial](https://en.wikipedia.org/wiki/Conway_polynomial_(finite_fields))  for $(p,n)$. The `GaloisFields` package ships with a database of Conway  polynomials and will raise an error if it does not contain an entry for  $(p,n)$.\n",
       "\n",
       "Note that in the latter two cases, the variable name (e.g. β above) is part of the type. This lets you define identifications between isomorphic (sub)fields. For example, with the following definition\n",
       "\n",
       "```\n",
       "const F = @GaloisField! 𝔽₂ β^2 + β + 1\n",
       "const G = @GaloisField! 𝔽₂ γ^2 + γ + 1\n",
       "```\n",
       "\n",
       "the fields $F$ and $G$ are isomorphic, but not canonically. We might define\n",
       "\n",
       "```\n",
       "@GaloisFields.identify β => γ + 1\n",
       "@GaloisFields.identify γ => β + 1\n",
       "```\n",
       "\n",
       "to allow for conversions like\n",
       "\n",
       "```\n",
       "G(β)\n",
       "convert(F, γ + 1)\n",
       "```\n",
       "\n",
       "In the Conway case, you do not have to define your own identifications, as the Conway polynomials satisfy compatibility relations that allow us to use certain distinguished inclusions between them.\n"
      ],
      "text/plain": [
       "\u001b[36m  const F = GaloisField(p)\u001b[39m\n",
       "\u001b[36m  const F,α = GaloisField(p, :β => [1, 0, 1])\u001b[39m\n",
       "\u001b[36m  const F,α = GaloisField(p, n, :β)\u001b[39m\n",
       "\n",
       "  Return a type representing a finite field.\n",
       "\n",
       "  The single-argument signature returns the finite field \u001b[35mℤ/pℤ\u001b[39m.\n",
       "\n",
       "  The two-arguments signature returns an algebraic extension of that field,\n",
       "  with minimum polynomial given by the second argument: a dense representation\n",
       "  of the univariate, monic polynomial, with ascending degree.\n",
       "\n",
       "  The three-arguments signature returns an algebraic extension of that field,\n",
       "  with minimum polynomial equal to the Conway polynomial\n",
       "  (https://en.wikipedia.org/wiki/Conway_polynomial_(finite_fields)) for \u001b[35m(p,n)\u001b[39m.\n",
       "  The \u001b[36mGaloisFields\u001b[39m package ships with a database of Conway polynomials and\n",
       "  will raise an error if it does not contain an entry for \u001b[35m(p,n)\u001b[39m.\n",
       "\n",
       "  Note that in the latter two cases, the variable name (e.g. β above) is part\n",
       "  of the type. This lets you define identifications between isomorphic\n",
       "  (sub)fields. For example, with the following definition\n",
       "\n",
       "\u001b[36m  const F = @GaloisField! 𝔽₂ β^2 + β + 1\u001b[39m\n",
       "\u001b[36m  const G = @GaloisField! 𝔽₂ γ^2 + γ + 1\u001b[39m\n",
       "\n",
       "  the fields \u001b[35mF\u001b[39m and \u001b[35mG\u001b[39m are isomorphic, but not canonically. We might define\n",
       "\n",
       "\u001b[36m  @GaloisFields.identify β => γ + 1\u001b[39m\n",
       "\u001b[36m  @GaloisFields.identify γ => β + 1\u001b[39m\n",
       "\n",
       "  to allow for conversions like\n",
       "\n",
       "\u001b[36m  G(β)\u001b[39m\n",
       "\u001b[36m  convert(F, γ + 1)\u001b[39m\n",
       "\n",
       "  In the Conway case, you do not have to define your own identifications, as\n",
       "  the Conway polynomials satisfy compatibility relations that allow us to use\n",
       "  certain distinguished inclusions between them."
      ]
     },
     "execution_count": 148,
     "metadata": {},
     "output_type": "execute_result"
    }
   ],
   "source": [
    "?GaloisField"
   ]
  },
  {
   "cell_type": "code",
   "execution_count": 335,
   "metadata": {},
   "outputs": [
    {
     "data": {
      "text/plain": [
       "10-element Vector{Vector{Float64}}:\n",
       " [0.7248512048074602, 0.5956281398569836]\n",
       " [0.3423616342729472, 0.30990956468641717]\n",
       " [0.2220817188124009, 0.0919372195820698]\n",
       " [0.43783398880046787, 0.47016092384227326]\n",
       " [0.791725980123458, 0.7052410433796314]\n",
       " [0.09217476498061083, 0.12725939866504188]\n",
       " [0.45281383084093174, 0.39122464103589816]\n",
       " [0.33806263297107253, 0.9542242098549534]\n",
       " [0.5664683799053358, 0.4337947502526993]\n",
       " [0.04083282329424409, 0.40240658284532693]"
      ]
     },
     "execution_count": 335,
     "metadata": {},
     "output_type": "execute_result"
    }
   ],
   "source": [
    "x=[rand(2) for i=1:10]"
   ]
  },
  {
   "cell_type": "code",
   "execution_count": 344,
   "metadata": {},
   "outputs": [
    {
     "data": {
      "text/plain": [
       "10-element Vector{Vector{Float64}}:\n",
       " [5.72485120480746, 5.595628139856983]\n",
       " [5.342361634272947, 5.309909564686417]\n",
       " [5.222081718812401, 5.09193721958207]\n",
       " [5.437833988800468, 5.470160923842274]\n",
       " [5.7917259801234575, 5.7052410433796314]\n",
       " [5.09217476498061, 5.127259398665042]\n",
       " [5.452813830840932, 5.391224641035898]\n",
       " [5.338062632971073, 5.954224209854953]\n",
       " [5.566468379905336, 5.4337947502527]\n",
       " [5.040832823294244, 5.402406582845327]"
      ]
     },
     "execution_count": 344,
     "metadata": {},
     "output_type": "execute_result"
    }
   ],
   "source": [
    "x .+= tuple([1,1])"
   ]
  },
  {
   "cell_type": "code",
   "execution_count": null,
   "metadata": {},
   "outputs": [],
   "source": []
  }
 ],
 "metadata": {
  "kernelspec": {
   "display_name": "Julia 1.6.0-DEV",
   "language": "julia",
   "name": "julia-1.6"
  },
  "language_info": {
   "file_extension": ".jl",
   "mimetype": "application/julia",
   "name": "julia",
   "version": "1.6.0"
  }
 },
 "nbformat": 4,
 "nbformat_minor": 4
}
